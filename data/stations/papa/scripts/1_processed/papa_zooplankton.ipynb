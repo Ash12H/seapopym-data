{
 "cells": [
  {
   "cell_type": "markdown",
   "metadata": {},
   "source": [
    "# Zooplankton data in hot\n"
   ]
  },
  {
   "cell_type": "code",
   "execution_count": 25,
   "metadata": {},
   "outputs": [],
   "source": [
    "import pandas as pd\n",
    "import xarray as xr\n",
    "import numpy as np\n",
    "import cf_xarray.units  # noqa: F401\n",
    "import pint_xarray  # noqa: F401\n",
    "import seaborn as sns\n",
    "import plotly.express as px\n",
    "\n",
    "pd.options.plotting.backend = \"plotly\""
   ]
  },
  {
   "cell_type": "markdown",
   "metadata": {},
   "source": [
    "## Load raw data\n",
    "\n",
    "---\n"
   ]
  },
  {
   "cell_type": "markdown",
   "metadata": {},
   "source": [
    "Observation data is zooplakton biomass dry weight in mg/m3 (wet weights for period 1850/1980) as described in the official technical report.\n"
   ]
  },
  {
   "cell_type": "code",
   "execution_count": 26,
   "metadata": {},
   "outputs": [
    {
     "name": "stdout",
     "output_type": "stream",
     "text": [
      "<class 'pandas.core.frame.DataFrame'>\n",
      "RangeIndex: 1077 entries, 0 to 1076\n",
      "Columns: 114 entries, Key to XXXX >> Remainder\n",
      "dtypes: float64(95), int64(9), object(10)\n",
      "memory usage: 959.3+ KB\n"
     ]
    }
   ],
   "source": [
    "raw_data = pd.read_csv(\"../../1_raw/papa_zooplankton.csv\", sep=\";\", decimal=\",\")\n",
    "raw_data.info()"
   ]
  },
  {
   "cell_type": "code",
   "execution_count": 27,
   "metadata": {},
   "outputs": [
    {
     "name": "stdout",
     "output_type": "stream",
     "text": [
      "<class 'pandas.core.frame.DataFrame'>\n",
      "RangeIndex: 1077 entries, 0 to 1076\n",
      "Data columns (total 8 columns):\n",
      " #   Column               Non-Null Count  Dtype         \n",
      "---  ------               --------------  -----         \n",
      " 0   time                 1077 non-null   datetime64[ns]\n",
      " 1   lat                  1077 non-null   float64       \n",
      " 2   lon                  1077 non-null   float64       \n",
      " 3   Twilight             1077 non-null   category      \n",
      " 4   Mesh_Size(um)        1077 non-null   float64       \n",
      " 5   DEPTH_STRT           1077 non-null   float64       \n",
      " 6   DEPTH_END            1077 non-null   float64       \n",
      " 7   Volume Filtered(m3)  1077 non-null   float64       \n",
      "dtypes: category(1), datetime64[ns](1), float64(6)\n",
      "memory usage: 60.2 KB\n"
     ]
    }
   ],
   "source": [
    "raw_data[\"time\"] = pd.to_datetime(raw_data[\"Date\"], format=\"%d %m %Y\")\n",
    "index = raw_data[\n",
    "    [\n",
    "        \"time\",\n",
    "        \"lat\",\n",
    "        \"lon\",\n",
    "        \"Twilight\",\n",
    "        \"Mesh_Size(um)\",\n",
    "        \"DEPTH_STRT\",\n",
    "        \"DEPTH_END\",\n",
    "        \"Volume Filtered(m3)\",\n",
    "    ]\n",
    "]\n",
    "index = index.astype(\n",
    "    {\n",
    "        \"time\": \"datetime64[ns]\",\n",
    "        \"Twilight\": \"category\",\n",
    "        \"Mesh_Size(um)\": \"float64\",\n",
    "        \"DEPTH_STRT\": \"float64\",\n",
    "        \"DEPTH_END\": \"float64\",\n",
    "        \"Volume Filtered(m3)\": \"float64\",\n",
    "        \"lat\": \"float64\",\n",
    "        \"lon\": \"float64\",\n",
    "    }\n",
    ")\n",
    "index.info()"
   ]
  },
  {
   "cell_type": "code",
   "execution_count": 28,
   "metadata": {},
   "outputs": [
    {
     "data": {
      "text/html": [
       "<div>\n",
       "<style scoped>\n",
       "    .dataframe tbody tr th:only-of-type {\n",
       "        vertical-align: middle;\n",
       "    }\n",
       "\n",
       "    .dataframe tbody tr th {\n",
       "        vertical-align: top;\n",
       "    }\n",
       "\n",
       "    .dataframe thead th {\n",
       "        text-align: right;\n",
       "    }\n",
       "</style>\n",
       "<table border=\"1\" class=\"dataframe\">\n",
       "  <thead>\n",
       "    <tr style=\"text-align: right;\">\n",
       "      <th></th>\n",
       "      <th>ANNE:POLY: &gt;&gt; POLY larvae s1</th>\n",
       "      <th>ANNE:POLY: &gt;&gt; POLY s1</th>\n",
       "      <th>ANNE:POLY: &gt;&gt; POLY s2</th>\n",
       "      <th>ANNE:POLY: &gt;&gt; POLY s3</th>\n",
       "      <th>ARCR:: &gt;&gt; CIRRI s1</th>\n",
       "      <th>ARCR:: &gt;&gt; CRUST larvae s1</th>\n",
       "      <th>ARCR:AMPH:GAMM &gt;&gt; GAMM s1</th>\n",
       "      <th>ARCR:AMPH:GAMM &gt;&gt; GAMM s2</th>\n",
       "      <th>ARCR:AMPH:GAMM &gt;&gt; GAMM s3</th>\n",
       "      <th>ARCR:AMPH:HYPE &gt;&gt; HYPER s1</th>\n",
       "      <th>...</th>\n",
       "      <th>UROC:THAL: &gt;&gt; DOLIO s2</th>\n",
       "      <th>UROC:THAL: &gt;&gt; DOLIO s3</th>\n",
       "      <th>UROC:THAL: &gt;&gt; SALP s1</th>\n",
       "      <th>UROC:THAL: &gt;&gt; SALP s2</th>\n",
       "      <th>UROC:THAL: &gt;&gt; SALP s3</th>\n",
       "      <th>VERT:PISC: &gt;&gt; PISCES egg s1</th>\n",
       "      <th>VERT:PISC: &gt;&gt; PISCES s1</th>\n",
       "      <th>VERT:PISC: &gt;&gt; PISCES s2</th>\n",
       "      <th>VERT:PISC: &gt;&gt; PISCES s3</th>\n",
       "      <th>XXXX &gt;&gt; Remainder</th>\n",
       "    </tr>\n",
       "  </thead>\n",
       "  <tbody>\n",
       "    <tr>\n",
       "      <th>0</th>\n",
       "      <td>0.0</td>\n",
       "      <td>0.0</td>\n",
       "      <td>0.00000</td>\n",
       "      <td>0.00000</td>\n",
       "      <td>0.00000</td>\n",
       "      <td>0.0</td>\n",
       "      <td>0.0</td>\n",
       "      <td>0.00000</td>\n",
       "      <td>0.000</td>\n",
       "      <td>0.00000</td>\n",
       "      <td>...</td>\n",
       "      <td>0.00000</td>\n",
       "      <td>0.00000</td>\n",
       "      <td>0.0</td>\n",
       "      <td>0.00000</td>\n",
       "      <td>0.00000</td>\n",
       "      <td>0.0</td>\n",
       "      <td>0.00000</td>\n",
       "      <td>0.00000</td>\n",
       "      <td>0.07819</td>\n",
       "      <td>0.00000</td>\n",
       "    </tr>\n",
       "    <tr>\n",
       "      <th>1</th>\n",
       "      <td>0.0</td>\n",
       "      <td>0.0</td>\n",
       "      <td>0.00000</td>\n",
       "      <td>0.00000</td>\n",
       "      <td>0.00000</td>\n",
       "      <td>0.0</td>\n",
       "      <td>0.0</td>\n",
       "      <td>0.00000</td>\n",
       "      <td>0.000</td>\n",
       "      <td>0.00000</td>\n",
       "      <td>...</td>\n",
       "      <td>0.00000</td>\n",
       "      <td>0.00000</td>\n",
       "      <td>0.0</td>\n",
       "      <td>0.00000</td>\n",
       "      <td>0.00000</td>\n",
       "      <td>0.0</td>\n",
       "      <td>0.00000</td>\n",
       "      <td>0.00000</td>\n",
       "      <td>4.22832</td>\n",
       "      <td>0.00000</td>\n",
       "    </tr>\n",
       "    <tr>\n",
       "      <th>2</th>\n",
       "      <td>0.0</td>\n",
       "      <td>0.0</td>\n",
       "      <td>0.00000</td>\n",
       "      <td>0.00000</td>\n",
       "      <td>0.00000</td>\n",
       "      <td>0.0</td>\n",
       "      <td>0.0</td>\n",
       "      <td>0.05811</td>\n",
       "      <td>0.000</td>\n",
       "      <td>0.00000</td>\n",
       "      <td>...</td>\n",
       "      <td>0.00000</td>\n",
       "      <td>0.00000</td>\n",
       "      <td>0.0</td>\n",
       "      <td>0.00000</td>\n",
       "      <td>0.00000</td>\n",
       "      <td>0.0</td>\n",
       "      <td>0.00000</td>\n",
       "      <td>0.00000</td>\n",
       "      <td>0.00000</td>\n",
       "      <td>0.00000</td>\n",
       "    </tr>\n",
       "    <tr>\n",
       "      <th>3</th>\n",
       "      <td>0.0</td>\n",
       "      <td>0.0</td>\n",
       "      <td>0.00000</td>\n",
       "      <td>0.25838</td>\n",
       "      <td>0.00000</td>\n",
       "      <td>0.0</td>\n",
       "      <td>0.0</td>\n",
       "      <td>0.00000</td>\n",
       "      <td>0.000</td>\n",
       "      <td>0.00000</td>\n",
       "      <td>...</td>\n",
       "      <td>0.00000</td>\n",
       "      <td>0.00000</td>\n",
       "      <td>0.0</td>\n",
       "      <td>0.00000</td>\n",
       "      <td>0.00000</td>\n",
       "      <td>0.0</td>\n",
       "      <td>0.00000</td>\n",
       "      <td>0.94146</td>\n",
       "      <td>0.00000</td>\n",
       "      <td>0.00000</td>\n",
       "    </tr>\n",
       "    <tr>\n",
       "      <th>4</th>\n",
       "      <td>0.0</td>\n",
       "      <td>0.0</td>\n",
       "      <td>0.00000</td>\n",
       "      <td>0.00000</td>\n",
       "      <td>0.00000</td>\n",
       "      <td>0.0</td>\n",
       "      <td>0.0</td>\n",
       "      <td>0.18938</td>\n",
       "      <td>0.000</td>\n",
       "      <td>0.00000</td>\n",
       "      <td>...</td>\n",
       "      <td>0.00000</td>\n",
       "      <td>0.00000</td>\n",
       "      <td>0.0</td>\n",
       "      <td>0.00000</td>\n",
       "      <td>0.00000</td>\n",
       "      <td>0.0</td>\n",
       "      <td>0.00000</td>\n",
       "      <td>0.33458</td>\n",
       "      <td>0.00000</td>\n",
       "      <td>0.00000</td>\n",
       "    </tr>\n",
       "    <tr>\n",
       "      <th>...</th>\n",
       "      <td>...</td>\n",
       "      <td>...</td>\n",
       "      <td>...</td>\n",
       "      <td>...</td>\n",
       "      <td>...</td>\n",
       "      <td>...</td>\n",
       "      <td>...</td>\n",
       "      <td>...</td>\n",
       "      <td>...</td>\n",
       "      <td>...</td>\n",
       "      <td>...</td>\n",
       "      <td>...</td>\n",
       "      <td>...</td>\n",
       "      <td>...</td>\n",
       "      <td>...</td>\n",
       "      <td>...</td>\n",
       "      <td>...</td>\n",
       "      <td>...</td>\n",
       "      <td>...</td>\n",
       "      <td>...</td>\n",
       "      <td>...</td>\n",
       "    </tr>\n",
       "    <tr>\n",
       "      <th>1072</th>\n",
       "      <td>0.0</td>\n",
       "      <td>0.0</td>\n",
       "      <td>0.00568</td>\n",
       "      <td>0.00000</td>\n",
       "      <td>0.01070</td>\n",
       "      <td>0.0</td>\n",
       "      <td>0.0</td>\n",
       "      <td>0.00000</td>\n",
       "      <td>0.000</td>\n",
       "      <td>0.19212</td>\n",
       "      <td>...</td>\n",
       "      <td>0.01070</td>\n",
       "      <td>0.00000</td>\n",
       "      <td>0.0</td>\n",
       "      <td>0.00000</td>\n",
       "      <td>0.00000</td>\n",
       "      <td>0.0</td>\n",
       "      <td>0.00000</td>\n",
       "      <td>0.24398</td>\n",
       "      <td>1.27507</td>\n",
       "      <td>0.00000</td>\n",
       "    </tr>\n",
       "    <tr>\n",
       "      <th>1073</th>\n",
       "      <td>0.0</td>\n",
       "      <td>0.0</td>\n",
       "      <td>0.00000</td>\n",
       "      <td>0.05045</td>\n",
       "      <td>0.00000</td>\n",
       "      <td>0.0</td>\n",
       "      <td>0.0</td>\n",
       "      <td>0.00000</td>\n",
       "      <td>0.000</td>\n",
       "      <td>0.90018</td>\n",
       "      <td>...</td>\n",
       "      <td>0.00000</td>\n",
       "      <td>0.00000</td>\n",
       "      <td>0.0</td>\n",
       "      <td>0.00000</td>\n",
       "      <td>0.13353</td>\n",
       "      <td>0.0</td>\n",
       "      <td>0.00000</td>\n",
       "      <td>0.00000</td>\n",
       "      <td>0.00000</td>\n",
       "      <td>0.00000</td>\n",
       "    </tr>\n",
       "    <tr>\n",
       "      <th>1074</th>\n",
       "      <td>0.0</td>\n",
       "      <td>0.0</td>\n",
       "      <td>0.04762</td>\n",
       "      <td>0.41514</td>\n",
       "      <td>0.00000</td>\n",
       "      <td>0.0</td>\n",
       "      <td>0.0</td>\n",
       "      <td>0.00000</td>\n",
       "      <td>0.087</td>\n",
       "      <td>0.00000</td>\n",
       "      <td>...</td>\n",
       "      <td>4.41514</td>\n",
       "      <td>1.53846</td>\n",
       "      <td>0.0</td>\n",
       "      <td>0.00000</td>\n",
       "      <td>0.00000</td>\n",
       "      <td>0.0</td>\n",
       "      <td>0.02365</td>\n",
       "      <td>0.27778</td>\n",
       "      <td>3.73779</td>\n",
       "      <td>0.00000</td>\n",
       "    </tr>\n",
       "    <tr>\n",
       "      <th>1075</th>\n",
       "      <td>0.0</td>\n",
       "      <td>0.0</td>\n",
       "      <td>0.00000</td>\n",
       "      <td>0.00000</td>\n",
       "      <td>0.00000</td>\n",
       "      <td>0.0</td>\n",
       "      <td>0.0</td>\n",
       "      <td>0.00000</td>\n",
       "      <td>0.000</td>\n",
       "      <td>0.12242</td>\n",
       "      <td>...</td>\n",
       "      <td>0.00000</td>\n",
       "      <td>0.00000</td>\n",
       "      <td>0.0</td>\n",
       "      <td>0.00000</td>\n",
       "      <td>0.00000</td>\n",
       "      <td>0.0</td>\n",
       "      <td>0.00000</td>\n",
       "      <td>0.00000</td>\n",
       "      <td>0.00000</td>\n",
       "      <td>0.02066</td>\n",
       "    </tr>\n",
       "    <tr>\n",
       "      <th>1076</th>\n",
       "      <td>0.0</td>\n",
       "      <td>0.0</td>\n",
       "      <td>0.00000</td>\n",
       "      <td>0.00000</td>\n",
       "      <td>0.02061</td>\n",
       "      <td>0.0</td>\n",
       "      <td>0.0</td>\n",
       "      <td>0.15115</td>\n",
       "      <td>0.000</td>\n",
       "      <td>0.09894</td>\n",
       "      <td>...</td>\n",
       "      <td>0.00000</td>\n",
       "      <td>0.00000</td>\n",
       "      <td>0.0</td>\n",
       "      <td>0.23818</td>\n",
       "      <td>0.00000</td>\n",
       "      <td>0.0</td>\n",
       "      <td>0.00000</td>\n",
       "      <td>0.00000</td>\n",
       "      <td>0.00000</td>\n",
       "      <td>0.00000</td>\n",
       "    </tr>\n",
       "  </tbody>\n",
       "</table>\n",
       "<p>1077 rows × 94 columns</p>\n",
       "</div>"
      ],
      "text/plain": [
       "      ANNE:POLY: >> POLY larvae s1  ANNE:POLY: >> POLY s1  \\\n",
       "0                              0.0                    0.0   \n",
       "1                              0.0                    0.0   \n",
       "2                              0.0                    0.0   \n",
       "3                              0.0                    0.0   \n",
       "4                              0.0                    0.0   \n",
       "...                            ...                    ...   \n",
       "1072                           0.0                    0.0   \n",
       "1073                           0.0                    0.0   \n",
       "1074                           0.0                    0.0   \n",
       "1075                           0.0                    0.0   \n",
       "1076                           0.0                    0.0   \n",
       "\n",
       "      ANNE:POLY: >> POLY s2  ANNE:POLY: >> POLY s3  ARCR:: >> CIRRI s1  \\\n",
       "0                   0.00000                0.00000             0.00000   \n",
       "1                   0.00000                0.00000             0.00000   \n",
       "2                   0.00000                0.00000             0.00000   \n",
       "3                   0.00000                0.25838             0.00000   \n",
       "4                   0.00000                0.00000             0.00000   \n",
       "...                     ...                    ...                 ...   \n",
       "1072                0.00568                0.00000             0.01070   \n",
       "1073                0.00000                0.05045             0.00000   \n",
       "1074                0.04762                0.41514             0.00000   \n",
       "1075                0.00000                0.00000             0.00000   \n",
       "1076                0.00000                0.00000             0.02061   \n",
       "\n",
       "      ARCR:: >> CRUST larvae s1  ARCR:AMPH:GAMM >> GAMM s1  \\\n",
       "0                           0.0                        0.0   \n",
       "1                           0.0                        0.0   \n",
       "2                           0.0                        0.0   \n",
       "3                           0.0                        0.0   \n",
       "4                           0.0                        0.0   \n",
       "...                         ...                        ...   \n",
       "1072                        0.0                        0.0   \n",
       "1073                        0.0                        0.0   \n",
       "1074                        0.0                        0.0   \n",
       "1075                        0.0                        0.0   \n",
       "1076                        0.0                        0.0   \n",
       "\n",
       "      ARCR:AMPH:GAMM >> GAMM s2  ARCR:AMPH:GAMM >> GAMM s3  \\\n",
       "0                       0.00000                      0.000   \n",
       "1                       0.00000                      0.000   \n",
       "2                       0.05811                      0.000   \n",
       "3                       0.00000                      0.000   \n",
       "4                       0.18938                      0.000   \n",
       "...                         ...                        ...   \n",
       "1072                    0.00000                      0.000   \n",
       "1073                    0.00000                      0.000   \n",
       "1074                    0.00000                      0.087   \n",
       "1075                    0.00000                      0.000   \n",
       "1076                    0.15115                      0.000   \n",
       "\n",
       "      ARCR:AMPH:HYPE >> HYPER s1  ...  UROC:THAL: >> DOLIO s2  \\\n",
       "0                        0.00000  ...                 0.00000   \n",
       "1                        0.00000  ...                 0.00000   \n",
       "2                        0.00000  ...                 0.00000   \n",
       "3                        0.00000  ...                 0.00000   \n",
       "4                        0.00000  ...                 0.00000   \n",
       "...                          ...  ...                     ...   \n",
       "1072                     0.19212  ...                 0.01070   \n",
       "1073                     0.90018  ...                 0.00000   \n",
       "1074                     0.00000  ...                 4.41514   \n",
       "1075                     0.12242  ...                 0.00000   \n",
       "1076                     0.09894  ...                 0.00000   \n",
       "\n",
       "      UROC:THAL: >> DOLIO s3  UROC:THAL: >> SALP s1  UROC:THAL: >> SALP s2  \\\n",
       "0                    0.00000                    0.0                0.00000   \n",
       "1                    0.00000                    0.0                0.00000   \n",
       "2                    0.00000                    0.0                0.00000   \n",
       "3                    0.00000                    0.0                0.00000   \n",
       "4                    0.00000                    0.0                0.00000   \n",
       "...                      ...                    ...                    ...   \n",
       "1072                 0.00000                    0.0                0.00000   \n",
       "1073                 0.00000                    0.0                0.00000   \n",
       "1074                 1.53846                    0.0                0.00000   \n",
       "1075                 0.00000                    0.0                0.00000   \n",
       "1076                 0.00000                    0.0                0.23818   \n",
       "\n",
       "      UROC:THAL: >> SALP s3  VERT:PISC: >> PISCES egg s1  \\\n",
       "0                   0.00000                          0.0   \n",
       "1                   0.00000                          0.0   \n",
       "2                   0.00000                          0.0   \n",
       "3                   0.00000                          0.0   \n",
       "4                   0.00000                          0.0   \n",
       "...                     ...                          ...   \n",
       "1072                0.00000                          0.0   \n",
       "1073                0.13353                          0.0   \n",
       "1074                0.00000                          0.0   \n",
       "1075                0.00000                          0.0   \n",
       "1076                0.00000                          0.0   \n",
       "\n",
       "      VERT:PISC: >> PISCES s1  VERT:PISC: >> PISCES s2  \\\n",
       "0                     0.00000                  0.00000   \n",
       "1                     0.00000                  0.00000   \n",
       "2                     0.00000                  0.00000   \n",
       "3                     0.00000                  0.94146   \n",
       "4                     0.00000                  0.33458   \n",
       "...                       ...                      ...   \n",
       "1072                  0.00000                  0.24398   \n",
       "1073                  0.00000                  0.00000   \n",
       "1074                  0.02365                  0.27778   \n",
       "1075                  0.00000                  0.00000   \n",
       "1076                  0.00000                  0.00000   \n",
       "\n",
       "      VERT:PISC: >> PISCES s3  XXXX >> Remainder  \n",
       "0                     0.07819            0.00000  \n",
       "1                     4.22832            0.00000  \n",
       "2                     0.00000            0.00000  \n",
       "3                     0.00000            0.00000  \n",
       "4                     0.00000            0.00000  \n",
       "...                       ...                ...  \n",
       "1072                  1.27507            0.00000  \n",
       "1073                  0.00000            0.00000  \n",
       "1074                  3.73779            0.00000  \n",
       "1075                  0.00000            0.02066  \n",
       "1076                  0.00000            0.00000  \n",
       "\n",
       "[1077 rows x 94 columns]"
      ]
     },
     "execution_count": 28,
     "metadata": {},
     "output_type": "execute_result"
    }
   ],
   "source": [
    "data = raw_data.iloc[:, slice(20, -1)]\n",
    "# data = data.replace(0, np.nan)\n",
    "data = data.astype(\"float64\")\n",
    "data"
   ]
  },
  {
   "cell_type": "code",
   "execution_count": 29,
   "metadata": {},
   "outputs": [
    {
     "data": {
      "text/html": [
       "<div>\n",
       "<style scoped>\n",
       "    .dataframe tbody tr th:only-of-type {\n",
       "        vertical-align: middle;\n",
       "    }\n",
       "\n",
       "    .dataframe tbody tr th {\n",
       "        vertical-align: top;\n",
       "    }\n",
       "\n",
       "    .dataframe thead th {\n",
       "        text-align: right;\n",
       "    }\n",
       "</style>\n",
       "<table border=\"1\" class=\"dataframe\">\n",
       "  <thead>\n",
       "    <tr style=\"text-align: right;\">\n",
       "      <th></th>\n",
       "      <th>time</th>\n",
       "      <th>lat</th>\n",
       "      <th>lon</th>\n",
       "      <th>Twilight</th>\n",
       "      <th>Mesh_Size(um)</th>\n",
       "      <th>DEPTH_STRT</th>\n",
       "      <th>DEPTH_END</th>\n",
       "      <th>Volume Filtered(m3)</th>\n",
       "      <th>ANNE:POLY: &gt;&gt; POLY larvae s1</th>\n",
       "      <th>ANNE:POLY: &gt;&gt; POLY s1</th>\n",
       "      <th>...</th>\n",
       "      <th>UROC:THAL: &gt;&gt; DOLIO s2</th>\n",
       "      <th>UROC:THAL: &gt;&gt; DOLIO s3</th>\n",
       "      <th>UROC:THAL: &gt;&gt; SALP s1</th>\n",
       "      <th>UROC:THAL: &gt;&gt; SALP s2</th>\n",
       "      <th>UROC:THAL: &gt;&gt; SALP s3</th>\n",
       "      <th>VERT:PISC: &gt;&gt; PISCES egg s1</th>\n",
       "      <th>VERT:PISC: &gt;&gt; PISCES s1</th>\n",
       "      <th>VERT:PISC: &gt;&gt; PISCES s2</th>\n",
       "      <th>VERT:PISC: &gt;&gt; PISCES s3</th>\n",
       "      <th>XXXX &gt;&gt; Remainder</th>\n",
       "    </tr>\n",
       "  </thead>\n",
       "  <tbody>\n",
       "    <tr>\n",
       "      <th>0</th>\n",
       "      <td>1995-09-24</td>\n",
       "      <td>49.820</td>\n",
       "      <td>-128.563</td>\n",
       "      <td>Daylight</td>\n",
       "      <td>236.0</td>\n",
       "      <td>246.0</td>\n",
       "      <td>0.0</td>\n",
       "      <td>86.33</td>\n",
       "      <td>0.0</td>\n",
       "      <td>0.0</td>\n",
       "      <td>...</td>\n",
       "      <td>0.00000</td>\n",
       "      <td>0.00000</td>\n",
       "      <td>0.0</td>\n",
       "      <td>0.00000</td>\n",
       "      <td>0.00000</td>\n",
       "      <td>0.0</td>\n",
       "      <td>0.00000</td>\n",
       "      <td>0.00000</td>\n",
       "      <td>0.07819</td>\n",
       "      <td>0.00000</td>\n",
       "    </tr>\n",
       "    <tr>\n",
       "      <th>1</th>\n",
       "      <td>1995-09-24</td>\n",
       "      <td>49.820</td>\n",
       "      <td>-128.563</td>\n",
       "      <td>Night</td>\n",
       "      <td>236.0</td>\n",
       "      <td>50.0</td>\n",
       "      <td>0.0</td>\n",
       "      <td>36.09</td>\n",
       "      <td>0.0</td>\n",
       "      <td>0.0</td>\n",
       "      <td>...</td>\n",
       "      <td>0.00000</td>\n",
       "      <td>0.00000</td>\n",
       "      <td>0.0</td>\n",
       "      <td>0.00000</td>\n",
       "      <td>0.00000</td>\n",
       "      <td>0.0</td>\n",
       "      <td>0.00000</td>\n",
       "      <td>0.00000</td>\n",
       "      <td>4.22832</td>\n",
       "      <td>0.00000</td>\n",
       "    </tr>\n",
       "    <tr>\n",
       "      <th>2</th>\n",
       "      <td>1995-09-25</td>\n",
       "      <td>49.560</td>\n",
       "      <td>-128.259</td>\n",
       "      <td>Daylight</td>\n",
       "      <td>236.0</td>\n",
       "      <td>247.0</td>\n",
       "      <td>0.0</td>\n",
       "      <td>113.58</td>\n",
       "      <td>0.0</td>\n",
       "      <td>0.0</td>\n",
       "      <td>...</td>\n",
       "      <td>0.00000</td>\n",
       "      <td>0.00000</td>\n",
       "      <td>0.0</td>\n",
       "      <td>0.00000</td>\n",
       "      <td>0.00000</td>\n",
       "      <td>0.0</td>\n",
       "      <td>0.00000</td>\n",
       "      <td>0.00000</td>\n",
       "      <td>0.00000</td>\n",
       "      <td>0.00000</td>\n",
       "    </tr>\n",
       "    <tr>\n",
       "      <th>3</th>\n",
       "      <td>1995-09-25</td>\n",
       "      <td>49.560</td>\n",
       "      <td>-128.259</td>\n",
       "      <td>Night</td>\n",
       "      <td>236.0</td>\n",
       "      <td>49.0</td>\n",
       "      <td>0.0</td>\n",
       "      <td>24.77</td>\n",
       "      <td>0.0</td>\n",
       "      <td>0.0</td>\n",
       "      <td>...</td>\n",
       "      <td>0.00000</td>\n",
       "      <td>0.00000</td>\n",
       "      <td>0.0</td>\n",
       "      <td>0.00000</td>\n",
       "      <td>0.00000</td>\n",
       "      <td>0.0</td>\n",
       "      <td>0.00000</td>\n",
       "      <td>0.94146</td>\n",
       "      <td>0.00000</td>\n",
       "      <td>0.00000</td>\n",
       "    </tr>\n",
       "    <tr>\n",
       "      <th>4</th>\n",
       "      <td>1995-09-25</td>\n",
       "      <td>49.670</td>\n",
       "      <td>-128.075</td>\n",
       "      <td>Night</td>\n",
       "      <td>236.0</td>\n",
       "      <td>235.0</td>\n",
       "      <td>0.0</td>\n",
       "      <td>69.70</td>\n",
       "      <td>0.0</td>\n",
       "      <td>0.0</td>\n",
       "      <td>...</td>\n",
       "      <td>0.00000</td>\n",
       "      <td>0.00000</td>\n",
       "      <td>0.0</td>\n",
       "      <td>0.00000</td>\n",
       "      <td>0.00000</td>\n",
       "      <td>0.0</td>\n",
       "      <td>0.00000</td>\n",
       "      <td>0.33458</td>\n",
       "      <td>0.00000</td>\n",
       "      <td>0.00000</td>\n",
       "    </tr>\n",
       "    <tr>\n",
       "      <th>...</th>\n",
       "      <td>...</td>\n",
       "      <td>...</td>\n",
       "      <td>...</td>\n",
       "      <td>...</td>\n",
       "      <td>...</td>\n",
       "      <td>...</td>\n",
       "      <td>...</td>\n",
       "      <td>...</td>\n",
       "      <td>...</td>\n",
       "      <td>...</td>\n",
       "      <td>...</td>\n",
       "      <td>...</td>\n",
       "      <td>...</td>\n",
       "      <td>...</td>\n",
       "      <td>...</td>\n",
       "      <td>...</td>\n",
       "      <td>...</td>\n",
       "      <td>...</td>\n",
       "      <td>...</td>\n",
       "      <td>...</td>\n",
       "      <td>...</td>\n",
       "    </tr>\n",
       "    <tr>\n",
       "      <th>1072</th>\n",
       "      <td>2020-08-17</td>\n",
       "      <td>49.283</td>\n",
       "      <td>-134.667</td>\n",
       "      <td>Night</td>\n",
       "      <td>236.0</td>\n",
       "      <td>250.0</td>\n",
       "      <td>0.0</td>\n",
       "      <td>59.84</td>\n",
       "      <td>0.0</td>\n",
       "      <td>0.0</td>\n",
       "      <td>...</td>\n",
       "      <td>0.01070</td>\n",
       "      <td>0.00000</td>\n",
       "      <td>0.0</td>\n",
       "      <td>0.00000</td>\n",
       "      <td>0.00000</td>\n",
       "      <td>0.0</td>\n",
       "      <td>0.00000</td>\n",
       "      <td>0.24398</td>\n",
       "      <td>1.27507</td>\n",
       "      <td>0.00000</td>\n",
       "    </tr>\n",
       "    <tr>\n",
       "      <th>1073</th>\n",
       "      <td>2020-08-18</td>\n",
       "      <td>49.569</td>\n",
       "      <td>-138.666</td>\n",
       "      <td>Night</td>\n",
       "      <td>236.0</td>\n",
       "      <td>250.0</td>\n",
       "      <td>0.0</td>\n",
       "      <td>67.40</td>\n",
       "      <td>0.0</td>\n",
       "      <td>0.0</td>\n",
       "      <td>...</td>\n",
       "      <td>0.00000</td>\n",
       "      <td>0.00000</td>\n",
       "      <td>0.0</td>\n",
       "      <td>0.00000</td>\n",
       "      <td>0.13353</td>\n",
       "      <td>0.0</td>\n",
       "      <td>0.00000</td>\n",
       "      <td>0.00000</td>\n",
       "      <td>0.00000</td>\n",
       "      <td>0.00000</td>\n",
       "    </tr>\n",
       "    <tr>\n",
       "      <th>1074</th>\n",
       "      <td>2020-08-20</td>\n",
       "      <td>50.000</td>\n",
       "      <td>-145.000</td>\n",
       "      <td>Night</td>\n",
       "      <td>236.0</td>\n",
       "      <td>250.0</td>\n",
       "      <td>0.0</td>\n",
       "      <td>65.52</td>\n",
       "      <td>0.0</td>\n",
       "      <td>0.0</td>\n",
       "      <td>...</td>\n",
       "      <td>4.41514</td>\n",
       "      <td>1.53846</td>\n",
       "      <td>0.0</td>\n",
       "      <td>0.00000</td>\n",
       "      <td>0.00000</td>\n",
       "      <td>0.0</td>\n",
       "      <td>0.02365</td>\n",
       "      <td>0.27778</td>\n",
       "      <td>3.73779</td>\n",
       "      <td>0.00000</td>\n",
       "    </tr>\n",
       "    <tr>\n",
       "      <th>1075</th>\n",
       "      <td>2020-08-30</td>\n",
       "      <td>50.463</td>\n",
       "      <td>-129.916</td>\n",
       "      <td>Daylight</td>\n",
       "      <td>236.0</td>\n",
       "      <td>250.0</td>\n",
       "      <td>0.0</td>\n",
       "      <td>61.95</td>\n",
       "      <td>0.0</td>\n",
       "      <td>0.0</td>\n",
       "      <td>...</td>\n",
       "      <td>0.00000</td>\n",
       "      <td>0.00000</td>\n",
       "      <td>0.0</td>\n",
       "      <td>0.00000</td>\n",
       "      <td>0.00000</td>\n",
       "      <td>0.0</td>\n",
       "      <td>0.00000</td>\n",
       "      <td>0.00000</td>\n",
       "      <td>0.00000</td>\n",
       "      <td>0.02066</td>\n",
       "    </tr>\n",
       "    <tr>\n",
       "      <th>1076</th>\n",
       "      <td>2020-08-31</td>\n",
       "      <td>50.938</td>\n",
       "      <td>-129.979</td>\n",
       "      <td>Daylight</td>\n",
       "      <td>236.0</td>\n",
       "      <td>250.0</td>\n",
       "      <td>0.0</td>\n",
       "      <td>87.33</td>\n",
       "      <td>0.0</td>\n",
       "      <td>0.0</td>\n",
       "      <td>...</td>\n",
       "      <td>0.00000</td>\n",
       "      <td>0.00000</td>\n",
       "      <td>0.0</td>\n",
       "      <td>0.23818</td>\n",
       "      <td>0.00000</td>\n",
       "      <td>0.0</td>\n",
       "      <td>0.00000</td>\n",
       "      <td>0.00000</td>\n",
       "      <td>0.00000</td>\n",
       "      <td>0.00000</td>\n",
       "    </tr>\n",
       "  </tbody>\n",
       "</table>\n",
       "<p>1077 rows × 102 columns</p>\n",
       "</div>"
      ],
      "text/plain": [
       "           time     lat      lon  Twilight  Mesh_Size(um)  DEPTH_STRT  \\\n",
       "0    1995-09-24  49.820 -128.563  Daylight          236.0       246.0   \n",
       "1    1995-09-24  49.820 -128.563     Night          236.0        50.0   \n",
       "2    1995-09-25  49.560 -128.259  Daylight          236.0       247.0   \n",
       "3    1995-09-25  49.560 -128.259     Night          236.0        49.0   \n",
       "4    1995-09-25  49.670 -128.075     Night          236.0       235.0   \n",
       "...         ...     ...      ...       ...            ...         ...   \n",
       "1072 2020-08-17  49.283 -134.667     Night          236.0       250.0   \n",
       "1073 2020-08-18  49.569 -138.666     Night          236.0       250.0   \n",
       "1074 2020-08-20  50.000 -145.000     Night          236.0       250.0   \n",
       "1075 2020-08-30  50.463 -129.916  Daylight          236.0       250.0   \n",
       "1076 2020-08-31  50.938 -129.979  Daylight          236.0       250.0   \n",
       "\n",
       "      DEPTH_END  Volume Filtered(m3)  ANNE:POLY: >> POLY larvae s1  \\\n",
       "0           0.0                86.33                           0.0   \n",
       "1           0.0                36.09                           0.0   \n",
       "2           0.0               113.58                           0.0   \n",
       "3           0.0                24.77                           0.0   \n",
       "4           0.0                69.70                           0.0   \n",
       "...         ...                  ...                           ...   \n",
       "1072        0.0                59.84                           0.0   \n",
       "1073        0.0                67.40                           0.0   \n",
       "1074        0.0                65.52                           0.0   \n",
       "1075        0.0                61.95                           0.0   \n",
       "1076        0.0                87.33                           0.0   \n",
       "\n",
       "      ANNE:POLY: >> POLY s1  ...  UROC:THAL: >> DOLIO s2  \\\n",
       "0                       0.0  ...                 0.00000   \n",
       "1                       0.0  ...                 0.00000   \n",
       "2                       0.0  ...                 0.00000   \n",
       "3                       0.0  ...                 0.00000   \n",
       "4                       0.0  ...                 0.00000   \n",
       "...                     ...  ...                     ...   \n",
       "1072                    0.0  ...                 0.01070   \n",
       "1073                    0.0  ...                 0.00000   \n",
       "1074                    0.0  ...                 4.41514   \n",
       "1075                    0.0  ...                 0.00000   \n",
       "1076                    0.0  ...                 0.00000   \n",
       "\n",
       "      UROC:THAL: >> DOLIO s3  UROC:THAL: >> SALP s1  UROC:THAL: >> SALP s2  \\\n",
       "0                    0.00000                    0.0                0.00000   \n",
       "1                    0.00000                    0.0                0.00000   \n",
       "2                    0.00000                    0.0                0.00000   \n",
       "3                    0.00000                    0.0                0.00000   \n",
       "4                    0.00000                    0.0                0.00000   \n",
       "...                      ...                    ...                    ...   \n",
       "1072                 0.00000                    0.0                0.00000   \n",
       "1073                 0.00000                    0.0                0.00000   \n",
       "1074                 1.53846                    0.0                0.00000   \n",
       "1075                 0.00000                    0.0                0.00000   \n",
       "1076                 0.00000                    0.0                0.23818   \n",
       "\n",
       "      UROC:THAL: >> SALP s3  VERT:PISC: >> PISCES egg s1  \\\n",
       "0                   0.00000                          0.0   \n",
       "1                   0.00000                          0.0   \n",
       "2                   0.00000                          0.0   \n",
       "3                   0.00000                          0.0   \n",
       "4                   0.00000                          0.0   \n",
       "...                     ...                          ...   \n",
       "1072                0.00000                          0.0   \n",
       "1073                0.13353                          0.0   \n",
       "1074                0.00000                          0.0   \n",
       "1075                0.00000                          0.0   \n",
       "1076                0.00000                          0.0   \n",
       "\n",
       "      VERT:PISC: >> PISCES s1  VERT:PISC: >> PISCES s2  \\\n",
       "0                     0.00000                  0.00000   \n",
       "1                     0.00000                  0.00000   \n",
       "2                     0.00000                  0.00000   \n",
       "3                     0.00000                  0.94146   \n",
       "4                     0.00000                  0.33458   \n",
       "...                       ...                      ...   \n",
       "1072                  0.00000                  0.24398   \n",
       "1073                  0.00000                  0.00000   \n",
       "1074                  0.02365                  0.27778   \n",
       "1075                  0.00000                  0.00000   \n",
       "1076                  0.00000                  0.00000   \n",
       "\n",
       "      VERT:PISC: >> PISCES s3  XXXX >> Remainder  \n",
       "0                     0.07819            0.00000  \n",
       "1                     4.22832            0.00000  \n",
       "2                     0.00000            0.00000  \n",
       "3                     0.00000            0.00000  \n",
       "4                     0.00000            0.00000  \n",
       "...                       ...                ...  \n",
       "1072                  1.27507            0.00000  \n",
       "1073                  0.00000            0.00000  \n",
       "1074                  3.73779            0.00000  \n",
       "1075                  0.00000            0.02066  \n",
       "1076                  0.00000            0.00000  \n",
       "\n",
       "[1077 rows x 102 columns]"
      ]
     },
     "execution_count": 29,
     "metadata": {},
     "output_type": "execute_result"
    }
   ],
   "source": [
    "data = pd.merge(index, data, left_index=True, right_index=True)\n",
    "data"
   ]
  },
  {
   "cell_type": "markdown",
   "metadata": {},
   "source": [
    "## Define taxa groups\n",
    "\n",
    "---\n"
   ]
  },
  {
   "cell_type": "code",
   "execution_count": 30,
   "metadata": {},
   "outputs": [],
   "source": [
    "taxa_groups = {\n",
    "    \"benthos\": [\"ANNE:POLY: >> POLY larvae s1\"],\n",
    "    \"crustacean\": [\"ARCR\"],\n",
    "    \"chaetognatha\": [\"CHAE\"],\n",
    "    \"small_gelatinous\": [\"CNID\", \"CTEN\"],\n",
    "    \"larvacean\": [\"LARV\"],\n",
    "    \"thaliacea\": [\"THAL\"],\n",
    "    \"pteropods\": [\"MOGA:PTER\"],\n",
    "    \"others\": [\"ECHI\", \"ECTO\", \"MOCE\", \"MOGA:HETE\", \"MOLL\", \"PROT\", \"PISC\", \"XXXX\"],\n",
    "}"
   ]
  },
  {
   "cell_type": "markdown",
   "metadata": {},
   "source": [
    "## Clean data\n",
    "\n",
    "---\n"
   ]
  },
  {
   "cell_type": "markdown",
   "metadata": {},
   "source": [
    "Remove the data when time and position are not known.\n"
   ]
  },
  {
   "cell_type": "code",
   "execution_count": 31,
   "metadata": {},
   "outputs": [
    {
     "data": {
      "application/vnd.plotly.v1+json": {
       "config": {
        "plotlyServerURL": "https://plot.ly"
       },
       "data": [
        {
         "hovertemplate": "variable=0<br>Column=%{x}<br>Number of missing values=%{y}<extra></extra>",
         "legendgroup": "0",
         "marker": {
          "color": "#636efa",
          "pattern": {
           "shape": ""
          }
         },
         "name": "0",
         "orientation": "v",
         "showlegend": true,
         "textposition": "auto",
         "type": "bar",
         "x": [
          "Key",
          "region_name",
          "Station",
          "lon",
          "lat",
          "Date",
          "STN_TIME",
          "Twilight",
          "Net_Type",
          "Mesh_Size(um)",
          "Net_Mouth_Dia(m)",
          "DEPTH_STRT",
          "DEPTH_END",
          "Bottom Depth(m)",
          "Volume Filtered(m3)",
          "CTD",
          "NOTES",
          "Pi",
          "NumberOfSpecies",
          "SumOfDiversity",
          "ANNE:POLY: >> POLY larvae s1",
          "ANNE:POLY: >> POLY s1",
          "ANNE:POLY: >> POLY s2",
          "ANNE:POLY: >> POLY s3",
          "ARCR:: >> CIRRI s1",
          "ARCR:: >> CRUST larvae s1",
          "ARCR:AMPH:GAMM >> GAMM s1",
          "ARCR:AMPH:GAMM >> GAMM s2",
          "ARCR:AMPH:GAMM >> GAMM s3",
          "ARCR:AMPH:HYPE >> HYPER s1",
          "ARCR:AMPH:HYPE >> HYPER s2",
          "ARCR:AMPH:HYPE >> HYPER s3",
          "ARCR:CLAD: >> CLADO s1",
          "ARCR:COPE: >> COPE other <2mm",
          "ARCR:COPE: >> COPE other >2mm",
          "ARCR:COPE: >> COPEN s1",
          "ARCR:COPE:CALA >> CALA <1mm",
          "ARCR:COPE:CALA >> CALA <3mm≥1mm",
          "ARCR:COPE:CALA >> CALA <5mm≥3mm",
          "ARCR:COPE:CALA >> CALA >5mm",
          "ARCR:DECA:MYSI >> MYSID s1",
          "ARCR:DECA:MYSI >> MYSID s2",
          "ARCR:DECA:MYSI >> MYSID s3",
          "ARCR:DECA:NANT >> CARID s1",
          "ARCR:DECA:NANT >> CARID s2",
          "ARCR:DECA:NANT >> CARID s3",
          "ARCR:DECA:REPA >> DECA s1",
          "ARCR:DECA:REPA >> DECA s2",
          "ARCR:DECA:REPA >> DECA s3",
          "ARCR:EUPH: >> EUPH eggs",
          "ARCR:EUPH: >> EUPH s1",
          "ARCR:EUPH: >> EUPH s2",
          "ARCR:EUPH: >> EUPH s3",
          "ARCR:ISOP: >> ISOPOD s1",
          "ARCR:ISOP: >> ISOPOD s2",
          "ARCR:ISOP: >> ISOPOD s3",
          "ARCR:OSTR: >> OSTRA <3mm",
          "ARCR:OSTR: >> OSTRA >3mm",
          "CHAE:: >> CHAET s1",
          "CHAE:: >> CHAET s2",
          "CHAE:: >> CHAET s3",
          "CHRO:: >> PROTO s1",
          "CHRO:: >> PROTO s2",
          "CNID:ANTH: >> ANTH s1",
          "CNID:ANTH: >> ANTH s2",
          "CNID:HYDR: >> MEDUS s1",
          "CNID:HYDR: >> MEDUS s2",
          "CNID:HYDR: >> MEDUS s3",
          "CNID:HYDR:SIPH >> CALYC s1",
          "CNID:HYDR:SIPH >> CALYC s2",
          "CNID:HYDR:SIPH >> CALYC s3",
          "CNID:HYDR:SIPH >> PHYS float >5mm",
          "CNID:HYDR:SIPH >> PHYS s1",
          "CNID:HYDR:SIPH >> PHYS s2",
          "CNID:HYDR:SIPH >> PHYS s3",
          "CNID:SCYF: >> SCYPH s1",
          "CNID:SCYF: >> SCYPH s2",
          "CNID:SCYF: >> SCYPH s3",
          "CTEN:: >> CTENO s1",
          "CTEN:: >> CTENO s2",
          "CTEN:: >> CTENO s3",
          "ECHI:: >> ECHIN s1",
          "ECTO:: >> BRYOC s1",
          "MOCE:OCTO: >> CEPH s1",
          "MOCE:OCTO: >> CEPH s2",
          "MOCE:OCTO: >> CEPH s3",
          "MOGA:HETE: >> HETERO s1",
          "MOGA:HETE: >> HETERO s2",
          "MOGA:HETE: >> HETERO s3",
          "MOGA:PTER: >> CLIO s1",
          "MOGA:PTER: >> CLIO s2",
          "MOGA:PTER: >> CLIO s3",
          "MOGA:PTER: >> GYMNO s1",
          "MOGA:PTER: >> GYMNO s2",
          "MOGA:PTER: >> GYMNO s3",
          "MOGA:PTER: >> LIM-- s0",
          "MOGA:PTER: >> LIM-- s1",
          "MOGA:PTER: >> LIM-- s2",
          "MOGA:PTER: >> LIM-- s3",
          "MOLL:: >> MOLL s1",
          "UROC:LARV: >> LARVAC s1",
          "UROC:LARV: >> LARVAC s2",
          "UROC:LARV: >> LARVAC s3",
          "UROC:THAL: >> DOLIO s1",
          "UROC:THAL: >> DOLIO s2",
          "UROC:THAL: >> DOLIO s3",
          "UROC:THAL: >> SALP s1",
          "UROC:THAL: >> SALP s2",
          "UROC:THAL: >> SALP s3",
          "VERT:PISC: >> PISCES egg s1",
          "VERT:PISC: >> PISCES s1",
          "VERT:PISC: >> PISCES s2",
          "VERT:PISC: >> PISCES s3",
          "XXXX >> Remainder",
          "time"
         ],
         "xaxis": "x",
         "y": {
          "bdata": "AAAAAAAAAAAAAAAAAAMANgAAAAAAAAAAAAAAAAAAAAAAAAAAAAAAAAAAAAAAAAAAAAAAAAAAAAAAAAAAAAAAAAAAAAAAAAAAAAAAAAAAAAAAAAAAAAAAAAAAAAAAAAAAAAAAAAAAAAAAAAAAAAAAAAAAAA==",
          "dtype": "i1"
         },
         "yaxis": "y"
        }
       ],
       "layout": {
        "barmode": "relative",
        "height": 500,
        "legend": {
         "title": {
          "text": "variable"
         },
         "tracegroupgap": 0
        },
        "showlegend": false,
        "template": {
         "data": {
          "bar": [
           {
            "error_x": {
             "color": "#2a3f5f"
            },
            "error_y": {
             "color": "#2a3f5f"
            },
            "marker": {
             "line": {
              "color": "#E5ECF6",
              "width": 0.5
             },
             "pattern": {
              "fillmode": "overlay",
              "size": 10,
              "solidity": 0.2
             }
            },
            "type": "bar"
           }
          ],
          "barpolar": [
           {
            "marker": {
             "line": {
              "color": "#E5ECF6",
              "width": 0.5
             },
             "pattern": {
              "fillmode": "overlay",
              "size": 10,
              "solidity": 0.2
             }
            },
            "type": "barpolar"
           }
          ],
          "carpet": [
           {
            "aaxis": {
             "endlinecolor": "#2a3f5f",
             "gridcolor": "white",
             "linecolor": "white",
             "minorgridcolor": "white",
             "startlinecolor": "#2a3f5f"
            },
            "baxis": {
             "endlinecolor": "#2a3f5f",
             "gridcolor": "white",
             "linecolor": "white",
             "minorgridcolor": "white",
             "startlinecolor": "#2a3f5f"
            },
            "type": "carpet"
           }
          ],
          "choropleth": [
           {
            "colorbar": {
             "outlinewidth": 0,
             "ticks": ""
            },
            "type": "choropleth"
           }
          ],
          "contour": [
           {
            "colorbar": {
             "outlinewidth": 0,
             "ticks": ""
            },
            "colorscale": [
             [
              0,
              "#0d0887"
             ],
             [
              0.1111111111111111,
              "#46039f"
             ],
             [
              0.2222222222222222,
              "#7201a8"
             ],
             [
              0.3333333333333333,
              "#9c179e"
             ],
             [
              0.4444444444444444,
              "#bd3786"
             ],
             [
              0.5555555555555556,
              "#d8576b"
             ],
             [
              0.6666666666666666,
              "#ed7953"
             ],
             [
              0.7777777777777778,
              "#fb9f3a"
             ],
             [
              0.8888888888888888,
              "#fdca26"
             ],
             [
              1,
              "#f0f921"
             ]
            ],
            "type": "contour"
           }
          ],
          "contourcarpet": [
           {
            "colorbar": {
             "outlinewidth": 0,
             "ticks": ""
            },
            "type": "contourcarpet"
           }
          ],
          "heatmap": [
           {
            "colorbar": {
             "outlinewidth": 0,
             "ticks": ""
            },
            "colorscale": [
             [
              0,
              "#0d0887"
             ],
             [
              0.1111111111111111,
              "#46039f"
             ],
             [
              0.2222222222222222,
              "#7201a8"
             ],
             [
              0.3333333333333333,
              "#9c179e"
             ],
             [
              0.4444444444444444,
              "#bd3786"
             ],
             [
              0.5555555555555556,
              "#d8576b"
             ],
             [
              0.6666666666666666,
              "#ed7953"
             ],
             [
              0.7777777777777778,
              "#fb9f3a"
             ],
             [
              0.8888888888888888,
              "#fdca26"
             ],
             [
              1,
              "#f0f921"
             ]
            ],
            "type": "heatmap"
           }
          ],
          "histogram": [
           {
            "marker": {
             "pattern": {
              "fillmode": "overlay",
              "size": 10,
              "solidity": 0.2
             }
            },
            "type": "histogram"
           }
          ],
          "histogram2d": [
           {
            "colorbar": {
             "outlinewidth": 0,
             "ticks": ""
            },
            "colorscale": [
             [
              0,
              "#0d0887"
             ],
             [
              0.1111111111111111,
              "#46039f"
             ],
             [
              0.2222222222222222,
              "#7201a8"
             ],
             [
              0.3333333333333333,
              "#9c179e"
             ],
             [
              0.4444444444444444,
              "#bd3786"
             ],
             [
              0.5555555555555556,
              "#d8576b"
             ],
             [
              0.6666666666666666,
              "#ed7953"
             ],
             [
              0.7777777777777778,
              "#fb9f3a"
             ],
             [
              0.8888888888888888,
              "#fdca26"
             ],
             [
              1,
              "#f0f921"
             ]
            ],
            "type": "histogram2d"
           }
          ],
          "histogram2dcontour": [
           {
            "colorbar": {
             "outlinewidth": 0,
             "ticks": ""
            },
            "colorscale": [
             [
              0,
              "#0d0887"
             ],
             [
              0.1111111111111111,
              "#46039f"
             ],
             [
              0.2222222222222222,
              "#7201a8"
             ],
             [
              0.3333333333333333,
              "#9c179e"
             ],
             [
              0.4444444444444444,
              "#bd3786"
             ],
             [
              0.5555555555555556,
              "#d8576b"
             ],
             [
              0.6666666666666666,
              "#ed7953"
             ],
             [
              0.7777777777777778,
              "#fb9f3a"
             ],
             [
              0.8888888888888888,
              "#fdca26"
             ],
             [
              1,
              "#f0f921"
             ]
            ],
            "type": "histogram2dcontour"
           }
          ],
          "mesh3d": [
           {
            "colorbar": {
             "outlinewidth": 0,
             "ticks": ""
            },
            "type": "mesh3d"
           }
          ],
          "parcoords": [
           {
            "line": {
             "colorbar": {
              "outlinewidth": 0,
              "ticks": ""
             }
            },
            "type": "parcoords"
           }
          ],
          "pie": [
           {
            "automargin": true,
            "type": "pie"
           }
          ],
          "scatter": [
           {
            "fillpattern": {
             "fillmode": "overlay",
             "size": 10,
             "solidity": 0.2
            },
            "type": "scatter"
           }
          ],
          "scatter3d": [
           {
            "line": {
             "colorbar": {
              "outlinewidth": 0,
              "ticks": ""
             }
            },
            "marker": {
             "colorbar": {
              "outlinewidth": 0,
              "ticks": ""
             }
            },
            "type": "scatter3d"
           }
          ],
          "scattercarpet": [
           {
            "marker": {
             "colorbar": {
              "outlinewidth": 0,
              "ticks": ""
             }
            },
            "type": "scattercarpet"
           }
          ],
          "scattergeo": [
           {
            "marker": {
             "colorbar": {
              "outlinewidth": 0,
              "ticks": ""
             }
            },
            "type": "scattergeo"
           }
          ],
          "scattergl": [
           {
            "marker": {
             "colorbar": {
              "outlinewidth": 0,
              "ticks": ""
             }
            },
            "type": "scattergl"
           }
          ],
          "scattermap": [
           {
            "marker": {
             "colorbar": {
              "outlinewidth": 0,
              "ticks": ""
             }
            },
            "type": "scattermap"
           }
          ],
          "scattermapbox": [
           {
            "marker": {
             "colorbar": {
              "outlinewidth": 0,
              "ticks": ""
             }
            },
            "type": "scattermapbox"
           }
          ],
          "scatterpolar": [
           {
            "marker": {
             "colorbar": {
              "outlinewidth": 0,
              "ticks": ""
             }
            },
            "type": "scatterpolar"
           }
          ],
          "scatterpolargl": [
           {
            "marker": {
             "colorbar": {
              "outlinewidth": 0,
              "ticks": ""
             }
            },
            "type": "scatterpolargl"
           }
          ],
          "scatterternary": [
           {
            "marker": {
             "colorbar": {
              "outlinewidth": 0,
              "ticks": ""
             }
            },
            "type": "scatterternary"
           }
          ],
          "surface": [
           {
            "colorbar": {
             "outlinewidth": 0,
             "ticks": ""
            },
            "colorscale": [
             [
              0,
              "#0d0887"
             ],
             [
              0.1111111111111111,
              "#46039f"
             ],
             [
              0.2222222222222222,
              "#7201a8"
             ],
             [
              0.3333333333333333,
              "#9c179e"
             ],
             [
              0.4444444444444444,
              "#bd3786"
             ],
             [
              0.5555555555555556,
              "#d8576b"
             ],
             [
              0.6666666666666666,
              "#ed7953"
             ],
             [
              0.7777777777777778,
              "#fb9f3a"
             ],
             [
              0.8888888888888888,
              "#fdca26"
             ],
             [
              1,
              "#f0f921"
             ]
            ],
            "type": "surface"
           }
          ],
          "table": [
           {
            "cells": {
             "fill": {
              "color": "#EBF0F8"
             },
             "line": {
              "color": "white"
             }
            },
            "header": {
             "fill": {
              "color": "#C8D4E3"
             },
             "line": {
              "color": "white"
             }
            },
            "type": "table"
           }
          ]
         },
         "layout": {
          "annotationdefaults": {
           "arrowcolor": "#2a3f5f",
           "arrowhead": 0,
           "arrowwidth": 1
          },
          "autotypenumbers": "strict",
          "coloraxis": {
           "colorbar": {
            "outlinewidth": 0,
            "ticks": ""
           }
          },
          "colorscale": {
           "diverging": [
            [
             0,
             "#8e0152"
            ],
            [
             0.1,
             "#c51b7d"
            ],
            [
             0.2,
             "#de77ae"
            ],
            [
             0.3,
             "#f1b6da"
            ],
            [
             0.4,
             "#fde0ef"
            ],
            [
             0.5,
             "#f7f7f7"
            ],
            [
             0.6,
             "#e6f5d0"
            ],
            [
             0.7,
             "#b8e186"
            ],
            [
             0.8,
             "#7fbc41"
            ],
            [
             0.9,
             "#4d9221"
            ],
            [
             1,
             "#276419"
            ]
           ],
           "sequential": [
            [
             0,
             "#0d0887"
            ],
            [
             0.1111111111111111,
             "#46039f"
            ],
            [
             0.2222222222222222,
             "#7201a8"
            ],
            [
             0.3333333333333333,
             "#9c179e"
            ],
            [
             0.4444444444444444,
             "#bd3786"
            ],
            [
             0.5555555555555556,
             "#d8576b"
            ],
            [
             0.6666666666666666,
             "#ed7953"
            ],
            [
             0.7777777777777778,
             "#fb9f3a"
            ],
            [
             0.8888888888888888,
             "#fdca26"
            ],
            [
             1,
             "#f0f921"
            ]
           ],
           "sequentialminus": [
            [
             0,
             "#0d0887"
            ],
            [
             0.1111111111111111,
             "#46039f"
            ],
            [
             0.2222222222222222,
             "#7201a8"
            ],
            [
             0.3333333333333333,
             "#9c179e"
            ],
            [
             0.4444444444444444,
             "#bd3786"
            ],
            [
             0.5555555555555556,
             "#d8576b"
            ],
            [
             0.6666666666666666,
             "#ed7953"
            ],
            [
             0.7777777777777778,
             "#fb9f3a"
            ],
            [
             0.8888888888888888,
             "#fdca26"
            ],
            [
             1,
             "#f0f921"
            ]
           ]
          },
          "colorway": [
           "#636efa",
           "#EF553B",
           "#00cc96",
           "#ab63fa",
           "#FFA15A",
           "#19d3f3",
           "#FF6692",
           "#B6E880",
           "#FF97FF",
           "#FECB52"
          ],
          "font": {
           "color": "#2a3f5f"
          },
          "geo": {
           "bgcolor": "white",
           "lakecolor": "white",
           "landcolor": "#E5ECF6",
           "showlakes": true,
           "showland": true,
           "subunitcolor": "white"
          },
          "hoverlabel": {
           "align": "left"
          },
          "hovermode": "closest",
          "mapbox": {
           "style": "light"
          },
          "paper_bgcolor": "white",
          "plot_bgcolor": "#E5ECF6",
          "polar": {
           "angularaxis": {
            "gridcolor": "white",
            "linecolor": "white",
            "ticks": ""
           },
           "bgcolor": "#E5ECF6",
           "radialaxis": {
            "gridcolor": "white",
            "linecolor": "white",
            "ticks": ""
           }
          },
          "scene": {
           "xaxis": {
            "backgroundcolor": "#E5ECF6",
            "gridcolor": "white",
            "gridwidth": 2,
            "linecolor": "white",
            "showbackground": true,
            "ticks": "",
            "zerolinecolor": "white"
           },
           "yaxis": {
            "backgroundcolor": "#E5ECF6",
            "gridcolor": "white",
            "gridwidth": 2,
            "linecolor": "white",
            "showbackground": true,
            "ticks": "",
            "zerolinecolor": "white"
           },
           "zaxis": {
            "backgroundcolor": "#E5ECF6",
            "gridcolor": "white",
            "gridwidth": 2,
            "linecolor": "white",
            "showbackground": true,
            "ticks": "",
            "zerolinecolor": "white"
           }
          },
          "shapedefaults": {
           "line": {
            "color": "#2a3f5f"
           }
          },
          "ternary": {
           "aaxis": {
            "gridcolor": "white",
            "linecolor": "white",
            "ticks": ""
           },
           "baxis": {
            "gridcolor": "white",
            "linecolor": "white",
            "ticks": ""
           },
           "bgcolor": "#E5ECF6",
           "caxis": {
            "gridcolor": "white",
            "linecolor": "white",
            "ticks": ""
           }
          },
          "title": {
           "x": 0.05
          },
          "xaxis": {
           "automargin": true,
           "gridcolor": "white",
           "linecolor": "white",
           "ticks": "",
           "title": {
            "standoff": 15
           },
           "zerolinecolor": "white",
           "zerolinewidth": 2
          },
          "yaxis": {
           "automargin": true,
           "gridcolor": "white",
           "linecolor": "white",
           "ticks": "",
           "title": {
            "standoff": 15
           },
           "zerolinecolor": "white",
           "zerolinewidth": 2
          }
         }
        },
        "title": {
         "text": "Missing values per column for a total of 1077 entries"
        },
        "xaxis": {
         "anchor": "y",
         "domain": [
          0,
          1
         ],
         "tickangle": -45,
         "title": {
          "text": "Column"
         }
        },
        "yaxis": {
         "anchor": "x",
         "domain": [
          0,
          1
         ],
         "title": {
          "text": "Number of missing values"
         },
         "type": "log"
        }
       }
      }
     },
     "metadata": {},
     "output_type": "display_data"
    }
   ],
   "source": [
    "fig = (\n",
    "    raw_data.isna()\n",
    "    .sum()\n",
    "    .plot(\n",
    "        kind=\"bar\",\n",
    "        title=f\"Missing values per column for a total of {len(raw_data)} entries\",\n",
    "        labels=dict(\n",
    "            index=\"Column\",\n",
    "            value=\"Number of missing values\",\n",
    "        ),\n",
    "        # log y-axis\n",
    "        log_y=True,\n",
    "    )\n",
    ")\n",
    "# Rotate x-axis labels by 45 degrees\n",
    "fig.update_xaxes(tickangle=-45)\n",
    "# multiply the figure ratio of height by 2\n",
    "fig.update_layout(height=500)\n",
    "# Remove legend\n",
    "fig.update_layout(showlegend=False)\n",
    "fig.show()"
   ]
  },
  {
   "cell_type": "markdown",
   "metadata": {},
   "source": [
    "## Manage index\n",
    "\n",
    "---\n"
   ]
  },
  {
   "cell_type": "markdown",
   "metadata": {},
   "source": [
    "### Time\n",
    "\n",
    "Must be set to daily frequency. If multiple data points are available for a single day, the mean is taken.\n"
   ]
  },
  {
   "cell_type": "code",
   "execution_count": 32,
   "metadata": {},
   "outputs": [
    {
     "data": {
      "application/vnd.plotly.v1+json": {
       "config": {
        "plotlyServerURL": "https://plot.ly"
       },
       "data": [
        {
         "bingroup": "x",
         "hovertemplate": "Time=%{x}<br>count=%{y}<extra></extra>",
         "legendgroup": "",
         "marker": {
          "color": "#636efa",
          "pattern": {
           "shape": ""
          }
         },
         "name": "",
         "orientation": "v",
         "showlegend": false,
         "type": "histogram",
         "x": [
          "1995-09-24T00:00:00.000000000",
          "1995-09-24T00:00:00.000000000",
          "1995-09-25T00:00:00.000000000",
          "1995-09-25T00:00:00.000000000",
          "1995-09-25T00:00:00.000000000",
          "1995-09-25T00:00:00.000000000",
          "1995-09-26T00:00:00.000000000",
          "1995-09-26T00:00:00.000000000",
          "1995-09-28T00:00:00.000000000",
          "1996-03-06T00:00:00.000000000",
          "1996-06-11T00:00:00.000000000",
          "1996-10-05T00:00:00.000000000",
          "1997-02-21T00:00:00.000000000",
          "1997-02-21T00:00:00.000000000",
          "1997-02-21T00:00:00.000000000",
          "1997-02-24T00:00:00.000000000",
          "1997-03-14T00:00:00.000000000",
          "1997-03-15T00:00:00.000000000",
          "1997-03-16T00:00:00.000000000",
          "1997-03-17T00:00:00.000000000",
          "1997-03-18T00:00:00.000000000",
          "1997-03-24T00:00:00.000000000",
          "1997-03-25T00:00:00.000000000",
          "1997-03-26T00:00:00.000000000",
          "1997-03-29T00:00:00.000000000",
          "1997-03-29T00:00:00.000000000",
          "1997-03-29T00:00:00.000000000",
          "1997-03-29T00:00:00.000000000",
          "1997-03-29T00:00:00.000000000",
          "1997-03-29T00:00:00.000000000",
          "1997-03-29T00:00:00.000000000",
          "1997-03-29T00:00:00.000000000",
          "1997-03-29T00:00:00.000000000",
          "1997-03-29T00:00:00.000000000",
          "1997-03-29T00:00:00.000000000",
          "1997-03-29T00:00:00.000000000",
          "1997-03-29T00:00:00.000000000",
          "1997-03-29T00:00:00.000000000",
          "1997-03-29T00:00:00.000000000",
          "1997-03-29T00:00:00.000000000",
          "1997-03-29T00:00:00.000000000",
          "1997-03-29T00:00:00.000000000",
          "1997-03-29T00:00:00.000000000",
          "1997-03-29T00:00:00.000000000",
          "1997-03-29T00:00:00.000000000",
          "1997-03-29T00:00:00.000000000",
          "1997-03-29T00:00:00.000000000",
          "1997-03-29T00:00:00.000000000",
          "1997-04-10T00:00:00.000000000",
          "1997-06-08T00:00:00.000000000",
          "1997-06-12T00:00:00.000000000",
          "1997-06-15T00:00:00.000000000",
          "1997-06-16T00:00:00.000000000",
          "1997-06-16T00:00:00.000000000",
          "1997-06-16T00:00:00.000000000",
          "1997-06-16T00:00:00.000000000",
          "1997-06-16T00:00:00.000000000",
          "1997-06-16T00:00:00.000000000",
          "1997-06-16T00:00:00.000000000",
          "1997-06-16T00:00:00.000000000",
          "1997-06-16T00:00:00.000000000",
          "1997-06-16T00:00:00.000000000",
          "1997-06-16T00:00:00.000000000",
          "1997-07-03T00:00:00.000000000",
          "1997-07-03T00:00:00.000000000",
          "1997-07-04T00:00:00.000000000",
          "1997-07-05T00:00:00.000000000",
          "1997-07-05T00:00:00.000000000",
          "1997-07-06T00:00:00.000000000",
          "1997-07-06T00:00:00.000000000",
          "1997-07-07T00:00:00.000000000",
          "1997-07-07T00:00:00.000000000",
          "1997-07-08T00:00:00.000000000",
          "1997-07-08T00:00:00.000000000",
          "1997-07-09T00:00:00.000000000",
          "1997-07-09T00:00:00.000000000",
          "1997-07-10T00:00:00.000000000",
          "1997-07-10T00:00:00.000000000",
          "1997-07-11T00:00:00.000000000",
          "1997-07-11T00:00:00.000000000",
          "1997-07-12T00:00:00.000000000",
          "1997-07-12T00:00:00.000000000",
          "1997-07-18T00:00:00.000000000",
          "1997-08-29T00:00:00.000000000",
          "1997-08-30T00:00:00.000000000",
          "1997-08-31T00:00:00.000000000",
          "1997-09-01T00:00:00.000000000",
          "1997-09-04T00:00:00.000000000",
          "1997-09-04T00:00:00.000000000",
          "1997-09-04T00:00:00.000000000",
          "1997-09-04T00:00:00.000000000",
          "1997-09-04T00:00:00.000000000",
          "1997-09-04T00:00:00.000000000",
          "1997-09-04T00:00:00.000000000",
          "1997-09-04T00:00:00.000000000",
          "1997-09-04T00:00:00.000000000",
          "1997-09-04T00:00:00.000000000",
          "1997-09-04T00:00:00.000000000",
          "1997-09-04T00:00:00.000000000",
          "1997-09-04T00:00:00.000000000",
          "1997-09-04T00:00:00.000000000",
          "1997-09-04T00:00:00.000000000",
          "1997-09-04T00:00:00.000000000",
          "1997-09-04T00:00:00.000000000",
          "1997-09-04T00:00:00.000000000",
          "1997-09-05T00:00:00.000000000",
          "1997-09-08T00:00:00.000000000",
          "1997-09-10T00:00:00.000000000",
          "1997-09-28T00:00:00.000000000",
          "1997-12-02T00:00:00.000000000",
          "1997-12-02T00:00:00.000000000",
          "1998-01-19T00:00:00.000000000",
          "1998-01-20T00:00:00.000000000",
          "1998-01-20T00:00:00.000000000",
          "1998-02-21T00:00:00.000000000",
          "1998-02-21T00:00:00.000000000",
          "1998-02-23T00:00:00.000000000",
          "1998-02-24T00:00:00.000000000",
          "1998-02-27T00:00:00.000000000",
          "1998-02-27T00:00:00.000000000",
          "1998-02-27T00:00:00.000000000",
          "1998-02-27T00:00:00.000000000",
          "1998-02-27T00:00:00.000000000",
          "1998-02-27T00:00:00.000000000",
          "1998-02-27T00:00:00.000000000",
          "1998-02-28T00:00:00.000000000",
          "1998-02-28T00:00:00.000000000",
          "1998-02-28T00:00:00.000000000",
          "1998-02-28T00:00:00.000000000",
          "1998-02-28T00:00:00.000000000",
          "1998-02-28T00:00:00.000000000",
          "1998-02-28T00:00:00.000000000",
          "1998-02-28T00:00:00.000000000",
          "1998-02-28T00:00:00.000000000",
          "1998-02-28T00:00:00.000000000",
          "1998-02-28T00:00:00.000000000",
          "1998-03-03T00:00:00.000000000",
          "1998-03-03T00:00:00.000000000",
          "1998-03-03T00:00:00.000000000",
          "1998-04-08T00:00:00.000000000",
          "1998-04-09T00:00:00.000000000",
          "1998-04-09T00:00:00.000000000",
          "1998-05-13T00:00:00.000000000",
          "1998-05-13T00:00:00.000000000",
          "1998-05-13T00:00:00.000000000",
          "1998-05-13T00:00:00.000000000",
          "1998-05-13T00:00:00.000000000",
          "1998-05-13T00:00:00.000000000",
          "1998-05-13T00:00:00.000000000",
          "1998-05-13T00:00:00.000000000",
          "1998-05-17T00:00:00.000000000",
          "1998-05-18T00:00:00.000000000",
          "1998-05-19T00:00:00.000000000",
          "1998-05-20T00:00:00.000000000",
          "1998-05-27T00:00:00.000000000",
          "1998-05-27T00:00:00.000000000",
          "1998-05-27T00:00:00.000000000",
          "1998-05-27T00:00:00.000000000",
          "1998-05-27T00:00:00.000000000",
          "1998-05-27T00:00:00.000000000",
          "1998-05-27T00:00:00.000000000",
          "1998-05-27T00:00:00.000000000",
          "1998-06-03T00:00:00.000000000",
          "1998-06-05T00:00:00.000000000",
          "1998-06-05T00:00:00.000000000",
          "1998-06-05T00:00:00.000000000",
          "1998-06-08T00:00:00.000000000",
          "1998-06-09T00:00:00.000000000",
          "1998-06-13T00:00:00.000000000",
          "1998-06-15T00:00:00.000000000",
          "1998-06-17T00:00:00.000000000",
          "1998-06-18T00:00:00.000000000",
          "1998-06-18T00:00:00.000000000",
          "1998-06-18T00:00:00.000000000",
          "1998-06-23T00:00:00.000000000",
          "1998-06-24T00:00:00.000000000",
          "1998-06-24T00:00:00.000000000",
          "1998-07-03T00:00:00.000000000",
          "1998-07-03T00:00:00.000000000",
          "1998-07-03T00:00:00.000000000",
          "1998-07-03T00:00:00.000000000",
          "1998-07-03T00:00:00.000000000",
          "1998-07-03T00:00:00.000000000",
          "1998-07-03T00:00:00.000000000",
          "1998-07-03T00:00:00.000000000",
          "1998-07-04T00:00:00.000000000",
          "1998-07-04T00:00:00.000000000",
          "1998-07-04T00:00:00.000000000",
          "1998-07-04T00:00:00.000000000",
          "1998-07-04T00:00:00.000000000",
          "1998-07-04T00:00:00.000000000",
          "1998-07-04T00:00:00.000000000",
          "1998-07-04T00:00:00.000000000",
          "1998-07-05T00:00:00.000000000",
          "1998-07-05T00:00:00.000000000",
          "1998-07-05T00:00:00.000000000",
          "1998-07-05T00:00:00.000000000",
          "1998-07-05T00:00:00.000000000",
          "1998-07-05T00:00:00.000000000",
          "1998-07-05T00:00:00.000000000",
          "1998-07-05T00:00:00.000000000",
          "1998-07-06T00:00:00.000000000",
          "1998-07-06T00:00:00.000000000",
          "1998-07-06T00:00:00.000000000",
          "1998-07-06T00:00:00.000000000",
          "1998-07-06T00:00:00.000000000",
          "1998-07-06T00:00:00.000000000",
          "1998-07-06T00:00:00.000000000",
          "1998-07-07T00:00:00.000000000",
          "1998-07-07T00:00:00.000000000",
          "1998-07-07T00:00:00.000000000",
          "1998-07-07T00:00:00.000000000",
          "1998-07-07T00:00:00.000000000",
          "1998-07-07T00:00:00.000000000",
          "1998-07-07T00:00:00.000000000",
          "1998-07-07T00:00:00.000000000",
          "1998-07-08T00:00:00.000000000",
          "1998-07-08T00:00:00.000000000",
          "1998-07-08T00:00:00.000000000",
          "1998-07-08T00:00:00.000000000",
          "1998-07-08T00:00:00.000000000",
          "1998-07-08T00:00:00.000000000",
          "1998-07-08T00:00:00.000000000",
          "1998-07-08T00:00:00.000000000",
          "1998-07-08T00:00:00.000000000",
          "1998-07-08T00:00:00.000000000",
          "1998-07-08T00:00:00.000000000",
          "1998-07-08T00:00:00.000000000",
          "1998-07-09T00:00:00.000000000",
          "1998-07-09T00:00:00.000000000",
          "1998-07-09T00:00:00.000000000",
          "1998-07-09T00:00:00.000000000",
          "1998-07-09T00:00:00.000000000",
          "1998-07-09T00:00:00.000000000",
          "1998-07-09T00:00:00.000000000",
          "1998-07-09T00:00:00.000000000",
          "1998-07-18T00:00:00.000000000",
          "1998-07-18T00:00:00.000000000",
          "1998-07-21T00:00:00.000000000",
          "1998-07-21T00:00:00.000000000",
          "1998-07-21T00:00:00.000000000",
          "1998-07-21T00:00:00.000000000",
          "1998-07-23T00:00:00.000000000",
          "1998-07-23T00:00:00.000000000",
          "1998-08-27T00:00:00.000000000",
          "1998-08-28T00:00:00.000000000",
          "1998-08-29T00:00:00.000000000",
          "1998-08-30T00:00:00.000000000",
          "1998-09-01T00:00:00.000000000",
          "1998-09-05T00:00:00.000000000",
          "1998-10-07T00:00:00.000000000",
          "1998-10-08T00:00:00.000000000",
          "1998-10-08T00:00:00.000000000",
          "1998-10-08T00:00:00.000000000",
          "1998-10-08T00:00:00.000000000",
          "1998-10-10T00:00:00.000000000",
          "1998-10-13T00:00:00.000000000",
          "1998-10-14T00:00:00.000000000",
          "1999-02-18T00:00:00.000000000",
          "1999-02-18T00:00:00.000000000",
          "1999-02-20T00:00:00.000000000",
          "1999-02-21T00:00:00.000000000",
          "1999-02-21T00:00:00.000000000",
          "1999-02-21T00:00:00.000000000",
          "1999-05-08T00:00:00.000000000",
          "1999-05-08T00:00:00.000000000",
          "1999-05-09T00:00:00.000000000",
          "1999-05-09T00:00:00.000000000",
          "1999-05-10T00:00:00.000000000",
          "1999-05-11T00:00:00.000000000",
          "1999-05-20T00:00:00.000000000",
          "1999-05-20T00:00:00.000000000",
          "1999-05-20T00:00:00.000000000",
          "1999-05-20T00:00:00.000000000",
          "1999-05-24T00:00:00.000000000",
          "1999-05-25T00:00:00.000000000",
          "1999-05-25T00:00:00.000000000",
          "1999-06-18T00:00:00.000000000",
          "1999-06-19T00:00:00.000000000",
          "1999-06-20T00:00:00.000000000",
          "1999-06-21T00:00:00.000000000",
          "1999-06-24T00:00:00.000000000",
          "1999-06-24T00:00:00.000000000",
          "1999-07-05T00:00:00.000000000",
          "1999-07-08T00:00:00.000000000",
          "1999-07-08T00:00:00.000000000",
          "1999-07-08T00:00:00.000000000",
          "1999-07-08T00:00:00.000000000",
          "1999-07-09T00:00:00.000000000",
          "1999-07-09T00:00:00.000000000",
          "1999-07-09T00:00:00.000000000",
          "1999-07-09T00:00:00.000000000",
          "1999-07-09T00:00:00.000000000",
          "1999-07-09T00:00:00.000000000",
          "1999-07-09T00:00:00.000000000",
          "1999-07-09T00:00:00.000000000",
          "1999-07-10T00:00:00.000000000",
          "1999-07-10T00:00:00.000000000",
          "1999-07-10T00:00:00.000000000",
          "1999-07-10T00:00:00.000000000",
          "1999-07-11T00:00:00.000000000",
          "1999-07-11T00:00:00.000000000",
          "1999-07-11T00:00:00.000000000",
          "1999-07-11T00:00:00.000000000",
          "1999-07-11T00:00:00.000000000",
          "1999-07-11T00:00:00.000000000",
          "1999-07-11T00:00:00.000000000",
          "1999-07-11T00:00:00.000000000",
          "1999-07-12T00:00:00.000000000",
          "1999-07-12T00:00:00.000000000",
          "1999-07-12T00:00:00.000000000",
          "1999-07-12T00:00:00.000000000",
          "1999-07-13T00:00:00.000000000",
          "1999-07-13T00:00:00.000000000",
          "1999-07-13T00:00:00.000000000",
          "1999-07-13T00:00:00.000000000",
          "1999-07-13T00:00:00.000000000",
          "1999-07-13T00:00:00.000000000",
          "1999-07-13T00:00:00.000000000",
          "1999-07-13T00:00:00.000000000",
          "1999-08-26T00:00:00.000000000",
          "1999-08-27T00:00:00.000000000",
          "1999-08-29T00:00:00.000000000",
          "1999-08-30T00:00:00.000000000",
          "1999-09-02T00:00:00.000000000",
          "1999-09-04T00:00:00.000000000",
          "1999-09-05T00:00:00.000000000",
          "1999-09-06T00:00:00.000000000",
          "1999-09-07T00:00:00.000000000",
          "1999-09-27T00:00:00.000000000",
          "1999-10-13T00:00:00.000000000",
          "2000-02-15T00:00:00.000000000",
          "2000-02-15T00:00:00.000000000",
          "2000-05-08T00:00:00.000000000",
          "2000-05-08T00:00:00.000000000",
          "2000-05-09T00:00:00.000000000",
          "2000-05-10T00:00:00.000000000",
          "2000-05-10T00:00:00.000000000",
          "2000-05-10T00:00:00.000000000",
          "2000-05-12T00:00:00.000000000",
          "2000-06-03T00:00:00.000000000",
          "2000-06-05T00:00:00.000000000",
          "2000-06-06T00:00:00.000000000",
          "2000-06-09T00:00:00.000000000",
          "2000-06-18T00:00:00.000000000",
          "2000-06-18T00:00:00.000000000",
          "2000-06-19T00:00:00.000000000",
          "2000-06-19T00:00:00.000000000",
          "2000-06-19T00:00:00.000000000",
          "2000-06-19T00:00:00.000000000",
          "2000-06-19T00:00:00.000000000",
          "2000-06-19T00:00:00.000000000",
          "2000-06-19T00:00:00.000000000",
          "2000-06-20T00:00:00.000000000",
          "2000-07-04T00:00:00.000000000",
          "2000-07-04T00:00:00.000000000",
          "2000-07-04T00:00:00.000000000",
          "2000-07-04T00:00:00.000000000",
          "2000-07-04T00:00:00.000000000",
          "2000-07-04T00:00:00.000000000",
          "2000-07-04T00:00:00.000000000",
          "2000-07-04T00:00:00.000000000",
          "2000-07-05T00:00:00.000000000",
          "2000-07-05T00:00:00.000000000",
          "2000-07-05T00:00:00.000000000",
          "2000-07-06T00:00:00.000000000",
          "2000-07-06T00:00:00.000000000",
          "2000-07-07T00:00:00.000000000",
          "2000-07-07T00:00:00.000000000",
          "2000-07-07T00:00:00.000000000",
          "2000-07-07T00:00:00.000000000",
          "2000-07-08T00:00:00.000000000",
          "2000-07-08T00:00:00.000000000",
          "2000-07-08T00:00:00.000000000",
          "2000-07-08T00:00:00.000000000",
          "2000-07-08T00:00:00.000000000",
          "2000-07-08T00:00:00.000000000",
          "2000-07-12T00:00:00.000000000",
          "2000-07-12T00:00:00.000000000",
          "2000-07-12T00:00:00.000000000",
          "2000-07-12T00:00:00.000000000",
          "2000-07-13T00:00:00.000000000",
          "2000-07-13T00:00:00.000000000",
          "2000-07-13T00:00:00.000000000",
          "2000-07-13T00:00:00.000000000",
          "2000-08-03T00:00:00.000000000",
          "2000-08-03T00:00:00.000000000",
          "2000-08-03T00:00:00.000000000",
          "2000-08-03T00:00:00.000000000",
          "2000-08-03T00:00:00.000000000",
          "2000-08-04T00:00:00.000000000",
          "2000-08-04T00:00:00.000000000",
          "2000-08-04T00:00:00.000000000",
          "2000-08-04T00:00:00.000000000",
          "2000-08-04T00:00:00.000000000",
          "2000-08-04T00:00:00.000000000",
          "2000-08-04T00:00:00.000000000",
          "2000-08-04T00:00:00.000000000",
          "2000-08-04T00:00:00.000000000",
          "2000-08-04T00:00:00.000000000",
          "2000-08-05T00:00:00.000000000",
          "2000-08-05T00:00:00.000000000",
          "2000-08-05T00:00:00.000000000",
          "2000-08-05T00:00:00.000000000",
          "2000-08-05T00:00:00.000000000",
          "2000-08-06T00:00:00.000000000",
          "2000-08-07T00:00:00.000000000",
          "2000-08-10T00:00:00.000000000",
          "2000-08-10T00:00:00.000000000",
          "2000-08-10T00:00:00.000000000",
          "2000-08-10T00:00:00.000000000",
          "2000-09-07T00:00:00.000000000",
          "2000-09-08T00:00:00.000000000",
          "2000-09-10T00:00:00.000000000",
          "2000-09-11T00:00:00.000000000",
          "2000-09-14T00:00:00.000000000",
          "2000-09-15T00:00:00.000000000",
          "2000-09-26T00:00:00.000000000",
          "2000-09-26T00:00:00.000000000",
          "2000-09-26T00:00:00.000000000",
          "2000-09-27T00:00:00.000000000",
          "2000-09-27T00:00:00.000000000",
          "2000-09-27T00:00:00.000000000",
          "2000-09-27T00:00:00.000000000",
          "2000-09-27T00:00:00.000000000",
          "2000-09-28T00:00:00.000000000",
          "2000-09-28T00:00:00.000000000",
          "2000-09-29T00:00:00.000000000",
          "2000-10-01T00:00:00.000000000",
          "2000-10-01T00:00:00.000000000",
          "2000-10-01T00:00:00.000000000",
          "2000-10-01T00:00:00.000000000",
          "2000-10-01T00:00:00.000000000",
          "2000-10-01T00:00:00.000000000",
          "2000-10-02T00:00:00.000000000",
          "2001-02-09T00:00:00.000000000",
          "2001-02-11T00:00:00.000000000",
          "2001-02-12T00:00:00.000000000",
          "2001-02-16T00:00:00.000000000",
          "2001-02-16T00:00:00.000000000",
          "2001-02-17T00:00:00.000000000",
          "2001-02-19T00:00:00.000000000",
          "2001-02-19T00:00:00.000000000",
          "2001-03-23T00:00:00.000000000",
          "2001-05-31T00:00:00.000000000",
          "2001-05-31T00:00:00.000000000",
          "2001-06-02T00:00:00.000000000",
          "2001-06-02T00:00:00.000000000",
          "2001-06-02T00:00:00.000000000",
          "2001-06-02T00:00:00.000000000",
          "2001-06-02T00:00:00.000000000",
          "2001-06-03T00:00:00.000000000",
          "2001-06-03T00:00:00.000000000",
          "2001-06-03T00:00:00.000000000",
          "2001-06-03T00:00:00.000000000",
          "2001-06-03T00:00:00.000000000",
          "2001-06-03T00:00:00.000000000",
          "2001-06-04T00:00:00.000000000",
          "2001-06-05T00:00:00.000000000",
          "2001-06-05T00:00:00.000000000",
          "2001-06-05T00:00:00.000000000",
          "2001-06-05T00:00:00.000000000",
          "2001-06-06T00:00:00.000000000",
          "2001-06-06T00:00:00.000000000",
          "2001-06-06T00:00:00.000000000",
          "2001-06-06T00:00:00.000000000",
          "2001-06-07T00:00:00.000000000",
          "2001-06-08T00:00:00.000000000",
          "2001-06-08T00:00:00.000000000",
          "2001-06-08T00:00:00.000000000",
          "2001-06-08T00:00:00.000000000",
          "2001-06-09T00:00:00.000000000",
          "2001-06-09T00:00:00.000000000",
          "2001-06-09T00:00:00.000000000",
          "2001-06-10T00:00:00.000000000",
          "2001-06-10T00:00:00.000000000",
          "2001-06-10T00:00:00.000000000",
          "2001-06-10T00:00:00.000000000",
          "2001-06-11T00:00:00.000000000",
          "2001-06-11T00:00:00.000000000",
          "2001-06-11T00:00:00.000000000",
          "2001-06-12T00:00:00.000000000",
          "2001-06-12T00:00:00.000000000",
          "2001-06-12T00:00:00.000000000",
          "2001-06-12T00:00:00.000000000",
          "2001-06-12T00:00:00.000000000",
          "2001-06-12T00:00:00.000000000",
          "2001-06-16T00:00:00.000000000",
          "2001-06-21T00:00:00.000000000",
          "2001-06-22T00:00:00.000000000",
          "2001-06-22T00:00:00.000000000",
          "2001-06-22T00:00:00.000000000",
          "2001-06-22T00:00:00.000000000",
          "2001-06-22T00:00:00.000000000",
          "2001-06-23T00:00:00.000000000",
          "2001-06-24T00:00:00.000000000",
          "2001-07-04T00:00:00.000000000",
          "2001-07-04T00:00:00.000000000",
          "2001-07-04T00:00:00.000000000",
          "2001-07-06T00:00:00.000000000",
          "2001-07-06T00:00:00.000000000",
          "2001-07-06T00:00:00.000000000",
          "2001-07-06T00:00:00.000000000",
          "2001-08-25T00:00:00.000000000",
          "2001-08-29T00:00:00.000000000",
          "2001-09-19T00:00:00.000000000",
          "2001-09-19T00:00:00.000000000",
          "2001-09-22T00:00:00.000000000",
          "2001-09-22T00:00:00.000000000",
          "2001-09-22T00:00:00.000000000",
          "2001-09-22T00:00:00.000000000",
          "2001-09-22T00:00:00.000000000",
          "2001-09-23T00:00:00.000000000",
          "2001-09-25T00:00:00.000000000",
          "2001-09-25T00:00:00.000000000",
          "2001-09-26T00:00:00.000000000",
          "2001-09-27T00:00:00.000000000",
          "2001-09-28T00:00:00.000000000",
          "2001-09-28T00:00:00.000000000",
          "2001-09-30T00:00:00.000000000",
          "2001-09-30T00:00:00.000000000",
          "2001-10-03T00:00:00.000000000",
          "2002-02-07T00:00:00.000000000",
          "2002-02-11T00:00:00.000000000",
          "2002-02-13T00:00:00.000000000",
          "2002-02-14T00:00:00.000000000",
          "2002-02-15T00:00:00.000000000",
          "2002-02-15T00:00:00.000000000",
          "2002-02-16T00:00:00.000000000",
          "2002-03-05T00:00:00.000000000",
          "2002-03-05T00:00:00.000000000",
          "2002-03-05T00:00:00.000000000",
          "2002-05-03T00:00:00.000000000",
          "2002-05-05T00:00:00.000000000",
          "2002-05-05T00:00:00.000000000",
          "2002-05-06T00:00:00.000000000",
          "2002-05-06T00:00:00.000000000",
          "2002-05-06T00:00:00.000000000",
          "2002-05-06T00:00:00.000000000",
          "2002-06-19T00:00:00.000000000",
          "2002-06-19T00:00:00.000000000",
          "2002-06-19T00:00:00.000000000",
          "2002-06-19T00:00:00.000000000",
          "2002-06-26T00:00:00.000000000",
          "2002-06-26T00:00:00.000000000",
          "2002-06-26T00:00:00.000000000",
          "2002-07-01T00:00:00.000000000",
          "2002-07-02T00:00:00.000000000",
          "2002-07-03T00:00:00.000000000",
          "2002-07-04T00:00:00.000000000",
          "2002-07-05T00:00:00.000000000",
          "2002-07-19T00:00:00.000000000",
          "2002-07-22T00:00:00.000000000",
          "2002-07-22T00:00:00.000000000",
          "2002-07-22T00:00:00.000000000",
          "2002-07-22T00:00:00.000000000",
          "2002-07-23T00:00:00.000000000",
          "2002-07-23T00:00:00.000000000",
          "2002-07-23T00:00:00.000000000",
          "2002-07-23T00:00:00.000000000",
          "2002-07-24T00:00:00.000000000",
          "2002-08-18T00:00:00.000000000",
          "2002-08-18T00:00:00.000000000",
          "2002-08-18T00:00:00.000000000",
          "2002-08-18T00:00:00.000000000",
          "2002-08-27T00:00:00.000000000",
          "2002-08-28T00:00:00.000000000",
          "2002-08-29T00:00:00.000000000",
          "2002-08-30T00:00:00.000000000",
          "2002-09-03T00:00:00.000000000",
          "2002-09-06T00:00:00.000000000",
          "2002-09-08T00:00:00.000000000",
          "2002-09-19T00:00:00.000000000",
          "2002-09-19T00:00:00.000000000",
          "2002-09-19T00:00:00.000000000",
          "2002-09-19T00:00:00.000000000",
          "2002-09-21T00:00:00.000000000",
          "2002-10-19T00:00:00.000000000",
          "2002-10-23T00:00:00.000000000",
          "2002-10-23T00:00:00.000000000",
          "2002-10-23T00:00:00.000000000",
          "2002-10-23T00:00:00.000000000",
          "2003-02-12T00:00:00.000000000",
          "2003-02-14T00:00:00.000000000",
          "2003-02-15T00:00:00.000000000",
          "2003-02-16T00:00:00.000000000",
          "2003-02-16T00:00:00.000000000",
          "2003-02-17T00:00:00.000000000",
          "2003-02-21T00:00:00.000000000",
          "2003-02-21T00:00:00.000000000",
          "2003-02-21T00:00:00.000000000",
          "2003-05-19T00:00:00.000000000",
          "2003-05-19T00:00:00.000000000",
          "2003-05-19T00:00:00.000000000",
          "2003-05-20T00:00:00.000000000",
          "2003-05-20T00:00:00.000000000",
          "2003-05-29T00:00:00.000000000",
          "2003-05-30T00:00:00.000000000",
          "2003-05-31T00:00:00.000000000",
          "2003-06-01T00:00:00.000000000",
          "2003-06-03T00:00:00.000000000",
          "2003-06-08T00:00:00.000000000",
          "2003-06-09T00:00:00.000000000",
          "2003-06-10T00:00:00.000000000",
          "2003-06-10T00:00:00.000000000",
          "2003-06-10T00:00:00.000000000",
          "2003-06-11T00:00:00.000000000",
          "2003-09-01T00:00:00.000000000",
          "2003-09-02T00:00:00.000000000",
          "2003-09-03T00:00:00.000000000",
          "2003-09-04T00:00:00.000000000",
          "2003-09-06T00:00:00.000000000",
          "2003-09-07T00:00:00.000000000",
          "2003-09-26T00:00:00.000000000",
          "2003-09-27T00:00:00.000000000",
          "2003-09-28T00:00:00.000000000",
          "2003-10-26T00:00:00.000000000",
          "2003-10-27T00:00:00.000000000",
          "2003-10-27T00:00:00.000000000",
          "2004-02-20T00:00:00.000000000",
          "2004-02-20T00:00:00.000000000",
          "2004-02-21T00:00:00.000000000",
          "2004-02-22T00:00:00.000000000",
          "2004-02-24T00:00:00.000000000",
          "2004-02-27T00:00:00.000000000",
          "2004-02-27T00:00:00.000000000",
          "2004-02-27T00:00:00.000000000",
          "2004-02-27T00:00:00.000000000",
          "2004-05-29T00:00:00.000000000",
          "2004-05-29T00:00:00.000000000",
          "2004-05-30T00:00:00.000000000",
          "2004-06-03T00:00:00.000000000",
          "2004-06-03T00:00:00.000000000",
          "2004-06-04T00:00:00.000000000",
          "2004-06-06T00:00:00.000000000",
          "2004-06-07T00:00:00.000000000",
          "2004-06-14T00:00:00.000000000",
          "2004-06-14T00:00:00.000000000",
          "2004-06-14T00:00:00.000000000",
          "2004-06-14T00:00:00.000000000",
          "2004-06-14T00:00:00.000000000",
          "2004-08-21T00:00:00.000000000",
          "2004-08-22T00:00:00.000000000",
          "2004-08-23T00:00:00.000000000",
          "2004-08-24T00:00:00.000000000",
          "2004-08-26T00:00:00.000000000",
          "2004-09-05T00:00:00.000000000",
          "2004-09-05T00:00:00.000000000",
          "2004-09-05T00:00:00.000000000",
          "2004-09-06T00:00:00.000000000",
          "2004-10-27T00:00:00.000000000",
          "2004-10-27T00:00:00.000000000",
          "2004-10-27T00:00:00.000000000",
          "2004-10-27T00:00:00.000000000",
          "2005-02-13T00:00:00.000000000",
          "2005-02-14T00:00:00.000000000",
          "2005-02-15T00:00:00.000000000",
          "2005-02-16T00:00:00.000000000",
          "2005-02-18T00:00:00.000000000",
          "2005-02-18T00:00:00.000000000",
          "2005-02-19T00:00:00.000000000",
          "2005-02-22T00:00:00.000000000",
          "2005-02-23T00:00:00.000000000",
          "2005-03-12T00:00:00.000000000",
          "2005-03-12T00:00:00.000000000",
          "2005-03-12T00:00:00.000000000",
          "2005-03-12T00:00:00.000000000",
          "2005-03-13T00:00:00.000000000",
          "2005-03-13T00:00:00.000000000",
          "2005-03-13T00:00:00.000000000",
          "2005-03-13T00:00:00.000000000",
          "2005-05-27T00:00:00.000000000",
          "2005-05-28T00:00:00.000000000",
          "2005-06-03T00:00:00.000000000",
          "2005-06-03T00:00:00.000000000",
          "2005-06-06T00:00:00.000000000",
          "2005-06-06T00:00:00.000000000",
          "2005-06-07T00:00:00.000000000",
          "2005-06-15T00:00:00.000000000",
          "2005-07-29T00:00:00.000000000",
          "2005-08-13T00:00:00.000000000",
          "2005-08-18T00:00:00.000000000",
          "2005-08-19T00:00:00.000000000",
          "2005-08-20T00:00:00.000000000",
          "2005-08-21T00:00:00.000000000",
          "2005-08-22T00:00:00.000000000",
          "2005-08-23T00:00:00.000000000",
          "2005-08-27T00:00:00.000000000",
          "2005-08-28T00:00:00.000000000",
          "2005-09-08T00:00:00.000000000",
          "2005-09-09T00:00:00.000000000",
          "2006-02-06T00:00:00.000000000",
          "2006-02-06T00:00:00.000000000",
          "2006-02-09T00:00:00.000000000",
          "2006-02-10T00:00:00.000000000",
          "2006-02-13T00:00:00.000000000",
          "2006-04-21T00:00:00.000000000",
          "2006-04-21T00:00:00.000000000",
          "2006-07-14T00:00:00.000000000",
          "2006-07-17T00:00:00.000000000",
          "2006-08-24T00:00:00.000000000",
          "2006-08-27T00:00:00.000000000",
          "2006-09-22T00:00:00.000000000",
          "2006-09-23T00:00:00.000000000",
          "2006-09-24T00:00:00.000000000",
          "2006-09-26T00:00:00.000000000",
          "2006-09-28T00:00:00.000000000",
          "2006-10-01T00:00:00.000000000",
          "2006-10-02T00:00:00.000000000",
          "2006-10-04T00:00:00.000000000",
          "2007-02-10T00:00:00.000000000",
          "2007-02-10T00:00:00.000000000",
          "2007-02-11T00:00:00.000000000",
          "2007-02-12T00:00:00.000000000",
          "2007-02-15T00:00:00.000000000",
          "2007-02-16T00:00:00.000000000",
          "2007-02-16T00:00:00.000000000",
          "2007-02-18T00:00:00.000000000",
          "2007-02-18T00:00:00.000000000",
          "2007-05-26T00:00:00.000000000",
          "2007-06-02T00:00:00.000000000",
          "2007-06-03T00:00:00.000000000",
          "2007-06-04T00:00:00.000000000",
          "2007-06-07T00:00:00.000000000",
          "2007-06-21T00:00:00.000000000",
          "2007-06-21T00:00:00.000000000",
          "2007-06-21T00:00:00.000000000",
          "2007-06-21T00:00:00.000000000",
          "2007-06-27T00:00:00.000000000",
          "2007-06-27T00:00:00.000000000",
          "2007-06-28T00:00:00.000000000",
          "2007-07-04T00:00:00.000000000",
          "2007-07-05T00:00:00.000000000",
          "2007-07-06T00:00:00.000000000",
          "2007-07-07T00:00:00.000000000",
          "2007-07-07T00:00:00.000000000",
          "2007-07-08T00:00:00.000000000",
          "2007-08-17T00:00:00.000000000",
          "2007-08-18T00:00:00.000000000",
          "2007-08-19T00:00:00.000000000",
          "2007-08-21T00:00:00.000000000",
          "2007-08-22T00:00:00.000000000",
          "2007-09-06T00:00:00.000000000",
          "2007-09-07T00:00:00.000000000",
          "2008-02-02T00:00:00.000000000",
          "2008-02-03T00:00:00.000000000",
          "2008-02-04T00:00:00.000000000",
          "2008-02-06T00:00:00.000000000",
          "2008-02-10T00:00:00.000000000",
          "2008-05-25T00:00:00.000000000",
          "2008-05-26T00:00:00.000000000",
          "2008-06-02T00:00:00.000000000",
          "2008-06-03T00:00:00.000000000",
          "2008-06-04T00:00:00.000000000",
          "2008-06-06T00:00:00.000000000",
          "2008-06-08T00:00:00.000000000",
          "2008-07-04T00:00:00.000000000",
          "2008-07-05T00:00:00.000000000",
          "2008-07-07T00:00:00.000000000",
          "2008-07-09T00:00:00.000000000",
          "2008-08-15T00:00:00.000000000",
          "2008-08-16T00:00:00.000000000",
          "2008-08-17T00:00:00.000000000",
          "2008-08-19T00:00:00.000000000",
          "2008-08-21T00:00:00.000000000",
          "2008-09-04T00:00:00.000000000",
          "2008-09-05T00:00:00.000000000",
          "2008-09-06T00:00:00.000000000",
          "2008-10-17T00:00:00.000000000",
          "2009-01-30T00:00:00.000000000",
          "2009-01-31T00:00:00.000000000",
          "2009-01-31T00:00:00.000000000",
          "2009-02-02T00:00:00.000000000",
          "2009-02-05T00:00:00.000000000",
          "2009-05-31T00:00:00.000000000",
          "2009-05-31T00:00:00.000000000",
          "2009-06-01T00:00:00.000000000",
          "2009-06-08T00:00:00.000000000",
          "2009-06-09T00:00:00.000000000",
          "2009-06-10T00:00:00.000000000",
          "2009-06-11T00:00:00.000000000",
          "2009-06-14T00:00:00.000000000",
          "2009-07-11T00:00:00.000000000",
          "2009-07-12T00:00:00.000000000",
          "2009-07-13T00:00:00.000000000",
          "2009-07-14T00:00:00.000000000",
          "2009-08-22T00:00:00.000000000",
          "2009-08-23T00:00:00.000000000",
          "2009-08-26T00:00:00.000000000",
          "2009-08-27T00:00:00.000000000",
          "2009-08-31T00:00:00.000000000",
          "2009-08-31T00:00:00.000000000",
          "2009-09-09T00:00:00.000000000",
          "2009-09-09T00:00:00.000000000",
          "2009-09-10T00:00:00.000000000",
          "2010-02-05T00:00:00.000000000",
          "2010-02-06T00:00:00.000000000",
          "2010-02-08T00:00:00.000000000",
          "2010-05-31T00:00:00.000000000",
          "2010-05-31T00:00:00.000000000",
          "2010-06-08T00:00:00.000000000",
          "2010-06-09T00:00:00.000000000",
          "2010-06-10T00:00:00.000000000",
          "2010-06-11T00:00:00.000000000",
          "2010-06-14T00:00:00.000000000",
          "2010-07-23T00:00:00.000000000",
          "2010-07-24T00:00:00.000000000",
          "2010-07-26T00:00:00.000000000",
          "2010-07-28T00:00:00.000000000",
          "2010-08-21T00:00:00.000000000",
          "2010-08-22T00:00:00.000000000",
          "2010-08-23T00:00:00.000000000",
          "2010-08-25T00:00:00.000000000",
          "2010-08-26T00:00:00.000000000",
          "2010-09-08T00:00:00.000000000",
          "2010-09-09T00:00:00.000000000",
          "2010-09-09T00:00:00.000000000",
          "2010-09-10T00:00:00.000000000",
          "2011-02-10T00:00:00.000000000",
          "2011-02-11T00:00:00.000000000",
          "2011-02-12T00:00:00.000000000",
          "2011-02-14T00:00:00.000000000",
          "2011-02-16T00:00:00.000000000",
          "2011-05-29T00:00:00.000000000",
          "2011-05-30T00:00:00.000000000",
          "2011-05-30T00:00:00.000000000",
          "2011-05-30T00:00:00.000000000",
          "2011-06-05T00:00:00.000000000",
          "2011-06-06T00:00:00.000000000",
          "2011-06-08T00:00:00.000000000",
          "2011-06-09T00:00:00.000000000",
          "2011-06-13T00:00:00.000000000",
          "2011-08-19T00:00:00.000000000",
          "2011-08-20T00:00:00.000000000",
          "2011-08-22T00:00:00.000000000",
          "2011-08-23T00:00:00.000000000",
          "2011-08-26T00:00:00.000000000",
          "2011-09-06T00:00:00.000000000",
          "2011-09-06T00:00:00.000000000",
          "2011-09-07T00:00:00.000000000",
          "2011-09-07T00:00:00.000000000",
          "2011-09-08T00:00:00.000000000",
          "2012-02-10T00:00:00.000000000",
          "2012-02-11T00:00:00.000000000",
          "2012-02-12T00:00:00.000000000",
          "2012-02-15T00:00:00.000000000",
          "2012-02-16T00:00:00.000000000",
          "2012-05-16T00:00:00.000000000",
          "2012-05-17T00:00:00.000000000",
          "2012-05-18T00:00:00.000000000",
          "2012-05-18T00:00:00.000000000",
          "2012-05-26T00:00:00.000000000",
          "2012-05-30T00:00:00.000000000",
          "2012-06-03T00:00:00.000000000",
          "2012-08-18T00:00:00.000000000",
          "2012-08-18T00:00:00.000000000",
          "2012-08-20T00:00:00.000000000",
          "2012-08-24T00:00:00.000000000",
          "2012-09-04T00:00:00.000000000",
          "2012-09-05T00:00:00.000000000",
          "2012-09-06T00:00:00.000000000",
          "2013-02-07T00:00:00.000000000",
          "2013-02-08T00:00:00.000000000",
          "2013-02-09T00:00:00.000000000",
          "2013-02-13T00:00:00.000000000",
          "2013-02-14T00:00:00.000000000",
          "2013-06-02T00:00:00.000000000",
          "2013-06-03T00:00:00.000000000",
          "2013-06-03T00:00:00.000000000",
          "2013-06-10T00:00:00.000000000",
          "2013-06-11T00:00:00.000000000",
          "2013-06-12T00:00:00.000000000",
          "2013-06-14T00:00:00.000000000",
          "2013-06-18T00:00:00.000000000",
          "2013-08-23T00:00:00.000000000",
          "2013-08-25T00:00:00.000000000",
          "2013-08-26T00:00:00.000000000",
          "2013-08-28T00:00:00.000000000",
          "2013-08-30T00:00:00.000000000",
          "2013-09-11T00:00:00.000000000",
          "2014-02-12T00:00:00.000000000",
          "2014-02-22T00:00:00.000000000",
          "2014-06-04T00:00:00.000000000",
          "2014-06-13T00:00:00.000000000",
          "2014-06-15T00:00:00.000000000",
          "2014-06-17T00:00:00.000000000",
          "2014-08-23T00:00:00.000000000",
          "2014-08-25T00:00:00.000000000",
          "2014-08-26T00:00:00.000000000",
          "2014-08-26T00:00:00.000000000",
          "2014-09-10T00:00:00.000000000",
          "2014-09-11T00:00:00.000000000",
          "2014-09-11T00:00:00.000000000",
          "2014-09-12T00:00:00.000000000",
          "2015-02-12T00:00:00.000000000",
          "2015-02-13T00:00:00.000000000",
          "2015-02-15T00:00:00.000000000",
          "2015-02-16T00:00:00.000000000",
          "2015-02-19T00:00:00.000000000",
          "2015-06-02T00:00:00.000000000",
          "2015-06-10T00:00:00.000000000",
          "2015-06-12T00:00:00.000000000",
          "2015-06-13T00:00:00.000000000",
          "2015-06-17T00:00:00.000000000",
          "2015-06-20T00:00:00.000000000",
          "2015-07-10T00:00:00.000000000",
          "2015-07-10T00:00:00.000000000",
          "2015-07-11T00:00:00.000000000",
          "2015-07-11T00:00:00.000000000",
          "2015-07-11T00:00:00.000000000",
          "2015-07-12T00:00:00.000000000",
          "2015-07-13T00:00:00.000000000",
          "2015-07-13T00:00:00.000000000",
          "2015-07-13T00:00:00.000000000",
          "2015-07-14T00:00:00.000000000",
          "2015-07-14T00:00:00.000000000",
          "2015-07-14T00:00:00.000000000",
          "2015-07-14T00:00:00.000000000",
          "2015-07-15T00:00:00.000000000",
          "2015-07-16T00:00:00.000000000",
          "2015-07-18T00:00:00.000000000",
          "2015-08-22T00:00:00.000000000",
          "2015-08-23T00:00:00.000000000",
          "2015-08-24T00:00:00.000000000",
          "2015-08-26T00:00:00.000000000",
          "2015-08-28T00:00:00.000000000",
          "2015-09-07T00:00:00.000000000",
          "2015-10-19T00:00:00.000000000",
          "2016-02-10T00:00:00.000000000",
          "2016-02-12T00:00:00.000000000",
          "2016-02-16T00:00:00.000000000",
          "2016-02-18T00:00:00.000000000",
          "2016-05-31T00:00:00.000000000",
          "2016-05-31T00:00:00.000000000",
          "2016-06-01T00:00:00.000000000",
          "2016-06-07T00:00:00.000000000",
          "2016-06-09T00:00:00.000000000",
          "2016-06-10T00:00:00.000000000",
          "2016-06-11T00:00:00.000000000",
          "2016-06-14T00:00:00.000000000",
          "2016-08-06T00:00:00.000000000",
          "2016-08-06T00:00:00.000000000",
          "2016-08-07T00:00:00.000000000",
          "2016-08-10T00:00:00.000000000",
          "2016-08-20T00:00:00.000000000",
          "2016-08-22T00:00:00.000000000",
          "2016-08-23T00:00:00.000000000",
          "2016-08-26T00:00:00.000000000",
          "2016-08-29T00:00:00.000000000",
          "2016-09-08T00:00:00.000000000",
          "2016-09-08T00:00:00.000000000",
          "2017-02-09T00:00:00.000000000",
          "2017-02-12T00:00:00.000000000",
          "2017-02-15T00:00:00.000000000",
          "2017-02-16T00:00:00.000000000",
          "2017-02-17T00:00:00.000000000",
          "2017-05-28T00:00:00.000000000",
          "2017-05-30T00:00:00.000000000",
          "2017-06-06T00:00:00.000000000",
          "2017-06-07T00:00:00.000000000",
          "2017-06-09T00:00:00.000000000",
          "2017-06-10T00:00:00.000000000",
          "2017-06-13T00:00:00.000000000",
          "2017-07-22T00:00:00.000000000",
          "2017-07-22T00:00:00.000000000",
          "2017-07-22T00:00:00.000000000",
          "2017-07-22T00:00:00.000000000",
          "2017-07-23T00:00:00.000000000",
          "2017-07-23T00:00:00.000000000",
          "2017-07-24T00:00:00.000000000",
          "2017-07-24T00:00:00.000000000",
          "2017-07-24T00:00:00.000000000",
          "2017-07-24T00:00:00.000000000",
          "2017-07-25T00:00:00.000000000",
          "2017-07-25T00:00:00.000000000",
          "2017-07-25T00:00:00.000000000",
          "2017-07-26T00:00:00.000000000",
          "2017-07-26T00:00:00.000000000",
          "2017-07-26T00:00:00.000000000",
          "2017-07-26T00:00:00.000000000",
          "2017-07-27T00:00:00.000000000",
          "2017-07-27T00:00:00.000000000",
          "2017-07-27T00:00:00.000000000",
          "2017-07-28T00:00:00.000000000",
          "2017-07-28T00:00:00.000000000",
          "2017-07-28T00:00:00.000000000",
          "2017-08-18T00:00:00.000000000",
          "2017-08-19T00:00:00.000000000",
          "2017-08-21T00:00:00.000000000",
          "2017-08-24T00:00:00.000000000",
          "2017-08-26T00:00:00.000000000",
          "2017-09-05T00:00:00.000000000",
          "2017-09-06T00:00:00.000000000",
          "2017-09-06T00:00:00.000000000",
          "2017-09-07T00:00:00.000000000",
          "2017-09-08T00:00:00.000000000",
          "2018-02-21T00:00:00.000000000",
          "2018-02-22T00:00:00.000000000",
          "2018-02-26T00:00:00.000000000",
          "2018-03-02T00:00:00.000000000",
          "2018-03-03T00:00:00.000000000",
          "2018-05-13T00:00:00.000000000",
          "2018-05-13T00:00:00.000000000",
          "2018-06-08T00:00:00.000000000",
          "2018-06-09T00:00:00.000000000",
          "2018-06-10T00:00:00.000000000",
          "2018-06-11T00:00:00.000000000",
          "2018-06-13T00:00:00.000000000",
          "2018-06-13T00:00:00.000000000",
          "2018-08-28T00:00:00.000000000",
          "2018-09-06T00:00:00.000000000",
          "2018-09-14T00:00:00.000000000",
          "2018-09-15T00:00:00.000000000",
          "2018-09-16T00:00:00.000000000",
          "2018-09-18T00:00:00.000000000",
          "2018-09-20T00:00:00.000000000",
          "2018-09-20T00:00:00.000000000",
          "2018-09-21T00:00:00.000000000",
          "2018-09-22T00:00:00.000000000",
          "2018-09-22T00:00:00.000000000",
          "2018-09-22T00:00:00.000000000",
          "2019-02-07T00:00:00.000000000",
          "2019-02-08T00:00:00.000000000",
          "2019-02-10T00:00:00.000000000",
          "2019-02-12T00:00:00.000000000",
          "2019-06-04T00:00:00.000000000",
          "2019-06-05T00:00:00.000000000",
          "2019-06-07T00:00:00.000000000",
          "2019-06-11T00:00:00.000000000",
          "2019-07-03T00:00:00.000000000",
          "2019-07-03T00:00:00.000000000",
          "2019-07-19T00:00:00.000000000",
          "2019-07-20T00:00:00.000000000",
          "2019-07-20T00:00:00.000000000",
          "2019-07-20T00:00:00.000000000",
          "2019-07-21T00:00:00.000000000",
          "2019-07-21T00:00:00.000000000",
          "2019-07-22T00:00:00.000000000",
          "2019-07-22T00:00:00.000000000",
          "2019-07-23T00:00:00.000000000",
          "2019-07-23T00:00:00.000000000",
          "2019-07-23T00:00:00.000000000",
          "2019-07-24T00:00:00.000000000",
          "2019-07-25T00:00:00.000000000",
          "2019-07-25T00:00:00.000000000",
          "2019-07-26T00:00:00.000000000",
          "2019-07-26T00:00:00.000000000",
          "2019-07-27T00:00:00.000000000",
          "2019-07-27T00:00:00.000000000",
          "2019-08-04T00:00:00.000000000",
          "2019-08-16T00:00:00.000000000",
          "2019-08-17T00:00:00.000000000",
          "2019-08-19T00:00:00.000000000",
          "2019-08-20T00:00:00.000000000",
          "2019-08-23T00:00:00.000000000",
          "2019-09-03T00:00:00.000000000",
          "2019-09-04T00:00:00.000000000",
          "2020-02-10T00:00:00.000000000",
          "2020-02-11T00:00:00.000000000",
          "2020-02-12T00:00:00.000000000",
          "2020-02-14T00:00:00.000000000",
          "2020-02-15T00:00:00.000000000",
          "2020-02-16T00:00:00.000000000",
          "2020-06-26T00:00:00.000000000",
          "2020-06-26T00:00:00.000000000",
          "2020-06-30T00:00:00.000000000",
          "2020-07-05T00:00:00.000000000",
          "2020-07-05T00:00:00.000000000",
          "2020-07-22T00:00:00.000000000",
          "2020-07-26T00:00:00.000000000",
          "2020-08-14T00:00:00.000000000",
          "2020-08-15T00:00:00.000000000",
          "2020-08-17T00:00:00.000000000",
          "2020-08-18T00:00:00.000000000",
          "2020-08-20T00:00:00.000000000",
          "2020-08-30T00:00:00.000000000",
          "2020-08-31T00:00:00.000000000"
         ],
         "xaxis": "x",
         "yaxis": "y"
        },
        {
         "hovertemplate": "Time=%{x}<extra></extra>",
         "legendgroup": "",
         "marker": {
          "color": "#636efa"
         },
         "name": "",
         "notched": true,
         "showlegend": false,
         "type": "box",
         "x": [
          "1995-09-24T00:00:00.000000000",
          "1995-09-24T00:00:00.000000000",
          "1995-09-25T00:00:00.000000000",
          "1995-09-25T00:00:00.000000000",
          "1995-09-25T00:00:00.000000000",
          "1995-09-25T00:00:00.000000000",
          "1995-09-26T00:00:00.000000000",
          "1995-09-26T00:00:00.000000000",
          "1995-09-28T00:00:00.000000000",
          "1996-03-06T00:00:00.000000000",
          "1996-06-11T00:00:00.000000000",
          "1996-10-05T00:00:00.000000000",
          "1997-02-21T00:00:00.000000000",
          "1997-02-21T00:00:00.000000000",
          "1997-02-21T00:00:00.000000000",
          "1997-02-24T00:00:00.000000000",
          "1997-03-14T00:00:00.000000000",
          "1997-03-15T00:00:00.000000000",
          "1997-03-16T00:00:00.000000000",
          "1997-03-17T00:00:00.000000000",
          "1997-03-18T00:00:00.000000000",
          "1997-03-24T00:00:00.000000000",
          "1997-03-25T00:00:00.000000000",
          "1997-03-26T00:00:00.000000000",
          "1997-03-29T00:00:00.000000000",
          "1997-03-29T00:00:00.000000000",
          "1997-03-29T00:00:00.000000000",
          "1997-03-29T00:00:00.000000000",
          "1997-03-29T00:00:00.000000000",
          "1997-03-29T00:00:00.000000000",
          "1997-03-29T00:00:00.000000000",
          "1997-03-29T00:00:00.000000000",
          "1997-03-29T00:00:00.000000000",
          "1997-03-29T00:00:00.000000000",
          "1997-03-29T00:00:00.000000000",
          "1997-03-29T00:00:00.000000000",
          "1997-03-29T00:00:00.000000000",
          "1997-03-29T00:00:00.000000000",
          "1997-03-29T00:00:00.000000000",
          "1997-03-29T00:00:00.000000000",
          "1997-03-29T00:00:00.000000000",
          "1997-03-29T00:00:00.000000000",
          "1997-03-29T00:00:00.000000000",
          "1997-03-29T00:00:00.000000000",
          "1997-03-29T00:00:00.000000000",
          "1997-03-29T00:00:00.000000000",
          "1997-03-29T00:00:00.000000000",
          "1997-03-29T00:00:00.000000000",
          "1997-04-10T00:00:00.000000000",
          "1997-06-08T00:00:00.000000000",
          "1997-06-12T00:00:00.000000000",
          "1997-06-15T00:00:00.000000000",
          "1997-06-16T00:00:00.000000000",
          "1997-06-16T00:00:00.000000000",
          "1997-06-16T00:00:00.000000000",
          "1997-06-16T00:00:00.000000000",
          "1997-06-16T00:00:00.000000000",
          "1997-06-16T00:00:00.000000000",
          "1997-06-16T00:00:00.000000000",
          "1997-06-16T00:00:00.000000000",
          "1997-06-16T00:00:00.000000000",
          "1997-06-16T00:00:00.000000000",
          "1997-06-16T00:00:00.000000000",
          "1997-07-03T00:00:00.000000000",
          "1997-07-03T00:00:00.000000000",
          "1997-07-04T00:00:00.000000000",
          "1997-07-05T00:00:00.000000000",
          "1997-07-05T00:00:00.000000000",
          "1997-07-06T00:00:00.000000000",
          "1997-07-06T00:00:00.000000000",
          "1997-07-07T00:00:00.000000000",
          "1997-07-07T00:00:00.000000000",
          "1997-07-08T00:00:00.000000000",
          "1997-07-08T00:00:00.000000000",
          "1997-07-09T00:00:00.000000000",
          "1997-07-09T00:00:00.000000000",
          "1997-07-10T00:00:00.000000000",
          "1997-07-10T00:00:00.000000000",
          "1997-07-11T00:00:00.000000000",
          "1997-07-11T00:00:00.000000000",
          "1997-07-12T00:00:00.000000000",
          "1997-07-12T00:00:00.000000000",
          "1997-07-18T00:00:00.000000000",
          "1997-08-29T00:00:00.000000000",
          "1997-08-30T00:00:00.000000000",
          "1997-08-31T00:00:00.000000000",
          "1997-09-01T00:00:00.000000000",
          "1997-09-04T00:00:00.000000000",
          "1997-09-04T00:00:00.000000000",
          "1997-09-04T00:00:00.000000000",
          "1997-09-04T00:00:00.000000000",
          "1997-09-04T00:00:00.000000000",
          "1997-09-04T00:00:00.000000000",
          "1997-09-04T00:00:00.000000000",
          "1997-09-04T00:00:00.000000000",
          "1997-09-04T00:00:00.000000000",
          "1997-09-04T00:00:00.000000000",
          "1997-09-04T00:00:00.000000000",
          "1997-09-04T00:00:00.000000000",
          "1997-09-04T00:00:00.000000000",
          "1997-09-04T00:00:00.000000000",
          "1997-09-04T00:00:00.000000000",
          "1997-09-04T00:00:00.000000000",
          "1997-09-04T00:00:00.000000000",
          "1997-09-04T00:00:00.000000000",
          "1997-09-05T00:00:00.000000000",
          "1997-09-08T00:00:00.000000000",
          "1997-09-10T00:00:00.000000000",
          "1997-09-28T00:00:00.000000000",
          "1997-12-02T00:00:00.000000000",
          "1997-12-02T00:00:00.000000000",
          "1998-01-19T00:00:00.000000000",
          "1998-01-20T00:00:00.000000000",
          "1998-01-20T00:00:00.000000000",
          "1998-02-21T00:00:00.000000000",
          "1998-02-21T00:00:00.000000000",
          "1998-02-23T00:00:00.000000000",
          "1998-02-24T00:00:00.000000000",
          "1998-02-27T00:00:00.000000000",
          "1998-02-27T00:00:00.000000000",
          "1998-02-27T00:00:00.000000000",
          "1998-02-27T00:00:00.000000000",
          "1998-02-27T00:00:00.000000000",
          "1998-02-27T00:00:00.000000000",
          "1998-02-27T00:00:00.000000000",
          "1998-02-28T00:00:00.000000000",
          "1998-02-28T00:00:00.000000000",
          "1998-02-28T00:00:00.000000000",
          "1998-02-28T00:00:00.000000000",
          "1998-02-28T00:00:00.000000000",
          "1998-02-28T00:00:00.000000000",
          "1998-02-28T00:00:00.000000000",
          "1998-02-28T00:00:00.000000000",
          "1998-02-28T00:00:00.000000000",
          "1998-02-28T00:00:00.000000000",
          "1998-02-28T00:00:00.000000000",
          "1998-03-03T00:00:00.000000000",
          "1998-03-03T00:00:00.000000000",
          "1998-03-03T00:00:00.000000000",
          "1998-04-08T00:00:00.000000000",
          "1998-04-09T00:00:00.000000000",
          "1998-04-09T00:00:00.000000000",
          "1998-05-13T00:00:00.000000000",
          "1998-05-13T00:00:00.000000000",
          "1998-05-13T00:00:00.000000000",
          "1998-05-13T00:00:00.000000000",
          "1998-05-13T00:00:00.000000000",
          "1998-05-13T00:00:00.000000000",
          "1998-05-13T00:00:00.000000000",
          "1998-05-13T00:00:00.000000000",
          "1998-05-17T00:00:00.000000000",
          "1998-05-18T00:00:00.000000000",
          "1998-05-19T00:00:00.000000000",
          "1998-05-20T00:00:00.000000000",
          "1998-05-27T00:00:00.000000000",
          "1998-05-27T00:00:00.000000000",
          "1998-05-27T00:00:00.000000000",
          "1998-05-27T00:00:00.000000000",
          "1998-05-27T00:00:00.000000000",
          "1998-05-27T00:00:00.000000000",
          "1998-05-27T00:00:00.000000000",
          "1998-05-27T00:00:00.000000000",
          "1998-06-03T00:00:00.000000000",
          "1998-06-05T00:00:00.000000000",
          "1998-06-05T00:00:00.000000000",
          "1998-06-05T00:00:00.000000000",
          "1998-06-08T00:00:00.000000000",
          "1998-06-09T00:00:00.000000000",
          "1998-06-13T00:00:00.000000000",
          "1998-06-15T00:00:00.000000000",
          "1998-06-17T00:00:00.000000000",
          "1998-06-18T00:00:00.000000000",
          "1998-06-18T00:00:00.000000000",
          "1998-06-18T00:00:00.000000000",
          "1998-06-23T00:00:00.000000000",
          "1998-06-24T00:00:00.000000000",
          "1998-06-24T00:00:00.000000000",
          "1998-07-03T00:00:00.000000000",
          "1998-07-03T00:00:00.000000000",
          "1998-07-03T00:00:00.000000000",
          "1998-07-03T00:00:00.000000000",
          "1998-07-03T00:00:00.000000000",
          "1998-07-03T00:00:00.000000000",
          "1998-07-03T00:00:00.000000000",
          "1998-07-03T00:00:00.000000000",
          "1998-07-04T00:00:00.000000000",
          "1998-07-04T00:00:00.000000000",
          "1998-07-04T00:00:00.000000000",
          "1998-07-04T00:00:00.000000000",
          "1998-07-04T00:00:00.000000000",
          "1998-07-04T00:00:00.000000000",
          "1998-07-04T00:00:00.000000000",
          "1998-07-04T00:00:00.000000000",
          "1998-07-05T00:00:00.000000000",
          "1998-07-05T00:00:00.000000000",
          "1998-07-05T00:00:00.000000000",
          "1998-07-05T00:00:00.000000000",
          "1998-07-05T00:00:00.000000000",
          "1998-07-05T00:00:00.000000000",
          "1998-07-05T00:00:00.000000000",
          "1998-07-05T00:00:00.000000000",
          "1998-07-06T00:00:00.000000000",
          "1998-07-06T00:00:00.000000000",
          "1998-07-06T00:00:00.000000000",
          "1998-07-06T00:00:00.000000000",
          "1998-07-06T00:00:00.000000000",
          "1998-07-06T00:00:00.000000000",
          "1998-07-06T00:00:00.000000000",
          "1998-07-07T00:00:00.000000000",
          "1998-07-07T00:00:00.000000000",
          "1998-07-07T00:00:00.000000000",
          "1998-07-07T00:00:00.000000000",
          "1998-07-07T00:00:00.000000000",
          "1998-07-07T00:00:00.000000000",
          "1998-07-07T00:00:00.000000000",
          "1998-07-07T00:00:00.000000000",
          "1998-07-08T00:00:00.000000000",
          "1998-07-08T00:00:00.000000000",
          "1998-07-08T00:00:00.000000000",
          "1998-07-08T00:00:00.000000000",
          "1998-07-08T00:00:00.000000000",
          "1998-07-08T00:00:00.000000000",
          "1998-07-08T00:00:00.000000000",
          "1998-07-08T00:00:00.000000000",
          "1998-07-08T00:00:00.000000000",
          "1998-07-08T00:00:00.000000000",
          "1998-07-08T00:00:00.000000000",
          "1998-07-08T00:00:00.000000000",
          "1998-07-09T00:00:00.000000000",
          "1998-07-09T00:00:00.000000000",
          "1998-07-09T00:00:00.000000000",
          "1998-07-09T00:00:00.000000000",
          "1998-07-09T00:00:00.000000000",
          "1998-07-09T00:00:00.000000000",
          "1998-07-09T00:00:00.000000000",
          "1998-07-09T00:00:00.000000000",
          "1998-07-18T00:00:00.000000000",
          "1998-07-18T00:00:00.000000000",
          "1998-07-21T00:00:00.000000000",
          "1998-07-21T00:00:00.000000000",
          "1998-07-21T00:00:00.000000000",
          "1998-07-21T00:00:00.000000000",
          "1998-07-23T00:00:00.000000000",
          "1998-07-23T00:00:00.000000000",
          "1998-08-27T00:00:00.000000000",
          "1998-08-28T00:00:00.000000000",
          "1998-08-29T00:00:00.000000000",
          "1998-08-30T00:00:00.000000000",
          "1998-09-01T00:00:00.000000000",
          "1998-09-05T00:00:00.000000000",
          "1998-10-07T00:00:00.000000000",
          "1998-10-08T00:00:00.000000000",
          "1998-10-08T00:00:00.000000000",
          "1998-10-08T00:00:00.000000000",
          "1998-10-08T00:00:00.000000000",
          "1998-10-10T00:00:00.000000000",
          "1998-10-13T00:00:00.000000000",
          "1998-10-14T00:00:00.000000000",
          "1999-02-18T00:00:00.000000000",
          "1999-02-18T00:00:00.000000000",
          "1999-02-20T00:00:00.000000000",
          "1999-02-21T00:00:00.000000000",
          "1999-02-21T00:00:00.000000000",
          "1999-02-21T00:00:00.000000000",
          "1999-05-08T00:00:00.000000000",
          "1999-05-08T00:00:00.000000000",
          "1999-05-09T00:00:00.000000000",
          "1999-05-09T00:00:00.000000000",
          "1999-05-10T00:00:00.000000000",
          "1999-05-11T00:00:00.000000000",
          "1999-05-20T00:00:00.000000000",
          "1999-05-20T00:00:00.000000000",
          "1999-05-20T00:00:00.000000000",
          "1999-05-20T00:00:00.000000000",
          "1999-05-24T00:00:00.000000000",
          "1999-05-25T00:00:00.000000000",
          "1999-05-25T00:00:00.000000000",
          "1999-06-18T00:00:00.000000000",
          "1999-06-19T00:00:00.000000000",
          "1999-06-20T00:00:00.000000000",
          "1999-06-21T00:00:00.000000000",
          "1999-06-24T00:00:00.000000000",
          "1999-06-24T00:00:00.000000000",
          "1999-07-05T00:00:00.000000000",
          "1999-07-08T00:00:00.000000000",
          "1999-07-08T00:00:00.000000000",
          "1999-07-08T00:00:00.000000000",
          "1999-07-08T00:00:00.000000000",
          "1999-07-09T00:00:00.000000000",
          "1999-07-09T00:00:00.000000000",
          "1999-07-09T00:00:00.000000000",
          "1999-07-09T00:00:00.000000000",
          "1999-07-09T00:00:00.000000000",
          "1999-07-09T00:00:00.000000000",
          "1999-07-09T00:00:00.000000000",
          "1999-07-09T00:00:00.000000000",
          "1999-07-10T00:00:00.000000000",
          "1999-07-10T00:00:00.000000000",
          "1999-07-10T00:00:00.000000000",
          "1999-07-10T00:00:00.000000000",
          "1999-07-11T00:00:00.000000000",
          "1999-07-11T00:00:00.000000000",
          "1999-07-11T00:00:00.000000000",
          "1999-07-11T00:00:00.000000000",
          "1999-07-11T00:00:00.000000000",
          "1999-07-11T00:00:00.000000000",
          "1999-07-11T00:00:00.000000000",
          "1999-07-11T00:00:00.000000000",
          "1999-07-12T00:00:00.000000000",
          "1999-07-12T00:00:00.000000000",
          "1999-07-12T00:00:00.000000000",
          "1999-07-12T00:00:00.000000000",
          "1999-07-13T00:00:00.000000000",
          "1999-07-13T00:00:00.000000000",
          "1999-07-13T00:00:00.000000000",
          "1999-07-13T00:00:00.000000000",
          "1999-07-13T00:00:00.000000000",
          "1999-07-13T00:00:00.000000000",
          "1999-07-13T00:00:00.000000000",
          "1999-07-13T00:00:00.000000000",
          "1999-08-26T00:00:00.000000000",
          "1999-08-27T00:00:00.000000000",
          "1999-08-29T00:00:00.000000000",
          "1999-08-30T00:00:00.000000000",
          "1999-09-02T00:00:00.000000000",
          "1999-09-04T00:00:00.000000000",
          "1999-09-05T00:00:00.000000000",
          "1999-09-06T00:00:00.000000000",
          "1999-09-07T00:00:00.000000000",
          "1999-09-27T00:00:00.000000000",
          "1999-10-13T00:00:00.000000000",
          "2000-02-15T00:00:00.000000000",
          "2000-02-15T00:00:00.000000000",
          "2000-05-08T00:00:00.000000000",
          "2000-05-08T00:00:00.000000000",
          "2000-05-09T00:00:00.000000000",
          "2000-05-10T00:00:00.000000000",
          "2000-05-10T00:00:00.000000000",
          "2000-05-10T00:00:00.000000000",
          "2000-05-12T00:00:00.000000000",
          "2000-06-03T00:00:00.000000000",
          "2000-06-05T00:00:00.000000000",
          "2000-06-06T00:00:00.000000000",
          "2000-06-09T00:00:00.000000000",
          "2000-06-18T00:00:00.000000000",
          "2000-06-18T00:00:00.000000000",
          "2000-06-19T00:00:00.000000000",
          "2000-06-19T00:00:00.000000000",
          "2000-06-19T00:00:00.000000000",
          "2000-06-19T00:00:00.000000000",
          "2000-06-19T00:00:00.000000000",
          "2000-06-19T00:00:00.000000000",
          "2000-06-19T00:00:00.000000000",
          "2000-06-20T00:00:00.000000000",
          "2000-07-04T00:00:00.000000000",
          "2000-07-04T00:00:00.000000000",
          "2000-07-04T00:00:00.000000000",
          "2000-07-04T00:00:00.000000000",
          "2000-07-04T00:00:00.000000000",
          "2000-07-04T00:00:00.000000000",
          "2000-07-04T00:00:00.000000000",
          "2000-07-04T00:00:00.000000000",
          "2000-07-05T00:00:00.000000000",
          "2000-07-05T00:00:00.000000000",
          "2000-07-05T00:00:00.000000000",
          "2000-07-06T00:00:00.000000000",
          "2000-07-06T00:00:00.000000000",
          "2000-07-07T00:00:00.000000000",
          "2000-07-07T00:00:00.000000000",
          "2000-07-07T00:00:00.000000000",
          "2000-07-07T00:00:00.000000000",
          "2000-07-08T00:00:00.000000000",
          "2000-07-08T00:00:00.000000000",
          "2000-07-08T00:00:00.000000000",
          "2000-07-08T00:00:00.000000000",
          "2000-07-08T00:00:00.000000000",
          "2000-07-08T00:00:00.000000000",
          "2000-07-12T00:00:00.000000000",
          "2000-07-12T00:00:00.000000000",
          "2000-07-12T00:00:00.000000000",
          "2000-07-12T00:00:00.000000000",
          "2000-07-13T00:00:00.000000000",
          "2000-07-13T00:00:00.000000000",
          "2000-07-13T00:00:00.000000000",
          "2000-07-13T00:00:00.000000000",
          "2000-08-03T00:00:00.000000000",
          "2000-08-03T00:00:00.000000000",
          "2000-08-03T00:00:00.000000000",
          "2000-08-03T00:00:00.000000000",
          "2000-08-03T00:00:00.000000000",
          "2000-08-04T00:00:00.000000000",
          "2000-08-04T00:00:00.000000000",
          "2000-08-04T00:00:00.000000000",
          "2000-08-04T00:00:00.000000000",
          "2000-08-04T00:00:00.000000000",
          "2000-08-04T00:00:00.000000000",
          "2000-08-04T00:00:00.000000000",
          "2000-08-04T00:00:00.000000000",
          "2000-08-04T00:00:00.000000000",
          "2000-08-04T00:00:00.000000000",
          "2000-08-05T00:00:00.000000000",
          "2000-08-05T00:00:00.000000000",
          "2000-08-05T00:00:00.000000000",
          "2000-08-05T00:00:00.000000000",
          "2000-08-05T00:00:00.000000000",
          "2000-08-06T00:00:00.000000000",
          "2000-08-07T00:00:00.000000000",
          "2000-08-10T00:00:00.000000000",
          "2000-08-10T00:00:00.000000000",
          "2000-08-10T00:00:00.000000000",
          "2000-08-10T00:00:00.000000000",
          "2000-09-07T00:00:00.000000000",
          "2000-09-08T00:00:00.000000000",
          "2000-09-10T00:00:00.000000000",
          "2000-09-11T00:00:00.000000000",
          "2000-09-14T00:00:00.000000000",
          "2000-09-15T00:00:00.000000000",
          "2000-09-26T00:00:00.000000000",
          "2000-09-26T00:00:00.000000000",
          "2000-09-26T00:00:00.000000000",
          "2000-09-27T00:00:00.000000000",
          "2000-09-27T00:00:00.000000000",
          "2000-09-27T00:00:00.000000000",
          "2000-09-27T00:00:00.000000000",
          "2000-09-27T00:00:00.000000000",
          "2000-09-28T00:00:00.000000000",
          "2000-09-28T00:00:00.000000000",
          "2000-09-29T00:00:00.000000000",
          "2000-10-01T00:00:00.000000000",
          "2000-10-01T00:00:00.000000000",
          "2000-10-01T00:00:00.000000000",
          "2000-10-01T00:00:00.000000000",
          "2000-10-01T00:00:00.000000000",
          "2000-10-01T00:00:00.000000000",
          "2000-10-02T00:00:00.000000000",
          "2001-02-09T00:00:00.000000000",
          "2001-02-11T00:00:00.000000000",
          "2001-02-12T00:00:00.000000000",
          "2001-02-16T00:00:00.000000000",
          "2001-02-16T00:00:00.000000000",
          "2001-02-17T00:00:00.000000000",
          "2001-02-19T00:00:00.000000000",
          "2001-02-19T00:00:00.000000000",
          "2001-03-23T00:00:00.000000000",
          "2001-05-31T00:00:00.000000000",
          "2001-05-31T00:00:00.000000000",
          "2001-06-02T00:00:00.000000000",
          "2001-06-02T00:00:00.000000000",
          "2001-06-02T00:00:00.000000000",
          "2001-06-02T00:00:00.000000000",
          "2001-06-02T00:00:00.000000000",
          "2001-06-03T00:00:00.000000000",
          "2001-06-03T00:00:00.000000000",
          "2001-06-03T00:00:00.000000000",
          "2001-06-03T00:00:00.000000000",
          "2001-06-03T00:00:00.000000000",
          "2001-06-03T00:00:00.000000000",
          "2001-06-04T00:00:00.000000000",
          "2001-06-05T00:00:00.000000000",
          "2001-06-05T00:00:00.000000000",
          "2001-06-05T00:00:00.000000000",
          "2001-06-05T00:00:00.000000000",
          "2001-06-06T00:00:00.000000000",
          "2001-06-06T00:00:00.000000000",
          "2001-06-06T00:00:00.000000000",
          "2001-06-06T00:00:00.000000000",
          "2001-06-07T00:00:00.000000000",
          "2001-06-08T00:00:00.000000000",
          "2001-06-08T00:00:00.000000000",
          "2001-06-08T00:00:00.000000000",
          "2001-06-08T00:00:00.000000000",
          "2001-06-09T00:00:00.000000000",
          "2001-06-09T00:00:00.000000000",
          "2001-06-09T00:00:00.000000000",
          "2001-06-10T00:00:00.000000000",
          "2001-06-10T00:00:00.000000000",
          "2001-06-10T00:00:00.000000000",
          "2001-06-10T00:00:00.000000000",
          "2001-06-11T00:00:00.000000000",
          "2001-06-11T00:00:00.000000000",
          "2001-06-11T00:00:00.000000000",
          "2001-06-12T00:00:00.000000000",
          "2001-06-12T00:00:00.000000000",
          "2001-06-12T00:00:00.000000000",
          "2001-06-12T00:00:00.000000000",
          "2001-06-12T00:00:00.000000000",
          "2001-06-12T00:00:00.000000000",
          "2001-06-16T00:00:00.000000000",
          "2001-06-21T00:00:00.000000000",
          "2001-06-22T00:00:00.000000000",
          "2001-06-22T00:00:00.000000000",
          "2001-06-22T00:00:00.000000000",
          "2001-06-22T00:00:00.000000000",
          "2001-06-22T00:00:00.000000000",
          "2001-06-23T00:00:00.000000000",
          "2001-06-24T00:00:00.000000000",
          "2001-07-04T00:00:00.000000000",
          "2001-07-04T00:00:00.000000000",
          "2001-07-04T00:00:00.000000000",
          "2001-07-06T00:00:00.000000000",
          "2001-07-06T00:00:00.000000000",
          "2001-07-06T00:00:00.000000000",
          "2001-07-06T00:00:00.000000000",
          "2001-08-25T00:00:00.000000000",
          "2001-08-29T00:00:00.000000000",
          "2001-09-19T00:00:00.000000000",
          "2001-09-19T00:00:00.000000000",
          "2001-09-22T00:00:00.000000000",
          "2001-09-22T00:00:00.000000000",
          "2001-09-22T00:00:00.000000000",
          "2001-09-22T00:00:00.000000000",
          "2001-09-22T00:00:00.000000000",
          "2001-09-23T00:00:00.000000000",
          "2001-09-25T00:00:00.000000000",
          "2001-09-25T00:00:00.000000000",
          "2001-09-26T00:00:00.000000000",
          "2001-09-27T00:00:00.000000000",
          "2001-09-28T00:00:00.000000000",
          "2001-09-28T00:00:00.000000000",
          "2001-09-30T00:00:00.000000000",
          "2001-09-30T00:00:00.000000000",
          "2001-10-03T00:00:00.000000000",
          "2002-02-07T00:00:00.000000000",
          "2002-02-11T00:00:00.000000000",
          "2002-02-13T00:00:00.000000000",
          "2002-02-14T00:00:00.000000000",
          "2002-02-15T00:00:00.000000000",
          "2002-02-15T00:00:00.000000000",
          "2002-02-16T00:00:00.000000000",
          "2002-03-05T00:00:00.000000000",
          "2002-03-05T00:00:00.000000000",
          "2002-03-05T00:00:00.000000000",
          "2002-05-03T00:00:00.000000000",
          "2002-05-05T00:00:00.000000000",
          "2002-05-05T00:00:00.000000000",
          "2002-05-06T00:00:00.000000000",
          "2002-05-06T00:00:00.000000000",
          "2002-05-06T00:00:00.000000000",
          "2002-05-06T00:00:00.000000000",
          "2002-06-19T00:00:00.000000000",
          "2002-06-19T00:00:00.000000000",
          "2002-06-19T00:00:00.000000000",
          "2002-06-19T00:00:00.000000000",
          "2002-06-26T00:00:00.000000000",
          "2002-06-26T00:00:00.000000000",
          "2002-06-26T00:00:00.000000000",
          "2002-07-01T00:00:00.000000000",
          "2002-07-02T00:00:00.000000000",
          "2002-07-03T00:00:00.000000000",
          "2002-07-04T00:00:00.000000000",
          "2002-07-05T00:00:00.000000000",
          "2002-07-19T00:00:00.000000000",
          "2002-07-22T00:00:00.000000000",
          "2002-07-22T00:00:00.000000000",
          "2002-07-22T00:00:00.000000000",
          "2002-07-22T00:00:00.000000000",
          "2002-07-23T00:00:00.000000000",
          "2002-07-23T00:00:00.000000000",
          "2002-07-23T00:00:00.000000000",
          "2002-07-23T00:00:00.000000000",
          "2002-07-24T00:00:00.000000000",
          "2002-08-18T00:00:00.000000000",
          "2002-08-18T00:00:00.000000000",
          "2002-08-18T00:00:00.000000000",
          "2002-08-18T00:00:00.000000000",
          "2002-08-27T00:00:00.000000000",
          "2002-08-28T00:00:00.000000000",
          "2002-08-29T00:00:00.000000000",
          "2002-08-30T00:00:00.000000000",
          "2002-09-03T00:00:00.000000000",
          "2002-09-06T00:00:00.000000000",
          "2002-09-08T00:00:00.000000000",
          "2002-09-19T00:00:00.000000000",
          "2002-09-19T00:00:00.000000000",
          "2002-09-19T00:00:00.000000000",
          "2002-09-19T00:00:00.000000000",
          "2002-09-21T00:00:00.000000000",
          "2002-10-19T00:00:00.000000000",
          "2002-10-23T00:00:00.000000000",
          "2002-10-23T00:00:00.000000000",
          "2002-10-23T00:00:00.000000000",
          "2002-10-23T00:00:00.000000000",
          "2003-02-12T00:00:00.000000000",
          "2003-02-14T00:00:00.000000000",
          "2003-02-15T00:00:00.000000000",
          "2003-02-16T00:00:00.000000000",
          "2003-02-16T00:00:00.000000000",
          "2003-02-17T00:00:00.000000000",
          "2003-02-21T00:00:00.000000000",
          "2003-02-21T00:00:00.000000000",
          "2003-02-21T00:00:00.000000000",
          "2003-05-19T00:00:00.000000000",
          "2003-05-19T00:00:00.000000000",
          "2003-05-19T00:00:00.000000000",
          "2003-05-20T00:00:00.000000000",
          "2003-05-20T00:00:00.000000000",
          "2003-05-29T00:00:00.000000000",
          "2003-05-30T00:00:00.000000000",
          "2003-05-31T00:00:00.000000000",
          "2003-06-01T00:00:00.000000000",
          "2003-06-03T00:00:00.000000000",
          "2003-06-08T00:00:00.000000000",
          "2003-06-09T00:00:00.000000000",
          "2003-06-10T00:00:00.000000000",
          "2003-06-10T00:00:00.000000000",
          "2003-06-10T00:00:00.000000000",
          "2003-06-11T00:00:00.000000000",
          "2003-09-01T00:00:00.000000000",
          "2003-09-02T00:00:00.000000000",
          "2003-09-03T00:00:00.000000000",
          "2003-09-04T00:00:00.000000000",
          "2003-09-06T00:00:00.000000000",
          "2003-09-07T00:00:00.000000000",
          "2003-09-26T00:00:00.000000000",
          "2003-09-27T00:00:00.000000000",
          "2003-09-28T00:00:00.000000000",
          "2003-10-26T00:00:00.000000000",
          "2003-10-27T00:00:00.000000000",
          "2003-10-27T00:00:00.000000000",
          "2004-02-20T00:00:00.000000000",
          "2004-02-20T00:00:00.000000000",
          "2004-02-21T00:00:00.000000000",
          "2004-02-22T00:00:00.000000000",
          "2004-02-24T00:00:00.000000000",
          "2004-02-27T00:00:00.000000000",
          "2004-02-27T00:00:00.000000000",
          "2004-02-27T00:00:00.000000000",
          "2004-02-27T00:00:00.000000000",
          "2004-05-29T00:00:00.000000000",
          "2004-05-29T00:00:00.000000000",
          "2004-05-30T00:00:00.000000000",
          "2004-06-03T00:00:00.000000000",
          "2004-06-03T00:00:00.000000000",
          "2004-06-04T00:00:00.000000000",
          "2004-06-06T00:00:00.000000000",
          "2004-06-07T00:00:00.000000000",
          "2004-06-14T00:00:00.000000000",
          "2004-06-14T00:00:00.000000000",
          "2004-06-14T00:00:00.000000000",
          "2004-06-14T00:00:00.000000000",
          "2004-06-14T00:00:00.000000000",
          "2004-08-21T00:00:00.000000000",
          "2004-08-22T00:00:00.000000000",
          "2004-08-23T00:00:00.000000000",
          "2004-08-24T00:00:00.000000000",
          "2004-08-26T00:00:00.000000000",
          "2004-09-05T00:00:00.000000000",
          "2004-09-05T00:00:00.000000000",
          "2004-09-05T00:00:00.000000000",
          "2004-09-06T00:00:00.000000000",
          "2004-10-27T00:00:00.000000000",
          "2004-10-27T00:00:00.000000000",
          "2004-10-27T00:00:00.000000000",
          "2004-10-27T00:00:00.000000000",
          "2005-02-13T00:00:00.000000000",
          "2005-02-14T00:00:00.000000000",
          "2005-02-15T00:00:00.000000000",
          "2005-02-16T00:00:00.000000000",
          "2005-02-18T00:00:00.000000000",
          "2005-02-18T00:00:00.000000000",
          "2005-02-19T00:00:00.000000000",
          "2005-02-22T00:00:00.000000000",
          "2005-02-23T00:00:00.000000000",
          "2005-03-12T00:00:00.000000000",
          "2005-03-12T00:00:00.000000000",
          "2005-03-12T00:00:00.000000000",
          "2005-03-12T00:00:00.000000000",
          "2005-03-13T00:00:00.000000000",
          "2005-03-13T00:00:00.000000000",
          "2005-03-13T00:00:00.000000000",
          "2005-03-13T00:00:00.000000000",
          "2005-05-27T00:00:00.000000000",
          "2005-05-28T00:00:00.000000000",
          "2005-06-03T00:00:00.000000000",
          "2005-06-03T00:00:00.000000000",
          "2005-06-06T00:00:00.000000000",
          "2005-06-06T00:00:00.000000000",
          "2005-06-07T00:00:00.000000000",
          "2005-06-15T00:00:00.000000000",
          "2005-07-29T00:00:00.000000000",
          "2005-08-13T00:00:00.000000000",
          "2005-08-18T00:00:00.000000000",
          "2005-08-19T00:00:00.000000000",
          "2005-08-20T00:00:00.000000000",
          "2005-08-21T00:00:00.000000000",
          "2005-08-22T00:00:00.000000000",
          "2005-08-23T00:00:00.000000000",
          "2005-08-27T00:00:00.000000000",
          "2005-08-28T00:00:00.000000000",
          "2005-09-08T00:00:00.000000000",
          "2005-09-09T00:00:00.000000000",
          "2006-02-06T00:00:00.000000000",
          "2006-02-06T00:00:00.000000000",
          "2006-02-09T00:00:00.000000000",
          "2006-02-10T00:00:00.000000000",
          "2006-02-13T00:00:00.000000000",
          "2006-04-21T00:00:00.000000000",
          "2006-04-21T00:00:00.000000000",
          "2006-07-14T00:00:00.000000000",
          "2006-07-17T00:00:00.000000000",
          "2006-08-24T00:00:00.000000000",
          "2006-08-27T00:00:00.000000000",
          "2006-09-22T00:00:00.000000000",
          "2006-09-23T00:00:00.000000000",
          "2006-09-24T00:00:00.000000000",
          "2006-09-26T00:00:00.000000000",
          "2006-09-28T00:00:00.000000000",
          "2006-10-01T00:00:00.000000000",
          "2006-10-02T00:00:00.000000000",
          "2006-10-04T00:00:00.000000000",
          "2007-02-10T00:00:00.000000000",
          "2007-02-10T00:00:00.000000000",
          "2007-02-11T00:00:00.000000000",
          "2007-02-12T00:00:00.000000000",
          "2007-02-15T00:00:00.000000000",
          "2007-02-16T00:00:00.000000000",
          "2007-02-16T00:00:00.000000000",
          "2007-02-18T00:00:00.000000000",
          "2007-02-18T00:00:00.000000000",
          "2007-05-26T00:00:00.000000000",
          "2007-06-02T00:00:00.000000000",
          "2007-06-03T00:00:00.000000000",
          "2007-06-04T00:00:00.000000000",
          "2007-06-07T00:00:00.000000000",
          "2007-06-21T00:00:00.000000000",
          "2007-06-21T00:00:00.000000000",
          "2007-06-21T00:00:00.000000000",
          "2007-06-21T00:00:00.000000000",
          "2007-06-27T00:00:00.000000000",
          "2007-06-27T00:00:00.000000000",
          "2007-06-28T00:00:00.000000000",
          "2007-07-04T00:00:00.000000000",
          "2007-07-05T00:00:00.000000000",
          "2007-07-06T00:00:00.000000000",
          "2007-07-07T00:00:00.000000000",
          "2007-07-07T00:00:00.000000000",
          "2007-07-08T00:00:00.000000000",
          "2007-08-17T00:00:00.000000000",
          "2007-08-18T00:00:00.000000000",
          "2007-08-19T00:00:00.000000000",
          "2007-08-21T00:00:00.000000000",
          "2007-08-22T00:00:00.000000000",
          "2007-09-06T00:00:00.000000000",
          "2007-09-07T00:00:00.000000000",
          "2008-02-02T00:00:00.000000000",
          "2008-02-03T00:00:00.000000000",
          "2008-02-04T00:00:00.000000000",
          "2008-02-06T00:00:00.000000000",
          "2008-02-10T00:00:00.000000000",
          "2008-05-25T00:00:00.000000000",
          "2008-05-26T00:00:00.000000000",
          "2008-06-02T00:00:00.000000000",
          "2008-06-03T00:00:00.000000000",
          "2008-06-04T00:00:00.000000000",
          "2008-06-06T00:00:00.000000000",
          "2008-06-08T00:00:00.000000000",
          "2008-07-04T00:00:00.000000000",
          "2008-07-05T00:00:00.000000000",
          "2008-07-07T00:00:00.000000000",
          "2008-07-09T00:00:00.000000000",
          "2008-08-15T00:00:00.000000000",
          "2008-08-16T00:00:00.000000000",
          "2008-08-17T00:00:00.000000000",
          "2008-08-19T00:00:00.000000000",
          "2008-08-21T00:00:00.000000000",
          "2008-09-04T00:00:00.000000000",
          "2008-09-05T00:00:00.000000000",
          "2008-09-06T00:00:00.000000000",
          "2008-10-17T00:00:00.000000000",
          "2009-01-30T00:00:00.000000000",
          "2009-01-31T00:00:00.000000000",
          "2009-01-31T00:00:00.000000000",
          "2009-02-02T00:00:00.000000000",
          "2009-02-05T00:00:00.000000000",
          "2009-05-31T00:00:00.000000000",
          "2009-05-31T00:00:00.000000000",
          "2009-06-01T00:00:00.000000000",
          "2009-06-08T00:00:00.000000000",
          "2009-06-09T00:00:00.000000000",
          "2009-06-10T00:00:00.000000000",
          "2009-06-11T00:00:00.000000000",
          "2009-06-14T00:00:00.000000000",
          "2009-07-11T00:00:00.000000000",
          "2009-07-12T00:00:00.000000000",
          "2009-07-13T00:00:00.000000000",
          "2009-07-14T00:00:00.000000000",
          "2009-08-22T00:00:00.000000000",
          "2009-08-23T00:00:00.000000000",
          "2009-08-26T00:00:00.000000000",
          "2009-08-27T00:00:00.000000000",
          "2009-08-31T00:00:00.000000000",
          "2009-08-31T00:00:00.000000000",
          "2009-09-09T00:00:00.000000000",
          "2009-09-09T00:00:00.000000000",
          "2009-09-10T00:00:00.000000000",
          "2010-02-05T00:00:00.000000000",
          "2010-02-06T00:00:00.000000000",
          "2010-02-08T00:00:00.000000000",
          "2010-05-31T00:00:00.000000000",
          "2010-05-31T00:00:00.000000000",
          "2010-06-08T00:00:00.000000000",
          "2010-06-09T00:00:00.000000000",
          "2010-06-10T00:00:00.000000000",
          "2010-06-11T00:00:00.000000000",
          "2010-06-14T00:00:00.000000000",
          "2010-07-23T00:00:00.000000000",
          "2010-07-24T00:00:00.000000000",
          "2010-07-26T00:00:00.000000000",
          "2010-07-28T00:00:00.000000000",
          "2010-08-21T00:00:00.000000000",
          "2010-08-22T00:00:00.000000000",
          "2010-08-23T00:00:00.000000000",
          "2010-08-25T00:00:00.000000000",
          "2010-08-26T00:00:00.000000000",
          "2010-09-08T00:00:00.000000000",
          "2010-09-09T00:00:00.000000000",
          "2010-09-09T00:00:00.000000000",
          "2010-09-10T00:00:00.000000000",
          "2011-02-10T00:00:00.000000000",
          "2011-02-11T00:00:00.000000000",
          "2011-02-12T00:00:00.000000000",
          "2011-02-14T00:00:00.000000000",
          "2011-02-16T00:00:00.000000000",
          "2011-05-29T00:00:00.000000000",
          "2011-05-30T00:00:00.000000000",
          "2011-05-30T00:00:00.000000000",
          "2011-05-30T00:00:00.000000000",
          "2011-06-05T00:00:00.000000000",
          "2011-06-06T00:00:00.000000000",
          "2011-06-08T00:00:00.000000000",
          "2011-06-09T00:00:00.000000000",
          "2011-06-13T00:00:00.000000000",
          "2011-08-19T00:00:00.000000000",
          "2011-08-20T00:00:00.000000000",
          "2011-08-22T00:00:00.000000000",
          "2011-08-23T00:00:00.000000000",
          "2011-08-26T00:00:00.000000000",
          "2011-09-06T00:00:00.000000000",
          "2011-09-06T00:00:00.000000000",
          "2011-09-07T00:00:00.000000000",
          "2011-09-07T00:00:00.000000000",
          "2011-09-08T00:00:00.000000000",
          "2012-02-10T00:00:00.000000000",
          "2012-02-11T00:00:00.000000000",
          "2012-02-12T00:00:00.000000000",
          "2012-02-15T00:00:00.000000000",
          "2012-02-16T00:00:00.000000000",
          "2012-05-16T00:00:00.000000000",
          "2012-05-17T00:00:00.000000000",
          "2012-05-18T00:00:00.000000000",
          "2012-05-18T00:00:00.000000000",
          "2012-05-26T00:00:00.000000000",
          "2012-05-30T00:00:00.000000000",
          "2012-06-03T00:00:00.000000000",
          "2012-08-18T00:00:00.000000000",
          "2012-08-18T00:00:00.000000000",
          "2012-08-20T00:00:00.000000000",
          "2012-08-24T00:00:00.000000000",
          "2012-09-04T00:00:00.000000000",
          "2012-09-05T00:00:00.000000000",
          "2012-09-06T00:00:00.000000000",
          "2013-02-07T00:00:00.000000000",
          "2013-02-08T00:00:00.000000000",
          "2013-02-09T00:00:00.000000000",
          "2013-02-13T00:00:00.000000000",
          "2013-02-14T00:00:00.000000000",
          "2013-06-02T00:00:00.000000000",
          "2013-06-03T00:00:00.000000000",
          "2013-06-03T00:00:00.000000000",
          "2013-06-10T00:00:00.000000000",
          "2013-06-11T00:00:00.000000000",
          "2013-06-12T00:00:00.000000000",
          "2013-06-14T00:00:00.000000000",
          "2013-06-18T00:00:00.000000000",
          "2013-08-23T00:00:00.000000000",
          "2013-08-25T00:00:00.000000000",
          "2013-08-26T00:00:00.000000000",
          "2013-08-28T00:00:00.000000000",
          "2013-08-30T00:00:00.000000000",
          "2013-09-11T00:00:00.000000000",
          "2014-02-12T00:00:00.000000000",
          "2014-02-22T00:00:00.000000000",
          "2014-06-04T00:00:00.000000000",
          "2014-06-13T00:00:00.000000000",
          "2014-06-15T00:00:00.000000000",
          "2014-06-17T00:00:00.000000000",
          "2014-08-23T00:00:00.000000000",
          "2014-08-25T00:00:00.000000000",
          "2014-08-26T00:00:00.000000000",
          "2014-08-26T00:00:00.000000000",
          "2014-09-10T00:00:00.000000000",
          "2014-09-11T00:00:00.000000000",
          "2014-09-11T00:00:00.000000000",
          "2014-09-12T00:00:00.000000000",
          "2015-02-12T00:00:00.000000000",
          "2015-02-13T00:00:00.000000000",
          "2015-02-15T00:00:00.000000000",
          "2015-02-16T00:00:00.000000000",
          "2015-02-19T00:00:00.000000000",
          "2015-06-02T00:00:00.000000000",
          "2015-06-10T00:00:00.000000000",
          "2015-06-12T00:00:00.000000000",
          "2015-06-13T00:00:00.000000000",
          "2015-06-17T00:00:00.000000000",
          "2015-06-20T00:00:00.000000000",
          "2015-07-10T00:00:00.000000000",
          "2015-07-10T00:00:00.000000000",
          "2015-07-11T00:00:00.000000000",
          "2015-07-11T00:00:00.000000000",
          "2015-07-11T00:00:00.000000000",
          "2015-07-12T00:00:00.000000000",
          "2015-07-13T00:00:00.000000000",
          "2015-07-13T00:00:00.000000000",
          "2015-07-13T00:00:00.000000000",
          "2015-07-14T00:00:00.000000000",
          "2015-07-14T00:00:00.000000000",
          "2015-07-14T00:00:00.000000000",
          "2015-07-14T00:00:00.000000000",
          "2015-07-15T00:00:00.000000000",
          "2015-07-16T00:00:00.000000000",
          "2015-07-18T00:00:00.000000000",
          "2015-08-22T00:00:00.000000000",
          "2015-08-23T00:00:00.000000000",
          "2015-08-24T00:00:00.000000000",
          "2015-08-26T00:00:00.000000000",
          "2015-08-28T00:00:00.000000000",
          "2015-09-07T00:00:00.000000000",
          "2015-10-19T00:00:00.000000000",
          "2016-02-10T00:00:00.000000000",
          "2016-02-12T00:00:00.000000000",
          "2016-02-16T00:00:00.000000000",
          "2016-02-18T00:00:00.000000000",
          "2016-05-31T00:00:00.000000000",
          "2016-05-31T00:00:00.000000000",
          "2016-06-01T00:00:00.000000000",
          "2016-06-07T00:00:00.000000000",
          "2016-06-09T00:00:00.000000000",
          "2016-06-10T00:00:00.000000000",
          "2016-06-11T00:00:00.000000000",
          "2016-06-14T00:00:00.000000000",
          "2016-08-06T00:00:00.000000000",
          "2016-08-06T00:00:00.000000000",
          "2016-08-07T00:00:00.000000000",
          "2016-08-10T00:00:00.000000000",
          "2016-08-20T00:00:00.000000000",
          "2016-08-22T00:00:00.000000000",
          "2016-08-23T00:00:00.000000000",
          "2016-08-26T00:00:00.000000000",
          "2016-08-29T00:00:00.000000000",
          "2016-09-08T00:00:00.000000000",
          "2016-09-08T00:00:00.000000000",
          "2017-02-09T00:00:00.000000000",
          "2017-02-12T00:00:00.000000000",
          "2017-02-15T00:00:00.000000000",
          "2017-02-16T00:00:00.000000000",
          "2017-02-17T00:00:00.000000000",
          "2017-05-28T00:00:00.000000000",
          "2017-05-30T00:00:00.000000000",
          "2017-06-06T00:00:00.000000000",
          "2017-06-07T00:00:00.000000000",
          "2017-06-09T00:00:00.000000000",
          "2017-06-10T00:00:00.000000000",
          "2017-06-13T00:00:00.000000000",
          "2017-07-22T00:00:00.000000000",
          "2017-07-22T00:00:00.000000000",
          "2017-07-22T00:00:00.000000000",
          "2017-07-22T00:00:00.000000000",
          "2017-07-23T00:00:00.000000000",
          "2017-07-23T00:00:00.000000000",
          "2017-07-24T00:00:00.000000000",
          "2017-07-24T00:00:00.000000000",
          "2017-07-24T00:00:00.000000000",
          "2017-07-24T00:00:00.000000000",
          "2017-07-25T00:00:00.000000000",
          "2017-07-25T00:00:00.000000000",
          "2017-07-25T00:00:00.000000000",
          "2017-07-26T00:00:00.000000000",
          "2017-07-26T00:00:00.000000000",
          "2017-07-26T00:00:00.000000000",
          "2017-07-26T00:00:00.000000000",
          "2017-07-27T00:00:00.000000000",
          "2017-07-27T00:00:00.000000000",
          "2017-07-27T00:00:00.000000000",
          "2017-07-28T00:00:00.000000000",
          "2017-07-28T00:00:00.000000000",
          "2017-07-28T00:00:00.000000000",
          "2017-08-18T00:00:00.000000000",
          "2017-08-19T00:00:00.000000000",
          "2017-08-21T00:00:00.000000000",
          "2017-08-24T00:00:00.000000000",
          "2017-08-26T00:00:00.000000000",
          "2017-09-05T00:00:00.000000000",
          "2017-09-06T00:00:00.000000000",
          "2017-09-06T00:00:00.000000000",
          "2017-09-07T00:00:00.000000000",
          "2017-09-08T00:00:00.000000000",
          "2018-02-21T00:00:00.000000000",
          "2018-02-22T00:00:00.000000000",
          "2018-02-26T00:00:00.000000000",
          "2018-03-02T00:00:00.000000000",
          "2018-03-03T00:00:00.000000000",
          "2018-05-13T00:00:00.000000000",
          "2018-05-13T00:00:00.000000000",
          "2018-06-08T00:00:00.000000000",
          "2018-06-09T00:00:00.000000000",
          "2018-06-10T00:00:00.000000000",
          "2018-06-11T00:00:00.000000000",
          "2018-06-13T00:00:00.000000000",
          "2018-06-13T00:00:00.000000000",
          "2018-08-28T00:00:00.000000000",
          "2018-09-06T00:00:00.000000000",
          "2018-09-14T00:00:00.000000000",
          "2018-09-15T00:00:00.000000000",
          "2018-09-16T00:00:00.000000000",
          "2018-09-18T00:00:00.000000000",
          "2018-09-20T00:00:00.000000000",
          "2018-09-20T00:00:00.000000000",
          "2018-09-21T00:00:00.000000000",
          "2018-09-22T00:00:00.000000000",
          "2018-09-22T00:00:00.000000000",
          "2018-09-22T00:00:00.000000000",
          "2019-02-07T00:00:00.000000000",
          "2019-02-08T00:00:00.000000000",
          "2019-02-10T00:00:00.000000000",
          "2019-02-12T00:00:00.000000000",
          "2019-06-04T00:00:00.000000000",
          "2019-06-05T00:00:00.000000000",
          "2019-06-07T00:00:00.000000000",
          "2019-06-11T00:00:00.000000000",
          "2019-07-03T00:00:00.000000000",
          "2019-07-03T00:00:00.000000000",
          "2019-07-19T00:00:00.000000000",
          "2019-07-20T00:00:00.000000000",
          "2019-07-20T00:00:00.000000000",
          "2019-07-20T00:00:00.000000000",
          "2019-07-21T00:00:00.000000000",
          "2019-07-21T00:00:00.000000000",
          "2019-07-22T00:00:00.000000000",
          "2019-07-22T00:00:00.000000000",
          "2019-07-23T00:00:00.000000000",
          "2019-07-23T00:00:00.000000000",
          "2019-07-23T00:00:00.000000000",
          "2019-07-24T00:00:00.000000000",
          "2019-07-25T00:00:00.000000000",
          "2019-07-25T00:00:00.000000000",
          "2019-07-26T00:00:00.000000000",
          "2019-07-26T00:00:00.000000000",
          "2019-07-27T00:00:00.000000000",
          "2019-07-27T00:00:00.000000000",
          "2019-08-04T00:00:00.000000000",
          "2019-08-16T00:00:00.000000000",
          "2019-08-17T00:00:00.000000000",
          "2019-08-19T00:00:00.000000000",
          "2019-08-20T00:00:00.000000000",
          "2019-08-23T00:00:00.000000000",
          "2019-09-03T00:00:00.000000000",
          "2019-09-04T00:00:00.000000000",
          "2020-02-10T00:00:00.000000000",
          "2020-02-11T00:00:00.000000000",
          "2020-02-12T00:00:00.000000000",
          "2020-02-14T00:00:00.000000000",
          "2020-02-15T00:00:00.000000000",
          "2020-02-16T00:00:00.000000000",
          "2020-06-26T00:00:00.000000000",
          "2020-06-26T00:00:00.000000000",
          "2020-06-30T00:00:00.000000000",
          "2020-07-05T00:00:00.000000000",
          "2020-07-05T00:00:00.000000000",
          "2020-07-22T00:00:00.000000000",
          "2020-07-26T00:00:00.000000000",
          "2020-08-14T00:00:00.000000000",
          "2020-08-15T00:00:00.000000000",
          "2020-08-17T00:00:00.000000000",
          "2020-08-18T00:00:00.000000000",
          "2020-08-20T00:00:00.000000000",
          "2020-08-30T00:00:00.000000000",
          "2020-08-31T00:00:00.000000000"
         ],
         "xaxis": "x2",
         "yaxis": "y2"
        }
       ],
       "layout": {
        "barmode": "relative",
        "legend": {
         "tracegroupgap": 0
        },
        "template": {
         "data": {
          "bar": [
           {
            "error_x": {
             "color": "#2a3f5f"
            },
            "error_y": {
             "color": "#2a3f5f"
            },
            "marker": {
             "line": {
              "color": "#E5ECF6",
              "width": 0.5
             },
             "pattern": {
              "fillmode": "overlay",
              "size": 10,
              "solidity": 0.2
             }
            },
            "type": "bar"
           }
          ],
          "barpolar": [
           {
            "marker": {
             "line": {
              "color": "#E5ECF6",
              "width": 0.5
             },
             "pattern": {
              "fillmode": "overlay",
              "size": 10,
              "solidity": 0.2
             }
            },
            "type": "barpolar"
           }
          ],
          "carpet": [
           {
            "aaxis": {
             "endlinecolor": "#2a3f5f",
             "gridcolor": "white",
             "linecolor": "white",
             "minorgridcolor": "white",
             "startlinecolor": "#2a3f5f"
            },
            "baxis": {
             "endlinecolor": "#2a3f5f",
             "gridcolor": "white",
             "linecolor": "white",
             "minorgridcolor": "white",
             "startlinecolor": "#2a3f5f"
            },
            "type": "carpet"
           }
          ],
          "choropleth": [
           {
            "colorbar": {
             "outlinewidth": 0,
             "ticks": ""
            },
            "type": "choropleth"
           }
          ],
          "contour": [
           {
            "colorbar": {
             "outlinewidth": 0,
             "ticks": ""
            },
            "colorscale": [
             [
              0,
              "#0d0887"
             ],
             [
              0.1111111111111111,
              "#46039f"
             ],
             [
              0.2222222222222222,
              "#7201a8"
             ],
             [
              0.3333333333333333,
              "#9c179e"
             ],
             [
              0.4444444444444444,
              "#bd3786"
             ],
             [
              0.5555555555555556,
              "#d8576b"
             ],
             [
              0.6666666666666666,
              "#ed7953"
             ],
             [
              0.7777777777777778,
              "#fb9f3a"
             ],
             [
              0.8888888888888888,
              "#fdca26"
             ],
             [
              1,
              "#f0f921"
             ]
            ],
            "type": "contour"
           }
          ],
          "contourcarpet": [
           {
            "colorbar": {
             "outlinewidth": 0,
             "ticks": ""
            },
            "type": "contourcarpet"
           }
          ],
          "heatmap": [
           {
            "colorbar": {
             "outlinewidth": 0,
             "ticks": ""
            },
            "colorscale": [
             [
              0,
              "#0d0887"
             ],
             [
              0.1111111111111111,
              "#46039f"
             ],
             [
              0.2222222222222222,
              "#7201a8"
             ],
             [
              0.3333333333333333,
              "#9c179e"
             ],
             [
              0.4444444444444444,
              "#bd3786"
             ],
             [
              0.5555555555555556,
              "#d8576b"
             ],
             [
              0.6666666666666666,
              "#ed7953"
             ],
             [
              0.7777777777777778,
              "#fb9f3a"
             ],
             [
              0.8888888888888888,
              "#fdca26"
             ],
             [
              1,
              "#f0f921"
             ]
            ],
            "type": "heatmap"
           }
          ],
          "histogram": [
           {
            "marker": {
             "pattern": {
              "fillmode": "overlay",
              "size": 10,
              "solidity": 0.2
             }
            },
            "type": "histogram"
           }
          ],
          "histogram2d": [
           {
            "colorbar": {
             "outlinewidth": 0,
             "ticks": ""
            },
            "colorscale": [
             [
              0,
              "#0d0887"
             ],
             [
              0.1111111111111111,
              "#46039f"
             ],
             [
              0.2222222222222222,
              "#7201a8"
             ],
             [
              0.3333333333333333,
              "#9c179e"
             ],
             [
              0.4444444444444444,
              "#bd3786"
             ],
             [
              0.5555555555555556,
              "#d8576b"
             ],
             [
              0.6666666666666666,
              "#ed7953"
             ],
             [
              0.7777777777777778,
              "#fb9f3a"
             ],
             [
              0.8888888888888888,
              "#fdca26"
             ],
             [
              1,
              "#f0f921"
             ]
            ],
            "type": "histogram2d"
           }
          ],
          "histogram2dcontour": [
           {
            "colorbar": {
             "outlinewidth": 0,
             "ticks": ""
            },
            "colorscale": [
             [
              0,
              "#0d0887"
             ],
             [
              0.1111111111111111,
              "#46039f"
             ],
             [
              0.2222222222222222,
              "#7201a8"
             ],
             [
              0.3333333333333333,
              "#9c179e"
             ],
             [
              0.4444444444444444,
              "#bd3786"
             ],
             [
              0.5555555555555556,
              "#d8576b"
             ],
             [
              0.6666666666666666,
              "#ed7953"
             ],
             [
              0.7777777777777778,
              "#fb9f3a"
             ],
             [
              0.8888888888888888,
              "#fdca26"
             ],
             [
              1,
              "#f0f921"
             ]
            ],
            "type": "histogram2dcontour"
           }
          ],
          "mesh3d": [
           {
            "colorbar": {
             "outlinewidth": 0,
             "ticks": ""
            },
            "type": "mesh3d"
           }
          ],
          "parcoords": [
           {
            "line": {
             "colorbar": {
              "outlinewidth": 0,
              "ticks": ""
             }
            },
            "type": "parcoords"
           }
          ],
          "pie": [
           {
            "automargin": true,
            "type": "pie"
           }
          ],
          "scatter": [
           {
            "fillpattern": {
             "fillmode": "overlay",
             "size": 10,
             "solidity": 0.2
            },
            "type": "scatter"
           }
          ],
          "scatter3d": [
           {
            "line": {
             "colorbar": {
              "outlinewidth": 0,
              "ticks": ""
             }
            },
            "marker": {
             "colorbar": {
              "outlinewidth": 0,
              "ticks": ""
             }
            },
            "type": "scatter3d"
           }
          ],
          "scattercarpet": [
           {
            "marker": {
             "colorbar": {
              "outlinewidth": 0,
              "ticks": ""
             }
            },
            "type": "scattercarpet"
           }
          ],
          "scattergeo": [
           {
            "marker": {
             "colorbar": {
              "outlinewidth": 0,
              "ticks": ""
             }
            },
            "type": "scattergeo"
           }
          ],
          "scattergl": [
           {
            "marker": {
             "colorbar": {
              "outlinewidth": 0,
              "ticks": ""
             }
            },
            "type": "scattergl"
           }
          ],
          "scattermap": [
           {
            "marker": {
             "colorbar": {
              "outlinewidth": 0,
              "ticks": ""
             }
            },
            "type": "scattermap"
           }
          ],
          "scattermapbox": [
           {
            "marker": {
             "colorbar": {
              "outlinewidth": 0,
              "ticks": ""
             }
            },
            "type": "scattermapbox"
           }
          ],
          "scatterpolar": [
           {
            "marker": {
             "colorbar": {
              "outlinewidth": 0,
              "ticks": ""
             }
            },
            "type": "scatterpolar"
           }
          ],
          "scatterpolargl": [
           {
            "marker": {
             "colorbar": {
              "outlinewidth": 0,
              "ticks": ""
             }
            },
            "type": "scatterpolargl"
           }
          ],
          "scatterternary": [
           {
            "marker": {
             "colorbar": {
              "outlinewidth": 0,
              "ticks": ""
             }
            },
            "type": "scatterternary"
           }
          ],
          "surface": [
           {
            "colorbar": {
             "outlinewidth": 0,
             "ticks": ""
            },
            "colorscale": [
             [
              0,
              "#0d0887"
             ],
             [
              0.1111111111111111,
              "#46039f"
             ],
             [
              0.2222222222222222,
              "#7201a8"
             ],
             [
              0.3333333333333333,
              "#9c179e"
             ],
             [
              0.4444444444444444,
              "#bd3786"
             ],
             [
              0.5555555555555556,
              "#d8576b"
             ],
             [
              0.6666666666666666,
              "#ed7953"
             ],
             [
              0.7777777777777778,
              "#fb9f3a"
             ],
             [
              0.8888888888888888,
              "#fdca26"
             ],
             [
              1,
              "#f0f921"
             ]
            ],
            "type": "surface"
           }
          ],
          "table": [
           {
            "cells": {
             "fill": {
              "color": "#EBF0F8"
             },
             "line": {
              "color": "white"
             }
            },
            "header": {
             "fill": {
              "color": "#C8D4E3"
             },
             "line": {
              "color": "white"
             }
            },
            "type": "table"
           }
          ]
         },
         "layout": {
          "annotationdefaults": {
           "arrowcolor": "#2a3f5f",
           "arrowhead": 0,
           "arrowwidth": 1
          },
          "autotypenumbers": "strict",
          "coloraxis": {
           "colorbar": {
            "outlinewidth": 0,
            "ticks": ""
           }
          },
          "colorscale": {
           "diverging": [
            [
             0,
             "#8e0152"
            ],
            [
             0.1,
             "#c51b7d"
            ],
            [
             0.2,
             "#de77ae"
            ],
            [
             0.3,
             "#f1b6da"
            ],
            [
             0.4,
             "#fde0ef"
            ],
            [
             0.5,
             "#f7f7f7"
            ],
            [
             0.6,
             "#e6f5d0"
            ],
            [
             0.7,
             "#b8e186"
            ],
            [
             0.8,
             "#7fbc41"
            ],
            [
             0.9,
             "#4d9221"
            ],
            [
             1,
             "#276419"
            ]
           ],
           "sequential": [
            [
             0,
             "#0d0887"
            ],
            [
             0.1111111111111111,
             "#46039f"
            ],
            [
             0.2222222222222222,
             "#7201a8"
            ],
            [
             0.3333333333333333,
             "#9c179e"
            ],
            [
             0.4444444444444444,
             "#bd3786"
            ],
            [
             0.5555555555555556,
             "#d8576b"
            ],
            [
             0.6666666666666666,
             "#ed7953"
            ],
            [
             0.7777777777777778,
             "#fb9f3a"
            ],
            [
             0.8888888888888888,
             "#fdca26"
            ],
            [
             1,
             "#f0f921"
            ]
           ],
           "sequentialminus": [
            [
             0,
             "#0d0887"
            ],
            [
             0.1111111111111111,
             "#46039f"
            ],
            [
             0.2222222222222222,
             "#7201a8"
            ],
            [
             0.3333333333333333,
             "#9c179e"
            ],
            [
             0.4444444444444444,
             "#bd3786"
            ],
            [
             0.5555555555555556,
             "#d8576b"
            ],
            [
             0.6666666666666666,
             "#ed7953"
            ],
            [
             0.7777777777777778,
             "#fb9f3a"
            ],
            [
             0.8888888888888888,
             "#fdca26"
            ],
            [
             1,
             "#f0f921"
            ]
           ]
          },
          "colorway": [
           "#636efa",
           "#EF553B",
           "#00cc96",
           "#ab63fa",
           "#FFA15A",
           "#19d3f3",
           "#FF6692",
           "#B6E880",
           "#FF97FF",
           "#FECB52"
          ],
          "font": {
           "color": "#2a3f5f"
          },
          "geo": {
           "bgcolor": "white",
           "lakecolor": "white",
           "landcolor": "#E5ECF6",
           "showlakes": true,
           "showland": true,
           "subunitcolor": "white"
          },
          "hoverlabel": {
           "align": "left"
          },
          "hovermode": "closest",
          "mapbox": {
           "style": "light"
          },
          "paper_bgcolor": "white",
          "plot_bgcolor": "#E5ECF6",
          "polar": {
           "angularaxis": {
            "gridcolor": "white",
            "linecolor": "white",
            "ticks": ""
           },
           "bgcolor": "#E5ECF6",
           "radialaxis": {
            "gridcolor": "white",
            "linecolor": "white",
            "ticks": ""
           }
          },
          "scene": {
           "xaxis": {
            "backgroundcolor": "#E5ECF6",
            "gridcolor": "white",
            "gridwidth": 2,
            "linecolor": "white",
            "showbackground": true,
            "ticks": "",
            "zerolinecolor": "white"
           },
           "yaxis": {
            "backgroundcolor": "#E5ECF6",
            "gridcolor": "white",
            "gridwidth": 2,
            "linecolor": "white",
            "showbackground": true,
            "ticks": "",
            "zerolinecolor": "white"
           },
           "zaxis": {
            "backgroundcolor": "#E5ECF6",
            "gridcolor": "white",
            "gridwidth": 2,
            "linecolor": "white",
            "showbackground": true,
            "ticks": "",
            "zerolinecolor": "white"
           }
          },
          "shapedefaults": {
           "line": {
            "color": "#2a3f5f"
           }
          },
          "ternary": {
           "aaxis": {
            "gridcolor": "white",
            "linecolor": "white",
            "ticks": ""
           },
           "baxis": {
            "gridcolor": "white",
            "linecolor": "white",
            "ticks": ""
           },
           "bgcolor": "#E5ECF6",
           "caxis": {
            "gridcolor": "white",
            "linecolor": "white",
            "ticks": ""
           }
          },
          "title": {
           "x": 0.05
          },
          "xaxis": {
           "automargin": true,
           "gridcolor": "white",
           "linecolor": "white",
           "ticks": "",
           "title": {
            "standoff": 15
           },
           "zerolinecolor": "white",
           "zerolinewidth": 2
          },
          "yaxis": {
           "automargin": true,
           "gridcolor": "white",
           "linecolor": "white",
           "ticks": "",
           "title": {
            "standoff": 15
           },
           "zerolinecolor": "white",
           "zerolinewidth": 2
          }
         }
        },
        "title": {
         "text": "Number of entries per time"
        },
        "xaxis": {
         "anchor": "y",
         "domain": [
          0,
          1
         ],
         "title": {
          "text": "Time"
         }
        },
        "xaxis2": {
         "anchor": "y2",
         "domain": [
          0,
          1
         ],
         "matches": "x",
         "showgrid": true,
         "showticklabels": false
        },
        "yaxis": {
         "anchor": "x",
         "domain": [
          0,
          0.8316
         ],
         "title": {
          "text": "count"
         }
        },
        "yaxis2": {
         "anchor": "x2",
         "domain": [
          0.8416,
          1
         ],
         "matches": "y2",
         "showgrid": false,
         "showline": false,
         "showticklabels": false,
         "ticks": ""
        }
       }
      }
     },
     "metadata": {},
     "output_type": "display_data"
    }
   ],
   "source": [
    "px.histogram(\n",
    "    index,\n",
    "    x=\"time\",\n",
    "    title=\"Number of entries per time\",\n",
    "    labels=dict(\n",
    "        time=\"Time\",\n",
    "        count=\"Number of entries\",\n",
    "    ),\n",
    "    marginal=\"box\",\n",
    ")"
   ]
  },
  {
   "cell_type": "code",
   "execution_count": 33,
   "metadata": {},
   "outputs": [
    {
     "data": {
      "application/vnd.plotly.v1+json": {
       "config": {
        "plotlyServerURL": "https://plot.ly"
       },
       "data": [
        {
         "bingroup": "x",
         "hovertemplate": "Twilight=%{x}<br>count=%{y}<extra></extra>",
         "legendgroup": "",
         "marker": {
          "color": "#636efa",
          "pattern": {
           "shape": ""
          }
         },
         "name": "",
         "orientation": "v",
         "showlegend": false,
         "type": "histogram",
         "x": [
          "Daylight",
          "Night",
          "Daylight",
          "Night",
          "Night",
          "Night",
          "Night",
          "Night",
          "Night",
          "Daylight",
          "Night",
          "Night",
          "Night",
          "Night",
          "Night",
          "Night",
          "Daylight",
          "Daylight",
          "Daylight",
          "Daylight",
          "Daylight",
          "Daylight",
          "Daylight",
          "Daylight",
          "Daylight",
          "Daylight",
          "Daylight",
          "Daylight",
          "Daylight",
          "Daylight",
          "Daylight",
          "Daylight",
          "Daylight",
          "Daylight",
          "Daylight",
          "Daylight",
          "Daylight",
          "Daylight",
          "Daylight",
          "Daylight",
          "Daylight",
          "Daylight",
          "Daylight",
          "Daylight",
          "Daylight",
          "Daylight",
          "Daylight",
          "Daylight",
          "Daylight",
          "Night",
          "Night",
          "Night",
          "Daylight",
          "Daylight",
          "Daylight",
          "Daylight",
          "Daylight",
          "Daylight",
          "Daylight",
          "Daylight",
          "Daylight",
          "Daylight",
          "Daylight",
          "Daylight",
          "Daylight",
          "Daylight",
          "Daylight",
          "Daylight",
          "Daylight",
          "Daylight",
          "Daylight",
          "Daylight",
          "Daylight",
          "Daylight",
          "Daylight",
          "Daylight",
          "Daylight",
          "Daylight",
          "Daylight",
          "Daylight",
          "Night",
          "Night",
          "Daylight",
          "Daylight",
          "Daylight",
          "Daylight",
          "Daylight",
          "Daylight",
          "Daylight",
          "Daylight",
          "Daylight",
          "Daylight",
          "Daylight",
          "Daylight",
          "Daylight",
          "Daylight",
          "Daylight",
          "Daylight",
          "Daylight",
          "Daylight",
          "Daylight",
          "Daylight",
          "Daylight",
          "Night",
          "Night",
          "Daylight",
          "Night",
          "Daylight",
          "Daylight",
          "Daylight",
          "Daylight",
          "Night",
          "Daylight",
          "Daylight",
          "Daylight",
          "Night",
          "Night",
          "Daylight",
          "Night",
          "Daylight",
          "Daylight",
          "Daylight",
          "Daylight",
          "Daylight",
          "Daylight",
          "Daylight",
          "Daylight",
          "Daylight",
          "Daylight",
          "Daylight",
          "Daylight",
          "Daylight",
          "Daylight",
          "Daylight",
          "Daylight",
          "Daylight",
          "Daylight",
          "Daylight",
          "Night",
          "Night",
          "Night",
          "Daylight",
          "Night",
          "Daylight",
          "Daylight",
          "Daylight",
          "Daylight",
          "Daylight",
          "Daylight",
          "Daylight",
          "Daylight",
          "Daylight",
          "Daylight",
          "Daylight",
          "Daylight",
          "Daylight",
          "Daylight",
          "Daylight",
          "Daylight",
          "Daylight",
          "Daylight",
          "Daylight",
          "Daylight",
          "Daylight",
          "Daylight",
          "Daylight",
          "Night",
          "Daylight",
          "Night",
          "Daylight",
          "Night",
          "Night",
          "Night",
          "Daylight",
          "Daylight",
          "Daylight",
          "Daylight",
          "Night",
          "Night",
          "Night",
          "Night",
          "Night",
          "Night",
          "Night",
          "Night",
          "Daylight",
          "Daylight",
          "Daylight",
          "Daylight",
          "Daylight",
          "Daylight",
          "Daylight",
          "Daylight",
          "Daylight",
          "Daylight",
          "Daylight",
          "Daylight",
          "Daylight",
          "Daylight",
          "Daylight",
          "Daylight",
          "Daylight",
          "Daylight",
          "Daylight",
          "Daylight",
          "Daylight",
          "Daylight",
          "Daylight",
          "Daylight",
          "Daylight",
          "Daylight",
          "Daylight",
          "Daylight",
          "Daylight",
          "Daylight",
          "Daylight",
          "Daylight",
          "Daylight",
          "Daylight",
          "Daylight",
          "Daylight",
          "Daylight",
          "Daylight",
          "Daylight",
          "Daylight",
          "Daylight",
          "Daylight",
          "Daylight",
          "Daylight",
          "Daylight",
          "Daylight",
          "Daylight",
          "Daylight",
          "Daylight",
          "Daylight",
          "Daylight",
          "Night",
          "Night",
          "Daylight",
          "Daylight",
          "Daylight",
          "Daylight",
          "Daylight",
          "Daylight",
          "Daylight",
          "Night",
          "Night",
          "Night",
          "Night",
          "Daylight",
          "Daylight",
          "Night",
          "Night",
          "Night",
          "Night",
          "Daylight",
          "Daylight",
          "Daylight",
          "Night",
          "Daylight",
          "Night",
          "Night",
          "Daylight",
          "Night",
          "Daylight",
          "Daylight",
          "Daylight",
          "Daylight",
          "Daylight",
          "Daylight",
          "Night",
          "Daylight",
          "Daylight",
          "Daylight",
          "Daylight",
          "Night",
          "Night",
          "Daylight",
          "Daylight",
          "Daylight",
          "Daylight",
          "Daylight",
          "Daylight",
          "Daylight",
          "Daylight",
          "Daylight",
          "Daylight",
          "Daylight",
          "Daylight",
          "Daylight",
          "Daylight",
          "Daylight",
          "Daylight",
          "Daylight",
          "Daylight",
          "Daylight",
          "Daylight",
          "Daylight",
          "Daylight",
          "Daylight",
          "Daylight",
          "Daylight",
          "Daylight",
          "Daylight",
          "Daylight",
          "Daylight",
          "Daylight",
          "Daylight",
          "Daylight",
          "Daylight",
          "Daylight",
          "Daylight",
          "Daylight",
          "Daylight",
          "Daylight",
          "Daylight",
          "Daylight",
          "Daylight",
          "Daylight",
          "Daylight",
          "Daylight",
          "Daylight",
          "Night",
          "Night",
          "Night",
          "Night",
          "Night",
          "Daylight",
          "Night",
          "Daylight",
          "Night",
          "Daylight",
          "Daylight",
          "Night",
          "Daylight",
          "Night",
          "Night",
          "Night",
          "Daylight",
          "Night",
          "Daylight",
          "Night",
          "Night",
          "Night",
          "Daylight",
          "Daylight",
          "Night",
          "Daylight",
          "Daylight",
          "Daylight",
          "Daylight",
          "Daylight",
          "Daylight",
          "Night",
          "Night",
          "Night",
          "Night",
          "Night",
          "Night",
          "Night",
          "Night",
          "Night",
          "Night",
          "Night",
          "Night",
          "Daylight",
          "Daylight",
          "Daylight",
          "Daylight",
          "Daylight",
          "Daylight",
          "Daylight",
          "Daylight",
          "Daylight",
          "Daylight",
          "Daylight",
          "Daylight",
          "Daylight",
          "Daylight",
          "Daylight",
          "Daylight",
          "Daylight",
          "Daylight",
          "Daylight",
          "Daylight",
          "Daylight",
          "Daylight",
          "Daylight",
          "Daylight",
          "Daylight",
          "Daylight",
          "Daylight",
          "Daylight",
          "Daylight",
          "Daylight",
          "Daylight",
          "Daylight",
          "Daylight",
          "Daylight",
          "Night",
          "Night",
          "Daylight",
          "Daylight",
          "Daylight",
          "Daylight",
          "Night",
          "Daylight",
          "Daylight",
          "Daylight",
          "Daylight",
          "Daylight",
          "Night",
          "Night",
          "Night",
          "Night",
          "Night",
          "Daylight",
          "Night",
          "Daylight",
          "Night",
          "Night",
          "Night",
          "Daylight",
          "Daylight",
          "Night",
          "Night",
          "Night",
          "Night",
          "Daylight",
          "Daylight",
          "Daylight",
          "Daylight",
          "Daylight",
          "Night",
          "Daylight",
          "Night",
          "Daylight",
          "Night",
          "Night",
          "Daylight",
          "Daylight",
          "Daylight",
          "Daylight",
          "Daylight",
          "Daylight",
          "Daylight",
          "Night",
          "Daylight",
          "Daylight",
          "Daylight",
          "Daylight",
          "Night",
          "Night",
          "Daylight",
          "Daylight",
          "Daylight",
          "Daylight",
          "Daylight",
          "Night",
          "Night",
          "Daylight",
          "Daylight",
          "Daylight",
          "Daylight",
          "Daylight",
          "Daylight",
          "Daylight",
          "Night",
          "Daylight",
          "Daylight",
          "Daylight",
          "Night",
          "Daylight",
          "Daylight",
          "Night",
          "Daylight",
          "Daylight",
          "Daylight",
          "Night",
          "Night",
          "Night",
          "Night",
          "Night",
          "Daylight",
          "Daylight",
          "Daylight",
          "Daylight",
          "Daylight",
          "Daylight",
          "Daylight",
          "Daylight",
          "Daylight",
          "Daylight",
          "Daylight",
          "Daylight",
          "Daylight",
          "Daylight",
          "Daylight",
          "Daylight",
          "Daylight",
          "Daylight",
          "Daylight",
          "Daylight",
          "Night",
          "Daylight",
          "Daylight",
          "Daylight",
          "Daylight",
          "Daylight",
          "Daylight",
          "Daylight",
          "Night",
          "Daylight",
          "Daylight",
          "Daylight",
          "Daylight",
          "Night",
          "Night",
          "Daylight",
          "Daylight",
          "Daylight",
          "Night",
          "Night",
          "Daylight",
          "Daylight",
          "Daylight",
          "Night",
          "Night",
          "Night",
          "Daylight",
          "Daylight",
          "Daylight",
          "Daylight",
          "Daylight",
          "Daylight",
          "Daylight",
          "Daylight",
          "Daylight",
          "Daylight",
          "Daylight",
          "Daylight",
          "Daylight",
          "Daylight",
          "Daylight",
          "Daylight",
          "Daylight",
          "Daylight",
          "Daylight",
          "Daylight",
          "Daylight",
          "Daylight",
          "Daylight",
          "Daylight",
          "Daylight",
          "Daylight",
          "Daylight",
          "Night",
          "Daylight",
          "Daylight",
          "Daylight",
          "Daylight",
          "Daylight",
          "Daylight",
          "Daylight",
          "Daylight",
          "Daylight",
          "Night",
          "Night",
          "Night",
          "Daylight",
          "Night",
          "Night",
          "Daylight",
          "Daylight",
          "Daylight",
          "Daylight",
          "Daylight",
          "Daylight",
          "Night",
          "Daylight",
          "Daylight",
          "Daylight",
          "Daylight",
          "Daylight",
          "Daylight",
          "Daylight",
          "Daylight",
          "Daylight",
          "Daylight",
          "Daylight",
          "Daylight",
          "Daylight",
          "Daylight",
          "Daylight",
          "Daylight",
          "Daylight",
          "Daylight",
          "Daylight",
          "Daylight",
          "Daylight",
          "Daylight",
          "Night",
          "Daylight",
          "Daylight",
          "Daylight",
          "Daylight",
          "Daylight",
          "Daylight",
          "Daylight",
          "Daylight",
          "Daylight",
          "Daylight",
          "Night",
          "Daylight",
          "Night",
          "Night",
          "Night",
          "Night",
          "Night",
          "Night",
          "Daylight",
          "Night",
          "Night",
          "Night",
          "Daylight",
          "Daylight",
          "Daylight",
          "Daylight",
          "Daylight",
          "Daylight",
          "Daylight",
          "Daylight",
          "Daylight",
          "Daylight",
          "Night",
          "Daylight",
          "Daylight",
          "Daylight",
          "Daylight",
          "Daylight",
          "Daylight",
          "Night",
          "Daylight",
          "Daylight",
          "Daylight",
          "Night",
          "Daylight",
          "Daylight",
          "Night",
          "Daylight",
          "Daylight",
          "Daylight",
          "Daylight",
          "Daylight",
          "Night",
          "Night",
          "Daylight",
          "Daylight",
          "Night",
          "Daylight",
          "Daylight",
          "Night",
          "Daylight",
          "Daylight",
          "Daylight",
          "Daylight",
          "Night",
          "Daylight",
          "Daylight",
          "Daylight",
          "Daylight",
          "Daylight",
          "Night",
          "Night",
          "Daylight",
          "Daylight",
          "Daylight",
          "Daylight",
          "Daylight",
          "Daylight",
          "Daylight",
          "Daylight",
          "Night",
          "Night",
          "Daylight",
          "Night",
          "Daylight",
          "Night",
          "Daylight",
          "Daylight",
          "Night",
          "Daylight",
          "Daylight",
          "Night",
          "Daylight",
          "Daylight",
          "Daylight",
          "Night",
          "Daylight",
          "Daylight",
          "Daylight",
          "Daylight",
          "Daylight",
          "Night",
          "Daylight",
          "Night",
          "Daylight",
          "Night",
          "Daylight",
          "Daylight",
          "Night",
          "Daylight",
          "Daylight",
          "Daylight",
          "Daylight",
          "Night",
          "Daylight",
          "Daylight",
          "Night",
          "Daylight",
          "Daylight",
          "Daylight",
          "Daylight",
          "Night",
          "Night",
          "Night",
          "Night",
          "Night",
          "Daylight",
          "Daylight",
          "Daylight",
          "Daylight",
          "Daylight",
          "Daylight",
          "Daylight",
          "Daylight",
          "Daylight",
          "Daylight",
          "Daylight",
          "Daylight",
          "Daylight",
          "Daylight",
          "Daylight",
          "Daylight",
          "Daylight",
          "Daylight",
          "Daylight",
          "Daylight",
          "Daylight",
          "Daylight",
          "Daylight",
          "Daylight",
          "Daylight",
          "Daylight",
          "Daylight",
          "Daylight",
          "Daylight",
          "Daylight",
          "Daylight",
          "Daylight",
          "Daylight",
          "Night",
          "Daylight",
          "Night",
          "Night",
          "Daylight",
          "Night",
          "Night",
          "Night",
          "Daylight",
          "Daylight",
          "Daylight",
          "Night",
          "Night",
          "Daylight",
          "Daylight",
          "Daylight",
          "Daylight",
          "Night",
          "Daylight",
          "Daylight",
          "Night",
          "Daylight",
          "Daylight",
          "Daylight",
          "Daylight",
          "Daylight",
          "Night",
          "Night",
          "Daylight",
          "Night",
          "Daylight",
          "Daylight",
          "Daylight",
          "Daylight",
          "Daylight",
          "Night",
          "Daylight",
          "Daylight",
          "Daylight",
          "Night",
          "Daylight",
          "Night",
          "Daylight",
          "Daylight",
          "Daylight",
          "Daylight",
          "Daylight",
          "Daylight",
          "Daylight",
          "Daylight",
          "Daylight",
          "Daylight",
          "Daylight",
          "Night",
          "Night",
          "Night",
          "Daylight",
          "Daylight",
          "Daylight",
          "Daylight",
          "Daylight",
          "Daylight",
          "Daylight",
          "Night",
          "Daylight",
          "Daylight",
          "Daylight",
          "Daylight",
          "Daylight",
          "Daylight",
          "Daylight",
          "Night",
          "Night",
          "Daylight",
          "Daylight",
          "Daylight",
          "Daylight",
          "Daylight",
          "Daylight",
          "Daylight",
          "Daylight",
          "Daylight",
          "Daylight",
          "Daylight",
          "Night",
          "Night",
          "Daylight",
          "Daylight",
          "Night",
          "Daylight",
          "Night",
          "Daylight",
          "Night",
          "Night",
          "Daylight",
          "Daylight",
          "Daylight",
          "Daylight",
          "Daylight",
          "Daylight",
          "Daylight",
          "Daylight",
          "Daylight",
          "Night",
          "Daylight",
          "Daylight",
          "Daylight",
          "Daylight",
          "Night",
          "Night",
          "Daylight",
          "Night",
          "Night",
          "Night",
          "Night",
          "Daylight",
          "Daylight",
          "Daylight",
          "Night",
          "Night",
          "Night",
          "Daylight",
          "Daylight",
          "Night",
          "Daylight",
          "Daylight",
          "Night",
          "Daylight",
          "Night",
          "Night",
          "Daylight",
          "Night",
          "Daylight",
          "Daylight",
          "Daylight",
          "Night",
          "Daylight",
          "Night",
          "Daylight",
          "Daylight",
          "Night",
          "Daylight",
          "Daylight",
          "Daylight",
          "Daylight",
          "Daylight",
          "Night",
          "Daylight",
          "Daylight",
          "Daylight",
          "Night",
          "Daylight",
          "Daylight",
          "Daylight",
          "Daylight",
          "Daylight",
          "Daylight",
          "Night",
          "Daylight",
          "Daylight",
          "Daylight",
          "Daylight",
          "Night",
          "Daylight",
          "Night",
          "Daylight",
          "Night",
          "Night",
          "Daylight",
          "Daylight",
          "Night",
          "Night",
          "Daylight",
          "Daylight",
          "Daylight",
          "Night",
          "Night",
          "Daylight",
          "Daylight",
          "Daylight",
          "Daylight",
          "Daylight",
          "Daylight",
          "Daylight",
          "Night",
          "Daylight",
          "Night",
          "Daylight",
          "Daylight",
          "Daylight",
          "Daylight",
          "Night",
          "Daylight",
          "Night",
          "Daylight",
          "Daylight",
          "Night",
          "Daylight",
          "Daylight",
          "Night",
          "Night",
          "Daylight",
          "Night",
          "Daylight",
          "Daylight",
          "Night",
          "Night",
          "Daylight",
          "Night",
          "Night",
          "Daylight",
          "Daylight",
          "Night",
          "Daylight",
          "Night",
          "Night",
          "Night",
          "Daylight",
          "Daylight",
          "Night",
          "Night",
          "Daylight",
          "Night",
          "Daylight",
          "Daylight",
          "Daylight",
          "Daylight",
          "Daylight",
          "Daylight",
          "Daylight",
          "Daylight",
          "Daylight",
          "Daylight",
          "Night",
          "Daylight",
          "Daylight",
          "Daylight",
          "Daylight",
          "Daylight",
          "Night",
          "Daylight",
          "Daylight",
          "Daylight",
          "Daylight",
          "Daylight",
          "Daylight",
          "Daylight",
          "Daylight",
          "Night",
          "Daylight",
          "Daylight",
          "Daylight",
          "Night",
          "Night",
          "Night",
          "Daylight",
          "Daylight",
          "Daylight",
          "Daylight",
          "Daylight",
          "Daylight",
          "Night",
          "Night",
          "Night",
          "Daylight",
          "Daylight",
          "Daylight",
          "Daylight",
          "Daylight",
          "Daylight",
          "Daylight",
          "Night",
          "Daylight",
          "Night",
          "Night",
          "Daylight",
          "Night",
          "Daylight",
          "Night",
          "Daylight",
          "Daylight",
          "Night",
          "Daylight",
          "Daylight",
          "Daylight",
          "Daylight",
          "Night",
          "Daylight",
          "Daylight",
          "Daylight",
          "Daylight",
          "Night",
          "Night",
          "Daylight",
          "Daylight",
          "Daylight",
          "Night",
          "Night",
          "Night",
          "Night",
          "Night",
          "Daylight",
          "Daylight",
          "Daylight",
          "Daylight",
          "Daylight",
          "Daylight",
          "Daylight",
          "Daylight",
          "Daylight",
          "Daylight",
          "Night",
          "Night",
          "Night",
          "Daylight",
          "Daylight"
         ],
         "xaxis": "x",
         "yaxis": "y"
        }
       ],
       "layout": {
        "barmode": "relative",
        "legend": {
         "tracegroupgap": 0
        },
        "template": {
         "data": {
          "bar": [
           {
            "error_x": {
             "color": "#2a3f5f"
            },
            "error_y": {
             "color": "#2a3f5f"
            },
            "marker": {
             "line": {
              "color": "#E5ECF6",
              "width": 0.5
             },
             "pattern": {
              "fillmode": "overlay",
              "size": 10,
              "solidity": 0.2
             }
            },
            "type": "bar"
           }
          ],
          "barpolar": [
           {
            "marker": {
             "line": {
              "color": "#E5ECF6",
              "width": 0.5
             },
             "pattern": {
              "fillmode": "overlay",
              "size": 10,
              "solidity": 0.2
             }
            },
            "type": "barpolar"
           }
          ],
          "carpet": [
           {
            "aaxis": {
             "endlinecolor": "#2a3f5f",
             "gridcolor": "white",
             "linecolor": "white",
             "minorgridcolor": "white",
             "startlinecolor": "#2a3f5f"
            },
            "baxis": {
             "endlinecolor": "#2a3f5f",
             "gridcolor": "white",
             "linecolor": "white",
             "minorgridcolor": "white",
             "startlinecolor": "#2a3f5f"
            },
            "type": "carpet"
           }
          ],
          "choropleth": [
           {
            "colorbar": {
             "outlinewidth": 0,
             "ticks": ""
            },
            "type": "choropleth"
           }
          ],
          "contour": [
           {
            "colorbar": {
             "outlinewidth": 0,
             "ticks": ""
            },
            "colorscale": [
             [
              0,
              "#0d0887"
             ],
             [
              0.1111111111111111,
              "#46039f"
             ],
             [
              0.2222222222222222,
              "#7201a8"
             ],
             [
              0.3333333333333333,
              "#9c179e"
             ],
             [
              0.4444444444444444,
              "#bd3786"
             ],
             [
              0.5555555555555556,
              "#d8576b"
             ],
             [
              0.6666666666666666,
              "#ed7953"
             ],
             [
              0.7777777777777778,
              "#fb9f3a"
             ],
             [
              0.8888888888888888,
              "#fdca26"
             ],
             [
              1,
              "#f0f921"
             ]
            ],
            "type": "contour"
           }
          ],
          "contourcarpet": [
           {
            "colorbar": {
             "outlinewidth": 0,
             "ticks": ""
            },
            "type": "contourcarpet"
           }
          ],
          "heatmap": [
           {
            "colorbar": {
             "outlinewidth": 0,
             "ticks": ""
            },
            "colorscale": [
             [
              0,
              "#0d0887"
             ],
             [
              0.1111111111111111,
              "#46039f"
             ],
             [
              0.2222222222222222,
              "#7201a8"
             ],
             [
              0.3333333333333333,
              "#9c179e"
             ],
             [
              0.4444444444444444,
              "#bd3786"
             ],
             [
              0.5555555555555556,
              "#d8576b"
             ],
             [
              0.6666666666666666,
              "#ed7953"
             ],
             [
              0.7777777777777778,
              "#fb9f3a"
             ],
             [
              0.8888888888888888,
              "#fdca26"
             ],
             [
              1,
              "#f0f921"
             ]
            ],
            "type": "heatmap"
           }
          ],
          "histogram": [
           {
            "marker": {
             "pattern": {
              "fillmode": "overlay",
              "size": 10,
              "solidity": 0.2
             }
            },
            "type": "histogram"
           }
          ],
          "histogram2d": [
           {
            "colorbar": {
             "outlinewidth": 0,
             "ticks": ""
            },
            "colorscale": [
             [
              0,
              "#0d0887"
             ],
             [
              0.1111111111111111,
              "#46039f"
             ],
             [
              0.2222222222222222,
              "#7201a8"
             ],
             [
              0.3333333333333333,
              "#9c179e"
             ],
             [
              0.4444444444444444,
              "#bd3786"
             ],
             [
              0.5555555555555556,
              "#d8576b"
             ],
             [
              0.6666666666666666,
              "#ed7953"
             ],
             [
              0.7777777777777778,
              "#fb9f3a"
             ],
             [
              0.8888888888888888,
              "#fdca26"
             ],
             [
              1,
              "#f0f921"
             ]
            ],
            "type": "histogram2d"
           }
          ],
          "histogram2dcontour": [
           {
            "colorbar": {
             "outlinewidth": 0,
             "ticks": ""
            },
            "colorscale": [
             [
              0,
              "#0d0887"
             ],
             [
              0.1111111111111111,
              "#46039f"
             ],
             [
              0.2222222222222222,
              "#7201a8"
             ],
             [
              0.3333333333333333,
              "#9c179e"
             ],
             [
              0.4444444444444444,
              "#bd3786"
             ],
             [
              0.5555555555555556,
              "#d8576b"
             ],
             [
              0.6666666666666666,
              "#ed7953"
             ],
             [
              0.7777777777777778,
              "#fb9f3a"
             ],
             [
              0.8888888888888888,
              "#fdca26"
             ],
             [
              1,
              "#f0f921"
             ]
            ],
            "type": "histogram2dcontour"
           }
          ],
          "mesh3d": [
           {
            "colorbar": {
             "outlinewidth": 0,
             "ticks": ""
            },
            "type": "mesh3d"
           }
          ],
          "parcoords": [
           {
            "line": {
             "colorbar": {
              "outlinewidth": 0,
              "ticks": ""
             }
            },
            "type": "parcoords"
           }
          ],
          "pie": [
           {
            "automargin": true,
            "type": "pie"
           }
          ],
          "scatter": [
           {
            "fillpattern": {
             "fillmode": "overlay",
             "size": 10,
             "solidity": 0.2
            },
            "type": "scatter"
           }
          ],
          "scatter3d": [
           {
            "line": {
             "colorbar": {
              "outlinewidth": 0,
              "ticks": ""
             }
            },
            "marker": {
             "colorbar": {
              "outlinewidth": 0,
              "ticks": ""
             }
            },
            "type": "scatter3d"
           }
          ],
          "scattercarpet": [
           {
            "marker": {
             "colorbar": {
              "outlinewidth": 0,
              "ticks": ""
             }
            },
            "type": "scattercarpet"
           }
          ],
          "scattergeo": [
           {
            "marker": {
             "colorbar": {
              "outlinewidth": 0,
              "ticks": ""
             }
            },
            "type": "scattergeo"
           }
          ],
          "scattergl": [
           {
            "marker": {
             "colorbar": {
              "outlinewidth": 0,
              "ticks": ""
             }
            },
            "type": "scattergl"
           }
          ],
          "scattermap": [
           {
            "marker": {
             "colorbar": {
              "outlinewidth": 0,
              "ticks": ""
             }
            },
            "type": "scattermap"
           }
          ],
          "scattermapbox": [
           {
            "marker": {
             "colorbar": {
              "outlinewidth": 0,
              "ticks": ""
             }
            },
            "type": "scattermapbox"
           }
          ],
          "scatterpolar": [
           {
            "marker": {
             "colorbar": {
              "outlinewidth": 0,
              "ticks": ""
             }
            },
            "type": "scatterpolar"
           }
          ],
          "scatterpolargl": [
           {
            "marker": {
             "colorbar": {
              "outlinewidth": 0,
              "ticks": ""
             }
            },
            "type": "scatterpolargl"
           }
          ],
          "scatterternary": [
           {
            "marker": {
             "colorbar": {
              "outlinewidth": 0,
              "ticks": ""
             }
            },
            "type": "scatterternary"
           }
          ],
          "surface": [
           {
            "colorbar": {
             "outlinewidth": 0,
             "ticks": ""
            },
            "colorscale": [
             [
              0,
              "#0d0887"
             ],
             [
              0.1111111111111111,
              "#46039f"
             ],
             [
              0.2222222222222222,
              "#7201a8"
             ],
             [
              0.3333333333333333,
              "#9c179e"
             ],
             [
              0.4444444444444444,
              "#bd3786"
             ],
             [
              0.5555555555555556,
              "#d8576b"
             ],
             [
              0.6666666666666666,
              "#ed7953"
             ],
             [
              0.7777777777777778,
              "#fb9f3a"
             ],
             [
              0.8888888888888888,
              "#fdca26"
             ],
             [
              1,
              "#f0f921"
             ]
            ],
            "type": "surface"
           }
          ],
          "table": [
           {
            "cells": {
             "fill": {
              "color": "#EBF0F8"
             },
             "line": {
              "color": "white"
             }
            },
            "header": {
             "fill": {
              "color": "#C8D4E3"
             },
             "line": {
              "color": "white"
             }
            },
            "type": "table"
           }
          ]
         },
         "layout": {
          "annotationdefaults": {
           "arrowcolor": "#2a3f5f",
           "arrowhead": 0,
           "arrowwidth": 1
          },
          "autotypenumbers": "strict",
          "coloraxis": {
           "colorbar": {
            "outlinewidth": 0,
            "ticks": ""
           }
          },
          "colorscale": {
           "diverging": [
            [
             0,
             "#8e0152"
            ],
            [
             0.1,
             "#c51b7d"
            ],
            [
             0.2,
             "#de77ae"
            ],
            [
             0.3,
             "#f1b6da"
            ],
            [
             0.4,
             "#fde0ef"
            ],
            [
             0.5,
             "#f7f7f7"
            ],
            [
             0.6,
             "#e6f5d0"
            ],
            [
             0.7,
             "#b8e186"
            ],
            [
             0.8,
             "#7fbc41"
            ],
            [
             0.9,
             "#4d9221"
            ],
            [
             1,
             "#276419"
            ]
           ],
           "sequential": [
            [
             0,
             "#0d0887"
            ],
            [
             0.1111111111111111,
             "#46039f"
            ],
            [
             0.2222222222222222,
             "#7201a8"
            ],
            [
             0.3333333333333333,
             "#9c179e"
            ],
            [
             0.4444444444444444,
             "#bd3786"
            ],
            [
             0.5555555555555556,
             "#d8576b"
            ],
            [
             0.6666666666666666,
             "#ed7953"
            ],
            [
             0.7777777777777778,
             "#fb9f3a"
            ],
            [
             0.8888888888888888,
             "#fdca26"
            ],
            [
             1,
             "#f0f921"
            ]
           ],
           "sequentialminus": [
            [
             0,
             "#0d0887"
            ],
            [
             0.1111111111111111,
             "#46039f"
            ],
            [
             0.2222222222222222,
             "#7201a8"
            ],
            [
             0.3333333333333333,
             "#9c179e"
            ],
            [
             0.4444444444444444,
             "#bd3786"
            ],
            [
             0.5555555555555556,
             "#d8576b"
            ],
            [
             0.6666666666666666,
             "#ed7953"
            ],
            [
             0.7777777777777778,
             "#fb9f3a"
            ],
            [
             0.8888888888888888,
             "#fdca26"
            ],
            [
             1,
             "#f0f921"
            ]
           ]
          },
          "colorway": [
           "#636efa",
           "#EF553B",
           "#00cc96",
           "#ab63fa",
           "#FFA15A",
           "#19d3f3",
           "#FF6692",
           "#B6E880",
           "#FF97FF",
           "#FECB52"
          ],
          "font": {
           "color": "#2a3f5f"
          },
          "geo": {
           "bgcolor": "white",
           "lakecolor": "white",
           "landcolor": "#E5ECF6",
           "showlakes": true,
           "showland": true,
           "subunitcolor": "white"
          },
          "hoverlabel": {
           "align": "left"
          },
          "hovermode": "closest",
          "mapbox": {
           "style": "light"
          },
          "paper_bgcolor": "white",
          "plot_bgcolor": "#E5ECF6",
          "polar": {
           "angularaxis": {
            "gridcolor": "white",
            "linecolor": "white",
            "ticks": ""
           },
           "bgcolor": "#E5ECF6",
           "radialaxis": {
            "gridcolor": "white",
            "linecolor": "white",
            "ticks": ""
           }
          },
          "scene": {
           "xaxis": {
            "backgroundcolor": "#E5ECF6",
            "gridcolor": "white",
            "gridwidth": 2,
            "linecolor": "white",
            "showbackground": true,
            "ticks": "",
            "zerolinecolor": "white"
           },
           "yaxis": {
            "backgroundcolor": "#E5ECF6",
            "gridcolor": "white",
            "gridwidth": 2,
            "linecolor": "white",
            "showbackground": true,
            "ticks": "",
            "zerolinecolor": "white"
           },
           "zaxis": {
            "backgroundcolor": "#E5ECF6",
            "gridcolor": "white",
            "gridwidth": 2,
            "linecolor": "white",
            "showbackground": true,
            "ticks": "",
            "zerolinecolor": "white"
           }
          },
          "shapedefaults": {
           "line": {
            "color": "#2a3f5f"
           }
          },
          "ternary": {
           "aaxis": {
            "gridcolor": "white",
            "linecolor": "white",
            "ticks": ""
           },
           "baxis": {
            "gridcolor": "white",
            "linecolor": "white",
            "ticks": ""
           },
           "bgcolor": "#E5ECF6",
           "caxis": {
            "gridcolor": "white",
            "linecolor": "white",
            "ticks": ""
           }
          },
          "title": {
           "x": 0.05
          },
          "xaxis": {
           "automargin": true,
           "gridcolor": "white",
           "linecolor": "white",
           "ticks": "",
           "title": {
            "standoff": 15
           },
           "zerolinecolor": "white",
           "zerolinewidth": 2
          },
          "yaxis": {
           "automargin": true,
           "gridcolor": "white",
           "linecolor": "white",
           "ticks": "",
           "title": {
            "standoff": 15
           },
           "zerolinecolor": "white",
           "zerolinewidth": 2
          }
         }
        },
        "title": {
         "text": "Number of entries during day/night"
        },
        "xaxis": {
         "anchor": "y",
         "domain": [
          0,
          1
         ],
         "title": {
          "text": "Twilight"
         }
        },
        "yaxis": {
         "anchor": "x",
         "domain": [
          0,
          1
         ],
         "title": {
          "text": "count"
         }
        }
       }
      }
     },
     "metadata": {},
     "output_type": "display_data"
    }
   ],
   "source": [
    "index.plot(\n",
    "    title=\"Number of entries during day/night\",\n",
    "    labels=dict(\n",
    "        index=\"Time\",\n",
    "        value=\"Number of entries\",\n",
    "    ),\n",
    "    kind=\"hist\",\n",
    "    x=\"Twilight\",\n",
    ")"
   ]
  },
  {
   "cell_type": "markdown",
   "metadata": {},
   "source": [
    "## Space\n"
   ]
  },
  {
   "cell_type": "code",
   "execution_count": 34,
   "metadata": {},
   "outputs": [
    {
     "data": {
      "application/vnd.plotly.v1+json": {
       "config": {
        "plotlyServerURL": "https://plot.ly"
       },
       "data": [
        {
         "bingroup": "x",
         "hovertemplate": "Latitude=%{x}<br>count=%{y}<extra></extra>",
         "legendgroup": "",
         "marker": {
          "color": "#636efa",
          "pattern": {
           "shape": ""
          }
         },
         "name": "",
         "orientation": "v",
         "showlegend": false,
         "type": "histogram",
         "x": {
          "bdata": "KVyPwvXoSEApXI/C9ehIQEjhehSux0hASOF6FK7HSED2KFyPwtVIQPYoXI/C1UhAaJHtfD+1SEBoke18P7VIQMP1KFyP8khAXI/C9Sh8SECPwvUoXO9IQGQ730+N50hAAAAAAAAASUAAAAAAAABJQAAAAAAAAElAXI/C9Sh8SEC4HoXrUXhKQIPAyqFFtkpAAAAAAAAAS0CsHFpkO39LQK5H4XoUzktAJzEIrBwaS0AQWDm0yCZKQPhT46WbVElAf2q8dJPISEB/arx0k8hIQH9qvHSTyEhAf2q8dJPISEB/arx0k8hIQH9qvHSTyEhAf2q8dJPISEB/arx0k8hIQGZmZmZmxkhAZmZmZmbGSEBmZmZmZsZIQGZmZmZmxkhA9ihcj8LFSEAv3SQGgcVIQC/dJAaBxUhAL90kBoHFSEBMN4lBYMVIQEw3iUFgxUhATDeJQWDFSEBMN4lBYMVIQEw3iUFgxUhATDeJQWDFSEAv3SQGgcVIQC/dJAaBxUhAObTIdr7vSEBcj8L1KHxIQGZmZmZmxkhAAAAAAAAASUAAAAAAAABJQAAAAAAAAElAAAAAAAAASUAAAAAAAABJQAAAAAAAAElAAAAAAAAASUAAAAAAAABJQAAAAAAAAElAAAAAAAAASUAAAAAAAABJQAAAAAAAAElA5dAi2/luSkDl0CLb+W5KQDm0yHa+30lAWDm0yHZOSUBYObTIdk5JQMdLN4lBQElAx0s3iUFASUAAAAAAAMBJQAAAAAAAwElAAAAAAABASkAAAAAAAEBKQMdLN4lBwEpAx0s3iUHASkDHSzeJQUBLQMdLN4lBQEtAx0s3iUHAS0DHSzeJQcBLQAAAAAAAQExAAAAAAABATEA5tMh2vu9IQH9qvHSTaEhAz/dT46V7SEBOYhBYOaRIQJzEILByyEhAPQrXo3D9SEA9CtejcP1IQHe+nxov/UhAd76fGi/9SEDl0CLb+f5IQMuhRbbz/UhA5/up8dL9SEDn+6nx0v1IQDvfT42X/khAO99PjZf+SECR7Xw/Nf5IQJHtfD81/khADi2yne+3R0AOLbKd77dHQEjhehSut0dASOF6FK63R0AOLbKd77dHQA4tsp3vt0dAVOOlm8QASUAOLbKd77dHQDm0yHa+v0dAnMQgsHJoSEDVeOkmMXhIQK5H4XoUbkhA+n5qvHRjSEDy0k1iEHhIQJHtfD81bkhA/Knx0k1ySEBcj8L1KHxIQE5iEFg5pEhAnMQgsHLISEDjpZvEIABJQHWTGARW/khAdZMYBFb+SEAAAAAAAABJQAAAAAAAAElAAAAAAAAASUAAAAAAAABJQOxRuB6F+0hA7FG4HoX7SEAAAAAAAABJQAAAAAAAAElAVg4tsp3/SEBWDi2ynf9IQFYOLbKd/0hAj8L1KFz/SECPwvUoXP9IQMl2vp8a/0hAObTIdr7/SEB56SYxCHxIQPyp8dJNckhAnMQgsHJoSEArhxbZzmdIQKabxCCwckhAPzVeukl8SEAZBFYOLXJIQARWDi2ybUhAIbByaJFtSEAEVg4tsm1IQCGwcmiRbUhAIbByaJFtSEAhsHJokW1IQClcj8L1aEhAlkOLbOdLSUDn+6nx0m1JQDm0yHa+70hAAAAAAADgSEBGtvP91GhIQEa28/3UaEhA1XjpJjFoSEBI4XoUrmdIQJzEILByaEhAuB6F61FoSEArhxbZzmdIQCuHFtnOZ0hASOF6FK5HSUB/arx0k2hIQPyp8dJNckhAXI/C9Sh8SEBOYhBYOaRIQLgehetRyEhAyXa+nxr/SEBQjZduElNKQKrx0k1igEtA46WbxCDATEAQWDm0yAZLQI/C9Shc/0pASOF6FK6nSkAEVg4tsm1JQCGwcmiRbUlA/Knx0k3CS0D8qfHSTcJLQPyp8dJNwktA/Knx0k3CS0CkcD0K18NLQKRwPQrXw0tApHA9CtfDS0CkcD0K18NLQHe+nxovPUtAd76fGi89S0B3vp8aLz1LQHe+nxovPUtAkxgEVg49S0CTGARWDj1LQJMYBFYOPUtAkxgEVg49S0CLbOf7qcFKQIts5/upwUpAi2zn+6nBSkCLbOf7qcFKQPp+arx0w0pA+n5qvHTDSkD6fmq8dMNKQPp+arx0w0pAMzMzMzNDSkAzMzMzM0NKQDMzMzMzQ0pAFK5H4XpESkAUrkfhekRKQBSuR+F6REpAFK5H4XpESkAzMzMzM8NJQDMzMzMzw0lAMzMzMzPDSUAzMzMzM8NJQPYoXI/CxUlA9ihcj8LFSUD2KFyPwsVJQPYoXI/CxUlABoGVQ4s8SUAGgZVDizxJQAaBlUOLPElABoGVQ4s8SUCamZmZmTlJQJqZmZmZOUlAmpmZmZk5SUCamZmZmTlJQAAAAAAAAElAAAAAAAAASUAAAAAAAABJQI/C9Shc/0hAH4XrUbi+SEAfhetRuL5IQB+F61G4vkhAH4XrUbi+SEAEVg4tsr1IQARWDi2yvUhABFYOLbK9SEAEVg4tsr1IQKRwPQrXQ0lACtejcD06SUAdWmQ73+9IQMuhRbbz7UtA+n5qvHTzS0A730+Nl/5LQDm0yHa+/0pAoBov3SQGS0CBlUOLbCdJQH9qvHSTaEhAXI/C9Sh8SEBOYhBYOaRIQH9qvHSTyEhAGQRWDi0CSUA5tMh2vu9IQNEi2/l+SklA0SLb+X5KSUAEVg4tsm1JQD0K16NwbUlAUrgehetxSECBlUOLbAdLQDeJQWDl8EtAHVpkO9//SEAZBFYOLQJJQGZmZmZmxkhAAAAAAADgR0BWDi2ynd9HQD0K16Nw3UdAtMh2vp9KSUC0yHa+n0pJQB+F61G4bklArBxaZDtvSUAAAAAAAPBIQH9qvHSTaEhASOF6FK4nSUCNl24SgzBJQHsUrkfhOklAfT81XrpJSUA730+Nl95LQDMzMzMz80tAd76fGi/9S0BKDAIrh8ZIQGq8dJMYpEhAZmZmZmYGS0CWQ4ts53tIQHsUrkfhOklACtejcD1KSUBWDi2yne9IQMl2vp8aP0lAyXa+nxo/SUDJdr6fGj9JQMl2vp8aP0lAi2zn+6nBSUCLbOf7qcFJQFK4HoXrwUlAUrgehevBSUD8qfHSTcJJQN9PjZduwklAiUFg5dDCSUCJQWDl0MJJQGq8dJMYxElAarx0kxhESkAxCKwcWkRKQBSuR+F6REpAN4lBYOXASkAbL90kBsFKQKjGSzeJwUpAqMZLN4nBSkCoxks3icFKQKjGSzeJwUpAx0s3iUHASkCLbOf7qcFKQIts5/upQUtAi2zn+6lBS0A1XrpJDEJLQBkEVg4tQktA+n5qvHTDS0DdJAaBlcNLQGq8dJMYxEtAarx0kxjES0BOYhBYOcRLQE5iEFg5xEtA2/l+arzES0C+nxov3cRLQJzEILByaEhACKwcWmR7SEAxCKwcWqRIQJzEILByyEhAqvHSTWIASUCcxCCwckhKQHE9CtejgEtAHVpkO9+/TECLbOf7qfFMQDm0yHa+70hAIbByaJH9S0CYbhKDwCpKQLTIdr6fKkpARrbz/dRoSEA5tMh2vu9IQHnpJjEITElAAAAAAABwSUAAAAAAAHBJQOf7qfHSbUlA5/up8dJtSUA/NV66SXxIQE5iEFg5pEhA1XjpJjHISEAdWmQ73/9IQNEi2/l+6klAAAAAAAAASkCNl24SgyBKQHE9CtejQEpAx0s3iUFgSkAAAAAAAIBKQDm0yHa+n0pAAAAAAADASkDjpZvEIOBKQHE9CtejAEtAUrgehesBTEBSuB6F6wFMQPyp8dJNAkxAw/UoXI8CTEBt5/up8QJMQG3n+6nxAkxA+n5qvHQDTED6fmq8dANMQKrx0k1iwEtAqvHSTWLAS0A3iUFg5cBLQBsv3SQGQUtAqMZLN4lBS0BxPQrXo8BKQHE9CtejwEpAcT0K16PASkBxPQrXo8BKQDm0yHa+P0pAAAAAAABASkDHSzeJQUBKQMdLN4lBQEpAqvHSTWJASkCq8dJNYkBKQI/C9ShcP0hAj8L1KFw/SECPwvUoXD9IQMl2vp8aP0hAcT0K16PAR0A3iUFg5cBHQBsv3SQGwUdAGy/dJAbBR0D0/dR46aZKQLpJDAIrp0pAEFg5tMimSkAQWDm0yKZKQJMYBFYOrUpAWmQ730+tSkB3vp8aL61KQFpkO99PrUpAVOOlm8SgSkBU46WbxKBKQI2XbhKDoEpAx0s3iUGgSkDdJAaBlbNKQPp+arx0s0pAF9nO91OzSkDdJAaBlbNKQI2XbhKDoEpAJzEIrByaSkBEi2zn+5lKQESLbOf7mUpARIts5/uZSkBOYhBYOYRKQKrx0k1iAEpAx0s3iUEASkAAAAAAAABKQAAAAAAAAEpAuB6F61FoSEAj2/l+anxIQDEIrBxapEhAf2q8dJPISEDjpZvEIABJQMdLN4lBgElAAAAAAADgSUAbL90kBgFKQAAAAAAAIEpAAAAAAABASkDjpZvEIGBKQBsv3SQGgUpABFYOLbKdSkBzaJHtfL9KQAAAAAAA4EpA46WbxCAAS0CNl24SgyBKQK5H4XoUbklAy6FFtvNtSUDNzMzMzDxJQM3MzMzMPElA0SLb+X5KSUCYbhKDwEpJQAAAAAAA8EhAPzVeukl8SEBiEFg5tMhIQOf7qfHS/UhAZmZmZmbmSkC8dJMYBOZKQGZmZmZm5kpAj8L1KFxvSkAtsp3vp+ZJQIlBYOXQUklAtMh2vp9KSUB7FK5H4UpJQB1aZDvfH0lAHVpkO98/SUC0yHa+n2pJQEw3iUFgdUlAtMh2vp+KSUAdWmQ7359JQEw3iUFgtUlAtMh2vp/KSUAAAAAAAOBJQAAAAAAAAEpAAAAAAAAgSkC0yHa+n8pJQAAAAAAAoElAAAAAAACgSUAdWmQ7359JQAAAAAAAoElA46WbxCCgSUDjpZvEIKBJQAAAAAAAoElAHVpkO9+fSUDjpZvEIGBKQAAAAAAAYEpA46WbxCCgSkBCYOXQIstKQC/dJAaB9UpAmG4Sg8AKS0AAAAAAACBLQEw3iUFgNUtAhetRuB41S0C0yHa+n0pLQB1aZDvfX0tATDeJQWB1S0BMN4lBYHVLQEw3iUFglUtAAAAAAADAS0BmZmZmZkZLQGZmZmZmRktAoBov3SRGS0C8dJMYBEZLQGZmZmZmRktAAAAAAABAS0Ce76fGS3dKQH9qvHSTyEhAke18PzUeSUAOLbKd7ydJQBsv3SQGMUlAJQaBlUM7SUD2KFyPwkVJQBSuR+F6pEhAPzVeukl8SEDFILByaMFJQIts5/upwUlAUrgehevBSUD8qfHSTcJIQPyp8dJNwkhA30+Nl27CSEDfT42XbsJIQD81XrpJfEhAMQisHFqkSEDRItv5fkpJQNEi2/l+SklAObTIdr6/SkAAAAAAAOBKQAAAAAAAAEtATDeJQWAVS0DRItv5fipLQDm0yHa+P0tAqvHSTWKgS0C0yHa+n2pLQAAAAAAAAEtAL90kBoEVS0BU46WbxEBKQAAAAAAAQEpAx0s3iUGASUAAAAAAAGBJQDm0yHa+70hAI9v5fmp8SECcxCCwcshIQOOlm8QgAElAi2zn+6kBSUAAAAAAAABJQAAAAAAAgEdAAAAAAACAR0CgGi/dJEZJQEJg5dAiO0lAVOOlm8QwSUA5tMh2vu9IQArXo3A9SklA0SLb+X5KSUAGgZVDi2xJQM3MzMzMbElA5/up8dI9SUAAAAAAAEBJQJ7vp8ZLJ0lAx0s3iUEwSUBCYOXQIjtJQEw3iUFgRUlA8KfGSzf5SkB1kxgEVv5KQEw3iUFgBUtAnMQgsHJoSEB56SYxCHxIQGq8dJMYpEhAf2q8dJPISEAAAAAAAABJQI/C9Shcv0lAAAAAAABAS0DHSzeJQUBLQHE9CtejQEtAx0s3iUGAS0DByqFFtoNLQIlBYOXQwktAbef7qfHCS0AzMzMzMwNMQHe+nxovXUxAaJHtfD9FSUAlBoGVQztJQFTjpZvEMElAZmZmZmYmSUCcxCCwcmhIQHnpJjEIfEhAMQisHFqkSECcxCCwcshIQBsv3SQGAUlAAAAAAACgSUC0yHa+n7pJQLTIdr6fSklA0SLb+X5KSUAEVg4tsm1JQARWDi2ybUlA46WbxCDwSEDJdr6fGj9IQEjhehSuJ0lAjZduEoMwSUC0yHa+nzpJQL6fGi/dRElA46WbxCAASUCcxCCwcshIQE5iEFg5pEhAXI/C9Sh8SECPwvUoXD9IQH9qvHSTaEhAQmDl0CIrSUC6SQwCKzdJQHE9CtejQElA46WbxCDwSEDRItv5fkpJQNEi2/l+SklA5/up8dJtSUDn+6nx0m1JQGIQWDm0aEhAlkOLbOd7SEAxCKwcWqRIQH9qvHSTyEhAVOOlm8QASUDHSzeJQQBJQAAAAAAAAEpAN4lBYOXASkAdWmQ7379KQFg5tMh2PkhAqvHSTWLASkB/arx0k2hIQFyPwvUofEhATmIQWDmkSEB/arx0k8hIQOOlm8QgAElAAAAAAAAASUDJdr6fGu9IQFTjpZvEcElA0SLb+X5KSUDb+X5qvERJQLTIdr6fOklAqvHSTWIwSUB/arx0k2hIQFyPwvUofEhAMQisHFqkSECcxCCwcshIQE5iEFg5BElAgZVDi2wnSUA3iUFg5TBJQJhuEoPAOklAaJHtfD9FSUAnMQisHEpJQLTIdr6fOklAc2iR7XzvSEB/arx0k2hIQFyPwvUofEhAarx0kxikSEBiEFg5tMhIQP7UeOkmAUlAtMh2vp8qSkCYbhKDwApKQMuhRbbz7UlAsp3vp8bLSUA/NV66SaxJQH9qvHSTaEhAXI/C9Sh8SEAxCKwcWqRIQClcj8L1yEhAAAAAAAAASUAhsHJokW1JQNEi2/l+SklAXrpJDAI7SUA5tMh2vu9IQNnO91PjJUlAjZduEoMwSUBeukkMAjtJQPhT46WbRElAf2q8dJNoSECyne+nxntIQE5iEFg5pEhAYOXQItvJSEC+nxov3QRJQMdLN4lBAElAjZduEoOAR0DHSzeJQYBHQOOlm8QgwEdAAAAAAACgSUC28/3UeNlJQHNoke18/0lAJzEIrBwKSkAEVg4tsi1KQDm0yHa+f0pAUI2XbhKjSkA730+Nl65KQNEi2/l+SklAj8L1KFzvSEB/arx0k2hIQCPb+X5qfEhAf2q8dJPISED+1HjpJtFIQCUGgZVDC0lASgwCK4dmSkAfhetRuO5IQJZDi2zna0lA8KfGSzdpSECyne+nxntIQGq8dJMYpEhAnMQgsHLISEBMN4lBYJVIQAAAAAAAAElA46WbxCBASkDRItv5fmpKQAAAAAAA8EhA0SLb+X5KSUCcxCCwcmhIQAisHFpke0hATmIQWDmkSEB/arx0k8hIQI2XbhKDAElAVg4tsp3vSEAK16NwPUpJQOf7qfHSbUlAjZduEoMASUDn+6nx0m1JQB1aZDvf70hAYhBYObRoSEBcj8L1KHxIQIcW2c73o0hAnMQgsHLISEAdWmQ73/9IQDMzMzMzU0pAjZduEoOAS0A5tMh2vr9MQLgehetRaEhAI9v5fmp8SEAxCKwcWqRIQH9qvHSTyEhAx0s3iUEASUC0yHa+n2pJQBfZzvdTc0lAz/dT46WbSUCPwvUoXD9JQHE9Ctej8EhAkxgEVg59SEDByqFFtqNIQH9qvHSTyEhAz/dT46X7SEAdWmQ73/9LQOOlm8QgQExAtMh2vp+KTEAdWmQ7379MQE5iEFg5JEpAHVpkO9//SUCPwvUoXN9JQG3n+6nxUklAvp8aL930SUBOYhBYOWRKQNNNYhBYuUpAy6FFtvPNSkCWQ4ts59tKQJzEILByaEhAXI/C9Sh8SEAxCKwcWqRIQEa28/3UyEhAAAAAAAAASUBU46WbxPBIQIGVQ4tsN0lAK4cW2c5nSEB56SYxCHxIQDEIrBxapEhAuB6F61HISEDFILByaAFJQDm0yHa+70hA7nw/NV5KSUCe76fGS2dIQD81XrpJfEhAMQisHFqkSECcxCCwcshIQAAAAAAAAElAlkOLbOc7SUCR7Xw/Nc5JQI/C9ShcT0pAxSCwcmjRSkAOLbKd72dIQFyPwvUofEhAMQisHFqkSEApXI/C9chIQKrx0k1iAElAZDvfT43nSEAdWmQ73+9IQO58PzVeSklAXI/C9Sj8S0CcxCCwcmhIQM3MzMzMfEhAsHJoke18SEDVeOkmMchIQOXQItv5/khAObTIdr7vSEBI4XoUrudIQO58PzVeSklAf2q8dJNoSEBcj8L1KHxIQE5iEFg5pEhAf2q8dJPISEAdWmQ73/9IQK5H4XoU7khA7FG4HoXLSUA/NV66SWxKQLx0kxgExkpAYhBYObRoSEB56SYxCHxIQH9qvHSTyEhAGQRWDi0CSUBqvHSTGKRIQDeJQWDlkEhAgZVDi2znSEA5tMh2vu9IQNEi2/l+SklABoGVQ4t8SEAxCKwcWqRIQH9qvHSTyEhAexSuR+E6SUDRItv5fkpJQJzEILByaEhAXI/C9Sh8SEBOYhBYOaRIQClcj8L1yEhAHVpkO9//SECPwvUoXM9JQKabxCCwgklA4XoUrkdhSkAQWDm0yOZKQGIQWDm0aEhAeekmMQh8SEBOYhBYOaRIQH9qvHSTyEhAObTIdr7/SECsHFpkO+9IQGQ730+N50hACtejcD1KSUAhsHJokW1JQJzEILByaEhAXI/C9Sh8SEBvEoPAyqFIQClcj8L1yEhAVg4tsp3/SECNl24Sg/BIQCUGgZVDO0lAtMh2vp9KSUAhsHJokW1JQJzEILByaEhABoGVQ4t8SEBOYhBYOaRIQAwCK4cWyUhAx0s3iUEASUB/arx0k2hIQFyPwvUofEhATmIQWDmkSECcxCCwcshIQAAAAAAAAElASOF6FK7nSEBWDi2yne9IQF66SQwCO0lA0SLb+X5KSUDpJjEIrGxJQH9qvHSTaEhAeekmMQh8SEBOYhBYOaRIQAAAAAAAAElAf2q8dJPISEA5tMh2vu9IQCUGgZVDO0lAXrpJDAJLSUAhsHJokW1JQFyPwvUofEhAf2q8dJPISEDjpZvEIABJQJzEILByaEhAXI/C9Sh8SEBOYhBYOaRIQB1aZDvf/0hAObTIdr7vSEB7FK5H4TpJQHnpJjEIbElAnMQgsHJoSEA/NV66SXxIQIcW2c73o0hArBxaZDv/SEBiEFg5tMhIQAAAAAAA8EhAJQaBlUM7SUDRItv5fkpJQGIQWDm0aEhAI9v5fmp8SEBOYhBYOaRIQLgehetRyEhAGy/dJAYBSUDVeOkmMWhIQHnpJjEIfEhAMQisHFqkSEBiEFg5tMhIQB1aZDvf/0hAHVpkO9/vSEC4HoXrUWhIQFyPwvUofEhAXrpJDAI7SUBOYhBYOaRIQH9qvHSTyEhAqvHSTWIASUBcj8L1KHxIQDEIrBxapEhAf2q8dJPISEAAAAAAAABJQDm0yHa+70hAXrpJDAI7SUC0yHa+n0pJQF66SQwCa0lAnMQgsHJoSEBcj8L1KHxIQDEIrBxapEhAuB6F61HISEAAAAAAAABJQArXo3A9SklAXI/C9Sh8SEBqvHSTGKRIQLgehetRyEhAx0s3iUEASUB/arx0k2hIQAIrhxbZrkpAEFg5tMimSkB1kxgEVp5KQC2yne+ntkpAc2iR7Xy/SkAQWDm0yJZKQEjhehSul0pAVOOlm8SQSkBU46WbxLBKQOXQItv5bkpAmpmZmZm5SkDD9Shcj8JKQF66SQwCe0pAmpmZmZmJSkAtsp3vp9ZKQF66SQwCO0lAf2q8dJNoSEBcj8L1KHxIQKJFtvP9pEhAYhBYObTISEDHSzeJQQBJQMl2vp8aD0pAPzVeuknMSUCcxCCwcmhIQE5iEFg5pEhAVg4tsp3/SEBmZmZmZsZIQLTIdr6fSklA1XjpJjF4SUDjpZvEIIBJQH9qvHSTaEhAXI/C9Sh8SEBOYhBYOaRIQJzEILByyEhAAAAAAAAASUAhsHJokf1HQHNoke18/0dA7FG4HoX7R0A5tMh2vu9IQM3MzMzMfEhATmIQWDmkSECcxCCwcshIQAAAAAAAAElAf2q8dJNoSEDjpZvEIIBJQHNoke18r0lAf2q8dJPISEDHSzeJQQBJQE5iEFg5pEhAXI/C9Sh8SECcxCCwcmhIQJHtfD817khA8tJNYhB4SUB/arx0k2hIQD81XrpJfEhAF9nO91OjSEB/arx0k8hIQB1aZDvf/0hA7nw/NV7KSEBoke18P8VIQG8Sg8DKwUhAHVpkO9+/SED8qfHSTbJIQLx0kxgExkhAXrpJDALLSEDpJjEIrNxIQOOlm8QgwEhAIbByaJG9SEDLoUW2861IQPT91Hjp1khAObTIdr7vSEDhehSuR/FIQN9PjZdu8khA7FG4HoVbSUACK4cW2V5JQBkEVg4tYklAaJHtfD9lSUDFILByaHFJQJMYBFYOTUlAuB6F61FYSUBg5dAi22lJQH9qvHSTaEhABoGVQ4t8SEAxCKwcWqRIQB1aZDvf/0hAf2q8dJPISEBI4XoUrudIQAaBlUOLPElA0SLb+X5KSUCcxCCwcnhJQHNoke18r0lAf2q8dJNoSEB56SYxCHxIQB1aZDvf/0hAuB6F61HISEDByqFFtqNIQIGVQ4ts50hAc2iR7XzvSEB/arx0k2hIQFyPwvUofEhATmIQWDmkSEDVeOkmMchIQOOlm8QgAElAi2zn+6kRSUDD9Shcj7JJQEjhehSu50hAKVyPwvVoSEBcj8L1KHxIQNv5fmq8pEhAnMQgsHLISEAdWmQ73/9IQEJg5dAi+0hA9P3UeOkmSUA3iUFg5TBJQFg5tMh2TklA9P3UeOkWSUB/arx0k2hIQFyPwvUofEhAnMQgsHLISEAAAAAAAABJQJzEILByaEhAXI/C9Sh8SEAUrkfheqRIQOOlm8QgAElAjZduEoOASkDl0CLb+X5KQFTjpZvEgEhACtejcD16SED4U+Olm2RIQHNoke18j0hAy6FFtvONSEBGtvP91LhIQArXo3A9mkhA7FG4HoWLSEArhxbZzpdIQM3MzMzMjEhAi2zn+6mhSEBMN4lBYHVIQH9qvHSTyEdAf2q8dJPIR0BiEFg5tAhIQOkmMQisDEhAMzMzMzMzSEAzMzMzMzNIQFCNl24Ss0lARrbz/dRoSEBcj8L1KHxIQE5iEFg5pEhAf2q8dJPISEAAAAAAAABJQDVeukkM8khA7nw/NV5KSUBiEFg5tGhIQM/3U+Ole0hA+FPjpZukSEC4HoXrUchIQIlBYOXQ8khAAAAAAAAASUBcj8L1KHxIQJzEILByaEhAObTIdr7vSEBCYOXQIjtJQEJg5dAiS0lATmIQWDm0SUD+1HjpJpFKQEa28/3UaEhAXI/C9Sh8SEBOYhBYOaRIQEa28/3UyEhAAAAAAAAASUAlBoGVQztJQPLSTWIQeElA",
          "dtype": "f8"
         },
         "xaxis": "x",
         "yaxis": "y"
        },
        {
         "hovertemplate": "Latitude=%{x}<extra></extra>",
         "legendgroup": "",
         "marker": {
          "color": "#636efa"
         },
         "name": "",
         "notched": true,
         "showlegend": false,
         "type": "box",
         "x": {
          "bdata": "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",
          "dtype": "f8"
         },
         "xaxis": "x2",
         "yaxis": "y2"
        }
       ],
       "layout": {
        "barmode": "relative",
        "legend": {
         "tracegroupgap": 0
        },
        "template": {
         "data": {
          "bar": [
           {
            "error_x": {
             "color": "#2a3f5f"
            },
            "error_y": {
             "color": "#2a3f5f"
            },
            "marker": {
             "line": {
              "color": "#E5ECF6",
              "width": 0.5
             },
             "pattern": {
              "fillmode": "overlay",
              "size": 10,
              "solidity": 0.2
             }
            },
            "type": "bar"
           }
          ],
          "barpolar": [
           {
            "marker": {
             "line": {
              "color": "#E5ECF6",
              "width": 0.5
             },
             "pattern": {
              "fillmode": "overlay",
              "size": 10,
              "solidity": 0.2
             }
            },
            "type": "barpolar"
           }
          ],
          "carpet": [
           {
            "aaxis": {
             "endlinecolor": "#2a3f5f",
             "gridcolor": "white",
             "linecolor": "white",
             "minorgridcolor": "white",
             "startlinecolor": "#2a3f5f"
            },
            "baxis": {
             "endlinecolor": "#2a3f5f",
             "gridcolor": "white",
             "linecolor": "white",
             "minorgridcolor": "white",
             "startlinecolor": "#2a3f5f"
            },
            "type": "carpet"
           }
          ],
          "choropleth": [
           {
            "colorbar": {
             "outlinewidth": 0,
             "ticks": ""
            },
            "type": "choropleth"
           }
          ],
          "contour": [
           {
            "colorbar": {
             "outlinewidth": 0,
             "ticks": ""
            },
            "colorscale": [
             [
              0,
              "#0d0887"
             ],
             [
              0.1111111111111111,
              "#46039f"
             ],
             [
              0.2222222222222222,
              "#7201a8"
             ],
             [
              0.3333333333333333,
              "#9c179e"
             ],
             [
              0.4444444444444444,
              "#bd3786"
             ],
             [
              0.5555555555555556,
              "#d8576b"
             ],
             [
              0.6666666666666666,
              "#ed7953"
             ],
             [
              0.7777777777777778,
              "#fb9f3a"
             ],
             [
              0.8888888888888888,
              "#fdca26"
             ],
             [
              1,
              "#f0f921"
             ]
            ],
            "type": "contour"
           }
          ],
          "contourcarpet": [
           {
            "colorbar": {
             "outlinewidth": 0,
             "ticks": ""
            },
            "type": "contourcarpet"
           }
          ],
          "heatmap": [
           {
            "colorbar": {
             "outlinewidth": 0,
             "ticks": ""
            },
            "colorscale": [
             [
              0,
              "#0d0887"
             ],
             [
              0.1111111111111111,
              "#46039f"
             ],
             [
              0.2222222222222222,
              "#7201a8"
             ],
             [
              0.3333333333333333,
              "#9c179e"
             ],
             [
              0.4444444444444444,
              "#bd3786"
             ],
             [
              0.5555555555555556,
              "#d8576b"
             ],
             [
              0.6666666666666666,
              "#ed7953"
             ],
             [
              0.7777777777777778,
              "#fb9f3a"
             ],
             [
              0.8888888888888888,
              "#fdca26"
             ],
             [
              1,
              "#f0f921"
             ]
            ],
            "type": "heatmap"
           }
          ],
          "histogram": [
           {
            "marker": {
             "pattern": {
              "fillmode": "overlay",
              "size": 10,
              "solidity": 0.2
             }
            },
            "type": "histogram"
           }
          ],
          "histogram2d": [
           {
            "colorbar": {
             "outlinewidth": 0,
             "ticks": ""
            },
            "colorscale": [
             [
              0,
              "#0d0887"
             ],
             [
              0.1111111111111111,
              "#46039f"
             ],
             [
              0.2222222222222222,
              "#7201a8"
             ],
             [
              0.3333333333333333,
              "#9c179e"
             ],
             [
              0.4444444444444444,
              "#bd3786"
             ],
             [
              0.5555555555555556,
              "#d8576b"
             ],
             [
              0.6666666666666666,
              "#ed7953"
             ],
             [
              0.7777777777777778,
              "#fb9f3a"
             ],
             [
              0.8888888888888888,
              "#fdca26"
             ],
             [
              1,
              "#f0f921"
             ]
            ],
            "type": "histogram2d"
           }
          ],
          "histogram2dcontour": [
           {
            "colorbar": {
             "outlinewidth": 0,
             "ticks": ""
            },
            "colorscale": [
             [
              0,
              "#0d0887"
             ],
             [
              0.1111111111111111,
              "#46039f"
             ],
             [
              0.2222222222222222,
              "#7201a8"
             ],
             [
              0.3333333333333333,
              "#9c179e"
             ],
             [
              0.4444444444444444,
              "#bd3786"
             ],
             [
              0.5555555555555556,
              "#d8576b"
             ],
             [
              0.6666666666666666,
              "#ed7953"
             ],
             [
              0.7777777777777778,
              "#fb9f3a"
             ],
             [
              0.8888888888888888,
              "#fdca26"
             ],
             [
              1,
              "#f0f921"
             ]
            ],
            "type": "histogram2dcontour"
           }
          ],
          "mesh3d": [
           {
            "colorbar": {
             "outlinewidth": 0,
             "ticks": ""
            },
            "type": "mesh3d"
           }
          ],
          "parcoords": [
           {
            "line": {
             "colorbar": {
              "outlinewidth": 0,
              "ticks": ""
             }
            },
            "type": "parcoords"
           }
          ],
          "pie": [
           {
            "automargin": true,
            "type": "pie"
           }
          ],
          "scatter": [
           {
            "fillpattern": {
             "fillmode": "overlay",
             "size": 10,
             "solidity": 0.2
            },
            "type": "scatter"
           }
          ],
          "scatter3d": [
           {
            "line": {
             "colorbar": {
              "outlinewidth": 0,
              "ticks": ""
             }
            },
            "marker": {
             "colorbar": {
              "outlinewidth": 0,
              "ticks": ""
             }
            },
            "type": "scatter3d"
           }
          ],
          "scattercarpet": [
           {
            "marker": {
             "colorbar": {
              "outlinewidth": 0,
              "ticks": ""
             }
            },
            "type": "scattercarpet"
           }
          ],
          "scattergeo": [
           {
            "marker": {
             "colorbar": {
              "outlinewidth": 0,
              "ticks": ""
             }
            },
            "type": "scattergeo"
           }
          ],
          "scattergl": [
           {
            "marker": {
             "colorbar": {
              "outlinewidth": 0,
              "ticks": ""
             }
            },
            "type": "scattergl"
           }
          ],
          "scattermap": [
           {
            "marker": {
             "colorbar": {
              "outlinewidth": 0,
              "ticks": ""
             }
            },
            "type": "scattermap"
           }
          ],
          "scattermapbox": [
           {
            "marker": {
             "colorbar": {
              "outlinewidth": 0,
              "ticks": ""
             }
            },
            "type": "scattermapbox"
           }
          ],
          "scatterpolar": [
           {
            "marker": {
             "colorbar": {
              "outlinewidth": 0,
              "ticks": ""
             }
            },
            "type": "scatterpolar"
           }
          ],
          "scatterpolargl": [
           {
            "marker": {
             "colorbar": {
              "outlinewidth": 0,
              "ticks": ""
             }
            },
            "type": "scatterpolargl"
           }
          ],
          "scatterternary": [
           {
            "marker": {
             "colorbar": {
              "outlinewidth": 0,
              "ticks": ""
             }
            },
            "type": "scatterternary"
           }
          ],
          "surface": [
           {
            "colorbar": {
             "outlinewidth": 0,
             "ticks": ""
            },
            "colorscale": [
             [
              0,
              "#0d0887"
             ],
             [
              0.1111111111111111,
              "#46039f"
             ],
             [
              0.2222222222222222,
              "#7201a8"
             ],
             [
              0.3333333333333333,
              "#9c179e"
             ],
             [
              0.4444444444444444,
              "#bd3786"
             ],
             [
              0.5555555555555556,
              "#d8576b"
             ],
             [
              0.6666666666666666,
              "#ed7953"
             ],
             [
              0.7777777777777778,
              "#fb9f3a"
             ],
             [
              0.8888888888888888,
              "#fdca26"
             ],
             [
              1,
              "#f0f921"
             ]
            ],
            "type": "surface"
           }
          ],
          "table": [
           {
            "cells": {
             "fill": {
              "color": "#EBF0F8"
             },
             "line": {
              "color": "white"
             }
            },
            "header": {
             "fill": {
              "color": "#C8D4E3"
             },
             "line": {
              "color": "white"
             }
            },
            "type": "table"
           }
          ]
         },
         "layout": {
          "annotationdefaults": {
           "arrowcolor": "#2a3f5f",
           "arrowhead": 0,
           "arrowwidth": 1
          },
          "autotypenumbers": "strict",
          "coloraxis": {
           "colorbar": {
            "outlinewidth": 0,
            "ticks": ""
           }
          },
          "colorscale": {
           "diverging": [
            [
             0,
             "#8e0152"
            ],
            [
             0.1,
             "#c51b7d"
            ],
            [
             0.2,
             "#de77ae"
            ],
            [
             0.3,
             "#f1b6da"
            ],
            [
             0.4,
             "#fde0ef"
            ],
            [
             0.5,
             "#f7f7f7"
            ],
            [
             0.6,
             "#e6f5d0"
            ],
            [
             0.7,
             "#b8e186"
            ],
            [
             0.8,
             "#7fbc41"
            ],
            [
             0.9,
             "#4d9221"
            ],
            [
             1,
             "#276419"
            ]
           ],
           "sequential": [
            [
             0,
             "#0d0887"
            ],
            [
             0.1111111111111111,
             "#46039f"
            ],
            [
             0.2222222222222222,
             "#7201a8"
            ],
            [
             0.3333333333333333,
             "#9c179e"
            ],
            [
             0.4444444444444444,
             "#bd3786"
            ],
            [
             0.5555555555555556,
             "#d8576b"
            ],
            [
             0.6666666666666666,
             "#ed7953"
            ],
            [
             0.7777777777777778,
             "#fb9f3a"
            ],
            [
             0.8888888888888888,
             "#fdca26"
            ],
            [
             1,
             "#f0f921"
            ]
           ],
           "sequentialminus": [
            [
             0,
             "#0d0887"
            ],
            [
             0.1111111111111111,
             "#46039f"
            ],
            [
             0.2222222222222222,
             "#7201a8"
            ],
            [
             0.3333333333333333,
             "#9c179e"
            ],
            [
             0.4444444444444444,
             "#bd3786"
            ],
            [
             0.5555555555555556,
             "#d8576b"
            ],
            [
             0.6666666666666666,
             "#ed7953"
            ],
            [
             0.7777777777777778,
             "#fb9f3a"
            ],
            [
             0.8888888888888888,
             "#fdca26"
            ],
            [
             1,
             "#f0f921"
            ]
           ]
          },
          "colorway": [
           "#636efa",
           "#EF553B",
           "#00cc96",
           "#ab63fa",
           "#FFA15A",
           "#19d3f3",
           "#FF6692",
           "#B6E880",
           "#FF97FF",
           "#FECB52"
          ],
          "font": {
           "color": "#2a3f5f"
          },
          "geo": {
           "bgcolor": "white",
           "lakecolor": "white",
           "landcolor": "#E5ECF6",
           "showlakes": true,
           "showland": true,
           "subunitcolor": "white"
          },
          "hoverlabel": {
           "align": "left"
          },
          "hovermode": "closest",
          "mapbox": {
           "style": "light"
          },
          "paper_bgcolor": "white",
          "plot_bgcolor": "#E5ECF6",
          "polar": {
           "angularaxis": {
            "gridcolor": "white",
            "linecolor": "white",
            "ticks": ""
           },
           "bgcolor": "#E5ECF6",
           "radialaxis": {
            "gridcolor": "white",
            "linecolor": "white",
            "ticks": ""
           }
          },
          "scene": {
           "xaxis": {
            "backgroundcolor": "#E5ECF6",
            "gridcolor": "white",
            "gridwidth": 2,
            "linecolor": "white",
            "showbackground": true,
            "ticks": "",
            "zerolinecolor": "white"
           },
           "yaxis": {
            "backgroundcolor": "#E5ECF6",
            "gridcolor": "white",
            "gridwidth": 2,
            "linecolor": "white",
            "showbackground": true,
            "ticks": "",
            "zerolinecolor": "white"
           },
           "zaxis": {
            "backgroundcolor": "#E5ECF6",
            "gridcolor": "white",
            "gridwidth": 2,
            "linecolor": "white",
            "showbackground": true,
            "ticks": "",
            "zerolinecolor": "white"
           }
          },
          "shapedefaults": {
           "line": {
            "color": "#2a3f5f"
           }
          },
          "ternary": {
           "aaxis": {
            "gridcolor": "white",
            "linecolor": "white",
            "ticks": ""
           },
           "baxis": {
            "gridcolor": "white",
            "linecolor": "white",
            "ticks": ""
           },
           "bgcolor": "#E5ECF6",
           "caxis": {
            "gridcolor": "white",
            "linecolor": "white",
            "ticks": ""
           }
          },
          "title": {
           "x": 0.05
          },
          "xaxis": {
           "automargin": true,
           "gridcolor": "white",
           "linecolor": "white",
           "ticks": "",
           "title": {
            "standoff": 15
           },
           "zerolinecolor": "white",
           "zerolinewidth": 2
          },
          "yaxis": {
           "automargin": true,
           "gridcolor": "white",
           "linecolor": "white",
           "ticks": "",
           "title": {
            "standoff": 15
           },
           "zerolinecolor": "white",
           "zerolinewidth": 2
          }
         }
        },
        "title": {
         "text": "Number of entries on latitude"
        },
        "xaxis": {
         "anchor": "y",
         "domain": [
          0,
          1
         ],
         "title": {
          "text": "Latitude"
         }
        },
        "xaxis2": {
         "anchor": "y2",
         "domain": [
          0,
          1
         ],
         "matches": "x",
         "showgrid": true,
         "showticklabels": false
        },
        "yaxis": {
         "anchor": "x",
         "domain": [
          0,
          0.8316
         ],
         "title": {
          "text": "count"
         }
        },
        "yaxis2": {
         "anchor": "x2",
         "domain": [
          0.8416,
          1
         ],
         "matches": "y2",
         "showgrid": false,
         "showline": false,
         "showticklabels": false,
         "ticks": ""
        }
       }
      }
     },
     "metadata": {},
     "output_type": "display_data"
    }
   ],
   "source": [
    "px.histogram(\n",
    "    index,\n",
    "    x=\"lat\",\n",
    "    title=\"Number of entries on latitude\",\n",
    "    labels=dict(\n",
    "        lat=\"Latitude\",\n",
    "        count=\"Number of entries\",\n",
    "    ),\n",
    "    marginal=\"box\",\n",
    ")\n"
   ]
  },
  {
   "cell_type": "code",
   "execution_count": 35,
   "metadata": {},
   "outputs": [
    {
     "data": {
      "application/vnd.plotly.v1+json": {
       "config": {
        "plotlyServerURL": "https://plot.ly"
       },
       "data": [
        {
         "bingroup": "x",
         "hovertemplate": "Longitude=%{x}<br>count=%{y}<extra></extra>",
         "legendgroup": "",
         "marker": {
          "color": "#636efa",
          "pattern": {
           "shape": ""
          }
         },
         "name": "",
         "orientation": "v",
         "showlegend": false,
         "type": "histogram",
         "x": {
          "bdata": "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",
          "dtype": "f8"
         },
         "xaxis": "x",
         "yaxis": "y"
        },
        {
         "hovertemplate": "Longitude=%{x}<extra></extra>",
         "legendgroup": "",
         "marker": {
          "color": "#636efa"
         },
         "name": "",
         "notched": true,
         "showlegend": false,
         "type": "box",
         "x": {
          "bdata": "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",
          "dtype": "f8"
         },
         "xaxis": "x2",
         "yaxis": "y2"
        }
       ],
       "layout": {
        "barmode": "relative",
        "legend": {
         "tracegroupgap": 0
        },
        "template": {
         "data": {
          "bar": [
           {
            "error_x": {
             "color": "#2a3f5f"
            },
            "error_y": {
             "color": "#2a3f5f"
            },
            "marker": {
             "line": {
              "color": "#E5ECF6",
              "width": 0.5
             },
             "pattern": {
              "fillmode": "overlay",
              "size": 10,
              "solidity": 0.2
             }
            },
            "type": "bar"
           }
          ],
          "barpolar": [
           {
            "marker": {
             "line": {
              "color": "#E5ECF6",
              "width": 0.5
             },
             "pattern": {
              "fillmode": "overlay",
              "size": 10,
              "solidity": 0.2
             }
            },
            "type": "barpolar"
           }
          ],
          "carpet": [
           {
            "aaxis": {
             "endlinecolor": "#2a3f5f",
             "gridcolor": "white",
             "linecolor": "white",
             "minorgridcolor": "white",
             "startlinecolor": "#2a3f5f"
            },
            "baxis": {
             "endlinecolor": "#2a3f5f",
             "gridcolor": "white",
             "linecolor": "white",
             "minorgridcolor": "white",
             "startlinecolor": "#2a3f5f"
            },
            "type": "carpet"
           }
          ],
          "choropleth": [
           {
            "colorbar": {
             "outlinewidth": 0,
             "ticks": ""
            },
            "type": "choropleth"
           }
          ],
          "contour": [
           {
            "colorbar": {
             "outlinewidth": 0,
             "ticks": ""
            },
            "colorscale": [
             [
              0,
              "#0d0887"
             ],
             [
              0.1111111111111111,
              "#46039f"
             ],
             [
              0.2222222222222222,
              "#7201a8"
             ],
             [
              0.3333333333333333,
              "#9c179e"
             ],
             [
              0.4444444444444444,
              "#bd3786"
             ],
             [
              0.5555555555555556,
              "#d8576b"
             ],
             [
              0.6666666666666666,
              "#ed7953"
             ],
             [
              0.7777777777777778,
              "#fb9f3a"
             ],
             [
              0.8888888888888888,
              "#fdca26"
             ],
             [
              1,
              "#f0f921"
             ]
            ],
            "type": "contour"
           }
          ],
          "contourcarpet": [
           {
            "colorbar": {
             "outlinewidth": 0,
             "ticks": ""
            },
            "type": "contourcarpet"
           }
          ],
          "heatmap": [
           {
            "colorbar": {
             "outlinewidth": 0,
             "ticks": ""
            },
            "colorscale": [
             [
              0,
              "#0d0887"
             ],
             [
              0.1111111111111111,
              "#46039f"
             ],
             [
              0.2222222222222222,
              "#7201a8"
             ],
             [
              0.3333333333333333,
              "#9c179e"
             ],
             [
              0.4444444444444444,
              "#bd3786"
             ],
             [
              0.5555555555555556,
              "#d8576b"
             ],
             [
              0.6666666666666666,
              "#ed7953"
             ],
             [
              0.7777777777777778,
              "#fb9f3a"
             ],
             [
              0.8888888888888888,
              "#fdca26"
             ],
             [
              1,
              "#f0f921"
             ]
            ],
            "type": "heatmap"
           }
          ],
          "histogram": [
           {
            "marker": {
             "pattern": {
              "fillmode": "overlay",
              "size": 10,
              "solidity": 0.2
             }
            },
            "type": "histogram"
           }
          ],
          "histogram2d": [
           {
            "colorbar": {
             "outlinewidth": 0,
             "ticks": ""
            },
            "colorscale": [
             [
              0,
              "#0d0887"
             ],
             [
              0.1111111111111111,
              "#46039f"
             ],
             [
              0.2222222222222222,
              "#7201a8"
             ],
             [
              0.3333333333333333,
              "#9c179e"
             ],
             [
              0.4444444444444444,
              "#bd3786"
             ],
             [
              0.5555555555555556,
              "#d8576b"
             ],
             [
              0.6666666666666666,
              "#ed7953"
             ],
             [
              0.7777777777777778,
              "#fb9f3a"
             ],
             [
              0.8888888888888888,
              "#fdca26"
             ],
             [
              1,
              "#f0f921"
             ]
            ],
            "type": "histogram2d"
           }
          ],
          "histogram2dcontour": [
           {
            "colorbar": {
             "outlinewidth": 0,
             "ticks": ""
            },
            "colorscale": [
             [
              0,
              "#0d0887"
             ],
             [
              0.1111111111111111,
              "#46039f"
             ],
             [
              0.2222222222222222,
              "#7201a8"
             ],
             [
              0.3333333333333333,
              "#9c179e"
             ],
             [
              0.4444444444444444,
              "#bd3786"
             ],
             [
              0.5555555555555556,
              "#d8576b"
             ],
             [
              0.6666666666666666,
              "#ed7953"
             ],
             [
              0.7777777777777778,
              "#fb9f3a"
             ],
             [
              0.8888888888888888,
              "#fdca26"
             ],
             [
              1,
              "#f0f921"
             ]
            ],
            "type": "histogram2dcontour"
           }
          ],
          "mesh3d": [
           {
            "colorbar": {
             "outlinewidth": 0,
             "ticks": ""
            },
            "type": "mesh3d"
           }
          ],
          "parcoords": [
           {
            "line": {
             "colorbar": {
              "outlinewidth": 0,
              "ticks": ""
             }
            },
            "type": "parcoords"
           }
          ],
          "pie": [
           {
            "automargin": true,
            "type": "pie"
           }
          ],
          "scatter": [
           {
            "fillpattern": {
             "fillmode": "overlay",
             "size": 10,
             "solidity": 0.2
            },
            "type": "scatter"
           }
          ],
          "scatter3d": [
           {
            "line": {
             "colorbar": {
              "outlinewidth": 0,
              "ticks": ""
             }
            },
            "marker": {
             "colorbar": {
              "outlinewidth": 0,
              "ticks": ""
             }
            },
            "type": "scatter3d"
           }
          ],
          "scattercarpet": [
           {
            "marker": {
             "colorbar": {
              "outlinewidth": 0,
              "ticks": ""
             }
            },
            "type": "scattercarpet"
           }
          ],
          "scattergeo": [
           {
            "marker": {
             "colorbar": {
              "outlinewidth": 0,
              "ticks": ""
             }
            },
            "type": "scattergeo"
           }
          ],
          "scattergl": [
           {
            "marker": {
             "colorbar": {
              "outlinewidth": 0,
              "ticks": ""
             }
            },
            "type": "scattergl"
           }
          ],
          "scattermap": [
           {
            "marker": {
             "colorbar": {
              "outlinewidth": 0,
              "ticks": ""
             }
            },
            "type": "scattermap"
           }
          ],
          "scattermapbox": [
           {
            "marker": {
             "colorbar": {
              "outlinewidth": 0,
              "ticks": ""
             }
            },
            "type": "scattermapbox"
           }
          ],
          "scatterpolar": [
           {
            "marker": {
             "colorbar": {
              "outlinewidth": 0,
              "ticks": ""
             }
            },
            "type": "scatterpolar"
           }
          ],
          "scatterpolargl": [
           {
            "marker": {
             "colorbar": {
              "outlinewidth": 0,
              "ticks": ""
             }
            },
            "type": "scatterpolargl"
           }
          ],
          "scatterternary": [
           {
            "marker": {
             "colorbar": {
              "outlinewidth": 0,
              "ticks": ""
             }
            },
            "type": "scatterternary"
           }
          ],
          "surface": [
           {
            "colorbar": {
             "outlinewidth": 0,
             "ticks": ""
            },
            "colorscale": [
             [
              0,
              "#0d0887"
             ],
             [
              0.1111111111111111,
              "#46039f"
             ],
             [
              0.2222222222222222,
              "#7201a8"
             ],
             [
              0.3333333333333333,
              "#9c179e"
             ],
             [
              0.4444444444444444,
              "#bd3786"
             ],
             [
              0.5555555555555556,
              "#d8576b"
             ],
             [
              0.6666666666666666,
              "#ed7953"
             ],
             [
              0.7777777777777778,
              "#fb9f3a"
             ],
             [
              0.8888888888888888,
              "#fdca26"
             ],
             [
              1,
              "#f0f921"
             ]
            ],
            "type": "surface"
           }
          ],
          "table": [
           {
            "cells": {
             "fill": {
              "color": "#EBF0F8"
             },
             "line": {
              "color": "white"
             }
            },
            "header": {
             "fill": {
              "color": "#C8D4E3"
             },
             "line": {
              "color": "white"
             }
            },
            "type": "table"
           }
          ]
         },
         "layout": {
          "annotationdefaults": {
           "arrowcolor": "#2a3f5f",
           "arrowhead": 0,
           "arrowwidth": 1
          },
          "autotypenumbers": "strict",
          "coloraxis": {
           "colorbar": {
            "outlinewidth": 0,
            "ticks": ""
           }
          },
          "colorscale": {
           "diverging": [
            [
             0,
             "#8e0152"
            ],
            [
             0.1,
             "#c51b7d"
            ],
            [
             0.2,
             "#de77ae"
            ],
            [
             0.3,
             "#f1b6da"
            ],
            [
             0.4,
             "#fde0ef"
            ],
            [
             0.5,
             "#f7f7f7"
            ],
            [
             0.6,
             "#e6f5d0"
            ],
            [
             0.7,
             "#b8e186"
            ],
            [
             0.8,
             "#7fbc41"
            ],
            [
             0.9,
             "#4d9221"
            ],
            [
             1,
             "#276419"
            ]
           ],
           "sequential": [
            [
             0,
             "#0d0887"
            ],
            [
             0.1111111111111111,
             "#46039f"
            ],
            [
             0.2222222222222222,
             "#7201a8"
            ],
            [
             0.3333333333333333,
             "#9c179e"
            ],
            [
             0.4444444444444444,
             "#bd3786"
            ],
            [
             0.5555555555555556,
             "#d8576b"
            ],
            [
             0.6666666666666666,
             "#ed7953"
            ],
            [
             0.7777777777777778,
             "#fb9f3a"
            ],
            [
             0.8888888888888888,
             "#fdca26"
            ],
            [
             1,
             "#f0f921"
            ]
           ],
           "sequentialminus": [
            [
             0,
             "#0d0887"
            ],
            [
             0.1111111111111111,
             "#46039f"
            ],
            [
             0.2222222222222222,
             "#7201a8"
            ],
            [
             0.3333333333333333,
             "#9c179e"
            ],
            [
             0.4444444444444444,
             "#bd3786"
            ],
            [
             0.5555555555555556,
             "#d8576b"
            ],
            [
             0.6666666666666666,
             "#ed7953"
            ],
            [
             0.7777777777777778,
             "#fb9f3a"
            ],
            [
             0.8888888888888888,
             "#fdca26"
            ],
            [
             1,
             "#f0f921"
            ]
           ]
          },
          "colorway": [
           "#636efa",
           "#EF553B",
           "#00cc96",
           "#ab63fa",
           "#FFA15A",
           "#19d3f3",
           "#FF6692",
           "#B6E880",
           "#FF97FF",
           "#FECB52"
          ],
          "font": {
           "color": "#2a3f5f"
          },
          "geo": {
           "bgcolor": "white",
           "lakecolor": "white",
           "landcolor": "#E5ECF6",
           "showlakes": true,
           "showland": true,
           "subunitcolor": "white"
          },
          "hoverlabel": {
           "align": "left"
          },
          "hovermode": "closest",
          "mapbox": {
           "style": "light"
          },
          "paper_bgcolor": "white",
          "plot_bgcolor": "#E5ECF6",
          "polar": {
           "angularaxis": {
            "gridcolor": "white",
            "linecolor": "white",
            "ticks": ""
           },
           "bgcolor": "#E5ECF6",
           "radialaxis": {
            "gridcolor": "white",
            "linecolor": "white",
            "ticks": ""
           }
          },
          "scene": {
           "xaxis": {
            "backgroundcolor": "#E5ECF6",
            "gridcolor": "white",
            "gridwidth": 2,
            "linecolor": "white",
            "showbackground": true,
            "ticks": "",
            "zerolinecolor": "white"
           },
           "yaxis": {
            "backgroundcolor": "#E5ECF6",
            "gridcolor": "white",
            "gridwidth": 2,
            "linecolor": "white",
            "showbackground": true,
            "ticks": "",
            "zerolinecolor": "white"
           },
           "zaxis": {
            "backgroundcolor": "#E5ECF6",
            "gridcolor": "white",
            "gridwidth": 2,
            "linecolor": "white",
            "showbackground": true,
            "ticks": "",
            "zerolinecolor": "white"
           }
          },
          "shapedefaults": {
           "line": {
            "color": "#2a3f5f"
           }
          },
          "ternary": {
           "aaxis": {
            "gridcolor": "white",
            "linecolor": "white",
            "ticks": ""
           },
           "baxis": {
            "gridcolor": "white",
            "linecolor": "white",
            "ticks": ""
           },
           "bgcolor": "#E5ECF6",
           "caxis": {
            "gridcolor": "white",
            "linecolor": "white",
            "ticks": ""
           }
          },
          "title": {
           "x": 0.05
          },
          "xaxis": {
           "automargin": true,
           "gridcolor": "white",
           "linecolor": "white",
           "ticks": "",
           "title": {
            "standoff": 15
           },
           "zerolinecolor": "white",
           "zerolinewidth": 2
          },
          "yaxis": {
           "automargin": true,
           "gridcolor": "white",
           "linecolor": "white",
           "ticks": "",
           "title": {
            "standoff": 15
           },
           "zerolinecolor": "white",
           "zerolinewidth": 2
          }
         }
        },
        "title": {
         "text": "Number of entries on longitude"
        },
        "xaxis": {
         "anchor": "y",
         "domain": [
          0,
          1
         ],
         "title": {
          "text": "Longitude"
         }
        },
        "xaxis2": {
         "anchor": "y2",
         "domain": [
          0,
          1
         ],
         "matches": "x",
         "showgrid": true,
         "showticklabels": false
        },
        "yaxis": {
         "anchor": "x",
         "domain": [
          0,
          0.8316
         ],
         "title": {
          "text": "count"
         }
        },
        "yaxis2": {
         "anchor": "x2",
         "domain": [
          0.8416,
          1
         ],
         "matches": "y2",
         "showgrid": false,
         "showline": false,
         "showticklabels": false,
         "ticks": ""
        }
       }
      }
     },
     "metadata": {},
     "output_type": "display_data"
    }
   ],
   "source": [
    "px.histogram(\n",
    "    index,\n",
    "    x=\"lon\",\n",
    "    title=\"Number of entries on longitude\",\n",
    "    labels=dict(\n",
    "        lon=\"Longitude\",\n",
    "        count=\"Number of entries\",\n",
    "    ),\n",
    "    marginal=\"box\",\n",
    ")\n"
   ]
  },
  {
   "cell_type": "markdown",
   "metadata": {},
   "source": [
    "### Depth\n"
   ]
  },
  {
   "cell_type": "code",
   "execution_count": 36,
   "metadata": {},
   "outputs": [
    {
     "data": {
      "application/vnd.plotly.v1+json": {
       "config": {
        "plotlyServerURL": "https://plot.ly"
       },
       "data": [
        {
         "bingroup": "x",
         "hovertemplate": "Depth=%{x}<br>count=%{y}<extra></extra>",
         "legendgroup": "",
         "marker": {
          "color": "#636efa",
          "pattern": {
           "shape": ""
          }
         },
         "name": "",
         "orientation": "v",
         "showlegend": false,
         "type": "histogram",
         "x": {
          "bdata": "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",
          "dtype": "f8"
         },
         "xaxis": "x",
         "yaxis": "y"
        },
        {
         "hovertemplate": "Depth=%{x}<extra></extra>",
         "legendgroup": "",
         "marker": {
          "color": "#636efa"
         },
         "name": "",
         "scalegroup": "x",
         "showlegend": false,
         "type": "violin",
         "x": {
          "bdata": "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",
          "dtype": "f8"
         },
         "xaxis": "x2",
         "yaxis": "y2"
        }
       ],
       "layout": {
        "barmode": "relative",
        "legend": {
         "tracegroupgap": 0
        },
        "template": {
         "data": {
          "bar": [
           {
            "error_x": {
             "color": "#2a3f5f"
            },
            "error_y": {
             "color": "#2a3f5f"
            },
            "marker": {
             "line": {
              "color": "#E5ECF6",
              "width": 0.5
             },
             "pattern": {
              "fillmode": "overlay",
              "size": 10,
              "solidity": 0.2
             }
            },
            "type": "bar"
           }
          ],
          "barpolar": [
           {
            "marker": {
             "line": {
              "color": "#E5ECF6",
              "width": 0.5
             },
             "pattern": {
              "fillmode": "overlay",
              "size": 10,
              "solidity": 0.2
             }
            },
            "type": "barpolar"
           }
          ],
          "carpet": [
           {
            "aaxis": {
             "endlinecolor": "#2a3f5f",
             "gridcolor": "white",
             "linecolor": "white",
             "minorgridcolor": "white",
             "startlinecolor": "#2a3f5f"
            },
            "baxis": {
             "endlinecolor": "#2a3f5f",
             "gridcolor": "white",
             "linecolor": "white",
             "minorgridcolor": "white",
             "startlinecolor": "#2a3f5f"
            },
            "type": "carpet"
           }
          ],
          "choropleth": [
           {
            "colorbar": {
             "outlinewidth": 0,
             "ticks": ""
            },
            "type": "choropleth"
           }
          ],
          "contour": [
           {
            "colorbar": {
             "outlinewidth": 0,
             "ticks": ""
            },
            "colorscale": [
             [
              0,
              "#0d0887"
             ],
             [
              0.1111111111111111,
              "#46039f"
             ],
             [
              0.2222222222222222,
              "#7201a8"
             ],
             [
              0.3333333333333333,
              "#9c179e"
             ],
             [
              0.4444444444444444,
              "#bd3786"
             ],
             [
              0.5555555555555556,
              "#d8576b"
             ],
             [
              0.6666666666666666,
              "#ed7953"
             ],
             [
              0.7777777777777778,
              "#fb9f3a"
             ],
             [
              0.8888888888888888,
              "#fdca26"
             ],
             [
              1,
              "#f0f921"
             ]
            ],
            "type": "contour"
           }
          ],
          "contourcarpet": [
           {
            "colorbar": {
             "outlinewidth": 0,
             "ticks": ""
            },
            "type": "contourcarpet"
           }
          ],
          "heatmap": [
           {
            "colorbar": {
             "outlinewidth": 0,
             "ticks": ""
            },
            "colorscale": [
             [
              0,
              "#0d0887"
             ],
             [
              0.1111111111111111,
              "#46039f"
             ],
             [
              0.2222222222222222,
              "#7201a8"
             ],
             [
              0.3333333333333333,
              "#9c179e"
             ],
             [
              0.4444444444444444,
              "#bd3786"
             ],
             [
              0.5555555555555556,
              "#d8576b"
             ],
             [
              0.6666666666666666,
              "#ed7953"
             ],
             [
              0.7777777777777778,
              "#fb9f3a"
             ],
             [
              0.8888888888888888,
              "#fdca26"
             ],
             [
              1,
              "#f0f921"
             ]
            ],
            "type": "heatmap"
           }
          ],
          "histogram": [
           {
            "marker": {
             "pattern": {
              "fillmode": "overlay",
              "size": 10,
              "solidity": 0.2
             }
            },
            "type": "histogram"
           }
          ],
          "histogram2d": [
           {
            "colorbar": {
             "outlinewidth": 0,
             "ticks": ""
            },
            "colorscale": [
             [
              0,
              "#0d0887"
             ],
             [
              0.1111111111111111,
              "#46039f"
             ],
             [
              0.2222222222222222,
              "#7201a8"
             ],
             [
              0.3333333333333333,
              "#9c179e"
             ],
             [
              0.4444444444444444,
              "#bd3786"
             ],
             [
              0.5555555555555556,
              "#d8576b"
             ],
             [
              0.6666666666666666,
              "#ed7953"
             ],
             [
              0.7777777777777778,
              "#fb9f3a"
             ],
             [
              0.8888888888888888,
              "#fdca26"
             ],
             [
              1,
              "#f0f921"
             ]
            ],
            "type": "histogram2d"
           }
          ],
          "histogram2dcontour": [
           {
            "colorbar": {
             "outlinewidth": 0,
             "ticks": ""
            },
            "colorscale": [
             [
              0,
              "#0d0887"
             ],
             [
              0.1111111111111111,
              "#46039f"
             ],
             [
              0.2222222222222222,
              "#7201a8"
             ],
             [
              0.3333333333333333,
              "#9c179e"
             ],
             [
              0.4444444444444444,
              "#bd3786"
             ],
             [
              0.5555555555555556,
              "#d8576b"
             ],
             [
              0.6666666666666666,
              "#ed7953"
             ],
             [
              0.7777777777777778,
              "#fb9f3a"
             ],
             [
              0.8888888888888888,
              "#fdca26"
             ],
             [
              1,
              "#f0f921"
             ]
            ],
            "type": "histogram2dcontour"
           }
          ],
          "mesh3d": [
           {
            "colorbar": {
             "outlinewidth": 0,
             "ticks": ""
            },
            "type": "mesh3d"
           }
          ],
          "parcoords": [
           {
            "line": {
             "colorbar": {
              "outlinewidth": 0,
              "ticks": ""
             }
            },
            "type": "parcoords"
           }
          ],
          "pie": [
           {
            "automargin": true,
            "type": "pie"
           }
          ],
          "scatter": [
           {
            "fillpattern": {
             "fillmode": "overlay",
             "size": 10,
             "solidity": 0.2
            },
            "type": "scatter"
           }
          ],
          "scatter3d": [
           {
            "line": {
             "colorbar": {
              "outlinewidth": 0,
              "ticks": ""
             }
            },
            "marker": {
             "colorbar": {
              "outlinewidth": 0,
              "ticks": ""
             }
            },
            "type": "scatter3d"
           }
          ],
          "scattercarpet": [
           {
            "marker": {
             "colorbar": {
              "outlinewidth": 0,
              "ticks": ""
             }
            },
            "type": "scattercarpet"
           }
          ],
          "scattergeo": [
           {
            "marker": {
             "colorbar": {
              "outlinewidth": 0,
              "ticks": ""
             }
            },
            "type": "scattergeo"
           }
          ],
          "scattergl": [
           {
            "marker": {
             "colorbar": {
              "outlinewidth": 0,
              "ticks": ""
             }
            },
            "type": "scattergl"
           }
          ],
          "scattermap": [
           {
            "marker": {
             "colorbar": {
              "outlinewidth": 0,
              "ticks": ""
             }
            },
            "type": "scattermap"
           }
          ],
          "scattermapbox": [
           {
            "marker": {
             "colorbar": {
              "outlinewidth": 0,
              "ticks": ""
             }
            },
            "type": "scattermapbox"
           }
          ],
          "scatterpolar": [
           {
            "marker": {
             "colorbar": {
              "outlinewidth": 0,
              "ticks": ""
             }
            },
            "type": "scatterpolar"
           }
          ],
          "scatterpolargl": [
           {
            "marker": {
             "colorbar": {
              "outlinewidth": 0,
              "ticks": ""
             }
            },
            "type": "scatterpolargl"
           }
          ],
          "scatterternary": [
           {
            "marker": {
             "colorbar": {
              "outlinewidth": 0,
              "ticks": ""
             }
            },
            "type": "scatterternary"
           }
          ],
          "surface": [
           {
            "colorbar": {
             "outlinewidth": 0,
             "ticks": ""
            },
            "colorscale": [
             [
              0,
              "#0d0887"
             ],
             [
              0.1111111111111111,
              "#46039f"
             ],
             [
              0.2222222222222222,
              "#7201a8"
             ],
             [
              0.3333333333333333,
              "#9c179e"
             ],
             [
              0.4444444444444444,
              "#bd3786"
             ],
             [
              0.5555555555555556,
              "#d8576b"
             ],
             [
              0.6666666666666666,
              "#ed7953"
             ],
             [
              0.7777777777777778,
              "#fb9f3a"
             ],
             [
              0.8888888888888888,
              "#fdca26"
             ],
             [
              1,
              "#f0f921"
             ]
            ],
            "type": "surface"
           }
          ],
          "table": [
           {
            "cells": {
             "fill": {
              "color": "#EBF0F8"
             },
             "line": {
              "color": "white"
             }
            },
            "header": {
             "fill": {
              "color": "#C8D4E3"
             },
             "line": {
              "color": "white"
             }
            },
            "type": "table"
           }
          ]
         },
         "layout": {
          "annotationdefaults": {
           "arrowcolor": "#2a3f5f",
           "arrowhead": 0,
           "arrowwidth": 1
          },
          "autotypenumbers": "strict",
          "coloraxis": {
           "colorbar": {
            "outlinewidth": 0,
            "ticks": ""
           }
          },
          "colorscale": {
           "diverging": [
            [
             0,
             "#8e0152"
            ],
            [
             0.1,
             "#c51b7d"
            ],
            [
             0.2,
             "#de77ae"
            ],
            [
             0.3,
             "#f1b6da"
            ],
            [
             0.4,
             "#fde0ef"
            ],
            [
             0.5,
             "#f7f7f7"
            ],
            [
             0.6,
             "#e6f5d0"
            ],
            [
             0.7,
             "#b8e186"
            ],
            [
             0.8,
             "#7fbc41"
            ],
            [
             0.9,
             "#4d9221"
            ],
            [
             1,
             "#276419"
            ]
           ],
           "sequential": [
            [
             0,
             "#0d0887"
            ],
            [
             0.1111111111111111,
             "#46039f"
            ],
            [
             0.2222222222222222,
             "#7201a8"
            ],
            [
             0.3333333333333333,
             "#9c179e"
            ],
            [
             0.4444444444444444,
             "#bd3786"
            ],
            [
             0.5555555555555556,
             "#d8576b"
            ],
            [
             0.6666666666666666,
             "#ed7953"
            ],
            [
             0.7777777777777778,
             "#fb9f3a"
            ],
            [
             0.8888888888888888,
             "#fdca26"
            ],
            [
             1,
             "#f0f921"
            ]
           ],
           "sequentialminus": [
            [
             0,
             "#0d0887"
            ],
            [
             0.1111111111111111,
             "#46039f"
            ],
            [
             0.2222222222222222,
             "#7201a8"
            ],
            [
             0.3333333333333333,
             "#9c179e"
            ],
            [
             0.4444444444444444,
             "#bd3786"
            ],
            [
             0.5555555555555556,
             "#d8576b"
            ],
            [
             0.6666666666666666,
             "#ed7953"
            ],
            [
             0.7777777777777778,
             "#fb9f3a"
            ],
            [
             0.8888888888888888,
             "#fdca26"
            ],
            [
             1,
             "#f0f921"
            ]
           ]
          },
          "colorway": [
           "#636efa",
           "#EF553B",
           "#00cc96",
           "#ab63fa",
           "#FFA15A",
           "#19d3f3",
           "#FF6692",
           "#B6E880",
           "#FF97FF",
           "#FECB52"
          ],
          "font": {
           "color": "#2a3f5f"
          },
          "geo": {
           "bgcolor": "white",
           "lakecolor": "white",
           "landcolor": "#E5ECF6",
           "showlakes": true,
           "showland": true,
           "subunitcolor": "white"
          },
          "hoverlabel": {
           "align": "left"
          },
          "hovermode": "closest",
          "mapbox": {
           "style": "light"
          },
          "paper_bgcolor": "white",
          "plot_bgcolor": "#E5ECF6",
          "polar": {
           "angularaxis": {
            "gridcolor": "white",
            "linecolor": "white",
            "ticks": ""
           },
           "bgcolor": "#E5ECF6",
           "radialaxis": {
            "gridcolor": "white",
            "linecolor": "white",
            "ticks": ""
           }
          },
          "scene": {
           "xaxis": {
            "backgroundcolor": "#E5ECF6",
            "gridcolor": "white",
            "gridwidth": 2,
            "linecolor": "white",
            "showbackground": true,
            "ticks": "",
            "zerolinecolor": "white"
           },
           "yaxis": {
            "backgroundcolor": "#E5ECF6",
            "gridcolor": "white",
            "gridwidth": 2,
            "linecolor": "white",
            "showbackground": true,
            "ticks": "",
            "zerolinecolor": "white"
           },
           "zaxis": {
            "backgroundcolor": "#E5ECF6",
            "gridcolor": "white",
            "gridwidth": 2,
            "linecolor": "white",
            "showbackground": true,
            "ticks": "",
            "zerolinecolor": "white"
           }
          },
          "shapedefaults": {
           "line": {
            "color": "#2a3f5f"
           }
          },
          "ternary": {
           "aaxis": {
            "gridcolor": "white",
            "linecolor": "white",
            "ticks": ""
           },
           "baxis": {
            "gridcolor": "white",
            "linecolor": "white",
            "ticks": ""
           },
           "bgcolor": "#E5ECF6",
           "caxis": {
            "gridcolor": "white",
            "linecolor": "white",
            "ticks": ""
           }
          },
          "title": {
           "x": 0.05
          },
          "xaxis": {
           "automargin": true,
           "gridcolor": "white",
           "linecolor": "white",
           "ticks": "",
           "title": {
            "standoff": 15
           },
           "zerolinecolor": "white",
           "zerolinewidth": 2
          },
          "yaxis": {
           "automargin": true,
           "gridcolor": "white",
           "linecolor": "white",
           "ticks": "",
           "title": {
            "standoff": 15
           },
           "zerolinecolor": "white",
           "zerolinewidth": 2
          }
         }
        },
        "title": {
         "text": "Number of entries on depth"
        },
        "xaxis": {
         "anchor": "y",
         "domain": [
          0,
          1
         ],
         "title": {
          "text": "Depth"
         }
        },
        "xaxis2": {
         "anchor": "y2",
         "domain": [
          0,
          1
         ],
         "matches": "x",
         "showgrid": true,
         "showticklabels": false
        },
        "yaxis": {
         "anchor": "x",
         "domain": [
          0,
          0.8316
         ],
         "title": {
          "text": "count"
         }
        },
        "yaxis2": {
         "anchor": "x2",
         "domain": [
          0.8416,
          1
         ],
         "matches": "y2",
         "showgrid": false,
         "showline": false,
         "showticklabels": false,
         "ticks": ""
        }
       }
      }
     },
     "metadata": {},
     "output_type": "display_data"
    }
   ],
   "source": [
    "px.histogram(\n",
    "    index,\n",
    "    x=\"DEPTH_STRT\",\n",
    "    title=\"Number of entries on depth\",\n",
    "    labels=dict(\n",
    "        DEPTH_STRT=\"Depth\",\n",
    "        count=\"Number of entries\",\n",
    "    ),\n",
    "    marginal=\"violin\",\n",
    ")\n"
   ]
  },
  {
   "cell_type": "markdown",
   "metadata": {},
   "source": [
    "### Volume filtered\n"
   ]
  },
  {
   "cell_type": "code",
   "execution_count": 37,
   "metadata": {},
   "outputs": [
    {
     "data": {
      "application/vnd.plotly.v1+json": {
       "config": {
        "plotlyServerURL": "https://plot.ly"
       },
       "data": [
        {
         "bingroup": "x",
         "hovertemplate": "Volume filtered (m3)=%{x}<br>count=%{y}<extra></extra>",
         "legendgroup": "",
         "marker": {
          "color": "#636efa",
          "pattern": {
           "shape": ""
          }
         },
         "name": "",
         "orientation": "v",
         "showlegend": false,
         "type": "histogram",
         "x": {
          "bdata": "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",
          "dtype": "f8"
         },
         "xaxis": "x",
         "yaxis": "y"
        },
        {
         "hovertemplate": "Volume filtered (m3)=%{x}<extra></extra>",
         "legendgroup": "",
         "marker": {
          "color": "#636efa"
         },
         "name": "",
         "notched": true,
         "showlegend": false,
         "type": "box",
         "x": {
          "bdata": "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",
          "dtype": "f8"
         },
         "xaxis": "x2",
         "yaxis": "y2"
        }
       ],
       "layout": {
        "barmode": "relative",
        "legend": {
         "tracegroupgap": 0
        },
        "template": {
         "data": {
          "bar": [
           {
            "error_x": {
             "color": "#2a3f5f"
            },
            "error_y": {
             "color": "#2a3f5f"
            },
            "marker": {
             "line": {
              "color": "#E5ECF6",
              "width": 0.5
             },
             "pattern": {
              "fillmode": "overlay",
              "size": 10,
              "solidity": 0.2
             }
            },
            "type": "bar"
           }
          ],
          "barpolar": [
           {
            "marker": {
             "line": {
              "color": "#E5ECF6",
              "width": 0.5
             },
             "pattern": {
              "fillmode": "overlay",
              "size": 10,
              "solidity": 0.2
             }
            },
            "type": "barpolar"
           }
          ],
          "carpet": [
           {
            "aaxis": {
             "endlinecolor": "#2a3f5f",
             "gridcolor": "white",
             "linecolor": "white",
             "minorgridcolor": "white",
             "startlinecolor": "#2a3f5f"
            },
            "baxis": {
             "endlinecolor": "#2a3f5f",
             "gridcolor": "white",
             "linecolor": "white",
             "minorgridcolor": "white",
             "startlinecolor": "#2a3f5f"
            },
            "type": "carpet"
           }
          ],
          "choropleth": [
           {
            "colorbar": {
             "outlinewidth": 0,
             "ticks": ""
            },
            "type": "choropleth"
           }
          ],
          "contour": [
           {
            "colorbar": {
             "outlinewidth": 0,
             "ticks": ""
            },
            "colorscale": [
             [
              0,
              "#0d0887"
             ],
             [
              0.1111111111111111,
              "#46039f"
             ],
             [
              0.2222222222222222,
              "#7201a8"
             ],
             [
              0.3333333333333333,
              "#9c179e"
             ],
             [
              0.4444444444444444,
              "#bd3786"
             ],
             [
              0.5555555555555556,
              "#d8576b"
             ],
             [
              0.6666666666666666,
              "#ed7953"
             ],
             [
              0.7777777777777778,
              "#fb9f3a"
             ],
             [
              0.8888888888888888,
              "#fdca26"
             ],
             [
              1,
              "#f0f921"
             ]
            ],
            "type": "contour"
           }
          ],
          "contourcarpet": [
           {
            "colorbar": {
             "outlinewidth": 0,
             "ticks": ""
            },
            "type": "contourcarpet"
           }
          ],
          "heatmap": [
           {
            "colorbar": {
             "outlinewidth": 0,
             "ticks": ""
            },
            "colorscale": [
             [
              0,
              "#0d0887"
             ],
             [
              0.1111111111111111,
              "#46039f"
             ],
             [
              0.2222222222222222,
              "#7201a8"
             ],
             [
              0.3333333333333333,
              "#9c179e"
             ],
             [
              0.4444444444444444,
              "#bd3786"
             ],
             [
              0.5555555555555556,
              "#d8576b"
             ],
             [
              0.6666666666666666,
              "#ed7953"
             ],
             [
              0.7777777777777778,
              "#fb9f3a"
             ],
             [
              0.8888888888888888,
              "#fdca26"
             ],
             [
              1,
              "#f0f921"
             ]
            ],
            "type": "heatmap"
           }
          ],
          "histogram": [
           {
            "marker": {
             "pattern": {
              "fillmode": "overlay",
              "size": 10,
              "solidity": 0.2
             }
            },
            "type": "histogram"
           }
          ],
          "histogram2d": [
           {
            "colorbar": {
             "outlinewidth": 0,
             "ticks": ""
            },
            "colorscale": [
             [
              0,
              "#0d0887"
             ],
             [
              0.1111111111111111,
              "#46039f"
             ],
             [
              0.2222222222222222,
              "#7201a8"
             ],
             [
              0.3333333333333333,
              "#9c179e"
             ],
             [
              0.4444444444444444,
              "#bd3786"
             ],
             [
              0.5555555555555556,
              "#d8576b"
             ],
             [
              0.6666666666666666,
              "#ed7953"
             ],
             [
              0.7777777777777778,
              "#fb9f3a"
             ],
             [
              0.8888888888888888,
              "#fdca26"
             ],
             [
              1,
              "#f0f921"
             ]
            ],
            "type": "histogram2d"
           }
          ],
          "histogram2dcontour": [
           {
            "colorbar": {
             "outlinewidth": 0,
             "ticks": ""
            },
            "colorscale": [
             [
              0,
              "#0d0887"
             ],
             [
              0.1111111111111111,
              "#46039f"
             ],
             [
              0.2222222222222222,
              "#7201a8"
             ],
             [
              0.3333333333333333,
              "#9c179e"
             ],
             [
              0.4444444444444444,
              "#bd3786"
             ],
             [
              0.5555555555555556,
              "#d8576b"
             ],
             [
              0.6666666666666666,
              "#ed7953"
             ],
             [
              0.7777777777777778,
              "#fb9f3a"
             ],
             [
              0.8888888888888888,
              "#fdca26"
             ],
             [
              1,
              "#f0f921"
             ]
            ],
            "type": "histogram2dcontour"
           }
          ],
          "mesh3d": [
           {
            "colorbar": {
             "outlinewidth": 0,
             "ticks": ""
            },
            "type": "mesh3d"
           }
          ],
          "parcoords": [
           {
            "line": {
             "colorbar": {
              "outlinewidth": 0,
              "ticks": ""
             }
            },
            "type": "parcoords"
           }
          ],
          "pie": [
           {
            "automargin": true,
            "type": "pie"
           }
          ],
          "scatter": [
           {
            "fillpattern": {
             "fillmode": "overlay",
             "size": 10,
             "solidity": 0.2
            },
            "type": "scatter"
           }
          ],
          "scatter3d": [
           {
            "line": {
             "colorbar": {
              "outlinewidth": 0,
              "ticks": ""
             }
            },
            "marker": {
             "colorbar": {
              "outlinewidth": 0,
              "ticks": ""
             }
            },
            "type": "scatter3d"
           }
          ],
          "scattercarpet": [
           {
            "marker": {
             "colorbar": {
              "outlinewidth": 0,
              "ticks": ""
             }
            },
            "type": "scattercarpet"
           }
          ],
          "scattergeo": [
           {
            "marker": {
             "colorbar": {
              "outlinewidth": 0,
              "ticks": ""
             }
            },
            "type": "scattergeo"
           }
          ],
          "scattergl": [
           {
            "marker": {
             "colorbar": {
              "outlinewidth": 0,
              "ticks": ""
             }
            },
            "type": "scattergl"
           }
          ],
          "scattermap": [
           {
            "marker": {
             "colorbar": {
              "outlinewidth": 0,
              "ticks": ""
             }
            },
            "type": "scattermap"
           }
          ],
          "scattermapbox": [
           {
            "marker": {
             "colorbar": {
              "outlinewidth": 0,
              "ticks": ""
             }
            },
            "type": "scattermapbox"
           }
          ],
          "scatterpolar": [
           {
            "marker": {
             "colorbar": {
              "outlinewidth": 0,
              "ticks": ""
             }
            },
            "type": "scatterpolar"
           }
          ],
          "scatterpolargl": [
           {
            "marker": {
             "colorbar": {
              "outlinewidth": 0,
              "ticks": ""
             }
            },
            "type": "scatterpolargl"
           }
          ],
          "scatterternary": [
           {
            "marker": {
             "colorbar": {
              "outlinewidth": 0,
              "ticks": ""
             }
            },
            "type": "scatterternary"
           }
          ],
          "surface": [
           {
            "colorbar": {
             "outlinewidth": 0,
             "ticks": ""
            },
            "colorscale": [
             [
              0,
              "#0d0887"
             ],
             [
              0.1111111111111111,
              "#46039f"
             ],
             [
              0.2222222222222222,
              "#7201a8"
             ],
             [
              0.3333333333333333,
              "#9c179e"
             ],
             [
              0.4444444444444444,
              "#bd3786"
             ],
             [
              0.5555555555555556,
              "#d8576b"
             ],
             [
              0.6666666666666666,
              "#ed7953"
             ],
             [
              0.7777777777777778,
              "#fb9f3a"
             ],
             [
              0.8888888888888888,
              "#fdca26"
             ],
             [
              1,
              "#f0f921"
             ]
            ],
            "type": "surface"
           }
          ],
          "table": [
           {
            "cells": {
             "fill": {
              "color": "#EBF0F8"
             },
             "line": {
              "color": "white"
             }
            },
            "header": {
             "fill": {
              "color": "#C8D4E3"
             },
             "line": {
              "color": "white"
             }
            },
            "type": "table"
           }
          ]
         },
         "layout": {
          "annotationdefaults": {
           "arrowcolor": "#2a3f5f",
           "arrowhead": 0,
           "arrowwidth": 1
          },
          "autotypenumbers": "strict",
          "coloraxis": {
           "colorbar": {
            "outlinewidth": 0,
            "ticks": ""
           }
          },
          "colorscale": {
           "diverging": [
            [
             0,
             "#8e0152"
            ],
            [
             0.1,
             "#c51b7d"
            ],
            [
             0.2,
             "#de77ae"
            ],
            [
             0.3,
             "#f1b6da"
            ],
            [
             0.4,
             "#fde0ef"
            ],
            [
             0.5,
             "#f7f7f7"
            ],
            [
             0.6,
             "#e6f5d0"
            ],
            [
             0.7,
             "#b8e186"
            ],
            [
             0.8,
             "#7fbc41"
            ],
            [
             0.9,
             "#4d9221"
            ],
            [
             1,
             "#276419"
            ]
           ],
           "sequential": [
            [
             0,
             "#0d0887"
            ],
            [
             0.1111111111111111,
             "#46039f"
            ],
            [
             0.2222222222222222,
             "#7201a8"
            ],
            [
             0.3333333333333333,
             "#9c179e"
            ],
            [
             0.4444444444444444,
             "#bd3786"
            ],
            [
             0.5555555555555556,
             "#d8576b"
            ],
            [
             0.6666666666666666,
             "#ed7953"
            ],
            [
             0.7777777777777778,
             "#fb9f3a"
            ],
            [
             0.8888888888888888,
             "#fdca26"
            ],
            [
             1,
             "#f0f921"
            ]
           ],
           "sequentialminus": [
            [
             0,
             "#0d0887"
            ],
            [
             0.1111111111111111,
             "#46039f"
            ],
            [
             0.2222222222222222,
             "#7201a8"
            ],
            [
             0.3333333333333333,
             "#9c179e"
            ],
            [
             0.4444444444444444,
             "#bd3786"
            ],
            [
             0.5555555555555556,
             "#d8576b"
            ],
            [
             0.6666666666666666,
             "#ed7953"
            ],
            [
             0.7777777777777778,
             "#fb9f3a"
            ],
            [
             0.8888888888888888,
             "#fdca26"
            ],
            [
             1,
             "#f0f921"
            ]
           ]
          },
          "colorway": [
           "#636efa",
           "#EF553B",
           "#00cc96",
           "#ab63fa",
           "#FFA15A",
           "#19d3f3",
           "#FF6692",
           "#B6E880",
           "#FF97FF",
           "#FECB52"
          ],
          "font": {
           "color": "#2a3f5f"
          },
          "geo": {
           "bgcolor": "white",
           "lakecolor": "white",
           "landcolor": "#E5ECF6",
           "showlakes": true,
           "showland": true,
           "subunitcolor": "white"
          },
          "hoverlabel": {
           "align": "left"
          },
          "hovermode": "closest",
          "mapbox": {
           "style": "light"
          },
          "paper_bgcolor": "white",
          "plot_bgcolor": "#E5ECF6",
          "polar": {
           "angularaxis": {
            "gridcolor": "white",
            "linecolor": "white",
            "ticks": ""
           },
           "bgcolor": "#E5ECF6",
           "radialaxis": {
            "gridcolor": "white",
            "linecolor": "white",
            "ticks": ""
           }
          },
          "scene": {
           "xaxis": {
            "backgroundcolor": "#E5ECF6",
            "gridcolor": "white",
            "gridwidth": 2,
            "linecolor": "white",
            "showbackground": true,
            "ticks": "",
            "zerolinecolor": "white"
           },
           "yaxis": {
            "backgroundcolor": "#E5ECF6",
            "gridcolor": "white",
            "gridwidth": 2,
            "linecolor": "white",
            "showbackground": true,
            "ticks": "",
            "zerolinecolor": "white"
           },
           "zaxis": {
            "backgroundcolor": "#E5ECF6",
            "gridcolor": "white",
            "gridwidth": 2,
            "linecolor": "white",
            "showbackground": true,
            "ticks": "",
            "zerolinecolor": "white"
           }
          },
          "shapedefaults": {
           "line": {
            "color": "#2a3f5f"
           }
          },
          "ternary": {
           "aaxis": {
            "gridcolor": "white",
            "linecolor": "white",
            "ticks": ""
           },
           "baxis": {
            "gridcolor": "white",
            "linecolor": "white",
            "ticks": ""
           },
           "bgcolor": "#E5ECF6",
           "caxis": {
            "gridcolor": "white",
            "linecolor": "white",
            "ticks": ""
           }
          },
          "title": {
           "x": 0.05
          },
          "xaxis": {
           "automargin": true,
           "gridcolor": "white",
           "linecolor": "white",
           "ticks": "",
           "title": {
            "standoff": 15
           },
           "zerolinecolor": "white",
           "zerolinewidth": 2
          },
          "yaxis": {
           "automargin": true,
           "gridcolor": "white",
           "linecolor": "white",
           "ticks": "",
           "title": {
            "standoff": 15
           },
           "zerolinecolor": "white",
           "zerolinewidth": 2
          }
         }
        },
        "title": {
         "text": "Number of entries by volume filtered"
        },
        "xaxis": {
         "anchor": "y",
         "domain": [
          0,
          1
         ],
         "title": {
          "text": "Volume filtered (m3)"
         }
        },
        "xaxis2": {
         "anchor": "y2",
         "domain": [
          0,
          1
         ],
         "matches": "x",
         "showgrid": true,
         "showticklabels": false
        },
        "yaxis": {
         "anchor": "x",
         "domain": [
          0,
          0.8316
         ],
         "title": {
          "text": "count"
         }
        },
        "yaxis2": {
         "anchor": "x2",
         "domain": [
          0.8416,
          1
         ],
         "matches": "y2",
         "showgrid": false,
         "showline": false,
         "showticklabels": false,
         "ticks": ""
        }
       }
      }
     },
     "metadata": {},
     "output_type": "display_data"
    }
   ],
   "source": [
    "px.histogram(\n",
    "    index,\n",
    "    x=\"Volume Filtered(m3)\",\n",
    "    title=\"Number of entries by volume filtered\",\n",
    "    labels={\n",
    "        \"Volume Filtered(m3)\": \"Volume filtered (m3)\",\n",
    "        \"count\": \"Number of entries\",\n",
    "    },\n",
    "    marginal=\"box\",\n",
    ")\n"
   ]
  },
  {
   "cell_type": "markdown",
   "metadata": {},
   "source": [
    "### Zero values\n"
   ]
  },
  {
   "cell_type": "code",
   "execution_count": null,
   "metadata": {},
   "outputs": [],
   "source": [
    "nb_zeros = (data.iloc[:, 6:] > 0).sum(1) #non-zeros values"
   ]
  },
  {
   "cell_type": "code",
   "execution_count": 39,
   "metadata": {},
   "outputs": [
    {
     "data": {
      "application/vnd.plotly.v1+json": {
       "config": {
        "plotlyServerURL": "https://plot.ly"
       },
       "data": [
        {
         "bingroup": "x",
         "histfunc": "sum",
         "hovertemplate": "Depth (m)=%{x}<br>sum of Number of non-zero values=%{y}<extra></extra>",
         "legendgroup": "",
         "marker": {
          "color": "#636efa",
          "pattern": {
           "shape": ""
          }
         },
         "name": "",
         "nbinsx": 100,
         "orientation": "v",
         "showlegend": false,
         "type": "histogram",
         "x": {
          "bdata": "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",
          "dtype": "f8"
         },
         "xaxis": "x",
         "y": {
          "bdata": "GxUXExoZGBQZGiAYFhcZFRMYGRgaFxYWFhERFBUTFREXFRQVExETFRQSERETFRYSEx4bGRcWFxkXGBcXFxMWCAkKBRcEFxIHFA0YBBMGERoYCR8oGxoaGhgcGxkdHBsWGBkaGBsSFhUZGxQWHhgYFxkVFBcVEhUbGREZGBURExMTFhERGREUGBoYHB8dFiUeHx4YHhsZGiEhIB0dGhkcGxoZGiEgIh4cHh4fFysmHhsUGyAaIB8cGhgXDxMRERUXExcZFBQYFxgaIB8iIB0dHxgcHiEeHhweGBobGhgbGhsZFxkeGBgYGBUaGBoaIhsZFiIbHBMeFxcYHRgVEBQZGxcWGxIVJBohFx0WGxwZIyUhIBkVGBodEhkcGhoREREVFxcWFRcWFRYTFxYTEhAQGBIQDhASFhUVFRgUFRoXFRUVERYdHxkYFBkbFBQYGiEhFRkSGBUbJBoeIB0bExQZGR0iFRgTFxcZGBsXGBcZGBMVFBUUFxUUERIZGhwZGyEfHBoZGBwXGBUVEhcWEhgZHSAYFRoaFRsOFhQVFhcUHBgZGBgdIBobFhsdGR4SGhkOEhwVFRQYFRIdGA4XGBQeGh0fGhwgIxYfGR4fGx0cHh0bHBcdGyAcHRcWIRoeFyMaGB4jHR4bGhUcFRcWFBgeGhkZGBkcHBcYGxgXFxUXFBsZFx0ZHxkWGx8dFBYUFRkbGRUVGRgWIBAaDhoVFhAZHhgZGxgZIhwaERcbGiASERQVGxcZEyAWGxoXFx0ZDxAUFyMbEhMTFRUVGxUWERMRHB8WGBoeIxYSGyIZHx0mGSIYGBsaHSofICUlKR4aHxkcGhcZFSceJRsaHB8fHiEdISAqLBoZHywjKCchJyMUHx8YIBsbFSAgGw4bGQ8bDBYdIiYYKh8hIxoSHyAaGScRKCEeHR4XHhYUHRcYHxgfKSYgIh4ZFh8dHRYZGxkWGxscIR4cHhgfHBgkHiAdHh0hHiEgJB4aIB4gHh4ZFxMfFxQdHh4ZIiUdHR8bGyEYHyMdGx0TGxgaJicoJSQeHCEhJiEdLCEmJR4YIyMfDx8UGR4jHh4XHxolHh4ZGx4dHxEcGx4bFRgcFSckIyQtFRgdFxoVFR0ZHR4ZGx0UFhgcGiEeKR4kJSgkFx8cHBkeGhkaHhslFyEhKCUfHi8jHxocJCAaHhgYHR8aHxoiGR0eGx8bHBovJiYTHCEmKigrJSYoJyktICUsIiMpKCUmHiQiGx4pGScrLxksJyMpIhwbHh4jIxYpLB4WHRccICMqICwqKywmKSkoJycmJB8sKiQeKiciKSImKR8eICAnJCMiJhsWIB8aHBsXGCAdJCIqJScfJB0eIhYhKR4ZFRkXGRwkHhwkIyUcGh8oKiAqKiwpKSkwMSYWHSIeHykgERUaJBQmHiMZIyEbHCIbHhUaGA0WGCUbJRgf",
          "dtype": "i1"
         },
         "yaxis": "y"
        }
       ],
       "layout": {
        "barmode": "relative",
        "legend": {
         "tracegroupgap": 0
        },
        "template": {
         "data": {
          "bar": [
           {
            "error_x": {
             "color": "#2a3f5f"
            },
            "error_y": {
             "color": "#2a3f5f"
            },
            "marker": {
             "line": {
              "color": "#E5ECF6",
              "width": 0.5
             },
             "pattern": {
              "fillmode": "overlay",
              "size": 10,
              "solidity": 0.2
             }
            },
            "type": "bar"
           }
          ],
          "barpolar": [
           {
            "marker": {
             "line": {
              "color": "#E5ECF6",
              "width": 0.5
             },
             "pattern": {
              "fillmode": "overlay",
              "size": 10,
              "solidity": 0.2
             }
            },
            "type": "barpolar"
           }
          ],
          "carpet": [
           {
            "aaxis": {
             "endlinecolor": "#2a3f5f",
             "gridcolor": "white",
             "linecolor": "white",
             "minorgridcolor": "white",
             "startlinecolor": "#2a3f5f"
            },
            "baxis": {
             "endlinecolor": "#2a3f5f",
             "gridcolor": "white",
             "linecolor": "white",
             "minorgridcolor": "white",
             "startlinecolor": "#2a3f5f"
            },
            "type": "carpet"
           }
          ],
          "choropleth": [
           {
            "colorbar": {
             "outlinewidth": 0,
             "ticks": ""
            },
            "type": "choropleth"
           }
          ],
          "contour": [
           {
            "colorbar": {
             "outlinewidth": 0,
             "ticks": ""
            },
            "colorscale": [
             [
              0,
              "#0d0887"
             ],
             [
              0.1111111111111111,
              "#46039f"
             ],
             [
              0.2222222222222222,
              "#7201a8"
             ],
             [
              0.3333333333333333,
              "#9c179e"
             ],
             [
              0.4444444444444444,
              "#bd3786"
             ],
             [
              0.5555555555555556,
              "#d8576b"
             ],
             [
              0.6666666666666666,
              "#ed7953"
             ],
             [
              0.7777777777777778,
              "#fb9f3a"
             ],
             [
              0.8888888888888888,
              "#fdca26"
             ],
             [
              1,
              "#f0f921"
             ]
            ],
            "type": "contour"
           }
          ],
          "contourcarpet": [
           {
            "colorbar": {
             "outlinewidth": 0,
             "ticks": ""
            },
            "type": "contourcarpet"
           }
          ],
          "heatmap": [
           {
            "colorbar": {
             "outlinewidth": 0,
             "ticks": ""
            },
            "colorscale": [
             [
              0,
              "#0d0887"
             ],
             [
              0.1111111111111111,
              "#46039f"
             ],
             [
              0.2222222222222222,
              "#7201a8"
             ],
             [
              0.3333333333333333,
              "#9c179e"
             ],
             [
              0.4444444444444444,
              "#bd3786"
             ],
             [
              0.5555555555555556,
              "#d8576b"
             ],
             [
              0.6666666666666666,
              "#ed7953"
             ],
             [
              0.7777777777777778,
              "#fb9f3a"
             ],
             [
              0.8888888888888888,
              "#fdca26"
             ],
             [
              1,
              "#f0f921"
             ]
            ],
            "type": "heatmap"
           }
          ],
          "histogram": [
           {
            "marker": {
             "pattern": {
              "fillmode": "overlay",
              "size": 10,
              "solidity": 0.2
             }
            },
            "type": "histogram"
           }
          ],
          "histogram2d": [
           {
            "colorbar": {
             "outlinewidth": 0,
             "ticks": ""
            },
            "colorscale": [
             [
              0,
              "#0d0887"
             ],
             [
              0.1111111111111111,
              "#46039f"
             ],
             [
              0.2222222222222222,
              "#7201a8"
             ],
             [
              0.3333333333333333,
              "#9c179e"
             ],
             [
              0.4444444444444444,
              "#bd3786"
             ],
             [
              0.5555555555555556,
              "#d8576b"
             ],
             [
              0.6666666666666666,
              "#ed7953"
             ],
             [
              0.7777777777777778,
              "#fb9f3a"
             ],
             [
              0.8888888888888888,
              "#fdca26"
             ],
             [
              1,
              "#f0f921"
             ]
            ],
            "type": "histogram2d"
           }
          ],
          "histogram2dcontour": [
           {
            "colorbar": {
             "outlinewidth": 0,
             "ticks": ""
            },
            "colorscale": [
             [
              0,
              "#0d0887"
             ],
             [
              0.1111111111111111,
              "#46039f"
             ],
             [
              0.2222222222222222,
              "#7201a8"
             ],
             [
              0.3333333333333333,
              "#9c179e"
             ],
             [
              0.4444444444444444,
              "#bd3786"
             ],
             [
              0.5555555555555556,
              "#d8576b"
             ],
             [
              0.6666666666666666,
              "#ed7953"
             ],
             [
              0.7777777777777778,
              "#fb9f3a"
             ],
             [
              0.8888888888888888,
              "#fdca26"
             ],
             [
              1,
              "#f0f921"
             ]
            ],
            "type": "histogram2dcontour"
           }
          ],
          "mesh3d": [
           {
            "colorbar": {
             "outlinewidth": 0,
             "ticks": ""
            },
            "type": "mesh3d"
           }
          ],
          "parcoords": [
           {
            "line": {
             "colorbar": {
              "outlinewidth": 0,
              "ticks": ""
             }
            },
            "type": "parcoords"
           }
          ],
          "pie": [
           {
            "automargin": true,
            "type": "pie"
           }
          ],
          "scatter": [
           {
            "fillpattern": {
             "fillmode": "overlay",
             "size": 10,
             "solidity": 0.2
            },
            "type": "scatter"
           }
          ],
          "scatter3d": [
           {
            "line": {
             "colorbar": {
              "outlinewidth": 0,
              "ticks": ""
             }
            },
            "marker": {
             "colorbar": {
              "outlinewidth": 0,
              "ticks": ""
             }
            },
            "type": "scatter3d"
           }
          ],
          "scattercarpet": [
           {
            "marker": {
             "colorbar": {
              "outlinewidth": 0,
              "ticks": ""
             }
            },
            "type": "scattercarpet"
           }
          ],
          "scattergeo": [
           {
            "marker": {
             "colorbar": {
              "outlinewidth": 0,
              "ticks": ""
             }
            },
            "type": "scattergeo"
           }
          ],
          "scattergl": [
           {
            "marker": {
             "colorbar": {
              "outlinewidth": 0,
              "ticks": ""
             }
            },
            "type": "scattergl"
           }
          ],
          "scattermap": [
           {
            "marker": {
             "colorbar": {
              "outlinewidth": 0,
              "ticks": ""
             }
            },
            "type": "scattermap"
           }
          ],
          "scattermapbox": [
           {
            "marker": {
             "colorbar": {
              "outlinewidth": 0,
              "ticks": ""
             }
            },
            "type": "scattermapbox"
           }
          ],
          "scatterpolar": [
           {
            "marker": {
             "colorbar": {
              "outlinewidth": 0,
              "ticks": ""
             }
            },
            "type": "scatterpolar"
           }
          ],
          "scatterpolargl": [
           {
            "marker": {
             "colorbar": {
              "outlinewidth": 0,
              "ticks": ""
             }
            },
            "type": "scatterpolargl"
           }
          ],
          "scatterternary": [
           {
            "marker": {
             "colorbar": {
              "outlinewidth": 0,
              "ticks": ""
             }
            },
            "type": "scatterternary"
           }
          ],
          "surface": [
           {
            "colorbar": {
             "outlinewidth": 0,
             "ticks": ""
            },
            "colorscale": [
             [
              0,
              "#0d0887"
             ],
             [
              0.1111111111111111,
              "#46039f"
             ],
             [
              0.2222222222222222,
              "#7201a8"
             ],
             [
              0.3333333333333333,
              "#9c179e"
             ],
             [
              0.4444444444444444,
              "#bd3786"
             ],
             [
              0.5555555555555556,
              "#d8576b"
             ],
             [
              0.6666666666666666,
              "#ed7953"
             ],
             [
              0.7777777777777778,
              "#fb9f3a"
             ],
             [
              0.8888888888888888,
              "#fdca26"
             ],
             [
              1,
              "#f0f921"
             ]
            ],
            "type": "surface"
           }
          ],
          "table": [
           {
            "cells": {
             "fill": {
              "color": "#EBF0F8"
             },
             "line": {
              "color": "white"
             }
            },
            "header": {
             "fill": {
              "color": "#C8D4E3"
             },
             "line": {
              "color": "white"
             }
            },
            "type": "table"
           }
          ]
         },
         "layout": {
          "annotationdefaults": {
           "arrowcolor": "#2a3f5f",
           "arrowhead": 0,
           "arrowwidth": 1
          },
          "autotypenumbers": "strict",
          "coloraxis": {
           "colorbar": {
            "outlinewidth": 0,
            "ticks": ""
           }
          },
          "colorscale": {
           "diverging": [
            [
             0,
             "#8e0152"
            ],
            [
             0.1,
             "#c51b7d"
            ],
            [
             0.2,
             "#de77ae"
            ],
            [
             0.3,
             "#f1b6da"
            ],
            [
             0.4,
             "#fde0ef"
            ],
            [
             0.5,
             "#f7f7f7"
            ],
            [
             0.6,
             "#e6f5d0"
            ],
            [
             0.7,
             "#b8e186"
            ],
            [
             0.8,
             "#7fbc41"
            ],
            [
             0.9,
             "#4d9221"
            ],
            [
             1,
             "#276419"
            ]
           ],
           "sequential": [
            [
             0,
             "#0d0887"
            ],
            [
             0.1111111111111111,
             "#46039f"
            ],
            [
             0.2222222222222222,
             "#7201a8"
            ],
            [
             0.3333333333333333,
             "#9c179e"
            ],
            [
             0.4444444444444444,
             "#bd3786"
            ],
            [
             0.5555555555555556,
             "#d8576b"
            ],
            [
             0.6666666666666666,
             "#ed7953"
            ],
            [
             0.7777777777777778,
             "#fb9f3a"
            ],
            [
             0.8888888888888888,
             "#fdca26"
            ],
            [
             1,
             "#f0f921"
            ]
           ],
           "sequentialminus": [
            [
             0,
             "#0d0887"
            ],
            [
             0.1111111111111111,
             "#46039f"
            ],
            [
             0.2222222222222222,
             "#7201a8"
            ],
            [
             0.3333333333333333,
             "#9c179e"
            ],
            [
             0.4444444444444444,
             "#bd3786"
            ],
            [
             0.5555555555555556,
             "#d8576b"
            ],
            [
             0.6666666666666666,
             "#ed7953"
            ],
            [
             0.7777777777777778,
             "#fb9f3a"
            ],
            [
             0.8888888888888888,
             "#fdca26"
            ],
            [
             1,
             "#f0f921"
            ]
           ]
          },
          "colorway": [
           "#636efa",
           "#EF553B",
           "#00cc96",
           "#ab63fa",
           "#FFA15A",
           "#19d3f3",
           "#FF6692",
           "#B6E880",
           "#FF97FF",
           "#FECB52"
          ],
          "font": {
           "color": "#2a3f5f"
          },
          "geo": {
           "bgcolor": "white",
           "lakecolor": "white",
           "landcolor": "#E5ECF6",
           "showlakes": true,
           "showland": true,
           "subunitcolor": "white"
          },
          "hoverlabel": {
           "align": "left"
          },
          "hovermode": "closest",
          "mapbox": {
           "style": "light"
          },
          "paper_bgcolor": "white",
          "plot_bgcolor": "#E5ECF6",
          "polar": {
           "angularaxis": {
            "gridcolor": "white",
            "linecolor": "white",
            "ticks": ""
           },
           "bgcolor": "#E5ECF6",
           "radialaxis": {
            "gridcolor": "white",
            "linecolor": "white",
            "ticks": ""
           }
          },
          "scene": {
           "xaxis": {
            "backgroundcolor": "#E5ECF6",
            "gridcolor": "white",
            "gridwidth": 2,
            "linecolor": "white",
            "showbackground": true,
            "ticks": "",
            "zerolinecolor": "white"
           },
           "yaxis": {
            "backgroundcolor": "#E5ECF6",
            "gridcolor": "white",
            "gridwidth": 2,
            "linecolor": "white",
            "showbackground": true,
            "ticks": "",
            "zerolinecolor": "white"
           },
           "zaxis": {
            "backgroundcolor": "#E5ECF6",
            "gridcolor": "white",
            "gridwidth": 2,
            "linecolor": "white",
            "showbackground": true,
            "ticks": "",
            "zerolinecolor": "white"
           }
          },
          "shapedefaults": {
           "line": {
            "color": "#2a3f5f"
           }
          },
          "ternary": {
           "aaxis": {
            "gridcolor": "white",
            "linecolor": "white",
            "ticks": ""
           },
           "baxis": {
            "gridcolor": "white",
            "linecolor": "white",
            "ticks": ""
           },
           "bgcolor": "#E5ECF6",
           "caxis": {
            "gridcolor": "white",
            "linecolor": "white",
            "ticks": ""
           }
          },
          "title": {
           "x": 0.05
          },
          "xaxis": {
           "automargin": true,
           "gridcolor": "white",
           "linecolor": "white",
           "ticks": "",
           "title": {
            "standoff": 15
           },
           "zerolinecolor": "white",
           "zerolinewidth": 2
          },
          "yaxis": {
           "automargin": true,
           "gridcolor": "white",
           "linecolor": "white",
           "ticks": "",
           "title": {
            "standoff": 15
           },
           "zerolinecolor": "white",
           "zerolinewidth": 2
          }
         }
        },
        "title": {
         "text": "Number of non-zero values by depth"
        },
        "xaxis": {
         "anchor": "y",
         "domain": [
          0,
          1
         ],
         "title": {
          "text": "Depth (m)"
         }
        },
        "yaxis": {
         "anchor": "x",
         "domain": [
          0,
          1
         ],
         "title": {
          "text": "sum of Number of non-zero values"
         }
        }
       }
      }
     },
     "metadata": {},
     "output_type": "display_data"
    }
   ],
   "source": [
    "px.histogram(\n",
    "    x=data[\"DEPTH_STRT\"],\n",
    "    y=nb_zeros,\n",
    "    title=\"Number of non-zero values by depth\",\n",
    "    labels=dict(x=\"Depth (m)\", y=\"Number of non-zero values\"),\n",
    "    nbins=100,\n",
    ")"
   ]
  },
  {
   "cell_type": "code",
   "execution_count": 40,
   "metadata": {},
   "outputs": [
    {
     "data": {
      "application/vnd.plotly.v1+json": {
       "config": {
        "plotlyServerURL": "https://plot.ly"
       },
       "data": [
        {
         "bingroup": "x",
         "histfunc": "sum",
         "hovertemplate": "Volume filtered (m3)=%{x}<br>sum of Number of non-zero values=%{y}<extra></extra>",
         "legendgroup": "",
         "marker": {
          "color": "#636efa",
          "pattern": {
           "shape": ""
          }
         },
         "name": "",
         "nbinsx": 100,
         "orientation": "v",
         "showlegend": false,
         "type": "histogram",
         "x": {
          "bdata": "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",
          "dtype": "f8"
         },
         "xaxis": "x",
         "y": {
          "bdata": "GxUXExoZGBQZGiAYFhcZFRMYGRgaFxYWFhERFBUTFREXFRQVExETFRQSERETFRYSEx4bGRcWFxkXGBcXFxMWCAkKBRcEFxIHFA0YBBMGERoYCR8oGxoaGhgcGxkdHBsWGBkaGBsSFhUZGxQWHhgYFxkVFBcVEhUbGREZGBURExMTFhERGREUGBoYHB8dFiUeHx4YHhsZGiEhIB0dGhkcGxoZGiEgIh4cHh4fFysmHhsUGyAaIB8cGhgXDxMRERUXExcZFBQYFxgaIB8iIB0dHxgcHiEeHhweGBobGhgbGhsZFxkeGBgYGBUaGBoaIhsZFiIbHBMeFxcYHRgVEBQZGxcWGxIVJBohFx0WGxwZIyUhIBkVGBodEhkcGhoREREVFxcWFRcWFRYTFxYTEhAQGBIQDhASFhUVFRgUFRoXFRUVERYdHxkYFBkbFBQYGiEhFRkSGBUbJBoeIB0bExQZGR0iFRgTFxcZGBsXGBcZGBMVFBUUFxUUERIZGhwZGyEfHBoZGBwXGBUVEhcWEhgZHSAYFRoaFRsOFhQVFhcUHBgZGBgdIBobFhsdGR4SGhkOEhwVFRQYFRIdGA4XGBQeGh0fGhwgIxYfGR4fGx0cHh0bHBcdGyAcHRcWIRoeFyMaGB4jHR4bGhUcFRcWFBgeGhkZGBkcHBcYGxgXFxUXFBsZFx0ZHxkWGx8dFBYUFRkbGRUVGRgWIBAaDhoVFhAZHhgZGxgZIhwaERcbGiASERQVGxcZEyAWGxoXFx0ZDxAUFyMbEhMTFRUVGxUWERMRHB8WGBoeIxYSGyIZHx0mGSIYGBsaHSofICUlKR4aHxkcGhcZFSceJRsaHB8fHiEdISAqLBoZHywjKCchJyMUHx8YIBsbFSAgGw4bGQ8bDBYdIiYYKh8hIxoSHyAaGScRKCEeHR4XHhYUHRcYHxgfKSYgIh4ZFh8dHRYZGxkWGxscIR4cHhgfHBgkHiAdHh0hHiEgJB4aIB4gHh4ZFxMfFxQdHh4ZIiUdHR8bGyEYHyMdGx0TGxgaJicoJSQeHCEhJiEdLCEmJR4YIyMfDx8UGR4jHh4XHxolHh4ZGx4dHxEcGx4bFRgcFSckIyQtFRgdFxoVFR0ZHR4ZGx0UFhgcGiEeKR4kJSgkFx8cHBkeGhkaHhslFyEhKCUfHi8jHxocJCAaHhgYHR8aHxoiGR0eGx8bHBovJiYTHCEmKigrJSYoJyktICUsIiMpKCUmHiQiGx4pGScrLxksJyMpIhwbHh4jIxYpLB4WHRccICMqICwqKywmKSkoJycmJB8sKiQeKiciKSImKR8eICAnJCMiJhsWIB8aHBsXGCAdJCIqJScfJB0eIhYhKR4ZFRkXGRwkHhwkIyUcGh8oKiAqKiwpKSkwMSYWHSIeHykgERUaJBQmHiMZIyEbHCIbHhUaGA0WGCUbJRgf",
          "dtype": "i1"
         },
         "yaxis": "y"
        }
       ],
       "layout": {
        "barmode": "relative",
        "legend": {
         "tracegroupgap": 0
        },
        "template": {
         "data": {
          "bar": [
           {
            "error_x": {
             "color": "#2a3f5f"
            },
            "error_y": {
             "color": "#2a3f5f"
            },
            "marker": {
             "line": {
              "color": "#E5ECF6",
              "width": 0.5
             },
             "pattern": {
              "fillmode": "overlay",
              "size": 10,
              "solidity": 0.2
             }
            },
            "type": "bar"
           }
          ],
          "barpolar": [
           {
            "marker": {
             "line": {
              "color": "#E5ECF6",
              "width": 0.5
             },
             "pattern": {
              "fillmode": "overlay",
              "size": 10,
              "solidity": 0.2
             }
            },
            "type": "barpolar"
           }
          ],
          "carpet": [
           {
            "aaxis": {
             "endlinecolor": "#2a3f5f",
             "gridcolor": "white",
             "linecolor": "white",
             "minorgridcolor": "white",
             "startlinecolor": "#2a3f5f"
            },
            "baxis": {
             "endlinecolor": "#2a3f5f",
             "gridcolor": "white",
             "linecolor": "white",
             "minorgridcolor": "white",
             "startlinecolor": "#2a3f5f"
            },
            "type": "carpet"
           }
          ],
          "choropleth": [
           {
            "colorbar": {
             "outlinewidth": 0,
             "ticks": ""
            },
            "type": "choropleth"
           }
          ],
          "contour": [
           {
            "colorbar": {
             "outlinewidth": 0,
             "ticks": ""
            },
            "colorscale": [
             [
              0,
              "#0d0887"
             ],
             [
              0.1111111111111111,
              "#46039f"
             ],
             [
              0.2222222222222222,
              "#7201a8"
             ],
             [
              0.3333333333333333,
              "#9c179e"
             ],
             [
              0.4444444444444444,
              "#bd3786"
             ],
             [
              0.5555555555555556,
              "#d8576b"
             ],
             [
              0.6666666666666666,
              "#ed7953"
             ],
             [
              0.7777777777777778,
              "#fb9f3a"
             ],
             [
              0.8888888888888888,
              "#fdca26"
             ],
             [
              1,
              "#f0f921"
             ]
            ],
            "type": "contour"
           }
          ],
          "contourcarpet": [
           {
            "colorbar": {
             "outlinewidth": 0,
             "ticks": ""
            },
            "type": "contourcarpet"
           }
          ],
          "heatmap": [
           {
            "colorbar": {
             "outlinewidth": 0,
             "ticks": ""
            },
            "colorscale": [
             [
              0,
              "#0d0887"
             ],
             [
              0.1111111111111111,
              "#46039f"
             ],
             [
              0.2222222222222222,
              "#7201a8"
             ],
             [
              0.3333333333333333,
              "#9c179e"
             ],
             [
              0.4444444444444444,
              "#bd3786"
             ],
             [
              0.5555555555555556,
              "#d8576b"
             ],
             [
              0.6666666666666666,
              "#ed7953"
             ],
             [
              0.7777777777777778,
              "#fb9f3a"
             ],
             [
              0.8888888888888888,
              "#fdca26"
             ],
             [
              1,
              "#f0f921"
             ]
            ],
            "type": "heatmap"
           }
          ],
          "histogram": [
           {
            "marker": {
             "pattern": {
              "fillmode": "overlay",
              "size": 10,
              "solidity": 0.2
             }
            },
            "type": "histogram"
           }
          ],
          "histogram2d": [
           {
            "colorbar": {
             "outlinewidth": 0,
             "ticks": ""
            },
            "colorscale": [
             [
              0,
              "#0d0887"
             ],
             [
              0.1111111111111111,
              "#46039f"
             ],
             [
              0.2222222222222222,
              "#7201a8"
             ],
             [
              0.3333333333333333,
              "#9c179e"
             ],
             [
              0.4444444444444444,
              "#bd3786"
             ],
             [
              0.5555555555555556,
              "#d8576b"
             ],
             [
              0.6666666666666666,
              "#ed7953"
             ],
             [
              0.7777777777777778,
              "#fb9f3a"
             ],
             [
              0.8888888888888888,
              "#fdca26"
             ],
             [
              1,
              "#f0f921"
             ]
            ],
            "type": "histogram2d"
           }
          ],
          "histogram2dcontour": [
           {
            "colorbar": {
             "outlinewidth": 0,
             "ticks": ""
            },
            "colorscale": [
             [
              0,
              "#0d0887"
             ],
             [
              0.1111111111111111,
              "#46039f"
             ],
             [
              0.2222222222222222,
              "#7201a8"
             ],
             [
              0.3333333333333333,
              "#9c179e"
             ],
             [
              0.4444444444444444,
              "#bd3786"
             ],
             [
              0.5555555555555556,
              "#d8576b"
             ],
             [
              0.6666666666666666,
              "#ed7953"
             ],
             [
              0.7777777777777778,
              "#fb9f3a"
             ],
             [
              0.8888888888888888,
              "#fdca26"
             ],
             [
              1,
              "#f0f921"
             ]
            ],
            "type": "histogram2dcontour"
           }
          ],
          "mesh3d": [
           {
            "colorbar": {
             "outlinewidth": 0,
             "ticks": ""
            },
            "type": "mesh3d"
           }
          ],
          "parcoords": [
           {
            "line": {
             "colorbar": {
              "outlinewidth": 0,
              "ticks": ""
             }
            },
            "type": "parcoords"
           }
          ],
          "pie": [
           {
            "automargin": true,
            "type": "pie"
           }
          ],
          "scatter": [
           {
            "fillpattern": {
             "fillmode": "overlay",
             "size": 10,
             "solidity": 0.2
            },
            "type": "scatter"
           }
          ],
          "scatter3d": [
           {
            "line": {
             "colorbar": {
              "outlinewidth": 0,
              "ticks": ""
             }
            },
            "marker": {
             "colorbar": {
              "outlinewidth": 0,
              "ticks": ""
             }
            },
            "type": "scatter3d"
           }
          ],
          "scattercarpet": [
           {
            "marker": {
             "colorbar": {
              "outlinewidth": 0,
              "ticks": ""
             }
            },
            "type": "scattercarpet"
           }
          ],
          "scattergeo": [
           {
            "marker": {
             "colorbar": {
              "outlinewidth": 0,
              "ticks": ""
             }
            },
            "type": "scattergeo"
           }
          ],
          "scattergl": [
           {
            "marker": {
             "colorbar": {
              "outlinewidth": 0,
              "ticks": ""
             }
            },
            "type": "scattergl"
           }
          ],
          "scattermap": [
           {
            "marker": {
             "colorbar": {
              "outlinewidth": 0,
              "ticks": ""
             }
            },
            "type": "scattermap"
           }
          ],
          "scattermapbox": [
           {
            "marker": {
             "colorbar": {
              "outlinewidth": 0,
              "ticks": ""
             }
            },
            "type": "scattermapbox"
           }
          ],
          "scatterpolar": [
           {
            "marker": {
             "colorbar": {
              "outlinewidth": 0,
              "ticks": ""
             }
            },
            "type": "scatterpolar"
           }
          ],
          "scatterpolargl": [
           {
            "marker": {
             "colorbar": {
              "outlinewidth": 0,
              "ticks": ""
             }
            },
            "type": "scatterpolargl"
           }
          ],
          "scatterternary": [
           {
            "marker": {
             "colorbar": {
              "outlinewidth": 0,
              "ticks": ""
             }
            },
            "type": "scatterternary"
           }
          ],
          "surface": [
           {
            "colorbar": {
             "outlinewidth": 0,
             "ticks": ""
            },
            "colorscale": [
             [
              0,
              "#0d0887"
             ],
             [
              0.1111111111111111,
              "#46039f"
             ],
             [
              0.2222222222222222,
              "#7201a8"
             ],
             [
              0.3333333333333333,
              "#9c179e"
             ],
             [
              0.4444444444444444,
              "#bd3786"
             ],
             [
              0.5555555555555556,
              "#d8576b"
             ],
             [
              0.6666666666666666,
              "#ed7953"
             ],
             [
              0.7777777777777778,
              "#fb9f3a"
             ],
             [
              0.8888888888888888,
              "#fdca26"
             ],
             [
              1,
              "#f0f921"
             ]
            ],
            "type": "surface"
           }
          ],
          "table": [
           {
            "cells": {
             "fill": {
              "color": "#EBF0F8"
             },
             "line": {
              "color": "white"
             }
            },
            "header": {
             "fill": {
              "color": "#C8D4E3"
             },
             "line": {
              "color": "white"
             }
            },
            "type": "table"
           }
          ]
         },
         "layout": {
          "annotationdefaults": {
           "arrowcolor": "#2a3f5f",
           "arrowhead": 0,
           "arrowwidth": 1
          },
          "autotypenumbers": "strict",
          "coloraxis": {
           "colorbar": {
            "outlinewidth": 0,
            "ticks": ""
           }
          },
          "colorscale": {
           "diverging": [
            [
             0,
             "#8e0152"
            ],
            [
             0.1,
             "#c51b7d"
            ],
            [
             0.2,
             "#de77ae"
            ],
            [
             0.3,
             "#f1b6da"
            ],
            [
             0.4,
             "#fde0ef"
            ],
            [
             0.5,
             "#f7f7f7"
            ],
            [
             0.6,
             "#e6f5d0"
            ],
            [
             0.7,
             "#b8e186"
            ],
            [
             0.8,
             "#7fbc41"
            ],
            [
             0.9,
             "#4d9221"
            ],
            [
             1,
             "#276419"
            ]
           ],
           "sequential": [
            [
             0,
             "#0d0887"
            ],
            [
             0.1111111111111111,
             "#46039f"
            ],
            [
             0.2222222222222222,
             "#7201a8"
            ],
            [
             0.3333333333333333,
             "#9c179e"
            ],
            [
             0.4444444444444444,
             "#bd3786"
            ],
            [
             0.5555555555555556,
             "#d8576b"
            ],
            [
             0.6666666666666666,
             "#ed7953"
            ],
            [
             0.7777777777777778,
             "#fb9f3a"
            ],
            [
             0.8888888888888888,
             "#fdca26"
            ],
            [
             1,
             "#f0f921"
            ]
           ],
           "sequentialminus": [
            [
             0,
             "#0d0887"
            ],
            [
             0.1111111111111111,
             "#46039f"
            ],
            [
             0.2222222222222222,
             "#7201a8"
            ],
            [
             0.3333333333333333,
             "#9c179e"
            ],
            [
             0.4444444444444444,
             "#bd3786"
            ],
            [
             0.5555555555555556,
             "#d8576b"
            ],
            [
             0.6666666666666666,
             "#ed7953"
            ],
            [
             0.7777777777777778,
             "#fb9f3a"
            ],
            [
             0.8888888888888888,
             "#fdca26"
            ],
            [
             1,
             "#f0f921"
            ]
           ]
          },
          "colorway": [
           "#636efa",
           "#EF553B",
           "#00cc96",
           "#ab63fa",
           "#FFA15A",
           "#19d3f3",
           "#FF6692",
           "#B6E880",
           "#FF97FF",
           "#FECB52"
          ],
          "font": {
           "color": "#2a3f5f"
          },
          "geo": {
           "bgcolor": "white",
           "lakecolor": "white",
           "landcolor": "#E5ECF6",
           "showlakes": true,
           "showland": true,
           "subunitcolor": "white"
          },
          "hoverlabel": {
           "align": "left"
          },
          "hovermode": "closest",
          "mapbox": {
           "style": "light"
          },
          "paper_bgcolor": "white",
          "plot_bgcolor": "#E5ECF6",
          "polar": {
           "angularaxis": {
            "gridcolor": "white",
            "linecolor": "white",
            "ticks": ""
           },
           "bgcolor": "#E5ECF6",
           "radialaxis": {
            "gridcolor": "white",
            "linecolor": "white",
            "ticks": ""
           }
          },
          "scene": {
           "xaxis": {
            "backgroundcolor": "#E5ECF6",
            "gridcolor": "white",
            "gridwidth": 2,
            "linecolor": "white",
            "showbackground": true,
            "ticks": "",
            "zerolinecolor": "white"
           },
           "yaxis": {
            "backgroundcolor": "#E5ECF6",
            "gridcolor": "white",
            "gridwidth": 2,
            "linecolor": "white",
            "showbackground": true,
            "ticks": "",
            "zerolinecolor": "white"
           },
           "zaxis": {
            "backgroundcolor": "#E5ECF6",
            "gridcolor": "white",
            "gridwidth": 2,
            "linecolor": "white",
            "showbackground": true,
            "ticks": "",
            "zerolinecolor": "white"
           }
          },
          "shapedefaults": {
           "line": {
            "color": "#2a3f5f"
           }
          },
          "ternary": {
           "aaxis": {
            "gridcolor": "white",
            "linecolor": "white",
            "ticks": ""
           },
           "baxis": {
            "gridcolor": "white",
            "linecolor": "white",
            "ticks": ""
           },
           "bgcolor": "#E5ECF6",
           "caxis": {
            "gridcolor": "white",
            "linecolor": "white",
            "ticks": ""
           }
          },
          "title": {
           "x": 0.05
          },
          "xaxis": {
           "automargin": true,
           "gridcolor": "white",
           "linecolor": "white",
           "ticks": "",
           "title": {
            "standoff": 15
           },
           "zerolinecolor": "white",
           "zerolinewidth": 2
          },
          "yaxis": {
           "automargin": true,
           "gridcolor": "white",
           "linecolor": "white",
           "ticks": "",
           "title": {
            "standoff": 15
           },
           "zerolinecolor": "white",
           "zerolinewidth": 2
          }
         }
        },
        "title": {
         "text": "Number of non-zero values by volume filtered"
        },
        "xaxis": {
         "anchor": "y",
         "domain": [
          0,
          1
         ],
         "title": {
          "text": "Volume filtered (m3)"
         }
        },
        "yaxis": {
         "anchor": "x",
         "domain": [
          0,
          1
         ],
         "title": {
          "text": "sum of Number of non-zero values"
         }
        }
       }
      }
     },
     "metadata": {},
     "output_type": "display_data"
    }
   ],
   "source": [
    "px.histogram(\n",
    "    x=data[\"Volume Filtered(m3)\"],\n",
    "    y=nb_zeros,\n",
    "    title=\"Number of non-zero values by volume filtered\",\n",
    "    labels=dict(x=\"Volume filtered (m3)\", y=\"Number of non-zero values\"),\n",
    "    nbins=100,\n",
    ")\n"
   ]
  },
  {
   "cell_type": "markdown",
   "metadata": {},
   "source": [
    "## Aggregate by taxa group\n",
    "\n",
    "---\n"
   ]
  },
  {
   "cell_type": "code",
   "execution_count": 41,
   "metadata": {},
   "outputs": [
    {
     "data": {
      "text/plain": [
       "{'benthos': ['ANNE:POLY: >> POLY larvae s1'],\n",
       " 'crustacean': ['ARCR'],\n",
       " 'chaetognatha': ['CHAE'],\n",
       " 'small_gelatinous': ['CNID', 'CTEN'],\n",
       " 'larvacean': ['LARV'],\n",
       " 'thaliacea': ['THAL'],\n",
       " 'pteropods': ['MOGA:PTER'],\n",
       " 'others': ['ECHI',\n",
       "  'ECTO',\n",
       "  'MOCE',\n",
       "  'MOGA:HETE',\n",
       "  'MOLL',\n",
       "  'PROT',\n",
       "  'PISC',\n",
       "  'XXXX']}"
      ]
     },
     "execution_count": 41,
     "metadata": {},
     "output_type": "execute_result"
    }
   ],
   "source": [
    "taxa_groups"
   ]
  },
  {
   "cell_type": "code",
   "execution_count": 42,
   "metadata": {},
   "outputs": [],
   "source": [
    "res = {}\n",
    "for k, v in taxa_groups.items():\n",
    "    nested_list = [data.columns[[vv in col for col in data.columns]] for vv in v]\n",
    "    flat_list = [item for sublist in nested_list for item in sublist]\n",
    "    res[k] = flat_list"
   ]
  },
  {
   "cell_type": "code",
   "execution_count": 43,
   "metadata": {},
   "outputs": [
    {
     "data": {
      "text/html": [
       "<div>\n",
       "<style scoped>\n",
       "    .dataframe tbody tr th:only-of-type {\n",
       "        vertical-align: middle;\n",
       "    }\n",
       "\n",
       "    .dataframe tbody tr th {\n",
       "        vertical-align: top;\n",
       "    }\n",
       "\n",
       "    .dataframe thead th {\n",
       "        text-align: right;\n",
       "    }\n",
       "</style>\n",
       "<table border=\"1\" class=\"dataframe\">\n",
       "  <thead>\n",
       "    <tr style=\"text-align: right;\">\n",
       "      <th></th>\n",
       "      <th>time</th>\n",
       "      <th>lat</th>\n",
       "      <th>lon</th>\n",
       "      <th>is_day</th>\n",
       "      <th>mesh_size</th>\n",
       "      <th>depth</th>\n",
       "      <th>volume_filtered</th>\n",
       "      <th>benthos</th>\n",
       "      <th>crustacean</th>\n",
       "      <th>chaetognatha</th>\n",
       "      <th>small_gelatinous</th>\n",
       "      <th>larvacean</th>\n",
       "      <th>thaliacea</th>\n",
       "      <th>pteropods</th>\n",
       "      <th>others</th>\n",
       "      <th>total</th>\n",
       "    </tr>\n",
       "  </thead>\n",
       "  <tbody>\n",
       "    <tr>\n",
       "      <th>0</th>\n",
       "      <td>1995-09-24</td>\n",
       "      <td>49.820</td>\n",
       "      <td>-128.563</td>\n",
       "      <td>Daylight</td>\n",
       "      <td>236.0</td>\n",
       "      <td>246.0</td>\n",
       "      <td>86.33</td>\n",
       "      <td>0.0</td>\n",
       "      <td>14.24295</td>\n",
       "      <td>2.54984</td>\n",
       "      <td>1.93420</td>\n",
       "      <td>0.03966</td>\n",
       "      <td>0.00000</td>\n",
       "      <td>1.18244</td>\n",
       "      <td>0.13928</td>\n",
       "      <td>20.08837</td>\n",
       "    </tr>\n",
       "    <tr>\n",
       "      <th>1</th>\n",
       "      <td>1995-09-24</td>\n",
       "      <td>49.820</td>\n",
       "      <td>-128.563</td>\n",
       "      <td>Night</td>\n",
       "      <td>236.0</td>\n",
       "      <td>50.0</td>\n",
       "      <td>36.09</td>\n",
       "      <td>0.0</td>\n",
       "      <td>29.86960</td>\n",
       "      <td>2.66833</td>\n",
       "      <td>6.63730</td>\n",
       "      <td>0.07093</td>\n",
       "      <td>0.00000</td>\n",
       "      <td>0.00000</td>\n",
       "      <td>4.31805</td>\n",
       "      <td>43.56421</td>\n",
       "    </tr>\n",
       "    <tr>\n",
       "      <th>2</th>\n",
       "      <td>1995-09-25</td>\n",
       "      <td>49.560</td>\n",
       "      <td>-128.259</td>\n",
       "      <td>Daylight</td>\n",
       "      <td>236.0</td>\n",
       "      <td>247.0</td>\n",
       "      <td>113.58</td>\n",
       "      <td>0.0</td>\n",
       "      <td>6.69830</td>\n",
       "      <td>3.16646</td>\n",
       "      <td>0.00000</td>\n",
       "      <td>0.00563</td>\n",
       "      <td>0.00000</td>\n",
       "      <td>0.07184</td>\n",
       "      <td>0.09656</td>\n",
       "      <td>10.03879</td>\n",
       "    </tr>\n",
       "    <tr>\n",
       "      <th>3</th>\n",
       "      <td>1995-09-25</td>\n",
       "      <td>49.560</td>\n",
       "      <td>-128.259</td>\n",
       "      <td>Night</td>\n",
       "      <td>236.0</td>\n",
       "      <td>49.0</td>\n",
       "      <td>24.77</td>\n",
       "      <td>0.0</td>\n",
       "      <td>36.23745</td>\n",
       "      <td>1.39943</td>\n",
       "      <td>2.21558</td>\n",
       "      <td>0.00000</td>\n",
       "      <td>0.00000</td>\n",
       "      <td>0.54905</td>\n",
       "      <td>0.97751</td>\n",
       "      <td>41.37902</td>\n",
       "    </tr>\n",
       "    <tr>\n",
       "      <th>4</th>\n",
       "      <td>1995-09-25</td>\n",
       "      <td>49.670</td>\n",
       "      <td>-128.075</td>\n",
       "      <td>Night</td>\n",
       "      <td>236.0</td>\n",
       "      <td>235.0</td>\n",
       "      <td>69.70</td>\n",
       "      <td>0.0</td>\n",
       "      <td>10.62110</td>\n",
       "      <td>3.38267</td>\n",
       "      <td>0.76872</td>\n",
       "      <td>0.01240</td>\n",
       "      <td>0.00000</td>\n",
       "      <td>0.62439</td>\n",
       "      <td>0.41474</td>\n",
       "      <td>15.82402</td>\n",
       "    </tr>\n",
       "    <tr>\n",
       "      <th>...</th>\n",
       "      <td>...</td>\n",
       "      <td>...</td>\n",
       "      <td>...</td>\n",
       "      <td>...</td>\n",
       "      <td>...</td>\n",
       "      <td>...</td>\n",
       "      <td>...</td>\n",
       "      <td>...</td>\n",
       "      <td>...</td>\n",
       "      <td>...</td>\n",
       "      <td>...</td>\n",
       "      <td>...</td>\n",
       "      <td>...</td>\n",
       "      <td>...</td>\n",
       "      <td>...</td>\n",
       "      <td>...</td>\n",
       "    </tr>\n",
       "    <tr>\n",
       "      <th>1072</th>\n",
       "      <td>2020-08-17</td>\n",
       "      <td>49.283</td>\n",
       "      <td>-134.667</td>\n",
       "      <td>Night</td>\n",
       "      <td>236.0</td>\n",
       "      <td>250.0</td>\n",
       "      <td>59.84</td>\n",
       "      <td>0.0</td>\n",
       "      <td>27.80584</td>\n",
       "      <td>3.73822</td>\n",
       "      <td>4.67863</td>\n",
       "      <td>0.00000</td>\n",
       "      <td>0.01070</td>\n",
       "      <td>0.08155</td>\n",
       "      <td>2.16578</td>\n",
       "      <td>38.48072</td>\n",
       "    </tr>\n",
       "    <tr>\n",
       "      <th>1073</th>\n",
       "      <td>2020-08-18</td>\n",
       "      <td>49.569</td>\n",
       "      <td>-138.666</td>\n",
       "      <td>Night</td>\n",
       "      <td>236.0</td>\n",
       "      <td>250.0</td>\n",
       "      <td>67.40</td>\n",
       "      <td>0.0</td>\n",
       "      <td>30.44516</td>\n",
       "      <td>8.03965</td>\n",
       "      <td>3.21958</td>\n",
       "      <td>0.00000</td>\n",
       "      <td>0.13353</td>\n",
       "      <td>0.04658</td>\n",
       "      <td>1.28917</td>\n",
       "      <td>43.17367</td>\n",
       "    </tr>\n",
       "    <tr>\n",
       "      <th>1074</th>\n",
       "      <td>2020-08-20</td>\n",
       "      <td>50.000</td>\n",
       "      <td>-145.000</td>\n",
       "      <td>Night</td>\n",
       "      <td>236.0</td>\n",
       "      <td>250.0</td>\n",
       "      <td>65.52</td>\n",
       "      <td>0.0</td>\n",
       "      <td>26.65790</td>\n",
       "      <td>5.02856</td>\n",
       "      <td>3.90876</td>\n",
       "      <td>0.15629</td>\n",
       "      <td>9.00122</td>\n",
       "      <td>0.45086</td>\n",
       "      <td>4.63833</td>\n",
       "      <td>49.84192</td>\n",
       "    </tr>\n",
       "    <tr>\n",
       "      <th>1075</th>\n",
       "      <td>2020-08-30</td>\n",
       "      <td>50.463</td>\n",
       "      <td>-129.916</td>\n",
       "      <td>Daylight</td>\n",
       "      <td>236.0</td>\n",
       "      <td>250.0</td>\n",
       "      <td>61.95</td>\n",
       "      <td>0.0</td>\n",
       "      <td>6.76577</td>\n",
       "      <td>3.16848</td>\n",
       "      <td>0.50268</td>\n",
       "      <td>0.63018</td>\n",
       "      <td>0.00000</td>\n",
       "      <td>0.13172</td>\n",
       "      <td>6.15743</td>\n",
       "      <td>17.35626</td>\n",
       "    </tr>\n",
       "    <tr>\n",
       "      <th>1076</th>\n",
       "      <td>2020-08-31</td>\n",
       "      <td>50.938</td>\n",
       "      <td>-129.979</td>\n",
       "      <td>Daylight</td>\n",
       "      <td>236.0</td>\n",
       "      <td>250.0</td>\n",
       "      <td>87.33</td>\n",
       "      <td>0.0</td>\n",
       "      <td>10.01403</td>\n",
       "      <td>3.54534</td>\n",
       "      <td>0.79404</td>\n",
       "      <td>0.27849</td>\n",
       "      <td>0.23818</td>\n",
       "      <td>0.12458</td>\n",
       "      <td>0.05559</td>\n",
       "      <td>15.05025</td>\n",
       "    </tr>\n",
       "  </tbody>\n",
       "</table>\n",
       "<p>1077 rows × 16 columns</p>\n",
       "</div>"
      ],
      "text/plain": [
       "           time     lat      lon    is_day  mesh_size  depth  volume_filtered  \\\n",
       "0    1995-09-24  49.820 -128.563  Daylight      236.0  246.0            86.33   \n",
       "1    1995-09-24  49.820 -128.563     Night      236.0   50.0            36.09   \n",
       "2    1995-09-25  49.560 -128.259  Daylight      236.0  247.0           113.58   \n",
       "3    1995-09-25  49.560 -128.259     Night      236.0   49.0            24.77   \n",
       "4    1995-09-25  49.670 -128.075     Night      236.0  235.0            69.70   \n",
       "...         ...     ...      ...       ...        ...    ...              ...   \n",
       "1072 2020-08-17  49.283 -134.667     Night      236.0  250.0            59.84   \n",
       "1073 2020-08-18  49.569 -138.666     Night      236.0  250.0            67.40   \n",
       "1074 2020-08-20  50.000 -145.000     Night      236.0  250.0            65.52   \n",
       "1075 2020-08-30  50.463 -129.916  Daylight      236.0  250.0            61.95   \n",
       "1076 2020-08-31  50.938 -129.979  Daylight      236.0  250.0            87.33   \n",
       "\n",
       "      benthos  crustacean  chaetognatha  small_gelatinous  larvacean  \\\n",
       "0         0.0    14.24295       2.54984           1.93420    0.03966   \n",
       "1         0.0    29.86960       2.66833           6.63730    0.07093   \n",
       "2         0.0     6.69830       3.16646           0.00000    0.00563   \n",
       "3         0.0    36.23745       1.39943           2.21558    0.00000   \n",
       "4         0.0    10.62110       3.38267           0.76872    0.01240   \n",
       "...       ...         ...           ...               ...        ...   \n",
       "1072      0.0    27.80584       3.73822           4.67863    0.00000   \n",
       "1073      0.0    30.44516       8.03965           3.21958    0.00000   \n",
       "1074      0.0    26.65790       5.02856           3.90876    0.15629   \n",
       "1075      0.0     6.76577       3.16848           0.50268    0.63018   \n",
       "1076      0.0    10.01403       3.54534           0.79404    0.27849   \n",
       "\n",
       "      thaliacea  pteropods   others     total  \n",
       "0       0.00000    1.18244  0.13928  20.08837  \n",
       "1       0.00000    0.00000  4.31805  43.56421  \n",
       "2       0.00000    0.07184  0.09656  10.03879  \n",
       "3       0.00000    0.54905  0.97751  41.37902  \n",
       "4       0.00000    0.62439  0.41474  15.82402  \n",
       "...         ...        ...      ...       ...  \n",
       "1072    0.01070    0.08155  2.16578  38.48072  \n",
       "1073    0.13353    0.04658  1.28917  43.17367  \n",
       "1074    9.00122    0.45086  4.63833  49.84192  \n",
       "1075    0.00000    0.13172  6.15743  17.35626  \n",
       "1076    0.23818    0.12458  0.05559  15.05025  \n",
       "\n",
       "[1077 rows x 16 columns]"
      ]
     },
     "execution_count": 43,
     "metadata": {},
     "output_type": "execute_result"
    }
   ],
   "source": [
    "final_data = pd.merge(\n",
    "    index,\n",
    "    pd.DataFrame({k: data.loc[:, v].sum(1) for k, v in res.items()}),\n",
    "    left_index=True,\n",
    "    right_index=True,\n",
    ")\n",
    "final_data = final_data.rename(\n",
    "    columns={\n",
    "        \"Twilight\": \"is_day\",\n",
    "        \"Mesh_Size(um)\": \"mesh_size\",\n",
    "        \"Volume Filtered(m3)\": \"volume_filtered\",\n",
    "        \"DEPTH_STRT\": \"depth\",\n",
    "    }\n",
    ").drop(columns=\"DEPTH_END\")\n",
    "final_data[\"total\"] = final_data[[k for k in taxa_groups.keys()]].sum(1)\n",
    "final_data"
   ]
  },
  {
   "cell_type": "markdown",
   "metadata": {},
   "source": [
    "## Aggregate by depth and space\n",
    "\n",
    "---\n"
   ]
  },
  {
   "cell_type": "code",
   "execution_count": 44,
   "metadata": {},
   "outputs": [
    {
     "data": {
      "text/html": [
       "<div>\n",
       "<style scoped>\n",
       "    .dataframe tbody tr th:only-of-type {\n",
       "        vertical-align: middle;\n",
       "    }\n",
       "\n",
       "    .dataframe tbody tr th {\n",
       "        vertical-align: top;\n",
       "    }\n",
       "\n",
       "    .dataframe thead th {\n",
       "        text-align: right;\n",
       "    }\n",
       "</style>\n",
       "<table border=\"1\" class=\"dataframe\">\n",
       "  <thead>\n",
       "    <tr style=\"text-align: right;\">\n",
       "      <th></th>\n",
       "      <th>time</th>\n",
       "      <th>lat</th>\n",
       "      <th>lon</th>\n",
       "      <th>is_day</th>\n",
       "      <th>mesh_size</th>\n",
       "      <th>depth</th>\n",
       "      <th>volume_filtered</th>\n",
       "      <th>benthos</th>\n",
       "      <th>crustacean</th>\n",
       "      <th>chaetognatha</th>\n",
       "      <th>small_gelatinous</th>\n",
       "      <th>larvacean</th>\n",
       "      <th>thaliacea</th>\n",
       "      <th>pteropods</th>\n",
       "      <th>others</th>\n",
       "      <th>total</th>\n",
       "    </tr>\n",
       "  </thead>\n",
       "  <tbody>\n",
       "    <tr>\n",
       "      <th>0</th>\n",
       "      <td>1995-09-24</td>\n",
       "      <td>49.5</td>\n",
       "      <td>-128.5</td>\n",
       "      <td>Daylight</td>\n",
       "      <td>236.0</td>\n",
       "      <td>250</td>\n",
       "      <td>86.33</td>\n",
       "      <td>0.0</td>\n",
       "      <td>14.24295</td>\n",
       "      <td>2.54984</td>\n",
       "      <td>1.93420</td>\n",
       "      <td>0.03966</td>\n",
       "      <td>0.00000</td>\n",
       "      <td>1.18244</td>\n",
       "      <td>0.13928</td>\n",
       "      <td>20.08837</td>\n",
       "    </tr>\n",
       "    <tr>\n",
       "      <th>1</th>\n",
       "      <td>1995-09-24</td>\n",
       "      <td>49.5</td>\n",
       "      <td>-128.5</td>\n",
       "      <td>Night</td>\n",
       "      <td>236.0</td>\n",
       "      <td>50</td>\n",
       "      <td>36.09</td>\n",
       "      <td>0.0</td>\n",
       "      <td>29.86960</td>\n",
       "      <td>2.66833</td>\n",
       "      <td>6.63730</td>\n",
       "      <td>0.07093</td>\n",
       "      <td>0.00000</td>\n",
       "      <td>0.00000</td>\n",
       "      <td>4.31805</td>\n",
       "      <td>43.56421</td>\n",
       "    </tr>\n",
       "    <tr>\n",
       "      <th>2</th>\n",
       "      <td>1995-09-25</td>\n",
       "      <td>49.5</td>\n",
       "      <td>-128.5</td>\n",
       "      <td>Daylight</td>\n",
       "      <td>236.0</td>\n",
       "      <td>250</td>\n",
       "      <td>113.58</td>\n",
       "      <td>0.0</td>\n",
       "      <td>6.69830</td>\n",
       "      <td>3.16646</td>\n",
       "      <td>0.00000</td>\n",
       "      <td>0.00563</td>\n",
       "      <td>0.00000</td>\n",
       "      <td>0.07184</td>\n",
       "      <td>0.09656</td>\n",
       "      <td>10.03879</td>\n",
       "    </tr>\n",
       "    <tr>\n",
       "      <th>3</th>\n",
       "      <td>1995-09-25</td>\n",
       "      <td>49.5</td>\n",
       "      <td>-128.5</td>\n",
       "      <td>Night</td>\n",
       "      <td>236.0</td>\n",
       "      <td>50</td>\n",
       "      <td>24.77</td>\n",
       "      <td>0.0</td>\n",
       "      <td>36.23745</td>\n",
       "      <td>1.39943</td>\n",
       "      <td>2.21558</td>\n",
       "      <td>0.00000</td>\n",
       "      <td>0.00000</td>\n",
       "      <td>0.54905</td>\n",
       "      <td>0.97751</td>\n",
       "      <td>41.37902</td>\n",
       "    </tr>\n",
       "    <tr>\n",
       "      <th>4</th>\n",
       "      <td>1995-09-25</td>\n",
       "      <td>49.5</td>\n",
       "      <td>-128.5</td>\n",
       "      <td>Night</td>\n",
       "      <td>236.0</td>\n",
       "      <td>250</td>\n",
       "      <td>69.70</td>\n",
       "      <td>0.0</td>\n",
       "      <td>10.62110</td>\n",
       "      <td>3.38267</td>\n",
       "      <td>0.76872</td>\n",
       "      <td>0.01240</td>\n",
       "      <td>0.00000</td>\n",
       "      <td>0.62439</td>\n",
       "      <td>0.41474</td>\n",
       "      <td>15.82402</td>\n",
       "    </tr>\n",
       "    <tr>\n",
       "      <th>...</th>\n",
       "      <td>...</td>\n",
       "      <td>...</td>\n",
       "      <td>...</td>\n",
       "      <td>...</td>\n",
       "      <td>...</td>\n",
       "      <td>...</td>\n",
       "      <td>...</td>\n",
       "      <td>...</td>\n",
       "      <td>...</td>\n",
       "      <td>...</td>\n",
       "      <td>...</td>\n",
       "      <td>...</td>\n",
       "      <td>...</td>\n",
       "      <td>...</td>\n",
       "      <td>...</td>\n",
       "      <td>...</td>\n",
       "    </tr>\n",
       "    <tr>\n",
       "      <th>1072</th>\n",
       "      <td>2020-08-17</td>\n",
       "      <td>49.5</td>\n",
       "      <td>-134.5</td>\n",
       "      <td>Night</td>\n",
       "      <td>236.0</td>\n",
       "      <td>250</td>\n",
       "      <td>59.84</td>\n",
       "      <td>0.0</td>\n",
       "      <td>27.80584</td>\n",
       "      <td>3.73822</td>\n",
       "      <td>4.67863</td>\n",
       "      <td>0.00000</td>\n",
       "      <td>0.01070</td>\n",
       "      <td>0.08155</td>\n",
       "      <td>2.16578</td>\n",
       "      <td>38.48072</td>\n",
       "    </tr>\n",
       "    <tr>\n",
       "      <th>1073</th>\n",
       "      <td>2020-08-18</td>\n",
       "      <td>49.5</td>\n",
       "      <td>-138.5</td>\n",
       "      <td>Night</td>\n",
       "      <td>236.0</td>\n",
       "      <td>250</td>\n",
       "      <td>67.40</td>\n",
       "      <td>0.0</td>\n",
       "      <td>30.44516</td>\n",
       "      <td>8.03965</td>\n",
       "      <td>3.21958</td>\n",
       "      <td>0.00000</td>\n",
       "      <td>0.13353</td>\n",
       "      <td>0.04658</td>\n",
       "      <td>1.28917</td>\n",
       "      <td>43.17367</td>\n",
       "    </tr>\n",
       "    <tr>\n",
       "      <th>1074</th>\n",
       "      <td>2020-08-20</td>\n",
       "      <td>49.5</td>\n",
       "      <td>-145.5</td>\n",
       "      <td>Night</td>\n",
       "      <td>236.0</td>\n",
       "      <td>250</td>\n",
       "      <td>65.52</td>\n",
       "      <td>0.0</td>\n",
       "      <td>26.65790</td>\n",
       "      <td>5.02856</td>\n",
       "      <td>3.90876</td>\n",
       "      <td>0.15629</td>\n",
       "      <td>9.00122</td>\n",
       "      <td>0.45086</td>\n",
       "      <td>4.63833</td>\n",
       "      <td>49.84192</td>\n",
       "    </tr>\n",
       "    <tr>\n",
       "      <th>1075</th>\n",
       "      <td>2020-08-30</td>\n",
       "      <td>50.5</td>\n",
       "      <td>-129.5</td>\n",
       "      <td>Daylight</td>\n",
       "      <td>236.0</td>\n",
       "      <td>250</td>\n",
       "      <td>61.95</td>\n",
       "      <td>0.0</td>\n",
       "      <td>6.76577</td>\n",
       "      <td>3.16848</td>\n",
       "      <td>0.50268</td>\n",
       "      <td>0.63018</td>\n",
       "      <td>0.00000</td>\n",
       "      <td>0.13172</td>\n",
       "      <td>6.15743</td>\n",
       "      <td>17.35626</td>\n",
       "    </tr>\n",
       "    <tr>\n",
       "      <th>1076</th>\n",
       "      <td>2020-08-31</td>\n",
       "      <td>50.5</td>\n",
       "      <td>-129.5</td>\n",
       "      <td>Daylight</td>\n",
       "      <td>236.0</td>\n",
       "      <td>250</td>\n",
       "      <td>87.33</td>\n",
       "      <td>0.0</td>\n",
       "      <td>10.01403</td>\n",
       "      <td>3.54534</td>\n",
       "      <td>0.79404</td>\n",
       "      <td>0.27849</td>\n",
       "      <td>0.23818</td>\n",
       "      <td>0.12458</td>\n",
       "      <td>0.05559</td>\n",
       "      <td>15.05025</td>\n",
       "    </tr>\n",
       "  </tbody>\n",
       "</table>\n",
       "<p>1077 rows × 16 columns</p>\n",
       "</div>"
      ],
      "text/plain": [
       "           time   lat    lon    is_day  mesh_size depth  volume_filtered  \\\n",
       "0    1995-09-24  49.5 -128.5  Daylight      236.0   250            86.33   \n",
       "1    1995-09-24  49.5 -128.5     Night      236.0    50            36.09   \n",
       "2    1995-09-25  49.5 -128.5  Daylight      236.0   250           113.58   \n",
       "3    1995-09-25  49.5 -128.5     Night      236.0    50            24.77   \n",
       "4    1995-09-25  49.5 -128.5     Night      236.0   250            69.70   \n",
       "...         ...   ...    ...       ...        ...   ...              ...   \n",
       "1072 2020-08-17  49.5 -134.5     Night      236.0   250            59.84   \n",
       "1073 2020-08-18  49.5 -138.5     Night      236.0   250            67.40   \n",
       "1074 2020-08-20  49.5 -145.5     Night      236.0   250            65.52   \n",
       "1075 2020-08-30  50.5 -129.5  Daylight      236.0   250            61.95   \n",
       "1076 2020-08-31  50.5 -129.5  Daylight      236.0   250            87.33   \n",
       "\n",
       "      benthos  crustacean  chaetognatha  small_gelatinous  larvacean  \\\n",
       "0         0.0    14.24295       2.54984           1.93420    0.03966   \n",
       "1         0.0    29.86960       2.66833           6.63730    0.07093   \n",
       "2         0.0     6.69830       3.16646           0.00000    0.00563   \n",
       "3         0.0    36.23745       1.39943           2.21558    0.00000   \n",
       "4         0.0    10.62110       3.38267           0.76872    0.01240   \n",
       "...       ...         ...           ...               ...        ...   \n",
       "1072      0.0    27.80584       3.73822           4.67863    0.00000   \n",
       "1073      0.0    30.44516       8.03965           3.21958    0.00000   \n",
       "1074      0.0    26.65790       5.02856           3.90876    0.15629   \n",
       "1075      0.0     6.76577       3.16848           0.50268    0.63018   \n",
       "1076      0.0    10.01403       3.54534           0.79404    0.27849   \n",
       "\n",
       "      thaliacea  pteropods   others     total  \n",
       "0       0.00000    1.18244  0.13928  20.08837  \n",
       "1       0.00000    0.00000  4.31805  43.56421  \n",
       "2       0.00000    0.07184  0.09656  10.03879  \n",
       "3       0.00000    0.54905  0.97751  41.37902  \n",
       "4       0.00000    0.62439  0.41474  15.82402  \n",
       "...         ...        ...      ...       ...  \n",
       "1072    0.01070    0.08155  2.16578  38.48072  \n",
       "1073    0.13353    0.04658  1.28917  43.17367  \n",
       "1074    9.00122    0.45086  4.63833  49.84192  \n",
       "1075    0.00000    0.13172  6.15743  17.35626  \n",
       "1076    0.23818    0.12458  0.05559  15.05025  \n",
       "\n",
       "[1077 rows x 16 columns]"
      ]
     },
     "execution_count": 44,
     "metadata": {},
     "output_type": "execute_result"
    }
   ],
   "source": [
    "final_data[\"depth\"] = pd.cut(\n",
    "    final_data[\"depth\"],\n",
    "    bins=[0, 50, 100, 150, 200, 250, 300, 350, 400],\n",
    "    labels=[50, 100, 150, 200, 250, 300, 350, 400],\n",
    "    right=True,\n",
    ")\n",
    "\n",
    "final_data[\"lon\"] = pd.cut(\n",
    "    final_data[\"lon\"],\n",
    "    bins=np.arange(-158, -126, 1),\n",
    "    labels=np.arange(-157.5, -126.5, 1),\n",
    "    right=True,\n",
    ")\n",
    "\n",
    "final_data[\"lat\"] = pd.cut(\n",
    "    final_data[\"lat\"],\n",
    "    bins=np.arange(46, 59, 1),\n",
    "    labels=np.arange(46.5, 58.5, 1),\n",
    "    right=True,\n",
    ")\n",
    "\n",
    "final_data"
   ]
  },
  {
   "cell_type": "markdown",
   "metadata": {},
   "source": [
    "# Plot\n",
    "\n",
    "---\n"
   ]
  },
  {
   "cell_type": "code",
   "execution_count": 47,
   "metadata": {},
   "outputs": [
    {
     "name": "stderr",
     "output_type": "stream",
     "text": [
      "/home/sroyer/mambaforge/envs/seapopym_data/lib/python3.13/site-packages/sklearn/preprocessing/_data.py:2829: UserWarning:\n",
      "\n",
      "n_quantiles (1000) is greater than the total number of samples (106). n_quantiles is set to n_samples.\n",
      "\n"
     ]
    }
   ],
   "source": [
    "from sklearn import preprocessing\n",
    "\n",
    "data_to_plot = final_data.astype({\"lat\": \"float64\", \"lon\": \"float64\"})\n",
    "data_to_plot = data_to_plot.groupby([\"lat\", \"lon\"])[\"total\"].mean().reset_index()\n",
    "\n",
    "quantile_transformer = preprocessing.QuantileTransformer(random_state=0)\n",
    "\n",
    "data_to_plot[\"normalized_sizes\"] = quantile_transformer.fit_transform(\n",
    "    data_to_plot[[\"total\"]]\n",
    ")"
   ]
  },
  {
   "cell_type": "code",
   "execution_count": 50,
   "metadata": {},
   "outputs": [
    {
     "data": {
      "text/html": [
       "<script type=\"esms-options\">{\"shimMode\": true}</script><style>*[data-root-id],\n",
       "*[data-root-id] > * {\n",
       "  box-sizing: border-box;\n",
       "  font-family: var(--jp-ui-font-family);\n",
       "  font-size: var(--jp-ui-font-size1);\n",
       "  color: var(--vscode-editor-foreground, var(--jp-ui-font-color1));\n",
       "}\n",
       "\n",
       "/* Override VSCode background color */\n",
       ".cell-output-ipywidget-background:has(\n",
       "    > .cell-output-ipywidget-background > .lm-Widget > *[data-root-id]\n",
       "  ),\n",
       ".cell-output-ipywidget-background:has(> .lm-Widget > *[data-root-id]) {\n",
       "  background-color: transparent !important;\n",
       "}\n",
       "</style>"
      ]
     },
     "metadata": {},
     "output_type": "display_data"
    },
    {
     "data": {
      "application/javascript": "(function(root) {\n  function now() {\n    return new Date();\n  }\n\n  const force = true;\n  const py_version = '3.7.0'.replace('rc', '-rc.').replace('.dev', '-dev.');\n  const reloading = false;\n  const Bokeh = root.Bokeh;\n\n  // Set a timeout for this load but only if we are not already initializing\n  if (typeof (root._bokeh_timeout) === \"undefined\" || (force || !root._bokeh_is_initializing)) {\n    root._bokeh_timeout = Date.now() + 5000;\n    root._bokeh_failed_load = false;\n  }\n\n  function run_callbacks() {\n    try {\n      root._bokeh_onload_callbacks.forEach(function(callback) {\n        if (callback != null)\n          callback();\n      });\n    } finally {\n      delete root._bokeh_onload_callbacks;\n    }\n    console.debug(\"Bokeh: all callbacks have finished\");\n  }\n\n  function load_libs(css_urls, js_urls, js_modules, js_exports, callback) {\n    if (css_urls == null) css_urls = [];\n    if (js_urls == null) js_urls = [];\n    if (js_modules == null) js_modules = [];\n    if (js_exports == null) js_exports = {};\n\n    root._bokeh_onload_callbacks.push(callback);\n\n    if (root._bokeh_is_loading > 0) {\n      // Don't load bokeh if it is still initializing\n      console.debug(\"Bokeh: BokehJS is being loaded, scheduling callback at\", now());\n      return null;\n    } else if (js_urls.length === 0 && js_modules.length === 0 && Object.keys(js_exports).length === 0) {\n      // There is nothing to load\n      run_callbacks();\n      return null;\n    }\n\n    function on_load() {\n      root._bokeh_is_loading--;\n      if (root._bokeh_is_loading === 0) {\n        console.debug(\"Bokeh: all BokehJS libraries/stylesheets loaded\");\n        run_callbacks()\n      }\n    }\n    window._bokeh_on_load = on_load\n\n    function on_error(e) {\n      const src_el = e.srcElement\n      console.error(\"failed to load \" + (src_el.href || src_el.src));\n    }\n\n    const skip = [];\n    if (window.requirejs) {\n      window.requirejs.config({'packages': {}, 'paths': {}, 'shim': {}});\n      root._bokeh_is_loading = css_urls.length + 0;\n    } else {\n      root._bokeh_is_loading = css_urls.length + js_urls.length + js_modules.length + Object.keys(js_exports).length;\n    }\n\n    const existing_stylesheets = []\n    const links = document.getElementsByTagName('link')\n    for (let i = 0; i < links.length; i++) {\n      const link = links[i]\n      if (link.href != null) {\n        existing_stylesheets.push(link.href)\n      }\n    }\n    for (let i = 0; i < css_urls.length; i++) {\n      const url = css_urls[i];\n      const escaped = encodeURI(url)\n      if (existing_stylesheets.indexOf(escaped) !== -1) {\n        on_load()\n        continue;\n      }\n      const element = document.createElement(\"link\");\n      element.onload = on_load;\n      element.onerror = on_error;\n      element.rel = \"stylesheet\";\n      element.type = \"text/css\";\n      element.href = url;\n      console.debug(\"Bokeh: injecting link tag for BokehJS stylesheet: \", url);\n      document.body.appendChild(element);\n    }    var existing_scripts = []\n    const scripts = document.getElementsByTagName('script')\n    for (let i = 0; i < scripts.length; i++) {\n      var script = scripts[i]\n      if (script.src != null) {\n        existing_scripts.push(script.src)\n      }\n    }\n    for (let i = 0; i < js_urls.length; i++) {\n      const url = js_urls[i];\n      const escaped = encodeURI(url)\n      if (skip.indexOf(escaped) !== -1 || existing_scripts.indexOf(escaped) !== -1) {\n        if (!window.requirejs) {\n          on_load();\n        }\n        continue;\n      }\n      const element = document.createElement('script');\n      element.onload = on_load;\n      element.onerror = on_error;\n      element.async = false;\n      element.src = url;\n      console.debug(\"Bokeh: injecting script tag for BokehJS library: \", url);\n      document.head.appendChild(element);\n    }\n    for (let i = 0; i < js_modules.length; i++) {\n      const url = js_modules[i];\n      const escaped = encodeURI(url)\n      if (skip.indexOf(escaped) !== -1 || existing_scripts.indexOf(escaped) !== -1) {\n        if (!window.requirejs) {\n          on_load();\n        }\n        continue;\n      }\n      var element = document.createElement('script');\n      element.onload = on_load;\n      element.onerror = on_error;\n      element.async = false;\n      element.src = url;\n      element.type = \"module\";\n      console.debug(\"Bokeh: injecting script tag for BokehJS library: \", url);\n      document.head.appendChild(element);\n    }\n    for (const name in js_exports) {\n      const url = js_exports[name];\n      const escaped = encodeURI(url)\n      if (skip.indexOf(escaped) >= 0 || root[name] != null) {\n        if (!window.requirejs) {\n          on_load();\n        }\n        continue;\n      }\n      var element = document.createElement('script');\n      element.onerror = on_error;\n      element.async = false;\n      element.type = \"module\";\n      console.debug(\"Bokeh: injecting script tag for BokehJS library: \", url);\n      element.textContent = `\n      import ${name} from \"${url}\"\n      window.${name} = ${name}\n      window._bokeh_on_load()\n      `\n      document.head.appendChild(element);\n    }\n    if (!js_urls.length && !js_modules.length) {\n      on_load()\n    }\n  };\n\n  function inject_raw_css(css) {\n    const element = document.createElement(\"style\");\n    element.appendChild(document.createTextNode(css));\n    document.body.appendChild(element);\n  }\n\n  const js_urls = [\"https://cdn.holoviz.org/panel/1.6.2-b.1/dist/bundled/reactiveesm/es-module-shims@^1.10.0/dist/es-module-shims.min.js\", \"https://cdn.bokeh.org/bokeh/release/bokeh-3.7.0.min.js\", \"https://cdn.bokeh.org/bokeh/release/bokeh-gl-3.7.0.min.js\", \"https://cdn.bokeh.org/bokeh/release/bokeh-widgets-3.7.0.min.js\", \"https://cdn.bokeh.org/bokeh/release/bokeh-tables-3.7.0.min.js\", \"https://cdn.holoviz.org/panel/1.6.2-b.1/dist/panel.min.js\"];\n  const js_modules = [];\n  const js_exports = {};\n  const css_urls = [];\n  const inline_js = [    function(Bokeh) {\n      Bokeh.set_log_level(\"info\");\n    },\nfunction(Bokeh) {} // ensure no trailing comma for IE\n  ];\n\n  function run_inline_js() {\n    if ((root.Bokeh !== undefined) || (force === true)) {\n      for (let i = 0; i < inline_js.length; i++) {\n        try {\n          inline_js[i].call(root, root.Bokeh);\n        } catch(e) {\n          if (!reloading) {\n            throw e;\n          }\n        }\n      }\n      // Cache old bokeh versions\n      if (Bokeh != undefined && !reloading) {\n        var NewBokeh = root.Bokeh;\n        if (Bokeh.versions === undefined) {\n          Bokeh.versions = new Map();\n        }\n        if (NewBokeh.version !== Bokeh.version) {\n          Bokeh.versions.set(NewBokeh.version, NewBokeh)\n        }\n        root.Bokeh = Bokeh;\n      }\n    } else if (Date.now() < root._bokeh_timeout) {\n      setTimeout(run_inline_js, 100);\n    } else if (!root._bokeh_failed_load) {\n      console.log(\"Bokeh: BokehJS failed to load within specified timeout.\");\n      root._bokeh_failed_load = true;\n    }\n    root._bokeh_is_initializing = false\n  }\n\n  function load_or_wait() {\n    // Implement a backoff loop that tries to ensure we do not load multiple\n    // versions of Bokeh and its dependencies at the same time.\n    // In recent versions we use the root._bokeh_is_initializing flag\n    // to determine whether there is an ongoing attempt to initialize\n    // bokeh, however for backward compatibility we also try to ensure\n    // that we do not start loading a newer (Panel>=1.0 and Bokeh>3) version\n    // before older versions are fully initialized.\n    if (root._bokeh_is_initializing && Date.now() > root._bokeh_timeout) {\n      // If the timeout and bokeh was not successfully loaded we reset\n      // everything and try loading again\n      root._bokeh_timeout = Date.now() + 5000;\n      root._bokeh_is_initializing = false;\n      root._bokeh_onload_callbacks = undefined;\n      root._bokeh_is_loading = 0\n      console.log(\"Bokeh: BokehJS was loaded multiple times but one version failed to initialize.\");\n      load_or_wait();\n    } else if (root._bokeh_is_initializing || (typeof root._bokeh_is_initializing === \"undefined\" && root._bokeh_onload_callbacks !== undefined)) {\n      setTimeout(load_or_wait, 100);\n    } else {\n      root._bokeh_is_initializing = true\n      root._bokeh_onload_callbacks = []\n      const bokeh_loaded = root.Bokeh != null && (root.Bokeh.version === py_version || (root.Bokeh.versions !== undefined && root.Bokeh.versions.has(py_version)));\n      if (!reloading && !bokeh_loaded) {\n        if (root.Bokeh) {\n          root.Bokeh = undefined;\n        }\n        console.debug(\"Bokeh: BokehJS not loaded, scheduling load and callback at\", now());\n      }\n      load_libs(css_urls, js_urls, js_modules, js_exports, function() {\n        console.debug(\"Bokeh: BokehJS plotting callback run at\", now());\n        run_inline_js();\n      });\n    }\n  }\n  // Give older versions of the autoload script a head-start to ensure\n  // they initialize before we start loading newer version.\n  setTimeout(load_or_wait, 100)\n}(window));",
      "application/vnd.holoviews_load.v0+json": ""
     },
     "metadata": {},
     "output_type": "display_data"
    },
    {
     "data": {
      "application/javascript": "\nif ((window.PyViz === undefined) || (window.PyViz instanceof HTMLElement)) {\n  window.PyViz = {comms: {}, comm_status:{}, kernels:{}, receivers: {}, plot_index: []}\n}\n\n\n    function JupyterCommManager() {\n    }\n\n    JupyterCommManager.prototype.register_target = function(plot_id, comm_id, msg_handler) {\n      if (window.comm_manager || ((window.Jupyter !== undefined) && (Jupyter.notebook.kernel != null))) {\n        var comm_manager = window.comm_manager || Jupyter.notebook.kernel.comm_manager;\n        comm_manager.register_target(comm_id, function(comm) {\n          comm.on_msg(msg_handler);\n        });\n      } else if ((plot_id in window.PyViz.kernels) && (window.PyViz.kernels[plot_id])) {\n        window.PyViz.kernels[plot_id].registerCommTarget(comm_id, function(comm) {\n          comm.onMsg = msg_handler;\n        });\n      } else if (typeof google != 'undefined' && google.colab.kernel != null) {\n        google.colab.kernel.comms.registerTarget(comm_id, (comm) => {\n          var messages = comm.messages[Symbol.asyncIterator]();\n          function processIteratorResult(result) {\n            var message = result.value;\n            console.log(message)\n            var content = {data: message.data, comm_id};\n            var buffers = []\n            for (var buffer of message.buffers || []) {\n              buffers.push(new DataView(buffer))\n            }\n            var metadata = message.metadata || {};\n            var msg = {content, buffers, metadata}\n            msg_handler(msg);\n            return messages.next().then(processIteratorResult);\n          }\n          return messages.next().then(processIteratorResult);\n        })\n      }\n    }\n\n    JupyterCommManager.prototype.get_client_comm = function(plot_id, comm_id, msg_handler) {\n      if (comm_id in window.PyViz.comms) {\n        return window.PyViz.comms[comm_id];\n      } else if (window.comm_manager || ((window.Jupyter !== undefined) && (Jupyter.notebook.kernel != null))) {\n        var comm_manager = window.comm_manager || Jupyter.notebook.kernel.comm_manager;\n        var comm = comm_manager.new_comm(comm_id, {}, {}, {}, comm_id);\n        if (msg_handler) {\n          comm.on_msg(msg_handler);\n        }\n      } else if ((plot_id in window.PyViz.kernels) && (window.PyViz.kernels[plot_id])) {\n        var comm = window.PyViz.kernels[plot_id].connectToComm(comm_id);\n        comm.open();\n        if (msg_handler) {\n          comm.onMsg = msg_handler;\n        }\n      } else if (typeof google != 'undefined' && google.colab.kernel != null) {\n        var comm_promise = google.colab.kernel.comms.open(comm_id)\n        comm_promise.then((comm) => {\n          window.PyViz.comms[comm_id] = comm;\n          if (msg_handler) {\n            var messages = comm.messages[Symbol.asyncIterator]();\n            function processIteratorResult(result) {\n              var message = result.value;\n              var content = {data: message.data};\n              var metadata = message.metadata || {comm_id};\n              var msg = {content, metadata}\n              msg_handler(msg);\n              return messages.next().then(processIteratorResult);\n            }\n            return messages.next().then(processIteratorResult);\n          }\n        })\n        var sendClosure = (data, metadata, buffers, disposeOnDone) => {\n          return comm_promise.then((comm) => {\n            comm.send(data, metadata, buffers, disposeOnDone);\n          });\n        };\n        var comm = {\n          send: sendClosure\n        };\n      }\n      window.PyViz.comms[comm_id] = comm;\n      return comm;\n    }\n    window.PyViz.comm_manager = new JupyterCommManager();\n    \n\n\nvar JS_MIME_TYPE = 'application/javascript';\nvar HTML_MIME_TYPE = 'text/html';\nvar EXEC_MIME_TYPE = 'application/vnd.holoviews_exec.v0+json';\nvar CLASS_NAME = 'output';\n\n/**\n * Render data to the DOM node\n */\nfunction render(props, node) {\n  var div = document.createElement(\"div\");\n  var script = document.createElement(\"script\");\n  node.appendChild(div);\n  node.appendChild(script);\n}\n\n/**\n * Handle when a new output is added\n */\nfunction handle_add_output(event, handle) {\n  var output_area = handle.output_area;\n  var output = handle.output;\n  if ((output.data == undefined) || (!output.data.hasOwnProperty(EXEC_MIME_TYPE))) {\n    return\n  }\n  var id = output.metadata[EXEC_MIME_TYPE][\"id\"];\n  var toinsert = output_area.element.find(\".\" + CLASS_NAME.split(' ')[0]);\n  if (id !== undefined) {\n    var nchildren = toinsert.length;\n    var html_node = toinsert[nchildren-1].children[0];\n    html_node.innerHTML = output.data[HTML_MIME_TYPE];\n    var scripts = [];\n    var nodelist = html_node.querySelectorAll(\"script\");\n    for (var i in nodelist) {\n      if (nodelist.hasOwnProperty(i)) {\n        scripts.push(nodelist[i])\n      }\n    }\n\n    scripts.forEach( function (oldScript) {\n      var newScript = document.createElement(\"script\");\n      var attrs = [];\n      var nodemap = oldScript.attributes;\n      for (var j in nodemap) {\n        if (nodemap.hasOwnProperty(j)) {\n          attrs.push(nodemap[j])\n        }\n      }\n      attrs.forEach(function(attr) { newScript.setAttribute(attr.name, attr.value) });\n      newScript.appendChild(document.createTextNode(oldScript.innerHTML));\n      oldScript.parentNode.replaceChild(newScript, oldScript);\n    });\n    if (JS_MIME_TYPE in output.data) {\n      toinsert[nchildren-1].children[1].textContent = output.data[JS_MIME_TYPE];\n    }\n    output_area._hv_plot_id = id;\n    if ((window.Bokeh !== undefined) && (id in Bokeh.index)) {\n      window.PyViz.plot_index[id] = Bokeh.index[id];\n    } else {\n      window.PyViz.plot_index[id] = null;\n    }\n  } else if (output.metadata[EXEC_MIME_TYPE][\"server_id\"] !== undefined) {\n    var bk_div = document.createElement(\"div\");\n    bk_div.innerHTML = output.data[HTML_MIME_TYPE];\n    var script_attrs = bk_div.children[0].attributes;\n    for (var i = 0; i < script_attrs.length; i++) {\n      toinsert[toinsert.length - 1].childNodes[1].setAttribute(script_attrs[i].name, script_attrs[i].value);\n    }\n    // store reference to server id on output_area\n    output_area._bokeh_server_id = output.metadata[EXEC_MIME_TYPE][\"server_id\"];\n  }\n}\n\n/**\n * Handle when an output is cleared or removed\n */\nfunction handle_clear_output(event, handle) {\n  var id = handle.cell.output_area._hv_plot_id;\n  var server_id = handle.cell.output_area._bokeh_server_id;\n  if (((id === undefined) || !(id in PyViz.plot_index)) && (server_id !== undefined)) { return; }\n  var comm = window.PyViz.comm_manager.get_client_comm(\"hv-extension-comm\", \"hv-extension-comm\", function () {});\n  if (server_id !== null) {\n    comm.send({event_type: 'server_delete', 'id': server_id});\n    return;\n  } else if (comm !== null) {\n    comm.send({event_type: 'delete', 'id': id});\n  }\n  delete PyViz.plot_index[id];\n  if ((window.Bokeh !== undefined) & (id in window.Bokeh.index)) {\n    var doc = window.Bokeh.index[id].model.document\n    doc.clear();\n    const i = window.Bokeh.documents.indexOf(doc);\n    if (i > -1) {\n      window.Bokeh.documents.splice(i, 1);\n    }\n  }\n}\n\n/**\n * Handle kernel restart event\n */\nfunction handle_kernel_cleanup(event, handle) {\n  delete PyViz.comms[\"hv-extension-comm\"];\n  window.PyViz.plot_index = {}\n}\n\n/**\n * Handle update_display_data messages\n */\nfunction handle_update_output(event, handle) {\n  handle_clear_output(event, {cell: {output_area: handle.output_area}})\n  handle_add_output(event, handle)\n}\n\nfunction register_renderer(events, OutputArea) {\n  function append_mime(data, metadata, element) {\n    // create a DOM node to render to\n    var toinsert = this.create_output_subarea(\n    metadata,\n    CLASS_NAME,\n    EXEC_MIME_TYPE\n    );\n    this.keyboard_manager.register_events(toinsert);\n    // Render to node\n    var props = {data: data, metadata: metadata[EXEC_MIME_TYPE]};\n    render(props, toinsert[0]);\n    element.append(toinsert);\n    return toinsert\n  }\n\n  events.on('output_added.OutputArea', handle_add_output);\n  events.on('output_updated.OutputArea', handle_update_output);\n  events.on('clear_output.CodeCell', handle_clear_output);\n  events.on('delete.Cell', handle_clear_output);\n  events.on('kernel_ready.Kernel', handle_kernel_cleanup);\n\n  OutputArea.prototype.register_mime_type(EXEC_MIME_TYPE, append_mime, {\n    safe: true,\n    index: 0\n  });\n}\n\nif (window.Jupyter !== undefined) {\n  try {\n    var events = require('base/js/events');\n    var OutputArea = require('notebook/js/outputarea').OutputArea;\n    if (OutputArea.prototype.mime_types().indexOf(EXEC_MIME_TYPE) == -1) {\n      register_renderer(events, OutputArea);\n    }\n  } catch(err) {\n  }\n}\n",
      "application/vnd.holoviews_load.v0+json": ""
     },
     "metadata": {},
     "output_type": "display_data"
    },
    {
     "data": {
      "application/vnd.holoviews_exec.v0+json": "",
      "text/html": [
       "<div id='2ad5285c-eeed-4578-8cb4-ef1d0ad720a1'>\n",
       "  <div id=\"c4f4eb11-02f4-43d7-82f3-e86b1aaf5354\" data-root-id=\"2ad5285c-eeed-4578-8cb4-ef1d0ad720a1\" style=\"display: contents;\"></div>\n",
       "</div>\n",
       "<script type=\"application/javascript\">(function(root) {\n",
       "  var docs_json = {\"eaf89774-6dd7-4170-8521-1a81be6b62a5\":{\"version\":\"3.7.0\",\"title\":\"Bokeh Application\",\"roots\":[{\"type\":\"object\",\"name\":\"panel.models.browser.BrowserInfo\",\"id\":\"2ad5285c-eeed-4578-8cb4-ef1d0ad720a1\"},{\"type\":\"object\",\"name\":\"panel.models.comm_manager.CommManager\",\"id\":\"edf5156f-367f-49d7-bc2b-d9a3a9f51129\",\"attributes\":{\"plot_id\":\"2ad5285c-eeed-4578-8cb4-ef1d0ad720a1\",\"comm_id\":\"a1060d26d7254c8bbe2ef5ffd635274d\",\"client_comm_id\":\"ed275de11ea648f382791a52424aeca5\"}}],\"defs\":[{\"type\":\"model\",\"name\":\"ReactiveHTML1\"},{\"type\":\"model\",\"name\":\"FlexBox1\",\"properties\":[{\"name\":\"align_content\",\"kind\":\"Any\",\"default\":\"flex-start\"},{\"name\":\"align_items\",\"kind\":\"Any\",\"default\":\"flex-start\"},{\"name\":\"flex_direction\",\"kind\":\"Any\",\"default\":\"row\"},{\"name\":\"flex_wrap\",\"kind\":\"Any\",\"default\":\"wrap\"},{\"name\":\"gap\",\"kind\":\"Any\",\"default\":\"\"},{\"name\":\"justify_content\",\"kind\":\"Any\",\"default\":\"flex-start\"}]},{\"type\":\"model\",\"name\":\"FloatPanel1\",\"properties\":[{\"name\":\"config\",\"kind\":\"Any\",\"default\":{\"type\":\"map\"}},{\"name\":\"contained\",\"kind\":\"Any\",\"default\":true},{\"name\":\"position\",\"kind\":\"Any\",\"default\":\"right-top\"},{\"name\":\"offsetx\",\"kind\":\"Any\",\"default\":null},{\"name\":\"offsety\",\"kind\":\"Any\",\"default\":null},{\"name\":\"theme\",\"kind\":\"Any\",\"default\":\"primary\"},{\"name\":\"status\",\"kind\":\"Any\",\"default\":\"normalized\"}]},{\"type\":\"model\",\"name\":\"GridStack1\",\"properties\":[{\"name\":\"ncols\",\"kind\":\"Any\",\"default\":null},{\"name\":\"nrows\",\"kind\":\"Any\",\"default\":null},{\"name\":\"allow_resize\",\"kind\":\"Any\",\"default\":true},{\"name\":\"allow_drag\",\"kind\":\"Any\",\"default\":true},{\"name\":\"state\",\"kind\":\"Any\",\"default\":[]}]},{\"type\":\"model\",\"name\":\"drag1\",\"properties\":[{\"name\":\"slider_width\",\"kind\":\"Any\",\"default\":5},{\"name\":\"slider_color\",\"kind\":\"Any\",\"default\":\"black\"},{\"name\":\"value\",\"kind\":\"Any\",\"default\":50}]},{\"type\":\"model\",\"name\":\"click1\",\"properties\":[{\"name\":\"terminal_output\",\"kind\":\"Any\",\"default\":\"\"},{\"name\":\"debug_name\",\"kind\":\"Any\",\"default\":\"\"},{\"name\":\"clears\",\"kind\":\"Any\",\"default\":0}]},{\"type\":\"model\",\"name\":\"FastWrapper1\",\"properties\":[{\"name\":\"object\",\"kind\":\"Any\",\"default\":null},{\"name\":\"style\",\"kind\":\"Any\",\"default\":null}]},{\"type\":\"model\",\"name\":\"NotificationArea1\",\"properties\":[{\"name\":\"js_events\",\"kind\":\"Any\",\"default\":{\"type\":\"map\"}},{\"name\":\"max_notifications\",\"kind\":\"Any\",\"default\":5},{\"name\":\"notifications\",\"kind\":\"Any\",\"default\":[]},{\"name\":\"position\",\"kind\":\"Any\",\"default\":\"bottom-right\"},{\"name\":\"_clear\",\"kind\":\"Any\",\"default\":0},{\"name\":\"types\",\"kind\":\"Any\",\"default\":[{\"type\":\"map\",\"entries\":[[\"type\",\"warning\"],[\"background\",\"#ffc107\"],[\"icon\",{\"type\":\"map\",\"entries\":[[\"className\",\"fas fa-exclamation-triangle\"],[\"tagName\",\"i\"],[\"color\",\"white\"]]}]]},{\"type\":\"map\",\"entries\":[[\"type\",\"info\"],[\"background\",\"#007bff\"],[\"icon\",{\"type\":\"map\",\"entries\":[[\"className\",\"fas fa-info-circle\"],[\"tagName\",\"i\"],[\"color\",\"white\"]]}]]}]}]},{\"type\":\"model\",\"name\":\"Notification\",\"properties\":[{\"name\":\"background\",\"kind\":\"Any\",\"default\":null},{\"name\":\"duration\",\"kind\":\"Any\",\"default\":3000},{\"name\":\"icon\",\"kind\":\"Any\",\"default\":null},{\"name\":\"message\",\"kind\":\"Any\",\"default\":\"\"},{\"name\":\"notification_type\",\"kind\":\"Any\",\"default\":null},{\"name\":\"_rendered\",\"kind\":\"Any\",\"default\":false},{\"name\":\"_destroyed\",\"kind\":\"Any\",\"default\":false}]},{\"type\":\"model\",\"name\":\"TemplateActions1\",\"properties\":[{\"name\":\"open_modal\",\"kind\":\"Any\",\"default\":0},{\"name\":\"close_modal\",\"kind\":\"Any\",\"default\":0}]},{\"type\":\"model\",\"name\":\"BootstrapTemplateActions1\",\"properties\":[{\"name\":\"open_modal\",\"kind\":\"Any\",\"default\":0},{\"name\":\"close_modal\",\"kind\":\"Any\",\"default\":0}]},{\"type\":\"model\",\"name\":\"TemplateEditor1\",\"properties\":[{\"name\":\"layout\",\"kind\":\"Any\",\"default\":[]}]},{\"type\":\"model\",\"name\":\"MaterialTemplateActions1\",\"properties\":[{\"name\":\"open_modal\",\"kind\":\"Any\",\"default\":0},{\"name\":\"close_modal\",\"kind\":\"Any\",\"default\":0}]},{\"type\":\"model\",\"name\":\"ReactiveESM1\",\"properties\":[{\"name\":\"esm_constants\",\"kind\":\"Any\",\"default\":{\"type\":\"map\"}}]},{\"type\":\"model\",\"name\":\"JSComponent1\",\"properties\":[{\"name\":\"esm_constants\",\"kind\":\"Any\",\"default\":{\"type\":\"map\"}}]},{\"type\":\"model\",\"name\":\"ReactComponent1\",\"properties\":[{\"name\":\"esm_constants\",\"kind\":\"Any\",\"default\":{\"type\":\"map\"}}]},{\"type\":\"model\",\"name\":\"AnyWidgetComponent1\",\"properties\":[{\"name\":\"esm_constants\",\"kind\":\"Any\",\"default\":{\"type\":\"map\"}}]},{\"type\":\"model\",\"name\":\"request_value1\",\"properties\":[{\"name\":\"fill\",\"kind\":\"Any\",\"default\":\"none\"},{\"name\":\"_synced\",\"kind\":\"Any\",\"default\":null},{\"name\":\"_request_sync\",\"kind\":\"Any\",\"default\":0}]}]}};\n",
       "  var render_items = [{\"docid\":\"eaf89774-6dd7-4170-8521-1a81be6b62a5\",\"roots\":{\"2ad5285c-eeed-4578-8cb4-ef1d0ad720a1\":\"c4f4eb11-02f4-43d7-82f3-e86b1aaf5354\"},\"root_ids\":[\"2ad5285c-eeed-4578-8cb4-ef1d0ad720a1\"]}];\n",
       "  var docs = Object.values(docs_json)\n",
       "  if (!docs) {\n",
       "    return\n",
       "  }\n",
       "  const py_version = docs[0].version.replace('rc', '-rc.').replace('.dev', '-dev.')\n",
       "  async function embed_document(root) {\n",
       "    var Bokeh = get_bokeh(root)\n",
       "    await Bokeh.embed.embed_items_notebook(docs_json, render_items);\n",
       "    for (const render_item of render_items) {\n",
       "      for (const root_id of render_item.root_ids) {\n",
       "\tconst id_el = document.getElementById(root_id)\n",
       "\tif (id_el.children.length && id_el.children[0].hasAttribute('data-root-id')) {\n",
       "\t  const root_el = id_el.children[0]\n",
       "\t  root_el.id = root_el.id + '-rendered'\n",
       "\t  for (const child of root_el.children) {\n",
       "            // Ensure JupyterLab does not capture keyboard shortcuts\n",
       "            // see: https://jupyterlab.readthedocs.io/en/4.1.x/extension/notebook.html#keyboard-interaction-model\n",
       "\t    child.setAttribute('data-lm-suppress-shortcuts', 'true')\n",
       "\t  }\n",
       "\t}\n",
       "      }\n",
       "    }\n",
       "  }\n",
       "  function get_bokeh(root) {\n",
       "    if (root.Bokeh === undefined) {\n",
       "      return null\n",
       "    } else if (root.Bokeh.version !== py_version) {\n",
       "      if (root.Bokeh.versions === undefined || !root.Bokeh.versions.has(py_version)) {\n",
       "\treturn null\n",
       "      }\n",
       "      return root.Bokeh.versions.get(py_version);\n",
       "    } else if (root.Bokeh.version === py_version) {\n",
       "      return root.Bokeh\n",
       "    }\n",
       "    return null\n",
       "  }\n",
       "  function is_loaded(root) {\n",
       "    var Bokeh = get_bokeh(root)\n",
       "    return (Bokeh != null && Bokeh.Panel !== undefined)\n",
       "  }\n",
       "  if (is_loaded(root)) {\n",
       "    embed_document(root);\n",
       "  } else {\n",
       "    var attempts = 0;\n",
       "    var timer = setInterval(function(root) {\n",
       "      if (is_loaded(root)) {\n",
       "        clearInterval(timer);\n",
       "        embed_document(root);\n",
       "      } else if (document.readyState == \"complete\") {\n",
       "        attempts++;\n",
       "        if (attempts > 200) {\n",
       "          clearInterval(timer);\n",
       "\t  var Bokeh = get_bokeh(root)\n",
       "\t  if (Bokeh == null || Bokeh.Panel == null) {\n",
       "            console.warn(\"Panel: ERROR: Unable to run Panel code because Bokeh or Panel library is missing\");\n",
       "\t  } else {\n",
       "\t    console.warn(\"Panel: WARNING: Attempting to render but not all required libraries could be resolved.\")\n",
       "\t    embed_document(root)\n",
       "\t  }\n",
       "        }\n",
       "      }\n",
       "    }, 25, root)\n",
       "  }\n",
       "})(window);</script>"
      ]
     },
     "metadata": {
      "application/vnd.holoviews_exec.v0+json": {
       "id": "2ad5285c-eeed-4578-8cb4-ef1d0ad720a1"
      }
     },
     "output_type": "display_data"
    },
    {
     "ename": "ModuleNotFoundError",
     "evalue": "The `geoviews` package must be installed in order to use geographic features. Install it with pip or conda.",
     "output_type": "error",
     "traceback": [
      "\u001b[0;31m---------------------------------------------------------------------------\u001b[0m",
      "\u001b[0;31mModuleNotFoundError\u001b[0m                       Traceback (most recent call last)",
      "Cell \u001b[0;32mIn[50], line 3\u001b[0m\n\u001b[1;32m      1\u001b[0m \u001b[38;5;28;01mimport\u001b[39;00m\u001b[38;5;250m \u001b[39m\u001b[38;5;21;01mhvplot\u001b[39;00m\u001b[38;5;21;01m.\u001b[39;00m\u001b[38;5;21;01mpandas\u001b[39;00m\n\u001b[0;32m----> 3\u001b[0m \u001b[43mdata_to_plot\u001b[49m\u001b[38;5;241;43m.\u001b[39;49m\u001b[43msort_values\u001b[49m\u001b[43m(\u001b[49m\u001b[43mby\u001b[49m\u001b[38;5;241;43m=\u001b[39;49m\u001b[38;5;124;43m\"\u001b[39;49m\u001b[38;5;124;43mtotal\u001b[39;49m\u001b[38;5;124;43m\"\u001b[39;49m\u001b[43m)\u001b[49m\u001b[38;5;241;43m.\u001b[39;49m\u001b[43mhvplot\u001b[49m\u001b[38;5;241;43m.\u001b[39;49m\u001b[43mpoints\u001b[49m\u001b[43m(\u001b[49m\n\u001b[1;32m      4\u001b[0m \u001b[43m    \u001b[49m\u001b[43mx\u001b[49m\u001b[38;5;241;43m=\u001b[39;49m\u001b[38;5;124;43m\"\u001b[39;49m\u001b[38;5;124;43mlon\u001b[39;49m\u001b[38;5;124;43m\"\u001b[39;49m\u001b[43m,\u001b[49m\n\u001b[1;32m      5\u001b[0m \u001b[43m    \u001b[49m\u001b[43my\u001b[49m\u001b[38;5;241;43m=\u001b[39;49m\u001b[38;5;124;43m\"\u001b[39;49m\u001b[38;5;124;43mlat\u001b[39;49m\u001b[38;5;124;43m\"\u001b[39;49m\u001b[43m,\u001b[49m\n\u001b[1;32m      6\u001b[0m \u001b[43m    \u001b[49m\u001b[43mgeo\u001b[49m\u001b[38;5;241;43m=\u001b[39;49m\u001b[38;5;28;43;01mTrue\u001b[39;49;00m\u001b[43m,\u001b[49m\n\u001b[1;32m      7\u001b[0m \u001b[43m    \u001b[49m\u001b[43msize\u001b[49m\u001b[38;5;241;43m=\u001b[39;49m\u001b[43mdata_to_plot\u001b[49m\u001b[43m[\u001b[49m\u001b[38;5;124;43m\"\u001b[39;49m\u001b[38;5;124;43mnormalized_sizes\u001b[39;49m\u001b[38;5;124;43m\"\u001b[39;49m\u001b[43m]\u001b[49m\u001b[43m \u001b[49m\u001b[38;5;241;43m*\u001b[39;49m\u001b[43m \u001b[49m\u001b[38;5;241;43m100\u001b[39;49m\u001b[43m,\u001b[49m\n\u001b[1;32m      8\u001b[0m \u001b[43m    \u001b[49m\u001b[43mcolor\u001b[49m\u001b[38;5;241;43m=\u001b[39;49m\u001b[38;5;124;43m\"\u001b[39;49m\u001b[38;5;124;43mtotal\u001b[39;49m\u001b[38;5;124;43m\"\u001b[39;49m\u001b[43m,\u001b[49m\n\u001b[1;32m      9\u001b[0m \u001b[43m    \u001b[49m\u001b[43mcmap\u001b[49m\u001b[38;5;241;43m=\u001b[39;49m\u001b[38;5;124;43m\"\u001b[39;49m\u001b[38;5;124;43mYlOrRd\u001b[39;49m\u001b[38;5;124;43m\"\u001b[39;49m\u001b[43m,\u001b[49m\n\u001b[1;32m     10\u001b[0m \u001b[43m    \u001b[49m\u001b[43mcolorbar\u001b[49m\u001b[38;5;241;43m=\u001b[39;49m\u001b[38;5;28;43;01mTrue\u001b[39;49;00m\u001b[43m,\u001b[49m\n\u001b[1;32m     11\u001b[0m \u001b[43m    \u001b[49m\u001b[43mtiles\u001b[49m\u001b[38;5;241;43m=\u001b[39;49m\u001b[38;5;124;43m\"\u001b[39;49m\u001b[38;5;124;43mOSM\u001b[39;49m\u001b[38;5;124;43m\"\u001b[39;49m\u001b[43m,\u001b[49m\n\u001b[1;32m     12\u001b[0m \u001b[43m    \u001b[49m\u001b[43mtitle\u001b[49m\u001b[38;5;241;43m=\u001b[39;49m\u001b[38;5;124;43m\"\u001b[39;49m\u001b[38;5;124;43mZooplankton Distribution (mg/m3)\u001b[39;49m\u001b[38;5;124;43m\"\u001b[39;49m\u001b[43m,\u001b[49m\n\u001b[1;32m     13\u001b[0m \u001b[43m    \u001b[49m\u001b[43mxlabel\u001b[49m\u001b[38;5;241;43m=\u001b[39;49m\u001b[38;5;124;43m\"\u001b[39;49m\u001b[38;5;124;43mLongitude\u001b[39;49m\u001b[38;5;124;43m\"\u001b[39;49m\u001b[43m,\u001b[49m\n\u001b[1;32m     14\u001b[0m \u001b[43m    \u001b[49m\u001b[43mylabel\u001b[49m\u001b[38;5;241;43m=\u001b[39;49m\u001b[38;5;124;43m\"\u001b[39;49m\u001b[38;5;124;43mLatitude\u001b[39;49m\u001b[38;5;124;43m\"\u001b[39;49m\u001b[43m,\u001b[49m\n\u001b[1;32m     15\u001b[0m \u001b[43m    \u001b[49m\u001b[43mframe_width\u001b[49m\u001b[38;5;241;43m=\u001b[39;49m\u001b[38;5;241;43m800\u001b[39;49m\u001b[43m,\u001b[49m\n\u001b[1;32m     16\u001b[0m \u001b[43m    \u001b[49m\u001b[43mframe_height\u001b[49m\u001b[38;5;241;43m=\u001b[39;49m\u001b[38;5;241;43m400\u001b[39;49m\u001b[43m,\u001b[49m\n\u001b[1;32m     17\u001b[0m \u001b[43m)\u001b[49m\n",
      "File \u001b[0;32m~/mambaforge/envs/seapopym_data/lib/python3.13/site-packages/hvplot/plotting/core.py:1672\u001b[0m, in \u001b[0;36mhvPlotTabular.points\u001b[0;34m(self, x, y, **kwds)\u001b[0m\n\u001b[1;32m   1614\u001b[0m \u001b[38;5;28;01mdef\u001b[39;00m\u001b[38;5;250m \u001b[39m\u001b[38;5;21mpoints\u001b[39m(\u001b[38;5;28mself\u001b[39m, x\u001b[38;5;241m=\u001b[39m\u001b[38;5;28;01mNone\u001b[39;00m, y\u001b[38;5;241m=\u001b[39m\u001b[38;5;28;01mNone\u001b[39;00m, \u001b[38;5;241m*\u001b[39m\u001b[38;5;241m*\u001b[39mkwds):\n\u001b[1;32m   1615\u001b[0m \u001b[38;5;250m    \u001b[39m\u001b[38;5;124;03m\"\"\"\u001b[39;00m\n\u001b[1;32m   1616\u001b[0m \u001b[38;5;124;03m    A `points` plot visualizes positions in a 2D space. This is useful for example for\u001b[39;00m\n\u001b[1;32m   1617\u001b[0m \u001b[38;5;124;03m    geographic plots.\u001b[39;00m\n\u001b[0;32m   (...)\u001b[0m\n\u001b[1;32m   1670\u001b[0m \u001b[38;5;124;03m    - HoloViews: https://holoviews.org/reference/elements/bokeh/Points.html\u001b[39;00m\n\u001b[1;32m   1671\u001b[0m \u001b[38;5;124;03m    \"\"\"\u001b[39;00m\n\u001b[0;32m-> 1672\u001b[0m     \u001b[38;5;28;01mreturn\u001b[39;00m \u001b[38;5;28;43mself\u001b[39;49m\u001b[43m(\u001b[49m\u001b[43mx\u001b[49m\u001b[43m,\u001b[49m\u001b[43m \u001b[49m\u001b[43my\u001b[49m\u001b[43m,\u001b[49m\u001b[43m \u001b[49m\u001b[43mkind\u001b[49m\u001b[38;5;241;43m=\u001b[39;49m\u001b[38;5;124;43m'\u001b[39;49m\u001b[38;5;124;43mpoints\u001b[39;49m\u001b[38;5;124;43m'\u001b[39;49m\u001b[43m,\u001b[49m\u001b[43m \u001b[49m\u001b[38;5;241;43m*\u001b[39;49m\u001b[38;5;241;43m*\u001b[39;49m\u001b[43mkwds\u001b[49m\u001b[43m)\u001b[49m\n",
      "File \u001b[0;32m~/mambaforge/envs/seapopym_data/lib/python3.13/site-packages/hvplot/plotting/core.py:95\u001b[0m, in \u001b[0;36mhvPlotBase.__call__\u001b[0;34m(self, x, y, kind, **kwds)\u001b[0m\n\u001b[1;32m     92\u001b[0m         plot \u001b[38;5;241m=\u001b[39m \u001b[38;5;28mself\u001b[39m\u001b[38;5;241m.\u001b[39m_get_converter(x, y, kind, \u001b[38;5;241m*\u001b[39m\u001b[38;5;241m*\u001b[39mkwds)(kind, x, y)\n\u001b[1;32m     93\u001b[0m         \u001b[38;5;28;01mreturn\u001b[39;00m pn\u001b[38;5;241m.\u001b[39mpanel(plot, \u001b[38;5;241m*\u001b[39m\u001b[38;5;241m*\u001b[39mpanel_dict)\n\u001b[0;32m---> 95\u001b[0m \u001b[38;5;28;01mreturn\u001b[39;00m \u001b[38;5;28;43mself\u001b[39;49m\u001b[38;5;241;43m.\u001b[39;49m\u001b[43m_get_converter\u001b[49m\u001b[43m(\u001b[49m\u001b[43mx\u001b[49m\u001b[43m,\u001b[49m\u001b[43m \u001b[49m\u001b[43my\u001b[49m\u001b[43m,\u001b[49m\u001b[43m \u001b[49m\u001b[43mkind\u001b[49m\u001b[43m,\u001b[49m\u001b[43m \u001b[49m\u001b[38;5;241;43m*\u001b[39;49m\u001b[38;5;241;43m*\u001b[39;49m\u001b[43mkwds\u001b[49m\u001b[43m)\u001b[49m(kind, x, y)\n",
      "File \u001b[0;32m~/mambaforge/envs/seapopym_data/lib/python3.13/site-packages/hvplot/plotting/core.py:102\u001b[0m, in \u001b[0;36mhvPlotBase._get_converter\u001b[0;34m(self, x, y, kind, **kwds)\u001b[0m\n\u001b[1;32m    100\u001b[0m y \u001b[38;5;241m=\u001b[39m y \u001b[38;5;129;01mor\u001b[39;00m params\u001b[38;5;241m.\u001b[39mpop(\u001b[38;5;124m'\u001b[39m\u001b[38;5;124my\u001b[39m\u001b[38;5;124m'\u001b[39m, \u001b[38;5;28;01mNone\u001b[39;00m)\n\u001b[1;32m    101\u001b[0m kind \u001b[38;5;241m=\u001b[39m kind \u001b[38;5;129;01mor\u001b[39;00m params\u001b[38;5;241m.\u001b[39mpop(\u001b[38;5;124m'\u001b[39m\u001b[38;5;124mkind\u001b[39m\u001b[38;5;124m'\u001b[39m, \u001b[38;5;28;01mNone\u001b[39;00m)\n\u001b[0;32m--> 102\u001b[0m \u001b[38;5;28;01mreturn\u001b[39;00m \u001b[43mHoloViewsConverter\u001b[49m\u001b[43m(\u001b[49m\u001b[38;5;28;43mself\u001b[39;49m\u001b[38;5;241;43m.\u001b[39;49m\u001b[43m_data\u001b[49m\u001b[43m,\u001b[49m\u001b[43m \u001b[49m\u001b[43mx\u001b[49m\u001b[43m,\u001b[49m\u001b[43m \u001b[49m\u001b[43my\u001b[49m\u001b[43m,\u001b[49m\u001b[43m \u001b[49m\u001b[43mkind\u001b[49m\u001b[38;5;241;43m=\u001b[39;49m\u001b[43mkind\u001b[49m\u001b[43m,\u001b[49m\u001b[43m \u001b[49m\u001b[38;5;241;43m*\u001b[39;49m\u001b[38;5;241;43m*\u001b[39;49m\u001b[43mparams\u001b[49m\u001b[43m)\u001b[49m\n",
      "File \u001b[0;32m~/mambaforge/envs/seapopym_data/lib/python3.13/site-packages/hvplot/converter.py:653\u001b[0m, in \u001b[0;36mHoloViewsConverter.__init__\u001b[0;34m(self, data, x, y, kind, by, use_index, group_label, value_label, backlog, persist, use_dask, crs, fields, groupby, dynamic, grid, legend, rot, title, xlim, ylim, clim, robust, symmetric, logx, logy, loglog, hover, hover_cols, hover_formatters, hover_tooltips, subplots, label, invert, stacked, colorbar, cticks, datashade, rasterize, downsample, resample_when, row, col, debug, framewise, aggregator, projection, global_extent, geo, precompute, flip_xaxis, flip_yaxis, dynspread, x_sampling, y_sampling, pixel_ratio, project, tools, attr_labels, coastline, tiles, tiles_opts, sort_date, check_symmetric_max, transforms, stream, cnorm, features, rescale_discrete_levels, autorange, subcoordinate_y, **kwds)\u001b[0m\n\u001b[1;32m    651\u001b[0m \u001b[38;5;66;03m# Try importing geoviews if geo-features requested\u001b[39;00m\n\u001b[1;32m    652\u001b[0m \u001b[38;5;28;01mif\u001b[39;00m \u001b[38;5;28mself\u001b[39m\u001b[38;5;241m.\u001b[39mgeo \u001b[38;5;129;01mor\u001b[39;00m \u001b[38;5;28mself\u001b[39m\u001b[38;5;241m.\u001b[39mdatatype \u001b[38;5;241m==\u001b[39m \u001b[38;5;124m'\u001b[39m\u001b[38;5;124mgeopandas\u001b[39m\u001b[38;5;124m'\u001b[39m:\n\u001b[0;32m--> 653\u001b[0m     \u001b[43mimport_geoviews\u001b[49m\u001b[43m(\u001b[49m\u001b[43m)\u001b[49m\n\u001b[1;32m    655\u001b[0m \u001b[38;5;28mself\u001b[39m\u001b[38;5;241m.\u001b[39mcrs \u001b[38;5;241m=\u001b[39m \u001b[38;5;28mself\u001b[39m\u001b[38;5;241m.\u001b[39m_process_crs(data, crs) \u001b[38;5;28;01mif\u001b[39;00m \u001b[38;5;28mself\u001b[39m\u001b[38;5;241m.\u001b[39mgeo \u001b[38;5;28;01melse\u001b[39;00m \u001b[38;5;28;01mNone\u001b[39;00m\n\u001b[1;32m    656\u001b[0m \u001b[38;5;28mself\u001b[39m\u001b[38;5;241m.\u001b[39moutput_projection \u001b[38;5;241m=\u001b[39m \u001b[38;5;28mself\u001b[39m\u001b[38;5;241m.\u001b[39mcrs\n",
      "File \u001b[0;32m~/mambaforge/envs/seapopym_data/lib/python3.13/site-packages/hvplot/util.py:737\u001b[0m, in \u001b[0;36mimport_geoviews\u001b[0;34m()\u001b[0m\n\u001b[1;32m    735\u001b[0m     \u001b[38;5;28;01mimport\u001b[39;00m\u001b[38;5;250m \u001b[39m\u001b[38;5;21;01mgeoviews\u001b[39;00m\n\u001b[1;32m    736\u001b[0m \u001b[38;5;28;01mexcept\u001b[39;00m \u001b[38;5;167;01mModuleNotFoundError\u001b[39;00m:\n\u001b[0;32m--> 737\u001b[0m     \u001b[38;5;28;01mraise\u001b[39;00m \u001b[38;5;167;01mModuleNotFoundError\u001b[39;00m(\n\u001b[1;32m    738\u001b[0m         \u001b[38;5;124m'\u001b[39m\u001b[38;5;124mThe `geoviews` package must be installed in order to use \u001b[39m\u001b[38;5;124m'\u001b[39m\n\u001b[1;32m    739\u001b[0m         \u001b[38;5;124m'\u001b[39m\u001b[38;5;124mgeographic features. Install it with pip or conda.\u001b[39m\u001b[38;5;124m'\u001b[39m\n\u001b[1;32m    740\u001b[0m     ) \u001b[38;5;28;01mfrom\u001b[39;00m\u001b[38;5;250m \u001b[39m\u001b[38;5;28;01mNone\u001b[39;00m\n\u001b[1;32m    741\u001b[0m \u001b[38;5;28;01mreturn\u001b[39;00m geoviews\n",
      "\u001b[0;31mModuleNotFoundError\u001b[0m: The `geoviews` package must be installed in order to use geographic features. Install it with pip or conda."
     ]
    }
   ],
   "source": [
    "import hvplot.pandas\n",
    "\n",
    "data_to_plot.sort_values(by=\"total\").hvplot.points(\n",
    "    x=\"lon\",\n",
    "    y=\"lat\",\n",
    "    geo=True,\n",
    "    size=data_to_plot[\"normalized_sizes\"] * 100,\n",
    "    color=\"total\",\n",
    "    cmap=\"YlOrRd\",\n",
    "    colorbar=True,\n",
    "    tiles=\"OSM\",\n",
    "    title=\"Zooplankton Distribution (mg/m3)\",\n",
    "    xlabel=\"Longitude\",\n",
    "    ylabel=\"Latitude\",\n",
    "    frame_width=800,\n",
    "    frame_height=400,\n",
    ")\n"
   ]
  },
  {
   "cell_type": "markdown",
   "metadata": {},
   "source": [
    "## Produce preprocessed data\n",
    "\n",
    "---\n"
   ]
  },
  {
   "cell_type": "markdown",
   "metadata": {},
   "source": [
    "Group by tow and use the mean values. Use the size of the frac rather than the flag to represent the size of the zooplankton.\n"
   ]
  },
  {
   "cell_type": "code",
   "execution_count": 51,
   "metadata": {},
   "outputs": [
    {
     "name": "stdout",
     "output_type": "stream",
     "text": [
      "Index has duplicate keys: MultiIndex([('1995-09-25',    'Night',  50, 49.5, -128.5),\n",
      "            ('1997-02-21',    'Night', 150, 49.5, -145.5),\n",
      "            ('1997-03-29', 'Daylight', 150, 49.5, -141.5),\n",
      "            ('1997-03-29', 'Daylight', 200, 49.5, -141.5),\n",
      "            ('1997-06-16', 'Daylight', 150, 49.5, -145.5),\n",
      "            ('1997-07-03', 'Daylight', 150, 52.5, -149.5),\n",
      "            ('1997-07-05', 'Daylight', 150, 50.5, -145.5),\n",
      "            ('1997-07-06', 'Daylight', 150, 50.5, -144.5),\n",
      "            ('1997-07-07', 'Daylight', 150, 51.5, -145.5),\n",
      "            ('1997-07-08', 'Daylight', 150, 52.5, -144.5),\n",
      "            ...\n",
      "            ('2017-07-26',    'Night', 250, 49.5, -132.5),\n",
      "            ('2017-07-26', 'Daylight', 250, 50.5, -130.5),\n",
      "            ('2017-07-27',    'Night', 250, 50.5, -130.5),\n",
      "            ('2017-07-28', 'Daylight', 250, 50.5, -130.5),\n",
      "            ('2017-09-06', 'Daylight', 250, 50.5, -129.5),\n",
      "            ('2018-05-13', 'Daylight', 250, 49.5, -128.5),\n",
      "            ('2018-06-13', 'Daylight', 250, 50.5, -144.5),\n",
      "            ('2018-09-22', 'Daylight', 250, 50.5, -144.5),\n",
      "            ('2019-07-25', 'Daylight', 250, 47.5, -130.5),\n",
      "            ('2019-07-26', 'Daylight', 250, 48.5, -130.5)],\n",
      "           names=['time', 'is_day', 'depth', 'lat', 'lon'], length=131)\n"
     ]
    }
   ],
   "source": [
    "# This show that there are duplicates index when not grouped by tow\n",
    "\n",
    "try:\n",
    "    final_data.set_index(\n",
    "        [\"time\", \"is_day\", \"depth\", \"lat\", \"lon\"], verify_integrity=True\n",
    "    )\n",
    "except ValueError as e:\n",
    "    print(e)"
   ]
  },
  {
   "cell_type": "code",
   "execution_count": 52,
   "metadata": {},
   "outputs": [],
   "source": [
    "final_data[\"is_day\"] = final_data[\"is_day\"] == \"Daylight\""
   ]
  },
  {
   "cell_type": "code",
   "execution_count": 53,
   "metadata": {},
   "outputs": [
    {
     "name": "stderr",
     "output_type": "stream",
     "text": [
      "/tmp/ipykernel_252431/1681923462.py:2: FutureWarning:\n",
      "\n",
      "The default of observed=False is deprecated and will be changed to True in a future version of pandas. Pass observed=False to retain current behavior or observed=True to adopt the future default and silence this warning.\n",
      "\n"
     ]
    },
    {
     "name": "stdout",
     "output_type": "stream",
     "text": [
      "The history saving thread hit an unexpected error (OperationalError('disk I/O error')).History will not be written to the database.\n"
     ]
    },
    {
     "data": {
      "text/html": [
       "<div><svg style=\"position: absolute; width: 0; height: 0; overflow: hidden\">\n",
       "<defs>\n",
       "<symbol id=\"icon-database\" viewBox=\"0 0 32 32\">\n",
       "<path d=\"M16 0c-8.837 0-16 2.239-16 5v4c0 2.761 7.163 5 16 5s16-2.239 16-5v-4c0-2.761-7.163-5-16-5z\"></path>\n",
       "<path d=\"M16 17c-8.837 0-16-2.239-16-5v6c0 2.761 7.163 5 16 5s16-2.239 16-5v-6c0 2.761-7.163 5-16 5z\"></path>\n",
       "<path d=\"M16 26c-8.837 0-16-2.239-16-5v6c0 2.761 7.163 5 16 5s16-2.239 16-5v-6c0 2.761-7.163 5-16 5z\"></path>\n",
       "</symbol>\n",
       "<symbol id=\"icon-file-text2\" viewBox=\"0 0 32 32\">\n",
       "<path d=\"M28.681 7.159c-0.694-0.947-1.662-2.053-2.724-3.116s-2.169-2.030-3.116-2.724c-1.612-1.182-2.393-1.319-2.841-1.319h-15.5c-1.378 0-2.5 1.121-2.5 2.5v27c0 1.378 1.122 2.5 2.5 2.5h23c1.378 0 2.5-1.122 2.5-2.5v-19.5c0-0.448-0.137-1.23-1.319-2.841zM24.543 5.457c0.959 0.959 1.712 1.825 2.268 2.543h-4.811v-4.811c0.718 0.556 1.584 1.309 2.543 2.268zM28 29.5c0 0.271-0.229 0.5-0.5 0.5h-23c-0.271 0-0.5-0.229-0.5-0.5v-27c0-0.271 0.229-0.5 0.5-0.5 0 0 15.499-0 15.5 0v7c0 0.552 0.448 1 1 1h7v19.5z\"></path>\n",
       "<path d=\"M23 26h-14c-0.552 0-1-0.448-1-1s0.448-1 1-1h14c0.552 0 1 0.448 1 1s-0.448 1-1 1z\"></path>\n",
       "<path d=\"M23 22h-14c-0.552 0-1-0.448-1-1s0.448-1 1-1h14c0.552 0 1 0.448 1 1s-0.448 1-1 1z\"></path>\n",
       "<path d=\"M23 18h-14c-0.552 0-1-0.448-1-1s0.448-1 1-1h14c0.552 0 1 0.448 1 1s-0.448 1-1 1z\"></path>\n",
       "</symbol>\n",
       "</defs>\n",
       "</svg>\n",
       "<style>/* CSS stylesheet for displaying xarray objects in jupyterlab.\n",
       " *\n",
       " */\n",
       "\n",
       ":root {\n",
       "  --xr-font-color0: var(--jp-content-font-color0, rgba(0, 0, 0, 1));\n",
       "  --xr-font-color2: var(--jp-content-font-color2, rgba(0, 0, 0, 0.54));\n",
       "  --xr-font-color3: var(--jp-content-font-color3, rgba(0, 0, 0, 0.38));\n",
       "  --xr-border-color: var(--jp-border-color2, #e0e0e0);\n",
       "  --xr-disabled-color: var(--jp-layout-color3, #bdbdbd);\n",
       "  --xr-background-color: var(--jp-layout-color0, white);\n",
       "  --xr-background-color-row-even: var(--jp-layout-color1, white);\n",
       "  --xr-background-color-row-odd: var(--jp-layout-color2, #eeeeee);\n",
       "}\n",
       "\n",
       "html[theme=\"dark\"],\n",
       "html[data-theme=\"dark\"],\n",
       "body[data-theme=\"dark\"],\n",
       "body.vscode-dark {\n",
       "  --xr-font-color0: rgba(255, 255, 255, 1);\n",
       "  --xr-font-color2: rgba(255, 255, 255, 0.54);\n",
       "  --xr-font-color3: rgba(255, 255, 255, 0.38);\n",
       "  --xr-border-color: #1f1f1f;\n",
       "  --xr-disabled-color: #515151;\n",
       "  --xr-background-color: #111111;\n",
       "  --xr-background-color-row-even: #111111;\n",
       "  --xr-background-color-row-odd: #313131;\n",
       "}\n",
       "\n",
       ".xr-wrap {\n",
       "  display: block !important;\n",
       "  min-width: 300px;\n",
       "  max-width: 700px;\n",
       "}\n",
       "\n",
       ".xr-text-repr-fallback {\n",
       "  /* fallback to plain text repr when CSS is not injected (untrusted notebook) */\n",
       "  display: none;\n",
       "}\n",
       "\n",
       ".xr-header {\n",
       "  padding-top: 6px;\n",
       "  padding-bottom: 6px;\n",
       "  margin-bottom: 4px;\n",
       "  border-bottom: solid 1px var(--xr-border-color);\n",
       "}\n",
       "\n",
       ".xr-header > div,\n",
       ".xr-header > ul {\n",
       "  display: inline;\n",
       "  margin-top: 0;\n",
       "  margin-bottom: 0;\n",
       "}\n",
       "\n",
       ".xr-obj-type,\n",
       ".xr-array-name {\n",
       "  margin-left: 2px;\n",
       "  margin-right: 10px;\n",
       "}\n",
       "\n",
       ".xr-obj-type {\n",
       "  color: var(--xr-font-color2);\n",
       "}\n",
       "\n",
       ".xr-sections {\n",
       "  padding-left: 0 !important;\n",
       "  display: grid;\n",
       "  grid-template-columns: 150px auto auto 1fr 0 20px 0 20px;\n",
       "}\n",
       "\n",
       ".xr-section-item {\n",
       "  display: contents;\n",
       "}\n",
       "\n",
       ".xr-section-item input {\n",
       "  display: inline-block;\n",
       "  opacity: 0;\n",
       "  height: 0;\n",
       "}\n",
       "\n",
       ".xr-section-item input + label {\n",
       "  color: var(--xr-disabled-color);\n",
       "}\n",
       "\n",
       ".xr-section-item input:enabled + label {\n",
       "  cursor: pointer;\n",
       "  color: var(--xr-font-color2);\n",
       "}\n",
       "\n",
       ".xr-section-item input:focus + label {\n",
       "  border: 2px solid var(--xr-font-color0);\n",
       "}\n",
       "\n",
       ".xr-section-item input:enabled + label:hover {\n",
       "  color: var(--xr-font-color0);\n",
       "}\n",
       "\n",
       ".xr-section-summary {\n",
       "  grid-column: 1;\n",
       "  color: var(--xr-font-color2);\n",
       "  font-weight: 500;\n",
       "}\n",
       "\n",
       ".xr-section-summary > span {\n",
       "  display: inline-block;\n",
       "  padding-left: 0.5em;\n",
       "}\n",
       "\n",
       ".xr-section-summary-in:disabled + label {\n",
       "  color: var(--xr-font-color2);\n",
       "}\n",
       "\n",
       ".xr-section-summary-in + label:before {\n",
       "  display: inline-block;\n",
       "  content: \"►\";\n",
       "  font-size: 11px;\n",
       "  width: 15px;\n",
       "  text-align: center;\n",
       "}\n",
       "\n",
       ".xr-section-summary-in:disabled + label:before {\n",
       "  color: var(--xr-disabled-color);\n",
       "}\n",
       "\n",
       ".xr-section-summary-in:checked + label:before {\n",
       "  content: \"▼\";\n",
       "}\n",
       "\n",
       ".xr-section-summary-in:checked + label > span {\n",
       "  display: none;\n",
       "}\n",
       "\n",
       ".xr-section-summary,\n",
       ".xr-section-inline-details {\n",
       "  padding-top: 4px;\n",
       "  padding-bottom: 4px;\n",
       "}\n",
       "\n",
       ".xr-section-inline-details {\n",
       "  grid-column: 2 / -1;\n",
       "}\n",
       "\n",
       ".xr-section-details {\n",
       "  display: none;\n",
       "  grid-column: 1 / -1;\n",
       "  margin-bottom: 5px;\n",
       "}\n",
       "\n",
       ".xr-section-summary-in:checked ~ .xr-section-details {\n",
       "  display: contents;\n",
       "}\n",
       "\n",
       ".xr-array-wrap {\n",
       "  grid-column: 1 / -1;\n",
       "  display: grid;\n",
       "  grid-template-columns: 20px auto;\n",
       "}\n",
       "\n",
       ".xr-array-wrap > label {\n",
       "  grid-column: 1;\n",
       "  vertical-align: top;\n",
       "}\n",
       "\n",
       ".xr-preview {\n",
       "  color: var(--xr-font-color3);\n",
       "}\n",
       "\n",
       ".xr-array-preview,\n",
       ".xr-array-data {\n",
       "  padding: 0 5px !important;\n",
       "  grid-column: 2;\n",
       "}\n",
       "\n",
       ".xr-array-data,\n",
       ".xr-array-in:checked ~ .xr-array-preview {\n",
       "  display: none;\n",
       "}\n",
       "\n",
       ".xr-array-in:checked ~ .xr-array-data,\n",
       ".xr-array-preview {\n",
       "  display: inline-block;\n",
       "}\n",
       "\n",
       ".xr-dim-list {\n",
       "  display: inline-block !important;\n",
       "  list-style: none;\n",
       "  padding: 0 !important;\n",
       "  margin: 0;\n",
       "}\n",
       "\n",
       ".xr-dim-list li {\n",
       "  display: inline-block;\n",
       "  padding: 0;\n",
       "  margin: 0;\n",
       "}\n",
       "\n",
       ".xr-dim-list:before {\n",
       "  content: \"(\";\n",
       "}\n",
       "\n",
       ".xr-dim-list:after {\n",
       "  content: \")\";\n",
       "}\n",
       "\n",
       ".xr-dim-list li:not(:last-child):after {\n",
       "  content: \",\";\n",
       "  padding-right: 5px;\n",
       "}\n",
       "\n",
       ".xr-has-index {\n",
       "  font-weight: bold;\n",
       "}\n",
       "\n",
       ".xr-var-list,\n",
       ".xr-var-item {\n",
       "  display: contents;\n",
       "}\n",
       "\n",
       ".xr-var-item > div,\n",
       ".xr-var-item label,\n",
       ".xr-var-item > .xr-var-name span {\n",
       "  background-color: var(--xr-background-color-row-even);\n",
       "  margin-bottom: 0;\n",
       "}\n",
       "\n",
       ".xr-var-item > .xr-var-name:hover span {\n",
       "  padding-right: 5px;\n",
       "}\n",
       "\n",
       ".xr-var-list > li:nth-child(odd) > div,\n",
       ".xr-var-list > li:nth-child(odd) > label,\n",
       ".xr-var-list > li:nth-child(odd) > .xr-var-name span {\n",
       "  background-color: var(--xr-background-color-row-odd);\n",
       "}\n",
       "\n",
       ".xr-var-name {\n",
       "  grid-column: 1;\n",
       "}\n",
       "\n",
       ".xr-var-dims {\n",
       "  grid-column: 2;\n",
       "}\n",
       "\n",
       ".xr-var-dtype {\n",
       "  grid-column: 3;\n",
       "  text-align: right;\n",
       "  color: var(--xr-font-color2);\n",
       "}\n",
       "\n",
       ".xr-var-preview {\n",
       "  grid-column: 4;\n",
       "}\n",
       "\n",
       ".xr-index-preview {\n",
       "  grid-column: 2 / 5;\n",
       "  color: var(--xr-font-color2);\n",
       "}\n",
       "\n",
       ".xr-var-name,\n",
       ".xr-var-dims,\n",
       ".xr-var-dtype,\n",
       ".xr-preview,\n",
       ".xr-attrs dt {\n",
       "  white-space: nowrap;\n",
       "  overflow: hidden;\n",
       "  text-overflow: ellipsis;\n",
       "  padding-right: 10px;\n",
       "}\n",
       "\n",
       ".xr-var-name:hover,\n",
       ".xr-var-dims:hover,\n",
       ".xr-var-dtype:hover,\n",
       ".xr-attrs dt:hover {\n",
       "  overflow: visible;\n",
       "  width: auto;\n",
       "  z-index: 1;\n",
       "}\n",
       "\n",
       ".xr-var-attrs,\n",
       ".xr-var-data,\n",
       ".xr-index-data {\n",
       "  display: none;\n",
       "  background-color: var(--xr-background-color) !important;\n",
       "  padding-bottom: 5px !important;\n",
       "}\n",
       "\n",
       ".xr-var-attrs-in:checked ~ .xr-var-attrs,\n",
       ".xr-var-data-in:checked ~ .xr-var-data,\n",
       ".xr-index-data-in:checked ~ .xr-index-data {\n",
       "  display: block;\n",
       "}\n",
       "\n",
       ".xr-var-data > table {\n",
       "  float: right;\n",
       "}\n",
       "\n",
       ".xr-var-name span,\n",
       ".xr-var-data,\n",
       ".xr-index-name div,\n",
       ".xr-index-data,\n",
       ".xr-attrs {\n",
       "  padding-left: 25px !important;\n",
       "}\n",
       "\n",
       ".xr-attrs,\n",
       ".xr-var-attrs,\n",
       ".xr-var-data,\n",
       ".xr-index-data {\n",
       "  grid-column: 1 / -1;\n",
       "}\n",
       "\n",
       "dl.xr-attrs {\n",
       "  padding: 0;\n",
       "  margin: 0;\n",
       "  display: grid;\n",
       "  grid-template-columns: 125px auto;\n",
       "}\n",
       "\n",
       ".xr-attrs dt,\n",
       ".xr-attrs dd {\n",
       "  padding: 0;\n",
       "  margin: 0;\n",
       "  float: left;\n",
       "  padding-right: 10px;\n",
       "  width: auto;\n",
       "}\n",
       "\n",
       ".xr-attrs dt {\n",
       "  font-weight: normal;\n",
       "  grid-column: 1;\n",
       "}\n",
       "\n",
       ".xr-attrs dt:hover span {\n",
       "  display: inline-block;\n",
       "  background: var(--xr-background-color);\n",
       "  padding-right: 10px;\n",
       "}\n",
       "\n",
       ".xr-attrs dd {\n",
       "  grid-column: 2;\n",
       "  white-space: pre-wrap;\n",
       "  word-break: break-all;\n",
       "}\n",
       "\n",
       ".xr-icon-database,\n",
       ".xr-icon-file-text2,\n",
       ".xr-no-icon {\n",
       "  display: inline-block;\n",
       "  vertical-align: middle;\n",
       "  width: 1em;\n",
       "  height: 1.5em !important;\n",
       "  stroke-width: 0;\n",
       "  stroke: currentColor;\n",
       "  fill: currentColor;\n",
       "}\n",
       "</style><pre class='xr-text-repr-fallback'>&lt;xarray.Dataset&gt; Size: 326MB\n",
       "Dimensions:           (time: 623, is_day: 2, latitude: 12, longitude: 31,\n",
       "                       depth: 8)\n",
       "Coordinates:\n",
       "  * time              (time) datetime64[ns] 5kB 1995-09-24 ... 2020-08-31\n",
       "  * is_day            (is_day) bool 2B False True\n",
       "  * latitude          (latitude) float64 96B 46.5 47.5 48.5 ... 55.5 56.5 57.5\n",
       "  * longitude         (longitude) float64 248B -157.5 -156.5 ... -128.5 -127.5\n",
       "  * depth             (depth) int64 64B 50 100 150 200 250 300 350 400\n",
       "Data variables:\n",
       "    mesh_size         (time, is_day, latitude, longitude, depth) float64 30MB ...\n",
       "    volume_filtered   (time, is_day, latitude, longitude, depth) float64 30MB ...\n",
       "    benthos           (time, is_day, latitude, longitude, depth) float64 30MB ...\n",
       "    crustacean        (time, is_day, latitude, longitude, depth) float64 30MB ...\n",
       "    chaetognatha      (time, is_day, latitude, longitude, depth) float64 30MB ...\n",
       "    small_gelatinous  (time, is_day, latitude, longitude, depth) float64 30MB ...\n",
       "    larvacean         (time, is_day, latitude, longitude, depth) float64 30MB ...\n",
       "    thaliacea         (time, is_day, latitude, longitude, depth) float64 30MB ...\n",
       "    pteropods         (time, is_day, latitude, longitude, depth) float64 30MB ...\n",
       "    others            (time, is_day, latitude, longitude, depth) float64 30MB ...\n",
       "    total             (time, is_day, latitude, longitude, depth) float64 30MB ...</pre><div class='xr-wrap' style='display:none'><div class='xr-header'><div class='xr-obj-type'>xarray.Dataset</div></div><ul class='xr-sections'><li class='xr-section-item'><input id='section-f2b75bbe-34ea-49ed-8650-49b679dc5424' class='xr-section-summary-in' type='checkbox' disabled ><label for='section-f2b75bbe-34ea-49ed-8650-49b679dc5424' class='xr-section-summary'  title='Expand/collapse section'>Dimensions:</label><div class='xr-section-inline-details'><ul class='xr-dim-list'><li><span class='xr-has-index'>time</span>: 623</li><li><span class='xr-has-index'>is_day</span>: 2</li><li><span class='xr-has-index'>latitude</span>: 12</li><li><span class='xr-has-index'>longitude</span>: 31</li><li><span class='xr-has-index'>depth</span>: 8</li></ul></div><div class='xr-section-details'></div></li><li class='xr-section-item'><input id='section-9d1b1866-94bf-435d-bc56-53996b64a425' class='xr-section-summary-in' type='checkbox'  checked><label for='section-9d1b1866-94bf-435d-bc56-53996b64a425' class='xr-section-summary' >Coordinates: <span>(5)</span></label><div class='xr-section-inline-details'></div><div class='xr-section-details'><ul class='xr-var-list'><li class='xr-var-item'><div class='xr-var-name'><span class='xr-has-index'>time</span></div><div class='xr-var-dims'>(time)</div><div class='xr-var-dtype'>datetime64[ns]</div><div class='xr-var-preview xr-preview'>1995-09-24 ... 2020-08-31</div><input id='attrs-d7ec13bb-1737-43a6-bd05-97a18eab3382' class='xr-var-attrs-in' type='checkbox' ><label for='attrs-d7ec13bb-1737-43a6-bd05-97a18eab3382' title='Show/Hide attributes'><svg class='icon xr-icon-file-text2'><use xlink:href='#icon-file-text2'></use></svg></label><input id='data-839d0744-f85c-4ba0-a932-04f1510df33f' class='xr-var-data-in' type='checkbox'><label for='data-839d0744-f85c-4ba0-a932-04f1510df33f' title='Show/Hide data repr'><svg class='icon xr-icon-database'><use xlink:href='#icon-database'></use></svg></label><div class='xr-var-attrs'><dl class='xr-attrs'><dt><span>standard_name :</span></dt><dd>time</dd><dt><span>long_name :</span></dt><dd>time</dd><dt><span>axis :</span></dt><dd>T</dd></dl></div><div class='xr-var-data'><pre>array([&#x27;1995-09-24T00:00:00.000000000&#x27;, &#x27;1995-09-25T00:00:00.000000000&#x27;,\n",
       "       &#x27;1995-09-26T00:00:00.000000000&#x27;, ..., &#x27;2020-08-20T00:00:00.000000000&#x27;,\n",
       "       &#x27;2020-08-30T00:00:00.000000000&#x27;, &#x27;2020-08-31T00:00:00.000000000&#x27;],\n",
       "      dtype=&#x27;datetime64[ns]&#x27;)</pre></div></li><li class='xr-var-item'><div class='xr-var-name'><span class='xr-has-index'>is_day</span></div><div class='xr-var-dims'>(is_day)</div><div class='xr-var-dtype'>bool</div><div class='xr-var-preview xr-preview'>False True</div><input id='attrs-8ee3c3b8-646d-4499-8400-4da9aa7455a5' class='xr-var-attrs-in' type='checkbox' ><label for='attrs-8ee3c3b8-646d-4499-8400-4da9aa7455a5' title='Show/Hide attributes'><svg class='icon xr-icon-file-text2'><use xlink:href='#icon-file-text2'></use></svg></label><input id='data-2a56200c-0ba9-4062-8a8f-a6d5d597c9f7' class='xr-var-data-in' type='checkbox'><label for='data-2a56200c-0ba9-4062-8a8f-a6d5d597c9f7' title='Show/Hide data repr'><svg class='icon xr-icon-database'><use xlink:href='#icon-database'></use></svg></label><div class='xr-var-attrs'><dl class='xr-attrs'><dt><span>flag_values :</span></dt><dd>[True, False]</dd><dt><span>flag_meanings :</span></dt><dd>day night</dd><dt><span>standard_name :</span></dt><dd>is_day</dd><dt><span>long_name :</span></dt><dd>Is day</dd><dt><span>description :</span></dt><dd>Flag to indicate if the time is during the day or night</dd></dl></div><div class='xr-var-data'><pre>array([False,  True])</pre></div></li><li class='xr-var-item'><div class='xr-var-name'><span class='xr-has-index'>latitude</span></div><div class='xr-var-dims'>(latitude)</div><div class='xr-var-dtype'>float64</div><div class='xr-var-preview xr-preview'>46.5 47.5 48.5 ... 55.5 56.5 57.5</div><input id='attrs-de037bae-ee1f-4fd7-9582-4bdce3e76dfc' class='xr-var-attrs-in' type='checkbox' ><label for='attrs-de037bae-ee1f-4fd7-9582-4bdce3e76dfc' title='Show/Hide attributes'><svg class='icon xr-icon-file-text2'><use xlink:href='#icon-file-text2'></use></svg></label><input id='data-fcd0cc63-c666-4901-aeb8-0f85db7ada1d' class='xr-var-data-in' type='checkbox'><label for='data-fcd0cc63-c666-4901-aeb8-0f85db7ada1d' title='Show/Hide data repr'><svg class='icon xr-icon-database'><use xlink:href='#icon-database'></use></svg></label><div class='xr-var-attrs'><dl class='xr-attrs'><dt><span>standard_name :</span></dt><dd>latitude</dd><dt><span>long_name :</span></dt><dd>latitude</dd><dt><span>axis :</span></dt><dd>Y</dd><dt><span>units :</span></dt><dd>degrees_north</dd></dl></div><div class='xr-var-data'><pre>array([46.5, 47.5, 48.5, 49.5, 50.5, 51.5, 52.5, 53.5, 54.5, 55.5, 56.5, 57.5])</pre></div></li><li class='xr-var-item'><div class='xr-var-name'><span class='xr-has-index'>longitude</span></div><div class='xr-var-dims'>(longitude)</div><div class='xr-var-dtype'>float64</div><div class='xr-var-preview xr-preview'>-157.5 -156.5 ... -128.5 -127.5</div><input id='attrs-c0ce65d5-847d-4b69-93fd-268dbdd66754' class='xr-var-attrs-in' type='checkbox' ><label for='attrs-c0ce65d5-847d-4b69-93fd-268dbdd66754' title='Show/Hide attributes'><svg class='icon xr-icon-file-text2'><use xlink:href='#icon-file-text2'></use></svg></label><input id='data-35747929-7d9d-45a9-a120-e291c562cce5' class='xr-var-data-in' type='checkbox'><label for='data-35747929-7d9d-45a9-a120-e291c562cce5' title='Show/Hide data repr'><svg class='icon xr-icon-database'><use xlink:href='#icon-database'></use></svg></label><div class='xr-var-attrs'><dl class='xr-attrs'><dt><span>standard_name :</span></dt><dd>longitude</dd><dt><span>long_name :</span></dt><dd>longitude</dd><dt><span>axis :</span></dt><dd>X</dd><dt><span>units :</span></dt><dd>degrees_east</dd></dl></div><div class='xr-var-data'><pre>array([-157.5, -156.5, -155.5, -154.5, -153.5, -152.5, -151.5, -150.5, -149.5,\n",
       "       -148.5, -147.5, -146.5, -145.5, -144.5, -143.5, -142.5, -141.5, -140.5,\n",
       "       -139.5, -138.5, -137.5, -136.5, -135.5, -134.5, -133.5, -132.5, -131.5,\n",
       "       -130.5, -129.5, -128.5, -127.5])</pre></div></li><li class='xr-var-item'><div class='xr-var-name'><span class='xr-has-index'>depth</span></div><div class='xr-var-dims'>(depth)</div><div class='xr-var-dtype'>int64</div><div class='xr-var-preview xr-preview'>50 100 150 200 250 300 350 400</div><input id='attrs-43f159c1-498e-4fac-8216-a2d9e557ec87' class='xr-var-attrs-in' type='checkbox' ><label for='attrs-43f159c1-498e-4fac-8216-a2d9e557ec87' title='Show/Hide attributes'><svg class='icon xr-icon-file-text2'><use xlink:href='#icon-file-text2'></use></svg></label><input id='data-78422684-3d63-4603-8145-ba944ca9bd73' class='xr-var-data-in' type='checkbox'><label for='data-78422684-3d63-4603-8145-ba944ca9bd73' title='Show/Hide data repr'><svg class='icon xr-icon-database'><use xlink:href='#icon-database'></use></svg></label><div class='xr-var-attrs'><dl class='xr-attrs'><dt><span>standard_name :</span></dt><dd>depth</dd><dt><span>long_name :</span></dt><dd>depth</dd><dt><span>axis :</span></dt><dd>Z</dd><dt><span>units :</span></dt><dd>m</dd></dl></div><div class='xr-var-data'><pre>array([ 50, 100, 150, 200, 250, 300, 350, 400])</pre></div></li></ul></div></li><li class='xr-section-item'><input id='section-ca14f487-cc7e-4c1f-9f47-f67d09d6168d' class='xr-section-summary-in' type='checkbox'  checked><label for='section-ca14f487-cc7e-4c1f-9f47-f67d09d6168d' class='xr-section-summary' >Data variables: <span>(11)</span></label><div class='xr-section-inline-details'></div><div class='xr-section-details'><ul class='xr-var-list'><li class='xr-var-item'><div class='xr-var-name'><span>mesh_size</span></div><div class='xr-var-dims'>(time, is_day, latitude, longitude, depth)</div><div class='xr-var-dtype'>float64</div><div class='xr-var-preview xr-preview'>nan nan nan nan ... nan nan nan nan</div><input id='attrs-a55d6c84-0399-4f42-845c-ad29a88762ca' class='xr-var-attrs-in' type='checkbox' ><label for='attrs-a55d6c84-0399-4f42-845c-ad29a88762ca' title='Show/Hide attributes'><svg class='icon xr-icon-file-text2'><use xlink:href='#icon-file-text2'></use></svg></label><input id='data-bc11fa26-8999-4762-84c8-c8d1a2b220dd' class='xr-var-data-in' type='checkbox'><label for='data-bc11fa26-8999-4762-84c8-c8d1a2b220dd' title='Show/Hide data repr'><svg class='icon xr-icon-database'><use xlink:href='#icon-database'></use></svg></label><div class='xr-var-attrs'><dl class='xr-attrs'><dt><span>standard_name :</span></dt><dd>mesh_size</dd><dt><span>long_name :</span></dt><dd>net mesh size</dd><dt><span>units :</span></dt><dd>um</dd></dl></div><div class='xr-var-data'><pre>array([[[[[nan, nan, nan, ..., nan, nan, nan],\n",
       "          [nan, nan, nan, ..., nan, nan, nan],\n",
       "          [nan, nan, nan, ..., nan, nan, nan],\n",
       "          ...,\n",
       "          [nan, nan, nan, ..., nan, nan, nan],\n",
       "          [nan, nan, nan, ..., nan, nan, nan],\n",
       "          [nan, nan, nan, ..., nan, nan, nan]],\n",
       "\n",
       "         [[nan, nan, nan, ..., nan, nan, nan],\n",
       "          [nan, nan, nan, ..., nan, nan, nan],\n",
       "          [nan, nan, nan, ..., nan, nan, nan],\n",
       "          ...,\n",
       "          [nan, nan, nan, ..., nan, nan, nan],\n",
       "          [nan, nan, nan, ..., nan, nan, nan],\n",
       "          [nan, nan, nan, ..., nan, nan, nan]],\n",
       "\n",
       "         [[nan, nan, nan, ..., nan, nan, nan],\n",
       "          [nan, nan, nan, ..., nan, nan, nan],\n",
       "          [nan, nan, nan, ..., nan, nan, nan],\n",
       "          ...,\n",
       "...\n",
       "          ...,\n",
       "          [nan, nan, nan, ..., nan, nan, nan],\n",
       "          [nan, nan, nan, ..., nan, nan, nan],\n",
       "          [nan, nan, nan, ..., nan, nan, nan]],\n",
       "\n",
       "         [[nan, nan, nan, ..., nan, nan, nan],\n",
       "          [nan, nan, nan, ..., nan, nan, nan],\n",
       "          [nan, nan, nan, ..., nan, nan, nan],\n",
       "          ...,\n",
       "          [nan, nan, nan, ..., nan, nan, nan],\n",
       "          [nan, nan, nan, ..., nan, nan, nan],\n",
       "          [nan, nan, nan, ..., nan, nan, nan]],\n",
       "\n",
       "         [[nan, nan, nan, ..., nan, nan, nan],\n",
       "          [nan, nan, nan, ..., nan, nan, nan],\n",
       "          [nan, nan, nan, ..., nan, nan, nan],\n",
       "          ...,\n",
       "          [nan, nan, nan, ..., nan, nan, nan],\n",
       "          [nan, nan, nan, ..., nan, nan, nan],\n",
       "          [nan, nan, nan, ..., nan, nan, nan]]]]])</pre></div></li><li class='xr-var-item'><div class='xr-var-name'><span>volume_filtered</span></div><div class='xr-var-dims'>(time, is_day, latitude, longitude, depth)</div><div class='xr-var-dtype'>float64</div><div class='xr-var-preview xr-preview'>nan nan nan nan ... nan nan nan nan</div><input id='attrs-4e832381-d45e-4182-bba1-8996dea8641c' class='xr-var-attrs-in' type='checkbox' ><label for='attrs-4e832381-d45e-4182-bba1-8996dea8641c' title='Show/Hide attributes'><svg class='icon xr-icon-file-text2'><use xlink:href='#icon-file-text2'></use></svg></label><input id='data-4dd2089c-f134-4f31-8277-0304fd2539ab' class='xr-var-data-in' type='checkbox'><label for='data-4dd2089c-f134-4f31-8277-0304fd2539ab' title='Show/Hide data repr'><svg class='icon xr-icon-database'><use xlink:href='#icon-database'></use></svg></label><div class='xr-var-attrs'><dl class='xr-attrs'><dt><span>standard_name :</span></dt><dd>volume</dd><dt><span>long_name :</span></dt><dd>filtered volume of water</dd><dt><span>units :</span></dt><dd>m3</dd></dl></div><div class='xr-var-data'><pre>array([[[[[nan, nan, nan, ..., nan, nan, nan],\n",
       "          [nan, nan, nan, ..., nan, nan, nan],\n",
       "          [nan, nan, nan, ..., nan, nan, nan],\n",
       "          ...,\n",
       "          [nan, nan, nan, ..., nan, nan, nan],\n",
       "          [nan, nan, nan, ..., nan, nan, nan],\n",
       "          [nan, nan, nan, ..., nan, nan, nan]],\n",
       "\n",
       "         [[nan, nan, nan, ..., nan, nan, nan],\n",
       "          [nan, nan, nan, ..., nan, nan, nan],\n",
       "          [nan, nan, nan, ..., nan, nan, nan],\n",
       "          ...,\n",
       "          [nan, nan, nan, ..., nan, nan, nan],\n",
       "          [nan, nan, nan, ..., nan, nan, nan],\n",
       "          [nan, nan, nan, ..., nan, nan, nan]],\n",
       "\n",
       "         [[nan, nan, nan, ..., nan, nan, nan],\n",
       "          [nan, nan, nan, ..., nan, nan, nan],\n",
       "          [nan, nan, nan, ..., nan, nan, nan],\n",
       "          ...,\n",
       "...\n",
       "          ...,\n",
       "          [nan, nan, nan, ..., nan, nan, nan],\n",
       "          [nan, nan, nan, ..., nan, nan, nan],\n",
       "          [nan, nan, nan, ..., nan, nan, nan]],\n",
       "\n",
       "         [[nan, nan, nan, ..., nan, nan, nan],\n",
       "          [nan, nan, nan, ..., nan, nan, nan],\n",
       "          [nan, nan, nan, ..., nan, nan, nan],\n",
       "          ...,\n",
       "          [nan, nan, nan, ..., nan, nan, nan],\n",
       "          [nan, nan, nan, ..., nan, nan, nan],\n",
       "          [nan, nan, nan, ..., nan, nan, nan]],\n",
       "\n",
       "         [[nan, nan, nan, ..., nan, nan, nan],\n",
       "          [nan, nan, nan, ..., nan, nan, nan],\n",
       "          [nan, nan, nan, ..., nan, nan, nan],\n",
       "          ...,\n",
       "          [nan, nan, nan, ..., nan, nan, nan],\n",
       "          [nan, nan, nan, ..., nan, nan, nan],\n",
       "          [nan, nan, nan, ..., nan, nan, nan]]]]])</pre></div></li><li class='xr-var-item'><div class='xr-var-name'><span>benthos</span></div><div class='xr-var-dims'>(time, is_day, latitude, longitude, depth)</div><div class='xr-var-dtype'>float64</div><div class='xr-var-preview xr-preview'>nan nan nan nan ... nan nan nan nan</div><input id='attrs-1f10f95f-30bd-4603-9d02-b56b98f70b6b' class='xr-var-attrs-in' type='checkbox' ><label for='attrs-1f10f95f-30bd-4603-9d02-b56b98f70b6b' title='Show/Hide attributes'><svg class='icon xr-icon-file-text2'><use xlink:href='#icon-file-text2'></use></svg></label><input id='data-8f0de5a8-9702-4fbb-b020-1c8e8236e21b' class='xr-var-data-in' type='checkbox'><label for='data-8f0de5a8-9702-4fbb-b020-1c8e8236e21b' title='Show/Hide data repr'><svg class='icon xr-icon-database'><use xlink:href='#icon-database'></use></svg></label><div class='xr-var-attrs'><dl class='xr-attrs'><dt><span>standard_name :</span></dt><dd>benthos</dd><dt><span>long_name :</span></dt><dd>dry weight of benthos zooplankton</dd><dt><span>units :</span></dt><dd>mg/m3</dd></dl></div><div class='xr-var-data'><pre>array([[[[[nan, nan, nan, ..., nan, nan, nan],\n",
       "          [nan, nan, nan, ..., nan, nan, nan],\n",
       "          [nan, nan, nan, ..., nan, nan, nan],\n",
       "          ...,\n",
       "          [nan, nan, nan, ..., nan, nan, nan],\n",
       "          [nan, nan, nan, ..., nan, nan, nan],\n",
       "          [nan, nan, nan, ..., nan, nan, nan]],\n",
       "\n",
       "         [[nan, nan, nan, ..., nan, nan, nan],\n",
       "          [nan, nan, nan, ..., nan, nan, nan],\n",
       "          [nan, nan, nan, ..., nan, nan, nan],\n",
       "          ...,\n",
       "          [nan, nan, nan, ..., nan, nan, nan],\n",
       "          [nan, nan, nan, ..., nan, nan, nan],\n",
       "          [nan, nan, nan, ..., nan, nan, nan]],\n",
       "\n",
       "         [[nan, nan, nan, ..., nan, nan, nan],\n",
       "          [nan, nan, nan, ..., nan, nan, nan],\n",
       "          [nan, nan, nan, ..., nan, nan, nan],\n",
       "          ...,\n",
       "...\n",
       "          ...,\n",
       "          [nan, nan, nan, ..., nan, nan, nan],\n",
       "          [nan, nan, nan, ..., nan, nan, nan],\n",
       "          [nan, nan, nan, ..., nan, nan, nan]],\n",
       "\n",
       "         [[nan, nan, nan, ..., nan, nan, nan],\n",
       "          [nan, nan, nan, ..., nan, nan, nan],\n",
       "          [nan, nan, nan, ..., nan, nan, nan],\n",
       "          ...,\n",
       "          [nan, nan, nan, ..., nan, nan, nan],\n",
       "          [nan, nan, nan, ..., nan, nan, nan],\n",
       "          [nan, nan, nan, ..., nan, nan, nan]],\n",
       "\n",
       "         [[nan, nan, nan, ..., nan, nan, nan],\n",
       "          [nan, nan, nan, ..., nan, nan, nan],\n",
       "          [nan, nan, nan, ..., nan, nan, nan],\n",
       "          ...,\n",
       "          [nan, nan, nan, ..., nan, nan, nan],\n",
       "          [nan, nan, nan, ..., nan, nan, nan],\n",
       "          [nan, nan, nan, ..., nan, nan, nan]]]]])</pre></div></li><li class='xr-var-item'><div class='xr-var-name'><span>crustacean</span></div><div class='xr-var-dims'>(time, is_day, latitude, longitude, depth)</div><div class='xr-var-dtype'>float64</div><div class='xr-var-preview xr-preview'>nan nan nan nan ... nan nan nan nan</div><input id='attrs-602c0fdd-953a-4988-b6e4-6a5ed5280bfa' class='xr-var-attrs-in' type='checkbox' ><label for='attrs-602c0fdd-953a-4988-b6e4-6a5ed5280bfa' title='Show/Hide attributes'><svg class='icon xr-icon-file-text2'><use xlink:href='#icon-file-text2'></use></svg></label><input id='data-7d8e888f-8e11-4783-9df9-9a19d455fc58' class='xr-var-data-in' type='checkbox'><label for='data-7d8e888f-8e11-4783-9df9-9a19d455fc58' title='Show/Hide data repr'><svg class='icon xr-icon-database'><use xlink:href='#icon-database'></use></svg></label><div class='xr-var-attrs'><dl class='xr-attrs'><dt><span>standard_name :</span></dt><dd>crustacean</dd><dt><span>long_name :</span></dt><dd>dry weight of crustacean zooplankton</dd><dt><span>units :</span></dt><dd>mg/m3</dd></dl></div><div class='xr-var-data'><pre>array([[[[[nan, nan, nan, ..., nan, nan, nan],\n",
       "          [nan, nan, nan, ..., nan, nan, nan],\n",
       "          [nan, nan, nan, ..., nan, nan, nan],\n",
       "          ...,\n",
       "          [nan, nan, nan, ..., nan, nan, nan],\n",
       "          [nan, nan, nan, ..., nan, nan, nan],\n",
       "          [nan, nan, nan, ..., nan, nan, nan]],\n",
       "\n",
       "         [[nan, nan, nan, ..., nan, nan, nan],\n",
       "          [nan, nan, nan, ..., nan, nan, nan],\n",
       "          [nan, nan, nan, ..., nan, nan, nan],\n",
       "          ...,\n",
       "          [nan, nan, nan, ..., nan, nan, nan],\n",
       "          [nan, nan, nan, ..., nan, nan, nan],\n",
       "          [nan, nan, nan, ..., nan, nan, nan]],\n",
       "\n",
       "         [[nan, nan, nan, ..., nan, nan, nan],\n",
       "          [nan, nan, nan, ..., nan, nan, nan],\n",
       "          [nan, nan, nan, ..., nan, nan, nan],\n",
       "          ...,\n",
       "...\n",
       "          ...,\n",
       "          [nan, nan, nan, ..., nan, nan, nan],\n",
       "          [nan, nan, nan, ..., nan, nan, nan],\n",
       "          [nan, nan, nan, ..., nan, nan, nan]],\n",
       "\n",
       "         [[nan, nan, nan, ..., nan, nan, nan],\n",
       "          [nan, nan, nan, ..., nan, nan, nan],\n",
       "          [nan, nan, nan, ..., nan, nan, nan],\n",
       "          ...,\n",
       "          [nan, nan, nan, ..., nan, nan, nan],\n",
       "          [nan, nan, nan, ..., nan, nan, nan],\n",
       "          [nan, nan, nan, ..., nan, nan, nan]],\n",
       "\n",
       "         [[nan, nan, nan, ..., nan, nan, nan],\n",
       "          [nan, nan, nan, ..., nan, nan, nan],\n",
       "          [nan, nan, nan, ..., nan, nan, nan],\n",
       "          ...,\n",
       "          [nan, nan, nan, ..., nan, nan, nan],\n",
       "          [nan, nan, nan, ..., nan, nan, nan],\n",
       "          [nan, nan, nan, ..., nan, nan, nan]]]]])</pre></div></li><li class='xr-var-item'><div class='xr-var-name'><span>chaetognatha</span></div><div class='xr-var-dims'>(time, is_day, latitude, longitude, depth)</div><div class='xr-var-dtype'>float64</div><div class='xr-var-preview xr-preview'>nan nan nan nan ... nan nan nan nan</div><input id='attrs-32c73db0-2b2f-4339-80b6-63385f82b4ac' class='xr-var-attrs-in' type='checkbox' ><label for='attrs-32c73db0-2b2f-4339-80b6-63385f82b4ac' title='Show/Hide attributes'><svg class='icon xr-icon-file-text2'><use xlink:href='#icon-file-text2'></use></svg></label><input id='data-df573f3f-8535-4b14-ae9e-bb78bbe56460' class='xr-var-data-in' type='checkbox'><label for='data-df573f3f-8535-4b14-ae9e-bb78bbe56460' title='Show/Hide data repr'><svg class='icon xr-icon-database'><use xlink:href='#icon-database'></use></svg></label><div class='xr-var-attrs'><dl class='xr-attrs'><dt><span>standard_name :</span></dt><dd>chaetognatha</dd><dt><span>long_name :</span></dt><dd>dry weight of chaetognatha zooplankton</dd><dt><span>units :</span></dt><dd>mg/m3</dd></dl></div><div class='xr-var-data'><pre>array([[[[[nan, nan, nan, ..., nan, nan, nan],\n",
       "          [nan, nan, nan, ..., nan, nan, nan],\n",
       "          [nan, nan, nan, ..., nan, nan, nan],\n",
       "          ...,\n",
       "          [nan, nan, nan, ..., nan, nan, nan],\n",
       "          [nan, nan, nan, ..., nan, nan, nan],\n",
       "          [nan, nan, nan, ..., nan, nan, nan]],\n",
       "\n",
       "         [[nan, nan, nan, ..., nan, nan, nan],\n",
       "          [nan, nan, nan, ..., nan, nan, nan],\n",
       "          [nan, nan, nan, ..., nan, nan, nan],\n",
       "          ...,\n",
       "          [nan, nan, nan, ..., nan, nan, nan],\n",
       "          [nan, nan, nan, ..., nan, nan, nan],\n",
       "          [nan, nan, nan, ..., nan, nan, nan]],\n",
       "\n",
       "         [[nan, nan, nan, ..., nan, nan, nan],\n",
       "          [nan, nan, nan, ..., nan, nan, nan],\n",
       "          [nan, nan, nan, ..., nan, nan, nan],\n",
       "          ...,\n",
       "...\n",
       "          ...,\n",
       "          [nan, nan, nan, ..., nan, nan, nan],\n",
       "          [nan, nan, nan, ..., nan, nan, nan],\n",
       "          [nan, nan, nan, ..., nan, nan, nan]],\n",
       "\n",
       "         [[nan, nan, nan, ..., nan, nan, nan],\n",
       "          [nan, nan, nan, ..., nan, nan, nan],\n",
       "          [nan, nan, nan, ..., nan, nan, nan],\n",
       "          ...,\n",
       "          [nan, nan, nan, ..., nan, nan, nan],\n",
       "          [nan, nan, nan, ..., nan, nan, nan],\n",
       "          [nan, nan, nan, ..., nan, nan, nan]],\n",
       "\n",
       "         [[nan, nan, nan, ..., nan, nan, nan],\n",
       "          [nan, nan, nan, ..., nan, nan, nan],\n",
       "          [nan, nan, nan, ..., nan, nan, nan],\n",
       "          ...,\n",
       "          [nan, nan, nan, ..., nan, nan, nan],\n",
       "          [nan, nan, nan, ..., nan, nan, nan],\n",
       "          [nan, nan, nan, ..., nan, nan, nan]]]]])</pre></div></li><li class='xr-var-item'><div class='xr-var-name'><span>small_gelatinous</span></div><div class='xr-var-dims'>(time, is_day, latitude, longitude, depth)</div><div class='xr-var-dtype'>float64</div><div class='xr-var-preview xr-preview'>nan nan nan nan ... nan nan nan nan</div><input id='attrs-f5c9b2db-af72-428c-aff7-6116387bd3d6' class='xr-var-attrs-in' type='checkbox' ><label for='attrs-f5c9b2db-af72-428c-aff7-6116387bd3d6' title='Show/Hide attributes'><svg class='icon xr-icon-file-text2'><use xlink:href='#icon-file-text2'></use></svg></label><input id='data-ec91136a-9ec6-4b72-8ff1-44c63817d45f' class='xr-var-data-in' type='checkbox'><label for='data-ec91136a-9ec6-4b72-8ff1-44c63817d45f' title='Show/Hide data repr'><svg class='icon xr-icon-database'><use xlink:href='#icon-database'></use></svg></label><div class='xr-var-attrs'><dl class='xr-attrs'><dt><span>standard_name :</span></dt><dd>small_gelatinous</dd><dt><span>long_name :</span></dt><dd>dry weight of small_gelatinous zooplankton</dd><dt><span>units :</span></dt><dd>mg/m3</dd></dl></div><div class='xr-var-data'><pre>array([[[[[nan, nan, nan, ..., nan, nan, nan],\n",
       "          [nan, nan, nan, ..., nan, nan, nan],\n",
       "          [nan, nan, nan, ..., nan, nan, nan],\n",
       "          ...,\n",
       "          [nan, nan, nan, ..., nan, nan, nan],\n",
       "          [nan, nan, nan, ..., nan, nan, nan],\n",
       "          [nan, nan, nan, ..., nan, nan, nan]],\n",
       "\n",
       "         [[nan, nan, nan, ..., nan, nan, nan],\n",
       "          [nan, nan, nan, ..., nan, nan, nan],\n",
       "          [nan, nan, nan, ..., nan, nan, nan],\n",
       "          ...,\n",
       "          [nan, nan, nan, ..., nan, nan, nan],\n",
       "          [nan, nan, nan, ..., nan, nan, nan],\n",
       "          [nan, nan, nan, ..., nan, nan, nan]],\n",
       "\n",
       "         [[nan, nan, nan, ..., nan, nan, nan],\n",
       "          [nan, nan, nan, ..., nan, nan, nan],\n",
       "          [nan, nan, nan, ..., nan, nan, nan],\n",
       "          ...,\n",
       "...\n",
       "          ...,\n",
       "          [nan, nan, nan, ..., nan, nan, nan],\n",
       "          [nan, nan, nan, ..., nan, nan, nan],\n",
       "          [nan, nan, nan, ..., nan, nan, nan]],\n",
       "\n",
       "         [[nan, nan, nan, ..., nan, nan, nan],\n",
       "          [nan, nan, nan, ..., nan, nan, nan],\n",
       "          [nan, nan, nan, ..., nan, nan, nan],\n",
       "          ...,\n",
       "          [nan, nan, nan, ..., nan, nan, nan],\n",
       "          [nan, nan, nan, ..., nan, nan, nan],\n",
       "          [nan, nan, nan, ..., nan, nan, nan]],\n",
       "\n",
       "         [[nan, nan, nan, ..., nan, nan, nan],\n",
       "          [nan, nan, nan, ..., nan, nan, nan],\n",
       "          [nan, nan, nan, ..., nan, nan, nan],\n",
       "          ...,\n",
       "          [nan, nan, nan, ..., nan, nan, nan],\n",
       "          [nan, nan, nan, ..., nan, nan, nan],\n",
       "          [nan, nan, nan, ..., nan, nan, nan]]]]])</pre></div></li><li class='xr-var-item'><div class='xr-var-name'><span>larvacean</span></div><div class='xr-var-dims'>(time, is_day, latitude, longitude, depth)</div><div class='xr-var-dtype'>float64</div><div class='xr-var-preview xr-preview'>nan nan nan nan ... nan nan nan nan</div><input id='attrs-aea50dfd-1a13-4df2-bb96-7ccd7a2efea2' class='xr-var-attrs-in' type='checkbox' ><label for='attrs-aea50dfd-1a13-4df2-bb96-7ccd7a2efea2' title='Show/Hide attributes'><svg class='icon xr-icon-file-text2'><use xlink:href='#icon-file-text2'></use></svg></label><input id='data-054a728c-e7b5-4423-8753-31302ae1ab4c' class='xr-var-data-in' type='checkbox'><label for='data-054a728c-e7b5-4423-8753-31302ae1ab4c' title='Show/Hide data repr'><svg class='icon xr-icon-database'><use xlink:href='#icon-database'></use></svg></label><div class='xr-var-attrs'><dl class='xr-attrs'><dt><span>standard_name :</span></dt><dd>larvacean</dd><dt><span>long_name :</span></dt><dd>dry weight of larvacean zooplankton</dd><dt><span>units :</span></dt><dd>mg/m3</dd></dl></div><div class='xr-var-data'><pre>array([[[[[nan, nan, nan, ..., nan, nan, nan],\n",
       "          [nan, nan, nan, ..., nan, nan, nan],\n",
       "          [nan, nan, nan, ..., nan, nan, nan],\n",
       "          ...,\n",
       "          [nan, nan, nan, ..., nan, nan, nan],\n",
       "          [nan, nan, nan, ..., nan, nan, nan],\n",
       "          [nan, nan, nan, ..., nan, nan, nan]],\n",
       "\n",
       "         [[nan, nan, nan, ..., nan, nan, nan],\n",
       "          [nan, nan, nan, ..., nan, nan, nan],\n",
       "          [nan, nan, nan, ..., nan, nan, nan],\n",
       "          ...,\n",
       "          [nan, nan, nan, ..., nan, nan, nan],\n",
       "          [nan, nan, nan, ..., nan, nan, nan],\n",
       "          [nan, nan, nan, ..., nan, nan, nan]],\n",
       "\n",
       "         [[nan, nan, nan, ..., nan, nan, nan],\n",
       "          [nan, nan, nan, ..., nan, nan, nan],\n",
       "          [nan, nan, nan, ..., nan, nan, nan],\n",
       "          ...,\n",
       "...\n",
       "          ...,\n",
       "          [nan, nan, nan, ..., nan, nan, nan],\n",
       "          [nan, nan, nan, ..., nan, nan, nan],\n",
       "          [nan, nan, nan, ..., nan, nan, nan]],\n",
       "\n",
       "         [[nan, nan, nan, ..., nan, nan, nan],\n",
       "          [nan, nan, nan, ..., nan, nan, nan],\n",
       "          [nan, nan, nan, ..., nan, nan, nan],\n",
       "          ...,\n",
       "          [nan, nan, nan, ..., nan, nan, nan],\n",
       "          [nan, nan, nan, ..., nan, nan, nan],\n",
       "          [nan, nan, nan, ..., nan, nan, nan]],\n",
       "\n",
       "         [[nan, nan, nan, ..., nan, nan, nan],\n",
       "          [nan, nan, nan, ..., nan, nan, nan],\n",
       "          [nan, nan, nan, ..., nan, nan, nan],\n",
       "          ...,\n",
       "          [nan, nan, nan, ..., nan, nan, nan],\n",
       "          [nan, nan, nan, ..., nan, nan, nan],\n",
       "          [nan, nan, nan, ..., nan, nan, nan]]]]])</pre></div></li><li class='xr-var-item'><div class='xr-var-name'><span>thaliacea</span></div><div class='xr-var-dims'>(time, is_day, latitude, longitude, depth)</div><div class='xr-var-dtype'>float64</div><div class='xr-var-preview xr-preview'>nan nan nan nan ... nan nan nan nan</div><input id='attrs-4ab79348-3f91-4adf-9bed-8ee1cfa095e2' class='xr-var-attrs-in' type='checkbox' ><label for='attrs-4ab79348-3f91-4adf-9bed-8ee1cfa095e2' title='Show/Hide attributes'><svg class='icon xr-icon-file-text2'><use xlink:href='#icon-file-text2'></use></svg></label><input id='data-e7bbb193-5ad6-4ed6-929c-702327775580' class='xr-var-data-in' type='checkbox'><label for='data-e7bbb193-5ad6-4ed6-929c-702327775580' title='Show/Hide data repr'><svg class='icon xr-icon-database'><use xlink:href='#icon-database'></use></svg></label><div class='xr-var-attrs'><dl class='xr-attrs'><dt><span>standard_name :</span></dt><dd>thaliacea</dd><dt><span>long_name :</span></dt><dd>dry weight of thaliacea zooplankton</dd><dt><span>units :</span></dt><dd>mg/m3</dd></dl></div><div class='xr-var-data'><pre>array([[[[[nan, nan, nan, ..., nan, nan, nan],\n",
       "          [nan, nan, nan, ..., nan, nan, nan],\n",
       "          [nan, nan, nan, ..., nan, nan, nan],\n",
       "          ...,\n",
       "          [nan, nan, nan, ..., nan, nan, nan],\n",
       "          [nan, nan, nan, ..., nan, nan, nan],\n",
       "          [nan, nan, nan, ..., nan, nan, nan]],\n",
       "\n",
       "         [[nan, nan, nan, ..., nan, nan, nan],\n",
       "          [nan, nan, nan, ..., nan, nan, nan],\n",
       "          [nan, nan, nan, ..., nan, nan, nan],\n",
       "          ...,\n",
       "          [nan, nan, nan, ..., nan, nan, nan],\n",
       "          [nan, nan, nan, ..., nan, nan, nan],\n",
       "          [nan, nan, nan, ..., nan, nan, nan]],\n",
       "\n",
       "         [[nan, nan, nan, ..., nan, nan, nan],\n",
       "          [nan, nan, nan, ..., nan, nan, nan],\n",
       "          [nan, nan, nan, ..., nan, nan, nan],\n",
       "          ...,\n",
       "...\n",
       "          ...,\n",
       "          [nan, nan, nan, ..., nan, nan, nan],\n",
       "          [nan, nan, nan, ..., nan, nan, nan],\n",
       "          [nan, nan, nan, ..., nan, nan, nan]],\n",
       "\n",
       "         [[nan, nan, nan, ..., nan, nan, nan],\n",
       "          [nan, nan, nan, ..., nan, nan, nan],\n",
       "          [nan, nan, nan, ..., nan, nan, nan],\n",
       "          ...,\n",
       "          [nan, nan, nan, ..., nan, nan, nan],\n",
       "          [nan, nan, nan, ..., nan, nan, nan],\n",
       "          [nan, nan, nan, ..., nan, nan, nan]],\n",
       "\n",
       "         [[nan, nan, nan, ..., nan, nan, nan],\n",
       "          [nan, nan, nan, ..., nan, nan, nan],\n",
       "          [nan, nan, nan, ..., nan, nan, nan],\n",
       "          ...,\n",
       "          [nan, nan, nan, ..., nan, nan, nan],\n",
       "          [nan, nan, nan, ..., nan, nan, nan],\n",
       "          [nan, nan, nan, ..., nan, nan, nan]]]]])</pre></div></li><li class='xr-var-item'><div class='xr-var-name'><span>pteropods</span></div><div class='xr-var-dims'>(time, is_day, latitude, longitude, depth)</div><div class='xr-var-dtype'>float64</div><div class='xr-var-preview xr-preview'>nan nan nan nan ... nan nan nan nan</div><input id='attrs-52671e28-4b7e-40e6-8b4b-54f64c806b87' class='xr-var-attrs-in' type='checkbox' ><label for='attrs-52671e28-4b7e-40e6-8b4b-54f64c806b87' title='Show/Hide attributes'><svg class='icon xr-icon-file-text2'><use xlink:href='#icon-file-text2'></use></svg></label><input id='data-b5a788cb-f8e7-41c0-a5f9-721be63fbb48' class='xr-var-data-in' type='checkbox'><label for='data-b5a788cb-f8e7-41c0-a5f9-721be63fbb48' title='Show/Hide data repr'><svg class='icon xr-icon-database'><use xlink:href='#icon-database'></use></svg></label><div class='xr-var-attrs'><dl class='xr-attrs'><dt><span>standard_name :</span></dt><dd>pteropods</dd><dt><span>long_name :</span></dt><dd>dry weight of pteropods zooplankton</dd><dt><span>units :</span></dt><dd>mg/m3</dd></dl></div><div class='xr-var-data'><pre>array([[[[[nan, nan, nan, ..., nan, nan, nan],\n",
       "          [nan, nan, nan, ..., nan, nan, nan],\n",
       "          [nan, nan, nan, ..., nan, nan, nan],\n",
       "          ...,\n",
       "          [nan, nan, nan, ..., nan, nan, nan],\n",
       "          [nan, nan, nan, ..., nan, nan, nan],\n",
       "          [nan, nan, nan, ..., nan, nan, nan]],\n",
       "\n",
       "         [[nan, nan, nan, ..., nan, nan, nan],\n",
       "          [nan, nan, nan, ..., nan, nan, nan],\n",
       "          [nan, nan, nan, ..., nan, nan, nan],\n",
       "          ...,\n",
       "          [nan, nan, nan, ..., nan, nan, nan],\n",
       "          [nan, nan, nan, ..., nan, nan, nan],\n",
       "          [nan, nan, nan, ..., nan, nan, nan]],\n",
       "\n",
       "         [[nan, nan, nan, ..., nan, nan, nan],\n",
       "          [nan, nan, nan, ..., nan, nan, nan],\n",
       "          [nan, nan, nan, ..., nan, nan, nan],\n",
       "          ...,\n",
       "...\n",
       "          ...,\n",
       "          [nan, nan, nan, ..., nan, nan, nan],\n",
       "          [nan, nan, nan, ..., nan, nan, nan],\n",
       "          [nan, nan, nan, ..., nan, nan, nan]],\n",
       "\n",
       "         [[nan, nan, nan, ..., nan, nan, nan],\n",
       "          [nan, nan, nan, ..., nan, nan, nan],\n",
       "          [nan, nan, nan, ..., nan, nan, nan],\n",
       "          ...,\n",
       "          [nan, nan, nan, ..., nan, nan, nan],\n",
       "          [nan, nan, nan, ..., nan, nan, nan],\n",
       "          [nan, nan, nan, ..., nan, nan, nan]],\n",
       "\n",
       "         [[nan, nan, nan, ..., nan, nan, nan],\n",
       "          [nan, nan, nan, ..., nan, nan, nan],\n",
       "          [nan, nan, nan, ..., nan, nan, nan],\n",
       "          ...,\n",
       "          [nan, nan, nan, ..., nan, nan, nan],\n",
       "          [nan, nan, nan, ..., nan, nan, nan],\n",
       "          [nan, nan, nan, ..., nan, nan, nan]]]]])</pre></div></li><li class='xr-var-item'><div class='xr-var-name'><span>others</span></div><div class='xr-var-dims'>(time, is_day, latitude, longitude, depth)</div><div class='xr-var-dtype'>float64</div><div class='xr-var-preview xr-preview'>nan nan nan nan ... nan nan nan nan</div><input id='attrs-269ebeb0-0108-4619-9712-7884e4905b57' class='xr-var-attrs-in' type='checkbox' ><label for='attrs-269ebeb0-0108-4619-9712-7884e4905b57' title='Show/Hide attributes'><svg class='icon xr-icon-file-text2'><use xlink:href='#icon-file-text2'></use></svg></label><input id='data-234ed6df-1298-4a79-9951-10924083e39b' class='xr-var-data-in' type='checkbox'><label for='data-234ed6df-1298-4a79-9951-10924083e39b' title='Show/Hide data repr'><svg class='icon xr-icon-database'><use xlink:href='#icon-database'></use></svg></label><div class='xr-var-attrs'><dl class='xr-attrs'><dt><span>standard_name :</span></dt><dd>others</dd><dt><span>long_name :</span></dt><dd>dry weight of others zooplankton</dd><dt><span>units :</span></dt><dd>mg/m3</dd></dl></div><div class='xr-var-data'><pre>array([[[[[nan, nan, nan, ..., nan, nan, nan],\n",
       "          [nan, nan, nan, ..., nan, nan, nan],\n",
       "          [nan, nan, nan, ..., nan, nan, nan],\n",
       "          ...,\n",
       "          [nan, nan, nan, ..., nan, nan, nan],\n",
       "          [nan, nan, nan, ..., nan, nan, nan],\n",
       "          [nan, nan, nan, ..., nan, nan, nan]],\n",
       "\n",
       "         [[nan, nan, nan, ..., nan, nan, nan],\n",
       "          [nan, nan, nan, ..., nan, nan, nan],\n",
       "          [nan, nan, nan, ..., nan, nan, nan],\n",
       "          ...,\n",
       "          [nan, nan, nan, ..., nan, nan, nan],\n",
       "          [nan, nan, nan, ..., nan, nan, nan],\n",
       "          [nan, nan, nan, ..., nan, nan, nan]],\n",
       "\n",
       "         [[nan, nan, nan, ..., nan, nan, nan],\n",
       "          [nan, nan, nan, ..., nan, nan, nan],\n",
       "          [nan, nan, nan, ..., nan, nan, nan],\n",
       "          ...,\n",
       "...\n",
       "          ...,\n",
       "          [nan, nan, nan, ..., nan, nan, nan],\n",
       "          [nan, nan, nan, ..., nan, nan, nan],\n",
       "          [nan, nan, nan, ..., nan, nan, nan]],\n",
       "\n",
       "         [[nan, nan, nan, ..., nan, nan, nan],\n",
       "          [nan, nan, nan, ..., nan, nan, nan],\n",
       "          [nan, nan, nan, ..., nan, nan, nan],\n",
       "          ...,\n",
       "          [nan, nan, nan, ..., nan, nan, nan],\n",
       "          [nan, nan, nan, ..., nan, nan, nan],\n",
       "          [nan, nan, nan, ..., nan, nan, nan]],\n",
       "\n",
       "         [[nan, nan, nan, ..., nan, nan, nan],\n",
       "          [nan, nan, nan, ..., nan, nan, nan],\n",
       "          [nan, nan, nan, ..., nan, nan, nan],\n",
       "          ...,\n",
       "          [nan, nan, nan, ..., nan, nan, nan],\n",
       "          [nan, nan, nan, ..., nan, nan, nan],\n",
       "          [nan, nan, nan, ..., nan, nan, nan]]]]])</pre></div></li><li class='xr-var-item'><div class='xr-var-name'><span>total</span></div><div class='xr-var-dims'>(time, is_day, latitude, longitude, depth)</div><div class='xr-var-dtype'>float64</div><div class='xr-var-preview xr-preview'>nan nan nan nan ... nan nan nan nan</div><input id='attrs-de5f35fd-2dda-4df5-870c-dff433f97388' class='xr-var-attrs-in' type='checkbox' ><label for='attrs-de5f35fd-2dda-4df5-870c-dff433f97388' title='Show/Hide attributes'><svg class='icon xr-icon-file-text2'><use xlink:href='#icon-file-text2'></use></svg></label><input id='data-e98d24dd-1c2b-4153-95da-e84027577610' class='xr-var-data-in' type='checkbox'><label for='data-e98d24dd-1c2b-4153-95da-e84027577610' title='Show/Hide data repr'><svg class='icon xr-icon-database'><use xlink:href='#icon-database'></use></svg></label><div class='xr-var-attrs'><dl class='xr-attrs'><dt><span>standard_name :</span></dt><dd>total</dd><dt><span>long_name :</span></dt><dd>dry weight of total zooplankton</dd><dt><span>units :</span></dt><dd>mg/m3</dd></dl></div><div class='xr-var-data'><pre>array([[[[[nan, nan, nan, ..., nan, nan, nan],\n",
       "          [nan, nan, nan, ..., nan, nan, nan],\n",
       "          [nan, nan, nan, ..., nan, nan, nan],\n",
       "          ...,\n",
       "          [nan, nan, nan, ..., nan, nan, nan],\n",
       "          [nan, nan, nan, ..., nan, nan, nan],\n",
       "          [nan, nan, nan, ..., nan, nan, nan]],\n",
       "\n",
       "         [[nan, nan, nan, ..., nan, nan, nan],\n",
       "          [nan, nan, nan, ..., nan, nan, nan],\n",
       "          [nan, nan, nan, ..., nan, nan, nan],\n",
       "          ...,\n",
       "          [nan, nan, nan, ..., nan, nan, nan],\n",
       "          [nan, nan, nan, ..., nan, nan, nan],\n",
       "          [nan, nan, nan, ..., nan, nan, nan]],\n",
       "\n",
       "         [[nan, nan, nan, ..., nan, nan, nan],\n",
       "          [nan, nan, nan, ..., nan, nan, nan],\n",
       "          [nan, nan, nan, ..., nan, nan, nan],\n",
       "          ...,\n",
       "...\n",
       "          ...,\n",
       "          [nan, nan, nan, ..., nan, nan, nan],\n",
       "          [nan, nan, nan, ..., nan, nan, nan],\n",
       "          [nan, nan, nan, ..., nan, nan, nan]],\n",
       "\n",
       "         [[nan, nan, nan, ..., nan, nan, nan],\n",
       "          [nan, nan, nan, ..., nan, nan, nan],\n",
       "          [nan, nan, nan, ..., nan, nan, nan],\n",
       "          ...,\n",
       "          [nan, nan, nan, ..., nan, nan, nan],\n",
       "          [nan, nan, nan, ..., nan, nan, nan],\n",
       "          [nan, nan, nan, ..., nan, nan, nan]],\n",
       "\n",
       "         [[nan, nan, nan, ..., nan, nan, nan],\n",
       "          [nan, nan, nan, ..., nan, nan, nan],\n",
       "          [nan, nan, nan, ..., nan, nan, nan],\n",
       "          ...,\n",
       "          [nan, nan, nan, ..., nan, nan, nan],\n",
       "          [nan, nan, nan, ..., nan, nan, nan],\n",
       "          [nan, nan, nan, ..., nan, nan, nan]]]]])</pre></div></li></ul></div></li><li class='xr-section-item'><input id='section-9f8f3a26-235b-44ff-a581-5dc5c8abba83' class='xr-section-summary-in' type='checkbox'  ><label for='section-9f8f3a26-235b-44ff-a581-5dc5c8abba83' class='xr-section-summary' >Indexes: <span>(5)</span></label><div class='xr-section-inline-details'></div><div class='xr-section-details'><ul class='xr-var-list'><li class='xr-var-item'><div class='xr-index-name'><div>time</div></div><div class='xr-index-preview'>PandasIndex</div><input type='checkbox' disabled/><label></label><input id='index-f7196bbb-7f49-49fd-b0ba-ea456cc0d7f3' class='xr-index-data-in' type='checkbox'/><label for='index-f7196bbb-7f49-49fd-b0ba-ea456cc0d7f3' title='Show/Hide index repr'><svg class='icon xr-icon-database'><use xlink:href='#icon-database'></use></svg></label><div class='xr-index-data'><pre>PandasIndex(DatetimeIndex([&#x27;1995-09-24&#x27;, &#x27;1995-09-25&#x27;, &#x27;1995-09-26&#x27;, &#x27;1995-09-28&#x27;,\n",
       "               &#x27;1996-03-06&#x27;, &#x27;1996-06-11&#x27;, &#x27;1996-10-05&#x27;, &#x27;1997-02-21&#x27;,\n",
       "               &#x27;1997-02-24&#x27;, &#x27;1997-03-14&#x27;,\n",
       "               ...\n",
       "               &#x27;2020-07-05&#x27;, &#x27;2020-07-22&#x27;, &#x27;2020-07-26&#x27;, &#x27;2020-08-14&#x27;,\n",
       "               &#x27;2020-08-15&#x27;, &#x27;2020-08-17&#x27;, &#x27;2020-08-18&#x27;, &#x27;2020-08-20&#x27;,\n",
       "               &#x27;2020-08-30&#x27;, &#x27;2020-08-31&#x27;],\n",
       "              dtype=&#x27;datetime64[ns]&#x27;, name=&#x27;time&#x27;, length=623, freq=None))</pre></div></li><li class='xr-var-item'><div class='xr-index-name'><div>is_day</div></div><div class='xr-index-preview'>PandasIndex</div><input type='checkbox' disabled/><label></label><input id='index-40c69576-8cc9-4e64-b082-578bf9a05050' class='xr-index-data-in' type='checkbox'/><label for='index-40c69576-8cc9-4e64-b082-578bf9a05050' title='Show/Hide index repr'><svg class='icon xr-icon-database'><use xlink:href='#icon-database'></use></svg></label><div class='xr-index-data'><pre>PandasIndex(Index([False, True], dtype=&#x27;bool&#x27;, name=&#x27;is_day&#x27;))</pre></div></li><li class='xr-var-item'><div class='xr-index-name'><div>latitude</div></div><div class='xr-index-preview'>PandasIndex</div><input type='checkbox' disabled/><label></label><input id='index-5620992e-8327-45ed-a7d3-2bba665abfdf' class='xr-index-data-in' type='checkbox'/><label for='index-5620992e-8327-45ed-a7d3-2bba665abfdf' title='Show/Hide index repr'><svg class='icon xr-icon-database'><use xlink:href='#icon-database'></use></svg></label><div class='xr-index-data'><pre>PandasIndex(CategoricalIndex([46.5, 47.5, 48.5, 49.5, 50.5, 51.5, 52.5, 53.5, 54.5, 55.5,\n",
       "                  56.5, 57.5],\n",
       "                 categories=[46.5, 47.5, 48.5, 49.5, ..., 54.5, 55.5, 56.5, 57.5], ordered=True, dtype=&#x27;category&#x27;, name=&#x27;latitude&#x27;))</pre></div></li><li class='xr-var-item'><div class='xr-index-name'><div>longitude</div></div><div class='xr-index-preview'>PandasIndex</div><input type='checkbox' disabled/><label></label><input id='index-ca4db732-42c3-4fe1-bee8-092a1dca66e1' class='xr-index-data-in' type='checkbox'/><label for='index-ca4db732-42c3-4fe1-bee8-092a1dca66e1' title='Show/Hide index repr'><svg class='icon xr-icon-database'><use xlink:href='#icon-database'></use></svg></label><div class='xr-index-data'><pre>PandasIndex(CategoricalIndex([-157.5, -156.5, -155.5, -154.5, -153.5, -152.5, -151.5,\n",
       "                  -150.5, -149.5, -148.5, -147.5, -146.5, -145.5, -144.5,\n",
       "                  -143.5, -142.5, -141.5, -140.5, -139.5, -138.5, -137.5,\n",
       "                  -136.5, -135.5, -134.5, -133.5, -132.5, -131.5, -130.5,\n",
       "                  -129.5, -128.5, -127.5],\n",
       "                 categories=[-157.5, -156.5, -155.5, -154.5, ..., -130.5, -129.5, -128.5, -127.5], ordered=True, dtype=&#x27;category&#x27;, name=&#x27;longitude&#x27;))</pre></div></li><li class='xr-var-item'><div class='xr-index-name'><div>depth</div></div><div class='xr-index-preview'>PandasIndex</div><input type='checkbox' disabled/><label></label><input id='index-e298af5b-1978-4343-a292-c83d472814bf' class='xr-index-data-in' type='checkbox'/><label for='index-e298af5b-1978-4343-a292-c83d472814bf' title='Show/Hide index repr'><svg class='icon xr-icon-database'><use xlink:href='#icon-database'></use></svg></label><div class='xr-index-data'><pre>PandasIndex(CategoricalIndex([50, 100, 150, 200, 250, 300, 350, 400], categories=[50, 100, 150, 200, 250, 300, 350, 400], ordered=True, dtype=&#x27;category&#x27;, name=&#x27;depth&#x27;))</pre></div></li></ul></div></li><li class='xr-section-item'><input id='section-0c1a6205-63c6-4c6d-b9bb-9930ce9d14e5' class='xr-section-summary-in' type='checkbox' disabled ><label for='section-0c1a6205-63c6-4c6d-b9bb-9930ce9d14e5' class='xr-section-summary'  title='Expand/collapse section'>Attributes: <span>(0)</span></label><div class='xr-section-inline-details'></div><div class='xr-section-details'><dl class='xr-attrs'></dl></div></li></ul></div></div>"
      ],
      "text/plain": [
       "<xarray.Dataset> Size: 326MB\n",
       "Dimensions:           (time: 623, is_day: 2, latitude: 12, longitude: 31,\n",
       "                       depth: 8)\n",
       "Coordinates:\n",
       "  * time              (time) datetime64[ns] 5kB 1995-09-24 ... 2020-08-31\n",
       "  * is_day            (is_day) bool 2B False True\n",
       "  * latitude          (latitude) float64 96B 46.5 47.5 48.5 ... 55.5 56.5 57.5\n",
       "  * longitude         (longitude) float64 248B -157.5 -156.5 ... -128.5 -127.5\n",
       "  * depth             (depth) int64 64B 50 100 150 200 250 300 350 400\n",
       "Data variables:\n",
       "    mesh_size         (time, is_day, latitude, longitude, depth) float64 30MB ...\n",
       "    volume_filtered   (time, is_day, latitude, longitude, depth) float64 30MB ...\n",
       "    benthos           (time, is_day, latitude, longitude, depth) float64 30MB ...\n",
       "    crustacean        (time, is_day, latitude, longitude, depth) float64 30MB ...\n",
       "    chaetognatha      (time, is_day, latitude, longitude, depth) float64 30MB ...\n",
       "    small_gelatinous  (time, is_day, latitude, longitude, depth) float64 30MB ...\n",
       "    larvacean         (time, is_day, latitude, longitude, depth) float64 30MB ...\n",
       "    thaliacea         (time, is_day, latitude, longitude, depth) float64 30MB ...\n",
       "    pteropods         (time, is_day, latitude, longitude, depth) float64 30MB ...\n",
       "    others            (time, is_day, latitude, longitude, depth) float64 30MB ...\n",
       "    total             (time, is_day, latitude, longitude, depth) float64 30MB ..."
      ]
     },
     "execution_count": 53,
     "metadata": {},
     "output_type": "execute_result"
    }
   ],
   "source": [
    "preprocessed_data = xr.Dataset.from_dataframe(\n",
    "    final_data.groupby([\"time\", \"is_day\", \"lat\", \"lon\", \"depth\"]).mean()\n",
    ").rename({\"lat\": \"latitude\", \"lon\": \"longitude\"})\n",
    "\n",
    "for var in list(taxa_groups.keys()) + [\"total\"]:\n",
    "    preprocessed_data[var].attrs = {\n",
    "        \"standard_name\": var,\n",
    "        \"long_name\": f\"dry weight of {var} zooplankton\",\n",
    "        \"units\": \"mg/m3\",\n",
    "    }\n",
    "\n",
    "preprocessed_data[\"time\"].attrs = {\n",
    "    \"standard_name\": \"time\",\n",
    "    \"long_name\": \"time\",\n",
    "    \"axis\": \"T\",\n",
    "}\n",
    "\n",
    "preprocessed_data[\"is_day\"].attrs = {\n",
    "    \"flag_values\": f\"{[True, False]}\",\n",
    "    \"flag_meanings\": \"day night\",\n",
    "    \"standard_name\": \"is_day\",\n",
    "    \"long_name\": \"Is day\",\n",
    "    \"description\": \"Flag to indicate if the time is during the day or night\",\n",
    "}\n",
    "\n",
    "preprocessed_data[\"latitude\"].attrs = {\n",
    "    \"standard_name\": \"latitude\",\n",
    "    \"long_name\": \"latitude\",\n",
    "    \"axis\": \"Y\",\n",
    "    \"units\": \"degrees_north\",\n",
    "}\n",
    "preprocessed_data[\"longitude\"].attrs = {\n",
    "    \"standard_name\": \"longitude\",\n",
    "    \"long_name\": \"longitude\",\n",
    "    \"axis\": \"X\",\n",
    "    \"units\": \"degrees_east\",\n",
    "}\n",
    "preprocessed_data[\"depth\"].attrs = {\n",
    "    \"standard_name\": \"depth\",\n",
    "    \"long_name\": \"depth\",\n",
    "    \"axis\": \"Z\",\n",
    "    \"units\": \"m\",\n",
    "}\n",
    "preprocessed_data[\"volume_filtered\"].attrs = {\n",
    "    \"standard_name\": \"volume\",\n",
    "    \"long_name\": \"filtered volume of water\",\n",
    "    \"units\": \"m3\",\n",
    "}\n",
    "preprocessed_data[\"mesh_size\"].attrs = {\n",
    "    \"standard_name\": \"mesh_size\",\n",
    "    \"long_name\": \"net mesh size\",\n",
    "    \"units\": \"um\",\n",
    "}\n",
    "\n",
    "\n",
    "preprocessed_data"
   ]
  },
  {
   "cell_type": "markdown",
   "metadata": {},
   "source": [
    "## Final plot\n",
    "\n",
    "---\n"
   ]
  },
  {
   "cell_type": "code",
   "execution_count": 54,
   "metadata": {},
   "outputs": [
    {
     "name": "stderr",
     "output_type": "stream",
     "text": [
      "/tmp/ipykernel_252431/3184653727.py:1: FutureWarning:\n",
      "\n",
      "The default of observed=False is deprecated and will be changed to True in a future version of pandas. Pass observed=False to retain current behavior or observed=True to adopt the future default and silence this warning.\n",
      "\n"
     ]
    },
    {
     "data": {
      "application/vnd.plotly.v1+json": {
       "config": {
        "plotlyServerURL": "https://plot.ly"
       },
       "data": [
        {
         "alignmentgroup": "True",
         "hovertemplate": "variable=%{x}<br>value=%{y}<extra></extra>",
         "legendgroup": "",
         "marker": {
          "color": "#636efa"
         },
         "name": "",
         "notched": false,
         "offsetgroup": "",
         "orientation": "v",
         "showlegend": false,
         "type": "box",
         "x": [
          "mesh_size",
          "mesh_size",
          "mesh_size",
          "mesh_size",
          "mesh_size",
          "mesh_size",
          "mesh_size",
          "mesh_size",
          "mesh_size",
          "mesh_size",
          "mesh_size",
          "mesh_size",
          "mesh_size",
          "mesh_size",
          "mesh_size",
          "mesh_size",
          "mesh_size",
          "mesh_size",
          "mesh_size",
          "mesh_size",
          "mesh_size",
          "mesh_size",
          "mesh_size",
          "mesh_size",
          "mesh_size",
          "mesh_size",
          "mesh_size",
          "mesh_size",
          "mesh_size",
          "mesh_size",
          "mesh_size",
          "mesh_size",
          "mesh_size",
          "mesh_size",
          "mesh_size",
          "mesh_size",
          "mesh_size",
          "mesh_size",
          "mesh_size",
          "mesh_size",
          "mesh_size",
          "mesh_size",
          "mesh_size",
          "mesh_size",
          "mesh_size",
          "mesh_size",
          "mesh_size",
          "mesh_size",
          "mesh_size",
          "mesh_size",
          "mesh_size",
          "mesh_size",
          "mesh_size",
          "mesh_size",
          "mesh_size",
          "mesh_size",
          "mesh_size",
          "mesh_size",
          "mesh_size",
          "mesh_size",
          "mesh_size",
          "mesh_size",
          "mesh_size",
          "mesh_size",
          "mesh_size",
          "mesh_size",
          "mesh_size",
          "mesh_size",
          "mesh_size",
          "mesh_size",
          "mesh_size",
          "mesh_size",
          "mesh_size",
          "mesh_size",
          "mesh_size",
          "mesh_size",
          "mesh_size",
          "mesh_size",
          "mesh_size",
          "mesh_size",
          "mesh_size",
          "mesh_size",
          "mesh_size",
          "mesh_size",
          "mesh_size",
          "mesh_size",
          "mesh_size",
          "mesh_size",
          "mesh_size",
          "mesh_size",
          "mesh_size",
          "mesh_size",
          "mesh_size",
          "mesh_size",
          "mesh_size",
          "mesh_size",
          "mesh_size",
          "mesh_size",
          "mesh_size",
          "mesh_size",
          "mesh_size",
          "mesh_size",
          "mesh_size",
          "mesh_size",
          "mesh_size",
          "mesh_size",
          "mesh_size",
          "mesh_size",
          "mesh_size",
          "mesh_size",
          "mesh_size",
          "mesh_size",
          "mesh_size",
          "mesh_size",
          "mesh_size",
          "mesh_size",
          "mesh_size",
          "mesh_size",
          "mesh_size",
          "mesh_size",
          "mesh_size",
          "mesh_size",
          "mesh_size",
          "mesh_size",
          "mesh_size",
          "mesh_size",
          "mesh_size",
          "mesh_size",
          "mesh_size",
          "mesh_size",
          "mesh_size",
          "mesh_size",
          "mesh_size",
          "mesh_size",
          "mesh_size",
          "mesh_size",
          "mesh_size",
          "mesh_size",
          "mesh_size",
          "mesh_size",
          "mesh_size",
          "mesh_size",
          "mesh_size",
          "mesh_size",
          "mesh_size",
          "mesh_size",
          "mesh_size",
          "mesh_size",
          "mesh_size",
          "mesh_size",
          "mesh_size",
          "mesh_size",
          "mesh_size",
          "mesh_size",
          "mesh_size",
          "mesh_size",
          "mesh_size",
          "mesh_size",
          "mesh_size",
          "mesh_size",
          "mesh_size",
          "mesh_size",
          "mesh_size",
          "mesh_size",
          "mesh_size",
          "mesh_size",
          "mesh_size",
          "mesh_size",
          "mesh_size",
          "mesh_size",
          "mesh_size",
          "mesh_size",
          "mesh_size",
          "mesh_size",
          "mesh_size",
          "mesh_size",
          "mesh_size",
          "mesh_size",
          "mesh_size",
          "mesh_size",
          "mesh_size",
          "mesh_size",
          "mesh_size",
          "mesh_size",
          "mesh_size",
          "mesh_size",
          "mesh_size",
          "mesh_size",
          "mesh_size",
          "mesh_size",
          "mesh_size",
          "mesh_size",
          "mesh_size",
          "mesh_size",
          "mesh_size",
          "mesh_size",
          "mesh_size",
          "mesh_size",
          "mesh_size",
          "mesh_size",
          "mesh_size",
          "mesh_size",
          "mesh_size",
          "mesh_size",
          "mesh_size",
          "mesh_size",
          "mesh_size",
          "mesh_size",
          "mesh_size",
          "mesh_size",
          "mesh_size",
          "mesh_size",
          "mesh_size",
          "mesh_size",
          "mesh_size",
          "mesh_size",
          "mesh_size",
          "mesh_size",
          "mesh_size",
          "mesh_size",
          "mesh_size",
          "mesh_size",
          "mesh_size",
          "mesh_size",
          "mesh_size",
          "mesh_size",
          "mesh_size",
          "mesh_size",
          "mesh_size",
          "mesh_size",
          "mesh_size",
          "mesh_size",
          "mesh_size",
          "mesh_size",
          "mesh_size",
          "mesh_size",
          "mesh_size",
          "mesh_size",
          "mesh_size",
          "mesh_size",
          "mesh_size",
          "mesh_size",
          "mesh_size",
          "mesh_size",
          "mesh_size",
          "mesh_size",
          "mesh_size",
          "mesh_size",
          "mesh_size",
          "mesh_size",
          "mesh_size",
          "mesh_size",
          "mesh_size",
          "mesh_size",
          "mesh_size",
          "mesh_size",
          "mesh_size",
          "mesh_size",
          "mesh_size",
          "mesh_size",
          "mesh_size",
          "mesh_size",
          "mesh_size",
          "mesh_size",
          "mesh_size",
          "mesh_size",
          "mesh_size",
          "mesh_size",
          "mesh_size",
          "mesh_size",
          "mesh_size",
          "mesh_size",
          "mesh_size",
          "mesh_size",
          "mesh_size",
          "mesh_size",
          "mesh_size",
          "mesh_size",
          "mesh_size",
          "mesh_size",
          "mesh_size",
          "mesh_size",
          "mesh_size",
          "mesh_size",
          "mesh_size",
          "mesh_size",
          "mesh_size",
          "mesh_size",
          "mesh_size",
          "mesh_size",
          "mesh_size",
          "mesh_size",
          "mesh_size",
          "mesh_size",
          "mesh_size",
          "mesh_size",
          "mesh_size",
          "mesh_size",
          "mesh_size",
          "mesh_size",
          "mesh_size",
          "mesh_size",
          "mesh_size",
          "mesh_size",
          "mesh_size",
          "mesh_size",
          "mesh_size",
          "mesh_size",
          "mesh_size",
          "mesh_size",
          "mesh_size",
          "mesh_size",
          "mesh_size",
          "mesh_size",
          "mesh_size",
          "mesh_size",
          "mesh_size",
          "mesh_size",
          "mesh_size",
          "mesh_size",
          "mesh_size",
          "mesh_size",
          "mesh_size",
          "mesh_size",
          "mesh_size",
          "mesh_size",
          "mesh_size",
          "mesh_size",
          "mesh_size",
          "mesh_size",
          "mesh_size",
          "mesh_size",
          "mesh_size",
          "mesh_size",
          "mesh_size",
          "mesh_size",
          "mesh_size",
          "mesh_size",
          "mesh_size",
          "mesh_size",
          "mesh_size",
          "mesh_size",
          "mesh_size",
          "mesh_size",
          "mesh_size",
          "mesh_size",
          "mesh_size",
          "mesh_size",
          "mesh_size",
          "mesh_size",
          "mesh_size",
          "mesh_size",
          "mesh_size",
          "mesh_size",
          "mesh_size",
          "mesh_size",
          "mesh_size",
          "mesh_size",
          "mesh_size",
          "mesh_size",
          "mesh_size",
          "mesh_size",
          "mesh_size",
          "mesh_size",
          "mesh_size",
          "mesh_size",
          "mesh_size",
          "mesh_size",
          "mesh_size",
          "mesh_size",
          "mesh_size",
          "mesh_size",
          "mesh_size",
          "mesh_size",
          "mesh_size",
          "mesh_size",
          "mesh_size",
          "mesh_size",
          "mesh_size",
          "mesh_size",
          "mesh_size",
          "mesh_size",
          "mesh_size",
          "mesh_size",
          "mesh_size",
          "mesh_size",
          "mesh_size",
          "mesh_size",
          "mesh_size",
          "mesh_size",
          "mesh_size",
          "mesh_size",
          "mesh_size",
          "mesh_size",
          "mesh_size",
          "mesh_size",
          "mesh_size",
          "mesh_size",
          "mesh_size",
          "mesh_size",
          "mesh_size",
          "mesh_size",
          "mesh_size",
          "mesh_size",
          "mesh_size",
          "mesh_size",
          "mesh_size",
          "mesh_size",
          "mesh_size",
          "mesh_size",
          "mesh_size",
          "mesh_size",
          "mesh_size",
          "mesh_size",
          "mesh_size",
          "mesh_size",
          "mesh_size",
          "mesh_size",
          "mesh_size",
          "mesh_size",
          "mesh_size",
          "mesh_size",
          "mesh_size",
          "mesh_size",
          "mesh_size",
          "mesh_size",
          "mesh_size",
          "mesh_size",
          "mesh_size",
          "mesh_size",
          "mesh_size",
          "mesh_size",
          "mesh_size",
          "mesh_size",
          "mesh_size",
          "mesh_size",
          "mesh_size",
          "mesh_size",
          "mesh_size",
          "mesh_size",
          "mesh_size",
          "mesh_size",
          "mesh_size",
          "mesh_size",
          "mesh_size",
          "mesh_size",
          "mesh_size",
          "mesh_size",
          "mesh_size",
          "mesh_size",
          "mesh_size",
          "mesh_size",
          "mesh_size",
          "mesh_size",
          "mesh_size",
          "mesh_size",
          "mesh_size",
          "mesh_size",
          "mesh_size",
          "mesh_size",
          "mesh_size",
          "mesh_size",
          "mesh_size",
          "mesh_size",
          "mesh_size",
          "mesh_size",
          "mesh_size",
          "mesh_size",
          "mesh_size",
          "mesh_size",
          "mesh_size",
          "mesh_size",
          "mesh_size",
          "mesh_size",
          "mesh_size",
          "mesh_size",
          "mesh_size",
          "mesh_size",
          "mesh_size",
          "mesh_size",
          "mesh_size",
          "mesh_size",
          "mesh_size",
          "mesh_size",
          "mesh_size",
          "mesh_size",
          "mesh_size",
          "mesh_size",
          "mesh_size",
          "mesh_size",
          "mesh_size",
          "mesh_size",
          "mesh_size",
          "mesh_size",
          "mesh_size",
          "mesh_size",
          "mesh_size",
          "mesh_size",
          "mesh_size",
          "mesh_size",
          "mesh_size",
          "mesh_size",
          "mesh_size",
          "mesh_size",
          "mesh_size",
          "mesh_size",
          "mesh_size",
          "mesh_size",
          "mesh_size",
          "mesh_size",
          "mesh_size",
          "mesh_size",
          "mesh_size",
          "mesh_size",
          "mesh_size",
          "mesh_size",
          "mesh_size",
          "mesh_size",
          "mesh_size",
          "mesh_size",
          "mesh_size",
          "mesh_size",
          "mesh_size",
          "mesh_size",
          "mesh_size",
          "mesh_size",
          "mesh_size",
          "mesh_size",
          "mesh_size",
          "mesh_size",
          "mesh_size",
          "mesh_size",
          "mesh_size",
          "mesh_size",
          "mesh_size",
          "mesh_size",
          "mesh_size",
          "mesh_size",
          "mesh_size",
          "mesh_size",
          "mesh_size",
          "mesh_size",
          "mesh_size",
          "mesh_size",
          "mesh_size",
          "mesh_size",
          "mesh_size",
          "mesh_size",
          "mesh_size",
          "mesh_size",
          "mesh_size",
          "mesh_size",
          "mesh_size",
          "mesh_size",
          "mesh_size",
          "mesh_size",
          "mesh_size",
          "mesh_size",
          "mesh_size",
          "mesh_size",
          "mesh_size",
          "mesh_size",
          "mesh_size",
          "mesh_size",
          "mesh_size",
          "mesh_size",
          "mesh_size",
          "mesh_size",
          "mesh_size",
          "mesh_size",
          "mesh_size",
          "mesh_size",
          "mesh_size",
          "mesh_size",
          "mesh_size",
          "mesh_size",
          "mesh_size",
          "mesh_size",
          "mesh_size",
          "mesh_size",
          "mesh_size",
          "mesh_size",
          "mesh_size",
          "mesh_size",
          "mesh_size",
          "mesh_size",
          "mesh_size",
          "mesh_size",
          "mesh_size",
          "mesh_size",
          "mesh_size",
          "mesh_size",
          "mesh_size",
          "mesh_size",
          "mesh_size",
          "mesh_size",
          "mesh_size",
          "mesh_size",
          "mesh_size",
          "mesh_size",
          "mesh_size",
          "mesh_size",
          "mesh_size",
          "mesh_size",
          "mesh_size",
          "mesh_size",
          "mesh_size",
          "mesh_size",
          "mesh_size",
          "mesh_size",
          "mesh_size",
          "mesh_size",
          "mesh_size",
          "mesh_size",
          "mesh_size",
          "mesh_size",
          "mesh_size",
          "mesh_size",
          "mesh_size",
          "mesh_size",
          "mesh_size",
          "mesh_size",
          "mesh_size",
          "mesh_size",
          "mesh_size",
          "mesh_size",
          "mesh_size",
          "mesh_size",
          "mesh_size",
          "mesh_size",
          "mesh_size",
          "mesh_size",
          "mesh_size",
          "mesh_size",
          "mesh_size",
          "mesh_size",
          "mesh_size",
          "mesh_size",
          "mesh_size",
          "mesh_size",
          "mesh_size",
          "mesh_size",
          "mesh_size",
          "mesh_size",
          "mesh_size",
          "mesh_size",
          "mesh_size",
          "mesh_size",
          "mesh_size",
          "mesh_size",
          "mesh_size",
          "mesh_size",
          "mesh_size",
          "mesh_size",
          "mesh_size",
          "mesh_size",
          "mesh_size",
          "mesh_size",
          "mesh_size",
          "mesh_size",
          "mesh_size",
          "mesh_size",
          "mesh_size",
          "mesh_size",
          "mesh_size",
          "mesh_size",
          "mesh_size",
          "mesh_size",
          "mesh_size",
          "mesh_size",
          "mesh_size",
          "mesh_size",
          "mesh_size",
          "mesh_size",
          "mesh_size",
          "mesh_size",
          "mesh_size",
          "mesh_size",
          "mesh_size",
          "mesh_size",
          "mesh_size",
          "mesh_size",
          "mesh_size",
          "mesh_size",
          "mesh_size",
          "mesh_size",
          "mesh_size",
          "mesh_size",
          "mesh_size",
          "mesh_size",
          "mesh_size",
          "mesh_size",
          "mesh_size",
          "mesh_size",
          "mesh_size",
          "mesh_size",
          "mesh_size",
          "mesh_size",
          "mesh_size",
          "mesh_size",
          "mesh_size",
          "mesh_size",
          "mesh_size",
          "mesh_size",
          "mesh_size",
          "mesh_size",
          "mesh_size",
          "mesh_size",
          "mesh_size",
          "mesh_size",
          "mesh_size",
          "mesh_size",
          "mesh_size",
          "mesh_size",
          "mesh_size",
          "mesh_size",
          "mesh_size",
          "mesh_size",
          "mesh_size",
          "mesh_size",
          "mesh_size",
          "mesh_size",
          "mesh_size",
          "mesh_size",
          "mesh_size",
          "mesh_size",
          "mesh_size",
          "mesh_size",
          "mesh_size",
          "mesh_size",
          "mesh_size",
          "mesh_size",
          "mesh_size",
          "mesh_size",
          "mesh_size",
          "mesh_size",
          "mesh_size",
          "mesh_size",
          "mesh_size",
          "mesh_size",
          "mesh_size",
          "mesh_size",
          "mesh_size",
          "mesh_size",
          "mesh_size",
          "mesh_size",
          "mesh_size",
          "mesh_size",
          "mesh_size",
          "mesh_size",
          "mesh_size",
          "mesh_size",
          "mesh_size",
          "mesh_size",
          "mesh_size",
          "mesh_size",
          "mesh_size",
          "mesh_size",
          "mesh_size",
          "mesh_size",
          "mesh_size",
          "mesh_size",
          "mesh_size",
          "mesh_size",
          "mesh_size",
          "mesh_size",
          "mesh_size",
          "mesh_size",
          "mesh_size",
          "mesh_size",
          "mesh_size",
          "mesh_size",
          "mesh_size",
          "mesh_size",
          "mesh_size",
          "mesh_size",
          "mesh_size",
          "mesh_size",
          "mesh_size",
          "mesh_size",
          "mesh_size",
          "mesh_size",
          "mesh_size",
          "mesh_size",
          "mesh_size",
          "mesh_size",
          "mesh_size",
          "mesh_size",
          "mesh_size",
          "mesh_size",
          "mesh_size",
          "mesh_size",
          "mesh_size",
          "mesh_size",
          "mesh_size",
          "mesh_size",
          "mesh_size",
          "mesh_size",
          "mesh_size",
          "volume_filtered",
          "volume_filtered",
          "volume_filtered",
          "volume_filtered",
          "volume_filtered",
          "volume_filtered",
          "volume_filtered",
          "volume_filtered",
          "volume_filtered",
          "volume_filtered",
          "volume_filtered",
          "volume_filtered",
          "volume_filtered",
          "volume_filtered",
          "volume_filtered",
          "volume_filtered",
          "volume_filtered",
          "volume_filtered",
          "volume_filtered",
          "volume_filtered",
          "volume_filtered",
          "volume_filtered",
          "volume_filtered",
          "volume_filtered",
          "volume_filtered",
          "volume_filtered",
          "volume_filtered",
          "volume_filtered",
          "volume_filtered",
          "volume_filtered",
          "volume_filtered",
          "volume_filtered",
          "volume_filtered",
          "volume_filtered",
          "volume_filtered",
          "volume_filtered",
          "volume_filtered",
          "volume_filtered",
          "volume_filtered",
          "volume_filtered",
          "volume_filtered",
          "volume_filtered",
          "volume_filtered",
          "volume_filtered",
          "volume_filtered",
          "volume_filtered",
          "volume_filtered",
          "volume_filtered",
          "volume_filtered",
          "volume_filtered",
          "volume_filtered",
          "volume_filtered",
          "volume_filtered",
          "volume_filtered",
          "volume_filtered",
          "volume_filtered",
          "volume_filtered",
          "volume_filtered",
          "volume_filtered",
          "volume_filtered",
          "volume_filtered",
          "volume_filtered",
          "volume_filtered",
          "volume_filtered",
          "volume_filtered",
          "volume_filtered",
          "volume_filtered",
          "volume_filtered",
          "volume_filtered",
          "volume_filtered",
          "volume_filtered",
          "volume_filtered",
          "volume_filtered",
          "volume_filtered",
          "volume_filtered",
          "volume_filtered",
          "volume_filtered",
          "volume_filtered",
          "volume_filtered",
          "volume_filtered",
          "volume_filtered",
          "volume_filtered",
          "volume_filtered",
          "volume_filtered",
          "volume_filtered",
          "volume_filtered",
          "volume_filtered",
          "volume_filtered",
          "volume_filtered",
          "volume_filtered",
          "volume_filtered",
          "volume_filtered",
          "volume_filtered",
          "volume_filtered",
          "volume_filtered",
          "volume_filtered",
          "volume_filtered",
          "volume_filtered",
          "volume_filtered",
          "volume_filtered",
          "volume_filtered",
          "volume_filtered",
          "volume_filtered",
          "volume_filtered",
          "volume_filtered",
          "volume_filtered",
          "volume_filtered",
          "volume_filtered",
          "volume_filtered",
          "volume_filtered",
          "volume_filtered",
          "volume_filtered",
          "volume_filtered",
          "volume_filtered",
          "volume_filtered",
          "volume_filtered",
          "volume_filtered",
          "volume_filtered",
          "volume_filtered",
          "volume_filtered",
          "volume_filtered",
          "volume_filtered",
          "volume_filtered",
          "volume_filtered",
          "volume_filtered",
          "volume_filtered",
          "volume_filtered",
          "volume_filtered",
          "volume_filtered",
          "volume_filtered",
          "volume_filtered",
          "volume_filtered",
          "volume_filtered",
          "volume_filtered",
          "volume_filtered",
          "volume_filtered",
          "volume_filtered",
          "volume_filtered",
          "volume_filtered",
          "volume_filtered",
          "volume_filtered",
          "volume_filtered",
          "volume_filtered",
          "volume_filtered",
          "volume_filtered",
          "volume_filtered",
          "volume_filtered",
          "volume_filtered",
          "volume_filtered",
          "volume_filtered",
          "volume_filtered",
          "volume_filtered",
          "volume_filtered",
          "volume_filtered",
          "volume_filtered",
          "volume_filtered",
          "volume_filtered",
          "volume_filtered",
          "volume_filtered",
          "volume_filtered",
          "volume_filtered",
          "volume_filtered",
          "volume_filtered",
          "volume_filtered",
          "volume_filtered",
          "volume_filtered",
          "volume_filtered",
          "volume_filtered",
          "volume_filtered",
          "volume_filtered",
          "volume_filtered",
          "volume_filtered",
          "volume_filtered",
          "volume_filtered",
          "volume_filtered",
          "volume_filtered",
          "volume_filtered",
          "volume_filtered",
          "volume_filtered",
          "volume_filtered",
          "volume_filtered",
          "volume_filtered",
          "volume_filtered",
          "volume_filtered",
          "volume_filtered",
          "volume_filtered",
          "volume_filtered",
          "volume_filtered",
          "volume_filtered",
          "volume_filtered",
          "volume_filtered",
          "volume_filtered",
          "volume_filtered",
          "volume_filtered",
          "volume_filtered",
          "volume_filtered",
          "volume_filtered",
          "volume_filtered",
          "volume_filtered",
          "volume_filtered",
          "volume_filtered",
          "volume_filtered",
          "volume_filtered",
          "volume_filtered",
          "volume_filtered",
          "volume_filtered",
          "volume_filtered",
          "volume_filtered",
          "volume_filtered",
          "volume_filtered",
          "volume_filtered",
          "volume_filtered",
          "volume_filtered",
          "volume_filtered",
          "volume_filtered",
          "volume_filtered",
          "volume_filtered",
          "volume_filtered",
          "volume_filtered",
          "volume_filtered",
          "volume_filtered",
          "volume_filtered",
          "volume_filtered",
          "volume_filtered",
          "volume_filtered",
          "volume_filtered",
          "volume_filtered",
          "volume_filtered",
          "volume_filtered",
          "volume_filtered",
          "volume_filtered",
          "volume_filtered",
          "volume_filtered",
          "volume_filtered",
          "volume_filtered",
          "volume_filtered",
          "volume_filtered",
          "volume_filtered",
          "volume_filtered",
          "volume_filtered",
          "volume_filtered",
          "volume_filtered",
          "volume_filtered",
          "volume_filtered",
          "volume_filtered",
          "volume_filtered",
          "volume_filtered",
          "volume_filtered",
          "volume_filtered",
          "volume_filtered",
          "volume_filtered",
          "volume_filtered",
          "volume_filtered",
          "volume_filtered",
          "volume_filtered",
          "volume_filtered",
          "volume_filtered",
          "volume_filtered",
          "volume_filtered",
          "volume_filtered",
          "volume_filtered",
          "volume_filtered",
          "volume_filtered",
          "volume_filtered",
          "volume_filtered",
          "volume_filtered",
          "volume_filtered",
          "volume_filtered",
          "volume_filtered",
          "volume_filtered",
          "volume_filtered",
          "volume_filtered",
          "volume_filtered",
          "volume_filtered",
          "volume_filtered",
          "volume_filtered",
          "volume_filtered",
          "volume_filtered",
          "volume_filtered",
          "volume_filtered",
          "volume_filtered",
          "volume_filtered",
          "volume_filtered",
          "volume_filtered",
          "volume_filtered",
          "volume_filtered",
          "volume_filtered",
          "volume_filtered",
          "volume_filtered",
          "volume_filtered",
          "volume_filtered",
          "volume_filtered",
          "volume_filtered",
          "volume_filtered",
          "volume_filtered",
          "volume_filtered",
          "volume_filtered",
          "volume_filtered",
          "volume_filtered",
          "volume_filtered",
          "volume_filtered",
          "volume_filtered",
          "volume_filtered",
          "volume_filtered",
          "volume_filtered",
          "volume_filtered",
          "volume_filtered",
          "volume_filtered",
          "volume_filtered",
          "volume_filtered",
          "volume_filtered",
          "volume_filtered",
          "volume_filtered",
          "volume_filtered",
          "volume_filtered",
          "volume_filtered",
          "volume_filtered",
          "volume_filtered",
          "volume_filtered",
          "volume_filtered",
          "volume_filtered",
          "volume_filtered",
          "volume_filtered",
          "volume_filtered",
          "volume_filtered",
          "volume_filtered",
          "volume_filtered",
          "volume_filtered",
          "volume_filtered",
          "volume_filtered",
          "volume_filtered",
          "volume_filtered",
          "volume_filtered",
          "volume_filtered",
          "volume_filtered",
          "volume_filtered",
          "volume_filtered",
          "volume_filtered",
          "volume_filtered",
          "volume_filtered",
          "volume_filtered",
          "volume_filtered",
          "volume_filtered",
          "volume_filtered",
          "volume_filtered",
          "volume_filtered",
          "volume_filtered",
          "volume_filtered",
          "volume_filtered",
          "volume_filtered",
          "volume_filtered",
          "volume_filtered",
          "volume_filtered",
          "volume_filtered",
          "volume_filtered",
          "volume_filtered",
          "volume_filtered",
          "volume_filtered",
          "volume_filtered",
          "volume_filtered",
          "volume_filtered",
          "volume_filtered",
          "volume_filtered",
          "volume_filtered",
          "volume_filtered",
          "volume_filtered",
          "volume_filtered",
          "volume_filtered",
          "volume_filtered",
          "volume_filtered",
          "volume_filtered",
          "volume_filtered",
          "volume_filtered",
          "volume_filtered",
          "volume_filtered",
          "volume_filtered",
          "volume_filtered",
          "volume_filtered",
          "volume_filtered",
          "volume_filtered",
          "volume_filtered",
          "volume_filtered",
          "volume_filtered",
          "volume_filtered",
          "volume_filtered",
          "volume_filtered",
          "volume_filtered",
          "volume_filtered",
          "volume_filtered",
          "volume_filtered",
          "volume_filtered",
          "volume_filtered",
          "volume_filtered",
          "volume_filtered",
          "volume_filtered",
          "volume_filtered",
          "volume_filtered",
          "volume_filtered",
          "volume_filtered",
          "volume_filtered",
          "volume_filtered",
          "volume_filtered",
          "volume_filtered",
          "volume_filtered",
          "volume_filtered",
          "volume_filtered",
          "volume_filtered",
          "volume_filtered",
          "volume_filtered",
          "volume_filtered",
          "volume_filtered",
          "volume_filtered",
          "volume_filtered",
          "volume_filtered",
          "volume_filtered",
          "volume_filtered",
          "volume_filtered",
          "volume_filtered",
          "volume_filtered",
          "volume_filtered",
          "volume_filtered",
          "volume_filtered",
          "volume_filtered",
          "volume_filtered",
          "volume_filtered",
          "volume_filtered",
          "volume_filtered",
          "volume_filtered",
          "volume_filtered",
          "volume_filtered",
          "volume_filtered",
          "volume_filtered",
          "volume_filtered",
          "volume_filtered",
          "volume_filtered",
          "volume_filtered",
          "volume_filtered",
          "volume_filtered",
          "volume_filtered",
          "volume_filtered",
          "volume_filtered",
          "volume_filtered",
          "volume_filtered",
          "volume_filtered",
          "volume_filtered",
          "volume_filtered",
          "volume_filtered",
          "volume_filtered",
          "volume_filtered",
          "volume_filtered",
          "volume_filtered",
          "volume_filtered",
          "volume_filtered",
          "volume_filtered",
          "volume_filtered",
          "volume_filtered",
          "volume_filtered",
          "volume_filtered",
          "volume_filtered",
          "volume_filtered",
          "volume_filtered",
          "volume_filtered",
          "volume_filtered",
          "volume_filtered",
          "volume_filtered",
          "volume_filtered",
          "volume_filtered",
          "volume_filtered",
          "volume_filtered",
          "volume_filtered",
          "volume_filtered",
          "volume_filtered",
          "volume_filtered",
          "volume_filtered",
          "volume_filtered",
          "volume_filtered",
          "volume_filtered",
          "volume_filtered",
          "volume_filtered",
          "volume_filtered",
          "volume_filtered",
          "volume_filtered",
          "volume_filtered",
          "volume_filtered",
          "volume_filtered",
          "volume_filtered",
          "volume_filtered",
          "volume_filtered",
          "volume_filtered",
          "volume_filtered",
          "volume_filtered",
          "volume_filtered",
          "volume_filtered",
          "volume_filtered",
          "volume_filtered",
          "volume_filtered",
          "volume_filtered",
          "volume_filtered",
          "volume_filtered",
          "volume_filtered",
          "volume_filtered",
          "volume_filtered",
          "volume_filtered",
          "volume_filtered",
          "volume_filtered",
          "volume_filtered",
          "volume_filtered",
          "volume_filtered",
          "volume_filtered",
          "volume_filtered",
          "volume_filtered",
          "volume_filtered",
          "volume_filtered",
          "volume_filtered",
          "volume_filtered",
          "volume_filtered",
          "volume_filtered",
          "volume_filtered",
          "volume_filtered",
          "volume_filtered",
          "volume_filtered",
          "volume_filtered",
          "volume_filtered",
          "volume_filtered",
          "volume_filtered",
          "volume_filtered",
          "volume_filtered",
          "volume_filtered",
          "volume_filtered",
          "volume_filtered",
          "volume_filtered",
          "volume_filtered",
          "volume_filtered",
          "volume_filtered",
          "volume_filtered",
          "volume_filtered",
          "volume_filtered",
          "volume_filtered",
          "volume_filtered",
          "volume_filtered",
          "volume_filtered",
          "volume_filtered",
          "volume_filtered",
          "volume_filtered",
          "volume_filtered",
          "volume_filtered",
          "volume_filtered",
          "volume_filtered",
          "volume_filtered",
          "volume_filtered",
          "volume_filtered",
          "volume_filtered",
          "volume_filtered",
          "volume_filtered",
          "volume_filtered",
          "volume_filtered",
          "volume_filtered",
          "volume_filtered",
          "volume_filtered",
          "volume_filtered",
          "volume_filtered",
          "volume_filtered",
          "volume_filtered",
          "volume_filtered",
          "volume_filtered",
          "volume_filtered",
          "volume_filtered",
          "volume_filtered",
          "volume_filtered",
          "volume_filtered",
          "volume_filtered",
          "volume_filtered",
          "volume_filtered",
          "volume_filtered",
          "volume_filtered",
          "volume_filtered",
          "volume_filtered",
          "volume_filtered",
          "volume_filtered",
          "volume_filtered",
          "volume_filtered",
          "volume_filtered",
          "volume_filtered",
          "volume_filtered",
          "volume_filtered",
          "volume_filtered",
          "volume_filtered",
          "volume_filtered",
          "volume_filtered",
          "volume_filtered",
          "volume_filtered",
          "volume_filtered",
          "volume_filtered",
          "volume_filtered",
          "volume_filtered",
          "volume_filtered",
          "volume_filtered",
          "volume_filtered",
          "volume_filtered",
          "volume_filtered",
          "volume_filtered",
          "volume_filtered",
          "volume_filtered",
          "volume_filtered",
          "volume_filtered",
          "volume_filtered",
          "volume_filtered",
          "volume_filtered",
          "volume_filtered",
          "volume_filtered",
          "volume_filtered",
          "volume_filtered",
          "volume_filtered",
          "volume_filtered",
          "volume_filtered",
          "volume_filtered",
          "volume_filtered",
          "volume_filtered",
          "volume_filtered",
          "volume_filtered",
          "volume_filtered",
          "volume_filtered",
          "volume_filtered",
          "volume_filtered",
          "volume_filtered",
          "volume_filtered",
          "volume_filtered",
          "volume_filtered",
          "volume_filtered",
          "volume_filtered",
          "volume_filtered",
          "volume_filtered",
          "volume_filtered",
          "volume_filtered",
          "volume_filtered",
          "volume_filtered",
          "volume_filtered",
          "volume_filtered",
          "volume_filtered",
          "volume_filtered",
          "volume_filtered",
          "volume_filtered",
          "volume_filtered",
          "volume_filtered",
          "volume_filtered",
          "volume_filtered",
          "volume_filtered",
          "volume_filtered",
          "volume_filtered",
          "volume_filtered",
          "volume_filtered",
          "volume_filtered",
          "volume_filtered",
          "volume_filtered",
          "volume_filtered",
          "volume_filtered",
          "volume_filtered",
          "volume_filtered",
          "volume_filtered",
          "volume_filtered",
          "volume_filtered",
          "volume_filtered",
          "volume_filtered",
          "volume_filtered",
          "volume_filtered",
          "volume_filtered",
          "volume_filtered",
          "volume_filtered",
          "volume_filtered",
          "volume_filtered",
          "volume_filtered",
          "volume_filtered",
          "volume_filtered",
          "volume_filtered",
          "volume_filtered",
          "volume_filtered",
          "volume_filtered",
          "volume_filtered",
          "volume_filtered",
          "volume_filtered",
          "volume_filtered",
          "volume_filtered",
          "volume_filtered",
          "volume_filtered",
          "volume_filtered",
          "volume_filtered",
          "volume_filtered",
          "volume_filtered",
          "volume_filtered",
          "volume_filtered",
          "volume_filtered",
          "volume_filtered",
          "volume_filtered",
          "volume_filtered",
          "volume_filtered",
          "volume_filtered",
          "volume_filtered",
          "volume_filtered",
          "volume_filtered",
          "volume_filtered",
          "volume_filtered",
          "volume_filtered",
          "volume_filtered",
          "volume_filtered",
          "volume_filtered",
          "volume_filtered",
          "volume_filtered",
          "volume_filtered",
          "volume_filtered",
          "volume_filtered",
          "volume_filtered",
          "volume_filtered",
          "volume_filtered",
          "volume_filtered",
          "volume_filtered",
          "volume_filtered",
          "volume_filtered",
          "volume_filtered",
          "volume_filtered",
          "volume_filtered",
          "volume_filtered",
          "volume_filtered",
          "volume_filtered",
          "volume_filtered",
          "volume_filtered",
          "volume_filtered",
          "volume_filtered",
          "volume_filtered",
          "volume_filtered",
          "volume_filtered",
          "volume_filtered",
          "volume_filtered",
          "volume_filtered",
          "volume_filtered",
          "volume_filtered",
          "volume_filtered",
          "volume_filtered",
          "volume_filtered",
          "volume_filtered",
          "volume_filtered",
          "volume_filtered",
          "volume_filtered",
          "volume_filtered",
          "volume_filtered",
          "volume_filtered",
          "volume_filtered",
          "volume_filtered",
          "volume_filtered",
          "volume_filtered",
          "volume_filtered",
          "volume_filtered",
          "volume_filtered",
          "volume_filtered",
          "volume_filtered",
          "volume_filtered",
          "volume_filtered",
          "volume_filtered",
          "volume_filtered",
          "volume_filtered",
          "volume_filtered",
          "volume_filtered",
          "volume_filtered",
          "volume_filtered",
          "volume_filtered",
          "volume_filtered",
          "volume_filtered",
          "volume_filtered",
          "volume_filtered",
          "volume_filtered",
          "volume_filtered",
          "volume_filtered",
          "volume_filtered",
          "volume_filtered",
          "volume_filtered",
          "volume_filtered",
          "volume_filtered",
          "volume_filtered",
          "volume_filtered",
          "volume_filtered",
          "volume_filtered",
          "volume_filtered",
          "volume_filtered",
          "volume_filtered",
          "volume_filtered",
          "volume_filtered",
          "volume_filtered",
          "volume_filtered",
          "volume_filtered",
          "volume_filtered",
          "volume_filtered",
          "volume_filtered",
          "volume_filtered",
          "volume_filtered",
          "volume_filtered",
          "volume_filtered",
          "volume_filtered",
          "volume_filtered",
          "volume_filtered",
          "volume_filtered",
          "benthos",
          "benthos",
          "benthos",
          "benthos",
          "benthos",
          "benthos",
          "benthos",
          "benthos",
          "benthos",
          "benthos",
          "benthos",
          "benthos",
          "benthos",
          "benthos",
          "benthos",
          "benthos",
          "benthos",
          "benthos",
          "benthos",
          "benthos",
          "benthos",
          "benthos",
          "benthos",
          "benthos",
          "benthos",
          "benthos",
          "benthos",
          "benthos",
          "benthos",
          "benthos",
          "benthos",
          "benthos",
          "benthos",
          "benthos",
          "benthos",
          "benthos",
          "benthos",
          "benthos",
          "benthos",
          "benthos",
          "benthos",
          "benthos",
          "benthos",
          "benthos",
          "benthos",
          "benthos",
          "benthos",
          "benthos",
          "benthos",
          "benthos",
          "benthos",
          "benthos",
          "benthos",
          "benthos",
          "benthos",
          "benthos",
          "benthos",
          "benthos",
          "benthos",
          "benthos",
          "benthos",
          "benthos",
          "benthos",
          "benthos",
          "benthos",
          "benthos",
          "benthos",
          "benthos",
          "benthos",
          "benthos",
          "benthos",
          "benthos",
          "benthos",
          "benthos",
          "benthos",
          "benthos",
          "benthos",
          "benthos",
          "benthos",
          "benthos",
          "benthos",
          "benthos",
          "benthos",
          "benthos",
          "benthos",
          "benthos",
          "benthos",
          "benthos",
          "benthos",
          "benthos",
          "benthos",
          "benthos",
          "benthos",
          "benthos",
          "benthos",
          "benthos",
          "benthos",
          "benthos",
          "benthos",
          "benthos",
          "benthos",
          "benthos",
          "benthos",
          "benthos",
          "benthos",
          "benthos",
          "benthos",
          "benthos",
          "benthos",
          "benthos",
          "benthos",
          "benthos",
          "benthos",
          "benthos",
          "benthos",
          "benthos",
          "benthos",
          "benthos",
          "benthos",
          "benthos",
          "benthos",
          "benthos",
          "benthos",
          "benthos",
          "benthos",
          "benthos",
          "benthos",
          "benthos",
          "benthos",
          "benthos",
          "benthos",
          "benthos",
          "benthos",
          "benthos",
          "benthos",
          "benthos",
          "benthos",
          "benthos",
          "benthos",
          "benthos",
          "benthos",
          "benthos",
          "benthos",
          "benthos",
          "benthos",
          "benthos",
          "benthos",
          "benthos",
          "benthos",
          "benthos",
          "benthos",
          "benthos",
          "benthos",
          "benthos",
          "benthos",
          "benthos",
          "benthos",
          "benthos",
          "benthos",
          "benthos",
          "benthos",
          "benthos",
          "benthos",
          "benthos",
          "benthos",
          "benthos",
          "benthos",
          "benthos",
          "benthos",
          "benthos",
          "benthos",
          "benthos",
          "benthos",
          "benthos",
          "benthos",
          "benthos",
          "benthos",
          "benthos",
          "benthos",
          "benthos",
          "benthos",
          "benthos",
          "benthos",
          "benthos",
          "benthos",
          "benthos",
          "benthos",
          "benthos",
          "benthos",
          "benthos",
          "benthos",
          "benthos",
          "benthos",
          "benthos",
          "benthos",
          "benthos",
          "benthos",
          "benthos",
          "benthos",
          "benthos",
          "benthos",
          "benthos",
          "benthos",
          "benthos",
          "benthos",
          "benthos",
          "benthos",
          "benthos",
          "benthos",
          "benthos",
          "benthos",
          "benthos",
          "benthos",
          "benthos",
          "benthos",
          "benthos",
          "benthos",
          "benthos",
          "benthos",
          "benthos",
          "benthos",
          "benthos",
          "benthos",
          "benthos",
          "benthos",
          "benthos",
          "benthos",
          "benthos",
          "benthos",
          "benthos",
          "benthos",
          "benthos",
          "benthos",
          "benthos",
          "benthos",
          "benthos",
          "benthos",
          "benthos",
          "benthos",
          "benthos",
          "benthos",
          "benthos",
          "benthos",
          "benthos",
          "benthos",
          "benthos",
          "benthos",
          "benthos",
          "benthos",
          "benthos",
          "benthos",
          "benthos",
          "benthos",
          "benthos",
          "benthos",
          "benthos",
          "benthos",
          "benthos",
          "benthos",
          "benthos",
          "benthos",
          "benthos",
          "benthos",
          "benthos",
          "benthos",
          "benthos",
          "benthos",
          "benthos",
          "benthos",
          "benthos",
          "benthos",
          "benthos",
          "benthos",
          "benthos",
          "benthos",
          "benthos",
          "benthos",
          "benthos",
          "benthos",
          "benthos",
          "benthos",
          "benthos",
          "benthos",
          "benthos",
          "benthos",
          "benthos",
          "benthos",
          "benthos",
          "benthos",
          "benthos",
          "benthos",
          "benthos",
          "benthos",
          "benthos",
          "benthos",
          "benthos",
          "benthos",
          "benthos",
          "benthos",
          "benthos",
          "benthos",
          "benthos",
          "benthos",
          "benthos",
          "benthos",
          "benthos",
          "benthos",
          "benthos",
          "benthos",
          "benthos",
          "benthos",
          "benthos",
          "benthos",
          "benthos",
          "benthos",
          "benthos",
          "benthos",
          "benthos",
          "benthos",
          "benthos",
          "benthos",
          "benthos",
          "benthos",
          "benthos",
          "benthos",
          "benthos",
          "benthos",
          "benthos",
          "benthos",
          "benthos",
          "benthos",
          "benthos",
          "benthos",
          "benthos",
          "benthos",
          "benthos",
          "benthos",
          "benthos",
          "benthos",
          "benthos",
          "benthos",
          "benthos",
          "benthos",
          "benthos",
          "benthos",
          "benthos",
          "benthos",
          "benthos",
          "benthos",
          "benthos",
          "benthos",
          "benthos",
          "benthos",
          "benthos",
          "benthos",
          "benthos",
          "benthos",
          "benthos",
          "benthos",
          "benthos",
          "benthos",
          "benthos",
          "benthos",
          "benthos",
          "benthos",
          "benthos",
          "benthos",
          "benthos",
          "benthos",
          "benthos",
          "benthos",
          "benthos",
          "benthos",
          "benthos",
          "benthos",
          "benthos",
          "benthos",
          "benthos",
          "benthos",
          "benthos",
          "benthos",
          "benthos",
          "benthos",
          "benthos",
          "benthos",
          "benthos",
          "benthos",
          "benthos",
          "benthos",
          "benthos",
          "benthos",
          "benthos",
          "benthos",
          "benthos",
          "benthos",
          "benthos",
          "benthos",
          "benthos",
          "benthos",
          "benthos",
          "benthos",
          "benthos",
          "benthos",
          "benthos",
          "benthos",
          "benthos",
          "benthos",
          "benthos",
          "benthos",
          "benthos",
          "benthos",
          "benthos",
          "benthos",
          "benthos",
          "benthos",
          "benthos",
          "benthos",
          "benthos",
          "benthos",
          "benthos",
          "benthos",
          "benthos",
          "benthos",
          "benthos",
          "benthos",
          "benthos",
          "benthos",
          "benthos",
          "benthos",
          "benthos",
          "benthos",
          "benthos",
          "benthos",
          "benthos",
          "benthos",
          "benthos",
          "benthos",
          "benthos",
          "benthos",
          "benthos",
          "benthos",
          "benthos",
          "benthos",
          "benthos",
          "benthos",
          "benthos",
          "benthos",
          "benthos",
          "benthos",
          "benthos",
          "benthos",
          "benthos",
          "benthos",
          "benthos",
          "benthos",
          "benthos",
          "benthos",
          "benthos",
          "benthos",
          "benthos",
          "benthos",
          "benthos",
          "benthos",
          "benthos",
          "benthos",
          "benthos",
          "benthos",
          "benthos",
          "benthos",
          "benthos",
          "benthos",
          "benthos",
          "benthos",
          "benthos",
          "benthos",
          "benthos",
          "benthos",
          "benthos",
          "benthos",
          "benthos",
          "benthos",
          "benthos",
          "benthos",
          "benthos",
          "benthos",
          "benthos",
          "benthos",
          "benthos",
          "benthos",
          "benthos",
          "benthos",
          "benthos",
          "benthos",
          "benthos",
          "benthos",
          "benthos",
          "benthos",
          "benthos",
          "benthos",
          "benthos",
          "benthos",
          "benthos",
          "benthos",
          "benthos",
          "benthos",
          "benthos",
          "benthos",
          "benthos",
          "benthos",
          "benthos",
          "benthos",
          "benthos",
          "benthos",
          "benthos",
          "benthos",
          "benthos",
          "benthos",
          "benthos",
          "benthos",
          "benthos",
          "benthos",
          "benthos",
          "benthos",
          "benthos",
          "benthos",
          "benthos",
          "benthos",
          "benthos",
          "benthos",
          "benthos",
          "benthos",
          "benthos",
          "benthos",
          "benthos",
          "benthos",
          "benthos",
          "benthos",
          "benthos",
          "benthos",
          "benthos",
          "benthos",
          "benthos",
          "benthos",
          "benthos",
          "benthos",
          "benthos",
          "benthos",
          "benthos",
          "benthos",
          "benthos",
          "benthos",
          "benthos",
          "benthos",
          "benthos",
          "benthos",
          "benthos",
          "benthos",
          "benthos",
          "benthos",
          "benthos",
          "benthos",
          "benthos",
          "benthos",
          "benthos",
          "benthos",
          "benthos",
          "benthos",
          "benthos",
          "benthos",
          "benthos",
          "benthos",
          "benthos",
          "benthos",
          "benthos",
          "benthos",
          "benthos",
          "benthos",
          "benthos",
          "benthos",
          "benthos",
          "benthos",
          "benthos",
          "benthos",
          "benthos",
          "benthos",
          "benthos",
          "benthos",
          "benthos",
          "benthos",
          "benthos",
          "benthos",
          "benthos",
          "benthos",
          "benthos",
          "benthos",
          "benthos",
          "benthos",
          "benthos",
          "benthos",
          "benthos",
          "benthos",
          "benthos",
          "benthos",
          "benthos",
          "benthos",
          "benthos",
          "benthos",
          "benthos",
          "benthos",
          "benthos",
          "benthos",
          "benthos",
          "benthos",
          "benthos",
          "benthos",
          "benthos",
          "benthos",
          "benthos",
          "benthos",
          "benthos",
          "benthos",
          "benthos",
          "benthos",
          "benthos",
          "benthos",
          "benthos",
          "benthos",
          "benthos",
          "benthos",
          "benthos",
          "benthos",
          "benthos",
          "benthos",
          "benthos",
          "benthos",
          "benthos",
          "benthos",
          "benthos",
          "benthos",
          "benthos",
          "benthos",
          "benthos",
          "benthos",
          "benthos",
          "benthos",
          "benthos",
          "benthos",
          "benthos",
          "benthos",
          "benthos",
          "benthos",
          "benthos",
          "benthos",
          "benthos",
          "benthos",
          "benthos",
          "benthos",
          "benthos",
          "benthos",
          "benthos",
          "benthos",
          "benthos",
          "benthos",
          "benthos",
          "benthos",
          "benthos",
          "benthos",
          "benthos",
          "benthos",
          "benthos",
          "benthos",
          "benthos",
          "benthos",
          "benthos",
          "benthos",
          "benthos",
          "benthos",
          "benthos",
          "benthos",
          "benthos",
          "benthos",
          "benthos",
          "benthos",
          "benthos",
          "benthos",
          "benthos",
          "benthos",
          "benthos",
          "benthos",
          "benthos",
          "benthos",
          "benthos",
          "benthos",
          "benthos",
          "benthos",
          "benthos",
          "benthos",
          "benthos",
          "benthos",
          "benthos",
          "benthos",
          "benthos",
          "benthos",
          "benthos",
          "benthos",
          "benthos",
          "benthos",
          "benthos",
          "benthos",
          "benthos",
          "benthos",
          "benthos",
          "benthos",
          "benthos",
          "benthos",
          "benthos",
          "benthos",
          "benthos",
          "benthos",
          "benthos",
          "benthos",
          "benthos",
          "benthos",
          "benthos",
          "benthos",
          "benthos",
          "benthos",
          "benthos",
          "benthos",
          "benthos",
          "benthos",
          "benthos",
          "benthos",
          "benthos",
          "benthos",
          "benthos",
          "benthos",
          "benthos",
          "benthos",
          "benthos",
          "benthos",
          "benthos",
          "benthos",
          "benthos",
          "benthos",
          "benthos",
          "benthos",
          "benthos",
          "benthos",
          "benthos",
          "benthos",
          "benthos",
          "benthos",
          "benthos",
          "benthos",
          "benthos",
          "benthos",
          "benthos",
          "benthos",
          "benthos",
          "benthos",
          "benthos",
          "benthos",
          "benthos",
          "benthos",
          "benthos",
          "benthos",
          "benthos",
          "benthos",
          "benthos",
          "benthos",
          "benthos",
          "benthos",
          "benthos",
          "benthos",
          "benthos",
          "benthos",
          "benthos",
          "benthos",
          "benthos",
          "benthos",
          "benthos",
          "benthos",
          "benthos",
          "benthos",
          "benthos",
          "benthos",
          "benthos",
          "benthos",
          "benthos",
          "benthos",
          "benthos",
          "benthos",
          "benthos",
          "benthos",
          "benthos",
          "benthos",
          "benthos",
          "benthos",
          "crustacean",
          "crustacean",
          "crustacean",
          "crustacean",
          "crustacean",
          "crustacean",
          "crustacean",
          "crustacean",
          "crustacean",
          "crustacean",
          "crustacean",
          "crustacean",
          "crustacean",
          "crustacean",
          "crustacean",
          "crustacean",
          "crustacean",
          "crustacean",
          "crustacean",
          "crustacean",
          "crustacean",
          "crustacean",
          "crustacean",
          "crustacean",
          "crustacean",
          "crustacean",
          "crustacean",
          "crustacean",
          "crustacean",
          "crustacean",
          "crustacean",
          "crustacean",
          "crustacean",
          "crustacean",
          "crustacean",
          "crustacean",
          "crustacean",
          "crustacean",
          "crustacean",
          "crustacean",
          "crustacean",
          "crustacean",
          "crustacean",
          "crustacean",
          "crustacean",
          "crustacean",
          "crustacean",
          "crustacean",
          "crustacean",
          "crustacean",
          "crustacean",
          "crustacean",
          "crustacean",
          "crustacean",
          "crustacean",
          "crustacean",
          "crustacean",
          "crustacean",
          "crustacean",
          "crustacean",
          "crustacean",
          "crustacean",
          "crustacean",
          "crustacean",
          "crustacean",
          "crustacean",
          "crustacean",
          "crustacean",
          "crustacean",
          "crustacean",
          "crustacean",
          "crustacean",
          "crustacean",
          "crustacean",
          "crustacean",
          "crustacean",
          "crustacean",
          "crustacean",
          "crustacean",
          "crustacean",
          "crustacean",
          "crustacean",
          "crustacean",
          "crustacean",
          "crustacean",
          "crustacean",
          "crustacean",
          "crustacean",
          "crustacean",
          "crustacean",
          "crustacean",
          "crustacean",
          "crustacean",
          "crustacean",
          "crustacean",
          "crustacean",
          "crustacean",
          "crustacean",
          "crustacean",
          "crustacean",
          "crustacean",
          "crustacean",
          "crustacean",
          "crustacean",
          "crustacean",
          "crustacean",
          "crustacean",
          "crustacean",
          "crustacean",
          "crustacean",
          "crustacean",
          "crustacean",
          "crustacean",
          "crustacean",
          "crustacean",
          "crustacean",
          "crustacean",
          "crustacean",
          "crustacean",
          "crustacean",
          "crustacean",
          "crustacean",
          "crustacean",
          "crustacean",
          "crustacean",
          "crustacean",
          "crustacean",
          "crustacean",
          "crustacean",
          "crustacean",
          "crustacean",
          "crustacean",
          "crustacean",
          "crustacean",
          "crustacean",
          "crustacean",
          "crustacean",
          "crustacean",
          "crustacean",
          "crustacean",
          "crustacean",
          "crustacean",
          "crustacean",
          "crustacean",
          "crustacean",
          "crustacean",
          "crustacean",
          "crustacean",
          "crustacean",
          "crustacean",
          "crustacean",
          "crustacean",
          "crustacean",
          "crustacean",
          "crustacean",
          "crustacean",
          "crustacean",
          "crustacean",
          "crustacean",
          "crustacean",
          "crustacean",
          "crustacean",
          "crustacean",
          "crustacean",
          "crustacean",
          "crustacean",
          "crustacean",
          "crustacean",
          "crustacean",
          "crustacean",
          "crustacean",
          "crustacean",
          "crustacean",
          "crustacean",
          "crustacean",
          "crustacean",
          "crustacean",
          "crustacean",
          "crustacean",
          "crustacean",
          "crustacean",
          "crustacean",
          "crustacean",
          "crustacean",
          "crustacean",
          "crustacean",
          "crustacean",
          "crustacean",
          "crustacean",
          "crustacean",
          "crustacean",
          "crustacean",
          "crustacean",
          "crustacean",
          "crustacean",
          "crustacean",
          "crustacean",
          "crustacean",
          "crustacean",
          "crustacean",
          "crustacean",
          "crustacean",
          "crustacean",
          "crustacean",
          "crustacean",
          "crustacean",
          "crustacean",
          "crustacean",
          "crustacean",
          "crustacean",
          "crustacean",
          "crustacean",
          "crustacean",
          "crustacean",
          "crustacean",
          "crustacean",
          "crustacean",
          "crustacean",
          "crustacean",
          "crustacean",
          "crustacean",
          "crustacean",
          "crustacean",
          "crustacean",
          "crustacean",
          "crustacean",
          "crustacean",
          "crustacean",
          "crustacean",
          "crustacean",
          "crustacean",
          "crustacean",
          "crustacean",
          "crustacean",
          "crustacean",
          "crustacean",
          "crustacean",
          "crustacean",
          "crustacean",
          "crustacean",
          "crustacean",
          "crustacean",
          "crustacean",
          "crustacean",
          "crustacean",
          "crustacean",
          "crustacean",
          "crustacean",
          "crustacean",
          "crustacean",
          "crustacean",
          "crustacean",
          "crustacean",
          "crustacean",
          "crustacean",
          "crustacean",
          "crustacean",
          "crustacean",
          "crustacean",
          "crustacean",
          "crustacean",
          "crustacean",
          "crustacean",
          "crustacean",
          "crustacean",
          "crustacean",
          "crustacean",
          "crustacean",
          "crustacean",
          "crustacean",
          "crustacean",
          "crustacean",
          "crustacean",
          "crustacean",
          "crustacean",
          "crustacean",
          "crustacean",
          "crustacean",
          "crustacean",
          "crustacean",
          "crustacean",
          "crustacean",
          "crustacean",
          "crustacean",
          "crustacean",
          "crustacean",
          "crustacean",
          "crustacean",
          "crustacean",
          "crustacean",
          "crustacean",
          "crustacean",
          "crustacean",
          "crustacean",
          "crustacean",
          "crustacean",
          "crustacean",
          "crustacean",
          "crustacean",
          "crustacean",
          "crustacean",
          "crustacean",
          "crustacean",
          "crustacean",
          "crustacean",
          "crustacean",
          "crustacean",
          "crustacean",
          "crustacean",
          "crustacean",
          "crustacean",
          "crustacean",
          "crustacean",
          "crustacean",
          "crustacean",
          "crustacean",
          "crustacean",
          "crustacean",
          "crustacean",
          "crustacean",
          "crustacean",
          "crustacean",
          "crustacean",
          "crustacean",
          "crustacean",
          "crustacean",
          "crustacean",
          "crustacean",
          "crustacean",
          "crustacean",
          "crustacean",
          "crustacean",
          "crustacean",
          "crustacean",
          "crustacean",
          "crustacean",
          "crustacean",
          "crustacean",
          "crustacean",
          "crustacean",
          "crustacean",
          "crustacean",
          "crustacean",
          "crustacean",
          "crustacean",
          "crustacean",
          "crustacean",
          "crustacean",
          "crustacean",
          "crustacean",
          "crustacean",
          "crustacean",
          "crustacean",
          "crustacean",
          "crustacean",
          "crustacean",
          "crustacean",
          "crustacean",
          "crustacean",
          "crustacean",
          "crustacean",
          "crustacean",
          "crustacean",
          "crustacean",
          "crustacean",
          "crustacean",
          "crustacean",
          "crustacean",
          "crustacean",
          "crustacean",
          "crustacean",
          "crustacean",
          "crustacean",
          "crustacean",
          "crustacean",
          "crustacean",
          "crustacean",
          "crustacean",
          "crustacean",
          "crustacean",
          "crustacean",
          "crustacean",
          "crustacean",
          "crustacean",
          "crustacean",
          "crustacean",
          "crustacean",
          "crustacean",
          "crustacean",
          "crustacean",
          "crustacean",
          "crustacean",
          "crustacean",
          "crustacean",
          "crustacean",
          "crustacean",
          "crustacean",
          "crustacean",
          "crustacean",
          "crustacean",
          "crustacean",
          "crustacean",
          "crustacean",
          "crustacean",
          "crustacean",
          "crustacean",
          "crustacean",
          "crustacean",
          "crustacean",
          "crustacean",
          "crustacean",
          "crustacean",
          "crustacean",
          "crustacean",
          "crustacean",
          "crustacean",
          "crustacean",
          "crustacean",
          "crustacean",
          "crustacean",
          "crustacean",
          "crustacean",
          "crustacean",
          "crustacean",
          "crustacean",
          "crustacean",
          "crustacean",
          "crustacean",
          "crustacean",
          "crustacean",
          "crustacean",
          "crustacean",
          "crustacean",
          "crustacean",
          "crustacean",
          "crustacean",
          "crustacean",
          "crustacean",
          "crustacean",
          "crustacean",
          "crustacean",
          "crustacean",
          "crustacean",
          "crustacean",
          "crustacean",
          "crustacean",
          "crustacean",
          "crustacean",
          "crustacean",
          "crustacean",
          "crustacean",
          "crustacean",
          "crustacean",
          "crustacean",
          "crustacean",
          "crustacean",
          "crustacean",
          "crustacean",
          "crustacean",
          "crustacean",
          "crustacean",
          "crustacean",
          "crustacean",
          "crustacean",
          "crustacean",
          "crustacean",
          "crustacean",
          "crustacean",
          "crustacean",
          "crustacean",
          "crustacean",
          "crustacean",
          "crustacean",
          "crustacean",
          "crustacean",
          "crustacean",
          "crustacean",
          "crustacean",
          "crustacean",
          "crustacean",
          "crustacean",
          "crustacean",
          "crustacean",
          "crustacean",
          "crustacean",
          "crustacean",
          "crustacean",
          "crustacean",
          "crustacean",
          "crustacean",
          "crustacean",
          "crustacean",
          "crustacean",
          "crustacean",
          "crustacean",
          "crustacean",
          "crustacean",
          "crustacean",
          "crustacean",
          "crustacean",
          "crustacean",
          "crustacean",
          "crustacean",
          "crustacean",
          "crustacean",
          "crustacean",
          "crustacean",
          "crustacean",
          "crustacean",
          "crustacean",
          "crustacean",
          "crustacean",
          "crustacean",
          "crustacean",
          "crustacean",
          "crustacean",
          "crustacean",
          "crustacean",
          "crustacean",
          "crustacean",
          "crustacean",
          "crustacean",
          "crustacean",
          "crustacean",
          "crustacean",
          "crustacean",
          "crustacean",
          "crustacean",
          "crustacean",
          "crustacean",
          "crustacean",
          "crustacean",
          "crustacean",
          "crustacean",
          "crustacean",
          "crustacean",
          "crustacean",
          "crustacean",
          "crustacean",
          "crustacean",
          "crustacean",
          "crustacean",
          "crustacean",
          "crustacean",
          "crustacean",
          "crustacean",
          "crustacean",
          "crustacean",
          "crustacean",
          "crustacean",
          "crustacean",
          "crustacean",
          "crustacean",
          "crustacean",
          "crustacean",
          "crustacean",
          "crustacean",
          "crustacean",
          "crustacean",
          "crustacean",
          "crustacean",
          "crustacean",
          "crustacean",
          "crustacean",
          "crustacean",
          "crustacean",
          "crustacean",
          "crustacean",
          "crustacean",
          "crustacean",
          "crustacean",
          "crustacean",
          "crustacean",
          "crustacean",
          "crustacean",
          "crustacean",
          "crustacean",
          "crustacean",
          "crustacean",
          "crustacean",
          "crustacean",
          "crustacean",
          "crustacean",
          "crustacean",
          "crustacean",
          "crustacean",
          "crustacean",
          "crustacean",
          "crustacean",
          "crustacean",
          "crustacean",
          "crustacean",
          "crustacean",
          "crustacean",
          "crustacean",
          "crustacean",
          "crustacean",
          "crustacean",
          "crustacean",
          "crustacean",
          "crustacean",
          "crustacean",
          "crustacean",
          "crustacean",
          "crustacean",
          "crustacean",
          "crustacean",
          "crustacean",
          "crustacean",
          "crustacean",
          "crustacean",
          "crustacean",
          "crustacean",
          "crustacean",
          "crustacean",
          "crustacean",
          "crustacean",
          "crustacean",
          "crustacean",
          "crustacean",
          "crustacean",
          "crustacean",
          "crustacean",
          "crustacean",
          "crustacean",
          "crustacean",
          "crustacean",
          "crustacean",
          "crustacean",
          "crustacean",
          "crustacean",
          "crustacean",
          "crustacean",
          "crustacean",
          "crustacean",
          "crustacean",
          "crustacean",
          "crustacean",
          "crustacean",
          "crustacean",
          "crustacean",
          "crustacean",
          "crustacean",
          "crustacean",
          "crustacean",
          "crustacean",
          "crustacean",
          "crustacean",
          "crustacean",
          "crustacean",
          "crustacean",
          "crustacean",
          "crustacean",
          "crustacean",
          "crustacean",
          "crustacean",
          "crustacean",
          "crustacean",
          "crustacean",
          "crustacean",
          "crustacean",
          "crustacean",
          "crustacean",
          "crustacean",
          "crustacean",
          "crustacean",
          "crustacean",
          "crustacean",
          "crustacean",
          "crustacean",
          "crustacean",
          "crustacean",
          "crustacean",
          "crustacean",
          "crustacean",
          "crustacean",
          "crustacean",
          "crustacean",
          "crustacean",
          "crustacean",
          "crustacean",
          "crustacean",
          "crustacean",
          "crustacean",
          "crustacean",
          "crustacean",
          "crustacean",
          "crustacean",
          "crustacean",
          "crustacean",
          "crustacean",
          "crustacean",
          "crustacean",
          "crustacean",
          "crustacean",
          "crustacean",
          "crustacean",
          "crustacean",
          "crustacean",
          "crustacean",
          "crustacean",
          "crustacean",
          "crustacean",
          "crustacean",
          "crustacean",
          "crustacean",
          "crustacean",
          "crustacean",
          "crustacean",
          "crustacean",
          "crustacean",
          "crustacean",
          "crustacean",
          "crustacean",
          "crustacean",
          "crustacean",
          "crustacean",
          "crustacean",
          "crustacean",
          "crustacean",
          "crustacean",
          "crustacean",
          "crustacean",
          "crustacean",
          "crustacean",
          "crustacean",
          "crustacean",
          "crustacean",
          "crustacean",
          "crustacean",
          "crustacean",
          "crustacean",
          "crustacean",
          "crustacean",
          "crustacean",
          "crustacean",
          "crustacean",
          "crustacean",
          "crustacean",
          "crustacean",
          "crustacean",
          "crustacean",
          "crustacean",
          "crustacean",
          "crustacean",
          "crustacean",
          "crustacean",
          "crustacean",
          "crustacean",
          "crustacean",
          "crustacean",
          "crustacean",
          "crustacean",
          "crustacean",
          "crustacean",
          "crustacean",
          "crustacean",
          "crustacean",
          "crustacean",
          "crustacean",
          "crustacean",
          "crustacean",
          "crustacean",
          "crustacean",
          "crustacean",
          "crustacean",
          "crustacean",
          "crustacean",
          "crustacean",
          "crustacean",
          "crustacean",
          "crustacean",
          "crustacean",
          "crustacean",
          "crustacean",
          "crustacean",
          "crustacean",
          "crustacean",
          "crustacean",
          "crustacean",
          "crustacean",
          "crustacean",
          "crustacean",
          "crustacean",
          "crustacean",
          "crustacean",
          "crustacean",
          "crustacean",
          "crustacean",
          "crustacean",
          "crustacean",
          "crustacean",
          "crustacean",
          "crustacean",
          "crustacean",
          "crustacean",
          "crustacean",
          "crustacean",
          "crustacean",
          "chaetognatha",
          "chaetognatha",
          "chaetognatha",
          "chaetognatha",
          "chaetognatha",
          "chaetognatha",
          "chaetognatha",
          "chaetognatha",
          "chaetognatha",
          "chaetognatha",
          "chaetognatha",
          "chaetognatha",
          "chaetognatha",
          "chaetognatha",
          "chaetognatha",
          "chaetognatha",
          "chaetognatha",
          "chaetognatha",
          "chaetognatha",
          "chaetognatha",
          "chaetognatha",
          "chaetognatha",
          "chaetognatha",
          "chaetognatha",
          "chaetognatha",
          "chaetognatha",
          "chaetognatha",
          "chaetognatha",
          "chaetognatha",
          "chaetognatha",
          "chaetognatha",
          "chaetognatha",
          "chaetognatha",
          "chaetognatha",
          "chaetognatha",
          "chaetognatha",
          "chaetognatha",
          "chaetognatha",
          "chaetognatha",
          "chaetognatha",
          "chaetognatha",
          "chaetognatha",
          "chaetognatha",
          "chaetognatha",
          "chaetognatha",
          "chaetognatha",
          "chaetognatha",
          "chaetognatha",
          "chaetognatha",
          "chaetognatha",
          "chaetognatha",
          "chaetognatha",
          "chaetognatha",
          "chaetognatha",
          "chaetognatha",
          "chaetognatha",
          "chaetognatha",
          "chaetognatha",
          "chaetognatha",
          "chaetognatha",
          "chaetognatha",
          "chaetognatha",
          "chaetognatha",
          "chaetognatha",
          "chaetognatha",
          "chaetognatha",
          "chaetognatha",
          "chaetognatha",
          "chaetognatha",
          "chaetognatha",
          "chaetognatha",
          "chaetognatha",
          "chaetognatha",
          "chaetognatha",
          "chaetognatha",
          "chaetognatha",
          "chaetognatha",
          "chaetognatha",
          "chaetognatha",
          "chaetognatha",
          "chaetognatha",
          "chaetognatha",
          "chaetognatha",
          "chaetognatha",
          "chaetognatha",
          "chaetognatha",
          "chaetognatha",
          "chaetognatha",
          "chaetognatha",
          "chaetognatha",
          "chaetognatha",
          "chaetognatha",
          "chaetognatha",
          "chaetognatha",
          "chaetognatha",
          "chaetognatha",
          "chaetognatha",
          "chaetognatha",
          "chaetognatha",
          "chaetognatha",
          "chaetognatha",
          "chaetognatha",
          "chaetognatha",
          "chaetognatha",
          "chaetognatha",
          "chaetognatha",
          "chaetognatha",
          "chaetognatha",
          "chaetognatha",
          "chaetognatha",
          "chaetognatha",
          "chaetognatha",
          "chaetognatha",
          "chaetognatha",
          "chaetognatha",
          "chaetognatha",
          "chaetognatha",
          "chaetognatha",
          "chaetognatha",
          "chaetognatha",
          "chaetognatha",
          "chaetognatha",
          "chaetognatha",
          "chaetognatha",
          "chaetognatha",
          "chaetognatha",
          "chaetognatha",
          "chaetognatha",
          "chaetognatha",
          "chaetognatha",
          "chaetognatha",
          "chaetognatha",
          "chaetognatha",
          "chaetognatha",
          "chaetognatha",
          "chaetognatha",
          "chaetognatha",
          "chaetognatha",
          "chaetognatha",
          "chaetognatha",
          "chaetognatha",
          "chaetognatha",
          "chaetognatha",
          "chaetognatha",
          "chaetognatha",
          "chaetognatha",
          "chaetognatha",
          "chaetognatha",
          "chaetognatha",
          "chaetognatha",
          "chaetognatha",
          "chaetognatha",
          "chaetognatha",
          "chaetognatha",
          "chaetognatha",
          "chaetognatha",
          "chaetognatha",
          "chaetognatha",
          "chaetognatha",
          "chaetognatha",
          "chaetognatha",
          "chaetognatha",
          "chaetognatha",
          "chaetognatha",
          "chaetognatha",
          "chaetognatha",
          "chaetognatha",
          "chaetognatha",
          "chaetognatha",
          "chaetognatha",
          "chaetognatha",
          "chaetognatha",
          "chaetognatha",
          "chaetognatha",
          "chaetognatha",
          "chaetognatha",
          "chaetognatha",
          "chaetognatha",
          "chaetognatha",
          "chaetognatha",
          "chaetognatha",
          "chaetognatha",
          "chaetognatha",
          "chaetognatha",
          "chaetognatha",
          "chaetognatha",
          "chaetognatha",
          "chaetognatha",
          "chaetognatha",
          "chaetognatha",
          "chaetognatha",
          "chaetognatha",
          "chaetognatha",
          "chaetognatha",
          "chaetognatha",
          "chaetognatha",
          "chaetognatha",
          "chaetognatha",
          "chaetognatha",
          "chaetognatha",
          "chaetognatha",
          "chaetognatha",
          "chaetognatha",
          "chaetognatha",
          "chaetognatha",
          "chaetognatha",
          "chaetognatha",
          "chaetognatha",
          "chaetognatha",
          "chaetognatha",
          "chaetognatha",
          "chaetognatha",
          "chaetognatha",
          "chaetognatha",
          "chaetognatha",
          "chaetognatha",
          "chaetognatha",
          "chaetognatha",
          "chaetognatha",
          "chaetognatha",
          "chaetognatha",
          "chaetognatha",
          "chaetognatha",
          "chaetognatha",
          "chaetognatha",
          "chaetognatha",
          "chaetognatha",
          "chaetognatha",
          "chaetognatha",
          "chaetognatha",
          "chaetognatha",
          "chaetognatha",
          "chaetognatha",
          "chaetognatha",
          "chaetognatha",
          "chaetognatha",
          "chaetognatha",
          "chaetognatha",
          "chaetognatha",
          "chaetognatha",
          "chaetognatha",
          "chaetognatha",
          "chaetognatha",
          "chaetognatha",
          "chaetognatha",
          "chaetognatha",
          "chaetognatha",
          "chaetognatha",
          "chaetognatha",
          "chaetognatha",
          "chaetognatha",
          "chaetognatha",
          "chaetognatha",
          "chaetognatha",
          "chaetognatha",
          "chaetognatha",
          "chaetognatha",
          "chaetognatha",
          "chaetognatha",
          "chaetognatha",
          "chaetognatha",
          "chaetognatha",
          "chaetognatha",
          "chaetognatha",
          "chaetognatha",
          "chaetognatha",
          "chaetognatha",
          "chaetognatha",
          "chaetognatha",
          "chaetognatha",
          "chaetognatha",
          "chaetognatha",
          "chaetognatha",
          "chaetognatha",
          "chaetognatha",
          "chaetognatha",
          "chaetognatha",
          "chaetognatha",
          "chaetognatha",
          "chaetognatha",
          "chaetognatha",
          "chaetognatha",
          "chaetognatha",
          "chaetognatha",
          "chaetognatha",
          "chaetognatha",
          "chaetognatha",
          "chaetognatha",
          "chaetognatha",
          "chaetognatha",
          "chaetognatha",
          "chaetognatha",
          "chaetognatha",
          "chaetognatha",
          "chaetognatha",
          "chaetognatha",
          "chaetognatha",
          "chaetognatha",
          "chaetognatha",
          "chaetognatha",
          "chaetognatha",
          "chaetognatha",
          "chaetognatha",
          "chaetognatha",
          "chaetognatha",
          "chaetognatha",
          "chaetognatha",
          "chaetognatha",
          "chaetognatha",
          "chaetognatha",
          "chaetognatha",
          "chaetognatha",
          "chaetognatha",
          "chaetognatha",
          "chaetognatha",
          "chaetognatha",
          "chaetognatha",
          "chaetognatha",
          "chaetognatha",
          "chaetognatha",
          "chaetognatha",
          "chaetognatha",
          "chaetognatha",
          "chaetognatha",
          "chaetognatha",
          "chaetognatha",
          "chaetognatha",
          "chaetognatha",
          "chaetognatha",
          "chaetognatha",
          "chaetognatha",
          "chaetognatha",
          "chaetognatha",
          "chaetognatha",
          "chaetognatha",
          "chaetognatha",
          "chaetognatha",
          "chaetognatha",
          "chaetognatha",
          "chaetognatha",
          "chaetognatha",
          "chaetognatha",
          "chaetognatha",
          "chaetognatha",
          "chaetognatha",
          "chaetognatha",
          "chaetognatha",
          "chaetognatha",
          "chaetognatha",
          "chaetognatha",
          "chaetognatha",
          "chaetognatha",
          "chaetognatha",
          "chaetognatha",
          "chaetognatha",
          "chaetognatha",
          "chaetognatha",
          "chaetognatha",
          "chaetognatha",
          "chaetognatha",
          "chaetognatha",
          "chaetognatha",
          "chaetognatha",
          "chaetognatha",
          "chaetognatha",
          "chaetognatha",
          "chaetognatha",
          "chaetognatha",
          "chaetognatha",
          "chaetognatha",
          "chaetognatha",
          "chaetognatha",
          "chaetognatha",
          "chaetognatha",
          "chaetognatha",
          "chaetognatha",
          "chaetognatha",
          "chaetognatha",
          "chaetognatha",
          "chaetognatha",
          "chaetognatha",
          "chaetognatha",
          "chaetognatha",
          "chaetognatha",
          "chaetognatha",
          "chaetognatha",
          "chaetognatha",
          "chaetognatha",
          "chaetognatha",
          "chaetognatha",
          "chaetognatha",
          "chaetognatha",
          "chaetognatha",
          "chaetognatha",
          "chaetognatha",
          "chaetognatha",
          "chaetognatha",
          "chaetognatha",
          "chaetognatha",
          "chaetognatha",
          "chaetognatha",
          "chaetognatha",
          "chaetognatha",
          "chaetognatha",
          "chaetognatha",
          "chaetognatha",
          "chaetognatha",
          "chaetognatha",
          "chaetognatha",
          "chaetognatha",
          "chaetognatha",
          "chaetognatha",
          "chaetognatha",
          "chaetognatha",
          "chaetognatha",
          "chaetognatha",
          "chaetognatha",
          "chaetognatha",
          "chaetognatha",
          "chaetognatha",
          "chaetognatha",
          "chaetognatha",
          "chaetognatha",
          "chaetognatha",
          "chaetognatha",
          "chaetognatha",
          "chaetognatha",
          "chaetognatha",
          "chaetognatha",
          "chaetognatha",
          "chaetognatha",
          "chaetognatha",
          "chaetognatha",
          "chaetognatha",
          "chaetognatha",
          "chaetognatha",
          "chaetognatha",
          "chaetognatha",
          "chaetognatha",
          "chaetognatha",
          "chaetognatha",
          "chaetognatha",
          "chaetognatha",
          "chaetognatha",
          "chaetognatha",
          "chaetognatha",
          "chaetognatha",
          "chaetognatha",
          "chaetognatha",
          "chaetognatha",
          "chaetognatha",
          "chaetognatha",
          "chaetognatha",
          "chaetognatha",
          "chaetognatha",
          "chaetognatha",
          "chaetognatha",
          "chaetognatha",
          "chaetognatha",
          "chaetognatha",
          "chaetognatha",
          "chaetognatha",
          "chaetognatha",
          "chaetognatha",
          "chaetognatha",
          "chaetognatha",
          "chaetognatha",
          "chaetognatha",
          "chaetognatha",
          "chaetognatha",
          "chaetognatha",
          "chaetognatha",
          "chaetognatha",
          "chaetognatha",
          "chaetognatha",
          "chaetognatha",
          "chaetognatha",
          "chaetognatha",
          "chaetognatha",
          "chaetognatha",
          "chaetognatha",
          "chaetognatha",
          "chaetognatha",
          "chaetognatha",
          "chaetognatha",
          "chaetognatha",
          "chaetognatha",
          "chaetognatha",
          "chaetognatha",
          "chaetognatha",
          "chaetognatha",
          "chaetognatha",
          "chaetognatha",
          "chaetognatha",
          "chaetognatha",
          "chaetognatha",
          "chaetognatha",
          "chaetognatha",
          "chaetognatha",
          "chaetognatha",
          "chaetognatha",
          "chaetognatha",
          "chaetognatha",
          "chaetognatha",
          "chaetognatha",
          "chaetognatha",
          "chaetognatha",
          "chaetognatha",
          "chaetognatha",
          "chaetognatha",
          "chaetognatha",
          "chaetognatha",
          "chaetognatha",
          "chaetognatha",
          "chaetognatha",
          "chaetognatha",
          "chaetognatha",
          "chaetognatha",
          "chaetognatha",
          "chaetognatha",
          "chaetognatha",
          "chaetognatha",
          "chaetognatha",
          "chaetognatha",
          "chaetognatha",
          "chaetognatha",
          "chaetognatha",
          "chaetognatha",
          "chaetognatha",
          "chaetognatha",
          "chaetognatha",
          "chaetognatha",
          "chaetognatha",
          "chaetognatha",
          "chaetognatha",
          "chaetognatha",
          "chaetognatha",
          "chaetognatha",
          "chaetognatha",
          "chaetognatha",
          "chaetognatha",
          "chaetognatha",
          "chaetognatha",
          "chaetognatha",
          "chaetognatha",
          "chaetognatha",
          "chaetognatha",
          "chaetognatha",
          "chaetognatha",
          "chaetognatha",
          "chaetognatha",
          "chaetognatha",
          "chaetognatha",
          "chaetognatha",
          "chaetognatha",
          "chaetognatha",
          "chaetognatha",
          "chaetognatha",
          "chaetognatha",
          "chaetognatha",
          "chaetognatha",
          "chaetognatha",
          "chaetognatha",
          "chaetognatha",
          "chaetognatha",
          "chaetognatha",
          "chaetognatha",
          "chaetognatha",
          "chaetognatha",
          "chaetognatha",
          "chaetognatha",
          "chaetognatha",
          "chaetognatha",
          "chaetognatha",
          "chaetognatha",
          "chaetognatha",
          "chaetognatha",
          "chaetognatha",
          "chaetognatha",
          "chaetognatha",
          "chaetognatha",
          "chaetognatha",
          "chaetognatha",
          "chaetognatha",
          "chaetognatha",
          "chaetognatha",
          "chaetognatha",
          "chaetognatha",
          "chaetognatha",
          "chaetognatha",
          "chaetognatha",
          "chaetognatha",
          "chaetognatha",
          "chaetognatha",
          "chaetognatha",
          "chaetognatha",
          "chaetognatha",
          "chaetognatha",
          "chaetognatha",
          "chaetognatha",
          "chaetognatha",
          "chaetognatha",
          "chaetognatha",
          "chaetognatha",
          "chaetognatha",
          "chaetognatha",
          "chaetognatha",
          "chaetognatha",
          "chaetognatha",
          "chaetognatha",
          "chaetognatha",
          "chaetognatha",
          "chaetognatha",
          "chaetognatha",
          "chaetognatha",
          "chaetognatha",
          "chaetognatha",
          "chaetognatha",
          "chaetognatha",
          "chaetognatha",
          "chaetognatha",
          "chaetognatha",
          "chaetognatha",
          "chaetognatha",
          "chaetognatha",
          "chaetognatha",
          "chaetognatha",
          "chaetognatha",
          "chaetognatha",
          "chaetognatha",
          "chaetognatha",
          "chaetognatha",
          "chaetognatha",
          "chaetognatha",
          "chaetognatha",
          "chaetognatha",
          "chaetognatha",
          "chaetognatha",
          "chaetognatha",
          "chaetognatha",
          "chaetognatha",
          "chaetognatha",
          "chaetognatha",
          "chaetognatha",
          "chaetognatha",
          "chaetognatha",
          "chaetognatha",
          "chaetognatha",
          "chaetognatha",
          "chaetognatha",
          "chaetognatha",
          "chaetognatha",
          "chaetognatha",
          "chaetognatha",
          "chaetognatha",
          "chaetognatha",
          "chaetognatha",
          "chaetognatha",
          "chaetognatha",
          "chaetognatha",
          "chaetognatha",
          "chaetognatha",
          "chaetognatha",
          "chaetognatha",
          "chaetognatha",
          "chaetognatha",
          "chaetognatha",
          "chaetognatha",
          "chaetognatha",
          "chaetognatha",
          "chaetognatha",
          "chaetognatha",
          "chaetognatha",
          "chaetognatha",
          "chaetognatha",
          "chaetognatha",
          "chaetognatha",
          "chaetognatha",
          "chaetognatha",
          "chaetognatha",
          "chaetognatha",
          "chaetognatha",
          "chaetognatha",
          "chaetognatha",
          "chaetognatha",
          "chaetognatha",
          "chaetognatha",
          "chaetognatha",
          "chaetognatha",
          "chaetognatha",
          "chaetognatha",
          "chaetognatha",
          "chaetognatha",
          "chaetognatha",
          "chaetognatha",
          "chaetognatha",
          "chaetognatha",
          "chaetognatha",
          "chaetognatha",
          "chaetognatha",
          "chaetognatha",
          "chaetognatha",
          "chaetognatha",
          "chaetognatha",
          "chaetognatha",
          "chaetognatha",
          "chaetognatha",
          "chaetognatha",
          "chaetognatha",
          "chaetognatha",
          "chaetognatha",
          "chaetognatha",
          "chaetognatha",
          "chaetognatha",
          "chaetognatha",
          "chaetognatha",
          "chaetognatha",
          "chaetognatha",
          "chaetognatha",
          "chaetognatha",
          "chaetognatha",
          "chaetognatha",
          "chaetognatha",
          "chaetognatha",
          "chaetognatha",
          "chaetognatha",
          "chaetognatha",
          "chaetognatha",
          "chaetognatha",
          "chaetognatha",
          "chaetognatha",
          "chaetognatha",
          "chaetognatha",
          "chaetognatha",
          "chaetognatha",
          "chaetognatha",
          "chaetognatha",
          "chaetognatha",
          "chaetognatha",
          "chaetognatha",
          "chaetognatha",
          "chaetognatha",
          "chaetognatha",
          "chaetognatha",
          "chaetognatha",
          "chaetognatha",
          "chaetognatha",
          "chaetognatha",
          "chaetognatha",
          "chaetognatha",
          "chaetognatha",
          "chaetognatha",
          "chaetognatha",
          "chaetognatha",
          "chaetognatha",
          "chaetognatha",
          "chaetognatha",
          "chaetognatha",
          "chaetognatha",
          "chaetognatha",
          "chaetognatha",
          "chaetognatha",
          "chaetognatha",
          "chaetognatha",
          "chaetognatha",
          "chaetognatha",
          "chaetognatha",
          "chaetognatha",
          "chaetognatha",
          "chaetognatha",
          "chaetognatha",
          "chaetognatha",
          "chaetognatha",
          "chaetognatha",
          "chaetognatha",
          "chaetognatha",
          "chaetognatha",
          "chaetognatha",
          "chaetognatha",
          "chaetognatha",
          "chaetognatha",
          "chaetognatha",
          "chaetognatha",
          "chaetognatha",
          "chaetognatha",
          "chaetognatha",
          "chaetognatha",
          "chaetognatha",
          "chaetognatha",
          "chaetognatha",
          "chaetognatha",
          "chaetognatha",
          "chaetognatha",
          "chaetognatha",
          "chaetognatha",
          "chaetognatha",
          "chaetognatha",
          "chaetognatha",
          "chaetognatha",
          "small_gelatinous",
          "small_gelatinous",
          "small_gelatinous",
          "small_gelatinous",
          "small_gelatinous",
          "small_gelatinous",
          "small_gelatinous",
          "small_gelatinous",
          "small_gelatinous",
          "small_gelatinous",
          "small_gelatinous",
          "small_gelatinous",
          "small_gelatinous",
          "small_gelatinous",
          "small_gelatinous",
          "small_gelatinous",
          "small_gelatinous",
          "small_gelatinous",
          "small_gelatinous",
          "small_gelatinous",
          "small_gelatinous",
          "small_gelatinous",
          "small_gelatinous",
          "small_gelatinous",
          "small_gelatinous",
          "small_gelatinous",
          "small_gelatinous",
          "small_gelatinous",
          "small_gelatinous",
          "small_gelatinous",
          "small_gelatinous",
          "small_gelatinous",
          "small_gelatinous",
          "small_gelatinous",
          "small_gelatinous",
          "small_gelatinous",
          "small_gelatinous",
          "small_gelatinous",
          "small_gelatinous",
          "small_gelatinous",
          "small_gelatinous",
          "small_gelatinous",
          "small_gelatinous",
          "small_gelatinous",
          "small_gelatinous",
          "small_gelatinous",
          "small_gelatinous",
          "small_gelatinous",
          "small_gelatinous",
          "small_gelatinous",
          "small_gelatinous",
          "small_gelatinous",
          "small_gelatinous",
          "small_gelatinous",
          "small_gelatinous",
          "small_gelatinous",
          "small_gelatinous",
          "small_gelatinous",
          "small_gelatinous",
          "small_gelatinous",
          "small_gelatinous",
          "small_gelatinous",
          "small_gelatinous",
          "small_gelatinous",
          "small_gelatinous",
          "small_gelatinous",
          "small_gelatinous",
          "small_gelatinous",
          "small_gelatinous",
          "small_gelatinous",
          "small_gelatinous",
          "small_gelatinous",
          "small_gelatinous",
          "small_gelatinous",
          "small_gelatinous",
          "small_gelatinous",
          "small_gelatinous",
          "small_gelatinous",
          "small_gelatinous",
          "small_gelatinous",
          "small_gelatinous",
          "small_gelatinous",
          "small_gelatinous",
          "small_gelatinous",
          "small_gelatinous",
          "small_gelatinous",
          "small_gelatinous",
          "small_gelatinous",
          "small_gelatinous",
          "small_gelatinous",
          "small_gelatinous",
          "small_gelatinous",
          "small_gelatinous",
          "small_gelatinous",
          "small_gelatinous",
          "small_gelatinous",
          "small_gelatinous",
          "small_gelatinous",
          "small_gelatinous",
          "small_gelatinous",
          "small_gelatinous",
          "small_gelatinous",
          "small_gelatinous",
          "small_gelatinous",
          "small_gelatinous",
          "small_gelatinous",
          "small_gelatinous",
          "small_gelatinous",
          "small_gelatinous",
          "small_gelatinous",
          "small_gelatinous",
          "small_gelatinous",
          "small_gelatinous",
          "small_gelatinous",
          "small_gelatinous",
          "small_gelatinous",
          "small_gelatinous",
          "small_gelatinous",
          "small_gelatinous",
          "small_gelatinous",
          "small_gelatinous",
          "small_gelatinous",
          "small_gelatinous",
          "small_gelatinous",
          "small_gelatinous",
          "small_gelatinous",
          "small_gelatinous",
          "small_gelatinous",
          "small_gelatinous",
          "small_gelatinous",
          "small_gelatinous",
          "small_gelatinous",
          "small_gelatinous",
          "small_gelatinous",
          "small_gelatinous",
          "small_gelatinous",
          "small_gelatinous",
          "small_gelatinous",
          "small_gelatinous",
          "small_gelatinous",
          "small_gelatinous",
          "small_gelatinous",
          "small_gelatinous",
          "small_gelatinous",
          "small_gelatinous",
          "small_gelatinous",
          "small_gelatinous",
          "small_gelatinous",
          "small_gelatinous",
          "small_gelatinous",
          "small_gelatinous",
          "small_gelatinous",
          "small_gelatinous",
          "small_gelatinous",
          "small_gelatinous",
          "small_gelatinous",
          "small_gelatinous",
          "small_gelatinous",
          "small_gelatinous",
          "small_gelatinous",
          "small_gelatinous",
          "small_gelatinous",
          "small_gelatinous",
          "small_gelatinous",
          "small_gelatinous",
          "small_gelatinous",
          "small_gelatinous",
          "small_gelatinous",
          "small_gelatinous",
          "small_gelatinous",
          "small_gelatinous",
          "small_gelatinous",
          "small_gelatinous",
          "small_gelatinous",
          "small_gelatinous",
          "small_gelatinous",
          "small_gelatinous",
          "small_gelatinous",
          "small_gelatinous",
          "small_gelatinous",
          "small_gelatinous",
          "small_gelatinous",
          "small_gelatinous",
          "small_gelatinous",
          "small_gelatinous",
          "small_gelatinous",
          "small_gelatinous",
          "small_gelatinous",
          "small_gelatinous",
          "small_gelatinous",
          "small_gelatinous",
          "small_gelatinous",
          "small_gelatinous",
          "small_gelatinous",
          "small_gelatinous",
          "small_gelatinous",
          "small_gelatinous",
          "small_gelatinous",
          "small_gelatinous",
          "small_gelatinous",
          "small_gelatinous",
          "small_gelatinous",
          "small_gelatinous",
          "small_gelatinous",
          "small_gelatinous",
          "small_gelatinous",
          "small_gelatinous",
          "small_gelatinous",
          "small_gelatinous",
          "small_gelatinous",
          "small_gelatinous",
          "small_gelatinous",
          "small_gelatinous",
          "small_gelatinous",
          "small_gelatinous",
          "small_gelatinous",
          "small_gelatinous",
          "small_gelatinous",
          "small_gelatinous",
          "small_gelatinous",
          "small_gelatinous",
          "small_gelatinous",
          "small_gelatinous",
          "small_gelatinous",
          "small_gelatinous",
          "small_gelatinous",
          "small_gelatinous",
          "small_gelatinous",
          "small_gelatinous",
          "small_gelatinous",
          "small_gelatinous",
          "small_gelatinous",
          "small_gelatinous",
          "small_gelatinous",
          "small_gelatinous",
          "small_gelatinous",
          "small_gelatinous",
          "small_gelatinous",
          "small_gelatinous",
          "small_gelatinous",
          "small_gelatinous",
          "small_gelatinous",
          "small_gelatinous",
          "small_gelatinous",
          "small_gelatinous",
          "small_gelatinous",
          "small_gelatinous",
          "small_gelatinous",
          "small_gelatinous",
          "small_gelatinous",
          "small_gelatinous",
          "small_gelatinous",
          "small_gelatinous",
          "small_gelatinous",
          "small_gelatinous",
          "small_gelatinous",
          "small_gelatinous",
          "small_gelatinous",
          "small_gelatinous",
          "small_gelatinous",
          "small_gelatinous",
          "small_gelatinous",
          "small_gelatinous",
          "small_gelatinous",
          "small_gelatinous",
          "small_gelatinous",
          "small_gelatinous",
          "small_gelatinous",
          "small_gelatinous",
          "small_gelatinous",
          "small_gelatinous",
          "small_gelatinous",
          "small_gelatinous",
          "small_gelatinous",
          "small_gelatinous",
          "small_gelatinous",
          "small_gelatinous",
          "small_gelatinous",
          "small_gelatinous",
          "small_gelatinous",
          "small_gelatinous",
          "small_gelatinous",
          "small_gelatinous",
          "small_gelatinous",
          "small_gelatinous",
          "small_gelatinous",
          "small_gelatinous",
          "small_gelatinous",
          "small_gelatinous",
          "small_gelatinous",
          "small_gelatinous",
          "small_gelatinous",
          "small_gelatinous",
          "small_gelatinous",
          "small_gelatinous",
          "small_gelatinous",
          "small_gelatinous",
          "small_gelatinous",
          "small_gelatinous",
          "small_gelatinous",
          "small_gelatinous",
          "small_gelatinous",
          "small_gelatinous",
          "small_gelatinous",
          "small_gelatinous",
          "small_gelatinous",
          "small_gelatinous",
          "small_gelatinous",
          "small_gelatinous",
          "small_gelatinous",
          "small_gelatinous",
          "small_gelatinous",
          "small_gelatinous",
          "small_gelatinous",
          "small_gelatinous",
          "small_gelatinous",
          "small_gelatinous",
          "small_gelatinous",
          "small_gelatinous",
          "small_gelatinous",
          "small_gelatinous",
          "small_gelatinous",
          "small_gelatinous",
          "small_gelatinous",
          "small_gelatinous",
          "small_gelatinous",
          "small_gelatinous",
          "small_gelatinous",
          "small_gelatinous",
          "small_gelatinous",
          "small_gelatinous",
          "small_gelatinous",
          "small_gelatinous",
          "small_gelatinous",
          "small_gelatinous",
          "small_gelatinous",
          "small_gelatinous",
          "small_gelatinous",
          "small_gelatinous",
          "small_gelatinous",
          "small_gelatinous",
          "small_gelatinous",
          "small_gelatinous",
          "small_gelatinous",
          "small_gelatinous",
          "small_gelatinous",
          "small_gelatinous",
          "small_gelatinous",
          "small_gelatinous",
          "small_gelatinous",
          "small_gelatinous",
          "small_gelatinous",
          "small_gelatinous",
          "small_gelatinous",
          "small_gelatinous",
          "small_gelatinous",
          "small_gelatinous",
          "small_gelatinous",
          "small_gelatinous",
          "small_gelatinous",
          "small_gelatinous",
          "small_gelatinous",
          "small_gelatinous",
          "small_gelatinous",
          "small_gelatinous",
          "small_gelatinous",
          "small_gelatinous",
          "small_gelatinous",
          "small_gelatinous",
          "small_gelatinous",
          "small_gelatinous",
          "small_gelatinous",
          "small_gelatinous",
          "small_gelatinous",
          "small_gelatinous",
          "small_gelatinous",
          "small_gelatinous",
          "small_gelatinous",
          "small_gelatinous",
          "small_gelatinous",
          "small_gelatinous",
          "small_gelatinous",
          "small_gelatinous",
          "small_gelatinous",
          "small_gelatinous",
          "small_gelatinous",
          "small_gelatinous",
          "small_gelatinous",
          "small_gelatinous",
          "small_gelatinous",
          "small_gelatinous",
          "small_gelatinous",
          "small_gelatinous",
          "small_gelatinous",
          "small_gelatinous",
          "small_gelatinous",
          "small_gelatinous",
          "small_gelatinous",
          "small_gelatinous",
          "small_gelatinous",
          "small_gelatinous",
          "small_gelatinous",
          "small_gelatinous",
          "small_gelatinous",
          "small_gelatinous",
          "small_gelatinous",
          "small_gelatinous",
          "small_gelatinous",
          "small_gelatinous",
          "small_gelatinous",
          "small_gelatinous",
          "small_gelatinous",
          "small_gelatinous",
          "small_gelatinous",
          "small_gelatinous",
          "small_gelatinous",
          "small_gelatinous",
          "small_gelatinous",
          "small_gelatinous",
          "small_gelatinous",
          "small_gelatinous",
          "small_gelatinous",
          "small_gelatinous",
          "small_gelatinous",
          "small_gelatinous",
          "small_gelatinous",
          "small_gelatinous",
          "small_gelatinous",
          "small_gelatinous",
          "small_gelatinous",
          "small_gelatinous",
          "small_gelatinous",
          "small_gelatinous",
          "small_gelatinous",
          "small_gelatinous",
          "small_gelatinous",
          "small_gelatinous",
          "small_gelatinous",
          "small_gelatinous",
          "small_gelatinous",
          "small_gelatinous",
          "small_gelatinous",
          "small_gelatinous",
          "small_gelatinous",
          "small_gelatinous",
          "small_gelatinous",
          "small_gelatinous",
          "small_gelatinous",
          "small_gelatinous",
          "small_gelatinous",
          "small_gelatinous",
          "small_gelatinous",
          "small_gelatinous",
          "small_gelatinous",
          "small_gelatinous",
          "small_gelatinous",
          "small_gelatinous",
          "small_gelatinous",
          "small_gelatinous",
          "small_gelatinous",
          "small_gelatinous",
          "small_gelatinous",
          "small_gelatinous",
          "small_gelatinous",
          "small_gelatinous",
          "small_gelatinous",
          "small_gelatinous",
          "small_gelatinous",
          "small_gelatinous",
          "small_gelatinous",
          "small_gelatinous",
          "small_gelatinous",
          "small_gelatinous",
          "small_gelatinous",
          "small_gelatinous",
          "small_gelatinous",
          "small_gelatinous",
          "small_gelatinous",
          "small_gelatinous",
          "small_gelatinous",
          "small_gelatinous",
          "small_gelatinous",
          "small_gelatinous",
          "small_gelatinous",
          "small_gelatinous",
          "small_gelatinous",
          "small_gelatinous",
          "small_gelatinous",
          "small_gelatinous",
          "small_gelatinous",
          "small_gelatinous",
          "small_gelatinous",
          "small_gelatinous",
          "small_gelatinous",
          "small_gelatinous",
          "small_gelatinous",
          "small_gelatinous",
          "small_gelatinous",
          "small_gelatinous",
          "small_gelatinous",
          "small_gelatinous",
          "small_gelatinous",
          "small_gelatinous",
          "small_gelatinous",
          "small_gelatinous",
          "small_gelatinous",
          "small_gelatinous",
          "small_gelatinous",
          "small_gelatinous",
          "small_gelatinous",
          "small_gelatinous",
          "small_gelatinous",
          "small_gelatinous",
          "small_gelatinous",
          "small_gelatinous",
          "small_gelatinous",
          "small_gelatinous",
          "small_gelatinous",
          "small_gelatinous",
          "small_gelatinous",
          "small_gelatinous",
          "small_gelatinous",
          "small_gelatinous",
          "small_gelatinous",
          "small_gelatinous",
          "small_gelatinous",
          "small_gelatinous",
          "small_gelatinous",
          "small_gelatinous",
          "small_gelatinous",
          "small_gelatinous",
          "small_gelatinous",
          "small_gelatinous",
          "small_gelatinous",
          "small_gelatinous",
          "small_gelatinous",
          "small_gelatinous",
          "small_gelatinous",
          "small_gelatinous",
          "small_gelatinous",
          "small_gelatinous",
          "small_gelatinous",
          "small_gelatinous",
          "small_gelatinous",
          "small_gelatinous",
          "small_gelatinous",
          "small_gelatinous",
          "small_gelatinous",
          "small_gelatinous",
          "small_gelatinous",
          "small_gelatinous",
          "small_gelatinous",
          "small_gelatinous",
          "small_gelatinous",
          "small_gelatinous",
          "small_gelatinous",
          "small_gelatinous",
          "small_gelatinous",
          "small_gelatinous",
          "small_gelatinous",
          "small_gelatinous",
          "small_gelatinous",
          "small_gelatinous",
          "small_gelatinous",
          "small_gelatinous",
          "small_gelatinous",
          "small_gelatinous",
          "small_gelatinous",
          "small_gelatinous",
          "small_gelatinous",
          "small_gelatinous",
          "small_gelatinous",
          "small_gelatinous",
          "small_gelatinous",
          "small_gelatinous",
          "small_gelatinous",
          "small_gelatinous",
          "small_gelatinous",
          "small_gelatinous",
          "small_gelatinous",
          "small_gelatinous",
          "small_gelatinous",
          "small_gelatinous",
          "small_gelatinous",
          "small_gelatinous",
          "small_gelatinous",
          "small_gelatinous",
          "small_gelatinous",
          "small_gelatinous",
          "small_gelatinous",
          "small_gelatinous",
          "small_gelatinous",
          "small_gelatinous",
          "small_gelatinous",
          "small_gelatinous",
          "small_gelatinous",
          "small_gelatinous",
          "small_gelatinous",
          "small_gelatinous",
          "small_gelatinous",
          "small_gelatinous",
          "small_gelatinous",
          "small_gelatinous",
          "small_gelatinous",
          "small_gelatinous",
          "small_gelatinous",
          "small_gelatinous",
          "small_gelatinous",
          "small_gelatinous",
          "small_gelatinous",
          "small_gelatinous",
          "small_gelatinous",
          "small_gelatinous",
          "small_gelatinous",
          "small_gelatinous",
          "small_gelatinous",
          "small_gelatinous",
          "small_gelatinous",
          "small_gelatinous",
          "small_gelatinous",
          "small_gelatinous",
          "small_gelatinous",
          "small_gelatinous",
          "small_gelatinous",
          "small_gelatinous",
          "small_gelatinous",
          "small_gelatinous",
          "small_gelatinous",
          "small_gelatinous",
          "small_gelatinous",
          "small_gelatinous",
          "small_gelatinous",
          "small_gelatinous",
          "small_gelatinous",
          "small_gelatinous",
          "small_gelatinous",
          "small_gelatinous",
          "small_gelatinous",
          "small_gelatinous",
          "small_gelatinous",
          "small_gelatinous",
          "small_gelatinous",
          "small_gelatinous",
          "small_gelatinous",
          "small_gelatinous",
          "small_gelatinous",
          "small_gelatinous",
          "small_gelatinous",
          "small_gelatinous",
          "small_gelatinous",
          "small_gelatinous",
          "small_gelatinous",
          "small_gelatinous",
          "small_gelatinous",
          "small_gelatinous",
          "small_gelatinous",
          "small_gelatinous",
          "small_gelatinous",
          "small_gelatinous",
          "small_gelatinous",
          "small_gelatinous",
          "small_gelatinous",
          "small_gelatinous",
          "small_gelatinous",
          "small_gelatinous",
          "small_gelatinous",
          "small_gelatinous",
          "small_gelatinous",
          "small_gelatinous",
          "small_gelatinous",
          "small_gelatinous",
          "small_gelatinous",
          "small_gelatinous",
          "small_gelatinous",
          "small_gelatinous",
          "small_gelatinous",
          "small_gelatinous",
          "small_gelatinous",
          "small_gelatinous",
          "small_gelatinous",
          "small_gelatinous",
          "small_gelatinous",
          "small_gelatinous",
          "small_gelatinous",
          "small_gelatinous",
          "small_gelatinous",
          "small_gelatinous",
          "small_gelatinous",
          "small_gelatinous",
          "small_gelatinous",
          "small_gelatinous",
          "small_gelatinous",
          "small_gelatinous",
          "small_gelatinous",
          "small_gelatinous",
          "small_gelatinous",
          "small_gelatinous",
          "small_gelatinous",
          "small_gelatinous",
          "small_gelatinous",
          "small_gelatinous",
          "small_gelatinous",
          "small_gelatinous",
          "small_gelatinous",
          "small_gelatinous",
          "small_gelatinous",
          "small_gelatinous",
          "small_gelatinous",
          "small_gelatinous",
          "small_gelatinous",
          "small_gelatinous",
          "small_gelatinous",
          "small_gelatinous",
          "small_gelatinous",
          "small_gelatinous",
          "small_gelatinous",
          "small_gelatinous",
          "small_gelatinous",
          "small_gelatinous",
          "small_gelatinous",
          "small_gelatinous",
          "small_gelatinous",
          "small_gelatinous",
          "small_gelatinous",
          "small_gelatinous",
          "small_gelatinous",
          "small_gelatinous",
          "small_gelatinous",
          "small_gelatinous",
          "small_gelatinous",
          "small_gelatinous",
          "small_gelatinous",
          "small_gelatinous",
          "small_gelatinous",
          "small_gelatinous",
          "small_gelatinous",
          "small_gelatinous",
          "small_gelatinous",
          "small_gelatinous",
          "small_gelatinous",
          "small_gelatinous",
          "small_gelatinous",
          "small_gelatinous",
          "small_gelatinous",
          "small_gelatinous",
          "small_gelatinous",
          "small_gelatinous",
          "small_gelatinous",
          "small_gelatinous",
          "small_gelatinous",
          "small_gelatinous",
          "small_gelatinous",
          "small_gelatinous",
          "small_gelatinous",
          "small_gelatinous",
          "small_gelatinous",
          "small_gelatinous",
          "small_gelatinous",
          "small_gelatinous",
          "small_gelatinous",
          "small_gelatinous",
          "small_gelatinous",
          "small_gelatinous",
          "small_gelatinous",
          "small_gelatinous",
          "small_gelatinous",
          "small_gelatinous",
          "small_gelatinous",
          "small_gelatinous",
          "small_gelatinous",
          "small_gelatinous",
          "small_gelatinous",
          "small_gelatinous",
          "small_gelatinous",
          "small_gelatinous",
          "small_gelatinous",
          "small_gelatinous",
          "small_gelatinous",
          "small_gelatinous",
          "small_gelatinous",
          "small_gelatinous",
          "small_gelatinous",
          "small_gelatinous",
          "small_gelatinous",
          "small_gelatinous",
          "small_gelatinous",
          "small_gelatinous",
          "small_gelatinous",
          "small_gelatinous",
          "small_gelatinous",
          "small_gelatinous",
          "small_gelatinous",
          "small_gelatinous",
          "small_gelatinous",
          "small_gelatinous",
          "small_gelatinous",
          "small_gelatinous",
          "small_gelatinous",
          "small_gelatinous",
          "larvacean",
          "larvacean",
          "larvacean",
          "larvacean",
          "larvacean",
          "larvacean",
          "larvacean",
          "larvacean",
          "larvacean",
          "larvacean",
          "larvacean",
          "larvacean",
          "larvacean",
          "larvacean",
          "larvacean",
          "larvacean",
          "larvacean",
          "larvacean",
          "larvacean",
          "larvacean",
          "larvacean",
          "larvacean",
          "larvacean",
          "larvacean",
          "larvacean",
          "larvacean",
          "larvacean",
          "larvacean",
          "larvacean",
          "larvacean",
          "larvacean",
          "larvacean",
          "larvacean",
          "larvacean",
          "larvacean",
          "larvacean",
          "larvacean",
          "larvacean",
          "larvacean",
          "larvacean",
          "larvacean",
          "larvacean",
          "larvacean",
          "larvacean",
          "larvacean",
          "larvacean",
          "larvacean",
          "larvacean",
          "larvacean",
          "larvacean",
          "larvacean",
          "larvacean",
          "larvacean",
          "larvacean",
          "larvacean",
          "larvacean",
          "larvacean",
          "larvacean",
          "larvacean",
          "larvacean",
          "larvacean",
          "larvacean",
          "larvacean",
          "larvacean",
          "larvacean",
          "larvacean",
          "larvacean",
          "larvacean",
          "larvacean",
          "larvacean",
          "larvacean",
          "larvacean",
          "larvacean",
          "larvacean",
          "larvacean",
          "larvacean",
          "larvacean",
          "larvacean",
          "larvacean",
          "larvacean",
          "larvacean",
          "larvacean",
          "larvacean",
          "larvacean",
          "larvacean",
          "larvacean",
          "larvacean",
          "larvacean",
          "larvacean",
          "larvacean",
          "larvacean",
          "larvacean",
          "larvacean",
          "larvacean",
          "larvacean",
          "larvacean",
          "larvacean",
          "larvacean",
          "larvacean",
          "larvacean",
          "larvacean",
          "larvacean",
          "larvacean",
          "larvacean",
          "larvacean",
          "larvacean",
          "larvacean",
          "larvacean",
          "larvacean",
          "larvacean",
          "larvacean",
          "larvacean",
          "larvacean",
          "larvacean",
          "larvacean",
          "larvacean",
          "larvacean",
          "larvacean",
          "larvacean",
          "larvacean",
          "larvacean",
          "larvacean",
          "larvacean",
          "larvacean",
          "larvacean",
          "larvacean",
          "larvacean",
          "larvacean",
          "larvacean",
          "larvacean",
          "larvacean",
          "larvacean",
          "larvacean",
          "larvacean",
          "larvacean",
          "larvacean",
          "larvacean",
          "larvacean",
          "larvacean",
          "larvacean",
          "larvacean",
          "larvacean",
          "larvacean",
          "larvacean",
          "larvacean",
          "larvacean",
          "larvacean",
          "larvacean",
          "larvacean",
          "larvacean",
          "larvacean",
          "larvacean",
          "larvacean",
          "larvacean",
          "larvacean",
          "larvacean",
          "larvacean",
          "larvacean",
          "larvacean",
          "larvacean",
          "larvacean",
          "larvacean",
          "larvacean",
          "larvacean",
          "larvacean",
          "larvacean",
          "larvacean",
          "larvacean",
          "larvacean",
          "larvacean",
          "larvacean",
          "larvacean",
          "larvacean",
          "larvacean",
          "larvacean",
          "larvacean",
          "larvacean",
          "larvacean",
          "larvacean",
          "larvacean",
          "larvacean",
          "larvacean",
          "larvacean",
          "larvacean",
          "larvacean",
          "larvacean",
          "larvacean",
          "larvacean",
          "larvacean",
          "larvacean",
          "larvacean",
          "larvacean",
          "larvacean",
          "larvacean",
          "larvacean",
          "larvacean",
          "larvacean",
          "larvacean",
          "larvacean",
          "larvacean",
          "larvacean",
          "larvacean",
          "larvacean",
          "larvacean",
          "larvacean",
          "larvacean",
          "larvacean",
          "larvacean",
          "larvacean",
          "larvacean",
          "larvacean",
          "larvacean",
          "larvacean",
          "larvacean",
          "larvacean",
          "larvacean",
          "larvacean",
          "larvacean",
          "larvacean",
          "larvacean",
          "larvacean",
          "larvacean",
          "larvacean",
          "larvacean",
          "larvacean",
          "larvacean",
          "larvacean",
          "larvacean",
          "larvacean",
          "larvacean",
          "larvacean",
          "larvacean",
          "larvacean",
          "larvacean",
          "larvacean",
          "larvacean",
          "larvacean",
          "larvacean",
          "larvacean",
          "larvacean",
          "larvacean",
          "larvacean",
          "larvacean",
          "larvacean",
          "larvacean",
          "larvacean",
          "larvacean",
          "larvacean",
          "larvacean",
          "larvacean",
          "larvacean",
          "larvacean",
          "larvacean",
          "larvacean",
          "larvacean",
          "larvacean",
          "larvacean",
          "larvacean",
          "larvacean",
          "larvacean",
          "larvacean",
          "larvacean",
          "larvacean",
          "larvacean",
          "larvacean",
          "larvacean",
          "larvacean",
          "larvacean",
          "larvacean",
          "larvacean",
          "larvacean",
          "larvacean",
          "larvacean",
          "larvacean",
          "larvacean",
          "larvacean",
          "larvacean",
          "larvacean",
          "larvacean",
          "larvacean",
          "larvacean",
          "larvacean",
          "larvacean",
          "larvacean",
          "larvacean",
          "larvacean",
          "larvacean",
          "larvacean",
          "larvacean",
          "larvacean",
          "larvacean",
          "larvacean",
          "larvacean",
          "larvacean",
          "larvacean",
          "larvacean",
          "larvacean",
          "larvacean",
          "larvacean",
          "larvacean",
          "larvacean",
          "larvacean",
          "larvacean",
          "larvacean",
          "larvacean",
          "larvacean",
          "larvacean",
          "larvacean",
          "larvacean",
          "larvacean",
          "larvacean",
          "larvacean",
          "larvacean",
          "larvacean",
          "larvacean",
          "larvacean",
          "larvacean",
          "larvacean",
          "larvacean",
          "larvacean",
          "larvacean",
          "larvacean",
          "larvacean",
          "larvacean",
          "larvacean",
          "larvacean",
          "larvacean",
          "larvacean",
          "larvacean",
          "larvacean",
          "larvacean",
          "larvacean",
          "larvacean",
          "larvacean",
          "larvacean",
          "larvacean",
          "larvacean",
          "larvacean",
          "larvacean",
          "larvacean",
          "larvacean",
          "larvacean",
          "larvacean",
          "larvacean",
          "larvacean",
          "larvacean",
          "larvacean",
          "larvacean",
          "larvacean",
          "larvacean",
          "larvacean",
          "larvacean",
          "larvacean",
          "larvacean",
          "larvacean",
          "larvacean",
          "larvacean",
          "larvacean",
          "larvacean",
          "larvacean",
          "larvacean",
          "larvacean",
          "larvacean",
          "larvacean",
          "larvacean",
          "larvacean",
          "larvacean",
          "larvacean",
          "larvacean",
          "larvacean",
          "larvacean",
          "larvacean",
          "larvacean",
          "larvacean",
          "larvacean",
          "larvacean",
          "larvacean",
          "larvacean",
          "larvacean",
          "larvacean",
          "larvacean",
          "larvacean",
          "larvacean",
          "larvacean",
          "larvacean",
          "larvacean",
          "larvacean",
          "larvacean",
          "larvacean",
          "larvacean",
          "larvacean",
          "larvacean",
          "larvacean",
          "larvacean",
          "larvacean",
          "larvacean",
          "larvacean",
          "larvacean",
          "larvacean",
          "larvacean",
          "larvacean",
          "larvacean",
          "larvacean",
          "larvacean",
          "larvacean",
          "larvacean",
          "larvacean",
          "larvacean",
          "larvacean",
          "larvacean",
          "larvacean",
          "larvacean",
          "larvacean",
          "larvacean",
          "larvacean",
          "larvacean",
          "larvacean",
          "larvacean",
          "larvacean",
          "larvacean",
          "larvacean",
          "larvacean",
          "larvacean",
          "larvacean",
          "larvacean",
          "larvacean",
          "larvacean",
          "larvacean",
          "larvacean",
          "larvacean",
          "larvacean",
          "larvacean",
          "larvacean",
          "larvacean",
          "larvacean",
          "larvacean",
          "larvacean",
          "larvacean",
          "larvacean",
          "larvacean",
          "larvacean",
          "larvacean",
          "larvacean",
          "larvacean",
          "larvacean",
          "larvacean",
          "larvacean",
          "larvacean",
          "larvacean",
          "larvacean",
          "larvacean",
          "larvacean",
          "larvacean",
          "larvacean",
          "larvacean",
          "larvacean",
          "larvacean",
          "larvacean",
          "larvacean",
          "larvacean",
          "larvacean",
          "larvacean",
          "larvacean",
          "larvacean",
          "larvacean",
          "larvacean",
          "larvacean",
          "larvacean",
          "larvacean",
          "larvacean",
          "larvacean",
          "larvacean",
          "larvacean",
          "larvacean",
          "larvacean",
          "larvacean",
          "larvacean",
          "larvacean",
          "larvacean",
          "larvacean",
          "larvacean",
          "larvacean",
          "larvacean",
          "larvacean",
          "larvacean",
          "larvacean",
          "larvacean",
          "larvacean",
          "larvacean",
          "larvacean",
          "larvacean",
          "larvacean",
          "larvacean",
          "larvacean",
          "larvacean",
          "larvacean",
          "larvacean",
          "larvacean",
          "larvacean",
          "larvacean",
          "larvacean",
          "larvacean",
          "larvacean",
          "larvacean",
          "larvacean",
          "larvacean",
          "larvacean",
          "larvacean",
          "larvacean",
          "larvacean",
          "larvacean",
          "larvacean",
          "larvacean",
          "larvacean",
          "larvacean",
          "larvacean",
          "larvacean",
          "larvacean",
          "larvacean",
          "larvacean",
          "larvacean",
          "larvacean",
          "larvacean",
          "larvacean",
          "larvacean",
          "larvacean",
          "larvacean",
          "larvacean",
          "larvacean",
          "larvacean",
          "larvacean",
          "larvacean",
          "larvacean",
          "larvacean",
          "larvacean",
          "larvacean",
          "larvacean",
          "larvacean",
          "larvacean",
          "larvacean",
          "larvacean",
          "larvacean",
          "larvacean",
          "larvacean",
          "larvacean",
          "larvacean",
          "larvacean",
          "larvacean",
          "larvacean",
          "larvacean",
          "larvacean",
          "larvacean",
          "larvacean",
          "larvacean",
          "larvacean",
          "larvacean",
          "larvacean",
          "larvacean",
          "larvacean",
          "larvacean",
          "larvacean",
          "larvacean",
          "larvacean",
          "larvacean",
          "larvacean",
          "larvacean",
          "larvacean",
          "larvacean",
          "larvacean",
          "larvacean",
          "larvacean",
          "larvacean",
          "larvacean",
          "larvacean",
          "larvacean",
          "larvacean",
          "larvacean",
          "larvacean",
          "larvacean",
          "larvacean",
          "larvacean",
          "larvacean",
          "larvacean",
          "larvacean",
          "larvacean",
          "larvacean",
          "larvacean",
          "larvacean",
          "larvacean",
          "larvacean",
          "larvacean",
          "larvacean",
          "larvacean",
          "larvacean",
          "larvacean",
          "larvacean",
          "larvacean",
          "larvacean",
          "larvacean",
          "larvacean",
          "larvacean",
          "larvacean",
          "larvacean",
          "larvacean",
          "larvacean",
          "larvacean",
          "larvacean",
          "larvacean",
          "larvacean",
          "larvacean",
          "larvacean",
          "larvacean",
          "larvacean",
          "larvacean",
          "larvacean",
          "larvacean",
          "larvacean",
          "larvacean",
          "larvacean",
          "larvacean",
          "larvacean",
          "larvacean",
          "larvacean",
          "larvacean",
          "larvacean",
          "larvacean",
          "larvacean",
          "larvacean",
          "larvacean",
          "larvacean",
          "larvacean",
          "larvacean",
          "larvacean",
          "larvacean",
          "larvacean",
          "larvacean",
          "larvacean",
          "larvacean",
          "larvacean",
          "larvacean",
          "larvacean",
          "larvacean",
          "larvacean",
          "larvacean",
          "larvacean",
          "larvacean",
          "larvacean",
          "larvacean",
          "larvacean",
          "larvacean",
          "larvacean",
          "larvacean",
          "larvacean",
          "larvacean",
          "larvacean",
          "larvacean",
          "larvacean",
          "larvacean",
          "larvacean",
          "larvacean",
          "larvacean",
          "larvacean",
          "larvacean",
          "larvacean",
          "larvacean",
          "larvacean",
          "larvacean",
          "larvacean",
          "larvacean",
          "larvacean",
          "larvacean",
          "larvacean",
          "larvacean",
          "larvacean",
          "larvacean",
          "larvacean",
          "larvacean",
          "larvacean",
          "larvacean",
          "larvacean",
          "larvacean",
          "larvacean",
          "larvacean",
          "larvacean",
          "larvacean",
          "larvacean",
          "larvacean",
          "larvacean",
          "larvacean",
          "larvacean",
          "larvacean",
          "larvacean",
          "larvacean",
          "larvacean",
          "larvacean",
          "larvacean",
          "larvacean",
          "larvacean",
          "larvacean",
          "larvacean",
          "larvacean",
          "larvacean",
          "larvacean",
          "larvacean",
          "larvacean",
          "larvacean",
          "larvacean",
          "larvacean",
          "larvacean",
          "larvacean",
          "larvacean",
          "larvacean",
          "larvacean",
          "larvacean",
          "larvacean",
          "larvacean",
          "larvacean",
          "larvacean",
          "larvacean",
          "larvacean",
          "larvacean",
          "larvacean",
          "larvacean",
          "larvacean",
          "larvacean",
          "larvacean",
          "larvacean",
          "larvacean",
          "larvacean",
          "larvacean",
          "larvacean",
          "larvacean",
          "larvacean",
          "larvacean",
          "larvacean",
          "larvacean",
          "larvacean",
          "larvacean",
          "larvacean",
          "larvacean",
          "larvacean",
          "larvacean",
          "larvacean",
          "larvacean",
          "larvacean",
          "larvacean",
          "larvacean",
          "larvacean",
          "larvacean",
          "larvacean",
          "larvacean",
          "larvacean",
          "larvacean",
          "larvacean",
          "larvacean",
          "larvacean",
          "larvacean",
          "larvacean",
          "larvacean",
          "larvacean",
          "larvacean",
          "larvacean",
          "larvacean",
          "larvacean",
          "larvacean",
          "larvacean",
          "larvacean",
          "larvacean",
          "larvacean",
          "larvacean",
          "larvacean",
          "larvacean",
          "larvacean",
          "larvacean",
          "larvacean",
          "larvacean",
          "larvacean",
          "larvacean",
          "larvacean",
          "larvacean",
          "larvacean",
          "larvacean",
          "larvacean",
          "larvacean",
          "larvacean",
          "larvacean",
          "larvacean",
          "larvacean",
          "larvacean",
          "larvacean",
          "larvacean",
          "larvacean",
          "larvacean",
          "larvacean",
          "larvacean",
          "larvacean",
          "larvacean",
          "larvacean",
          "larvacean",
          "thaliacea",
          "thaliacea",
          "thaliacea",
          "thaliacea",
          "thaliacea",
          "thaliacea",
          "thaliacea",
          "thaliacea",
          "thaliacea",
          "thaliacea",
          "thaliacea",
          "thaliacea",
          "thaliacea",
          "thaliacea",
          "thaliacea",
          "thaliacea",
          "thaliacea",
          "thaliacea",
          "thaliacea",
          "thaliacea",
          "thaliacea",
          "thaliacea",
          "thaliacea",
          "thaliacea",
          "thaliacea",
          "thaliacea",
          "thaliacea",
          "thaliacea",
          "thaliacea",
          "thaliacea",
          "thaliacea",
          "thaliacea",
          "thaliacea",
          "thaliacea",
          "thaliacea",
          "thaliacea",
          "thaliacea",
          "thaliacea",
          "thaliacea",
          "thaliacea",
          "thaliacea",
          "thaliacea",
          "thaliacea",
          "thaliacea",
          "thaliacea",
          "thaliacea",
          "thaliacea",
          "thaliacea",
          "thaliacea",
          "thaliacea",
          "thaliacea",
          "thaliacea",
          "thaliacea",
          "thaliacea",
          "thaliacea",
          "thaliacea",
          "thaliacea",
          "thaliacea",
          "thaliacea",
          "thaliacea",
          "thaliacea",
          "thaliacea",
          "thaliacea",
          "thaliacea",
          "thaliacea",
          "thaliacea",
          "thaliacea",
          "thaliacea",
          "thaliacea",
          "thaliacea",
          "thaliacea",
          "thaliacea",
          "thaliacea",
          "thaliacea",
          "thaliacea",
          "thaliacea",
          "thaliacea",
          "thaliacea",
          "thaliacea",
          "thaliacea",
          "thaliacea",
          "thaliacea",
          "thaliacea",
          "thaliacea",
          "thaliacea",
          "thaliacea",
          "thaliacea",
          "thaliacea",
          "thaliacea",
          "thaliacea",
          "thaliacea",
          "thaliacea",
          "thaliacea",
          "thaliacea",
          "thaliacea",
          "thaliacea",
          "thaliacea",
          "thaliacea",
          "thaliacea",
          "thaliacea",
          "thaliacea",
          "thaliacea",
          "thaliacea",
          "thaliacea",
          "thaliacea",
          "thaliacea",
          "thaliacea",
          "thaliacea",
          "thaliacea",
          "thaliacea",
          "thaliacea",
          "thaliacea",
          "thaliacea",
          "thaliacea",
          "thaliacea",
          "thaliacea",
          "thaliacea",
          "thaliacea",
          "thaliacea",
          "thaliacea",
          "thaliacea",
          "thaliacea",
          "thaliacea",
          "thaliacea",
          "thaliacea",
          "thaliacea",
          "thaliacea",
          "thaliacea",
          "thaliacea",
          "thaliacea",
          "thaliacea",
          "thaliacea",
          "thaliacea",
          "thaliacea",
          "thaliacea",
          "thaliacea",
          "thaliacea",
          "thaliacea",
          "thaliacea",
          "thaliacea",
          "thaliacea",
          "thaliacea",
          "thaliacea",
          "thaliacea",
          "thaliacea",
          "thaliacea",
          "thaliacea",
          "thaliacea",
          "thaliacea",
          "thaliacea",
          "thaliacea",
          "thaliacea",
          "thaliacea",
          "thaliacea",
          "thaliacea",
          "thaliacea",
          "thaliacea",
          "thaliacea",
          "thaliacea",
          "thaliacea",
          "thaliacea",
          "thaliacea",
          "thaliacea",
          "thaliacea",
          "thaliacea",
          "thaliacea",
          "thaliacea",
          "thaliacea",
          "thaliacea",
          "thaliacea",
          "thaliacea",
          "thaliacea",
          "thaliacea",
          "thaliacea",
          "thaliacea",
          "thaliacea",
          "thaliacea",
          "thaliacea",
          "thaliacea",
          "thaliacea",
          "thaliacea",
          "thaliacea",
          "thaliacea",
          "thaliacea",
          "thaliacea",
          "thaliacea",
          "thaliacea",
          "thaliacea",
          "thaliacea",
          "thaliacea",
          "thaliacea",
          "thaliacea",
          "thaliacea",
          "thaliacea",
          "thaliacea",
          "thaliacea",
          "thaliacea",
          "thaliacea",
          "thaliacea",
          "thaliacea",
          "thaliacea",
          "thaliacea",
          "thaliacea",
          "thaliacea",
          "thaliacea",
          "thaliacea",
          "thaliacea",
          "thaliacea",
          "thaliacea",
          "thaliacea",
          "thaliacea",
          "thaliacea",
          "thaliacea",
          "thaliacea",
          "thaliacea",
          "thaliacea",
          "thaliacea",
          "thaliacea",
          "thaliacea",
          "thaliacea",
          "thaliacea",
          "thaliacea",
          "thaliacea",
          "thaliacea",
          "thaliacea",
          "thaliacea",
          "thaliacea",
          "thaliacea",
          "thaliacea",
          "thaliacea",
          "thaliacea",
          "thaliacea",
          "thaliacea",
          "thaliacea",
          "thaliacea",
          "thaliacea",
          "thaliacea",
          "thaliacea",
          "thaliacea",
          "thaliacea",
          "thaliacea",
          "thaliacea",
          "thaliacea",
          "thaliacea",
          "thaliacea",
          "thaliacea",
          "thaliacea",
          "thaliacea",
          "thaliacea",
          "thaliacea",
          "thaliacea",
          "thaliacea",
          "thaliacea",
          "thaliacea",
          "thaliacea",
          "thaliacea",
          "thaliacea",
          "thaliacea",
          "thaliacea",
          "thaliacea",
          "thaliacea",
          "thaliacea",
          "thaliacea",
          "thaliacea",
          "thaliacea",
          "thaliacea",
          "thaliacea",
          "thaliacea",
          "thaliacea",
          "thaliacea",
          "thaliacea",
          "thaliacea",
          "thaliacea",
          "thaliacea",
          "thaliacea",
          "thaliacea",
          "thaliacea",
          "thaliacea",
          "thaliacea",
          "thaliacea",
          "thaliacea",
          "thaliacea",
          "thaliacea",
          "thaliacea",
          "thaliacea",
          "thaliacea",
          "thaliacea",
          "thaliacea",
          "thaliacea",
          "thaliacea",
          "thaliacea",
          "thaliacea",
          "thaliacea",
          "thaliacea",
          "thaliacea",
          "thaliacea",
          "thaliacea",
          "thaliacea",
          "thaliacea",
          "thaliacea",
          "thaliacea",
          "thaliacea",
          "thaliacea",
          "thaliacea",
          "thaliacea",
          "thaliacea",
          "thaliacea",
          "thaliacea",
          "thaliacea",
          "thaliacea",
          "thaliacea",
          "thaliacea",
          "thaliacea",
          "thaliacea",
          "thaliacea",
          "thaliacea",
          "thaliacea",
          "thaliacea",
          "thaliacea",
          "thaliacea",
          "thaliacea",
          "thaliacea",
          "thaliacea",
          "thaliacea",
          "thaliacea",
          "thaliacea",
          "thaliacea",
          "thaliacea",
          "thaliacea",
          "thaliacea",
          "thaliacea",
          "thaliacea",
          "thaliacea",
          "thaliacea",
          "thaliacea",
          "thaliacea",
          "thaliacea",
          "thaliacea",
          "thaliacea",
          "thaliacea",
          "thaliacea",
          "thaliacea",
          "thaliacea",
          "thaliacea",
          "thaliacea",
          "thaliacea",
          "thaliacea",
          "thaliacea",
          "thaliacea",
          "thaliacea",
          "thaliacea",
          "thaliacea",
          "thaliacea",
          "thaliacea",
          "thaliacea",
          "thaliacea",
          "thaliacea",
          "thaliacea",
          "thaliacea",
          "thaliacea",
          "thaliacea",
          "thaliacea",
          "thaliacea",
          "thaliacea",
          "thaliacea",
          "thaliacea",
          "thaliacea",
          "thaliacea",
          "thaliacea",
          "thaliacea",
          "thaliacea",
          "thaliacea",
          "thaliacea",
          "thaliacea",
          "thaliacea",
          "thaliacea",
          "thaliacea",
          "thaliacea",
          "thaliacea",
          "thaliacea",
          "thaliacea",
          "thaliacea",
          "thaliacea",
          "thaliacea",
          "thaliacea",
          "thaliacea",
          "thaliacea",
          "thaliacea",
          "thaliacea",
          "thaliacea",
          "thaliacea",
          "thaliacea",
          "thaliacea",
          "thaliacea",
          "thaliacea",
          "thaliacea",
          "thaliacea",
          "thaliacea",
          "thaliacea",
          "thaliacea",
          "thaliacea",
          "thaliacea",
          "thaliacea",
          "thaliacea",
          "thaliacea",
          "thaliacea",
          "thaliacea",
          "thaliacea",
          "thaliacea",
          "thaliacea",
          "thaliacea",
          "thaliacea",
          "thaliacea",
          "thaliacea",
          "thaliacea",
          "thaliacea",
          "thaliacea",
          "thaliacea",
          "thaliacea",
          "thaliacea",
          "thaliacea",
          "thaliacea",
          "thaliacea",
          "thaliacea",
          "thaliacea",
          "thaliacea",
          "thaliacea",
          "thaliacea",
          "thaliacea",
          "thaliacea",
          "thaliacea",
          "thaliacea",
          "thaliacea",
          "thaliacea",
          "thaliacea",
          "thaliacea",
          "thaliacea",
          "thaliacea",
          "thaliacea",
          "thaliacea",
          "thaliacea",
          "thaliacea",
          "thaliacea",
          "thaliacea",
          "thaliacea",
          "thaliacea",
          "thaliacea",
          "thaliacea",
          "thaliacea",
          "thaliacea",
          "thaliacea",
          "thaliacea",
          "thaliacea",
          "thaliacea",
          "thaliacea",
          "thaliacea",
          "thaliacea",
          "thaliacea",
          "thaliacea",
          "thaliacea",
          "thaliacea",
          "thaliacea",
          "thaliacea",
          "thaliacea",
          "thaliacea",
          "thaliacea",
          "thaliacea",
          "thaliacea",
          "thaliacea",
          "thaliacea",
          "thaliacea",
          "thaliacea",
          "thaliacea",
          "thaliacea",
          "thaliacea",
          "thaliacea",
          "thaliacea",
          "thaliacea",
          "thaliacea",
          "thaliacea",
          "thaliacea",
          "thaliacea",
          "thaliacea",
          "thaliacea",
          "thaliacea",
          "thaliacea",
          "thaliacea",
          "thaliacea",
          "thaliacea",
          "thaliacea",
          "thaliacea",
          "thaliacea",
          "thaliacea",
          "thaliacea",
          "thaliacea",
          "thaliacea",
          "thaliacea",
          "thaliacea",
          "thaliacea",
          "thaliacea",
          "thaliacea",
          "thaliacea",
          "thaliacea",
          "thaliacea",
          "thaliacea",
          "thaliacea",
          "thaliacea",
          "thaliacea",
          "thaliacea",
          "thaliacea",
          "thaliacea",
          "thaliacea",
          "thaliacea",
          "thaliacea",
          "thaliacea",
          "thaliacea",
          "thaliacea",
          "thaliacea",
          "thaliacea",
          "thaliacea",
          "thaliacea",
          "thaliacea",
          "thaliacea",
          "thaliacea",
          "thaliacea",
          "thaliacea",
          "thaliacea",
          "thaliacea",
          "thaliacea",
          "thaliacea",
          "thaliacea",
          "thaliacea",
          "thaliacea",
          "thaliacea",
          "thaliacea",
          "thaliacea",
          "thaliacea",
          "thaliacea",
          "thaliacea",
          "thaliacea",
          "thaliacea",
          "thaliacea",
          "thaliacea",
          "thaliacea",
          "thaliacea",
          "thaliacea",
          "thaliacea",
          "thaliacea",
          "thaliacea",
          "thaliacea",
          "thaliacea",
          "thaliacea",
          "thaliacea",
          "thaliacea",
          "thaliacea",
          "thaliacea",
          "thaliacea",
          "thaliacea",
          "thaliacea",
          "thaliacea",
          "thaliacea",
          "thaliacea",
          "thaliacea",
          "thaliacea",
          "thaliacea",
          "thaliacea",
          "thaliacea",
          "thaliacea",
          "thaliacea",
          "thaliacea",
          "thaliacea",
          "thaliacea",
          "thaliacea",
          "thaliacea",
          "thaliacea",
          "thaliacea",
          "thaliacea",
          "thaliacea",
          "thaliacea",
          "thaliacea",
          "thaliacea",
          "thaliacea",
          "thaliacea",
          "thaliacea",
          "thaliacea",
          "thaliacea",
          "thaliacea",
          "thaliacea",
          "thaliacea",
          "thaliacea",
          "thaliacea",
          "thaliacea",
          "thaliacea",
          "thaliacea",
          "thaliacea",
          "thaliacea",
          "thaliacea",
          "thaliacea",
          "thaliacea",
          "thaliacea",
          "thaliacea",
          "thaliacea",
          "thaliacea",
          "thaliacea",
          "thaliacea",
          "thaliacea",
          "thaliacea",
          "thaliacea",
          "thaliacea",
          "thaliacea",
          "thaliacea",
          "thaliacea",
          "thaliacea",
          "thaliacea",
          "thaliacea",
          "thaliacea",
          "thaliacea",
          "thaliacea",
          "thaliacea",
          "thaliacea",
          "thaliacea",
          "thaliacea",
          "thaliacea",
          "thaliacea",
          "thaliacea",
          "thaliacea",
          "thaliacea",
          "thaliacea",
          "thaliacea",
          "thaliacea",
          "thaliacea",
          "thaliacea",
          "thaliacea",
          "thaliacea",
          "thaliacea",
          "thaliacea",
          "thaliacea",
          "thaliacea",
          "thaliacea",
          "thaliacea",
          "thaliacea",
          "thaliacea",
          "thaliacea",
          "thaliacea",
          "thaliacea",
          "thaliacea",
          "thaliacea",
          "thaliacea",
          "thaliacea",
          "thaliacea",
          "thaliacea",
          "thaliacea",
          "thaliacea",
          "thaliacea",
          "thaliacea",
          "thaliacea",
          "thaliacea",
          "thaliacea",
          "thaliacea",
          "thaliacea",
          "thaliacea",
          "thaliacea",
          "thaliacea",
          "thaliacea",
          "thaliacea",
          "thaliacea",
          "thaliacea",
          "thaliacea",
          "thaliacea",
          "thaliacea",
          "thaliacea",
          "thaliacea",
          "thaliacea",
          "thaliacea",
          "thaliacea",
          "thaliacea",
          "thaliacea",
          "thaliacea",
          "thaliacea",
          "thaliacea",
          "thaliacea",
          "thaliacea",
          "thaliacea",
          "thaliacea",
          "thaliacea",
          "thaliacea",
          "thaliacea",
          "thaliacea",
          "thaliacea",
          "thaliacea",
          "thaliacea",
          "thaliacea",
          "thaliacea",
          "thaliacea",
          "thaliacea",
          "thaliacea",
          "thaliacea",
          "thaliacea",
          "thaliacea",
          "thaliacea",
          "thaliacea",
          "thaliacea",
          "thaliacea",
          "thaliacea",
          "thaliacea",
          "thaliacea",
          "thaliacea",
          "thaliacea",
          "thaliacea",
          "thaliacea",
          "thaliacea",
          "thaliacea",
          "thaliacea",
          "thaliacea",
          "thaliacea",
          "thaliacea",
          "thaliacea",
          "thaliacea",
          "thaliacea",
          "thaliacea",
          "thaliacea",
          "thaliacea",
          "thaliacea",
          "thaliacea",
          "thaliacea",
          "thaliacea",
          "thaliacea",
          "thaliacea",
          "thaliacea",
          "thaliacea",
          "thaliacea",
          "thaliacea",
          "thaliacea",
          "thaliacea",
          "thaliacea",
          "thaliacea",
          "thaliacea",
          "thaliacea",
          "thaliacea",
          "thaliacea",
          "thaliacea",
          "thaliacea",
          "thaliacea",
          "thaliacea",
          "thaliacea",
          "thaliacea",
          "thaliacea",
          "thaliacea",
          "thaliacea",
          "thaliacea",
          "thaliacea",
          "thaliacea",
          "thaliacea",
          "thaliacea",
          "thaliacea",
          "thaliacea",
          "thaliacea",
          "thaliacea",
          "thaliacea",
          "thaliacea",
          "thaliacea",
          "thaliacea",
          "thaliacea",
          "thaliacea",
          "thaliacea",
          "thaliacea",
          "thaliacea",
          "thaliacea",
          "thaliacea",
          "thaliacea",
          "thaliacea",
          "thaliacea",
          "thaliacea",
          "thaliacea",
          "thaliacea",
          "thaliacea",
          "thaliacea",
          "thaliacea",
          "thaliacea",
          "thaliacea",
          "thaliacea",
          "thaliacea",
          "thaliacea",
          "thaliacea",
          "thaliacea",
          "thaliacea",
          "thaliacea",
          "thaliacea",
          "thaliacea",
          "thaliacea",
          "thaliacea",
          "thaliacea",
          "thaliacea",
          "thaliacea",
          "thaliacea",
          "thaliacea",
          "thaliacea",
          "thaliacea",
          "thaliacea",
          "pteropods",
          "pteropods",
          "pteropods",
          "pteropods",
          "pteropods",
          "pteropods",
          "pteropods",
          "pteropods",
          "pteropods",
          "pteropods",
          "pteropods",
          "pteropods",
          "pteropods",
          "pteropods",
          "pteropods",
          "pteropods",
          "pteropods",
          "pteropods",
          "pteropods",
          "pteropods",
          "pteropods",
          "pteropods",
          "pteropods",
          "pteropods",
          "pteropods",
          "pteropods",
          "pteropods",
          "pteropods",
          "pteropods",
          "pteropods",
          "pteropods",
          "pteropods",
          "pteropods",
          "pteropods",
          "pteropods",
          "pteropods",
          "pteropods",
          "pteropods",
          "pteropods",
          "pteropods",
          "pteropods",
          "pteropods",
          "pteropods",
          "pteropods",
          "pteropods",
          "pteropods",
          "pteropods",
          "pteropods",
          "pteropods",
          "pteropods",
          "pteropods",
          "pteropods",
          "pteropods",
          "pteropods",
          "pteropods",
          "pteropods",
          "pteropods",
          "pteropods",
          "pteropods",
          "pteropods",
          "pteropods",
          "pteropods",
          "pteropods",
          "pteropods",
          "pteropods",
          "pteropods",
          "pteropods",
          "pteropods",
          "pteropods",
          "pteropods",
          "pteropods",
          "pteropods",
          "pteropods",
          "pteropods",
          "pteropods",
          "pteropods",
          "pteropods",
          "pteropods",
          "pteropods",
          "pteropods",
          "pteropods",
          "pteropods",
          "pteropods",
          "pteropods",
          "pteropods",
          "pteropods",
          "pteropods",
          "pteropods",
          "pteropods",
          "pteropods",
          "pteropods",
          "pteropods",
          "pteropods",
          "pteropods",
          "pteropods",
          "pteropods",
          "pteropods",
          "pteropods",
          "pteropods",
          "pteropods",
          "pteropods",
          "pteropods",
          "pteropods",
          "pteropods",
          "pteropods",
          "pteropods",
          "pteropods",
          "pteropods",
          "pteropods",
          "pteropods",
          "pteropods",
          "pteropods",
          "pteropods",
          "pteropods",
          "pteropods",
          "pteropods",
          "pteropods",
          "pteropods",
          "pteropods",
          "pteropods",
          "pteropods",
          "pteropods",
          "pteropods",
          "pteropods",
          "pteropods",
          "pteropods",
          "pteropods",
          "pteropods",
          "pteropods",
          "pteropods",
          "pteropods",
          "pteropods",
          "pteropods",
          "pteropods",
          "pteropods",
          "pteropods",
          "pteropods",
          "pteropods",
          "pteropods",
          "pteropods",
          "pteropods",
          "pteropods",
          "pteropods",
          "pteropods",
          "pteropods",
          "pteropods",
          "pteropods",
          "pteropods",
          "pteropods",
          "pteropods",
          "pteropods",
          "pteropods",
          "pteropods",
          "pteropods",
          "pteropods",
          "pteropods",
          "pteropods",
          "pteropods",
          "pteropods",
          "pteropods",
          "pteropods",
          "pteropods",
          "pteropods",
          "pteropods",
          "pteropods",
          "pteropods",
          "pteropods",
          "pteropods",
          "pteropods",
          "pteropods",
          "pteropods",
          "pteropods",
          "pteropods",
          "pteropods",
          "pteropods",
          "pteropods",
          "pteropods",
          "pteropods",
          "pteropods",
          "pteropods",
          "pteropods",
          "pteropods",
          "pteropods",
          "pteropods",
          "pteropods",
          "pteropods",
          "pteropods",
          "pteropods",
          "pteropods",
          "pteropods",
          "pteropods",
          "pteropods",
          "pteropods",
          "pteropods",
          "pteropods",
          "pteropods",
          "pteropods",
          "pteropods",
          "pteropods",
          "pteropods",
          "pteropods",
          "pteropods",
          "pteropods",
          "pteropods",
          "pteropods",
          "pteropods",
          "pteropods",
          "pteropods",
          "pteropods",
          "pteropods",
          "pteropods",
          "pteropods",
          "pteropods",
          "pteropods",
          "pteropods",
          "pteropods",
          "pteropods",
          "pteropods",
          "pteropods",
          "pteropods",
          "pteropods",
          "pteropods",
          "pteropods",
          "pteropods",
          "pteropods",
          "pteropods",
          "pteropods",
          "pteropods",
          "pteropods",
          "pteropods",
          "pteropods",
          "pteropods",
          "pteropods",
          "pteropods",
          "pteropods",
          "pteropods",
          "pteropods",
          "pteropods",
          "pteropods",
          "pteropods",
          "pteropods",
          "pteropods",
          "pteropods",
          "pteropods",
          "pteropods",
          "pteropods",
          "pteropods",
          "pteropods",
          "pteropods",
          "pteropods",
          "pteropods",
          "pteropods",
          "pteropods",
          "pteropods",
          "pteropods",
          "pteropods",
          "pteropods",
          "pteropods",
          "pteropods",
          "pteropods",
          "pteropods",
          "pteropods",
          "pteropods",
          "pteropods",
          "pteropods",
          "pteropods",
          "pteropods",
          "pteropods",
          "pteropods",
          "pteropods",
          "pteropods",
          "pteropods",
          "pteropods",
          "pteropods",
          "pteropods",
          "pteropods",
          "pteropods",
          "pteropods",
          "pteropods",
          "pteropods",
          "pteropods",
          "pteropods",
          "pteropods",
          "pteropods",
          "pteropods",
          "pteropods",
          "pteropods",
          "pteropods",
          "pteropods",
          "pteropods",
          "pteropods",
          "pteropods",
          "pteropods",
          "pteropods",
          "pteropods",
          "pteropods",
          "pteropods",
          "pteropods",
          "pteropods",
          "pteropods",
          "pteropods",
          "pteropods",
          "pteropods",
          "pteropods",
          "pteropods",
          "pteropods",
          "pteropods",
          "pteropods",
          "pteropods",
          "pteropods",
          "pteropods",
          "pteropods",
          "pteropods",
          "pteropods",
          "pteropods",
          "pteropods",
          "pteropods",
          "pteropods",
          "pteropods",
          "pteropods",
          "pteropods",
          "pteropods",
          "pteropods",
          "pteropods",
          "pteropods",
          "pteropods",
          "pteropods",
          "pteropods",
          "pteropods",
          "pteropods",
          "pteropods",
          "pteropods",
          "pteropods",
          "pteropods",
          "pteropods",
          "pteropods",
          "pteropods",
          "pteropods",
          "pteropods",
          "pteropods",
          "pteropods",
          "pteropods",
          "pteropods",
          "pteropods",
          "pteropods",
          "pteropods",
          "pteropods",
          "pteropods",
          "pteropods",
          "pteropods",
          "pteropods",
          "pteropods",
          "pteropods",
          "pteropods",
          "pteropods",
          "pteropods",
          "pteropods",
          "pteropods",
          "pteropods",
          "pteropods",
          "pteropods",
          "pteropods",
          "pteropods",
          "pteropods",
          "pteropods",
          "pteropods",
          "pteropods",
          "pteropods",
          "pteropods",
          "pteropods",
          "pteropods",
          "pteropods",
          "pteropods",
          "pteropods",
          "pteropods",
          "pteropods",
          "pteropods",
          "pteropods",
          "pteropods",
          "pteropods",
          "pteropods",
          "pteropods",
          "pteropods",
          "pteropods",
          "pteropods",
          "pteropods",
          "pteropods",
          "pteropods",
          "pteropods",
          "pteropods",
          "pteropods",
          "pteropods",
          "pteropods",
          "pteropods",
          "pteropods",
          "pteropods",
          "pteropods",
          "pteropods",
          "pteropods",
          "pteropods",
          "pteropods",
          "pteropods",
          "pteropods",
          "pteropods",
          "pteropods",
          "pteropods",
          "pteropods",
          "pteropods",
          "pteropods",
          "pteropods",
          "pteropods",
          "pteropods",
          "pteropods",
          "pteropods",
          "pteropods",
          "pteropods",
          "pteropods",
          "pteropods",
          "pteropods",
          "pteropods",
          "pteropods",
          "pteropods",
          "pteropods",
          "pteropods",
          "pteropods",
          "pteropods",
          "pteropods",
          "pteropods",
          "pteropods",
          "pteropods",
          "pteropods",
          "pteropods",
          "pteropods",
          "pteropods",
          "pteropods",
          "pteropods",
          "pteropods",
          "pteropods",
          "pteropods",
          "pteropods",
          "pteropods",
          "pteropods",
          "pteropods",
          "pteropods",
          "pteropods",
          "pteropods",
          "pteropods",
          "pteropods",
          "pteropods",
          "pteropods",
          "pteropods",
          "pteropods",
          "pteropods",
          "pteropods",
          "pteropods",
          "pteropods",
          "pteropods",
          "pteropods",
          "pteropods",
          "pteropods",
          "pteropods",
          "pteropods",
          "pteropods",
          "pteropods",
          "pteropods",
          "pteropods",
          "pteropods",
          "pteropods",
          "pteropods",
          "pteropods",
          "pteropods",
          "pteropods",
          "pteropods",
          "pteropods",
          "pteropods",
          "pteropods",
          "pteropods",
          "pteropods",
          "pteropods",
          "pteropods",
          "pteropods",
          "pteropods",
          "pteropods",
          "pteropods",
          "pteropods",
          "pteropods",
          "pteropods",
          "pteropods",
          "pteropods",
          "pteropods",
          "pteropods",
          "pteropods",
          "pteropods",
          "pteropods",
          "pteropods",
          "pteropods",
          "pteropods",
          "pteropods",
          "pteropods",
          "pteropods",
          "pteropods",
          "pteropods",
          "pteropods",
          "pteropods",
          "pteropods",
          "pteropods",
          "pteropods",
          "pteropods",
          "pteropods",
          "pteropods",
          "pteropods",
          "pteropods",
          "pteropods",
          "pteropods",
          "pteropods",
          "pteropods",
          "pteropods",
          "pteropods",
          "pteropods",
          "pteropods",
          "pteropods",
          "pteropods",
          "pteropods",
          "pteropods",
          "pteropods",
          "pteropods",
          "pteropods",
          "pteropods",
          "pteropods",
          "pteropods",
          "pteropods",
          "pteropods",
          "pteropods",
          "pteropods",
          "pteropods",
          "pteropods",
          "pteropods",
          "pteropods",
          "pteropods",
          "pteropods",
          "pteropods",
          "pteropods",
          "pteropods",
          "pteropods",
          "pteropods",
          "pteropods",
          "pteropods",
          "pteropods",
          "pteropods",
          "pteropods",
          "pteropods",
          "pteropods",
          "pteropods",
          "pteropods",
          "pteropods",
          "pteropods",
          "pteropods",
          "pteropods",
          "pteropods",
          "pteropods",
          "pteropods",
          "pteropods",
          "pteropods",
          "pteropods",
          "pteropods",
          "pteropods",
          "pteropods",
          "pteropods",
          "pteropods",
          "pteropods",
          "pteropods",
          "pteropods",
          "pteropods",
          "pteropods",
          "pteropods",
          "pteropods",
          "pteropods",
          "pteropods",
          "pteropods",
          "pteropods",
          "pteropods",
          "pteropods",
          "pteropods",
          "pteropods",
          "pteropods",
          "pteropods",
          "pteropods",
          "pteropods",
          "pteropods",
          "pteropods",
          "pteropods",
          "pteropods",
          "pteropods",
          "pteropods",
          "pteropods",
          "pteropods",
          "pteropods",
          "pteropods",
          "pteropods",
          "pteropods",
          "pteropods",
          "pteropods",
          "pteropods",
          "pteropods",
          "pteropods",
          "pteropods",
          "pteropods",
          "pteropods",
          "pteropods",
          "pteropods",
          "pteropods",
          "pteropods",
          "pteropods",
          "pteropods",
          "pteropods",
          "pteropods",
          "pteropods",
          "pteropods",
          "pteropods",
          "pteropods",
          "pteropods",
          "pteropods",
          "pteropods",
          "pteropods",
          "pteropods",
          "pteropods",
          "pteropods",
          "pteropods",
          "pteropods",
          "pteropods",
          "pteropods",
          "pteropods",
          "pteropods",
          "pteropods",
          "pteropods",
          "pteropods",
          "pteropods",
          "pteropods",
          "pteropods",
          "pteropods",
          "pteropods",
          "pteropods",
          "pteropods",
          "pteropods",
          "pteropods",
          "pteropods",
          "pteropods",
          "pteropods",
          "pteropods",
          "pteropods",
          "pteropods",
          "pteropods",
          "pteropods",
          "pteropods",
          "pteropods",
          "pteropods",
          "pteropods",
          "pteropods",
          "pteropods",
          "pteropods",
          "pteropods",
          "pteropods",
          "pteropods",
          "pteropods",
          "pteropods",
          "pteropods",
          "pteropods",
          "pteropods",
          "pteropods",
          "pteropods",
          "pteropods",
          "pteropods",
          "pteropods",
          "pteropods",
          "pteropods",
          "pteropods",
          "pteropods",
          "pteropods",
          "pteropods",
          "pteropods",
          "pteropods",
          "pteropods",
          "pteropods",
          "pteropods",
          "pteropods",
          "pteropods",
          "pteropods",
          "pteropods",
          "pteropods",
          "pteropods",
          "pteropods",
          "pteropods",
          "pteropods",
          "pteropods",
          "pteropods",
          "pteropods",
          "pteropods",
          "pteropods",
          "pteropods",
          "pteropods",
          "pteropods",
          "pteropods",
          "pteropods",
          "pteropods",
          "pteropods",
          "pteropods",
          "pteropods",
          "pteropods",
          "pteropods",
          "pteropods",
          "pteropods",
          "pteropods",
          "pteropods",
          "pteropods",
          "pteropods",
          "pteropods",
          "pteropods",
          "pteropods",
          "pteropods",
          "pteropods",
          "pteropods",
          "pteropods",
          "pteropods",
          "pteropods",
          "pteropods",
          "pteropods",
          "pteropods",
          "pteropods",
          "pteropods",
          "pteropods",
          "pteropods",
          "pteropods",
          "pteropods",
          "pteropods",
          "pteropods",
          "pteropods",
          "pteropods",
          "pteropods",
          "pteropods",
          "pteropods",
          "pteropods",
          "pteropods",
          "pteropods",
          "pteropods",
          "pteropods",
          "pteropods",
          "pteropods",
          "pteropods",
          "pteropods",
          "pteropods",
          "pteropods",
          "pteropods",
          "pteropods",
          "pteropods",
          "pteropods",
          "pteropods",
          "pteropods",
          "pteropods",
          "pteropods",
          "pteropods",
          "pteropods",
          "pteropods",
          "pteropods",
          "pteropods",
          "pteropods",
          "pteropods",
          "pteropods",
          "pteropods",
          "pteropods",
          "pteropods",
          "pteropods",
          "pteropods",
          "pteropods",
          "pteropods",
          "pteropods",
          "pteropods",
          "pteropods",
          "pteropods",
          "pteropods",
          "pteropods",
          "pteropods",
          "pteropods",
          "pteropods",
          "pteropods",
          "pteropods",
          "pteropods",
          "pteropods",
          "pteropods",
          "pteropods",
          "pteropods",
          "pteropods",
          "pteropods",
          "pteropods",
          "pteropods",
          "pteropods",
          "pteropods",
          "pteropods",
          "pteropods",
          "pteropods",
          "others",
          "others",
          "others",
          "others",
          "others",
          "others",
          "others",
          "others",
          "others",
          "others",
          "others",
          "others",
          "others",
          "others",
          "others",
          "others",
          "others",
          "others",
          "others",
          "others",
          "others",
          "others",
          "others",
          "others",
          "others",
          "others",
          "others",
          "others",
          "others",
          "others",
          "others",
          "others",
          "others",
          "others",
          "others",
          "others",
          "others",
          "others",
          "others",
          "others",
          "others",
          "others",
          "others",
          "others",
          "others",
          "others",
          "others",
          "others",
          "others",
          "others",
          "others",
          "others",
          "others",
          "others",
          "others",
          "others",
          "others",
          "others",
          "others",
          "others",
          "others",
          "others",
          "others",
          "others",
          "others",
          "others",
          "others",
          "others",
          "others",
          "others",
          "others",
          "others",
          "others",
          "others",
          "others",
          "others",
          "others",
          "others",
          "others",
          "others",
          "others",
          "others",
          "others",
          "others",
          "others",
          "others",
          "others",
          "others",
          "others",
          "others",
          "others",
          "others",
          "others",
          "others",
          "others",
          "others",
          "others",
          "others",
          "others",
          "others",
          "others",
          "others",
          "others",
          "others",
          "others",
          "others",
          "others",
          "others",
          "others",
          "others",
          "others",
          "others",
          "others",
          "others",
          "others",
          "others",
          "others",
          "others",
          "others",
          "others",
          "others",
          "others",
          "others",
          "others",
          "others",
          "others",
          "others",
          "others",
          "others",
          "others",
          "others",
          "others",
          "others",
          "others",
          "others",
          "others",
          "others",
          "others",
          "others",
          "others",
          "others",
          "others",
          "others",
          "others",
          "others",
          "others",
          "others",
          "others",
          "others",
          "others",
          "others",
          "others",
          "others",
          "others",
          "others",
          "others",
          "others",
          "others",
          "others",
          "others",
          "others",
          "others",
          "others",
          "others",
          "others",
          "others",
          "others",
          "others",
          "others",
          "others",
          "others",
          "others",
          "others",
          "others",
          "others",
          "others",
          "others",
          "others",
          "others",
          "others",
          "others",
          "others",
          "others",
          "others",
          "others",
          "others",
          "others",
          "others",
          "others",
          "others",
          "others",
          "others",
          "others",
          "others",
          "others",
          "others",
          "others",
          "others",
          "others",
          "others",
          "others",
          "others",
          "others",
          "others",
          "others",
          "others",
          "others",
          "others",
          "others",
          "others",
          "others",
          "others",
          "others",
          "others",
          "others",
          "others",
          "others",
          "others",
          "others",
          "others",
          "others",
          "others",
          "others",
          "others",
          "others",
          "others",
          "others",
          "others",
          "others",
          "others",
          "others",
          "others",
          "others",
          "others",
          "others",
          "others",
          "others",
          "others",
          "others",
          "others",
          "others",
          "others",
          "others",
          "others",
          "others",
          "others",
          "others",
          "others",
          "others",
          "others",
          "others",
          "others",
          "others",
          "others",
          "others",
          "others",
          "others",
          "others",
          "others",
          "others",
          "others",
          "others",
          "others",
          "others",
          "others",
          "others",
          "others",
          "others",
          "others",
          "others",
          "others",
          "others",
          "others",
          "others",
          "others",
          "others",
          "others",
          "others",
          "others",
          "others",
          "others",
          "others",
          "others",
          "others",
          "others",
          "others",
          "others",
          "others",
          "others",
          "others",
          "others",
          "others",
          "others",
          "others",
          "others",
          "others",
          "others",
          "others",
          "others",
          "others",
          "others",
          "others",
          "others",
          "others",
          "others",
          "others",
          "others",
          "others",
          "others",
          "others",
          "others",
          "others",
          "others",
          "others",
          "others",
          "others",
          "others",
          "others",
          "others",
          "others",
          "others",
          "others",
          "others",
          "others",
          "others",
          "others",
          "others",
          "others",
          "others",
          "others",
          "others",
          "others",
          "others",
          "others",
          "others",
          "others",
          "others",
          "others",
          "others",
          "others",
          "others",
          "others",
          "others",
          "others",
          "others",
          "others",
          "others",
          "others",
          "others",
          "others",
          "others",
          "others",
          "others",
          "others",
          "others",
          "others",
          "others",
          "others",
          "others",
          "others",
          "others",
          "others",
          "others",
          "others",
          "others",
          "others",
          "others",
          "others",
          "others",
          "others",
          "others",
          "others",
          "others",
          "others",
          "others",
          "others",
          "others",
          "others",
          "others",
          "others",
          "others",
          "others",
          "others",
          "others",
          "others",
          "others",
          "others",
          "others",
          "others",
          "others",
          "others",
          "others",
          "others",
          "others",
          "others",
          "others",
          "others",
          "others",
          "others",
          "others",
          "others",
          "others",
          "others",
          "others",
          "others",
          "others",
          "others",
          "others",
          "others",
          "others",
          "others",
          "others",
          "others",
          "others",
          "others",
          "others",
          "others",
          "others",
          "others",
          "others",
          "others",
          "others",
          "others",
          "others",
          "others",
          "others",
          "others",
          "others",
          "others",
          "others",
          "others",
          "others",
          "others",
          "others",
          "others",
          "others",
          "others",
          "others",
          "others",
          "others",
          "others",
          "others",
          "others",
          "others",
          "others",
          "others",
          "others",
          "others",
          "others",
          "others",
          "others",
          "others",
          "others",
          "others",
          "others",
          "others",
          "others",
          "others",
          "others",
          "others",
          "others",
          "others",
          "others",
          "others",
          "others",
          "others",
          "others",
          "others",
          "others",
          "others",
          "others",
          "others",
          "others",
          "others",
          "others",
          "others",
          "others",
          "others",
          "others",
          "others",
          "others",
          "others",
          "others",
          "others",
          "others",
          "others",
          "others",
          "others",
          "others",
          "others",
          "others",
          "others",
          "others",
          "others",
          "others",
          "others",
          "others",
          "others",
          "others",
          "others",
          "others",
          "others",
          "others",
          "others",
          "others",
          "others",
          "others",
          "others",
          "others",
          "others",
          "others",
          "others",
          "others",
          "others",
          "others",
          "others",
          "others",
          "others",
          "others",
          "others",
          "others",
          "others",
          "others",
          "others",
          "others",
          "others",
          "others",
          "others",
          "others",
          "others",
          "others",
          "others",
          "others",
          "others",
          "others",
          "others",
          "others",
          "others",
          "others",
          "others",
          "others",
          "others",
          "others",
          "others",
          "others",
          "others",
          "others",
          "others",
          "others",
          "others",
          "others",
          "others",
          "others",
          "others",
          "others",
          "others",
          "others",
          "others",
          "others",
          "others",
          "others",
          "others",
          "others",
          "others",
          "others",
          "others",
          "others",
          "others",
          "others",
          "others",
          "others",
          "others",
          "others",
          "others",
          "others",
          "others",
          "others",
          "others",
          "others",
          "others",
          "others",
          "others",
          "others",
          "others",
          "others",
          "others",
          "others",
          "others",
          "others",
          "others",
          "others",
          "others",
          "others",
          "others",
          "others",
          "others",
          "others",
          "others",
          "others",
          "others",
          "others",
          "others",
          "others",
          "others",
          "others",
          "others",
          "others",
          "others",
          "others",
          "others",
          "others",
          "others",
          "others",
          "others",
          "others",
          "others",
          "others",
          "others",
          "others",
          "others",
          "others",
          "others",
          "others",
          "others",
          "others",
          "others",
          "others",
          "others",
          "others",
          "others",
          "others",
          "others",
          "others",
          "others",
          "others",
          "others",
          "others",
          "others",
          "others",
          "others",
          "others",
          "others",
          "others",
          "others",
          "others",
          "others",
          "others",
          "others",
          "others",
          "others",
          "others",
          "others",
          "others",
          "others",
          "others",
          "others",
          "others",
          "others",
          "others",
          "others",
          "others",
          "others",
          "others",
          "others",
          "others",
          "others",
          "others",
          "others",
          "others",
          "others",
          "others",
          "others",
          "others",
          "others",
          "others",
          "others",
          "others",
          "others",
          "others",
          "others",
          "others",
          "others",
          "others",
          "others",
          "others",
          "others",
          "others",
          "others",
          "others",
          "others",
          "others",
          "others",
          "others",
          "others",
          "others",
          "others",
          "others",
          "others",
          "others",
          "others",
          "others",
          "others",
          "others",
          "others",
          "others",
          "others",
          "others",
          "others",
          "others",
          "others",
          "others",
          "others",
          "others",
          "others",
          "others",
          "others",
          "others",
          "others",
          "others",
          "others",
          "others",
          "others",
          "others",
          "others",
          "others",
          "others",
          "others",
          "others",
          "others",
          "others",
          "others",
          "others",
          "others",
          "others",
          "others",
          "others",
          "others",
          "others",
          "others",
          "others",
          "others",
          "others",
          "others",
          "others",
          "others",
          "others",
          "others",
          "others",
          "others",
          "others",
          "others",
          "others",
          "others",
          "others",
          "others",
          "others",
          "others",
          "others",
          "others",
          "others",
          "others",
          "others",
          "others",
          "others",
          "others",
          "others",
          "others",
          "others",
          "others",
          "others",
          "others",
          "others",
          "others",
          "others",
          "others",
          "others",
          "others",
          "others",
          "others",
          "others",
          "others",
          "others",
          "others",
          "others",
          "others",
          "others",
          "others",
          "others",
          "others",
          "others",
          "others",
          "others",
          "others",
          "others",
          "others",
          "others",
          "others",
          "others",
          "others",
          "total",
          "total",
          "total",
          "total",
          "total",
          "total",
          "total",
          "total",
          "total",
          "total",
          "total",
          "total",
          "total",
          "total",
          "total",
          "total",
          "total",
          "total",
          "total",
          "total",
          "total",
          "total",
          "total",
          "total",
          "total",
          "total",
          "total",
          "total",
          "total",
          "total",
          "total",
          "total",
          "total",
          "total",
          "total",
          "total",
          "total",
          "total",
          "total",
          "total",
          "total",
          "total",
          "total",
          "total",
          "total",
          "total",
          "total",
          "total",
          "total",
          "total",
          "total",
          "total",
          "total",
          "total",
          "total",
          "total",
          "total",
          "total",
          "total",
          "total",
          "total",
          "total",
          "total",
          "total",
          "total",
          "total",
          "total",
          "total",
          "total",
          "total",
          "total",
          "total",
          "total",
          "total",
          "total",
          "total",
          "total",
          "total",
          "total",
          "total",
          "total",
          "total",
          "total",
          "total",
          "total",
          "total",
          "total",
          "total",
          "total",
          "total",
          "total",
          "total",
          "total",
          "total",
          "total",
          "total",
          "total",
          "total",
          "total",
          "total",
          "total",
          "total",
          "total",
          "total",
          "total",
          "total",
          "total",
          "total",
          "total",
          "total",
          "total",
          "total",
          "total",
          "total",
          "total",
          "total",
          "total",
          "total",
          "total",
          "total",
          "total",
          "total",
          "total",
          "total",
          "total",
          "total",
          "total",
          "total",
          "total",
          "total",
          "total",
          "total",
          "total",
          "total",
          "total",
          "total",
          "total",
          "total",
          "total",
          "total",
          "total",
          "total",
          "total",
          "total",
          "total",
          "total",
          "total",
          "total",
          "total",
          "total",
          "total",
          "total",
          "total",
          "total",
          "total",
          "total",
          "total",
          "total",
          "total",
          "total",
          "total",
          "total",
          "total",
          "total",
          "total",
          "total",
          "total",
          "total",
          "total",
          "total",
          "total",
          "total",
          "total",
          "total",
          "total",
          "total",
          "total",
          "total",
          "total",
          "total",
          "total",
          "total",
          "total",
          "total",
          "total",
          "total",
          "total",
          "total",
          "total",
          "total",
          "total",
          "total",
          "total",
          "total",
          "total",
          "total",
          "total",
          "total",
          "total",
          "total",
          "total",
          "total",
          "total",
          "total",
          "total",
          "total",
          "total",
          "total",
          "total",
          "total",
          "total",
          "total",
          "total",
          "total",
          "total",
          "total",
          "total",
          "total",
          "total",
          "total",
          "total",
          "total",
          "total",
          "total",
          "total",
          "total",
          "total",
          "total",
          "total",
          "total",
          "total",
          "total",
          "total",
          "total",
          "total",
          "total",
          "total",
          "total",
          "total",
          "total",
          "total",
          "total",
          "total",
          "total",
          "total",
          "total",
          "total",
          "total",
          "total",
          "total",
          "total",
          "total",
          "total",
          "total",
          "total",
          "total",
          "total",
          "total",
          "total",
          "total",
          "total",
          "total",
          "total",
          "total",
          "total",
          "total",
          "total",
          "total",
          "total",
          "total",
          "total",
          "total",
          "total",
          "total",
          "total",
          "total",
          "total",
          "total",
          "total",
          "total",
          "total",
          "total",
          "total",
          "total",
          "total",
          "total",
          "total",
          "total",
          "total",
          "total",
          "total",
          "total",
          "total",
          "total",
          "total",
          "total",
          "total",
          "total",
          "total",
          "total",
          "total",
          "total",
          "total",
          "total",
          "total",
          "total",
          "total",
          "total",
          "total",
          "total",
          "total",
          "total",
          "total",
          "total",
          "total",
          "total",
          "total",
          "total",
          "total",
          "total",
          "total",
          "total",
          "total",
          "total",
          "total",
          "total",
          "total",
          "total",
          "total",
          "total",
          "total",
          "total",
          "total",
          "total",
          "total",
          "total",
          "total",
          "total",
          "total",
          "total",
          "total",
          "total",
          "total",
          "total",
          "total",
          "total",
          "total",
          "total",
          "total",
          "total",
          "total",
          "total",
          "total",
          "total",
          "total",
          "total",
          "total",
          "total",
          "total",
          "total",
          "total",
          "total",
          "total",
          "total",
          "total",
          "total",
          "total",
          "total",
          "total",
          "total",
          "total",
          "total",
          "total",
          "total",
          "total",
          "total",
          "total",
          "total",
          "total",
          "total",
          "total",
          "total",
          "total",
          "total",
          "total",
          "total",
          "total",
          "total",
          "total",
          "total",
          "total",
          "total",
          "total",
          "total",
          "total",
          "total",
          "total",
          "total",
          "total",
          "total",
          "total",
          "total",
          "total",
          "total",
          "total",
          "total",
          "total",
          "total",
          "total",
          "total",
          "total",
          "total",
          "total",
          "total",
          "total",
          "total",
          "total",
          "total",
          "total",
          "total",
          "total",
          "total",
          "total",
          "total",
          "total",
          "total",
          "total",
          "total",
          "total",
          "total",
          "total",
          "total",
          "total",
          "total",
          "total",
          "total",
          "total",
          "total",
          "total",
          "total",
          "total",
          "total",
          "total",
          "total",
          "total",
          "total",
          "total",
          "total",
          "total",
          "total",
          "total",
          "total",
          "total",
          "total",
          "total",
          "total",
          "total",
          "total",
          "total",
          "total",
          "total",
          "total",
          "total",
          "total",
          "total",
          "total",
          "total",
          "total",
          "total",
          "total",
          "total",
          "total",
          "total",
          "total",
          "total",
          "total",
          "total",
          "total",
          "total",
          "total",
          "total",
          "total",
          "total",
          "total",
          "total",
          "total",
          "total",
          "total",
          "total",
          "total",
          "total",
          "total",
          "total",
          "total",
          "total",
          "total",
          "total",
          "total",
          "total",
          "total",
          "total",
          "total",
          "total",
          "total",
          "total",
          "total",
          "total",
          "total",
          "total",
          "total",
          "total",
          "total",
          "total",
          "total",
          "total",
          "total",
          "total",
          "total",
          "total",
          "total",
          "total",
          "total",
          "total",
          "total",
          "total",
          "total",
          "total",
          "total",
          "total",
          "total",
          "total",
          "total",
          "total",
          "total",
          "total",
          "total",
          "total",
          "total",
          "total",
          "total",
          "total",
          "total",
          "total",
          "total",
          "total",
          "total",
          "total",
          "total",
          "total",
          "total",
          "total",
          "total",
          "total",
          "total",
          "total",
          "total",
          "total",
          "total",
          "total",
          "total",
          "total",
          "total",
          "total",
          "total",
          "total",
          "total",
          "total",
          "total",
          "total",
          "total",
          "total",
          "total",
          "total",
          "total",
          "total",
          "total",
          "total",
          "total",
          "total",
          "total",
          "total",
          "total",
          "total",
          "total",
          "total",
          "total",
          "total",
          "total",
          "total",
          "total",
          "total",
          "total",
          "total",
          "total",
          "total",
          "total",
          "total",
          "total",
          "total",
          "total",
          "total",
          "total",
          "total",
          "total",
          "total",
          "total",
          "total",
          "total",
          "total",
          "total",
          "total",
          "total",
          "total",
          "total",
          "total",
          "total",
          "total",
          "total",
          "total",
          "total",
          "total",
          "total",
          "total",
          "total",
          "total",
          "total",
          "total",
          "total",
          "total",
          "total",
          "total",
          "total",
          "total",
          "total",
          "total",
          "total",
          "total",
          "total",
          "total",
          "total",
          "total",
          "total",
          "total",
          "total",
          "total",
          "total",
          "total",
          "total",
          "total",
          "total",
          "total",
          "total",
          "total",
          "total",
          "total",
          "total",
          "total",
          "total",
          "total",
          "total",
          "total",
          "total",
          "total",
          "total",
          "total",
          "total",
          "total",
          "total",
          "total",
          "total",
          "total",
          "total",
          "total",
          "total",
          "total",
          "total",
          "total",
          "total",
          "total",
          "total",
          "total",
          "total",
          "total",
          "total",
          "total",
          "total",
          "total",
          "total",
          "total",
          "total",
          "total",
          "total",
          "total",
          "total",
          "total",
          "total",
          "total",
          "total",
          "total",
          "total",
          "total",
          "total",
          "total",
          "total",
          "total",
          "total",
          "total",
          "total",
          "total",
          "total",
          "total",
          "total",
          "total",
          "total",
          "total",
          "total",
          "total",
          "total",
          "total",
          "total",
          "total",
          "total",
          "total",
          "total",
          "total",
          "total",
          "total",
          "total",
          "total",
          "total",
          "total",
          "total",
          "total",
          "total",
          "total",
          "total",
          "total",
          "total",
          "total",
          "total",
          "total",
          "total",
          "total",
          "total",
          "total",
          "total",
          "total",
          "total",
          "total",
          "total",
          "total",
          "total",
          "total",
          "total",
          "total",
          "total",
          "total",
          "total",
          "total",
          "total",
          "total",
          "total",
          "total",
          "total",
          "total",
          "total",
          "total",
          "total",
          "total",
          "total",
          "total",
          "total",
          "total",
          "total",
          "total",
          "total",
          "total",
          "total",
          "total",
          "total",
          "total",
          "total",
          "total",
          "total",
          "total",
          "total",
          "total",
          "total",
          "total",
          "total",
          "total",
          "total",
          "total",
          "total",
          "total",
          "total",
          "total",
          "total",
          "total"
         ],
         "x0": " ",
         "xaxis": "x",
         "y": {
          "bdata": "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",
          "dtype": "f8"
         },
         "y0": " ",
         "yaxis": "y"
        }
       ],
       "layout": {
        "boxmode": "group",
        "legend": {
         "tracegroupgap": 0
        },
        "margin": {
         "t": 60
        },
        "template": {
         "data": {
          "bar": [
           {
            "error_x": {
             "color": "#2a3f5f"
            },
            "error_y": {
             "color": "#2a3f5f"
            },
            "marker": {
             "line": {
              "color": "#E5ECF6",
              "width": 0.5
             },
             "pattern": {
              "fillmode": "overlay",
              "size": 10,
              "solidity": 0.2
             }
            },
            "type": "bar"
           }
          ],
          "barpolar": [
           {
            "marker": {
             "line": {
              "color": "#E5ECF6",
              "width": 0.5
             },
             "pattern": {
              "fillmode": "overlay",
              "size": 10,
              "solidity": 0.2
             }
            },
            "type": "barpolar"
           }
          ],
          "carpet": [
           {
            "aaxis": {
             "endlinecolor": "#2a3f5f",
             "gridcolor": "white",
             "linecolor": "white",
             "minorgridcolor": "white",
             "startlinecolor": "#2a3f5f"
            },
            "baxis": {
             "endlinecolor": "#2a3f5f",
             "gridcolor": "white",
             "linecolor": "white",
             "minorgridcolor": "white",
             "startlinecolor": "#2a3f5f"
            },
            "type": "carpet"
           }
          ],
          "choropleth": [
           {
            "colorbar": {
             "outlinewidth": 0,
             "ticks": ""
            },
            "type": "choropleth"
           }
          ],
          "contour": [
           {
            "colorbar": {
             "outlinewidth": 0,
             "ticks": ""
            },
            "colorscale": [
             [
              0,
              "#0d0887"
             ],
             [
              0.1111111111111111,
              "#46039f"
             ],
             [
              0.2222222222222222,
              "#7201a8"
             ],
             [
              0.3333333333333333,
              "#9c179e"
             ],
             [
              0.4444444444444444,
              "#bd3786"
             ],
             [
              0.5555555555555556,
              "#d8576b"
             ],
             [
              0.6666666666666666,
              "#ed7953"
             ],
             [
              0.7777777777777778,
              "#fb9f3a"
             ],
             [
              0.8888888888888888,
              "#fdca26"
             ],
             [
              1,
              "#f0f921"
             ]
            ],
            "type": "contour"
           }
          ],
          "contourcarpet": [
           {
            "colorbar": {
             "outlinewidth": 0,
             "ticks": ""
            },
            "type": "contourcarpet"
           }
          ],
          "heatmap": [
           {
            "colorbar": {
             "outlinewidth": 0,
             "ticks": ""
            },
            "colorscale": [
             [
              0,
              "#0d0887"
             ],
             [
              0.1111111111111111,
              "#46039f"
             ],
             [
              0.2222222222222222,
              "#7201a8"
             ],
             [
              0.3333333333333333,
              "#9c179e"
             ],
             [
              0.4444444444444444,
              "#bd3786"
             ],
             [
              0.5555555555555556,
              "#d8576b"
             ],
             [
              0.6666666666666666,
              "#ed7953"
             ],
             [
              0.7777777777777778,
              "#fb9f3a"
             ],
             [
              0.8888888888888888,
              "#fdca26"
             ],
             [
              1,
              "#f0f921"
             ]
            ],
            "type": "heatmap"
           }
          ],
          "histogram": [
           {
            "marker": {
             "pattern": {
              "fillmode": "overlay",
              "size": 10,
              "solidity": 0.2
             }
            },
            "type": "histogram"
           }
          ],
          "histogram2d": [
           {
            "colorbar": {
             "outlinewidth": 0,
             "ticks": ""
            },
            "colorscale": [
             [
              0,
              "#0d0887"
             ],
             [
              0.1111111111111111,
              "#46039f"
             ],
             [
              0.2222222222222222,
              "#7201a8"
             ],
             [
              0.3333333333333333,
              "#9c179e"
             ],
             [
              0.4444444444444444,
              "#bd3786"
             ],
             [
              0.5555555555555556,
              "#d8576b"
             ],
             [
              0.6666666666666666,
              "#ed7953"
             ],
             [
              0.7777777777777778,
              "#fb9f3a"
             ],
             [
              0.8888888888888888,
              "#fdca26"
             ],
             [
              1,
              "#f0f921"
             ]
            ],
            "type": "histogram2d"
           }
          ],
          "histogram2dcontour": [
           {
            "colorbar": {
             "outlinewidth": 0,
             "ticks": ""
            },
            "colorscale": [
             [
              0,
              "#0d0887"
             ],
             [
              0.1111111111111111,
              "#46039f"
             ],
             [
              0.2222222222222222,
              "#7201a8"
             ],
             [
              0.3333333333333333,
              "#9c179e"
             ],
             [
              0.4444444444444444,
              "#bd3786"
             ],
             [
              0.5555555555555556,
              "#d8576b"
             ],
             [
              0.6666666666666666,
              "#ed7953"
             ],
             [
              0.7777777777777778,
              "#fb9f3a"
             ],
             [
              0.8888888888888888,
              "#fdca26"
             ],
             [
              1,
              "#f0f921"
             ]
            ],
            "type": "histogram2dcontour"
           }
          ],
          "mesh3d": [
           {
            "colorbar": {
             "outlinewidth": 0,
             "ticks": ""
            },
            "type": "mesh3d"
           }
          ],
          "parcoords": [
           {
            "line": {
             "colorbar": {
              "outlinewidth": 0,
              "ticks": ""
             }
            },
            "type": "parcoords"
           }
          ],
          "pie": [
           {
            "automargin": true,
            "type": "pie"
           }
          ],
          "scatter": [
           {
            "fillpattern": {
             "fillmode": "overlay",
             "size": 10,
             "solidity": 0.2
            },
            "type": "scatter"
           }
          ],
          "scatter3d": [
           {
            "line": {
             "colorbar": {
              "outlinewidth": 0,
              "ticks": ""
             }
            },
            "marker": {
             "colorbar": {
              "outlinewidth": 0,
              "ticks": ""
             }
            },
            "type": "scatter3d"
           }
          ],
          "scattercarpet": [
           {
            "marker": {
             "colorbar": {
              "outlinewidth": 0,
              "ticks": ""
             }
            },
            "type": "scattercarpet"
           }
          ],
          "scattergeo": [
           {
            "marker": {
             "colorbar": {
              "outlinewidth": 0,
              "ticks": ""
             }
            },
            "type": "scattergeo"
           }
          ],
          "scattergl": [
           {
            "marker": {
             "colorbar": {
              "outlinewidth": 0,
              "ticks": ""
             }
            },
            "type": "scattergl"
           }
          ],
          "scattermap": [
           {
            "marker": {
             "colorbar": {
              "outlinewidth": 0,
              "ticks": ""
             }
            },
            "type": "scattermap"
           }
          ],
          "scattermapbox": [
           {
            "marker": {
             "colorbar": {
              "outlinewidth": 0,
              "ticks": ""
             }
            },
            "type": "scattermapbox"
           }
          ],
          "scatterpolar": [
           {
            "marker": {
             "colorbar": {
              "outlinewidth": 0,
              "ticks": ""
             }
            },
            "type": "scatterpolar"
           }
          ],
          "scatterpolargl": [
           {
            "marker": {
             "colorbar": {
              "outlinewidth": 0,
              "ticks": ""
             }
            },
            "type": "scatterpolargl"
           }
          ],
          "scatterternary": [
           {
            "marker": {
             "colorbar": {
              "outlinewidth": 0,
              "ticks": ""
             }
            },
            "type": "scatterternary"
           }
          ],
          "surface": [
           {
            "colorbar": {
             "outlinewidth": 0,
             "ticks": ""
            },
            "colorscale": [
             [
              0,
              "#0d0887"
             ],
             [
              0.1111111111111111,
              "#46039f"
             ],
             [
              0.2222222222222222,
              "#7201a8"
             ],
             [
              0.3333333333333333,
              "#9c179e"
             ],
             [
              0.4444444444444444,
              "#bd3786"
             ],
             [
              0.5555555555555556,
              "#d8576b"
             ],
             [
              0.6666666666666666,
              "#ed7953"
             ],
             [
              0.7777777777777778,
              "#fb9f3a"
             ],
             [
              0.8888888888888888,
              "#fdca26"
             ],
             [
              1,
              "#f0f921"
             ]
            ],
            "type": "surface"
           }
          ],
          "table": [
           {
            "cells": {
             "fill": {
              "color": "#EBF0F8"
             },
             "line": {
              "color": "white"
             }
            },
            "header": {
             "fill": {
              "color": "#C8D4E3"
             },
             "line": {
              "color": "white"
             }
            },
            "type": "table"
           }
          ]
         },
         "layout": {
          "annotationdefaults": {
           "arrowcolor": "#2a3f5f",
           "arrowhead": 0,
           "arrowwidth": 1
          },
          "autotypenumbers": "strict",
          "coloraxis": {
           "colorbar": {
            "outlinewidth": 0,
            "ticks": ""
           }
          },
          "colorscale": {
           "diverging": [
            [
             0,
             "#8e0152"
            ],
            [
             0.1,
             "#c51b7d"
            ],
            [
             0.2,
             "#de77ae"
            ],
            [
             0.3,
             "#f1b6da"
            ],
            [
             0.4,
             "#fde0ef"
            ],
            [
             0.5,
             "#f7f7f7"
            ],
            [
             0.6,
             "#e6f5d0"
            ],
            [
             0.7,
             "#b8e186"
            ],
            [
             0.8,
             "#7fbc41"
            ],
            [
             0.9,
             "#4d9221"
            ],
            [
             1,
             "#276419"
            ]
           ],
           "sequential": [
            [
             0,
             "#0d0887"
            ],
            [
             0.1111111111111111,
             "#46039f"
            ],
            [
             0.2222222222222222,
             "#7201a8"
            ],
            [
             0.3333333333333333,
             "#9c179e"
            ],
            [
             0.4444444444444444,
             "#bd3786"
            ],
            [
             0.5555555555555556,
             "#d8576b"
            ],
            [
             0.6666666666666666,
             "#ed7953"
            ],
            [
             0.7777777777777778,
             "#fb9f3a"
            ],
            [
             0.8888888888888888,
             "#fdca26"
            ],
            [
             1,
             "#f0f921"
            ]
           ],
           "sequentialminus": [
            [
             0,
             "#0d0887"
            ],
            [
             0.1111111111111111,
             "#46039f"
            ],
            [
             0.2222222222222222,
             "#7201a8"
            ],
            [
             0.3333333333333333,
             "#9c179e"
            ],
            [
             0.4444444444444444,
             "#bd3786"
            ],
            [
             0.5555555555555556,
             "#d8576b"
            ],
            [
             0.6666666666666666,
             "#ed7953"
            ],
            [
             0.7777777777777778,
             "#fb9f3a"
            ],
            [
             0.8888888888888888,
             "#fdca26"
            ],
            [
             1,
             "#f0f921"
            ]
           ]
          },
          "colorway": [
           "#636efa",
           "#EF553B",
           "#00cc96",
           "#ab63fa",
           "#FFA15A",
           "#19d3f3",
           "#FF6692",
           "#B6E880",
           "#FF97FF",
           "#FECB52"
          ],
          "font": {
           "color": "#2a3f5f"
          },
          "geo": {
           "bgcolor": "white",
           "lakecolor": "white",
           "landcolor": "#E5ECF6",
           "showlakes": true,
           "showland": true,
           "subunitcolor": "white"
          },
          "hoverlabel": {
           "align": "left"
          },
          "hovermode": "closest",
          "mapbox": {
           "style": "light"
          },
          "paper_bgcolor": "white",
          "plot_bgcolor": "#E5ECF6",
          "polar": {
           "angularaxis": {
            "gridcolor": "white",
            "linecolor": "white",
            "ticks": ""
           },
           "bgcolor": "#E5ECF6",
           "radialaxis": {
            "gridcolor": "white",
            "linecolor": "white",
            "ticks": ""
           }
          },
          "scene": {
           "xaxis": {
            "backgroundcolor": "#E5ECF6",
            "gridcolor": "white",
            "gridwidth": 2,
            "linecolor": "white",
            "showbackground": true,
            "ticks": "",
            "zerolinecolor": "white"
           },
           "yaxis": {
            "backgroundcolor": "#E5ECF6",
            "gridcolor": "white",
            "gridwidth": 2,
            "linecolor": "white",
            "showbackground": true,
            "ticks": "",
            "zerolinecolor": "white"
           },
           "zaxis": {
            "backgroundcolor": "#E5ECF6",
            "gridcolor": "white",
            "gridwidth": 2,
            "linecolor": "white",
            "showbackground": true,
            "ticks": "",
            "zerolinecolor": "white"
           }
          },
          "shapedefaults": {
           "line": {
            "color": "#2a3f5f"
           }
          },
          "ternary": {
           "aaxis": {
            "gridcolor": "white",
            "linecolor": "white",
            "ticks": ""
           },
           "baxis": {
            "gridcolor": "white",
            "linecolor": "white",
            "ticks": ""
           },
           "bgcolor": "#E5ECF6",
           "caxis": {
            "gridcolor": "white",
            "linecolor": "white",
            "ticks": ""
           }
          },
          "title": {
           "x": 0.05
          },
          "xaxis": {
           "automargin": true,
           "gridcolor": "white",
           "linecolor": "white",
           "ticks": "",
           "title": {
            "standoff": 15
           },
           "zerolinecolor": "white",
           "zerolinewidth": 2
          },
          "yaxis": {
           "automargin": true,
           "gridcolor": "white",
           "linecolor": "white",
           "ticks": "",
           "title": {
            "standoff": 15
           },
           "zerolinecolor": "white",
           "zerolinewidth": 2
          }
         }
        },
        "xaxis": {
         "anchor": "y",
         "domain": [
          0,
          1
         ],
         "title": {
          "text": "variable"
         }
        },
        "yaxis": {
         "anchor": "x",
         "domain": [
          0,
          1
         ],
         "title": {
          "text": "value"
         }
        }
       }
      }
     },
     "metadata": {},
     "output_type": "display_data"
    }
   ],
   "source": [
    "final_data.groupby([\"time\", \"is_day\", \"lat\", \"lon\", \"depth\"]).mean().dropna().plot.box()"
   ]
  },
  {
   "cell_type": "markdown",
   "metadata": {},
   "source": [
    "## Export preprocessed data\n",
    "\n",
    "---\n"
   ]
  },
  {
   "cell_type": "code",
   "execution_count": 55,
   "metadata": {},
   "outputs": [],
   "source": [
    "try:\n",
    "    preprocessed_data.pint.quantify()\n",
    "except Exception as e:\n",
    "    print(e)\n",
    "    print(\"Some units cannot be quantified and are only here for information.\")"
   ]
  },
  {
   "cell_type": "code",
   "execution_count": null,
   "metadata": {},
   "outputs": [
    {
     "name": "stderr",
     "output_type": "stream",
     "text": [
      "/home/sroyer/mambaforge/envs/seapopym_data/lib/python3.13/site-packages/zarr/api/asynchronous.py:203: UserWarning:\n",
      "\n",
      "Consolidated metadata is currently not part in the Zarr format 3 specification. It may not be supported by other zarr implementations and may change in the future.\n",
      "\n"
     ]
    },
    {
     "data": {
      "text/plain": [
       "<xarray.backends.zarr.ZarrStore at 0x7f9ab2cd5ea0>"
      ]
     },
     "execution_count": 59,
     "metadata": {},
     "output_type": "execute_result"
    }
   ],
   "source": [
    "#preprocessed_data.to_zarr(\"../../2_processed/papa_zooplankton.zarr\")"
   ]
  }
 ],
 "metadata": {
  "kernelspec": {
   "display_name": "seapopym_data",
   "language": "python",
   "name": "python3"
  },
  "language_info": {
   "codemirror_mode": {
    "name": "ipython",
    "version": 3
   },
   "file_extension": ".py",
   "mimetype": "text/x-python",
   "name": "python",
   "nbconvert_exporter": "python",
   "pygments_lexer": "ipython3",
   "version": "3.13.2"
  }
 },
 "nbformat": 4,
 "nbformat_minor": 2
}
