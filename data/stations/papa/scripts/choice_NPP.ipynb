{
 "cells": [
  {
   "cell_type": "markdown",
   "id": "33ce3e87",
   "metadata": {},
   "source": [
    "# NPP Choice"
   ]
  },
  {
   "cell_type": "code",
   "execution_count": 2,
   "id": "754d1712",
   "metadata": {},
   "outputs": [],
   "source": [
    "# imports\n",
    "import xarray as xr\n",
    "import plotly.express as px\n",
    "import plotly.graph_objects as go\n",
    "from plotly.subplots import make_subplots\n",
    "import pandas as pd\n",
    "import numpy as np "
   ]
  },
  {
   "cell_type": "markdown",
   "id": "9cba5c0d",
   "metadata": {},
   "source": [
    "## HYCOM 0.030 kg m-3"
   ]
  },
  {
   "cell_type": "markdown",
   "id": "c04f9c91",
   "metadata": {},
   "source": [
    "Explanation model calculations (VGPM, CbPM, CAFE) http://orca.science.oregonstate.edu/vgpm.model.php"
   ]
  },
  {
   "cell_type": "markdown",
   "id": "bc423407",
   "metadata": {},
   "source": [
    "### WESTBERRY - CbPM\n"
   ]
  },
  {
   "cell_type": "code",
   "execution_count": 3,
   "id": "08358127",
   "metadata": {},
   "outputs": [],
   "source": [
    "path_west='/data/rd_exchange/sroyer/SEAPOPYM/NPP/1998_2022_NPP_WESTBERRY_CBPM_25KM_8D.nc'\n",
    "ds_west = xr.open_dataset(path_west,engine='netcdf4')"
   ]
  },
  {
   "cell_type": "code",
   "execution_count": 4,
   "id": "eb253159",
   "metadata": {},
   "outputs": [
    {
     "data": {
      "text/html": [
       "<div><svg style=\"position: absolute; width: 0; height: 0; overflow: hidden\">\n",
       "<defs>\n",
       "<symbol id=\"icon-database\" viewBox=\"0 0 32 32\">\n",
       "<path d=\"M16 0c-8.837 0-16 2.239-16 5v4c0 2.761 7.163 5 16 5s16-2.239 16-5v-4c0-2.761-7.163-5-16-5z\"></path>\n",
       "<path d=\"M16 17c-8.837 0-16-2.239-16-5v6c0 2.761 7.163 5 16 5s16-2.239 16-5v-6c0 2.761-7.163 5-16 5z\"></path>\n",
       "<path d=\"M16 26c-8.837 0-16-2.239-16-5v6c0 2.761 7.163 5 16 5s16-2.239 16-5v-6c0 2.761-7.163 5-16 5z\"></path>\n",
       "</symbol>\n",
       "<symbol id=\"icon-file-text2\" viewBox=\"0 0 32 32\">\n",
       "<path d=\"M28.681 7.159c-0.694-0.947-1.662-2.053-2.724-3.116s-2.169-2.030-3.116-2.724c-1.612-1.182-2.393-1.319-2.841-1.319h-15.5c-1.378 0-2.5 1.121-2.5 2.5v27c0 1.378 1.122 2.5 2.5 2.5h23c1.378 0 2.5-1.122 2.5-2.5v-19.5c0-0.448-0.137-1.23-1.319-2.841zM24.543 5.457c0.959 0.959 1.712 1.825 2.268 2.543h-4.811v-4.811c0.718 0.556 1.584 1.309 2.543 2.268zM28 29.5c0 0.271-0.229 0.5-0.5 0.5h-23c-0.271 0-0.5-0.229-0.5-0.5v-27c0-0.271 0.229-0.5 0.5-0.5 0 0 15.499-0 15.5 0v7c0 0.552 0.448 1 1 1h7v19.5z\"></path>\n",
       "<path d=\"M23 26h-14c-0.552 0-1-0.448-1-1s0.448-1 1-1h14c0.552 0 1 0.448 1 1s-0.448 1-1 1z\"></path>\n",
       "<path d=\"M23 22h-14c-0.552 0-1-0.448-1-1s0.448-1 1-1h14c0.552 0 1 0.448 1 1s-0.448 1-1 1z\"></path>\n",
       "<path d=\"M23 18h-14c-0.552 0-1-0.448-1-1s0.448-1 1-1h14c0.552 0 1 0.448 1 1s-0.448 1-1 1z\"></path>\n",
       "</symbol>\n",
       "</defs>\n",
       "</svg>\n",
       "<style>/* CSS stylesheet for displaying xarray objects in jupyterlab.\n",
       " *\n",
       " */\n",
       "\n",
       ":root {\n",
       "  --xr-font-color0: var(--jp-content-font-color0, rgba(0, 0, 0, 1));\n",
       "  --xr-font-color2: var(--jp-content-font-color2, rgba(0, 0, 0, 0.54));\n",
       "  --xr-font-color3: var(--jp-content-font-color3, rgba(0, 0, 0, 0.38));\n",
       "  --xr-border-color: var(--jp-border-color2, #e0e0e0);\n",
       "  --xr-disabled-color: var(--jp-layout-color3, #bdbdbd);\n",
       "  --xr-background-color: var(--jp-layout-color0, white);\n",
       "  --xr-background-color-row-even: var(--jp-layout-color1, white);\n",
       "  --xr-background-color-row-odd: var(--jp-layout-color2, #eeeeee);\n",
       "}\n",
       "\n",
       "html[theme=\"dark\"],\n",
       "html[data-theme=\"dark\"],\n",
       "body[data-theme=\"dark\"],\n",
       "body.vscode-dark {\n",
       "  --xr-font-color0: rgba(255, 255, 255, 1);\n",
       "  --xr-font-color2: rgba(255, 255, 255, 0.54);\n",
       "  --xr-font-color3: rgba(255, 255, 255, 0.38);\n",
       "  --xr-border-color: #1f1f1f;\n",
       "  --xr-disabled-color: #515151;\n",
       "  --xr-background-color: #111111;\n",
       "  --xr-background-color-row-even: #111111;\n",
       "  --xr-background-color-row-odd: #313131;\n",
       "}\n",
       "\n",
       ".xr-wrap {\n",
       "  display: block !important;\n",
       "  min-width: 300px;\n",
       "  max-width: 700px;\n",
       "}\n",
       "\n",
       ".xr-text-repr-fallback {\n",
       "  /* fallback to plain text repr when CSS is not injected (untrusted notebook) */\n",
       "  display: none;\n",
       "}\n",
       "\n",
       ".xr-header {\n",
       "  padding-top: 6px;\n",
       "  padding-bottom: 6px;\n",
       "  margin-bottom: 4px;\n",
       "  border-bottom: solid 1px var(--xr-border-color);\n",
       "}\n",
       "\n",
       ".xr-header > div,\n",
       ".xr-header > ul {\n",
       "  display: inline;\n",
       "  margin-top: 0;\n",
       "  margin-bottom: 0;\n",
       "}\n",
       "\n",
       ".xr-obj-type,\n",
       ".xr-array-name {\n",
       "  margin-left: 2px;\n",
       "  margin-right: 10px;\n",
       "}\n",
       "\n",
       ".xr-obj-type {\n",
       "  color: var(--xr-font-color2);\n",
       "}\n",
       "\n",
       ".xr-sections {\n",
       "  padding-left: 0 !important;\n",
       "  display: grid;\n",
       "  grid-template-columns: 150px auto auto 1fr 0 20px 0 20px;\n",
       "}\n",
       "\n",
       ".xr-section-item {\n",
       "  display: contents;\n",
       "}\n",
       "\n",
       ".xr-section-item input {\n",
       "  display: inline-block;\n",
       "  opacity: 0;\n",
       "  height: 0;\n",
       "}\n",
       "\n",
       ".xr-section-item input + label {\n",
       "  color: var(--xr-disabled-color);\n",
       "}\n",
       "\n",
       ".xr-section-item input:enabled + label {\n",
       "  cursor: pointer;\n",
       "  color: var(--xr-font-color2);\n",
       "}\n",
       "\n",
       ".xr-section-item input:focus + label {\n",
       "  border: 2px solid var(--xr-font-color0);\n",
       "}\n",
       "\n",
       ".xr-section-item input:enabled + label:hover {\n",
       "  color: var(--xr-font-color0);\n",
       "}\n",
       "\n",
       ".xr-section-summary {\n",
       "  grid-column: 1;\n",
       "  color: var(--xr-font-color2);\n",
       "  font-weight: 500;\n",
       "}\n",
       "\n",
       ".xr-section-summary > span {\n",
       "  display: inline-block;\n",
       "  padding-left: 0.5em;\n",
       "}\n",
       "\n",
       ".xr-section-summary-in:disabled + label {\n",
       "  color: var(--xr-font-color2);\n",
       "}\n",
       "\n",
       ".xr-section-summary-in + label:before {\n",
       "  display: inline-block;\n",
       "  content: \"►\";\n",
       "  font-size: 11px;\n",
       "  width: 15px;\n",
       "  text-align: center;\n",
       "}\n",
       "\n",
       ".xr-section-summary-in:disabled + label:before {\n",
       "  color: var(--xr-disabled-color);\n",
       "}\n",
       "\n",
       ".xr-section-summary-in:checked + label:before {\n",
       "  content: \"▼\";\n",
       "}\n",
       "\n",
       ".xr-section-summary-in:checked + label > span {\n",
       "  display: none;\n",
       "}\n",
       "\n",
       ".xr-section-summary,\n",
       ".xr-section-inline-details {\n",
       "  padding-top: 4px;\n",
       "  padding-bottom: 4px;\n",
       "}\n",
       "\n",
       ".xr-section-inline-details {\n",
       "  grid-column: 2 / -1;\n",
       "}\n",
       "\n",
       ".xr-section-details {\n",
       "  display: none;\n",
       "  grid-column: 1 / -1;\n",
       "  margin-bottom: 5px;\n",
       "}\n",
       "\n",
       ".xr-section-summary-in:checked ~ .xr-section-details {\n",
       "  display: contents;\n",
       "}\n",
       "\n",
       ".xr-array-wrap {\n",
       "  grid-column: 1 / -1;\n",
       "  display: grid;\n",
       "  grid-template-columns: 20px auto;\n",
       "}\n",
       "\n",
       ".xr-array-wrap > label {\n",
       "  grid-column: 1;\n",
       "  vertical-align: top;\n",
       "}\n",
       "\n",
       ".xr-preview {\n",
       "  color: var(--xr-font-color3);\n",
       "}\n",
       "\n",
       ".xr-array-preview,\n",
       ".xr-array-data {\n",
       "  padding: 0 5px !important;\n",
       "  grid-column: 2;\n",
       "}\n",
       "\n",
       ".xr-array-data,\n",
       ".xr-array-in:checked ~ .xr-array-preview {\n",
       "  display: none;\n",
       "}\n",
       "\n",
       ".xr-array-in:checked ~ .xr-array-data,\n",
       ".xr-array-preview {\n",
       "  display: inline-block;\n",
       "}\n",
       "\n",
       ".xr-dim-list {\n",
       "  display: inline-block !important;\n",
       "  list-style: none;\n",
       "  padding: 0 !important;\n",
       "  margin: 0;\n",
       "}\n",
       "\n",
       ".xr-dim-list li {\n",
       "  display: inline-block;\n",
       "  padding: 0;\n",
       "  margin: 0;\n",
       "}\n",
       "\n",
       ".xr-dim-list:before {\n",
       "  content: \"(\";\n",
       "}\n",
       "\n",
       ".xr-dim-list:after {\n",
       "  content: \")\";\n",
       "}\n",
       "\n",
       ".xr-dim-list li:not(:last-child):after {\n",
       "  content: \",\";\n",
       "  padding-right: 5px;\n",
       "}\n",
       "\n",
       ".xr-has-index {\n",
       "  font-weight: bold;\n",
       "}\n",
       "\n",
       ".xr-var-list,\n",
       ".xr-var-item {\n",
       "  display: contents;\n",
       "}\n",
       "\n",
       ".xr-var-item > div,\n",
       ".xr-var-item label,\n",
       ".xr-var-item > .xr-var-name span {\n",
       "  background-color: var(--xr-background-color-row-even);\n",
       "  margin-bottom: 0;\n",
       "}\n",
       "\n",
       ".xr-var-item > .xr-var-name:hover span {\n",
       "  padding-right: 5px;\n",
       "}\n",
       "\n",
       ".xr-var-list > li:nth-child(odd) > div,\n",
       ".xr-var-list > li:nth-child(odd) > label,\n",
       ".xr-var-list > li:nth-child(odd) > .xr-var-name span {\n",
       "  background-color: var(--xr-background-color-row-odd);\n",
       "}\n",
       "\n",
       ".xr-var-name {\n",
       "  grid-column: 1;\n",
       "}\n",
       "\n",
       ".xr-var-dims {\n",
       "  grid-column: 2;\n",
       "}\n",
       "\n",
       ".xr-var-dtype {\n",
       "  grid-column: 3;\n",
       "  text-align: right;\n",
       "  color: var(--xr-font-color2);\n",
       "}\n",
       "\n",
       ".xr-var-preview {\n",
       "  grid-column: 4;\n",
       "}\n",
       "\n",
       ".xr-index-preview {\n",
       "  grid-column: 2 / 5;\n",
       "  color: var(--xr-font-color2);\n",
       "}\n",
       "\n",
       ".xr-var-name,\n",
       ".xr-var-dims,\n",
       ".xr-var-dtype,\n",
       ".xr-preview,\n",
       ".xr-attrs dt {\n",
       "  white-space: nowrap;\n",
       "  overflow: hidden;\n",
       "  text-overflow: ellipsis;\n",
       "  padding-right: 10px;\n",
       "}\n",
       "\n",
       ".xr-var-name:hover,\n",
       ".xr-var-dims:hover,\n",
       ".xr-var-dtype:hover,\n",
       ".xr-attrs dt:hover {\n",
       "  overflow: visible;\n",
       "  width: auto;\n",
       "  z-index: 1;\n",
       "}\n",
       "\n",
       ".xr-var-attrs,\n",
       ".xr-var-data,\n",
       ".xr-index-data {\n",
       "  display: none;\n",
       "  background-color: var(--xr-background-color) !important;\n",
       "  padding-bottom: 5px !important;\n",
       "}\n",
       "\n",
       ".xr-var-attrs-in:checked ~ .xr-var-attrs,\n",
       ".xr-var-data-in:checked ~ .xr-var-data,\n",
       ".xr-index-data-in:checked ~ .xr-index-data {\n",
       "  display: block;\n",
       "}\n",
       "\n",
       ".xr-var-data > table {\n",
       "  float: right;\n",
       "}\n",
       "\n",
       ".xr-var-name span,\n",
       ".xr-var-data,\n",
       ".xr-index-name div,\n",
       ".xr-index-data,\n",
       ".xr-attrs {\n",
       "  padding-left: 25px !important;\n",
       "}\n",
       "\n",
       ".xr-attrs,\n",
       ".xr-var-attrs,\n",
       ".xr-var-data,\n",
       ".xr-index-data {\n",
       "  grid-column: 1 / -1;\n",
       "}\n",
       "\n",
       "dl.xr-attrs {\n",
       "  padding: 0;\n",
       "  margin: 0;\n",
       "  display: grid;\n",
       "  grid-template-columns: 125px auto;\n",
       "}\n",
       "\n",
       ".xr-attrs dt,\n",
       ".xr-attrs dd {\n",
       "  padding: 0;\n",
       "  margin: 0;\n",
       "  float: left;\n",
       "  padding-right: 10px;\n",
       "  width: auto;\n",
       "}\n",
       "\n",
       ".xr-attrs dt {\n",
       "  font-weight: normal;\n",
       "  grid-column: 1;\n",
       "}\n",
       "\n",
       ".xr-attrs dt:hover span {\n",
       "  display: inline-block;\n",
       "  background: var(--xr-background-color);\n",
       "  padding-right: 10px;\n",
       "}\n",
       "\n",
       ".xr-attrs dd {\n",
       "  grid-column: 2;\n",
       "  white-space: pre-wrap;\n",
       "  word-break: break-all;\n",
       "}\n",
       "\n",
       ".xr-icon-database,\n",
       ".xr-icon-file-text2,\n",
       ".xr-no-icon {\n",
       "  display: inline-block;\n",
       "  vertical-align: middle;\n",
       "  width: 1em;\n",
       "  height: 1.5em !important;\n",
       "  stroke-width: 0;\n",
       "  stroke: currentColor;\n",
       "  fill: currentColor;\n",
       "}\n",
       "</style><pre class='xr-text-repr-fallback'>&lt;xarray.Dataset&gt; Size: 10GB\n",
       "Dimensions:  (time: 1150, lat: 720, lon: 1440)\n",
       "Coordinates:\n",
       "  * lon      (lon) float32 6kB -179.9 -179.6 -179.4 -179.1 ... 179.4 179.6 179.9\n",
       "  * lat      (lat) float32 3kB -89.88 -89.62 -89.38 -89.12 ... 89.38 89.62 89.88\n",
       "  * time     (time) datetime64[ns] 9kB 1998-01-01 1998-01-09 ... 2022-12-27\n",
       "Data variables:\n",
       "    CbPM     (time, lat, lon) float64 10GB ...</pre><div class='xr-wrap' style='display:none'><div class='xr-header'><div class='xr-obj-type'>xarray.Dataset</div></div><ul class='xr-sections'><li class='xr-section-item'><input id='section-0e31d8a3-21d4-427f-83f0-73206b8c2c3b' class='xr-section-summary-in' type='checkbox' disabled ><label for='section-0e31d8a3-21d4-427f-83f0-73206b8c2c3b' class='xr-section-summary'  title='Expand/collapse section'>Dimensions:</label><div class='xr-section-inline-details'><ul class='xr-dim-list'><li><span class='xr-has-index'>time</span>: 1150</li><li><span class='xr-has-index'>lat</span>: 720</li><li><span class='xr-has-index'>lon</span>: 1440</li></ul></div><div class='xr-section-details'></div></li><li class='xr-section-item'><input id='section-2cbf5037-ce45-4869-a281-1eb345288ff1' class='xr-section-summary-in' type='checkbox'  checked><label for='section-2cbf5037-ce45-4869-a281-1eb345288ff1' class='xr-section-summary' >Coordinates: <span>(3)</span></label><div class='xr-section-inline-details'></div><div class='xr-section-details'><ul class='xr-var-list'><li class='xr-var-item'><div class='xr-var-name'><span class='xr-has-index'>lon</span></div><div class='xr-var-dims'>(lon)</div><div class='xr-var-dtype'>float32</div><div class='xr-var-preview xr-preview'>-179.9 -179.6 ... 179.6 179.9</div><input id='attrs-7619a78e-2bde-485f-a07f-ed3906d91264' class='xr-var-attrs-in' type='checkbox' disabled><label for='attrs-7619a78e-2bde-485f-a07f-ed3906d91264' title='Show/Hide attributes'><svg class='icon xr-icon-file-text2'><use xlink:href='#icon-file-text2'></use></svg></label><input id='data-14116edc-8010-4fdb-81b3-564800df833e' class='xr-var-data-in' type='checkbox'><label for='data-14116edc-8010-4fdb-81b3-564800df833e' title='Show/Hide data repr'><svg class='icon xr-icon-database'><use xlink:href='#icon-database'></use></svg></label><div class='xr-var-attrs'><dl class='xr-attrs'></dl></div><div class='xr-var-data'><pre>array([-179.875, -179.625, -179.375, ...,  179.375,  179.625,  179.875],\n",
       "      dtype=float32)</pre></div></li><li class='xr-var-item'><div class='xr-var-name'><span class='xr-has-index'>lat</span></div><div class='xr-var-dims'>(lat)</div><div class='xr-var-dtype'>float32</div><div class='xr-var-preview xr-preview'>-89.88 -89.62 ... 89.62 89.88</div><input id='attrs-dbae2e90-9586-46c6-8455-a0ae6dc0da57' class='xr-var-attrs-in' type='checkbox' disabled><label for='attrs-dbae2e90-9586-46c6-8455-a0ae6dc0da57' title='Show/Hide attributes'><svg class='icon xr-icon-file-text2'><use xlink:href='#icon-file-text2'></use></svg></label><input id='data-1e850795-d3a9-44d5-8401-2351d18d0718' class='xr-var-data-in' type='checkbox'><label for='data-1e850795-d3a9-44d5-8401-2351d18d0718' title='Show/Hide data repr'><svg class='icon xr-icon-database'><use xlink:href='#icon-database'></use></svg></label><div class='xr-var-attrs'><dl class='xr-attrs'></dl></div><div class='xr-var-data'><pre>array([-89.875, -89.625, -89.375, ...,  89.375,  89.625,  89.875],\n",
       "      dtype=float32)</pre></div></li><li class='xr-var-item'><div class='xr-var-name'><span class='xr-has-index'>time</span></div><div class='xr-var-dims'>(time)</div><div class='xr-var-dtype'>datetime64[ns]</div><div class='xr-var-preview xr-preview'>1998-01-01 ... 2022-12-27</div><input id='attrs-afeafd56-38c9-4c7a-b920-e0dfe2b8b9c2' class='xr-var-attrs-in' type='checkbox' disabled><label for='attrs-afeafd56-38c9-4c7a-b920-e0dfe2b8b9c2' title='Show/Hide attributes'><svg class='icon xr-icon-file-text2'><use xlink:href='#icon-file-text2'></use></svg></label><input id='data-91cac990-f97a-48b6-a2cf-79efa99d3193' class='xr-var-data-in' type='checkbox'><label for='data-91cac990-f97a-48b6-a2cf-79efa99d3193' title='Show/Hide data repr'><svg class='icon xr-icon-database'><use xlink:href='#icon-database'></use></svg></label><div class='xr-var-attrs'><dl class='xr-attrs'></dl></div><div class='xr-var-data'><pre>array([&#x27;1998-01-01T00:00:00.000000000&#x27;, &#x27;1998-01-09T00:00:00.000000000&#x27;,\n",
       "       &#x27;1998-01-17T00:00:00.000000000&#x27;, ..., &#x27;2022-12-11T00:00:00.000000000&#x27;,\n",
       "       &#x27;2022-12-19T00:00:00.000000000&#x27;, &#x27;2022-12-27T00:00:00.000000000&#x27;],\n",
       "      dtype=&#x27;datetime64[ns]&#x27;)</pre></div></li></ul></div></li><li class='xr-section-item'><input id='section-239efd59-1096-4d1f-8d0e-2a249b661c70' class='xr-section-summary-in' type='checkbox'  checked><label for='section-239efd59-1096-4d1f-8d0e-2a249b661c70' class='xr-section-summary' >Data variables: <span>(1)</span></label><div class='xr-section-inline-details'></div><div class='xr-section-details'><ul class='xr-var-list'><li class='xr-var-item'><div class='xr-var-name'><span>CbPM</span></div><div class='xr-var-dims'>(time, lat, lon)</div><div class='xr-var-dtype'>float64</div><div class='xr-var-preview xr-preview'>...</div><input id='attrs-c740d8d7-31d9-45d3-b807-dcdc95599b29' class='xr-var-attrs-in' type='checkbox' disabled><label for='attrs-c740d8d7-31d9-45d3-b807-dcdc95599b29' title='Show/Hide attributes'><svg class='icon xr-icon-file-text2'><use xlink:href='#icon-file-text2'></use></svg></label><input id='data-249b8012-dc52-468d-a8b3-b423904c8252' class='xr-var-data-in' type='checkbox'><label for='data-249b8012-dc52-468d-a8b3-b423904c8252' title='Show/Hide data repr'><svg class='icon xr-icon-database'><use xlink:href='#icon-database'></use></svg></label><div class='xr-var-attrs'><dl class='xr-attrs'></dl></div><div class='xr-var-data'><pre>[1192320000 values with dtype=float64]</pre></div></li></ul></div></li><li class='xr-section-item'><input id='section-51e0d821-14fa-4ff7-bb0f-692f93bd3a80' class='xr-section-summary-in' type='checkbox'  ><label for='section-51e0d821-14fa-4ff7-bb0f-692f93bd3a80' class='xr-section-summary' >Indexes: <span>(3)</span></label><div class='xr-section-inline-details'></div><div class='xr-section-details'><ul class='xr-var-list'><li class='xr-var-item'><div class='xr-index-name'><div>lon</div></div><div class='xr-index-preview'>PandasIndex</div><input type='checkbox' disabled/><label></label><input id='index-88446c6c-e27e-49aa-9981-475d07b3a854' class='xr-index-data-in' type='checkbox'/><label for='index-88446c6c-e27e-49aa-9981-475d07b3a854' title='Show/Hide index repr'><svg class='icon xr-icon-database'><use xlink:href='#icon-database'></use></svg></label><div class='xr-index-data'><pre>PandasIndex(Index([-179.875, -179.625, -179.375, -179.125, -178.875, -178.625, -178.375,\n",
       "       -178.125, -177.875, -177.625,\n",
       "       ...\n",
       "        177.625,  177.875,  178.125,  178.375,  178.625,  178.875,  179.125,\n",
       "        179.375,  179.625,  179.875],\n",
       "      dtype=&#x27;float32&#x27;, name=&#x27;lon&#x27;, length=1440))</pre></div></li><li class='xr-var-item'><div class='xr-index-name'><div>lat</div></div><div class='xr-index-preview'>PandasIndex</div><input type='checkbox' disabled/><label></label><input id='index-e94b4b34-d745-4e5a-a013-e0a432251db7' class='xr-index-data-in' type='checkbox'/><label for='index-e94b4b34-d745-4e5a-a013-e0a432251db7' title='Show/Hide index repr'><svg class='icon xr-icon-database'><use xlink:href='#icon-database'></use></svg></label><div class='xr-index-data'><pre>PandasIndex(Index([-89.875, -89.625, -89.375, -89.125, -88.875, -88.625, -88.375, -88.125,\n",
       "       -87.875, -87.625,\n",
       "       ...\n",
       "        87.625,  87.875,  88.125,  88.375,  88.625,  88.875,  89.125,  89.375,\n",
       "        89.625,  89.875],\n",
       "      dtype=&#x27;float32&#x27;, name=&#x27;lat&#x27;, length=720))</pre></div></li><li class='xr-var-item'><div class='xr-index-name'><div>time</div></div><div class='xr-index-preview'>PandasIndex</div><input type='checkbox' disabled/><label></label><input id='index-8a64dea2-b78b-49e4-890d-e9484c993f57' class='xr-index-data-in' type='checkbox'/><label for='index-8a64dea2-b78b-49e4-890d-e9484c993f57' title='Show/Hide index repr'><svg class='icon xr-icon-database'><use xlink:href='#icon-database'></use></svg></label><div class='xr-index-data'><pre>PandasIndex(DatetimeIndex([&#x27;1998-01-01&#x27;, &#x27;1998-01-09&#x27;, &#x27;1998-01-17&#x27;, &#x27;1998-01-25&#x27;,\n",
       "               &#x27;1998-02-02&#x27;, &#x27;1998-02-10&#x27;, &#x27;1998-02-18&#x27;, &#x27;1998-02-26&#x27;,\n",
       "               &#x27;1998-03-06&#x27;, &#x27;1998-03-14&#x27;,\n",
       "               ...\n",
       "               &#x27;2022-10-16&#x27;, &#x27;2022-10-24&#x27;, &#x27;2022-11-01&#x27;, &#x27;2022-11-09&#x27;,\n",
       "               &#x27;2022-11-17&#x27;, &#x27;2022-11-25&#x27;, &#x27;2022-12-03&#x27;, &#x27;2022-12-11&#x27;,\n",
       "               &#x27;2022-12-19&#x27;, &#x27;2022-12-27&#x27;],\n",
       "              dtype=&#x27;datetime64[ns]&#x27;, name=&#x27;time&#x27;, length=1150, freq=None))</pre></div></li></ul></div></li><li class='xr-section-item'><input id='section-e9124848-c21f-4ab1-aa7c-2742763f4184' class='xr-section-summary-in' type='checkbox' disabled ><label for='section-e9124848-c21f-4ab1-aa7c-2742763f4184' class='xr-section-summary'  title='Expand/collapse section'>Attributes: <span>(0)</span></label><div class='xr-section-inline-details'></div><div class='xr-section-details'><dl class='xr-attrs'></dl></div></li></ul></div></div>"
      ],
      "text/plain": [
       "<xarray.Dataset> Size: 10GB\n",
       "Dimensions:  (time: 1150, lat: 720, lon: 1440)\n",
       "Coordinates:\n",
       "  * lon      (lon) float32 6kB -179.9 -179.6 -179.4 -179.1 ... 179.4 179.6 179.9\n",
       "  * lat      (lat) float32 3kB -89.88 -89.62 -89.38 -89.12 ... 89.38 89.62 89.88\n",
       "  * time     (time) datetime64[ns] 9kB 1998-01-01 1998-01-09 ... 2022-12-27\n",
       "Data variables:\n",
       "    CbPM     (time, lat, lon) float64 10GB ..."
      ]
     },
     "execution_count": 4,
     "metadata": {},
     "output_type": "execute_result"
    }
   ],
   "source": [
    "ds_west"
   ]
  },
  {
   "cell_type": "code",
   "execution_count": 5,
   "id": "198b546c",
   "metadata": {},
   "outputs": [],
   "source": [
    "# Select Area of Papa station + time 1998-2020 to be consistent with other forcings\n",
    "ds_west_papa = ds_west.sel(\n",
    "    lat=slice(48.5, 50.5),  \n",
    "    lon=slice(-130.5, -128.5),\n",
    "    time=slice(\"1998\", \"2020\"),\n",
    ")\n",
    "# Spatial mean\n",
    "ds_west_papa=ds_west_papa.mean(dim=['lon','lat'],skipna=True)"
   ]
  },
  {
   "cell_type": "markdown",
   "id": "7f66ab45",
   "metadata": {},
   "source": [
    "<div class=\"alert alert-danger\">\n",
    "    <strong>Warning :</strong> Data every 8 days; For leap years, from march one day difference \n",
    "</div>"
   ]
  },
  {
   "cell_type": "code",
   "execution_count": 6,
   "id": "8825db8a",
   "metadata": {},
   "outputs": [],
   "source": [
    "# Temporal Median\n",
    "n_periods = 46  # 8-day resolution over 365 days\n",
    "\n",
    "# create 8 days period index\n",
    "period_index = np.tile(np.arange(n_periods), int(len(ds_west_papa.time) / n_periods) + 1)[:len(ds_west_papa.time)]\n",
    "ds_west_papa = ds_west_papa.assign_coords(period_8d=(\"time\", period_index))\n",
    "\n",
    "# Compute 8_day climatology\n",
    "clim_8d_west = ds_west_papa.groupby(\"period_8d\").median(\"time\", skipna=True)\n",
    "\n",
    "# Rename each group 0 45 (group of 8 days) into day in the year (1-365)\n",
    "day_of_year = [1 + i * 8 for i in range(46)]\n",
    "\n",
    "# check dims\n",
    "clim_8d_west = clim_8d_west.assign_coords(day_of_year=(\"period_8d\", day_of_year))\n",
    "\n",
    "# Rename dims\n",
    "clim_8d_west = clim_8d_west.swap_dims({\"period_8d\": \"day_of_year\"}).drop_vars(\"period_8d\")"
   ]
  },
  {
   "cell_type": "code",
   "execution_count": 7,
   "id": "16690ec2",
   "metadata": {},
   "outputs": [
    {
     "data": {
      "application/vnd.plotly.v1+json": {
       "config": {
        "plotlyServerURL": "https://plot.ly"
       },
       "data": [
        {
         "line": {
          "width": 1
         },
         "mode": "lines",
         "name": "1998",
         "showlegend": true,
         "type": "scatter",
         "x": {
          "bdata": "AQAJABEAGQAhACkAMQA5AEEASQBRAFkAYQBpAHEAeQCBAIkAkQCZAKEAqQCxALkAwQDJANEA2QDhAOkA8QD5AAEBCQERARkBIQEpATEBOQFBAUkBUQFZAWEBaQE=",
          "dtype": "i2"
         },
         "y": {
          "bdata": "AAAAAAAA+P/xYHBac8ZkQOt6+Z2iZmlA8E/fHSi8aUCeyCOB411uQJjnp08IwnVA9ZEQDL0Nd0DtARuvQiqBQI6GPJDq+HlASSu1eGyuhUAIYT1R1duKQFti35PnZJBAOz03wkfzkUA8Kx9KKZuQQObFPJXvdpFAQi4YrMU3k0CwjU0lV7yQQPUzZqkrqZFAsJ7ZH6A2kkCGdf22TIaPQCX3gcM1fpFANgfCJZWskUC2wLDTpDWRQJrPbXmYbZJAzJwQVszCkkCx9D3ixRSVQKBKuEi4wpVAice9Z9smkkBiBFtDNZaTQPIKyBVuGpJAsfcEdY8TkUAduNEnsNOMQMSPd3YRAJBAuBav6PpZjkC1BSy9YpyHQCoyYnPtNodANl3yuzHRhkAi71co21F9QD6JFHOcU4FAnk/RVjlIeUCN+XzrQ5pwQKq+DYkP8WBAAAAAAAAA+P8AAAAAAAD4/wAAAAAAAPj/AAAAAAAA+P8=",
          "dtype": "f8"
         }
        },
        {
         "line": {
          "width": 1
         },
         "mode": "lines",
         "name": "1999",
         "showlegend": true,
         "type": "scatter",
         "x": {
          "bdata": "AQAJABEAGQAhACkAMQA5AEEASQBRAFkAYQBpAHEAeQCBAIkAkQCZAKEAqQCxALkAwQDJANEA2QDhAOkA8QD5AAEBCQERARkBIQEpATEBOQFBAUkBUQFZAWEBaQE=",
          "dtype": "i2"
         },
         "y": {
          "bdata": "AAAAAAAA+P/PgJ34ARtiQMTrIcOZnG9AwCLFrJfLcEAEIOLUlaVyQJeDAaAB+G5AJgENkUVfeUD+vSy8U/d7QGK3Z9/pKYBAZOGCzCwshEA/XUMuPSeBQOTB7D2HeYtA4pd9wJlWikBK1hj6dnqTQLyGBiFs2JJA8AiyfLTbkUC4dfhnNo2TQFDd8mXIpZNAf69q8NIHlUBKPJgsyGaSQI7dSHY1fJNAWTE++gtUk0CowcADpBuSQCGdZuNUqZVA2/SyTvpXl0APFophol2VQEJZhuWluJNATD0d+bN9kkBGdpSkiJyLQOk57gsMeJBAyBhM5j4+k0B8kZkzgtiTQCzcCxxC1pJAmhGxAud/jUAtvwWFThyLQLxJz7x2VolAcLl3vz+JhUCLX0AoLYaBQK6hRIWJbnhAJJafQGhYfEDpjgAuOE15QOd4rw1Dn2dAAAAAAAAA+P8AAAAAAAD4/wAAAAAAAPj/AAAAAAAA+P8=",
          "dtype": "f8"
         }
        },
        {
         "line": {
          "width": 1
         },
         "mode": "lines",
         "name": "2000",
         "showlegend": true,
         "type": "scatter",
         "x": {
          "bdata": "AQAJABEAGQAhACkAMQA5AEEASQBRAFkAYQBpAHEAeQCBAIkAkQCZAKEAqQCxALkAwQDJANEA2QDhAOkA8QD5AAEBCQERARkBIQEpATEBOQFBAUkBUQFZAWEBaQE=",
          "dtype": "i2"
         },
         "y": {
          "bdata": "AAAAAAAA+P99iWf5BbZtQP5G/FEDDW5AV4wVf5JnZ0CxjmZQ9M5vQIhZxI71YXtAcUvNBoxWckCTNEgyOUN+QGw/khX5Hn9A/iO/hEVGfUAxZ6qRrgaBQD0zMT4LwYdAfrD1fhN6k0AXQRijQHmTQEq3xK7bqoxA8AWwHrgfkkBApV2591qWQG+S8KsBh5JA3taOR3z5kUBQZ0eE1gGSQAB7SWXeNZFAvZIK2T1GkUD7QH3c7aCRQHml9WL8KpBA4HWm6XMNkEBIB9VLhd+MQMMSLtecZZFABqA1LaI8kkC6iCoOiUWSQOTtCo/A/JBAJaQ8mPDfkUAaM+WzzcSQQCZDazcy/ItA67fbBCj2j0BIF8E/AeOOQCDV7YSxgYpAR/gJ5UeJgkBSPVFARIiAQJSV8RqXLn9AAyxGiDpFfUDkXbIcbK1oQC6+cbH7iGRAAAAAAAAA+P8AAAAAAAD4/wAAAAAAAPj/AAAAAAAA+P8=",
          "dtype": "f8"
         }
        },
        {
         "line": {
          "width": 1
         },
         "mode": "lines",
         "name": "2001",
         "showlegend": true,
         "type": "scatter",
         "x": {
          "bdata": "AQAJABEAGQAhACkAMQA5AEEASQBRAFkAYQBpAHEAeQCBAIkAkQCZAKEAqQCxALkAwQDJANEA2QDhAOkA8QD5AAEBCQERARkBIQEpATEBOQFBAUkBUQFZAWEBaQE=",
          "dtype": "i2"
         },
         "y": {
          "bdata": "AAAAAAAA+P+dGiT+dlRhQHPyMYNPQnBA94FSLdftZUDgkYWLg7lzQAd4O37wjHVAabioEfwDfEA99ZMwall+QMgI/vKD8XtAfCYj/A4tgEBAY8OyZiSFQCAKNwjdP4tA6gfo0/q1kUCPj3BYiqeTQEkB8PqQFJNAVsCUM6/UkEBclgzx1qeTQDim2P1LVJRAttpnIayIlECq58zAMqCUQBtL15r1c5VATqREE2nXkkCEuIR9avGSQKSS8LfQR5JAlrxexb6YkUBZbaZGFVaSQOY7xPkz6ZFAyTh1uo03lED7MCS6WrSQQEYXPy2tlJBAwH3doXFQj0DGXy6BQKOSQMwphuzmCotAJEqMMxOziUBUapLN9LWPQJNCXGzVS4FAdHldOPtPgECE8THPu0V7QJ7SQ7qgtXlACpSXbiTbdUDbFCFFJeJcQAAAAAAAAPj/AAAAAAAA+P8AAAAAAAD4/wAAAAAAAPj/AAAAAAAA+P8=",
          "dtype": "f8"
         }
        },
        {
         "line": {
          "width": 1
         },
         "mode": "lines",
         "name": "2002",
         "showlegend": true,
         "type": "scatter",
         "x": {
          "bdata": "AQAJABEAGQAhACkAMQA5AEEASQBRAFkAYQBpAHEAeQCBAIkAkQCZAKEAqQCxALkAwQDJANEA2QDhAOkA8QD5AAEBCQERARkBIQEpATEBOQFBAUkBUQFZAWEBaQE=",
          "dtype": "i2"
         },
         "y": {
          "bdata": "AAAAAAAA+P9n+mW0gAlpQHDRPO3DX2dAP3R2FV1eb0DSD3US9HVnQJk9zb0w63JAikECX/WpdEA43uIxeWx9QLwajVSWXXhA24JodmdjdUDoPHgkpid7QDAkLPwvloRAU7trX9RBiUCSpntUXiCQQLDe2/MBhZJAsd5TrI9jlEDc1Tb8Ie2TQFtepPQWopJARJt7OvhMkkCceDFLl8+TQJKLEYbCpJRAto6TTNJmkkDEFmwoTBqSQLaq8yWz9pFAjUbxmhuIkUC+QrvpDD+VQOSkH0GhtJZAhlcuZ5zPlkA8Y3iWStGWQMpKv6f2p5RAEYLtW9YMk0DDaes3PAeQQPeMBBeQp5BApyiFOjjGkEBGmFh+PlOJQDd+2NzlPo5A7ZjT1LWchEA0gSpcMcGFQOrdOJbD/oBA7uOq07bUaUB3yr/gH6FsQGCMg0JbH3JAAAAAAAAA+P8AAAAAAAD4/wAAAAAAAPj/AAAAAAAA+P8=",
          "dtype": "f8"
         }
        },
        {
         "line": {
          "width": 1
         },
         "mode": "lines",
         "name": "2003",
         "showlegend": true,
         "type": "scatter",
         "x": {
          "bdata": "AQAJABEAGQAhACkAMQA5AEEASQBRAFkAYQBpAHEAeQCBAIkAkQCZAKEAqQCxALkAwQDJANEA2QDhAOkA8QD5AAEBCQERARkBIQEpATEBOQFBAUkBUQFZAWEBaQE=",
          "dtype": "i2"
         },
         "y": {
          "bdata": "AAAAAAAA+P8ie3rtRzNjQGee8bfuoGpA1t4yN28FakCFGB0n5RV0QGbyZmuByXFAs66+hyqzd0B6p30rOMB/QBUEu7MtuoJAIqNPXxkkgkALviTDL6p9QHffmC1csoVAgF+Fm2S3iUC+jMWh1kmRQIybPIH155lAzGATGPlNmUCQpsNmwSaXQG24VPZvqZRAMaeyYTwMlUAoLLbGyVGYQDfZE5QJfpFAS5scEjallEANBluhKGCQQIl78eeHuYtAiBKC8q8Uh0CIlqjqCu2HQM6dhaw/m4pAMIUw38D/i0DImdxpOgeJQOy3Dl9pG4lAuqbH1FsbiEDTfC/KVDKFQPZXQbGtQYdA5JY7OH3khkBLFVY3ElWGQH6PgbDkFIVAIBWaUe/ogEAFRwi40k2DQGwOwahzgYJAZOaFfVVnckA01NrHap1kQCjiaVPdUHhAAAAAAAAA+P8AAAAAAAD4/wAAAAAAAPj/AAAAAAAA+P8=",
          "dtype": "f8"
         }
        },
        {
         "line": {
          "width": 1
         },
         "mode": "lines",
         "name": "2004",
         "showlegend": true,
         "type": "scatter",
         "x": {
          "bdata": "AQAJABEAGQAhACkAMQA5AEEASQBRAFkAYQBpAHEAeQCBAIkAkQCZAKEAqQCxALkAwQDJANEA2QDhAOkA8QD5AAEBCQERARkBIQEpATEBOQFBAUkBUQFZAWEBaQE=",
          "dtype": "i2"
         },
         "y": {
          "bdata": "AAAAAAAA+P/DZlKcnrxuQH2O6cELAmpAVebLZ8VRa0AwiVVG2UxtQBArYVmQWHZA6SlVB3DwcUA682yBME98QAQAtqUAhHxAUnuknCzxgEAk1Ki34E2EQAii+Xx/FYxAC04tuF1YkkCmpjiwNNOSQCQfPoShMZVA5GhCr64zlUAmVTBpajOVQBjlPbsF6pVAFzmc8rQlk0DsCDABctqVQN7/CYCt7JJA6ulyRUB0k0Do81Hto8yPQABMDH4434ZAcs0P5LMEhkCGLzin/r2KQPsts06KmolAUp3Se77ih0CN36Yd9BmEQDxEc6kAkoBAu3d6/D5ggkAgo39jI2eFQK71MYoVzohA94HWhZ+8h0DGoA7S9LmKQD5+pkYM2YJAxjDYrWLehECTCW2i+VGBQOnzo1TMe3BAcCeqEt+9bEC4swOT1GB1QBE8M2UpmnxAAAAAAAAA+P8AAAAAAAD4/wAAAAAAAPj/AAAAAAAA+P8=",
          "dtype": "f8"
         }
        },
        {
         "line": {
          "width": 1
         },
         "mode": "lines",
         "name": "2005",
         "showlegend": true,
         "type": "scatter",
         "x": {
          "bdata": "AQAJABEAGQAhACkAMQA5AEEASQBRAFkAYQBpAHEAeQCBAIkAkQCZAKEAqQCxALkAwQDJANEA2QDhAOkA8QD5AAEBCQERARkBIQEpATEBOQFBAUkBUQFZAWEBaQE=",
          "dtype": "i2"
         },
         "y": {
          "bdata": "AAAAAAAA+P+lRvwGj0RgQOdVIx9olmJAxPnuCYIxZ0ASJ3I8w8Z0QPpRyoouGHlABUKoB5P9fkB0WxnaCZZzQCDU9/j934BAjdzHb23biEBCy3R9o6uHQL4d/OLOq4ZA8WU3By5tikDZRn6tGZOQQIp0ukUgnpBAkt0AXaKhk0B8exK8TLWSQPS2Hn0P5pJA9Epb+qTSk0A0r4QSK6CRQDwgDB7XUY9Ayj8vPrUrjkCwt/zv2/aHQAn+3CJER4ZAOmTDmq82iUAEWRft2LeKQICIBTy+iYZAArWTOV8kh0BIe6va0cmDQNDKp13rMIlAjLnhlTNliEDOiWRxZxOKQCWVkwNms41AfMO3T2ThikBI444btluJQGpLJf6jFoRAFGO8v/PtfEBooeg7579+QJBNw4c2FXpAg0dCh+OXcECGmTj3Li9uQK4TrjndR3lAAAAAAAAA+P8AAAAAAAD4/wAAAAAAAPj/AAAAAAAA+P8=",
          "dtype": "f8"
         }
        },
        {
         "line": {
          "width": 1
         },
         "mode": "lines",
         "name": "2006",
         "showlegend": true,
         "type": "scatter",
         "x": {
          "bdata": "AQAJABEAGQAhACkAMQA5AEEASQBRAFkAYQBpAHEAeQCBAIkAkQCZAKEAqQCxALkAwQDJANEA2QDhAOkA8QD5AAEBCQERARkBIQEpATEBOQFBAUkBUQFZAWEBaQE=",
          "dtype": "i2"
         },
         "y": {
          "bdata": "AAAAAAAA+P8Z5rlXUFNRQL0H/lX09GlA1G5sFi2QbECwVjxm/01uQA5uQ49aW3hA2lRX7mclc0DYFQ52tJJ3QHg/3NWG5IBAiBTuvXrwfUCVPw/HAPOCQMY+hdm2Z4hA5yOrlfj3jED203DAKr6PQIsMfzwu35JAJQSny+g1lUCIxEZOtuaXQGASvdxjfpRArPlKOkraj0CkFIRfpAyWQGiOnyoIX5FASaHOndNPlEBRYh1aqk6SQMk8c/tZ/YxA+ZQPI/IujkA6E1VU29KOQPjqnu4cAZBAbouimL7CkEDEgeXR6o+TQDUFx9yQ+JJArMa+c0u6kkD4rvI9WtuQQIERDxQnJJBAj+8wlX3qkEB8W5Ox7uuPQFOtjL5BvIdAp+lqgwQ8hkCQPYED4PmAQOhv/lR4xHhAKIJa8iZBdUC2Et/cg/9yQG3zHLMFdWRAAAAAAAAA+P8AAAAAAAD4/wAAAAAAAPj/AAAAAAAA+P8=",
          "dtype": "f8"
         }
        },
        {
         "line": {
          "width": 1
         },
         "mode": "lines",
         "name": "2007",
         "showlegend": true,
         "type": "scatter",
         "x": {
          "bdata": "AQAJABEAGQAhACkAMQA5AEEASQBRAFkAYQBpAHEAeQCBAIkAkQCZAKEAqQCxALkAwQDJANEA2QDhAOkA8QD5AAEBCQERARkBIQEpATEBOQFBAUkBUQFZAWEBaQE=",
          "dtype": "i2"
         },
         "y": {
          "bdata": "AAAAAAAA+P/Ag4eVerxxQCJg6aTu7lVA3vLwDA1LcECGHqePKLNoQGDU5tL9EHBAQmHPOGWGdED4CZlAAth0QAJAPFGqkHpA7F2rg8XbeEDFCxqmYtB+QD7EeALyD4RAdbYrTl2FiEBnmizzx0iPQNbGH3ZYppFAPz1iwggZkUDwm4FidNCWQFnPHRP8p5NAZENdO8bvlEAOK1Ij51eUQCxxnfkp05FAqKJRUWBilEAeOThJFNmTQEw21fuA0pVAjkvFZIJdkkBbQ7Ph7lCSQArhYLcoWpNAJoPNxSijkUBClELkK/OSQNINPsrISo9AruPoPapbi0B5daJclTWQQNg7EhL/4o9AClZXB7nIjkCWzYDpU1eHQGXbxaYsXYVAPnRDoFpUgUAOUD8tAyZ+QDI/M3H2g3BAPDbT5tN1akCo/G644LZiQFp+NpHhRXVAAAAAAAAA+P8AAAAAAAD4/wAAAAAAAPj/AAAAAAAA+P8=",
          "dtype": "f8"
         }
        },
        {
         "line": {
          "width": 1
         },
         "mode": "lines",
         "name": "2008",
         "showlegend": true,
         "type": "scatter",
         "x": {
          "bdata": "AQAJABEAGQAhACkAMQA5AEEASQBRAFkAYQBpAHEAeQCBAIkAkQCZAKEAqQCxALkAwQDJANEA2QDhAOkA8QD5AAEBCQERARkBIQEpATEBOQFBAUkBUQFZAWEBaQE=",
          "dtype": "i2"
         },
         "y": {
          "bdata": "AAAAAAAA+P8lnBDOEKtmQKx+6pa+M2pArJIsmOzTakCK3JmxuJ9oQNQGFzto+3FA8XBTTw3zdUBSpsfzkVN5QJaO7Th1kHpALrOi7TzHf0Cbi86XvTp/QIR3LpIRpYZALSZhm7wcgkDCWpxsy6yIQDM6xxSjbJBAaj8UP3bZkUBpT71L9v2KQJqdypx7OZFAz6wn6MIwkEBiEaflj4iPQMs/rOIJ/o9AipbSLIeXjkDuyUqkIhyQQNh0NXQigY5A4PqEkSkVkkCA79DYADeUQDSYKYq+dZJAhDu8AO9TlECnNbHllneVQGbcSp3jJJNAAJeDKBOZlED4NKTrwLqVQJ5EoLqbMZRAjbk7gixdj0CZw79d9YKLQCjOPjluq4dAliwngDoogEAAlRTvwuSBQEgajFMS+3pAmpWYo5XiaEBOgbRkoMpzQAAAAAAAAPj/AAAAAAAA+P8AAAAAAAD4/wAAAAAAAPj/AAAAAAAA+P8=",
          "dtype": "f8"
         }
        },
        {
         "line": {
          "width": 1
         },
         "mode": "lines",
         "name": "2009",
         "showlegend": true,
         "type": "scatter",
         "x": {
          "bdata": "AQAJABEAGQAhACkAMQA5AEEASQBRAFkAYQBpAHEAeQCBAIkAkQCZAKEAqQCxALkAwQDJANEA2QDhAOkA8QD5AAEBCQERARkBIQEpATEBOQFBAUkBUQFZAWEBaQE=",
          "dtype": "i2"
         },
         "y": {
          "bdata": "AAAAAAAA+P/BcbrZoVBgQEYwh/KEbHNAtHEOtco4bkBIMHsKStNsQCi9jTAoZXdA2U5LoNm8dUB0ayvg8Ht1QPGOuHDQXHdAOcfPdV8If0DWfJw0PoaCQBAWdnn/wH9A6Af6AYFAikCUbquCuPiEQKRljamsRpNA/MOeXiYvlEAKkAKDVL6TQA43ME2Gh5ZAJE/40birlkDwCalCraSVQOb6Wp9vF5JA0+vKohVolED2/SsVDLmWQNZM0/1ZYZJAMl+e/efRkEBGbq5P2LGRQP4n03p8MZFA2kZ/rrUrkEA15XBMGoCRQLYEGp3G145A85s3BzSCjUCUhjkU5H2MQCIYudnadYlA1m0eOqU6jEDa2J+ngjuNQL7xiPeYZYFAcZj0GKm2iEAZtrYt85J8QIKGfnmUh3tAijNKliSBdEACCYj/osxgQLJTHdsWt3pAAAAAAAAA+P8AAAAAAAD4/wAAAAAAAPj/AAAAAAAA+P8=",
          "dtype": "f8"
         }
        },
        {
         "line": {
          "width": 1
         },
         "mode": "lines",
         "name": "2010",
         "showlegend": true,
         "type": "scatter",
         "x": {
          "bdata": "AQAJABEAGQAhACkAMQA5AEEASQBRAFkAYQBpAHEAeQCBAIkAkQCZAKEAqQCxALkAwQDJANEA2QDhAOkA8QD5AAEBCQERARkBIQEpATEBOQFBAUkBUQFZAWEBaQE=",
          "dtype": "i2"
         },
         "y": {
          "bdata": "AAAAAAAA+P/ng8fHH3B6QLNjbBk3M2dAQFVgRBJkbEBiLCemB9luQGFa4zewNnhAKHa81kHLg0A+ItBiTWZ/QEm9q7Z/k31AiLBJrSa/gEBz9ki24LN6QAy+USp2uIRACQApdMnAjkCMvmRl3yeRQEMWD/pDBZFACC28rG5Uk0Deta8VhnOSQFyaqO53OJJAFTWlqddQkkBP15z/TCOWQOF/u+aUJpRAMumV12I7lECQRTqxG82UQJDvTYduKZZAqC+T0TJdlECC2eufCq+XQH6fry5xrZNAts5OipR6lkCoXJvyO6qYQGjL/HyKdZdAnOpfUygXkkBi0t8RINWSQNuxuCoNepJA2NtdAP2YjUARqcpTozqMQHYT8o7jOYJAFr+0ehTtfEBUwnOAPnB7QAiugD+uzIFAtmh3PT5udkCKaWUvo+NzQADip0raCXFAAAAAAAAA+P8AAAAAAAD4/wAAAAAAAPj/AAAAAAAA+P8=",
          "dtype": "f8"
         }
        },
        {
         "line": {
          "width": 1
         },
         "mode": "lines",
         "name": "2011",
         "showlegend": true,
         "type": "scatter",
         "x": {
          "bdata": "AQAJABEAGQAhACkAMQA5AEEASQBRAFkAYQBpAHEAeQCBAIkAkQCZAKEAqQCxALkAwQDJANEA2QDhAOkA8QD5AAEBCQERARkBIQEpATEBOQFBAUkBUQFZAWEBaQE=",
          "dtype": "i2"
         },
         "y": {
          "bdata": "AAAAAAAA+P8AHZyPtylIQE0JX9A74F1AjWWh8jtka0BmLV3KiKpvQL7sWZQ/RnFAInHgLeAlfUDqVIOPMlp8QG6xz5PdCIFAcOlqPuRogkCmxQUJc9uIQATngmlnkYhAQYgFPyaWiECCtb9YoReUQBoeqCd4/ZNAMUnWKLuwjkD7M8A0ZY6TQCTJClsnapZAcLS3VSeElEAQpeULrAOTQJ1NKjsY2JBALIco13zgkEA+2xnep3GMQO5/0slGsZBAjLZ2isY+jUCIjZ0vLqKNQNat9mJs+45ANRs0XHh+j0Dg2L8ZMcmQQMaSGTTks5BAUGwlL+KVkUBu78DEW4CRQOr9/vVSgotA0ET2n2WYhkCiZqKUaouJQBVbfI2cJYdA0oOiUETjg0DKrdUi9v2CQKKjCu26Nn1AKmkCDYkEckCNjfc1U5l1QLIvU/U8ASlAAAAAAAAA+P8AAAAAAAD4/wAAAAAAAPj/AAAAAAAA+P8=",
          "dtype": "f8"
         }
        },
        {
         "line": {
          "width": 1
         },
         "mode": "lines",
         "name": "2012",
         "showlegend": true,
         "type": "scatter",
         "x": {
          "bdata": "AQAJABEAGQAhACkAMQA5AEEASQBRAFkAYQBpAHEAeQCBAIkAkQCZAKEAqQCxALkAwQDJANEA2QDhAOkA8QD5AAEBCQERARkBIQEpATEBOQFBAUkBUQFZAWEBaQE=",
          "dtype": "i2"
         },
         "y": {
          "bdata": "AAAAAAAA+P+tLOWpttxpQAnNHkqX+2RA8IKhz6ndX0DN8XredGdvQGTmEcW+dnJAQK0pLHDTcUDzc96zrvFyQPsQPK5dGXlAx3e7/Ux/gEAGKxSAwQOCQKznT8i/fIRAyF9Fw0fAi0A8Y8yI69eIQHrUgMFIbYtAj+71CRbcjkDkW2M485uTQAg/2kxZG5FAXmFbfrU3kEDMyaZzsHaRQLpzrDTwh4xAT97NoChJj0CB1JxBIcOOQKIIchMijZFAbGZJ+XGulEBifRGhNSGRQBJYaAY3BZNAEG1/6QWdlEDuMN42lemUQNv+NoYDv5NAfhJ5xcPLlEACDxB3pJyUQCVi/RNdOpNAIopa8XiLjUCVT5qpgXmJQDDqXkKESoBAcA3xmiaEeUDkdjWk31V3QGqeHyAyfnRA59nkWK6KdkC1/ZC2a+R0QItwL6O8p3ZAAAAAAAAA+P8AAAAAAAD4/wAAAAAAAPj/AAAAAAAA+P8=",
          "dtype": "f8"
         }
        },
        {
         "line": {
          "width": 1
         },
         "mode": "lines",
         "name": "2013",
         "showlegend": true,
         "type": "scatter",
         "x": {
          "bdata": "AQAJABEAGQAhACkAMQA5AEEASQBRAFkAYQBpAHEAeQCBAIkAkQCZAKEAqQCxALkAwQDJANEA2QDhAOkA8QD5AAEBCQERARkBIQEpATEBOQFBAUkBUQFZAWEBaQE=",
          "dtype": "i2"
         },
         "y": {
          "bdata": "AAAAAAAA+P+FtI/MRBV3QM485RDKy2dAesrAMgSkb0BeVeTKea1yQNrtpAsNrndAyALvuLN9f0C0PcY4y3yAQElxGHTgCYJAWOMw+PAihUCGCjAVM0KNQGyWUCmBq5FArqx6X4LGkUByLFZ+8aeTQMvxval+3pdAThDzNLr8lUBr9WEpmRaSQPwR0ebdwZNAH1cusS9glkDKyWcBd/eWQM9Y1iw3KJRA34M+Zc6Yk0A8bjDPLnOUQHnkno5WLZNA3C5StXwmk0CcrInP75CTQBahKA81fJBAY2bon4jQkUDSmrxWaRWRQGj/V47RwoxAJJ7VA7IFkECyT+qHLjKQQNEaHk+Md41AHGFt/0VMjkDKjEZpgOmEQBEj8jjkS4ZAELiX5ZKkf0AUPOJTY2iDQLJ7zzfyUnBAdIbYIwJua0BYxIwuOetlQI0oq6jOJlVAAAAAAAAA+P8AAAAAAAD4/wAAAAAAAPj/AAAAAAAA+P8=",
          "dtype": "f8"
         }
        },
        {
         "line": {
          "width": 1
         },
         "mode": "lines",
         "name": "2014",
         "showlegend": true,
         "type": "scatter",
         "x": {
          "bdata": "AQAJABEAGQAhACkAMQA5AEEASQBRAFkAYQBpAHEAeQCBAIkAkQCZAKEAqQCxALkAwQDJANEA2QDhAOkA8QD5AAEBCQERARkBIQEpATEBOQFBAUkBUQFZAWEBaQE=",
          "dtype": "i2"
         },
         "y": {
          "bdata": "AAAAAAAA+P/7BpoI4wtuQFYzMFaNcXZAfJLM4ODhdUAPvwPGag52QEyMJL8fM3VABnji0OYpeEAGk2YqWwOCQF7MmSYWu4VAKrgLEk8Fi0At50biSB2OQHij/mT70JBAqqjI5iikkUAxWTA/NCeRQBr3lxN2gpJANtGdcBnOlED9ZDXyrbqUQApdBUZXWpdAZllPuUK3mkC1mSDBeTCaQE8l1PbIuZhALrGBxLNqlUAInjgQVzaVQExWuVbHDpZAzGc23fuplECKrwqi2IORQC6ElTAr5pBArA+qoqA7jkAujbRm+xiOQDM30lvzGI1AiKmE8ppvjkB0yrEMaYCOQLoyFzn/MolAgAC96mXog0CUV/Upq96CQM+dipy5W4ZAPdB1u/DrgUDHvD+NEUKFQLwgpFLGiXdAttRmg4zIgkBZhyc98EhxQKq1tesEN21AAAAAAAAA+P8AAAAAAAD4/wAAAAAAAPj/AAAAAAAA+P8=",
          "dtype": "f8"
         }
        },
        {
         "line": {
          "width": 1
         },
         "mode": "lines",
         "name": "2015",
         "showlegend": true,
         "type": "scatter",
         "x": {
          "bdata": "AQAJABEAGQAhACkAMQA5AEEASQBRAFkAYQBpAHEAeQCBAIkAkQCZAKEAqQCxALkAwQDJANEA2QDhAOkA8QD5AAEBCQERARkBIQEpATEBOQFBAUkBUQFZAWEBaQE=",
          "dtype": "i2"
         },
         "y": {
          "bdata": "AAAAAAAA+P/iuzySwEBYQFZFzV3j9WFAqLkNT6yvckA+kdTZcRF5QPRJZxnWbIBAahEgZq+VfkCFzzkDa+F6QDgFE1RWTIJAMb0/NJfBiECUJE0fsXuDQMaetZdb8I9AtkQ+Hp1vkkDrAT+iePmRQPLg30IfEpJACm9297rIlUDEabhtA/qSQMCdTwNIr4pAQjoIeWCDjEB9y5ChqJ+NQORyQLr4/ItAetLGHdt5iUDSp583hE6JQDYj5XBRC4ZARt1k+e5OhkDgonl//CaFQOgSLh5X+odAbg/xWssxhUCUiHSjH5uIQBhrehk/6YdANjsRZJjRhUAISPTAL1uFQLkRFLyv5YRAoKSnpCK+hUDy8SdeQ3eEQNVSjXA/I4JAeNY4cqbogkCkkdeR51J6QFKpVtJO/oBAmAa+CziJeEAunCVlc/R6QM3Kaxecmn5AAAAAAAAA+P8AAAAAAAD4/wAAAAAAAPj/AAAAAAAA+P8=",
          "dtype": "f8"
         }
        },
        {
         "line": {
          "width": 1
         },
         "mode": "lines",
         "name": "2016",
         "showlegend": true,
         "type": "scatter",
         "x": {
          "bdata": "AQAJABEAGQAhACkAMQA5AEEASQBRAFkAYQBpAHEAeQCBAIkAkQCZAKEAqQCxALkAwQDJANEA2QDhAOkA8QD5AAEBCQERARkBIQEpATEBOQFBAUkBUQFZAWEBaQE=",
          "dtype": "i2"
         },
         "y": {
          "bdata": "AAAAAAAA+P8rxCYjLP5zQGSoMZrO9nRAHlbuQBtwckBllzLTpUpxQPWGYtzI1nNAr21qwk51ekBfm144Zkx6QOlIhLzW1YRAcDeulrp3iEDQDLNAefSLQFT/UciLkoxATovVs1IMj0BEQ8XWVZOSQB31iP6lNJNAfg1X+ovzlkB+50mTneiUQGBIKZ7mI5VA/w8fDaZbkkBpd1nd06OQQHoF3hV8QpBAWGTrPLI3iUDMMOCW4i+IQERarjRHcIRAAOYeyfwuhkDw+cSrvi+KQG/3O3mLqo5AGmsYACi2j0ALOaFxU96RQNzXba+9QJJAHmHxGhv+kEBc2qZbI6+QQIXqsv8JWY9AqEhdqn3OjEDy0NsjctSMQPhml8RCCo1A5u48Bq07iEAVAKt4IkqDQGpZjJU70HVAaB2iV014dkB7JYF68TtyQHmq7smNjnBAAAAAAAAA+P8AAAAAAAD4/wAAAAAAAPj/AAAAAAAA+P8=",
          "dtype": "f8"
         }
        },
        {
         "line": {
          "width": 1
         },
         "mode": "lines",
         "name": "2017",
         "showlegend": true,
         "type": "scatter",
         "x": {
          "bdata": "AQAJABEAGQAhACkAMQA5AEEASQBRAFkAYQBpAHEAeQCBAIkAkQCZAKEAqQCxALkAwQDJANEA2QDhAOkA8QD5AAEBCQERARkBIQEpATEBOQFBAUkBUQFZAWEBaQE=",
          "dtype": "i2"
         },
         "y": {
          "bdata": "AAAAAAAA+P8yNrT+cEBVQItwuxL4aHNAscUjM5bCdEBU4AhVkhZ1QFddkRbc0nZAxiWDTRoshUDg8soPy2iAQAWXH7uF9HtA3mNm3LHxgkDERWgdzsKDQMrwfVU6x4lABEUBx52djECwMl6CNrOPQBtGSt0JOZBA7pYXfeNKjEAxlVOFnliRQALbNO6VgJRANu7dyV7dkUDMAISGf8CSQFPhUuRORI9ADBnG26LZjUBcNj/rAfWJQDWxLcmjwodATHPnzyHthUD6trfNpO+FQMaY6ufv641AwzmjjvrriEBMqtfpsQuLQIYyP/EALolAdqejnkBYiEDTIAp/ylCIQH88AP2Mj4lAGVhLAIPGhEC+s80TQfCOQJIXSfmTFYZAnoDbWIyOhEDuJ31SvaOIQB6NLrPR2XpA4qyfzDfBdEDIJSAFIMVvQFwTgblCOVxAAAAAAAAA+P8AAAAAAAD4/wAAAAAAAPj/AAAAAAAA+P8=",
          "dtype": "f8"
         }
        },
        {
         "line": {
          "width": 1
         },
         "mode": "lines",
         "name": "2018",
         "showlegend": true,
         "type": "scatter",
         "x": {
          "bdata": "AQAJABEAGQAhACkAMQA5AEEASQBRAFkAYQBpAHEAeQCBAIkAkQCZAKEAqQCxALkAwQDJANEA2QDhAOkA8QD5AAEBCQERARkBIQEpATEBOQFBAUkBUQFZAWEBaQE=",
          "dtype": "i2"
         },
         "y": {
          "bdata": "AAAAAAAA+P9BCKp2y0Z1QM1MS1kEtW5A8iHtVUeMc0A24eheIzt2QNR/OdC1knxAiHcDRTbCgUBwqZ8KJY6CQJcBAWYuBoFAgXgDN/zMhEBrrwCDchyLQIW7WSy9a41AVJ/3nlrVkUC25w72xVmPQAyLkZxpZJJAzx7W7kthj0CArzKckI6RQHoui8toX45ApjoiZCpIjUBM56Hc8hmQQAyr39xwi5BA57SiZUiRjUDxQ5xs112KQPBK8qA6wodA/F/xaQfajECbuXxD3CGMQIwr/Y6/j49APm6W0NnykUA4S0ZAgemTQCC2QMtU2pZA3OAhYo+hlkCTWCrQvVyVQMdAsOHXnpNAXsSEOXZYlUApDuDgfB6OQCAQCsQF4JBApAKPD+sTi0BmTX51TzOAQLyeI4iKEH9AwNUEBDWcd0AoMB7c2H16QMAvA1Po8l5AAAAAAAAA+P8AAAAAAAD4/wAAAAAAAPj/AAAAAAAA+P8=",
          "dtype": "f8"
         }
        },
        {
         "line": {
          "width": 1
         },
         "mode": "lines",
         "name": "2019",
         "showlegend": true,
         "type": "scatter",
         "x": {
          "bdata": "AQAJABEAGQAhACkAMQA5AEEASQBRAFkAYQBpAHEAeQCBAIkAkQCZAKEAqQCxALkAwQDJANEA2QDhAOkA8QD5AAEBCQERARkBIQEpATEBOQFBAUkBUQFZAWEBaQE=",
          "dtype": "i2"
         },
         "y": {
          "bdata": "AAAAAAAA+P9lDFZmOot0QGwkDPqfFnNAnmt/lrFGe0DTkZ2AaMp6QE2fCKZgyndA6yx0SY06gkD0TQzBPdiDQJnxRulDb4RA96kc+JprikAU8DvPhJyRQPhR+LTCaZFAuLw32Y99kECIrfRXRuCMQDSJdV8FYJNArDbCr+9CkkD6I/pdDOOQQNREhIjRV5BAsdWfXkVzj0CIuA5Wc86LQHu7l4p0pYtABYnt8f0nikCP2zkCjsKHQOKQdwfM5oVAUY1M94aLiED2zUKk8M6IQO43swu/4IlASj+VD7FciEB5BTaJxFCKQMN4N0ttwItAw80HnL7+h0CEeyvFmjOIQAwItE9gfo1AtbFJfscgkkAmLPiMMBKPQNS983FLEY5AVSULcuUOh0DuH+LzGqqKQA4qGKjT5YNATA6aN+h8dkBFgxqdOcF7QMBhFWHnsXRAAAAAAAAA+P8AAAAAAAD4/wAAAAAAAPj/AAAAAAAA+P8=",
          "dtype": "f8"
         }
        },
        {
         "line": {
          "width": 1
         },
         "mode": "lines",
         "name": "2020",
         "showlegend": true,
         "type": "scatter",
         "x": {
          "bdata": "AQAJABEAGQAhACkAMQA5AEEASQBRAFkAYQBpAHEAeQCBAIkAkQCZAKEAqQCxALkAwQDJANEA2QDhAOkA8QD5AAEBCQERARkBIQEpATEBOQFBAUkBUQFZAWEBaQE=",
          "dtype": "i2"
         },
         "y": {
          "bdata": "AAAAAAAA+P/eNyYBIzllQLCOEAch63JA9WVXMqdDckBdw2yQqQh2QNEZokQ8uHhACrtYjnj5eUA9MgTfU8N4QCD4sG1ux4RAGOUwhFCCikC5DWWCmRyNQO96gzIZTZFAlsYPxMxPk0BAlj2HKyaMQGqZ8YZ0N4pA6HhYBx/LiUDwmaX8W66JQG5T1rBT4IhAcad9gtXti0DsCd8orqSNQH5GcIlmrJBAlZb+sLamkEB7Ddn/x4aTQDlkprA/opNAWl9oG45tk0D1sY9kwZmQQM50uVhKxY5AuTZqTj0/jkBpXpXwxX6OQLkR7L53qo9Ajpb8kuJQkEDSFc6oN+eRQPzXfvUOeo5AT0qQvVhsj0DXVAWani+QQJQ/2gd+NYtATp3zr69uhUBOZNIRr6+DQJC2AUS5IIBAdsHJZ9xBekBVjC48g0JyQCqoHYUr4WdAAAAAAAAA+P8AAAAAAAD4/wAAAAAAAPj/AAAAAAAA+P8=",
          "dtype": "f8"
         }
        },
        {
         "line": {
          "color": "black",
          "width": 2
         },
         "mode": "lines",
         "name": "Median",
         "type": "scatter",
         "x": {
          "bdata": "AQAJABEAGQAhACkAMQA5AEEASQBRAFkAYQBpAHEAeQCBAIkAkQCZAKEAqQCxALkAwQDJANEA2QDhAOkA8QD5AAEBCQERARkBIQEpATEBOQFBAUkBUQFZAWEBaQE=",
          "dtype": "i2"
         },
         "y": {
          "bdata": "AAAAAAAA+P8lnBDOEKtmQKx+6pa+M2pAtHEOtco4bkBllzLTpUpxQBArYVmQWHZAJgENkUVfeUDqVIOPMlp8QGK3Z9/pKYBAcOlqPuRogkDERWgdzsKDQMrwfVU6x4lACQApdMnAjkA8Kx9KKZuQQBr3lxN2gpJAQi4YrMU3k0D7M8A0ZY6TQFDd8mXIpZNAFTWlqddQkkDMAISGf8CSQGiOnyoIX5FANgfCJZWskUC2wLDTpDWRQO5/0slGsZBAMl+e/efRkED1sY9kwZmQQBahKA81fJBAbouimL7CkEDSmrxWaRWRQOk57gsMeJBAjpb8kuJQkEB5daJclTWQQCWVkwNms41AIopa8XiLjUAtvwWFThyLQM+dipy5W4ZA0oOiUETjg0CTCW2i+VGBQEgajFMS+3pACpSXbiTbdUB7JYF68TtyQHmq7smNjnBAAAAAAAAA+P8AAAAAAAD4/wAAAAAAAPj/AAAAAAAA+P8=",
          "dtype": "f8"
         }
        }
       ],
       "layout": {
        "template": {
         "data": {
          "bar": [
           {
            "error_x": {
             "color": "#2a3f5f"
            },
            "error_y": {
             "color": "#2a3f5f"
            },
            "marker": {
             "line": {
              "color": "white",
              "width": 0.5
             },
             "pattern": {
              "fillmode": "overlay",
              "size": 10,
              "solidity": 0.2
             }
            },
            "type": "bar"
           }
          ],
          "barpolar": [
           {
            "marker": {
             "line": {
              "color": "white",
              "width": 0.5
             },
             "pattern": {
              "fillmode": "overlay",
              "size": 10,
              "solidity": 0.2
             }
            },
            "type": "barpolar"
           }
          ],
          "carpet": [
           {
            "aaxis": {
             "endlinecolor": "#2a3f5f",
             "gridcolor": "#C8D4E3",
             "linecolor": "#C8D4E3",
             "minorgridcolor": "#C8D4E3",
             "startlinecolor": "#2a3f5f"
            },
            "baxis": {
             "endlinecolor": "#2a3f5f",
             "gridcolor": "#C8D4E3",
             "linecolor": "#C8D4E3",
             "minorgridcolor": "#C8D4E3",
             "startlinecolor": "#2a3f5f"
            },
            "type": "carpet"
           }
          ],
          "choropleth": [
           {
            "colorbar": {
             "outlinewidth": 0,
             "ticks": ""
            },
            "type": "choropleth"
           }
          ],
          "contour": [
           {
            "colorbar": {
             "outlinewidth": 0,
             "ticks": ""
            },
            "colorscale": [
             [
              0,
              "#0d0887"
             ],
             [
              0.1111111111111111,
              "#46039f"
             ],
             [
              0.2222222222222222,
              "#7201a8"
             ],
             [
              0.3333333333333333,
              "#9c179e"
             ],
             [
              0.4444444444444444,
              "#bd3786"
             ],
             [
              0.5555555555555556,
              "#d8576b"
             ],
             [
              0.6666666666666666,
              "#ed7953"
             ],
             [
              0.7777777777777778,
              "#fb9f3a"
             ],
             [
              0.8888888888888888,
              "#fdca26"
             ],
             [
              1,
              "#f0f921"
             ]
            ],
            "type": "contour"
           }
          ],
          "contourcarpet": [
           {
            "colorbar": {
             "outlinewidth": 0,
             "ticks": ""
            },
            "type": "contourcarpet"
           }
          ],
          "heatmap": [
           {
            "colorbar": {
             "outlinewidth": 0,
             "ticks": ""
            },
            "colorscale": [
             [
              0,
              "#0d0887"
             ],
             [
              0.1111111111111111,
              "#46039f"
             ],
             [
              0.2222222222222222,
              "#7201a8"
             ],
             [
              0.3333333333333333,
              "#9c179e"
             ],
             [
              0.4444444444444444,
              "#bd3786"
             ],
             [
              0.5555555555555556,
              "#d8576b"
             ],
             [
              0.6666666666666666,
              "#ed7953"
             ],
             [
              0.7777777777777778,
              "#fb9f3a"
             ],
             [
              0.8888888888888888,
              "#fdca26"
             ],
             [
              1,
              "#f0f921"
             ]
            ],
            "type": "heatmap"
           }
          ],
          "histogram": [
           {
            "marker": {
             "pattern": {
              "fillmode": "overlay",
              "size": 10,
              "solidity": 0.2
             }
            },
            "type": "histogram"
           }
          ],
          "histogram2d": [
           {
            "colorbar": {
             "outlinewidth": 0,
             "ticks": ""
            },
            "colorscale": [
             [
              0,
              "#0d0887"
             ],
             [
              0.1111111111111111,
              "#46039f"
             ],
             [
              0.2222222222222222,
              "#7201a8"
             ],
             [
              0.3333333333333333,
              "#9c179e"
             ],
             [
              0.4444444444444444,
              "#bd3786"
             ],
             [
              0.5555555555555556,
              "#d8576b"
             ],
             [
              0.6666666666666666,
              "#ed7953"
             ],
             [
              0.7777777777777778,
              "#fb9f3a"
             ],
             [
              0.8888888888888888,
              "#fdca26"
             ],
             [
              1,
              "#f0f921"
             ]
            ],
            "type": "histogram2d"
           }
          ],
          "histogram2dcontour": [
           {
            "colorbar": {
             "outlinewidth": 0,
             "ticks": ""
            },
            "colorscale": [
             [
              0,
              "#0d0887"
             ],
             [
              0.1111111111111111,
              "#46039f"
             ],
             [
              0.2222222222222222,
              "#7201a8"
             ],
             [
              0.3333333333333333,
              "#9c179e"
             ],
             [
              0.4444444444444444,
              "#bd3786"
             ],
             [
              0.5555555555555556,
              "#d8576b"
             ],
             [
              0.6666666666666666,
              "#ed7953"
             ],
             [
              0.7777777777777778,
              "#fb9f3a"
             ],
             [
              0.8888888888888888,
              "#fdca26"
             ],
             [
              1,
              "#f0f921"
             ]
            ],
            "type": "histogram2dcontour"
           }
          ],
          "mesh3d": [
           {
            "colorbar": {
             "outlinewidth": 0,
             "ticks": ""
            },
            "type": "mesh3d"
           }
          ],
          "parcoords": [
           {
            "line": {
             "colorbar": {
              "outlinewidth": 0,
              "ticks": ""
             }
            },
            "type": "parcoords"
           }
          ],
          "pie": [
           {
            "automargin": true,
            "type": "pie"
           }
          ],
          "scatter": [
           {
            "fillpattern": {
             "fillmode": "overlay",
             "size": 10,
             "solidity": 0.2
            },
            "type": "scatter"
           }
          ],
          "scatter3d": [
           {
            "line": {
             "colorbar": {
              "outlinewidth": 0,
              "ticks": ""
             }
            },
            "marker": {
             "colorbar": {
              "outlinewidth": 0,
              "ticks": ""
             }
            },
            "type": "scatter3d"
           }
          ],
          "scattercarpet": [
           {
            "marker": {
             "colorbar": {
              "outlinewidth": 0,
              "ticks": ""
             }
            },
            "type": "scattercarpet"
           }
          ],
          "scattergeo": [
           {
            "marker": {
             "colorbar": {
              "outlinewidth": 0,
              "ticks": ""
             }
            },
            "type": "scattergeo"
           }
          ],
          "scattergl": [
           {
            "marker": {
             "colorbar": {
              "outlinewidth": 0,
              "ticks": ""
             }
            },
            "type": "scattergl"
           }
          ],
          "scattermap": [
           {
            "marker": {
             "colorbar": {
              "outlinewidth": 0,
              "ticks": ""
             }
            },
            "type": "scattermap"
           }
          ],
          "scattermapbox": [
           {
            "marker": {
             "colorbar": {
              "outlinewidth": 0,
              "ticks": ""
             }
            },
            "type": "scattermapbox"
           }
          ],
          "scatterpolar": [
           {
            "marker": {
             "colorbar": {
              "outlinewidth": 0,
              "ticks": ""
             }
            },
            "type": "scatterpolar"
           }
          ],
          "scatterpolargl": [
           {
            "marker": {
             "colorbar": {
              "outlinewidth": 0,
              "ticks": ""
             }
            },
            "type": "scatterpolargl"
           }
          ],
          "scatterternary": [
           {
            "marker": {
             "colorbar": {
              "outlinewidth": 0,
              "ticks": ""
             }
            },
            "type": "scatterternary"
           }
          ],
          "surface": [
           {
            "colorbar": {
             "outlinewidth": 0,
             "ticks": ""
            },
            "colorscale": [
             [
              0,
              "#0d0887"
             ],
             [
              0.1111111111111111,
              "#46039f"
             ],
             [
              0.2222222222222222,
              "#7201a8"
             ],
             [
              0.3333333333333333,
              "#9c179e"
             ],
             [
              0.4444444444444444,
              "#bd3786"
             ],
             [
              0.5555555555555556,
              "#d8576b"
             ],
             [
              0.6666666666666666,
              "#ed7953"
             ],
             [
              0.7777777777777778,
              "#fb9f3a"
             ],
             [
              0.8888888888888888,
              "#fdca26"
             ],
             [
              1,
              "#f0f921"
             ]
            ],
            "type": "surface"
           }
          ],
          "table": [
           {
            "cells": {
             "fill": {
              "color": "#EBF0F8"
             },
             "line": {
              "color": "white"
             }
            },
            "header": {
             "fill": {
              "color": "#C8D4E3"
             },
             "line": {
              "color": "white"
             }
            },
            "type": "table"
           }
          ]
         },
         "layout": {
          "annotationdefaults": {
           "arrowcolor": "#2a3f5f",
           "arrowhead": 0,
           "arrowwidth": 1
          },
          "autotypenumbers": "strict",
          "coloraxis": {
           "colorbar": {
            "outlinewidth": 0,
            "ticks": ""
           }
          },
          "colorscale": {
           "diverging": [
            [
             0,
             "#8e0152"
            ],
            [
             0.1,
             "#c51b7d"
            ],
            [
             0.2,
             "#de77ae"
            ],
            [
             0.3,
             "#f1b6da"
            ],
            [
             0.4,
             "#fde0ef"
            ],
            [
             0.5,
             "#f7f7f7"
            ],
            [
             0.6,
             "#e6f5d0"
            ],
            [
             0.7,
             "#b8e186"
            ],
            [
             0.8,
             "#7fbc41"
            ],
            [
             0.9,
             "#4d9221"
            ],
            [
             1,
             "#276419"
            ]
           ],
           "sequential": [
            [
             0,
             "#0d0887"
            ],
            [
             0.1111111111111111,
             "#46039f"
            ],
            [
             0.2222222222222222,
             "#7201a8"
            ],
            [
             0.3333333333333333,
             "#9c179e"
            ],
            [
             0.4444444444444444,
             "#bd3786"
            ],
            [
             0.5555555555555556,
             "#d8576b"
            ],
            [
             0.6666666666666666,
             "#ed7953"
            ],
            [
             0.7777777777777778,
             "#fb9f3a"
            ],
            [
             0.8888888888888888,
             "#fdca26"
            ],
            [
             1,
             "#f0f921"
            ]
           ],
           "sequentialminus": [
            [
             0,
             "#0d0887"
            ],
            [
             0.1111111111111111,
             "#46039f"
            ],
            [
             0.2222222222222222,
             "#7201a8"
            ],
            [
             0.3333333333333333,
             "#9c179e"
            ],
            [
             0.4444444444444444,
             "#bd3786"
            ],
            [
             0.5555555555555556,
             "#d8576b"
            ],
            [
             0.6666666666666666,
             "#ed7953"
            ],
            [
             0.7777777777777778,
             "#fb9f3a"
            ],
            [
             0.8888888888888888,
             "#fdca26"
            ],
            [
             1,
             "#f0f921"
            ]
           ]
          },
          "colorway": [
           "#636efa",
           "#EF553B",
           "#00cc96",
           "#ab63fa",
           "#FFA15A",
           "#19d3f3",
           "#FF6692",
           "#B6E880",
           "#FF97FF",
           "#FECB52"
          ],
          "font": {
           "color": "#2a3f5f"
          },
          "geo": {
           "bgcolor": "white",
           "lakecolor": "white",
           "landcolor": "white",
           "showlakes": true,
           "showland": true,
           "subunitcolor": "#C8D4E3"
          },
          "hoverlabel": {
           "align": "left"
          },
          "hovermode": "closest",
          "mapbox": {
           "style": "light"
          },
          "paper_bgcolor": "white",
          "plot_bgcolor": "white",
          "polar": {
           "angularaxis": {
            "gridcolor": "#EBF0F8",
            "linecolor": "#EBF0F8",
            "ticks": ""
           },
           "bgcolor": "white",
           "radialaxis": {
            "gridcolor": "#EBF0F8",
            "linecolor": "#EBF0F8",
            "ticks": ""
           }
          },
          "scene": {
           "xaxis": {
            "backgroundcolor": "white",
            "gridcolor": "#DFE8F3",
            "gridwidth": 2,
            "linecolor": "#EBF0F8",
            "showbackground": true,
            "ticks": "",
            "zerolinecolor": "#EBF0F8"
           },
           "yaxis": {
            "backgroundcolor": "white",
            "gridcolor": "#DFE8F3",
            "gridwidth": 2,
            "linecolor": "#EBF0F8",
            "showbackground": true,
            "ticks": "",
            "zerolinecolor": "#EBF0F8"
           },
           "zaxis": {
            "backgroundcolor": "white",
            "gridcolor": "#DFE8F3",
            "gridwidth": 2,
            "linecolor": "#EBF0F8",
            "showbackground": true,
            "ticks": "",
            "zerolinecolor": "#EBF0F8"
           }
          },
          "shapedefaults": {
           "line": {
            "color": "#2a3f5f"
           }
          },
          "ternary": {
           "aaxis": {
            "gridcolor": "#DFE8F3",
            "linecolor": "#A2B1C6",
            "ticks": ""
           },
           "baxis": {
            "gridcolor": "#DFE8F3",
            "linecolor": "#A2B1C6",
            "ticks": ""
           },
           "bgcolor": "white",
           "caxis": {
            "gridcolor": "#DFE8F3",
            "linecolor": "#A2B1C6",
            "ticks": ""
           }
          },
          "title": {
           "x": 0.05
          },
          "xaxis": {
           "automargin": true,
           "gridcolor": "#EBF0F8",
           "linecolor": "#EBF0F8",
           "ticks": "",
           "title": {
            "standoff": 15
           },
           "zerolinecolor": "#EBF0F8",
           "zerolinewidth": 2
          },
          "yaxis": {
           "automargin": true,
           "gridcolor": "#EBF0F8",
           "linecolor": "#EBF0F8",
           "ticks": "",
           "title": {
            "standoff": 15
           },
           "zerolinecolor": "#EBF0F8",
           "zerolinewidth": 2
          }
         }
        },
        "title": {
         "text": "8-day CbPM WESTBERRY Primary Productivity Time Series (1998-2020) at PAPA"
        },
        "xaxis": {
         "title": {
          "text": "Day of year"
         }
        },
        "yaxis": {
         "title": {
          "text": "Primary productivity [mg C m-2 day-1]"
         }
        }
       }
      }
     },
     "metadata": {},
     "output_type": "display_data"
    }
   ],
   "source": [
    "# plot \n",
    "# Group by year\n",
    "years = pd.DatetimeIndex(ds_west_papa.time.values).year.unique()\n",
    "\n",
    "fig = go.Figure()\n",
    "\n",
    "# Plot one line per year \n",
    "for year in years:\n",
    "    yearly_data = ds_west_papa.sel(time=str(year))[\"CbPM\"]\n",
    "    fig.add_trace(go.Scatter(\n",
    "        x=yearly_data.time.dt.dayofyear,\n",
    "        y=yearly_data.values,\n",
    "        mode='lines',\n",
    "        line=dict(width=1),\n",
    "        name=str(year),\n",
    "        showlegend=True \n",
    "    ))\n",
    "\n",
    "# Plot climatology in black\n",
    "fig.add_trace(go.Scatter(\n",
    "    x=clim_8d_west['day_of_year'],\n",
    "    y=clim_8d_west['CbPM'].values,\n",
    "    mode='lines',\n",
    "    name='Median',\n",
    "    line=dict(color='black', width=2)\n",
    "))\n",
    "\n",
    "fig.update_layout(\n",
    "    title='8-day CbPM WESTBERRY Primary Productivity Time Series (1998-2020) at PAPA',\n",
    "    xaxis_title='Day of year',\n",
    "    yaxis_title='Primary productivity [mg C m-2 day-1]',\n",
    "    template='plotly_white'\n",
    ")\n",
    "\n",
    "fig.show()\n",
    "\n"
   ]
  },
  {
   "cell_type": "markdown",
   "id": "d69d928b",
   "metadata": {},
   "source": [
    "To have daily npp like the others forcings and to smooth the curve, lets fit the median with a Fourier serie function."
   ]
  },
  {
   "cell_type": "code",
   "execution_count": 8,
   "id": "a3f0d7e2",
   "metadata": {},
   "outputs": [],
   "source": [
    "from scipy.optimize import curve_fit\n",
    "\n",
    "x_date = clim_8d_west['day_of_year'].values\n",
    "y_npp = clim_8d_west['CbPM'].values\n",
    "\n",
    "# Remove NaNs\n",
    "mask = ~np.isnan(y_npp)\n",
    "x_clean = x_date[mask]\n",
    "y_clean = y_npp[mask]\n",
    "\n",
    "# Fourier series function (order 4)\n",
    "def fourier_series(x, *params):\n",
    "    result = params[0]  # a0\n",
    "    N = (len(params) - 1) // 2\n",
    "    for n in range(1, N + 1):\n",
    "        a = params[2 * n - 1]\n",
    "        b = params[2 * n]\n",
    "        result += a * np.cos(2 * np.pi * n * x / 365) + b * np.sin(2 * np.pi * n * x / 365)\n",
    "    return result\n",
    "\n",
    "order = 4\n",
    "initial_guess = [np.mean(y_clean)] + [0] * (order * 2) # ao mean of clim, a1, b1, .. an, bn -> 0\n",
    "\n",
    "# Fit\n",
    "params, _ = curve_fit(fourier_series, x_clean, y_clean, p0=initial_guess)\n",
    "\n",
    "# Generate daily values\n",
    "days = np.arange(365)\n",
    "west_daily = fourier_series(days, *params)"
   ]
  },
  {
   "cell_type": "markdown",
   "id": "e2a46646",
   "metadata": {},
   "source": [
    "<div style=\"padding: 10px; border-radius: 5px; background-color: #cce5ff; color: #004085; border-left: 5px solid #007bff;\">\n",
    "    <strong>Note :</strong> To fit the double peak, a Fourier Serie of order 4 was used.\n",
    "</div>"
   ]
  },
  {
   "cell_type": "code",
   "execution_count": 9,
   "id": "c4837a26",
   "metadata": {},
   "outputs": [
    {
     "data": {
      "application/vnd.plotly.v1+json": {
       "config": {
        "plotlyServerURL": "https://plot.ly"
       },
       "data": [
        {
         "line": {
          "width": 1
         },
         "mode": "lines",
         "name": "1998",
         "showlegend": true,
         "type": "scatter",
         "x": {
          "bdata": "AQAJABEAGQAhACkAMQA5AEEASQBRAFkAYQBpAHEAeQCBAIkAkQCZAKEAqQCxALkAwQDJANEA2QDhAOkA8QD5AAEBCQERARkBIQEpATEBOQFBAUkBUQFZAWEBaQE=",
          "dtype": "i2"
         },
         "y": {
          "bdata": "AAAAAAAA+P/xYHBac8ZkQOt6+Z2iZmlA8E/fHSi8aUCeyCOB411uQJjnp08IwnVA9ZEQDL0Nd0DtARuvQiqBQI6GPJDq+HlASSu1eGyuhUAIYT1R1duKQFti35PnZJBAOz03wkfzkUA8Kx9KKZuQQObFPJXvdpFAQi4YrMU3k0CwjU0lV7yQQPUzZqkrqZFAsJ7ZH6A2kkCGdf22TIaPQCX3gcM1fpFANgfCJZWskUC2wLDTpDWRQJrPbXmYbZJAzJwQVszCkkCx9D3ixRSVQKBKuEi4wpVAice9Z9smkkBiBFtDNZaTQPIKyBVuGpJAsfcEdY8TkUAduNEnsNOMQMSPd3YRAJBAuBav6PpZjkC1BSy9YpyHQCoyYnPtNodANl3yuzHRhkAi71co21F9QD6JFHOcU4FAnk/RVjlIeUCN+XzrQ5pwQKq+DYkP8WBAAAAAAAAA+P8AAAAAAAD4/wAAAAAAAPj/AAAAAAAA+P8=",
          "dtype": "f8"
         }
        },
        {
         "line": {
          "width": 1
         },
         "mode": "lines",
         "name": "1999",
         "showlegend": true,
         "type": "scatter",
         "x": {
          "bdata": "AQAJABEAGQAhACkAMQA5AEEASQBRAFkAYQBpAHEAeQCBAIkAkQCZAKEAqQCxALkAwQDJANEA2QDhAOkA8QD5AAEBCQERARkBIQEpATEBOQFBAUkBUQFZAWEBaQE=",
          "dtype": "i2"
         },
         "y": {
          "bdata": "AAAAAAAA+P/PgJ34ARtiQMTrIcOZnG9AwCLFrJfLcEAEIOLUlaVyQJeDAaAB+G5AJgENkUVfeUD+vSy8U/d7QGK3Z9/pKYBAZOGCzCwshEA/XUMuPSeBQOTB7D2HeYtA4pd9wJlWikBK1hj6dnqTQLyGBiFs2JJA8AiyfLTbkUC4dfhnNo2TQFDd8mXIpZNAf69q8NIHlUBKPJgsyGaSQI7dSHY1fJNAWTE++gtUk0CowcADpBuSQCGdZuNUqZVA2/SyTvpXl0APFophol2VQEJZhuWluJNATD0d+bN9kkBGdpSkiJyLQOk57gsMeJBAyBhM5j4+k0B8kZkzgtiTQCzcCxxC1pJAmhGxAud/jUAtvwWFThyLQLxJz7x2VolAcLl3vz+JhUCLX0AoLYaBQK6hRIWJbnhAJJafQGhYfEDpjgAuOE15QOd4rw1Dn2dAAAAAAAAA+P8AAAAAAAD4/wAAAAAAAPj/AAAAAAAA+P8=",
          "dtype": "f8"
         }
        },
        {
         "line": {
          "width": 1
         },
         "mode": "lines",
         "name": "2000",
         "showlegend": true,
         "type": "scatter",
         "x": {
          "bdata": "AQAJABEAGQAhACkAMQA5AEEASQBRAFkAYQBpAHEAeQCBAIkAkQCZAKEAqQCxALkAwQDJANEA2QDhAOkA8QD5AAEBCQERARkBIQEpATEBOQFBAUkBUQFZAWEBaQE=",
          "dtype": "i2"
         },
         "y": {
          "bdata": "AAAAAAAA+P99iWf5BbZtQP5G/FEDDW5AV4wVf5JnZ0CxjmZQ9M5vQIhZxI71YXtAcUvNBoxWckCTNEgyOUN+QGw/khX5Hn9A/iO/hEVGfUAxZ6qRrgaBQD0zMT4LwYdAfrD1fhN6k0AXQRijQHmTQEq3xK7bqoxA8AWwHrgfkkBApV2591qWQG+S8KsBh5JA3taOR3z5kUBQZ0eE1gGSQAB7SWXeNZFAvZIK2T1GkUD7QH3c7aCRQHml9WL8KpBA4HWm6XMNkEBIB9VLhd+MQMMSLtecZZFABqA1LaI8kkC6iCoOiUWSQOTtCo/A/JBAJaQ8mPDfkUAaM+WzzcSQQCZDazcy/ItA67fbBCj2j0BIF8E/AeOOQCDV7YSxgYpAR/gJ5UeJgkBSPVFARIiAQJSV8RqXLn9AAyxGiDpFfUDkXbIcbK1oQC6+cbH7iGRAAAAAAAAA+P8AAAAAAAD4/wAAAAAAAPj/AAAAAAAA+P8=",
          "dtype": "f8"
         }
        },
        {
         "line": {
          "width": 1
         },
         "mode": "lines",
         "name": "2001",
         "showlegend": true,
         "type": "scatter",
         "x": {
          "bdata": "AQAJABEAGQAhACkAMQA5AEEASQBRAFkAYQBpAHEAeQCBAIkAkQCZAKEAqQCxALkAwQDJANEA2QDhAOkA8QD5AAEBCQERARkBIQEpATEBOQFBAUkBUQFZAWEBaQE=",
          "dtype": "i2"
         },
         "y": {
          "bdata": "AAAAAAAA+P+dGiT+dlRhQHPyMYNPQnBA94FSLdftZUDgkYWLg7lzQAd4O37wjHVAabioEfwDfEA99ZMwall+QMgI/vKD8XtAfCYj/A4tgEBAY8OyZiSFQCAKNwjdP4tA6gfo0/q1kUCPj3BYiqeTQEkB8PqQFJNAVsCUM6/UkEBclgzx1qeTQDim2P1LVJRAttpnIayIlECq58zAMqCUQBtL15r1c5VATqREE2nXkkCEuIR9avGSQKSS8LfQR5JAlrxexb6YkUBZbaZGFVaSQOY7xPkz6ZFAyTh1uo03lED7MCS6WrSQQEYXPy2tlJBAwH3doXFQj0DGXy6BQKOSQMwphuzmCotAJEqMMxOziUBUapLN9LWPQJNCXGzVS4FAdHldOPtPgECE8THPu0V7QJ7SQ7qgtXlACpSXbiTbdUDbFCFFJeJcQAAAAAAAAPj/AAAAAAAA+P8AAAAAAAD4/wAAAAAAAPj/AAAAAAAA+P8=",
          "dtype": "f8"
         }
        },
        {
         "line": {
          "width": 1
         },
         "mode": "lines",
         "name": "2002",
         "showlegend": true,
         "type": "scatter",
         "x": {
          "bdata": "AQAJABEAGQAhACkAMQA5AEEASQBRAFkAYQBpAHEAeQCBAIkAkQCZAKEAqQCxALkAwQDJANEA2QDhAOkA8QD5AAEBCQERARkBIQEpATEBOQFBAUkBUQFZAWEBaQE=",
          "dtype": "i2"
         },
         "y": {
          "bdata": "AAAAAAAA+P9n+mW0gAlpQHDRPO3DX2dAP3R2FV1eb0DSD3US9HVnQJk9zb0w63JAikECX/WpdEA43uIxeWx9QLwajVSWXXhA24JodmdjdUDoPHgkpid7QDAkLPwvloRAU7trX9RBiUCSpntUXiCQQLDe2/MBhZJAsd5TrI9jlEDc1Tb8Ie2TQFtepPQWopJARJt7OvhMkkCceDFLl8+TQJKLEYbCpJRAto6TTNJmkkDEFmwoTBqSQLaq8yWz9pFAjUbxmhuIkUC+QrvpDD+VQOSkH0GhtJZAhlcuZ5zPlkA8Y3iWStGWQMpKv6f2p5RAEYLtW9YMk0DDaes3PAeQQPeMBBeQp5BApyiFOjjGkEBGmFh+PlOJQDd+2NzlPo5A7ZjT1LWchEA0gSpcMcGFQOrdOJbD/oBA7uOq07bUaUB3yr/gH6FsQGCMg0JbH3JAAAAAAAAA+P8AAAAAAAD4/wAAAAAAAPj/AAAAAAAA+P8=",
          "dtype": "f8"
         }
        },
        {
         "line": {
          "width": 1
         },
         "mode": "lines",
         "name": "2003",
         "showlegend": true,
         "type": "scatter",
         "x": {
          "bdata": "AQAJABEAGQAhACkAMQA5AEEASQBRAFkAYQBpAHEAeQCBAIkAkQCZAKEAqQCxALkAwQDJANEA2QDhAOkA8QD5AAEBCQERARkBIQEpATEBOQFBAUkBUQFZAWEBaQE=",
          "dtype": "i2"
         },
         "y": {
          "bdata": "AAAAAAAA+P8ie3rtRzNjQGee8bfuoGpA1t4yN28FakCFGB0n5RV0QGbyZmuByXFAs66+hyqzd0B6p30rOMB/QBUEu7MtuoJAIqNPXxkkgkALviTDL6p9QHffmC1csoVAgF+Fm2S3iUC+jMWh1kmRQIybPIH155lAzGATGPlNmUCQpsNmwSaXQG24VPZvqZRAMaeyYTwMlUAoLLbGyVGYQDfZE5QJfpFAS5scEjallEANBluhKGCQQIl78eeHuYtAiBKC8q8Uh0CIlqjqCu2HQM6dhaw/m4pAMIUw38D/i0DImdxpOgeJQOy3Dl9pG4lAuqbH1FsbiEDTfC/KVDKFQPZXQbGtQYdA5JY7OH3khkBLFVY3ElWGQH6PgbDkFIVAIBWaUe/ogEAFRwi40k2DQGwOwahzgYJAZOaFfVVnckA01NrHap1kQCjiaVPdUHhAAAAAAAAA+P8AAAAAAAD4/wAAAAAAAPj/AAAAAAAA+P8=",
          "dtype": "f8"
         }
        },
        {
         "line": {
          "width": 1
         },
         "mode": "lines",
         "name": "2004",
         "showlegend": true,
         "type": "scatter",
         "x": {
          "bdata": "AQAJABEAGQAhACkAMQA5AEEASQBRAFkAYQBpAHEAeQCBAIkAkQCZAKEAqQCxALkAwQDJANEA2QDhAOkA8QD5AAEBCQERARkBIQEpATEBOQFBAUkBUQFZAWEBaQE=",
          "dtype": "i2"
         },
         "y": {
          "bdata": "AAAAAAAA+P/DZlKcnrxuQH2O6cELAmpAVebLZ8VRa0AwiVVG2UxtQBArYVmQWHZA6SlVB3DwcUA682yBME98QAQAtqUAhHxAUnuknCzxgEAk1Ki34E2EQAii+Xx/FYxAC04tuF1YkkCmpjiwNNOSQCQfPoShMZVA5GhCr64zlUAmVTBpajOVQBjlPbsF6pVAFzmc8rQlk0DsCDABctqVQN7/CYCt7JJA6ulyRUB0k0Do81Hto8yPQABMDH4434ZAcs0P5LMEhkCGLzin/r2KQPsts06KmolAUp3Se77ih0CN36Yd9BmEQDxEc6kAkoBAu3d6/D5ggkAgo39jI2eFQK71MYoVzohA94HWhZ+8h0DGoA7S9LmKQD5+pkYM2YJAxjDYrWLehECTCW2i+VGBQOnzo1TMe3BAcCeqEt+9bEC4swOT1GB1QBE8M2UpmnxAAAAAAAAA+P8AAAAAAAD4/wAAAAAAAPj/AAAAAAAA+P8=",
          "dtype": "f8"
         }
        },
        {
         "line": {
          "width": 1
         },
         "mode": "lines",
         "name": "2005",
         "showlegend": true,
         "type": "scatter",
         "x": {
          "bdata": "AQAJABEAGQAhACkAMQA5AEEASQBRAFkAYQBpAHEAeQCBAIkAkQCZAKEAqQCxALkAwQDJANEA2QDhAOkA8QD5AAEBCQERARkBIQEpATEBOQFBAUkBUQFZAWEBaQE=",
          "dtype": "i2"
         },
         "y": {
          "bdata": "AAAAAAAA+P+lRvwGj0RgQOdVIx9olmJAxPnuCYIxZ0ASJ3I8w8Z0QPpRyoouGHlABUKoB5P9fkB0WxnaCZZzQCDU9/j934BAjdzHb23biEBCy3R9o6uHQL4d/OLOq4ZA8WU3By5tikDZRn6tGZOQQIp0ukUgnpBAkt0AXaKhk0B8exK8TLWSQPS2Hn0P5pJA9Epb+qTSk0A0r4QSK6CRQDwgDB7XUY9Ayj8vPrUrjkCwt/zv2/aHQAn+3CJER4ZAOmTDmq82iUAEWRft2LeKQICIBTy+iYZAArWTOV8kh0BIe6va0cmDQNDKp13rMIlAjLnhlTNliEDOiWRxZxOKQCWVkwNms41AfMO3T2ThikBI444btluJQGpLJf6jFoRAFGO8v/PtfEBooeg7579+QJBNw4c2FXpAg0dCh+OXcECGmTj3Li9uQK4TrjndR3lAAAAAAAAA+P8AAAAAAAD4/wAAAAAAAPj/AAAAAAAA+P8=",
          "dtype": "f8"
         }
        },
        {
         "line": {
          "width": 1
         },
         "mode": "lines",
         "name": "2006",
         "showlegend": true,
         "type": "scatter",
         "x": {
          "bdata": "AQAJABEAGQAhACkAMQA5AEEASQBRAFkAYQBpAHEAeQCBAIkAkQCZAKEAqQCxALkAwQDJANEA2QDhAOkA8QD5AAEBCQERARkBIQEpATEBOQFBAUkBUQFZAWEBaQE=",
          "dtype": "i2"
         },
         "y": {
          "bdata": "AAAAAAAA+P8Z5rlXUFNRQL0H/lX09GlA1G5sFi2QbECwVjxm/01uQA5uQ49aW3hA2lRX7mclc0DYFQ52tJJ3QHg/3NWG5IBAiBTuvXrwfUCVPw/HAPOCQMY+hdm2Z4hA5yOrlfj3jED203DAKr6PQIsMfzwu35JAJQSny+g1lUCIxEZOtuaXQGASvdxjfpRArPlKOkraj0CkFIRfpAyWQGiOnyoIX5FASaHOndNPlEBRYh1aqk6SQMk8c/tZ/YxA+ZQPI/IujkA6E1VU29KOQPjqnu4cAZBAbouimL7CkEDEgeXR6o+TQDUFx9yQ+JJArMa+c0u6kkD4rvI9WtuQQIERDxQnJJBAj+8wlX3qkEB8W5Ox7uuPQFOtjL5BvIdAp+lqgwQ8hkCQPYED4PmAQOhv/lR4xHhAKIJa8iZBdUC2Et/cg/9yQG3zHLMFdWRAAAAAAAAA+P8AAAAAAAD4/wAAAAAAAPj/AAAAAAAA+P8=",
          "dtype": "f8"
         }
        },
        {
         "line": {
          "width": 1
         },
         "mode": "lines",
         "name": "2007",
         "showlegend": true,
         "type": "scatter",
         "x": {
          "bdata": "AQAJABEAGQAhACkAMQA5AEEASQBRAFkAYQBpAHEAeQCBAIkAkQCZAKEAqQCxALkAwQDJANEA2QDhAOkA8QD5AAEBCQERARkBIQEpATEBOQFBAUkBUQFZAWEBaQE=",
          "dtype": "i2"
         },
         "y": {
          "bdata": "AAAAAAAA+P/Ag4eVerxxQCJg6aTu7lVA3vLwDA1LcECGHqePKLNoQGDU5tL9EHBAQmHPOGWGdED4CZlAAth0QAJAPFGqkHpA7F2rg8XbeEDFCxqmYtB+QD7EeALyD4RAdbYrTl2FiEBnmizzx0iPQNbGH3ZYppFAPz1iwggZkUDwm4FidNCWQFnPHRP8p5NAZENdO8bvlEAOK1Ij51eUQCxxnfkp05FAqKJRUWBilEAeOThJFNmTQEw21fuA0pVAjkvFZIJdkkBbQ7Ph7lCSQArhYLcoWpNAJoPNxSijkUBClELkK/OSQNINPsrISo9AruPoPapbi0B5daJclTWQQNg7EhL/4o9AClZXB7nIjkCWzYDpU1eHQGXbxaYsXYVAPnRDoFpUgUAOUD8tAyZ+QDI/M3H2g3BAPDbT5tN1akCo/G644LZiQFp+NpHhRXVAAAAAAAAA+P8AAAAAAAD4/wAAAAAAAPj/AAAAAAAA+P8=",
          "dtype": "f8"
         }
        },
        {
         "line": {
          "width": 1
         },
         "mode": "lines",
         "name": "2008",
         "showlegend": true,
         "type": "scatter",
         "x": {
          "bdata": "AQAJABEAGQAhACkAMQA5AEEASQBRAFkAYQBpAHEAeQCBAIkAkQCZAKEAqQCxALkAwQDJANEA2QDhAOkA8QD5AAEBCQERARkBIQEpATEBOQFBAUkBUQFZAWEBaQE=",
          "dtype": "i2"
         },
         "y": {
          "bdata": "AAAAAAAA+P8lnBDOEKtmQKx+6pa+M2pArJIsmOzTakCK3JmxuJ9oQNQGFzto+3FA8XBTTw3zdUBSpsfzkVN5QJaO7Th1kHpALrOi7TzHf0Cbi86XvTp/QIR3LpIRpYZALSZhm7wcgkDCWpxsy6yIQDM6xxSjbJBAaj8UP3bZkUBpT71L9v2KQJqdypx7OZFAz6wn6MIwkEBiEaflj4iPQMs/rOIJ/o9AipbSLIeXjkDuyUqkIhyQQNh0NXQigY5A4PqEkSkVkkCA79DYADeUQDSYKYq+dZJAhDu8AO9TlECnNbHllneVQGbcSp3jJJNAAJeDKBOZlED4NKTrwLqVQJ5EoLqbMZRAjbk7gixdj0CZw79d9YKLQCjOPjluq4dAliwngDoogEAAlRTvwuSBQEgajFMS+3pAmpWYo5XiaEBOgbRkoMpzQAAAAAAAAPj/AAAAAAAA+P8AAAAAAAD4/wAAAAAAAPj/AAAAAAAA+P8=",
          "dtype": "f8"
         }
        },
        {
         "line": {
          "width": 1
         },
         "mode": "lines",
         "name": "2009",
         "showlegend": true,
         "type": "scatter",
         "x": {
          "bdata": "AQAJABEAGQAhACkAMQA5AEEASQBRAFkAYQBpAHEAeQCBAIkAkQCZAKEAqQCxALkAwQDJANEA2QDhAOkA8QD5AAEBCQERARkBIQEpATEBOQFBAUkBUQFZAWEBaQE=",
          "dtype": "i2"
         },
         "y": {
          "bdata": "AAAAAAAA+P/BcbrZoVBgQEYwh/KEbHNAtHEOtco4bkBIMHsKStNsQCi9jTAoZXdA2U5LoNm8dUB0ayvg8Ht1QPGOuHDQXHdAOcfPdV8If0DWfJw0PoaCQBAWdnn/wH9A6Af6AYFAikCUbquCuPiEQKRljamsRpNA/MOeXiYvlEAKkAKDVL6TQA43ME2Gh5ZAJE/40birlkDwCalCraSVQOb6Wp9vF5JA0+vKohVolED2/SsVDLmWQNZM0/1ZYZJAMl+e/efRkEBGbq5P2LGRQP4n03p8MZFA2kZ/rrUrkEA15XBMGoCRQLYEGp3G145A85s3BzSCjUCUhjkU5H2MQCIYudnadYlA1m0eOqU6jEDa2J+ngjuNQL7xiPeYZYFAcZj0GKm2iEAZtrYt85J8QIKGfnmUh3tAijNKliSBdEACCYj/osxgQLJTHdsWt3pAAAAAAAAA+P8AAAAAAAD4/wAAAAAAAPj/AAAAAAAA+P8=",
          "dtype": "f8"
         }
        },
        {
         "line": {
          "width": 1
         },
         "mode": "lines",
         "name": "2010",
         "showlegend": true,
         "type": "scatter",
         "x": {
          "bdata": "AQAJABEAGQAhACkAMQA5AEEASQBRAFkAYQBpAHEAeQCBAIkAkQCZAKEAqQCxALkAwQDJANEA2QDhAOkA8QD5AAEBCQERARkBIQEpATEBOQFBAUkBUQFZAWEBaQE=",
          "dtype": "i2"
         },
         "y": {
          "bdata": "AAAAAAAA+P/ng8fHH3B6QLNjbBk3M2dAQFVgRBJkbEBiLCemB9luQGFa4zewNnhAKHa81kHLg0A+ItBiTWZ/QEm9q7Z/k31AiLBJrSa/gEBz9ki24LN6QAy+USp2uIRACQApdMnAjkCMvmRl3yeRQEMWD/pDBZFACC28rG5Uk0Deta8VhnOSQFyaqO53OJJAFTWlqddQkkBP15z/TCOWQOF/u+aUJpRAMumV12I7lECQRTqxG82UQJDvTYduKZZAqC+T0TJdlECC2eufCq+XQH6fry5xrZNAts5OipR6lkCoXJvyO6qYQGjL/HyKdZdAnOpfUygXkkBi0t8RINWSQNuxuCoNepJA2NtdAP2YjUARqcpTozqMQHYT8o7jOYJAFr+0ehTtfEBUwnOAPnB7QAiugD+uzIFAtmh3PT5udkCKaWUvo+NzQADip0raCXFAAAAAAAAA+P8AAAAAAAD4/wAAAAAAAPj/AAAAAAAA+P8=",
          "dtype": "f8"
         }
        },
        {
         "line": {
          "width": 1
         },
         "mode": "lines",
         "name": "2011",
         "showlegend": true,
         "type": "scatter",
         "x": {
          "bdata": "AQAJABEAGQAhACkAMQA5AEEASQBRAFkAYQBpAHEAeQCBAIkAkQCZAKEAqQCxALkAwQDJANEA2QDhAOkA8QD5AAEBCQERARkBIQEpATEBOQFBAUkBUQFZAWEBaQE=",
          "dtype": "i2"
         },
         "y": {
          "bdata": "AAAAAAAA+P8AHZyPtylIQE0JX9A74F1AjWWh8jtka0BmLV3KiKpvQL7sWZQ/RnFAInHgLeAlfUDqVIOPMlp8QG6xz5PdCIFAcOlqPuRogkCmxQUJc9uIQATngmlnkYhAQYgFPyaWiECCtb9YoReUQBoeqCd4/ZNAMUnWKLuwjkD7M8A0ZY6TQCTJClsnapZAcLS3VSeElEAQpeULrAOTQJ1NKjsY2JBALIco13zgkEA+2xnep3GMQO5/0slGsZBAjLZ2isY+jUCIjZ0vLqKNQNat9mJs+45ANRs0XHh+j0Dg2L8ZMcmQQMaSGTTks5BAUGwlL+KVkUBu78DEW4CRQOr9/vVSgotA0ET2n2WYhkCiZqKUaouJQBVbfI2cJYdA0oOiUETjg0DKrdUi9v2CQKKjCu26Nn1AKmkCDYkEckCNjfc1U5l1QLIvU/U8ASlAAAAAAAAA+P8AAAAAAAD4/wAAAAAAAPj/AAAAAAAA+P8=",
          "dtype": "f8"
         }
        },
        {
         "line": {
          "width": 1
         },
         "mode": "lines",
         "name": "2012",
         "showlegend": true,
         "type": "scatter",
         "x": {
          "bdata": "AQAJABEAGQAhACkAMQA5AEEASQBRAFkAYQBpAHEAeQCBAIkAkQCZAKEAqQCxALkAwQDJANEA2QDhAOkA8QD5AAEBCQERARkBIQEpATEBOQFBAUkBUQFZAWEBaQE=",
          "dtype": "i2"
         },
         "y": {
          "bdata": "AAAAAAAA+P+tLOWpttxpQAnNHkqX+2RA8IKhz6ndX0DN8XredGdvQGTmEcW+dnJAQK0pLHDTcUDzc96zrvFyQPsQPK5dGXlAx3e7/Ux/gEAGKxSAwQOCQKznT8i/fIRAyF9Fw0fAi0A8Y8yI69eIQHrUgMFIbYtAj+71CRbcjkDkW2M485uTQAg/2kxZG5FAXmFbfrU3kEDMyaZzsHaRQLpzrDTwh4xAT97NoChJj0CB1JxBIcOOQKIIchMijZFAbGZJ+XGulEBifRGhNSGRQBJYaAY3BZNAEG1/6QWdlEDuMN42lemUQNv+NoYDv5NAfhJ5xcPLlEACDxB3pJyUQCVi/RNdOpNAIopa8XiLjUCVT5qpgXmJQDDqXkKESoBAcA3xmiaEeUDkdjWk31V3QGqeHyAyfnRA59nkWK6KdkC1/ZC2a+R0QItwL6O8p3ZAAAAAAAAA+P8AAAAAAAD4/wAAAAAAAPj/AAAAAAAA+P8=",
          "dtype": "f8"
         }
        },
        {
         "line": {
          "width": 1
         },
         "mode": "lines",
         "name": "2013",
         "showlegend": true,
         "type": "scatter",
         "x": {
          "bdata": "AQAJABEAGQAhACkAMQA5AEEASQBRAFkAYQBpAHEAeQCBAIkAkQCZAKEAqQCxALkAwQDJANEA2QDhAOkA8QD5AAEBCQERARkBIQEpATEBOQFBAUkBUQFZAWEBaQE=",
          "dtype": "i2"
         },
         "y": {
          "bdata": "AAAAAAAA+P+FtI/MRBV3QM485RDKy2dAesrAMgSkb0BeVeTKea1yQNrtpAsNrndAyALvuLN9f0C0PcY4y3yAQElxGHTgCYJAWOMw+PAihUCGCjAVM0KNQGyWUCmBq5FArqx6X4LGkUByLFZ+8aeTQMvxval+3pdAThDzNLr8lUBr9WEpmRaSQPwR0ebdwZNAH1cusS9glkDKyWcBd/eWQM9Y1iw3KJRA34M+Zc6Yk0A8bjDPLnOUQHnkno5WLZNA3C5StXwmk0CcrInP75CTQBahKA81fJBAY2bon4jQkUDSmrxWaRWRQGj/V47RwoxAJJ7VA7IFkECyT+qHLjKQQNEaHk+Md41AHGFt/0VMjkDKjEZpgOmEQBEj8jjkS4ZAELiX5ZKkf0AUPOJTY2iDQLJ7zzfyUnBAdIbYIwJua0BYxIwuOetlQI0oq6jOJlVAAAAAAAAA+P8AAAAAAAD4/wAAAAAAAPj/AAAAAAAA+P8=",
          "dtype": "f8"
         }
        },
        {
         "line": {
          "width": 1
         },
         "mode": "lines",
         "name": "2014",
         "showlegend": true,
         "type": "scatter",
         "x": {
          "bdata": "AQAJABEAGQAhACkAMQA5AEEASQBRAFkAYQBpAHEAeQCBAIkAkQCZAKEAqQCxALkAwQDJANEA2QDhAOkA8QD5AAEBCQERARkBIQEpATEBOQFBAUkBUQFZAWEBaQE=",
          "dtype": "i2"
         },
         "y": {
          "bdata": "AAAAAAAA+P/7BpoI4wtuQFYzMFaNcXZAfJLM4ODhdUAPvwPGag52QEyMJL8fM3VABnji0OYpeEAGk2YqWwOCQF7MmSYWu4VAKrgLEk8Fi0At50biSB2OQHij/mT70JBAqqjI5iikkUAxWTA/NCeRQBr3lxN2gpJANtGdcBnOlED9ZDXyrbqUQApdBUZXWpdAZllPuUK3mkC1mSDBeTCaQE8l1PbIuZhALrGBxLNqlUAInjgQVzaVQExWuVbHDpZAzGc23fuplECKrwqi2IORQC6ElTAr5pBArA+qoqA7jkAujbRm+xiOQDM30lvzGI1AiKmE8ppvjkB0yrEMaYCOQLoyFzn/MolAgAC96mXog0CUV/Upq96CQM+dipy5W4ZAPdB1u/DrgUDHvD+NEUKFQLwgpFLGiXdAttRmg4zIgkBZhyc98EhxQKq1tesEN21AAAAAAAAA+P8AAAAAAAD4/wAAAAAAAPj/AAAAAAAA+P8=",
          "dtype": "f8"
         }
        },
        {
         "line": {
          "width": 1
         },
         "mode": "lines",
         "name": "2015",
         "showlegend": true,
         "type": "scatter",
         "x": {
          "bdata": "AQAJABEAGQAhACkAMQA5AEEASQBRAFkAYQBpAHEAeQCBAIkAkQCZAKEAqQCxALkAwQDJANEA2QDhAOkA8QD5AAEBCQERARkBIQEpATEBOQFBAUkBUQFZAWEBaQE=",
          "dtype": "i2"
         },
         "y": {
          "bdata": "AAAAAAAA+P/iuzySwEBYQFZFzV3j9WFAqLkNT6yvckA+kdTZcRF5QPRJZxnWbIBAahEgZq+VfkCFzzkDa+F6QDgFE1RWTIJAMb0/NJfBiECUJE0fsXuDQMaetZdb8I9AtkQ+Hp1vkkDrAT+iePmRQPLg30IfEpJACm9297rIlUDEabhtA/qSQMCdTwNIr4pAQjoIeWCDjEB9y5ChqJ+NQORyQLr4/ItAetLGHdt5iUDSp583hE6JQDYj5XBRC4ZARt1k+e5OhkDgonl//CaFQOgSLh5X+odAbg/xWssxhUCUiHSjH5uIQBhrehk/6YdANjsRZJjRhUAISPTAL1uFQLkRFLyv5YRAoKSnpCK+hUDy8SdeQ3eEQNVSjXA/I4JAeNY4cqbogkCkkdeR51J6QFKpVtJO/oBAmAa+CziJeEAunCVlc/R6QM3Kaxecmn5AAAAAAAAA+P8AAAAAAAD4/wAAAAAAAPj/AAAAAAAA+P8=",
          "dtype": "f8"
         }
        },
        {
         "line": {
          "width": 1
         },
         "mode": "lines",
         "name": "2016",
         "showlegend": true,
         "type": "scatter",
         "x": {
          "bdata": "AQAJABEAGQAhACkAMQA5AEEASQBRAFkAYQBpAHEAeQCBAIkAkQCZAKEAqQCxALkAwQDJANEA2QDhAOkA8QD5AAEBCQERARkBIQEpATEBOQFBAUkBUQFZAWEBaQE=",
          "dtype": "i2"
         },
         "y": {
          "bdata": "AAAAAAAA+P8rxCYjLP5zQGSoMZrO9nRAHlbuQBtwckBllzLTpUpxQPWGYtzI1nNAr21qwk51ekBfm144Zkx6QOlIhLzW1YRAcDeulrp3iEDQDLNAefSLQFT/UciLkoxATovVs1IMj0BEQ8XWVZOSQB31iP6lNJNAfg1X+ovzlkB+50mTneiUQGBIKZ7mI5VA/w8fDaZbkkBpd1nd06OQQHoF3hV8QpBAWGTrPLI3iUDMMOCW4i+IQERarjRHcIRAAOYeyfwuhkDw+cSrvi+KQG/3O3mLqo5AGmsYACi2j0ALOaFxU96RQNzXba+9QJJAHmHxGhv+kEBc2qZbI6+QQIXqsv8JWY9AqEhdqn3OjEDy0NsjctSMQPhml8RCCo1A5u48Bq07iEAVAKt4IkqDQGpZjJU70HVAaB2iV014dkB7JYF68TtyQHmq7smNjnBAAAAAAAAA+P8AAAAAAAD4/wAAAAAAAPj/AAAAAAAA+P8=",
          "dtype": "f8"
         }
        },
        {
         "line": {
          "width": 1
         },
         "mode": "lines",
         "name": "2017",
         "showlegend": true,
         "type": "scatter",
         "x": {
          "bdata": "AQAJABEAGQAhACkAMQA5AEEASQBRAFkAYQBpAHEAeQCBAIkAkQCZAKEAqQCxALkAwQDJANEA2QDhAOkA8QD5AAEBCQERARkBIQEpATEBOQFBAUkBUQFZAWEBaQE=",
          "dtype": "i2"
         },
         "y": {
          "bdata": "AAAAAAAA+P8yNrT+cEBVQItwuxL4aHNAscUjM5bCdEBU4AhVkhZ1QFddkRbc0nZAxiWDTRoshUDg8soPy2iAQAWXH7uF9HtA3mNm3LHxgkDERWgdzsKDQMrwfVU6x4lABEUBx52djECwMl6CNrOPQBtGSt0JOZBA7pYXfeNKjEAxlVOFnliRQALbNO6VgJRANu7dyV7dkUDMAISGf8CSQFPhUuRORI9ADBnG26LZjUBcNj/rAfWJQDWxLcmjwodATHPnzyHthUD6trfNpO+FQMaY6ufv641AwzmjjvrriEBMqtfpsQuLQIYyP/EALolAdqejnkBYiEDTIAp/ylCIQH88AP2Mj4lAGVhLAIPGhEC+s80TQfCOQJIXSfmTFYZAnoDbWIyOhEDuJ31SvaOIQB6NLrPR2XpA4qyfzDfBdEDIJSAFIMVvQFwTgblCOVxAAAAAAAAA+P8AAAAAAAD4/wAAAAAAAPj/AAAAAAAA+P8=",
          "dtype": "f8"
         }
        },
        {
         "line": {
          "width": 1
         },
         "mode": "lines",
         "name": "2018",
         "showlegend": true,
         "type": "scatter",
         "x": {
          "bdata": "AQAJABEAGQAhACkAMQA5AEEASQBRAFkAYQBpAHEAeQCBAIkAkQCZAKEAqQCxALkAwQDJANEA2QDhAOkA8QD5AAEBCQERARkBIQEpATEBOQFBAUkBUQFZAWEBaQE=",
          "dtype": "i2"
         },
         "y": {
          "bdata": "AAAAAAAA+P9BCKp2y0Z1QM1MS1kEtW5A8iHtVUeMc0A24eheIzt2QNR/OdC1knxAiHcDRTbCgUBwqZ8KJY6CQJcBAWYuBoFAgXgDN/zMhEBrrwCDchyLQIW7WSy9a41AVJ/3nlrVkUC25w72xVmPQAyLkZxpZJJAzx7W7kthj0CArzKckI6RQHoui8toX45ApjoiZCpIjUBM56Hc8hmQQAyr39xwi5BA57SiZUiRjUDxQ5xs112KQPBK8qA6wodA/F/xaQfajECbuXxD3CGMQIwr/Y6/j49APm6W0NnykUA4S0ZAgemTQCC2QMtU2pZA3OAhYo+hlkCTWCrQvVyVQMdAsOHXnpNAXsSEOXZYlUApDuDgfB6OQCAQCsQF4JBApAKPD+sTi0BmTX51TzOAQLyeI4iKEH9AwNUEBDWcd0AoMB7c2H16QMAvA1Po8l5AAAAAAAAA+P8AAAAAAAD4/wAAAAAAAPj/AAAAAAAA+P8=",
          "dtype": "f8"
         }
        },
        {
         "line": {
          "width": 1
         },
         "mode": "lines",
         "name": "2019",
         "showlegend": true,
         "type": "scatter",
         "x": {
          "bdata": "AQAJABEAGQAhACkAMQA5AEEASQBRAFkAYQBpAHEAeQCBAIkAkQCZAKEAqQCxALkAwQDJANEA2QDhAOkA8QD5AAEBCQERARkBIQEpATEBOQFBAUkBUQFZAWEBaQE=",
          "dtype": "i2"
         },
         "y": {
          "bdata": "AAAAAAAA+P9lDFZmOot0QGwkDPqfFnNAnmt/lrFGe0DTkZ2AaMp6QE2fCKZgyndA6yx0SY06gkD0TQzBPdiDQJnxRulDb4RA96kc+JprikAU8DvPhJyRQPhR+LTCaZFAuLw32Y99kECIrfRXRuCMQDSJdV8FYJNArDbCr+9CkkD6I/pdDOOQQNREhIjRV5BAsdWfXkVzj0CIuA5Wc86LQHu7l4p0pYtABYnt8f0nikCP2zkCjsKHQOKQdwfM5oVAUY1M94aLiED2zUKk8M6IQO43swu/4IlASj+VD7FciEB5BTaJxFCKQMN4N0ttwItAw80HnL7+h0CEeyvFmjOIQAwItE9gfo1AtbFJfscgkkAmLPiMMBKPQNS983FLEY5AVSULcuUOh0DuH+LzGqqKQA4qGKjT5YNATA6aN+h8dkBFgxqdOcF7QMBhFWHnsXRAAAAAAAAA+P8AAAAAAAD4/wAAAAAAAPj/AAAAAAAA+P8=",
          "dtype": "f8"
         }
        },
        {
         "line": {
          "width": 1
         },
         "mode": "lines",
         "name": "2020",
         "showlegend": true,
         "type": "scatter",
         "x": {
          "bdata": "AQAJABEAGQAhACkAMQA5AEEASQBRAFkAYQBpAHEAeQCBAIkAkQCZAKEAqQCxALkAwQDJANEA2QDhAOkA8QD5AAEBCQERARkBIQEpATEBOQFBAUkBUQFZAWEBaQE=",
          "dtype": "i2"
         },
         "y": {
          "bdata": "AAAAAAAA+P/eNyYBIzllQLCOEAch63JA9WVXMqdDckBdw2yQqQh2QNEZokQ8uHhACrtYjnj5eUA9MgTfU8N4QCD4sG1ux4RAGOUwhFCCikC5DWWCmRyNQO96gzIZTZFAlsYPxMxPk0BAlj2HKyaMQGqZ8YZ0N4pA6HhYBx/LiUDwmaX8W66JQG5T1rBT4IhAcad9gtXti0DsCd8orqSNQH5GcIlmrJBAlZb+sLamkEB7Ddn/x4aTQDlkprA/opNAWl9oG45tk0D1sY9kwZmQQM50uVhKxY5AuTZqTj0/jkBpXpXwxX6OQLkR7L53qo9Ajpb8kuJQkEDSFc6oN+eRQPzXfvUOeo5AT0qQvVhsj0DXVAWani+QQJQ/2gd+NYtATp3zr69uhUBOZNIRr6+DQJC2AUS5IIBAdsHJZ9xBekBVjC48g0JyQCqoHYUr4WdAAAAAAAAA+P8AAAAAAAD4/wAAAAAAAPj/AAAAAAAA+P8=",
          "dtype": "f8"
         }
        },
        {
         "line": {
          "color": "grey",
          "width": 3
         },
         "mode": "lines",
         "name": "Median",
         "type": "scatter",
         "x": {
          "bdata": "AQAJABEAGQAhACkAMQA5AEEASQBRAFkAYQBpAHEAeQCBAIkAkQCZAKEAqQCxALkAwQDJANEA2QDhAOkA8QD5AAEBCQERARkBIQEpATEBOQFBAUkBUQFZAWEBaQE=",
          "dtype": "i2"
         },
         "y": {
          "bdata": "AAAAAAAA+P8lnBDOEKtmQKx+6pa+M2pAtHEOtco4bkBllzLTpUpxQBArYVmQWHZAJgENkUVfeUDqVIOPMlp8QGK3Z9/pKYBAcOlqPuRogkDERWgdzsKDQMrwfVU6x4lACQApdMnAjkA8Kx9KKZuQQBr3lxN2gpJAQi4YrMU3k0D7M8A0ZY6TQFDd8mXIpZNAFTWlqddQkkDMAISGf8CSQGiOnyoIX5FANgfCJZWskUC2wLDTpDWRQO5/0slGsZBAMl+e/efRkED1sY9kwZmQQBahKA81fJBAbouimL7CkEDSmrxWaRWRQOk57gsMeJBAjpb8kuJQkEB5daJclTWQQCWVkwNms41AIopa8XiLjUAtvwWFThyLQM+dipy5W4ZA0oOiUETjg0CTCW2i+VGBQEgajFMS+3pACpSXbiTbdUB7JYF68TtyQHmq7smNjnBAAAAAAAAA+P8AAAAAAAD4/wAAAAAAAPj/AAAAAAAA+P8=",
          "dtype": "f8"
         }
        },
        {
         "line": {
          "color": "black",
          "dash": "dash",
          "width": 3
         },
         "mode": "lines",
         "name": "Fourier Interpolated Median",
         "type": "scatter",
         "x": {
          "bdata": "AQACAAMABAAFAAYABwAIAAkACgALAAwADQAOAA8AEAARABIAEwAUABUAFgAXABgAGQAaABsAHAAdAB4AHwAgACEAIgAjACQAJQAmACcAKAApACoAKwAsAC0ALgAvADAAMQAyADMANAA1ADYANwA4ADkAOgA7ADwAPQA+AD8AQABBAEIAQwBEAEUARgBHAEgASQBKAEsATABNAE4ATwBQAFEAUgBTAFQAVQBWAFcAWABZAFoAWwBcAF0AXgBfAGAAYQBiAGMAZABlAGYAZwBoAGkAagBrAGwAbQBuAG8AcABxAHIAcwB0AHUAdgB3AHgAeQB6AHsAfAB9AH4AfwCAAIEAggCDAIQAhQCGAIcAiACJAIoAiwCMAI0AjgCPAJAAkQCSAJMAlACVAJYAlwCYAJkAmgCbAJwAnQCeAJ8AoAChAKIAowCkAKUApgCnAKgAqQCqAKsArACtAK4ArwCwALEAsgCzALQAtQC2ALcAuAC5ALoAuwC8AL0AvgC/AMAAwQDCAMMAxADFAMYAxwDIAMkAygDLAMwAzQDOAM8A0ADRANIA0wDUANUA1gDXANgA2QDaANsA3ADdAN4A3wDgAOEA4gDjAOQA5QDmAOcA6ADpAOoA6wDsAO0A7gDvAPAA8QDyAPMA9AD1APYA9wD4APkA+gD7APwA/QD+AP8AAAEBAQIBAwEEAQUBBgEHAQgBCQEKAQsBDAENAQ4BDwEQAREBEgETARQBFQEWARcBGAEZARoBGwEcAR0BHgEfASABIQEiASMBJAElASYBJwEoASkBKgErASwBLQEuAS8BMAExATIBMwE0ATUBNgE3ATgBOQE6ATsBPAE9AT4BPwFAAUEBQgFDAUQBRQFGAUcBSAFJAUoBSwFMAU0BTgFPAVABUQFSAVMBVAFVAVYBVwFYAVkBWgFbAVwBXQFeAV8BYAFhAWIBYwFkAWUBZgFnAWgBaQFqAWsBbAFtAQ==",
          "dtype": "i2"
         },
         "y": {
          "bdata": "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",
          "dtype": "f8"
         }
        }
       ],
       "layout": {
        "template": {
         "data": {
          "bar": [
           {
            "error_x": {
             "color": "#2a3f5f"
            },
            "error_y": {
             "color": "#2a3f5f"
            },
            "marker": {
             "line": {
              "color": "white",
              "width": 0.5
             },
             "pattern": {
              "fillmode": "overlay",
              "size": 10,
              "solidity": 0.2
             }
            },
            "type": "bar"
           }
          ],
          "barpolar": [
           {
            "marker": {
             "line": {
              "color": "white",
              "width": 0.5
             },
             "pattern": {
              "fillmode": "overlay",
              "size": 10,
              "solidity": 0.2
             }
            },
            "type": "barpolar"
           }
          ],
          "carpet": [
           {
            "aaxis": {
             "endlinecolor": "#2a3f5f",
             "gridcolor": "#C8D4E3",
             "linecolor": "#C8D4E3",
             "minorgridcolor": "#C8D4E3",
             "startlinecolor": "#2a3f5f"
            },
            "baxis": {
             "endlinecolor": "#2a3f5f",
             "gridcolor": "#C8D4E3",
             "linecolor": "#C8D4E3",
             "minorgridcolor": "#C8D4E3",
             "startlinecolor": "#2a3f5f"
            },
            "type": "carpet"
           }
          ],
          "choropleth": [
           {
            "colorbar": {
             "outlinewidth": 0,
             "ticks": ""
            },
            "type": "choropleth"
           }
          ],
          "contour": [
           {
            "colorbar": {
             "outlinewidth": 0,
             "ticks": ""
            },
            "colorscale": [
             [
              0,
              "#0d0887"
             ],
             [
              0.1111111111111111,
              "#46039f"
             ],
             [
              0.2222222222222222,
              "#7201a8"
             ],
             [
              0.3333333333333333,
              "#9c179e"
             ],
             [
              0.4444444444444444,
              "#bd3786"
             ],
             [
              0.5555555555555556,
              "#d8576b"
             ],
             [
              0.6666666666666666,
              "#ed7953"
             ],
             [
              0.7777777777777778,
              "#fb9f3a"
             ],
             [
              0.8888888888888888,
              "#fdca26"
             ],
             [
              1,
              "#f0f921"
             ]
            ],
            "type": "contour"
           }
          ],
          "contourcarpet": [
           {
            "colorbar": {
             "outlinewidth": 0,
             "ticks": ""
            },
            "type": "contourcarpet"
           }
          ],
          "heatmap": [
           {
            "colorbar": {
             "outlinewidth": 0,
             "ticks": ""
            },
            "colorscale": [
             [
              0,
              "#0d0887"
             ],
             [
              0.1111111111111111,
              "#46039f"
             ],
             [
              0.2222222222222222,
              "#7201a8"
             ],
             [
              0.3333333333333333,
              "#9c179e"
             ],
             [
              0.4444444444444444,
              "#bd3786"
             ],
             [
              0.5555555555555556,
              "#d8576b"
             ],
             [
              0.6666666666666666,
              "#ed7953"
             ],
             [
              0.7777777777777778,
              "#fb9f3a"
             ],
             [
              0.8888888888888888,
              "#fdca26"
             ],
             [
              1,
              "#f0f921"
             ]
            ],
            "type": "heatmap"
           }
          ],
          "histogram": [
           {
            "marker": {
             "pattern": {
              "fillmode": "overlay",
              "size": 10,
              "solidity": 0.2
             }
            },
            "type": "histogram"
           }
          ],
          "histogram2d": [
           {
            "colorbar": {
             "outlinewidth": 0,
             "ticks": ""
            },
            "colorscale": [
             [
              0,
              "#0d0887"
             ],
             [
              0.1111111111111111,
              "#46039f"
             ],
             [
              0.2222222222222222,
              "#7201a8"
             ],
             [
              0.3333333333333333,
              "#9c179e"
             ],
             [
              0.4444444444444444,
              "#bd3786"
             ],
             [
              0.5555555555555556,
              "#d8576b"
             ],
             [
              0.6666666666666666,
              "#ed7953"
             ],
             [
              0.7777777777777778,
              "#fb9f3a"
             ],
             [
              0.8888888888888888,
              "#fdca26"
             ],
             [
              1,
              "#f0f921"
             ]
            ],
            "type": "histogram2d"
           }
          ],
          "histogram2dcontour": [
           {
            "colorbar": {
             "outlinewidth": 0,
             "ticks": ""
            },
            "colorscale": [
             [
              0,
              "#0d0887"
             ],
             [
              0.1111111111111111,
              "#46039f"
             ],
             [
              0.2222222222222222,
              "#7201a8"
             ],
             [
              0.3333333333333333,
              "#9c179e"
             ],
             [
              0.4444444444444444,
              "#bd3786"
             ],
             [
              0.5555555555555556,
              "#d8576b"
             ],
             [
              0.6666666666666666,
              "#ed7953"
             ],
             [
              0.7777777777777778,
              "#fb9f3a"
             ],
             [
              0.8888888888888888,
              "#fdca26"
             ],
             [
              1,
              "#f0f921"
             ]
            ],
            "type": "histogram2dcontour"
           }
          ],
          "mesh3d": [
           {
            "colorbar": {
             "outlinewidth": 0,
             "ticks": ""
            },
            "type": "mesh3d"
           }
          ],
          "parcoords": [
           {
            "line": {
             "colorbar": {
              "outlinewidth": 0,
              "ticks": ""
             }
            },
            "type": "parcoords"
           }
          ],
          "pie": [
           {
            "automargin": true,
            "type": "pie"
           }
          ],
          "scatter": [
           {
            "fillpattern": {
             "fillmode": "overlay",
             "size": 10,
             "solidity": 0.2
            },
            "type": "scatter"
           }
          ],
          "scatter3d": [
           {
            "line": {
             "colorbar": {
              "outlinewidth": 0,
              "ticks": ""
             }
            },
            "marker": {
             "colorbar": {
              "outlinewidth": 0,
              "ticks": ""
             }
            },
            "type": "scatter3d"
           }
          ],
          "scattercarpet": [
           {
            "marker": {
             "colorbar": {
              "outlinewidth": 0,
              "ticks": ""
             }
            },
            "type": "scattercarpet"
           }
          ],
          "scattergeo": [
           {
            "marker": {
             "colorbar": {
              "outlinewidth": 0,
              "ticks": ""
             }
            },
            "type": "scattergeo"
           }
          ],
          "scattergl": [
           {
            "marker": {
             "colorbar": {
              "outlinewidth": 0,
              "ticks": ""
             }
            },
            "type": "scattergl"
           }
          ],
          "scattermap": [
           {
            "marker": {
             "colorbar": {
              "outlinewidth": 0,
              "ticks": ""
             }
            },
            "type": "scattermap"
           }
          ],
          "scattermapbox": [
           {
            "marker": {
             "colorbar": {
              "outlinewidth": 0,
              "ticks": ""
             }
            },
            "type": "scattermapbox"
           }
          ],
          "scatterpolar": [
           {
            "marker": {
             "colorbar": {
              "outlinewidth": 0,
              "ticks": ""
             }
            },
            "type": "scatterpolar"
           }
          ],
          "scatterpolargl": [
           {
            "marker": {
             "colorbar": {
              "outlinewidth": 0,
              "ticks": ""
             }
            },
            "type": "scatterpolargl"
           }
          ],
          "scatterternary": [
           {
            "marker": {
             "colorbar": {
              "outlinewidth": 0,
              "ticks": ""
             }
            },
            "type": "scatterternary"
           }
          ],
          "surface": [
           {
            "colorbar": {
             "outlinewidth": 0,
             "ticks": ""
            },
            "colorscale": [
             [
              0,
              "#0d0887"
             ],
             [
              0.1111111111111111,
              "#46039f"
             ],
             [
              0.2222222222222222,
              "#7201a8"
             ],
             [
              0.3333333333333333,
              "#9c179e"
             ],
             [
              0.4444444444444444,
              "#bd3786"
             ],
             [
              0.5555555555555556,
              "#d8576b"
             ],
             [
              0.6666666666666666,
              "#ed7953"
             ],
             [
              0.7777777777777778,
              "#fb9f3a"
             ],
             [
              0.8888888888888888,
              "#fdca26"
             ],
             [
              1,
              "#f0f921"
             ]
            ],
            "type": "surface"
           }
          ],
          "table": [
           {
            "cells": {
             "fill": {
              "color": "#EBF0F8"
             },
             "line": {
              "color": "white"
             }
            },
            "header": {
             "fill": {
              "color": "#C8D4E3"
             },
             "line": {
              "color": "white"
             }
            },
            "type": "table"
           }
          ]
         },
         "layout": {
          "annotationdefaults": {
           "arrowcolor": "#2a3f5f",
           "arrowhead": 0,
           "arrowwidth": 1
          },
          "autotypenumbers": "strict",
          "coloraxis": {
           "colorbar": {
            "outlinewidth": 0,
            "ticks": ""
           }
          },
          "colorscale": {
           "diverging": [
            [
             0,
             "#8e0152"
            ],
            [
             0.1,
             "#c51b7d"
            ],
            [
             0.2,
             "#de77ae"
            ],
            [
             0.3,
             "#f1b6da"
            ],
            [
             0.4,
             "#fde0ef"
            ],
            [
             0.5,
             "#f7f7f7"
            ],
            [
             0.6,
             "#e6f5d0"
            ],
            [
             0.7,
             "#b8e186"
            ],
            [
             0.8,
             "#7fbc41"
            ],
            [
             0.9,
             "#4d9221"
            ],
            [
             1,
             "#276419"
            ]
           ],
           "sequential": [
            [
             0,
             "#0d0887"
            ],
            [
             0.1111111111111111,
             "#46039f"
            ],
            [
             0.2222222222222222,
             "#7201a8"
            ],
            [
             0.3333333333333333,
             "#9c179e"
            ],
            [
             0.4444444444444444,
             "#bd3786"
            ],
            [
             0.5555555555555556,
             "#d8576b"
            ],
            [
             0.6666666666666666,
             "#ed7953"
            ],
            [
             0.7777777777777778,
             "#fb9f3a"
            ],
            [
             0.8888888888888888,
             "#fdca26"
            ],
            [
             1,
             "#f0f921"
            ]
           ],
           "sequentialminus": [
            [
             0,
             "#0d0887"
            ],
            [
             0.1111111111111111,
             "#46039f"
            ],
            [
             0.2222222222222222,
             "#7201a8"
            ],
            [
             0.3333333333333333,
             "#9c179e"
            ],
            [
             0.4444444444444444,
             "#bd3786"
            ],
            [
             0.5555555555555556,
             "#d8576b"
            ],
            [
             0.6666666666666666,
             "#ed7953"
            ],
            [
             0.7777777777777778,
             "#fb9f3a"
            ],
            [
             0.8888888888888888,
             "#fdca26"
            ],
            [
             1,
             "#f0f921"
            ]
           ]
          },
          "colorway": [
           "#636efa",
           "#EF553B",
           "#00cc96",
           "#ab63fa",
           "#FFA15A",
           "#19d3f3",
           "#FF6692",
           "#B6E880",
           "#FF97FF",
           "#FECB52"
          ],
          "font": {
           "color": "#2a3f5f"
          },
          "geo": {
           "bgcolor": "white",
           "lakecolor": "white",
           "landcolor": "white",
           "showlakes": true,
           "showland": true,
           "subunitcolor": "#C8D4E3"
          },
          "hoverlabel": {
           "align": "left"
          },
          "hovermode": "closest",
          "mapbox": {
           "style": "light"
          },
          "paper_bgcolor": "white",
          "plot_bgcolor": "white",
          "polar": {
           "angularaxis": {
            "gridcolor": "#EBF0F8",
            "linecolor": "#EBF0F8",
            "ticks": ""
           },
           "bgcolor": "white",
           "radialaxis": {
            "gridcolor": "#EBF0F8",
            "linecolor": "#EBF0F8",
            "ticks": ""
           }
          },
          "scene": {
           "xaxis": {
            "backgroundcolor": "white",
            "gridcolor": "#DFE8F3",
            "gridwidth": 2,
            "linecolor": "#EBF0F8",
            "showbackground": true,
            "ticks": "",
            "zerolinecolor": "#EBF0F8"
           },
           "yaxis": {
            "backgroundcolor": "white",
            "gridcolor": "#DFE8F3",
            "gridwidth": 2,
            "linecolor": "#EBF0F8",
            "showbackground": true,
            "ticks": "",
            "zerolinecolor": "#EBF0F8"
           },
           "zaxis": {
            "backgroundcolor": "white",
            "gridcolor": "#DFE8F3",
            "gridwidth": 2,
            "linecolor": "#EBF0F8",
            "showbackground": true,
            "ticks": "",
            "zerolinecolor": "#EBF0F8"
           }
          },
          "shapedefaults": {
           "line": {
            "color": "#2a3f5f"
           }
          },
          "ternary": {
           "aaxis": {
            "gridcolor": "#DFE8F3",
            "linecolor": "#A2B1C6",
            "ticks": ""
           },
           "baxis": {
            "gridcolor": "#DFE8F3",
            "linecolor": "#A2B1C6",
            "ticks": ""
           },
           "bgcolor": "white",
           "caxis": {
            "gridcolor": "#DFE8F3",
            "linecolor": "#A2B1C6",
            "ticks": ""
           }
          },
          "title": {
           "x": 0.05
          },
          "xaxis": {
           "automargin": true,
           "gridcolor": "#EBF0F8",
           "linecolor": "#EBF0F8",
           "ticks": "",
           "title": {
            "standoff": 15
           },
           "zerolinecolor": "#EBF0F8",
           "zerolinewidth": 2
          },
          "yaxis": {
           "automargin": true,
           "gridcolor": "#EBF0F8",
           "linecolor": "#EBF0F8",
           "ticks": "",
           "title": {
            "standoff": 15
           },
           "zerolinecolor": "#EBF0F8",
           "zerolinewidth": 2
          }
         }
        },
        "title": {
         "text": "Daily interpolated CbPM WESTBERRY Primary Productivity Time Series (1998-2020) at PAPA"
        },
        "xaxis": {
         "title": {
          "text": "Day of year"
         }
        },
        "yaxis": {
         "title": {
          "text": "Primary productivity [mg C m-2 day-1]"
         }
        }
       }
      }
     },
     "metadata": {},
     "output_type": "display_data"
    }
   ],
   "source": [
    "# Plot with interpolated daily values\n",
    "\n",
    "# Group by year\n",
    "years = pd.DatetimeIndex(ds_west_papa.time.values).year.unique()\n",
    "\n",
    "fig = go.Figure()\n",
    "\n",
    "# Plot one line per year \n",
    "for year in years:\n",
    "    yearly_data = ds_west_papa.sel(time=str(year))[\"CbPM\"]\n",
    "    fig.add_trace(go.Scatter(\n",
    "        x=yearly_data.time.dt.dayofyear,\n",
    "        y=yearly_data.values,\n",
    "        mode='lines',\n",
    "        line=dict(width=1),\n",
    "        name=str(year),\n",
    "        showlegend=True \n",
    "    ))\n",
    "\n",
    "# Plot climatology in black\n",
    "fig.add_trace(go.Scatter(\n",
    "    x=clim_8d_west['day_of_year'],\n",
    "    y=clim_8d_west['CbPM'].values,\n",
    "    mode='lines',\n",
    "    name='Median',\n",
    "    line=dict(color='grey', width=3)\n",
    "))\n",
    "\n",
    "# Add the interpolated Fourier daily curve\n",
    "fig.add_trace(go.Scatter(\n",
    "    x=np.arange(1, 366),  # day-of-year\n",
    "    y=west_daily,\n",
    "    mode='lines',\n",
    "    name='Fourier Interpolated Median',\n",
    "    line=dict(color='black', width=3, dash='dash')\n",
    "))\n",
    "fig.update_layout(\n",
    "    title='Daily interpolated CbPM WESTBERRY Primary Productivity Time Series (1998-2020) at PAPA',\n",
    "    xaxis_title='Day of year',\n",
    "    yaxis_title='Primary productivity [mg C m-2 day-1]', \n",
    "    template='plotly_white'\n",
    ")\n",
    "\n",
    "fig.show()\n"
   ]
  },
  {
   "cell_type": "code",
   "execution_count": 10,
   "id": "fd197bed",
   "metadata": {},
   "outputs": [],
   "source": [
    "# # Export interpolated daily values of CbPM WESTBERRY npp\n",
    "# # Create a coordinate for the day of year (1 to 365)\n",
    "# days = np.arange(1, 366)  # day 1 to 365\n",
    "\n",
    "# # Create xarray DataArray\n",
    "# west_daily_da = xr.DataArray(\n",
    "#     data=west_daily,\n",
    "#     coords={'days': days},\n",
    "#     dims=['days'],\n",
    "#     name='npp'\n",
    "# )\n",
    "\n",
    "# west_daily_da.attrs['long_name'] = 'Interpolated daily npp'\n",
    "# west_daily_da.attrs['units'] = 'mg C m-2 day-1'\n",
    "# # Export to NetCDF\n",
    "# west_daily_da.to_netcdf('/data/rd_exchange/sroyer/SEAPOPYM/NPP/daily_WESTBERRY_papa_1998_2020.nc')"
   ]
  },
  {
   "cell_type": "markdown",
   "id": "e8bbc871",
   "metadata": {},
   "source": [
    "### BEHRENFELD -CbPM"
   ]
  },
  {
   "cell_type": "code",
   "execution_count": 11,
   "id": "c895272e",
   "metadata": {},
   "outputs": [],
   "source": [
    "path_behr='/data/rd_exchange/sroyer/SEAPOPYM/NPP/1998_2022_NPP_BEHRENFELD_CBPM_25KM_8D.nc'\n",
    "ds_behr = xr.open_dataset(path_behr,engine='netcdf4')"
   ]
  },
  {
   "cell_type": "code",
   "execution_count": 12,
   "id": "984e7df9",
   "metadata": {},
   "outputs": [
    {
     "data": {
      "text/html": [
       "<div><svg style=\"position: absolute; width: 0; height: 0; overflow: hidden\">\n",
       "<defs>\n",
       "<symbol id=\"icon-database\" viewBox=\"0 0 32 32\">\n",
       "<path d=\"M16 0c-8.837 0-16 2.239-16 5v4c0 2.761 7.163 5 16 5s16-2.239 16-5v-4c0-2.761-7.163-5-16-5z\"></path>\n",
       "<path d=\"M16 17c-8.837 0-16-2.239-16-5v6c0 2.761 7.163 5 16 5s16-2.239 16-5v-6c0 2.761-7.163 5-16 5z\"></path>\n",
       "<path d=\"M16 26c-8.837 0-16-2.239-16-5v6c0 2.761 7.163 5 16 5s16-2.239 16-5v-6c0 2.761-7.163 5-16 5z\"></path>\n",
       "</symbol>\n",
       "<symbol id=\"icon-file-text2\" viewBox=\"0 0 32 32\">\n",
       "<path d=\"M28.681 7.159c-0.694-0.947-1.662-2.053-2.724-3.116s-2.169-2.030-3.116-2.724c-1.612-1.182-2.393-1.319-2.841-1.319h-15.5c-1.378 0-2.5 1.121-2.5 2.5v27c0 1.378 1.122 2.5 2.5 2.5h23c1.378 0 2.5-1.122 2.5-2.5v-19.5c0-0.448-0.137-1.23-1.319-2.841zM24.543 5.457c0.959 0.959 1.712 1.825 2.268 2.543h-4.811v-4.811c0.718 0.556 1.584 1.309 2.543 2.268zM28 29.5c0 0.271-0.229 0.5-0.5 0.5h-23c-0.271 0-0.5-0.229-0.5-0.5v-27c0-0.271 0.229-0.5 0.5-0.5 0 0 15.499-0 15.5 0v7c0 0.552 0.448 1 1 1h7v19.5z\"></path>\n",
       "<path d=\"M23 26h-14c-0.552 0-1-0.448-1-1s0.448-1 1-1h14c0.552 0 1 0.448 1 1s-0.448 1-1 1z\"></path>\n",
       "<path d=\"M23 22h-14c-0.552 0-1-0.448-1-1s0.448-1 1-1h14c0.552 0 1 0.448 1 1s-0.448 1-1 1z\"></path>\n",
       "<path d=\"M23 18h-14c-0.552 0-1-0.448-1-1s0.448-1 1-1h14c0.552 0 1 0.448 1 1s-0.448 1-1 1z\"></path>\n",
       "</symbol>\n",
       "</defs>\n",
       "</svg>\n",
       "<style>/* CSS stylesheet for displaying xarray objects in jupyterlab.\n",
       " *\n",
       " */\n",
       "\n",
       ":root {\n",
       "  --xr-font-color0: var(--jp-content-font-color0, rgba(0, 0, 0, 1));\n",
       "  --xr-font-color2: var(--jp-content-font-color2, rgba(0, 0, 0, 0.54));\n",
       "  --xr-font-color3: var(--jp-content-font-color3, rgba(0, 0, 0, 0.38));\n",
       "  --xr-border-color: var(--jp-border-color2, #e0e0e0);\n",
       "  --xr-disabled-color: var(--jp-layout-color3, #bdbdbd);\n",
       "  --xr-background-color: var(--jp-layout-color0, white);\n",
       "  --xr-background-color-row-even: var(--jp-layout-color1, white);\n",
       "  --xr-background-color-row-odd: var(--jp-layout-color2, #eeeeee);\n",
       "}\n",
       "\n",
       "html[theme=\"dark\"],\n",
       "html[data-theme=\"dark\"],\n",
       "body[data-theme=\"dark\"],\n",
       "body.vscode-dark {\n",
       "  --xr-font-color0: rgba(255, 255, 255, 1);\n",
       "  --xr-font-color2: rgba(255, 255, 255, 0.54);\n",
       "  --xr-font-color3: rgba(255, 255, 255, 0.38);\n",
       "  --xr-border-color: #1f1f1f;\n",
       "  --xr-disabled-color: #515151;\n",
       "  --xr-background-color: #111111;\n",
       "  --xr-background-color-row-even: #111111;\n",
       "  --xr-background-color-row-odd: #313131;\n",
       "}\n",
       "\n",
       ".xr-wrap {\n",
       "  display: block !important;\n",
       "  min-width: 300px;\n",
       "  max-width: 700px;\n",
       "}\n",
       "\n",
       ".xr-text-repr-fallback {\n",
       "  /* fallback to plain text repr when CSS is not injected (untrusted notebook) */\n",
       "  display: none;\n",
       "}\n",
       "\n",
       ".xr-header {\n",
       "  padding-top: 6px;\n",
       "  padding-bottom: 6px;\n",
       "  margin-bottom: 4px;\n",
       "  border-bottom: solid 1px var(--xr-border-color);\n",
       "}\n",
       "\n",
       ".xr-header > div,\n",
       ".xr-header > ul {\n",
       "  display: inline;\n",
       "  margin-top: 0;\n",
       "  margin-bottom: 0;\n",
       "}\n",
       "\n",
       ".xr-obj-type,\n",
       ".xr-array-name {\n",
       "  margin-left: 2px;\n",
       "  margin-right: 10px;\n",
       "}\n",
       "\n",
       ".xr-obj-type {\n",
       "  color: var(--xr-font-color2);\n",
       "}\n",
       "\n",
       ".xr-sections {\n",
       "  padding-left: 0 !important;\n",
       "  display: grid;\n",
       "  grid-template-columns: 150px auto auto 1fr 0 20px 0 20px;\n",
       "}\n",
       "\n",
       ".xr-section-item {\n",
       "  display: contents;\n",
       "}\n",
       "\n",
       ".xr-section-item input {\n",
       "  display: inline-block;\n",
       "  opacity: 0;\n",
       "  height: 0;\n",
       "}\n",
       "\n",
       ".xr-section-item input + label {\n",
       "  color: var(--xr-disabled-color);\n",
       "}\n",
       "\n",
       ".xr-section-item input:enabled + label {\n",
       "  cursor: pointer;\n",
       "  color: var(--xr-font-color2);\n",
       "}\n",
       "\n",
       ".xr-section-item input:focus + label {\n",
       "  border: 2px solid var(--xr-font-color0);\n",
       "}\n",
       "\n",
       ".xr-section-item input:enabled + label:hover {\n",
       "  color: var(--xr-font-color0);\n",
       "}\n",
       "\n",
       ".xr-section-summary {\n",
       "  grid-column: 1;\n",
       "  color: var(--xr-font-color2);\n",
       "  font-weight: 500;\n",
       "}\n",
       "\n",
       ".xr-section-summary > span {\n",
       "  display: inline-block;\n",
       "  padding-left: 0.5em;\n",
       "}\n",
       "\n",
       ".xr-section-summary-in:disabled + label {\n",
       "  color: var(--xr-font-color2);\n",
       "}\n",
       "\n",
       ".xr-section-summary-in + label:before {\n",
       "  display: inline-block;\n",
       "  content: \"►\";\n",
       "  font-size: 11px;\n",
       "  width: 15px;\n",
       "  text-align: center;\n",
       "}\n",
       "\n",
       ".xr-section-summary-in:disabled + label:before {\n",
       "  color: var(--xr-disabled-color);\n",
       "}\n",
       "\n",
       ".xr-section-summary-in:checked + label:before {\n",
       "  content: \"▼\";\n",
       "}\n",
       "\n",
       ".xr-section-summary-in:checked + label > span {\n",
       "  display: none;\n",
       "}\n",
       "\n",
       ".xr-section-summary,\n",
       ".xr-section-inline-details {\n",
       "  padding-top: 4px;\n",
       "  padding-bottom: 4px;\n",
       "}\n",
       "\n",
       ".xr-section-inline-details {\n",
       "  grid-column: 2 / -1;\n",
       "}\n",
       "\n",
       ".xr-section-details {\n",
       "  display: none;\n",
       "  grid-column: 1 / -1;\n",
       "  margin-bottom: 5px;\n",
       "}\n",
       "\n",
       ".xr-section-summary-in:checked ~ .xr-section-details {\n",
       "  display: contents;\n",
       "}\n",
       "\n",
       ".xr-array-wrap {\n",
       "  grid-column: 1 / -1;\n",
       "  display: grid;\n",
       "  grid-template-columns: 20px auto;\n",
       "}\n",
       "\n",
       ".xr-array-wrap > label {\n",
       "  grid-column: 1;\n",
       "  vertical-align: top;\n",
       "}\n",
       "\n",
       ".xr-preview {\n",
       "  color: var(--xr-font-color3);\n",
       "}\n",
       "\n",
       ".xr-array-preview,\n",
       ".xr-array-data {\n",
       "  padding: 0 5px !important;\n",
       "  grid-column: 2;\n",
       "}\n",
       "\n",
       ".xr-array-data,\n",
       ".xr-array-in:checked ~ .xr-array-preview {\n",
       "  display: none;\n",
       "}\n",
       "\n",
       ".xr-array-in:checked ~ .xr-array-data,\n",
       ".xr-array-preview {\n",
       "  display: inline-block;\n",
       "}\n",
       "\n",
       ".xr-dim-list {\n",
       "  display: inline-block !important;\n",
       "  list-style: none;\n",
       "  padding: 0 !important;\n",
       "  margin: 0;\n",
       "}\n",
       "\n",
       ".xr-dim-list li {\n",
       "  display: inline-block;\n",
       "  padding: 0;\n",
       "  margin: 0;\n",
       "}\n",
       "\n",
       ".xr-dim-list:before {\n",
       "  content: \"(\";\n",
       "}\n",
       "\n",
       ".xr-dim-list:after {\n",
       "  content: \")\";\n",
       "}\n",
       "\n",
       ".xr-dim-list li:not(:last-child):after {\n",
       "  content: \",\";\n",
       "  padding-right: 5px;\n",
       "}\n",
       "\n",
       ".xr-has-index {\n",
       "  font-weight: bold;\n",
       "}\n",
       "\n",
       ".xr-var-list,\n",
       ".xr-var-item {\n",
       "  display: contents;\n",
       "}\n",
       "\n",
       ".xr-var-item > div,\n",
       ".xr-var-item label,\n",
       ".xr-var-item > .xr-var-name span {\n",
       "  background-color: var(--xr-background-color-row-even);\n",
       "  margin-bottom: 0;\n",
       "}\n",
       "\n",
       ".xr-var-item > .xr-var-name:hover span {\n",
       "  padding-right: 5px;\n",
       "}\n",
       "\n",
       ".xr-var-list > li:nth-child(odd) > div,\n",
       ".xr-var-list > li:nth-child(odd) > label,\n",
       ".xr-var-list > li:nth-child(odd) > .xr-var-name span {\n",
       "  background-color: var(--xr-background-color-row-odd);\n",
       "}\n",
       "\n",
       ".xr-var-name {\n",
       "  grid-column: 1;\n",
       "}\n",
       "\n",
       ".xr-var-dims {\n",
       "  grid-column: 2;\n",
       "}\n",
       "\n",
       ".xr-var-dtype {\n",
       "  grid-column: 3;\n",
       "  text-align: right;\n",
       "  color: var(--xr-font-color2);\n",
       "}\n",
       "\n",
       ".xr-var-preview {\n",
       "  grid-column: 4;\n",
       "}\n",
       "\n",
       ".xr-index-preview {\n",
       "  grid-column: 2 / 5;\n",
       "  color: var(--xr-font-color2);\n",
       "}\n",
       "\n",
       ".xr-var-name,\n",
       ".xr-var-dims,\n",
       ".xr-var-dtype,\n",
       ".xr-preview,\n",
       ".xr-attrs dt {\n",
       "  white-space: nowrap;\n",
       "  overflow: hidden;\n",
       "  text-overflow: ellipsis;\n",
       "  padding-right: 10px;\n",
       "}\n",
       "\n",
       ".xr-var-name:hover,\n",
       ".xr-var-dims:hover,\n",
       ".xr-var-dtype:hover,\n",
       ".xr-attrs dt:hover {\n",
       "  overflow: visible;\n",
       "  width: auto;\n",
       "  z-index: 1;\n",
       "}\n",
       "\n",
       ".xr-var-attrs,\n",
       ".xr-var-data,\n",
       ".xr-index-data {\n",
       "  display: none;\n",
       "  background-color: var(--xr-background-color) !important;\n",
       "  padding-bottom: 5px !important;\n",
       "}\n",
       "\n",
       ".xr-var-attrs-in:checked ~ .xr-var-attrs,\n",
       ".xr-var-data-in:checked ~ .xr-var-data,\n",
       ".xr-index-data-in:checked ~ .xr-index-data {\n",
       "  display: block;\n",
       "}\n",
       "\n",
       ".xr-var-data > table {\n",
       "  float: right;\n",
       "}\n",
       "\n",
       ".xr-var-name span,\n",
       ".xr-var-data,\n",
       ".xr-index-name div,\n",
       ".xr-index-data,\n",
       ".xr-attrs {\n",
       "  padding-left: 25px !important;\n",
       "}\n",
       "\n",
       ".xr-attrs,\n",
       ".xr-var-attrs,\n",
       ".xr-var-data,\n",
       ".xr-index-data {\n",
       "  grid-column: 1 / -1;\n",
       "}\n",
       "\n",
       "dl.xr-attrs {\n",
       "  padding: 0;\n",
       "  margin: 0;\n",
       "  display: grid;\n",
       "  grid-template-columns: 125px auto;\n",
       "}\n",
       "\n",
       ".xr-attrs dt,\n",
       ".xr-attrs dd {\n",
       "  padding: 0;\n",
       "  margin: 0;\n",
       "  float: left;\n",
       "  padding-right: 10px;\n",
       "  width: auto;\n",
       "}\n",
       "\n",
       ".xr-attrs dt {\n",
       "  font-weight: normal;\n",
       "  grid-column: 1;\n",
       "}\n",
       "\n",
       ".xr-attrs dt:hover span {\n",
       "  display: inline-block;\n",
       "  background: var(--xr-background-color);\n",
       "  padding-right: 10px;\n",
       "}\n",
       "\n",
       ".xr-attrs dd {\n",
       "  grid-column: 2;\n",
       "  white-space: pre-wrap;\n",
       "  word-break: break-all;\n",
       "}\n",
       "\n",
       ".xr-icon-database,\n",
       ".xr-icon-file-text2,\n",
       ".xr-no-icon {\n",
       "  display: inline-block;\n",
       "  vertical-align: middle;\n",
       "  width: 1em;\n",
       "  height: 1.5em !important;\n",
       "  stroke-width: 0;\n",
       "  stroke: currentColor;\n",
       "  fill: currentColor;\n",
       "}\n",
       "</style><pre class='xr-text-repr-fallback'>&lt;xarray.Dataset&gt; Size: 10GB\n",
       "Dimensions:  (time: 1150, lat: 720, lon: 1440)\n",
       "Coordinates:\n",
       "  * lon      (lon) float32 6kB -179.9 -179.6 -179.4 -179.1 ... 179.4 179.6 179.9\n",
       "  * lat      (lat) float32 3kB -89.88 -89.62 -89.38 -89.12 ... 89.38 89.62 89.88\n",
       "  * time     (time) datetime64[ns] 9kB 1998-01-01 1998-01-09 ... 2022-12-27\n",
       "Data variables:\n",
       "    CbPM     (time, lat, lon) float64 10GB ...</pre><div class='xr-wrap' style='display:none'><div class='xr-header'><div class='xr-obj-type'>xarray.Dataset</div></div><ul class='xr-sections'><li class='xr-section-item'><input id='section-3bedf168-7f8d-4dd9-8a91-0b0615964c44' class='xr-section-summary-in' type='checkbox' disabled ><label for='section-3bedf168-7f8d-4dd9-8a91-0b0615964c44' class='xr-section-summary'  title='Expand/collapse section'>Dimensions:</label><div class='xr-section-inline-details'><ul class='xr-dim-list'><li><span class='xr-has-index'>time</span>: 1150</li><li><span class='xr-has-index'>lat</span>: 720</li><li><span class='xr-has-index'>lon</span>: 1440</li></ul></div><div class='xr-section-details'></div></li><li class='xr-section-item'><input id='section-bbb5c351-92d7-4e88-be1a-dadbc024b191' class='xr-section-summary-in' type='checkbox'  checked><label for='section-bbb5c351-92d7-4e88-be1a-dadbc024b191' class='xr-section-summary' >Coordinates: <span>(3)</span></label><div class='xr-section-inline-details'></div><div class='xr-section-details'><ul class='xr-var-list'><li class='xr-var-item'><div class='xr-var-name'><span class='xr-has-index'>lon</span></div><div class='xr-var-dims'>(lon)</div><div class='xr-var-dtype'>float32</div><div class='xr-var-preview xr-preview'>-179.9 -179.6 ... 179.6 179.9</div><input id='attrs-b396bd55-a7c7-4470-bb5c-ce4810a55ad5' class='xr-var-attrs-in' type='checkbox' disabled><label for='attrs-b396bd55-a7c7-4470-bb5c-ce4810a55ad5' title='Show/Hide attributes'><svg class='icon xr-icon-file-text2'><use xlink:href='#icon-file-text2'></use></svg></label><input id='data-42ab98e7-c339-4bc1-8113-0ff1e5e5d0ef' class='xr-var-data-in' type='checkbox'><label for='data-42ab98e7-c339-4bc1-8113-0ff1e5e5d0ef' title='Show/Hide data repr'><svg class='icon xr-icon-database'><use xlink:href='#icon-database'></use></svg></label><div class='xr-var-attrs'><dl class='xr-attrs'></dl></div><div class='xr-var-data'><pre>array([-179.875, -179.625, -179.375, ...,  179.375,  179.625,  179.875],\n",
       "      dtype=float32)</pre></div></li><li class='xr-var-item'><div class='xr-var-name'><span class='xr-has-index'>lat</span></div><div class='xr-var-dims'>(lat)</div><div class='xr-var-dtype'>float32</div><div class='xr-var-preview xr-preview'>-89.88 -89.62 ... 89.62 89.88</div><input id='attrs-5d2559aa-29b5-4065-a8da-a42262f8e66d' class='xr-var-attrs-in' type='checkbox' disabled><label for='attrs-5d2559aa-29b5-4065-a8da-a42262f8e66d' title='Show/Hide attributes'><svg class='icon xr-icon-file-text2'><use xlink:href='#icon-file-text2'></use></svg></label><input id='data-fc02a3d3-06ff-42a0-a2e6-726ba486787a' class='xr-var-data-in' type='checkbox'><label for='data-fc02a3d3-06ff-42a0-a2e6-726ba486787a' title='Show/Hide data repr'><svg class='icon xr-icon-database'><use xlink:href='#icon-database'></use></svg></label><div class='xr-var-attrs'><dl class='xr-attrs'></dl></div><div class='xr-var-data'><pre>array([-89.875, -89.625, -89.375, ...,  89.375,  89.625,  89.875],\n",
       "      dtype=float32)</pre></div></li><li class='xr-var-item'><div class='xr-var-name'><span class='xr-has-index'>time</span></div><div class='xr-var-dims'>(time)</div><div class='xr-var-dtype'>datetime64[ns]</div><div class='xr-var-preview xr-preview'>1998-01-01 ... 2022-12-27</div><input id='attrs-f3f53bda-2c5b-4392-a48e-03f1ddfef884' class='xr-var-attrs-in' type='checkbox' disabled><label for='attrs-f3f53bda-2c5b-4392-a48e-03f1ddfef884' title='Show/Hide attributes'><svg class='icon xr-icon-file-text2'><use xlink:href='#icon-file-text2'></use></svg></label><input id='data-ae9c4b3a-d261-4917-8d4a-9ea15b5e414c' class='xr-var-data-in' type='checkbox'><label for='data-ae9c4b3a-d261-4917-8d4a-9ea15b5e414c' title='Show/Hide data repr'><svg class='icon xr-icon-database'><use xlink:href='#icon-database'></use></svg></label><div class='xr-var-attrs'><dl class='xr-attrs'></dl></div><div class='xr-var-data'><pre>array([&#x27;1998-01-01T00:00:00.000000000&#x27;, &#x27;1998-01-09T00:00:00.000000000&#x27;,\n",
       "       &#x27;1998-01-17T00:00:00.000000000&#x27;, ..., &#x27;2022-12-11T00:00:00.000000000&#x27;,\n",
       "       &#x27;2022-12-19T00:00:00.000000000&#x27;, &#x27;2022-12-27T00:00:00.000000000&#x27;],\n",
       "      dtype=&#x27;datetime64[ns]&#x27;)</pre></div></li></ul></div></li><li class='xr-section-item'><input id='section-0481bdff-e74d-438c-aeba-18046bd24de1' class='xr-section-summary-in' type='checkbox'  checked><label for='section-0481bdff-e74d-438c-aeba-18046bd24de1' class='xr-section-summary' >Data variables: <span>(1)</span></label><div class='xr-section-inline-details'></div><div class='xr-section-details'><ul class='xr-var-list'><li class='xr-var-item'><div class='xr-var-name'><span>CbPM</span></div><div class='xr-var-dims'>(time, lat, lon)</div><div class='xr-var-dtype'>float64</div><div class='xr-var-preview xr-preview'>...</div><input id='attrs-da9ec3d1-9dad-4655-8fe1-4861ab92001a' class='xr-var-attrs-in' type='checkbox' disabled><label for='attrs-da9ec3d1-9dad-4655-8fe1-4861ab92001a' title='Show/Hide attributes'><svg class='icon xr-icon-file-text2'><use xlink:href='#icon-file-text2'></use></svg></label><input id='data-1d480259-8790-431e-9230-ff38c97458a9' class='xr-var-data-in' type='checkbox'><label for='data-1d480259-8790-431e-9230-ff38c97458a9' title='Show/Hide data repr'><svg class='icon xr-icon-database'><use xlink:href='#icon-database'></use></svg></label><div class='xr-var-attrs'><dl class='xr-attrs'></dl></div><div class='xr-var-data'><pre>[1192320000 values with dtype=float64]</pre></div></li></ul></div></li><li class='xr-section-item'><input id='section-a0d116aa-3908-4bb4-a1ac-5a7b97a67ec2' class='xr-section-summary-in' type='checkbox'  ><label for='section-a0d116aa-3908-4bb4-a1ac-5a7b97a67ec2' class='xr-section-summary' >Indexes: <span>(3)</span></label><div class='xr-section-inline-details'></div><div class='xr-section-details'><ul class='xr-var-list'><li class='xr-var-item'><div class='xr-index-name'><div>lon</div></div><div class='xr-index-preview'>PandasIndex</div><input type='checkbox' disabled/><label></label><input id='index-97e5f884-f2f3-4741-9d6d-9a29a6f0821a' class='xr-index-data-in' type='checkbox'/><label for='index-97e5f884-f2f3-4741-9d6d-9a29a6f0821a' title='Show/Hide index repr'><svg class='icon xr-icon-database'><use xlink:href='#icon-database'></use></svg></label><div class='xr-index-data'><pre>PandasIndex(Index([-179.875, -179.625, -179.375, -179.125, -178.875, -178.625, -178.375,\n",
       "       -178.125, -177.875, -177.625,\n",
       "       ...\n",
       "        177.625,  177.875,  178.125,  178.375,  178.625,  178.875,  179.125,\n",
       "        179.375,  179.625,  179.875],\n",
       "      dtype=&#x27;float32&#x27;, name=&#x27;lon&#x27;, length=1440))</pre></div></li><li class='xr-var-item'><div class='xr-index-name'><div>lat</div></div><div class='xr-index-preview'>PandasIndex</div><input type='checkbox' disabled/><label></label><input id='index-a521922c-28a0-490e-b0c3-dfb8015ce335' class='xr-index-data-in' type='checkbox'/><label for='index-a521922c-28a0-490e-b0c3-dfb8015ce335' title='Show/Hide index repr'><svg class='icon xr-icon-database'><use xlink:href='#icon-database'></use></svg></label><div class='xr-index-data'><pre>PandasIndex(Index([-89.875, -89.625, -89.375, -89.125, -88.875, -88.625, -88.375, -88.125,\n",
       "       -87.875, -87.625,\n",
       "       ...\n",
       "        87.625,  87.875,  88.125,  88.375,  88.625,  88.875,  89.125,  89.375,\n",
       "        89.625,  89.875],\n",
       "      dtype=&#x27;float32&#x27;, name=&#x27;lat&#x27;, length=720))</pre></div></li><li class='xr-var-item'><div class='xr-index-name'><div>time</div></div><div class='xr-index-preview'>PandasIndex</div><input type='checkbox' disabled/><label></label><input id='index-8c5c0932-ee1d-41ad-ba0f-a4007242551a' class='xr-index-data-in' type='checkbox'/><label for='index-8c5c0932-ee1d-41ad-ba0f-a4007242551a' title='Show/Hide index repr'><svg class='icon xr-icon-database'><use xlink:href='#icon-database'></use></svg></label><div class='xr-index-data'><pre>PandasIndex(DatetimeIndex([&#x27;1998-01-01&#x27;, &#x27;1998-01-09&#x27;, &#x27;1998-01-17&#x27;, &#x27;1998-01-25&#x27;,\n",
       "               &#x27;1998-02-02&#x27;, &#x27;1998-02-10&#x27;, &#x27;1998-02-18&#x27;, &#x27;1998-02-26&#x27;,\n",
       "               &#x27;1998-03-06&#x27;, &#x27;1998-03-14&#x27;,\n",
       "               ...\n",
       "               &#x27;2022-10-16&#x27;, &#x27;2022-10-24&#x27;, &#x27;2022-11-01&#x27;, &#x27;2022-11-09&#x27;,\n",
       "               &#x27;2022-11-17&#x27;, &#x27;2022-11-25&#x27;, &#x27;2022-12-03&#x27;, &#x27;2022-12-11&#x27;,\n",
       "               &#x27;2022-12-19&#x27;, &#x27;2022-12-27&#x27;],\n",
       "              dtype=&#x27;datetime64[ns]&#x27;, name=&#x27;time&#x27;, length=1150, freq=None))</pre></div></li></ul></div></li><li class='xr-section-item'><input id='section-af9ae1d1-a755-4a06-a8be-7a65e433127c' class='xr-section-summary-in' type='checkbox' disabled ><label for='section-af9ae1d1-a755-4a06-a8be-7a65e433127c' class='xr-section-summary'  title='Expand/collapse section'>Attributes: <span>(0)</span></label><div class='xr-section-inline-details'></div><div class='xr-section-details'><dl class='xr-attrs'></dl></div></li></ul></div></div>"
      ],
      "text/plain": [
       "<xarray.Dataset> Size: 10GB\n",
       "Dimensions:  (time: 1150, lat: 720, lon: 1440)\n",
       "Coordinates:\n",
       "  * lon      (lon) float32 6kB -179.9 -179.6 -179.4 -179.1 ... 179.4 179.6 179.9\n",
       "  * lat      (lat) float32 3kB -89.88 -89.62 -89.38 -89.12 ... 89.38 89.62 89.88\n",
       "  * time     (time) datetime64[ns] 9kB 1998-01-01 1998-01-09 ... 2022-12-27\n",
       "Data variables:\n",
       "    CbPM     (time, lat, lon) float64 10GB ..."
      ]
     },
     "execution_count": 12,
     "metadata": {},
     "output_type": "execute_result"
    }
   ],
   "source": [
    "ds_behr"
   ]
  },
  {
   "cell_type": "code",
   "execution_count": 13,
   "id": "2e9de43a",
   "metadata": {},
   "outputs": [],
   "source": [
    "# Select Area of Papa station + time 1998-2020 to be consistent with other forcings\n",
    "ds_behr_papa = ds_behr.sel(\n",
    "    lat=slice(48.5, 50.5),  \n",
    "    lon=slice(-130.5, -128.5),\n",
    "    time=slice(\"1998\", \"2020\"),\n",
    ")\n",
    "# Spatial mean\n",
    "ds_behr_papa=ds_behr_papa.mean(dim=['lon','lat'],skipna=True)"
   ]
  },
  {
   "cell_type": "markdown",
   "id": "26e8a38a",
   "metadata": {},
   "source": [
    "<div class=\"alert alert-danger\">\n",
    "    <strong>Warning :</strong> Data every 8 days; For leap years, from march one day difference \n",
    "</div>"
   ]
  },
  {
   "cell_type": "code",
   "execution_count": 14,
   "id": "1eee3ce9",
   "metadata": {},
   "outputs": [],
   "source": [
    "# Temporal Median\n",
    "n_periods = 46  # 8-day resolution over 365 days\n",
    "\n",
    "# create 8 days period index\n",
    "period_index = np.tile(np.arange(n_periods), int(len(ds_behr_papa.time) / n_periods) + 1)[:len(ds_behr_papa.time)]\n",
    "ds_behr_papa = ds_behr_papa.assign_coords(period_8d=(\"time\", period_index))\n",
    "\n",
    "# Compute 8_day climatology\n",
    "clim_8d_behr = ds_behr_papa.groupby(\"period_8d\").median(\"time\", skipna=True)\n",
    "\n",
    "# Rename each group 0 45 (group of 8 days) into day in the year (1 -365)\n",
    "day_of_year = [1 + i * 8 for i in range(46)]\n",
    "\n",
    "# check dims\n",
    "clim_8d_behr = clim_8d_behr.assign_coords(day_of_year=(\"period_8d\", day_of_year))\n",
    "\n",
    "# Rename dims\n",
    "clim_8d_behr = clim_8d_behr.swap_dims({\"period_8d\": \"day_of_year\"}).drop_vars(\"period_8d\")"
   ]
  },
  {
   "cell_type": "code",
   "execution_count": 15,
   "id": "741d3112",
   "metadata": {},
   "outputs": [
    {
     "data": {
      "text/html": [
       "<div><svg style=\"position: absolute; width: 0; height: 0; overflow: hidden\">\n",
       "<defs>\n",
       "<symbol id=\"icon-database\" viewBox=\"0 0 32 32\">\n",
       "<path d=\"M16 0c-8.837 0-16 2.239-16 5v4c0 2.761 7.163 5 16 5s16-2.239 16-5v-4c0-2.761-7.163-5-16-5z\"></path>\n",
       "<path d=\"M16 17c-8.837 0-16-2.239-16-5v6c0 2.761 7.163 5 16 5s16-2.239 16-5v-6c0 2.761-7.163 5-16 5z\"></path>\n",
       "<path d=\"M16 26c-8.837 0-16-2.239-16-5v6c0 2.761 7.163 5 16 5s16-2.239 16-5v-6c0 2.761-7.163 5-16 5z\"></path>\n",
       "</symbol>\n",
       "<symbol id=\"icon-file-text2\" viewBox=\"0 0 32 32\">\n",
       "<path d=\"M28.681 7.159c-0.694-0.947-1.662-2.053-2.724-3.116s-2.169-2.030-3.116-2.724c-1.612-1.182-2.393-1.319-2.841-1.319h-15.5c-1.378 0-2.5 1.121-2.5 2.5v27c0 1.378 1.122 2.5 2.5 2.5h23c1.378 0 2.5-1.122 2.5-2.5v-19.5c0-0.448-0.137-1.23-1.319-2.841zM24.543 5.457c0.959 0.959 1.712 1.825 2.268 2.543h-4.811v-4.811c0.718 0.556 1.584 1.309 2.543 2.268zM28 29.5c0 0.271-0.229 0.5-0.5 0.5h-23c-0.271 0-0.5-0.229-0.5-0.5v-27c0-0.271 0.229-0.5 0.5-0.5 0 0 15.499-0 15.5 0v7c0 0.552 0.448 1 1 1h7v19.5z\"></path>\n",
       "<path d=\"M23 26h-14c-0.552 0-1-0.448-1-1s0.448-1 1-1h14c0.552 0 1 0.448 1 1s-0.448 1-1 1z\"></path>\n",
       "<path d=\"M23 22h-14c-0.552 0-1-0.448-1-1s0.448-1 1-1h14c0.552 0 1 0.448 1 1s-0.448 1-1 1z\"></path>\n",
       "<path d=\"M23 18h-14c-0.552 0-1-0.448-1-1s0.448-1 1-1h14c0.552 0 1 0.448 1 1s-0.448 1-1 1z\"></path>\n",
       "</symbol>\n",
       "</defs>\n",
       "</svg>\n",
       "<style>/* CSS stylesheet for displaying xarray objects in jupyterlab.\n",
       " *\n",
       " */\n",
       "\n",
       ":root {\n",
       "  --xr-font-color0: var(--jp-content-font-color0, rgba(0, 0, 0, 1));\n",
       "  --xr-font-color2: var(--jp-content-font-color2, rgba(0, 0, 0, 0.54));\n",
       "  --xr-font-color3: var(--jp-content-font-color3, rgba(0, 0, 0, 0.38));\n",
       "  --xr-border-color: var(--jp-border-color2, #e0e0e0);\n",
       "  --xr-disabled-color: var(--jp-layout-color3, #bdbdbd);\n",
       "  --xr-background-color: var(--jp-layout-color0, white);\n",
       "  --xr-background-color-row-even: var(--jp-layout-color1, white);\n",
       "  --xr-background-color-row-odd: var(--jp-layout-color2, #eeeeee);\n",
       "}\n",
       "\n",
       "html[theme=\"dark\"],\n",
       "html[data-theme=\"dark\"],\n",
       "body[data-theme=\"dark\"],\n",
       "body.vscode-dark {\n",
       "  --xr-font-color0: rgba(255, 255, 255, 1);\n",
       "  --xr-font-color2: rgba(255, 255, 255, 0.54);\n",
       "  --xr-font-color3: rgba(255, 255, 255, 0.38);\n",
       "  --xr-border-color: #1f1f1f;\n",
       "  --xr-disabled-color: #515151;\n",
       "  --xr-background-color: #111111;\n",
       "  --xr-background-color-row-even: #111111;\n",
       "  --xr-background-color-row-odd: #313131;\n",
       "}\n",
       "\n",
       ".xr-wrap {\n",
       "  display: block !important;\n",
       "  min-width: 300px;\n",
       "  max-width: 700px;\n",
       "}\n",
       "\n",
       ".xr-text-repr-fallback {\n",
       "  /* fallback to plain text repr when CSS is not injected (untrusted notebook) */\n",
       "  display: none;\n",
       "}\n",
       "\n",
       ".xr-header {\n",
       "  padding-top: 6px;\n",
       "  padding-bottom: 6px;\n",
       "  margin-bottom: 4px;\n",
       "  border-bottom: solid 1px var(--xr-border-color);\n",
       "}\n",
       "\n",
       ".xr-header > div,\n",
       ".xr-header > ul {\n",
       "  display: inline;\n",
       "  margin-top: 0;\n",
       "  margin-bottom: 0;\n",
       "}\n",
       "\n",
       ".xr-obj-type,\n",
       ".xr-array-name {\n",
       "  margin-left: 2px;\n",
       "  margin-right: 10px;\n",
       "}\n",
       "\n",
       ".xr-obj-type {\n",
       "  color: var(--xr-font-color2);\n",
       "}\n",
       "\n",
       ".xr-sections {\n",
       "  padding-left: 0 !important;\n",
       "  display: grid;\n",
       "  grid-template-columns: 150px auto auto 1fr 0 20px 0 20px;\n",
       "}\n",
       "\n",
       ".xr-section-item {\n",
       "  display: contents;\n",
       "}\n",
       "\n",
       ".xr-section-item input {\n",
       "  display: inline-block;\n",
       "  opacity: 0;\n",
       "  height: 0;\n",
       "}\n",
       "\n",
       ".xr-section-item input + label {\n",
       "  color: var(--xr-disabled-color);\n",
       "}\n",
       "\n",
       ".xr-section-item input:enabled + label {\n",
       "  cursor: pointer;\n",
       "  color: var(--xr-font-color2);\n",
       "}\n",
       "\n",
       ".xr-section-item input:focus + label {\n",
       "  border: 2px solid var(--xr-font-color0);\n",
       "}\n",
       "\n",
       ".xr-section-item input:enabled + label:hover {\n",
       "  color: var(--xr-font-color0);\n",
       "}\n",
       "\n",
       ".xr-section-summary {\n",
       "  grid-column: 1;\n",
       "  color: var(--xr-font-color2);\n",
       "  font-weight: 500;\n",
       "}\n",
       "\n",
       ".xr-section-summary > span {\n",
       "  display: inline-block;\n",
       "  padding-left: 0.5em;\n",
       "}\n",
       "\n",
       ".xr-section-summary-in:disabled + label {\n",
       "  color: var(--xr-font-color2);\n",
       "}\n",
       "\n",
       ".xr-section-summary-in + label:before {\n",
       "  display: inline-block;\n",
       "  content: \"►\";\n",
       "  font-size: 11px;\n",
       "  width: 15px;\n",
       "  text-align: center;\n",
       "}\n",
       "\n",
       ".xr-section-summary-in:disabled + label:before {\n",
       "  color: var(--xr-disabled-color);\n",
       "}\n",
       "\n",
       ".xr-section-summary-in:checked + label:before {\n",
       "  content: \"▼\";\n",
       "}\n",
       "\n",
       ".xr-section-summary-in:checked + label > span {\n",
       "  display: none;\n",
       "}\n",
       "\n",
       ".xr-section-summary,\n",
       ".xr-section-inline-details {\n",
       "  padding-top: 4px;\n",
       "  padding-bottom: 4px;\n",
       "}\n",
       "\n",
       ".xr-section-inline-details {\n",
       "  grid-column: 2 / -1;\n",
       "}\n",
       "\n",
       ".xr-section-details {\n",
       "  display: none;\n",
       "  grid-column: 1 / -1;\n",
       "  margin-bottom: 5px;\n",
       "}\n",
       "\n",
       ".xr-section-summary-in:checked ~ .xr-section-details {\n",
       "  display: contents;\n",
       "}\n",
       "\n",
       ".xr-array-wrap {\n",
       "  grid-column: 1 / -1;\n",
       "  display: grid;\n",
       "  grid-template-columns: 20px auto;\n",
       "}\n",
       "\n",
       ".xr-array-wrap > label {\n",
       "  grid-column: 1;\n",
       "  vertical-align: top;\n",
       "}\n",
       "\n",
       ".xr-preview {\n",
       "  color: var(--xr-font-color3);\n",
       "}\n",
       "\n",
       ".xr-array-preview,\n",
       ".xr-array-data {\n",
       "  padding: 0 5px !important;\n",
       "  grid-column: 2;\n",
       "}\n",
       "\n",
       ".xr-array-data,\n",
       ".xr-array-in:checked ~ .xr-array-preview {\n",
       "  display: none;\n",
       "}\n",
       "\n",
       ".xr-array-in:checked ~ .xr-array-data,\n",
       ".xr-array-preview {\n",
       "  display: inline-block;\n",
       "}\n",
       "\n",
       ".xr-dim-list {\n",
       "  display: inline-block !important;\n",
       "  list-style: none;\n",
       "  padding: 0 !important;\n",
       "  margin: 0;\n",
       "}\n",
       "\n",
       ".xr-dim-list li {\n",
       "  display: inline-block;\n",
       "  padding: 0;\n",
       "  margin: 0;\n",
       "}\n",
       "\n",
       ".xr-dim-list:before {\n",
       "  content: \"(\";\n",
       "}\n",
       "\n",
       ".xr-dim-list:after {\n",
       "  content: \")\";\n",
       "}\n",
       "\n",
       ".xr-dim-list li:not(:last-child):after {\n",
       "  content: \",\";\n",
       "  padding-right: 5px;\n",
       "}\n",
       "\n",
       ".xr-has-index {\n",
       "  font-weight: bold;\n",
       "}\n",
       "\n",
       ".xr-var-list,\n",
       ".xr-var-item {\n",
       "  display: contents;\n",
       "}\n",
       "\n",
       ".xr-var-item > div,\n",
       ".xr-var-item label,\n",
       ".xr-var-item > .xr-var-name span {\n",
       "  background-color: var(--xr-background-color-row-even);\n",
       "  margin-bottom: 0;\n",
       "}\n",
       "\n",
       ".xr-var-item > .xr-var-name:hover span {\n",
       "  padding-right: 5px;\n",
       "}\n",
       "\n",
       ".xr-var-list > li:nth-child(odd) > div,\n",
       ".xr-var-list > li:nth-child(odd) > label,\n",
       ".xr-var-list > li:nth-child(odd) > .xr-var-name span {\n",
       "  background-color: var(--xr-background-color-row-odd);\n",
       "}\n",
       "\n",
       ".xr-var-name {\n",
       "  grid-column: 1;\n",
       "}\n",
       "\n",
       ".xr-var-dims {\n",
       "  grid-column: 2;\n",
       "}\n",
       "\n",
       ".xr-var-dtype {\n",
       "  grid-column: 3;\n",
       "  text-align: right;\n",
       "  color: var(--xr-font-color2);\n",
       "}\n",
       "\n",
       ".xr-var-preview {\n",
       "  grid-column: 4;\n",
       "}\n",
       "\n",
       ".xr-index-preview {\n",
       "  grid-column: 2 / 5;\n",
       "  color: var(--xr-font-color2);\n",
       "}\n",
       "\n",
       ".xr-var-name,\n",
       ".xr-var-dims,\n",
       ".xr-var-dtype,\n",
       ".xr-preview,\n",
       ".xr-attrs dt {\n",
       "  white-space: nowrap;\n",
       "  overflow: hidden;\n",
       "  text-overflow: ellipsis;\n",
       "  padding-right: 10px;\n",
       "}\n",
       "\n",
       ".xr-var-name:hover,\n",
       ".xr-var-dims:hover,\n",
       ".xr-var-dtype:hover,\n",
       ".xr-attrs dt:hover {\n",
       "  overflow: visible;\n",
       "  width: auto;\n",
       "  z-index: 1;\n",
       "}\n",
       "\n",
       ".xr-var-attrs,\n",
       ".xr-var-data,\n",
       ".xr-index-data {\n",
       "  display: none;\n",
       "  background-color: var(--xr-background-color) !important;\n",
       "  padding-bottom: 5px !important;\n",
       "}\n",
       "\n",
       ".xr-var-attrs-in:checked ~ .xr-var-attrs,\n",
       ".xr-var-data-in:checked ~ .xr-var-data,\n",
       ".xr-index-data-in:checked ~ .xr-index-data {\n",
       "  display: block;\n",
       "}\n",
       "\n",
       ".xr-var-data > table {\n",
       "  float: right;\n",
       "}\n",
       "\n",
       ".xr-var-name span,\n",
       ".xr-var-data,\n",
       ".xr-index-name div,\n",
       ".xr-index-data,\n",
       ".xr-attrs {\n",
       "  padding-left: 25px !important;\n",
       "}\n",
       "\n",
       ".xr-attrs,\n",
       ".xr-var-attrs,\n",
       ".xr-var-data,\n",
       ".xr-index-data {\n",
       "  grid-column: 1 / -1;\n",
       "}\n",
       "\n",
       "dl.xr-attrs {\n",
       "  padding: 0;\n",
       "  margin: 0;\n",
       "  display: grid;\n",
       "  grid-template-columns: 125px auto;\n",
       "}\n",
       "\n",
       ".xr-attrs dt,\n",
       ".xr-attrs dd {\n",
       "  padding: 0;\n",
       "  margin: 0;\n",
       "  float: left;\n",
       "  padding-right: 10px;\n",
       "  width: auto;\n",
       "}\n",
       "\n",
       ".xr-attrs dt {\n",
       "  font-weight: normal;\n",
       "  grid-column: 1;\n",
       "}\n",
       "\n",
       ".xr-attrs dt:hover span {\n",
       "  display: inline-block;\n",
       "  background: var(--xr-background-color);\n",
       "  padding-right: 10px;\n",
       "}\n",
       "\n",
       ".xr-attrs dd {\n",
       "  grid-column: 2;\n",
       "  white-space: pre-wrap;\n",
       "  word-break: break-all;\n",
       "}\n",
       "\n",
       ".xr-icon-database,\n",
       ".xr-icon-file-text2,\n",
       ".xr-no-icon {\n",
       "  display: inline-block;\n",
       "  vertical-align: middle;\n",
       "  width: 1em;\n",
       "  height: 1.5em !important;\n",
       "  stroke-width: 0;\n",
       "  stroke: currentColor;\n",
       "  fill: currentColor;\n",
       "}\n",
       "</style><pre class='xr-text-repr-fallback'>&lt;xarray.Dataset&gt; Size: 736B\n",
       "Dimensions:      (day_of_year: 46)\n",
       "Coordinates:\n",
       "  * day_of_year  (day_of_year) int64 368B 1 9 17 25 33 ... 329 337 345 353 361\n",
       "Data variables:\n",
       "    CbPM         (day_of_year) float64 368B nan 148.5 187.0 ... nan nan nan</pre><div class='xr-wrap' style='display:none'><div class='xr-header'><div class='xr-obj-type'>xarray.Dataset</div></div><ul class='xr-sections'><li class='xr-section-item'><input id='section-e6993c1e-3685-453e-bd6c-baaeae3b4b16' class='xr-section-summary-in' type='checkbox' disabled ><label for='section-e6993c1e-3685-453e-bd6c-baaeae3b4b16' class='xr-section-summary'  title='Expand/collapse section'>Dimensions:</label><div class='xr-section-inline-details'><ul class='xr-dim-list'><li><span class='xr-has-index'>day_of_year</span>: 46</li></ul></div><div class='xr-section-details'></div></li><li class='xr-section-item'><input id='section-15f02315-95ea-4e0f-8e03-398bb7221a24' class='xr-section-summary-in' type='checkbox'  checked><label for='section-15f02315-95ea-4e0f-8e03-398bb7221a24' class='xr-section-summary' >Coordinates: <span>(1)</span></label><div class='xr-section-inline-details'></div><div class='xr-section-details'><ul class='xr-var-list'><li class='xr-var-item'><div class='xr-var-name'><span class='xr-has-index'>day_of_year</span></div><div class='xr-var-dims'>(day_of_year)</div><div class='xr-var-dtype'>int64</div><div class='xr-var-preview xr-preview'>1 9 17 25 33 ... 337 345 353 361</div><input id='attrs-bfdb1abd-1e29-4c71-aef2-2b464dec57db' class='xr-var-attrs-in' type='checkbox' disabled><label for='attrs-bfdb1abd-1e29-4c71-aef2-2b464dec57db' title='Show/Hide attributes'><svg class='icon xr-icon-file-text2'><use xlink:href='#icon-file-text2'></use></svg></label><input id='data-54cc0125-4ca0-4515-94d1-60e53db25983' class='xr-var-data-in' type='checkbox'><label for='data-54cc0125-4ca0-4515-94d1-60e53db25983' title='Show/Hide data repr'><svg class='icon xr-icon-database'><use xlink:href='#icon-database'></use></svg></label><div class='xr-var-attrs'><dl class='xr-attrs'></dl></div><div class='xr-var-data'><pre>array([  1,   9,  17,  25,  33,  41,  49,  57,  65,  73,  81,  89,  97, 105,\n",
       "       113, 121, 129, 137, 145, 153, 161, 169, 177, 185, 193, 201, 209, 217,\n",
       "       225, 233, 241, 249, 257, 265, 273, 281, 289, 297, 305, 313, 321, 329,\n",
       "       337, 345, 353, 361])</pre></div></li></ul></div></li><li class='xr-section-item'><input id='section-de064627-cd5e-4b83-a89f-dbd26b8db8cc' class='xr-section-summary-in' type='checkbox'  checked><label for='section-de064627-cd5e-4b83-a89f-dbd26b8db8cc' class='xr-section-summary' >Data variables: <span>(1)</span></label><div class='xr-section-inline-details'></div><div class='xr-section-details'><ul class='xr-var-list'><li class='xr-var-item'><div class='xr-var-name'><span>CbPM</span></div><div class='xr-var-dims'>(day_of_year)</div><div class='xr-var-dtype'>float64</div><div class='xr-var-preview xr-preview'>nan 148.5 187.0 ... nan nan nan</div><input id='attrs-47038790-b02a-43f4-a0b6-ef3a838d1515' class='xr-var-attrs-in' type='checkbox' disabled><label for='attrs-47038790-b02a-43f4-a0b6-ef3a838d1515' title='Show/Hide attributes'><svg class='icon xr-icon-file-text2'><use xlink:href='#icon-file-text2'></use></svg></label><input id='data-6e302ba9-b75a-421f-842f-0621bd8905ac' class='xr-var-data-in' type='checkbox'><label for='data-6e302ba9-b75a-421f-842f-0621bd8905ac' title='Show/Hide data repr'><svg class='icon xr-icon-database'><use xlink:href='#icon-database'></use></svg></label><div class='xr-var-attrs'><dl class='xr-attrs'></dl></div><div class='xr-var-data'><pre>array([          nan,  148.50723652,  187.02441225,  205.23273413,\n",
       "        254.89634118,  357.28977672,  425.91303927,  483.41359228,\n",
       "        546.92207622,  608.04041181,  699.14478376,  924.62619437,\n",
       "       1001.99303086, 1094.14799726, 1218.99239087, 1222.6129323 ,\n",
       "       1323.94761807, 1339.36849138, 1264.54478375, 1272.52818506,\n",
       "       1294.82843074, 1278.26520681, 1230.92306129, 1220.86332584,\n",
       "       1203.34798064, 1181.81278414, 1210.84007242, 1225.18121794,\n",
       "       1282.79717003, 1186.84763037, 1200.30698066, 1244.59338801,\n",
       "       1169.28249572, 1140.11208728, 1092.18237312,  912.60582319,\n",
       "        786.30048999,  643.90420643,  469.69030724,  351.88361343,\n",
       "        272.54577318,  230.67725781,           nan,           nan,\n",
       "                 nan,           nan])</pre></div></li></ul></div></li><li class='xr-section-item'><input id='section-3825170f-1763-4869-a370-b59a17c67a8a' class='xr-section-summary-in' type='checkbox'  ><label for='section-3825170f-1763-4869-a370-b59a17c67a8a' class='xr-section-summary' >Indexes: <span>(1)</span></label><div class='xr-section-inline-details'></div><div class='xr-section-details'><ul class='xr-var-list'><li class='xr-var-item'><div class='xr-index-name'><div>day_of_year</div></div><div class='xr-index-preview'>PandasIndex</div><input type='checkbox' disabled/><label></label><input id='index-0214d010-c68f-4a92-9704-bd80af9f24b4' class='xr-index-data-in' type='checkbox'/><label for='index-0214d010-c68f-4a92-9704-bd80af9f24b4' title='Show/Hide index repr'><svg class='icon xr-icon-database'><use xlink:href='#icon-database'></use></svg></label><div class='xr-index-data'><pre>PandasIndex(Index([  1,   9,  17,  25,  33,  41,  49,  57,  65,  73,  81,  89,  97, 105,\n",
       "       113, 121, 129, 137, 145, 153, 161, 169, 177, 185, 193, 201, 209, 217,\n",
       "       225, 233, 241, 249, 257, 265, 273, 281, 289, 297, 305, 313, 321, 329,\n",
       "       337, 345, 353, 361],\n",
       "      dtype=&#x27;int64&#x27;, name=&#x27;day_of_year&#x27;))</pre></div></li></ul></div></li><li class='xr-section-item'><input id='section-a7d5a0ee-6ebe-49e9-acc2-8eb5e8334afe' class='xr-section-summary-in' type='checkbox' disabled ><label for='section-a7d5a0ee-6ebe-49e9-acc2-8eb5e8334afe' class='xr-section-summary'  title='Expand/collapse section'>Attributes: <span>(0)</span></label><div class='xr-section-inline-details'></div><div class='xr-section-details'><dl class='xr-attrs'></dl></div></li></ul></div></div>"
      ],
      "text/plain": [
       "<xarray.Dataset> Size: 736B\n",
       "Dimensions:      (day_of_year: 46)\n",
       "Coordinates:\n",
       "  * day_of_year  (day_of_year) int64 368B 1 9 17 25 33 ... 329 337 345 353 361\n",
       "Data variables:\n",
       "    CbPM         (day_of_year) float64 368B nan 148.5 187.0 ... nan nan nan"
      ]
     },
     "execution_count": 15,
     "metadata": {},
     "output_type": "execute_result"
    }
   ],
   "source": [
    "clim_8d_behr"
   ]
  },
  {
   "cell_type": "code",
   "execution_count": 16,
   "id": "72832ca7",
   "metadata": {},
   "outputs": [
    {
     "data": {
      "application/vnd.plotly.v1+json": {
       "config": {
        "plotlyServerURL": "https://plot.ly"
       },
       "data": [
        {
         "line": {
          "width": 1
         },
         "mode": "lines",
         "name": "1998",
         "showlegend": true,
         "type": "scatter",
         "x": {
          "bdata": "AQAJABEAGQAhACkAMQA5AEEASQBRAFkAYQBpAHEAeQCBAIkAkQCZAKEAqQCxALkAwQDJANEA2QDhAOkA8QD5AAEBCQERARkBIQEpATEBOQFBAUkBUQFZAWEBaQE=",
          "dtype": "i2"
         },
         "y": {
          "bdata": "AAAAAAAA+P8ejBVIO5BiQH6i9XJn+WdAsOv2yQnoZ0BwhbPTKulsQHDZ6uyiVHZAAdwq8nyhd0Cc8ZQsXGaCQOobhgg7AHxAqEFfUo02ikCUfH1UyDKNQH6ybk4JcJBAPbHw9bzvkEDK6JeMlxiRQB+GQ3yPr5FA2FeiGsB9kkAbrUmugf+RQN6QaOygX5JAFlCpg47fkkC0++jG7w2TQJgFJlBQO5RAYNd2VinhlEAzd14diZOVQHKhPlBWjZVAygyXKKktlUAAuGFbG36VQHTKPHKbWZVAeT5bo+5ilEBGcldNMAuUQI4mlQds2JJAkujGsGt9kkCQRmh4m9qQQKFx6eSwvJFAUitQvTEXkUDEgXiIBTuOQAyvXl5C9o1ASAd4PL09jUCwYKnrXdmBQJymPUAFG4VAc72W3qS0fED9szk/8GxwQIBPdd+nMllAAAAAAAAA+P8AAAAAAAD4/wAAAAAAAPj/AAAAAAAA+P8=",
          "dtype": "f8"
         }
        },
        {
         "line": {
          "width": 1
         },
         "mode": "lines",
         "name": "1999",
         "showlegend": true,
         "type": "scatter",
         "x": {
          "bdata": "AQAJABEAGQAhACkAMQA5AEEASQBRAFkAYQBpAHEAeQCBAIkAkQCZAKEAqQCxALkAwQDJANEA2QDhAOkA8QD5AAEBCQERARkBIQEpATEBOQFBAUkBUQFZAWEBaQE=",
          "dtype": "i2"
         },
         "y": {
          "bdata": "AAAAAAAA+P+eClb9u/BdQCsblVz7OW5AdQRA15YZcEC86kuFkzlyQET0ivzSIm1AXaoPz5ueekBiTvx2Fb99QBTofmlgF4FA0Ay9LDbAhUCg3TXeCSuCQFgXMnIC5YxAms6EyxPSikAYTw79+8KVQEVArIBE05RAMmuGpHMak0CY61udXaGTQOCgzVV57ZRAJifI47VIlUCIQVWRLnqVQCRQTiMdTZZAVD0i+dwel0CEhXwNPr2WQL4oh5izaZpADFAPf8Q7mkB0qaYK6xWZQGhNYTsCCJdAJzhL2liClUAQH7L81ASTQFRv+ksVapRANpa+yIrAlUB249DdUlOWQE5eVlTiUpZAs9g25jx4kkBXNwXAuhCRQFSc9Lc/Y49ALyf797T2iUAESZXQOx+EQFHHFEmY9HlA6QjZNjstf0A15DB5Q096QJ8LbOYJEmNAAAAAAAAA+P8AAAAAAAD4/wAAAAAAAPj/AAAAAAAA+P8=",
          "dtype": "f8"
         }
        },
        {
         "line": {
          "width": 1
         },
         "mode": "lines",
         "name": "2000",
         "showlegend": true,
         "type": "scatter",
         "x": {
          "bdata": "AQAJABEAGQAhACkAMQA5AEEASQBRAFkAYQBpAHEAeQCBAIkAkQCZAKEAqQCxALkAwQDJANEA2QDhAOkA8QD5AAEBCQERARkBIQEpATEBOQFBAUkBUQFZAWEBaQE=",
          "dtype": "i2"
         },
         "y": {
          "bdata": "AAAAAAAA+P/nKXKdTgFtQC96viIqE2xAcPpURnnlY0DanPfb25FtQMpm+yB6inxAOBpnMiyscUBAIgCzUEd/QAGfD7gHJIBAninN3PNjfkB35vTQA72BQPipDc5MvolAHB10t8VplUBYq3zHApaWQH+sZ0LfQo5A9GDUMl9PkkDUzFvqW4SVQI4T6j0H95NA9swElYpGkkDkByINBxySQMLML1fIk5FAQqVetMSIkUBe9PD7ljKSQC6B3U+TppJATi0JVWTNkkDgHXxKQHeSQNwUIniDxJNAQOoMueKBlEB4x6PpKv+UQBhgxfb965RAqmaSl8BqlUCIfQEvZV+UQIoXj0YhRZJANG87Hkdlk0CiFF0ltTiTQM7Z5uM03JBAlVyWWJeKh0AMeBB/nxWEQK6N3CdwDoJA1Fpwwf33f0CgqvWvRFpkQNI1Zrx/+l1AAAAAAAAA+P8AAAAAAAD4/wAAAAAAAPj/AAAAAAAA+P8=",
          "dtype": "f8"
         }
        },
        {
         "line": {
          "width": 1
         },
         "mode": "lines",
         "name": "2001",
         "showlegend": true,
         "type": "scatter",
         "x": {
          "bdata": "AQAJABEAGQAhACkAMQA5AEEASQBRAFkAYQBpAHEAeQCBAIkAkQCZAKEAqQCxALkAwQDJANEA2QDhAOkA8QD5AAEBCQERARkBIQEpATEBOQFBAUkBUQFZAWEBaQE=",
          "dtype": "i2"
         },
         "y": {
          "bdata": "AAAAAAAA+P9A4TafUoZZQAh7LjGnim5AqB+UFIxhYkC4OrZUCPNzQHiNRmWUuXZAFOd05943fUBiLCbR7nB/QMg7nGehAH1AparVKNTtgEAO+U6hAXOGQEZHqlNAR41AukF8xFrWkkDILxR/5l2VQHgZnVgOIpRABoSaBL7ukUBY62Ncyq+UQGycP1UDQJVAuzpxXJP4lEDwy76A8uiUQC6HRaSbtJRAYhWRfvG1k0Bcf2ZXEwmUQOw3gX5Mi5RA53P5sLA+lUDbh/EYgk+WQIIzIzSraZZAsGSfg3J9lkAIYNLsUlSUQMPso/oJbpNAbHUIR3ahk0BkMUnE3W6VQFdBSXdqKJJAROo21LI3j0ANfV/EYvaRQI4o0Q7e4IRAGEdhEKoGg0AEU6X9wOF9QFw85JAg4XtA8hhRnSdgd0AAv1/MPmZUQAAAAAAAAPj/AAAAAAAA+P8AAAAAAAD4/wAAAAAAAPj/AAAAAAAA+P8=",
          "dtype": "f8"
         }
        },
        {
         "line": {
          "width": 1
         },
         "mode": "lines",
         "name": "2002",
         "showlegend": true,
         "type": "scatter",
         "x": {
          "bdata": "AQAJABEAGQAhACkAMQA5AEEASQBRAFkAYQBpAHEAeQCBAIkAkQCZAKEAqQCxALkAwQDJANEA2QDhAOkA8QD5AAEBCQERARkBIQEpATEBOQFBAUkBUQFZAWEBaQE=",
          "dtype": "i2"
         },
         "y": {
          "bdata": "AAAAAAAA+P8yPm8eEHppQCaJbbAKUWRAN0S1NEigbUAgdsY19v5jQLKXfqgOVHJAoFwW0nTDc0COeLs8Dt1+QO/eLh1S5XdAq3mpJJpNdECSgwWQsgB7QKSatVbQOYZAcbFzdzIRjkDGd6OlfYiQQPztaXqESpNA+OqN0qJHlUAq3eQLLqaWQNZ2jgs5+ZNAEpEdQr4pk0ClCnXV6rGVQHLuCGipVZZApChNflO4lUCjL3m7Cn6UQKRGLtvCyJNA6cIyTg4klEAltfs7RVaXQKIHosn1RplAoTgnlffhmkAw1dtJRx6ZQPot7RQBT5hAYlBe86KOlUCsqp+JFpmTQA2cXfjUJJRA7DJzygGYlEA2NVZ4246QQDwbFqEbDJNAnI0ah0GYiUDedvNCIdeJQNJhqgYjR4JA6iArxd59Y0AHp1Q5sG9nQIIrwTHUxm5AAAAAAAAA+P8AAAAAAAD4/wAAAAAAAPj/AAAAAAAA+P8=",
          "dtype": "f8"
         }
        },
        {
         "line": {
          "width": 1
         },
         "mode": "lines",
         "name": "2003",
         "showlegend": true,
         "type": "scatter",
         "x": {
          "bdata": "AQAJABEAGQAhACkAMQA5AEEASQBRAFkAYQBpAHEAeQCBAIkAkQCZAKEAqQCxALkAwQDJANEA2QDhAOkA8QD5AAEBCQERARkBIQEpATEBOQFBAUkBUQFZAWEBaQE=",
          "dtype": "i2"
         },
         "y": {
          "bdata": "AAAAAAAA+P/hzI9qj8VfQMOcM/zHYGdALKl/A14xZkDm3tAVOzBzQEchZ5KSGHBAREWepsIpd0B+uiWXdEWBQIVxonYpmoRAsiUYrRPpgkAZhZILWkd+QKDe/A0FI4dAfjVjzGTxi0C22MogMtmTQK65PeV//5tAo3FSMfGYnEColz7/oLKZQCntkM9Qp5ZAFuqp0iLelUDkP4+nETaXQMUoDgEY3ZRAgUFVMsP7lUBxevo2sTuTQIqjqlkBRY9AOGoEJ/KbikC0DlExNlWJQGn1eqszcopAcPQ3BCZ6jECS4y9SN1WMQKXpJyPVxYtAWnTxRzirikDUxfHMXB2JQGXNZWq4YItAioB/RXyZjEBCkOT/up6NQAQTdCa4PItAXGrWMumkhECYtwcI6kaHQCqQRh4uBIVAhwQUtgOWcUA1evc1zIhhQPNlMoJ+u3lAAAAAAAAA+P8AAAAAAAD4/wAAAAAAAPj/AAAAAAAA+P8=",
          "dtype": "f8"
         }
        },
        {
         "line": {
          "width": 1
         },
         "mode": "lines",
         "name": "2004",
         "showlegend": true,
         "type": "scatter",
         "x": {
          "bdata": "AQAJABEAGQAhACkAMQA5AEEASQBRAFkAYQBpAHEAeQCBAIkAkQCZAKEAqQCxALkAwQDJANEA2QDhAOkA8QD5AAEBCQERARkBIQEpATEBOQFBAUkBUQFZAWEBaQE=",
          "dtype": "i2"
         },
         "y": {
          "bdata": "AAAAAAAA+P8Kc7qtCq1rQEoKmar9CmZA/Dv2rSLgZ0A0nEb6tw1qQIlWZm9iK3ZAPNhowh4DcUDGT+8SnjZ+QGxXlGh2jn1AZuRMBXragkC8GumbY7KFQJR1Pqt5Do1A6apAymp2kkD4wTftZsOTQBhVT+7kuZRA4AVuKtFalUDbIdYWqDCVQMhzRvLJfJVA01/XctPFlECpe/eqfweWQPZ8GfcZWJRA/ghgkg/5k0DcR8bfKJ2QQJnlcGf0WIpA5NrgHVeWiUCeBMndrl+MQEJBnm8hOoxAeE5uwrk/i0A4H0qxRQqHQNRD/JCBNIVAqlGRDOWDhkBeTnpce1qJQHQu+zzseotA300eQpCajUAGDDOov0mPQNcW1GQEjYhAVnUws2Qxi0A8UabdFiWFQEhgKh13WHBACmQm5tbIakBK/VEbNPB1QOhAAKdpIYBAAAAAAAAA+P8AAAAAAAD4/wAAAAAAAPj/AAAAAAAA+P8=",
          "dtype": "f8"
         }
        },
        {
         "line": {
          "width": 1
         },
         "mode": "lines",
         "name": "2005",
         "showlegend": true,
         "type": "scatter",
         "x": {
          "bdata": "AQAJABEAGQAhACkAMQA5AEEASQBRAFkAYQBpAHEAeQCBAIkAkQCZAKEAqQCxALkAwQDJANEA2QDhAOkA8QD5AAEBCQERARkBIQEpATEBOQFBAUkBUQFZAWEBaQE=",
          "dtype": "i2"
         },
         "y": {
          "bdata": "AAAAAAAA+P9lDWPJpVxXQKIghNhTolxAaex7JFmaZEBCNjgRikB2QHZoIRkgO3pAcIoGEOQsgECozrR277xzQD8V61jglIJAxHeU/RHHikCId6QITjOJQK6IIdC+jYhAVGRXTaE4jUCSA/PcrQ2RQLuhTzX4C5NAeEBh/o/0k0DM9QAPjh+TQFz3WRiVpJJAQvuoPC8TkkBGm6mvrWSRQO4judqz3pBAA84qDMM2kEBXyooAC9+MQGuujn86O4tAj9nuvViVjECAmt3mGa6MQNJe6POCb4tAHAKUYlSHjEC5R5EJoj6LQBhC79MPC41Aas7eaKCqjEAi3Ow21eSNQBnQRiC45ZBAgAnafeIwkEBL4d04t1yOQOvmljZ1z4hAVEW52yO1gEBELL0e0OWBQDRK8tXgGntAbm1W9UiibEDWPM+WdWlpQC0X5Jyd9XhAAAAAAAAA+P8AAAAAAAD4/wAAAAAAAPj/AAAAAAAA+P8=",
          "dtype": "f8"
         }
        },
        {
         "line": {
          "width": 1
         },
         "mode": "lines",
         "name": "2006",
         "showlegend": true,
         "type": "scatter",
         "x": {
          "bdata": "AQAJABEAGQAhACkAMQA5AEEASQBRAFkAYQBpAHEAeQCBAIkAkQCZAKEAqQCxALkAwQDJANEA2QDhAOkA8QD5AAEBCQERARkBIQEpATEBOQFBAUkBUQFZAWEBaQE=",
          "dtype": "i2"
         },
         "y": {
          "bdata": "AAAAAAAA+P/FBv4YgO9BQGF93VdZ+WZASYvYjnKnaUC2dfpRLrFqQDK3ZyEKGXdAfKkfhHahcUDva1YaDnJ3QDhJ8JDjpIFAJMK6YUVRf0B+SyhaytSDQAnsKa2fXolABXL/qe+gjUDZZtgIzdCPQK7Vf3zP8JJA90ZsySQglUB+OfWoX0CXQDt/csRqzJZAlDN3XEEZlEAR6VOd9S6WQFgrXZQ80ZRA8bhDThWqlUDqhhq6msqUQKQdsAt0E5NARjR9v1P3kUB4fj2adRmSQD4IvPbFvZJAdCVPmbEulEDUpZXXdYuVQN5wxmivoZVARvvhF3vulEArxhAkvrSTQOxqpaSLeZNAV9bvo5kflUD8u74GOzqUQLZwyKtVMo9A/lJ+GwGGjED0H4teoN+DQNe1zrfHT3pAhVF+ggYNdUCOrfjU3LRxQEtFkOcPsF1AAAAAAAAA+P8AAAAAAAD4/wAAAAAAAPj/AAAAAAAA+P8=",
          "dtype": "f8"
         }
        },
        {
         "line": {
          "width": 1
         },
         "mode": "lines",
         "name": "2007",
         "showlegend": true,
         "type": "scatter",
         "x": {
          "bdata": "AQAJABEAGQAhACkAMQA5AEEASQBRAFkAYQBpAHEAeQCBAIkAkQCZAKEAqQCxALkAwQDJANEA2QDhAOkA8QD5AAEBCQERARkBIQEpATEBOQFBAUkBUQFZAWEBaQE=",
          "dtype": "i2"
         },
         "y": {
          "bdata": "AAAAAAAA+P91sUfYwEpwQCzLjSuhZ0lA19FtuCysbUASrtm2iTxlQIx2MY6Ywm5ANEeJAb7KdEAihhCvmvd0QJYBqTFqUXtAB/jAq2hMeUAqtMtrFTaAQMjMAM9MCoVAsqXDaJ9MikAV6XZWE4OQQHLTUCVUd5FAtp75E/XZkkAXM9OwmmuXQMHSTTjAr5ZAJCvnHrAimEDCpRJ1FtCXQCyCPPVmfpRA5/14W1iwlUB2d7sJqkWWQHVTUfEHypZAUFGQLwfSlUDmVQ4wpxiVQH2epx8f2JVAoFJlxmd1lEDuQZ6FlRKVQI/f0PbBaZJAPipmNmbKkECea9PJOmOSQMyLn/ZwQpNAAtBuSPyjkkBOgjnTYSCOQHtobBDyp4pAu2GmJxQOhUB1HRPfkqSAQEZxJNoJ4W1AWNQ1D1iJZUDaoNNASMpbQH5XSoa+KHVAAAAAAAAA+P8AAAAAAAD4/wAAAAAAAPj/AAAAAAAA+P8=",
          "dtype": "f8"
         }
        },
        {
         "line": {
          "width": 1
         },
         "mode": "lines",
         "name": "2008",
         "showlegend": true,
         "type": "scatter",
         "x": {
          "bdata": "AQAJABEAGQAhACkAMQA5AEEASQBRAFkAYQBpAHEAeQCBAIkAkQCZAKEAqQCxALkAwQDJANEA2QDhAOkA8QD5AAEBCQERARkBIQEpATEBOQFBAUkBUQFZAWEBaQE=",
          "dtype": "i2"
         },
         "y": {
          "bdata": "AAAAAAAA+P9rtnAmdqdhQGAugIBDe2VAcOAm4OEXZkCfdtU75mFkQAL1OJ/tlXBAbjcpwKr3dUAXIARBnc55QGAkwqUzNntAq2kQQqFwgEBEmBkpJud+QMpuLpsARYdAYKyWzzSJgUAqykJ5HVuIQK+H8so1xZBAlH9qma8SkkCS/yN4zReNQLZKo27tGpFA6+z/X23OkEC0eN5C/vaQQHfFmcz+25BAaLEiLfmukEDh6fH0hMyQQK+8WB5NZJFAkKKFwMx/k0D8NiCG+5CVQNyfHwWIqJZAKENJNlzbmUDac51+Vj2cQGpfGkeNBJpAFEQ4XjwDmkBfotgeEPmaQHK5inQzI5pA8Mf9bGlrlEAQc9/t6ZyRQJ6JGeiOTY5AnvnVlsLLg0Bd7VCRs2mFQFqImX8LW31ArQK5XcCKZEAmsf5iwM5zQAAAAAAAAPj/AAAAAAAA+P8AAAAAAAD4/wAAAAAAAPj/AAAAAAAA+P8=",
          "dtype": "f8"
         }
        },
        {
         "line": {
          "width": 1
         },
         "mode": "lines",
         "name": "2009",
         "showlegend": true,
         "type": "scatter",
         "x": {
          "bdata": "AQAJABEAGQAhACkAMQA5AEEASQBRAFkAYQBpAHEAeQCBAIkAkQCZAKEAqQCxALkAwQDJANEA2QDhAOkA8QD5AAEBCQERARkBIQEpATEBOQFBAUkBUQFZAWEBaQE=",
          "dtype": "i2"
         },
         "y": {
          "bdata": "AAAAAAAA+P/Q2ZPg1G1VQI+6910v43FA7gKXRodeaUAuhLYa/DZoQLPWwsSeT3ZA2YGzcUmZdEAew2Y8zO1zQIpLb3koyHVAFiCG3fALf0CfREtrBliDQFDa6SifaX9A+N70aZuIjUDZQrMSbgKGQAPcoXgl0JNAaA2HnQVXlUDu/JCUz8WVQMDSWIb52pZAaIAIj6aUl0D/9f2T6W2XQIgghfGjuJVAbiWpOrJKlkDysdlCO5SWQAKDkNhYgZRAGu5ZR7uukkC4MNDkJmCSQFx++CmlPJJAFkfgUJ1akkCWHeiY/maSQEjYVq5LZpFAG7HyfU3HkEDpp05rPSWQQPjiiIrlFo9A8Andl1jHkUAslhTOY5aRQCzu7dnmooRAyEX8xQx9jkDkOdhkIBiAQF8kH5gzpH1ArqLUZS14dEDcPXC3hhpaQKJdy4uvLHxAAAAAAAAA+P8AAAAAAAD4/wAAAAAAAPj/AAAAAAAA+P8=",
          "dtype": "f8"
         }
        },
        {
         "line": {
          "width": 1
         },
         "mode": "lines",
         "name": "2010",
         "showlegend": true,
         "type": "scatter",
         "x": {
          "bdata": "AQAJABEAGQAhACkAMQA5AEEASQBRAFkAYQBpAHEAeQCBAIkAkQCZAKEAqQCxALkAwQDJANEA2QDhAOkA8QD5AAEBCQERARkBIQEpATEBOQFBAUkBUQFZAWEBaQE=",
          "dtype": "i2"
         },
         "y": {
          "bdata": "AAAAAAAA+P/qCqeakbt6QIA/7e/hGmNAoaOD6WdgaEAzyiMYkYVrQOacwwAX6HhAiLr6tX8jhkAYaGQh+9uAQLC34fGJ4X5AAhtpbnhggUATdYvNB6F7QPzIIhdquoVAXJMpuvFPj0C0i1R0p+uRQG4xqrB19ZFAXYcG+SDQk0C3FlOUkgOUQGp3LTSQIpRABLvK2y3Ck0AVIP9sglqXQA/q2LFqnZdAk9BgodQBmUCK4SAsb0WZQJ1RV9mwGZlAbpxEF83emEAG2SWhbbyaQE4AyLddxJhAIB4+MUsLnUB5nY7/ATqeQMQQF8omwpxAHVkk6ndVmEAc2E/eHs+XQFtOc0dYI5dAeuiKjUrJk0DSW6iVKSuSQI7NgPnSVoZAdFZD7a7bgEC4FyYr3aB+QCKHPscpCIRA7rzLhL+tdkACz1QBcKFyQHblq5XQA29AAAAAAAAA+P8AAAAAAAD4/wAAAAAAAPj/AAAAAAAA+P8=",
          "dtype": "f8"
         }
        },
        {
         "line": {
          "width": 1
         },
         "mode": "lines",
         "name": "2011",
         "showlegend": true,
         "type": "scatter",
         "x": {
          "bdata": "AQAJABEAGQAhACkAMQA5AEEASQBRAFkAYQBpAHEAeQCBAIkAkQCZAKEAqQCxALkAwQDJANEA2QDhAOkA8QD5AAEBCQERARkBIQEpATEBOQFBAUkBUQFZAWEBaQE=",
          "dtype": "i2"
         },
         "y": {
          "bdata": "AAAAAAAA+P9bUNtnNuUwQI2qGKrC31JAVWz+dDa8ZkDEA/ZxRrJrQDo1T1dqDG9AVWqvVNNKfUBIPyEARyB8QK3uktTqWoFAmoNtw1IAg0CE7n+jIseMQJqx/1H7LItA9kvHWIZti0CgDJjXHYiUQJLk6fAKaZVA/PS+m+dTkUDOcJukVvGVQAc039Sb35ZAyI2dxZivlUCZjPfYtnqTQCjfGATI25FANhJQEh7ykUCoOeXA/Z+RQPh9wNzgqZJA3fKcTDlJkkBWYVH1E1mSQK5hSf5aGpNAaPsxkbkkk0AwOY2pniOUQEaCjwkGHpVApsPXIp2flUAYJb7+MKyVQJpiBsxJyJJATG7eHxUWjkCyDc+oAEiQQHCUjvkIJY1AJH39ETT7h0CGxttvGZGGQERvci7N4oBAVuhwwkH8cEDZw26TcXF1QBJMznJRevI/AAAAAAAA+P8AAAAAAAD4/wAAAAAAAPj/AAAAAAAA+P8=",
          "dtype": "f8"
         }
        },
        {
         "line": {
          "width": 1
         },
         "mode": "lines",
         "name": "2012",
         "showlegend": true,
         "type": "scatter",
         "x": {
          "bdata": "AQAJABEAGQAhACkAMQA5AEEASQBRAFkAYQBpAHEAeQCBAIkAkQCZAKEAqQCxALkAwQDJANEA2QDhAOkA8QD5AAEBCQERARkBIQEpATEBOQFBAUkBUQFZAWEBaQE=",
          "dtype": "i2"
         },
         "y": {
          "bdata": "AAAAAAAA+P/tKr+UXD1mQMNUkV3zSmBAjB6xMww/VkAKCKOS225sQDDkHWStqXFALcPGsZyZcECKXHXbhvlxQESxuj9iqXhAGkWetYLMgEC4WoA2WGiCQH6xKdrVyoRA11qXmYq9jEBGCbZLb2WKQM7WOg3kGIxAcLtMZPK5jkCqIzn8rXKSQKWwgc/+sZFAZDxq8s4ykUDyCE7i6vaOQNEw8J9y645AnbKXF1W2kEBahuzNmNGRQOajQWp31ZNAZKlnlOaylUDgoBqrPESVQALFGD3lZJdAqoFYRvzpl0BEVcaKum2YQGRoq148h5hAoi/K58HomUAEHRC/1lyXQFp5n/a0g5dAc3Vck9vBkUAGwaks7VCLQP5KjXdCfYJAjgAYvqwDeUAAPTcU9uR2QP1sbM00KnNA9g7WRyP+dUBTShvQItZzQHX/axXOY3ZAAAAAAAAA+P8AAAAAAAD4/wAAAAAAAPj/AAAAAAAA+P8=",
          "dtype": "f8"
         }
        },
        {
         "line": {
          "width": 1
         },
         "mode": "lines",
         "name": "2013",
         "showlegend": true,
         "type": "scatter",
         "x": {
          "bdata": "AQAJABEAGQAhACkAMQA5AEEASQBRAFkAYQBpAHEAeQCBAIkAkQCZAKEAqQCxALkAwQDJANEA2QDhAOkA8QD5AAEBCQERARkBIQEpATEBOQFBAUkBUQFZAWEBaQE=",
          "dtype": "i2"
         },
         "y": {
          "bdata": "AAAAAAAA+P9E5n3V26h3QDYc5xjJR2JA7uiW1byTa0DDZOrEDqlxQP/3AJO16ndAYx/6KDDWgEA0c6/dMFaBQFBK5ew4IINA7CBxFgMHh0BgY+XGPGORQJ34eAIqfpdAXSE3NRFmlECe7Bx5hDSWQH7TVEBW6ZpAQEOmUGqfl0DKTlR2llOVQOncnsraC5ZA8OC4q8Ssl0DEj3xEr4SYQIKkpNNjt5dA4rsAhYxwlkA3R5K64paVQEJO7LijSpRAHrpw1ZoQlUA5qkgOXCyWQDyBTtgWeZVAws9jRmmHlUCS08s4PlWUQCMQJf2Jb5JAVp4jWTrBkkBrJhuhX3KTQGKQBpSRjJNAwCPuNTnSkkCgWpyjkfaKQIDCRhWUEoxAKktjJi6EgUDLOyNFUp6HQPDBQ5OnNGtAdsgQPKfXZEC5PZlaQgReQNwKZ1UA0UhAAAAAAAAA+P8AAAAAAAD4/wAAAAAAAPj/AAAAAAAA+P8=",
          "dtype": "f8"
         }
        },
        {
         "line": {
          "width": 1
         },
         "mode": "lines",
         "name": "2014",
         "showlegend": true,
         "type": "scatter",
         "x": {
          "bdata": "AQAJABEAGQAhACkAMQA5AEEASQBRAFkAYQBpAHEAeQCBAIkAkQCZAKEAqQCxALkAwQDJANEA2QDhAOkA8QD5AAEBCQERARkBIQEpATEBOQFBAUkBUQFZAWEBaQE=",
          "dtype": "i2"
         },
         "y": {
          "bdata": "AAAAAAAA+P95OmMUxIZpQLovD8fYnXZAykqN5TRAdUA8dTCg8lB1QPyAJdaJdnRAEE/3FEUseEBixS1ay7mDQDjepyQAuolAthN0SmnPjkBhIAA85meRQNowLJosfJNA4gl+JLsSlEDGytR+qG+TQK1PB+a6XZRAyPyyzXkWlkAMguOPng+XQLMUyOTxS5lA2PKd2yYAnEDitYKPaL2bQJ5Aer5gD5tAh39HEoU8mEAG8poZUC+YQAR0wSCV1pdACV3s4w3rlkBCKN5dIruUQIR+8Ttc65JAfo+e/QWvkUD8SX1JcYeSQOikg2nrXZJAEnClrkVxkkD4FKhhFMOQQEQWV0tTq45Ao7IkZypcikASbA6WLBCKQEKl1LnYhIxAiJlLZ2eSiEBLd5uCcu2KQIrvumidvHtAJTa5jdU0hkBIyc0kYmZwQHesYIUxImtAAAAAAAAA+P8AAAAAAAD4/wAAAAAAAPj/AAAAAAAA+P8=",
          "dtype": "f8"
         }
        },
        {
         "line": {
          "width": 1
         },
         "mode": "lines",
         "name": "2015",
         "showlegend": true,
         "type": "scatter",
         "x": {
          "bdata": "AQAJABEAGQAhACkAMQA5AEEASQBRAFkAYQBpAHEAeQCBAIkAkQCZAKEAqQCxALkAwQDJANEA2QDhAOkA8QD5AAEBCQERARkBIQEpATEBOQFBAUkBUQFZAWEBaQE=",
          "dtype": "i2"
         },
         "y": {
          "bdata": "AAAAAAAA+P96wJ+UnNpQQBb694F0ZllAFaz79my5cUCRKhJ/K755QF5a4QpXL4JA0u3caphWgEAscQ1A/Sx7QHb7svbVAYVAIKrEzMz7i0AopfYO3oGHQKCdrKVnypFAoT/s8WYwlEBmjVp/o5KUQCWzjH+J2JNAqtODGZ5ClUAkmyJ/e5STQMgRl5j9FJFAVrqqNCxokECFve6Vj9aOQJyUdn2EUYxAbW44/gU6jECvOVzMu8eLQJm79iDasIlAdmh6xkxcikD8PKxqfIqIQB4VAYMavIhAArq6n2grh0CYiPxj14qJQK25cxEfv4lAV9XO7QmziUD7UFhSXi+JQAT2Ss2aUolARuT3V1FHiUBzWysLJN+IQPxpKoLAG4dAZA7PSbTzh0BGmPwaQyaBQGkzNS7pP4VAGteU0a+4e0DMllOk9nJ9QGRkbHVY54BAAAAAAAAA+P8AAAAAAAD4/wAAAAAAAPj/AAAAAAAA+P8=",
          "dtype": "f8"
         }
        },
        {
         "line": {
          "width": 1
         },
         "mode": "lines",
         "name": "2016",
         "showlegend": true,
         "type": "scatter",
         "x": {
          "bdata": "AQAJABEAGQAhACkAMQA5AEEASQBRAFkAYQBpAHEAeQCBAIkAkQCZAKEAqQCxALkAwQDJANEA2QDhAOkA8QD5AAEBCQERARkBIQEpATEBOQFBAUkBUQFZAWEBaQE=",
          "dtype": "i2"
         },
         "y": {
          "bdata": "AAAAAAAA+P8KBLPQrtJyQKIw4To9HnRACjAoYa0CcUAInrTTrtxvQCAuB4pos3NAtvqSNnTDe0DPYkVb09t7QA7pFvRvr4ZAUrtqAhgyi0BJ9I/5/6uOQPTswLI/8pBACEzL7Ka1kUA7mBGKfteTQNYBruGqNpVA6Qkc9i+Ol0DHAlsomkyVQNrXrt0755VAxEB2iBrIkkAiVnYo6siRQKC8Tj9Y8pBA+oy5aGxxkEB5OX24MYSQQKh7edA2UI9A62wX33D3j0Do6zzD+Z2QQJkl4nImcpFAFXV48djakUCvIxMgjICSQD49N/lji5JAaFFALtVtkkBsRY7+eTOSQC3r35hpN5JAOAkCx3LQkUDw37yG496RQDanP+dgeJJAbg+xP5QCj0C6B22gdtSGQIz4iirJbHZA7H2WpxNYd0A1G6h8uwhxQLovkBis1WxAAAAAAAAA+P8AAAAAAAD4/wAAAAAAAPj/AAAAAAAA+P8=",
          "dtype": "f8"
         }
        },
        {
         "line": {
          "width": 1
         },
         "mode": "lines",
         "name": "2017",
         "showlegend": true,
         "type": "scatter",
         "x": {
          "bdata": "AQAJABEAGQAhACkAMQA5AEEASQBRAFkAYQBpAHEAeQCBAIkAkQCZAKEAqQCxALkAwQDJANEA2QDhAOkA8QD5AAEBCQERARkBIQEpATEBOQFBAUkBUQFZAWEBaQE=",
          "dtype": "i2"
         },
         "y": {
          "bdata": "AAAAAAAA+P/qrcGFp6tFQHqf+7UiFHJAIvInbqIRdECE1dgXCY10QByLiDGMI3dAd6ULCdBnh0AMbPQ0ZIuBQNTt/Ysb2HxAv+nHruF0g0Bk12OEKNmFQGQgxjP3AI1ARPtoOTrHjkDIoD3w8KWQQAw5EI94PZBAexOjok+Dj0DJuJVx0GySQD7IPJW9MpVAauboLwyWlEAtDYvcHOKTQOd+xy/mnZBAFD+hH5bRj0Bexe3DD26NQBJ8oRR16ItAkarSUNcoikCVAGRa2nqKQHogM5ar8o9AagFXfuzIjkBeVICn4rWPQNeY98NLp4tAEC8wgaL6ikChSAMypBuLQC2OOUm684xAljvSWZvni0CgOrZktRGSQAqa3ss8R4xA+PVOfILViUBf7i+hWfSOQLBBFmD3j3xA7JgZRUACdECcqQKn9NprQLBNz6tozVJAAAAAAAAA+P8AAAAAAAD4/wAAAAAAAPj/AAAAAAAA+P8=",
          "dtype": "f8"
         }
        },
        {
         "line": {
          "width": 1
         },
         "mode": "lines",
         "name": "2018",
         "showlegend": true,
         "type": "scatter",
         "x": {
          "bdata": "AQAJABEAGQAhACkAMQA5AEEASQBRAFkAYQBpAHEAeQCBAIkAkQCZAKEAqQCxALkAwQDJANEA2QDhAOkA8QD5AAEBCQERARkBIQEpATEBOQFBAUkBUQFZAWEBaQE=",
          "dtype": "i2"
         },
         "y": {
          "bdata": "AAAAAAAA+P9FDlUIfPd1QKSDxQX5N2xAmkFMGntLc0Bq6gPOoF13QIy/pJSdfH9AfHyERKE1g0A1JbCAShyEQLru2zXcn4FAvNXE1gXYhEC94oNczM2PQNEZj1cED5FAOgT9whijk0BbvycQsoePQLVi4dhQ0ZFAj6i4hjMhkkBiEObZn7KSQEJr7oYY9ZBA1Rg1gj1OkEAyM9U+UkGQQKOAn6ecFZBA1BnH7ORBjkDqmLUqiwaMQCPGAR1n/4lA+rsxJkFpjUCxeEHGsK6PQHbYM1bDBJFA7ltsnEwDkkBYlIgdDOaUQFcJ7Sd/hplAi4G7W701m0Bymx8soDmbQAwAhTpT7ZlAn1+w1I5TmkAkUOmbUHiTQCvRbm9Sm5VACq44nEdhkkBsj9UTCpqDQOxnpmK0eIJAVmBjqH1bd0CPMKP6PLd6QL+0fSZDM1VAAAAAAAAA+P8AAAAAAAD4/wAAAAAAAPj/AAAAAAAA+P8=",
          "dtype": "f8"
         }
        },
        {
         "line": {
          "width": 1
         },
         "mode": "lines",
         "name": "2019",
         "showlegend": true,
         "type": "scatter",
         "x": {
          "bdata": "AQAJABEAGQAhACkAMQA5AEEASQBRAFkAYQBpAHEAeQCBAIkAkQCZAKEAqQCxALkAwQDJANEA2QDhAOkA8QD5AAEBCQERARkBIQEpATEBOQFBAUkBUQFZAWEBaQE=",
          "dtype": "i2"
         },
         "y": {
          "bdata": "AAAAAAAA+P9I4EaTR5VzQNSK6eojM3FAaINAegdNfkBCNWDGF4N7QG7KrRt5XXdAodMGnV0jg0A36eDuP3OEQDk22LohxIVAIs0BbEUHjkDylae/Z6mTQJoKkbHJD5RA2bTv1Y/ZkUAgh+aDVqyPQCh52kqah5FAVQsCz9+/kUDjZ84Boz+RQEW3GXKP15BApQWO+hAekEBkHbLTLRmPQGwhPaSJZI5A/rKXxASojEAMPrmSmnyLQAlXGVqSPIpAbZsDsGSAikA6fDMfXs2KQD/JGPGQu4tAgjMOjnPXi0BWANxGwHWNQK0A2H1vR45AjK09PyHIjUD6JZDWJnCOQBRWDIiZ8pFApjQNMW8LlkBBhn9yQOqUQMt2KkT8YpNAYZ1Vv2FcjUAfucl6jiORQE66njiLkYhAxgEkE6DadkDuNA/prfl9QHRCtKN6h3NAAAAAAAAA+P8AAAAAAAD4/wAAAAAAAPj/AAAAAAAA+P8=",
          "dtype": "f8"
         }
        },
        {
         "line": {
          "width": 1
         },
         "mode": "lines",
         "name": "2020",
         "showlegend": true,
         "type": "scatter",
         "x": {
          "bdata": "AQAJABEAGQAhACkAMQA5AEEASQBRAFkAYQBpAHEAeQCBAIkAkQCZAKEAqQCxALkAwQDJANEA2QDhAOkA8QD5AAEBCQERARkBIQEpATEBOQFBAUkBUQFZAWEBaQE=",
          "dtype": "i2"
         },
         "y": {
          "bdata": "AAAAAAAA+P/8fEgI/AFgQLkyiAd1bHJA70IIi0tOcUDuJwPjW1l2QJ6NGIdr1HhAvxmJwlOfekAgXbDQR2x7QDRO6uimgIZAmwcJNshYi0CsHJTA55GQQG5TzkaMFZNA6jZz+9ORk0Ac4QSeJR2QQD/9VdWFHIxAR+v7xTfGiEB40ybV8byJQOxv242KLItAf/9Cb3ebjUCicTCzL+aPQBP0Pc8V6pFAtoIc3FkIlEC/b7oQegyXQJQ42Hytj5dAIZdZkyFylkDH435V9EeTQC8G7Y882pFAJp+uG3UVkUBsXFM0SDuRQFD3sHJZhJFA9E9uE3r9kkB6zs536a+UQBKx3uzT5pRAilcOusCgk0AdfD8P6BeUQEKQvnyVlpFAehuHEOzLi0CNtpgVSaOIQJgZLTvKlYJAYd+FaZQ+ekDuC/tTiTJxQO92TY+0fmJAAAAAAAAA+P8AAAAAAAD4/wAAAAAAAPj/AAAAAAAA+P8=",
          "dtype": "f8"
         }
        },
        {
         "line": {
          "color": "black",
          "width": 2
         },
         "mode": "lines",
         "name": "Median",
         "type": "scatter",
         "x": {
          "bdata": "AQAJABEAGQAhACkAMQA5AEEASQBRAFkAYQBpAHEAeQCBAIkAkQCZAKEAqQCxALkAwQDJANEA2QDhAOkA8QD5AAEBCQERARkBIQEpATEBOQFBAUkBUQFZAWEBaQE=",
          "dtype": "i2"
         },
         "y": {
          "bdata": "AAAAAAAA+P8ejBVIO5BiQMOcM/zHYGdASYvYjnKnaUAInrTTrtxvQHDZ6uyiVHZAXaoPz5ueekDGT+8SnjZ+QBTofmlgF4FAmoNtw1IAg0Bk12OEKNmFQFgXMnIC5YxAXJMpuvFPj0DK6JeMlxiRQLuhTzX4C5NAMmuGpHMak0BY62Ncyq+UQOCgzVV57ZRABLvK2y3Ck0AtDYvcHOKTQJgFJlBQO5RA/ghgkg/5k0Bxevo2sTuTQKQdsAt0E5NATi0JVWTNkkDgHXxKQHeSQIR+8Ttc65JAaPsxkbkkk0BGcldNMAuUQD49N/lji5JAVp4jWTrBkkBrJhuhX3KTQIoXj0YhRZJAOAkCx3LQkUBXNwXAuhCRQEKl1LnYhIxAiJlLZ2eSiEAESZXQOx+EQFqImX8LW31A9g7WRyP+dUA1G6h8uwhxQLovkBis1WxAAAAAAAAA+P8AAAAAAAD4/wAAAAAAAPj/AAAAAAAA+P8=",
          "dtype": "f8"
         }
        }
       ],
       "layout": {
        "template": {
         "data": {
          "bar": [
           {
            "error_x": {
             "color": "#2a3f5f"
            },
            "error_y": {
             "color": "#2a3f5f"
            },
            "marker": {
             "line": {
              "color": "white",
              "width": 0.5
             },
             "pattern": {
              "fillmode": "overlay",
              "size": 10,
              "solidity": 0.2
             }
            },
            "type": "bar"
           }
          ],
          "barpolar": [
           {
            "marker": {
             "line": {
              "color": "white",
              "width": 0.5
             },
             "pattern": {
              "fillmode": "overlay",
              "size": 10,
              "solidity": 0.2
             }
            },
            "type": "barpolar"
           }
          ],
          "carpet": [
           {
            "aaxis": {
             "endlinecolor": "#2a3f5f",
             "gridcolor": "#C8D4E3",
             "linecolor": "#C8D4E3",
             "minorgridcolor": "#C8D4E3",
             "startlinecolor": "#2a3f5f"
            },
            "baxis": {
             "endlinecolor": "#2a3f5f",
             "gridcolor": "#C8D4E3",
             "linecolor": "#C8D4E3",
             "minorgridcolor": "#C8D4E3",
             "startlinecolor": "#2a3f5f"
            },
            "type": "carpet"
           }
          ],
          "choropleth": [
           {
            "colorbar": {
             "outlinewidth": 0,
             "ticks": ""
            },
            "type": "choropleth"
           }
          ],
          "contour": [
           {
            "colorbar": {
             "outlinewidth": 0,
             "ticks": ""
            },
            "colorscale": [
             [
              0,
              "#0d0887"
             ],
             [
              0.1111111111111111,
              "#46039f"
             ],
             [
              0.2222222222222222,
              "#7201a8"
             ],
             [
              0.3333333333333333,
              "#9c179e"
             ],
             [
              0.4444444444444444,
              "#bd3786"
             ],
             [
              0.5555555555555556,
              "#d8576b"
             ],
             [
              0.6666666666666666,
              "#ed7953"
             ],
             [
              0.7777777777777778,
              "#fb9f3a"
             ],
             [
              0.8888888888888888,
              "#fdca26"
             ],
             [
              1,
              "#f0f921"
             ]
            ],
            "type": "contour"
           }
          ],
          "contourcarpet": [
           {
            "colorbar": {
             "outlinewidth": 0,
             "ticks": ""
            },
            "type": "contourcarpet"
           }
          ],
          "heatmap": [
           {
            "colorbar": {
             "outlinewidth": 0,
             "ticks": ""
            },
            "colorscale": [
             [
              0,
              "#0d0887"
             ],
             [
              0.1111111111111111,
              "#46039f"
             ],
             [
              0.2222222222222222,
              "#7201a8"
             ],
             [
              0.3333333333333333,
              "#9c179e"
             ],
             [
              0.4444444444444444,
              "#bd3786"
             ],
             [
              0.5555555555555556,
              "#d8576b"
             ],
             [
              0.6666666666666666,
              "#ed7953"
             ],
             [
              0.7777777777777778,
              "#fb9f3a"
             ],
             [
              0.8888888888888888,
              "#fdca26"
             ],
             [
              1,
              "#f0f921"
             ]
            ],
            "type": "heatmap"
           }
          ],
          "histogram": [
           {
            "marker": {
             "pattern": {
              "fillmode": "overlay",
              "size": 10,
              "solidity": 0.2
             }
            },
            "type": "histogram"
           }
          ],
          "histogram2d": [
           {
            "colorbar": {
             "outlinewidth": 0,
             "ticks": ""
            },
            "colorscale": [
             [
              0,
              "#0d0887"
             ],
             [
              0.1111111111111111,
              "#46039f"
             ],
             [
              0.2222222222222222,
              "#7201a8"
             ],
             [
              0.3333333333333333,
              "#9c179e"
             ],
             [
              0.4444444444444444,
              "#bd3786"
             ],
             [
              0.5555555555555556,
              "#d8576b"
             ],
             [
              0.6666666666666666,
              "#ed7953"
             ],
             [
              0.7777777777777778,
              "#fb9f3a"
             ],
             [
              0.8888888888888888,
              "#fdca26"
             ],
             [
              1,
              "#f0f921"
             ]
            ],
            "type": "histogram2d"
           }
          ],
          "histogram2dcontour": [
           {
            "colorbar": {
             "outlinewidth": 0,
             "ticks": ""
            },
            "colorscale": [
             [
              0,
              "#0d0887"
             ],
             [
              0.1111111111111111,
              "#46039f"
             ],
             [
              0.2222222222222222,
              "#7201a8"
             ],
             [
              0.3333333333333333,
              "#9c179e"
             ],
             [
              0.4444444444444444,
              "#bd3786"
             ],
             [
              0.5555555555555556,
              "#d8576b"
             ],
             [
              0.6666666666666666,
              "#ed7953"
             ],
             [
              0.7777777777777778,
              "#fb9f3a"
             ],
             [
              0.8888888888888888,
              "#fdca26"
             ],
             [
              1,
              "#f0f921"
             ]
            ],
            "type": "histogram2dcontour"
           }
          ],
          "mesh3d": [
           {
            "colorbar": {
             "outlinewidth": 0,
             "ticks": ""
            },
            "type": "mesh3d"
           }
          ],
          "parcoords": [
           {
            "line": {
             "colorbar": {
              "outlinewidth": 0,
              "ticks": ""
             }
            },
            "type": "parcoords"
           }
          ],
          "pie": [
           {
            "automargin": true,
            "type": "pie"
           }
          ],
          "scatter": [
           {
            "fillpattern": {
             "fillmode": "overlay",
             "size": 10,
             "solidity": 0.2
            },
            "type": "scatter"
           }
          ],
          "scatter3d": [
           {
            "line": {
             "colorbar": {
              "outlinewidth": 0,
              "ticks": ""
             }
            },
            "marker": {
             "colorbar": {
              "outlinewidth": 0,
              "ticks": ""
             }
            },
            "type": "scatter3d"
           }
          ],
          "scattercarpet": [
           {
            "marker": {
             "colorbar": {
              "outlinewidth": 0,
              "ticks": ""
             }
            },
            "type": "scattercarpet"
           }
          ],
          "scattergeo": [
           {
            "marker": {
             "colorbar": {
              "outlinewidth": 0,
              "ticks": ""
             }
            },
            "type": "scattergeo"
           }
          ],
          "scattergl": [
           {
            "marker": {
             "colorbar": {
              "outlinewidth": 0,
              "ticks": ""
             }
            },
            "type": "scattergl"
           }
          ],
          "scattermap": [
           {
            "marker": {
             "colorbar": {
              "outlinewidth": 0,
              "ticks": ""
             }
            },
            "type": "scattermap"
           }
          ],
          "scattermapbox": [
           {
            "marker": {
             "colorbar": {
              "outlinewidth": 0,
              "ticks": ""
             }
            },
            "type": "scattermapbox"
           }
          ],
          "scatterpolar": [
           {
            "marker": {
             "colorbar": {
              "outlinewidth": 0,
              "ticks": ""
             }
            },
            "type": "scatterpolar"
           }
          ],
          "scatterpolargl": [
           {
            "marker": {
             "colorbar": {
              "outlinewidth": 0,
              "ticks": ""
             }
            },
            "type": "scatterpolargl"
           }
          ],
          "scatterternary": [
           {
            "marker": {
             "colorbar": {
              "outlinewidth": 0,
              "ticks": ""
             }
            },
            "type": "scatterternary"
           }
          ],
          "surface": [
           {
            "colorbar": {
             "outlinewidth": 0,
             "ticks": ""
            },
            "colorscale": [
             [
              0,
              "#0d0887"
             ],
             [
              0.1111111111111111,
              "#46039f"
             ],
             [
              0.2222222222222222,
              "#7201a8"
             ],
             [
              0.3333333333333333,
              "#9c179e"
             ],
             [
              0.4444444444444444,
              "#bd3786"
             ],
             [
              0.5555555555555556,
              "#d8576b"
             ],
             [
              0.6666666666666666,
              "#ed7953"
             ],
             [
              0.7777777777777778,
              "#fb9f3a"
             ],
             [
              0.8888888888888888,
              "#fdca26"
             ],
             [
              1,
              "#f0f921"
             ]
            ],
            "type": "surface"
           }
          ],
          "table": [
           {
            "cells": {
             "fill": {
              "color": "#EBF0F8"
             },
             "line": {
              "color": "white"
             }
            },
            "header": {
             "fill": {
              "color": "#C8D4E3"
             },
             "line": {
              "color": "white"
             }
            },
            "type": "table"
           }
          ]
         },
         "layout": {
          "annotationdefaults": {
           "arrowcolor": "#2a3f5f",
           "arrowhead": 0,
           "arrowwidth": 1
          },
          "autotypenumbers": "strict",
          "coloraxis": {
           "colorbar": {
            "outlinewidth": 0,
            "ticks": ""
           }
          },
          "colorscale": {
           "diverging": [
            [
             0,
             "#8e0152"
            ],
            [
             0.1,
             "#c51b7d"
            ],
            [
             0.2,
             "#de77ae"
            ],
            [
             0.3,
             "#f1b6da"
            ],
            [
             0.4,
             "#fde0ef"
            ],
            [
             0.5,
             "#f7f7f7"
            ],
            [
             0.6,
             "#e6f5d0"
            ],
            [
             0.7,
             "#b8e186"
            ],
            [
             0.8,
             "#7fbc41"
            ],
            [
             0.9,
             "#4d9221"
            ],
            [
             1,
             "#276419"
            ]
           ],
           "sequential": [
            [
             0,
             "#0d0887"
            ],
            [
             0.1111111111111111,
             "#46039f"
            ],
            [
             0.2222222222222222,
             "#7201a8"
            ],
            [
             0.3333333333333333,
             "#9c179e"
            ],
            [
             0.4444444444444444,
             "#bd3786"
            ],
            [
             0.5555555555555556,
             "#d8576b"
            ],
            [
             0.6666666666666666,
             "#ed7953"
            ],
            [
             0.7777777777777778,
             "#fb9f3a"
            ],
            [
             0.8888888888888888,
             "#fdca26"
            ],
            [
             1,
             "#f0f921"
            ]
           ],
           "sequentialminus": [
            [
             0,
             "#0d0887"
            ],
            [
             0.1111111111111111,
             "#46039f"
            ],
            [
             0.2222222222222222,
             "#7201a8"
            ],
            [
             0.3333333333333333,
             "#9c179e"
            ],
            [
             0.4444444444444444,
             "#bd3786"
            ],
            [
             0.5555555555555556,
             "#d8576b"
            ],
            [
             0.6666666666666666,
             "#ed7953"
            ],
            [
             0.7777777777777778,
             "#fb9f3a"
            ],
            [
             0.8888888888888888,
             "#fdca26"
            ],
            [
             1,
             "#f0f921"
            ]
           ]
          },
          "colorway": [
           "#636efa",
           "#EF553B",
           "#00cc96",
           "#ab63fa",
           "#FFA15A",
           "#19d3f3",
           "#FF6692",
           "#B6E880",
           "#FF97FF",
           "#FECB52"
          ],
          "font": {
           "color": "#2a3f5f"
          },
          "geo": {
           "bgcolor": "white",
           "lakecolor": "white",
           "landcolor": "white",
           "showlakes": true,
           "showland": true,
           "subunitcolor": "#C8D4E3"
          },
          "hoverlabel": {
           "align": "left"
          },
          "hovermode": "closest",
          "mapbox": {
           "style": "light"
          },
          "paper_bgcolor": "white",
          "plot_bgcolor": "white",
          "polar": {
           "angularaxis": {
            "gridcolor": "#EBF0F8",
            "linecolor": "#EBF0F8",
            "ticks": ""
           },
           "bgcolor": "white",
           "radialaxis": {
            "gridcolor": "#EBF0F8",
            "linecolor": "#EBF0F8",
            "ticks": ""
           }
          },
          "scene": {
           "xaxis": {
            "backgroundcolor": "white",
            "gridcolor": "#DFE8F3",
            "gridwidth": 2,
            "linecolor": "#EBF0F8",
            "showbackground": true,
            "ticks": "",
            "zerolinecolor": "#EBF0F8"
           },
           "yaxis": {
            "backgroundcolor": "white",
            "gridcolor": "#DFE8F3",
            "gridwidth": 2,
            "linecolor": "#EBF0F8",
            "showbackground": true,
            "ticks": "",
            "zerolinecolor": "#EBF0F8"
           },
           "zaxis": {
            "backgroundcolor": "white",
            "gridcolor": "#DFE8F3",
            "gridwidth": 2,
            "linecolor": "#EBF0F8",
            "showbackground": true,
            "ticks": "",
            "zerolinecolor": "#EBF0F8"
           }
          },
          "shapedefaults": {
           "line": {
            "color": "#2a3f5f"
           }
          },
          "ternary": {
           "aaxis": {
            "gridcolor": "#DFE8F3",
            "linecolor": "#A2B1C6",
            "ticks": ""
           },
           "baxis": {
            "gridcolor": "#DFE8F3",
            "linecolor": "#A2B1C6",
            "ticks": ""
           },
           "bgcolor": "white",
           "caxis": {
            "gridcolor": "#DFE8F3",
            "linecolor": "#A2B1C6",
            "ticks": ""
           }
          },
          "title": {
           "x": 0.05
          },
          "xaxis": {
           "automargin": true,
           "gridcolor": "#EBF0F8",
           "linecolor": "#EBF0F8",
           "ticks": "",
           "title": {
            "standoff": 15
           },
           "zerolinecolor": "#EBF0F8",
           "zerolinewidth": 2
          },
          "yaxis": {
           "automargin": true,
           "gridcolor": "#EBF0F8",
           "linecolor": "#EBF0F8",
           "ticks": "",
           "title": {
            "standoff": 15
           },
           "zerolinecolor": "#EBF0F8",
           "zerolinewidth": 2
          }
         }
        },
        "title": {
         "text": "8-day CbPM BEHRENFELD Primary Productivity Time Series (1998-2020) at PAPA"
        },
        "xaxis": {
         "title": {
          "text": "Day of year"
         }
        },
        "yaxis": {
         "title": {
          "text": "Primary productivity [mg C m-2 day-1]"
         }
        }
       }
      }
     },
     "metadata": {},
     "output_type": "display_data"
    }
   ],
   "source": [
    "# plot \n",
    "# Group by year\n",
    "years = pd.DatetimeIndex(ds_behr_papa.time.values).year.unique()\n",
    "\n",
    "fig = go.Figure()\n",
    "\n",
    "# Plot one line per year \n",
    "for year in years:\n",
    "    yearly_data = ds_behr_papa.sel(time=str(year))[\"CbPM\"]\n",
    "    fig.add_trace(go.Scatter(\n",
    "        x=yearly_data.time.dt.dayofyear,\n",
    "        y=yearly_data.values,\n",
    "        mode='lines',\n",
    "        line=dict(width=1),\n",
    "        name=str(year),\n",
    "        showlegend=True \n",
    "    ))\n",
    "\n",
    "# Plot climatology in black\n",
    "fig.add_trace(go.Scatter(\n",
    "    x=clim_8d_behr['day_of_year'],\n",
    "    y=clim_8d_behr['CbPM'].values,\n",
    "    mode='lines',\n",
    "    name='Median',\n",
    "    line=dict(color='black', width=2)\n",
    "))\n",
    "\n",
    "fig.update_layout(\n",
    "    title='8-day CbPM BEHRENFELD Primary Productivity Time Series (1998-2020) at PAPA',\n",
    "    xaxis_title='Day of year',\n",
    "    yaxis_title='Primary productivity [mg C m-2 day-1]',\n",
    "    template='plotly_white'\n",
    ")\n",
    "\n",
    "fig.show()\n",
    "\n"
   ]
  },
  {
   "cell_type": "markdown",
   "id": "17ea32eb",
   "metadata": {},
   "source": [
    "To have daily npp like the others forcings and to smooth the curve, lets fit the median with a Fourier serie function."
   ]
  },
  {
   "cell_type": "code",
   "execution_count": 17,
   "id": "2cd09c63",
   "metadata": {},
   "outputs": [],
   "source": [
    "from scipy.optimize import curve_fit\n",
    "\n",
    "x_date = clim_8d_behr['day_of_year'].values\n",
    "y_npp = clim_8d_behr['CbPM'].values\n",
    "\n",
    "# Remove NaNs\n",
    "mask = ~np.isnan(y_npp)\n",
    "x_clean = x_date[mask]\n",
    "y_clean = y_npp[mask]\n",
    "\n",
    "# Fourier series function (order 4)\n",
    "def fourier_series(x, *params):\n",
    "    result = params[0]  # a0\n",
    "    N = (len(params) - 1) // 2\n",
    "    for n in range(1, N + 1):\n",
    "        a = params[2 * n - 1]\n",
    "        b = params[2 * n]\n",
    "        result += a * np.cos(2 * np.pi * n * x / 365) + b * np.sin(2 * np.pi * n * x / 365)\n",
    "    return result\n",
    "\n",
    "order = 4\n",
    "initial_guess = [np.mean(y_clean)] + [0] * (order * 2) # ao mean of clim, a1, b1, .. an, bn -> 0\n",
    "\n",
    "# Fit\n",
    "params, _ = curve_fit(fourier_series, x_clean, y_clean, p0=initial_guess)\n",
    "\n",
    "# Generate daily values\n",
    "days = np.arange(365)\n",
    "behr_daily = fourier_series(days, *params)\n"
   ]
  },
  {
   "cell_type": "markdown",
   "id": "92fc867b",
   "metadata": {},
   "source": [
    "<div style=\"padding: 10px; border-radius: 5px; background-color: #cce5ff; color: #004085; border-left: 5px solid #007bff;\">\n",
    "    <strong>Note :</strong> To fit the double peak, a Fourier Serie of order 4 was used.\n",
    "</div>"
   ]
  },
  {
   "cell_type": "code",
   "execution_count": 18,
   "id": "1f3d4aa3",
   "metadata": {},
   "outputs": [
    {
     "data": {
      "application/vnd.plotly.v1+json": {
       "config": {
        "plotlyServerURL": "https://plot.ly"
       },
       "data": [
        {
         "line": {
          "width": 1
         },
         "mode": "lines",
         "name": "1998",
         "showlegend": true,
         "type": "scatter",
         "x": {
          "bdata": "AQAJABEAGQAhACkAMQA5AEEASQBRAFkAYQBpAHEAeQCBAIkAkQCZAKEAqQCxALkAwQDJANEA2QDhAOkA8QD5AAEBCQERARkBIQEpATEBOQFBAUkBUQFZAWEBaQE=",
          "dtype": "i2"
         },
         "y": {
          "bdata": "AAAAAAAA+P8ejBVIO5BiQH6i9XJn+WdAsOv2yQnoZ0BwhbPTKulsQHDZ6uyiVHZAAdwq8nyhd0Cc8ZQsXGaCQOobhgg7AHxAqEFfUo02ikCUfH1UyDKNQH6ybk4JcJBAPbHw9bzvkEDK6JeMlxiRQB+GQ3yPr5FA2FeiGsB9kkAbrUmugf+RQN6QaOygX5JAFlCpg47fkkC0++jG7w2TQJgFJlBQO5RAYNd2VinhlEAzd14diZOVQHKhPlBWjZVAygyXKKktlUAAuGFbG36VQHTKPHKbWZVAeT5bo+5ilEBGcldNMAuUQI4mlQds2JJAkujGsGt9kkCQRmh4m9qQQKFx6eSwvJFAUitQvTEXkUDEgXiIBTuOQAyvXl5C9o1ASAd4PL09jUCwYKnrXdmBQJymPUAFG4VAc72W3qS0fED9szk/8GxwQIBPdd+nMllAAAAAAAAA+P8AAAAAAAD4/wAAAAAAAPj/AAAAAAAA+P8=",
          "dtype": "f8"
         }
        },
        {
         "line": {
          "width": 1
         },
         "mode": "lines",
         "name": "1999",
         "showlegend": true,
         "type": "scatter",
         "x": {
          "bdata": "AQAJABEAGQAhACkAMQA5AEEASQBRAFkAYQBpAHEAeQCBAIkAkQCZAKEAqQCxALkAwQDJANEA2QDhAOkA8QD5AAEBCQERARkBIQEpATEBOQFBAUkBUQFZAWEBaQE=",
          "dtype": "i2"
         },
         "y": {
          "bdata": "AAAAAAAA+P+eClb9u/BdQCsblVz7OW5AdQRA15YZcEC86kuFkzlyQET0ivzSIm1AXaoPz5ueekBiTvx2Fb99QBTofmlgF4FA0Ay9LDbAhUCg3TXeCSuCQFgXMnIC5YxAms6EyxPSikAYTw79+8KVQEVArIBE05RAMmuGpHMak0CY61udXaGTQOCgzVV57ZRAJifI47VIlUCIQVWRLnqVQCRQTiMdTZZAVD0i+dwel0CEhXwNPr2WQL4oh5izaZpADFAPf8Q7mkB0qaYK6xWZQGhNYTsCCJdAJzhL2liClUAQH7L81ASTQFRv+ksVapRANpa+yIrAlUB249DdUlOWQE5eVlTiUpZAs9g25jx4kkBXNwXAuhCRQFSc9Lc/Y49ALyf797T2iUAESZXQOx+EQFHHFEmY9HlA6QjZNjstf0A15DB5Q096QJ8LbOYJEmNAAAAAAAAA+P8AAAAAAAD4/wAAAAAAAPj/AAAAAAAA+P8=",
          "dtype": "f8"
         }
        },
        {
         "line": {
          "width": 1
         },
         "mode": "lines",
         "name": "2000",
         "showlegend": true,
         "type": "scatter",
         "x": {
          "bdata": "AQAJABEAGQAhACkAMQA5AEEASQBRAFkAYQBpAHEAeQCBAIkAkQCZAKEAqQCxALkAwQDJANEA2QDhAOkA8QD5AAEBCQERARkBIQEpATEBOQFBAUkBUQFZAWEBaQE=",
          "dtype": "i2"
         },
         "y": {
          "bdata": "AAAAAAAA+P/nKXKdTgFtQC96viIqE2xAcPpURnnlY0DanPfb25FtQMpm+yB6inxAOBpnMiyscUBAIgCzUEd/QAGfD7gHJIBAninN3PNjfkB35vTQA72BQPipDc5MvolAHB10t8VplUBYq3zHApaWQH+sZ0LfQo5A9GDUMl9PkkDUzFvqW4SVQI4T6j0H95NA9swElYpGkkDkByINBxySQMLML1fIk5FAQqVetMSIkUBe9PD7ljKSQC6B3U+TppJATi0JVWTNkkDgHXxKQHeSQNwUIniDxJNAQOoMueKBlEB4x6PpKv+UQBhgxfb965RAqmaSl8BqlUCIfQEvZV+UQIoXj0YhRZJANG87Hkdlk0CiFF0ltTiTQM7Z5uM03JBAlVyWWJeKh0AMeBB/nxWEQK6N3CdwDoJA1Fpwwf33f0CgqvWvRFpkQNI1Zrx/+l1AAAAAAAAA+P8AAAAAAAD4/wAAAAAAAPj/AAAAAAAA+P8=",
          "dtype": "f8"
         }
        },
        {
         "line": {
          "width": 1
         },
         "mode": "lines",
         "name": "2001",
         "showlegend": true,
         "type": "scatter",
         "x": {
          "bdata": "AQAJABEAGQAhACkAMQA5AEEASQBRAFkAYQBpAHEAeQCBAIkAkQCZAKEAqQCxALkAwQDJANEA2QDhAOkA8QD5AAEBCQERARkBIQEpATEBOQFBAUkBUQFZAWEBaQE=",
          "dtype": "i2"
         },
         "y": {
          "bdata": "AAAAAAAA+P9A4TafUoZZQAh7LjGnim5AqB+UFIxhYkC4OrZUCPNzQHiNRmWUuXZAFOd05943fUBiLCbR7nB/QMg7nGehAH1AparVKNTtgEAO+U6hAXOGQEZHqlNAR41AukF8xFrWkkDILxR/5l2VQHgZnVgOIpRABoSaBL7ukUBY62Ncyq+UQGycP1UDQJVAuzpxXJP4lEDwy76A8uiUQC6HRaSbtJRAYhWRfvG1k0Bcf2ZXEwmUQOw3gX5Mi5RA53P5sLA+lUDbh/EYgk+WQIIzIzSraZZAsGSfg3J9lkAIYNLsUlSUQMPso/oJbpNAbHUIR3ahk0BkMUnE3W6VQFdBSXdqKJJAROo21LI3j0ANfV/EYvaRQI4o0Q7e4IRAGEdhEKoGg0AEU6X9wOF9QFw85JAg4XtA8hhRnSdgd0AAv1/MPmZUQAAAAAAAAPj/AAAAAAAA+P8AAAAAAAD4/wAAAAAAAPj/AAAAAAAA+P8=",
          "dtype": "f8"
         }
        },
        {
         "line": {
          "width": 1
         },
         "mode": "lines",
         "name": "2002",
         "showlegend": true,
         "type": "scatter",
         "x": {
          "bdata": "AQAJABEAGQAhACkAMQA5AEEASQBRAFkAYQBpAHEAeQCBAIkAkQCZAKEAqQCxALkAwQDJANEA2QDhAOkA8QD5AAEBCQERARkBIQEpATEBOQFBAUkBUQFZAWEBaQE=",
          "dtype": "i2"
         },
         "y": {
          "bdata": "AAAAAAAA+P8yPm8eEHppQCaJbbAKUWRAN0S1NEigbUAgdsY19v5jQLKXfqgOVHJAoFwW0nTDc0COeLs8Dt1+QO/eLh1S5XdAq3mpJJpNdECSgwWQsgB7QKSatVbQOYZAcbFzdzIRjkDGd6OlfYiQQPztaXqESpNA+OqN0qJHlUAq3eQLLqaWQNZ2jgs5+ZNAEpEdQr4pk0ClCnXV6rGVQHLuCGipVZZApChNflO4lUCjL3m7Cn6UQKRGLtvCyJNA6cIyTg4klEAltfs7RVaXQKIHosn1RplAoTgnlffhmkAw1dtJRx6ZQPot7RQBT5hAYlBe86KOlUCsqp+JFpmTQA2cXfjUJJRA7DJzygGYlEA2NVZ4246QQDwbFqEbDJNAnI0ah0GYiUDedvNCIdeJQNJhqgYjR4JA6iArxd59Y0AHp1Q5sG9nQIIrwTHUxm5AAAAAAAAA+P8AAAAAAAD4/wAAAAAAAPj/AAAAAAAA+P8=",
          "dtype": "f8"
         }
        },
        {
         "line": {
          "width": 1
         },
         "mode": "lines",
         "name": "2003",
         "showlegend": true,
         "type": "scatter",
         "x": {
          "bdata": "AQAJABEAGQAhACkAMQA5AEEASQBRAFkAYQBpAHEAeQCBAIkAkQCZAKEAqQCxALkAwQDJANEA2QDhAOkA8QD5AAEBCQERARkBIQEpATEBOQFBAUkBUQFZAWEBaQE=",
          "dtype": "i2"
         },
         "y": {
          "bdata": "AAAAAAAA+P/hzI9qj8VfQMOcM/zHYGdALKl/A14xZkDm3tAVOzBzQEchZ5KSGHBAREWepsIpd0B+uiWXdEWBQIVxonYpmoRAsiUYrRPpgkAZhZILWkd+QKDe/A0FI4dAfjVjzGTxi0C22MogMtmTQK65PeV//5tAo3FSMfGYnEColz7/oLKZQCntkM9Qp5ZAFuqp0iLelUDkP4+nETaXQMUoDgEY3ZRAgUFVMsP7lUBxevo2sTuTQIqjqlkBRY9AOGoEJ/KbikC0DlExNlWJQGn1eqszcopAcPQ3BCZ6jECS4y9SN1WMQKXpJyPVxYtAWnTxRzirikDUxfHMXB2JQGXNZWq4YItAioB/RXyZjEBCkOT/up6NQAQTdCa4PItAXGrWMumkhECYtwcI6kaHQCqQRh4uBIVAhwQUtgOWcUA1evc1zIhhQPNlMoJ+u3lAAAAAAAAA+P8AAAAAAAD4/wAAAAAAAPj/AAAAAAAA+P8=",
          "dtype": "f8"
         }
        },
        {
         "line": {
          "width": 1
         },
         "mode": "lines",
         "name": "2004",
         "showlegend": true,
         "type": "scatter",
         "x": {
          "bdata": "AQAJABEAGQAhACkAMQA5AEEASQBRAFkAYQBpAHEAeQCBAIkAkQCZAKEAqQCxALkAwQDJANEA2QDhAOkA8QD5AAEBCQERARkBIQEpATEBOQFBAUkBUQFZAWEBaQE=",
          "dtype": "i2"
         },
         "y": {
          "bdata": "AAAAAAAA+P8Kc7qtCq1rQEoKmar9CmZA/Dv2rSLgZ0A0nEb6tw1qQIlWZm9iK3ZAPNhowh4DcUDGT+8SnjZ+QGxXlGh2jn1AZuRMBXragkC8GumbY7KFQJR1Pqt5Do1A6apAymp2kkD4wTftZsOTQBhVT+7kuZRA4AVuKtFalUDbIdYWqDCVQMhzRvLJfJVA01/XctPFlECpe/eqfweWQPZ8GfcZWJRA/ghgkg/5k0DcR8bfKJ2QQJnlcGf0WIpA5NrgHVeWiUCeBMndrl+MQEJBnm8hOoxAeE5uwrk/i0A4H0qxRQqHQNRD/JCBNIVAqlGRDOWDhkBeTnpce1qJQHQu+zzseotA300eQpCajUAGDDOov0mPQNcW1GQEjYhAVnUws2Qxi0A8UabdFiWFQEhgKh13WHBACmQm5tbIakBK/VEbNPB1QOhAAKdpIYBAAAAAAAAA+P8AAAAAAAD4/wAAAAAAAPj/AAAAAAAA+P8=",
          "dtype": "f8"
         }
        },
        {
         "line": {
          "width": 1
         },
         "mode": "lines",
         "name": "2005",
         "showlegend": true,
         "type": "scatter",
         "x": {
          "bdata": "AQAJABEAGQAhACkAMQA5AEEASQBRAFkAYQBpAHEAeQCBAIkAkQCZAKEAqQCxALkAwQDJANEA2QDhAOkA8QD5AAEBCQERARkBIQEpATEBOQFBAUkBUQFZAWEBaQE=",
          "dtype": "i2"
         },
         "y": {
          "bdata": "AAAAAAAA+P9lDWPJpVxXQKIghNhTolxAaex7JFmaZEBCNjgRikB2QHZoIRkgO3pAcIoGEOQsgECozrR277xzQD8V61jglIJAxHeU/RHHikCId6QITjOJQK6IIdC+jYhAVGRXTaE4jUCSA/PcrQ2RQLuhTzX4C5NAeEBh/o/0k0DM9QAPjh+TQFz3WRiVpJJAQvuoPC8TkkBGm6mvrWSRQO4judqz3pBAA84qDMM2kEBXyooAC9+MQGuujn86O4tAj9nuvViVjECAmt3mGa6MQNJe6POCb4tAHAKUYlSHjEC5R5EJoj6LQBhC79MPC41Aas7eaKCqjEAi3Ow21eSNQBnQRiC45ZBAgAnafeIwkEBL4d04t1yOQOvmljZ1z4hAVEW52yO1gEBELL0e0OWBQDRK8tXgGntAbm1W9UiibEDWPM+WdWlpQC0X5Jyd9XhAAAAAAAAA+P8AAAAAAAD4/wAAAAAAAPj/AAAAAAAA+P8=",
          "dtype": "f8"
         }
        },
        {
         "line": {
          "width": 1
         },
         "mode": "lines",
         "name": "2006",
         "showlegend": true,
         "type": "scatter",
         "x": {
          "bdata": "AQAJABEAGQAhACkAMQA5AEEASQBRAFkAYQBpAHEAeQCBAIkAkQCZAKEAqQCxALkAwQDJANEA2QDhAOkA8QD5AAEBCQERARkBIQEpATEBOQFBAUkBUQFZAWEBaQE=",
          "dtype": "i2"
         },
         "y": {
          "bdata": "AAAAAAAA+P/FBv4YgO9BQGF93VdZ+WZASYvYjnKnaUC2dfpRLrFqQDK3ZyEKGXdAfKkfhHahcUDva1YaDnJ3QDhJ8JDjpIFAJMK6YUVRf0B+SyhaytSDQAnsKa2fXolABXL/qe+gjUDZZtgIzdCPQK7Vf3zP8JJA90ZsySQglUB+OfWoX0CXQDt/csRqzJZAlDN3XEEZlEAR6VOd9S6WQFgrXZQ80ZRA8bhDThWqlUDqhhq6msqUQKQdsAt0E5NARjR9v1P3kUB4fj2adRmSQD4IvPbFvZJAdCVPmbEulEDUpZXXdYuVQN5wxmivoZVARvvhF3vulEArxhAkvrSTQOxqpaSLeZNAV9bvo5kflUD8u74GOzqUQLZwyKtVMo9A/lJ+GwGGjED0H4teoN+DQNe1zrfHT3pAhVF+ggYNdUCOrfjU3LRxQEtFkOcPsF1AAAAAAAAA+P8AAAAAAAD4/wAAAAAAAPj/AAAAAAAA+P8=",
          "dtype": "f8"
         }
        },
        {
         "line": {
          "width": 1
         },
         "mode": "lines",
         "name": "2007",
         "showlegend": true,
         "type": "scatter",
         "x": {
          "bdata": "AQAJABEAGQAhACkAMQA5AEEASQBRAFkAYQBpAHEAeQCBAIkAkQCZAKEAqQCxALkAwQDJANEA2QDhAOkA8QD5AAEBCQERARkBIQEpATEBOQFBAUkBUQFZAWEBaQE=",
          "dtype": "i2"
         },
         "y": {
          "bdata": "AAAAAAAA+P91sUfYwEpwQCzLjSuhZ0lA19FtuCysbUASrtm2iTxlQIx2MY6Ywm5ANEeJAb7KdEAihhCvmvd0QJYBqTFqUXtAB/jAq2hMeUAqtMtrFTaAQMjMAM9MCoVAsqXDaJ9MikAV6XZWE4OQQHLTUCVUd5FAtp75E/XZkkAXM9OwmmuXQMHSTTjAr5ZAJCvnHrAimEDCpRJ1FtCXQCyCPPVmfpRA5/14W1iwlUB2d7sJqkWWQHVTUfEHypZAUFGQLwfSlUDmVQ4wpxiVQH2epx8f2JVAoFJlxmd1lEDuQZ6FlRKVQI/f0PbBaZJAPipmNmbKkECea9PJOmOSQMyLn/ZwQpNAAtBuSPyjkkBOgjnTYSCOQHtobBDyp4pAu2GmJxQOhUB1HRPfkqSAQEZxJNoJ4W1AWNQ1D1iJZUDaoNNASMpbQH5XSoa+KHVAAAAAAAAA+P8AAAAAAAD4/wAAAAAAAPj/AAAAAAAA+P8=",
          "dtype": "f8"
         }
        },
        {
         "line": {
          "width": 1
         },
         "mode": "lines",
         "name": "2008",
         "showlegend": true,
         "type": "scatter",
         "x": {
          "bdata": "AQAJABEAGQAhACkAMQA5AEEASQBRAFkAYQBpAHEAeQCBAIkAkQCZAKEAqQCxALkAwQDJANEA2QDhAOkA8QD5AAEBCQERARkBIQEpATEBOQFBAUkBUQFZAWEBaQE=",
          "dtype": "i2"
         },
         "y": {
          "bdata": "AAAAAAAA+P9rtnAmdqdhQGAugIBDe2VAcOAm4OEXZkCfdtU75mFkQAL1OJ/tlXBAbjcpwKr3dUAXIARBnc55QGAkwqUzNntAq2kQQqFwgEBEmBkpJud+QMpuLpsARYdAYKyWzzSJgUAqykJ5HVuIQK+H8so1xZBAlH9qma8SkkCS/yN4zReNQLZKo27tGpFA6+z/X23OkEC0eN5C/vaQQHfFmcz+25BAaLEiLfmukEDh6fH0hMyQQK+8WB5NZJFAkKKFwMx/k0D8NiCG+5CVQNyfHwWIqJZAKENJNlzbmUDac51+Vj2cQGpfGkeNBJpAFEQ4XjwDmkBfotgeEPmaQHK5inQzI5pA8Mf9bGlrlEAQc9/t6ZyRQJ6JGeiOTY5AnvnVlsLLg0Bd7VCRs2mFQFqImX8LW31ArQK5XcCKZEAmsf5iwM5zQAAAAAAAAPj/AAAAAAAA+P8AAAAAAAD4/wAAAAAAAPj/AAAAAAAA+P8=",
          "dtype": "f8"
         }
        },
        {
         "line": {
          "width": 1
         },
         "mode": "lines",
         "name": "2009",
         "showlegend": true,
         "type": "scatter",
         "x": {
          "bdata": "AQAJABEAGQAhACkAMQA5AEEASQBRAFkAYQBpAHEAeQCBAIkAkQCZAKEAqQCxALkAwQDJANEA2QDhAOkA8QD5AAEBCQERARkBIQEpATEBOQFBAUkBUQFZAWEBaQE=",
          "dtype": "i2"
         },
         "y": {
          "bdata": "AAAAAAAA+P/Q2ZPg1G1VQI+6910v43FA7gKXRodeaUAuhLYa/DZoQLPWwsSeT3ZA2YGzcUmZdEAew2Y8zO1zQIpLb3koyHVAFiCG3fALf0CfREtrBliDQFDa6SifaX9A+N70aZuIjUDZQrMSbgKGQAPcoXgl0JNAaA2HnQVXlUDu/JCUz8WVQMDSWIb52pZAaIAIj6aUl0D/9f2T6W2XQIgghfGjuJVAbiWpOrJKlkDysdlCO5SWQAKDkNhYgZRAGu5ZR7uukkC4MNDkJmCSQFx++CmlPJJAFkfgUJ1akkCWHeiY/maSQEjYVq5LZpFAG7HyfU3HkEDpp05rPSWQQPjiiIrlFo9A8Andl1jHkUAslhTOY5aRQCzu7dnmooRAyEX8xQx9jkDkOdhkIBiAQF8kH5gzpH1ArqLUZS14dEDcPXC3hhpaQKJdy4uvLHxAAAAAAAAA+P8AAAAAAAD4/wAAAAAAAPj/AAAAAAAA+P8=",
          "dtype": "f8"
         }
        },
        {
         "line": {
          "width": 1
         },
         "mode": "lines",
         "name": "2010",
         "showlegend": true,
         "type": "scatter",
         "x": {
          "bdata": "AQAJABEAGQAhACkAMQA5AEEASQBRAFkAYQBpAHEAeQCBAIkAkQCZAKEAqQCxALkAwQDJANEA2QDhAOkA8QD5AAEBCQERARkBIQEpATEBOQFBAUkBUQFZAWEBaQE=",
          "dtype": "i2"
         },
         "y": {
          "bdata": "AAAAAAAA+P/qCqeakbt6QIA/7e/hGmNAoaOD6WdgaEAzyiMYkYVrQOacwwAX6HhAiLr6tX8jhkAYaGQh+9uAQLC34fGJ4X5AAhtpbnhggUATdYvNB6F7QPzIIhdquoVAXJMpuvFPj0C0i1R0p+uRQG4xqrB19ZFAXYcG+SDQk0C3FlOUkgOUQGp3LTSQIpRABLvK2y3Ck0AVIP9sglqXQA/q2LFqnZdAk9BgodQBmUCK4SAsb0WZQJ1RV9mwGZlAbpxEF83emEAG2SWhbbyaQE4AyLddxJhAIB4+MUsLnUB5nY7/ATqeQMQQF8omwpxAHVkk6ndVmEAc2E/eHs+XQFtOc0dYI5dAeuiKjUrJk0DSW6iVKSuSQI7NgPnSVoZAdFZD7a7bgEC4FyYr3aB+QCKHPscpCIRA7rzLhL+tdkACz1QBcKFyQHblq5XQA29AAAAAAAAA+P8AAAAAAAD4/wAAAAAAAPj/AAAAAAAA+P8=",
          "dtype": "f8"
         }
        },
        {
         "line": {
          "width": 1
         },
         "mode": "lines",
         "name": "2011",
         "showlegend": true,
         "type": "scatter",
         "x": {
          "bdata": "AQAJABEAGQAhACkAMQA5AEEASQBRAFkAYQBpAHEAeQCBAIkAkQCZAKEAqQCxALkAwQDJANEA2QDhAOkA8QD5AAEBCQERARkBIQEpATEBOQFBAUkBUQFZAWEBaQE=",
          "dtype": "i2"
         },
         "y": {
          "bdata": "AAAAAAAA+P9bUNtnNuUwQI2qGKrC31JAVWz+dDa8ZkDEA/ZxRrJrQDo1T1dqDG9AVWqvVNNKfUBIPyEARyB8QK3uktTqWoFAmoNtw1IAg0CE7n+jIseMQJqx/1H7LItA9kvHWIZti0CgDJjXHYiUQJLk6fAKaZVA/PS+m+dTkUDOcJukVvGVQAc039Sb35ZAyI2dxZivlUCZjPfYtnqTQCjfGATI25FANhJQEh7ykUCoOeXA/Z+RQPh9wNzgqZJA3fKcTDlJkkBWYVH1E1mSQK5hSf5aGpNAaPsxkbkkk0AwOY2pniOUQEaCjwkGHpVApsPXIp2flUAYJb7+MKyVQJpiBsxJyJJATG7eHxUWjkCyDc+oAEiQQHCUjvkIJY1AJH39ETT7h0CGxttvGZGGQERvci7N4oBAVuhwwkH8cEDZw26TcXF1QBJMznJRevI/AAAAAAAA+P8AAAAAAAD4/wAAAAAAAPj/AAAAAAAA+P8=",
          "dtype": "f8"
         }
        },
        {
         "line": {
          "width": 1
         },
         "mode": "lines",
         "name": "2012",
         "showlegend": true,
         "type": "scatter",
         "x": {
          "bdata": "AQAJABEAGQAhACkAMQA5AEEASQBRAFkAYQBpAHEAeQCBAIkAkQCZAKEAqQCxALkAwQDJANEA2QDhAOkA8QD5AAEBCQERARkBIQEpATEBOQFBAUkBUQFZAWEBaQE=",
          "dtype": "i2"
         },
         "y": {
          "bdata": "AAAAAAAA+P/tKr+UXD1mQMNUkV3zSmBAjB6xMww/VkAKCKOS225sQDDkHWStqXFALcPGsZyZcECKXHXbhvlxQESxuj9iqXhAGkWetYLMgEC4WoA2WGiCQH6xKdrVyoRA11qXmYq9jEBGCbZLb2WKQM7WOg3kGIxAcLtMZPK5jkCqIzn8rXKSQKWwgc/+sZFAZDxq8s4ykUDyCE7i6vaOQNEw8J9y645AnbKXF1W2kEBahuzNmNGRQOajQWp31ZNAZKlnlOaylUDgoBqrPESVQALFGD3lZJdAqoFYRvzpl0BEVcaKum2YQGRoq148h5hAoi/K58HomUAEHRC/1lyXQFp5n/a0g5dAc3Vck9vBkUAGwaks7VCLQP5KjXdCfYJAjgAYvqwDeUAAPTcU9uR2QP1sbM00KnNA9g7WRyP+dUBTShvQItZzQHX/axXOY3ZAAAAAAAAA+P8AAAAAAAD4/wAAAAAAAPj/AAAAAAAA+P8=",
          "dtype": "f8"
         }
        },
        {
         "line": {
          "width": 1
         },
         "mode": "lines",
         "name": "2013",
         "showlegend": true,
         "type": "scatter",
         "x": {
          "bdata": "AQAJABEAGQAhACkAMQA5AEEASQBRAFkAYQBpAHEAeQCBAIkAkQCZAKEAqQCxALkAwQDJANEA2QDhAOkA8QD5AAEBCQERARkBIQEpATEBOQFBAUkBUQFZAWEBaQE=",
          "dtype": "i2"
         },
         "y": {
          "bdata": "AAAAAAAA+P9E5n3V26h3QDYc5xjJR2JA7uiW1byTa0DDZOrEDqlxQP/3AJO16ndAYx/6KDDWgEA0c6/dMFaBQFBK5ew4IINA7CBxFgMHh0BgY+XGPGORQJ34eAIqfpdAXSE3NRFmlECe7Bx5hDSWQH7TVEBW6ZpAQEOmUGqfl0DKTlR2llOVQOncnsraC5ZA8OC4q8Ssl0DEj3xEr4SYQIKkpNNjt5dA4rsAhYxwlkA3R5K64paVQEJO7LijSpRAHrpw1ZoQlUA5qkgOXCyWQDyBTtgWeZVAws9jRmmHlUCS08s4PlWUQCMQJf2Jb5JAVp4jWTrBkkBrJhuhX3KTQGKQBpSRjJNAwCPuNTnSkkCgWpyjkfaKQIDCRhWUEoxAKktjJi6EgUDLOyNFUp6HQPDBQ5OnNGtAdsgQPKfXZEC5PZlaQgReQNwKZ1UA0UhAAAAAAAAA+P8AAAAAAAD4/wAAAAAAAPj/AAAAAAAA+P8=",
          "dtype": "f8"
         }
        },
        {
         "line": {
          "width": 1
         },
         "mode": "lines",
         "name": "2014",
         "showlegend": true,
         "type": "scatter",
         "x": {
          "bdata": "AQAJABEAGQAhACkAMQA5AEEASQBRAFkAYQBpAHEAeQCBAIkAkQCZAKEAqQCxALkAwQDJANEA2QDhAOkA8QD5AAEBCQERARkBIQEpATEBOQFBAUkBUQFZAWEBaQE=",
          "dtype": "i2"
         },
         "y": {
          "bdata": "AAAAAAAA+P95OmMUxIZpQLovD8fYnXZAykqN5TRAdUA8dTCg8lB1QPyAJdaJdnRAEE/3FEUseEBixS1ay7mDQDjepyQAuolAthN0SmnPjkBhIAA85meRQNowLJosfJNA4gl+JLsSlEDGytR+qG+TQK1PB+a6XZRAyPyyzXkWlkAMguOPng+XQLMUyOTxS5lA2PKd2yYAnEDitYKPaL2bQJ5Aer5gD5tAh39HEoU8mEAG8poZUC+YQAR0wSCV1pdACV3s4w3rlkBCKN5dIruUQIR+8Ttc65JAfo+e/QWvkUD8SX1JcYeSQOikg2nrXZJAEnClrkVxkkD4FKhhFMOQQEQWV0tTq45Ao7IkZypcikASbA6WLBCKQEKl1LnYhIxAiJlLZ2eSiEBLd5uCcu2KQIrvumidvHtAJTa5jdU0hkBIyc0kYmZwQHesYIUxImtAAAAAAAAA+P8AAAAAAAD4/wAAAAAAAPj/AAAAAAAA+P8=",
          "dtype": "f8"
         }
        },
        {
         "line": {
          "width": 1
         },
         "mode": "lines",
         "name": "2015",
         "showlegend": true,
         "type": "scatter",
         "x": {
          "bdata": "AQAJABEAGQAhACkAMQA5AEEASQBRAFkAYQBpAHEAeQCBAIkAkQCZAKEAqQCxALkAwQDJANEA2QDhAOkA8QD5AAEBCQERARkBIQEpATEBOQFBAUkBUQFZAWEBaQE=",
          "dtype": "i2"
         },
         "y": {
          "bdata": "AAAAAAAA+P96wJ+UnNpQQBb694F0ZllAFaz79my5cUCRKhJ/K755QF5a4QpXL4JA0u3caphWgEAscQ1A/Sx7QHb7svbVAYVAIKrEzMz7i0AopfYO3oGHQKCdrKVnypFAoT/s8WYwlEBmjVp/o5KUQCWzjH+J2JNAqtODGZ5ClUAkmyJ/e5STQMgRl5j9FJFAVrqqNCxokECFve6Vj9aOQJyUdn2EUYxAbW44/gU6jECvOVzMu8eLQJm79iDasIlAdmh6xkxcikD8PKxqfIqIQB4VAYMavIhAArq6n2grh0CYiPxj14qJQK25cxEfv4lAV9XO7QmziUD7UFhSXi+JQAT2Ss2aUolARuT3V1FHiUBzWysLJN+IQPxpKoLAG4dAZA7PSbTzh0BGmPwaQyaBQGkzNS7pP4VAGteU0a+4e0DMllOk9nJ9QGRkbHVY54BAAAAAAAAA+P8AAAAAAAD4/wAAAAAAAPj/AAAAAAAA+P8=",
          "dtype": "f8"
         }
        },
        {
         "line": {
          "width": 1
         },
         "mode": "lines",
         "name": "2016",
         "showlegend": true,
         "type": "scatter",
         "x": {
          "bdata": "AQAJABEAGQAhACkAMQA5AEEASQBRAFkAYQBpAHEAeQCBAIkAkQCZAKEAqQCxALkAwQDJANEA2QDhAOkA8QD5AAEBCQERARkBIQEpATEBOQFBAUkBUQFZAWEBaQE=",
          "dtype": "i2"
         },
         "y": {
          "bdata": "AAAAAAAA+P8KBLPQrtJyQKIw4To9HnRACjAoYa0CcUAInrTTrtxvQCAuB4pos3NAtvqSNnTDe0DPYkVb09t7QA7pFvRvr4ZAUrtqAhgyi0BJ9I/5/6uOQPTswLI/8pBACEzL7Ka1kUA7mBGKfteTQNYBruGqNpVA6Qkc9i+Ol0DHAlsomkyVQNrXrt0755VAxEB2iBrIkkAiVnYo6siRQKC8Tj9Y8pBA+oy5aGxxkEB5OX24MYSQQKh7edA2UI9A62wX33D3j0Do6zzD+Z2QQJkl4nImcpFAFXV48djakUCvIxMgjICSQD49N/lji5JAaFFALtVtkkBsRY7+eTOSQC3r35hpN5JAOAkCx3LQkUDw37yG496RQDanP+dgeJJAbg+xP5QCj0C6B22gdtSGQIz4iirJbHZA7H2WpxNYd0A1G6h8uwhxQLovkBis1WxAAAAAAAAA+P8AAAAAAAD4/wAAAAAAAPj/AAAAAAAA+P8=",
          "dtype": "f8"
         }
        },
        {
         "line": {
          "width": 1
         },
         "mode": "lines",
         "name": "2017",
         "showlegend": true,
         "type": "scatter",
         "x": {
          "bdata": "AQAJABEAGQAhACkAMQA5AEEASQBRAFkAYQBpAHEAeQCBAIkAkQCZAKEAqQCxALkAwQDJANEA2QDhAOkA8QD5AAEBCQERARkBIQEpATEBOQFBAUkBUQFZAWEBaQE=",
          "dtype": "i2"
         },
         "y": {
          "bdata": "AAAAAAAA+P/qrcGFp6tFQHqf+7UiFHJAIvInbqIRdECE1dgXCY10QByLiDGMI3dAd6ULCdBnh0AMbPQ0ZIuBQNTt/Ysb2HxAv+nHruF0g0Bk12OEKNmFQGQgxjP3AI1ARPtoOTrHjkDIoD3w8KWQQAw5EI94PZBAexOjok+Dj0DJuJVx0GySQD7IPJW9MpVAauboLwyWlEAtDYvcHOKTQOd+xy/mnZBAFD+hH5bRj0Bexe3DD26NQBJ8oRR16ItAkarSUNcoikCVAGRa2nqKQHogM5ar8o9AagFXfuzIjkBeVICn4rWPQNeY98NLp4tAEC8wgaL6ikChSAMypBuLQC2OOUm684xAljvSWZvni0CgOrZktRGSQAqa3ss8R4xA+PVOfILViUBf7i+hWfSOQLBBFmD3j3xA7JgZRUACdECcqQKn9NprQLBNz6tozVJAAAAAAAAA+P8AAAAAAAD4/wAAAAAAAPj/AAAAAAAA+P8=",
          "dtype": "f8"
         }
        },
        {
         "line": {
          "width": 1
         },
         "mode": "lines",
         "name": "2018",
         "showlegend": true,
         "type": "scatter",
         "x": {
          "bdata": "AQAJABEAGQAhACkAMQA5AEEASQBRAFkAYQBpAHEAeQCBAIkAkQCZAKEAqQCxALkAwQDJANEA2QDhAOkA8QD5AAEBCQERARkBIQEpATEBOQFBAUkBUQFZAWEBaQE=",
          "dtype": "i2"
         },
         "y": {
          "bdata": "AAAAAAAA+P9FDlUIfPd1QKSDxQX5N2xAmkFMGntLc0Bq6gPOoF13QIy/pJSdfH9AfHyERKE1g0A1JbCAShyEQLru2zXcn4FAvNXE1gXYhEC94oNczM2PQNEZj1cED5FAOgT9whijk0BbvycQsoePQLVi4dhQ0ZFAj6i4hjMhkkBiEObZn7KSQEJr7oYY9ZBA1Rg1gj1OkEAyM9U+UkGQQKOAn6ecFZBA1BnH7ORBjkDqmLUqiwaMQCPGAR1n/4lA+rsxJkFpjUCxeEHGsK6PQHbYM1bDBJFA7ltsnEwDkkBYlIgdDOaUQFcJ7Sd/hplAi4G7W701m0Bymx8soDmbQAwAhTpT7ZlAn1+w1I5TmkAkUOmbUHiTQCvRbm9Sm5VACq44nEdhkkBsj9UTCpqDQOxnpmK0eIJAVmBjqH1bd0CPMKP6PLd6QL+0fSZDM1VAAAAAAAAA+P8AAAAAAAD4/wAAAAAAAPj/AAAAAAAA+P8=",
          "dtype": "f8"
         }
        },
        {
         "line": {
          "width": 1
         },
         "mode": "lines",
         "name": "2019",
         "showlegend": true,
         "type": "scatter",
         "x": {
          "bdata": "AQAJABEAGQAhACkAMQA5AEEASQBRAFkAYQBpAHEAeQCBAIkAkQCZAKEAqQCxALkAwQDJANEA2QDhAOkA8QD5AAEBCQERARkBIQEpATEBOQFBAUkBUQFZAWEBaQE=",
          "dtype": "i2"
         },
         "y": {
          "bdata": "AAAAAAAA+P9I4EaTR5VzQNSK6eojM3FAaINAegdNfkBCNWDGF4N7QG7KrRt5XXdAodMGnV0jg0A36eDuP3OEQDk22LohxIVAIs0BbEUHjkDylae/Z6mTQJoKkbHJD5RA2bTv1Y/ZkUAgh+aDVqyPQCh52kqah5FAVQsCz9+/kUDjZ84Boz+RQEW3GXKP15BApQWO+hAekEBkHbLTLRmPQGwhPaSJZI5A/rKXxASojEAMPrmSmnyLQAlXGVqSPIpAbZsDsGSAikA6fDMfXs2KQD/JGPGQu4tAgjMOjnPXi0BWANxGwHWNQK0A2H1vR45AjK09PyHIjUD6JZDWJnCOQBRWDIiZ8pFApjQNMW8LlkBBhn9yQOqUQMt2KkT8YpNAYZ1Vv2FcjUAfucl6jiORQE66njiLkYhAxgEkE6DadkDuNA/prfl9QHRCtKN6h3NAAAAAAAAA+P8AAAAAAAD4/wAAAAAAAPj/AAAAAAAA+P8=",
          "dtype": "f8"
         }
        },
        {
         "line": {
          "width": 1
         },
         "mode": "lines",
         "name": "2020",
         "showlegend": true,
         "type": "scatter",
         "x": {
          "bdata": "AQAJABEAGQAhACkAMQA5AEEASQBRAFkAYQBpAHEAeQCBAIkAkQCZAKEAqQCxALkAwQDJANEA2QDhAOkA8QD5AAEBCQERARkBIQEpATEBOQFBAUkBUQFZAWEBaQE=",
          "dtype": "i2"
         },
         "y": {
          "bdata": "AAAAAAAA+P/8fEgI/AFgQLkyiAd1bHJA70IIi0tOcUDuJwPjW1l2QJ6NGIdr1HhAvxmJwlOfekAgXbDQR2x7QDRO6uimgIZAmwcJNshYi0CsHJTA55GQQG5TzkaMFZNA6jZz+9ORk0Ac4QSeJR2QQD/9VdWFHIxAR+v7xTfGiEB40ybV8byJQOxv242KLItAf/9Cb3ebjUCicTCzL+aPQBP0Pc8V6pFAtoIc3FkIlEC/b7oQegyXQJQ42Hytj5dAIZdZkyFylkDH435V9EeTQC8G7Y882pFAJp+uG3UVkUBsXFM0SDuRQFD3sHJZhJFA9E9uE3r9kkB6zs536a+UQBKx3uzT5pRAilcOusCgk0AdfD8P6BeUQEKQvnyVlpFAehuHEOzLi0CNtpgVSaOIQJgZLTvKlYJAYd+FaZQ+ekDuC/tTiTJxQO92TY+0fmJAAAAAAAAA+P8AAAAAAAD4/wAAAAAAAPj/AAAAAAAA+P8=",
          "dtype": "f8"
         }
        },
        {
         "line": {
          "color": "grey",
          "width": 3
         },
         "mode": "lines",
         "name": "Median",
         "type": "scatter",
         "x": {
          "bdata": "AQAJABEAGQAhACkAMQA5AEEASQBRAFkAYQBpAHEAeQCBAIkAkQCZAKEAqQCxALkAwQDJANEA2QDhAOkA8QD5AAEBCQERARkBIQEpATEBOQFBAUkBUQFZAWEBaQE=",
          "dtype": "i2"
         },
         "y": {
          "bdata": "AAAAAAAA+P8ejBVIO5BiQMOcM/zHYGdASYvYjnKnaUAInrTTrtxvQHDZ6uyiVHZAXaoPz5ueekDGT+8SnjZ+QBTofmlgF4FAmoNtw1IAg0Bk12OEKNmFQFgXMnIC5YxAXJMpuvFPj0DK6JeMlxiRQLuhTzX4C5NAMmuGpHMak0BY62Ncyq+UQOCgzVV57ZRABLvK2y3Ck0AtDYvcHOKTQJgFJlBQO5RA/ghgkg/5k0Bxevo2sTuTQKQdsAt0E5NATi0JVWTNkkDgHXxKQHeSQIR+8Ttc65JAaPsxkbkkk0BGcldNMAuUQD49N/lji5JAVp4jWTrBkkBrJhuhX3KTQIoXj0YhRZJAOAkCx3LQkUBXNwXAuhCRQEKl1LnYhIxAiJlLZ2eSiEAESZXQOx+EQFqImX8LW31A9g7WRyP+dUA1G6h8uwhxQLovkBis1WxAAAAAAAAA+P8AAAAAAAD4/wAAAAAAAPj/AAAAAAAA+P8=",
          "dtype": "f8"
         }
        },
        {
         "line": {
          "color": "black",
          "dash": "dash",
          "width": 3
         },
         "mode": "lines",
         "name": "Fourier Interpolated Median",
         "type": "scatter",
         "x": {
          "bdata": "AQACAAMABAAFAAYABwAIAAkACgALAAwADQAOAA8AEAARABIAEwAUABUAFgAXABgAGQAaABsAHAAdAB4AHwAgACEAIgAjACQAJQAmACcAKAApACoAKwAsAC0ALgAvADAAMQAyADMANAA1ADYANwA4ADkAOgA7ADwAPQA+AD8AQABBAEIAQwBEAEUARgBHAEgASQBKAEsATABNAE4ATwBQAFEAUgBTAFQAVQBWAFcAWABZAFoAWwBcAF0AXgBfAGAAYQBiAGMAZABlAGYAZwBoAGkAagBrAGwAbQBuAG8AcABxAHIAcwB0AHUAdgB3AHgAeQB6AHsAfAB9AH4AfwCAAIEAggCDAIQAhQCGAIcAiACJAIoAiwCMAI0AjgCPAJAAkQCSAJMAlACVAJYAlwCYAJkAmgCbAJwAnQCeAJ8AoAChAKIAowCkAKUApgCnAKgAqQCqAKsArACtAK4ArwCwALEAsgCzALQAtQC2ALcAuAC5ALoAuwC8AL0AvgC/AMAAwQDCAMMAxADFAMYAxwDIAMkAygDLAMwAzQDOAM8A0ADRANIA0wDUANUA1gDXANgA2QDaANsA3ADdAN4A3wDgAOEA4gDjAOQA5QDmAOcA6ADpAOoA6wDsAO0A7gDvAPAA8QDyAPMA9AD1APYA9wD4APkA+gD7APwA/QD+AP8AAAEBAQIBAwEEAQUBBgEHAQgBCQEKAQsBDAENAQ4BDwEQAREBEgETARQBFQEWARcBGAEZARoBGwEcAR0BHgEfASABIQEiASMBJAElASYBJwEoASkBKgErASwBLQEuAS8BMAExATIBMwE0ATUBNgE3ATgBOQE6ATsBPAE9AT4BPwFAAUEBQgFDAUQBRQFGAUcBSAFJAUoBSwFMAU0BTgFPAVABUQFSAVMBVAFVAVYBVwFYAVkBWgFbAVwBXQFeAV8BYAFhAWIBYwFkAWUBZgFnAWgBaQFqAWsBbAFtAQ==",
          "dtype": "i2"
         },
         "y": {
          "bdata": "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",
          "dtype": "f8"
         }
        }
       ],
       "layout": {
        "template": {
         "data": {
          "bar": [
           {
            "error_x": {
             "color": "#2a3f5f"
            },
            "error_y": {
             "color": "#2a3f5f"
            },
            "marker": {
             "line": {
              "color": "white",
              "width": 0.5
             },
             "pattern": {
              "fillmode": "overlay",
              "size": 10,
              "solidity": 0.2
             }
            },
            "type": "bar"
           }
          ],
          "barpolar": [
           {
            "marker": {
             "line": {
              "color": "white",
              "width": 0.5
             },
             "pattern": {
              "fillmode": "overlay",
              "size": 10,
              "solidity": 0.2
             }
            },
            "type": "barpolar"
           }
          ],
          "carpet": [
           {
            "aaxis": {
             "endlinecolor": "#2a3f5f",
             "gridcolor": "#C8D4E3",
             "linecolor": "#C8D4E3",
             "minorgridcolor": "#C8D4E3",
             "startlinecolor": "#2a3f5f"
            },
            "baxis": {
             "endlinecolor": "#2a3f5f",
             "gridcolor": "#C8D4E3",
             "linecolor": "#C8D4E3",
             "minorgridcolor": "#C8D4E3",
             "startlinecolor": "#2a3f5f"
            },
            "type": "carpet"
           }
          ],
          "choropleth": [
           {
            "colorbar": {
             "outlinewidth": 0,
             "ticks": ""
            },
            "type": "choropleth"
           }
          ],
          "contour": [
           {
            "colorbar": {
             "outlinewidth": 0,
             "ticks": ""
            },
            "colorscale": [
             [
              0,
              "#0d0887"
             ],
             [
              0.1111111111111111,
              "#46039f"
             ],
             [
              0.2222222222222222,
              "#7201a8"
             ],
             [
              0.3333333333333333,
              "#9c179e"
             ],
             [
              0.4444444444444444,
              "#bd3786"
             ],
             [
              0.5555555555555556,
              "#d8576b"
             ],
             [
              0.6666666666666666,
              "#ed7953"
             ],
             [
              0.7777777777777778,
              "#fb9f3a"
             ],
             [
              0.8888888888888888,
              "#fdca26"
             ],
             [
              1,
              "#f0f921"
             ]
            ],
            "type": "contour"
           }
          ],
          "contourcarpet": [
           {
            "colorbar": {
             "outlinewidth": 0,
             "ticks": ""
            },
            "type": "contourcarpet"
           }
          ],
          "heatmap": [
           {
            "colorbar": {
             "outlinewidth": 0,
             "ticks": ""
            },
            "colorscale": [
             [
              0,
              "#0d0887"
             ],
             [
              0.1111111111111111,
              "#46039f"
             ],
             [
              0.2222222222222222,
              "#7201a8"
             ],
             [
              0.3333333333333333,
              "#9c179e"
             ],
             [
              0.4444444444444444,
              "#bd3786"
             ],
             [
              0.5555555555555556,
              "#d8576b"
             ],
             [
              0.6666666666666666,
              "#ed7953"
             ],
             [
              0.7777777777777778,
              "#fb9f3a"
             ],
             [
              0.8888888888888888,
              "#fdca26"
             ],
             [
              1,
              "#f0f921"
             ]
            ],
            "type": "heatmap"
           }
          ],
          "histogram": [
           {
            "marker": {
             "pattern": {
              "fillmode": "overlay",
              "size": 10,
              "solidity": 0.2
             }
            },
            "type": "histogram"
           }
          ],
          "histogram2d": [
           {
            "colorbar": {
             "outlinewidth": 0,
             "ticks": ""
            },
            "colorscale": [
             [
              0,
              "#0d0887"
             ],
             [
              0.1111111111111111,
              "#46039f"
             ],
             [
              0.2222222222222222,
              "#7201a8"
             ],
             [
              0.3333333333333333,
              "#9c179e"
             ],
             [
              0.4444444444444444,
              "#bd3786"
             ],
             [
              0.5555555555555556,
              "#d8576b"
             ],
             [
              0.6666666666666666,
              "#ed7953"
             ],
             [
              0.7777777777777778,
              "#fb9f3a"
             ],
             [
              0.8888888888888888,
              "#fdca26"
             ],
             [
              1,
              "#f0f921"
             ]
            ],
            "type": "histogram2d"
           }
          ],
          "histogram2dcontour": [
           {
            "colorbar": {
             "outlinewidth": 0,
             "ticks": ""
            },
            "colorscale": [
             [
              0,
              "#0d0887"
             ],
             [
              0.1111111111111111,
              "#46039f"
             ],
             [
              0.2222222222222222,
              "#7201a8"
             ],
             [
              0.3333333333333333,
              "#9c179e"
             ],
             [
              0.4444444444444444,
              "#bd3786"
             ],
             [
              0.5555555555555556,
              "#d8576b"
             ],
             [
              0.6666666666666666,
              "#ed7953"
             ],
             [
              0.7777777777777778,
              "#fb9f3a"
             ],
             [
              0.8888888888888888,
              "#fdca26"
             ],
             [
              1,
              "#f0f921"
             ]
            ],
            "type": "histogram2dcontour"
           }
          ],
          "mesh3d": [
           {
            "colorbar": {
             "outlinewidth": 0,
             "ticks": ""
            },
            "type": "mesh3d"
           }
          ],
          "parcoords": [
           {
            "line": {
             "colorbar": {
              "outlinewidth": 0,
              "ticks": ""
             }
            },
            "type": "parcoords"
           }
          ],
          "pie": [
           {
            "automargin": true,
            "type": "pie"
           }
          ],
          "scatter": [
           {
            "fillpattern": {
             "fillmode": "overlay",
             "size": 10,
             "solidity": 0.2
            },
            "type": "scatter"
           }
          ],
          "scatter3d": [
           {
            "line": {
             "colorbar": {
              "outlinewidth": 0,
              "ticks": ""
             }
            },
            "marker": {
             "colorbar": {
              "outlinewidth": 0,
              "ticks": ""
             }
            },
            "type": "scatter3d"
           }
          ],
          "scattercarpet": [
           {
            "marker": {
             "colorbar": {
              "outlinewidth": 0,
              "ticks": ""
             }
            },
            "type": "scattercarpet"
           }
          ],
          "scattergeo": [
           {
            "marker": {
             "colorbar": {
              "outlinewidth": 0,
              "ticks": ""
             }
            },
            "type": "scattergeo"
           }
          ],
          "scattergl": [
           {
            "marker": {
             "colorbar": {
              "outlinewidth": 0,
              "ticks": ""
             }
            },
            "type": "scattergl"
           }
          ],
          "scattermap": [
           {
            "marker": {
             "colorbar": {
              "outlinewidth": 0,
              "ticks": ""
             }
            },
            "type": "scattermap"
           }
          ],
          "scattermapbox": [
           {
            "marker": {
             "colorbar": {
              "outlinewidth": 0,
              "ticks": ""
             }
            },
            "type": "scattermapbox"
           }
          ],
          "scatterpolar": [
           {
            "marker": {
             "colorbar": {
              "outlinewidth": 0,
              "ticks": ""
             }
            },
            "type": "scatterpolar"
           }
          ],
          "scatterpolargl": [
           {
            "marker": {
             "colorbar": {
              "outlinewidth": 0,
              "ticks": ""
             }
            },
            "type": "scatterpolargl"
           }
          ],
          "scatterternary": [
           {
            "marker": {
             "colorbar": {
              "outlinewidth": 0,
              "ticks": ""
             }
            },
            "type": "scatterternary"
           }
          ],
          "surface": [
           {
            "colorbar": {
             "outlinewidth": 0,
             "ticks": ""
            },
            "colorscale": [
             [
              0,
              "#0d0887"
             ],
             [
              0.1111111111111111,
              "#46039f"
             ],
             [
              0.2222222222222222,
              "#7201a8"
             ],
             [
              0.3333333333333333,
              "#9c179e"
             ],
             [
              0.4444444444444444,
              "#bd3786"
             ],
             [
              0.5555555555555556,
              "#d8576b"
             ],
             [
              0.6666666666666666,
              "#ed7953"
             ],
             [
              0.7777777777777778,
              "#fb9f3a"
             ],
             [
              0.8888888888888888,
              "#fdca26"
             ],
             [
              1,
              "#f0f921"
             ]
            ],
            "type": "surface"
           }
          ],
          "table": [
           {
            "cells": {
             "fill": {
              "color": "#EBF0F8"
             },
             "line": {
              "color": "white"
             }
            },
            "header": {
             "fill": {
              "color": "#C8D4E3"
             },
             "line": {
              "color": "white"
             }
            },
            "type": "table"
           }
          ]
         },
         "layout": {
          "annotationdefaults": {
           "arrowcolor": "#2a3f5f",
           "arrowhead": 0,
           "arrowwidth": 1
          },
          "autotypenumbers": "strict",
          "coloraxis": {
           "colorbar": {
            "outlinewidth": 0,
            "ticks": ""
           }
          },
          "colorscale": {
           "diverging": [
            [
             0,
             "#8e0152"
            ],
            [
             0.1,
             "#c51b7d"
            ],
            [
             0.2,
             "#de77ae"
            ],
            [
             0.3,
             "#f1b6da"
            ],
            [
             0.4,
             "#fde0ef"
            ],
            [
             0.5,
             "#f7f7f7"
            ],
            [
             0.6,
             "#e6f5d0"
            ],
            [
             0.7,
             "#b8e186"
            ],
            [
             0.8,
             "#7fbc41"
            ],
            [
             0.9,
             "#4d9221"
            ],
            [
             1,
             "#276419"
            ]
           ],
           "sequential": [
            [
             0,
             "#0d0887"
            ],
            [
             0.1111111111111111,
             "#46039f"
            ],
            [
             0.2222222222222222,
             "#7201a8"
            ],
            [
             0.3333333333333333,
             "#9c179e"
            ],
            [
             0.4444444444444444,
             "#bd3786"
            ],
            [
             0.5555555555555556,
             "#d8576b"
            ],
            [
             0.6666666666666666,
             "#ed7953"
            ],
            [
             0.7777777777777778,
             "#fb9f3a"
            ],
            [
             0.8888888888888888,
             "#fdca26"
            ],
            [
             1,
             "#f0f921"
            ]
           ],
           "sequentialminus": [
            [
             0,
             "#0d0887"
            ],
            [
             0.1111111111111111,
             "#46039f"
            ],
            [
             0.2222222222222222,
             "#7201a8"
            ],
            [
             0.3333333333333333,
             "#9c179e"
            ],
            [
             0.4444444444444444,
             "#bd3786"
            ],
            [
             0.5555555555555556,
             "#d8576b"
            ],
            [
             0.6666666666666666,
             "#ed7953"
            ],
            [
             0.7777777777777778,
             "#fb9f3a"
            ],
            [
             0.8888888888888888,
             "#fdca26"
            ],
            [
             1,
             "#f0f921"
            ]
           ]
          },
          "colorway": [
           "#636efa",
           "#EF553B",
           "#00cc96",
           "#ab63fa",
           "#FFA15A",
           "#19d3f3",
           "#FF6692",
           "#B6E880",
           "#FF97FF",
           "#FECB52"
          ],
          "font": {
           "color": "#2a3f5f"
          },
          "geo": {
           "bgcolor": "white",
           "lakecolor": "white",
           "landcolor": "white",
           "showlakes": true,
           "showland": true,
           "subunitcolor": "#C8D4E3"
          },
          "hoverlabel": {
           "align": "left"
          },
          "hovermode": "closest",
          "mapbox": {
           "style": "light"
          },
          "paper_bgcolor": "white",
          "plot_bgcolor": "white",
          "polar": {
           "angularaxis": {
            "gridcolor": "#EBF0F8",
            "linecolor": "#EBF0F8",
            "ticks": ""
           },
           "bgcolor": "white",
           "radialaxis": {
            "gridcolor": "#EBF0F8",
            "linecolor": "#EBF0F8",
            "ticks": ""
           }
          },
          "scene": {
           "xaxis": {
            "backgroundcolor": "white",
            "gridcolor": "#DFE8F3",
            "gridwidth": 2,
            "linecolor": "#EBF0F8",
            "showbackground": true,
            "ticks": "",
            "zerolinecolor": "#EBF0F8"
           },
           "yaxis": {
            "backgroundcolor": "white",
            "gridcolor": "#DFE8F3",
            "gridwidth": 2,
            "linecolor": "#EBF0F8",
            "showbackground": true,
            "ticks": "",
            "zerolinecolor": "#EBF0F8"
           },
           "zaxis": {
            "backgroundcolor": "white",
            "gridcolor": "#DFE8F3",
            "gridwidth": 2,
            "linecolor": "#EBF0F8",
            "showbackground": true,
            "ticks": "",
            "zerolinecolor": "#EBF0F8"
           }
          },
          "shapedefaults": {
           "line": {
            "color": "#2a3f5f"
           }
          },
          "ternary": {
           "aaxis": {
            "gridcolor": "#DFE8F3",
            "linecolor": "#A2B1C6",
            "ticks": ""
           },
           "baxis": {
            "gridcolor": "#DFE8F3",
            "linecolor": "#A2B1C6",
            "ticks": ""
           },
           "bgcolor": "white",
           "caxis": {
            "gridcolor": "#DFE8F3",
            "linecolor": "#A2B1C6",
            "ticks": ""
           }
          },
          "title": {
           "x": 0.05
          },
          "xaxis": {
           "automargin": true,
           "gridcolor": "#EBF0F8",
           "linecolor": "#EBF0F8",
           "ticks": "",
           "title": {
            "standoff": 15
           },
           "zerolinecolor": "#EBF0F8",
           "zerolinewidth": 2
          },
          "yaxis": {
           "automargin": true,
           "gridcolor": "#EBF0F8",
           "linecolor": "#EBF0F8",
           "ticks": "",
           "title": {
            "standoff": 15
           },
           "zerolinecolor": "#EBF0F8",
           "zerolinewidth": 2
          }
         }
        },
        "title": {
         "text": "Daily interpolated CbPM BEHRENFELD Primary Productivity Time Series (1998-2020) at PAPA"
        },
        "xaxis": {
         "title": {
          "text": "Day of year"
         }
        },
        "yaxis": {
         "title": {
          "text": "Primary productivity [mg C m-2 day-1]"
         }
        }
       }
      }
     },
     "metadata": {},
     "output_type": "display_data"
    }
   ],
   "source": [
    "# Plot with interpolated daily values\n",
    "\n",
    "# Group by year\n",
    "years = pd.DatetimeIndex(ds_behr_papa.time.values).year.unique()\n",
    "\n",
    "fig = go.Figure()\n",
    "\n",
    "# Plot one line per year \n",
    "for year in years:\n",
    "    yearly_data = ds_behr_papa.sel(time=str(year))[\"CbPM\"]\n",
    "    fig.add_trace(go.Scatter(\n",
    "        x=yearly_data.time.dt.dayofyear,\n",
    "        y=yearly_data.values,\n",
    "        mode='lines',\n",
    "        line=dict(width=1),\n",
    "        name=str(year),\n",
    "        showlegend=True \n",
    "    ))\n",
    "\n",
    "# Plot climatology in black\n",
    "fig.add_trace(go.Scatter(\n",
    "    x=clim_8d_behr['day_of_year'],\n",
    "    y=clim_8d_behr['CbPM'].values,\n",
    "    mode='lines',\n",
    "    name='Median',\n",
    "    line=dict(color='grey', width=3)\n",
    "))\n",
    "\n",
    "# Add the interpolated Fourier daily curve\n",
    "fig.add_trace(go.Scatter(\n",
    "    x=np.arange(1, 366),  # day-of-year\n",
    "    y=behr_daily,\n",
    "    mode='lines',\n",
    "    name='Fourier Interpolated Median',\n",
    "    line=dict(color='black', width=3, dash='dash')\n",
    "))\n",
    "fig.update_layout(\n",
    "    title='Daily interpolated CbPM BEHRENFELD Primary Productivity Time Series (1998-2020) at PAPA',\n",
    "    xaxis_title='Day of year',\n",
    "    yaxis_title='Primary productivity [mg C m-2 day-1]', \n",
    "    template='plotly_white'\n",
    ")\n",
    "\n",
    "fig.show()\n"
   ]
  },
  {
   "cell_type": "code",
   "execution_count": 19,
   "id": "cb3d3dff",
   "metadata": {},
   "outputs": [],
   "source": [
    "# # Export interpolated daily values of CbPM BEHRENFELD npp\n",
    "# # Create a coordinate for the day of year (1 to 365)\n",
    "# days = np.arange(1, 366)  # day 1 to 365\n",
    "\n",
    "# # Create xarray DataArray\n",
    "# behr_daily_da = xr.DataArray(\n",
    "#     data=behr_daily,\n",
    "#     coords={'days': days},\n",
    "#     dims=['days'],\n",
    "#     name='npp'\n",
    "# )\n",
    "\n",
    "# behr_daily_da.attrs['long_name'] = 'Interpolated daily npp'\n",
    "# behr_daily_da.attrs['units'] = 'mg C m-2 day-1'\n",
    "# # Export to NetCDF\n",
    "# behr_daily_da.to_netcdf('/data/rd_exchange/sroyer/SEAPOPYM/NPP/daily_BEHRENFELD_papa_1998_2020.nc')"
   ]
  },
  {
   "cell_type": "markdown",
   "id": "02e120c6",
   "metadata": {},
   "source": [
    "### CAFE "
   ]
  },
  {
   "cell_type": "code",
   "execution_count": 20,
   "id": "84bb4eec",
   "metadata": {},
   "outputs": [],
   "source": [
    "path_cafe=\"/data/rd_exchange/sroyer/SEAPOPYM/NPP/1998_2022_NPP_SILSBE_CAFE_25KM_8D.nc\"\n",
    "ds_cafe = xr.open_dataset(path_cafe,engine='netcdf4')"
   ]
  },
  {
   "cell_type": "code",
   "execution_count": 21,
   "id": "a807c848",
   "metadata": {},
   "outputs": [
    {
     "data": {
      "text/html": [
       "<div><svg style=\"position: absolute; width: 0; height: 0; overflow: hidden\">\n",
       "<defs>\n",
       "<symbol id=\"icon-database\" viewBox=\"0 0 32 32\">\n",
       "<path d=\"M16 0c-8.837 0-16 2.239-16 5v4c0 2.761 7.163 5 16 5s16-2.239 16-5v-4c0-2.761-7.163-5-16-5z\"></path>\n",
       "<path d=\"M16 17c-8.837 0-16-2.239-16-5v6c0 2.761 7.163 5 16 5s16-2.239 16-5v-6c0 2.761-7.163 5-16 5z\"></path>\n",
       "<path d=\"M16 26c-8.837 0-16-2.239-16-5v6c0 2.761 7.163 5 16 5s16-2.239 16-5v-6c0 2.761-7.163 5-16 5z\"></path>\n",
       "</symbol>\n",
       "<symbol id=\"icon-file-text2\" viewBox=\"0 0 32 32\">\n",
       "<path d=\"M28.681 7.159c-0.694-0.947-1.662-2.053-2.724-3.116s-2.169-2.030-3.116-2.724c-1.612-1.182-2.393-1.319-2.841-1.319h-15.5c-1.378 0-2.5 1.121-2.5 2.5v27c0 1.378 1.122 2.5 2.5 2.5h23c1.378 0 2.5-1.122 2.5-2.5v-19.5c0-0.448-0.137-1.23-1.319-2.841zM24.543 5.457c0.959 0.959 1.712 1.825 2.268 2.543h-4.811v-4.811c0.718 0.556 1.584 1.309 2.543 2.268zM28 29.5c0 0.271-0.229 0.5-0.5 0.5h-23c-0.271 0-0.5-0.229-0.5-0.5v-27c0-0.271 0.229-0.5 0.5-0.5 0 0 15.499-0 15.5 0v7c0 0.552 0.448 1 1 1h7v19.5z\"></path>\n",
       "<path d=\"M23 26h-14c-0.552 0-1-0.448-1-1s0.448-1 1-1h14c0.552 0 1 0.448 1 1s-0.448 1-1 1z\"></path>\n",
       "<path d=\"M23 22h-14c-0.552 0-1-0.448-1-1s0.448-1 1-1h14c0.552 0 1 0.448 1 1s-0.448 1-1 1z\"></path>\n",
       "<path d=\"M23 18h-14c-0.552 0-1-0.448-1-1s0.448-1 1-1h14c0.552 0 1 0.448 1 1s-0.448 1-1 1z\"></path>\n",
       "</symbol>\n",
       "</defs>\n",
       "</svg>\n",
       "<style>/* CSS stylesheet for displaying xarray objects in jupyterlab.\n",
       " *\n",
       " */\n",
       "\n",
       ":root {\n",
       "  --xr-font-color0: var(--jp-content-font-color0, rgba(0, 0, 0, 1));\n",
       "  --xr-font-color2: var(--jp-content-font-color2, rgba(0, 0, 0, 0.54));\n",
       "  --xr-font-color3: var(--jp-content-font-color3, rgba(0, 0, 0, 0.38));\n",
       "  --xr-border-color: var(--jp-border-color2, #e0e0e0);\n",
       "  --xr-disabled-color: var(--jp-layout-color3, #bdbdbd);\n",
       "  --xr-background-color: var(--jp-layout-color0, white);\n",
       "  --xr-background-color-row-even: var(--jp-layout-color1, white);\n",
       "  --xr-background-color-row-odd: var(--jp-layout-color2, #eeeeee);\n",
       "}\n",
       "\n",
       "html[theme=\"dark\"],\n",
       "html[data-theme=\"dark\"],\n",
       "body[data-theme=\"dark\"],\n",
       "body.vscode-dark {\n",
       "  --xr-font-color0: rgba(255, 255, 255, 1);\n",
       "  --xr-font-color2: rgba(255, 255, 255, 0.54);\n",
       "  --xr-font-color3: rgba(255, 255, 255, 0.38);\n",
       "  --xr-border-color: #1f1f1f;\n",
       "  --xr-disabled-color: #515151;\n",
       "  --xr-background-color: #111111;\n",
       "  --xr-background-color-row-even: #111111;\n",
       "  --xr-background-color-row-odd: #313131;\n",
       "}\n",
       "\n",
       ".xr-wrap {\n",
       "  display: block !important;\n",
       "  min-width: 300px;\n",
       "  max-width: 700px;\n",
       "}\n",
       "\n",
       ".xr-text-repr-fallback {\n",
       "  /* fallback to plain text repr when CSS is not injected (untrusted notebook) */\n",
       "  display: none;\n",
       "}\n",
       "\n",
       ".xr-header {\n",
       "  padding-top: 6px;\n",
       "  padding-bottom: 6px;\n",
       "  margin-bottom: 4px;\n",
       "  border-bottom: solid 1px var(--xr-border-color);\n",
       "}\n",
       "\n",
       ".xr-header > div,\n",
       ".xr-header > ul {\n",
       "  display: inline;\n",
       "  margin-top: 0;\n",
       "  margin-bottom: 0;\n",
       "}\n",
       "\n",
       ".xr-obj-type,\n",
       ".xr-array-name {\n",
       "  margin-left: 2px;\n",
       "  margin-right: 10px;\n",
       "}\n",
       "\n",
       ".xr-obj-type {\n",
       "  color: var(--xr-font-color2);\n",
       "}\n",
       "\n",
       ".xr-sections {\n",
       "  padding-left: 0 !important;\n",
       "  display: grid;\n",
       "  grid-template-columns: 150px auto auto 1fr 0 20px 0 20px;\n",
       "}\n",
       "\n",
       ".xr-section-item {\n",
       "  display: contents;\n",
       "}\n",
       "\n",
       ".xr-section-item input {\n",
       "  display: inline-block;\n",
       "  opacity: 0;\n",
       "  height: 0;\n",
       "}\n",
       "\n",
       ".xr-section-item input + label {\n",
       "  color: var(--xr-disabled-color);\n",
       "}\n",
       "\n",
       ".xr-section-item input:enabled + label {\n",
       "  cursor: pointer;\n",
       "  color: var(--xr-font-color2);\n",
       "}\n",
       "\n",
       ".xr-section-item input:focus + label {\n",
       "  border: 2px solid var(--xr-font-color0);\n",
       "}\n",
       "\n",
       ".xr-section-item input:enabled + label:hover {\n",
       "  color: var(--xr-font-color0);\n",
       "}\n",
       "\n",
       ".xr-section-summary {\n",
       "  grid-column: 1;\n",
       "  color: var(--xr-font-color2);\n",
       "  font-weight: 500;\n",
       "}\n",
       "\n",
       ".xr-section-summary > span {\n",
       "  display: inline-block;\n",
       "  padding-left: 0.5em;\n",
       "}\n",
       "\n",
       ".xr-section-summary-in:disabled + label {\n",
       "  color: var(--xr-font-color2);\n",
       "}\n",
       "\n",
       ".xr-section-summary-in + label:before {\n",
       "  display: inline-block;\n",
       "  content: \"►\";\n",
       "  font-size: 11px;\n",
       "  width: 15px;\n",
       "  text-align: center;\n",
       "}\n",
       "\n",
       ".xr-section-summary-in:disabled + label:before {\n",
       "  color: var(--xr-disabled-color);\n",
       "}\n",
       "\n",
       ".xr-section-summary-in:checked + label:before {\n",
       "  content: \"▼\";\n",
       "}\n",
       "\n",
       ".xr-section-summary-in:checked + label > span {\n",
       "  display: none;\n",
       "}\n",
       "\n",
       ".xr-section-summary,\n",
       ".xr-section-inline-details {\n",
       "  padding-top: 4px;\n",
       "  padding-bottom: 4px;\n",
       "}\n",
       "\n",
       ".xr-section-inline-details {\n",
       "  grid-column: 2 / -1;\n",
       "}\n",
       "\n",
       ".xr-section-details {\n",
       "  display: none;\n",
       "  grid-column: 1 / -1;\n",
       "  margin-bottom: 5px;\n",
       "}\n",
       "\n",
       ".xr-section-summary-in:checked ~ .xr-section-details {\n",
       "  display: contents;\n",
       "}\n",
       "\n",
       ".xr-array-wrap {\n",
       "  grid-column: 1 / -1;\n",
       "  display: grid;\n",
       "  grid-template-columns: 20px auto;\n",
       "}\n",
       "\n",
       ".xr-array-wrap > label {\n",
       "  grid-column: 1;\n",
       "  vertical-align: top;\n",
       "}\n",
       "\n",
       ".xr-preview {\n",
       "  color: var(--xr-font-color3);\n",
       "}\n",
       "\n",
       ".xr-array-preview,\n",
       ".xr-array-data {\n",
       "  padding: 0 5px !important;\n",
       "  grid-column: 2;\n",
       "}\n",
       "\n",
       ".xr-array-data,\n",
       ".xr-array-in:checked ~ .xr-array-preview {\n",
       "  display: none;\n",
       "}\n",
       "\n",
       ".xr-array-in:checked ~ .xr-array-data,\n",
       ".xr-array-preview {\n",
       "  display: inline-block;\n",
       "}\n",
       "\n",
       ".xr-dim-list {\n",
       "  display: inline-block !important;\n",
       "  list-style: none;\n",
       "  padding: 0 !important;\n",
       "  margin: 0;\n",
       "}\n",
       "\n",
       ".xr-dim-list li {\n",
       "  display: inline-block;\n",
       "  padding: 0;\n",
       "  margin: 0;\n",
       "}\n",
       "\n",
       ".xr-dim-list:before {\n",
       "  content: \"(\";\n",
       "}\n",
       "\n",
       ".xr-dim-list:after {\n",
       "  content: \")\";\n",
       "}\n",
       "\n",
       ".xr-dim-list li:not(:last-child):after {\n",
       "  content: \",\";\n",
       "  padding-right: 5px;\n",
       "}\n",
       "\n",
       ".xr-has-index {\n",
       "  font-weight: bold;\n",
       "}\n",
       "\n",
       ".xr-var-list,\n",
       ".xr-var-item {\n",
       "  display: contents;\n",
       "}\n",
       "\n",
       ".xr-var-item > div,\n",
       ".xr-var-item label,\n",
       ".xr-var-item > .xr-var-name span {\n",
       "  background-color: var(--xr-background-color-row-even);\n",
       "  margin-bottom: 0;\n",
       "}\n",
       "\n",
       ".xr-var-item > .xr-var-name:hover span {\n",
       "  padding-right: 5px;\n",
       "}\n",
       "\n",
       ".xr-var-list > li:nth-child(odd) > div,\n",
       ".xr-var-list > li:nth-child(odd) > label,\n",
       ".xr-var-list > li:nth-child(odd) > .xr-var-name span {\n",
       "  background-color: var(--xr-background-color-row-odd);\n",
       "}\n",
       "\n",
       ".xr-var-name {\n",
       "  grid-column: 1;\n",
       "}\n",
       "\n",
       ".xr-var-dims {\n",
       "  grid-column: 2;\n",
       "}\n",
       "\n",
       ".xr-var-dtype {\n",
       "  grid-column: 3;\n",
       "  text-align: right;\n",
       "  color: var(--xr-font-color2);\n",
       "}\n",
       "\n",
       ".xr-var-preview {\n",
       "  grid-column: 4;\n",
       "}\n",
       "\n",
       ".xr-index-preview {\n",
       "  grid-column: 2 / 5;\n",
       "  color: var(--xr-font-color2);\n",
       "}\n",
       "\n",
       ".xr-var-name,\n",
       ".xr-var-dims,\n",
       ".xr-var-dtype,\n",
       ".xr-preview,\n",
       ".xr-attrs dt {\n",
       "  white-space: nowrap;\n",
       "  overflow: hidden;\n",
       "  text-overflow: ellipsis;\n",
       "  padding-right: 10px;\n",
       "}\n",
       "\n",
       ".xr-var-name:hover,\n",
       ".xr-var-dims:hover,\n",
       ".xr-var-dtype:hover,\n",
       ".xr-attrs dt:hover {\n",
       "  overflow: visible;\n",
       "  width: auto;\n",
       "  z-index: 1;\n",
       "}\n",
       "\n",
       ".xr-var-attrs,\n",
       ".xr-var-data,\n",
       ".xr-index-data {\n",
       "  display: none;\n",
       "  background-color: var(--xr-background-color) !important;\n",
       "  padding-bottom: 5px !important;\n",
       "}\n",
       "\n",
       ".xr-var-attrs-in:checked ~ .xr-var-attrs,\n",
       ".xr-var-data-in:checked ~ .xr-var-data,\n",
       ".xr-index-data-in:checked ~ .xr-index-data {\n",
       "  display: block;\n",
       "}\n",
       "\n",
       ".xr-var-data > table {\n",
       "  float: right;\n",
       "}\n",
       "\n",
       ".xr-var-name span,\n",
       ".xr-var-data,\n",
       ".xr-index-name div,\n",
       ".xr-index-data,\n",
       ".xr-attrs {\n",
       "  padding-left: 25px !important;\n",
       "}\n",
       "\n",
       ".xr-attrs,\n",
       ".xr-var-attrs,\n",
       ".xr-var-data,\n",
       ".xr-index-data {\n",
       "  grid-column: 1 / -1;\n",
       "}\n",
       "\n",
       "dl.xr-attrs {\n",
       "  padding: 0;\n",
       "  margin: 0;\n",
       "  display: grid;\n",
       "  grid-template-columns: 125px auto;\n",
       "}\n",
       "\n",
       ".xr-attrs dt,\n",
       ".xr-attrs dd {\n",
       "  padding: 0;\n",
       "  margin: 0;\n",
       "  float: left;\n",
       "  padding-right: 10px;\n",
       "  width: auto;\n",
       "}\n",
       "\n",
       ".xr-attrs dt {\n",
       "  font-weight: normal;\n",
       "  grid-column: 1;\n",
       "}\n",
       "\n",
       ".xr-attrs dt:hover span {\n",
       "  display: inline-block;\n",
       "  background: var(--xr-background-color);\n",
       "  padding-right: 10px;\n",
       "}\n",
       "\n",
       ".xr-attrs dd {\n",
       "  grid-column: 2;\n",
       "  white-space: pre-wrap;\n",
       "  word-break: break-all;\n",
       "}\n",
       "\n",
       ".xr-icon-database,\n",
       ".xr-icon-file-text2,\n",
       ".xr-no-icon {\n",
       "  display: inline-block;\n",
       "  vertical-align: middle;\n",
       "  width: 1em;\n",
       "  height: 1.5em !important;\n",
       "  stroke-width: 0;\n",
       "  stroke: currentColor;\n",
       "  fill: currentColor;\n",
       "}\n",
       "</style><pre class='xr-text-repr-fallback'>&lt;xarray.Dataset&gt; Size: 10GB\n",
       "Dimensions:  (time: 1150, lat: 720, lon: 1440)\n",
       "Coordinates:\n",
       "  * lon      (lon) float32 6kB -179.9 -179.6 -179.4 -179.1 ... 179.4 179.6 179.9\n",
       "  * lat      (lat) float32 3kB -89.88 -89.62 -89.38 -89.12 ... 89.38 89.62 89.88\n",
       "  * time     (time) datetime64[ns] 9kB 1998-01-01 1998-01-09 ... 2022-12-27\n",
       "Data variables:\n",
       "    CAFE     (time, lat, lon) float64 10GB ...</pre><div class='xr-wrap' style='display:none'><div class='xr-header'><div class='xr-obj-type'>xarray.Dataset</div></div><ul class='xr-sections'><li class='xr-section-item'><input id='section-33012db5-4a67-4d1c-b1dd-51dc58ab64ec' class='xr-section-summary-in' type='checkbox' disabled ><label for='section-33012db5-4a67-4d1c-b1dd-51dc58ab64ec' class='xr-section-summary'  title='Expand/collapse section'>Dimensions:</label><div class='xr-section-inline-details'><ul class='xr-dim-list'><li><span class='xr-has-index'>time</span>: 1150</li><li><span class='xr-has-index'>lat</span>: 720</li><li><span class='xr-has-index'>lon</span>: 1440</li></ul></div><div class='xr-section-details'></div></li><li class='xr-section-item'><input id='section-29d99f32-5a3c-4e65-b10a-dccdd937330a' class='xr-section-summary-in' type='checkbox'  checked><label for='section-29d99f32-5a3c-4e65-b10a-dccdd937330a' class='xr-section-summary' >Coordinates: <span>(3)</span></label><div class='xr-section-inline-details'></div><div class='xr-section-details'><ul class='xr-var-list'><li class='xr-var-item'><div class='xr-var-name'><span class='xr-has-index'>lon</span></div><div class='xr-var-dims'>(lon)</div><div class='xr-var-dtype'>float32</div><div class='xr-var-preview xr-preview'>-179.9 -179.6 ... 179.6 179.9</div><input id='attrs-b9f76a4a-57f2-49de-91ed-325ce23986e5' class='xr-var-attrs-in' type='checkbox' disabled><label for='attrs-b9f76a4a-57f2-49de-91ed-325ce23986e5' title='Show/Hide attributes'><svg class='icon xr-icon-file-text2'><use xlink:href='#icon-file-text2'></use></svg></label><input id='data-04353f49-8a28-4fdb-9ff5-74d4681b4ea9' class='xr-var-data-in' type='checkbox'><label for='data-04353f49-8a28-4fdb-9ff5-74d4681b4ea9' title='Show/Hide data repr'><svg class='icon xr-icon-database'><use xlink:href='#icon-database'></use></svg></label><div class='xr-var-attrs'><dl class='xr-attrs'></dl></div><div class='xr-var-data'><pre>array([-179.875, -179.625, -179.375, ...,  179.375,  179.625,  179.875],\n",
       "      dtype=float32)</pre></div></li><li class='xr-var-item'><div class='xr-var-name'><span class='xr-has-index'>lat</span></div><div class='xr-var-dims'>(lat)</div><div class='xr-var-dtype'>float32</div><div class='xr-var-preview xr-preview'>-89.88 -89.62 ... 89.62 89.88</div><input id='attrs-a2e4a6df-32a7-45cf-9b05-e9a937b1e798' class='xr-var-attrs-in' type='checkbox' disabled><label for='attrs-a2e4a6df-32a7-45cf-9b05-e9a937b1e798' title='Show/Hide attributes'><svg class='icon xr-icon-file-text2'><use xlink:href='#icon-file-text2'></use></svg></label><input id='data-f7e291bd-83ba-4394-9483-464fe9926513' class='xr-var-data-in' type='checkbox'><label for='data-f7e291bd-83ba-4394-9483-464fe9926513' title='Show/Hide data repr'><svg class='icon xr-icon-database'><use xlink:href='#icon-database'></use></svg></label><div class='xr-var-attrs'><dl class='xr-attrs'></dl></div><div class='xr-var-data'><pre>array([-89.875, -89.625, -89.375, ...,  89.375,  89.625,  89.875],\n",
       "      dtype=float32)</pre></div></li><li class='xr-var-item'><div class='xr-var-name'><span class='xr-has-index'>time</span></div><div class='xr-var-dims'>(time)</div><div class='xr-var-dtype'>datetime64[ns]</div><div class='xr-var-preview xr-preview'>1998-01-01 ... 2022-12-27</div><input id='attrs-e8ac95bd-35ef-4b25-ba70-cedcdbd27e70' class='xr-var-attrs-in' type='checkbox' disabled><label for='attrs-e8ac95bd-35ef-4b25-ba70-cedcdbd27e70' title='Show/Hide attributes'><svg class='icon xr-icon-file-text2'><use xlink:href='#icon-file-text2'></use></svg></label><input id='data-dd511ef4-5551-473c-aaa9-d8c039fa56e2' class='xr-var-data-in' type='checkbox'><label for='data-dd511ef4-5551-473c-aaa9-d8c039fa56e2' title='Show/Hide data repr'><svg class='icon xr-icon-database'><use xlink:href='#icon-database'></use></svg></label><div class='xr-var-attrs'><dl class='xr-attrs'></dl></div><div class='xr-var-data'><pre>array([&#x27;1998-01-01T00:00:00.000000000&#x27;, &#x27;1998-01-09T00:00:00.000000000&#x27;,\n",
       "       &#x27;1998-01-17T00:00:00.000000000&#x27;, ..., &#x27;2022-12-11T00:00:00.000000000&#x27;,\n",
       "       &#x27;2022-12-19T00:00:00.000000000&#x27;, &#x27;2022-12-27T00:00:00.000000000&#x27;],\n",
       "      dtype=&#x27;datetime64[ns]&#x27;)</pre></div></li></ul></div></li><li class='xr-section-item'><input id='section-15c3075d-c8c4-407f-b8d7-fa22fdee656d' class='xr-section-summary-in' type='checkbox'  checked><label for='section-15c3075d-c8c4-407f-b8d7-fa22fdee656d' class='xr-section-summary' >Data variables: <span>(1)</span></label><div class='xr-section-inline-details'></div><div class='xr-section-details'><ul class='xr-var-list'><li class='xr-var-item'><div class='xr-var-name'><span>CAFE</span></div><div class='xr-var-dims'>(time, lat, lon)</div><div class='xr-var-dtype'>float64</div><div class='xr-var-preview xr-preview'>...</div><input id='attrs-53a595dd-8fff-4f67-8e33-396fb319b1b6' class='xr-var-attrs-in' type='checkbox' disabled><label for='attrs-53a595dd-8fff-4f67-8e33-396fb319b1b6' title='Show/Hide attributes'><svg class='icon xr-icon-file-text2'><use xlink:href='#icon-file-text2'></use></svg></label><input id='data-39f1da2b-9752-41ca-8790-56c1bae972e5' class='xr-var-data-in' type='checkbox'><label for='data-39f1da2b-9752-41ca-8790-56c1bae972e5' title='Show/Hide data repr'><svg class='icon xr-icon-database'><use xlink:href='#icon-database'></use></svg></label><div class='xr-var-attrs'><dl class='xr-attrs'></dl></div><div class='xr-var-data'><pre>[1192320000 values with dtype=float64]</pre></div></li></ul></div></li><li class='xr-section-item'><input id='section-e647729f-ddc8-4f14-a672-150434a25b52' class='xr-section-summary-in' type='checkbox'  ><label for='section-e647729f-ddc8-4f14-a672-150434a25b52' class='xr-section-summary' >Indexes: <span>(3)</span></label><div class='xr-section-inline-details'></div><div class='xr-section-details'><ul class='xr-var-list'><li class='xr-var-item'><div class='xr-index-name'><div>lon</div></div><div class='xr-index-preview'>PandasIndex</div><input type='checkbox' disabled/><label></label><input id='index-f8e54750-8a13-48ee-a5a2-ce15634fde93' class='xr-index-data-in' type='checkbox'/><label for='index-f8e54750-8a13-48ee-a5a2-ce15634fde93' title='Show/Hide index repr'><svg class='icon xr-icon-database'><use xlink:href='#icon-database'></use></svg></label><div class='xr-index-data'><pre>PandasIndex(Index([-179.875, -179.625, -179.375, -179.125, -178.875, -178.625, -178.375,\n",
       "       -178.125, -177.875, -177.625,\n",
       "       ...\n",
       "        177.625,  177.875,  178.125,  178.375,  178.625,  178.875,  179.125,\n",
       "        179.375,  179.625,  179.875],\n",
       "      dtype=&#x27;float32&#x27;, name=&#x27;lon&#x27;, length=1440))</pre></div></li><li class='xr-var-item'><div class='xr-index-name'><div>lat</div></div><div class='xr-index-preview'>PandasIndex</div><input type='checkbox' disabled/><label></label><input id='index-d873c9de-5c1f-4260-9a09-fa307ed2f515' class='xr-index-data-in' type='checkbox'/><label for='index-d873c9de-5c1f-4260-9a09-fa307ed2f515' title='Show/Hide index repr'><svg class='icon xr-icon-database'><use xlink:href='#icon-database'></use></svg></label><div class='xr-index-data'><pre>PandasIndex(Index([-89.875, -89.625, -89.375, -89.125, -88.875, -88.625, -88.375, -88.125,\n",
       "       -87.875, -87.625,\n",
       "       ...\n",
       "        87.625,  87.875,  88.125,  88.375,  88.625,  88.875,  89.125,  89.375,\n",
       "        89.625,  89.875],\n",
       "      dtype=&#x27;float32&#x27;, name=&#x27;lat&#x27;, length=720))</pre></div></li><li class='xr-var-item'><div class='xr-index-name'><div>time</div></div><div class='xr-index-preview'>PandasIndex</div><input type='checkbox' disabled/><label></label><input id='index-052e985a-485c-4d6c-b566-c01200053212' class='xr-index-data-in' type='checkbox'/><label for='index-052e985a-485c-4d6c-b566-c01200053212' title='Show/Hide index repr'><svg class='icon xr-icon-database'><use xlink:href='#icon-database'></use></svg></label><div class='xr-index-data'><pre>PandasIndex(DatetimeIndex([&#x27;1998-01-01&#x27;, &#x27;1998-01-09&#x27;, &#x27;1998-01-17&#x27;, &#x27;1998-01-25&#x27;,\n",
       "               &#x27;1998-02-02&#x27;, &#x27;1998-02-10&#x27;, &#x27;1998-02-18&#x27;, &#x27;1998-02-26&#x27;,\n",
       "               &#x27;1998-03-06&#x27;, &#x27;1998-03-14&#x27;,\n",
       "               ...\n",
       "               &#x27;2022-10-16&#x27;, &#x27;2022-10-24&#x27;, &#x27;2022-11-01&#x27;, &#x27;2022-11-09&#x27;,\n",
       "               &#x27;2022-11-17&#x27;, &#x27;2022-11-25&#x27;, &#x27;2022-12-03&#x27;, &#x27;2022-12-11&#x27;,\n",
       "               &#x27;2022-12-19&#x27;, &#x27;2022-12-27&#x27;],\n",
       "              dtype=&#x27;datetime64[ns]&#x27;, name=&#x27;time&#x27;, length=1150, freq=None))</pre></div></li></ul></div></li><li class='xr-section-item'><input id='section-0e12e10c-e04f-4e86-9aca-e3b6992bef62' class='xr-section-summary-in' type='checkbox' disabled ><label for='section-0e12e10c-e04f-4e86-9aca-e3b6992bef62' class='xr-section-summary'  title='Expand/collapse section'>Attributes: <span>(0)</span></label><div class='xr-section-inline-details'></div><div class='xr-section-details'><dl class='xr-attrs'></dl></div></li></ul></div></div>"
      ],
      "text/plain": [
       "<xarray.Dataset> Size: 10GB\n",
       "Dimensions:  (time: 1150, lat: 720, lon: 1440)\n",
       "Coordinates:\n",
       "  * lon      (lon) float32 6kB -179.9 -179.6 -179.4 -179.1 ... 179.4 179.6 179.9\n",
       "  * lat      (lat) float32 3kB -89.88 -89.62 -89.38 -89.12 ... 89.38 89.62 89.88\n",
       "  * time     (time) datetime64[ns] 9kB 1998-01-01 1998-01-09 ... 2022-12-27\n",
       "Data variables:\n",
       "    CAFE     (time, lat, lon) float64 10GB ..."
      ]
     },
     "execution_count": 21,
     "metadata": {},
     "output_type": "execute_result"
    }
   ],
   "source": [
    "ds_cafe"
   ]
  },
  {
   "cell_type": "code",
   "execution_count": 22,
   "id": "d4607c4f",
   "metadata": {},
   "outputs": [],
   "source": [
    "# Select Area of Papa station + time 1998-2020 to be consistent with other forcings\n",
    "ds_cafe_papa = ds_cafe.sel(\n",
    "    lat=slice(48.5, 50.5),  \n",
    "    lon=slice(-130.5, -128.5),\n",
    "    time=slice(\"1998\", \"2020\"),\n",
    ")"
   ]
  },
  {
   "cell_type": "code",
   "execution_count": 23,
   "id": "0db76a41",
   "metadata": {},
   "outputs": [
    {
     "data": {
      "text/plain": [
       "10459"
      ]
     },
     "execution_count": 23,
     "metadata": {},
     "output_type": "execute_result"
    }
   ],
   "source": [
    "ds_cafe_papa.CAFE.isnull().sum().item()\n"
   ]
  },
  {
   "cell_type": "code",
   "execution_count": 24,
   "id": "9bcedbb7",
   "metadata": {},
   "outputs": [],
   "source": [
    "# Spatial mean\n",
    "ds_cafe_papa=ds_cafe_papa.mean(dim=['lon','lat'],skipna=True)"
   ]
  },
  {
   "cell_type": "code",
   "execution_count": 25,
   "id": "8990606d",
   "metadata": {},
   "outputs": [
    {
     "data": {
      "text/html": [
       "<div><svg style=\"position: absolute; width: 0; height: 0; overflow: hidden\">\n",
       "<defs>\n",
       "<symbol id=\"icon-database\" viewBox=\"0 0 32 32\">\n",
       "<path d=\"M16 0c-8.837 0-16 2.239-16 5v4c0 2.761 7.163 5 16 5s16-2.239 16-5v-4c0-2.761-7.163-5-16-5z\"></path>\n",
       "<path d=\"M16 17c-8.837 0-16-2.239-16-5v6c0 2.761 7.163 5 16 5s16-2.239 16-5v-6c0 2.761-7.163 5-16 5z\"></path>\n",
       "<path d=\"M16 26c-8.837 0-16-2.239-16-5v6c0 2.761 7.163 5 16 5s16-2.239 16-5v-6c0 2.761-7.163 5-16 5z\"></path>\n",
       "</symbol>\n",
       "<symbol id=\"icon-file-text2\" viewBox=\"0 0 32 32\">\n",
       "<path d=\"M28.681 7.159c-0.694-0.947-1.662-2.053-2.724-3.116s-2.169-2.030-3.116-2.724c-1.612-1.182-2.393-1.319-2.841-1.319h-15.5c-1.378 0-2.5 1.121-2.5 2.5v27c0 1.378 1.122 2.5 2.5 2.5h23c1.378 0 2.5-1.122 2.5-2.5v-19.5c0-0.448-0.137-1.23-1.319-2.841zM24.543 5.457c0.959 0.959 1.712 1.825 2.268 2.543h-4.811v-4.811c0.718 0.556 1.584 1.309 2.543 2.268zM28 29.5c0 0.271-0.229 0.5-0.5 0.5h-23c-0.271 0-0.5-0.229-0.5-0.5v-27c0-0.271 0.229-0.5 0.5-0.5 0 0 15.499-0 15.5 0v7c0 0.552 0.448 1 1 1h7v19.5z\"></path>\n",
       "<path d=\"M23 26h-14c-0.552 0-1-0.448-1-1s0.448-1 1-1h14c0.552 0 1 0.448 1 1s-0.448 1-1 1z\"></path>\n",
       "<path d=\"M23 22h-14c-0.552 0-1-0.448-1-1s0.448-1 1-1h14c0.552 0 1 0.448 1 1s-0.448 1-1 1z\"></path>\n",
       "<path d=\"M23 18h-14c-0.552 0-1-0.448-1-1s0.448-1 1-1h14c0.552 0 1 0.448 1 1s-0.448 1-1 1z\"></path>\n",
       "</symbol>\n",
       "</defs>\n",
       "</svg>\n",
       "<style>/* CSS stylesheet for displaying xarray objects in jupyterlab.\n",
       " *\n",
       " */\n",
       "\n",
       ":root {\n",
       "  --xr-font-color0: var(--jp-content-font-color0, rgba(0, 0, 0, 1));\n",
       "  --xr-font-color2: var(--jp-content-font-color2, rgba(0, 0, 0, 0.54));\n",
       "  --xr-font-color3: var(--jp-content-font-color3, rgba(0, 0, 0, 0.38));\n",
       "  --xr-border-color: var(--jp-border-color2, #e0e0e0);\n",
       "  --xr-disabled-color: var(--jp-layout-color3, #bdbdbd);\n",
       "  --xr-background-color: var(--jp-layout-color0, white);\n",
       "  --xr-background-color-row-even: var(--jp-layout-color1, white);\n",
       "  --xr-background-color-row-odd: var(--jp-layout-color2, #eeeeee);\n",
       "}\n",
       "\n",
       "html[theme=\"dark\"],\n",
       "html[data-theme=\"dark\"],\n",
       "body[data-theme=\"dark\"],\n",
       "body.vscode-dark {\n",
       "  --xr-font-color0: rgba(255, 255, 255, 1);\n",
       "  --xr-font-color2: rgba(255, 255, 255, 0.54);\n",
       "  --xr-font-color3: rgba(255, 255, 255, 0.38);\n",
       "  --xr-border-color: #1f1f1f;\n",
       "  --xr-disabled-color: #515151;\n",
       "  --xr-background-color: #111111;\n",
       "  --xr-background-color-row-even: #111111;\n",
       "  --xr-background-color-row-odd: #313131;\n",
       "}\n",
       "\n",
       ".xr-wrap {\n",
       "  display: block !important;\n",
       "  min-width: 300px;\n",
       "  max-width: 700px;\n",
       "}\n",
       "\n",
       ".xr-text-repr-fallback {\n",
       "  /* fallback to plain text repr when CSS is not injected (untrusted notebook) */\n",
       "  display: none;\n",
       "}\n",
       "\n",
       ".xr-header {\n",
       "  padding-top: 6px;\n",
       "  padding-bottom: 6px;\n",
       "  margin-bottom: 4px;\n",
       "  border-bottom: solid 1px var(--xr-border-color);\n",
       "}\n",
       "\n",
       ".xr-header > div,\n",
       ".xr-header > ul {\n",
       "  display: inline;\n",
       "  margin-top: 0;\n",
       "  margin-bottom: 0;\n",
       "}\n",
       "\n",
       ".xr-obj-type,\n",
       ".xr-array-name {\n",
       "  margin-left: 2px;\n",
       "  margin-right: 10px;\n",
       "}\n",
       "\n",
       ".xr-obj-type {\n",
       "  color: var(--xr-font-color2);\n",
       "}\n",
       "\n",
       ".xr-sections {\n",
       "  padding-left: 0 !important;\n",
       "  display: grid;\n",
       "  grid-template-columns: 150px auto auto 1fr 0 20px 0 20px;\n",
       "}\n",
       "\n",
       ".xr-section-item {\n",
       "  display: contents;\n",
       "}\n",
       "\n",
       ".xr-section-item input {\n",
       "  display: inline-block;\n",
       "  opacity: 0;\n",
       "  height: 0;\n",
       "}\n",
       "\n",
       ".xr-section-item input + label {\n",
       "  color: var(--xr-disabled-color);\n",
       "}\n",
       "\n",
       ".xr-section-item input:enabled + label {\n",
       "  cursor: pointer;\n",
       "  color: var(--xr-font-color2);\n",
       "}\n",
       "\n",
       ".xr-section-item input:focus + label {\n",
       "  border: 2px solid var(--xr-font-color0);\n",
       "}\n",
       "\n",
       ".xr-section-item input:enabled + label:hover {\n",
       "  color: var(--xr-font-color0);\n",
       "}\n",
       "\n",
       ".xr-section-summary {\n",
       "  grid-column: 1;\n",
       "  color: var(--xr-font-color2);\n",
       "  font-weight: 500;\n",
       "}\n",
       "\n",
       ".xr-section-summary > span {\n",
       "  display: inline-block;\n",
       "  padding-left: 0.5em;\n",
       "}\n",
       "\n",
       ".xr-section-summary-in:disabled + label {\n",
       "  color: var(--xr-font-color2);\n",
       "}\n",
       "\n",
       ".xr-section-summary-in + label:before {\n",
       "  display: inline-block;\n",
       "  content: \"►\";\n",
       "  font-size: 11px;\n",
       "  width: 15px;\n",
       "  text-align: center;\n",
       "}\n",
       "\n",
       ".xr-section-summary-in:disabled + label:before {\n",
       "  color: var(--xr-disabled-color);\n",
       "}\n",
       "\n",
       ".xr-section-summary-in:checked + label:before {\n",
       "  content: \"▼\";\n",
       "}\n",
       "\n",
       ".xr-section-summary-in:checked + label > span {\n",
       "  display: none;\n",
       "}\n",
       "\n",
       ".xr-section-summary,\n",
       ".xr-section-inline-details {\n",
       "  padding-top: 4px;\n",
       "  padding-bottom: 4px;\n",
       "}\n",
       "\n",
       ".xr-section-inline-details {\n",
       "  grid-column: 2 / -1;\n",
       "}\n",
       "\n",
       ".xr-section-details {\n",
       "  display: none;\n",
       "  grid-column: 1 / -1;\n",
       "  margin-bottom: 5px;\n",
       "}\n",
       "\n",
       ".xr-section-summary-in:checked ~ .xr-section-details {\n",
       "  display: contents;\n",
       "}\n",
       "\n",
       ".xr-array-wrap {\n",
       "  grid-column: 1 / -1;\n",
       "  display: grid;\n",
       "  grid-template-columns: 20px auto;\n",
       "}\n",
       "\n",
       ".xr-array-wrap > label {\n",
       "  grid-column: 1;\n",
       "  vertical-align: top;\n",
       "}\n",
       "\n",
       ".xr-preview {\n",
       "  color: var(--xr-font-color3);\n",
       "}\n",
       "\n",
       ".xr-array-preview,\n",
       ".xr-array-data {\n",
       "  padding: 0 5px !important;\n",
       "  grid-column: 2;\n",
       "}\n",
       "\n",
       ".xr-array-data,\n",
       ".xr-array-in:checked ~ .xr-array-preview {\n",
       "  display: none;\n",
       "}\n",
       "\n",
       ".xr-array-in:checked ~ .xr-array-data,\n",
       ".xr-array-preview {\n",
       "  display: inline-block;\n",
       "}\n",
       "\n",
       ".xr-dim-list {\n",
       "  display: inline-block !important;\n",
       "  list-style: none;\n",
       "  padding: 0 !important;\n",
       "  margin: 0;\n",
       "}\n",
       "\n",
       ".xr-dim-list li {\n",
       "  display: inline-block;\n",
       "  padding: 0;\n",
       "  margin: 0;\n",
       "}\n",
       "\n",
       ".xr-dim-list:before {\n",
       "  content: \"(\";\n",
       "}\n",
       "\n",
       ".xr-dim-list:after {\n",
       "  content: \")\";\n",
       "}\n",
       "\n",
       ".xr-dim-list li:not(:last-child):after {\n",
       "  content: \",\";\n",
       "  padding-right: 5px;\n",
       "}\n",
       "\n",
       ".xr-has-index {\n",
       "  font-weight: bold;\n",
       "}\n",
       "\n",
       ".xr-var-list,\n",
       ".xr-var-item {\n",
       "  display: contents;\n",
       "}\n",
       "\n",
       ".xr-var-item > div,\n",
       ".xr-var-item label,\n",
       ".xr-var-item > .xr-var-name span {\n",
       "  background-color: var(--xr-background-color-row-even);\n",
       "  margin-bottom: 0;\n",
       "}\n",
       "\n",
       ".xr-var-item > .xr-var-name:hover span {\n",
       "  padding-right: 5px;\n",
       "}\n",
       "\n",
       ".xr-var-list > li:nth-child(odd) > div,\n",
       ".xr-var-list > li:nth-child(odd) > label,\n",
       ".xr-var-list > li:nth-child(odd) > .xr-var-name span {\n",
       "  background-color: var(--xr-background-color-row-odd);\n",
       "}\n",
       "\n",
       ".xr-var-name {\n",
       "  grid-column: 1;\n",
       "}\n",
       "\n",
       ".xr-var-dims {\n",
       "  grid-column: 2;\n",
       "}\n",
       "\n",
       ".xr-var-dtype {\n",
       "  grid-column: 3;\n",
       "  text-align: right;\n",
       "  color: var(--xr-font-color2);\n",
       "}\n",
       "\n",
       ".xr-var-preview {\n",
       "  grid-column: 4;\n",
       "}\n",
       "\n",
       ".xr-index-preview {\n",
       "  grid-column: 2 / 5;\n",
       "  color: var(--xr-font-color2);\n",
       "}\n",
       "\n",
       ".xr-var-name,\n",
       ".xr-var-dims,\n",
       ".xr-var-dtype,\n",
       ".xr-preview,\n",
       ".xr-attrs dt {\n",
       "  white-space: nowrap;\n",
       "  overflow: hidden;\n",
       "  text-overflow: ellipsis;\n",
       "  padding-right: 10px;\n",
       "}\n",
       "\n",
       ".xr-var-name:hover,\n",
       ".xr-var-dims:hover,\n",
       ".xr-var-dtype:hover,\n",
       ".xr-attrs dt:hover {\n",
       "  overflow: visible;\n",
       "  width: auto;\n",
       "  z-index: 1;\n",
       "}\n",
       "\n",
       ".xr-var-attrs,\n",
       ".xr-var-data,\n",
       ".xr-index-data {\n",
       "  display: none;\n",
       "  background-color: var(--xr-background-color) !important;\n",
       "  padding-bottom: 5px !important;\n",
       "}\n",
       "\n",
       ".xr-var-attrs-in:checked ~ .xr-var-attrs,\n",
       ".xr-var-data-in:checked ~ .xr-var-data,\n",
       ".xr-index-data-in:checked ~ .xr-index-data {\n",
       "  display: block;\n",
       "}\n",
       "\n",
       ".xr-var-data > table {\n",
       "  float: right;\n",
       "}\n",
       "\n",
       ".xr-var-name span,\n",
       ".xr-var-data,\n",
       ".xr-index-name div,\n",
       ".xr-index-data,\n",
       ".xr-attrs {\n",
       "  padding-left: 25px !important;\n",
       "}\n",
       "\n",
       ".xr-attrs,\n",
       ".xr-var-attrs,\n",
       ".xr-var-data,\n",
       ".xr-index-data {\n",
       "  grid-column: 1 / -1;\n",
       "}\n",
       "\n",
       "dl.xr-attrs {\n",
       "  padding: 0;\n",
       "  margin: 0;\n",
       "  display: grid;\n",
       "  grid-template-columns: 125px auto;\n",
       "}\n",
       "\n",
       ".xr-attrs dt,\n",
       ".xr-attrs dd {\n",
       "  padding: 0;\n",
       "  margin: 0;\n",
       "  float: left;\n",
       "  padding-right: 10px;\n",
       "  width: auto;\n",
       "}\n",
       "\n",
       ".xr-attrs dt {\n",
       "  font-weight: normal;\n",
       "  grid-column: 1;\n",
       "}\n",
       "\n",
       ".xr-attrs dt:hover span {\n",
       "  display: inline-block;\n",
       "  background: var(--xr-background-color);\n",
       "  padding-right: 10px;\n",
       "}\n",
       "\n",
       ".xr-attrs dd {\n",
       "  grid-column: 2;\n",
       "  white-space: pre-wrap;\n",
       "  word-break: break-all;\n",
       "}\n",
       "\n",
       ".xr-icon-database,\n",
       ".xr-icon-file-text2,\n",
       ".xr-no-icon {\n",
       "  display: inline-block;\n",
       "  vertical-align: middle;\n",
       "  width: 1em;\n",
       "  height: 1.5em !important;\n",
       "  stroke-width: 0;\n",
       "  stroke: currentColor;\n",
       "  fill: currentColor;\n",
       "}\n",
       "</style><pre class='xr-text-repr-fallback'>&lt;xarray.Dataset&gt; Size: 17kB\n",
       "Dimensions:  (time: 1058)\n",
       "Coordinates:\n",
       "  * time     (time) datetime64[ns] 8kB 1998-01-01 1998-01-09 ... 2020-12-26\n",
       "Data variables:\n",
       "    CAFE     (time) float64 8kB nan nan 215.2 212.9 199.0 ... nan nan nan nan</pre><div class='xr-wrap' style='display:none'><div class='xr-header'><div class='xr-obj-type'>xarray.Dataset</div></div><ul class='xr-sections'><li class='xr-section-item'><input id='section-40181ba8-b3fe-47d8-8b64-55b8dcec5735' class='xr-section-summary-in' type='checkbox' disabled ><label for='section-40181ba8-b3fe-47d8-8b64-55b8dcec5735' class='xr-section-summary'  title='Expand/collapse section'>Dimensions:</label><div class='xr-section-inline-details'><ul class='xr-dim-list'><li><span class='xr-has-index'>time</span>: 1058</li></ul></div><div class='xr-section-details'></div></li><li class='xr-section-item'><input id='section-0f037d02-7446-4504-be6a-601724dc5edb' class='xr-section-summary-in' type='checkbox'  checked><label for='section-0f037d02-7446-4504-be6a-601724dc5edb' class='xr-section-summary' >Coordinates: <span>(1)</span></label><div class='xr-section-inline-details'></div><div class='xr-section-details'><ul class='xr-var-list'><li class='xr-var-item'><div class='xr-var-name'><span class='xr-has-index'>time</span></div><div class='xr-var-dims'>(time)</div><div class='xr-var-dtype'>datetime64[ns]</div><div class='xr-var-preview xr-preview'>1998-01-01 ... 2020-12-26</div><input id='attrs-7c2c42a9-7e48-4c02-80d7-e4eeae2a4f84' class='xr-var-attrs-in' type='checkbox' disabled><label for='attrs-7c2c42a9-7e48-4c02-80d7-e4eeae2a4f84' title='Show/Hide attributes'><svg class='icon xr-icon-file-text2'><use xlink:href='#icon-file-text2'></use></svg></label><input id='data-a9f31635-b6a8-41d6-a113-54b12e19fc43' class='xr-var-data-in' type='checkbox'><label for='data-a9f31635-b6a8-41d6-a113-54b12e19fc43' title='Show/Hide data repr'><svg class='icon xr-icon-database'><use xlink:href='#icon-database'></use></svg></label><div class='xr-var-attrs'><dl class='xr-attrs'></dl></div><div class='xr-var-data'><pre>array([&#x27;1998-01-01T00:00:00.000000000&#x27;, &#x27;1998-01-09T00:00:00.000000000&#x27;,\n",
       "       &#x27;1998-01-17T00:00:00.000000000&#x27;, ..., &#x27;2020-12-10T00:00:00.000000000&#x27;,\n",
       "       &#x27;2020-12-18T00:00:00.000000000&#x27;, &#x27;2020-12-26T00:00:00.000000000&#x27;],\n",
       "      dtype=&#x27;datetime64[ns]&#x27;)</pre></div></li></ul></div></li><li class='xr-section-item'><input id='section-acba4283-892b-4dc3-a856-333ec9d28b21' class='xr-section-summary-in' type='checkbox'  checked><label for='section-acba4283-892b-4dc3-a856-333ec9d28b21' class='xr-section-summary' >Data variables: <span>(1)</span></label><div class='xr-section-inline-details'></div><div class='xr-section-details'><ul class='xr-var-list'><li class='xr-var-item'><div class='xr-var-name'><span>CAFE</span></div><div class='xr-var-dims'>(time)</div><div class='xr-var-dtype'>float64</div><div class='xr-var-preview xr-preview'>nan nan 215.2 212.9 ... nan nan nan</div><input id='attrs-b29c94b9-f620-4243-83c9-e81f90857efb' class='xr-var-attrs-in' type='checkbox' disabled><label for='attrs-b29c94b9-f620-4243-83c9-e81f90857efb' title='Show/Hide attributes'><svg class='icon xr-icon-file-text2'><use xlink:href='#icon-file-text2'></use></svg></label><input id='data-ca5ac8b6-b869-4e52-8b25-5ac79d2297b7' class='xr-var-data-in' type='checkbox'><label for='data-ca5ac8b6-b869-4e52-8b25-5ac79d2297b7' title='Show/Hide data repr'><svg class='icon xr-icon-database'><use xlink:href='#icon-database'></use></svg></label><div class='xr-var-attrs'><dl class='xr-attrs'></dl></div><div class='xr-var-data'><pre>array([         nan,          nan, 215.22317578, ...,          nan,\n",
       "                nan,          nan])</pre></div></li></ul></div></li><li class='xr-section-item'><input id='section-cbbd6c46-03e7-464a-822e-0da269151848' class='xr-section-summary-in' type='checkbox'  ><label for='section-cbbd6c46-03e7-464a-822e-0da269151848' class='xr-section-summary' >Indexes: <span>(1)</span></label><div class='xr-section-inline-details'></div><div class='xr-section-details'><ul class='xr-var-list'><li class='xr-var-item'><div class='xr-index-name'><div>time</div></div><div class='xr-index-preview'>PandasIndex</div><input type='checkbox' disabled/><label></label><input id='index-bcd7bc54-6cef-4929-92d7-2ac8fc195a5e' class='xr-index-data-in' type='checkbox'/><label for='index-bcd7bc54-6cef-4929-92d7-2ac8fc195a5e' title='Show/Hide index repr'><svg class='icon xr-icon-database'><use xlink:href='#icon-database'></use></svg></label><div class='xr-index-data'><pre>PandasIndex(DatetimeIndex([&#x27;1998-01-01&#x27;, &#x27;1998-01-09&#x27;, &#x27;1998-01-17&#x27;, &#x27;1998-01-25&#x27;,\n",
       "               &#x27;1998-02-02&#x27;, &#x27;1998-02-10&#x27;, &#x27;1998-02-18&#x27;, &#x27;1998-02-26&#x27;,\n",
       "               &#x27;1998-03-06&#x27;, &#x27;1998-03-14&#x27;,\n",
       "               ...\n",
       "               &#x27;2020-10-15&#x27;, &#x27;2020-10-23&#x27;, &#x27;2020-10-31&#x27;, &#x27;2020-11-08&#x27;,\n",
       "               &#x27;2020-11-16&#x27;, &#x27;2020-11-24&#x27;, &#x27;2020-12-02&#x27;, &#x27;2020-12-10&#x27;,\n",
       "               &#x27;2020-12-18&#x27;, &#x27;2020-12-26&#x27;],\n",
       "              dtype=&#x27;datetime64[ns]&#x27;, name=&#x27;time&#x27;, length=1058, freq=None))</pre></div></li></ul></div></li><li class='xr-section-item'><input id='section-3021c77e-3fe2-45b1-8ca0-cb3ccd1a5ed8' class='xr-section-summary-in' type='checkbox' disabled ><label for='section-3021c77e-3fe2-45b1-8ca0-cb3ccd1a5ed8' class='xr-section-summary'  title='Expand/collapse section'>Attributes: <span>(0)</span></label><div class='xr-section-inline-details'></div><div class='xr-section-details'><dl class='xr-attrs'></dl></div></li></ul></div></div>"
      ],
      "text/plain": [
       "<xarray.Dataset> Size: 17kB\n",
       "Dimensions:  (time: 1058)\n",
       "Coordinates:\n",
       "  * time     (time) datetime64[ns] 8kB 1998-01-01 1998-01-09 ... 2020-12-26\n",
       "Data variables:\n",
       "    CAFE     (time) float64 8kB nan nan 215.2 212.9 199.0 ... nan nan nan nan"
      ]
     },
     "execution_count": 25,
     "metadata": {},
     "output_type": "execute_result"
    }
   ],
   "source": [
    "ds_cafe_papa"
   ]
  },
  {
   "cell_type": "markdown",
   "id": "dacf8355",
   "metadata": {},
   "source": [
    "<div class=\"alert alert-danger\">\n",
    "    <strong>Warning :</strong> Data every 8 days; For leap years, from march one day difference \n",
    "</div>"
   ]
  },
  {
   "cell_type": "code",
   "execution_count": 26,
   "id": "07ee67a3",
   "metadata": {},
   "outputs": [],
   "source": [
    "# Temporal Median\n",
    "n_periods = 46  # 8-day resolution over 365 days\n",
    "\n",
    "# create 8 days period index\n",
    "period_index = np.tile(np.arange(n_periods), int(len(ds_cafe_papa.time) / n_periods) + 1)[:len(ds_cafe_papa.time)]\n",
    "ds_cafe_papa = ds_cafe_papa.assign_coords(period_8d=(\"time\", period_index))\n",
    "\n",
    "# Compute 8_day climatology\n",
    "clim_8d_cafe = ds_cafe_papa.groupby(\"period_8d\").median(\"time\", skipna=True)\n",
    "\n",
    "# Rename each group 0 45 (group of 8 days) into day in the year (1 -365)\n",
    "day_of_year = [1 + i * 8 for i in range(46)]\n",
    "\n",
    "# check dims\n",
    "clim_8d_cafe = clim_8d_cafe.assign_coords(day_of_year=(\"period_8d\", day_of_year))\n",
    "\n",
    "# Rename dims\n",
    "clim_8d_cafe = clim_8d_cafe.swap_dims({\"period_8d\": \"day_of_year\"}).drop_vars(\"period_8d\")"
   ]
  },
  {
   "cell_type": "code",
   "execution_count": 27,
   "id": "04a9e4aa",
   "metadata": {},
   "outputs": [
    {
     "data": {
      "text/html": [
       "<div><svg style=\"position: absolute; width: 0; height: 0; overflow: hidden\">\n",
       "<defs>\n",
       "<symbol id=\"icon-database\" viewBox=\"0 0 32 32\">\n",
       "<path d=\"M16 0c-8.837 0-16 2.239-16 5v4c0 2.761 7.163 5 16 5s16-2.239 16-5v-4c0-2.761-7.163-5-16-5z\"></path>\n",
       "<path d=\"M16 17c-8.837 0-16-2.239-16-5v6c0 2.761 7.163 5 16 5s16-2.239 16-5v-6c0 2.761-7.163 5-16 5z\"></path>\n",
       "<path d=\"M16 26c-8.837 0-16-2.239-16-5v6c0 2.761 7.163 5 16 5s16-2.239 16-5v-6c0 2.761-7.163 5-16 5z\"></path>\n",
       "</symbol>\n",
       "<symbol id=\"icon-file-text2\" viewBox=\"0 0 32 32\">\n",
       "<path d=\"M28.681 7.159c-0.694-0.947-1.662-2.053-2.724-3.116s-2.169-2.030-3.116-2.724c-1.612-1.182-2.393-1.319-2.841-1.319h-15.5c-1.378 0-2.5 1.121-2.5 2.5v27c0 1.378 1.122 2.5 2.5 2.5h23c1.378 0 2.5-1.122 2.5-2.5v-19.5c0-0.448-0.137-1.23-1.319-2.841zM24.543 5.457c0.959 0.959 1.712 1.825 2.268 2.543h-4.811v-4.811c0.718 0.556 1.584 1.309 2.543 2.268zM28 29.5c0 0.271-0.229 0.5-0.5 0.5h-23c-0.271 0-0.5-0.229-0.5-0.5v-27c0-0.271 0.229-0.5 0.5-0.5 0 0 15.499-0 15.5 0v7c0 0.552 0.448 1 1 1h7v19.5z\"></path>\n",
       "<path d=\"M23 26h-14c-0.552 0-1-0.448-1-1s0.448-1 1-1h14c0.552 0 1 0.448 1 1s-0.448 1-1 1z\"></path>\n",
       "<path d=\"M23 22h-14c-0.552 0-1-0.448-1-1s0.448-1 1-1h14c0.552 0 1 0.448 1 1s-0.448 1-1 1z\"></path>\n",
       "<path d=\"M23 18h-14c-0.552 0-1-0.448-1-1s0.448-1 1-1h14c0.552 0 1 0.448 1 1s-0.448 1-1 1z\"></path>\n",
       "</symbol>\n",
       "</defs>\n",
       "</svg>\n",
       "<style>/* CSS stylesheet for displaying xarray objects in jupyterlab.\n",
       " *\n",
       " */\n",
       "\n",
       ":root {\n",
       "  --xr-font-color0: var(--jp-content-font-color0, rgba(0, 0, 0, 1));\n",
       "  --xr-font-color2: var(--jp-content-font-color2, rgba(0, 0, 0, 0.54));\n",
       "  --xr-font-color3: var(--jp-content-font-color3, rgba(0, 0, 0, 0.38));\n",
       "  --xr-border-color: var(--jp-border-color2, #e0e0e0);\n",
       "  --xr-disabled-color: var(--jp-layout-color3, #bdbdbd);\n",
       "  --xr-background-color: var(--jp-layout-color0, white);\n",
       "  --xr-background-color-row-even: var(--jp-layout-color1, white);\n",
       "  --xr-background-color-row-odd: var(--jp-layout-color2, #eeeeee);\n",
       "}\n",
       "\n",
       "html[theme=\"dark\"],\n",
       "html[data-theme=\"dark\"],\n",
       "body[data-theme=\"dark\"],\n",
       "body.vscode-dark {\n",
       "  --xr-font-color0: rgba(255, 255, 255, 1);\n",
       "  --xr-font-color2: rgba(255, 255, 255, 0.54);\n",
       "  --xr-font-color3: rgba(255, 255, 255, 0.38);\n",
       "  --xr-border-color: #1f1f1f;\n",
       "  --xr-disabled-color: #515151;\n",
       "  --xr-background-color: #111111;\n",
       "  --xr-background-color-row-even: #111111;\n",
       "  --xr-background-color-row-odd: #313131;\n",
       "}\n",
       "\n",
       ".xr-wrap {\n",
       "  display: block !important;\n",
       "  min-width: 300px;\n",
       "  max-width: 700px;\n",
       "}\n",
       "\n",
       ".xr-text-repr-fallback {\n",
       "  /* fallback to plain text repr when CSS is not injected (untrusted notebook) */\n",
       "  display: none;\n",
       "}\n",
       "\n",
       ".xr-header {\n",
       "  padding-top: 6px;\n",
       "  padding-bottom: 6px;\n",
       "  margin-bottom: 4px;\n",
       "  border-bottom: solid 1px var(--xr-border-color);\n",
       "}\n",
       "\n",
       ".xr-header > div,\n",
       ".xr-header > ul {\n",
       "  display: inline;\n",
       "  margin-top: 0;\n",
       "  margin-bottom: 0;\n",
       "}\n",
       "\n",
       ".xr-obj-type,\n",
       ".xr-array-name {\n",
       "  margin-left: 2px;\n",
       "  margin-right: 10px;\n",
       "}\n",
       "\n",
       ".xr-obj-type {\n",
       "  color: var(--xr-font-color2);\n",
       "}\n",
       "\n",
       ".xr-sections {\n",
       "  padding-left: 0 !important;\n",
       "  display: grid;\n",
       "  grid-template-columns: 150px auto auto 1fr 0 20px 0 20px;\n",
       "}\n",
       "\n",
       ".xr-section-item {\n",
       "  display: contents;\n",
       "}\n",
       "\n",
       ".xr-section-item input {\n",
       "  display: inline-block;\n",
       "  opacity: 0;\n",
       "  height: 0;\n",
       "}\n",
       "\n",
       ".xr-section-item input + label {\n",
       "  color: var(--xr-disabled-color);\n",
       "}\n",
       "\n",
       ".xr-section-item input:enabled + label {\n",
       "  cursor: pointer;\n",
       "  color: var(--xr-font-color2);\n",
       "}\n",
       "\n",
       ".xr-section-item input:focus + label {\n",
       "  border: 2px solid var(--xr-font-color0);\n",
       "}\n",
       "\n",
       ".xr-section-item input:enabled + label:hover {\n",
       "  color: var(--xr-font-color0);\n",
       "}\n",
       "\n",
       ".xr-section-summary {\n",
       "  grid-column: 1;\n",
       "  color: var(--xr-font-color2);\n",
       "  font-weight: 500;\n",
       "}\n",
       "\n",
       ".xr-section-summary > span {\n",
       "  display: inline-block;\n",
       "  padding-left: 0.5em;\n",
       "}\n",
       "\n",
       ".xr-section-summary-in:disabled + label {\n",
       "  color: var(--xr-font-color2);\n",
       "}\n",
       "\n",
       ".xr-section-summary-in + label:before {\n",
       "  display: inline-block;\n",
       "  content: \"►\";\n",
       "  font-size: 11px;\n",
       "  width: 15px;\n",
       "  text-align: center;\n",
       "}\n",
       "\n",
       ".xr-section-summary-in:disabled + label:before {\n",
       "  color: var(--xr-disabled-color);\n",
       "}\n",
       "\n",
       ".xr-section-summary-in:checked + label:before {\n",
       "  content: \"▼\";\n",
       "}\n",
       "\n",
       ".xr-section-summary-in:checked + label > span {\n",
       "  display: none;\n",
       "}\n",
       "\n",
       ".xr-section-summary,\n",
       ".xr-section-inline-details {\n",
       "  padding-top: 4px;\n",
       "  padding-bottom: 4px;\n",
       "}\n",
       "\n",
       ".xr-section-inline-details {\n",
       "  grid-column: 2 / -1;\n",
       "}\n",
       "\n",
       ".xr-section-details {\n",
       "  display: none;\n",
       "  grid-column: 1 / -1;\n",
       "  margin-bottom: 5px;\n",
       "}\n",
       "\n",
       ".xr-section-summary-in:checked ~ .xr-section-details {\n",
       "  display: contents;\n",
       "}\n",
       "\n",
       ".xr-array-wrap {\n",
       "  grid-column: 1 / -1;\n",
       "  display: grid;\n",
       "  grid-template-columns: 20px auto;\n",
       "}\n",
       "\n",
       ".xr-array-wrap > label {\n",
       "  grid-column: 1;\n",
       "  vertical-align: top;\n",
       "}\n",
       "\n",
       ".xr-preview {\n",
       "  color: var(--xr-font-color3);\n",
       "}\n",
       "\n",
       ".xr-array-preview,\n",
       ".xr-array-data {\n",
       "  padding: 0 5px !important;\n",
       "  grid-column: 2;\n",
       "}\n",
       "\n",
       ".xr-array-data,\n",
       ".xr-array-in:checked ~ .xr-array-preview {\n",
       "  display: none;\n",
       "}\n",
       "\n",
       ".xr-array-in:checked ~ .xr-array-data,\n",
       ".xr-array-preview {\n",
       "  display: inline-block;\n",
       "}\n",
       "\n",
       ".xr-dim-list {\n",
       "  display: inline-block !important;\n",
       "  list-style: none;\n",
       "  padding: 0 !important;\n",
       "  margin: 0;\n",
       "}\n",
       "\n",
       ".xr-dim-list li {\n",
       "  display: inline-block;\n",
       "  padding: 0;\n",
       "  margin: 0;\n",
       "}\n",
       "\n",
       ".xr-dim-list:before {\n",
       "  content: \"(\";\n",
       "}\n",
       "\n",
       ".xr-dim-list:after {\n",
       "  content: \")\";\n",
       "}\n",
       "\n",
       ".xr-dim-list li:not(:last-child):after {\n",
       "  content: \",\";\n",
       "  padding-right: 5px;\n",
       "}\n",
       "\n",
       ".xr-has-index {\n",
       "  font-weight: bold;\n",
       "}\n",
       "\n",
       ".xr-var-list,\n",
       ".xr-var-item {\n",
       "  display: contents;\n",
       "}\n",
       "\n",
       ".xr-var-item > div,\n",
       ".xr-var-item label,\n",
       ".xr-var-item > .xr-var-name span {\n",
       "  background-color: var(--xr-background-color-row-even);\n",
       "  margin-bottom: 0;\n",
       "}\n",
       "\n",
       ".xr-var-item > .xr-var-name:hover span {\n",
       "  padding-right: 5px;\n",
       "}\n",
       "\n",
       ".xr-var-list > li:nth-child(odd) > div,\n",
       ".xr-var-list > li:nth-child(odd) > label,\n",
       ".xr-var-list > li:nth-child(odd) > .xr-var-name span {\n",
       "  background-color: var(--xr-background-color-row-odd);\n",
       "}\n",
       "\n",
       ".xr-var-name {\n",
       "  grid-column: 1;\n",
       "}\n",
       "\n",
       ".xr-var-dims {\n",
       "  grid-column: 2;\n",
       "}\n",
       "\n",
       ".xr-var-dtype {\n",
       "  grid-column: 3;\n",
       "  text-align: right;\n",
       "  color: var(--xr-font-color2);\n",
       "}\n",
       "\n",
       ".xr-var-preview {\n",
       "  grid-column: 4;\n",
       "}\n",
       "\n",
       ".xr-index-preview {\n",
       "  grid-column: 2 / 5;\n",
       "  color: var(--xr-font-color2);\n",
       "}\n",
       "\n",
       ".xr-var-name,\n",
       ".xr-var-dims,\n",
       ".xr-var-dtype,\n",
       ".xr-preview,\n",
       ".xr-attrs dt {\n",
       "  white-space: nowrap;\n",
       "  overflow: hidden;\n",
       "  text-overflow: ellipsis;\n",
       "  padding-right: 10px;\n",
       "}\n",
       "\n",
       ".xr-var-name:hover,\n",
       ".xr-var-dims:hover,\n",
       ".xr-var-dtype:hover,\n",
       ".xr-attrs dt:hover {\n",
       "  overflow: visible;\n",
       "  width: auto;\n",
       "  z-index: 1;\n",
       "}\n",
       "\n",
       ".xr-var-attrs,\n",
       ".xr-var-data,\n",
       ".xr-index-data {\n",
       "  display: none;\n",
       "  background-color: var(--xr-background-color) !important;\n",
       "  padding-bottom: 5px !important;\n",
       "}\n",
       "\n",
       ".xr-var-attrs-in:checked ~ .xr-var-attrs,\n",
       ".xr-var-data-in:checked ~ .xr-var-data,\n",
       ".xr-index-data-in:checked ~ .xr-index-data {\n",
       "  display: block;\n",
       "}\n",
       "\n",
       ".xr-var-data > table {\n",
       "  float: right;\n",
       "}\n",
       "\n",
       ".xr-var-name span,\n",
       ".xr-var-data,\n",
       ".xr-index-name div,\n",
       ".xr-index-data,\n",
       ".xr-attrs {\n",
       "  padding-left: 25px !important;\n",
       "}\n",
       "\n",
       ".xr-attrs,\n",
       ".xr-var-attrs,\n",
       ".xr-var-data,\n",
       ".xr-index-data {\n",
       "  grid-column: 1 / -1;\n",
       "}\n",
       "\n",
       "dl.xr-attrs {\n",
       "  padding: 0;\n",
       "  margin: 0;\n",
       "  display: grid;\n",
       "  grid-template-columns: 125px auto;\n",
       "}\n",
       "\n",
       ".xr-attrs dt,\n",
       ".xr-attrs dd {\n",
       "  padding: 0;\n",
       "  margin: 0;\n",
       "  float: left;\n",
       "  padding-right: 10px;\n",
       "  width: auto;\n",
       "}\n",
       "\n",
       ".xr-attrs dt {\n",
       "  font-weight: normal;\n",
       "  grid-column: 1;\n",
       "}\n",
       "\n",
       ".xr-attrs dt:hover span {\n",
       "  display: inline-block;\n",
       "  background: var(--xr-background-color);\n",
       "  padding-right: 10px;\n",
       "}\n",
       "\n",
       ".xr-attrs dd {\n",
       "  grid-column: 2;\n",
       "  white-space: pre-wrap;\n",
       "  word-break: break-all;\n",
       "}\n",
       "\n",
       ".xr-icon-database,\n",
       ".xr-icon-file-text2,\n",
       ".xr-no-icon {\n",
       "  display: inline-block;\n",
       "  vertical-align: middle;\n",
       "  width: 1em;\n",
       "  height: 1.5em !important;\n",
       "  stroke-width: 0;\n",
       "  stroke: currentColor;\n",
       "  fill: currentColor;\n",
       "}\n",
       "</style><pre class='xr-text-repr-fallback'>&lt;xarray.Dataset&gt; Size: 736B\n",
       "Dimensions:      (day_of_year: 46)\n",
       "Coordinates:\n",
       "  * day_of_year  (day_of_year) int64 368B 1 9 17 25 33 ... 329 337 345 353 361\n",
       "Data variables:\n",
       "    CAFE         (day_of_year) float64 368B nan 156.6 187.3 ... nan nan nan</pre><div class='xr-wrap' style='display:none'><div class='xr-header'><div class='xr-obj-type'>xarray.Dataset</div></div><ul class='xr-sections'><li class='xr-section-item'><input id='section-7ba1e3da-35f0-44d4-91b1-41a44e86ce73' class='xr-section-summary-in' type='checkbox' disabled ><label for='section-7ba1e3da-35f0-44d4-91b1-41a44e86ce73' class='xr-section-summary'  title='Expand/collapse section'>Dimensions:</label><div class='xr-section-inline-details'><ul class='xr-dim-list'><li><span class='xr-has-index'>day_of_year</span>: 46</li></ul></div><div class='xr-section-details'></div></li><li class='xr-section-item'><input id='section-380a90f1-28bc-4966-80d9-7e48792ed290' class='xr-section-summary-in' type='checkbox'  checked><label for='section-380a90f1-28bc-4966-80d9-7e48792ed290' class='xr-section-summary' >Coordinates: <span>(1)</span></label><div class='xr-section-inline-details'></div><div class='xr-section-details'><ul class='xr-var-list'><li class='xr-var-item'><div class='xr-var-name'><span class='xr-has-index'>day_of_year</span></div><div class='xr-var-dims'>(day_of_year)</div><div class='xr-var-dtype'>int64</div><div class='xr-var-preview xr-preview'>1 9 17 25 33 ... 337 345 353 361</div><input id='attrs-8dfb899d-6c93-45c9-bffe-2673479935de' class='xr-var-attrs-in' type='checkbox' disabled><label for='attrs-8dfb899d-6c93-45c9-bffe-2673479935de' title='Show/Hide attributes'><svg class='icon xr-icon-file-text2'><use xlink:href='#icon-file-text2'></use></svg></label><input id='data-c11e50f9-69d9-4c1d-9d68-a66c0724d998' class='xr-var-data-in' type='checkbox'><label for='data-c11e50f9-69d9-4c1d-9d68-a66c0724d998' title='Show/Hide data repr'><svg class='icon xr-icon-database'><use xlink:href='#icon-database'></use></svg></label><div class='xr-var-attrs'><dl class='xr-attrs'></dl></div><div class='xr-var-data'><pre>array([  1,   9,  17,  25,  33,  41,  49,  57,  65,  73,  81,  89,  97, 105,\n",
       "       113, 121, 129, 137, 145, 153, 161, 169, 177, 185, 193, 201, 209, 217,\n",
       "       225, 233, 241, 249, 257, 265, 273, 281, 289, 297, 305, 313, 321, 329,\n",
       "       337, 345, 353, 361])</pre></div></li></ul></div></li><li class='xr-section-item'><input id='section-059683fa-5bca-4b9a-a288-b38d5b101703' class='xr-section-summary-in' type='checkbox'  checked><label for='section-059683fa-5bca-4b9a-a288-b38d5b101703' class='xr-section-summary' >Data variables: <span>(1)</span></label><div class='xr-section-inline-details'></div><div class='xr-section-details'><ul class='xr-var-list'><li class='xr-var-item'><div class='xr-var-name'><span>CAFE</span></div><div class='xr-var-dims'>(day_of_year)</div><div class='xr-var-dtype'>float64</div><div class='xr-var-preview xr-preview'>nan 156.6 187.3 ... nan nan nan</div><input id='attrs-60d72036-62e4-42ab-9aec-2a0239a5871d' class='xr-var-attrs-in' type='checkbox' disabled><label for='attrs-60d72036-62e4-42ab-9aec-2a0239a5871d' title='Show/Hide attributes'><svg class='icon xr-icon-file-text2'><use xlink:href='#icon-file-text2'></use></svg></label><input id='data-b85fefb2-5964-4273-9f2c-03d6c5978ce1' class='xr-var-data-in' type='checkbox'><label for='data-b85fefb2-5964-4273-9f2c-03d6c5978ce1' title='Show/Hide data repr'><svg class='icon xr-icon-database'><use xlink:href='#icon-database'></use></svg></label><div class='xr-var-attrs'><dl class='xr-attrs'></dl></div><div class='xr-var-data'><pre>array([         nan, 156.63095474, 187.33680749, 201.16759682,\n",
       "       210.60986619, 245.01227474, 264.35246634, 301.07824349,\n",
       "       302.15852213, 359.96668077, 358.21441126, 401.64704418,\n",
       "       425.3408947 , 446.13396502, 508.78570986, 533.19222021,\n",
       "       575.58984137, 582.75489616, 585.76829624, 602.90047073,\n",
       "       583.79775238, 586.9656868 , 560.23343325, 552.57286549,\n",
       "       533.62381506, 531.06838512, 515.78395939, 509.88101435,\n",
       "       503.8842392 , 490.19377804, 474.72660685, 469.21639872,\n",
       "       455.4650259 , 431.0764122 , 421.45390606, 354.38726974,\n",
       "       315.51325631, 305.60344458, 255.07422505, 224.61634803,\n",
       "       202.16515638, 178.93363508,          nan,          nan,\n",
       "                nan,          nan])</pre></div></li></ul></div></li><li class='xr-section-item'><input id='section-1d6d345b-8429-4602-82e9-246f0d7158f8' class='xr-section-summary-in' type='checkbox'  ><label for='section-1d6d345b-8429-4602-82e9-246f0d7158f8' class='xr-section-summary' >Indexes: <span>(1)</span></label><div class='xr-section-inline-details'></div><div class='xr-section-details'><ul class='xr-var-list'><li class='xr-var-item'><div class='xr-index-name'><div>day_of_year</div></div><div class='xr-index-preview'>PandasIndex</div><input type='checkbox' disabled/><label></label><input id='index-9bb96d18-ba49-4f78-a940-765375a8799f' class='xr-index-data-in' type='checkbox'/><label for='index-9bb96d18-ba49-4f78-a940-765375a8799f' title='Show/Hide index repr'><svg class='icon xr-icon-database'><use xlink:href='#icon-database'></use></svg></label><div class='xr-index-data'><pre>PandasIndex(Index([  1,   9,  17,  25,  33,  41,  49,  57,  65,  73,  81,  89,  97, 105,\n",
       "       113, 121, 129, 137, 145, 153, 161, 169, 177, 185, 193, 201, 209, 217,\n",
       "       225, 233, 241, 249, 257, 265, 273, 281, 289, 297, 305, 313, 321, 329,\n",
       "       337, 345, 353, 361],\n",
       "      dtype=&#x27;int64&#x27;, name=&#x27;day_of_year&#x27;))</pre></div></li></ul></div></li><li class='xr-section-item'><input id='section-8524a461-8ca5-4de3-814f-60dbd7c8f839' class='xr-section-summary-in' type='checkbox' disabled ><label for='section-8524a461-8ca5-4de3-814f-60dbd7c8f839' class='xr-section-summary'  title='Expand/collapse section'>Attributes: <span>(0)</span></label><div class='xr-section-inline-details'></div><div class='xr-section-details'><dl class='xr-attrs'></dl></div></li></ul></div></div>"
      ],
      "text/plain": [
       "<xarray.Dataset> Size: 736B\n",
       "Dimensions:      (day_of_year: 46)\n",
       "Coordinates:\n",
       "  * day_of_year  (day_of_year) int64 368B 1 9 17 25 33 ... 329 337 345 353 361\n",
       "Data variables:\n",
       "    CAFE         (day_of_year) float64 368B nan 156.6 187.3 ... nan nan nan"
      ]
     },
     "execution_count": 27,
     "metadata": {},
     "output_type": "execute_result"
    }
   ],
   "source": [
    "clim_8d_cafe"
   ]
  },
  {
   "cell_type": "code",
   "execution_count": 28,
   "id": "358c00a1",
   "metadata": {},
   "outputs": [
    {
     "data": {
      "application/vnd.plotly.v1+json": {
       "config": {
        "plotlyServerURL": "https://plot.ly"
       },
       "data": [
        {
         "line": {
          "width": 1
         },
         "mode": "lines",
         "name": "1998",
         "showlegend": true,
         "type": "scatter",
         "x": {
          "bdata": "AQAJABEAGQAhACkAMQA5AEEASQBRAFkAYQBpAHEAeQCBAIkAkQCZAKEAqQCxALkAwQDJANEA2QDhAOkA8QD5AAEBCQERARkBIQEpATEBOQFBAUkBUQFZAWEBaQE=",
          "dtype": "i2"
         },
         "y": {
          "bdata": "AAAAAAAA+P8AAAAAAAD4/2IYhkEk52pAQhqkwbScakBmZmZCKt9oQDmO41hLeW9AAABAiU88cUAAAADJIMx2QAAAQNHyPXJAAACAk/xud0CMMcZYExV5QAAAACnjBn5AAACADsUif0AAAEC3Djp6QAAAgH/b4XlAAAAAvG2gfkAAAAAbDdSAQAAAQLB4mINAAAAADA/ig0AAAAC8cXqCQAAAADONDYRAc08jnBMOhEANJ3XfBn+CQMYYY8xwhYFAAABAZkoTgEAAAAA/zV2AQAAAoFatEoFAAADAHLj3fUAAAAC2Fm+AQAAAwCU9sXxAAAAAtZK2eUAAAICq2oZ1QAAAgFN3NXlAAACAhBuxd0AAAEBNZUhyQAAAQIWGN3BAAAAAkPp4cEAAAIAycJhrQAAAALef3HFAAAAA6xqobkB5DeUlja9jQImIiPjCf1tAAAAAAAAA+P8AAAAAAAD4/wAAAAAAAPj/AAAAAAAA+P8=",
          "dtype": "f8"
         }
        },
        {
         "line": {
          "width": 1
         },
         "mode": "lines",
         "name": "1999",
         "showlegend": true,
         "type": "scatter",
         "x": {
          "bdata": "AQAJABEAGQAhACkAMQA5AEEASQBRAFkAYQBpAHEAeQCBAIkAkQCZAKEAqQCxALkAwQDJANEA2QDhAOkA8QD5AAEBCQERARkBIQEpATEBOQFBAUkBUQFZAWEBaQE=",
          "dtype": "i2"
         },
         "y": {
          "bdata": "AAAAAAAA+P8AAABAb+BfQAAAAMYvWmpA55xzZo9cbkBba62lxHBxQAAAwLFa/XBAAAAAen55dUAAAIBZUO91QAAAAE9+JHZAAACAOjOAd0AAAEC4wo91QAAAAM3DGXpAAABAzegfe0AAAIBMokKAQAAAAPhpoYFAAABAVTFhgEAAAIBAAVGDQAAAwDSfVYJAAACAvIfAg0AAAAAMQhyDQAAAgKLYNIVAkiRJcoVJhUB605telhuHQAzDMOzMb4hAAACAqvsKikAAAIC2O5OHQAAAgImVsIRAmqZpqpzxgkAAAID8fZd+QFhHm9fImYFAAADAYmP3gUAAAAAiNNyAQAAAgGUlyX5AAACALlbReUAAAIBJbex4QAAAAN8sCHZAAABA2IUedEAAAEDEeKVwQAAAAP6XumpAAACAx2opa0CyPjQWd/JpQFVVVfXtfWRAAAAAAAAA+P8AAAAAAAD4/wAAAAAAAPj/AAAAAAAA+P8=",
          "dtype": "f8"
         }
        },
        {
         "line": {
          "width": 1
         },
         "mode": "lines",
         "name": "2000",
         "showlegend": true,
         "type": "scatter",
         "x": {
          "bdata": "AQAJABEAGQAhACkAMQA5AEEASQBRAFkAYQBpAHEAeQCBAIkAkQCZAKEAqQCxALkAwQDJANEA2QDhAOkA8QD5AAEBCQERARkBIQEpATEBOQFBAUkBUQFZAWEBaQE=",
          "dtype": "i2"
         },
         "y": {
          "bdata": "AAAAAAAA+P9VVVW1PpVnQJze9N4VXm5AIU8JAhyZa0BmWZZVP4FwQAAAgMrTh3RAAACAxTTJbUAAAEB8QNFyQAAAgJcw3XJAAADA/BlndEAAAIA6bmN2QAAAgEhXHXlAAABALZDrgUAAAED8FOOCQAAAAGIgQ35AAACAHNqGfUAAAIDS0j1+QAAAgCz8O39AAABAZjjfgUAAAAAqNNeCQAAAgFI1TIJAAAAAurlXgkAAAMDYF5KCQAAAgDqVRIFAAABAqcC0gUAAAACcKD6AQAAAQEKpoYNAAADA7EKGhEAAAIDd+U6EQAAAABxN4oFAAAAAl0oMgUAAAICVXsh/QAAAACpLrXtAAAAAUTC5fEAAAIDERfF4QAAAgFvavnNAAAAAXAtBcEAAAIDspMBuQE3TNA1g4m9AAACAcfpFb0C8u7v7FIJiQI7jOA5VsGBAAAAAAAAA+P8AAAAAAAD4/wAAAAAAAPj/AAAAAAAA+P8=",
          "dtype": "f8"
         }
        },
        {
         "line": {
          "width": 1
         },
         "mode": "lines",
         "name": "2001",
         "showlegend": true,
         "type": "scatter",
         "x": {
          "bdata": "AQAJABEAGQAhACkAMQA5AEEASQBRAFkAYQBpAHEAeQCBAIkAkQCZAKEAqQCxALkAwQDJANEA2QDhAOkA8QD5AAEBCQERARkBIQEpATEBOQFBAUkBUQFZAWEBaQE=",
          "dtype": "i2"
         },
         "y": {
          "bdata": "AAAAAAAA+P8AAAAAAAD4/5qZmZmaBGtAW2utJajuZkAAAADz2AxuQAAAgLTl83BAAACAl04sckAAAADCIYB0QAAAQHlky3JAAABARVKgdEAAAMCtj251QAAAwHkGDHRAAACAaBcodUAAAADXZSB6QAAAgOYJ6nxAAACA1bwtfkAAAID2aGqCQAAAwJuTNoVAAAAAI7EBh0AAAIDCFvCGQAAAACgZ9YZAAAAABGB2hEAAAIAmyNSEQAAAQNs3YYVAAABA/xCIhUDOOeeMB5SFQNPS0uJs34ZAAAAA6gK/hUAAAADmxuuBQAAAACFG74FAAACAn3Z/gEAAAMC8Wu+CQAAAABm/jXxAAAAAypDheUAAAAAb7Ax+QAAAwHpvqHNAAABATDa4c0BVVVUFwLRwQAAAgKcxjm1AAADAdsRrZ0DYUF6TgChVQAAAAAAAAPj/AAAAAAAA+P8AAAAAAAD4/wAAAAAAAPj/AAAAAAAA+P8=",
          "dtype": "f8"
         }
        },
        {
         "line": {
          "width": 1
         },
         "mode": "lines",
         "name": "2002",
         "showlegend": true,
         "type": "scatter",
         "x": {
          "bdata": "AQAJABEAGQAhACkAMQA5AEEASQBRAFkAYQBpAHEAeQCBAIkAkQCZAKEAqQCxALkAwQDJANEA2QDhAOkA8QD5AAEBCQERARkBIQEpATEBOQFBAUkBUQFZAWEBaQE=",
          "dtype": "i2"
         },
         "y": {
          "bdata": "AAAAAAAA+P8AAAAAAAD4/0jhepS6FWpAWPuGpT4UcEAQBEFQ7xZnQAAAgOGalmxAAAAA29hnb0AAAMBSV6V1QAAAgK753nZAAACADSu8dkC7L49No112QHFH3EHBoHdAkiRJ2mOLc0AAAAD5HRh4QAAAgESSzH9AAADAXnZDg0AAAAB0z1SDQAAAQC+2XIBAAACAeCVOgkAAAECFA5qDQAAAQK4zL4VAAACAXvhDg0AAAIDXHMSEQAAAAFwR8YRAAACAAWFihUAAAIDBPw+IQAAAQM8UOohAAADAm9PPh0AAAABU6baHQAAAQJca+IRAAABA28HNgkAAAMCBJRCAQAAAgIqqY4BAAABAEG6agEAAAACp5uZ6QAAAgAPK/X5AAACA7bxdeEAAAAAK0Wx5QAAAgCmyXndAAACA6gDgbUDZiqCRC4huQAAAAJQxZ3JAAAAAAAAA+P8AAAAAAAD4/wAAAAAAAPj/AAAAAAAA+P8=",
          "dtype": "f8"
         }
        },
        {
         "line": {
          "width": 1
         },
         "mode": "lines",
         "name": "2003",
         "showlegend": true,
         "type": "scatter",
         "x": {
          "bdata": "AQAJABEAGQAhACkAMQA5AEEASQBRAFkAYQBpAHEAeQCBAIkAkQCZAKEAqQCxALkAwQDJANEA2QDhAOkA8QD5AAEBCQERARkBIQEpATEBOQFBAUkBUQFZAWEBaQE=",
          "dtype": "i2"
         },
         "y": {
          "bdata": "AAAAAAAA+P8AAADUcbphQAAAAGkSMWdAAACAYjAlaUAAAMBxHKhwQAAAANiQ8nBAAAAAL9j4c0AAAADlEBx3QAAAgFSC13lAAAAAceo2ekAAAAD6npZ2QAAAAEtaGnlAAACAxv9FekAAAMCvK+GAQAAAAJlk8IZAAAAAVHOih0AAAAA6SiSFQAAAAAcKNoJAAAAAbmBogkAAAIDZ6FGEQAAAQETbMYFAAACAnRb5gkAAAIBBJN1+QAAAgHkDSHxAAACANppneUAAAABjdSx6QAAAgG3mPHxAAAAAd1fAfEAAAACW0W96QAAAgJtBM3tAAACAteOWeUAAAABGzzp3QAAAAPkP+HhAAACAe/05eEAAAIBA83p4QAAAABDP7nZAAADAK86Tc0AAAACOiBt1QAAAgIGWP3RAAABAiHH3aUAAAMhj1RRgQKuqqoahV21AAAAAAAAA+P8AAAAAAAD4/wAAAAAAAPj/AAAAAAAA+P8=",
          "dtype": "f8"
         }
        },
        {
         "line": {
          "width": 1
         },
         "mode": "lines",
         "name": "2004",
         "showlegend": true,
         "type": "scatter",
         "x": {
          "bdata": "AQAJABEAGQAhACkAMQA5AEEASQBRAFkAYQBpAHEAeQCBAIkAkQCZAKEAqQCxALkAwQDJANEA2QDhAOkA8QD5AAEBCQERARkBIQEpATEBOQFBAUkBUQFZAWEBaQE=",
          "dtype": "i2"
         },
         "y": {
          "bdata": "AAAAAAAA+P8AAADAOkxpQAAAAABiTmZAAAAArQEgakAAAIDR3fprQAAAwPgeaHFAAACA0l8HbkAAAEANJR5zQAAAgE6J4nJAAACAjCZvc0AAAIBzhulzQAAAAKFoQHpAAACAWKVzgUAAAICasxOCQAAAAEeKVYVAAACA7+TQhUAAAIAQW4+GQAAAgAOC0oZAAACARH3ahEAAAAAm7p+FQAAAwM1OBINAAABAP+JdgUAAAABvJvF+QAAAgJUik3pAAAAAar2AeUAAAID2Xvd+QAAAACpxTX9AAAAAS+SJfEAAAIBXK2B5QAAAADU65HZAAAAARpJQeEAAAIAyIDd6QAAAAL9wd3xAAAAA/DjxekAAAAD3Yct9QAAAABKp33VAAAAAtzxIdkAAAIC1pxlzQAAAgNvFPmdAAABAR/wyZUD4fd+3TfdrQAAAAKD8yG1AAAAAAAAA+P8AAAAAAAD4/wAAAAAAAPj/AAAAAAAA+P8=",
          "dtype": "f8"
         }
        },
        {
         "line": {
          "width": 1
         },
         "mode": "lines",
         "name": "2005",
         "showlegend": true,
         "type": "scatter",
         "x": {
          "bdata": "AQAJABEAGQAhACkAMQA5AEEASQBRAFkAYQBpAHEAeQCBAIkAkQCZAKEAqQCxALkAwQDJANEA2QDhAOkA8QD5AAEBCQERARkBIQEpATEBOQFBAUkBUQFZAWEBaQE=",
          "dtype": "i2"
         },
         "y": {
          "bdata": "AAAAAAAA+P8lSZIEL+lZQJjHViQjWV9ACe0lbIlWY0DNzMwkAyxrQAAAAI5koG5AAABAxoXNckAAAADHRx9rQAAAwJxFAXNAAAAAaSd2d0AAAIDuJhJ5QAAAAA6rfXhAAAAATnSVekAAAACBwReAQAAAAE9Sa39AAABApUJigkAAAEDkSL2CQAAAACokUYRAAAAAm9gOhEAAAMDdnhuDQAAAgP3PnYFAAACAotfngEAAAAD1hdZ7QAAAAPZjuXpAAAAAvdiAfEAAAIDb/wZ9QAAAgOQ6PnlAAAAAfWs+ekAAAAAftvB3QAAAgAcPz3tAAAAAbVsce0AAAABFLaF8QAAAgOlD/n5AAAAArb9ofEAAAADENSp8QAAAgNM8nXdAAAAAyrbJckAAAIAwKTxzQAAAwIb5lXJAAACACqssbUC5ZAj2SEVpQFVVVSXC4XJAAAAAAAAA+P8AAAAAAAD4/wAAAAAAAPj/AAAAAAAA+P8=",
          "dtype": "f8"
         }
        },
        {
         "line": {
          "width": 1
         },
         "mode": "lines",
         "name": "2006",
         "showlegend": true,
         "type": "scatter",
         "x": {
          "bdata": "AQAJABEAGQAhACkAMQA5AEEASQBRAFkAYQBpAHEAeQCBAIkAkQCZAKEAqQCxALkAwQDJANEA2QDhAOkA8QD5AAEBCQERARkBIQEpATEBOQFBAUkBUQFZAWEBaQE=",
          "dtype": "i2"
         },
         "y": {
          "bdata": "AAAAAAAA+P8AAIAvZshLQAAAAE8iYGFAAAAAS5hVYkAAAIDKinRnQAAAwNdKZ3JAAAAAG9o7cUAAAABmTBVyQAAAQGz2B3JAAACAAg8kcUAAAED5ELFzQAAAgAdah3dAAACA/029eUAAAIC4JOJ7QAAAAONeWIBAAAAAANaIg0AAAMBlJiGFQAAAQBqb5YJAAACAwPVEgEAAAMD57iCGQAAAQJIQ+YJAAACACMM7hUAAAMBJQySEQAAAwD0Xx4BAAAAAkHNAgUAAAIBk7lqBQAAAgHUVFYJAttZaC7eVgkAAAACXGr+EQAAAQJ0ucoNAAACApGIRgkAAAIBHDmV/QAAAAFxCtH5AAABAJXI5gEAAAADo6BV/QAAAALDSVnhAAACAMMXjdkAAAIAfv6dzQAAAgJHFq29AAACAb9lLbUAAAADoiZhqQAAAALSV0V5AAAAAAAAA+P8AAAAAAAD4/wAAAAAAAPj/AAAAAAAA+P8=",
          "dtype": "f8"
         }
        },
        {
         "line": {
          "width": 1
         },
         "mode": "lines",
         "name": "2007",
         "showlegend": true,
         "type": "scatter",
         "x": {
          "bdata": "AQAJABEAGQAhACkAMQA5AEEASQBRAFkAYQBpAHEAeQCBAIkAkQCZAKEAqQCxALkAwQDJANEA2QDhAOkA8QD5AAEBCQERARkBIQEpATEBOQFBAUkBUQFZAWEBaQE=",
          "dtype": "i2"
         },
         "y": {
          "bdata": "AAAAAAAA+P8AAABjbNBjQIqd2AmmVVNApHA96j1TZkCl7ssD6gJmQJIkSfKm7mpAAADAs6OFcEAAAICId2FvQAAAgHa2A3FAAACAjIa9b0AAAAAreepxQAAAAJe34HZAAAAAyTg5ekAAAIAtmXB/QAAAwO0h3oFAAAAAr6tCgUAAAACUPhqGQAAAwMXT+YNAAAAABEbnhUAAAEAnlROGQAAAQBtZLYVAAACABPGdh0AAAIDGnmuHQAAAAIFypIdAAACAEOf0hEAAAIDvAP2DQAAAALps7oRAAABAvbk6g0AAAIDMzlaCQAAAALcZo35AAACAYZLPfEAAAEDcxcmAQAAAgLTd7n9AAACAtzwyfkAAAMAh+mZ3QAAAACZk/nZAAADAbhR8c0AAAMBObsByQAAAANG3NWlAAAAAMrZYZkAAABDFO51gQAAAAIbgLGpAAAAAAAAA+P8AAAAAAAD4/wAAAAAAAPj/AAAAAAAA+P8=",
          "dtype": "f8"
         }
        },
        {
         "line": {
          "width": 1
         },
         "mode": "lines",
         "name": "2008",
         "showlegend": true,
         "type": "scatter",
         "x": {
          "bdata": "AQAJABEAGQAhACkAMQA5AEEASQBRAFkAYQBpAHEAeQCBAIkAkQCZAKEAqQCxALkAwQDJANEA2QDhAOkA8QD5AAEBCQERARkBIQEpATEBOQFBAUkBUQFZAWEBaQE=",
          "dtype": "i2"
         },
         "y": {
          "bdata": "AAAAAAAA+P9VVVXlOSdrQAAAAOyiLmlAAAAA9FwlaUAAAAApaItmQAAAgIcy+WpAAAAA8ttZakAAAAAMrw1uQAAAADY19W5AAACAL3eUckAAAADJf/N1QAAAAIjQxnlAAAAAqpaGeEAAAIC4w0d7QAAAAFXhCH5AAAAAM3q0f0AAAIDGM955QAAAQOfjOYBAAADAPn2IgEAAAMAfvGGBQAAAAMxhPoJAAACAPKFMgEAAAMDrFaSAQAAAAIUjGoBAAAAAfv2/gkAAAABQkZ2EQAAAwMVX/INAAAAAOV0ZhUAAAMDV+IGFQAAAAKUk6oNAAAAACzu5hEAAAACfOWSEQAAAQK+oRoFAAACAU7fleUAAAAAeRVd2QAAAgKKtn3RAAACA4renbkAAAMAgg59wQAAAgEQUy2tAAAAgU1dfYEDtG9ZIip1jQAAAAAAAAPj/AAAAAAAA+P8AAAAAAAD4/wAAAAAAAPj/AAAAAAAA+P8=",
          "dtype": "f8"
         }
        },
        {
         "line": {
          "width": 1
         },
         "mode": "lines",
         "name": "2009",
         "showlegend": true,
         "type": "scatter",
         "x": {
          "bdata": "AQAJABEAGQAhACkAMQA5AEEASQBRAFkAYQBpAHEAeQCBAIkAkQCZAKEAqQCxALkAwQDJANEA2QDhAOkA8QD5AAEBCQERARkBIQEpATEBOQFBAUkBUQFZAWEBaQE=",
          "dtype": "i2"
         },
         "y": {
          "bdata": "AAAAAAAA+P8AAAAt9VdjQAAAAHRsx2lAAACA8VtaakAAAIBwPlJqQAAAwHWyMnJAAABAz3JxcEAAAED2GZNxQAAAgEGMxnNAAAAAu+ZjdUAAAAACUmN3QAAAgIBK0ndAAAAAWh07ekAAAIBApnZ5QAAAwAxCeIFAAACAxfwHg0AAAACN4UuCQAAAgFgOy4NAAADAGt2Pg0AAAEBZgWGCQAAAANTj/oBAAAAAa+UihEAAAMBqpzSHQAAAANiFQINAAADAkv2sgEAAAADPLnmAQAAAAOS2Yn9AAACAXTzmfEAAAADYJX5/QAAAgCp5wH1AAACAKiH/fEAAAIAToSF9QAAAgD1qDXtAAAAAygxSfkAAAAAMLfp+QAAAQALJS3ZAAAAAhN+gekAAAABVFf1xQAAAQDbIDnFAAAAAMiRcbEAAALBAVuBbQAAAADmMiW5AAAAAAAAA+P8AAAAAAAD4/wAAAAAAAPj/AAAAAAAA+P8=",
          "dtype": "f8"
         }
        },
        {
         "line": {
          "width": 1
         },
         "mode": "lines",
         "name": "2010",
         "showlegend": true,
         "type": "scatter",
         "x": {
          "bdata": "AQAJABEAGQAhACkAMQA5AEEASQBRAFkAYQBpAHEAeQCBAIkAkQCZAKEAqQCxALkAwQDJANEA2QDhAOkA8QD5AAEBCQERARkBIQEpATEBOQFBAUkBUQFZAWEBaQE=",
          "dtype": "i2"
         },
         "y": {
          "bdata": "AAAAAAAA+P9P7MQeGFNyQNu2bQUc7G1ARVEUBep2bEAAAID0XT1rQAAAgKZM1XBAAACAhFm5dUAAAMAZU1lzQAAAQAq5zHFAAAAAVrBHc0AAAEAKCn1wQAAAACoJSXZAAAAAIc6ofEAAAIDn4QGAQAAAgD08dIBAAAAA/5ISg0AAAIC6in6CQAAAgBzOgoNAAACAzeXyg0AAAIAKYYyGQAAAAClI3YRAAACA+j73hEAAAADza06FQAAAgBfLJoZAAABA35pwhEAAAADH0vSGQAAAwM2i5oNAAAAAnoHmhUAAAABswxyHQAAAgDYAhoVAAABAAWPbgEAAAEB2GsyAQAAAQIwOJoBAAACAUC0mfEAAAIBElXR7QAAAQBjRwHRAAABAYZClckAAAEDgxoxyQAAAgFW3PnZAAAAAMYpbb0AAAAC0x+JtQAAAAJARRmhAAAAAAAAA+P8AAAAAAAD4/wAAAAAAAPj/AAAAAAAA+P8=",
          "dtype": "f8"
         }
        },
        {
         "line": {
          "width": 1
         },
         "mode": "lines",
         "name": "2011",
         "showlegend": true,
         "type": "scatter",
         "x": {
          "bdata": "AQAJABEAGQAhACkAMQA5AEEASQBRAFkAYQBpAHEAeQCBAIkAkQCZAKEAqQCxALkAwQDJANEA2QDhAOkA8QD5AAEBCQERARkBIQEpATEBOQFBAUkBUQFZAWEBaQE=",
          "dtype": "i2"
         },
         "y": {
          "bdata": "AAAAAAAA+P8XXXRBpTZRQB5xRyw3RmJA+9BYvymoaUBfX18f9GlrQBljjFEr/25AAAAAYs0tdkAAAADDv2V3QAAAAMd7MnpAAAAAW5ZWe0AAAAATHWZ7QAAAABEtynpAAACAyxJdekAAAIDByy+DQAAAAEEDsINAAADAqompgEAAAICL14yEQAAAQHX70IZAAADAraAShUAAAAD00qODQAAAwHNtj4FAAADAkWfVgEAAAIAzF1t+QAAAgIxTeYFAAAAAQ1wDgEAAAMC577iAQAAAwFqXN4FAAABANA0vgUAAAICd8EeBQAAAgEUTJYFAAABA2E60gUAAAAA0rnCBQAAAAJFUTn1AAAAAuPXheEAAAACh9UF7QAAAAJvwDHlAAACAcJTudkAAAADHCw52QAAAAIcA3nFA13Vdd2SZakBY7mnENJRsQAAAALDz5i1AAAAAAAAA+P8AAAAAAAD4/wAAAAAAAPj/AAAAAAAA+P8=",
          "dtype": "f8"
         }
        },
        {
         "line": {
          "width": 1
         },
         "mode": "lines",
         "name": "2012",
         "showlegend": true,
         "type": "scatter",
         "x": {
          "bdata": "AQAJABEAGQAhACkAMQA5AEEASQBRAFkAYQBpAHEAeQCBAIkAkQCZAKEAqQCxALkAwQDJANEA2QDhAOkA8QD5AAEBCQERARkBIQEpATEBOQFBAUkBUQFZAWEBaQE=",
          "dtype": "i2"
         },
         "y": {
          "bdata": "AAAAAAAA+P8AAAAOth5pQNu2bev73GdAy7Isy+RaY0AAAICQjG5qQAAAACktHWtAAACAAyyla0ARQghhEYNtQAAAAHJ1gnJAAACAV9YwdUAAAACJLld3QAAAgMWSmnhAAACAQF7he0AAAACXTxl5QAAAANpk8nlAAAAAi9cPfUAAAMD+t/yBQAAAgEcPCIBAAACA5ID+fkAAAAALwbCAQAAAAH707H1AAADAVqyigEAAAMBGJ2aAQAAAAHf5FIJAAABAiKhzhEAAAABQwsOBQAAAwKhAp4JAAACAJGUMhEAAAACas4CDQAAAwAkQs4JAAADAa4M5g0AAAACksvyDQAAAgNQBEINAAADAkBKLgEAAAACWNK2BQAAAADaSCnlAAAAAwq4Sd0AAAACAkNtzQExoLyG/FHJAhOWeLoYKc0AAAMAL4EhxQFVVVbEQRnJAAAAAAAAA+P8AAAAAAAD4/wAAAAAAAPj/AAAAAAAA+P8=",
          "dtype": "f8"
         }
        },
        {
         "line": {
          "width": 1
         },
         "mode": "lines",
         "name": "2013",
         "showlegend": true,
         "type": "scatter",
         "x": {
          "bdata": "AQAJABEAGQAhACkAMQA5AEEASQBRAFkAYQBpAHEAeQCBAIkAkQCZAKEAqQCxALkAwQDJANEA2QDhAOkA8QD5AAEBCQERARkBIQEpATEBOQFBAUkBUQFZAWEBaQE=",
          "dtype": "i2"
         },
         "y": {
          "bdata": "AAAAAAAA+P9VVVXlbVhtQNqo79zORmRACtejkF3saECGYRgGhFNqQAAAgE6z221AAABANp0ucUAAAECZBjNzQAAAgAcNpXRAAACAUHbYd0AAAIDLtLV+QAAAAIo7nIFAAAAAbuDLgkAAAEAnQhSDQAAAAOGQpoVAAADAk94Xg0AAAAB4ciJ+QAAAAK2Zzn5AAAAAYoK4gUAAAIA2jVCCQAAAgFbTLoFAAAAA3NbDgEAAAEAS3oGBQAAAQBHdaIBAAAAAQcyRgEAAAIANjJiAQAAAABake35AAACAohjef0AAAAAgmZN+QAAAgDr2OXtAAAAAeD6lfUAAAID6rrh8QAAAgFqLz3tAAAAA2nOhe0AAAMA+D6x0QAAAgNaw9HVAAACAZZpgdEAAAMCGisx3QAAAwHaeaXJAAAAAqdwxb0AAAADYQiVrQAAAAD0kbGJAAAAAAAAA+P8AAAAAAAD4/wAAAAAAAPj/AAAAAAAA+P8=",
          "dtype": "f8"
         }
        },
        {
         "line": {
          "width": 1
         },
         "mode": "lines",
         "name": "2014",
         "showlegend": true,
         "type": "scatter",
         "x": {
          "bdata": "AQAJABEAGQAhACkAMQA5AEEASQBRAFkAYQBpAHEAeQCBAIkAkQCZAKEAqQCxALkAwQDJANEA2QDhAOkA8QD5AAEBCQERARkBIQEpATEBOQFBAUkBUQFZAWEBaQE=",
          "dtype": "i2"
         },
         "y": {
          "bdata": "AAAAAAAA+P8AAADGvQRoQAAAgKvD4G5AAAAAs2PObUAAAEChUypwQAAAgJU0821AAABAKkIHcEAAAEDECiNzQAAAgEpyBHVAAAAAcjCpeUAAAAAn5pR7QAAAgEbTSn5AAACAfwZ4f0AAAACi+Vh/QAAAgNypxIBAAAAAEmn3gUAAAEAiN2aBQAAAAKk/Q4NAAADAmzAAh0AAAIDMaLKHQAAAQI658IVAAACA3EIug0AAAAB46l2DQAAAAH++x4RAAAAAuFQGhEAAAMAW4fSAQAAAAHQu239AAAAAdCpWfEAAAECMNFt7QAAAANtJ53pAAACAtrQHfEAAAICNtCl9QAAAgPOXyHhAAACA1syEdEAAAEAVcIhzQAAAgAHZx3dAAAAA+PmddEAAAIBU2Sd3QAAAAOzI3W1AAAAAhoimc0AAAAD7M9toQAAAAAhyi2JAAAAAAAAA+P8AAAAAAAD4/wAAAAAAAPj/AAAAAAAA+P8=",
          "dtype": "f8"
         }
        },
        {
         "line": {
          "width": 1
         },
         "mode": "lines",
         "name": "2015",
         "showlegend": true,
         "type": "scatter",
         "x": {
          "bdata": "AQAJABEAGQAhACkAMQA5AEEASQBRAFkAYQBpAHEAeQCBAIkAkQCZAKEAqQCxALkAwQDJANEA2QDhAOkA8QD5AAEBCQERARkBIQEpATEBOQFBAUkBUQFZAWEBaQE=",
          "dtype": "i2"
         },
         "y": {
          "bdata": "AAAAAAAA+P8AAMAhQ0hSQFVVVdrjNmFA7733juE/a0AAAABDQGdwQAAAQFk6dXNAAACAwV7VdkAAAMCuqEN5QAAAwJZGJnhAAAAAuiYOeEAAAACwKqZxQAAAgDvB6HdAAACAWiM9e0AAAAAoR3J5QAAAAKFX83lAAAAAxqkvfkAAAABfkJh5QAAAgLgE5nFAAADA13I2dEAAAEBggJ92QAAAgPF9A3dAAADAx0VtdUAAAID5jZN2QAAAwGAb2XZAAAAAA92VdkAAAMBIXZh2QAAAgOcfrXdAAAAAGdj9dUAAAABYLAp5QAAAAIjYIHlAAACAc96Pd0AAAAA5p1B3QAAAAFASw3ZAAAAAQspJd0AAAIAVu6Z1QAAAwP5Cb3NAAAAAJsVUc0AAAADlNyptQAAAgI0Y53BAAAAA7RCJakAAAICyC8ZrQAAAAEwXjW9AAAAAAAAA+P8AAAAAAAD4/wAAAAAAAPj/AAAAAAAA+P8=",
          "dtype": "f8"
         }
        },
        {
         "line": {
          "width": 1
         },
         "mode": "lines",
         "name": "2016",
         "showlegend": true,
         "type": "scatter",
         "x": {
          "bdata": "AQAJABEAGQAhACkAMQA5AEEASQBRAFkAYQBpAHEAeQCBAIkAkQCZAKEAqQCxALkAwQDJANEA2QDhAOkA8QD5AAEBCQERARkBIQEpATEBOQFBAUkBUQFZAWEBaQE=",
          "dtype": "i2"
         },
         "y": {
          "bdata": "AAAAAAAA+P8AAABQdxlmQAAAAMogm2tAAACAw0WAakAAAIByC71pQAAAgK9EPmpAAABAtIo5cEAAAIAn+oFvQAAAwNnQi3RAAABAg6bGdkAAAACrfAF6QAAAgN9hrnpAAACAvUZQfEAAAIDvT9WAQAAAAM7ZL4FAAAAAk9FQg0AAAMAB7eaAQAAAAGskzH9AAAAAIcpde0AAAIAlWgl6QAAAAFrh5XxAAACAd6zNeUAAAIBRdYt6QAAAAKZCm3dAAAAA64rveEAty7JMHfl5QAAAAC9t5nxAAAAAtqlYfkAAAMAf/jGBQAAAQHmYZoFAAACAEYAhf0AAAIAViCB/QAAAAHu303xAAACAgXw7e0AAAAAzQ1d6QAAAgER2+3pAAAAAVnTAd0AAAIAHMeN1QAAAAF6seG1AAACAH7kTbEAAAMBsOA9nQJIkSQJTCmhAAAAAAAAA+P8AAAAAAAD4/wAAAAAAAPj/AAAAAAAA+P8=",
          "dtype": "f8"
         }
        },
        {
         "line": {
          "width": 1
         },
         "mode": "lines",
         "name": "2017",
         "showlegend": true,
         "type": "scatter",
         "x": {
          "bdata": "AQAJABEAGQAhACkAMQA5AEEASQBRAFkAYQBpAHEAeQCBAIkAkQCZAKEAqQCxALkAwQDJANEA2QDhAOkA8QD5AAEBCQERARkBIQEpATEBOQFBAUkBUQFZAWEBaQE=",
          "dtype": "i2"
         },
         "y": {
          "bdata": "AAAAAAAA+P8AAABdYQ5TQAAAgCDHamdAAACABxkcZ0AAAACpmKVoQAAAAL7txWtAAACAmjNadEAAAMA/dCdxQAAAANejlHFAAADABy4DdUAAAEACYDx0QAAAAAHGqHVAAAAAV1kTeEAAAIC9Ul15QAAAgMYQKHpAAACAsTQzd0AAAAB6sMN6QAAAgBfX531AAAAAVuENfEAAAIAcB29/QAAAAItYJIBAAACASytjfkAAAMA3vhN7QAAAAKwLXXhAAACAsMged0AAAED3gi93QAAAAOD/MHlAAADAmdIydEAAAMA5fNJzQAAAgKQnrXNAAABAK347dEAAAEBu0Gh1QAAAgJKLIXpAAABAUlg4dkAAAABZz719QAAAwM9KiXVAAACAre/NdEAAAECXrKp1QAAAgGj7eGtAAABAZWorZUCapmn65stfQAAAQBokxlBAAAAAAAAA+P8AAAAAAAD4/wAAAAAAAPj/AAAAAAAA+P8=",
          "dtype": "f8"
         }
        },
        {
         "line": {
          "width": 1
         },
         "mode": "lines",
         "name": "2018",
         "showlegend": true,
         "type": "scatter",
         "x": {
          "bdata": "AQAJABEAGQAhACkAMQA5AEEASQBRAFkAYQBpAHEAeQCBAIkAkQCZAKEAqQCxALkAwQDJANEA2QDhAOkA8QD5AAEBCQERARkBIQEpATEBOQFBAUkBUQFZAWEBaQE=",
          "dtype": "i2"
         },
         "y": {
          "bdata": "AAAAAAAA+P9VVVXJq1tiQAAAYD91MGBAAACAM4tXY0AAAECqsLNjQAAAAEa4zGlAAADArIGCcEAAAMCUFpBxQAAAwPxHbHRAAABAhnd/dkAAAIAxyz91QAAAgCNCPHNAAADA6aTUdUAAAEBarf90QAAAAHU0cnVAAAAAYE3gc0AAAIBtohJ5QAAAwCscJ3lAAAAA7Q8IeUAAAABf8pd6QAAAQCu2m3lAAADAselfd0AAAIBbuiN2QAAAwC++fXVAAAAAPEIOeEAAAEC7HUl0QAAAALpex3ZAAACAGY2TeEAAAADD5oN9QAAAgH9RDH5AAACALqCrfUAAAICzOdh7QAAAAPiHKHpAAACAtIlyfEAAAEDbNPZ1QAAAgH+BP3hAAAAAruXicUAAAIBd9ilpQAAAAIbTamdAAABACDFWakAAAICih79uQIiHh7cWRWBAAAAAAAAA+P8AAAAAAAD4/wAAAAAAAPj/AAAAAAAA+P8=",
          "dtype": "f8"
         }
        },
        {
         "line": {
          "width": 1
         },
         "mode": "lines",
         "name": "2019",
         "showlegend": true,
         "type": "scatter",
         "x": {
          "bdata": "AQAJABEAGQAhACkAMQA5AEEASQBRAFkAYQBpAHEAeQCBAIkAkQCZAKEAqQCxALkAwQDJANEA2QDhAOkA8QD5AAEBCQERARkBIQEpATEBOQFBAUkBUQFZAWEBaQE=",
          "dtype": "i2"
         },
         "y": {
          "bdata": "AAAAAAAA+P8AAADofmRoQAAAgNb/x2NAAACAoaviZkAAAICwnYxpQAAAQDwQl2ZAAACAM8TnbEAAAEAaLX5xQAAAgHtSRnBAAADAzh9jckAAAABrdpR3QAAAgEPhRXpAAAAAHFVYeUAAAIBG/eN1QAAAgJrn/nlAAACAoNF7eEAAAEB+Xll3QAAAgBg0dndAAADAcdY/d0AAAIBi/yN2QAAAgJQvhXdAAAAA8tfGdkAAAIB2AaxzQAAAgPJku3FAAAAAFA7DckAAAAAky7ZxQAAAQMXCrHFAAACA+0sjcUAAAIB1WWd0QAAAgDbfTndAAADAqFyEdUAAAABSK810QAAAAGLPn3hAAAAA/jZkeEAAAACm4BZ2QAAAgPE8nXVAAACA9LWkc0AAAAC39sF1QAAAABOgHHFAAACAPocZZ0AAAED1oVxrQKuqqlbgXWZAAAAAAAAA+P8AAAAAAAD4/wAAAAAAAPj/AAAAAAAA+P8=",
          "dtype": "f8"
         }
        },
        {
         "line": {
          "width": 1
         },
         "mode": "lines",
         "name": "2020",
         "showlegend": true,
         "type": "scatter",
         "x": {
          "bdata": "AQAJABEAGQAhACkAMQA5AEEASQBRAFkAYQBpAHEAeQCBAIkAkQCZAKEAqQCxALkAwQDJANEA2QDhAOkA8QD5AAEBCQERARkBIQEpATEBOQFBAUkBUQFZAWEBaQE=",
          "dtype": "i2"
         },
         "y": {
          "bdata": "AAAAAAAA+P8AAAATg5ZgQPcR3NeZJmBAAABAxkIRYUAAAID2QNVkQAAAQAWMcGlAAACALKA2akAAAMBze9NlQAAAQF9f4XJAAABAo54BeEAAAICM3Nh4QAAAgCcScXxAAACAwYUBgEAAAIBI04F3QAAAgKZN7nNAAAAAPpgZeEAAAAD7evd3QAAAAHG8I3xAAACA8KS8f0AAAMCAZ9GBQAAAQOtds4NAAABAVJoUg0AAAMCjhKqDQAAAAP2BR4JAAACAbMNMgUAAAEAet6mBQAAAgIxFHoBAAAAADvj/f0AAAAALqPJ+QAAAwAeXG4BAAAAAIhChf0AAAIBedlN9QAAAgF61aXlAAAAAxDTzeEAAAIC3haF7QAAAwEEyJnZAAAAAatoQcUAAAABLdTluQAAAgOMhIW1AAACAYVtxbkAAAIDRGgNoQAAAAFw+xmFAAAAAAAAA+P8AAAAAAAD4/wAAAAAAAPj/AAAAAAAA+P8=",
          "dtype": "f8"
         }
        },
        {
         "line": {
          "color": "black",
          "width": 2
         },
         "mode": "lines",
         "name": "Median",
         "type": "scatter",
         "x": {
          "bdata": "AQAJABEAGQAhACkAMQA5AEEASQBRAFkAYQBpAHEAeQCBAIkAkQCZAKEAqQCxALkAwQDJANEA2QDhAOkA8QD5AAEBCQERARkBIQEpATEBOQFBAUkBUQFZAWEBaQE=",
          "dtype": "i2"
         },
         "y": {
          "bdata": "AAAAAAAA+P8AAADIMJRjQAAAgCDHamdAAAAA9FwlaUCGYRgGhFNqQAAAAI5koG5AAADAs6OFcEAAAEB8QNFyQAAAgE6J4nJAAABAhnd/dkAAAIA6bmN2QAAAAEtaGnlAAAAATnSVekAAAIC4JOJ7QAAAgESSzH9AAADAqompgEAAAMD+t/yBQAAAAAcKNoJAAACAeCVOgkAAAAAqNNeCQAAAAMxhPoJAAAAAurlXgkAAAEAS3oGBQAAAgDqVRIFAAADAkv2sgEAAAIANjJiAQAAAgIxFHoBAAACAohjef0AAAADYJX5/QAAAALcZo35AAACALqCrfUAAAIBedlN9QAAAAL9wd3xAAAAA/DjxekAAAAAzQ1d6QAAAwEEyJnZAAABATDa4c0AAAIC1pxlzQE3TNA1g4m9AAACAH7kTbEC5ZAj2SEVpQKuqqlbgXWZAAAAAAAAA+P8AAAAAAAD4/wAAAAAAAPj/AAAAAAAA+P8=",
          "dtype": "f8"
         }
        }
       ],
       "layout": {
        "template": {
         "data": {
          "bar": [
           {
            "error_x": {
             "color": "#2a3f5f"
            },
            "error_y": {
             "color": "#2a3f5f"
            },
            "marker": {
             "line": {
              "color": "white",
              "width": 0.5
             },
             "pattern": {
              "fillmode": "overlay",
              "size": 10,
              "solidity": 0.2
             }
            },
            "type": "bar"
           }
          ],
          "barpolar": [
           {
            "marker": {
             "line": {
              "color": "white",
              "width": 0.5
             },
             "pattern": {
              "fillmode": "overlay",
              "size": 10,
              "solidity": 0.2
             }
            },
            "type": "barpolar"
           }
          ],
          "carpet": [
           {
            "aaxis": {
             "endlinecolor": "#2a3f5f",
             "gridcolor": "#C8D4E3",
             "linecolor": "#C8D4E3",
             "minorgridcolor": "#C8D4E3",
             "startlinecolor": "#2a3f5f"
            },
            "baxis": {
             "endlinecolor": "#2a3f5f",
             "gridcolor": "#C8D4E3",
             "linecolor": "#C8D4E3",
             "minorgridcolor": "#C8D4E3",
             "startlinecolor": "#2a3f5f"
            },
            "type": "carpet"
           }
          ],
          "choropleth": [
           {
            "colorbar": {
             "outlinewidth": 0,
             "ticks": ""
            },
            "type": "choropleth"
           }
          ],
          "contour": [
           {
            "colorbar": {
             "outlinewidth": 0,
             "ticks": ""
            },
            "colorscale": [
             [
              0,
              "#0d0887"
             ],
             [
              0.1111111111111111,
              "#46039f"
             ],
             [
              0.2222222222222222,
              "#7201a8"
             ],
             [
              0.3333333333333333,
              "#9c179e"
             ],
             [
              0.4444444444444444,
              "#bd3786"
             ],
             [
              0.5555555555555556,
              "#d8576b"
             ],
             [
              0.6666666666666666,
              "#ed7953"
             ],
             [
              0.7777777777777778,
              "#fb9f3a"
             ],
             [
              0.8888888888888888,
              "#fdca26"
             ],
             [
              1,
              "#f0f921"
             ]
            ],
            "type": "contour"
           }
          ],
          "contourcarpet": [
           {
            "colorbar": {
             "outlinewidth": 0,
             "ticks": ""
            },
            "type": "contourcarpet"
           }
          ],
          "heatmap": [
           {
            "colorbar": {
             "outlinewidth": 0,
             "ticks": ""
            },
            "colorscale": [
             [
              0,
              "#0d0887"
             ],
             [
              0.1111111111111111,
              "#46039f"
             ],
             [
              0.2222222222222222,
              "#7201a8"
             ],
             [
              0.3333333333333333,
              "#9c179e"
             ],
             [
              0.4444444444444444,
              "#bd3786"
             ],
             [
              0.5555555555555556,
              "#d8576b"
             ],
             [
              0.6666666666666666,
              "#ed7953"
             ],
             [
              0.7777777777777778,
              "#fb9f3a"
             ],
             [
              0.8888888888888888,
              "#fdca26"
             ],
             [
              1,
              "#f0f921"
             ]
            ],
            "type": "heatmap"
           }
          ],
          "histogram": [
           {
            "marker": {
             "pattern": {
              "fillmode": "overlay",
              "size": 10,
              "solidity": 0.2
             }
            },
            "type": "histogram"
           }
          ],
          "histogram2d": [
           {
            "colorbar": {
             "outlinewidth": 0,
             "ticks": ""
            },
            "colorscale": [
             [
              0,
              "#0d0887"
             ],
             [
              0.1111111111111111,
              "#46039f"
             ],
             [
              0.2222222222222222,
              "#7201a8"
             ],
             [
              0.3333333333333333,
              "#9c179e"
             ],
             [
              0.4444444444444444,
              "#bd3786"
             ],
             [
              0.5555555555555556,
              "#d8576b"
             ],
             [
              0.6666666666666666,
              "#ed7953"
             ],
             [
              0.7777777777777778,
              "#fb9f3a"
             ],
             [
              0.8888888888888888,
              "#fdca26"
             ],
             [
              1,
              "#f0f921"
             ]
            ],
            "type": "histogram2d"
           }
          ],
          "histogram2dcontour": [
           {
            "colorbar": {
             "outlinewidth": 0,
             "ticks": ""
            },
            "colorscale": [
             [
              0,
              "#0d0887"
             ],
             [
              0.1111111111111111,
              "#46039f"
             ],
             [
              0.2222222222222222,
              "#7201a8"
             ],
             [
              0.3333333333333333,
              "#9c179e"
             ],
             [
              0.4444444444444444,
              "#bd3786"
             ],
             [
              0.5555555555555556,
              "#d8576b"
             ],
             [
              0.6666666666666666,
              "#ed7953"
             ],
             [
              0.7777777777777778,
              "#fb9f3a"
             ],
             [
              0.8888888888888888,
              "#fdca26"
             ],
             [
              1,
              "#f0f921"
             ]
            ],
            "type": "histogram2dcontour"
           }
          ],
          "mesh3d": [
           {
            "colorbar": {
             "outlinewidth": 0,
             "ticks": ""
            },
            "type": "mesh3d"
           }
          ],
          "parcoords": [
           {
            "line": {
             "colorbar": {
              "outlinewidth": 0,
              "ticks": ""
             }
            },
            "type": "parcoords"
           }
          ],
          "pie": [
           {
            "automargin": true,
            "type": "pie"
           }
          ],
          "scatter": [
           {
            "fillpattern": {
             "fillmode": "overlay",
             "size": 10,
             "solidity": 0.2
            },
            "type": "scatter"
           }
          ],
          "scatter3d": [
           {
            "line": {
             "colorbar": {
              "outlinewidth": 0,
              "ticks": ""
             }
            },
            "marker": {
             "colorbar": {
              "outlinewidth": 0,
              "ticks": ""
             }
            },
            "type": "scatter3d"
           }
          ],
          "scattercarpet": [
           {
            "marker": {
             "colorbar": {
              "outlinewidth": 0,
              "ticks": ""
             }
            },
            "type": "scattercarpet"
           }
          ],
          "scattergeo": [
           {
            "marker": {
             "colorbar": {
              "outlinewidth": 0,
              "ticks": ""
             }
            },
            "type": "scattergeo"
           }
          ],
          "scattergl": [
           {
            "marker": {
             "colorbar": {
              "outlinewidth": 0,
              "ticks": ""
             }
            },
            "type": "scattergl"
           }
          ],
          "scattermap": [
           {
            "marker": {
             "colorbar": {
              "outlinewidth": 0,
              "ticks": ""
             }
            },
            "type": "scattermap"
           }
          ],
          "scattermapbox": [
           {
            "marker": {
             "colorbar": {
              "outlinewidth": 0,
              "ticks": ""
             }
            },
            "type": "scattermapbox"
           }
          ],
          "scatterpolar": [
           {
            "marker": {
             "colorbar": {
              "outlinewidth": 0,
              "ticks": ""
             }
            },
            "type": "scatterpolar"
           }
          ],
          "scatterpolargl": [
           {
            "marker": {
             "colorbar": {
              "outlinewidth": 0,
              "ticks": ""
             }
            },
            "type": "scatterpolargl"
           }
          ],
          "scatterternary": [
           {
            "marker": {
             "colorbar": {
              "outlinewidth": 0,
              "ticks": ""
             }
            },
            "type": "scatterternary"
           }
          ],
          "surface": [
           {
            "colorbar": {
             "outlinewidth": 0,
             "ticks": ""
            },
            "colorscale": [
             [
              0,
              "#0d0887"
             ],
             [
              0.1111111111111111,
              "#46039f"
             ],
             [
              0.2222222222222222,
              "#7201a8"
             ],
             [
              0.3333333333333333,
              "#9c179e"
             ],
             [
              0.4444444444444444,
              "#bd3786"
             ],
             [
              0.5555555555555556,
              "#d8576b"
             ],
             [
              0.6666666666666666,
              "#ed7953"
             ],
             [
              0.7777777777777778,
              "#fb9f3a"
             ],
             [
              0.8888888888888888,
              "#fdca26"
             ],
             [
              1,
              "#f0f921"
             ]
            ],
            "type": "surface"
           }
          ],
          "table": [
           {
            "cells": {
             "fill": {
              "color": "#EBF0F8"
             },
             "line": {
              "color": "white"
             }
            },
            "header": {
             "fill": {
              "color": "#C8D4E3"
             },
             "line": {
              "color": "white"
             }
            },
            "type": "table"
           }
          ]
         },
         "layout": {
          "annotationdefaults": {
           "arrowcolor": "#2a3f5f",
           "arrowhead": 0,
           "arrowwidth": 1
          },
          "autotypenumbers": "strict",
          "coloraxis": {
           "colorbar": {
            "outlinewidth": 0,
            "ticks": ""
           }
          },
          "colorscale": {
           "diverging": [
            [
             0,
             "#8e0152"
            ],
            [
             0.1,
             "#c51b7d"
            ],
            [
             0.2,
             "#de77ae"
            ],
            [
             0.3,
             "#f1b6da"
            ],
            [
             0.4,
             "#fde0ef"
            ],
            [
             0.5,
             "#f7f7f7"
            ],
            [
             0.6,
             "#e6f5d0"
            ],
            [
             0.7,
             "#b8e186"
            ],
            [
             0.8,
             "#7fbc41"
            ],
            [
             0.9,
             "#4d9221"
            ],
            [
             1,
             "#276419"
            ]
           ],
           "sequential": [
            [
             0,
             "#0d0887"
            ],
            [
             0.1111111111111111,
             "#46039f"
            ],
            [
             0.2222222222222222,
             "#7201a8"
            ],
            [
             0.3333333333333333,
             "#9c179e"
            ],
            [
             0.4444444444444444,
             "#bd3786"
            ],
            [
             0.5555555555555556,
             "#d8576b"
            ],
            [
             0.6666666666666666,
             "#ed7953"
            ],
            [
             0.7777777777777778,
             "#fb9f3a"
            ],
            [
             0.8888888888888888,
             "#fdca26"
            ],
            [
             1,
             "#f0f921"
            ]
           ],
           "sequentialminus": [
            [
             0,
             "#0d0887"
            ],
            [
             0.1111111111111111,
             "#46039f"
            ],
            [
             0.2222222222222222,
             "#7201a8"
            ],
            [
             0.3333333333333333,
             "#9c179e"
            ],
            [
             0.4444444444444444,
             "#bd3786"
            ],
            [
             0.5555555555555556,
             "#d8576b"
            ],
            [
             0.6666666666666666,
             "#ed7953"
            ],
            [
             0.7777777777777778,
             "#fb9f3a"
            ],
            [
             0.8888888888888888,
             "#fdca26"
            ],
            [
             1,
             "#f0f921"
            ]
           ]
          },
          "colorway": [
           "#636efa",
           "#EF553B",
           "#00cc96",
           "#ab63fa",
           "#FFA15A",
           "#19d3f3",
           "#FF6692",
           "#B6E880",
           "#FF97FF",
           "#FECB52"
          ],
          "font": {
           "color": "#2a3f5f"
          },
          "geo": {
           "bgcolor": "white",
           "lakecolor": "white",
           "landcolor": "white",
           "showlakes": true,
           "showland": true,
           "subunitcolor": "#C8D4E3"
          },
          "hoverlabel": {
           "align": "left"
          },
          "hovermode": "closest",
          "mapbox": {
           "style": "light"
          },
          "paper_bgcolor": "white",
          "plot_bgcolor": "white",
          "polar": {
           "angularaxis": {
            "gridcolor": "#EBF0F8",
            "linecolor": "#EBF0F8",
            "ticks": ""
           },
           "bgcolor": "white",
           "radialaxis": {
            "gridcolor": "#EBF0F8",
            "linecolor": "#EBF0F8",
            "ticks": ""
           }
          },
          "scene": {
           "xaxis": {
            "backgroundcolor": "white",
            "gridcolor": "#DFE8F3",
            "gridwidth": 2,
            "linecolor": "#EBF0F8",
            "showbackground": true,
            "ticks": "",
            "zerolinecolor": "#EBF0F8"
           },
           "yaxis": {
            "backgroundcolor": "white",
            "gridcolor": "#DFE8F3",
            "gridwidth": 2,
            "linecolor": "#EBF0F8",
            "showbackground": true,
            "ticks": "",
            "zerolinecolor": "#EBF0F8"
           },
           "zaxis": {
            "backgroundcolor": "white",
            "gridcolor": "#DFE8F3",
            "gridwidth": 2,
            "linecolor": "#EBF0F8",
            "showbackground": true,
            "ticks": "",
            "zerolinecolor": "#EBF0F8"
           }
          },
          "shapedefaults": {
           "line": {
            "color": "#2a3f5f"
           }
          },
          "ternary": {
           "aaxis": {
            "gridcolor": "#DFE8F3",
            "linecolor": "#A2B1C6",
            "ticks": ""
           },
           "baxis": {
            "gridcolor": "#DFE8F3",
            "linecolor": "#A2B1C6",
            "ticks": ""
           },
           "bgcolor": "white",
           "caxis": {
            "gridcolor": "#DFE8F3",
            "linecolor": "#A2B1C6",
            "ticks": ""
           }
          },
          "title": {
           "x": 0.05
          },
          "xaxis": {
           "automargin": true,
           "gridcolor": "#EBF0F8",
           "linecolor": "#EBF0F8",
           "ticks": "",
           "title": {
            "standoff": 15
           },
           "zerolinecolor": "#EBF0F8",
           "zerolinewidth": 2
          },
          "yaxis": {
           "automargin": true,
           "gridcolor": "#EBF0F8",
           "linecolor": "#EBF0F8",
           "ticks": "",
           "title": {
            "standoff": 15
           },
           "zerolinecolor": "#EBF0F8",
           "zerolinewidth": 2
          }
         }
        },
        "title": {
         "text": "8-day CAFE Primary Productivity Time Series (1998-2020) at PAPA"
        },
        "xaxis": {
         "title": {
          "text": "Day of year"
         }
        },
        "yaxis": {
         "title": {
          "text": "Primary productivity [mg C m-2 day-1]"
         }
        }
       }
      }
     },
     "metadata": {},
     "output_type": "display_data"
    }
   ],
   "source": [
    "# plot \n",
    "# Group by year\n",
    "years = pd.DatetimeIndex(ds_cafe_papa.time.values).year.unique()\n",
    "\n",
    "fig = go.Figure()\n",
    "\n",
    "# Plot one line per year \n",
    "for year in years:\n",
    "    yearly_data = ds_cafe_papa.sel(time=str(year))[\"CAFE\"]\n",
    "    fig.add_trace(go.Scatter(\n",
    "        x=yearly_data.time.dt.dayofyear,\n",
    "        y=yearly_data.values,\n",
    "        mode='lines',\n",
    "        line=dict(width=1),\n",
    "        name=str(year),\n",
    "        showlegend=True \n",
    "    ))\n",
    "\n",
    "# Plot climatology in black\n",
    "fig.add_trace(go.Scatter(\n",
    "    x=clim_8d_cafe['day_of_year'],\n",
    "    y=clim_8d_cafe['CAFE'].values,\n",
    "    mode='lines',\n",
    "    name='Median',\n",
    "    line=dict(color='black', width=2)\n",
    "))\n",
    "\n",
    "fig.update_layout(\n",
    "    title='8-day CAFE Primary Productivity Time Series (1998-2020) at PAPA',\n",
    "    xaxis_title='Day of year',\n",
    "    yaxis_title='Primary productivity [mg C m-2 day-1]', \n",
    "    template='plotly_white'\n",
    ")\n",
    "\n",
    "fig.show()\n",
    "\n"
   ]
  },
  {
   "cell_type": "markdown",
   "id": "f129e458",
   "metadata": {},
   "source": [
    "To have daily npp like the others forcings and to smooth the curve, lets fit the median with a Fourier serie function."
   ]
  },
  {
   "cell_type": "code",
   "execution_count": 29,
   "id": "fd68e397",
   "metadata": {},
   "outputs": [],
   "source": [
    "from scipy.optimize import curve_fit\n",
    "\n",
    "x_date = clim_8d_cafe['day_of_year'].values\n",
    "y_npp = clim_8d_cafe['CAFE'].values\n",
    "\n",
    "# Remove NaNs\n",
    "mask = ~np.isnan(y_npp)\n",
    "x_clean = x_date[mask]\n",
    "y_clean = y_npp[mask]\n",
    "\n",
    "# Fourier series function \n",
    "def fourier_series(x, *params):\n",
    "    result = params[0]  # a0\n",
    "    N = (len(params) - 1) // 2\n",
    "    for n in range(1, N + 1):\n",
    "        a = params[2 * n - 1]\n",
    "        b = params[2 * n]\n",
    "        result += a * np.cos(2 * np.pi * n * x / 365) + b * np.sin(2 * np.pi * n * x / 365)\n",
    "    return result\n",
    "\n",
    "order = 4\n",
    "initial_guess = [np.mean(y_clean)] + [0] * (order * 2) # ao mean of clim, a1, b1, .. an, bn -> 0\n",
    "\n",
    "# Fit\n",
    "params, _ = curve_fit(fourier_series, x_clean, y_clean, p0=initial_guess)\n",
    "\n",
    "# Generate daily values\n",
    "days = np.arange(365)\n",
    "cafe_daily = fourier_series(days, *params)\n"
   ]
  },
  {
   "cell_type": "code",
   "execution_count": 30,
   "id": "2be24862",
   "metadata": {},
   "outputs": [
    {
     "data": {
      "text/plain": [
       "array([148.40534574, 149.53913359, 150.76501109, 152.08107578,\n",
       "       153.48532592, 154.9756642 , 156.54990182, 158.20576297,\n",
       "       159.94088974, 161.75284732, 163.6391297 , 165.59716558,\n",
       "       167.62432479, 169.71792486, 171.87523802, 174.09349842,\n",
       "       176.36990963, 178.70165236, 181.08589242, 183.51978878,\n",
       "       186.00050189, 188.52520198, 191.09107756, 193.69534392,\n",
       "       196.33525161, 199.00809497, 201.71122053, 204.44203535,\n",
       "       207.19801526, 209.97671284, 212.77576528, 215.59290197,\n",
       "       218.42595177, 221.27285003, 224.13164521, 227.00050514,\n",
       "       229.87772286, 232.76172198, 235.65106162, 238.54444078,\n",
       "       241.44070223, 244.3388358 , 247.2379811 , 250.13742965,\n",
       "       253.03662638, 255.93517048, 258.83281566, 261.72946963,\n",
       "       264.62519306, 267.52019778, 270.41484428, 273.30963865,\n",
       "       276.20522873, 279.10239966, 282.00206878, 284.90527986,\n",
       "       287.81319675, 290.72709635, 293.64836111, 296.57847084,\n",
       "       299.5189941 , 302.47157902, 305.43794367, 308.419866  ,\n",
       "       311.41917337, 314.43773175, 317.47743454, 320.54019118,\n",
       "       323.6279155 , 326.74251387, 329.88587327, 333.05984918,\n",
       "       336.26625354, 339.50684263, 342.78330504, 346.09724982,\n",
       "       349.45019467, 352.84355445, 356.27862992, 359.7565968 ,\n",
       "       363.27849517, 366.84521933, 370.45750808, 374.11593558,\n",
       "       377.82090262, 381.57262865, 385.37114433, 389.2162848 ,\n",
       "       393.10768361, 397.04476746, 401.02675167, 405.0526364 ,\n",
       "       409.12120381, 413.23101593, 417.38041348, 421.5675155 ,\n",
       "       425.79021996, 430.04620512, 434.33293192, 438.64764717,\n",
       "       442.9873877 , 447.34898535, 451.72907284, 456.12409053,\n",
       "       460.53029395, 464.94376225, 469.36040737, 473.77598397,\n",
       "       478.18610015, 482.58622881, 486.97171973, 491.3378122 ,\n",
       "       495.67964826, 499.9922865 , 504.2707163 , 508.50987246,\n",
       "       512.70465031, 516.84992106, 520.94054744, 524.97139953,\n",
       "       528.93737077, 532.83339402, 536.65445768, 540.39562172,\n",
       "       544.05203371, 547.61894459, 551.09172427, 554.46587697,\n",
       "       557.73705617, 560.9010792 , 563.95394139, 566.89182963,\n",
       "       569.7111355 , 572.40846764, 574.98066356, 577.42480069,\n",
       "       579.73820667, 581.91846888, 583.96344306, 585.87126116,\n",
       "       587.64033818, 589.26937813, 590.75737902, 592.10363687,\n",
       "       593.30774873, 594.36961462, 595.28943855, 596.06772842,\n",
       "       596.70529495, 597.2032495 , 597.56300096, 597.78625156,\n",
       "       597.87499165, 597.83149361, 597.65830464, 597.35823873,\n",
       "       596.93436769, 596.39001123, 595.72872634, 594.95429566,\n",
       "       594.07071534, 593.08218191, 591.99307873, 590.80796161,\n",
       "       589.531544  , 588.16868161, 586.72435657, 585.20366121,\n",
       "       583.61178146, 581.95398002, 580.23557929, 578.46194413,\n",
       "       576.63846452, 574.77053825, 572.86355357, 570.92287196,\n",
       "       568.95381109, 566.96162794, 564.95150225, 562.92852029,\n",
       "       560.89765902, 558.8637707 , 556.83156802, 554.80560978,\n",
       "       552.79028719, 550.78981078, 548.80819808, 546.84926198,\n",
       "       544.91659986, 543.01358363, 541.14335046, 539.30879455,\n",
       "       537.51255968, 535.75703269, 534.04433798, 532.37633289,\n",
       "       530.75460402, 529.18046462, 527.65495283, 526.17883099,\n",
       "       524.75258586, 523.3764298 , 522.05030293, 520.77387618,\n",
       "       519.54655528, 518.36748562, 517.23555799, 516.14941512,\n",
       "       515.1074591 , 514.10785944, 513.14856204, 512.22729867,\n",
       "       511.3415972 , 510.48879247, 509.66603759, 508.87031592,\n",
       "       508.09845335, 507.34713114, 506.61289901, 505.89218863,\n",
       "       505.18132727, 504.47655178, 503.77402258, 503.0698379 ,\n",
       "       502.3600479 , 501.64066896, 500.90769775, 500.1571253 ,\n",
       "       499.38495088, 498.5871956 , 497.75991593, 496.8992167 ,\n",
       "       496.00126394, 495.06229724, 494.07864168, 493.04671938,\n",
       "       491.96306045, 490.82431352, 489.62725557, 488.36880137,\n",
       "       487.04601209, 485.6561035 , 484.19645333, 482.66460814,\n",
       "       481.05828933, 479.37539867, 477.61402296, 475.77243813,\n",
       "       473.84911254, 471.84270967, 469.75209008, 467.57631272,\n",
       "       465.31463553, 462.96651545, 460.5316077 , 458.00976455,\n",
       "       455.40103339, 452.70565432, 449.92405705, 447.05685743,\n",
       "       444.10485338, 441.06902036, 437.95050646, 434.75062697,\n",
       "       431.47085872, 428.11283395, 424.67833396, 421.16928244,\n",
       "       417.58773856, 413.93588993, 410.21604527, 406.43062708,\n",
       "       402.58216413, 398.67328387, 394.70670491, 390.6852294 ,\n",
       "       386.6117355 , 382.48916989, 378.32054036, 374.1089086 ,\n",
       "       369.85738301, 365.56911178, 361.24727613, 356.89508376,\n",
       "       352.51576254, 348.11255443, 343.68870973, 339.24748152,\n",
       "       334.79212043, 330.32586975, 325.85196078, 321.3736085 ,\n",
       "       316.89400761, 312.41632883, 307.94371553, 303.47928063,\n",
       "       299.02610393, 294.58722958, 290.16566392, 285.76437365,\n",
       "       281.38628415, 277.03427814, 272.71119459, 268.41982779,\n",
       "       264.16292668, 259.94319435, 255.76328776, 251.62581754,\n",
       "       247.53334796, 243.48839707, 239.49343682, 235.55089338,\n",
       "       231.6631474 , 227.83253441, 224.06134514, 220.35182592,\n",
       "       216.70617899, 213.12656281, 209.61509227, 206.17383889,\n",
       "       202.80483085, 199.51005297, 196.29144659, 193.15090922,\n",
       "       190.09029416, 187.11140993, 184.21601951, 181.40583947,\n",
       "       178.68253892, 176.04773827, 173.50300784, 171.04986629,\n",
       "       168.68977891, 166.42415571, 164.25434938, 162.18165312,\n",
       "       160.20729829, 158.33245196, 156.55821434, 154.88561611,\n",
       "       153.31561565, 151.84909625, 150.4868632 , 149.2296409 ,\n",
       "       148.07806992, 147.03270411, 146.09400768, 145.26235242,\n",
       "       144.53801488, 143.92117374, 143.41190725, 143.01019083,\n",
       "       142.71589482, 142.52878244, 142.44850792, 142.47461491,\n",
       "       142.60653511, 142.84358714, 143.18497582, 143.6297916 ,\n",
       "       144.17701042, 144.82549392, 145.57398991, 146.42113333,\n",
       "       147.36544748])"
      ]
     },
     "execution_count": 30,
     "metadata": {},
     "output_type": "execute_result"
    }
   ],
   "source": [
    "cafe_daily"
   ]
  },
  {
   "cell_type": "code",
   "execution_count": 31,
   "id": "d0cfcfa8",
   "metadata": {},
   "outputs": [
    {
     "data": {
      "application/vnd.plotly.v1+json": {
       "config": {
        "plotlyServerURL": "https://plot.ly"
       },
       "data": [
        {
         "line": {
          "width": 1
         },
         "mode": "lines",
         "name": "1998",
         "showlegend": true,
         "type": "scatter",
         "x": {
          "bdata": "AQAJABEAGQAhACkAMQA5AEEASQBRAFkAYQBpAHEAeQCBAIkAkQCZAKEAqQCxALkAwQDJANEA2QDhAOkA8QD5AAEBCQERARkBIQEpATEBOQFBAUkBUQFZAWEBaQE=",
          "dtype": "i2"
         },
         "y": {
          "bdata": "AAAAAAAA+P8AAAAAAAD4/2IYhkEk52pAQhqkwbScakBmZmZCKt9oQDmO41hLeW9AAABAiU88cUAAAADJIMx2QAAAQNHyPXJAAACAk/xud0CMMcZYExV5QAAAACnjBn5AAACADsUif0AAAEC3Djp6QAAAgH/b4XlAAAAAvG2gfkAAAAAbDdSAQAAAQLB4mINAAAAADA/ig0AAAAC8cXqCQAAAADONDYRAc08jnBMOhEANJ3XfBn+CQMYYY8xwhYFAAABAZkoTgEAAAAA/zV2AQAAAoFatEoFAAADAHLj3fUAAAAC2Fm+AQAAAwCU9sXxAAAAAtZK2eUAAAICq2oZ1QAAAgFN3NXlAAACAhBuxd0AAAEBNZUhyQAAAQIWGN3BAAAAAkPp4cEAAAIAycJhrQAAAALef3HFAAAAA6xqobkB5DeUlja9jQImIiPjCf1tAAAAAAAAA+P8AAAAAAAD4/wAAAAAAAPj/AAAAAAAA+P8=",
          "dtype": "f8"
         }
        },
        {
         "line": {
          "width": 1
         },
         "mode": "lines",
         "name": "1999",
         "showlegend": true,
         "type": "scatter",
         "x": {
          "bdata": "AQAJABEAGQAhACkAMQA5AEEASQBRAFkAYQBpAHEAeQCBAIkAkQCZAKEAqQCxALkAwQDJANEA2QDhAOkA8QD5AAEBCQERARkBIQEpATEBOQFBAUkBUQFZAWEBaQE=",
          "dtype": "i2"
         },
         "y": {
          "bdata": "AAAAAAAA+P8AAABAb+BfQAAAAMYvWmpA55xzZo9cbkBba62lxHBxQAAAwLFa/XBAAAAAen55dUAAAIBZUO91QAAAAE9+JHZAAACAOjOAd0AAAEC4wo91QAAAAM3DGXpAAABAzegfe0AAAIBMokKAQAAAAPhpoYFAAABAVTFhgEAAAIBAAVGDQAAAwDSfVYJAAACAvIfAg0AAAAAMQhyDQAAAgKLYNIVAkiRJcoVJhUB605telhuHQAzDMOzMb4hAAACAqvsKikAAAIC2O5OHQAAAgImVsIRAmqZpqpzxgkAAAID8fZd+QFhHm9fImYFAAADAYmP3gUAAAAAiNNyAQAAAgGUlyX5AAACALlbReUAAAIBJbex4QAAAAN8sCHZAAABA2IUedEAAAEDEeKVwQAAAAP6XumpAAACAx2opa0CyPjQWd/JpQFVVVfXtfWRAAAAAAAAA+P8AAAAAAAD4/wAAAAAAAPj/AAAAAAAA+P8=",
          "dtype": "f8"
         }
        },
        {
         "line": {
          "width": 1
         },
         "mode": "lines",
         "name": "2000",
         "showlegend": true,
         "type": "scatter",
         "x": {
          "bdata": "AQAJABEAGQAhACkAMQA5AEEASQBRAFkAYQBpAHEAeQCBAIkAkQCZAKEAqQCxALkAwQDJANEA2QDhAOkA8QD5AAEBCQERARkBIQEpATEBOQFBAUkBUQFZAWEBaQE=",
          "dtype": "i2"
         },
         "y": {
          "bdata": "AAAAAAAA+P9VVVW1PpVnQJze9N4VXm5AIU8JAhyZa0BmWZZVP4FwQAAAgMrTh3RAAACAxTTJbUAAAEB8QNFyQAAAgJcw3XJAAADA/BlndEAAAIA6bmN2QAAAgEhXHXlAAABALZDrgUAAAED8FOOCQAAAAGIgQ35AAACAHNqGfUAAAIDS0j1+QAAAgCz8O39AAABAZjjfgUAAAAAqNNeCQAAAgFI1TIJAAAAAurlXgkAAAMDYF5KCQAAAgDqVRIFAAABAqcC0gUAAAACcKD6AQAAAQEKpoYNAAADA7EKGhEAAAIDd+U6EQAAAABxN4oFAAAAAl0oMgUAAAICVXsh/QAAAACpLrXtAAAAAUTC5fEAAAIDERfF4QAAAgFvavnNAAAAAXAtBcEAAAIDspMBuQE3TNA1g4m9AAACAcfpFb0C8u7v7FIJiQI7jOA5VsGBAAAAAAAAA+P8AAAAAAAD4/wAAAAAAAPj/AAAAAAAA+P8=",
          "dtype": "f8"
         }
        },
        {
         "line": {
          "width": 1
         },
         "mode": "lines",
         "name": "2001",
         "showlegend": true,
         "type": "scatter",
         "x": {
          "bdata": "AQAJABEAGQAhACkAMQA5AEEASQBRAFkAYQBpAHEAeQCBAIkAkQCZAKEAqQCxALkAwQDJANEA2QDhAOkA8QD5AAEBCQERARkBIQEpATEBOQFBAUkBUQFZAWEBaQE=",
          "dtype": "i2"
         },
         "y": {
          "bdata": "AAAAAAAA+P8AAAAAAAD4/5qZmZmaBGtAW2utJajuZkAAAADz2AxuQAAAgLTl83BAAACAl04sckAAAADCIYB0QAAAQHlky3JAAABARVKgdEAAAMCtj251QAAAwHkGDHRAAACAaBcodUAAAADXZSB6QAAAgOYJ6nxAAACA1bwtfkAAAID2aGqCQAAAwJuTNoVAAAAAI7EBh0AAAIDCFvCGQAAAACgZ9YZAAAAABGB2hEAAAIAmyNSEQAAAQNs3YYVAAABA/xCIhUDOOeeMB5SFQNPS0uJs34ZAAAAA6gK/hUAAAADmxuuBQAAAACFG74FAAACAn3Z/gEAAAMC8Wu+CQAAAABm/jXxAAAAAypDheUAAAAAb7Ax+QAAAwHpvqHNAAABATDa4c0BVVVUFwLRwQAAAgKcxjm1AAADAdsRrZ0DYUF6TgChVQAAAAAAAAPj/AAAAAAAA+P8AAAAAAAD4/wAAAAAAAPj/AAAAAAAA+P8=",
          "dtype": "f8"
         }
        },
        {
         "line": {
          "width": 1
         },
         "mode": "lines",
         "name": "2002",
         "showlegend": true,
         "type": "scatter",
         "x": {
          "bdata": "AQAJABEAGQAhACkAMQA5AEEASQBRAFkAYQBpAHEAeQCBAIkAkQCZAKEAqQCxALkAwQDJANEA2QDhAOkA8QD5AAEBCQERARkBIQEpATEBOQFBAUkBUQFZAWEBaQE=",
          "dtype": "i2"
         },
         "y": {
          "bdata": "AAAAAAAA+P8AAAAAAAD4/0jhepS6FWpAWPuGpT4UcEAQBEFQ7xZnQAAAgOGalmxAAAAA29hnb0AAAMBSV6V1QAAAgK753nZAAACADSu8dkC7L49No112QHFH3EHBoHdAkiRJ2mOLc0AAAAD5HRh4QAAAgESSzH9AAADAXnZDg0AAAAB0z1SDQAAAQC+2XIBAAACAeCVOgkAAAECFA5qDQAAAQK4zL4VAAACAXvhDg0AAAIDXHMSEQAAAAFwR8YRAAACAAWFihUAAAIDBPw+IQAAAQM8UOohAAADAm9PPh0AAAABU6baHQAAAQJca+IRAAABA28HNgkAAAMCBJRCAQAAAgIqqY4BAAABAEG6agEAAAACp5uZ6QAAAgAPK/X5AAACA7bxdeEAAAAAK0Wx5QAAAgCmyXndAAACA6gDgbUDZiqCRC4huQAAAAJQxZ3JAAAAAAAAA+P8AAAAAAAD4/wAAAAAAAPj/AAAAAAAA+P8=",
          "dtype": "f8"
         }
        },
        {
         "line": {
          "width": 1
         },
         "mode": "lines",
         "name": "2003",
         "showlegend": true,
         "type": "scatter",
         "x": {
          "bdata": "AQAJABEAGQAhACkAMQA5AEEASQBRAFkAYQBpAHEAeQCBAIkAkQCZAKEAqQCxALkAwQDJANEA2QDhAOkA8QD5AAEBCQERARkBIQEpATEBOQFBAUkBUQFZAWEBaQE=",
          "dtype": "i2"
         },
         "y": {
          "bdata": "AAAAAAAA+P8AAADUcbphQAAAAGkSMWdAAACAYjAlaUAAAMBxHKhwQAAAANiQ8nBAAAAAL9j4c0AAAADlEBx3QAAAgFSC13lAAAAAceo2ekAAAAD6npZ2QAAAAEtaGnlAAACAxv9FekAAAMCvK+GAQAAAAJlk8IZAAAAAVHOih0AAAAA6SiSFQAAAAAcKNoJAAAAAbmBogkAAAIDZ6FGEQAAAQETbMYFAAACAnRb5gkAAAIBBJN1+QAAAgHkDSHxAAACANppneUAAAABjdSx6QAAAgG3mPHxAAAAAd1fAfEAAAACW0W96QAAAgJtBM3tAAACAteOWeUAAAABGzzp3QAAAAPkP+HhAAACAe/05eEAAAIBA83p4QAAAABDP7nZAAADAK86Tc0AAAACOiBt1QAAAgIGWP3RAAABAiHH3aUAAAMhj1RRgQKuqqoahV21AAAAAAAAA+P8AAAAAAAD4/wAAAAAAAPj/AAAAAAAA+P8=",
          "dtype": "f8"
         }
        },
        {
         "line": {
          "width": 1
         },
         "mode": "lines",
         "name": "2004",
         "showlegend": true,
         "type": "scatter",
         "x": {
          "bdata": "AQAJABEAGQAhACkAMQA5AEEASQBRAFkAYQBpAHEAeQCBAIkAkQCZAKEAqQCxALkAwQDJANEA2QDhAOkA8QD5AAEBCQERARkBIQEpATEBOQFBAUkBUQFZAWEBaQE=",
          "dtype": "i2"
         },
         "y": {
          "bdata": "AAAAAAAA+P8AAADAOkxpQAAAAABiTmZAAAAArQEgakAAAIDR3fprQAAAwPgeaHFAAACA0l8HbkAAAEANJR5zQAAAgE6J4nJAAACAjCZvc0AAAIBzhulzQAAAAKFoQHpAAACAWKVzgUAAAICasxOCQAAAAEeKVYVAAACA7+TQhUAAAIAQW4+GQAAAgAOC0oZAAACARH3ahEAAAAAm7p+FQAAAwM1OBINAAABAP+JdgUAAAABvJvF+QAAAgJUik3pAAAAAar2AeUAAAID2Xvd+QAAAACpxTX9AAAAAS+SJfEAAAIBXK2B5QAAAADU65HZAAAAARpJQeEAAAIAyIDd6QAAAAL9wd3xAAAAA/DjxekAAAAD3Yct9QAAAABKp33VAAAAAtzxIdkAAAIC1pxlzQAAAgNvFPmdAAABAR/wyZUD4fd+3TfdrQAAAAKD8yG1AAAAAAAAA+P8AAAAAAAD4/wAAAAAAAPj/AAAAAAAA+P8=",
          "dtype": "f8"
         }
        },
        {
         "line": {
          "width": 1
         },
         "mode": "lines",
         "name": "2005",
         "showlegend": true,
         "type": "scatter",
         "x": {
          "bdata": "AQAJABEAGQAhACkAMQA5AEEASQBRAFkAYQBpAHEAeQCBAIkAkQCZAKEAqQCxALkAwQDJANEA2QDhAOkA8QD5AAEBCQERARkBIQEpATEBOQFBAUkBUQFZAWEBaQE=",
          "dtype": "i2"
         },
         "y": {
          "bdata": "AAAAAAAA+P8lSZIEL+lZQJjHViQjWV9ACe0lbIlWY0DNzMwkAyxrQAAAAI5koG5AAABAxoXNckAAAADHRx9rQAAAwJxFAXNAAAAAaSd2d0AAAIDuJhJ5QAAAAA6rfXhAAAAATnSVekAAAACBwReAQAAAAE9Sa39AAABApUJigkAAAEDkSL2CQAAAACokUYRAAAAAm9gOhEAAAMDdnhuDQAAAgP3PnYFAAACAotfngEAAAAD1hdZ7QAAAAPZjuXpAAAAAvdiAfEAAAIDb/wZ9QAAAgOQ6PnlAAAAAfWs+ekAAAAAftvB3QAAAgAcPz3tAAAAAbVsce0AAAABFLaF8QAAAgOlD/n5AAAAArb9ofEAAAADENSp8QAAAgNM8nXdAAAAAyrbJckAAAIAwKTxzQAAAwIb5lXJAAACACqssbUC5ZAj2SEVpQFVVVSXC4XJAAAAAAAAA+P8AAAAAAAD4/wAAAAAAAPj/AAAAAAAA+P8=",
          "dtype": "f8"
         }
        },
        {
         "line": {
          "width": 1
         },
         "mode": "lines",
         "name": "2006",
         "showlegend": true,
         "type": "scatter",
         "x": {
          "bdata": "AQAJABEAGQAhACkAMQA5AEEASQBRAFkAYQBpAHEAeQCBAIkAkQCZAKEAqQCxALkAwQDJANEA2QDhAOkA8QD5AAEBCQERARkBIQEpATEBOQFBAUkBUQFZAWEBaQE=",
          "dtype": "i2"
         },
         "y": {
          "bdata": "AAAAAAAA+P8AAIAvZshLQAAAAE8iYGFAAAAAS5hVYkAAAIDKinRnQAAAwNdKZ3JAAAAAG9o7cUAAAABmTBVyQAAAQGz2B3JAAACAAg8kcUAAAED5ELFzQAAAgAdah3dAAACA/029eUAAAIC4JOJ7QAAAAONeWIBAAAAAANaIg0AAAMBlJiGFQAAAQBqb5YJAAACAwPVEgEAAAMD57iCGQAAAQJIQ+YJAAACACMM7hUAAAMBJQySEQAAAwD0Xx4BAAAAAkHNAgUAAAIBk7lqBQAAAgHUVFYJAttZaC7eVgkAAAACXGr+EQAAAQJ0ucoNAAACApGIRgkAAAIBHDmV/QAAAAFxCtH5AAABAJXI5gEAAAADo6BV/QAAAALDSVnhAAACAMMXjdkAAAIAfv6dzQAAAgJHFq29AAACAb9lLbUAAAADoiZhqQAAAALSV0V5AAAAAAAAA+P8AAAAAAAD4/wAAAAAAAPj/AAAAAAAA+P8=",
          "dtype": "f8"
         }
        },
        {
         "line": {
          "width": 1
         },
         "mode": "lines",
         "name": "2007",
         "showlegend": true,
         "type": "scatter",
         "x": {
          "bdata": "AQAJABEAGQAhACkAMQA5AEEASQBRAFkAYQBpAHEAeQCBAIkAkQCZAKEAqQCxALkAwQDJANEA2QDhAOkA8QD5AAEBCQERARkBIQEpATEBOQFBAUkBUQFZAWEBaQE=",
          "dtype": "i2"
         },
         "y": {
          "bdata": "AAAAAAAA+P8AAABjbNBjQIqd2AmmVVNApHA96j1TZkCl7ssD6gJmQJIkSfKm7mpAAADAs6OFcEAAAICId2FvQAAAgHa2A3FAAACAjIa9b0AAAAAreepxQAAAAJe34HZAAAAAyTg5ekAAAIAtmXB/QAAAwO0h3oFAAAAAr6tCgUAAAACUPhqGQAAAwMXT+YNAAAAABEbnhUAAAEAnlROGQAAAQBtZLYVAAACABPGdh0AAAIDGnmuHQAAAAIFypIdAAACAEOf0hEAAAIDvAP2DQAAAALps7oRAAABAvbk6g0AAAIDMzlaCQAAAALcZo35AAACAYZLPfEAAAEDcxcmAQAAAgLTd7n9AAACAtzwyfkAAAMAh+mZ3QAAAACZk/nZAAADAbhR8c0AAAMBObsByQAAAANG3NWlAAAAAMrZYZkAAABDFO51gQAAAAIbgLGpAAAAAAAAA+P8AAAAAAAD4/wAAAAAAAPj/AAAAAAAA+P8=",
          "dtype": "f8"
         }
        },
        {
         "line": {
          "width": 1
         },
         "mode": "lines",
         "name": "2008",
         "showlegend": true,
         "type": "scatter",
         "x": {
          "bdata": "AQAJABEAGQAhACkAMQA5AEEASQBRAFkAYQBpAHEAeQCBAIkAkQCZAKEAqQCxALkAwQDJANEA2QDhAOkA8QD5AAEBCQERARkBIQEpATEBOQFBAUkBUQFZAWEBaQE=",
          "dtype": "i2"
         },
         "y": {
          "bdata": "AAAAAAAA+P9VVVXlOSdrQAAAAOyiLmlAAAAA9FwlaUAAAAApaItmQAAAgIcy+WpAAAAA8ttZakAAAAAMrw1uQAAAADY19W5AAACAL3eUckAAAADJf/N1QAAAAIjQxnlAAAAAqpaGeEAAAIC4w0d7QAAAAFXhCH5AAAAAM3q0f0AAAIDGM955QAAAQOfjOYBAAADAPn2IgEAAAMAfvGGBQAAAAMxhPoJAAACAPKFMgEAAAMDrFaSAQAAAAIUjGoBAAAAAfv2/gkAAAABQkZ2EQAAAwMVX/INAAAAAOV0ZhUAAAMDV+IGFQAAAAKUk6oNAAAAACzu5hEAAAACfOWSEQAAAQK+oRoFAAACAU7fleUAAAAAeRVd2QAAAgKKtn3RAAACA4renbkAAAMAgg59wQAAAgEQUy2tAAAAgU1dfYEDtG9ZIip1jQAAAAAAAAPj/AAAAAAAA+P8AAAAAAAD4/wAAAAAAAPj/AAAAAAAA+P8=",
          "dtype": "f8"
         }
        },
        {
         "line": {
          "width": 1
         },
         "mode": "lines",
         "name": "2009",
         "showlegend": true,
         "type": "scatter",
         "x": {
          "bdata": "AQAJABEAGQAhACkAMQA5AEEASQBRAFkAYQBpAHEAeQCBAIkAkQCZAKEAqQCxALkAwQDJANEA2QDhAOkA8QD5AAEBCQERARkBIQEpATEBOQFBAUkBUQFZAWEBaQE=",
          "dtype": "i2"
         },
         "y": {
          "bdata": "AAAAAAAA+P8AAAAt9VdjQAAAAHRsx2lAAACA8VtaakAAAIBwPlJqQAAAwHWyMnJAAABAz3JxcEAAAED2GZNxQAAAgEGMxnNAAAAAu+ZjdUAAAAACUmN3QAAAgIBK0ndAAAAAWh07ekAAAIBApnZ5QAAAwAxCeIFAAACAxfwHg0AAAACN4UuCQAAAgFgOy4NAAADAGt2Pg0AAAEBZgWGCQAAAANTj/oBAAAAAa+UihEAAAMBqpzSHQAAAANiFQINAAADAkv2sgEAAAADPLnmAQAAAAOS2Yn9AAACAXTzmfEAAAADYJX5/QAAAgCp5wH1AAACAKiH/fEAAAIAToSF9QAAAgD1qDXtAAAAAygxSfkAAAAAMLfp+QAAAQALJS3ZAAAAAhN+gekAAAABVFf1xQAAAQDbIDnFAAAAAMiRcbEAAALBAVuBbQAAAADmMiW5AAAAAAAAA+P8AAAAAAAD4/wAAAAAAAPj/AAAAAAAA+P8=",
          "dtype": "f8"
         }
        },
        {
         "line": {
          "width": 1
         },
         "mode": "lines",
         "name": "2010",
         "showlegend": true,
         "type": "scatter",
         "x": {
          "bdata": "AQAJABEAGQAhACkAMQA5AEEASQBRAFkAYQBpAHEAeQCBAIkAkQCZAKEAqQCxALkAwQDJANEA2QDhAOkA8QD5AAEBCQERARkBIQEpATEBOQFBAUkBUQFZAWEBaQE=",
          "dtype": "i2"
         },
         "y": {
          "bdata": "AAAAAAAA+P9P7MQeGFNyQNu2bQUc7G1ARVEUBep2bEAAAID0XT1rQAAAgKZM1XBAAACAhFm5dUAAAMAZU1lzQAAAQAq5zHFAAAAAVrBHc0AAAEAKCn1wQAAAACoJSXZAAAAAIc6ofEAAAIDn4QGAQAAAgD08dIBAAAAA/5ISg0AAAIC6in6CQAAAgBzOgoNAAACAzeXyg0AAAIAKYYyGQAAAAClI3YRAAACA+j73hEAAAADza06FQAAAgBfLJoZAAABA35pwhEAAAADH0vSGQAAAwM2i5oNAAAAAnoHmhUAAAABswxyHQAAAgDYAhoVAAABAAWPbgEAAAEB2GsyAQAAAQIwOJoBAAACAUC0mfEAAAIBElXR7QAAAQBjRwHRAAABAYZClckAAAEDgxoxyQAAAgFW3PnZAAAAAMYpbb0AAAAC0x+JtQAAAAJARRmhAAAAAAAAA+P8AAAAAAAD4/wAAAAAAAPj/AAAAAAAA+P8=",
          "dtype": "f8"
         }
        },
        {
         "line": {
          "width": 1
         },
         "mode": "lines",
         "name": "2011",
         "showlegend": true,
         "type": "scatter",
         "x": {
          "bdata": "AQAJABEAGQAhACkAMQA5AEEASQBRAFkAYQBpAHEAeQCBAIkAkQCZAKEAqQCxALkAwQDJANEA2QDhAOkA8QD5AAEBCQERARkBIQEpATEBOQFBAUkBUQFZAWEBaQE=",
          "dtype": "i2"
         },
         "y": {
          "bdata": "AAAAAAAA+P8XXXRBpTZRQB5xRyw3RmJA+9BYvymoaUBfX18f9GlrQBljjFEr/25AAAAAYs0tdkAAAADDv2V3QAAAAMd7MnpAAAAAW5ZWe0AAAAATHWZ7QAAAABEtynpAAACAyxJdekAAAIDByy+DQAAAAEEDsINAAADAqompgEAAAICL14yEQAAAQHX70IZAAADAraAShUAAAAD00qODQAAAwHNtj4FAAADAkWfVgEAAAIAzF1t+QAAAgIxTeYFAAAAAQ1wDgEAAAMC577iAQAAAwFqXN4FAAABANA0vgUAAAICd8EeBQAAAgEUTJYFAAABA2E60gUAAAAA0rnCBQAAAAJFUTn1AAAAAuPXheEAAAACh9UF7QAAAAJvwDHlAAACAcJTudkAAAADHCw52QAAAAIcA3nFA13Vdd2SZakBY7mnENJRsQAAAALDz5i1AAAAAAAAA+P8AAAAAAAD4/wAAAAAAAPj/AAAAAAAA+P8=",
          "dtype": "f8"
         }
        },
        {
         "line": {
          "width": 1
         },
         "mode": "lines",
         "name": "2012",
         "showlegend": true,
         "type": "scatter",
         "x": {
          "bdata": "AQAJABEAGQAhACkAMQA5AEEASQBRAFkAYQBpAHEAeQCBAIkAkQCZAKEAqQCxALkAwQDJANEA2QDhAOkA8QD5AAEBCQERARkBIQEpATEBOQFBAUkBUQFZAWEBaQE=",
          "dtype": "i2"
         },
         "y": {
          "bdata": "AAAAAAAA+P8AAAAOth5pQNu2bev73GdAy7Isy+RaY0AAAICQjG5qQAAAACktHWtAAACAAyyla0ARQghhEYNtQAAAAHJ1gnJAAACAV9YwdUAAAACJLld3QAAAgMWSmnhAAACAQF7he0AAAACXTxl5QAAAANpk8nlAAAAAi9cPfUAAAMD+t/yBQAAAgEcPCIBAAACA5ID+fkAAAAALwbCAQAAAAH707H1AAADAVqyigEAAAMBGJ2aAQAAAAHf5FIJAAABAiKhzhEAAAABQwsOBQAAAwKhAp4JAAACAJGUMhEAAAACas4CDQAAAwAkQs4JAAADAa4M5g0AAAACksvyDQAAAgNQBEINAAADAkBKLgEAAAACWNK2BQAAAADaSCnlAAAAAwq4Sd0AAAACAkNtzQExoLyG/FHJAhOWeLoYKc0AAAMAL4EhxQFVVVbEQRnJAAAAAAAAA+P8AAAAAAAD4/wAAAAAAAPj/AAAAAAAA+P8=",
          "dtype": "f8"
         }
        },
        {
         "line": {
          "width": 1
         },
         "mode": "lines",
         "name": "2013",
         "showlegend": true,
         "type": "scatter",
         "x": {
          "bdata": "AQAJABEAGQAhACkAMQA5AEEASQBRAFkAYQBpAHEAeQCBAIkAkQCZAKEAqQCxALkAwQDJANEA2QDhAOkA8QD5AAEBCQERARkBIQEpATEBOQFBAUkBUQFZAWEBaQE=",
          "dtype": "i2"
         },
         "y": {
          "bdata": "AAAAAAAA+P9VVVXlbVhtQNqo79zORmRACtejkF3saECGYRgGhFNqQAAAgE6z221AAABANp0ucUAAAECZBjNzQAAAgAcNpXRAAACAUHbYd0AAAIDLtLV+QAAAAIo7nIFAAAAAbuDLgkAAAEAnQhSDQAAAAOGQpoVAAADAk94Xg0AAAAB4ciJ+QAAAAK2Zzn5AAAAAYoK4gUAAAIA2jVCCQAAAgFbTLoFAAAAA3NbDgEAAAEAS3oGBQAAAQBHdaIBAAAAAQcyRgEAAAIANjJiAQAAAABake35AAACAohjef0AAAAAgmZN+QAAAgDr2OXtAAAAAeD6lfUAAAID6rrh8QAAAgFqLz3tAAAAA2nOhe0AAAMA+D6x0QAAAgNaw9HVAAACAZZpgdEAAAMCGisx3QAAAwHaeaXJAAAAAqdwxb0AAAADYQiVrQAAAAD0kbGJAAAAAAAAA+P8AAAAAAAD4/wAAAAAAAPj/AAAAAAAA+P8=",
          "dtype": "f8"
         }
        },
        {
         "line": {
          "width": 1
         },
         "mode": "lines",
         "name": "2014",
         "showlegend": true,
         "type": "scatter",
         "x": {
          "bdata": "AQAJABEAGQAhACkAMQA5AEEASQBRAFkAYQBpAHEAeQCBAIkAkQCZAKEAqQCxALkAwQDJANEA2QDhAOkA8QD5AAEBCQERARkBIQEpATEBOQFBAUkBUQFZAWEBaQE=",
          "dtype": "i2"
         },
         "y": {
          "bdata": "AAAAAAAA+P8AAADGvQRoQAAAgKvD4G5AAAAAs2PObUAAAEChUypwQAAAgJU0821AAABAKkIHcEAAAEDECiNzQAAAgEpyBHVAAAAAcjCpeUAAAAAn5pR7QAAAgEbTSn5AAACAfwZ4f0AAAACi+Vh/QAAAgNypxIBAAAAAEmn3gUAAAEAiN2aBQAAAAKk/Q4NAAADAmzAAh0AAAIDMaLKHQAAAQI658IVAAACA3EIug0AAAAB46l2DQAAAAH++x4RAAAAAuFQGhEAAAMAW4fSAQAAAAHQu239AAAAAdCpWfEAAAECMNFt7QAAAANtJ53pAAACAtrQHfEAAAICNtCl9QAAAgPOXyHhAAACA1syEdEAAAEAVcIhzQAAAgAHZx3dAAAAA+PmddEAAAIBU2Sd3QAAAAOzI3W1AAAAAhoimc0AAAAD7M9toQAAAAAhyi2JAAAAAAAAA+P8AAAAAAAD4/wAAAAAAAPj/AAAAAAAA+P8=",
          "dtype": "f8"
         }
        },
        {
         "line": {
          "width": 1
         },
         "mode": "lines",
         "name": "2015",
         "showlegend": true,
         "type": "scatter",
         "x": {
          "bdata": "AQAJABEAGQAhACkAMQA5AEEASQBRAFkAYQBpAHEAeQCBAIkAkQCZAKEAqQCxALkAwQDJANEA2QDhAOkA8QD5AAEBCQERARkBIQEpATEBOQFBAUkBUQFZAWEBaQE=",
          "dtype": "i2"
         },
         "y": {
          "bdata": "AAAAAAAA+P8AAMAhQ0hSQFVVVdrjNmFA7733juE/a0AAAABDQGdwQAAAQFk6dXNAAACAwV7VdkAAAMCuqEN5QAAAwJZGJnhAAAAAuiYOeEAAAACwKqZxQAAAgDvB6HdAAACAWiM9e0AAAAAoR3J5QAAAAKFX83lAAAAAxqkvfkAAAABfkJh5QAAAgLgE5nFAAADA13I2dEAAAEBggJ92QAAAgPF9A3dAAADAx0VtdUAAAID5jZN2QAAAwGAb2XZAAAAAA92VdkAAAMBIXZh2QAAAgOcfrXdAAAAAGdj9dUAAAABYLAp5QAAAAIjYIHlAAACAc96Pd0AAAAA5p1B3QAAAAFASw3ZAAAAAQspJd0AAAIAVu6Z1QAAAwP5Cb3NAAAAAJsVUc0AAAADlNyptQAAAgI0Y53BAAAAA7RCJakAAAICyC8ZrQAAAAEwXjW9AAAAAAAAA+P8AAAAAAAD4/wAAAAAAAPj/AAAAAAAA+P8=",
          "dtype": "f8"
         }
        },
        {
         "line": {
          "width": 1
         },
         "mode": "lines",
         "name": "2016",
         "showlegend": true,
         "type": "scatter",
         "x": {
          "bdata": "AQAJABEAGQAhACkAMQA5AEEASQBRAFkAYQBpAHEAeQCBAIkAkQCZAKEAqQCxALkAwQDJANEA2QDhAOkA8QD5AAEBCQERARkBIQEpATEBOQFBAUkBUQFZAWEBaQE=",
          "dtype": "i2"
         },
         "y": {
          "bdata": "AAAAAAAA+P8AAABQdxlmQAAAAMogm2tAAACAw0WAakAAAIByC71pQAAAgK9EPmpAAABAtIo5cEAAAIAn+oFvQAAAwNnQi3RAAABAg6bGdkAAAACrfAF6QAAAgN9hrnpAAACAvUZQfEAAAIDvT9WAQAAAAM7ZL4FAAAAAk9FQg0AAAMAB7eaAQAAAAGskzH9AAAAAIcpde0AAAIAlWgl6QAAAAFrh5XxAAACAd6zNeUAAAIBRdYt6QAAAAKZCm3dAAAAA64rveEAty7JMHfl5QAAAAC9t5nxAAAAAtqlYfkAAAMAf/jGBQAAAQHmYZoFAAACAEYAhf0AAAIAViCB/QAAAAHu303xAAACAgXw7e0AAAAAzQ1d6QAAAgER2+3pAAAAAVnTAd0AAAIAHMeN1QAAAAF6seG1AAACAH7kTbEAAAMBsOA9nQJIkSQJTCmhAAAAAAAAA+P8AAAAAAAD4/wAAAAAAAPj/AAAAAAAA+P8=",
          "dtype": "f8"
         }
        },
        {
         "line": {
          "width": 1
         },
         "mode": "lines",
         "name": "2017",
         "showlegend": true,
         "type": "scatter",
         "x": {
          "bdata": "AQAJABEAGQAhACkAMQA5AEEASQBRAFkAYQBpAHEAeQCBAIkAkQCZAKEAqQCxALkAwQDJANEA2QDhAOkA8QD5AAEBCQERARkBIQEpATEBOQFBAUkBUQFZAWEBaQE=",
          "dtype": "i2"
         },
         "y": {
          "bdata": "AAAAAAAA+P8AAABdYQ5TQAAAgCDHamdAAACABxkcZ0AAAACpmKVoQAAAAL7txWtAAACAmjNadEAAAMA/dCdxQAAAANejlHFAAADABy4DdUAAAEACYDx0QAAAAAHGqHVAAAAAV1kTeEAAAIC9Ul15QAAAgMYQKHpAAACAsTQzd0AAAAB6sMN6QAAAgBfX531AAAAAVuENfEAAAIAcB29/QAAAAItYJIBAAACASytjfkAAAMA3vhN7QAAAAKwLXXhAAACAsMged0AAAED3gi93QAAAAOD/MHlAAADAmdIydEAAAMA5fNJzQAAAgKQnrXNAAABAK347dEAAAEBu0Gh1QAAAgJKLIXpAAABAUlg4dkAAAABZz719QAAAwM9KiXVAAACAre/NdEAAAECXrKp1QAAAgGj7eGtAAABAZWorZUCapmn65stfQAAAQBokxlBAAAAAAAAA+P8AAAAAAAD4/wAAAAAAAPj/AAAAAAAA+P8=",
          "dtype": "f8"
         }
        },
        {
         "line": {
          "width": 1
         },
         "mode": "lines",
         "name": "2018",
         "showlegend": true,
         "type": "scatter",
         "x": {
          "bdata": "AQAJABEAGQAhACkAMQA5AEEASQBRAFkAYQBpAHEAeQCBAIkAkQCZAKEAqQCxALkAwQDJANEA2QDhAOkA8QD5AAEBCQERARkBIQEpATEBOQFBAUkBUQFZAWEBaQE=",
          "dtype": "i2"
         },
         "y": {
          "bdata": "AAAAAAAA+P9VVVXJq1tiQAAAYD91MGBAAACAM4tXY0AAAECqsLNjQAAAAEa4zGlAAADArIGCcEAAAMCUFpBxQAAAwPxHbHRAAABAhnd/dkAAAIAxyz91QAAAgCNCPHNAAADA6aTUdUAAAEBarf90QAAAAHU0cnVAAAAAYE3gc0AAAIBtohJ5QAAAwCscJ3lAAAAA7Q8IeUAAAABf8pd6QAAAQCu2m3lAAADAselfd0AAAIBbuiN2QAAAwC++fXVAAAAAPEIOeEAAAEC7HUl0QAAAALpex3ZAAACAGY2TeEAAAADD5oN9QAAAgH9RDH5AAACALqCrfUAAAICzOdh7QAAAAPiHKHpAAACAtIlyfEAAAEDbNPZ1QAAAgH+BP3hAAAAAruXicUAAAIBd9ilpQAAAAIbTamdAAABACDFWakAAAICih79uQIiHh7cWRWBAAAAAAAAA+P8AAAAAAAD4/wAAAAAAAPj/AAAAAAAA+P8=",
          "dtype": "f8"
         }
        },
        {
         "line": {
          "width": 1
         },
         "mode": "lines",
         "name": "2019",
         "showlegend": true,
         "type": "scatter",
         "x": {
          "bdata": "AQAJABEAGQAhACkAMQA5AEEASQBRAFkAYQBpAHEAeQCBAIkAkQCZAKEAqQCxALkAwQDJANEA2QDhAOkA8QD5AAEBCQERARkBIQEpATEBOQFBAUkBUQFZAWEBaQE=",
          "dtype": "i2"
         },
         "y": {
          "bdata": "AAAAAAAA+P8AAADofmRoQAAAgNb/x2NAAACAoaviZkAAAICwnYxpQAAAQDwQl2ZAAACAM8TnbEAAAEAaLX5xQAAAgHtSRnBAAADAzh9jckAAAABrdpR3QAAAgEPhRXpAAAAAHFVYeUAAAIBG/eN1QAAAgJrn/nlAAACAoNF7eEAAAEB+Xll3QAAAgBg0dndAAADAcdY/d0AAAIBi/yN2QAAAgJQvhXdAAAAA8tfGdkAAAIB2AaxzQAAAgPJku3FAAAAAFA7DckAAAAAky7ZxQAAAQMXCrHFAAACA+0sjcUAAAIB1WWd0QAAAgDbfTndAAADAqFyEdUAAAABSK810QAAAAGLPn3hAAAAA/jZkeEAAAACm4BZ2QAAAgPE8nXVAAACA9LWkc0AAAAC39sF1QAAAABOgHHFAAACAPocZZ0AAAED1oVxrQKuqqlbgXWZAAAAAAAAA+P8AAAAAAAD4/wAAAAAAAPj/AAAAAAAA+P8=",
          "dtype": "f8"
         }
        },
        {
         "line": {
          "width": 1
         },
         "mode": "lines",
         "name": "2020",
         "showlegend": true,
         "type": "scatter",
         "x": {
          "bdata": "AQAJABEAGQAhACkAMQA5AEEASQBRAFkAYQBpAHEAeQCBAIkAkQCZAKEAqQCxALkAwQDJANEA2QDhAOkA8QD5AAEBCQERARkBIQEpATEBOQFBAUkBUQFZAWEBaQE=",
          "dtype": "i2"
         },
         "y": {
          "bdata": "AAAAAAAA+P8AAAATg5ZgQPcR3NeZJmBAAABAxkIRYUAAAID2QNVkQAAAQAWMcGlAAACALKA2akAAAMBze9NlQAAAQF9f4XJAAABAo54BeEAAAICM3Nh4QAAAgCcScXxAAACAwYUBgEAAAIBI04F3QAAAgKZN7nNAAAAAPpgZeEAAAAD7evd3QAAAAHG8I3xAAACA8KS8f0AAAMCAZ9GBQAAAQOtds4NAAABAVJoUg0AAAMCjhKqDQAAAAP2BR4JAAACAbMNMgUAAAEAet6mBQAAAgIxFHoBAAAAADvj/f0AAAAALqPJ+QAAAwAeXG4BAAAAAIhChf0AAAIBedlN9QAAAgF61aXlAAAAAxDTzeEAAAIC3haF7QAAAwEEyJnZAAAAAatoQcUAAAABLdTluQAAAgOMhIW1AAACAYVtxbkAAAIDRGgNoQAAAAFw+xmFAAAAAAAAA+P8AAAAAAAD4/wAAAAAAAPj/AAAAAAAA+P8=",
          "dtype": "f8"
         }
        },
        {
         "line": {
          "color": "grey",
          "width": 3
         },
         "mode": "lines",
         "name": "Median",
         "type": "scatter",
         "x": {
          "bdata": "AQAJABEAGQAhACkAMQA5AEEASQBRAFkAYQBpAHEAeQCBAIkAkQCZAKEAqQCxALkAwQDJANEA2QDhAOkA8QD5AAEBCQERARkBIQEpATEBOQFBAUkBUQFZAWEBaQE=",
          "dtype": "i2"
         },
         "y": {
          "bdata": "AAAAAAAA+P8AAADIMJRjQAAAgCDHamdAAAAA9FwlaUCGYRgGhFNqQAAAAI5koG5AAADAs6OFcEAAAEB8QNFyQAAAgE6J4nJAAABAhnd/dkAAAIA6bmN2QAAAAEtaGnlAAAAATnSVekAAAIC4JOJ7QAAAgESSzH9AAADAqompgEAAAMD+t/yBQAAAAAcKNoJAAACAeCVOgkAAAAAqNNeCQAAAAMxhPoJAAAAAurlXgkAAAEAS3oGBQAAAgDqVRIFAAADAkv2sgEAAAIANjJiAQAAAgIxFHoBAAACAohjef0AAAADYJX5/QAAAALcZo35AAACALqCrfUAAAIBedlN9QAAAAL9wd3xAAAAA/DjxekAAAAAzQ1d6QAAAwEEyJnZAAABATDa4c0AAAIC1pxlzQE3TNA1g4m9AAACAH7kTbEC5ZAj2SEVpQKuqqlbgXWZAAAAAAAAA+P8AAAAAAAD4/wAAAAAAAPj/AAAAAAAA+P8=",
          "dtype": "f8"
         }
        },
        {
         "line": {
          "color": "black",
          "dash": "dash",
          "width": 3
         },
         "mode": "lines",
         "name": "Fourier Interpolated Median",
         "type": "scatter",
         "x": {
          "bdata": "AQACAAMABAAFAAYABwAIAAkACgALAAwADQAOAA8AEAARABIAEwAUABUAFgAXABgAGQAaABsAHAAdAB4AHwAgACEAIgAjACQAJQAmACcAKAApACoAKwAsAC0ALgAvADAAMQAyADMANAA1ADYANwA4ADkAOgA7ADwAPQA+AD8AQABBAEIAQwBEAEUARgBHAEgASQBKAEsATABNAE4ATwBQAFEAUgBTAFQAVQBWAFcAWABZAFoAWwBcAF0AXgBfAGAAYQBiAGMAZABlAGYAZwBoAGkAagBrAGwAbQBuAG8AcABxAHIAcwB0AHUAdgB3AHgAeQB6AHsAfAB9AH4AfwCAAIEAggCDAIQAhQCGAIcAiACJAIoAiwCMAI0AjgCPAJAAkQCSAJMAlACVAJYAlwCYAJkAmgCbAJwAnQCeAJ8AoAChAKIAowCkAKUApgCnAKgAqQCqAKsArACtAK4ArwCwALEAsgCzALQAtQC2ALcAuAC5ALoAuwC8AL0AvgC/AMAAwQDCAMMAxADFAMYAxwDIAMkAygDLAMwAzQDOAM8A0ADRANIA0wDUANUA1gDXANgA2QDaANsA3ADdAN4A3wDgAOEA4gDjAOQA5QDmAOcA6ADpAOoA6wDsAO0A7gDvAPAA8QDyAPMA9AD1APYA9wD4APkA+gD7APwA/QD+AP8AAAEBAQIBAwEEAQUBBgEHAQgBCQEKAQsBDAENAQ4BDwEQAREBEgETARQBFQEWARcBGAEZARoBGwEcAR0BHgEfASABIQEiASMBJAElASYBJwEoASkBKgErASwBLQEuAS8BMAExATIBMwE0ATUBNgE3ATgBOQE6ATsBPAE9AT4BPwFAAUEBQgFDAUQBRQFGAUcBSAFJAUoBSwFMAU0BTgFPAVABUQFSAVMBVAFVAVYBVwFYAVkBWgFbAVwBXQFeAV8BYAFhAWIBYwFkAWUBZgFnAWgBaQFqAWsBbAFtAQ==",
          "dtype": "i2"
         },
         "y": {
          "bdata": "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",
          "dtype": "f8"
         }
        }
       ],
       "layout": {
        "template": {
         "data": {
          "bar": [
           {
            "error_x": {
             "color": "#2a3f5f"
            },
            "error_y": {
             "color": "#2a3f5f"
            },
            "marker": {
             "line": {
              "color": "white",
              "width": 0.5
             },
             "pattern": {
              "fillmode": "overlay",
              "size": 10,
              "solidity": 0.2
             }
            },
            "type": "bar"
           }
          ],
          "barpolar": [
           {
            "marker": {
             "line": {
              "color": "white",
              "width": 0.5
             },
             "pattern": {
              "fillmode": "overlay",
              "size": 10,
              "solidity": 0.2
             }
            },
            "type": "barpolar"
           }
          ],
          "carpet": [
           {
            "aaxis": {
             "endlinecolor": "#2a3f5f",
             "gridcolor": "#C8D4E3",
             "linecolor": "#C8D4E3",
             "minorgridcolor": "#C8D4E3",
             "startlinecolor": "#2a3f5f"
            },
            "baxis": {
             "endlinecolor": "#2a3f5f",
             "gridcolor": "#C8D4E3",
             "linecolor": "#C8D4E3",
             "minorgridcolor": "#C8D4E3",
             "startlinecolor": "#2a3f5f"
            },
            "type": "carpet"
           }
          ],
          "choropleth": [
           {
            "colorbar": {
             "outlinewidth": 0,
             "ticks": ""
            },
            "type": "choropleth"
           }
          ],
          "contour": [
           {
            "colorbar": {
             "outlinewidth": 0,
             "ticks": ""
            },
            "colorscale": [
             [
              0,
              "#0d0887"
             ],
             [
              0.1111111111111111,
              "#46039f"
             ],
             [
              0.2222222222222222,
              "#7201a8"
             ],
             [
              0.3333333333333333,
              "#9c179e"
             ],
             [
              0.4444444444444444,
              "#bd3786"
             ],
             [
              0.5555555555555556,
              "#d8576b"
             ],
             [
              0.6666666666666666,
              "#ed7953"
             ],
             [
              0.7777777777777778,
              "#fb9f3a"
             ],
             [
              0.8888888888888888,
              "#fdca26"
             ],
             [
              1,
              "#f0f921"
             ]
            ],
            "type": "contour"
           }
          ],
          "contourcarpet": [
           {
            "colorbar": {
             "outlinewidth": 0,
             "ticks": ""
            },
            "type": "contourcarpet"
           }
          ],
          "heatmap": [
           {
            "colorbar": {
             "outlinewidth": 0,
             "ticks": ""
            },
            "colorscale": [
             [
              0,
              "#0d0887"
             ],
             [
              0.1111111111111111,
              "#46039f"
             ],
             [
              0.2222222222222222,
              "#7201a8"
             ],
             [
              0.3333333333333333,
              "#9c179e"
             ],
             [
              0.4444444444444444,
              "#bd3786"
             ],
             [
              0.5555555555555556,
              "#d8576b"
             ],
             [
              0.6666666666666666,
              "#ed7953"
             ],
             [
              0.7777777777777778,
              "#fb9f3a"
             ],
             [
              0.8888888888888888,
              "#fdca26"
             ],
             [
              1,
              "#f0f921"
             ]
            ],
            "type": "heatmap"
           }
          ],
          "histogram": [
           {
            "marker": {
             "pattern": {
              "fillmode": "overlay",
              "size": 10,
              "solidity": 0.2
             }
            },
            "type": "histogram"
           }
          ],
          "histogram2d": [
           {
            "colorbar": {
             "outlinewidth": 0,
             "ticks": ""
            },
            "colorscale": [
             [
              0,
              "#0d0887"
             ],
             [
              0.1111111111111111,
              "#46039f"
             ],
             [
              0.2222222222222222,
              "#7201a8"
             ],
             [
              0.3333333333333333,
              "#9c179e"
             ],
             [
              0.4444444444444444,
              "#bd3786"
             ],
             [
              0.5555555555555556,
              "#d8576b"
             ],
             [
              0.6666666666666666,
              "#ed7953"
             ],
             [
              0.7777777777777778,
              "#fb9f3a"
             ],
             [
              0.8888888888888888,
              "#fdca26"
             ],
             [
              1,
              "#f0f921"
             ]
            ],
            "type": "histogram2d"
           }
          ],
          "histogram2dcontour": [
           {
            "colorbar": {
             "outlinewidth": 0,
             "ticks": ""
            },
            "colorscale": [
             [
              0,
              "#0d0887"
             ],
             [
              0.1111111111111111,
              "#46039f"
             ],
             [
              0.2222222222222222,
              "#7201a8"
             ],
             [
              0.3333333333333333,
              "#9c179e"
             ],
             [
              0.4444444444444444,
              "#bd3786"
             ],
             [
              0.5555555555555556,
              "#d8576b"
             ],
             [
              0.6666666666666666,
              "#ed7953"
             ],
             [
              0.7777777777777778,
              "#fb9f3a"
             ],
             [
              0.8888888888888888,
              "#fdca26"
             ],
             [
              1,
              "#f0f921"
             ]
            ],
            "type": "histogram2dcontour"
           }
          ],
          "mesh3d": [
           {
            "colorbar": {
             "outlinewidth": 0,
             "ticks": ""
            },
            "type": "mesh3d"
           }
          ],
          "parcoords": [
           {
            "line": {
             "colorbar": {
              "outlinewidth": 0,
              "ticks": ""
             }
            },
            "type": "parcoords"
           }
          ],
          "pie": [
           {
            "automargin": true,
            "type": "pie"
           }
          ],
          "scatter": [
           {
            "fillpattern": {
             "fillmode": "overlay",
             "size": 10,
             "solidity": 0.2
            },
            "type": "scatter"
           }
          ],
          "scatter3d": [
           {
            "line": {
             "colorbar": {
              "outlinewidth": 0,
              "ticks": ""
             }
            },
            "marker": {
             "colorbar": {
              "outlinewidth": 0,
              "ticks": ""
             }
            },
            "type": "scatter3d"
           }
          ],
          "scattercarpet": [
           {
            "marker": {
             "colorbar": {
              "outlinewidth": 0,
              "ticks": ""
             }
            },
            "type": "scattercarpet"
           }
          ],
          "scattergeo": [
           {
            "marker": {
             "colorbar": {
              "outlinewidth": 0,
              "ticks": ""
             }
            },
            "type": "scattergeo"
           }
          ],
          "scattergl": [
           {
            "marker": {
             "colorbar": {
              "outlinewidth": 0,
              "ticks": ""
             }
            },
            "type": "scattergl"
           }
          ],
          "scattermap": [
           {
            "marker": {
             "colorbar": {
              "outlinewidth": 0,
              "ticks": ""
             }
            },
            "type": "scattermap"
           }
          ],
          "scattermapbox": [
           {
            "marker": {
             "colorbar": {
              "outlinewidth": 0,
              "ticks": ""
             }
            },
            "type": "scattermapbox"
           }
          ],
          "scatterpolar": [
           {
            "marker": {
             "colorbar": {
              "outlinewidth": 0,
              "ticks": ""
             }
            },
            "type": "scatterpolar"
           }
          ],
          "scatterpolargl": [
           {
            "marker": {
             "colorbar": {
              "outlinewidth": 0,
              "ticks": ""
             }
            },
            "type": "scatterpolargl"
           }
          ],
          "scatterternary": [
           {
            "marker": {
             "colorbar": {
              "outlinewidth": 0,
              "ticks": ""
             }
            },
            "type": "scatterternary"
           }
          ],
          "surface": [
           {
            "colorbar": {
             "outlinewidth": 0,
             "ticks": ""
            },
            "colorscale": [
             [
              0,
              "#0d0887"
             ],
             [
              0.1111111111111111,
              "#46039f"
             ],
             [
              0.2222222222222222,
              "#7201a8"
             ],
             [
              0.3333333333333333,
              "#9c179e"
             ],
             [
              0.4444444444444444,
              "#bd3786"
             ],
             [
              0.5555555555555556,
              "#d8576b"
             ],
             [
              0.6666666666666666,
              "#ed7953"
             ],
             [
              0.7777777777777778,
              "#fb9f3a"
             ],
             [
              0.8888888888888888,
              "#fdca26"
             ],
             [
              1,
              "#f0f921"
             ]
            ],
            "type": "surface"
           }
          ],
          "table": [
           {
            "cells": {
             "fill": {
              "color": "#EBF0F8"
             },
             "line": {
              "color": "white"
             }
            },
            "header": {
             "fill": {
              "color": "#C8D4E3"
             },
             "line": {
              "color": "white"
             }
            },
            "type": "table"
           }
          ]
         },
         "layout": {
          "annotationdefaults": {
           "arrowcolor": "#2a3f5f",
           "arrowhead": 0,
           "arrowwidth": 1
          },
          "autotypenumbers": "strict",
          "coloraxis": {
           "colorbar": {
            "outlinewidth": 0,
            "ticks": ""
           }
          },
          "colorscale": {
           "diverging": [
            [
             0,
             "#8e0152"
            ],
            [
             0.1,
             "#c51b7d"
            ],
            [
             0.2,
             "#de77ae"
            ],
            [
             0.3,
             "#f1b6da"
            ],
            [
             0.4,
             "#fde0ef"
            ],
            [
             0.5,
             "#f7f7f7"
            ],
            [
             0.6,
             "#e6f5d0"
            ],
            [
             0.7,
             "#b8e186"
            ],
            [
             0.8,
             "#7fbc41"
            ],
            [
             0.9,
             "#4d9221"
            ],
            [
             1,
             "#276419"
            ]
           ],
           "sequential": [
            [
             0,
             "#0d0887"
            ],
            [
             0.1111111111111111,
             "#46039f"
            ],
            [
             0.2222222222222222,
             "#7201a8"
            ],
            [
             0.3333333333333333,
             "#9c179e"
            ],
            [
             0.4444444444444444,
             "#bd3786"
            ],
            [
             0.5555555555555556,
             "#d8576b"
            ],
            [
             0.6666666666666666,
             "#ed7953"
            ],
            [
             0.7777777777777778,
             "#fb9f3a"
            ],
            [
             0.8888888888888888,
             "#fdca26"
            ],
            [
             1,
             "#f0f921"
            ]
           ],
           "sequentialminus": [
            [
             0,
             "#0d0887"
            ],
            [
             0.1111111111111111,
             "#46039f"
            ],
            [
             0.2222222222222222,
             "#7201a8"
            ],
            [
             0.3333333333333333,
             "#9c179e"
            ],
            [
             0.4444444444444444,
             "#bd3786"
            ],
            [
             0.5555555555555556,
             "#d8576b"
            ],
            [
             0.6666666666666666,
             "#ed7953"
            ],
            [
             0.7777777777777778,
             "#fb9f3a"
            ],
            [
             0.8888888888888888,
             "#fdca26"
            ],
            [
             1,
             "#f0f921"
            ]
           ]
          },
          "colorway": [
           "#636efa",
           "#EF553B",
           "#00cc96",
           "#ab63fa",
           "#FFA15A",
           "#19d3f3",
           "#FF6692",
           "#B6E880",
           "#FF97FF",
           "#FECB52"
          ],
          "font": {
           "color": "#2a3f5f"
          },
          "geo": {
           "bgcolor": "white",
           "lakecolor": "white",
           "landcolor": "white",
           "showlakes": true,
           "showland": true,
           "subunitcolor": "#C8D4E3"
          },
          "hoverlabel": {
           "align": "left"
          },
          "hovermode": "closest",
          "mapbox": {
           "style": "light"
          },
          "paper_bgcolor": "white",
          "plot_bgcolor": "white",
          "polar": {
           "angularaxis": {
            "gridcolor": "#EBF0F8",
            "linecolor": "#EBF0F8",
            "ticks": ""
           },
           "bgcolor": "white",
           "radialaxis": {
            "gridcolor": "#EBF0F8",
            "linecolor": "#EBF0F8",
            "ticks": ""
           }
          },
          "scene": {
           "xaxis": {
            "backgroundcolor": "white",
            "gridcolor": "#DFE8F3",
            "gridwidth": 2,
            "linecolor": "#EBF0F8",
            "showbackground": true,
            "ticks": "",
            "zerolinecolor": "#EBF0F8"
           },
           "yaxis": {
            "backgroundcolor": "white",
            "gridcolor": "#DFE8F3",
            "gridwidth": 2,
            "linecolor": "#EBF0F8",
            "showbackground": true,
            "ticks": "",
            "zerolinecolor": "#EBF0F8"
           },
           "zaxis": {
            "backgroundcolor": "white",
            "gridcolor": "#DFE8F3",
            "gridwidth": 2,
            "linecolor": "#EBF0F8",
            "showbackground": true,
            "ticks": "",
            "zerolinecolor": "#EBF0F8"
           }
          },
          "shapedefaults": {
           "line": {
            "color": "#2a3f5f"
           }
          },
          "ternary": {
           "aaxis": {
            "gridcolor": "#DFE8F3",
            "linecolor": "#A2B1C6",
            "ticks": ""
           },
           "baxis": {
            "gridcolor": "#DFE8F3",
            "linecolor": "#A2B1C6",
            "ticks": ""
           },
           "bgcolor": "white",
           "caxis": {
            "gridcolor": "#DFE8F3",
            "linecolor": "#A2B1C6",
            "ticks": ""
           }
          },
          "title": {
           "x": 0.05
          },
          "xaxis": {
           "automargin": true,
           "gridcolor": "#EBF0F8",
           "linecolor": "#EBF0F8",
           "ticks": "",
           "title": {
            "standoff": 15
           },
           "zerolinecolor": "#EBF0F8",
           "zerolinewidth": 2
          },
          "yaxis": {
           "automargin": true,
           "gridcolor": "#EBF0F8",
           "linecolor": "#EBF0F8",
           "ticks": "",
           "title": {
            "standoff": 15
           },
           "zerolinecolor": "#EBF0F8",
           "zerolinewidth": 2
          }
         }
        },
        "title": {
         "text": "Daily interpolated CAFE Primary Productivity Time Series (1998-2020) at PAPA"
        },
        "xaxis": {
         "title": {
          "text": "Day of year"
         }
        },
        "yaxis": {
         "title": {
          "text": "Primary productivity [mg C m-2 day-1]"
         }
        }
       }
      }
     },
     "metadata": {},
     "output_type": "display_data"
    }
   ],
   "source": [
    "# Plot with interpolated daily values\n",
    "\n",
    "# Group by year\n",
    "years = pd.DatetimeIndex(ds_cafe_papa.time.values).year.unique()\n",
    "\n",
    "fig = go.Figure()\n",
    "\n",
    "# Plot one line per year \n",
    "for year in years:\n",
    "    yearly_data = ds_cafe_papa.sel(time=str(year))[\"CAFE\"]\n",
    "    fig.add_trace(go.Scatter(\n",
    "        x=yearly_data.time.dt.dayofyear,\n",
    "        y=yearly_data.values,\n",
    "        mode='lines',\n",
    "        line=dict(width=1),\n",
    "        name=str(year),\n",
    "        showlegend=True \n",
    "    ))\n",
    "\n",
    "# Plot climatology in black\n",
    "fig.add_trace(go.Scatter(\n",
    "    x=clim_8d_cafe['day_of_year'],\n",
    "    y=clim_8d_cafe['CAFE'].values,\n",
    "    mode='lines',\n",
    "    name='Median',\n",
    "    line=dict(color='grey', width=3)\n",
    "))\n",
    "\n",
    "# Add the interpolated Fourier daily curve\n",
    "fig.add_trace(go.Scatter(\n",
    "    x=np.arange(1, 366),  # day-of-year\n",
    "    y=cafe_daily,\n",
    "    mode='lines',\n",
    "    name='Fourier Interpolated Median',\n",
    "    line=dict(color='black', width=3, dash='dash')\n",
    "))\n",
    "fig.update_layout(\n",
    "    title='Daily interpolated CAFE Primary Productivity Time Series (1998-2020) at PAPA',\n",
    "    xaxis_title='Day of year',\n",
    "    yaxis_title='Primary productivity [mg C m-2 day-1]', \n",
    "    template='plotly_white'\n",
    ")\n",
    "\n",
    "fig.show()\n"
   ]
  },
  {
   "cell_type": "code",
   "execution_count": null,
   "id": "15b372ba",
   "metadata": {},
   "outputs": [],
   "source": [
    "# Export interpolated daily values of CAFE npp\n",
    "# Create a coordinate for the day of year (1 to 365)\n",
    "days = np.arange(1, 366)  # day 1 to 365\n",
    "\n",
    "# Create xarray DataArray\n",
    "cafe_daily_da = xr.DataArray(\n",
    "    data=cafe_daily,\n",
    "    coords={'days': days},\n",
    "    dims=['days'],\n",
    "    name='npp'\n",
    ")\n",
    "\n",
    "cafe_daily_da.attrs['long_name'] = 'Interpolated daily npp'\n",
    "cafe_daily_da.attrs['units'] = 'mg C m-2 day-1'\n",
    "# Export to NetCDF\n",
    "#cafe_daily_da.to_netcdf('/data/rd_exchange/sroyer/SEAPOPYM/NPP/daily_CAFE_papa_1998_2020.nc')\n"
   ]
  },
  {
   "cell_type": "markdown",
   "id": "e6657a0d",
   "metadata": {},
   "source": [
    "### Comparison with paper"
   ]
  },
  {
   "cell_type": "code",
   "execution_count": 40,
   "id": "049cb3b6",
   "metadata": {},
   "outputs": [
    {
     "name": "stdout",
     "output_type": "stream",
     "text": [
      "   day_of_year          nnp     categorie\n",
      "0          173  1545.015106  Grey_Squares\n",
      "1          278  1422.356495  Grey_Squares\n",
      "2          232  1160.120846  Grey_Squares\n",
      "3          176  1248.942598  Grey_Squares\n",
      "4          170  1041.691843  Grey_Squares\n"
     ]
    }
   ],
   "source": [
    "dfs = []\n",
    "\n",
    "for filename, categorie in [\n",
    "    (\"grey_squares.csv\", \"Grey_Squares\"),\n",
    "    (\"white_triangles.csv\", \"White_Triangles\"),\n",
    "    (\"black_circles.csv\", \"Black_Circles\"),\n",
    "]:\n",
    "    df = pd.read_csv('/home/sroyer/Desktop/codes/NPP/'+filename)\n",
    "    df[\"categorie\"] = categorie\n",
    "    dfs.append(df)\n",
    "\n",
    "df_paper = pd.concat(dfs, ignore_index=True)\n",
    "print(df_paper.head())"
   ]
  },
  {
   "cell_type": "code",
   "execution_count": 81,
   "id": "be6c27b5",
   "metadata": {},
   "outputs": [
    {
     "data": {
      "application/vnd.plotly.v1+json": {
       "config": {
        "plotlyServerURL": "https://plot.ly"
       },
       "data": [
        {
         "line": {
          "color": "blue",
          "dash": "dash",
          "width": 3
         },
         "mode": "lines",
         "name": "CbPM Westberry climatology",
         "type": "scatter",
         "x": {
          "bdata": "AQACAAMABAAFAAYABwAIAAkACgALAAwADQAOAA8AEAARABIAEwAUABUAFgAXABgAGQAaABsAHAAdAB4AHwAgACEAIgAjACQAJQAmACcAKAApACoAKwAsAC0ALgAvADAAMQAyADMANAA1ADYANwA4ADkAOgA7ADwAPQA+AD8AQABBAEIAQwBEAEUARgBHAEgASQBKAEsATABNAE4ATwBQAFEAUgBTAFQAVQBWAFcAWABZAFoAWwBcAF0AXgBfAGAAYQBiAGMAZABlAGYAZwBoAGkAagBrAGwAbQBuAG8AcABxAHIAcwB0AHUAdgB3AHgAeQB6AHsAfAB9AH4AfwCAAIEAggCDAIQAhQCGAIcAiACJAIoAiwCMAI0AjgCPAJAAkQCSAJMAlACVAJYAlwCYAJkAmgCbAJwAnQCeAJ8AoAChAKIAowCkAKUApgCnAKgAqQCqAKsArACtAK4ArwCwALEAsgCzALQAtQC2ALcAuAC5ALoAuwC8AL0AvgC/AMAAwQDCAMMAxADFAMYAxwDIAMkAygDLAMwAzQDOAM8A0ADRANIA0wDUANUA1gDXANgA2QDaANsA3ADdAN4A3wDgAOEA4gDjAOQA5QDmAOcA6ADpAOoA6wDsAO0A7gDvAPAA8QDyAPMA9AD1APYA9wD4APkA+gD7APwA/QD+AP8AAAEBAQIBAwEEAQUBBgEHAQgBCQEKAQsBDAENAQ4BDwEQAREBEgETARQBFQEWARcBGAEZARoBGwEcAR0BHgEfASABIQEiASMBJAElASYBJwEoASkBKgErASwBLQEuAS8BMAExATIBMwE0ATUBNgE3ATgBOQE6ATsBPAE9AT4BPwFAAUEBQgFDAUQBRQFGAUcBSAFJAUoBSwFMAU0BTgFPAVABUQFSAVMBVAFVAVYBVwFYAVkBWgFbAVwBXQFeAV8BYAFhAWIBYwFkAWUBZgFnAWgBaQFqAWsBbAFtAQ==",
          "dtype": "i2"
         },
         "y": {
          "bdata": "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",
          "dtype": "f8"
         }
        },
        {
         "line": {
          "color": "green",
          "dash": "dash",
          "width": 3
         },
         "mode": "lines",
         "name": "CbPM Behrenfeld climatology",
         "type": "scatter",
         "x": {
          "bdata": "AQACAAMABAAFAAYABwAIAAkACgALAAwADQAOAA8AEAARABIAEwAUABUAFgAXABgAGQAaABsAHAAdAB4AHwAgACEAIgAjACQAJQAmACcAKAApACoAKwAsAC0ALgAvADAAMQAyADMANAA1ADYANwA4ADkAOgA7ADwAPQA+AD8AQABBAEIAQwBEAEUARgBHAEgASQBKAEsATABNAE4ATwBQAFEAUgBTAFQAVQBWAFcAWABZAFoAWwBcAF0AXgBfAGAAYQBiAGMAZABlAGYAZwBoAGkAagBrAGwAbQBuAG8AcABxAHIAcwB0AHUAdgB3AHgAeQB6AHsAfAB9AH4AfwCAAIEAggCDAIQAhQCGAIcAiACJAIoAiwCMAI0AjgCPAJAAkQCSAJMAlACVAJYAlwCYAJkAmgCbAJwAnQCeAJ8AoAChAKIAowCkAKUApgCnAKgAqQCqAKsArACtAK4ArwCwALEAsgCzALQAtQC2ALcAuAC5ALoAuwC8AL0AvgC/AMAAwQDCAMMAxADFAMYAxwDIAMkAygDLAMwAzQDOAM8A0ADRANIA0wDUANUA1gDXANgA2QDaANsA3ADdAN4A3wDgAOEA4gDjAOQA5QDmAOcA6ADpAOoA6wDsAO0A7gDvAPAA8QDyAPMA9AD1APYA9wD4APkA+gD7APwA/QD+AP8AAAEBAQIBAwEEAQUBBgEHAQgBCQEKAQsBDAENAQ4BDwEQAREBEgETARQBFQEWARcBGAEZARoBGwEcAR0BHgEfASABIQEiASMBJAElASYBJwEoASkBKgErASwBLQEuAS8BMAExATIBMwE0ATUBNgE3ATgBOQE6ATsBPAE9AT4BPwFAAUEBQgFDAUQBRQFGAUcBSAFJAUoBSwFMAU0BTgFPAVABUQFSAVMBVAFVAVYBVwFYAVkBWgFbAVwBXQFeAV8BYAFhAWIBYwFkAWUBZgFnAWgBaQFqAWsBbAFtAQ==",
          "dtype": "i2"
         },
         "y": {
          "bdata": "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",
          "dtype": "f8"
         }
        },
        {
         "line": {
          "color": "red",
          "dash": "dash",
          "width": 3
         },
         "mode": "lines",
         "name": "CAFE climatology",
         "type": "scatter",
         "x": {
          "bdata": "AQACAAMABAAFAAYABwAIAAkACgALAAwADQAOAA8AEAARABIAEwAUABUAFgAXABgAGQAaABsAHAAdAB4AHwAgACEAIgAjACQAJQAmACcAKAApACoAKwAsAC0ALgAvADAAMQAyADMANAA1ADYANwA4ADkAOgA7ADwAPQA+AD8AQABBAEIAQwBEAEUARgBHAEgASQBKAEsATABNAE4ATwBQAFEAUgBTAFQAVQBWAFcAWABZAFoAWwBcAF0AXgBfAGAAYQBiAGMAZABlAGYAZwBoAGkAagBrAGwAbQBuAG8AcABxAHIAcwB0AHUAdgB3AHgAeQB6AHsAfAB9AH4AfwCAAIEAggCDAIQAhQCGAIcAiACJAIoAiwCMAI0AjgCPAJAAkQCSAJMAlACVAJYAlwCYAJkAmgCbAJwAnQCeAJ8AoAChAKIAowCkAKUApgCnAKgAqQCqAKsArACtAK4ArwCwALEAsgCzALQAtQC2ALcAuAC5ALoAuwC8AL0AvgC/AMAAwQDCAMMAxADFAMYAxwDIAMkAygDLAMwAzQDOAM8A0ADRANIA0wDUANUA1gDXANgA2QDaANsA3ADdAN4A3wDgAOEA4gDjAOQA5QDmAOcA6ADpAOoA6wDsAO0A7gDvAPAA8QDyAPMA9AD1APYA9wD4APkA+gD7APwA/QD+AP8AAAEBAQIBAwEEAQUBBgEHAQgBCQEKAQsBDAENAQ4BDwEQAREBEgETARQBFQEWARcBGAEZARoBGwEcAR0BHgEfASABIQEiASMBJAElASYBJwEoASkBKgErASwBLQEuAS8BMAExATIBMwE0ATUBNgE3ATgBOQE6ATsBPAE9AT4BPwFAAUEBQgFDAUQBRQFGAUcBSAFJAUoBSwFMAU0BTgFPAVABUQFSAVMBVAFVAVYBVwFYAVkBWgFbAVwBXQFeAV8BYAFhAWIBYwFkAWUBZgFnAWgBaQFqAWsBbAFtAQ==",
          "dtype": "i2"
         },
         "y": {
          "bdata": "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",
          "dtype": "f8"
         }
        },
        {
         "marker": {
          "color": "grey",
          "size": 8
         },
         "mode": "markers",
         "name": "Welschmeyer et al. (1993)",
         "type": "scatter",
         "x": {
          "bdata": "rQAWAegAsACqAAoBEQEPAeUA7wD0AAwBFQEWARABHgHuAOEA4ACfAKYApwCkAJ4AkQCJAKUAnwCyAIYAjQCQAJcAgwA=",
          "dtype": "i2"
         },
         "y": {
          "bdata": "PhDhdw8kmEC05SUNbTmWQO+BCL97IJJAFY91OMWDk0ASG3dyxEaQQAJ0/sUAXY9A47EOp3gsjkCswyke6zCMQES+3qCQL4VAfINCvt4ghEBy7UcJXLuDQOJ3D0T4nYFA4ncPRPidgUAIIvzugYh/QBOPdTjF43xAJPzugQg/ekBD518M0Hl+QBw9c2FGz3ZAaC7M6JmLdkD09QaFfH2IQMadHLFx54ZAWurTCpb6hUCm2yyS6baFQHyDQr7eIIRAxp0csXHnhkAAY4DOv9iFQHTExp0csYBAflrBUp8WgUCqsqsmqqyCQDr/YoDOv4FAiPC7ByJ8gUCoBK79KAF/QGSAzr8YoHxAuB8lcO1HdkA=",
          "dtype": "f8"
         }
        },
        {
         "marker": {
          "color": "lightgrey",
          "size": 8
         },
         "mode": "markers",
         "name": "Boyd and Harrison (1999)",
         "type": "scatter",
         "x": {
          "bdata": "9AD+AP8AkwCVAAABAgH3AI0AkACQAJEALgA1ADEAKQArAA==",
          "dtype": "i2"
         },
         "y": {
          "bdata": "136UwLVflEB8g0K+3gCRQGZXTVTZNZBAQ77eoJAPkkB8g0K+3gCRQFQ81uEUD4xAd9VElV01ikA4KOTrDcqEQBaPdTjFo4ZAnhyxcSdHgkB0xMadHLGAQJSGtrykIXhAZIDOvxigfEBkgM6/GKB8QLBPK1jq02VAyCke63CKYEDQByL87oFWQA==",
          "dtype": "f8"
         }
        },
        {
         "marker": {
          "color": "black",
          "size": 8
         },
         "mode": "markers",
         "name": "Wong et al. (1995)",
         "type": "scatter",
         "x": {
          "bdata": "MwA0AIMAfgCCAHMAgACHAIQAgwCBAGAAdACLAHIAjABwAOsAwADkAN4AwgC/AO8A7ADtAOoAGAEmAUYB",
          "dtype": "i2"
         },
         "y": {
          "bdata": "wc0imW6zbEDw5IiNOzl1QPeShra8pGtAbNzJERt3cEA4F2b0zIVxQKxgqU8r2HJA3LiTIzZudEDw5IiNOzl1QDBpaMtLmndAJPzugQg/ekBQVNlVE9V7QLgfJXDtR3ZAE491OMXjfEBQVNlVE9V7QMDeoJCvd4NAtEim2ywSg0AN0PkXAxSQQOaIjTs5IotAeJtFMt3mc0BMQ1te0lByQEDW4RSP9XRAb+1HCVz7eUCssqsmqux4QES+3qCQL4VAwrUfJXBtgECgRTLdZpF7QFBU2VUT1XtAlIa2vKThgUAAUgLXfpRyQCfrcIrHOm1A",
          "dtype": "f8"
         }
        }
       ],
       "layout": {
        "template": {
         "data": {
          "bar": [
           {
            "error_x": {
             "color": "#2a3f5f"
            },
            "error_y": {
             "color": "#2a3f5f"
            },
            "marker": {
             "line": {
              "color": "white",
              "width": 0.5
             },
             "pattern": {
              "fillmode": "overlay",
              "size": 10,
              "solidity": 0.2
             }
            },
            "type": "bar"
           }
          ],
          "barpolar": [
           {
            "marker": {
             "line": {
              "color": "white",
              "width": 0.5
             },
             "pattern": {
              "fillmode": "overlay",
              "size": 10,
              "solidity": 0.2
             }
            },
            "type": "barpolar"
           }
          ],
          "carpet": [
           {
            "aaxis": {
             "endlinecolor": "#2a3f5f",
             "gridcolor": "#C8D4E3",
             "linecolor": "#C8D4E3",
             "minorgridcolor": "#C8D4E3",
             "startlinecolor": "#2a3f5f"
            },
            "baxis": {
             "endlinecolor": "#2a3f5f",
             "gridcolor": "#C8D4E3",
             "linecolor": "#C8D4E3",
             "minorgridcolor": "#C8D4E3",
             "startlinecolor": "#2a3f5f"
            },
            "type": "carpet"
           }
          ],
          "choropleth": [
           {
            "colorbar": {
             "outlinewidth": 0,
             "ticks": ""
            },
            "type": "choropleth"
           }
          ],
          "contour": [
           {
            "colorbar": {
             "outlinewidth": 0,
             "ticks": ""
            },
            "colorscale": [
             [
              0,
              "#0d0887"
             ],
             [
              0.1111111111111111,
              "#46039f"
             ],
             [
              0.2222222222222222,
              "#7201a8"
             ],
             [
              0.3333333333333333,
              "#9c179e"
             ],
             [
              0.4444444444444444,
              "#bd3786"
             ],
             [
              0.5555555555555556,
              "#d8576b"
             ],
             [
              0.6666666666666666,
              "#ed7953"
             ],
             [
              0.7777777777777778,
              "#fb9f3a"
             ],
             [
              0.8888888888888888,
              "#fdca26"
             ],
             [
              1,
              "#f0f921"
             ]
            ],
            "type": "contour"
           }
          ],
          "contourcarpet": [
           {
            "colorbar": {
             "outlinewidth": 0,
             "ticks": ""
            },
            "type": "contourcarpet"
           }
          ],
          "heatmap": [
           {
            "colorbar": {
             "outlinewidth": 0,
             "ticks": ""
            },
            "colorscale": [
             [
              0,
              "#0d0887"
             ],
             [
              0.1111111111111111,
              "#46039f"
             ],
             [
              0.2222222222222222,
              "#7201a8"
             ],
             [
              0.3333333333333333,
              "#9c179e"
             ],
             [
              0.4444444444444444,
              "#bd3786"
             ],
             [
              0.5555555555555556,
              "#d8576b"
             ],
             [
              0.6666666666666666,
              "#ed7953"
             ],
             [
              0.7777777777777778,
              "#fb9f3a"
             ],
             [
              0.8888888888888888,
              "#fdca26"
             ],
             [
              1,
              "#f0f921"
             ]
            ],
            "type": "heatmap"
           }
          ],
          "histogram": [
           {
            "marker": {
             "pattern": {
              "fillmode": "overlay",
              "size": 10,
              "solidity": 0.2
             }
            },
            "type": "histogram"
           }
          ],
          "histogram2d": [
           {
            "colorbar": {
             "outlinewidth": 0,
             "ticks": ""
            },
            "colorscale": [
             [
              0,
              "#0d0887"
             ],
             [
              0.1111111111111111,
              "#46039f"
             ],
             [
              0.2222222222222222,
              "#7201a8"
             ],
             [
              0.3333333333333333,
              "#9c179e"
             ],
             [
              0.4444444444444444,
              "#bd3786"
             ],
             [
              0.5555555555555556,
              "#d8576b"
             ],
             [
              0.6666666666666666,
              "#ed7953"
             ],
             [
              0.7777777777777778,
              "#fb9f3a"
             ],
             [
              0.8888888888888888,
              "#fdca26"
             ],
             [
              1,
              "#f0f921"
             ]
            ],
            "type": "histogram2d"
           }
          ],
          "histogram2dcontour": [
           {
            "colorbar": {
             "outlinewidth": 0,
             "ticks": ""
            },
            "colorscale": [
             [
              0,
              "#0d0887"
             ],
             [
              0.1111111111111111,
              "#46039f"
             ],
             [
              0.2222222222222222,
              "#7201a8"
             ],
             [
              0.3333333333333333,
              "#9c179e"
             ],
             [
              0.4444444444444444,
              "#bd3786"
             ],
             [
              0.5555555555555556,
              "#d8576b"
             ],
             [
              0.6666666666666666,
              "#ed7953"
             ],
             [
              0.7777777777777778,
              "#fb9f3a"
             ],
             [
              0.8888888888888888,
              "#fdca26"
             ],
             [
              1,
              "#f0f921"
             ]
            ],
            "type": "histogram2dcontour"
           }
          ],
          "mesh3d": [
           {
            "colorbar": {
             "outlinewidth": 0,
             "ticks": ""
            },
            "type": "mesh3d"
           }
          ],
          "parcoords": [
           {
            "line": {
             "colorbar": {
              "outlinewidth": 0,
              "ticks": ""
             }
            },
            "type": "parcoords"
           }
          ],
          "pie": [
           {
            "automargin": true,
            "type": "pie"
           }
          ],
          "scatter": [
           {
            "fillpattern": {
             "fillmode": "overlay",
             "size": 10,
             "solidity": 0.2
            },
            "type": "scatter"
           }
          ],
          "scatter3d": [
           {
            "line": {
             "colorbar": {
              "outlinewidth": 0,
              "ticks": ""
             }
            },
            "marker": {
             "colorbar": {
              "outlinewidth": 0,
              "ticks": ""
             }
            },
            "type": "scatter3d"
           }
          ],
          "scattercarpet": [
           {
            "marker": {
             "colorbar": {
              "outlinewidth": 0,
              "ticks": ""
             }
            },
            "type": "scattercarpet"
           }
          ],
          "scattergeo": [
           {
            "marker": {
             "colorbar": {
              "outlinewidth": 0,
              "ticks": ""
             }
            },
            "type": "scattergeo"
           }
          ],
          "scattergl": [
           {
            "marker": {
             "colorbar": {
              "outlinewidth": 0,
              "ticks": ""
             }
            },
            "type": "scattergl"
           }
          ],
          "scattermap": [
           {
            "marker": {
             "colorbar": {
              "outlinewidth": 0,
              "ticks": ""
             }
            },
            "type": "scattermap"
           }
          ],
          "scattermapbox": [
           {
            "marker": {
             "colorbar": {
              "outlinewidth": 0,
              "ticks": ""
             }
            },
            "type": "scattermapbox"
           }
          ],
          "scatterpolar": [
           {
            "marker": {
             "colorbar": {
              "outlinewidth": 0,
              "ticks": ""
             }
            },
            "type": "scatterpolar"
           }
          ],
          "scatterpolargl": [
           {
            "marker": {
             "colorbar": {
              "outlinewidth": 0,
              "ticks": ""
             }
            },
            "type": "scatterpolargl"
           }
          ],
          "scatterternary": [
           {
            "marker": {
             "colorbar": {
              "outlinewidth": 0,
              "ticks": ""
             }
            },
            "type": "scatterternary"
           }
          ],
          "surface": [
           {
            "colorbar": {
             "outlinewidth": 0,
             "ticks": ""
            },
            "colorscale": [
             [
              0,
              "#0d0887"
             ],
             [
              0.1111111111111111,
              "#46039f"
             ],
             [
              0.2222222222222222,
              "#7201a8"
             ],
             [
              0.3333333333333333,
              "#9c179e"
             ],
             [
              0.4444444444444444,
              "#bd3786"
             ],
             [
              0.5555555555555556,
              "#d8576b"
             ],
             [
              0.6666666666666666,
              "#ed7953"
             ],
             [
              0.7777777777777778,
              "#fb9f3a"
             ],
             [
              0.8888888888888888,
              "#fdca26"
             ],
             [
              1,
              "#f0f921"
             ]
            ],
            "type": "surface"
           }
          ],
          "table": [
           {
            "cells": {
             "fill": {
              "color": "#EBF0F8"
             },
             "line": {
              "color": "white"
             }
            },
            "header": {
             "fill": {
              "color": "#C8D4E3"
             },
             "line": {
              "color": "white"
             }
            },
            "type": "table"
           }
          ]
         },
         "layout": {
          "annotationdefaults": {
           "arrowcolor": "#2a3f5f",
           "arrowhead": 0,
           "arrowwidth": 1
          },
          "autotypenumbers": "strict",
          "coloraxis": {
           "colorbar": {
            "outlinewidth": 0,
            "ticks": ""
           }
          },
          "colorscale": {
           "diverging": [
            [
             0,
             "#8e0152"
            ],
            [
             0.1,
             "#c51b7d"
            ],
            [
             0.2,
             "#de77ae"
            ],
            [
             0.3,
             "#f1b6da"
            ],
            [
             0.4,
             "#fde0ef"
            ],
            [
             0.5,
             "#f7f7f7"
            ],
            [
             0.6,
             "#e6f5d0"
            ],
            [
             0.7,
             "#b8e186"
            ],
            [
             0.8,
             "#7fbc41"
            ],
            [
             0.9,
             "#4d9221"
            ],
            [
             1,
             "#276419"
            ]
           ],
           "sequential": [
            [
             0,
             "#0d0887"
            ],
            [
             0.1111111111111111,
             "#46039f"
            ],
            [
             0.2222222222222222,
             "#7201a8"
            ],
            [
             0.3333333333333333,
             "#9c179e"
            ],
            [
             0.4444444444444444,
             "#bd3786"
            ],
            [
             0.5555555555555556,
             "#d8576b"
            ],
            [
             0.6666666666666666,
             "#ed7953"
            ],
            [
             0.7777777777777778,
             "#fb9f3a"
            ],
            [
             0.8888888888888888,
             "#fdca26"
            ],
            [
             1,
             "#f0f921"
            ]
           ],
           "sequentialminus": [
            [
             0,
             "#0d0887"
            ],
            [
             0.1111111111111111,
             "#46039f"
            ],
            [
             0.2222222222222222,
             "#7201a8"
            ],
            [
             0.3333333333333333,
             "#9c179e"
            ],
            [
             0.4444444444444444,
             "#bd3786"
            ],
            [
             0.5555555555555556,
             "#d8576b"
            ],
            [
             0.6666666666666666,
             "#ed7953"
            ],
            [
             0.7777777777777778,
             "#fb9f3a"
            ],
            [
             0.8888888888888888,
             "#fdca26"
            ],
            [
             1,
             "#f0f921"
            ]
           ]
          },
          "colorway": [
           "#636efa",
           "#EF553B",
           "#00cc96",
           "#ab63fa",
           "#FFA15A",
           "#19d3f3",
           "#FF6692",
           "#B6E880",
           "#FF97FF",
           "#FECB52"
          ],
          "font": {
           "color": "#2a3f5f"
          },
          "geo": {
           "bgcolor": "white",
           "lakecolor": "white",
           "landcolor": "white",
           "showlakes": true,
           "showland": true,
           "subunitcolor": "#C8D4E3"
          },
          "hoverlabel": {
           "align": "left"
          },
          "hovermode": "closest",
          "mapbox": {
           "style": "light"
          },
          "paper_bgcolor": "white",
          "plot_bgcolor": "white",
          "polar": {
           "angularaxis": {
            "gridcolor": "#EBF0F8",
            "linecolor": "#EBF0F8",
            "ticks": ""
           },
           "bgcolor": "white",
           "radialaxis": {
            "gridcolor": "#EBF0F8",
            "linecolor": "#EBF0F8",
            "ticks": ""
           }
          },
          "scene": {
           "xaxis": {
            "backgroundcolor": "white",
            "gridcolor": "#DFE8F3",
            "gridwidth": 2,
            "linecolor": "#EBF0F8",
            "showbackground": true,
            "ticks": "",
            "zerolinecolor": "#EBF0F8"
           },
           "yaxis": {
            "backgroundcolor": "white",
            "gridcolor": "#DFE8F3",
            "gridwidth": 2,
            "linecolor": "#EBF0F8",
            "showbackground": true,
            "ticks": "",
            "zerolinecolor": "#EBF0F8"
           },
           "zaxis": {
            "backgroundcolor": "white",
            "gridcolor": "#DFE8F3",
            "gridwidth": 2,
            "linecolor": "#EBF0F8",
            "showbackground": true,
            "ticks": "",
            "zerolinecolor": "#EBF0F8"
           }
          },
          "shapedefaults": {
           "line": {
            "color": "#2a3f5f"
           }
          },
          "ternary": {
           "aaxis": {
            "gridcolor": "#DFE8F3",
            "linecolor": "#A2B1C6",
            "ticks": ""
           },
           "baxis": {
            "gridcolor": "#DFE8F3",
            "linecolor": "#A2B1C6",
            "ticks": ""
           },
           "bgcolor": "white",
           "caxis": {
            "gridcolor": "#DFE8F3",
            "linecolor": "#A2B1C6",
            "ticks": ""
           }
          },
          "title": {
           "x": 0.05
          },
          "xaxis": {
           "automargin": true,
           "gridcolor": "#EBF0F8",
           "linecolor": "#EBF0F8",
           "ticks": "",
           "title": {
            "standoff": 15
           },
           "zerolinecolor": "#EBF0F8",
           "zerolinewidth": 2
          },
          "yaxis": {
           "automargin": true,
           "gridcolor": "#EBF0F8",
           "linecolor": "#EBF0F8",
           "ticks": "",
           "title": {
            "standoff": 15
           },
           "zerolinecolor": "#EBF0F8",
           "zerolinewidth": 2
          }
         }
        },
        "title": {
         "text": "Comparison Primary Productivity Time Series at PAPA"
        },
        "xaxis": {
         "title": {
          "text": "Day of year"
         }
        },
        "yaxis": {
         "title": {
          "text": "Primary productivity [mg C m-2 day-1]"
         }
        }
       }
      }
     },
     "metadata": {},
     "output_type": "display_data"
    }
   ],
   "source": [
    "fig = go.Figure()\n",
    "# CbPM Westberry\n",
    "fig.add_trace(go.Scatter(\n",
    "    x=np.arange(1, 366),  # day-of-year\n",
    "    y=west_daily,\n",
    "    mode='lines',\n",
    "    name='CbPM Westberry climatology',\n",
    "    line=dict(color='blue', width=3, dash='dash')\n",
    "))\n",
    "# CbPM Behrenfeld\n",
    "fig.add_trace(go.Scatter(\n",
    "    x=np.arange(1, 366),  # day-of-year\n",
    "    y=behr_daily,\n",
    "    mode='lines',\n",
    "    name='CbPM Behrenfeld climatology',\n",
    "    line=dict(color='green', width=3, dash='dash')\n",
    "))\n",
    "# CAFE\n",
    "fig.add_trace(go.Scatter(\n",
    "    x=np.arange(1, 366),  # day-of-year\n",
    "    y=cafe_daily,\n",
    "    mode='lines',\n",
    "    name='CAFE climatology',\n",
    "    line=dict(color='red', width=3, dash='dash')\n",
    "))\n",
    "#Plot points paper\n",
    "\n",
    "for category in df_paper[\"categorie\"].unique():\n",
    "    df_cat = df_paper[df_paper[\"categorie\"] == category]\n",
    "    if category == 'Black_Circles':\n",
    "        label='Wong et al. (1995)'\n",
    "        c='black'\n",
    "    elif category == 'White_Triangles':\n",
    "        label='Boyd and Harrison (1999)'\n",
    "        c='lightgrey'\n",
    "    else:\n",
    "        label='Welschmeyer et al. (1993)'\n",
    "        c='grey'\n",
    "    fig.add_trace(\n",
    "        go.Scatter(\n",
    "            x=df_cat[\"day_of_year\"],\n",
    "            y=df_cat[\"nnp\"],\n",
    "            mode=\"markers\",\n",
    "            name=label,\n",
    "            marker=dict(size=8,color=c),\n",
    "        )\n",
    "    )\n",
    "\n",
    "# Mise en forme\n",
    "fig.update_layout(\n",
    "    title='Comparison Primary Productivity Time Series at PAPA',\n",
    "    xaxis_title='Day of year',\n",
    "    yaxis_title='Primary productivity [mg C m-2 day-1]', \n",
    "    template='plotly_white'\n",
    ")\n",
    "\n",
    "# Affichage\n",
    "fig.show()\n"
   ]
  },
  {
   "cell_type": "code",
   "execution_count": 77,
   "id": "99a89bd2",
   "metadata": {},
   "outputs": [],
   "source": [
    "# Monthly means\n",
    "\n",
    "df_paper[\"month\"] = pd.to_datetime(df_paper[\"day_of_year\"], format=\"%j\").dt.month\n",
    "\n",
    "df_monthly = df_paper.groupby([\"categorie\", \"month\"])[\"nnp\"].mean().reset_index()\n",
    "\n"
   ]
  },
  {
   "cell_type": "code",
   "execution_count": 86,
   "id": "e4c8caa7",
   "metadata": {},
   "outputs": [],
   "source": [
    "# Monthly mean npp products\n",
    "ds_west_papa[\"month\"] = ds_west_papa['time'].dt.month\n",
    "ds_west_m = ds_west_papa.groupby([\"month\"]).mean()\n",
    "\n",
    "ds_behr_papa[\"month\"] = ds_behr_papa['time'].dt.month\n",
    "ds_behr_m = ds_behr_papa.groupby([\"month\"]).mean()\n",
    "\n",
    "ds_cafe_papa[\"month\"] = ds_cafe_papa['time'].dt.month\n",
    "ds_cafe_m = ds_cafe_papa.groupby([\"month\"]).mean()"
   ]
  },
  {
   "cell_type": "code",
   "execution_count": 83,
   "id": "aa408cb5",
   "metadata": {},
   "outputs": [
    {
     "data": {
      "application/vnd.plotly.v1+json": {
       "config": {
        "plotlyServerURL": "https://plot.ly"
       },
       "data": [
        {
         "line": {
          "color": "blue",
          "dash": "dash",
          "width": 3
         },
         "mode": "lines",
         "name": "CbPM Westberry",
         "type": "scatter",
         "x": {
          "bdata": "AQIDBAUGBwgJCgsM",
          "dtype": "i1"
         },
         "y": {
          "bdata": "ONPC0qJvbECzis6q0dN3QJE0CdWj3YRASc8Y1s7ckEDHjKlF+f+SQLOPBpoAwJFA5kBUy61VkEDBLB+PyHWQQJ82RKR8iY1AEGyptjV2g0B8gZBFsnd0QAAAAAAAAPj/",
          "dtype": "f8"
         }
        },
        {
         "line": {
          "color": "green",
          "dash": "dash",
          "width": 3
         },
         "mode": "lines",
         "name": "CbPM Behrenfeld ",
         "type": "scatter",
         "x": {
          "bdata": "AQIDBAUGBwgJCgsM",
          "dtype": "i1"
         },
         "y": {
          "bdata": "JtOZo7WRaUBatvrr0SJ4QLbGn5wynoZAZ2460VzZkUAyxgp98BiUQNKNgaOweJNAPkqvL/28kkCWqu1O3TyTQG1Fv5E1FJJAPP9YBjfsh0CeI8/8Lbd0QAAAAAAAAPj/",
          "dtype": "f8"
         }
        },
        {
         "line": {
          "color": "red",
          "dash": "dash",
          "width": 3
         },
         "mode": "lines",
         "name": "CAFE",
         "type": "scatter",
         "x": {
          "bdata": "AQIDBAUGBwgJCgsM",
          "dtype": "i1"
         },
         "y": {
          "bdata": "CkGpgTpoZkB6IntaejlwQIhS01pscHZAyH7s4C3rfUCJO+K7TEiBQI2J3Wqkz4FABqU10pWzgEBS3ZQBxvF/QC1kEdUx43tA1BulmrAidEBjLFchApRqQAAAAAAAAPj/",
          "dtype": "f8"
         }
        },
        {
         "marker": {
          "color": "black",
          "size": 8
         },
         "mode": "markers",
         "name": "Wong et al. (1995)",
         "type": "scatter",
         "x": {
          "bdata": "AgAAAAQAAAAFAAAABwAAAAgAAAAKAAAACwAAAA==",
          "dtype": "i4"
         },
         "y": {
          "bdata": "6CUNbXnJcUAeTvFYh1OBQG4/SuDaT3dAMWloy0uad0BhDND5FwOAQJSvNyjkK3tAJ+twisc6bUA=",
          "dtype": "f8"
         }
        },
        {
         "marker": {
          "color": "grey",
          "size": 8
         },
         "mode": "markers",
         "name": "Welschmeyer et al. (1993)",
         "type": "scatter",
         "x": {
          "bdata": "BQAAAAYAAAAIAAAACQAAAAoAAAA=",
          "dtype": "i4"
         },
         "y": {
          "bdata": "2BsU8vVGgUCDGr9yoMaJQCv9aoFKP4NAE9l2k0SWh0CYNLTlJb2GQA==",
          "dtype": "f8"
         }
        },
        {
         "marker": {
          "color": "lightgrey",
          "size": 8
         },
         "mode": "markers",
         "name": "Boyd and Harrison (1999)",
         "type": "scatter",
         "x": {
          "bdata": "AgAAAAUAAAAJAAAA",
          "dtype": "i4"
         },
         "y": {
          "bdata": "S6bbLJJpcEDTMxdm9EyHQOn8iwE6X45A",
          "dtype": "f8"
         }
        }
       ],
       "layout": {
        "template": {
         "data": {
          "bar": [
           {
            "error_x": {
             "color": "#2a3f5f"
            },
            "error_y": {
             "color": "#2a3f5f"
            },
            "marker": {
             "line": {
              "color": "white",
              "width": 0.5
             },
             "pattern": {
              "fillmode": "overlay",
              "size": 10,
              "solidity": 0.2
             }
            },
            "type": "bar"
           }
          ],
          "barpolar": [
           {
            "marker": {
             "line": {
              "color": "white",
              "width": 0.5
             },
             "pattern": {
              "fillmode": "overlay",
              "size": 10,
              "solidity": 0.2
             }
            },
            "type": "barpolar"
           }
          ],
          "carpet": [
           {
            "aaxis": {
             "endlinecolor": "#2a3f5f",
             "gridcolor": "#C8D4E3",
             "linecolor": "#C8D4E3",
             "minorgridcolor": "#C8D4E3",
             "startlinecolor": "#2a3f5f"
            },
            "baxis": {
             "endlinecolor": "#2a3f5f",
             "gridcolor": "#C8D4E3",
             "linecolor": "#C8D4E3",
             "minorgridcolor": "#C8D4E3",
             "startlinecolor": "#2a3f5f"
            },
            "type": "carpet"
           }
          ],
          "choropleth": [
           {
            "colorbar": {
             "outlinewidth": 0,
             "ticks": ""
            },
            "type": "choropleth"
           }
          ],
          "contour": [
           {
            "colorbar": {
             "outlinewidth": 0,
             "ticks": ""
            },
            "colorscale": [
             [
              0,
              "#0d0887"
             ],
             [
              0.1111111111111111,
              "#46039f"
             ],
             [
              0.2222222222222222,
              "#7201a8"
             ],
             [
              0.3333333333333333,
              "#9c179e"
             ],
             [
              0.4444444444444444,
              "#bd3786"
             ],
             [
              0.5555555555555556,
              "#d8576b"
             ],
             [
              0.6666666666666666,
              "#ed7953"
             ],
             [
              0.7777777777777778,
              "#fb9f3a"
             ],
             [
              0.8888888888888888,
              "#fdca26"
             ],
             [
              1,
              "#f0f921"
             ]
            ],
            "type": "contour"
           }
          ],
          "contourcarpet": [
           {
            "colorbar": {
             "outlinewidth": 0,
             "ticks": ""
            },
            "type": "contourcarpet"
           }
          ],
          "heatmap": [
           {
            "colorbar": {
             "outlinewidth": 0,
             "ticks": ""
            },
            "colorscale": [
             [
              0,
              "#0d0887"
             ],
             [
              0.1111111111111111,
              "#46039f"
             ],
             [
              0.2222222222222222,
              "#7201a8"
             ],
             [
              0.3333333333333333,
              "#9c179e"
             ],
             [
              0.4444444444444444,
              "#bd3786"
             ],
             [
              0.5555555555555556,
              "#d8576b"
             ],
             [
              0.6666666666666666,
              "#ed7953"
             ],
             [
              0.7777777777777778,
              "#fb9f3a"
             ],
             [
              0.8888888888888888,
              "#fdca26"
             ],
             [
              1,
              "#f0f921"
             ]
            ],
            "type": "heatmap"
           }
          ],
          "histogram": [
           {
            "marker": {
             "pattern": {
              "fillmode": "overlay",
              "size": 10,
              "solidity": 0.2
             }
            },
            "type": "histogram"
           }
          ],
          "histogram2d": [
           {
            "colorbar": {
             "outlinewidth": 0,
             "ticks": ""
            },
            "colorscale": [
             [
              0,
              "#0d0887"
             ],
             [
              0.1111111111111111,
              "#46039f"
             ],
             [
              0.2222222222222222,
              "#7201a8"
             ],
             [
              0.3333333333333333,
              "#9c179e"
             ],
             [
              0.4444444444444444,
              "#bd3786"
             ],
             [
              0.5555555555555556,
              "#d8576b"
             ],
             [
              0.6666666666666666,
              "#ed7953"
             ],
             [
              0.7777777777777778,
              "#fb9f3a"
             ],
             [
              0.8888888888888888,
              "#fdca26"
             ],
             [
              1,
              "#f0f921"
             ]
            ],
            "type": "histogram2d"
           }
          ],
          "histogram2dcontour": [
           {
            "colorbar": {
             "outlinewidth": 0,
             "ticks": ""
            },
            "colorscale": [
             [
              0,
              "#0d0887"
             ],
             [
              0.1111111111111111,
              "#46039f"
             ],
             [
              0.2222222222222222,
              "#7201a8"
             ],
             [
              0.3333333333333333,
              "#9c179e"
             ],
             [
              0.4444444444444444,
              "#bd3786"
             ],
             [
              0.5555555555555556,
              "#d8576b"
             ],
             [
              0.6666666666666666,
              "#ed7953"
             ],
             [
              0.7777777777777778,
              "#fb9f3a"
             ],
             [
              0.8888888888888888,
              "#fdca26"
             ],
             [
              1,
              "#f0f921"
             ]
            ],
            "type": "histogram2dcontour"
           }
          ],
          "mesh3d": [
           {
            "colorbar": {
             "outlinewidth": 0,
             "ticks": ""
            },
            "type": "mesh3d"
           }
          ],
          "parcoords": [
           {
            "line": {
             "colorbar": {
              "outlinewidth": 0,
              "ticks": ""
             }
            },
            "type": "parcoords"
           }
          ],
          "pie": [
           {
            "automargin": true,
            "type": "pie"
           }
          ],
          "scatter": [
           {
            "fillpattern": {
             "fillmode": "overlay",
             "size": 10,
             "solidity": 0.2
            },
            "type": "scatter"
           }
          ],
          "scatter3d": [
           {
            "line": {
             "colorbar": {
              "outlinewidth": 0,
              "ticks": ""
             }
            },
            "marker": {
             "colorbar": {
              "outlinewidth": 0,
              "ticks": ""
             }
            },
            "type": "scatter3d"
           }
          ],
          "scattercarpet": [
           {
            "marker": {
             "colorbar": {
              "outlinewidth": 0,
              "ticks": ""
             }
            },
            "type": "scattercarpet"
           }
          ],
          "scattergeo": [
           {
            "marker": {
             "colorbar": {
              "outlinewidth": 0,
              "ticks": ""
             }
            },
            "type": "scattergeo"
           }
          ],
          "scattergl": [
           {
            "marker": {
             "colorbar": {
              "outlinewidth": 0,
              "ticks": ""
             }
            },
            "type": "scattergl"
           }
          ],
          "scattermap": [
           {
            "marker": {
             "colorbar": {
              "outlinewidth": 0,
              "ticks": ""
             }
            },
            "type": "scattermap"
           }
          ],
          "scattermapbox": [
           {
            "marker": {
             "colorbar": {
              "outlinewidth": 0,
              "ticks": ""
             }
            },
            "type": "scattermapbox"
           }
          ],
          "scatterpolar": [
           {
            "marker": {
             "colorbar": {
              "outlinewidth": 0,
              "ticks": ""
             }
            },
            "type": "scatterpolar"
           }
          ],
          "scatterpolargl": [
           {
            "marker": {
             "colorbar": {
              "outlinewidth": 0,
              "ticks": ""
             }
            },
            "type": "scatterpolargl"
           }
          ],
          "scatterternary": [
           {
            "marker": {
             "colorbar": {
              "outlinewidth": 0,
              "ticks": ""
             }
            },
            "type": "scatterternary"
           }
          ],
          "surface": [
           {
            "colorbar": {
             "outlinewidth": 0,
             "ticks": ""
            },
            "colorscale": [
             [
              0,
              "#0d0887"
             ],
             [
              0.1111111111111111,
              "#46039f"
             ],
             [
              0.2222222222222222,
              "#7201a8"
             ],
             [
              0.3333333333333333,
              "#9c179e"
             ],
             [
              0.4444444444444444,
              "#bd3786"
             ],
             [
              0.5555555555555556,
              "#d8576b"
             ],
             [
              0.6666666666666666,
              "#ed7953"
             ],
             [
              0.7777777777777778,
              "#fb9f3a"
             ],
             [
              0.8888888888888888,
              "#fdca26"
             ],
             [
              1,
              "#f0f921"
             ]
            ],
            "type": "surface"
           }
          ],
          "table": [
           {
            "cells": {
             "fill": {
              "color": "#EBF0F8"
             },
             "line": {
              "color": "white"
             }
            },
            "header": {
             "fill": {
              "color": "#C8D4E3"
             },
             "line": {
              "color": "white"
             }
            },
            "type": "table"
           }
          ]
         },
         "layout": {
          "annotationdefaults": {
           "arrowcolor": "#2a3f5f",
           "arrowhead": 0,
           "arrowwidth": 1
          },
          "autotypenumbers": "strict",
          "coloraxis": {
           "colorbar": {
            "outlinewidth": 0,
            "ticks": ""
           }
          },
          "colorscale": {
           "diverging": [
            [
             0,
             "#8e0152"
            ],
            [
             0.1,
             "#c51b7d"
            ],
            [
             0.2,
             "#de77ae"
            ],
            [
             0.3,
             "#f1b6da"
            ],
            [
             0.4,
             "#fde0ef"
            ],
            [
             0.5,
             "#f7f7f7"
            ],
            [
             0.6,
             "#e6f5d0"
            ],
            [
             0.7,
             "#b8e186"
            ],
            [
             0.8,
             "#7fbc41"
            ],
            [
             0.9,
             "#4d9221"
            ],
            [
             1,
             "#276419"
            ]
           ],
           "sequential": [
            [
             0,
             "#0d0887"
            ],
            [
             0.1111111111111111,
             "#46039f"
            ],
            [
             0.2222222222222222,
             "#7201a8"
            ],
            [
             0.3333333333333333,
             "#9c179e"
            ],
            [
             0.4444444444444444,
             "#bd3786"
            ],
            [
             0.5555555555555556,
             "#d8576b"
            ],
            [
             0.6666666666666666,
             "#ed7953"
            ],
            [
             0.7777777777777778,
             "#fb9f3a"
            ],
            [
             0.8888888888888888,
             "#fdca26"
            ],
            [
             1,
             "#f0f921"
            ]
           ],
           "sequentialminus": [
            [
             0,
             "#0d0887"
            ],
            [
             0.1111111111111111,
             "#46039f"
            ],
            [
             0.2222222222222222,
             "#7201a8"
            ],
            [
             0.3333333333333333,
             "#9c179e"
            ],
            [
             0.4444444444444444,
             "#bd3786"
            ],
            [
             0.5555555555555556,
             "#d8576b"
            ],
            [
             0.6666666666666666,
             "#ed7953"
            ],
            [
             0.7777777777777778,
             "#fb9f3a"
            ],
            [
             0.8888888888888888,
             "#fdca26"
            ],
            [
             1,
             "#f0f921"
            ]
           ]
          },
          "colorway": [
           "#636efa",
           "#EF553B",
           "#00cc96",
           "#ab63fa",
           "#FFA15A",
           "#19d3f3",
           "#FF6692",
           "#B6E880",
           "#FF97FF",
           "#FECB52"
          ],
          "font": {
           "color": "#2a3f5f"
          },
          "geo": {
           "bgcolor": "white",
           "lakecolor": "white",
           "landcolor": "white",
           "showlakes": true,
           "showland": true,
           "subunitcolor": "#C8D4E3"
          },
          "hoverlabel": {
           "align": "left"
          },
          "hovermode": "closest",
          "mapbox": {
           "style": "light"
          },
          "paper_bgcolor": "white",
          "plot_bgcolor": "white",
          "polar": {
           "angularaxis": {
            "gridcolor": "#EBF0F8",
            "linecolor": "#EBF0F8",
            "ticks": ""
           },
           "bgcolor": "white",
           "radialaxis": {
            "gridcolor": "#EBF0F8",
            "linecolor": "#EBF0F8",
            "ticks": ""
           }
          },
          "scene": {
           "xaxis": {
            "backgroundcolor": "white",
            "gridcolor": "#DFE8F3",
            "gridwidth": 2,
            "linecolor": "#EBF0F8",
            "showbackground": true,
            "ticks": "",
            "zerolinecolor": "#EBF0F8"
           },
           "yaxis": {
            "backgroundcolor": "white",
            "gridcolor": "#DFE8F3",
            "gridwidth": 2,
            "linecolor": "#EBF0F8",
            "showbackground": true,
            "ticks": "",
            "zerolinecolor": "#EBF0F8"
           },
           "zaxis": {
            "backgroundcolor": "white",
            "gridcolor": "#DFE8F3",
            "gridwidth": 2,
            "linecolor": "#EBF0F8",
            "showbackground": true,
            "ticks": "",
            "zerolinecolor": "#EBF0F8"
           }
          },
          "shapedefaults": {
           "line": {
            "color": "#2a3f5f"
           }
          },
          "ternary": {
           "aaxis": {
            "gridcolor": "#DFE8F3",
            "linecolor": "#A2B1C6",
            "ticks": ""
           },
           "baxis": {
            "gridcolor": "#DFE8F3",
            "linecolor": "#A2B1C6",
            "ticks": ""
           },
           "bgcolor": "white",
           "caxis": {
            "gridcolor": "#DFE8F3",
            "linecolor": "#A2B1C6",
            "ticks": ""
           }
          },
          "title": {
           "x": 0.05
          },
          "xaxis": {
           "automargin": true,
           "gridcolor": "#EBF0F8",
           "linecolor": "#EBF0F8",
           "ticks": "",
           "title": {
            "standoff": 15
           },
           "zerolinecolor": "#EBF0F8",
           "zerolinewidth": 2
          },
          "yaxis": {
           "automargin": true,
           "gridcolor": "#EBF0F8",
           "linecolor": "#EBF0F8",
           "ticks": "",
           "title": {
            "standoff": 15
           },
           "zerolinecolor": "#EBF0F8",
           "zerolinewidth": 2
          }
         }
        },
        "title": {
         "text": "Comparison Primary Productivity Monthly Time Series at PAPA (mean)"
        },
        "xaxis": {
         "tickmode": "array",
         "ticktext": [
          "Jan",
          "Fev",
          "Mar",
          "Apr",
          "May",
          "June",
          "Jul",
          "Aug",
          "Sep",
          "Oct",
          "Nov",
          "Dec"
         ],
         "tickvals": [
          1,
          2,
          3,
          4,
          5,
          6,
          7,
          8,
          9,
          10,
          11,
          12
         ],
         "title": {
          "text": "Month"
         }
        },
        "yaxis": {
         "title": {
          "text": "Primary productivity [mg C m-2 day-1]"
         }
        }
       }
      }
     },
     "metadata": {},
     "output_type": "display_data"
    }
   ],
   "source": [
    "fig = go.Figure()\n",
    "# CbPM Westberry\n",
    "fig.add_trace(go.Scatter(\n",
    "    x=ds_west_m['month'],  \n",
    "    y=ds_west_m['CbPM'],\n",
    "    mode='lines',\n",
    "    name='CbPM Westberry',\n",
    "    line=dict(color='blue', width=3, dash='dash')\n",
    "))\n",
    "# CbPM Behrenfeld\n",
    "fig.add_trace(go.Scatter(\n",
    "    x=ds_behr_m['month'],  \n",
    "    y=ds_behr_m['CbPM'],\n",
    "    mode='lines',\n",
    "    name='CbPM Behrenfeld ',\n",
    "    line=dict(color='green', width=3, dash='dash')\n",
    "))\n",
    "# CAFE\n",
    "fig.add_trace(go.Scatter(\n",
    "    x=ds_cafe_m['month'],  \n",
    "    y=ds_cafe_m['CAFE'],\n",
    "    mode='lines',\n",
    "    name='CAFE',\n",
    "    line=dict(color='red', width=3, dash='dash')\n",
    "))\n",
    "\n",
    "#Plot points paper\n",
    "\n",
    "for category in df_monthly[\"categorie\"].unique():\n",
    "    df_cat = df_monthly[df_monthly[\"categorie\"] == category]\n",
    "    if category == 'Black_Circles':\n",
    "        label='Wong et al. (1995)'\n",
    "        c='black'\n",
    "    elif category == 'White_Triangles':\n",
    "        label='Boyd and Harrison (1999)'\n",
    "        c='lightgrey'\n",
    "    else:\n",
    "        label='Welschmeyer et al. (1993)'\n",
    "        c='grey'\n",
    "    fig.add_trace(\n",
    "        go.Scatter(\n",
    "            x=df_cat[\"month\"],\n",
    "            y=df_cat[\"nnp\"],\n",
    "            mode=\"markers\",\n",
    "            name=label,\n",
    "            marker=dict(size=8,color=c),\n",
    "        )\n",
    "    )\n",
    "\n",
    "# Mise en forme\n",
    "fig.update_layout(\n",
    "    title='Comparison Primary Productivity Monthly Time Series at PAPA (mean)',\n",
    "    xaxis_title='Month',\n",
    "    yaxis_title='Primary productivity [mg C m-2 day-1]', \n",
    "    template='plotly_white',\n",
    "    xaxis=dict(tickmode='array', tickvals=list(range(1, 13)), ticktext=[\n",
    "        'Jan', 'Fev', 'Mar', 'Apr', 'May', 'June', 'Jul', 'Aug', 'Sep', 'Oct', 'Nov', 'Dec'\n",
    "    ]),\n",
    ")\n",
    "\n",
    "# Affichage\n",
    "fig.show()\n"
   ]
  },
  {
   "cell_type": "code",
   "execution_count": null,
   "id": "c5aeecf5",
   "metadata": {},
   "outputs": [],
   "source": [
    "# Monthly median\n",
    "df_monthly_md = df_paper.groupby([\"categorie\", \"month\"])[\"nnp\"].median().reset_index()\n",
    "\n",
    "# Monthly median npp products\n",
    "ds_west_md = ds_west_papa.groupby([\"month\"]).median()\n",
    "\n",
    "ds_behr_md = ds_behr_papa.groupby([\"month\"]).median()\n",
    "\n",
    "ds_cafe_md = ds_cafe_papa.groupby([\"month\"]).median()"
   ]
  },
  {
   "cell_type": "code",
   "execution_count": 87,
   "id": "10a7c735",
   "metadata": {},
   "outputs": [
    {
     "data": {
      "application/vnd.plotly.v1+json": {
       "config": {
        "plotlyServerURL": "https://plot.ly"
       },
       "data": [
        {
         "line": {
          "color": "blue",
          "dash": "dash",
          "width": 3
         },
         "mode": "lines",
         "name": "CbPM Westberry",
         "type": "scatter",
         "x": {
          "bdata": "AQIDBAUGBwgJCgsM",
          "dtype": "i1"
         },
         "y": {
          "bdata": "VebLZ8VRa0Cm91CRTPB2QNHSfWcPHoRAvozFodZJkUClLWosGkaTQBj4gHeMoJFA8hgxF4SlkEDg4R53H7SQQN7NBfqvhY1Ayq3VIvb9gkBMVZjB0dJ0QAAAAAAAAPj/",
          "dtype": "f8"
         }
        },
        {
         "line": {
          "color": "green",
          "dash": "dash",
          "width": 3
         },
         "mode": "lines",
         "name": "CbPM Behrenfeld ",
         "type": "scatter",
         "x": {
          "bdata": "AQIDBAUGBwgJCgsM",
          "dtype": "i1"
         },
         "y": {
          "bdata": "fqL1cmf5Z0AnIXgpSx53QMLzdDVYXoVA2bTv1Y/ZkUAmJWX4aQ6UQBaLdTeW7ZNA6VV9SGDckkBBu4EN8+qSQNbbihQMBJJAyzsjRVKeh0DNHXfVNj10QAAAAAAAAPj/",
          "dtype": "f8"
         }
        },
        {
         "line": {
          "color": "red",
          "dash": "dash",
          "width": 3
         },
         "mode": "lines",
         "name": "CAFE",
         "type": "scatter",
         "x": {
          "bdata": "AQIDBAUGBwgJCgsM",
          "dtype": "i1"
         },
         "y": {
          "bdata": "qqrq6gKAZ0AAAMDlyhhwQAAAYOBycXZAAACA5gnqfEAAAGCIEPqBQAAAoImdXIJAAABApvaygEAAAEAOFAp/QAAAQEJrvntAAABA2IUedEAAAMDPVidrQAAAAAAAAPj/",
          "dtype": "f8"
         }
        },
        {
         "marker": {
          "color": "black",
          "size": 8
         },
         "mode": "markers",
         "name": "Wong et al. (1995)",
         "type": "scatter",
         "x": {
          "bdata": "AgAAAAQAAAAFAAAABwAAAAgAAAAKAAAACwAAAA==",
          "dtype": "i4"
         },
         "y": {
          "bdata": "6CUNbXnJcUATj3U4xeN8QBCneKzDaXZArLKrJqrseEBQVNlVE9V7QJSvNyjkK3tAJ+twisc6bUA=",
          "dtype": "f8"
         }
        },
        {
         "marker": {
          "color": "grey",
          "size": 8
         },
         "mode": "markers",
         "name": "Welschmeyer et al. (1993)",
         "type": "scatter",
         "x": {
          "bdata": "BQAAAAYAAAAIAAAACQAAAAoAAAA=",
          "dtype": "i4"
         },
         "y": {
          "bdata": "iPC7ByJ8gUBa6tMKlvqFQI87OWLjroFAj9i4kyP2h0BzxMadHLGAQA==",
          "dtype": "f8"
         }
        },
        {
         "marker": {
          "color": "lightgrey",
          "size": 8
         },
         "mode": "markers",
         "name": "Boyd and Harrison (1999)",
         "type": "scatter",
         "x": {
          "bdata": "AgAAAAUAAAAJAAAA",
          "dtype": "i4"
         },
         "y": {
          "bdata": "sE8rWOrTZUDaVRNVdnWEQJB1OMVjPY5A",
          "dtype": "f8"
         }
        }
       ],
       "layout": {
        "template": {
         "data": {
          "bar": [
           {
            "error_x": {
             "color": "#2a3f5f"
            },
            "error_y": {
             "color": "#2a3f5f"
            },
            "marker": {
             "line": {
              "color": "white",
              "width": 0.5
             },
             "pattern": {
              "fillmode": "overlay",
              "size": 10,
              "solidity": 0.2
             }
            },
            "type": "bar"
           }
          ],
          "barpolar": [
           {
            "marker": {
             "line": {
              "color": "white",
              "width": 0.5
             },
             "pattern": {
              "fillmode": "overlay",
              "size": 10,
              "solidity": 0.2
             }
            },
            "type": "barpolar"
           }
          ],
          "carpet": [
           {
            "aaxis": {
             "endlinecolor": "#2a3f5f",
             "gridcolor": "#C8D4E3",
             "linecolor": "#C8D4E3",
             "minorgridcolor": "#C8D4E3",
             "startlinecolor": "#2a3f5f"
            },
            "baxis": {
             "endlinecolor": "#2a3f5f",
             "gridcolor": "#C8D4E3",
             "linecolor": "#C8D4E3",
             "minorgridcolor": "#C8D4E3",
             "startlinecolor": "#2a3f5f"
            },
            "type": "carpet"
           }
          ],
          "choropleth": [
           {
            "colorbar": {
             "outlinewidth": 0,
             "ticks": ""
            },
            "type": "choropleth"
           }
          ],
          "contour": [
           {
            "colorbar": {
             "outlinewidth": 0,
             "ticks": ""
            },
            "colorscale": [
             [
              0,
              "#0d0887"
             ],
             [
              0.1111111111111111,
              "#46039f"
             ],
             [
              0.2222222222222222,
              "#7201a8"
             ],
             [
              0.3333333333333333,
              "#9c179e"
             ],
             [
              0.4444444444444444,
              "#bd3786"
             ],
             [
              0.5555555555555556,
              "#d8576b"
             ],
             [
              0.6666666666666666,
              "#ed7953"
             ],
             [
              0.7777777777777778,
              "#fb9f3a"
             ],
             [
              0.8888888888888888,
              "#fdca26"
             ],
             [
              1,
              "#f0f921"
             ]
            ],
            "type": "contour"
           }
          ],
          "contourcarpet": [
           {
            "colorbar": {
             "outlinewidth": 0,
             "ticks": ""
            },
            "type": "contourcarpet"
           }
          ],
          "heatmap": [
           {
            "colorbar": {
             "outlinewidth": 0,
             "ticks": ""
            },
            "colorscale": [
             [
              0,
              "#0d0887"
             ],
             [
              0.1111111111111111,
              "#46039f"
             ],
             [
              0.2222222222222222,
              "#7201a8"
             ],
             [
              0.3333333333333333,
              "#9c179e"
             ],
             [
              0.4444444444444444,
              "#bd3786"
             ],
             [
              0.5555555555555556,
              "#d8576b"
             ],
             [
              0.6666666666666666,
              "#ed7953"
             ],
             [
              0.7777777777777778,
              "#fb9f3a"
             ],
             [
              0.8888888888888888,
              "#fdca26"
             ],
             [
              1,
              "#f0f921"
             ]
            ],
            "type": "heatmap"
           }
          ],
          "histogram": [
           {
            "marker": {
             "pattern": {
              "fillmode": "overlay",
              "size": 10,
              "solidity": 0.2
             }
            },
            "type": "histogram"
           }
          ],
          "histogram2d": [
           {
            "colorbar": {
             "outlinewidth": 0,
             "ticks": ""
            },
            "colorscale": [
             [
              0,
              "#0d0887"
             ],
             [
              0.1111111111111111,
              "#46039f"
             ],
             [
              0.2222222222222222,
              "#7201a8"
             ],
             [
              0.3333333333333333,
              "#9c179e"
             ],
             [
              0.4444444444444444,
              "#bd3786"
             ],
             [
              0.5555555555555556,
              "#d8576b"
             ],
             [
              0.6666666666666666,
              "#ed7953"
             ],
             [
              0.7777777777777778,
              "#fb9f3a"
             ],
             [
              0.8888888888888888,
              "#fdca26"
             ],
             [
              1,
              "#f0f921"
             ]
            ],
            "type": "histogram2d"
           }
          ],
          "histogram2dcontour": [
           {
            "colorbar": {
             "outlinewidth": 0,
             "ticks": ""
            },
            "colorscale": [
             [
              0,
              "#0d0887"
             ],
             [
              0.1111111111111111,
              "#46039f"
             ],
             [
              0.2222222222222222,
              "#7201a8"
             ],
             [
              0.3333333333333333,
              "#9c179e"
             ],
             [
              0.4444444444444444,
              "#bd3786"
             ],
             [
              0.5555555555555556,
              "#d8576b"
             ],
             [
              0.6666666666666666,
              "#ed7953"
             ],
             [
              0.7777777777777778,
              "#fb9f3a"
             ],
             [
              0.8888888888888888,
              "#fdca26"
             ],
             [
              1,
              "#f0f921"
             ]
            ],
            "type": "histogram2dcontour"
           }
          ],
          "mesh3d": [
           {
            "colorbar": {
             "outlinewidth": 0,
             "ticks": ""
            },
            "type": "mesh3d"
           }
          ],
          "parcoords": [
           {
            "line": {
             "colorbar": {
              "outlinewidth": 0,
              "ticks": ""
             }
            },
            "type": "parcoords"
           }
          ],
          "pie": [
           {
            "automargin": true,
            "type": "pie"
           }
          ],
          "scatter": [
           {
            "fillpattern": {
             "fillmode": "overlay",
             "size": 10,
             "solidity": 0.2
            },
            "type": "scatter"
           }
          ],
          "scatter3d": [
           {
            "line": {
             "colorbar": {
              "outlinewidth": 0,
              "ticks": ""
             }
            },
            "marker": {
             "colorbar": {
              "outlinewidth": 0,
              "ticks": ""
             }
            },
            "type": "scatter3d"
           }
          ],
          "scattercarpet": [
           {
            "marker": {
             "colorbar": {
              "outlinewidth": 0,
              "ticks": ""
             }
            },
            "type": "scattercarpet"
           }
          ],
          "scattergeo": [
           {
            "marker": {
             "colorbar": {
              "outlinewidth": 0,
              "ticks": ""
             }
            },
            "type": "scattergeo"
           }
          ],
          "scattergl": [
           {
            "marker": {
             "colorbar": {
              "outlinewidth": 0,
              "ticks": ""
             }
            },
            "type": "scattergl"
           }
          ],
          "scattermap": [
           {
            "marker": {
             "colorbar": {
              "outlinewidth": 0,
              "ticks": ""
             }
            },
            "type": "scattermap"
           }
          ],
          "scattermapbox": [
           {
            "marker": {
             "colorbar": {
              "outlinewidth": 0,
              "ticks": ""
             }
            },
            "type": "scattermapbox"
           }
          ],
          "scatterpolar": [
           {
            "marker": {
             "colorbar": {
              "outlinewidth": 0,
              "ticks": ""
             }
            },
            "type": "scatterpolar"
           }
          ],
          "scatterpolargl": [
           {
            "marker": {
             "colorbar": {
              "outlinewidth": 0,
              "ticks": ""
             }
            },
            "type": "scatterpolargl"
           }
          ],
          "scatterternary": [
           {
            "marker": {
             "colorbar": {
              "outlinewidth": 0,
              "ticks": ""
             }
            },
            "type": "scatterternary"
           }
          ],
          "surface": [
           {
            "colorbar": {
             "outlinewidth": 0,
             "ticks": ""
            },
            "colorscale": [
             [
              0,
              "#0d0887"
             ],
             [
              0.1111111111111111,
              "#46039f"
             ],
             [
              0.2222222222222222,
              "#7201a8"
             ],
             [
              0.3333333333333333,
              "#9c179e"
             ],
             [
              0.4444444444444444,
              "#bd3786"
             ],
             [
              0.5555555555555556,
              "#d8576b"
             ],
             [
              0.6666666666666666,
              "#ed7953"
             ],
             [
              0.7777777777777778,
              "#fb9f3a"
             ],
             [
              0.8888888888888888,
              "#fdca26"
             ],
             [
              1,
              "#f0f921"
             ]
            ],
            "type": "surface"
           }
          ],
          "table": [
           {
            "cells": {
             "fill": {
              "color": "#EBF0F8"
             },
             "line": {
              "color": "white"
             }
            },
            "header": {
             "fill": {
              "color": "#C8D4E3"
             },
             "line": {
              "color": "white"
             }
            },
            "type": "table"
           }
          ]
         },
         "layout": {
          "annotationdefaults": {
           "arrowcolor": "#2a3f5f",
           "arrowhead": 0,
           "arrowwidth": 1
          },
          "autotypenumbers": "strict",
          "coloraxis": {
           "colorbar": {
            "outlinewidth": 0,
            "ticks": ""
           }
          },
          "colorscale": {
           "diverging": [
            [
             0,
             "#8e0152"
            ],
            [
             0.1,
             "#c51b7d"
            ],
            [
             0.2,
             "#de77ae"
            ],
            [
             0.3,
             "#f1b6da"
            ],
            [
             0.4,
             "#fde0ef"
            ],
            [
             0.5,
             "#f7f7f7"
            ],
            [
             0.6,
             "#e6f5d0"
            ],
            [
             0.7,
             "#b8e186"
            ],
            [
             0.8,
             "#7fbc41"
            ],
            [
             0.9,
             "#4d9221"
            ],
            [
             1,
             "#276419"
            ]
           ],
           "sequential": [
            [
             0,
             "#0d0887"
            ],
            [
             0.1111111111111111,
             "#46039f"
            ],
            [
             0.2222222222222222,
             "#7201a8"
            ],
            [
             0.3333333333333333,
             "#9c179e"
            ],
            [
             0.4444444444444444,
             "#bd3786"
            ],
            [
             0.5555555555555556,
             "#d8576b"
            ],
            [
             0.6666666666666666,
             "#ed7953"
            ],
            [
             0.7777777777777778,
             "#fb9f3a"
            ],
            [
             0.8888888888888888,
             "#fdca26"
            ],
            [
             1,
             "#f0f921"
            ]
           ],
           "sequentialminus": [
            [
             0,
             "#0d0887"
            ],
            [
             0.1111111111111111,
             "#46039f"
            ],
            [
             0.2222222222222222,
             "#7201a8"
            ],
            [
             0.3333333333333333,
             "#9c179e"
            ],
            [
             0.4444444444444444,
             "#bd3786"
            ],
            [
             0.5555555555555556,
             "#d8576b"
            ],
            [
             0.6666666666666666,
             "#ed7953"
            ],
            [
             0.7777777777777778,
             "#fb9f3a"
            ],
            [
             0.8888888888888888,
             "#fdca26"
            ],
            [
             1,
             "#f0f921"
            ]
           ]
          },
          "colorway": [
           "#636efa",
           "#EF553B",
           "#00cc96",
           "#ab63fa",
           "#FFA15A",
           "#19d3f3",
           "#FF6692",
           "#B6E880",
           "#FF97FF",
           "#FECB52"
          ],
          "font": {
           "color": "#2a3f5f"
          },
          "geo": {
           "bgcolor": "white",
           "lakecolor": "white",
           "landcolor": "white",
           "showlakes": true,
           "showland": true,
           "subunitcolor": "#C8D4E3"
          },
          "hoverlabel": {
           "align": "left"
          },
          "hovermode": "closest",
          "mapbox": {
           "style": "light"
          },
          "paper_bgcolor": "white",
          "plot_bgcolor": "white",
          "polar": {
           "angularaxis": {
            "gridcolor": "#EBF0F8",
            "linecolor": "#EBF0F8",
            "ticks": ""
           },
           "bgcolor": "white",
           "radialaxis": {
            "gridcolor": "#EBF0F8",
            "linecolor": "#EBF0F8",
            "ticks": ""
           }
          },
          "scene": {
           "xaxis": {
            "backgroundcolor": "white",
            "gridcolor": "#DFE8F3",
            "gridwidth": 2,
            "linecolor": "#EBF0F8",
            "showbackground": true,
            "ticks": "",
            "zerolinecolor": "#EBF0F8"
           },
           "yaxis": {
            "backgroundcolor": "white",
            "gridcolor": "#DFE8F3",
            "gridwidth": 2,
            "linecolor": "#EBF0F8",
            "showbackground": true,
            "ticks": "",
            "zerolinecolor": "#EBF0F8"
           },
           "zaxis": {
            "backgroundcolor": "white",
            "gridcolor": "#DFE8F3",
            "gridwidth": 2,
            "linecolor": "#EBF0F8",
            "showbackground": true,
            "ticks": "",
            "zerolinecolor": "#EBF0F8"
           }
          },
          "shapedefaults": {
           "line": {
            "color": "#2a3f5f"
           }
          },
          "ternary": {
           "aaxis": {
            "gridcolor": "#DFE8F3",
            "linecolor": "#A2B1C6",
            "ticks": ""
           },
           "baxis": {
            "gridcolor": "#DFE8F3",
            "linecolor": "#A2B1C6",
            "ticks": ""
           },
           "bgcolor": "white",
           "caxis": {
            "gridcolor": "#DFE8F3",
            "linecolor": "#A2B1C6",
            "ticks": ""
           }
          },
          "title": {
           "x": 0.05
          },
          "xaxis": {
           "automargin": true,
           "gridcolor": "#EBF0F8",
           "linecolor": "#EBF0F8",
           "ticks": "",
           "title": {
            "standoff": 15
           },
           "zerolinecolor": "#EBF0F8",
           "zerolinewidth": 2
          },
          "yaxis": {
           "automargin": true,
           "gridcolor": "#EBF0F8",
           "linecolor": "#EBF0F8",
           "ticks": "",
           "title": {
            "standoff": 15
           },
           "zerolinecolor": "#EBF0F8",
           "zerolinewidth": 2
          }
         }
        },
        "title": {
         "text": "Comparison Primary Productivity Monthly Time Series at PAPA (median)"
        },
        "xaxis": {
         "tickmode": "array",
         "ticktext": [
          "Jan",
          "Fev",
          "Mar",
          "Apr",
          "May",
          "June",
          "Jul",
          "Aug",
          "Sep",
          "Oct",
          "Nov",
          "Dec"
         ],
         "tickvals": [
          1,
          2,
          3,
          4,
          5,
          6,
          7,
          8,
          9,
          10,
          11,
          12
         ],
         "title": {
          "text": "Month"
         }
        },
        "yaxis": {
         "title": {
          "text": "Primary productivity [mg C m-2 day-1]"
         }
        }
       }
      }
     },
     "metadata": {},
     "output_type": "display_data"
    }
   ],
   "source": [
    "fig = go.Figure()\n",
    "# CbPM Westberry\n",
    "fig.add_trace(go.Scatter(\n",
    "    x=ds_west_md['month'],  \n",
    "    y=ds_west_md['CbPM'],\n",
    "    mode='lines',\n",
    "    name='CbPM Westberry',\n",
    "    line=dict(color='blue', width=3, dash='dash')\n",
    "))\n",
    "# CbPM Behrenfeld\n",
    "fig.add_trace(go.Scatter(\n",
    "    x=ds_behr_md['month'],  \n",
    "    y=ds_behr_md['CbPM'],\n",
    "    mode='lines',\n",
    "    name='CbPM Behrenfeld ',\n",
    "    line=dict(color='green', width=3, dash='dash')\n",
    "))\n",
    "# CAFE\n",
    "fig.add_trace(go.Scatter(\n",
    "    x=ds_cafe_md['month'],  \n",
    "    y=ds_cafe_md['CAFE'],\n",
    "    mode='lines',\n",
    "    name='CAFE',\n",
    "    line=dict(color='red', width=3, dash='dash')\n",
    "))\n",
    "\n",
    "#Plot points paper\n",
    "\n",
    "for category in df_monthly_md[\"categorie\"].unique():\n",
    "    df_cat = df_monthly_md[df_monthly_md[\"categorie\"] == category]\n",
    "    if category == 'Black_Circles':\n",
    "        label='Wong et al. (1995)'\n",
    "        c='black'\n",
    "    elif category == 'White_Triangles':\n",
    "        label='Boyd and Harrison (1999)'\n",
    "        c='lightgrey'\n",
    "    else:\n",
    "        label='Welschmeyer et al. (1993)'\n",
    "        c='grey'\n",
    "    fig.add_trace(\n",
    "        go.Scatter(\n",
    "            x=df_cat[\"month\"],\n",
    "            y=df_cat[\"nnp\"],\n",
    "            mode=\"markers\",\n",
    "            name=label,\n",
    "            marker=dict(size=8,color=c),\n",
    "        )\n",
    "    )\n",
    "\n",
    "# Mise en forme\n",
    "fig.update_layout(\n",
    "    title='Comparison Primary Productivity Monthly Time Series at PAPA (median)',\n",
    "    xaxis_title='Month',\n",
    "    yaxis_title='Primary productivity [mg C m-2 day-1]', \n",
    "    template='plotly_white',\n",
    "    xaxis=dict(tickmode='array', tickvals=list(range(1, 13)), ticktext=[\n",
    "        'Jan', 'Fev', 'Mar', 'Apr', 'May', 'June', 'Jul', 'Aug', 'Sep', 'Oct', 'Nov', 'Dec'\n",
    "    ]),\n",
    ")\n",
    "\n",
    "# Affichage\n",
    "fig.show()\n"
   ]
  }
 ],
 "metadata": {
  "kernelspec": {
   "display_name": "Python (seapopym-data)",
   "language": "python",
   "name": "seapopym_data"
  },
  "language_info": {
   "codemirror_mode": {
    "name": "ipython",
    "version": 3
   },
   "file_extension": ".py",
   "mimetype": "text/x-python",
   "name": "python",
   "nbconvert_exporter": "python",
   "pygments_lexer": "ipython3",
   "version": "3.13.2"
  }
 },
 "nbformat": 4,
 "nbformat_minor": 5
}
