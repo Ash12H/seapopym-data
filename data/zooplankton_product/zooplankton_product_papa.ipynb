{
 "cells": [
  {
   "cell_type": "code",
   "execution_count": null,
   "metadata": {},
   "outputs": [],
   "source": [
    "import xarray as xr"
   ]
  },
  {
   "cell_type": "code",
   "execution_count": null,
   "metadata": {},
   "outputs": [],
   "source": [
    "papa_data = xr.load_dataset(\n",
    "    \"../stations/papa/2_processed/papa_zooplankton.zarr\", engine=\"zarr\"\n",
    ")\n",
    "papa_data"
   ]
  },
  {
   "cell_type": "code",
   "execution_count": null,
   "metadata": {},
   "outputs": [],
   "source": [
    "results = xr.Dataset(\n",
    "    {\n",
    "        \"day\": papa_data[\"total\"].sel(is_day=True).mean([\"depth\"]).drop(\"is_day\"),\n",
    "        \"night\": papa_data[\"total\"].sel(is_day=False).mean([\"depth\"]).drop(\"is_day\"),\n",
    "    }\n",
    ")\n",
    "results"
   ]
  },
  {
   "cell_type": "code",
   "execution_count": null,
   "metadata": {},
   "outputs": [],
   "source": [
    "import plotly.express as px\n",
    "\n",
    "day_df = (\n",
    "    results[\"day\"].mean([\"latitude\", \"longitude\"]).to_dataframe().reset_index().dropna()\n",
    ")\n",
    "night_df = (\n",
    "    results[\"night\"]\n",
    "    .mean([\"latitude\", \"longitude\"])\n",
    "    .to_dataframe()\n",
    "    .reset_index()\n",
    "    .dropna()\n",
    ")\n",
    "\n",
    "\n",
    "fig = px.line(\n",
    "    title=\"Day and Night Series\", labels={\"value\": \"Abundance\", \"time\": \"Time\"}\n",
    ")\n",
    "\n",
    "fig.add_scatter(x=day_df[\"time\"], y=day_df[\"day\"], mode=\"lines\", name=\"Day\")\n",
    "\n",
    "fig.add_scatter(x=night_df[\"time\"], y=night_df[\"night\"], mode=\"lines\", name=\"Night\")\n",
    "\n",
    "fig.update_layout(\n",
    "    xaxis_title=\"Time\",\n",
    "    yaxis_title=\"Wet weight mg/m3\",\n",
    "    legend_title=\"Day/Night\",\n",
    "    legend=dict(orientation=\"h\"),\n",
    ")\n",
    "\n",
    "fig.show()"
   ]
  },
  {
   "cell_type": "code",
   "execution_count": null,
   "metadata": {},
   "outputs": [],
   "source": [
    "data_export = (\n",
    "    xr.Dataset(\n",
    "        {\n",
    "            \"day\": papa_data[\"total\"]\n",
    "            .sel(is_day=True)\n",
    "            .mean([\"depth\"])\n",
    "            .drop_vars(\"is_day\"),\n",
    "            \"night\": papa_data[\"total\"]\n",
    "            .sel(is_day=False)\n",
    "            .mean([\"depth\"])\n",
    "            .drop_vars(\"is_day\"),\n",
    "        }\n",
    "    )\n",
    "    .expand_dims({\"layer\": [0]})\n",
    "    .transpose(\"time\", \"latitude\", \"longitude\", \"layer\")\n",
    ")\n",
    "data_export[\"day\"].attrs = {\n",
    "    \"description\": \"Zooplankton dry weight by cube meter of sea water at day\",\n",
    "    \"units\": \"mg/m3\",\n",
    "}\n",
    "data_export[\"night\"].attrs = {\n",
    "    \"description\": \"Zooplankton dry weight by cube meter of sea water at night\",\n",
    "    \"units\": \"mg/m3\",\n",
    "}\n",
    "data_export[\"layer\"].attrs = {\n",
    "    \"flag_values\": [0, 1, 2],\n",
    "    \"flag_meanings\": \"epipelagic, upper-mesopelagic, lower-mesopelagic\",\n",
    "    \"desc\": \"The layer depth according to Seapodym definition\",\n",
    "    \"standard_name\": \"layer\",\n",
    "    \"long_name\": \"Layer depth\",\n",
    "    \"axis\": \"Z\",\n",
    "}\n",
    "data_export"
   ]
  },
  {
   "cell_type": "code",
   "execution_count": null,
   "metadata": {},
   "outputs": [],
   "source": [
    "data_export.to_zarr(\"Papa_zooplankton.zarr\", mode=\"w\")"
   ]
  }
 ],
 "metadata": {
  "kernelspec": {
   "display_name": ".venv",
   "language": "python",
   "name": "python3"
  },
  "language_info": {
   "codemirror_mode": {
    "name": "ipython",
    "version": 3
   },
   "file_extension": ".py",
   "mimetype": "text/x-python",
   "name": "python",
   "nbconvert_exporter": "python",
   "pygments_lexer": "ipython3",
   "version": "3.13.2"
  }
 },
 "nbformat": 4,
 "nbformat_minor": 2
}
