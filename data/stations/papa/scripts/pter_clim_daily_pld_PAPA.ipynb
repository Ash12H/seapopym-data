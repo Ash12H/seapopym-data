{
 "cells": [
  {
   "cell_type": "markdown",
   "id": "4f9e664c",
   "metadata": {},
   "source": [
    "# Climatology of pteropods at PAPA\n",
    "\n",
    "Conversion mg/m3 by multiplying with the epipelagic depth of the mesurments day.\n",
    "\n",
    "All pteropods observed at PAPA station : Clio, Gymno, Lim\n",
    "\n",
    "Cleaned Notebook "
   ]
  },
  {
   "cell_type": "markdown",
   "id": "772e2a13",
   "metadata": {},
   "source": [
    "## Set Up"
   ]
  },
  {
   "cell_type": "code",
   "execution_count": 1,
   "id": "1101c35f",
   "metadata": {},
   "outputs": [],
   "source": [
    "# imports\n",
    "import xarray as xr\n",
    "import plotly.express as px\n",
    "import plotly.graph_objects as go\n",
    "from plotly.subplots import make_subplots\n",
    "import pandas as pd\n",
    "import numpy as np "
   ]
  },
  {
   "cell_type": "markdown",
   "id": "32a1b672",
   "metadata": {},
   "source": [
    "<div style=\"padding: 10px; border-radius: 5px; background-color: #cce5ff; color: #004085; border-left: 5px solid #007bff;\">\n",
    "    <strong>Note :</strong> Let's use the most widespread method to deal with leap years : exclude 29 of February\n",
    "</div>"
   ]
  },
  {
   "cell_type": "code",
   "execution_count": 12,
   "id": "a8690e0b",
   "metadata": {},
   "outputs": [],
   "source": [
    "# Create the mapping MM-DD -> day (except leap years)\n",
    "days = pd.date_range('2001-01-01', '2001-12-31')  # 2001 not a leap year\n",
    "mmdd_to_day = {d.strftime('%m-%d'): i+1 for i, d in enumerate(days)}"
   ]
  },
  {
   "cell_type": "code",
   "execution_count": 2,
   "id": "f32c88ef",
   "metadata": {},
   "outputs": [
    {
     "data": {
      "text/html": [
       "<div><svg style=\"position: absolute; width: 0; height: 0; overflow: hidden\">\n",
       "<defs>\n",
       "<symbol id=\"icon-database\" viewBox=\"0 0 32 32\">\n",
       "<path d=\"M16 0c-8.837 0-16 2.239-16 5v4c0 2.761 7.163 5 16 5s16-2.239 16-5v-4c0-2.761-7.163-5-16-5z\"></path>\n",
       "<path d=\"M16 17c-8.837 0-16-2.239-16-5v6c0 2.761 7.163 5 16 5s16-2.239 16-5v-6c0 2.761-7.163 5-16 5z\"></path>\n",
       "<path d=\"M16 26c-8.837 0-16-2.239-16-5v6c0 2.761 7.163 5 16 5s16-2.239 16-5v-6c0 2.761-7.163 5-16 5z\"></path>\n",
       "</symbol>\n",
       "<symbol id=\"icon-file-text2\" viewBox=\"0 0 32 32\">\n",
       "<path d=\"M28.681 7.159c-0.694-0.947-1.662-2.053-2.724-3.116s-2.169-2.030-3.116-2.724c-1.612-1.182-2.393-1.319-2.841-1.319h-15.5c-1.378 0-2.5 1.121-2.5 2.5v27c0 1.378 1.122 2.5 2.5 2.5h23c1.378 0 2.5-1.122 2.5-2.5v-19.5c0-0.448-0.137-1.23-1.319-2.841zM24.543 5.457c0.959 0.959 1.712 1.825 2.268 2.543h-4.811v-4.811c0.718 0.556 1.584 1.309 2.543 2.268zM28 29.5c0 0.271-0.229 0.5-0.5 0.5h-23c-0.271 0-0.5-0.229-0.5-0.5v-27c0-0.271 0.229-0.5 0.5-0.5 0 0 15.499-0 15.5 0v7c0 0.552 0.448 1 1 1h7v19.5z\"></path>\n",
       "<path d=\"M23 26h-14c-0.552 0-1-0.448-1-1s0.448-1 1-1h14c0.552 0 1 0.448 1 1s-0.448 1-1 1z\"></path>\n",
       "<path d=\"M23 22h-14c-0.552 0-1-0.448-1-1s0.448-1 1-1h14c0.552 0 1 0.448 1 1s-0.448 1-1 1z\"></path>\n",
       "<path d=\"M23 18h-14c-0.552 0-1-0.448-1-1s0.448-1 1-1h14c0.552 0 1 0.448 1 1s-0.448 1-1 1z\"></path>\n",
       "</symbol>\n",
       "</defs>\n",
       "</svg>\n",
       "<style>/* CSS stylesheet for displaying xarray objects in jupyterlab.\n",
       " *\n",
       " */\n",
       "\n",
       ":root {\n",
       "  --xr-font-color0: var(--jp-content-font-color0, rgba(0, 0, 0, 1));\n",
       "  --xr-font-color2: var(--jp-content-font-color2, rgba(0, 0, 0, 0.54));\n",
       "  --xr-font-color3: var(--jp-content-font-color3, rgba(0, 0, 0, 0.38));\n",
       "  --xr-border-color: var(--jp-border-color2, #e0e0e0);\n",
       "  --xr-disabled-color: var(--jp-layout-color3, #bdbdbd);\n",
       "  --xr-background-color: var(--jp-layout-color0, white);\n",
       "  --xr-background-color-row-even: var(--jp-layout-color1, white);\n",
       "  --xr-background-color-row-odd: var(--jp-layout-color2, #eeeeee);\n",
       "}\n",
       "\n",
       "html[theme=\"dark\"],\n",
       "html[data-theme=\"dark\"],\n",
       "body[data-theme=\"dark\"],\n",
       "body.vscode-dark {\n",
       "  --xr-font-color0: rgba(255, 255, 255, 1);\n",
       "  --xr-font-color2: rgba(255, 255, 255, 0.54);\n",
       "  --xr-font-color3: rgba(255, 255, 255, 0.38);\n",
       "  --xr-border-color: #1f1f1f;\n",
       "  --xr-disabled-color: #515151;\n",
       "  --xr-background-color: #111111;\n",
       "  --xr-background-color-row-even: #111111;\n",
       "  --xr-background-color-row-odd: #313131;\n",
       "}\n",
       "\n",
       ".xr-wrap {\n",
       "  display: block !important;\n",
       "  min-width: 300px;\n",
       "  max-width: 700px;\n",
       "}\n",
       "\n",
       ".xr-text-repr-fallback {\n",
       "  /* fallback to plain text repr when CSS is not injected (untrusted notebook) */\n",
       "  display: none;\n",
       "}\n",
       "\n",
       ".xr-header {\n",
       "  padding-top: 6px;\n",
       "  padding-bottom: 6px;\n",
       "  margin-bottom: 4px;\n",
       "  border-bottom: solid 1px var(--xr-border-color);\n",
       "}\n",
       "\n",
       ".xr-header > div,\n",
       ".xr-header > ul {\n",
       "  display: inline;\n",
       "  margin-top: 0;\n",
       "  margin-bottom: 0;\n",
       "}\n",
       "\n",
       ".xr-obj-type,\n",
       ".xr-array-name {\n",
       "  margin-left: 2px;\n",
       "  margin-right: 10px;\n",
       "}\n",
       "\n",
       ".xr-obj-type {\n",
       "  color: var(--xr-font-color2);\n",
       "}\n",
       "\n",
       ".xr-sections {\n",
       "  padding-left: 0 !important;\n",
       "  display: grid;\n",
       "  grid-template-columns: 150px auto auto 1fr 0 20px 0 20px;\n",
       "}\n",
       "\n",
       ".xr-section-item {\n",
       "  display: contents;\n",
       "}\n",
       "\n",
       ".xr-section-item input {\n",
       "  display: inline-block;\n",
       "  opacity: 0;\n",
       "  height: 0;\n",
       "}\n",
       "\n",
       ".xr-section-item input + label {\n",
       "  color: var(--xr-disabled-color);\n",
       "}\n",
       "\n",
       ".xr-section-item input:enabled + label {\n",
       "  cursor: pointer;\n",
       "  color: var(--xr-font-color2);\n",
       "}\n",
       "\n",
       ".xr-section-item input:focus + label {\n",
       "  border: 2px solid var(--xr-font-color0);\n",
       "}\n",
       "\n",
       ".xr-section-item input:enabled + label:hover {\n",
       "  color: var(--xr-font-color0);\n",
       "}\n",
       "\n",
       ".xr-section-summary {\n",
       "  grid-column: 1;\n",
       "  color: var(--xr-font-color2);\n",
       "  font-weight: 500;\n",
       "}\n",
       "\n",
       ".xr-section-summary > span {\n",
       "  display: inline-block;\n",
       "  padding-left: 0.5em;\n",
       "}\n",
       "\n",
       ".xr-section-summary-in:disabled + label {\n",
       "  color: var(--xr-font-color2);\n",
       "}\n",
       "\n",
       ".xr-section-summary-in + label:before {\n",
       "  display: inline-block;\n",
       "  content: \"►\";\n",
       "  font-size: 11px;\n",
       "  width: 15px;\n",
       "  text-align: center;\n",
       "}\n",
       "\n",
       ".xr-section-summary-in:disabled + label:before {\n",
       "  color: var(--xr-disabled-color);\n",
       "}\n",
       "\n",
       ".xr-section-summary-in:checked + label:before {\n",
       "  content: \"▼\";\n",
       "}\n",
       "\n",
       ".xr-section-summary-in:checked + label > span {\n",
       "  display: none;\n",
       "}\n",
       "\n",
       ".xr-section-summary,\n",
       ".xr-section-inline-details {\n",
       "  padding-top: 4px;\n",
       "  padding-bottom: 4px;\n",
       "}\n",
       "\n",
       ".xr-section-inline-details {\n",
       "  grid-column: 2 / -1;\n",
       "}\n",
       "\n",
       ".xr-section-details {\n",
       "  display: none;\n",
       "  grid-column: 1 / -1;\n",
       "  margin-bottom: 5px;\n",
       "}\n",
       "\n",
       ".xr-section-summary-in:checked ~ .xr-section-details {\n",
       "  display: contents;\n",
       "}\n",
       "\n",
       ".xr-array-wrap {\n",
       "  grid-column: 1 / -1;\n",
       "  display: grid;\n",
       "  grid-template-columns: 20px auto;\n",
       "}\n",
       "\n",
       ".xr-array-wrap > label {\n",
       "  grid-column: 1;\n",
       "  vertical-align: top;\n",
       "}\n",
       "\n",
       ".xr-preview {\n",
       "  color: var(--xr-font-color3);\n",
       "}\n",
       "\n",
       ".xr-array-preview,\n",
       ".xr-array-data {\n",
       "  padding: 0 5px !important;\n",
       "  grid-column: 2;\n",
       "}\n",
       "\n",
       ".xr-array-data,\n",
       ".xr-array-in:checked ~ .xr-array-preview {\n",
       "  display: none;\n",
       "}\n",
       "\n",
       ".xr-array-in:checked ~ .xr-array-data,\n",
       ".xr-array-preview {\n",
       "  display: inline-block;\n",
       "}\n",
       "\n",
       ".xr-dim-list {\n",
       "  display: inline-block !important;\n",
       "  list-style: none;\n",
       "  padding: 0 !important;\n",
       "  margin: 0;\n",
       "}\n",
       "\n",
       ".xr-dim-list li {\n",
       "  display: inline-block;\n",
       "  padding: 0;\n",
       "  margin: 0;\n",
       "}\n",
       "\n",
       ".xr-dim-list:before {\n",
       "  content: \"(\";\n",
       "}\n",
       "\n",
       ".xr-dim-list:after {\n",
       "  content: \")\";\n",
       "}\n",
       "\n",
       ".xr-dim-list li:not(:last-child):after {\n",
       "  content: \",\";\n",
       "  padding-right: 5px;\n",
       "}\n",
       "\n",
       ".xr-has-index {\n",
       "  font-weight: bold;\n",
       "}\n",
       "\n",
       ".xr-var-list,\n",
       ".xr-var-item {\n",
       "  display: contents;\n",
       "}\n",
       "\n",
       ".xr-var-item > div,\n",
       ".xr-var-item label,\n",
       ".xr-var-item > .xr-var-name span {\n",
       "  background-color: var(--xr-background-color-row-even);\n",
       "  margin-bottom: 0;\n",
       "}\n",
       "\n",
       ".xr-var-item > .xr-var-name:hover span {\n",
       "  padding-right: 5px;\n",
       "}\n",
       "\n",
       ".xr-var-list > li:nth-child(odd) > div,\n",
       ".xr-var-list > li:nth-child(odd) > label,\n",
       ".xr-var-list > li:nth-child(odd) > .xr-var-name span {\n",
       "  background-color: var(--xr-background-color-row-odd);\n",
       "}\n",
       "\n",
       ".xr-var-name {\n",
       "  grid-column: 1;\n",
       "}\n",
       "\n",
       ".xr-var-dims {\n",
       "  grid-column: 2;\n",
       "}\n",
       "\n",
       ".xr-var-dtype {\n",
       "  grid-column: 3;\n",
       "  text-align: right;\n",
       "  color: var(--xr-font-color2);\n",
       "}\n",
       "\n",
       ".xr-var-preview {\n",
       "  grid-column: 4;\n",
       "}\n",
       "\n",
       ".xr-index-preview {\n",
       "  grid-column: 2 / 5;\n",
       "  color: var(--xr-font-color2);\n",
       "}\n",
       "\n",
       ".xr-var-name,\n",
       ".xr-var-dims,\n",
       ".xr-var-dtype,\n",
       ".xr-preview,\n",
       ".xr-attrs dt {\n",
       "  white-space: nowrap;\n",
       "  overflow: hidden;\n",
       "  text-overflow: ellipsis;\n",
       "  padding-right: 10px;\n",
       "}\n",
       "\n",
       ".xr-var-name:hover,\n",
       ".xr-var-dims:hover,\n",
       ".xr-var-dtype:hover,\n",
       ".xr-attrs dt:hover {\n",
       "  overflow: visible;\n",
       "  width: auto;\n",
       "  z-index: 1;\n",
       "}\n",
       "\n",
       ".xr-var-attrs,\n",
       ".xr-var-data,\n",
       ".xr-index-data {\n",
       "  display: none;\n",
       "  background-color: var(--xr-background-color) !important;\n",
       "  padding-bottom: 5px !important;\n",
       "}\n",
       "\n",
       ".xr-var-attrs-in:checked ~ .xr-var-attrs,\n",
       ".xr-var-data-in:checked ~ .xr-var-data,\n",
       ".xr-index-data-in:checked ~ .xr-index-data {\n",
       "  display: block;\n",
       "}\n",
       "\n",
       ".xr-var-data > table {\n",
       "  float: right;\n",
       "}\n",
       "\n",
       ".xr-var-name span,\n",
       ".xr-var-data,\n",
       ".xr-index-name div,\n",
       ".xr-index-data,\n",
       ".xr-attrs {\n",
       "  padding-left: 25px !important;\n",
       "}\n",
       "\n",
       ".xr-attrs,\n",
       ".xr-var-attrs,\n",
       ".xr-var-data,\n",
       ".xr-index-data {\n",
       "  grid-column: 1 / -1;\n",
       "}\n",
       "\n",
       "dl.xr-attrs {\n",
       "  padding: 0;\n",
       "  margin: 0;\n",
       "  display: grid;\n",
       "  grid-template-columns: 125px auto;\n",
       "}\n",
       "\n",
       ".xr-attrs dt,\n",
       ".xr-attrs dd {\n",
       "  padding: 0;\n",
       "  margin: 0;\n",
       "  float: left;\n",
       "  padding-right: 10px;\n",
       "  width: auto;\n",
       "}\n",
       "\n",
       ".xr-attrs dt {\n",
       "  font-weight: normal;\n",
       "  grid-column: 1;\n",
       "}\n",
       "\n",
       ".xr-attrs dt:hover span {\n",
       "  display: inline-block;\n",
       "  background: var(--xr-background-color);\n",
       "  padding-right: 10px;\n",
       "}\n",
       "\n",
       ".xr-attrs dd {\n",
       "  grid-column: 2;\n",
       "  white-space: pre-wrap;\n",
       "  word-break: break-all;\n",
       "}\n",
       "\n",
       ".xr-icon-database,\n",
       ".xr-icon-file-text2,\n",
       ".xr-no-icon {\n",
       "  display: inline-block;\n",
       "  vertical-align: middle;\n",
       "  width: 1em;\n",
       "  height: 1.5em !important;\n",
       "  stroke-width: 0;\n",
       "  stroke: currentColor;\n",
       "  fill: currentColor;\n",
       "}\n",
       "</style><pre class='xr-text-repr-fallback'>&lt;xarray.Dataset&gt; Size: 1GB\n",
       "Dimensions:           (time: 579, is_day: 2, latitude: 12, longitude: 31,\n",
       "                       depth: 66)\n",
       "Coordinates:\n",
       "  * longitude         (longitude) float64 248B -157.5 -156.5 ... -128.5 -127.5\n",
       "  * latitude          (latitude) float64 96B 46.5 47.5 48.5 ... 55.5 56.5 57.5\n",
       "  * is_day            (is_day) bool 2B False True\n",
       "  * depth             (depth) float64 528B 34.0 35.0 37.0 ... 261.0 276.0 295.0\n",
       "  * time              (time) datetime64[ns] 5kB 1998-01-19 ... 2020-08-31\n",
       "Data variables:\n",
       "    epipelagic_depth  (time, is_day, latitude, longitude, depth) float64 227MB ...\n",
       "    pteropods         (time, is_day, latitude, longitude, depth) float64 227MB ...\n",
       "    mesh_size         (time, is_day, latitude, longitude, depth) float64 227MB ...\n",
       "    total             (time, is_day, latitude, longitude, depth) float64 227MB ...\n",
       "    volume_filtered   (time, is_day, latitude, longitude, depth) float64 227MB ...</pre><div class='xr-wrap' style='display:none'><div class='xr-header'><div class='xr-obj-type'>xarray.Dataset</div></div><ul class='xr-sections'><li class='xr-section-item'><input id='section-304af158-4fcf-46c7-969a-91c057d8e5ad' class='xr-section-summary-in' type='checkbox' disabled ><label for='section-304af158-4fcf-46c7-969a-91c057d8e5ad' class='xr-section-summary'  title='Expand/collapse section'>Dimensions:</label><div class='xr-section-inline-details'><ul class='xr-dim-list'><li><span class='xr-has-index'>time</span>: 579</li><li><span class='xr-has-index'>is_day</span>: 2</li><li><span class='xr-has-index'>latitude</span>: 12</li><li><span class='xr-has-index'>longitude</span>: 31</li><li><span class='xr-has-index'>depth</span>: 66</li></ul></div><div class='xr-section-details'></div></li><li class='xr-section-item'><input id='section-6071a34a-6d9c-47bd-8e1b-30eed7a96382' class='xr-section-summary-in' type='checkbox'  checked><label for='section-6071a34a-6d9c-47bd-8e1b-30eed7a96382' class='xr-section-summary' >Coordinates: <span>(5)</span></label><div class='xr-section-inline-details'></div><div class='xr-section-details'><ul class='xr-var-list'><li class='xr-var-item'><div class='xr-var-name'><span class='xr-has-index'>longitude</span></div><div class='xr-var-dims'>(longitude)</div><div class='xr-var-dtype'>float64</div><div class='xr-var-preview xr-preview'>-157.5 -156.5 ... -128.5 -127.5</div><input id='attrs-9df10caa-075a-461a-ae37-bd4b75f8163b' class='xr-var-attrs-in' type='checkbox' ><label for='attrs-9df10caa-075a-461a-ae37-bd4b75f8163b' title='Show/Hide attributes'><svg class='icon xr-icon-file-text2'><use xlink:href='#icon-file-text2'></use></svg></label><input id='data-550a0a10-1c8e-4b3f-87ac-7619d0baefd7' class='xr-var-data-in' type='checkbox'><label for='data-550a0a10-1c8e-4b3f-87ac-7619d0baefd7' title='Show/Hide data repr'><svg class='icon xr-icon-database'><use xlink:href='#icon-database'></use></svg></label><div class='xr-var-attrs'><dl class='xr-attrs'><dt><span>standard_name :</span></dt><dd>longitude</dd><dt><span>long_name :</span></dt><dd>longitude</dd><dt><span>axis :</span></dt><dd>X</dd><dt><span>units :</span></dt><dd>degrees_east</dd></dl></div><div class='xr-var-data'><pre>array([-157.5, -156.5, -155.5, -154.5, -153.5, -152.5, -151.5, -150.5, -149.5,\n",
       "       -148.5, -147.5, -146.5, -145.5, -144.5, -143.5, -142.5, -141.5, -140.5,\n",
       "       -139.5, -138.5, -137.5, -136.5, -135.5, -134.5, -133.5, -132.5, -131.5,\n",
       "       -130.5, -129.5, -128.5, -127.5])</pre></div></li><li class='xr-var-item'><div class='xr-var-name'><span class='xr-has-index'>latitude</span></div><div class='xr-var-dims'>(latitude)</div><div class='xr-var-dtype'>float64</div><div class='xr-var-preview xr-preview'>46.5 47.5 48.5 ... 55.5 56.5 57.5</div><input id='attrs-653b0f16-514f-4270-8cfb-6d1baa4b925c' class='xr-var-attrs-in' type='checkbox' ><label for='attrs-653b0f16-514f-4270-8cfb-6d1baa4b925c' title='Show/Hide attributes'><svg class='icon xr-icon-file-text2'><use xlink:href='#icon-file-text2'></use></svg></label><input id='data-f2e7ab21-73b4-420d-8e44-e7626f9cb205' class='xr-var-data-in' type='checkbox'><label for='data-f2e7ab21-73b4-420d-8e44-e7626f9cb205' title='Show/Hide data repr'><svg class='icon xr-icon-database'><use xlink:href='#icon-database'></use></svg></label><div class='xr-var-attrs'><dl class='xr-attrs'><dt><span>standard_name :</span></dt><dd>latitude</dd><dt><span>long_name :</span></dt><dd>latitude</dd><dt><span>axis :</span></dt><dd>Y</dd><dt><span>units :</span></dt><dd>degrees_north</dd></dl></div><div class='xr-var-data'><pre>array([46.5, 47.5, 48.5, 49.5, 50.5, 51.5, 52.5, 53.5, 54.5, 55.5, 56.5, 57.5])</pre></div></li><li class='xr-var-item'><div class='xr-var-name'><span class='xr-has-index'>is_day</span></div><div class='xr-var-dims'>(is_day)</div><div class='xr-var-dtype'>bool</div><div class='xr-var-preview xr-preview'>False True</div><input id='attrs-b0ba6d49-64b4-4a2a-a247-7d6c91aa7287' class='xr-var-attrs-in' type='checkbox' ><label for='attrs-b0ba6d49-64b4-4a2a-a247-7d6c91aa7287' title='Show/Hide attributes'><svg class='icon xr-icon-file-text2'><use xlink:href='#icon-file-text2'></use></svg></label><input id='data-f2918c74-1829-431b-8203-de55695e29c0' class='xr-var-data-in' type='checkbox'><label for='data-f2918c74-1829-431b-8203-de55695e29c0' title='Show/Hide data repr'><svg class='icon xr-icon-database'><use xlink:href='#icon-database'></use></svg></label><div class='xr-var-attrs'><dl class='xr-attrs'><dt><span>flag_values :</span></dt><dd>[True, False]</dd><dt><span>flag_meanings :</span></dt><dd>day night</dd><dt><span>standard_name :</span></dt><dd>is_day</dd><dt><span>long_name :</span></dt><dd>Is day</dd><dt><span>description :</span></dt><dd>Flag to indicate if the time is during the day or night</dd></dl></div><div class='xr-var-data'><pre>array([False,  True])</pre></div></li><li class='xr-var-item'><div class='xr-var-name'><span class='xr-has-index'>depth</span></div><div class='xr-var-dims'>(depth)</div><div class='xr-var-dtype'>float64</div><div class='xr-var-preview xr-preview'>34.0 35.0 37.0 ... 276.0 295.0</div><input id='attrs-f4224d4d-d4a5-4f9d-bd98-3c686f6d23ce' class='xr-var-attrs-in' type='checkbox' ><label for='attrs-f4224d4d-d4a5-4f9d-bd98-3c686f6d23ce' title='Show/Hide attributes'><svg class='icon xr-icon-file-text2'><use xlink:href='#icon-file-text2'></use></svg></label><input id='data-d5931437-5542-4e01-bc75-3ad18a8bb54c' class='xr-var-data-in' type='checkbox'><label for='data-d5931437-5542-4e01-bc75-3ad18a8bb54c' title='Show/Hide data repr'><svg class='icon xr-icon-database'><use xlink:href='#icon-database'></use></svg></label><div class='xr-var-attrs'><dl class='xr-attrs'><dt><span>standard_name :</span></dt><dd>depth</dd><dt><span>long_name :</span></dt><dd>depth</dd><dt><span>axis :</span></dt><dd>Z</dd><dt><span>units :</span></dt><dd>m</dd></dl></div><div class='xr-var-data'><pre>array([ 34.,  35.,  37.,  48.,  49.,  50.,  52.,  57.,  98.,  99., 100., 101.,\n",
       "       103., 105., 109., 121., 130., 139., 140., 141., 144., 145., 146., 147.,\n",
       "       148., 149., 150., 151., 152., 153., 154., 155., 156., 158., 159., 160.,\n",
       "       163., 164., 171., 192., 207., 213., 216., 217., 227., 229., 230., 235.,\n",
       "       238., 239., 240., 241., 244., 245., 246., 248., 249., 250., 251., 254.,\n",
       "       256., 257., 258., 261., 276., 295.])</pre></div></li><li class='xr-var-item'><div class='xr-var-name'><span class='xr-has-index'>time</span></div><div class='xr-var-dims'>(time)</div><div class='xr-var-dtype'>datetime64[ns]</div><div class='xr-var-preview xr-preview'>1998-01-19 ... 2020-08-31</div><input id='attrs-8f840f88-e261-427e-b100-3579f0ea5f25' class='xr-var-attrs-in' type='checkbox' ><label for='attrs-8f840f88-e261-427e-b100-3579f0ea5f25' title='Show/Hide attributes'><svg class='icon xr-icon-file-text2'><use xlink:href='#icon-file-text2'></use></svg></label><input id='data-8dcd1b89-5bdd-485d-96c9-c4d473bcf485' class='xr-var-data-in' type='checkbox'><label for='data-8dcd1b89-5bdd-485d-96c9-c4d473bcf485' title='Show/Hide data repr'><svg class='icon xr-icon-database'><use xlink:href='#icon-database'></use></svg></label><div class='xr-var-attrs'><dl class='xr-attrs'><dt><span>standard_name :</span></dt><dd>time</dd><dt><span>long_name :</span></dt><dd>time</dd><dt><span>axis :</span></dt><dd>T</dd></dl></div><div class='xr-var-data'><pre>array([&#x27;1998-01-19T00:00:00.000000000&#x27;, &#x27;1998-01-20T00:00:00.000000000&#x27;,\n",
       "       &#x27;1998-02-21T00:00:00.000000000&#x27;, ..., &#x27;2020-08-20T00:00:00.000000000&#x27;,\n",
       "       &#x27;2020-08-30T00:00:00.000000000&#x27;, &#x27;2020-08-31T00:00:00.000000000&#x27;],\n",
       "      dtype=&#x27;datetime64[ns]&#x27;)</pre></div></li></ul></div></li><li class='xr-section-item'><input id='section-db0b0424-7e43-4600-adff-d8b3ba2e99b4' class='xr-section-summary-in' type='checkbox'  checked><label for='section-db0b0424-7e43-4600-adff-d8b3ba2e99b4' class='xr-section-summary' >Data variables: <span>(5)</span></label><div class='xr-section-inline-details'></div><div class='xr-section-details'><ul class='xr-var-list'><li class='xr-var-item'><div class='xr-var-name'><span>epipelagic_depth</span></div><div class='xr-var-dims'>(time, is_day, latitude, longitude, depth)</div><div class='xr-var-dtype'>float64</div><div class='xr-var-preview xr-preview'>nan nan nan nan ... nan nan nan nan</div><input id='attrs-b7435168-6262-4753-8147-f045995ba442' class='xr-var-attrs-in' type='checkbox' ><label for='attrs-b7435168-6262-4753-8147-f045995ba442' title='Show/Hide attributes'><svg class='icon xr-icon-file-text2'><use xlink:href='#icon-file-text2'></use></svg></label><input id='data-2019a706-46ce-428c-ab9c-8db9982c868c' class='xr-var-data-in' type='checkbox'><label for='data-2019a706-46ce-428c-ab9c-8db9982c868c' title='Show/Hide data repr'><svg class='icon xr-icon-database'><use xlink:href='#icon-database'></use></svg></label><div class='xr-var-attrs'><dl class='xr-attrs'><dt><span>standard_name :</span></dt><dd>epipelagic_depth</dd><dt><span>long_name :</span></dt><dd>epipelagic depth - observed data (CMEMS)</dd><dt><span>units :</span></dt><dd>m</dd></dl></div><div class='xr-var-data'><pre>array([[[[[nan, nan, nan, ..., nan, nan, nan],\n",
       "          [nan, nan, nan, ..., nan, nan, nan],\n",
       "          [nan, nan, nan, ..., nan, nan, nan],\n",
       "          ...,\n",
       "          [nan, nan, nan, ..., nan, nan, nan],\n",
       "          [nan, nan, nan, ..., nan, nan, nan],\n",
       "          [nan, nan, nan, ..., nan, nan, nan]],\n",
       "\n",
       "         [[nan, nan, nan, ..., nan, nan, nan],\n",
       "          [nan, nan, nan, ..., nan, nan, nan],\n",
       "          [nan, nan, nan, ..., nan, nan, nan],\n",
       "          ...,\n",
       "          [nan, nan, nan, ..., nan, nan, nan],\n",
       "          [nan, nan, nan, ..., nan, nan, nan],\n",
       "          [nan, nan, nan, ..., nan, nan, nan]],\n",
       "\n",
       "         [[nan, nan, nan, ..., nan, nan, nan],\n",
       "          [nan, nan, nan, ..., nan, nan, nan],\n",
       "          [nan, nan, nan, ..., nan, nan, nan],\n",
       "          ...,\n",
       "...\n",
       "          ...,\n",
       "          [nan, nan, nan, ..., nan, nan, nan],\n",
       "          [nan, nan, nan, ..., nan, nan, nan],\n",
       "          [nan, nan, nan, ..., nan, nan, nan]],\n",
       "\n",
       "         [[nan, nan, nan, ..., nan, nan, nan],\n",
       "          [nan, nan, nan, ..., nan, nan, nan],\n",
       "          [nan, nan, nan, ..., nan, nan, nan],\n",
       "          ...,\n",
       "          [nan, nan, nan, ..., nan, nan, nan],\n",
       "          [nan, nan, nan, ..., nan, nan, nan],\n",
       "          [nan, nan, nan, ..., nan, nan, nan]],\n",
       "\n",
       "         [[nan, nan, nan, ..., nan, nan, nan],\n",
       "          [nan, nan, nan, ..., nan, nan, nan],\n",
       "          [nan, nan, nan, ..., nan, nan, nan],\n",
       "          ...,\n",
       "          [nan, nan, nan, ..., nan, nan, nan],\n",
       "          [nan, nan, nan, ..., nan, nan, nan],\n",
       "          [nan, nan, nan, ..., nan, nan, nan]]]]])</pre></div></li><li class='xr-var-item'><div class='xr-var-name'><span>pteropods</span></div><div class='xr-var-dims'>(time, is_day, latitude, longitude, depth)</div><div class='xr-var-dtype'>float64</div><div class='xr-var-preview xr-preview'>nan nan nan nan ... nan nan nan nan</div><input id='attrs-0f076f3a-2499-4a86-91ad-26fd74bbc340' class='xr-var-attrs-in' type='checkbox' ><label for='attrs-0f076f3a-2499-4a86-91ad-26fd74bbc340' title='Show/Hide attributes'><svg class='icon xr-icon-file-text2'><use xlink:href='#icon-file-text2'></use></svg></label><input id='data-af433973-6248-44b9-b3d0-e4a13d4174f9' class='xr-var-data-in' type='checkbox'><label for='data-af433973-6248-44b9-b3d0-e4a13d4174f9' title='Show/Hide data repr'><svg class='icon xr-icon-database'><use xlink:href='#icon-database'></use></svg></label><div class='xr-var-attrs'><dl class='xr-attrs'><dt><span>standard_name :</span></dt><dd>pteropods</dd><dt><span>long_name :</span></dt><dd>dry weight of pteropods zooplankton</dd><dt><span>units :</span></dt><dd>mg/m3</dd></dl></div><div class='xr-var-data'><pre>array([[[[[nan, nan, nan, ..., nan, nan, nan],\n",
       "          [nan, nan, nan, ..., nan, nan, nan],\n",
       "          [nan, nan, nan, ..., nan, nan, nan],\n",
       "          ...,\n",
       "          [nan, nan, nan, ..., nan, nan, nan],\n",
       "          [nan, nan, nan, ..., nan, nan, nan],\n",
       "          [nan, nan, nan, ..., nan, nan, nan]],\n",
       "\n",
       "         [[nan, nan, nan, ..., nan, nan, nan],\n",
       "          [nan, nan, nan, ..., nan, nan, nan],\n",
       "          [nan, nan, nan, ..., nan, nan, nan],\n",
       "          ...,\n",
       "          [nan, nan, nan, ..., nan, nan, nan],\n",
       "          [nan, nan, nan, ..., nan, nan, nan],\n",
       "          [nan, nan, nan, ..., nan, nan, nan]],\n",
       "\n",
       "         [[nan, nan, nan, ..., nan, nan, nan],\n",
       "          [nan, nan, nan, ..., nan, nan, nan],\n",
       "          [nan, nan, nan, ..., nan, nan, nan],\n",
       "          ...,\n",
       "...\n",
       "          ...,\n",
       "          [nan, nan, nan, ..., nan, nan, nan],\n",
       "          [nan, nan, nan, ..., nan, nan, nan],\n",
       "          [nan, nan, nan, ..., nan, nan, nan]],\n",
       "\n",
       "         [[nan, nan, nan, ..., nan, nan, nan],\n",
       "          [nan, nan, nan, ..., nan, nan, nan],\n",
       "          [nan, nan, nan, ..., nan, nan, nan],\n",
       "          ...,\n",
       "          [nan, nan, nan, ..., nan, nan, nan],\n",
       "          [nan, nan, nan, ..., nan, nan, nan],\n",
       "          [nan, nan, nan, ..., nan, nan, nan]],\n",
       "\n",
       "         [[nan, nan, nan, ..., nan, nan, nan],\n",
       "          [nan, nan, nan, ..., nan, nan, nan],\n",
       "          [nan, nan, nan, ..., nan, nan, nan],\n",
       "          ...,\n",
       "          [nan, nan, nan, ..., nan, nan, nan],\n",
       "          [nan, nan, nan, ..., nan, nan, nan],\n",
       "          [nan, nan, nan, ..., nan, nan, nan]]]]])</pre></div></li><li class='xr-var-item'><div class='xr-var-name'><span>mesh_size</span></div><div class='xr-var-dims'>(time, is_day, latitude, longitude, depth)</div><div class='xr-var-dtype'>float64</div><div class='xr-var-preview xr-preview'>nan nan nan nan ... nan nan nan nan</div><input id='attrs-5d813545-a57f-47d8-aac5-3bf757b70823' class='xr-var-attrs-in' type='checkbox' ><label for='attrs-5d813545-a57f-47d8-aac5-3bf757b70823' title='Show/Hide attributes'><svg class='icon xr-icon-file-text2'><use xlink:href='#icon-file-text2'></use></svg></label><input id='data-a26d724b-709f-482f-9d37-32e04df87280' class='xr-var-data-in' type='checkbox'><label for='data-a26d724b-709f-482f-9d37-32e04df87280' title='Show/Hide data repr'><svg class='icon xr-icon-database'><use xlink:href='#icon-database'></use></svg></label><div class='xr-var-attrs'><dl class='xr-attrs'><dt><span>standard_name :</span></dt><dd>mesh_size</dd><dt><span>long_name :</span></dt><dd>net mesh size</dd><dt><span>units :</span></dt><dd>um</dd></dl></div><div class='xr-var-data'><pre>array([[[[[nan, nan, nan, ..., nan, nan, nan],\n",
       "          [nan, nan, nan, ..., nan, nan, nan],\n",
       "          [nan, nan, nan, ..., nan, nan, nan],\n",
       "          ...,\n",
       "          [nan, nan, nan, ..., nan, nan, nan],\n",
       "          [nan, nan, nan, ..., nan, nan, nan],\n",
       "          [nan, nan, nan, ..., nan, nan, nan]],\n",
       "\n",
       "         [[nan, nan, nan, ..., nan, nan, nan],\n",
       "          [nan, nan, nan, ..., nan, nan, nan],\n",
       "          [nan, nan, nan, ..., nan, nan, nan],\n",
       "          ...,\n",
       "          [nan, nan, nan, ..., nan, nan, nan],\n",
       "          [nan, nan, nan, ..., nan, nan, nan],\n",
       "          [nan, nan, nan, ..., nan, nan, nan]],\n",
       "\n",
       "         [[nan, nan, nan, ..., nan, nan, nan],\n",
       "          [nan, nan, nan, ..., nan, nan, nan],\n",
       "          [nan, nan, nan, ..., nan, nan, nan],\n",
       "          ...,\n",
       "...\n",
       "          ...,\n",
       "          [nan, nan, nan, ..., nan, nan, nan],\n",
       "          [nan, nan, nan, ..., nan, nan, nan],\n",
       "          [nan, nan, nan, ..., nan, nan, nan]],\n",
       "\n",
       "         [[nan, nan, nan, ..., nan, nan, nan],\n",
       "          [nan, nan, nan, ..., nan, nan, nan],\n",
       "          [nan, nan, nan, ..., nan, nan, nan],\n",
       "          ...,\n",
       "          [nan, nan, nan, ..., nan, nan, nan],\n",
       "          [nan, nan, nan, ..., nan, nan, nan],\n",
       "          [nan, nan, nan, ..., nan, nan, nan]],\n",
       "\n",
       "         [[nan, nan, nan, ..., nan, nan, nan],\n",
       "          [nan, nan, nan, ..., nan, nan, nan],\n",
       "          [nan, nan, nan, ..., nan, nan, nan],\n",
       "          ...,\n",
       "          [nan, nan, nan, ..., nan, nan, nan],\n",
       "          [nan, nan, nan, ..., nan, nan, nan],\n",
       "          [nan, nan, nan, ..., nan, nan, nan]]]]])</pre></div></li><li class='xr-var-item'><div class='xr-var-name'><span>total</span></div><div class='xr-var-dims'>(time, is_day, latitude, longitude, depth)</div><div class='xr-var-dtype'>float64</div><div class='xr-var-preview xr-preview'>nan nan nan nan ... nan nan nan nan</div><input id='attrs-b315c594-ff72-4f20-87a7-f472df580f4d' class='xr-var-attrs-in' type='checkbox' ><label for='attrs-b315c594-ff72-4f20-87a7-f472df580f4d' title='Show/Hide attributes'><svg class='icon xr-icon-file-text2'><use xlink:href='#icon-file-text2'></use></svg></label><input id='data-44f5c383-7478-4cd7-b8f9-a2df2e6e2a29' class='xr-var-data-in' type='checkbox'><label for='data-44f5c383-7478-4cd7-b8f9-a2df2e6e2a29' title='Show/Hide data repr'><svg class='icon xr-icon-database'><use xlink:href='#icon-database'></use></svg></label><div class='xr-var-attrs'><dl class='xr-attrs'><dt><span>standard_name :</span></dt><dd>total</dd><dt><span>long_name :</span></dt><dd>dry weight of total zooplankton</dd><dt><span>units :</span></dt><dd>mg/m3</dd></dl></div><div class='xr-var-data'><pre>array([[[[[nan, nan, nan, ..., nan, nan, nan],\n",
       "          [nan, nan, nan, ..., nan, nan, nan],\n",
       "          [nan, nan, nan, ..., nan, nan, nan],\n",
       "          ...,\n",
       "          [nan, nan, nan, ..., nan, nan, nan],\n",
       "          [nan, nan, nan, ..., nan, nan, nan],\n",
       "          [nan, nan, nan, ..., nan, nan, nan]],\n",
       "\n",
       "         [[nan, nan, nan, ..., nan, nan, nan],\n",
       "          [nan, nan, nan, ..., nan, nan, nan],\n",
       "          [nan, nan, nan, ..., nan, nan, nan],\n",
       "          ...,\n",
       "          [nan, nan, nan, ..., nan, nan, nan],\n",
       "          [nan, nan, nan, ..., nan, nan, nan],\n",
       "          [nan, nan, nan, ..., nan, nan, nan]],\n",
       "\n",
       "         [[nan, nan, nan, ..., nan, nan, nan],\n",
       "          [nan, nan, nan, ..., nan, nan, nan],\n",
       "          [nan, nan, nan, ..., nan, nan, nan],\n",
       "          ...,\n",
       "...\n",
       "          ...,\n",
       "          [nan, nan, nan, ..., nan, nan, nan],\n",
       "          [nan, nan, nan, ..., nan, nan, nan],\n",
       "          [nan, nan, nan, ..., nan, nan, nan]],\n",
       "\n",
       "         [[nan, nan, nan, ..., nan, nan, nan],\n",
       "          [nan, nan, nan, ..., nan, nan, nan],\n",
       "          [nan, nan, nan, ..., nan, nan, nan],\n",
       "          ...,\n",
       "          [nan, nan, nan, ..., nan, nan, nan],\n",
       "          [nan, nan, nan, ..., nan, nan, nan],\n",
       "          [nan, nan, nan, ..., nan, nan, nan]],\n",
       "\n",
       "         [[nan, nan, nan, ..., nan, nan, nan],\n",
       "          [nan, nan, nan, ..., nan, nan, nan],\n",
       "          [nan, nan, nan, ..., nan, nan, nan],\n",
       "          ...,\n",
       "          [nan, nan, nan, ..., nan, nan, nan],\n",
       "          [nan, nan, nan, ..., nan, nan, nan],\n",
       "          [nan, nan, nan, ..., nan, nan, nan]]]]])</pre></div></li><li class='xr-var-item'><div class='xr-var-name'><span>volume_filtered</span></div><div class='xr-var-dims'>(time, is_day, latitude, longitude, depth)</div><div class='xr-var-dtype'>float64</div><div class='xr-var-preview xr-preview'>nan nan nan nan ... nan nan nan nan</div><input id='attrs-68c19326-6fb6-4cb2-b494-1b9ff7541105' class='xr-var-attrs-in' type='checkbox' ><label for='attrs-68c19326-6fb6-4cb2-b494-1b9ff7541105' title='Show/Hide attributes'><svg class='icon xr-icon-file-text2'><use xlink:href='#icon-file-text2'></use></svg></label><input id='data-9e0f18f7-e899-44bc-a8f4-790e93147fb9' class='xr-var-data-in' type='checkbox'><label for='data-9e0f18f7-e899-44bc-a8f4-790e93147fb9' title='Show/Hide data repr'><svg class='icon xr-icon-database'><use xlink:href='#icon-database'></use></svg></label><div class='xr-var-attrs'><dl class='xr-attrs'><dt><span>standard_name :</span></dt><dd>volume</dd><dt><span>long_name :</span></dt><dd>filtered volume of water</dd><dt><span>units :</span></dt><dd>m3</dd></dl></div><div class='xr-var-data'><pre>array([[[[[nan, nan, nan, ..., nan, nan, nan],\n",
       "          [nan, nan, nan, ..., nan, nan, nan],\n",
       "          [nan, nan, nan, ..., nan, nan, nan],\n",
       "          ...,\n",
       "          [nan, nan, nan, ..., nan, nan, nan],\n",
       "          [nan, nan, nan, ..., nan, nan, nan],\n",
       "          [nan, nan, nan, ..., nan, nan, nan]],\n",
       "\n",
       "         [[nan, nan, nan, ..., nan, nan, nan],\n",
       "          [nan, nan, nan, ..., nan, nan, nan],\n",
       "          [nan, nan, nan, ..., nan, nan, nan],\n",
       "          ...,\n",
       "          [nan, nan, nan, ..., nan, nan, nan],\n",
       "          [nan, nan, nan, ..., nan, nan, nan],\n",
       "          [nan, nan, nan, ..., nan, nan, nan]],\n",
       "\n",
       "         [[nan, nan, nan, ..., nan, nan, nan],\n",
       "          [nan, nan, nan, ..., nan, nan, nan],\n",
       "          [nan, nan, nan, ..., nan, nan, nan],\n",
       "          ...,\n",
       "...\n",
       "          ...,\n",
       "          [nan, nan, nan, ..., nan, nan, nan],\n",
       "          [nan, nan, nan, ..., nan, nan, nan],\n",
       "          [nan, nan, nan, ..., nan, nan, nan]],\n",
       "\n",
       "         [[nan, nan, nan, ..., nan, nan, nan],\n",
       "          [nan, nan, nan, ..., nan, nan, nan],\n",
       "          [nan, nan, nan, ..., nan, nan, nan],\n",
       "          ...,\n",
       "          [nan, nan, nan, ..., nan, nan, nan],\n",
       "          [nan, nan, nan, ..., nan, nan, nan],\n",
       "          [nan, nan, nan, ..., nan, nan, nan]],\n",
       "\n",
       "         [[nan, nan, nan, ..., nan, nan, nan],\n",
       "          [nan, nan, nan, ..., nan, nan, nan],\n",
       "          [nan, nan, nan, ..., nan, nan, nan],\n",
       "          ...,\n",
       "          [nan, nan, nan, ..., nan, nan, nan],\n",
       "          [nan, nan, nan, ..., nan, nan, nan],\n",
       "          [nan, nan, nan, ..., nan, nan, nan]]]]])</pre></div></li></ul></div></li><li class='xr-section-item'><input id='section-c598dc78-fdf6-406c-bb71-772a1ded8962' class='xr-section-summary-in' type='checkbox'  ><label for='section-c598dc78-fdf6-406c-bb71-772a1ded8962' class='xr-section-summary' >Indexes: <span>(5)</span></label><div class='xr-section-inline-details'></div><div class='xr-section-details'><ul class='xr-var-list'><li class='xr-var-item'><div class='xr-index-name'><div>longitude</div></div><div class='xr-index-preview'>PandasIndex</div><input type='checkbox' disabled/><label></label><input id='index-70c3e42a-6e2a-42d4-bbe9-85ebad99f89b' class='xr-index-data-in' type='checkbox'/><label for='index-70c3e42a-6e2a-42d4-bbe9-85ebad99f89b' title='Show/Hide index repr'><svg class='icon xr-icon-database'><use xlink:href='#icon-database'></use></svg></label><div class='xr-index-data'><pre>PandasIndex(Index([-157.5, -156.5, -155.5, -154.5, -153.5, -152.5, -151.5, -150.5, -149.5,\n",
       "       -148.5, -147.5, -146.5, -145.5, -144.5, -143.5, -142.5, -141.5, -140.5,\n",
       "       -139.5, -138.5, -137.5, -136.5, -135.5, -134.5, -133.5, -132.5, -131.5,\n",
       "       -130.5, -129.5, -128.5, -127.5],\n",
       "      dtype=&#x27;float64&#x27;, name=&#x27;longitude&#x27;))</pre></div></li><li class='xr-var-item'><div class='xr-index-name'><div>latitude</div></div><div class='xr-index-preview'>PandasIndex</div><input type='checkbox' disabled/><label></label><input id='index-f2ed89e5-0b14-4bc1-bccf-a115b7fee51c' class='xr-index-data-in' type='checkbox'/><label for='index-f2ed89e5-0b14-4bc1-bccf-a115b7fee51c' title='Show/Hide index repr'><svg class='icon xr-icon-database'><use xlink:href='#icon-database'></use></svg></label><div class='xr-index-data'><pre>PandasIndex(Index([46.5, 47.5, 48.5, 49.5, 50.5, 51.5, 52.5, 53.5, 54.5, 55.5, 56.5, 57.5], dtype=&#x27;float64&#x27;, name=&#x27;latitude&#x27;))</pre></div></li><li class='xr-var-item'><div class='xr-index-name'><div>is_day</div></div><div class='xr-index-preview'>PandasIndex</div><input type='checkbox' disabled/><label></label><input id='index-daa9a599-43ae-4b1b-a873-669e13488cf6' class='xr-index-data-in' type='checkbox'/><label for='index-daa9a599-43ae-4b1b-a873-669e13488cf6' title='Show/Hide index repr'><svg class='icon xr-icon-database'><use xlink:href='#icon-database'></use></svg></label><div class='xr-index-data'><pre>PandasIndex(Index([False, True], dtype=&#x27;bool&#x27;, name=&#x27;is_day&#x27;))</pre></div></li><li class='xr-var-item'><div class='xr-index-name'><div>depth</div></div><div class='xr-index-preview'>PandasIndex</div><input type='checkbox' disabled/><label></label><input id='index-afeb3310-b667-4ac8-94a8-a84a65f09885' class='xr-index-data-in' type='checkbox'/><label for='index-afeb3310-b667-4ac8-94a8-a84a65f09885' title='Show/Hide index repr'><svg class='icon xr-icon-database'><use xlink:href='#icon-database'></use></svg></label><div class='xr-index-data'><pre>PandasIndex(Index([ 34.0,  35.0,  37.0,  48.0,  49.0,  50.0,  52.0,  57.0,  98.0,  99.0,\n",
       "       100.0, 101.0, 103.0, 105.0, 109.0, 121.0, 130.0, 139.0, 140.0, 141.0,\n",
       "       144.0, 145.0, 146.0, 147.0, 148.0, 149.0, 150.0, 151.0, 152.0, 153.0,\n",
       "       154.0, 155.0, 156.0, 158.0, 159.0, 160.0, 163.0, 164.0, 171.0, 192.0,\n",
       "       207.0, 213.0, 216.0, 217.0, 227.0, 229.0, 230.0, 235.0, 238.0, 239.0,\n",
       "       240.0, 241.0, 244.0, 245.0, 246.0, 248.0, 249.0, 250.0, 251.0, 254.0,\n",
       "       256.0, 257.0, 258.0, 261.0, 276.0, 295.0],\n",
       "      dtype=&#x27;float64&#x27;, name=&#x27;depth&#x27;))</pre></div></li><li class='xr-var-item'><div class='xr-index-name'><div>time</div></div><div class='xr-index-preview'>PandasIndex</div><input type='checkbox' disabled/><label></label><input id='index-070587c8-f23e-45ba-bcc7-5567242eed35' class='xr-index-data-in' type='checkbox'/><label for='index-070587c8-f23e-45ba-bcc7-5567242eed35' title='Show/Hide index repr'><svg class='icon xr-icon-database'><use xlink:href='#icon-database'></use></svg></label><div class='xr-index-data'><pre>PandasIndex(DatetimeIndex([&#x27;1998-01-19&#x27;, &#x27;1998-01-20&#x27;, &#x27;1998-02-21&#x27;, &#x27;1998-02-23&#x27;,\n",
       "               &#x27;1998-02-24&#x27;, &#x27;1998-02-27&#x27;, &#x27;1998-02-28&#x27;, &#x27;1998-03-03&#x27;,\n",
       "               &#x27;1998-04-08&#x27;, &#x27;1998-04-09&#x27;,\n",
       "               ...\n",
       "               &#x27;2020-07-05&#x27;, &#x27;2020-07-22&#x27;, &#x27;2020-07-26&#x27;, &#x27;2020-08-14&#x27;,\n",
       "               &#x27;2020-08-15&#x27;, &#x27;2020-08-17&#x27;, &#x27;2020-08-18&#x27;, &#x27;2020-08-20&#x27;,\n",
       "               &#x27;2020-08-30&#x27;, &#x27;2020-08-31&#x27;],\n",
       "              dtype=&#x27;datetime64[ns]&#x27;, name=&#x27;time&#x27;, length=579, freq=None))</pre></div></li></ul></div></li><li class='xr-section-item'><input id='section-fbf7feb7-cb17-40dd-8818-6d9ff69b63ea' class='xr-section-summary-in' type='checkbox' disabled ><label for='section-fbf7feb7-cb17-40dd-8818-6d9ff69b63ea' class='xr-section-summary'  title='Expand/collapse section'>Attributes: <span>(0)</span></label><div class='xr-section-inline-details'></div><div class='xr-section-details'><dl class='xr-attrs'></dl></div></li></ul></div></div>"
      ],
      "text/plain": [
       "<xarray.Dataset> Size: 1GB\n",
       "Dimensions:           (time: 579, is_day: 2, latitude: 12, longitude: 31,\n",
       "                       depth: 66)\n",
       "Coordinates:\n",
       "  * longitude         (longitude) float64 248B -157.5 -156.5 ... -128.5 -127.5\n",
       "  * latitude          (latitude) float64 96B 46.5 47.5 48.5 ... 55.5 56.5 57.5\n",
       "  * is_day            (is_day) bool 2B False True\n",
       "  * depth             (depth) float64 528B 34.0 35.0 37.0 ... 261.0 276.0 295.0\n",
       "  * time              (time) datetime64[ns] 5kB 1998-01-19 ... 2020-08-31\n",
       "Data variables:\n",
       "    epipelagic_depth  (time, is_day, latitude, longitude, depth) float64 227MB ...\n",
       "    pteropods         (time, is_day, latitude, longitude, depth) float64 227MB ...\n",
       "    mesh_size         (time, is_day, latitude, longitude, depth) float64 227MB ...\n",
       "    total             (time, is_day, latitude, longitude, depth) float64 227MB ...\n",
       "    volume_filtered   (time, is_day, latitude, longitude, depth) float64 227MB ..."
      ]
     },
     "execution_count": 2,
     "metadata": {},
     "output_type": "execute_result"
    }
   ],
   "source": [
    "#load dataset \n",
    "papa_data = xr.load_dataset(\"../2_bis_processed_pteropods/papa_pteropod.zarr\", engine=\"zarr\")\n",
    "papa_data"
   ]
  },
  {
   "cell_type": "code",
   "execution_count": 3,
   "id": "543f2cce",
   "metadata": {},
   "outputs": [
    {
     "data": {
      "text/html": [
       "<div><svg style=\"position: absolute; width: 0; height: 0; overflow: hidden\">\n",
       "<defs>\n",
       "<symbol id=\"icon-database\" viewBox=\"0 0 32 32\">\n",
       "<path d=\"M16 0c-8.837 0-16 2.239-16 5v4c0 2.761 7.163 5 16 5s16-2.239 16-5v-4c0-2.761-7.163-5-16-5z\"></path>\n",
       "<path d=\"M16 17c-8.837 0-16-2.239-16-5v6c0 2.761 7.163 5 16 5s16-2.239 16-5v-6c0 2.761-7.163 5-16 5z\"></path>\n",
       "<path d=\"M16 26c-8.837 0-16-2.239-16-5v6c0 2.761 7.163 5 16 5s16-2.239 16-5v-6c0 2.761-7.163 5-16 5z\"></path>\n",
       "</symbol>\n",
       "<symbol id=\"icon-file-text2\" viewBox=\"0 0 32 32\">\n",
       "<path d=\"M28.681 7.159c-0.694-0.947-1.662-2.053-2.724-3.116s-2.169-2.030-3.116-2.724c-1.612-1.182-2.393-1.319-2.841-1.319h-15.5c-1.378 0-2.5 1.121-2.5 2.5v27c0 1.378 1.122 2.5 2.5 2.5h23c1.378 0 2.5-1.122 2.5-2.5v-19.5c0-0.448-0.137-1.23-1.319-2.841zM24.543 5.457c0.959 0.959 1.712 1.825 2.268 2.543h-4.811v-4.811c0.718 0.556 1.584 1.309 2.543 2.268zM28 29.5c0 0.271-0.229 0.5-0.5 0.5h-23c-0.271 0-0.5-0.229-0.5-0.5v-27c0-0.271 0.229-0.5 0.5-0.5 0 0 15.499-0 15.5 0v7c0 0.552 0.448 1 1 1h7v19.5z\"></path>\n",
       "<path d=\"M23 26h-14c-0.552 0-1-0.448-1-1s0.448-1 1-1h14c0.552 0 1 0.448 1 1s-0.448 1-1 1z\"></path>\n",
       "<path d=\"M23 22h-14c-0.552 0-1-0.448-1-1s0.448-1 1-1h14c0.552 0 1 0.448 1 1s-0.448 1-1 1z\"></path>\n",
       "<path d=\"M23 18h-14c-0.552 0-1-0.448-1-1s0.448-1 1-1h14c0.552 0 1 0.448 1 1s-0.448 1-1 1z\"></path>\n",
       "</symbol>\n",
       "</defs>\n",
       "</svg>\n",
       "<style>/* CSS stylesheet for displaying xarray objects in jupyterlab.\n",
       " *\n",
       " */\n",
       "\n",
       ":root {\n",
       "  --xr-font-color0: var(--jp-content-font-color0, rgba(0, 0, 0, 1));\n",
       "  --xr-font-color2: var(--jp-content-font-color2, rgba(0, 0, 0, 0.54));\n",
       "  --xr-font-color3: var(--jp-content-font-color3, rgba(0, 0, 0, 0.38));\n",
       "  --xr-border-color: var(--jp-border-color2, #e0e0e0);\n",
       "  --xr-disabled-color: var(--jp-layout-color3, #bdbdbd);\n",
       "  --xr-background-color: var(--jp-layout-color0, white);\n",
       "  --xr-background-color-row-even: var(--jp-layout-color1, white);\n",
       "  --xr-background-color-row-odd: var(--jp-layout-color2, #eeeeee);\n",
       "}\n",
       "\n",
       "html[theme=\"dark\"],\n",
       "html[data-theme=\"dark\"],\n",
       "body[data-theme=\"dark\"],\n",
       "body.vscode-dark {\n",
       "  --xr-font-color0: rgba(255, 255, 255, 1);\n",
       "  --xr-font-color2: rgba(255, 255, 255, 0.54);\n",
       "  --xr-font-color3: rgba(255, 255, 255, 0.38);\n",
       "  --xr-border-color: #1f1f1f;\n",
       "  --xr-disabled-color: #515151;\n",
       "  --xr-background-color: #111111;\n",
       "  --xr-background-color-row-even: #111111;\n",
       "  --xr-background-color-row-odd: #313131;\n",
       "}\n",
       "\n",
       ".xr-wrap {\n",
       "  display: block !important;\n",
       "  min-width: 300px;\n",
       "  max-width: 700px;\n",
       "}\n",
       "\n",
       ".xr-text-repr-fallback {\n",
       "  /* fallback to plain text repr when CSS is not injected (untrusted notebook) */\n",
       "  display: none;\n",
       "}\n",
       "\n",
       ".xr-header {\n",
       "  padding-top: 6px;\n",
       "  padding-bottom: 6px;\n",
       "  margin-bottom: 4px;\n",
       "  border-bottom: solid 1px var(--xr-border-color);\n",
       "}\n",
       "\n",
       ".xr-header > div,\n",
       ".xr-header > ul {\n",
       "  display: inline;\n",
       "  margin-top: 0;\n",
       "  margin-bottom: 0;\n",
       "}\n",
       "\n",
       ".xr-obj-type,\n",
       ".xr-array-name {\n",
       "  margin-left: 2px;\n",
       "  margin-right: 10px;\n",
       "}\n",
       "\n",
       ".xr-obj-type {\n",
       "  color: var(--xr-font-color2);\n",
       "}\n",
       "\n",
       ".xr-sections {\n",
       "  padding-left: 0 !important;\n",
       "  display: grid;\n",
       "  grid-template-columns: 150px auto auto 1fr 0 20px 0 20px;\n",
       "}\n",
       "\n",
       ".xr-section-item {\n",
       "  display: contents;\n",
       "}\n",
       "\n",
       ".xr-section-item input {\n",
       "  display: inline-block;\n",
       "  opacity: 0;\n",
       "  height: 0;\n",
       "}\n",
       "\n",
       ".xr-section-item input + label {\n",
       "  color: var(--xr-disabled-color);\n",
       "}\n",
       "\n",
       ".xr-section-item input:enabled + label {\n",
       "  cursor: pointer;\n",
       "  color: var(--xr-font-color2);\n",
       "}\n",
       "\n",
       ".xr-section-item input:focus + label {\n",
       "  border: 2px solid var(--xr-font-color0);\n",
       "}\n",
       "\n",
       ".xr-section-item input:enabled + label:hover {\n",
       "  color: var(--xr-font-color0);\n",
       "}\n",
       "\n",
       ".xr-section-summary {\n",
       "  grid-column: 1;\n",
       "  color: var(--xr-font-color2);\n",
       "  font-weight: 500;\n",
       "}\n",
       "\n",
       ".xr-section-summary > span {\n",
       "  display: inline-block;\n",
       "  padding-left: 0.5em;\n",
       "}\n",
       "\n",
       ".xr-section-summary-in:disabled + label {\n",
       "  color: var(--xr-font-color2);\n",
       "}\n",
       "\n",
       ".xr-section-summary-in + label:before {\n",
       "  display: inline-block;\n",
       "  content: \"►\";\n",
       "  font-size: 11px;\n",
       "  width: 15px;\n",
       "  text-align: center;\n",
       "}\n",
       "\n",
       ".xr-section-summary-in:disabled + label:before {\n",
       "  color: var(--xr-disabled-color);\n",
       "}\n",
       "\n",
       ".xr-section-summary-in:checked + label:before {\n",
       "  content: \"▼\";\n",
       "}\n",
       "\n",
       ".xr-section-summary-in:checked + label > span {\n",
       "  display: none;\n",
       "}\n",
       "\n",
       ".xr-section-summary,\n",
       ".xr-section-inline-details {\n",
       "  padding-top: 4px;\n",
       "  padding-bottom: 4px;\n",
       "}\n",
       "\n",
       ".xr-section-inline-details {\n",
       "  grid-column: 2 / -1;\n",
       "}\n",
       "\n",
       ".xr-section-details {\n",
       "  display: none;\n",
       "  grid-column: 1 / -1;\n",
       "  margin-bottom: 5px;\n",
       "}\n",
       "\n",
       ".xr-section-summary-in:checked ~ .xr-section-details {\n",
       "  display: contents;\n",
       "}\n",
       "\n",
       ".xr-array-wrap {\n",
       "  grid-column: 1 / -1;\n",
       "  display: grid;\n",
       "  grid-template-columns: 20px auto;\n",
       "}\n",
       "\n",
       ".xr-array-wrap > label {\n",
       "  grid-column: 1;\n",
       "  vertical-align: top;\n",
       "}\n",
       "\n",
       ".xr-preview {\n",
       "  color: var(--xr-font-color3);\n",
       "}\n",
       "\n",
       ".xr-array-preview,\n",
       ".xr-array-data {\n",
       "  padding: 0 5px !important;\n",
       "  grid-column: 2;\n",
       "}\n",
       "\n",
       ".xr-array-data,\n",
       ".xr-array-in:checked ~ .xr-array-preview {\n",
       "  display: none;\n",
       "}\n",
       "\n",
       ".xr-array-in:checked ~ .xr-array-data,\n",
       ".xr-array-preview {\n",
       "  display: inline-block;\n",
       "}\n",
       "\n",
       ".xr-dim-list {\n",
       "  display: inline-block !important;\n",
       "  list-style: none;\n",
       "  padding: 0 !important;\n",
       "  margin: 0;\n",
       "}\n",
       "\n",
       ".xr-dim-list li {\n",
       "  display: inline-block;\n",
       "  padding: 0;\n",
       "  margin: 0;\n",
       "}\n",
       "\n",
       ".xr-dim-list:before {\n",
       "  content: \"(\";\n",
       "}\n",
       "\n",
       ".xr-dim-list:after {\n",
       "  content: \")\";\n",
       "}\n",
       "\n",
       ".xr-dim-list li:not(:last-child):after {\n",
       "  content: \",\";\n",
       "  padding-right: 5px;\n",
       "}\n",
       "\n",
       ".xr-has-index {\n",
       "  font-weight: bold;\n",
       "}\n",
       "\n",
       ".xr-var-list,\n",
       ".xr-var-item {\n",
       "  display: contents;\n",
       "}\n",
       "\n",
       ".xr-var-item > div,\n",
       ".xr-var-item label,\n",
       ".xr-var-item > .xr-var-name span {\n",
       "  background-color: var(--xr-background-color-row-even);\n",
       "  margin-bottom: 0;\n",
       "}\n",
       "\n",
       ".xr-var-item > .xr-var-name:hover span {\n",
       "  padding-right: 5px;\n",
       "}\n",
       "\n",
       ".xr-var-list > li:nth-child(odd) > div,\n",
       ".xr-var-list > li:nth-child(odd) > label,\n",
       ".xr-var-list > li:nth-child(odd) > .xr-var-name span {\n",
       "  background-color: var(--xr-background-color-row-odd);\n",
       "}\n",
       "\n",
       ".xr-var-name {\n",
       "  grid-column: 1;\n",
       "}\n",
       "\n",
       ".xr-var-dims {\n",
       "  grid-column: 2;\n",
       "}\n",
       "\n",
       ".xr-var-dtype {\n",
       "  grid-column: 3;\n",
       "  text-align: right;\n",
       "  color: var(--xr-font-color2);\n",
       "}\n",
       "\n",
       ".xr-var-preview {\n",
       "  grid-column: 4;\n",
       "}\n",
       "\n",
       ".xr-index-preview {\n",
       "  grid-column: 2 / 5;\n",
       "  color: var(--xr-font-color2);\n",
       "}\n",
       "\n",
       ".xr-var-name,\n",
       ".xr-var-dims,\n",
       ".xr-var-dtype,\n",
       ".xr-preview,\n",
       ".xr-attrs dt {\n",
       "  white-space: nowrap;\n",
       "  overflow: hidden;\n",
       "  text-overflow: ellipsis;\n",
       "  padding-right: 10px;\n",
       "}\n",
       "\n",
       ".xr-var-name:hover,\n",
       ".xr-var-dims:hover,\n",
       ".xr-var-dtype:hover,\n",
       ".xr-attrs dt:hover {\n",
       "  overflow: visible;\n",
       "  width: auto;\n",
       "  z-index: 1;\n",
       "}\n",
       "\n",
       ".xr-var-attrs,\n",
       ".xr-var-data,\n",
       ".xr-index-data {\n",
       "  display: none;\n",
       "  background-color: var(--xr-background-color) !important;\n",
       "  padding-bottom: 5px !important;\n",
       "}\n",
       "\n",
       ".xr-var-attrs-in:checked ~ .xr-var-attrs,\n",
       ".xr-var-data-in:checked ~ .xr-var-data,\n",
       ".xr-index-data-in:checked ~ .xr-index-data {\n",
       "  display: block;\n",
       "}\n",
       "\n",
       ".xr-var-data > table {\n",
       "  float: right;\n",
       "}\n",
       "\n",
       ".xr-var-name span,\n",
       ".xr-var-data,\n",
       ".xr-index-name div,\n",
       ".xr-index-data,\n",
       ".xr-attrs {\n",
       "  padding-left: 25px !important;\n",
       "}\n",
       "\n",
       ".xr-attrs,\n",
       ".xr-var-attrs,\n",
       ".xr-var-data,\n",
       ".xr-index-data {\n",
       "  grid-column: 1 / -1;\n",
       "}\n",
       "\n",
       "dl.xr-attrs {\n",
       "  padding: 0;\n",
       "  margin: 0;\n",
       "  display: grid;\n",
       "  grid-template-columns: 125px auto;\n",
       "}\n",
       "\n",
       ".xr-attrs dt,\n",
       ".xr-attrs dd {\n",
       "  padding: 0;\n",
       "  margin: 0;\n",
       "  float: left;\n",
       "  padding-right: 10px;\n",
       "  width: auto;\n",
       "}\n",
       "\n",
       ".xr-attrs dt {\n",
       "  font-weight: normal;\n",
       "  grid-column: 1;\n",
       "}\n",
       "\n",
       ".xr-attrs dt:hover span {\n",
       "  display: inline-block;\n",
       "  background: var(--xr-background-color);\n",
       "  padding-right: 10px;\n",
       "}\n",
       "\n",
       ".xr-attrs dd {\n",
       "  grid-column: 2;\n",
       "  white-space: pre-wrap;\n",
       "  word-break: break-all;\n",
       "}\n",
       "\n",
       ".xr-icon-database,\n",
       ".xr-icon-file-text2,\n",
       ".xr-no-icon {\n",
       "  display: inline-block;\n",
       "  vertical-align: middle;\n",
       "  width: 1em;\n",
       "  height: 1.5em !important;\n",
       "  stroke-width: 0;\n",
       "  stroke: currentColor;\n",
       "  fill: currentColor;\n",
       "}\n",
       "</style><pre class='xr-text-repr-fallback'>&lt;xarray.DataArray &#x27;pteropods&#x27; (time: 579, is_day: 2, latitude: 12,\n",
       "                               longitude: 31, depth: 66)&gt; Size: 227MB\n",
       "array([[[[[nan, nan, nan, ..., nan, nan, nan],\n",
       "          [nan, nan, nan, ..., nan, nan, nan],\n",
       "          [nan, nan, nan, ..., nan, nan, nan],\n",
       "          ...,\n",
       "          [nan, nan, nan, ..., nan, nan, nan],\n",
       "          [nan, nan, nan, ..., nan, nan, nan],\n",
       "          [nan, nan, nan, ..., nan, nan, nan]],\n",
       "\n",
       "         [[nan, nan, nan, ..., nan, nan, nan],\n",
       "          [nan, nan, nan, ..., nan, nan, nan],\n",
       "          [nan, nan, nan, ..., nan, nan, nan],\n",
       "          ...,\n",
       "          [nan, nan, nan, ..., nan, nan, nan],\n",
       "          [nan, nan, nan, ..., nan, nan, nan],\n",
       "          [nan, nan, nan, ..., nan, nan, nan]],\n",
       "\n",
       "         [[nan, nan, nan, ..., nan, nan, nan],\n",
       "          [nan, nan, nan, ..., nan, nan, nan],\n",
       "          [nan, nan, nan, ..., nan, nan, nan],\n",
       "          ...,\n",
       "...\n",
       "          ...,\n",
       "          [nan, nan, nan, ..., nan, nan, nan],\n",
       "          [nan, nan, nan, ..., nan, nan, nan],\n",
       "          [nan, nan, nan, ..., nan, nan, nan]],\n",
       "\n",
       "         [[nan, nan, nan, ..., nan, nan, nan],\n",
       "          [nan, nan, nan, ..., nan, nan, nan],\n",
       "          [nan, nan, nan, ..., nan, nan, nan],\n",
       "          ...,\n",
       "          [nan, nan, nan, ..., nan, nan, nan],\n",
       "          [nan, nan, nan, ..., nan, nan, nan],\n",
       "          [nan, nan, nan, ..., nan, nan, nan]],\n",
       "\n",
       "         [[nan, nan, nan, ..., nan, nan, nan],\n",
       "          [nan, nan, nan, ..., nan, nan, nan],\n",
       "          [nan, nan, nan, ..., nan, nan, nan],\n",
       "          ...,\n",
       "          [nan, nan, nan, ..., nan, nan, nan],\n",
       "          [nan, nan, nan, ..., nan, nan, nan],\n",
       "          [nan, nan, nan, ..., nan, nan, nan]]]]])\n",
       "Coordinates:\n",
       "  * longitude  (longitude) float64 248B -157.5 -156.5 -155.5 ... -128.5 -127.5\n",
       "  * latitude   (latitude) float64 96B 46.5 47.5 48.5 49.5 ... 55.5 56.5 57.5\n",
       "  * is_day     (is_day) bool 2B False True\n",
       "  * depth      (depth) float64 528B 34.0 35.0 37.0 48.0 ... 261.0 276.0 295.0\n",
       "  * time       (time) datetime64[ns] 5kB 1998-01-19 1998-01-20 ... 2020-08-31\n",
       "Attributes:\n",
       "    standard_name:  pteropods\n",
       "    long_name:      dry weight of pteropods zooplankton\n",
       "    units:          mg/m3</pre><div class='xr-wrap' style='display:none'><div class='xr-header'><div class='xr-obj-type'>xarray.DataArray</div><div class='xr-array-name'>'pteropods'</div><ul class='xr-dim-list'><li><span class='xr-has-index'>time</span>: 579</li><li><span class='xr-has-index'>is_day</span>: 2</li><li><span class='xr-has-index'>latitude</span>: 12</li><li><span class='xr-has-index'>longitude</span>: 31</li><li><span class='xr-has-index'>depth</span>: 66</li></ul></div><ul class='xr-sections'><li class='xr-section-item'><div class='xr-array-wrap'><input id='section-931e8d4d-dcd5-44ee-9360-48ff1d41abc7' class='xr-array-in' type='checkbox' checked><label for='section-931e8d4d-dcd5-44ee-9360-48ff1d41abc7' title='Show/hide data repr'><svg class='icon xr-icon-database'><use xlink:href='#icon-database'></use></svg></label><div class='xr-array-preview xr-preview'><span>nan nan nan nan nan nan nan nan ... nan nan nan nan nan nan nan nan</span></div><div class='xr-array-data'><pre>array([[[[[nan, nan, nan, ..., nan, nan, nan],\n",
       "          [nan, nan, nan, ..., nan, nan, nan],\n",
       "          [nan, nan, nan, ..., nan, nan, nan],\n",
       "          ...,\n",
       "          [nan, nan, nan, ..., nan, nan, nan],\n",
       "          [nan, nan, nan, ..., nan, nan, nan],\n",
       "          [nan, nan, nan, ..., nan, nan, nan]],\n",
       "\n",
       "         [[nan, nan, nan, ..., nan, nan, nan],\n",
       "          [nan, nan, nan, ..., nan, nan, nan],\n",
       "          [nan, nan, nan, ..., nan, nan, nan],\n",
       "          ...,\n",
       "          [nan, nan, nan, ..., nan, nan, nan],\n",
       "          [nan, nan, nan, ..., nan, nan, nan],\n",
       "          [nan, nan, nan, ..., nan, nan, nan]],\n",
       "\n",
       "         [[nan, nan, nan, ..., nan, nan, nan],\n",
       "          [nan, nan, nan, ..., nan, nan, nan],\n",
       "          [nan, nan, nan, ..., nan, nan, nan],\n",
       "          ...,\n",
       "...\n",
       "          ...,\n",
       "          [nan, nan, nan, ..., nan, nan, nan],\n",
       "          [nan, nan, nan, ..., nan, nan, nan],\n",
       "          [nan, nan, nan, ..., nan, nan, nan]],\n",
       "\n",
       "         [[nan, nan, nan, ..., nan, nan, nan],\n",
       "          [nan, nan, nan, ..., nan, nan, nan],\n",
       "          [nan, nan, nan, ..., nan, nan, nan],\n",
       "          ...,\n",
       "          [nan, nan, nan, ..., nan, nan, nan],\n",
       "          [nan, nan, nan, ..., nan, nan, nan],\n",
       "          [nan, nan, nan, ..., nan, nan, nan]],\n",
       "\n",
       "         [[nan, nan, nan, ..., nan, nan, nan],\n",
       "          [nan, nan, nan, ..., nan, nan, nan],\n",
       "          [nan, nan, nan, ..., nan, nan, nan],\n",
       "          ...,\n",
       "          [nan, nan, nan, ..., nan, nan, nan],\n",
       "          [nan, nan, nan, ..., nan, nan, nan],\n",
       "          [nan, nan, nan, ..., nan, nan, nan]]]]])</pre></div></div></li><li class='xr-section-item'><input id='section-7c7e776f-a580-4974-92e0-ecb5688fb932' class='xr-section-summary-in' type='checkbox'  checked><label for='section-7c7e776f-a580-4974-92e0-ecb5688fb932' class='xr-section-summary' >Coordinates: <span>(5)</span></label><div class='xr-section-inline-details'></div><div class='xr-section-details'><ul class='xr-var-list'><li class='xr-var-item'><div class='xr-var-name'><span class='xr-has-index'>longitude</span></div><div class='xr-var-dims'>(longitude)</div><div class='xr-var-dtype'>float64</div><div class='xr-var-preview xr-preview'>-157.5 -156.5 ... -128.5 -127.5</div><input id='attrs-75eb9939-db42-45a9-9144-38083a623401' class='xr-var-attrs-in' type='checkbox' ><label for='attrs-75eb9939-db42-45a9-9144-38083a623401' title='Show/Hide attributes'><svg class='icon xr-icon-file-text2'><use xlink:href='#icon-file-text2'></use></svg></label><input id='data-aa1534ca-e0d5-4578-b25f-074224441059' class='xr-var-data-in' type='checkbox'><label for='data-aa1534ca-e0d5-4578-b25f-074224441059' title='Show/Hide data repr'><svg class='icon xr-icon-database'><use xlink:href='#icon-database'></use></svg></label><div class='xr-var-attrs'><dl class='xr-attrs'><dt><span>standard_name :</span></dt><dd>longitude</dd><dt><span>long_name :</span></dt><dd>longitude</dd><dt><span>axis :</span></dt><dd>X</dd><dt><span>units :</span></dt><dd>degrees_east</dd></dl></div><div class='xr-var-data'><pre>array([-157.5, -156.5, -155.5, -154.5, -153.5, -152.5, -151.5, -150.5, -149.5,\n",
       "       -148.5, -147.5, -146.5, -145.5, -144.5, -143.5, -142.5, -141.5, -140.5,\n",
       "       -139.5, -138.5, -137.5, -136.5, -135.5, -134.5, -133.5, -132.5, -131.5,\n",
       "       -130.5, -129.5, -128.5, -127.5])</pre></div></li><li class='xr-var-item'><div class='xr-var-name'><span class='xr-has-index'>latitude</span></div><div class='xr-var-dims'>(latitude)</div><div class='xr-var-dtype'>float64</div><div class='xr-var-preview xr-preview'>46.5 47.5 48.5 ... 55.5 56.5 57.5</div><input id='attrs-c3a6b5b8-cf4c-44fc-9166-aab044b65ddc' class='xr-var-attrs-in' type='checkbox' ><label for='attrs-c3a6b5b8-cf4c-44fc-9166-aab044b65ddc' title='Show/Hide attributes'><svg class='icon xr-icon-file-text2'><use xlink:href='#icon-file-text2'></use></svg></label><input id='data-71a23cae-1ff9-4e97-8276-6d96d90532c5' class='xr-var-data-in' type='checkbox'><label for='data-71a23cae-1ff9-4e97-8276-6d96d90532c5' title='Show/Hide data repr'><svg class='icon xr-icon-database'><use xlink:href='#icon-database'></use></svg></label><div class='xr-var-attrs'><dl class='xr-attrs'><dt><span>standard_name :</span></dt><dd>latitude</dd><dt><span>long_name :</span></dt><dd>latitude</dd><dt><span>axis :</span></dt><dd>Y</dd><dt><span>units :</span></dt><dd>degrees_north</dd></dl></div><div class='xr-var-data'><pre>array([46.5, 47.5, 48.5, 49.5, 50.5, 51.5, 52.5, 53.5, 54.5, 55.5, 56.5, 57.5])</pre></div></li><li class='xr-var-item'><div class='xr-var-name'><span class='xr-has-index'>is_day</span></div><div class='xr-var-dims'>(is_day)</div><div class='xr-var-dtype'>bool</div><div class='xr-var-preview xr-preview'>False True</div><input id='attrs-9426d926-8644-423b-b049-8ebabb7292d1' class='xr-var-attrs-in' type='checkbox' ><label for='attrs-9426d926-8644-423b-b049-8ebabb7292d1' title='Show/Hide attributes'><svg class='icon xr-icon-file-text2'><use xlink:href='#icon-file-text2'></use></svg></label><input id='data-27bf5394-d598-4a94-a03e-65c9e4389852' class='xr-var-data-in' type='checkbox'><label for='data-27bf5394-d598-4a94-a03e-65c9e4389852' title='Show/Hide data repr'><svg class='icon xr-icon-database'><use xlink:href='#icon-database'></use></svg></label><div class='xr-var-attrs'><dl class='xr-attrs'><dt><span>flag_values :</span></dt><dd>[True, False]</dd><dt><span>flag_meanings :</span></dt><dd>day night</dd><dt><span>standard_name :</span></dt><dd>is_day</dd><dt><span>long_name :</span></dt><dd>Is day</dd><dt><span>description :</span></dt><dd>Flag to indicate if the time is during the day or night</dd></dl></div><div class='xr-var-data'><pre>array([False,  True])</pre></div></li><li class='xr-var-item'><div class='xr-var-name'><span class='xr-has-index'>depth</span></div><div class='xr-var-dims'>(depth)</div><div class='xr-var-dtype'>float64</div><div class='xr-var-preview xr-preview'>34.0 35.0 37.0 ... 276.0 295.0</div><input id='attrs-fe91c449-f76e-4097-abc2-c7bc2ad5cfaf' class='xr-var-attrs-in' type='checkbox' ><label for='attrs-fe91c449-f76e-4097-abc2-c7bc2ad5cfaf' title='Show/Hide attributes'><svg class='icon xr-icon-file-text2'><use xlink:href='#icon-file-text2'></use></svg></label><input id='data-ef5c2a3c-ff7c-467a-ab42-fa2cf04e1f4d' class='xr-var-data-in' type='checkbox'><label for='data-ef5c2a3c-ff7c-467a-ab42-fa2cf04e1f4d' title='Show/Hide data repr'><svg class='icon xr-icon-database'><use xlink:href='#icon-database'></use></svg></label><div class='xr-var-attrs'><dl class='xr-attrs'><dt><span>standard_name :</span></dt><dd>depth</dd><dt><span>long_name :</span></dt><dd>depth</dd><dt><span>axis :</span></dt><dd>Z</dd><dt><span>units :</span></dt><dd>m</dd></dl></div><div class='xr-var-data'><pre>array([ 34.,  35.,  37.,  48.,  49.,  50.,  52.,  57.,  98.,  99., 100., 101.,\n",
       "       103., 105., 109., 121., 130., 139., 140., 141., 144., 145., 146., 147.,\n",
       "       148., 149., 150., 151., 152., 153., 154., 155., 156., 158., 159., 160.,\n",
       "       163., 164., 171., 192., 207., 213., 216., 217., 227., 229., 230., 235.,\n",
       "       238., 239., 240., 241., 244., 245., 246., 248., 249., 250., 251., 254.,\n",
       "       256., 257., 258., 261., 276., 295.])</pre></div></li><li class='xr-var-item'><div class='xr-var-name'><span class='xr-has-index'>time</span></div><div class='xr-var-dims'>(time)</div><div class='xr-var-dtype'>datetime64[ns]</div><div class='xr-var-preview xr-preview'>1998-01-19 ... 2020-08-31</div><input id='attrs-ace0dcde-6aed-4b77-b1b5-d10db7c9b40c' class='xr-var-attrs-in' type='checkbox' ><label for='attrs-ace0dcde-6aed-4b77-b1b5-d10db7c9b40c' title='Show/Hide attributes'><svg class='icon xr-icon-file-text2'><use xlink:href='#icon-file-text2'></use></svg></label><input id='data-0a771c8d-92ed-4b57-b2fe-1655f5827af6' class='xr-var-data-in' type='checkbox'><label for='data-0a771c8d-92ed-4b57-b2fe-1655f5827af6' title='Show/Hide data repr'><svg class='icon xr-icon-database'><use xlink:href='#icon-database'></use></svg></label><div class='xr-var-attrs'><dl class='xr-attrs'><dt><span>standard_name :</span></dt><dd>time</dd><dt><span>long_name :</span></dt><dd>time</dd><dt><span>axis :</span></dt><dd>T</dd></dl></div><div class='xr-var-data'><pre>array([&#x27;1998-01-19T00:00:00.000000000&#x27;, &#x27;1998-01-20T00:00:00.000000000&#x27;,\n",
       "       &#x27;1998-02-21T00:00:00.000000000&#x27;, ..., &#x27;2020-08-20T00:00:00.000000000&#x27;,\n",
       "       &#x27;2020-08-30T00:00:00.000000000&#x27;, &#x27;2020-08-31T00:00:00.000000000&#x27;],\n",
       "      dtype=&#x27;datetime64[ns]&#x27;)</pre></div></li></ul></div></li><li class='xr-section-item'><input id='section-c8f954c6-2117-43ae-9dbc-aa61a8c4606e' class='xr-section-summary-in' type='checkbox'  ><label for='section-c8f954c6-2117-43ae-9dbc-aa61a8c4606e' class='xr-section-summary' >Indexes: <span>(5)</span></label><div class='xr-section-inline-details'></div><div class='xr-section-details'><ul class='xr-var-list'><li class='xr-var-item'><div class='xr-index-name'><div>longitude</div></div><div class='xr-index-preview'>PandasIndex</div><input type='checkbox' disabled/><label></label><input id='index-189612aa-8779-418d-a0f3-5a790f57bea7' class='xr-index-data-in' type='checkbox'/><label for='index-189612aa-8779-418d-a0f3-5a790f57bea7' title='Show/Hide index repr'><svg class='icon xr-icon-database'><use xlink:href='#icon-database'></use></svg></label><div class='xr-index-data'><pre>PandasIndex(Index([-157.5, -156.5, -155.5, -154.5, -153.5, -152.5, -151.5, -150.5, -149.5,\n",
       "       -148.5, -147.5, -146.5, -145.5, -144.5, -143.5, -142.5, -141.5, -140.5,\n",
       "       -139.5, -138.5, -137.5, -136.5, -135.5, -134.5, -133.5, -132.5, -131.5,\n",
       "       -130.5, -129.5, -128.5, -127.5],\n",
       "      dtype=&#x27;float64&#x27;, name=&#x27;longitude&#x27;))</pre></div></li><li class='xr-var-item'><div class='xr-index-name'><div>latitude</div></div><div class='xr-index-preview'>PandasIndex</div><input type='checkbox' disabled/><label></label><input id='index-f8dcc78e-f24a-4551-a56a-3379d1798fc5' class='xr-index-data-in' type='checkbox'/><label for='index-f8dcc78e-f24a-4551-a56a-3379d1798fc5' title='Show/Hide index repr'><svg class='icon xr-icon-database'><use xlink:href='#icon-database'></use></svg></label><div class='xr-index-data'><pre>PandasIndex(Index([46.5, 47.5, 48.5, 49.5, 50.5, 51.5, 52.5, 53.5, 54.5, 55.5, 56.5, 57.5], dtype=&#x27;float64&#x27;, name=&#x27;latitude&#x27;))</pre></div></li><li class='xr-var-item'><div class='xr-index-name'><div>is_day</div></div><div class='xr-index-preview'>PandasIndex</div><input type='checkbox' disabled/><label></label><input id='index-740900fc-6e4d-4cfe-99ab-6b7a8b591f14' class='xr-index-data-in' type='checkbox'/><label for='index-740900fc-6e4d-4cfe-99ab-6b7a8b591f14' title='Show/Hide index repr'><svg class='icon xr-icon-database'><use xlink:href='#icon-database'></use></svg></label><div class='xr-index-data'><pre>PandasIndex(Index([False, True], dtype=&#x27;bool&#x27;, name=&#x27;is_day&#x27;))</pre></div></li><li class='xr-var-item'><div class='xr-index-name'><div>depth</div></div><div class='xr-index-preview'>PandasIndex</div><input type='checkbox' disabled/><label></label><input id='index-382452d4-c189-4a47-a4f9-6ef54a2e8316' class='xr-index-data-in' type='checkbox'/><label for='index-382452d4-c189-4a47-a4f9-6ef54a2e8316' title='Show/Hide index repr'><svg class='icon xr-icon-database'><use xlink:href='#icon-database'></use></svg></label><div class='xr-index-data'><pre>PandasIndex(Index([ 34.0,  35.0,  37.0,  48.0,  49.0,  50.0,  52.0,  57.0,  98.0,  99.0,\n",
       "       100.0, 101.0, 103.0, 105.0, 109.0, 121.0, 130.0, 139.0, 140.0, 141.0,\n",
       "       144.0, 145.0, 146.0, 147.0, 148.0, 149.0, 150.0, 151.0, 152.0, 153.0,\n",
       "       154.0, 155.0, 156.0, 158.0, 159.0, 160.0, 163.0, 164.0, 171.0, 192.0,\n",
       "       207.0, 213.0, 216.0, 217.0, 227.0, 229.0, 230.0, 235.0, 238.0, 239.0,\n",
       "       240.0, 241.0, 244.0, 245.0, 246.0, 248.0, 249.0, 250.0, 251.0, 254.0,\n",
       "       256.0, 257.0, 258.0, 261.0, 276.0, 295.0],\n",
       "      dtype=&#x27;float64&#x27;, name=&#x27;depth&#x27;))</pre></div></li><li class='xr-var-item'><div class='xr-index-name'><div>time</div></div><div class='xr-index-preview'>PandasIndex</div><input type='checkbox' disabled/><label></label><input id='index-8bd75afd-8ff8-4c96-8655-53ccf74625cf' class='xr-index-data-in' type='checkbox'/><label for='index-8bd75afd-8ff8-4c96-8655-53ccf74625cf' title='Show/Hide index repr'><svg class='icon xr-icon-database'><use xlink:href='#icon-database'></use></svg></label><div class='xr-index-data'><pre>PandasIndex(DatetimeIndex([&#x27;1998-01-19&#x27;, &#x27;1998-01-20&#x27;, &#x27;1998-02-21&#x27;, &#x27;1998-02-23&#x27;,\n",
       "               &#x27;1998-02-24&#x27;, &#x27;1998-02-27&#x27;, &#x27;1998-02-28&#x27;, &#x27;1998-03-03&#x27;,\n",
       "               &#x27;1998-04-08&#x27;, &#x27;1998-04-09&#x27;,\n",
       "               ...\n",
       "               &#x27;2020-07-05&#x27;, &#x27;2020-07-22&#x27;, &#x27;2020-07-26&#x27;, &#x27;2020-08-14&#x27;,\n",
       "               &#x27;2020-08-15&#x27;, &#x27;2020-08-17&#x27;, &#x27;2020-08-18&#x27;, &#x27;2020-08-20&#x27;,\n",
       "               &#x27;2020-08-30&#x27;, &#x27;2020-08-31&#x27;],\n",
       "              dtype=&#x27;datetime64[ns]&#x27;, name=&#x27;time&#x27;, length=579, freq=None))</pre></div></li></ul></div></li><li class='xr-section-item'><input id='section-8d6da4b6-9066-4139-b904-60b1b5a31f85' class='xr-section-summary-in' type='checkbox'  checked><label for='section-8d6da4b6-9066-4139-b904-60b1b5a31f85' class='xr-section-summary' >Attributes: <span>(3)</span></label><div class='xr-section-inline-details'></div><div class='xr-section-details'><dl class='xr-attrs'><dt><span>standard_name :</span></dt><dd>pteropods</dd><dt><span>long_name :</span></dt><dd>dry weight of pteropods zooplankton</dd><dt><span>units :</span></dt><dd>mg/m3</dd></dl></div></li></ul></div></div>"
      ],
      "text/plain": [
       "<xarray.DataArray 'pteropods' (time: 579, is_day: 2, latitude: 12,\n",
       "                               longitude: 31, depth: 66)> Size: 227MB\n",
       "array([[[[[nan, nan, nan, ..., nan, nan, nan],\n",
       "          [nan, nan, nan, ..., nan, nan, nan],\n",
       "          [nan, nan, nan, ..., nan, nan, nan],\n",
       "          ...,\n",
       "          [nan, nan, nan, ..., nan, nan, nan],\n",
       "          [nan, nan, nan, ..., nan, nan, nan],\n",
       "          [nan, nan, nan, ..., nan, nan, nan]],\n",
       "\n",
       "         [[nan, nan, nan, ..., nan, nan, nan],\n",
       "          [nan, nan, nan, ..., nan, nan, nan],\n",
       "          [nan, nan, nan, ..., nan, nan, nan],\n",
       "          ...,\n",
       "          [nan, nan, nan, ..., nan, nan, nan],\n",
       "          [nan, nan, nan, ..., nan, nan, nan],\n",
       "          [nan, nan, nan, ..., nan, nan, nan]],\n",
       "\n",
       "         [[nan, nan, nan, ..., nan, nan, nan],\n",
       "          [nan, nan, nan, ..., nan, nan, nan],\n",
       "          [nan, nan, nan, ..., nan, nan, nan],\n",
       "          ...,\n",
       "...\n",
       "          ...,\n",
       "          [nan, nan, nan, ..., nan, nan, nan],\n",
       "          [nan, nan, nan, ..., nan, nan, nan],\n",
       "          [nan, nan, nan, ..., nan, nan, nan]],\n",
       "\n",
       "         [[nan, nan, nan, ..., nan, nan, nan],\n",
       "          [nan, nan, nan, ..., nan, nan, nan],\n",
       "          [nan, nan, nan, ..., nan, nan, nan],\n",
       "          ...,\n",
       "          [nan, nan, nan, ..., nan, nan, nan],\n",
       "          [nan, nan, nan, ..., nan, nan, nan],\n",
       "          [nan, nan, nan, ..., nan, nan, nan]],\n",
       "\n",
       "         [[nan, nan, nan, ..., nan, nan, nan],\n",
       "          [nan, nan, nan, ..., nan, nan, nan],\n",
       "          [nan, nan, nan, ..., nan, nan, nan],\n",
       "          ...,\n",
       "          [nan, nan, nan, ..., nan, nan, nan],\n",
       "          [nan, nan, nan, ..., nan, nan, nan],\n",
       "          [nan, nan, nan, ..., nan, nan, nan]]]]])\n",
       "Coordinates:\n",
       "  * longitude  (longitude) float64 248B -157.5 -156.5 -155.5 ... -128.5 -127.5\n",
       "  * latitude   (latitude) float64 96B 46.5 47.5 48.5 49.5 ... 55.5 56.5 57.5\n",
       "  * is_day     (is_day) bool 2B False True\n",
       "  * depth      (depth) float64 528B 34.0 35.0 37.0 48.0 ... 261.0 276.0 295.0\n",
       "  * time       (time) datetime64[ns] 5kB 1998-01-19 1998-01-20 ... 2020-08-31\n",
       "Attributes:\n",
       "    standard_name:  pteropods\n",
       "    long_name:      dry weight of pteropods zooplankton\n",
       "    units:          mg/m3"
      ]
     },
     "execution_count": 3,
     "metadata": {},
     "output_type": "execute_result"
    }
   ],
   "source": [
    "#extract pteropod data\n",
    "ds_pter=papa_data['pteropods']\n",
    "ds_pter"
   ]
  },
  {
   "cell_type": "code",
   "execution_count": 4,
   "id": "87d784ed",
   "metadata": {},
   "outputs": [
    {
     "data": {
      "text/html": [
       "<div><svg style=\"position: absolute; width: 0; height: 0; overflow: hidden\">\n",
       "<defs>\n",
       "<symbol id=\"icon-database\" viewBox=\"0 0 32 32\">\n",
       "<path d=\"M16 0c-8.837 0-16 2.239-16 5v4c0 2.761 7.163 5 16 5s16-2.239 16-5v-4c0-2.761-7.163-5-16-5z\"></path>\n",
       "<path d=\"M16 17c-8.837 0-16-2.239-16-5v6c0 2.761 7.163 5 16 5s16-2.239 16-5v-6c0 2.761-7.163 5-16 5z\"></path>\n",
       "<path d=\"M16 26c-8.837 0-16-2.239-16-5v6c0 2.761 7.163 5 16 5s16-2.239 16-5v-6c0 2.761-7.163 5-16 5z\"></path>\n",
       "</symbol>\n",
       "<symbol id=\"icon-file-text2\" viewBox=\"0 0 32 32\">\n",
       "<path d=\"M28.681 7.159c-0.694-0.947-1.662-2.053-2.724-3.116s-2.169-2.030-3.116-2.724c-1.612-1.182-2.393-1.319-2.841-1.319h-15.5c-1.378 0-2.5 1.121-2.5 2.5v27c0 1.378 1.122 2.5 2.5 2.5h23c1.378 0 2.5-1.122 2.5-2.5v-19.5c0-0.448-0.137-1.23-1.319-2.841zM24.543 5.457c0.959 0.959 1.712 1.825 2.268 2.543h-4.811v-4.811c0.718 0.556 1.584 1.309 2.543 2.268zM28 29.5c0 0.271-0.229 0.5-0.5 0.5h-23c-0.271 0-0.5-0.229-0.5-0.5v-27c0-0.271 0.229-0.5 0.5-0.5 0 0 15.499-0 15.5 0v7c0 0.552 0.448 1 1 1h7v19.5z\"></path>\n",
       "<path d=\"M23 26h-14c-0.552 0-1-0.448-1-1s0.448-1 1-1h14c0.552 0 1 0.448 1 1s-0.448 1-1 1z\"></path>\n",
       "<path d=\"M23 22h-14c-0.552 0-1-0.448-1-1s0.448-1 1-1h14c0.552 0 1 0.448 1 1s-0.448 1-1 1z\"></path>\n",
       "<path d=\"M23 18h-14c-0.552 0-1-0.448-1-1s0.448-1 1-1h14c0.552 0 1 0.448 1 1s-0.448 1-1 1z\"></path>\n",
       "</symbol>\n",
       "</defs>\n",
       "</svg>\n",
       "<style>/* CSS stylesheet for displaying xarray objects in jupyterlab.\n",
       " *\n",
       " */\n",
       "\n",
       ":root {\n",
       "  --xr-font-color0: var(--jp-content-font-color0, rgba(0, 0, 0, 1));\n",
       "  --xr-font-color2: var(--jp-content-font-color2, rgba(0, 0, 0, 0.54));\n",
       "  --xr-font-color3: var(--jp-content-font-color3, rgba(0, 0, 0, 0.38));\n",
       "  --xr-border-color: var(--jp-border-color2, #e0e0e0);\n",
       "  --xr-disabled-color: var(--jp-layout-color3, #bdbdbd);\n",
       "  --xr-background-color: var(--jp-layout-color0, white);\n",
       "  --xr-background-color-row-even: var(--jp-layout-color1, white);\n",
       "  --xr-background-color-row-odd: var(--jp-layout-color2, #eeeeee);\n",
       "}\n",
       "\n",
       "html[theme=\"dark\"],\n",
       "html[data-theme=\"dark\"],\n",
       "body[data-theme=\"dark\"],\n",
       "body.vscode-dark {\n",
       "  --xr-font-color0: rgba(255, 255, 255, 1);\n",
       "  --xr-font-color2: rgba(255, 255, 255, 0.54);\n",
       "  --xr-font-color3: rgba(255, 255, 255, 0.38);\n",
       "  --xr-border-color: #1f1f1f;\n",
       "  --xr-disabled-color: #515151;\n",
       "  --xr-background-color: #111111;\n",
       "  --xr-background-color-row-even: #111111;\n",
       "  --xr-background-color-row-odd: #313131;\n",
       "}\n",
       "\n",
       ".xr-wrap {\n",
       "  display: block !important;\n",
       "  min-width: 300px;\n",
       "  max-width: 700px;\n",
       "}\n",
       "\n",
       ".xr-text-repr-fallback {\n",
       "  /* fallback to plain text repr when CSS is not injected (untrusted notebook) */\n",
       "  display: none;\n",
       "}\n",
       "\n",
       ".xr-header {\n",
       "  padding-top: 6px;\n",
       "  padding-bottom: 6px;\n",
       "  margin-bottom: 4px;\n",
       "  border-bottom: solid 1px var(--xr-border-color);\n",
       "}\n",
       "\n",
       ".xr-header > div,\n",
       ".xr-header > ul {\n",
       "  display: inline;\n",
       "  margin-top: 0;\n",
       "  margin-bottom: 0;\n",
       "}\n",
       "\n",
       ".xr-obj-type,\n",
       ".xr-array-name {\n",
       "  margin-left: 2px;\n",
       "  margin-right: 10px;\n",
       "}\n",
       "\n",
       ".xr-obj-type {\n",
       "  color: var(--xr-font-color2);\n",
       "}\n",
       "\n",
       ".xr-sections {\n",
       "  padding-left: 0 !important;\n",
       "  display: grid;\n",
       "  grid-template-columns: 150px auto auto 1fr 0 20px 0 20px;\n",
       "}\n",
       "\n",
       ".xr-section-item {\n",
       "  display: contents;\n",
       "}\n",
       "\n",
       ".xr-section-item input {\n",
       "  display: inline-block;\n",
       "  opacity: 0;\n",
       "  height: 0;\n",
       "}\n",
       "\n",
       ".xr-section-item input + label {\n",
       "  color: var(--xr-disabled-color);\n",
       "}\n",
       "\n",
       ".xr-section-item input:enabled + label {\n",
       "  cursor: pointer;\n",
       "  color: var(--xr-font-color2);\n",
       "}\n",
       "\n",
       ".xr-section-item input:focus + label {\n",
       "  border: 2px solid var(--xr-font-color0);\n",
       "}\n",
       "\n",
       ".xr-section-item input:enabled + label:hover {\n",
       "  color: var(--xr-font-color0);\n",
       "}\n",
       "\n",
       ".xr-section-summary {\n",
       "  grid-column: 1;\n",
       "  color: var(--xr-font-color2);\n",
       "  font-weight: 500;\n",
       "}\n",
       "\n",
       ".xr-section-summary > span {\n",
       "  display: inline-block;\n",
       "  padding-left: 0.5em;\n",
       "}\n",
       "\n",
       ".xr-section-summary-in:disabled + label {\n",
       "  color: var(--xr-font-color2);\n",
       "}\n",
       "\n",
       ".xr-section-summary-in + label:before {\n",
       "  display: inline-block;\n",
       "  content: \"►\";\n",
       "  font-size: 11px;\n",
       "  width: 15px;\n",
       "  text-align: center;\n",
       "}\n",
       "\n",
       ".xr-section-summary-in:disabled + label:before {\n",
       "  color: var(--xr-disabled-color);\n",
       "}\n",
       "\n",
       ".xr-section-summary-in:checked + label:before {\n",
       "  content: \"▼\";\n",
       "}\n",
       "\n",
       ".xr-section-summary-in:checked + label > span {\n",
       "  display: none;\n",
       "}\n",
       "\n",
       ".xr-section-summary,\n",
       ".xr-section-inline-details {\n",
       "  padding-top: 4px;\n",
       "  padding-bottom: 4px;\n",
       "}\n",
       "\n",
       ".xr-section-inline-details {\n",
       "  grid-column: 2 / -1;\n",
       "}\n",
       "\n",
       ".xr-section-details {\n",
       "  display: none;\n",
       "  grid-column: 1 / -1;\n",
       "  margin-bottom: 5px;\n",
       "}\n",
       "\n",
       ".xr-section-summary-in:checked ~ .xr-section-details {\n",
       "  display: contents;\n",
       "}\n",
       "\n",
       ".xr-array-wrap {\n",
       "  grid-column: 1 / -1;\n",
       "  display: grid;\n",
       "  grid-template-columns: 20px auto;\n",
       "}\n",
       "\n",
       ".xr-array-wrap > label {\n",
       "  grid-column: 1;\n",
       "  vertical-align: top;\n",
       "}\n",
       "\n",
       ".xr-preview {\n",
       "  color: var(--xr-font-color3);\n",
       "}\n",
       "\n",
       ".xr-array-preview,\n",
       ".xr-array-data {\n",
       "  padding: 0 5px !important;\n",
       "  grid-column: 2;\n",
       "}\n",
       "\n",
       ".xr-array-data,\n",
       ".xr-array-in:checked ~ .xr-array-preview {\n",
       "  display: none;\n",
       "}\n",
       "\n",
       ".xr-array-in:checked ~ .xr-array-data,\n",
       ".xr-array-preview {\n",
       "  display: inline-block;\n",
       "}\n",
       "\n",
       ".xr-dim-list {\n",
       "  display: inline-block !important;\n",
       "  list-style: none;\n",
       "  padding: 0 !important;\n",
       "  margin: 0;\n",
       "}\n",
       "\n",
       ".xr-dim-list li {\n",
       "  display: inline-block;\n",
       "  padding: 0;\n",
       "  margin: 0;\n",
       "}\n",
       "\n",
       ".xr-dim-list:before {\n",
       "  content: \"(\";\n",
       "}\n",
       "\n",
       ".xr-dim-list:after {\n",
       "  content: \")\";\n",
       "}\n",
       "\n",
       ".xr-dim-list li:not(:last-child):after {\n",
       "  content: \",\";\n",
       "  padding-right: 5px;\n",
       "}\n",
       "\n",
       ".xr-has-index {\n",
       "  font-weight: bold;\n",
       "}\n",
       "\n",
       ".xr-var-list,\n",
       ".xr-var-item {\n",
       "  display: contents;\n",
       "}\n",
       "\n",
       ".xr-var-item > div,\n",
       ".xr-var-item label,\n",
       ".xr-var-item > .xr-var-name span {\n",
       "  background-color: var(--xr-background-color-row-even);\n",
       "  margin-bottom: 0;\n",
       "}\n",
       "\n",
       ".xr-var-item > .xr-var-name:hover span {\n",
       "  padding-right: 5px;\n",
       "}\n",
       "\n",
       ".xr-var-list > li:nth-child(odd) > div,\n",
       ".xr-var-list > li:nth-child(odd) > label,\n",
       ".xr-var-list > li:nth-child(odd) > .xr-var-name span {\n",
       "  background-color: var(--xr-background-color-row-odd);\n",
       "}\n",
       "\n",
       ".xr-var-name {\n",
       "  grid-column: 1;\n",
       "}\n",
       "\n",
       ".xr-var-dims {\n",
       "  grid-column: 2;\n",
       "}\n",
       "\n",
       ".xr-var-dtype {\n",
       "  grid-column: 3;\n",
       "  text-align: right;\n",
       "  color: var(--xr-font-color2);\n",
       "}\n",
       "\n",
       ".xr-var-preview {\n",
       "  grid-column: 4;\n",
       "}\n",
       "\n",
       ".xr-index-preview {\n",
       "  grid-column: 2 / 5;\n",
       "  color: var(--xr-font-color2);\n",
       "}\n",
       "\n",
       ".xr-var-name,\n",
       ".xr-var-dims,\n",
       ".xr-var-dtype,\n",
       ".xr-preview,\n",
       ".xr-attrs dt {\n",
       "  white-space: nowrap;\n",
       "  overflow: hidden;\n",
       "  text-overflow: ellipsis;\n",
       "  padding-right: 10px;\n",
       "}\n",
       "\n",
       ".xr-var-name:hover,\n",
       ".xr-var-dims:hover,\n",
       ".xr-var-dtype:hover,\n",
       ".xr-attrs dt:hover {\n",
       "  overflow: visible;\n",
       "  width: auto;\n",
       "  z-index: 1;\n",
       "}\n",
       "\n",
       ".xr-var-attrs,\n",
       ".xr-var-data,\n",
       ".xr-index-data {\n",
       "  display: none;\n",
       "  background-color: var(--xr-background-color) !important;\n",
       "  padding-bottom: 5px !important;\n",
       "}\n",
       "\n",
       ".xr-var-attrs-in:checked ~ .xr-var-attrs,\n",
       ".xr-var-data-in:checked ~ .xr-var-data,\n",
       ".xr-index-data-in:checked ~ .xr-index-data {\n",
       "  display: block;\n",
       "}\n",
       "\n",
       ".xr-var-data > table {\n",
       "  float: right;\n",
       "}\n",
       "\n",
       ".xr-var-name span,\n",
       ".xr-var-data,\n",
       ".xr-index-name div,\n",
       ".xr-index-data,\n",
       ".xr-attrs {\n",
       "  padding-left: 25px !important;\n",
       "}\n",
       "\n",
       ".xr-attrs,\n",
       ".xr-var-attrs,\n",
       ".xr-var-data,\n",
       ".xr-index-data {\n",
       "  grid-column: 1 / -1;\n",
       "}\n",
       "\n",
       "dl.xr-attrs {\n",
       "  padding: 0;\n",
       "  margin: 0;\n",
       "  display: grid;\n",
       "  grid-template-columns: 125px auto;\n",
       "}\n",
       "\n",
       ".xr-attrs dt,\n",
       ".xr-attrs dd {\n",
       "  padding: 0;\n",
       "  margin: 0;\n",
       "  float: left;\n",
       "  padding-right: 10px;\n",
       "  width: auto;\n",
       "}\n",
       "\n",
       ".xr-attrs dt {\n",
       "  font-weight: normal;\n",
       "  grid-column: 1;\n",
       "}\n",
       "\n",
       ".xr-attrs dt:hover span {\n",
       "  display: inline-block;\n",
       "  background: var(--xr-background-color);\n",
       "  padding-right: 10px;\n",
       "}\n",
       "\n",
       ".xr-attrs dd {\n",
       "  grid-column: 2;\n",
       "  white-space: pre-wrap;\n",
       "  word-break: break-all;\n",
       "}\n",
       "\n",
       ".xr-icon-database,\n",
       ".xr-icon-file-text2,\n",
       ".xr-no-icon {\n",
       "  display: inline-block;\n",
       "  vertical-align: middle;\n",
       "  width: 1em;\n",
       "  height: 1.5em !important;\n",
       "  stroke-width: 0;\n",
       "  stroke: currentColor;\n",
       "  fill: currentColor;\n",
       "}\n",
       "</style><pre class='xr-text-repr-fallback'>&lt;xarray.DataArray &#x27;epipelagic_depth&#x27; (time: 579, is_day: 2, latitude: 12,\n",
       "                                      longitude: 31, depth: 66)&gt; Size: 227MB\n",
       "array([[[[[nan, nan, nan, ..., nan, nan, nan],\n",
       "          [nan, nan, nan, ..., nan, nan, nan],\n",
       "          [nan, nan, nan, ..., nan, nan, nan],\n",
       "          ...,\n",
       "          [nan, nan, nan, ..., nan, nan, nan],\n",
       "          [nan, nan, nan, ..., nan, nan, nan],\n",
       "          [nan, nan, nan, ..., nan, nan, nan]],\n",
       "\n",
       "         [[nan, nan, nan, ..., nan, nan, nan],\n",
       "          [nan, nan, nan, ..., nan, nan, nan],\n",
       "          [nan, nan, nan, ..., nan, nan, nan],\n",
       "          ...,\n",
       "          [nan, nan, nan, ..., nan, nan, nan],\n",
       "          [nan, nan, nan, ..., nan, nan, nan],\n",
       "          [nan, nan, nan, ..., nan, nan, nan]],\n",
       "\n",
       "         [[nan, nan, nan, ..., nan, nan, nan],\n",
       "          [nan, nan, nan, ..., nan, nan, nan],\n",
       "          [nan, nan, nan, ..., nan, nan, nan],\n",
       "          ...,\n",
       "...\n",
       "          ...,\n",
       "          [nan, nan, nan, ..., nan, nan, nan],\n",
       "          [nan, nan, nan, ..., nan, nan, nan],\n",
       "          [nan, nan, nan, ..., nan, nan, nan]],\n",
       "\n",
       "         [[nan, nan, nan, ..., nan, nan, nan],\n",
       "          [nan, nan, nan, ..., nan, nan, nan],\n",
       "          [nan, nan, nan, ..., nan, nan, nan],\n",
       "          ...,\n",
       "          [nan, nan, nan, ..., nan, nan, nan],\n",
       "          [nan, nan, nan, ..., nan, nan, nan],\n",
       "          [nan, nan, nan, ..., nan, nan, nan]],\n",
       "\n",
       "         [[nan, nan, nan, ..., nan, nan, nan],\n",
       "          [nan, nan, nan, ..., nan, nan, nan],\n",
       "          [nan, nan, nan, ..., nan, nan, nan],\n",
       "          ...,\n",
       "          [nan, nan, nan, ..., nan, nan, nan],\n",
       "          [nan, nan, nan, ..., nan, nan, nan],\n",
       "          [nan, nan, nan, ..., nan, nan, nan]]]]])\n",
       "Coordinates:\n",
       "  * longitude  (longitude) float64 248B -157.5 -156.5 -155.5 ... -128.5 -127.5\n",
       "  * latitude   (latitude) float64 96B 46.5 47.5 48.5 49.5 ... 55.5 56.5 57.5\n",
       "  * is_day     (is_day) bool 2B False True\n",
       "  * depth      (depth) float64 528B 34.0 35.0 37.0 48.0 ... 261.0 276.0 295.0\n",
       "  * time       (time) datetime64[ns] 5kB 1998-01-19 1998-01-20 ... 2020-08-31\n",
       "Attributes:\n",
       "    standard_name:  epipelagic_depth\n",
       "    long_name:      epipelagic depth - observed data (CMEMS)\n",
       "    units:          m</pre><div class='xr-wrap' style='display:none'><div class='xr-header'><div class='xr-obj-type'>xarray.DataArray</div><div class='xr-array-name'>'epipelagic_depth'</div><ul class='xr-dim-list'><li><span class='xr-has-index'>time</span>: 579</li><li><span class='xr-has-index'>is_day</span>: 2</li><li><span class='xr-has-index'>latitude</span>: 12</li><li><span class='xr-has-index'>longitude</span>: 31</li><li><span class='xr-has-index'>depth</span>: 66</li></ul></div><ul class='xr-sections'><li class='xr-section-item'><div class='xr-array-wrap'><input id='section-347e1069-0c94-4755-99c2-593023ceb22c' class='xr-array-in' type='checkbox' checked><label for='section-347e1069-0c94-4755-99c2-593023ceb22c' title='Show/hide data repr'><svg class='icon xr-icon-database'><use xlink:href='#icon-database'></use></svg></label><div class='xr-array-preview xr-preview'><span>nan nan nan nan nan nan nan nan ... nan nan nan nan nan nan nan nan</span></div><div class='xr-array-data'><pre>array([[[[[nan, nan, nan, ..., nan, nan, nan],\n",
       "          [nan, nan, nan, ..., nan, nan, nan],\n",
       "          [nan, nan, nan, ..., nan, nan, nan],\n",
       "          ...,\n",
       "          [nan, nan, nan, ..., nan, nan, nan],\n",
       "          [nan, nan, nan, ..., nan, nan, nan],\n",
       "          [nan, nan, nan, ..., nan, nan, nan]],\n",
       "\n",
       "         [[nan, nan, nan, ..., nan, nan, nan],\n",
       "          [nan, nan, nan, ..., nan, nan, nan],\n",
       "          [nan, nan, nan, ..., nan, nan, nan],\n",
       "          ...,\n",
       "          [nan, nan, nan, ..., nan, nan, nan],\n",
       "          [nan, nan, nan, ..., nan, nan, nan],\n",
       "          [nan, nan, nan, ..., nan, nan, nan]],\n",
       "\n",
       "         [[nan, nan, nan, ..., nan, nan, nan],\n",
       "          [nan, nan, nan, ..., nan, nan, nan],\n",
       "          [nan, nan, nan, ..., nan, nan, nan],\n",
       "          ...,\n",
       "...\n",
       "          ...,\n",
       "          [nan, nan, nan, ..., nan, nan, nan],\n",
       "          [nan, nan, nan, ..., nan, nan, nan],\n",
       "          [nan, nan, nan, ..., nan, nan, nan]],\n",
       "\n",
       "         [[nan, nan, nan, ..., nan, nan, nan],\n",
       "          [nan, nan, nan, ..., nan, nan, nan],\n",
       "          [nan, nan, nan, ..., nan, nan, nan],\n",
       "          ...,\n",
       "          [nan, nan, nan, ..., nan, nan, nan],\n",
       "          [nan, nan, nan, ..., nan, nan, nan],\n",
       "          [nan, nan, nan, ..., nan, nan, nan]],\n",
       "\n",
       "         [[nan, nan, nan, ..., nan, nan, nan],\n",
       "          [nan, nan, nan, ..., nan, nan, nan],\n",
       "          [nan, nan, nan, ..., nan, nan, nan],\n",
       "          ...,\n",
       "          [nan, nan, nan, ..., nan, nan, nan],\n",
       "          [nan, nan, nan, ..., nan, nan, nan],\n",
       "          [nan, nan, nan, ..., nan, nan, nan]]]]])</pre></div></div></li><li class='xr-section-item'><input id='section-f169f2d4-af0a-446d-92b4-df93434582f0' class='xr-section-summary-in' type='checkbox'  checked><label for='section-f169f2d4-af0a-446d-92b4-df93434582f0' class='xr-section-summary' >Coordinates: <span>(5)</span></label><div class='xr-section-inline-details'></div><div class='xr-section-details'><ul class='xr-var-list'><li class='xr-var-item'><div class='xr-var-name'><span class='xr-has-index'>longitude</span></div><div class='xr-var-dims'>(longitude)</div><div class='xr-var-dtype'>float64</div><div class='xr-var-preview xr-preview'>-157.5 -156.5 ... -128.5 -127.5</div><input id='attrs-f7457bc6-41be-4645-9eae-fed4d33c1d9a' class='xr-var-attrs-in' type='checkbox' ><label for='attrs-f7457bc6-41be-4645-9eae-fed4d33c1d9a' title='Show/Hide attributes'><svg class='icon xr-icon-file-text2'><use xlink:href='#icon-file-text2'></use></svg></label><input id='data-d681eeaa-11b8-4e51-a918-943fcf33d006' class='xr-var-data-in' type='checkbox'><label for='data-d681eeaa-11b8-4e51-a918-943fcf33d006' title='Show/Hide data repr'><svg class='icon xr-icon-database'><use xlink:href='#icon-database'></use></svg></label><div class='xr-var-attrs'><dl class='xr-attrs'><dt><span>standard_name :</span></dt><dd>longitude</dd><dt><span>long_name :</span></dt><dd>longitude</dd><dt><span>axis :</span></dt><dd>X</dd><dt><span>units :</span></dt><dd>degrees_east</dd></dl></div><div class='xr-var-data'><pre>array([-157.5, -156.5, -155.5, -154.5, -153.5, -152.5, -151.5, -150.5, -149.5,\n",
       "       -148.5, -147.5, -146.5, -145.5, -144.5, -143.5, -142.5, -141.5, -140.5,\n",
       "       -139.5, -138.5, -137.5, -136.5, -135.5, -134.5, -133.5, -132.5, -131.5,\n",
       "       -130.5, -129.5, -128.5, -127.5])</pre></div></li><li class='xr-var-item'><div class='xr-var-name'><span class='xr-has-index'>latitude</span></div><div class='xr-var-dims'>(latitude)</div><div class='xr-var-dtype'>float64</div><div class='xr-var-preview xr-preview'>46.5 47.5 48.5 ... 55.5 56.5 57.5</div><input id='attrs-3d3b10ca-2f95-4a1b-b761-636e5329d3b9' class='xr-var-attrs-in' type='checkbox' ><label for='attrs-3d3b10ca-2f95-4a1b-b761-636e5329d3b9' title='Show/Hide attributes'><svg class='icon xr-icon-file-text2'><use xlink:href='#icon-file-text2'></use></svg></label><input id='data-3cf1e918-75c6-4419-a347-d9ec83fbc9c0' class='xr-var-data-in' type='checkbox'><label for='data-3cf1e918-75c6-4419-a347-d9ec83fbc9c0' title='Show/Hide data repr'><svg class='icon xr-icon-database'><use xlink:href='#icon-database'></use></svg></label><div class='xr-var-attrs'><dl class='xr-attrs'><dt><span>standard_name :</span></dt><dd>latitude</dd><dt><span>long_name :</span></dt><dd>latitude</dd><dt><span>axis :</span></dt><dd>Y</dd><dt><span>units :</span></dt><dd>degrees_north</dd></dl></div><div class='xr-var-data'><pre>array([46.5, 47.5, 48.5, 49.5, 50.5, 51.5, 52.5, 53.5, 54.5, 55.5, 56.5, 57.5])</pre></div></li><li class='xr-var-item'><div class='xr-var-name'><span class='xr-has-index'>is_day</span></div><div class='xr-var-dims'>(is_day)</div><div class='xr-var-dtype'>bool</div><div class='xr-var-preview xr-preview'>False True</div><input id='attrs-f1f04aa0-0209-41e4-bc5a-b5bfced6eede' class='xr-var-attrs-in' type='checkbox' ><label for='attrs-f1f04aa0-0209-41e4-bc5a-b5bfced6eede' title='Show/Hide attributes'><svg class='icon xr-icon-file-text2'><use xlink:href='#icon-file-text2'></use></svg></label><input id='data-70210ca0-19a4-48fa-9d00-3508803581d9' class='xr-var-data-in' type='checkbox'><label for='data-70210ca0-19a4-48fa-9d00-3508803581d9' title='Show/Hide data repr'><svg class='icon xr-icon-database'><use xlink:href='#icon-database'></use></svg></label><div class='xr-var-attrs'><dl class='xr-attrs'><dt><span>flag_values :</span></dt><dd>[True, False]</dd><dt><span>flag_meanings :</span></dt><dd>day night</dd><dt><span>standard_name :</span></dt><dd>is_day</dd><dt><span>long_name :</span></dt><dd>Is day</dd><dt><span>description :</span></dt><dd>Flag to indicate if the time is during the day or night</dd></dl></div><div class='xr-var-data'><pre>array([False,  True])</pre></div></li><li class='xr-var-item'><div class='xr-var-name'><span class='xr-has-index'>depth</span></div><div class='xr-var-dims'>(depth)</div><div class='xr-var-dtype'>float64</div><div class='xr-var-preview xr-preview'>34.0 35.0 37.0 ... 276.0 295.0</div><input id='attrs-d41cddcb-29f2-4315-a77a-46ceca754177' class='xr-var-attrs-in' type='checkbox' ><label for='attrs-d41cddcb-29f2-4315-a77a-46ceca754177' title='Show/Hide attributes'><svg class='icon xr-icon-file-text2'><use xlink:href='#icon-file-text2'></use></svg></label><input id='data-44a5a30c-e1a5-4069-a40d-97566906cc44' class='xr-var-data-in' type='checkbox'><label for='data-44a5a30c-e1a5-4069-a40d-97566906cc44' title='Show/Hide data repr'><svg class='icon xr-icon-database'><use xlink:href='#icon-database'></use></svg></label><div class='xr-var-attrs'><dl class='xr-attrs'><dt><span>standard_name :</span></dt><dd>depth</dd><dt><span>long_name :</span></dt><dd>depth</dd><dt><span>axis :</span></dt><dd>Z</dd><dt><span>units :</span></dt><dd>m</dd></dl></div><div class='xr-var-data'><pre>array([ 34.,  35.,  37.,  48.,  49.,  50.,  52.,  57.,  98.,  99., 100., 101.,\n",
       "       103., 105., 109., 121., 130., 139., 140., 141., 144., 145., 146., 147.,\n",
       "       148., 149., 150., 151., 152., 153., 154., 155., 156., 158., 159., 160.,\n",
       "       163., 164., 171., 192., 207., 213., 216., 217., 227., 229., 230., 235.,\n",
       "       238., 239., 240., 241., 244., 245., 246., 248., 249., 250., 251., 254.,\n",
       "       256., 257., 258., 261., 276., 295.])</pre></div></li><li class='xr-var-item'><div class='xr-var-name'><span class='xr-has-index'>time</span></div><div class='xr-var-dims'>(time)</div><div class='xr-var-dtype'>datetime64[ns]</div><div class='xr-var-preview xr-preview'>1998-01-19 ... 2020-08-31</div><input id='attrs-3c3bef16-1ed0-4274-9d98-dd21716235c8' class='xr-var-attrs-in' type='checkbox' ><label for='attrs-3c3bef16-1ed0-4274-9d98-dd21716235c8' title='Show/Hide attributes'><svg class='icon xr-icon-file-text2'><use xlink:href='#icon-file-text2'></use></svg></label><input id='data-9c381083-a2c2-4efd-9472-55d4a2bd82cd' class='xr-var-data-in' type='checkbox'><label for='data-9c381083-a2c2-4efd-9472-55d4a2bd82cd' title='Show/Hide data repr'><svg class='icon xr-icon-database'><use xlink:href='#icon-database'></use></svg></label><div class='xr-var-attrs'><dl class='xr-attrs'><dt><span>standard_name :</span></dt><dd>time</dd><dt><span>long_name :</span></dt><dd>time</dd><dt><span>axis :</span></dt><dd>T</dd></dl></div><div class='xr-var-data'><pre>array([&#x27;1998-01-19T00:00:00.000000000&#x27;, &#x27;1998-01-20T00:00:00.000000000&#x27;,\n",
       "       &#x27;1998-02-21T00:00:00.000000000&#x27;, ..., &#x27;2020-08-20T00:00:00.000000000&#x27;,\n",
       "       &#x27;2020-08-30T00:00:00.000000000&#x27;, &#x27;2020-08-31T00:00:00.000000000&#x27;],\n",
       "      dtype=&#x27;datetime64[ns]&#x27;)</pre></div></li></ul></div></li><li class='xr-section-item'><input id='section-e6cbc42b-a477-4bda-aee6-15a66e3f9517' class='xr-section-summary-in' type='checkbox'  ><label for='section-e6cbc42b-a477-4bda-aee6-15a66e3f9517' class='xr-section-summary' >Indexes: <span>(5)</span></label><div class='xr-section-inline-details'></div><div class='xr-section-details'><ul class='xr-var-list'><li class='xr-var-item'><div class='xr-index-name'><div>longitude</div></div><div class='xr-index-preview'>PandasIndex</div><input type='checkbox' disabled/><label></label><input id='index-d39add11-e5f8-4203-a1f6-4f28ea1380cc' class='xr-index-data-in' type='checkbox'/><label for='index-d39add11-e5f8-4203-a1f6-4f28ea1380cc' title='Show/Hide index repr'><svg class='icon xr-icon-database'><use xlink:href='#icon-database'></use></svg></label><div class='xr-index-data'><pre>PandasIndex(Index([-157.5, -156.5, -155.5, -154.5, -153.5, -152.5, -151.5, -150.5, -149.5,\n",
       "       -148.5, -147.5, -146.5, -145.5, -144.5, -143.5, -142.5, -141.5, -140.5,\n",
       "       -139.5, -138.5, -137.5, -136.5, -135.5, -134.5, -133.5, -132.5, -131.5,\n",
       "       -130.5, -129.5, -128.5, -127.5],\n",
       "      dtype=&#x27;float64&#x27;, name=&#x27;longitude&#x27;))</pre></div></li><li class='xr-var-item'><div class='xr-index-name'><div>latitude</div></div><div class='xr-index-preview'>PandasIndex</div><input type='checkbox' disabled/><label></label><input id='index-4f1de0c3-99c2-4799-8fe8-cc869406628b' class='xr-index-data-in' type='checkbox'/><label for='index-4f1de0c3-99c2-4799-8fe8-cc869406628b' title='Show/Hide index repr'><svg class='icon xr-icon-database'><use xlink:href='#icon-database'></use></svg></label><div class='xr-index-data'><pre>PandasIndex(Index([46.5, 47.5, 48.5, 49.5, 50.5, 51.5, 52.5, 53.5, 54.5, 55.5, 56.5, 57.5], dtype=&#x27;float64&#x27;, name=&#x27;latitude&#x27;))</pre></div></li><li class='xr-var-item'><div class='xr-index-name'><div>is_day</div></div><div class='xr-index-preview'>PandasIndex</div><input type='checkbox' disabled/><label></label><input id='index-1a84d52f-b858-4de0-827a-929ff852ff87' class='xr-index-data-in' type='checkbox'/><label for='index-1a84d52f-b858-4de0-827a-929ff852ff87' title='Show/Hide index repr'><svg class='icon xr-icon-database'><use xlink:href='#icon-database'></use></svg></label><div class='xr-index-data'><pre>PandasIndex(Index([False, True], dtype=&#x27;bool&#x27;, name=&#x27;is_day&#x27;))</pre></div></li><li class='xr-var-item'><div class='xr-index-name'><div>depth</div></div><div class='xr-index-preview'>PandasIndex</div><input type='checkbox' disabled/><label></label><input id='index-05cc9ccf-c65c-47ca-89cd-6b8fde6ac25f' class='xr-index-data-in' type='checkbox'/><label for='index-05cc9ccf-c65c-47ca-89cd-6b8fde6ac25f' title='Show/Hide index repr'><svg class='icon xr-icon-database'><use xlink:href='#icon-database'></use></svg></label><div class='xr-index-data'><pre>PandasIndex(Index([ 34.0,  35.0,  37.0,  48.0,  49.0,  50.0,  52.0,  57.0,  98.0,  99.0,\n",
       "       100.0, 101.0, 103.0, 105.0, 109.0, 121.0, 130.0, 139.0, 140.0, 141.0,\n",
       "       144.0, 145.0, 146.0, 147.0, 148.0, 149.0, 150.0, 151.0, 152.0, 153.0,\n",
       "       154.0, 155.0, 156.0, 158.0, 159.0, 160.0, 163.0, 164.0, 171.0, 192.0,\n",
       "       207.0, 213.0, 216.0, 217.0, 227.0, 229.0, 230.0, 235.0, 238.0, 239.0,\n",
       "       240.0, 241.0, 244.0, 245.0, 246.0, 248.0, 249.0, 250.0, 251.0, 254.0,\n",
       "       256.0, 257.0, 258.0, 261.0, 276.0, 295.0],\n",
       "      dtype=&#x27;float64&#x27;, name=&#x27;depth&#x27;))</pre></div></li><li class='xr-var-item'><div class='xr-index-name'><div>time</div></div><div class='xr-index-preview'>PandasIndex</div><input type='checkbox' disabled/><label></label><input id='index-7a5b4378-5301-44c5-b891-2535e8da0cf2' class='xr-index-data-in' type='checkbox'/><label for='index-7a5b4378-5301-44c5-b891-2535e8da0cf2' title='Show/Hide index repr'><svg class='icon xr-icon-database'><use xlink:href='#icon-database'></use></svg></label><div class='xr-index-data'><pre>PandasIndex(DatetimeIndex([&#x27;1998-01-19&#x27;, &#x27;1998-01-20&#x27;, &#x27;1998-02-21&#x27;, &#x27;1998-02-23&#x27;,\n",
       "               &#x27;1998-02-24&#x27;, &#x27;1998-02-27&#x27;, &#x27;1998-02-28&#x27;, &#x27;1998-03-03&#x27;,\n",
       "               &#x27;1998-04-08&#x27;, &#x27;1998-04-09&#x27;,\n",
       "               ...\n",
       "               &#x27;2020-07-05&#x27;, &#x27;2020-07-22&#x27;, &#x27;2020-07-26&#x27;, &#x27;2020-08-14&#x27;,\n",
       "               &#x27;2020-08-15&#x27;, &#x27;2020-08-17&#x27;, &#x27;2020-08-18&#x27;, &#x27;2020-08-20&#x27;,\n",
       "               &#x27;2020-08-30&#x27;, &#x27;2020-08-31&#x27;],\n",
       "              dtype=&#x27;datetime64[ns]&#x27;, name=&#x27;time&#x27;, length=579, freq=None))</pre></div></li></ul></div></li><li class='xr-section-item'><input id='section-a93a6a03-901b-461b-b853-c42fc738b38d' class='xr-section-summary-in' type='checkbox'  checked><label for='section-a93a6a03-901b-461b-b853-c42fc738b38d' class='xr-section-summary' >Attributes: <span>(3)</span></label><div class='xr-section-inline-details'></div><div class='xr-section-details'><dl class='xr-attrs'><dt><span>standard_name :</span></dt><dd>epipelagic_depth</dd><dt><span>long_name :</span></dt><dd>epipelagic depth - observed data (CMEMS)</dd><dt><span>units :</span></dt><dd>m</dd></dl></div></li></ul></div></div>"
      ],
      "text/plain": [
       "<xarray.DataArray 'epipelagic_depth' (time: 579, is_day: 2, latitude: 12,\n",
       "                                      longitude: 31, depth: 66)> Size: 227MB\n",
       "array([[[[[nan, nan, nan, ..., nan, nan, nan],\n",
       "          [nan, nan, nan, ..., nan, nan, nan],\n",
       "          [nan, nan, nan, ..., nan, nan, nan],\n",
       "          ...,\n",
       "          [nan, nan, nan, ..., nan, nan, nan],\n",
       "          [nan, nan, nan, ..., nan, nan, nan],\n",
       "          [nan, nan, nan, ..., nan, nan, nan]],\n",
       "\n",
       "         [[nan, nan, nan, ..., nan, nan, nan],\n",
       "          [nan, nan, nan, ..., nan, nan, nan],\n",
       "          [nan, nan, nan, ..., nan, nan, nan],\n",
       "          ...,\n",
       "          [nan, nan, nan, ..., nan, nan, nan],\n",
       "          [nan, nan, nan, ..., nan, nan, nan],\n",
       "          [nan, nan, nan, ..., nan, nan, nan]],\n",
       "\n",
       "         [[nan, nan, nan, ..., nan, nan, nan],\n",
       "          [nan, nan, nan, ..., nan, nan, nan],\n",
       "          [nan, nan, nan, ..., nan, nan, nan],\n",
       "          ...,\n",
       "...\n",
       "          ...,\n",
       "          [nan, nan, nan, ..., nan, nan, nan],\n",
       "          [nan, nan, nan, ..., nan, nan, nan],\n",
       "          [nan, nan, nan, ..., nan, nan, nan]],\n",
       "\n",
       "         [[nan, nan, nan, ..., nan, nan, nan],\n",
       "          [nan, nan, nan, ..., nan, nan, nan],\n",
       "          [nan, nan, nan, ..., nan, nan, nan],\n",
       "          ...,\n",
       "          [nan, nan, nan, ..., nan, nan, nan],\n",
       "          [nan, nan, nan, ..., nan, nan, nan],\n",
       "          [nan, nan, nan, ..., nan, nan, nan]],\n",
       "\n",
       "         [[nan, nan, nan, ..., nan, nan, nan],\n",
       "          [nan, nan, nan, ..., nan, nan, nan],\n",
       "          [nan, nan, nan, ..., nan, nan, nan],\n",
       "          ...,\n",
       "          [nan, nan, nan, ..., nan, nan, nan],\n",
       "          [nan, nan, nan, ..., nan, nan, nan],\n",
       "          [nan, nan, nan, ..., nan, nan, nan]]]]])\n",
       "Coordinates:\n",
       "  * longitude  (longitude) float64 248B -157.5 -156.5 -155.5 ... -128.5 -127.5\n",
       "  * latitude   (latitude) float64 96B 46.5 47.5 48.5 49.5 ... 55.5 56.5 57.5\n",
       "  * is_day     (is_day) bool 2B False True\n",
       "  * depth      (depth) float64 528B 34.0 35.0 37.0 48.0 ... 261.0 276.0 295.0\n",
       "  * time       (time) datetime64[ns] 5kB 1998-01-19 1998-01-20 ... 2020-08-31\n",
       "Attributes:\n",
       "    standard_name:  epipelagic_depth\n",
       "    long_name:      epipelagic depth - observed data (CMEMS)\n",
       "    units:          m"
      ]
     },
     "execution_count": 4,
     "metadata": {},
     "output_type": "execute_result"
    }
   ],
   "source": [
    "#extract epipelagic layer depth\n",
    "ds_pld=papa_data['epipelagic_depth']\n",
    "ds_pld"
   ]
  },
  {
   "cell_type": "code",
   "execution_count": 6,
   "id": "d1ac3cc5",
   "metadata": {},
   "outputs": [
    {
     "data": {
      "text/html": [
       "<div><svg style=\"position: absolute; width: 0; height: 0; overflow: hidden\">\n",
       "<defs>\n",
       "<symbol id=\"icon-database\" viewBox=\"0 0 32 32\">\n",
       "<path d=\"M16 0c-8.837 0-16 2.239-16 5v4c0 2.761 7.163 5 16 5s16-2.239 16-5v-4c0-2.761-7.163-5-16-5z\"></path>\n",
       "<path d=\"M16 17c-8.837 0-16-2.239-16-5v6c0 2.761 7.163 5 16 5s16-2.239 16-5v-6c0 2.761-7.163 5-16 5z\"></path>\n",
       "<path d=\"M16 26c-8.837 0-16-2.239-16-5v6c0 2.761 7.163 5 16 5s16-2.239 16-5v-6c0 2.761-7.163 5-16 5z\"></path>\n",
       "</symbol>\n",
       "<symbol id=\"icon-file-text2\" viewBox=\"0 0 32 32\">\n",
       "<path d=\"M28.681 7.159c-0.694-0.947-1.662-2.053-2.724-3.116s-2.169-2.030-3.116-2.724c-1.612-1.182-2.393-1.319-2.841-1.319h-15.5c-1.378 0-2.5 1.121-2.5 2.5v27c0 1.378 1.122 2.5 2.5 2.5h23c1.378 0 2.5-1.122 2.5-2.5v-19.5c0-0.448-0.137-1.23-1.319-2.841zM24.543 5.457c0.959 0.959 1.712 1.825 2.268 2.543h-4.811v-4.811c0.718 0.556 1.584 1.309 2.543 2.268zM28 29.5c0 0.271-0.229 0.5-0.5 0.5h-23c-0.271 0-0.5-0.229-0.5-0.5v-27c0-0.271 0.229-0.5 0.5-0.5 0 0 15.499-0 15.5 0v7c0 0.552 0.448 1 1 1h7v19.5z\"></path>\n",
       "<path d=\"M23 26h-14c-0.552 0-1-0.448-1-1s0.448-1 1-1h14c0.552 0 1 0.448 1 1s-0.448 1-1 1z\"></path>\n",
       "<path d=\"M23 22h-14c-0.552 0-1-0.448-1-1s0.448-1 1-1h14c0.552 0 1 0.448 1 1s-0.448 1-1 1z\"></path>\n",
       "<path d=\"M23 18h-14c-0.552 0-1-0.448-1-1s0.448-1 1-1h14c0.552 0 1 0.448 1 1s-0.448 1-1 1z\"></path>\n",
       "</symbol>\n",
       "</defs>\n",
       "</svg>\n",
       "<style>/* CSS stylesheet for displaying xarray objects in jupyterlab.\n",
       " *\n",
       " */\n",
       "\n",
       ":root {\n",
       "  --xr-font-color0: var(--jp-content-font-color0, rgba(0, 0, 0, 1));\n",
       "  --xr-font-color2: var(--jp-content-font-color2, rgba(0, 0, 0, 0.54));\n",
       "  --xr-font-color3: var(--jp-content-font-color3, rgba(0, 0, 0, 0.38));\n",
       "  --xr-border-color: var(--jp-border-color2, #e0e0e0);\n",
       "  --xr-disabled-color: var(--jp-layout-color3, #bdbdbd);\n",
       "  --xr-background-color: var(--jp-layout-color0, white);\n",
       "  --xr-background-color-row-even: var(--jp-layout-color1, white);\n",
       "  --xr-background-color-row-odd: var(--jp-layout-color2, #eeeeee);\n",
       "}\n",
       "\n",
       "html[theme=\"dark\"],\n",
       "html[data-theme=\"dark\"],\n",
       "body[data-theme=\"dark\"],\n",
       "body.vscode-dark {\n",
       "  --xr-font-color0: rgba(255, 255, 255, 1);\n",
       "  --xr-font-color2: rgba(255, 255, 255, 0.54);\n",
       "  --xr-font-color3: rgba(255, 255, 255, 0.38);\n",
       "  --xr-border-color: #1f1f1f;\n",
       "  --xr-disabled-color: #515151;\n",
       "  --xr-background-color: #111111;\n",
       "  --xr-background-color-row-even: #111111;\n",
       "  --xr-background-color-row-odd: #313131;\n",
       "}\n",
       "\n",
       ".xr-wrap {\n",
       "  display: block !important;\n",
       "  min-width: 300px;\n",
       "  max-width: 700px;\n",
       "}\n",
       "\n",
       ".xr-text-repr-fallback {\n",
       "  /* fallback to plain text repr when CSS is not injected (untrusted notebook) */\n",
       "  display: none;\n",
       "}\n",
       "\n",
       ".xr-header {\n",
       "  padding-top: 6px;\n",
       "  padding-bottom: 6px;\n",
       "  margin-bottom: 4px;\n",
       "  border-bottom: solid 1px var(--xr-border-color);\n",
       "}\n",
       "\n",
       ".xr-header > div,\n",
       ".xr-header > ul {\n",
       "  display: inline;\n",
       "  margin-top: 0;\n",
       "  margin-bottom: 0;\n",
       "}\n",
       "\n",
       ".xr-obj-type,\n",
       ".xr-array-name {\n",
       "  margin-left: 2px;\n",
       "  margin-right: 10px;\n",
       "}\n",
       "\n",
       ".xr-obj-type {\n",
       "  color: var(--xr-font-color2);\n",
       "}\n",
       "\n",
       ".xr-sections {\n",
       "  padding-left: 0 !important;\n",
       "  display: grid;\n",
       "  grid-template-columns: 150px auto auto 1fr 0 20px 0 20px;\n",
       "}\n",
       "\n",
       ".xr-section-item {\n",
       "  display: contents;\n",
       "}\n",
       "\n",
       ".xr-section-item input {\n",
       "  display: inline-block;\n",
       "  opacity: 0;\n",
       "  height: 0;\n",
       "}\n",
       "\n",
       ".xr-section-item input + label {\n",
       "  color: var(--xr-disabled-color);\n",
       "}\n",
       "\n",
       ".xr-section-item input:enabled + label {\n",
       "  cursor: pointer;\n",
       "  color: var(--xr-font-color2);\n",
       "}\n",
       "\n",
       ".xr-section-item input:focus + label {\n",
       "  border: 2px solid var(--xr-font-color0);\n",
       "}\n",
       "\n",
       ".xr-section-item input:enabled + label:hover {\n",
       "  color: var(--xr-font-color0);\n",
       "}\n",
       "\n",
       ".xr-section-summary {\n",
       "  grid-column: 1;\n",
       "  color: var(--xr-font-color2);\n",
       "  font-weight: 500;\n",
       "}\n",
       "\n",
       ".xr-section-summary > span {\n",
       "  display: inline-block;\n",
       "  padding-left: 0.5em;\n",
       "}\n",
       "\n",
       ".xr-section-summary-in:disabled + label {\n",
       "  color: var(--xr-font-color2);\n",
       "}\n",
       "\n",
       ".xr-section-summary-in + label:before {\n",
       "  display: inline-block;\n",
       "  content: \"►\";\n",
       "  font-size: 11px;\n",
       "  width: 15px;\n",
       "  text-align: center;\n",
       "}\n",
       "\n",
       ".xr-section-summary-in:disabled + label:before {\n",
       "  color: var(--xr-disabled-color);\n",
       "}\n",
       "\n",
       ".xr-section-summary-in:checked + label:before {\n",
       "  content: \"▼\";\n",
       "}\n",
       "\n",
       ".xr-section-summary-in:checked + label > span {\n",
       "  display: none;\n",
       "}\n",
       "\n",
       ".xr-section-summary,\n",
       ".xr-section-inline-details {\n",
       "  padding-top: 4px;\n",
       "  padding-bottom: 4px;\n",
       "}\n",
       "\n",
       ".xr-section-inline-details {\n",
       "  grid-column: 2 / -1;\n",
       "}\n",
       "\n",
       ".xr-section-details {\n",
       "  display: none;\n",
       "  grid-column: 1 / -1;\n",
       "  margin-bottom: 5px;\n",
       "}\n",
       "\n",
       ".xr-section-summary-in:checked ~ .xr-section-details {\n",
       "  display: contents;\n",
       "}\n",
       "\n",
       ".xr-array-wrap {\n",
       "  grid-column: 1 / -1;\n",
       "  display: grid;\n",
       "  grid-template-columns: 20px auto;\n",
       "}\n",
       "\n",
       ".xr-array-wrap > label {\n",
       "  grid-column: 1;\n",
       "  vertical-align: top;\n",
       "}\n",
       "\n",
       ".xr-preview {\n",
       "  color: var(--xr-font-color3);\n",
       "}\n",
       "\n",
       ".xr-array-preview,\n",
       ".xr-array-data {\n",
       "  padding: 0 5px !important;\n",
       "  grid-column: 2;\n",
       "}\n",
       "\n",
       ".xr-array-data,\n",
       ".xr-array-in:checked ~ .xr-array-preview {\n",
       "  display: none;\n",
       "}\n",
       "\n",
       ".xr-array-in:checked ~ .xr-array-data,\n",
       ".xr-array-preview {\n",
       "  display: inline-block;\n",
       "}\n",
       "\n",
       ".xr-dim-list {\n",
       "  display: inline-block !important;\n",
       "  list-style: none;\n",
       "  padding: 0 !important;\n",
       "  margin: 0;\n",
       "}\n",
       "\n",
       ".xr-dim-list li {\n",
       "  display: inline-block;\n",
       "  padding: 0;\n",
       "  margin: 0;\n",
       "}\n",
       "\n",
       ".xr-dim-list:before {\n",
       "  content: \"(\";\n",
       "}\n",
       "\n",
       ".xr-dim-list:after {\n",
       "  content: \")\";\n",
       "}\n",
       "\n",
       ".xr-dim-list li:not(:last-child):after {\n",
       "  content: \",\";\n",
       "  padding-right: 5px;\n",
       "}\n",
       "\n",
       ".xr-has-index {\n",
       "  font-weight: bold;\n",
       "}\n",
       "\n",
       ".xr-var-list,\n",
       ".xr-var-item {\n",
       "  display: contents;\n",
       "}\n",
       "\n",
       ".xr-var-item > div,\n",
       ".xr-var-item label,\n",
       ".xr-var-item > .xr-var-name span {\n",
       "  background-color: var(--xr-background-color-row-even);\n",
       "  margin-bottom: 0;\n",
       "}\n",
       "\n",
       ".xr-var-item > .xr-var-name:hover span {\n",
       "  padding-right: 5px;\n",
       "}\n",
       "\n",
       ".xr-var-list > li:nth-child(odd) > div,\n",
       ".xr-var-list > li:nth-child(odd) > label,\n",
       ".xr-var-list > li:nth-child(odd) > .xr-var-name span {\n",
       "  background-color: var(--xr-background-color-row-odd);\n",
       "}\n",
       "\n",
       ".xr-var-name {\n",
       "  grid-column: 1;\n",
       "}\n",
       "\n",
       ".xr-var-dims {\n",
       "  grid-column: 2;\n",
       "}\n",
       "\n",
       ".xr-var-dtype {\n",
       "  grid-column: 3;\n",
       "  text-align: right;\n",
       "  color: var(--xr-font-color2);\n",
       "}\n",
       "\n",
       ".xr-var-preview {\n",
       "  grid-column: 4;\n",
       "}\n",
       "\n",
       ".xr-index-preview {\n",
       "  grid-column: 2 / 5;\n",
       "  color: var(--xr-font-color2);\n",
       "}\n",
       "\n",
       ".xr-var-name,\n",
       ".xr-var-dims,\n",
       ".xr-var-dtype,\n",
       ".xr-preview,\n",
       ".xr-attrs dt {\n",
       "  white-space: nowrap;\n",
       "  overflow: hidden;\n",
       "  text-overflow: ellipsis;\n",
       "  padding-right: 10px;\n",
       "}\n",
       "\n",
       ".xr-var-name:hover,\n",
       ".xr-var-dims:hover,\n",
       ".xr-var-dtype:hover,\n",
       ".xr-attrs dt:hover {\n",
       "  overflow: visible;\n",
       "  width: auto;\n",
       "  z-index: 1;\n",
       "}\n",
       "\n",
       ".xr-var-attrs,\n",
       ".xr-var-data,\n",
       ".xr-index-data {\n",
       "  display: none;\n",
       "  background-color: var(--xr-background-color) !important;\n",
       "  padding-bottom: 5px !important;\n",
       "}\n",
       "\n",
       ".xr-var-attrs-in:checked ~ .xr-var-attrs,\n",
       ".xr-var-data-in:checked ~ .xr-var-data,\n",
       ".xr-index-data-in:checked ~ .xr-index-data {\n",
       "  display: block;\n",
       "}\n",
       "\n",
       ".xr-var-data > table {\n",
       "  float: right;\n",
       "}\n",
       "\n",
       ".xr-var-name span,\n",
       ".xr-var-data,\n",
       ".xr-index-name div,\n",
       ".xr-index-data,\n",
       ".xr-attrs {\n",
       "  padding-left: 25px !important;\n",
       "}\n",
       "\n",
       ".xr-attrs,\n",
       ".xr-var-attrs,\n",
       ".xr-var-data,\n",
       ".xr-index-data {\n",
       "  grid-column: 1 / -1;\n",
       "}\n",
       "\n",
       "dl.xr-attrs {\n",
       "  padding: 0;\n",
       "  margin: 0;\n",
       "  display: grid;\n",
       "  grid-template-columns: 125px auto;\n",
       "}\n",
       "\n",
       ".xr-attrs dt,\n",
       ".xr-attrs dd {\n",
       "  padding: 0;\n",
       "  margin: 0;\n",
       "  float: left;\n",
       "  padding-right: 10px;\n",
       "  width: auto;\n",
       "}\n",
       "\n",
       ".xr-attrs dt {\n",
       "  font-weight: normal;\n",
       "  grid-column: 1;\n",
       "}\n",
       "\n",
       ".xr-attrs dt:hover span {\n",
       "  display: inline-block;\n",
       "  background: var(--xr-background-color);\n",
       "  padding-right: 10px;\n",
       "}\n",
       "\n",
       ".xr-attrs dd {\n",
       "  grid-column: 2;\n",
       "  white-space: pre-wrap;\n",
       "  word-break: break-all;\n",
       "}\n",
       "\n",
       ".xr-icon-database,\n",
       ".xr-icon-file-text2,\n",
       ".xr-no-icon {\n",
       "  display: inline-block;\n",
       "  vertical-align: middle;\n",
       "  width: 1em;\n",
       "  height: 1.5em !important;\n",
       "  stroke-width: 0;\n",
       "  stroke: currentColor;\n",
       "  fill: currentColor;\n",
       "}\n",
       "</style><pre class='xr-text-repr-fallback'>&lt;xarray.DataArray &#x27;pteropod_biomass_gm2&#x27; (time: 579, is_day: 2, latitude: 12,\n",
       "                                          longitude: 31, depth: 66)&gt; Size: 227MB\n",
       "array([[[[[nan, nan, nan, ..., nan, nan, nan],\n",
       "          [nan, nan, nan, ..., nan, nan, nan],\n",
       "          [nan, nan, nan, ..., nan, nan, nan],\n",
       "          ...,\n",
       "          [nan, nan, nan, ..., nan, nan, nan],\n",
       "          [nan, nan, nan, ..., nan, nan, nan],\n",
       "          [nan, nan, nan, ..., nan, nan, nan]],\n",
       "\n",
       "         [[nan, nan, nan, ..., nan, nan, nan],\n",
       "          [nan, nan, nan, ..., nan, nan, nan],\n",
       "          [nan, nan, nan, ..., nan, nan, nan],\n",
       "          ...,\n",
       "          [nan, nan, nan, ..., nan, nan, nan],\n",
       "          [nan, nan, nan, ..., nan, nan, nan],\n",
       "          [nan, nan, nan, ..., nan, nan, nan]],\n",
       "\n",
       "         [[nan, nan, nan, ..., nan, nan, nan],\n",
       "          [nan, nan, nan, ..., nan, nan, nan],\n",
       "          [nan, nan, nan, ..., nan, nan, nan],\n",
       "          ...,\n",
       "...\n",
       "          ...,\n",
       "          [nan, nan, nan, ..., nan, nan, nan],\n",
       "          [nan, nan, nan, ..., nan, nan, nan],\n",
       "          [nan, nan, nan, ..., nan, nan, nan]],\n",
       "\n",
       "         [[nan, nan, nan, ..., nan, nan, nan],\n",
       "          [nan, nan, nan, ..., nan, nan, nan],\n",
       "          [nan, nan, nan, ..., nan, nan, nan],\n",
       "          ...,\n",
       "          [nan, nan, nan, ..., nan, nan, nan],\n",
       "          [nan, nan, nan, ..., nan, nan, nan],\n",
       "          [nan, nan, nan, ..., nan, nan, nan]],\n",
       "\n",
       "         [[nan, nan, nan, ..., nan, nan, nan],\n",
       "          [nan, nan, nan, ..., nan, nan, nan],\n",
       "          [nan, nan, nan, ..., nan, nan, nan],\n",
       "          ...,\n",
       "          [nan, nan, nan, ..., nan, nan, nan],\n",
       "          [nan, nan, nan, ..., nan, nan, nan],\n",
       "          [nan, nan, nan, ..., nan, nan, nan]]]]])\n",
       "Coordinates:\n",
       "  * longitude  (longitude) float64 248B -157.5 -156.5 -155.5 ... -128.5 -127.5\n",
       "  * latitude   (latitude) float64 96B 46.5 47.5 48.5 49.5 ... 55.5 56.5 57.5\n",
       "  * is_day     (is_day) bool 2B False True\n",
       "  * depth      (depth) float64 528B 34.0 35.0 37.0 48.0 ... 261.0 276.0 295.0\n",
       "  * time       (time) datetime64[ns] 5kB 1998-01-19 1998-01-20 ... 2020-08-31\n",
       "Attributes:\n",
       "    units:      g m-2\n",
       "    long_name:  Pteropod integrated biomass in epipelagic layer</pre><div class='xr-wrap' style='display:none'><div class='xr-header'><div class='xr-obj-type'>xarray.DataArray</div><div class='xr-array-name'>'pteropod_biomass_gm2'</div><ul class='xr-dim-list'><li><span class='xr-has-index'>time</span>: 579</li><li><span class='xr-has-index'>is_day</span>: 2</li><li><span class='xr-has-index'>latitude</span>: 12</li><li><span class='xr-has-index'>longitude</span>: 31</li><li><span class='xr-has-index'>depth</span>: 66</li></ul></div><ul class='xr-sections'><li class='xr-section-item'><div class='xr-array-wrap'><input id='section-921f7f67-b49b-453c-bea3-40f19d5a2d86' class='xr-array-in' type='checkbox' checked><label for='section-921f7f67-b49b-453c-bea3-40f19d5a2d86' title='Show/hide data repr'><svg class='icon xr-icon-database'><use xlink:href='#icon-database'></use></svg></label><div class='xr-array-preview xr-preview'><span>nan nan nan nan nan nan nan nan ... nan nan nan nan nan nan nan nan</span></div><div class='xr-array-data'><pre>array([[[[[nan, nan, nan, ..., nan, nan, nan],\n",
       "          [nan, nan, nan, ..., nan, nan, nan],\n",
       "          [nan, nan, nan, ..., nan, nan, nan],\n",
       "          ...,\n",
       "          [nan, nan, nan, ..., nan, nan, nan],\n",
       "          [nan, nan, nan, ..., nan, nan, nan],\n",
       "          [nan, nan, nan, ..., nan, nan, nan]],\n",
       "\n",
       "         [[nan, nan, nan, ..., nan, nan, nan],\n",
       "          [nan, nan, nan, ..., nan, nan, nan],\n",
       "          [nan, nan, nan, ..., nan, nan, nan],\n",
       "          ...,\n",
       "          [nan, nan, nan, ..., nan, nan, nan],\n",
       "          [nan, nan, nan, ..., nan, nan, nan],\n",
       "          [nan, nan, nan, ..., nan, nan, nan]],\n",
       "\n",
       "         [[nan, nan, nan, ..., nan, nan, nan],\n",
       "          [nan, nan, nan, ..., nan, nan, nan],\n",
       "          [nan, nan, nan, ..., nan, nan, nan],\n",
       "          ...,\n",
       "...\n",
       "          ...,\n",
       "          [nan, nan, nan, ..., nan, nan, nan],\n",
       "          [nan, nan, nan, ..., nan, nan, nan],\n",
       "          [nan, nan, nan, ..., nan, nan, nan]],\n",
       "\n",
       "         [[nan, nan, nan, ..., nan, nan, nan],\n",
       "          [nan, nan, nan, ..., nan, nan, nan],\n",
       "          [nan, nan, nan, ..., nan, nan, nan],\n",
       "          ...,\n",
       "          [nan, nan, nan, ..., nan, nan, nan],\n",
       "          [nan, nan, nan, ..., nan, nan, nan],\n",
       "          [nan, nan, nan, ..., nan, nan, nan]],\n",
       "\n",
       "         [[nan, nan, nan, ..., nan, nan, nan],\n",
       "          [nan, nan, nan, ..., nan, nan, nan],\n",
       "          [nan, nan, nan, ..., nan, nan, nan],\n",
       "          ...,\n",
       "          [nan, nan, nan, ..., nan, nan, nan],\n",
       "          [nan, nan, nan, ..., nan, nan, nan],\n",
       "          [nan, nan, nan, ..., nan, nan, nan]]]]])</pre></div></div></li><li class='xr-section-item'><input id='section-27aa9486-1046-451d-a48a-bc302dc6b3d6' class='xr-section-summary-in' type='checkbox'  checked><label for='section-27aa9486-1046-451d-a48a-bc302dc6b3d6' class='xr-section-summary' >Coordinates: <span>(5)</span></label><div class='xr-section-inline-details'></div><div class='xr-section-details'><ul class='xr-var-list'><li class='xr-var-item'><div class='xr-var-name'><span class='xr-has-index'>longitude</span></div><div class='xr-var-dims'>(longitude)</div><div class='xr-var-dtype'>float64</div><div class='xr-var-preview xr-preview'>-157.5 -156.5 ... -128.5 -127.5</div><input id='attrs-e2f0a92e-457a-4327-864b-e11a1e59bcb1' class='xr-var-attrs-in' type='checkbox' ><label for='attrs-e2f0a92e-457a-4327-864b-e11a1e59bcb1' title='Show/Hide attributes'><svg class='icon xr-icon-file-text2'><use xlink:href='#icon-file-text2'></use></svg></label><input id='data-8956cc3f-2e65-474c-8a83-477262901747' class='xr-var-data-in' type='checkbox'><label for='data-8956cc3f-2e65-474c-8a83-477262901747' title='Show/Hide data repr'><svg class='icon xr-icon-database'><use xlink:href='#icon-database'></use></svg></label><div class='xr-var-attrs'><dl class='xr-attrs'><dt><span>standard_name :</span></dt><dd>longitude</dd><dt><span>long_name :</span></dt><dd>longitude</dd><dt><span>axis :</span></dt><dd>X</dd><dt><span>units :</span></dt><dd>degrees_east</dd></dl></div><div class='xr-var-data'><pre>array([-157.5, -156.5, -155.5, -154.5, -153.5, -152.5, -151.5, -150.5, -149.5,\n",
       "       -148.5, -147.5, -146.5, -145.5, -144.5, -143.5, -142.5, -141.5, -140.5,\n",
       "       -139.5, -138.5, -137.5, -136.5, -135.5, -134.5, -133.5, -132.5, -131.5,\n",
       "       -130.5, -129.5, -128.5, -127.5])</pre></div></li><li class='xr-var-item'><div class='xr-var-name'><span class='xr-has-index'>latitude</span></div><div class='xr-var-dims'>(latitude)</div><div class='xr-var-dtype'>float64</div><div class='xr-var-preview xr-preview'>46.5 47.5 48.5 ... 55.5 56.5 57.5</div><input id='attrs-acd35724-55e8-47f8-a852-e60cb261bf31' class='xr-var-attrs-in' type='checkbox' ><label for='attrs-acd35724-55e8-47f8-a852-e60cb261bf31' title='Show/Hide attributes'><svg class='icon xr-icon-file-text2'><use xlink:href='#icon-file-text2'></use></svg></label><input id='data-888e34ff-4a58-4efb-a786-f863adfd265d' class='xr-var-data-in' type='checkbox'><label for='data-888e34ff-4a58-4efb-a786-f863adfd265d' title='Show/Hide data repr'><svg class='icon xr-icon-database'><use xlink:href='#icon-database'></use></svg></label><div class='xr-var-attrs'><dl class='xr-attrs'><dt><span>standard_name :</span></dt><dd>latitude</dd><dt><span>long_name :</span></dt><dd>latitude</dd><dt><span>axis :</span></dt><dd>Y</dd><dt><span>units :</span></dt><dd>degrees_north</dd></dl></div><div class='xr-var-data'><pre>array([46.5, 47.5, 48.5, 49.5, 50.5, 51.5, 52.5, 53.5, 54.5, 55.5, 56.5, 57.5])</pre></div></li><li class='xr-var-item'><div class='xr-var-name'><span class='xr-has-index'>is_day</span></div><div class='xr-var-dims'>(is_day)</div><div class='xr-var-dtype'>bool</div><div class='xr-var-preview xr-preview'>False True</div><input id='attrs-8f910063-006b-4dc4-8deb-dde0159b01b1' class='xr-var-attrs-in' type='checkbox' ><label for='attrs-8f910063-006b-4dc4-8deb-dde0159b01b1' title='Show/Hide attributes'><svg class='icon xr-icon-file-text2'><use xlink:href='#icon-file-text2'></use></svg></label><input id='data-811329e6-a36f-4fef-989f-e0b8bae58517' class='xr-var-data-in' type='checkbox'><label for='data-811329e6-a36f-4fef-989f-e0b8bae58517' title='Show/Hide data repr'><svg class='icon xr-icon-database'><use xlink:href='#icon-database'></use></svg></label><div class='xr-var-attrs'><dl class='xr-attrs'><dt><span>flag_values :</span></dt><dd>[True, False]</dd><dt><span>flag_meanings :</span></dt><dd>day night</dd><dt><span>standard_name :</span></dt><dd>is_day</dd><dt><span>long_name :</span></dt><dd>Is day</dd><dt><span>description :</span></dt><dd>Flag to indicate if the time is during the day or night</dd></dl></div><div class='xr-var-data'><pre>array([False,  True])</pre></div></li><li class='xr-var-item'><div class='xr-var-name'><span class='xr-has-index'>depth</span></div><div class='xr-var-dims'>(depth)</div><div class='xr-var-dtype'>float64</div><div class='xr-var-preview xr-preview'>34.0 35.0 37.0 ... 276.0 295.0</div><input id='attrs-60b201b3-9b53-47ad-881e-a89503ab90da' class='xr-var-attrs-in' type='checkbox' ><label for='attrs-60b201b3-9b53-47ad-881e-a89503ab90da' title='Show/Hide attributes'><svg class='icon xr-icon-file-text2'><use xlink:href='#icon-file-text2'></use></svg></label><input id='data-65e2ef83-98ab-4dfc-8ef0-4f373852dc31' class='xr-var-data-in' type='checkbox'><label for='data-65e2ef83-98ab-4dfc-8ef0-4f373852dc31' title='Show/Hide data repr'><svg class='icon xr-icon-database'><use xlink:href='#icon-database'></use></svg></label><div class='xr-var-attrs'><dl class='xr-attrs'><dt><span>standard_name :</span></dt><dd>depth</dd><dt><span>long_name :</span></dt><dd>depth</dd><dt><span>axis :</span></dt><dd>Z</dd><dt><span>units :</span></dt><dd>m</dd></dl></div><div class='xr-var-data'><pre>array([ 34.,  35.,  37.,  48.,  49.,  50.,  52.,  57.,  98.,  99., 100., 101.,\n",
       "       103., 105., 109., 121., 130., 139., 140., 141., 144., 145., 146., 147.,\n",
       "       148., 149., 150., 151., 152., 153., 154., 155., 156., 158., 159., 160.,\n",
       "       163., 164., 171., 192., 207., 213., 216., 217., 227., 229., 230., 235.,\n",
       "       238., 239., 240., 241., 244., 245., 246., 248., 249., 250., 251., 254.,\n",
       "       256., 257., 258., 261., 276., 295.])</pre></div></li><li class='xr-var-item'><div class='xr-var-name'><span class='xr-has-index'>time</span></div><div class='xr-var-dims'>(time)</div><div class='xr-var-dtype'>datetime64[ns]</div><div class='xr-var-preview xr-preview'>1998-01-19 ... 2020-08-31</div><input id='attrs-b56402bb-2c52-4192-8cb9-7219e8544ecd' class='xr-var-attrs-in' type='checkbox' ><label for='attrs-b56402bb-2c52-4192-8cb9-7219e8544ecd' title='Show/Hide attributes'><svg class='icon xr-icon-file-text2'><use xlink:href='#icon-file-text2'></use></svg></label><input id='data-4b900e60-a415-4fc8-b566-9a5dbfb0ceaa' class='xr-var-data-in' type='checkbox'><label for='data-4b900e60-a415-4fc8-b566-9a5dbfb0ceaa' title='Show/Hide data repr'><svg class='icon xr-icon-database'><use xlink:href='#icon-database'></use></svg></label><div class='xr-var-attrs'><dl class='xr-attrs'><dt><span>standard_name :</span></dt><dd>time</dd><dt><span>long_name :</span></dt><dd>time</dd><dt><span>axis :</span></dt><dd>T</dd></dl></div><div class='xr-var-data'><pre>array([&#x27;1998-01-19T00:00:00.000000000&#x27;, &#x27;1998-01-20T00:00:00.000000000&#x27;,\n",
       "       &#x27;1998-02-21T00:00:00.000000000&#x27;, ..., &#x27;2020-08-20T00:00:00.000000000&#x27;,\n",
       "       &#x27;2020-08-30T00:00:00.000000000&#x27;, &#x27;2020-08-31T00:00:00.000000000&#x27;],\n",
       "      dtype=&#x27;datetime64[ns]&#x27;)</pre></div></li></ul></div></li><li class='xr-section-item'><input id='section-e8e57f1f-32e4-4857-9f46-2f6ca98e46e7' class='xr-section-summary-in' type='checkbox'  ><label for='section-e8e57f1f-32e4-4857-9f46-2f6ca98e46e7' class='xr-section-summary' >Indexes: <span>(5)</span></label><div class='xr-section-inline-details'></div><div class='xr-section-details'><ul class='xr-var-list'><li class='xr-var-item'><div class='xr-index-name'><div>longitude</div></div><div class='xr-index-preview'>PandasIndex</div><input type='checkbox' disabled/><label></label><input id='index-c79ba443-909f-41ee-9b79-3808cd7a37ed' class='xr-index-data-in' type='checkbox'/><label for='index-c79ba443-909f-41ee-9b79-3808cd7a37ed' title='Show/Hide index repr'><svg class='icon xr-icon-database'><use xlink:href='#icon-database'></use></svg></label><div class='xr-index-data'><pre>PandasIndex(Index([-157.5, -156.5, -155.5, -154.5, -153.5, -152.5, -151.5, -150.5, -149.5,\n",
       "       -148.5, -147.5, -146.5, -145.5, -144.5, -143.5, -142.5, -141.5, -140.5,\n",
       "       -139.5, -138.5, -137.5, -136.5, -135.5, -134.5, -133.5, -132.5, -131.5,\n",
       "       -130.5, -129.5, -128.5, -127.5],\n",
       "      dtype=&#x27;float64&#x27;, name=&#x27;longitude&#x27;))</pre></div></li><li class='xr-var-item'><div class='xr-index-name'><div>latitude</div></div><div class='xr-index-preview'>PandasIndex</div><input type='checkbox' disabled/><label></label><input id='index-f1a7cbe0-126d-4231-904d-74abe1846530' class='xr-index-data-in' type='checkbox'/><label for='index-f1a7cbe0-126d-4231-904d-74abe1846530' title='Show/Hide index repr'><svg class='icon xr-icon-database'><use xlink:href='#icon-database'></use></svg></label><div class='xr-index-data'><pre>PandasIndex(Index([46.5, 47.5, 48.5, 49.5, 50.5, 51.5, 52.5, 53.5, 54.5, 55.5, 56.5, 57.5], dtype=&#x27;float64&#x27;, name=&#x27;latitude&#x27;))</pre></div></li><li class='xr-var-item'><div class='xr-index-name'><div>is_day</div></div><div class='xr-index-preview'>PandasIndex</div><input type='checkbox' disabled/><label></label><input id='index-30ee08dd-7a70-4a20-b5f5-7d7c914c8c4e' class='xr-index-data-in' type='checkbox'/><label for='index-30ee08dd-7a70-4a20-b5f5-7d7c914c8c4e' title='Show/Hide index repr'><svg class='icon xr-icon-database'><use xlink:href='#icon-database'></use></svg></label><div class='xr-index-data'><pre>PandasIndex(Index([False, True], dtype=&#x27;bool&#x27;, name=&#x27;is_day&#x27;))</pre></div></li><li class='xr-var-item'><div class='xr-index-name'><div>depth</div></div><div class='xr-index-preview'>PandasIndex</div><input type='checkbox' disabled/><label></label><input id='index-7b944773-83cc-4df3-84c2-b4ecbd583986' class='xr-index-data-in' type='checkbox'/><label for='index-7b944773-83cc-4df3-84c2-b4ecbd583986' title='Show/Hide index repr'><svg class='icon xr-icon-database'><use xlink:href='#icon-database'></use></svg></label><div class='xr-index-data'><pre>PandasIndex(Index([ 34.0,  35.0,  37.0,  48.0,  49.0,  50.0,  52.0,  57.0,  98.0,  99.0,\n",
       "       100.0, 101.0, 103.0, 105.0, 109.0, 121.0, 130.0, 139.0, 140.0, 141.0,\n",
       "       144.0, 145.0, 146.0, 147.0, 148.0, 149.0, 150.0, 151.0, 152.0, 153.0,\n",
       "       154.0, 155.0, 156.0, 158.0, 159.0, 160.0, 163.0, 164.0, 171.0, 192.0,\n",
       "       207.0, 213.0, 216.0, 217.0, 227.0, 229.0, 230.0, 235.0, 238.0, 239.0,\n",
       "       240.0, 241.0, 244.0, 245.0, 246.0, 248.0, 249.0, 250.0, 251.0, 254.0,\n",
       "       256.0, 257.0, 258.0, 261.0, 276.0, 295.0],\n",
       "      dtype=&#x27;float64&#x27;, name=&#x27;depth&#x27;))</pre></div></li><li class='xr-var-item'><div class='xr-index-name'><div>time</div></div><div class='xr-index-preview'>PandasIndex</div><input type='checkbox' disabled/><label></label><input id='index-5f3f744d-ffdb-4656-ae34-d2486c4fa98e' class='xr-index-data-in' type='checkbox'/><label for='index-5f3f744d-ffdb-4656-ae34-d2486c4fa98e' title='Show/Hide index repr'><svg class='icon xr-icon-database'><use xlink:href='#icon-database'></use></svg></label><div class='xr-index-data'><pre>PandasIndex(DatetimeIndex([&#x27;1998-01-19&#x27;, &#x27;1998-01-20&#x27;, &#x27;1998-02-21&#x27;, &#x27;1998-02-23&#x27;,\n",
       "               &#x27;1998-02-24&#x27;, &#x27;1998-02-27&#x27;, &#x27;1998-02-28&#x27;, &#x27;1998-03-03&#x27;,\n",
       "               &#x27;1998-04-08&#x27;, &#x27;1998-04-09&#x27;,\n",
       "               ...\n",
       "               &#x27;2020-07-05&#x27;, &#x27;2020-07-22&#x27;, &#x27;2020-07-26&#x27;, &#x27;2020-08-14&#x27;,\n",
       "               &#x27;2020-08-15&#x27;, &#x27;2020-08-17&#x27;, &#x27;2020-08-18&#x27;, &#x27;2020-08-20&#x27;,\n",
       "               &#x27;2020-08-30&#x27;, &#x27;2020-08-31&#x27;],\n",
       "              dtype=&#x27;datetime64[ns]&#x27;, name=&#x27;time&#x27;, length=579, freq=None))</pre></div></li></ul></div></li><li class='xr-section-item'><input id='section-6d46640a-cdcd-4272-a71d-3372314fd120' class='xr-section-summary-in' type='checkbox'  checked><label for='section-6d46640a-cdcd-4272-a71d-3372314fd120' class='xr-section-summary' >Attributes: <span>(2)</span></label><div class='xr-section-inline-details'></div><div class='xr-section-details'><dl class='xr-attrs'><dt><span>units :</span></dt><dd>g m-2</dd><dt><span>long_name :</span></dt><dd>Pteropod integrated biomass in epipelagic layer</dd></dl></div></li></ul></div></div>"
      ],
      "text/plain": [
       "<xarray.DataArray 'pteropod_biomass_gm2' (time: 579, is_day: 2, latitude: 12,\n",
       "                                          longitude: 31, depth: 66)> Size: 227MB\n",
       "array([[[[[nan, nan, nan, ..., nan, nan, nan],\n",
       "          [nan, nan, nan, ..., nan, nan, nan],\n",
       "          [nan, nan, nan, ..., nan, nan, nan],\n",
       "          ...,\n",
       "          [nan, nan, nan, ..., nan, nan, nan],\n",
       "          [nan, nan, nan, ..., nan, nan, nan],\n",
       "          [nan, nan, nan, ..., nan, nan, nan]],\n",
       "\n",
       "         [[nan, nan, nan, ..., nan, nan, nan],\n",
       "          [nan, nan, nan, ..., nan, nan, nan],\n",
       "          [nan, nan, nan, ..., nan, nan, nan],\n",
       "          ...,\n",
       "          [nan, nan, nan, ..., nan, nan, nan],\n",
       "          [nan, nan, nan, ..., nan, nan, nan],\n",
       "          [nan, nan, nan, ..., nan, nan, nan]],\n",
       "\n",
       "         [[nan, nan, nan, ..., nan, nan, nan],\n",
       "          [nan, nan, nan, ..., nan, nan, nan],\n",
       "          [nan, nan, nan, ..., nan, nan, nan],\n",
       "          ...,\n",
       "...\n",
       "          ...,\n",
       "          [nan, nan, nan, ..., nan, nan, nan],\n",
       "          [nan, nan, nan, ..., nan, nan, nan],\n",
       "          [nan, nan, nan, ..., nan, nan, nan]],\n",
       "\n",
       "         [[nan, nan, nan, ..., nan, nan, nan],\n",
       "          [nan, nan, nan, ..., nan, nan, nan],\n",
       "          [nan, nan, nan, ..., nan, nan, nan],\n",
       "          ...,\n",
       "          [nan, nan, nan, ..., nan, nan, nan],\n",
       "          [nan, nan, nan, ..., nan, nan, nan],\n",
       "          [nan, nan, nan, ..., nan, nan, nan]],\n",
       "\n",
       "         [[nan, nan, nan, ..., nan, nan, nan],\n",
       "          [nan, nan, nan, ..., nan, nan, nan],\n",
       "          [nan, nan, nan, ..., nan, nan, nan],\n",
       "          ...,\n",
       "          [nan, nan, nan, ..., nan, nan, nan],\n",
       "          [nan, nan, nan, ..., nan, nan, nan],\n",
       "          [nan, nan, nan, ..., nan, nan, nan]]]]])\n",
       "Coordinates:\n",
       "  * longitude  (longitude) float64 248B -157.5 -156.5 -155.5 ... -128.5 -127.5\n",
       "  * latitude   (latitude) float64 96B 46.5 47.5 48.5 49.5 ... 55.5 56.5 57.5\n",
       "  * is_day     (is_day) bool 2B False True\n",
       "  * depth      (depth) float64 528B 34.0 35.0 37.0 48.0 ... 261.0 276.0 295.0\n",
       "  * time       (time) datetime64[ns] 5kB 1998-01-19 1998-01-20 ... 2020-08-31\n",
       "Attributes:\n",
       "    units:      g m-2\n",
       "    long_name:  Pteropod integrated biomass in epipelagic layer"
      ]
     },
     "execution_count": 6,
     "metadata": {},
     "output_type": "execute_result"
    }
   ],
   "source": [
    "# Convert pteropod biomass from mg/m3 to g/m2\n",
    "# Formula: (mg/m3) * (m) / 1000 = g/m2\n",
    "\n",
    "ds_pter_gm2 = (ds_pter * ds_pld) / 1000\n",
    "ds_pter_gm2.name = 'pteropod_biomass_gm2'\n",
    "ds_pter_gm2.attrs['units'] = 'g m-2'\n",
    "ds_pter_gm2.attrs['long_name'] = 'Pteropod integrated biomass in epipelagic layer'\n",
    "\n",
    "ds_pter_gm2"
   ]
  },
  {
   "cell_type": "markdown",
   "id": "53d37655",
   "metadata": {},
   "source": [
    "## Select Area\n"
   ]
  },
  {
   "cell_type": "code",
   "execution_count": 7,
   "id": "a72556c3",
   "metadata": {},
   "outputs": [
    {
     "data": {
      "application/vnd.plotly.v1+json": {
       "config": {
        "plotlyServerURL": "https://plot.ly"
       },
       "data": [
        {
         "colorbar": {
          "title": {
           "text": "Non-NaN entries"
          }
         },
         "colorscale": [
          [
           0,
           "#0d0887"
          ],
          [
           0.1111111111111111,
           "#46039f"
          ],
          [
           0.2222222222222222,
           "#7201a8"
          ],
          [
           0.3333333333333333,
           "#9c179e"
          ],
          [
           0.4444444444444444,
           "#bd3786"
          ],
          [
           0.5555555555555556,
           "#d8576b"
          ],
          [
           0.6666666666666666,
           "#ed7953"
          ],
          [
           0.7777777777777778,
           "#fb9f3a"
          ],
          [
           0.8888888888888888,
           "#fdca26"
          ],
          [
           1,
           "#f0f921"
          ]
         ],
         "type": "heatmap",
         "x": {
          "bdata": "AAAAAACwY8AAAAAAAJBjwAAAAAAAcGPAAAAAAABQY8AAAAAAADBjwAAAAAAAEGPAAAAAAADwYsAAAAAAANBiwAAAAAAAsGLAAAAAAACQYsAAAAAAAHBiwAAAAAAAUGLAAAAAAAAwYsAAAAAAABBiwAAAAAAA8GHAAAAAAADQYcAAAAAAALBhwAAAAAAAkGHAAAAAAABwYcAAAAAAAFBhwAAAAAAAMGHAAAAAAAAQYcAAAAAAAPBgwAAAAAAA0GDAAAAAAACwYMAAAAAAAJBgwAAAAAAAcGDAAAAAAABQYMAAAAAAADBgwAAAAAAAEGDAAAAAAADgX8A=",
          "dtype": "f8"
         },
         "y": {
          "bdata": "AAAAAABAR0AAAAAAAMBHQAAAAAAAQEhAAAAAAADASEAAAAAAAEBJQAAAAAAAwElAAAAAAABASkAAAAAAAMBKQAAAAAAAQEtAAAAAAADAS0AAAAAAAEBMQAAAAAAAwExA",
          "dtype": "f8"
         },
         "z": {
          "bdata": "AAAAAAAAAQAAAAAAAAEAAAAAAAAAAAAAAAAAAAAAAAAAAAAAAAAAAAAAAAIAAAAAAAAAAQEBAAABAAIDAAAAAAAAAAAAAAAAAAAAAQAAAAAAAAAAAAAAAAFGDEEAAAAAAAAAAAEAAAAAGxQAAQABAT4AAAA6AAoCBwEuAAAAAAAAAAAAAAABAQ4YAQAAAAAAAAABAQIBAxZsAAAAAAAAAAAAAAAAAQAEBgAAAAAAAQEEBgcHBAMJAAAAAAAAAAAAAAAAAAAABQYBAQABAAICBQcDBQQDAAAAAAABAAACAQABAAAAAAAEAAAAAQIGAQUUBgAAAAAAAAAAAAAAAAAAAAAAAAAFAwAAAAAADQIDAgUAAAAAAAAAAAAAAAAAAAAAAAAACwMAAAAAAAMBAQcAAAAAAAAAAAAAAAAAAAAAAAAAAAIDAAAAAAABAAAAAAAAAAAAAAAAAAAAAAAAAAAAAAECAQAAAAABAQAAAAAAAAAAAAAA",
          "dtype": "i1",
          "shape": "12, 31"
         }
        }
       ],
       "layout": {
        "template": {
         "data": {
          "bar": [
           {
            "error_x": {
             "color": "#2a3f5f"
            },
            "error_y": {
             "color": "#2a3f5f"
            },
            "marker": {
             "line": {
              "color": "#E5ECF6",
              "width": 0.5
             },
             "pattern": {
              "fillmode": "overlay",
              "size": 10,
              "solidity": 0.2
             }
            },
            "type": "bar"
           }
          ],
          "barpolar": [
           {
            "marker": {
             "line": {
              "color": "#E5ECF6",
              "width": 0.5
             },
             "pattern": {
              "fillmode": "overlay",
              "size": 10,
              "solidity": 0.2
             }
            },
            "type": "barpolar"
           }
          ],
          "carpet": [
           {
            "aaxis": {
             "endlinecolor": "#2a3f5f",
             "gridcolor": "white",
             "linecolor": "white",
             "minorgridcolor": "white",
             "startlinecolor": "#2a3f5f"
            },
            "baxis": {
             "endlinecolor": "#2a3f5f",
             "gridcolor": "white",
             "linecolor": "white",
             "minorgridcolor": "white",
             "startlinecolor": "#2a3f5f"
            },
            "type": "carpet"
           }
          ],
          "choropleth": [
           {
            "colorbar": {
             "outlinewidth": 0,
             "ticks": ""
            },
            "type": "choropleth"
           }
          ],
          "contour": [
           {
            "colorbar": {
             "outlinewidth": 0,
             "ticks": ""
            },
            "colorscale": [
             [
              0,
              "#0d0887"
             ],
             [
              0.1111111111111111,
              "#46039f"
             ],
             [
              0.2222222222222222,
              "#7201a8"
             ],
             [
              0.3333333333333333,
              "#9c179e"
             ],
             [
              0.4444444444444444,
              "#bd3786"
             ],
             [
              0.5555555555555556,
              "#d8576b"
             ],
             [
              0.6666666666666666,
              "#ed7953"
             ],
             [
              0.7777777777777778,
              "#fb9f3a"
             ],
             [
              0.8888888888888888,
              "#fdca26"
             ],
             [
              1,
              "#f0f921"
             ]
            ],
            "type": "contour"
           }
          ],
          "contourcarpet": [
           {
            "colorbar": {
             "outlinewidth": 0,
             "ticks": ""
            },
            "type": "contourcarpet"
           }
          ],
          "heatmap": [
           {
            "colorbar": {
             "outlinewidth": 0,
             "ticks": ""
            },
            "colorscale": [
             [
              0,
              "#0d0887"
             ],
             [
              0.1111111111111111,
              "#46039f"
             ],
             [
              0.2222222222222222,
              "#7201a8"
             ],
             [
              0.3333333333333333,
              "#9c179e"
             ],
             [
              0.4444444444444444,
              "#bd3786"
             ],
             [
              0.5555555555555556,
              "#d8576b"
             ],
             [
              0.6666666666666666,
              "#ed7953"
             ],
             [
              0.7777777777777778,
              "#fb9f3a"
             ],
             [
              0.8888888888888888,
              "#fdca26"
             ],
             [
              1,
              "#f0f921"
             ]
            ],
            "type": "heatmap"
           }
          ],
          "histogram": [
           {
            "marker": {
             "pattern": {
              "fillmode": "overlay",
              "size": 10,
              "solidity": 0.2
             }
            },
            "type": "histogram"
           }
          ],
          "histogram2d": [
           {
            "colorbar": {
             "outlinewidth": 0,
             "ticks": ""
            },
            "colorscale": [
             [
              0,
              "#0d0887"
             ],
             [
              0.1111111111111111,
              "#46039f"
             ],
             [
              0.2222222222222222,
              "#7201a8"
             ],
             [
              0.3333333333333333,
              "#9c179e"
             ],
             [
              0.4444444444444444,
              "#bd3786"
             ],
             [
              0.5555555555555556,
              "#d8576b"
             ],
             [
              0.6666666666666666,
              "#ed7953"
             ],
             [
              0.7777777777777778,
              "#fb9f3a"
             ],
             [
              0.8888888888888888,
              "#fdca26"
             ],
             [
              1,
              "#f0f921"
             ]
            ],
            "type": "histogram2d"
           }
          ],
          "histogram2dcontour": [
           {
            "colorbar": {
             "outlinewidth": 0,
             "ticks": ""
            },
            "colorscale": [
             [
              0,
              "#0d0887"
             ],
             [
              0.1111111111111111,
              "#46039f"
             ],
             [
              0.2222222222222222,
              "#7201a8"
             ],
             [
              0.3333333333333333,
              "#9c179e"
             ],
             [
              0.4444444444444444,
              "#bd3786"
             ],
             [
              0.5555555555555556,
              "#d8576b"
             ],
             [
              0.6666666666666666,
              "#ed7953"
             ],
             [
              0.7777777777777778,
              "#fb9f3a"
             ],
             [
              0.8888888888888888,
              "#fdca26"
             ],
             [
              1,
              "#f0f921"
             ]
            ],
            "type": "histogram2dcontour"
           }
          ],
          "mesh3d": [
           {
            "colorbar": {
             "outlinewidth": 0,
             "ticks": ""
            },
            "type": "mesh3d"
           }
          ],
          "parcoords": [
           {
            "line": {
             "colorbar": {
              "outlinewidth": 0,
              "ticks": ""
             }
            },
            "type": "parcoords"
           }
          ],
          "pie": [
           {
            "automargin": true,
            "type": "pie"
           }
          ],
          "scatter": [
           {
            "fillpattern": {
             "fillmode": "overlay",
             "size": 10,
             "solidity": 0.2
            },
            "type": "scatter"
           }
          ],
          "scatter3d": [
           {
            "line": {
             "colorbar": {
              "outlinewidth": 0,
              "ticks": ""
             }
            },
            "marker": {
             "colorbar": {
              "outlinewidth": 0,
              "ticks": ""
             }
            },
            "type": "scatter3d"
           }
          ],
          "scattercarpet": [
           {
            "marker": {
             "colorbar": {
              "outlinewidth": 0,
              "ticks": ""
             }
            },
            "type": "scattercarpet"
           }
          ],
          "scattergeo": [
           {
            "marker": {
             "colorbar": {
              "outlinewidth": 0,
              "ticks": ""
             }
            },
            "type": "scattergeo"
           }
          ],
          "scattergl": [
           {
            "marker": {
             "colorbar": {
              "outlinewidth": 0,
              "ticks": ""
             }
            },
            "type": "scattergl"
           }
          ],
          "scattermap": [
           {
            "marker": {
             "colorbar": {
              "outlinewidth": 0,
              "ticks": ""
             }
            },
            "type": "scattermap"
           }
          ],
          "scattermapbox": [
           {
            "marker": {
             "colorbar": {
              "outlinewidth": 0,
              "ticks": ""
             }
            },
            "type": "scattermapbox"
           }
          ],
          "scatterpolar": [
           {
            "marker": {
             "colorbar": {
              "outlinewidth": 0,
              "ticks": ""
             }
            },
            "type": "scatterpolar"
           }
          ],
          "scatterpolargl": [
           {
            "marker": {
             "colorbar": {
              "outlinewidth": 0,
              "ticks": ""
             }
            },
            "type": "scatterpolargl"
           }
          ],
          "scatterternary": [
           {
            "marker": {
             "colorbar": {
              "outlinewidth": 0,
              "ticks": ""
             }
            },
            "type": "scatterternary"
           }
          ],
          "surface": [
           {
            "colorbar": {
             "outlinewidth": 0,
             "ticks": ""
            },
            "colorscale": [
             [
              0,
              "#0d0887"
             ],
             [
              0.1111111111111111,
              "#46039f"
             ],
             [
              0.2222222222222222,
              "#7201a8"
             ],
             [
              0.3333333333333333,
              "#9c179e"
             ],
             [
              0.4444444444444444,
              "#bd3786"
             ],
             [
              0.5555555555555556,
              "#d8576b"
             ],
             [
              0.6666666666666666,
              "#ed7953"
             ],
             [
              0.7777777777777778,
              "#fb9f3a"
             ],
             [
              0.8888888888888888,
              "#fdca26"
             ],
             [
              1,
              "#f0f921"
             ]
            ],
            "type": "surface"
           }
          ],
          "table": [
           {
            "cells": {
             "fill": {
              "color": "#EBF0F8"
             },
             "line": {
              "color": "white"
             }
            },
            "header": {
             "fill": {
              "color": "#C8D4E3"
             },
             "line": {
              "color": "white"
             }
            },
            "type": "table"
           }
          ]
         },
         "layout": {
          "annotationdefaults": {
           "arrowcolor": "#2a3f5f",
           "arrowhead": 0,
           "arrowwidth": 1
          },
          "autotypenumbers": "strict",
          "coloraxis": {
           "colorbar": {
            "outlinewidth": 0,
            "ticks": ""
           }
          },
          "colorscale": {
           "diverging": [
            [
             0,
             "#8e0152"
            ],
            [
             0.1,
             "#c51b7d"
            ],
            [
             0.2,
             "#de77ae"
            ],
            [
             0.3,
             "#f1b6da"
            ],
            [
             0.4,
             "#fde0ef"
            ],
            [
             0.5,
             "#f7f7f7"
            ],
            [
             0.6,
             "#e6f5d0"
            ],
            [
             0.7,
             "#b8e186"
            ],
            [
             0.8,
             "#7fbc41"
            ],
            [
             0.9,
             "#4d9221"
            ],
            [
             1,
             "#276419"
            ]
           ],
           "sequential": [
            [
             0,
             "#0d0887"
            ],
            [
             0.1111111111111111,
             "#46039f"
            ],
            [
             0.2222222222222222,
             "#7201a8"
            ],
            [
             0.3333333333333333,
             "#9c179e"
            ],
            [
             0.4444444444444444,
             "#bd3786"
            ],
            [
             0.5555555555555556,
             "#d8576b"
            ],
            [
             0.6666666666666666,
             "#ed7953"
            ],
            [
             0.7777777777777778,
             "#fb9f3a"
            ],
            [
             0.8888888888888888,
             "#fdca26"
            ],
            [
             1,
             "#f0f921"
            ]
           ],
           "sequentialminus": [
            [
             0,
             "#0d0887"
            ],
            [
             0.1111111111111111,
             "#46039f"
            ],
            [
             0.2222222222222222,
             "#7201a8"
            ],
            [
             0.3333333333333333,
             "#9c179e"
            ],
            [
             0.4444444444444444,
             "#bd3786"
            ],
            [
             0.5555555555555556,
             "#d8576b"
            ],
            [
             0.6666666666666666,
             "#ed7953"
            ],
            [
             0.7777777777777778,
             "#fb9f3a"
            ],
            [
             0.8888888888888888,
             "#fdca26"
            ],
            [
             1,
             "#f0f921"
            ]
           ]
          },
          "colorway": [
           "#636efa",
           "#EF553B",
           "#00cc96",
           "#ab63fa",
           "#FFA15A",
           "#19d3f3",
           "#FF6692",
           "#B6E880",
           "#FF97FF",
           "#FECB52"
          ],
          "font": {
           "color": "#2a3f5f"
          },
          "geo": {
           "bgcolor": "white",
           "lakecolor": "white",
           "landcolor": "#E5ECF6",
           "showlakes": true,
           "showland": true,
           "subunitcolor": "white"
          },
          "hoverlabel": {
           "align": "left"
          },
          "hovermode": "closest",
          "mapbox": {
           "style": "light"
          },
          "paper_bgcolor": "white",
          "plot_bgcolor": "#E5ECF6",
          "polar": {
           "angularaxis": {
            "gridcolor": "white",
            "linecolor": "white",
            "ticks": ""
           },
           "bgcolor": "#E5ECF6",
           "radialaxis": {
            "gridcolor": "white",
            "linecolor": "white",
            "ticks": ""
           }
          },
          "scene": {
           "xaxis": {
            "backgroundcolor": "#E5ECF6",
            "gridcolor": "white",
            "gridwidth": 2,
            "linecolor": "white",
            "showbackground": true,
            "ticks": "",
            "zerolinecolor": "white"
           },
           "yaxis": {
            "backgroundcolor": "#E5ECF6",
            "gridcolor": "white",
            "gridwidth": 2,
            "linecolor": "white",
            "showbackground": true,
            "ticks": "",
            "zerolinecolor": "white"
           },
           "zaxis": {
            "backgroundcolor": "#E5ECF6",
            "gridcolor": "white",
            "gridwidth": 2,
            "linecolor": "white",
            "showbackground": true,
            "ticks": "",
            "zerolinecolor": "white"
           }
          },
          "shapedefaults": {
           "line": {
            "color": "#2a3f5f"
           }
          },
          "ternary": {
           "aaxis": {
            "gridcolor": "white",
            "linecolor": "white",
            "ticks": ""
           },
           "baxis": {
            "gridcolor": "white",
            "linecolor": "white",
            "ticks": ""
           },
           "bgcolor": "#E5ECF6",
           "caxis": {
            "gridcolor": "white",
            "linecolor": "white",
            "ticks": ""
           }
          },
          "title": {
           "x": 0.05
          },
          "xaxis": {
           "automargin": true,
           "gridcolor": "white",
           "linecolor": "white",
           "ticks": "",
           "title": {
            "standoff": 15
           },
           "zerolinecolor": "white",
           "zerolinewidth": 2
          },
          "yaxis": {
           "automargin": true,
           "gridcolor": "white",
           "linecolor": "white",
           "ticks": "",
           "title": {
            "standoff": 15
           },
           "zerolinecolor": "white",
           "zerolinewidth": 2
          }
         }
        },
        "title": {
         "text": "Heatmap of valid pteropod data entries by latitude and longitude"
        },
        "xaxis": {
         "title": {
          "text": "Longitude"
         }
        },
        "yaxis": {
         "title": {
          "text": "Latitude"
         }
        }
       }
      }
     },
     "metadata": {},
     "output_type": "display_data"
    }
   ],
   "source": [
    "#per location\n",
    "per_lat_lon = ds_pter_gm2.count(dim=[\"time\", \"depth\", \"is_day\"])\n",
    "df_lat_lon = per_lat_lon.to_dataframe(name=\"non_nan_count\").reset_index()\n",
    "\n",
    "heatmap_data = df_lat_lon.pivot(index=\"latitude\", columns=\"longitude\", values=\"non_nan_count\")\n",
    "\n",
    "fig = go.Figure(data=go.Heatmap(\n",
    "    z=heatmap_data.values,\n",
    "    x=heatmap_data.columns,\n",
    "    y=heatmap_data.index,\n",
    "    colorscale='plasma',\n",
    "    colorbar=dict(title=\"Non-NaN entries\")\n",
    "))\n",
    "#Labels\n",
    "fig.update_layout(\n",
    "    yaxis=dict(\n",
    "        title=\"Latitude\"\n",
    "    ),\n",
    "    xaxis=dict(\n",
    "        title=\"Longitude\"\n",
    "    ),\n",
    "    title=\"Heatmap of valid pteropod data entries by latitude and longitude\"\n",
    ")\n",
    "\n",
    "fig.show()\n"
   ]
  },
  {
   "cell_type": "markdown",
   "id": "f484aa7f",
   "metadata": {},
   "source": [
    "<div style=\"padding: 10px; border-radius: 5px; background-color: #cce5ff; color: #004085; border-left: 5px solid #007bff;\">\n",
    "    <strong>Note :</strong> Selected 2° Area : 48.5N-50.5N, 128.5W-130.5W\n",
    "</div>"
   ]
  },
  {
   "cell_type": "code",
   "execution_count": 113,
   "id": "528db6d0",
   "metadata": {},
   "outputs": [
    {
     "data": {
      "text/html": [
       "<div><svg style=\"position: absolute; width: 0; height: 0; overflow: hidden\">\n",
       "<defs>\n",
       "<symbol id=\"icon-database\" viewBox=\"0 0 32 32\">\n",
       "<path d=\"M16 0c-8.837 0-16 2.239-16 5v4c0 2.761 7.163 5 16 5s16-2.239 16-5v-4c0-2.761-7.163-5-16-5z\"></path>\n",
       "<path d=\"M16 17c-8.837 0-16-2.239-16-5v6c0 2.761 7.163 5 16 5s16-2.239 16-5v-6c0 2.761-7.163 5-16 5z\"></path>\n",
       "<path d=\"M16 26c-8.837 0-16-2.239-16-5v6c0 2.761 7.163 5 16 5s16-2.239 16-5v-6c0 2.761-7.163 5-16 5z\"></path>\n",
       "</symbol>\n",
       "<symbol id=\"icon-file-text2\" viewBox=\"0 0 32 32\">\n",
       "<path d=\"M28.681 7.159c-0.694-0.947-1.662-2.053-2.724-3.116s-2.169-2.030-3.116-2.724c-1.612-1.182-2.393-1.319-2.841-1.319h-15.5c-1.378 0-2.5 1.121-2.5 2.5v27c0 1.378 1.122 2.5 2.5 2.5h23c1.378 0 2.5-1.122 2.5-2.5v-19.5c0-0.448-0.137-1.23-1.319-2.841zM24.543 5.457c0.959 0.959 1.712 1.825 2.268 2.543h-4.811v-4.811c0.718 0.556 1.584 1.309 2.543 2.268zM28 29.5c0 0.271-0.229 0.5-0.5 0.5h-23c-0.271 0-0.5-0.229-0.5-0.5v-27c0-0.271 0.229-0.5 0.5-0.5 0 0 15.499-0 15.5 0v7c0 0.552 0.448 1 1 1h7v19.5z\"></path>\n",
       "<path d=\"M23 26h-14c-0.552 0-1-0.448-1-1s0.448-1 1-1h14c0.552 0 1 0.448 1 1s-0.448 1-1 1z\"></path>\n",
       "<path d=\"M23 22h-14c-0.552 0-1-0.448-1-1s0.448-1 1-1h14c0.552 0 1 0.448 1 1s-0.448 1-1 1z\"></path>\n",
       "<path d=\"M23 18h-14c-0.552 0-1-0.448-1-1s0.448-1 1-1h14c0.552 0 1 0.448 1 1s-0.448 1-1 1z\"></path>\n",
       "</symbol>\n",
       "</defs>\n",
       "</svg>\n",
       "<style>/* CSS stylesheet for displaying xarray objects in jupyterlab.\n",
       " *\n",
       " */\n",
       "\n",
       ":root {\n",
       "  --xr-font-color0: var(--jp-content-font-color0, rgba(0, 0, 0, 1));\n",
       "  --xr-font-color2: var(--jp-content-font-color2, rgba(0, 0, 0, 0.54));\n",
       "  --xr-font-color3: var(--jp-content-font-color3, rgba(0, 0, 0, 0.38));\n",
       "  --xr-border-color: var(--jp-border-color2, #e0e0e0);\n",
       "  --xr-disabled-color: var(--jp-layout-color3, #bdbdbd);\n",
       "  --xr-background-color: var(--jp-layout-color0, white);\n",
       "  --xr-background-color-row-even: var(--jp-layout-color1, white);\n",
       "  --xr-background-color-row-odd: var(--jp-layout-color2, #eeeeee);\n",
       "}\n",
       "\n",
       "html[theme=\"dark\"],\n",
       "html[data-theme=\"dark\"],\n",
       "body[data-theme=\"dark\"],\n",
       "body.vscode-dark {\n",
       "  --xr-font-color0: rgba(255, 255, 255, 1);\n",
       "  --xr-font-color2: rgba(255, 255, 255, 0.54);\n",
       "  --xr-font-color3: rgba(255, 255, 255, 0.38);\n",
       "  --xr-border-color: #1f1f1f;\n",
       "  --xr-disabled-color: #515151;\n",
       "  --xr-background-color: #111111;\n",
       "  --xr-background-color-row-even: #111111;\n",
       "  --xr-background-color-row-odd: #313131;\n",
       "}\n",
       "\n",
       ".xr-wrap {\n",
       "  display: block !important;\n",
       "  min-width: 300px;\n",
       "  max-width: 700px;\n",
       "}\n",
       "\n",
       ".xr-text-repr-fallback {\n",
       "  /* fallback to plain text repr when CSS is not injected (untrusted notebook) */\n",
       "  display: none;\n",
       "}\n",
       "\n",
       ".xr-header {\n",
       "  padding-top: 6px;\n",
       "  padding-bottom: 6px;\n",
       "  margin-bottom: 4px;\n",
       "  border-bottom: solid 1px var(--xr-border-color);\n",
       "}\n",
       "\n",
       ".xr-header > div,\n",
       ".xr-header > ul {\n",
       "  display: inline;\n",
       "  margin-top: 0;\n",
       "  margin-bottom: 0;\n",
       "}\n",
       "\n",
       ".xr-obj-type,\n",
       ".xr-array-name {\n",
       "  margin-left: 2px;\n",
       "  margin-right: 10px;\n",
       "}\n",
       "\n",
       ".xr-obj-type {\n",
       "  color: var(--xr-font-color2);\n",
       "}\n",
       "\n",
       ".xr-sections {\n",
       "  padding-left: 0 !important;\n",
       "  display: grid;\n",
       "  grid-template-columns: 150px auto auto 1fr 0 20px 0 20px;\n",
       "}\n",
       "\n",
       ".xr-section-item {\n",
       "  display: contents;\n",
       "}\n",
       "\n",
       ".xr-section-item input {\n",
       "  display: inline-block;\n",
       "  opacity: 0;\n",
       "  height: 0;\n",
       "}\n",
       "\n",
       ".xr-section-item input + label {\n",
       "  color: var(--xr-disabled-color);\n",
       "}\n",
       "\n",
       ".xr-section-item input:enabled + label {\n",
       "  cursor: pointer;\n",
       "  color: var(--xr-font-color2);\n",
       "}\n",
       "\n",
       ".xr-section-item input:focus + label {\n",
       "  border: 2px solid var(--xr-font-color0);\n",
       "}\n",
       "\n",
       ".xr-section-item input:enabled + label:hover {\n",
       "  color: var(--xr-font-color0);\n",
       "}\n",
       "\n",
       ".xr-section-summary {\n",
       "  grid-column: 1;\n",
       "  color: var(--xr-font-color2);\n",
       "  font-weight: 500;\n",
       "}\n",
       "\n",
       ".xr-section-summary > span {\n",
       "  display: inline-block;\n",
       "  padding-left: 0.5em;\n",
       "}\n",
       "\n",
       ".xr-section-summary-in:disabled + label {\n",
       "  color: var(--xr-font-color2);\n",
       "}\n",
       "\n",
       ".xr-section-summary-in + label:before {\n",
       "  display: inline-block;\n",
       "  content: \"►\";\n",
       "  font-size: 11px;\n",
       "  width: 15px;\n",
       "  text-align: center;\n",
       "}\n",
       "\n",
       ".xr-section-summary-in:disabled + label:before {\n",
       "  color: var(--xr-disabled-color);\n",
       "}\n",
       "\n",
       ".xr-section-summary-in:checked + label:before {\n",
       "  content: \"▼\";\n",
       "}\n",
       "\n",
       ".xr-section-summary-in:checked + label > span {\n",
       "  display: none;\n",
       "}\n",
       "\n",
       ".xr-section-summary,\n",
       ".xr-section-inline-details {\n",
       "  padding-top: 4px;\n",
       "  padding-bottom: 4px;\n",
       "}\n",
       "\n",
       ".xr-section-inline-details {\n",
       "  grid-column: 2 / -1;\n",
       "}\n",
       "\n",
       ".xr-section-details {\n",
       "  display: none;\n",
       "  grid-column: 1 / -1;\n",
       "  margin-bottom: 5px;\n",
       "}\n",
       "\n",
       ".xr-section-summary-in:checked ~ .xr-section-details {\n",
       "  display: contents;\n",
       "}\n",
       "\n",
       ".xr-array-wrap {\n",
       "  grid-column: 1 / -1;\n",
       "  display: grid;\n",
       "  grid-template-columns: 20px auto;\n",
       "}\n",
       "\n",
       ".xr-array-wrap > label {\n",
       "  grid-column: 1;\n",
       "  vertical-align: top;\n",
       "}\n",
       "\n",
       ".xr-preview {\n",
       "  color: var(--xr-font-color3);\n",
       "}\n",
       "\n",
       ".xr-array-preview,\n",
       ".xr-array-data {\n",
       "  padding: 0 5px !important;\n",
       "  grid-column: 2;\n",
       "}\n",
       "\n",
       ".xr-array-data,\n",
       ".xr-array-in:checked ~ .xr-array-preview {\n",
       "  display: none;\n",
       "}\n",
       "\n",
       ".xr-array-in:checked ~ .xr-array-data,\n",
       ".xr-array-preview {\n",
       "  display: inline-block;\n",
       "}\n",
       "\n",
       ".xr-dim-list {\n",
       "  display: inline-block !important;\n",
       "  list-style: none;\n",
       "  padding: 0 !important;\n",
       "  margin: 0;\n",
       "}\n",
       "\n",
       ".xr-dim-list li {\n",
       "  display: inline-block;\n",
       "  padding: 0;\n",
       "  margin: 0;\n",
       "}\n",
       "\n",
       ".xr-dim-list:before {\n",
       "  content: \"(\";\n",
       "}\n",
       "\n",
       ".xr-dim-list:after {\n",
       "  content: \")\";\n",
       "}\n",
       "\n",
       ".xr-dim-list li:not(:last-child):after {\n",
       "  content: \",\";\n",
       "  padding-right: 5px;\n",
       "}\n",
       "\n",
       ".xr-has-index {\n",
       "  font-weight: bold;\n",
       "}\n",
       "\n",
       ".xr-var-list,\n",
       ".xr-var-item {\n",
       "  display: contents;\n",
       "}\n",
       "\n",
       ".xr-var-item > div,\n",
       ".xr-var-item label,\n",
       ".xr-var-item > .xr-var-name span {\n",
       "  background-color: var(--xr-background-color-row-even);\n",
       "  margin-bottom: 0;\n",
       "}\n",
       "\n",
       ".xr-var-item > .xr-var-name:hover span {\n",
       "  padding-right: 5px;\n",
       "}\n",
       "\n",
       ".xr-var-list > li:nth-child(odd) > div,\n",
       ".xr-var-list > li:nth-child(odd) > label,\n",
       ".xr-var-list > li:nth-child(odd) > .xr-var-name span {\n",
       "  background-color: var(--xr-background-color-row-odd);\n",
       "}\n",
       "\n",
       ".xr-var-name {\n",
       "  grid-column: 1;\n",
       "}\n",
       "\n",
       ".xr-var-dims {\n",
       "  grid-column: 2;\n",
       "}\n",
       "\n",
       ".xr-var-dtype {\n",
       "  grid-column: 3;\n",
       "  text-align: right;\n",
       "  color: var(--xr-font-color2);\n",
       "}\n",
       "\n",
       ".xr-var-preview {\n",
       "  grid-column: 4;\n",
       "}\n",
       "\n",
       ".xr-index-preview {\n",
       "  grid-column: 2 / 5;\n",
       "  color: var(--xr-font-color2);\n",
       "}\n",
       "\n",
       ".xr-var-name,\n",
       ".xr-var-dims,\n",
       ".xr-var-dtype,\n",
       ".xr-preview,\n",
       ".xr-attrs dt {\n",
       "  white-space: nowrap;\n",
       "  overflow: hidden;\n",
       "  text-overflow: ellipsis;\n",
       "  padding-right: 10px;\n",
       "}\n",
       "\n",
       ".xr-var-name:hover,\n",
       ".xr-var-dims:hover,\n",
       ".xr-var-dtype:hover,\n",
       ".xr-attrs dt:hover {\n",
       "  overflow: visible;\n",
       "  width: auto;\n",
       "  z-index: 1;\n",
       "}\n",
       "\n",
       ".xr-var-attrs,\n",
       ".xr-var-data,\n",
       ".xr-index-data {\n",
       "  display: none;\n",
       "  background-color: var(--xr-background-color) !important;\n",
       "  padding-bottom: 5px !important;\n",
       "}\n",
       "\n",
       ".xr-var-attrs-in:checked ~ .xr-var-attrs,\n",
       ".xr-var-data-in:checked ~ .xr-var-data,\n",
       ".xr-index-data-in:checked ~ .xr-index-data {\n",
       "  display: block;\n",
       "}\n",
       "\n",
       ".xr-var-data > table {\n",
       "  float: right;\n",
       "}\n",
       "\n",
       ".xr-var-name span,\n",
       ".xr-var-data,\n",
       ".xr-index-name div,\n",
       ".xr-index-data,\n",
       ".xr-attrs {\n",
       "  padding-left: 25px !important;\n",
       "}\n",
       "\n",
       ".xr-attrs,\n",
       ".xr-var-attrs,\n",
       ".xr-var-data,\n",
       ".xr-index-data {\n",
       "  grid-column: 1 / -1;\n",
       "}\n",
       "\n",
       "dl.xr-attrs {\n",
       "  padding: 0;\n",
       "  margin: 0;\n",
       "  display: grid;\n",
       "  grid-template-columns: 125px auto;\n",
       "}\n",
       "\n",
       ".xr-attrs dt,\n",
       ".xr-attrs dd {\n",
       "  padding: 0;\n",
       "  margin: 0;\n",
       "  float: left;\n",
       "  padding-right: 10px;\n",
       "  width: auto;\n",
       "}\n",
       "\n",
       ".xr-attrs dt {\n",
       "  font-weight: normal;\n",
       "  grid-column: 1;\n",
       "}\n",
       "\n",
       ".xr-attrs dt:hover span {\n",
       "  display: inline-block;\n",
       "  background: var(--xr-background-color);\n",
       "  padding-right: 10px;\n",
       "}\n",
       "\n",
       ".xr-attrs dd {\n",
       "  grid-column: 2;\n",
       "  white-space: pre-wrap;\n",
       "  word-break: break-all;\n",
       "}\n",
       "\n",
       ".xr-icon-database,\n",
       ".xr-icon-file-text2,\n",
       ".xr-no-icon {\n",
       "  display: inline-block;\n",
       "  vertical-align: middle;\n",
       "  width: 1em;\n",
       "  height: 1.5em !important;\n",
       "  stroke-width: 0;\n",
       "  stroke: currentColor;\n",
       "  fill: currentColor;\n",
       "}\n",
       "</style><pre class='xr-text-repr-fallback'>&lt;xarray.DataArray &#x27;pteropod_biomass_gm2&#x27; (time: 579, is_day: 2, latitude: 3,\n",
       "                                          longitude: 3, depth: 66)&gt; Size: 6MB\n",
       "array([[[[[nan, nan, nan, ..., nan, nan, nan],\n",
       "          [nan, nan, nan, ..., nan, nan, nan],\n",
       "          [nan, nan, nan, ..., nan, nan, nan]],\n",
       "\n",
       "         [[nan, nan, nan, ..., nan, nan, nan],\n",
       "          [nan, nan, nan, ..., nan, nan, nan],\n",
       "          [nan, nan, nan, ..., nan, nan, nan]],\n",
       "\n",
       "         [[nan, nan, nan, ..., nan, nan, nan],\n",
       "          [nan, nan, nan, ..., nan, nan, nan],\n",
       "          [nan, nan, nan, ..., nan, nan, nan]]],\n",
       "\n",
       "\n",
       "        [[[nan, nan, nan, ..., nan, nan, nan],\n",
       "          [nan, nan, nan, ..., nan, nan, nan],\n",
       "          [nan, nan, nan, ..., nan, nan, nan]],\n",
       "\n",
       "         [[nan, nan, nan, ..., nan, nan, nan],\n",
       "          [nan, nan, nan, ..., nan, nan, nan],\n",
       "          [nan, nan, nan, ..., nan, nan, nan]],\n",
       "...\n",
       "         [[nan, nan, nan, ..., nan, nan, nan],\n",
       "          [nan, nan, nan, ..., nan, nan, nan],\n",
       "          [nan, nan, nan, ..., nan, nan, nan]],\n",
       "\n",
       "         [[nan, nan, nan, ..., nan, nan, nan],\n",
       "          [nan, nan, nan, ..., nan, nan, nan],\n",
       "          [nan, nan, nan, ..., nan, nan, nan]]],\n",
       "\n",
       "\n",
       "        [[[nan, nan, nan, ..., nan, nan, nan],\n",
       "          [nan, nan, nan, ..., nan, nan, nan],\n",
       "          [nan, nan, nan, ..., nan, nan, nan]],\n",
       "\n",
       "         [[nan, nan, nan, ..., nan, nan, nan],\n",
       "          [nan, nan, nan, ..., nan, nan, nan],\n",
       "          [nan, nan, nan, ..., nan, nan, nan]],\n",
       "\n",
       "         [[nan, nan, nan, ..., nan, nan, nan],\n",
       "          [nan, nan, nan, ..., nan, nan, nan],\n",
       "          [nan, nan, nan, ..., nan, nan, nan]]]]])\n",
       "Coordinates:\n",
       "  * longitude  (longitude) float64 24B -130.5 -129.5 -128.5\n",
       "  * latitude   (latitude) float64 24B 48.5 49.5 50.5\n",
       "  * is_day     (is_day) bool 2B False True\n",
       "  * depth      (depth) float64 528B 34.0 35.0 37.0 48.0 ... 261.0 276.0 295.0\n",
       "  * time       (time) datetime64[ns] 5kB 1998-01-19 1998-01-20 ... 2020-08-31\n",
       "Attributes:\n",
       "    units:      g m-2\n",
       "    long_name:  Pteropod integrated biomass in epipelagic layer</pre><div class='xr-wrap' style='display:none'><div class='xr-header'><div class='xr-obj-type'>xarray.DataArray</div><div class='xr-array-name'>'pteropod_biomass_gm2'</div><ul class='xr-dim-list'><li><span class='xr-has-index'>time</span>: 579</li><li><span class='xr-has-index'>is_day</span>: 2</li><li><span class='xr-has-index'>latitude</span>: 3</li><li><span class='xr-has-index'>longitude</span>: 3</li><li><span class='xr-has-index'>depth</span>: 66</li></ul></div><ul class='xr-sections'><li class='xr-section-item'><div class='xr-array-wrap'><input id='section-8afe2400-99ef-4123-8fd7-ffbaaf9a248f' class='xr-array-in' type='checkbox' checked><label for='section-8afe2400-99ef-4123-8fd7-ffbaaf9a248f' title='Show/hide data repr'><svg class='icon xr-icon-database'><use xlink:href='#icon-database'></use></svg></label><div class='xr-array-preview xr-preview'><span>nan nan nan nan nan nan nan nan ... nan nan nan nan nan nan nan nan</span></div><div class='xr-array-data'><pre>array([[[[[nan, nan, nan, ..., nan, nan, nan],\n",
       "          [nan, nan, nan, ..., nan, nan, nan],\n",
       "          [nan, nan, nan, ..., nan, nan, nan]],\n",
       "\n",
       "         [[nan, nan, nan, ..., nan, nan, nan],\n",
       "          [nan, nan, nan, ..., nan, nan, nan],\n",
       "          [nan, nan, nan, ..., nan, nan, nan]],\n",
       "\n",
       "         [[nan, nan, nan, ..., nan, nan, nan],\n",
       "          [nan, nan, nan, ..., nan, nan, nan],\n",
       "          [nan, nan, nan, ..., nan, nan, nan]]],\n",
       "\n",
       "\n",
       "        [[[nan, nan, nan, ..., nan, nan, nan],\n",
       "          [nan, nan, nan, ..., nan, nan, nan],\n",
       "          [nan, nan, nan, ..., nan, nan, nan]],\n",
       "\n",
       "         [[nan, nan, nan, ..., nan, nan, nan],\n",
       "          [nan, nan, nan, ..., nan, nan, nan],\n",
       "          [nan, nan, nan, ..., nan, nan, nan]],\n",
       "...\n",
       "         [[nan, nan, nan, ..., nan, nan, nan],\n",
       "          [nan, nan, nan, ..., nan, nan, nan],\n",
       "          [nan, nan, nan, ..., nan, nan, nan]],\n",
       "\n",
       "         [[nan, nan, nan, ..., nan, nan, nan],\n",
       "          [nan, nan, nan, ..., nan, nan, nan],\n",
       "          [nan, nan, nan, ..., nan, nan, nan]]],\n",
       "\n",
       "\n",
       "        [[[nan, nan, nan, ..., nan, nan, nan],\n",
       "          [nan, nan, nan, ..., nan, nan, nan],\n",
       "          [nan, nan, nan, ..., nan, nan, nan]],\n",
       "\n",
       "         [[nan, nan, nan, ..., nan, nan, nan],\n",
       "          [nan, nan, nan, ..., nan, nan, nan],\n",
       "          [nan, nan, nan, ..., nan, nan, nan]],\n",
       "\n",
       "         [[nan, nan, nan, ..., nan, nan, nan],\n",
       "          [nan, nan, nan, ..., nan, nan, nan],\n",
       "          [nan, nan, nan, ..., nan, nan, nan]]]]])</pre></div></div></li><li class='xr-section-item'><input id='section-51923dda-535c-4af5-814f-8f238941807a' class='xr-section-summary-in' type='checkbox'  checked><label for='section-51923dda-535c-4af5-814f-8f238941807a' class='xr-section-summary' >Coordinates: <span>(5)</span></label><div class='xr-section-inline-details'></div><div class='xr-section-details'><ul class='xr-var-list'><li class='xr-var-item'><div class='xr-var-name'><span class='xr-has-index'>longitude</span></div><div class='xr-var-dims'>(longitude)</div><div class='xr-var-dtype'>float64</div><div class='xr-var-preview xr-preview'>-130.5 -129.5 -128.5</div><input id='attrs-d2ae275e-dc9a-4446-b10a-0b520a3e46b5' class='xr-var-attrs-in' type='checkbox' ><label for='attrs-d2ae275e-dc9a-4446-b10a-0b520a3e46b5' title='Show/Hide attributes'><svg class='icon xr-icon-file-text2'><use xlink:href='#icon-file-text2'></use></svg></label><input id='data-a741df46-4737-430c-a16d-c46cf2bcc9b0' class='xr-var-data-in' type='checkbox'><label for='data-a741df46-4737-430c-a16d-c46cf2bcc9b0' title='Show/Hide data repr'><svg class='icon xr-icon-database'><use xlink:href='#icon-database'></use></svg></label><div class='xr-var-attrs'><dl class='xr-attrs'><dt><span>standard_name :</span></dt><dd>longitude</dd><dt><span>long_name :</span></dt><dd>longitude</dd><dt><span>axis :</span></dt><dd>X</dd><dt><span>units :</span></dt><dd>degrees_east</dd></dl></div><div class='xr-var-data'><pre>array([-130.5, -129.5, -128.5])</pre></div></li><li class='xr-var-item'><div class='xr-var-name'><span class='xr-has-index'>latitude</span></div><div class='xr-var-dims'>(latitude)</div><div class='xr-var-dtype'>float64</div><div class='xr-var-preview xr-preview'>48.5 49.5 50.5</div><input id='attrs-05ab4fa6-9079-46b7-b356-75f8d861b550' class='xr-var-attrs-in' type='checkbox' ><label for='attrs-05ab4fa6-9079-46b7-b356-75f8d861b550' title='Show/Hide attributes'><svg class='icon xr-icon-file-text2'><use xlink:href='#icon-file-text2'></use></svg></label><input id='data-565733c3-35a2-414a-9f44-aca4627a6c95' class='xr-var-data-in' type='checkbox'><label for='data-565733c3-35a2-414a-9f44-aca4627a6c95' title='Show/Hide data repr'><svg class='icon xr-icon-database'><use xlink:href='#icon-database'></use></svg></label><div class='xr-var-attrs'><dl class='xr-attrs'><dt><span>standard_name :</span></dt><dd>latitude</dd><dt><span>long_name :</span></dt><dd>latitude</dd><dt><span>axis :</span></dt><dd>Y</dd><dt><span>units :</span></dt><dd>degrees_north</dd></dl></div><div class='xr-var-data'><pre>array([48.5, 49.5, 50.5])</pre></div></li><li class='xr-var-item'><div class='xr-var-name'><span class='xr-has-index'>is_day</span></div><div class='xr-var-dims'>(is_day)</div><div class='xr-var-dtype'>bool</div><div class='xr-var-preview xr-preview'>False True</div><input id='attrs-16cd8b8b-44cf-426b-a6e5-7dfd0c12a07b' class='xr-var-attrs-in' type='checkbox' ><label for='attrs-16cd8b8b-44cf-426b-a6e5-7dfd0c12a07b' title='Show/Hide attributes'><svg class='icon xr-icon-file-text2'><use xlink:href='#icon-file-text2'></use></svg></label><input id='data-7398ace4-f6cb-47eb-b788-9d48adee4441' class='xr-var-data-in' type='checkbox'><label for='data-7398ace4-f6cb-47eb-b788-9d48adee4441' title='Show/Hide data repr'><svg class='icon xr-icon-database'><use xlink:href='#icon-database'></use></svg></label><div class='xr-var-attrs'><dl class='xr-attrs'><dt><span>flag_values :</span></dt><dd>[True, False]</dd><dt><span>flag_meanings :</span></dt><dd>day night</dd><dt><span>standard_name :</span></dt><dd>is_day</dd><dt><span>long_name :</span></dt><dd>Is day</dd><dt><span>description :</span></dt><dd>Flag to indicate if the time is during the day or night</dd></dl></div><div class='xr-var-data'><pre>array([False,  True])</pre></div></li><li class='xr-var-item'><div class='xr-var-name'><span class='xr-has-index'>depth</span></div><div class='xr-var-dims'>(depth)</div><div class='xr-var-dtype'>float64</div><div class='xr-var-preview xr-preview'>34.0 35.0 37.0 ... 276.0 295.0</div><input id='attrs-6e0a0382-2550-437c-913d-f562343dfad4' class='xr-var-attrs-in' type='checkbox' ><label for='attrs-6e0a0382-2550-437c-913d-f562343dfad4' title='Show/Hide attributes'><svg class='icon xr-icon-file-text2'><use xlink:href='#icon-file-text2'></use></svg></label><input id='data-5f9d81b8-1837-4643-8f57-792261c6cbc5' class='xr-var-data-in' type='checkbox'><label for='data-5f9d81b8-1837-4643-8f57-792261c6cbc5' title='Show/Hide data repr'><svg class='icon xr-icon-database'><use xlink:href='#icon-database'></use></svg></label><div class='xr-var-attrs'><dl class='xr-attrs'><dt><span>standard_name :</span></dt><dd>depth</dd><dt><span>long_name :</span></dt><dd>depth</dd><dt><span>axis :</span></dt><dd>Z</dd><dt><span>units :</span></dt><dd>m</dd></dl></div><div class='xr-var-data'><pre>array([ 34.,  35.,  37.,  48.,  49.,  50.,  52.,  57.,  98.,  99., 100., 101.,\n",
       "       103., 105., 109., 121., 130., 139., 140., 141., 144., 145., 146., 147.,\n",
       "       148., 149., 150., 151., 152., 153., 154., 155., 156., 158., 159., 160.,\n",
       "       163., 164., 171., 192., 207., 213., 216., 217., 227., 229., 230., 235.,\n",
       "       238., 239., 240., 241., 244., 245., 246., 248., 249., 250., 251., 254.,\n",
       "       256., 257., 258., 261., 276., 295.])</pre></div></li><li class='xr-var-item'><div class='xr-var-name'><span class='xr-has-index'>time</span></div><div class='xr-var-dims'>(time)</div><div class='xr-var-dtype'>datetime64[ns]</div><div class='xr-var-preview xr-preview'>1998-01-19 ... 2020-08-31</div><input id='attrs-b634dc64-fa98-4f01-820c-0a21b62a50b3' class='xr-var-attrs-in' type='checkbox' ><label for='attrs-b634dc64-fa98-4f01-820c-0a21b62a50b3' title='Show/Hide attributes'><svg class='icon xr-icon-file-text2'><use xlink:href='#icon-file-text2'></use></svg></label><input id='data-40aa73e1-9190-412e-9295-fdd03b0c33a0' class='xr-var-data-in' type='checkbox'><label for='data-40aa73e1-9190-412e-9295-fdd03b0c33a0' title='Show/Hide data repr'><svg class='icon xr-icon-database'><use xlink:href='#icon-database'></use></svg></label><div class='xr-var-attrs'><dl class='xr-attrs'><dt><span>standard_name :</span></dt><dd>time</dd><dt><span>long_name :</span></dt><dd>time</dd><dt><span>axis :</span></dt><dd>T</dd></dl></div><div class='xr-var-data'><pre>array([&#x27;1998-01-19T00:00:00.000000000&#x27;, &#x27;1998-01-20T00:00:00.000000000&#x27;,\n",
       "       &#x27;1998-02-21T00:00:00.000000000&#x27;, ..., &#x27;2020-08-20T00:00:00.000000000&#x27;,\n",
       "       &#x27;2020-08-30T00:00:00.000000000&#x27;, &#x27;2020-08-31T00:00:00.000000000&#x27;],\n",
       "      dtype=&#x27;datetime64[ns]&#x27;)</pre></div></li></ul></div></li><li class='xr-section-item'><input id='section-c8b16f42-a92e-4352-aa9f-a75f40574a33' class='xr-section-summary-in' type='checkbox'  ><label for='section-c8b16f42-a92e-4352-aa9f-a75f40574a33' class='xr-section-summary' >Indexes: <span>(5)</span></label><div class='xr-section-inline-details'></div><div class='xr-section-details'><ul class='xr-var-list'><li class='xr-var-item'><div class='xr-index-name'><div>longitude</div></div><div class='xr-index-preview'>PandasIndex</div><input type='checkbox' disabled/><label></label><input id='index-7aaf43f9-2e34-4214-b0ba-2306229c5455' class='xr-index-data-in' type='checkbox'/><label for='index-7aaf43f9-2e34-4214-b0ba-2306229c5455' title='Show/Hide index repr'><svg class='icon xr-icon-database'><use xlink:href='#icon-database'></use></svg></label><div class='xr-index-data'><pre>PandasIndex(Index([-130.5, -129.5, -128.5], dtype=&#x27;float64&#x27;, name=&#x27;longitude&#x27;))</pre></div></li><li class='xr-var-item'><div class='xr-index-name'><div>latitude</div></div><div class='xr-index-preview'>PandasIndex</div><input type='checkbox' disabled/><label></label><input id='index-506c64ce-f13c-4838-a507-88ea7c03b228' class='xr-index-data-in' type='checkbox'/><label for='index-506c64ce-f13c-4838-a507-88ea7c03b228' title='Show/Hide index repr'><svg class='icon xr-icon-database'><use xlink:href='#icon-database'></use></svg></label><div class='xr-index-data'><pre>PandasIndex(Index([48.5, 49.5, 50.5], dtype=&#x27;float64&#x27;, name=&#x27;latitude&#x27;))</pre></div></li><li class='xr-var-item'><div class='xr-index-name'><div>is_day</div></div><div class='xr-index-preview'>PandasIndex</div><input type='checkbox' disabled/><label></label><input id='index-50f7769d-5362-4138-8b01-cb7dfa7a9e96' class='xr-index-data-in' type='checkbox'/><label for='index-50f7769d-5362-4138-8b01-cb7dfa7a9e96' title='Show/Hide index repr'><svg class='icon xr-icon-database'><use xlink:href='#icon-database'></use></svg></label><div class='xr-index-data'><pre>PandasIndex(Index([False, True], dtype=&#x27;bool&#x27;, name=&#x27;is_day&#x27;))</pre></div></li><li class='xr-var-item'><div class='xr-index-name'><div>depth</div></div><div class='xr-index-preview'>PandasIndex</div><input type='checkbox' disabled/><label></label><input id='index-6df4b74e-fc00-4cd2-8c3a-533974aa1827' class='xr-index-data-in' type='checkbox'/><label for='index-6df4b74e-fc00-4cd2-8c3a-533974aa1827' title='Show/Hide index repr'><svg class='icon xr-icon-database'><use xlink:href='#icon-database'></use></svg></label><div class='xr-index-data'><pre>PandasIndex(Index([ 34.0,  35.0,  37.0,  48.0,  49.0,  50.0,  52.0,  57.0,  98.0,  99.0,\n",
       "       100.0, 101.0, 103.0, 105.0, 109.0, 121.0, 130.0, 139.0, 140.0, 141.0,\n",
       "       144.0, 145.0, 146.0, 147.0, 148.0, 149.0, 150.0, 151.0, 152.0, 153.0,\n",
       "       154.0, 155.0, 156.0, 158.0, 159.0, 160.0, 163.0, 164.0, 171.0, 192.0,\n",
       "       207.0, 213.0, 216.0, 217.0, 227.0, 229.0, 230.0, 235.0, 238.0, 239.0,\n",
       "       240.0, 241.0, 244.0, 245.0, 246.0, 248.0, 249.0, 250.0, 251.0, 254.0,\n",
       "       256.0, 257.0, 258.0, 261.0, 276.0, 295.0],\n",
       "      dtype=&#x27;float64&#x27;, name=&#x27;depth&#x27;))</pre></div></li><li class='xr-var-item'><div class='xr-index-name'><div>time</div></div><div class='xr-index-preview'>PandasIndex</div><input type='checkbox' disabled/><label></label><input id='index-f4f00992-ebaa-412a-bca1-323d53c1b584' class='xr-index-data-in' type='checkbox'/><label for='index-f4f00992-ebaa-412a-bca1-323d53c1b584' title='Show/Hide index repr'><svg class='icon xr-icon-database'><use xlink:href='#icon-database'></use></svg></label><div class='xr-index-data'><pre>PandasIndex(DatetimeIndex([&#x27;1998-01-19&#x27;, &#x27;1998-01-20&#x27;, &#x27;1998-02-21&#x27;, &#x27;1998-02-23&#x27;,\n",
       "               &#x27;1998-02-24&#x27;, &#x27;1998-02-27&#x27;, &#x27;1998-02-28&#x27;, &#x27;1998-03-03&#x27;,\n",
       "               &#x27;1998-04-08&#x27;, &#x27;1998-04-09&#x27;,\n",
       "               ...\n",
       "               &#x27;2020-07-05&#x27;, &#x27;2020-07-22&#x27;, &#x27;2020-07-26&#x27;, &#x27;2020-08-14&#x27;,\n",
       "               &#x27;2020-08-15&#x27;, &#x27;2020-08-17&#x27;, &#x27;2020-08-18&#x27;, &#x27;2020-08-20&#x27;,\n",
       "               &#x27;2020-08-30&#x27;, &#x27;2020-08-31&#x27;],\n",
       "              dtype=&#x27;datetime64[ns]&#x27;, name=&#x27;time&#x27;, length=579, freq=None))</pre></div></li></ul></div></li><li class='xr-section-item'><input id='section-1cb0b16c-9bd5-46f2-a9db-9a6c921e9fa4' class='xr-section-summary-in' type='checkbox'  checked><label for='section-1cb0b16c-9bd5-46f2-a9db-9a6c921e9fa4' class='xr-section-summary' >Attributes: <span>(2)</span></label><div class='xr-section-inline-details'></div><div class='xr-section-details'><dl class='xr-attrs'><dt><span>units :</span></dt><dd>g m-2</dd><dt><span>long_name :</span></dt><dd>Pteropod integrated biomass in epipelagic layer</dd></dl></div></li></ul></div></div>"
      ],
      "text/plain": [
       "<xarray.DataArray 'pteropod_biomass_gm2' (time: 579, is_day: 2, latitude: 3,\n",
       "                                          longitude: 3, depth: 66)> Size: 6MB\n",
       "array([[[[[nan, nan, nan, ..., nan, nan, nan],\n",
       "          [nan, nan, nan, ..., nan, nan, nan],\n",
       "          [nan, nan, nan, ..., nan, nan, nan]],\n",
       "\n",
       "         [[nan, nan, nan, ..., nan, nan, nan],\n",
       "          [nan, nan, nan, ..., nan, nan, nan],\n",
       "          [nan, nan, nan, ..., nan, nan, nan]],\n",
       "\n",
       "         [[nan, nan, nan, ..., nan, nan, nan],\n",
       "          [nan, nan, nan, ..., nan, nan, nan],\n",
       "          [nan, nan, nan, ..., nan, nan, nan]]],\n",
       "\n",
       "\n",
       "        [[[nan, nan, nan, ..., nan, nan, nan],\n",
       "          [nan, nan, nan, ..., nan, nan, nan],\n",
       "          [nan, nan, nan, ..., nan, nan, nan]],\n",
       "\n",
       "         [[nan, nan, nan, ..., nan, nan, nan],\n",
       "          [nan, nan, nan, ..., nan, nan, nan],\n",
       "          [nan, nan, nan, ..., nan, nan, nan]],\n",
       "...\n",
       "         [[nan, nan, nan, ..., nan, nan, nan],\n",
       "          [nan, nan, nan, ..., nan, nan, nan],\n",
       "          [nan, nan, nan, ..., nan, nan, nan]],\n",
       "\n",
       "         [[nan, nan, nan, ..., nan, nan, nan],\n",
       "          [nan, nan, nan, ..., nan, nan, nan],\n",
       "          [nan, nan, nan, ..., nan, nan, nan]]],\n",
       "\n",
       "\n",
       "        [[[nan, nan, nan, ..., nan, nan, nan],\n",
       "          [nan, nan, nan, ..., nan, nan, nan],\n",
       "          [nan, nan, nan, ..., nan, nan, nan]],\n",
       "\n",
       "         [[nan, nan, nan, ..., nan, nan, nan],\n",
       "          [nan, nan, nan, ..., nan, nan, nan],\n",
       "          [nan, nan, nan, ..., nan, nan, nan]],\n",
       "\n",
       "         [[nan, nan, nan, ..., nan, nan, nan],\n",
       "          [nan, nan, nan, ..., nan, nan, nan],\n",
       "          [nan, nan, nan, ..., nan, nan, nan]]]]])\n",
       "Coordinates:\n",
       "  * longitude  (longitude) float64 24B -130.5 -129.5 -128.5\n",
       "  * latitude   (latitude) float64 24B 48.5 49.5 50.5\n",
       "  * is_day     (is_day) bool 2B False True\n",
       "  * depth      (depth) float64 528B 34.0 35.0 37.0 48.0 ... 261.0 276.0 295.0\n",
       "  * time       (time) datetime64[ns] 5kB 1998-01-19 1998-01-20 ... 2020-08-31\n",
       "Attributes:\n",
       "    units:      g m-2\n",
       "    long_name:  Pteropod integrated biomass in epipelagic layer"
      ]
     },
     "execution_count": 113,
     "metadata": {},
     "output_type": "execute_result"
    }
   ],
   "source": [
    "ds_pter_2deg = ds_pter_gm2.sel(\n",
    "    latitude=slice(48.5, 50.5),\n",
    "    longitude=slice(-130.5, -128.5)\n",
    ")\n",
    "ds_pter_2deg"
   ]
  },
  {
   "cell_type": "code",
   "execution_count": 118,
   "id": "5affc34e",
   "metadata": {},
   "outputs": [
    {
     "data": {
      "text/html": [
       "<div><svg style=\"position: absolute; width: 0; height: 0; overflow: hidden\">\n",
       "<defs>\n",
       "<symbol id=\"icon-database\" viewBox=\"0 0 32 32\">\n",
       "<path d=\"M16 0c-8.837 0-16 2.239-16 5v4c0 2.761 7.163 5 16 5s16-2.239 16-5v-4c0-2.761-7.163-5-16-5z\"></path>\n",
       "<path d=\"M16 17c-8.837 0-16-2.239-16-5v6c0 2.761 7.163 5 16 5s16-2.239 16-5v-6c0 2.761-7.163 5-16 5z\"></path>\n",
       "<path d=\"M16 26c-8.837 0-16-2.239-16-5v6c0 2.761 7.163 5 16 5s16-2.239 16-5v-6c0 2.761-7.163 5-16 5z\"></path>\n",
       "</symbol>\n",
       "<symbol id=\"icon-file-text2\" viewBox=\"0 0 32 32\">\n",
       "<path d=\"M28.681 7.159c-0.694-0.947-1.662-2.053-2.724-3.116s-2.169-2.030-3.116-2.724c-1.612-1.182-2.393-1.319-2.841-1.319h-15.5c-1.378 0-2.5 1.121-2.5 2.5v27c0 1.378 1.122 2.5 2.5 2.5h23c1.378 0 2.5-1.122 2.5-2.5v-19.5c0-0.448-0.137-1.23-1.319-2.841zM24.543 5.457c0.959 0.959 1.712 1.825 2.268 2.543h-4.811v-4.811c0.718 0.556 1.584 1.309 2.543 2.268zM28 29.5c0 0.271-0.229 0.5-0.5 0.5h-23c-0.271 0-0.5-0.229-0.5-0.5v-27c0-0.271 0.229-0.5 0.5-0.5 0 0 15.499-0 15.5 0v7c0 0.552 0.448 1 1 1h7v19.5z\"></path>\n",
       "<path d=\"M23 26h-14c-0.552 0-1-0.448-1-1s0.448-1 1-1h14c0.552 0 1 0.448 1 1s-0.448 1-1 1z\"></path>\n",
       "<path d=\"M23 22h-14c-0.552 0-1-0.448-1-1s0.448-1 1-1h14c0.552 0 1 0.448 1 1s-0.448 1-1 1z\"></path>\n",
       "<path d=\"M23 18h-14c-0.552 0-1-0.448-1-1s0.448-1 1-1h14c0.552 0 1 0.448 1 1s-0.448 1-1 1z\"></path>\n",
       "</symbol>\n",
       "</defs>\n",
       "</svg>\n",
       "<style>/* CSS stylesheet for displaying xarray objects in jupyterlab.\n",
       " *\n",
       " */\n",
       "\n",
       ":root {\n",
       "  --xr-font-color0: var(--jp-content-font-color0, rgba(0, 0, 0, 1));\n",
       "  --xr-font-color2: var(--jp-content-font-color2, rgba(0, 0, 0, 0.54));\n",
       "  --xr-font-color3: var(--jp-content-font-color3, rgba(0, 0, 0, 0.38));\n",
       "  --xr-border-color: var(--jp-border-color2, #e0e0e0);\n",
       "  --xr-disabled-color: var(--jp-layout-color3, #bdbdbd);\n",
       "  --xr-background-color: var(--jp-layout-color0, white);\n",
       "  --xr-background-color-row-even: var(--jp-layout-color1, white);\n",
       "  --xr-background-color-row-odd: var(--jp-layout-color2, #eeeeee);\n",
       "}\n",
       "\n",
       "html[theme=\"dark\"],\n",
       "html[data-theme=\"dark\"],\n",
       "body[data-theme=\"dark\"],\n",
       "body.vscode-dark {\n",
       "  --xr-font-color0: rgba(255, 255, 255, 1);\n",
       "  --xr-font-color2: rgba(255, 255, 255, 0.54);\n",
       "  --xr-font-color3: rgba(255, 255, 255, 0.38);\n",
       "  --xr-border-color: #1f1f1f;\n",
       "  --xr-disabled-color: #515151;\n",
       "  --xr-background-color: #111111;\n",
       "  --xr-background-color-row-even: #111111;\n",
       "  --xr-background-color-row-odd: #313131;\n",
       "}\n",
       "\n",
       ".xr-wrap {\n",
       "  display: block !important;\n",
       "  min-width: 300px;\n",
       "  max-width: 700px;\n",
       "}\n",
       "\n",
       ".xr-text-repr-fallback {\n",
       "  /* fallback to plain text repr when CSS is not injected (untrusted notebook) */\n",
       "  display: none;\n",
       "}\n",
       "\n",
       ".xr-header {\n",
       "  padding-top: 6px;\n",
       "  padding-bottom: 6px;\n",
       "  margin-bottom: 4px;\n",
       "  border-bottom: solid 1px var(--xr-border-color);\n",
       "}\n",
       "\n",
       ".xr-header > div,\n",
       ".xr-header > ul {\n",
       "  display: inline;\n",
       "  margin-top: 0;\n",
       "  margin-bottom: 0;\n",
       "}\n",
       "\n",
       ".xr-obj-type,\n",
       ".xr-array-name {\n",
       "  margin-left: 2px;\n",
       "  margin-right: 10px;\n",
       "}\n",
       "\n",
       ".xr-obj-type {\n",
       "  color: var(--xr-font-color2);\n",
       "}\n",
       "\n",
       ".xr-sections {\n",
       "  padding-left: 0 !important;\n",
       "  display: grid;\n",
       "  grid-template-columns: 150px auto auto 1fr 0 20px 0 20px;\n",
       "}\n",
       "\n",
       ".xr-section-item {\n",
       "  display: contents;\n",
       "}\n",
       "\n",
       ".xr-section-item input {\n",
       "  display: inline-block;\n",
       "  opacity: 0;\n",
       "  height: 0;\n",
       "}\n",
       "\n",
       ".xr-section-item input + label {\n",
       "  color: var(--xr-disabled-color);\n",
       "}\n",
       "\n",
       ".xr-section-item input:enabled + label {\n",
       "  cursor: pointer;\n",
       "  color: var(--xr-font-color2);\n",
       "}\n",
       "\n",
       ".xr-section-item input:focus + label {\n",
       "  border: 2px solid var(--xr-font-color0);\n",
       "}\n",
       "\n",
       ".xr-section-item input:enabled + label:hover {\n",
       "  color: var(--xr-font-color0);\n",
       "}\n",
       "\n",
       ".xr-section-summary {\n",
       "  grid-column: 1;\n",
       "  color: var(--xr-font-color2);\n",
       "  font-weight: 500;\n",
       "}\n",
       "\n",
       ".xr-section-summary > span {\n",
       "  display: inline-block;\n",
       "  padding-left: 0.5em;\n",
       "}\n",
       "\n",
       ".xr-section-summary-in:disabled + label {\n",
       "  color: var(--xr-font-color2);\n",
       "}\n",
       "\n",
       ".xr-section-summary-in + label:before {\n",
       "  display: inline-block;\n",
       "  content: \"►\";\n",
       "  font-size: 11px;\n",
       "  width: 15px;\n",
       "  text-align: center;\n",
       "}\n",
       "\n",
       ".xr-section-summary-in:disabled + label:before {\n",
       "  color: var(--xr-disabled-color);\n",
       "}\n",
       "\n",
       ".xr-section-summary-in:checked + label:before {\n",
       "  content: \"▼\";\n",
       "}\n",
       "\n",
       ".xr-section-summary-in:checked + label > span {\n",
       "  display: none;\n",
       "}\n",
       "\n",
       ".xr-section-summary,\n",
       ".xr-section-inline-details {\n",
       "  padding-top: 4px;\n",
       "  padding-bottom: 4px;\n",
       "}\n",
       "\n",
       ".xr-section-inline-details {\n",
       "  grid-column: 2 / -1;\n",
       "}\n",
       "\n",
       ".xr-section-details {\n",
       "  display: none;\n",
       "  grid-column: 1 / -1;\n",
       "  margin-bottom: 5px;\n",
       "}\n",
       "\n",
       ".xr-section-summary-in:checked ~ .xr-section-details {\n",
       "  display: contents;\n",
       "}\n",
       "\n",
       ".xr-array-wrap {\n",
       "  grid-column: 1 / -1;\n",
       "  display: grid;\n",
       "  grid-template-columns: 20px auto;\n",
       "}\n",
       "\n",
       ".xr-array-wrap > label {\n",
       "  grid-column: 1;\n",
       "  vertical-align: top;\n",
       "}\n",
       "\n",
       ".xr-preview {\n",
       "  color: var(--xr-font-color3);\n",
       "}\n",
       "\n",
       ".xr-array-preview,\n",
       ".xr-array-data {\n",
       "  padding: 0 5px !important;\n",
       "  grid-column: 2;\n",
       "}\n",
       "\n",
       ".xr-array-data,\n",
       ".xr-array-in:checked ~ .xr-array-preview {\n",
       "  display: none;\n",
       "}\n",
       "\n",
       ".xr-array-in:checked ~ .xr-array-data,\n",
       ".xr-array-preview {\n",
       "  display: inline-block;\n",
       "}\n",
       "\n",
       ".xr-dim-list {\n",
       "  display: inline-block !important;\n",
       "  list-style: none;\n",
       "  padding: 0 !important;\n",
       "  margin: 0;\n",
       "}\n",
       "\n",
       ".xr-dim-list li {\n",
       "  display: inline-block;\n",
       "  padding: 0;\n",
       "  margin: 0;\n",
       "}\n",
       "\n",
       ".xr-dim-list:before {\n",
       "  content: \"(\";\n",
       "}\n",
       "\n",
       ".xr-dim-list:after {\n",
       "  content: \")\";\n",
       "}\n",
       "\n",
       ".xr-dim-list li:not(:last-child):after {\n",
       "  content: \",\";\n",
       "  padding-right: 5px;\n",
       "}\n",
       "\n",
       ".xr-has-index {\n",
       "  font-weight: bold;\n",
       "}\n",
       "\n",
       ".xr-var-list,\n",
       ".xr-var-item {\n",
       "  display: contents;\n",
       "}\n",
       "\n",
       ".xr-var-item > div,\n",
       ".xr-var-item label,\n",
       ".xr-var-item > .xr-var-name span {\n",
       "  background-color: var(--xr-background-color-row-even);\n",
       "  margin-bottom: 0;\n",
       "}\n",
       "\n",
       ".xr-var-item > .xr-var-name:hover span {\n",
       "  padding-right: 5px;\n",
       "}\n",
       "\n",
       ".xr-var-list > li:nth-child(odd) > div,\n",
       ".xr-var-list > li:nth-child(odd) > label,\n",
       ".xr-var-list > li:nth-child(odd) > .xr-var-name span {\n",
       "  background-color: var(--xr-background-color-row-odd);\n",
       "}\n",
       "\n",
       ".xr-var-name {\n",
       "  grid-column: 1;\n",
       "}\n",
       "\n",
       ".xr-var-dims {\n",
       "  grid-column: 2;\n",
       "}\n",
       "\n",
       ".xr-var-dtype {\n",
       "  grid-column: 3;\n",
       "  text-align: right;\n",
       "  color: var(--xr-font-color2);\n",
       "}\n",
       "\n",
       ".xr-var-preview {\n",
       "  grid-column: 4;\n",
       "}\n",
       "\n",
       ".xr-index-preview {\n",
       "  grid-column: 2 / 5;\n",
       "  color: var(--xr-font-color2);\n",
       "}\n",
       "\n",
       ".xr-var-name,\n",
       ".xr-var-dims,\n",
       ".xr-var-dtype,\n",
       ".xr-preview,\n",
       ".xr-attrs dt {\n",
       "  white-space: nowrap;\n",
       "  overflow: hidden;\n",
       "  text-overflow: ellipsis;\n",
       "  padding-right: 10px;\n",
       "}\n",
       "\n",
       ".xr-var-name:hover,\n",
       ".xr-var-dims:hover,\n",
       ".xr-var-dtype:hover,\n",
       ".xr-attrs dt:hover {\n",
       "  overflow: visible;\n",
       "  width: auto;\n",
       "  z-index: 1;\n",
       "}\n",
       "\n",
       ".xr-var-attrs,\n",
       ".xr-var-data,\n",
       ".xr-index-data {\n",
       "  display: none;\n",
       "  background-color: var(--xr-background-color) !important;\n",
       "  padding-bottom: 5px !important;\n",
       "}\n",
       "\n",
       ".xr-var-attrs-in:checked ~ .xr-var-attrs,\n",
       ".xr-var-data-in:checked ~ .xr-var-data,\n",
       ".xr-index-data-in:checked ~ .xr-index-data {\n",
       "  display: block;\n",
       "}\n",
       "\n",
       ".xr-var-data > table {\n",
       "  float: right;\n",
       "}\n",
       "\n",
       ".xr-var-name span,\n",
       ".xr-var-data,\n",
       ".xr-index-name div,\n",
       ".xr-index-data,\n",
       ".xr-attrs {\n",
       "  padding-left: 25px !important;\n",
       "}\n",
       "\n",
       ".xr-attrs,\n",
       ".xr-var-attrs,\n",
       ".xr-var-data,\n",
       ".xr-index-data {\n",
       "  grid-column: 1 / -1;\n",
       "}\n",
       "\n",
       "dl.xr-attrs {\n",
       "  padding: 0;\n",
       "  margin: 0;\n",
       "  display: grid;\n",
       "  grid-template-columns: 125px auto;\n",
       "}\n",
       "\n",
       ".xr-attrs dt,\n",
       ".xr-attrs dd {\n",
       "  padding: 0;\n",
       "  margin: 0;\n",
       "  float: left;\n",
       "  padding-right: 10px;\n",
       "  width: auto;\n",
       "}\n",
       "\n",
       ".xr-attrs dt {\n",
       "  font-weight: normal;\n",
       "  grid-column: 1;\n",
       "}\n",
       "\n",
       ".xr-attrs dt:hover span {\n",
       "  display: inline-block;\n",
       "  background: var(--xr-background-color);\n",
       "  padding-right: 10px;\n",
       "}\n",
       "\n",
       ".xr-attrs dd {\n",
       "  grid-column: 2;\n",
       "  white-space: pre-wrap;\n",
       "  word-break: break-all;\n",
       "}\n",
       "\n",
       ".xr-icon-database,\n",
       ".xr-icon-file-text2,\n",
       ".xr-no-icon {\n",
       "  display: inline-block;\n",
       "  vertical-align: middle;\n",
       "  width: 1em;\n",
       "  height: 1.5em !important;\n",
       "  stroke-width: 0;\n",
       "  stroke: currentColor;\n",
       "  fill: currentColor;\n",
       "}\n",
       "</style><pre class='xr-text-repr-fallback'>&lt;xarray.DataArray &#x27;pteropod_biomass_gm2&#x27; (time: 579)&gt; Size: 5kB\n",
       "array([4.87800046e-02, 4.80918935e-02, 1.61150763e-02,            nan,\n",
       "                  nan,            nan,            nan, 2.33905311e-02,\n",
       "       5.72899027e-02, 1.71936980e-01, 2.71157444e-01, 1.65682167e-02,\n",
       "       1.05641623e-01, 2.23601411e-01, 1.03298472e-01, 2.55507611e-01,\n",
       "       2.38686213e-01, 1.70976952e-01,            nan,            nan,\n",
       "                  nan,            nan,            nan,            nan,\n",
       "                  nan, 4.33564919e-01,            nan,            nan,\n",
       "                  nan,            nan,            nan,            nan,\n",
       "                  nan, 6.35728856e-03, 1.01131117e-01,            nan,\n",
       "       1.60832713e-02, 8.12433023e-01, 3.01900655e-02,            nan,\n",
       "                  nan,            nan, 3.01833351e-02, 4.91813233e-02,\n",
       "       3.07151597e-02,            nan,            nan,            nan,\n",
       "                  nan,            nan, 9.93570281e-01, 2.84485454e+00,\n",
       "       1.28126691e-01, 1.43245104e-01, 5.14208270e-01,            nan,\n",
       "                  nan,            nan,            nan,            nan,\n",
       "       2.66287530e-01, 8.22331936e-03, 2.70129050e-02,            nan,\n",
       "                  nan,            nan,            nan,            nan,\n",
       "                  nan, 4.41343339e-03, 0.00000000e+00,            nan,\n",
       "                  nan,            nan,            nan,            nan,\n",
       "                  nan,            nan, 2.44348116e-03,            nan,\n",
       "...\n",
       "                  nan,            nan,            nan, 5.49669321e-01,\n",
       "       8.41823644e-01, 3.90051399e-01, 6.51714446e-01, 1.59970634e-02,\n",
       "                  nan,            nan,            nan, 2.56918869e-02,\n",
       "       3.30022595e-02, 2.66806755e-02,            nan, 6.12773497e-02,\n",
       "       3.22934562e-02,            nan,            nan,            nan,\n",
       "       7.11149512e-03, 0.00000000e+00, 1.53616294e-01,            nan,\n",
       "                  nan,            nan,            nan, 7.27132213e-03,\n",
       "       2.32436544e-02, 8.92476659e-03,            nan,            nan,\n",
       "                  nan,            nan,            nan, 8.98829801e-03,\n",
       "       1.18841688e-01,            nan,            nan, 1.16483983e-01,\n",
       "       7.81035337e-03,            nan,            nan,            nan,\n",
       "       5.26071292e-03, 1.91011978e-02, 1.41073876e-01, 2.68409716e-02,\n",
       "       4.44213829e-02,            nan,            nan, 1.34568533e-02,\n",
       "       2.48890901e-02,            nan, 6.46194419e-03, 4.08911276e-03,\n",
       "                  nan,            nan,            nan, 3.28335261e-02,\n",
       "       0.00000000e+00, 1.80620495e-01, 1.15609638e-02,            nan,\n",
       "                  nan,            nan,            nan, 3.73011795e-02,\n",
       "       6.79916274e-02, 3.59166644e-02,            nan,            nan,\n",
       "       5.02073111e-02, 3.48509410e-04,            nan,            nan,\n",
       "                  nan, 8.95318120e-03, 8.71090611e-03])\n",
       "Coordinates:\n",
       "  * time     (time) datetime64[ns] 5kB 1998-01-19 1998-01-20 ... 2020-08-31</pre><div class='xr-wrap' style='display:none'><div class='xr-header'><div class='xr-obj-type'>xarray.DataArray</div><div class='xr-array-name'>'pteropod_biomass_gm2'</div><ul class='xr-dim-list'><li><span class='xr-has-index'>time</span>: 579</li></ul></div><ul class='xr-sections'><li class='xr-section-item'><div class='xr-array-wrap'><input id='section-acf60711-9bb5-4e77-9099-5ed22ea3234d' class='xr-array-in' type='checkbox' checked><label for='section-acf60711-9bb5-4e77-9099-5ed22ea3234d' title='Show/hide data repr'><svg class='icon xr-icon-database'><use xlink:href='#icon-database'></use></svg></label><div class='xr-array-preview xr-preview'><span>0.04878 0.04809 0.01612 nan nan nan ... nan nan nan 0.008953 0.008711</span></div><div class='xr-array-data'><pre>array([4.87800046e-02, 4.80918935e-02, 1.61150763e-02,            nan,\n",
       "                  nan,            nan,            nan, 2.33905311e-02,\n",
       "       5.72899027e-02, 1.71936980e-01, 2.71157444e-01, 1.65682167e-02,\n",
       "       1.05641623e-01, 2.23601411e-01, 1.03298472e-01, 2.55507611e-01,\n",
       "       2.38686213e-01, 1.70976952e-01,            nan,            nan,\n",
       "                  nan,            nan,            nan,            nan,\n",
       "                  nan, 4.33564919e-01,            nan,            nan,\n",
       "                  nan,            nan,            nan,            nan,\n",
       "                  nan, 6.35728856e-03, 1.01131117e-01,            nan,\n",
       "       1.60832713e-02, 8.12433023e-01, 3.01900655e-02,            nan,\n",
       "                  nan,            nan, 3.01833351e-02, 4.91813233e-02,\n",
       "       3.07151597e-02,            nan,            nan,            nan,\n",
       "                  nan,            nan, 9.93570281e-01, 2.84485454e+00,\n",
       "       1.28126691e-01, 1.43245104e-01, 5.14208270e-01,            nan,\n",
       "                  nan,            nan,            nan,            nan,\n",
       "       2.66287530e-01, 8.22331936e-03, 2.70129050e-02,            nan,\n",
       "                  nan,            nan,            nan,            nan,\n",
       "                  nan, 4.41343339e-03, 0.00000000e+00,            nan,\n",
       "                  nan,            nan,            nan,            nan,\n",
       "                  nan,            nan, 2.44348116e-03,            nan,\n",
       "...\n",
       "                  nan,            nan,            nan, 5.49669321e-01,\n",
       "       8.41823644e-01, 3.90051399e-01, 6.51714446e-01, 1.59970634e-02,\n",
       "                  nan,            nan,            nan, 2.56918869e-02,\n",
       "       3.30022595e-02, 2.66806755e-02,            nan, 6.12773497e-02,\n",
       "       3.22934562e-02,            nan,            nan,            nan,\n",
       "       7.11149512e-03, 0.00000000e+00, 1.53616294e-01,            nan,\n",
       "                  nan,            nan,            nan, 7.27132213e-03,\n",
       "       2.32436544e-02, 8.92476659e-03,            nan,            nan,\n",
       "                  nan,            nan,            nan, 8.98829801e-03,\n",
       "       1.18841688e-01,            nan,            nan, 1.16483983e-01,\n",
       "       7.81035337e-03,            nan,            nan,            nan,\n",
       "       5.26071292e-03, 1.91011978e-02, 1.41073876e-01, 2.68409716e-02,\n",
       "       4.44213829e-02,            nan,            nan, 1.34568533e-02,\n",
       "       2.48890901e-02,            nan, 6.46194419e-03, 4.08911276e-03,\n",
       "                  nan,            nan,            nan, 3.28335261e-02,\n",
       "       0.00000000e+00, 1.80620495e-01, 1.15609638e-02,            nan,\n",
       "                  nan,            nan,            nan, 3.73011795e-02,\n",
       "       6.79916274e-02, 3.59166644e-02,            nan,            nan,\n",
       "       5.02073111e-02, 3.48509410e-04,            nan,            nan,\n",
       "                  nan, 8.95318120e-03, 8.71090611e-03])</pre></div></div></li><li class='xr-section-item'><input id='section-b20dad16-f191-431c-9a59-524cf0c7f49f' class='xr-section-summary-in' type='checkbox'  checked><label for='section-b20dad16-f191-431c-9a59-524cf0c7f49f' class='xr-section-summary' >Coordinates: <span>(1)</span></label><div class='xr-section-inline-details'></div><div class='xr-section-details'><ul class='xr-var-list'><li class='xr-var-item'><div class='xr-var-name'><span class='xr-has-index'>time</span></div><div class='xr-var-dims'>(time)</div><div class='xr-var-dtype'>datetime64[ns]</div><div class='xr-var-preview xr-preview'>1998-01-19 ... 2020-08-31</div><input id='attrs-c2621407-ed37-4d1a-a9ab-76122a322116' class='xr-var-attrs-in' type='checkbox' ><label for='attrs-c2621407-ed37-4d1a-a9ab-76122a322116' title='Show/Hide attributes'><svg class='icon xr-icon-file-text2'><use xlink:href='#icon-file-text2'></use></svg></label><input id='data-27590715-a4cc-4428-a4fb-d026b146d9ab' class='xr-var-data-in' type='checkbox'><label for='data-27590715-a4cc-4428-a4fb-d026b146d9ab' title='Show/Hide data repr'><svg class='icon xr-icon-database'><use xlink:href='#icon-database'></use></svg></label><div class='xr-var-attrs'><dl class='xr-attrs'><dt><span>standard_name :</span></dt><dd>time</dd><dt><span>long_name :</span></dt><dd>time</dd><dt><span>axis :</span></dt><dd>T</dd></dl></div><div class='xr-var-data'><pre>array([&#x27;1998-01-19T00:00:00.000000000&#x27;, &#x27;1998-01-20T00:00:00.000000000&#x27;,\n",
       "       &#x27;1998-02-21T00:00:00.000000000&#x27;, ..., &#x27;2020-08-20T00:00:00.000000000&#x27;,\n",
       "       &#x27;2020-08-30T00:00:00.000000000&#x27;, &#x27;2020-08-31T00:00:00.000000000&#x27;],\n",
       "      dtype=&#x27;datetime64[ns]&#x27;)</pre></div></li></ul></div></li><li class='xr-section-item'><input id='section-e96de510-9684-4679-95e0-2fcbe94d97a7' class='xr-section-summary-in' type='checkbox'  ><label for='section-e96de510-9684-4679-95e0-2fcbe94d97a7' class='xr-section-summary' >Indexes: <span>(1)</span></label><div class='xr-section-inline-details'></div><div class='xr-section-details'><ul class='xr-var-list'><li class='xr-var-item'><div class='xr-index-name'><div>time</div></div><div class='xr-index-preview'>PandasIndex</div><input type='checkbox' disabled/><label></label><input id='index-46ebc0d0-8018-45f0-89e9-20a26ff935a1' class='xr-index-data-in' type='checkbox'/><label for='index-46ebc0d0-8018-45f0-89e9-20a26ff935a1' title='Show/Hide index repr'><svg class='icon xr-icon-database'><use xlink:href='#icon-database'></use></svg></label><div class='xr-index-data'><pre>PandasIndex(DatetimeIndex([&#x27;1998-01-19&#x27;, &#x27;1998-01-20&#x27;, &#x27;1998-02-21&#x27;, &#x27;1998-02-23&#x27;,\n",
       "               &#x27;1998-02-24&#x27;, &#x27;1998-02-27&#x27;, &#x27;1998-02-28&#x27;, &#x27;1998-03-03&#x27;,\n",
       "               &#x27;1998-04-08&#x27;, &#x27;1998-04-09&#x27;,\n",
       "               ...\n",
       "               &#x27;2020-07-05&#x27;, &#x27;2020-07-22&#x27;, &#x27;2020-07-26&#x27;, &#x27;2020-08-14&#x27;,\n",
       "               &#x27;2020-08-15&#x27;, &#x27;2020-08-17&#x27;, &#x27;2020-08-18&#x27;, &#x27;2020-08-20&#x27;,\n",
       "               &#x27;2020-08-30&#x27;, &#x27;2020-08-31&#x27;],\n",
       "              dtype=&#x27;datetime64[ns]&#x27;, name=&#x27;time&#x27;, length=579, freq=None))</pre></div></li></ul></div></li><li class='xr-section-item'><input id='section-510200e9-d27d-447b-b73b-bec2acdb9945' class='xr-section-summary-in' type='checkbox' disabled ><label for='section-510200e9-d27d-447b-b73b-bec2acdb9945' class='xr-section-summary'  title='Expand/collapse section'>Attributes: <span>(0)</span></label><div class='xr-section-inline-details'></div><div class='xr-section-details'><dl class='xr-attrs'></dl></div></li></ul></div></div>"
      ],
      "text/plain": [
       "<xarray.DataArray 'pteropod_biomass_gm2' (time: 579)> Size: 5kB\n",
       "array([4.87800046e-02, 4.80918935e-02, 1.61150763e-02,            nan,\n",
       "                  nan,            nan,            nan, 2.33905311e-02,\n",
       "       5.72899027e-02, 1.71936980e-01, 2.71157444e-01, 1.65682167e-02,\n",
       "       1.05641623e-01, 2.23601411e-01, 1.03298472e-01, 2.55507611e-01,\n",
       "       2.38686213e-01, 1.70976952e-01,            nan,            nan,\n",
       "                  nan,            nan,            nan,            nan,\n",
       "                  nan, 4.33564919e-01,            nan,            nan,\n",
       "                  nan,            nan,            nan,            nan,\n",
       "                  nan, 6.35728856e-03, 1.01131117e-01,            nan,\n",
       "       1.60832713e-02, 8.12433023e-01, 3.01900655e-02,            nan,\n",
       "                  nan,            nan, 3.01833351e-02, 4.91813233e-02,\n",
       "       3.07151597e-02,            nan,            nan,            nan,\n",
       "                  nan,            nan, 9.93570281e-01, 2.84485454e+00,\n",
       "       1.28126691e-01, 1.43245104e-01, 5.14208270e-01,            nan,\n",
       "                  nan,            nan,            nan,            nan,\n",
       "       2.66287530e-01, 8.22331936e-03, 2.70129050e-02,            nan,\n",
       "                  nan,            nan,            nan,            nan,\n",
       "                  nan, 4.41343339e-03, 0.00000000e+00,            nan,\n",
       "                  nan,            nan,            nan,            nan,\n",
       "                  nan,            nan, 2.44348116e-03,            nan,\n",
       "...\n",
       "                  nan,            nan,            nan, 5.49669321e-01,\n",
       "       8.41823644e-01, 3.90051399e-01, 6.51714446e-01, 1.59970634e-02,\n",
       "                  nan,            nan,            nan, 2.56918869e-02,\n",
       "       3.30022595e-02, 2.66806755e-02,            nan, 6.12773497e-02,\n",
       "       3.22934562e-02,            nan,            nan,            nan,\n",
       "       7.11149512e-03, 0.00000000e+00, 1.53616294e-01,            nan,\n",
       "                  nan,            nan,            nan, 7.27132213e-03,\n",
       "       2.32436544e-02, 8.92476659e-03,            nan,            nan,\n",
       "                  nan,            nan,            nan, 8.98829801e-03,\n",
       "       1.18841688e-01,            nan,            nan, 1.16483983e-01,\n",
       "       7.81035337e-03,            nan,            nan,            nan,\n",
       "       5.26071292e-03, 1.91011978e-02, 1.41073876e-01, 2.68409716e-02,\n",
       "       4.44213829e-02,            nan,            nan, 1.34568533e-02,\n",
       "       2.48890901e-02,            nan, 6.46194419e-03, 4.08911276e-03,\n",
       "                  nan,            nan,            nan, 3.28335261e-02,\n",
       "       0.00000000e+00, 1.80620495e-01, 1.15609638e-02,            nan,\n",
       "                  nan,            nan,            nan, 3.73011795e-02,\n",
       "       6.79916274e-02, 3.59166644e-02,            nan,            nan,\n",
       "       5.02073111e-02, 3.48509410e-04,            nan,            nan,\n",
       "                  nan, 8.95318120e-03, 8.71090611e-03])\n",
       "Coordinates:\n",
       "  * time     (time) datetime64[ns] 5kB 1998-01-19 1998-01-20 ... 2020-08-31"
      ]
     },
     "execution_count": 118,
     "metadata": {},
     "output_type": "execute_result"
    }
   ],
   "source": [
    "ds_time_serie=ds_pter_2deg.mean(dim=[\"is_day\",\"latitude\", \"longitude\", \"depth\"],skipna=True)\n",
    "ds_time_serie"
   ]
  },
  {
   "cell_type": "code",
   "execution_count": 120,
   "id": "85792805",
   "metadata": {},
   "outputs": [
    {
     "data": {
      "text/html": [
       "<div><svg style=\"position: absolute; width: 0; height: 0; overflow: hidden\">\n",
       "<defs>\n",
       "<symbol id=\"icon-database\" viewBox=\"0 0 32 32\">\n",
       "<path d=\"M16 0c-8.837 0-16 2.239-16 5v4c0 2.761 7.163 5 16 5s16-2.239 16-5v-4c0-2.761-7.163-5-16-5z\"></path>\n",
       "<path d=\"M16 17c-8.837 0-16-2.239-16-5v6c0 2.761 7.163 5 16 5s16-2.239 16-5v-6c0 2.761-7.163 5-16 5z\"></path>\n",
       "<path d=\"M16 26c-8.837 0-16-2.239-16-5v6c0 2.761 7.163 5 16 5s16-2.239 16-5v-6c0 2.761-7.163 5-16 5z\"></path>\n",
       "</symbol>\n",
       "<symbol id=\"icon-file-text2\" viewBox=\"0 0 32 32\">\n",
       "<path d=\"M28.681 7.159c-0.694-0.947-1.662-2.053-2.724-3.116s-2.169-2.030-3.116-2.724c-1.612-1.182-2.393-1.319-2.841-1.319h-15.5c-1.378 0-2.5 1.121-2.5 2.5v27c0 1.378 1.122 2.5 2.5 2.5h23c1.378 0 2.5-1.122 2.5-2.5v-19.5c0-0.448-0.137-1.23-1.319-2.841zM24.543 5.457c0.959 0.959 1.712 1.825 2.268 2.543h-4.811v-4.811c0.718 0.556 1.584 1.309 2.543 2.268zM28 29.5c0 0.271-0.229 0.5-0.5 0.5h-23c-0.271 0-0.5-0.229-0.5-0.5v-27c0-0.271 0.229-0.5 0.5-0.5 0 0 15.499-0 15.5 0v7c0 0.552 0.448 1 1 1h7v19.5z\"></path>\n",
       "<path d=\"M23 26h-14c-0.552 0-1-0.448-1-1s0.448-1 1-1h14c0.552 0 1 0.448 1 1s-0.448 1-1 1z\"></path>\n",
       "<path d=\"M23 22h-14c-0.552 0-1-0.448-1-1s0.448-1 1-1h14c0.552 0 1 0.448 1 1s-0.448 1-1 1z\"></path>\n",
       "<path d=\"M23 18h-14c-0.552 0-1-0.448-1-1s0.448-1 1-1h14c0.552 0 1 0.448 1 1s-0.448 1-1 1z\"></path>\n",
       "</symbol>\n",
       "</defs>\n",
       "</svg>\n",
       "<style>/* CSS stylesheet for displaying xarray objects in jupyterlab.\n",
       " *\n",
       " */\n",
       "\n",
       ":root {\n",
       "  --xr-font-color0: var(--jp-content-font-color0, rgba(0, 0, 0, 1));\n",
       "  --xr-font-color2: var(--jp-content-font-color2, rgba(0, 0, 0, 0.54));\n",
       "  --xr-font-color3: var(--jp-content-font-color3, rgba(0, 0, 0, 0.38));\n",
       "  --xr-border-color: var(--jp-border-color2, #e0e0e0);\n",
       "  --xr-disabled-color: var(--jp-layout-color3, #bdbdbd);\n",
       "  --xr-background-color: var(--jp-layout-color0, white);\n",
       "  --xr-background-color-row-even: var(--jp-layout-color1, white);\n",
       "  --xr-background-color-row-odd: var(--jp-layout-color2, #eeeeee);\n",
       "}\n",
       "\n",
       "html[theme=\"dark\"],\n",
       "html[data-theme=\"dark\"],\n",
       "body[data-theme=\"dark\"],\n",
       "body.vscode-dark {\n",
       "  --xr-font-color0: rgba(255, 255, 255, 1);\n",
       "  --xr-font-color2: rgba(255, 255, 255, 0.54);\n",
       "  --xr-font-color3: rgba(255, 255, 255, 0.38);\n",
       "  --xr-border-color: #1f1f1f;\n",
       "  --xr-disabled-color: #515151;\n",
       "  --xr-background-color: #111111;\n",
       "  --xr-background-color-row-even: #111111;\n",
       "  --xr-background-color-row-odd: #313131;\n",
       "}\n",
       "\n",
       ".xr-wrap {\n",
       "  display: block !important;\n",
       "  min-width: 300px;\n",
       "  max-width: 700px;\n",
       "}\n",
       "\n",
       ".xr-text-repr-fallback {\n",
       "  /* fallback to plain text repr when CSS is not injected (untrusted notebook) */\n",
       "  display: none;\n",
       "}\n",
       "\n",
       ".xr-header {\n",
       "  padding-top: 6px;\n",
       "  padding-bottom: 6px;\n",
       "  margin-bottom: 4px;\n",
       "  border-bottom: solid 1px var(--xr-border-color);\n",
       "}\n",
       "\n",
       ".xr-header > div,\n",
       ".xr-header > ul {\n",
       "  display: inline;\n",
       "  margin-top: 0;\n",
       "  margin-bottom: 0;\n",
       "}\n",
       "\n",
       ".xr-obj-type,\n",
       ".xr-array-name {\n",
       "  margin-left: 2px;\n",
       "  margin-right: 10px;\n",
       "}\n",
       "\n",
       ".xr-obj-type {\n",
       "  color: var(--xr-font-color2);\n",
       "}\n",
       "\n",
       ".xr-sections {\n",
       "  padding-left: 0 !important;\n",
       "  display: grid;\n",
       "  grid-template-columns: 150px auto auto 1fr 0 20px 0 20px;\n",
       "}\n",
       "\n",
       ".xr-section-item {\n",
       "  display: contents;\n",
       "}\n",
       "\n",
       ".xr-section-item input {\n",
       "  display: inline-block;\n",
       "  opacity: 0;\n",
       "  height: 0;\n",
       "}\n",
       "\n",
       ".xr-section-item input + label {\n",
       "  color: var(--xr-disabled-color);\n",
       "}\n",
       "\n",
       ".xr-section-item input:enabled + label {\n",
       "  cursor: pointer;\n",
       "  color: var(--xr-font-color2);\n",
       "}\n",
       "\n",
       ".xr-section-item input:focus + label {\n",
       "  border: 2px solid var(--xr-font-color0);\n",
       "}\n",
       "\n",
       ".xr-section-item input:enabled + label:hover {\n",
       "  color: var(--xr-font-color0);\n",
       "}\n",
       "\n",
       ".xr-section-summary {\n",
       "  grid-column: 1;\n",
       "  color: var(--xr-font-color2);\n",
       "  font-weight: 500;\n",
       "}\n",
       "\n",
       ".xr-section-summary > span {\n",
       "  display: inline-block;\n",
       "  padding-left: 0.5em;\n",
       "}\n",
       "\n",
       ".xr-section-summary-in:disabled + label {\n",
       "  color: var(--xr-font-color2);\n",
       "}\n",
       "\n",
       ".xr-section-summary-in + label:before {\n",
       "  display: inline-block;\n",
       "  content: \"►\";\n",
       "  font-size: 11px;\n",
       "  width: 15px;\n",
       "  text-align: center;\n",
       "}\n",
       "\n",
       ".xr-section-summary-in:disabled + label:before {\n",
       "  color: var(--xr-disabled-color);\n",
       "}\n",
       "\n",
       ".xr-section-summary-in:checked + label:before {\n",
       "  content: \"▼\";\n",
       "}\n",
       "\n",
       ".xr-section-summary-in:checked + label > span {\n",
       "  display: none;\n",
       "}\n",
       "\n",
       ".xr-section-summary,\n",
       ".xr-section-inline-details {\n",
       "  padding-top: 4px;\n",
       "  padding-bottom: 4px;\n",
       "}\n",
       "\n",
       ".xr-section-inline-details {\n",
       "  grid-column: 2 / -1;\n",
       "}\n",
       "\n",
       ".xr-section-details {\n",
       "  display: none;\n",
       "  grid-column: 1 / -1;\n",
       "  margin-bottom: 5px;\n",
       "}\n",
       "\n",
       ".xr-section-summary-in:checked ~ .xr-section-details {\n",
       "  display: contents;\n",
       "}\n",
       "\n",
       ".xr-array-wrap {\n",
       "  grid-column: 1 / -1;\n",
       "  display: grid;\n",
       "  grid-template-columns: 20px auto;\n",
       "}\n",
       "\n",
       ".xr-array-wrap > label {\n",
       "  grid-column: 1;\n",
       "  vertical-align: top;\n",
       "}\n",
       "\n",
       ".xr-preview {\n",
       "  color: var(--xr-font-color3);\n",
       "}\n",
       "\n",
       ".xr-array-preview,\n",
       ".xr-array-data {\n",
       "  padding: 0 5px !important;\n",
       "  grid-column: 2;\n",
       "}\n",
       "\n",
       ".xr-array-data,\n",
       ".xr-array-in:checked ~ .xr-array-preview {\n",
       "  display: none;\n",
       "}\n",
       "\n",
       ".xr-array-in:checked ~ .xr-array-data,\n",
       ".xr-array-preview {\n",
       "  display: inline-block;\n",
       "}\n",
       "\n",
       ".xr-dim-list {\n",
       "  display: inline-block !important;\n",
       "  list-style: none;\n",
       "  padding: 0 !important;\n",
       "  margin: 0;\n",
       "}\n",
       "\n",
       ".xr-dim-list li {\n",
       "  display: inline-block;\n",
       "  padding: 0;\n",
       "  margin: 0;\n",
       "}\n",
       "\n",
       ".xr-dim-list:before {\n",
       "  content: \"(\";\n",
       "}\n",
       "\n",
       ".xr-dim-list:after {\n",
       "  content: \")\";\n",
       "}\n",
       "\n",
       ".xr-dim-list li:not(:last-child):after {\n",
       "  content: \",\";\n",
       "  padding-right: 5px;\n",
       "}\n",
       "\n",
       ".xr-has-index {\n",
       "  font-weight: bold;\n",
       "}\n",
       "\n",
       ".xr-var-list,\n",
       ".xr-var-item {\n",
       "  display: contents;\n",
       "}\n",
       "\n",
       ".xr-var-item > div,\n",
       ".xr-var-item label,\n",
       ".xr-var-item > .xr-var-name span {\n",
       "  background-color: var(--xr-background-color-row-even);\n",
       "  margin-bottom: 0;\n",
       "}\n",
       "\n",
       ".xr-var-item > .xr-var-name:hover span {\n",
       "  padding-right: 5px;\n",
       "}\n",
       "\n",
       ".xr-var-list > li:nth-child(odd) > div,\n",
       ".xr-var-list > li:nth-child(odd) > label,\n",
       ".xr-var-list > li:nth-child(odd) > .xr-var-name span {\n",
       "  background-color: var(--xr-background-color-row-odd);\n",
       "}\n",
       "\n",
       ".xr-var-name {\n",
       "  grid-column: 1;\n",
       "}\n",
       "\n",
       ".xr-var-dims {\n",
       "  grid-column: 2;\n",
       "}\n",
       "\n",
       ".xr-var-dtype {\n",
       "  grid-column: 3;\n",
       "  text-align: right;\n",
       "  color: var(--xr-font-color2);\n",
       "}\n",
       "\n",
       ".xr-var-preview {\n",
       "  grid-column: 4;\n",
       "}\n",
       "\n",
       ".xr-index-preview {\n",
       "  grid-column: 2 / 5;\n",
       "  color: var(--xr-font-color2);\n",
       "}\n",
       "\n",
       ".xr-var-name,\n",
       ".xr-var-dims,\n",
       ".xr-var-dtype,\n",
       ".xr-preview,\n",
       ".xr-attrs dt {\n",
       "  white-space: nowrap;\n",
       "  overflow: hidden;\n",
       "  text-overflow: ellipsis;\n",
       "  padding-right: 10px;\n",
       "}\n",
       "\n",
       ".xr-var-name:hover,\n",
       ".xr-var-dims:hover,\n",
       ".xr-var-dtype:hover,\n",
       ".xr-attrs dt:hover {\n",
       "  overflow: visible;\n",
       "  width: auto;\n",
       "  z-index: 1;\n",
       "}\n",
       "\n",
       ".xr-var-attrs,\n",
       ".xr-var-data,\n",
       ".xr-index-data {\n",
       "  display: none;\n",
       "  background-color: var(--xr-background-color) !important;\n",
       "  padding-bottom: 5px !important;\n",
       "}\n",
       "\n",
       ".xr-var-attrs-in:checked ~ .xr-var-attrs,\n",
       ".xr-var-data-in:checked ~ .xr-var-data,\n",
       ".xr-index-data-in:checked ~ .xr-index-data {\n",
       "  display: block;\n",
       "}\n",
       "\n",
       ".xr-var-data > table {\n",
       "  float: right;\n",
       "}\n",
       "\n",
       ".xr-var-name span,\n",
       ".xr-var-data,\n",
       ".xr-index-name div,\n",
       ".xr-index-data,\n",
       ".xr-attrs {\n",
       "  padding-left: 25px !important;\n",
       "}\n",
       "\n",
       ".xr-attrs,\n",
       ".xr-var-attrs,\n",
       ".xr-var-data,\n",
       ".xr-index-data {\n",
       "  grid-column: 1 / -1;\n",
       "}\n",
       "\n",
       "dl.xr-attrs {\n",
       "  padding: 0;\n",
       "  margin: 0;\n",
       "  display: grid;\n",
       "  grid-template-columns: 125px auto;\n",
       "}\n",
       "\n",
       ".xr-attrs dt,\n",
       ".xr-attrs dd {\n",
       "  padding: 0;\n",
       "  margin: 0;\n",
       "  float: left;\n",
       "  padding-right: 10px;\n",
       "  width: auto;\n",
       "}\n",
       "\n",
       ".xr-attrs dt {\n",
       "  font-weight: normal;\n",
       "  grid-column: 1;\n",
       "}\n",
       "\n",
       ".xr-attrs dt:hover span {\n",
       "  display: inline-block;\n",
       "  background: var(--xr-background-color);\n",
       "  padding-right: 10px;\n",
       "}\n",
       "\n",
       ".xr-attrs dd {\n",
       "  grid-column: 2;\n",
       "  white-space: pre-wrap;\n",
       "  word-break: break-all;\n",
       "}\n",
       "\n",
       ".xr-icon-database,\n",
       ".xr-icon-file-text2,\n",
       ".xr-no-icon {\n",
       "  display: inline-block;\n",
       "  vertical-align: middle;\n",
       "  width: 1em;\n",
       "  height: 1.5em !important;\n",
       "  stroke-width: 0;\n",
       "  stroke: currentColor;\n",
       "  fill: currentColor;\n",
       "}\n",
       "</style><pre class='xr-text-repr-fallback'>&lt;xarray.DataArray &#x27;pteropod_biomass_gm2&#x27; (time: 228)&gt; Size: 2kB\n",
       "array([4.87800046e-02, 4.80918935e-02, 1.61150763e-02, 2.33905311e-02,\n",
       "       5.72899027e-02, 1.71936980e-01, 2.71157444e-01, 1.65682167e-02,\n",
       "       1.05641623e-01, 2.23601411e-01, 1.03298472e-01, 2.55507611e-01,\n",
       "       2.38686213e-01, 1.70976952e-01, 4.33564919e-01, 6.35728856e-03,\n",
       "       1.01131117e-01, 1.60832713e-02, 8.12433023e-01, 3.01900655e-02,\n",
       "       3.01833351e-02, 4.91813233e-02, 3.07151597e-02, 9.93570281e-01,\n",
       "       2.84485454e+00, 1.28126691e-01, 1.43245104e-01, 5.14208270e-01,\n",
       "       2.66287530e-01, 8.22331936e-03, 2.70129050e-02, 4.41343339e-03,\n",
       "       2.44348116e-03, 3.50176143e-01, 5.92508515e-01, 1.17362986e-01,\n",
       "       5.52174912e-01, 2.62416951e-01, 5.26131206e-02, 2.43275881e-02,\n",
       "       7.26712062e-03, 3.96683939e-03, 7.22064467e-03, 2.69077936e-01,\n",
       "       5.73347156e-01, 3.41292480e+00, 6.50791262e-03, 6.77782729e-03,\n",
       "       2.77220798e-01, 4.40059126e-01, 9.05558607e-02, 2.79286152e-01,\n",
       "       4.54320934e-02, 5.71304952e-02, 1.10168360e-02, 4.80222396e-02,\n",
       "       1.83829179e-02, 2.42651477e-02, 2.25067351e-02, 4.20062320e-02,\n",
       "       3.40217315e-02, 2.65784094e-02, 2.57894099e+00, 2.90969297e+00,\n",
       "       5.77533252e-01, 4.69624032e-01, 8.74492962e-02, 8.52862261e-03,\n",
       "       8.83281286e-02, 1.83636247e-02, 2.94584700e-02, 8.59387525e-03,\n",
       "       2.91073242e-03, 3.17962778e-02, 1.01953456e-02, 1.32788310e-02,\n",
       "       1.26540453e-01, 9.49474453e-02, 5.93451788e-02, 1.84319481e-01,\n",
       "...\n",
       "       6.86135901e-02, 2.44929928e-01, 1.60255207e-02, 2.10010647e-02,\n",
       "       7.64987148e-03, 7.75672051e-03, 3.75607307e-02, 3.72435973e+00,\n",
       "       1.67301513e+00, 2.53467864e-01, 9.04489281e+00, 2.25053693e-01,\n",
       "       6.00073316e-02, 1.13461827e-01, 3.82356180e-02, 1.43771613e-02,\n",
       "       1.48984923e-02, 1.15507585e-02, 2.19979516e-02, 1.75341024e-02,\n",
       "       5.03995572e-03, 4.35505654e-03, 1.96708846e-02, 2.68592468e-01,\n",
       "       6.70466072e-02, 2.80098628e-02, 1.90752725e-02, 2.91018883e-01,\n",
       "       4.18683712e-01, 4.22249768e-02, 4.41062031e-01, 8.99315318e-01,\n",
       "       3.89173757e-01, 2.05296571e-02, 5.83655972e-03, 1.36714553e-01,\n",
       "       1.47718816e-02, 6.12137423e-02, 2.10312783e-02, 8.07033497e-02,\n",
       "       3.07095728e-02, 1.07810752e-01, 5.49669321e-01, 8.41823644e-01,\n",
       "       3.90051399e-01, 6.51714446e-01, 1.59970634e-02, 2.56918869e-02,\n",
       "       3.30022595e-02, 2.66806755e-02, 6.12773497e-02, 3.22934562e-02,\n",
       "       7.11149512e-03, 1.53616294e-01, 7.27132213e-03, 2.32436544e-02,\n",
       "       8.92476659e-03, 8.98829801e-03, 1.18841688e-01, 1.16483983e-01,\n",
       "       7.81035337e-03, 5.26071292e-03, 1.91011978e-02, 1.41073876e-01,\n",
       "       2.68409716e-02, 4.44213829e-02, 1.34568533e-02, 2.48890901e-02,\n",
       "       6.46194419e-03, 4.08911276e-03, 3.28335261e-02, 1.80620495e-01,\n",
       "       1.15609638e-02, 3.73011795e-02, 6.79916274e-02, 3.59166644e-02,\n",
       "       5.02073111e-02, 3.48509410e-04, 8.95318120e-03, 8.71090611e-03])\n",
       "Coordinates:\n",
       "  * time     (time) datetime64[ns] 2kB 1998-01-19 1998-01-20 ... 2020-08-31</pre><div class='xr-wrap' style='display:none'><div class='xr-header'><div class='xr-obj-type'>xarray.DataArray</div><div class='xr-array-name'>'pteropod_biomass_gm2'</div><ul class='xr-dim-list'><li><span class='xr-has-index'>time</span>: 228</li></ul></div><ul class='xr-sections'><li class='xr-section-item'><div class='xr-array-wrap'><input id='section-81fbab30-abff-41ca-ac70-923321d96dfc' class='xr-array-in' type='checkbox' checked><label for='section-81fbab30-abff-41ca-ac70-923321d96dfc' title='Show/hide data repr'><svg class='icon xr-icon-database'><use xlink:href='#icon-database'></use></svg></label><div class='xr-array-preview xr-preview'><span>0.04878 0.04809 0.01612 0.02339 ... 0.0003485 0.008953 0.008711</span></div><div class='xr-array-data'><pre>array([4.87800046e-02, 4.80918935e-02, 1.61150763e-02, 2.33905311e-02,\n",
       "       5.72899027e-02, 1.71936980e-01, 2.71157444e-01, 1.65682167e-02,\n",
       "       1.05641623e-01, 2.23601411e-01, 1.03298472e-01, 2.55507611e-01,\n",
       "       2.38686213e-01, 1.70976952e-01, 4.33564919e-01, 6.35728856e-03,\n",
       "       1.01131117e-01, 1.60832713e-02, 8.12433023e-01, 3.01900655e-02,\n",
       "       3.01833351e-02, 4.91813233e-02, 3.07151597e-02, 9.93570281e-01,\n",
       "       2.84485454e+00, 1.28126691e-01, 1.43245104e-01, 5.14208270e-01,\n",
       "       2.66287530e-01, 8.22331936e-03, 2.70129050e-02, 4.41343339e-03,\n",
       "       2.44348116e-03, 3.50176143e-01, 5.92508515e-01, 1.17362986e-01,\n",
       "       5.52174912e-01, 2.62416951e-01, 5.26131206e-02, 2.43275881e-02,\n",
       "       7.26712062e-03, 3.96683939e-03, 7.22064467e-03, 2.69077936e-01,\n",
       "       5.73347156e-01, 3.41292480e+00, 6.50791262e-03, 6.77782729e-03,\n",
       "       2.77220798e-01, 4.40059126e-01, 9.05558607e-02, 2.79286152e-01,\n",
       "       4.54320934e-02, 5.71304952e-02, 1.10168360e-02, 4.80222396e-02,\n",
       "       1.83829179e-02, 2.42651477e-02, 2.25067351e-02, 4.20062320e-02,\n",
       "       3.40217315e-02, 2.65784094e-02, 2.57894099e+00, 2.90969297e+00,\n",
       "       5.77533252e-01, 4.69624032e-01, 8.74492962e-02, 8.52862261e-03,\n",
       "       8.83281286e-02, 1.83636247e-02, 2.94584700e-02, 8.59387525e-03,\n",
       "       2.91073242e-03, 3.17962778e-02, 1.01953456e-02, 1.32788310e-02,\n",
       "       1.26540453e-01, 9.49474453e-02, 5.93451788e-02, 1.84319481e-01,\n",
       "...\n",
       "       6.86135901e-02, 2.44929928e-01, 1.60255207e-02, 2.10010647e-02,\n",
       "       7.64987148e-03, 7.75672051e-03, 3.75607307e-02, 3.72435973e+00,\n",
       "       1.67301513e+00, 2.53467864e-01, 9.04489281e+00, 2.25053693e-01,\n",
       "       6.00073316e-02, 1.13461827e-01, 3.82356180e-02, 1.43771613e-02,\n",
       "       1.48984923e-02, 1.15507585e-02, 2.19979516e-02, 1.75341024e-02,\n",
       "       5.03995572e-03, 4.35505654e-03, 1.96708846e-02, 2.68592468e-01,\n",
       "       6.70466072e-02, 2.80098628e-02, 1.90752725e-02, 2.91018883e-01,\n",
       "       4.18683712e-01, 4.22249768e-02, 4.41062031e-01, 8.99315318e-01,\n",
       "       3.89173757e-01, 2.05296571e-02, 5.83655972e-03, 1.36714553e-01,\n",
       "       1.47718816e-02, 6.12137423e-02, 2.10312783e-02, 8.07033497e-02,\n",
       "       3.07095728e-02, 1.07810752e-01, 5.49669321e-01, 8.41823644e-01,\n",
       "       3.90051399e-01, 6.51714446e-01, 1.59970634e-02, 2.56918869e-02,\n",
       "       3.30022595e-02, 2.66806755e-02, 6.12773497e-02, 3.22934562e-02,\n",
       "       7.11149512e-03, 1.53616294e-01, 7.27132213e-03, 2.32436544e-02,\n",
       "       8.92476659e-03, 8.98829801e-03, 1.18841688e-01, 1.16483983e-01,\n",
       "       7.81035337e-03, 5.26071292e-03, 1.91011978e-02, 1.41073876e-01,\n",
       "       2.68409716e-02, 4.44213829e-02, 1.34568533e-02, 2.48890901e-02,\n",
       "       6.46194419e-03, 4.08911276e-03, 3.28335261e-02, 1.80620495e-01,\n",
       "       1.15609638e-02, 3.73011795e-02, 6.79916274e-02, 3.59166644e-02,\n",
       "       5.02073111e-02, 3.48509410e-04, 8.95318120e-03, 8.71090611e-03])</pre></div></div></li><li class='xr-section-item'><input id='section-5d492532-77ca-4cd8-b2fb-32526c9ae560' class='xr-section-summary-in' type='checkbox'  checked><label for='section-5d492532-77ca-4cd8-b2fb-32526c9ae560' class='xr-section-summary' >Coordinates: <span>(1)</span></label><div class='xr-section-inline-details'></div><div class='xr-section-details'><ul class='xr-var-list'><li class='xr-var-item'><div class='xr-var-name'><span class='xr-has-index'>time</span></div><div class='xr-var-dims'>(time)</div><div class='xr-var-dtype'>datetime64[ns]</div><div class='xr-var-preview xr-preview'>1998-01-19 ... 2020-08-31</div><input id='attrs-391a1c5f-a584-4785-bf7a-c4c8ef3aa4ab' class='xr-var-attrs-in' type='checkbox' ><label for='attrs-391a1c5f-a584-4785-bf7a-c4c8ef3aa4ab' title='Show/Hide attributes'><svg class='icon xr-icon-file-text2'><use xlink:href='#icon-file-text2'></use></svg></label><input id='data-ecfe9771-f4b7-4d51-935d-8dc2399aa15a' class='xr-var-data-in' type='checkbox'><label for='data-ecfe9771-f4b7-4d51-935d-8dc2399aa15a' title='Show/Hide data repr'><svg class='icon xr-icon-database'><use xlink:href='#icon-database'></use></svg></label><div class='xr-var-attrs'><dl class='xr-attrs'><dt><span>standard_name :</span></dt><dd>time</dd><dt><span>long_name :</span></dt><dd>time</dd><dt><span>axis :</span></dt><dd>T</dd></dl></div><div class='xr-var-data'><pre>array([&#x27;1998-01-19T00:00:00.000000000&#x27;, &#x27;1998-01-20T00:00:00.000000000&#x27;,\n",
       "       &#x27;1998-02-21T00:00:00.000000000&#x27;, ..., &#x27;2020-08-15T00:00:00.000000000&#x27;,\n",
       "       &#x27;2020-08-30T00:00:00.000000000&#x27;, &#x27;2020-08-31T00:00:00.000000000&#x27;],\n",
       "      dtype=&#x27;datetime64[ns]&#x27;)</pre></div></li></ul></div></li><li class='xr-section-item'><input id='section-06f70888-18c5-439f-a7a7-848f483bd08a' class='xr-section-summary-in' type='checkbox'  ><label for='section-06f70888-18c5-439f-a7a7-848f483bd08a' class='xr-section-summary' >Indexes: <span>(1)</span></label><div class='xr-section-inline-details'></div><div class='xr-section-details'><ul class='xr-var-list'><li class='xr-var-item'><div class='xr-index-name'><div>time</div></div><div class='xr-index-preview'>PandasIndex</div><input type='checkbox' disabled/><label></label><input id='index-384ee461-cceb-4a57-9d4f-7b8d90f73133' class='xr-index-data-in' type='checkbox'/><label for='index-384ee461-cceb-4a57-9d4f-7b8d90f73133' title='Show/Hide index repr'><svg class='icon xr-icon-database'><use xlink:href='#icon-database'></use></svg></label><div class='xr-index-data'><pre>PandasIndex(DatetimeIndex([&#x27;1998-01-19&#x27;, &#x27;1998-01-20&#x27;, &#x27;1998-02-21&#x27;, &#x27;1998-03-03&#x27;,\n",
       "               &#x27;1998-04-08&#x27;, &#x27;1998-04-09&#x27;, &#x27;1998-05-13&#x27;, &#x27;1998-05-17&#x27;,\n",
       "               &#x27;1998-05-18&#x27;, &#x27;1998-05-19&#x27;,\n",
       "               ...\n",
       "               &#x27;2019-09-03&#x27;, &#x27;2020-02-10&#x27;, &#x27;2020-02-11&#x27;, &#x27;2020-06-26&#x27;,\n",
       "               &#x27;2020-06-30&#x27;, &#x27;2020-07-05&#x27;, &#x27;2020-08-14&#x27;, &#x27;2020-08-15&#x27;,\n",
       "               &#x27;2020-08-30&#x27;, &#x27;2020-08-31&#x27;],\n",
       "              dtype=&#x27;datetime64[ns]&#x27;, name=&#x27;time&#x27;, length=228, freq=None))</pre></div></li></ul></div></li><li class='xr-section-item'><input id='section-746e8ea4-64db-4950-b8ee-85dd81cdcb0f' class='xr-section-summary-in' type='checkbox' disabled ><label for='section-746e8ea4-64db-4950-b8ee-85dd81cdcb0f' class='xr-section-summary'  title='Expand/collapse section'>Attributes: <span>(0)</span></label><div class='xr-section-inline-details'></div><div class='xr-section-details'><dl class='xr-attrs'></dl></div></li></ul></div></div>"
      ],
      "text/plain": [
       "<xarray.DataArray 'pteropod_biomass_gm2' (time: 228)> Size: 2kB\n",
       "array([4.87800046e-02, 4.80918935e-02, 1.61150763e-02, 2.33905311e-02,\n",
       "       5.72899027e-02, 1.71936980e-01, 2.71157444e-01, 1.65682167e-02,\n",
       "       1.05641623e-01, 2.23601411e-01, 1.03298472e-01, 2.55507611e-01,\n",
       "       2.38686213e-01, 1.70976952e-01, 4.33564919e-01, 6.35728856e-03,\n",
       "       1.01131117e-01, 1.60832713e-02, 8.12433023e-01, 3.01900655e-02,\n",
       "       3.01833351e-02, 4.91813233e-02, 3.07151597e-02, 9.93570281e-01,\n",
       "       2.84485454e+00, 1.28126691e-01, 1.43245104e-01, 5.14208270e-01,\n",
       "       2.66287530e-01, 8.22331936e-03, 2.70129050e-02, 4.41343339e-03,\n",
       "       2.44348116e-03, 3.50176143e-01, 5.92508515e-01, 1.17362986e-01,\n",
       "       5.52174912e-01, 2.62416951e-01, 5.26131206e-02, 2.43275881e-02,\n",
       "       7.26712062e-03, 3.96683939e-03, 7.22064467e-03, 2.69077936e-01,\n",
       "       5.73347156e-01, 3.41292480e+00, 6.50791262e-03, 6.77782729e-03,\n",
       "       2.77220798e-01, 4.40059126e-01, 9.05558607e-02, 2.79286152e-01,\n",
       "       4.54320934e-02, 5.71304952e-02, 1.10168360e-02, 4.80222396e-02,\n",
       "       1.83829179e-02, 2.42651477e-02, 2.25067351e-02, 4.20062320e-02,\n",
       "       3.40217315e-02, 2.65784094e-02, 2.57894099e+00, 2.90969297e+00,\n",
       "       5.77533252e-01, 4.69624032e-01, 8.74492962e-02, 8.52862261e-03,\n",
       "       8.83281286e-02, 1.83636247e-02, 2.94584700e-02, 8.59387525e-03,\n",
       "       2.91073242e-03, 3.17962778e-02, 1.01953456e-02, 1.32788310e-02,\n",
       "       1.26540453e-01, 9.49474453e-02, 5.93451788e-02, 1.84319481e-01,\n",
       "...\n",
       "       6.86135901e-02, 2.44929928e-01, 1.60255207e-02, 2.10010647e-02,\n",
       "       7.64987148e-03, 7.75672051e-03, 3.75607307e-02, 3.72435973e+00,\n",
       "       1.67301513e+00, 2.53467864e-01, 9.04489281e+00, 2.25053693e-01,\n",
       "       6.00073316e-02, 1.13461827e-01, 3.82356180e-02, 1.43771613e-02,\n",
       "       1.48984923e-02, 1.15507585e-02, 2.19979516e-02, 1.75341024e-02,\n",
       "       5.03995572e-03, 4.35505654e-03, 1.96708846e-02, 2.68592468e-01,\n",
       "       6.70466072e-02, 2.80098628e-02, 1.90752725e-02, 2.91018883e-01,\n",
       "       4.18683712e-01, 4.22249768e-02, 4.41062031e-01, 8.99315318e-01,\n",
       "       3.89173757e-01, 2.05296571e-02, 5.83655972e-03, 1.36714553e-01,\n",
       "       1.47718816e-02, 6.12137423e-02, 2.10312783e-02, 8.07033497e-02,\n",
       "       3.07095728e-02, 1.07810752e-01, 5.49669321e-01, 8.41823644e-01,\n",
       "       3.90051399e-01, 6.51714446e-01, 1.59970634e-02, 2.56918869e-02,\n",
       "       3.30022595e-02, 2.66806755e-02, 6.12773497e-02, 3.22934562e-02,\n",
       "       7.11149512e-03, 1.53616294e-01, 7.27132213e-03, 2.32436544e-02,\n",
       "       8.92476659e-03, 8.98829801e-03, 1.18841688e-01, 1.16483983e-01,\n",
       "       7.81035337e-03, 5.26071292e-03, 1.91011978e-02, 1.41073876e-01,\n",
       "       2.68409716e-02, 4.44213829e-02, 1.34568533e-02, 2.48890901e-02,\n",
       "       6.46194419e-03, 4.08911276e-03, 3.28335261e-02, 1.80620495e-01,\n",
       "       1.15609638e-02, 3.73011795e-02, 6.79916274e-02, 3.59166644e-02,\n",
       "       5.02073111e-02, 3.48509410e-04, 8.95318120e-03, 8.71090611e-03])\n",
       "Coordinates:\n",
       "  * time     (time) datetime64[ns] 2kB 1998-01-19 1998-01-20 ... 2020-08-31"
      ]
     },
     "execution_count": 120,
     "metadata": {},
     "output_type": "execute_result"
    }
   ],
   "source": [
    "#remove 0 (convenient for log transformation)\n",
    "ds_time_serie=ds_time_serie.where(ds_time_serie!=0,np.nan) \n",
    "# remove NaN\n",
    "mask = ~np.isnan(ds_time_serie)\n",
    "ds_clean = ds_time_serie[mask]\n",
    "ds_clean"
   ]
  },
  {
   "cell_type": "code",
   "execution_count": null,
   "id": "ee237d89",
   "metadata": {},
   "outputs": [],
   "source": [
    "#ds_clean.to_netcdf('/data/rd_exchange/sroyer/SEAPOPYM/time_serie_pter_papa_1998_2020.nc')"
   ]
  },
  {
   "cell_type": "markdown",
   "id": "b650727a",
   "metadata": {},
   "source": [
    "## Time Series"
   ]
  },
  {
   "cell_type": "code",
   "execution_count": 114,
   "id": "13378028",
   "metadata": {},
   "outputs": [
    {
     "data": {
      "application/vnd.plotly.v1+json": {
       "config": {
        "plotlyServerURL": "https://plot.ly"
       },
       "data": [
        {
         "mode": "markers",
         "name": "1998",
         "showlegend": true,
         "type": "scatter",
         "x": {
          "bdata": "EwAUADQANgA3ADoAOwA+AGIAYwCFAIkAigCLAIwAkwCaAJwAnwCgAKQApgCoAKkArgCvALgAuQC6ALsAvAC9AL4AxwDKAMwA7wDwAPEA8gD0APgAGAEZARsBHgEfAQ==",
          "dtype": "i2"
         },
         "y": {
          "bdata": "zuB/WLH5qD+JR4YrgJ+oPxWWfHd4gJA/AAAAAAAA+P8AAAAAAAD4/wAAAAAAAPj/AAAAAAAA+P9XQkv5r/OXP5SemSQaVa0/rN757AcCxj+RAkHApFrRP44X1DNC95A/0FWaU1QLuz+LM/2V+J7MP/BqxsjEcbo/cqZpmDxa0D9n9RMURY3OPyTV4qCS4sU/AAAAAAAA+P8AAAAAAAD4/wAAAAAAAPj/AAAAAAAA+P8AAAAAAAD4/wAAAAAAAPj/AAAAAAAA+P9SkwETh7/bPwAAAAAAAPj/AAAAAAAA+P8AAAAAAAD4/wAAAAAAAPj/AAAAAAAA+P8AAAAAAAD4/wAAAAAAAPj/aOxOpxkKej9GNviZuuO5PwAAAAAAAPj/pUhJESJ4kD8SPeyJc//pP+q6ff8k6p4/AAAAAAAA+P8AAAAAAAD4/wAAAAAAAPj/ylL2VGHonj8mCVZeSy6pP8viMnrLc58/AAAAAAAA+P8AAAAAAAD4/w==",
          "dtype": "f8"
         }
        },
        {
         "mode": "markers",
         "name": "1999",
         "showlegend": true,
         "type": "scatter",
         "x": {
          "bdata": "MQAzADQAgACBAIIAgwCMAJAAkQCpAKoAqwCsAK8AugC9AL4AvwDAAMEAwgDuAO8A8QDyAPUA9wD4APkA+gAOAR4B",
          "dtype": "i2"
         },
         "y": {
          "bdata": "AAAAAAAA+P8AAAAAAAD4/wAAAAAAAPj/hfwg51PL7z/8EmgYQ8IGQCgr0JV0ZsA/YjxuBdtVwj8grNTmZHTgPwAAAAAAAPj/AAAAAAAA+P8AAAAAAAD4/wAAAAAAAPj/AAAAAAAA+P/nuHva2grRP2m+vD1j14A/8zZpXUWpmz8AAAAAAAD4/wAAAAAAAPj/AAAAAAAA+P8AAAAAAAD4/wAAAAAAAPj/AAAAAAAA+P87yXQB0hNyPwAAAAAAAAAAAAAAAAAA+P8AAAAAAAD4/wAAAAAAAPj/AAAAAAAA+P8AAAAAAAD4/wAAAAAAAPj/AAAAAAAA+P/tn/L1WQRkPwAAAAAAAPj/",
          "dtype": "f8"
         }
        },
        {
         "mode": "markers",
         "name": "2000",
         "showlegend": true,
         "type": "scatter",
         "x": {
          "bdata": "LgCAAIEAggCEAJoAnACdAKAAqQCqAKsAuQC6ALsAvAC9AMEAwgDXANgA2QDaANsA3gD6APsA/QD+AAEBAgENAQ4BDwEQARIBEwE=",
          "dtype": "i2"
         },
         "y": {
          "bdata": "AAAAAAAA+P9iSAEySWnWPyYNuGrU9eI/+J94KYALvj9n/qO4aqvhP9XHa3dwy9A/AAAAAAAA+P8AAAAAAAD4/wAAAAAAAPj/AAAAAAAA+P8AAAAAAAD4/wAAAAAAAPj/AAAAAAAA+P8AAAAAAAD4/wAAAAAAAPj/AAAAAAAA+P8AAAAAAAD4/wAAAAAAAPj/AAAAAAAA+P8AAAAAAAD4/wAAAAAAAPj/AAAAAAAA+P8AAAAAAAD4/wAAAAAAAPj/AAAAAAAA+P+ghoVgG/CqPwAAAAAAAAAAAAAAAAAA+P8AAAAAAAD4/wAAAAAAAPj/AAAAAAAA+P8AAAAAAAD4/wAAAAAAAPj/AAAAAAAA+P8AAAAAAAD4/68JF81U6Zg/AAAAAAAAAAA=",
          "dtype": "f8"
         }
        },
        {
         "mode": "markers",
         "name": "2001",
         "showlegend": true,
         "type": "scatter",
         "x": {
          "bdata": "KAAqACsALwAwADIAUgCXAJkAmgCbAJwAnQCeAJ8AoAChAKIAowCnAKwArQCuAK8AuQC7AO0A8QAGAQkBCgEMAQ0BDgEPAREBFAE=",
          "dtype": "i2"
         },
         "y": {
          "bdata": "9rmd1iDEfT8AAAAAAAD4/wAAAAAAAPj/AAAAAAAA+P8AAAAAAAD4/wAAAAAAAPj/Oq4oV4g/cD9Vlj8LZZN9PwAAAAAAAPj/AAAAAAAA+P8AAAAAAAD4/wAAAAAAAPj/AAAAAAAA+P8AAAAAAAD4/wAAAAAAAPj/AAAAAAAA+P8AAAAAAAD4/wAAAAAAAPj/AAAAAAAA+P8AAAAAAAD4/wAAAAAAAPj/AAAAAAAAAAAAAAAAAAD4/wlJrqmSONE/AAAAAAAA+P8AAAAAAAD4/+o6xSLcWOI/AAAAAAAA+P9cOLyEq00LQAAAAAAAAPj/AAAAAAAA+P8AAAAAAAD4/wAAAAAAAPj/AAAAAAAA+P8AAAAAAAD4/wAAAAAAAPj/ak2OfQqoej8=",
          "dtype": "f8"
         }
        },
        {
         "mode": "markers",
         "name": "2002",
         "showlegend": true,
         "type": "scatter",
         "x": {
          "bdata": "JgAqACwALQAuAC8AQAB7AH0AfgCqALEAtgC3ALgAuQC6AMgAywDMAM0A5gDvAPAA8QDyAPYA+QD7AAYBCAEkASgB",
          "dtype": "i2"
         },
         "y": {
          "bdata": "AAAAAAAAAAAAAAAAAAD4/wAAAAAAAPj/AAAAAAAA+P8AAAAAAAD4/wAAAAAAAPj/LN8PKRHDez/SY6FN/L3RPw2z6cDtKdw/hy9gPKsutz/TJooG09/RPwAAAAAAAPj/1F3gFuBCpz8AAAAAAAAAAAAAAAAAAPj/AAAAAAAA+P8AAAAAAAD4/wAAAAAAAPj/AAAAAAAA+P8AAAAAAAD4/wAAAAAAAPj/6jjLUDVArT8m4S2z/o+GPzhBO/lelqg/AAAAAAAA+P8AAAAAAAD4/wAAAAAAAPj/AAAAAAAA+P8AAAAAAAD4/xYCq7z40pI/AAAAAAAAAAA8gLp+9tiYP6OPn2wBDJc/",
          "dtype": "f8"
         }
        },
        {
         "mode": "markers",
         "name": "2003",
         "showlegend": true,
         "type": "scatter",
         "x": {
          "bdata": "KwAtAC4ALwAwADQAiwCMAJUAlgCXAJgAmgCfAKAAoQCiAPQA9QD2APcA+QD6AA0BDgEPASsBLAE=",
          "dtype": "i2"
         },
         "y": {
          "bdata": "AAAAAAAA+P8AAAAAAAD4/wAAAAAAAPj/g8QsQdeBpT9yzqngS2uhP9/OttxeN5s/dcBx0KuhBEAzPUMcDUcHQJeStAMne+I/r0Oq9FEO3j8AAAAAAAD4/wAAAAAAAPj/AAAAAAAA+P8AAAAAAAD4/wAAAAAAAPj/rYkxuxNjtj8AAAAAAAD4/z8Ob1l0d4E/6uyBF6yctj8AAAAAAAD4/wAAAAAAAPj/AAAAAAAA+P8AAAAAAAD4/6WX7/3pzZI/KtuTdVwqnj/zuhRpqpmBPwqxm5E/2Gc/1vN7CppHoD8=",
          "dtype": "f8"
         }
        },
        {
         "mode": "markers",
         "name": "2004",
         "showlegend": true,
         "type": "scatter",
         "x": {
          "bdata": "MwA0ADUANwA6AJUAlgCaAJsAnQCeAKUA6QDqAOsA7ADuAPgA+QAsAQ==",
          "dtype": "i2"
         },
         "y": {
          "bdata": "zYG4HkzhhD8AAAAAAAD4/wAAAAAAAPj/AAAAAAAA+P9J2bKG7jGLP89ZDEJ6MsA/RiMzzHlOuD8guybEfWKuPwAAAAAAAPj/AAAAAAAA+P8AAAAAAAD4/wAAAAAAAPj/t7MY4MeXxz/QohmDMyHdPwAAAAAAAPj/AAAAAAAA+P8AAAAAAAD4/6dUTEIWAKE//IRyV2pi2j9YiPQs4JGyPw==",
          "dtype": "f8"
         }
        },
        {
         "mode": "markers",
         "name": "2005",
         "showlegend": true,
         "type": "scatter",
         "x": {
          "bdata": "LAAtAC4ALwAxADIANQA2AEcASACTAJQAmgCdAJ4ApgDSAOEA5gDnAOgA6QDqAOsA7wDwAPsA/AA=",
          "dtype": "i2"
         },
         "y": {
          "bdata": "F3G2Lw4Egz9L23A6HuudPwAAAAAAAPj/AAAAAAAA+P8AAAAAAAD4/wAAAAAAAPj/AAAAAAAA+P8AAAAAAAD4/wAAAAAAAPj/AAAAAAAA+P/XVSfI/aqqP6Ic2pZ8ZpE/sjxY6/oHiT8AAAAAAAD4/wAAAAAAAPj/AAAAAAAA+P+1fUsXp22XPwAAAAAAAAAAxwJtZa1Djz93WpF0poNhPwAAAAAAAPj/AAAAAAAA+P8AAAAAAAD4/wAAAAAAAPj/AAAAAAAA+P8AAAAAAAD4/2pAIjnCtIY/+gE+8W9DgD8=",
          "dtype": "f8"
         }
        },
        {
         "mode": "markers",
         "name": "2006",
         "showlegend": true,
         "type": "scatter",
         "x": {
          "bdata": "JQAoACkALABvAMMAxgDsAO8ACQEKAQsBDQEPARIBEwEVAQ==",
          "dtype": "i2"
         },
         "y": {
          "bdata": "Qa0jm4W7ij8AAAAAAAD4/wAAAAAAAPj/AAAAAAAA+P/6rfLX0GK6PxQwpyIuiGs/AAAAAAAA+P+0OqQZS1BlPwAAAAAAAAAAeNPJBITfsT/RNJnILOqtPwAAAAAAAPj/AAAAAAAA+P8AAAAAAAD4/wAAAAAAAPj/AAAAAAAA+P8AAAAAAAD4/w==",
          "dtype": "f8"
         }
        },
        {
         "mode": "markers",
         "name": "2007",
         "showlegend": true,
         "type": "scatter",
         "x": {
          "bdata": "KQAqACsALgAvADEAkgCZAJoAmwCeAKwAsgCzALkAugC7ALwAvQDlAOYA5wDpAOoA+QD6AA==",
          "dtype": "i2"
         },
         "y": {
          "bdata": "Fg/aG+zPjD8AAAAAAAD4/wAAAAAAAPj/AAAAAAAA+P8AAAAAAAD4/wAAAAAAAPj/WrZZ2eQ6gj9HFQHzgW+zPwAAAAAAAPj/AAAAAAAA+P8AAAAAAAD4/wAAAAAAAPj/AAAAAAAA+P8AAAAAAAD4/wAAAAAAAPj/AAAAAAAA+P8AAAAAAAD4/wAAAAAAAPj/AAAAAAAA+P8DQSOPRiyWP4yLf0NpSrM/AAAAAAAA+P8AAAAAAAD4/wAAAAAAAPj/p2B018Cobz8X+Zd4mFOWPw==",
          "dtype": "f8"
         }
        },
        {
         "mode": "markers",
         "name": "2008",
         "showlegend": true,
         "type": "scatter",
         "x": {
          "bdata": "IQAiACMAJQApAJEAkgCZAJoAmwCdAJ8AuQC6ALwAvgDjAOQA5QDnAOkA9wD4APkAIgE=",
          "dtype": "i2"
         },
         "y": {
          "bdata": "JUiTWig2iD/wtvPVcth5PwAAAAAAAPj/AAAAAAAA+P8AAAAAAAD4/1hB+cSC1oE/yLlk0+Q4sT/DgXbn2CCUPxcy3RCni8Q/AAAAAAAA+P8AAAAAAAD4/wAAAAAAAPj/AAAAAAAA+P8AAAAAAAD4/wAAAAAAAPj/AAAAAAAA+P9yKEsBVee+P/hKjdYyPcA/AAAAAAAA+P8AAAAAAAD4/wAAAAAAAPj/7+M/XOlEvD8bjAIsOwaxP89ekXObX7I/AAAAAAAA+P8=",
          "dtype": "f8"
         }
        },
        {
         "mode": "markers",
         "name": "2009",
         "showlegend": true,
         "type": "scatter",
         "x": {
          "bdata": "HgAfACEAJACXAJgAnwCgAKEAogClAMAAwQDCAMMA6gDrAO4A7wDzAPwA/QA=",
          "dtype": "i2"
         },
         "y": {
          "bdata": "P0xLnFJJoz+CVP26pDOIPwAAAAAAAPj/AAAAAAAA+P/T07M/D0y/P4F3CMNGL+Y/f3rnhdf20T/nwURb2xn7PwAAAAAAAPj/AAAAAAAA+P8AAAAAAAD4/xCQBPtNYsA/AAAAAAAA+P8AAAAAAAD4/wAAAAAAAPj/ahLd06dMxT9tP0nU+kgSQAAAAAAAAPj/AAAAAAAA+P8AAAAAAAD4/9w3wiyZHsY/qpZ2pP0Jhz8=",
          "dtype": "f8"
         }
        },
        {
         "mode": "markers",
         "name": "2010",
         "showlegend": true,
         "type": "scatter",
         "x": {
          "bdata": "JAAlACcAlwCfAKAAoQCiAKUAzADNAM8A0QDpAOoA6wDtAO4A+wD8AP0A",
          "dtype": "i2"
         },
         "y": {
          "bdata": "jovk6ontmD8AAAAAAAD4/wAAAAAAAPj/Xz8m1B+odz/lW4EBYHfAP7rS1sD5tLc/AAAAAAAA+P8AAAAAAAD4/wAAAAAAAPj/AAAAAAAA+P8AAAAAAAD4/wAAAAAAAPj/AAAAAAAA+P+jSVvhyvdwP+d7WiXlpHc/AAAAAAAA+P8AAAAAAAD4/wAAAAAAAPj/AAAAAAAAAADw5SZwvQuIPwAAAAAAAAAA",
          "dtype": "f8"
         }
        },
        {
         "mode": "markers",
         "name": "2011",
         "showlegend": true,
         "type": "scatter",
         "x": {
          "bdata": "KQAqACsALQAvAJUAlgCcAJ0AnwCgAKQA5wDoAOoA6wDuAPkA+gD7AA==",
          "dtype": "i2"
         },
         "y": {
          "bdata": "AAAAAAAAAACF7vF4nUKEPwAAAAAAAPj/AAAAAAAA+P8AAAAAAAD4/1FSsffq7ew/hcfJsYwvuT/RkAsFuEQCQIvrsJ33OGI/AAAAAAAA+P8AAAAAAAD4/wAAAAAAAPj//YUwe0RsqT9/BqnjADeFPwAAAAAAAPj/AAAAAAAA+P8AAAAAAAD4/z/YKUHoCqU/spjqJ49vhz/Tz5JgEgqSPw==",
          "dtype": "f8"
         }
        },
        {
         "mode": "markers",
         "name": "2012",
         "showlegend": true,
         "type": "scatter",
         "x": {
          "bdata": "KQAqACsALgAvAIgAiQCKAJIAlgCaAOYA6ADsAPcA+AD5AA==",
          "dtype": "i2"
         },
         "y": {
          "bdata": "AAAAAAAAAAAAAAAAAAAAAAAAAAAAAPj/AAAAAAAA+P8AAAAAAAD4/xrCL5uOUag/bxDLuAKUpD9S+4UFqZCxP/8lKifdWc8/AAAAAAAA+P8AAAAAAAD4/xdRlH3+aJA/AAAAAAAA+P8AAAAAAAD4/wFQgpdNgZU/AAAAAAAAAAC9rx29eFV/Pw==",
          "dtype": "f8"
         }
        },
        {
         "mode": "markers",
         "name": "2013",
         "showlegend": true,
         "type": "scatter",
         "x": {
          "bdata": "JgAnACgALAAtAJkAmgChAKIAowClAKkA6wDtAO4A8ADyAP4A",
          "dtype": "i2"
         },
         "y": {
          "bdata": "bguHzoLFfz8+jZD7KDujPwAAAAAAAPj/AAAAAAAA+P8AAAAAAAD4/ykB0Rx9yw1AMqNihKvE+j/efdtG0TjQP1HqsDD8FiJAAAAAAAAA+P8AAAAAAAD4/wAAAAAAAPj/Th0MNY/OzD8/P4DtR7muPwAAAAAAAPj/AAAAAAAA+P8AAAAAAAD4/4Z8xJPVC70/",
          "dtype": "f8"
         }
        },
        {
         "mode": "markers",
         "name": "2014",
         "showlegend": true,
         "type": "scatter",
         "x": {
          "bdata": "KwA1AJsApACmAKgA6wDtAO4A/QD+AP8A",
          "dtype": "i2"
         },
         "y": {
          "bdata": "BqtycZ6Toz+uDvfsxXGNP1Tng8gZg44/AAAAAAAA+P8AAAAAAAD4/wAAAAAAAPj/uBiRkeynhz8AAAAAAAD4/wAAAAAAAPj/rUcbi6GGlj9uMVKydfSRPxTcjs/GpHQ/",
          "dtype": "f8"
         }
        },
        {
         "mode": "markers",
         "name": "2015",
         "showlegend": true,
         "type": "scatter",
         "x": {
          "bdata": "KwAsAC4ALwAyAJkAoQCjAKQAqACrAL8AwADBAMIAwwDEAMUAxwDqAOsA7ADuAPAA+gAkAQ==",
          "dtype": "i2"
         },
         "y": {
          "bdata": "sfNDlpvWcT8klsO3miSUPwAAAAAAAPj/AAAAAAAA+P8AAAAAAAD4/6qZn3aeMNE/fWksafcpsT8AAAAAAAD4/wAAAAAAAPj/AAAAAAAA+P8lQA0Snq6cPwAAAAAAAPj/AAAAAAAA+P8AAAAAAAD4/wAAAAAAAPj/AAAAAAAA+P8AAAAAAAD4/wAAAAAAAPj//cGI3XeIkz8XzGSqDaDSP+jZRMS2y9o/AAAAAAAA+P8AAAAAAAD4/wAAAAAAAPj/AAAAAAAA+P8AAAAAAAD4/w==",
          "dtype": "f8"
         }
        },
        {
         "mode": "markers",
         "name": "2016",
         "showlegend": true,
         "type": "scatter",
         "x": {
          "bdata": "KQArAC8AMQCXAJgAngCgAKEAogClANoA2wDeAOgA6gDrAO4A8QD7AA==",
          "dtype": "i2"
         },
         "y": {
          "bdata": "ZdH+HIOepT8AAAAAAAD4/wAAAAAAAPj/AAAAAAAA+P/Tv409XDrcPwAAAAAAAPj/Br686jDH7D86eU8LOejYPwAAAAAAAPj/AAAAAAAA+P8AAAAAAAD4/wAAAAAAAPj/AAAAAAAA+P/3wfX3uQWVP+01MJIT6Hc/AAAAAAAA+P8AAAAAAAD4/wAAAAAAAPj/mwv2y9x/wT8AAAAAAAD4/w==",
          "dtype": "f8"
         }
        },
        {
         "mode": "markers",
         "name": "2017",
         "showlegend": true,
         "type": "scatter",
         "x": {
          "bdata": "KAArAC4ALwAwAJQAlgCdAJ4AoAChAKQAywDMAM0AzgDPANAA0QDmAOcA6QDsAO4A+AD5APoA+wA=",
          "dtype": "i2"
         },
         "y": {
          "bdata": "AAAAAAAA+P8AAAAAAAD4/wAAAAAAAPj/R4i5Y7hAjj8mpjlaaFevP52rJjI5iZU/GHJ7h/motD8OgNqLVHKfP5LN5EV8mbs/AAAAAAAA+P8AAAAAAAD4/wAAAAAAAPj/AAAAAAAA+P8AAAAAAAD4/wAAAAAAAPj/AAAAAAAA+P/6GnQd5JbhP+r+WSM48Oo/ESXVJJr22D+BU75A2NrkPxAPX8GIYZA/AAAAAAAA+P8AAAAAAAD4/wAAAAAAAPj/zP/HWPlOmj8bhaYSrOWgP+LiGtMtUps/AAAAAAAA+P8=",
          "dtype": "f8"
         }
        },
        {
         "mode": "markers",
         "name": "2018",
         "showlegend": true,
         "type": "scatter",
         "x": {
          "bdata": "NAA1ADkAPQA+AIUAnwCgAKEAogCkAPAA+QABAQIBAwEFAQcBCAEJAQ==",
          "dtype": "i2"
         },
         "y": {
          "bdata": "ha+cqb5frz9Qp9mUxIigPwAAAAAAAPj/AAAAAAAA+P8AAAAAAAD4/xzpcW/xIH0/AAAAAAAAAACOMN7fsqnDPwAAAAAAAPj/AAAAAAAA+P8AAAAAAAD4/wAAAAAAAPj/hH39q4jIfT/LiTc+L82XP1reG+UlR4I/AAAAAAAA+P8AAAAAAAD4/wAAAAAAAPj/AAAAAAAA+P8AAAAAAAD4/w==",
          "dtype": "f8"
         }
        },
        {
         "mode": "markers",
         "name": "2019",
         "showlegend": true,
         "type": "scatter",
         "x": {
          "bdata": "JgAnACkAKwCbAJwAngCiALgAyADJAMoAywDMAM0AzgDPANAA2ADkAOUA5wDoAOsA9gD3AA==",
          "dtype": "i2"
         },
         "y": {
          "bdata": "avcn8HRogj/2ou+paGy+PwAAAAAAAPj/AAAAAAAA+P/NI4jy5NG9P92238S//X8/AAAAAAAA+P8AAAAAAAD4/wAAAAAAAPj/wQpR30GMdT//yp6vQ4+TP/Do/3C1DsI/Mii0HTN8mz8NWfZFZr6mPwAAAAAAAPj/AAAAAAAA+P/wIgRFRI+LP+BSfY+GfJk/AAAAAAAA+P/7P4nv1nd6P27B7ti+v3A/AAAAAAAA+P8AAAAAAAD4/wAAAAAAAPj/0b/qUY7PoD8AAAAAAAAAAA==",
          "dtype": "f8"
         }
        },
        {
         "mode": "markers",
         "name": "2020",
         "showlegend": true,
         "type": "scatter",
         "x": {
          "bdata": "KQAqACsALQAuAC8AsQC1ALoAywDPAOIA4wDlAOYA6ADyAPMA",
          "dtype": "i2"
         },
         "y": {
          "bdata": "pCjJhpIexz9Fm0ZMRq2HPwAAAAAAAPj/AAAAAAAA+P8AAAAAAAD4/wAAAAAAAPj/OuHU4yMZoz90djo45mexP92ZuUWrY6I/AAAAAAAA+P8AAAAAAAD4/8rAW87FtKk/vSDchATXNj8AAAAAAAD4/wAAAAAAAPj/AAAAAAAA+P8zEXOjC1aCP/qa6AYG14E/",
          "dtype": "f8"
         }
        }
       ],
       "layout": {
        "template": {
         "data": {
          "bar": [
           {
            "error_x": {
             "color": "#2a3f5f"
            },
            "error_y": {
             "color": "#2a3f5f"
            },
            "marker": {
             "line": {
              "color": "white",
              "width": 0.5
             },
             "pattern": {
              "fillmode": "overlay",
              "size": 10,
              "solidity": 0.2
             }
            },
            "type": "bar"
           }
          ],
          "barpolar": [
           {
            "marker": {
             "line": {
              "color": "white",
              "width": 0.5
             },
             "pattern": {
              "fillmode": "overlay",
              "size": 10,
              "solidity": 0.2
             }
            },
            "type": "barpolar"
           }
          ],
          "carpet": [
           {
            "aaxis": {
             "endlinecolor": "#2a3f5f",
             "gridcolor": "#C8D4E3",
             "linecolor": "#C8D4E3",
             "minorgridcolor": "#C8D4E3",
             "startlinecolor": "#2a3f5f"
            },
            "baxis": {
             "endlinecolor": "#2a3f5f",
             "gridcolor": "#C8D4E3",
             "linecolor": "#C8D4E3",
             "minorgridcolor": "#C8D4E3",
             "startlinecolor": "#2a3f5f"
            },
            "type": "carpet"
           }
          ],
          "choropleth": [
           {
            "colorbar": {
             "outlinewidth": 0,
             "ticks": ""
            },
            "type": "choropleth"
           }
          ],
          "contour": [
           {
            "colorbar": {
             "outlinewidth": 0,
             "ticks": ""
            },
            "colorscale": [
             [
              0,
              "#0d0887"
             ],
             [
              0.1111111111111111,
              "#46039f"
             ],
             [
              0.2222222222222222,
              "#7201a8"
             ],
             [
              0.3333333333333333,
              "#9c179e"
             ],
             [
              0.4444444444444444,
              "#bd3786"
             ],
             [
              0.5555555555555556,
              "#d8576b"
             ],
             [
              0.6666666666666666,
              "#ed7953"
             ],
             [
              0.7777777777777778,
              "#fb9f3a"
             ],
             [
              0.8888888888888888,
              "#fdca26"
             ],
             [
              1,
              "#f0f921"
             ]
            ],
            "type": "contour"
           }
          ],
          "contourcarpet": [
           {
            "colorbar": {
             "outlinewidth": 0,
             "ticks": ""
            },
            "type": "contourcarpet"
           }
          ],
          "heatmap": [
           {
            "colorbar": {
             "outlinewidth": 0,
             "ticks": ""
            },
            "colorscale": [
             [
              0,
              "#0d0887"
             ],
             [
              0.1111111111111111,
              "#46039f"
             ],
             [
              0.2222222222222222,
              "#7201a8"
             ],
             [
              0.3333333333333333,
              "#9c179e"
             ],
             [
              0.4444444444444444,
              "#bd3786"
             ],
             [
              0.5555555555555556,
              "#d8576b"
             ],
             [
              0.6666666666666666,
              "#ed7953"
             ],
             [
              0.7777777777777778,
              "#fb9f3a"
             ],
             [
              0.8888888888888888,
              "#fdca26"
             ],
             [
              1,
              "#f0f921"
             ]
            ],
            "type": "heatmap"
           }
          ],
          "histogram": [
           {
            "marker": {
             "pattern": {
              "fillmode": "overlay",
              "size": 10,
              "solidity": 0.2
             }
            },
            "type": "histogram"
           }
          ],
          "histogram2d": [
           {
            "colorbar": {
             "outlinewidth": 0,
             "ticks": ""
            },
            "colorscale": [
             [
              0,
              "#0d0887"
             ],
             [
              0.1111111111111111,
              "#46039f"
             ],
             [
              0.2222222222222222,
              "#7201a8"
             ],
             [
              0.3333333333333333,
              "#9c179e"
             ],
             [
              0.4444444444444444,
              "#bd3786"
             ],
             [
              0.5555555555555556,
              "#d8576b"
             ],
             [
              0.6666666666666666,
              "#ed7953"
             ],
             [
              0.7777777777777778,
              "#fb9f3a"
             ],
             [
              0.8888888888888888,
              "#fdca26"
             ],
             [
              1,
              "#f0f921"
             ]
            ],
            "type": "histogram2d"
           }
          ],
          "histogram2dcontour": [
           {
            "colorbar": {
             "outlinewidth": 0,
             "ticks": ""
            },
            "colorscale": [
             [
              0,
              "#0d0887"
             ],
             [
              0.1111111111111111,
              "#46039f"
             ],
             [
              0.2222222222222222,
              "#7201a8"
             ],
             [
              0.3333333333333333,
              "#9c179e"
             ],
             [
              0.4444444444444444,
              "#bd3786"
             ],
             [
              0.5555555555555556,
              "#d8576b"
             ],
             [
              0.6666666666666666,
              "#ed7953"
             ],
             [
              0.7777777777777778,
              "#fb9f3a"
             ],
             [
              0.8888888888888888,
              "#fdca26"
             ],
             [
              1,
              "#f0f921"
             ]
            ],
            "type": "histogram2dcontour"
           }
          ],
          "mesh3d": [
           {
            "colorbar": {
             "outlinewidth": 0,
             "ticks": ""
            },
            "type": "mesh3d"
           }
          ],
          "parcoords": [
           {
            "line": {
             "colorbar": {
              "outlinewidth": 0,
              "ticks": ""
             }
            },
            "type": "parcoords"
           }
          ],
          "pie": [
           {
            "automargin": true,
            "type": "pie"
           }
          ],
          "scatter": [
           {
            "fillpattern": {
             "fillmode": "overlay",
             "size": 10,
             "solidity": 0.2
            },
            "type": "scatter"
           }
          ],
          "scatter3d": [
           {
            "line": {
             "colorbar": {
              "outlinewidth": 0,
              "ticks": ""
             }
            },
            "marker": {
             "colorbar": {
              "outlinewidth": 0,
              "ticks": ""
             }
            },
            "type": "scatter3d"
           }
          ],
          "scattercarpet": [
           {
            "marker": {
             "colorbar": {
              "outlinewidth": 0,
              "ticks": ""
             }
            },
            "type": "scattercarpet"
           }
          ],
          "scattergeo": [
           {
            "marker": {
             "colorbar": {
              "outlinewidth": 0,
              "ticks": ""
             }
            },
            "type": "scattergeo"
           }
          ],
          "scattergl": [
           {
            "marker": {
             "colorbar": {
              "outlinewidth": 0,
              "ticks": ""
             }
            },
            "type": "scattergl"
           }
          ],
          "scattermap": [
           {
            "marker": {
             "colorbar": {
              "outlinewidth": 0,
              "ticks": ""
             }
            },
            "type": "scattermap"
           }
          ],
          "scattermapbox": [
           {
            "marker": {
             "colorbar": {
              "outlinewidth": 0,
              "ticks": ""
             }
            },
            "type": "scattermapbox"
           }
          ],
          "scatterpolar": [
           {
            "marker": {
             "colorbar": {
              "outlinewidth": 0,
              "ticks": ""
             }
            },
            "type": "scatterpolar"
           }
          ],
          "scatterpolargl": [
           {
            "marker": {
             "colorbar": {
              "outlinewidth": 0,
              "ticks": ""
             }
            },
            "type": "scatterpolargl"
           }
          ],
          "scatterternary": [
           {
            "marker": {
             "colorbar": {
              "outlinewidth": 0,
              "ticks": ""
             }
            },
            "type": "scatterternary"
           }
          ],
          "surface": [
           {
            "colorbar": {
             "outlinewidth": 0,
             "ticks": ""
            },
            "colorscale": [
             [
              0,
              "#0d0887"
             ],
             [
              0.1111111111111111,
              "#46039f"
             ],
             [
              0.2222222222222222,
              "#7201a8"
             ],
             [
              0.3333333333333333,
              "#9c179e"
             ],
             [
              0.4444444444444444,
              "#bd3786"
             ],
             [
              0.5555555555555556,
              "#d8576b"
             ],
             [
              0.6666666666666666,
              "#ed7953"
             ],
             [
              0.7777777777777778,
              "#fb9f3a"
             ],
             [
              0.8888888888888888,
              "#fdca26"
             ],
             [
              1,
              "#f0f921"
             ]
            ],
            "type": "surface"
           }
          ],
          "table": [
           {
            "cells": {
             "fill": {
              "color": "#EBF0F8"
             },
             "line": {
              "color": "white"
             }
            },
            "header": {
             "fill": {
              "color": "#C8D4E3"
             },
             "line": {
              "color": "white"
             }
            },
            "type": "table"
           }
          ]
         },
         "layout": {
          "annotationdefaults": {
           "arrowcolor": "#2a3f5f",
           "arrowhead": 0,
           "arrowwidth": 1
          },
          "autotypenumbers": "strict",
          "coloraxis": {
           "colorbar": {
            "outlinewidth": 0,
            "ticks": ""
           }
          },
          "colorscale": {
           "diverging": [
            [
             0,
             "#8e0152"
            ],
            [
             0.1,
             "#c51b7d"
            ],
            [
             0.2,
             "#de77ae"
            ],
            [
             0.3,
             "#f1b6da"
            ],
            [
             0.4,
             "#fde0ef"
            ],
            [
             0.5,
             "#f7f7f7"
            ],
            [
             0.6,
             "#e6f5d0"
            ],
            [
             0.7,
             "#b8e186"
            ],
            [
             0.8,
             "#7fbc41"
            ],
            [
             0.9,
             "#4d9221"
            ],
            [
             1,
             "#276419"
            ]
           ],
           "sequential": [
            [
             0,
             "#0d0887"
            ],
            [
             0.1111111111111111,
             "#46039f"
            ],
            [
             0.2222222222222222,
             "#7201a8"
            ],
            [
             0.3333333333333333,
             "#9c179e"
            ],
            [
             0.4444444444444444,
             "#bd3786"
            ],
            [
             0.5555555555555556,
             "#d8576b"
            ],
            [
             0.6666666666666666,
             "#ed7953"
            ],
            [
             0.7777777777777778,
             "#fb9f3a"
            ],
            [
             0.8888888888888888,
             "#fdca26"
            ],
            [
             1,
             "#f0f921"
            ]
           ],
           "sequentialminus": [
            [
             0,
             "#0d0887"
            ],
            [
             0.1111111111111111,
             "#46039f"
            ],
            [
             0.2222222222222222,
             "#7201a8"
            ],
            [
             0.3333333333333333,
             "#9c179e"
            ],
            [
             0.4444444444444444,
             "#bd3786"
            ],
            [
             0.5555555555555556,
             "#d8576b"
            ],
            [
             0.6666666666666666,
             "#ed7953"
            ],
            [
             0.7777777777777778,
             "#fb9f3a"
            ],
            [
             0.8888888888888888,
             "#fdca26"
            ],
            [
             1,
             "#f0f921"
            ]
           ]
          },
          "colorway": [
           "#636efa",
           "#EF553B",
           "#00cc96",
           "#ab63fa",
           "#FFA15A",
           "#19d3f3",
           "#FF6692",
           "#B6E880",
           "#FF97FF",
           "#FECB52"
          ],
          "font": {
           "color": "#2a3f5f"
          },
          "geo": {
           "bgcolor": "white",
           "lakecolor": "white",
           "landcolor": "white",
           "showlakes": true,
           "showland": true,
           "subunitcolor": "#C8D4E3"
          },
          "hoverlabel": {
           "align": "left"
          },
          "hovermode": "closest",
          "mapbox": {
           "style": "light"
          },
          "paper_bgcolor": "white",
          "plot_bgcolor": "white",
          "polar": {
           "angularaxis": {
            "gridcolor": "#EBF0F8",
            "linecolor": "#EBF0F8",
            "ticks": ""
           },
           "bgcolor": "white",
           "radialaxis": {
            "gridcolor": "#EBF0F8",
            "linecolor": "#EBF0F8",
            "ticks": ""
           }
          },
          "scene": {
           "xaxis": {
            "backgroundcolor": "white",
            "gridcolor": "#DFE8F3",
            "gridwidth": 2,
            "linecolor": "#EBF0F8",
            "showbackground": true,
            "ticks": "",
            "zerolinecolor": "#EBF0F8"
           },
           "yaxis": {
            "backgroundcolor": "white",
            "gridcolor": "#DFE8F3",
            "gridwidth": 2,
            "linecolor": "#EBF0F8",
            "showbackground": true,
            "ticks": "",
            "zerolinecolor": "#EBF0F8"
           },
           "zaxis": {
            "backgroundcolor": "white",
            "gridcolor": "#DFE8F3",
            "gridwidth": 2,
            "linecolor": "#EBF0F8",
            "showbackground": true,
            "ticks": "",
            "zerolinecolor": "#EBF0F8"
           }
          },
          "shapedefaults": {
           "line": {
            "color": "#2a3f5f"
           }
          },
          "ternary": {
           "aaxis": {
            "gridcolor": "#DFE8F3",
            "linecolor": "#A2B1C6",
            "ticks": ""
           },
           "baxis": {
            "gridcolor": "#DFE8F3",
            "linecolor": "#A2B1C6",
            "ticks": ""
           },
           "bgcolor": "white",
           "caxis": {
            "gridcolor": "#DFE8F3",
            "linecolor": "#A2B1C6",
            "ticks": ""
           }
          },
          "title": {
           "x": 0.05
          },
          "xaxis": {
           "automargin": true,
           "gridcolor": "#EBF0F8",
           "linecolor": "#EBF0F8",
           "ticks": "",
           "title": {
            "standoff": 15
           },
           "zerolinecolor": "#EBF0F8",
           "zerolinewidth": 2
          },
          "yaxis": {
           "automargin": true,
           "gridcolor": "#EBF0F8",
           "linecolor": "#EBF0F8",
           "ticks": "",
           "title": {
            "standoff": 15
           },
           "zerolinecolor": "#EBF0F8",
           "zerolinewidth": 2
          }
         }
        },
        "title": {
         "text": "Pteropod Biomass Time Serie at PAPA (1998-2020)"
        },
        "xaxis": {
         "title": {
          "text": "Day of Year"
         }
        },
        "yaxis": {
         "title": {
          "text": "Biomass [g m-2]"
         }
        }
       }
      }
     },
     "metadata": {},
     "output_type": "display_data"
    }
   ],
   "source": [
    "# Spatial and vertical mean\n",
    "mean_timeseries = ds_pter_2deg.mean(dim=[\"is_day\",\"latitude\", \"longitude\", \"depth\"], skipna=True)\n",
    "\n",
    "# assign day coordinate\n",
    "# Extract MM-DD \n",
    "mmdd = pd.to_datetime(mean_timeseries.time.values).strftime('%m-%d')\n",
    "# transform MM-DD in indice of day in year (1->365) avoiding leap year discordance \n",
    "day_noleap = pd.Series(mmdd).map(mmdd_to_day).values\n",
    "# add coord day\n",
    "mean_timeseries = mean_timeseries.assign_coords(day=(\"time\", day_noleap))\n",
    "\n",
    "# Plot\n",
    "# Group by year\n",
    "years = pd.DatetimeIndex(mean_timeseries.time.values).year.unique()\n",
    "\n",
    "fig = go.Figure()\n",
    "# Plot one color per year\n",
    "for year in years:\n",
    "    yearly_data = mean_timeseries.sel(time=str(year))\n",
    "    fig.add_trace(go.Scatter(\n",
    "        x=yearly_data['day'],\n",
    "        y=yearly_data.values,\n",
    "        mode='markers',\n",
    "        name=str(year),\n",
    "        showlegend=True \n",
    "    ))\n",
    "\n",
    "fig.update_layout(\n",
    "    title='Pteropod Biomass Time Serie at PAPA (1998-2020)',\n",
    "    xaxis_title='Day of Year',\n",
    "    yaxis=dict(\n",
    "        #type='log',\n",
    "        title='Biomass [g m-2]',\n",
    "        #range=[0, 5],\n",
    "    ),\n",
    "    template='plotly_white'\n",
    ")\n",
    "\n",
    "\n",
    "fig.show()\n"
   ]
  },
  {
   "cell_type": "markdown",
   "id": "3a6ed483",
   "metadata": {},
   "source": [
    "<div style=\"padding: 10px; border-radius: 5px; background-color: #cce5ff; color: #004085; border-left: 5px solid #007bff;\">\n",
    "    <strong>Note :</strong> It's a gaussian distribution, so it's better to do the stats and the optimisation with the log10. <br>\n",
    "    Quentin (which one ?) is doing that also, ask him if he has some papers\n",
    "</div>"
   ]
  },
  {
   "cell_type": "markdown",
   "id": "58464315",
   "metadata": {},
   "source": [
    "<div style=\"padding: 10px; border-radius: 5px; background-color: #cce5ff; color: #004085; border-left: 5px solid #007bff;\">\n",
    "    <strong>Note :</strong> Remove outliers : <br>\n",
    "    - June 2013 ; 9.044 g.m-2 <br>\n",
    "    - Sep 2009 ; 4.57 g.m-2 (the day before : 0.16 g.m-2) <br> \n",
    "    \n",
    "\n",
    "</div>"
   ]
  },
  {
   "cell_type": "code",
   "execution_count": 35,
   "id": "cd9c1ad7",
   "metadata": {},
   "outputs": [],
   "source": [
    "# Remove les outliers > 4 g/m2\n",
    "ds_pter_2deg = ds_pter_2deg.where(ds_pter_2deg <= 4)\n"
   ]
  },
  {
   "cell_type": "code",
   "execution_count": 28,
   "id": "45047224",
   "metadata": {},
   "outputs": [
    {
     "data": {
      "application/vnd.plotly.v1+json": {
       "config": {
        "plotlyServerURL": "https://plot.ly"
       },
       "data": [
        {
         "mode": "markers",
         "name": "1998",
         "showlegend": true,
         "type": "scatter",
         "x": {
          "bdata": "EwAUADQANgA3ADoAOwA+AGIAYwCFAIkAigCLAIwAkwCaAJwAnwCgAKQApgCoAKkArgCvALgAuQC6ALsAvAC9AL4AxwDKAMwA7wDwAPEA8gD0APgAGAEZARsBHgEfAQ==",
          "dtype": "i2"
         },
         "y": {
          "bdata": "zuB/WLH5qD+JR4YrgJ+oPxWWfHd4gJA/AAAAAAAA+P8AAAAAAAD4/wAAAAAAAPj/AAAAAAAA+P9XQkv5r/OXP5SemSQaVa0/rN757AcCxj+RAkHApFrRP44X1DNC95A/0FWaU1QLuz+LM/2V+J7MP/BqxsjEcbo/cqZpmDxa0D9n9RMURY3OPyTV4qCS4sU/AAAAAAAA+P8AAAAAAAD4/wAAAAAAAPj/AAAAAAAA+P8AAAAAAAD4/wAAAAAAAPj/AAAAAAAA+P9SkwETh7/bPwAAAAAAAPj/AAAAAAAA+P8AAAAAAAD4/wAAAAAAAPj/AAAAAAAA+P8AAAAAAAD4/wAAAAAAAPj/aOxOpxkKej9GNviZuuO5PwAAAAAAAPj/pUhJESJ4kD8SPeyJc//pP+q6ff8k6p4/AAAAAAAA+P8AAAAAAAD4/wAAAAAAAPj/ylL2VGHonj8mCVZeSy6pP8viMnrLc58/AAAAAAAA+P8AAAAAAAD4/w==",
          "dtype": "f8"
         }
        },
        {
         "mode": "markers",
         "name": "1999",
         "showlegend": true,
         "type": "scatter",
         "x": {
          "bdata": "MQAzADQAgACBAIIAgwCMAJAAkQCpAKoAqwCsAK8AugC9AL4AvwDAAMEAwgDuAO8A8QDyAPUA9wD4APkA+gAOAR4B",
          "dtype": "i2"
         },
         "y": {
          "bdata": "AAAAAAAA+P8AAAAAAAD4/wAAAAAAAPj/hfwg51PL7z9jHJtmMkXRPygr0JV0ZsA/YjxuBdtVwj8grNTmZHTgPwAAAAAAAPj/AAAAAAAA+P8AAAAAAAD4/wAAAAAAAPj/AAAAAAAA+P/nuHva2grRP2m+vD1j14A/8zZpXUWpmz8AAAAAAAD4/wAAAAAAAPj/AAAAAAAA+P8AAAAAAAD4/wAAAAAAAPj/AAAAAAAA+P87yXQB0hNyPwAAAAAAAAAAAAAAAAAA+P8AAAAAAAD4/wAAAAAAAPj/AAAAAAAA+P8AAAAAAAD4/wAAAAAAAPj/AAAAAAAA+P/tn/L1WQRkPwAAAAAAAPj/",
          "dtype": "f8"
         }
        },
        {
         "mode": "markers",
         "name": "2000",
         "showlegend": true,
         "type": "scatter",
         "x": {
          "bdata": "LgCAAIEAggCEAJoAnACdAKAAqQCqAKsAuQC6ALsAvAC9AMEAwgDXANgA2QDaANsA3gD6APsA/QD+AAEBAgENAQ4BDwEQARIBEwE=",
          "dtype": "i2"
         },
         "y": {
          "bdata": "AAAAAAAA+P9iSAEySWnWPyYNuGrU9eI/+J94KYALvj9n/qO4aqvhP9XHa3dwy9A/AAAAAAAA+P8AAAAAAAD4/wAAAAAAAPj/AAAAAAAA+P8AAAAAAAD4/wAAAAAAAPj/AAAAAAAA+P8AAAAAAAD4/wAAAAAAAPj/AAAAAAAA+P8AAAAAAAD4/wAAAAAAAPj/AAAAAAAA+P8AAAAAAAD4/wAAAAAAAPj/AAAAAAAA+P8AAAAAAAD4/wAAAAAAAPj/AAAAAAAA+P+ghoVgG/CqPwAAAAAAAAAAAAAAAAAA+P8AAAAAAAD4/wAAAAAAAPj/AAAAAAAA+P8AAAAAAAD4/wAAAAAAAPj/AAAAAAAA+P8AAAAAAAD4/68JF81U6Zg/AAAAAAAAAAA=",
          "dtype": "f8"
         }
        },
        {
         "mode": "markers",
         "name": "2001",
         "showlegend": true,
         "type": "scatter",
         "x": {
          "bdata": "KAAqACsALwAwADIAUgCXAJkAmgCbAJwAnQCeAJ8AoAChAKIAowCnAKwArQCuAK8AuQC7AO0A8QAGAQkBCgEMAQ0BDgEPAREBFAE=",
          "dtype": "i2"
         },
         "y": {
          "bdata": "9rmd1iDEfT8AAAAAAAD4/wAAAAAAAPj/AAAAAAAA+P8AAAAAAAD4/wAAAAAAAPj/Oq4oV4g/cD9Vlj8LZZN9PwAAAAAAAPj/AAAAAAAA+P8AAAAAAAD4/wAAAAAAAPj/AAAAAAAA+P8AAAAAAAD4/wAAAAAAAPj/AAAAAAAA+P8AAAAAAAD4/wAAAAAAAPj/AAAAAAAA+P8AAAAAAAD4/wAAAAAAAPj/AAAAAAAAAAAAAAAAAAD4/wlJrqmSONE/AAAAAAAA+P8AAAAAAAD4/+o6xSLcWOI/AAAAAAAA+P979ncKH0b7PwAAAAAAAPj/AAAAAAAA+P8AAAAAAAD4/wAAAAAAAPj/AAAAAAAA+P8AAAAAAAD4/wAAAAAAAPj/ak2OfQqoej8=",
          "dtype": "f8"
         }
        },
        {
         "mode": "markers",
         "name": "2002",
         "showlegend": true,
         "type": "scatter",
         "x": {
          "bdata": "JgAqACwALQAuAC8AQAB7AH0AfgCqALEAtgC3ALgAuQC6AMgAywDMAM0A5gDvAPAA8QDyAPYA+QD7AAYBCAEkASgB",
          "dtype": "i2"
         },
         "y": {
          "bdata": "AAAAAAAAAAAAAAAAAAD4/wAAAAAAAPj/AAAAAAAA+P8AAAAAAAD4/wAAAAAAAPj/LN8PKRHDez/SY6FN/L3RPw2z6cDtKdw/hy9gPKsutz/TJooG09/RPwAAAAAAAPj/1F3gFuBCpz8AAAAAAAAAAAAAAAAAAPj/AAAAAAAA+P8AAAAAAAD4/wAAAAAAAPj/AAAAAAAA+P8AAAAAAAD4/wAAAAAAAPj/6jjLUDVArT8m4S2z/o+GPzhBO/lelqg/AAAAAAAA+P8AAAAAAAD4/wAAAAAAAPj/AAAAAAAA+P8AAAAAAAD4/xYCq7z40pI/AAAAAAAAAAA8gLp+9tiYP6OPn2wBDJc/",
          "dtype": "f8"
         }
        },
        {
         "mode": "markers",
         "name": "2003",
         "showlegend": true,
         "type": "scatter",
         "x": {
          "bdata": "KwAtAC4ALwAwADQAiwCMAJUAlgCXAJgAmgCfAKAAoQCiAPQA9QD2APcA+QD6AA0BDgEPASsBLAE=",
          "dtype": "i2"
         },
         "y": {
          "bdata": "AAAAAAAA+P8AAAAAAAD4/wAAAAAAAPj/g8QsQdeBpT9yzqngS2uhP9/OttxeN5s/vgncQkGE9D800e6lM17xP5eStAMne+I/r0Oq9FEO3j8AAAAAAAD4/wAAAAAAAPj/AAAAAAAA+P8AAAAAAAD4/wAAAAAAAPj/rYkxuxNjtj8AAAAAAAD4/z8Ob1l0d4E/6uyBF6yctj8AAAAAAAD4/wAAAAAAAPj/AAAAAAAA+P8AAAAAAAD4/6WX7/3pzZI/KtuTdVwqnj/zuhRpqpmBPwqxm5E/2Gc/1vN7CppHoD8=",
          "dtype": "f8"
         }
        },
        {
         "mode": "markers",
         "name": "2004",
         "showlegend": true,
         "type": "scatter",
         "x": {
          "bdata": "MwA0ADUANwA6AJUAlgCaAJsAnQCeAKUA6QDqAOsA7ADuAPgA+QAsAQ==",
          "dtype": "i2"
         },
         "y": {
          "bdata": "zYG4HkzhhD8AAAAAAAD4/wAAAAAAAPj/AAAAAAAA+P9J2bKG7jGLP89ZDEJ6MsA/RiMzzHlOuD8guybEfWKuPwAAAAAAAPj/AAAAAAAA+P8AAAAAAAD4/wAAAAAAAPj/t7MY4MeXxz/QohmDMyHdPwAAAAAAAPj/AAAAAAAA+P8AAAAAAAD4/6dUTEIWAKE//IRyV2pi2j9YiPQs4JGyPw==",
          "dtype": "f8"
         }
        },
        {
         "mode": "markers",
         "name": "2005",
         "showlegend": true,
         "type": "scatter",
         "x": {
          "bdata": "LAAtAC4ALwAxADIANQA2AEcASACTAJQAmgCdAJ4ApgDSAOEA5gDnAOgA6QDqAOsA7wDwAPsA/AA=",
          "dtype": "i2"
         },
         "y": {
          "bdata": "F3G2Lw4Egz9L23A6HuudPwAAAAAAAPj/AAAAAAAA+P8AAAAAAAD4/wAAAAAAAPj/AAAAAAAA+P8AAAAAAAD4/wAAAAAAAPj/AAAAAAAA+P/XVSfI/aqqP6Ic2pZ8ZpE/sjxY6/oHiT8AAAAAAAD4/wAAAAAAAPj/AAAAAAAA+P+1fUsXp22XPwAAAAAAAAAAxwJtZa1Djz93WpF0poNhPwAAAAAAAPj/AAAAAAAA+P8AAAAAAAD4/wAAAAAAAPj/AAAAAAAA+P8AAAAAAAD4/2pAIjnCtIY/+gE+8W9DgD8=",
          "dtype": "f8"
         }
        },
        {
         "mode": "markers",
         "name": "2006",
         "showlegend": true,
         "type": "scatter",
         "x": {
          "bdata": "JQAoACkALABvAMMAxgDsAO8ACQEKAQsBDQEPARIBEwEVAQ==",
          "dtype": "i2"
         },
         "y": {
          "bdata": "Qa0jm4W7ij8AAAAAAAD4/wAAAAAAAPj/AAAAAAAA+P/6rfLX0GK6PxQwpyIuiGs/AAAAAAAA+P+0OqQZS1BlPwAAAAAAAAAAeNPJBITfsT/RNJnILOqtPwAAAAAAAPj/AAAAAAAA+P8AAAAAAAD4/wAAAAAAAPj/AAAAAAAA+P8AAAAAAAD4/w==",
          "dtype": "f8"
         }
        },
        {
         "mode": "markers",
         "name": "2007",
         "showlegend": true,
         "type": "scatter",
         "x": {
          "bdata": "KQAqACsALgAvADEAkgCZAJoAmwCeAKwAsgCzALkAugC7ALwAvQDlAOYA5wDpAOoA+QD6AA==",
          "dtype": "i2"
         },
         "y": {
          "bdata": "Fg/aG+zPjD8AAAAAAAD4/wAAAAAAAPj/AAAAAAAA+P8AAAAAAAD4/wAAAAAAAPj/WrZZ2eQ6gj9HFQHzgW+zPwAAAAAAAPj/AAAAAAAA+P8AAAAAAAD4/wAAAAAAAPj/AAAAAAAA+P8AAAAAAAD4/wAAAAAAAPj/AAAAAAAA+P8AAAAAAAD4/wAAAAAAAPj/AAAAAAAA+P8DQSOPRiyWP4yLf0NpSrM/AAAAAAAA+P8AAAAAAAD4/wAAAAAAAPj/p2B018Cobz8X+Zd4mFOWPw==",
          "dtype": "f8"
         }
        },
        {
         "mode": "markers",
         "name": "2008",
         "showlegend": true,
         "type": "scatter",
         "x": {
          "bdata": "IQAiACMAJQApAJEAkgCZAJoAmwCdAJ8AuQC6ALwAvgDjAOQA5QDnAOkA9wD4APkAIgE=",
          "dtype": "i2"
         },
         "y": {
          "bdata": "JUiTWig2iD/wtvPVcth5PwAAAAAAAPj/AAAAAAAA+P8AAAAAAAD4/1hB+cSC1oE/yLlk0+Q4sT/DgXbn2CCUPxcy3RCni8Q/AAAAAAAA+P8AAAAAAAD4/wAAAAAAAPj/AAAAAAAA+P8AAAAAAAD4/wAAAAAAAPj/AAAAAAAA+P9yKEsBVee+P/hKjdYyPcA/AAAAAAAA+P8AAAAAAAD4/wAAAAAAAPj/7+M/XOlEvD8bjAIsOwaxP89ekXObX7I/AAAAAAAA+P8=",
          "dtype": "f8"
         }
        },
        {
         "mode": "markers",
         "name": "2009",
         "showlegend": true,
         "type": "scatter",
         "x": {
          "bdata": "HgAfACEAJACXAJgAnwCgAKEAogClAMAAwQDCAMMA6gDrAO4A7wDzAPwA/QA=",
          "dtype": "i2"
         },
         "y": {
          "bdata": "P0xLnFJJoz+CVP26pDOIPwAAAAAAAPj/AAAAAAAA+P/T07M/D0y/P4F3CMNGL+Y/f3rnhdf20T/nwURb2xn7PwAAAAAAAPj/AAAAAAAA+P8AAAAAAAD4/xCQBPtNYsA/AAAAAAAA+P8AAAAAAAD4/wAAAAAAAPj/ahLd06dMxT8AAAAAAAD4/wAAAAAAAPj/AAAAAAAA+P8AAAAAAAD4/9w3wiyZHsY/qpZ2pP0Jhz8=",
          "dtype": "f8"
         }
        },
        {
         "mode": "markers",
         "name": "2010",
         "showlegend": true,
         "type": "scatter",
         "x": {
          "bdata": "JAAlACcAlwCfAKAAoQCiAKUAzADNAM8A0QDpAOoA6wDtAO4A+wD8AP0A",
          "dtype": "i2"
         },
         "y": {
          "bdata": "jovk6ontmD8AAAAAAAD4/wAAAAAAAPj/Xz8m1B+odz/lW4EBYHfAP7rS1sD5tLc/AAAAAAAA+P8AAAAAAAD4/wAAAAAAAPj/AAAAAAAA+P8AAAAAAAD4/wAAAAAAAPj/AAAAAAAA+P+jSVvhyvdwP+d7WiXlpHc/AAAAAAAA+P8AAAAAAAD4/wAAAAAAAPj/AAAAAAAAAADw5SZwvQuIPwAAAAAAAAAA",
          "dtype": "f8"
         }
        },
        {
         "mode": "markers",
         "name": "2011",
         "showlegend": true,
         "type": "scatter",
         "x": {
          "bdata": "KQAqACsALQAvAJUAlgCcAJ0AnwCgAKQA5wDoAOoA6wDuAPkA+gD7AA==",
          "dtype": "i2"
         },
         "y": {
          "bdata": "AAAAAAAAAACF7vF4nUKEPwAAAAAAAPj/AAAAAAAA+P8AAAAAAAD4/1FSsffq7ew/hcfJsYwvuT/RkAsFuEQCQIvrsJ33OGI/AAAAAAAA+P8AAAAAAAD4/wAAAAAAAPj//YUwe0RsqT9/BqnjADeFPwAAAAAAAPj/AAAAAAAA+P8AAAAAAAD4/z/YKUHoCqU/spjqJ49vhz/Tz5JgEgqSPw==",
          "dtype": "f8"
         }
        },
        {
         "mode": "markers",
         "name": "2012",
         "showlegend": true,
         "type": "scatter",
         "x": {
          "bdata": "KQAqACsALgAvAIgAiQCKAJIAlgCaAOYA6ADsAPcA+AD5AA==",
          "dtype": "i2"
         },
         "y": {
          "bdata": "AAAAAAAAAAAAAAAAAAAAAAAAAAAAAPj/AAAAAAAA+P8AAAAAAAD4/xrCL5uOUag/bxDLuAKUpD9S+4UFqZCxP/8lKifdWc8/AAAAAAAA+P8AAAAAAAD4/xdRlH3+aJA/AAAAAAAA+P8AAAAAAAD4/wFQgpdNgZU/AAAAAAAAAAC9rx29eFV/Pw==",
          "dtype": "f8"
         }
        },
        {
         "mode": "markers",
         "name": "2013",
         "showlegend": true,
         "type": "scatter",
         "x": {
          "bdata": "JgAnACgALAAtAJkAmgChAKIAowClAKkA6wDtAO4A8ADyAP4A",
          "dtype": "i2"
         },
         "y": {
          "bdata": "bguHzoLFfz8+jZD7KDujPwAAAAAAAPj/AAAAAAAA+P8AAAAAAAD4/ykB0Rx9yw1AMqNihKvE+j/efdtG0TjQPwAAAAAAAPj/AAAAAAAA+P8AAAAAAAD4/wAAAAAAAPj/Th0MNY/OzD8/P4DtR7muPwAAAAAAAPj/AAAAAAAA+P8AAAAAAAD4/4Z8xJPVC70/",
          "dtype": "f8"
         }
        },
        {
         "mode": "markers",
         "name": "2014",
         "showlegend": true,
         "type": "scatter",
         "x": {
          "bdata": "KwA1AJsApACmAKgA6wDtAO4A/QD+AP8A",
          "dtype": "i2"
         },
         "y": {
          "bdata": "BqtycZ6Toz+uDvfsxXGNP1Tng8gZg44/AAAAAAAA+P8AAAAAAAD4/wAAAAAAAPj/uBiRkeynhz8AAAAAAAD4/wAAAAAAAPj/rUcbi6GGlj9uMVKydfSRPxTcjs/GpHQ/",
          "dtype": "f8"
         }
        },
        {
         "mode": "markers",
         "name": "2015",
         "showlegend": true,
         "type": "scatter",
         "x": {
          "bdata": "KwAsAC4ALwAyAJkAoQCjAKQAqACrAL8AwADBAMIAwwDEAMUAxwDqAOsA7ADuAPAA+gAkAQ==",
          "dtype": "i2"
         },
         "y": {
          "bdata": "sfNDlpvWcT8klsO3miSUPwAAAAAAAPj/AAAAAAAA+P8AAAAAAAD4/6qZn3aeMNE/fWksafcpsT8AAAAAAAD4/wAAAAAAAPj/AAAAAAAA+P8lQA0Snq6cPwAAAAAAAPj/AAAAAAAA+P8AAAAAAAD4/wAAAAAAAPj/AAAAAAAA+P8AAAAAAAD4/wAAAAAAAPj//cGI3XeIkz8XzGSqDaDSP+jZRMS2y9o/AAAAAAAA+P8AAAAAAAD4/wAAAAAAAPj/AAAAAAAA+P8AAAAAAAD4/w==",
          "dtype": "f8"
         }
        },
        {
         "mode": "markers",
         "name": "2016",
         "showlegend": true,
         "type": "scatter",
         "x": {
          "bdata": "KQArAC8AMQCXAJgAngCgAKEAogClANoA2wDeAOgA6gDrAO4A8QD7AA==",
          "dtype": "i2"
         },
         "y": {
          "bdata": "ZdH+HIOepT8AAAAAAAD4/wAAAAAAAPj/AAAAAAAA+P/Tv409XDrcPwAAAAAAAPj/Br686jDH7D86eU8LOejYPwAAAAAAAPj/AAAAAAAA+P8AAAAAAAD4/wAAAAAAAPj/AAAAAAAA+P/3wfX3uQWVP+01MJIT6Hc/AAAAAAAA+P8AAAAAAAD4/wAAAAAAAPj/mwv2y9x/wT8AAAAAAAD4/w==",
          "dtype": "f8"
         }
        },
        {
         "mode": "markers",
         "name": "2017",
         "showlegend": true,
         "type": "scatter",
         "x": {
          "bdata": "KAArAC4ALwAwAJQAlgCdAJ4AoAChAKQAywDMAM0AzgDPANAA0QDmAOcA6QDsAO4A+AD5APoA+wA=",
          "dtype": "i2"
         },
         "y": {
          "bdata": "AAAAAAAA+P8AAAAAAAD4/wAAAAAAAPj/R4i5Y7hAjj8mpjlaaFevP52rJjI5iZU/GHJ7h/motD8OgNqLVHKfP5LN5EV8mbs/AAAAAAAA+P8AAAAAAAD4/wAAAAAAAPj/AAAAAAAA+P8AAAAAAAD4/wAAAAAAAPj/AAAAAAAA+P/6GnQd5JbhP+r+WSM48Oo/ESXVJJr22D+BU75A2NrkPxAPX8GIYZA/AAAAAAAA+P8AAAAAAAD4/wAAAAAAAPj/zP/HWPlOmj8bhaYSrOWgP+LiGtMtUps/AAAAAAAA+P8=",
          "dtype": "f8"
         }
        },
        {
         "mode": "markers",
         "name": "2018",
         "showlegend": true,
         "type": "scatter",
         "x": {
          "bdata": "NAA1ADkAPQA+AIUAnwCgAKEAogCkAPAA+QABAQIBAwEFAQcBCAEJAQ==",
          "dtype": "i2"
         },
         "y": {
          "bdata": "ha+cqb5frz9Qp9mUxIigPwAAAAAAAPj/AAAAAAAA+P8AAAAAAAD4/xzpcW/xIH0/AAAAAAAAAACOMN7fsqnDPwAAAAAAAPj/AAAAAAAA+P8AAAAAAAD4/wAAAAAAAPj/hH39q4jIfT/LiTc+L82XP1reG+UlR4I/AAAAAAAA+P8AAAAAAAD4/wAAAAAAAPj/AAAAAAAA+P8AAAAAAAD4/w==",
          "dtype": "f8"
         }
        },
        {
         "mode": "markers",
         "name": "2019",
         "showlegend": true,
         "type": "scatter",
         "x": {
          "bdata": "JgAnACkAKwCbAJwAngCiALgAyADJAMoAywDMAM0AzgDPANAA2ADkAOUA5wDoAOsA9gD3AA==",
          "dtype": "i2"
         },
         "y": {
          "bdata": "avcn8HRogj/2ou+paGy+PwAAAAAAAPj/AAAAAAAA+P/NI4jy5NG9P92238S//X8/AAAAAAAA+P8AAAAAAAD4/wAAAAAAAPj/wQpR30GMdT//yp6vQ4+TP/Do/3C1DsI/Mii0HTN8mz8NWfZFZr6mPwAAAAAAAPj/AAAAAAAA+P/wIgRFRI+LP+BSfY+GfJk/AAAAAAAA+P/7P4nv1nd6P27B7ti+v3A/AAAAAAAA+P8AAAAAAAD4/wAAAAAAAPj/0b/qUY7PoD8AAAAAAAAAAA==",
          "dtype": "f8"
         }
        },
        {
         "mode": "markers",
         "name": "2020",
         "showlegend": true,
         "type": "scatter",
         "x": {
          "bdata": "KQAqACsALQAuAC8AsQC1ALoAywDPAOIA4wDlAOYA6ADyAPMA",
          "dtype": "i2"
         },
         "y": {
          "bdata": "pCjJhpIexz9Fm0ZMRq2HPwAAAAAAAPj/AAAAAAAA+P8AAAAAAAD4/wAAAAAAAPj/OuHU4yMZoz90djo45mexP92ZuUWrY6I/AAAAAAAA+P8AAAAAAAD4/8rAW87FtKk/vSDchATXNj8AAAAAAAD4/wAAAAAAAPj/AAAAAAAA+P8zEXOjC1aCP/qa6AYG14E/",
          "dtype": "f8"
         }
        }
       ],
       "layout": {
        "template": {
         "data": {
          "bar": [
           {
            "error_x": {
             "color": "#2a3f5f"
            },
            "error_y": {
             "color": "#2a3f5f"
            },
            "marker": {
             "line": {
              "color": "white",
              "width": 0.5
             },
             "pattern": {
              "fillmode": "overlay",
              "size": 10,
              "solidity": 0.2
             }
            },
            "type": "bar"
           }
          ],
          "barpolar": [
           {
            "marker": {
             "line": {
              "color": "white",
              "width": 0.5
             },
             "pattern": {
              "fillmode": "overlay",
              "size": 10,
              "solidity": 0.2
             }
            },
            "type": "barpolar"
           }
          ],
          "carpet": [
           {
            "aaxis": {
             "endlinecolor": "#2a3f5f",
             "gridcolor": "#C8D4E3",
             "linecolor": "#C8D4E3",
             "minorgridcolor": "#C8D4E3",
             "startlinecolor": "#2a3f5f"
            },
            "baxis": {
             "endlinecolor": "#2a3f5f",
             "gridcolor": "#C8D4E3",
             "linecolor": "#C8D4E3",
             "minorgridcolor": "#C8D4E3",
             "startlinecolor": "#2a3f5f"
            },
            "type": "carpet"
           }
          ],
          "choropleth": [
           {
            "colorbar": {
             "outlinewidth": 0,
             "ticks": ""
            },
            "type": "choropleth"
           }
          ],
          "contour": [
           {
            "colorbar": {
             "outlinewidth": 0,
             "ticks": ""
            },
            "colorscale": [
             [
              0,
              "#0d0887"
             ],
             [
              0.1111111111111111,
              "#46039f"
             ],
             [
              0.2222222222222222,
              "#7201a8"
             ],
             [
              0.3333333333333333,
              "#9c179e"
             ],
             [
              0.4444444444444444,
              "#bd3786"
             ],
             [
              0.5555555555555556,
              "#d8576b"
             ],
             [
              0.6666666666666666,
              "#ed7953"
             ],
             [
              0.7777777777777778,
              "#fb9f3a"
             ],
             [
              0.8888888888888888,
              "#fdca26"
             ],
             [
              1,
              "#f0f921"
             ]
            ],
            "type": "contour"
           }
          ],
          "contourcarpet": [
           {
            "colorbar": {
             "outlinewidth": 0,
             "ticks": ""
            },
            "type": "contourcarpet"
           }
          ],
          "heatmap": [
           {
            "colorbar": {
             "outlinewidth": 0,
             "ticks": ""
            },
            "colorscale": [
             [
              0,
              "#0d0887"
             ],
             [
              0.1111111111111111,
              "#46039f"
             ],
             [
              0.2222222222222222,
              "#7201a8"
             ],
             [
              0.3333333333333333,
              "#9c179e"
             ],
             [
              0.4444444444444444,
              "#bd3786"
             ],
             [
              0.5555555555555556,
              "#d8576b"
             ],
             [
              0.6666666666666666,
              "#ed7953"
             ],
             [
              0.7777777777777778,
              "#fb9f3a"
             ],
             [
              0.8888888888888888,
              "#fdca26"
             ],
             [
              1,
              "#f0f921"
             ]
            ],
            "type": "heatmap"
           }
          ],
          "histogram": [
           {
            "marker": {
             "pattern": {
              "fillmode": "overlay",
              "size": 10,
              "solidity": 0.2
             }
            },
            "type": "histogram"
           }
          ],
          "histogram2d": [
           {
            "colorbar": {
             "outlinewidth": 0,
             "ticks": ""
            },
            "colorscale": [
             [
              0,
              "#0d0887"
             ],
             [
              0.1111111111111111,
              "#46039f"
             ],
             [
              0.2222222222222222,
              "#7201a8"
             ],
             [
              0.3333333333333333,
              "#9c179e"
             ],
             [
              0.4444444444444444,
              "#bd3786"
             ],
             [
              0.5555555555555556,
              "#d8576b"
             ],
             [
              0.6666666666666666,
              "#ed7953"
             ],
             [
              0.7777777777777778,
              "#fb9f3a"
             ],
             [
              0.8888888888888888,
              "#fdca26"
             ],
             [
              1,
              "#f0f921"
             ]
            ],
            "type": "histogram2d"
           }
          ],
          "histogram2dcontour": [
           {
            "colorbar": {
             "outlinewidth": 0,
             "ticks": ""
            },
            "colorscale": [
             [
              0,
              "#0d0887"
             ],
             [
              0.1111111111111111,
              "#46039f"
             ],
             [
              0.2222222222222222,
              "#7201a8"
             ],
             [
              0.3333333333333333,
              "#9c179e"
             ],
             [
              0.4444444444444444,
              "#bd3786"
             ],
             [
              0.5555555555555556,
              "#d8576b"
             ],
             [
              0.6666666666666666,
              "#ed7953"
             ],
             [
              0.7777777777777778,
              "#fb9f3a"
             ],
             [
              0.8888888888888888,
              "#fdca26"
             ],
             [
              1,
              "#f0f921"
             ]
            ],
            "type": "histogram2dcontour"
           }
          ],
          "mesh3d": [
           {
            "colorbar": {
             "outlinewidth": 0,
             "ticks": ""
            },
            "type": "mesh3d"
           }
          ],
          "parcoords": [
           {
            "line": {
             "colorbar": {
              "outlinewidth": 0,
              "ticks": ""
             }
            },
            "type": "parcoords"
           }
          ],
          "pie": [
           {
            "automargin": true,
            "type": "pie"
           }
          ],
          "scatter": [
           {
            "fillpattern": {
             "fillmode": "overlay",
             "size": 10,
             "solidity": 0.2
            },
            "type": "scatter"
           }
          ],
          "scatter3d": [
           {
            "line": {
             "colorbar": {
              "outlinewidth": 0,
              "ticks": ""
             }
            },
            "marker": {
             "colorbar": {
              "outlinewidth": 0,
              "ticks": ""
             }
            },
            "type": "scatter3d"
           }
          ],
          "scattercarpet": [
           {
            "marker": {
             "colorbar": {
              "outlinewidth": 0,
              "ticks": ""
             }
            },
            "type": "scattercarpet"
           }
          ],
          "scattergeo": [
           {
            "marker": {
             "colorbar": {
              "outlinewidth": 0,
              "ticks": ""
             }
            },
            "type": "scattergeo"
           }
          ],
          "scattergl": [
           {
            "marker": {
             "colorbar": {
              "outlinewidth": 0,
              "ticks": ""
             }
            },
            "type": "scattergl"
           }
          ],
          "scattermap": [
           {
            "marker": {
             "colorbar": {
              "outlinewidth": 0,
              "ticks": ""
             }
            },
            "type": "scattermap"
           }
          ],
          "scattermapbox": [
           {
            "marker": {
             "colorbar": {
              "outlinewidth": 0,
              "ticks": ""
             }
            },
            "type": "scattermapbox"
           }
          ],
          "scatterpolar": [
           {
            "marker": {
             "colorbar": {
              "outlinewidth": 0,
              "ticks": ""
             }
            },
            "type": "scatterpolar"
           }
          ],
          "scatterpolargl": [
           {
            "marker": {
             "colorbar": {
              "outlinewidth": 0,
              "ticks": ""
             }
            },
            "type": "scatterpolargl"
           }
          ],
          "scatterternary": [
           {
            "marker": {
             "colorbar": {
              "outlinewidth": 0,
              "ticks": ""
             }
            },
            "type": "scatterternary"
           }
          ],
          "surface": [
           {
            "colorbar": {
             "outlinewidth": 0,
             "ticks": ""
            },
            "colorscale": [
             [
              0,
              "#0d0887"
             ],
             [
              0.1111111111111111,
              "#46039f"
             ],
             [
              0.2222222222222222,
              "#7201a8"
             ],
             [
              0.3333333333333333,
              "#9c179e"
             ],
             [
              0.4444444444444444,
              "#bd3786"
             ],
             [
              0.5555555555555556,
              "#d8576b"
             ],
             [
              0.6666666666666666,
              "#ed7953"
             ],
             [
              0.7777777777777778,
              "#fb9f3a"
             ],
             [
              0.8888888888888888,
              "#fdca26"
             ],
             [
              1,
              "#f0f921"
             ]
            ],
            "type": "surface"
           }
          ],
          "table": [
           {
            "cells": {
             "fill": {
              "color": "#EBF0F8"
             },
             "line": {
              "color": "white"
             }
            },
            "header": {
             "fill": {
              "color": "#C8D4E3"
             },
             "line": {
              "color": "white"
             }
            },
            "type": "table"
           }
          ]
         },
         "layout": {
          "annotationdefaults": {
           "arrowcolor": "#2a3f5f",
           "arrowhead": 0,
           "arrowwidth": 1
          },
          "autotypenumbers": "strict",
          "coloraxis": {
           "colorbar": {
            "outlinewidth": 0,
            "ticks": ""
           }
          },
          "colorscale": {
           "diverging": [
            [
             0,
             "#8e0152"
            ],
            [
             0.1,
             "#c51b7d"
            ],
            [
             0.2,
             "#de77ae"
            ],
            [
             0.3,
             "#f1b6da"
            ],
            [
             0.4,
             "#fde0ef"
            ],
            [
             0.5,
             "#f7f7f7"
            ],
            [
             0.6,
             "#e6f5d0"
            ],
            [
             0.7,
             "#b8e186"
            ],
            [
             0.8,
             "#7fbc41"
            ],
            [
             0.9,
             "#4d9221"
            ],
            [
             1,
             "#276419"
            ]
           ],
           "sequential": [
            [
             0,
             "#0d0887"
            ],
            [
             0.1111111111111111,
             "#46039f"
            ],
            [
             0.2222222222222222,
             "#7201a8"
            ],
            [
             0.3333333333333333,
             "#9c179e"
            ],
            [
             0.4444444444444444,
             "#bd3786"
            ],
            [
             0.5555555555555556,
             "#d8576b"
            ],
            [
             0.6666666666666666,
             "#ed7953"
            ],
            [
             0.7777777777777778,
             "#fb9f3a"
            ],
            [
             0.8888888888888888,
             "#fdca26"
            ],
            [
             1,
             "#f0f921"
            ]
           ],
           "sequentialminus": [
            [
             0,
             "#0d0887"
            ],
            [
             0.1111111111111111,
             "#46039f"
            ],
            [
             0.2222222222222222,
             "#7201a8"
            ],
            [
             0.3333333333333333,
             "#9c179e"
            ],
            [
             0.4444444444444444,
             "#bd3786"
            ],
            [
             0.5555555555555556,
             "#d8576b"
            ],
            [
             0.6666666666666666,
             "#ed7953"
            ],
            [
             0.7777777777777778,
             "#fb9f3a"
            ],
            [
             0.8888888888888888,
             "#fdca26"
            ],
            [
             1,
             "#f0f921"
            ]
           ]
          },
          "colorway": [
           "#636efa",
           "#EF553B",
           "#00cc96",
           "#ab63fa",
           "#FFA15A",
           "#19d3f3",
           "#FF6692",
           "#B6E880",
           "#FF97FF",
           "#FECB52"
          ],
          "font": {
           "color": "#2a3f5f"
          },
          "geo": {
           "bgcolor": "white",
           "lakecolor": "white",
           "landcolor": "white",
           "showlakes": true,
           "showland": true,
           "subunitcolor": "#C8D4E3"
          },
          "hoverlabel": {
           "align": "left"
          },
          "hovermode": "closest",
          "mapbox": {
           "style": "light"
          },
          "paper_bgcolor": "white",
          "plot_bgcolor": "white",
          "polar": {
           "angularaxis": {
            "gridcolor": "#EBF0F8",
            "linecolor": "#EBF0F8",
            "ticks": ""
           },
           "bgcolor": "white",
           "radialaxis": {
            "gridcolor": "#EBF0F8",
            "linecolor": "#EBF0F8",
            "ticks": ""
           }
          },
          "scene": {
           "xaxis": {
            "backgroundcolor": "white",
            "gridcolor": "#DFE8F3",
            "gridwidth": 2,
            "linecolor": "#EBF0F8",
            "showbackground": true,
            "ticks": "",
            "zerolinecolor": "#EBF0F8"
           },
           "yaxis": {
            "backgroundcolor": "white",
            "gridcolor": "#DFE8F3",
            "gridwidth": 2,
            "linecolor": "#EBF0F8",
            "showbackground": true,
            "ticks": "",
            "zerolinecolor": "#EBF0F8"
           },
           "zaxis": {
            "backgroundcolor": "white",
            "gridcolor": "#DFE8F3",
            "gridwidth": 2,
            "linecolor": "#EBF0F8",
            "showbackground": true,
            "ticks": "",
            "zerolinecolor": "#EBF0F8"
           }
          },
          "shapedefaults": {
           "line": {
            "color": "#2a3f5f"
           }
          },
          "ternary": {
           "aaxis": {
            "gridcolor": "#DFE8F3",
            "linecolor": "#A2B1C6",
            "ticks": ""
           },
           "baxis": {
            "gridcolor": "#DFE8F3",
            "linecolor": "#A2B1C6",
            "ticks": ""
           },
           "bgcolor": "white",
           "caxis": {
            "gridcolor": "#DFE8F3",
            "linecolor": "#A2B1C6",
            "ticks": ""
           }
          },
          "title": {
           "x": 0.05
          },
          "xaxis": {
           "automargin": true,
           "gridcolor": "#EBF0F8",
           "linecolor": "#EBF0F8",
           "ticks": "",
           "title": {
            "standoff": 15
           },
           "zerolinecolor": "#EBF0F8",
           "zerolinewidth": 2
          },
          "yaxis": {
           "automargin": true,
           "gridcolor": "#EBF0F8",
           "linecolor": "#EBF0F8",
           "ticks": "",
           "title": {
            "standoff": 15
           },
           "zerolinecolor": "#EBF0F8",
           "zerolinewidth": 2
          }
         }
        },
        "title": {
         "text": "Cleaned Pteropod Biomass Time Serie at PAPA (1998-2020)"
        },
        "xaxis": {
         "title": {
          "text": "Day of Year"
         }
        },
        "yaxis": {
         "range": [
          0,
          5
         ],
         "title": {
          "text": "Biomass [g m-2]"
         }
        }
       }
      }
     },
     "metadata": {},
     "output_type": "display_data"
    }
   ],
   "source": [
    "# Spatial and vertical mean\n",
    "mean_timeseries = ds_pter_2deg.mean(dim=[\"is_day\",\"latitude\", \"longitude\", \"depth\"], skipna=True)\n",
    "\n",
    "# assign day coordinate\n",
    "# Extract MM-DD \n",
    "mmdd = pd.to_datetime(mean_timeseries.time.values).strftime('%m-%d')\n",
    "# transform MM-DD in indice of day in year (1->365) avoiding leap year discordance \n",
    "day_noleap = pd.Series(mmdd).map(mmdd_to_day).values\n",
    "# add coord day\n",
    "mean_timeseries = mean_timeseries.assign_coords(day=(\"time\", day_noleap))\n",
    "\n",
    "# Plot\n",
    "# Group by year\n",
    "years = pd.DatetimeIndex(mean_timeseries.time.values).year.unique()\n",
    "\n",
    "fig = go.Figure()\n",
    "# Plot one color per year\n",
    "for year in years:\n",
    "    yearly_data = mean_timeseries.sel(time=str(year))\n",
    "    fig.add_trace(go.Scatter(\n",
    "        x=yearly_data['day'],\n",
    "        y=yearly_data.values,\n",
    "        mode='markers',\n",
    "        name=str(year),\n",
    "        showlegend=True \n",
    "    ))\n",
    "\n",
    "fig.update_layout(\n",
    "    title='Cleaned Pteropod Biomass Time Serie at PAPA (1998-2020)',\n",
    "    xaxis_title='Day of Year',\n",
    "    yaxis=dict(\n",
    "        #type='log',\n",
    "        title='Biomass [g m-2]',\n",
    "        range=[0, 5],\n",
    "    ),\n",
    "    template='plotly_white'\n",
    ")\n",
    "\n",
    "\n",
    "fig.show()\n"
   ]
  },
  {
   "cell_type": "markdown",
   "id": "e59bc22f",
   "metadata": {},
   "source": [
    "## Histogram"
   ]
  },
  {
   "cell_type": "code",
   "execution_count": 122,
   "id": "af7d4bf1",
   "metadata": {},
   "outputs": [
    {
     "data": {
      "application/vnd.plotly.v1+json": {
       "config": {
        "plotlyServerURL": "https://plot.ly"
       },
       "data": [
        {
         "bingroup": "x",
         "hovertemplate": "pteropod biomass (g/m2)=%{x}<br>count=%{y}<extra></extra>",
         "legendgroup": "",
         "marker": {
          "color": "#636efa",
          "pattern": {
           "shape": ""
          }
         },
         "name": "",
         "nbinsx": 50,
         "orientation": "v",
         "showlegend": false,
         "type": "histogram",
         "x": {
          "bdata": "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",
          "dtype": "f8"
         },
         "xaxis": "x",
         "yaxis": "y"
        }
       ],
       "layout": {
        "barmode": "relative",
        "legend": {
         "tracegroupgap": 0
        },
        "template": {
         "data": {
          "bar": [
           {
            "error_x": {
             "color": "#2a3f5f"
            },
            "error_y": {
             "color": "#2a3f5f"
            },
            "marker": {
             "line": {
              "color": "#E5ECF6",
              "width": 0.5
             },
             "pattern": {
              "fillmode": "overlay",
              "size": 10,
              "solidity": 0.2
             }
            },
            "type": "bar"
           }
          ],
          "barpolar": [
           {
            "marker": {
             "line": {
              "color": "#E5ECF6",
              "width": 0.5
             },
             "pattern": {
              "fillmode": "overlay",
              "size": 10,
              "solidity": 0.2
             }
            },
            "type": "barpolar"
           }
          ],
          "carpet": [
           {
            "aaxis": {
             "endlinecolor": "#2a3f5f",
             "gridcolor": "white",
             "linecolor": "white",
             "minorgridcolor": "white",
             "startlinecolor": "#2a3f5f"
            },
            "baxis": {
             "endlinecolor": "#2a3f5f",
             "gridcolor": "white",
             "linecolor": "white",
             "minorgridcolor": "white",
             "startlinecolor": "#2a3f5f"
            },
            "type": "carpet"
           }
          ],
          "choropleth": [
           {
            "colorbar": {
             "outlinewidth": 0,
             "ticks": ""
            },
            "type": "choropleth"
           }
          ],
          "contour": [
           {
            "colorbar": {
             "outlinewidth": 0,
             "ticks": ""
            },
            "colorscale": [
             [
              0,
              "#0d0887"
             ],
             [
              0.1111111111111111,
              "#46039f"
             ],
             [
              0.2222222222222222,
              "#7201a8"
             ],
             [
              0.3333333333333333,
              "#9c179e"
             ],
             [
              0.4444444444444444,
              "#bd3786"
             ],
             [
              0.5555555555555556,
              "#d8576b"
             ],
             [
              0.6666666666666666,
              "#ed7953"
             ],
             [
              0.7777777777777778,
              "#fb9f3a"
             ],
             [
              0.8888888888888888,
              "#fdca26"
             ],
             [
              1,
              "#f0f921"
             ]
            ],
            "type": "contour"
           }
          ],
          "contourcarpet": [
           {
            "colorbar": {
             "outlinewidth": 0,
             "ticks": ""
            },
            "type": "contourcarpet"
           }
          ],
          "heatmap": [
           {
            "colorbar": {
             "outlinewidth": 0,
             "ticks": ""
            },
            "colorscale": [
             [
              0,
              "#0d0887"
             ],
             [
              0.1111111111111111,
              "#46039f"
             ],
             [
              0.2222222222222222,
              "#7201a8"
             ],
             [
              0.3333333333333333,
              "#9c179e"
             ],
             [
              0.4444444444444444,
              "#bd3786"
             ],
             [
              0.5555555555555556,
              "#d8576b"
             ],
             [
              0.6666666666666666,
              "#ed7953"
             ],
             [
              0.7777777777777778,
              "#fb9f3a"
             ],
             [
              0.8888888888888888,
              "#fdca26"
             ],
             [
              1,
              "#f0f921"
             ]
            ],
            "type": "heatmap"
           }
          ],
          "histogram": [
           {
            "marker": {
             "pattern": {
              "fillmode": "overlay",
              "size": 10,
              "solidity": 0.2
             }
            },
            "type": "histogram"
           }
          ],
          "histogram2d": [
           {
            "colorbar": {
             "outlinewidth": 0,
             "ticks": ""
            },
            "colorscale": [
             [
              0,
              "#0d0887"
             ],
             [
              0.1111111111111111,
              "#46039f"
             ],
             [
              0.2222222222222222,
              "#7201a8"
             ],
             [
              0.3333333333333333,
              "#9c179e"
             ],
             [
              0.4444444444444444,
              "#bd3786"
             ],
             [
              0.5555555555555556,
              "#d8576b"
             ],
             [
              0.6666666666666666,
              "#ed7953"
             ],
             [
              0.7777777777777778,
              "#fb9f3a"
             ],
             [
              0.8888888888888888,
              "#fdca26"
             ],
             [
              1,
              "#f0f921"
             ]
            ],
            "type": "histogram2d"
           }
          ],
          "histogram2dcontour": [
           {
            "colorbar": {
             "outlinewidth": 0,
             "ticks": ""
            },
            "colorscale": [
             [
              0,
              "#0d0887"
             ],
             [
              0.1111111111111111,
              "#46039f"
             ],
             [
              0.2222222222222222,
              "#7201a8"
             ],
             [
              0.3333333333333333,
              "#9c179e"
             ],
             [
              0.4444444444444444,
              "#bd3786"
             ],
             [
              0.5555555555555556,
              "#d8576b"
             ],
             [
              0.6666666666666666,
              "#ed7953"
             ],
             [
              0.7777777777777778,
              "#fb9f3a"
             ],
             [
              0.8888888888888888,
              "#fdca26"
             ],
             [
              1,
              "#f0f921"
             ]
            ],
            "type": "histogram2dcontour"
           }
          ],
          "mesh3d": [
           {
            "colorbar": {
             "outlinewidth": 0,
             "ticks": ""
            },
            "type": "mesh3d"
           }
          ],
          "parcoords": [
           {
            "line": {
             "colorbar": {
              "outlinewidth": 0,
              "ticks": ""
             }
            },
            "type": "parcoords"
           }
          ],
          "pie": [
           {
            "automargin": true,
            "type": "pie"
           }
          ],
          "scatter": [
           {
            "fillpattern": {
             "fillmode": "overlay",
             "size": 10,
             "solidity": 0.2
            },
            "type": "scatter"
           }
          ],
          "scatter3d": [
           {
            "line": {
             "colorbar": {
              "outlinewidth": 0,
              "ticks": ""
             }
            },
            "marker": {
             "colorbar": {
              "outlinewidth": 0,
              "ticks": ""
             }
            },
            "type": "scatter3d"
           }
          ],
          "scattercarpet": [
           {
            "marker": {
             "colorbar": {
              "outlinewidth": 0,
              "ticks": ""
             }
            },
            "type": "scattercarpet"
           }
          ],
          "scattergeo": [
           {
            "marker": {
             "colorbar": {
              "outlinewidth": 0,
              "ticks": ""
             }
            },
            "type": "scattergeo"
           }
          ],
          "scattergl": [
           {
            "marker": {
             "colorbar": {
              "outlinewidth": 0,
              "ticks": ""
             }
            },
            "type": "scattergl"
           }
          ],
          "scattermap": [
           {
            "marker": {
             "colorbar": {
              "outlinewidth": 0,
              "ticks": ""
             }
            },
            "type": "scattermap"
           }
          ],
          "scattermapbox": [
           {
            "marker": {
             "colorbar": {
              "outlinewidth": 0,
              "ticks": ""
             }
            },
            "type": "scattermapbox"
           }
          ],
          "scatterpolar": [
           {
            "marker": {
             "colorbar": {
              "outlinewidth": 0,
              "ticks": ""
             }
            },
            "type": "scatterpolar"
           }
          ],
          "scatterpolargl": [
           {
            "marker": {
             "colorbar": {
              "outlinewidth": 0,
              "ticks": ""
             }
            },
            "type": "scatterpolargl"
           }
          ],
          "scatterternary": [
           {
            "marker": {
             "colorbar": {
              "outlinewidth": 0,
              "ticks": ""
             }
            },
            "type": "scatterternary"
           }
          ],
          "surface": [
           {
            "colorbar": {
             "outlinewidth": 0,
             "ticks": ""
            },
            "colorscale": [
             [
              0,
              "#0d0887"
             ],
             [
              0.1111111111111111,
              "#46039f"
             ],
             [
              0.2222222222222222,
              "#7201a8"
             ],
             [
              0.3333333333333333,
              "#9c179e"
             ],
             [
              0.4444444444444444,
              "#bd3786"
             ],
             [
              0.5555555555555556,
              "#d8576b"
             ],
             [
              0.6666666666666666,
              "#ed7953"
             ],
             [
              0.7777777777777778,
              "#fb9f3a"
             ],
             [
              0.8888888888888888,
              "#fdca26"
             ],
             [
              1,
              "#f0f921"
             ]
            ],
            "type": "surface"
           }
          ],
          "table": [
           {
            "cells": {
             "fill": {
              "color": "#EBF0F8"
             },
             "line": {
              "color": "white"
             }
            },
            "header": {
             "fill": {
              "color": "#C8D4E3"
             },
             "line": {
              "color": "white"
             }
            },
            "type": "table"
           }
          ]
         },
         "layout": {
          "annotationdefaults": {
           "arrowcolor": "#2a3f5f",
           "arrowhead": 0,
           "arrowwidth": 1
          },
          "autotypenumbers": "strict",
          "coloraxis": {
           "colorbar": {
            "outlinewidth": 0,
            "ticks": ""
           }
          },
          "colorscale": {
           "diverging": [
            [
             0,
             "#8e0152"
            ],
            [
             0.1,
             "#c51b7d"
            ],
            [
             0.2,
             "#de77ae"
            ],
            [
             0.3,
             "#f1b6da"
            ],
            [
             0.4,
             "#fde0ef"
            ],
            [
             0.5,
             "#f7f7f7"
            ],
            [
             0.6,
             "#e6f5d0"
            ],
            [
             0.7,
             "#b8e186"
            ],
            [
             0.8,
             "#7fbc41"
            ],
            [
             0.9,
             "#4d9221"
            ],
            [
             1,
             "#276419"
            ]
           ],
           "sequential": [
            [
             0,
             "#0d0887"
            ],
            [
             0.1111111111111111,
             "#46039f"
            ],
            [
             0.2222222222222222,
             "#7201a8"
            ],
            [
             0.3333333333333333,
             "#9c179e"
            ],
            [
             0.4444444444444444,
             "#bd3786"
            ],
            [
             0.5555555555555556,
             "#d8576b"
            ],
            [
             0.6666666666666666,
             "#ed7953"
            ],
            [
             0.7777777777777778,
             "#fb9f3a"
            ],
            [
             0.8888888888888888,
             "#fdca26"
            ],
            [
             1,
             "#f0f921"
            ]
           ],
           "sequentialminus": [
            [
             0,
             "#0d0887"
            ],
            [
             0.1111111111111111,
             "#46039f"
            ],
            [
             0.2222222222222222,
             "#7201a8"
            ],
            [
             0.3333333333333333,
             "#9c179e"
            ],
            [
             0.4444444444444444,
             "#bd3786"
            ],
            [
             0.5555555555555556,
             "#d8576b"
            ],
            [
             0.6666666666666666,
             "#ed7953"
            ],
            [
             0.7777777777777778,
             "#fb9f3a"
            ],
            [
             0.8888888888888888,
             "#fdca26"
            ],
            [
             1,
             "#f0f921"
            ]
           ]
          },
          "colorway": [
           "#636efa",
           "#EF553B",
           "#00cc96",
           "#ab63fa",
           "#FFA15A",
           "#19d3f3",
           "#FF6692",
           "#B6E880",
           "#FF97FF",
           "#FECB52"
          ],
          "font": {
           "color": "#2a3f5f"
          },
          "geo": {
           "bgcolor": "white",
           "lakecolor": "white",
           "landcolor": "#E5ECF6",
           "showlakes": true,
           "showland": true,
           "subunitcolor": "white"
          },
          "hoverlabel": {
           "align": "left"
          },
          "hovermode": "closest",
          "mapbox": {
           "style": "light"
          },
          "paper_bgcolor": "white",
          "plot_bgcolor": "#E5ECF6",
          "polar": {
           "angularaxis": {
            "gridcolor": "white",
            "linecolor": "white",
            "ticks": ""
           },
           "bgcolor": "#E5ECF6",
           "radialaxis": {
            "gridcolor": "white",
            "linecolor": "white",
            "ticks": ""
           }
          },
          "scene": {
           "xaxis": {
            "backgroundcolor": "#E5ECF6",
            "gridcolor": "white",
            "gridwidth": 2,
            "linecolor": "white",
            "showbackground": true,
            "ticks": "",
            "zerolinecolor": "white"
           },
           "yaxis": {
            "backgroundcolor": "#E5ECF6",
            "gridcolor": "white",
            "gridwidth": 2,
            "linecolor": "white",
            "showbackground": true,
            "ticks": "",
            "zerolinecolor": "white"
           },
           "zaxis": {
            "backgroundcolor": "#E5ECF6",
            "gridcolor": "white",
            "gridwidth": 2,
            "linecolor": "white",
            "showbackground": true,
            "ticks": "",
            "zerolinecolor": "white"
           }
          },
          "shapedefaults": {
           "line": {
            "color": "#2a3f5f"
           }
          },
          "ternary": {
           "aaxis": {
            "gridcolor": "white",
            "linecolor": "white",
            "ticks": ""
           },
           "baxis": {
            "gridcolor": "white",
            "linecolor": "white",
            "ticks": ""
           },
           "bgcolor": "#E5ECF6",
           "caxis": {
            "gridcolor": "white",
            "linecolor": "white",
            "ticks": ""
           }
          },
          "title": {
           "x": 0.05
          },
          "xaxis": {
           "automargin": true,
           "gridcolor": "white",
           "linecolor": "white",
           "ticks": "",
           "title": {
            "standoff": 15
           },
           "zerolinecolor": "white",
           "zerolinewidth": 2
          },
          "yaxis": {
           "automargin": true,
           "gridcolor": "white",
           "linecolor": "white",
           "ticks": "",
           "title": {
            "standoff": 15
           },
           "zerolinecolor": "white",
           "zerolinewidth": 2
          }
         }
        },
        "title": {
         "text": "Histogram of pteropods biomass entries "
        },
        "xaxis": {
         "anchor": "y",
         "domain": [
          0,
          1
         ],
         "title": {
          "text": "pteropod biomass (g/m2)"
         }
        },
        "yaxis": {
         "anchor": "x",
         "domain": [
          0,
          1
         ],
         "title": {
          "text": "count"
         }
        }
       }
      }
     },
     "metadata": {},
     "output_type": "display_data"
    }
   ],
   "source": [
    "ds_pter_2deg_no_0=ds_pter_2deg.where(ds_pter_2deg!=0,np.nan)\n",
    "flat_data = ds_pter_2deg_no_0.values.flatten()\n",
    "valid_data = flat_data[~np.isnan(flat_data)]\n",
    "\n",
    "df = pd.DataFrame({\"pteropod biomass (g/m2)\": valid_data})\n",
    "\n",
    "fig = px.histogram(\n",
    "    df,\n",
    "    x=\"pteropod biomass (g/m2)\",\n",
    "    nbins=50,\n",
    "    labels={\"count\": \"frequency\"},\n",
    "    title=\"Histogram of pteropods biomass entries \"\n",
    ")\n",
    "fig.show()\n",
    "\n"
   ]
  },
  {
   "cell_type": "code",
   "execution_count": null,
   "id": "4180d205",
   "metadata": {},
   "outputs": [
    {
     "data": {
      "application/vnd.plotly.v1+json": {
       "config": {
        "plotlyServerURL": "https://plot.ly"
       },
       "data": [
        {
         "bingroup": "x",
         "hovertemplate": "pteropod biomass (log10 g/m2)=%{x}<br>count=%{y}<extra></extra>",
         "legendgroup": "",
         "marker": {
          "color": "#636efa",
          "pattern": {
           "shape": ""
          }
         },
         "name": "",
         "nbinsx": 50,
         "orientation": "v",
         "showlegend": false,
         "type": "histogram",
         "x": {
          "bdata": "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",
          "dtype": "f8"
         },
         "xaxis": "x",
         "yaxis": "y"
        }
       ],
       "layout": {
        "barmode": "relative",
        "legend": {
         "tracegroupgap": 0
        },
        "template": {
         "data": {
          "bar": [
           {
            "error_x": {
             "color": "#2a3f5f"
            },
            "error_y": {
             "color": "#2a3f5f"
            },
            "marker": {
             "line": {
              "color": "#E5ECF6",
              "width": 0.5
             },
             "pattern": {
              "fillmode": "overlay",
              "size": 10,
              "solidity": 0.2
             }
            },
            "type": "bar"
           }
          ],
          "barpolar": [
           {
            "marker": {
             "line": {
              "color": "#E5ECF6",
              "width": 0.5
             },
             "pattern": {
              "fillmode": "overlay",
              "size": 10,
              "solidity": 0.2
             }
            },
            "type": "barpolar"
           }
          ],
          "carpet": [
           {
            "aaxis": {
             "endlinecolor": "#2a3f5f",
             "gridcolor": "white",
             "linecolor": "white",
             "minorgridcolor": "white",
             "startlinecolor": "#2a3f5f"
            },
            "baxis": {
             "endlinecolor": "#2a3f5f",
             "gridcolor": "white",
             "linecolor": "white",
             "minorgridcolor": "white",
             "startlinecolor": "#2a3f5f"
            },
            "type": "carpet"
           }
          ],
          "choropleth": [
           {
            "colorbar": {
             "outlinewidth": 0,
             "ticks": ""
            },
            "type": "choropleth"
           }
          ],
          "contour": [
           {
            "colorbar": {
             "outlinewidth": 0,
             "ticks": ""
            },
            "colorscale": [
             [
              0,
              "#0d0887"
             ],
             [
              0.1111111111111111,
              "#46039f"
             ],
             [
              0.2222222222222222,
              "#7201a8"
             ],
             [
              0.3333333333333333,
              "#9c179e"
             ],
             [
              0.4444444444444444,
              "#bd3786"
             ],
             [
              0.5555555555555556,
              "#d8576b"
             ],
             [
              0.6666666666666666,
              "#ed7953"
             ],
             [
              0.7777777777777778,
              "#fb9f3a"
             ],
             [
              0.8888888888888888,
              "#fdca26"
             ],
             [
              1,
              "#f0f921"
             ]
            ],
            "type": "contour"
           }
          ],
          "contourcarpet": [
           {
            "colorbar": {
             "outlinewidth": 0,
             "ticks": ""
            },
            "type": "contourcarpet"
           }
          ],
          "heatmap": [
           {
            "colorbar": {
             "outlinewidth": 0,
             "ticks": ""
            },
            "colorscale": [
             [
              0,
              "#0d0887"
             ],
             [
              0.1111111111111111,
              "#46039f"
             ],
             [
              0.2222222222222222,
              "#7201a8"
             ],
             [
              0.3333333333333333,
              "#9c179e"
             ],
             [
              0.4444444444444444,
              "#bd3786"
             ],
             [
              0.5555555555555556,
              "#d8576b"
             ],
             [
              0.6666666666666666,
              "#ed7953"
             ],
             [
              0.7777777777777778,
              "#fb9f3a"
             ],
             [
              0.8888888888888888,
              "#fdca26"
             ],
             [
              1,
              "#f0f921"
             ]
            ],
            "type": "heatmap"
           }
          ],
          "histogram": [
           {
            "marker": {
             "pattern": {
              "fillmode": "overlay",
              "size": 10,
              "solidity": 0.2
             }
            },
            "type": "histogram"
           }
          ],
          "histogram2d": [
           {
            "colorbar": {
             "outlinewidth": 0,
             "ticks": ""
            },
            "colorscale": [
             [
              0,
              "#0d0887"
             ],
             [
              0.1111111111111111,
              "#46039f"
             ],
             [
              0.2222222222222222,
              "#7201a8"
             ],
             [
              0.3333333333333333,
              "#9c179e"
             ],
             [
              0.4444444444444444,
              "#bd3786"
             ],
             [
              0.5555555555555556,
              "#d8576b"
             ],
             [
              0.6666666666666666,
              "#ed7953"
             ],
             [
              0.7777777777777778,
              "#fb9f3a"
             ],
             [
              0.8888888888888888,
              "#fdca26"
             ],
             [
              1,
              "#f0f921"
             ]
            ],
            "type": "histogram2d"
           }
          ],
          "histogram2dcontour": [
           {
            "colorbar": {
             "outlinewidth": 0,
             "ticks": ""
            },
            "colorscale": [
             [
              0,
              "#0d0887"
             ],
             [
              0.1111111111111111,
              "#46039f"
             ],
             [
              0.2222222222222222,
              "#7201a8"
             ],
             [
              0.3333333333333333,
              "#9c179e"
             ],
             [
              0.4444444444444444,
              "#bd3786"
             ],
             [
              0.5555555555555556,
              "#d8576b"
             ],
             [
              0.6666666666666666,
              "#ed7953"
             ],
             [
              0.7777777777777778,
              "#fb9f3a"
             ],
             [
              0.8888888888888888,
              "#fdca26"
             ],
             [
              1,
              "#f0f921"
             ]
            ],
            "type": "histogram2dcontour"
           }
          ],
          "mesh3d": [
           {
            "colorbar": {
             "outlinewidth": 0,
             "ticks": ""
            },
            "type": "mesh3d"
           }
          ],
          "parcoords": [
           {
            "line": {
             "colorbar": {
              "outlinewidth": 0,
              "ticks": ""
             }
            },
            "type": "parcoords"
           }
          ],
          "pie": [
           {
            "automargin": true,
            "type": "pie"
           }
          ],
          "scatter": [
           {
            "fillpattern": {
             "fillmode": "overlay",
             "size": 10,
             "solidity": 0.2
            },
            "type": "scatter"
           }
          ],
          "scatter3d": [
           {
            "line": {
             "colorbar": {
              "outlinewidth": 0,
              "ticks": ""
             }
            },
            "marker": {
             "colorbar": {
              "outlinewidth": 0,
              "ticks": ""
             }
            },
            "type": "scatter3d"
           }
          ],
          "scattercarpet": [
           {
            "marker": {
             "colorbar": {
              "outlinewidth": 0,
              "ticks": ""
             }
            },
            "type": "scattercarpet"
           }
          ],
          "scattergeo": [
           {
            "marker": {
             "colorbar": {
              "outlinewidth": 0,
              "ticks": ""
             }
            },
            "type": "scattergeo"
           }
          ],
          "scattergl": [
           {
            "marker": {
             "colorbar": {
              "outlinewidth": 0,
              "ticks": ""
             }
            },
            "type": "scattergl"
           }
          ],
          "scattermap": [
           {
            "marker": {
             "colorbar": {
              "outlinewidth": 0,
              "ticks": ""
             }
            },
            "type": "scattermap"
           }
          ],
          "scattermapbox": [
           {
            "marker": {
             "colorbar": {
              "outlinewidth": 0,
              "ticks": ""
             }
            },
            "type": "scattermapbox"
           }
          ],
          "scatterpolar": [
           {
            "marker": {
             "colorbar": {
              "outlinewidth": 0,
              "ticks": ""
             }
            },
            "type": "scatterpolar"
           }
          ],
          "scatterpolargl": [
           {
            "marker": {
             "colorbar": {
              "outlinewidth": 0,
              "ticks": ""
             }
            },
            "type": "scatterpolargl"
           }
          ],
          "scatterternary": [
           {
            "marker": {
             "colorbar": {
              "outlinewidth": 0,
              "ticks": ""
             }
            },
            "type": "scatterternary"
           }
          ],
          "surface": [
           {
            "colorbar": {
             "outlinewidth": 0,
             "ticks": ""
            },
            "colorscale": [
             [
              0,
              "#0d0887"
             ],
             [
              0.1111111111111111,
              "#46039f"
             ],
             [
              0.2222222222222222,
              "#7201a8"
             ],
             [
              0.3333333333333333,
              "#9c179e"
             ],
             [
              0.4444444444444444,
              "#bd3786"
             ],
             [
              0.5555555555555556,
              "#d8576b"
             ],
             [
              0.6666666666666666,
              "#ed7953"
             ],
             [
              0.7777777777777778,
              "#fb9f3a"
             ],
             [
              0.8888888888888888,
              "#fdca26"
             ],
             [
              1,
              "#f0f921"
             ]
            ],
            "type": "surface"
           }
          ],
          "table": [
           {
            "cells": {
             "fill": {
              "color": "#EBF0F8"
             },
             "line": {
              "color": "white"
             }
            },
            "header": {
             "fill": {
              "color": "#C8D4E3"
             },
             "line": {
              "color": "white"
             }
            },
            "type": "table"
           }
          ]
         },
         "layout": {
          "annotationdefaults": {
           "arrowcolor": "#2a3f5f",
           "arrowhead": 0,
           "arrowwidth": 1
          },
          "autotypenumbers": "strict",
          "coloraxis": {
           "colorbar": {
            "outlinewidth": 0,
            "ticks": ""
           }
          },
          "colorscale": {
           "diverging": [
            [
             0,
             "#8e0152"
            ],
            [
             0.1,
             "#c51b7d"
            ],
            [
             0.2,
             "#de77ae"
            ],
            [
             0.3,
             "#f1b6da"
            ],
            [
             0.4,
             "#fde0ef"
            ],
            [
             0.5,
             "#f7f7f7"
            ],
            [
             0.6,
             "#e6f5d0"
            ],
            [
             0.7,
             "#b8e186"
            ],
            [
             0.8,
             "#7fbc41"
            ],
            [
             0.9,
             "#4d9221"
            ],
            [
             1,
             "#276419"
            ]
           ],
           "sequential": [
            [
             0,
             "#0d0887"
            ],
            [
             0.1111111111111111,
             "#46039f"
            ],
            [
             0.2222222222222222,
             "#7201a8"
            ],
            [
             0.3333333333333333,
             "#9c179e"
            ],
            [
             0.4444444444444444,
             "#bd3786"
            ],
            [
             0.5555555555555556,
             "#d8576b"
            ],
            [
             0.6666666666666666,
             "#ed7953"
            ],
            [
             0.7777777777777778,
             "#fb9f3a"
            ],
            [
             0.8888888888888888,
             "#fdca26"
            ],
            [
             1,
             "#f0f921"
            ]
           ],
           "sequentialminus": [
            [
             0,
             "#0d0887"
            ],
            [
             0.1111111111111111,
             "#46039f"
            ],
            [
             0.2222222222222222,
             "#7201a8"
            ],
            [
             0.3333333333333333,
             "#9c179e"
            ],
            [
             0.4444444444444444,
             "#bd3786"
            ],
            [
             0.5555555555555556,
             "#d8576b"
            ],
            [
             0.6666666666666666,
             "#ed7953"
            ],
            [
             0.7777777777777778,
             "#fb9f3a"
            ],
            [
             0.8888888888888888,
             "#fdca26"
            ],
            [
             1,
             "#f0f921"
            ]
           ]
          },
          "colorway": [
           "#636efa",
           "#EF553B",
           "#00cc96",
           "#ab63fa",
           "#FFA15A",
           "#19d3f3",
           "#FF6692",
           "#B6E880",
           "#FF97FF",
           "#FECB52"
          ],
          "font": {
           "color": "#2a3f5f"
          },
          "geo": {
           "bgcolor": "white",
           "lakecolor": "white",
           "landcolor": "#E5ECF6",
           "showlakes": true,
           "showland": true,
           "subunitcolor": "white"
          },
          "hoverlabel": {
           "align": "left"
          },
          "hovermode": "closest",
          "mapbox": {
           "style": "light"
          },
          "paper_bgcolor": "white",
          "plot_bgcolor": "#E5ECF6",
          "polar": {
           "angularaxis": {
            "gridcolor": "white",
            "linecolor": "white",
            "ticks": ""
           },
           "bgcolor": "#E5ECF6",
           "radialaxis": {
            "gridcolor": "white",
            "linecolor": "white",
            "ticks": ""
           }
          },
          "scene": {
           "xaxis": {
            "backgroundcolor": "#E5ECF6",
            "gridcolor": "white",
            "gridwidth": 2,
            "linecolor": "white",
            "showbackground": true,
            "ticks": "",
            "zerolinecolor": "white"
           },
           "yaxis": {
            "backgroundcolor": "#E5ECF6",
            "gridcolor": "white",
            "gridwidth": 2,
            "linecolor": "white",
            "showbackground": true,
            "ticks": "",
            "zerolinecolor": "white"
           },
           "zaxis": {
            "backgroundcolor": "#E5ECF6",
            "gridcolor": "white",
            "gridwidth": 2,
            "linecolor": "white",
            "showbackground": true,
            "ticks": "",
            "zerolinecolor": "white"
           }
          },
          "shapedefaults": {
           "line": {
            "color": "#2a3f5f"
           }
          },
          "ternary": {
           "aaxis": {
            "gridcolor": "white",
            "linecolor": "white",
            "ticks": ""
           },
           "baxis": {
            "gridcolor": "white",
            "linecolor": "white",
            "ticks": ""
           },
           "bgcolor": "#E5ECF6",
           "caxis": {
            "gridcolor": "white",
            "linecolor": "white",
            "ticks": ""
           }
          },
          "title": {
           "x": 0.05
          },
          "xaxis": {
           "automargin": true,
           "gridcolor": "white",
           "linecolor": "white",
           "ticks": "",
           "title": {
            "standoff": 15
           },
           "zerolinecolor": "white",
           "zerolinewidth": 2
          },
          "yaxis": {
           "automargin": true,
           "gridcolor": "white",
           "linecolor": "white",
           "ticks": "",
           "title": {
            "standoff": 15
           },
           "zerolinecolor": "white",
           "zerolinewidth": 2
          }
         }
        },
        "title": {
         "text": "Histogram of pteropods biomass entries "
        },
        "xaxis": {
         "anchor": "y",
         "domain": [
          0,
          1
         ],
         "title": {
          "text": "pteropod biomass (log10 g/m2)"
         }
        },
        "yaxis": {
         "anchor": "x",
         "domain": [
          0,
          1
         ],
         "title": {
          "text": "count"
         }
        }
       }
      }
     },
     "metadata": {},
     "output_type": "display_data"
    }
   ],
   "source": [
    "ds_pter_2deg_no_0=ds_pter_2deg.where(ds_pter_2deg!=0,np.nan)\n",
    "flat_data = ds_pter_2deg_no_0.values.flatten()\n",
    "valid_data = flat_data[~np.isnan(flat_data)]\n",
    "\n",
    "df = pd.DataFrame({\"pteropod biomass (log10 g/m2)\": valid_data})\n",
    "\n",
    "fig = px.histogram(\n",
    "    np.log10(df),\n",
    "    x=\"pteropod biomass (log10 g/m2)\",\n",
    "    nbins=50,\n",
    "    labels={\"count\": \"frequency\"},\n",
    "    title=\"Histogram of pteropods biomass entries \"\n",
    ")\n",
    "fig.show()\n",
    "\n"
   ]
  },
  {
   "cell_type": "markdown",
   "id": "7113b722",
   "metadata": {},
   "source": [
    "## Monthly Climatology"
   ]
  },
  {
   "cell_type": "code",
   "execution_count": 37,
   "id": "d8ec3cd1",
   "metadata": {},
   "outputs": [
    {
     "name": "stdout",
     "output_type": "stream",
     "text": [
      "   month  pteropod_biomass_gm2_mean  pteropod_biomass_gm2_std  \\\n",
      "0      1                   0.038890                  0.019303   \n",
      "1      2                   0.025768                  0.033271   \n",
      "2      3                   0.014616                  0.020981   \n",
      "3      4                   0.121461                  0.098869   \n",
      "4      5                   0.280818                  0.396817   \n",
      "5      6                   0.350057                  0.714995   \n",
      "6      7                   0.146798                  0.260031   \n",
      "7      8                   0.109048                  0.187616   \n",
      "8      9                   0.067290                  0.233194   \n",
      "9     10                   0.031324                  0.029795   \n",
      "\n",
      "   pteropod_biomass_median  non_nan_count  \n",
      "0                 0.037669              5  \n",
      "1                 0.014692             41  \n",
      "2                 0.006597              6  \n",
      "3                 0.057290              5  \n",
      "4                 0.131815             66  \n",
      "5                 0.102254             52  \n",
      "6                 0.029689             30  \n",
      "7                 0.021091             44  \n",
      "8                 0.019985             54  \n",
      "9                 0.021737             22  \n"
     ]
    }
   ],
   "source": [
    "# compute monthly climatology\n",
    "# Extract month\n",
    "ds_pter_2deg['month'] = ds_pter_2deg['time.month']\n",
    "\n",
    "# Mean\n",
    "monthly_mean = ds_pter_2deg.groupby('month').mean(dim=['time', 'is_day', 'longitude', 'latitude', 'depth'])\n",
    "# Standard deviation\n",
    "monthly_std = ds_pter_2deg.groupby('month').std(dim=['time', 'is_day', 'longitude', 'latitude', 'depth'])\n",
    "# Non NaN count\n",
    "monthly_count = ds_pter_2deg.groupby('month').count(dim=['time', 'is_day', 'longitude', 'latitude', 'depth'])\n",
    "# Median\n",
    "monthly_median = ds_pter_2deg.groupby('month').median(dim=['time', 'is_day', 'longitude', 'latitude', 'depth'])\n",
    "\n",
    "# DataFrames Conversion (to use px)\n",
    "df_mean = monthly_mean.to_dataframe().reset_index()\n",
    "df_std = monthly_std.to_dataframe().reset_index()\n",
    "df_count = monthly_count.to_dataframe(name='non_nan_count').reset_index()\n",
    "df_median=monthly_median.to_dataframe(name='pteropod_biomass_median').reset_index()\n",
    "\n",
    "df_clim = df_mean.merge(df_std, on='month', suffixes=('_mean', '_std'))\n",
    "df_clim = df_clim.merge(df_median,on='month')\n",
    "df_clim = df_clim.merge(df_count, on='month')\n",
    "\n",
    "\n",
    "print(df_clim)\n"
   ]
  },
  {
   "cell_type": "code",
   "execution_count": 32,
   "id": "2453a2e1",
   "metadata": {},
   "outputs": [],
   "source": [
    "df_clim.to_csv(\"/data/rd_exchange/sroyer/SEAPOPYM/monthly_clim_pteropod_1998_2020_V2.csv\", index=False)"
   ]
  },
  {
   "cell_type": "code",
   "execution_count": 48,
   "id": "19d82bdb",
   "metadata": {},
   "outputs": [
    {
     "data": {
      "application/vnd.plotly.v1+json": {
       "config": {
        "plotlyServerURL": "https://plot.ly"
       },
       "data": [
        {
         "error_y": {
          "array": {
           "bdata": "flkjOSPEkz9V75XJ3AihP8In7IH1e5U/dYswunhPuT+IE8hYdGXZP/lKm9U94eY/wxXePFmk0D9um6zczQPIP4LlYq9Q2c0/pVFFZX+Cnj8=",
           "dtype": "f8"
          },
          "type": "data",
          "visible": true
         },
         "line": {
          "color": "royalblue"
         },
         "marker": {
          "size": 6
         },
         "mode": "lines+markers",
         "name": "Mean biomass",
         "type": "scatter",
         "x": {
          "bdata": "AQIDBAUGBwgJCg==",
          "dtype": "i1"
         },
         "y": {
          "bdata": "pjYesmLpoz9e+fhw/2KaP7igZofT7o0/Y1Q4sQ8Yvz9tstnO7PjRP8DVdrJTZ9Y/re5m+ELKwj+/5bEli+q7PxjCP1zpObE/3L+0yb0JoD8=",
          "dtype": "f8"
         }
        },
        {
         "marker": {
          "color": "orange",
          "size": 8,
          "symbol": "circle"
         },
         "mode": "markers",
         "name": "Median biomass",
         "type": "scatter",
         "x": {
          "bdata": "AQIDBAUGBwgJCg==",
          "dtype": "i1"
         },
         "y": {
          "bdata": "P0xLnFJJoz/yyQUHFReOP2zh5QFoBXs/lJ6ZJBpVrT/P0v7rTt/AP2rgfktJLbo/oO0yxKtmnj99gYxDAJmVP+lEGJ8Hd5Q/UE0BWDhClj8=",
          "dtype": "f8"
         }
        },
        {
         "marker": {
          "color": "lightgrey"
         },
         "name": "Valid data count",
         "opacity": 0.4,
         "type": "bar",
         "x": {
          "bdata": "AQIDBAUGBwgJCg==",
          "dtype": "i1"
         },
         "y": {
          "bdata": "BSkGBUI0Hiw2Fg==",
          "dtype": "i1"
         },
         "yaxis": "y2"
        }
       ],
       "layout": {
        "legend": {
         "x": 0.01,
         "y": 0.99
        },
        "template": {
         "data": {
          "bar": [
           {
            "error_x": {
             "color": "#2a3f5f"
            },
            "error_y": {
             "color": "#2a3f5f"
            },
            "marker": {
             "line": {
              "color": "white",
              "width": 0.5
             },
             "pattern": {
              "fillmode": "overlay",
              "size": 10,
              "solidity": 0.2
             }
            },
            "type": "bar"
           }
          ],
          "barpolar": [
           {
            "marker": {
             "line": {
              "color": "white",
              "width": 0.5
             },
             "pattern": {
              "fillmode": "overlay",
              "size": 10,
              "solidity": 0.2
             }
            },
            "type": "barpolar"
           }
          ],
          "carpet": [
           {
            "aaxis": {
             "endlinecolor": "#2a3f5f",
             "gridcolor": "#C8D4E3",
             "linecolor": "#C8D4E3",
             "minorgridcolor": "#C8D4E3",
             "startlinecolor": "#2a3f5f"
            },
            "baxis": {
             "endlinecolor": "#2a3f5f",
             "gridcolor": "#C8D4E3",
             "linecolor": "#C8D4E3",
             "minorgridcolor": "#C8D4E3",
             "startlinecolor": "#2a3f5f"
            },
            "type": "carpet"
           }
          ],
          "choropleth": [
           {
            "colorbar": {
             "outlinewidth": 0,
             "ticks": ""
            },
            "type": "choropleth"
           }
          ],
          "contour": [
           {
            "colorbar": {
             "outlinewidth": 0,
             "ticks": ""
            },
            "colorscale": [
             [
              0,
              "#0d0887"
             ],
             [
              0.1111111111111111,
              "#46039f"
             ],
             [
              0.2222222222222222,
              "#7201a8"
             ],
             [
              0.3333333333333333,
              "#9c179e"
             ],
             [
              0.4444444444444444,
              "#bd3786"
             ],
             [
              0.5555555555555556,
              "#d8576b"
             ],
             [
              0.6666666666666666,
              "#ed7953"
             ],
             [
              0.7777777777777778,
              "#fb9f3a"
             ],
             [
              0.8888888888888888,
              "#fdca26"
             ],
             [
              1,
              "#f0f921"
             ]
            ],
            "type": "contour"
           }
          ],
          "contourcarpet": [
           {
            "colorbar": {
             "outlinewidth": 0,
             "ticks": ""
            },
            "type": "contourcarpet"
           }
          ],
          "heatmap": [
           {
            "colorbar": {
             "outlinewidth": 0,
             "ticks": ""
            },
            "colorscale": [
             [
              0,
              "#0d0887"
             ],
             [
              0.1111111111111111,
              "#46039f"
             ],
             [
              0.2222222222222222,
              "#7201a8"
             ],
             [
              0.3333333333333333,
              "#9c179e"
             ],
             [
              0.4444444444444444,
              "#bd3786"
             ],
             [
              0.5555555555555556,
              "#d8576b"
             ],
             [
              0.6666666666666666,
              "#ed7953"
             ],
             [
              0.7777777777777778,
              "#fb9f3a"
             ],
             [
              0.8888888888888888,
              "#fdca26"
             ],
             [
              1,
              "#f0f921"
             ]
            ],
            "type": "heatmap"
           }
          ],
          "histogram": [
           {
            "marker": {
             "pattern": {
              "fillmode": "overlay",
              "size": 10,
              "solidity": 0.2
             }
            },
            "type": "histogram"
           }
          ],
          "histogram2d": [
           {
            "colorbar": {
             "outlinewidth": 0,
             "ticks": ""
            },
            "colorscale": [
             [
              0,
              "#0d0887"
             ],
             [
              0.1111111111111111,
              "#46039f"
             ],
             [
              0.2222222222222222,
              "#7201a8"
             ],
             [
              0.3333333333333333,
              "#9c179e"
             ],
             [
              0.4444444444444444,
              "#bd3786"
             ],
             [
              0.5555555555555556,
              "#d8576b"
             ],
             [
              0.6666666666666666,
              "#ed7953"
             ],
             [
              0.7777777777777778,
              "#fb9f3a"
             ],
             [
              0.8888888888888888,
              "#fdca26"
             ],
             [
              1,
              "#f0f921"
             ]
            ],
            "type": "histogram2d"
           }
          ],
          "histogram2dcontour": [
           {
            "colorbar": {
             "outlinewidth": 0,
             "ticks": ""
            },
            "colorscale": [
             [
              0,
              "#0d0887"
             ],
             [
              0.1111111111111111,
              "#46039f"
             ],
             [
              0.2222222222222222,
              "#7201a8"
             ],
             [
              0.3333333333333333,
              "#9c179e"
             ],
             [
              0.4444444444444444,
              "#bd3786"
             ],
             [
              0.5555555555555556,
              "#d8576b"
             ],
             [
              0.6666666666666666,
              "#ed7953"
             ],
             [
              0.7777777777777778,
              "#fb9f3a"
             ],
             [
              0.8888888888888888,
              "#fdca26"
             ],
             [
              1,
              "#f0f921"
             ]
            ],
            "type": "histogram2dcontour"
           }
          ],
          "mesh3d": [
           {
            "colorbar": {
             "outlinewidth": 0,
             "ticks": ""
            },
            "type": "mesh3d"
           }
          ],
          "parcoords": [
           {
            "line": {
             "colorbar": {
              "outlinewidth": 0,
              "ticks": ""
             }
            },
            "type": "parcoords"
           }
          ],
          "pie": [
           {
            "automargin": true,
            "type": "pie"
           }
          ],
          "scatter": [
           {
            "fillpattern": {
             "fillmode": "overlay",
             "size": 10,
             "solidity": 0.2
            },
            "type": "scatter"
           }
          ],
          "scatter3d": [
           {
            "line": {
             "colorbar": {
              "outlinewidth": 0,
              "ticks": ""
             }
            },
            "marker": {
             "colorbar": {
              "outlinewidth": 0,
              "ticks": ""
             }
            },
            "type": "scatter3d"
           }
          ],
          "scattercarpet": [
           {
            "marker": {
             "colorbar": {
              "outlinewidth": 0,
              "ticks": ""
             }
            },
            "type": "scattercarpet"
           }
          ],
          "scattergeo": [
           {
            "marker": {
             "colorbar": {
              "outlinewidth": 0,
              "ticks": ""
             }
            },
            "type": "scattergeo"
           }
          ],
          "scattergl": [
           {
            "marker": {
             "colorbar": {
              "outlinewidth": 0,
              "ticks": ""
             }
            },
            "type": "scattergl"
           }
          ],
          "scattermap": [
           {
            "marker": {
             "colorbar": {
              "outlinewidth": 0,
              "ticks": ""
             }
            },
            "type": "scattermap"
           }
          ],
          "scattermapbox": [
           {
            "marker": {
             "colorbar": {
              "outlinewidth": 0,
              "ticks": ""
             }
            },
            "type": "scattermapbox"
           }
          ],
          "scatterpolar": [
           {
            "marker": {
             "colorbar": {
              "outlinewidth": 0,
              "ticks": ""
             }
            },
            "type": "scatterpolar"
           }
          ],
          "scatterpolargl": [
           {
            "marker": {
             "colorbar": {
              "outlinewidth": 0,
              "ticks": ""
             }
            },
            "type": "scatterpolargl"
           }
          ],
          "scatterternary": [
           {
            "marker": {
             "colorbar": {
              "outlinewidth": 0,
              "ticks": ""
             }
            },
            "type": "scatterternary"
           }
          ],
          "surface": [
           {
            "colorbar": {
             "outlinewidth": 0,
             "ticks": ""
            },
            "colorscale": [
             [
              0,
              "#0d0887"
             ],
             [
              0.1111111111111111,
              "#46039f"
             ],
             [
              0.2222222222222222,
              "#7201a8"
             ],
             [
              0.3333333333333333,
              "#9c179e"
             ],
             [
              0.4444444444444444,
              "#bd3786"
             ],
             [
              0.5555555555555556,
              "#d8576b"
             ],
             [
              0.6666666666666666,
              "#ed7953"
             ],
             [
              0.7777777777777778,
              "#fb9f3a"
             ],
             [
              0.8888888888888888,
              "#fdca26"
             ],
             [
              1,
              "#f0f921"
             ]
            ],
            "type": "surface"
           }
          ],
          "table": [
           {
            "cells": {
             "fill": {
              "color": "#EBF0F8"
             },
             "line": {
              "color": "white"
             }
            },
            "header": {
             "fill": {
              "color": "#C8D4E3"
             },
             "line": {
              "color": "white"
             }
            },
            "type": "table"
           }
          ]
         },
         "layout": {
          "annotationdefaults": {
           "arrowcolor": "#2a3f5f",
           "arrowhead": 0,
           "arrowwidth": 1
          },
          "autotypenumbers": "strict",
          "coloraxis": {
           "colorbar": {
            "outlinewidth": 0,
            "ticks": ""
           }
          },
          "colorscale": {
           "diverging": [
            [
             0,
             "#8e0152"
            ],
            [
             0.1,
             "#c51b7d"
            ],
            [
             0.2,
             "#de77ae"
            ],
            [
             0.3,
             "#f1b6da"
            ],
            [
             0.4,
             "#fde0ef"
            ],
            [
             0.5,
             "#f7f7f7"
            ],
            [
             0.6,
             "#e6f5d0"
            ],
            [
             0.7,
             "#b8e186"
            ],
            [
             0.8,
             "#7fbc41"
            ],
            [
             0.9,
             "#4d9221"
            ],
            [
             1,
             "#276419"
            ]
           ],
           "sequential": [
            [
             0,
             "#0d0887"
            ],
            [
             0.1111111111111111,
             "#46039f"
            ],
            [
             0.2222222222222222,
             "#7201a8"
            ],
            [
             0.3333333333333333,
             "#9c179e"
            ],
            [
             0.4444444444444444,
             "#bd3786"
            ],
            [
             0.5555555555555556,
             "#d8576b"
            ],
            [
             0.6666666666666666,
             "#ed7953"
            ],
            [
             0.7777777777777778,
             "#fb9f3a"
            ],
            [
             0.8888888888888888,
             "#fdca26"
            ],
            [
             1,
             "#f0f921"
            ]
           ],
           "sequentialminus": [
            [
             0,
             "#0d0887"
            ],
            [
             0.1111111111111111,
             "#46039f"
            ],
            [
             0.2222222222222222,
             "#7201a8"
            ],
            [
             0.3333333333333333,
             "#9c179e"
            ],
            [
             0.4444444444444444,
             "#bd3786"
            ],
            [
             0.5555555555555556,
             "#d8576b"
            ],
            [
             0.6666666666666666,
             "#ed7953"
            ],
            [
             0.7777777777777778,
             "#fb9f3a"
            ],
            [
             0.8888888888888888,
             "#fdca26"
            ],
            [
             1,
             "#f0f921"
            ]
           ]
          },
          "colorway": [
           "#636efa",
           "#EF553B",
           "#00cc96",
           "#ab63fa",
           "#FFA15A",
           "#19d3f3",
           "#FF6692",
           "#B6E880",
           "#FF97FF",
           "#FECB52"
          ],
          "font": {
           "color": "#2a3f5f"
          },
          "geo": {
           "bgcolor": "white",
           "lakecolor": "white",
           "landcolor": "white",
           "showlakes": true,
           "showland": true,
           "subunitcolor": "#C8D4E3"
          },
          "hoverlabel": {
           "align": "left"
          },
          "hovermode": "closest",
          "mapbox": {
           "style": "light"
          },
          "paper_bgcolor": "white",
          "plot_bgcolor": "white",
          "polar": {
           "angularaxis": {
            "gridcolor": "#EBF0F8",
            "linecolor": "#EBF0F8",
            "ticks": ""
           },
           "bgcolor": "white",
           "radialaxis": {
            "gridcolor": "#EBF0F8",
            "linecolor": "#EBF0F8",
            "ticks": ""
           }
          },
          "scene": {
           "xaxis": {
            "backgroundcolor": "white",
            "gridcolor": "#DFE8F3",
            "gridwidth": 2,
            "linecolor": "#EBF0F8",
            "showbackground": true,
            "ticks": "",
            "zerolinecolor": "#EBF0F8"
           },
           "yaxis": {
            "backgroundcolor": "white",
            "gridcolor": "#DFE8F3",
            "gridwidth": 2,
            "linecolor": "#EBF0F8",
            "showbackground": true,
            "ticks": "",
            "zerolinecolor": "#EBF0F8"
           },
           "zaxis": {
            "backgroundcolor": "white",
            "gridcolor": "#DFE8F3",
            "gridwidth": 2,
            "linecolor": "#EBF0F8",
            "showbackground": true,
            "ticks": "",
            "zerolinecolor": "#EBF0F8"
           }
          },
          "shapedefaults": {
           "line": {
            "color": "#2a3f5f"
           }
          },
          "ternary": {
           "aaxis": {
            "gridcolor": "#DFE8F3",
            "linecolor": "#A2B1C6",
            "ticks": ""
           },
           "baxis": {
            "gridcolor": "#DFE8F3",
            "linecolor": "#A2B1C6",
            "ticks": ""
           },
           "bgcolor": "white",
           "caxis": {
            "gridcolor": "#DFE8F3",
            "linecolor": "#A2B1C6",
            "ticks": ""
           }
          },
          "title": {
           "x": 0.05
          },
          "xaxis": {
           "automargin": true,
           "gridcolor": "#EBF0F8",
           "linecolor": "#EBF0F8",
           "ticks": "",
           "title": {
            "standoff": 15
           },
           "zerolinecolor": "#EBF0F8",
           "zerolinewidth": 2
          },
          "yaxis": {
           "automargin": true,
           "gridcolor": "#EBF0F8",
           "linecolor": "#EBF0F8",
           "ticks": "",
           "title": {
            "standoff": 15
           },
           "zerolinecolor": "#EBF0F8",
           "zerolinewidth": 2
          }
         }
        },
        "title": {
         "text": "Monthly Climatology of Pteropod Biomass "
        },
        "xaxis": {
         "title": {
          "text": "Month"
         }
        },
        "yaxis": {
         "title": {
          "text": "Mean Biomass [g m-2]"
         },
         "type": "log"
        },
        "yaxis2": {
         "overlaying": "y",
         "showgrid": false,
         "side": "right",
         "title": {
          "text": "Non-NaN count"
         }
        }
       }
      }
     },
     "metadata": {},
     "output_type": "display_data"
    }
   ],
   "source": [
    "fig = go.Figure()\n",
    "\n",
    "# Mean + standard deviation (curve with error intervals)\n",
    "fig.add_trace(go.Scatter(\n",
    "    x=df_clim['month'],\n",
    "    y=df_clim['pteropod_biomass_gm2_mean'],\n",
    "    mode='lines+markers',\n",
    "    name='Mean biomass',\n",
    "    error_y=dict(\n",
    "        type='data',\n",
    "        array=df_clim['pteropod_biomass_gm2_std'],\n",
    "        visible=True\n",
    "    ),\n",
    "    line=dict(color='royalblue'),\n",
    "    marker=dict(size=6)\n",
    "))\n",
    "\n",
    "# Median (dots)\n",
    "fig.add_trace(go.Scatter(\n",
    "    x=df_clim['month'],\n",
    "    y=df_clim['pteropod_biomass_median'],\n",
    "    mode='markers',\n",
    "    name='Median biomass',\n",
    "    marker=dict(color='orange', symbol='circle', size=8)\n",
    "))\n",
    "\n",
    "# non-NaN count (bar, second axis)\n",
    "fig.add_trace(go.Bar(\n",
    "    x=df_clim['month'],\n",
    "    y=df_clim['non_nan_count'],\n",
    "    name='Valid data count',\n",
    "    yaxis='y2',\n",
    "    opacity=0.4,\n",
    "    marker_color='lightgrey'\n",
    "))\n",
    "\n",
    "# presentation\n",
    "fig.update_layout(\n",
    "    title='Monthly Climatology of Pteropod Biomass ',\n",
    "    xaxis=dict(title='Month'),\n",
    "    yaxis=dict(\n",
    "        type='log',\n",
    "        title='Mean Biomass [g m-2]',\n",
    "        #range=[df_clim[\"pteropods_mean\"].min() * 0.9, df_clim[\"pteropods_mean\"].max() * 3.4]  # dynamic adjustment\n",
    "    ),\n",
    "    yaxis2=dict(\n",
    "        title='Non-NaN count',\n",
    "        overlaying='y',\n",
    "        side='right',\n",
    "        showgrid=False\n",
    "    ),\n",
    "    legend=dict(x=0.01, y=0.99),\n",
    "    template='plotly_white'\n",
    ")\n",
    "\n",
    "fig.show()\n"
   ]
  },
  {
   "cell_type": "markdown",
   "id": "1c28c453",
   "metadata": {},
   "source": [
    "## Seasonal Climatology Compared with Litterature"
   ]
  },
  {
   "cell_type": "code",
   "execution_count": 41,
   "id": "9501cf58",
   "metadata": {},
   "outputs": [],
   "source": [
    "# === Data Mackas et Galbraith 2012 ===\n",
    "data = [\n",
    "    [\"Feb-Mar\", 0.01147, 1],\n",
    "    [\"May-Jun\", 0.089615, 1],\n",
    "    [\"Aug-Sep\", 0.032502, 1],\n",
    "    [\"Feb-Mar\", 0.78137, 0],\n",
    "    [\"May-Jun\", 4.90316, 0],\n",
    "    [\"Aug-Sep\", 0.427516, 0]\n",
    "]\n",
    "\n",
    "# === DataFrame creation ===\n",
    "df_mackasgalbraith = pd.DataFrame(data, columns=[\"season\", \"biomass\", \"species\"])\n",
    "df_mackasgalbraith[\"species_name\"] = df_mackasgalbraith[\"species\"].map({1: \"Clione\", 0: \"Limacina\"})\n"
   ]
  },
  {
   "cell_type": "code",
   "execution_count": 44,
   "id": "27a4c5d5",
   "metadata": {},
   "outputs": [
    {
     "data": {
      "text/html": [
       "<div>\n",
       "<style scoped>\n",
       "    .dataframe tbody tr th:only-of-type {\n",
       "        vertical-align: middle;\n",
       "    }\n",
       "\n",
       "    .dataframe tbody tr th {\n",
       "        vertical-align: top;\n",
       "    }\n",
       "\n",
       "    .dataframe thead th {\n",
       "        text-align: right;\n",
       "    }\n",
       "</style>\n",
       "<table border=\"1\" class=\"dataframe\">\n",
       "  <thead>\n",
       "    <tr style=\"text-align: right;\">\n",
       "      <th></th>\n",
       "      <th>season</th>\n",
       "      <th>pteropod_biomass_gm2_mean</th>\n",
       "      <th>pteropod_biomass_gm2_std</th>\n",
       "      <th>pteropod_biomass_median</th>\n",
       "      <th>non_nan_count</th>\n",
       "    </tr>\n",
       "  </thead>\n",
       "  <tbody>\n",
       "    <tr>\n",
       "      <th>0</th>\n",
       "      <td>Feb-Mar</td>\n",
       "      <td>0.024345</td>\n",
       "      <td>0.032182</td>\n",
       "      <td>0.011822</td>\n",
       "      <td>47</td>\n",
       "    </tr>\n",
       "    <tr>\n",
       "      <th>1</th>\n",
       "      <td>May-Jun</td>\n",
       "      <td>0.311330</td>\n",
       "      <td>0.560836</td>\n",
       "      <td>0.118413</td>\n",
       "      <td>118</td>\n",
       "    </tr>\n",
       "    <tr>\n",
       "      <th>2</th>\n",
       "      <td>Aug-Sep</td>\n",
       "      <td>0.086038</td>\n",
       "      <td>0.214941</td>\n",
       "      <td>0.020765</td>\n",
       "      <td>98</td>\n",
       "    </tr>\n",
       "  </tbody>\n",
       "</table>\n",
       "</div>"
      ],
      "text/plain": [
       "    season  pteropod_biomass_gm2_mean  pteropod_biomass_gm2_std  \\\n",
       "0  Feb-Mar                   0.024345                  0.032182   \n",
       "1  May-Jun                   0.311330                  0.560836   \n",
       "2  Aug-Sep                   0.086038                  0.214941   \n",
       "\n",
       "   pteropod_biomass_median  non_nan_count  \n",
       "0                 0.011822             47  \n",
       "1                 0.118413            118  \n",
       "2                 0.020765             98  "
      ]
     },
     "execution_count": 44,
     "metadata": {},
     "output_type": "execute_result"
    }
   ],
   "source": [
    "#define Seasons\n",
    "def get_group_month(month):\n",
    "    if month in [2,3]: #February March\n",
    "        return \"Feb-Mar\"\n",
    "    elif month in [5,6]: #May June\n",
    "        return \"May-Jun\"\n",
    "    elif month in [8,9]: # August September\n",
    "        return \"Aug-Sep\"\n",
    "    else: # Not taken into account in the paper\n",
    "        return \"Others\"\n",
    "# get season\n",
    "paperseason_labels = xr.apply_ufunc(\n",
    "    np.vectorize(get_group_month),\n",
    "    ds_pter_2deg['month'],\n",
    "    vectorize=True\n",
    ")\n",
    "\n",
    "# Add season to dataset\n",
    "ds_pter_2deg = ds_pter_2deg.assign_coords(season=(\"time\", paperseason_labels.data))\n",
    "\n",
    "#compute seasonal climatology\n",
    "paperseasonal_mean = ds_pter_2deg.groupby('season').mean(dim=['time', 'longitude', 'latitude', 'depth', 'is_day'], skipna=True)\n",
    "paperseasonal_std = ds_pter_2deg.groupby('season').std(dim=['time', 'longitude', 'latitude', 'depth', 'is_day'], skipna=True)\n",
    "paperseasonal_median = ds_pter_2deg.groupby('season').median(dim=['time', 'longitude', 'latitude', 'depth', 'is_day'], skipna=True)\n",
    "paperseasonal_count = ds_pter_2deg.groupby('season').count(dim=['time', 'longitude', 'latitude', 'depth', 'is_day'])\n",
    "# DataFrame for ploty\n",
    "df_seasonal_mean = paperseasonal_mean.to_dataframe().reset_index()\n",
    "df_seasonal_std = paperseasonal_std.to_dataframe().reset_index()\n",
    "df_seasonal_median = paperseasonal_median.to_dataframe(name=\"pteropod_biomass_median\").reset_index()\n",
    "df_seasonal_count = paperseasonal_count.to_dataframe(name=\"non_nan_count\").reset_index()\n",
    "\n",
    "df_paperseasonal = df_seasonal_mean.merge(df_seasonal_std, on=\"season\", suffixes=(\"_mean\", \"_std\"))\n",
    "df_paperseasonal = df_paperseasonal.merge(df_seasonal_median, on=\"season\")\n",
    "df_paperseasonal = df_paperseasonal.merge(df_seasonal_count, on=\"season\")\n",
    "\n",
    "#re-order seasons\n",
    "from pandas.api.types import CategoricalDtype\n",
    "\n",
    "# define ordrer\n",
    "paperseason_order = CategoricalDtype(\n",
    "    categories=[\"Feb-Mar\", \"May-Jun\", \"Aug-Sep\", \"Others\"],\n",
    "    ordered=True\n",
    ")\n",
    "\n",
    "# re-order\n",
    "df_paperseasonal[\"season\"] = df_paperseasonal[\"season\"].astype(paperseason_order)\n",
    "\n",
    "# sort dataframe\n",
    "df_paperseasonal = df_paperseasonal.sort_values(\"season\").reset_index(drop=True)\n",
    "\n",
    "df_paperseasonal=df_paperseasonal[:3] # Remove others months\n",
    "df_paperseasonal"
   ]
  },
  {
   "cell_type": "code",
   "execution_count": 46,
   "id": "4affaf77",
   "metadata": {},
   "outputs": [
    {
     "data": {
      "application/vnd.plotly.v1+json": {
       "config": {
        "plotlyServerURL": "https://plot.ly"
       },
       "data": [
        {
         "marker": {
          "color": "green",
          "size": 8,
          "symbol": "circle"
         },
         "mode": "markers",
         "name": "Median biomass x daily pld",
         "type": "scatter",
         "x": [
          "Feb-Mar",
          "May-Jun",
          "Aug-Sep"
         ],
         "y": {
          "bdata": "JUiTWig2iD9SRS8HU1C+P/wIvMeDQ5U/",
          "dtype": "f8"
         }
        },
        {
         "marker": {
          "color": "red",
          "size": 10,
          "symbol": "triangle-up"
         },
         "mode": "markers",
         "name": "Clione (from paper)",
         "type": "scatter",
         "x": [
          "Feb-Mar",
          "May-Jun",
          "Aug-Sep"
         ],
         "y": {
          "bdata": "y7kUV5V9hz9wJTs2AvG2P3zzGyYapKA/",
          "dtype": "f8"
         }
        },
        {
         "marker": {
          "color": "pink",
          "size": 10,
          "symbol": "triangle-down"
         },
         "mode": "markers",
         "name": "Limacina (from paper)",
         "type": "scatter",
         "x": [
          "Feb-Mar",
          "May-Jun",
          "Aug-Sep"
         ],
         "y": {
          "bdata": "qWqCqPsA6T+wOJz51ZwTQDQSoRFsXNs/",
          "dtype": "f8"
         }
        }
       ],
       "layout": {
        "legend": {
         "x": 0.01,
         "y": 0.99
        },
        "template": {
         "data": {
          "bar": [
           {
            "error_x": {
             "color": "#2a3f5f"
            },
            "error_y": {
             "color": "#2a3f5f"
            },
            "marker": {
             "line": {
              "color": "white",
              "width": 0.5
             },
             "pattern": {
              "fillmode": "overlay",
              "size": 10,
              "solidity": 0.2
             }
            },
            "type": "bar"
           }
          ],
          "barpolar": [
           {
            "marker": {
             "line": {
              "color": "white",
              "width": 0.5
             },
             "pattern": {
              "fillmode": "overlay",
              "size": 10,
              "solidity": 0.2
             }
            },
            "type": "barpolar"
           }
          ],
          "carpet": [
           {
            "aaxis": {
             "endlinecolor": "#2a3f5f",
             "gridcolor": "#C8D4E3",
             "linecolor": "#C8D4E3",
             "minorgridcolor": "#C8D4E3",
             "startlinecolor": "#2a3f5f"
            },
            "baxis": {
             "endlinecolor": "#2a3f5f",
             "gridcolor": "#C8D4E3",
             "linecolor": "#C8D4E3",
             "minorgridcolor": "#C8D4E3",
             "startlinecolor": "#2a3f5f"
            },
            "type": "carpet"
           }
          ],
          "choropleth": [
           {
            "colorbar": {
             "outlinewidth": 0,
             "ticks": ""
            },
            "type": "choropleth"
           }
          ],
          "contour": [
           {
            "colorbar": {
             "outlinewidth": 0,
             "ticks": ""
            },
            "colorscale": [
             [
              0,
              "#0d0887"
             ],
             [
              0.1111111111111111,
              "#46039f"
             ],
             [
              0.2222222222222222,
              "#7201a8"
             ],
             [
              0.3333333333333333,
              "#9c179e"
             ],
             [
              0.4444444444444444,
              "#bd3786"
             ],
             [
              0.5555555555555556,
              "#d8576b"
             ],
             [
              0.6666666666666666,
              "#ed7953"
             ],
             [
              0.7777777777777778,
              "#fb9f3a"
             ],
             [
              0.8888888888888888,
              "#fdca26"
             ],
             [
              1,
              "#f0f921"
             ]
            ],
            "type": "contour"
           }
          ],
          "contourcarpet": [
           {
            "colorbar": {
             "outlinewidth": 0,
             "ticks": ""
            },
            "type": "contourcarpet"
           }
          ],
          "heatmap": [
           {
            "colorbar": {
             "outlinewidth": 0,
             "ticks": ""
            },
            "colorscale": [
             [
              0,
              "#0d0887"
             ],
             [
              0.1111111111111111,
              "#46039f"
             ],
             [
              0.2222222222222222,
              "#7201a8"
             ],
             [
              0.3333333333333333,
              "#9c179e"
             ],
             [
              0.4444444444444444,
              "#bd3786"
             ],
             [
              0.5555555555555556,
              "#d8576b"
             ],
             [
              0.6666666666666666,
              "#ed7953"
             ],
             [
              0.7777777777777778,
              "#fb9f3a"
             ],
             [
              0.8888888888888888,
              "#fdca26"
             ],
             [
              1,
              "#f0f921"
             ]
            ],
            "type": "heatmap"
           }
          ],
          "histogram": [
           {
            "marker": {
             "pattern": {
              "fillmode": "overlay",
              "size": 10,
              "solidity": 0.2
             }
            },
            "type": "histogram"
           }
          ],
          "histogram2d": [
           {
            "colorbar": {
             "outlinewidth": 0,
             "ticks": ""
            },
            "colorscale": [
             [
              0,
              "#0d0887"
             ],
             [
              0.1111111111111111,
              "#46039f"
             ],
             [
              0.2222222222222222,
              "#7201a8"
             ],
             [
              0.3333333333333333,
              "#9c179e"
             ],
             [
              0.4444444444444444,
              "#bd3786"
             ],
             [
              0.5555555555555556,
              "#d8576b"
             ],
             [
              0.6666666666666666,
              "#ed7953"
             ],
             [
              0.7777777777777778,
              "#fb9f3a"
             ],
             [
              0.8888888888888888,
              "#fdca26"
             ],
             [
              1,
              "#f0f921"
             ]
            ],
            "type": "histogram2d"
           }
          ],
          "histogram2dcontour": [
           {
            "colorbar": {
             "outlinewidth": 0,
             "ticks": ""
            },
            "colorscale": [
             [
              0,
              "#0d0887"
             ],
             [
              0.1111111111111111,
              "#46039f"
             ],
             [
              0.2222222222222222,
              "#7201a8"
             ],
             [
              0.3333333333333333,
              "#9c179e"
             ],
             [
              0.4444444444444444,
              "#bd3786"
             ],
             [
              0.5555555555555556,
              "#d8576b"
             ],
             [
              0.6666666666666666,
              "#ed7953"
             ],
             [
              0.7777777777777778,
              "#fb9f3a"
             ],
             [
              0.8888888888888888,
              "#fdca26"
             ],
             [
              1,
              "#f0f921"
             ]
            ],
            "type": "histogram2dcontour"
           }
          ],
          "mesh3d": [
           {
            "colorbar": {
             "outlinewidth": 0,
             "ticks": ""
            },
            "type": "mesh3d"
           }
          ],
          "parcoords": [
           {
            "line": {
             "colorbar": {
              "outlinewidth": 0,
              "ticks": ""
             }
            },
            "type": "parcoords"
           }
          ],
          "pie": [
           {
            "automargin": true,
            "type": "pie"
           }
          ],
          "scatter": [
           {
            "fillpattern": {
             "fillmode": "overlay",
             "size": 10,
             "solidity": 0.2
            },
            "type": "scatter"
           }
          ],
          "scatter3d": [
           {
            "line": {
             "colorbar": {
              "outlinewidth": 0,
              "ticks": ""
             }
            },
            "marker": {
             "colorbar": {
              "outlinewidth": 0,
              "ticks": ""
             }
            },
            "type": "scatter3d"
           }
          ],
          "scattercarpet": [
           {
            "marker": {
             "colorbar": {
              "outlinewidth": 0,
              "ticks": ""
             }
            },
            "type": "scattercarpet"
           }
          ],
          "scattergeo": [
           {
            "marker": {
             "colorbar": {
              "outlinewidth": 0,
              "ticks": ""
             }
            },
            "type": "scattergeo"
           }
          ],
          "scattergl": [
           {
            "marker": {
             "colorbar": {
              "outlinewidth": 0,
              "ticks": ""
             }
            },
            "type": "scattergl"
           }
          ],
          "scattermap": [
           {
            "marker": {
             "colorbar": {
              "outlinewidth": 0,
              "ticks": ""
             }
            },
            "type": "scattermap"
           }
          ],
          "scattermapbox": [
           {
            "marker": {
             "colorbar": {
              "outlinewidth": 0,
              "ticks": ""
             }
            },
            "type": "scattermapbox"
           }
          ],
          "scatterpolar": [
           {
            "marker": {
             "colorbar": {
              "outlinewidth": 0,
              "ticks": ""
             }
            },
            "type": "scatterpolar"
           }
          ],
          "scatterpolargl": [
           {
            "marker": {
             "colorbar": {
              "outlinewidth": 0,
              "ticks": ""
             }
            },
            "type": "scatterpolargl"
           }
          ],
          "scatterternary": [
           {
            "marker": {
             "colorbar": {
              "outlinewidth": 0,
              "ticks": ""
             }
            },
            "type": "scatterternary"
           }
          ],
          "surface": [
           {
            "colorbar": {
             "outlinewidth": 0,
             "ticks": ""
            },
            "colorscale": [
             [
              0,
              "#0d0887"
             ],
             [
              0.1111111111111111,
              "#46039f"
             ],
             [
              0.2222222222222222,
              "#7201a8"
             ],
             [
              0.3333333333333333,
              "#9c179e"
             ],
             [
              0.4444444444444444,
              "#bd3786"
             ],
             [
              0.5555555555555556,
              "#d8576b"
             ],
             [
              0.6666666666666666,
              "#ed7953"
             ],
             [
              0.7777777777777778,
              "#fb9f3a"
             ],
             [
              0.8888888888888888,
              "#fdca26"
             ],
             [
              1,
              "#f0f921"
             ]
            ],
            "type": "surface"
           }
          ],
          "table": [
           {
            "cells": {
             "fill": {
              "color": "#EBF0F8"
             },
             "line": {
              "color": "white"
             }
            },
            "header": {
             "fill": {
              "color": "#C8D4E3"
             },
             "line": {
              "color": "white"
             }
            },
            "type": "table"
           }
          ]
         },
         "layout": {
          "annotationdefaults": {
           "arrowcolor": "#2a3f5f",
           "arrowhead": 0,
           "arrowwidth": 1
          },
          "autotypenumbers": "strict",
          "coloraxis": {
           "colorbar": {
            "outlinewidth": 0,
            "ticks": ""
           }
          },
          "colorscale": {
           "diverging": [
            [
             0,
             "#8e0152"
            ],
            [
             0.1,
             "#c51b7d"
            ],
            [
             0.2,
             "#de77ae"
            ],
            [
             0.3,
             "#f1b6da"
            ],
            [
             0.4,
             "#fde0ef"
            ],
            [
             0.5,
             "#f7f7f7"
            ],
            [
             0.6,
             "#e6f5d0"
            ],
            [
             0.7,
             "#b8e186"
            ],
            [
             0.8,
             "#7fbc41"
            ],
            [
             0.9,
             "#4d9221"
            ],
            [
             1,
             "#276419"
            ]
           ],
           "sequential": [
            [
             0,
             "#0d0887"
            ],
            [
             0.1111111111111111,
             "#46039f"
            ],
            [
             0.2222222222222222,
             "#7201a8"
            ],
            [
             0.3333333333333333,
             "#9c179e"
            ],
            [
             0.4444444444444444,
             "#bd3786"
            ],
            [
             0.5555555555555556,
             "#d8576b"
            ],
            [
             0.6666666666666666,
             "#ed7953"
            ],
            [
             0.7777777777777778,
             "#fb9f3a"
            ],
            [
             0.8888888888888888,
             "#fdca26"
            ],
            [
             1,
             "#f0f921"
            ]
           ],
           "sequentialminus": [
            [
             0,
             "#0d0887"
            ],
            [
             0.1111111111111111,
             "#46039f"
            ],
            [
             0.2222222222222222,
             "#7201a8"
            ],
            [
             0.3333333333333333,
             "#9c179e"
            ],
            [
             0.4444444444444444,
             "#bd3786"
            ],
            [
             0.5555555555555556,
             "#d8576b"
            ],
            [
             0.6666666666666666,
             "#ed7953"
            ],
            [
             0.7777777777777778,
             "#fb9f3a"
            ],
            [
             0.8888888888888888,
             "#fdca26"
            ],
            [
             1,
             "#f0f921"
            ]
           ]
          },
          "colorway": [
           "#636efa",
           "#EF553B",
           "#00cc96",
           "#ab63fa",
           "#FFA15A",
           "#19d3f3",
           "#FF6692",
           "#B6E880",
           "#FF97FF",
           "#FECB52"
          ],
          "font": {
           "color": "#2a3f5f"
          },
          "geo": {
           "bgcolor": "white",
           "lakecolor": "white",
           "landcolor": "white",
           "showlakes": true,
           "showland": true,
           "subunitcolor": "#C8D4E3"
          },
          "hoverlabel": {
           "align": "left"
          },
          "hovermode": "closest",
          "mapbox": {
           "style": "light"
          },
          "paper_bgcolor": "white",
          "plot_bgcolor": "white",
          "polar": {
           "angularaxis": {
            "gridcolor": "#EBF0F8",
            "linecolor": "#EBF0F8",
            "ticks": ""
           },
           "bgcolor": "white",
           "radialaxis": {
            "gridcolor": "#EBF0F8",
            "linecolor": "#EBF0F8",
            "ticks": ""
           }
          },
          "scene": {
           "xaxis": {
            "backgroundcolor": "white",
            "gridcolor": "#DFE8F3",
            "gridwidth": 2,
            "linecolor": "#EBF0F8",
            "showbackground": true,
            "ticks": "",
            "zerolinecolor": "#EBF0F8"
           },
           "yaxis": {
            "backgroundcolor": "white",
            "gridcolor": "#DFE8F3",
            "gridwidth": 2,
            "linecolor": "#EBF0F8",
            "showbackground": true,
            "ticks": "",
            "zerolinecolor": "#EBF0F8"
           },
           "zaxis": {
            "backgroundcolor": "white",
            "gridcolor": "#DFE8F3",
            "gridwidth": 2,
            "linecolor": "#EBF0F8",
            "showbackground": true,
            "ticks": "",
            "zerolinecolor": "#EBF0F8"
           }
          },
          "shapedefaults": {
           "line": {
            "color": "#2a3f5f"
           }
          },
          "ternary": {
           "aaxis": {
            "gridcolor": "#DFE8F3",
            "linecolor": "#A2B1C6",
            "ticks": ""
           },
           "baxis": {
            "gridcolor": "#DFE8F3",
            "linecolor": "#A2B1C6",
            "ticks": ""
           },
           "bgcolor": "white",
           "caxis": {
            "gridcolor": "#DFE8F3",
            "linecolor": "#A2B1C6",
            "ticks": ""
           }
          },
          "title": {
           "x": 0.05
          },
          "xaxis": {
           "automargin": true,
           "gridcolor": "#EBF0F8",
           "linecolor": "#EBF0F8",
           "ticks": "",
           "title": {
            "standoff": 15
           },
           "zerolinecolor": "#EBF0F8",
           "zerolinewidth": 2
          },
          "yaxis": {
           "automargin": true,
           "gridcolor": "#EBF0F8",
           "linecolor": "#EBF0F8",
           "ticks": "",
           "title": {
            "standoff": 15
           },
           "zerolinecolor": "#EBF0F8",
           "zerolinewidth": 2
          }
         }
        },
        "title": {
         "text": "Average Seasonal Cycles of Pteropod Biomass - comparison with litterature"
        },
        "xaxis": {
         "title": {
          "text": "Season"
         }
        },
        "yaxis": {
         "title": {
          "text": "Biomass [g m-2]"
         },
         "type": "log"
        },
        "yaxis2": {
         "overlaying": "y",
         "showgrid": false,
         "side": "right",
         "title": {
          "text": "Non-NaN count"
         }
        }
       }
      }
     },
     "metadata": {},
     "output_type": "display_data"
    }
   ],
   "source": [
    "fig = go.Figure()\n",
    "\n",
    "# Median - daily pld\n",
    "fig.add_trace(go.Scatter(\n",
    "    x=df_paperseasonal['season'],\n",
    "    y=df_paperseasonal['pteropod_biomass_median'],\n",
    "    mode='markers',\n",
    "    name='Median biomass x daily pld',\n",
    "    marker=dict(color='green', symbol='circle', size=8)\n",
    "))\n",
    "\n",
    "#add data from paper\n",
    "for species in df_mackasgalbraith[\"species_name\"].unique():\n",
    "    sub_df_mackasgalbraith = df_mackasgalbraith[df_mackasgalbraith[\"species_name\"] == species]\n",
    "    fig.add_trace(go.Scatter(\n",
    "        x=sub_df_mackasgalbraith[\"season\"],\n",
    "        y=sub_df_mackasgalbraith[\"biomass\"],\n",
    "        mode=\"markers\",\n",
    "        name=f'{species} (from paper)',\n",
    "        marker=dict(\n",
    "            size=10,\n",
    "            color='red'if species == \"Clione\" else \"pink\",\n",
    "            symbol=\"triangle-up\" if species == \"Clione\" else \"triangle-down\"\n",
    "        )\n",
    "    ))\n",
    "\n",
    "# presentation\n",
    "fig.update_layout(\n",
    "    title='Average Seasonal Cycles of Pteropod Biomass - comparison with litterature',\n",
    "    xaxis=dict(title='Season'),\n",
    "    yaxis=dict(\n",
    "        title='Biomass [g m-2]',\n",
    "        type='log',\n",
    "    ),\n",
    "    yaxis2=dict(\n",
    "        title='Non-NaN count',\n",
    "        overlaying='y',\n",
    "        side='right',\n",
    "        showgrid=False\n",
    "    ),\n",
    "    legend=dict(x=0.01, y=0.99),\n",
    "    template='plotly_white'\n",
    ")\n",
    "\n",
    "fig.show()\n"
   ]
  },
  {
   "cell_type": "markdown",
   "id": "bb3a4de8",
   "metadata": {},
   "source": [
    "Rq : improvement in feb-mar (before *2!=) and may-june (same !=) in aug sep before = over-estimation, now under-estimation (of the same magnitude)"
   ]
  },
  {
   "cell_type": "markdown",
   "id": "eb41aea0",
   "metadata": {},
   "source": [
    "## Log10 Climatology"
   ]
  },
  {
   "cell_type": "markdown",
   "id": "3718c8de",
   "metadata": {},
   "source": [
    "<div style=\"padding: 10px; border-radius: 5px; background-color: #cce5ff; color: #004085; border-left: 5px solid #007bff;\">\n",
    "    <strong>Note :</strong> To do this Log10 Climatology, 20 zeros values have been removed. (log10(0)=-inf )\n",
    "</div>"
   ]
  },
  {
   "cell_type": "code",
   "execution_count": 108,
   "id": "9f76166e",
   "metadata": {},
   "outputs": [
    {
     "name": "stdout",
     "output_type": "stream",
     "text": [
      "   month  pteropod_biomass_gm2_mean  pteropod_biomass_gm2_std  \\\n",
      "0      1                   0.033287                  0.260625   \n",
      "1      2                   0.017922                  0.410406   \n",
      "2      3                   0.009675                  0.433482   \n",
      "3      4                   0.087757                  0.344764   \n",
      "4      5                   0.143989                  0.715110   \n",
      "5      6                   0.138077                  0.736781   \n",
      "6      7                   0.036432                  0.808265   \n",
      "7      8                   0.033574                  0.848848   \n",
      "8      9                   0.028515                  0.627508   \n",
      "9     10                   0.019716                  0.484149   \n",
      "\n",
      "   pteropod_biomass_median  non_nan_count  \n",
      "0                 0.037669              5  \n",
      "1                 0.015123             37  \n",
      "2                 0.009227              5  \n",
      "3                 0.057290              5  \n",
      "4                 0.145701             68  \n",
      "5                 0.122413             46  \n",
      "6                 0.032364             29  \n",
      "7                 0.025883             42  \n",
      "8                 0.023482             47  \n",
      "9                 0.024265             21  \n"
     ]
    }
   ],
   "source": [
    "# Compute Monthly log10 Climatology\n",
    "\n",
    "# Convert in log 10 -----------------------------\n",
    "ds_pter_log10=np.log10(ds_pter_2deg_no_0)\n",
    "# Extract month\n",
    "ds_pter_log10['month'] = ds_pter_log10['time.month']\n",
    "\n",
    "# Mean\n",
    "monthly_mean = ds_pter_log10.groupby('month').mean(dim=['time', 'is_day', 'longitude', 'latitude', 'depth'])\n",
    "# Standard deviation\n",
    "monthly_std = ds_pter_log10.groupby('month').std(dim=['time', 'is_day', 'longitude', 'latitude', 'depth'])\n",
    "# Non NaN count\n",
    "monthly_count = ds_pter_log10.groupby('month').count(dim=['time', 'is_day', 'longitude', 'latitude', 'depth'])\n",
    "# Median\n",
    "monthly_median = ds_pter_log10.groupby('month').median(dim=['time', 'is_day', 'longitude', 'latitude', 'depth'])\n",
    "# Convert back in 'normal'\n",
    "monthly_mean=10**monthly_mean\n",
    "#monthly_std=10**monthly_std\n",
    "monthly_median=10**monthly_median\n",
    "\n",
    "# DataFrames Conversion (to use px)\n",
    "df_mean = monthly_mean.to_dataframe().reset_index()\n",
    "df_std = monthly_std.to_dataframe().reset_index()\n",
    "df_count = monthly_count.to_dataframe(name='non_nan_count').reset_index()\n",
    "df_median=monthly_median.to_dataframe(name='pteropod_biomass_median').reset_index()\n",
    "\n",
    "df_clim_v2 = df_mean.merge(df_std, on='month', suffixes=('_mean', '_std'))\n",
    "df_clim_v2 = df_clim_v2.merge(df_median,on='month')\n",
    "df_clim_v2 = df_clim_v2.merge(df_count, on='month')\n",
    "\n",
    "\n",
    "print(df_clim_v2)\n"
   ]
  },
  {
   "cell_type": "code",
   "execution_count": null,
   "id": "56fb77d2",
   "metadata": {},
   "outputs": [],
   "source": [
    "#df_clim_v2.to_csv(\"/data/rd_exchange/sroyer/SEAPOPYM/monthly_clim_pteropod_1998_2020_v3.csv\", index=False)"
   ]
  },
  {
   "cell_type": "markdown",
   "id": "b1cd7a4a",
   "metadata": {},
   "source": [
    "<div style=\"padding: 10px; border-radius: 5px; background-color: #d4edda; color: #155724; border-left: 5px solid #28a745;\">\n",
    "    <strong>Question:</strong> for the standard deviation, do i do 10**pter_std ?\n",
    "</div>"
   ]
  },
  {
   "cell_type": "code",
   "execution_count": 106,
   "id": "3b918e0e",
   "metadata": {},
   "outputs": [
    {
     "data": {
      "application/vnd.plotly.v1+json": {
       "config": {
        "plotlyServerURL": "https://plot.ly"
       },
       "data": [
        {
         "error_y": {
          "array": {
           "bdata": "3daZrhOu0D8vUqaIF0TaP8pmxG8rvts/DkyKkJsQ1j/f2jO/LeLmPyvJTQi2k+c/I/U/p07d6T8F6Lq7winrP7HYRMWKFOQ/hdxOUEr83j8=",
           "dtype": "f8"
          },
          "type": "data",
          "visible": true
         },
         "line": {
          "color": "royalblue"
         },
         "marker": {
          "size": 6
         },
         "mode": "lines+markers",
         "name": "Mean biomass using log10 method",
         "type": "scatter",
         "x": {
          "bdata": "AQIDBAUGBwgJCg==",
          "dtype": "i1"
         },
         "y": {
          "bdata": "de2PfgULoT8w/YXSPlqSP1g7NX680IM/GLiKs0B3tj8UHxScPW7CP6zK3KKErME/vjqkl0Gnoj/xUlD+oTChP/+tGPQoM50/7fkzHHowlD8=",
          "dtype": "f8"
         }
        },
        {
         "marker": {
          "color": "red",
          "size": 8,
          "symbol": "circle"
         },
         "mode": "markers",
         "name": "Median biomass",
         "type": "scatter",
         "x": {
          "bdata": "AQIDBAUGBwgJCg==",
          "dtype": "i1"
         },
         "y": {
          "bdata": "P0xLnFJJoz/yyQUHFReOP2zh5QFoBXs/lJ6ZJBpVrT/P0v7rTt/AP2rgfktJLbo/oO0yxKtmnj99gYxDAJmVP+lEGJ8Hd5Q/UE0BWDhClj8=",
          "dtype": "f8"
         }
        },
        {
         "marker": {
          "color": "orange",
          "size": 8,
          "symbol": "circle"
         },
         "mode": "markers",
         "name": "Median biomass using log10 method",
         "type": "scatter",
         "x": {
          "bdata": "AQIDBAUGBwgJCg==",
          "dtype": "i1"
         },
         "y": {
          "bdata": "P0xLnFJJoz+58UM9EfmOP0yKUdaj5YI/kp6ZJBpVrT81lprsUKbCPw8j4jlvVr8/JlJ+FQmSoD9BLS6p+oCaP/DlJnC9C5g/PIC6fvbYmD8=",
          "dtype": "f8"
         }
        },
        {
         "marker": {
          "color": "lightgrey"
         },
         "name": "Valid data count",
         "opacity": 0.4,
         "type": "bar",
         "x": {
          "bdata": "AQIDBAUGBwgJCg==",
          "dtype": "i1"
         },
         "y": {
          "bdata": "BSUFBUQuHSovFQ==",
          "dtype": "i1"
         },
         "yaxis": "y2"
        }
       ],
       "layout": {
        "legend": {
         "x": 0.01,
         "y": 0.99
        },
        "template": {
         "data": {
          "bar": [
           {
            "error_x": {
             "color": "#2a3f5f"
            },
            "error_y": {
             "color": "#2a3f5f"
            },
            "marker": {
             "line": {
              "color": "white",
              "width": 0.5
             },
             "pattern": {
              "fillmode": "overlay",
              "size": 10,
              "solidity": 0.2
             }
            },
            "type": "bar"
           }
          ],
          "barpolar": [
           {
            "marker": {
             "line": {
              "color": "white",
              "width": 0.5
             },
             "pattern": {
              "fillmode": "overlay",
              "size": 10,
              "solidity": 0.2
             }
            },
            "type": "barpolar"
           }
          ],
          "carpet": [
           {
            "aaxis": {
             "endlinecolor": "#2a3f5f",
             "gridcolor": "#C8D4E3",
             "linecolor": "#C8D4E3",
             "minorgridcolor": "#C8D4E3",
             "startlinecolor": "#2a3f5f"
            },
            "baxis": {
             "endlinecolor": "#2a3f5f",
             "gridcolor": "#C8D4E3",
             "linecolor": "#C8D4E3",
             "minorgridcolor": "#C8D4E3",
             "startlinecolor": "#2a3f5f"
            },
            "type": "carpet"
           }
          ],
          "choropleth": [
           {
            "colorbar": {
             "outlinewidth": 0,
             "ticks": ""
            },
            "type": "choropleth"
           }
          ],
          "contour": [
           {
            "colorbar": {
             "outlinewidth": 0,
             "ticks": ""
            },
            "colorscale": [
             [
              0,
              "#0d0887"
             ],
             [
              0.1111111111111111,
              "#46039f"
             ],
             [
              0.2222222222222222,
              "#7201a8"
             ],
             [
              0.3333333333333333,
              "#9c179e"
             ],
             [
              0.4444444444444444,
              "#bd3786"
             ],
             [
              0.5555555555555556,
              "#d8576b"
             ],
             [
              0.6666666666666666,
              "#ed7953"
             ],
             [
              0.7777777777777778,
              "#fb9f3a"
             ],
             [
              0.8888888888888888,
              "#fdca26"
             ],
             [
              1,
              "#f0f921"
             ]
            ],
            "type": "contour"
           }
          ],
          "contourcarpet": [
           {
            "colorbar": {
             "outlinewidth": 0,
             "ticks": ""
            },
            "type": "contourcarpet"
           }
          ],
          "heatmap": [
           {
            "colorbar": {
             "outlinewidth": 0,
             "ticks": ""
            },
            "colorscale": [
             [
              0,
              "#0d0887"
             ],
             [
              0.1111111111111111,
              "#46039f"
             ],
             [
              0.2222222222222222,
              "#7201a8"
             ],
             [
              0.3333333333333333,
              "#9c179e"
             ],
             [
              0.4444444444444444,
              "#bd3786"
             ],
             [
              0.5555555555555556,
              "#d8576b"
             ],
             [
              0.6666666666666666,
              "#ed7953"
             ],
             [
              0.7777777777777778,
              "#fb9f3a"
             ],
             [
              0.8888888888888888,
              "#fdca26"
             ],
             [
              1,
              "#f0f921"
             ]
            ],
            "type": "heatmap"
           }
          ],
          "histogram": [
           {
            "marker": {
             "pattern": {
              "fillmode": "overlay",
              "size": 10,
              "solidity": 0.2
             }
            },
            "type": "histogram"
           }
          ],
          "histogram2d": [
           {
            "colorbar": {
             "outlinewidth": 0,
             "ticks": ""
            },
            "colorscale": [
             [
              0,
              "#0d0887"
             ],
             [
              0.1111111111111111,
              "#46039f"
             ],
             [
              0.2222222222222222,
              "#7201a8"
             ],
             [
              0.3333333333333333,
              "#9c179e"
             ],
             [
              0.4444444444444444,
              "#bd3786"
             ],
             [
              0.5555555555555556,
              "#d8576b"
             ],
             [
              0.6666666666666666,
              "#ed7953"
             ],
             [
              0.7777777777777778,
              "#fb9f3a"
             ],
             [
              0.8888888888888888,
              "#fdca26"
             ],
             [
              1,
              "#f0f921"
             ]
            ],
            "type": "histogram2d"
           }
          ],
          "histogram2dcontour": [
           {
            "colorbar": {
             "outlinewidth": 0,
             "ticks": ""
            },
            "colorscale": [
             [
              0,
              "#0d0887"
             ],
             [
              0.1111111111111111,
              "#46039f"
             ],
             [
              0.2222222222222222,
              "#7201a8"
             ],
             [
              0.3333333333333333,
              "#9c179e"
             ],
             [
              0.4444444444444444,
              "#bd3786"
             ],
             [
              0.5555555555555556,
              "#d8576b"
             ],
             [
              0.6666666666666666,
              "#ed7953"
             ],
             [
              0.7777777777777778,
              "#fb9f3a"
             ],
             [
              0.8888888888888888,
              "#fdca26"
             ],
             [
              1,
              "#f0f921"
             ]
            ],
            "type": "histogram2dcontour"
           }
          ],
          "mesh3d": [
           {
            "colorbar": {
             "outlinewidth": 0,
             "ticks": ""
            },
            "type": "mesh3d"
           }
          ],
          "parcoords": [
           {
            "line": {
             "colorbar": {
              "outlinewidth": 0,
              "ticks": ""
             }
            },
            "type": "parcoords"
           }
          ],
          "pie": [
           {
            "automargin": true,
            "type": "pie"
           }
          ],
          "scatter": [
           {
            "fillpattern": {
             "fillmode": "overlay",
             "size": 10,
             "solidity": 0.2
            },
            "type": "scatter"
           }
          ],
          "scatter3d": [
           {
            "line": {
             "colorbar": {
              "outlinewidth": 0,
              "ticks": ""
             }
            },
            "marker": {
             "colorbar": {
              "outlinewidth": 0,
              "ticks": ""
             }
            },
            "type": "scatter3d"
           }
          ],
          "scattercarpet": [
           {
            "marker": {
             "colorbar": {
              "outlinewidth": 0,
              "ticks": ""
             }
            },
            "type": "scattercarpet"
           }
          ],
          "scattergeo": [
           {
            "marker": {
             "colorbar": {
              "outlinewidth": 0,
              "ticks": ""
             }
            },
            "type": "scattergeo"
           }
          ],
          "scattergl": [
           {
            "marker": {
             "colorbar": {
              "outlinewidth": 0,
              "ticks": ""
             }
            },
            "type": "scattergl"
           }
          ],
          "scattermap": [
           {
            "marker": {
             "colorbar": {
              "outlinewidth": 0,
              "ticks": ""
             }
            },
            "type": "scattermap"
           }
          ],
          "scattermapbox": [
           {
            "marker": {
             "colorbar": {
              "outlinewidth": 0,
              "ticks": ""
             }
            },
            "type": "scattermapbox"
           }
          ],
          "scatterpolar": [
           {
            "marker": {
             "colorbar": {
              "outlinewidth": 0,
              "ticks": ""
             }
            },
            "type": "scatterpolar"
           }
          ],
          "scatterpolargl": [
           {
            "marker": {
             "colorbar": {
              "outlinewidth": 0,
              "ticks": ""
             }
            },
            "type": "scatterpolargl"
           }
          ],
          "scatterternary": [
           {
            "marker": {
             "colorbar": {
              "outlinewidth": 0,
              "ticks": ""
             }
            },
            "type": "scatterternary"
           }
          ],
          "surface": [
           {
            "colorbar": {
             "outlinewidth": 0,
             "ticks": ""
            },
            "colorscale": [
             [
              0,
              "#0d0887"
             ],
             [
              0.1111111111111111,
              "#46039f"
             ],
             [
              0.2222222222222222,
              "#7201a8"
             ],
             [
              0.3333333333333333,
              "#9c179e"
             ],
             [
              0.4444444444444444,
              "#bd3786"
             ],
             [
              0.5555555555555556,
              "#d8576b"
             ],
             [
              0.6666666666666666,
              "#ed7953"
             ],
             [
              0.7777777777777778,
              "#fb9f3a"
             ],
             [
              0.8888888888888888,
              "#fdca26"
             ],
             [
              1,
              "#f0f921"
             ]
            ],
            "type": "surface"
           }
          ],
          "table": [
           {
            "cells": {
             "fill": {
              "color": "#EBF0F8"
             },
             "line": {
              "color": "white"
             }
            },
            "header": {
             "fill": {
              "color": "#C8D4E3"
             },
             "line": {
              "color": "white"
             }
            },
            "type": "table"
           }
          ]
         },
         "layout": {
          "annotationdefaults": {
           "arrowcolor": "#2a3f5f",
           "arrowhead": 0,
           "arrowwidth": 1
          },
          "autotypenumbers": "strict",
          "coloraxis": {
           "colorbar": {
            "outlinewidth": 0,
            "ticks": ""
           }
          },
          "colorscale": {
           "diverging": [
            [
             0,
             "#8e0152"
            ],
            [
             0.1,
             "#c51b7d"
            ],
            [
             0.2,
             "#de77ae"
            ],
            [
             0.3,
             "#f1b6da"
            ],
            [
             0.4,
             "#fde0ef"
            ],
            [
             0.5,
             "#f7f7f7"
            ],
            [
             0.6,
             "#e6f5d0"
            ],
            [
             0.7,
             "#b8e186"
            ],
            [
             0.8,
             "#7fbc41"
            ],
            [
             0.9,
             "#4d9221"
            ],
            [
             1,
             "#276419"
            ]
           ],
           "sequential": [
            [
             0,
             "#0d0887"
            ],
            [
             0.1111111111111111,
             "#46039f"
            ],
            [
             0.2222222222222222,
             "#7201a8"
            ],
            [
             0.3333333333333333,
             "#9c179e"
            ],
            [
             0.4444444444444444,
             "#bd3786"
            ],
            [
             0.5555555555555556,
             "#d8576b"
            ],
            [
             0.6666666666666666,
             "#ed7953"
            ],
            [
             0.7777777777777778,
             "#fb9f3a"
            ],
            [
             0.8888888888888888,
             "#fdca26"
            ],
            [
             1,
             "#f0f921"
            ]
           ],
           "sequentialminus": [
            [
             0,
             "#0d0887"
            ],
            [
             0.1111111111111111,
             "#46039f"
            ],
            [
             0.2222222222222222,
             "#7201a8"
            ],
            [
             0.3333333333333333,
             "#9c179e"
            ],
            [
             0.4444444444444444,
             "#bd3786"
            ],
            [
             0.5555555555555556,
             "#d8576b"
            ],
            [
             0.6666666666666666,
             "#ed7953"
            ],
            [
             0.7777777777777778,
             "#fb9f3a"
            ],
            [
             0.8888888888888888,
             "#fdca26"
            ],
            [
             1,
             "#f0f921"
            ]
           ]
          },
          "colorway": [
           "#636efa",
           "#EF553B",
           "#00cc96",
           "#ab63fa",
           "#FFA15A",
           "#19d3f3",
           "#FF6692",
           "#B6E880",
           "#FF97FF",
           "#FECB52"
          ],
          "font": {
           "color": "#2a3f5f"
          },
          "geo": {
           "bgcolor": "white",
           "lakecolor": "white",
           "landcolor": "white",
           "showlakes": true,
           "showland": true,
           "subunitcolor": "#C8D4E3"
          },
          "hoverlabel": {
           "align": "left"
          },
          "hovermode": "closest",
          "mapbox": {
           "style": "light"
          },
          "paper_bgcolor": "white",
          "plot_bgcolor": "white",
          "polar": {
           "angularaxis": {
            "gridcolor": "#EBF0F8",
            "linecolor": "#EBF0F8",
            "ticks": ""
           },
           "bgcolor": "white",
           "radialaxis": {
            "gridcolor": "#EBF0F8",
            "linecolor": "#EBF0F8",
            "ticks": ""
           }
          },
          "scene": {
           "xaxis": {
            "backgroundcolor": "white",
            "gridcolor": "#DFE8F3",
            "gridwidth": 2,
            "linecolor": "#EBF0F8",
            "showbackground": true,
            "ticks": "",
            "zerolinecolor": "#EBF0F8"
           },
           "yaxis": {
            "backgroundcolor": "white",
            "gridcolor": "#DFE8F3",
            "gridwidth": 2,
            "linecolor": "#EBF0F8",
            "showbackground": true,
            "ticks": "",
            "zerolinecolor": "#EBF0F8"
           },
           "zaxis": {
            "backgroundcolor": "white",
            "gridcolor": "#DFE8F3",
            "gridwidth": 2,
            "linecolor": "#EBF0F8",
            "showbackground": true,
            "ticks": "",
            "zerolinecolor": "#EBF0F8"
           }
          },
          "shapedefaults": {
           "line": {
            "color": "#2a3f5f"
           }
          },
          "ternary": {
           "aaxis": {
            "gridcolor": "#DFE8F3",
            "linecolor": "#A2B1C6",
            "ticks": ""
           },
           "baxis": {
            "gridcolor": "#DFE8F3",
            "linecolor": "#A2B1C6",
            "ticks": ""
           },
           "bgcolor": "white",
           "caxis": {
            "gridcolor": "#DFE8F3",
            "linecolor": "#A2B1C6",
            "ticks": ""
           }
          },
          "title": {
           "x": 0.05
          },
          "xaxis": {
           "automargin": true,
           "gridcolor": "#EBF0F8",
           "linecolor": "#EBF0F8",
           "ticks": "",
           "title": {
            "standoff": 15
           },
           "zerolinecolor": "#EBF0F8",
           "zerolinewidth": 2
          },
          "yaxis": {
           "automargin": true,
           "gridcolor": "#EBF0F8",
           "linecolor": "#EBF0F8",
           "ticks": "",
           "title": {
            "standoff": 15
           },
           "zerolinecolor": "#EBF0F8",
           "zerolinewidth": 2
          }
         }
        },
        "title": {
         "text": "Monthly Climatology of Pteropod Biomass "
        },
        "xaxis": {
         "title": {
          "text": "Month"
         }
        },
        "yaxis": {
         "title": {
          "text": "Mean Biomass [g m-2]"
         },
         "type": "log"
        },
        "yaxis2": {
         "overlaying": "y",
         "showgrid": false,
         "side": "right",
         "title": {
          "text": "Non-NaN count"
         }
        }
       }
      }
     },
     "metadata": {},
     "output_type": "display_data"
    }
   ],
   "source": [
    "fig = go.Figure()\n",
    "\n",
    "# Mean + standard deviation (curve with error intervals)\n",
    "fig.add_trace(go.Scatter(\n",
    "    x=df_clim_v2['month'],\n",
    "    y=df_clim_v2['pteropod_biomass_gm2_mean'],\n",
    "    mode='lines+markers',\n",
    "    name='Mean biomass using log10 method',\n",
    "    error_y=dict(\n",
    "        type='data',\n",
    "        array=df_clim_v2['pteropod_biomass_gm2_std'],\n",
    "        visible=True\n",
    "    ),\n",
    "    line=dict(color='royalblue'),\n",
    "    marker=dict(size=6)\n",
    "))\n",
    "# Median (previous)\n",
    "fig.add_trace(go.Scatter(\n",
    "    x=df_clim['month'],\n",
    "    y=df_clim['pteropod_biomass_median'],\n",
    "    mode='markers',\n",
    "    name='Median biomass',\n",
    "    marker=dict(color='red', symbol='circle', size=8)\n",
    "))\n",
    "# Median (dots)\n",
    "fig.add_trace(go.Scatter(\n",
    "    x=df_clim_v2['month'],\n",
    "    y=df_clim_v2['pteropod_biomass_median'],\n",
    "    mode='markers',\n",
    "    name='Median biomass using log10 method',\n",
    "    marker=dict(color='orange', symbol='circle', size=8)\n",
    ")) \n",
    "\n",
    "\n",
    "# non-NaN count (bar, second axis)\n",
    "fig.add_trace(go.Bar(\n",
    "    x=df_clim_v2['month'],\n",
    "    y=df_clim_v2['non_nan_count'],\n",
    "    name='Valid data count',\n",
    "    yaxis='y2',\n",
    "    opacity=0.4,\n",
    "    marker_color='lightgrey'\n",
    "))\n",
    "\n",
    "# presentation\n",
    "fig.update_layout(\n",
    "    title='Monthly Climatology of Pteropod Biomass ',\n",
    "    xaxis=dict(title='Month'),\n",
    "    yaxis=dict(\n",
    "        type='log',\n",
    "        title='Mean Biomass [g m-2]',\n",
    "        #range=[df_clim[\"pteropods_mean\"].min() * 0.9, df_clim[\"pteropods_mean\"].max() * 3.4]  # dynamic adjustment\n",
    "    ),\n",
    "    yaxis2=dict(\n",
    "        title='Non-NaN count',\n",
    "        overlaying='y',\n",
    "        side='right',\n",
    "        showgrid=False\n",
    "    ),\n",
    "    legend=dict(x=0.01, y=0.99),\n",
    "    template='plotly_white'\n",
    ")\n",
    "\n",
    "fig.show()\n"
   ]
  },
  {
   "cell_type": "markdown",
   "id": "d1ebf825",
   "metadata": {},
   "source": [
    "### Compare with litterature"
   ]
  },
  {
   "cell_type": "code",
   "execution_count": 109,
   "id": "597b591c",
   "metadata": {},
   "outputs": [
    {
     "data": {
      "text/html": [
       "<div>\n",
       "<style scoped>\n",
       "    .dataframe tbody tr th:only-of-type {\n",
       "        vertical-align: middle;\n",
       "    }\n",
       "\n",
       "    .dataframe tbody tr th {\n",
       "        vertical-align: top;\n",
       "    }\n",
       "\n",
       "    .dataframe thead th {\n",
       "        text-align: right;\n",
       "    }\n",
       "</style>\n",
       "<table border=\"1\" class=\"dataframe\">\n",
       "  <thead>\n",
       "    <tr style=\"text-align: right;\">\n",
       "      <th></th>\n",
       "      <th>season</th>\n",
       "      <th>pteropod_biomass_gm2_mean</th>\n",
       "      <th>pteropod_biomass_gm2_std</th>\n",
       "      <th>pteropod_biomass_median</th>\n",
       "      <th>non_nan_count</th>\n",
       "    </tr>\n",
       "  </thead>\n",
       "  <tbody>\n",
       "    <tr>\n",
       "      <th>0</th>\n",
       "      <td>Feb-Mar</td>\n",
       "      <td>0.016654</td>\n",
       "      <td>0.422218</td>\n",
       "      <td>0.014732</td>\n",
       "      <td>42</td>\n",
       "    </tr>\n",
       "    <tr>\n",
       "      <th>1</th>\n",
       "      <td>May-Jun</td>\n",
       "      <td>0.141574</td>\n",
       "      <td>0.723988</td>\n",
       "      <td>0.138185</td>\n",
       "      <td>114</td>\n",
       "    </tr>\n",
       "    <tr>\n",
       "      <th>2</th>\n",
       "      <td>Aug-Sep</td>\n",
       "      <td>0.030800</td>\n",
       "      <td>0.741100</td>\n",
       "      <td>0.023482</td>\n",
       "      <td>89</td>\n",
       "    </tr>\n",
       "  </tbody>\n",
       "</table>\n",
       "</div>"
      ],
      "text/plain": [
       "    season  pteropod_biomass_gm2_mean  pteropod_biomass_gm2_std  \\\n",
       "0  Feb-Mar                   0.016654                  0.422218   \n",
       "1  May-Jun                   0.141574                  0.723988   \n",
       "2  Aug-Sep                   0.030800                  0.741100   \n",
       "\n",
       "   pteropod_biomass_median  non_nan_count  \n",
       "0                 0.014732             42  \n",
       "1                 0.138185            114  \n",
       "2                 0.023482             89  "
      ]
     },
     "execution_count": 109,
     "metadata": {},
     "output_type": "execute_result"
    }
   ],
   "source": [
    "#define Seasons\n",
    "def get_group_month(month):\n",
    "    if month in [2,3]: #February March\n",
    "        return \"Feb-Mar\"\n",
    "    elif month in [5,6]: #May June\n",
    "        return \"May-Jun\"\n",
    "    elif month in [8,9]: # August September\n",
    "        return \"Aug-Sep\"\n",
    "    else: # Not taken into account in the paper\n",
    "        return \"Others\"\n",
    "# get season\n",
    "paperseason_labels = xr.apply_ufunc(\n",
    "    np.vectorize(get_group_month),\n",
    "    ds_pter_log10['month'],\n",
    "    vectorize=True\n",
    ")\n",
    "\n",
    "# Add season to \n",
    "\n",
    "ds_pter_log10 = ds_pter_log10.assign_coords(season=(\"time\", paperseason_labels.data))\n",
    "\n",
    "#compute seasonal climatology\n",
    "paperseasonal_mean = ds_pter_log10.groupby('season').mean(dim=['time', 'longitude', 'latitude', 'depth', 'is_day'], skipna=True)\n",
    "paperseasonal_std = ds_pter_log10.groupby('season').std(dim=['time', 'longitude', 'latitude', 'depth', 'is_day'], skipna=True)\n",
    "paperseasonal_median = ds_pter_log10.groupby('season').median(dim=['time', 'longitude', 'latitude', 'depth', 'is_day'], skipna=True)\n",
    "paperseasonal_count = ds_pter_log10.groupby('season').count(dim=['time', 'longitude', 'latitude', 'depth', 'is_day'])\n",
    "#convert back in (normal 10**)\n",
    "paperseasonal_mean=10**paperseasonal_mean\n",
    "paperseasonal_median=10**paperseasonal_median\n",
    "# DataFrame for ploty\n",
    "df_seasonal_mean = paperseasonal_mean.to_dataframe().reset_index()\n",
    "df_seasonal_std = paperseasonal_std.to_dataframe().reset_index()\n",
    "df_seasonal_median = paperseasonal_median.to_dataframe(name=\"pteropod_biomass_median\").reset_index()\n",
    "df_seasonal_count = paperseasonal_count.to_dataframe(name=\"non_nan_count\").reset_index()\n",
    "\n",
    "df_paperseasonal = df_seasonal_mean.merge(df_seasonal_std, on=\"season\", suffixes=(\"_mean\", \"_std\"))\n",
    "df_paperseasonal = df_paperseasonal.merge(df_seasonal_median, on=\"season\")\n",
    "df_paperseasonal = df_paperseasonal.merge(df_seasonal_count, on=\"season\")\n",
    "\n",
    "#re-order seasons\n",
    "from pandas.api.types import CategoricalDtype\n",
    "\n",
    "# define ordrer\n",
    "paperseason_order = CategoricalDtype(\n",
    "    categories=[\"Feb-Mar\", \"May-Jun\", \"Aug-Sep\", \"Others\"],\n",
    "    ordered=True\n",
    ")\n",
    "\n",
    "# re-order\n",
    "df_paperseasonal[\"season\"] = df_paperseasonal[\"season\"].astype(paperseason_order)\n",
    "\n",
    "# sort dataframe\n",
    "df_paperseasonal = df_paperseasonal.sort_values(\"season\").reset_index(drop=True)\n",
    "\n",
    "df_paperseasonal=df_paperseasonal[:3] # Remove others months\n",
    "df_paperseasonal"
   ]
  },
  {
   "cell_type": "code",
   "execution_count": 104,
   "id": "121be1b0",
   "metadata": {},
   "outputs": [
    {
     "data": {
      "application/vnd.plotly.v1+json": {
       "config": {
        "plotlyServerURL": "https://plot.ly"
       },
       "data": [
        {
         "marker": {
          "color": "green",
          "size": 8,
          "symbol": "circle"
         },
         "mode": "markers",
         "name": "Median biomass x daily pld",
         "type": "scatter",
         "x": [
          "Feb-Mar",
          "May-Jun",
          "Aug-Sep"
         ],
         "y": {
          "bdata": "SamQht8rjj/xXS1dCbDBP/DlJnC9C5g/",
          "dtype": "f8"
         }
        },
        {
         "marker": {
          "color": "red",
          "size": 10,
          "symbol": "triangle-up"
         },
         "mode": "markers",
         "name": "Clione (from paper)",
         "type": "scatter",
         "x": [
          "Feb-Mar",
          "May-Jun",
          "Aug-Sep"
         ],
         "y": {
          "bdata": "y7kUV5V9hz9wJTs2AvG2P3zzGyYapKA/",
          "dtype": "f8"
         }
        },
        {
         "marker": {
          "color": "pink",
          "size": 10,
          "symbol": "triangle-down"
         },
         "mode": "markers",
         "name": "Limacina (from paper)",
         "type": "scatter",
         "x": [
          "Feb-Mar",
          "May-Jun",
          "Aug-Sep"
         ],
         "y": {
          "bdata": "qWqCqPsA6T+wOJz51ZwTQDQSoRFsXNs/",
          "dtype": "f8"
         }
        }
       ],
       "layout": {
        "legend": {
         "x": 0.01,
         "y": 0.99
        },
        "template": {
         "data": {
          "bar": [
           {
            "error_x": {
             "color": "#2a3f5f"
            },
            "error_y": {
             "color": "#2a3f5f"
            },
            "marker": {
             "line": {
              "color": "white",
              "width": 0.5
             },
             "pattern": {
              "fillmode": "overlay",
              "size": 10,
              "solidity": 0.2
             }
            },
            "type": "bar"
           }
          ],
          "barpolar": [
           {
            "marker": {
             "line": {
              "color": "white",
              "width": 0.5
             },
             "pattern": {
              "fillmode": "overlay",
              "size": 10,
              "solidity": 0.2
             }
            },
            "type": "barpolar"
           }
          ],
          "carpet": [
           {
            "aaxis": {
             "endlinecolor": "#2a3f5f",
             "gridcolor": "#C8D4E3",
             "linecolor": "#C8D4E3",
             "minorgridcolor": "#C8D4E3",
             "startlinecolor": "#2a3f5f"
            },
            "baxis": {
             "endlinecolor": "#2a3f5f",
             "gridcolor": "#C8D4E3",
             "linecolor": "#C8D4E3",
             "minorgridcolor": "#C8D4E3",
             "startlinecolor": "#2a3f5f"
            },
            "type": "carpet"
           }
          ],
          "choropleth": [
           {
            "colorbar": {
             "outlinewidth": 0,
             "ticks": ""
            },
            "type": "choropleth"
           }
          ],
          "contour": [
           {
            "colorbar": {
             "outlinewidth": 0,
             "ticks": ""
            },
            "colorscale": [
             [
              0,
              "#0d0887"
             ],
             [
              0.1111111111111111,
              "#46039f"
             ],
             [
              0.2222222222222222,
              "#7201a8"
             ],
             [
              0.3333333333333333,
              "#9c179e"
             ],
             [
              0.4444444444444444,
              "#bd3786"
             ],
             [
              0.5555555555555556,
              "#d8576b"
             ],
             [
              0.6666666666666666,
              "#ed7953"
             ],
             [
              0.7777777777777778,
              "#fb9f3a"
             ],
             [
              0.8888888888888888,
              "#fdca26"
             ],
             [
              1,
              "#f0f921"
             ]
            ],
            "type": "contour"
           }
          ],
          "contourcarpet": [
           {
            "colorbar": {
             "outlinewidth": 0,
             "ticks": ""
            },
            "type": "contourcarpet"
           }
          ],
          "heatmap": [
           {
            "colorbar": {
             "outlinewidth": 0,
             "ticks": ""
            },
            "colorscale": [
             [
              0,
              "#0d0887"
             ],
             [
              0.1111111111111111,
              "#46039f"
             ],
             [
              0.2222222222222222,
              "#7201a8"
             ],
             [
              0.3333333333333333,
              "#9c179e"
             ],
             [
              0.4444444444444444,
              "#bd3786"
             ],
             [
              0.5555555555555556,
              "#d8576b"
             ],
             [
              0.6666666666666666,
              "#ed7953"
             ],
             [
              0.7777777777777778,
              "#fb9f3a"
             ],
             [
              0.8888888888888888,
              "#fdca26"
             ],
             [
              1,
              "#f0f921"
             ]
            ],
            "type": "heatmap"
           }
          ],
          "histogram": [
           {
            "marker": {
             "pattern": {
              "fillmode": "overlay",
              "size": 10,
              "solidity": 0.2
             }
            },
            "type": "histogram"
           }
          ],
          "histogram2d": [
           {
            "colorbar": {
             "outlinewidth": 0,
             "ticks": ""
            },
            "colorscale": [
             [
              0,
              "#0d0887"
             ],
             [
              0.1111111111111111,
              "#46039f"
             ],
             [
              0.2222222222222222,
              "#7201a8"
             ],
             [
              0.3333333333333333,
              "#9c179e"
             ],
             [
              0.4444444444444444,
              "#bd3786"
             ],
             [
              0.5555555555555556,
              "#d8576b"
             ],
             [
              0.6666666666666666,
              "#ed7953"
             ],
             [
              0.7777777777777778,
              "#fb9f3a"
             ],
             [
              0.8888888888888888,
              "#fdca26"
             ],
             [
              1,
              "#f0f921"
             ]
            ],
            "type": "histogram2d"
           }
          ],
          "histogram2dcontour": [
           {
            "colorbar": {
             "outlinewidth": 0,
             "ticks": ""
            },
            "colorscale": [
             [
              0,
              "#0d0887"
             ],
             [
              0.1111111111111111,
              "#46039f"
             ],
             [
              0.2222222222222222,
              "#7201a8"
             ],
             [
              0.3333333333333333,
              "#9c179e"
             ],
             [
              0.4444444444444444,
              "#bd3786"
             ],
             [
              0.5555555555555556,
              "#d8576b"
             ],
             [
              0.6666666666666666,
              "#ed7953"
             ],
             [
              0.7777777777777778,
              "#fb9f3a"
             ],
             [
              0.8888888888888888,
              "#fdca26"
             ],
             [
              1,
              "#f0f921"
             ]
            ],
            "type": "histogram2dcontour"
           }
          ],
          "mesh3d": [
           {
            "colorbar": {
             "outlinewidth": 0,
             "ticks": ""
            },
            "type": "mesh3d"
           }
          ],
          "parcoords": [
           {
            "line": {
             "colorbar": {
              "outlinewidth": 0,
              "ticks": ""
             }
            },
            "type": "parcoords"
           }
          ],
          "pie": [
           {
            "automargin": true,
            "type": "pie"
           }
          ],
          "scatter": [
           {
            "fillpattern": {
             "fillmode": "overlay",
             "size": 10,
             "solidity": 0.2
            },
            "type": "scatter"
           }
          ],
          "scatter3d": [
           {
            "line": {
             "colorbar": {
              "outlinewidth": 0,
              "ticks": ""
             }
            },
            "marker": {
             "colorbar": {
              "outlinewidth": 0,
              "ticks": ""
             }
            },
            "type": "scatter3d"
           }
          ],
          "scattercarpet": [
           {
            "marker": {
             "colorbar": {
              "outlinewidth": 0,
              "ticks": ""
             }
            },
            "type": "scattercarpet"
           }
          ],
          "scattergeo": [
           {
            "marker": {
             "colorbar": {
              "outlinewidth": 0,
              "ticks": ""
             }
            },
            "type": "scattergeo"
           }
          ],
          "scattergl": [
           {
            "marker": {
             "colorbar": {
              "outlinewidth": 0,
              "ticks": ""
             }
            },
            "type": "scattergl"
           }
          ],
          "scattermap": [
           {
            "marker": {
             "colorbar": {
              "outlinewidth": 0,
              "ticks": ""
             }
            },
            "type": "scattermap"
           }
          ],
          "scattermapbox": [
           {
            "marker": {
             "colorbar": {
              "outlinewidth": 0,
              "ticks": ""
             }
            },
            "type": "scattermapbox"
           }
          ],
          "scatterpolar": [
           {
            "marker": {
             "colorbar": {
              "outlinewidth": 0,
              "ticks": ""
             }
            },
            "type": "scatterpolar"
           }
          ],
          "scatterpolargl": [
           {
            "marker": {
             "colorbar": {
              "outlinewidth": 0,
              "ticks": ""
             }
            },
            "type": "scatterpolargl"
           }
          ],
          "scatterternary": [
           {
            "marker": {
             "colorbar": {
              "outlinewidth": 0,
              "ticks": ""
             }
            },
            "type": "scatterternary"
           }
          ],
          "surface": [
           {
            "colorbar": {
             "outlinewidth": 0,
             "ticks": ""
            },
            "colorscale": [
             [
              0,
              "#0d0887"
             ],
             [
              0.1111111111111111,
              "#46039f"
             ],
             [
              0.2222222222222222,
              "#7201a8"
             ],
             [
              0.3333333333333333,
              "#9c179e"
             ],
             [
              0.4444444444444444,
              "#bd3786"
             ],
             [
              0.5555555555555556,
              "#d8576b"
             ],
             [
              0.6666666666666666,
              "#ed7953"
             ],
             [
              0.7777777777777778,
              "#fb9f3a"
             ],
             [
              0.8888888888888888,
              "#fdca26"
             ],
             [
              1,
              "#f0f921"
             ]
            ],
            "type": "surface"
           }
          ],
          "table": [
           {
            "cells": {
             "fill": {
              "color": "#EBF0F8"
             },
             "line": {
              "color": "white"
             }
            },
            "header": {
             "fill": {
              "color": "#C8D4E3"
             },
             "line": {
              "color": "white"
             }
            },
            "type": "table"
           }
          ]
         },
         "layout": {
          "annotationdefaults": {
           "arrowcolor": "#2a3f5f",
           "arrowhead": 0,
           "arrowwidth": 1
          },
          "autotypenumbers": "strict",
          "coloraxis": {
           "colorbar": {
            "outlinewidth": 0,
            "ticks": ""
           }
          },
          "colorscale": {
           "diverging": [
            [
             0,
             "#8e0152"
            ],
            [
             0.1,
             "#c51b7d"
            ],
            [
             0.2,
             "#de77ae"
            ],
            [
             0.3,
             "#f1b6da"
            ],
            [
             0.4,
             "#fde0ef"
            ],
            [
             0.5,
             "#f7f7f7"
            ],
            [
             0.6,
             "#e6f5d0"
            ],
            [
             0.7,
             "#b8e186"
            ],
            [
             0.8,
             "#7fbc41"
            ],
            [
             0.9,
             "#4d9221"
            ],
            [
             1,
             "#276419"
            ]
           ],
           "sequential": [
            [
             0,
             "#0d0887"
            ],
            [
             0.1111111111111111,
             "#46039f"
            ],
            [
             0.2222222222222222,
             "#7201a8"
            ],
            [
             0.3333333333333333,
             "#9c179e"
            ],
            [
             0.4444444444444444,
             "#bd3786"
            ],
            [
             0.5555555555555556,
             "#d8576b"
            ],
            [
             0.6666666666666666,
             "#ed7953"
            ],
            [
             0.7777777777777778,
             "#fb9f3a"
            ],
            [
             0.8888888888888888,
             "#fdca26"
            ],
            [
             1,
             "#f0f921"
            ]
           ],
           "sequentialminus": [
            [
             0,
             "#0d0887"
            ],
            [
             0.1111111111111111,
             "#46039f"
            ],
            [
             0.2222222222222222,
             "#7201a8"
            ],
            [
             0.3333333333333333,
             "#9c179e"
            ],
            [
             0.4444444444444444,
             "#bd3786"
            ],
            [
             0.5555555555555556,
             "#d8576b"
            ],
            [
             0.6666666666666666,
             "#ed7953"
            ],
            [
             0.7777777777777778,
             "#fb9f3a"
            ],
            [
             0.8888888888888888,
             "#fdca26"
            ],
            [
             1,
             "#f0f921"
            ]
           ]
          },
          "colorway": [
           "#636efa",
           "#EF553B",
           "#00cc96",
           "#ab63fa",
           "#FFA15A",
           "#19d3f3",
           "#FF6692",
           "#B6E880",
           "#FF97FF",
           "#FECB52"
          ],
          "font": {
           "color": "#2a3f5f"
          },
          "geo": {
           "bgcolor": "white",
           "lakecolor": "white",
           "landcolor": "white",
           "showlakes": true,
           "showland": true,
           "subunitcolor": "#C8D4E3"
          },
          "hoverlabel": {
           "align": "left"
          },
          "hovermode": "closest",
          "mapbox": {
           "style": "light"
          },
          "paper_bgcolor": "white",
          "plot_bgcolor": "white",
          "polar": {
           "angularaxis": {
            "gridcolor": "#EBF0F8",
            "linecolor": "#EBF0F8",
            "ticks": ""
           },
           "bgcolor": "white",
           "radialaxis": {
            "gridcolor": "#EBF0F8",
            "linecolor": "#EBF0F8",
            "ticks": ""
           }
          },
          "scene": {
           "xaxis": {
            "backgroundcolor": "white",
            "gridcolor": "#DFE8F3",
            "gridwidth": 2,
            "linecolor": "#EBF0F8",
            "showbackground": true,
            "ticks": "",
            "zerolinecolor": "#EBF0F8"
           },
           "yaxis": {
            "backgroundcolor": "white",
            "gridcolor": "#DFE8F3",
            "gridwidth": 2,
            "linecolor": "#EBF0F8",
            "showbackground": true,
            "ticks": "",
            "zerolinecolor": "#EBF0F8"
           },
           "zaxis": {
            "backgroundcolor": "white",
            "gridcolor": "#DFE8F3",
            "gridwidth": 2,
            "linecolor": "#EBF0F8",
            "showbackground": true,
            "ticks": "",
            "zerolinecolor": "#EBF0F8"
           }
          },
          "shapedefaults": {
           "line": {
            "color": "#2a3f5f"
           }
          },
          "ternary": {
           "aaxis": {
            "gridcolor": "#DFE8F3",
            "linecolor": "#A2B1C6",
            "ticks": ""
           },
           "baxis": {
            "gridcolor": "#DFE8F3",
            "linecolor": "#A2B1C6",
            "ticks": ""
           },
           "bgcolor": "white",
           "caxis": {
            "gridcolor": "#DFE8F3",
            "linecolor": "#A2B1C6",
            "ticks": ""
           }
          },
          "title": {
           "x": 0.05
          },
          "xaxis": {
           "automargin": true,
           "gridcolor": "#EBF0F8",
           "linecolor": "#EBF0F8",
           "ticks": "",
           "title": {
            "standoff": 15
           },
           "zerolinecolor": "#EBF0F8",
           "zerolinewidth": 2
          },
          "yaxis": {
           "automargin": true,
           "gridcolor": "#EBF0F8",
           "linecolor": "#EBF0F8",
           "ticks": "",
           "title": {
            "standoff": 15
           },
           "zerolinecolor": "#EBF0F8",
           "zerolinewidth": 2
          }
         }
        },
        "title": {
         "subtitle": {
          "font": {
           "color": "gray",
           "size": 13
          },
          "text": "comparison with litterature"
         },
         "text": "Average Seasonal Cycles of Pteropod Biomass using log10 stats"
        },
        "xaxis": {
         "title": {
          "text": "Season"
         }
        },
        "yaxis": {
         "title": {
          "text": "Biomass [g m-2]"
         },
         "type": "log"
        },
        "yaxis2": {
         "overlaying": "y",
         "showgrid": false,
         "side": "right",
         "title": {
          "text": "Non-NaN count"
         }
        }
       }
      }
     },
     "metadata": {},
     "output_type": "display_data"
    }
   ],
   "source": [
    "fig = go.Figure()\n",
    "\n",
    "# Median - daily pld\n",
    "fig.add_trace(go.Scatter(\n",
    "    x=df_paperseasonal['season'],\n",
    "    y=df_paperseasonal['pteropod_biomass_median'],\n",
    "    mode='markers',\n",
    "    name='Median biomass x daily pld',\n",
    "    marker=dict(color='green', symbol='circle', size=8)\n",
    "))\n",
    "\n",
    "#add data from paper\n",
    "for species in df_mackasgalbraith[\"species_name\"].unique():\n",
    "    sub_df_mackasgalbraith = df_mackasgalbraith[df_mackasgalbraith[\"species_name\"] == species]\n",
    "    fig.add_trace(go.Scatter(\n",
    "        x=sub_df_mackasgalbraith[\"season\"],\n",
    "        y=sub_df_mackasgalbraith[\"biomass\"],\n",
    "        mode=\"markers\",\n",
    "        name=f'{species} (from paper)',\n",
    "        marker=dict(\n",
    "            size=10,\n",
    "            color='red'if species == \"Clione\" else \"pink\",\n",
    "            symbol=\"triangle-up\" if species == \"Clione\" else \"triangle-down\"\n",
    "        )\n",
    "    ))\n",
    "\n",
    "# presentation\n",
    "fig.update_layout(\n",
    "    title=dict(\n",
    "        text=\"Average Seasonal Cycles of Pteropod Biomass using log10 stats\",\n",
    "        subtitle=dict(\n",
    "            text=\"comparison with litterature\",\n",
    "            font=dict(color=\"gray\", size=13)\n",
    "        )\n",
    "        ),\n",
    "    xaxis=dict(title='Season'),\n",
    "    yaxis=dict(\n",
    "        title='Biomass [g m-2]',\n",
    "        type='log',\n",
    "    ),\n",
    "    yaxis2=dict(\n",
    "        title='Non-NaN count',\n",
    "        overlaying='y',\n",
    "        side='right',\n",
    "        showgrid=False\n",
    "    ),\n",
    "    legend=dict(x=0.01, y=0.99),\n",
    "    template='plotly_white'\n",
    ")\n",
    "\n",
    "fig.show()\n"
   ]
  },
  {
   "cell_type": "markdown",
   "id": "459d1636",
   "metadata": {},
   "source": [
    "Better fit in aug-sep, but a poorer fit for the others months"
   ]
  }
 ],
 "metadata": {
  "kernelspec": {
   "display_name": "Python (seapopym-data)",
   "language": "python",
   "name": "seapopym_data"
  },
  "language_info": {
   "codemirror_mode": {
    "name": "ipython",
    "version": 3
   },
   "file_extension": ".py",
   "mimetype": "text/x-python",
   "name": "python",
   "nbconvert_exporter": "python",
   "pygments_lexer": "ipython3",
   "version": "3.13.2"
  }
 },
 "nbformat": 4,
 "nbformat_minor": 5
}
