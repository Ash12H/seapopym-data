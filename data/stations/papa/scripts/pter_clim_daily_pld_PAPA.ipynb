{
 "cells": [
  {
   "cell_type": "markdown",
   "id": "4f9e664c",
   "metadata": {},
   "source": [
    "# Climatology of pteropods at PAPA\n",
    "\n",
    "Conversion mg/m3 by multiplying with the epipelagic depth of the mesurments day.\n",
    "\n",
    "All pteropods observed at PAPA station : Clio, Gymno, Lim\n",
    "\n",
    "Cleaned Notebook "
   ]
  },
  {
   "cell_type": "markdown",
   "id": "772e2a13",
   "metadata": {},
   "source": [
    "## Set Up"
   ]
  },
  {
   "cell_type": "code",
   "execution_count": 1,
   "id": "1101c35f",
   "metadata": {},
   "outputs": [],
   "source": [
    "# imports\n",
    "import xarray as xr\n",
    "import plotly.express as px\n",
    "import plotly.graph_objects as go\n",
    "from plotly.subplots import make_subplots\n",
    "import pandas as pd\n",
    "import numpy as np "
   ]
  },
  {
   "cell_type": "markdown",
   "id": "32a1b672",
   "metadata": {},
   "source": [
    "<div style=\"padding: 10px; border-radius: 5px; background-color: #cce5ff; color: #004085; border-left: 5px solid #007bff;\">\n",
    "    <strong>Note :</strong> Let's use the most widespread method to deal with leap years : exclude 29 of February\n",
    "</div>"
   ]
  },
  {
   "cell_type": "code",
   "execution_count": 2,
   "id": "a8690e0b",
   "metadata": {},
   "outputs": [],
   "source": [
    "# Create the mapping MM-DD -> day (except leap years)\n",
    "days = pd.date_range('2001-01-01', '2001-12-31')  # 2001 not a leap year\n",
    "mmdd_to_day = {d.strftime('%m-%d'): i+1 for i, d in enumerate(days)}"
   ]
  },
  {
   "cell_type": "code",
   "execution_count": 3,
   "id": "f32c88ef",
   "metadata": {},
   "outputs": [
    {
     "data": {
      "text/html": [
       "<div><svg style=\"position: absolute; width: 0; height: 0; overflow: hidden\">\n",
       "<defs>\n",
       "<symbol id=\"icon-database\" viewBox=\"0 0 32 32\">\n",
       "<path d=\"M16 0c-8.837 0-16 2.239-16 5v4c0 2.761 7.163 5 16 5s16-2.239 16-5v-4c0-2.761-7.163-5-16-5z\"></path>\n",
       "<path d=\"M16 17c-8.837 0-16-2.239-16-5v6c0 2.761 7.163 5 16 5s16-2.239 16-5v-6c0 2.761-7.163 5-16 5z\"></path>\n",
       "<path d=\"M16 26c-8.837 0-16-2.239-16-5v6c0 2.761 7.163 5 16 5s16-2.239 16-5v-6c0 2.761-7.163 5-16 5z\"></path>\n",
       "</symbol>\n",
       "<symbol id=\"icon-file-text2\" viewBox=\"0 0 32 32\">\n",
       "<path d=\"M28.681 7.159c-0.694-0.947-1.662-2.053-2.724-3.116s-2.169-2.030-3.116-2.724c-1.612-1.182-2.393-1.319-2.841-1.319h-15.5c-1.378 0-2.5 1.121-2.5 2.5v27c0 1.378 1.122 2.5 2.5 2.5h23c1.378 0 2.5-1.122 2.5-2.5v-19.5c0-0.448-0.137-1.23-1.319-2.841zM24.543 5.457c0.959 0.959 1.712 1.825 2.268 2.543h-4.811v-4.811c0.718 0.556 1.584 1.309 2.543 2.268zM28 29.5c0 0.271-0.229 0.5-0.5 0.5h-23c-0.271 0-0.5-0.229-0.5-0.5v-27c0-0.271 0.229-0.5 0.5-0.5 0 0 15.499-0 15.5 0v7c0 0.552 0.448 1 1 1h7v19.5z\"></path>\n",
       "<path d=\"M23 26h-14c-0.552 0-1-0.448-1-1s0.448-1 1-1h14c0.552 0 1 0.448 1 1s-0.448 1-1 1z\"></path>\n",
       "<path d=\"M23 22h-14c-0.552 0-1-0.448-1-1s0.448-1 1-1h14c0.552 0 1 0.448 1 1s-0.448 1-1 1z\"></path>\n",
       "<path d=\"M23 18h-14c-0.552 0-1-0.448-1-1s0.448-1 1-1h14c0.552 0 1 0.448 1 1s-0.448 1-1 1z\"></path>\n",
       "</symbol>\n",
       "</defs>\n",
       "</svg>\n",
       "<style>/* CSS stylesheet for displaying xarray objects in jupyterlab.\n",
       " *\n",
       " */\n",
       "\n",
       ":root {\n",
       "  --xr-font-color0: var(--jp-content-font-color0, rgba(0, 0, 0, 1));\n",
       "  --xr-font-color2: var(--jp-content-font-color2, rgba(0, 0, 0, 0.54));\n",
       "  --xr-font-color3: var(--jp-content-font-color3, rgba(0, 0, 0, 0.38));\n",
       "  --xr-border-color: var(--jp-border-color2, #e0e0e0);\n",
       "  --xr-disabled-color: var(--jp-layout-color3, #bdbdbd);\n",
       "  --xr-background-color: var(--jp-layout-color0, white);\n",
       "  --xr-background-color-row-even: var(--jp-layout-color1, white);\n",
       "  --xr-background-color-row-odd: var(--jp-layout-color2, #eeeeee);\n",
       "}\n",
       "\n",
       "html[theme=\"dark\"],\n",
       "html[data-theme=\"dark\"],\n",
       "body[data-theme=\"dark\"],\n",
       "body.vscode-dark {\n",
       "  --xr-font-color0: rgba(255, 255, 255, 1);\n",
       "  --xr-font-color2: rgba(255, 255, 255, 0.54);\n",
       "  --xr-font-color3: rgba(255, 255, 255, 0.38);\n",
       "  --xr-border-color: #1f1f1f;\n",
       "  --xr-disabled-color: #515151;\n",
       "  --xr-background-color: #111111;\n",
       "  --xr-background-color-row-even: #111111;\n",
       "  --xr-background-color-row-odd: #313131;\n",
       "}\n",
       "\n",
       ".xr-wrap {\n",
       "  display: block !important;\n",
       "  min-width: 300px;\n",
       "  max-width: 700px;\n",
       "}\n",
       "\n",
       ".xr-text-repr-fallback {\n",
       "  /* fallback to plain text repr when CSS is not injected (untrusted notebook) */\n",
       "  display: none;\n",
       "}\n",
       "\n",
       ".xr-header {\n",
       "  padding-top: 6px;\n",
       "  padding-bottom: 6px;\n",
       "  margin-bottom: 4px;\n",
       "  border-bottom: solid 1px var(--xr-border-color);\n",
       "}\n",
       "\n",
       ".xr-header > div,\n",
       ".xr-header > ul {\n",
       "  display: inline;\n",
       "  margin-top: 0;\n",
       "  margin-bottom: 0;\n",
       "}\n",
       "\n",
       ".xr-obj-type,\n",
       ".xr-array-name {\n",
       "  margin-left: 2px;\n",
       "  margin-right: 10px;\n",
       "}\n",
       "\n",
       ".xr-obj-type {\n",
       "  color: var(--xr-font-color2);\n",
       "}\n",
       "\n",
       ".xr-sections {\n",
       "  padding-left: 0 !important;\n",
       "  display: grid;\n",
       "  grid-template-columns: 150px auto auto 1fr 0 20px 0 20px;\n",
       "}\n",
       "\n",
       ".xr-section-item {\n",
       "  display: contents;\n",
       "}\n",
       "\n",
       ".xr-section-item input {\n",
       "  display: inline-block;\n",
       "  opacity: 0;\n",
       "  height: 0;\n",
       "}\n",
       "\n",
       ".xr-section-item input + label {\n",
       "  color: var(--xr-disabled-color);\n",
       "}\n",
       "\n",
       ".xr-section-item input:enabled + label {\n",
       "  cursor: pointer;\n",
       "  color: var(--xr-font-color2);\n",
       "}\n",
       "\n",
       ".xr-section-item input:focus + label {\n",
       "  border: 2px solid var(--xr-font-color0);\n",
       "}\n",
       "\n",
       ".xr-section-item input:enabled + label:hover {\n",
       "  color: var(--xr-font-color0);\n",
       "}\n",
       "\n",
       ".xr-section-summary {\n",
       "  grid-column: 1;\n",
       "  color: var(--xr-font-color2);\n",
       "  font-weight: 500;\n",
       "}\n",
       "\n",
       ".xr-section-summary > span {\n",
       "  display: inline-block;\n",
       "  padding-left: 0.5em;\n",
       "}\n",
       "\n",
       ".xr-section-summary-in:disabled + label {\n",
       "  color: var(--xr-font-color2);\n",
       "}\n",
       "\n",
       ".xr-section-summary-in + label:before {\n",
       "  display: inline-block;\n",
       "  content: \"►\";\n",
       "  font-size: 11px;\n",
       "  width: 15px;\n",
       "  text-align: center;\n",
       "}\n",
       "\n",
       ".xr-section-summary-in:disabled + label:before {\n",
       "  color: var(--xr-disabled-color);\n",
       "}\n",
       "\n",
       ".xr-section-summary-in:checked + label:before {\n",
       "  content: \"▼\";\n",
       "}\n",
       "\n",
       ".xr-section-summary-in:checked + label > span {\n",
       "  display: none;\n",
       "}\n",
       "\n",
       ".xr-section-summary,\n",
       ".xr-section-inline-details {\n",
       "  padding-top: 4px;\n",
       "  padding-bottom: 4px;\n",
       "}\n",
       "\n",
       ".xr-section-inline-details {\n",
       "  grid-column: 2 / -1;\n",
       "}\n",
       "\n",
       ".xr-section-details {\n",
       "  display: none;\n",
       "  grid-column: 1 / -1;\n",
       "  margin-bottom: 5px;\n",
       "}\n",
       "\n",
       ".xr-section-summary-in:checked ~ .xr-section-details {\n",
       "  display: contents;\n",
       "}\n",
       "\n",
       ".xr-array-wrap {\n",
       "  grid-column: 1 / -1;\n",
       "  display: grid;\n",
       "  grid-template-columns: 20px auto;\n",
       "}\n",
       "\n",
       ".xr-array-wrap > label {\n",
       "  grid-column: 1;\n",
       "  vertical-align: top;\n",
       "}\n",
       "\n",
       ".xr-preview {\n",
       "  color: var(--xr-font-color3);\n",
       "}\n",
       "\n",
       ".xr-array-preview,\n",
       ".xr-array-data {\n",
       "  padding: 0 5px !important;\n",
       "  grid-column: 2;\n",
       "}\n",
       "\n",
       ".xr-array-data,\n",
       ".xr-array-in:checked ~ .xr-array-preview {\n",
       "  display: none;\n",
       "}\n",
       "\n",
       ".xr-array-in:checked ~ .xr-array-data,\n",
       ".xr-array-preview {\n",
       "  display: inline-block;\n",
       "}\n",
       "\n",
       ".xr-dim-list {\n",
       "  display: inline-block !important;\n",
       "  list-style: none;\n",
       "  padding: 0 !important;\n",
       "  margin: 0;\n",
       "}\n",
       "\n",
       ".xr-dim-list li {\n",
       "  display: inline-block;\n",
       "  padding: 0;\n",
       "  margin: 0;\n",
       "}\n",
       "\n",
       ".xr-dim-list:before {\n",
       "  content: \"(\";\n",
       "}\n",
       "\n",
       ".xr-dim-list:after {\n",
       "  content: \")\";\n",
       "}\n",
       "\n",
       ".xr-dim-list li:not(:last-child):after {\n",
       "  content: \",\";\n",
       "  padding-right: 5px;\n",
       "}\n",
       "\n",
       ".xr-has-index {\n",
       "  font-weight: bold;\n",
       "}\n",
       "\n",
       ".xr-var-list,\n",
       ".xr-var-item {\n",
       "  display: contents;\n",
       "}\n",
       "\n",
       ".xr-var-item > div,\n",
       ".xr-var-item label,\n",
       ".xr-var-item > .xr-var-name span {\n",
       "  background-color: var(--xr-background-color-row-even);\n",
       "  margin-bottom: 0;\n",
       "}\n",
       "\n",
       ".xr-var-item > .xr-var-name:hover span {\n",
       "  padding-right: 5px;\n",
       "}\n",
       "\n",
       ".xr-var-list > li:nth-child(odd) > div,\n",
       ".xr-var-list > li:nth-child(odd) > label,\n",
       ".xr-var-list > li:nth-child(odd) > .xr-var-name span {\n",
       "  background-color: var(--xr-background-color-row-odd);\n",
       "}\n",
       "\n",
       ".xr-var-name {\n",
       "  grid-column: 1;\n",
       "}\n",
       "\n",
       ".xr-var-dims {\n",
       "  grid-column: 2;\n",
       "}\n",
       "\n",
       ".xr-var-dtype {\n",
       "  grid-column: 3;\n",
       "  text-align: right;\n",
       "  color: var(--xr-font-color2);\n",
       "}\n",
       "\n",
       ".xr-var-preview {\n",
       "  grid-column: 4;\n",
       "}\n",
       "\n",
       ".xr-index-preview {\n",
       "  grid-column: 2 / 5;\n",
       "  color: var(--xr-font-color2);\n",
       "}\n",
       "\n",
       ".xr-var-name,\n",
       ".xr-var-dims,\n",
       ".xr-var-dtype,\n",
       ".xr-preview,\n",
       ".xr-attrs dt {\n",
       "  white-space: nowrap;\n",
       "  overflow: hidden;\n",
       "  text-overflow: ellipsis;\n",
       "  padding-right: 10px;\n",
       "}\n",
       "\n",
       ".xr-var-name:hover,\n",
       ".xr-var-dims:hover,\n",
       ".xr-var-dtype:hover,\n",
       ".xr-attrs dt:hover {\n",
       "  overflow: visible;\n",
       "  width: auto;\n",
       "  z-index: 1;\n",
       "}\n",
       "\n",
       ".xr-var-attrs,\n",
       ".xr-var-data,\n",
       ".xr-index-data {\n",
       "  display: none;\n",
       "  background-color: var(--xr-background-color) !important;\n",
       "  padding-bottom: 5px !important;\n",
       "}\n",
       "\n",
       ".xr-var-attrs-in:checked ~ .xr-var-attrs,\n",
       ".xr-var-data-in:checked ~ .xr-var-data,\n",
       ".xr-index-data-in:checked ~ .xr-index-data {\n",
       "  display: block;\n",
       "}\n",
       "\n",
       ".xr-var-data > table {\n",
       "  float: right;\n",
       "}\n",
       "\n",
       ".xr-var-name span,\n",
       ".xr-var-data,\n",
       ".xr-index-name div,\n",
       ".xr-index-data,\n",
       ".xr-attrs {\n",
       "  padding-left: 25px !important;\n",
       "}\n",
       "\n",
       ".xr-attrs,\n",
       ".xr-var-attrs,\n",
       ".xr-var-data,\n",
       ".xr-index-data {\n",
       "  grid-column: 1 / -1;\n",
       "}\n",
       "\n",
       "dl.xr-attrs {\n",
       "  padding: 0;\n",
       "  margin: 0;\n",
       "  display: grid;\n",
       "  grid-template-columns: 125px auto;\n",
       "}\n",
       "\n",
       ".xr-attrs dt,\n",
       ".xr-attrs dd {\n",
       "  padding: 0;\n",
       "  margin: 0;\n",
       "  float: left;\n",
       "  padding-right: 10px;\n",
       "  width: auto;\n",
       "}\n",
       "\n",
       ".xr-attrs dt {\n",
       "  font-weight: normal;\n",
       "  grid-column: 1;\n",
       "}\n",
       "\n",
       ".xr-attrs dt:hover span {\n",
       "  display: inline-block;\n",
       "  background: var(--xr-background-color);\n",
       "  padding-right: 10px;\n",
       "}\n",
       "\n",
       ".xr-attrs dd {\n",
       "  grid-column: 2;\n",
       "  white-space: pre-wrap;\n",
       "  word-break: break-all;\n",
       "}\n",
       "\n",
       ".xr-icon-database,\n",
       ".xr-icon-file-text2,\n",
       ".xr-no-icon {\n",
       "  display: inline-block;\n",
       "  vertical-align: middle;\n",
       "  width: 1em;\n",
       "  height: 1.5em !important;\n",
       "  stroke-width: 0;\n",
       "  stroke: currentColor;\n",
       "  fill: currentColor;\n",
       "}\n",
       "</style><pre class='xr-text-repr-fallback'>&lt;xarray.Dataset&gt; Size: 1GB\n",
       "Dimensions:           (time: 579, is_day: 2, latitude: 12, longitude: 31,\n",
       "                       depth: 66)\n",
       "Coordinates:\n",
       "  * longitude         (longitude) float64 248B -157.5 -156.5 ... -128.5 -127.5\n",
       "  * latitude          (latitude) float64 96B 46.5 47.5 48.5 ... 55.5 56.5 57.5\n",
       "  * is_day            (is_day) bool 2B False True\n",
       "  * depth             (depth) float64 528B 34.0 35.0 37.0 ... 261.0 276.0 295.0\n",
       "  * time              (time) datetime64[ns] 5kB 1998-01-19 ... 2020-08-31\n",
       "Data variables:\n",
       "    epipelagic_depth  (time, is_day, latitude, longitude, depth) float64 227MB ...\n",
       "    pteropods         (time, is_day, latitude, longitude, depth) float64 227MB ...\n",
       "    mesh_size         (time, is_day, latitude, longitude, depth) float64 227MB ...\n",
       "    total             (time, is_day, latitude, longitude, depth) float64 227MB ...\n",
       "    volume_filtered   (time, is_day, latitude, longitude, depth) float64 227MB ...</pre><div class='xr-wrap' style='display:none'><div class='xr-header'><div class='xr-obj-type'>xarray.Dataset</div></div><ul class='xr-sections'><li class='xr-section-item'><input id='section-21f28ad9-5d92-415c-8d95-6ba510b97bea' class='xr-section-summary-in' type='checkbox' disabled ><label for='section-21f28ad9-5d92-415c-8d95-6ba510b97bea' class='xr-section-summary'  title='Expand/collapse section'>Dimensions:</label><div class='xr-section-inline-details'><ul class='xr-dim-list'><li><span class='xr-has-index'>time</span>: 579</li><li><span class='xr-has-index'>is_day</span>: 2</li><li><span class='xr-has-index'>latitude</span>: 12</li><li><span class='xr-has-index'>longitude</span>: 31</li><li><span class='xr-has-index'>depth</span>: 66</li></ul></div><div class='xr-section-details'></div></li><li class='xr-section-item'><input id='section-d349de5e-6abe-4728-8bb0-2076950c233c' class='xr-section-summary-in' type='checkbox'  checked><label for='section-d349de5e-6abe-4728-8bb0-2076950c233c' class='xr-section-summary' >Coordinates: <span>(5)</span></label><div class='xr-section-inline-details'></div><div class='xr-section-details'><ul class='xr-var-list'><li class='xr-var-item'><div class='xr-var-name'><span class='xr-has-index'>longitude</span></div><div class='xr-var-dims'>(longitude)</div><div class='xr-var-dtype'>float64</div><div class='xr-var-preview xr-preview'>-157.5 -156.5 ... -128.5 -127.5</div><input id='attrs-bc869600-b541-4d03-bc26-d5458e25ee15' class='xr-var-attrs-in' type='checkbox' ><label for='attrs-bc869600-b541-4d03-bc26-d5458e25ee15' title='Show/Hide attributes'><svg class='icon xr-icon-file-text2'><use xlink:href='#icon-file-text2'></use></svg></label><input id='data-5ad78750-3e92-4702-9451-9a763b3e9c67' class='xr-var-data-in' type='checkbox'><label for='data-5ad78750-3e92-4702-9451-9a763b3e9c67' title='Show/Hide data repr'><svg class='icon xr-icon-database'><use xlink:href='#icon-database'></use></svg></label><div class='xr-var-attrs'><dl class='xr-attrs'><dt><span>standard_name :</span></dt><dd>longitude</dd><dt><span>long_name :</span></dt><dd>longitude</dd><dt><span>axis :</span></dt><dd>X</dd><dt><span>units :</span></dt><dd>degrees_east</dd></dl></div><div class='xr-var-data'><pre>array([-157.5, -156.5, -155.5, -154.5, -153.5, -152.5, -151.5, -150.5, -149.5,\n",
       "       -148.5, -147.5, -146.5, -145.5, -144.5, -143.5, -142.5, -141.5, -140.5,\n",
       "       -139.5, -138.5, -137.5, -136.5, -135.5, -134.5, -133.5, -132.5, -131.5,\n",
       "       -130.5, -129.5, -128.5, -127.5])</pre></div></li><li class='xr-var-item'><div class='xr-var-name'><span class='xr-has-index'>latitude</span></div><div class='xr-var-dims'>(latitude)</div><div class='xr-var-dtype'>float64</div><div class='xr-var-preview xr-preview'>46.5 47.5 48.5 ... 55.5 56.5 57.5</div><input id='attrs-3c9cd0f2-0ce7-4671-898f-3fa9d4c43b10' class='xr-var-attrs-in' type='checkbox' ><label for='attrs-3c9cd0f2-0ce7-4671-898f-3fa9d4c43b10' title='Show/Hide attributes'><svg class='icon xr-icon-file-text2'><use xlink:href='#icon-file-text2'></use></svg></label><input id='data-466de645-c74b-4e8e-918d-77c2c76bb5a7' class='xr-var-data-in' type='checkbox'><label for='data-466de645-c74b-4e8e-918d-77c2c76bb5a7' title='Show/Hide data repr'><svg class='icon xr-icon-database'><use xlink:href='#icon-database'></use></svg></label><div class='xr-var-attrs'><dl class='xr-attrs'><dt><span>standard_name :</span></dt><dd>latitude</dd><dt><span>long_name :</span></dt><dd>latitude</dd><dt><span>axis :</span></dt><dd>Y</dd><dt><span>units :</span></dt><dd>degrees_north</dd></dl></div><div class='xr-var-data'><pre>array([46.5, 47.5, 48.5, 49.5, 50.5, 51.5, 52.5, 53.5, 54.5, 55.5, 56.5, 57.5])</pre></div></li><li class='xr-var-item'><div class='xr-var-name'><span class='xr-has-index'>is_day</span></div><div class='xr-var-dims'>(is_day)</div><div class='xr-var-dtype'>bool</div><div class='xr-var-preview xr-preview'>False True</div><input id='attrs-42dc07d0-3452-4e86-b6fd-1f512c9b5446' class='xr-var-attrs-in' type='checkbox' ><label for='attrs-42dc07d0-3452-4e86-b6fd-1f512c9b5446' title='Show/Hide attributes'><svg class='icon xr-icon-file-text2'><use xlink:href='#icon-file-text2'></use></svg></label><input id='data-8a22704a-80d6-48f2-b360-b97e3fcd8abc' class='xr-var-data-in' type='checkbox'><label for='data-8a22704a-80d6-48f2-b360-b97e3fcd8abc' title='Show/Hide data repr'><svg class='icon xr-icon-database'><use xlink:href='#icon-database'></use></svg></label><div class='xr-var-attrs'><dl class='xr-attrs'><dt><span>flag_values :</span></dt><dd>[True, False]</dd><dt><span>flag_meanings :</span></dt><dd>day night</dd><dt><span>standard_name :</span></dt><dd>is_day</dd><dt><span>long_name :</span></dt><dd>Is day</dd><dt><span>description :</span></dt><dd>Flag to indicate if the time is during the day or night</dd></dl></div><div class='xr-var-data'><pre>array([False,  True])</pre></div></li><li class='xr-var-item'><div class='xr-var-name'><span class='xr-has-index'>depth</span></div><div class='xr-var-dims'>(depth)</div><div class='xr-var-dtype'>float64</div><div class='xr-var-preview xr-preview'>34.0 35.0 37.0 ... 276.0 295.0</div><input id='attrs-d7e67975-3d1d-423e-92d5-11f9766baf31' class='xr-var-attrs-in' type='checkbox' ><label for='attrs-d7e67975-3d1d-423e-92d5-11f9766baf31' title='Show/Hide attributes'><svg class='icon xr-icon-file-text2'><use xlink:href='#icon-file-text2'></use></svg></label><input id='data-c4e74ca0-b995-4587-8628-de60fd9b9d2d' class='xr-var-data-in' type='checkbox'><label for='data-c4e74ca0-b995-4587-8628-de60fd9b9d2d' title='Show/Hide data repr'><svg class='icon xr-icon-database'><use xlink:href='#icon-database'></use></svg></label><div class='xr-var-attrs'><dl class='xr-attrs'><dt><span>standard_name :</span></dt><dd>depth</dd><dt><span>long_name :</span></dt><dd>depth</dd><dt><span>axis :</span></dt><dd>Z</dd><dt><span>units :</span></dt><dd>m</dd></dl></div><div class='xr-var-data'><pre>array([ 34.,  35.,  37.,  48.,  49.,  50.,  52.,  57.,  98.,  99., 100., 101.,\n",
       "       103., 105., 109., 121., 130., 139., 140., 141., 144., 145., 146., 147.,\n",
       "       148., 149., 150., 151., 152., 153., 154., 155., 156., 158., 159., 160.,\n",
       "       163., 164., 171., 192., 207., 213., 216., 217., 227., 229., 230., 235.,\n",
       "       238., 239., 240., 241., 244., 245., 246., 248., 249., 250., 251., 254.,\n",
       "       256., 257., 258., 261., 276., 295.])</pre></div></li><li class='xr-var-item'><div class='xr-var-name'><span class='xr-has-index'>time</span></div><div class='xr-var-dims'>(time)</div><div class='xr-var-dtype'>datetime64[ns]</div><div class='xr-var-preview xr-preview'>1998-01-19 ... 2020-08-31</div><input id='attrs-78f0bf9c-af6d-4eda-97c5-16a0359d5049' class='xr-var-attrs-in' type='checkbox' ><label for='attrs-78f0bf9c-af6d-4eda-97c5-16a0359d5049' title='Show/Hide attributes'><svg class='icon xr-icon-file-text2'><use xlink:href='#icon-file-text2'></use></svg></label><input id='data-997f7a2b-163b-4bc2-a7f0-e551bfa19c85' class='xr-var-data-in' type='checkbox'><label for='data-997f7a2b-163b-4bc2-a7f0-e551bfa19c85' title='Show/Hide data repr'><svg class='icon xr-icon-database'><use xlink:href='#icon-database'></use></svg></label><div class='xr-var-attrs'><dl class='xr-attrs'><dt><span>standard_name :</span></dt><dd>time</dd><dt><span>long_name :</span></dt><dd>time</dd><dt><span>axis :</span></dt><dd>T</dd></dl></div><div class='xr-var-data'><pre>array([&#x27;1998-01-19T00:00:00.000000000&#x27;, &#x27;1998-01-20T00:00:00.000000000&#x27;,\n",
       "       &#x27;1998-02-21T00:00:00.000000000&#x27;, ..., &#x27;2020-08-20T00:00:00.000000000&#x27;,\n",
       "       &#x27;2020-08-30T00:00:00.000000000&#x27;, &#x27;2020-08-31T00:00:00.000000000&#x27;],\n",
       "      dtype=&#x27;datetime64[ns]&#x27;)</pre></div></li></ul></div></li><li class='xr-section-item'><input id='section-c0a8a259-48e7-469d-b0de-f08b6ff16a04' class='xr-section-summary-in' type='checkbox'  checked><label for='section-c0a8a259-48e7-469d-b0de-f08b6ff16a04' class='xr-section-summary' >Data variables: <span>(5)</span></label><div class='xr-section-inline-details'></div><div class='xr-section-details'><ul class='xr-var-list'><li class='xr-var-item'><div class='xr-var-name'><span>epipelagic_depth</span></div><div class='xr-var-dims'>(time, is_day, latitude, longitude, depth)</div><div class='xr-var-dtype'>float64</div><div class='xr-var-preview xr-preview'>nan nan nan nan ... nan nan nan nan</div><input id='attrs-ce853314-a5aa-470f-8c8f-1f2399c39453' class='xr-var-attrs-in' type='checkbox' ><label for='attrs-ce853314-a5aa-470f-8c8f-1f2399c39453' title='Show/Hide attributes'><svg class='icon xr-icon-file-text2'><use xlink:href='#icon-file-text2'></use></svg></label><input id='data-29819cd1-33c0-427d-bdf8-a1474ff1aa60' class='xr-var-data-in' type='checkbox'><label for='data-29819cd1-33c0-427d-bdf8-a1474ff1aa60' title='Show/Hide data repr'><svg class='icon xr-icon-database'><use xlink:href='#icon-database'></use></svg></label><div class='xr-var-attrs'><dl class='xr-attrs'><dt><span>standard_name :</span></dt><dd>epipelagic_depth</dd><dt><span>long_name :</span></dt><dd>epipelagic depth - observed data (CMEMS)</dd><dt><span>units :</span></dt><dd>m</dd></dl></div><div class='xr-var-data'><pre>array([[[[[nan, nan, nan, ..., nan, nan, nan],\n",
       "          [nan, nan, nan, ..., nan, nan, nan],\n",
       "          [nan, nan, nan, ..., nan, nan, nan],\n",
       "          ...,\n",
       "          [nan, nan, nan, ..., nan, nan, nan],\n",
       "          [nan, nan, nan, ..., nan, nan, nan],\n",
       "          [nan, nan, nan, ..., nan, nan, nan]],\n",
       "\n",
       "         [[nan, nan, nan, ..., nan, nan, nan],\n",
       "          [nan, nan, nan, ..., nan, nan, nan],\n",
       "          [nan, nan, nan, ..., nan, nan, nan],\n",
       "          ...,\n",
       "          [nan, nan, nan, ..., nan, nan, nan],\n",
       "          [nan, nan, nan, ..., nan, nan, nan],\n",
       "          [nan, nan, nan, ..., nan, nan, nan]],\n",
       "\n",
       "         [[nan, nan, nan, ..., nan, nan, nan],\n",
       "          [nan, nan, nan, ..., nan, nan, nan],\n",
       "          [nan, nan, nan, ..., nan, nan, nan],\n",
       "          ...,\n",
       "...\n",
       "          ...,\n",
       "          [nan, nan, nan, ..., nan, nan, nan],\n",
       "          [nan, nan, nan, ..., nan, nan, nan],\n",
       "          [nan, nan, nan, ..., nan, nan, nan]],\n",
       "\n",
       "         [[nan, nan, nan, ..., nan, nan, nan],\n",
       "          [nan, nan, nan, ..., nan, nan, nan],\n",
       "          [nan, nan, nan, ..., nan, nan, nan],\n",
       "          ...,\n",
       "          [nan, nan, nan, ..., nan, nan, nan],\n",
       "          [nan, nan, nan, ..., nan, nan, nan],\n",
       "          [nan, nan, nan, ..., nan, nan, nan]],\n",
       "\n",
       "         [[nan, nan, nan, ..., nan, nan, nan],\n",
       "          [nan, nan, nan, ..., nan, nan, nan],\n",
       "          [nan, nan, nan, ..., nan, nan, nan],\n",
       "          ...,\n",
       "          [nan, nan, nan, ..., nan, nan, nan],\n",
       "          [nan, nan, nan, ..., nan, nan, nan],\n",
       "          [nan, nan, nan, ..., nan, nan, nan]]]]])</pre></div></li><li class='xr-var-item'><div class='xr-var-name'><span>pteropods</span></div><div class='xr-var-dims'>(time, is_day, latitude, longitude, depth)</div><div class='xr-var-dtype'>float64</div><div class='xr-var-preview xr-preview'>nan nan nan nan ... nan nan nan nan</div><input id='attrs-4e099c06-fce7-44e8-986a-395a75c8374e' class='xr-var-attrs-in' type='checkbox' ><label for='attrs-4e099c06-fce7-44e8-986a-395a75c8374e' title='Show/Hide attributes'><svg class='icon xr-icon-file-text2'><use xlink:href='#icon-file-text2'></use></svg></label><input id='data-ec4ae1e2-c586-4f0c-931b-0709c292ede3' class='xr-var-data-in' type='checkbox'><label for='data-ec4ae1e2-c586-4f0c-931b-0709c292ede3' title='Show/Hide data repr'><svg class='icon xr-icon-database'><use xlink:href='#icon-database'></use></svg></label><div class='xr-var-attrs'><dl class='xr-attrs'><dt><span>standard_name :</span></dt><dd>pteropods</dd><dt><span>long_name :</span></dt><dd>dry weight of pteropods zooplankton</dd><dt><span>units :</span></dt><dd>mg/m3</dd></dl></div><div class='xr-var-data'><pre>array([[[[[nan, nan, nan, ..., nan, nan, nan],\n",
       "          [nan, nan, nan, ..., nan, nan, nan],\n",
       "          [nan, nan, nan, ..., nan, nan, nan],\n",
       "          ...,\n",
       "          [nan, nan, nan, ..., nan, nan, nan],\n",
       "          [nan, nan, nan, ..., nan, nan, nan],\n",
       "          [nan, nan, nan, ..., nan, nan, nan]],\n",
       "\n",
       "         [[nan, nan, nan, ..., nan, nan, nan],\n",
       "          [nan, nan, nan, ..., nan, nan, nan],\n",
       "          [nan, nan, nan, ..., nan, nan, nan],\n",
       "          ...,\n",
       "          [nan, nan, nan, ..., nan, nan, nan],\n",
       "          [nan, nan, nan, ..., nan, nan, nan],\n",
       "          [nan, nan, nan, ..., nan, nan, nan]],\n",
       "\n",
       "         [[nan, nan, nan, ..., nan, nan, nan],\n",
       "          [nan, nan, nan, ..., nan, nan, nan],\n",
       "          [nan, nan, nan, ..., nan, nan, nan],\n",
       "          ...,\n",
       "...\n",
       "          ...,\n",
       "          [nan, nan, nan, ..., nan, nan, nan],\n",
       "          [nan, nan, nan, ..., nan, nan, nan],\n",
       "          [nan, nan, nan, ..., nan, nan, nan]],\n",
       "\n",
       "         [[nan, nan, nan, ..., nan, nan, nan],\n",
       "          [nan, nan, nan, ..., nan, nan, nan],\n",
       "          [nan, nan, nan, ..., nan, nan, nan],\n",
       "          ...,\n",
       "          [nan, nan, nan, ..., nan, nan, nan],\n",
       "          [nan, nan, nan, ..., nan, nan, nan],\n",
       "          [nan, nan, nan, ..., nan, nan, nan]],\n",
       "\n",
       "         [[nan, nan, nan, ..., nan, nan, nan],\n",
       "          [nan, nan, nan, ..., nan, nan, nan],\n",
       "          [nan, nan, nan, ..., nan, nan, nan],\n",
       "          ...,\n",
       "          [nan, nan, nan, ..., nan, nan, nan],\n",
       "          [nan, nan, nan, ..., nan, nan, nan],\n",
       "          [nan, nan, nan, ..., nan, nan, nan]]]]])</pre></div></li><li class='xr-var-item'><div class='xr-var-name'><span>mesh_size</span></div><div class='xr-var-dims'>(time, is_day, latitude, longitude, depth)</div><div class='xr-var-dtype'>float64</div><div class='xr-var-preview xr-preview'>nan nan nan nan ... nan nan nan nan</div><input id='attrs-84c7f506-2399-4360-bd6a-58f30265a0b1' class='xr-var-attrs-in' type='checkbox' ><label for='attrs-84c7f506-2399-4360-bd6a-58f30265a0b1' title='Show/Hide attributes'><svg class='icon xr-icon-file-text2'><use xlink:href='#icon-file-text2'></use></svg></label><input id='data-c9fdb296-3fbc-417f-b73b-9d4195248a20' class='xr-var-data-in' type='checkbox'><label for='data-c9fdb296-3fbc-417f-b73b-9d4195248a20' title='Show/Hide data repr'><svg class='icon xr-icon-database'><use xlink:href='#icon-database'></use></svg></label><div class='xr-var-attrs'><dl class='xr-attrs'><dt><span>standard_name :</span></dt><dd>mesh_size</dd><dt><span>long_name :</span></dt><dd>net mesh size</dd><dt><span>units :</span></dt><dd>um</dd></dl></div><div class='xr-var-data'><pre>array([[[[[nan, nan, nan, ..., nan, nan, nan],\n",
       "          [nan, nan, nan, ..., nan, nan, nan],\n",
       "          [nan, nan, nan, ..., nan, nan, nan],\n",
       "          ...,\n",
       "          [nan, nan, nan, ..., nan, nan, nan],\n",
       "          [nan, nan, nan, ..., nan, nan, nan],\n",
       "          [nan, nan, nan, ..., nan, nan, nan]],\n",
       "\n",
       "         [[nan, nan, nan, ..., nan, nan, nan],\n",
       "          [nan, nan, nan, ..., nan, nan, nan],\n",
       "          [nan, nan, nan, ..., nan, nan, nan],\n",
       "          ...,\n",
       "          [nan, nan, nan, ..., nan, nan, nan],\n",
       "          [nan, nan, nan, ..., nan, nan, nan],\n",
       "          [nan, nan, nan, ..., nan, nan, nan]],\n",
       "\n",
       "         [[nan, nan, nan, ..., nan, nan, nan],\n",
       "          [nan, nan, nan, ..., nan, nan, nan],\n",
       "          [nan, nan, nan, ..., nan, nan, nan],\n",
       "          ...,\n",
       "...\n",
       "          ...,\n",
       "          [nan, nan, nan, ..., nan, nan, nan],\n",
       "          [nan, nan, nan, ..., nan, nan, nan],\n",
       "          [nan, nan, nan, ..., nan, nan, nan]],\n",
       "\n",
       "         [[nan, nan, nan, ..., nan, nan, nan],\n",
       "          [nan, nan, nan, ..., nan, nan, nan],\n",
       "          [nan, nan, nan, ..., nan, nan, nan],\n",
       "          ...,\n",
       "          [nan, nan, nan, ..., nan, nan, nan],\n",
       "          [nan, nan, nan, ..., nan, nan, nan],\n",
       "          [nan, nan, nan, ..., nan, nan, nan]],\n",
       "\n",
       "         [[nan, nan, nan, ..., nan, nan, nan],\n",
       "          [nan, nan, nan, ..., nan, nan, nan],\n",
       "          [nan, nan, nan, ..., nan, nan, nan],\n",
       "          ...,\n",
       "          [nan, nan, nan, ..., nan, nan, nan],\n",
       "          [nan, nan, nan, ..., nan, nan, nan],\n",
       "          [nan, nan, nan, ..., nan, nan, nan]]]]])</pre></div></li><li class='xr-var-item'><div class='xr-var-name'><span>total</span></div><div class='xr-var-dims'>(time, is_day, latitude, longitude, depth)</div><div class='xr-var-dtype'>float64</div><div class='xr-var-preview xr-preview'>nan nan nan nan ... nan nan nan nan</div><input id='attrs-38c809e0-4b90-4761-b544-38fdc02ff9f3' class='xr-var-attrs-in' type='checkbox' ><label for='attrs-38c809e0-4b90-4761-b544-38fdc02ff9f3' title='Show/Hide attributes'><svg class='icon xr-icon-file-text2'><use xlink:href='#icon-file-text2'></use></svg></label><input id='data-d6ac415e-6513-4e5e-8da0-a9f7a8d757c9' class='xr-var-data-in' type='checkbox'><label for='data-d6ac415e-6513-4e5e-8da0-a9f7a8d757c9' title='Show/Hide data repr'><svg class='icon xr-icon-database'><use xlink:href='#icon-database'></use></svg></label><div class='xr-var-attrs'><dl class='xr-attrs'><dt><span>standard_name :</span></dt><dd>total</dd><dt><span>long_name :</span></dt><dd>dry weight of total zooplankton</dd><dt><span>units :</span></dt><dd>mg/m3</dd></dl></div><div class='xr-var-data'><pre>array([[[[[nan, nan, nan, ..., nan, nan, nan],\n",
       "          [nan, nan, nan, ..., nan, nan, nan],\n",
       "          [nan, nan, nan, ..., nan, nan, nan],\n",
       "          ...,\n",
       "          [nan, nan, nan, ..., nan, nan, nan],\n",
       "          [nan, nan, nan, ..., nan, nan, nan],\n",
       "          [nan, nan, nan, ..., nan, nan, nan]],\n",
       "\n",
       "         [[nan, nan, nan, ..., nan, nan, nan],\n",
       "          [nan, nan, nan, ..., nan, nan, nan],\n",
       "          [nan, nan, nan, ..., nan, nan, nan],\n",
       "          ...,\n",
       "          [nan, nan, nan, ..., nan, nan, nan],\n",
       "          [nan, nan, nan, ..., nan, nan, nan],\n",
       "          [nan, nan, nan, ..., nan, nan, nan]],\n",
       "\n",
       "         [[nan, nan, nan, ..., nan, nan, nan],\n",
       "          [nan, nan, nan, ..., nan, nan, nan],\n",
       "          [nan, nan, nan, ..., nan, nan, nan],\n",
       "          ...,\n",
       "...\n",
       "          ...,\n",
       "          [nan, nan, nan, ..., nan, nan, nan],\n",
       "          [nan, nan, nan, ..., nan, nan, nan],\n",
       "          [nan, nan, nan, ..., nan, nan, nan]],\n",
       "\n",
       "         [[nan, nan, nan, ..., nan, nan, nan],\n",
       "          [nan, nan, nan, ..., nan, nan, nan],\n",
       "          [nan, nan, nan, ..., nan, nan, nan],\n",
       "          ...,\n",
       "          [nan, nan, nan, ..., nan, nan, nan],\n",
       "          [nan, nan, nan, ..., nan, nan, nan],\n",
       "          [nan, nan, nan, ..., nan, nan, nan]],\n",
       "\n",
       "         [[nan, nan, nan, ..., nan, nan, nan],\n",
       "          [nan, nan, nan, ..., nan, nan, nan],\n",
       "          [nan, nan, nan, ..., nan, nan, nan],\n",
       "          ...,\n",
       "          [nan, nan, nan, ..., nan, nan, nan],\n",
       "          [nan, nan, nan, ..., nan, nan, nan],\n",
       "          [nan, nan, nan, ..., nan, nan, nan]]]]])</pre></div></li><li class='xr-var-item'><div class='xr-var-name'><span>volume_filtered</span></div><div class='xr-var-dims'>(time, is_day, latitude, longitude, depth)</div><div class='xr-var-dtype'>float64</div><div class='xr-var-preview xr-preview'>nan nan nan nan ... nan nan nan nan</div><input id='attrs-f014d8eb-bea0-46c1-9b56-affe4d5a5e22' class='xr-var-attrs-in' type='checkbox' ><label for='attrs-f014d8eb-bea0-46c1-9b56-affe4d5a5e22' title='Show/Hide attributes'><svg class='icon xr-icon-file-text2'><use xlink:href='#icon-file-text2'></use></svg></label><input id='data-fca22a34-d21b-4082-a926-df13fa2bfdfa' class='xr-var-data-in' type='checkbox'><label for='data-fca22a34-d21b-4082-a926-df13fa2bfdfa' title='Show/Hide data repr'><svg class='icon xr-icon-database'><use xlink:href='#icon-database'></use></svg></label><div class='xr-var-attrs'><dl class='xr-attrs'><dt><span>standard_name :</span></dt><dd>volume</dd><dt><span>long_name :</span></dt><dd>filtered volume of water</dd><dt><span>units :</span></dt><dd>m3</dd></dl></div><div class='xr-var-data'><pre>array([[[[[nan, nan, nan, ..., nan, nan, nan],\n",
       "          [nan, nan, nan, ..., nan, nan, nan],\n",
       "          [nan, nan, nan, ..., nan, nan, nan],\n",
       "          ...,\n",
       "          [nan, nan, nan, ..., nan, nan, nan],\n",
       "          [nan, nan, nan, ..., nan, nan, nan],\n",
       "          [nan, nan, nan, ..., nan, nan, nan]],\n",
       "\n",
       "         [[nan, nan, nan, ..., nan, nan, nan],\n",
       "          [nan, nan, nan, ..., nan, nan, nan],\n",
       "          [nan, nan, nan, ..., nan, nan, nan],\n",
       "          ...,\n",
       "          [nan, nan, nan, ..., nan, nan, nan],\n",
       "          [nan, nan, nan, ..., nan, nan, nan],\n",
       "          [nan, nan, nan, ..., nan, nan, nan]],\n",
       "\n",
       "         [[nan, nan, nan, ..., nan, nan, nan],\n",
       "          [nan, nan, nan, ..., nan, nan, nan],\n",
       "          [nan, nan, nan, ..., nan, nan, nan],\n",
       "          ...,\n",
       "...\n",
       "          ...,\n",
       "          [nan, nan, nan, ..., nan, nan, nan],\n",
       "          [nan, nan, nan, ..., nan, nan, nan],\n",
       "          [nan, nan, nan, ..., nan, nan, nan]],\n",
       "\n",
       "         [[nan, nan, nan, ..., nan, nan, nan],\n",
       "          [nan, nan, nan, ..., nan, nan, nan],\n",
       "          [nan, nan, nan, ..., nan, nan, nan],\n",
       "          ...,\n",
       "          [nan, nan, nan, ..., nan, nan, nan],\n",
       "          [nan, nan, nan, ..., nan, nan, nan],\n",
       "          [nan, nan, nan, ..., nan, nan, nan]],\n",
       "\n",
       "         [[nan, nan, nan, ..., nan, nan, nan],\n",
       "          [nan, nan, nan, ..., nan, nan, nan],\n",
       "          [nan, nan, nan, ..., nan, nan, nan],\n",
       "          ...,\n",
       "          [nan, nan, nan, ..., nan, nan, nan],\n",
       "          [nan, nan, nan, ..., nan, nan, nan],\n",
       "          [nan, nan, nan, ..., nan, nan, nan]]]]])</pre></div></li></ul></div></li><li class='xr-section-item'><input id='section-46c1ecec-7213-4f41-8e14-161d19d637b2' class='xr-section-summary-in' type='checkbox'  ><label for='section-46c1ecec-7213-4f41-8e14-161d19d637b2' class='xr-section-summary' >Indexes: <span>(5)</span></label><div class='xr-section-inline-details'></div><div class='xr-section-details'><ul class='xr-var-list'><li class='xr-var-item'><div class='xr-index-name'><div>longitude</div></div><div class='xr-index-preview'>PandasIndex</div><input type='checkbox' disabled/><label></label><input id='index-d2fa562b-8ed8-4e67-92bd-0b9876ac8555' class='xr-index-data-in' type='checkbox'/><label for='index-d2fa562b-8ed8-4e67-92bd-0b9876ac8555' title='Show/Hide index repr'><svg class='icon xr-icon-database'><use xlink:href='#icon-database'></use></svg></label><div class='xr-index-data'><pre>PandasIndex(Index([-157.5, -156.5, -155.5, -154.5, -153.5, -152.5, -151.5, -150.5, -149.5,\n",
       "       -148.5, -147.5, -146.5, -145.5, -144.5, -143.5, -142.5, -141.5, -140.5,\n",
       "       -139.5, -138.5, -137.5, -136.5, -135.5, -134.5, -133.5, -132.5, -131.5,\n",
       "       -130.5, -129.5, -128.5, -127.5],\n",
       "      dtype=&#x27;float64&#x27;, name=&#x27;longitude&#x27;))</pre></div></li><li class='xr-var-item'><div class='xr-index-name'><div>latitude</div></div><div class='xr-index-preview'>PandasIndex</div><input type='checkbox' disabled/><label></label><input id='index-a5840700-7bfb-4978-8ff9-293a9b5f0f95' class='xr-index-data-in' type='checkbox'/><label for='index-a5840700-7bfb-4978-8ff9-293a9b5f0f95' title='Show/Hide index repr'><svg class='icon xr-icon-database'><use xlink:href='#icon-database'></use></svg></label><div class='xr-index-data'><pre>PandasIndex(Index([46.5, 47.5, 48.5, 49.5, 50.5, 51.5, 52.5, 53.5, 54.5, 55.5, 56.5, 57.5], dtype=&#x27;float64&#x27;, name=&#x27;latitude&#x27;))</pre></div></li><li class='xr-var-item'><div class='xr-index-name'><div>is_day</div></div><div class='xr-index-preview'>PandasIndex</div><input type='checkbox' disabled/><label></label><input id='index-ed42bcde-2b3a-4f83-a4f3-5a75dd4eb918' class='xr-index-data-in' type='checkbox'/><label for='index-ed42bcde-2b3a-4f83-a4f3-5a75dd4eb918' title='Show/Hide index repr'><svg class='icon xr-icon-database'><use xlink:href='#icon-database'></use></svg></label><div class='xr-index-data'><pre>PandasIndex(Index([False, True], dtype=&#x27;bool&#x27;, name=&#x27;is_day&#x27;))</pre></div></li><li class='xr-var-item'><div class='xr-index-name'><div>depth</div></div><div class='xr-index-preview'>PandasIndex</div><input type='checkbox' disabled/><label></label><input id='index-710c1c20-eb3e-4a25-9bbb-c38633f8e4ab' class='xr-index-data-in' type='checkbox'/><label for='index-710c1c20-eb3e-4a25-9bbb-c38633f8e4ab' title='Show/Hide index repr'><svg class='icon xr-icon-database'><use xlink:href='#icon-database'></use></svg></label><div class='xr-index-data'><pre>PandasIndex(Index([ 34.0,  35.0,  37.0,  48.0,  49.0,  50.0,  52.0,  57.0,  98.0,  99.0,\n",
       "       100.0, 101.0, 103.0, 105.0, 109.0, 121.0, 130.0, 139.0, 140.0, 141.0,\n",
       "       144.0, 145.0, 146.0, 147.0, 148.0, 149.0, 150.0, 151.0, 152.0, 153.0,\n",
       "       154.0, 155.0, 156.0, 158.0, 159.0, 160.0, 163.0, 164.0, 171.0, 192.0,\n",
       "       207.0, 213.0, 216.0, 217.0, 227.0, 229.0, 230.0, 235.0, 238.0, 239.0,\n",
       "       240.0, 241.0, 244.0, 245.0, 246.0, 248.0, 249.0, 250.0, 251.0, 254.0,\n",
       "       256.0, 257.0, 258.0, 261.0, 276.0, 295.0],\n",
       "      dtype=&#x27;float64&#x27;, name=&#x27;depth&#x27;))</pre></div></li><li class='xr-var-item'><div class='xr-index-name'><div>time</div></div><div class='xr-index-preview'>PandasIndex</div><input type='checkbox' disabled/><label></label><input id='index-95375298-aa09-45a7-8166-714ee34c981e' class='xr-index-data-in' type='checkbox'/><label for='index-95375298-aa09-45a7-8166-714ee34c981e' title='Show/Hide index repr'><svg class='icon xr-icon-database'><use xlink:href='#icon-database'></use></svg></label><div class='xr-index-data'><pre>PandasIndex(DatetimeIndex([&#x27;1998-01-19&#x27;, &#x27;1998-01-20&#x27;, &#x27;1998-02-21&#x27;, &#x27;1998-02-23&#x27;,\n",
       "               &#x27;1998-02-24&#x27;, &#x27;1998-02-27&#x27;, &#x27;1998-02-28&#x27;, &#x27;1998-03-03&#x27;,\n",
       "               &#x27;1998-04-08&#x27;, &#x27;1998-04-09&#x27;,\n",
       "               ...\n",
       "               &#x27;2020-07-05&#x27;, &#x27;2020-07-22&#x27;, &#x27;2020-07-26&#x27;, &#x27;2020-08-14&#x27;,\n",
       "               &#x27;2020-08-15&#x27;, &#x27;2020-08-17&#x27;, &#x27;2020-08-18&#x27;, &#x27;2020-08-20&#x27;,\n",
       "               &#x27;2020-08-30&#x27;, &#x27;2020-08-31&#x27;],\n",
       "              dtype=&#x27;datetime64[ns]&#x27;, name=&#x27;time&#x27;, length=579, freq=None))</pre></div></li></ul></div></li><li class='xr-section-item'><input id='section-8e81bc38-82b6-47bf-8e43-e5029a2a5554' class='xr-section-summary-in' type='checkbox' disabled ><label for='section-8e81bc38-82b6-47bf-8e43-e5029a2a5554' class='xr-section-summary'  title='Expand/collapse section'>Attributes: <span>(0)</span></label><div class='xr-section-inline-details'></div><div class='xr-section-details'><dl class='xr-attrs'></dl></div></li></ul></div></div>"
      ],
      "text/plain": [
       "<xarray.Dataset> Size: 1GB\n",
       "Dimensions:           (time: 579, is_day: 2, latitude: 12, longitude: 31,\n",
       "                       depth: 66)\n",
       "Coordinates:\n",
       "  * longitude         (longitude) float64 248B -157.5 -156.5 ... -128.5 -127.5\n",
       "  * latitude          (latitude) float64 96B 46.5 47.5 48.5 ... 55.5 56.5 57.5\n",
       "  * is_day            (is_day) bool 2B False True\n",
       "  * depth             (depth) float64 528B 34.0 35.0 37.0 ... 261.0 276.0 295.0\n",
       "  * time              (time) datetime64[ns] 5kB 1998-01-19 ... 2020-08-31\n",
       "Data variables:\n",
       "    epipelagic_depth  (time, is_day, latitude, longitude, depth) float64 227MB ...\n",
       "    pteropods         (time, is_day, latitude, longitude, depth) float64 227MB ...\n",
       "    mesh_size         (time, is_day, latitude, longitude, depth) float64 227MB ...\n",
       "    total             (time, is_day, latitude, longitude, depth) float64 227MB ...\n",
       "    volume_filtered   (time, is_day, latitude, longitude, depth) float64 227MB ..."
      ]
     },
     "execution_count": 3,
     "metadata": {},
     "output_type": "execute_result"
    }
   ],
   "source": [
    "#load dataset \n",
    "papa_data = xr.load_dataset(\"../2_bis_processed_pteropods/papa_pteropod.zarr\", engine=\"zarr\")\n",
    "papa_data"
   ]
  },
  {
   "cell_type": "code",
   "execution_count": 4,
   "id": "543f2cce",
   "metadata": {},
   "outputs": [
    {
     "data": {
      "text/html": [
       "<div><svg style=\"position: absolute; width: 0; height: 0; overflow: hidden\">\n",
       "<defs>\n",
       "<symbol id=\"icon-database\" viewBox=\"0 0 32 32\">\n",
       "<path d=\"M16 0c-8.837 0-16 2.239-16 5v4c0 2.761 7.163 5 16 5s16-2.239 16-5v-4c0-2.761-7.163-5-16-5z\"></path>\n",
       "<path d=\"M16 17c-8.837 0-16-2.239-16-5v6c0 2.761 7.163 5 16 5s16-2.239 16-5v-6c0 2.761-7.163 5-16 5z\"></path>\n",
       "<path d=\"M16 26c-8.837 0-16-2.239-16-5v6c0 2.761 7.163 5 16 5s16-2.239 16-5v-6c0 2.761-7.163 5-16 5z\"></path>\n",
       "</symbol>\n",
       "<symbol id=\"icon-file-text2\" viewBox=\"0 0 32 32\">\n",
       "<path d=\"M28.681 7.159c-0.694-0.947-1.662-2.053-2.724-3.116s-2.169-2.030-3.116-2.724c-1.612-1.182-2.393-1.319-2.841-1.319h-15.5c-1.378 0-2.5 1.121-2.5 2.5v27c0 1.378 1.122 2.5 2.5 2.5h23c1.378 0 2.5-1.122 2.5-2.5v-19.5c0-0.448-0.137-1.23-1.319-2.841zM24.543 5.457c0.959 0.959 1.712 1.825 2.268 2.543h-4.811v-4.811c0.718 0.556 1.584 1.309 2.543 2.268zM28 29.5c0 0.271-0.229 0.5-0.5 0.5h-23c-0.271 0-0.5-0.229-0.5-0.5v-27c0-0.271 0.229-0.5 0.5-0.5 0 0 15.499-0 15.5 0v7c0 0.552 0.448 1 1 1h7v19.5z\"></path>\n",
       "<path d=\"M23 26h-14c-0.552 0-1-0.448-1-1s0.448-1 1-1h14c0.552 0 1 0.448 1 1s-0.448 1-1 1z\"></path>\n",
       "<path d=\"M23 22h-14c-0.552 0-1-0.448-1-1s0.448-1 1-1h14c0.552 0 1 0.448 1 1s-0.448 1-1 1z\"></path>\n",
       "<path d=\"M23 18h-14c-0.552 0-1-0.448-1-1s0.448-1 1-1h14c0.552 0 1 0.448 1 1s-0.448 1-1 1z\"></path>\n",
       "</symbol>\n",
       "</defs>\n",
       "</svg>\n",
       "<style>/* CSS stylesheet for displaying xarray objects in jupyterlab.\n",
       " *\n",
       " */\n",
       "\n",
       ":root {\n",
       "  --xr-font-color0: var(--jp-content-font-color0, rgba(0, 0, 0, 1));\n",
       "  --xr-font-color2: var(--jp-content-font-color2, rgba(0, 0, 0, 0.54));\n",
       "  --xr-font-color3: var(--jp-content-font-color3, rgba(0, 0, 0, 0.38));\n",
       "  --xr-border-color: var(--jp-border-color2, #e0e0e0);\n",
       "  --xr-disabled-color: var(--jp-layout-color3, #bdbdbd);\n",
       "  --xr-background-color: var(--jp-layout-color0, white);\n",
       "  --xr-background-color-row-even: var(--jp-layout-color1, white);\n",
       "  --xr-background-color-row-odd: var(--jp-layout-color2, #eeeeee);\n",
       "}\n",
       "\n",
       "html[theme=\"dark\"],\n",
       "html[data-theme=\"dark\"],\n",
       "body[data-theme=\"dark\"],\n",
       "body.vscode-dark {\n",
       "  --xr-font-color0: rgba(255, 255, 255, 1);\n",
       "  --xr-font-color2: rgba(255, 255, 255, 0.54);\n",
       "  --xr-font-color3: rgba(255, 255, 255, 0.38);\n",
       "  --xr-border-color: #1f1f1f;\n",
       "  --xr-disabled-color: #515151;\n",
       "  --xr-background-color: #111111;\n",
       "  --xr-background-color-row-even: #111111;\n",
       "  --xr-background-color-row-odd: #313131;\n",
       "}\n",
       "\n",
       ".xr-wrap {\n",
       "  display: block !important;\n",
       "  min-width: 300px;\n",
       "  max-width: 700px;\n",
       "}\n",
       "\n",
       ".xr-text-repr-fallback {\n",
       "  /* fallback to plain text repr when CSS is not injected (untrusted notebook) */\n",
       "  display: none;\n",
       "}\n",
       "\n",
       ".xr-header {\n",
       "  padding-top: 6px;\n",
       "  padding-bottom: 6px;\n",
       "  margin-bottom: 4px;\n",
       "  border-bottom: solid 1px var(--xr-border-color);\n",
       "}\n",
       "\n",
       ".xr-header > div,\n",
       ".xr-header > ul {\n",
       "  display: inline;\n",
       "  margin-top: 0;\n",
       "  margin-bottom: 0;\n",
       "}\n",
       "\n",
       ".xr-obj-type,\n",
       ".xr-array-name {\n",
       "  margin-left: 2px;\n",
       "  margin-right: 10px;\n",
       "}\n",
       "\n",
       ".xr-obj-type {\n",
       "  color: var(--xr-font-color2);\n",
       "}\n",
       "\n",
       ".xr-sections {\n",
       "  padding-left: 0 !important;\n",
       "  display: grid;\n",
       "  grid-template-columns: 150px auto auto 1fr 0 20px 0 20px;\n",
       "}\n",
       "\n",
       ".xr-section-item {\n",
       "  display: contents;\n",
       "}\n",
       "\n",
       ".xr-section-item input {\n",
       "  display: inline-block;\n",
       "  opacity: 0;\n",
       "  height: 0;\n",
       "}\n",
       "\n",
       ".xr-section-item input + label {\n",
       "  color: var(--xr-disabled-color);\n",
       "}\n",
       "\n",
       ".xr-section-item input:enabled + label {\n",
       "  cursor: pointer;\n",
       "  color: var(--xr-font-color2);\n",
       "}\n",
       "\n",
       ".xr-section-item input:focus + label {\n",
       "  border: 2px solid var(--xr-font-color0);\n",
       "}\n",
       "\n",
       ".xr-section-item input:enabled + label:hover {\n",
       "  color: var(--xr-font-color0);\n",
       "}\n",
       "\n",
       ".xr-section-summary {\n",
       "  grid-column: 1;\n",
       "  color: var(--xr-font-color2);\n",
       "  font-weight: 500;\n",
       "}\n",
       "\n",
       ".xr-section-summary > span {\n",
       "  display: inline-block;\n",
       "  padding-left: 0.5em;\n",
       "}\n",
       "\n",
       ".xr-section-summary-in:disabled + label {\n",
       "  color: var(--xr-font-color2);\n",
       "}\n",
       "\n",
       ".xr-section-summary-in + label:before {\n",
       "  display: inline-block;\n",
       "  content: \"►\";\n",
       "  font-size: 11px;\n",
       "  width: 15px;\n",
       "  text-align: center;\n",
       "}\n",
       "\n",
       ".xr-section-summary-in:disabled + label:before {\n",
       "  color: var(--xr-disabled-color);\n",
       "}\n",
       "\n",
       ".xr-section-summary-in:checked + label:before {\n",
       "  content: \"▼\";\n",
       "}\n",
       "\n",
       ".xr-section-summary-in:checked + label > span {\n",
       "  display: none;\n",
       "}\n",
       "\n",
       ".xr-section-summary,\n",
       ".xr-section-inline-details {\n",
       "  padding-top: 4px;\n",
       "  padding-bottom: 4px;\n",
       "}\n",
       "\n",
       ".xr-section-inline-details {\n",
       "  grid-column: 2 / -1;\n",
       "}\n",
       "\n",
       ".xr-section-details {\n",
       "  display: none;\n",
       "  grid-column: 1 / -1;\n",
       "  margin-bottom: 5px;\n",
       "}\n",
       "\n",
       ".xr-section-summary-in:checked ~ .xr-section-details {\n",
       "  display: contents;\n",
       "}\n",
       "\n",
       ".xr-array-wrap {\n",
       "  grid-column: 1 / -1;\n",
       "  display: grid;\n",
       "  grid-template-columns: 20px auto;\n",
       "}\n",
       "\n",
       ".xr-array-wrap > label {\n",
       "  grid-column: 1;\n",
       "  vertical-align: top;\n",
       "}\n",
       "\n",
       ".xr-preview {\n",
       "  color: var(--xr-font-color3);\n",
       "}\n",
       "\n",
       ".xr-array-preview,\n",
       ".xr-array-data {\n",
       "  padding: 0 5px !important;\n",
       "  grid-column: 2;\n",
       "}\n",
       "\n",
       ".xr-array-data,\n",
       ".xr-array-in:checked ~ .xr-array-preview {\n",
       "  display: none;\n",
       "}\n",
       "\n",
       ".xr-array-in:checked ~ .xr-array-data,\n",
       ".xr-array-preview {\n",
       "  display: inline-block;\n",
       "}\n",
       "\n",
       ".xr-dim-list {\n",
       "  display: inline-block !important;\n",
       "  list-style: none;\n",
       "  padding: 0 !important;\n",
       "  margin: 0;\n",
       "}\n",
       "\n",
       ".xr-dim-list li {\n",
       "  display: inline-block;\n",
       "  padding: 0;\n",
       "  margin: 0;\n",
       "}\n",
       "\n",
       ".xr-dim-list:before {\n",
       "  content: \"(\";\n",
       "}\n",
       "\n",
       ".xr-dim-list:after {\n",
       "  content: \")\";\n",
       "}\n",
       "\n",
       ".xr-dim-list li:not(:last-child):after {\n",
       "  content: \",\";\n",
       "  padding-right: 5px;\n",
       "}\n",
       "\n",
       ".xr-has-index {\n",
       "  font-weight: bold;\n",
       "}\n",
       "\n",
       ".xr-var-list,\n",
       ".xr-var-item {\n",
       "  display: contents;\n",
       "}\n",
       "\n",
       ".xr-var-item > div,\n",
       ".xr-var-item label,\n",
       ".xr-var-item > .xr-var-name span {\n",
       "  background-color: var(--xr-background-color-row-even);\n",
       "  margin-bottom: 0;\n",
       "}\n",
       "\n",
       ".xr-var-item > .xr-var-name:hover span {\n",
       "  padding-right: 5px;\n",
       "}\n",
       "\n",
       ".xr-var-list > li:nth-child(odd) > div,\n",
       ".xr-var-list > li:nth-child(odd) > label,\n",
       ".xr-var-list > li:nth-child(odd) > .xr-var-name span {\n",
       "  background-color: var(--xr-background-color-row-odd);\n",
       "}\n",
       "\n",
       ".xr-var-name {\n",
       "  grid-column: 1;\n",
       "}\n",
       "\n",
       ".xr-var-dims {\n",
       "  grid-column: 2;\n",
       "}\n",
       "\n",
       ".xr-var-dtype {\n",
       "  grid-column: 3;\n",
       "  text-align: right;\n",
       "  color: var(--xr-font-color2);\n",
       "}\n",
       "\n",
       ".xr-var-preview {\n",
       "  grid-column: 4;\n",
       "}\n",
       "\n",
       ".xr-index-preview {\n",
       "  grid-column: 2 / 5;\n",
       "  color: var(--xr-font-color2);\n",
       "}\n",
       "\n",
       ".xr-var-name,\n",
       ".xr-var-dims,\n",
       ".xr-var-dtype,\n",
       ".xr-preview,\n",
       ".xr-attrs dt {\n",
       "  white-space: nowrap;\n",
       "  overflow: hidden;\n",
       "  text-overflow: ellipsis;\n",
       "  padding-right: 10px;\n",
       "}\n",
       "\n",
       ".xr-var-name:hover,\n",
       ".xr-var-dims:hover,\n",
       ".xr-var-dtype:hover,\n",
       ".xr-attrs dt:hover {\n",
       "  overflow: visible;\n",
       "  width: auto;\n",
       "  z-index: 1;\n",
       "}\n",
       "\n",
       ".xr-var-attrs,\n",
       ".xr-var-data,\n",
       ".xr-index-data {\n",
       "  display: none;\n",
       "  background-color: var(--xr-background-color) !important;\n",
       "  padding-bottom: 5px !important;\n",
       "}\n",
       "\n",
       ".xr-var-attrs-in:checked ~ .xr-var-attrs,\n",
       ".xr-var-data-in:checked ~ .xr-var-data,\n",
       ".xr-index-data-in:checked ~ .xr-index-data {\n",
       "  display: block;\n",
       "}\n",
       "\n",
       ".xr-var-data > table {\n",
       "  float: right;\n",
       "}\n",
       "\n",
       ".xr-var-name span,\n",
       ".xr-var-data,\n",
       ".xr-index-name div,\n",
       ".xr-index-data,\n",
       ".xr-attrs {\n",
       "  padding-left: 25px !important;\n",
       "}\n",
       "\n",
       ".xr-attrs,\n",
       ".xr-var-attrs,\n",
       ".xr-var-data,\n",
       ".xr-index-data {\n",
       "  grid-column: 1 / -1;\n",
       "}\n",
       "\n",
       "dl.xr-attrs {\n",
       "  padding: 0;\n",
       "  margin: 0;\n",
       "  display: grid;\n",
       "  grid-template-columns: 125px auto;\n",
       "}\n",
       "\n",
       ".xr-attrs dt,\n",
       ".xr-attrs dd {\n",
       "  padding: 0;\n",
       "  margin: 0;\n",
       "  float: left;\n",
       "  padding-right: 10px;\n",
       "  width: auto;\n",
       "}\n",
       "\n",
       ".xr-attrs dt {\n",
       "  font-weight: normal;\n",
       "  grid-column: 1;\n",
       "}\n",
       "\n",
       ".xr-attrs dt:hover span {\n",
       "  display: inline-block;\n",
       "  background: var(--xr-background-color);\n",
       "  padding-right: 10px;\n",
       "}\n",
       "\n",
       ".xr-attrs dd {\n",
       "  grid-column: 2;\n",
       "  white-space: pre-wrap;\n",
       "  word-break: break-all;\n",
       "}\n",
       "\n",
       ".xr-icon-database,\n",
       ".xr-icon-file-text2,\n",
       ".xr-no-icon {\n",
       "  display: inline-block;\n",
       "  vertical-align: middle;\n",
       "  width: 1em;\n",
       "  height: 1.5em !important;\n",
       "  stroke-width: 0;\n",
       "  stroke: currentColor;\n",
       "  fill: currentColor;\n",
       "}\n",
       "</style><pre class='xr-text-repr-fallback'>&lt;xarray.DataArray &#x27;pteropods&#x27; (time: 579, is_day: 2, latitude: 12,\n",
       "                               longitude: 31, depth: 66)&gt; Size: 227MB\n",
       "array([[[[[nan, nan, nan, ..., nan, nan, nan],\n",
       "          [nan, nan, nan, ..., nan, nan, nan],\n",
       "          [nan, nan, nan, ..., nan, nan, nan],\n",
       "          ...,\n",
       "          [nan, nan, nan, ..., nan, nan, nan],\n",
       "          [nan, nan, nan, ..., nan, nan, nan],\n",
       "          [nan, nan, nan, ..., nan, nan, nan]],\n",
       "\n",
       "         [[nan, nan, nan, ..., nan, nan, nan],\n",
       "          [nan, nan, nan, ..., nan, nan, nan],\n",
       "          [nan, nan, nan, ..., nan, nan, nan],\n",
       "          ...,\n",
       "          [nan, nan, nan, ..., nan, nan, nan],\n",
       "          [nan, nan, nan, ..., nan, nan, nan],\n",
       "          [nan, nan, nan, ..., nan, nan, nan]],\n",
       "\n",
       "         [[nan, nan, nan, ..., nan, nan, nan],\n",
       "          [nan, nan, nan, ..., nan, nan, nan],\n",
       "          [nan, nan, nan, ..., nan, nan, nan],\n",
       "          ...,\n",
       "...\n",
       "          ...,\n",
       "          [nan, nan, nan, ..., nan, nan, nan],\n",
       "          [nan, nan, nan, ..., nan, nan, nan],\n",
       "          [nan, nan, nan, ..., nan, nan, nan]],\n",
       "\n",
       "         [[nan, nan, nan, ..., nan, nan, nan],\n",
       "          [nan, nan, nan, ..., nan, nan, nan],\n",
       "          [nan, nan, nan, ..., nan, nan, nan],\n",
       "          ...,\n",
       "          [nan, nan, nan, ..., nan, nan, nan],\n",
       "          [nan, nan, nan, ..., nan, nan, nan],\n",
       "          [nan, nan, nan, ..., nan, nan, nan]],\n",
       "\n",
       "         [[nan, nan, nan, ..., nan, nan, nan],\n",
       "          [nan, nan, nan, ..., nan, nan, nan],\n",
       "          [nan, nan, nan, ..., nan, nan, nan],\n",
       "          ...,\n",
       "          [nan, nan, nan, ..., nan, nan, nan],\n",
       "          [nan, nan, nan, ..., nan, nan, nan],\n",
       "          [nan, nan, nan, ..., nan, nan, nan]]]]])\n",
       "Coordinates:\n",
       "  * longitude  (longitude) float64 248B -157.5 -156.5 -155.5 ... -128.5 -127.5\n",
       "  * latitude   (latitude) float64 96B 46.5 47.5 48.5 49.5 ... 55.5 56.5 57.5\n",
       "  * is_day     (is_day) bool 2B False True\n",
       "  * depth      (depth) float64 528B 34.0 35.0 37.0 48.0 ... 261.0 276.0 295.0\n",
       "  * time       (time) datetime64[ns] 5kB 1998-01-19 1998-01-20 ... 2020-08-31\n",
       "Attributes:\n",
       "    standard_name:  pteropods\n",
       "    long_name:      dry weight of pteropods zooplankton\n",
       "    units:          mg/m3</pre><div class='xr-wrap' style='display:none'><div class='xr-header'><div class='xr-obj-type'>xarray.DataArray</div><div class='xr-array-name'>'pteropods'</div><ul class='xr-dim-list'><li><span class='xr-has-index'>time</span>: 579</li><li><span class='xr-has-index'>is_day</span>: 2</li><li><span class='xr-has-index'>latitude</span>: 12</li><li><span class='xr-has-index'>longitude</span>: 31</li><li><span class='xr-has-index'>depth</span>: 66</li></ul></div><ul class='xr-sections'><li class='xr-section-item'><div class='xr-array-wrap'><input id='section-083d3d5a-a2a5-4200-ab2b-8830157ce46b' class='xr-array-in' type='checkbox' checked><label for='section-083d3d5a-a2a5-4200-ab2b-8830157ce46b' title='Show/hide data repr'><svg class='icon xr-icon-database'><use xlink:href='#icon-database'></use></svg></label><div class='xr-array-preview xr-preview'><span>nan nan nan nan nan nan nan nan ... nan nan nan nan nan nan nan nan</span></div><div class='xr-array-data'><pre>array([[[[[nan, nan, nan, ..., nan, nan, nan],\n",
       "          [nan, nan, nan, ..., nan, nan, nan],\n",
       "          [nan, nan, nan, ..., nan, nan, nan],\n",
       "          ...,\n",
       "          [nan, nan, nan, ..., nan, nan, nan],\n",
       "          [nan, nan, nan, ..., nan, nan, nan],\n",
       "          [nan, nan, nan, ..., nan, nan, nan]],\n",
       "\n",
       "         [[nan, nan, nan, ..., nan, nan, nan],\n",
       "          [nan, nan, nan, ..., nan, nan, nan],\n",
       "          [nan, nan, nan, ..., nan, nan, nan],\n",
       "          ...,\n",
       "          [nan, nan, nan, ..., nan, nan, nan],\n",
       "          [nan, nan, nan, ..., nan, nan, nan],\n",
       "          [nan, nan, nan, ..., nan, nan, nan]],\n",
       "\n",
       "         [[nan, nan, nan, ..., nan, nan, nan],\n",
       "          [nan, nan, nan, ..., nan, nan, nan],\n",
       "          [nan, nan, nan, ..., nan, nan, nan],\n",
       "          ...,\n",
       "...\n",
       "          ...,\n",
       "          [nan, nan, nan, ..., nan, nan, nan],\n",
       "          [nan, nan, nan, ..., nan, nan, nan],\n",
       "          [nan, nan, nan, ..., nan, nan, nan]],\n",
       "\n",
       "         [[nan, nan, nan, ..., nan, nan, nan],\n",
       "          [nan, nan, nan, ..., nan, nan, nan],\n",
       "          [nan, nan, nan, ..., nan, nan, nan],\n",
       "          ...,\n",
       "          [nan, nan, nan, ..., nan, nan, nan],\n",
       "          [nan, nan, nan, ..., nan, nan, nan],\n",
       "          [nan, nan, nan, ..., nan, nan, nan]],\n",
       "\n",
       "         [[nan, nan, nan, ..., nan, nan, nan],\n",
       "          [nan, nan, nan, ..., nan, nan, nan],\n",
       "          [nan, nan, nan, ..., nan, nan, nan],\n",
       "          ...,\n",
       "          [nan, nan, nan, ..., nan, nan, nan],\n",
       "          [nan, nan, nan, ..., nan, nan, nan],\n",
       "          [nan, nan, nan, ..., nan, nan, nan]]]]])</pre></div></div></li><li class='xr-section-item'><input id='section-30411619-e377-4243-b5b4-d5e54533eb98' class='xr-section-summary-in' type='checkbox'  checked><label for='section-30411619-e377-4243-b5b4-d5e54533eb98' class='xr-section-summary' >Coordinates: <span>(5)</span></label><div class='xr-section-inline-details'></div><div class='xr-section-details'><ul class='xr-var-list'><li class='xr-var-item'><div class='xr-var-name'><span class='xr-has-index'>longitude</span></div><div class='xr-var-dims'>(longitude)</div><div class='xr-var-dtype'>float64</div><div class='xr-var-preview xr-preview'>-157.5 -156.5 ... -128.5 -127.5</div><input id='attrs-a7f58582-de0f-4cd0-988e-f043ed14a1f0' class='xr-var-attrs-in' type='checkbox' ><label for='attrs-a7f58582-de0f-4cd0-988e-f043ed14a1f0' title='Show/Hide attributes'><svg class='icon xr-icon-file-text2'><use xlink:href='#icon-file-text2'></use></svg></label><input id='data-d0b0bd07-b7a7-42c2-bd94-850a74a8fcc5' class='xr-var-data-in' type='checkbox'><label for='data-d0b0bd07-b7a7-42c2-bd94-850a74a8fcc5' title='Show/Hide data repr'><svg class='icon xr-icon-database'><use xlink:href='#icon-database'></use></svg></label><div class='xr-var-attrs'><dl class='xr-attrs'><dt><span>standard_name :</span></dt><dd>longitude</dd><dt><span>long_name :</span></dt><dd>longitude</dd><dt><span>axis :</span></dt><dd>X</dd><dt><span>units :</span></dt><dd>degrees_east</dd></dl></div><div class='xr-var-data'><pre>array([-157.5, -156.5, -155.5, -154.5, -153.5, -152.5, -151.5, -150.5, -149.5,\n",
       "       -148.5, -147.5, -146.5, -145.5, -144.5, -143.5, -142.5, -141.5, -140.5,\n",
       "       -139.5, -138.5, -137.5, -136.5, -135.5, -134.5, -133.5, -132.5, -131.5,\n",
       "       -130.5, -129.5, -128.5, -127.5])</pre></div></li><li class='xr-var-item'><div class='xr-var-name'><span class='xr-has-index'>latitude</span></div><div class='xr-var-dims'>(latitude)</div><div class='xr-var-dtype'>float64</div><div class='xr-var-preview xr-preview'>46.5 47.5 48.5 ... 55.5 56.5 57.5</div><input id='attrs-f5719f9b-8761-416a-86b6-964041016ae4' class='xr-var-attrs-in' type='checkbox' ><label for='attrs-f5719f9b-8761-416a-86b6-964041016ae4' title='Show/Hide attributes'><svg class='icon xr-icon-file-text2'><use xlink:href='#icon-file-text2'></use></svg></label><input id='data-53f09cb0-bb87-49cb-b974-7b66038115c3' class='xr-var-data-in' type='checkbox'><label for='data-53f09cb0-bb87-49cb-b974-7b66038115c3' title='Show/Hide data repr'><svg class='icon xr-icon-database'><use xlink:href='#icon-database'></use></svg></label><div class='xr-var-attrs'><dl class='xr-attrs'><dt><span>standard_name :</span></dt><dd>latitude</dd><dt><span>long_name :</span></dt><dd>latitude</dd><dt><span>axis :</span></dt><dd>Y</dd><dt><span>units :</span></dt><dd>degrees_north</dd></dl></div><div class='xr-var-data'><pre>array([46.5, 47.5, 48.5, 49.5, 50.5, 51.5, 52.5, 53.5, 54.5, 55.5, 56.5, 57.5])</pre></div></li><li class='xr-var-item'><div class='xr-var-name'><span class='xr-has-index'>is_day</span></div><div class='xr-var-dims'>(is_day)</div><div class='xr-var-dtype'>bool</div><div class='xr-var-preview xr-preview'>False True</div><input id='attrs-96031e7a-3443-4c6b-b45e-30be5da700df' class='xr-var-attrs-in' type='checkbox' ><label for='attrs-96031e7a-3443-4c6b-b45e-30be5da700df' title='Show/Hide attributes'><svg class='icon xr-icon-file-text2'><use xlink:href='#icon-file-text2'></use></svg></label><input id='data-0e60193b-f793-4762-a92c-e00c4b6702c5' class='xr-var-data-in' type='checkbox'><label for='data-0e60193b-f793-4762-a92c-e00c4b6702c5' title='Show/Hide data repr'><svg class='icon xr-icon-database'><use xlink:href='#icon-database'></use></svg></label><div class='xr-var-attrs'><dl class='xr-attrs'><dt><span>flag_values :</span></dt><dd>[True, False]</dd><dt><span>flag_meanings :</span></dt><dd>day night</dd><dt><span>standard_name :</span></dt><dd>is_day</dd><dt><span>long_name :</span></dt><dd>Is day</dd><dt><span>description :</span></dt><dd>Flag to indicate if the time is during the day or night</dd></dl></div><div class='xr-var-data'><pre>array([False,  True])</pre></div></li><li class='xr-var-item'><div class='xr-var-name'><span class='xr-has-index'>depth</span></div><div class='xr-var-dims'>(depth)</div><div class='xr-var-dtype'>float64</div><div class='xr-var-preview xr-preview'>34.0 35.0 37.0 ... 276.0 295.0</div><input id='attrs-922b3b19-1be6-49de-a6ee-e2790799b1aa' class='xr-var-attrs-in' type='checkbox' ><label for='attrs-922b3b19-1be6-49de-a6ee-e2790799b1aa' title='Show/Hide attributes'><svg class='icon xr-icon-file-text2'><use xlink:href='#icon-file-text2'></use></svg></label><input id='data-f9f2f608-5f2b-4aec-9d0c-4c9222c28d54' class='xr-var-data-in' type='checkbox'><label for='data-f9f2f608-5f2b-4aec-9d0c-4c9222c28d54' title='Show/Hide data repr'><svg class='icon xr-icon-database'><use xlink:href='#icon-database'></use></svg></label><div class='xr-var-attrs'><dl class='xr-attrs'><dt><span>standard_name :</span></dt><dd>depth</dd><dt><span>long_name :</span></dt><dd>depth</dd><dt><span>axis :</span></dt><dd>Z</dd><dt><span>units :</span></dt><dd>m</dd></dl></div><div class='xr-var-data'><pre>array([ 34.,  35.,  37.,  48.,  49.,  50.,  52.,  57.,  98.,  99., 100., 101.,\n",
       "       103., 105., 109., 121., 130., 139., 140., 141., 144., 145., 146., 147.,\n",
       "       148., 149., 150., 151., 152., 153., 154., 155., 156., 158., 159., 160.,\n",
       "       163., 164., 171., 192., 207., 213., 216., 217., 227., 229., 230., 235.,\n",
       "       238., 239., 240., 241., 244., 245., 246., 248., 249., 250., 251., 254.,\n",
       "       256., 257., 258., 261., 276., 295.])</pre></div></li><li class='xr-var-item'><div class='xr-var-name'><span class='xr-has-index'>time</span></div><div class='xr-var-dims'>(time)</div><div class='xr-var-dtype'>datetime64[ns]</div><div class='xr-var-preview xr-preview'>1998-01-19 ... 2020-08-31</div><input id='attrs-e39731e6-b3a3-47a3-84d2-89984d2e83cd' class='xr-var-attrs-in' type='checkbox' ><label for='attrs-e39731e6-b3a3-47a3-84d2-89984d2e83cd' title='Show/Hide attributes'><svg class='icon xr-icon-file-text2'><use xlink:href='#icon-file-text2'></use></svg></label><input id='data-cdf7ebfd-405a-41af-a583-a24835709af6' class='xr-var-data-in' type='checkbox'><label for='data-cdf7ebfd-405a-41af-a583-a24835709af6' title='Show/Hide data repr'><svg class='icon xr-icon-database'><use xlink:href='#icon-database'></use></svg></label><div class='xr-var-attrs'><dl class='xr-attrs'><dt><span>standard_name :</span></dt><dd>time</dd><dt><span>long_name :</span></dt><dd>time</dd><dt><span>axis :</span></dt><dd>T</dd></dl></div><div class='xr-var-data'><pre>array([&#x27;1998-01-19T00:00:00.000000000&#x27;, &#x27;1998-01-20T00:00:00.000000000&#x27;,\n",
       "       &#x27;1998-02-21T00:00:00.000000000&#x27;, ..., &#x27;2020-08-20T00:00:00.000000000&#x27;,\n",
       "       &#x27;2020-08-30T00:00:00.000000000&#x27;, &#x27;2020-08-31T00:00:00.000000000&#x27;],\n",
       "      dtype=&#x27;datetime64[ns]&#x27;)</pre></div></li></ul></div></li><li class='xr-section-item'><input id='section-16272fcc-96c8-4f86-a761-11218acb142c' class='xr-section-summary-in' type='checkbox'  ><label for='section-16272fcc-96c8-4f86-a761-11218acb142c' class='xr-section-summary' >Indexes: <span>(5)</span></label><div class='xr-section-inline-details'></div><div class='xr-section-details'><ul class='xr-var-list'><li class='xr-var-item'><div class='xr-index-name'><div>longitude</div></div><div class='xr-index-preview'>PandasIndex</div><input type='checkbox' disabled/><label></label><input id='index-759abeb4-c5ff-460f-81c7-72e16b66a5db' class='xr-index-data-in' type='checkbox'/><label for='index-759abeb4-c5ff-460f-81c7-72e16b66a5db' title='Show/Hide index repr'><svg class='icon xr-icon-database'><use xlink:href='#icon-database'></use></svg></label><div class='xr-index-data'><pre>PandasIndex(Index([-157.5, -156.5, -155.5, -154.5, -153.5, -152.5, -151.5, -150.5, -149.5,\n",
       "       -148.5, -147.5, -146.5, -145.5, -144.5, -143.5, -142.5, -141.5, -140.5,\n",
       "       -139.5, -138.5, -137.5, -136.5, -135.5, -134.5, -133.5, -132.5, -131.5,\n",
       "       -130.5, -129.5, -128.5, -127.5],\n",
       "      dtype=&#x27;float64&#x27;, name=&#x27;longitude&#x27;))</pre></div></li><li class='xr-var-item'><div class='xr-index-name'><div>latitude</div></div><div class='xr-index-preview'>PandasIndex</div><input type='checkbox' disabled/><label></label><input id='index-20272914-5c03-4a79-9813-cda972e56cea' class='xr-index-data-in' type='checkbox'/><label for='index-20272914-5c03-4a79-9813-cda972e56cea' title='Show/Hide index repr'><svg class='icon xr-icon-database'><use xlink:href='#icon-database'></use></svg></label><div class='xr-index-data'><pre>PandasIndex(Index([46.5, 47.5, 48.5, 49.5, 50.5, 51.5, 52.5, 53.5, 54.5, 55.5, 56.5, 57.5], dtype=&#x27;float64&#x27;, name=&#x27;latitude&#x27;))</pre></div></li><li class='xr-var-item'><div class='xr-index-name'><div>is_day</div></div><div class='xr-index-preview'>PandasIndex</div><input type='checkbox' disabled/><label></label><input id='index-932781e5-5444-45c2-b7d1-be4614216ee0' class='xr-index-data-in' type='checkbox'/><label for='index-932781e5-5444-45c2-b7d1-be4614216ee0' title='Show/Hide index repr'><svg class='icon xr-icon-database'><use xlink:href='#icon-database'></use></svg></label><div class='xr-index-data'><pre>PandasIndex(Index([False, True], dtype=&#x27;bool&#x27;, name=&#x27;is_day&#x27;))</pre></div></li><li class='xr-var-item'><div class='xr-index-name'><div>depth</div></div><div class='xr-index-preview'>PandasIndex</div><input type='checkbox' disabled/><label></label><input id='index-bf40a741-d307-47cc-bf64-869bec2babaa' class='xr-index-data-in' type='checkbox'/><label for='index-bf40a741-d307-47cc-bf64-869bec2babaa' title='Show/Hide index repr'><svg class='icon xr-icon-database'><use xlink:href='#icon-database'></use></svg></label><div class='xr-index-data'><pre>PandasIndex(Index([ 34.0,  35.0,  37.0,  48.0,  49.0,  50.0,  52.0,  57.0,  98.0,  99.0,\n",
       "       100.0, 101.0, 103.0, 105.0, 109.0, 121.0, 130.0, 139.0, 140.0, 141.0,\n",
       "       144.0, 145.0, 146.0, 147.0, 148.0, 149.0, 150.0, 151.0, 152.0, 153.0,\n",
       "       154.0, 155.0, 156.0, 158.0, 159.0, 160.0, 163.0, 164.0, 171.0, 192.0,\n",
       "       207.0, 213.0, 216.0, 217.0, 227.0, 229.0, 230.0, 235.0, 238.0, 239.0,\n",
       "       240.0, 241.0, 244.0, 245.0, 246.0, 248.0, 249.0, 250.0, 251.0, 254.0,\n",
       "       256.0, 257.0, 258.0, 261.0, 276.0, 295.0],\n",
       "      dtype=&#x27;float64&#x27;, name=&#x27;depth&#x27;))</pre></div></li><li class='xr-var-item'><div class='xr-index-name'><div>time</div></div><div class='xr-index-preview'>PandasIndex</div><input type='checkbox' disabled/><label></label><input id='index-2514b25d-48d7-4d8e-a6db-6d9a59739dc6' class='xr-index-data-in' type='checkbox'/><label for='index-2514b25d-48d7-4d8e-a6db-6d9a59739dc6' title='Show/Hide index repr'><svg class='icon xr-icon-database'><use xlink:href='#icon-database'></use></svg></label><div class='xr-index-data'><pre>PandasIndex(DatetimeIndex([&#x27;1998-01-19&#x27;, &#x27;1998-01-20&#x27;, &#x27;1998-02-21&#x27;, &#x27;1998-02-23&#x27;,\n",
       "               &#x27;1998-02-24&#x27;, &#x27;1998-02-27&#x27;, &#x27;1998-02-28&#x27;, &#x27;1998-03-03&#x27;,\n",
       "               &#x27;1998-04-08&#x27;, &#x27;1998-04-09&#x27;,\n",
       "               ...\n",
       "               &#x27;2020-07-05&#x27;, &#x27;2020-07-22&#x27;, &#x27;2020-07-26&#x27;, &#x27;2020-08-14&#x27;,\n",
       "               &#x27;2020-08-15&#x27;, &#x27;2020-08-17&#x27;, &#x27;2020-08-18&#x27;, &#x27;2020-08-20&#x27;,\n",
       "               &#x27;2020-08-30&#x27;, &#x27;2020-08-31&#x27;],\n",
       "              dtype=&#x27;datetime64[ns]&#x27;, name=&#x27;time&#x27;, length=579, freq=None))</pre></div></li></ul></div></li><li class='xr-section-item'><input id='section-409a45c5-4b75-4cb0-927f-d8a8ec80201d' class='xr-section-summary-in' type='checkbox'  checked><label for='section-409a45c5-4b75-4cb0-927f-d8a8ec80201d' class='xr-section-summary' >Attributes: <span>(3)</span></label><div class='xr-section-inline-details'></div><div class='xr-section-details'><dl class='xr-attrs'><dt><span>standard_name :</span></dt><dd>pteropods</dd><dt><span>long_name :</span></dt><dd>dry weight of pteropods zooplankton</dd><dt><span>units :</span></dt><dd>mg/m3</dd></dl></div></li></ul></div></div>"
      ],
      "text/plain": [
       "<xarray.DataArray 'pteropods' (time: 579, is_day: 2, latitude: 12,\n",
       "                               longitude: 31, depth: 66)> Size: 227MB\n",
       "array([[[[[nan, nan, nan, ..., nan, nan, nan],\n",
       "          [nan, nan, nan, ..., nan, nan, nan],\n",
       "          [nan, nan, nan, ..., nan, nan, nan],\n",
       "          ...,\n",
       "          [nan, nan, nan, ..., nan, nan, nan],\n",
       "          [nan, nan, nan, ..., nan, nan, nan],\n",
       "          [nan, nan, nan, ..., nan, nan, nan]],\n",
       "\n",
       "         [[nan, nan, nan, ..., nan, nan, nan],\n",
       "          [nan, nan, nan, ..., nan, nan, nan],\n",
       "          [nan, nan, nan, ..., nan, nan, nan],\n",
       "          ...,\n",
       "          [nan, nan, nan, ..., nan, nan, nan],\n",
       "          [nan, nan, nan, ..., nan, nan, nan],\n",
       "          [nan, nan, nan, ..., nan, nan, nan]],\n",
       "\n",
       "         [[nan, nan, nan, ..., nan, nan, nan],\n",
       "          [nan, nan, nan, ..., nan, nan, nan],\n",
       "          [nan, nan, nan, ..., nan, nan, nan],\n",
       "          ...,\n",
       "...\n",
       "          ...,\n",
       "          [nan, nan, nan, ..., nan, nan, nan],\n",
       "          [nan, nan, nan, ..., nan, nan, nan],\n",
       "          [nan, nan, nan, ..., nan, nan, nan]],\n",
       "\n",
       "         [[nan, nan, nan, ..., nan, nan, nan],\n",
       "          [nan, nan, nan, ..., nan, nan, nan],\n",
       "          [nan, nan, nan, ..., nan, nan, nan],\n",
       "          ...,\n",
       "          [nan, nan, nan, ..., nan, nan, nan],\n",
       "          [nan, nan, nan, ..., nan, nan, nan],\n",
       "          [nan, nan, nan, ..., nan, nan, nan]],\n",
       "\n",
       "         [[nan, nan, nan, ..., nan, nan, nan],\n",
       "          [nan, nan, nan, ..., nan, nan, nan],\n",
       "          [nan, nan, nan, ..., nan, nan, nan],\n",
       "          ...,\n",
       "          [nan, nan, nan, ..., nan, nan, nan],\n",
       "          [nan, nan, nan, ..., nan, nan, nan],\n",
       "          [nan, nan, nan, ..., nan, nan, nan]]]]])\n",
       "Coordinates:\n",
       "  * longitude  (longitude) float64 248B -157.5 -156.5 -155.5 ... -128.5 -127.5\n",
       "  * latitude   (latitude) float64 96B 46.5 47.5 48.5 49.5 ... 55.5 56.5 57.5\n",
       "  * is_day     (is_day) bool 2B False True\n",
       "  * depth      (depth) float64 528B 34.0 35.0 37.0 48.0 ... 261.0 276.0 295.0\n",
       "  * time       (time) datetime64[ns] 5kB 1998-01-19 1998-01-20 ... 2020-08-31\n",
       "Attributes:\n",
       "    standard_name:  pteropods\n",
       "    long_name:      dry weight of pteropods zooplankton\n",
       "    units:          mg/m3"
      ]
     },
     "execution_count": 4,
     "metadata": {},
     "output_type": "execute_result"
    }
   ],
   "source": [
    "#extract pteropod data\n",
    "ds_pter=papa_data['pteropods']\n",
    "ds_pter"
   ]
  },
  {
   "cell_type": "code",
   "execution_count": 5,
   "id": "87d784ed",
   "metadata": {},
   "outputs": [
    {
     "data": {
      "text/html": [
       "<div><svg style=\"position: absolute; width: 0; height: 0; overflow: hidden\">\n",
       "<defs>\n",
       "<symbol id=\"icon-database\" viewBox=\"0 0 32 32\">\n",
       "<path d=\"M16 0c-8.837 0-16 2.239-16 5v4c0 2.761 7.163 5 16 5s16-2.239 16-5v-4c0-2.761-7.163-5-16-5z\"></path>\n",
       "<path d=\"M16 17c-8.837 0-16-2.239-16-5v6c0 2.761 7.163 5 16 5s16-2.239 16-5v-6c0 2.761-7.163 5-16 5z\"></path>\n",
       "<path d=\"M16 26c-8.837 0-16-2.239-16-5v6c0 2.761 7.163 5 16 5s16-2.239 16-5v-6c0 2.761-7.163 5-16 5z\"></path>\n",
       "</symbol>\n",
       "<symbol id=\"icon-file-text2\" viewBox=\"0 0 32 32\">\n",
       "<path d=\"M28.681 7.159c-0.694-0.947-1.662-2.053-2.724-3.116s-2.169-2.030-3.116-2.724c-1.612-1.182-2.393-1.319-2.841-1.319h-15.5c-1.378 0-2.5 1.121-2.5 2.5v27c0 1.378 1.122 2.5 2.5 2.5h23c1.378 0 2.5-1.122 2.5-2.5v-19.5c0-0.448-0.137-1.23-1.319-2.841zM24.543 5.457c0.959 0.959 1.712 1.825 2.268 2.543h-4.811v-4.811c0.718 0.556 1.584 1.309 2.543 2.268zM28 29.5c0 0.271-0.229 0.5-0.5 0.5h-23c-0.271 0-0.5-0.229-0.5-0.5v-27c0-0.271 0.229-0.5 0.5-0.5 0 0 15.499-0 15.5 0v7c0 0.552 0.448 1 1 1h7v19.5z\"></path>\n",
       "<path d=\"M23 26h-14c-0.552 0-1-0.448-1-1s0.448-1 1-1h14c0.552 0 1 0.448 1 1s-0.448 1-1 1z\"></path>\n",
       "<path d=\"M23 22h-14c-0.552 0-1-0.448-1-1s0.448-1 1-1h14c0.552 0 1 0.448 1 1s-0.448 1-1 1z\"></path>\n",
       "<path d=\"M23 18h-14c-0.552 0-1-0.448-1-1s0.448-1 1-1h14c0.552 0 1 0.448 1 1s-0.448 1-1 1z\"></path>\n",
       "</symbol>\n",
       "</defs>\n",
       "</svg>\n",
       "<style>/* CSS stylesheet for displaying xarray objects in jupyterlab.\n",
       " *\n",
       " */\n",
       "\n",
       ":root {\n",
       "  --xr-font-color0: var(--jp-content-font-color0, rgba(0, 0, 0, 1));\n",
       "  --xr-font-color2: var(--jp-content-font-color2, rgba(0, 0, 0, 0.54));\n",
       "  --xr-font-color3: var(--jp-content-font-color3, rgba(0, 0, 0, 0.38));\n",
       "  --xr-border-color: var(--jp-border-color2, #e0e0e0);\n",
       "  --xr-disabled-color: var(--jp-layout-color3, #bdbdbd);\n",
       "  --xr-background-color: var(--jp-layout-color0, white);\n",
       "  --xr-background-color-row-even: var(--jp-layout-color1, white);\n",
       "  --xr-background-color-row-odd: var(--jp-layout-color2, #eeeeee);\n",
       "}\n",
       "\n",
       "html[theme=\"dark\"],\n",
       "html[data-theme=\"dark\"],\n",
       "body[data-theme=\"dark\"],\n",
       "body.vscode-dark {\n",
       "  --xr-font-color0: rgba(255, 255, 255, 1);\n",
       "  --xr-font-color2: rgba(255, 255, 255, 0.54);\n",
       "  --xr-font-color3: rgba(255, 255, 255, 0.38);\n",
       "  --xr-border-color: #1f1f1f;\n",
       "  --xr-disabled-color: #515151;\n",
       "  --xr-background-color: #111111;\n",
       "  --xr-background-color-row-even: #111111;\n",
       "  --xr-background-color-row-odd: #313131;\n",
       "}\n",
       "\n",
       ".xr-wrap {\n",
       "  display: block !important;\n",
       "  min-width: 300px;\n",
       "  max-width: 700px;\n",
       "}\n",
       "\n",
       ".xr-text-repr-fallback {\n",
       "  /* fallback to plain text repr when CSS is not injected (untrusted notebook) */\n",
       "  display: none;\n",
       "}\n",
       "\n",
       ".xr-header {\n",
       "  padding-top: 6px;\n",
       "  padding-bottom: 6px;\n",
       "  margin-bottom: 4px;\n",
       "  border-bottom: solid 1px var(--xr-border-color);\n",
       "}\n",
       "\n",
       ".xr-header > div,\n",
       ".xr-header > ul {\n",
       "  display: inline;\n",
       "  margin-top: 0;\n",
       "  margin-bottom: 0;\n",
       "}\n",
       "\n",
       ".xr-obj-type,\n",
       ".xr-array-name {\n",
       "  margin-left: 2px;\n",
       "  margin-right: 10px;\n",
       "}\n",
       "\n",
       ".xr-obj-type {\n",
       "  color: var(--xr-font-color2);\n",
       "}\n",
       "\n",
       ".xr-sections {\n",
       "  padding-left: 0 !important;\n",
       "  display: grid;\n",
       "  grid-template-columns: 150px auto auto 1fr 0 20px 0 20px;\n",
       "}\n",
       "\n",
       ".xr-section-item {\n",
       "  display: contents;\n",
       "}\n",
       "\n",
       ".xr-section-item input {\n",
       "  display: inline-block;\n",
       "  opacity: 0;\n",
       "  height: 0;\n",
       "}\n",
       "\n",
       ".xr-section-item input + label {\n",
       "  color: var(--xr-disabled-color);\n",
       "}\n",
       "\n",
       ".xr-section-item input:enabled + label {\n",
       "  cursor: pointer;\n",
       "  color: var(--xr-font-color2);\n",
       "}\n",
       "\n",
       ".xr-section-item input:focus + label {\n",
       "  border: 2px solid var(--xr-font-color0);\n",
       "}\n",
       "\n",
       ".xr-section-item input:enabled + label:hover {\n",
       "  color: var(--xr-font-color0);\n",
       "}\n",
       "\n",
       ".xr-section-summary {\n",
       "  grid-column: 1;\n",
       "  color: var(--xr-font-color2);\n",
       "  font-weight: 500;\n",
       "}\n",
       "\n",
       ".xr-section-summary > span {\n",
       "  display: inline-block;\n",
       "  padding-left: 0.5em;\n",
       "}\n",
       "\n",
       ".xr-section-summary-in:disabled + label {\n",
       "  color: var(--xr-font-color2);\n",
       "}\n",
       "\n",
       ".xr-section-summary-in + label:before {\n",
       "  display: inline-block;\n",
       "  content: \"►\";\n",
       "  font-size: 11px;\n",
       "  width: 15px;\n",
       "  text-align: center;\n",
       "}\n",
       "\n",
       ".xr-section-summary-in:disabled + label:before {\n",
       "  color: var(--xr-disabled-color);\n",
       "}\n",
       "\n",
       ".xr-section-summary-in:checked + label:before {\n",
       "  content: \"▼\";\n",
       "}\n",
       "\n",
       ".xr-section-summary-in:checked + label > span {\n",
       "  display: none;\n",
       "}\n",
       "\n",
       ".xr-section-summary,\n",
       ".xr-section-inline-details {\n",
       "  padding-top: 4px;\n",
       "  padding-bottom: 4px;\n",
       "}\n",
       "\n",
       ".xr-section-inline-details {\n",
       "  grid-column: 2 / -1;\n",
       "}\n",
       "\n",
       ".xr-section-details {\n",
       "  display: none;\n",
       "  grid-column: 1 / -1;\n",
       "  margin-bottom: 5px;\n",
       "}\n",
       "\n",
       ".xr-section-summary-in:checked ~ .xr-section-details {\n",
       "  display: contents;\n",
       "}\n",
       "\n",
       ".xr-array-wrap {\n",
       "  grid-column: 1 / -1;\n",
       "  display: grid;\n",
       "  grid-template-columns: 20px auto;\n",
       "}\n",
       "\n",
       ".xr-array-wrap > label {\n",
       "  grid-column: 1;\n",
       "  vertical-align: top;\n",
       "}\n",
       "\n",
       ".xr-preview {\n",
       "  color: var(--xr-font-color3);\n",
       "}\n",
       "\n",
       ".xr-array-preview,\n",
       ".xr-array-data {\n",
       "  padding: 0 5px !important;\n",
       "  grid-column: 2;\n",
       "}\n",
       "\n",
       ".xr-array-data,\n",
       ".xr-array-in:checked ~ .xr-array-preview {\n",
       "  display: none;\n",
       "}\n",
       "\n",
       ".xr-array-in:checked ~ .xr-array-data,\n",
       ".xr-array-preview {\n",
       "  display: inline-block;\n",
       "}\n",
       "\n",
       ".xr-dim-list {\n",
       "  display: inline-block !important;\n",
       "  list-style: none;\n",
       "  padding: 0 !important;\n",
       "  margin: 0;\n",
       "}\n",
       "\n",
       ".xr-dim-list li {\n",
       "  display: inline-block;\n",
       "  padding: 0;\n",
       "  margin: 0;\n",
       "}\n",
       "\n",
       ".xr-dim-list:before {\n",
       "  content: \"(\";\n",
       "}\n",
       "\n",
       ".xr-dim-list:after {\n",
       "  content: \")\";\n",
       "}\n",
       "\n",
       ".xr-dim-list li:not(:last-child):after {\n",
       "  content: \",\";\n",
       "  padding-right: 5px;\n",
       "}\n",
       "\n",
       ".xr-has-index {\n",
       "  font-weight: bold;\n",
       "}\n",
       "\n",
       ".xr-var-list,\n",
       ".xr-var-item {\n",
       "  display: contents;\n",
       "}\n",
       "\n",
       ".xr-var-item > div,\n",
       ".xr-var-item label,\n",
       ".xr-var-item > .xr-var-name span {\n",
       "  background-color: var(--xr-background-color-row-even);\n",
       "  margin-bottom: 0;\n",
       "}\n",
       "\n",
       ".xr-var-item > .xr-var-name:hover span {\n",
       "  padding-right: 5px;\n",
       "}\n",
       "\n",
       ".xr-var-list > li:nth-child(odd) > div,\n",
       ".xr-var-list > li:nth-child(odd) > label,\n",
       ".xr-var-list > li:nth-child(odd) > .xr-var-name span {\n",
       "  background-color: var(--xr-background-color-row-odd);\n",
       "}\n",
       "\n",
       ".xr-var-name {\n",
       "  grid-column: 1;\n",
       "}\n",
       "\n",
       ".xr-var-dims {\n",
       "  grid-column: 2;\n",
       "}\n",
       "\n",
       ".xr-var-dtype {\n",
       "  grid-column: 3;\n",
       "  text-align: right;\n",
       "  color: var(--xr-font-color2);\n",
       "}\n",
       "\n",
       ".xr-var-preview {\n",
       "  grid-column: 4;\n",
       "}\n",
       "\n",
       ".xr-index-preview {\n",
       "  grid-column: 2 / 5;\n",
       "  color: var(--xr-font-color2);\n",
       "}\n",
       "\n",
       ".xr-var-name,\n",
       ".xr-var-dims,\n",
       ".xr-var-dtype,\n",
       ".xr-preview,\n",
       ".xr-attrs dt {\n",
       "  white-space: nowrap;\n",
       "  overflow: hidden;\n",
       "  text-overflow: ellipsis;\n",
       "  padding-right: 10px;\n",
       "}\n",
       "\n",
       ".xr-var-name:hover,\n",
       ".xr-var-dims:hover,\n",
       ".xr-var-dtype:hover,\n",
       ".xr-attrs dt:hover {\n",
       "  overflow: visible;\n",
       "  width: auto;\n",
       "  z-index: 1;\n",
       "}\n",
       "\n",
       ".xr-var-attrs,\n",
       ".xr-var-data,\n",
       ".xr-index-data {\n",
       "  display: none;\n",
       "  background-color: var(--xr-background-color) !important;\n",
       "  padding-bottom: 5px !important;\n",
       "}\n",
       "\n",
       ".xr-var-attrs-in:checked ~ .xr-var-attrs,\n",
       ".xr-var-data-in:checked ~ .xr-var-data,\n",
       ".xr-index-data-in:checked ~ .xr-index-data {\n",
       "  display: block;\n",
       "}\n",
       "\n",
       ".xr-var-data > table {\n",
       "  float: right;\n",
       "}\n",
       "\n",
       ".xr-var-name span,\n",
       ".xr-var-data,\n",
       ".xr-index-name div,\n",
       ".xr-index-data,\n",
       ".xr-attrs {\n",
       "  padding-left: 25px !important;\n",
       "}\n",
       "\n",
       ".xr-attrs,\n",
       ".xr-var-attrs,\n",
       ".xr-var-data,\n",
       ".xr-index-data {\n",
       "  grid-column: 1 / -1;\n",
       "}\n",
       "\n",
       "dl.xr-attrs {\n",
       "  padding: 0;\n",
       "  margin: 0;\n",
       "  display: grid;\n",
       "  grid-template-columns: 125px auto;\n",
       "}\n",
       "\n",
       ".xr-attrs dt,\n",
       ".xr-attrs dd {\n",
       "  padding: 0;\n",
       "  margin: 0;\n",
       "  float: left;\n",
       "  padding-right: 10px;\n",
       "  width: auto;\n",
       "}\n",
       "\n",
       ".xr-attrs dt {\n",
       "  font-weight: normal;\n",
       "  grid-column: 1;\n",
       "}\n",
       "\n",
       ".xr-attrs dt:hover span {\n",
       "  display: inline-block;\n",
       "  background: var(--xr-background-color);\n",
       "  padding-right: 10px;\n",
       "}\n",
       "\n",
       ".xr-attrs dd {\n",
       "  grid-column: 2;\n",
       "  white-space: pre-wrap;\n",
       "  word-break: break-all;\n",
       "}\n",
       "\n",
       ".xr-icon-database,\n",
       ".xr-icon-file-text2,\n",
       ".xr-no-icon {\n",
       "  display: inline-block;\n",
       "  vertical-align: middle;\n",
       "  width: 1em;\n",
       "  height: 1.5em !important;\n",
       "  stroke-width: 0;\n",
       "  stroke: currentColor;\n",
       "  fill: currentColor;\n",
       "}\n",
       "</style><pre class='xr-text-repr-fallback'>&lt;xarray.DataArray &#x27;epipelagic_depth&#x27; (time: 579, is_day: 2, latitude: 12,\n",
       "                                      longitude: 31, depth: 66)&gt; Size: 227MB\n",
       "array([[[[[nan, nan, nan, ..., nan, nan, nan],\n",
       "          [nan, nan, nan, ..., nan, nan, nan],\n",
       "          [nan, nan, nan, ..., nan, nan, nan],\n",
       "          ...,\n",
       "          [nan, nan, nan, ..., nan, nan, nan],\n",
       "          [nan, nan, nan, ..., nan, nan, nan],\n",
       "          [nan, nan, nan, ..., nan, nan, nan]],\n",
       "\n",
       "         [[nan, nan, nan, ..., nan, nan, nan],\n",
       "          [nan, nan, nan, ..., nan, nan, nan],\n",
       "          [nan, nan, nan, ..., nan, nan, nan],\n",
       "          ...,\n",
       "          [nan, nan, nan, ..., nan, nan, nan],\n",
       "          [nan, nan, nan, ..., nan, nan, nan],\n",
       "          [nan, nan, nan, ..., nan, nan, nan]],\n",
       "\n",
       "         [[nan, nan, nan, ..., nan, nan, nan],\n",
       "          [nan, nan, nan, ..., nan, nan, nan],\n",
       "          [nan, nan, nan, ..., nan, nan, nan],\n",
       "          ...,\n",
       "...\n",
       "          ...,\n",
       "          [nan, nan, nan, ..., nan, nan, nan],\n",
       "          [nan, nan, nan, ..., nan, nan, nan],\n",
       "          [nan, nan, nan, ..., nan, nan, nan]],\n",
       "\n",
       "         [[nan, nan, nan, ..., nan, nan, nan],\n",
       "          [nan, nan, nan, ..., nan, nan, nan],\n",
       "          [nan, nan, nan, ..., nan, nan, nan],\n",
       "          ...,\n",
       "          [nan, nan, nan, ..., nan, nan, nan],\n",
       "          [nan, nan, nan, ..., nan, nan, nan],\n",
       "          [nan, nan, nan, ..., nan, nan, nan]],\n",
       "\n",
       "         [[nan, nan, nan, ..., nan, nan, nan],\n",
       "          [nan, nan, nan, ..., nan, nan, nan],\n",
       "          [nan, nan, nan, ..., nan, nan, nan],\n",
       "          ...,\n",
       "          [nan, nan, nan, ..., nan, nan, nan],\n",
       "          [nan, nan, nan, ..., nan, nan, nan],\n",
       "          [nan, nan, nan, ..., nan, nan, nan]]]]])\n",
       "Coordinates:\n",
       "  * longitude  (longitude) float64 248B -157.5 -156.5 -155.5 ... -128.5 -127.5\n",
       "  * latitude   (latitude) float64 96B 46.5 47.5 48.5 49.5 ... 55.5 56.5 57.5\n",
       "  * is_day     (is_day) bool 2B False True\n",
       "  * depth      (depth) float64 528B 34.0 35.0 37.0 48.0 ... 261.0 276.0 295.0\n",
       "  * time       (time) datetime64[ns] 5kB 1998-01-19 1998-01-20 ... 2020-08-31\n",
       "Attributes:\n",
       "    standard_name:  epipelagic_depth\n",
       "    long_name:      epipelagic depth - observed data (CMEMS)\n",
       "    units:          m</pre><div class='xr-wrap' style='display:none'><div class='xr-header'><div class='xr-obj-type'>xarray.DataArray</div><div class='xr-array-name'>'epipelagic_depth'</div><ul class='xr-dim-list'><li><span class='xr-has-index'>time</span>: 579</li><li><span class='xr-has-index'>is_day</span>: 2</li><li><span class='xr-has-index'>latitude</span>: 12</li><li><span class='xr-has-index'>longitude</span>: 31</li><li><span class='xr-has-index'>depth</span>: 66</li></ul></div><ul class='xr-sections'><li class='xr-section-item'><div class='xr-array-wrap'><input id='section-093355de-4b3b-4eeb-a411-a3be90f415d2' class='xr-array-in' type='checkbox' checked><label for='section-093355de-4b3b-4eeb-a411-a3be90f415d2' title='Show/hide data repr'><svg class='icon xr-icon-database'><use xlink:href='#icon-database'></use></svg></label><div class='xr-array-preview xr-preview'><span>nan nan nan nan nan nan nan nan ... nan nan nan nan nan nan nan nan</span></div><div class='xr-array-data'><pre>array([[[[[nan, nan, nan, ..., nan, nan, nan],\n",
       "          [nan, nan, nan, ..., nan, nan, nan],\n",
       "          [nan, nan, nan, ..., nan, nan, nan],\n",
       "          ...,\n",
       "          [nan, nan, nan, ..., nan, nan, nan],\n",
       "          [nan, nan, nan, ..., nan, nan, nan],\n",
       "          [nan, nan, nan, ..., nan, nan, nan]],\n",
       "\n",
       "         [[nan, nan, nan, ..., nan, nan, nan],\n",
       "          [nan, nan, nan, ..., nan, nan, nan],\n",
       "          [nan, nan, nan, ..., nan, nan, nan],\n",
       "          ...,\n",
       "          [nan, nan, nan, ..., nan, nan, nan],\n",
       "          [nan, nan, nan, ..., nan, nan, nan],\n",
       "          [nan, nan, nan, ..., nan, nan, nan]],\n",
       "\n",
       "         [[nan, nan, nan, ..., nan, nan, nan],\n",
       "          [nan, nan, nan, ..., nan, nan, nan],\n",
       "          [nan, nan, nan, ..., nan, nan, nan],\n",
       "          ...,\n",
       "...\n",
       "          ...,\n",
       "          [nan, nan, nan, ..., nan, nan, nan],\n",
       "          [nan, nan, nan, ..., nan, nan, nan],\n",
       "          [nan, nan, nan, ..., nan, nan, nan]],\n",
       "\n",
       "         [[nan, nan, nan, ..., nan, nan, nan],\n",
       "          [nan, nan, nan, ..., nan, nan, nan],\n",
       "          [nan, nan, nan, ..., nan, nan, nan],\n",
       "          ...,\n",
       "          [nan, nan, nan, ..., nan, nan, nan],\n",
       "          [nan, nan, nan, ..., nan, nan, nan],\n",
       "          [nan, nan, nan, ..., nan, nan, nan]],\n",
       "\n",
       "         [[nan, nan, nan, ..., nan, nan, nan],\n",
       "          [nan, nan, nan, ..., nan, nan, nan],\n",
       "          [nan, nan, nan, ..., nan, nan, nan],\n",
       "          ...,\n",
       "          [nan, nan, nan, ..., nan, nan, nan],\n",
       "          [nan, nan, nan, ..., nan, nan, nan],\n",
       "          [nan, nan, nan, ..., nan, nan, nan]]]]])</pre></div></div></li><li class='xr-section-item'><input id='section-b3ad9c24-a46a-47a9-9805-72279d1a964b' class='xr-section-summary-in' type='checkbox'  checked><label for='section-b3ad9c24-a46a-47a9-9805-72279d1a964b' class='xr-section-summary' >Coordinates: <span>(5)</span></label><div class='xr-section-inline-details'></div><div class='xr-section-details'><ul class='xr-var-list'><li class='xr-var-item'><div class='xr-var-name'><span class='xr-has-index'>longitude</span></div><div class='xr-var-dims'>(longitude)</div><div class='xr-var-dtype'>float64</div><div class='xr-var-preview xr-preview'>-157.5 -156.5 ... -128.5 -127.5</div><input id='attrs-a25faf00-7f03-41f8-aca3-be6858b70c52' class='xr-var-attrs-in' type='checkbox' ><label for='attrs-a25faf00-7f03-41f8-aca3-be6858b70c52' title='Show/Hide attributes'><svg class='icon xr-icon-file-text2'><use xlink:href='#icon-file-text2'></use></svg></label><input id='data-03961c12-c298-4c73-b43b-2deaad522055' class='xr-var-data-in' type='checkbox'><label for='data-03961c12-c298-4c73-b43b-2deaad522055' title='Show/Hide data repr'><svg class='icon xr-icon-database'><use xlink:href='#icon-database'></use></svg></label><div class='xr-var-attrs'><dl class='xr-attrs'><dt><span>standard_name :</span></dt><dd>longitude</dd><dt><span>long_name :</span></dt><dd>longitude</dd><dt><span>axis :</span></dt><dd>X</dd><dt><span>units :</span></dt><dd>degrees_east</dd></dl></div><div class='xr-var-data'><pre>array([-157.5, -156.5, -155.5, -154.5, -153.5, -152.5, -151.5, -150.5, -149.5,\n",
       "       -148.5, -147.5, -146.5, -145.5, -144.5, -143.5, -142.5, -141.5, -140.5,\n",
       "       -139.5, -138.5, -137.5, -136.5, -135.5, -134.5, -133.5, -132.5, -131.5,\n",
       "       -130.5, -129.5, -128.5, -127.5])</pre></div></li><li class='xr-var-item'><div class='xr-var-name'><span class='xr-has-index'>latitude</span></div><div class='xr-var-dims'>(latitude)</div><div class='xr-var-dtype'>float64</div><div class='xr-var-preview xr-preview'>46.5 47.5 48.5 ... 55.5 56.5 57.5</div><input id='attrs-b3b4b83b-26ed-42bf-9734-1ecd794a4d52' class='xr-var-attrs-in' type='checkbox' ><label for='attrs-b3b4b83b-26ed-42bf-9734-1ecd794a4d52' title='Show/Hide attributes'><svg class='icon xr-icon-file-text2'><use xlink:href='#icon-file-text2'></use></svg></label><input id='data-da01e5d8-44b4-4776-9b17-a69bb1e57299' class='xr-var-data-in' type='checkbox'><label for='data-da01e5d8-44b4-4776-9b17-a69bb1e57299' title='Show/Hide data repr'><svg class='icon xr-icon-database'><use xlink:href='#icon-database'></use></svg></label><div class='xr-var-attrs'><dl class='xr-attrs'><dt><span>standard_name :</span></dt><dd>latitude</dd><dt><span>long_name :</span></dt><dd>latitude</dd><dt><span>axis :</span></dt><dd>Y</dd><dt><span>units :</span></dt><dd>degrees_north</dd></dl></div><div class='xr-var-data'><pre>array([46.5, 47.5, 48.5, 49.5, 50.5, 51.5, 52.5, 53.5, 54.5, 55.5, 56.5, 57.5])</pre></div></li><li class='xr-var-item'><div class='xr-var-name'><span class='xr-has-index'>is_day</span></div><div class='xr-var-dims'>(is_day)</div><div class='xr-var-dtype'>bool</div><div class='xr-var-preview xr-preview'>False True</div><input id='attrs-438742c3-a58a-4f8e-b210-271ad2c1ed62' class='xr-var-attrs-in' type='checkbox' ><label for='attrs-438742c3-a58a-4f8e-b210-271ad2c1ed62' title='Show/Hide attributes'><svg class='icon xr-icon-file-text2'><use xlink:href='#icon-file-text2'></use></svg></label><input id='data-92ab0073-b98b-4474-83a0-9e7f85b600b2' class='xr-var-data-in' type='checkbox'><label for='data-92ab0073-b98b-4474-83a0-9e7f85b600b2' title='Show/Hide data repr'><svg class='icon xr-icon-database'><use xlink:href='#icon-database'></use></svg></label><div class='xr-var-attrs'><dl class='xr-attrs'><dt><span>flag_values :</span></dt><dd>[True, False]</dd><dt><span>flag_meanings :</span></dt><dd>day night</dd><dt><span>standard_name :</span></dt><dd>is_day</dd><dt><span>long_name :</span></dt><dd>Is day</dd><dt><span>description :</span></dt><dd>Flag to indicate if the time is during the day or night</dd></dl></div><div class='xr-var-data'><pre>array([False,  True])</pre></div></li><li class='xr-var-item'><div class='xr-var-name'><span class='xr-has-index'>depth</span></div><div class='xr-var-dims'>(depth)</div><div class='xr-var-dtype'>float64</div><div class='xr-var-preview xr-preview'>34.0 35.0 37.0 ... 276.0 295.0</div><input id='attrs-eaf567cd-f836-4208-88f8-f32e7d5bffee' class='xr-var-attrs-in' type='checkbox' ><label for='attrs-eaf567cd-f836-4208-88f8-f32e7d5bffee' title='Show/Hide attributes'><svg class='icon xr-icon-file-text2'><use xlink:href='#icon-file-text2'></use></svg></label><input id='data-5f0d626c-d91c-4cee-bef2-4d5096889013' class='xr-var-data-in' type='checkbox'><label for='data-5f0d626c-d91c-4cee-bef2-4d5096889013' title='Show/Hide data repr'><svg class='icon xr-icon-database'><use xlink:href='#icon-database'></use></svg></label><div class='xr-var-attrs'><dl class='xr-attrs'><dt><span>standard_name :</span></dt><dd>depth</dd><dt><span>long_name :</span></dt><dd>depth</dd><dt><span>axis :</span></dt><dd>Z</dd><dt><span>units :</span></dt><dd>m</dd></dl></div><div class='xr-var-data'><pre>array([ 34.,  35.,  37.,  48.,  49.,  50.,  52.,  57.,  98.,  99., 100., 101.,\n",
       "       103., 105., 109., 121., 130., 139., 140., 141., 144., 145., 146., 147.,\n",
       "       148., 149., 150., 151., 152., 153., 154., 155., 156., 158., 159., 160.,\n",
       "       163., 164., 171., 192., 207., 213., 216., 217., 227., 229., 230., 235.,\n",
       "       238., 239., 240., 241., 244., 245., 246., 248., 249., 250., 251., 254.,\n",
       "       256., 257., 258., 261., 276., 295.])</pre></div></li><li class='xr-var-item'><div class='xr-var-name'><span class='xr-has-index'>time</span></div><div class='xr-var-dims'>(time)</div><div class='xr-var-dtype'>datetime64[ns]</div><div class='xr-var-preview xr-preview'>1998-01-19 ... 2020-08-31</div><input id='attrs-d4355297-c67e-47cb-a72e-659a2425fadf' class='xr-var-attrs-in' type='checkbox' ><label for='attrs-d4355297-c67e-47cb-a72e-659a2425fadf' title='Show/Hide attributes'><svg class='icon xr-icon-file-text2'><use xlink:href='#icon-file-text2'></use></svg></label><input id='data-37b98a9a-0513-489c-8705-281b234632ad' class='xr-var-data-in' type='checkbox'><label for='data-37b98a9a-0513-489c-8705-281b234632ad' title='Show/Hide data repr'><svg class='icon xr-icon-database'><use xlink:href='#icon-database'></use></svg></label><div class='xr-var-attrs'><dl class='xr-attrs'><dt><span>standard_name :</span></dt><dd>time</dd><dt><span>long_name :</span></dt><dd>time</dd><dt><span>axis :</span></dt><dd>T</dd></dl></div><div class='xr-var-data'><pre>array([&#x27;1998-01-19T00:00:00.000000000&#x27;, &#x27;1998-01-20T00:00:00.000000000&#x27;,\n",
       "       &#x27;1998-02-21T00:00:00.000000000&#x27;, ..., &#x27;2020-08-20T00:00:00.000000000&#x27;,\n",
       "       &#x27;2020-08-30T00:00:00.000000000&#x27;, &#x27;2020-08-31T00:00:00.000000000&#x27;],\n",
       "      dtype=&#x27;datetime64[ns]&#x27;)</pre></div></li></ul></div></li><li class='xr-section-item'><input id='section-592ed827-7af7-4b4d-99e1-ab5d2c580186' class='xr-section-summary-in' type='checkbox'  ><label for='section-592ed827-7af7-4b4d-99e1-ab5d2c580186' class='xr-section-summary' >Indexes: <span>(5)</span></label><div class='xr-section-inline-details'></div><div class='xr-section-details'><ul class='xr-var-list'><li class='xr-var-item'><div class='xr-index-name'><div>longitude</div></div><div class='xr-index-preview'>PandasIndex</div><input type='checkbox' disabled/><label></label><input id='index-848d523b-3aa7-4572-8261-8262b34e6964' class='xr-index-data-in' type='checkbox'/><label for='index-848d523b-3aa7-4572-8261-8262b34e6964' title='Show/Hide index repr'><svg class='icon xr-icon-database'><use xlink:href='#icon-database'></use></svg></label><div class='xr-index-data'><pre>PandasIndex(Index([-157.5, -156.5, -155.5, -154.5, -153.5, -152.5, -151.5, -150.5, -149.5,\n",
       "       -148.5, -147.5, -146.5, -145.5, -144.5, -143.5, -142.5, -141.5, -140.5,\n",
       "       -139.5, -138.5, -137.5, -136.5, -135.5, -134.5, -133.5, -132.5, -131.5,\n",
       "       -130.5, -129.5, -128.5, -127.5],\n",
       "      dtype=&#x27;float64&#x27;, name=&#x27;longitude&#x27;))</pre></div></li><li class='xr-var-item'><div class='xr-index-name'><div>latitude</div></div><div class='xr-index-preview'>PandasIndex</div><input type='checkbox' disabled/><label></label><input id='index-36e26ece-af06-48ec-a50d-602fef577b13' class='xr-index-data-in' type='checkbox'/><label for='index-36e26ece-af06-48ec-a50d-602fef577b13' title='Show/Hide index repr'><svg class='icon xr-icon-database'><use xlink:href='#icon-database'></use></svg></label><div class='xr-index-data'><pre>PandasIndex(Index([46.5, 47.5, 48.5, 49.5, 50.5, 51.5, 52.5, 53.5, 54.5, 55.5, 56.5, 57.5], dtype=&#x27;float64&#x27;, name=&#x27;latitude&#x27;))</pre></div></li><li class='xr-var-item'><div class='xr-index-name'><div>is_day</div></div><div class='xr-index-preview'>PandasIndex</div><input type='checkbox' disabled/><label></label><input id='index-eb7d5671-78f3-4045-8a78-971fe7543385' class='xr-index-data-in' type='checkbox'/><label for='index-eb7d5671-78f3-4045-8a78-971fe7543385' title='Show/Hide index repr'><svg class='icon xr-icon-database'><use xlink:href='#icon-database'></use></svg></label><div class='xr-index-data'><pre>PandasIndex(Index([False, True], dtype=&#x27;bool&#x27;, name=&#x27;is_day&#x27;))</pre></div></li><li class='xr-var-item'><div class='xr-index-name'><div>depth</div></div><div class='xr-index-preview'>PandasIndex</div><input type='checkbox' disabled/><label></label><input id='index-97471598-e3b4-4940-84eb-946fecbf5850' class='xr-index-data-in' type='checkbox'/><label for='index-97471598-e3b4-4940-84eb-946fecbf5850' title='Show/Hide index repr'><svg class='icon xr-icon-database'><use xlink:href='#icon-database'></use></svg></label><div class='xr-index-data'><pre>PandasIndex(Index([ 34.0,  35.0,  37.0,  48.0,  49.0,  50.0,  52.0,  57.0,  98.0,  99.0,\n",
       "       100.0, 101.0, 103.0, 105.0, 109.0, 121.0, 130.0, 139.0, 140.0, 141.0,\n",
       "       144.0, 145.0, 146.0, 147.0, 148.0, 149.0, 150.0, 151.0, 152.0, 153.0,\n",
       "       154.0, 155.0, 156.0, 158.0, 159.0, 160.0, 163.0, 164.0, 171.0, 192.0,\n",
       "       207.0, 213.0, 216.0, 217.0, 227.0, 229.0, 230.0, 235.0, 238.0, 239.0,\n",
       "       240.0, 241.0, 244.0, 245.0, 246.0, 248.0, 249.0, 250.0, 251.0, 254.0,\n",
       "       256.0, 257.0, 258.0, 261.0, 276.0, 295.0],\n",
       "      dtype=&#x27;float64&#x27;, name=&#x27;depth&#x27;))</pre></div></li><li class='xr-var-item'><div class='xr-index-name'><div>time</div></div><div class='xr-index-preview'>PandasIndex</div><input type='checkbox' disabled/><label></label><input id='index-5f2b418d-d043-43da-8b52-8186d2f9c0cd' class='xr-index-data-in' type='checkbox'/><label for='index-5f2b418d-d043-43da-8b52-8186d2f9c0cd' title='Show/Hide index repr'><svg class='icon xr-icon-database'><use xlink:href='#icon-database'></use></svg></label><div class='xr-index-data'><pre>PandasIndex(DatetimeIndex([&#x27;1998-01-19&#x27;, &#x27;1998-01-20&#x27;, &#x27;1998-02-21&#x27;, &#x27;1998-02-23&#x27;,\n",
       "               &#x27;1998-02-24&#x27;, &#x27;1998-02-27&#x27;, &#x27;1998-02-28&#x27;, &#x27;1998-03-03&#x27;,\n",
       "               &#x27;1998-04-08&#x27;, &#x27;1998-04-09&#x27;,\n",
       "               ...\n",
       "               &#x27;2020-07-05&#x27;, &#x27;2020-07-22&#x27;, &#x27;2020-07-26&#x27;, &#x27;2020-08-14&#x27;,\n",
       "               &#x27;2020-08-15&#x27;, &#x27;2020-08-17&#x27;, &#x27;2020-08-18&#x27;, &#x27;2020-08-20&#x27;,\n",
       "               &#x27;2020-08-30&#x27;, &#x27;2020-08-31&#x27;],\n",
       "              dtype=&#x27;datetime64[ns]&#x27;, name=&#x27;time&#x27;, length=579, freq=None))</pre></div></li></ul></div></li><li class='xr-section-item'><input id='section-c996432f-7462-4f91-b6bb-3560ea21d424' class='xr-section-summary-in' type='checkbox'  checked><label for='section-c996432f-7462-4f91-b6bb-3560ea21d424' class='xr-section-summary' >Attributes: <span>(3)</span></label><div class='xr-section-inline-details'></div><div class='xr-section-details'><dl class='xr-attrs'><dt><span>standard_name :</span></dt><dd>epipelagic_depth</dd><dt><span>long_name :</span></dt><dd>epipelagic depth - observed data (CMEMS)</dd><dt><span>units :</span></dt><dd>m</dd></dl></div></li></ul></div></div>"
      ],
      "text/plain": [
       "<xarray.DataArray 'epipelagic_depth' (time: 579, is_day: 2, latitude: 12,\n",
       "                                      longitude: 31, depth: 66)> Size: 227MB\n",
       "array([[[[[nan, nan, nan, ..., nan, nan, nan],\n",
       "          [nan, nan, nan, ..., nan, nan, nan],\n",
       "          [nan, nan, nan, ..., nan, nan, nan],\n",
       "          ...,\n",
       "          [nan, nan, nan, ..., nan, nan, nan],\n",
       "          [nan, nan, nan, ..., nan, nan, nan],\n",
       "          [nan, nan, nan, ..., nan, nan, nan]],\n",
       "\n",
       "         [[nan, nan, nan, ..., nan, nan, nan],\n",
       "          [nan, nan, nan, ..., nan, nan, nan],\n",
       "          [nan, nan, nan, ..., nan, nan, nan],\n",
       "          ...,\n",
       "          [nan, nan, nan, ..., nan, nan, nan],\n",
       "          [nan, nan, nan, ..., nan, nan, nan],\n",
       "          [nan, nan, nan, ..., nan, nan, nan]],\n",
       "\n",
       "         [[nan, nan, nan, ..., nan, nan, nan],\n",
       "          [nan, nan, nan, ..., nan, nan, nan],\n",
       "          [nan, nan, nan, ..., nan, nan, nan],\n",
       "          ...,\n",
       "...\n",
       "          ...,\n",
       "          [nan, nan, nan, ..., nan, nan, nan],\n",
       "          [nan, nan, nan, ..., nan, nan, nan],\n",
       "          [nan, nan, nan, ..., nan, nan, nan]],\n",
       "\n",
       "         [[nan, nan, nan, ..., nan, nan, nan],\n",
       "          [nan, nan, nan, ..., nan, nan, nan],\n",
       "          [nan, nan, nan, ..., nan, nan, nan],\n",
       "          ...,\n",
       "          [nan, nan, nan, ..., nan, nan, nan],\n",
       "          [nan, nan, nan, ..., nan, nan, nan],\n",
       "          [nan, nan, nan, ..., nan, nan, nan]],\n",
       "\n",
       "         [[nan, nan, nan, ..., nan, nan, nan],\n",
       "          [nan, nan, nan, ..., nan, nan, nan],\n",
       "          [nan, nan, nan, ..., nan, nan, nan],\n",
       "          ...,\n",
       "          [nan, nan, nan, ..., nan, nan, nan],\n",
       "          [nan, nan, nan, ..., nan, nan, nan],\n",
       "          [nan, nan, nan, ..., nan, nan, nan]]]]])\n",
       "Coordinates:\n",
       "  * longitude  (longitude) float64 248B -157.5 -156.5 -155.5 ... -128.5 -127.5\n",
       "  * latitude   (latitude) float64 96B 46.5 47.5 48.5 49.5 ... 55.5 56.5 57.5\n",
       "  * is_day     (is_day) bool 2B False True\n",
       "  * depth      (depth) float64 528B 34.0 35.0 37.0 48.0 ... 261.0 276.0 295.0\n",
       "  * time       (time) datetime64[ns] 5kB 1998-01-19 1998-01-20 ... 2020-08-31\n",
       "Attributes:\n",
       "    standard_name:  epipelagic_depth\n",
       "    long_name:      epipelagic depth - observed data (CMEMS)\n",
       "    units:          m"
      ]
     },
     "execution_count": 5,
     "metadata": {},
     "output_type": "execute_result"
    }
   ],
   "source": [
    "#extract epipelagic layer depth\n",
    "ds_pld=papa_data['epipelagic_depth']\n",
    "ds_pld"
   ]
  },
  {
   "cell_type": "code",
   "execution_count": 6,
   "id": "d1ac3cc5",
   "metadata": {},
   "outputs": [
    {
     "data": {
      "text/html": [
       "<div><svg style=\"position: absolute; width: 0; height: 0; overflow: hidden\">\n",
       "<defs>\n",
       "<symbol id=\"icon-database\" viewBox=\"0 0 32 32\">\n",
       "<path d=\"M16 0c-8.837 0-16 2.239-16 5v4c0 2.761 7.163 5 16 5s16-2.239 16-5v-4c0-2.761-7.163-5-16-5z\"></path>\n",
       "<path d=\"M16 17c-8.837 0-16-2.239-16-5v6c0 2.761 7.163 5 16 5s16-2.239 16-5v-6c0 2.761-7.163 5-16 5z\"></path>\n",
       "<path d=\"M16 26c-8.837 0-16-2.239-16-5v6c0 2.761 7.163 5 16 5s16-2.239 16-5v-6c0 2.761-7.163 5-16 5z\"></path>\n",
       "</symbol>\n",
       "<symbol id=\"icon-file-text2\" viewBox=\"0 0 32 32\">\n",
       "<path d=\"M28.681 7.159c-0.694-0.947-1.662-2.053-2.724-3.116s-2.169-2.030-3.116-2.724c-1.612-1.182-2.393-1.319-2.841-1.319h-15.5c-1.378 0-2.5 1.121-2.5 2.5v27c0 1.378 1.122 2.5 2.5 2.5h23c1.378 0 2.5-1.122 2.5-2.5v-19.5c0-0.448-0.137-1.23-1.319-2.841zM24.543 5.457c0.959 0.959 1.712 1.825 2.268 2.543h-4.811v-4.811c0.718 0.556 1.584 1.309 2.543 2.268zM28 29.5c0 0.271-0.229 0.5-0.5 0.5h-23c-0.271 0-0.5-0.229-0.5-0.5v-27c0-0.271 0.229-0.5 0.5-0.5 0 0 15.499-0 15.5 0v7c0 0.552 0.448 1 1 1h7v19.5z\"></path>\n",
       "<path d=\"M23 26h-14c-0.552 0-1-0.448-1-1s0.448-1 1-1h14c0.552 0 1 0.448 1 1s-0.448 1-1 1z\"></path>\n",
       "<path d=\"M23 22h-14c-0.552 0-1-0.448-1-1s0.448-1 1-1h14c0.552 0 1 0.448 1 1s-0.448 1-1 1z\"></path>\n",
       "<path d=\"M23 18h-14c-0.552 0-1-0.448-1-1s0.448-1 1-1h14c0.552 0 1 0.448 1 1s-0.448 1-1 1z\"></path>\n",
       "</symbol>\n",
       "</defs>\n",
       "</svg>\n",
       "<style>/* CSS stylesheet for displaying xarray objects in jupyterlab.\n",
       " *\n",
       " */\n",
       "\n",
       ":root {\n",
       "  --xr-font-color0: var(--jp-content-font-color0, rgba(0, 0, 0, 1));\n",
       "  --xr-font-color2: var(--jp-content-font-color2, rgba(0, 0, 0, 0.54));\n",
       "  --xr-font-color3: var(--jp-content-font-color3, rgba(0, 0, 0, 0.38));\n",
       "  --xr-border-color: var(--jp-border-color2, #e0e0e0);\n",
       "  --xr-disabled-color: var(--jp-layout-color3, #bdbdbd);\n",
       "  --xr-background-color: var(--jp-layout-color0, white);\n",
       "  --xr-background-color-row-even: var(--jp-layout-color1, white);\n",
       "  --xr-background-color-row-odd: var(--jp-layout-color2, #eeeeee);\n",
       "}\n",
       "\n",
       "html[theme=\"dark\"],\n",
       "html[data-theme=\"dark\"],\n",
       "body[data-theme=\"dark\"],\n",
       "body.vscode-dark {\n",
       "  --xr-font-color0: rgba(255, 255, 255, 1);\n",
       "  --xr-font-color2: rgba(255, 255, 255, 0.54);\n",
       "  --xr-font-color3: rgba(255, 255, 255, 0.38);\n",
       "  --xr-border-color: #1f1f1f;\n",
       "  --xr-disabled-color: #515151;\n",
       "  --xr-background-color: #111111;\n",
       "  --xr-background-color-row-even: #111111;\n",
       "  --xr-background-color-row-odd: #313131;\n",
       "}\n",
       "\n",
       ".xr-wrap {\n",
       "  display: block !important;\n",
       "  min-width: 300px;\n",
       "  max-width: 700px;\n",
       "}\n",
       "\n",
       ".xr-text-repr-fallback {\n",
       "  /* fallback to plain text repr when CSS is not injected (untrusted notebook) */\n",
       "  display: none;\n",
       "}\n",
       "\n",
       ".xr-header {\n",
       "  padding-top: 6px;\n",
       "  padding-bottom: 6px;\n",
       "  margin-bottom: 4px;\n",
       "  border-bottom: solid 1px var(--xr-border-color);\n",
       "}\n",
       "\n",
       ".xr-header > div,\n",
       ".xr-header > ul {\n",
       "  display: inline;\n",
       "  margin-top: 0;\n",
       "  margin-bottom: 0;\n",
       "}\n",
       "\n",
       ".xr-obj-type,\n",
       ".xr-array-name {\n",
       "  margin-left: 2px;\n",
       "  margin-right: 10px;\n",
       "}\n",
       "\n",
       ".xr-obj-type {\n",
       "  color: var(--xr-font-color2);\n",
       "}\n",
       "\n",
       ".xr-sections {\n",
       "  padding-left: 0 !important;\n",
       "  display: grid;\n",
       "  grid-template-columns: 150px auto auto 1fr 0 20px 0 20px;\n",
       "}\n",
       "\n",
       ".xr-section-item {\n",
       "  display: contents;\n",
       "}\n",
       "\n",
       ".xr-section-item input {\n",
       "  display: inline-block;\n",
       "  opacity: 0;\n",
       "  height: 0;\n",
       "}\n",
       "\n",
       ".xr-section-item input + label {\n",
       "  color: var(--xr-disabled-color);\n",
       "}\n",
       "\n",
       ".xr-section-item input:enabled + label {\n",
       "  cursor: pointer;\n",
       "  color: var(--xr-font-color2);\n",
       "}\n",
       "\n",
       ".xr-section-item input:focus + label {\n",
       "  border: 2px solid var(--xr-font-color0);\n",
       "}\n",
       "\n",
       ".xr-section-item input:enabled + label:hover {\n",
       "  color: var(--xr-font-color0);\n",
       "}\n",
       "\n",
       ".xr-section-summary {\n",
       "  grid-column: 1;\n",
       "  color: var(--xr-font-color2);\n",
       "  font-weight: 500;\n",
       "}\n",
       "\n",
       ".xr-section-summary > span {\n",
       "  display: inline-block;\n",
       "  padding-left: 0.5em;\n",
       "}\n",
       "\n",
       ".xr-section-summary-in:disabled + label {\n",
       "  color: var(--xr-font-color2);\n",
       "}\n",
       "\n",
       ".xr-section-summary-in + label:before {\n",
       "  display: inline-block;\n",
       "  content: \"►\";\n",
       "  font-size: 11px;\n",
       "  width: 15px;\n",
       "  text-align: center;\n",
       "}\n",
       "\n",
       ".xr-section-summary-in:disabled + label:before {\n",
       "  color: var(--xr-disabled-color);\n",
       "}\n",
       "\n",
       ".xr-section-summary-in:checked + label:before {\n",
       "  content: \"▼\";\n",
       "}\n",
       "\n",
       ".xr-section-summary-in:checked + label > span {\n",
       "  display: none;\n",
       "}\n",
       "\n",
       ".xr-section-summary,\n",
       ".xr-section-inline-details {\n",
       "  padding-top: 4px;\n",
       "  padding-bottom: 4px;\n",
       "}\n",
       "\n",
       ".xr-section-inline-details {\n",
       "  grid-column: 2 / -1;\n",
       "}\n",
       "\n",
       ".xr-section-details {\n",
       "  display: none;\n",
       "  grid-column: 1 / -1;\n",
       "  margin-bottom: 5px;\n",
       "}\n",
       "\n",
       ".xr-section-summary-in:checked ~ .xr-section-details {\n",
       "  display: contents;\n",
       "}\n",
       "\n",
       ".xr-array-wrap {\n",
       "  grid-column: 1 / -1;\n",
       "  display: grid;\n",
       "  grid-template-columns: 20px auto;\n",
       "}\n",
       "\n",
       ".xr-array-wrap > label {\n",
       "  grid-column: 1;\n",
       "  vertical-align: top;\n",
       "}\n",
       "\n",
       ".xr-preview {\n",
       "  color: var(--xr-font-color3);\n",
       "}\n",
       "\n",
       ".xr-array-preview,\n",
       ".xr-array-data {\n",
       "  padding: 0 5px !important;\n",
       "  grid-column: 2;\n",
       "}\n",
       "\n",
       ".xr-array-data,\n",
       ".xr-array-in:checked ~ .xr-array-preview {\n",
       "  display: none;\n",
       "}\n",
       "\n",
       ".xr-array-in:checked ~ .xr-array-data,\n",
       ".xr-array-preview {\n",
       "  display: inline-block;\n",
       "}\n",
       "\n",
       ".xr-dim-list {\n",
       "  display: inline-block !important;\n",
       "  list-style: none;\n",
       "  padding: 0 !important;\n",
       "  margin: 0;\n",
       "}\n",
       "\n",
       ".xr-dim-list li {\n",
       "  display: inline-block;\n",
       "  padding: 0;\n",
       "  margin: 0;\n",
       "}\n",
       "\n",
       ".xr-dim-list:before {\n",
       "  content: \"(\";\n",
       "}\n",
       "\n",
       ".xr-dim-list:after {\n",
       "  content: \")\";\n",
       "}\n",
       "\n",
       ".xr-dim-list li:not(:last-child):after {\n",
       "  content: \",\";\n",
       "  padding-right: 5px;\n",
       "}\n",
       "\n",
       ".xr-has-index {\n",
       "  font-weight: bold;\n",
       "}\n",
       "\n",
       ".xr-var-list,\n",
       ".xr-var-item {\n",
       "  display: contents;\n",
       "}\n",
       "\n",
       ".xr-var-item > div,\n",
       ".xr-var-item label,\n",
       ".xr-var-item > .xr-var-name span {\n",
       "  background-color: var(--xr-background-color-row-even);\n",
       "  margin-bottom: 0;\n",
       "}\n",
       "\n",
       ".xr-var-item > .xr-var-name:hover span {\n",
       "  padding-right: 5px;\n",
       "}\n",
       "\n",
       ".xr-var-list > li:nth-child(odd) > div,\n",
       ".xr-var-list > li:nth-child(odd) > label,\n",
       ".xr-var-list > li:nth-child(odd) > .xr-var-name span {\n",
       "  background-color: var(--xr-background-color-row-odd);\n",
       "}\n",
       "\n",
       ".xr-var-name {\n",
       "  grid-column: 1;\n",
       "}\n",
       "\n",
       ".xr-var-dims {\n",
       "  grid-column: 2;\n",
       "}\n",
       "\n",
       ".xr-var-dtype {\n",
       "  grid-column: 3;\n",
       "  text-align: right;\n",
       "  color: var(--xr-font-color2);\n",
       "}\n",
       "\n",
       ".xr-var-preview {\n",
       "  grid-column: 4;\n",
       "}\n",
       "\n",
       ".xr-index-preview {\n",
       "  grid-column: 2 / 5;\n",
       "  color: var(--xr-font-color2);\n",
       "}\n",
       "\n",
       ".xr-var-name,\n",
       ".xr-var-dims,\n",
       ".xr-var-dtype,\n",
       ".xr-preview,\n",
       ".xr-attrs dt {\n",
       "  white-space: nowrap;\n",
       "  overflow: hidden;\n",
       "  text-overflow: ellipsis;\n",
       "  padding-right: 10px;\n",
       "}\n",
       "\n",
       ".xr-var-name:hover,\n",
       ".xr-var-dims:hover,\n",
       ".xr-var-dtype:hover,\n",
       ".xr-attrs dt:hover {\n",
       "  overflow: visible;\n",
       "  width: auto;\n",
       "  z-index: 1;\n",
       "}\n",
       "\n",
       ".xr-var-attrs,\n",
       ".xr-var-data,\n",
       ".xr-index-data {\n",
       "  display: none;\n",
       "  background-color: var(--xr-background-color) !important;\n",
       "  padding-bottom: 5px !important;\n",
       "}\n",
       "\n",
       ".xr-var-attrs-in:checked ~ .xr-var-attrs,\n",
       ".xr-var-data-in:checked ~ .xr-var-data,\n",
       ".xr-index-data-in:checked ~ .xr-index-data {\n",
       "  display: block;\n",
       "}\n",
       "\n",
       ".xr-var-data > table {\n",
       "  float: right;\n",
       "}\n",
       "\n",
       ".xr-var-name span,\n",
       ".xr-var-data,\n",
       ".xr-index-name div,\n",
       ".xr-index-data,\n",
       ".xr-attrs {\n",
       "  padding-left: 25px !important;\n",
       "}\n",
       "\n",
       ".xr-attrs,\n",
       ".xr-var-attrs,\n",
       ".xr-var-data,\n",
       ".xr-index-data {\n",
       "  grid-column: 1 / -1;\n",
       "}\n",
       "\n",
       "dl.xr-attrs {\n",
       "  padding: 0;\n",
       "  margin: 0;\n",
       "  display: grid;\n",
       "  grid-template-columns: 125px auto;\n",
       "}\n",
       "\n",
       ".xr-attrs dt,\n",
       ".xr-attrs dd {\n",
       "  padding: 0;\n",
       "  margin: 0;\n",
       "  float: left;\n",
       "  padding-right: 10px;\n",
       "  width: auto;\n",
       "}\n",
       "\n",
       ".xr-attrs dt {\n",
       "  font-weight: normal;\n",
       "  grid-column: 1;\n",
       "}\n",
       "\n",
       ".xr-attrs dt:hover span {\n",
       "  display: inline-block;\n",
       "  background: var(--xr-background-color);\n",
       "  padding-right: 10px;\n",
       "}\n",
       "\n",
       ".xr-attrs dd {\n",
       "  grid-column: 2;\n",
       "  white-space: pre-wrap;\n",
       "  word-break: break-all;\n",
       "}\n",
       "\n",
       ".xr-icon-database,\n",
       ".xr-icon-file-text2,\n",
       ".xr-no-icon {\n",
       "  display: inline-block;\n",
       "  vertical-align: middle;\n",
       "  width: 1em;\n",
       "  height: 1.5em !important;\n",
       "  stroke-width: 0;\n",
       "  stroke: currentColor;\n",
       "  fill: currentColor;\n",
       "}\n",
       "</style><pre class='xr-text-repr-fallback'>&lt;xarray.DataArray &#x27;pteropod_biomass_gm2&#x27; (time: 579, is_day: 2, latitude: 12,\n",
       "                                          longitude: 31, depth: 66)&gt; Size: 227MB\n",
       "array([[[[[nan, nan, nan, ..., nan, nan, nan],\n",
       "          [nan, nan, nan, ..., nan, nan, nan],\n",
       "          [nan, nan, nan, ..., nan, nan, nan],\n",
       "          ...,\n",
       "          [nan, nan, nan, ..., nan, nan, nan],\n",
       "          [nan, nan, nan, ..., nan, nan, nan],\n",
       "          [nan, nan, nan, ..., nan, nan, nan]],\n",
       "\n",
       "         [[nan, nan, nan, ..., nan, nan, nan],\n",
       "          [nan, nan, nan, ..., nan, nan, nan],\n",
       "          [nan, nan, nan, ..., nan, nan, nan],\n",
       "          ...,\n",
       "          [nan, nan, nan, ..., nan, nan, nan],\n",
       "          [nan, nan, nan, ..., nan, nan, nan],\n",
       "          [nan, nan, nan, ..., nan, nan, nan]],\n",
       "\n",
       "         [[nan, nan, nan, ..., nan, nan, nan],\n",
       "          [nan, nan, nan, ..., nan, nan, nan],\n",
       "          [nan, nan, nan, ..., nan, nan, nan],\n",
       "          ...,\n",
       "...\n",
       "          ...,\n",
       "          [nan, nan, nan, ..., nan, nan, nan],\n",
       "          [nan, nan, nan, ..., nan, nan, nan],\n",
       "          [nan, nan, nan, ..., nan, nan, nan]],\n",
       "\n",
       "         [[nan, nan, nan, ..., nan, nan, nan],\n",
       "          [nan, nan, nan, ..., nan, nan, nan],\n",
       "          [nan, nan, nan, ..., nan, nan, nan],\n",
       "          ...,\n",
       "          [nan, nan, nan, ..., nan, nan, nan],\n",
       "          [nan, nan, nan, ..., nan, nan, nan],\n",
       "          [nan, nan, nan, ..., nan, nan, nan]],\n",
       "\n",
       "         [[nan, nan, nan, ..., nan, nan, nan],\n",
       "          [nan, nan, nan, ..., nan, nan, nan],\n",
       "          [nan, nan, nan, ..., nan, nan, nan],\n",
       "          ...,\n",
       "          [nan, nan, nan, ..., nan, nan, nan],\n",
       "          [nan, nan, nan, ..., nan, nan, nan],\n",
       "          [nan, nan, nan, ..., nan, nan, nan]]]]])\n",
       "Coordinates:\n",
       "  * longitude  (longitude) float64 248B -157.5 -156.5 -155.5 ... -128.5 -127.5\n",
       "  * latitude   (latitude) float64 96B 46.5 47.5 48.5 49.5 ... 55.5 56.5 57.5\n",
       "  * is_day     (is_day) bool 2B False True\n",
       "  * depth      (depth) float64 528B 34.0 35.0 37.0 48.0 ... 261.0 276.0 295.0\n",
       "  * time       (time) datetime64[ns] 5kB 1998-01-19 1998-01-20 ... 2020-08-31\n",
       "Attributes:\n",
       "    units:      gC m-2\n",
       "    long_name:  Pteropod integrated biomass in epipelagic layer</pre><div class='xr-wrap' style='display:none'><div class='xr-header'><div class='xr-obj-type'>xarray.DataArray</div><div class='xr-array-name'>'pteropod_biomass_gm2'</div><ul class='xr-dim-list'><li><span class='xr-has-index'>time</span>: 579</li><li><span class='xr-has-index'>is_day</span>: 2</li><li><span class='xr-has-index'>latitude</span>: 12</li><li><span class='xr-has-index'>longitude</span>: 31</li><li><span class='xr-has-index'>depth</span>: 66</li></ul></div><ul class='xr-sections'><li class='xr-section-item'><div class='xr-array-wrap'><input id='section-65687eb0-29cf-4d55-aa6f-ef0831a70782' class='xr-array-in' type='checkbox' checked><label for='section-65687eb0-29cf-4d55-aa6f-ef0831a70782' title='Show/hide data repr'><svg class='icon xr-icon-database'><use xlink:href='#icon-database'></use></svg></label><div class='xr-array-preview xr-preview'><span>nan nan nan nan nan nan nan nan ... nan nan nan nan nan nan nan nan</span></div><div class='xr-array-data'><pre>array([[[[[nan, nan, nan, ..., nan, nan, nan],\n",
       "          [nan, nan, nan, ..., nan, nan, nan],\n",
       "          [nan, nan, nan, ..., nan, nan, nan],\n",
       "          ...,\n",
       "          [nan, nan, nan, ..., nan, nan, nan],\n",
       "          [nan, nan, nan, ..., nan, nan, nan],\n",
       "          [nan, nan, nan, ..., nan, nan, nan]],\n",
       "\n",
       "         [[nan, nan, nan, ..., nan, nan, nan],\n",
       "          [nan, nan, nan, ..., nan, nan, nan],\n",
       "          [nan, nan, nan, ..., nan, nan, nan],\n",
       "          ...,\n",
       "          [nan, nan, nan, ..., nan, nan, nan],\n",
       "          [nan, nan, nan, ..., nan, nan, nan],\n",
       "          [nan, nan, nan, ..., nan, nan, nan]],\n",
       "\n",
       "         [[nan, nan, nan, ..., nan, nan, nan],\n",
       "          [nan, nan, nan, ..., nan, nan, nan],\n",
       "          [nan, nan, nan, ..., nan, nan, nan],\n",
       "          ...,\n",
       "...\n",
       "          ...,\n",
       "          [nan, nan, nan, ..., nan, nan, nan],\n",
       "          [nan, nan, nan, ..., nan, nan, nan],\n",
       "          [nan, nan, nan, ..., nan, nan, nan]],\n",
       "\n",
       "         [[nan, nan, nan, ..., nan, nan, nan],\n",
       "          [nan, nan, nan, ..., nan, nan, nan],\n",
       "          [nan, nan, nan, ..., nan, nan, nan],\n",
       "          ...,\n",
       "          [nan, nan, nan, ..., nan, nan, nan],\n",
       "          [nan, nan, nan, ..., nan, nan, nan],\n",
       "          [nan, nan, nan, ..., nan, nan, nan]],\n",
       "\n",
       "         [[nan, nan, nan, ..., nan, nan, nan],\n",
       "          [nan, nan, nan, ..., nan, nan, nan],\n",
       "          [nan, nan, nan, ..., nan, nan, nan],\n",
       "          ...,\n",
       "          [nan, nan, nan, ..., nan, nan, nan],\n",
       "          [nan, nan, nan, ..., nan, nan, nan],\n",
       "          [nan, nan, nan, ..., nan, nan, nan]]]]])</pre></div></div></li><li class='xr-section-item'><input id='section-a5324ae3-6f7b-4d14-9649-856ed011fec5' class='xr-section-summary-in' type='checkbox'  checked><label for='section-a5324ae3-6f7b-4d14-9649-856ed011fec5' class='xr-section-summary' >Coordinates: <span>(5)</span></label><div class='xr-section-inline-details'></div><div class='xr-section-details'><ul class='xr-var-list'><li class='xr-var-item'><div class='xr-var-name'><span class='xr-has-index'>longitude</span></div><div class='xr-var-dims'>(longitude)</div><div class='xr-var-dtype'>float64</div><div class='xr-var-preview xr-preview'>-157.5 -156.5 ... -128.5 -127.5</div><input id='attrs-f496bb3c-988f-4a10-a319-f159a1e13fcc' class='xr-var-attrs-in' type='checkbox' ><label for='attrs-f496bb3c-988f-4a10-a319-f159a1e13fcc' title='Show/Hide attributes'><svg class='icon xr-icon-file-text2'><use xlink:href='#icon-file-text2'></use></svg></label><input id='data-33a55dcb-760b-4d4d-866e-5f7ec761d3d9' class='xr-var-data-in' type='checkbox'><label for='data-33a55dcb-760b-4d4d-866e-5f7ec761d3d9' title='Show/Hide data repr'><svg class='icon xr-icon-database'><use xlink:href='#icon-database'></use></svg></label><div class='xr-var-attrs'><dl class='xr-attrs'><dt><span>standard_name :</span></dt><dd>longitude</dd><dt><span>long_name :</span></dt><dd>longitude</dd><dt><span>axis :</span></dt><dd>X</dd><dt><span>units :</span></dt><dd>degrees_east</dd></dl></div><div class='xr-var-data'><pre>array([-157.5, -156.5, -155.5, -154.5, -153.5, -152.5, -151.5, -150.5, -149.5,\n",
       "       -148.5, -147.5, -146.5, -145.5, -144.5, -143.5, -142.5, -141.5, -140.5,\n",
       "       -139.5, -138.5, -137.5, -136.5, -135.5, -134.5, -133.5, -132.5, -131.5,\n",
       "       -130.5, -129.5, -128.5, -127.5])</pre></div></li><li class='xr-var-item'><div class='xr-var-name'><span class='xr-has-index'>latitude</span></div><div class='xr-var-dims'>(latitude)</div><div class='xr-var-dtype'>float64</div><div class='xr-var-preview xr-preview'>46.5 47.5 48.5 ... 55.5 56.5 57.5</div><input id='attrs-77a16d5c-c589-47bf-a67f-bd47d52fa029' class='xr-var-attrs-in' type='checkbox' ><label for='attrs-77a16d5c-c589-47bf-a67f-bd47d52fa029' title='Show/Hide attributes'><svg class='icon xr-icon-file-text2'><use xlink:href='#icon-file-text2'></use></svg></label><input id='data-7a75097a-2a8a-4de7-91a9-d5e7fd823fdb' class='xr-var-data-in' type='checkbox'><label for='data-7a75097a-2a8a-4de7-91a9-d5e7fd823fdb' title='Show/Hide data repr'><svg class='icon xr-icon-database'><use xlink:href='#icon-database'></use></svg></label><div class='xr-var-attrs'><dl class='xr-attrs'><dt><span>standard_name :</span></dt><dd>latitude</dd><dt><span>long_name :</span></dt><dd>latitude</dd><dt><span>axis :</span></dt><dd>Y</dd><dt><span>units :</span></dt><dd>degrees_north</dd></dl></div><div class='xr-var-data'><pre>array([46.5, 47.5, 48.5, 49.5, 50.5, 51.5, 52.5, 53.5, 54.5, 55.5, 56.5, 57.5])</pre></div></li><li class='xr-var-item'><div class='xr-var-name'><span class='xr-has-index'>is_day</span></div><div class='xr-var-dims'>(is_day)</div><div class='xr-var-dtype'>bool</div><div class='xr-var-preview xr-preview'>False True</div><input id='attrs-55ac2d68-4f9e-4630-b357-3699d03d3513' class='xr-var-attrs-in' type='checkbox' ><label for='attrs-55ac2d68-4f9e-4630-b357-3699d03d3513' title='Show/Hide attributes'><svg class='icon xr-icon-file-text2'><use xlink:href='#icon-file-text2'></use></svg></label><input id='data-7e0d4a9e-021a-4008-8b5b-a09c9686aa9c' class='xr-var-data-in' type='checkbox'><label for='data-7e0d4a9e-021a-4008-8b5b-a09c9686aa9c' title='Show/Hide data repr'><svg class='icon xr-icon-database'><use xlink:href='#icon-database'></use></svg></label><div class='xr-var-attrs'><dl class='xr-attrs'><dt><span>flag_values :</span></dt><dd>[True, False]</dd><dt><span>flag_meanings :</span></dt><dd>day night</dd><dt><span>standard_name :</span></dt><dd>is_day</dd><dt><span>long_name :</span></dt><dd>Is day</dd><dt><span>description :</span></dt><dd>Flag to indicate if the time is during the day or night</dd></dl></div><div class='xr-var-data'><pre>array([False,  True])</pre></div></li><li class='xr-var-item'><div class='xr-var-name'><span class='xr-has-index'>depth</span></div><div class='xr-var-dims'>(depth)</div><div class='xr-var-dtype'>float64</div><div class='xr-var-preview xr-preview'>34.0 35.0 37.0 ... 276.0 295.0</div><input id='attrs-fd5ac37a-e07c-4044-845e-2e49b1ca8979' class='xr-var-attrs-in' type='checkbox' ><label for='attrs-fd5ac37a-e07c-4044-845e-2e49b1ca8979' title='Show/Hide attributes'><svg class='icon xr-icon-file-text2'><use xlink:href='#icon-file-text2'></use></svg></label><input id='data-67bda986-ae56-46c4-af53-35452b95ac7f' class='xr-var-data-in' type='checkbox'><label for='data-67bda986-ae56-46c4-af53-35452b95ac7f' title='Show/Hide data repr'><svg class='icon xr-icon-database'><use xlink:href='#icon-database'></use></svg></label><div class='xr-var-attrs'><dl class='xr-attrs'><dt><span>standard_name :</span></dt><dd>depth</dd><dt><span>long_name :</span></dt><dd>depth</dd><dt><span>axis :</span></dt><dd>Z</dd><dt><span>units :</span></dt><dd>m</dd></dl></div><div class='xr-var-data'><pre>array([ 34.,  35.,  37.,  48.,  49.,  50.,  52.,  57.,  98.,  99., 100., 101.,\n",
       "       103., 105., 109., 121., 130., 139., 140., 141., 144., 145., 146., 147.,\n",
       "       148., 149., 150., 151., 152., 153., 154., 155., 156., 158., 159., 160.,\n",
       "       163., 164., 171., 192., 207., 213., 216., 217., 227., 229., 230., 235.,\n",
       "       238., 239., 240., 241., 244., 245., 246., 248., 249., 250., 251., 254.,\n",
       "       256., 257., 258., 261., 276., 295.])</pre></div></li><li class='xr-var-item'><div class='xr-var-name'><span class='xr-has-index'>time</span></div><div class='xr-var-dims'>(time)</div><div class='xr-var-dtype'>datetime64[ns]</div><div class='xr-var-preview xr-preview'>1998-01-19 ... 2020-08-31</div><input id='attrs-8d49ffe4-8e1c-4ef9-8cf4-4714ac83b7e3' class='xr-var-attrs-in' type='checkbox' ><label for='attrs-8d49ffe4-8e1c-4ef9-8cf4-4714ac83b7e3' title='Show/Hide attributes'><svg class='icon xr-icon-file-text2'><use xlink:href='#icon-file-text2'></use></svg></label><input id='data-3c8e060c-c54d-4d23-8d24-8838aeb858ec' class='xr-var-data-in' type='checkbox'><label for='data-3c8e060c-c54d-4d23-8d24-8838aeb858ec' title='Show/Hide data repr'><svg class='icon xr-icon-database'><use xlink:href='#icon-database'></use></svg></label><div class='xr-var-attrs'><dl class='xr-attrs'><dt><span>standard_name :</span></dt><dd>time</dd><dt><span>long_name :</span></dt><dd>time</dd><dt><span>axis :</span></dt><dd>T</dd></dl></div><div class='xr-var-data'><pre>array([&#x27;1998-01-19T00:00:00.000000000&#x27;, &#x27;1998-01-20T00:00:00.000000000&#x27;,\n",
       "       &#x27;1998-02-21T00:00:00.000000000&#x27;, ..., &#x27;2020-08-20T00:00:00.000000000&#x27;,\n",
       "       &#x27;2020-08-30T00:00:00.000000000&#x27;, &#x27;2020-08-31T00:00:00.000000000&#x27;],\n",
       "      dtype=&#x27;datetime64[ns]&#x27;)</pre></div></li></ul></div></li><li class='xr-section-item'><input id='section-71399664-1228-4e56-80cb-7f23f8ef1aee' class='xr-section-summary-in' type='checkbox'  ><label for='section-71399664-1228-4e56-80cb-7f23f8ef1aee' class='xr-section-summary' >Indexes: <span>(5)</span></label><div class='xr-section-inline-details'></div><div class='xr-section-details'><ul class='xr-var-list'><li class='xr-var-item'><div class='xr-index-name'><div>longitude</div></div><div class='xr-index-preview'>PandasIndex</div><input type='checkbox' disabled/><label></label><input id='index-b907ea68-ae56-4ed1-9e6d-52abc40e9676' class='xr-index-data-in' type='checkbox'/><label for='index-b907ea68-ae56-4ed1-9e6d-52abc40e9676' title='Show/Hide index repr'><svg class='icon xr-icon-database'><use xlink:href='#icon-database'></use></svg></label><div class='xr-index-data'><pre>PandasIndex(Index([-157.5, -156.5, -155.5, -154.5, -153.5, -152.5, -151.5, -150.5, -149.5,\n",
       "       -148.5, -147.5, -146.5, -145.5, -144.5, -143.5, -142.5, -141.5, -140.5,\n",
       "       -139.5, -138.5, -137.5, -136.5, -135.5, -134.5, -133.5, -132.5, -131.5,\n",
       "       -130.5, -129.5, -128.5, -127.5],\n",
       "      dtype=&#x27;float64&#x27;, name=&#x27;longitude&#x27;))</pre></div></li><li class='xr-var-item'><div class='xr-index-name'><div>latitude</div></div><div class='xr-index-preview'>PandasIndex</div><input type='checkbox' disabled/><label></label><input id='index-08c1ce70-3dfe-495f-8f0f-0a19ac5bd858' class='xr-index-data-in' type='checkbox'/><label for='index-08c1ce70-3dfe-495f-8f0f-0a19ac5bd858' title='Show/Hide index repr'><svg class='icon xr-icon-database'><use xlink:href='#icon-database'></use></svg></label><div class='xr-index-data'><pre>PandasIndex(Index([46.5, 47.5, 48.5, 49.5, 50.5, 51.5, 52.5, 53.5, 54.5, 55.5, 56.5, 57.5], dtype=&#x27;float64&#x27;, name=&#x27;latitude&#x27;))</pre></div></li><li class='xr-var-item'><div class='xr-index-name'><div>is_day</div></div><div class='xr-index-preview'>PandasIndex</div><input type='checkbox' disabled/><label></label><input id='index-d82ffa7f-4034-4cd1-bda7-8442e620ddb2' class='xr-index-data-in' type='checkbox'/><label for='index-d82ffa7f-4034-4cd1-bda7-8442e620ddb2' title='Show/Hide index repr'><svg class='icon xr-icon-database'><use xlink:href='#icon-database'></use></svg></label><div class='xr-index-data'><pre>PandasIndex(Index([False, True], dtype=&#x27;bool&#x27;, name=&#x27;is_day&#x27;))</pre></div></li><li class='xr-var-item'><div class='xr-index-name'><div>depth</div></div><div class='xr-index-preview'>PandasIndex</div><input type='checkbox' disabled/><label></label><input id='index-80a5b3d1-2f36-43c2-b2a5-cf5ac6580996' class='xr-index-data-in' type='checkbox'/><label for='index-80a5b3d1-2f36-43c2-b2a5-cf5ac6580996' title='Show/Hide index repr'><svg class='icon xr-icon-database'><use xlink:href='#icon-database'></use></svg></label><div class='xr-index-data'><pre>PandasIndex(Index([ 34.0,  35.0,  37.0,  48.0,  49.0,  50.0,  52.0,  57.0,  98.0,  99.0,\n",
       "       100.0, 101.0, 103.0, 105.0, 109.0, 121.0, 130.0, 139.0, 140.0, 141.0,\n",
       "       144.0, 145.0, 146.0, 147.0, 148.0, 149.0, 150.0, 151.0, 152.0, 153.0,\n",
       "       154.0, 155.0, 156.0, 158.0, 159.0, 160.0, 163.0, 164.0, 171.0, 192.0,\n",
       "       207.0, 213.0, 216.0, 217.0, 227.0, 229.0, 230.0, 235.0, 238.0, 239.0,\n",
       "       240.0, 241.0, 244.0, 245.0, 246.0, 248.0, 249.0, 250.0, 251.0, 254.0,\n",
       "       256.0, 257.0, 258.0, 261.0, 276.0, 295.0],\n",
       "      dtype=&#x27;float64&#x27;, name=&#x27;depth&#x27;))</pre></div></li><li class='xr-var-item'><div class='xr-index-name'><div>time</div></div><div class='xr-index-preview'>PandasIndex</div><input type='checkbox' disabled/><label></label><input id='index-e4b86b59-f3ab-4869-8ed4-a1c3603ff3bc' class='xr-index-data-in' type='checkbox'/><label for='index-e4b86b59-f3ab-4869-8ed4-a1c3603ff3bc' title='Show/Hide index repr'><svg class='icon xr-icon-database'><use xlink:href='#icon-database'></use></svg></label><div class='xr-index-data'><pre>PandasIndex(DatetimeIndex([&#x27;1998-01-19&#x27;, &#x27;1998-01-20&#x27;, &#x27;1998-02-21&#x27;, &#x27;1998-02-23&#x27;,\n",
       "               &#x27;1998-02-24&#x27;, &#x27;1998-02-27&#x27;, &#x27;1998-02-28&#x27;, &#x27;1998-03-03&#x27;,\n",
       "               &#x27;1998-04-08&#x27;, &#x27;1998-04-09&#x27;,\n",
       "               ...\n",
       "               &#x27;2020-07-05&#x27;, &#x27;2020-07-22&#x27;, &#x27;2020-07-26&#x27;, &#x27;2020-08-14&#x27;,\n",
       "               &#x27;2020-08-15&#x27;, &#x27;2020-08-17&#x27;, &#x27;2020-08-18&#x27;, &#x27;2020-08-20&#x27;,\n",
       "               &#x27;2020-08-30&#x27;, &#x27;2020-08-31&#x27;],\n",
       "              dtype=&#x27;datetime64[ns]&#x27;, name=&#x27;time&#x27;, length=579, freq=None))</pre></div></li></ul></div></li><li class='xr-section-item'><input id='section-a3651bde-3636-45d3-a6b2-53f2776e68a5' class='xr-section-summary-in' type='checkbox'  checked><label for='section-a3651bde-3636-45d3-a6b2-53f2776e68a5' class='xr-section-summary' >Attributes: <span>(2)</span></label><div class='xr-section-inline-details'></div><div class='xr-section-details'><dl class='xr-attrs'><dt><span>units :</span></dt><dd>gC m-2</dd><dt><span>long_name :</span></dt><dd>Pteropod integrated biomass in epipelagic layer</dd></dl></div></li></ul></div></div>"
      ],
      "text/plain": [
       "<xarray.DataArray 'pteropod_biomass_gm2' (time: 579, is_day: 2, latitude: 12,\n",
       "                                          longitude: 31, depth: 66)> Size: 227MB\n",
       "array([[[[[nan, nan, nan, ..., nan, nan, nan],\n",
       "          [nan, nan, nan, ..., nan, nan, nan],\n",
       "          [nan, nan, nan, ..., nan, nan, nan],\n",
       "          ...,\n",
       "          [nan, nan, nan, ..., nan, nan, nan],\n",
       "          [nan, nan, nan, ..., nan, nan, nan],\n",
       "          [nan, nan, nan, ..., nan, nan, nan]],\n",
       "\n",
       "         [[nan, nan, nan, ..., nan, nan, nan],\n",
       "          [nan, nan, nan, ..., nan, nan, nan],\n",
       "          [nan, nan, nan, ..., nan, nan, nan],\n",
       "          ...,\n",
       "          [nan, nan, nan, ..., nan, nan, nan],\n",
       "          [nan, nan, nan, ..., nan, nan, nan],\n",
       "          [nan, nan, nan, ..., nan, nan, nan]],\n",
       "\n",
       "         [[nan, nan, nan, ..., nan, nan, nan],\n",
       "          [nan, nan, nan, ..., nan, nan, nan],\n",
       "          [nan, nan, nan, ..., nan, nan, nan],\n",
       "          ...,\n",
       "...\n",
       "          ...,\n",
       "          [nan, nan, nan, ..., nan, nan, nan],\n",
       "          [nan, nan, nan, ..., nan, nan, nan],\n",
       "          [nan, nan, nan, ..., nan, nan, nan]],\n",
       "\n",
       "         [[nan, nan, nan, ..., nan, nan, nan],\n",
       "          [nan, nan, nan, ..., nan, nan, nan],\n",
       "          [nan, nan, nan, ..., nan, nan, nan],\n",
       "          ...,\n",
       "          [nan, nan, nan, ..., nan, nan, nan],\n",
       "          [nan, nan, nan, ..., nan, nan, nan],\n",
       "          [nan, nan, nan, ..., nan, nan, nan]],\n",
       "\n",
       "         [[nan, nan, nan, ..., nan, nan, nan],\n",
       "          [nan, nan, nan, ..., nan, nan, nan],\n",
       "          [nan, nan, nan, ..., nan, nan, nan],\n",
       "          ...,\n",
       "          [nan, nan, nan, ..., nan, nan, nan],\n",
       "          [nan, nan, nan, ..., nan, nan, nan],\n",
       "          [nan, nan, nan, ..., nan, nan, nan]]]]])\n",
       "Coordinates:\n",
       "  * longitude  (longitude) float64 248B -157.5 -156.5 -155.5 ... -128.5 -127.5\n",
       "  * latitude   (latitude) float64 96B 46.5 47.5 48.5 49.5 ... 55.5 56.5 57.5\n",
       "  * is_day     (is_day) bool 2B False True\n",
       "  * depth      (depth) float64 528B 34.0 35.0 37.0 48.0 ... 261.0 276.0 295.0\n",
       "  * time       (time) datetime64[ns] 5kB 1998-01-19 1998-01-20 ... 2020-08-31\n",
       "Attributes:\n",
       "    units:      gC m-2\n",
       "    long_name:  Pteropod integrated biomass in epipelagic layer"
      ]
     },
     "execution_count": 6,
     "metadata": {},
     "output_type": "execute_result"
    }
   ],
   "source": [
    "# Convert pteropod biomass from mg/m3 to gC/m2\n",
    "# Formula: (mg/m3) * (m) *0.4/ 1000 = gC/m2\n",
    "\n",
    "ds_pter_gm2 = (ds_pter * ds_pld) *0.4 / 1000\n",
    "ds_pter_gm2.name = 'pteropod_biomass_gm2'\n",
    "ds_pter_gm2.attrs['units'] = 'gC m-2'\n",
    "ds_pter_gm2.attrs['long_name'] = 'Pteropod integrated biomass in epipelagic layer'\n",
    "\n",
    "ds_pter_gm2"
   ]
  },
  {
   "cell_type": "markdown",
   "id": "53d37655",
   "metadata": {},
   "source": [
    "## Select Area\n"
   ]
  },
  {
   "cell_type": "code",
   "execution_count": 7,
   "id": "a72556c3",
   "metadata": {},
   "outputs": [
    {
     "data": {
      "application/vnd.plotly.v1+json": {
       "config": {
        "plotlyServerURL": "https://plot.ly"
       },
       "data": [
        {
         "colorbar": {
          "title": {
           "text": "Non-NaN entries"
          }
         },
         "colorscale": [
          [
           0,
           "#0d0887"
          ],
          [
           0.1111111111111111,
           "#46039f"
          ],
          [
           0.2222222222222222,
           "#7201a8"
          ],
          [
           0.3333333333333333,
           "#9c179e"
          ],
          [
           0.4444444444444444,
           "#bd3786"
          ],
          [
           0.5555555555555556,
           "#d8576b"
          ],
          [
           0.6666666666666666,
           "#ed7953"
          ],
          [
           0.7777777777777778,
           "#fb9f3a"
          ],
          [
           0.8888888888888888,
           "#fdca26"
          ],
          [
           1,
           "#f0f921"
          ]
         ],
         "type": "heatmap",
         "x": {
          "bdata": "AAAAAACwY8AAAAAAAJBjwAAAAAAAcGPAAAAAAABQY8AAAAAAADBjwAAAAAAAEGPAAAAAAADwYsAAAAAAANBiwAAAAAAAsGLAAAAAAACQYsAAAAAAAHBiwAAAAAAAUGLAAAAAAAAwYsAAAAAAABBiwAAAAAAA8GHAAAAAAADQYcAAAAAAALBhwAAAAAAAkGHAAAAAAABwYcAAAAAAAFBhwAAAAAAAMGHAAAAAAAAQYcAAAAAAAPBgwAAAAAAA0GDAAAAAAACwYMAAAAAAAJBgwAAAAAAAcGDAAAAAAABQYMAAAAAAADBgwAAAAAAAEGDAAAAAAADgX8A=",
          "dtype": "f8"
         },
         "y": {
          "bdata": "AAAAAABAR0AAAAAAAMBHQAAAAAAAQEhAAAAAAADASEAAAAAAAEBJQAAAAAAAwElAAAAAAABASkAAAAAAAMBKQAAAAAAAQEtAAAAAAADAS0AAAAAAAEBMQAAAAAAAwExA",
          "dtype": "f8"
         },
         "z": {
          "bdata": "AAAAAAAAAQAAAAAAAAEAAAAAAAAAAAAAAAAAAAAAAAAAAAAAAAAAAAAAAAIAAAAAAAAAAQEBAAABAAIDAAAAAAAAAAAAAAAAAAAAAQAAAAAAAAAAAAAAAAFGDEEAAAAAAAAAAAEAAAAAGxQAAQABAT4AAAA6AAoCBwEuAAAAAAAAAAAAAAABAQ4YAQAAAAAAAAABAQIBAxZsAAAAAAAAAAAAAAAAAQAEBgAAAAAAAQEEBgcHBAMJAAAAAAAAAAAAAAAAAAAABQYBAQABAAICBQcDBQQDAAAAAAABAAACAQABAAAAAAAEAAAAAQIGAQUUBgAAAAAAAAAAAAAAAAAAAAAAAAAFAwAAAAAADQIDAgUAAAAAAAAAAAAAAAAAAAAAAAAACwMAAAAAAAMBAQcAAAAAAAAAAAAAAAAAAAAAAAAAAAIDAAAAAAABAAAAAAAAAAAAAAAAAAAAAAAAAAAAAAECAQAAAAABAQAAAAAAAAAAAAAA",
          "dtype": "i1",
          "shape": "12, 31"
         }
        }
       ],
       "layout": {
        "template": {
         "data": {
          "bar": [
           {
            "error_x": {
             "color": "#2a3f5f"
            },
            "error_y": {
             "color": "#2a3f5f"
            },
            "marker": {
             "line": {
              "color": "#E5ECF6",
              "width": 0.5
             },
             "pattern": {
              "fillmode": "overlay",
              "size": 10,
              "solidity": 0.2
             }
            },
            "type": "bar"
           }
          ],
          "barpolar": [
           {
            "marker": {
             "line": {
              "color": "#E5ECF6",
              "width": 0.5
             },
             "pattern": {
              "fillmode": "overlay",
              "size": 10,
              "solidity": 0.2
             }
            },
            "type": "barpolar"
           }
          ],
          "carpet": [
           {
            "aaxis": {
             "endlinecolor": "#2a3f5f",
             "gridcolor": "white",
             "linecolor": "white",
             "minorgridcolor": "white",
             "startlinecolor": "#2a3f5f"
            },
            "baxis": {
             "endlinecolor": "#2a3f5f",
             "gridcolor": "white",
             "linecolor": "white",
             "minorgridcolor": "white",
             "startlinecolor": "#2a3f5f"
            },
            "type": "carpet"
           }
          ],
          "choropleth": [
           {
            "colorbar": {
             "outlinewidth": 0,
             "ticks": ""
            },
            "type": "choropleth"
           }
          ],
          "contour": [
           {
            "colorbar": {
             "outlinewidth": 0,
             "ticks": ""
            },
            "colorscale": [
             [
              0,
              "#0d0887"
             ],
             [
              0.1111111111111111,
              "#46039f"
             ],
             [
              0.2222222222222222,
              "#7201a8"
             ],
             [
              0.3333333333333333,
              "#9c179e"
             ],
             [
              0.4444444444444444,
              "#bd3786"
             ],
             [
              0.5555555555555556,
              "#d8576b"
             ],
             [
              0.6666666666666666,
              "#ed7953"
             ],
             [
              0.7777777777777778,
              "#fb9f3a"
             ],
             [
              0.8888888888888888,
              "#fdca26"
             ],
             [
              1,
              "#f0f921"
             ]
            ],
            "type": "contour"
           }
          ],
          "contourcarpet": [
           {
            "colorbar": {
             "outlinewidth": 0,
             "ticks": ""
            },
            "type": "contourcarpet"
           }
          ],
          "heatmap": [
           {
            "colorbar": {
             "outlinewidth": 0,
             "ticks": ""
            },
            "colorscale": [
             [
              0,
              "#0d0887"
             ],
             [
              0.1111111111111111,
              "#46039f"
             ],
             [
              0.2222222222222222,
              "#7201a8"
             ],
             [
              0.3333333333333333,
              "#9c179e"
             ],
             [
              0.4444444444444444,
              "#bd3786"
             ],
             [
              0.5555555555555556,
              "#d8576b"
             ],
             [
              0.6666666666666666,
              "#ed7953"
             ],
             [
              0.7777777777777778,
              "#fb9f3a"
             ],
             [
              0.8888888888888888,
              "#fdca26"
             ],
             [
              1,
              "#f0f921"
             ]
            ],
            "type": "heatmap"
           }
          ],
          "histogram": [
           {
            "marker": {
             "pattern": {
              "fillmode": "overlay",
              "size": 10,
              "solidity": 0.2
             }
            },
            "type": "histogram"
           }
          ],
          "histogram2d": [
           {
            "colorbar": {
             "outlinewidth": 0,
             "ticks": ""
            },
            "colorscale": [
             [
              0,
              "#0d0887"
             ],
             [
              0.1111111111111111,
              "#46039f"
             ],
             [
              0.2222222222222222,
              "#7201a8"
             ],
             [
              0.3333333333333333,
              "#9c179e"
             ],
             [
              0.4444444444444444,
              "#bd3786"
             ],
             [
              0.5555555555555556,
              "#d8576b"
             ],
             [
              0.6666666666666666,
              "#ed7953"
             ],
             [
              0.7777777777777778,
              "#fb9f3a"
             ],
             [
              0.8888888888888888,
              "#fdca26"
             ],
             [
              1,
              "#f0f921"
             ]
            ],
            "type": "histogram2d"
           }
          ],
          "histogram2dcontour": [
           {
            "colorbar": {
             "outlinewidth": 0,
             "ticks": ""
            },
            "colorscale": [
             [
              0,
              "#0d0887"
             ],
             [
              0.1111111111111111,
              "#46039f"
             ],
             [
              0.2222222222222222,
              "#7201a8"
             ],
             [
              0.3333333333333333,
              "#9c179e"
             ],
             [
              0.4444444444444444,
              "#bd3786"
             ],
             [
              0.5555555555555556,
              "#d8576b"
             ],
             [
              0.6666666666666666,
              "#ed7953"
             ],
             [
              0.7777777777777778,
              "#fb9f3a"
             ],
             [
              0.8888888888888888,
              "#fdca26"
             ],
             [
              1,
              "#f0f921"
             ]
            ],
            "type": "histogram2dcontour"
           }
          ],
          "mesh3d": [
           {
            "colorbar": {
             "outlinewidth": 0,
             "ticks": ""
            },
            "type": "mesh3d"
           }
          ],
          "parcoords": [
           {
            "line": {
             "colorbar": {
              "outlinewidth": 0,
              "ticks": ""
             }
            },
            "type": "parcoords"
           }
          ],
          "pie": [
           {
            "automargin": true,
            "type": "pie"
           }
          ],
          "scatter": [
           {
            "fillpattern": {
             "fillmode": "overlay",
             "size": 10,
             "solidity": 0.2
            },
            "type": "scatter"
           }
          ],
          "scatter3d": [
           {
            "line": {
             "colorbar": {
              "outlinewidth": 0,
              "ticks": ""
             }
            },
            "marker": {
             "colorbar": {
              "outlinewidth": 0,
              "ticks": ""
             }
            },
            "type": "scatter3d"
           }
          ],
          "scattercarpet": [
           {
            "marker": {
             "colorbar": {
              "outlinewidth": 0,
              "ticks": ""
             }
            },
            "type": "scattercarpet"
           }
          ],
          "scattergeo": [
           {
            "marker": {
             "colorbar": {
              "outlinewidth": 0,
              "ticks": ""
             }
            },
            "type": "scattergeo"
           }
          ],
          "scattergl": [
           {
            "marker": {
             "colorbar": {
              "outlinewidth": 0,
              "ticks": ""
             }
            },
            "type": "scattergl"
           }
          ],
          "scattermap": [
           {
            "marker": {
             "colorbar": {
              "outlinewidth": 0,
              "ticks": ""
             }
            },
            "type": "scattermap"
           }
          ],
          "scattermapbox": [
           {
            "marker": {
             "colorbar": {
              "outlinewidth": 0,
              "ticks": ""
             }
            },
            "type": "scattermapbox"
           }
          ],
          "scatterpolar": [
           {
            "marker": {
             "colorbar": {
              "outlinewidth": 0,
              "ticks": ""
             }
            },
            "type": "scatterpolar"
           }
          ],
          "scatterpolargl": [
           {
            "marker": {
             "colorbar": {
              "outlinewidth": 0,
              "ticks": ""
             }
            },
            "type": "scatterpolargl"
           }
          ],
          "scatterternary": [
           {
            "marker": {
             "colorbar": {
              "outlinewidth": 0,
              "ticks": ""
             }
            },
            "type": "scatterternary"
           }
          ],
          "surface": [
           {
            "colorbar": {
             "outlinewidth": 0,
             "ticks": ""
            },
            "colorscale": [
             [
              0,
              "#0d0887"
             ],
             [
              0.1111111111111111,
              "#46039f"
             ],
             [
              0.2222222222222222,
              "#7201a8"
             ],
             [
              0.3333333333333333,
              "#9c179e"
             ],
             [
              0.4444444444444444,
              "#bd3786"
             ],
             [
              0.5555555555555556,
              "#d8576b"
             ],
             [
              0.6666666666666666,
              "#ed7953"
             ],
             [
              0.7777777777777778,
              "#fb9f3a"
             ],
             [
              0.8888888888888888,
              "#fdca26"
             ],
             [
              1,
              "#f0f921"
             ]
            ],
            "type": "surface"
           }
          ],
          "table": [
           {
            "cells": {
             "fill": {
              "color": "#EBF0F8"
             },
             "line": {
              "color": "white"
             }
            },
            "header": {
             "fill": {
              "color": "#C8D4E3"
             },
             "line": {
              "color": "white"
             }
            },
            "type": "table"
           }
          ]
         },
         "layout": {
          "annotationdefaults": {
           "arrowcolor": "#2a3f5f",
           "arrowhead": 0,
           "arrowwidth": 1
          },
          "autotypenumbers": "strict",
          "coloraxis": {
           "colorbar": {
            "outlinewidth": 0,
            "ticks": ""
           }
          },
          "colorscale": {
           "diverging": [
            [
             0,
             "#8e0152"
            ],
            [
             0.1,
             "#c51b7d"
            ],
            [
             0.2,
             "#de77ae"
            ],
            [
             0.3,
             "#f1b6da"
            ],
            [
             0.4,
             "#fde0ef"
            ],
            [
             0.5,
             "#f7f7f7"
            ],
            [
             0.6,
             "#e6f5d0"
            ],
            [
             0.7,
             "#b8e186"
            ],
            [
             0.8,
             "#7fbc41"
            ],
            [
             0.9,
             "#4d9221"
            ],
            [
             1,
             "#276419"
            ]
           ],
           "sequential": [
            [
             0,
             "#0d0887"
            ],
            [
             0.1111111111111111,
             "#46039f"
            ],
            [
             0.2222222222222222,
             "#7201a8"
            ],
            [
             0.3333333333333333,
             "#9c179e"
            ],
            [
             0.4444444444444444,
             "#bd3786"
            ],
            [
             0.5555555555555556,
             "#d8576b"
            ],
            [
             0.6666666666666666,
             "#ed7953"
            ],
            [
             0.7777777777777778,
             "#fb9f3a"
            ],
            [
             0.8888888888888888,
             "#fdca26"
            ],
            [
             1,
             "#f0f921"
            ]
           ],
           "sequentialminus": [
            [
             0,
             "#0d0887"
            ],
            [
             0.1111111111111111,
             "#46039f"
            ],
            [
             0.2222222222222222,
             "#7201a8"
            ],
            [
             0.3333333333333333,
             "#9c179e"
            ],
            [
             0.4444444444444444,
             "#bd3786"
            ],
            [
             0.5555555555555556,
             "#d8576b"
            ],
            [
             0.6666666666666666,
             "#ed7953"
            ],
            [
             0.7777777777777778,
             "#fb9f3a"
            ],
            [
             0.8888888888888888,
             "#fdca26"
            ],
            [
             1,
             "#f0f921"
            ]
           ]
          },
          "colorway": [
           "#636efa",
           "#EF553B",
           "#00cc96",
           "#ab63fa",
           "#FFA15A",
           "#19d3f3",
           "#FF6692",
           "#B6E880",
           "#FF97FF",
           "#FECB52"
          ],
          "font": {
           "color": "#2a3f5f"
          },
          "geo": {
           "bgcolor": "white",
           "lakecolor": "white",
           "landcolor": "#E5ECF6",
           "showlakes": true,
           "showland": true,
           "subunitcolor": "white"
          },
          "hoverlabel": {
           "align": "left"
          },
          "hovermode": "closest",
          "mapbox": {
           "style": "light"
          },
          "paper_bgcolor": "white",
          "plot_bgcolor": "#E5ECF6",
          "polar": {
           "angularaxis": {
            "gridcolor": "white",
            "linecolor": "white",
            "ticks": ""
           },
           "bgcolor": "#E5ECF6",
           "radialaxis": {
            "gridcolor": "white",
            "linecolor": "white",
            "ticks": ""
           }
          },
          "scene": {
           "xaxis": {
            "backgroundcolor": "#E5ECF6",
            "gridcolor": "white",
            "gridwidth": 2,
            "linecolor": "white",
            "showbackground": true,
            "ticks": "",
            "zerolinecolor": "white"
           },
           "yaxis": {
            "backgroundcolor": "#E5ECF6",
            "gridcolor": "white",
            "gridwidth": 2,
            "linecolor": "white",
            "showbackground": true,
            "ticks": "",
            "zerolinecolor": "white"
           },
           "zaxis": {
            "backgroundcolor": "#E5ECF6",
            "gridcolor": "white",
            "gridwidth": 2,
            "linecolor": "white",
            "showbackground": true,
            "ticks": "",
            "zerolinecolor": "white"
           }
          },
          "shapedefaults": {
           "line": {
            "color": "#2a3f5f"
           }
          },
          "ternary": {
           "aaxis": {
            "gridcolor": "white",
            "linecolor": "white",
            "ticks": ""
           },
           "baxis": {
            "gridcolor": "white",
            "linecolor": "white",
            "ticks": ""
           },
           "bgcolor": "#E5ECF6",
           "caxis": {
            "gridcolor": "white",
            "linecolor": "white",
            "ticks": ""
           }
          },
          "title": {
           "x": 0.05
          },
          "xaxis": {
           "automargin": true,
           "gridcolor": "white",
           "linecolor": "white",
           "ticks": "",
           "title": {
            "standoff": 15
           },
           "zerolinecolor": "white",
           "zerolinewidth": 2
          },
          "yaxis": {
           "automargin": true,
           "gridcolor": "white",
           "linecolor": "white",
           "ticks": "",
           "title": {
            "standoff": 15
           },
           "zerolinecolor": "white",
           "zerolinewidth": 2
          }
         }
        },
        "title": {
         "text": "Heatmap of valid pteropod data entries by latitude and longitude"
        },
        "xaxis": {
         "title": {
          "text": "Longitude"
         }
        },
        "yaxis": {
         "title": {
          "text": "Latitude"
         }
        }
       }
      }
     },
     "metadata": {},
     "output_type": "display_data"
    }
   ],
   "source": [
    "#per location\n",
    "per_lat_lon = ds_pter_gm2.count(dim=[\"time\", \"depth\", \"is_day\"])\n",
    "df_lat_lon = per_lat_lon.to_dataframe(name=\"non_nan_count\").reset_index()\n",
    "\n",
    "heatmap_data = df_lat_lon.pivot(index=\"latitude\", columns=\"longitude\", values=\"non_nan_count\")\n",
    "\n",
    "fig = go.Figure(data=go.Heatmap(\n",
    "    z=heatmap_data.values,\n",
    "    x=heatmap_data.columns,\n",
    "    y=heatmap_data.index,\n",
    "    colorscale='plasma',\n",
    "    colorbar=dict(title=\"Non-NaN entries\")\n",
    "))\n",
    "#Labels\n",
    "fig.update_layout(\n",
    "    yaxis=dict(\n",
    "        title=\"Latitude\"\n",
    "    ),\n",
    "    xaxis=dict(\n",
    "        title=\"Longitude\"\n",
    "    ),\n",
    "    title=\"Heatmap of valid pteropod data entries by latitude and longitude\"\n",
    ")\n",
    "\n",
    "fig.show()\n"
   ]
  },
  {
   "cell_type": "markdown",
   "id": "f484aa7f",
   "metadata": {},
   "source": [
    "<div style=\"padding: 10px; border-radius: 5px; background-color: #cce5ff; color: #004085; border-left: 5px solid #007bff;\">\n",
    "    <strong>Note :</strong> Selected 2° Area : 48.5N-50.5N, 128.5W-130.5W\n",
    "</div>"
   ]
  },
  {
   "cell_type": "code",
   "execution_count": 8,
   "id": "528db6d0",
   "metadata": {},
   "outputs": [
    {
     "data": {
      "text/html": [
       "<div><svg style=\"position: absolute; width: 0; height: 0; overflow: hidden\">\n",
       "<defs>\n",
       "<symbol id=\"icon-database\" viewBox=\"0 0 32 32\">\n",
       "<path d=\"M16 0c-8.837 0-16 2.239-16 5v4c0 2.761 7.163 5 16 5s16-2.239 16-5v-4c0-2.761-7.163-5-16-5z\"></path>\n",
       "<path d=\"M16 17c-8.837 0-16-2.239-16-5v6c0 2.761 7.163 5 16 5s16-2.239 16-5v-6c0 2.761-7.163 5-16 5z\"></path>\n",
       "<path d=\"M16 26c-8.837 0-16-2.239-16-5v6c0 2.761 7.163 5 16 5s16-2.239 16-5v-6c0 2.761-7.163 5-16 5z\"></path>\n",
       "</symbol>\n",
       "<symbol id=\"icon-file-text2\" viewBox=\"0 0 32 32\">\n",
       "<path d=\"M28.681 7.159c-0.694-0.947-1.662-2.053-2.724-3.116s-2.169-2.030-3.116-2.724c-1.612-1.182-2.393-1.319-2.841-1.319h-15.5c-1.378 0-2.5 1.121-2.5 2.5v27c0 1.378 1.122 2.5 2.5 2.5h23c1.378 0 2.5-1.122 2.5-2.5v-19.5c0-0.448-0.137-1.23-1.319-2.841zM24.543 5.457c0.959 0.959 1.712 1.825 2.268 2.543h-4.811v-4.811c0.718 0.556 1.584 1.309 2.543 2.268zM28 29.5c0 0.271-0.229 0.5-0.5 0.5h-23c-0.271 0-0.5-0.229-0.5-0.5v-27c0-0.271 0.229-0.5 0.5-0.5 0 0 15.499-0 15.5 0v7c0 0.552 0.448 1 1 1h7v19.5z\"></path>\n",
       "<path d=\"M23 26h-14c-0.552 0-1-0.448-1-1s0.448-1 1-1h14c0.552 0 1 0.448 1 1s-0.448 1-1 1z\"></path>\n",
       "<path d=\"M23 22h-14c-0.552 0-1-0.448-1-1s0.448-1 1-1h14c0.552 0 1 0.448 1 1s-0.448 1-1 1z\"></path>\n",
       "<path d=\"M23 18h-14c-0.552 0-1-0.448-1-1s0.448-1 1-1h14c0.552 0 1 0.448 1 1s-0.448 1-1 1z\"></path>\n",
       "</symbol>\n",
       "</defs>\n",
       "</svg>\n",
       "<style>/* CSS stylesheet for displaying xarray objects in jupyterlab.\n",
       " *\n",
       " */\n",
       "\n",
       ":root {\n",
       "  --xr-font-color0: var(--jp-content-font-color0, rgba(0, 0, 0, 1));\n",
       "  --xr-font-color2: var(--jp-content-font-color2, rgba(0, 0, 0, 0.54));\n",
       "  --xr-font-color3: var(--jp-content-font-color3, rgba(0, 0, 0, 0.38));\n",
       "  --xr-border-color: var(--jp-border-color2, #e0e0e0);\n",
       "  --xr-disabled-color: var(--jp-layout-color3, #bdbdbd);\n",
       "  --xr-background-color: var(--jp-layout-color0, white);\n",
       "  --xr-background-color-row-even: var(--jp-layout-color1, white);\n",
       "  --xr-background-color-row-odd: var(--jp-layout-color2, #eeeeee);\n",
       "}\n",
       "\n",
       "html[theme=\"dark\"],\n",
       "html[data-theme=\"dark\"],\n",
       "body[data-theme=\"dark\"],\n",
       "body.vscode-dark {\n",
       "  --xr-font-color0: rgba(255, 255, 255, 1);\n",
       "  --xr-font-color2: rgba(255, 255, 255, 0.54);\n",
       "  --xr-font-color3: rgba(255, 255, 255, 0.38);\n",
       "  --xr-border-color: #1f1f1f;\n",
       "  --xr-disabled-color: #515151;\n",
       "  --xr-background-color: #111111;\n",
       "  --xr-background-color-row-even: #111111;\n",
       "  --xr-background-color-row-odd: #313131;\n",
       "}\n",
       "\n",
       ".xr-wrap {\n",
       "  display: block !important;\n",
       "  min-width: 300px;\n",
       "  max-width: 700px;\n",
       "}\n",
       "\n",
       ".xr-text-repr-fallback {\n",
       "  /* fallback to plain text repr when CSS is not injected (untrusted notebook) */\n",
       "  display: none;\n",
       "}\n",
       "\n",
       ".xr-header {\n",
       "  padding-top: 6px;\n",
       "  padding-bottom: 6px;\n",
       "  margin-bottom: 4px;\n",
       "  border-bottom: solid 1px var(--xr-border-color);\n",
       "}\n",
       "\n",
       ".xr-header > div,\n",
       ".xr-header > ul {\n",
       "  display: inline;\n",
       "  margin-top: 0;\n",
       "  margin-bottom: 0;\n",
       "}\n",
       "\n",
       ".xr-obj-type,\n",
       ".xr-array-name {\n",
       "  margin-left: 2px;\n",
       "  margin-right: 10px;\n",
       "}\n",
       "\n",
       ".xr-obj-type {\n",
       "  color: var(--xr-font-color2);\n",
       "}\n",
       "\n",
       ".xr-sections {\n",
       "  padding-left: 0 !important;\n",
       "  display: grid;\n",
       "  grid-template-columns: 150px auto auto 1fr 0 20px 0 20px;\n",
       "}\n",
       "\n",
       ".xr-section-item {\n",
       "  display: contents;\n",
       "}\n",
       "\n",
       ".xr-section-item input {\n",
       "  display: inline-block;\n",
       "  opacity: 0;\n",
       "  height: 0;\n",
       "}\n",
       "\n",
       ".xr-section-item input + label {\n",
       "  color: var(--xr-disabled-color);\n",
       "}\n",
       "\n",
       ".xr-section-item input:enabled + label {\n",
       "  cursor: pointer;\n",
       "  color: var(--xr-font-color2);\n",
       "}\n",
       "\n",
       ".xr-section-item input:focus + label {\n",
       "  border: 2px solid var(--xr-font-color0);\n",
       "}\n",
       "\n",
       ".xr-section-item input:enabled + label:hover {\n",
       "  color: var(--xr-font-color0);\n",
       "}\n",
       "\n",
       ".xr-section-summary {\n",
       "  grid-column: 1;\n",
       "  color: var(--xr-font-color2);\n",
       "  font-weight: 500;\n",
       "}\n",
       "\n",
       ".xr-section-summary > span {\n",
       "  display: inline-block;\n",
       "  padding-left: 0.5em;\n",
       "}\n",
       "\n",
       ".xr-section-summary-in:disabled + label {\n",
       "  color: var(--xr-font-color2);\n",
       "}\n",
       "\n",
       ".xr-section-summary-in + label:before {\n",
       "  display: inline-block;\n",
       "  content: \"►\";\n",
       "  font-size: 11px;\n",
       "  width: 15px;\n",
       "  text-align: center;\n",
       "}\n",
       "\n",
       ".xr-section-summary-in:disabled + label:before {\n",
       "  color: var(--xr-disabled-color);\n",
       "}\n",
       "\n",
       ".xr-section-summary-in:checked + label:before {\n",
       "  content: \"▼\";\n",
       "}\n",
       "\n",
       ".xr-section-summary-in:checked + label > span {\n",
       "  display: none;\n",
       "}\n",
       "\n",
       ".xr-section-summary,\n",
       ".xr-section-inline-details {\n",
       "  padding-top: 4px;\n",
       "  padding-bottom: 4px;\n",
       "}\n",
       "\n",
       ".xr-section-inline-details {\n",
       "  grid-column: 2 / -1;\n",
       "}\n",
       "\n",
       ".xr-section-details {\n",
       "  display: none;\n",
       "  grid-column: 1 / -1;\n",
       "  margin-bottom: 5px;\n",
       "}\n",
       "\n",
       ".xr-section-summary-in:checked ~ .xr-section-details {\n",
       "  display: contents;\n",
       "}\n",
       "\n",
       ".xr-array-wrap {\n",
       "  grid-column: 1 / -1;\n",
       "  display: grid;\n",
       "  grid-template-columns: 20px auto;\n",
       "}\n",
       "\n",
       ".xr-array-wrap > label {\n",
       "  grid-column: 1;\n",
       "  vertical-align: top;\n",
       "}\n",
       "\n",
       ".xr-preview {\n",
       "  color: var(--xr-font-color3);\n",
       "}\n",
       "\n",
       ".xr-array-preview,\n",
       ".xr-array-data {\n",
       "  padding: 0 5px !important;\n",
       "  grid-column: 2;\n",
       "}\n",
       "\n",
       ".xr-array-data,\n",
       ".xr-array-in:checked ~ .xr-array-preview {\n",
       "  display: none;\n",
       "}\n",
       "\n",
       ".xr-array-in:checked ~ .xr-array-data,\n",
       ".xr-array-preview {\n",
       "  display: inline-block;\n",
       "}\n",
       "\n",
       ".xr-dim-list {\n",
       "  display: inline-block !important;\n",
       "  list-style: none;\n",
       "  padding: 0 !important;\n",
       "  margin: 0;\n",
       "}\n",
       "\n",
       ".xr-dim-list li {\n",
       "  display: inline-block;\n",
       "  padding: 0;\n",
       "  margin: 0;\n",
       "}\n",
       "\n",
       ".xr-dim-list:before {\n",
       "  content: \"(\";\n",
       "}\n",
       "\n",
       ".xr-dim-list:after {\n",
       "  content: \")\";\n",
       "}\n",
       "\n",
       ".xr-dim-list li:not(:last-child):after {\n",
       "  content: \",\";\n",
       "  padding-right: 5px;\n",
       "}\n",
       "\n",
       ".xr-has-index {\n",
       "  font-weight: bold;\n",
       "}\n",
       "\n",
       ".xr-var-list,\n",
       ".xr-var-item {\n",
       "  display: contents;\n",
       "}\n",
       "\n",
       ".xr-var-item > div,\n",
       ".xr-var-item label,\n",
       ".xr-var-item > .xr-var-name span {\n",
       "  background-color: var(--xr-background-color-row-even);\n",
       "  margin-bottom: 0;\n",
       "}\n",
       "\n",
       ".xr-var-item > .xr-var-name:hover span {\n",
       "  padding-right: 5px;\n",
       "}\n",
       "\n",
       ".xr-var-list > li:nth-child(odd) > div,\n",
       ".xr-var-list > li:nth-child(odd) > label,\n",
       ".xr-var-list > li:nth-child(odd) > .xr-var-name span {\n",
       "  background-color: var(--xr-background-color-row-odd);\n",
       "}\n",
       "\n",
       ".xr-var-name {\n",
       "  grid-column: 1;\n",
       "}\n",
       "\n",
       ".xr-var-dims {\n",
       "  grid-column: 2;\n",
       "}\n",
       "\n",
       ".xr-var-dtype {\n",
       "  grid-column: 3;\n",
       "  text-align: right;\n",
       "  color: var(--xr-font-color2);\n",
       "}\n",
       "\n",
       ".xr-var-preview {\n",
       "  grid-column: 4;\n",
       "}\n",
       "\n",
       ".xr-index-preview {\n",
       "  grid-column: 2 / 5;\n",
       "  color: var(--xr-font-color2);\n",
       "}\n",
       "\n",
       ".xr-var-name,\n",
       ".xr-var-dims,\n",
       ".xr-var-dtype,\n",
       ".xr-preview,\n",
       ".xr-attrs dt {\n",
       "  white-space: nowrap;\n",
       "  overflow: hidden;\n",
       "  text-overflow: ellipsis;\n",
       "  padding-right: 10px;\n",
       "}\n",
       "\n",
       ".xr-var-name:hover,\n",
       ".xr-var-dims:hover,\n",
       ".xr-var-dtype:hover,\n",
       ".xr-attrs dt:hover {\n",
       "  overflow: visible;\n",
       "  width: auto;\n",
       "  z-index: 1;\n",
       "}\n",
       "\n",
       ".xr-var-attrs,\n",
       ".xr-var-data,\n",
       ".xr-index-data {\n",
       "  display: none;\n",
       "  background-color: var(--xr-background-color) !important;\n",
       "  padding-bottom: 5px !important;\n",
       "}\n",
       "\n",
       ".xr-var-attrs-in:checked ~ .xr-var-attrs,\n",
       ".xr-var-data-in:checked ~ .xr-var-data,\n",
       ".xr-index-data-in:checked ~ .xr-index-data {\n",
       "  display: block;\n",
       "}\n",
       "\n",
       ".xr-var-data > table {\n",
       "  float: right;\n",
       "}\n",
       "\n",
       ".xr-var-name span,\n",
       ".xr-var-data,\n",
       ".xr-index-name div,\n",
       ".xr-index-data,\n",
       ".xr-attrs {\n",
       "  padding-left: 25px !important;\n",
       "}\n",
       "\n",
       ".xr-attrs,\n",
       ".xr-var-attrs,\n",
       ".xr-var-data,\n",
       ".xr-index-data {\n",
       "  grid-column: 1 / -1;\n",
       "}\n",
       "\n",
       "dl.xr-attrs {\n",
       "  padding: 0;\n",
       "  margin: 0;\n",
       "  display: grid;\n",
       "  grid-template-columns: 125px auto;\n",
       "}\n",
       "\n",
       ".xr-attrs dt,\n",
       ".xr-attrs dd {\n",
       "  padding: 0;\n",
       "  margin: 0;\n",
       "  float: left;\n",
       "  padding-right: 10px;\n",
       "  width: auto;\n",
       "}\n",
       "\n",
       ".xr-attrs dt {\n",
       "  font-weight: normal;\n",
       "  grid-column: 1;\n",
       "}\n",
       "\n",
       ".xr-attrs dt:hover span {\n",
       "  display: inline-block;\n",
       "  background: var(--xr-background-color);\n",
       "  padding-right: 10px;\n",
       "}\n",
       "\n",
       ".xr-attrs dd {\n",
       "  grid-column: 2;\n",
       "  white-space: pre-wrap;\n",
       "  word-break: break-all;\n",
       "}\n",
       "\n",
       ".xr-icon-database,\n",
       ".xr-icon-file-text2,\n",
       ".xr-no-icon {\n",
       "  display: inline-block;\n",
       "  vertical-align: middle;\n",
       "  width: 1em;\n",
       "  height: 1.5em !important;\n",
       "  stroke-width: 0;\n",
       "  stroke: currentColor;\n",
       "  fill: currentColor;\n",
       "}\n",
       "</style><pre class='xr-text-repr-fallback'>&lt;xarray.DataArray &#x27;pteropod_biomass_gm2&#x27; (time: 579, is_day: 2, latitude: 3,\n",
       "                                          longitude: 3, depth: 66)&gt; Size: 6MB\n",
       "array([[[[[nan, nan, nan, ..., nan, nan, nan],\n",
       "          [nan, nan, nan, ..., nan, nan, nan],\n",
       "          [nan, nan, nan, ..., nan, nan, nan]],\n",
       "\n",
       "         [[nan, nan, nan, ..., nan, nan, nan],\n",
       "          [nan, nan, nan, ..., nan, nan, nan],\n",
       "          [nan, nan, nan, ..., nan, nan, nan]],\n",
       "\n",
       "         [[nan, nan, nan, ..., nan, nan, nan],\n",
       "          [nan, nan, nan, ..., nan, nan, nan],\n",
       "          [nan, nan, nan, ..., nan, nan, nan]]],\n",
       "\n",
       "\n",
       "        [[[nan, nan, nan, ..., nan, nan, nan],\n",
       "          [nan, nan, nan, ..., nan, nan, nan],\n",
       "          [nan, nan, nan, ..., nan, nan, nan]],\n",
       "\n",
       "         [[nan, nan, nan, ..., nan, nan, nan],\n",
       "          [nan, nan, nan, ..., nan, nan, nan],\n",
       "          [nan, nan, nan, ..., nan, nan, nan]],\n",
       "...\n",
       "         [[nan, nan, nan, ..., nan, nan, nan],\n",
       "          [nan, nan, nan, ..., nan, nan, nan],\n",
       "          [nan, nan, nan, ..., nan, nan, nan]],\n",
       "\n",
       "         [[nan, nan, nan, ..., nan, nan, nan],\n",
       "          [nan, nan, nan, ..., nan, nan, nan],\n",
       "          [nan, nan, nan, ..., nan, nan, nan]]],\n",
       "\n",
       "\n",
       "        [[[nan, nan, nan, ..., nan, nan, nan],\n",
       "          [nan, nan, nan, ..., nan, nan, nan],\n",
       "          [nan, nan, nan, ..., nan, nan, nan]],\n",
       "\n",
       "         [[nan, nan, nan, ..., nan, nan, nan],\n",
       "          [nan, nan, nan, ..., nan, nan, nan],\n",
       "          [nan, nan, nan, ..., nan, nan, nan]],\n",
       "\n",
       "         [[nan, nan, nan, ..., nan, nan, nan],\n",
       "          [nan, nan, nan, ..., nan, nan, nan],\n",
       "          [nan, nan, nan, ..., nan, nan, nan]]]]])\n",
       "Coordinates:\n",
       "  * longitude  (longitude) float64 24B -130.5 -129.5 -128.5\n",
       "  * latitude   (latitude) float64 24B 48.5 49.5 50.5\n",
       "  * is_day     (is_day) bool 2B False True\n",
       "  * depth      (depth) float64 528B 34.0 35.0 37.0 48.0 ... 261.0 276.0 295.0\n",
       "  * time       (time) datetime64[ns] 5kB 1998-01-19 1998-01-20 ... 2020-08-31\n",
       "Attributes:\n",
       "    units:      gC m-2\n",
       "    long_name:  Pteropod integrated biomass in epipelagic layer</pre><div class='xr-wrap' style='display:none'><div class='xr-header'><div class='xr-obj-type'>xarray.DataArray</div><div class='xr-array-name'>'pteropod_biomass_gm2'</div><ul class='xr-dim-list'><li><span class='xr-has-index'>time</span>: 579</li><li><span class='xr-has-index'>is_day</span>: 2</li><li><span class='xr-has-index'>latitude</span>: 3</li><li><span class='xr-has-index'>longitude</span>: 3</li><li><span class='xr-has-index'>depth</span>: 66</li></ul></div><ul class='xr-sections'><li class='xr-section-item'><div class='xr-array-wrap'><input id='section-f6e86e6a-5325-4720-a818-95ce15189e73' class='xr-array-in' type='checkbox' checked><label for='section-f6e86e6a-5325-4720-a818-95ce15189e73' title='Show/hide data repr'><svg class='icon xr-icon-database'><use xlink:href='#icon-database'></use></svg></label><div class='xr-array-preview xr-preview'><span>nan nan nan nan nan nan nan nan ... nan nan nan nan nan nan nan nan</span></div><div class='xr-array-data'><pre>array([[[[[nan, nan, nan, ..., nan, nan, nan],\n",
       "          [nan, nan, nan, ..., nan, nan, nan],\n",
       "          [nan, nan, nan, ..., nan, nan, nan]],\n",
       "\n",
       "         [[nan, nan, nan, ..., nan, nan, nan],\n",
       "          [nan, nan, nan, ..., nan, nan, nan],\n",
       "          [nan, nan, nan, ..., nan, nan, nan]],\n",
       "\n",
       "         [[nan, nan, nan, ..., nan, nan, nan],\n",
       "          [nan, nan, nan, ..., nan, nan, nan],\n",
       "          [nan, nan, nan, ..., nan, nan, nan]]],\n",
       "\n",
       "\n",
       "        [[[nan, nan, nan, ..., nan, nan, nan],\n",
       "          [nan, nan, nan, ..., nan, nan, nan],\n",
       "          [nan, nan, nan, ..., nan, nan, nan]],\n",
       "\n",
       "         [[nan, nan, nan, ..., nan, nan, nan],\n",
       "          [nan, nan, nan, ..., nan, nan, nan],\n",
       "          [nan, nan, nan, ..., nan, nan, nan]],\n",
       "...\n",
       "         [[nan, nan, nan, ..., nan, nan, nan],\n",
       "          [nan, nan, nan, ..., nan, nan, nan],\n",
       "          [nan, nan, nan, ..., nan, nan, nan]],\n",
       "\n",
       "         [[nan, nan, nan, ..., nan, nan, nan],\n",
       "          [nan, nan, nan, ..., nan, nan, nan],\n",
       "          [nan, nan, nan, ..., nan, nan, nan]]],\n",
       "\n",
       "\n",
       "        [[[nan, nan, nan, ..., nan, nan, nan],\n",
       "          [nan, nan, nan, ..., nan, nan, nan],\n",
       "          [nan, nan, nan, ..., nan, nan, nan]],\n",
       "\n",
       "         [[nan, nan, nan, ..., nan, nan, nan],\n",
       "          [nan, nan, nan, ..., nan, nan, nan],\n",
       "          [nan, nan, nan, ..., nan, nan, nan]],\n",
       "\n",
       "         [[nan, nan, nan, ..., nan, nan, nan],\n",
       "          [nan, nan, nan, ..., nan, nan, nan],\n",
       "          [nan, nan, nan, ..., nan, nan, nan]]]]])</pre></div></div></li><li class='xr-section-item'><input id='section-385a585e-e030-4893-9c8e-6830b13e9d22' class='xr-section-summary-in' type='checkbox'  checked><label for='section-385a585e-e030-4893-9c8e-6830b13e9d22' class='xr-section-summary' >Coordinates: <span>(5)</span></label><div class='xr-section-inline-details'></div><div class='xr-section-details'><ul class='xr-var-list'><li class='xr-var-item'><div class='xr-var-name'><span class='xr-has-index'>longitude</span></div><div class='xr-var-dims'>(longitude)</div><div class='xr-var-dtype'>float64</div><div class='xr-var-preview xr-preview'>-130.5 -129.5 -128.5</div><input id='attrs-1fe2fba7-ff4e-4589-b742-20e1583a1745' class='xr-var-attrs-in' type='checkbox' ><label for='attrs-1fe2fba7-ff4e-4589-b742-20e1583a1745' title='Show/Hide attributes'><svg class='icon xr-icon-file-text2'><use xlink:href='#icon-file-text2'></use></svg></label><input id='data-ab0dec0e-07db-4980-b611-ef91c4d5d73d' class='xr-var-data-in' type='checkbox'><label for='data-ab0dec0e-07db-4980-b611-ef91c4d5d73d' title='Show/Hide data repr'><svg class='icon xr-icon-database'><use xlink:href='#icon-database'></use></svg></label><div class='xr-var-attrs'><dl class='xr-attrs'><dt><span>standard_name :</span></dt><dd>longitude</dd><dt><span>long_name :</span></dt><dd>longitude</dd><dt><span>axis :</span></dt><dd>X</dd><dt><span>units :</span></dt><dd>degrees_east</dd></dl></div><div class='xr-var-data'><pre>array([-130.5, -129.5, -128.5])</pre></div></li><li class='xr-var-item'><div class='xr-var-name'><span class='xr-has-index'>latitude</span></div><div class='xr-var-dims'>(latitude)</div><div class='xr-var-dtype'>float64</div><div class='xr-var-preview xr-preview'>48.5 49.5 50.5</div><input id='attrs-fd57dedf-2a67-499f-a13f-d6951a5bcf3c' class='xr-var-attrs-in' type='checkbox' ><label for='attrs-fd57dedf-2a67-499f-a13f-d6951a5bcf3c' title='Show/Hide attributes'><svg class='icon xr-icon-file-text2'><use xlink:href='#icon-file-text2'></use></svg></label><input id='data-061375b9-00e1-470b-92ce-90a0175e114b' class='xr-var-data-in' type='checkbox'><label for='data-061375b9-00e1-470b-92ce-90a0175e114b' title='Show/Hide data repr'><svg class='icon xr-icon-database'><use xlink:href='#icon-database'></use></svg></label><div class='xr-var-attrs'><dl class='xr-attrs'><dt><span>standard_name :</span></dt><dd>latitude</dd><dt><span>long_name :</span></dt><dd>latitude</dd><dt><span>axis :</span></dt><dd>Y</dd><dt><span>units :</span></dt><dd>degrees_north</dd></dl></div><div class='xr-var-data'><pre>array([48.5, 49.5, 50.5])</pre></div></li><li class='xr-var-item'><div class='xr-var-name'><span class='xr-has-index'>is_day</span></div><div class='xr-var-dims'>(is_day)</div><div class='xr-var-dtype'>bool</div><div class='xr-var-preview xr-preview'>False True</div><input id='attrs-463eb617-f1b6-4216-b650-2957019e3a9d' class='xr-var-attrs-in' type='checkbox' ><label for='attrs-463eb617-f1b6-4216-b650-2957019e3a9d' title='Show/Hide attributes'><svg class='icon xr-icon-file-text2'><use xlink:href='#icon-file-text2'></use></svg></label><input id='data-4b7d6229-769c-42f4-a119-6c84ce067a1d' class='xr-var-data-in' type='checkbox'><label for='data-4b7d6229-769c-42f4-a119-6c84ce067a1d' title='Show/Hide data repr'><svg class='icon xr-icon-database'><use xlink:href='#icon-database'></use></svg></label><div class='xr-var-attrs'><dl class='xr-attrs'><dt><span>flag_values :</span></dt><dd>[True, False]</dd><dt><span>flag_meanings :</span></dt><dd>day night</dd><dt><span>standard_name :</span></dt><dd>is_day</dd><dt><span>long_name :</span></dt><dd>Is day</dd><dt><span>description :</span></dt><dd>Flag to indicate if the time is during the day or night</dd></dl></div><div class='xr-var-data'><pre>array([False,  True])</pre></div></li><li class='xr-var-item'><div class='xr-var-name'><span class='xr-has-index'>depth</span></div><div class='xr-var-dims'>(depth)</div><div class='xr-var-dtype'>float64</div><div class='xr-var-preview xr-preview'>34.0 35.0 37.0 ... 276.0 295.0</div><input id='attrs-23a3405a-52f7-4184-8e66-7c8472d287b1' class='xr-var-attrs-in' type='checkbox' ><label for='attrs-23a3405a-52f7-4184-8e66-7c8472d287b1' title='Show/Hide attributes'><svg class='icon xr-icon-file-text2'><use xlink:href='#icon-file-text2'></use></svg></label><input id='data-14105704-88f2-47ac-9362-d0f4c347e573' class='xr-var-data-in' type='checkbox'><label for='data-14105704-88f2-47ac-9362-d0f4c347e573' title='Show/Hide data repr'><svg class='icon xr-icon-database'><use xlink:href='#icon-database'></use></svg></label><div class='xr-var-attrs'><dl class='xr-attrs'><dt><span>standard_name :</span></dt><dd>depth</dd><dt><span>long_name :</span></dt><dd>depth</dd><dt><span>axis :</span></dt><dd>Z</dd><dt><span>units :</span></dt><dd>m</dd></dl></div><div class='xr-var-data'><pre>array([ 34.,  35.,  37.,  48.,  49.,  50.,  52.,  57.,  98.,  99., 100., 101.,\n",
       "       103., 105., 109., 121., 130., 139., 140., 141., 144., 145., 146., 147.,\n",
       "       148., 149., 150., 151., 152., 153., 154., 155., 156., 158., 159., 160.,\n",
       "       163., 164., 171., 192., 207., 213., 216., 217., 227., 229., 230., 235.,\n",
       "       238., 239., 240., 241., 244., 245., 246., 248., 249., 250., 251., 254.,\n",
       "       256., 257., 258., 261., 276., 295.])</pre></div></li><li class='xr-var-item'><div class='xr-var-name'><span class='xr-has-index'>time</span></div><div class='xr-var-dims'>(time)</div><div class='xr-var-dtype'>datetime64[ns]</div><div class='xr-var-preview xr-preview'>1998-01-19 ... 2020-08-31</div><input id='attrs-3b0ca179-34c8-4900-b1a5-a5fe4946b36e' class='xr-var-attrs-in' type='checkbox' ><label for='attrs-3b0ca179-34c8-4900-b1a5-a5fe4946b36e' title='Show/Hide attributes'><svg class='icon xr-icon-file-text2'><use xlink:href='#icon-file-text2'></use></svg></label><input id='data-dad813bc-1631-4d36-aee4-ec05d323e588' class='xr-var-data-in' type='checkbox'><label for='data-dad813bc-1631-4d36-aee4-ec05d323e588' title='Show/Hide data repr'><svg class='icon xr-icon-database'><use xlink:href='#icon-database'></use></svg></label><div class='xr-var-attrs'><dl class='xr-attrs'><dt><span>standard_name :</span></dt><dd>time</dd><dt><span>long_name :</span></dt><dd>time</dd><dt><span>axis :</span></dt><dd>T</dd></dl></div><div class='xr-var-data'><pre>array([&#x27;1998-01-19T00:00:00.000000000&#x27;, &#x27;1998-01-20T00:00:00.000000000&#x27;,\n",
       "       &#x27;1998-02-21T00:00:00.000000000&#x27;, ..., &#x27;2020-08-20T00:00:00.000000000&#x27;,\n",
       "       &#x27;2020-08-30T00:00:00.000000000&#x27;, &#x27;2020-08-31T00:00:00.000000000&#x27;],\n",
       "      dtype=&#x27;datetime64[ns]&#x27;)</pre></div></li></ul></div></li><li class='xr-section-item'><input id='section-9fb06e77-2e1e-4234-b9cd-228141337865' class='xr-section-summary-in' type='checkbox'  ><label for='section-9fb06e77-2e1e-4234-b9cd-228141337865' class='xr-section-summary' >Indexes: <span>(5)</span></label><div class='xr-section-inline-details'></div><div class='xr-section-details'><ul class='xr-var-list'><li class='xr-var-item'><div class='xr-index-name'><div>longitude</div></div><div class='xr-index-preview'>PandasIndex</div><input type='checkbox' disabled/><label></label><input id='index-6e6332c2-a9de-4934-a89c-e6f5c81f44e2' class='xr-index-data-in' type='checkbox'/><label for='index-6e6332c2-a9de-4934-a89c-e6f5c81f44e2' title='Show/Hide index repr'><svg class='icon xr-icon-database'><use xlink:href='#icon-database'></use></svg></label><div class='xr-index-data'><pre>PandasIndex(Index([-130.5, -129.5, -128.5], dtype=&#x27;float64&#x27;, name=&#x27;longitude&#x27;))</pre></div></li><li class='xr-var-item'><div class='xr-index-name'><div>latitude</div></div><div class='xr-index-preview'>PandasIndex</div><input type='checkbox' disabled/><label></label><input id='index-d00b84cf-7055-419e-8423-419ee2570c71' class='xr-index-data-in' type='checkbox'/><label for='index-d00b84cf-7055-419e-8423-419ee2570c71' title='Show/Hide index repr'><svg class='icon xr-icon-database'><use xlink:href='#icon-database'></use></svg></label><div class='xr-index-data'><pre>PandasIndex(Index([48.5, 49.5, 50.5], dtype=&#x27;float64&#x27;, name=&#x27;latitude&#x27;))</pre></div></li><li class='xr-var-item'><div class='xr-index-name'><div>is_day</div></div><div class='xr-index-preview'>PandasIndex</div><input type='checkbox' disabled/><label></label><input id='index-7ea1fb01-6cce-4854-8eeb-7cb741d3c40f' class='xr-index-data-in' type='checkbox'/><label for='index-7ea1fb01-6cce-4854-8eeb-7cb741d3c40f' title='Show/Hide index repr'><svg class='icon xr-icon-database'><use xlink:href='#icon-database'></use></svg></label><div class='xr-index-data'><pre>PandasIndex(Index([False, True], dtype=&#x27;bool&#x27;, name=&#x27;is_day&#x27;))</pre></div></li><li class='xr-var-item'><div class='xr-index-name'><div>depth</div></div><div class='xr-index-preview'>PandasIndex</div><input type='checkbox' disabled/><label></label><input id='index-d5fbabc1-62f5-4444-a032-3cb48be0a845' class='xr-index-data-in' type='checkbox'/><label for='index-d5fbabc1-62f5-4444-a032-3cb48be0a845' title='Show/Hide index repr'><svg class='icon xr-icon-database'><use xlink:href='#icon-database'></use></svg></label><div class='xr-index-data'><pre>PandasIndex(Index([ 34.0,  35.0,  37.0,  48.0,  49.0,  50.0,  52.0,  57.0,  98.0,  99.0,\n",
       "       100.0, 101.0, 103.0, 105.0, 109.0, 121.0, 130.0, 139.0, 140.0, 141.0,\n",
       "       144.0, 145.0, 146.0, 147.0, 148.0, 149.0, 150.0, 151.0, 152.0, 153.0,\n",
       "       154.0, 155.0, 156.0, 158.0, 159.0, 160.0, 163.0, 164.0, 171.0, 192.0,\n",
       "       207.0, 213.0, 216.0, 217.0, 227.0, 229.0, 230.0, 235.0, 238.0, 239.0,\n",
       "       240.0, 241.0, 244.0, 245.0, 246.0, 248.0, 249.0, 250.0, 251.0, 254.0,\n",
       "       256.0, 257.0, 258.0, 261.0, 276.0, 295.0],\n",
       "      dtype=&#x27;float64&#x27;, name=&#x27;depth&#x27;))</pre></div></li><li class='xr-var-item'><div class='xr-index-name'><div>time</div></div><div class='xr-index-preview'>PandasIndex</div><input type='checkbox' disabled/><label></label><input id='index-ddac0f69-a932-46a7-9b59-a9279568ddf1' class='xr-index-data-in' type='checkbox'/><label for='index-ddac0f69-a932-46a7-9b59-a9279568ddf1' title='Show/Hide index repr'><svg class='icon xr-icon-database'><use xlink:href='#icon-database'></use></svg></label><div class='xr-index-data'><pre>PandasIndex(DatetimeIndex([&#x27;1998-01-19&#x27;, &#x27;1998-01-20&#x27;, &#x27;1998-02-21&#x27;, &#x27;1998-02-23&#x27;,\n",
       "               &#x27;1998-02-24&#x27;, &#x27;1998-02-27&#x27;, &#x27;1998-02-28&#x27;, &#x27;1998-03-03&#x27;,\n",
       "               &#x27;1998-04-08&#x27;, &#x27;1998-04-09&#x27;,\n",
       "               ...\n",
       "               &#x27;2020-07-05&#x27;, &#x27;2020-07-22&#x27;, &#x27;2020-07-26&#x27;, &#x27;2020-08-14&#x27;,\n",
       "               &#x27;2020-08-15&#x27;, &#x27;2020-08-17&#x27;, &#x27;2020-08-18&#x27;, &#x27;2020-08-20&#x27;,\n",
       "               &#x27;2020-08-30&#x27;, &#x27;2020-08-31&#x27;],\n",
       "              dtype=&#x27;datetime64[ns]&#x27;, name=&#x27;time&#x27;, length=579, freq=None))</pre></div></li></ul></div></li><li class='xr-section-item'><input id='section-a8988d10-f779-455f-8fa6-c43ee0cf31c7' class='xr-section-summary-in' type='checkbox'  checked><label for='section-a8988d10-f779-455f-8fa6-c43ee0cf31c7' class='xr-section-summary' >Attributes: <span>(2)</span></label><div class='xr-section-inline-details'></div><div class='xr-section-details'><dl class='xr-attrs'><dt><span>units :</span></dt><dd>gC m-2</dd><dt><span>long_name :</span></dt><dd>Pteropod integrated biomass in epipelagic layer</dd></dl></div></li></ul></div></div>"
      ],
      "text/plain": [
       "<xarray.DataArray 'pteropod_biomass_gm2' (time: 579, is_day: 2, latitude: 3,\n",
       "                                          longitude: 3, depth: 66)> Size: 6MB\n",
       "array([[[[[nan, nan, nan, ..., nan, nan, nan],\n",
       "          [nan, nan, nan, ..., nan, nan, nan],\n",
       "          [nan, nan, nan, ..., nan, nan, nan]],\n",
       "\n",
       "         [[nan, nan, nan, ..., nan, nan, nan],\n",
       "          [nan, nan, nan, ..., nan, nan, nan],\n",
       "          [nan, nan, nan, ..., nan, nan, nan]],\n",
       "\n",
       "         [[nan, nan, nan, ..., nan, nan, nan],\n",
       "          [nan, nan, nan, ..., nan, nan, nan],\n",
       "          [nan, nan, nan, ..., nan, nan, nan]]],\n",
       "\n",
       "\n",
       "        [[[nan, nan, nan, ..., nan, nan, nan],\n",
       "          [nan, nan, nan, ..., nan, nan, nan],\n",
       "          [nan, nan, nan, ..., nan, nan, nan]],\n",
       "\n",
       "         [[nan, nan, nan, ..., nan, nan, nan],\n",
       "          [nan, nan, nan, ..., nan, nan, nan],\n",
       "          [nan, nan, nan, ..., nan, nan, nan]],\n",
       "...\n",
       "         [[nan, nan, nan, ..., nan, nan, nan],\n",
       "          [nan, nan, nan, ..., nan, nan, nan],\n",
       "          [nan, nan, nan, ..., nan, nan, nan]],\n",
       "\n",
       "         [[nan, nan, nan, ..., nan, nan, nan],\n",
       "          [nan, nan, nan, ..., nan, nan, nan],\n",
       "          [nan, nan, nan, ..., nan, nan, nan]]],\n",
       "\n",
       "\n",
       "        [[[nan, nan, nan, ..., nan, nan, nan],\n",
       "          [nan, nan, nan, ..., nan, nan, nan],\n",
       "          [nan, nan, nan, ..., nan, nan, nan]],\n",
       "\n",
       "         [[nan, nan, nan, ..., nan, nan, nan],\n",
       "          [nan, nan, nan, ..., nan, nan, nan],\n",
       "          [nan, nan, nan, ..., nan, nan, nan]],\n",
       "\n",
       "         [[nan, nan, nan, ..., nan, nan, nan],\n",
       "          [nan, nan, nan, ..., nan, nan, nan],\n",
       "          [nan, nan, nan, ..., nan, nan, nan]]]]])\n",
       "Coordinates:\n",
       "  * longitude  (longitude) float64 24B -130.5 -129.5 -128.5\n",
       "  * latitude   (latitude) float64 24B 48.5 49.5 50.5\n",
       "  * is_day     (is_day) bool 2B False True\n",
       "  * depth      (depth) float64 528B 34.0 35.0 37.0 48.0 ... 261.0 276.0 295.0\n",
       "  * time       (time) datetime64[ns] 5kB 1998-01-19 1998-01-20 ... 2020-08-31\n",
       "Attributes:\n",
       "    units:      gC m-2\n",
       "    long_name:  Pteropod integrated biomass in epipelagic layer"
      ]
     },
     "execution_count": 8,
     "metadata": {},
     "output_type": "execute_result"
    }
   ],
   "source": [
    "ds_pter_2deg = ds_pter_gm2.sel(\n",
    "    latitude=slice(48.5, 50.5),\n",
    "    longitude=slice(-130.5, -128.5)\n",
    ")\n",
    "ds_pter_2deg"
   ]
  },
  {
   "cell_type": "code",
   "execution_count": 9,
   "id": "5affc34e",
   "metadata": {},
   "outputs": [
    {
     "data": {
      "text/html": [
       "<div><svg style=\"position: absolute; width: 0; height: 0; overflow: hidden\">\n",
       "<defs>\n",
       "<symbol id=\"icon-database\" viewBox=\"0 0 32 32\">\n",
       "<path d=\"M16 0c-8.837 0-16 2.239-16 5v4c0 2.761 7.163 5 16 5s16-2.239 16-5v-4c0-2.761-7.163-5-16-5z\"></path>\n",
       "<path d=\"M16 17c-8.837 0-16-2.239-16-5v6c0 2.761 7.163 5 16 5s16-2.239 16-5v-6c0 2.761-7.163 5-16 5z\"></path>\n",
       "<path d=\"M16 26c-8.837 0-16-2.239-16-5v6c0 2.761 7.163 5 16 5s16-2.239 16-5v-6c0 2.761-7.163 5-16 5z\"></path>\n",
       "</symbol>\n",
       "<symbol id=\"icon-file-text2\" viewBox=\"0 0 32 32\">\n",
       "<path d=\"M28.681 7.159c-0.694-0.947-1.662-2.053-2.724-3.116s-2.169-2.030-3.116-2.724c-1.612-1.182-2.393-1.319-2.841-1.319h-15.5c-1.378 0-2.5 1.121-2.5 2.5v27c0 1.378 1.122 2.5 2.5 2.5h23c1.378 0 2.5-1.122 2.5-2.5v-19.5c0-0.448-0.137-1.23-1.319-2.841zM24.543 5.457c0.959 0.959 1.712 1.825 2.268 2.543h-4.811v-4.811c0.718 0.556 1.584 1.309 2.543 2.268zM28 29.5c0 0.271-0.229 0.5-0.5 0.5h-23c-0.271 0-0.5-0.229-0.5-0.5v-27c0-0.271 0.229-0.5 0.5-0.5 0 0 15.499-0 15.5 0v7c0 0.552 0.448 1 1 1h7v19.5z\"></path>\n",
       "<path d=\"M23 26h-14c-0.552 0-1-0.448-1-1s0.448-1 1-1h14c0.552 0 1 0.448 1 1s-0.448 1-1 1z\"></path>\n",
       "<path d=\"M23 22h-14c-0.552 0-1-0.448-1-1s0.448-1 1-1h14c0.552 0 1 0.448 1 1s-0.448 1-1 1z\"></path>\n",
       "<path d=\"M23 18h-14c-0.552 0-1-0.448-1-1s0.448-1 1-1h14c0.552 0 1 0.448 1 1s-0.448 1-1 1z\"></path>\n",
       "</symbol>\n",
       "</defs>\n",
       "</svg>\n",
       "<style>/* CSS stylesheet for displaying xarray objects in jupyterlab.\n",
       " *\n",
       " */\n",
       "\n",
       ":root {\n",
       "  --xr-font-color0: var(--jp-content-font-color0, rgba(0, 0, 0, 1));\n",
       "  --xr-font-color2: var(--jp-content-font-color2, rgba(0, 0, 0, 0.54));\n",
       "  --xr-font-color3: var(--jp-content-font-color3, rgba(0, 0, 0, 0.38));\n",
       "  --xr-border-color: var(--jp-border-color2, #e0e0e0);\n",
       "  --xr-disabled-color: var(--jp-layout-color3, #bdbdbd);\n",
       "  --xr-background-color: var(--jp-layout-color0, white);\n",
       "  --xr-background-color-row-even: var(--jp-layout-color1, white);\n",
       "  --xr-background-color-row-odd: var(--jp-layout-color2, #eeeeee);\n",
       "}\n",
       "\n",
       "html[theme=\"dark\"],\n",
       "html[data-theme=\"dark\"],\n",
       "body[data-theme=\"dark\"],\n",
       "body.vscode-dark {\n",
       "  --xr-font-color0: rgba(255, 255, 255, 1);\n",
       "  --xr-font-color2: rgba(255, 255, 255, 0.54);\n",
       "  --xr-font-color3: rgba(255, 255, 255, 0.38);\n",
       "  --xr-border-color: #1f1f1f;\n",
       "  --xr-disabled-color: #515151;\n",
       "  --xr-background-color: #111111;\n",
       "  --xr-background-color-row-even: #111111;\n",
       "  --xr-background-color-row-odd: #313131;\n",
       "}\n",
       "\n",
       ".xr-wrap {\n",
       "  display: block !important;\n",
       "  min-width: 300px;\n",
       "  max-width: 700px;\n",
       "}\n",
       "\n",
       ".xr-text-repr-fallback {\n",
       "  /* fallback to plain text repr when CSS is not injected (untrusted notebook) */\n",
       "  display: none;\n",
       "}\n",
       "\n",
       ".xr-header {\n",
       "  padding-top: 6px;\n",
       "  padding-bottom: 6px;\n",
       "  margin-bottom: 4px;\n",
       "  border-bottom: solid 1px var(--xr-border-color);\n",
       "}\n",
       "\n",
       ".xr-header > div,\n",
       ".xr-header > ul {\n",
       "  display: inline;\n",
       "  margin-top: 0;\n",
       "  margin-bottom: 0;\n",
       "}\n",
       "\n",
       ".xr-obj-type,\n",
       ".xr-array-name {\n",
       "  margin-left: 2px;\n",
       "  margin-right: 10px;\n",
       "}\n",
       "\n",
       ".xr-obj-type {\n",
       "  color: var(--xr-font-color2);\n",
       "}\n",
       "\n",
       ".xr-sections {\n",
       "  padding-left: 0 !important;\n",
       "  display: grid;\n",
       "  grid-template-columns: 150px auto auto 1fr 0 20px 0 20px;\n",
       "}\n",
       "\n",
       ".xr-section-item {\n",
       "  display: contents;\n",
       "}\n",
       "\n",
       ".xr-section-item input {\n",
       "  display: inline-block;\n",
       "  opacity: 0;\n",
       "  height: 0;\n",
       "}\n",
       "\n",
       ".xr-section-item input + label {\n",
       "  color: var(--xr-disabled-color);\n",
       "}\n",
       "\n",
       ".xr-section-item input:enabled + label {\n",
       "  cursor: pointer;\n",
       "  color: var(--xr-font-color2);\n",
       "}\n",
       "\n",
       ".xr-section-item input:focus + label {\n",
       "  border: 2px solid var(--xr-font-color0);\n",
       "}\n",
       "\n",
       ".xr-section-item input:enabled + label:hover {\n",
       "  color: var(--xr-font-color0);\n",
       "}\n",
       "\n",
       ".xr-section-summary {\n",
       "  grid-column: 1;\n",
       "  color: var(--xr-font-color2);\n",
       "  font-weight: 500;\n",
       "}\n",
       "\n",
       ".xr-section-summary > span {\n",
       "  display: inline-block;\n",
       "  padding-left: 0.5em;\n",
       "}\n",
       "\n",
       ".xr-section-summary-in:disabled + label {\n",
       "  color: var(--xr-font-color2);\n",
       "}\n",
       "\n",
       ".xr-section-summary-in + label:before {\n",
       "  display: inline-block;\n",
       "  content: \"►\";\n",
       "  font-size: 11px;\n",
       "  width: 15px;\n",
       "  text-align: center;\n",
       "}\n",
       "\n",
       ".xr-section-summary-in:disabled + label:before {\n",
       "  color: var(--xr-disabled-color);\n",
       "}\n",
       "\n",
       ".xr-section-summary-in:checked + label:before {\n",
       "  content: \"▼\";\n",
       "}\n",
       "\n",
       ".xr-section-summary-in:checked + label > span {\n",
       "  display: none;\n",
       "}\n",
       "\n",
       ".xr-section-summary,\n",
       ".xr-section-inline-details {\n",
       "  padding-top: 4px;\n",
       "  padding-bottom: 4px;\n",
       "}\n",
       "\n",
       ".xr-section-inline-details {\n",
       "  grid-column: 2 / -1;\n",
       "}\n",
       "\n",
       ".xr-section-details {\n",
       "  display: none;\n",
       "  grid-column: 1 / -1;\n",
       "  margin-bottom: 5px;\n",
       "}\n",
       "\n",
       ".xr-section-summary-in:checked ~ .xr-section-details {\n",
       "  display: contents;\n",
       "}\n",
       "\n",
       ".xr-array-wrap {\n",
       "  grid-column: 1 / -1;\n",
       "  display: grid;\n",
       "  grid-template-columns: 20px auto;\n",
       "}\n",
       "\n",
       ".xr-array-wrap > label {\n",
       "  grid-column: 1;\n",
       "  vertical-align: top;\n",
       "}\n",
       "\n",
       ".xr-preview {\n",
       "  color: var(--xr-font-color3);\n",
       "}\n",
       "\n",
       ".xr-array-preview,\n",
       ".xr-array-data {\n",
       "  padding: 0 5px !important;\n",
       "  grid-column: 2;\n",
       "}\n",
       "\n",
       ".xr-array-data,\n",
       ".xr-array-in:checked ~ .xr-array-preview {\n",
       "  display: none;\n",
       "}\n",
       "\n",
       ".xr-array-in:checked ~ .xr-array-data,\n",
       ".xr-array-preview {\n",
       "  display: inline-block;\n",
       "}\n",
       "\n",
       ".xr-dim-list {\n",
       "  display: inline-block !important;\n",
       "  list-style: none;\n",
       "  padding: 0 !important;\n",
       "  margin: 0;\n",
       "}\n",
       "\n",
       ".xr-dim-list li {\n",
       "  display: inline-block;\n",
       "  padding: 0;\n",
       "  margin: 0;\n",
       "}\n",
       "\n",
       ".xr-dim-list:before {\n",
       "  content: \"(\";\n",
       "}\n",
       "\n",
       ".xr-dim-list:after {\n",
       "  content: \")\";\n",
       "}\n",
       "\n",
       ".xr-dim-list li:not(:last-child):after {\n",
       "  content: \",\";\n",
       "  padding-right: 5px;\n",
       "}\n",
       "\n",
       ".xr-has-index {\n",
       "  font-weight: bold;\n",
       "}\n",
       "\n",
       ".xr-var-list,\n",
       ".xr-var-item {\n",
       "  display: contents;\n",
       "}\n",
       "\n",
       ".xr-var-item > div,\n",
       ".xr-var-item label,\n",
       ".xr-var-item > .xr-var-name span {\n",
       "  background-color: var(--xr-background-color-row-even);\n",
       "  margin-bottom: 0;\n",
       "}\n",
       "\n",
       ".xr-var-item > .xr-var-name:hover span {\n",
       "  padding-right: 5px;\n",
       "}\n",
       "\n",
       ".xr-var-list > li:nth-child(odd) > div,\n",
       ".xr-var-list > li:nth-child(odd) > label,\n",
       ".xr-var-list > li:nth-child(odd) > .xr-var-name span {\n",
       "  background-color: var(--xr-background-color-row-odd);\n",
       "}\n",
       "\n",
       ".xr-var-name {\n",
       "  grid-column: 1;\n",
       "}\n",
       "\n",
       ".xr-var-dims {\n",
       "  grid-column: 2;\n",
       "}\n",
       "\n",
       ".xr-var-dtype {\n",
       "  grid-column: 3;\n",
       "  text-align: right;\n",
       "  color: var(--xr-font-color2);\n",
       "}\n",
       "\n",
       ".xr-var-preview {\n",
       "  grid-column: 4;\n",
       "}\n",
       "\n",
       ".xr-index-preview {\n",
       "  grid-column: 2 / 5;\n",
       "  color: var(--xr-font-color2);\n",
       "}\n",
       "\n",
       ".xr-var-name,\n",
       ".xr-var-dims,\n",
       ".xr-var-dtype,\n",
       ".xr-preview,\n",
       ".xr-attrs dt {\n",
       "  white-space: nowrap;\n",
       "  overflow: hidden;\n",
       "  text-overflow: ellipsis;\n",
       "  padding-right: 10px;\n",
       "}\n",
       "\n",
       ".xr-var-name:hover,\n",
       ".xr-var-dims:hover,\n",
       ".xr-var-dtype:hover,\n",
       ".xr-attrs dt:hover {\n",
       "  overflow: visible;\n",
       "  width: auto;\n",
       "  z-index: 1;\n",
       "}\n",
       "\n",
       ".xr-var-attrs,\n",
       ".xr-var-data,\n",
       ".xr-index-data {\n",
       "  display: none;\n",
       "  background-color: var(--xr-background-color) !important;\n",
       "  padding-bottom: 5px !important;\n",
       "}\n",
       "\n",
       ".xr-var-attrs-in:checked ~ .xr-var-attrs,\n",
       ".xr-var-data-in:checked ~ .xr-var-data,\n",
       ".xr-index-data-in:checked ~ .xr-index-data {\n",
       "  display: block;\n",
       "}\n",
       "\n",
       ".xr-var-data > table {\n",
       "  float: right;\n",
       "}\n",
       "\n",
       ".xr-var-name span,\n",
       ".xr-var-data,\n",
       ".xr-index-name div,\n",
       ".xr-index-data,\n",
       ".xr-attrs {\n",
       "  padding-left: 25px !important;\n",
       "}\n",
       "\n",
       ".xr-attrs,\n",
       ".xr-var-attrs,\n",
       ".xr-var-data,\n",
       ".xr-index-data {\n",
       "  grid-column: 1 / -1;\n",
       "}\n",
       "\n",
       "dl.xr-attrs {\n",
       "  padding: 0;\n",
       "  margin: 0;\n",
       "  display: grid;\n",
       "  grid-template-columns: 125px auto;\n",
       "}\n",
       "\n",
       ".xr-attrs dt,\n",
       ".xr-attrs dd {\n",
       "  padding: 0;\n",
       "  margin: 0;\n",
       "  float: left;\n",
       "  padding-right: 10px;\n",
       "  width: auto;\n",
       "}\n",
       "\n",
       ".xr-attrs dt {\n",
       "  font-weight: normal;\n",
       "  grid-column: 1;\n",
       "}\n",
       "\n",
       ".xr-attrs dt:hover span {\n",
       "  display: inline-block;\n",
       "  background: var(--xr-background-color);\n",
       "  padding-right: 10px;\n",
       "}\n",
       "\n",
       ".xr-attrs dd {\n",
       "  grid-column: 2;\n",
       "  white-space: pre-wrap;\n",
       "  word-break: break-all;\n",
       "}\n",
       "\n",
       ".xr-icon-database,\n",
       ".xr-icon-file-text2,\n",
       ".xr-no-icon {\n",
       "  display: inline-block;\n",
       "  vertical-align: middle;\n",
       "  width: 1em;\n",
       "  height: 1.5em !important;\n",
       "  stroke-width: 0;\n",
       "  stroke: currentColor;\n",
       "  fill: currentColor;\n",
       "}\n",
       "</style><pre class='xr-text-repr-fallback'>&lt;xarray.DataArray &#x27;pteropod_biomass_gm2&#x27; (time: 579)&gt; Size: 5kB\n",
       "array([1.95120018e-02, 1.92367574e-02, 6.44603054e-03,            nan,\n",
       "                  nan,            nan,            nan, 9.35621246e-03,\n",
       "       2.29159611e-02, 6.87747920e-02, 1.08462978e-01, 6.62728669e-03,\n",
       "       4.22566492e-02, 8.94405644e-02, 4.13193890e-02, 1.02203044e-01,\n",
       "       9.54744853e-02, 6.83907809e-02,            nan,            nan,\n",
       "                  nan,            nan,            nan,            nan,\n",
       "                  nan, 1.73425968e-01,            nan,            nan,\n",
       "                  nan,            nan,            nan,            nan,\n",
       "                  nan, 2.54291542e-03, 4.04524470e-02,            nan,\n",
       "       6.43330853e-03, 3.24973209e-01, 1.20760262e-02,            nan,\n",
       "                  nan,            nan, 1.20733340e-02, 1.96725293e-02,\n",
       "       1.22860639e-02,            nan,            nan,            nan,\n",
       "                  nan,            nan, 3.97428113e-01, 1.13794181e+00,\n",
       "       5.12506764e-02, 5.72980414e-02, 2.05683308e-01,            nan,\n",
       "                  nan,            nan,            nan,            nan,\n",
       "       1.06515012e-01, 3.28932774e-03, 1.08051620e-02,            nan,\n",
       "                  nan,            nan,            nan,            nan,\n",
       "                  nan, 1.76537336e-03, 0.00000000e+00,            nan,\n",
       "                  nan,            nan,            nan,            nan,\n",
       "                  nan,            nan, 9.77392465e-04,            nan,\n",
       "...\n",
       "                  nan,            nan,            nan, 2.19867728e-01,\n",
       "       3.36729457e-01, 1.56020560e-01, 2.60685778e-01, 6.39882538e-03,\n",
       "                  nan,            nan,            nan, 1.02767548e-02,\n",
       "       1.32009038e-02, 1.06722702e-02,            nan, 2.45109399e-02,\n",
       "       1.29173825e-02,            nan,            nan,            nan,\n",
       "       2.84459805e-03, 0.00000000e+00, 6.14465177e-02,            nan,\n",
       "                  nan,            nan,            nan, 2.90852885e-03,\n",
       "       9.29746177e-03, 3.56990664e-03,            nan,            nan,\n",
       "                  nan,            nan,            nan, 3.59531921e-03,\n",
       "       4.75366751e-02,            nan,            nan, 4.65935933e-02,\n",
       "       3.12414135e-03,            nan,            nan,            nan,\n",
       "       2.10428517e-03, 7.64047912e-03, 5.64295502e-02, 1.07363887e-02,\n",
       "       1.77685532e-02,            nan,            nan, 5.38274130e-03,\n",
       "       9.95563603e-03,            nan, 2.58477768e-03, 1.63564510e-03,\n",
       "                  nan,            nan,            nan, 1.31334105e-02,\n",
       "       0.00000000e+00, 7.22481979e-02, 4.62438553e-03,            nan,\n",
       "                  nan,            nan,            nan, 1.49204718e-02,\n",
       "       2.71966510e-02, 1.43666657e-02,            nan,            nan,\n",
       "       2.00829244e-02, 1.39403764e-04,            nan,            nan,\n",
       "                  nan, 3.58127248e-03, 3.48436244e-03])\n",
       "Coordinates:\n",
       "  * time     (time) datetime64[ns] 5kB 1998-01-19 1998-01-20 ... 2020-08-31</pre><div class='xr-wrap' style='display:none'><div class='xr-header'><div class='xr-obj-type'>xarray.DataArray</div><div class='xr-array-name'>'pteropod_biomass_gm2'</div><ul class='xr-dim-list'><li><span class='xr-has-index'>time</span>: 579</li></ul></div><ul class='xr-sections'><li class='xr-section-item'><div class='xr-array-wrap'><input id='section-112a6f88-b468-43cd-946d-b523685bf1cf' class='xr-array-in' type='checkbox' checked><label for='section-112a6f88-b468-43cd-946d-b523685bf1cf' title='Show/hide data repr'><svg class='icon xr-icon-database'><use xlink:href='#icon-database'></use></svg></label><div class='xr-array-preview xr-preview'><span>0.01951 0.01924 0.006446 nan nan nan ... nan nan nan 0.003581 0.003484</span></div><div class='xr-array-data'><pre>array([1.95120018e-02, 1.92367574e-02, 6.44603054e-03,            nan,\n",
       "                  nan,            nan,            nan, 9.35621246e-03,\n",
       "       2.29159611e-02, 6.87747920e-02, 1.08462978e-01, 6.62728669e-03,\n",
       "       4.22566492e-02, 8.94405644e-02, 4.13193890e-02, 1.02203044e-01,\n",
       "       9.54744853e-02, 6.83907809e-02,            nan,            nan,\n",
       "                  nan,            nan,            nan,            nan,\n",
       "                  nan, 1.73425968e-01,            nan,            nan,\n",
       "                  nan,            nan,            nan,            nan,\n",
       "                  nan, 2.54291542e-03, 4.04524470e-02,            nan,\n",
       "       6.43330853e-03, 3.24973209e-01, 1.20760262e-02,            nan,\n",
       "                  nan,            nan, 1.20733340e-02, 1.96725293e-02,\n",
       "       1.22860639e-02,            nan,            nan,            nan,\n",
       "                  nan,            nan, 3.97428113e-01, 1.13794181e+00,\n",
       "       5.12506764e-02, 5.72980414e-02, 2.05683308e-01,            nan,\n",
       "                  nan,            nan,            nan,            nan,\n",
       "       1.06515012e-01, 3.28932774e-03, 1.08051620e-02,            nan,\n",
       "                  nan,            nan,            nan,            nan,\n",
       "                  nan, 1.76537336e-03, 0.00000000e+00,            nan,\n",
       "                  nan,            nan,            nan,            nan,\n",
       "                  nan,            nan, 9.77392465e-04,            nan,\n",
       "...\n",
       "                  nan,            nan,            nan, 2.19867728e-01,\n",
       "       3.36729457e-01, 1.56020560e-01, 2.60685778e-01, 6.39882538e-03,\n",
       "                  nan,            nan,            nan, 1.02767548e-02,\n",
       "       1.32009038e-02, 1.06722702e-02,            nan, 2.45109399e-02,\n",
       "       1.29173825e-02,            nan,            nan,            nan,\n",
       "       2.84459805e-03, 0.00000000e+00, 6.14465177e-02,            nan,\n",
       "                  nan,            nan,            nan, 2.90852885e-03,\n",
       "       9.29746177e-03, 3.56990664e-03,            nan,            nan,\n",
       "                  nan,            nan,            nan, 3.59531921e-03,\n",
       "       4.75366751e-02,            nan,            nan, 4.65935933e-02,\n",
       "       3.12414135e-03,            nan,            nan,            nan,\n",
       "       2.10428517e-03, 7.64047912e-03, 5.64295502e-02, 1.07363887e-02,\n",
       "       1.77685532e-02,            nan,            nan, 5.38274130e-03,\n",
       "       9.95563603e-03,            nan, 2.58477768e-03, 1.63564510e-03,\n",
       "                  nan,            nan,            nan, 1.31334105e-02,\n",
       "       0.00000000e+00, 7.22481979e-02, 4.62438553e-03,            nan,\n",
       "                  nan,            nan,            nan, 1.49204718e-02,\n",
       "       2.71966510e-02, 1.43666657e-02,            nan,            nan,\n",
       "       2.00829244e-02, 1.39403764e-04,            nan,            nan,\n",
       "                  nan, 3.58127248e-03, 3.48436244e-03])</pre></div></div></li><li class='xr-section-item'><input id='section-329d5c1f-6292-4c47-a122-da741eed3c21' class='xr-section-summary-in' type='checkbox'  checked><label for='section-329d5c1f-6292-4c47-a122-da741eed3c21' class='xr-section-summary' >Coordinates: <span>(1)</span></label><div class='xr-section-inline-details'></div><div class='xr-section-details'><ul class='xr-var-list'><li class='xr-var-item'><div class='xr-var-name'><span class='xr-has-index'>time</span></div><div class='xr-var-dims'>(time)</div><div class='xr-var-dtype'>datetime64[ns]</div><div class='xr-var-preview xr-preview'>1998-01-19 ... 2020-08-31</div><input id='attrs-d959353f-96bf-4803-8565-7fe2c54269ad' class='xr-var-attrs-in' type='checkbox' ><label for='attrs-d959353f-96bf-4803-8565-7fe2c54269ad' title='Show/Hide attributes'><svg class='icon xr-icon-file-text2'><use xlink:href='#icon-file-text2'></use></svg></label><input id='data-8dfae24b-f9ae-4b66-af15-7af7bfc6e3eb' class='xr-var-data-in' type='checkbox'><label for='data-8dfae24b-f9ae-4b66-af15-7af7bfc6e3eb' title='Show/Hide data repr'><svg class='icon xr-icon-database'><use xlink:href='#icon-database'></use></svg></label><div class='xr-var-attrs'><dl class='xr-attrs'><dt><span>standard_name :</span></dt><dd>time</dd><dt><span>long_name :</span></dt><dd>time</dd><dt><span>axis :</span></dt><dd>T</dd></dl></div><div class='xr-var-data'><pre>array([&#x27;1998-01-19T00:00:00.000000000&#x27;, &#x27;1998-01-20T00:00:00.000000000&#x27;,\n",
       "       &#x27;1998-02-21T00:00:00.000000000&#x27;, ..., &#x27;2020-08-20T00:00:00.000000000&#x27;,\n",
       "       &#x27;2020-08-30T00:00:00.000000000&#x27;, &#x27;2020-08-31T00:00:00.000000000&#x27;],\n",
       "      dtype=&#x27;datetime64[ns]&#x27;)</pre></div></li></ul></div></li><li class='xr-section-item'><input id='section-bc212862-7209-416c-b977-636acc347682' class='xr-section-summary-in' type='checkbox'  ><label for='section-bc212862-7209-416c-b977-636acc347682' class='xr-section-summary' >Indexes: <span>(1)</span></label><div class='xr-section-inline-details'></div><div class='xr-section-details'><ul class='xr-var-list'><li class='xr-var-item'><div class='xr-index-name'><div>time</div></div><div class='xr-index-preview'>PandasIndex</div><input type='checkbox' disabled/><label></label><input id='index-53e544c0-ba53-4f13-bb91-785a77d5642f' class='xr-index-data-in' type='checkbox'/><label for='index-53e544c0-ba53-4f13-bb91-785a77d5642f' title='Show/Hide index repr'><svg class='icon xr-icon-database'><use xlink:href='#icon-database'></use></svg></label><div class='xr-index-data'><pre>PandasIndex(DatetimeIndex([&#x27;1998-01-19&#x27;, &#x27;1998-01-20&#x27;, &#x27;1998-02-21&#x27;, &#x27;1998-02-23&#x27;,\n",
       "               &#x27;1998-02-24&#x27;, &#x27;1998-02-27&#x27;, &#x27;1998-02-28&#x27;, &#x27;1998-03-03&#x27;,\n",
       "               &#x27;1998-04-08&#x27;, &#x27;1998-04-09&#x27;,\n",
       "               ...\n",
       "               &#x27;2020-07-05&#x27;, &#x27;2020-07-22&#x27;, &#x27;2020-07-26&#x27;, &#x27;2020-08-14&#x27;,\n",
       "               &#x27;2020-08-15&#x27;, &#x27;2020-08-17&#x27;, &#x27;2020-08-18&#x27;, &#x27;2020-08-20&#x27;,\n",
       "               &#x27;2020-08-30&#x27;, &#x27;2020-08-31&#x27;],\n",
       "              dtype=&#x27;datetime64[ns]&#x27;, name=&#x27;time&#x27;, length=579, freq=None))</pre></div></li></ul></div></li><li class='xr-section-item'><input id='section-078c974a-9731-4821-9948-3e9fc100ced2' class='xr-section-summary-in' type='checkbox' disabled ><label for='section-078c974a-9731-4821-9948-3e9fc100ced2' class='xr-section-summary'  title='Expand/collapse section'>Attributes: <span>(0)</span></label><div class='xr-section-inline-details'></div><div class='xr-section-details'><dl class='xr-attrs'></dl></div></li></ul></div></div>"
      ],
      "text/plain": [
       "<xarray.DataArray 'pteropod_biomass_gm2' (time: 579)> Size: 5kB\n",
       "array([1.95120018e-02, 1.92367574e-02, 6.44603054e-03,            nan,\n",
       "                  nan,            nan,            nan, 9.35621246e-03,\n",
       "       2.29159611e-02, 6.87747920e-02, 1.08462978e-01, 6.62728669e-03,\n",
       "       4.22566492e-02, 8.94405644e-02, 4.13193890e-02, 1.02203044e-01,\n",
       "       9.54744853e-02, 6.83907809e-02,            nan,            nan,\n",
       "                  nan,            nan,            nan,            nan,\n",
       "                  nan, 1.73425968e-01,            nan,            nan,\n",
       "                  nan,            nan,            nan,            nan,\n",
       "                  nan, 2.54291542e-03, 4.04524470e-02,            nan,\n",
       "       6.43330853e-03, 3.24973209e-01, 1.20760262e-02,            nan,\n",
       "                  nan,            nan, 1.20733340e-02, 1.96725293e-02,\n",
       "       1.22860639e-02,            nan,            nan,            nan,\n",
       "                  nan,            nan, 3.97428113e-01, 1.13794181e+00,\n",
       "       5.12506764e-02, 5.72980414e-02, 2.05683308e-01,            nan,\n",
       "                  nan,            nan,            nan,            nan,\n",
       "       1.06515012e-01, 3.28932774e-03, 1.08051620e-02,            nan,\n",
       "                  nan,            nan,            nan,            nan,\n",
       "                  nan, 1.76537336e-03, 0.00000000e+00,            nan,\n",
       "                  nan,            nan,            nan,            nan,\n",
       "                  nan,            nan, 9.77392465e-04,            nan,\n",
       "...\n",
       "                  nan,            nan,            nan, 2.19867728e-01,\n",
       "       3.36729457e-01, 1.56020560e-01, 2.60685778e-01, 6.39882538e-03,\n",
       "                  nan,            nan,            nan, 1.02767548e-02,\n",
       "       1.32009038e-02, 1.06722702e-02,            nan, 2.45109399e-02,\n",
       "       1.29173825e-02,            nan,            nan,            nan,\n",
       "       2.84459805e-03, 0.00000000e+00, 6.14465177e-02,            nan,\n",
       "                  nan,            nan,            nan, 2.90852885e-03,\n",
       "       9.29746177e-03, 3.56990664e-03,            nan,            nan,\n",
       "                  nan,            nan,            nan, 3.59531921e-03,\n",
       "       4.75366751e-02,            nan,            nan, 4.65935933e-02,\n",
       "       3.12414135e-03,            nan,            nan,            nan,\n",
       "       2.10428517e-03, 7.64047912e-03, 5.64295502e-02, 1.07363887e-02,\n",
       "       1.77685532e-02,            nan,            nan, 5.38274130e-03,\n",
       "       9.95563603e-03,            nan, 2.58477768e-03, 1.63564510e-03,\n",
       "                  nan,            nan,            nan, 1.31334105e-02,\n",
       "       0.00000000e+00, 7.22481979e-02, 4.62438553e-03,            nan,\n",
       "                  nan,            nan,            nan, 1.49204718e-02,\n",
       "       2.71966510e-02, 1.43666657e-02,            nan,            nan,\n",
       "       2.00829244e-02, 1.39403764e-04,            nan,            nan,\n",
       "                  nan, 3.58127248e-03, 3.48436244e-03])\n",
       "Coordinates:\n",
       "  * time     (time) datetime64[ns] 5kB 1998-01-19 1998-01-20 ... 2020-08-31"
      ]
     },
     "execution_count": 9,
     "metadata": {},
     "output_type": "execute_result"
    }
   ],
   "source": [
    "ds_time_serie=ds_pter_2deg.mean(dim=[\"is_day\",\"latitude\", \"longitude\", \"depth\"],skipna=True)\n",
    "ds_time_serie"
   ]
  },
  {
   "cell_type": "code",
   "execution_count": 10,
   "id": "85792805",
   "metadata": {},
   "outputs": [
    {
     "data": {
      "text/html": [
       "<div><svg style=\"position: absolute; width: 0; height: 0; overflow: hidden\">\n",
       "<defs>\n",
       "<symbol id=\"icon-database\" viewBox=\"0 0 32 32\">\n",
       "<path d=\"M16 0c-8.837 0-16 2.239-16 5v4c0 2.761 7.163 5 16 5s16-2.239 16-5v-4c0-2.761-7.163-5-16-5z\"></path>\n",
       "<path d=\"M16 17c-8.837 0-16-2.239-16-5v6c0 2.761 7.163 5 16 5s16-2.239 16-5v-6c0 2.761-7.163 5-16 5z\"></path>\n",
       "<path d=\"M16 26c-8.837 0-16-2.239-16-5v6c0 2.761 7.163 5 16 5s16-2.239 16-5v-6c0 2.761-7.163 5-16 5z\"></path>\n",
       "</symbol>\n",
       "<symbol id=\"icon-file-text2\" viewBox=\"0 0 32 32\">\n",
       "<path d=\"M28.681 7.159c-0.694-0.947-1.662-2.053-2.724-3.116s-2.169-2.030-3.116-2.724c-1.612-1.182-2.393-1.319-2.841-1.319h-15.5c-1.378 0-2.5 1.121-2.5 2.5v27c0 1.378 1.122 2.5 2.5 2.5h23c1.378 0 2.5-1.122 2.5-2.5v-19.5c0-0.448-0.137-1.23-1.319-2.841zM24.543 5.457c0.959 0.959 1.712 1.825 2.268 2.543h-4.811v-4.811c0.718 0.556 1.584 1.309 2.543 2.268zM28 29.5c0 0.271-0.229 0.5-0.5 0.5h-23c-0.271 0-0.5-0.229-0.5-0.5v-27c0-0.271 0.229-0.5 0.5-0.5 0 0 15.499-0 15.5 0v7c0 0.552 0.448 1 1 1h7v19.5z\"></path>\n",
       "<path d=\"M23 26h-14c-0.552 0-1-0.448-1-1s0.448-1 1-1h14c0.552 0 1 0.448 1 1s-0.448 1-1 1z\"></path>\n",
       "<path d=\"M23 22h-14c-0.552 0-1-0.448-1-1s0.448-1 1-1h14c0.552 0 1 0.448 1 1s-0.448 1-1 1z\"></path>\n",
       "<path d=\"M23 18h-14c-0.552 0-1-0.448-1-1s0.448-1 1-1h14c0.552 0 1 0.448 1 1s-0.448 1-1 1z\"></path>\n",
       "</symbol>\n",
       "</defs>\n",
       "</svg>\n",
       "<style>/* CSS stylesheet for displaying xarray objects in jupyterlab.\n",
       " *\n",
       " */\n",
       "\n",
       ":root {\n",
       "  --xr-font-color0: var(--jp-content-font-color0, rgba(0, 0, 0, 1));\n",
       "  --xr-font-color2: var(--jp-content-font-color2, rgba(0, 0, 0, 0.54));\n",
       "  --xr-font-color3: var(--jp-content-font-color3, rgba(0, 0, 0, 0.38));\n",
       "  --xr-border-color: var(--jp-border-color2, #e0e0e0);\n",
       "  --xr-disabled-color: var(--jp-layout-color3, #bdbdbd);\n",
       "  --xr-background-color: var(--jp-layout-color0, white);\n",
       "  --xr-background-color-row-even: var(--jp-layout-color1, white);\n",
       "  --xr-background-color-row-odd: var(--jp-layout-color2, #eeeeee);\n",
       "}\n",
       "\n",
       "html[theme=\"dark\"],\n",
       "html[data-theme=\"dark\"],\n",
       "body[data-theme=\"dark\"],\n",
       "body.vscode-dark {\n",
       "  --xr-font-color0: rgba(255, 255, 255, 1);\n",
       "  --xr-font-color2: rgba(255, 255, 255, 0.54);\n",
       "  --xr-font-color3: rgba(255, 255, 255, 0.38);\n",
       "  --xr-border-color: #1f1f1f;\n",
       "  --xr-disabled-color: #515151;\n",
       "  --xr-background-color: #111111;\n",
       "  --xr-background-color-row-even: #111111;\n",
       "  --xr-background-color-row-odd: #313131;\n",
       "}\n",
       "\n",
       ".xr-wrap {\n",
       "  display: block !important;\n",
       "  min-width: 300px;\n",
       "  max-width: 700px;\n",
       "}\n",
       "\n",
       ".xr-text-repr-fallback {\n",
       "  /* fallback to plain text repr when CSS is not injected (untrusted notebook) */\n",
       "  display: none;\n",
       "}\n",
       "\n",
       ".xr-header {\n",
       "  padding-top: 6px;\n",
       "  padding-bottom: 6px;\n",
       "  margin-bottom: 4px;\n",
       "  border-bottom: solid 1px var(--xr-border-color);\n",
       "}\n",
       "\n",
       ".xr-header > div,\n",
       ".xr-header > ul {\n",
       "  display: inline;\n",
       "  margin-top: 0;\n",
       "  margin-bottom: 0;\n",
       "}\n",
       "\n",
       ".xr-obj-type,\n",
       ".xr-array-name {\n",
       "  margin-left: 2px;\n",
       "  margin-right: 10px;\n",
       "}\n",
       "\n",
       ".xr-obj-type {\n",
       "  color: var(--xr-font-color2);\n",
       "}\n",
       "\n",
       ".xr-sections {\n",
       "  padding-left: 0 !important;\n",
       "  display: grid;\n",
       "  grid-template-columns: 150px auto auto 1fr 0 20px 0 20px;\n",
       "}\n",
       "\n",
       ".xr-section-item {\n",
       "  display: contents;\n",
       "}\n",
       "\n",
       ".xr-section-item input {\n",
       "  display: inline-block;\n",
       "  opacity: 0;\n",
       "  height: 0;\n",
       "}\n",
       "\n",
       ".xr-section-item input + label {\n",
       "  color: var(--xr-disabled-color);\n",
       "}\n",
       "\n",
       ".xr-section-item input:enabled + label {\n",
       "  cursor: pointer;\n",
       "  color: var(--xr-font-color2);\n",
       "}\n",
       "\n",
       ".xr-section-item input:focus + label {\n",
       "  border: 2px solid var(--xr-font-color0);\n",
       "}\n",
       "\n",
       ".xr-section-item input:enabled + label:hover {\n",
       "  color: var(--xr-font-color0);\n",
       "}\n",
       "\n",
       ".xr-section-summary {\n",
       "  grid-column: 1;\n",
       "  color: var(--xr-font-color2);\n",
       "  font-weight: 500;\n",
       "}\n",
       "\n",
       ".xr-section-summary > span {\n",
       "  display: inline-block;\n",
       "  padding-left: 0.5em;\n",
       "}\n",
       "\n",
       ".xr-section-summary-in:disabled + label {\n",
       "  color: var(--xr-font-color2);\n",
       "}\n",
       "\n",
       ".xr-section-summary-in + label:before {\n",
       "  display: inline-block;\n",
       "  content: \"►\";\n",
       "  font-size: 11px;\n",
       "  width: 15px;\n",
       "  text-align: center;\n",
       "}\n",
       "\n",
       ".xr-section-summary-in:disabled + label:before {\n",
       "  color: var(--xr-disabled-color);\n",
       "}\n",
       "\n",
       ".xr-section-summary-in:checked + label:before {\n",
       "  content: \"▼\";\n",
       "}\n",
       "\n",
       ".xr-section-summary-in:checked + label > span {\n",
       "  display: none;\n",
       "}\n",
       "\n",
       ".xr-section-summary,\n",
       ".xr-section-inline-details {\n",
       "  padding-top: 4px;\n",
       "  padding-bottom: 4px;\n",
       "}\n",
       "\n",
       ".xr-section-inline-details {\n",
       "  grid-column: 2 / -1;\n",
       "}\n",
       "\n",
       ".xr-section-details {\n",
       "  display: none;\n",
       "  grid-column: 1 / -1;\n",
       "  margin-bottom: 5px;\n",
       "}\n",
       "\n",
       ".xr-section-summary-in:checked ~ .xr-section-details {\n",
       "  display: contents;\n",
       "}\n",
       "\n",
       ".xr-array-wrap {\n",
       "  grid-column: 1 / -1;\n",
       "  display: grid;\n",
       "  grid-template-columns: 20px auto;\n",
       "}\n",
       "\n",
       ".xr-array-wrap > label {\n",
       "  grid-column: 1;\n",
       "  vertical-align: top;\n",
       "}\n",
       "\n",
       ".xr-preview {\n",
       "  color: var(--xr-font-color3);\n",
       "}\n",
       "\n",
       ".xr-array-preview,\n",
       ".xr-array-data {\n",
       "  padding: 0 5px !important;\n",
       "  grid-column: 2;\n",
       "}\n",
       "\n",
       ".xr-array-data,\n",
       ".xr-array-in:checked ~ .xr-array-preview {\n",
       "  display: none;\n",
       "}\n",
       "\n",
       ".xr-array-in:checked ~ .xr-array-data,\n",
       ".xr-array-preview {\n",
       "  display: inline-block;\n",
       "}\n",
       "\n",
       ".xr-dim-list {\n",
       "  display: inline-block !important;\n",
       "  list-style: none;\n",
       "  padding: 0 !important;\n",
       "  margin: 0;\n",
       "}\n",
       "\n",
       ".xr-dim-list li {\n",
       "  display: inline-block;\n",
       "  padding: 0;\n",
       "  margin: 0;\n",
       "}\n",
       "\n",
       ".xr-dim-list:before {\n",
       "  content: \"(\";\n",
       "}\n",
       "\n",
       ".xr-dim-list:after {\n",
       "  content: \")\";\n",
       "}\n",
       "\n",
       ".xr-dim-list li:not(:last-child):after {\n",
       "  content: \",\";\n",
       "  padding-right: 5px;\n",
       "}\n",
       "\n",
       ".xr-has-index {\n",
       "  font-weight: bold;\n",
       "}\n",
       "\n",
       ".xr-var-list,\n",
       ".xr-var-item {\n",
       "  display: contents;\n",
       "}\n",
       "\n",
       ".xr-var-item > div,\n",
       ".xr-var-item label,\n",
       ".xr-var-item > .xr-var-name span {\n",
       "  background-color: var(--xr-background-color-row-even);\n",
       "  margin-bottom: 0;\n",
       "}\n",
       "\n",
       ".xr-var-item > .xr-var-name:hover span {\n",
       "  padding-right: 5px;\n",
       "}\n",
       "\n",
       ".xr-var-list > li:nth-child(odd) > div,\n",
       ".xr-var-list > li:nth-child(odd) > label,\n",
       ".xr-var-list > li:nth-child(odd) > .xr-var-name span {\n",
       "  background-color: var(--xr-background-color-row-odd);\n",
       "}\n",
       "\n",
       ".xr-var-name {\n",
       "  grid-column: 1;\n",
       "}\n",
       "\n",
       ".xr-var-dims {\n",
       "  grid-column: 2;\n",
       "}\n",
       "\n",
       ".xr-var-dtype {\n",
       "  grid-column: 3;\n",
       "  text-align: right;\n",
       "  color: var(--xr-font-color2);\n",
       "}\n",
       "\n",
       ".xr-var-preview {\n",
       "  grid-column: 4;\n",
       "}\n",
       "\n",
       ".xr-index-preview {\n",
       "  grid-column: 2 / 5;\n",
       "  color: var(--xr-font-color2);\n",
       "}\n",
       "\n",
       ".xr-var-name,\n",
       ".xr-var-dims,\n",
       ".xr-var-dtype,\n",
       ".xr-preview,\n",
       ".xr-attrs dt {\n",
       "  white-space: nowrap;\n",
       "  overflow: hidden;\n",
       "  text-overflow: ellipsis;\n",
       "  padding-right: 10px;\n",
       "}\n",
       "\n",
       ".xr-var-name:hover,\n",
       ".xr-var-dims:hover,\n",
       ".xr-var-dtype:hover,\n",
       ".xr-attrs dt:hover {\n",
       "  overflow: visible;\n",
       "  width: auto;\n",
       "  z-index: 1;\n",
       "}\n",
       "\n",
       ".xr-var-attrs,\n",
       ".xr-var-data,\n",
       ".xr-index-data {\n",
       "  display: none;\n",
       "  background-color: var(--xr-background-color) !important;\n",
       "  padding-bottom: 5px !important;\n",
       "}\n",
       "\n",
       ".xr-var-attrs-in:checked ~ .xr-var-attrs,\n",
       ".xr-var-data-in:checked ~ .xr-var-data,\n",
       ".xr-index-data-in:checked ~ .xr-index-data {\n",
       "  display: block;\n",
       "}\n",
       "\n",
       ".xr-var-data > table {\n",
       "  float: right;\n",
       "}\n",
       "\n",
       ".xr-var-name span,\n",
       ".xr-var-data,\n",
       ".xr-index-name div,\n",
       ".xr-index-data,\n",
       ".xr-attrs {\n",
       "  padding-left: 25px !important;\n",
       "}\n",
       "\n",
       ".xr-attrs,\n",
       ".xr-var-attrs,\n",
       ".xr-var-data,\n",
       ".xr-index-data {\n",
       "  grid-column: 1 / -1;\n",
       "}\n",
       "\n",
       "dl.xr-attrs {\n",
       "  padding: 0;\n",
       "  margin: 0;\n",
       "  display: grid;\n",
       "  grid-template-columns: 125px auto;\n",
       "}\n",
       "\n",
       ".xr-attrs dt,\n",
       ".xr-attrs dd {\n",
       "  padding: 0;\n",
       "  margin: 0;\n",
       "  float: left;\n",
       "  padding-right: 10px;\n",
       "  width: auto;\n",
       "}\n",
       "\n",
       ".xr-attrs dt {\n",
       "  font-weight: normal;\n",
       "  grid-column: 1;\n",
       "}\n",
       "\n",
       ".xr-attrs dt:hover span {\n",
       "  display: inline-block;\n",
       "  background: var(--xr-background-color);\n",
       "  padding-right: 10px;\n",
       "}\n",
       "\n",
       ".xr-attrs dd {\n",
       "  grid-column: 2;\n",
       "  white-space: pre-wrap;\n",
       "  word-break: break-all;\n",
       "}\n",
       "\n",
       ".xr-icon-database,\n",
       ".xr-icon-file-text2,\n",
       ".xr-no-icon {\n",
       "  display: inline-block;\n",
       "  vertical-align: middle;\n",
       "  width: 1em;\n",
       "  height: 1.5em !important;\n",
       "  stroke-width: 0;\n",
       "  stroke: currentColor;\n",
       "  fill: currentColor;\n",
       "}\n",
       "</style><pre class='xr-text-repr-fallback'>&lt;xarray.DataArray &#x27;pteropod_biomass_gm2&#x27; (time: 228)&gt; Size: 2kB\n",
       "array([1.95120018e-02, 1.92367574e-02, 6.44603054e-03, 9.35621246e-03,\n",
       "       2.29159611e-02, 6.87747920e-02, 1.08462978e-01, 6.62728669e-03,\n",
       "       4.22566492e-02, 8.94405644e-02, 4.13193890e-02, 1.02203044e-01,\n",
       "       9.54744853e-02, 6.83907809e-02, 1.73425968e-01, 2.54291542e-03,\n",
       "       4.04524470e-02, 6.43330853e-03, 3.24973209e-01, 1.20760262e-02,\n",
       "       1.20733340e-02, 1.96725293e-02, 1.22860639e-02, 3.97428113e-01,\n",
       "       1.13794181e+00, 5.12506764e-02, 5.72980414e-02, 2.05683308e-01,\n",
       "       1.06515012e-01, 3.28932774e-03, 1.08051620e-02, 1.76537336e-03,\n",
       "       9.77392465e-04, 1.40070457e-01, 2.37003406e-01, 4.69451943e-02,\n",
       "       2.20869965e-01, 1.04966780e-01, 2.10452482e-02, 9.73103524e-03,\n",
       "       2.90684825e-03, 1.58673576e-03, 2.88825787e-03, 1.07631174e-01,\n",
       "       2.29338863e-01, 1.36516992e+00, 2.60316505e-03, 2.71113092e-03,\n",
       "       1.10888319e-01, 1.76023651e-01, 3.62223443e-02, 1.11714461e-01,\n",
       "       1.81728374e-02, 2.28521981e-02, 4.40673441e-03, 1.92088958e-02,\n",
       "       7.35316716e-03, 9.70605907e-03, 9.00269404e-03, 1.68024928e-02,\n",
       "       1.36086926e-02, 1.06313638e-02, 1.03157640e+00, 1.16387719e+00,\n",
       "       2.31013301e-01, 1.87849613e-01, 3.49797185e-02, 3.41144904e-03,\n",
       "       3.53312514e-02, 7.34544988e-03, 1.17833880e-02, 3.43755010e-03,\n",
       "       1.16429297e-03, 1.27185111e-02, 4.07813823e-03, 5.31153240e-03,\n",
       "       5.06161813e-02, 3.79789781e-02, 2.37380715e-02, 7.37277925e-02,\n",
       "...\n",
       "       2.74454360e-02, 9.79719712e-02, 6.41020829e-03, 8.40042586e-03,\n",
       "       3.05994859e-03, 3.10268820e-03, 1.50242923e-02, 1.48974389e+00,\n",
       "       6.69206054e-01, 1.01387146e-01, 3.61795712e+00, 9.00214771e-02,\n",
       "       2.40029326e-02, 4.53847307e-02, 1.52942472e-02, 5.75086452e-03,\n",
       "       5.95939691e-03, 4.62030342e-03, 8.79918065e-03, 7.01364098e-03,\n",
       "       2.01598229e-03, 1.74202261e-03, 7.86835383e-03, 1.07436987e-01,\n",
       "       2.68186429e-02, 1.12039451e-02, 7.63010898e-03, 1.16407553e-01,\n",
       "       1.67473485e-01, 1.68899907e-02, 1.76424812e-01, 3.59726127e-01,\n",
       "       1.55669503e-01, 8.21186285e-03, 2.33462389e-03, 5.46858214e-02,\n",
       "       5.90875265e-03, 2.44854969e-02, 8.41251132e-03, 3.22813399e-02,\n",
       "       1.22838291e-02, 4.31243008e-02, 2.19867728e-01, 3.36729457e-01,\n",
       "       1.56020560e-01, 2.60685778e-01, 6.39882538e-03, 1.02767548e-02,\n",
       "       1.32009038e-02, 1.06722702e-02, 2.45109399e-02, 1.29173825e-02,\n",
       "       2.84459805e-03, 6.14465177e-02, 2.90852885e-03, 9.29746177e-03,\n",
       "       3.56990664e-03, 3.59531921e-03, 4.75366751e-02, 4.65935933e-02,\n",
       "       3.12414135e-03, 2.10428517e-03, 7.64047912e-03, 5.64295502e-02,\n",
       "       1.07363887e-02, 1.77685532e-02, 5.38274130e-03, 9.95563603e-03,\n",
       "       2.58477768e-03, 1.63564510e-03, 1.31334105e-02, 7.22481979e-02,\n",
       "       4.62438553e-03, 1.49204718e-02, 2.71966510e-02, 1.43666657e-02,\n",
       "       2.00829244e-02, 1.39403764e-04, 3.58127248e-03, 3.48436244e-03])\n",
       "Coordinates:\n",
       "  * time     (time) datetime64[ns] 2kB 1998-01-19 1998-01-20 ... 2020-08-31</pre><div class='xr-wrap' style='display:none'><div class='xr-header'><div class='xr-obj-type'>xarray.DataArray</div><div class='xr-array-name'>'pteropod_biomass_gm2'</div><ul class='xr-dim-list'><li><span class='xr-has-index'>time</span>: 228</li></ul></div><ul class='xr-sections'><li class='xr-section-item'><div class='xr-array-wrap'><input id='section-03d3ea0f-2965-47c9-850a-cea5d8e51d03' class='xr-array-in' type='checkbox' checked><label for='section-03d3ea0f-2965-47c9-850a-cea5d8e51d03' title='Show/hide data repr'><svg class='icon xr-icon-database'><use xlink:href='#icon-database'></use></svg></label><div class='xr-array-preview xr-preview'><span>0.01951 0.01924 0.006446 0.009356 ... 0.0001394 0.003581 0.003484</span></div><div class='xr-array-data'><pre>array([1.95120018e-02, 1.92367574e-02, 6.44603054e-03, 9.35621246e-03,\n",
       "       2.29159611e-02, 6.87747920e-02, 1.08462978e-01, 6.62728669e-03,\n",
       "       4.22566492e-02, 8.94405644e-02, 4.13193890e-02, 1.02203044e-01,\n",
       "       9.54744853e-02, 6.83907809e-02, 1.73425968e-01, 2.54291542e-03,\n",
       "       4.04524470e-02, 6.43330853e-03, 3.24973209e-01, 1.20760262e-02,\n",
       "       1.20733340e-02, 1.96725293e-02, 1.22860639e-02, 3.97428113e-01,\n",
       "       1.13794181e+00, 5.12506764e-02, 5.72980414e-02, 2.05683308e-01,\n",
       "       1.06515012e-01, 3.28932774e-03, 1.08051620e-02, 1.76537336e-03,\n",
       "       9.77392465e-04, 1.40070457e-01, 2.37003406e-01, 4.69451943e-02,\n",
       "       2.20869965e-01, 1.04966780e-01, 2.10452482e-02, 9.73103524e-03,\n",
       "       2.90684825e-03, 1.58673576e-03, 2.88825787e-03, 1.07631174e-01,\n",
       "       2.29338863e-01, 1.36516992e+00, 2.60316505e-03, 2.71113092e-03,\n",
       "       1.10888319e-01, 1.76023651e-01, 3.62223443e-02, 1.11714461e-01,\n",
       "       1.81728374e-02, 2.28521981e-02, 4.40673441e-03, 1.92088958e-02,\n",
       "       7.35316716e-03, 9.70605907e-03, 9.00269404e-03, 1.68024928e-02,\n",
       "       1.36086926e-02, 1.06313638e-02, 1.03157640e+00, 1.16387719e+00,\n",
       "       2.31013301e-01, 1.87849613e-01, 3.49797185e-02, 3.41144904e-03,\n",
       "       3.53312514e-02, 7.34544988e-03, 1.17833880e-02, 3.43755010e-03,\n",
       "       1.16429297e-03, 1.27185111e-02, 4.07813823e-03, 5.31153240e-03,\n",
       "       5.06161813e-02, 3.79789781e-02, 2.37380715e-02, 7.37277925e-02,\n",
       "...\n",
       "       2.74454360e-02, 9.79719712e-02, 6.41020829e-03, 8.40042586e-03,\n",
       "       3.05994859e-03, 3.10268820e-03, 1.50242923e-02, 1.48974389e+00,\n",
       "       6.69206054e-01, 1.01387146e-01, 3.61795712e+00, 9.00214771e-02,\n",
       "       2.40029326e-02, 4.53847307e-02, 1.52942472e-02, 5.75086452e-03,\n",
       "       5.95939691e-03, 4.62030342e-03, 8.79918065e-03, 7.01364098e-03,\n",
       "       2.01598229e-03, 1.74202261e-03, 7.86835383e-03, 1.07436987e-01,\n",
       "       2.68186429e-02, 1.12039451e-02, 7.63010898e-03, 1.16407553e-01,\n",
       "       1.67473485e-01, 1.68899907e-02, 1.76424812e-01, 3.59726127e-01,\n",
       "       1.55669503e-01, 8.21186285e-03, 2.33462389e-03, 5.46858214e-02,\n",
       "       5.90875265e-03, 2.44854969e-02, 8.41251132e-03, 3.22813399e-02,\n",
       "       1.22838291e-02, 4.31243008e-02, 2.19867728e-01, 3.36729457e-01,\n",
       "       1.56020560e-01, 2.60685778e-01, 6.39882538e-03, 1.02767548e-02,\n",
       "       1.32009038e-02, 1.06722702e-02, 2.45109399e-02, 1.29173825e-02,\n",
       "       2.84459805e-03, 6.14465177e-02, 2.90852885e-03, 9.29746177e-03,\n",
       "       3.56990664e-03, 3.59531921e-03, 4.75366751e-02, 4.65935933e-02,\n",
       "       3.12414135e-03, 2.10428517e-03, 7.64047912e-03, 5.64295502e-02,\n",
       "       1.07363887e-02, 1.77685532e-02, 5.38274130e-03, 9.95563603e-03,\n",
       "       2.58477768e-03, 1.63564510e-03, 1.31334105e-02, 7.22481979e-02,\n",
       "       4.62438553e-03, 1.49204718e-02, 2.71966510e-02, 1.43666657e-02,\n",
       "       2.00829244e-02, 1.39403764e-04, 3.58127248e-03, 3.48436244e-03])</pre></div></div></li><li class='xr-section-item'><input id='section-d2c58144-db09-4ae4-9604-83eba29dba38' class='xr-section-summary-in' type='checkbox'  checked><label for='section-d2c58144-db09-4ae4-9604-83eba29dba38' class='xr-section-summary' >Coordinates: <span>(1)</span></label><div class='xr-section-inline-details'></div><div class='xr-section-details'><ul class='xr-var-list'><li class='xr-var-item'><div class='xr-var-name'><span class='xr-has-index'>time</span></div><div class='xr-var-dims'>(time)</div><div class='xr-var-dtype'>datetime64[ns]</div><div class='xr-var-preview xr-preview'>1998-01-19 ... 2020-08-31</div><input id='attrs-1e91ec6e-2bd2-4f31-a007-f6839c335a83' class='xr-var-attrs-in' type='checkbox' ><label for='attrs-1e91ec6e-2bd2-4f31-a007-f6839c335a83' title='Show/Hide attributes'><svg class='icon xr-icon-file-text2'><use xlink:href='#icon-file-text2'></use></svg></label><input id='data-e69a9e8e-07f4-49c5-b3a9-1fa8be746de4' class='xr-var-data-in' type='checkbox'><label for='data-e69a9e8e-07f4-49c5-b3a9-1fa8be746de4' title='Show/Hide data repr'><svg class='icon xr-icon-database'><use xlink:href='#icon-database'></use></svg></label><div class='xr-var-attrs'><dl class='xr-attrs'><dt><span>standard_name :</span></dt><dd>time</dd><dt><span>long_name :</span></dt><dd>time</dd><dt><span>axis :</span></dt><dd>T</dd></dl></div><div class='xr-var-data'><pre>array([&#x27;1998-01-19T00:00:00.000000000&#x27;, &#x27;1998-01-20T00:00:00.000000000&#x27;,\n",
       "       &#x27;1998-02-21T00:00:00.000000000&#x27;, ..., &#x27;2020-08-15T00:00:00.000000000&#x27;,\n",
       "       &#x27;2020-08-30T00:00:00.000000000&#x27;, &#x27;2020-08-31T00:00:00.000000000&#x27;],\n",
       "      dtype=&#x27;datetime64[ns]&#x27;)</pre></div></li></ul></div></li><li class='xr-section-item'><input id='section-7343651e-8307-4973-9d69-ca5ba974b442' class='xr-section-summary-in' type='checkbox'  ><label for='section-7343651e-8307-4973-9d69-ca5ba974b442' class='xr-section-summary' >Indexes: <span>(1)</span></label><div class='xr-section-inline-details'></div><div class='xr-section-details'><ul class='xr-var-list'><li class='xr-var-item'><div class='xr-index-name'><div>time</div></div><div class='xr-index-preview'>PandasIndex</div><input type='checkbox' disabled/><label></label><input id='index-e9a80f24-fbac-4830-9c34-6598f004a3bc' class='xr-index-data-in' type='checkbox'/><label for='index-e9a80f24-fbac-4830-9c34-6598f004a3bc' title='Show/Hide index repr'><svg class='icon xr-icon-database'><use xlink:href='#icon-database'></use></svg></label><div class='xr-index-data'><pre>PandasIndex(DatetimeIndex([&#x27;1998-01-19&#x27;, &#x27;1998-01-20&#x27;, &#x27;1998-02-21&#x27;, &#x27;1998-03-03&#x27;,\n",
       "               &#x27;1998-04-08&#x27;, &#x27;1998-04-09&#x27;, &#x27;1998-05-13&#x27;, &#x27;1998-05-17&#x27;,\n",
       "               &#x27;1998-05-18&#x27;, &#x27;1998-05-19&#x27;,\n",
       "               ...\n",
       "               &#x27;2019-09-03&#x27;, &#x27;2020-02-10&#x27;, &#x27;2020-02-11&#x27;, &#x27;2020-06-26&#x27;,\n",
       "               &#x27;2020-06-30&#x27;, &#x27;2020-07-05&#x27;, &#x27;2020-08-14&#x27;, &#x27;2020-08-15&#x27;,\n",
       "               &#x27;2020-08-30&#x27;, &#x27;2020-08-31&#x27;],\n",
       "              dtype=&#x27;datetime64[ns]&#x27;, name=&#x27;time&#x27;, length=228, freq=None))</pre></div></li></ul></div></li><li class='xr-section-item'><input id='section-eeb0c3c9-5de3-44f2-bcad-0a0484ffef40' class='xr-section-summary-in' type='checkbox' disabled ><label for='section-eeb0c3c9-5de3-44f2-bcad-0a0484ffef40' class='xr-section-summary'  title='Expand/collapse section'>Attributes: <span>(0)</span></label><div class='xr-section-inline-details'></div><div class='xr-section-details'><dl class='xr-attrs'></dl></div></li></ul></div></div>"
      ],
      "text/plain": [
       "<xarray.DataArray 'pteropod_biomass_gm2' (time: 228)> Size: 2kB\n",
       "array([1.95120018e-02, 1.92367574e-02, 6.44603054e-03, 9.35621246e-03,\n",
       "       2.29159611e-02, 6.87747920e-02, 1.08462978e-01, 6.62728669e-03,\n",
       "       4.22566492e-02, 8.94405644e-02, 4.13193890e-02, 1.02203044e-01,\n",
       "       9.54744853e-02, 6.83907809e-02, 1.73425968e-01, 2.54291542e-03,\n",
       "       4.04524470e-02, 6.43330853e-03, 3.24973209e-01, 1.20760262e-02,\n",
       "       1.20733340e-02, 1.96725293e-02, 1.22860639e-02, 3.97428113e-01,\n",
       "       1.13794181e+00, 5.12506764e-02, 5.72980414e-02, 2.05683308e-01,\n",
       "       1.06515012e-01, 3.28932774e-03, 1.08051620e-02, 1.76537336e-03,\n",
       "       9.77392465e-04, 1.40070457e-01, 2.37003406e-01, 4.69451943e-02,\n",
       "       2.20869965e-01, 1.04966780e-01, 2.10452482e-02, 9.73103524e-03,\n",
       "       2.90684825e-03, 1.58673576e-03, 2.88825787e-03, 1.07631174e-01,\n",
       "       2.29338863e-01, 1.36516992e+00, 2.60316505e-03, 2.71113092e-03,\n",
       "       1.10888319e-01, 1.76023651e-01, 3.62223443e-02, 1.11714461e-01,\n",
       "       1.81728374e-02, 2.28521981e-02, 4.40673441e-03, 1.92088958e-02,\n",
       "       7.35316716e-03, 9.70605907e-03, 9.00269404e-03, 1.68024928e-02,\n",
       "       1.36086926e-02, 1.06313638e-02, 1.03157640e+00, 1.16387719e+00,\n",
       "       2.31013301e-01, 1.87849613e-01, 3.49797185e-02, 3.41144904e-03,\n",
       "       3.53312514e-02, 7.34544988e-03, 1.17833880e-02, 3.43755010e-03,\n",
       "       1.16429297e-03, 1.27185111e-02, 4.07813823e-03, 5.31153240e-03,\n",
       "       5.06161813e-02, 3.79789781e-02, 2.37380715e-02, 7.37277925e-02,\n",
       "...\n",
       "       2.74454360e-02, 9.79719712e-02, 6.41020829e-03, 8.40042586e-03,\n",
       "       3.05994859e-03, 3.10268820e-03, 1.50242923e-02, 1.48974389e+00,\n",
       "       6.69206054e-01, 1.01387146e-01, 3.61795712e+00, 9.00214771e-02,\n",
       "       2.40029326e-02, 4.53847307e-02, 1.52942472e-02, 5.75086452e-03,\n",
       "       5.95939691e-03, 4.62030342e-03, 8.79918065e-03, 7.01364098e-03,\n",
       "       2.01598229e-03, 1.74202261e-03, 7.86835383e-03, 1.07436987e-01,\n",
       "       2.68186429e-02, 1.12039451e-02, 7.63010898e-03, 1.16407553e-01,\n",
       "       1.67473485e-01, 1.68899907e-02, 1.76424812e-01, 3.59726127e-01,\n",
       "       1.55669503e-01, 8.21186285e-03, 2.33462389e-03, 5.46858214e-02,\n",
       "       5.90875265e-03, 2.44854969e-02, 8.41251132e-03, 3.22813399e-02,\n",
       "       1.22838291e-02, 4.31243008e-02, 2.19867728e-01, 3.36729457e-01,\n",
       "       1.56020560e-01, 2.60685778e-01, 6.39882538e-03, 1.02767548e-02,\n",
       "       1.32009038e-02, 1.06722702e-02, 2.45109399e-02, 1.29173825e-02,\n",
       "       2.84459805e-03, 6.14465177e-02, 2.90852885e-03, 9.29746177e-03,\n",
       "       3.56990664e-03, 3.59531921e-03, 4.75366751e-02, 4.65935933e-02,\n",
       "       3.12414135e-03, 2.10428517e-03, 7.64047912e-03, 5.64295502e-02,\n",
       "       1.07363887e-02, 1.77685532e-02, 5.38274130e-03, 9.95563603e-03,\n",
       "       2.58477768e-03, 1.63564510e-03, 1.31334105e-02, 7.22481979e-02,\n",
       "       4.62438553e-03, 1.49204718e-02, 2.71966510e-02, 1.43666657e-02,\n",
       "       2.00829244e-02, 1.39403764e-04, 3.58127248e-03, 3.48436244e-03])\n",
       "Coordinates:\n",
       "  * time     (time) datetime64[ns] 2kB 1998-01-19 1998-01-20 ... 2020-08-31"
      ]
     },
     "execution_count": 10,
     "metadata": {},
     "output_type": "execute_result"
    }
   ],
   "source": [
    "#remove 0 (convenient for log transformation)\n",
    "ds_time_serie=ds_time_serie.where(ds_time_serie!=0,np.nan) \n",
    "# remove NaN\n",
    "mask = ~np.isnan(ds_time_serie)\n",
    "ds_clean = ds_time_serie[mask]\n",
    "ds_clean"
   ]
  },
  {
   "cell_type": "code",
   "execution_count": null,
   "id": "ee237d89",
   "metadata": {},
   "outputs": [],
   "source": [
    "#ds_clean.to_netcdf('/data/rd_exchange/sroyer/SEAPOPYM/time_serie_pter_papa_1998_2020.nc')"
   ]
  },
  {
   "cell_type": "markdown",
   "id": "b650727a",
   "metadata": {},
   "source": [
    "## Time Series"
   ]
  },
  {
   "cell_type": "code",
   "execution_count": 198,
   "id": "13378028",
   "metadata": {},
   "outputs": [
    {
     "data": {
      "application/vnd.plotly.v1+json": {
       "config": {
        "plotlyServerURL": "https://plot.ly"
       },
       "data": [
        {
         "mode": "markers",
         "name": "1998",
         "showlegend": true,
         "type": "scatter",
         "x": {
          "bdata": "EwAUADQANgA3ADoAOwA+AGIAYwCFAIkAigCLAIwAkwCaAJwAnwCgAKQApgCoAKkArgCvALgAuQC6ALsAvAC9AL4AxwDKAMwA7wDwAPEA8gD0APgAGAEZARsBHgEfAQ==",
          "dtype": "i2"
         },
         "y": {
          "bdata": "zuB/WLH5qD+JR4YrgJ+oPxWWfHd4gJA/AAAAAAAA+P8AAAAAAAD4/wAAAAAAAPj/AAAAAAAA+P9XQkv5r/OXP5SemSQaVa0/rN757AcCxj+RAkHApFrRP44X1DNC95A/0FWaU1QLuz+LM/2V+J7MP/BqxsjEcbo/cqZpmDxa0D9n9RMURY3OPyTV4qCS4sU/AAAAAAAA+P8AAAAAAAD4/wAAAAAAAPj/AAAAAAAA+P8AAAAAAAD4/wAAAAAAAPj/AAAAAAAA+P9SkwETh7/bPwAAAAAAAPj/AAAAAAAA+P8AAAAAAAD4/wAAAAAAAPj/AAAAAAAA+P8AAAAAAAD4/wAAAAAAAPj/aOxOpxkKej9GNviZuuO5PwAAAAAAAPj/pUhJESJ4kD8SPeyJc//pP+q6ff8k6p4/AAAAAAAA+P8AAAAAAAD4/wAAAAAAAPj/ylL2VGHonj8mCVZeSy6pP8viMnrLc58/AAAAAAAA+P8AAAAAAAD4/w==",
          "dtype": "f8"
         }
        },
        {
         "mode": "markers",
         "name": "1999",
         "showlegend": true,
         "type": "scatter",
         "x": {
          "bdata": "MQAzADQAgACBAIIAgwCMAJAAkQCpAKoAqwCsAK8AugC9AL4AvwDAAMEAwgDuAO8A8QDyAPUA9wD4APkA+gAOAR4B",
          "dtype": "i2"
         },
         "y": {
          "bdata": "AAAAAAAA+P8AAAAAAAD4/wAAAAAAAPj/hfwg51PL7z/8EmgYQ8IGQCgr0JV0ZsA/YjxuBdtVwj8grNTmZHTgPwAAAAAAAPj/AAAAAAAA+P8AAAAAAAD4/wAAAAAAAPj/AAAAAAAA+P/nuHva2grRP2m+vD1j14A/8zZpXUWpmz8AAAAAAAD4/wAAAAAAAPj/AAAAAAAA+P8AAAAAAAD4/wAAAAAAAPj/AAAAAAAA+P87yXQB0hNyPwAAAAAAAAAAAAAAAAAA+P8AAAAAAAD4/wAAAAAAAPj/AAAAAAAA+P8AAAAAAAD4/wAAAAAAAPj/AAAAAAAA+P/tn/L1WQRkPwAAAAAAAPj/",
          "dtype": "f8"
         }
        },
        {
         "mode": "markers",
         "name": "2000",
         "showlegend": true,
         "type": "scatter",
         "x": {
          "bdata": "LgCAAIEAggCEAJoAnACdAKAAqQCqAKsAuQC6ALsAvAC9AMEAwgDXANgA2QDaANsA3gD6APsA/QD+AAEBAgENAQ4BDwEQARIBEwE=",
          "dtype": "i2"
         },
         "y": {
          "bdata": "AAAAAAAA+P9iSAEySWnWPyYNuGrU9eI/+J94KYALvj9n/qO4aqvhP9XHa3dwy9A/AAAAAAAA+P8AAAAAAAD4/wAAAAAAAPj/AAAAAAAA+P8AAAAAAAD4/wAAAAAAAPj/AAAAAAAA+P8AAAAAAAD4/wAAAAAAAPj/AAAAAAAA+P8AAAAAAAD4/wAAAAAAAPj/AAAAAAAA+P8AAAAAAAD4/wAAAAAAAPj/AAAAAAAA+P8AAAAAAAD4/wAAAAAAAPj/AAAAAAAA+P+ghoVgG/CqPwAAAAAAAAAAAAAAAAAA+P8AAAAAAAD4/wAAAAAAAPj/AAAAAAAA+P8AAAAAAAD4/wAAAAAAAPj/AAAAAAAA+P8AAAAAAAD4/68JF81U6Zg/AAAAAAAAAAA=",
          "dtype": "f8"
         }
        },
        {
         "mode": "markers",
         "name": "2001",
         "showlegend": true,
         "type": "scatter",
         "x": {
          "bdata": "KAAqACsALwAwADIAUgCXAJkAmgCbAJwAnQCeAJ8AoAChAKIAowCnAKwArQCuAK8AuQC7AO0A8QAGAQkBCgEMAQ0BDgEPAREBFAE=",
          "dtype": "i2"
         },
         "y": {
          "bdata": "9rmd1iDEfT8AAAAAAAD4/wAAAAAAAPj/AAAAAAAA+P8AAAAAAAD4/wAAAAAAAPj/Oq4oV4g/cD9Vlj8LZZN9PwAAAAAAAPj/AAAAAAAA+P8AAAAAAAD4/wAAAAAAAPj/AAAAAAAA+P8AAAAAAAD4/wAAAAAAAPj/AAAAAAAA+P8AAAAAAAD4/wAAAAAAAPj/AAAAAAAA+P8AAAAAAAD4/wAAAAAAAPj/AAAAAAAAAAAAAAAAAAD4/wlJrqmSONE/AAAAAAAA+P8AAAAAAAD4/+o6xSLcWOI/AAAAAAAA+P9cOLyEq00LQAAAAAAAAPj/AAAAAAAA+P8AAAAAAAD4/wAAAAAAAPj/AAAAAAAA+P8AAAAAAAD4/wAAAAAAAPj/ak2OfQqoej8=",
          "dtype": "f8"
         }
        },
        {
         "mode": "markers",
         "name": "2002",
         "showlegend": true,
         "type": "scatter",
         "x": {
          "bdata": "JgAqACwALQAuAC8AQAB7AH0AfgCqALEAtgC3ALgAuQC6AMgAywDMAM0A5gDvAPAA8QDyAPYA+QD7AAYBCAEkASgB",
          "dtype": "i2"
         },
         "y": {
          "bdata": "AAAAAAAAAAAAAAAAAAD4/wAAAAAAAPj/AAAAAAAA+P8AAAAAAAD4/wAAAAAAAPj/LN8PKRHDez/SY6FN/L3RPw2z6cDtKdw/hy9gPKsutz/TJooG09/RPwAAAAAAAPj/1F3gFuBCpz8AAAAAAAAAAAAAAAAAAPj/AAAAAAAA+P8AAAAAAAD4/wAAAAAAAPj/AAAAAAAA+P8AAAAAAAD4/wAAAAAAAPj/6jjLUDVArT8m4S2z/o+GPzhBO/lelqg/AAAAAAAA+P8AAAAAAAD4/wAAAAAAAPj/AAAAAAAA+P8AAAAAAAD4/xYCq7z40pI/AAAAAAAAAAA8gLp+9tiYP6OPn2wBDJc/",
          "dtype": "f8"
         }
        },
        {
         "mode": "markers",
         "name": "2003",
         "showlegend": true,
         "type": "scatter",
         "x": {
          "bdata": "KwAtAC4ALwAwADQAiwCMAJUAlgCXAJgAmgCfAKAAoQCiAPQA9QD2APcA+QD6AA0BDgEPASsBLAE=",
          "dtype": "i2"
         },
         "y": {
          "bdata": "AAAAAAAA+P8AAAAAAAD4/wAAAAAAAPj/g8QsQdeBpT9yzqngS2uhP9/OttxeN5s/dcBx0KuhBEAzPUMcDUcHQJeStAMne+I/r0Oq9FEO3j8AAAAAAAD4/wAAAAAAAPj/AAAAAAAA+P8AAAAAAAD4/wAAAAAAAPj/rYkxuxNjtj8AAAAAAAD4/z8Ob1l0d4E/6uyBF6yctj8AAAAAAAD4/wAAAAAAAPj/AAAAAAAA+P8AAAAAAAD4/6WX7/3pzZI/KtuTdVwqnj/zuhRpqpmBPwqxm5E/2Gc/1vN7CppHoD8=",
          "dtype": "f8"
         }
        },
        {
         "mode": "markers",
         "name": "2004",
         "showlegend": true,
         "type": "scatter",
         "x": {
          "bdata": "MwA0ADUANwA6AJUAlgCaAJsAnQCeAKUA6QDqAOsA7ADuAPgA+QAsAQ==",
          "dtype": "i2"
         },
         "y": {
          "bdata": "zYG4HkzhhD8AAAAAAAD4/wAAAAAAAPj/AAAAAAAA+P9J2bKG7jGLP89ZDEJ6MsA/RiMzzHlOuD8guybEfWKuPwAAAAAAAPj/AAAAAAAA+P8AAAAAAAD4/wAAAAAAAPj/t7MY4MeXxz/QohmDMyHdPwAAAAAAAPj/AAAAAAAA+P8AAAAAAAD4/6dUTEIWAKE//IRyV2pi2j9YiPQs4JGyPw==",
          "dtype": "f8"
         }
        },
        {
         "mode": "markers",
         "name": "2005",
         "showlegend": true,
         "type": "scatter",
         "x": {
          "bdata": "LAAtAC4ALwAxADIANQA2AEcASACTAJQAmgCdAJ4ApgDSAOEA5gDnAOgA6QDqAOsA7wDwAPsA/AA=",
          "dtype": "i2"
         },
         "y": {
          "bdata": "F3G2Lw4Egz9L23A6HuudPwAAAAAAAPj/AAAAAAAA+P8AAAAAAAD4/wAAAAAAAPj/AAAAAAAA+P8AAAAAAAD4/wAAAAAAAPj/AAAAAAAA+P/XVSfI/aqqP6Ic2pZ8ZpE/sjxY6/oHiT8AAAAAAAD4/wAAAAAAAPj/AAAAAAAA+P+1fUsXp22XPwAAAAAAAAAAxwJtZa1Djz93WpF0poNhPwAAAAAAAPj/AAAAAAAA+P8AAAAAAAD4/wAAAAAAAPj/AAAAAAAA+P8AAAAAAAD4/2pAIjnCtIY/+gE+8W9DgD8=",
          "dtype": "f8"
         }
        },
        {
         "mode": "markers",
         "name": "2006",
         "showlegend": true,
         "type": "scatter",
         "x": {
          "bdata": "JQAoACkALABvAMMAxgDsAO8ACQEKAQsBDQEPARIBEwEVAQ==",
          "dtype": "i2"
         },
         "y": {
          "bdata": "Qa0jm4W7ij8AAAAAAAD4/wAAAAAAAPj/AAAAAAAA+P/6rfLX0GK6PxQwpyIuiGs/AAAAAAAA+P+0OqQZS1BlPwAAAAAAAAAAeNPJBITfsT/RNJnILOqtPwAAAAAAAPj/AAAAAAAA+P8AAAAAAAD4/wAAAAAAAPj/AAAAAAAA+P8AAAAAAAD4/w==",
          "dtype": "f8"
         }
        },
        {
         "mode": "markers",
         "name": "2007",
         "showlegend": true,
         "type": "scatter",
         "x": {
          "bdata": "KQAqACsALgAvADEAkgCZAJoAmwCeAKwAsgCzALkAugC7ALwAvQDlAOYA5wDpAOoA+QD6AA==",
          "dtype": "i2"
         },
         "y": {
          "bdata": "Fg/aG+zPjD8AAAAAAAD4/wAAAAAAAPj/AAAAAAAA+P8AAAAAAAD4/wAAAAAAAPj/WrZZ2eQ6gj9HFQHzgW+zPwAAAAAAAPj/AAAAAAAA+P8AAAAAAAD4/wAAAAAAAPj/AAAAAAAA+P8AAAAAAAD4/wAAAAAAAPj/AAAAAAAA+P8AAAAAAAD4/wAAAAAAAPj/AAAAAAAA+P8DQSOPRiyWP4yLf0NpSrM/AAAAAAAA+P8AAAAAAAD4/wAAAAAAAPj/p2B018Cobz8X+Zd4mFOWPw==",
          "dtype": "f8"
         }
        },
        {
         "mode": "markers",
         "name": "2008",
         "showlegend": true,
         "type": "scatter",
         "x": {
          "bdata": "IQAiACMAJQApAJEAkgCZAJoAmwCdAJ8AuQC6ALwAvgDjAOQA5QDnAOkA9wD4APkAIgE=",
          "dtype": "i2"
         },
         "y": {
          "bdata": "JUiTWig2iD/wtvPVcth5PwAAAAAAAPj/AAAAAAAA+P8AAAAAAAD4/1hB+cSC1oE/yLlk0+Q4sT/DgXbn2CCUPxcy3RCni8Q/AAAAAAAA+P8AAAAAAAD4/wAAAAAAAPj/AAAAAAAA+P8AAAAAAAD4/wAAAAAAAPj/AAAAAAAA+P9yKEsBVee+P/hKjdYyPcA/AAAAAAAA+P8AAAAAAAD4/wAAAAAAAPj/7+M/XOlEvD8bjAIsOwaxP89ekXObX7I/AAAAAAAA+P8=",
          "dtype": "f8"
         }
        },
        {
         "mode": "markers",
         "name": "2009",
         "showlegend": true,
         "type": "scatter",
         "x": {
          "bdata": "HgAfACEAJACXAJgAnwCgAKEAogClAMAAwQDCAMMA6gDrAO4A7wDzAPwA/QA=",
          "dtype": "i2"
         },
         "y": {
          "bdata": "P0xLnFJJoz+CVP26pDOIPwAAAAAAAPj/AAAAAAAA+P/T07M/D0y/P4F3CMNGL+Y/f3rnhdf20T/nwURb2xn7PwAAAAAAAPj/AAAAAAAA+P8AAAAAAAD4/xCQBPtNYsA/AAAAAAAA+P8AAAAAAAD4/wAAAAAAAPj/ahLd06dMxT9tP0nU+kgSQAAAAAAAAPj/AAAAAAAA+P8AAAAAAAD4/9w3wiyZHsY/qpZ2pP0Jhz8=",
          "dtype": "f8"
         }
        },
        {
         "mode": "markers",
         "name": "2010",
         "showlegend": true,
         "type": "scatter",
         "x": {
          "bdata": "JAAlACcAlwCfAKAAoQCiAKUAzADNAM8A0QDpAOoA6wDtAO4A+wD8AP0A",
          "dtype": "i2"
         },
         "y": {
          "bdata": "jovk6ontmD8AAAAAAAD4/wAAAAAAAPj/Xz8m1B+odz/lW4EBYHfAP7rS1sD5tLc/AAAAAAAA+P8AAAAAAAD4/wAAAAAAAPj/AAAAAAAA+P8AAAAAAAD4/wAAAAAAAPj/AAAAAAAA+P+jSVvhyvdwP+d7WiXlpHc/AAAAAAAA+P8AAAAAAAD4/wAAAAAAAPj/AAAAAAAAAADw5SZwvQuIPwAAAAAAAAAA",
          "dtype": "f8"
         }
        },
        {
         "mode": "markers",
         "name": "2011",
         "showlegend": true,
         "type": "scatter",
         "x": {
          "bdata": "KQAqACsALQAvAJUAlgCcAJ0AnwCgAKQA5wDoAOoA6wDuAPkA+gD7AA==",
          "dtype": "i2"
         },
         "y": {
          "bdata": "AAAAAAAAAACF7vF4nUKEPwAAAAAAAPj/AAAAAAAA+P8AAAAAAAD4/1FSsffq7ew/hcfJsYwvuT/RkAsFuEQCQIvrsJ33OGI/AAAAAAAA+P8AAAAAAAD4/wAAAAAAAPj//YUwe0RsqT9/BqnjADeFPwAAAAAAAPj/AAAAAAAA+P8AAAAAAAD4/z/YKUHoCqU/spjqJ49vhz/Tz5JgEgqSPw==",
          "dtype": "f8"
         }
        },
        {
         "mode": "markers",
         "name": "2012",
         "showlegend": true,
         "type": "scatter",
         "x": {
          "bdata": "KQAqACsALgAvAIgAiQCKAJIAlgCaAOYA6ADsAPcA+AD5AA==",
          "dtype": "i2"
         },
         "y": {
          "bdata": "AAAAAAAAAAAAAAAAAAAAAAAAAAAAAPj/AAAAAAAA+P8AAAAAAAD4/xrCL5uOUag/bxDLuAKUpD9S+4UFqZCxP/8lKifdWc8/AAAAAAAA+P8AAAAAAAD4/xdRlH3+aJA/AAAAAAAA+P8AAAAAAAD4/wFQgpdNgZU/AAAAAAAAAAC9rx29eFV/Pw==",
          "dtype": "f8"
         }
        },
        {
         "mode": "markers",
         "name": "2013",
         "showlegend": true,
         "type": "scatter",
         "x": {
          "bdata": "JgAnACgALAAtAJkAmgChAKIAowClAKkA6wDtAO4A8ADyAP4A",
          "dtype": "i2"
         },
         "y": {
          "bdata": "bguHzoLFfz8+jZD7KDujPwAAAAAAAPj/AAAAAAAA+P8AAAAAAAD4/ykB0Rx9yw1AMqNihKvE+j/efdtG0TjQP1HqsDD8FiJAAAAAAAAA+P8AAAAAAAD4/wAAAAAAAPj/Th0MNY/OzD8/P4DtR7muPwAAAAAAAPj/AAAAAAAA+P8AAAAAAAD4/4Z8xJPVC70/",
          "dtype": "f8"
         }
        },
        {
         "mode": "markers",
         "name": "2014",
         "showlegend": true,
         "type": "scatter",
         "x": {
          "bdata": "KwA1AJsApACmAKgA6wDtAO4A/QD+AP8A",
          "dtype": "i2"
         },
         "y": {
          "bdata": "BqtycZ6Toz+uDvfsxXGNP1Tng8gZg44/AAAAAAAA+P8AAAAAAAD4/wAAAAAAAPj/uBiRkeynhz8AAAAAAAD4/wAAAAAAAPj/rUcbi6GGlj9uMVKydfSRPxTcjs/GpHQ/",
          "dtype": "f8"
         }
        },
        {
         "mode": "markers",
         "name": "2015",
         "showlegend": true,
         "type": "scatter",
         "x": {
          "bdata": "KwAsAC4ALwAyAJkAoQCjAKQAqACrAL8AwADBAMIAwwDEAMUAxwDqAOsA7ADuAPAA+gAkAQ==",
          "dtype": "i2"
         },
         "y": {
          "bdata": "sfNDlpvWcT8klsO3miSUPwAAAAAAAPj/AAAAAAAA+P8AAAAAAAD4/6qZn3aeMNE/fWksafcpsT8AAAAAAAD4/wAAAAAAAPj/AAAAAAAA+P8lQA0Snq6cPwAAAAAAAPj/AAAAAAAA+P8AAAAAAAD4/wAAAAAAAPj/AAAAAAAA+P8AAAAAAAD4/wAAAAAAAPj//cGI3XeIkz8XzGSqDaDSP+jZRMS2y9o/AAAAAAAA+P8AAAAAAAD4/wAAAAAAAPj/AAAAAAAA+P8AAAAAAAD4/w==",
          "dtype": "f8"
         }
        },
        {
         "mode": "markers",
         "name": "2016",
         "showlegend": true,
         "type": "scatter",
         "x": {
          "bdata": "KQArAC8AMQCXAJgAngCgAKEAogClANoA2wDeAOgA6gDrAO4A8QD7AA==",
          "dtype": "i2"
         },
         "y": {
          "bdata": "ZdH+HIOepT8AAAAAAAD4/wAAAAAAAPj/AAAAAAAA+P/Tv409XDrcPwAAAAAAAPj/Br686jDH7D86eU8LOejYPwAAAAAAAPj/AAAAAAAA+P8AAAAAAAD4/wAAAAAAAPj/AAAAAAAA+P/3wfX3uQWVP+01MJIT6Hc/AAAAAAAA+P8AAAAAAAD4/wAAAAAAAPj/mwv2y9x/wT8AAAAAAAD4/w==",
          "dtype": "f8"
         }
        },
        {
         "mode": "markers",
         "name": "2017",
         "showlegend": true,
         "type": "scatter",
         "x": {
          "bdata": "KAArAC4ALwAwAJQAlgCdAJ4AoAChAKQAywDMAM0AzgDPANAA0QDmAOcA6QDsAO4A+AD5APoA+wA=",
          "dtype": "i2"
         },
         "y": {
          "bdata": "AAAAAAAA+P8AAAAAAAD4/wAAAAAAAPj/R4i5Y7hAjj8mpjlaaFevP52rJjI5iZU/GHJ7h/motD8OgNqLVHKfP5LN5EV8mbs/AAAAAAAA+P8AAAAAAAD4/wAAAAAAAPj/AAAAAAAA+P8AAAAAAAD4/wAAAAAAAPj/AAAAAAAA+P/6GnQd5JbhP+r+WSM48Oo/ESXVJJr22D+BU75A2NrkPxAPX8GIYZA/AAAAAAAA+P8AAAAAAAD4/wAAAAAAAPj/zP/HWPlOmj8bhaYSrOWgP+LiGtMtUps/AAAAAAAA+P8=",
          "dtype": "f8"
         }
        },
        {
         "mode": "markers",
         "name": "2018",
         "showlegend": true,
         "type": "scatter",
         "x": {
          "bdata": "NAA1ADkAPQA+AIUAnwCgAKEAogCkAPAA+QABAQIBAwEFAQcBCAEJAQ==",
          "dtype": "i2"
         },
         "y": {
          "bdata": "ha+cqb5frz9Qp9mUxIigPwAAAAAAAPj/AAAAAAAA+P8AAAAAAAD4/xzpcW/xIH0/AAAAAAAAAACOMN7fsqnDPwAAAAAAAPj/AAAAAAAA+P8AAAAAAAD4/wAAAAAAAPj/hH39q4jIfT/LiTc+L82XP1reG+UlR4I/AAAAAAAA+P8AAAAAAAD4/wAAAAAAAPj/AAAAAAAA+P8AAAAAAAD4/w==",
          "dtype": "f8"
         }
        },
        {
         "mode": "markers",
         "name": "2019",
         "showlegend": true,
         "type": "scatter",
         "x": {
          "bdata": "JgAnACkAKwCbAJwAngCiALgAyADJAMoAywDMAM0AzgDPANAA2ADkAOUA5wDoAOsA9gD3AA==",
          "dtype": "i2"
         },
         "y": {
          "bdata": "avcn8HRogj/2ou+paGy+PwAAAAAAAPj/AAAAAAAA+P/NI4jy5NG9P92238S//X8/AAAAAAAA+P8AAAAAAAD4/wAAAAAAAPj/wQpR30GMdT//yp6vQ4+TP/Do/3C1DsI/Mii0HTN8mz8NWfZFZr6mPwAAAAAAAPj/AAAAAAAA+P/wIgRFRI+LP+BSfY+GfJk/AAAAAAAA+P/7P4nv1nd6P27B7ti+v3A/AAAAAAAA+P8AAAAAAAD4/wAAAAAAAPj/0b/qUY7PoD8AAAAAAAAAAA==",
          "dtype": "f8"
         }
        },
        {
         "mode": "markers",
         "name": "2020",
         "showlegend": true,
         "type": "scatter",
         "x": {
          "bdata": "KQAqACsALQAuAC8AsQC1ALoAywDPAOIA4wDlAOYA6ADyAPMA",
          "dtype": "i2"
         },
         "y": {
          "bdata": "pCjJhpIexz9Fm0ZMRq2HPwAAAAAAAPj/AAAAAAAA+P8AAAAAAAD4/wAAAAAAAPj/OuHU4yMZoz90djo45mexP92ZuUWrY6I/AAAAAAAA+P8AAAAAAAD4/8rAW87FtKk/vSDchATXNj8AAAAAAAD4/wAAAAAAAPj/AAAAAAAA+P8zEXOjC1aCP/qa6AYG14E/",
          "dtype": "f8"
         }
        }
       ],
       "layout": {
        "template": {
         "data": {
          "bar": [
           {
            "error_x": {
             "color": "#2a3f5f"
            },
            "error_y": {
             "color": "#2a3f5f"
            },
            "marker": {
             "line": {
              "color": "white",
              "width": 0.5
             },
             "pattern": {
              "fillmode": "overlay",
              "size": 10,
              "solidity": 0.2
             }
            },
            "type": "bar"
           }
          ],
          "barpolar": [
           {
            "marker": {
             "line": {
              "color": "white",
              "width": 0.5
             },
             "pattern": {
              "fillmode": "overlay",
              "size": 10,
              "solidity": 0.2
             }
            },
            "type": "barpolar"
           }
          ],
          "carpet": [
           {
            "aaxis": {
             "endlinecolor": "#2a3f5f",
             "gridcolor": "#C8D4E3",
             "linecolor": "#C8D4E3",
             "minorgridcolor": "#C8D4E3",
             "startlinecolor": "#2a3f5f"
            },
            "baxis": {
             "endlinecolor": "#2a3f5f",
             "gridcolor": "#C8D4E3",
             "linecolor": "#C8D4E3",
             "minorgridcolor": "#C8D4E3",
             "startlinecolor": "#2a3f5f"
            },
            "type": "carpet"
           }
          ],
          "choropleth": [
           {
            "colorbar": {
             "outlinewidth": 0,
             "ticks": ""
            },
            "type": "choropleth"
           }
          ],
          "contour": [
           {
            "colorbar": {
             "outlinewidth": 0,
             "ticks": ""
            },
            "colorscale": [
             [
              0,
              "#0d0887"
             ],
             [
              0.1111111111111111,
              "#46039f"
             ],
             [
              0.2222222222222222,
              "#7201a8"
             ],
             [
              0.3333333333333333,
              "#9c179e"
             ],
             [
              0.4444444444444444,
              "#bd3786"
             ],
             [
              0.5555555555555556,
              "#d8576b"
             ],
             [
              0.6666666666666666,
              "#ed7953"
             ],
             [
              0.7777777777777778,
              "#fb9f3a"
             ],
             [
              0.8888888888888888,
              "#fdca26"
             ],
             [
              1,
              "#f0f921"
             ]
            ],
            "type": "contour"
           }
          ],
          "contourcarpet": [
           {
            "colorbar": {
             "outlinewidth": 0,
             "ticks": ""
            },
            "type": "contourcarpet"
           }
          ],
          "heatmap": [
           {
            "colorbar": {
             "outlinewidth": 0,
             "ticks": ""
            },
            "colorscale": [
             [
              0,
              "#0d0887"
             ],
             [
              0.1111111111111111,
              "#46039f"
             ],
             [
              0.2222222222222222,
              "#7201a8"
             ],
             [
              0.3333333333333333,
              "#9c179e"
             ],
             [
              0.4444444444444444,
              "#bd3786"
             ],
             [
              0.5555555555555556,
              "#d8576b"
             ],
             [
              0.6666666666666666,
              "#ed7953"
             ],
             [
              0.7777777777777778,
              "#fb9f3a"
             ],
             [
              0.8888888888888888,
              "#fdca26"
             ],
             [
              1,
              "#f0f921"
             ]
            ],
            "type": "heatmap"
           }
          ],
          "histogram": [
           {
            "marker": {
             "pattern": {
              "fillmode": "overlay",
              "size": 10,
              "solidity": 0.2
             }
            },
            "type": "histogram"
           }
          ],
          "histogram2d": [
           {
            "colorbar": {
             "outlinewidth": 0,
             "ticks": ""
            },
            "colorscale": [
             [
              0,
              "#0d0887"
             ],
             [
              0.1111111111111111,
              "#46039f"
             ],
             [
              0.2222222222222222,
              "#7201a8"
             ],
             [
              0.3333333333333333,
              "#9c179e"
             ],
             [
              0.4444444444444444,
              "#bd3786"
             ],
             [
              0.5555555555555556,
              "#d8576b"
             ],
             [
              0.6666666666666666,
              "#ed7953"
             ],
             [
              0.7777777777777778,
              "#fb9f3a"
             ],
             [
              0.8888888888888888,
              "#fdca26"
             ],
             [
              1,
              "#f0f921"
             ]
            ],
            "type": "histogram2d"
           }
          ],
          "histogram2dcontour": [
           {
            "colorbar": {
             "outlinewidth": 0,
             "ticks": ""
            },
            "colorscale": [
             [
              0,
              "#0d0887"
             ],
             [
              0.1111111111111111,
              "#46039f"
             ],
             [
              0.2222222222222222,
              "#7201a8"
             ],
             [
              0.3333333333333333,
              "#9c179e"
             ],
             [
              0.4444444444444444,
              "#bd3786"
             ],
             [
              0.5555555555555556,
              "#d8576b"
             ],
             [
              0.6666666666666666,
              "#ed7953"
             ],
             [
              0.7777777777777778,
              "#fb9f3a"
             ],
             [
              0.8888888888888888,
              "#fdca26"
             ],
             [
              1,
              "#f0f921"
             ]
            ],
            "type": "histogram2dcontour"
           }
          ],
          "mesh3d": [
           {
            "colorbar": {
             "outlinewidth": 0,
             "ticks": ""
            },
            "type": "mesh3d"
           }
          ],
          "parcoords": [
           {
            "line": {
             "colorbar": {
              "outlinewidth": 0,
              "ticks": ""
             }
            },
            "type": "parcoords"
           }
          ],
          "pie": [
           {
            "automargin": true,
            "type": "pie"
           }
          ],
          "scatter": [
           {
            "fillpattern": {
             "fillmode": "overlay",
             "size": 10,
             "solidity": 0.2
            },
            "type": "scatter"
           }
          ],
          "scatter3d": [
           {
            "line": {
             "colorbar": {
              "outlinewidth": 0,
              "ticks": ""
             }
            },
            "marker": {
             "colorbar": {
              "outlinewidth": 0,
              "ticks": ""
             }
            },
            "type": "scatter3d"
           }
          ],
          "scattercarpet": [
           {
            "marker": {
             "colorbar": {
              "outlinewidth": 0,
              "ticks": ""
             }
            },
            "type": "scattercarpet"
           }
          ],
          "scattergeo": [
           {
            "marker": {
             "colorbar": {
              "outlinewidth": 0,
              "ticks": ""
             }
            },
            "type": "scattergeo"
           }
          ],
          "scattergl": [
           {
            "marker": {
             "colorbar": {
              "outlinewidth": 0,
              "ticks": ""
             }
            },
            "type": "scattergl"
           }
          ],
          "scattermap": [
           {
            "marker": {
             "colorbar": {
              "outlinewidth": 0,
              "ticks": ""
             }
            },
            "type": "scattermap"
           }
          ],
          "scattermapbox": [
           {
            "marker": {
             "colorbar": {
              "outlinewidth": 0,
              "ticks": ""
             }
            },
            "type": "scattermapbox"
           }
          ],
          "scatterpolar": [
           {
            "marker": {
             "colorbar": {
              "outlinewidth": 0,
              "ticks": ""
             }
            },
            "type": "scatterpolar"
           }
          ],
          "scatterpolargl": [
           {
            "marker": {
             "colorbar": {
              "outlinewidth": 0,
              "ticks": ""
             }
            },
            "type": "scatterpolargl"
           }
          ],
          "scatterternary": [
           {
            "marker": {
             "colorbar": {
              "outlinewidth": 0,
              "ticks": ""
             }
            },
            "type": "scatterternary"
           }
          ],
          "surface": [
           {
            "colorbar": {
             "outlinewidth": 0,
             "ticks": ""
            },
            "colorscale": [
             [
              0,
              "#0d0887"
             ],
             [
              0.1111111111111111,
              "#46039f"
             ],
             [
              0.2222222222222222,
              "#7201a8"
             ],
             [
              0.3333333333333333,
              "#9c179e"
             ],
             [
              0.4444444444444444,
              "#bd3786"
             ],
             [
              0.5555555555555556,
              "#d8576b"
             ],
             [
              0.6666666666666666,
              "#ed7953"
             ],
             [
              0.7777777777777778,
              "#fb9f3a"
             ],
             [
              0.8888888888888888,
              "#fdca26"
             ],
             [
              1,
              "#f0f921"
             ]
            ],
            "type": "surface"
           }
          ],
          "table": [
           {
            "cells": {
             "fill": {
              "color": "#EBF0F8"
             },
             "line": {
              "color": "white"
             }
            },
            "header": {
             "fill": {
              "color": "#C8D4E3"
             },
             "line": {
              "color": "white"
             }
            },
            "type": "table"
           }
          ]
         },
         "layout": {
          "annotationdefaults": {
           "arrowcolor": "#2a3f5f",
           "arrowhead": 0,
           "arrowwidth": 1
          },
          "autotypenumbers": "strict",
          "coloraxis": {
           "colorbar": {
            "outlinewidth": 0,
            "ticks": ""
           }
          },
          "colorscale": {
           "diverging": [
            [
             0,
             "#8e0152"
            ],
            [
             0.1,
             "#c51b7d"
            ],
            [
             0.2,
             "#de77ae"
            ],
            [
             0.3,
             "#f1b6da"
            ],
            [
             0.4,
             "#fde0ef"
            ],
            [
             0.5,
             "#f7f7f7"
            ],
            [
             0.6,
             "#e6f5d0"
            ],
            [
             0.7,
             "#b8e186"
            ],
            [
             0.8,
             "#7fbc41"
            ],
            [
             0.9,
             "#4d9221"
            ],
            [
             1,
             "#276419"
            ]
           ],
           "sequential": [
            [
             0,
             "#0d0887"
            ],
            [
             0.1111111111111111,
             "#46039f"
            ],
            [
             0.2222222222222222,
             "#7201a8"
            ],
            [
             0.3333333333333333,
             "#9c179e"
            ],
            [
             0.4444444444444444,
             "#bd3786"
            ],
            [
             0.5555555555555556,
             "#d8576b"
            ],
            [
             0.6666666666666666,
             "#ed7953"
            ],
            [
             0.7777777777777778,
             "#fb9f3a"
            ],
            [
             0.8888888888888888,
             "#fdca26"
            ],
            [
             1,
             "#f0f921"
            ]
           ],
           "sequentialminus": [
            [
             0,
             "#0d0887"
            ],
            [
             0.1111111111111111,
             "#46039f"
            ],
            [
             0.2222222222222222,
             "#7201a8"
            ],
            [
             0.3333333333333333,
             "#9c179e"
            ],
            [
             0.4444444444444444,
             "#bd3786"
            ],
            [
             0.5555555555555556,
             "#d8576b"
            ],
            [
             0.6666666666666666,
             "#ed7953"
            ],
            [
             0.7777777777777778,
             "#fb9f3a"
            ],
            [
             0.8888888888888888,
             "#fdca26"
            ],
            [
             1,
             "#f0f921"
            ]
           ]
          },
          "colorway": [
           "#636efa",
           "#EF553B",
           "#00cc96",
           "#ab63fa",
           "#FFA15A",
           "#19d3f3",
           "#FF6692",
           "#B6E880",
           "#FF97FF",
           "#FECB52"
          ],
          "font": {
           "color": "#2a3f5f"
          },
          "geo": {
           "bgcolor": "white",
           "lakecolor": "white",
           "landcolor": "white",
           "showlakes": true,
           "showland": true,
           "subunitcolor": "#C8D4E3"
          },
          "hoverlabel": {
           "align": "left"
          },
          "hovermode": "closest",
          "mapbox": {
           "style": "light"
          },
          "paper_bgcolor": "white",
          "plot_bgcolor": "white",
          "polar": {
           "angularaxis": {
            "gridcolor": "#EBF0F8",
            "linecolor": "#EBF0F8",
            "ticks": ""
           },
           "bgcolor": "white",
           "radialaxis": {
            "gridcolor": "#EBF0F8",
            "linecolor": "#EBF0F8",
            "ticks": ""
           }
          },
          "scene": {
           "xaxis": {
            "backgroundcolor": "white",
            "gridcolor": "#DFE8F3",
            "gridwidth": 2,
            "linecolor": "#EBF0F8",
            "showbackground": true,
            "ticks": "",
            "zerolinecolor": "#EBF0F8"
           },
           "yaxis": {
            "backgroundcolor": "white",
            "gridcolor": "#DFE8F3",
            "gridwidth": 2,
            "linecolor": "#EBF0F8",
            "showbackground": true,
            "ticks": "",
            "zerolinecolor": "#EBF0F8"
           },
           "zaxis": {
            "backgroundcolor": "white",
            "gridcolor": "#DFE8F3",
            "gridwidth": 2,
            "linecolor": "#EBF0F8",
            "showbackground": true,
            "ticks": "",
            "zerolinecolor": "#EBF0F8"
           }
          },
          "shapedefaults": {
           "line": {
            "color": "#2a3f5f"
           }
          },
          "ternary": {
           "aaxis": {
            "gridcolor": "#DFE8F3",
            "linecolor": "#A2B1C6",
            "ticks": ""
           },
           "baxis": {
            "gridcolor": "#DFE8F3",
            "linecolor": "#A2B1C6",
            "ticks": ""
           },
           "bgcolor": "white",
           "caxis": {
            "gridcolor": "#DFE8F3",
            "linecolor": "#A2B1C6",
            "ticks": ""
           }
          },
          "title": {
           "x": 0.05
          },
          "xaxis": {
           "automargin": true,
           "gridcolor": "#EBF0F8",
           "linecolor": "#EBF0F8",
           "ticks": "",
           "title": {
            "standoff": 15
           },
           "zerolinecolor": "#EBF0F8",
           "zerolinewidth": 2
          },
          "yaxis": {
           "automargin": true,
           "gridcolor": "#EBF0F8",
           "linecolor": "#EBF0F8",
           "ticks": "",
           "title": {
            "standoff": 15
           },
           "zerolinecolor": "#EBF0F8",
           "zerolinewidth": 2
          }
         }
        },
        "title": {
         "text": "Pteropod Biomass Time Serie at PAPA (1998-2020)"
        },
        "xaxis": {
         "title": {
          "text": "Day of Year"
         }
        },
        "yaxis": {
         "title": {
          "text": "Biomass [g m-2]"
         }
        }
       }
      }
     },
     "metadata": {},
     "output_type": "display_data"
    }
   ],
   "source": [
    "# Spatial and vertical mean\n",
    "mean_timeseries = ds_pter_2deg.mean(dim=[\"is_day\",\"latitude\", \"longitude\", \"depth\"], skipna=True)\n",
    "\n",
    "# assign day coordinate\n",
    "# Extract MM-DD \n",
    "mmdd = pd.to_datetime(mean_timeseries.time.values).strftime('%m-%d')\n",
    "# transform MM-DD in indice of day in year (1->365) avoiding leap year discordance \n",
    "day_noleap = pd.Series(mmdd).map(mmdd_to_day).values\n",
    "# add coord day\n",
    "mean_timeseries = mean_timeseries.assign_coords(day=(\"time\", day_noleap))\n",
    "\n",
    "# Plot\n",
    "# Group by year\n",
    "years = pd.DatetimeIndex(mean_timeseries.time.values).year.unique()\n",
    "\n",
    "fig = go.Figure()\n",
    "# Plot one color per year\n",
    "for year in years:\n",
    "    yearly_data = mean_timeseries.sel(time=str(year))\n",
    "    fig.add_trace(go.Scatter(\n",
    "        x=yearly_data['day'],\n",
    "        y=yearly_data.values,\n",
    "        mode='markers',\n",
    "        name=str(year),\n",
    "        showlegend=True \n",
    "    ))\n",
    "\n",
    "fig.update_layout(\n",
    "    title='Pteropod Biomass Time Serie at PAPA (1998-2020)',\n",
    "    xaxis_title='Day of Year',\n",
    "    yaxis=dict(\n",
    "        #type='log',\n",
    "        title='Biomass [g m-2]',\n",
    "        #range=[0, 5],\n",
    "    ),\n",
    "    template='plotly_white'\n",
    ")\n",
    "\n",
    "\n",
    "fig.show()\n"
   ]
  },
  {
   "cell_type": "markdown",
   "id": "3a6ed483",
   "metadata": {},
   "source": [
    "<div style=\"padding: 10px; border-radius: 5px; background-color: #cce5ff; color: #004085; border-left: 5px solid #007bff;\">\n",
    "    <strong>Note :</strong> It's a gaussian distribution, so it's better to do the stats and the optimisation with the log10. <br>\n",
    "    Quentin (which one ?) is doing that also, ask him if he has some papers\n",
    "</div>"
   ]
  },
  {
   "cell_type": "markdown",
   "id": "58464315",
   "metadata": {},
   "source": [
    "<div style=\"padding: 10px; border-radius: 5px; background-color: #cce5ff; color: #004085; border-left: 5px solid #007bff;\">\n",
    "    <strong>Note :</strong> Remove outliers : <br>\n",
    "    - June 2013 ; 9.044 g.m-2 <br>\n",
    "    - Sep 2009 ; 4.57 g.m-2 (the day before : 0.16 g.m-2) <br> \n",
    "    \n",
    "\n",
    "</div>"
   ]
  },
  {
   "cell_type": "code",
   "execution_count": 199,
   "id": "cd9c1ad7",
   "metadata": {},
   "outputs": [],
   "source": [
    "# Remove les outliers > 4 g/m2\n",
    "# ds_pter_2deg = ds_pter_2deg.where(ds_pter_2deg <= 4)\n"
   ]
  },
  {
   "cell_type": "markdown",
   "id": "e59bc22f",
   "metadata": {},
   "source": [
    "## Histogram"
   ]
  },
  {
   "cell_type": "code",
   "execution_count": 200,
   "id": "af7d4bf1",
   "metadata": {},
   "outputs": [
    {
     "data": {
      "application/vnd.plotly.v1+json": {
       "config": {
        "plotlyServerURL": "https://plot.ly"
       },
       "data": [
        {
         "bingroup": "x",
         "hovertemplate": "pteropod biomass (gC/m2)=%{x}<br>count=%{y}<extra></extra>",
         "legendgroup": "",
         "marker": {
          "color": "#636efa",
          "pattern": {
           "shape": ""
          }
         },
         "name": "",
         "nbinsx": 50,
         "orientation": "v",
         "showlegend": false,
         "type": "histogram",
         "x": {
          "bdata": "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",
          "dtype": "f8"
         },
         "xaxis": "x",
         "yaxis": "y"
        }
       ],
       "layout": {
        "barmode": "relative",
        "legend": {
         "tracegroupgap": 0
        },
        "template": {
         "data": {
          "bar": [
           {
            "error_x": {
             "color": "#2a3f5f"
            },
            "error_y": {
             "color": "#2a3f5f"
            },
            "marker": {
             "line": {
              "color": "#E5ECF6",
              "width": 0.5
             },
             "pattern": {
              "fillmode": "overlay",
              "size": 10,
              "solidity": 0.2
             }
            },
            "type": "bar"
           }
          ],
          "barpolar": [
           {
            "marker": {
             "line": {
              "color": "#E5ECF6",
              "width": 0.5
             },
             "pattern": {
              "fillmode": "overlay",
              "size": 10,
              "solidity": 0.2
             }
            },
            "type": "barpolar"
           }
          ],
          "carpet": [
           {
            "aaxis": {
             "endlinecolor": "#2a3f5f",
             "gridcolor": "white",
             "linecolor": "white",
             "minorgridcolor": "white",
             "startlinecolor": "#2a3f5f"
            },
            "baxis": {
             "endlinecolor": "#2a3f5f",
             "gridcolor": "white",
             "linecolor": "white",
             "minorgridcolor": "white",
             "startlinecolor": "#2a3f5f"
            },
            "type": "carpet"
           }
          ],
          "choropleth": [
           {
            "colorbar": {
             "outlinewidth": 0,
             "ticks": ""
            },
            "type": "choropleth"
           }
          ],
          "contour": [
           {
            "colorbar": {
             "outlinewidth": 0,
             "ticks": ""
            },
            "colorscale": [
             [
              0,
              "#0d0887"
             ],
             [
              0.1111111111111111,
              "#46039f"
             ],
             [
              0.2222222222222222,
              "#7201a8"
             ],
             [
              0.3333333333333333,
              "#9c179e"
             ],
             [
              0.4444444444444444,
              "#bd3786"
             ],
             [
              0.5555555555555556,
              "#d8576b"
             ],
             [
              0.6666666666666666,
              "#ed7953"
             ],
             [
              0.7777777777777778,
              "#fb9f3a"
             ],
             [
              0.8888888888888888,
              "#fdca26"
             ],
             [
              1,
              "#f0f921"
             ]
            ],
            "type": "contour"
           }
          ],
          "contourcarpet": [
           {
            "colorbar": {
             "outlinewidth": 0,
             "ticks": ""
            },
            "type": "contourcarpet"
           }
          ],
          "heatmap": [
           {
            "colorbar": {
             "outlinewidth": 0,
             "ticks": ""
            },
            "colorscale": [
             [
              0,
              "#0d0887"
             ],
             [
              0.1111111111111111,
              "#46039f"
             ],
             [
              0.2222222222222222,
              "#7201a8"
             ],
             [
              0.3333333333333333,
              "#9c179e"
             ],
             [
              0.4444444444444444,
              "#bd3786"
             ],
             [
              0.5555555555555556,
              "#d8576b"
             ],
             [
              0.6666666666666666,
              "#ed7953"
             ],
             [
              0.7777777777777778,
              "#fb9f3a"
             ],
             [
              0.8888888888888888,
              "#fdca26"
             ],
             [
              1,
              "#f0f921"
             ]
            ],
            "type": "heatmap"
           }
          ],
          "histogram": [
           {
            "marker": {
             "pattern": {
              "fillmode": "overlay",
              "size": 10,
              "solidity": 0.2
             }
            },
            "type": "histogram"
           }
          ],
          "histogram2d": [
           {
            "colorbar": {
             "outlinewidth": 0,
             "ticks": ""
            },
            "colorscale": [
             [
              0,
              "#0d0887"
             ],
             [
              0.1111111111111111,
              "#46039f"
             ],
             [
              0.2222222222222222,
              "#7201a8"
             ],
             [
              0.3333333333333333,
              "#9c179e"
             ],
             [
              0.4444444444444444,
              "#bd3786"
             ],
             [
              0.5555555555555556,
              "#d8576b"
             ],
             [
              0.6666666666666666,
              "#ed7953"
             ],
             [
              0.7777777777777778,
              "#fb9f3a"
             ],
             [
              0.8888888888888888,
              "#fdca26"
             ],
             [
              1,
              "#f0f921"
             ]
            ],
            "type": "histogram2d"
           }
          ],
          "histogram2dcontour": [
           {
            "colorbar": {
             "outlinewidth": 0,
             "ticks": ""
            },
            "colorscale": [
             [
              0,
              "#0d0887"
             ],
             [
              0.1111111111111111,
              "#46039f"
             ],
             [
              0.2222222222222222,
              "#7201a8"
             ],
             [
              0.3333333333333333,
              "#9c179e"
             ],
             [
              0.4444444444444444,
              "#bd3786"
             ],
             [
              0.5555555555555556,
              "#d8576b"
             ],
             [
              0.6666666666666666,
              "#ed7953"
             ],
             [
              0.7777777777777778,
              "#fb9f3a"
             ],
             [
              0.8888888888888888,
              "#fdca26"
             ],
             [
              1,
              "#f0f921"
             ]
            ],
            "type": "histogram2dcontour"
           }
          ],
          "mesh3d": [
           {
            "colorbar": {
             "outlinewidth": 0,
             "ticks": ""
            },
            "type": "mesh3d"
           }
          ],
          "parcoords": [
           {
            "line": {
             "colorbar": {
              "outlinewidth": 0,
              "ticks": ""
             }
            },
            "type": "parcoords"
           }
          ],
          "pie": [
           {
            "automargin": true,
            "type": "pie"
           }
          ],
          "scatter": [
           {
            "fillpattern": {
             "fillmode": "overlay",
             "size": 10,
             "solidity": 0.2
            },
            "type": "scatter"
           }
          ],
          "scatter3d": [
           {
            "line": {
             "colorbar": {
              "outlinewidth": 0,
              "ticks": ""
             }
            },
            "marker": {
             "colorbar": {
              "outlinewidth": 0,
              "ticks": ""
             }
            },
            "type": "scatter3d"
           }
          ],
          "scattercarpet": [
           {
            "marker": {
             "colorbar": {
              "outlinewidth": 0,
              "ticks": ""
             }
            },
            "type": "scattercarpet"
           }
          ],
          "scattergeo": [
           {
            "marker": {
             "colorbar": {
              "outlinewidth": 0,
              "ticks": ""
             }
            },
            "type": "scattergeo"
           }
          ],
          "scattergl": [
           {
            "marker": {
             "colorbar": {
              "outlinewidth": 0,
              "ticks": ""
             }
            },
            "type": "scattergl"
           }
          ],
          "scattermap": [
           {
            "marker": {
             "colorbar": {
              "outlinewidth": 0,
              "ticks": ""
             }
            },
            "type": "scattermap"
           }
          ],
          "scattermapbox": [
           {
            "marker": {
             "colorbar": {
              "outlinewidth": 0,
              "ticks": ""
             }
            },
            "type": "scattermapbox"
           }
          ],
          "scatterpolar": [
           {
            "marker": {
             "colorbar": {
              "outlinewidth": 0,
              "ticks": ""
             }
            },
            "type": "scatterpolar"
           }
          ],
          "scatterpolargl": [
           {
            "marker": {
             "colorbar": {
              "outlinewidth": 0,
              "ticks": ""
             }
            },
            "type": "scatterpolargl"
           }
          ],
          "scatterternary": [
           {
            "marker": {
             "colorbar": {
              "outlinewidth": 0,
              "ticks": ""
             }
            },
            "type": "scatterternary"
           }
          ],
          "surface": [
           {
            "colorbar": {
             "outlinewidth": 0,
             "ticks": ""
            },
            "colorscale": [
             [
              0,
              "#0d0887"
             ],
             [
              0.1111111111111111,
              "#46039f"
             ],
             [
              0.2222222222222222,
              "#7201a8"
             ],
             [
              0.3333333333333333,
              "#9c179e"
             ],
             [
              0.4444444444444444,
              "#bd3786"
             ],
             [
              0.5555555555555556,
              "#d8576b"
             ],
             [
              0.6666666666666666,
              "#ed7953"
             ],
             [
              0.7777777777777778,
              "#fb9f3a"
             ],
             [
              0.8888888888888888,
              "#fdca26"
             ],
             [
              1,
              "#f0f921"
             ]
            ],
            "type": "surface"
           }
          ],
          "table": [
           {
            "cells": {
             "fill": {
              "color": "#EBF0F8"
             },
             "line": {
              "color": "white"
             }
            },
            "header": {
             "fill": {
              "color": "#C8D4E3"
             },
             "line": {
              "color": "white"
             }
            },
            "type": "table"
           }
          ]
         },
         "layout": {
          "annotationdefaults": {
           "arrowcolor": "#2a3f5f",
           "arrowhead": 0,
           "arrowwidth": 1
          },
          "autotypenumbers": "strict",
          "coloraxis": {
           "colorbar": {
            "outlinewidth": 0,
            "ticks": ""
           }
          },
          "colorscale": {
           "diverging": [
            [
             0,
             "#8e0152"
            ],
            [
             0.1,
             "#c51b7d"
            ],
            [
             0.2,
             "#de77ae"
            ],
            [
             0.3,
             "#f1b6da"
            ],
            [
             0.4,
             "#fde0ef"
            ],
            [
             0.5,
             "#f7f7f7"
            ],
            [
             0.6,
             "#e6f5d0"
            ],
            [
             0.7,
             "#b8e186"
            ],
            [
             0.8,
             "#7fbc41"
            ],
            [
             0.9,
             "#4d9221"
            ],
            [
             1,
             "#276419"
            ]
           ],
           "sequential": [
            [
             0,
             "#0d0887"
            ],
            [
             0.1111111111111111,
             "#46039f"
            ],
            [
             0.2222222222222222,
             "#7201a8"
            ],
            [
             0.3333333333333333,
             "#9c179e"
            ],
            [
             0.4444444444444444,
             "#bd3786"
            ],
            [
             0.5555555555555556,
             "#d8576b"
            ],
            [
             0.6666666666666666,
             "#ed7953"
            ],
            [
             0.7777777777777778,
             "#fb9f3a"
            ],
            [
             0.8888888888888888,
             "#fdca26"
            ],
            [
             1,
             "#f0f921"
            ]
           ],
           "sequentialminus": [
            [
             0,
             "#0d0887"
            ],
            [
             0.1111111111111111,
             "#46039f"
            ],
            [
             0.2222222222222222,
             "#7201a8"
            ],
            [
             0.3333333333333333,
             "#9c179e"
            ],
            [
             0.4444444444444444,
             "#bd3786"
            ],
            [
             0.5555555555555556,
             "#d8576b"
            ],
            [
             0.6666666666666666,
             "#ed7953"
            ],
            [
             0.7777777777777778,
             "#fb9f3a"
            ],
            [
             0.8888888888888888,
             "#fdca26"
            ],
            [
             1,
             "#f0f921"
            ]
           ]
          },
          "colorway": [
           "#636efa",
           "#EF553B",
           "#00cc96",
           "#ab63fa",
           "#FFA15A",
           "#19d3f3",
           "#FF6692",
           "#B6E880",
           "#FF97FF",
           "#FECB52"
          ],
          "font": {
           "color": "#2a3f5f"
          },
          "geo": {
           "bgcolor": "white",
           "lakecolor": "white",
           "landcolor": "#E5ECF6",
           "showlakes": true,
           "showland": true,
           "subunitcolor": "white"
          },
          "hoverlabel": {
           "align": "left"
          },
          "hovermode": "closest",
          "mapbox": {
           "style": "light"
          },
          "paper_bgcolor": "white",
          "plot_bgcolor": "#E5ECF6",
          "polar": {
           "angularaxis": {
            "gridcolor": "white",
            "linecolor": "white",
            "ticks": ""
           },
           "bgcolor": "#E5ECF6",
           "radialaxis": {
            "gridcolor": "white",
            "linecolor": "white",
            "ticks": ""
           }
          },
          "scene": {
           "xaxis": {
            "backgroundcolor": "#E5ECF6",
            "gridcolor": "white",
            "gridwidth": 2,
            "linecolor": "white",
            "showbackground": true,
            "ticks": "",
            "zerolinecolor": "white"
           },
           "yaxis": {
            "backgroundcolor": "#E5ECF6",
            "gridcolor": "white",
            "gridwidth": 2,
            "linecolor": "white",
            "showbackground": true,
            "ticks": "",
            "zerolinecolor": "white"
           },
           "zaxis": {
            "backgroundcolor": "#E5ECF6",
            "gridcolor": "white",
            "gridwidth": 2,
            "linecolor": "white",
            "showbackground": true,
            "ticks": "",
            "zerolinecolor": "white"
           }
          },
          "shapedefaults": {
           "line": {
            "color": "#2a3f5f"
           }
          },
          "ternary": {
           "aaxis": {
            "gridcolor": "white",
            "linecolor": "white",
            "ticks": ""
           },
           "baxis": {
            "gridcolor": "white",
            "linecolor": "white",
            "ticks": ""
           },
           "bgcolor": "#E5ECF6",
           "caxis": {
            "gridcolor": "white",
            "linecolor": "white",
            "ticks": ""
           }
          },
          "title": {
           "x": 0.05
          },
          "xaxis": {
           "automargin": true,
           "gridcolor": "white",
           "linecolor": "white",
           "ticks": "",
           "title": {
            "standoff": 15
           },
           "zerolinecolor": "white",
           "zerolinewidth": 2
          },
          "yaxis": {
           "automargin": true,
           "gridcolor": "white",
           "linecolor": "white",
           "ticks": "",
           "title": {
            "standoff": 15
           },
           "zerolinecolor": "white",
           "zerolinewidth": 2
          }
         }
        },
        "title": {
         "text": "Histogram of pteropods biomass entries "
        },
        "xaxis": {
         "anchor": "y",
         "domain": [
          0,
          1
         ],
         "title": {
          "text": "pteropod biomass (gC/m2)"
         }
        },
        "yaxis": {
         "anchor": "x",
         "domain": [
          0,
          1
         ],
         "title": {
          "text": "count"
         }
        }
       }
      }
     },
     "metadata": {},
     "output_type": "display_data"
    }
   ],
   "source": [
    "ds_pter_2deg_no_0=ds_pter_2deg.where(ds_pter_2deg!=0,np.nan)\n",
    "flat_data = ds_pter_2deg_no_0.values.flatten()\n",
    "valid_data = flat_data[~np.isnan(flat_data)]\n",
    "\n",
    "df = pd.DataFrame({\"pteropod biomass (gC/m2)\": valid_data})\n",
    "\n",
    "fig = px.histogram(\n",
    "    df*0.4,\n",
    "    x=\"pteropod biomass (gC/m2)\",\n",
    "    nbins=50,\n",
    "    labels={\"count\": \"frequency\"},\n",
    "    title=\"Histogram of pteropods biomass entries \"\n",
    ")\n",
    "fig.show()\n",
    "\n"
   ]
  },
  {
   "cell_type": "code",
   "execution_count": 201,
   "id": "4180d205",
   "metadata": {},
   "outputs": [
    {
     "data": {
      "application/vnd.plotly.v1+json": {
       "config": {
        "plotlyServerURL": "https://plot.ly"
       },
       "data": [
        {
         "bingroup": "x",
         "hovertemplate": "pteropod biomass (log10 gC/m2)=%{x}<br>count=%{y}<extra></extra>",
         "legendgroup": "",
         "marker": {
          "color": "#636efa",
          "pattern": {
           "shape": ""
          }
         },
         "name": "",
         "nbinsx": 50,
         "orientation": "v",
         "showlegend": false,
         "type": "histogram",
         "x": {
          "bdata": "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",
          "dtype": "f8"
         },
         "xaxis": "x",
         "yaxis": "y"
        }
       ],
       "layout": {
        "barmode": "relative",
        "legend": {
         "tracegroupgap": 0
        },
        "template": {
         "data": {
          "bar": [
           {
            "error_x": {
             "color": "#2a3f5f"
            },
            "error_y": {
             "color": "#2a3f5f"
            },
            "marker": {
             "line": {
              "color": "#E5ECF6",
              "width": 0.5
             },
             "pattern": {
              "fillmode": "overlay",
              "size": 10,
              "solidity": 0.2
             }
            },
            "type": "bar"
           }
          ],
          "barpolar": [
           {
            "marker": {
             "line": {
              "color": "#E5ECF6",
              "width": 0.5
             },
             "pattern": {
              "fillmode": "overlay",
              "size": 10,
              "solidity": 0.2
             }
            },
            "type": "barpolar"
           }
          ],
          "carpet": [
           {
            "aaxis": {
             "endlinecolor": "#2a3f5f",
             "gridcolor": "white",
             "linecolor": "white",
             "minorgridcolor": "white",
             "startlinecolor": "#2a3f5f"
            },
            "baxis": {
             "endlinecolor": "#2a3f5f",
             "gridcolor": "white",
             "linecolor": "white",
             "minorgridcolor": "white",
             "startlinecolor": "#2a3f5f"
            },
            "type": "carpet"
           }
          ],
          "choropleth": [
           {
            "colorbar": {
             "outlinewidth": 0,
             "ticks": ""
            },
            "type": "choropleth"
           }
          ],
          "contour": [
           {
            "colorbar": {
             "outlinewidth": 0,
             "ticks": ""
            },
            "colorscale": [
             [
              0,
              "#0d0887"
             ],
             [
              0.1111111111111111,
              "#46039f"
             ],
             [
              0.2222222222222222,
              "#7201a8"
             ],
             [
              0.3333333333333333,
              "#9c179e"
             ],
             [
              0.4444444444444444,
              "#bd3786"
             ],
             [
              0.5555555555555556,
              "#d8576b"
             ],
             [
              0.6666666666666666,
              "#ed7953"
             ],
             [
              0.7777777777777778,
              "#fb9f3a"
             ],
             [
              0.8888888888888888,
              "#fdca26"
             ],
             [
              1,
              "#f0f921"
             ]
            ],
            "type": "contour"
           }
          ],
          "contourcarpet": [
           {
            "colorbar": {
             "outlinewidth": 0,
             "ticks": ""
            },
            "type": "contourcarpet"
           }
          ],
          "heatmap": [
           {
            "colorbar": {
             "outlinewidth": 0,
             "ticks": ""
            },
            "colorscale": [
             [
              0,
              "#0d0887"
             ],
             [
              0.1111111111111111,
              "#46039f"
             ],
             [
              0.2222222222222222,
              "#7201a8"
             ],
             [
              0.3333333333333333,
              "#9c179e"
             ],
             [
              0.4444444444444444,
              "#bd3786"
             ],
             [
              0.5555555555555556,
              "#d8576b"
             ],
             [
              0.6666666666666666,
              "#ed7953"
             ],
             [
              0.7777777777777778,
              "#fb9f3a"
             ],
             [
              0.8888888888888888,
              "#fdca26"
             ],
             [
              1,
              "#f0f921"
             ]
            ],
            "type": "heatmap"
           }
          ],
          "histogram": [
           {
            "marker": {
             "pattern": {
              "fillmode": "overlay",
              "size": 10,
              "solidity": 0.2
             }
            },
            "type": "histogram"
           }
          ],
          "histogram2d": [
           {
            "colorbar": {
             "outlinewidth": 0,
             "ticks": ""
            },
            "colorscale": [
             [
              0,
              "#0d0887"
             ],
             [
              0.1111111111111111,
              "#46039f"
             ],
             [
              0.2222222222222222,
              "#7201a8"
             ],
             [
              0.3333333333333333,
              "#9c179e"
             ],
             [
              0.4444444444444444,
              "#bd3786"
             ],
             [
              0.5555555555555556,
              "#d8576b"
             ],
             [
              0.6666666666666666,
              "#ed7953"
             ],
             [
              0.7777777777777778,
              "#fb9f3a"
             ],
             [
              0.8888888888888888,
              "#fdca26"
             ],
             [
              1,
              "#f0f921"
             ]
            ],
            "type": "histogram2d"
           }
          ],
          "histogram2dcontour": [
           {
            "colorbar": {
             "outlinewidth": 0,
             "ticks": ""
            },
            "colorscale": [
             [
              0,
              "#0d0887"
             ],
             [
              0.1111111111111111,
              "#46039f"
             ],
             [
              0.2222222222222222,
              "#7201a8"
             ],
             [
              0.3333333333333333,
              "#9c179e"
             ],
             [
              0.4444444444444444,
              "#bd3786"
             ],
             [
              0.5555555555555556,
              "#d8576b"
             ],
             [
              0.6666666666666666,
              "#ed7953"
             ],
             [
              0.7777777777777778,
              "#fb9f3a"
             ],
             [
              0.8888888888888888,
              "#fdca26"
             ],
             [
              1,
              "#f0f921"
             ]
            ],
            "type": "histogram2dcontour"
           }
          ],
          "mesh3d": [
           {
            "colorbar": {
             "outlinewidth": 0,
             "ticks": ""
            },
            "type": "mesh3d"
           }
          ],
          "parcoords": [
           {
            "line": {
             "colorbar": {
              "outlinewidth": 0,
              "ticks": ""
             }
            },
            "type": "parcoords"
           }
          ],
          "pie": [
           {
            "automargin": true,
            "type": "pie"
           }
          ],
          "scatter": [
           {
            "fillpattern": {
             "fillmode": "overlay",
             "size": 10,
             "solidity": 0.2
            },
            "type": "scatter"
           }
          ],
          "scatter3d": [
           {
            "line": {
             "colorbar": {
              "outlinewidth": 0,
              "ticks": ""
             }
            },
            "marker": {
             "colorbar": {
              "outlinewidth": 0,
              "ticks": ""
             }
            },
            "type": "scatter3d"
           }
          ],
          "scattercarpet": [
           {
            "marker": {
             "colorbar": {
              "outlinewidth": 0,
              "ticks": ""
             }
            },
            "type": "scattercarpet"
           }
          ],
          "scattergeo": [
           {
            "marker": {
             "colorbar": {
              "outlinewidth": 0,
              "ticks": ""
             }
            },
            "type": "scattergeo"
           }
          ],
          "scattergl": [
           {
            "marker": {
             "colorbar": {
              "outlinewidth": 0,
              "ticks": ""
             }
            },
            "type": "scattergl"
           }
          ],
          "scattermap": [
           {
            "marker": {
             "colorbar": {
              "outlinewidth": 0,
              "ticks": ""
             }
            },
            "type": "scattermap"
           }
          ],
          "scattermapbox": [
           {
            "marker": {
             "colorbar": {
              "outlinewidth": 0,
              "ticks": ""
             }
            },
            "type": "scattermapbox"
           }
          ],
          "scatterpolar": [
           {
            "marker": {
             "colorbar": {
              "outlinewidth": 0,
              "ticks": ""
             }
            },
            "type": "scatterpolar"
           }
          ],
          "scatterpolargl": [
           {
            "marker": {
             "colorbar": {
              "outlinewidth": 0,
              "ticks": ""
             }
            },
            "type": "scatterpolargl"
           }
          ],
          "scatterternary": [
           {
            "marker": {
             "colorbar": {
              "outlinewidth": 0,
              "ticks": ""
             }
            },
            "type": "scatterternary"
           }
          ],
          "surface": [
           {
            "colorbar": {
             "outlinewidth": 0,
             "ticks": ""
            },
            "colorscale": [
             [
              0,
              "#0d0887"
             ],
             [
              0.1111111111111111,
              "#46039f"
             ],
             [
              0.2222222222222222,
              "#7201a8"
             ],
             [
              0.3333333333333333,
              "#9c179e"
             ],
             [
              0.4444444444444444,
              "#bd3786"
             ],
             [
              0.5555555555555556,
              "#d8576b"
             ],
             [
              0.6666666666666666,
              "#ed7953"
             ],
             [
              0.7777777777777778,
              "#fb9f3a"
             ],
             [
              0.8888888888888888,
              "#fdca26"
             ],
             [
              1,
              "#f0f921"
             ]
            ],
            "type": "surface"
           }
          ],
          "table": [
           {
            "cells": {
             "fill": {
              "color": "#EBF0F8"
             },
             "line": {
              "color": "white"
             }
            },
            "header": {
             "fill": {
              "color": "#C8D4E3"
             },
             "line": {
              "color": "white"
             }
            },
            "type": "table"
           }
          ]
         },
         "layout": {
          "annotationdefaults": {
           "arrowcolor": "#2a3f5f",
           "arrowhead": 0,
           "arrowwidth": 1
          },
          "autotypenumbers": "strict",
          "coloraxis": {
           "colorbar": {
            "outlinewidth": 0,
            "ticks": ""
           }
          },
          "colorscale": {
           "diverging": [
            [
             0,
             "#8e0152"
            ],
            [
             0.1,
             "#c51b7d"
            ],
            [
             0.2,
             "#de77ae"
            ],
            [
             0.3,
             "#f1b6da"
            ],
            [
             0.4,
             "#fde0ef"
            ],
            [
             0.5,
             "#f7f7f7"
            ],
            [
             0.6,
             "#e6f5d0"
            ],
            [
             0.7,
             "#b8e186"
            ],
            [
             0.8,
             "#7fbc41"
            ],
            [
             0.9,
             "#4d9221"
            ],
            [
             1,
             "#276419"
            ]
           ],
           "sequential": [
            [
             0,
             "#0d0887"
            ],
            [
             0.1111111111111111,
             "#46039f"
            ],
            [
             0.2222222222222222,
             "#7201a8"
            ],
            [
             0.3333333333333333,
             "#9c179e"
            ],
            [
             0.4444444444444444,
             "#bd3786"
            ],
            [
             0.5555555555555556,
             "#d8576b"
            ],
            [
             0.6666666666666666,
             "#ed7953"
            ],
            [
             0.7777777777777778,
             "#fb9f3a"
            ],
            [
             0.8888888888888888,
             "#fdca26"
            ],
            [
             1,
             "#f0f921"
            ]
           ],
           "sequentialminus": [
            [
             0,
             "#0d0887"
            ],
            [
             0.1111111111111111,
             "#46039f"
            ],
            [
             0.2222222222222222,
             "#7201a8"
            ],
            [
             0.3333333333333333,
             "#9c179e"
            ],
            [
             0.4444444444444444,
             "#bd3786"
            ],
            [
             0.5555555555555556,
             "#d8576b"
            ],
            [
             0.6666666666666666,
             "#ed7953"
            ],
            [
             0.7777777777777778,
             "#fb9f3a"
            ],
            [
             0.8888888888888888,
             "#fdca26"
            ],
            [
             1,
             "#f0f921"
            ]
           ]
          },
          "colorway": [
           "#636efa",
           "#EF553B",
           "#00cc96",
           "#ab63fa",
           "#FFA15A",
           "#19d3f3",
           "#FF6692",
           "#B6E880",
           "#FF97FF",
           "#FECB52"
          ],
          "font": {
           "color": "#2a3f5f"
          },
          "geo": {
           "bgcolor": "white",
           "lakecolor": "white",
           "landcolor": "#E5ECF6",
           "showlakes": true,
           "showland": true,
           "subunitcolor": "white"
          },
          "hoverlabel": {
           "align": "left"
          },
          "hovermode": "closest",
          "mapbox": {
           "style": "light"
          },
          "paper_bgcolor": "white",
          "plot_bgcolor": "#E5ECF6",
          "polar": {
           "angularaxis": {
            "gridcolor": "white",
            "linecolor": "white",
            "ticks": ""
           },
           "bgcolor": "#E5ECF6",
           "radialaxis": {
            "gridcolor": "white",
            "linecolor": "white",
            "ticks": ""
           }
          },
          "scene": {
           "xaxis": {
            "backgroundcolor": "#E5ECF6",
            "gridcolor": "white",
            "gridwidth": 2,
            "linecolor": "white",
            "showbackground": true,
            "ticks": "",
            "zerolinecolor": "white"
           },
           "yaxis": {
            "backgroundcolor": "#E5ECF6",
            "gridcolor": "white",
            "gridwidth": 2,
            "linecolor": "white",
            "showbackground": true,
            "ticks": "",
            "zerolinecolor": "white"
           },
           "zaxis": {
            "backgroundcolor": "#E5ECF6",
            "gridcolor": "white",
            "gridwidth": 2,
            "linecolor": "white",
            "showbackground": true,
            "ticks": "",
            "zerolinecolor": "white"
           }
          },
          "shapedefaults": {
           "line": {
            "color": "#2a3f5f"
           }
          },
          "ternary": {
           "aaxis": {
            "gridcolor": "white",
            "linecolor": "white",
            "ticks": ""
           },
           "baxis": {
            "gridcolor": "white",
            "linecolor": "white",
            "ticks": ""
           },
           "bgcolor": "#E5ECF6",
           "caxis": {
            "gridcolor": "white",
            "linecolor": "white",
            "ticks": ""
           }
          },
          "title": {
           "x": 0.05
          },
          "xaxis": {
           "automargin": true,
           "gridcolor": "white",
           "linecolor": "white",
           "ticks": "",
           "title": {
            "standoff": 15
           },
           "zerolinecolor": "white",
           "zerolinewidth": 2
          },
          "yaxis": {
           "automargin": true,
           "gridcolor": "white",
           "linecolor": "white",
           "ticks": "",
           "title": {
            "standoff": 15
           },
           "zerolinecolor": "white",
           "zerolinewidth": 2
          }
         }
        },
        "title": {
         "text": "Histogram of pteropods biomass entries "
        },
        "xaxis": {
         "anchor": "y",
         "domain": [
          0,
          1
         ],
         "title": {
          "text": "pteropod biomass (log10 gC/m2)"
         }
        },
        "yaxis": {
         "anchor": "x",
         "domain": [
          0,
          1
         ],
         "title": {
          "text": "count"
         }
        }
       }
      }
     },
     "metadata": {},
     "output_type": "display_data"
    }
   ],
   "source": [
    "ds_pter_2deg_no_0=ds_pter_2deg.where(ds_pter_2deg!=0,np.nan)\n",
    "flat_data = ds_pter_2deg_no_0.values.flatten()\n",
    "valid_data = flat_data[~np.isnan(flat_data)]\n",
    "\n",
    "df = pd.DataFrame({\"pteropod biomass (log10 gC/m2)\": valid_data})\n",
    "\n",
    "fig = px.histogram(\n",
    "    np.log10(df*0.4),\n",
    "    x=\"pteropod biomass (log10 gC/m2)\",\n",
    "    nbins=50,\n",
    "    labels={\"count\": \"frequency\"},\n",
    "    title=\"Histogram of pteropods biomass entries \"\n",
    ")\n",
    "fig.show()\n",
    "\n"
   ]
  },
  {
   "cell_type": "markdown",
   "id": "b272feec",
   "metadata": {},
   "source": [
    "## Removing outliers"
   ]
  },
  {
   "cell_type": "markdown",
   "id": "eb186c83",
   "metadata": {},
   "source": [
    "Tukey's fence :\n",
    "$$[Q1-k(Q3-Q1),Q3+k(Q3-Q1)]$$\n",
    "$k$=1.5 \"regular outliers\", 3 for \"far outliers\""
   ]
  },
  {
   "cell_type": "code",
   "execution_count": null,
   "id": "df0635f0",
   "metadata": {},
   "outputs": [],
   "source": [
    "# # Conversion dry weight-> carbon weight\n",
    "# ds_pter_gCm2=ds_pter_2deg_no_0*0.4\n",
    "# WARNING have been done above ! in set up"
   ]
  },
  {
   "cell_type": "code",
   "execution_count": 254,
   "id": "41c14cb6",
   "metadata": {},
   "outputs": [],
   "source": [
    "#Removing outliers\n",
    "def remove_outliers_tukey(data, k=1.5):\n",
    "    q1 = data.quantile(0.25)\n",
    "    q3 = data.quantile(0.75)\n",
    "    iqr = q3 - q1\n",
    "    lower_bound = q1 - k * iqr\n",
    "    upper_bound = q3 + k * iqr\n",
    "    return data.where((data >= lower_bound) & (data <= upper_bound))\n"
   ]
  },
  {
   "cell_type": "code",
   "execution_count": 255,
   "id": "4730dea7",
   "metadata": {},
   "outputs": [],
   "source": [
    "def remove_outliers_log_tukey(data, k=1.5):\n",
    "    # Log-transform the data\n",
    "    log_data = np.log(data)\n",
    "\n",
    "    #Compute IQR on log-transformed data\n",
    "    q1 = log_data.quantile(0.25)\n",
    "    q3 = log_data.quantile(0.75)\n",
    "    iqr = q3 - q1\n",
    "    lower_bound = q1 - k * iqr\n",
    "    upper_bound = q3 + k * iqr\n",
    "\n",
    "    # Mask outliers in log space\n",
    "    log_filtered = log_data.where((log_data >= lower_bound) & (log_data <= upper_bound))\n",
    "\n",
    "    # Step 4 (optional): Back-transform\n",
    "    return np.exp(log_filtered)\n"
   ]
  },
  {
   "cell_type": "code",
   "execution_count": 256,
   "id": "f885735f",
   "metadata": {},
   "outputs": [],
   "source": [
    "ds_pter_cleaned = remove_outliers_log_tukey(ds_pter_gCm2,k=0.75)"
   ]
  },
  {
   "cell_type": "code",
   "execution_count": 258,
   "id": "bc202fd8",
   "metadata": {},
   "outputs": [
    {
     "data": {
      "text/html": [
       "<div><svg style=\"position: absolute; width: 0; height: 0; overflow: hidden\">\n",
       "<defs>\n",
       "<symbol id=\"icon-database\" viewBox=\"0 0 32 32\">\n",
       "<path d=\"M16 0c-8.837 0-16 2.239-16 5v4c0 2.761 7.163 5 16 5s16-2.239 16-5v-4c0-2.761-7.163-5-16-5z\"></path>\n",
       "<path d=\"M16 17c-8.837 0-16-2.239-16-5v6c0 2.761 7.163 5 16 5s16-2.239 16-5v-6c0 2.761-7.163 5-16 5z\"></path>\n",
       "<path d=\"M16 26c-8.837 0-16-2.239-16-5v6c0 2.761 7.163 5 16 5s16-2.239 16-5v-6c0 2.761-7.163 5-16 5z\"></path>\n",
       "</symbol>\n",
       "<symbol id=\"icon-file-text2\" viewBox=\"0 0 32 32\">\n",
       "<path d=\"M28.681 7.159c-0.694-0.947-1.662-2.053-2.724-3.116s-2.169-2.030-3.116-2.724c-1.612-1.182-2.393-1.319-2.841-1.319h-15.5c-1.378 0-2.5 1.121-2.5 2.5v27c0 1.378 1.122 2.5 2.5 2.5h23c1.378 0 2.5-1.122 2.5-2.5v-19.5c0-0.448-0.137-1.23-1.319-2.841zM24.543 5.457c0.959 0.959 1.712 1.825 2.268 2.543h-4.811v-4.811c0.718 0.556 1.584 1.309 2.543 2.268zM28 29.5c0 0.271-0.229 0.5-0.5 0.5h-23c-0.271 0-0.5-0.229-0.5-0.5v-27c0-0.271 0.229-0.5 0.5-0.5 0 0 15.499-0 15.5 0v7c0 0.552 0.448 1 1 1h7v19.5z\"></path>\n",
       "<path d=\"M23 26h-14c-0.552 0-1-0.448-1-1s0.448-1 1-1h14c0.552 0 1 0.448 1 1s-0.448 1-1 1z\"></path>\n",
       "<path d=\"M23 22h-14c-0.552 0-1-0.448-1-1s0.448-1 1-1h14c0.552 0 1 0.448 1 1s-0.448 1-1 1z\"></path>\n",
       "<path d=\"M23 18h-14c-0.552 0-1-0.448-1-1s0.448-1 1-1h14c0.552 0 1 0.448 1 1s-0.448 1-1 1z\"></path>\n",
       "</symbol>\n",
       "</defs>\n",
       "</svg>\n",
       "<style>/* CSS stylesheet for displaying xarray objects in jupyterlab.\n",
       " *\n",
       " */\n",
       "\n",
       ":root {\n",
       "  --xr-font-color0: var(--jp-content-font-color0, rgba(0, 0, 0, 1));\n",
       "  --xr-font-color2: var(--jp-content-font-color2, rgba(0, 0, 0, 0.54));\n",
       "  --xr-font-color3: var(--jp-content-font-color3, rgba(0, 0, 0, 0.38));\n",
       "  --xr-border-color: var(--jp-border-color2, #e0e0e0);\n",
       "  --xr-disabled-color: var(--jp-layout-color3, #bdbdbd);\n",
       "  --xr-background-color: var(--jp-layout-color0, white);\n",
       "  --xr-background-color-row-even: var(--jp-layout-color1, white);\n",
       "  --xr-background-color-row-odd: var(--jp-layout-color2, #eeeeee);\n",
       "}\n",
       "\n",
       "html[theme=\"dark\"],\n",
       "html[data-theme=\"dark\"],\n",
       "body[data-theme=\"dark\"],\n",
       "body.vscode-dark {\n",
       "  --xr-font-color0: rgba(255, 255, 255, 1);\n",
       "  --xr-font-color2: rgba(255, 255, 255, 0.54);\n",
       "  --xr-font-color3: rgba(255, 255, 255, 0.38);\n",
       "  --xr-border-color: #1f1f1f;\n",
       "  --xr-disabled-color: #515151;\n",
       "  --xr-background-color: #111111;\n",
       "  --xr-background-color-row-even: #111111;\n",
       "  --xr-background-color-row-odd: #313131;\n",
       "}\n",
       "\n",
       ".xr-wrap {\n",
       "  display: block !important;\n",
       "  min-width: 300px;\n",
       "  max-width: 700px;\n",
       "}\n",
       "\n",
       ".xr-text-repr-fallback {\n",
       "  /* fallback to plain text repr when CSS is not injected (untrusted notebook) */\n",
       "  display: none;\n",
       "}\n",
       "\n",
       ".xr-header {\n",
       "  padding-top: 6px;\n",
       "  padding-bottom: 6px;\n",
       "  margin-bottom: 4px;\n",
       "  border-bottom: solid 1px var(--xr-border-color);\n",
       "}\n",
       "\n",
       ".xr-header > div,\n",
       ".xr-header > ul {\n",
       "  display: inline;\n",
       "  margin-top: 0;\n",
       "  margin-bottom: 0;\n",
       "}\n",
       "\n",
       ".xr-obj-type,\n",
       ".xr-array-name {\n",
       "  margin-left: 2px;\n",
       "  margin-right: 10px;\n",
       "}\n",
       "\n",
       ".xr-obj-type {\n",
       "  color: var(--xr-font-color2);\n",
       "}\n",
       "\n",
       ".xr-sections {\n",
       "  padding-left: 0 !important;\n",
       "  display: grid;\n",
       "  grid-template-columns: 150px auto auto 1fr 0 20px 0 20px;\n",
       "}\n",
       "\n",
       ".xr-section-item {\n",
       "  display: contents;\n",
       "}\n",
       "\n",
       ".xr-section-item input {\n",
       "  display: inline-block;\n",
       "  opacity: 0;\n",
       "  height: 0;\n",
       "}\n",
       "\n",
       ".xr-section-item input + label {\n",
       "  color: var(--xr-disabled-color);\n",
       "}\n",
       "\n",
       ".xr-section-item input:enabled + label {\n",
       "  cursor: pointer;\n",
       "  color: var(--xr-font-color2);\n",
       "}\n",
       "\n",
       ".xr-section-item input:focus + label {\n",
       "  border: 2px solid var(--xr-font-color0);\n",
       "}\n",
       "\n",
       ".xr-section-item input:enabled + label:hover {\n",
       "  color: var(--xr-font-color0);\n",
       "}\n",
       "\n",
       ".xr-section-summary {\n",
       "  grid-column: 1;\n",
       "  color: var(--xr-font-color2);\n",
       "  font-weight: 500;\n",
       "}\n",
       "\n",
       ".xr-section-summary > span {\n",
       "  display: inline-block;\n",
       "  padding-left: 0.5em;\n",
       "}\n",
       "\n",
       ".xr-section-summary-in:disabled + label {\n",
       "  color: var(--xr-font-color2);\n",
       "}\n",
       "\n",
       ".xr-section-summary-in + label:before {\n",
       "  display: inline-block;\n",
       "  content: \"►\";\n",
       "  font-size: 11px;\n",
       "  width: 15px;\n",
       "  text-align: center;\n",
       "}\n",
       "\n",
       ".xr-section-summary-in:disabled + label:before {\n",
       "  color: var(--xr-disabled-color);\n",
       "}\n",
       "\n",
       ".xr-section-summary-in:checked + label:before {\n",
       "  content: \"▼\";\n",
       "}\n",
       "\n",
       ".xr-section-summary-in:checked + label > span {\n",
       "  display: none;\n",
       "}\n",
       "\n",
       ".xr-section-summary,\n",
       ".xr-section-inline-details {\n",
       "  padding-top: 4px;\n",
       "  padding-bottom: 4px;\n",
       "}\n",
       "\n",
       ".xr-section-inline-details {\n",
       "  grid-column: 2 / -1;\n",
       "}\n",
       "\n",
       ".xr-section-details {\n",
       "  display: none;\n",
       "  grid-column: 1 / -1;\n",
       "  margin-bottom: 5px;\n",
       "}\n",
       "\n",
       ".xr-section-summary-in:checked ~ .xr-section-details {\n",
       "  display: contents;\n",
       "}\n",
       "\n",
       ".xr-array-wrap {\n",
       "  grid-column: 1 / -1;\n",
       "  display: grid;\n",
       "  grid-template-columns: 20px auto;\n",
       "}\n",
       "\n",
       ".xr-array-wrap > label {\n",
       "  grid-column: 1;\n",
       "  vertical-align: top;\n",
       "}\n",
       "\n",
       ".xr-preview {\n",
       "  color: var(--xr-font-color3);\n",
       "}\n",
       "\n",
       ".xr-array-preview,\n",
       ".xr-array-data {\n",
       "  padding: 0 5px !important;\n",
       "  grid-column: 2;\n",
       "}\n",
       "\n",
       ".xr-array-data,\n",
       ".xr-array-in:checked ~ .xr-array-preview {\n",
       "  display: none;\n",
       "}\n",
       "\n",
       ".xr-array-in:checked ~ .xr-array-data,\n",
       ".xr-array-preview {\n",
       "  display: inline-block;\n",
       "}\n",
       "\n",
       ".xr-dim-list {\n",
       "  display: inline-block !important;\n",
       "  list-style: none;\n",
       "  padding: 0 !important;\n",
       "  margin: 0;\n",
       "}\n",
       "\n",
       ".xr-dim-list li {\n",
       "  display: inline-block;\n",
       "  padding: 0;\n",
       "  margin: 0;\n",
       "}\n",
       "\n",
       ".xr-dim-list:before {\n",
       "  content: \"(\";\n",
       "}\n",
       "\n",
       ".xr-dim-list:after {\n",
       "  content: \")\";\n",
       "}\n",
       "\n",
       ".xr-dim-list li:not(:last-child):after {\n",
       "  content: \",\";\n",
       "  padding-right: 5px;\n",
       "}\n",
       "\n",
       ".xr-has-index {\n",
       "  font-weight: bold;\n",
       "}\n",
       "\n",
       ".xr-var-list,\n",
       ".xr-var-item {\n",
       "  display: contents;\n",
       "}\n",
       "\n",
       ".xr-var-item > div,\n",
       ".xr-var-item label,\n",
       ".xr-var-item > .xr-var-name span {\n",
       "  background-color: var(--xr-background-color-row-even);\n",
       "  margin-bottom: 0;\n",
       "}\n",
       "\n",
       ".xr-var-item > .xr-var-name:hover span {\n",
       "  padding-right: 5px;\n",
       "}\n",
       "\n",
       ".xr-var-list > li:nth-child(odd) > div,\n",
       ".xr-var-list > li:nth-child(odd) > label,\n",
       ".xr-var-list > li:nth-child(odd) > .xr-var-name span {\n",
       "  background-color: var(--xr-background-color-row-odd);\n",
       "}\n",
       "\n",
       ".xr-var-name {\n",
       "  grid-column: 1;\n",
       "}\n",
       "\n",
       ".xr-var-dims {\n",
       "  grid-column: 2;\n",
       "}\n",
       "\n",
       ".xr-var-dtype {\n",
       "  grid-column: 3;\n",
       "  text-align: right;\n",
       "  color: var(--xr-font-color2);\n",
       "}\n",
       "\n",
       ".xr-var-preview {\n",
       "  grid-column: 4;\n",
       "}\n",
       "\n",
       ".xr-index-preview {\n",
       "  grid-column: 2 / 5;\n",
       "  color: var(--xr-font-color2);\n",
       "}\n",
       "\n",
       ".xr-var-name,\n",
       ".xr-var-dims,\n",
       ".xr-var-dtype,\n",
       ".xr-preview,\n",
       ".xr-attrs dt {\n",
       "  white-space: nowrap;\n",
       "  overflow: hidden;\n",
       "  text-overflow: ellipsis;\n",
       "  padding-right: 10px;\n",
       "}\n",
       "\n",
       ".xr-var-name:hover,\n",
       ".xr-var-dims:hover,\n",
       ".xr-var-dtype:hover,\n",
       ".xr-attrs dt:hover {\n",
       "  overflow: visible;\n",
       "  width: auto;\n",
       "  z-index: 1;\n",
       "}\n",
       "\n",
       ".xr-var-attrs,\n",
       ".xr-var-data,\n",
       ".xr-index-data {\n",
       "  display: none;\n",
       "  background-color: var(--xr-background-color) !important;\n",
       "  padding-bottom: 5px !important;\n",
       "}\n",
       "\n",
       ".xr-var-attrs-in:checked ~ .xr-var-attrs,\n",
       ".xr-var-data-in:checked ~ .xr-var-data,\n",
       ".xr-index-data-in:checked ~ .xr-index-data {\n",
       "  display: block;\n",
       "}\n",
       "\n",
       ".xr-var-data > table {\n",
       "  float: right;\n",
       "}\n",
       "\n",
       ".xr-var-name span,\n",
       ".xr-var-data,\n",
       ".xr-index-name div,\n",
       ".xr-index-data,\n",
       ".xr-attrs {\n",
       "  padding-left: 25px !important;\n",
       "}\n",
       "\n",
       ".xr-attrs,\n",
       ".xr-var-attrs,\n",
       ".xr-var-data,\n",
       ".xr-index-data {\n",
       "  grid-column: 1 / -1;\n",
       "}\n",
       "\n",
       "dl.xr-attrs {\n",
       "  padding: 0;\n",
       "  margin: 0;\n",
       "  display: grid;\n",
       "  grid-template-columns: 125px auto;\n",
       "}\n",
       "\n",
       ".xr-attrs dt,\n",
       ".xr-attrs dd {\n",
       "  padding: 0;\n",
       "  margin: 0;\n",
       "  float: left;\n",
       "  padding-right: 10px;\n",
       "  width: auto;\n",
       "}\n",
       "\n",
       ".xr-attrs dt {\n",
       "  font-weight: normal;\n",
       "  grid-column: 1;\n",
       "}\n",
       "\n",
       ".xr-attrs dt:hover span {\n",
       "  display: inline-block;\n",
       "  background: var(--xr-background-color);\n",
       "  padding-right: 10px;\n",
       "}\n",
       "\n",
       ".xr-attrs dd {\n",
       "  grid-column: 2;\n",
       "  white-space: pre-wrap;\n",
       "  word-break: break-all;\n",
       "}\n",
       "\n",
       ".xr-icon-database,\n",
       ".xr-icon-file-text2,\n",
       ".xr-no-icon {\n",
       "  display: inline-block;\n",
       "  vertical-align: middle;\n",
       "  width: 1em;\n",
       "  height: 1.5em !important;\n",
       "  stroke-width: 0;\n",
       "  stroke: currentColor;\n",
       "  fill: currentColor;\n",
       "}\n",
       "</style><pre class='xr-text-repr-fallback'>&lt;xarray.DataArray &#x27;pteropod_biomass_gm2&#x27; (time: 219)&gt; Size: 2kB\n",
       "array([0.019512  , 0.01923676, 0.01204543, 0.01403432, 0.02291596,\n",
       "       0.06877479, 0.10846298, 0.00662729, 0.04225665, 0.08944056,\n",
       "       0.04131939, 0.10220304, 0.09547449, 0.06839078, 0.17342597,\n",
       "       0.00254292, 0.04045245, 0.00643331, 0.32497321, 0.01207603,\n",
       "       0.01207333, 0.01967253, 0.01228606, 0.04725403, 0.10793938,\n",
       "       0.05125068, 0.05729804, 0.20568331, 0.10651501, 0.00657866,\n",
       "       0.01080516, 0.00176537, 0.00097739, 0.14007046, 0.23700341,\n",
       "       0.04694519, 0.22086996, 0.10496678, 0.02104525, 0.00973104,\n",
       "       0.00290685, 0.00158674, 0.00538865, 0.10763117, 0.22933886,\n",
       "       0.00260317, 0.00271113, 0.11088832, 0.17602365, 0.03622234,\n",
       "       0.11171446, 0.01817284, 0.0228522 , 0.00440673, 0.0192089 ,\n",
       "       0.00980422, 0.00970606, 0.00900269, 0.01680249, 0.01360869,\n",
       "       0.01063136, 0.13463231, 0.2310133 , 0.18784961, 0.03497972,\n",
       "       0.00341145, 0.03533125, 0.00734545, 0.01178339, 0.00343755,\n",
       "       0.00116429, 0.01271851, 0.00407814, 0.00531153, 0.05061618,\n",
       "       0.03797898, 0.02373807, 0.07372779, 0.18206058, 0.01328152,\n",
       "       0.16490272, 0.02901535, 0.00371403, 0.01168689, 0.02083432,\n",
       "       0.00679701, 0.0048889 , 0.00915169, 0.00610632, 0.00443478,\n",
       "       0.00317645, 0.00522119, 0.04122812, 0.00134433, 0.00104071,\n",
       "       0.02792673, 0.0233709 , 0.00562738, 0.00356056, 0.03036809,\n",
       "...\n",
       "       0.05120001, 0.06656074, 0.06912351, 0.00449981, 0.00973746,\n",
       "       0.00462046, 0.05145721, 0.03704209, 0.00165703, 0.002309  ,\n",
       "       0.00939291, 0.00395707, 0.36161708, 0.03935272, 0.00088977,\n",
       "       0.01986166, 0.00414353, 0.01643954, 0.0045773 , 0.00704662,\n",
       "       0.01899889, 0.01607669, 0.02744544, 0.09797197, 0.01204097,\n",
       "       0.00840043, 0.00305995, 0.00310269, 0.01502429, 0.22714665,\n",
       "       0.10138715, 0.09002148, 0.02400293, 0.04538473, 0.01529425,\n",
       "       0.00575086, 0.0059594 , 0.0046203 , 0.00879918, 0.00701364,\n",
       "       0.00201598, 0.00174202, 0.00786835, 0.10743699, 0.02681864,\n",
       "       0.01120395, 0.00763011, 0.11640755, 0.16747348, 0.01688999,\n",
       "       0.17642481, 0.35972613, 0.1556695 , 0.00821186, 0.00233462,\n",
       "       0.05468582, 0.00590875, 0.0244855 , 0.00841251, 0.03228134,\n",
       "       0.01228383, 0.0431243 , 0.21986773, 0.23497605, 0.15602056,\n",
       "       0.26068578, 0.00639883, 0.01027675, 0.0132009 , 0.01067227,\n",
       "       0.02451094, 0.01291738, 0.0028446 , 0.06144652, 0.00290853,\n",
       "       0.00929746, 0.00356991, 0.00359532, 0.04753668, 0.04659359,\n",
       "       0.00312414, 0.00210429, 0.00764048, 0.05642955, 0.01073639,\n",
       "       0.01776855, 0.00538274, 0.01979516, 0.00258478, 0.00163565,\n",
       "       0.01313341, 0.0722482 , 0.00462439, 0.01492047, 0.02719665,\n",
       "       0.01436667, 0.02008292, 0.00358127, 0.00348436])\n",
       "Coordinates:\n",
       "  * time     (time) datetime64[ns] 2kB 1998-01-19 1998-01-20 ... 2020-08-31</pre><div class='xr-wrap' style='display:none'><div class='xr-header'><div class='xr-obj-type'>xarray.DataArray</div><div class='xr-array-name'>'pteropod_biomass_gm2'</div><ul class='xr-dim-list'><li><span class='xr-has-index'>time</span>: 219</li></ul></div><ul class='xr-sections'><li class='xr-section-item'><div class='xr-array-wrap'><input id='section-c517e775-bedb-4de3-a94f-8d6411a7239c' class='xr-array-in' type='checkbox' checked><label for='section-c517e775-bedb-4de3-a94f-8d6411a7239c' title='Show/hide data repr'><svg class='icon xr-icon-database'><use xlink:href='#icon-database'></use></svg></label><div class='xr-array-preview xr-preview'><span>0.01951 0.01924 0.01205 0.01403 ... 0.01437 0.02008 0.003581 0.003484</span></div><div class='xr-array-data'><pre>array([0.019512  , 0.01923676, 0.01204543, 0.01403432, 0.02291596,\n",
       "       0.06877479, 0.10846298, 0.00662729, 0.04225665, 0.08944056,\n",
       "       0.04131939, 0.10220304, 0.09547449, 0.06839078, 0.17342597,\n",
       "       0.00254292, 0.04045245, 0.00643331, 0.32497321, 0.01207603,\n",
       "       0.01207333, 0.01967253, 0.01228606, 0.04725403, 0.10793938,\n",
       "       0.05125068, 0.05729804, 0.20568331, 0.10651501, 0.00657866,\n",
       "       0.01080516, 0.00176537, 0.00097739, 0.14007046, 0.23700341,\n",
       "       0.04694519, 0.22086996, 0.10496678, 0.02104525, 0.00973104,\n",
       "       0.00290685, 0.00158674, 0.00538865, 0.10763117, 0.22933886,\n",
       "       0.00260317, 0.00271113, 0.11088832, 0.17602365, 0.03622234,\n",
       "       0.11171446, 0.01817284, 0.0228522 , 0.00440673, 0.0192089 ,\n",
       "       0.00980422, 0.00970606, 0.00900269, 0.01680249, 0.01360869,\n",
       "       0.01063136, 0.13463231, 0.2310133 , 0.18784961, 0.03497972,\n",
       "       0.00341145, 0.03533125, 0.00734545, 0.01178339, 0.00343755,\n",
       "       0.00116429, 0.01271851, 0.00407814, 0.00531153, 0.05061618,\n",
       "       0.03797898, 0.02373807, 0.07372779, 0.18206058, 0.01328152,\n",
       "       0.16490272, 0.02901535, 0.00371403, 0.01168689, 0.02083432,\n",
       "       0.00679701, 0.0048889 , 0.00915169, 0.00610632, 0.00443478,\n",
       "       0.00317645, 0.00522119, 0.04122812, 0.00134433, 0.00104071,\n",
       "       0.02792673, 0.0233709 , 0.00562738, 0.00356056, 0.03036809,\n",
       "...\n",
       "       0.05120001, 0.06656074, 0.06912351, 0.00449981, 0.00973746,\n",
       "       0.00462046, 0.05145721, 0.03704209, 0.00165703, 0.002309  ,\n",
       "       0.00939291, 0.00395707, 0.36161708, 0.03935272, 0.00088977,\n",
       "       0.01986166, 0.00414353, 0.01643954, 0.0045773 , 0.00704662,\n",
       "       0.01899889, 0.01607669, 0.02744544, 0.09797197, 0.01204097,\n",
       "       0.00840043, 0.00305995, 0.00310269, 0.01502429, 0.22714665,\n",
       "       0.10138715, 0.09002148, 0.02400293, 0.04538473, 0.01529425,\n",
       "       0.00575086, 0.0059594 , 0.0046203 , 0.00879918, 0.00701364,\n",
       "       0.00201598, 0.00174202, 0.00786835, 0.10743699, 0.02681864,\n",
       "       0.01120395, 0.00763011, 0.11640755, 0.16747348, 0.01688999,\n",
       "       0.17642481, 0.35972613, 0.1556695 , 0.00821186, 0.00233462,\n",
       "       0.05468582, 0.00590875, 0.0244855 , 0.00841251, 0.03228134,\n",
       "       0.01228383, 0.0431243 , 0.21986773, 0.23497605, 0.15602056,\n",
       "       0.26068578, 0.00639883, 0.01027675, 0.0132009 , 0.01067227,\n",
       "       0.02451094, 0.01291738, 0.0028446 , 0.06144652, 0.00290853,\n",
       "       0.00929746, 0.00356991, 0.00359532, 0.04753668, 0.04659359,\n",
       "       0.00312414, 0.00210429, 0.00764048, 0.05642955, 0.01073639,\n",
       "       0.01776855, 0.00538274, 0.01979516, 0.00258478, 0.00163565,\n",
       "       0.01313341, 0.0722482 , 0.00462439, 0.01492047, 0.02719665,\n",
       "       0.01436667, 0.02008292, 0.00358127, 0.00348436])</pre></div></div></li><li class='xr-section-item'><input id='section-44a2371e-4159-42ef-9661-96f75250f1ed' class='xr-section-summary-in' type='checkbox'  checked><label for='section-44a2371e-4159-42ef-9661-96f75250f1ed' class='xr-section-summary' >Coordinates: <span>(1)</span></label><div class='xr-section-inline-details'></div><div class='xr-section-details'><ul class='xr-var-list'><li class='xr-var-item'><div class='xr-var-name'><span class='xr-has-index'>time</span></div><div class='xr-var-dims'>(time)</div><div class='xr-var-dtype'>datetime64[ns]</div><div class='xr-var-preview xr-preview'>1998-01-19 ... 2020-08-31</div><input id='attrs-1dde333b-7cc9-4020-9270-55822908f146' class='xr-var-attrs-in' type='checkbox' ><label for='attrs-1dde333b-7cc9-4020-9270-55822908f146' title='Show/Hide attributes'><svg class='icon xr-icon-file-text2'><use xlink:href='#icon-file-text2'></use></svg></label><input id='data-3e917dbb-34a2-4f64-bbbe-44ccb8133e86' class='xr-var-data-in' type='checkbox'><label for='data-3e917dbb-34a2-4f64-bbbe-44ccb8133e86' title='Show/Hide data repr'><svg class='icon xr-icon-database'><use xlink:href='#icon-database'></use></svg></label><div class='xr-var-attrs'><dl class='xr-attrs'><dt><span>standard_name :</span></dt><dd>time</dd><dt><span>long_name :</span></dt><dd>time</dd><dt><span>axis :</span></dt><dd>T</dd></dl></div><div class='xr-var-data'><pre>array([&#x27;1998-01-19T00:00:00.000000000&#x27;, &#x27;1998-01-20T00:00:00.000000000&#x27;,\n",
       "       &#x27;1998-02-21T00:00:00.000000000&#x27;, ..., &#x27;2020-08-14T00:00:00.000000000&#x27;,\n",
       "       &#x27;2020-08-30T00:00:00.000000000&#x27;, &#x27;2020-08-31T00:00:00.000000000&#x27;],\n",
       "      dtype=&#x27;datetime64[ns]&#x27;)</pre></div></li></ul></div></li><li class='xr-section-item'><input id='section-2c147f11-a512-4098-911a-fa17eca2d148' class='xr-section-summary-in' type='checkbox'  ><label for='section-2c147f11-a512-4098-911a-fa17eca2d148' class='xr-section-summary' >Indexes: <span>(1)</span></label><div class='xr-section-inline-details'></div><div class='xr-section-details'><ul class='xr-var-list'><li class='xr-var-item'><div class='xr-index-name'><div>time</div></div><div class='xr-index-preview'>PandasIndex</div><input type='checkbox' disabled/><label></label><input id='index-6129ac95-ab1a-44a2-b51b-7b3578f1e406' class='xr-index-data-in' type='checkbox'/><label for='index-6129ac95-ab1a-44a2-b51b-7b3578f1e406' title='Show/Hide index repr'><svg class='icon xr-icon-database'><use xlink:href='#icon-database'></use></svg></label><div class='xr-index-data'><pre>PandasIndex(DatetimeIndex([&#x27;1998-01-19&#x27;, &#x27;1998-01-20&#x27;, &#x27;1998-02-21&#x27;, &#x27;1998-03-03&#x27;,\n",
       "               &#x27;1998-04-08&#x27;, &#x27;1998-04-09&#x27;, &#x27;1998-05-13&#x27;, &#x27;1998-05-17&#x27;,\n",
       "               &#x27;1998-05-18&#x27;, &#x27;1998-05-19&#x27;,\n",
       "               ...\n",
       "               &#x27;2019-08-17&#x27;, &#x27;2019-09-03&#x27;, &#x27;2020-02-10&#x27;, &#x27;2020-02-11&#x27;,\n",
       "               &#x27;2020-06-26&#x27;, &#x27;2020-06-30&#x27;, &#x27;2020-07-05&#x27;, &#x27;2020-08-14&#x27;,\n",
       "               &#x27;2020-08-30&#x27;, &#x27;2020-08-31&#x27;],\n",
       "              dtype=&#x27;datetime64[ns]&#x27;, name=&#x27;time&#x27;, length=219, freq=None))</pre></div></li></ul></div></li><li class='xr-section-item'><input id='section-36512d94-4859-4b38-a8c6-f1b794dfcc06' class='xr-section-summary-in' type='checkbox' disabled ><label for='section-36512d94-4859-4b38-a8c6-f1b794dfcc06' class='xr-section-summary'  title='Expand/collapse section'>Attributes: <span>(0)</span></label><div class='xr-section-inline-details'></div><div class='xr-section-details'><dl class='xr-attrs'></dl></div></li></ul></div></div>"
      ],
      "text/plain": [
       "<xarray.DataArray 'pteropod_biomass_gm2' (time: 219)> Size: 2kB\n",
       "array([0.019512  , 0.01923676, 0.01204543, 0.01403432, 0.02291596,\n",
       "       0.06877479, 0.10846298, 0.00662729, 0.04225665, 0.08944056,\n",
       "       0.04131939, 0.10220304, 0.09547449, 0.06839078, 0.17342597,\n",
       "       0.00254292, 0.04045245, 0.00643331, 0.32497321, 0.01207603,\n",
       "       0.01207333, 0.01967253, 0.01228606, 0.04725403, 0.10793938,\n",
       "       0.05125068, 0.05729804, 0.20568331, 0.10651501, 0.00657866,\n",
       "       0.01080516, 0.00176537, 0.00097739, 0.14007046, 0.23700341,\n",
       "       0.04694519, 0.22086996, 0.10496678, 0.02104525, 0.00973104,\n",
       "       0.00290685, 0.00158674, 0.00538865, 0.10763117, 0.22933886,\n",
       "       0.00260317, 0.00271113, 0.11088832, 0.17602365, 0.03622234,\n",
       "       0.11171446, 0.01817284, 0.0228522 , 0.00440673, 0.0192089 ,\n",
       "       0.00980422, 0.00970606, 0.00900269, 0.01680249, 0.01360869,\n",
       "       0.01063136, 0.13463231, 0.2310133 , 0.18784961, 0.03497972,\n",
       "       0.00341145, 0.03533125, 0.00734545, 0.01178339, 0.00343755,\n",
       "       0.00116429, 0.01271851, 0.00407814, 0.00531153, 0.05061618,\n",
       "       0.03797898, 0.02373807, 0.07372779, 0.18206058, 0.01328152,\n",
       "       0.16490272, 0.02901535, 0.00371403, 0.01168689, 0.02083432,\n",
       "       0.00679701, 0.0048889 , 0.00915169, 0.00610632, 0.00443478,\n",
       "       0.00317645, 0.00522119, 0.04122812, 0.00134433, 0.00104071,\n",
       "       0.02792673, 0.0233709 , 0.00562738, 0.00356056, 0.03036809,\n",
       "...\n",
       "       0.05120001, 0.06656074, 0.06912351, 0.00449981, 0.00973746,\n",
       "       0.00462046, 0.05145721, 0.03704209, 0.00165703, 0.002309  ,\n",
       "       0.00939291, 0.00395707, 0.36161708, 0.03935272, 0.00088977,\n",
       "       0.01986166, 0.00414353, 0.01643954, 0.0045773 , 0.00704662,\n",
       "       0.01899889, 0.01607669, 0.02744544, 0.09797197, 0.01204097,\n",
       "       0.00840043, 0.00305995, 0.00310269, 0.01502429, 0.22714665,\n",
       "       0.10138715, 0.09002148, 0.02400293, 0.04538473, 0.01529425,\n",
       "       0.00575086, 0.0059594 , 0.0046203 , 0.00879918, 0.00701364,\n",
       "       0.00201598, 0.00174202, 0.00786835, 0.10743699, 0.02681864,\n",
       "       0.01120395, 0.00763011, 0.11640755, 0.16747348, 0.01688999,\n",
       "       0.17642481, 0.35972613, 0.1556695 , 0.00821186, 0.00233462,\n",
       "       0.05468582, 0.00590875, 0.0244855 , 0.00841251, 0.03228134,\n",
       "       0.01228383, 0.0431243 , 0.21986773, 0.23497605, 0.15602056,\n",
       "       0.26068578, 0.00639883, 0.01027675, 0.0132009 , 0.01067227,\n",
       "       0.02451094, 0.01291738, 0.0028446 , 0.06144652, 0.00290853,\n",
       "       0.00929746, 0.00356991, 0.00359532, 0.04753668, 0.04659359,\n",
       "       0.00312414, 0.00210429, 0.00764048, 0.05642955, 0.01073639,\n",
       "       0.01776855, 0.00538274, 0.01979516, 0.00258478, 0.00163565,\n",
       "       0.01313341, 0.0722482 , 0.00462439, 0.01492047, 0.02719665,\n",
       "       0.01436667, 0.02008292, 0.00358127, 0.00348436])\n",
       "Coordinates:\n",
       "  * time     (time) datetime64[ns] 2kB 1998-01-19 1998-01-20 ... 2020-08-31"
      ]
     },
     "execution_count": 258,
     "metadata": {},
     "output_type": "execute_result"
    }
   ],
   "source": [
    "ds_time_serie_cleaned=ds_pter_cleaned.mean(dim=[\"is_day\",\"latitude\", \"longitude\", \"depth\"],skipna=True)\n",
    "# remove nan\n",
    "mask = ~np.isnan(ds_time_serie_cleaned)\n",
    "ds_clean = ds_time_serie_cleaned[mask]\n",
    "ds_clean\n"
   ]
  },
  {
   "cell_type": "code",
   "execution_count": null,
   "id": "0bb4e6b1",
   "metadata": {},
   "outputs": [],
   "source": [
    "#ds_clean.to_netcdf('/data/rd_exchange/sroyer/SEAPOPYM/time_serie_pter_papa_1998_2020_clean_k_075.nc')"
   ]
  },
  {
   "cell_type": "code",
   "execution_count": 250,
   "id": "7d0e5cc1",
   "metadata": {},
   "outputs": [
    {
     "data": {
      "application/vnd.plotly.v1+json": {
       "config": {
        "plotlyServerURL": "https://plot.ly"
       },
       "data": [
        {
         "bingroup": "x",
         "hovertemplate": "pteropod biomass (gC/m2)=%{x}<br>count=%{y}<extra></extra>",
         "legendgroup": "",
         "marker": {
          "color": "#636efa",
          "pattern": {
           "shape": ""
          }
         },
         "name": "",
         "nbinsx": 50,
         "orientation": "v",
         "showlegend": false,
         "type": "histogram",
         "x": {
          "bdata": "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",
          "dtype": "f8"
         },
         "xaxis": "x",
         "yaxis": "y"
        }
       ],
       "layout": {
        "barmode": "relative",
        "legend": {
         "tracegroupgap": 0
        },
        "template": {
         "data": {
          "bar": [
           {
            "error_x": {
             "color": "#2a3f5f"
            },
            "error_y": {
             "color": "#2a3f5f"
            },
            "marker": {
             "line": {
              "color": "#E5ECF6",
              "width": 0.5
             },
             "pattern": {
              "fillmode": "overlay",
              "size": 10,
              "solidity": 0.2
             }
            },
            "type": "bar"
           }
          ],
          "barpolar": [
           {
            "marker": {
             "line": {
              "color": "#E5ECF6",
              "width": 0.5
             },
             "pattern": {
              "fillmode": "overlay",
              "size": 10,
              "solidity": 0.2
             }
            },
            "type": "barpolar"
           }
          ],
          "carpet": [
           {
            "aaxis": {
             "endlinecolor": "#2a3f5f",
             "gridcolor": "white",
             "linecolor": "white",
             "minorgridcolor": "white",
             "startlinecolor": "#2a3f5f"
            },
            "baxis": {
             "endlinecolor": "#2a3f5f",
             "gridcolor": "white",
             "linecolor": "white",
             "minorgridcolor": "white",
             "startlinecolor": "#2a3f5f"
            },
            "type": "carpet"
           }
          ],
          "choropleth": [
           {
            "colorbar": {
             "outlinewidth": 0,
             "ticks": ""
            },
            "type": "choropleth"
           }
          ],
          "contour": [
           {
            "colorbar": {
             "outlinewidth": 0,
             "ticks": ""
            },
            "colorscale": [
             [
              0,
              "#0d0887"
             ],
             [
              0.1111111111111111,
              "#46039f"
             ],
             [
              0.2222222222222222,
              "#7201a8"
             ],
             [
              0.3333333333333333,
              "#9c179e"
             ],
             [
              0.4444444444444444,
              "#bd3786"
             ],
             [
              0.5555555555555556,
              "#d8576b"
             ],
             [
              0.6666666666666666,
              "#ed7953"
             ],
             [
              0.7777777777777778,
              "#fb9f3a"
             ],
             [
              0.8888888888888888,
              "#fdca26"
             ],
             [
              1,
              "#f0f921"
             ]
            ],
            "type": "contour"
           }
          ],
          "contourcarpet": [
           {
            "colorbar": {
             "outlinewidth": 0,
             "ticks": ""
            },
            "type": "contourcarpet"
           }
          ],
          "heatmap": [
           {
            "colorbar": {
             "outlinewidth": 0,
             "ticks": ""
            },
            "colorscale": [
             [
              0,
              "#0d0887"
             ],
             [
              0.1111111111111111,
              "#46039f"
             ],
             [
              0.2222222222222222,
              "#7201a8"
             ],
             [
              0.3333333333333333,
              "#9c179e"
             ],
             [
              0.4444444444444444,
              "#bd3786"
             ],
             [
              0.5555555555555556,
              "#d8576b"
             ],
             [
              0.6666666666666666,
              "#ed7953"
             ],
             [
              0.7777777777777778,
              "#fb9f3a"
             ],
             [
              0.8888888888888888,
              "#fdca26"
             ],
             [
              1,
              "#f0f921"
             ]
            ],
            "type": "heatmap"
           }
          ],
          "histogram": [
           {
            "marker": {
             "pattern": {
              "fillmode": "overlay",
              "size": 10,
              "solidity": 0.2
             }
            },
            "type": "histogram"
           }
          ],
          "histogram2d": [
           {
            "colorbar": {
             "outlinewidth": 0,
             "ticks": ""
            },
            "colorscale": [
             [
              0,
              "#0d0887"
             ],
             [
              0.1111111111111111,
              "#46039f"
             ],
             [
              0.2222222222222222,
              "#7201a8"
             ],
             [
              0.3333333333333333,
              "#9c179e"
             ],
             [
              0.4444444444444444,
              "#bd3786"
             ],
             [
              0.5555555555555556,
              "#d8576b"
             ],
             [
              0.6666666666666666,
              "#ed7953"
             ],
             [
              0.7777777777777778,
              "#fb9f3a"
             ],
             [
              0.8888888888888888,
              "#fdca26"
             ],
             [
              1,
              "#f0f921"
             ]
            ],
            "type": "histogram2d"
           }
          ],
          "histogram2dcontour": [
           {
            "colorbar": {
             "outlinewidth": 0,
             "ticks": ""
            },
            "colorscale": [
             [
              0,
              "#0d0887"
             ],
             [
              0.1111111111111111,
              "#46039f"
             ],
             [
              0.2222222222222222,
              "#7201a8"
             ],
             [
              0.3333333333333333,
              "#9c179e"
             ],
             [
              0.4444444444444444,
              "#bd3786"
             ],
             [
              0.5555555555555556,
              "#d8576b"
             ],
             [
              0.6666666666666666,
              "#ed7953"
             ],
             [
              0.7777777777777778,
              "#fb9f3a"
             ],
             [
              0.8888888888888888,
              "#fdca26"
             ],
             [
              1,
              "#f0f921"
             ]
            ],
            "type": "histogram2dcontour"
           }
          ],
          "mesh3d": [
           {
            "colorbar": {
             "outlinewidth": 0,
             "ticks": ""
            },
            "type": "mesh3d"
           }
          ],
          "parcoords": [
           {
            "line": {
             "colorbar": {
              "outlinewidth": 0,
              "ticks": ""
             }
            },
            "type": "parcoords"
           }
          ],
          "pie": [
           {
            "automargin": true,
            "type": "pie"
           }
          ],
          "scatter": [
           {
            "fillpattern": {
             "fillmode": "overlay",
             "size": 10,
             "solidity": 0.2
            },
            "type": "scatter"
           }
          ],
          "scatter3d": [
           {
            "line": {
             "colorbar": {
              "outlinewidth": 0,
              "ticks": ""
             }
            },
            "marker": {
             "colorbar": {
              "outlinewidth": 0,
              "ticks": ""
             }
            },
            "type": "scatter3d"
           }
          ],
          "scattercarpet": [
           {
            "marker": {
             "colorbar": {
              "outlinewidth": 0,
              "ticks": ""
             }
            },
            "type": "scattercarpet"
           }
          ],
          "scattergeo": [
           {
            "marker": {
             "colorbar": {
              "outlinewidth": 0,
              "ticks": ""
             }
            },
            "type": "scattergeo"
           }
          ],
          "scattergl": [
           {
            "marker": {
             "colorbar": {
              "outlinewidth": 0,
              "ticks": ""
             }
            },
            "type": "scattergl"
           }
          ],
          "scattermap": [
           {
            "marker": {
             "colorbar": {
              "outlinewidth": 0,
              "ticks": ""
             }
            },
            "type": "scattermap"
           }
          ],
          "scattermapbox": [
           {
            "marker": {
             "colorbar": {
              "outlinewidth": 0,
              "ticks": ""
             }
            },
            "type": "scattermapbox"
           }
          ],
          "scatterpolar": [
           {
            "marker": {
             "colorbar": {
              "outlinewidth": 0,
              "ticks": ""
             }
            },
            "type": "scatterpolar"
           }
          ],
          "scatterpolargl": [
           {
            "marker": {
             "colorbar": {
              "outlinewidth": 0,
              "ticks": ""
             }
            },
            "type": "scatterpolargl"
           }
          ],
          "scatterternary": [
           {
            "marker": {
             "colorbar": {
              "outlinewidth": 0,
              "ticks": ""
             }
            },
            "type": "scatterternary"
           }
          ],
          "surface": [
           {
            "colorbar": {
             "outlinewidth": 0,
             "ticks": ""
            },
            "colorscale": [
             [
              0,
              "#0d0887"
             ],
             [
              0.1111111111111111,
              "#46039f"
             ],
             [
              0.2222222222222222,
              "#7201a8"
             ],
             [
              0.3333333333333333,
              "#9c179e"
             ],
             [
              0.4444444444444444,
              "#bd3786"
             ],
             [
              0.5555555555555556,
              "#d8576b"
             ],
             [
              0.6666666666666666,
              "#ed7953"
             ],
             [
              0.7777777777777778,
              "#fb9f3a"
             ],
             [
              0.8888888888888888,
              "#fdca26"
             ],
             [
              1,
              "#f0f921"
             ]
            ],
            "type": "surface"
           }
          ],
          "table": [
           {
            "cells": {
             "fill": {
              "color": "#EBF0F8"
             },
             "line": {
              "color": "white"
             }
            },
            "header": {
             "fill": {
              "color": "#C8D4E3"
             },
             "line": {
              "color": "white"
             }
            },
            "type": "table"
           }
          ]
         },
         "layout": {
          "annotationdefaults": {
           "arrowcolor": "#2a3f5f",
           "arrowhead": 0,
           "arrowwidth": 1
          },
          "autotypenumbers": "strict",
          "coloraxis": {
           "colorbar": {
            "outlinewidth": 0,
            "ticks": ""
           }
          },
          "colorscale": {
           "diverging": [
            [
             0,
             "#8e0152"
            ],
            [
             0.1,
             "#c51b7d"
            ],
            [
             0.2,
             "#de77ae"
            ],
            [
             0.3,
             "#f1b6da"
            ],
            [
             0.4,
             "#fde0ef"
            ],
            [
             0.5,
             "#f7f7f7"
            ],
            [
             0.6,
             "#e6f5d0"
            ],
            [
             0.7,
             "#b8e186"
            ],
            [
             0.8,
             "#7fbc41"
            ],
            [
             0.9,
             "#4d9221"
            ],
            [
             1,
             "#276419"
            ]
           ],
           "sequential": [
            [
             0,
             "#0d0887"
            ],
            [
             0.1111111111111111,
             "#46039f"
            ],
            [
             0.2222222222222222,
             "#7201a8"
            ],
            [
             0.3333333333333333,
             "#9c179e"
            ],
            [
             0.4444444444444444,
             "#bd3786"
            ],
            [
             0.5555555555555556,
             "#d8576b"
            ],
            [
             0.6666666666666666,
             "#ed7953"
            ],
            [
             0.7777777777777778,
             "#fb9f3a"
            ],
            [
             0.8888888888888888,
             "#fdca26"
            ],
            [
             1,
             "#f0f921"
            ]
           ],
           "sequentialminus": [
            [
             0,
             "#0d0887"
            ],
            [
             0.1111111111111111,
             "#46039f"
            ],
            [
             0.2222222222222222,
             "#7201a8"
            ],
            [
             0.3333333333333333,
             "#9c179e"
            ],
            [
             0.4444444444444444,
             "#bd3786"
            ],
            [
             0.5555555555555556,
             "#d8576b"
            ],
            [
             0.6666666666666666,
             "#ed7953"
            ],
            [
             0.7777777777777778,
             "#fb9f3a"
            ],
            [
             0.8888888888888888,
             "#fdca26"
            ],
            [
             1,
             "#f0f921"
            ]
           ]
          },
          "colorway": [
           "#636efa",
           "#EF553B",
           "#00cc96",
           "#ab63fa",
           "#FFA15A",
           "#19d3f3",
           "#FF6692",
           "#B6E880",
           "#FF97FF",
           "#FECB52"
          ],
          "font": {
           "color": "#2a3f5f"
          },
          "geo": {
           "bgcolor": "white",
           "lakecolor": "white",
           "landcolor": "#E5ECF6",
           "showlakes": true,
           "showland": true,
           "subunitcolor": "white"
          },
          "hoverlabel": {
           "align": "left"
          },
          "hovermode": "closest",
          "mapbox": {
           "style": "light"
          },
          "paper_bgcolor": "white",
          "plot_bgcolor": "#E5ECF6",
          "polar": {
           "angularaxis": {
            "gridcolor": "white",
            "linecolor": "white",
            "ticks": ""
           },
           "bgcolor": "#E5ECF6",
           "radialaxis": {
            "gridcolor": "white",
            "linecolor": "white",
            "ticks": ""
           }
          },
          "scene": {
           "xaxis": {
            "backgroundcolor": "#E5ECF6",
            "gridcolor": "white",
            "gridwidth": 2,
            "linecolor": "white",
            "showbackground": true,
            "ticks": "",
            "zerolinecolor": "white"
           },
           "yaxis": {
            "backgroundcolor": "#E5ECF6",
            "gridcolor": "white",
            "gridwidth": 2,
            "linecolor": "white",
            "showbackground": true,
            "ticks": "",
            "zerolinecolor": "white"
           },
           "zaxis": {
            "backgroundcolor": "#E5ECF6",
            "gridcolor": "white",
            "gridwidth": 2,
            "linecolor": "white",
            "showbackground": true,
            "ticks": "",
            "zerolinecolor": "white"
           }
          },
          "shapedefaults": {
           "line": {
            "color": "#2a3f5f"
           }
          },
          "ternary": {
           "aaxis": {
            "gridcolor": "white",
            "linecolor": "white",
            "ticks": ""
           },
           "baxis": {
            "gridcolor": "white",
            "linecolor": "white",
            "ticks": ""
           },
           "bgcolor": "#E5ECF6",
           "caxis": {
            "gridcolor": "white",
            "linecolor": "white",
            "ticks": ""
           }
          },
          "title": {
           "x": 0.05
          },
          "xaxis": {
           "automargin": true,
           "gridcolor": "white",
           "linecolor": "white",
           "ticks": "",
           "title": {
            "standoff": 15
           },
           "zerolinecolor": "white",
           "zerolinewidth": 2
          },
          "yaxis": {
           "automargin": true,
           "gridcolor": "white",
           "linecolor": "white",
           "ticks": "",
           "title": {
            "standoff": 15
           },
           "zerolinecolor": "white",
           "zerolinewidth": 2
          }
         }
        },
        "title": {
         "text": "Histogram of pteropods biomass entries (removing outliers with Tuckey fences) "
        },
        "xaxis": {
         "anchor": "y",
         "domain": [
          0,
          1
         ],
         "title": {
          "text": "pteropod biomass (gC/m2)"
         }
        },
        "yaxis": {
         "anchor": "x",
         "domain": [
          0,
          1
         ],
         "title": {
          "text": "count"
         }
        }
       }
      }
     },
     "metadata": {},
     "output_type": "display_data"
    }
   ],
   "source": [
    "flat_data = ds_pter_cleaned.values.flatten()\n",
    "valid_data = flat_data[~np.isnan(flat_data)]\n",
    "\n",
    "df = pd.DataFrame({\"pteropod biomass (gC/m2)\": valid_data})\n",
    "\n",
    "fig = px.histogram(\n",
    "    df*0.4,\n",
    "    x=\"pteropod biomass (gC/m2)\",\n",
    "    nbins=50,\n",
    "    labels={\"count\": \"frequency\"},\n",
    "    title=\"Histogram of pteropods biomass entries (removing outliers with Tuckey fences) \"\n",
    ")\n",
    "fig.show()\n",
    "\n"
   ]
  },
  {
   "cell_type": "code",
   "execution_count": 251,
   "id": "e6e71794",
   "metadata": {},
   "outputs": [
    {
     "data": {
      "application/vnd.plotly.v1+json": {
       "config": {
        "plotlyServerURL": "https://plot.ly"
       },
       "data": [
        {
         "bingroup": "x",
         "hovertemplate": "pteropod biomass (log10 gC/m2)=%{x}<br>count=%{y}<extra></extra>",
         "legendgroup": "",
         "marker": {
          "color": "#636efa",
          "pattern": {
           "shape": ""
          }
         },
         "name": "",
         "nbinsx": 50,
         "orientation": "v",
         "showlegend": false,
         "type": "histogram",
         "x": {
          "bdata": "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",
          "dtype": "f8"
         },
         "xaxis": "x",
         "yaxis": "y"
        }
       ],
       "layout": {
        "barmode": "relative",
        "legend": {
         "tracegroupgap": 0
        },
        "template": {
         "data": {
          "bar": [
           {
            "error_x": {
             "color": "#2a3f5f"
            },
            "error_y": {
             "color": "#2a3f5f"
            },
            "marker": {
             "line": {
              "color": "#E5ECF6",
              "width": 0.5
             },
             "pattern": {
              "fillmode": "overlay",
              "size": 10,
              "solidity": 0.2
             }
            },
            "type": "bar"
           }
          ],
          "barpolar": [
           {
            "marker": {
             "line": {
              "color": "#E5ECF6",
              "width": 0.5
             },
             "pattern": {
              "fillmode": "overlay",
              "size": 10,
              "solidity": 0.2
             }
            },
            "type": "barpolar"
           }
          ],
          "carpet": [
           {
            "aaxis": {
             "endlinecolor": "#2a3f5f",
             "gridcolor": "white",
             "linecolor": "white",
             "minorgridcolor": "white",
             "startlinecolor": "#2a3f5f"
            },
            "baxis": {
             "endlinecolor": "#2a3f5f",
             "gridcolor": "white",
             "linecolor": "white",
             "minorgridcolor": "white",
             "startlinecolor": "#2a3f5f"
            },
            "type": "carpet"
           }
          ],
          "choropleth": [
           {
            "colorbar": {
             "outlinewidth": 0,
             "ticks": ""
            },
            "type": "choropleth"
           }
          ],
          "contour": [
           {
            "colorbar": {
             "outlinewidth": 0,
             "ticks": ""
            },
            "colorscale": [
             [
              0,
              "#0d0887"
             ],
             [
              0.1111111111111111,
              "#46039f"
             ],
             [
              0.2222222222222222,
              "#7201a8"
             ],
             [
              0.3333333333333333,
              "#9c179e"
             ],
             [
              0.4444444444444444,
              "#bd3786"
             ],
             [
              0.5555555555555556,
              "#d8576b"
             ],
             [
              0.6666666666666666,
              "#ed7953"
             ],
             [
              0.7777777777777778,
              "#fb9f3a"
             ],
             [
              0.8888888888888888,
              "#fdca26"
             ],
             [
              1,
              "#f0f921"
             ]
            ],
            "type": "contour"
           }
          ],
          "contourcarpet": [
           {
            "colorbar": {
             "outlinewidth": 0,
             "ticks": ""
            },
            "type": "contourcarpet"
           }
          ],
          "heatmap": [
           {
            "colorbar": {
             "outlinewidth": 0,
             "ticks": ""
            },
            "colorscale": [
             [
              0,
              "#0d0887"
             ],
             [
              0.1111111111111111,
              "#46039f"
             ],
             [
              0.2222222222222222,
              "#7201a8"
             ],
             [
              0.3333333333333333,
              "#9c179e"
             ],
             [
              0.4444444444444444,
              "#bd3786"
             ],
             [
              0.5555555555555556,
              "#d8576b"
             ],
             [
              0.6666666666666666,
              "#ed7953"
             ],
             [
              0.7777777777777778,
              "#fb9f3a"
             ],
             [
              0.8888888888888888,
              "#fdca26"
             ],
             [
              1,
              "#f0f921"
             ]
            ],
            "type": "heatmap"
           }
          ],
          "histogram": [
           {
            "marker": {
             "pattern": {
              "fillmode": "overlay",
              "size": 10,
              "solidity": 0.2
             }
            },
            "type": "histogram"
           }
          ],
          "histogram2d": [
           {
            "colorbar": {
             "outlinewidth": 0,
             "ticks": ""
            },
            "colorscale": [
             [
              0,
              "#0d0887"
             ],
             [
              0.1111111111111111,
              "#46039f"
             ],
             [
              0.2222222222222222,
              "#7201a8"
             ],
             [
              0.3333333333333333,
              "#9c179e"
             ],
             [
              0.4444444444444444,
              "#bd3786"
             ],
             [
              0.5555555555555556,
              "#d8576b"
             ],
             [
              0.6666666666666666,
              "#ed7953"
             ],
             [
              0.7777777777777778,
              "#fb9f3a"
             ],
             [
              0.8888888888888888,
              "#fdca26"
             ],
             [
              1,
              "#f0f921"
             ]
            ],
            "type": "histogram2d"
           }
          ],
          "histogram2dcontour": [
           {
            "colorbar": {
             "outlinewidth": 0,
             "ticks": ""
            },
            "colorscale": [
             [
              0,
              "#0d0887"
             ],
             [
              0.1111111111111111,
              "#46039f"
             ],
             [
              0.2222222222222222,
              "#7201a8"
             ],
             [
              0.3333333333333333,
              "#9c179e"
             ],
             [
              0.4444444444444444,
              "#bd3786"
             ],
             [
              0.5555555555555556,
              "#d8576b"
             ],
             [
              0.6666666666666666,
              "#ed7953"
             ],
             [
              0.7777777777777778,
              "#fb9f3a"
             ],
             [
              0.8888888888888888,
              "#fdca26"
             ],
             [
              1,
              "#f0f921"
             ]
            ],
            "type": "histogram2dcontour"
           }
          ],
          "mesh3d": [
           {
            "colorbar": {
             "outlinewidth": 0,
             "ticks": ""
            },
            "type": "mesh3d"
           }
          ],
          "parcoords": [
           {
            "line": {
             "colorbar": {
              "outlinewidth": 0,
              "ticks": ""
             }
            },
            "type": "parcoords"
           }
          ],
          "pie": [
           {
            "automargin": true,
            "type": "pie"
           }
          ],
          "scatter": [
           {
            "fillpattern": {
             "fillmode": "overlay",
             "size": 10,
             "solidity": 0.2
            },
            "type": "scatter"
           }
          ],
          "scatter3d": [
           {
            "line": {
             "colorbar": {
              "outlinewidth": 0,
              "ticks": ""
             }
            },
            "marker": {
             "colorbar": {
              "outlinewidth": 0,
              "ticks": ""
             }
            },
            "type": "scatter3d"
           }
          ],
          "scattercarpet": [
           {
            "marker": {
             "colorbar": {
              "outlinewidth": 0,
              "ticks": ""
             }
            },
            "type": "scattercarpet"
           }
          ],
          "scattergeo": [
           {
            "marker": {
             "colorbar": {
              "outlinewidth": 0,
              "ticks": ""
             }
            },
            "type": "scattergeo"
           }
          ],
          "scattergl": [
           {
            "marker": {
             "colorbar": {
              "outlinewidth": 0,
              "ticks": ""
             }
            },
            "type": "scattergl"
           }
          ],
          "scattermap": [
           {
            "marker": {
             "colorbar": {
              "outlinewidth": 0,
              "ticks": ""
             }
            },
            "type": "scattermap"
           }
          ],
          "scattermapbox": [
           {
            "marker": {
             "colorbar": {
              "outlinewidth": 0,
              "ticks": ""
             }
            },
            "type": "scattermapbox"
           }
          ],
          "scatterpolar": [
           {
            "marker": {
             "colorbar": {
              "outlinewidth": 0,
              "ticks": ""
             }
            },
            "type": "scatterpolar"
           }
          ],
          "scatterpolargl": [
           {
            "marker": {
             "colorbar": {
              "outlinewidth": 0,
              "ticks": ""
             }
            },
            "type": "scatterpolargl"
           }
          ],
          "scatterternary": [
           {
            "marker": {
             "colorbar": {
              "outlinewidth": 0,
              "ticks": ""
             }
            },
            "type": "scatterternary"
           }
          ],
          "surface": [
           {
            "colorbar": {
             "outlinewidth": 0,
             "ticks": ""
            },
            "colorscale": [
             [
              0,
              "#0d0887"
             ],
             [
              0.1111111111111111,
              "#46039f"
             ],
             [
              0.2222222222222222,
              "#7201a8"
             ],
             [
              0.3333333333333333,
              "#9c179e"
             ],
             [
              0.4444444444444444,
              "#bd3786"
             ],
             [
              0.5555555555555556,
              "#d8576b"
             ],
             [
              0.6666666666666666,
              "#ed7953"
             ],
             [
              0.7777777777777778,
              "#fb9f3a"
             ],
             [
              0.8888888888888888,
              "#fdca26"
             ],
             [
              1,
              "#f0f921"
             ]
            ],
            "type": "surface"
           }
          ],
          "table": [
           {
            "cells": {
             "fill": {
              "color": "#EBF0F8"
             },
             "line": {
              "color": "white"
             }
            },
            "header": {
             "fill": {
              "color": "#C8D4E3"
             },
             "line": {
              "color": "white"
             }
            },
            "type": "table"
           }
          ]
         },
         "layout": {
          "annotationdefaults": {
           "arrowcolor": "#2a3f5f",
           "arrowhead": 0,
           "arrowwidth": 1
          },
          "autotypenumbers": "strict",
          "coloraxis": {
           "colorbar": {
            "outlinewidth": 0,
            "ticks": ""
           }
          },
          "colorscale": {
           "diverging": [
            [
             0,
             "#8e0152"
            ],
            [
             0.1,
             "#c51b7d"
            ],
            [
             0.2,
             "#de77ae"
            ],
            [
             0.3,
             "#f1b6da"
            ],
            [
             0.4,
             "#fde0ef"
            ],
            [
             0.5,
             "#f7f7f7"
            ],
            [
             0.6,
             "#e6f5d0"
            ],
            [
             0.7,
             "#b8e186"
            ],
            [
             0.8,
             "#7fbc41"
            ],
            [
             0.9,
             "#4d9221"
            ],
            [
             1,
             "#276419"
            ]
           ],
           "sequential": [
            [
             0,
             "#0d0887"
            ],
            [
             0.1111111111111111,
             "#46039f"
            ],
            [
             0.2222222222222222,
             "#7201a8"
            ],
            [
             0.3333333333333333,
             "#9c179e"
            ],
            [
             0.4444444444444444,
             "#bd3786"
            ],
            [
             0.5555555555555556,
             "#d8576b"
            ],
            [
             0.6666666666666666,
             "#ed7953"
            ],
            [
             0.7777777777777778,
             "#fb9f3a"
            ],
            [
             0.8888888888888888,
             "#fdca26"
            ],
            [
             1,
             "#f0f921"
            ]
           ],
           "sequentialminus": [
            [
             0,
             "#0d0887"
            ],
            [
             0.1111111111111111,
             "#46039f"
            ],
            [
             0.2222222222222222,
             "#7201a8"
            ],
            [
             0.3333333333333333,
             "#9c179e"
            ],
            [
             0.4444444444444444,
             "#bd3786"
            ],
            [
             0.5555555555555556,
             "#d8576b"
            ],
            [
             0.6666666666666666,
             "#ed7953"
            ],
            [
             0.7777777777777778,
             "#fb9f3a"
            ],
            [
             0.8888888888888888,
             "#fdca26"
            ],
            [
             1,
             "#f0f921"
            ]
           ]
          },
          "colorway": [
           "#636efa",
           "#EF553B",
           "#00cc96",
           "#ab63fa",
           "#FFA15A",
           "#19d3f3",
           "#FF6692",
           "#B6E880",
           "#FF97FF",
           "#FECB52"
          ],
          "font": {
           "color": "#2a3f5f"
          },
          "geo": {
           "bgcolor": "white",
           "lakecolor": "white",
           "landcolor": "#E5ECF6",
           "showlakes": true,
           "showland": true,
           "subunitcolor": "white"
          },
          "hoverlabel": {
           "align": "left"
          },
          "hovermode": "closest",
          "mapbox": {
           "style": "light"
          },
          "paper_bgcolor": "white",
          "plot_bgcolor": "#E5ECF6",
          "polar": {
           "angularaxis": {
            "gridcolor": "white",
            "linecolor": "white",
            "ticks": ""
           },
           "bgcolor": "#E5ECF6",
           "radialaxis": {
            "gridcolor": "white",
            "linecolor": "white",
            "ticks": ""
           }
          },
          "scene": {
           "xaxis": {
            "backgroundcolor": "#E5ECF6",
            "gridcolor": "white",
            "gridwidth": 2,
            "linecolor": "white",
            "showbackground": true,
            "ticks": "",
            "zerolinecolor": "white"
           },
           "yaxis": {
            "backgroundcolor": "#E5ECF6",
            "gridcolor": "white",
            "gridwidth": 2,
            "linecolor": "white",
            "showbackground": true,
            "ticks": "",
            "zerolinecolor": "white"
           },
           "zaxis": {
            "backgroundcolor": "#E5ECF6",
            "gridcolor": "white",
            "gridwidth": 2,
            "linecolor": "white",
            "showbackground": true,
            "ticks": "",
            "zerolinecolor": "white"
           }
          },
          "shapedefaults": {
           "line": {
            "color": "#2a3f5f"
           }
          },
          "ternary": {
           "aaxis": {
            "gridcolor": "white",
            "linecolor": "white",
            "ticks": ""
           },
           "baxis": {
            "gridcolor": "white",
            "linecolor": "white",
            "ticks": ""
           },
           "bgcolor": "#E5ECF6",
           "caxis": {
            "gridcolor": "white",
            "linecolor": "white",
            "ticks": ""
           }
          },
          "title": {
           "x": 0.05
          },
          "xaxis": {
           "automargin": true,
           "gridcolor": "white",
           "linecolor": "white",
           "ticks": "",
           "title": {
            "standoff": 15
           },
           "zerolinecolor": "white",
           "zerolinewidth": 2
          },
          "yaxis": {
           "automargin": true,
           "gridcolor": "white",
           "linecolor": "white",
           "ticks": "",
           "title": {
            "standoff": 15
           },
           "zerolinecolor": "white",
           "zerolinewidth": 2
          }
         }
        },
        "title": {
         "text": "Histogram of pteropods biomass entries (removing outliers with Tukey Fences)"
        },
        "xaxis": {
         "anchor": "y",
         "domain": [
          0,
          1
         ],
         "title": {
          "text": "pteropod biomass (log10 gC/m2)"
         }
        },
        "yaxis": {
         "anchor": "x",
         "domain": [
          0,
          1
         ],
         "title": {
          "text": "count"
         }
        }
       }
      }
     },
     "metadata": {},
     "output_type": "display_data"
    }
   ],
   "source": [
    "flat_data = ds_pter_cleaned.values.flatten()\n",
    "valid_data = flat_data[~np.isnan(flat_data)]\n",
    "\n",
    "df = pd.DataFrame({\"pteropod biomass (log10 gC/m2)\": valid_data})\n",
    "\n",
    "fig = px.histogram(\n",
    "    np.log10(df*0.4),\n",
    "    x=\"pteropod biomass (log10 gC/m2)\",\n",
    "    nbins=50,\n",
    "    labels={\"count\": \"frequency\"},\n",
    "    title=\"Histogram of pteropods biomass entries (removing outliers with Tukey Fences)\"\n",
    ")\n",
    "fig.show()\n",
    "\n"
   ]
  },
  {
   "cell_type": "code",
   "execution_count": 252,
   "id": "976b443b",
   "metadata": {},
   "outputs": [
    {
     "data": {
      "application/vnd.plotly.v1+json": {
       "config": {
        "plotlyServerURL": "https://plot.ly"
       },
       "data": [
        {
         "mode": "markers",
         "name": "1998",
         "showlegend": true,
         "type": "scatter",
         "x": {
          "bdata": "EwAUADQANgA3ADoAOwA+AGIAYwCFAIkAigCLAIwAkwCaAJwAnwCgAKQApgCoAKkArgCvALgAuQC6ALsAvAC9AL4AxwDKAMwA7wDwAPEA8gD0APgAGAEZARsBHgEfAQ==",
          "dtype": "i2"
         },
         "y": {
          "bdata": "oecjjRKDM0Dl5wAinDwzQKUhZ9NCFyhAAAAAAAAA+P8AAAAAAAD4/wAAAAAAAPj/AAAAAAAA+P++MSQ4khEsQOQDmGx86jZA9jUjMZYxUUAFlGVsoR1bQNFk+3BXghpADJNQ4dkgRUBF0C01MlxWQI0D27zhqERAExQlrv6MWUC5l6/3Xd5XQIU2sY0CGVFAAAAAAAAA+P8AAAAAAAD4/wAAAAAAAPj/AAAAAAAA+P8AAAAAAAD4/wAAAAAAAPj/AAAAAAAA+P8YO9mGoa1lQAAAAAAAAPj/AAAAAAAA+P8AAAAAAAD4/wAAAAAAAPj/AAAAAAAA+P8AAAAAAAD4/wAAAAAAAPj/sqi1CuRXBEBm6knI6TlEQAAAAAAAAPj/hIECO7W7GUC3j8BDkk90QAk6mufsJihAAAAAAAAA+P8AAAAAAAD4/wAAAAAAAPj/rXBgCowlKEAnN7PhKqwzQC3Bd/d2kihAAAAAAAAA+P8AAAAAAAD4/w==",
          "dtype": "f8"
         }
        },
        {
         "mode": "markers",
         "name": "1999",
         "showlegend": true,
         "type": "scatter",
         "x": {
          "bdata": "MQAzADQAgACBAIIAgwCMAJAAkQCpAKoAqwCsAK8AugC9AL4AvwDAAMEAwgDuAO8A8QDyAPUA9wD4APkA+gAOAR4B",
          "dtype": "i2"
         },
         "y": {
          "bdata": "AAAAAAAA+P8AAAAAAAD4/wAAAAAAAPj/86z/KoSgR0BcXFLAHvxaQHFDFSoWoElAWT58OCamTEDzTKyo3bVpQAAAAAAAAPj/AAAAAAAA+P8AAAAAAAD4/wAAAAAAAPj/AAAAAAAA+P/pUGH19aBaQIPpdhCLUBpA7DL6MD6cJUAAAAAAAAD4/wAAAAAAAPj/AAAAAAAA+P8AAAAAAAD4/wAAAAAAAPj/AAAAAAAA+P9tekYi+D78PwAAAAAAAPj/AAAAAAAA+P8AAAAAAAD4/wAAAAAAAPj/AAAAAAAA+P8AAAAAAAD4/wAAAAAAAPj/AAAAAAAA+P/pGUuQzEbvPwAAAAAAAPj/",
          "dtype": "f8"
         }
        },
        {
         "mode": "markers",
         "name": "2000",
         "showlegend": true,
         "type": "scatter",
         "x": {
          "bdata": "LgCAAIEAggCEAJoAnACdAKAAqQCqAKsAuQC6ALsAvAC9AMEAwgDXANgA2QDaANsA3gD6APsA/QD+AAEBAgENAQ4BDwEQARIBEwE=",
          "dtype": "i2"
         },
         "y": {
          "bdata": "AAAAAAAA+P+OABEvQYJhQIyUv+YboG1A+zxmIPx4R0CCPYDA1ptrQD9omLrfPVpAAAAAAAAA+P8AAAAAAAD4/wAAAAAAAPj/AAAAAAAA+P8AAAAAAAD4/wAAAAAAAPj/AAAAAAAA+P8AAAAAAAD4/wAAAAAAAPj/AAAAAAAA+P8AAAAAAAD4/wAAAAAAAPj/AAAAAAAA+P8AAAAAAAD4/wAAAAAAAPj/AAAAAAAA+P8AAAAAAAD4/wAAAAAAAPj/AAAAAAAA+P8tUWhjlQs1QAAAAAAAAPj/AAAAAAAA+P8AAAAAAAD4/wAAAAAAAPj/AAAAAAAA+P8AAAAAAAD4/wAAAAAAAPj/AAAAAAAA+P8AAAAAAAD4/5H/OUBKdiNAAAAAAAAA+P8=",
          "dtype": "f8"
         }
        },
        {
         "mode": "markers",
         "name": "2001",
         "showlegend": true,
         "type": "scatter",
         "x": {
          "bdata": "KAAqACsALwAwADIAUgCXAJkAmgCbAJwAnQCeAJ8AoAChAKIAowCnAKwArQCuAK8AuQC7AO0A8QAGAQkBCgEMAQ0BDgEPAREBFAE=",
          "dtype": "i2"
         },
         "y": {
          "bdata": "TDmrpzlBB0AAAAAAAAD4/wAAAAAAAPj/AAAAAAAA+P8AAAAAAAD4/wAAAAAAAPj/OZAvCEVj+T9eMpdD+40VQAAAAAAAAPj/AAAAAAAA+P8AAAAAAAD4/wAAAAAAAPj/AAAAAAAA+P8AAAAAAAD4/wAAAAAAAPj/AAAAAAAA+P8AAAAAAAD4/wAAAAAAAPj/AAAAAAAA+P8AAAAAAAD4/wAAAAAAAPj/AAAAAAAA+P8AAAAAAAD4/yBSICll6FpAAAAAAAAA+P8AAAAAAAD4/w4sVPbXqmxAAAAAAAAA+P8AAAAAAAD4/wAAAAAAAPj/AAAAAAAA+P8AAAAAAAD4/wAAAAAAAPj/AAAAAAAA+P8AAAAAAAD4/wAAAAAAAPj/fiwXMkjTBEA=",
          "dtype": "f8"
         }
        },
        {
         "mode": "markers",
         "name": "2002",
         "showlegend": true,
         "type": "scatter",
         "x": {
          "bdata": "JgAqACwALQAuAC8AQAB7AH0AfgCqALEAtgC3ALgAuQC6AMgAywDMAM0A5gDvAPAA8QDyAPYA+QD7AAYBCAEkASgB",
          "dtype": "i2"
         },
         "y": {
          "bdata": "AAAAAAAA+P8AAAAAAAD4/wAAAAAAAPj/AAAAAAAA+P8AAAAAAAD4/wAAAAAAAPj/XmYUaGWwBUD5K0w52rhbQOKTtr7BAGZAIyUrx3UcQkCr3De6ue1bQAAAAAAAAPj/TknfET8sMkAAAAAAAAD4/wAAAAAAAPj/AAAAAAAA+P8AAAAAAAD4/wAAAAAAAPj/AAAAAAAA+P8AAAAAAAD4/wAAAAAAAPj/d8QepynaNkDl1/v7fqARQPVKtjJ6NTNAAAAAAAAA+P8AAAAAAAD4/wAAAAAAAPj/AAAAAAAA+P8AAAAAAAD4/9bM3BnDmyNAAAAAAAAA+P8vtAGTgGkjQDmo3BxhASJA",
          "dtype": "f8"
         }
        },
        {
         "mode": "markers",
         "name": "2003",
         "showlegend": true,
         "type": "scatter",
         "x": {
          "bdata": "KwAtAC4ALwAwADQAiwCMAJUAlgCXAJgAmgCfAKAAoQCiAPQA9QD2APcA+QD6AA0BDgEPASsBLAE=",
          "dtype": "i2"
         },
         "y": {
          "bdata": "AAAAAAAA+P8AAAAAAAD4/wAAAAAAAPj/h/nqKnDNMECSUgmPpjcrQKHRbhxCQyVAwNsJ3zvUYEAAAAAAAAD4/w0lyvVs4GxA4gQlBzB7Z0AAAAAAAAD4/wAAAAAAAPj/AAAAAAAA+P8AAAAAAAD4/wAAAAAAAPj/j7M+amd9QUAAAAAAAAD4/0OGvculSgtAGIFdcmaqQUAAAAAAAAD4/wAAAAAAAPj/AAAAAAAA+P8AAAAAAAD4//Rcxpy9YR1APoPbOxiRJ0AeZDBEGoALQFGiwanxoPI/Aa1hsOBvKUA=",
          "dtype": "f8"
         }
        },
        {
         "mode": "markers",
         "name": "2004",
         "showlegend": true,
         "type": "scatter",
         "x": {
          "bdata": "MwA0ADUANwA6AJUAlgCaAJsAnQCeAKUA6QDqAOsA7ADuAPgA+QAsAQ==",
          "dtype": "i2"
         },
         "y": {
          "bdata": "aSUAeANQEEAAAAAAAAD4/wAAAAAAAPj/AAAAAAAA+P/BuTtZAj8VQFZMMwffTklAj/OHJ0/9QkA0Qj5B8rw3QAAAAAAAAPj/AAAAAAAA+P8AAAAAAAD4/wAAAAAAAPj/aEwTJ5RuUkAzB2w+8MFmQAAAAAAAAPj/AAAAAAAA+P8AAAAAAAD4/0dEl8cikCpA5XdRFOOcZEALFT5G7gM9QA==",
          "dtype": "f8"
         }
        },
        {
         "mode": "markers",
         "name": "2005",
         "showlegend": true,
         "type": "scatter",
         "x": {
          "bdata": "LAAtAC4ALwAxADIANQA2AEcASACTAJQAmgCdAJ4ApgDSAOEA5gDnAOgA6QDqAOsA7wDwAPsA/AA=",
          "dtype": "i2"
         },
         "y": {
          "bdata": "uBCNKla2DUBXK6idr18nQAAAAAAAAPj/AAAAAAAA+P8AAAAAAAD4/wAAAAAAAPj/AAAAAAAA+P8AAAAAAAD4/wAAAAAAAPj/AAAAAAAA+P8Ru15EltU0QLzMtKsiMBtAbe/cBzyOE0AAAAAAAAD4/wAAAAAAAPj/AAAAAAAA+P85+jKKqk0iQAAAAAAAAPj/Lyo9d99sGEAAAAAAAAD4/wAAAAAAAPj/AAAAAAAA+P8AAAAAAAD4/wAAAAAAAPj/AAAAAAAA+P8AAAAAAAD4/1TCorw3vRFAGOPw6F5pCUA=",
          "dtype": "f8"
         }
        },
        {
         "mode": "markers",
         "name": "2006",
         "showlegend": true,
         "type": "scatter",
         "x": {
          "bdata": "JQAoACkALABvAMMAxgDsAO8ACQEKAQsBDQEPARIBEwEVAQ==",
          "dtype": "i2"
         },
         "y": {
          "bdata": "W98zYYDiFEAAAAAAAAD4/wAAAAAAAPj/AAAAAAAA+P/tl7UoM51EQJCdEgtkgvU/AAAAAAAA+P/eTQisuqbwPwAAAAAAAPj/bVp7Rz7tO0BFsbf88l43QAAAAAAAAPj/AAAAAAAA+P8AAAAAAAD4/wAAAAAAAPj/AAAAAAAA+P8AAAAAAAD4/w==",
          "dtype": "f8"
         }
        },
        {
         "mode": "markers",
         "name": "2007",
         "showlegend": true,
         "type": "scatter",
         "x": {
          "bdata": "KQAqACsALgAvADEAkgCZAJoAmwCeAKwAsgCzALkAugC7ALwAvQDlAOYA5wDpAOoA+QD6AA==",
          "dtype": "i2"
         },
         "y": {
          "bdata": "y1vCdXCCFkAAAAAAAAD4/wAAAAAAAPj/AAAAAAAA+P8AAAAAAAD4/wAAAAAAAPj/7SyckwV8DEA/sbELO14+QAAAAAAAAPj/AAAAAAAA+P8AAAAAAAD4/wAAAAAAAPj/AAAAAAAA+P8AAAAAAAD4/wAAAAAAAPj/AAAAAAAA+P8AAAAAAAD4/wAAAAAAAPj/AAAAAAAA+P/LitMfl1IhQA1Kd3lEJD5AAAAAAAAA+P8AAAAAAAD4/wAAAAAAAPj/hOtSqNa7+D+aujYeT3EhQA==",
          "dtype": "f8"
         }
        },
        {
         "mode": "markers",
         "name": "2008",
         "showlegend": true,
         "type": "scatter",
         "x": {
          "bdata": "IQAiACMAJQApAJEAkgCZAJoAmwCdAJ8AuQC6ALwAvgDjAOQA5QDnAOkA9wD4APkAIgE=",
          "dtype": "i2"
         },
         "y": {
          "bdata": "XBDDhk/qEkDuZia3GTEEQAAAAAAAAPj/AAAAAAAA+P8AAAAAAAD4/xp2xVMs3wtASGJNiuXoOkDBKqnpUnMfQCLPLIUaDVBAAAAAAAAA+P8AAAAAAAD4/wAAAAAAAPj/AAAAAAAA+P8AAAAAAAD4/wAAAAAAAPj/AAAAAAAA+P+atwJpuiRIQCXFPG+fX0lAAAAAAAAA+P8AAAAAAAD4/wAAAAAAAPj/E+oRUNYVRkDq+sN0vJk6QCMkk+RitTxAAAAAAAAA+P8=",
          "dtype": "f8"
         }
        },
        {
         "mode": "markers",
         "name": "2009",
         "showlegend": true,
         "type": "scatter",
         "x": {
          "bdata": "HgAfACEAJACXAJgAnwCgAKEAogClAMAAwQDCAMMA6gDrAO4A7wDzAPwA/QA=",
          "dtype": "i2"
         },
         "y": {
          "bdata": "JKc1FJEiLkAI6hWyWOgSQAAAAAAAAPj/AAAAAAAA+P99fcTpa3NIQF6dXkjvVHFAaa85wbARXEAAAAAAAAD4/wAAAAAAAPj/AAAAAAAA+P8AAAAAAAD4/xghN9iZmUlAAAAAAAAA+P8AAAAAAAD4/wAAAAAAAPj/ZLaEHeOjUEAAAAAAAAD4/wAAAAAAAPj/AAAAAAAA+P8AAAAAAAD4/6W796rnR1FAtaV8KM7/EUA=",
          "dtype": "f8"
         }
        },
        {
         "mode": "markers",
         "name": "2010",
         "showlegend": true,
         "type": "scatter",
         "x": {
          "bdata": "JAAlACcAlwCfAKAAoQCiAKUAzADNAM8A0QDpAOoA6wDtAO4A+wD8AP0A",
          "dtype": "i2"
         },
         "y": {
          "bdata": "CI2Cv5N5I0AAAAAAAAD4/wAAAAAAAPj/heG93Vh7EkCYH1oChrpJQKHUpx5jhUJAAAAAAAAA+P8AAAAAAAD4/wAAAAAAAPj/AAAAAAAA+P8AAAAAAAD4/wAAAAAAAPj/AAAAAAAA+P8Rox4ALYP6P8+wLgXTeAJAAAAAAAAA+P8AAAAAAAD4/wAAAAAAAPj/AAAAAAAA+P+jY57/K8kiQAAAAAAAAPj/",
          "dtype": "f8"
         }
        },
        {
         "mode": "markers",
         "name": "2011",
         "showlegend": true,
         "type": "scatter",
         "x": {
          "bdata": "KQAqACsALQAvAJUAlgCcAJ0AnwCgAKQA5wDoAOoA6wDuAPkA+gD7AA==",
          "dtype": "i2"
         },
         "y": {
          "bdata": "AAAAAAAA+P+2BPoMFqgPQAAAAAAAAPj/AAAAAAAA+P8AAAAAAAD4/0+IgpHfmXZA4aPl6iWtQ0AAAAAAAAD4/w1wZOYCeew/AAAAAAAA+P8AAAAAAAD4/wAAAAAAAPj/sOg9gJXcM0AVDdyx+JIQQAAAAAAAAPj/AAAAAAAA+P8AAAAAAAD4//Kw6HKFcDBAS0cv1ydPEkC6ZOW2vC8cQA==",
          "dtype": "f8"
         }
        },
        {
         "mode": "markers",
         "name": "2012",
         "showlegend": true,
         "type": "scatter",
         "x": {
          "bdata": "KQAqACsALgAvAIgAiQCKAJIAlgCaAOYA6ADsAPcA+AD5AA==",
          "dtype": "i2"
         },
         "y": {
          "bdata": "AAAAAAAA+P8AAAAAAAD4/wAAAAAAAPj/AAAAAAAA+P8AAAAAAAD4/6ZPPWm3/zJA2KReIKITMECxWKEYCHI7QK/tmMY0flhAAAAAAAAA+P8AAAAAAAD4/4hruoj5FChAAAAAAAAA+P8AAAAAAAD4/4LOXZ4EzSBAAAAAAAAA+P9NMb9TxnoIQA==",
          "dtype": "f8"
         }
        },
        {
         "mode": "markers",
         "name": "2013",
         "showlegend": true,
         "type": "scatter",
         "x": {
          "bdata": "JgAnACgALAAtAJkAmgChAKIAowClAKkA6wDtAO4A8ADyAP4A",
          "dtype": "i2"
         },
         "y": {
          "bdata": "8YBZMU7SCECv3BEJcAwuQAAAAAAAAPj/AAAAAAAA+P8AAAAAAAD4/wAAAAAAAPj/0q/VUbFkbECr9Lb+xlhZQAAAAAAAAPj/AAAAAAAA+P8AAAAAAAD4/wAAAAAAAPj/5nZx4V+BVkBsMYwxwAA4QAAAAAAAAPj/AAAAAAAA+P8AAAAAAAD4/0qBcds+sUZA",
          "dtype": "f8"
         }
        },
        {
         "mode": "markers",
         "name": "2014",
         "showlegend": true,
         "type": "scatter",
         "x": {
          "bdata": "KwA1AJsApACmAKgA6wDtAO4A/QD+AP8A",
          "dtype": "i2"
         },
         "y": {
          "bdata": "PCtDkaeWLkB8AyGh4gAXQLwMpyRs1hdAAAAAAAAA+P8AAAAAAAD4/wAAAAAAAPj/Ulu50TB7EkAAAAAAAAD4/wAAAAAAAPj/AFCtNC6ZIUA+baDm9w0cQO+bJ1K7IABA",
          "dtype": "f8"
         }
        },
        {
         "mode": "markers",
         "name": "2015",
         "showlegend": true,
         "type": "scatter",
         "x": {
          "bdata": "KwAsAC4ALwAyAJkAoQCjAKQAqACrAL8AwADBAMIAwwDEAMUAxwDqAOsA7ADuAPAA+gAkAQ==",
          "dtype": "i2"
         },
         "y": {
          "bdata": "yCzKGlPf+z+amiG/MXkfQAAAAAAAAPj/AAAAAAAA+P8AAAAAAAD4/xpgWZn321pA1mRVlJLROkAAAAAAAAD4/wAAAAAAAPj/AAAAAAAA+P8dWhp+a2gmQAAAAAAAAPj/AAAAAAAA+P8AAAAAAAD4/wAAAAAAAPj/AAAAAAAA+P8AAAAAAAD4/wAAAAAAAPj/H68lSjuFHkDkfj1aFRpdQD/KVckm72RAAAAAAAAA+P8AAAAAAAD4/wAAAAAAAPj/AAAAAAAA+P8AAAAAAAD4/w==",
          "dtype": "f8"
         }
        },
        {
         "mode": "markers",
         "name": "2016",
         "showlegend": true,
         "type": "scatter",
         "x": {
          "bdata": "KQArAC8AMQCXAJgAngCgAKEAogClANoA2wDeAOgA6gDrAO4A8QD7AA==",
          "dtype": "i2"
         },
         "y": {
          "bdata": "mBOnbtbjMEAAAAAAAAD4/wAAAAAAAPj/AAAAAAAA+P/evRYQmA1mQAAAAAAAAPj/dnRjN557dkC2FtaQbHVjQAAAAAAAAPj/AAAAAAAA+P8AAAAAAAD4/wAAAAAAAPj/AAAAAAAA+P+L/7dJeWwgQCGqNUpPrQJAAAAAAAAA+P8AAAAAAAD4/wAAAAAAAPj/JXKw/shXS0AAAAAAAAD4/w==",
          "dtype": "f8"
         }
        },
        {
         "mode": "markers",
         "name": "2017",
         "showlegend": true,
         "type": "scatter",
         "x": {
          "bdata": "KAArAC4ALwAwAJQAlgCdAJ4AoAChAKQAywDMAM0AzgDPANAA0QDmAOcA6QDsAO4A+AD5APoA+wA=",
          "dtype": "i2"
         },
         "y": {
          "bdata": "AAAAAAAA+P8AAAAAAAD4/wAAAAAAAPj/fPLoDZCiF0DPCX2GSXw4QBU2Lq800yBAJHHY8QIkQEAPtEINUpEoQJnAmhbpj0VAAAAAAAAA+P8AAAAAAAD4/wAAAAAAAPj/AAAAAAAA+P8AAAAAAAD4/wAAAAAAAPj/AAAAAAAA+P8magVuxHtrQKL4G9E7X21A9oTGbKiAY0A9sZTy+EpwQIiHJK5lmBlAAAAAAAAA+P8AAAAAAAD4/wAAAAAAAPj/2D9czbKNJED9LyTd3GYqQEIB7cwzWCVAAAAAAAAA+P8=",
          "dtype": "f8"
         }
        },
        {
         "mode": "markers",
         "name": "2018",
         "showlegend": true,
         "type": "scatter",
         "x": {
          "bdata": "NAA1ADkAPQA+AIUAnwCgAKEAogCkAPAA+QABAQIBAwEFAQcBCAEJAQ==",
          "dtype": "i2"
         },
         "y": {
          "bdata": "IWmC9MyCOEBwFZQos9UpQAAAAAAAAPj/AAAAAAAA+P8AAAAAAAD4/yD+EJ+8wQZAAAAAAAAA+P/fK8t9J7lOQAAAAAAAAPj/AAAAAAAA+P8AAAAAAAD4/wAAAAAAAPj/EwpexqpEB0CoY5voTJgiQGyL+zUrjwxAAAAAAAAA+P8AAAAAAAD4/wAAAAAAAPj/AAAAAAAA+P8AAAAAAAD4/w==",
          "dtype": "f8"
         }
        },
        {
         "mode": "markers",
         "name": "2019",
         "showlegend": true,
         "type": "scatter",
         "x": {
          "bdata": "JgAnACkAKwCbAJwAngCiALgAyADJAMoAywDMAM0AzgDPANAA2ADkAOUA5wDoAOsA9gD3AA==",
          "dtype": "i2"
         },
         "y": {
          "bdata": "mnI+tzbDDEBTN8PEscRHQAAAAAAAAPj/AAAAAAAA+P/4W3rd+ktHQN3GztE9/ghAAAAAAAAA+P8AAAAAAAD4/wAAAAAAAPj/Z1B3dpPVAEAxHWjC2Y8eQPrbj4D7NkxAZr807wd5JUCSdajmv8QxQAAAAAAAAPj/AAAAAAAA+P9MO+tV7YcVQBidB7WPyzNAAAAAAAAA+P/8OSPrn60EQDsO9TKaK/o/AAAAAAAA+P8AAAAAAAD4/wAAAAAAAPj/uMv+X05EKkAAAAAAAAD4/w==",
          "dtype": "f8"
         }
        },
        {
         "mode": "markers",
         "name": "2020",
         "showlegend": true,
         "type": "scatter",
         "x": {
          "bdata": "KQAqACsALQAuAC8AsQC1ALoAywDPAOIA4wDlAOYA6ADyAPMA",
          "dtype": "i2"
         },
         "y": {
          "bdata": "wSdNeeIPUkBNKZfrXn8SQAAAAAAAAPj/AAAAAAAA+P8AAAAAAAD4/wAAAAAAAPj/65/8E0jXLUAWWdu3VzI7QGoA8py7uyxAAAAAAAAA+P8AAAAAAAD4/5+uN4k6FTRAAAAAAAAA+P8AAAAAAAD4/wAAAAAAAPj/AAAAAAAA+P/iymMvcqYMQCpyy2r53wtA",
          "dtype": "f8"
         }
        }
       ],
       "layout": {
        "template": {
         "data": {
          "bar": [
           {
            "error_x": {
             "color": "#2a3f5f"
            },
            "error_y": {
             "color": "#2a3f5f"
            },
            "marker": {
             "line": {
              "color": "white",
              "width": 0.5
             },
             "pattern": {
              "fillmode": "overlay",
              "size": 10,
              "solidity": 0.2
             }
            },
            "type": "bar"
           }
          ],
          "barpolar": [
           {
            "marker": {
             "line": {
              "color": "white",
              "width": 0.5
             },
             "pattern": {
              "fillmode": "overlay",
              "size": 10,
              "solidity": 0.2
             }
            },
            "type": "barpolar"
           }
          ],
          "carpet": [
           {
            "aaxis": {
             "endlinecolor": "#2a3f5f",
             "gridcolor": "#C8D4E3",
             "linecolor": "#C8D4E3",
             "minorgridcolor": "#C8D4E3",
             "startlinecolor": "#2a3f5f"
            },
            "baxis": {
             "endlinecolor": "#2a3f5f",
             "gridcolor": "#C8D4E3",
             "linecolor": "#C8D4E3",
             "minorgridcolor": "#C8D4E3",
             "startlinecolor": "#2a3f5f"
            },
            "type": "carpet"
           }
          ],
          "choropleth": [
           {
            "colorbar": {
             "outlinewidth": 0,
             "ticks": ""
            },
            "type": "choropleth"
           }
          ],
          "contour": [
           {
            "colorbar": {
             "outlinewidth": 0,
             "ticks": ""
            },
            "colorscale": [
             [
              0,
              "#0d0887"
             ],
             [
              0.1111111111111111,
              "#46039f"
             ],
             [
              0.2222222222222222,
              "#7201a8"
             ],
             [
              0.3333333333333333,
              "#9c179e"
             ],
             [
              0.4444444444444444,
              "#bd3786"
             ],
             [
              0.5555555555555556,
              "#d8576b"
             ],
             [
              0.6666666666666666,
              "#ed7953"
             ],
             [
              0.7777777777777778,
              "#fb9f3a"
             ],
             [
              0.8888888888888888,
              "#fdca26"
             ],
             [
              1,
              "#f0f921"
             ]
            ],
            "type": "contour"
           }
          ],
          "contourcarpet": [
           {
            "colorbar": {
             "outlinewidth": 0,
             "ticks": ""
            },
            "type": "contourcarpet"
           }
          ],
          "heatmap": [
           {
            "colorbar": {
             "outlinewidth": 0,
             "ticks": ""
            },
            "colorscale": [
             [
              0,
              "#0d0887"
             ],
             [
              0.1111111111111111,
              "#46039f"
             ],
             [
              0.2222222222222222,
              "#7201a8"
             ],
             [
              0.3333333333333333,
              "#9c179e"
             ],
             [
              0.4444444444444444,
              "#bd3786"
             ],
             [
              0.5555555555555556,
              "#d8576b"
             ],
             [
              0.6666666666666666,
              "#ed7953"
             ],
             [
              0.7777777777777778,
              "#fb9f3a"
             ],
             [
              0.8888888888888888,
              "#fdca26"
             ],
             [
              1,
              "#f0f921"
             ]
            ],
            "type": "heatmap"
           }
          ],
          "histogram": [
           {
            "marker": {
             "pattern": {
              "fillmode": "overlay",
              "size": 10,
              "solidity": 0.2
             }
            },
            "type": "histogram"
           }
          ],
          "histogram2d": [
           {
            "colorbar": {
             "outlinewidth": 0,
             "ticks": ""
            },
            "colorscale": [
             [
              0,
              "#0d0887"
             ],
             [
              0.1111111111111111,
              "#46039f"
             ],
             [
              0.2222222222222222,
              "#7201a8"
             ],
             [
              0.3333333333333333,
              "#9c179e"
             ],
             [
              0.4444444444444444,
              "#bd3786"
             ],
             [
              0.5555555555555556,
              "#d8576b"
             ],
             [
              0.6666666666666666,
              "#ed7953"
             ],
             [
              0.7777777777777778,
              "#fb9f3a"
             ],
             [
              0.8888888888888888,
              "#fdca26"
             ],
             [
              1,
              "#f0f921"
             ]
            ],
            "type": "histogram2d"
           }
          ],
          "histogram2dcontour": [
           {
            "colorbar": {
             "outlinewidth": 0,
             "ticks": ""
            },
            "colorscale": [
             [
              0,
              "#0d0887"
             ],
             [
              0.1111111111111111,
              "#46039f"
             ],
             [
              0.2222222222222222,
              "#7201a8"
             ],
             [
              0.3333333333333333,
              "#9c179e"
             ],
             [
              0.4444444444444444,
              "#bd3786"
             ],
             [
              0.5555555555555556,
              "#d8576b"
             ],
             [
              0.6666666666666666,
              "#ed7953"
             ],
             [
              0.7777777777777778,
              "#fb9f3a"
             ],
             [
              0.8888888888888888,
              "#fdca26"
             ],
             [
              1,
              "#f0f921"
             ]
            ],
            "type": "histogram2dcontour"
           }
          ],
          "mesh3d": [
           {
            "colorbar": {
             "outlinewidth": 0,
             "ticks": ""
            },
            "type": "mesh3d"
           }
          ],
          "parcoords": [
           {
            "line": {
             "colorbar": {
              "outlinewidth": 0,
              "ticks": ""
             }
            },
            "type": "parcoords"
           }
          ],
          "pie": [
           {
            "automargin": true,
            "type": "pie"
           }
          ],
          "scatter": [
           {
            "fillpattern": {
             "fillmode": "overlay",
             "size": 10,
             "solidity": 0.2
            },
            "type": "scatter"
           }
          ],
          "scatter3d": [
           {
            "line": {
             "colorbar": {
              "outlinewidth": 0,
              "ticks": ""
             }
            },
            "marker": {
             "colorbar": {
              "outlinewidth": 0,
              "ticks": ""
             }
            },
            "type": "scatter3d"
           }
          ],
          "scattercarpet": [
           {
            "marker": {
             "colorbar": {
              "outlinewidth": 0,
              "ticks": ""
             }
            },
            "type": "scattercarpet"
           }
          ],
          "scattergeo": [
           {
            "marker": {
             "colorbar": {
              "outlinewidth": 0,
              "ticks": ""
             }
            },
            "type": "scattergeo"
           }
          ],
          "scattergl": [
           {
            "marker": {
             "colorbar": {
              "outlinewidth": 0,
              "ticks": ""
             }
            },
            "type": "scattergl"
           }
          ],
          "scattermap": [
           {
            "marker": {
             "colorbar": {
              "outlinewidth": 0,
              "ticks": ""
             }
            },
            "type": "scattermap"
           }
          ],
          "scattermapbox": [
           {
            "marker": {
             "colorbar": {
              "outlinewidth": 0,
              "ticks": ""
             }
            },
            "type": "scattermapbox"
           }
          ],
          "scatterpolar": [
           {
            "marker": {
             "colorbar": {
              "outlinewidth": 0,
              "ticks": ""
             }
            },
            "type": "scatterpolar"
           }
          ],
          "scatterpolargl": [
           {
            "marker": {
             "colorbar": {
              "outlinewidth": 0,
              "ticks": ""
             }
            },
            "type": "scatterpolargl"
           }
          ],
          "scatterternary": [
           {
            "marker": {
             "colorbar": {
              "outlinewidth": 0,
              "ticks": ""
             }
            },
            "type": "scatterternary"
           }
          ],
          "surface": [
           {
            "colorbar": {
             "outlinewidth": 0,
             "ticks": ""
            },
            "colorscale": [
             [
              0,
              "#0d0887"
             ],
             [
              0.1111111111111111,
              "#46039f"
             ],
             [
              0.2222222222222222,
              "#7201a8"
             ],
             [
              0.3333333333333333,
              "#9c179e"
             ],
             [
              0.4444444444444444,
              "#bd3786"
             ],
             [
              0.5555555555555556,
              "#d8576b"
             ],
             [
              0.6666666666666666,
              "#ed7953"
             ],
             [
              0.7777777777777778,
              "#fb9f3a"
             ],
             [
              0.8888888888888888,
              "#fdca26"
             ],
             [
              1,
              "#f0f921"
             ]
            ],
            "type": "surface"
           }
          ],
          "table": [
           {
            "cells": {
             "fill": {
              "color": "#EBF0F8"
             },
             "line": {
              "color": "white"
             }
            },
            "header": {
             "fill": {
              "color": "#C8D4E3"
             },
             "line": {
              "color": "white"
             }
            },
            "type": "table"
           }
          ]
         },
         "layout": {
          "annotationdefaults": {
           "arrowcolor": "#2a3f5f",
           "arrowhead": 0,
           "arrowwidth": 1
          },
          "autotypenumbers": "strict",
          "coloraxis": {
           "colorbar": {
            "outlinewidth": 0,
            "ticks": ""
           }
          },
          "colorscale": {
           "diverging": [
            [
             0,
             "#8e0152"
            ],
            [
             0.1,
             "#c51b7d"
            ],
            [
             0.2,
             "#de77ae"
            ],
            [
             0.3,
             "#f1b6da"
            ],
            [
             0.4,
             "#fde0ef"
            ],
            [
             0.5,
             "#f7f7f7"
            ],
            [
             0.6,
             "#e6f5d0"
            ],
            [
             0.7,
             "#b8e186"
            ],
            [
             0.8,
             "#7fbc41"
            ],
            [
             0.9,
             "#4d9221"
            ],
            [
             1,
             "#276419"
            ]
           ],
           "sequential": [
            [
             0,
             "#0d0887"
            ],
            [
             0.1111111111111111,
             "#46039f"
            ],
            [
             0.2222222222222222,
             "#7201a8"
            ],
            [
             0.3333333333333333,
             "#9c179e"
            ],
            [
             0.4444444444444444,
             "#bd3786"
            ],
            [
             0.5555555555555556,
             "#d8576b"
            ],
            [
             0.6666666666666666,
             "#ed7953"
            ],
            [
             0.7777777777777778,
             "#fb9f3a"
            ],
            [
             0.8888888888888888,
             "#fdca26"
            ],
            [
             1,
             "#f0f921"
            ]
           ],
           "sequentialminus": [
            [
             0,
             "#0d0887"
            ],
            [
             0.1111111111111111,
             "#46039f"
            ],
            [
             0.2222222222222222,
             "#7201a8"
            ],
            [
             0.3333333333333333,
             "#9c179e"
            ],
            [
             0.4444444444444444,
             "#bd3786"
            ],
            [
             0.5555555555555556,
             "#d8576b"
            ],
            [
             0.6666666666666666,
             "#ed7953"
            ],
            [
             0.7777777777777778,
             "#fb9f3a"
            ],
            [
             0.8888888888888888,
             "#fdca26"
            ],
            [
             1,
             "#f0f921"
            ]
           ]
          },
          "colorway": [
           "#636efa",
           "#EF553B",
           "#00cc96",
           "#ab63fa",
           "#FFA15A",
           "#19d3f3",
           "#FF6692",
           "#B6E880",
           "#FF97FF",
           "#FECB52"
          ],
          "font": {
           "color": "#2a3f5f"
          },
          "geo": {
           "bgcolor": "white",
           "lakecolor": "white",
           "landcolor": "white",
           "showlakes": true,
           "showland": true,
           "subunitcolor": "#C8D4E3"
          },
          "hoverlabel": {
           "align": "left"
          },
          "hovermode": "closest",
          "mapbox": {
           "style": "light"
          },
          "paper_bgcolor": "white",
          "plot_bgcolor": "white",
          "polar": {
           "angularaxis": {
            "gridcolor": "#EBF0F8",
            "linecolor": "#EBF0F8",
            "ticks": ""
           },
           "bgcolor": "white",
           "radialaxis": {
            "gridcolor": "#EBF0F8",
            "linecolor": "#EBF0F8",
            "ticks": ""
           }
          },
          "scene": {
           "xaxis": {
            "backgroundcolor": "white",
            "gridcolor": "#DFE8F3",
            "gridwidth": 2,
            "linecolor": "#EBF0F8",
            "showbackground": true,
            "ticks": "",
            "zerolinecolor": "#EBF0F8"
           },
           "yaxis": {
            "backgroundcolor": "white",
            "gridcolor": "#DFE8F3",
            "gridwidth": 2,
            "linecolor": "#EBF0F8",
            "showbackground": true,
            "ticks": "",
            "zerolinecolor": "#EBF0F8"
           },
           "zaxis": {
            "backgroundcolor": "white",
            "gridcolor": "#DFE8F3",
            "gridwidth": 2,
            "linecolor": "#EBF0F8",
            "showbackground": true,
            "ticks": "",
            "zerolinecolor": "#EBF0F8"
           }
          },
          "shapedefaults": {
           "line": {
            "color": "#2a3f5f"
           }
          },
          "ternary": {
           "aaxis": {
            "gridcolor": "#DFE8F3",
            "linecolor": "#A2B1C6",
            "ticks": ""
           },
           "baxis": {
            "gridcolor": "#DFE8F3",
            "linecolor": "#A2B1C6",
            "ticks": ""
           },
           "bgcolor": "white",
           "caxis": {
            "gridcolor": "#DFE8F3",
            "linecolor": "#A2B1C6",
            "ticks": ""
           }
          },
          "title": {
           "x": 0.05
          },
          "xaxis": {
           "automargin": true,
           "gridcolor": "#EBF0F8",
           "linecolor": "#EBF0F8",
           "ticks": "",
           "title": {
            "standoff": 15
           },
           "zerolinecolor": "#EBF0F8",
           "zerolinewidth": 2
          },
          "yaxis": {
           "automargin": true,
           "gridcolor": "#EBF0F8",
           "linecolor": "#EBF0F8",
           "ticks": "",
           "title": {
            "standoff": 15
           },
           "zerolinecolor": "#EBF0F8",
           "zerolinewidth": 2
          }
         }
        },
        "title": {
         "text": "Cleaned Pteropod Biomass Time Serie at PAPA (1998-2020)"
        },
        "xaxis": {
         "title": {
          "text": "Day of Year"
         }
        },
        "yaxis": {
         "title": {
          "text": "Biomass [mgC m-2]"
         }
        }
       }
      }
     },
     "metadata": {},
     "output_type": "display_data"
    }
   ],
   "source": [
    "# Spatial and vertical mean\n",
    "mean_timeseries = ds_pter_cleaned.mean(dim=[\"is_day\",\"latitude\", \"longitude\", \"depth\"], skipna=True)\n",
    "\n",
    "# assign day coordinate\n",
    "# Extract MM-DD \n",
    "mmdd = pd.to_datetime(mean_timeseries.time.values).strftime('%m-%d')\n",
    "# transform MM-DD in indice of day in year (1->365) avoiding leap year discordance \n",
    "day_noleap = pd.Series(mmdd).map(mmdd_to_day).values\n",
    "# add coord day\n",
    "mean_timeseries = mean_timeseries.assign_coords(day=(\"time\", day_noleap))\n",
    "\n",
    "# Plot\n",
    "# Group by year\n",
    "years = pd.DatetimeIndex(mean_timeseries.time.values).year.unique()\n",
    "\n",
    "fig = go.Figure()\n",
    "# Plot one color per year\n",
    "for year in years:\n",
    "    yearly_data = mean_timeseries.sel(time=str(year))\n",
    "    fig.add_trace(go.Scatter(\n",
    "        x=yearly_data['day'],\n",
    "        y=yearly_data.values*1000,\n",
    "        mode='markers',\n",
    "        name=str(year),\n",
    "        showlegend=True \n",
    "    ))\n",
    "\n",
    "fig.update_layout(\n",
    "    title='Cleaned Pteropod Biomass Time Serie at PAPA (1998-2020)',\n",
    "    xaxis_title='Day of Year',\n",
    "    yaxis=dict(\n",
    "        #type='log',\n",
    "        title='Biomass [mgC m-2]',\n",
    "        #range=[0, 5],\n",
    "    ),\n",
    "    template='plotly_white'\n",
    ")\n",
    "\n",
    "\n",
    "fig.show()"
   ]
  },
  {
   "cell_type": "markdown",
   "id": "7113b722",
   "metadata": {},
   "source": [
    "## Monthly Climatology"
   ]
  },
  {
   "cell_type": "code",
   "execution_count": 37,
   "id": "d8ec3cd1",
   "metadata": {},
   "outputs": [
    {
     "name": "stdout",
     "output_type": "stream",
     "text": [
      "   month  pteropod_biomass_gm2_mean  pteropod_biomass_gm2_std  \\\n",
      "0      1                   0.038890                  0.019303   \n",
      "1      2                   0.025768                  0.033271   \n",
      "2      3                   0.014616                  0.020981   \n",
      "3      4                   0.121461                  0.098869   \n",
      "4      5                   0.280818                  0.396817   \n",
      "5      6                   0.350057                  0.714995   \n",
      "6      7                   0.146798                  0.260031   \n",
      "7      8                   0.109048                  0.187616   \n",
      "8      9                   0.067290                  0.233194   \n",
      "9     10                   0.031324                  0.029795   \n",
      "\n",
      "   pteropod_biomass_median  non_nan_count  \n",
      "0                 0.037669              5  \n",
      "1                 0.014692             41  \n",
      "2                 0.006597              6  \n",
      "3                 0.057290              5  \n",
      "4                 0.131815             66  \n",
      "5                 0.102254             52  \n",
      "6                 0.029689             30  \n",
      "7                 0.021091             44  \n",
      "8                 0.019985             54  \n",
      "9                 0.021737             22  \n"
     ]
    }
   ],
   "source": [
    "# compute monthly climatology\n",
    "# Extract month\n",
    "ds_pter_2deg['month'] = ds_pter_2deg['time.month']\n",
    "\n",
    "# Mean\n",
    "monthly_mean = ds_pter_2deg.groupby('month').mean(dim=['time', 'is_day', 'longitude', 'latitude', 'depth'])\n",
    "# Standard deviation\n",
    "monthly_std = ds_pter_2deg.groupby('month').std(dim=['time', 'is_day', 'longitude', 'latitude', 'depth'])\n",
    "# Non NaN count\n",
    "monthly_count = ds_pter_2deg.groupby('month').count(dim=['time', 'is_day', 'longitude', 'latitude', 'depth'])\n",
    "# Median\n",
    "monthly_median = ds_pter_2deg.groupby('month').median(dim=['time', 'is_day', 'longitude', 'latitude', 'depth'])\n",
    "\n",
    "# DataFrames Conversion (to use px)\n",
    "df_mean = monthly_mean.to_dataframe().reset_index()\n",
    "df_std = monthly_std.to_dataframe().reset_index()\n",
    "df_count = monthly_count.to_dataframe(name='non_nan_count').reset_index()\n",
    "df_median=monthly_median.to_dataframe(name='pteropod_biomass_median').reset_index()\n",
    "\n",
    "df_clim = df_mean.merge(df_std, on='month', suffixes=('_mean', '_std'))\n",
    "df_clim = df_clim.merge(df_median,on='month')\n",
    "df_clim = df_clim.merge(df_count, on='month')\n",
    "\n",
    "\n",
    "print(df_clim)\n"
   ]
  },
  {
   "cell_type": "code",
   "execution_count": 32,
   "id": "2453a2e1",
   "metadata": {},
   "outputs": [],
   "source": [
    "df_clim.to_csv(\"/data/rd_exchange/sroyer/SEAPOPYM/monthly_clim_pteropod_1998_2020_V2.csv\", index=False)"
   ]
  },
  {
   "cell_type": "code",
   "execution_count": 48,
   "id": "19d82bdb",
   "metadata": {},
   "outputs": [
    {
     "data": {
      "application/vnd.plotly.v1+json": {
       "config": {
        "plotlyServerURL": "https://plot.ly"
       },
       "data": [
        {
         "error_y": {
          "array": {
           "bdata": "flkjOSPEkz9V75XJ3AihP8In7IH1e5U/dYswunhPuT+IE8hYdGXZP/lKm9U94eY/wxXePFmk0D9um6zczQPIP4LlYq9Q2c0/pVFFZX+Cnj8=",
           "dtype": "f8"
          },
          "type": "data",
          "visible": true
         },
         "line": {
          "color": "royalblue"
         },
         "marker": {
          "size": 6
         },
         "mode": "lines+markers",
         "name": "Mean biomass",
         "type": "scatter",
         "x": {
          "bdata": "AQIDBAUGBwgJCg==",
          "dtype": "i1"
         },
         "y": {
          "bdata": "pjYesmLpoz9e+fhw/2KaP7igZofT7o0/Y1Q4sQ8Yvz9tstnO7PjRP8DVdrJTZ9Y/re5m+ELKwj+/5bEli+q7PxjCP1zpObE/3L+0yb0JoD8=",
          "dtype": "f8"
         }
        },
        {
         "marker": {
          "color": "orange",
          "size": 8,
          "symbol": "circle"
         },
         "mode": "markers",
         "name": "Median biomass",
         "type": "scatter",
         "x": {
          "bdata": "AQIDBAUGBwgJCg==",
          "dtype": "i1"
         },
         "y": {
          "bdata": "P0xLnFJJoz/yyQUHFReOP2zh5QFoBXs/lJ6ZJBpVrT/P0v7rTt/AP2rgfktJLbo/oO0yxKtmnj99gYxDAJmVP+lEGJ8Hd5Q/UE0BWDhClj8=",
          "dtype": "f8"
         }
        },
        {
         "marker": {
          "color": "lightgrey"
         },
         "name": "Valid data count",
         "opacity": 0.4,
         "type": "bar",
         "x": {
          "bdata": "AQIDBAUGBwgJCg==",
          "dtype": "i1"
         },
         "y": {
          "bdata": "BSkGBUI0Hiw2Fg==",
          "dtype": "i1"
         },
         "yaxis": "y2"
        }
       ],
       "layout": {
        "legend": {
         "x": 0.01,
         "y": 0.99
        },
        "template": {
         "data": {
          "bar": [
           {
            "error_x": {
             "color": "#2a3f5f"
            },
            "error_y": {
             "color": "#2a3f5f"
            },
            "marker": {
             "line": {
              "color": "white",
              "width": 0.5
             },
             "pattern": {
              "fillmode": "overlay",
              "size": 10,
              "solidity": 0.2
             }
            },
            "type": "bar"
           }
          ],
          "barpolar": [
           {
            "marker": {
             "line": {
              "color": "white",
              "width": 0.5
             },
             "pattern": {
              "fillmode": "overlay",
              "size": 10,
              "solidity": 0.2
             }
            },
            "type": "barpolar"
           }
          ],
          "carpet": [
           {
            "aaxis": {
             "endlinecolor": "#2a3f5f",
             "gridcolor": "#C8D4E3",
             "linecolor": "#C8D4E3",
             "minorgridcolor": "#C8D4E3",
             "startlinecolor": "#2a3f5f"
            },
            "baxis": {
             "endlinecolor": "#2a3f5f",
             "gridcolor": "#C8D4E3",
             "linecolor": "#C8D4E3",
             "minorgridcolor": "#C8D4E3",
             "startlinecolor": "#2a3f5f"
            },
            "type": "carpet"
           }
          ],
          "choropleth": [
           {
            "colorbar": {
             "outlinewidth": 0,
             "ticks": ""
            },
            "type": "choropleth"
           }
          ],
          "contour": [
           {
            "colorbar": {
             "outlinewidth": 0,
             "ticks": ""
            },
            "colorscale": [
             [
              0,
              "#0d0887"
             ],
             [
              0.1111111111111111,
              "#46039f"
             ],
             [
              0.2222222222222222,
              "#7201a8"
             ],
             [
              0.3333333333333333,
              "#9c179e"
             ],
             [
              0.4444444444444444,
              "#bd3786"
             ],
             [
              0.5555555555555556,
              "#d8576b"
             ],
             [
              0.6666666666666666,
              "#ed7953"
             ],
             [
              0.7777777777777778,
              "#fb9f3a"
             ],
             [
              0.8888888888888888,
              "#fdca26"
             ],
             [
              1,
              "#f0f921"
             ]
            ],
            "type": "contour"
           }
          ],
          "contourcarpet": [
           {
            "colorbar": {
             "outlinewidth": 0,
             "ticks": ""
            },
            "type": "contourcarpet"
           }
          ],
          "heatmap": [
           {
            "colorbar": {
             "outlinewidth": 0,
             "ticks": ""
            },
            "colorscale": [
             [
              0,
              "#0d0887"
             ],
             [
              0.1111111111111111,
              "#46039f"
             ],
             [
              0.2222222222222222,
              "#7201a8"
             ],
             [
              0.3333333333333333,
              "#9c179e"
             ],
             [
              0.4444444444444444,
              "#bd3786"
             ],
             [
              0.5555555555555556,
              "#d8576b"
             ],
             [
              0.6666666666666666,
              "#ed7953"
             ],
             [
              0.7777777777777778,
              "#fb9f3a"
             ],
             [
              0.8888888888888888,
              "#fdca26"
             ],
             [
              1,
              "#f0f921"
             ]
            ],
            "type": "heatmap"
           }
          ],
          "histogram": [
           {
            "marker": {
             "pattern": {
              "fillmode": "overlay",
              "size": 10,
              "solidity": 0.2
             }
            },
            "type": "histogram"
           }
          ],
          "histogram2d": [
           {
            "colorbar": {
             "outlinewidth": 0,
             "ticks": ""
            },
            "colorscale": [
             [
              0,
              "#0d0887"
             ],
             [
              0.1111111111111111,
              "#46039f"
             ],
             [
              0.2222222222222222,
              "#7201a8"
             ],
             [
              0.3333333333333333,
              "#9c179e"
             ],
             [
              0.4444444444444444,
              "#bd3786"
             ],
             [
              0.5555555555555556,
              "#d8576b"
             ],
             [
              0.6666666666666666,
              "#ed7953"
             ],
             [
              0.7777777777777778,
              "#fb9f3a"
             ],
             [
              0.8888888888888888,
              "#fdca26"
             ],
             [
              1,
              "#f0f921"
             ]
            ],
            "type": "histogram2d"
           }
          ],
          "histogram2dcontour": [
           {
            "colorbar": {
             "outlinewidth": 0,
             "ticks": ""
            },
            "colorscale": [
             [
              0,
              "#0d0887"
             ],
             [
              0.1111111111111111,
              "#46039f"
             ],
             [
              0.2222222222222222,
              "#7201a8"
             ],
             [
              0.3333333333333333,
              "#9c179e"
             ],
             [
              0.4444444444444444,
              "#bd3786"
             ],
             [
              0.5555555555555556,
              "#d8576b"
             ],
             [
              0.6666666666666666,
              "#ed7953"
             ],
             [
              0.7777777777777778,
              "#fb9f3a"
             ],
             [
              0.8888888888888888,
              "#fdca26"
             ],
             [
              1,
              "#f0f921"
             ]
            ],
            "type": "histogram2dcontour"
           }
          ],
          "mesh3d": [
           {
            "colorbar": {
             "outlinewidth": 0,
             "ticks": ""
            },
            "type": "mesh3d"
           }
          ],
          "parcoords": [
           {
            "line": {
             "colorbar": {
              "outlinewidth": 0,
              "ticks": ""
             }
            },
            "type": "parcoords"
           }
          ],
          "pie": [
           {
            "automargin": true,
            "type": "pie"
           }
          ],
          "scatter": [
           {
            "fillpattern": {
             "fillmode": "overlay",
             "size": 10,
             "solidity": 0.2
            },
            "type": "scatter"
           }
          ],
          "scatter3d": [
           {
            "line": {
             "colorbar": {
              "outlinewidth": 0,
              "ticks": ""
             }
            },
            "marker": {
             "colorbar": {
              "outlinewidth": 0,
              "ticks": ""
             }
            },
            "type": "scatter3d"
           }
          ],
          "scattercarpet": [
           {
            "marker": {
             "colorbar": {
              "outlinewidth": 0,
              "ticks": ""
             }
            },
            "type": "scattercarpet"
           }
          ],
          "scattergeo": [
           {
            "marker": {
             "colorbar": {
              "outlinewidth": 0,
              "ticks": ""
             }
            },
            "type": "scattergeo"
           }
          ],
          "scattergl": [
           {
            "marker": {
             "colorbar": {
              "outlinewidth": 0,
              "ticks": ""
             }
            },
            "type": "scattergl"
           }
          ],
          "scattermap": [
           {
            "marker": {
             "colorbar": {
              "outlinewidth": 0,
              "ticks": ""
             }
            },
            "type": "scattermap"
           }
          ],
          "scattermapbox": [
           {
            "marker": {
             "colorbar": {
              "outlinewidth": 0,
              "ticks": ""
             }
            },
            "type": "scattermapbox"
           }
          ],
          "scatterpolar": [
           {
            "marker": {
             "colorbar": {
              "outlinewidth": 0,
              "ticks": ""
             }
            },
            "type": "scatterpolar"
           }
          ],
          "scatterpolargl": [
           {
            "marker": {
             "colorbar": {
              "outlinewidth": 0,
              "ticks": ""
             }
            },
            "type": "scatterpolargl"
           }
          ],
          "scatterternary": [
           {
            "marker": {
             "colorbar": {
              "outlinewidth": 0,
              "ticks": ""
             }
            },
            "type": "scatterternary"
           }
          ],
          "surface": [
           {
            "colorbar": {
             "outlinewidth": 0,
             "ticks": ""
            },
            "colorscale": [
             [
              0,
              "#0d0887"
             ],
             [
              0.1111111111111111,
              "#46039f"
             ],
             [
              0.2222222222222222,
              "#7201a8"
             ],
             [
              0.3333333333333333,
              "#9c179e"
             ],
             [
              0.4444444444444444,
              "#bd3786"
             ],
             [
              0.5555555555555556,
              "#d8576b"
             ],
             [
              0.6666666666666666,
              "#ed7953"
             ],
             [
              0.7777777777777778,
              "#fb9f3a"
             ],
             [
              0.8888888888888888,
              "#fdca26"
             ],
             [
              1,
              "#f0f921"
             ]
            ],
            "type": "surface"
           }
          ],
          "table": [
           {
            "cells": {
             "fill": {
              "color": "#EBF0F8"
             },
             "line": {
              "color": "white"
             }
            },
            "header": {
             "fill": {
              "color": "#C8D4E3"
             },
             "line": {
              "color": "white"
             }
            },
            "type": "table"
           }
          ]
         },
         "layout": {
          "annotationdefaults": {
           "arrowcolor": "#2a3f5f",
           "arrowhead": 0,
           "arrowwidth": 1
          },
          "autotypenumbers": "strict",
          "coloraxis": {
           "colorbar": {
            "outlinewidth": 0,
            "ticks": ""
           }
          },
          "colorscale": {
           "diverging": [
            [
             0,
             "#8e0152"
            ],
            [
             0.1,
             "#c51b7d"
            ],
            [
             0.2,
             "#de77ae"
            ],
            [
             0.3,
             "#f1b6da"
            ],
            [
             0.4,
             "#fde0ef"
            ],
            [
             0.5,
             "#f7f7f7"
            ],
            [
             0.6,
             "#e6f5d0"
            ],
            [
             0.7,
             "#b8e186"
            ],
            [
             0.8,
             "#7fbc41"
            ],
            [
             0.9,
             "#4d9221"
            ],
            [
             1,
             "#276419"
            ]
           ],
           "sequential": [
            [
             0,
             "#0d0887"
            ],
            [
             0.1111111111111111,
             "#46039f"
            ],
            [
             0.2222222222222222,
             "#7201a8"
            ],
            [
             0.3333333333333333,
             "#9c179e"
            ],
            [
             0.4444444444444444,
             "#bd3786"
            ],
            [
             0.5555555555555556,
             "#d8576b"
            ],
            [
             0.6666666666666666,
             "#ed7953"
            ],
            [
             0.7777777777777778,
             "#fb9f3a"
            ],
            [
             0.8888888888888888,
             "#fdca26"
            ],
            [
             1,
             "#f0f921"
            ]
           ],
           "sequentialminus": [
            [
             0,
             "#0d0887"
            ],
            [
             0.1111111111111111,
             "#46039f"
            ],
            [
             0.2222222222222222,
             "#7201a8"
            ],
            [
             0.3333333333333333,
             "#9c179e"
            ],
            [
             0.4444444444444444,
             "#bd3786"
            ],
            [
             0.5555555555555556,
             "#d8576b"
            ],
            [
             0.6666666666666666,
             "#ed7953"
            ],
            [
             0.7777777777777778,
             "#fb9f3a"
            ],
            [
             0.8888888888888888,
             "#fdca26"
            ],
            [
             1,
             "#f0f921"
            ]
           ]
          },
          "colorway": [
           "#636efa",
           "#EF553B",
           "#00cc96",
           "#ab63fa",
           "#FFA15A",
           "#19d3f3",
           "#FF6692",
           "#B6E880",
           "#FF97FF",
           "#FECB52"
          ],
          "font": {
           "color": "#2a3f5f"
          },
          "geo": {
           "bgcolor": "white",
           "lakecolor": "white",
           "landcolor": "white",
           "showlakes": true,
           "showland": true,
           "subunitcolor": "#C8D4E3"
          },
          "hoverlabel": {
           "align": "left"
          },
          "hovermode": "closest",
          "mapbox": {
           "style": "light"
          },
          "paper_bgcolor": "white",
          "plot_bgcolor": "white",
          "polar": {
           "angularaxis": {
            "gridcolor": "#EBF0F8",
            "linecolor": "#EBF0F8",
            "ticks": ""
           },
           "bgcolor": "white",
           "radialaxis": {
            "gridcolor": "#EBF0F8",
            "linecolor": "#EBF0F8",
            "ticks": ""
           }
          },
          "scene": {
           "xaxis": {
            "backgroundcolor": "white",
            "gridcolor": "#DFE8F3",
            "gridwidth": 2,
            "linecolor": "#EBF0F8",
            "showbackground": true,
            "ticks": "",
            "zerolinecolor": "#EBF0F8"
           },
           "yaxis": {
            "backgroundcolor": "white",
            "gridcolor": "#DFE8F3",
            "gridwidth": 2,
            "linecolor": "#EBF0F8",
            "showbackground": true,
            "ticks": "",
            "zerolinecolor": "#EBF0F8"
           },
           "zaxis": {
            "backgroundcolor": "white",
            "gridcolor": "#DFE8F3",
            "gridwidth": 2,
            "linecolor": "#EBF0F8",
            "showbackground": true,
            "ticks": "",
            "zerolinecolor": "#EBF0F8"
           }
          },
          "shapedefaults": {
           "line": {
            "color": "#2a3f5f"
           }
          },
          "ternary": {
           "aaxis": {
            "gridcolor": "#DFE8F3",
            "linecolor": "#A2B1C6",
            "ticks": ""
           },
           "baxis": {
            "gridcolor": "#DFE8F3",
            "linecolor": "#A2B1C6",
            "ticks": ""
           },
           "bgcolor": "white",
           "caxis": {
            "gridcolor": "#DFE8F3",
            "linecolor": "#A2B1C6",
            "ticks": ""
           }
          },
          "title": {
           "x": 0.05
          },
          "xaxis": {
           "automargin": true,
           "gridcolor": "#EBF0F8",
           "linecolor": "#EBF0F8",
           "ticks": "",
           "title": {
            "standoff": 15
           },
           "zerolinecolor": "#EBF0F8",
           "zerolinewidth": 2
          },
          "yaxis": {
           "automargin": true,
           "gridcolor": "#EBF0F8",
           "linecolor": "#EBF0F8",
           "ticks": "",
           "title": {
            "standoff": 15
           },
           "zerolinecolor": "#EBF0F8",
           "zerolinewidth": 2
          }
         }
        },
        "title": {
         "text": "Monthly Climatology of Pteropod Biomass "
        },
        "xaxis": {
         "title": {
          "text": "Month"
         }
        },
        "yaxis": {
         "title": {
          "text": "Mean Biomass [g m-2]"
         },
         "type": "log"
        },
        "yaxis2": {
         "overlaying": "y",
         "showgrid": false,
         "side": "right",
         "title": {
          "text": "Non-NaN count"
         }
        }
       }
      }
     },
     "metadata": {},
     "output_type": "display_data"
    }
   ],
   "source": [
    "fig = go.Figure()\n",
    "\n",
    "# Mean + standard deviation (curve with error intervals)\n",
    "fig.add_trace(go.Scatter(\n",
    "    x=df_clim['month'],\n",
    "    y=df_clim['pteropod_biomass_gm2_mean'],\n",
    "    mode='lines+markers',\n",
    "    name='Mean biomass',\n",
    "    error_y=dict(\n",
    "        type='data',\n",
    "        array=df_clim['pteropod_biomass_gm2_std'],\n",
    "        visible=True\n",
    "    ),\n",
    "    line=dict(color='royalblue'),\n",
    "    marker=dict(size=6)\n",
    "))\n",
    "\n",
    "# Median (dots)\n",
    "fig.add_trace(go.Scatter(\n",
    "    x=df_clim['month'],\n",
    "    y=df_clim['pteropod_biomass_median'],\n",
    "    mode='markers',\n",
    "    name='Median biomass',\n",
    "    marker=dict(color='orange', symbol='circle', size=8)\n",
    "))\n",
    "\n",
    "# non-NaN count (bar, second axis)\n",
    "fig.add_trace(go.Bar(\n",
    "    x=df_clim['month'],\n",
    "    y=df_clim['non_nan_count'],\n",
    "    name='Valid data count',\n",
    "    yaxis='y2',\n",
    "    opacity=0.4,\n",
    "    marker_color='lightgrey'\n",
    "))\n",
    "\n",
    "# presentation\n",
    "fig.update_layout(\n",
    "    title='Monthly Climatology of Pteropod Biomass ',\n",
    "    xaxis=dict(title='Month'),\n",
    "    yaxis=dict(\n",
    "        type='log',\n",
    "        title='Mean Biomass [g m-2]',\n",
    "        #range=[df_clim[\"pteropods_mean\"].min() * 0.9, df_clim[\"pteropods_mean\"].max() * 3.4]  # dynamic adjustment\n",
    "    ),\n",
    "    yaxis2=dict(\n",
    "        title='Non-NaN count',\n",
    "        overlaying='y',\n",
    "        side='right',\n",
    "        showgrid=False\n",
    "    ),\n",
    "    legend=dict(x=0.01, y=0.99),\n",
    "    template='plotly_white'\n",
    ")\n",
    "\n",
    "fig.show()\n"
   ]
  },
  {
   "cell_type": "markdown",
   "id": "1c28c453",
   "metadata": {},
   "source": [
    "## Seasonal Climatology Compared with Litterature"
   ]
  },
  {
   "cell_type": "code",
   "execution_count": 41,
   "id": "9501cf58",
   "metadata": {},
   "outputs": [],
   "source": [
    "# === Data Mackas et Galbraith 2012 ===\n",
    "data = [\n",
    "    [\"Feb-Mar\", 0.01147, 1],\n",
    "    [\"May-Jun\", 0.089615, 1],\n",
    "    [\"Aug-Sep\", 0.032502, 1],\n",
    "    [\"Feb-Mar\", 0.78137, 0],\n",
    "    [\"May-Jun\", 4.90316, 0],\n",
    "    [\"Aug-Sep\", 0.427516, 0]\n",
    "]\n",
    "\n",
    "# === DataFrame creation ===\n",
    "df_mackasgalbraith = pd.DataFrame(data, columns=[\"season\", \"biomass\", \"species\"])\n",
    "df_mackasgalbraith[\"species_name\"] = df_mackasgalbraith[\"species\"].map({1: \"Clione\", 0: \"Limacina\"})\n"
   ]
  },
  {
   "cell_type": "code",
   "execution_count": 44,
   "id": "27a4c5d5",
   "metadata": {},
   "outputs": [
    {
     "data": {
      "text/html": [
       "<div>\n",
       "<style scoped>\n",
       "    .dataframe tbody tr th:only-of-type {\n",
       "        vertical-align: middle;\n",
       "    }\n",
       "\n",
       "    .dataframe tbody tr th {\n",
       "        vertical-align: top;\n",
       "    }\n",
       "\n",
       "    .dataframe thead th {\n",
       "        text-align: right;\n",
       "    }\n",
       "</style>\n",
       "<table border=\"1\" class=\"dataframe\">\n",
       "  <thead>\n",
       "    <tr style=\"text-align: right;\">\n",
       "      <th></th>\n",
       "      <th>season</th>\n",
       "      <th>pteropod_biomass_gm2_mean</th>\n",
       "      <th>pteropod_biomass_gm2_std</th>\n",
       "      <th>pteropod_biomass_median</th>\n",
       "      <th>non_nan_count</th>\n",
       "    </tr>\n",
       "  </thead>\n",
       "  <tbody>\n",
       "    <tr>\n",
       "      <th>0</th>\n",
       "      <td>Feb-Mar</td>\n",
       "      <td>0.024345</td>\n",
       "      <td>0.032182</td>\n",
       "      <td>0.011822</td>\n",
       "      <td>47</td>\n",
       "    </tr>\n",
       "    <tr>\n",
       "      <th>1</th>\n",
       "      <td>May-Jun</td>\n",
       "      <td>0.311330</td>\n",
       "      <td>0.560836</td>\n",
       "      <td>0.118413</td>\n",
       "      <td>118</td>\n",
       "    </tr>\n",
       "    <tr>\n",
       "      <th>2</th>\n",
       "      <td>Aug-Sep</td>\n",
       "      <td>0.086038</td>\n",
       "      <td>0.214941</td>\n",
       "      <td>0.020765</td>\n",
       "      <td>98</td>\n",
       "    </tr>\n",
       "  </tbody>\n",
       "</table>\n",
       "</div>"
      ],
      "text/plain": [
       "    season  pteropod_biomass_gm2_mean  pteropod_biomass_gm2_std  \\\n",
       "0  Feb-Mar                   0.024345                  0.032182   \n",
       "1  May-Jun                   0.311330                  0.560836   \n",
       "2  Aug-Sep                   0.086038                  0.214941   \n",
       "\n",
       "   pteropod_biomass_median  non_nan_count  \n",
       "0                 0.011822             47  \n",
       "1                 0.118413            118  \n",
       "2                 0.020765             98  "
      ]
     },
     "execution_count": 44,
     "metadata": {},
     "output_type": "execute_result"
    }
   ],
   "source": [
    "#define Seasons\n",
    "def get_group_month(month):\n",
    "    if month in [2,3]: #February March\n",
    "        return \"Feb-Mar\"\n",
    "    elif month in [5,6]: #May June\n",
    "        return \"May-Jun\"\n",
    "    elif month in [8,9]: # August September\n",
    "        return \"Aug-Sep\"\n",
    "    else: # Not taken into account in the paper\n",
    "        return \"Others\"\n",
    "# get season\n",
    "paperseason_labels = xr.apply_ufunc(\n",
    "    np.vectorize(get_group_month),\n",
    "    ds_pter_2deg['month'],\n",
    "    vectorize=True\n",
    ")\n",
    "\n",
    "# Add season to dataset\n",
    "ds_pter_2deg = ds_pter_2deg.assign_coords(season=(\"time\", paperseason_labels.data))\n",
    "\n",
    "#compute seasonal climatology\n",
    "paperseasonal_mean = ds_pter_2deg.groupby('season').mean(dim=['time', 'longitude', 'latitude', 'depth', 'is_day'], skipna=True)\n",
    "paperseasonal_std = ds_pter_2deg.groupby('season').std(dim=['time', 'longitude', 'latitude', 'depth', 'is_day'], skipna=True)\n",
    "paperseasonal_median = ds_pter_2deg.groupby('season').median(dim=['time', 'longitude', 'latitude', 'depth', 'is_day'], skipna=True)\n",
    "paperseasonal_count = ds_pter_2deg.groupby('season').count(dim=['time', 'longitude', 'latitude', 'depth', 'is_day'])\n",
    "# DataFrame for ploty\n",
    "df_seasonal_mean = paperseasonal_mean.to_dataframe().reset_index()\n",
    "df_seasonal_std = paperseasonal_std.to_dataframe().reset_index()\n",
    "df_seasonal_median = paperseasonal_median.to_dataframe(name=\"pteropod_biomass_median\").reset_index()\n",
    "df_seasonal_count = paperseasonal_count.to_dataframe(name=\"non_nan_count\").reset_index()\n",
    "\n",
    "df_paperseasonal = df_seasonal_mean.merge(df_seasonal_std, on=\"season\", suffixes=(\"_mean\", \"_std\"))\n",
    "df_paperseasonal = df_paperseasonal.merge(df_seasonal_median, on=\"season\")\n",
    "df_paperseasonal = df_paperseasonal.merge(df_seasonal_count, on=\"season\")\n",
    "\n",
    "#re-order seasons\n",
    "from pandas.api.types import CategoricalDtype\n",
    "\n",
    "# define ordrer\n",
    "paperseason_order = CategoricalDtype(\n",
    "    categories=[\"Feb-Mar\", \"May-Jun\", \"Aug-Sep\", \"Others\"],\n",
    "    ordered=True\n",
    ")\n",
    "\n",
    "# re-order\n",
    "df_paperseasonal[\"season\"] = df_paperseasonal[\"season\"].astype(paperseason_order)\n",
    "\n",
    "# sort dataframe\n",
    "df_paperseasonal = df_paperseasonal.sort_values(\"season\").reset_index(drop=True)\n",
    "\n",
    "df_paperseasonal=df_paperseasonal[:3] # Remove others months\n",
    "df_paperseasonal"
   ]
  },
  {
   "cell_type": "code",
   "execution_count": 46,
   "id": "4affaf77",
   "metadata": {},
   "outputs": [
    {
     "data": {
      "application/vnd.plotly.v1+json": {
       "config": {
        "plotlyServerURL": "https://plot.ly"
       },
       "data": [
        {
         "marker": {
          "color": "green",
          "size": 8,
          "symbol": "circle"
         },
         "mode": "markers",
         "name": "Median biomass x daily pld",
         "type": "scatter",
         "x": [
          "Feb-Mar",
          "May-Jun",
          "Aug-Sep"
         ],
         "y": {
          "bdata": "JUiTWig2iD9SRS8HU1C+P/wIvMeDQ5U/",
          "dtype": "f8"
         }
        },
        {
         "marker": {
          "color": "red",
          "size": 10,
          "symbol": "triangle-up"
         },
         "mode": "markers",
         "name": "Clione (from paper)",
         "type": "scatter",
         "x": [
          "Feb-Mar",
          "May-Jun",
          "Aug-Sep"
         ],
         "y": {
          "bdata": "y7kUV5V9hz9wJTs2AvG2P3zzGyYapKA/",
          "dtype": "f8"
         }
        },
        {
         "marker": {
          "color": "pink",
          "size": 10,
          "symbol": "triangle-down"
         },
         "mode": "markers",
         "name": "Limacina (from paper)",
         "type": "scatter",
         "x": [
          "Feb-Mar",
          "May-Jun",
          "Aug-Sep"
         ],
         "y": {
          "bdata": "qWqCqPsA6T+wOJz51ZwTQDQSoRFsXNs/",
          "dtype": "f8"
         }
        }
       ],
       "layout": {
        "legend": {
         "x": 0.01,
         "y": 0.99
        },
        "template": {
         "data": {
          "bar": [
           {
            "error_x": {
             "color": "#2a3f5f"
            },
            "error_y": {
             "color": "#2a3f5f"
            },
            "marker": {
             "line": {
              "color": "white",
              "width": 0.5
             },
             "pattern": {
              "fillmode": "overlay",
              "size": 10,
              "solidity": 0.2
             }
            },
            "type": "bar"
           }
          ],
          "barpolar": [
           {
            "marker": {
             "line": {
              "color": "white",
              "width": 0.5
             },
             "pattern": {
              "fillmode": "overlay",
              "size": 10,
              "solidity": 0.2
             }
            },
            "type": "barpolar"
           }
          ],
          "carpet": [
           {
            "aaxis": {
             "endlinecolor": "#2a3f5f",
             "gridcolor": "#C8D4E3",
             "linecolor": "#C8D4E3",
             "minorgridcolor": "#C8D4E3",
             "startlinecolor": "#2a3f5f"
            },
            "baxis": {
             "endlinecolor": "#2a3f5f",
             "gridcolor": "#C8D4E3",
             "linecolor": "#C8D4E3",
             "minorgridcolor": "#C8D4E3",
             "startlinecolor": "#2a3f5f"
            },
            "type": "carpet"
           }
          ],
          "choropleth": [
           {
            "colorbar": {
             "outlinewidth": 0,
             "ticks": ""
            },
            "type": "choropleth"
           }
          ],
          "contour": [
           {
            "colorbar": {
             "outlinewidth": 0,
             "ticks": ""
            },
            "colorscale": [
             [
              0,
              "#0d0887"
             ],
             [
              0.1111111111111111,
              "#46039f"
             ],
             [
              0.2222222222222222,
              "#7201a8"
             ],
             [
              0.3333333333333333,
              "#9c179e"
             ],
             [
              0.4444444444444444,
              "#bd3786"
             ],
             [
              0.5555555555555556,
              "#d8576b"
             ],
             [
              0.6666666666666666,
              "#ed7953"
             ],
             [
              0.7777777777777778,
              "#fb9f3a"
             ],
             [
              0.8888888888888888,
              "#fdca26"
             ],
             [
              1,
              "#f0f921"
             ]
            ],
            "type": "contour"
           }
          ],
          "contourcarpet": [
           {
            "colorbar": {
             "outlinewidth": 0,
             "ticks": ""
            },
            "type": "contourcarpet"
           }
          ],
          "heatmap": [
           {
            "colorbar": {
             "outlinewidth": 0,
             "ticks": ""
            },
            "colorscale": [
             [
              0,
              "#0d0887"
             ],
             [
              0.1111111111111111,
              "#46039f"
             ],
             [
              0.2222222222222222,
              "#7201a8"
             ],
             [
              0.3333333333333333,
              "#9c179e"
             ],
             [
              0.4444444444444444,
              "#bd3786"
             ],
             [
              0.5555555555555556,
              "#d8576b"
             ],
             [
              0.6666666666666666,
              "#ed7953"
             ],
             [
              0.7777777777777778,
              "#fb9f3a"
             ],
             [
              0.8888888888888888,
              "#fdca26"
             ],
             [
              1,
              "#f0f921"
             ]
            ],
            "type": "heatmap"
           }
          ],
          "histogram": [
           {
            "marker": {
             "pattern": {
              "fillmode": "overlay",
              "size": 10,
              "solidity": 0.2
             }
            },
            "type": "histogram"
           }
          ],
          "histogram2d": [
           {
            "colorbar": {
             "outlinewidth": 0,
             "ticks": ""
            },
            "colorscale": [
             [
              0,
              "#0d0887"
             ],
             [
              0.1111111111111111,
              "#46039f"
             ],
             [
              0.2222222222222222,
              "#7201a8"
             ],
             [
              0.3333333333333333,
              "#9c179e"
             ],
             [
              0.4444444444444444,
              "#bd3786"
             ],
             [
              0.5555555555555556,
              "#d8576b"
             ],
             [
              0.6666666666666666,
              "#ed7953"
             ],
             [
              0.7777777777777778,
              "#fb9f3a"
             ],
             [
              0.8888888888888888,
              "#fdca26"
             ],
             [
              1,
              "#f0f921"
             ]
            ],
            "type": "histogram2d"
           }
          ],
          "histogram2dcontour": [
           {
            "colorbar": {
             "outlinewidth": 0,
             "ticks": ""
            },
            "colorscale": [
             [
              0,
              "#0d0887"
             ],
             [
              0.1111111111111111,
              "#46039f"
             ],
             [
              0.2222222222222222,
              "#7201a8"
             ],
             [
              0.3333333333333333,
              "#9c179e"
             ],
             [
              0.4444444444444444,
              "#bd3786"
             ],
             [
              0.5555555555555556,
              "#d8576b"
             ],
             [
              0.6666666666666666,
              "#ed7953"
             ],
             [
              0.7777777777777778,
              "#fb9f3a"
             ],
             [
              0.8888888888888888,
              "#fdca26"
             ],
             [
              1,
              "#f0f921"
             ]
            ],
            "type": "histogram2dcontour"
           }
          ],
          "mesh3d": [
           {
            "colorbar": {
             "outlinewidth": 0,
             "ticks": ""
            },
            "type": "mesh3d"
           }
          ],
          "parcoords": [
           {
            "line": {
             "colorbar": {
              "outlinewidth": 0,
              "ticks": ""
             }
            },
            "type": "parcoords"
           }
          ],
          "pie": [
           {
            "automargin": true,
            "type": "pie"
           }
          ],
          "scatter": [
           {
            "fillpattern": {
             "fillmode": "overlay",
             "size": 10,
             "solidity": 0.2
            },
            "type": "scatter"
           }
          ],
          "scatter3d": [
           {
            "line": {
             "colorbar": {
              "outlinewidth": 0,
              "ticks": ""
             }
            },
            "marker": {
             "colorbar": {
              "outlinewidth": 0,
              "ticks": ""
             }
            },
            "type": "scatter3d"
           }
          ],
          "scattercarpet": [
           {
            "marker": {
             "colorbar": {
              "outlinewidth": 0,
              "ticks": ""
             }
            },
            "type": "scattercarpet"
           }
          ],
          "scattergeo": [
           {
            "marker": {
             "colorbar": {
              "outlinewidth": 0,
              "ticks": ""
             }
            },
            "type": "scattergeo"
           }
          ],
          "scattergl": [
           {
            "marker": {
             "colorbar": {
              "outlinewidth": 0,
              "ticks": ""
             }
            },
            "type": "scattergl"
           }
          ],
          "scattermap": [
           {
            "marker": {
             "colorbar": {
              "outlinewidth": 0,
              "ticks": ""
             }
            },
            "type": "scattermap"
           }
          ],
          "scattermapbox": [
           {
            "marker": {
             "colorbar": {
              "outlinewidth": 0,
              "ticks": ""
             }
            },
            "type": "scattermapbox"
           }
          ],
          "scatterpolar": [
           {
            "marker": {
             "colorbar": {
              "outlinewidth": 0,
              "ticks": ""
             }
            },
            "type": "scatterpolar"
           }
          ],
          "scatterpolargl": [
           {
            "marker": {
             "colorbar": {
              "outlinewidth": 0,
              "ticks": ""
             }
            },
            "type": "scatterpolargl"
           }
          ],
          "scatterternary": [
           {
            "marker": {
             "colorbar": {
              "outlinewidth": 0,
              "ticks": ""
             }
            },
            "type": "scatterternary"
           }
          ],
          "surface": [
           {
            "colorbar": {
             "outlinewidth": 0,
             "ticks": ""
            },
            "colorscale": [
             [
              0,
              "#0d0887"
             ],
             [
              0.1111111111111111,
              "#46039f"
             ],
             [
              0.2222222222222222,
              "#7201a8"
             ],
             [
              0.3333333333333333,
              "#9c179e"
             ],
             [
              0.4444444444444444,
              "#bd3786"
             ],
             [
              0.5555555555555556,
              "#d8576b"
             ],
             [
              0.6666666666666666,
              "#ed7953"
             ],
             [
              0.7777777777777778,
              "#fb9f3a"
             ],
             [
              0.8888888888888888,
              "#fdca26"
             ],
             [
              1,
              "#f0f921"
             ]
            ],
            "type": "surface"
           }
          ],
          "table": [
           {
            "cells": {
             "fill": {
              "color": "#EBF0F8"
             },
             "line": {
              "color": "white"
             }
            },
            "header": {
             "fill": {
              "color": "#C8D4E3"
             },
             "line": {
              "color": "white"
             }
            },
            "type": "table"
           }
          ]
         },
         "layout": {
          "annotationdefaults": {
           "arrowcolor": "#2a3f5f",
           "arrowhead": 0,
           "arrowwidth": 1
          },
          "autotypenumbers": "strict",
          "coloraxis": {
           "colorbar": {
            "outlinewidth": 0,
            "ticks": ""
           }
          },
          "colorscale": {
           "diverging": [
            [
             0,
             "#8e0152"
            ],
            [
             0.1,
             "#c51b7d"
            ],
            [
             0.2,
             "#de77ae"
            ],
            [
             0.3,
             "#f1b6da"
            ],
            [
             0.4,
             "#fde0ef"
            ],
            [
             0.5,
             "#f7f7f7"
            ],
            [
             0.6,
             "#e6f5d0"
            ],
            [
             0.7,
             "#b8e186"
            ],
            [
             0.8,
             "#7fbc41"
            ],
            [
             0.9,
             "#4d9221"
            ],
            [
             1,
             "#276419"
            ]
           ],
           "sequential": [
            [
             0,
             "#0d0887"
            ],
            [
             0.1111111111111111,
             "#46039f"
            ],
            [
             0.2222222222222222,
             "#7201a8"
            ],
            [
             0.3333333333333333,
             "#9c179e"
            ],
            [
             0.4444444444444444,
             "#bd3786"
            ],
            [
             0.5555555555555556,
             "#d8576b"
            ],
            [
             0.6666666666666666,
             "#ed7953"
            ],
            [
             0.7777777777777778,
             "#fb9f3a"
            ],
            [
             0.8888888888888888,
             "#fdca26"
            ],
            [
             1,
             "#f0f921"
            ]
           ],
           "sequentialminus": [
            [
             0,
             "#0d0887"
            ],
            [
             0.1111111111111111,
             "#46039f"
            ],
            [
             0.2222222222222222,
             "#7201a8"
            ],
            [
             0.3333333333333333,
             "#9c179e"
            ],
            [
             0.4444444444444444,
             "#bd3786"
            ],
            [
             0.5555555555555556,
             "#d8576b"
            ],
            [
             0.6666666666666666,
             "#ed7953"
            ],
            [
             0.7777777777777778,
             "#fb9f3a"
            ],
            [
             0.8888888888888888,
             "#fdca26"
            ],
            [
             1,
             "#f0f921"
            ]
           ]
          },
          "colorway": [
           "#636efa",
           "#EF553B",
           "#00cc96",
           "#ab63fa",
           "#FFA15A",
           "#19d3f3",
           "#FF6692",
           "#B6E880",
           "#FF97FF",
           "#FECB52"
          ],
          "font": {
           "color": "#2a3f5f"
          },
          "geo": {
           "bgcolor": "white",
           "lakecolor": "white",
           "landcolor": "white",
           "showlakes": true,
           "showland": true,
           "subunitcolor": "#C8D4E3"
          },
          "hoverlabel": {
           "align": "left"
          },
          "hovermode": "closest",
          "mapbox": {
           "style": "light"
          },
          "paper_bgcolor": "white",
          "plot_bgcolor": "white",
          "polar": {
           "angularaxis": {
            "gridcolor": "#EBF0F8",
            "linecolor": "#EBF0F8",
            "ticks": ""
           },
           "bgcolor": "white",
           "radialaxis": {
            "gridcolor": "#EBF0F8",
            "linecolor": "#EBF0F8",
            "ticks": ""
           }
          },
          "scene": {
           "xaxis": {
            "backgroundcolor": "white",
            "gridcolor": "#DFE8F3",
            "gridwidth": 2,
            "linecolor": "#EBF0F8",
            "showbackground": true,
            "ticks": "",
            "zerolinecolor": "#EBF0F8"
           },
           "yaxis": {
            "backgroundcolor": "white",
            "gridcolor": "#DFE8F3",
            "gridwidth": 2,
            "linecolor": "#EBF0F8",
            "showbackground": true,
            "ticks": "",
            "zerolinecolor": "#EBF0F8"
           },
           "zaxis": {
            "backgroundcolor": "white",
            "gridcolor": "#DFE8F3",
            "gridwidth": 2,
            "linecolor": "#EBF0F8",
            "showbackground": true,
            "ticks": "",
            "zerolinecolor": "#EBF0F8"
           }
          },
          "shapedefaults": {
           "line": {
            "color": "#2a3f5f"
           }
          },
          "ternary": {
           "aaxis": {
            "gridcolor": "#DFE8F3",
            "linecolor": "#A2B1C6",
            "ticks": ""
           },
           "baxis": {
            "gridcolor": "#DFE8F3",
            "linecolor": "#A2B1C6",
            "ticks": ""
           },
           "bgcolor": "white",
           "caxis": {
            "gridcolor": "#DFE8F3",
            "linecolor": "#A2B1C6",
            "ticks": ""
           }
          },
          "title": {
           "x": 0.05
          },
          "xaxis": {
           "automargin": true,
           "gridcolor": "#EBF0F8",
           "linecolor": "#EBF0F8",
           "ticks": "",
           "title": {
            "standoff": 15
           },
           "zerolinecolor": "#EBF0F8",
           "zerolinewidth": 2
          },
          "yaxis": {
           "automargin": true,
           "gridcolor": "#EBF0F8",
           "linecolor": "#EBF0F8",
           "ticks": "",
           "title": {
            "standoff": 15
           },
           "zerolinecolor": "#EBF0F8",
           "zerolinewidth": 2
          }
         }
        },
        "title": {
         "text": "Average Seasonal Cycles of Pteropod Biomass - comparison with litterature"
        },
        "xaxis": {
         "title": {
          "text": "Season"
         }
        },
        "yaxis": {
         "title": {
          "text": "Biomass [g m-2]"
         },
         "type": "log"
        },
        "yaxis2": {
         "overlaying": "y",
         "showgrid": false,
         "side": "right",
         "title": {
          "text": "Non-NaN count"
         }
        }
       }
      }
     },
     "metadata": {},
     "output_type": "display_data"
    }
   ],
   "source": [
    "fig = go.Figure()\n",
    "\n",
    "# Median - daily pld\n",
    "fig.add_trace(go.Scatter(\n",
    "    x=df_paperseasonal['season'],\n",
    "    y=df_paperseasonal['pteropod_biomass_median'],\n",
    "    mode='markers',\n",
    "    name='Median biomass x daily pld',\n",
    "    marker=dict(color='green', symbol='circle', size=8)\n",
    "))\n",
    "\n",
    "#add data from paper\n",
    "for species in df_mackasgalbraith[\"species_name\"].unique():\n",
    "    sub_df_mackasgalbraith = df_mackasgalbraith[df_mackasgalbraith[\"species_name\"] == species]\n",
    "    fig.add_trace(go.Scatter(\n",
    "        x=sub_df_mackasgalbraith[\"season\"],\n",
    "        y=sub_df_mackasgalbraith[\"biomass\"],\n",
    "        mode=\"markers\",\n",
    "        name=f'{species} (from paper)',\n",
    "        marker=dict(\n",
    "            size=10,\n",
    "            color='red'if species == \"Clione\" else \"pink\",\n",
    "            symbol=\"triangle-up\" if species == \"Clione\" else \"triangle-down\"\n",
    "        )\n",
    "    ))\n",
    "\n",
    "# presentation\n",
    "fig.update_layout(\n",
    "    title='Average Seasonal Cycles of Pteropod Biomass - comparison with litterature',\n",
    "    xaxis=dict(title='Season'),\n",
    "    yaxis=dict(\n",
    "        title='Biomass [g m-2]',\n",
    "        type='log',\n",
    "    ),\n",
    "    yaxis2=dict(\n",
    "        title='Non-NaN count',\n",
    "        overlaying='y',\n",
    "        side='right',\n",
    "        showgrid=False\n",
    "    ),\n",
    "    legend=dict(x=0.01, y=0.99),\n",
    "    template='plotly_white'\n",
    ")\n",
    "\n",
    "fig.show()\n"
   ]
  },
  {
   "cell_type": "markdown",
   "id": "bb3a4de8",
   "metadata": {},
   "source": [
    "Rq : improvement in feb-mar (before *2!=) and may-june (same !=) in aug sep before = over-estimation, now under-estimation (of the same magnitude)"
   ]
  },
  {
   "cell_type": "markdown",
   "id": "eb41aea0",
   "metadata": {},
   "source": [
    "## Log10 Climatology"
   ]
  },
  {
   "cell_type": "markdown",
   "id": "3718c8de",
   "metadata": {},
   "source": [
    "<div style=\"padding: 10px; border-radius: 5px; background-color: #cce5ff; color: #004085; border-left: 5px solid #007bff;\">\n",
    "    <strong>Note :</strong> To do this Log10 Climatology, 20 zeros values have been removed. (log10(0)=-inf )\n",
    "</div>"
   ]
  },
  {
   "cell_type": "code",
   "execution_count": 108,
   "id": "9f76166e",
   "metadata": {},
   "outputs": [
    {
     "name": "stdout",
     "output_type": "stream",
     "text": [
      "   month  pteropod_biomass_gm2_mean  pteropod_biomass_gm2_std  \\\n",
      "0      1                   0.033287                  0.260625   \n",
      "1      2                   0.017922                  0.410406   \n",
      "2      3                   0.009675                  0.433482   \n",
      "3      4                   0.087757                  0.344764   \n",
      "4      5                   0.143989                  0.715110   \n",
      "5      6                   0.138077                  0.736781   \n",
      "6      7                   0.036432                  0.808265   \n",
      "7      8                   0.033574                  0.848848   \n",
      "8      9                   0.028515                  0.627508   \n",
      "9     10                   0.019716                  0.484149   \n",
      "\n",
      "   pteropod_biomass_median  non_nan_count  \n",
      "0                 0.037669              5  \n",
      "1                 0.015123             37  \n",
      "2                 0.009227              5  \n",
      "3                 0.057290              5  \n",
      "4                 0.145701             68  \n",
      "5                 0.122413             46  \n",
      "6                 0.032364             29  \n",
      "7                 0.025883             42  \n",
      "8                 0.023482             47  \n",
      "9                 0.024265             21  \n"
     ]
    }
   ],
   "source": [
    "# Compute Monthly log10 Climatology\n",
    "\n",
    "# Convert in log 10 -----------------------------\n",
    "ds_pter_log10=np.log10(ds_pter_2deg_no_0)\n",
    "# Extract month\n",
    "ds_pter_log10['month'] = ds_pter_log10['time.month']\n",
    "\n",
    "# Mean\n",
    "monthly_mean = ds_pter_log10.groupby('month').mean(dim=['time', 'is_day', 'longitude', 'latitude', 'depth'])\n",
    "# Standard deviation\n",
    "monthly_std = ds_pter_log10.groupby('month').std(dim=['time', 'is_day', 'longitude', 'latitude', 'depth'])\n",
    "# Non NaN count\n",
    "monthly_count = ds_pter_log10.groupby('month').count(dim=['time', 'is_day', 'longitude', 'latitude', 'depth'])\n",
    "# Median\n",
    "monthly_median = ds_pter_log10.groupby('month').median(dim=['time', 'is_day', 'longitude', 'latitude', 'depth'])\n",
    "# Convert back in 'normal'\n",
    "monthly_mean=10**monthly_mean\n",
    "#monthly_std=10**monthly_std\n",
    "monthly_median=10**monthly_median\n",
    "\n",
    "# DataFrames Conversion (to use px)\n",
    "df_mean = monthly_mean.to_dataframe().reset_index()\n",
    "df_std = monthly_std.to_dataframe().reset_index()\n",
    "df_count = monthly_count.to_dataframe(name='non_nan_count').reset_index()\n",
    "df_median=monthly_median.to_dataframe(name='pteropod_biomass_median').reset_index()\n",
    "\n",
    "df_clim_v2 = df_mean.merge(df_std, on='month', suffixes=('_mean', '_std'))\n",
    "df_clim_v2 = df_clim_v2.merge(df_median,on='month')\n",
    "df_clim_v2 = df_clim_v2.merge(df_count, on='month')\n",
    "\n",
    "\n",
    "print(df_clim_v2)\n"
   ]
  },
  {
   "cell_type": "code",
   "execution_count": null,
   "id": "56fb77d2",
   "metadata": {},
   "outputs": [],
   "source": [
    "#df_clim_v2.to_csv(\"/data/rd_exchange/sroyer/SEAPOPYM/monthly_clim_pteropod_1998_2020_v3.csv\", index=False)"
   ]
  },
  {
   "cell_type": "markdown",
   "id": "b1cd7a4a",
   "metadata": {},
   "source": [
    "<div style=\"padding: 10px; border-radius: 5px; background-color: #d4edda; color: #155724; border-left: 5px solid #28a745;\">\n",
    "    <strong>Question:</strong> for the standard deviation, do i do 10**pter_std ?\n",
    "</div>"
   ]
  },
  {
   "cell_type": "code",
   "execution_count": 106,
   "id": "3b918e0e",
   "metadata": {},
   "outputs": [
    {
     "data": {
      "application/vnd.plotly.v1+json": {
       "config": {
        "plotlyServerURL": "https://plot.ly"
       },
       "data": [
        {
         "error_y": {
          "array": {
           "bdata": "3daZrhOu0D8vUqaIF0TaP8pmxG8rvts/DkyKkJsQ1j/f2jO/LeLmPyvJTQi2k+c/I/U/p07d6T8F6Lq7winrP7HYRMWKFOQ/hdxOUEr83j8=",
           "dtype": "f8"
          },
          "type": "data",
          "visible": true
         },
         "line": {
          "color": "royalblue"
         },
         "marker": {
          "size": 6
         },
         "mode": "lines+markers",
         "name": "Mean biomass using log10 method",
         "type": "scatter",
         "x": {
          "bdata": "AQIDBAUGBwgJCg==",
          "dtype": "i1"
         },
         "y": {
          "bdata": "de2PfgULoT8w/YXSPlqSP1g7NX680IM/GLiKs0B3tj8UHxScPW7CP6zK3KKErME/vjqkl0Gnoj/xUlD+oTChP/+tGPQoM50/7fkzHHowlD8=",
          "dtype": "f8"
         }
        },
        {
         "marker": {
          "color": "red",
          "size": 8,
          "symbol": "circle"
         },
         "mode": "markers",
         "name": "Median biomass",
         "type": "scatter",
         "x": {
          "bdata": "AQIDBAUGBwgJCg==",
          "dtype": "i1"
         },
         "y": {
          "bdata": "P0xLnFJJoz/yyQUHFReOP2zh5QFoBXs/lJ6ZJBpVrT/P0v7rTt/AP2rgfktJLbo/oO0yxKtmnj99gYxDAJmVP+lEGJ8Hd5Q/UE0BWDhClj8=",
          "dtype": "f8"
         }
        },
        {
         "marker": {
          "color": "orange",
          "size": 8,
          "symbol": "circle"
         },
         "mode": "markers",
         "name": "Median biomass using log10 method",
         "type": "scatter",
         "x": {
          "bdata": "AQIDBAUGBwgJCg==",
          "dtype": "i1"
         },
         "y": {
          "bdata": "P0xLnFJJoz+58UM9EfmOP0yKUdaj5YI/kp6ZJBpVrT81lprsUKbCPw8j4jlvVr8/JlJ+FQmSoD9BLS6p+oCaP/DlJnC9C5g/PIC6fvbYmD8=",
          "dtype": "f8"
         }
        },
        {
         "marker": {
          "color": "lightgrey"
         },
         "name": "Valid data count",
         "opacity": 0.4,
         "type": "bar",
         "x": {
          "bdata": "AQIDBAUGBwgJCg==",
          "dtype": "i1"
         },
         "y": {
          "bdata": "BSUFBUQuHSovFQ==",
          "dtype": "i1"
         },
         "yaxis": "y2"
        }
       ],
       "layout": {
        "legend": {
         "x": 0.01,
         "y": 0.99
        },
        "template": {
         "data": {
          "bar": [
           {
            "error_x": {
             "color": "#2a3f5f"
            },
            "error_y": {
             "color": "#2a3f5f"
            },
            "marker": {
             "line": {
              "color": "white",
              "width": 0.5
             },
             "pattern": {
              "fillmode": "overlay",
              "size": 10,
              "solidity": 0.2
             }
            },
            "type": "bar"
           }
          ],
          "barpolar": [
           {
            "marker": {
             "line": {
              "color": "white",
              "width": 0.5
             },
             "pattern": {
              "fillmode": "overlay",
              "size": 10,
              "solidity": 0.2
             }
            },
            "type": "barpolar"
           }
          ],
          "carpet": [
           {
            "aaxis": {
             "endlinecolor": "#2a3f5f",
             "gridcolor": "#C8D4E3",
             "linecolor": "#C8D4E3",
             "minorgridcolor": "#C8D4E3",
             "startlinecolor": "#2a3f5f"
            },
            "baxis": {
             "endlinecolor": "#2a3f5f",
             "gridcolor": "#C8D4E3",
             "linecolor": "#C8D4E3",
             "minorgridcolor": "#C8D4E3",
             "startlinecolor": "#2a3f5f"
            },
            "type": "carpet"
           }
          ],
          "choropleth": [
           {
            "colorbar": {
             "outlinewidth": 0,
             "ticks": ""
            },
            "type": "choropleth"
           }
          ],
          "contour": [
           {
            "colorbar": {
             "outlinewidth": 0,
             "ticks": ""
            },
            "colorscale": [
             [
              0,
              "#0d0887"
             ],
             [
              0.1111111111111111,
              "#46039f"
             ],
             [
              0.2222222222222222,
              "#7201a8"
             ],
             [
              0.3333333333333333,
              "#9c179e"
             ],
             [
              0.4444444444444444,
              "#bd3786"
             ],
             [
              0.5555555555555556,
              "#d8576b"
             ],
             [
              0.6666666666666666,
              "#ed7953"
             ],
             [
              0.7777777777777778,
              "#fb9f3a"
             ],
             [
              0.8888888888888888,
              "#fdca26"
             ],
             [
              1,
              "#f0f921"
             ]
            ],
            "type": "contour"
           }
          ],
          "contourcarpet": [
           {
            "colorbar": {
             "outlinewidth": 0,
             "ticks": ""
            },
            "type": "contourcarpet"
           }
          ],
          "heatmap": [
           {
            "colorbar": {
             "outlinewidth": 0,
             "ticks": ""
            },
            "colorscale": [
             [
              0,
              "#0d0887"
             ],
             [
              0.1111111111111111,
              "#46039f"
             ],
             [
              0.2222222222222222,
              "#7201a8"
             ],
             [
              0.3333333333333333,
              "#9c179e"
             ],
             [
              0.4444444444444444,
              "#bd3786"
             ],
             [
              0.5555555555555556,
              "#d8576b"
             ],
             [
              0.6666666666666666,
              "#ed7953"
             ],
             [
              0.7777777777777778,
              "#fb9f3a"
             ],
             [
              0.8888888888888888,
              "#fdca26"
             ],
             [
              1,
              "#f0f921"
             ]
            ],
            "type": "heatmap"
           }
          ],
          "histogram": [
           {
            "marker": {
             "pattern": {
              "fillmode": "overlay",
              "size": 10,
              "solidity": 0.2
             }
            },
            "type": "histogram"
           }
          ],
          "histogram2d": [
           {
            "colorbar": {
             "outlinewidth": 0,
             "ticks": ""
            },
            "colorscale": [
             [
              0,
              "#0d0887"
             ],
             [
              0.1111111111111111,
              "#46039f"
             ],
             [
              0.2222222222222222,
              "#7201a8"
             ],
             [
              0.3333333333333333,
              "#9c179e"
             ],
             [
              0.4444444444444444,
              "#bd3786"
             ],
             [
              0.5555555555555556,
              "#d8576b"
             ],
             [
              0.6666666666666666,
              "#ed7953"
             ],
             [
              0.7777777777777778,
              "#fb9f3a"
             ],
             [
              0.8888888888888888,
              "#fdca26"
             ],
             [
              1,
              "#f0f921"
             ]
            ],
            "type": "histogram2d"
           }
          ],
          "histogram2dcontour": [
           {
            "colorbar": {
             "outlinewidth": 0,
             "ticks": ""
            },
            "colorscale": [
             [
              0,
              "#0d0887"
             ],
             [
              0.1111111111111111,
              "#46039f"
             ],
             [
              0.2222222222222222,
              "#7201a8"
             ],
             [
              0.3333333333333333,
              "#9c179e"
             ],
             [
              0.4444444444444444,
              "#bd3786"
             ],
             [
              0.5555555555555556,
              "#d8576b"
             ],
             [
              0.6666666666666666,
              "#ed7953"
             ],
             [
              0.7777777777777778,
              "#fb9f3a"
             ],
             [
              0.8888888888888888,
              "#fdca26"
             ],
             [
              1,
              "#f0f921"
             ]
            ],
            "type": "histogram2dcontour"
           }
          ],
          "mesh3d": [
           {
            "colorbar": {
             "outlinewidth": 0,
             "ticks": ""
            },
            "type": "mesh3d"
           }
          ],
          "parcoords": [
           {
            "line": {
             "colorbar": {
              "outlinewidth": 0,
              "ticks": ""
             }
            },
            "type": "parcoords"
           }
          ],
          "pie": [
           {
            "automargin": true,
            "type": "pie"
           }
          ],
          "scatter": [
           {
            "fillpattern": {
             "fillmode": "overlay",
             "size": 10,
             "solidity": 0.2
            },
            "type": "scatter"
           }
          ],
          "scatter3d": [
           {
            "line": {
             "colorbar": {
              "outlinewidth": 0,
              "ticks": ""
             }
            },
            "marker": {
             "colorbar": {
              "outlinewidth": 0,
              "ticks": ""
             }
            },
            "type": "scatter3d"
           }
          ],
          "scattercarpet": [
           {
            "marker": {
             "colorbar": {
              "outlinewidth": 0,
              "ticks": ""
             }
            },
            "type": "scattercarpet"
           }
          ],
          "scattergeo": [
           {
            "marker": {
             "colorbar": {
              "outlinewidth": 0,
              "ticks": ""
             }
            },
            "type": "scattergeo"
           }
          ],
          "scattergl": [
           {
            "marker": {
             "colorbar": {
              "outlinewidth": 0,
              "ticks": ""
             }
            },
            "type": "scattergl"
           }
          ],
          "scattermap": [
           {
            "marker": {
             "colorbar": {
              "outlinewidth": 0,
              "ticks": ""
             }
            },
            "type": "scattermap"
           }
          ],
          "scattermapbox": [
           {
            "marker": {
             "colorbar": {
              "outlinewidth": 0,
              "ticks": ""
             }
            },
            "type": "scattermapbox"
           }
          ],
          "scatterpolar": [
           {
            "marker": {
             "colorbar": {
              "outlinewidth": 0,
              "ticks": ""
             }
            },
            "type": "scatterpolar"
           }
          ],
          "scatterpolargl": [
           {
            "marker": {
             "colorbar": {
              "outlinewidth": 0,
              "ticks": ""
             }
            },
            "type": "scatterpolargl"
           }
          ],
          "scatterternary": [
           {
            "marker": {
             "colorbar": {
              "outlinewidth": 0,
              "ticks": ""
             }
            },
            "type": "scatterternary"
           }
          ],
          "surface": [
           {
            "colorbar": {
             "outlinewidth": 0,
             "ticks": ""
            },
            "colorscale": [
             [
              0,
              "#0d0887"
             ],
             [
              0.1111111111111111,
              "#46039f"
             ],
             [
              0.2222222222222222,
              "#7201a8"
             ],
             [
              0.3333333333333333,
              "#9c179e"
             ],
             [
              0.4444444444444444,
              "#bd3786"
             ],
             [
              0.5555555555555556,
              "#d8576b"
             ],
             [
              0.6666666666666666,
              "#ed7953"
             ],
             [
              0.7777777777777778,
              "#fb9f3a"
             ],
             [
              0.8888888888888888,
              "#fdca26"
             ],
             [
              1,
              "#f0f921"
             ]
            ],
            "type": "surface"
           }
          ],
          "table": [
           {
            "cells": {
             "fill": {
              "color": "#EBF0F8"
             },
             "line": {
              "color": "white"
             }
            },
            "header": {
             "fill": {
              "color": "#C8D4E3"
             },
             "line": {
              "color": "white"
             }
            },
            "type": "table"
           }
          ]
         },
         "layout": {
          "annotationdefaults": {
           "arrowcolor": "#2a3f5f",
           "arrowhead": 0,
           "arrowwidth": 1
          },
          "autotypenumbers": "strict",
          "coloraxis": {
           "colorbar": {
            "outlinewidth": 0,
            "ticks": ""
           }
          },
          "colorscale": {
           "diverging": [
            [
             0,
             "#8e0152"
            ],
            [
             0.1,
             "#c51b7d"
            ],
            [
             0.2,
             "#de77ae"
            ],
            [
             0.3,
             "#f1b6da"
            ],
            [
             0.4,
             "#fde0ef"
            ],
            [
             0.5,
             "#f7f7f7"
            ],
            [
             0.6,
             "#e6f5d0"
            ],
            [
             0.7,
             "#b8e186"
            ],
            [
             0.8,
             "#7fbc41"
            ],
            [
             0.9,
             "#4d9221"
            ],
            [
             1,
             "#276419"
            ]
           ],
           "sequential": [
            [
             0,
             "#0d0887"
            ],
            [
             0.1111111111111111,
             "#46039f"
            ],
            [
             0.2222222222222222,
             "#7201a8"
            ],
            [
             0.3333333333333333,
             "#9c179e"
            ],
            [
             0.4444444444444444,
             "#bd3786"
            ],
            [
             0.5555555555555556,
             "#d8576b"
            ],
            [
             0.6666666666666666,
             "#ed7953"
            ],
            [
             0.7777777777777778,
             "#fb9f3a"
            ],
            [
             0.8888888888888888,
             "#fdca26"
            ],
            [
             1,
             "#f0f921"
            ]
           ],
           "sequentialminus": [
            [
             0,
             "#0d0887"
            ],
            [
             0.1111111111111111,
             "#46039f"
            ],
            [
             0.2222222222222222,
             "#7201a8"
            ],
            [
             0.3333333333333333,
             "#9c179e"
            ],
            [
             0.4444444444444444,
             "#bd3786"
            ],
            [
             0.5555555555555556,
             "#d8576b"
            ],
            [
             0.6666666666666666,
             "#ed7953"
            ],
            [
             0.7777777777777778,
             "#fb9f3a"
            ],
            [
             0.8888888888888888,
             "#fdca26"
            ],
            [
             1,
             "#f0f921"
            ]
           ]
          },
          "colorway": [
           "#636efa",
           "#EF553B",
           "#00cc96",
           "#ab63fa",
           "#FFA15A",
           "#19d3f3",
           "#FF6692",
           "#B6E880",
           "#FF97FF",
           "#FECB52"
          ],
          "font": {
           "color": "#2a3f5f"
          },
          "geo": {
           "bgcolor": "white",
           "lakecolor": "white",
           "landcolor": "white",
           "showlakes": true,
           "showland": true,
           "subunitcolor": "#C8D4E3"
          },
          "hoverlabel": {
           "align": "left"
          },
          "hovermode": "closest",
          "mapbox": {
           "style": "light"
          },
          "paper_bgcolor": "white",
          "plot_bgcolor": "white",
          "polar": {
           "angularaxis": {
            "gridcolor": "#EBF0F8",
            "linecolor": "#EBF0F8",
            "ticks": ""
           },
           "bgcolor": "white",
           "radialaxis": {
            "gridcolor": "#EBF0F8",
            "linecolor": "#EBF0F8",
            "ticks": ""
           }
          },
          "scene": {
           "xaxis": {
            "backgroundcolor": "white",
            "gridcolor": "#DFE8F3",
            "gridwidth": 2,
            "linecolor": "#EBF0F8",
            "showbackground": true,
            "ticks": "",
            "zerolinecolor": "#EBF0F8"
           },
           "yaxis": {
            "backgroundcolor": "white",
            "gridcolor": "#DFE8F3",
            "gridwidth": 2,
            "linecolor": "#EBF0F8",
            "showbackground": true,
            "ticks": "",
            "zerolinecolor": "#EBF0F8"
           },
           "zaxis": {
            "backgroundcolor": "white",
            "gridcolor": "#DFE8F3",
            "gridwidth": 2,
            "linecolor": "#EBF0F8",
            "showbackground": true,
            "ticks": "",
            "zerolinecolor": "#EBF0F8"
           }
          },
          "shapedefaults": {
           "line": {
            "color": "#2a3f5f"
           }
          },
          "ternary": {
           "aaxis": {
            "gridcolor": "#DFE8F3",
            "linecolor": "#A2B1C6",
            "ticks": ""
           },
           "baxis": {
            "gridcolor": "#DFE8F3",
            "linecolor": "#A2B1C6",
            "ticks": ""
           },
           "bgcolor": "white",
           "caxis": {
            "gridcolor": "#DFE8F3",
            "linecolor": "#A2B1C6",
            "ticks": ""
           }
          },
          "title": {
           "x": 0.05
          },
          "xaxis": {
           "automargin": true,
           "gridcolor": "#EBF0F8",
           "linecolor": "#EBF0F8",
           "ticks": "",
           "title": {
            "standoff": 15
           },
           "zerolinecolor": "#EBF0F8",
           "zerolinewidth": 2
          },
          "yaxis": {
           "automargin": true,
           "gridcolor": "#EBF0F8",
           "linecolor": "#EBF0F8",
           "ticks": "",
           "title": {
            "standoff": 15
           },
           "zerolinecolor": "#EBF0F8",
           "zerolinewidth": 2
          }
         }
        },
        "title": {
         "text": "Monthly Climatology of Pteropod Biomass "
        },
        "xaxis": {
         "title": {
          "text": "Month"
         }
        },
        "yaxis": {
         "title": {
          "text": "Mean Biomass [g m-2]"
         },
         "type": "log"
        },
        "yaxis2": {
         "overlaying": "y",
         "showgrid": false,
         "side": "right",
         "title": {
          "text": "Non-NaN count"
         }
        }
       }
      }
     },
     "metadata": {},
     "output_type": "display_data"
    }
   ],
   "source": [
    "fig = go.Figure()\n",
    "\n",
    "# Mean + standard deviation (curve with error intervals)\n",
    "fig.add_trace(go.Scatter(\n",
    "    x=df_clim_v2['month'],\n",
    "    y=df_clim_v2['pteropod_biomass_gm2_mean'],\n",
    "    mode='lines+markers',\n",
    "    name='Mean biomass using log10 method',\n",
    "    error_y=dict(\n",
    "        type='data',\n",
    "        array=df_clim_v2['pteropod_biomass_gm2_std'],\n",
    "        visible=True\n",
    "    ),\n",
    "    line=dict(color='royalblue'),\n",
    "    marker=dict(size=6)\n",
    "))\n",
    "# Median (previous)\n",
    "fig.add_trace(go.Scatter(\n",
    "    x=df_clim['month'],\n",
    "    y=df_clim['pteropod_biomass_median'],\n",
    "    mode='markers',\n",
    "    name='Median biomass',\n",
    "    marker=dict(color='red', symbol='circle', size=8)\n",
    "))\n",
    "# Median (dots)\n",
    "fig.add_trace(go.Scatter(\n",
    "    x=df_clim_v2['month'],\n",
    "    y=df_clim_v2['pteropod_biomass_median'],\n",
    "    mode='markers',\n",
    "    name='Median biomass using log10 method',\n",
    "    marker=dict(color='orange', symbol='circle', size=8)\n",
    ")) \n",
    "\n",
    "\n",
    "# non-NaN count (bar, second axis)\n",
    "fig.add_trace(go.Bar(\n",
    "    x=df_clim_v2['month'],\n",
    "    y=df_clim_v2['non_nan_count'],\n",
    "    name='Valid data count',\n",
    "    yaxis='y2',\n",
    "    opacity=0.4,\n",
    "    marker_color='lightgrey'\n",
    "))\n",
    "\n",
    "# presentation\n",
    "fig.update_layout(\n",
    "    title='Monthly Climatology of Pteropod Biomass ',\n",
    "    xaxis=dict(title='Month'),\n",
    "    yaxis=dict(\n",
    "        type='log',\n",
    "        title='Mean Biomass [g m-2]',\n",
    "        #range=[df_clim[\"pteropods_mean\"].min() * 0.9, df_clim[\"pteropods_mean\"].max() * 3.4]  # dynamic adjustment\n",
    "    ),\n",
    "    yaxis2=dict(\n",
    "        title='Non-NaN count',\n",
    "        overlaying='y',\n",
    "        side='right',\n",
    "        showgrid=False\n",
    "    ),\n",
    "    legend=dict(x=0.01, y=0.99),\n",
    "    template='plotly_white'\n",
    ")\n",
    "\n",
    "fig.show()\n"
   ]
  },
  {
   "cell_type": "markdown",
   "id": "d1ebf825",
   "metadata": {},
   "source": [
    "### Compare with litterature"
   ]
  },
  {
   "cell_type": "code",
   "execution_count": 109,
   "id": "597b591c",
   "metadata": {},
   "outputs": [
    {
     "data": {
      "text/html": [
       "<div>\n",
       "<style scoped>\n",
       "    .dataframe tbody tr th:only-of-type {\n",
       "        vertical-align: middle;\n",
       "    }\n",
       "\n",
       "    .dataframe tbody tr th {\n",
       "        vertical-align: top;\n",
       "    }\n",
       "\n",
       "    .dataframe thead th {\n",
       "        text-align: right;\n",
       "    }\n",
       "</style>\n",
       "<table border=\"1\" class=\"dataframe\">\n",
       "  <thead>\n",
       "    <tr style=\"text-align: right;\">\n",
       "      <th></th>\n",
       "      <th>season</th>\n",
       "      <th>pteropod_biomass_gm2_mean</th>\n",
       "      <th>pteropod_biomass_gm2_std</th>\n",
       "      <th>pteropod_biomass_median</th>\n",
       "      <th>non_nan_count</th>\n",
       "    </tr>\n",
       "  </thead>\n",
       "  <tbody>\n",
       "    <tr>\n",
       "      <th>0</th>\n",
       "      <td>Feb-Mar</td>\n",
       "      <td>0.016654</td>\n",
       "      <td>0.422218</td>\n",
       "      <td>0.014732</td>\n",
       "      <td>42</td>\n",
       "    </tr>\n",
       "    <tr>\n",
       "      <th>1</th>\n",
       "      <td>May-Jun</td>\n",
       "      <td>0.141574</td>\n",
       "      <td>0.723988</td>\n",
       "      <td>0.138185</td>\n",
       "      <td>114</td>\n",
       "    </tr>\n",
       "    <tr>\n",
       "      <th>2</th>\n",
       "      <td>Aug-Sep</td>\n",
       "      <td>0.030800</td>\n",
       "      <td>0.741100</td>\n",
       "      <td>0.023482</td>\n",
       "      <td>89</td>\n",
       "    </tr>\n",
       "  </tbody>\n",
       "</table>\n",
       "</div>"
      ],
      "text/plain": [
       "    season  pteropod_biomass_gm2_mean  pteropod_biomass_gm2_std  \\\n",
       "0  Feb-Mar                   0.016654                  0.422218   \n",
       "1  May-Jun                   0.141574                  0.723988   \n",
       "2  Aug-Sep                   0.030800                  0.741100   \n",
       "\n",
       "   pteropod_biomass_median  non_nan_count  \n",
       "0                 0.014732             42  \n",
       "1                 0.138185            114  \n",
       "2                 0.023482             89  "
      ]
     },
     "execution_count": 109,
     "metadata": {},
     "output_type": "execute_result"
    }
   ],
   "source": [
    "#define Seasons\n",
    "def get_group_month(month):\n",
    "    if month in [2,3]: #February March\n",
    "        return \"Feb-Mar\"\n",
    "    elif month in [5,6]: #May June\n",
    "        return \"May-Jun\"\n",
    "    elif month in [8,9]: # August September\n",
    "        return \"Aug-Sep\"\n",
    "    else: # Not taken into account in the paper\n",
    "        return \"Others\"\n",
    "# get season\n",
    "paperseason_labels = xr.apply_ufunc(\n",
    "    np.vectorize(get_group_month),\n",
    "    ds_pter_log10['month'],\n",
    "    vectorize=True\n",
    ")\n",
    "\n",
    "# Add season to \n",
    "\n",
    "ds_pter_log10 = ds_pter_log10.assign_coords(season=(\"time\", paperseason_labels.data))\n",
    "\n",
    "#compute seasonal climatology\n",
    "paperseasonal_mean = ds_pter_log10.groupby('season').mean(dim=['time', 'longitude', 'latitude', 'depth', 'is_day'], skipna=True)\n",
    "paperseasonal_std = ds_pter_log10.groupby('season').std(dim=['time', 'longitude', 'latitude', 'depth', 'is_day'], skipna=True)\n",
    "paperseasonal_median = ds_pter_log10.groupby('season').median(dim=['time', 'longitude', 'latitude', 'depth', 'is_day'], skipna=True)\n",
    "paperseasonal_count = ds_pter_log10.groupby('season').count(dim=['time', 'longitude', 'latitude', 'depth', 'is_day'])\n",
    "#convert back in (normal 10**)\n",
    "paperseasonal_mean=10**paperseasonal_mean\n",
    "paperseasonal_median=10**paperseasonal_median\n",
    "# DataFrame for ploty\n",
    "df_seasonal_mean = paperseasonal_mean.to_dataframe().reset_index()\n",
    "df_seasonal_std = paperseasonal_std.to_dataframe().reset_index()\n",
    "df_seasonal_median = paperseasonal_median.to_dataframe(name=\"pteropod_biomass_median\").reset_index()\n",
    "df_seasonal_count = paperseasonal_count.to_dataframe(name=\"non_nan_count\").reset_index()\n",
    "\n",
    "df_paperseasonal = df_seasonal_mean.merge(df_seasonal_std, on=\"season\", suffixes=(\"_mean\", \"_std\"))\n",
    "df_paperseasonal = df_paperseasonal.merge(df_seasonal_median, on=\"season\")\n",
    "df_paperseasonal = df_paperseasonal.merge(df_seasonal_count, on=\"season\")\n",
    "\n",
    "#re-order seasons\n",
    "from pandas.api.types import CategoricalDtype\n",
    "\n",
    "# define ordrer\n",
    "paperseason_order = CategoricalDtype(\n",
    "    categories=[\"Feb-Mar\", \"May-Jun\", \"Aug-Sep\", \"Others\"],\n",
    "    ordered=True\n",
    ")\n",
    "\n",
    "# re-order\n",
    "df_paperseasonal[\"season\"] = df_paperseasonal[\"season\"].astype(paperseason_order)\n",
    "\n",
    "# sort dataframe\n",
    "df_paperseasonal = df_paperseasonal.sort_values(\"season\").reset_index(drop=True)\n",
    "\n",
    "df_paperseasonal=df_paperseasonal[:3] # Remove others months\n",
    "df_paperseasonal"
   ]
  },
  {
   "cell_type": "code",
   "execution_count": 104,
   "id": "121be1b0",
   "metadata": {},
   "outputs": [
    {
     "data": {
      "application/vnd.plotly.v1+json": {
       "config": {
        "plotlyServerURL": "https://plot.ly"
       },
       "data": [
        {
         "marker": {
          "color": "green",
          "size": 8,
          "symbol": "circle"
         },
         "mode": "markers",
         "name": "Median biomass x daily pld",
         "type": "scatter",
         "x": [
          "Feb-Mar",
          "May-Jun",
          "Aug-Sep"
         ],
         "y": {
          "bdata": "SamQht8rjj/xXS1dCbDBP/DlJnC9C5g/",
          "dtype": "f8"
         }
        },
        {
         "marker": {
          "color": "red",
          "size": 10,
          "symbol": "triangle-up"
         },
         "mode": "markers",
         "name": "Clione (from paper)",
         "type": "scatter",
         "x": [
          "Feb-Mar",
          "May-Jun",
          "Aug-Sep"
         ],
         "y": {
          "bdata": "y7kUV5V9hz9wJTs2AvG2P3zzGyYapKA/",
          "dtype": "f8"
         }
        },
        {
         "marker": {
          "color": "pink",
          "size": 10,
          "symbol": "triangle-down"
         },
         "mode": "markers",
         "name": "Limacina (from paper)",
         "type": "scatter",
         "x": [
          "Feb-Mar",
          "May-Jun",
          "Aug-Sep"
         ],
         "y": {
          "bdata": "qWqCqPsA6T+wOJz51ZwTQDQSoRFsXNs/",
          "dtype": "f8"
         }
        }
       ],
       "layout": {
        "legend": {
         "x": 0.01,
         "y": 0.99
        },
        "template": {
         "data": {
          "bar": [
           {
            "error_x": {
             "color": "#2a3f5f"
            },
            "error_y": {
             "color": "#2a3f5f"
            },
            "marker": {
             "line": {
              "color": "white",
              "width": 0.5
             },
             "pattern": {
              "fillmode": "overlay",
              "size": 10,
              "solidity": 0.2
             }
            },
            "type": "bar"
           }
          ],
          "barpolar": [
           {
            "marker": {
             "line": {
              "color": "white",
              "width": 0.5
             },
             "pattern": {
              "fillmode": "overlay",
              "size": 10,
              "solidity": 0.2
             }
            },
            "type": "barpolar"
           }
          ],
          "carpet": [
           {
            "aaxis": {
             "endlinecolor": "#2a3f5f",
             "gridcolor": "#C8D4E3",
             "linecolor": "#C8D4E3",
             "minorgridcolor": "#C8D4E3",
             "startlinecolor": "#2a3f5f"
            },
            "baxis": {
             "endlinecolor": "#2a3f5f",
             "gridcolor": "#C8D4E3",
             "linecolor": "#C8D4E3",
             "minorgridcolor": "#C8D4E3",
             "startlinecolor": "#2a3f5f"
            },
            "type": "carpet"
           }
          ],
          "choropleth": [
           {
            "colorbar": {
             "outlinewidth": 0,
             "ticks": ""
            },
            "type": "choropleth"
           }
          ],
          "contour": [
           {
            "colorbar": {
             "outlinewidth": 0,
             "ticks": ""
            },
            "colorscale": [
             [
              0,
              "#0d0887"
             ],
             [
              0.1111111111111111,
              "#46039f"
             ],
             [
              0.2222222222222222,
              "#7201a8"
             ],
             [
              0.3333333333333333,
              "#9c179e"
             ],
             [
              0.4444444444444444,
              "#bd3786"
             ],
             [
              0.5555555555555556,
              "#d8576b"
             ],
             [
              0.6666666666666666,
              "#ed7953"
             ],
             [
              0.7777777777777778,
              "#fb9f3a"
             ],
             [
              0.8888888888888888,
              "#fdca26"
             ],
             [
              1,
              "#f0f921"
             ]
            ],
            "type": "contour"
           }
          ],
          "contourcarpet": [
           {
            "colorbar": {
             "outlinewidth": 0,
             "ticks": ""
            },
            "type": "contourcarpet"
           }
          ],
          "heatmap": [
           {
            "colorbar": {
             "outlinewidth": 0,
             "ticks": ""
            },
            "colorscale": [
             [
              0,
              "#0d0887"
             ],
             [
              0.1111111111111111,
              "#46039f"
             ],
             [
              0.2222222222222222,
              "#7201a8"
             ],
             [
              0.3333333333333333,
              "#9c179e"
             ],
             [
              0.4444444444444444,
              "#bd3786"
             ],
             [
              0.5555555555555556,
              "#d8576b"
             ],
             [
              0.6666666666666666,
              "#ed7953"
             ],
             [
              0.7777777777777778,
              "#fb9f3a"
             ],
             [
              0.8888888888888888,
              "#fdca26"
             ],
             [
              1,
              "#f0f921"
             ]
            ],
            "type": "heatmap"
           }
          ],
          "histogram": [
           {
            "marker": {
             "pattern": {
              "fillmode": "overlay",
              "size": 10,
              "solidity": 0.2
             }
            },
            "type": "histogram"
           }
          ],
          "histogram2d": [
           {
            "colorbar": {
             "outlinewidth": 0,
             "ticks": ""
            },
            "colorscale": [
             [
              0,
              "#0d0887"
             ],
             [
              0.1111111111111111,
              "#46039f"
             ],
             [
              0.2222222222222222,
              "#7201a8"
             ],
             [
              0.3333333333333333,
              "#9c179e"
             ],
             [
              0.4444444444444444,
              "#bd3786"
             ],
             [
              0.5555555555555556,
              "#d8576b"
             ],
             [
              0.6666666666666666,
              "#ed7953"
             ],
             [
              0.7777777777777778,
              "#fb9f3a"
             ],
             [
              0.8888888888888888,
              "#fdca26"
             ],
             [
              1,
              "#f0f921"
             ]
            ],
            "type": "histogram2d"
           }
          ],
          "histogram2dcontour": [
           {
            "colorbar": {
             "outlinewidth": 0,
             "ticks": ""
            },
            "colorscale": [
             [
              0,
              "#0d0887"
             ],
             [
              0.1111111111111111,
              "#46039f"
             ],
             [
              0.2222222222222222,
              "#7201a8"
             ],
             [
              0.3333333333333333,
              "#9c179e"
             ],
             [
              0.4444444444444444,
              "#bd3786"
             ],
             [
              0.5555555555555556,
              "#d8576b"
             ],
             [
              0.6666666666666666,
              "#ed7953"
             ],
             [
              0.7777777777777778,
              "#fb9f3a"
             ],
             [
              0.8888888888888888,
              "#fdca26"
             ],
             [
              1,
              "#f0f921"
             ]
            ],
            "type": "histogram2dcontour"
           }
          ],
          "mesh3d": [
           {
            "colorbar": {
             "outlinewidth": 0,
             "ticks": ""
            },
            "type": "mesh3d"
           }
          ],
          "parcoords": [
           {
            "line": {
             "colorbar": {
              "outlinewidth": 0,
              "ticks": ""
             }
            },
            "type": "parcoords"
           }
          ],
          "pie": [
           {
            "automargin": true,
            "type": "pie"
           }
          ],
          "scatter": [
           {
            "fillpattern": {
             "fillmode": "overlay",
             "size": 10,
             "solidity": 0.2
            },
            "type": "scatter"
           }
          ],
          "scatter3d": [
           {
            "line": {
             "colorbar": {
              "outlinewidth": 0,
              "ticks": ""
             }
            },
            "marker": {
             "colorbar": {
              "outlinewidth": 0,
              "ticks": ""
             }
            },
            "type": "scatter3d"
           }
          ],
          "scattercarpet": [
           {
            "marker": {
             "colorbar": {
              "outlinewidth": 0,
              "ticks": ""
             }
            },
            "type": "scattercarpet"
           }
          ],
          "scattergeo": [
           {
            "marker": {
             "colorbar": {
              "outlinewidth": 0,
              "ticks": ""
             }
            },
            "type": "scattergeo"
           }
          ],
          "scattergl": [
           {
            "marker": {
             "colorbar": {
              "outlinewidth": 0,
              "ticks": ""
             }
            },
            "type": "scattergl"
           }
          ],
          "scattermap": [
           {
            "marker": {
             "colorbar": {
              "outlinewidth": 0,
              "ticks": ""
             }
            },
            "type": "scattermap"
           }
          ],
          "scattermapbox": [
           {
            "marker": {
             "colorbar": {
              "outlinewidth": 0,
              "ticks": ""
             }
            },
            "type": "scattermapbox"
           }
          ],
          "scatterpolar": [
           {
            "marker": {
             "colorbar": {
              "outlinewidth": 0,
              "ticks": ""
             }
            },
            "type": "scatterpolar"
           }
          ],
          "scatterpolargl": [
           {
            "marker": {
             "colorbar": {
              "outlinewidth": 0,
              "ticks": ""
             }
            },
            "type": "scatterpolargl"
           }
          ],
          "scatterternary": [
           {
            "marker": {
             "colorbar": {
              "outlinewidth": 0,
              "ticks": ""
             }
            },
            "type": "scatterternary"
           }
          ],
          "surface": [
           {
            "colorbar": {
             "outlinewidth": 0,
             "ticks": ""
            },
            "colorscale": [
             [
              0,
              "#0d0887"
             ],
             [
              0.1111111111111111,
              "#46039f"
             ],
             [
              0.2222222222222222,
              "#7201a8"
             ],
             [
              0.3333333333333333,
              "#9c179e"
             ],
             [
              0.4444444444444444,
              "#bd3786"
             ],
             [
              0.5555555555555556,
              "#d8576b"
             ],
             [
              0.6666666666666666,
              "#ed7953"
             ],
             [
              0.7777777777777778,
              "#fb9f3a"
             ],
             [
              0.8888888888888888,
              "#fdca26"
             ],
             [
              1,
              "#f0f921"
             ]
            ],
            "type": "surface"
           }
          ],
          "table": [
           {
            "cells": {
             "fill": {
              "color": "#EBF0F8"
             },
             "line": {
              "color": "white"
             }
            },
            "header": {
             "fill": {
              "color": "#C8D4E3"
             },
             "line": {
              "color": "white"
             }
            },
            "type": "table"
           }
          ]
         },
         "layout": {
          "annotationdefaults": {
           "arrowcolor": "#2a3f5f",
           "arrowhead": 0,
           "arrowwidth": 1
          },
          "autotypenumbers": "strict",
          "coloraxis": {
           "colorbar": {
            "outlinewidth": 0,
            "ticks": ""
           }
          },
          "colorscale": {
           "diverging": [
            [
             0,
             "#8e0152"
            ],
            [
             0.1,
             "#c51b7d"
            ],
            [
             0.2,
             "#de77ae"
            ],
            [
             0.3,
             "#f1b6da"
            ],
            [
             0.4,
             "#fde0ef"
            ],
            [
             0.5,
             "#f7f7f7"
            ],
            [
             0.6,
             "#e6f5d0"
            ],
            [
             0.7,
             "#b8e186"
            ],
            [
             0.8,
             "#7fbc41"
            ],
            [
             0.9,
             "#4d9221"
            ],
            [
             1,
             "#276419"
            ]
           ],
           "sequential": [
            [
             0,
             "#0d0887"
            ],
            [
             0.1111111111111111,
             "#46039f"
            ],
            [
             0.2222222222222222,
             "#7201a8"
            ],
            [
             0.3333333333333333,
             "#9c179e"
            ],
            [
             0.4444444444444444,
             "#bd3786"
            ],
            [
             0.5555555555555556,
             "#d8576b"
            ],
            [
             0.6666666666666666,
             "#ed7953"
            ],
            [
             0.7777777777777778,
             "#fb9f3a"
            ],
            [
             0.8888888888888888,
             "#fdca26"
            ],
            [
             1,
             "#f0f921"
            ]
           ],
           "sequentialminus": [
            [
             0,
             "#0d0887"
            ],
            [
             0.1111111111111111,
             "#46039f"
            ],
            [
             0.2222222222222222,
             "#7201a8"
            ],
            [
             0.3333333333333333,
             "#9c179e"
            ],
            [
             0.4444444444444444,
             "#bd3786"
            ],
            [
             0.5555555555555556,
             "#d8576b"
            ],
            [
             0.6666666666666666,
             "#ed7953"
            ],
            [
             0.7777777777777778,
             "#fb9f3a"
            ],
            [
             0.8888888888888888,
             "#fdca26"
            ],
            [
             1,
             "#f0f921"
            ]
           ]
          },
          "colorway": [
           "#636efa",
           "#EF553B",
           "#00cc96",
           "#ab63fa",
           "#FFA15A",
           "#19d3f3",
           "#FF6692",
           "#B6E880",
           "#FF97FF",
           "#FECB52"
          ],
          "font": {
           "color": "#2a3f5f"
          },
          "geo": {
           "bgcolor": "white",
           "lakecolor": "white",
           "landcolor": "white",
           "showlakes": true,
           "showland": true,
           "subunitcolor": "#C8D4E3"
          },
          "hoverlabel": {
           "align": "left"
          },
          "hovermode": "closest",
          "mapbox": {
           "style": "light"
          },
          "paper_bgcolor": "white",
          "plot_bgcolor": "white",
          "polar": {
           "angularaxis": {
            "gridcolor": "#EBF0F8",
            "linecolor": "#EBF0F8",
            "ticks": ""
           },
           "bgcolor": "white",
           "radialaxis": {
            "gridcolor": "#EBF0F8",
            "linecolor": "#EBF0F8",
            "ticks": ""
           }
          },
          "scene": {
           "xaxis": {
            "backgroundcolor": "white",
            "gridcolor": "#DFE8F3",
            "gridwidth": 2,
            "linecolor": "#EBF0F8",
            "showbackground": true,
            "ticks": "",
            "zerolinecolor": "#EBF0F8"
           },
           "yaxis": {
            "backgroundcolor": "white",
            "gridcolor": "#DFE8F3",
            "gridwidth": 2,
            "linecolor": "#EBF0F8",
            "showbackground": true,
            "ticks": "",
            "zerolinecolor": "#EBF0F8"
           },
           "zaxis": {
            "backgroundcolor": "white",
            "gridcolor": "#DFE8F3",
            "gridwidth": 2,
            "linecolor": "#EBF0F8",
            "showbackground": true,
            "ticks": "",
            "zerolinecolor": "#EBF0F8"
           }
          },
          "shapedefaults": {
           "line": {
            "color": "#2a3f5f"
           }
          },
          "ternary": {
           "aaxis": {
            "gridcolor": "#DFE8F3",
            "linecolor": "#A2B1C6",
            "ticks": ""
           },
           "baxis": {
            "gridcolor": "#DFE8F3",
            "linecolor": "#A2B1C6",
            "ticks": ""
           },
           "bgcolor": "white",
           "caxis": {
            "gridcolor": "#DFE8F3",
            "linecolor": "#A2B1C6",
            "ticks": ""
           }
          },
          "title": {
           "x": 0.05
          },
          "xaxis": {
           "automargin": true,
           "gridcolor": "#EBF0F8",
           "linecolor": "#EBF0F8",
           "ticks": "",
           "title": {
            "standoff": 15
           },
           "zerolinecolor": "#EBF0F8",
           "zerolinewidth": 2
          },
          "yaxis": {
           "automargin": true,
           "gridcolor": "#EBF0F8",
           "linecolor": "#EBF0F8",
           "ticks": "",
           "title": {
            "standoff": 15
           },
           "zerolinecolor": "#EBF0F8",
           "zerolinewidth": 2
          }
         }
        },
        "title": {
         "subtitle": {
          "font": {
           "color": "gray",
           "size": 13
          },
          "text": "comparison with litterature"
         },
         "text": "Average Seasonal Cycles of Pteropod Biomass using log10 stats"
        },
        "xaxis": {
         "title": {
          "text": "Season"
         }
        },
        "yaxis": {
         "title": {
          "text": "Biomass [g m-2]"
         },
         "type": "log"
        },
        "yaxis2": {
         "overlaying": "y",
         "showgrid": false,
         "side": "right",
         "title": {
          "text": "Non-NaN count"
         }
        }
       }
      }
     },
     "metadata": {},
     "output_type": "display_data"
    }
   ],
   "source": [
    "fig = go.Figure()\n",
    "\n",
    "# Median - daily pld\n",
    "fig.add_trace(go.Scatter(\n",
    "    x=df_paperseasonal['season'],\n",
    "    y=df_paperseasonal['pteropod_biomass_median'],\n",
    "    mode='markers',\n",
    "    name='Median biomass x daily pld',\n",
    "    marker=dict(color='green', symbol='circle', size=8)\n",
    "))\n",
    "\n",
    "#add data from paper\n",
    "for species in df_mackasgalbraith[\"species_name\"].unique():\n",
    "    sub_df_mackasgalbraith = df_mackasgalbraith[df_mackasgalbraith[\"species_name\"] == species]\n",
    "    fig.add_trace(go.Scatter(\n",
    "        x=sub_df_mackasgalbraith[\"season\"],\n",
    "        y=sub_df_mackasgalbraith[\"biomass\"],\n",
    "        mode=\"markers\",\n",
    "        name=f'{species} (from paper)',\n",
    "        marker=dict(\n",
    "            size=10,\n",
    "            color='red'if species == \"Clione\" else \"pink\",\n",
    "            symbol=\"triangle-up\" if species == \"Clione\" else \"triangle-down\"\n",
    "        )\n",
    "    ))\n",
    "\n",
    "# presentation\n",
    "fig.update_layout(\n",
    "    title=dict(\n",
    "        text=\"Average Seasonal Cycles of Pteropod Biomass using log10 stats\",\n",
    "        subtitle=dict(\n",
    "            text=\"comparison with litterature\",\n",
    "            font=dict(color=\"gray\", size=13)\n",
    "        )\n",
    "        ),\n",
    "    xaxis=dict(title='Season'),\n",
    "    yaxis=dict(\n",
    "        title='Biomass [g m-2]',\n",
    "        type='log',\n",
    "    ),\n",
    "    yaxis2=dict(\n",
    "        title='Non-NaN count',\n",
    "        overlaying='y',\n",
    "        side='right',\n",
    "        showgrid=False\n",
    "    ),\n",
    "    legend=dict(x=0.01, y=0.99),\n",
    "    template='plotly_white'\n",
    ")\n",
    "\n",
    "fig.show()\n"
   ]
  },
  {
   "cell_type": "markdown",
   "id": "459d1636",
   "metadata": {},
   "source": [
    "Better fit in aug-sep, but a poorer fit for the others months"
   ]
  }
 ],
 "metadata": {
  "kernelspec": {
   "display_name": "Python (seapopym-data)",
   "language": "python",
   "name": "seapopym_data"
  },
  "language_info": {
   "codemirror_mode": {
    "name": "ipython",
    "version": 3
   },
   "file_extension": ".py",
   "mimetype": "text/x-python",
   "name": "python",
   "nbconvert_exporter": "python",
   "pygments_lexer": "ipython3",
   "version": "3.13.2"
  }
 },
 "nbformat": 4,
 "nbformat_minor": 5
}
