{
 "cells": [
  {
   "cell_type": "markdown",
   "metadata": {},
   "source": [
    "# Pteropod data in PAPA\n"
   ]
  },
  {
   "cell_type": "markdown",
   "metadata": {},
   "source": [
    "<div class=\"alert alert-danger\">\n",
    "    <strong>Warning</strong> This is a notebook for pteropods, so only pteropods data will be extracted. \n",
    "</div>\n"
   ]
  },
  {
   "cell_type": "code",
   "execution_count": 41,
   "metadata": {},
   "outputs": [],
   "source": [
    "import pandas as pd\n",
    "import xarray as xr\n",
    "import numpy as np\n",
    "import cf_xarray.units  # noqa: F401\n",
    "import pint_xarray  # noqa: F401\n",
    "import seaborn as sns\n",
    "import plotly.express as px\n",
    "from tqdm import tqdm\n",
    "\n",
    "pd.options.plotting.backend = \"plotly\""
   ]
  },
  {
   "cell_type": "markdown",
   "metadata": {},
   "source": [
    "## Load raw data\n",
    "\n",
    "---\n"
   ]
  },
  {
   "cell_type": "markdown",
   "metadata": {},
   "source": [
    "Observation data is zooplakton biomass dry weight in mg/m3 (wet weights for period 1850/1980) as described in the official technical report.\n"
   ]
  },
  {
   "cell_type": "code",
   "execution_count": 3,
   "metadata": {},
   "outputs": [
    {
     "name": "stdout",
     "output_type": "stream",
     "text": [
      "<class 'pandas.core.frame.DataFrame'>\n",
      "RangeIndex: 1077 entries, 0 to 1076\n",
      "Columns: 114 entries, Key to XXXX >> Remainder\n",
      "dtypes: float64(95), int64(9), object(10)\n",
      "memory usage: 959.3+ KB\n"
     ]
    }
   ],
   "source": [
    "raw_data = pd.read_csv(\"../1_raw/papa_zooplankton.csv\", sep=\";\", decimal=\",\")\n",
    "raw_data.info()"
   ]
  },
  {
   "cell_type": "code",
   "execution_count": 4,
   "metadata": {},
   "outputs": [
    {
     "name": "stdout",
     "output_type": "stream",
     "text": [
      "<class 'pandas.core.frame.DataFrame'>\n",
      "RangeIndex: 1077 entries, 0 to 1076\n",
      "Data columns (total 8 columns):\n",
      " #   Column               Non-Null Count  Dtype         \n",
      "---  ------               --------------  -----         \n",
      " 0   time                 1077 non-null   datetime64[ns]\n",
      " 1   lat                  1077 non-null   float64       \n",
      " 2   lon                  1077 non-null   float64       \n",
      " 3   Twilight             1077 non-null   category      \n",
      " 4   Mesh_Size(um)        1077 non-null   float64       \n",
      " 5   DEPTH_STRT           1077 non-null   float64       \n",
      " 6   DEPTH_END            1077 non-null   float64       \n",
      " 7   Volume Filtered(m3)  1077 non-null   float64       \n",
      "dtypes: category(1), datetime64[ns](1), float64(6)\n",
      "memory usage: 60.2 KB\n"
     ]
    }
   ],
   "source": [
    "raw_data[\"time\"] = pd.to_datetime(raw_data[\"Date\"], format=\"%d %m %Y\")\n",
    "index = raw_data[\n",
    "    [\n",
    "        \"time\",\n",
    "        \"lat\",\n",
    "        \"lon\",\n",
    "        \"Twilight\",\n",
    "        \"Mesh_Size(um)\",\n",
    "        \"DEPTH_STRT\",\n",
    "        \"DEPTH_END\",\n",
    "        \"Volume Filtered(m3)\",\n",
    "    ]\n",
    "]\n",
    "index = index.astype(\n",
    "    {\n",
    "        \"time\": \"datetime64[ns]\",\n",
    "        \"Twilight\": \"category\",\n",
    "        \"Mesh_Size(um)\": \"float64\",\n",
    "        \"DEPTH_STRT\": \"float64\",\n",
    "        \"DEPTH_END\": \"float64\",\n",
    "        \"Volume Filtered(m3)\": \"float64\",\n",
    "        \"lat\": \"float64\",\n",
    "        \"lon\": \"float64\",\n",
    "    }\n",
    ")\n",
    "index.info()"
   ]
  },
  {
   "cell_type": "code",
   "execution_count": 5,
   "metadata": {},
   "outputs": [
    {
     "data": {
      "text/html": [
       "<div>\n",
       "<style scoped>\n",
       "    .dataframe tbody tr th:only-of-type {\n",
       "        vertical-align: middle;\n",
       "    }\n",
       "\n",
       "    .dataframe tbody tr th {\n",
       "        vertical-align: top;\n",
       "    }\n",
       "\n",
       "    .dataframe thead th {\n",
       "        text-align: right;\n",
       "    }\n",
       "</style>\n",
       "<table border=\"1\" class=\"dataframe\">\n",
       "  <thead>\n",
       "    <tr style=\"text-align: right;\">\n",
       "      <th></th>\n",
       "      <th>ANNE:POLY: &gt;&gt; POLY larvae s1</th>\n",
       "      <th>ANNE:POLY: &gt;&gt; POLY s1</th>\n",
       "      <th>ANNE:POLY: &gt;&gt; POLY s2</th>\n",
       "      <th>ANNE:POLY: &gt;&gt; POLY s3</th>\n",
       "      <th>ARCR:: &gt;&gt; CIRRI s1</th>\n",
       "      <th>ARCR:: &gt;&gt; CRUST larvae s1</th>\n",
       "      <th>ARCR:AMPH:GAMM &gt;&gt; GAMM s1</th>\n",
       "      <th>ARCR:AMPH:GAMM &gt;&gt; GAMM s2</th>\n",
       "      <th>ARCR:AMPH:GAMM &gt;&gt; GAMM s3</th>\n",
       "      <th>ARCR:AMPH:HYPE &gt;&gt; HYPER s1</th>\n",
       "      <th>...</th>\n",
       "      <th>UROC:THAL: &gt;&gt; DOLIO s2</th>\n",
       "      <th>UROC:THAL: &gt;&gt; DOLIO s3</th>\n",
       "      <th>UROC:THAL: &gt;&gt; SALP s1</th>\n",
       "      <th>UROC:THAL: &gt;&gt; SALP s2</th>\n",
       "      <th>UROC:THAL: &gt;&gt; SALP s3</th>\n",
       "      <th>VERT:PISC: &gt;&gt; PISCES egg s1</th>\n",
       "      <th>VERT:PISC: &gt;&gt; PISCES s1</th>\n",
       "      <th>VERT:PISC: &gt;&gt; PISCES s2</th>\n",
       "      <th>VERT:PISC: &gt;&gt; PISCES s3</th>\n",
       "      <th>XXXX &gt;&gt; Remainder</th>\n",
       "    </tr>\n",
       "  </thead>\n",
       "  <tbody>\n",
       "    <tr>\n",
       "      <th>0</th>\n",
       "      <td>0.0</td>\n",
       "      <td>0.0</td>\n",
       "      <td>0.00000</td>\n",
       "      <td>0.00000</td>\n",
       "      <td>0.00000</td>\n",
       "      <td>0.0</td>\n",
       "      <td>0.0</td>\n",
       "      <td>0.00000</td>\n",
       "      <td>0.000</td>\n",
       "      <td>0.00000</td>\n",
       "      <td>...</td>\n",
       "      <td>0.00000</td>\n",
       "      <td>0.00000</td>\n",
       "      <td>0.0</td>\n",
       "      <td>0.00000</td>\n",
       "      <td>0.00000</td>\n",
       "      <td>0.0</td>\n",
       "      <td>0.00000</td>\n",
       "      <td>0.00000</td>\n",
       "      <td>0.07819</td>\n",
       "      <td>0.00000</td>\n",
       "    </tr>\n",
       "    <tr>\n",
       "      <th>1</th>\n",
       "      <td>0.0</td>\n",
       "      <td>0.0</td>\n",
       "      <td>0.00000</td>\n",
       "      <td>0.00000</td>\n",
       "      <td>0.00000</td>\n",
       "      <td>0.0</td>\n",
       "      <td>0.0</td>\n",
       "      <td>0.00000</td>\n",
       "      <td>0.000</td>\n",
       "      <td>0.00000</td>\n",
       "      <td>...</td>\n",
       "      <td>0.00000</td>\n",
       "      <td>0.00000</td>\n",
       "      <td>0.0</td>\n",
       "      <td>0.00000</td>\n",
       "      <td>0.00000</td>\n",
       "      <td>0.0</td>\n",
       "      <td>0.00000</td>\n",
       "      <td>0.00000</td>\n",
       "      <td>4.22832</td>\n",
       "      <td>0.00000</td>\n",
       "    </tr>\n",
       "    <tr>\n",
       "      <th>2</th>\n",
       "      <td>0.0</td>\n",
       "      <td>0.0</td>\n",
       "      <td>0.00000</td>\n",
       "      <td>0.00000</td>\n",
       "      <td>0.00000</td>\n",
       "      <td>0.0</td>\n",
       "      <td>0.0</td>\n",
       "      <td>0.05811</td>\n",
       "      <td>0.000</td>\n",
       "      <td>0.00000</td>\n",
       "      <td>...</td>\n",
       "      <td>0.00000</td>\n",
       "      <td>0.00000</td>\n",
       "      <td>0.0</td>\n",
       "      <td>0.00000</td>\n",
       "      <td>0.00000</td>\n",
       "      <td>0.0</td>\n",
       "      <td>0.00000</td>\n",
       "      <td>0.00000</td>\n",
       "      <td>0.00000</td>\n",
       "      <td>0.00000</td>\n",
       "    </tr>\n",
       "    <tr>\n",
       "      <th>3</th>\n",
       "      <td>0.0</td>\n",
       "      <td>0.0</td>\n",
       "      <td>0.00000</td>\n",
       "      <td>0.25838</td>\n",
       "      <td>0.00000</td>\n",
       "      <td>0.0</td>\n",
       "      <td>0.0</td>\n",
       "      <td>0.00000</td>\n",
       "      <td>0.000</td>\n",
       "      <td>0.00000</td>\n",
       "      <td>...</td>\n",
       "      <td>0.00000</td>\n",
       "      <td>0.00000</td>\n",
       "      <td>0.0</td>\n",
       "      <td>0.00000</td>\n",
       "      <td>0.00000</td>\n",
       "      <td>0.0</td>\n",
       "      <td>0.00000</td>\n",
       "      <td>0.94146</td>\n",
       "      <td>0.00000</td>\n",
       "      <td>0.00000</td>\n",
       "    </tr>\n",
       "    <tr>\n",
       "      <th>4</th>\n",
       "      <td>0.0</td>\n",
       "      <td>0.0</td>\n",
       "      <td>0.00000</td>\n",
       "      <td>0.00000</td>\n",
       "      <td>0.00000</td>\n",
       "      <td>0.0</td>\n",
       "      <td>0.0</td>\n",
       "      <td>0.18938</td>\n",
       "      <td>0.000</td>\n",
       "      <td>0.00000</td>\n",
       "      <td>...</td>\n",
       "      <td>0.00000</td>\n",
       "      <td>0.00000</td>\n",
       "      <td>0.0</td>\n",
       "      <td>0.00000</td>\n",
       "      <td>0.00000</td>\n",
       "      <td>0.0</td>\n",
       "      <td>0.00000</td>\n",
       "      <td>0.33458</td>\n",
       "      <td>0.00000</td>\n",
       "      <td>0.00000</td>\n",
       "    </tr>\n",
       "    <tr>\n",
       "      <th>...</th>\n",
       "      <td>...</td>\n",
       "      <td>...</td>\n",
       "      <td>...</td>\n",
       "      <td>...</td>\n",
       "      <td>...</td>\n",
       "      <td>...</td>\n",
       "      <td>...</td>\n",
       "      <td>...</td>\n",
       "      <td>...</td>\n",
       "      <td>...</td>\n",
       "      <td>...</td>\n",
       "      <td>...</td>\n",
       "      <td>...</td>\n",
       "      <td>...</td>\n",
       "      <td>...</td>\n",
       "      <td>...</td>\n",
       "      <td>...</td>\n",
       "      <td>...</td>\n",
       "      <td>...</td>\n",
       "      <td>...</td>\n",
       "      <td>...</td>\n",
       "    </tr>\n",
       "    <tr>\n",
       "      <th>1072</th>\n",
       "      <td>0.0</td>\n",
       "      <td>0.0</td>\n",
       "      <td>0.00568</td>\n",
       "      <td>0.00000</td>\n",
       "      <td>0.01070</td>\n",
       "      <td>0.0</td>\n",
       "      <td>0.0</td>\n",
       "      <td>0.00000</td>\n",
       "      <td>0.000</td>\n",
       "      <td>0.19212</td>\n",
       "      <td>...</td>\n",
       "      <td>0.01070</td>\n",
       "      <td>0.00000</td>\n",
       "      <td>0.0</td>\n",
       "      <td>0.00000</td>\n",
       "      <td>0.00000</td>\n",
       "      <td>0.0</td>\n",
       "      <td>0.00000</td>\n",
       "      <td>0.24398</td>\n",
       "      <td>1.27507</td>\n",
       "      <td>0.00000</td>\n",
       "    </tr>\n",
       "    <tr>\n",
       "      <th>1073</th>\n",
       "      <td>0.0</td>\n",
       "      <td>0.0</td>\n",
       "      <td>0.00000</td>\n",
       "      <td>0.05045</td>\n",
       "      <td>0.00000</td>\n",
       "      <td>0.0</td>\n",
       "      <td>0.0</td>\n",
       "      <td>0.00000</td>\n",
       "      <td>0.000</td>\n",
       "      <td>0.90018</td>\n",
       "      <td>...</td>\n",
       "      <td>0.00000</td>\n",
       "      <td>0.00000</td>\n",
       "      <td>0.0</td>\n",
       "      <td>0.00000</td>\n",
       "      <td>0.13353</td>\n",
       "      <td>0.0</td>\n",
       "      <td>0.00000</td>\n",
       "      <td>0.00000</td>\n",
       "      <td>0.00000</td>\n",
       "      <td>0.00000</td>\n",
       "    </tr>\n",
       "    <tr>\n",
       "      <th>1074</th>\n",
       "      <td>0.0</td>\n",
       "      <td>0.0</td>\n",
       "      <td>0.04762</td>\n",
       "      <td>0.41514</td>\n",
       "      <td>0.00000</td>\n",
       "      <td>0.0</td>\n",
       "      <td>0.0</td>\n",
       "      <td>0.00000</td>\n",
       "      <td>0.087</td>\n",
       "      <td>0.00000</td>\n",
       "      <td>...</td>\n",
       "      <td>4.41514</td>\n",
       "      <td>1.53846</td>\n",
       "      <td>0.0</td>\n",
       "      <td>0.00000</td>\n",
       "      <td>0.00000</td>\n",
       "      <td>0.0</td>\n",
       "      <td>0.02365</td>\n",
       "      <td>0.27778</td>\n",
       "      <td>3.73779</td>\n",
       "      <td>0.00000</td>\n",
       "    </tr>\n",
       "    <tr>\n",
       "      <th>1075</th>\n",
       "      <td>0.0</td>\n",
       "      <td>0.0</td>\n",
       "      <td>0.00000</td>\n",
       "      <td>0.00000</td>\n",
       "      <td>0.00000</td>\n",
       "      <td>0.0</td>\n",
       "      <td>0.0</td>\n",
       "      <td>0.00000</td>\n",
       "      <td>0.000</td>\n",
       "      <td>0.12242</td>\n",
       "      <td>...</td>\n",
       "      <td>0.00000</td>\n",
       "      <td>0.00000</td>\n",
       "      <td>0.0</td>\n",
       "      <td>0.00000</td>\n",
       "      <td>0.00000</td>\n",
       "      <td>0.0</td>\n",
       "      <td>0.00000</td>\n",
       "      <td>0.00000</td>\n",
       "      <td>0.00000</td>\n",
       "      <td>0.02066</td>\n",
       "    </tr>\n",
       "    <tr>\n",
       "      <th>1076</th>\n",
       "      <td>0.0</td>\n",
       "      <td>0.0</td>\n",
       "      <td>0.00000</td>\n",
       "      <td>0.00000</td>\n",
       "      <td>0.02061</td>\n",
       "      <td>0.0</td>\n",
       "      <td>0.0</td>\n",
       "      <td>0.15115</td>\n",
       "      <td>0.000</td>\n",
       "      <td>0.09894</td>\n",
       "      <td>...</td>\n",
       "      <td>0.00000</td>\n",
       "      <td>0.00000</td>\n",
       "      <td>0.0</td>\n",
       "      <td>0.23818</td>\n",
       "      <td>0.00000</td>\n",
       "      <td>0.0</td>\n",
       "      <td>0.00000</td>\n",
       "      <td>0.00000</td>\n",
       "      <td>0.00000</td>\n",
       "      <td>0.00000</td>\n",
       "    </tr>\n",
       "  </tbody>\n",
       "</table>\n",
       "<p>1077 rows × 94 columns</p>\n",
       "</div>"
      ],
      "text/plain": [
       "      ANNE:POLY: >> POLY larvae s1  ANNE:POLY: >> POLY s1  \\\n",
       "0                              0.0                    0.0   \n",
       "1                              0.0                    0.0   \n",
       "2                              0.0                    0.0   \n",
       "3                              0.0                    0.0   \n",
       "4                              0.0                    0.0   \n",
       "...                            ...                    ...   \n",
       "1072                           0.0                    0.0   \n",
       "1073                           0.0                    0.0   \n",
       "1074                           0.0                    0.0   \n",
       "1075                           0.0                    0.0   \n",
       "1076                           0.0                    0.0   \n",
       "\n",
       "      ANNE:POLY: >> POLY s2  ANNE:POLY: >> POLY s3  ARCR:: >> CIRRI s1  \\\n",
       "0                   0.00000                0.00000             0.00000   \n",
       "1                   0.00000                0.00000             0.00000   \n",
       "2                   0.00000                0.00000             0.00000   \n",
       "3                   0.00000                0.25838             0.00000   \n",
       "4                   0.00000                0.00000             0.00000   \n",
       "...                     ...                    ...                 ...   \n",
       "1072                0.00568                0.00000             0.01070   \n",
       "1073                0.00000                0.05045             0.00000   \n",
       "1074                0.04762                0.41514             0.00000   \n",
       "1075                0.00000                0.00000             0.00000   \n",
       "1076                0.00000                0.00000             0.02061   \n",
       "\n",
       "      ARCR:: >> CRUST larvae s1  ARCR:AMPH:GAMM >> GAMM s1  \\\n",
       "0                           0.0                        0.0   \n",
       "1                           0.0                        0.0   \n",
       "2                           0.0                        0.0   \n",
       "3                           0.0                        0.0   \n",
       "4                           0.0                        0.0   \n",
       "...                         ...                        ...   \n",
       "1072                        0.0                        0.0   \n",
       "1073                        0.0                        0.0   \n",
       "1074                        0.0                        0.0   \n",
       "1075                        0.0                        0.0   \n",
       "1076                        0.0                        0.0   \n",
       "\n",
       "      ARCR:AMPH:GAMM >> GAMM s2  ARCR:AMPH:GAMM >> GAMM s3  \\\n",
       "0                       0.00000                      0.000   \n",
       "1                       0.00000                      0.000   \n",
       "2                       0.05811                      0.000   \n",
       "3                       0.00000                      0.000   \n",
       "4                       0.18938                      0.000   \n",
       "...                         ...                        ...   \n",
       "1072                    0.00000                      0.000   \n",
       "1073                    0.00000                      0.000   \n",
       "1074                    0.00000                      0.087   \n",
       "1075                    0.00000                      0.000   \n",
       "1076                    0.15115                      0.000   \n",
       "\n",
       "      ARCR:AMPH:HYPE >> HYPER s1  ...  UROC:THAL: >> DOLIO s2  \\\n",
       "0                        0.00000  ...                 0.00000   \n",
       "1                        0.00000  ...                 0.00000   \n",
       "2                        0.00000  ...                 0.00000   \n",
       "3                        0.00000  ...                 0.00000   \n",
       "4                        0.00000  ...                 0.00000   \n",
       "...                          ...  ...                     ...   \n",
       "1072                     0.19212  ...                 0.01070   \n",
       "1073                     0.90018  ...                 0.00000   \n",
       "1074                     0.00000  ...                 4.41514   \n",
       "1075                     0.12242  ...                 0.00000   \n",
       "1076                     0.09894  ...                 0.00000   \n",
       "\n",
       "      UROC:THAL: >> DOLIO s3  UROC:THAL: >> SALP s1  UROC:THAL: >> SALP s2  \\\n",
       "0                    0.00000                    0.0                0.00000   \n",
       "1                    0.00000                    0.0                0.00000   \n",
       "2                    0.00000                    0.0                0.00000   \n",
       "3                    0.00000                    0.0                0.00000   \n",
       "4                    0.00000                    0.0                0.00000   \n",
       "...                      ...                    ...                    ...   \n",
       "1072                 0.00000                    0.0                0.00000   \n",
       "1073                 0.00000                    0.0                0.00000   \n",
       "1074                 1.53846                    0.0                0.00000   \n",
       "1075                 0.00000                    0.0                0.00000   \n",
       "1076                 0.00000                    0.0                0.23818   \n",
       "\n",
       "      UROC:THAL: >> SALP s3  VERT:PISC: >> PISCES egg s1  \\\n",
       "0                   0.00000                          0.0   \n",
       "1                   0.00000                          0.0   \n",
       "2                   0.00000                          0.0   \n",
       "3                   0.00000                          0.0   \n",
       "4                   0.00000                          0.0   \n",
       "...                     ...                          ...   \n",
       "1072                0.00000                          0.0   \n",
       "1073                0.13353                          0.0   \n",
       "1074                0.00000                          0.0   \n",
       "1075                0.00000                          0.0   \n",
       "1076                0.00000                          0.0   \n",
       "\n",
       "      VERT:PISC: >> PISCES s1  VERT:PISC: >> PISCES s2  \\\n",
       "0                     0.00000                  0.00000   \n",
       "1                     0.00000                  0.00000   \n",
       "2                     0.00000                  0.00000   \n",
       "3                     0.00000                  0.94146   \n",
       "4                     0.00000                  0.33458   \n",
       "...                       ...                      ...   \n",
       "1072                  0.00000                  0.24398   \n",
       "1073                  0.00000                  0.00000   \n",
       "1074                  0.02365                  0.27778   \n",
       "1075                  0.00000                  0.00000   \n",
       "1076                  0.00000                  0.00000   \n",
       "\n",
       "      VERT:PISC: >> PISCES s3  XXXX >> Remainder  \n",
       "0                     0.07819            0.00000  \n",
       "1                     4.22832            0.00000  \n",
       "2                     0.00000            0.00000  \n",
       "3                     0.00000            0.00000  \n",
       "4                     0.00000            0.00000  \n",
       "...                       ...                ...  \n",
       "1072                  1.27507            0.00000  \n",
       "1073                  0.00000            0.00000  \n",
       "1074                  3.73779            0.00000  \n",
       "1075                  0.00000            0.02066  \n",
       "1076                  0.00000            0.00000  \n",
       "\n",
       "[1077 rows x 94 columns]"
      ]
     },
     "execution_count": 5,
     "metadata": {},
     "output_type": "execute_result"
    }
   ],
   "source": [
    "data = raw_data.iloc[:, slice(20, -1)]\n",
    "# data = data.replace(0, np.nan)\n",
    "data = data.astype(\"float64\")\n",
    "data"
   ]
  },
  {
   "cell_type": "code",
   "execution_count": 6,
   "metadata": {},
   "outputs": [
    {
     "data": {
      "text/html": [
       "<div>\n",
       "<style scoped>\n",
       "    .dataframe tbody tr th:only-of-type {\n",
       "        vertical-align: middle;\n",
       "    }\n",
       "\n",
       "    .dataframe tbody tr th {\n",
       "        vertical-align: top;\n",
       "    }\n",
       "\n",
       "    .dataframe thead th {\n",
       "        text-align: right;\n",
       "    }\n",
       "</style>\n",
       "<table border=\"1\" class=\"dataframe\">\n",
       "  <thead>\n",
       "    <tr style=\"text-align: right;\">\n",
       "      <th></th>\n",
       "      <th>time</th>\n",
       "      <th>lat</th>\n",
       "      <th>lon</th>\n",
       "      <th>Twilight</th>\n",
       "      <th>Mesh_Size(um)</th>\n",
       "      <th>DEPTH_STRT</th>\n",
       "      <th>DEPTH_END</th>\n",
       "      <th>Volume Filtered(m3)</th>\n",
       "      <th>ANNE:POLY: &gt;&gt; POLY larvae s1</th>\n",
       "      <th>ANNE:POLY: &gt;&gt; POLY s1</th>\n",
       "      <th>...</th>\n",
       "      <th>UROC:THAL: &gt;&gt; DOLIO s2</th>\n",
       "      <th>UROC:THAL: &gt;&gt; DOLIO s3</th>\n",
       "      <th>UROC:THAL: &gt;&gt; SALP s1</th>\n",
       "      <th>UROC:THAL: &gt;&gt; SALP s2</th>\n",
       "      <th>UROC:THAL: &gt;&gt; SALP s3</th>\n",
       "      <th>VERT:PISC: &gt;&gt; PISCES egg s1</th>\n",
       "      <th>VERT:PISC: &gt;&gt; PISCES s1</th>\n",
       "      <th>VERT:PISC: &gt;&gt; PISCES s2</th>\n",
       "      <th>VERT:PISC: &gt;&gt; PISCES s3</th>\n",
       "      <th>XXXX &gt;&gt; Remainder</th>\n",
       "    </tr>\n",
       "  </thead>\n",
       "  <tbody>\n",
       "    <tr>\n",
       "      <th>0</th>\n",
       "      <td>1995-09-24</td>\n",
       "      <td>49.820</td>\n",
       "      <td>-128.563</td>\n",
       "      <td>Daylight</td>\n",
       "      <td>236.0</td>\n",
       "      <td>246.0</td>\n",
       "      <td>0.0</td>\n",
       "      <td>86.33</td>\n",
       "      <td>0.0</td>\n",
       "      <td>0.0</td>\n",
       "      <td>...</td>\n",
       "      <td>0.00000</td>\n",
       "      <td>0.00000</td>\n",
       "      <td>0.0</td>\n",
       "      <td>0.00000</td>\n",
       "      <td>0.00000</td>\n",
       "      <td>0.0</td>\n",
       "      <td>0.00000</td>\n",
       "      <td>0.00000</td>\n",
       "      <td>0.07819</td>\n",
       "      <td>0.00000</td>\n",
       "    </tr>\n",
       "    <tr>\n",
       "      <th>1</th>\n",
       "      <td>1995-09-24</td>\n",
       "      <td>49.820</td>\n",
       "      <td>-128.563</td>\n",
       "      <td>Night</td>\n",
       "      <td>236.0</td>\n",
       "      <td>50.0</td>\n",
       "      <td>0.0</td>\n",
       "      <td>36.09</td>\n",
       "      <td>0.0</td>\n",
       "      <td>0.0</td>\n",
       "      <td>...</td>\n",
       "      <td>0.00000</td>\n",
       "      <td>0.00000</td>\n",
       "      <td>0.0</td>\n",
       "      <td>0.00000</td>\n",
       "      <td>0.00000</td>\n",
       "      <td>0.0</td>\n",
       "      <td>0.00000</td>\n",
       "      <td>0.00000</td>\n",
       "      <td>4.22832</td>\n",
       "      <td>0.00000</td>\n",
       "    </tr>\n",
       "    <tr>\n",
       "      <th>2</th>\n",
       "      <td>1995-09-25</td>\n",
       "      <td>49.560</td>\n",
       "      <td>-128.259</td>\n",
       "      <td>Daylight</td>\n",
       "      <td>236.0</td>\n",
       "      <td>247.0</td>\n",
       "      <td>0.0</td>\n",
       "      <td>113.58</td>\n",
       "      <td>0.0</td>\n",
       "      <td>0.0</td>\n",
       "      <td>...</td>\n",
       "      <td>0.00000</td>\n",
       "      <td>0.00000</td>\n",
       "      <td>0.0</td>\n",
       "      <td>0.00000</td>\n",
       "      <td>0.00000</td>\n",
       "      <td>0.0</td>\n",
       "      <td>0.00000</td>\n",
       "      <td>0.00000</td>\n",
       "      <td>0.00000</td>\n",
       "      <td>0.00000</td>\n",
       "    </tr>\n",
       "    <tr>\n",
       "      <th>3</th>\n",
       "      <td>1995-09-25</td>\n",
       "      <td>49.560</td>\n",
       "      <td>-128.259</td>\n",
       "      <td>Night</td>\n",
       "      <td>236.0</td>\n",
       "      <td>49.0</td>\n",
       "      <td>0.0</td>\n",
       "      <td>24.77</td>\n",
       "      <td>0.0</td>\n",
       "      <td>0.0</td>\n",
       "      <td>...</td>\n",
       "      <td>0.00000</td>\n",
       "      <td>0.00000</td>\n",
       "      <td>0.0</td>\n",
       "      <td>0.00000</td>\n",
       "      <td>0.00000</td>\n",
       "      <td>0.0</td>\n",
       "      <td>0.00000</td>\n",
       "      <td>0.94146</td>\n",
       "      <td>0.00000</td>\n",
       "      <td>0.00000</td>\n",
       "    </tr>\n",
       "    <tr>\n",
       "      <th>4</th>\n",
       "      <td>1995-09-25</td>\n",
       "      <td>49.670</td>\n",
       "      <td>-128.075</td>\n",
       "      <td>Night</td>\n",
       "      <td>236.0</td>\n",
       "      <td>235.0</td>\n",
       "      <td>0.0</td>\n",
       "      <td>69.70</td>\n",
       "      <td>0.0</td>\n",
       "      <td>0.0</td>\n",
       "      <td>...</td>\n",
       "      <td>0.00000</td>\n",
       "      <td>0.00000</td>\n",
       "      <td>0.0</td>\n",
       "      <td>0.00000</td>\n",
       "      <td>0.00000</td>\n",
       "      <td>0.0</td>\n",
       "      <td>0.00000</td>\n",
       "      <td>0.33458</td>\n",
       "      <td>0.00000</td>\n",
       "      <td>0.00000</td>\n",
       "    </tr>\n",
       "    <tr>\n",
       "      <th>...</th>\n",
       "      <td>...</td>\n",
       "      <td>...</td>\n",
       "      <td>...</td>\n",
       "      <td>...</td>\n",
       "      <td>...</td>\n",
       "      <td>...</td>\n",
       "      <td>...</td>\n",
       "      <td>...</td>\n",
       "      <td>...</td>\n",
       "      <td>...</td>\n",
       "      <td>...</td>\n",
       "      <td>...</td>\n",
       "      <td>...</td>\n",
       "      <td>...</td>\n",
       "      <td>...</td>\n",
       "      <td>...</td>\n",
       "      <td>...</td>\n",
       "      <td>...</td>\n",
       "      <td>...</td>\n",
       "      <td>...</td>\n",
       "      <td>...</td>\n",
       "    </tr>\n",
       "    <tr>\n",
       "      <th>1072</th>\n",
       "      <td>2020-08-17</td>\n",
       "      <td>49.283</td>\n",
       "      <td>-134.667</td>\n",
       "      <td>Night</td>\n",
       "      <td>236.0</td>\n",
       "      <td>250.0</td>\n",
       "      <td>0.0</td>\n",
       "      <td>59.84</td>\n",
       "      <td>0.0</td>\n",
       "      <td>0.0</td>\n",
       "      <td>...</td>\n",
       "      <td>0.01070</td>\n",
       "      <td>0.00000</td>\n",
       "      <td>0.0</td>\n",
       "      <td>0.00000</td>\n",
       "      <td>0.00000</td>\n",
       "      <td>0.0</td>\n",
       "      <td>0.00000</td>\n",
       "      <td>0.24398</td>\n",
       "      <td>1.27507</td>\n",
       "      <td>0.00000</td>\n",
       "    </tr>\n",
       "    <tr>\n",
       "      <th>1073</th>\n",
       "      <td>2020-08-18</td>\n",
       "      <td>49.569</td>\n",
       "      <td>-138.666</td>\n",
       "      <td>Night</td>\n",
       "      <td>236.0</td>\n",
       "      <td>250.0</td>\n",
       "      <td>0.0</td>\n",
       "      <td>67.40</td>\n",
       "      <td>0.0</td>\n",
       "      <td>0.0</td>\n",
       "      <td>...</td>\n",
       "      <td>0.00000</td>\n",
       "      <td>0.00000</td>\n",
       "      <td>0.0</td>\n",
       "      <td>0.00000</td>\n",
       "      <td>0.13353</td>\n",
       "      <td>0.0</td>\n",
       "      <td>0.00000</td>\n",
       "      <td>0.00000</td>\n",
       "      <td>0.00000</td>\n",
       "      <td>0.00000</td>\n",
       "    </tr>\n",
       "    <tr>\n",
       "      <th>1074</th>\n",
       "      <td>2020-08-20</td>\n",
       "      <td>50.000</td>\n",
       "      <td>-145.000</td>\n",
       "      <td>Night</td>\n",
       "      <td>236.0</td>\n",
       "      <td>250.0</td>\n",
       "      <td>0.0</td>\n",
       "      <td>65.52</td>\n",
       "      <td>0.0</td>\n",
       "      <td>0.0</td>\n",
       "      <td>...</td>\n",
       "      <td>4.41514</td>\n",
       "      <td>1.53846</td>\n",
       "      <td>0.0</td>\n",
       "      <td>0.00000</td>\n",
       "      <td>0.00000</td>\n",
       "      <td>0.0</td>\n",
       "      <td>0.02365</td>\n",
       "      <td>0.27778</td>\n",
       "      <td>3.73779</td>\n",
       "      <td>0.00000</td>\n",
       "    </tr>\n",
       "    <tr>\n",
       "      <th>1075</th>\n",
       "      <td>2020-08-30</td>\n",
       "      <td>50.463</td>\n",
       "      <td>-129.916</td>\n",
       "      <td>Daylight</td>\n",
       "      <td>236.0</td>\n",
       "      <td>250.0</td>\n",
       "      <td>0.0</td>\n",
       "      <td>61.95</td>\n",
       "      <td>0.0</td>\n",
       "      <td>0.0</td>\n",
       "      <td>...</td>\n",
       "      <td>0.00000</td>\n",
       "      <td>0.00000</td>\n",
       "      <td>0.0</td>\n",
       "      <td>0.00000</td>\n",
       "      <td>0.00000</td>\n",
       "      <td>0.0</td>\n",
       "      <td>0.00000</td>\n",
       "      <td>0.00000</td>\n",
       "      <td>0.00000</td>\n",
       "      <td>0.02066</td>\n",
       "    </tr>\n",
       "    <tr>\n",
       "      <th>1076</th>\n",
       "      <td>2020-08-31</td>\n",
       "      <td>50.938</td>\n",
       "      <td>-129.979</td>\n",
       "      <td>Daylight</td>\n",
       "      <td>236.0</td>\n",
       "      <td>250.0</td>\n",
       "      <td>0.0</td>\n",
       "      <td>87.33</td>\n",
       "      <td>0.0</td>\n",
       "      <td>0.0</td>\n",
       "      <td>...</td>\n",
       "      <td>0.00000</td>\n",
       "      <td>0.00000</td>\n",
       "      <td>0.0</td>\n",
       "      <td>0.23818</td>\n",
       "      <td>0.00000</td>\n",
       "      <td>0.0</td>\n",
       "      <td>0.00000</td>\n",
       "      <td>0.00000</td>\n",
       "      <td>0.00000</td>\n",
       "      <td>0.00000</td>\n",
       "    </tr>\n",
       "  </tbody>\n",
       "</table>\n",
       "<p>1077 rows × 102 columns</p>\n",
       "</div>"
      ],
      "text/plain": [
       "           time     lat      lon  Twilight  Mesh_Size(um)  DEPTH_STRT  \\\n",
       "0    1995-09-24  49.820 -128.563  Daylight          236.0       246.0   \n",
       "1    1995-09-24  49.820 -128.563     Night          236.0        50.0   \n",
       "2    1995-09-25  49.560 -128.259  Daylight          236.0       247.0   \n",
       "3    1995-09-25  49.560 -128.259     Night          236.0        49.0   \n",
       "4    1995-09-25  49.670 -128.075     Night          236.0       235.0   \n",
       "...         ...     ...      ...       ...            ...         ...   \n",
       "1072 2020-08-17  49.283 -134.667     Night          236.0       250.0   \n",
       "1073 2020-08-18  49.569 -138.666     Night          236.0       250.0   \n",
       "1074 2020-08-20  50.000 -145.000     Night          236.0       250.0   \n",
       "1075 2020-08-30  50.463 -129.916  Daylight          236.0       250.0   \n",
       "1076 2020-08-31  50.938 -129.979  Daylight          236.0       250.0   \n",
       "\n",
       "      DEPTH_END  Volume Filtered(m3)  ANNE:POLY: >> POLY larvae s1  \\\n",
       "0           0.0                86.33                           0.0   \n",
       "1           0.0                36.09                           0.0   \n",
       "2           0.0               113.58                           0.0   \n",
       "3           0.0                24.77                           0.0   \n",
       "4           0.0                69.70                           0.0   \n",
       "...         ...                  ...                           ...   \n",
       "1072        0.0                59.84                           0.0   \n",
       "1073        0.0                67.40                           0.0   \n",
       "1074        0.0                65.52                           0.0   \n",
       "1075        0.0                61.95                           0.0   \n",
       "1076        0.0                87.33                           0.0   \n",
       "\n",
       "      ANNE:POLY: >> POLY s1  ...  UROC:THAL: >> DOLIO s2  \\\n",
       "0                       0.0  ...                 0.00000   \n",
       "1                       0.0  ...                 0.00000   \n",
       "2                       0.0  ...                 0.00000   \n",
       "3                       0.0  ...                 0.00000   \n",
       "4                       0.0  ...                 0.00000   \n",
       "...                     ...  ...                     ...   \n",
       "1072                    0.0  ...                 0.01070   \n",
       "1073                    0.0  ...                 0.00000   \n",
       "1074                    0.0  ...                 4.41514   \n",
       "1075                    0.0  ...                 0.00000   \n",
       "1076                    0.0  ...                 0.00000   \n",
       "\n",
       "      UROC:THAL: >> DOLIO s3  UROC:THAL: >> SALP s1  UROC:THAL: >> SALP s2  \\\n",
       "0                    0.00000                    0.0                0.00000   \n",
       "1                    0.00000                    0.0                0.00000   \n",
       "2                    0.00000                    0.0                0.00000   \n",
       "3                    0.00000                    0.0                0.00000   \n",
       "4                    0.00000                    0.0                0.00000   \n",
       "...                      ...                    ...                    ...   \n",
       "1072                 0.00000                    0.0                0.00000   \n",
       "1073                 0.00000                    0.0                0.00000   \n",
       "1074                 1.53846                    0.0                0.00000   \n",
       "1075                 0.00000                    0.0                0.00000   \n",
       "1076                 0.00000                    0.0                0.23818   \n",
       "\n",
       "      UROC:THAL: >> SALP s3  VERT:PISC: >> PISCES egg s1  \\\n",
       "0                   0.00000                          0.0   \n",
       "1                   0.00000                          0.0   \n",
       "2                   0.00000                          0.0   \n",
       "3                   0.00000                          0.0   \n",
       "4                   0.00000                          0.0   \n",
       "...                     ...                          ...   \n",
       "1072                0.00000                          0.0   \n",
       "1073                0.13353                          0.0   \n",
       "1074                0.00000                          0.0   \n",
       "1075                0.00000                          0.0   \n",
       "1076                0.00000                          0.0   \n",
       "\n",
       "      VERT:PISC: >> PISCES s1  VERT:PISC: >> PISCES s2  \\\n",
       "0                     0.00000                  0.00000   \n",
       "1                     0.00000                  0.00000   \n",
       "2                     0.00000                  0.00000   \n",
       "3                     0.00000                  0.94146   \n",
       "4                     0.00000                  0.33458   \n",
       "...                       ...                      ...   \n",
       "1072                  0.00000                  0.24398   \n",
       "1073                  0.00000                  0.00000   \n",
       "1074                  0.02365                  0.27778   \n",
       "1075                  0.00000                  0.00000   \n",
       "1076                  0.00000                  0.00000   \n",
       "\n",
       "      VERT:PISC: >> PISCES s3  XXXX >> Remainder  \n",
       "0                     0.07819            0.00000  \n",
       "1                     4.22832            0.00000  \n",
       "2                     0.00000            0.00000  \n",
       "3                     0.00000            0.00000  \n",
       "4                     0.00000            0.00000  \n",
       "...                       ...                ...  \n",
       "1072                  1.27507            0.00000  \n",
       "1073                  0.00000            0.00000  \n",
       "1074                  3.73779            0.00000  \n",
       "1075                  0.00000            0.02066  \n",
       "1076                  0.00000            0.00000  \n",
       "\n",
       "[1077 rows x 102 columns]"
      ]
     },
     "execution_count": 6,
     "metadata": {},
     "output_type": "execute_result"
    }
   ],
   "source": [
    "data = pd.merge(index, data, left_index=True, right_index=True)\n",
    "data"
   ]
  },
  {
   "cell_type": "markdown",
   "metadata": {},
   "source": [
    "## Define pteropods groups\n",
    "\n",
    "---\n"
   ]
  },
  {
   "cell_type": "code",
   "execution_count": 21,
   "metadata": {},
   "outputs": [],
   "source": [
    "taxa_groups = {\n",
    "    \"pteropods\": [\"MOGA:PTER\"],\n",
    "}"
   ]
  },
  {
   "cell_type": "markdown",
   "metadata": {},
   "source": [
    "## Clean data\n",
    "\n",
    "---\n"
   ]
  },
  {
   "cell_type": "markdown",
   "metadata": {},
   "source": [
    "Remove the data when time and position are not known.\n"
   ]
  },
  {
   "cell_type": "code",
   "execution_count": 8,
   "metadata": {},
   "outputs": [
    {
     "data": {
      "application/vnd.plotly.v1+json": {
       "config": {
        "plotlyServerURL": "https://plot.ly"
       },
       "data": [
        {
         "hovertemplate": "variable=0<br>Column=%{x}<br>Number of missing values=%{y}<extra></extra>",
         "legendgroup": "0",
         "marker": {
          "color": "#636efa",
          "pattern": {
           "shape": ""
          }
         },
         "name": "0",
         "orientation": "v",
         "showlegend": true,
         "textposition": "auto",
         "type": "bar",
         "x": [
          "Key",
          "region_name",
          "Station",
          "lon",
          "lat",
          "Date",
          "STN_TIME",
          "Twilight",
          "Net_Type",
          "Mesh_Size(um)",
          "Net_Mouth_Dia(m)",
          "DEPTH_STRT",
          "DEPTH_END",
          "Bottom Depth(m)",
          "Volume Filtered(m3)",
          "CTD",
          "NOTES",
          "Pi",
          "NumberOfSpecies",
          "SumOfDiversity",
          "ANNE:POLY: >> POLY larvae s1",
          "ANNE:POLY: >> POLY s1",
          "ANNE:POLY: >> POLY s2",
          "ANNE:POLY: >> POLY s3",
          "ARCR:: >> CIRRI s1",
          "ARCR:: >> CRUST larvae s1",
          "ARCR:AMPH:GAMM >> GAMM s1",
          "ARCR:AMPH:GAMM >> GAMM s2",
          "ARCR:AMPH:GAMM >> GAMM s3",
          "ARCR:AMPH:HYPE >> HYPER s1",
          "ARCR:AMPH:HYPE >> HYPER s2",
          "ARCR:AMPH:HYPE >> HYPER s3",
          "ARCR:CLAD: >> CLADO s1",
          "ARCR:COPE: >> COPE other <2mm",
          "ARCR:COPE: >> COPE other >2mm",
          "ARCR:COPE: >> COPEN s1",
          "ARCR:COPE:CALA >> CALA <1mm",
          "ARCR:COPE:CALA >> CALA <3mm≥1mm",
          "ARCR:COPE:CALA >> CALA <5mm≥3mm",
          "ARCR:COPE:CALA >> CALA >5mm",
          "ARCR:DECA:MYSI >> MYSID s1",
          "ARCR:DECA:MYSI >> MYSID s2",
          "ARCR:DECA:MYSI >> MYSID s3",
          "ARCR:DECA:NANT >> CARID s1",
          "ARCR:DECA:NANT >> CARID s2",
          "ARCR:DECA:NANT >> CARID s3",
          "ARCR:DECA:REPA >> DECA s1",
          "ARCR:DECA:REPA >> DECA s2",
          "ARCR:DECA:REPA >> DECA s3",
          "ARCR:EUPH: >> EUPH eggs",
          "ARCR:EUPH: >> EUPH s1",
          "ARCR:EUPH: >> EUPH s2",
          "ARCR:EUPH: >> EUPH s3",
          "ARCR:ISOP: >> ISOPOD s1",
          "ARCR:ISOP: >> ISOPOD s2",
          "ARCR:ISOP: >> ISOPOD s3",
          "ARCR:OSTR: >> OSTRA <3mm",
          "ARCR:OSTR: >> OSTRA >3mm",
          "CHAE:: >> CHAET s1",
          "CHAE:: >> CHAET s2",
          "CHAE:: >> CHAET s3",
          "CHRO:: >> PROTO s1",
          "CHRO:: >> PROTO s2",
          "CNID:ANTH: >> ANTH s1",
          "CNID:ANTH: >> ANTH s2",
          "CNID:HYDR: >> MEDUS s1",
          "CNID:HYDR: >> MEDUS s2",
          "CNID:HYDR: >> MEDUS s3",
          "CNID:HYDR:SIPH >> CALYC s1",
          "CNID:HYDR:SIPH >> CALYC s2",
          "CNID:HYDR:SIPH >> CALYC s3",
          "CNID:HYDR:SIPH >> PHYS float >5mm",
          "CNID:HYDR:SIPH >> PHYS s1",
          "CNID:HYDR:SIPH >> PHYS s2",
          "CNID:HYDR:SIPH >> PHYS s3",
          "CNID:SCYF: >> SCYPH s1",
          "CNID:SCYF: >> SCYPH s2",
          "CNID:SCYF: >> SCYPH s3",
          "CTEN:: >> CTENO s1",
          "CTEN:: >> CTENO s2",
          "CTEN:: >> CTENO s3",
          "ECHI:: >> ECHIN s1",
          "ECTO:: >> BRYOC s1",
          "MOCE:OCTO: >> CEPH s1",
          "MOCE:OCTO: >> CEPH s2",
          "MOCE:OCTO: >> CEPH s3",
          "MOGA:HETE: >> HETERO s1",
          "MOGA:HETE: >> HETERO s2",
          "MOGA:HETE: >> HETERO s3",
          "MOGA:PTER: >> CLIO s1",
          "MOGA:PTER: >> CLIO s2",
          "MOGA:PTER: >> CLIO s3",
          "MOGA:PTER: >> GYMNO s1",
          "MOGA:PTER: >> GYMNO s2",
          "MOGA:PTER: >> GYMNO s3",
          "MOGA:PTER: >> LIM-- s0",
          "MOGA:PTER: >> LIM-- s1",
          "MOGA:PTER: >> LIM-- s2",
          "MOGA:PTER: >> LIM-- s3",
          "MOLL:: >> MOLL s1",
          "UROC:LARV: >> LARVAC s1",
          "UROC:LARV: >> LARVAC s2",
          "UROC:LARV: >> LARVAC s3",
          "UROC:THAL: >> DOLIO s1",
          "UROC:THAL: >> DOLIO s2",
          "UROC:THAL: >> DOLIO s3",
          "UROC:THAL: >> SALP s1",
          "UROC:THAL: >> SALP s2",
          "UROC:THAL: >> SALP s3",
          "VERT:PISC: >> PISCES egg s1",
          "VERT:PISC: >> PISCES s1",
          "VERT:PISC: >> PISCES s2",
          "VERT:PISC: >> PISCES s3",
          "XXXX >> Remainder",
          "time"
         ],
         "xaxis": "x",
         "y": {
          "bdata": "AAAAAAAAAAAAAAAAAAMANgAAAAAAAAAAAAAAAAAAAAAAAAAAAAAAAAAAAAAAAAAAAAAAAAAAAAAAAAAAAAAAAAAAAAAAAAAAAAAAAAAAAAAAAAAAAAAAAAAAAAAAAAAAAAAAAAAAAAAAAAAAAAAAAAAAAA==",
          "dtype": "i1"
         },
         "yaxis": "y"
        }
       ],
       "layout": {
        "barmode": "relative",
        "height": 500,
        "legend": {
         "title": {
          "text": "variable"
         },
         "tracegroupgap": 0
        },
        "showlegend": false,
        "template": {
         "data": {
          "bar": [
           {
            "error_x": {
             "color": "#2a3f5f"
            },
            "error_y": {
             "color": "#2a3f5f"
            },
            "marker": {
             "line": {
              "color": "#E5ECF6",
              "width": 0.5
             },
             "pattern": {
              "fillmode": "overlay",
              "size": 10,
              "solidity": 0.2
             }
            },
            "type": "bar"
           }
          ],
          "barpolar": [
           {
            "marker": {
             "line": {
              "color": "#E5ECF6",
              "width": 0.5
             },
             "pattern": {
              "fillmode": "overlay",
              "size": 10,
              "solidity": 0.2
             }
            },
            "type": "barpolar"
           }
          ],
          "carpet": [
           {
            "aaxis": {
             "endlinecolor": "#2a3f5f",
             "gridcolor": "white",
             "linecolor": "white",
             "minorgridcolor": "white",
             "startlinecolor": "#2a3f5f"
            },
            "baxis": {
             "endlinecolor": "#2a3f5f",
             "gridcolor": "white",
             "linecolor": "white",
             "minorgridcolor": "white",
             "startlinecolor": "#2a3f5f"
            },
            "type": "carpet"
           }
          ],
          "choropleth": [
           {
            "colorbar": {
             "outlinewidth": 0,
             "ticks": ""
            },
            "type": "choropleth"
           }
          ],
          "contour": [
           {
            "colorbar": {
             "outlinewidth": 0,
             "ticks": ""
            },
            "colorscale": [
             [
              0,
              "#0d0887"
             ],
             [
              0.1111111111111111,
              "#46039f"
             ],
             [
              0.2222222222222222,
              "#7201a8"
             ],
             [
              0.3333333333333333,
              "#9c179e"
             ],
             [
              0.4444444444444444,
              "#bd3786"
             ],
             [
              0.5555555555555556,
              "#d8576b"
             ],
             [
              0.6666666666666666,
              "#ed7953"
             ],
             [
              0.7777777777777778,
              "#fb9f3a"
             ],
             [
              0.8888888888888888,
              "#fdca26"
             ],
             [
              1,
              "#f0f921"
             ]
            ],
            "type": "contour"
           }
          ],
          "contourcarpet": [
           {
            "colorbar": {
             "outlinewidth": 0,
             "ticks": ""
            },
            "type": "contourcarpet"
           }
          ],
          "heatmap": [
           {
            "colorbar": {
             "outlinewidth": 0,
             "ticks": ""
            },
            "colorscale": [
             [
              0,
              "#0d0887"
             ],
             [
              0.1111111111111111,
              "#46039f"
             ],
             [
              0.2222222222222222,
              "#7201a8"
             ],
             [
              0.3333333333333333,
              "#9c179e"
             ],
             [
              0.4444444444444444,
              "#bd3786"
             ],
             [
              0.5555555555555556,
              "#d8576b"
             ],
             [
              0.6666666666666666,
              "#ed7953"
             ],
             [
              0.7777777777777778,
              "#fb9f3a"
             ],
             [
              0.8888888888888888,
              "#fdca26"
             ],
             [
              1,
              "#f0f921"
             ]
            ],
            "type": "heatmap"
           }
          ],
          "histogram": [
           {
            "marker": {
             "pattern": {
              "fillmode": "overlay",
              "size": 10,
              "solidity": 0.2
             }
            },
            "type": "histogram"
           }
          ],
          "histogram2d": [
           {
            "colorbar": {
             "outlinewidth": 0,
             "ticks": ""
            },
            "colorscale": [
             [
              0,
              "#0d0887"
             ],
             [
              0.1111111111111111,
              "#46039f"
             ],
             [
              0.2222222222222222,
              "#7201a8"
             ],
             [
              0.3333333333333333,
              "#9c179e"
             ],
             [
              0.4444444444444444,
              "#bd3786"
             ],
             [
              0.5555555555555556,
              "#d8576b"
             ],
             [
              0.6666666666666666,
              "#ed7953"
             ],
             [
              0.7777777777777778,
              "#fb9f3a"
             ],
             [
              0.8888888888888888,
              "#fdca26"
             ],
             [
              1,
              "#f0f921"
             ]
            ],
            "type": "histogram2d"
           }
          ],
          "histogram2dcontour": [
           {
            "colorbar": {
             "outlinewidth": 0,
             "ticks": ""
            },
            "colorscale": [
             [
              0,
              "#0d0887"
             ],
             [
              0.1111111111111111,
              "#46039f"
             ],
             [
              0.2222222222222222,
              "#7201a8"
             ],
             [
              0.3333333333333333,
              "#9c179e"
             ],
             [
              0.4444444444444444,
              "#bd3786"
             ],
             [
              0.5555555555555556,
              "#d8576b"
             ],
             [
              0.6666666666666666,
              "#ed7953"
             ],
             [
              0.7777777777777778,
              "#fb9f3a"
             ],
             [
              0.8888888888888888,
              "#fdca26"
             ],
             [
              1,
              "#f0f921"
             ]
            ],
            "type": "histogram2dcontour"
           }
          ],
          "mesh3d": [
           {
            "colorbar": {
             "outlinewidth": 0,
             "ticks": ""
            },
            "type": "mesh3d"
           }
          ],
          "parcoords": [
           {
            "line": {
             "colorbar": {
              "outlinewidth": 0,
              "ticks": ""
             }
            },
            "type": "parcoords"
           }
          ],
          "pie": [
           {
            "automargin": true,
            "type": "pie"
           }
          ],
          "scatter": [
           {
            "fillpattern": {
             "fillmode": "overlay",
             "size": 10,
             "solidity": 0.2
            },
            "type": "scatter"
           }
          ],
          "scatter3d": [
           {
            "line": {
             "colorbar": {
              "outlinewidth": 0,
              "ticks": ""
             }
            },
            "marker": {
             "colorbar": {
              "outlinewidth": 0,
              "ticks": ""
             }
            },
            "type": "scatter3d"
           }
          ],
          "scattercarpet": [
           {
            "marker": {
             "colorbar": {
              "outlinewidth": 0,
              "ticks": ""
             }
            },
            "type": "scattercarpet"
           }
          ],
          "scattergeo": [
           {
            "marker": {
             "colorbar": {
              "outlinewidth": 0,
              "ticks": ""
             }
            },
            "type": "scattergeo"
           }
          ],
          "scattergl": [
           {
            "marker": {
             "colorbar": {
              "outlinewidth": 0,
              "ticks": ""
             }
            },
            "type": "scattergl"
           }
          ],
          "scattermap": [
           {
            "marker": {
             "colorbar": {
              "outlinewidth": 0,
              "ticks": ""
             }
            },
            "type": "scattermap"
           }
          ],
          "scattermapbox": [
           {
            "marker": {
             "colorbar": {
              "outlinewidth": 0,
              "ticks": ""
             }
            },
            "type": "scattermapbox"
           }
          ],
          "scatterpolar": [
           {
            "marker": {
             "colorbar": {
              "outlinewidth": 0,
              "ticks": ""
             }
            },
            "type": "scatterpolar"
           }
          ],
          "scatterpolargl": [
           {
            "marker": {
             "colorbar": {
              "outlinewidth": 0,
              "ticks": ""
             }
            },
            "type": "scatterpolargl"
           }
          ],
          "scatterternary": [
           {
            "marker": {
             "colorbar": {
              "outlinewidth": 0,
              "ticks": ""
             }
            },
            "type": "scatterternary"
           }
          ],
          "surface": [
           {
            "colorbar": {
             "outlinewidth": 0,
             "ticks": ""
            },
            "colorscale": [
             [
              0,
              "#0d0887"
             ],
             [
              0.1111111111111111,
              "#46039f"
             ],
             [
              0.2222222222222222,
              "#7201a8"
             ],
             [
              0.3333333333333333,
              "#9c179e"
             ],
             [
              0.4444444444444444,
              "#bd3786"
             ],
             [
              0.5555555555555556,
              "#d8576b"
             ],
             [
              0.6666666666666666,
              "#ed7953"
             ],
             [
              0.7777777777777778,
              "#fb9f3a"
             ],
             [
              0.8888888888888888,
              "#fdca26"
             ],
             [
              1,
              "#f0f921"
             ]
            ],
            "type": "surface"
           }
          ],
          "table": [
           {
            "cells": {
             "fill": {
              "color": "#EBF0F8"
             },
             "line": {
              "color": "white"
             }
            },
            "header": {
             "fill": {
              "color": "#C8D4E3"
             },
             "line": {
              "color": "white"
             }
            },
            "type": "table"
           }
          ]
         },
         "layout": {
          "annotationdefaults": {
           "arrowcolor": "#2a3f5f",
           "arrowhead": 0,
           "arrowwidth": 1
          },
          "autotypenumbers": "strict",
          "coloraxis": {
           "colorbar": {
            "outlinewidth": 0,
            "ticks": ""
           }
          },
          "colorscale": {
           "diverging": [
            [
             0,
             "#8e0152"
            ],
            [
             0.1,
             "#c51b7d"
            ],
            [
             0.2,
             "#de77ae"
            ],
            [
             0.3,
             "#f1b6da"
            ],
            [
             0.4,
             "#fde0ef"
            ],
            [
             0.5,
             "#f7f7f7"
            ],
            [
             0.6,
             "#e6f5d0"
            ],
            [
             0.7,
             "#b8e186"
            ],
            [
             0.8,
             "#7fbc41"
            ],
            [
             0.9,
             "#4d9221"
            ],
            [
             1,
             "#276419"
            ]
           ],
           "sequential": [
            [
             0,
             "#0d0887"
            ],
            [
             0.1111111111111111,
             "#46039f"
            ],
            [
             0.2222222222222222,
             "#7201a8"
            ],
            [
             0.3333333333333333,
             "#9c179e"
            ],
            [
             0.4444444444444444,
             "#bd3786"
            ],
            [
             0.5555555555555556,
             "#d8576b"
            ],
            [
             0.6666666666666666,
             "#ed7953"
            ],
            [
             0.7777777777777778,
             "#fb9f3a"
            ],
            [
             0.8888888888888888,
             "#fdca26"
            ],
            [
             1,
             "#f0f921"
            ]
           ],
           "sequentialminus": [
            [
             0,
             "#0d0887"
            ],
            [
             0.1111111111111111,
             "#46039f"
            ],
            [
             0.2222222222222222,
             "#7201a8"
            ],
            [
             0.3333333333333333,
             "#9c179e"
            ],
            [
             0.4444444444444444,
             "#bd3786"
            ],
            [
             0.5555555555555556,
             "#d8576b"
            ],
            [
             0.6666666666666666,
             "#ed7953"
            ],
            [
             0.7777777777777778,
             "#fb9f3a"
            ],
            [
             0.8888888888888888,
             "#fdca26"
            ],
            [
             1,
             "#f0f921"
            ]
           ]
          },
          "colorway": [
           "#636efa",
           "#EF553B",
           "#00cc96",
           "#ab63fa",
           "#FFA15A",
           "#19d3f3",
           "#FF6692",
           "#B6E880",
           "#FF97FF",
           "#FECB52"
          ],
          "font": {
           "color": "#2a3f5f"
          },
          "geo": {
           "bgcolor": "white",
           "lakecolor": "white",
           "landcolor": "#E5ECF6",
           "showlakes": true,
           "showland": true,
           "subunitcolor": "white"
          },
          "hoverlabel": {
           "align": "left"
          },
          "hovermode": "closest",
          "mapbox": {
           "style": "light"
          },
          "paper_bgcolor": "white",
          "plot_bgcolor": "#E5ECF6",
          "polar": {
           "angularaxis": {
            "gridcolor": "white",
            "linecolor": "white",
            "ticks": ""
           },
           "bgcolor": "#E5ECF6",
           "radialaxis": {
            "gridcolor": "white",
            "linecolor": "white",
            "ticks": ""
           }
          },
          "scene": {
           "xaxis": {
            "backgroundcolor": "#E5ECF6",
            "gridcolor": "white",
            "gridwidth": 2,
            "linecolor": "white",
            "showbackground": true,
            "ticks": "",
            "zerolinecolor": "white"
           },
           "yaxis": {
            "backgroundcolor": "#E5ECF6",
            "gridcolor": "white",
            "gridwidth": 2,
            "linecolor": "white",
            "showbackground": true,
            "ticks": "",
            "zerolinecolor": "white"
           },
           "zaxis": {
            "backgroundcolor": "#E5ECF6",
            "gridcolor": "white",
            "gridwidth": 2,
            "linecolor": "white",
            "showbackground": true,
            "ticks": "",
            "zerolinecolor": "white"
           }
          },
          "shapedefaults": {
           "line": {
            "color": "#2a3f5f"
           }
          },
          "ternary": {
           "aaxis": {
            "gridcolor": "white",
            "linecolor": "white",
            "ticks": ""
           },
           "baxis": {
            "gridcolor": "white",
            "linecolor": "white",
            "ticks": ""
           },
           "bgcolor": "#E5ECF6",
           "caxis": {
            "gridcolor": "white",
            "linecolor": "white",
            "ticks": ""
           }
          },
          "title": {
           "x": 0.05
          },
          "xaxis": {
           "automargin": true,
           "gridcolor": "white",
           "linecolor": "white",
           "ticks": "",
           "title": {
            "standoff": 15
           },
           "zerolinecolor": "white",
           "zerolinewidth": 2
          },
          "yaxis": {
           "automargin": true,
           "gridcolor": "white",
           "linecolor": "white",
           "ticks": "",
           "title": {
            "standoff": 15
           },
           "zerolinecolor": "white",
           "zerolinewidth": 2
          }
         }
        },
        "title": {
         "text": "Missing values per column for a total of 1077 entries"
        },
        "xaxis": {
         "anchor": "y",
         "domain": [
          0,
          1
         ],
         "tickangle": -45,
         "title": {
          "text": "Column"
         }
        },
        "yaxis": {
         "anchor": "x",
         "domain": [
          0,
          1
         ],
         "title": {
          "text": "Number of missing values"
         },
         "type": "log"
        }
       }
      }
     },
     "metadata": {},
     "output_type": "display_data"
    }
   ],
   "source": [
    "fig = (\n",
    "    raw_data.isna()\n",
    "    .sum()\n",
    "    .plot(\n",
    "        kind=\"bar\",\n",
    "        title=f\"Missing values per column for a total of {len(raw_data)} entries\",\n",
    "        labels=dict(\n",
    "            index=\"Column\",\n",
    "            value=\"Number of missing values\",\n",
    "        ),\n",
    "        # log y-axis\n",
    "        log_y=True,\n",
    "    )\n",
    ")\n",
    "# Rotate x-axis labels by 45 degrees\n",
    "fig.update_xaxes(tickangle=-45)\n",
    "# multiply the figure ratio of height by 2\n",
    "fig.update_layout(height=500)\n",
    "# Remove legend\n",
    "fig.update_layout(showlegend=False)\n",
    "fig.show()"
   ]
  },
  {
   "cell_type": "markdown",
   "metadata": {},
   "source": [
    "## Manage index\n",
    "\n",
    "---\n"
   ]
  },
  {
   "cell_type": "markdown",
   "metadata": {},
   "source": [
    "### Time\n",
    "\n",
    "Must be set to daily frequency. If multiple data points are available for a single day, the mean is taken.\n"
   ]
  },
  {
   "cell_type": "code",
   "execution_count": 9,
   "metadata": {},
   "outputs": [
    {
     "data": {
      "application/vnd.plotly.v1+json": {
       "config": {
        "plotlyServerURL": "https://plot.ly"
       },
       "data": [
        {
         "bingroup": "x",
         "hovertemplate": "Time=%{x}<br>count=%{y}<extra></extra>",
         "legendgroup": "",
         "marker": {
          "color": "#636efa",
          "pattern": {
           "shape": ""
          }
         },
         "name": "",
         "orientation": "v",
         "showlegend": false,
         "type": "histogram",
         "x": [
          "1995-09-24T00:00:00.000000000",
          "1995-09-24T00:00:00.000000000",
          "1995-09-25T00:00:00.000000000",
          "1995-09-25T00:00:00.000000000",
          "1995-09-25T00:00:00.000000000",
          "1995-09-25T00:00:00.000000000",
          "1995-09-26T00:00:00.000000000",
          "1995-09-26T00:00:00.000000000",
          "1995-09-28T00:00:00.000000000",
          "1996-03-06T00:00:00.000000000",
          "1996-06-11T00:00:00.000000000",
          "1996-10-05T00:00:00.000000000",
          "1997-02-21T00:00:00.000000000",
          "1997-02-21T00:00:00.000000000",
          "1997-02-21T00:00:00.000000000",
          "1997-02-24T00:00:00.000000000",
          "1997-03-14T00:00:00.000000000",
          "1997-03-15T00:00:00.000000000",
          "1997-03-16T00:00:00.000000000",
          "1997-03-17T00:00:00.000000000",
          "1997-03-18T00:00:00.000000000",
          "1997-03-24T00:00:00.000000000",
          "1997-03-25T00:00:00.000000000",
          "1997-03-26T00:00:00.000000000",
          "1997-03-29T00:00:00.000000000",
          "1997-03-29T00:00:00.000000000",
          "1997-03-29T00:00:00.000000000",
          "1997-03-29T00:00:00.000000000",
          "1997-03-29T00:00:00.000000000",
          "1997-03-29T00:00:00.000000000",
          "1997-03-29T00:00:00.000000000",
          "1997-03-29T00:00:00.000000000",
          "1997-03-29T00:00:00.000000000",
          "1997-03-29T00:00:00.000000000",
          "1997-03-29T00:00:00.000000000",
          "1997-03-29T00:00:00.000000000",
          "1997-03-29T00:00:00.000000000",
          "1997-03-29T00:00:00.000000000",
          "1997-03-29T00:00:00.000000000",
          "1997-03-29T00:00:00.000000000",
          "1997-03-29T00:00:00.000000000",
          "1997-03-29T00:00:00.000000000",
          "1997-03-29T00:00:00.000000000",
          "1997-03-29T00:00:00.000000000",
          "1997-03-29T00:00:00.000000000",
          "1997-03-29T00:00:00.000000000",
          "1997-03-29T00:00:00.000000000",
          "1997-03-29T00:00:00.000000000",
          "1997-04-10T00:00:00.000000000",
          "1997-06-08T00:00:00.000000000",
          "1997-06-12T00:00:00.000000000",
          "1997-06-15T00:00:00.000000000",
          "1997-06-16T00:00:00.000000000",
          "1997-06-16T00:00:00.000000000",
          "1997-06-16T00:00:00.000000000",
          "1997-06-16T00:00:00.000000000",
          "1997-06-16T00:00:00.000000000",
          "1997-06-16T00:00:00.000000000",
          "1997-06-16T00:00:00.000000000",
          "1997-06-16T00:00:00.000000000",
          "1997-06-16T00:00:00.000000000",
          "1997-06-16T00:00:00.000000000",
          "1997-06-16T00:00:00.000000000",
          "1997-07-03T00:00:00.000000000",
          "1997-07-03T00:00:00.000000000",
          "1997-07-04T00:00:00.000000000",
          "1997-07-05T00:00:00.000000000",
          "1997-07-05T00:00:00.000000000",
          "1997-07-06T00:00:00.000000000",
          "1997-07-06T00:00:00.000000000",
          "1997-07-07T00:00:00.000000000",
          "1997-07-07T00:00:00.000000000",
          "1997-07-08T00:00:00.000000000",
          "1997-07-08T00:00:00.000000000",
          "1997-07-09T00:00:00.000000000",
          "1997-07-09T00:00:00.000000000",
          "1997-07-10T00:00:00.000000000",
          "1997-07-10T00:00:00.000000000",
          "1997-07-11T00:00:00.000000000",
          "1997-07-11T00:00:00.000000000",
          "1997-07-12T00:00:00.000000000",
          "1997-07-12T00:00:00.000000000",
          "1997-07-18T00:00:00.000000000",
          "1997-08-29T00:00:00.000000000",
          "1997-08-30T00:00:00.000000000",
          "1997-08-31T00:00:00.000000000",
          "1997-09-01T00:00:00.000000000",
          "1997-09-04T00:00:00.000000000",
          "1997-09-04T00:00:00.000000000",
          "1997-09-04T00:00:00.000000000",
          "1997-09-04T00:00:00.000000000",
          "1997-09-04T00:00:00.000000000",
          "1997-09-04T00:00:00.000000000",
          "1997-09-04T00:00:00.000000000",
          "1997-09-04T00:00:00.000000000",
          "1997-09-04T00:00:00.000000000",
          "1997-09-04T00:00:00.000000000",
          "1997-09-04T00:00:00.000000000",
          "1997-09-04T00:00:00.000000000",
          "1997-09-04T00:00:00.000000000",
          "1997-09-04T00:00:00.000000000",
          "1997-09-04T00:00:00.000000000",
          "1997-09-04T00:00:00.000000000",
          "1997-09-04T00:00:00.000000000",
          "1997-09-04T00:00:00.000000000",
          "1997-09-05T00:00:00.000000000",
          "1997-09-08T00:00:00.000000000",
          "1997-09-10T00:00:00.000000000",
          "1997-09-28T00:00:00.000000000",
          "1997-12-02T00:00:00.000000000",
          "1997-12-02T00:00:00.000000000",
          "1998-01-19T00:00:00.000000000",
          "1998-01-20T00:00:00.000000000",
          "1998-01-20T00:00:00.000000000",
          "1998-02-21T00:00:00.000000000",
          "1998-02-21T00:00:00.000000000",
          "1998-02-23T00:00:00.000000000",
          "1998-02-24T00:00:00.000000000",
          "1998-02-27T00:00:00.000000000",
          "1998-02-27T00:00:00.000000000",
          "1998-02-27T00:00:00.000000000",
          "1998-02-27T00:00:00.000000000",
          "1998-02-27T00:00:00.000000000",
          "1998-02-27T00:00:00.000000000",
          "1998-02-27T00:00:00.000000000",
          "1998-02-28T00:00:00.000000000",
          "1998-02-28T00:00:00.000000000",
          "1998-02-28T00:00:00.000000000",
          "1998-02-28T00:00:00.000000000",
          "1998-02-28T00:00:00.000000000",
          "1998-02-28T00:00:00.000000000",
          "1998-02-28T00:00:00.000000000",
          "1998-02-28T00:00:00.000000000",
          "1998-02-28T00:00:00.000000000",
          "1998-02-28T00:00:00.000000000",
          "1998-02-28T00:00:00.000000000",
          "1998-03-03T00:00:00.000000000",
          "1998-03-03T00:00:00.000000000",
          "1998-03-03T00:00:00.000000000",
          "1998-04-08T00:00:00.000000000",
          "1998-04-09T00:00:00.000000000",
          "1998-04-09T00:00:00.000000000",
          "1998-05-13T00:00:00.000000000",
          "1998-05-13T00:00:00.000000000",
          "1998-05-13T00:00:00.000000000",
          "1998-05-13T00:00:00.000000000",
          "1998-05-13T00:00:00.000000000",
          "1998-05-13T00:00:00.000000000",
          "1998-05-13T00:00:00.000000000",
          "1998-05-13T00:00:00.000000000",
          "1998-05-17T00:00:00.000000000",
          "1998-05-18T00:00:00.000000000",
          "1998-05-19T00:00:00.000000000",
          "1998-05-20T00:00:00.000000000",
          "1998-05-27T00:00:00.000000000",
          "1998-05-27T00:00:00.000000000",
          "1998-05-27T00:00:00.000000000",
          "1998-05-27T00:00:00.000000000",
          "1998-05-27T00:00:00.000000000",
          "1998-05-27T00:00:00.000000000",
          "1998-05-27T00:00:00.000000000",
          "1998-05-27T00:00:00.000000000",
          "1998-06-03T00:00:00.000000000",
          "1998-06-05T00:00:00.000000000",
          "1998-06-05T00:00:00.000000000",
          "1998-06-05T00:00:00.000000000",
          "1998-06-08T00:00:00.000000000",
          "1998-06-09T00:00:00.000000000",
          "1998-06-13T00:00:00.000000000",
          "1998-06-15T00:00:00.000000000",
          "1998-06-17T00:00:00.000000000",
          "1998-06-18T00:00:00.000000000",
          "1998-06-18T00:00:00.000000000",
          "1998-06-18T00:00:00.000000000",
          "1998-06-23T00:00:00.000000000",
          "1998-06-24T00:00:00.000000000",
          "1998-06-24T00:00:00.000000000",
          "1998-07-03T00:00:00.000000000",
          "1998-07-03T00:00:00.000000000",
          "1998-07-03T00:00:00.000000000",
          "1998-07-03T00:00:00.000000000",
          "1998-07-03T00:00:00.000000000",
          "1998-07-03T00:00:00.000000000",
          "1998-07-03T00:00:00.000000000",
          "1998-07-03T00:00:00.000000000",
          "1998-07-04T00:00:00.000000000",
          "1998-07-04T00:00:00.000000000",
          "1998-07-04T00:00:00.000000000",
          "1998-07-04T00:00:00.000000000",
          "1998-07-04T00:00:00.000000000",
          "1998-07-04T00:00:00.000000000",
          "1998-07-04T00:00:00.000000000",
          "1998-07-04T00:00:00.000000000",
          "1998-07-05T00:00:00.000000000",
          "1998-07-05T00:00:00.000000000",
          "1998-07-05T00:00:00.000000000",
          "1998-07-05T00:00:00.000000000",
          "1998-07-05T00:00:00.000000000",
          "1998-07-05T00:00:00.000000000",
          "1998-07-05T00:00:00.000000000",
          "1998-07-05T00:00:00.000000000",
          "1998-07-06T00:00:00.000000000",
          "1998-07-06T00:00:00.000000000",
          "1998-07-06T00:00:00.000000000",
          "1998-07-06T00:00:00.000000000",
          "1998-07-06T00:00:00.000000000",
          "1998-07-06T00:00:00.000000000",
          "1998-07-06T00:00:00.000000000",
          "1998-07-07T00:00:00.000000000",
          "1998-07-07T00:00:00.000000000",
          "1998-07-07T00:00:00.000000000",
          "1998-07-07T00:00:00.000000000",
          "1998-07-07T00:00:00.000000000",
          "1998-07-07T00:00:00.000000000",
          "1998-07-07T00:00:00.000000000",
          "1998-07-07T00:00:00.000000000",
          "1998-07-08T00:00:00.000000000",
          "1998-07-08T00:00:00.000000000",
          "1998-07-08T00:00:00.000000000",
          "1998-07-08T00:00:00.000000000",
          "1998-07-08T00:00:00.000000000",
          "1998-07-08T00:00:00.000000000",
          "1998-07-08T00:00:00.000000000",
          "1998-07-08T00:00:00.000000000",
          "1998-07-08T00:00:00.000000000",
          "1998-07-08T00:00:00.000000000",
          "1998-07-08T00:00:00.000000000",
          "1998-07-08T00:00:00.000000000",
          "1998-07-09T00:00:00.000000000",
          "1998-07-09T00:00:00.000000000",
          "1998-07-09T00:00:00.000000000",
          "1998-07-09T00:00:00.000000000",
          "1998-07-09T00:00:00.000000000",
          "1998-07-09T00:00:00.000000000",
          "1998-07-09T00:00:00.000000000",
          "1998-07-09T00:00:00.000000000",
          "1998-07-18T00:00:00.000000000",
          "1998-07-18T00:00:00.000000000",
          "1998-07-21T00:00:00.000000000",
          "1998-07-21T00:00:00.000000000",
          "1998-07-21T00:00:00.000000000",
          "1998-07-21T00:00:00.000000000",
          "1998-07-23T00:00:00.000000000",
          "1998-07-23T00:00:00.000000000",
          "1998-08-27T00:00:00.000000000",
          "1998-08-28T00:00:00.000000000",
          "1998-08-29T00:00:00.000000000",
          "1998-08-30T00:00:00.000000000",
          "1998-09-01T00:00:00.000000000",
          "1998-09-05T00:00:00.000000000",
          "1998-10-07T00:00:00.000000000",
          "1998-10-08T00:00:00.000000000",
          "1998-10-08T00:00:00.000000000",
          "1998-10-08T00:00:00.000000000",
          "1998-10-08T00:00:00.000000000",
          "1998-10-10T00:00:00.000000000",
          "1998-10-13T00:00:00.000000000",
          "1998-10-14T00:00:00.000000000",
          "1999-02-18T00:00:00.000000000",
          "1999-02-18T00:00:00.000000000",
          "1999-02-20T00:00:00.000000000",
          "1999-02-21T00:00:00.000000000",
          "1999-02-21T00:00:00.000000000",
          "1999-02-21T00:00:00.000000000",
          "1999-05-08T00:00:00.000000000",
          "1999-05-08T00:00:00.000000000",
          "1999-05-09T00:00:00.000000000",
          "1999-05-09T00:00:00.000000000",
          "1999-05-10T00:00:00.000000000",
          "1999-05-11T00:00:00.000000000",
          "1999-05-20T00:00:00.000000000",
          "1999-05-20T00:00:00.000000000",
          "1999-05-20T00:00:00.000000000",
          "1999-05-20T00:00:00.000000000",
          "1999-05-24T00:00:00.000000000",
          "1999-05-25T00:00:00.000000000",
          "1999-05-25T00:00:00.000000000",
          "1999-06-18T00:00:00.000000000",
          "1999-06-19T00:00:00.000000000",
          "1999-06-20T00:00:00.000000000",
          "1999-06-21T00:00:00.000000000",
          "1999-06-24T00:00:00.000000000",
          "1999-06-24T00:00:00.000000000",
          "1999-07-05T00:00:00.000000000",
          "1999-07-08T00:00:00.000000000",
          "1999-07-08T00:00:00.000000000",
          "1999-07-08T00:00:00.000000000",
          "1999-07-08T00:00:00.000000000",
          "1999-07-09T00:00:00.000000000",
          "1999-07-09T00:00:00.000000000",
          "1999-07-09T00:00:00.000000000",
          "1999-07-09T00:00:00.000000000",
          "1999-07-09T00:00:00.000000000",
          "1999-07-09T00:00:00.000000000",
          "1999-07-09T00:00:00.000000000",
          "1999-07-09T00:00:00.000000000",
          "1999-07-10T00:00:00.000000000",
          "1999-07-10T00:00:00.000000000",
          "1999-07-10T00:00:00.000000000",
          "1999-07-10T00:00:00.000000000",
          "1999-07-11T00:00:00.000000000",
          "1999-07-11T00:00:00.000000000",
          "1999-07-11T00:00:00.000000000",
          "1999-07-11T00:00:00.000000000",
          "1999-07-11T00:00:00.000000000",
          "1999-07-11T00:00:00.000000000",
          "1999-07-11T00:00:00.000000000",
          "1999-07-11T00:00:00.000000000",
          "1999-07-12T00:00:00.000000000",
          "1999-07-12T00:00:00.000000000",
          "1999-07-12T00:00:00.000000000",
          "1999-07-12T00:00:00.000000000",
          "1999-07-13T00:00:00.000000000",
          "1999-07-13T00:00:00.000000000",
          "1999-07-13T00:00:00.000000000",
          "1999-07-13T00:00:00.000000000",
          "1999-07-13T00:00:00.000000000",
          "1999-07-13T00:00:00.000000000",
          "1999-07-13T00:00:00.000000000",
          "1999-07-13T00:00:00.000000000",
          "1999-08-26T00:00:00.000000000",
          "1999-08-27T00:00:00.000000000",
          "1999-08-29T00:00:00.000000000",
          "1999-08-30T00:00:00.000000000",
          "1999-09-02T00:00:00.000000000",
          "1999-09-04T00:00:00.000000000",
          "1999-09-05T00:00:00.000000000",
          "1999-09-06T00:00:00.000000000",
          "1999-09-07T00:00:00.000000000",
          "1999-09-27T00:00:00.000000000",
          "1999-10-13T00:00:00.000000000",
          "2000-02-15T00:00:00.000000000",
          "2000-02-15T00:00:00.000000000",
          "2000-05-08T00:00:00.000000000",
          "2000-05-08T00:00:00.000000000",
          "2000-05-09T00:00:00.000000000",
          "2000-05-10T00:00:00.000000000",
          "2000-05-10T00:00:00.000000000",
          "2000-05-10T00:00:00.000000000",
          "2000-05-12T00:00:00.000000000",
          "2000-06-03T00:00:00.000000000",
          "2000-06-05T00:00:00.000000000",
          "2000-06-06T00:00:00.000000000",
          "2000-06-09T00:00:00.000000000",
          "2000-06-18T00:00:00.000000000",
          "2000-06-18T00:00:00.000000000",
          "2000-06-19T00:00:00.000000000",
          "2000-06-19T00:00:00.000000000",
          "2000-06-19T00:00:00.000000000",
          "2000-06-19T00:00:00.000000000",
          "2000-06-19T00:00:00.000000000",
          "2000-06-19T00:00:00.000000000",
          "2000-06-19T00:00:00.000000000",
          "2000-06-20T00:00:00.000000000",
          "2000-07-04T00:00:00.000000000",
          "2000-07-04T00:00:00.000000000",
          "2000-07-04T00:00:00.000000000",
          "2000-07-04T00:00:00.000000000",
          "2000-07-04T00:00:00.000000000",
          "2000-07-04T00:00:00.000000000",
          "2000-07-04T00:00:00.000000000",
          "2000-07-04T00:00:00.000000000",
          "2000-07-05T00:00:00.000000000",
          "2000-07-05T00:00:00.000000000",
          "2000-07-05T00:00:00.000000000",
          "2000-07-06T00:00:00.000000000",
          "2000-07-06T00:00:00.000000000",
          "2000-07-07T00:00:00.000000000",
          "2000-07-07T00:00:00.000000000",
          "2000-07-07T00:00:00.000000000",
          "2000-07-07T00:00:00.000000000",
          "2000-07-08T00:00:00.000000000",
          "2000-07-08T00:00:00.000000000",
          "2000-07-08T00:00:00.000000000",
          "2000-07-08T00:00:00.000000000",
          "2000-07-08T00:00:00.000000000",
          "2000-07-08T00:00:00.000000000",
          "2000-07-12T00:00:00.000000000",
          "2000-07-12T00:00:00.000000000",
          "2000-07-12T00:00:00.000000000",
          "2000-07-12T00:00:00.000000000",
          "2000-07-13T00:00:00.000000000",
          "2000-07-13T00:00:00.000000000",
          "2000-07-13T00:00:00.000000000",
          "2000-07-13T00:00:00.000000000",
          "2000-08-03T00:00:00.000000000",
          "2000-08-03T00:00:00.000000000",
          "2000-08-03T00:00:00.000000000",
          "2000-08-03T00:00:00.000000000",
          "2000-08-03T00:00:00.000000000",
          "2000-08-04T00:00:00.000000000",
          "2000-08-04T00:00:00.000000000",
          "2000-08-04T00:00:00.000000000",
          "2000-08-04T00:00:00.000000000",
          "2000-08-04T00:00:00.000000000",
          "2000-08-04T00:00:00.000000000",
          "2000-08-04T00:00:00.000000000",
          "2000-08-04T00:00:00.000000000",
          "2000-08-04T00:00:00.000000000",
          "2000-08-04T00:00:00.000000000",
          "2000-08-05T00:00:00.000000000",
          "2000-08-05T00:00:00.000000000",
          "2000-08-05T00:00:00.000000000",
          "2000-08-05T00:00:00.000000000",
          "2000-08-05T00:00:00.000000000",
          "2000-08-06T00:00:00.000000000",
          "2000-08-07T00:00:00.000000000",
          "2000-08-10T00:00:00.000000000",
          "2000-08-10T00:00:00.000000000",
          "2000-08-10T00:00:00.000000000",
          "2000-08-10T00:00:00.000000000",
          "2000-09-07T00:00:00.000000000",
          "2000-09-08T00:00:00.000000000",
          "2000-09-10T00:00:00.000000000",
          "2000-09-11T00:00:00.000000000",
          "2000-09-14T00:00:00.000000000",
          "2000-09-15T00:00:00.000000000",
          "2000-09-26T00:00:00.000000000",
          "2000-09-26T00:00:00.000000000",
          "2000-09-26T00:00:00.000000000",
          "2000-09-27T00:00:00.000000000",
          "2000-09-27T00:00:00.000000000",
          "2000-09-27T00:00:00.000000000",
          "2000-09-27T00:00:00.000000000",
          "2000-09-27T00:00:00.000000000",
          "2000-09-28T00:00:00.000000000",
          "2000-09-28T00:00:00.000000000",
          "2000-09-29T00:00:00.000000000",
          "2000-10-01T00:00:00.000000000",
          "2000-10-01T00:00:00.000000000",
          "2000-10-01T00:00:00.000000000",
          "2000-10-01T00:00:00.000000000",
          "2000-10-01T00:00:00.000000000",
          "2000-10-01T00:00:00.000000000",
          "2000-10-02T00:00:00.000000000",
          "2001-02-09T00:00:00.000000000",
          "2001-02-11T00:00:00.000000000",
          "2001-02-12T00:00:00.000000000",
          "2001-02-16T00:00:00.000000000",
          "2001-02-16T00:00:00.000000000",
          "2001-02-17T00:00:00.000000000",
          "2001-02-19T00:00:00.000000000",
          "2001-02-19T00:00:00.000000000",
          "2001-03-23T00:00:00.000000000",
          "2001-05-31T00:00:00.000000000",
          "2001-05-31T00:00:00.000000000",
          "2001-06-02T00:00:00.000000000",
          "2001-06-02T00:00:00.000000000",
          "2001-06-02T00:00:00.000000000",
          "2001-06-02T00:00:00.000000000",
          "2001-06-02T00:00:00.000000000",
          "2001-06-03T00:00:00.000000000",
          "2001-06-03T00:00:00.000000000",
          "2001-06-03T00:00:00.000000000",
          "2001-06-03T00:00:00.000000000",
          "2001-06-03T00:00:00.000000000",
          "2001-06-03T00:00:00.000000000",
          "2001-06-04T00:00:00.000000000",
          "2001-06-05T00:00:00.000000000",
          "2001-06-05T00:00:00.000000000",
          "2001-06-05T00:00:00.000000000",
          "2001-06-05T00:00:00.000000000",
          "2001-06-06T00:00:00.000000000",
          "2001-06-06T00:00:00.000000000",
          "2001-06-06T00:00:00.000000000",
          "2001-06-06T00:00:00.000000000",
          "2001-06-07T00:00:00.000000000",
          "2001-06-08T00:00:00.000000000",
          "2001-06-08T00:00:00.000000000",
          "2001-06-08T00:00:00.000000000",
          "2001-06-08T00:00:00.000000000",
          "2001-06-09T00:00:00.000000000",
          "2001-06-09T00:00:00.000000000",
          "2001-06-09T00:00:00.000000000",
          "2001-06-10T00:00:00.000000000",
          "2001-06-10T00:00:00.000000000",
          "2001-06-10T00:00:00.000000000",
          "2001-06-10T00:00:00.000000000",
          "2001-06-11T00:00:00.000000000",
          "2001-06-11T00:00:00.000000000",
          "2001-06-11T00:00:00.000000000",
          "2001-06-12T00:00:00.000000000",
          "2001-06-12T00:00:00.000000000",
          "2001-06-12T00:00:00.000000000",
          "2001-06-12T00:00:00.000000000",
          "2001-06-12T00:00:00.000000000",
          "2001-06-12T00:00:00.000000000",
          "2001-06-16T00:00:00.000000000",
          "2001-06-21T00:00:00.000000000",
          "2001-06-22T00:00:00.000000000",
          "2001-06-22T00:00:00.000000000",
          "2001-06-22T00:00:00.000000000",
          "2001-06-22T00:00:00.000000000",
          "2001-06-22T00:00:00.000000000",
          "2001-06-23T00:00:00.000000000",
          "2001-06-24T00:00:00.000000000",
          "2001-07-04T00:00:00.000000000",
          "2001-07-04T00:00:00.000000000",
          "2001-07-04T00:00:00.000000000",
          "2001-07-06T00:00:00.000000000",
          "2001-07-06T00:00:00.000000000",
          "2001-07-06T00:00:00.000000000",
          "2001-07-06T00:00:00.000000000",
          "2001-08-25T00:00:00.000000000",
          "2001-08-29T00:00:00.000000000",
          "2001-09-19T00:00:00.000000000",
          "2001-09-19T00:00:00.000000000",
          "2001-09-22T00:00:00.000000000",
          "2001-09-22T00:00:00.000000000",
          "2001-09-22T00:00:00.000000000",
          "2001-09-22T00:00:00.000000000",
          "2001-09-22T00:00:00.000000000",
          "2001-09-23T00:00:00.000000000",
          "2001-09-25T00:00:00.000000000",
          "2001-09-25T00:00:00.000000000",
          "2001-09-26T00:00:00.000000000",
          "2001-09-27T00:00:00.000000000",
          "2001-09-28T00:00:00.000000000",
          "2001-09-28T00:00:00.000000000",
          "2001-09-30T00:00:00.000000000",
          "2001-09-30T00:00:00.000000000",
          "2001-10-03T00:00:00.000000000",
          "2002-02-07T00:00:00.000000000",
          "2002-02-11T00:00:00.000000000",
          "2002-02-13T00:00:00.000000000",
          "2002-02-14T00:00:00.000000000",
          "2002-02-15T00:00:00.000000000",
          "2002-02-15T00:00:00.000000000",
          "2002-02-16T00:00:00.000000000",
          "2002-03-05T00:00:00.000000000",
          "2002-03-05T00:00:00.000000000",
          "2002-03-05T00:00:00.000000000",
          "2002-05-03T00:00:00.000000000",
          "2002-05-05T00:00:00.000000000",
          "2002-05-05T00:00:00.000000000",
          "2002-05-06T00:00:00.000000000",
          "2002-05-06T00:00:00.000000000",
          "2002-05-06T00:00:00.000000000",
          "2002-05-06T00:00:00.000000000",
          "2002-06-19T00:00:00.000000000",
          "2002-06-19T00:00:00.000000000",
          "2002-06-19T00:00:00.000000000",
          "2002-06-19T00:00:00.000000000",
          "2002-06-26T00:00:00.000000000",
          "2002-06-26T00:00:00.000000000",
          "2002-06-26T00:00:00.000000000",
          "2002-07-01T00:00:00.000000000",
          "2002-07-02T00:00:00.000000000",
          "2002-07-03T00:00:00.000000000",
          "2002-07-04T00:00:00.000000000",
          "2002-07-05T00:00:00.000000000",
          "2002-07-19T00:00:00.000000000",
          "2002-07-22T00:00:00.000000000",
          "2002-07-22T00:00:00.000000000",
          "2002-07-22T00:00:00.000000000",
          "2002-07-22T00:00:00.000000000",
          "2002-07-23T00:00:00.000000000",
          "2002-07-23T00:00:00.000000000",
          "2002-07-23T00:00:00.000000000",
          "2002-07-23T00:00:00.000000000",
          "2002-07-24T00:00:00.000000000",
          "2002-08-18T00:00:00.000000000",
          "2002-08-18T00:00:00.000000000",
          "2002-08-18T00:00:00.000000000",
          "2002-08-18T00:00:00.000000000",
          "2002-08-27T00:00:00.000000000",
          "2002-08-28T00:00:00.000000000",
          "2002-08-29T00:00:00.000000000",
          "2002-08-30T00:00:00.000000000",
          "2002-09-03T00:00:00.000000000",
          "2002-09-06T00:00:00.000000000",
          "2002-09-08T00:00:00.000000000",
          "2002-09-19T00:00:00.000000000",
          "2002-09-19T00:00:00.000000000",
          "2002-09-19T00:00:00.000000000",
          "2002-09-19T00:00:00.000000000",
          "2002-09-21T00:00:00.000000000",
          "2002-10-19T00:00:00.000000000",
          "2002-10-23T00:00:00.000000000",
          "2002-10-23T00:00:00.000000000",
          "2002-10-23T00:00:00.000000000",
          "2002-10-23T00:00:00.000000000",
          "2003-02-12T00:00:00.000000000",
          "2003-02-14T00:00:00.000000000",
          "2003-02-15T00:00:00.000000000",
          "2003-02-16T00:00:00.000000000",
          "2003-02-16T00:00:00.000000000",
          "2003-02-17T00:00:00.000000000",
          "2003-02-21T00:00:00.000000000",
          "2003-02-21T00:00:00.000000000",
          "2003-02-21T00:00:00.000000000",
          "2003-05-19T00:00:00.000000000",
          "2003-05-19T00:00:00.000000000",
          "2003-05-19T00:00:00.000000000",
          "2003-05-20T00:00:00.000000000",
          "2003-05-20T00:00:00.000000000",
          "2003-05-29T00:00:00.000000000",
          "2003-05-30T00:00:00.000000000",
          "2003-05-31T00:00:00.000000000",
          "2003-06-01T00:00:00.000000000",
          "2003-06-03T00:00:00.000000000",
          "2003-06-08T00:00:00.000000000",
          "2003-06-09T00:00:00.000000000",
          "2003-06-10T00:00:00.000000000",
          "2003-06-10T00:00:00.000000000",
          "2003-06-10T00:00:00.000000000",
          "2003-06-11T00:00:00.000000000",
          "2003-09-01T00:00:00.000000000",
          "2003-09-02T00:00:00.000000000",
          "2003-09-03T00:00:00.000000000",
          "2003-09-04T00:00:00.000000000",
          "2003-09-06T00:00:00.000000000",
          "2003-09-07T00:00:00.000000000",
          "2003-09-26T00:00:00.000000000",
          "2003-09-27T00:00:00.000000000",
          "2003-09-28T00:00:00.000000000",
          "2003-10-26T00:00:00.000000000",
          "2003-10-27T00:00:00.000000000",
          "2003-10-27T00:00:00.000000000",
          "2004-02-20T00:00:00.000000000",
          "2004-02-20T00:00:00.000000000",
          "2004-02-21T00:00:00.000000000",
          "2004-02-22T00:00:00.000000000",
          "2004-02-24T00:00:00.000000000",
          "2004-02-27T00:00:00.000000000",
          "2004-02-27T00:00:00.000000000",
          "2004-02-27T00:00:00.000000000",
          "2004-02-27T00:00:00.000000000",
          "2004-05-29T00:00:00.000000000",
          "2004-05-29T00:00:00.000000000",
          "2004-05-30T00:00:00.000000000",
          "2004-06-03T00:00:00.000000000",
          "2004-06-03T00:00:00.000000000",
          "2004-06-04T00:00:00.000000000",
          "2004-06-06T00:00:00.000000000",
          "2004-06-07T00:00:00.000000000",
          "2004-06-14T00:00:00.000000000",
          "2004-06-14T00:00:00.000000000",
          "2004-06-14T00:00:00.000000000",
          "2004-06-14T00:00:00.000000000",
          "2004-06-14T00:00:00.000000000",
          "2004-08-21T00:00:00.000000000",
          "2004-08-22T00:00:00.000000000",
          "2004-08-23T00:00:00.000000000",
          "2004-08-24T00:00:00.000000000",
          "2004-08-26T00:00:00.000000000",
          "2004-09-05T00:00:00.000000000",
          "2004-09-05T00:00:00.000000000",
          "2004-09-05T00:00:00.000000000",
          "2004-09-06T00:00:00.000000000",
          "2004-10-27T00:00:00.000000000",
          "2004-10-27T00:00:00.000000000",
          "2004-10-27T00:00:00.000000000",
          "2004-10-27T00:00:00.000000000",
          "2005-02-13T00:00:00.000000000",
          "2005-02-14T00:00:00.000000000",
          "2005-02-15T00:00:00.000000000",
          "2005-02-16T00:00:00.000000000",
          "2005-02-18T00:00:00.000000000",
          "2005-02-18T00:00:00.000000000",
          "2005-02-19T00:00:00.000000000",
          "2005-02-22T00:00:00.000000000",
          "2005-02-23T00:00:00.000000000",
          "2005-03-12T00:00:00.000000000",
          "2005-03-12T00:00:00.000000000",
          "2005-03-12T00:00:00.000000000",
          "2005-03-12T00:00:00.000000000",
          "2005-03-13T00:00:00.000000000",
          "2005-03-13T00:00:00.000000000",
          "2005-03-13T00:00:00.000000000",
          "2005-03-13T00:00:00.000000000",
          "2005-05-27T00:00:00.000000000",
          "2005-05-28T00:00:00.000000000",
          "2005-06-03T00:00:00.000000000",
          "2005-06-03T00:00:00.000000000",
          "2005-06-06T00:00:00.000000000",
          "2005-06-06T00:00:00.000000000",
          "2005-06-07T00:00:00.000000000",
          "2005-06-15T00:00:00.000000000",
          "2005-07-29T00:00:00.000000000",
          "2005-08-13T00:00:00.000000000",
          "2005-08-18T00:00:00.000000000",
          "2005-08-19T00:00:00.000000000",
          "2005-08-20T00:00:00.000000000",
          "2005-08-21T00:00:00.000000000",
          "2005-08-22T00:00:00.000000000",
          "2005-08-23T00:00:00.000000000",
          "2005-08-27T00:00:00.000000000",
          "2005-08-28T00:00:00.000000000",
          "2005-09-08T00:00:00.000000000",
          "2005-09-09T00:00:00.000000000",
          "2006-02-06T00:00:00.000000000",
          "2006-02-06T00:00:00.000000000",
          "2006-02-09T00:00:00.000000000",
          "2006-02-10T00:00:00.000000000",
          "2006-02-13T00:00:00.000000000",
          "2006-04-21T00:00:00.000000000",
          "2006-04-21T00:00:00.000000000",
          "2006-07-14T00:00:00.000000000",
          "2006-07-17T00:00:00.000000000",
          "2006-08-24T00:00:00.000000000",
          "2006-08-27T00:00:00.000000000",
          "2006-09-22T00:00:00.000000000",
          "2006-09-23T00:00:00.000000000",
          "2006-09-24T00:00:00.000000000",
          "2006-09-26T00:00:00.000000000",
          "2006-09-28T00:00:00.000000000",
          "2006-10-01T00:00:00.000000000",
          "2006-10-02T00:00:00.000000000",
          "2006-10-04T00:00:00.000000000",
          "2007-02-10T00:00:00.000000000",
          "2007-02-10T00:00:00.000000000",
          "2007-02-11T00:00:00.000000000",
          "2007-02-12T00:00:00.000000000",
          "2007-02-15T00:00:00.000000000",
          "2007-02-16T00:00:00.000000000",
          "2007-02-16T00:00:00.000000000",
          "2007-02-18T00:00:00.000000000",
          "2007-02-18T00:00:00.000000000",
          "2007-05-26T00:00:00.000000000",
          "2007-06-02T00:00:00.000000000",
          "2007-06-03T00:00:00.000000000",
          "2007-06-04T00:00:00.000000000",
          "2007-06-07T00:00:00.000000000",
          "2007-06-21T00:00:00.000000000",
          "2007-06-21T00:00:00.000000000",
          "2007-06-21T00:00:00.000000000",
          "2007-06-21T00:00:00.000000000",
          "2007-06-27T00:00:00.000000000",
          "2007-06-27T00:00:00.000000000",
          "2007-06-28T00:00:00.000000000",
          "2007-07-04T00:00:00.000000000",
          "2007-07-05T00:00:00.000000000",
          "2007-07-06T00:00:00.000000000",
          "2007-07-07T00:00:00.000000000",
          "2007-07-07T00:00:00.000000000",
          "2007-07-08T00:00:00.000000000",
          "2007-08-17T00:00:00.000000000",
          "2007-08-18T00:00:00.000000000",
          "2007-08-19T00:00:00.000000000",
          "2007-08-21T00:00:00.000000000",
          "2007-08-22T00:00:00.000000000",
          "2007-09-06T00:00:00.000000000",
          "2007-09-07T00:00:00.000000000",
          "2008-02-02T00:00:00.000000000",
          "2008-02-03T00:00:00.000000000",
          "2008-02-04T00:00:00.000000000",
          "2008-02-06T00:00:00.000000000",
          "2008-02-10T00:00:00.000000000",
          "2008-05-25T00:00:00.000000000",
          "2008-05-26T00:00:00.000000000",
          "2008-06-02T00:00:00.000000000",
          "2008-06-03T00:00:00.000000000",
          "2008-06-04T00:00:00.000000000",
          "2008-06-06T00:00:00.000000000",
          "2008-06-08T00:00:00.000000000",
          "2008-07-04T00:00:00.000000000",
          "2008-07-05T00:00:00.000000000",
          "2008-07-07T00:00:00.000000000",
          "2008-07-09T00:00:00.000000000",
          "2008-08-15T00:00:00.000000000",
          "2008-08-16T00:00:00.000000000",
          "2008-08-17T00:00:00.000000000",
          "2008-08-19T00:00:00.000000000",
          "2008-08-21T00:00:00.000000000",
          "2008-09-04T00:00:00.000000000",
          "2008-09-05T00:00:00.000000000",
          "2008-09-06T00:00:00.000000000",
          "2008-10-17T00:00:00.000000000",
          "2009-01-30T00:00:00.000000000",
          "2009-01-31T00:00:00.000000000",
          "2009-01-31T00:00:00.000000000",
          "2009-02-02T00:00:00.000000000",
          "2009-02-05T00:00:00.000000000",
          "2009-05-31T00:00:00.000000000",
          "2009-05-31T00:00:00.000000000",
          "2009-06-01T00:00:00.000000000",
          "2009-06-08T00:00:00.000000000",
          "2009-06-09T00:00:00.000000000",
          "2009-06-10T00:00:00.000000000",
          "2009-06-11T00:00:00.000000000",
          "2009-06-14T00:00:00.000000000",
          "2009-07-11T00:00:00.000000000",
          "2009-07-12T00:00:00.000000000",
          "2009-07-13T00:00:00.000000000",
          "2009-07-14T00:00:00.000000000",
          "2009-08-22T00:00:00.000000000",
          "2009-08-23T00:00:00.000000000",
          "2009-08-26T00:00:00.000000000",
          "2009-08-27T00:00:00.000000000",
          "2009-08-31T00:00:00.000000000",
          "2009-08-31T00:00:00.000000000",
          "2009-09-09T00:00:00.000000000",
          "2009-09-09T00:00:00.000000000",
          "2009-09-10T00:00:00.000000000",
          "2010-02-05T00:00:00.000000000",
          "2010-02-06T00:00:00.000000000",
          "2010-02-08T00:00:00.000000000",
          "2010-05-31T00:00:00.000000000",
          "2010-05-31T00:00:00.000000000",
          "2010-06-08T00:00:00.000000000",
          "2010-06-09T00:00:00.000000000",
          "2010-06-10T00:00:00.000000000",
          "2010-06-11T00:00:00.000000000",
          "2010-06-14T00:00:00.000000000",
          "2010-07-23T00:00:00.000000000",
          "2010-07-24T00:00:00.000000000",
          "2010-07-26T00:00:00.000000000",
          "2010-07-28T00:00:00.000000000",
          "2010-08-21T00:00:00.000000000",
          "2010-08-22T00:00:00.000000000",
          "2010-08-23T00:00:00.000000000",
          "2010-08-25T00:00:00.000000000",
          "2010-08-26T00:00:00.000000000",
          "2010-09-08T00:00:00.000000000",
          "2010-09-09T00:00:00.000000000",
          "2010-09-09T00:00:00.000000000",
          "2010-09-10T00:00:00.000000000",
          "2011-02-10T00:00:00.000000000",
          "2011-02-11T00:00:00.000000000",
          "2011-02-12T00:00:00.000000000",
          "2011-02-14T00:00:00.000000000",
          "2011-02-16T00:00:00.000000000",
          "2011-05-29T00:00:00.000000000",
          "2011-05-30T00:00:00.000000000",
          "2011-05-30T00:00:00.000000000",
          "2011-05-30T00:00:00.000000000",
          "2011-06-05T00:00:00.000000000",
          "2011-06-06T00:00:00.000000000",
          "2011-06-08T00:00:00.000000000",
          "2011-06-09T00:00:00.000000000",
          "2011-06-13T00:00:00.000000000",
          "2011-08-19T00:00:00.000000000",
          "2011-08-20T00:00:00.000000000",
          "2011-08-22T00:00:00.000000000",
          "2011-08-23T00:00:00.000000000",
          "2011-08-26T00:00:00.000000000",
          "2011-09-06T00:00:00.000000000",
          "2011-09-06T00:00:00.000000000",
          "2011-09-07T00:00:00.000000000",
          "2011-09-07T00:00:00.000000000",
          "2011-09-08T00:00:00.000000000",
          "2012-02-10T00:00:00.000000000",
          "2012-02-11T00:00:00.000000000",
          "2012-02-12T00:00:00.000000000",
          "2012-02-15T00:00:00.000000000",
          "2012-02-16T00:00:00.000000000",
          "2012-05-16T00:00:00.000000000",
          "2012-05-17T00:00:00.000000000",
          "2012-05-18T00:00:00.000000000",
          "2012-05-18T00:00:00.000000000",
          "2012-05-26T00:00:00.000000000",
          "2012-05-30T00:00:00.000000000",
          "2012-06-03T00:00:00.000000000",
          "2012-08-18T00:00:00.000000000",
          "2012-08-18T00:00:00.000000000",
          "2012-08-20T00:00:00.000000000",
          "2012-08-24T00:00:00.000000000",
          "2012-09-04T00:00:00.000000000",
          "2012-09-05T00:00:00.000000000",
          "2012-09-06T00:00:00.000000000",
          "2013-02-07T00:00:00.000000000",
          "2013-02-08T00:00:00.000000000",
          "2013-02-09T00:00:00.000000000",
          "2013-02-13T00:00:00.000000000",
          "2013-02-14T00:00:00.000000000",
          "2013-06-02T00:00:00.000000000",
          "2013-06-03T00:00:00.000000000",
          "2013-06-03T00:00:00.000000000",
          "2013-06-10T00:00:00.000000000",
          "2013-06-11T00:00:00.000000000",
          "2013-06-12T00:00:00.000000000",
          "2013-06-14T00:00:00.000000000",
          "2013-06-18T00:00:00.000000000",
          "2013-08-23T00:00:00.000000000",
          "2013-08-25T00:00:00.000000000",
          "2013-08-26T00:00:00.000000000",
          "2013-08-28T00:00:00.000000000",
          "2013-08-30T00:00:00.000000000",
          "2013-09-11T00:00:00.000000000",
          "2014-02-12T00:00:00.000000000",
          "2014-02-22T00:00:00.000000000",
          "2014-06-04T00:00:00.000000000",
          "2014-06-13T00:00:00.000000000",
          "2014-06-15T00:00:00.000000000",
          "2014-06-17T00:00:00.000000000",
          "2014-08-23T00:00:00.000000000",
          "2014-08-25T00:00:00.000000000",
          "2014-08-26T00:00:00.000000000",
          "2014-08-26T00:00:00.000000000",
          "2014-09-10T00:00:00.000000000",
          "2014-09-11T00:00:00.000000000",
          "2014-09-11T00:00:00.000000000",
          "2014-09-12T00:00:00.000000000",
          "2015-02-12T00:00:00.000000000",
          "2015-02-13T00:00:00.000000000",
          "2015-02-15T00:00:00.000000000",
          "2015-02-16T00:00:00.000000000",
          "2015-02-19T00:00:00.000000000",
          "2015-06-02T00:00:00.000000000",
          "2015-06-10T00:00:00.000000000",
          "2015-06-12T00:00:00.000000000",
          "2015-06-13T00:00:00.000000000",
          "2015-06-17T00:00:00.000000000",
          "2015-06-20T00:00:00.000000000",
          "2015-07-10T00:00:00.000000000",
          "2015-07-10T00:00:00.000000000",
          "2015-07-11T00:00:00.000000000",
          "2015-07-11T00:00:00.000000000",
          "2015-07-11T00:00:00.000000000",
          "2015-07-12T00:00:00.000000000",
          "2015-07-13T00:00:00.000000000",
          "2015-07-13T00:00:00.000000000",
          "2015-07-13T00:00:00.000000000",
          "2015-07-14T00:00:00.000000000",
          "2015-07-14T00:00:00.000000000",
          "2015-07-14T00:00:00.000000000",
          "2015-07-14T00:00:00.000000000",
          "2015-07-15T00:00:00.000000000",
          "2015-07-16T00:00:00.000000000",
          "2015-07-18T00:00:00.000000000",
          "2015-08-22T00:00:00.000000000",
          "2015-08-23T00:00:00.000000000",
          "2015-08-24T00:00:00.000000000",
          "2015-08-26T00:00:00.000000000",
          "2015-08-28T00:00:00.000000000",
          "2015-09-07T00:00:00.000000000",
          "2015-10-19T00:00:00.000000000",
          "2016-02-10T00:00:00.000000000",
          "2016-02-12T00:00:00.000000000",
          "2016-02-16T00:00:00.000000000",
          "2016-02-18T00:00:00.000000000",
          "2016-05-31T00:00:00.000000000",
          "2016-05-31T00:00:00.000000000",
          "2016-06-01T00:00:00.000000000",
          "2016-06-07T00:00:00.000000000",
          "2016-06-09T00:00:00.000000000",
          "2016-06-10T00:00:00.000000000",
          "2016-06-11T00:00:00.000000000",
          "2016-06-14T00:00:00.000000000",
          "2016-08-06T00:00:00.000000000",
          "2016-08-06T00:00:00.000000000",
          "2016-08-07T00:00:00.000000000",
          "2016-08-10T00:00:00.000000000",
          "2016-08-20T00:00:00.000000000",
          "2016-08-22T00:00:00.000000000",
          "2016-08-23T00:00:00.000000000",
          "2016-08-26T00:00:00.000000000",
          "2016-08-29T00:00:00.000000000",
          "2016-09-08T00:00:00.000000000",
          "2016-09-08T00:00:00.000000000",
          "2017-02-09T00:00:00.000000000",
          "2017-02-12T00:00:00.000000000",
          "2017-02-15T00:00:00.000000000",
          "2017-02-16T00:00:00.000000000",
          "2017-02-17T00:00:00.000000000",
          "2017-05-28T00:00:00.000000000",
          "2017-05-30T00:00:00.000000000",
          "2017-06-06T00:00:00.000000000",
          "2017-06-07T00:00:00.000000000",
          "2017-06-09T00:00:00.000000000",
          "2017-06-10T00:00:00.000000000",
          "2017-06-13T00:00:00.000000000",
          "2017-07-22T00:00:00.000000000",
          "2017-07-22T00:00:00.000000000",
          "2017-07-22T00:00:00.000000000",
          "2017-07-22T00:00:00.000000000",
          "2017-07-23T00:00:00.000000000",
          "2017-07-23T00:00:00.000000000",
          "2017-07-24T00:00:00.000000000",
          "2017-07-24T00:00:00.000000000",
          "2017-07-24T00:00:00.000000000",
          "2017-07-24T00:00:00.000000000",
          "2017-07-25T00:00:00.000000000",
          "2017-07-25T00:00:00.000000000",
          "2017-07-25T00:00:00.000000000",
          "2017-07-26T00:00:00.000000000",
          "2017-07-26T00:00:00.000000000",
          "2017-07-26T00:00:00.000000000",
          "2017-07-26T00:00:00.000000000",
          "2017-07-27T00:00:00.000000000",
          "2017-07-27T00:00:00.000000000",
          "2017-07-27T00:00:00.000000000",
          "2017-07-28T00:00:00.000000000",
          "2017-07-28T00:00:00.000000000",
          "2017-07-28T00:00:00.000000000",
          "2017-08-18T00:00:00.000000000",
          "2017-08-19T00:00:00.000000000",
          "2017-08-21T00:00:00.000000000",
          "2017-08-24T00:00:00.000000000",
          "2017-08-26T00:00:00.000000000",
          "2017-09-05T00:00:00.000000000",
          "2017-09-06T00:00:00.000000000",
          "2017-09-06T00:00:00.000000000",
          "2017-09-07T00:00:00.000000000",
          "2017-09-08T00:00:00.000000000",
          "2018-02-21T00:00:00.000000000",
          "2018-02-22T00:00:00.000000000",
          "2018-02-26T00:00:00.000000000",
          "2018-03-02T00:00:00.000000000",
          "2018-03-03T00:00:00.000000000",
          "2018-05-13T00:00:00.000000000",
          "2018-05-13T00:00:00.000000000",
          "2018-06-08T00:00:00.000000000",
          "2018-06-09T00:00:00.000000000",
          "2018-06-10T00:00:00.000000000",
          "2018-06-11T00:00:00.000000000",
          "2018-06-13T00:00:00.000000000",
          "2018-06-13T00:00:00.000000000",
          "2018-08-28T00:00:00.000000000",
          "2018-09-06T00:00:00.000000000",
          "2018-09-14T00:00:00.000000000",
          "2018-09-15T00:00:00.000000000",
          "2018-09-16T00:00:00.000000000",
          "2018-09-18T00:00:00.000000000",
          "2018-09-20T00:00:00.000000000",
          "2018-09-20T00:00:00.000000000",
          "2018-09-21T00:00:00.000000000",
          "2018-09-22T00:00:00.000000000",
          "2018-09-22T00:00:00.000000000",
          "2018-09-22T00:00:00.000000000",
          "2019-02-07T00:00:00.000000000",
          "2019-02-08T00:00:00.000000000",
          "2019-02-10T00:00:00.000000000",
          "2019-02-12T00:00:00.000000000",
          "2019-06-04T00:00:00.000000000",
          "2019-06-05T00:00:00.000000000",
          "2019-06-07T00:00:00.000000000",
          "2019-06-11T00:00:00.000000000",
          "2019-07-03T00:00:00.000000000",
          "2019-07-03T00:00:00.000000000",
          "2019-07-19T00:00:00.000000000",
          "2019-07-20T00:00:00.000000000",
          "2019-07-20T00:00:00.000000000",
          "2019-07-20T00:00:00.000000000",
          "2019-07-21T00:00:00.000000000",
          "2019-07-21T00:00:00.000000000",
          "2019-07-22T00:00:00.000000000",
          "2019-07-22T00:00:00.000000000",
          "2019-07-23T00:00:00.000000000",
          "2019-07-23T00:00:00.000000000",
          "2019-07-23T00:00:00.000000000",
          "2019-07-24T00:00:00.000000000",
          "2019-07-25T00:00:00.000000000",
          "2019-07-25T00:00:00.000000000",
          "2019-07-26T00:00:00.000000000",
          "2019-07-26T00:00:00.000000000",
          "2019-07-27T00:00:00.000000000",
          "2019-07-27T00:00:00.000000000",
          "2019-08-04T00:00:00.000000000",
          "2019-08-16T00:00:00.000000000",
          "2019-08-17T00:00:00.000000000",
          "2019-08-19T00:00:00.000000000",
          "2019-08-20T00:00:00.000000000",
          "2019-08-23T00:00:00.000000000",
          "2019-09-03T00:00:00.000000000",
          "2019-09-04T00:00:00.000000000",
          "2020-02-10T00:00:00.000000000",
          "2020-02-11T00:00:00.000000000",
          "2020-02-12T00:00:00.000000000",
          "2020-02-14T00:00:00.000000000",
          "2020-02-15T00:00:00.000000000",
          "2020-02-16T00:00:00.000000000",
          "2020-06-26T00:00:00.000000000",
          "2020-06-26T00:00:00.000000000",
          "2020-06-30T00:00:00.000000000",
          "2020-07-05T00:00:00.000000000",
          "2020-07-05T00:00:00.000000000",
          "2020-07-22T00:00:00.000000000",
          "2020-07-26T00:00:00.000000000",
          "2020-08-14T00:00:00.000000000",
          "2020-08-15T00:00:00.000000000",
          "2020-08-17T00:00:00.000000000",
          "2020-08-18T00:00:00.000000000",
          "2020-08-20T00:00:00.000000000",
          "2020-08-30T00:00:00.000000000",
          "2020-08-31T00:00:00.000000000"
         ],
         "xaxis": "x",
         "yaxis": "y"
        },
        {
         "hovertemplate": "Time=%{x}<extra></extra>",
         "legendgroup": "",
         "marker": {
          "color": "#636efa"
         },
         "name": "",
         "notched": true,
         "showlegend": false,
         "type": "box",
         "x": [
          "1995-09-24T00:00:00.000000000",
          "1995-09-24T00:00:00.000000000",
          "1995-09-25T00:00:00.000000000",
          "1995-09-25T00:00:00.000000000",
          "1995-09-25T00:00:00.000000000",
          "1995-09-25T00:00:00.000000000",
          "1995-09-26T00:00:00.000000000",
          "1995-09-26T00:00:00.000000000",
          "1995-09-28T00:00:00.000000000",
          "1996-03-06T00:00:00.000000000",
          "1996-06-11T00:00:00.000000000",
          "1996-10-05T00:00:00.000000000",
          "1997-02-21T00:00:00.000000000",
          "1997-02-21T00:00:00.000000000",
          "1997-02-21T00:00:00.000000000",
          "1997-02-24T00:00:00.000000000",
          "1997-03-14T00:00:00.000000000",
          "1997-03-15T00:00:00.000000000",
          "1997-03-16T00:00:00.000000000",
          "1997-03-17T00:00:00.000000000",
          "1997-03-18T00:00:00.000000000",
          "1997-03-24T00:00:00.000000000",
          "1997-03-25T00:00:00.000000000",
          "1997-03-26T00:00:00.000000000",
          "1997-03-29T00:00:00.000000000",
          "1997-03-29T00:00:00.000000000",
          "1997-03-29T00:00:00.000000000",
          "1997-03-29T00:00:00.000000000",
          "1997-03-29T00:00:00.000000000",
          "1997-03-29T00:00:00.000000000",
          "1997-03-29T00:00:00.000000000",
          "1997-03-29T00:00:00.000000000",
          "1997-03-29T00:00:00.000000000",
          "1997-03-29T00:00:00.000000000",
          "1997-03-29T00:00:00.000000000",
          "1997-03-29T00:00:00.000000000",
          "1997-03-29T00:00:00.000000000",
          "1997-03-29T00:00:00.000000000",
          "1997-03-29T00:00:00.000000000",
          "1997-03-29T00:00:00.000000000",
          "1997-03-29T00:00:00.000000000",
          "1997-03-29T00:00:00.000000000",
          "1997-03-29T00:00:00.000000000",
          "1997-03-29T00:00:00.000000000",
          "1997-03-29T00:00:00.000000000",
          "1997-03-29T00:00:00.000000000",
          "1997-03-29T00:00:00.000000000",
          "1997-03-29T00:00:00.000000000",
          "1997-04-10T00:00:00.000000000",
          "1997-06-08T00:00:00.000000000",
          "1997-06-12T00:00:00.000000000",
          "1997-06-15T00:00:00.000000000",
          "1997-06-16T00:00:00.000000000",
          "1997-06-16T00:00:00.000000000",
          "1997-06-16T00:00:00.000000000",
          "1997-06-16T00:00:00.000000000",
          "1997-06-16T00:00:00.000000000",
          "1997-06-16T00:00:00.000000000",
          "1997-06-16T00:00:00.000000000",
          "1997-06-16T00:00:00.000000000",
          "1997-06-16T00:00:00.000000000",
          "1997-06-16T00:00:00.000000000",
          "1997-06-16T00:00:00.000000000",
          "1997-07-03T00:00:00.000000000",
          "1997-07-03T00:00:00.000000000",
          "1997-07-04T00:00:00.000000000",
          "1997-07-05T00:00:00.000000000",
          "1997-07-05T00:00:00.000000000",
          "1997-07-06T00:00:00.000000000",
          "1997-07-06T00:00:00.000000000",
          "1997-07-07T00:00:00.000000000",
          "1997-07-07T00:00:00.000000000",
          "1997-07-08T00:00:00.000000000",
          "1997-07-08T00:00:00.000000000",
          "1997-07-09T00:00:00.000000000",
          "1997-07-09T00:00:00.000000000",
          "1997-07-10T00:00:00.000000000",
          "1997-07-10T00:00:00.000000000",
          "1997-07-11T00:00:00.000000000",
          "1997-07-11T00:00:00.000000000",
          "1997-07-12T00:00:00.000000000",
          "1997-07-12T00:00:00.000000000",
          "1997-07-18T00:00:00.000000000",
          "1997-08-29T00:00:00.000000000",
          "1997-08-30T00:00:00.000000000",
          "1997-08-31T00:00:00.000000000",
          "1997-09-01T00:00:00.000000000",
          "1997-09-04T00:00:00.000000000",
          "1997-09-04T00:00:00.000000000",
          "1997-09-04T00:00:00.000000000",
          "1997-09-04T00:00:00.000000000",
          "1997-09-04T00:00:00.000000000",
          "1997-09-04T00:00:00.000000000",
          "1997-09-04T00:00:00.000000000",
          "1997-09-04T00:00:00.000000000",
          "1997-09-04T00:00:00.000000000",
          "1997-09-04T00:00:00.000000000",
          "1997-09-04T00:00:00.000000000",
          "1997-09-04T00:00:00.000000000",
          "1997-09-04T00:00:00.000000000",
          "1997-09-04T00:00:00.000000000",
          "1997-09-04T00:00:00.000000000",
          "1997-09-04T00:00:00.000000000",
          "1997-09-04T00:00:00.000000000",
          "1997-09-04T00:00:00.000000000",
          "1997-09-05T00:00:00.000000000",
          "1997-09-08T00:00:00.000000000",
          "1997-09-10T00:00:00.000000000",
          "1997-09-28T00:00:00.000000000",
          "1997-12-02T00:00:00.000000000",
          "1997-12-02T00:00:00.000000000",
          "1998-01-19T00:00:00.000000000",
          "1998-01-20T00:00:00.000000000",
          "1998-01-20T00:00:00.000000000",
          "1998-02-21T00:00:00.000000000",
          "1998-02-21T00:00:00.000000000",
          "1998-02-23T00:00:00.000000000",
          "1998-02-24T00:00:00.000000000",
          "1998-02-27T00:00:00.000000000",
          "1998-02-27T00:00:00.000000000",
          "1998-02-27T00:00:00.000000000",
          "1998-02-27T00:00:00.000000000",
          "1998-02-27T00:00:00.000000000",
          "1998-02-27T00:00:00.000000000",
          "1998-02-27T00:00:00.000000000",
          "1998-02-28T00:00:00.000000000",
          "1998-02-28T00:00:00.000000000",
          "1998-02-28T00:00:00.000000000",
          "1998-02-28T00:00:00.000000000",
          "1998-02-28T00:00:00.000000000",
          "1998-02-28T00:00:00.000000000",
          "1998-02-28T00:00:00.000000000",
          "1998-02-28T00:00:00.000000000",
          "1998-02-28T00:00:00.000000000",
          "1998-02-28T00:00:00.000000000",
          "1998-02-28T00:00:00.000000000",
          "1998-03-03T00:00:00.000000000",
          "1998-03-03T00:00:00.000000000",
          "1998-03-03T00:00:00.000000000",
          "1998-04-08T00:00:00.000000000",
          "1998-04-09T00:00:00.000000000",
          "1998-04-09T00:00:00.000000000",
          "1998-05-13T00:00:00.000000000",
          "1998-05-13T00:00:00.000000000",
          "1998-05-13T00:00:00.000000000",
          "1998-05-13T00:00:00.000000000",
          "1998-05-13T00:00:00.000000000",
          "1998-05-13T00:00:00.000000000",
          "1998-05-13T00:00:00.000000000",
          "1998-05-13T00:00:00.000000000",
          "1998-05-17T00:00:00.000000000",
          "1998-05-18T00:00:00.000000000",
          "1998-05-19T00:00:00.000000000",
          "1998-05-20T00:00:00.000000000",
          "1998-05-27T00:00:00.000000000",
          "1998-05-27T00:00:00.000000000",
          "1998-05-27T00:00:00.000000000",
          "1998-05-27T00:00:00.000000000",
          "1998-05-27T00:00:00.000000000",
          "1998-05-27T00:00:00.000000000",
          "1998-05-27T00:00:00.000000000",
          "1998-05-27T00:00:00.000000000",
          "1998-06-03T00:00:00.000000000",
          "1998-06-05T00:00:00.000000000",
          "1998-06-05T00:00:00.000000000",
          "1998-06-05T00:00:00.000000000",
          "1998-06-08T00:00:00.000000000",
          "1998-06-09T00:00:00.000000000",
          "1998-06-13T00:00:00.000000000",
          "1998-06-15T00:00:00.000000000",
          "1998-06-17T00:00:00.000000000",
          "1998-06-18T00:00:00.000000000",
          "1998-06-18T00:00:00.000000000",
          "1998-06-18T00:00:00.000000000",
          "1998-06-23T00:00:00.000000000",
          "1998-06-24T00:00:00.000000000",
          "1998-06-24T00:00:00.000000000",
          "1998-07-03T00:00:00.000000000",
          "1998-07-03T00:00:00.000000000",
          "1998-07-03T00:00:00.000000000",
          "1998-07-03T00:00:00.000000000",
          "1998-07-03T00:00:00.000000000",
          "1998-07-03T00:00:00.000000000",
          "1998-07-03T00:00:00.000000000",
          "1998-07-03T00:00:00.000000000",
          "1998-07-04T00:00:00.000000000",
          "1998-07-04T00:00:00.000000000",
          "1998-07-04T00:00:00.000000000",
          "1998-07-04T00:00:00.000000000",
          "1998-07-04T00:00:00.000000000",
          "1998-07-04T00:00:00.000000000",
          "1998-07-04T00:00:00.000000000",
          "1998-07-04T00:00:00.000000000",
          "1998-07-05T00:00:00.000000000",
          "1998-07-05T00:00:00.000000000",
          "1998-07-05T00:00:00.000000000",
          "1998-07-05T00:00:00.000000000",
          "1998-07-05T00:00:00.000000000",
          "1998-07-05T00:00:00.000000000",
          "1998-07-05T00:00:00.000000000",
          "1998-07-05T00:00:00.000000000",
          "1998-07-06T00:00:00.000000000",
          "1998-07-06T00:00:00.000000000",
          "1998-07-06T00:00:00.000000000",
          "1998-07-06T00:00:00.000000000",
          "1998-07-06T00:00:00.000000000",
          "1998-07-06T00:00:00.000000000",
          "1998-07-06T00:00:00.000000000",
          "1998-07-07T00:00:00.000000000",
          "1998-07-07T00:00:00.000000000",
          "1998-07-07T00:00:00.000000000",
          "1998-07-07T00:00:00.000000000",
          "1998-07-07T00:00:00.000000000",
          "1998-07-07T00:00:00.000000000",
          "1998-07-07T00:00:00.000000000",
          "1998-07-07T00:00:00.000000000",
          "1998-07-08T00:00:00.000000000",
          "1998-07-08T00:00:00.000000000",
          "1998-07-08T00:00:00.000000000",
          "1998-07-08T00:00:00.000000000",
          "1998-07-08T00:00:00.000000000",
          "1998-07-08T00:00:00.000000000",
          "1998-07-08T00:00:00.000000000",
          "1998-07-08T00:00:00.000000000",
          "1998-07-08T00:00:00.000000000",
          "1998-07-08T00:00:00.000000000",
          "1998-07-08T00:00:00.000000000",
          "1998-07-08T00:00:00.000000000",
          "1998-07-09T00:00:00.000000000",
          "1998-07-09T00:00:00.000000000",
          "1998-07-09T00:00:00.000000000",
          "1998-07-09T00:00:00.000000000",
          "1998-07-09T00:00:00.000000000",
          "1998-07-09T00:00:00.000000000",
          "1998-07-09T00:00:00.000000000",
          "1998-07-09T00:00:00.000000000",
          "1998-07-18T00:00:00.000000000",
          "1998-07-18T00:00:00.000000000",
          "1998-07-21T00:00:00.000000000",
          "1998-07-21T00:00:00.000000000",
          "1998-07-21T00:00:00.000000000",
          "1998-07-21T00:00:00.000000000",
          "1998-07-23T00:00:00.000000000",
          "1998-07-23T00:00:00.000000000",
          "1998-08-27T00:00:00.000000000",
          "1998-08-28T00:00:00.000000000",
          "1998-08-29T00:00:00.000000000",
          "1998-08-30T00:00:00.000000000",
          "1998-09-01T00:00:00.000000000",
          "1998-09-05T00:00:00.000000000",
          "1998-10-07T00:00:00.000000000",
          "1998-10-08T00:00:00.000000000",
          "1998-10-08T00:00:00.000000000",
          "1998-10-08T00:00:00.000000000",
          "1998-10-08T00:00:00.000000000",
          "1998-10-10T00:00:00.000000000",
          "1998-10-13T00:00:00.000000000",
          "1998-10-14T00:00:00.000000000",
          "1999-02-18T00:00:00.000000000",
          "1999-02-18T00:00:00.000000000",
          "1999-02-20T00:00:00.000000000",
          "1999-02-21T00:00:00.000000000",
          "1999-02-21T00:00:00.000000000",
          "1999-02-21T00:00:00.000000000",
          "1999-05-08T00:00:00.000000000",
          "1999-05-08T00:00:00.000000000",
          "1999-05-09T00:00:00.000000000",
          "1999-05-09T00:00:00.000000000",
          "1999-05-10T00:00:00.000000000",
          "1999-05-11T00:00:00.000000000",
          "1999-05-20T00:00:00.000000000",
          "1999-05-20T00:00:00.000000000",
          "1999-05-20T00:00:00.000000000",
          "1999-05-20T00:00:00.000000000",
          "1999-05-24T00:00:00.000000000",
          "1999-05-25T00:00:00.000000000",
          "1999-05-25T00:00:00.000000000",
          "1999-06-18T00:00:00.000000000",
          "1999-06-19T00:00:00.000000000",
          "1999-06-20T00:00:00.000000000",
          "1999-06-21T00:00:00.000000000",
          "1999-06-24T00:00:00.000000000",
          "1999-06-24T00:00:00.000000000",
          "1999-07-05T00:00:00.000000000",
          "1999-07-08T00:00:00.000000000",
          "1999-07-08T00:00:00.000000000",
          "1999-07-08T00:00:00.000000000",
          "1999-07-08T00:00:00.000000000",
          "1999-07-09T00:00:00.000000000",
          "1999-07-09T00:00:00.000000000",
          "1999-07-09T00:00:00.000000000",
          "1999-07-09T00:00:00.000000000",
          "1999-07-09T00:00:00.000000000",
          "1999-07-09T00:00:00.000000000",
          "1999-07-09T00:00:00.000000000",
          "1999-07-09T00:00:00.000000000",
          "1999-07-10T00:00:00.000000000",
          "1999-07-10T00:00:00.000000000",
          "1999-07-10T00:00:00.000000000",
          "1999-07-10T00:00:00.000000000",
          "1999-07-11T00:00:00.000000000",
          "1999-07-11T00:00:00.000000000",
          "1999-07-11T00:00:00.000000000",
          "1999-07-11T00:00:00.000000000",
          "1999-07-11T00:00:00.000000000",
          "1999-07-11T00:00:00.000000000",
          "1999-07-11T00:00:00.000000000",
          "1999-07-11T00:00:00.000000000",
          "1999-07-12T00:00:00.000000000",
          "1999-07-12T00:00:00.000000000",
          "1999-07-12T00:00:00.000000000",
          "1999-07-12T00:00:00.000000000",
          "1999-07-13T00:00:00.000000000",
          "1999-07-13T00:00:00.000000000",
          "1999-07-13T00:00:00.000000000",
          "1999-07-13T00:00:00.000000000",
          "1999-07-13T00:00:00.000000000",
          "1999-07-13T00:00:00.000000000",
          "1999-07-13T00:00:00.000000000",
          "1999-07-13T00:00:00.000000000",
          "1999-08-26T00:00:00.000000000",
          "1999-08-27T00:00:00.000000000",
          "1999-08-29T00:00:00.000000000",
          "1999-08-30T00:00:00.000000000",
          "1999-09-02T00:00:00.000000000",
          "1999-09-04T00:00:00.000000000",
          "1999-09-05T00:00:00.000000000",
          "1999-09-06T00:00:00.000000000",
          "1999-09-07T00:00:00.000000000",
          "1999-09-27T00:00:00.000000000",
          "1999-10-13T00:00:00.000000000",
          "2000-02-15T00:00:00.000000000",
          "2000-02-15T00:00:00.000000000",
          "2000-05-08T00:00:00.000000000",
          "2000-05-08T00:00:00.000000000",
          "2000-05-09T00:00:00.000000000",
          "2000-05-10T00:00:00.000000000",
          "2000-05-10T00:00:00.000000000",
          "2000-05-10T00:00:00.000000000",
          "2000-05-12T00:00:00.000000000",
          "2000-06-03T00:00:00.000000000",
          "2000-06-05T00:00:00.000000000",
          "2000-06-06T00:00:00.000000000",
          "2000-06-09T00:00:00.000000000",
          "2000-06-18T00:00:00.000000000",
          "2000-06-18T00:00:00.000000000",
          "2000-06-19T00:00:00.000000000",
          "2000-06-19T00:00:00.000000000",
          "2000-06-19T00:00:00.000000000",
          "2000-06-19T00:00:00.000000000",
          "2000-06-19T00:00:00.000000000",
          "2000-06-19T00:00:00.000000000",
          "2000-06-19T00:00:00.000000000",
          "2000-06-20T00:00:00.000000000",
          "2000-07-04T00:00:00.000000000",
          "2000-07-04T00:00:00.000000000",
          "2000-07-04T00:00:00.000000000",
          "2000-07-04T00:00:00.000000000",
          "2000-07-04T00:00:00.000000000",
          "2000-07-04T00:00:00.000000000",
          "2000-07-04T00:00:00.000000000",
          "2000-07-04T00:00:00.000000000",
          "2000-07-05T00:00:00.000000000",
          "2000-07-05T00:00:00.000000000",
          "2000-07-05T00:00:00.000000000",
          "2000-07-06T00:00:00.000000000",
          "2000-07-06T00:00:00.000000000",
          "2000-07-07T00:00:00.000000000",
          "2000-07-07T00:00:00.000000000",
          "2000-07-07T00:00:00.000000000",
          "2000-07-07T00:00:00.000000000",
          "2000-07-08T00:00:00.000000000",
          "2000-07-08T00:00:00.000000000",
          "2000-07-08T00:00:00.000000000",
          "2000-07-08T00:00:00.000000000",
          "2000-07-08T00:00:00.000000000",
          "2000-07-08T00:00:00.000000000",
          "2000-07-12T00:00:00.000000000",
          "2000-07-12T00:00:00.000000000",
          "2000-07-12T00:00:00.000000000",
          "2000-07-12T00:00:00.000000000",
          "2000-07-13T00:00:00.000000000",
          "2000-07-13T00:00:00.000000000",
          "2000-07-13T00:00:00.000000000",
          "2000-07-13T00:00:00.000000000",
          "2000-08-03T00:00:00.000000000",
          "2000-08-03T00:00:00.000000000",
          "2000-08-03T00:00:00.000000000",
          "2000-08-03T00:00:00.000000000",
          "2000-08-03T00:00:00.000000000",
          "2000-08-04T00:00:00.000000000",
          "2000-08-04T00:00:00.000000000",
          "2000-08-04T00:00:00.000000000",
          "2000-08-04T00:00:00.000000000",
          "2000-08-04T00:00:00.000000000",
          "2000-08-04T00:00:00.000000000",
          "2000-08-04T00:00:00.000000000",
          "2000-08-04T00:00:00.000000000",
          "2000-08-04T00:00:00.000000000",
          "2000-08-04T00:00:00.000000000",
          "2000-08-05T00:00:00.000000000",
          "2000-08-05T00:00:00.000000000",
          "2000-08-05T00:00:00.000000000",
          "2000-08-05T00:00:00.000000000",
          "2000-08-05T00:00:00.000000000",
          "2000-08-06T00:00:00.000000000",
          "2000-08-07T00:00:00.000000000",
          "2000-08-10T00:00:00.000000000",
          "2000-08-10T00:00:00.000000000",
          "2000-08-10T00:00:00.000000000",
          "2000-08-10T00:00:00.000000000",
          "2000-09-07T00:00:00.000000000",
          "2000-09-08T00:00:00.000000000",
          "2000-09-10T00:00:00.000000000",
          "2000-09-11T00:00:00.000000000",
          "2000-09-14T00:00:00.000000000",
          "2000-09-15T00:00:00.000000000",
          "2000-09-26T00:00:00.000000000",
          "2000-09-26T00:00:00.000000000",
          "2000-09-26T00:00:00.000000000",
          "2000-09-27T00:00:00.000000000",
          "2000-09-27T00:00:00.000000000",
          "2000-09-27T00:00:00.000000000",
          "2000-09-27T00:00:00.000000000",
          "2000-09-27T00:00:00.000000000",
          "2000-09-28T00:00:00.000000000",
          "2000-09-28T00:00:00.000000000",
          "2000-09-29T00:00:00.000000000",
          "2000-10-01T00:00:00.000000000",
          "2000-10-01T00:00:00.000000000",
          "2000-10-01T00:00:00.000000000",
          "2000-10-01T00:00:00.000000000",
          "2000-10-01T00:00:00.000000000",
          "2000-10-01T00:00:00.000000000",
          "2000-10-02T00:00:00.000000000",
          "2001-02-09T00:00:00.000000000",
          "2001-02-11T00:00:00.000000000",
          "2001-02-12T00:00:00.000000000",
          "2001-02-16T00:00:00.000000000",
          "2001-02-16T00:00:00.000000000",
          "2001-02-17T00:00:00.000000000",
          "2001-02-19T00:00:00.000000000",
          "2001-02-19T00:00:00.000000000",
          "2001-03-23T00:00:00.000000000",
          "2001-05-31T00:00:00.000000000",
          "2001-05-31T00:00:00.000000000",
          "2001-06-02T00:00:00.000000000",
          "2001-06-02T00:00:00.000000000",
          "2001-06-02T00:00:00.000000000",
          "2001-06-02T00:00:00.000000000",
          "2001-06-02T00:00:00.000000000",
          "2001-06-03T00:00:00.000000000",
          "2001-06-03T00:00:00.000000000",
          "2001-06-03T00:00:00.000000000",
          "2001-06-03T00:00:00.000000000",
          "2001-06-03T00:00:00.000000000",
          "2001-06-03T00:00:00.000000000",
          "2001-06-04T00:00:00.000000000",
          "2001-06-05T00:00:00.000000000",
          "2001-06-05T00:00:00.000000000",
          "2001-06-05T00:00:00.000000000",
          "2001-06-05T00:00:00.000000000",
          "2001-06-06T00:00:00.000000000",
          "2001-06-06T00:00:00.000000000",
          "2001-06-06T00:00:00.000000000",
          "2001-06-06T00:00:00.000000000",
          "2001-06-07T00:00:00.000000000",
          "2001-06-08T00:00:00.000000000",
          "2001-06-08T00:00:00.000000000",
          "2001-06-08T00:00:00.000000000",
          "2001-06-08T00:00:00.000000000",
          "2001-06-09T00:00:00.000000000",
          "2001-06-09T00:00:00.000000000",
          "2001-06-09T00:00:00.000000000",
          "2001-06-10T00:00:00.000000000",
          "2001-06-10T00:00:00.000000000",
          "2001-06-10T00:00:00.000000000",
          "2001-06-10T00:00:00.000000000",
          "2001-06-11T00:00:00.000000000",
          "2001-06-11T00:00:00.000000000",
          "2001-06-11T00:00:00.000000000",
          "2001-06-12T00:00:00.000000000",
          "2001-06-12T00:00:00.000000000",
          "2001-06-12T00:00:00.000000000",
          "2001-06-12T00:00:00.000000000",
          "2001-06-12T00:00:00.000000000",
          "2001-06-12T00:00:00.000000000",
          "2001-06-16T00:00:00.000000000",
          "2001-06-21T00:00:00.000000000",
          "2001-06-22T00:00:00.000000000",
          "2001-06-22T00:00:00.000000000",
          "2001-06-22T00:00:00.000000000",
          "2001-06-22T00:00:00.000000000",
          "2001-06-22T00:00:00.000000000",
          "2001-06-23T00:00:00.000000000",
          "2001-06-24T00:00:00.000000000",
          "2001-07-04T00:00:00.000000000",
          "2001-07-04T00:00:00.000000000",
          "2001-07-04T00:00:00.000000000",
          "2001-07-06T00:00:00.000000000",
          "2001-07-06T00:00:00.000000000",
          "2001-07-06T00:00:00.000000000",
          "2001-07-06T00:00:00.000000000",
          "2001-08-25T00:00:00.000000000",
          "2001-08-29T00:00:00.000000000",
          "2001-09-19T00:00:00.000000000",
          "2001-09-19T00:00:00.000000000",
          "2001-09-22T00:00:00.000000000",
          "2001-09-22T00:00:00.000000000",
          "2001-09-22T00:00:00.000000000",
          "2001-09-22T00:00:00.000000000",
          "2001-09-22T00:00:00.000000000",
          "2001-09-23T00:00:00.000000000",
          "2001-09-25T00:00:00.000000000",
          "2001-09-25T00:00:00.000000000",
          "2001-09-26T00:00:00.000000000",
          "2001-09-27T00:00:00.000000000",
          "2001-09-28T00:00:00.000000000",
          "2001-09-28T00:00:00.000000000",
          "2001-09-30T00:00:00.000000000",
          "2001-09-30T00:00:00.000000000",
          "2001-10-03T00:00:00.000000000",
          "2002-02-07T00:00:00.000000000",
          "2002-02-11T00:00:00.000000000",
          "2002-02-13T00:00:00.000000000",
          "2002-02-14T00:00:00.000000000",
          "2002-02-15T00:00:00.000000000",
          "2002-02-15T00:00:00.000000000",
          "2002-02-16T00:00:00.000000000",
          "2002-03-05T00:00:00.000000000",
          "2002-03-05T00:00:00.000000000",
          "2002-03-05T00:00:00.000000000",
          "2002-05-03T00:00:00.000000000",
          "2002-05-05T00:00:00.000000000",
          "2002-05-05T00:00:00.000000000",
          "2002-05-06T00:00:00.000000000",
          "2002-05-06T00:00:00.000000000",
          "2002-05-06T00:00:00.000000000",
          "2002-05-06T00:00:00.000000000",
          "2002-06-19T00:00:00.000000000",
          "2002-06-19T00:00:00.000000000",
          "2002-06-19T00:00:00.000000000",
          "2002-06-19T00:00:00.000000000",
          "2002-06-26T00:00:00.000000000",
          "2002-06-26T00:00:00.000000000",
          "2002-06-26T00:00:00.000000000",
          "2002-07-01T00:00:00.000000000",
          "2002-07-02T00:00:00.000000000",
          "2002-07-03T00:00:00.000000000",
          "2002-07-04T00:00:00.000000000",
          "2002-07-05T00:00:00.000000000",
          "2002-07-19T00:00:00.000000000",
          "2002-07-22T00:00:00.000000000",
          "2002-07-22T00:00:00.000000000",
          "2002-07-22T00:00:00.000000000",
          "2002-07-22T00:00:00.000000000",
          "2002-07-23T00:00:00.000000000",
          "2002-07-23T00:00:00.000000000",
          "2002-07-23T00:00:00.000000000",
          "2002-07-23T00:00:00.000000000",
          "2002-07-24T00:00:00.000000000",
          "2002-08-18T00:00:00.000000000",
          "2002-08-18T00:00:00.000000000",
          "2002-08-18T00:00:00.000000000",
          "2002-08-18T00:00:00.000000000",
          "2002-08-27T00:00:00.000000000",
          "2002-08-28T00:00:00.000000000",
          "2002-08-29T00:00:00.000000000",
          "2002-08-30T00:00:00.000000000",
          "2002-09-03T00:00:00.000000000",
          "2002-09-06T00:00:00.000000000",
          "2002-09-08T00:00:00.000000000",
          "2002-09-19T00:00:00.000000000",
          "2002-09-19T00:00:00.000000000",
          "2002-09-19T00:00:00.000000000",
          "2002-09-19T00:00:00.000000000",
          "2002-09-21T00:00:00.000000000",
          "2002-10-19T00:00:00.000000000",
          "2002-10-23T00:00:00.000000000",
          "2002-10-23T00:00:00.000000000",
          "2002-10-23T00:00:00.000000000",
          "2002-10-23T00:00:00.000000000",
          "2003-02-12T00:00:00.000000000",
          "2003-02-14T00:00:00.000000000",
          "2003-02-15T00:00:00.000000000",
          "2003-02-16T00:00:00.000000000",
          "2003-02-16T00:00:00.000000000",
          "2003-02-17T00:00:00.000000000",
          "2003-02-21T00:00:00.000000000",
          "2003-02-21T00:00:00.000000000",
          "2003-02-21T00:00:00.000000000",
          "2003-05-19T00:00:00.000000000",
          "2003-05-19T00:00:00.000000000",
          "2003-05-19T00:00:00.000000000",
          "2003-05-20T00:00:00.000000000",
          "2003-05-20T00:00:00.000000000",
          "2003-05-29T00:00:00.000000000",
          "2003-05-30T00:00:00.000000000",
          "2003-05-31T00:00:00.000000000",
          "2003-06-01T00:00:00.000000000",
          "2003-06-03T00:00:00.000000000",
          "2003-06-08T00:00:00.000000000",
          "2003-06-09T00:00:00.000000000",
          "2003-06-10T00:00:00.000000000",
          "2003-06-10T00:00:00.000000000",
          "2003-06-10T00:00:00.000000000",
          "2003-06-11T00:00:00.000000000",
          "2003-09-01T00:00:00.000000000",
          "2003-09-02T00:00:00.000000000",
          "2003-09-03T00:00:00.000000000",
          "2003-09-04T00:00:00.000000000",
          "2003-09-06T00:00:00.000000000",
          "2003-09-07T00:00:00.000000000",
          "2003-09-26T00:00:00.000000000",
          "2003-09-27T00:00:00.000000000",
          "2003-09-28T00:00:00.000000000",
          "2003-10-26T00:00:00.000000000",
          "2003-10-27T00:00:00.000000000",
          "2003-10-27T00:00:00.000000000",
          "2004-02-20T00:00:00.000000000",
          "2004-02-20T00:00:00.000000000",
          "2004-02-21T00:00:00.000000000",
          "2004-02-22T00:00:00.000000000",
          "2004-02-24T00:00:00.000000000",
          "2004-02-27T00:00:00.000000000",
          "2004-02-27T00:00:00.000000000",
          "2004-02-27T00:00:00.000000000",
          "2004-02-27T00:00:00.000000000",
          "2004-05-29T00:00:00.000000000",
          "2004-05-29T00:00:00.000000000",
          "2004-05-30T00:00:00.000000000",
          "2004-06-03T00:00:00.000000000",
          "2004-06-03T00:00:00.000000000",
          "2004-06-04T00:00:00.000000000",
          "2004-06-06T00:00:00.000000000",
          "2004-06-07T00:00:00.000000000",
          "2004-06-14T00:00:00.000000000",
          "2004-06-14T00:00:00.000000000",
          "2004-06-14T00:00:00.000000000",
          "2004-06-14T00:00:00.000000000",
          "2004-06-14T00:00:00.000000000",
          "2004-08-21T00:00:00.000000000",
          "2004-08-22T00:00:00.000000000",
          "2004-08-23T00:00:00.000000000",
          "2004-08-24T00:00:00.000000000",
          "2004-08-26T00:00:00.000000000",
          "2004-09-05T00:00:00.000000000",
          "2004-09-05T00:00:00.000000000",
          "2004-09-05T00:00:00.000000000",
          "2004-09-06T00:00:00.000000000",
          "2004-10-27T00:00:00.000000000",
          "2004-10-27T00:00:00.000000000",
          "2004-10-27T00:00:00.000000000",
          "2004-10-27T00:00:00.000000000",
          "2005-02-13T00:00:00.000000000",
          "2005-02-14T00:00:00.000000000",
          "2005-02-15T00:00:00.000000000",
          "2005-02-16T00:00:00.000000000",
          "2005-02-18T00:00:00.000000000",
          "2005-02-18T00:00:00.000000000",
          "2005-02-19T00:00:00.000000000",
          "2005-02-22T00:00:00.000000000",
          "2005-02-23T00:00:00.000000000",
          "2005-03-12T00:00:00.000000000",
          "2005-03-12T00:00:00.000000000",
          "2005-03-12T00:00:00.000000000",
          "2005-03-12T00:00:00.000000000",
          "2005-03-13T00:00:00.000000000",
          "2005-03-13T00:00:00.000000000",
          "2005-03-13T00:00:00.000000000",
          "2005-03-13T00:00:00.000000000",
          "2005-05-27T00:00:00.000000000",
          "2005-05-28T00:00:00.000000000",
          "2005-06-03T00:00:00.000000000",
          "2005-06-03T00:00:00.000000000",
          "2005-06-06T00:00:00.000000000",
          "2005-06-06T00:00:00.000000000",
          "2005-06-07T00:00:00.000000000",
          "2005-06-15T00:00:00.000000000",
          "2005-07-29T00:00:00.000000000",
          "2005-08-13T00:00:00.000000000",
          "2005-08-18T00:00:00.000000000",
          "2005-08-19T00:00:00.000000000",
          "2005-08-20T00:00:00.000000000",
          "2005-08-21T00:00:00.000000000",
          "2005-08-22T00:00:00.000000000",
          "2005-08-23T00:00:00.000000000",
          "2005-08-27T00:00:00.000000000",
          "2005-08-28T00:00:00.000000000",
          "2005-09-08T00:00:00.000000000",
          "2005-09-09T00:00:00.000000000",
          "2006-02-06T00:00:00.000000000",
          "2006-02-06T00:00:00.000000000",
          "2006-02-09T00:00:00.000000000",
          "2006-02-10T00:00:00.000000000",
          "2006-02-13T00:00:00.000000000",
          "2006-04-21T00:00:00.000000000",
          "2006-04-21T00:00:00.000000000",
          "2006-07-14T00:00:00.000000000",
          "2006-07-17T00:00:00.000000000",
          "2006-08-24T00:00:00.000000000",
          "2006-08-27T00:00:00.000000000",
          "2006-09-22T00:00:00.000000000",
          "2006-09-23T00:00:00.000000000",
          "2006-09-24T00:00:00.000000000",
          "2006-09-26T00:00:00.000000000",
          "2006-09-28T00:00:00.000000000",
          "2006-10-01T00:00:00.000000000",
          "2006-10-02T00:00:00.000000000",
          "2006-10-04T00:00:00.000000000",
          "2007-02-10T00:00:00.000000000",
          "2007-02-10T00:00:00.000000000",
          "2007-02-11T00:00:00.000000000",
          "2007-02-12T00:00:00.000000000",
          "2007-02-15T00:00:00.000000000",
          "2007-02-16T00:00:00.000000000",
          "2007-02-16T00:00:00.000000000",
          "2007-02-18T00:00:00.000000000",
          "2007-02-18T00:00:00.000000000",
          "2007-05-26T00:00:00.000000000",
          "2007-06-02T00:00:00.000000000",
          "2007-06-03T00:00:00.000000000",
          "2007-06-04T00:00:00.000000000",
          "2007-06-07T00:00:00.000000000",
          "2007-06-21T00:00:00.000000000",
          "2007-06-21T00:00:00.000000000",
          "2007-06-21T00:00:00.000000000",
          "2007-06-21T00:00:00.000000000",
          "2007-06-27T00:00:00.000000000",
          "2007-06-27T00:00:00.000000000",
          "2007-06-28T00:00:00.000000000",
          "2007-07-04T00:00:00.000000000",
          "2007-07-05T00:00:00.000000000",
          "2007-07-06T00:00:00.000000000",
          "2007-07-07T00:00:00.000000000",
          "2007-07-07T00:00:00.000000000",
          "2007-07-08T00:00:00.000000000",
          "2007-08-17T00:00:00.000000000",
          "2007-08-18T00:00:00.000000000",
          "2007-08-19T00:00:00.000000000",
          "2007-08-21T00:00:00.000000000",
          "2007-08-22T00:00:00.000000000",
          "2007-09-06T00:00:00.000000000",
          "2007-09-07T00:00:00.000000000",
          "2008-02-02T00:00:00.000000000",
          "2008-02-03T00:00:00.000000000",
          "2008-02-04T00:00:00.000000000",
          "2008-02-06T00:00:00.000000000",
          "2008-02-10T00:00:00.000000000",
          "2008-05-25T00:00:00.000000000",
          "2008-05-26T00:00:00.000000000",
          "2008-06-02T00:00:00.000000000",
          "2008-06-03T00:00:00.000000000",
          "2008-06-04T00:00:00.000000000",
          "2008-06-06T00:00:00.000000000",
          "2008-06-08T00:00:00.000000000",
          "2008-07-04T00:00:00.000000000",
          "2008-07-05T00:00:00.000000000",
          "2008-07-07T00:00:00.000000000",
          "2008-07-09T00:00:00.000000000",
          "2008-08-15T00:00:00.000000000",
          "2008-08-16T00:00:00.000000000",
          "2008-08-17T00:00:00.000000000",
          "2008-08-19T00:00:00.000000000",
          "2008-08-21T00:00:00.000000000",
          "2008-09-04T00:00:00.000000000",
          "2008-09-05T00:00:00.000000000",
          "2008-09-06T00:00:00.000000000",
          "2008-10-17T00:00:00.000000000",
          "2009-01-30T00:00:00.000000000",
          "2009-01-31T00:00:00.000000000",
          "2009-01-31T00:00:00.000000000",
          "2009-02-02T00:00:00.000000000",
          "2009-02-05T00:00:00.000000000",
          "2009-05-31T00:00:00.000000000",
          "2009-05-31T00:00:00.000000000",
          "2009-06-01T00:00:00.000000000",
          "2009-06-08T00:00:00.000000000",
          "2009-06-09T00:00:00.000000000",
          "2009-06-10T00:00:00.000000000",
          "2009-06-11T00:00:00.000000000",
          "2009-06-14T00:00:00.000000000",
          "2009-07-11T00:00:00.000000000",
          "2009-07-12T00:00:00.000000000",
          "2009-07-13T00:00:00.000000000",
          "2009-07-14T00:00:00.000000000",
          "2009-08-22T00:00:00.000000000",
          "2009-08-23T00:00:00.000000000",
          "2009-08-26T00:00:00.000000000",
          "2009-08-27T00:00:00.000000000",
          "2009-08-31T00:00:00.000000000",
          "2009-08-31T00:00:00.000000000",
          "2009-09-09T00:00:00.000000000",
          "2009-09-09T00:00:00.000000000",
          "2009-09-10T00:00:00.000000000",
          "2010-02-05T00:00:00.000000000",
          "2010-02-06T00:00:00.000000000",
          "2010-02-08T00:00:00.000000000",
          "2010-05-31T00:00:00.000000000",
          "2010-05-31T00:00:00.000000000",
          "2010-06-08T00:00:00.000000000",
          "2010-06-09T00:00:00.000000000",
          "2010-06-10T00:00:00.000000000",
          "2010-06-11T00:00:00.000000000",
          "2010-06-14T00:00:00.000000000",
          "2010-07-23T00:00:00.000000000",
          "2010-07-24T00:00:00.000000000",
          "2010-07-26T00:00:00.000000000",
          "2010-07-28T00:00:00.000000000",
          "2010-08-21T00:00:00.000000000",
          "2010-08-22T00:00:00.000000000",
          "2010-08-23T00:00:00.000000000",
          "2010-08-25T00:00:00.000000000",
          "2010-08-26T00:00:00.000000000",
          "2010-09-08T00:00:00.000000000",
          "2010-09-09T00:00:00.000000000",
          "2010-09-09T00:00:00.000000000",
          "2010-09-10T00:00:00.000000000",
          "2011-02-10T00:00:00.000000000",
          "2011-02-11T00:00:00.000000000",
          "2011-02-12T00:00:00.000000000",
          "2011-02-14T00:00:00.000000000",
          "2011-02-16T00:00:00.000000000",
          "2011-05-29T00:00:00.000000000",
          "2011-05-30T00:00:00.000000000",
          "2011-05-30T00:00:00.000000000",
          "2011-05-30T00:00:00.000000000",
          "2011-06-05T00:00:00.000000000",
          "2011-06-06T00:00:00.000000000",
          "2011-06-08T00:00:00.000000000",
          "2011-06-09T00:00:00.000000000",
          "2011-06-13T00:00:00.000000000",
          "2011-08-19T00:00:00.000000000",
          "2011-08-20T00:00:00.000000000",
          "2011-08-22T00:00:00.000000000",
          "2011-08-23T00:00:00.000000000",
          "2011-08-26T00:00:00.000000000",
          "2011-09-06T00:00:00.000000000",
          "2011-09-06T00:00:00.000000000",
          "2011-09-07T00:00:00.000000000",
          "2011-09-07T00:00:00.000000000",
          "2011-09-08T00:00:00.000000000",
          "2012-02-10T00:00:00.000000000",
          "2012-02-11T00:00:00.000000000",
          "2012-02-12T00:00:00.000000000",
          "2012-02-15T00:00:00.000000000",
          "2012-02-16T00:00:00.000000000",
          "2012-05-16T00:00:00.000000000",
          "2012-05-17T00:00:00.000000000",
          "2012-05-18T00:00:00.000000000",
          "2012-05-18T00:00:00.000000000",
          "2012-05-26T00:00:00.000000000",
          "2012-05-30T00:00:00.000000000",
          "2012-06-03T00:00:00.000000000",
          "2012-08-18T00:00:00.000000000",
          "2012-08-18T00:00:00.000000000",
          "2012-08-20T00:00:00.000000000",
          "2012-08-24T00:00:00.000000000",
          "2012-09-04T00:00:00.000000000",
          "2012-09-05T00:00:00.000000000",
          "2012-09-06T00:00:00.000000000",
          "2013-02-07T00:00:00.000000000",
          "2013-02-08T00:00:00.000000000",
          "2013-02-09T00:00:00.000000000",
          "2013-02-13T00:00:00.000000000",
          "2013-02-14T00:00:00.000000000",
          "2013-06-02T00:00:00.000000000",
          "2013-06-03T00:00:00.000000000",
          "2013-06-03T00:00:00.000000000",
          "2013-06-10T00:00:00.000000000",
          "2013-06-11T00:00:00.000000000",
          "2013-06-12T00:00:00.000000000",
          "2013-06-14T00:00:00.000000000",
          "2013-06-18T00:00:00.000000000",
          "2013-08-23T00:00:00.000000000",
          "2013-08-25T00:00:00.000000000",
          "2013-08-26T00:00:00.000000000",
          "2013-08-28T00:00:00.000000000",
          "2013-08-30T00:00:00.000000000",
          "2013-09-11T00:00:00.000000000",
          "2014-02-12T00:00:00.000000000",
          "2014-02-22T00:00:00.000000000",
          "2014-06-04T00:00:00.000000000",
          "2014-06-13T00:00:00.000000000",
          "2014-06-15T00:00:00.000000000",
          "2014-06-17T00:00:00.000000000",
          "2014-08-23T00:00:00.000000000",
          "2014-08-25T00:00:00.000000000",
          "2014-08-26T00:00:00.000000000",
          "2014-08-26T00:00:00.000000000",
          "2014-09-10T00:00:00.000000000",
          "2014-09-11T00:00:00.000000000",
          "2014-09-11T00:00:00.000000000",
          "2014-09-12T00:00:00.000000000",
          "2015-02-12T00:00:00.000000000",
          "2015-02-13T00:00:00.000000000",
          "2015-02-15T00:00:00.000000000",
          "2015-02-16T00:00:00.000000000",
          "2015-02-19T00:00:00.000000000",
          "2015-06-02T00:00:00.000000000",
          "2015-06-10T00:00:00.000000000",
          "2015-06-12T00:00:00.000000000",
          "2015-06-13T00:00:00.000000000",
          "2015-06-17T00:00:00.000000000",
          "2015-06-20T00:00:00.000000000",
          "2015-07-10T00:00:00.000000000",
          "2015-07-10T00:00:00.000000000",
          "2015-07-11T00:00:00.000000000",
          "2015-07-11T00:00:00.000000000",
          "2015-07-11T00:00:00.000000000",
          "2015-07-12T00:00:00.000000000",
          "2015-07-13T00:00:00.000000000",
          "2015-07-13T00:00:00.000000000",
          "2015-07-13T00:00:00.000000000",
          "2015-07-14T00:00:00.000000000",
          "2015-07-14T00:00:00.000000000",
          "2015-07-14T00:00:00.000000000",
          "2015-07-14T00:00:00.000000000",
          "2015-07-15T00:00:00.000000000",
          "2015-07-16T00:00:00.000000000",
          "2015-07-18T00:00:00.000000000",
          "2015-08-22T00:00:00.000000000",
          "2015-08-23T00:00:00.000000000",
          "2015-08-24T00:00:00.000000000",
          "2015-08-26T00:00:00.000000000",
          "2015-08-28T00:00:00.000000000",
          "2015-09-07T00:00:00.000000000",
          "2015-10-19T00:00:00.000000000",
          "2016-02-10T00:00:00.000000000",
          "2016-02-12T00:00:00.000000000",
          "2016-02-16T00:00:00.000000000",
          "2016-02-18T00:00:00.000000000",
          "2016-05-31T00:00:00.000000000",
          "2016-05-31T00:00:00.000000000",
          "2016-06-01T00:00:00.000000000",
          "2016-06-07T00:00:00.000000000",
          "2016-06-09T00:00:00.000000000",
          "2016-06-10T00:00:00.000000000",
          "2016-06-11T00:00:00.000000000",
          "2016-06-14T00:00:00.000000000",
          "2016-08-06T00:00:00.000000000",
          "2016-08-06T00:00:00.000000000",
          "2016-08-07T00:00:00.000000000",
          "2016-08-10T00:00:00.000000000",
          "2016-08-20T00:00:00.000000000",
          "2016-08-22T00:00:00.000000000",
          "2016-08-23T00:00:00.000000000",
          "2016-08-26T00:00:00.000000000",
          "2016-08-29T00:00:00.000000000",
          "2016-09-08T00:00:00.000000000",
          "2016-09-08T00:00:00.000000000",
          "2017-02-09T00:00:00.000000000",
          "2017-02-12T00:00:00.000000000",
          "2017-02-15T00:00:00.000000000",
          "2017-02-16T00:00:00.000000000",
          "2017-02-17T00:00:00.000000000",
          "2017-05-28T00:00:00.000000000",
          "2017-05-30T00:00:00.000000000",
          "2017-06-06T00:00:00.000000000",
          "2017-06-07T00:00:00.000000000",
          "2017-06-09T00:00:00.000000000",
          "2017-06-10T00:00:00.000000000",
          "2017-06-13T00:00:00.000000000",
          "2017-07-22T00:00:00.000000000",
          "2017-07-22T00:00:00.000000000",
          "2017-07-22T00:00:00.000000000",
          "2017-07-22T00:00:00.000000000",
          "2017-07-23T00:00:00.000000000",
          "2017-07-23T00:00:00.000000000",
          "2017-07-24T00:00:00.000000000",
          "2017-07-24T00:00:00.000000000",
          "2017-07-24T00:00:00.000000000",
          "2017-07-24T00:00:00.000000000",
          "2017-07-25T00:00:00.000000000",
          "2017-07-25T00:00:00.000000000",
          "2017-07-25T00:00:00.000000000",
          "2017-07-26T00:00:00.000000000",
          "2017-07-26T00:00:00.000000000",
          "2017-07-26T00:00:00.000000000",
          "2017-07-26T00:00:00.000000000",
          "2017-07-27T00:00:00.000000000",
          "2017-07-27T00:00:00.000000000",
          "2017-07-27T00:00:00.000000000",
          "2017-07-28T00:00:00.000000000",
          "2017-07-28T00:00:00.000000000",
          "2017-07-28T00:00:00.000000000",
          "2017-08-18T00:00:00.000000000",
          "2017-08-19T00:00:00.000000000",
          "2017-08-21T00:00:00.000000000",
          "2017-08-24T00:00:00.000000000",
          "2017-08-26T00:00:00.000000000",
          "2017-09-05T00:00:00.000000000",
          "2017-09-06T00:00:00.000000000",
          "2017-09-06T00:00:00.000000000",
          "2017-09-07T00:00:00.000000000",
          "2017-09-08T00:00:00.000000000",
          "2018-02-21T00:00:00.000000000",
          "2018-02-22T00:00:00.000000000",
          "2018-02-26T00:00:00.000000000",
          "2018-03-02T00:00:00.000000000",
          "2018-03-03T00:00:00.000000000",
          "2018-05-13T00:00:00.000000000",
          "2018-05-13T00:00:00.000000000",
          "2018-06-08T00:00:00.000000000",
          "2018-06-09T00:00:00.000000000",
          "2018-06-10T00:00:00.000000000",
          "2018-06-11T00:00:00.000000000",
          "2018-06-13T00:00:00.000000000",
          "2018-06-13T00:00:00.000000000",
          "2018-08-28T00:00:00.000000000",
          "2018-09-06T00:00:00.000000000",
          "2018-09-14T00:00:00.000000000",
          "2018-09-15T00:00:00.000000000",
          "2018-09-16T00:00:00.000000000",
          "2018-09-18T00:00:00.000000000",
          "2018-09-20T00:00:00.000000000",
          "2018-09-20T00:00:00.000000000",
          "2018-09-21T00:00:00.000000000",
          "2018-09-22T00:00:00.000000000",
          "2018-09-22T00:00:00.000000000",
          "2018-09-22T00:00:00.000000000",
          "2019-02-07T00:00:00.000000000",
          "2019-02-08T00:00:00.000000000",
          "2019-02-10T00:00:00.000000000",
          "2019-02-12T00:00:00.000000000",
          "2019-06-04T00:00:00.000000000",
          "2019-06-05T00:00:00.000000000",
          "2019-06-07T00:00:00.000000000",
          "2019-06-11T00:00:00.000000000",
          "2019-07-03T00:00:00.000000000",
          "2019-07-03T00:00:00.000000000",
          "2019-07-19T00:00:00.000000000",
          "2019-07-20T00:00:00.000000000",
          "2019-07-20T00:00:00.000000000",
          "2019-07-20T00:00:00.000000000",
          "2019-07-21T00:00:00.000000000",
          "2019-07-21T00:00:00.000000000",
          "2019-07-22T00:00:00.000000000",
          "2019-07-22T00:00:00.000000000",
          "2019-07-23T00:00:00.000000000",
          "2019-07-23T00:00:00.000000000",
          "2019-07-23T00:00:00.000000000",
          "2019-07-24T00:00:00.000000000",
          "2019-07-25T00:00:00.000000000",
          "2019-07-25T00:00:00.000000000",
          "2019-07-26T00:00:00.000000000",
          "2019-07-26T00:00:00.000000000",
          "2019-07-27T00:00:00.000000000",
          "2019-07-27T00:00:00.000000000",
          "2019-08-04T00:00:00.000000000",
          "2019-08-16T00:00:00.000000000",
          "2019-08-17T00:00:00.000000000",
          "2019-08-19T00:00:00.000000000",
          "2019-08-20T00:00:00.000000000",
          "2019-08-23T00:00:00.000000000",
          "2019-09-03T00:00:00.000000000",
          "2019-09-04T00:00:00.000000000",
          "2020-02-10T00:00:00.000000000",
          "2020-02-11T00:00:00.000000000",
          "2020-02-12T00:00:00.000000000",
          "2020-02-14T00:00:00.000000000",
          "2020-02-15T00:00:00.000000000",
          "2020-02-16T00:00:00.000000000",
          "2020-06-26T00:00:00.000000000",
          "2020-06-26T00:00:00.000000000",
          "2020-06-30T00:00:00.000000000",
          "2020-07-05T00:00:00.000000000",
          "2020-07-05T00:00:00.000000000",
          "2020-07-22T00:00:00.000000000",
          "2020-07-26T00:00:00.000000000",
          "2020-08-14T00:00:00.000000000",
          "2020-08-15T00:00:00.000000000",
          "2020-08-17T00:00:00.000000000",
          "2020-08-18T00:00:00.000000000",
          "2020-08-20T00:00:00.000000000",
          "2020-08-30T00:00:00.000000000",
          "2020-08-31T00:00:00.000000000"
         ],
         "xaxis": "x2",
         "yaxis": "y2"
        }
       ],
       "layout": {
        "barmode": "relative",
        "legend": {
         "tracegroupgap": 0
        },
        "template": {
         "data": {
          "bar": [
           {
            "error_x": {
             "color": "#2a3f5f"
            },
            "error_y": {
             "color": "#2a3f5f"
            },
            "marker": {
             "line": {
              "color": "#E5ECF6",
              "width": 0.5
             },
             "pattern": {
              "fillmode": "overlay",
              "size": 10,
              "solidity": 0.2
             }
            },
            "type": "bar"
           }
          ],
          "barpolar": [
           {
            "marker": {
             "line": {
              "color": "#E5ECF6",
              "width": 0.5
             },
             "pattern": {
              "fillmode": "overlay",
              "size": 10,
              "solidity": 0.2
             }
            },
            "type": "barpolar"
           }
          ],
          "carpet": [
           {
            "aaxis": {
             "endlinecolor": "#2a3f5f",
             "gridcolor": "white",
             "linecolor": "white",
             "minorgridcolor": "white",
             "startlinecolor": "#2a3f5f"
            },
            "baxis": {
             "endlinecolor": "#2a3f5f",
             "gridcolor": "white",
             "linecolor": "white",
             "minorgridcolor": "white",
             "startlinecolor": "#2a3f5f"
            },
            "type": "carpet"
           }
          ],
          "choropleth": [
           {
            "colorbar": {
             "outlinewidth": 0,
             "ticks": ""
            },
            "type": "choropleth"
           }
          ],
          "contour": [
           {
            "colorbar": {
             "outlinewidth": 0,
             "ticks": ""
            },
            "colorscale": [
             [
              0,
              "#0d0887"
             ],
             [
              0.1111111111111111,
              "#46039f"
             ],
             [
              0.2222222222222222,
              "#7201a8"
             ],
             [
              0.3333333333333333,
              "#9c179e"
             ],
             [
              0.4444444444444444,
              "#bd3786"
             ],
             [
              0.5555555555555556,
              "#d8576b"
             ],
             [
              0.6666666666666666,
              "#ed7953"
             ],
             [
              0.7777777777777778,
              "#fb9f3a"
             ],
             [
              0.8888888888888888,
              "#fdca26"
             ],
             [
              1,
              "#f0f921"
             ]
            ],
            "type": "contour"
           }
          ],
          "contourcarpet": [
           {
            "colorbar": {
             "outlinewidth": 0,
             "ticks": ""
            },
            "type": "contourcarpet"
           }
          ],
          "heatmap": [
           {
            "colorbar": {
             "outlinewidth": 0,
             "ticks": ""
            },
            "colorscale": [
             [
              0,
              "#0d0887"
             ],
             [
              0.1111111111111111,
              "#46039f"
             ],
             [
              0.2222222222222222,
              "#7201a8"
             ],
             [
              0.3333333333333333,
              "#9c179e"
             ],
             [
              0.4444444444444444,
              "#bd3786"
             ],
             [
              0.5555555555555556,
              "#d8576b"
             ],
             [
              0.6666666666666666,
              "#ed7953"
             ],
             [
              0.7777777777777778,
              "#fb9f3a"
             ],
             [
              0.8888888888888888,
              "#fdca26"
             ],
             [
              1,
              "#f0f921"
             ]
            ],
            "type": "heatmap"
           }
          ],
          "histogram": [
           {
            "marker": {
             "pattern": {
              "fillmode": "overlay",
              "size": 10,
              "solidity": 0.2
             }
            },
            "type": "histogram"
           }
          ],
          "histogram2d": [
           {
            "colorbar": {
             "outlinewidth": 0,
             "ticks": ""
            },
            "colorscale": [
             [
              0,
              "#0d0887"
             ],
             [
              0.1111111111111111,
              "#46039f"
             ],
             [
              0.2222222222222222,
              "#7201a8"
             ],
             [
              0.3333333333333333,
              "#9c179e"
             ],
             [
              0.4444444444444444,
              "#bd3786"
             ],
             [
              0.5555555555555556,
              "#d8576b"
             ],
             [
              0.6666666666666666,
              "#ed7953"
             ],
             [
              0.7777777777777778,
              "#fb9f3a"
             ],
             [
              0.8888888888888888,
              "#fdca26"
             ],
             [
              1,
              "#f0f921"
             ]
            ],
            "type": "histogram2d"
           }
          ],
          "histogram2dcontour": [
           {
            "colorbar": {
             "outlinewidth": 0,
             "ticks": ""
            },
            "colorscale": [
             [
              0,
              "#0d0887"
             ],
             [
              0.1111111111111111,
              "#46039f"
             ],
             [
              0.2222222222222222,
              "#7201a8"
             ],
             [
              0.3333333333333333,
              "#9c179e"
             ],
             [
              0.4444444444444444,
              "#bd3786"
             ],
             [
              0.5555555555555556,
              "#d8576b"
             ],
             [
              0.6666666666666666,
              "#ed7953"
             ],
             [
              0.7777777777777778,
              "#fb9f3a"
             ],
             [
              0.8888888888888888,
              "#fdca26"
             ],
             [
              1,
              "#f0f921"
             ]
            ],
            "type": "histogram2dcontour"
           }
          ],
          "mesh3d": [
           {
            "colorbar": {
             "outlinewidth": 0,
             "ticks": ""
            },
            "type": "mesh3d"
           }
          ],
          "parcoords": [
           {
            "line": {
             "colorbar": {
              "outlinewidth": 0,
              "ticks": ""
             }
            },
            "type": "parcoords"
           }
          ],
          "pie": [
           {
            "automargin": true,
            "type": "pie"
           }
          ],
          "scatter": [
           {
            "fillpattern": {
             "fillmode": "overlay",
             "size": 10,
             "solidity": 0.2
            },
            "type": "scatter"
           }
          ],
          "scatter3d": [
           {
            "line": {
             "colorbar": {
              "outlinewidth": 0,
              "ticks": ""
             }
            },
            "marker": {
             "colorbar": {
              "outlinewidth": 0,
              "ticks": ""
             }
            },
            "type": "scatter3d"
           }
          ],
          "scattercarpet": [
           {
            "marker": {
             "colorbar": {
              "outlinewidth": 0,
              "ticks": ""
             }
            },
            "type": "scattercarpet"
           }
          ],
          "scattergeo": [
           {
            "marker": {
             "colorbar": {
              "outlinewidth": 0,
              "ticks": ""
             }
            },
            "type": "scattergeo"
           }
          ],
          "scattergl": [
           {
            "marker": {
             "colorbar": {
              "outlinewidth": 0,
              "ticks": ""
             }
            },
            "type": "scattergl"
           }
          ],
          "scattermap": [
           {
            "marker": {
             "colorbar": {
              "outlinewidth": 0,
              "ticks": ""
             }
            },
            "type": "scattermap"
           }
          ],
          "scattermapbox": [
           {
            "marker": {
             "colorbar": {
              "outlinewidth": 0,
              "ticks": ""
             }
            },
            "type": "scattermapbox"
           }
          ],
          "scatterpolar": [
           {
            "marker": {
             "colorbar": {
              "outlinewidth": 0,
              "ticks": ""
             }
            },
            "type": "scatterpolar"
           }
          ],
          "scatterpolargl": [
           {
            "marker": {
             "colorbar": {
              "outlinewidth": 0,
              "ticks": ""
             }
            },
            "type": "scatterpolargl"
           }
          ],
          "scatterternary": [
           {
            "marker": {
             "colorbar": {
              "outlinewidth": 0,
              "ticks": ""
             }
            },
            "type": "scatterternary"
           }
          ],
          "surface": [
           {
            "colorbar": {
             "outlinewidth": 0,
             "ticks": ""
            },
            "colorscale": [
             [
              0,
              "#0d0887"
             ],
             [
              0.1111111111111111,
              "#46039f"
             ],
             [
              0.2222222222222222,
              "#7201a8"
             ],
             [
              0.3333333333333333,
              "#9c179e"
             ],
             [
              0.4444444444444444,
              "#bd3786"
             ],
             [
              0.5555555555555556,
              "#d8576b"
             ],
             [
              0.6666666666666666,
              "#ed7953"
             ],
             [
              0.7777777777777778,
              "#fb9f3a"
             ],
             [
              0.8888888888888888,
              "#fdca26"
             ],
             [
              1,
              "#f0f921"
             ]
            ],
            "type": "surface"
           }
          ],
          "table": [
           {
            "cells": {
             "fill": {
              "color": "#EBF0F8"
             },
             "line": {
              "color": "white"
             }
            },
            "header": {
             "fill": {
              "color": "#C8D4E3"
             },
             "line": {
              "color": "white"
             }
            },
            "type": "table"
           }
          ]
         },
         "layout": {
          "annotationdefaults": {
           "arrowcolor": "#2a3f5f",
           "arrowhead": 0,
           "arrowwidth": 1
          },
          "autotypenumbers": "strict",
          "coloraxis": {
           "colorbar": {
            "outlinewidth": 0,
            "ticks": ""
           }
          },
          "colorscale": {
           "diverging": [
            [
             0,
             "#8e0152"
            ],
            [
             0.1,
             "#c51b7d"
            ],
            [
             0.2,
             "#de77ae"
            ],
            [
             0.3,
             "#f1b6da"
            ],
            [
             0.4,
             "#fde0ef"
            ],
            [
             0.5,
             "#f7f7f7"
            ],
            [
             0.6,
             "#e6f5d0"
            ],
            [
             0.7,
             "#b8e186"
            ],
            [
             0.8,
             "#7fbc41"
            ],
            [
             0.9,
             "#4d9221"
            ],
            [
             1,
             "#276419"
            ]
           ],
           "sequential": [
            [
             0,
             "#0d0887"
            ],
            [
             0.1111111111111111,
             "#46039f"
            ],
            [
             0.2222222222222222,
             "#7201a8"
            ],
            [
             0.3333333333333333,
             "#9c179e"
            ],
            [
             0.4444444444444444,
             "#bd3786"
            ],
            [
             0.5555555555555556,
             "#d8576b"
            ],
            [
             0.6666666666666666,
             "#ed7953"
            ],
            [
             0.7777777777777778,
             "#fb9f3a"
            ],
            [
             0.8888888888888888,
             "#fdca26"
            ],
            [
             1,
             "#f0f921"
            ]
           ],
           "sequentialminus": [
            [
             0,
             "#0d0887"
            ],
            [
             0.1111111111111111,
             "#46039f"
            ],
            [
             0.2222222222222222,
             "#7201a8"
            ],
            [
             0.3333333333333333,
             "#9c179e"
            ],
            [
             0.4444444444444444,
             "#bd3786"
            ],
            [
             0.5555555555555556,
             "#d8576b"
            ],
            [
             0.6666666666666666,
             "#ed7953"
            ],
            [
             0.7777777777777778,
             "#fb9f3a"
            ],
            [
             0.8888888888888888,
             "#fdca26"
            ],
            [
             1,
             "#f0f921"
            ]
           ]
          },
          "colorway": [
           "#636efa",
           "#EF553B",
           "#00cc96",
           "#ab63fa",
           "#FFA15A",
           "#19d3f3",
           "#FF6692",
           "#B6E880",
           "#FF97FF",
           "#FECB52"
          ],
          "font": {
           "color": "#2a3f5f"
          },
          "geo": {
           "bgcolor": "white",
           "lakecolor": "white",
           "landcolor": "#E5ECF6",
           "showlakes": true,
           "showland": true,
           "subunitcolor": "white"
          },
          "hoverlabel": {
           "align": "left"
          },
          "hovermode": "closest",
          "mapbox": {
           "style": "light"
          },
          "paper_bgcolor": "white",
          "plot_bgcolor": "#E5ECF6",
          "polar": {
           "angularaxis": {
            "gridcolor": "white",
            "linecolor": "white",
            "ticks": ""
           },
           "bgcolor": "#E5ECF6",
           "radialaxis": {
            "gridcolor": "white",
            "linecolor": "white",
            "ticks": ""
           }
          },
          "scene": {
           "xaxis": {
            "backgroundcolor": "#E5ECF6",
            "gridcolor": "white",
            "gridwidth": 2,
            "linecolor": "white",
            "showbackground": true,
            "ticks": "",
            "zerolinecolor": "white"
           },
           "yaxis": {
            "backgroundcolor": "#E5ECF6",
            "gridcolor": "white",
            "gridwidth": 2,
            "linecolor": "white",
            "showbackground": true,
            "ticks": "",
            "zerolinecolor": "white"
           },
           "zaxis": {
            "backgroundcolor": "#E5ECF6",
            "gridcolor": "white",
            "gridwidth": 2,
            "linecolor": "white",
            "showbackground": true,
            "ticks": "",
            "zerolinecolor": "white"
           }
          },
          "shapedefaults": {
           "line": {
            "color": "#2a3f5f"
           }
          },
          "ternary": {
           "aaxis": {
            "gridcolor": "white",
            "linecolor": "white",
            "ticks": ""
           },
           "baxis": {
            "gridcolor": "white",
            "linecolor": "white",
            "ticks": ""
           },
           "bgcolor": "#E5ECF6",
           "caxis": {
            "gridcolor": "white",
            "linecolor": "white",
            "ticks": ""
           }
          },
          "title": {
           "x": 0.05
          },
          "xaxis": {
           "automargin": true,
           "gridcolor": "white",
           "linecolor": "white",
           "ticks": "",
           "title": {
            "standoff": 15
           },
           "zerolinecolor": "white",
           "zerolinewidth": 2
          },
          "yaxis": {
           "automargin": true,
           "gridcolor": "white",
           "linecolor": "white",
           "ticks": "",
           "title": {
            "standoff": 15
           },
           "zerolinecolor": "white",
           "zerolinewidth": 2
          }
         }
        },
        "title": {
         "text": "Number of entries per time"
        },
        "xaxis": {
         "anchor": "y",
         "domain": [
          0,
          1
         ],
         "title": {
          "text": "Time"
         }
        },
        "xaxis2": {
         "anchor": "y2",
         "domain": [
          0,
          1
         ],
         "matches": "x",
         "showgrid": true,
         "showticklabels": false
        },
        "yaxis": {
         "anchor": "x",
         "domain": [
          0,
          0.8316
         ],
         "title": {
          "text": "count"
         }
        },
        "yaxis2": {
         "anchor": "x2",
         "domain": [
          0.8416,
          1
         ],
         "matches": "y2",
         "showgrid": false,
         "showline": false,
         "showticklabels": false,
         "ticks": ""
        }
       }
      }
     },
     "metadata": {},
     "output_type": "display_data"
    }
   ],
   "source": [
    "px.histogram(\n",
    "    index,\n",
    "    x=\"time\",\n",
    "    title=\"Number of entries per time\",\n",
    "    labels=dict(\n",
    "        time=\"Time\",\n",
    "        count=\"Number of entries\",\n",
    "    ),\n",
    "    marginal=\"box\",\n",
    ")"
   ]
  },
  {
   "cell_type": "code",
   "execution_count": 10,
   "metadata": {},
   "outputs": [
    {
     "data": {
      "application/vnd.plotly.v1+json": {
       "config": {
        "plotlyServerURL": "https://plot.ly"
       },
       "data": [
        {
         "bingroup": "x",
         "hovertemplate": "Twilight=%{x}<br>count=%{y}<extra></extra>",
         "legendgroup": "",
         "marker": {
          "color": "#636efa",
          "pattern": {
           "shape": ""
          }
         },
         "name": "",
         "orientation": "v",
         "showlegend": false,
         "type": "histogram",
         "x": [
          "Daylight",
          "Night",
          "Daylight",
          "Night",
          "Night",
          "Night",
          "Night",
          "Night",
          "Night",
          "Daylight",
          "Night",
          "Night",
          "Night",
          "Night",
          "Night",
          "Night",
          "Daylight",
          "Daylight",
          "Daylight",
          "Daylight",
          "Daylight",
          "Daylight",
          "Daylight",
          "Daylight",
          "Daylight",
          "Daylight",
          "Daylight",
          "Daylight",
          "Daylight",
          "Daylight",
          "Daylight",
          "Daylight",
          "Daylight",
          "Daylight",
          "Daylight",
          "Daylight",
          "Daylight",
          "Daylight",
          "Daylight",
          "Daylight",
          "Daylight",
          "Daylight",
          "Daylight",
          "Daylight",
          "Daylight",
          "Daylight",
          "Daylight",
          "Daylight",
          "Daylight",
          "Night",
          "Night",
          "Night",
          "Daylight",
          "Daylight",
          "Daylight",
          "Daylight",
          "Daylight",
          "Daylight",
          "Daylight",
          "Daylight",
          "Daylight",
          "Daylight",
          "Daylight",
          "Daylight",
          "Daylight",
          "Daylight",
          "Daylight",
          "Daylight",
          "Daylight",
          "Daylight",
          "Daylight",
          "Daylight",
          "Daylight",
          "Daylight",
          "Daylight",
          "Daylight",
          "Daylight",
          "Daylight",
          "Daylight",
          "Daylight",
          "Night",
          "Night",
          "Daylight",
          "Daylight",
          "Daylight",
          "Daylight",
          "Daylight",
          "Daylight",
          "Daylight",
          "Daylight",
          "Daylight",
          "Daylight",
          "Daylight",
          "Daylight",
          "Daylight",
          "Daylight",
          "Daylight",
          "Daylight",
          "Daylight",
          "Daylight",
          "Daylight",
          "Daylight",
          "Daylight",
          "Night",
          "Night",
          "Daylight",
          "Night",
          "Daylight",
          "Daylight",
          "Daylight",
          "Daylight",
          "Night",
          "Daylight",
          "Daylight",
          "Daylight",
          "Night",
          "Night",
          "Daylight",
          "Night",
          "Daylight",
          "Daylight",
          "Daylight",
          "Daylight",
          "Daylight",
          "Daylight",
          "Daylight",
          "Daylight",
          "Daylight",
          "Daylight",
          "Daylight",
          "Daylight",
          "Daylight",
          "Daylight",
          "Daylight",
          "Daylight",
          "Daylight",
          "Daylight",
          "Daylight",
          "Night",
          "Night",
          "Night",
          "Daylight",
          "Night",
          "Daylight",
          "Daylight",
          "Daylight",
          "Daylight",
          "Daylight",
          "Daylight",
          "Daylight",
          "Daylight",
          "Daylight",
          "Daylight",
          "Daylight",
          "Daylight",
          "Daylight",
          "Daylight",
          "Daylight",
          "Daylight",
          "Daylight",
          "Daylight",
          "Daylight",
          "Daylight",
          "Daylight",
          "Daylight",
          "Daylight",
          "Night",
          "Daylight",
          "Night",
          "Daylight",
          "Night",
          "Night",
          "Night",
          "Daylight",
          "Daylight",
          "Daylight",
          "Daylight",
          "Night",
          "Night",
          "Night",
          "Night",
          "Night",
          "Night",
          "Night",
          "Night",
          "Daylight",
          "Daylight",
          "Daylight",
          "Daylight",
          "Daylight",
          "Daylight",
          "Daylight",
          "Daylight",
          "Daylight",
          "Daylight",
          "Daylight",
          "Daylight",
          "Daylight",
          "Daylight",
          "Daylight",
          "Daylight",
          "Daylight",
          "Daylight",
          "Daylight",
          "Daylight",
          "Daylight",
          "Daylight",
          "Daylight",
          "Daylight",
          "Daylight",
          "Daylight",
          "Daylight",
          "Daylight",
          "Daylight",
          "Daylight",
          "Daylight",
          "Daylight",
          "Daylight",
          "Daylight",
          "Daylight",
          "Daylight",
          "Daylight",
          "Daylight",
          "Daylight",
          "Daylight",
          "Daylight",
          "Daylight",
          "Daylight",
          "Daylight",
          "Daylight",
          "Daylight",
          "Daylight",
          "Daylight",
          "Daylight",
          "Daylight",
          "Daylight",
          "Night",
          "Night",
          "Daylight",
          "Daylight",
          "Daylight",
          "Daylight",
          "Daylight",
          "Daylight",
          "Daylight",
          "Night",
          "Night",
          "Night",
          "Night",
          "Daylight",
          "Daylight",
          "Night",
          "Night",
          "Night",
          "Night",
          "Daylight",
          "Daylight",
          "Daylight",
          "Night",
          "Daylight",
          "Night",
          "Night",
          "Daylight",
          "Night",
          "Daylight",
          "Daylight",
          "Daylight",
          "Daylight",
          "Daylight",
          "Daylight",
          "Night",
          "Daylight",
          "Daylight",
          "Daylight",
          "Daylight",
          "Night",
          "Night",
          "Daylight",
          "Daylight",
          "Daylight",
          "Daylight",
          "Daylight",
          "Daylight",
          "Daylight",
          "Daylight",
          "Daylight",
          "Daylight",
          "Daylight",
          "Daylight",
          "Daylight",
          "Daylight",
          "Daylight",
          "Daylight",
          "Daylight",
          "Daylight",
          "Daylight",
          "Daylight",
          "Daylight",
          "Daylight",
          "Daylight",
          "Daylight",
          "Daylight",
          "Daylight",
          "Daylight",
          "Daylight",
          "Daylight",
          "Daylight",
          "Daylight",
          "Daylight",
          "Daylight",
          "Daylight",
          "Daylight",
          "Daylight",
          "Daylight",
          "Daylight",
          "Daylight",
          "Daylight",
          "Daylight",
          "Daylight",
          "Daylight",
          "Daylight",
          "Daylight",
          "Night",
          "Night",
          "Night",
          "Night",
          "Night",
          "Daylight",
          "Night",
          "Daylight",
          "Night",
          "Daylight",
          "Daylight",
          "Night",
          "Daylight",
          "Night",
          "Night",
          "Night",
          "Daylight",
          "Night",
          "Daylight",
          "Night",
          "Night",
          "Night",
          "Daylight",
          "Daylight",
          "Night",
          "Daylight",
          "Daylight",
          "Daylight",
          "Daylight",
          "Daylight",
          "Daylight",
          "Night",
          "Night",
          "Night",
          "Night",
          "Night",
          "Night",
          "Night",
          "Night",
          "Night",
          "Night",
          "Night",
          "Night",
          "Daylight",
          "Daylight",
          "Daylight",
          "Daylight",
          "Daylight",
          "Daylight",
          "Daylight",
          "Daylight",
          "Daylight",
          "Daylight",
          "Daylight",
          "Daylight",
          "Daylight",
          "Daylight",
          "Daylight",
          "Daylight",
          "Daylight",
          "Daylight",
          "Daylight",
          "Daylight",
          "Daylight",
          "Daylight",
          "Daylight",
          "Daylight",
          "Daylight",
          "Daylight",
          "Daylight",
          "Daylight",
          "Daylight",
          "Daylight",
          "Daylight",
          "Daylight",
          "Daylight",
          "Daylight",
          "Night",
          "Night",
          "Daylight",
          "Daylight",
          "Daylight",
          "Daylight",
          "Night",
          "Daylight",
          "Daylight",
          "Daylight",
          "Daylight",
          "Daylight",
          "Night",
          "Night",
          "Night",
          "Night",
          "Night",
          "Daylight",
          "Night",
          "Daylight",
          "Night",
          "Night",
          "Night",
          "Daylight",
          "Daylight",
          "Night",
          "Night",
          "Night",
          "Night",
          "Daylight",
          "Daylight",
          "Daylight",
          "Daylight",
          "Daylight",
          "Night",
          "Daylight",
          "Night",
          "Daylight",
          "Night",
          "Night",
          "Daylight",
          "Daylight",
          "Daylight",
          "Daylight",
          "Daylight",
          "Daylight",
          "Daylight",
          "Night",
          "Daylight",
          "Daylight",
          "Daylight",
          "Daylight",
          "Night",
          "Night",
          "Daylight",
          "Daylight",
          "Daylight",
          "Daylight",
          "Daylight",
          "Night",
          "Night",
          "Daylight",
          "Daylight",
          "Daylight",
          "Daylight",
          "Daylight",
          "Daylight",
          "Daylight",
          "Night",
          "Daylight",
          "Daylight",
          "Daylight",
          "Night",
          "Daylight",
          "Daylight",
          "Night",
          "Daylight",
          "Daylight",
          "Daylight",
          "Night",
          "Night",
          "Night",
          "Night",
          "Night",
          "Daylight",
          "Daylight",
          "Daylight",
          "Daylight",
          "Daylight",
          "Daylight",
          "Daylight",
          "Daylight",
          "Daylight",
          "Daylight",
          "Daylight",
          "Daylight",
          "Daylight",
          "Daylight",
          "Daylight",
          "Daylight",
          "Daylight",
          "Daylight",
          "Daylight",
          "Daylight",
          "Night",
          "Daylight",
          "Daylight",
          "Daylight",
          "Daylight",
          "Daylight",
          "Daylight",
          "Daylight",
          "Night",
          "Daylight",
          "Daylight",
          "Daylight",
          "Daylight",
          "Night",
          "Night",
          "Daylight",
          "Daylight",
          "Daylight",
          "Night",
          "Night",
          "Daylight",
          "Daylight",
          "Daylight",
          "Night",
          "Night",
          "Night",
          "Daylight",
          "Daylight",
          "Daylight",
          "Daylight",
          "Daylight",
          "Daylight",
          "Daylight",
          "Daylight",
          "Daylight",
          "Daylight",
          "Daylight",
          "Daylight",
          "Daylight",
          "Daylight",
          "Daylight",
          "Daylight",
          "Daylight",
          "Daylight",
          "Daylight",
          "Daylight",
          "Daylight",
          "Daylight",
          "Daylight",
          "Daylight",
          "Daylight",
          "Daylight",
          "Daylight",
          "Night",
          "Daylight",
          "Daylight",
          "Daylight",
          "Daylight",
          "Daylight",
          "Daylight",
          "Daylight",
          "Daylight",
          "Daylight",
          "Night",
          "Night",
          "Night",
          "Daylight",
          "Night",
          "Night",
          "Daylight",
          "Daylight",
          "Daylight",
          "Daylight",
          "Daylight",
          "Daylight",
          "Night",
          "Daylight",
          "Daylight",
          "Daylight",
          "Daylight",
          "Daylight",
          "Daylight",
          "Daylight",
          "Daylight",
          "Daylight",
          "Daylight",
          "Daylight",
          "Daylight",
          "Daylight",
          "Daylight",
          "Daylight",
          "Daylight",
          "Daylight",
          "Daylight",
          "Daylight",
          "Daylight",
          "Daylight",
          "Daylight",
          "Night",
          "Daylight",
          "Daylight",
          "Daylight",
          "Daylight",
          "Daylight",
          "Daylight",
          "Daylight",
          "Daylight",
          "Daylight",
          "Daylight",
          "Night",
          "Daylight",
          "Night",
          "Night",
          "Night",
          "Night",
          "Night",
          "Night",
          "Daylight",
          "Night",
          "Night",
          "Night",
          "Daylight",
          "Daylight",
          "Daylight",
          "Daylight",
          "Daylight",
          "Daylight",
          "Daylight",
          "Daylight",
          "Daylight",
          "Daylight",
          "Night",
          "Daylight",
          "Daylight",
          "Daylight",
          "Daylight",
          "Daylight",
          "Daylight",
          "Night",
          "Daylight",
          "Daylight",
          "Daylight",
          "Night",
          "Daylight",
          "Daylight",
          "Night",
          "Daylight",
          "Daylight",
          "Daylight",
          "Daylight",
          "Daylight",
          "Night",
          "Night",
          "Daylight",
          "Daylight",
          "Night",
          "Daylight",
          "Daylight",
          "Night",
          "Daylight",
          "Daylight",
          "Daylight",
          "Daylight",
          "Night",
          "Daylight",
          "Daylight",
          "Daylight",
          "Daylight",
          "Daylight",
          "Night",
          "Night",
          "Daylight",
          "Daylight",
          "Daylight",
          "Daylight",
          "Daylight",
          "Daylight",
          "Daylight",
          "Daylight",
          "Night",
          "Night",
          "Daylight",
          "Night",
          "Daylight",
          "Night",
          "Daylight",
          "Daylight",
          "Night",
          "Daylight",
          "Daylight",
          "Night",
          "Daylight",
          "Daylight",
          "Daylight",
          "Night",
          "Daylight",
          "Daylight",
          "Daylight",
          "Daylight",
          "Daylight",
          "Night",
          "Daylight",
          "Night",
          "Daylight",
          "Night",
          "Daylight",
          "Daylight",
          "Night",
          "Daylight",
          "Daylight",
          "Daylight",
          "Daylight",
          "Night",
          "Daylight",
          "Daylight",
          "Night",
          "Daylight",
          "Daylight",
          "Daylight",
          "Daylight",
          "Night",
          "Night",
          "Night",
          "Night",
          "Night",
          "Daylight",
          "Daylight",
          "Daylight",
          "Daylight",
          "Daylight",
          "Daylight",
          "Daylight",
          "Daylight",
          "Daylight",
          "Daylight",
          "Daylight",
          "Daylight",
          "Daylight",
          "Daylight",
          "Daylight",
          "Daylight",
          "Daylight",
          "Daylight",
          "Daylight",
          "Daylight",
          "Daylight",
          "Daylight",
          "Daylight",
          "Daylight",
          "Daylight",
          "Daylight",
          "Daylight",
          "Daylight",
          "Daylight",
          "Daylight",
          "Daylight",
          "Daylight",
          "Daylight",
          "Night",
          "Daylight",
          "Night",
          "Night",
          "Daylight",
          "Night",
          "Night",
          "Night",
          "Daylight",
          "Daylight",
          "Daylight",
          "Night",
          "Night",
          "Daylight",
          "Daylight",
          "Daylight",
          "Daylight",
          "Night",
          "Daylight",
          "Daylight",
          "Night",
          "Daylight",
          "Daylight",
          "Daylight",
          "Daylight",
          "Daylight",
          "Night",
          "Night",
          "Daylight",
          "Night",
          "Daylight",
          "Daylight",
          "Daylight",
          "Daylight",
          "Daylight",
          "Night",
          "Daylight",
          "Daylight",
          "Daylight",
          "Night",
          "Daylight",
          "Night",
          "Daylight",
          "Daylight",
          "Daylight",
          "Daylight",
          "Daylight",
          "Daylight",
          "Daylight",
          "Daylight",
          "Daylight",
          "Daylight",
          "Daylight",
          "Night",
          "Night",
          "Night",
          "Daylight",
          "Daylight",
          "Daylight",
          "Daylight",
          "Daylight",
          "Daylight",
          "Daylight",
          "Night",
          "Daylight",
          "Daylight",
          "Daylight",
          "Daylight",
          "Daylight",
          "Daylight",
          "Daylight",
          "Night",
          "Night",
          "Daylight",
          "Daylight",
          "Daylight",
          "Daylight",
          "Daylight",
          "Daylight",
          "Daylight",
          "Daylight",
          "Daylight",
          "Daylight",
          "Daylight",
          "Night",
          "Night",
          "Daylight",
          "Daylight",
          "Night",
          "Daylight",
          "Night",
          "Daylight",
          "Night",
          "Night",
          "Daylight",
          "Daylight",
          "Daylight",
          "Daylight",
          "Daylight",
          "Daylight",
          "Daylight",
          "Daylight",
          "Daylight",
          "Night",
          "Daylight",
          "Daylight",
          "Daylight",
          "Daylight",
          "Night",
          "Night",
          "Daylight",
          "Night",
          "Night",
          "Night",
          "Night",
          "Daylight",
          "Daylight",
          "Daylight",
          "Night",
          "Night",
          "Night",
          "Daylight",
          "Daylight",
          "Night",
          "Daylight",
          "Daylight",
          "Night",
          "Daylight",
          "Night",
          "Night",
          "Daylight",
          "Night",
          "Daylight",
          "Daylight",
          "Daylight",
          "Night",
          "Daylight",
          "Night",
          "Daylight",
          "Daylight",
          "Night",
          "Daylight",
          "Daylight",
          "Daylight",
          "Daylight",
          "Daylight",
          "Night",
          "Daylight",
          "Daylight",
          "Daylight",
          "Night",
          "Daylight",
          "Daylight",
          "Daylight",
          "Daylight",
          "Daylight",
          "Daylight",
          "Night",
          "Daylight",
          "Daylight",
          "Daylight",
          "Daylight",
          "Night",
          "Daylight",
          "Night",
          "Daylight",
          "Night",
          "Night",
          "Daylight",
          "Daylight",
          "Night",
          "Night",
          "Daylight",
          "Daylight",
          "Daylight",
          "Night",
          "Night",
          "Daylight",
          "Daylight",
          "Daylight",
          "Daylight",
          "Daylight",
          "Daylight",
          "Daylight",
          "Night",
          "Daylight",
          "Night",
          "Daylight",
          "Daylight",
          "Daylight",
          "Daylight",
          "Night",
          "Daylight",
          "Night",
          "Daylight",
          "Daylight",
          "Night",
          "Daylight",
          "Daylight",
          "Night",
          "Night",
          "Daylight",
          "Night",
          "Daylight",
          "Daylight",
          "Night",
          "Night",
          "Daylight",
          "Night",
          "Night",
          "Daylight",
          "Daylight",
          "Night",
          "Daylight",
          "Night",
          "Night",
          "Night",
          "Daylight",
          "Daylight",
          "Night",
          "Night",
          "Daylight",
          "Night",
          "Daylight",
          "Daylight",
          "Daylight",
          "Daylight",
          "Daylight",
          "Daylight",
          "Daylight",
          "Daylight",
          "Daylight",
          "Daylight",
          "Night",
          "Daylight",
          "Daylight",
          "Daylight",
          "Daylight",
          "Daylight",
          "Night",
          "Daylight",
          "Daylight",
          "Daylight",
          "Daylight",
          "Daylight",
          "Daylight",
          "Daylight",
          "Daylight",
          "Night",
          "Daylight",
          "Daylight",
          "Daylight",
          "Night",
          "Night",
          "Night",
          "Daylight",
          "Daylight",
          "Daylight",
          "Daylight",
          "Daylight",
          "Daylight",
          "Night",
          "Night",
          "Night",
          "Daylight",
          "Daylight",
          "Daylight",
          "Daylight",
          "Daylight",
          "Daylight",
          "Daylight",
          "Night",
          "Daylight",
          "Night",
          "Night",
          "Daylight",
          "Night",
          "Daylight",
          "Night",
          "Daylight",
          "Daylight",
          "Night",
          "Daylight",
          "Daylight",
          "Daylight",
          "Daylight",
          "Night",
          "Daylight",
          "Daylight",
          "Daylight",
          "Daylight",
          "Night",
          "Night",
          "Daylight",
          "Daylight",
          "Daylight",
          "Night",
          "Night",
          "Night",
          "Night",
          "Night",
          "Daylight",
          "Daylight",
          "Daylight",
          "Daylight",
          "Daylight",
          "Daylight",
          "Daylight",
          "Daylight",
          "Daylight",
          "Daylight",
          "Night",
          "Night",
          "Night",
          "Daylight",
          "Daylight"
         ],
         "xaxis": "x",
         "yaxis": "y"
        }
       ],
       "layout": {
        "barmode": "relative",
        "legend": {
         "tracegroupgap": 0
        },
        "template": {
         "data": {
          "bar": [
           {
            "error_x": {
             "color": "#2a3f5f"
            },
            "error_y": {
             "color": "#2a3f5f"
            },
            "marker": {
             "line": {
              "color": "#E5ECF6",
              "width": 0.5
             },
             "pattern": {
              "fillmode": "overlay",
              "size": 10,
              "solidity": 0.2
             }
            },
            "type": "bar"
           }
          ],
          "barpolar": [
           {
            "marker": {
             "line": {
              "color": "#E5ECF6",
              "width": 0.5
             },
             "pattern": {
              "fillmode": "overlay",
              "size": 10,
              "solidity": 0.2
             }
            },
            "type": "barpolar"
           }
          ],
          "carpet": [
           {
            "aaxis": {
             "endlinecolor": "#2a3f5f",
             "gridcolor": "white",
             "linecolor": "white",
             "minorgridcolor": "white",
             "startlinecolor": "#2a3f5f"
            },
            "baxis": {
             "endlinecolor": "#2a3f5f",
             "gridcolor": "white",
             "linecolor": "white",
             "minorgridcolor": "white",
             "startlinecolor": "#2a3f5f"
            },
            "type": "carpet"
           }
          ],
          "choropleth": [
           {
            "colorbar": {
             "outlinewidth": 0,
             "ticks": ""
            },
            "type": "choropleth"
           }
          ],
          "contour": [
           {
            "colorbar": {
             "outlinewidth": 0,
             "ticks": ""
            },
            "colorscale": [
             [
              0,
              "#0d0887"
             ],
             [
              0.1111111111111111,
              "#46039f"
             ],
             [
              0.2222222222222222,
              "#7201a8"
             ],
             [
              0.3333333333333333,
              "#9c179e"
             ],
             [
              0.4444444444444444,
              "#bd3786"
             ],
             [
              0.5555555555555556,
              "#d8576b"
             ],
             [
              0.6666666666666666,
              "#ed7953"
             ],
             [
              0.7777777777777778,
              "#fb9f3a"
             ],
             [
              0.8888888888888888,
              "#fdca26"
             ],
             [
              1,
              "#f0f921"
             ]
            ],
            "type": "contour"
           }
          ],
          "contourcarpet": [
           {
            "colorbar": {
             "outlinewidth": 0,
             "ticks": ""
            },
            "type": "contourcarpet"
           }
          ],
          "heatmap": [
           {
            "colorbar": {
             "outlinewidth": 0,
             "ticks": ""
            },
            "colorscale": [
             [
              0,
              "#0d0887"
             ],
             [
              0.1111111111111111,
              "#46039f"
             ],
             [
              0.2222222222222222,
              "#7201a8"
             ],
             [
              0.3333333333333333,
              "#9c179e"
             ],
             [
              0.4444444444444444,
              "#bd3786"
             ],
             [
              0.5555555555555556,
              "#d8576b"
             ],
             [
              0.6666666666666666,
              "#ed7953"
             ],
             [
              0.7777777777777778,
              "#fb9f3a"
             ],
             [
              0.8888888888888888,
              "#fdca26"
             ],
             [
              1,
              "#f0f921"
             ]
            ],
            "type": "heatmap"
           }
          ],
          "histogram": [
           {
            "marker": {
             "pattern": {
              "fillmode": "overlay",
              "size": 10,
              "solidity": 0.2
             }
            },
            "type": "histogram"
           }
          ],
          "histogram2d": [
           {
            "colorbar": {
             "outlinewidth": 0,
             "ticks": ""
            },
            "colorscale": [
             [
              0,
              "#0d0887"
             ],
             [
              0.1111111111111111,
              "#46039f"
             ],
             [
              0.2222222222222222,
              "#7201a8"
             ],
             [
              0.3333333333333333,
              "#9c179e"
             ],
             [
              0.4444444444444444,
              "#bd3786"
             ],
             [
              0.5555555555555556,
              "#d8576b"
             ],
             [
              0.6666666666666666,
              "#ed7953"
             ],
             [
              0.7777777777777778,
              "#fb9f3a"
             ],
             [
              0.8888888888888888,
              "#fdca26"
             ],
             [
              1,
              "#f0f921"
             ]
            ],
            "type": "histogram2d"
           }
          ],
          "histogram2dcontour": [
           {
            "colorbar": {
             "outlinewidth": 0,
             "ticks": ""
            },
            "colorscale": [
             [
              0,
              "#0d0887"
             ],
             [
              0.1111111111111111,
              "#46039f"
             ],
             [
              0.2222222222222222,
              "#7201a8"
             ],
             [
              0.3333333333333333,
              "#9c179e"
             ],
             [
              0.4444444444444444,
              "#bd3786"
             ],
             [
              0.5555555555555556,
              "#d8576b"
             ],
             [
              0.6666666666666666,
              "#ed7953"
             ],
             [
              0.7777777777777778,
              "#fb9f3a"
             ],
             [
              0.8888888888888888,
              "#fdca26"
             ],
             [
              1,
              "#f0f921"
             ]
            ],
            "type": "histogram2dcontour"
           }
          ],
          "mesh3d": [
           {
            "colorbar": {
             "outlinewidth": 0,
             "ticks": ""
            },
            "type": "mesh3d"
           }
          ],
          "parcoords": [
           {
            "line": {
             "colorbar": {
              "outlinewidth": 0,
              "ticks": ""
             }
            },
            "type": "parcoords"
           }
          ],
          "pie": [
           {
            "automargin": true,
            "type": "pie"
           }
          ],
          "scatter": [
           {
            "fillpattern": {
             "fillmode": "overlay",
             "size": 10,
             "solidity": 0.2
            },
            "type": "scatter"
           }
          ],
          "scatter3d": [
           {
            "line": {
             "colorbar": {
              "outlinewidth": 0,
              "ticks": ""
             }
            },
            "marker": {
             "colorbar": {
              "outlinewidth": 0,
              "ticks": ""
             }
            },
            "type": "scatter3d"
           }
          ],
          "scattercarpet": [
           {
            "marker": {
             "colorbar": {
              "outlinewidth": 0,
              "ticks": ""
             }
            },
            "type": "scattercarpet"
           }
          ],
          "scattergeo": [
           {
            "marker": {
             "colorbar": {
              "outlinewidth": 0,
              "ticks": ""
             }
            },
            "type": "scattergeo"
           }
          ],
          "scattergl": [
           {
            "marker": {
             "colorbar": {
              "outlinewidth": 0,
              "ticks": ""
             }
            },
            "type": "scattergl"
           }
          ],
          "scattermap": [
           {
            "marker": {
             "colorbar": {
              "outlinewidth": 0,
              "ticks": ""
             }
            },
            "type": "scattermap"
           }
          ],
          "scattermapbox": [
           {
            "marker": {
             "colorbar": {
              "outlinewidth": 0,
              "ticks": ""
             }
            },
            "type": "scattermapbox"
           }
          ],
          "scatterpolar": [
           {
            "marker": {
             "colorbar": {
              "outlinewidth": 0,
              "ticks": ""
             }
            },
            "type": "scatterpolar"
           }
          ],
          "scatterpolargl": [
           {
            "marker": {
             "colorbar": {
              "outlinewidth": 0,
              "ticks": ""
             }
            },
            "type": "scatterpolargl"
           }
          ],
          "scatterternary": [
           {
            "marker": {
             "colorbar": {
              "outlinewidth": 0,
              "ticks": ""
             }
            },
            "type": "scatterternary"
           }
          ],
          "surface": [
           {
            "colorbar": {
             "outlinewidth": 0,
             "ticks": ""
            },
            "colorscale": [
             [
              0,
              "#0d0887"
             ],
             [
              0.1111111111111111,
              "#46039f"
             ],
             [
              0.2222222222222222,
              "#7201a8"
             ],
             [
              0.3333333333333333,
              "#9c179e"
             ],
             [
              0.4444444444444444,
              "#bd3786"
             ],
             [
              0.5555555555555556,
              "#d8576b"
             ],
             [
              0.6666666666666666,
              "#ed7953"
             ],
             [
              0.7777777777777778,
              "#fb9f3a"
             ],
             [
              0.8888888888888888,
              "#fdca26"
             ],
             [
              1,
              "#f0f921"
             ]
            ],
            "type": "surface"
           }
          ],
          "table": [
           {
            "cells": {
             "fill": {
              "color": "#EBF0F8"
             },
             "line": {
              "color": "white"
             }
            },
            "header": {
             "fill": {
              "color": "#C8D4E3"
             },
             "line": {
              "color": "white"
             }
            },
            "type": "table"
           }
          ]
         },
         "layout": {
          "annotationdefaults": {
           "arrowcolor": "#2a3f5f",
           "arrowhead": 0,
           "arrowwidth": 1
          },
          "autotypenumbers": "strict",
          "coloraxis": {
           "colorbar": {
            "outlinewidth": 0,
            "ticks": ""
           }
          },
          "colorscale": {
           "diverging": [
            [
             0,
             "#8e0152"
            ],
            [
             0.1,
             "#c51b7d"
            ],
            [
             0.2,
             "#de77ae"
            ],
            [
             0.3,
             "#f1b6da"
            ],
            [
             0.4,
             "#fde0ef"
            ],
            [
             0.5,
             "#f7f7f7"
            ],
            [
             0.6,
             "#e6f5d0"
            ],
            [
             0.7,
             "#b8e186"
            ],
            [
             0.8,
             "#7fbc41"
            ],
            [
             0.9,
             "#4d9221"
            ],
            [
             1,
             "#276419"
            ]
           ],
           "sequential": [
            [
             0,
             "#0d0887"
            ],
            [
             0.1111111111111111,
             "#46039f"
            ],
            [
             0.2222222222222222,
             "#7201a8"
            ],
            [
             0.3333333333333333,
             "#9c179e"
            ],
            [
             0.4444444444444444,
             "#bd3786"
            ],
            [
             0.5555555555555556,
             "#d8576b"
            ],
            [
             0.6666666666666666,
             "#ed7953"
            ],
            [
             0.7777777777777778,
             "#fb9f3a"
            ],
            [
             0.8888888888888888,
             "#fdca26"
            ],
            [
             1,
             "#f0f921"
            ]
           ],
           "sequentialminus": [
            [
             0,
             "#0d0887"
            ],
            [
             0.1111111111111111,
             "#46039f"
            ],
            [
             0.2222222222222222,
             "#7201a8"
            ],
            [
             0.3333333333333333,
             "#9c179e"
            ],
            [
             0.4444444444444444,
             "#bd3786"
            ],
            [
             0.5555555555555556,
             "#d8576b"
            ],
            [
             0.6666666666666666,
             "#ed7953"
            ],
            [
             0.7777777777777778,
             "#fb9f3a"
            ],
            [
             0.8888888888888888,
             "#fdca26"
            ],
            [
             1,
             "#f0f921"
            ]
           ]
          },
          "colorway": [
           "#636efa",
           "#EF553B",
           "#00cc96",
           "#ab63fa",
           "#FFA15A",
           "#19d3f3",
           "#FF6692",
           "#B6E880",
           "#FF97FF",
           "#FECB52"
          ],
          "font": {
           "color": "#2a3f5f"
          },
          "geo": {
           "bgcolor": "white",
           "lakecolor": "white",
           "landcolor": "#E5ECF6",
           "showlakes": true,
           "showland": true,
           "subunitcolor": "white"
          },
          "hoverlabel": {
           "align": "left"
          },
          "hovermode": "closest",
          "mapbox": {
           "style": "light"
          },
          "paper_bgcolor": "white",
          "plot_bgcolor": "#E5ECF6",
          "polar": {
           "angularaxis": {
            "gridcolor": "white",
            "linecolor": "white",
            "ticks": ""
           },
           "bgcolor": "#E5ECF6",
           "radialaxis": {
            "gridcolor": "white",
            "linecolor": "white",
            "ticks": ""
           }
          },
          "scene": {
           "xaxis": {
            "backgroundcolor": "#E5ECF6",
            "gridcolor": "white",
            "gridwidth": 2,
            "linecolor": "white",
            "showbackground": true,
            "ticks": "",
            "zerolinecolor": "white"
           },
           "yaxis": {
            "backgroundcolor": "#E5ECF6",
            "gridcolor": "white",
            "gridwidth": 2,
            "linecolor": "white",
            "showbackground": true,
            "ticks": "",
            "zerolinecolor": "white"
           },
           "zaxis": {
            "backgroundcolor": "#E5ECF6",
            "gridcolor": "white",
            "gridwidth": 2,
            "linecolor": "white",
            "showbackground": true,
            "ticks": "",
            "zerolinecolor": "white"
           }
          },
          "shapedefaults": {
           "line": {
            "color": "#2a3f5f"
           }
          },
          "ternary": {
           "aaxis": {
            "gridcolor": "white",
            "linecolor": "white",
            "ticks": ""
           },
           "baxis": {
            "gridcolor": "white",
            "linecolor": "white",
            "ticks": ""
           },
           "bgcolor": "#E5ECF6",
           "caxis": {
            "gridcolor": "white",
            "linecolor": "white",
            "ticks": ""
           }
          },
          "title": {
           "x": 0.05
          },
          "xaxis": {
           "automargin": true,
           "gridcolor": "white",
           "linecolor": "white",
           "ticks": "",
           "title": {
            "standoff": 15
           },
           "zerolinecolor": "white",
           "zerolinewidth": 2
          },
          "yaxis": {
           "automargin": true,
           "gridcolor": "white",
           "linecolor": "white",
           "ticks": "",
           "title": {
            "standoff": 15
           },
           "zerolinecolor": "white",
           "zerolinewidth": 2
          }
         }
        },
        "title": {
         "text": "Number of entries during day/night"
        },
        "xaxis": {
         "anchor": "y",
         "domain": [
          0,
          1
         ],
         "title": {
          "text": "Twilight"
         }
        },
        "yaxis": {
         "anchor": "x",
         "domain": [
          0,
          1
         ],
         "title": {
          "text": "count"
         }
        }
       }
      }
     },
     "metadata": {},
     "output_type": "display_data"
    }
   ],
   "source": [
    "index.plot(\n",
    "    title=\"Number of entries during day/night\",\n",
    "    labels=dict(\n",
    "        index=\"Time\",\n",
    "        value=\"Number of entries\",\n",
    "    ),\n",
    "    kind=\"hist\",\n",
    "    x=\"Twilight\",\n",
    ")"
   ]
  },
  {
   "cell_type": "markdown",
   "metadata": {},
   "source": [
    "## Space\n"
   ]
  },
  {
   "cell_type": "code",
   "execution_count": 11,
   "metadata": {},
   "outputs": [
    {
     "data": {
      "application/vnd.plotly.v1+json": {
       "config": {
        "plotlyServerURL": "https://plot.ly"
       },
       "data": [
        {
         "bingroup": "x",
         "hovertemplate": "Latitude=%{x}<br>count=%{y}<extra></extra>",
         "legendgroup": "",
         "marker": {
          "color": "#636efa",
          "pattern": {
           "shape": ""
          }
         },
         "name": "",
         "orientation": "v",
         "showlegend": false,
         "type": "histogram",
         "x": {
          "bdata": "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",
          "dtype": "f8"
         },
         "xaxis": "x",
         "yaxis": "y"
        },
        {
         "hovertemplate": "Latitude=%{x}<extra></extra>",
         "legendgroup": "",
         "marker": {
          "color": "#636efa"
         },
         "name": "",
         "notched": true,
         "showlegend": false,
         "type": "box",
         "x": {
          "bdata": "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",
          "dtype": "f8"
         },
         "xaxis": "x2",
         "yaxis": "y2"
        }
       ],
       "layout": {
        "barmode": "relative",
        "legend": {
         "tracegroupgap": 0
        },
        "template": {
         "data": {
          "bar": [
           {
            "error_x": {
             "color": "#2a3f5f"
            },
            "error_y": {
             "color": "#2a3f5f"
            },
            "marker": {
             "line": {
              "color": "#E5ECF6",
              "width": 0.5
             },
             "pattern": {
              "fillmode": "overlay",
              "size": 10,
              "solidity": 0.2
             }
            },
            "type": "bar"
           }
          ],
          "barpolar": [
           {
            "marker": {
             "line": {
              "color": "#E5ECF6",
              "width": 0.5
             },
             "pattern": {
              "fillmode": "overlay",
              "size": 10,
              "solidity": 0.2
             }
            },
            "type": "barpolar"
           }
          ],
          "carpet": [
           {
            "aaxis": {
             "endlinecolor": "#2a3f5f",
             "gridcolor": "white",
             "linecolor": "white",
             "minorgridcolor": "white",
             "startlinecolor": "#2a3f5f"
            },
            "baxis": {
             "endlinecolor": "#2a3f5f",
             "gridcolor": "white",
             "linecolor": "white",
             "minorgridcolor": "white",
             "startlinecolor": "#2a3f5f"
            },
            "type": "carpet"
           }
          ],
          "choropleth": [
           {
            "colorbar": {
             "outlinewidth": 0,
             "ticks": ""
            },
            "type": "choropleth"
           }
          ],
          "contour": [
           {
            "colorbar": {
             "outlinewidth": 0,
             "ticks": ""
            },
            "colorscale": [
             [
              0,
              "#0d0887"
             ],
             [
              0.1111111111111111,
              "#46039f"
             ],
             [
              0.2222222222222222,
              "#7201a8"
             ],
             [
              0.3333333333333333,
              "#9c179e"
             ],
             [
              0.4444444444444444,
              "#bd3786"
             ],
             [
              0.5555555555555556,
              "#d8576b"
             ],
             [
              0.6666666666666666,
              "#ed7953"
             ],
             [
              0.7777777777777778,
              "#fb9f3a"
             ],
             [
              0.8888888888888888,
              "#fdca26"
             ],
             [
              1,
              "#f0f921"
             ]
            ],
            "type": "contour"
           }
          ],
          "contourcarpet": [
           {
            "colorbar": {
             "outlinewidth": 0,
             "ticks": ""
            },
            "type": "contourcarpet"
           }
          ],
          "heatmap": [
           {
            "colorbar": {
             "outlinewidth": 0,
             "ticks": ""
            },
            "colorscale": [
             [
              0,
              "#0d0887"
             ],
             [
              0.1111111111111111,
              "#46039f"
             ],
             [
              0.2222222222222222,
              "#7201a8"
             ],
             [
              0.3333333333333333,
              "#9c179e"
             ],
             [
              0.4444444444444444,
              "#bd3786"
             ],
             [
              0.5555555555555556,
              "#d8576b"
             ],
             [
              0.6666666666666666,
              "#ed7953"
             ],
             [
              0.7777777777777778,
              "#fb9f3a"
             ],
             [
              0.8888888888888888,
              "#fdca26"
             ],
             [
              1,
              "#f0f921"
             ]
            ],
            "type": "heatmap"
           }
          ],
          "histogram": [
           {
            "marker": {
             "pattern": {
              "fillmode": "overlay",
              "size": 10,
              "solidity": 0.2
             }
            },
            "type": "histogram"
           }
          ],
          "histogram2d": [
           {
            "colorbar": {
             "outlinewidth": 0,
             "ticks": ""
            },
            "colorscale": [
             [
              0,
              "#0d0887"
             ],
             [
              0.1111111111111111,
              "#46039f"
             ],
             [
              0.2222222222222222,
              "#7201a8"
             ],
             [
              0.3333333333333333,
              "#9c179e"
             ],
             [
              0.4444444444444444,
              "#bd3786"
             ],
             [
              0.5555555555555556,
              "#d8576b"
             ],
             [
              0.6666666666666666,
              "#ed7953"
             ],
             [
              0.7777777777777778,
              "#fb9f3a"
             ],
             [
              0.8888888888888888,
              "#fdca26"
             ],
             [
              1,
              "#f0f921"
             ]
            ],
            "type": "histogram2d"
           }
          ],
          "histogram2dcontour": [
           {
            "colorbar": {
             "outlinewidth": 0,
             "ticks": ""
            },
            "colorscale": [
             [
              0,
              "#0d0887"
             ],
             [
              0.1111111111111111,
              "#46039f"
             ],
             [
              0.2222222222222222,
              "#7201a8"
             ],
             [
              0.3333333333333333,
              "#9c179e"
             ],
             [
              0.4444444444444444,
              "#bd3786"
             ],
             [
              0.5555555555555556,
              "#d8576b"
             ],
             [
              0.6666666666666666,
              "#ed7953"
             ],
             [
              0.7777777777777778,
              "#fb9f3a"
             ],
             [
              0.8888888888888888,
              "#fdca26"
             ],
             [
              1,
              "#f0f921"
             ]
            ],
            "type": "histogram2dcontour"
           }
          ],
          "mesh3d": [
           {
            "colorbar": {
             "outlinewidth": 0,
             "ticks": ""
            },
            "type": "mesh3d"
           }
          ],
          "parcoords": [
           {
            "line": {
             "colorbar": {
              "outlinewidth": 0,
              "ticks": ""
             }
            },
            "type": "parcoords"
           }
          ],
          "pie": [
           {
            "automargin": true,
            "type": "pie"
           }
          ],
          "scatter": [
           {
            "fillpattern": {
             "fillmode": "overlay",
             "size": 10,
             "solidity": 0.2
            },
            "type": "scatter"
           }
          ],
          "scatter3d": [
           {
            "line": {
             "colorbar": {
              "outlinewidth": 0,
              "ticks": ""
             }
            },
            "marker": {
             "colorbar": {
              "outlinewidth": 0,
              "ticks": ""
             }
            },
            "type": "scatter3d"
           }
          ],
          "scattercarpet": [
           {
            "marker": {
             "colorbar": {
              "outlinewidth": 0,
              "ticks": ""
             }
            },
            "type": "scattercarpet"
           }
          ],
          "scattergeo": [
           {
            "marker": {
             "colorbar": {
              "outlinewidth": 0,
              "ticks": ""
             }
            },
            "type": "scattergeo"
           }
          ],
          "scattergl": [
           {
            "marker": {
             "colorbar": {
              "outlinewidth": 0,
              "ticks": ""
             }
            },
            "type": "scattergl"
           }
          ],
          "scattermap": [
           {
            "marker": {
             "colorbar": {
              "outlinewidth": 0,
              "ticks": ""
             }
            },
            "type": "scattermap"
           }
          ],
          "scattermapbox": [
           {
            "marker": {
             "colorbar": {
              "outlinewidth": 0,
              "ticks": ""
             }
            },
            "type": "scattermapbox"
           }
          ],
          "scatterpolar": [
           {
            "marker": {
             "colorbar": {
              "outlinewidth": 0,
              "ticks": ""
             }
            },
            "type": "scatterpolar"
           }
          ],
          "scatterpolargl": [
           {
            "marker": {
             "colorbar": {
              "outlinewidth": 0,
              "ticks": ""
             }
            },
            "type": "scatterpolargl"
           }
          ],
          "scatterternary": [
           {
            "marker": {
             "colorbar": {
              "outlinewidth": 0,
              "ticks": ""
             }
            },
            "type": "scatterternary"
           }
          ],
          "surface": [
           {
            "colorbar": {
             "outlinewidth": 0,
             "ticks": ""
            },
            "colorscale": [
             [
              0,
              "#0d0887"
             ],
             [
              0.1111111111111111,
              "#46039f"
             ],
             [
              0.2222222222222222,
              "#7201a8"
             ],
             [
              0.3333333333333333,
              "#9c179e"
             ],
             [
              0.4444444444444444,
              "#bd3786"
             ],
             [
              0.5555555555555556,
              "#d8576b"
             ],
             [
              0.6666666666666666,
              "#ed7953"
             ],
             [
              0.7777777777777778,
              "#fb9f3a"
             ],
             [
              0.8888888888888888,
              "#fdca26"
             ],
             [
              1,
              "#f0f921"
             ]
            ],
            "type": "surface"
           }
          ],
          "table": [
           {
            "cells": {
             "fill": {
              "color": "#EBF0F8"
             },
             "line": {
              "color": "white"
             }
            },
            "header": {
             "fill": {
              "color": "#C8D4E3"
             },
             "line": {
              "color": "white"
             }
            },
            "type": "table"
           }
          ]
         },
         "layout": {
          "annotationdefaults": {
           "arrowcolor": "#2a3f5f",
           "arrowhead": 0,
           "arrowwidth": 1
          },
          "autotypenumbers": "strict",
          "coloraxis": {
           "colorbar": {
            "outlinewidth": 0,
            "ticks": ""
           }
          },
          "colorscale": {
           "diverging": [
            [
             0,
             "#8e0152"
            ],
            [
             0.1,
             "#c51b7d"
            ],
            [
             0.2,
             "#de77ae"
            ],
            [
             0.3,
             "#f1b6da"
            ],
            [
             0.4,
             "#fde0ef"
            ],
            [
             0.5,
             "#f7f7f7"
            ],
            [
             0.6,
             "#e6f5d0"
            ],
            [
             0.7,
             "#b8e186"
            ],
            [
             0.8,
             "#7fbc41"
            ],
            [
             0.9,
             "#4d9221"
            ],
            [
             1,
             "#276419"
            ]
           ],
           "sequential": [
            [
             0,
             "#0d0887"
            ],
            [
             0.1111111111111111,
             "#46039f"
            ],
            [
             0.2222222222222222,
             "#7201a8"
            ],
            [
             0.3333333333333333,
             "#9c179e"
            ],
            [
             0.4444444444444444,
             "#bd3786"
            ],
            [
             0.5555555555555556,
             "#d8576b"
            ],
            [
             0.6666666666666666,
             "#ed7953"
            ],
            [
             0.7777777777777778,
             "#fb9f3a"
            ],
            [
             0.8888888888888888,
             "#fdca26"
            ],
            [
             1,
             "#f0f921"
            ]
           ],
           "sequentialminus": [
            [
             0,
             "#0d0887"
            ],
            [
             0.1111111111111111,
             "#46039f"
            ],
            [
             0.2222222222222222,
             "#7201a8"
            ],
            [
             0.3333333333333333,
             "#9c179e"
            ],
            [
             0.4444444444444444,
             "#bd3786"
            ],
            [
             0.5555555555555556,
             "#d8576b"
            ],
            [
             0.6666666666666666,
             "#ed7953"
            ],
            [
             0.7777777777777778,
             "#fb9f3a"
            ],
            [
             0.8888888888888888,
             "#fdca26"
            ],
            [
             1,
             "#f0f921"
            ]
           ]
          },
          "colorway": [
           "#636efa",
           "#EF553B",
           "#00cc96",
           "#ab63fa",
           "#FFA15A",
           "#19d3f3",
           "#FF6692",
           "#B6E880",
           "#FF97FF",
           "#FECB52"
          ],
          "font": {
           "color": "#2a3f5f"
          },
          "geo": {
           "bgcolor": "white",
           "lakecolor": "white",
           "landcolor": "#E5ECF6",
           "showlakes": true,
           "showland": true,
           "subunitcolor": "white"
          },
          "hoverlabel": {
           "align": "left"
          },
          "hovermode": "closest",
          "mapbox": {
           "style": "light"
          },
          "paper_bgcolor": "white",
          "plot_bgcolor": "#E5ECF6",
          "polar": {
           "angularaxis": {
            "gridcolor": "white",
            "linecolor": "white",
            "ticks": ""
           },
           "bgcolor": "#E5ECF6",
           "radialaxis": {
            "gridcolor": "white",
            "linecolor": "white",
            "ticks": ""
           }
          },
          "scene": {
           "xaxis": {
            "backgroundcolor": "#E5ECF6",
            "gridcolor": "white",
            "gridwidth": 2,
            "linecolor": "white",
            "showbackground": true,
            "ticks": "",
            "zerolinecolor": "white"
           },
           "yaxis": {
            "backgroundcolor": "#E5ECF6",
            "gridcolor": "white",
            "gridwidth": 2,
            "linecolor": "white",
            "showbackground": true,
            "ticks": "",
            "zerolinecolor": "white"
           },
           "zaxis": {
            "backgroundcolor": "#E5ECF6",
            "gridcolor": "white",
            "gridwidth": 2,
            "linecolor": "white",
            "showbackground": true,
            "ticks": "",
            "zerolinecolor": "white"
           }
          },
          "shapedefaults": {
           "line": {
            "color": "#2a3f5f"
           }
          },
          "ternary": {
           "aaxis": {
            "gridcolor": "white",
            "linecolor": "white",
            "ticks": ""
           },
           "baxis": {
            "gridcolor": "white",
            "linecolor": "white",
            "ticks": ""
           },
           "bgcolor": "#E5ECF6",
           "caxis": {
            "gridcolor": "white",
            "linecolor": "white",
            "ticks": ""
           }
          },
          "title": {
           "x": 0.05
          },
          "xaxis": {
           "automargin": true,
           "gridcolor": "white",
           "linecolor": "white",
           "ticks": "",
           "title": {
            "standoff": 15
           },
           "zerolinecolor": "white",
           "zerolinewidth": 2
          },
          "yaxis": {
           "automargin": true,
           "gridcolor": "white",
           "linecolor": "white",
           "ticks": "",
           "title": {
            "standoff": 15
           },
           "zerolinecolor": "white",
           "zerolinewidth": 2
          }
         }
        },
        "title": {
         "text": "Number of entries on latitude"
        },
        "xaxis": {
         "anchor": "y",
         "domain": [
          0,
          1
         ],
         "title": {
          "text": "Latitude"
         }
        },
        "xaxis2": {
         "anchor": "y2",
         "domain": [
          0,
          1
         ],
         "matches": "x",
         "showgrid": true,
         "showticklabels": false
        },
        "yaxis": {
         "anchor": "x",
         "domain": [
          0,
          0.8316
         ],
         "title": {
          "text": "count"
         }
        },
        "yaxis2": {
         "anchor": "x2",
         "domain": [
          0.8416,
          1
         ],
         "matches": "y2",
         "showgrid": false,
         "showline": false,
         "showticklabels": false,
         "ticks": ""
        }
       }
      }
     },
     "metadata": {},
     "output_type": "display_data"
    }
   ],
   "source": [
    "px.histogram(\n",
    "    index,\n",
    "    x=\"lat\",\n",
    "    title=\"Number of entries on latitude\",\n",
    "    labels=dict(\n",
    "        lat=\"Latitude\",\n",
    "        count=\"Number of entries\",\n",
    "    ),\n",
    "    marginal=\"box\",\n",
    ")\n"
   ]
  },
  {
   "cell_type": "code",
   "execution_count": 12,
   "metadata": {},
   "outputs": [
    {
     "data": {
      "application/vnd.plotly.v1+json": {
       "config": {
        "plotlyServerURL": "https://plot.ly"
       },
       "data": [
        {
         "bingroup": "x",
         "hovertemplate": "Longitude=%{x}<br>count=%{y}<extra></extra>",
         "legendgroup": "",
         "marker": {
          "color": "#636efa",
          "pattern": {
           "shape": ""
          }
         },
         "name": "",
         "orientation": "v",
         "showlegend": false,
         "type": "histogram",
         "x": {
          "bdata": "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",
          "dtype": "f8"
         },
         "xaxis": "x",
         "yaxis": "y"
        },
        {
         "hovertemplate": "Longitude=%{x}<extra></extra>",
         "legendgroup": "",
         "marker": {
          "color": "#636efa"
         },
         "name": "",
         "notched": true,
         "showlegend": false,
         "type": "box",
         "x": {
          "bdata": "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",
          "dtype": "f8"
         },
         "xaxis": "x2",
         "yaxis": "y2"
        }
       ],
       "layout": {
        "barmode": "relative",
        "legend": {
         "tracegroupgap": 0
        },
        "template": {
         "data": {
          "bar": [
           {
            "error_x": {
             "color": "#2a3f5f"
            },
            "error_y": {
             "color": "#2a3f5f"
            },
            "marker": {
             "line": {
              "color": "#E5ECF6",
              "width": 0.5
             },
             "pattern": {
              "fillmode": "overlay",
              "size": 10,
              "solidity": 0.2
             }
            },
            "type": "bar"
           }
          ],
          "barpolar": [
           {
            "marker": {
             "line": {
              "color": "#E5ECF6",
              "width": 0.5
             },
             "pattern": {
              "fillmode": "overlay",
              "size": 10,
              "solidity": 0.2
             }
            },
            "type": "barpolar"
           }
          ],
          "carpet": [
           {
            "aaxis": {
             "endlinecolor": "#2a3f5f",
             "gridcolor": "white",
             "linecolor": "white",
             "minorgridcolor": "white",
             "startlinecolor": "#2a3f5f"
            },
            "baxis": {
             "endlinecolor": "#2a3f5f",
             "gridcolor": "white",
             "linecolor": "white",
             "minorgridcolor": "white",
             "startlinecolor": "#2a3f5f"
            },
            "type": "carpet"
           }
          ],
          "choropleth": [
           {
            "colorbar": {
             "outlinewidth": 0,
             "ticks": ""
            },
            "type": "choropleth"
           }
          ],
          "contour": [
           {
            "colorbar": {
             "outlinewidth": 0,
             "ticks": ""
            },
            "colorscale": [
             [
              0,
              "#0d0887"
             ],
             [
              0.1111111111111111,
              "#46039f"
             ],
             [
              0.2222222222222222,
              "#7201a8"
             ],
             [
              0.3333333333333333,
              "#9c179e"
             ],
             [
              0.4444444444444444,
              "#bd3786"
             ],
             [
              0.5555555555555556,
              "#d8576b"
             ],
             [
              0.6666666666666666,
              "#ed7953"
             ],
             [
              0.7777777777777778,
              "#fb9f3a"
             ],
             [
              0.8888888888888888,
              "#fdca26"
             ],
             [
              1,
              "#f0f921"
             ]
            ],
            "type": "contour"
           }
          ],
          "contourcarpet": [
           {
            "colorbar": {
             "outlinewidth": 0,
             "ticks": ""
            },
            "type": "contourcarpet"
           }
          ],
          "heatmap": [
           {
            "colorbar": {
             "outlinewidth": 0,
             "ticks": ""
            },
            "colorscale": [
             [
              0,
              "#0d0887"
             ],
             [
              0.1111111111111111,
              "#46039f"
             ],
             [
              0.2222222222222222,
              "#7201a8"
             ],
             [
              0.3333333333333333,
              "#9c179e"
             ],
             [
              0.4444444444444444,
              "#bd3786"
             ],
             [
              0.5555555555555556,
              "#d8576b"
             ],
             [
              0.6666666666666666,
              "#ed7953"
             ],
             [
              0.7777777777777778,
              "#fb9f3a"
             ],
             [
              0.8888888888888888,
              "#fdca26"
             ],
             [
              1,
              "#f0f921"
             ]
            ],
            "type": "heatmap"
           }
          ],
          "histogram": [
           {
            "marker": {
             "pattern": {
              "fillmode": "overlay",
              "size": 10,
              "solidity": 0.2
             }
            },
            "type": "histogram"
           }
          ],
          "histogram2d": [
           {
            "colorbar": {
             "outlinewidth": 0,
             "ticks": ""
            },
            "colorscale": [
             [
              0,
              "#0d0887"
             ],
             [
              0.1111111111111111,
              "#46039f"
             ],
             [
              0.2222222222222222,
              "#7201a8"
             ],
             [
              0.3333333333333333,
              "#9c179e"
             ],
             [
              0.4444444444444444,
              "#bd3786"
             ],
             [
              0.5555555555555556,
              "#d8576b"
             ],
             [
              0.6666666666666666,
              "#ed7953"
             ],
             [
              0.7777777777777778,
              "#fb9f3a"
             ],
             [
              0.8888888888888888,
              "#fdca26"
             ],
             [
              1,
              "#f0f921"
             ]
            ],
            "type": "histogram2d"
           }
          ],
          "histogram2dcontour": [
           {
            "colorbar": {
             "outlinewidth": 0,
             "ticks": ""
            },
            "colorscale": [
             [
              0,
              "#0d0887"
             ],
             [
              0.1111111111111111,
              "#46039f"
             ],
             [
              0.2222222222222222,
              "#7201a8"
             ],
             [
              0.3333333333333333,
              "#9c179e"
             ],
             [
              0.4444444444444444,
              "#bd3786"
             ],
             [
              0.5555555555555556,
              "#d8576b"
             ],
             [
              0.6666666666666666,
              "#ed7953"
             ],
             [
              0.7777777777777778,
              "#fb9f3a"
             ],
             [
              0.8888888888888888,
              "#fdca26"
             ],
             [
              1,
              "#f0f921"
             ]
            ],
            "type": "histogram2dcontour"
           }
          ],
          "mesh3d": [
           {
            "colorbar": {
             "outlinewidth": 0,
             "ticks": ""
            },
            "type": "mesh3d"
           }
          ],
          "parcoords": [
           {
            "line": {
             "colorbar": {
              "outlinewidth": 0,
              "ticks": ""
             }
            },
            "type": "parcoords"
           }
          ],
          "pie": [
           {
            "automargin": true,
            "type": "pie"
           }
          ],
          "scatter": [
           {
            "fillpattern": {
             "fillmode": "overlay",
             "size": 10,
             "solidity": 0.2
            },
            "type": "scatter"
           }
          ],
          "scatter3d": [
           {
            "line": {
             "colorbar": {
              "outlinewidth": 0,
              "ticks": ""
             }
            },
            "marker": {
             "colorbar": {
              "outlinewidth": 0,
              "ticks": ""
             }
            },
            "type": "scatter3d"
           }
          ],
          "scattercarpet": [
           {
            "marker": {
             "colorbar": {
              "outlinewidth": 0,
              "ticks": ""
             }
            },
            "type": "scattercarpet"
           }
          ],
          "scattergeo": [
           {
            "marker": {
             "colorbar": {
              "outlinewidth": 0,
              "ticks": ""
             }
            },
            "type": "scattergeo"
           }
          ],
          "scattergl": [
           {
            "marker": {
             "colorbar": {
              "outlinewidth": 0,
              "ticks": ""
             }
            },
            "type": "scattergl"
           }
          ],
          "scattermap": [
           {
            "marker": {
             "colorbar": {
              "outlinewidth": 0,
              "ticks": ""
             }
            },
            "type": "scattermap"
           }
          ],
          "scattermapbox": [
           {
            "marker": {
             "colorbar": {
              "outlinewidth": 0,
              "ticks": ""
             }
            },
            "type": "scattermapbox"
           }
          ],
          "scatterpolar": [
           {
            "marker": {
             "colorbar": {
              "outlinewidth": 0,
              "ticks": ""
             }
            },
            "type": "scatterpolar"
           }
          ],
          "scatterpolargl": [
           {
            "marker": {
             "colorbar": {
              "outlinewidth": 0,
              "ticks": ""
             }
            },
            "type": "scatterpolargl"
           }
          ],
          "scatterternary": [
           {
            "marker": {
             "colorbar": {
              "outlinewidth": 0,
              "ticks": ""
             }
            },
            "type": "scatterternary"
           }
          ],
          "surface": [
           {
            "colorbar": {
             "outlinewidth": 0,
             "ticks": ""
            },
            "colorscale": [
             [
              0,
              "#0d0887"
             ],
             [
              0.1111111111111111,
              "#46039f"
             ],
             [
              0.2222222222222222,
              "#7201a8"
             ],
             [
              0.3333333333333333,
              "#9c179e"
             ],
             [
              0.4444444444444444,
              "#bd3786"
             ],
             [
              0.5555555555555556,
              "#d8576b"
             ],
             [
              0.6666666666666666,
              "#ed7953"
             ],
             [
              0.7777777777777778,
              "#fb9f3a"
             ],
             [
              0.8888888888888888,
              "#fdca26"
             ],
             [
              1,
              "#f0f921"
             ]
            ],
            "type": "surface"
           }
          ],
          "table": [
           {
            "cells": {
             "fill": {
              "color": "#EBF0F8"
             },
             "line": {
              "color": "white"
             }
            },
            "header": {
             "fill": {
              "color": "#C8D4E3"
             },
             "line": {
              "color": "white"
             }
            },
            "type": "table"
           }
          ]
         },
         "layout": {
          "annotationdefaults": {
           "arrowcolor": "#2a3f5f",
           "arrowhead": 0,
           "arrowwidth": 1
          },
          "autotypenumbers": "strict",
          "coloraxis": {
           "colorbar": {
            "outlinewidth": 0,
            "ticks": ""
           }
          },
          "colorscale": {
           "diverging": [
            [
             0,
             "#8e0152"
            ],
            [
             0.1,
             "#c51b7d"
            ],
            [
             0.2,
             "#de77ae"
            ],
            [
             0.3,
             "#f1b6da"
            ],
            [
             0.4,
             "#fde0ef"
            ],
            [
             0.5,
             "#f7f7f7"
            ],
            [
             0.6,
             "#e6f5d0"
            ],
            [
             0.7,
             "#b8e186"
            ],
            [
             0.8,
             "#7fbc41"
            ],
            [
             0.9,
             "#4d9221"
            ],
            [
             1,
             "#276419"
            ]
           ],
           "sequential": [
            [
             0,
             "#0d0887"
            ],
            [
             0.1111111111111111,
             "#46039f"
            ],
            [
             0.2222222222222222,
             "#7201a8"
            ],
            [
             0.3333333333333333,
             "#9c179e"
            ],
            [
             0.4444444444444444,
             "#bd3786"
            ],
            [
             0.5555555555555556,
             "#d8576b"
            ],
            [
             0.6666666666666666,
             "#ed7953"
            ],
            [
             0.7777777777777778,
             "#fb9f3a"
            ],
            [
             0.8888888888888888,
             "#fdca26"
            ],
            [
             1,
             "#f0f921"
            ]
           ],
           "sequentialminus": [
            [
             0,
             "#0d0887"
            ],
            [
             0.1111111111111111,
             "#46039f"
            ],
            [
             0.2222222222222222,
             "#7201a8"
            ],
            [
             0.3333333333333333,
             "#9c179e"
            ],
            [
             0.4444444444444444,
             "#bd3786"
            ],
            [
             0.5555555555555556,
             "#d8576b"
            ],
            [
             0.6666666666666666,
             "#ed7953"
            ],
            [
             0.7777777777777778,
             "#fb9f3a"
            ],
            [
             0.8888888888888888,
             "#fdca26"
            ],
            [
             1,
             "#f0f921"
            ]
           ]
          },
          "colorway": [
           "#636efa",
           "#EF553B",
           "#00cc96",
           "#ab63fa",
           "#FFA15A",
           "#19d3f3",
           "#FF6692",
           "#B6E880",
           "#FF97FF",
           "#FECB52"
          ],
          "font": {
           "color": "#2a3f5f"
          },
          "geo": {
           "bgcolor": "white",
           "lakecolor": "white",
           "landcolor": "#E5ECF6",
           "showlakes": true,
           "showland": true,
           "subunitcolor": "white"
          },
          "hoverlabel": {
           "align": "left"
          },
          "hovermode": "closest",
          "mapbox": {
           "style": "light"
          },
          "paper_bgcolor": "white",
          "plot_bgcolor": "#E5ECF6",
          "polar": {
           "angularaxis": {
            "gridcolor": "white",
            "linecolor": "white",
            "ticks": ""
           },
           "bgcolor": "#E5ECF6",
           "radialaxis": {
            "gridcolor": "white",
            "linecolor": "white",
            "ticks": ""
           }
          },
          "scene": {
           "xaxis": {
            "backgroundcolor": "#E5ECF6",
            "gridcolor": "white",
            "gridwidth": 2,
            "linecolor": "white",
            "showbackground": true,
            "ticks": "",
            "zerolinecolor": "white"
           },
           "yaxis": {
            "backgroundcolor": "#E5ECF6",
            "gridcolor": "white",
            "gridwidth": 2,
            "linecolor": "white",
            "showbackground": true,
            "ticks": "",
            "zerolinecolor": "white"
           },
           "zaxis": {
            "backgroundcolor": "#E5ECF6",
            "gridcolor": "white",
            "gridwidth": 2,
            "linecolor": "white",
            "showbackground": true,
            "ticks": "",
            "zerolinecolor": "white"
           }
          },
          "shapedefaults": {
           "line": {
            "color": "#2a3f5f"
           }
          },
          "ternary": {
           "aaxis": {
            "gridcolor": "white",
            "linecolor": "white",
            "ticks": ""
           },
           "baxis": {
            "gridcolor": "white",
            "linecolor": "white",
            "ticks": ""
           },
           "bgcolor": "#E5ECF6",
           "caxis": {
            "gridcolor": "white",
            "linecolor": "white",
            "ticks": ""
           }
          },
          "title": {
           "x": 0.05
          },
          "xaxis": {
           "automargin": true,
           "gridcolor": "white",
           "linecolor": "white",
           "ticks": "",
           "title": {
            "standoff": 15
           },
           "zerolinecolor": "white",
           "zerolinewidth": 2
          },
          "yaxis": {
           "automargin": true,
           "gridcolor": "white",
           "linecolor": "white",
           "ticks": "",
           "title": {
            "standoff": 15
           },
           "zerolinecolor": "white",
           "zerolinewidth": 2
          }
         }
        },
        "title": {
         "text": "Number of entries on longitude"
        },
        "xaxis": {
         "anchor": "y",
         "domain": [
          0,
          1
         ],
         "title": {
          "text": "Longitude"
         }
        },
        "xaxis2": {
         "anchor": "y2",
         "domain": [
          0,
          1
         ],
         "matches": "x",
         "showgrid": true,
         "showticklabels": false
        },
        "yaxis": {
         "anchor": "x",
         "domain": [
          0,
          0.8316
         ],
         "title": {
          "text": "count"
         }
        },
        "yaxis2": {
         "anchor": "x2",
         "domain": [
          0.8416,
          1
         ],
         "matches": "y2",
         "showgrid": false,
         "showline": false,
         "showticklabels": false,
         "ticks": ""
        }
       }
      }
     },
     "metadata": {},
     "output_type": "display_data"
    }
   ],
   "source": [
    "px.histogram(\n",
    "    index,\n",
    "    x=\"lon\",\n",
    "    title=\"Number of entries on longitude\",\n",
    "    labels=dict(\n",
    "        lon=\"Longitude\",\n",
    "        count=\"Number of entries\",\n",
    "    ),\n",
    "    marginal=\"box\",\n",
    ")\n"
   ]
  },
  {
   "cell_type": "markdown",
   "metadata": {},
   "source": [
    "### Depth\n"
   ]
  },
  {
   "cell_type": "code",
   "execution_count": 13,
   "metadata": {},
   "outputs": [
    {
     "data": {
      "application/vnd.plotly.v1+json": {
       "config": {
        "plotlyServerURL": "https://plot.ly"
       },
       "data": [
        {
         "bingroup": "x",
         "hovertemplate": "Depth=%{x}<br>count=%{y}<extra></extra>",
         "legendgroup": "",
         "marker": {
          "color": "#636efa",
          "pattern": {
           "shape": ""
          }
         },
         "name": "",
         "orientation": "v",
         "showlegend": false,
         "type": "histogram",
         "x": {
          "bdata": "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",
          "dtype": "f8"
         },
         "xaxis": "x",
         "yaxis": "y"
        },
        {
         "hovertemplate": "Depth=%{x}<extra></extra>",
         "legendgroup": "",
         "marker": {
          "color": "#636efa"
         },
         "name": "",
         "scalegroup": "x",
         "showlegend": false,
         "type": "violin",
         "x": {
          "bdata": "AAAAAADAbkAAAAAAAABJQAAAAAAA4G5AAAAAAACASEAAAAAAAGBtQAAAAAAAAEhAAAAAAAAgb0AAAAAAAIBHQAAAAAAAQG9AAAAAAAAAYUAAAAAAACBsQAAAAAAAQG9AAAAAAADAXkAAAAAAAABhQAAAAAAAQGBAAAAAAACAYkAAAAAAAMBiQAAAAAAAwGJAAAAAAADAYkAAAAAAAMBiQAAAAAAAwGJAAAAAAACgYkAAAAAAAGBiQAAAAAAAAGNAAAAAAABgYkAAAAAAAMBiQAAAAAAAwGJAAAAAAADAYkAAAAAAAMBiQAAAAAAAwGJAAAAAAADAYkAAAAAAAMBiQAAAAAAAYGNAAAAAAADgYkAAAAAAAABiQAAAAAAAAGJAAAAAAACAYUAAAAAAAIBhQAAAAAAAQF5AAAAAAABAXkAAAAAAAOBgQAAAAAAAgGFAAAAAAAAgYUAAAAAAACBhQAAAAAAAwFxAAAAAAABAYEAAAAAAAEBhQAAAAAAAQGFAAAAAAAAgb0AAAAAAAKBiQAAAAAAAYGFAAAAAAACAYkAAAAAAACBiQAAAAAAAIGJAAAAAAACgYUAAAAAAAKBhQAAAAAAAoGFAAAAAAABgYkAAAAAAAKBhQAAAAAAAIGJAAAAAAAAgYkAAAAAAAKBhQAAAAAAAoGFAAAAAAADAYkAAAAAAAMBiQAAAAAAAwGJAAAAAAADAYkAAAAAAAMBiQAAAAAAAwGJAAAAAAADAYkAAAAAAAMBiQAAAAAAAwGJAAAAAAADAYkAAAAAAAMBiQAAAAAAAwGJAAAAAAADAYkAAAAAAAMBiQAAAAAAAwGJAAAAAAADAYkAAAAAAAMBiQAAAAAAAwGJAAAAAAADAYkAAAAAAAEBvQAAAAAAAgG5AAAAAAADAbkAAAAAAANBwQAAAAAAAQG9AAAAAAACAYkAAAAAAAIBiQAAAAAAAoGZAAAAAAADgY0AAAAAAAGBmQAAAAAAAgGRAAAAAAACgYkAAAAAAAKBiQAAAAAAAIGJAAAAAAAAgYkAAAAAAAABhQAAAAAAAwGJAAAAAAABAb0AAAAAAAEBvQAAAAAAAAD5AAAAAAAAAPkAAAAAAAEBvQAAAAAAAQG9AAAAAAACAbkAAAAAAAAA+QAAAAAAAgGtAAAAAAABAb0AAAAAAAMBiQAAAAAAAwGJAAAAAAADAYkAAAAAAAMBiQAAAAAAAoGJAAAAAAADAYkAAAAAAAABjQAAAAAAAgGJAAAAAAAAgY0AAAAAAAMBiQAAAAAAAwGJAAAAAAADAYkAAAAAAAMBiQAAAAAAAwGJAAAAAAADAYkAAAAAAAMBiQAAAAAAAwGJAAAAAAADAYkAAAAAAAMBiQAAAAAAAwGJAAAAAAADAYkAAAAAAAMBiQAAAAAAAwGJAAAAAAAAAY0AAAAAAAABjQAAAAAAAwGJAAAAAAAAgY0AAAAAAAMBiQAAAAAAAwGJAAAAAAADAYkAAAAAAAMBiQAAAAAAA4GNAAAAAAADAYkAAAAAAAKBiQAAAAAAAgGJAAAAAAADAYkAAAAAAAMBiQAAAAAAAoGJAAAAAAADAYkAAAAAAAMBiQAAAAAAA4GJAAAAAAABgb0AAAAAAAGBvQAAAAAAA4GlAAAAAAAAgcEAAAAAAAMBiQAAAAAAAwGJAAAAAAADAYkAAAAAAAMBiQAAAAAAAwGJAAAAAAADgYkAAAAAAAMBiQAAAAAAAwGJAAAAAAADAYkAAAAAAAOBiQAAAAAAAwGJAAAAAAADAYkAAAAAAAMBiQAAAAAAAwGJAAAAAAACgYkAAAAAAAMBiQAAAAAAAwGJAAAAAAADAYkAAAAAAACBiQAAAAAAAoGFAAAAAAABAXkAAAAAAAABvQAAAAAAAgEhAAAAAAADAYkAAAAAAAMBiQAAAAAAAwGJAAAAAAADAYkAAAAAAAIBiQAAAAAAA4GJAAAAAAADAYkAAAAAAAMBiQAAAAAAAoGJAAAAAAACgYkAAAAAAAMBiQAAAAAAAoGJAAAAAAADAYkAAAAAAAMBiQAAAAAAAwGJAAAAAAADAYkAAAAAAAMBiQAAAAAAAwGJAAAAAAADAYkAAAAAAAMBiQAAAAAAAwGJAAAAAAADAYkAAAAAAAMBiQAAAAAAAwGJAAAAAAADAYkAAAAAAAOBiQAAAAAAAwGJAAAAAAADAYkAAAAAAAMBiQAAAAAAAwGJAAAAAAADAYkAAAAAAAMBiQAAAAAAAwGJAAAAAAADAYkAAAAAAAMBiQAAAAAAAwGJAAAAAAADAYkAAAAAAAMBiQAAAAAAAwGJAAAAAAADAYkAAAAAAAMBiQAAAAAAAwGJAAAAAAADAYkAAAAAAAMBiQAAAAAAAwGJAAAAAAADAYkAAAAAAAMBiQAAAAAAAwGJAAAAAAADAYkAAAAAAAMBiQAAAAAAAwGJAAAAAAADAYkAAAAAAAMBiQAAAAAAAwGJAAAAAAADAYkAAAAAAAMBiQAAAAAAAwGJAAAAAAADAYkAAAAAAAMBiQAAAAAAAgGJAAAAAAACgYkAAAAAAAEBvQAAAAAAAAGNAAAAAAACgYkAAAAAAAKBiQAAAAAAAwGJAAAAAAADAYkAAAAAAAMBiQAAAAAAAIGJAAAAAAADAYkAAAAAAAMBiQAAAAAAAwGJAAAAAAADAYkAAAAAAAEBvQAAAAAAAIG9AAAAAAAAASUAAAAAAAIBIQAAAAAAAQG9AAAAAAADAYkAAAAAAAGBlQAAAAAAAgGJAAAAAAADAYkAAAAAAAMBiQAAAAAAAoGJAAAAAAACgYkAAAAAAAKBiQAAAAAAAgGFAAAAAAAAASUAAAAAAAEBvQAAAAAAAAEpAAAAAAABgb0AAAAAAAGBvQAAAAAAAIGJAAAAAAABgYkAAAAAAAMBiQAAAAAAAYGJAAAAAAACgYUAAAAAAAMBiQAAAAAAAYGFAAAAAAABAWkAAAAAAAMBiQAAAAAAAwGJAAAAAAAAAYkAAAAAAAMBiQAAAAAAAYGNAAAAAAADAY0AAAAAAACBiQAAAAAAAoGJAAAAAAACgYkAAAAAAAMBiQAAAAAAAoGJAAAAAAADAYkAAAAAAAMBiQAAAAAAAYGJAAAAAAADgYkAAAAAAAMBiQAAAAAAAwGJAAAAAAADAYkAAAAAAAMBiQAAAAAAAwGJAAAAAAADAYkAAAAAAAKBiQAAAAAAAwGJAAAAAAADgYkAAAAAAAMBiQAAAAAAAwGJAAAAAAADAYkAAAAAAAMBiQAAAAAAAwGJAAAAAAADAYkAAAAAAAMBiQAAAAAAAwGJAAAAAAADAYkAAAAAAAKBiQAAAAAAAwGJAAAAAAADAYkAAAAAAAMBiQAAAAAAAoGJAAAAAAACgYkAAAAAAAMBiQAAAAAAAwGJAAAAAAADAYkAAAAAAAMBiQAAAAAAAwGJAAAAAAADAYkAAAAAAAMBiQAAAAAAAwGJAAAAAAADAYkAAAAAAAGBiQAAAAAAAoGJAAAAAAADAYkAAAAAAAKBiQAAAAAAAIG9AAAAAAABgZEAAAAAAAGBvQAAAAAAAYG9AAAAAAADAYkAAAAAAACBuQAAAAAAAwG5AAAAAAAAASUAAAAAAAMBuQAAAAAAAIGJAAAAAAAAAQUAAAAAAAMBiQAAAAAAAwGJAAAAAAADAYkAAAAAAAMBiQAAAAAAAQGNAAAAAAADAYkAAAAAAAIBiQAAAAAAAoGJAAAAAAACgYkAAAAAAAMBiQAAAAAAAgGJAAAAAAACAYkAAAAAAAIBiQAAAAAAAIGJAAAAAAACAY0AAAAAAAIBjQAAAAAAAwGJAAAAAAADAYkAAAAAAAMBiQAAAAAAAwGJAAAAAAAAAY0AAAAAAAMBiQAAAAAAAwGJAAAAAAADAYkAAAAAAAMBiQAAAAAAAwGJAAAAAAADAYkAAAAAAAMBiQAAAAAAAwGJAAAAAAADAYkAAAAAAAMBiQAAAAAAAwGJAAAAAAADAYkAAAAAAAMBiQAAAAAAAwGJAAAAAAADAYkAAAAAAAMBiQAAAAAAAwGJAAAAAAADAYkAAAAAAAMBiQAAAAAAAwGJAAAAAAADAYkAAAAAAAMBiQAAAAAAAwGJAAAAAAADAYkAAAAAAAMBiQAAAAAAAwGJAAAAAAADAYkAAAAAAAMBiQAAAAAAAwGJAAAAAAADAYkAAAAAAAMBiQAAAAAAAwGJAAAAAAAAASUAAAAAAAMBiQAAAAAAAwGJAAAAAAADAYkAAAAAAAMBiQAAAAAAAwGJAAAAAAADAYkAAAAAAAMBiQAAAAAAAwGJAAAAAAADAYkAAAAAAAMBiQAAAAAAAwGJAAAAAAADAYkAAAAAAAMBiQAAAAAAAAElAAAAAAADAYkAAAAAAAMBiQAAAAAAAwGJAAAAAAADAYkAAAAAAAMBiQAAAAAAAwGJAAAAAAADAYkAAAAAAAMBiQAAAAAAAQGBAAAAAAADAYkAAAAAAACBvQAAAAAAAQGNAAAAAAABgY0AAAAAAAMBiQAAAAAAAwGJAAAAAAADAYkAAAAAAACBiQAAAAAAAQGNAAAAAAADAYkAAAAAAAKBiQAAAAAAAAElAAAAAAAAAbkAAAAAAAEBvQAAAAAAAAElAAAAAAACASEAAAAAAAMBuQAAAAAAAYG9AAAAAAADAYkAAAAAAAABkQAAAAAAAwGJAAAAAAADAY0AAAAAAAMBiQAAAAAAAwGJAAAAAAADAYkAAAAAAAMBiQAAAAAAAQGJAAAAAAABAb0AAAAAAAABJQAAAAAAAwGJAAAAAAADAYkAAAAAAAMBiQAAAAAAAwGJAAAAAAADAYkAAAAAAAMBiQAAAAAAAgGJAAAAAAACgYkAAAAAAAKBiQAAAAAAAoGJAAAAAAABgYkAAAAAAAMBiQAAAAAAAwGJAAAAAAACAYkAAAAAAAKBhQAAAAAAAwGJAAAAAAADAYkAAAAAAAIBiQAAAAAAAoGJAAAAAAADAYkAAAAAAAMBiQAAAAAAAoGJAAAAAAADAYkAAAAAAAMBiQAAAAAAAoGJAAAAAAADAYkAAAAAAAMBiQAAAAAAAoGJAAAAAAACAYkAAAAAAAKBhQAAAAAAAwGJAAAAAAAAgYkAAAAAAAIBiQAAAAAAAIGJAAAAAAADAYkAAAAAAAIBiQAAAAAAAoGJAAAAAAADAYkAAAAAAAMBiQAAAAAAAoGJAAAAAAADAYkAAAAAAAMBiQAAAAAAAwGJAAAAAAAAgY0AAAAAAAABjQAAAAAAAAGJAAAAAAAAgY0AAAAAAAMBiQAAAAAAAwGJAAAAAAADAYkAAAAAAAMBiQAAAAAAAQG9AAAAAAADAYkAAAAAAAABJQAAAAAAAwGJAAAAAAABAb0AAAAAAAMBiQAAAAAAAwGJAAAAAAADAYkAAAAAAACBvQAAAAAAAAElAAAAAAADAYkAAAAAAAEBjQAAAAAAAwGJAAAAAAACgYkAAAAAAACBjQAAAAAAAwGJAAAAAAADAYkAAAAAAAMBiQAAAAAAAwGJAAAAAAABAW0AAAAAAAMBiQAAAAAAAoGJAAAAAAADAYkAAAAAAAIBiQAAAAAAAQG9AAAAAAADAYkAAAAAAAMBiQAAAAAAAwGJAAAAAAADAYkAAAAAAAMBiQAAAAAAAwGJAAAAAAADAYkAAAAAAAMBiQAAAAAAAwGJAAAAAAADAYkAAAAAAAEBvQAAAAAAAAEhAAAAAAADAbkAAAAAAAABIQAAAAAAAgG5AAAAAAACAQkAAAAAAAGBtQAAAAAAAwGJAAAAAAADAYkAAAAAAAMBiQAAAAAAAwGJAAAAAAADAYkAAAAAAAMBiQAAAAAAAwGJAAAAAAABAb0AAAAAAAEBvQAAAAAAAQG9AAAAAAABAb0AAAAAAAEBvQAAAAAAAIG9AAAAAAAAASUAAAAAAAMBiQAAAAAAAAG9AAAAAAADAYkAAAAAAAKBiQAAAAAAAAElAAAAAAADAYkAAAAAAAMBiQAAAAAAAgEFAAAAAAADAYkAAAAAAAMBiQAAAAAAAwGJAAAAAAADAYkAAAAAAAMBiQAAAAAAAIGNAAAAAAACgYkAAAAAAAMBiQAAAAAAAgGJAAAAAAADAYkAAAAAAAMBiQAAAAAAAAG5AAAAAAAAASUAAAAAAAIBMQAAAAAAAQG9AAAAAAABAb0AAAAAAAMBiQAAAAAAAwGJAAAAAAADAYkAAAAAAAMBiQAAAAAAAwGJAAAAAAAAgb0AAAAAAAEBvQAAAAAAAQG9AAAAAAAAgb0AAAAAAAMBiQAAAAAAAQG9AAAAAAADAYkAAAAAAAMBiQAAAAAAAwGJAAAAAAABgbUAAAAAAAMBuQAAAAAAAAEhAAAAAAAAgbkAAAAAAAABIQAAAAAAAoGJAAAAAAABgYkAAAAAAAIBiQAAAAAAAoGJAAAAAAADAYkAAAAAAAKBiQAAAAAAAwGJAAAAAAABAYEAAAAAAAKBiQAAAAAAAwGJAAAAAAADAYkAAAAAAAMBiQAAAAAAAwGJAAAAAAADAYkAAAAAAAMBiQAAAAAAAwGJAAAAAAADAYkAAAAAAAGBvQAAAAAAAIG9AAAAAAADAb0AAAAAAAMBiQAAAAAAAwGJAAAAAAACgYUAAAAAAAKBiQAAAAAAAoGJAAAAAAADAYkAAAAAAAMBiQAAAAAAAwGJAAAAAAADAYkAAAAAAAMBiQAAAAAAAwGJAAAAAAADAYkAAAAAAAKBuQAAAAAAAwG1AAAAAAAAQcEAAAAAAACBvQAAAAAAAwGJAAAAAAAAAaEAAAAAAACBvQAAAAAAAwG5AAAAAAADAbkAAAAAAACBvQAAAAAAAgG5AAAAAAABAb0AAAAAAACBrQAAAAAAAQG9AAAAAAABAb0AAAAAAAABwQAAAAAAAwG5AAAAAAABAb0AAAAAAAEBvQAAAAAAAwG5AAAAAAABAb0AAAAAAACBvQAAAAAAAwGJAAAAAAADAYkAAAAAAAMBiQAAAAAAAwGJAAAAAAADAYkAAAAAAACBiQAAAAAAAgGJAAAAAAADAYkAAAAAAACBiQAAAAAAAwGJAAAAAAACgYkAAAAAAAMBiQAAAAAAAwGJAAAAAAADAYkAAAAAAAMBiQAAAAAAAwGJAAAAAAADAYkAAAAAAAMBiQAAAAAAAwGJAAAAAAADAYkAAAAAAAMBiQAAAAAAAoGxAAAAAAABQcEAAAAAAAEBvQAAAAAAAAG5AAAAAAABAb0AAAAAAAABvQAAAAAAAYG9AAAAAAABAb0AAAAAAAEBvQAAAAAAAQG9AAAAAAABAb0AAAAAAAEBvQAAAAAAAQG9AAAAAAABAb0AAAAAAAEBvQAAAAAAAQG9AAAAAAABAb0AAAAAAAEBvQAAAAAAAIG9AAAAAAAAgb0AAAAAAAEBvQAAAAAAAIG9AAAAAAABAb0AAAAAAACBvQAAAAAAAYG9AAAAAAADAbkAAAAAAACBvQAAAAAAAQG9AAAAAAABAb0AAAAAAACBvQAAAAAAAIG9AAAAAAABAb0AAAAAAAEBvQAAAAAAAQG9AAAAAAABAb0AAAAAAACBuQAAAAAAAQG9AAAAAAABAb0AAAAAAAEBvQAAAAAAAIG9AAAAAAAAgb0AAAAAAACBvQAAAAAAAIG9AAAAAAAAgb0AAAAAAACBvQAAAAAAAYG1AAAAAAABgb0AAAAAAAMBuQAAAAAAAQG9AAAAAAABAb0AAAAAAAEBvQAAAAAAAwG9AAAAAAABAb0AAAAAAAEBvQAAAAAAAQG9AAAAAAADAbkAAAAAAACBuQAAAAAAAIG9AAAAAAAAgbkAAAAAAAEBvQAAAAAAAAFlAAAAAAAAAWUAAAAAAAABZQAAAAAAAAFlAAAAAAAAAWUAAAAAAAABZQAAAAAAAQG9AAAAAAAAgb0AAAAAAAGBtQAAAAAAAIG5AAAAAAABgbUAAAAAAACBvQAAAAAAAQG9AAAAAAABAb0AAAAAAAEBvQAAAAAAAIG9AAAAAAAAgbkAAAAAAAEBvQAAAAAAAQG9AAAAAAACAbkAAAAAAAGBvQAAAAAAAQG9AAAAAAAAgb0AAAAAAAMBuQAAAAAAAQG9AAAAAAAAAWUAAAAAAAABZQAAAAAAAAFlAAAAAAAAAWUAAAAAAAEBvQAAAAAAAQG9AAAAAAABAb0AAAAAAAEBvQAAAAAAAQG9AAAAAAAAgb0AAAAAAAEBvQAAAAAAAQG9AAAAAAACAYkAAAAAAAABwQAAAAAAAwG9AAAAAAADAb0AAAAAAAEBxQAAAAAAAQG9AAAAAAABgb0AAAAAAAGBvQAAAAAAAwG5AAAAAAABAb0AAAAAAACBuQAAAAAAAQG9AAAAAAABAb0AAAAAAAEBvQAAAAAAAAFlAAAAAAAAAWUAAAAAAAABZQAAAAAAAAFlAAAAAAABAb0AAAAAAAEBvQAAAAAAAQG9AAAAAAABAb0AAAAAAAEBvQAAAAAAAQG9AAAAAAABAb0AAAAAAAEBvQAAAAAAAYG9AAAAAAABAb0AAAAAAACBrQAAAAAAAwG5AAAAAAAAgbkAAAAAAAEBvQAAAAAAAIG9AAAAAAABAb0AAAAAAAEBvQAAAAAAAQG9AAAAAAABAb0AAAAAAAEBvQAAAAAAAQG9AAAAAAABAb0AAAAAAACBvQAAAAAAAQG9AAAAAAABAb0AAAAAAAEBvQAAAAAAAQG9AAAAAAABAb0AAAAAAAKBqQAAAAAAAIG9AAAAAAAAgb0AAAAAAACBvQAAAAAAAIG9AAAAAAABAb0AAAAAAAGBtQAAAAAAAQG9AAAAAAABAb0AAAAAAACBvQAAAAAAAQG9AAAAAAAAgb0AAAAAAACBvQAAAAAAAQG9AAAAAAADAbkAAAAAAAEBvQAAAAAAAQG9AAAAAAAAgb0AAAAAAACBuQAAAAAAAQG9AAAAAAAAgb0AAAAAAAEBvQAAAAAAAQG9AAAAAAADAbkAAAAAAAEBvQAAAAAAAQG9AAAAAAABAb0AAAAAAAEBvQAAAAAAAQG9AAAAAAABAb0AAAAAAAEBvQAAAAAAAQG9AAAAAAABAb0AAAAAAAMBtQAAAAAAAIG9AAAAAAABAb0AAAAAAAEBvQAAAAAAAcHJAAAAAAABAb0AAAAAAAEBvQAAAAAAAQG9AAAAAAABAb0AAAAAAAEBvQAAAAAAAIG9AAAAAAABAb0AAAAAAAEBvQAAAAAAAQG9AAAAAAABAb0AAAAAAAEBvQAAAAAAAQG9AAAAAAABAb0AAAAAAAEBvQAAAAAAAIG9AAAAAAAAAa0AAAAAAAEBvQAAAAAAAQG9AAAAAAABAb0AAAAAAAEBvQAAAAAAAQG9AAAAAAABAb0AAAAAAAABuQAAAAAAAwG5AAAAAAABAb0AAAAAAACBvQAAAAAAAIG9AAAAAAABAb0AAAAAAACBuQAAAAAAAQG9AAAAAAABAb0AAAAAAAEBvQAAAAAAAwG5AAAAAAABAb0AAAAAAAEBvQAAAAAAAIG9AAAAAAADAb0AAAAAAAABwQAAAAAAAQG9AAAAAAABAb0AAAAAAAEBvQAAAAAAAIG9AAAAAAABAb0AAAAAAAEBvQAAAAAAAQG9AAAAAAAAgb0AAAAAAACBvQAAAAAAAIG9AAAAAAABAb0AAAAAAAMBuQAAAAAAAQG9AAAAAAABAb0AAAAAAACBvQAAAAAAAQG9AAAAAAACAWEAAAAAAAEBvQAAAAAAAIG5AAAAAAADAbkAAAAAAAEBvQAAAAAAAoG5AAAAAAAAgbkAAAAAAAMBtQAAAAAAAQG9AAAAAAADAbkAAAAAAACBuQAAAAAAAYGxAAAAAAABAb0AAAAAAACBuQAAAAAAAYGxAAAAAAABAb0AAAAAAACBvQAAAAAAAIG5AAAAAAABAb0AAAAAAACBvQAAAAAAAQG9AAAAAAAAAaEAAAAAAAEBvQAAAAAAAIG9AAAAAAABAb0AAAAAAAEBvQAAAAAAAwG5AAAAAAABAb0AAAAAAAABvQAAAAAAAQG9AAAAAAABAb0AAAAAAAEBvQAAAAAAAQG9AAAAAAABAb0AAAAAAAABvQAAAAAAAQG9AAAAAAABAb0AAAAAAACBuQAAAAAAAIG9AAAAAAADAbkAAAAAAAEBvQAAAAAAAoG5AAAAAAABAb0AAAAAAACBvQAAAAAAAQG9AAAAAAAAgbkAAAAAAAEBvQAAAAAAAQG9AAAAAAAAgb0AAAAAAAEBvQAAAAAAAYG1AAAAAAAAgb0AAAAAAAEBvQAAAAAAAQG9AAAAAAABAb0AAAAAAACBvQAAAAAAAQG9AAAAAAABAb0AAAAAAAEBvQAAAAAAAQG9AAAAAAABAb0AAAAAAAEBvQAAAAAAAQG9AAAAAAABAb0AAAAAAAEBvQAAAAAAAQG9AAAAAAABAb0AAAAAAAEBvQAAAAAAAQG9AAAAAAABAb0AAAAAAAEBvQAAAAAAAQG9AAAAAAAAgbkAAAAAAAEBvQAAAAAAAIG5AAAAAAABAb0AAAAAAAOBtQAAAAAAAQG9AAAAAAABgbUAAAAAAAOBtQAAAAAAAoG5AAAAAAAAgb0AAAAAAACBvQAAAAAAAQG9AAAAAAAAgb0AAAAAAAGBtQAAAAAAAIG5AAAAAAAAgb0AAAAAAACBvQAAAAAAAQG9AAAAAAADAbkAAAAAAAEBvQAAAAAAAQG9AAAAAAABAb0AAAAAAAEBvQAAAAAAAIG9AAAAAAADAbEAAAAAAACBvQAAAAAAAQG9AAAAAAABAb0AAAAAAAEBvQAAAAAAAQG9AAAAAAAAgb0AAAAAAAEBvQAAAAAAAQG9AAAAAAAAgb0AAAAAAACBvQAAAAAAAIG9AAAAAAAAgb0AAAAAAAMBuQAAAAAAAIG5AAAAAAAAgb0AAAAAAAEBvQAAAAAAAQG9AAAAAAAAgb0AAAAAAAEBvQAAAAAAAIG9AAAAAAADAbkAAAAAAACBvQAAAAAAAIG5AAAAAAABAb0AAAAAAAEBvQAAAAAAAgG5AAAAAAACgYkAAAAAAAEBvQAAAAAAAQG9AAAAAAABAb0AAAAAAACBvQAAAAAAAQG9AAAAAAABAb0AAAAAAAMBuQAAAAAAAQG9AAAAAAABAb0AAAAAAACBrQAAAAAAAIGtAAAAAAABAb0AAAAAAACBvQAAAAAAAIG9AAAAAAAAgb0AAAAAAAEBvQAAAAAAAQG9AAAAAAADAbkAAAAAAAEBvQAAAAAAAQG9AAAAAAADAbkAAAAAAACBvQAAAAAAAQG9AAAAAAABAb0AAAAAAACBuQAAAAAAAQG9AAAAAAAAgbkAAAAAAACBvQAAAAAAAYG1AAAAAAABgbUAAAAAAAGBtQAAAAAAAQG9AAAAAAABAb0AAAAAAAEBZQAAAAAAAwFlAAAAAAADAWUAAAAAAAMBYQAAAAAAAwFlAAAAAAABAb0AAAAAAAIBkQAAAAAAAQG9AAAAAAAAgb0AAAAAAAEBvQAAAAAAAQG9AAAAAAABAb0AAAAAAAEBvQAAAAAAAQG9A",
          "dtype": "f8"
         },
         "xaxis": "x2",
         "yaxis": "y2"
        }
       ],
       "layout": {
        "barmode": "relative",
        "legend": {
         "tracegroupgap": 0
        },
        "template": {
         "data": {
          "bar": [
           {
            "error_x": {
             "color": "#2a3f5f"
            },
            "error_y": {
             "color": "#2a3f5f"
            },
            "marker": {
             "line": {
              "color": "#E5ECF6",
              "width": 0.5
             },
             "pattern": {
              "fillmode": "overlay",
              "size": 10,
              "solidity": 0.2
             }
            },
            "type": "bar"
           }
          ],
          "barpolar": [
           {
            "marker": {
             "line": {
              "color": "#E5ECF6",
              "width": 0.5
             },
             "pattern": {
              "fillmode": "overlay",
              "size": 10,
              "solidity": 0.2
             }
            },
            "type": "barpolar"
           }
          ],
          "carpet": [
           {
            "aaxis": {
             "endlinecolor": "#2a3f5f",
             "gridcolor": "white",
             "linecolor": "white",
             "minorgridcolor": "white",
             "startlinecolor": "#2a3f5f"
            },
            "baxis": {
             "endlinecolor": "#2a3f5f",
             "gridcolor": "white",
             "linecolor": "white",
             "minorgridcolor": "white",
             "startlinecolor": "#2a3f5f"
            },
            "type": "carpet"
           }
          ],
          "choropleth": [
           {
            "colorbar": {
             "outlinewidth": 0,
             "ticks": ""
            },
            "type": "choropleth"
           }
          ],
          "contour": [
           {
            "colorbar": {
             "outlinewidth": 0,
             "ticks": ""
            },
            "colorscale": [
             [
              0,
              "#0d0887"
             ],
             [
              0.1111111111111111,
              "#46039f"
             ],
             [
              0.2222222222222222,
              "#7201a8"
             ],
             [
              0.3333333333333333,
              "#9c179e"
             ],
             [
              0.4444444444444444,
              "#bd3786"
             ],
             [
              0.5555555555555556,
              "#d8576b"
             ],
             [
              0.6666666666666666,
              "#ed7953"
             ],
             [
              0.7777777777777778,
              "#fb9f3a"
             ],
             [
              0.8888888888888888,
              "#fdca26"
             ],
             [
              1,
              "#f0f921"
             ]
            ],
            "type": "contour"
           }
          ],
          "contourcarpet": [
           {
            "colorbar": {
             "outlinewidth": 0,
             "ticks": ""
            },
            "type": "contourcarpet"
           }
          ],
          "heatmap": [
           {
            "colorbar": {
             "outlinewidth": 0,
             "ticks": ""
            },
            "colorscale": [
             [
              0,
              "#0d0887"
             ],
             [
              0.1111111111111111,
              "#46039f"
             ],
             [
              0.2222222222222222,
              "#7201a8"
             ],
             [
              0.3333333333333333,
              "#9c179e"
             ],
             [
              0.4444444444444444,
              "#bd3786"
             ],
             [
              0.5555555555555556,
              "#d8576b"
             ],
             [
              0.6666666666666666,
              "#ed7953"
             ],
             [
              0.7777777777777778,
              "#fb9f3a"
             ],
             [
              0.8888888888888888,
              "#fdca26"
             ],
             [
              1,
              "#f0f921"
             ]
            ],
            "type": "heatmap"
           }
          ],
          "histogram": [
           {
            "marker": {
             "pattern": {
              "fillmode": "overlay",
              "size": 10,
              "solidity": 0.2
             }
            },
            "type": "histogram"
           }
          ],
          "histogram2d": [
           {
            "colorbar": {
             "outlinewidth": 0,
             "ticks": ""
            },
            "colorscale": [
             [
              0,
              "#0d0887"
             ],
             [
              0.1111111111111111,
              "#46039f"
             ],
             [
              0.2222222222222222,
              "#7201a8"
             ],
             [
              0.3333333333333333,
              "#9c179e"
             ],
             [
              0.4444444444444444,
              "#bd3786"
             ],
             [
              0.5555555555555556,
              "#d8576b"
             ],
             [
              0.6666666666666666,
              "#ed7953"
             ],
             [
              0.7777777777777778,
              "#fb9f3a"
             ],
             [
              0.8888888888888888,
              "#fdca26"
             ],
             [
              1,
              "#f0f921"
             ]
            ],
            "type": "histogram2d"
           }
          ],
          "histogram2dcontour": [
           {
            "colorbar": {
             "outlinewidth": 0,
             "ticks": ""
            },
            "colorscale": [
             [
              0,
              "#0d0887"
             ],
             [
              0.1111111111111111,
              "#46039f"
             ],
             [
              0.2222222222222222,
              "#7201a8"
             ],
             [
              0.3333333333333333,
              "#9c179e"
             ],
             [
              0.4444444444444444,
              "#bd3786"
             ],
             [
              0.5555555555555556,
              "#d8576b"
             ],
             [
              0.6666666666666666,
              "#ed7953"
             ],
             [
              0.7777777777777778,
              "#fb9f3a"
             ],
             [
              0.8888888888888888,
              "#fdca26"
             ],
             [
              1,
              "#f0f921"
             ]
            ],
            "type": "histogram2dcontour"
           }
          ],
          "mesh3d": [
           {
            "colorbar": {
             "outlinewidth": 0,
             "ticks": ""
            },
            "type": "mesh3d"
           }
          ],
          "parcoords": [
           {
            "line": {
             "colorbar": {
              "outlinewidth": 0,
              "ticks": ""
             }
            },
            "type": "parcoords"
           }
          ],
          "pie": [
           {
            "automargin": true,
            "type": "pie"
           }
          ],
          "scatter": [
           {
            "fillpattern": {
             "fillmode": "overlay",
             "size": 10,
             "solidity": 0.2
            },
            "type": "scatter"
           }
          ],
          "scatter3d": [
           {
            "line": {
             "colorbar": {
              "outlinewidth": 0,
              "ticks": ""
             }
            },
            "marker": {
             "colorbar": {
              "outlinewidth": 0,
              "ticks": ""
             }
            },
            "type": "scatter3d"
           }
          ],
          "scattercarpet": [
           {
            "marker": {
             "colorbar": {
              "outlinewidth": 0,
              "ticks": ""
             }
            },
            "type": "scattercarpet"
           }
          ],
          "scattergeo": [
           {
            "marker": {
             "colorbar": {
              "outlinewidth": 0,
              "ticks": ""
             }
            },
            "type": "scattergeo"
           }
          ],
          "scattergl": [
           {
            "marker": {
             "colorbar": {
              "outlinewidth": 0,
              "ticks": ""
             }
            },
            "type": "scattergl"
           }
          ],
          "scattermap": [
           {
            "marker": {
             "colorbar": {
              "outlinewidth": 0,
              "ticks": ""
             }
            },
            "type": "scattermap"
           }
          ],
          "scattermapbox": [
           {
            "marker": {
             "colorbar": {
              "outlinewidth": 0,
              "ticks": ""
             }
            },
            "type": "scattermapbox"
           }
          ],
          "scatterpolar": [
           {
            "marker": {
             "colorbar": {
              "outlinewidth": 0,
              "ticks": ""
             }
            },
            "type": "scatterpolar"
           }
          ],
          "scatterpolargl": [
           {
            "marker": {
             "colorbar": {
              "outlinewidth": 0,
              "ticks": ""
             }
            },
            "type": "scatterpolargl"
           }
          ],
          "scatterternary": [
           {
            "marker": {
             "colorbar": {
              "outlinewidth": 0,
              "ticks": ""
             }
            },
            "type": "scatterternary"
           }
          ],
          "surface": [
           {
            "colorbar": {
             "outlinewidth": 0,
             "ticks": ""
            },
            "colorscale": [
             [
              0,
              "#0d0887"
             ],
             [
              0.1111111111111111,
              "#46039f"
             ],
             [
              0.2222222222222222,
              "#7201a8"
             ],
             [
              0.3333333333333333,
              "#9c179e"
             ],
             [
              0.4444444444444444,
              "#bd3786"
             ],
             [
              0.5555555555555556,
              "#d8576b"
             ],
             [
              0.6666666666666666,
              "#ed7953"
             ],
             [
              0.7777777777777778,
              "#fb9f3a"
             ],
             [
              0.8888888888888888,
              "#fdca26"
             ],
             [
              1,
              "#f0f921"
             ]
            ],
            "type": "surface"
           }
          ],
          "table": [
           {
            "cells": {
             "fill": {
              "color": "#EBF0F8"
             },
             "line": {
              "color": "white"
             }
            },
            "header": {
             "fill": {
              "color": "#C8D4E3"
             },
             "line": {
              "color": "white"
             }
            },
            "type": "table"
           }
          ]
         },
         "layout": {
          "annotationdefaults": {
           "arrowcolor": "#2a3f5f",
           "arrowhead": 0,
           "arrowwidth": 1
          },
          "autotypenumbers": "strict",
          "coloraxis": {
           "colorbar": {
            "outlinewidth": 0,
            "ticks": ""
           }
          },
          "colorscale": {
           "diverging": [
            [
             0,
             "#8e0152"
            ],
            [
             0.1,
             "#c51b7d"
            ],
            [
             0.2,
             "#de77ae"
            ],
            [
             0.3,
             "#f1b6da"
            ],
            [
             0.4,
             "#fde0ef"
            ],
            [
             0.5,
             "#f7f7f7"
            ],
            [
             0.6,
             "#e6f5d0"
            ],
            [
             0.7,
             "#b8e186"
            ],
            [
             0.8,
             "#7fbc41"
            ],
            [
             0.9,
             "#4d9221"
            ],
            [
             1,
             "#276419"
            ]
           ],
           "sequential": [
            [
             0,
             "#0d0887"
            ],
            [
             0.1111111111111111,
             "#46039f"
            ],
            [
             0.2222222222222222,
             "#7201a8"
            ],
            [
             0.3333333333333333,
             "#9c179e"
            ],
            [
             0.4444444444444444,
             "#bd3786"
            ],
            [
             0.5555555555555556,
             "#d8576b"
            ],
            [
             0.6666666666666666,
             "#ed7953"
            ],
            [
             0.7777777777777778,
             "#fb9f3a"
            ],
            [
             0.8888888888888888,
             "#fdca26"
            ],
            [
             1,
             "#f0f921"
            ]
           ],
           "sequentialminus": [
            [
             0,
             "#0d0887"
            ],
            [
             0.1111111111111111,
             "#46039f"
            ],
            [
             0.2222222222222222,
             "#7201a8"
            ],
            [
             0.3333333333333333,
             "#9c179e"
            ],
            [
             0.4444444444444444,
             "#bd3786"
            ],
            [
             0.5555555555555556,
             "#d8576b"
            ],
            [
             0.6666666666666666,
             "#ed7953"
            ],
            [
             0.7777777777777778,
             "#fb9f3a"
            ],
            [
             0.8888888888888888,
             "#fdca26"
            ],
            [
             1,
             "#f0f921"
            ]
           ]
          },
          "colorway": [
           "#636efa",
           "#EF553B",
           "#00cc96",
           "#ab63fa",
           "#FFA15A",
           "#19d3f3",
           "#FF6692",
           "#B6E880",
           "#FF97FF",
           "#FECB52"
          ],
          "font": {
           "color": "#2a3f5f"
          },
          "geo": {
           "bgcolor": "white",
           "lakecolor": "white",
           "landcolor": "#E5ECF6",
           "showlakes": true,
           "showland": true,
           "subunitcolor": "white"
          },
          "hoverlabel": {
           "align": "left"
          },
          "hovermode": "closest",
          "mapbox": {
           "style": "light"
          },
          "paper_bgcolor": "white",
          "plot_bgcolor": "#E5ECF6",
          "polar": {
           "angularaxis": {
            "gridcolor": "white",
            "linecolor": "white",
            "ticks": ""
           },
           "bgcolor": "#E5ECF6",
           "radialaxis": {
            "gridcolor": "white",
            "linecolor": "white",
            "ticks": ""
           }
          },
          "scene": {
           "xaxis": {
            "backgroundcolor": "#E5ECF6",
            "gridcolor": "white",
            "gridwidth": 2,
            "linecolor": "white",
            "showbackground": true,
            "ticks": "",
            "zerolinecolor": "white"
           },
           "yaxis": {
            "backgroundcolor": "#E5ECF6",
            "gridcolor": "white",
            "gridwidth": 2,
            "linecolor": "white",
            "showbackground": true,
            "ticks": "",
            "zerolinecolor": "white"
           },
           "zaxis": {
            "backgroundcolor": "#E5ECF6",
            "gridcolor": "white",
            "gridwidth": 2,
            "linecolor": "white",
            "showbackground": true,
            "ticks": "",
            "zerolinecolor": "white"
           }
          },
          "shapedefaults": {
           "line": {
            "color": "#2a3f5f"
           }
          },
          "ternary": {
           "aaxis": {
            "gridcolor": "white",
            "linecolor": "white",
            "ticks": ""
           },
           "baxis": {
            "gridcolor": "white",
            "linecolor": "white",
            "ticks": ""
           },
           "bgcolor": "#E5ECF6",
           "caxis": {
            "gridcolor": "white",
            "linecolor": "white",
            "ticks": ""
           }
          },
          "title": {
           "x": 0.05
          },
          "xaxis": {
           "automargin": true,
           "gridcolor": "white",
           "linecolor": "white",
           "ticks": "",
           "title": {
            "standoff": 15
           },
           "zerolinecolor": "white",
           "zerolinewidth": 2
          },
          "yaxis": {
           "automargin": true,
           "gridcolor": "white",
           "linecolor": "white",
           "ticks": "",
           "title": {
            "standoff": 15
           },
           "zerolinecolor": "white",
           "zerolinewidth": 2
          }
         }
        },
        "title": {
         "text": "Number of entries on depth"
        },
        "xaxis": {
         "anchor": "y",
         "domain": [
          0,
          1
         ],
         "title": {
          "text": "Depth"
         }
        },
        "xaxis2": {
         "anchor": "y2",
         "domain": [
          0,
          1
         ],
         "matches": "x",
         "showgrid": true,
         "showticklabels": false
        },
        "yaxis": {
         "anchor": "x",
         "domain": [
          0,
          0.8316
         ],
         "title": {
          "text": "count"
         }
        },
        "yaxis2": {
         "anchor": "x2",
         "domain": [
          0.8416,
          1
         ],
         "matches": "y2",
         "showgrid": false,
         "showline": false,
         "showticklabels": false,
         "ticks": ""
        }
       }
      }
     },
     "metadata": {},
     "output_type": "display_data"
    }
   ],
   "source": [
    "px.histogram(\n",
    "    index,\n",
    "    x=\"DEPTH_STRT\",\n",
    "    title=\"Number of entries on depth\",\n",
    "    labels=dict(\n",
    "        DEPTH_STRT=\"Depth\",\n",
    "        count=\"Number of entries\",\n",
    "    ),\n",
    "    marginal=\"violin\",\n",
    ")\n"
   ]
  },
  {
   "cell_type": "markdown",
   "metadata": {},
   "source": [
    "### Volume filtered\n"
   ]
  },
  {
   "cell_type": "code",
   "execution_count": 14,
   "metadata": {},
   "outputs": [
    {
     "data": {
      "application/vnd.plotly.v1+json": {
       "config": {
        "plotlyServerURL": "https://plot.ly"
       },
       "data": [
        {
         "bingroup": "x",
         "hovertemplate": "Volume filtered (m3)=%{x}<br>count=%{y}<extra></extra>",
         "legendgroup": "",
         "marker": {
          "color": "#636efa",
          "pattern": {
           "shape": ""
          }
         },
         "name": "",
         "orientation": "v",
         "showlegend": false,
         "type": "histogram",
         "x": {
          "bdata": "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",
          "dtype": "f8"
         },
         "xaxis": "x",
         "yaxis": "y"
        },
        {
         "hovertemplate": "Volume filtered (m3)=%{x}<extra></extra>",
         "legendgroup": "",
         "marker": {
          "color": "#636efa"
         },
         "name": "",
         "notched": true,
         "showlegend": false,
         "type": "box",
         "x": {
          "bdata": "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",
          "dtype": "f8"
         },
         "xaxis": "x2",
         "yaxis": "y2"
        }
       ],
       "layout": {
        "barmode": "relative",
        "legend": {
         "tracegroupgap": 0
        },
        "template": {
         "data": {
          "bar": [
           {
            "error_x": {
             "color": "#2a3f5f"
            },
            "error_y": {
             "color": "#2a3f5f"
            },
            "marker": {
             "line": {
              "color": "#E5ECF6",
              "width": 0.5
             },
             "pattern": {
              "fillmode": "overlay",
              "size": 10,
              "solidity": 0.2
             }
            },
            "type": "bar"
           }
          ],
          "barpolar": [
           {
            "marker": {
             "line": {
              "color": "#E5ECF6",
              "width": 0.5
             },
             "pattern": {
              "fillmode": "overlay",
              "size": 10,
              "solidity": 0.2
             }
            },
            "type": "barpolar"
           }
          ],
          "carpet": [
           {
            "aaxis": {
             "endlinecolor": "#2a3f5f",
             "gridcolor": "white",
             "linecolor": "white",
             "minorgridcolor": "white",
             "startlinecolor": "#2a3f5f"
            },
            "baxis": {
             "endlinecolor": "#2a3f5f",
             "gridcolor": "white",
             "linecolor": "white",
             "minorgridcolor": "white",
             "startlinecolor": "#2a3f5f"
            },
            "type": "carpet"
           }
          ],
          "choropleth": [
           {
            "colorbar": {
             "outlinewidth": 0,
             "ticks": ""
            },
            "type": "choropleth"
           }
          ],
          "contour": [
           {
            "colorbar": {
             "outlinewidth": 0,
             "ticks": ""
            },
            "colorscale": [
             [
              0,
              "#0d0887"
             ],
             [
              0.1111111111111111,
              "#46039f"
             ],
             [
              0.2222222222222222,
              "#7201a8"
             ],
             [
              0.3333333333333333,
              "#9c179e"
             ],
             [
              0.4444444444444444,
              "#bd3786"
             ],
             [
              0.5555555555555556,
              "#d8576b"
             ],
             [
              0.6666666666666666,
              "#ed7953"
             ],
             [
              0.7777777777777778,
              "#fb9f3a"
             ],
             [
              0.8888888888888888,
              "#fdca26"
             ],
             [
              1,
              "#f0f921"
             ]
            ],
            "type": "contour"
           }
          ],
          "contourcarpet": [
           {
            "colorbar": {
             "outlinewidth": 0,
             "ticks": ""
            },
            "type": "contourcarpet"
           }
          ],
          "heatmap": [
           {
            "colorbar": {
             "outlinewidth": 0,
             "ticks": ""
            },
            "colorscale": [
             [
              0,
              "#0d0887"
             ],
             [
              0.1111111111111111,
              "#46039f"
             ],
             [
              0.2222222222222222,
              "#7201a8"
             ],
             [
              0.3333333333333333,
              "#9c179e"
             ],
             [
              0.4444444444444444,
              "#bd3786"
             ],
             [
              0.5555555555555556,
              "#d8576b"
             ],
             [
              0.6666666666666666,
              "#ed7953"
             ],
             [
              0.7777777777777778,
              "#fb9f3a"
             ],
             [
              0.8888888888888888,
              "#fdca26"
             ],
             [
              1,
              "#f0f921"
             ]
            ],
            "type": "heatmap"
           }
          ],
          "histogram": [
           {
            "marker": {
             "pattern": {
              "fillmode": "overlay",
              "size": 10,
              "solidity": 0.2
             }
            },
            "type": "histogram"
           }
          ],
          "histogram2d": [
           {
            "colorbar": {
             "outlinewidth": 0,
             "ticks": ""
            },
            "colorscale": [
             [
              0,
              "#0d0887"
             ],
             [
              0.1111111111111111,
              "#46039f"
             ],
             [
              0.2222222222222222,
              "#7201a8"
             ],
             [
              0.3333333333333333,
              "#9c179e"
             ],
             [
              0.4444444444444444,
              "#bd3786"
             ],
             [
              0.5555555555555556,
              "#d8576b"
             ],
             [
              0.6666666666666666,
              "#ed7953"
             ],
             [
              0.7777777777777778,
              "#fb9f3a"
             ],
             [
              0.8888888888888888,
              "#fdca26"
             ],
             [
              1,
              "#f0f921"
             ]
            ],
            "type": "histogram2d"
           }
          ],
          "histogram2dcontour": [
           {
            "colorbar": {
             "outlinewidth": 0,
             "ticks": ""
            },
            "colorscale": [
             [
              0,
              "#0d0887"
             ],
             [
              0.1111111111111111,
              "#46039f"
             ],
             [
              0.2222222222222222,
              "#7201a8"
             ],
             [
              0.3333333333333333,
              "#9c179e"
             ],
             [
              0.4444444444444444,
              "#bd3786"
             ],
             [
              0.5555555555555556,
              "#d8576b"
             ],
             [
              0.6666666666666666,
              "#ed7953"
             ],
             [
              0.7777777777777778,
              "#fb9f3a"
             ],
             [
              0.8888888888888888,
              "#fdca26"
             ],
             [
              1,
              "#f0f921"
             ]
            ],
            "type": "histogram2dcontour"
           }
          ],
          "mesh3d": [
           {
            "colorbar": {
             "outlinewidth": 0,
             "ticks": ""
            },
            "type": "mesh3d"
           }
          ],
          "parcoords": [
           {
            "line": {
             "colorbar": {
              "outlinewidth": 0,
              "ticks": ""
             }
            },
            "type": "parcoords"
           }
          ],
          "pie": [
           {
            "automargin": true,
            "type": "pie"
           }
          ],
          "scatter": [
           {
            "fillpattern": {
             "fillmode": "overlay",
             "size": 10,
             "solidity": 0.2
            },
            "type": "scatter"
           }
          ],
          "scatter3d": [
           {
            "line": {
             "colorbar": {
              "outlinewidth": 0,
              "ticks": ""
             }
            },
            "marker": {
             "colorbar": {
              "outlinewidth": 0,
              "ticks": ""
             }
            },
            "type": "scatter3d"
           }
          ],
          "scattercarpet": [
           {
            "marker": {
             "colorbar": {
              "outlinewidth": 0,
              "ticks": ""
             }
            },
            "type": "scattercarpet"
           }
          ],
          "scattergeo": [
           {
            "marker": {
             "colorbar": {
              "outlinewidth": 0,
              "ticks": ""
             }
            },
            "type": "scattergeo"
           }
          ],
          "scattergl": [
           {
            "marker": {
             "colorbar": {
              "outlinewidth": 0,
              "ticks": ""
             }
            },
            "type": "scattergl"
           }
          ],
          "scattermap": [
           {
            "marker": {
             "colorbar": {
              "outlinewidth": 0,
              "ticks": ""
             }
            },
            "type": "scattermap"
           }
          ],
          "scattermapbox": [
           {
            "marker": {
             "colorbar": {
              "outlinewidth": 0,
              "ticks": ""
             }
            },
            "type": "scattermapbox"
           }
          ],
          "scatterpolar": [
           {
            "marker": {
             "colorbar": {
              "outlinewidth": 0,
              "ticks": ""
             }
            },
            "type": "scatterpolar"
           }
          ],
          "scatterpolargl": [
           {
            "marker": {
             "colorbar": {
              "outlinewidth": 0,
              "ticks": ""
             }
            },
            "type": "scatterpolargl"
           }
          ],
          "scatterternary": [
           {
            "marker": {
             "colorbar": {
              "outlinewidth": 0,
              "ticks": ""
             }
            },
            "type": "scatterternary"
           }
          ],
          "surface": [
           {
            "colorbar": {
             "outlinewidth": 0,
             "ticks": ""
            },
            "colorscale": [
             [
              0,
              "#0d0887"
             ],
             [
              0.1111111111111111,
              "#46039f"
             ],
             [
              0.2222222222222222,
              "#7201a8"
             ],
             [
              0.3333333333333333,
              "#9c179e"
             ],
             [
              0.4444444444444444,
              "#bd3786"
             ],
             [
              0.5555555555555556,
              "#d8576b"
             ],
             [
              0.6666666666666666,
              "#ed7953"
             ],
             [
              0.7777777777777778,
              "#fb9f3a"
             ],
             [
              0.8888888888888888,
              "#fdca26"
             ],
             [
              1,
              "#f0f921"
             ]
            ],
            "type": "surface"
           }
          ],
          "table": [
           {
            "cells": {
             "fill": {
              "color": "#EBF0F8"
             },
             "line": {
              "color": "white"
             }
            },
            "header": {
             "fill": {
              "color": "#C8D4E3"
             },
             "line": {
              "color": "white"
             }
            },
            "type": "table"
           }
          ]
         },
         "layout": {
          "annotationdefaults": {
           "arrowcolor": "#2a3f5f",
           "arrowhead": 0,
           "arrowwidth": 1
          },
          "autotypenumbers": "strict",
          "coloraxis": {
           "colorbar": {
            "outlinewidth": 0,
            "ticks": ""
           }
          },
          "colorscale": {
           "diverging": [
            [
             0,
             "#8e0152"
            ],
            [
             0.1,
             "#c51b7d"
            ],
            [
             0.2,
             "#de77ae"
            ],
            [
             0.3,
             "#f1b6da"
            ],
            [
             0.4,
             "#fde0ef"
            ],
            [
             0.5,
             "#f7f7f7"
            ],
            [
             0.6,
             "#e6f5d0"
            ],
            [
             0.7,
             "#b8e186"
            ],
            [
             0.8,
             "#7fbc41"
            ],
            [
             0.9,
             "#4d9221"
            ],
            [
             1,
             "#276419"
            ]
           ],
           "sequential": [
            [
             0,
             "#0d0887"
            ],
            [
             0.1111111111111111,
             "#46039f"
            ],
            [
             0.2222222222222222,
             "#7201a8"
            ],
            [
             0.3333333333333333,
             "#9c179e"
            ],
            [
             0.4444444444444444,
             "#bd3786"
            ],
            [
             0.5555555555555556,
             "#d8576b"
            ],
            [
             0.6666666666666666,
             "#ed7953"
            ],
            [
             0.7777777777777778,
             "#fb9f3a"
            ],
            [
             0.8888888888888888,
             "#fdca26"
            ],
            [
             1,
             "#f0f921"
            ]
           ],
           "sequentialminus": [
            [
             0,
             "#0d0887"
            ],
            [
             0.1111111111111111,
             "#46039f"
            ],
            [
             0.2222222222222222,
             "#7201a8"
            ],
            [
             0.3333333333333333,
             "#9c179e"
            ],
            [
             0.4444444444444444,
             "#bd3786"
            ],
            [
             0.5555555555555556,
             "#d8576b"
            ],
            [
             0.6666666666666666,
             "#ed7953"
            ],
            [
             0.7777777777777778,
             "#fb9f3a"
            ],
            [
             0.8888888888888888,
             "#fdca26"
            ],
            [
             1,
             "#f0f921"
            ]
           ]
          },
          "colorway": [
           "#636efa",
           "#EF553B",
           "#00cc96",
           "#ab63fa",
           "#FFA15A",
           "#19d3f3",
           "#FF6692",
           "#B6E880",
           "#FF97FF",
           "#FECB52"
          ],
          "font": {
           "color": "#2a3f5f"
          },
          "geo": {
           "bgcolor": "white",
           "lakecolor": "white",
           "landcolor": "#E5ECF6",
           "showlakes": true,
           "showland": true,
           "subunitcolor": "white"
          },
          "hoverlabel": {
           "align": "left"
          },
          "hovermode": "closest",
          "mapbox": {
           "style": "light"
          },
          "paper_bgcolor": "white",
          "plot_bgcolor": "#E5ECF6",
          "polar": {
           "angularaxis": {
            "gridcolor": "white",
            "linecolor": "white",
            "ticks": ""
           },
           "bgcolor": "#E5ECF6",
           "radialaxis": {
            "gridcolor": "white",
            "linecolor": "white",
            "ticks": ""
           }
          },
          "scene": {
           "xaxis": {
            "backgroundcolor": "#E5ECF6",
            "gridcolor": "white",
            "gridwidth": 2,
            "linecolor": "white",
            "showbackground": true,
            "ticks": "",
            "zerolinecolor": "white"
           },
           "yaxis": {
            "backgroundcolor": "#E5ECF6",
            "gridcolor": "white",
            "gridwidth": 2,
            "linecolor": "white",
            "showbackground": true,
            "ticks": "",
            "zerolinecolor": "white"
           },
           "zaxis": {
            "backgroundcolor": "#E5ECF6",
            "gridcolor": "white",
            "gridwidth": 2,
            "linecolor": "white",
            "showbackground": true,
            "ticks": "",
            "zerolinecolor": "white"
           }
          },
          "shapedefaults": {
           "line": {
            "color": "#2a3f5f"
           }
          },
          "ternary": {
           "aaxis": {
            "gridcolor": "white",
            "linecolor": "white",
            "ticks": ""
           },
           "baxis": {
            "gridcolor": "white",
            "linecolor": "white",
            "ticks": ""
           },
           "bgcolor": "#E5ECF6",
           "caxis": {
            "gridcolor": "white",
            "linecolor": "white",
            "ticks": ""
           }
          },
          "title": {
           "x": 0.05
          },
          "xaxis": {
           "automargin": true,
           "gridcolor": "white",
           "linecolor": "white",
           "ticks": "",
           "title": {
            "standoff": 15
           },
           "zerolinecolor": "white",
           "zerolinewidth": 2
          },
          "yaxis": {
           "automargin": true,
           "gridcolor": "white",
           "linecolor": "white",
           "ticks": "",
           "title": {
            "standoff": 15
           },
           "zerolinecolor": "white",
           "zerolinewidth": 2
          }
         }
        },
        "title": {
         "text": "Number of entries by volume filtered"
        },
        "xaxis": {
         "anchor": "y",
         "domain": [
          0,
          1
         ],
         "title": {
          "text": "Volume filtered (m3)"
         }
        },
        "xaxis2": {
         "anchor": "y2",
         "domain": [
          0,
          1
         ],
         "matches": "x",
         "showgrid": true,
         "showticklabels": false
        },
        "yaxis": {
         "anchor": "x",
         "domain": [
          0,
          0.8316
         ],
         "title": {
          "text": "count"
         }
        },
        "yaxis2": {
         "anchor": "x2",
         "domain": [
          0.8416,
          1
         ],
         "matches": "y2",
         "showgrid": false,
         "showline": false,
         "showticklabels": false,
         "ticks": ""
        }
       }
      }
     },
     "metadata": {},
     "output_type": "display_data"
    }
   ],
   "source": [
    "px.histogram(\n",
    "    index,\n",
    "    x=\"Volume Filtered(m3)\",\n",
    "    title=\"Number of entries by volume filtered\",\n",
    "    labels={\n",
    "        \"Volume Filtered(m3)\": \"Volume filtered (m3)\",\n",
    "        \"count\": \"Number of entries\",\n",
    "    },\n",
    "    marginal=\"box\",\n",
    ")\n"
   ]
  },
  {
   "cell_type": "markdown",
   "metadata": {},
   "source": [
    "### Zero values\n"
   ]
  },
  {
   "cell_type": "code",
   "execution_count": 15,
   "metadata": {},
   "outputs": [],
   "source": [
    "nb_zeros = (data.iloc[:, 6:] > 0).sum(1) #non-zeros values"
   ]
  },
  {
   "cell_type": "code",
   "execution_count": 16,
   "metadata": {},
   "outputs": [
    {
     "data": {
      "application/vnd.plotly.v1+json": {
       "config": {
        "plotlyServerURL": "https://plot.ly"
       },
       "data": [
        {
         "bingroup": "x",
         "histfunc": "sum",
         "hovertemplate": "Depth (m)=%{x}<br>sum of Number of non-zero values=%{y}<extra></extra>",
         "legendgroup": "",
         "marker": {
          "color": "#636efa",
          "pattern": {
           "shape": ""
          }
         },
         "name": "",
         "nbinsx": 100,
         "orientation": "v",
         "showlegend": false,
         "type": "histogram",
         "x": {
          "bdata": "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",
          "dtype": "f8"
         },
         "xaxis": "x",
         "y": {
          "bdata": "GxUXExoZGBQZGiAYFhcZFRMYGRgaFxYWFhERFBUTFREXFRQVExETFRQSERETFRYSEx4bGRcWFxkXGBcXFxMWCAkKBRcEFxIHFA0YBBMGERoYCR8oGxoaGhgcGxkdHBsWGBkaGBsSFhUZGxQWHhgYFxkVFBcVEhUbGREZGBURExMTFhERGREUGBoYHB8dFiUeHx4YHhsZGiEhIB0dGhkcGxoZGiEgIh4cHh4fFysmHhsUGyAaIB8cGhgXDxMRERUXExcZFBQYFxgaIB8iIB0dHxgcHiEeHhweGBobGhgbGhsZFxkeGBgYGBUaGBoaIhsZFiIbHBMeFxcYHRgVEBQZGxcWGxIVJBohFx0WGxwZIyUhIBkVGBodEhkcGhoREREVFxcWFRcWFRYTFxYTEhAQGBIQDhASFhUVFRgUFRoXFRUVERYdHxkYFBkbFBQYGiEhFRkSGBUbJBoeIB0bExQZGR0iFRgTFxcZGBsXGBcZGBMVFBUUFxUUERIZGhwZGyEfHBoZGBwXGBUVEhcWEhgZHSAYFRoaFRsOFhQVFhcUHBgZGBgdIBobFhsdGR4SGhkOEhwVFRQYFRIdGA4XGBQeGh0fGhwgIxYfGR4fGx0cHh0bHBcdGyAcHRcWIRoeFyMaGB4jHR4bGhUcFRcWFBgeGhkZGBkcHBcYGxgXFxUXFBsZFx0ZHxkWGx8dFBYUFRkbGRUVGRgWIBAaDhoVFhAZHhgZGxgZIhwaERcbGiASERQVGxcZEyAWGxoXFx0ZDxAUFyMbEhMTFRUVGxUWERMRHB8WGBoeIxYSGyIZHx0mGSIYGBsaHSofICUlKR4aHxkcGhcZFSceJRsaHB8fHiEdISAqLBoZHywjKCchJyMUHx8YIBsbFSAgGw4bGQ8bDBYdIiYYKh8hIxoSHyAaGScRKCEeHR4XHhYUHRcYHxgfKSYgIh4ZFh8dHRYZGxkWGxscIR4cHhgfHBgkHiAdHh0hHiEgJB4aIB4gHh4ZFxMfFxQdHh4ZIiUdHR8bGyEYHyMdGx0TGxgaJicoJSQeHCEhJiEdLCEmJR4YIyMfDx8UGR4jHh4XHxolHh4ZGx4dHxEcGx4bFRgcFSckIyQtFRgdFxoVFR0ZHR4ZGx0UFhgcGiEeKR4kJSgkFx8cHBkeGhkaHhslFyEhKCUfHi8jHxocJCAaHhgYHR8aHxoiGR0eGx8bHBovJiYTHCEmKigrJSYoJyktICUsIiMpKCUmHiQiGx4pGScrLxksJyMpIhwbHh4jIxYpLB4WHRccICMqICwqKywmKSkoJycmJB8sKiQeKiciKSImKR8eICAnJCMiJhsWIB8aHBsXGCAdJCIqJScfJB0eIhYhKR4ZFRkXGRwkHhwkIyUcGh8oKiAqKiwpKSkwMSYWHSIeHykgERUaJBQmHiMZIyEbHCIbHhUaGA0WGCUbJRgf",
          "dtype": "i1"
         },
         "yaxis": "y"
        }
       ],
       "layout": {
        "barmode": "relative",
        "legend": {
         "tracegroupgap": 0
        },
        "template": {
         "data": {
          "bar": [
           {
            "error_x": {
             "color": "#2a3f5f"
            },
            "error_y": {
             "color": "#2a3f5f"
            },
            "marker": {
             "line": {
              "color": "#E5ECF6",
              "width": 0.5
             },
             "pattern": {
              "fillmode": "overlay",
              "size": 10,
              "solidity": 0.2
             }
            },
            "type": "bar"
           }
          ],
          "barpolar": [
           {
            "marker": {
             "line": {
              "color": "#E5ECF6",
              "width": 0.5
             },
             "pattern": {
              "fillmode": "overlay",
              "size": 10,
              "solidity": 0.2
             }
            },
            "type": "barpolar"
           }
          ],
          "carpet": [
           {
            "aaxis": {
             "endlinecolor": "#2a3f5f",
             "gridcolor": "white",
             "linecolor": "white",
             "minorgridcolor": "white",
             "startlinecolor": "#2a3f5f"
            },
            "baxis": {
             "endlinecolor": "#2a3f5f",
             "gridcolor": "white",
             "linecolor": "white",
             "minorgridcolor": "white",
             "startlinecolor": "#2a3f5f"
            },
            "type": "carpet"
           }
          ],
          "choropleth": [
           {
            "colorbar": {
             "outlinewidth": 0,
             "ticks": ""
            },
            "type": "choropleth"
           }
          ],
          "contour": [
           {
            "colorbar": {
             "outlinewidth": 0,
             "ticks": ""
            },
            "colorscale": [
             [
              0,
              "#0d0887"
             ],
             [
              0.1111111111111111,
              "#46039f"
             ],
             [
              0.2222222222222222,
              "#7201a8"
             ],
             [
              0.3333333333333333,
              "#9c179e"
             ],
             [
              0.4444444444444444,
              "#bd3786"
             ],
             [
              0.5555555555555556,
              "#d8576b"
             ],
             [
              0.6666666666666666,
              "#ed7953"
             ],
             [
              0.7777777777777778,
              "#fb9f3a"
             ],
             [
              0.8888888888888888,
              "#fdca26"
             ],
             [
              1,
              "#f0f921"
             ]
            ],
            "type": "contour"
           }
          ],
          "contourcarpet": [
           {
            "colorbar": {
             "outlinewidth": 0,
             "ticks": ""
            },
            "type": "contourcarpet"
           }
          ],
          "heatmap": [
           {
            "colorbar": {
             "outlinewidth": 0,
             "ticks": ""
            },
            "colorscale": [
             [
              0,
              "#0d0887"
             ],
             [
              0.1111111111111111,
              "#46039f"
             ],
             [
              0.2222222222222222,
              "#7201a8"
             ],
             [
              0.3333333333333333,
              "#9c179e"
             ],
             [
              0.4444444444444444,
              "#bd3786"
             ],
             [
              0.5555555555555556,
              "#d8576b"
             ],
             [
              0.6666666666666666,
              "#ed7953"
             ],
             [
              0.7777777777777778,
              "#fb9f3a"
             ],
             [
              0.8888888888888888,
              "#fdca26"
             ],
             [
              1,
              "#f0f921"
             ]
            ],
            "type": "heatmap"
           }
          ],
          "histogram": [
           {
            "marker": {
             "pattern": {
              "fillmode": "overlay",
              "size": 10,
              "solidity": 0.2
             }
            },
            "type": "histogram"
           }
          ],
          "histogram2d": [
           {
            "colorbar": {
             "outlinewidth": 0,
             "ticks": ""
            },
            "colorscale": [
             [
              0,
              "#0d0887"
             ],
             [
              0.1111111111111111,
              "#46039f"
             ],
             [
              0.2222222222222222,
              "#7201a8"
             ],
             [
              0.3333333333333333,
              "#9c179e"
             ],
             [
              0.4444444444444444,
              "#bd3786"
             ],
             [
              0.5555555555555556,
              "#d8576b"
             ],
             [
              0.6666666666666666,
              "#ed7953"
             ],
             [
              0.7777777777777778,
              "#fb9f3a"
             ],
             [
              0.8888888888888888,
              "#fdca26"
             ],
             [
              1,
              "#f0f921"
             ]
            ],
            "type": "histogram2d"
           }
          ],
          "histogram2dcontour": [
           {
            "colorbar": {
             "outlinewidth": 0,
             "ticks": ""
            },
            "colorscale": [
             [
              0,
              "#0d0887"
             ],
             [
              0.1111111111111111,
              "#46039f"
             ],
             [
              0.2222222222222222,
              "#7201a8"
             ],
             [
              0.3333333333333333,
              "#9c179e"
             ],
             [
              0.4444444444444444,
              "#bd3786"
             ],
             [
              0.5555555555555556,
              "#d8576b"
             ],
             [
              0.6666666666666666,
              "#ed7953"
             ],
             [
              0.7777777777777778,
              "#fb9f3a"
             ],
             [
              0.8888888888888888,
              "#fdca26"
             ],
             [
              1,
              "#f0f921"
             ]
            ],
            "type": "histogram2dcontour"
           }
          ],
          "mesh3d": [
           {
            "colorbar": {
             "outlinewidth": 0,
             "ticks": ""
            },
            "type": "mesh3d"
           }
          ],
          "parcoords": [
           {
            "line": {
             "colorbar": {
              "outlinewidth": 0,
              "ticks": ""
             }
            },
            "type": "parcoords"
           }
          ],
          "pie": [
           {
            "automargin": true,
            "type": "pie"
           }
          ],
          "scatter": [
           {
            "fillpattern": {
             "fillmode": "overlay",
             "size": 10,
             "solidity": 0.2
            },
            "type": "scatter"
           }
          ],
          "scatter3d": [
           {
            "line": {
             "colorbar": {
              "outlinewidth": 0,
              "ticks": ""
             }
            },
            "marker": {
             "colorbar": {
              "outlinewidth": 0,
              "ticks": ""
             }
            },
            "type": "scatter3d"
           }
          ],
          "scattercarpet": [
           {
            "marker": {
             "colorbar": {
              "outlinewidth": 0,
              "ticks": ""
             }
            },
            "type": "scattercarpet"
           }
          ],
          "scattergeo": [
           {
            "marker": {
             "colorbar": {
              "outlinewidth": 0,
              "ticks": ""
             }
            },
            "type": "scattergeo"
           }
          ],
          "scattergl": [
           {
            "marker": {
             "colorbar": {
              "outlinewidth": 0,
              "ticks": ""
             }
            },
            "type": "scattergl"
           }
          ],
          "scattermap": [
           {
            "marker": {
             "colorbar": {
              "outlinewidth": 0,
              "ticks": ""
             }
            },
            "type": "scattermap"
           }
          ],
          "scattermapbox": [
           {
            "marker": {
             "colorbar": {
              "outlinewidth": 0,
              "ticks": ""
             }
            },
            "type": "scattermapbox"
           }
          ],
          "scatterpolar": [
           {
            "marker": {
             "colorbar": {
              "outlinewidth": 0,
              "ticks": ""
             }
            },
            "type": "scatterpolar"
           }
          ],
          "scatterpolargl": [
           {
            "marker": {
             "colorbar": {
              "outlinewidth": 0,
              "ticks": ""
             }
            },
            "type": "scatterpolargl"
           }
          ],
          "scatterternary": [
           {
            "marker": {
             "colorbar": {
              "outlinewidth": 0,
              "ticks": ""
             }
            },
            "type": "scatterternary"
           }
          ],
          "surface": [
           {
            "colorbar": {
             "outlinewidth": 0,
             "ticks": ""
            },
            "colorscale": [
             [
              0,
              "#0d0887"
             ],
             [
              0.1111111111111111,
              "#46039f"
             ],
             [
              0.2222222222222222,
              "#7201a8"
             ],
             [
              0.3333333333333333,
              "#9c179e"
             ],
             [
              0.4444444444444444,
              "#bd3786"
             ],
             [
              0.5555555555555556,
              "#d8576b"
             ],
             [
              0.6666666666666666,
              "#ed7953"
             ],
             [
              0.7777777777777778,
              "#fb9f3a"
             ],
             [
              0.8888888888888888,
              "#fdca26"
             ],
             [
              1,
              "#f0f921"
             ]
            ],
            "type": "surface"
           }
          ],
          "table": [
           {
            "cells": {
             "fill": {
              "color": "#EBF0F8"
             },
             "line": {
              "color": "white"
             }
            },
            "header": {
             "fill": {
              "color": "#C8D4E3"
             },
             "line": {
              "color": "white"
             }
            },
            "type": "table"
           }
          ]
         },
         "layout": {
          "annotationdefaults": {
           "arrowcolor": "#2a3f5f",
           "arrowhead": 0,
           "arrowwidth": 1
          },
          "autotypenumbers": "strict",
          "coloraxis": {
           "colorbar": {
            "outlinewidth": 0,
            "ticks": ""
           }
          },
          "colorscale": {
           "diverging": [
            [
             0,
             "#8e0152"
            ],
            [
             0.1,
             "#c51b7d"
            ],
            [
             0.2,
             "#de77ae"
            ],
            [
             0.3,
             "#f1b6da"
            ],
            [
             0.4,
             "#fde0ef"
            ],
            [
             0.5,
             "#f7f7f7"
            ],
            [
             0.6,
             "#e6f5d0"
            ],
            [
             0.7,
             "#b8e186"
            ],
            [
             0.8,
             "#7fbc41"
            ],
            [
             0.9,
             "#4d9221"
            ],
            [
             1,
             "#276419"
            ]
           ],
           "sequential": [
            [
             0,
             "#0d0887"
            ],
            [
             0.1111111111111111,
             "#46039f"
            ],
            [
             0.2222222222222222,
             "#7201a8"
            ],
            [
             0.3333333333333333,
             "#9c179e"
            ],
            [
             0.4444444444444444,
             "#bd3786"
            ],
            [
             0.5555555555555556,
             "#d8576b"
            ],
            [
             0.6666666666666666,
             "#ed7953"
            ],
            [
             0.7777777777777778,
             "#fb9f3a"
            ],
            [
             0.8888888888888888,
             "#fdca26"
            ],
            [
             1,
             "#f0f921"
            ]
           ],
           "sequentialminus": [
            [
             0,
             "#0d0887"
            ],
            [
             0.1111111111111111,
             "#46039f"
            ],
            [
             0.2222222222222222,
             "#7201a8"
            ],
            [
             0.3333333333333333,
             "#9c179e"
            ],
            [
             0.4444444444444444,
             "#bd3786"
            ],
            [
             0.5555555555555556,
             "#d8576b"
            ],
            [
             0.6666666666666666,
             "#ed7953"
            ],
            [
             0.7777777777777778,
             "#fb9f3a"
            ],
            [
             0.8888888888888888,
             "#fdca26"
            ],
            [
             1,
             "#f0f921"
            ]
           ]
          },
          "colorway": [
           "#636efa",
           "#EF553B",
           "#00cc96",
           "#ab63fa",
           "#FFA15A",
           "#19d3f3",
           "#FF6692",
           "#B6E880",
           "#FF97FF",
           "#FECB52"
          ],
          "font": {
           "color": "#2a3f5f"
          },
          "geo": {
           "bgcolor": "white",
           "lakecolor": "white",
           "landcolor": "#E5ECF6",
           "showlakes": true,
           "showland": true,
           "subunitcolor": "white"
          },
          "hoverlabel": {
           "align": "left"
          },
          "hovermode": "closest",
          "mapbox": {
           "style": "light"
          },
          "paper_bgcolor": "white",
          "plot_bgcolor": "#E5ECF6",
          "polar": {
           "angularaxis": {
            "gridcolor": "white",
            "linecolor": "white",
            "ticks": ""
           },
           "bgcolor": "#E5ECF6",
           "radialaxis": {
            "gridcolor": "white",
            "linecolor": "white",
            "ticks": ""
           }
          },
          "scene": {
           "xaxis": {
            "backgroundcolor": "#E5ECF6",
            "gridcolor": "white",
            "gridwidth": 2,
            "linecolor": "white",
            "showbackground": true,
            "ticks": "",
            "zerolinecolor": "white"
           },
           "yaxis": {
            "backgroundcolor": "#E5ECF6",
            "gridcolor": "white",
            "gridwidth": 2,
            "linecolor": "white",
            "showbackground": true,
            "ticks": "",
            "zerolinecolor": "white"
           },
           "zaxis": {
            "backgroundcolor": "#E5ECF6",
            "gridcolor": "white",
            "gridwidth": 2,
            "linecolor": "white",
            "showbackground": true,
            "ticks": "",
            "zerolinecolor": "white"
           }
          },
          "shapedefaults": {
           "line": {
            "color": "#2a3f5f"
           }
          },
          "ternary": {
           "aaxis": {
            "gridcolor": "white",
            "linecolor": "white",
            "ticks": ""
           },
           "baxis": {
            "gridcolor": "white",
            "linecolor": "white",
            "ticks": ""
           },
           "bgcolor": "#E5ECF6",
           "caxis": {
            "gridcolor": "white",
            "linecolor": "white",
            "ticks": ""
           }
          },
          "title": {
           "x": 0.05
          },
          "xaxis": {
           "automargin": true,
           "gridcolor": "white",
           "linecolor": "white",
           "ticks": "",
           "title": {
            "standoff": 15
           },
           "zerolinecolor": "white",
           "zerolinewidth": 2
          },
          "yaxis": {
           "automargin": true,
           "gridcolor": "white",
           "linecolor": "white",
           "ticks": "",
           "title": {
            "standoff": 15
           },
           "zerolinecolor": "white",
           "zerolinewidth": 2
          }
         }
        },
        "title": {
         "text": "Number of non-zero values by depth"
        },
        "xaxis": {
         "anchor": "y",
         "domain": [
          0,
          1
         ],
         "title": {
          "text": "Depth (m)"
         }
        },
        "yaxis": {
         "anchor": "x",
         "domain": [
          0,
          1
         ],
         "title": {
          "text": "sum of Number of non-zero values"
         }
        }
       }
      }
     },
     "metadata": {},
     "output_type": "display_data"
    }
   ],
   "source": [
    "px.histogram(\n",
    "    x=data[\"DEPTH_STRT\"],\n",
    "    y=nb_zeros,\n",
    "    title=\"Number of non-zero values by depth\",\n",
    "    labels=dict(x=\"Depth (m)\", y=\"Number of non-zero values\"),\n",
    "    nbins=100,\n",
    ")"
   ]
  },
  {
   "cell_type": "code",
   "execution_count": 17,
   "metadata": {},
   "outputs": [
    {
     "data": {
      "application/vnd.plotly.v1+json": {
       "config": {
        "plotlyServerURL": "https://plot.ly"
       },
       "data": [
        {
         "bingroup": "x",
         "histfunc": "sum",
         "hovertemplate": "Volume filtered (m3)=%{x}<br>sum of Number of non-zero values=%{y}<extra></extra>",
         "legendgroup": "",
         "marker": {
          "color": "#636efa",
          "pattern": {
           "shape": ""
          }
         },
         "name": "",
         "nbinsx": 100,
         "orientation": "v",
         "showlegend": false,
         "type": "histogram",
         "x": {
          "bdata": "hetRuB6VVUDsUbgehQtCQIXrUbgeZVxAhetRuB7FOEDNzMzMzGxRQBSuR+F6FCVAzczMzMw8VEBcj8L1KFwsQI/C9Shc701Aj8L1KFwvT0AAAAAAAGBSQI/C9Shcr01Aw/UoXI8yUEAK16NwPVpTQClcj8L12FBA16NwPQoXQ0AAAAAAAIBcQAAAAAAA8HNAAAAAAABgZEAAAAAAAEBaQAAAAAAAIGxAAAAAAACAZUAAAAAAAKBmQAAAAAAAAGdASOF6FK4HOEAAAAAAAKBSQEjhehSu50JASOF6FK7nQkDXo3A9Chc7QPYoXI/C1UdAXI/C9ShcRkBcj8L1KFxGQM3MzMzMjFBAzczMzMwMR0AAAAAAAABEQAAAAAAAAERAZmZmZmbmUUCuR+F6FK40QFK4HoXrAVBAUrgehesBUEAK16NwPepSQBSuR+F6FDVAmpmZmZnZQECamZmZmdlAQOF6FK5HIThAZmZmZmaGRkCkcD0K10NIQKRwPQrXQ0hAexSuR+G6SkAAAAAAAGBDQArXo3A9SkRAmpmZmZk5TEBxPQrXo3A/QMP1KFyPQjRAMzMzMzNzP0CuR+F6FA5KQK5H4XoUDkpAw/UoXI8CNUCuR+F6FK4+QHE9CtejcD9ACtejcD0KM0AfhetRuF5KQB+F61G4XkpA9ihcj8J1M0DD9ShcjwIzQClcj8L1qDJArkfhehQuMkCuR+F6FC4yQBSuR+F61DFAFK5H4XrUMUCPwvUoXA8yQI/C9ShcDzJASOF6FK4HNUCamZmZmdkzQB+F61G4XjNASOF6FK7HMkCPwvUoXI80QD0K16NwfTNAmpmZmZnZM0B7FK5H4bozQK5H4XoULjJArkfhehQuMkCF61G4HjVSQJqZmZmZGU5AcT0K16OgUEBI4XoUrkdDQFK4HoXrIVBA16NwPQrXE0BmZmZmZmY/QLgehetRODlA9ihcj8I1Q0AAAAAAAKBKQB+F61G4HjNA16NwPQqXP0DXo3A9Cpc/QJqZmZmZuUdAmpmZmZm5R0ApXI/C9WgwQKRwPQrXI0FAj8L1KFyPSUCPwvUoXI9JQDMzMzMzsyFAMzMzMzOzIUDXo3A9CvdHQNejcD0K90dAZmZmZmZWVEAfhetRuB4eQI/C9ShcL0xAcT0K16MQUUC4HoXrUfg/QAAAAAAAAEFAZmZmZmZmP0BSuB6F69E/QNejcD0Kd0JAuB6F61EYTEAK16NwPRpYQBSuR+F6dExAXI/C9SgcTEBmZmZmZmY/QJqZmZmZOUBAmpmZmZk5QEBxPQrXozAyQArXo3A9Cj5AZmZmZmYmQ0AUrkfhepQxQNejcD0Kt0tA16NwPQq3S0CF61G4HkVKQClcj8L16ElAzczMzMzMO0Bcj8L1KBxCQFyPwvUoHEJAKVyPwvWoREApXI/C9ahEQPYoXI/CdTpAZmZmZmamRUAK16NwPepCQM3MzMzMLEZAKVyPwvXIS0CamZmZmZlQQIXrUbgeRUFAUrgehevRP0AUrkfhenRPQJqZmZmZmTVAFK5H4XoUQkCamZmZmZlAQBSuR+F61DBASOF6FK5nRUBI4XoUrmdFQGZmZmZmBkhA7FG4HoWLVEAUrkfhegRXQNejcD0KV1hA4XoUrkfBWkCuR+F6FO5KQK5H4XoU7kpAKVyPwvWoMUDXo3A9CjdCQI/C9Shcr0VASOF6FK6HOEDsUbgehRtRQOxRuB6FG1FArkfhehROYUDD9Shcj0JGQNejcD0KN0dAhetRuB5FTkBmZmZmZuZNQDMzMzMz80tAZmZmZmYGSEAzMzMzM5NOQOF6FK5HYURA4XoUrkehSEDNzMzMzLRpQI/C9ShcH2xAMzMzMzMzQkAzMzMzM/NUQBSuR+F6lC9A4XoUrkdRUEDhehSuR1FQQK5H4XoUbjhArkfhehSuRkDsUbgehatMQGZmZmZmJjdA9ihcj8I1UED2KFyPwjVQQClcj8L1yEJASOF6FK5HQ0AfhetRuJ4uQGZmZmZm5kBAAAAAAABgQEAK16NwPYosQEjhehSuZ0JASOF6FK5nQkCF61G4HkVIQIXrUbgeRUhAXI/C9SicOEAfhetRuJ5HQMP1KFyPwkVA7FG4HoWrNEAAAAAAAOBNQAAAAAAA4E1A16NwPQonUUDhehSuR2E+QLgehetRGE9AXI/C9Sh8UECuR+F6FK47QBSuR+F6hFNAFK5H4XqEU0AUrkfhelROQBSuR+F6VE5Aw/UoXI+CPEBcj8L1KNxMQGZmZmZm5kNASOF6FK7HN0CuR+F6FG5OQK5H4XoUbk5ACtejcD16VUAK16NwPXpVQIXrUbgeRT1Aj8L1KFy/UECF61G4HkVQQDMzMzMzczxA7FG4HoXLVUDsUbgehctVQAAAAAAAQE5AAAAAAABATkAUrkfhepQ2QDMzMzMzs0ZA4XoUrkfhRkDhehSuR+FGQEjhehSuhzRAXI/C9Si8R0CuR+F6FI5FQFyPwvUoHDZAPQrXo3C9RkA9CtejcL1GQJqZmZmZeWRAFK5H4Xp8YkDNzMzMzNxSQK5H4XoU7lpAexSuR+HaYkCuR+F6FE5mQGZmZmZmBl1AXI/C9ShMWkAfhetRuCpxQHsUrkfhOkxArkfhehQuTEDsUbgehctGQDMzMzMzs1FAAAAAAADgTkBI4XoUrkdRQOF6FK5HsVNAAAAAAACALUCkcD0K16MtQIXrUbgexVBAAAAAAACAPkDsUbgehbtbQClcj8L1AGZApHA9CtfDRkD2KFyPwlVRQArXo3A96klAZmZmZmbmRUBSuB6F67FEQKRwPQrXw0hA16NwPQpXKkCkcD0K16NQQM3MzMzMzC1A16NwPQonUUDXo3A9CjdLQLgehetRWEhAXI/C9Sh0ZkCPwvUoXI9jQHsUrkfhSlxAmpmZmZmxYUBxPQrXo4hnQD0K16Nw9W9AFK5H4Xp0ZkAzMzMzM7NLQHsUrkfhuk5AKVyPwvUwbkA9CtejcL1BQMP1KFyPOmVA4XoUrkcxX0DD9ShcjyJHQHE9Ctej8D1AcT0K16PwPUApXI/C9WhAQMP1KFyPQi1AUrgehevRJEBSuB6F69EkQM3MzMzMjDNA9ihcj8I1Q0CPwvUoXM9DQGZmZmZm5jJAexSuR+EaQUB7FK5H4RpBQNejcD0K1z5A16NwPQrXPkB7FK5H4fotQD0K16NwfT5AZmZmZmYmR0DNzMzMzMwyQNejcD0K10dA16NwPQrXR0CPwvUoXG9EQI/C9Shcb0RAH4XrUbheMkApXI/C9UhDQNejcD0K90FA16NwPQr3QUApXI/C9WgzQBSuR+F6tEFAj8L1KFwPQ0Bcj8L1KBwyQLgehetR2EBAuB6F61HYQECF61G4HoVFQIXrUbgehUVA7FG4HoXrM0AzMzMzM9NDQK5H4XoULkNAcT0K16NQRUBxPQrXoxBGQHsUrkfhOkZACtejcD2KR0CF61G4HiVMQKRwPQrXg0ZArkfhehSOQUAfhetRuJ5CQDMzMzMzQ1BAhetRuB5tcUBI4XoUrhdRQArXo3A9qk9AXI/C9Sg8QkCuR+F6FA5OQOF6FK5HYUxAH4XrUbgeJ0ApXI/C9ehMQOxRuB6Fy0JAPQrXo3A9JUBI4XoUrgdDQGZmZmZmpj9AFK5H4Xr0RUCF61G4HgVKQGZmZmZmpkBAKVyPwvVIUEBI4XoUrsdGQLgehetR+ERAFK5H4XrURUC4HoXrUfhKQOF6FK5HYVhACtejcD3KSEApXI/C9eg5QB+F61G43kZAzczMzMysTUDNzMzMzKxNQK5H4XoUbjhAexSuR+HaSkCkcD0K1+NKQIXrUbgeRTlAH4XrUbjeR0AfhetRuN5HQOxRuB6FO1BA7FG4HoU7UECuR+F6FO43QK5H4XoULkVAUrgeheuRNkApXI/C9YhQQClcj8L1iFBAw/UoXI8COUAK16NwPUpNQOF6FK5HQUVAhetRuB6FM0Bcj8L1KLxGQFyPwvUovEZArkfhehSuRUCuR+F6FK5FQNejcD0Kt0hA16NwPQq3SEDsUbgehas3QI/C9Shcz0ZAhetRuB5FQkCkcD0K1+MzQB+F61G4fkRAH4XrUbh+REA9CtejcL0/QPYoXI/CNUJAZmZmZmZmP0BmZmZmZgZEQFK4HoXr0UJAFK5H4Xq0SUDXo3A9CodUQHE9Ctej8EVAXI/C9SgcR0C4HoXrUbg4QHsUrkfhujpAXI/C9Sg8RkB7FK5H4fpGQIXrUbgeJUdAMzMzMzPTREAAAAAAAOBBQK5H4XoUzkNAMzMzMzNzQkDXo3A9CvdAQBSuR+F6VD9AhetRuB5FREAzMzMzM7M9QHE9CtejMDRAcT0K16PwRUCuR+F6FA5HQLgehetRmEBAj8L1KFxvRkBmZmZmZmY/QI/C9ShcD0JAuB6F61F4QECuR+F6FO5OQJqZmZmZmTZAAAAAAABAPECkcD0K1xNSQOF6FK5HAUlAuB6F61HYS0BI4XoUrgdBQIXrUbgepURASOF6FK4HQUBcj8L1KFxHQI/C9Shcb0BAH4XrUbgeQUBmZmZmZoZAQJqZmZmZWTNA7FG4HoU7U0CamZmZmRlRQHE9CtejcCpAPQrXo3D9MEDhehSuRwFYQD0K16NwLVBAH4XrUbheR0CkcD0K12NBQArXo3A9qkBApHA9CtdjQUBcj8L1KNxEQGZmZmZmZj9AZmZmZmZmP0BmZmZmZmY/QI/C9ShcL2pAmpmZmZkZW0AAAAAAAIAzQM3MzMzMzEtAmpmZmZlZSUD2KFyPwjVHQI/C9ShcL0RApHA9CtcDRUBSuB6F6zFLQBSuR+F6tEhA9ihcj8L1TEBcj8L1KDxCQB+F61G43kBA7FG4HoXrUUAfhetRuN5AQOxRuB6Fa0FAmpmZmZk5QECamZmZmdlIQClcj8L16DxAMzMzMzNzQ0AfhetRuP5BQB+F61G4Hj9AXI/C9Sj8T0AK16NwPco+QFyPwvUo3DdAUrgeheuRQUA9CtejcF1OQK5H4XoUDkFAUrgehesROUCF61G4HuVCQD0K16NwfUJA16NwPQoXQUAUrkfhetRFQB+F61G4vkNAAAAAAAAgRkDsUbgehWtBQNejcD0Kd0RA9ihcj8J1QUCkcD0K1+MwQNejcD0Kl0BAzczMzMyMOkDhehSuRwFEQM3MzMzMbEBAZmZmZmbmPUCPwvUoXM9JQFK4HoXr0UNAmpmZmZmxY0CPwvUoXAdlQBSuR+F6fGNApHA9CtcLZ0AfhetRuLZrQEjhehSuB0FAH4XrUbgeQkBSuB6F65FCQK5H4XoUTk5AmpmZmZnZNED2KFyPwnUrQD0K16NwPUNAFK5H4XpUTUDNzMzMzEw0QOF6FK5HgVVAZmZmZmZGS0CkcD0K12NMQKRwPQrXoy5AKVyPwvUoVkC4HoXrUXhVQArXo3A9KkpAXI/C9Sg8U0CkcD0K17NRQEjhehSuJ1NAZmZmZmYmR0DD9Shcj4JAQIXrUbgepUZAhetRuB5VWkBxPQrXoyBTQArXo3A9KkNASOF6FK5nQUBSuB6F67FTQArXo3A9WlVApHA9CtdjU0CF61G4HkVUQNejcD0K905A4XoUrkexUED2KFyPwrVLQAAAAAAAQENAFK5H4XqUR0CF61G4HrVRQBSuR+F61D9ArkfhehQOT0BSuB6F65FRQFK4HoXrETJASOF6FK6XUkDXo3A9CpcwQM3MzMzMLF1AhetRuB6FP0AzMzMzM+NUQGZmZmZmBk1AhetRuB7lREAK16NwPYo5QJqZmZmZWUNAZmZmZmaGQ0A9CtejcN1CQFyPwvUovENA4XoUrkdhTEAAAAAAAOBHQDMzMzMzE0xAMzMzMzPzS0BmZmZmZsZNQJqZmZmZ2UtAj8L1KFwPKUCkcD0K10NCQM3MzMzMzExAw/UoXI9CQUDNzMzMzIxBQAAAAAAAgCBAUrgehetRRUDsUbgehQtBQB+F61G4HilA9ihcj8IVTkAUrkfhejROQOF6FK5HAU1AcT0K16MwUUAfhetRuL5AQPYoXI/CdURAw/UoXI+CTkBcj8L1KHxCQClcj8L1qD9AexSuR+F6QUApXI/C9ahPQM3MzMzMHFhACtejcD2KOkApXI/C9eg2QArXo3A9GlFApHA9CtdDXEAUrkfhevRDQNejcD0Kp1NA4XoUrkfRUECuR+F6FM5PQHsUrkfhGkNA4XoUrkdhTED2KFyPwpVGQEjhehSud1VAzczMzMxMUkAK16NwPcpbQOF6FK5H8VJAw/UoXI/iSUDhehSuR5FSQGZmZmZmRlFAUrgehetRVUApXI/C9QhSQNejcD0K1y9A16NwPQo3TkCkcD0K1yMtQMP1KFyPYkFAw/UoXI+iS0BI4XoUrgdBQEjhehSuB0FAexSuR+E6RUAK16NwPUpAQOF6FK5HQUNAKVyPwvWISkBI4XoUrgdBQArXo3A96ktAexSuR+HaQ0AfhetRuD5BQNejcD0KN0JA9ihcj8K1QUA9CtejcB1GQKRwPQrXI0VAFK5H4XqUQkAUrkfhegRaQD0K16NwzVJAMzMzMzPzTEAzMzMzM4NTQNejcD0K10BAAAAAAABAVEB7FK5H4XpPQJqZmZmZuUdA4XoUrkdBSEA9CtejcL1GQD0K16NwvVZAmpmZmZmZTUCF61G4HqVOQD0K16Nw7VFASOF6FK6nUEBmZmZmZjZRQClcj8L1SFJA4XoUrkdhVUBmZmZmZgZOQGZmZmZmZj5ApHA9CtcDYEDhehSuRyFUQIXrUbgeJU9ArkfhehTOUkApXI/C9ehRQArXo3A9qkdAmpmZmZn5T0CamZmZmdlXQGZmZmZmVlFAj8L1KFzvTkBcj8L1KNxXQOF6FK5HYUxA16NwPQrXTUAfhetRuI5UQNejcD0KF1FAexSuR+GqVECkcD0K18NNQFK4HoXrEVRAuB6F61GoUkCamZmZmclRQClcj8L1yFBAZmZmZmYmUEA9CtejcP1VQHE9CtejcERACtejcD3KQECPwvUoXI89QLgehetRWFNAcT0K16PQR0DD9Shcj6JIQDMzMzMzE0RAw/UoXI9iSkBmZmZmZmZJQBSuR+F6tExAUrgehevxSEDD9Shcj0JJQMP1KFyPoklAj8L1KFxvRED2KFyPwpVHQNejcD0KG3BAw/UoXI/iVEBcj8L1KHxMQBSuR+F6lFNAKVyPwvU4VUAK16NwPcpRQBSuR+F6FFdAXI/C9SgsU0DNzMzMzCxTQKRwPQrXw05ASOF6FK5nWEAK16NwPapRQFyPwvUofEVAcT0K16MwUUAAAAAAAHBQQKRwPQrXQ0pA4XoUrkdhTEBcj8L1KDxXQAAAAAAA+GBArkfhehRmYECamZmZmUlQQHE9CtejgFxAzczMzMzsUEDNzMzMzMxUQClcj8L1WFVAPQrXo3DdR0D2KFyPwmVXQK5H4XoUblFA16NwPQqHU0B7FK5H4fpOQMP1KFyP4kxArkfhehSuUEBSuB6F69FRQHsUrkfhGlNAw/UoXI/iT0B7FK5H4ZpZQOF6FK5HYUxAexSuR+EaU0BmZmZmZvZXQI/C9Shcz01AmpmZmZnZVEBmZmZmZsZQQMP1KFyP4k5AmpmZmZlZV0DsUbgehStEQArXo3A9ulVAAAAAAADQUkDXo3A9CidYQLgehetRaFBAexSuR+GaSkBSuB6F6xFSQDMzMzMz01FAAAAAAABgVkDNzMzMzMxOQHsUrkfhilNArkfhehSuTUCPwvUoXD9QQArXo3A96lNAw/UoXI9yUEBI4XoUrgdPQPYoXI/CtTZArkfhehQuPUD2KFyPwrU2QPYoXI/CtTZA9ihcj8K1NkD2KFyPwrU2QPYoXI/CFU9AZmZmZmaWUUCPwvUoXE9RQJqZmZmZ2UVAcT0K16PwVEB7FK5H4ZpRQMP1KFyPUlBAmpmZmZl5SEAAAAAAAPBRQIXrUbgedVNASOF6FK63YkA9CtejcA1aQGZmZmZmRkxAPQrXo3BdSUCkcD0K18NXQHsUrkfhOkVApHA9CteDTUAfhetRuP5SQD0K16NwHU1A4XoUrkchOED2KFyPwvU7QJqZmZmZ2TBAexSuR+E6MUAzMzMzMxNPQNejcD0Kh1FAMzMzMzNzRkBcj8L1KGxVQFK4HoXr0VlACtejcD1qUEBcj8L1KGxRQOF6FK5HwVNAzczMzMxMTECkcD0K14NNQDMzMzMz80xAMzMzMzPzTEAK16NwPcpPQOF6FK5HYUxApHA9CteDVECamZmZmelRQIXrUbgelVNApHA9CtfjTUCPwvUoXI9QQEjhehSup0tA16NwPQoXTUBI4XoUrgdKQB+F61G4XjNAPQrXo3C9NUCuR+F6FO42QHE9Ctej8DRArkfhehSOU0BmZmZmZuZQQDMzMzMzA1RAzczMzMzsW0BxPQrXoyBWQLgehetRmFRApHA9CtdTVEAzMzMzMwNSQBSuR+F6hFFAMzMzMzPDXEAK16NwPWJiQArXo3A9WlhAPQrXo3AdW0BSuB6F65FRQArXo3A9+lFAUrgehetxQUCF61G4HlVTQOxRuB6Fi1RAKVyPwvVYUUBmZmZmZvZUQPYoXI/CxVJA4XoUrkdBVECamZmZmXlQQDMzMzMzU01ASOF6FK7HTUAK16NwPZpTQKRwPQrX40xAFK5H4XqUUkD2KFyPwr1nQIXrUbgeBUVAUrgeheuhVkBxPQrXo3BXQAAAAAAAEFNA9ihcj8JFUkA9CtejcE1UQNejcD0Kl1VA7FG4HoUrSkDhehSuR0FQQK5H4XoUbk1APQrXo3AtUEBxPQrXo1BOQOxRuB6FK0pAXI/C9Sg8U0CkcD0K12NOQD0K16NwPU1AhetRuB71UkD2KFyPwgVQQKRwPQrXY1RA4XoUrkchU0BmZmZmZgZGQI/C9Shcb1BAXI/C9Sh8T0DNzMzMzCxQQNejcD0KV0NAexSuR+H6S0CPwvUoXA9QQJqZmZmZ+VFAj8L1KFzPTECamZmZmZlOQHE9CtejwFFA7FG4HoUrSkCuR+F6FCZiQArXo3A9KlpA9ihcj8I1VkBSuB6F6zFUQI/C9ShcD0tAuB6F61EIV0DsUbgehbtTQClcj8L1aFNAuB6F61G4TkDD9Shcj8JOQOF6FK5HYV1A7FG4HoX7UkDsUbgehStKQB+F61G4/ldA4XoUrkfxVEDsUbgehStKQOxRuB6FK0pA7FG4HoUrSkDsUbgehStKQOxRuB6FK0pAKVyPwvW4UkDNzMzMzPxRQK5H4XoUjlRA7FG4HoUrSkDsUbgehStKQOxRuB6FK0pAKVyPwvWYUUAfhetRuB5YQNejcD0KN1hAUrgehetRUEDXo3A9CrdeQI/C9Shcz1VASOF6FK6HUEA9CtejcF1XQHsUrkfh+k5AuB6F61HYSkBcj8L1KGxQQK5H4XoULlFAhetRuB7FWEDD9Shcj0JMQLgehetRmE5AZmZmZmaGTkD2KFyPwiVWQB+F61G4HkhAj8L1KFzPSEBcj8L1KDxNQKRwPQrXQ01ASOF6FK63VUAUrkfhejRRQNejcD0KF0pAw/UoXI/CUkAzMzMzM3NNQNejcD0Kt0dA7FG4HoWrSkAzMzMzM9NEQB+F61G4nkxAH4XrUbgeSkCF61G4HiVHQM3MzMzMjElAhetRuB5FNED2KFyPwvVFQKRwPQrX40tASOF6FK5nTEBcj8L1KDxKQM3MzMzMTEpAKVyPwvVISUCF61G4HqVOQHsUrkfhuk9ApHA9CtfzUkD2KFyPwvVPQMP1KFyPUlBApHA9CtfjS0C4HoXrUThLQPYoXI/CNVZArkfhehQeVkApXI/C9chJQHsUrkfhylFAj8L1KFxvUkApXI/C9ahRQPYoXI/CFVdACtejcD1aUkDNzMzMzKxQQFyPwvUo/FRA7FG4HoUrSkDNzMzMzIxIQIXrUbgeJU1ArkfhehTeVUCuR+F6FC5RQM3MzMzMzFJAKVyPwvWIT0CamZmZmflNQOF6FK5HoU1AZmZmZmZGUUAfhetRuP5TQOF6FK5HwVBAzczMzMxcU0DsUbgehStKQIXrUbgedVFAzczMzMysTECuR+F6FA5MQOxRuB6Fi0pA16NwPQq3TUAfhetRuN5NQEjhehSuJ09AZmZmZma2VkDNzMzMzAxYQClcj8L1iFZA7FG4HoXLWED2KFyPwoVYQHsUrkfhilFACtejcD1KSUAfhetRuN5PQHsUrkfhylNAH4XrUbjuUkCamZmZmZlTQOxRuB6Fy1ZAH4XrUbj+TkBmZmZmZtZQQOxRuB6FO1VACtejcD0qUkA9CtejcN1QQOxRuB6FK0pAj8L1KFyPS0CamZmZmTlLQAAAAAAAoEhA9ihcj8L1TkA9CtejcH1MQOxRuB6FK0pACtejcD3qUUAK16NwPUpOQMP1KFyPYk5AuB6F61H4UUAzMzMzMxNTQPYoXI/CJVJAMzMzMzNzR0BmZmZmZmZOQAAAAAAAIE9AXI/C9SisUUDD9Shcj8JSQAAAAAAAoFdACtejcD2aVkAAAAAAABBUQFK4HoXrMVNAXI/C9Sj8U0C4HoXrUThQQJqZmZmZmVNAAAAAAABAUEBcj8L1KFxRQNejcD0K51RAj8L1KFxPVkA9CtejcP1SQOxRuB6FK0pA7FG4HoUrSkCF61G4HnVQQOxRuB6FK0pAAAAAAACAV0CkcD0K13NQQLgehetRyFFAj8L1KFwvTUCPwvUoXC9NQPYoXI/CxVFAXI/C9SjMVUBxPQrXo/BNQArXo3A9SkhAmpmZmZm5S0DD9Shcj4JKQM3MzMzMbEtAUrgehesxS0DNzMzMzJxTQB+F61G4PkJA4XoUrkfxUEApXI/C9YhNQAAAAAAAYExAMzMzMzNjUkC4HoXrUVhPQIXrUbgeJU9ApHA9CtfTVEAfhetRuB5TQEjhehSup1RASOF6FK4XVkCuR+F6FE5PQOF6FK5HQVBAXI/C9Si8REDsUbgehStKQHE9CtejIFJAzczMzMyMU0DsUbgehbtUQArXo3A9ilBAcT0K16OQT0CkcD0K17NRQClcj8L1CFJA7FG4HoUrSkDXo3A9CqdYQOxRuB6FK0pAFK5H4XqUT0BI4XoUrqdRQGZmZmZmllZArkfhehSuSkCkcD0K19NTQLgehetRyFFAXI/C9ShMU0AzMzMzM7NSQHsUrkfh2k9A7FG4HoUrSkCuR+F6FC5VQFK4HoXroVRApHA9CtdDUkBI4XoUridWQD0K16NwfVFA16NwPQpnUkA9CtejcF1MQLgehetR+FBACtejcD1KTUBcj8L1KOxUQI/C9Shcz1FAAAAAAADAUUA9CtejcB1AQArXo3A9CkZApHA9CtfjNECkcD0K1yM3QOxRuB6F60FACtejcD26UUC4HoXrUfhNQB+F61G4jlBA4XoUrkcxUUDsUbgehetNQJqZmZmZ2VBA4XoUrkdhUECamZmZmflOQIXrUbge1VVA",
          "dtype": "f8"
         },
         "xaxis": "x",
         "y": {
          "bdata": "GxUXExoZGBQZGiAYFhcZFRMYGRgaFxYWFhERFBUTFREXFRQVExETFRQSERETFRYSEx4bGRcWFxkXGBcXFxMWCAkKBRcEFxIHFA0YBBMGERoYCR8oGxoaGhgcGxkdHBsWGBkaGBsSFhUZGxQWHhgYFxkVFBcVEhUbGREZGBURExMTFhERGREUGBoYHB8dFiUeHx4YHhsZGiEhIB0dGhkcGxoZGiEgIh4cHh4fFysmHhsUGyAaIB8cGhgXDxMRERUXExcZFBQYFxgaIB8iIB0dHxgcHiEeHhweGBobGhgbGhsZFxkeGBgYGBUaGBoaIhsZFiIbHBMeFxcYHRgVEBQZGxcWGxIVJBohFx0WGxwZIyUhIBkVGBodEhkcGhoREREVFxcWFRcWFRYTFxYTEhAQGBIQDhASFhUVFRgUFRoXFRUVERYdHxkYFBkbFBQYGiEhFRkSGBUbJBoeIB0bExQZGR0iFRgTFxcZGBsXGBcZGBMVFBUUFxUUERIZGhwZGyEfHBoZGBwXGBUVEhcWEhgZHSAYFRoaFRsOFhQVFhcUHBgZGBgdIBobFhsdGR4SGhkOEhwVFRQYFRIdGA4XGBQeGh0fGhwgIxYfGR4fGx0cHh0bHBcdGyAcHRcWIRoeFyMaGB4jHR4bGhUcFRcWFBgeGhkZGBkcHBcYGxgXFxUXFBsZFx0ZHxkWGx8dFBYUFRkbGRUVGRgWIBAaDhoVFhAZHhgZGxgZIhwaERcbGiASERQVGxcZEyAWGxoXFx0ZDxAUFyMbEhMTFRUVGxUWERMRHB8WGBoeIxYSGyIZHx0mGSIYGBsaHSofICUlKR4aHxkcGhcZFSceJRsaHB8fHiEdISAqLBoZHywjKCchJyMUHx8YIBsbFSAgGw4bGQ8bDBYdIiYYKh8hIxoSHyAaGScRKCEeHR4XHhYUHRcYHxgfKSYgIh4ZFh8dHRYZGxkWGxscIR4cHhgfHBgkHiAdHh0hHiEgJB4aIB4gHh4ZFxMfFxQdHh4ZIiUdHR8bGyEYHyMdGx0TGxgaJicoJSQeHCEhJiEdLCEmJR4YIyMfDx8UGR4jHh4XHxolHh4ZGx4dHxEcGx4bFRgcFSckIyQtFRgdFxoVFR0ZHR4ZGx0UFhgcGiEeKR4kJSgkFx8cHBkeGhkaHhslFyEhKCUfHi8jHxocJCAaHhgYHR8aHxoiGR0eGx8bHBovJiYTHCEmKigrJSYoJyktICUsIiMpKCUmHiQiGx4pGScrLxksJyMpIhwbHh4jIxYpLB4WHRccICMqICwqKywmKSkoJycmJB8sKiQeKiciKSImKR8eICAnJCMiJhsWIB8aHBsXGCAdJCIqJScfJB0eIhYhKR4ZFRkXGRwkHhwkIyUcGh8oKiAqKiwpKSkwMSYWHSIeHykgERUaJBQmHiMZIyEbHCIbHhUaGA0WGCUbJRgf",
          "dtype": "i1"
         },
         "yaxis": "y"
        }
       ],
       "layout": {
        "barmode": "relative",
        "legend": {
         "tracegroupgap": 0
        },
        "template": {
         "data": {
          "bar": [
           {
            "error_x": {
             "color": "#2a3f5f"
            },
            "error_y": {
             "color": "#2a3f5f"
            },
            "marker": {
             "line": {
              "color": "#E5ECF6",
              "width": 0.5
             },
             "pattern": {
              "fillmode": "overlay",
              "size": 10,
              "solidity": 0.2
             }
            },
            "type": "bar"
           }
          ],
          "barpolar": [
           {
            "marker": {
             "line": {
              "color": "#E5ECF6",
              "width": 0.5
             },
             "pattern": {
              "fillmode": "overlay",
              "size": 10,
              "solidity": 0.2
             }
            },
            "type": "barpolar"
           }
          ],
          "carpet": [
           {
            "aaxis": {
             "endlinecolor": "#2a3f5f",
             "gridcolor": "white",
             "linecolor": "white",
             "minorgridcolor": "white",
             "startlinecolor": "#2a3f5f"
            },
            "baxis": {
             "endlinecolor": "#2a3f5f",
             "gridcolor": "white",
             "linecolor": "white",
             "minorgridcolor": "white",
             "startlinecolor": "#2a3f5f"
            },
            "type": "carpet"
           }
          ],
          "choropleth": [
           {
            "colorbar": {
             "outlinewidth": 0,
             "ticks": ""
            },
            "type": "choropleth"
           }
          ],
          "contour": [
           {
            "colorbar": {
             "outlinewidth": 0,
             "ticks": ""
            },
            "colorscale": [
             [
              0,
              "#0d0887"
             ],
             [
              0.1111111111111111,
              "#46039f"
             ],
             [
              0.2222222222222222,
              "#7201a8"
             ],
             [
              0.3333333333333333,
              "#9c179e"
             ],
             [
              0.4444444444444444,
              "#bd3786"
             ],
             [
              0.5555555555555556,
              "#d8576b"
             ],
             [
              0.6666666666666666,
              "#ed7953"
             ],
             [
              0.7777777777777778,
              "#fb9f3a"
             ],
             [
              0.8888888888888888,
              "#fdca26"
             ],
             [
              1,
              "#f0f921"
             ]
            ],
            "type": "contour"
           }
          ],
          "contourcarpet": [
           {
            "colorbar": {
             "outlinewidth": 0,
             "ticks": ""
            },
            "type": "contourcarpet"
           }
          ],
          "heatmap": [
           {
            "colorbar": {
             "outlinewidth": 0,
             "ticks": ""
            },
            "colorscale": [
             [
              0,
              "#0d0887"
             ],
             [
              0.1111111111111111,
              "#46039f"
             ],
             [
              0.2222222222222222,
              "#7201a8"
             ],
             [
              0.3333333333333333,
              "#9c179e"
             ],
             [
              0.4444444444444444,
              "#bd3786"
             ],
             [
              0.5555555555555556,
              "#d8576b"
             ],
             [
              0.6666666666666666,
              "#ed7953"
             ],
             [
              0.7777777777777778,
              "#fb9f3a"
             ],
             [
              0.8888888888888888,
              "#fdca26"
             ],
             [
              1,
              "#f0f921"
             ]
            ],
            "type": "heatmap"
           }
          ],
          "histogram": [
           {
            "marker": {
             "pattern": {
              "fillmode": "overlay",
              "size": 10,
              "solidity": 0.2
             }
            },
            "type": "histogram"
           }
          ],
          "histogram2d": [
           {
            "colorbar": {
             "outlinewidth": 0,
             "ticks": ""
            },
            "colorscale": [
             [
              0,
              "#0d0887"
             ],
             [
              0.1111111111111111,
              "#46039f"
             ],
             [
              0.2222222222222222,
              "#7201a8"
             ],
             [
              0.3333333333333333,
              "#9c179e"
             ],
             [
              0.4444444444444444,
              "#bd3786"
             ],
             [
              0.5555555555555556,
              "#d8576b"
             ],
             [
              0.6666666666666666,
              "#ed7953"
             ],
             [
              0.7777777777777778,
              "#fb9f3a"
             ],
             [
              0.8888888888888888,
              "#fdca26"
             ],
             [
              1,
              "#f0f921"
             ]
            ],
            "type": "histogram2d"
           }
          ],
          "histogram2dcontour": [
           {
            "colorbar": {
             "outlinewidth": 0,
             "ticks": ""
            },
            "colorscale": [
             [
              0,
              "#0d0887"
             ],
             [
              0.1111111111111111,
              "#46039f"
             ],
             [
              0.2222222222222222,
              "#7201a8"
             ],
             [
              0.3333333333333333,
              "#9c179e"
             ],
             [
              0.4444444444444444,
              "#bd3786"
             ],
             [
              0.5555555555555556,
              "#d8576b"
             ],
             [
              0.6666666666666666,
              "#ed7953"
             ],
             [
              0.7777777777777778,
              "#fb9f3a"
             ],
             [
              0.8888888888888888,
              "#fdca26"
             ],
             [
              1,
              "#f0f921"
             ]
            ],
            "type": "histogram2dcontour"
           }
          ],
          "mesh3d": [
           {
            "colorbar": {
             "outlinewidth": 0,
             "ticks": ""
            },
            "type": "mesh3d"
           }
          ],
          "parcoords": [
           {
            "line": {
             "colorbar": {
              "outlinewidth": 0,
              "ticks": ""
             }
            },
            "type": "parcoords"
           }
          ],
          "pie": [
           {
            "automargin": true,
            "type": "pie"
           }
          ],
          "scatter": [
           {
            "fillpattern": {
             "fillmode": "overlay",
             "size": 10,
             "solidity": 0.2
            },
            "type": "scatter"
           }
          ],
          "scatter3d": [
           {
            "line": {
             "colorbar": {
              "outlinewidth": 0,
              "ticks": ""
             }
            },
            "marker": {
             "colorbar": {
              "outlinewidth": 0,
              "ticks": ""
             }
            },
            "type": "scatter3d"
           }
          ],
          "scattercarpet": [
           {
            "marker": {
             "colorbar": {
              "outlinewidth": 0,
              "ticks": ""
             }
            },
            "type": "scattercarpet"
           }
          ],
          "scattergeo": [
           {
            "marker": {
             "colorbar": {
              "outlinewidth": 0,
              "ticks": ""
             }
            },
            "type": "scattergeo"
           }
          ],
          "scattergl": [
           {
            "marker": {
             "colorbar": {
              "outlinewidth": 0,
              "ticks": ""
             }
            },
            "type": "scattergl"
           }
          ],
          "scattermap": [
           {
            "marker": {
             "colorbar": {
              "outlinewidth": 0,
              "ticks": ""
             }
            },
            "type": "scattermap"
           }
          ],
          "scattermapbox": [
           {
            "marker": {
             "colorbar": {
              "outlinewidth": 0,
              "ticks": ""
             }
            },
            "type": "scattermapbox"
           }
          ],
          "scatterpolar": [
           {
            "marker": {
             "colorbar": {
              "outlinewidth": 0,
              "ticks": ""
             }
            },
            "type": "scatterpolar"
           }
          ],
          "scatterpolargl": [
           {
            "marker": {
             "colorbar": {
              "outlinewidth": 0,
              "ticks": ""
             }
            },
            "type": "scatterpolargl"
           }
          ],
          "scatterternary": [
           {
            "marker": {
             "colorbar": {
              "outlinewidth": 0,
              "ticks": ""
             }
            },
            "type": "scatterternary"
           }
          ],
          "surface": [
           {
            "colorbar": {
             "outlinewidth": 0,
             "ticks": ""
            },
            "colorscale": [
             [
              0,
              "#0d0887"
             ],
             [
              0.1111111111111111,
              "#46039f"
             ],
             [
              0.2222222222222222,
              "#7201a8"
             ],
             [
              0.3333333333333333,
              "#9c179e"
             ],
             [
              0.4444444444444444,
              "#bd3786"
             ],
             [
              0.5555555555555556,
              "#d8576b"
             ],
             [
              0.6666666666666666,
              "#ed7953"
             ],
             [
              0.7777777777777778,
              "#fb9f3a"
             ],
             [
              0.8888888888888888,
              "#fdca26"
             ],
             [
              1,
              "#f0f921"
             ]
            ],
            "type": "surface"
           }
          ],
          "table": [
           {
            "cells": {
             "fill": {
              "color": "#EBF0F8"
             },
             "line": {
              "color": "white"
             }
            },
            "header": {
             "fill": {
              "color": "#C8D4E3"
             },
             "line": {
              "color": "white"
             }
            },
            "type": "table"
           }
          ]
         },
         "layout": {
          "annotationdefaults": {
           "arrowcolor": "#2a3f5f",
           "arrowhead": 0,
           "arrowwidth": 1
          },
          "autotypenumbers": "strict",
          "coloraxis": {
           "colorbar": {
            "outlinewidth": 0,
            "ticks": ""
           }
          },
          "colorscale": {
           "diverging": [
            [
             0,
             "#8e0152"
            ],
            [
             0.1,
             "#c51b7d"
            ],
            [
             0.2,
             "#de77ae"
            ],
            [
             0.3,
             "#f1b6da"
            ],
            [
             0.4,
             "#fde0ef"
            ],
            [
             0.5,
             "#f7f7f7"
            ],
            [
             0.6,
             "#e6f5d0"
            ],
            [
             0.7,
             "#b8e186"
            ],
            [
             0.8,
             "#7fbc41"
            ],
            [
             0.9,
             "#4d9221"
            ],
            [
             1,
             "#276419"
            ]
           ],
           "sequential": [
            [
             0,
             "#0d0887"
            ],
            [
             0.1111111111111111,
             "#46039f"
            ],
            [
             0.2222222222222222,
             "#7201a8"
            ],
            [
             0.3333333333333333,
             "#9c179e"
            ],
            [
             0.4444444444444444,
             "#bd3786"
            ],
            [
             0.5555555555555556,
             "#d8576b"
            ],
            [
             0.6666666666666666,
             "#ed7953"
            ],
            [
             0.7777777777777778,
             "#fb9f3a"
            ],
            [
             0.8888888888888888,
             "#fdca26"
            ],
            [
             1,
             "#f0f921"
            ]
           ],
           "sequentialminus": [
            [
             0,
             "#0d0887"
            ],
            [
             0.1111111111111111,
             "#46039f"
            ],
            [
             0.2222222222222222,
             "#7201a8"
            ],
            [
             0.3333333333333333,
             "#9c179e"
            ],
            [
             0.4444444444444444,
             "#bd3786"
            ],
            [
             0.5555555555555556,
             "#d8576b"
            ],
            [
             0.6666666666666666,
             "#ed7953"
            ],
            [
             0.7777777777777778,
             "#fb9f3a"
            ],
            [
             0.8888888888888888,
             "#fdca26"
            ],
            [
             1,
             "#f0f921"
            ]
           ]
          },
          "colorway": [
           "#636efa",
           "#EF553B",
           "#00cc96",
           "#ab63fa",
           "#FFA15A",
           "#19d3f3",
           "#FF6692",
           "#B6E880",
           "#FF97FF",
           "#FECB52"
          ],
          "font": {
           "color": "#2a3f5f"
          },
          "geo": {
           "bgcolor": "white",
           "lakecolor": "white",
           "landcolor": "#E5ECF6",
           "showlakes": true,
           "showland": true,
           "subunitcolor": "white"
          },
          "hoverlabel": {
           "align": "left"
          },
          "hovermode": "closest",
          "mapbox": {
           "style": "light"
          },
          "paper_bgcolor": "white",
          "plot_bgcolor": "#E5ECF6",
          "polar": {
           "angularaxis": {
            "gridcolor": "white",
            "linecolor": "white",
            "ticks": ""
           },
           "bgcolor": "#E5ECF6",
           "radialaxis": {
            "gridcolor": "white",
            "linecolor": "white",
            "ticks": ""
           }
          },
          "scene": {
           "xaxis": {
            "backgroundcolor": "#E5ECF6",
            "gridcolor": "white",
            "gridwidth": 2,
            "linecolor": "white",
            "showbackground": true,
            "ticks": "",
            "zerolinecolor": "white"
           },
           "yaxis": {
            "backgroundcolor": "#E5ECF6",
            "gridcolor": "white",
            "gridwidth": 2,
            "linecolor": "white",
            "showbackground": true,
            "ticks": "",
            "zerolinecolor": "white"
           },
           "zaxis": {
            "backgroundcolor": "#E5ECF6",
            "gridcolor": "white",
            "gridwidth": 2,
            "linecolor": "white",
            "showbackground": true,
            "ticks": "",
            "zerolinecolor": "white"
           }
          },
          "shapedefaults": {
           "line": {
            "color": "#2a3f5f"
           }
          },
          "ternary": {
           "aaxis": {
            "gridcolor": "white",
            "linecolor": "white",
            "ticks": ""
           },
           "baxis": {
            "gridcolor": "white",
            "linecolor": "white",
            "ticks": ""
           },
           "bgcolor": "#E5ECF6",
           "caxis": {
            "gridcolor": "white",
            "linecolor": "white",
            "ticks": ""
           }
          },
          "title": {
           "x": 0.05
          },
          "xaxis": {
           "automargin": true,
           "gridcolor": "white",
           "linecolor": "white",
           "ticks": "",
           "title": {
            "standoff": 15
           },
           "zerolinecolor": "white",
           "zerolinewidth": 2
          },
          "yaxis": {
           "automargin": true,
           "gridcolor": "white",
           "linecolor": "white",
           "ticks": "",
           "title": {
            "standoff": 15
           },
           "zerolinecolor": "white",
           "zerolinewidth": 2
          }
         }
        },
        "title": {
         "text": "Number of non-zero values by volume filtered"
        },
        "xaxis": {
         "anchor": "y",
         "domain": [
          0,
          1
         ],
         "title": {
          "text": "Volume filtered (m3)"
         }
        },
        "yaxis": {
         "anchor": "x",
         "domain": [
          0,
          1
         ],
         "title": {
          "text": "sum of Number of non-zero values"
         }
        }
       }
      }
     },
     "metadata": {},
     "output_type": "display_data"
    }
   ],
   "source": [
    "px.histogram(\n",
    "    x=data[\"Volume Filtered(m3)\"],\n",
    "    y=nb_zeros,\n",
    "    title=\"Number of non-zero values by volume filtered\",\n",
    "    labels=dict(x=\"Volume filtered (m3)\", y=\"Number of non-zero values\"),\n",
    "    nbins=100,\n",
    ")\n"
   ]
  },
  {
   "cell_type": "markdown",
   "metadata": {},
   "source": [
    "## Aggregate by taxa group\n",
    "\n",
    "---\n"
   ]
  },
  {
   "cell_type": "code",
   "execution_count": 22,
   "metadata": {},
   "outputs": [
    {
     "data": {
      "text/plain": [
       "{'pteropods': ['MOGA:PTER']}"
      ]
     },
     "execution_count": 22,
     "metadata": {},
     "output_type": "execute_result"
    }
   ],
   "source": [
    "taxa_groups"
   ]
  },
  {
   "cell_type": "code",
   "execution_count": 23,
   "metadata": {},
   "outputs": [],
   "source": [
    "res = {}\n",
    "for k, v in taxa_groups.items():\n",
    "    nested_list = [data.columns[[vv in col for col in data.columns]] for vv in v]\n",
    "    flat_list = [item for sublist in nested_list for item in sublist]\n",
    "    res[k] = flat_list"
   ]
  },
  {
   "cell_type": "code",
   "execution_count": 93,
   "metadata": {},
   "outputs": [
    {
     "data": {
      "text/html": [
       "<div>\n",
       "<style scoped>\n",
       "    .dataframe tbody tr th:only-of-type {\n",
       "        vertical-align: middle;\n",
       "    }\n",
       "\n",
       "    .dataframe tbody tr th {\n",
       "        vertical-align: top;\n",
       "    }\n",
       "\n",
       "    .dataframe thead th {\n",
       "        text-align: right;\n",
       "    }\n",
       "</style>\n",
       "<table border=\"1\" class=\"dataframe\">\n",
       "  <thead>\n",
       "    <tr style=\"text-align: right;\">\n",
       "      <th></th>\n",
       "      <th>time</th>\n",
       "      <th>lat</th>\n",
       "      <th>lon</th>\n",
       "      <th>is_day</th>\n",
       "      <th>mesh_size</th>\n",
       "      <th>depth</th>\n",
       "      <th>volume_filtered</th>\n",
       "      <th>pteropods</th>\n",
       "      <th>total</th>\n",
       "    </tr>\n",
       "  </thead>\n",
       "  <tbody>\n",
       "    <tr>\n",
       "      <th>0</th>\n",
       "      <td>1995-09-24</td>\n",
       "      <td>49.820</td>\n",
       "      <td>-128.563</td>\n",
       "      <td>Daylight</td>\n",
       "      <td>236.0</td>\n",
       "      <td>246.0</td>\n",
       "      <td>86.33</td>\n",
       "      <td>1.18244</td>\n",
       "      <td>1.18244</td>\n",
       "    </tr>\n",
       "    <tr>\n",
       "      <th>1</th>\n",
       "      <td>1995-09-24</td>\n",
       "      <td>49.820</td>\n",
       "      <td>-128.563</td>\n",
       "      <td>Night</td>\n",
       "      <td>236.0</td>\n",
       "      <td>50.0</td>\n",
       "      <td>36.09</td>\n",
       "      <td>0.00000</td>\n",
       "      <td>0.00000</td>\n",
       "    </tr>\n",
       "    <tr>\n",
       "      <th>2</th>\n",
       "      <td>1995-09-25</td>\n",
       "      <td>49.560</td>\n",
       "      <td>-128.259</td>\n",
       "      <td>Daylight</td>\n",
       "      <td>236.0</td>\n",
       "      <td>247.0</td>\n",
       "      <td>113.58</td>\n",
       "      <td>0.07184</td>\n",
       "      <td>0.07184</td>\n",
       "    </tr>\n",
       "    <tr>\n",
       "      <th>3</th>\n",
       "      <td>1995-09-25</td>\n",
       "      <td>49.560</td>\n",
       "      <td>-128.259</td>\n",
       "      <td>Night</td>\n",
       "      <td>236.0</td>\n",
       "      <td>49.0</td>\n",
       "      <td>24.77</td>\n",
       "      <td>0.54905</td>\n",
       "      <td>0.54905</td>\n",
       "    </tr>\n",
       "    <tr>\n",
       "      <th>4</th>\n",
       "      <td>1995-09-25</td>\n",
       "      <td>49.670</td>\n",
       "      <td>-128.075</td>\n",
       "      <td>Night</td>\n",
       "      <td>236.0</td>\n",
       "      <td>235.0</td>\n",
       "      <td>69.70</td>\n",
       "      <td>0.62439</td>\n",
       "      <td>0.62439</td>\n",
       "    </tr>\n",
       "    <tr>\n",
       "      <th>...</th>\n",
       "      <td>...</td>\n",
       "      <td>...</td>\n",
       "      <td>...</td>\n",
       "      <td>...</td>\n",
       "      <td>...</td>\n",
       "      <td>...</td>\n",
       "      <td>...</td>\n",
       "      <td>...</td>\n",
       "      <td>...</td>\n",
       "    </tr>\n",
       "    <tr>\n",
       "      <th>1072</th>\n",
       "      <td>2020-08-17</td>\n",
       "      <td>49.283</td>\n",
       "      <td>-134.667</td>\n",
       "      <td>Night</td>\n",
       "      <td>236.0</td>\n",
       "      <td>250.0</td>\n",
       "      <td>59.84</td>\n",
       "      <td>0.08155</td>\n",
       "      <td>0.08155</td>\n",
       "    </tr>\n",
       "    <tr>\n",
       "      <th>1073</th>\n",
       "      <td>2020-08-18</td>\n",
       "      <td>49.569</td>\n",
       "      <td>-138.666</td>\n",
       "      <td>Night</td>\n",
       "      <td>236.0</td>\n",
       "      <td>250.0</td>\n",
       "      <td>67.40</td>\n",
       "      <td>0.04658</td>\n",
       "      <td>0.04658</td>\n",
       "    </tr>\n",
       "    <tr>\n",
       "      <th>1074</th>\n",
       "      <td>2020-08-20</td>\n",
       "      <td>50.000</td>\n",
       "      <td>-145.000</td>\n",
       "      <td>Night</td>\n",
       "      <td>236.0</td>\n",
       "      <td>250.0</td>\n",
       "      <td>65.52</td>\n",
       "      <td>0.45086</td>\n",
       "      <td>0.45086</td>\n",
       "    </tr>\n",
       "    <tr>\n",
       "      <th>1075</th>\n",
       "      <td>2020-08-30</td>\n",
       "      <td>50.463</td>\n",
       "      <td>-129.916</td>\n",
       "      <td>Daylight</td>\n",
       "      <td>236.0</td>\n",
       "      <td>250.0</td>\n",
       "      <td>61.95</td>\n",
       "      <td>0.13172</td>\n",
       "      <td>0.13172</td>\n",
       "    </tr>\n",
       "    <tr>\n",
       "      <th>1076</th>\n",
       "      <td>2020-08-31</td>\n",
       "      <td>50.938</td>\n",
       "      <td>-129.979</td>\n",
       "      <td>Daylight</td>\n",
       "      <td>236.0</td>\n",
       "      <td>250.0</td>\n",
       "      <td>87.33</td>\n",
       "      <td>0.12458</td>\n",
       "      <td>0.12458</td>\n",
       "    </tr>\n",
       "  </tbody>\n",
       "</table>\n",
       "<p>1077 rows × 9 columns</p>\n",
       "</div>"
      ],
      "text/plain": [
       "           time     lat      lon    is_day  mesh_size  depth  volume_filtered  \\\n",
       "0    1995-09-24  49.820 -128.563  Daylight      236.0  246.0            86.33   \n",
       "1    1995-09-24  49.820 -128.563     Night      236.0   50.0            36.09   \n",
       "2    1995-09-25  49.560 -128.259  Daylight      236.0  247.0           113.58   \n",
       "3    1995-09-25  49.560 -128.259     Night      236.0   49.0            24.77   \n",
       "4    1995-09-25  49.670 -128.075     Night      236.0  235.0            69.70   \n",
       "...         ...     ...      ...       ...        ...    ...              ...   \n",
       "1072 2020-08-17  49.283 -134.667     Night      236.0  250.0            59.84   \n",
       "1073 2020-08-18  49.569 -138.666     Night      236.0  250.0            67.40   \n",
       "1074 2020-08-20  50.000 -145.000     Night      236.0  250.0            65.52   \n",
       "1075 2020-08-30  50.463 -129.916  Daylight      236.0  250.0            61.95   \n",
       "1076 2020-08-31  50.938 -129.979  Daylight      236.0  250.0            87.33   \n",
       "\n",
       "      pteropods    total  \n",
       "0       1.18244  1.18244  \n",
       "1       0.00000  0.00000  \n",
       "2       0.07184  0.07184  \n",
       "3       0.54905  0.54905  \n",
       "4       0.62439  0.62439  \n",
       "...         ...      ...  \n",
       "1072    0.08155  0.08155  \n",
       "1073    0.04658  0.04658  \n",
       "1074    0.45086  0.45086  \n",
       "1075    0.13172  0.13172  \n",
       "1076    0.12458  0.12458  \n",
       "\n",
       "[1077 rows x 9 columns]"
      ]
     },
     "execution_count": 93,
     "metadata": {},
     "output_type": "execute_result"
    }
   ],
   "source": [
    "final_data = pd.merge(\n",
    "    index,\n",
    "    pd.DataFrame({k: data.loc[:, v].sum(1) for k, v in res.items()}),\n",
    "    left_index=True,\n",
    "    right_index=True,\n",
    ")\n",
    "final_data = final_data.rename(\n",
    "    columns={\n",
    "        \"Twilight\": \"is_day\",\n",
    "        \"Mesh_Size(um)\": \"mesh_size\",\n",
    "        \"Volume Filtered(m3)\": \"volume_filtered\",\n",
    "        \"DEPTH_STRT\": \"depth\",\n",
    "    }\n",
    ").drop(columns=\"DEPTH_END\")\n",
    "final_data[\"total\"] = final_data[[k for k in taxa_groups.keys()]].sum(1)\n",
    "final_data"
   ]
  },
  {
   "cell_type": "code",
   "execution_count": 94,
   "metadata": {},
   "outputs": [
    {
     "data": {
      "text/html": [
       "<div>\n",
       "<style scoped>\n",
       "    .dataframe tbody tr th:only-of-type {\n",
       "        vertical-align: middle;\n",
       "    }\n",
       "\n",
       "    .dataframe tbody tr th {\n",
       "        vertical-align: top;\n",
       "    }\n",
       "\n",
       "    .dataframe thead th {\n",
       "        text-align: right;\n",
       "    }\n",
       "</style>\n",
       "<table border=\"1\" class=\"dataframe\">\n",
       "  <thead>\n",
       "    <tr style=\"text-align: right;\">\n",
       "      <th></th>\n",
       "      <th>time</th>\n",
       "      <th>lat</th>\n",
       "      <th>lon</th>\n",
       "      <th>is_day</th>\n",
       "      <th>mesh_size</th>\n",
       "      <th>depth</th>\n",
       "      <th>volume_filtered</th>\n",
       "      <th>pteropods</th>\n",
       "      <th>total</th>\n",
       "    </tr>\n",
       "  </thead>\n",
       "  <tbody>\n",
       "    <tr>\n",
       "      <th>142</th>\n",
       "      <td>1998-05-13</td>\n",
       "      <td>48.892</td>\n",
       "      <td>-129.672</td>\n",
       "      <td>Night</td>\n",
       "      <td>236.0</td>\n",
       "      <td>149.0</td>\n",
       "      <td>62.91</td>\n",
       "      <td>3.23764</td>\n",
       "      <td>3.23764</td>\n",
       "    </tr>\n",
       "    <tr>\n",
       "      <th>143</th>\n",
       "      <td>1998-05-13</td>\n",
       "      <td>48.857</td>\n",
       "      <td>-129.162</td>\n",
       "      <td>Daylight</td>\n",
       "      <td>335.0</td>\n",
       "      <td>148.0</td>\n",
       "      <td>21.60</td>\n",
       "      <td>2.48611</td>\n",
       "      <td>2.48611</td>\n",
       "    </tr>\n",
       "    <tr>\n",
       "      <th>144</th>\n",
       "      <td>1998-05-13</td>\n",
       "      <td>48.856</td>\n",
       "      <td>-129.158</td>\n",
       "      <td>Daylight</td>\n",
       "      <td>335.0</td>\n",
       "      <td>150.0</td>\n",
       "      <td>36.16</td>\n",
       "      <td>2.02932</td>\n",
       "      <td>2.02932</td>\n",
       "    </tr>\n",
       "    <tr>\n",
       "      <th>145</th>\n",
       "      <td>1998-05-13</td>\n",
       "      <td>48.857</td>\n",
       "      <td>-129.159</td>\n",
       "      <td>Daylight</td>\n",
       "      <td>335.0</td>\n",
       "      <td>150.0</td>\n",
       "      <td>33.20</td>\n",
       "      <td>2.27108</td>\n",
       "      <td>2.27108</td>\n",
       "    </tr>\n",
       "    <tr>\n",
       "      <th>146</th>\n",
       "      <td>1998-05-13</td>\n",
       "      <td>48.856</td>\n",
       "      <td>-129.161</td>\n",
       "      <td>Daylight</td>\n",
       "      <td>335.0</td>\n",
       "      <td>149.0</td>\n",
       "      <td>16.83</td>\n",
       "      <td>1.41295</td>\n",
       "      <td>1.41295</td>\n",
       "    </tr>\n",
       "    <tr>\n",
       "      <th>147</th>\n",
       "      <td>1998-05-13</td>\n",
       "      <td>48.856</td>\n",
       "      <td>-129.160</td>\n",
       "      <td>Daylight</td>\n",
       "      <td>236.0</td>\n",
       "      <td>150.0</td>\n",
       "      <td>42.81</td>\n",
       "      <td>3.23849</td>\n",
       "      <td>3.23849</td>\n",
       "    </tr>\n",
       "    <tr>\n",
       "      <th>148</th>\n",
       "      <td>1998-05-13</td>\n",
       "      <td>48.856</td>\n",
       "      <td>-129.160</td>\n",
       "      <td>Daylight</td>\n",
       "      <td>236.0</td>\n",
       "      <td>150.0</td>\n",
       "      <td>42.81</td>\n",
       "      <td>13.84723</td>\n",
       "      <td>13.84723</td>\n",
       "    </tr>\n",
       "    <tr>\n",
       "      <th>149</th>\n",
       "      <td>1998-05-13</td>\n",
       "      <td>48.820</td>\n",
       "      <td>-128.668</td>\n",
       "      <td>Daylight</td>\n",
       "      <td>236.0</td>\n",
       "      <td>151.0</td>\n",
       "      <td>48.05</td>\n",
       "      <td>1.97960</td>\n",
       "      <td>1.97960</td>\n",
       "    </tr>\n",
       "  </tbody>\n",
       "</table>\n",
       "</div>"
      ],
      "text/plain": [
       "          time     lat      lon    is_day  mesh_size  depth  volume_filtered  \\\n",
       "142 1998-05-13  48.892 -129.672     Night      236.0  149.0            62.91   \n",
       "143 1998-05-13  48.857 -129.162  Daylight      335.0  148.0            21.60   \n",
       "144 1998-05-13  48.856 -129.158  Daylight      335.0  150.0            36.16   \n",
       "145 1998-05-13  48.857 -129.159  Daylight      335.0  150.0            33.20   \n",
       "146 1998-05-13  48.856 -129.161  Daylight      335.0  149.0            16.83   \n",
       "147 1998-05-13  48.856 -129.160  Daylight      236.0  150.0            42.81   \n",
       "148 1998-05-13  48.856 -129.160  Daylight      236.0  150.0            42.81   \n",
       "149 1998-05-13  48.820 -128.668  Daylight      236.0  151.0            48.05   \n",
       "\n",
       "     pteropods     total  \n",
       "142    3.23764   3.23764  \n",
       "143    2.48611   2.48611  \n",
       "144    2.02932   2.02932  \n",
       "145    2.27108   2.27108  \n",
       "146    1.41295   1.41295  \n",
       "147    3.23849   3.23849  \n",
       "148   13.84723  13.84723  \n",
       "149    1.97960   1.97960  "
      ]
     },
     "execution_count": 94,
     "metadata": {},
     "output_type": "execute_result"
    }
   ],
   "source": [
    "\n",
    "final_data[final_data['time']==\"1998-05-13\"]"
   ]
  },
  {
   "cell_type": "markdown",
   "metadata": {},
   "source": [
    "## Aggregate by depth and space\n",
    "\n",
    "---\n"
   ]
  },
  {
   "cell_type": "markdown",
   "metadata": {},
   "source": [
    "Round the coordinates"
   ]
  },
  {
   "cell_type": "code",
   "execution_count": 27,
   "metadata": {},
   "outputs": [
    {
     "data": {
      "text/html": [
       "<div>\n",
       "<style scoped>\n",
       "    .dataframe tbody tr th:only-of-type {\n",
       "        vertical-align: middle;\n",
       "    }\n",
       "\n",
       "    .dataframe tbody tr th {\n",
       "        vertical-align: top;\n",
       "    }\n",
       "\n",
       "    .dataframe thead th {\n",
       "        text-align: right;\n",
       "    }\n",
       "</style>\n",
       "<table border=\"1\" class=\"dataframe\">\n",
       "  <thead>\n",
       "    <tr style=\"text-align: right;\">\n",
       "      <th></th>\n",
       "      <th>time</th>\n",
       "      <th>lat</th>\n",
       "      <th>lon</th>\n",
       "      <th>is_day</th>\n",
       "      <th>mesh_size</th>\n",
       "      <th>depth</th>\n",
       "      <th>volume_filtered</th>\n",
       "      <th>pteropods</th>\n",
       "      <th>total</th>\n",
       "    </tr>\n",
       "  </thead>\n",
       "  <tbody>\n",
       "    <tr>\n",
       "      <th>0</th>\n",
       "      <td>1995-09-24</td>\n",
       "      <td>49.5</td>\n",
       "      <td>-128.5</td>\n",
       "      <td>Daylight</td>\n",
       "      <td>236.0</td>\n",
       "      <td>246.0</td>\n",
       "      <td>86.33</td>\n",
       "      <td>1.18244</td>\n",
       "      <td>1.18244</td>\n",
       "    </tr>\n",
       "    <tr>\n",
       "      <th>1</th>\n",
       "      <td>1995-09-24</td>\n",
       "      <td>49.5</td>\n",
       "      <td>-128.5</td>\n",
       "      <td>Night</td>\n",
       "      <td>236.0</td>\n",
       "      <td>50.0</td>\n",
       "      <td>36.09</td>\n",
       "      <td>0.00000</td>\n",
       "      <td>0.00000</td>\n",
       "    </tr>\n",
       "    <tr>\n",
       "      <th>2</th>\n",
       "      <td>1995-09-25</td>\n",
       "      <td>49.5</td>\n",
       "      <td>-128.5</td>\n",
       "      <td>Daylight</td>\n",
       "      <td>236.0</td>\n",
       "      <td>247.0</td>\n",
       "      <td>113.58</td>\n",
       "      <td>0.07184</td>\n",
       "      <td>0.07184</td>\n",
       "    </tr>\n",
       "    <tr>\n",
       "      <th>3</th>\n",
       "      <td>1995-09-25</td>\n",
       "      <td>49.5</td>\n",
       "      <td>-128.5</td>\n",
       "      <td>Night</td>\n",
       "      <td>236.0</td>\n",
       "      <td>49.0</td>\n",
       "      <td>24.77</td>\n",
       "      <td>0.54905</td>\n",
       "      <td>0.54905</td>\n",
       "    </tr>\n",
       "    <tr>\n",
       "      <th>4</th>\n",
       "      <td>1995-09-25</td>\n",
       "      <td>49.5</td>\n",
       "      <td>-128.5</td>\n",
       "      <td>Night</td>\n",
       "      <td>236.0</td>\n",
       "      <td>235.0</td>\n",
       "      <td>69.70</td>\n",
       "      <td>0.62439</td>\n",
       "      <td>0.62439</td>\n",
       "    </tr>\n",
       "    <tr>\n",
       "      <th>...</th>\n",
       "      <td>...</td>\n",
       "      <td>...</td>\n",
       "      <td>...</td>\n",
       "      <td>...</td>\n",
       "      <td>...</td>\n",
       "      <td>...</td>\n",
       "      <td>...</td>\n",
       "      <td>...</td>\n",
       "      <td>...</td>\n",
       "    </tr>\n",
       "    <tr>\n",
       "      <th>1072</th>\n",
       "      <td>2020-08-17</td>\n",
       "      <td>49.5</td>\n",
       "      <td>-134.5</td>\n",
       "      <td>Night</td>\n",
       "      <td>236.0</td>\n",
       "      <td>250.0</td>\n",
       "      <td>59.84</td>\n",
       "      <td>0.08155</td>\n",
       "      <td>0.08155</td>\n",
       "    </tr>\n",
       "    <tr>\n",
       "      <th>1073</th>\n",
       "      <td>2020-08-18</td>\n",
       "      <td>49.5</td>\n",
       "      <td>-138.5</td>\n",
       "      <td>Night</td>\n",
       "      <td>236.0</td>\n",
       "      <td>250.0</td>\n",
       "      <td>67.40</td>\n",
       "      <td>0.04658</td>\n",
       "      <td>0.04658</td>\n",
       "    </tr>\n",
       "    <tr>\n",
       "      <th>1074</th>\n",
       "      <td>2020-08-20</td>\n",
       "      <td>49.5</td>\n",
       "      <td>-145.5</td>\n",
       "      <td>Night</td>\n",
       "      <td>236.0</td>\n",
       "      <td>250.0</td>\n",
       "      <td>65.52</td>\n",
       "      <td>0.45086</td>\n",
       "      <td>0.45086</td>\n",
       "    </tr>\n",
       "    <tr>\n",
       "      <th>1075</th>\n",
       "      <td>2020-08-30</td>\n",
       "      <td>50.5</td>\n",
       "      <td>-129.5</td>\n",
       "      <td>Daylight</td>\n",
       "      <td>236.0</td>\n",
       "      <td>250.0</td>\n",
       "      <td>61.95</td>\n",
       "      <td>0.13172</td>\n",
       "      <td>0.13172</td>\n",
       "    </tr>\n",
       "    <tr>\n",
       "      <th>1076</th>\n",
       "      <td>2020-08-31</td>\n",
       "      <td>50.5</td>\n",
       "      <td>-129.5</td>\n",
       "      <td>Daylight</td>\n",
       "      <td>236.0</td>\n",
       "      <td>250.0</td>\n",
       "      <td>87.33</td>\n",
       "      <td>0.12458</td>\n",
       "      <td>0.12458</td>\n",
       "    </tr>\n",
       "  </tbody>\n",
       "</table>\n",
       "<p>1077 rows × 9 columns</p>\n",
       "</div>"
      ],
      "text/plain": [
       "           time   lat    lon    is_day  mesh_size  depth  volume_filtered  \\\n",
       "0    1995-09-24  49.5 -128.5  Daylight      236.0  246.0            86.33   \n",
       "1    1995-09-24  49.5 -128.5     Night      236.0   50.0            36.09   \n",
       "2    1995-09-25  49.5 -128.5  Daylight      236.0  247.0           113.58   \n",
       "3    1995-09-25  49.5 -128.5     Night      236.0   49.0            24.77   \n",
       "4    1995-09-25  49.5 -128.5     Night      236.0  235.0            69.70   \n",
       "...         ...   ...    ...       ...        ...    ...              ...   \n",
       "1072 2020-08-17  49.5 -134.5     Night      236.0  250.0            59.84   \n",
       "1073 2020-08-18  49.5 -138.5     Night      236.0  250.0            67.40   \n",
       "1074 2020-08-20  49.5 -145.5     Night      236.0  250.0            65.52   \n",
       "1075 2020-08-30  50.5 -129.5  Daylight      236.0  250.0            61.95   \n",
       "1076 2020-08-31  50.5 -129.5  Daylight      236.0  250.0            87.33   \n",
       "\n",
       "      pteropods    total  \n",
       "0       1.18244  1.18244  \n",
       "1       0.00000  0.00000  \n",
       "2       0.07184  0.07184  \n",
       "3       0.54905  0.54905  \n",
       "4       0.62439  0.62439  \n",
       "...         ...      ...  \n",
       "1072    0.08155  0.08155  \n",
       "1073    0.04658  0.04658  \n",
       "1074    0.45086  0.45086  \n",
       "1075    0.13172  0.13172  \n",
       "1076    0.12458  0.12458  \n",
       "\n",
       "[1077 rows x 9 columns]"
      ]
     },
     "execution_count": 27,
     "metadata": {},
     "output_type": "execute_result"
    }
   ],
   "source": [
    "# final_data[\"depth\"] = pd.cut(\n",
    "#     final_data[\"depth\"],\n",
    "#     bins=[0, 50, 100, 150, 200, 250, 300, 350, 400],\n",
    "#     labels=[50, 100, 150, 200, 250, 300, 350, 400],\n",
    "#     right=True,\n",
    "# )\n",
    "\n",
    "final_data[\"lon\"] = pd.cut(\n",
    "    final_data[\"lon\"],\n",
    "    bins=np.arange(-158, -126, 1),\n",
    "    labels=np.arange(-157.5, -126.5, 1),\n",
    "    right=True,\n",
    ")\n",
    "\n",
    "final_data[\"lat\"] = pd.cut(\n",
    "    final_data[\"lat\"],\n",
    "    bins=np.arange(46, 59, 1),\n",
    "    labels=np.arange(46.5, 58.5, 1),\n",
    "    right=True,\n",
    ")\n",
    "\n",
    "final_data"
   ]
  },
  {
   "cell_type": "code",
   "execution_count": 44,
   "metadata": {},
   "outputs": [
    {
     "data": {
      "text/html": [
       "<div>\n",
       "<style scoped>\n",
       "    .dataframe tbody tr th:only-of-type {\n",
       "        vertical-align: middle;\n",
       "    }\n",
       "\n",
       "    .dataframe tbody tr th {\n",
       "        vertical-align: top;\n",
       "    }\n",
       "\n",
       "    .dataframe thead th {\n",
       "        text-align: right;\n",
       "    }\n",
       "</style>\n",
       "<table border=\"1\" class=\"dataframe\">\n",
       "  <thead>\n",
       "    <tr style=\"text-align: right;\">\n",
       "      <th></th>\n",
       "      <th>time</th>\n",
       "      <th>lat</th>\n",
       "      <th>lon</th>\n",
       "      <th>is_day</th>\n",
       "      <th>mesh_size</th>\n",
       "      <th>depth</th>\n",
       "      <th>volume_filtered</th>\n",
       "      <th>pteropods</th>\n",
       "      <th>total</th>\n",
       "    </tr>\n",
       "  </thead>\n",
       "  <tbody>\n",
       "    <tr>\n",
       "      <th>0</th>\n",
       "      <td>1998-01-19</td>\n",
       "      <td>48.5</td>\n",
       "      <td>-128.5</td>\n",
       "      <td>Night</td>\n",
       "      <td>236.0</td>\n",
       "      <td>150.0</td>\n",
       "      <td>31.40</td>\n",
       "      <td>0.65905</td>\n",
       "      <td>0.65905</td>\n",
       "    </tr>\n",
       "    <tr>\n",
       "      <th>1</th>\n",
       "      <td>1998-01-20</td>\n",
       "      <td>48.5</td>\n",
       "      <td>-130.5</td>\n",
       "      <td>Daylight</td>\n",
       "      <td>236.0</td>\n",
       "      <td>150.0</td>\n",
       "      <td>31.82</td>\n",
       "      <td>0.73218</td>\n",
       "      <td>0.73218</td>\n",
       "    </tr>\n",
       "    <tr>\n",
       "      <th>2</th>\n",
       "      <td>1998-01-20</td>\n",
       "      <td>48.5</td>\n",
       "      <td>-129.5</td>\n",
       "      <td>Daylight</td>\n",
       "      <td>236.0</td>\n",
       "      <td>149.0</td>\n",
       "      <td>36.93</td>\n",
       "      <td>0.34471</td>\n",
       "      <td>0.34471</td>\n",
       "    </tr>\n",
       "    <tr>\n",
       "      <th>3</th>\n",
       "      <td>1998-02-21</td>\n",
       "      <td>48.5</td>\n",
       "      <td>-129.5</td>\n",
       "      <td>Daylight</td>\n",
       "      <td>236.0</td>\n",
       "      <td>150.0</td>\n",
       "      <td>56.19</td>\n",
       "      <td>0.02595</td>\n",
       "      <td>0.02595</td>\n",
       "    </tr>\n",
       "    <tr>\n",
       "      <th>4</th>\n",
       "      <td>1998-02-21</td>\n",
       "      <td>48.5</td>\n",
       "      <td>-130.5</td>\n",
       "      <td>Night</td>\n",
       "      <td>236.0</td>\n",
       "      <td>152.0</td>\n",
       "      <td>96.41</td>\n",
       "      <td>0.36677</td>\n",
       "      <td>0.36677</td>\n",
       "    </tr>\n",
       "    <tr>\n",
       "      <th>...</th>\n",
       "      <td>...</td>\n",
       "      <td>...</td>\n",
       "      <td>...</td>\n",
       "      <td>...</td>\n",
       "      <td>...</td>\n",
       "      <td>...</td>\n",
       "      <td>...</td>\n",
       "      <td>...</td>\n",
       "      <td>...</td>\n",
       "    </tr>\n",
       "    <tr>\n",
       "      <th>961</th>\n",
       "      <td>2020-08-17</td>\n",
       "      <td>49.5</td>\n",
       "      <td>-134.5</td>\n",
       "      <td>Night</td>\n",
       "      <td>236.0</td>\n",
       "      <td>250.0</td>\n",
       "      <td>59.84</td>\n",
       "      <td>0.08155</td>\n",
       "      <td>0.08155</td>\n",
       "    </tr>\n",
       "    <tr>\n",
       "      <th>962</th>\n",
       "      <td>2020-08-18</td>\n",
       "      <td>49.5</td>\n",
       "      <td>-138.5</td>\n",
       "      <td>Night</td>\n",
       "      <td>236.0</td>\n",
       "      <td>250.0</td>\n",
       "      <td>67.40</td>\n",
       "      <td>0.04658</td>\n",
       "      <td>0.04658</td>\n",
       "    </tr>\n",
       "    <tr>\n",
       "      <th>963</th>\n",
       "      <td>2020-08-20</td>\n",
       "      <td>49.5</td>\n",
       "      <td>-145.5</td>\n",
       "      <td>Night</td>\n",
       "      <td>236.0</td>\n",
       "      <td>250.0</td>\n",
       "      <td>65.52</td>\n",
       "      <td>0.45086</td>\n",
       "      <td>0.45086</td>\n",
       "    </tr>\n",
       "    <tr>\n",
       "      <th>964</th>\n",
       "      <td>2020-08-30</td>\n",
       "      <td>50.5</td>\n",
       "      <td>-129.5</td>\n",
       "      <td>Daylight</td>\n",
       "      <td>236.0</td>\n",
       "      <td>250.0</td>\n",
       "      <td>61.95</td>\n",
       "      <td>0.13172</td>\n",
       "      <td>0.13172</td>\n",
       "    </tr>\n",
       "    <tr>\n",
       "      <th>965</th>\n",
       "      <td>2020-08-31</td>\n",
       "      <td>50.5</td>\n",
       "      <td>-129.5</td>\n",
       "      <td>Daylight</td>\n",
       "      <td>236.0</td>\n",
       "      <td>250.0</td>\n",
       "      <td>87.33</td>\n",
       "      <td>0.12458</td>\n",
       "      <td>0.12458</td>\n",
       "    </tr>\n",
       "  </tbody>\n",
       "</table>\n",
       "<p>966 rows × 9 columns</p>\n",
       "</div>"
      ],
      "text/plain": [
       "          time   lat    lon    is_day  mesh_size  depth  volume_filtered  \\\n",
       "0   1998-01-19  48.5 -128.5     Night      236.0  150.0            31.40   \n",
       "1   1998-01-20  48.5 -130.5  Daylight      236.0  150.0            31.82   \n",
       "2   1998-01-20  48.5 -129.5  Daylight      236.0  149.0            36.93   \n",
       "3   1998-02-21  48.5 -129.5  Daylight      236.0  150.0            56.19   \n",
       "4   1998-02-21  48.5 -130.5     Night      236.0  152.0            96.41   \n",
       "..         ...   ...    ...       ...        ...    ...              ...   \n",
       "961 2020-08-17  49.5 -134.5     Night      236.0  250.0            59.84   \n",
       "962 2020-08-18  49.5 -138.5     Night      236.0  250.0            67.40   \n",
       "963 2020-08-20  49.5 -145.5     Night      236.0  250.0            65.52   \n",
       "964 2020-08-30  50.5 -129.5  Daylight      236.0  250.0            61.95   \n",
       "965 2020-08-31  50.5 -129.5  Daylight      236.0  250.0            87.33   \n",
       "\n",
       "     pteropods    total  \n",
       "0      0.65905  0.65905  \n",
       "1      0.73218  0.73218  \n",
       "2      0.34471  0.34471  \n",
       "3      0.02595  0.02595  \n",
       "4      0.36677  0.36677  \n",
       "..         ...      ...  \n",
       "961    0.08155  0.08155  \n",
       "962    0.04658  0.04658  \n",
       "963    0.45086  0.45086  \n",
       "964    0.13172  0.13172  \n",
       "965    0.12458  0.12458  \n",
       "\n",
       "[966 rows x 9 columns]"
      ]
     },
     "execution_count": 44,
     "metadata": {},
     "output_type": "execute_result"
    }
   ],
   "source": [
    "pter_data=final_data[(final_data['time']>'1998-01-01')].reset_index(drop=True)\n",
    "pter_data"
   ]
  },
  {
   "cell_type": "markdown",
   "metadata": {},
   "source": [
    "## Add epipelagic layer depth observation (CMEMS)"
   ]
  },
  {
   "cell_type": "code",
   "execution_count": null,
   "metadata": {},
   "outputs": [
    {
     "name": "stderr",
     "output_type": "stream",
     "text": [
      "100%|██████████| 579/579 [09:18<00:00,  1.04it/s] \n"
     ]
    }
   ],
   "source": [
    "# Create  a new empty column\n",
    "pter_data[\"epipelagic_depth\"] = np.nan\n",
    "\n",
    "# group dy date to avoid opening the same dataset several times\n",
    "grouped = pter_data.groupby(pter_data[\"time\"])\n",
    "\n",
    "for date, group in tqdm(grouped, total=len(grouped)):\n",
    "    yyyy = date.strftime(\"%Y\")\n",
    "    mm = date.strftime(\"%m\")\n",
    "    dd = date.strftime(\"%d\")\n",
    "\n",
    "    file_path = f\"/data/rd_exchange/amignot/SEAPODYM_FPHY/{yyyy}/{mm}/cmems_mod_glo_bgc_my_0.083deg-lmtl-Fphy_PT1D-I_{yyyy}{mm}{dd}.nc\"\n",
    "\n",
    "    try:\n",
    "        ds = xr.open_dataset(file_path)\n",
    "        epipelagic_layer=ds[\"pelagic_layer_depth\"].sel(depth=1)\n",
    "\n",
    "        for idx in group.index:\n",
    "            try:\n",
    "                lat = pter_data.at[idx, \"lat\"]\n",
    "                lon = pter_data.at[idx, \"lon\"]\n",
    "\n",
    "                # Interpolation\n",
    "                pld = epipelagic_layer.interp(\n",
    "                    latitude=lat,\n",
    "                    longitude=lon,\n",
    "                    method=\"nearest\"\n",
    "                ).values.item()\n",
    "\n",
    "                pter_data.at[idx, \"epipelagic_depth\"] = pld\n",
    "\n",
    "            except Exception as e:\n",
    "                print(f\"Error lign {idx} (lat/lon): {e}\")\n",
    "\n",
    "        ds.close()\n",
    "\n",
    "    except FileNotFoundError:\n",
    "        print(f\"Missing file : {file_path}\")\n",
    "    except Exception as e:\n",
    "        print(f\"Date error {date.date()}: {e}\")\n"
   ]
  },
  {
   "cell_type": "code",
   "execution_count": 56,
   "metadata": {},
   "outputs": [
    {
     "data": {
      "text/html": [
       "<div>\n",
       "<style scoped>\n",
       "    .dataframe tbody tr th:only-of-type {\n",
       "        vertical-align: middle;\n",
       "    }\n",
       "\n",
       "    .dataframe tbody tr th {\n",
       "        vertical-align: top;\n",
       "    }\n",
       "\n",
       "    .dataframe thead th {\n",
       "        text-align: right;\n",
       "    }\n",
       "</style>\n",
       "<table border=\"1\" class=\"dataframe\">\n",
       "  <thead>\n",
       "    <tr style=\"text-align: right;\">\n",
       "      <th></th>\n",
       "      <th>time</th>\n",
       "      <th>lat</th>\n",
       "      <th>lon</th>\n",
       "      <th>is_day</th>\n",
       "      <th>mesh_size</th>\n",
       "      <th>depth</th>\n",
       "      <th>volume_filtered</th>\n",
       "      <th>pteropods</th>\n",
       "      <th>total</th>\n",
       "      <th>epipelagic_depth</th>\n",
       "    </tr>\n",
       "  </thead>\n",
       "  <tbody>\n",
       "    <tr>\n",
       "      <th>0</th>\n",
       "      <td>1998-01-19</td>\n",
       "      <td>48.5</td>\n",
       "      <td>-128.5</td>\n",
       "      <td>False</td>\n",
       "      <td>236.0</td>\n",
       "      <td>150.0</td>\n",
       "      <td>31.40</td>\n",
       "      <td>0.65905</td>\n",
       "      <td>0.65905</td>\n",
       "      <td>74.015635</td>\n",
       "    </tr>\n",
       "    <tr>\n",
       "      <th>1</th>\n",
       "      <td>1998-01-20</td>\n",
       "      <td>48.5</td>\n",
       "      <td>-130.5</td>\n",
       "      <td>True</td>\n",
       "      <td>236.0</td>\n",
       "      <td>150.0</td>\n",
       "      <td>31.82</td>\n",
       "      <td>0.73218</td>\n",
       "      <td>0.73218</td>\n",
       "      <td>94.028060</td>\n",
       "    </tr>\n",
       "    <tr>\n",
       "      <th>2</th>\n",
       "      <td>1998-01-20</td>\n",
       "      <td>48.5</td>\n",
       "      <td>-129.5</td>\n",
       "      <td>True</td>\n",
       "      <td>236.0</td>\n",
       "      <td>149.0</td>\n",
       "      <td>36.93</td>\n",
       "      <td>0.34471</td>\n",
       "      <td>0.34471</td>\n",
       "      <td>79.308178</td>\n",
       "    </tr>\n",
       "    <tr>\n",
       "      <th>3</th>\n",
       "      <td>1998-02-21</td>\n",
       "      <td>48.5</td>\n",
       "      <td>-129.5</td>\n",
       "      <td>True</td>\n",
       "      <td>236.0</td>\n",
       "      <td>150.0</td>\n",
       "      <td>56.19</td>\n",
       "      <td>0.02595</td>\n",
       "      <td>0.02595</td>\n",
       "      <td>81.563522</td>\n",
       "    </tr>\n",
       "    <tr>\n",
       "      <th>4</th>\n",
       "      <td>1998-02-21</td>\n",
       "      <td>48.5</td>\n",
       "      <td>-130.5</td>\n",
       "      <td>False</td>\n",
       "      <td>236.0</td>\n",
       "      <td>152.0</td>\n",
       "      <td>96.41</td>\n",
       "      <td>0.36677</td>\n",
       "      <td>0.36677</td>\n",
       "      <td>82.104805</td>\n",
       "    </tr>\n",
       "    <tr>\n",
       "      <th>...</th>\n",
       "      <td>...</td>\n",
       "      <td>...</td>\n",
       "      <td>...</td>\n",
       "      <td>...</td>\n",
       "      <td>...</td>\n",
       "      <td>...</td>\n",
       "      <td>...</td>\n",
       "      <td>...</td>\n",
       "      <td>...</td>\n",
       "      <td>...</td>\n",
       "    </tr>\n",
       "    <tr>\n",
       "      <th>961</th>\n",
       "      <td>2020-08-17</td>\n",
       "      <td>49.5</td>\n",
       "      <td>-134.5</td>\n",
       "      <td>False</td>\n",
       "      <td>236.0</td>\n",
       "      <td>250.0</td>\n",
       "      <td>59.84</td>\n",
       "      <td>0.08155</td>\n",
       "      <td>0.08155</td>\n",
       "      <td>83.006943</td>\n",
       "    </tr>\n",
       "    <tr>\n",
       "      <th>962</th>\n",
       "      <td>2020-08-18</td>\n",
       "      <td>49.5</td>\n",
       "      <td>-138.5</td>\n",
       "      <td>False</td>\n",
       "      <td>236.0</td>\n",
       "      <td>250.0</td>\n",
       "      <td>67.40</td>\n",
       "      <td>0.04658</td>\n",
       "      <td>0.04658</td>\n",
       "      <td>88.585162</td>\n",
       "    </tr>\n",
       "    <tr>\n",
       "      <th>963</th>\n",
       "      <td>2020-08-20</td>\n",
       "      <td>49.5</td>\n",
       "      <td>-145.5</td>\n",
       "      <td>False</td>\n",
       "      <td>236.0</td>\n",
       "      <td>250.0</td>\n",
       "      <td>65.52</td>\n",
       "      <td>0.45086</td>\n",
       "      <td>0.45086</td>\n",
       "      <td>102.703619</td>\n",
       "    </tr>\n",
       "    <tr>\n",
       "      <th>964</th>\n",
       "      <td>2020-08-30</td>\n",
       "      <td>50.5</td>\n",
       "      <td>-129.5</td>\n",
       "      <td>True</td>\n",
       "      <td>236.0</td>\n",
       "      <td>250.0</td>\n",
       "      <td>61.95</td>\n",
       "      <td>0.13172</td>\n",
       "      <td>0.13172</td>\n",
       "      <td>67.971312</td>\n",
       "    </tr>\n",
       "    <tr>\n",
       "      <th>965</th>\n",
       "      <td>2020-08-31</td>\n",
       "      <td>50.5</td>\n",
       "      <td>-129.5</td>\n",
       "      <td>True</td>\n",
       "      <td>236.0</td>\n",
       "      <td>250.0</td>\n",
       "      <td>87.33</td>\n",
       "      <td>0.12458</td>\n",
       "      <td>0.12458</td>\n",
       "      <td>69.922187</td>\n",
       "    </tr>\n",
       "  </tbody>\n",
       "</table>\n",
       "<p>966 rows × 10 columns</p>\n",
       "</div>"
      ],
      "text/plain": [
       "          time   lat    lon  is_day  mesh_size  depth  volume_filtered  \\\n",
       "0   1998-01-19  48.5 -128.5   False      236.0  150.0            31.40   \n",
       "1   1998-01-20  48.5 -130.5    True      236.0  150.0            31.82   \n",
       "2   1998-01-20  48.5 -129.5    True      236.0  149.0            36.93   \n",
       "3   1998-02-21  48.5 -129.5    True      236.0  150.0            56.19   \n",
       "4   1998-02-21  48.5 -130.5   False      236.0  152.0            96.41   \n",
       "..         ...   ...    ...     ...        ...    ...              ...   \n",
       "961 2020-08-17  49.5 -134.5   False      236.0  250.0            59.84   \n",
       "962 2020-08-18  49.5 -138.5   False      236.0  250.0            67.40   \n",
       "963 2020-08-20  49.5 -145.5   False      236.0  250.0            65.52   \n",
       "964 2020-08-30  50.5 -129.5    True      236.0  250.0            61.95   \n",
       "965 2020-08-31  50.5 -129.5    True      236.0  250.0            87.33   \n",
       "\n",
       "     pteropods    total  epipelagic_depth  \n",
       "0      0.65905  0.65905         74.015635  \n",
       "1      0.73218  0.73218         94.028060  \n",
       "2      0.34471  0.34471         79.308178  \n",
       "3      0.02595  0.02595         81.563522  \n",
       "4      0.36677  0.36677         82.104805  \n",
       "..         ...      ...               ...  \n",
       "961    0.08155  0.08155         83.006943  \n",
       "962    0.04658  0.04658         88.585162  \n",
       "963    0.45086  0.45086        102.703619  \n",
       "964    0.13172  0.13172         67.971312  \n",
       "965    0.12458  0.12458         69.922187  \n",
       "\n",
       "[966 rows x 10 columns]"
      ]
     },
     "execution_count": 56,
     "metadata": {},
     "output_type": "execute_result"
    }
   ],
   "source": [
    "pter_data"
   ]
  },
  {
   "cell_type": "markdown",
   "metadata": {},
   "source": [
    "## Produce preprocessed data\n",
    "\n",
    "---\n"
   ]
  },
  {
   "cell_type": "markdown",
   "metadata": {},
   "source": [
    "Group by tow and use the mean values. Use the size of the frac rather than the flag to represent the size of the zooplankton.\n"
   ]
  },
  {
   "cell_type": "code",
   "execution_count": 51,
   "metadata": {},
   "outputs": [
    {
     "name": "stdout",
     "output_type": "stream",
     "text": [
      "Index has duplicate keys: MultiIndex([('1998-02-27', 'Daylight', 150.0, 49.5, -144.5),\n",
      "            ('1998-02-27', 'Daylight', 150.0, 49.5, -145.5),\n",
      "            ('1998-02-28', 'Daylight', 150.0, 49.5, -144.5),\n",
      "            ('1998-02-28', 'Daylight', 150.0, 49.5, -145.5),\n",
      "            ('1998-02-28', 'Daylight', 152.0, 49.5, -145.5),\n",
      "            ('1998-05-13', 'Daylight', 150.0, 48.5, -129.5),\n",
      "            ('1998-05-27', 'Daylight', 150.0, 48.5, -128.5),\n",
      "            ('1998-07-03',    'Night', 150.0, 55.5, -145.5),\n",
      "            ('1998-07-04', 'Daylight', 149.0, 54.5, -145.5),\n",
      "            ('1998-07-04', 'Daylight', 150.0, 54.5, -145.5),\n",
      "            ('1998-07-05', 'Daylight', 150.0, 53.5, -144.5),\n",
      "            ('1998-07-06', 'Daylight', 150.0, 52.5, -144.5),\n",
      "            ('1998-07-07', 'Daylight', 150.0, 51.5, -145.5),\n",
      "            ('1998-07-08', 'Daylight', 150.0, 50.5, -144.5),\n",
      "            ('1998-07-08', 'Daylight', 150.0, 49.5, -144.5),\n",
      "            ('1998-07-09', 'Daylight', 150.0, 49.5, -144.5),\n",
      "            ('1998-07-21', 'Daylight', 149.0, 55.5, -135.5),\n",
      "            ('1999-07-08', 'Daylight', 149.0, 50.5, -144.5),\n",
      "            ('1999-07-09', 'Daylight', 150.0, 51.5, -144.5),\n",
      "            ('1999-07-09', 'Daylight', 150.0, 51.5, -145.5),\n",
      "            ('1999-07-10', 'Daylight', 150.0, 52.5, -145.5),\n",
      "            ('1999-07-11', 'Daylight', 150.0, 53.5, -144.5),\n",
      "            ('1999-07-12', 'Daylight', 150.0, 54.5, -144.5),\n",
      "            ('1999-07-13', 'Daylight', 150.0, 55.5, -145.5),\n",
      "            ('1999-07-13', 'Daylight', 149.0, 55.5, -145.5),\n",
      "            ('1999-07-13', 'Daylight', 150.0, 55.5, -144.5),\n",
      "            ('2000-06-19', 'Daylight', 149.0, 52.5, -135.5),\n",
      "            ('2000-06-19', 'Daylight', 148.0, 53.5, -135.5),\n",
      "            ('2000-07-04',    'Night', 156.0, 56.5, -144.5),\n",
      "            ('2000-07-04',    'Night', 150.0, 56.5, -144.5),\n",
      "            ('2000-07-05',    'Night', 150.0, 55.5, -145.5),\n",
      "            ('2000-07-06', 'Daylight', 150.0, 54.5, -144.5),\n",
      "            ('2000-07-07', 'Daylight', 150.0, 53.5, -144.5),\n",
      "            ('2000-07-08', 'Daylight', 150.0, 52.5, -144.5),\n",
      "            ('2000-07-12', 'Daylight', 150.0, 48.5, -144.5),\n",
      "            ('2000-07-13', 'Daylight', 150.0, 47.5, -145.5),\n",
      "            ('2000-08-03', 'Daylight', 150.0, 53.5, -135.5),\n",
      "            ('2000-08-04', 'Daylight', 150.0, 53.5, -135.5),\n",
      "            ('2000-08-05', 'Daylight', 150.0, 53.5, -135.5),\n",
      "            ('2000-08-10', 'Daylight', 150.0, 51.5, -131.5),\n",
      "            ('2000-09-27', 'Daylight', 150.0, 53.5, -136.5),\n",
      "            ('2000-10-01', 'Daylight',  50.0, 50.5, -129.5),\n",
      "            ('2001-06-02', 'Daylight', 150.0, 50.5, -133.5),\n",
      "            ('2001-06-03', 'Daylight', 149.0, 51.5, -133.5),\n",
      "            ('2001-06-08', 'Daylight', 150.0, 53.5, -138.5),\n",
      "            ('2001-06-12', 'Daylight', 150.0, 54.5, -136.5),\n",
      "            ('2001-07-04', 'Daylight', 150.0, 51.5, -144.5),\n",
      "            ('2001-07-06', 'Daylight', 150.0, 49.5, -144.5),\n",
      "            ('2001-09-22', 'Daylight', 150.0, 53.5, -138.5),\n",
      "            ('2002-03-05', 'Daylight', 150.0, 50.5, -129.5),\n",
      "            ('2002-06-19', 'Daylight', 150.0, 50.5, -130.5),\n",
      "            ('2002-06-19', 'Daylight', 150.0, 50.5, -129.5),\n",
      "            ('2002-06-26', 'Daylight', 150.0, 53.5, -134.5),\n",
      "            ('2002-08-18', 'Daylight', 150.0, 50.5, -129.5),\n",
      "            ('2002-08-18', 'Daylight', 150.0, 50.5, -130.5),\n",
      "            ('2002-10-23', 'Daylight', 150.0, 50.5, -129.5),\n",
      "            ('2003-02-21', 'Daylight', 150.0, 50.5, -130.5),\n",
      "            ('2004-02-27', 'Daylight', 150.0, 50.5, -130.5),\n",
      "            ('2004-02-27', 'Daylight', 150.0, 50.5, -129.5),\n",
      "            ('2004-10-27', 'Daylight', 150.0, 50.5, -130.5),\n",
      "            ('2004-10-27', 'Daylight', 150.0, 50.5, -129.5),\n",
      "            ('2005-03-12', 'Daylight', 150.0, 51.5, -132.5),\n",
      "            ('2005-03-13', 'Daylight', 150.0, 53.5, -132.5),\n",
      "            ('2009-01-31', 'Daylight', 254.0, 48.5, -130.5),\n",
      "            ('2009-05-31', 'Daylight', 251.0, 49.5, -128.5),\n",
      "            ('2009-09-09', 'Daylight', 250.0, 49.5, -128.5),\n",
      "            ('2011-05-30', 'Daylight', 249.0, 50.5, -129.5),\n",
      "            ('2011-09-07', 'Daylight', 250.0, 50.5, -129.5),\n",
      "            ('2017-07-22', 'Daylight', 250.0, 49.5, -132.5),\n",
      "            ('2017-07-22',    'Night', 250.0, 49.5, -132.5),\n",
      "            ('2017-07-24',    'Night', 250.0, 49.5, -132.5),\n",
      "            ('2017-07-24', 'Daylight', 250.0, 49.5, -132.5),\n",
      "            ('2017-07-25',    'Night', 250.0, 49.5, -132.5),\n",
      "            ('2017-07-26',    'Night', 250.0, 49.5, -132.5),\n",
      "            ('2018-09-22', 'Daylight', 250.0, 50.5, -144.5),\n",
      "            ('2019-07-25', 'Daylight', 249.0, 47.5, -130.5),\n",
      "            ('2019-07-26', 'Daylight', 250.0, 48.5, -130.5)],\n",
      "           names=['time', 'is_day', 'depth', 'lat', 'lon'])\n"
     ]
    }
   ],
   "source": [
    "# This show that there are duplicates index when not grouped by tow\n",
    "\n",
    "try:\n",
    "    pter_data.set_index(\n",
    "        [\"time\", \"is_day\", \"depth\", \"lat\", \"lon\"], verify_integrity=True\n",
    "    )\n",
    "except ValueError as e:\n",
    "    print(e)"
   ]
  },
  {
   "cell_type": "code",
   "execution_count": 64,
   "metadata": {},
   "outputs": [
    {
     "data": {
      "text/html": [
       "<div>\n",
       "<style scoped>\n",
       "    .dataframe tbody tr th:only-of-type {\n",
       "        vertical-align: middle;\n",
       "    }\n",
       "\n",
       "    .dataframe tbody tr th {\n",
       "        vertical-align: top;\n",
       "    }\n",
       "\n",
       "    .dataframe thead th {\n",
       "        text-align: right;\n",
       "    }\n",
       "</style>\n",
       "<table border=\"1\" class=\"dataframe\">\n",
       "  <thead>\n",
       "    <tr style=\"text-align: right;\">\n",
       "      <th></th>\n",
       "      <th>time</th>\n",
       "      <th>lat</th>\n",
       "      <th>lon</th>\n",
       "      <th>is_day</th>\n",
       "      <th>mesh_size</th>\n",
       "      <th>depth</th>\n",
       "      <th>volume_filtered</th>\n",
       "      <th>pteropods</th>\n",
       "      <th>total</th>\n",
       "      <th>epipelagic_depth</th>\n",
       "    </tr>\n",
       "  </thead>\n",
       "  <tbody>\n",
       "    <tr>\n",
       "      <th>243</th>\n",
       "      <td>2000-07-04</td>\n",
       "      <td>56.5</td>\n",
       "      <td>-144.5</td>\n",
       "      <td>False</td>\n",
       "      <td>236.0</td>\n",
       "      <td>156.0</td>\n",
       "      <td>59.35</td>\n",
       "      <td>0.71710</td>\n",
       "      <td>0.71710</td>\n",
       "      <td>94.554307</td>\n",
       "    </tr>\n",
       "    <tr>\n",
       "      <th>244</th>\n",
       "      <td>2000-07-04</td>\n",
       "      <td>56.5</td>\n",
       "      <td>-144.5</td>\n",
       "      <td>False</td>\n",
       "      <td>236.0</td>\n",
       "      <td>156.0</td>\n",
       "      <td>59.35</td>\n",
       "      <td>3.51407</td>\n",
       "      <td>3.51407</td>\n",
       "      <td>94.554307</td>\n",
       "    </tr>\n",
       "    <tr>\n",
       "      <th>245</th>\n",
       "      <td>2000-07-04</td>\n",
       "      <td>56.5</td>\n",
       "      <td>-144.5</td>\n",
       "      <td>False</td>\n",
       "      <td>335.0</td>\n",
       "      <td>150.0</td>\n",
       "      <td>24.43</td>\n",
       "      <td>1.49325</td>\n",
       "      <td>1.49325</td>\n",
       "      <td>94.554307</td>\n",
       "    </tr>\n",
       "    <tr>\n",
       "      <th>246</th>\n",
       "      <td>2000-07-04</td>\n",
       "      <td>56.5</td>\n",
       "      <td>-144.5</td>\n",
       "      <td>False</td>\n",
       "      <td>335.0</td>\n",
       "      <td>150.0</td>\n",
       "      <td>53.71</td>\n",
       "      <td>0.45280</td>\n",
       "      <td>0.45280</td>\n",
       "      <td>94.554307</td>\n",
       "    </tr>\n",
       "    <tr>\n",
       "      <th>247</th>\n",
       "      <td>2000-07-04</td>\n",
       "      <td>56.5</td>\n",
       "      <td>-144.5</td>\n",
       "      <td>False</td>\n",
       "      <td>335.0</td>\n",
       "      <td>150.0</td>\n",
       "      <td>53.78</td>\n",
       "      <td>1.45779</td>\n",
       "      <td>1.45779</td>\n",
       "      <td>94.554307</td>\n",
       "    </tr>\n",
       "    <tr>\n",
       "      <th>248</th>\n",
       "      <td>2000-07-04</td>\n",
       "      <td>56.5</td>\n",
       "      <td>-144.5</td>\n",
       "      <td>False</td>\n",
       "      <td>335.0</td>\n",
       "      <td>150.0</td>\n",
       "      <td>25.27</td>\n",
       "      <td>1.25683</td>\n",
       "      <td>1.25683</td>\n",
       "      <td>94.554307</td>\n",
       "    </tr>\n",
       "    <tr>\n",
       "      <th>249</th>\n",
       "      <td>2000-07-04</td>\n",
       "      <td>56.5</td>\n",
       "      <td>-144.5</td>\n",
       "      <td>False</td>\n",
       "      <td>236.0</td>\n",
       "      <td>152.0</td>\n",
       "      <td>47.74</td>\n",
       "      <td>1.01885</td>\n",
       "      <td>1.01885</td>\n",
       "      <td>94.554307</td>\n",
       "    </tr>\n",
       "    <tr>\n",
       "      <th>250</th>\n",
       "      <td>2000-07-04</td>\n",
       "      <td>56.5</td>\n",
       "      <td>-144.5</td>\n",
       "      <td>False</td>\n",
       "      <td>236.0</td>\n",
       "      <td>150.0</td>\n",
       "      <td>47.74</td>\n",
       "      <td>4.85966</td>\n",
       "      <td>4.85966</td>\n",
       "      <td>94.554307</td>\n",
       "    </tr>\n",
       "  </tbody>\n",
       "</table>\n",
       "</div>"
      ],
      "text/plain": [
       "          time   lat    lon  is_day  mesh_size  depth  volume_filtered  \\\n",
       "243 2000-07-04  56.5 -144.5   False      236.0  156.0            59.35   \n",
       "244 2000-07-04  56.5 -144.5   False      236.0  156.0            59.35   \n",
       "245 2000-07-04  56.5 -144.5   False      335.0  150.0            24.43   \n",
       "246 2000-07-04  56.5 -144.5   False      335.0  150.0            53.71   \n",
       "247 2000-07-04  56.5 -144.5   False      335.0  150.0            53.78   \n",
       "248 2000-07-04  56.5 -144.5   False      335.0  150.0            25.27   \n",
       "249 2000-07-04  56.5 -144.5   False      236.0  152.0            47.74   \n",
       "250 2000-07-04  56.5 -144.5   False      236.0  150.0            47.74   \n",
       "\n",
       "     pteropods    total  epipelagic_depth  \n",
       "243    0.71710  0.71710         94.554307  \n",
       "244    3.51407  3.51407         94.554307  \n",
       "245    1.49325  1.49325         94.554307  \n",
       "246    0.45280  0.45280         94.554307  \n",
       "247    1.45779  1.45779         94.554307  \n",
       "248    1.25683  1.25683         94.554307  \n",
       "249    1.01885  1.01885         94.554307  \n",
       "250    4.85966  4.85966         94.554307  "
      ]
     },
     "execution_count": 64,
     "metadata": {},
     "output_type": "execute_result"
    }
   ],
   "source": [
    "pter_data[pter_data['time']=='2000-07-04']"
   ]
  },
  {
   "cell_type": "code",
   "execution_count": 70,
   "metadata": {},
   "outputs": [
    {
     "data": {
      "text/plain": [
       "Index(['time', 'lat', 'lon', 'is_day', 'mesh_size', 'depth', 'volume_filtered',\n",
       "       'pteropods', 'total', 'epipelagic_depth'],\n",
       "      dtype='object')"
      ]
     },
     "execution_count": 70,
     "metadata": {},
     "output_type": "execute_result"
    }
   ],
   "source": [
    "pter_data.columns"
   ]
  },
  {
   "cell_type": "code",
   "execution_count": null,
   "metadata": {},
   "outputs": [],
   "source": [
    "pter_data[\"is_day\"] = pter_data[\"is_day\"] == \"Daylight\" # Convert \"Daylight\" and \"Night\" into booleans (True/False)"
   ]
  },
  {
   "cell_type": "markdown",
   "metadata": {},
   "source": [
    "### Get the pteropod dry weight in the epipelagic layer of the day"
   ]
  },
  {
   "cell_type": "code",
   "execution_count": 78,
   "metadata": {},
   "outputs": [
    {
     "data": {
      "text/html": [
       "<div>\n",
       "<style scoped>\n",
       "    .dataframe tbody tr th:only-of-type {\n",
       "        vertical-align: middle;\n",
       "    }\n",
       "\n",
       "    .dataframe tbody tr th {\n",
       "        vertical-align: top;\n",
       "    }\n",
       "\n",
       "    .dataframe thead th {\n",
       "        text-align: right;\n",
       "    }\n",
       "</style>\n",
       "<table border=\"1\" class=\"dataframe\">\n",
       "  <thead>\n",
       "    <tr style=\"text-align: right;\">\n",
       "      <th></th>\n",
       "      <th>time</th>\n",
       "      <th>lat</th>\n",
       "      <th>lon</th>\n",
       "      <th>is_day</th>\n",
       "      <th>mesh_size</th>\n",
       "      <th>depth</th>\n",
       "      <th>volume_filtered</th>\n",
       "      <th>pteropods</th>\n",
       "      <th>total</th>\n",
       "      <th>epipelagic_depth</th>\n",
       "    </tr>\n",
       "  </thead>\n",
       "  <tbody>\n",
       "    <tr>\n",
       "      <th>0</th>\n",
       "      <td>1998-01-19</td>\n",
       "      <td>48.5</td>\n",
       "      <td>-128.5</td>\n",
       "      <td>False</td>\n",
       "      <td>236.0</td>\n",
       "      <td>150.0</td>\n",
       "      <td>31.40</td>\n",
       "      <td>0.65905</td>\n",
       "      <td>0.65905</td>\n",
       "      <td>74.015635</td>\n",
       "    </tr>\n",
       "    <tr>\n",
       "      <th>1</th>\n",
       "      <td>1998-01-20</td>\n",
       "      <td>48.5</td>\n",
       "      <td>-130.5</td>\n",
       "      <td>True</td>\n",
       "      <td>236.0</td>\n",
       "      <td>150.0</td>\n",
       "      <td>31.82</td>\n",
       "      <td>0.73218</td>\n",
       "      <td>0.73218</td>\n",
       "      <td>94.028060</td>\n",
       "    </tr>\n",
       "    <tr>\n",
       "      <th>2</th>\n",
       "      <td>1998-01-20</td>\n",
       "      <td>48.5</td>\n",
       "      <td>-129.5</td>\n",
       "      <td>True</td>\n",
       "      <td>236.0</td>\n",
       "      <td>149.0</td>\n",
       "      <td>36.93</td>\n",
       "      <td>0.34471</td>\n",
       "      <td>0.34471</td>\n",
       "      <td>79.308178</td>\n",
       "    </tr>\n",
       "    <tr>\n",
       "      <th>3</th>\n",
       "      <td>1998-02-21</td>\n",
       "      <td>48.5</td>\n",
       "      <td>-129.5</td>\n",
       "      <td>True</td>\n",
       "      <td>236.0</td>\n",
       "      <td>150.0</td>\n",
       "      <td>56.19</td>\n",
       "      <td>0.02595</td>\n",
       "      <td>0.02595</td>\n",
       "      <td>81.563522</td>\n",
       "    </tr>\n",
       "    <tr>\n",
       "      <th>4</th>\n",
       "      <td>1998-02-21</td>\n",
       "      <td>48.5</td>\n",
       "      <td>-130.5</td>\n",
       "      <td>False</td>\n",
       "      <td>236.0</td>\n",
       "      <td>152.0</td>\n",
       "      <td>96.41</td>\n",
       "      <td>0.36677</td>\n",
       "      <td>0.36677</td>\n",
       "      <td>82.104805</td>\n",
       "    </tr>\n",
       "    <tr>\n",
       "      <th>...</th>\n",
       "      <td>...</td>\n",
       "      <td>...</td>\n",
       "      <td>...</td>\n",
       "      <td>...</td>\n",
       "      <td>...</td>\n",
       "      <td>...</td>\n",
       "      <td>...</td>\n",
       "      <td>...</td>\n",
       "      <td>...</td>\n",
       "      <td>...</td>\n",
       "    </tr>\n",
       "    <tr>\n",
       "      <th>961</th>\n",
       "      <td>2020-08-17</td>\n",
       "      <td>49.5</td>\n",
       "      <td>-134.5</td>\n",
       "      <td>False</td>\n",
       "      <td>236.0</td>\n",
       "      <td>250.0</td>\n",
       "      <td>59.84</td>\n",
       "      <td>0.08155</td>\n",
       "      <td>0.08155</td>\n",
       "      <td>83.006943</td>\n",
       "    </tr>\n",
       "    <tr>\n",
       "      <th>962</th>\n",
       "      <td>2020-08-18</td>\n",
       "      <td>49.5</td>\n",
       "      <td>-138.5</td>\n",
       "      <td>False</td>\n",
       "      <td>236.0</td>\n",
       "      <td>250.0</td>\n",
       "      <td>67.40</td>\n",
       "      <td>0.04658</td>\n",
       "      <td>0.04658</td>\n",
       "      <td>88.585162</td>\n",
       "    </tr>\n",
       "    <tr>\n",
       "      <th>963</th>\n",
       "      <td>2020-08-20</td>\n",
       "      <td>49.5</td>\n",
       "      <td>-145.5</td>\n",
       "      <td>False</td>\n",
       "      <td>236.0</td>\n",
       "      <td>250.0</td>\n",
       "      <td>65.52</td>\n",
       "      <td>0.45086</td>\n",
       "      <td>0.45086</td>\n",
       "      <td>102.703619</td>\n",
       "    </tr>\n",
       "    <tr>\n",
       "      <th>964</th>\n",
       "      <td>2020-08-30</td>\n",
       "      <td>50.5</td>\n",
       "      <td>-129.5</td>\n",
       "      <td>True</td>\n",
       "      <td>236.0</td>\n",
       "      <td>250.0</td>\n",
       "      <td>61.95</td>\n",
       "      <td>0.13172</td>\n",
       "      <td>0.13172</td>\n",
       "      <td>67.971312</td>\n",
       "    </tr>\n",
       "    <tr>\n",
       "      <th>965</th>\n",
       "      <td>2020-08-31</td>\n",
       "      <td>50.5</td>\n",
       "      <td>-129.5</td>\n",
       "      <td>True</td>\n",
       "      <td>236.0</td>\n",
       "      <td>250.0</td>\n",
       "      <td>87.33</td>\n",
       "      <td>0.12458</td>\n",
       "      <td>0.12458</td>\n",
       "      <td>69.922187</td>\n",
       "    </tr>\n",
       "  </tbody>\n",
       "</table>\n",
       "<p>966 rows × 10 columns</p>\n",
       "</div>"
      ],
      "text/plain": [
       "          time   lat    lon  is_day  mesh_size  depth  volume_filtered  \\\n",
       "0   1998-01-19  48.5 -128.5   False      236.0  150.0            31.40   \n",
       "1   1998-01-20  48.5 -130.5    True      236.0  150.0            31.82   \n",
       "2   1998-01-20  48.5 -129.5    True      236.0  149.0            36.93   \n",
       "3   1998-02-21  48.5 -129.5    True      236.0  150.0            56.19   \n",
       "4   1998-02-21  48.5 -130.5   False      236.0  152.0            96.41   \n",
       "..         ...   ...    ...     ...        ...    ...              ...   \n",
       "961 2020-08-17  49.5 -134.5   False      236.0  250.0            59.84   \n",
       "962 2020-08-18  49.5 -138.5   False      236.0  250.0            67.40   \n",
       "963 2020-08-20  49.5 -145.5   False      236.0  250.0            65.52   \n",
       "964 2020-08-30  50.5 -129.5    True      236.0  250.0            61.95   \n",
       "965 2020-08-31  50.5 -129.5    True      236.0  250.0            87.33   \n",
       "\n",
       "     pteropods    total  epipelagic_depth  \n",
       "0      0.65905  0.65905         74.015635  \n",
       "1      0.73218  0.73218         94.028060  \n",
       "2      0.34471  0.34471         79.308178  \n",
       "3      0.02595  0.02595         81.563522  \n",
       "4      0.36677  0.36677         82.104805  \n",
       "..         ...      ...               ...  \n",
       "961    0.08155  0.08155         83.006943  \n",
       "962    0.04658  0.04658         88.585162  \n",
       "963    0.45086  0.45086        102.703619  \n",
       "964    0.13172  0.13172         67.971312  \n",
       "965    0.12458  0.12458         69.922187  \n",
       "\n",
       "[966 rows x 10 columns]"
      ]
     },
     "execution_count": 78,
     "metadata": {},
     "output_type": "execute_result"
    }
   ],
   "source": [
    "pter_data"
   ]
  },
  {
   "cell_type": "code",
   "execution_count": 81,
   "metadata": {},
   "outputs": [
    {
     "data": {
      "text/plain": [
       "(966, 10)"
      ]
     },
     "execution_count": 81,
     "metadata": {},
     "output_type": "execute_result"
    }
   ],
   "source": [
    "pter_data.shape"
   ]
  },
  {
   "cell_type": "code",
   "execution_count": 83,
   "metadata": {},
   "outputs": [
    {
     "name": "stdout",
     "output_type": "stream",
     "text": [
      "before grouping : (966, 10)\n",
      "after grouping : (800, 10)\n"
     ]
    }
   ],
   "source": [
    "df_check = pter_data.copy()\n",
    "\n",
    "print(\"before grouping :\", df_check.shape)\n",
    "# remove duplicates\n",
    "df = pter_data.groupby([\"time\", \"is_day\", \"lat\", \"lon\", \"depth\"],observed=True).agg({\n",
    "    \"mesh_size\": \"mean\",            \n",
    "    \"volume_filtered\": \"mean\",      \n",
    "    \"pteropods\": \"mean\", \n",
    "    \"total\": \"mean\",            \n",
    "    \"epipelagic_depth\": \"first\"      # same loc + day = same epipelagic_depth no need to compute mean , just take first value\n",
    "}).reset_index()\n",
    "print(\"after grouping :\", df.shape)"
   ]
  },
  {
   "cell_type": "markdown",
   "metadata": {},
   "source": [
    "<div style=\"padding: 10px; border-radius: 5px; background-color: #cce5ff; color: #004085; border-left: 5px solid #007bff;\">\n",
    "    <strong>Note :</strong> Groupby : if not observed=True, Pandas Try to create all the combinations possible\n",
    "</div>\n"
   ]
  },
  {
   "cell_type": "code",
   "execution_count": 84,
   "metadata": {},
   "outputs": [
    {
     "data": {
      "text/html": [
       "<div>\n",
       "<style scoped>\n",
       "    .dataframe tbody tr th:only-of-type {\n",
       "        vertical-align: middle;\n",
       "    }\n",
       "\n",
       "    .dataframe tbody tr th {\n",
       "        vertical-align: top;\n",
       "    }\n",
       "\n",
       "    .dataframe thead th {\n",
       "        text-align: right;\n",
       "    }\n",
       "</style>\n",
       "<table border=\"1\" class=\"dataframe\">\n",
       "  <thead>\n",
       "    <tr style=\"text-align: right;\">\n",
       "      <th></th>\n",
       "      <th>time</th>\n",
       "      <th>is_day</th>\n",
       "      <th>lat</th>\n",
       "      <th>lon</th>\n",
       "      <th>depth</th>\n",
       "      <th>mesh_size</th>\n",
       "      <th>volume_filtered</th>\n",
       "      <th>pteropods</th>\n",
       "      <th>total</th>\n",
       "      <th>epipelagic_depth</th>\n",
       "    </tr>\n",
       "  </thead>\n",
       "  <tbody>\n",
       "    <tr>\n",
       "      <th>0</th>\n",
       "      <td>1998-01-19</td>\n",
       "      <td>False</td>\n",
       "      <td>48.5</td>\n",
       "      <td>-128.5</td>\n",
       "      <td>150.0</td>\n",
       "      <td>236.0</td>\n",
       "      <td>31.40</td>\n",
       "      <td>0.65905</td>\n",
       "      <td>0.65905</td>\n",
       "      <td>74.015635</td>\n",
       "    </tr>\n",
       "    <tr>\n",
       "      <th>1</th>\n",
       "      <td>1998-01-20</td>\n",
       "      <td>True</td>\n",
       "      <td>48.5</td>\n",
       "      <td>-130.5</td>\n",
       "      <td>150.0</td>\n",
       "      <td>236.0</td>\n",
       "      <td>31.82</td>\n",
       "      <td>0.73218</td>\n",
       "      <td>0.73218</td>\n",
       "      <td>94.028060</td>\n",
       "    </tr>\n",
       "    <tr>\n",
       "      <th>2</th>\n",
       "      <td>1998-01-20</td>\n",
       "      <td>True</td>\n",
       "      <td>48.5</td>\n",
       "      <td>-129.5</td>\n",
       "      <td>149.0</td>\n",
       "      <td>236.0</td>\n",
       "      <td>36.93</td>\n",
       "      <td>0.34471</td>\n",
       "      <td>0.34471</td>\n",
       "      <td>79.308178</td>\n",
       "    </tr>\n",
       "    <tr>\n",
       "      <th>3</th>\n",
       "      <td>1998-02-21</td>\n",
       "      <td>False</td>\n",
       "      <td>48.5</td>\n",
       "      <td>-130.5</td>\n",
       "      <td>152.0</td>\n",
       "      <td>236.0</td>\n",
       "      <td>96.41</td>\n",
       "      <td>0.36677</td>\n",
       "      <td>0.36677</td>\n",
       "      <td>82.104805</td>\n",
       "    </tr>\n",
       "    <tr>\n",
       "      <th>4</th>\n",
       "      <td>1998-02-21</td>\n",
       "      <td>True</td>\n",
       "      <td>48.5</td>\n",
       "      <td>-129.5</td>\n",
       "      <td>150.0</td>\n",
       "      <td>236.0</td>\n",
       "      <td>56.19</td>\n",
       "      <td>0.02595</td>\n",
       "      <td>0.02595</td>\n",
       "      <td>81.563522</td>\n",
       "    </tr>\n",
       "    <tr>\n",
       "      <th>...</th>\n",
       "      <td>...</td>\n",
       "      <td>...</td>\n",
       "      <td>...</td>\n",
       "      <td>...</td>\n",
       "      <td>...</td>\n",
       "      <td>...</td>\n",
       "      <td>...</td>\n",
       "      <td>...</td>\n",
       "      <td>...</td>\n",
       "      <td>...</td>\n",
       "    </tr>\n",
       "    <tr>\n",
       "      <th>795</th>\n",
       "      <td>2020-08-17</td>\n",
       "      <td>False</td>\n",
       "      <td>49.5</td>\n",
       "      <td>-134.5</td>\n",
       "      <td>250.0</td>\n",
       "      <td>236.0</td>\n",
       "      <td>59.84</td>\n",
       "      <td>0.08155</td>\n",
       "      <td>0.08155</td>\n",
       "      <td>83.006943</td>\n",
       "    </tr>\n",
       "    <tr>\n",
       "      <th>796</th>\n",
       "      <td>2020-08-18</td>\n",
       "      <td>False</td>\n",
       "      <td>49.5</td>\n",
       "      <td>-138.5</td>\n",
       "      <td>250.0</td>\n",
       "      <td>236.0</td>\n",
       "      <td>67.40</td>\n",
       "      <td>0.04658</td>\n",
       "      <td>0.04658</td>\n",
       "      <td>88.585162</td>\n",
       "    </tr>\n",
       "    <tr>\n",
       "      <th>797</th>\n",
       "      <td>2020-08-20</td>\n",
       "      <td>False</td>\n",
       "      <td>49.5</td>\n",
       "      <td>-145.5</td>\n",
       "      <td>250.0</td>\n",
       "      <td>236.0</td>\n",
       "      <td>65.52</td>\n",
       "      <td>0.45086</td>\n",
       "      <td>0.45086</td>\n",
       "      <td>102.703619</td>\n",
       "    </tr>\n",
       "    <tr>\n",
       "      <th>798</th>\n",
       "      <td>2020-08-30</td>\n",
       "      <td>True</td>\n",
       "      <td>50.5</td>\n",
       "      <td>-129.5</td>\n",
       "      <td>250.0</td>\n",
       "      <td>236.0</td>\n",
       "      <td>61.95</td>\n",
       "      <td>0.13172</td>\n",
       "      <td>0.13172</td>\n",
       "      <td>67.971312</td>\n",
       "    </tr>\n",
       "    <tr>\n",
       "      <th>799</th>\n",
       "      <td>2020-08-31</td>\n",
       "      <td>True</td>\n",
       "      <td>50.5</td>\n",
       "      <td>-129.5</td>\n",
       "      <td>250.0</td>\n",
       "      <td>236.0</td>\n",
       "      <td>87.33</td>\n",
       "      <td>0.12458</td>\n",
       "      <td>0.12458</td>\n",
       "      <td>69.922187</td>\n",
       "    </tr>\n",
       "  </tbody>\n",
       "</table>\n",
       "<p>800 rows × 10 columns</p>\n",
       "</div>"
      ],
      "text/plain": [
       "          time  is_day   lat    lon  depth  mesh_size  volume_filtered  \\\n",
       "0   1998-01-19   False  48.5 -128.5  150.0      236.0            31.40   \n",
       "1   1998-01-20    True  48.5 -130.5  150.0      236.0            31.82   \n",
       "2   1998-01-20    True  48.5 -129.5  149.0      236.0            36.93   \n",
       "3   1998-02-21   False  48.5 -130.5  152.0      236.0            96.41   \n",
       "4   1998-02-21    True  48.5 -129.5  150.0      236.0            56.19   \n",
       "..         ...     ...   ...    ...    ...        ...              ...   \n",
       "795 2020-08-17   False  49.5 -134.5  250.0      236.0            59.84   \n",
       "796 2020-08-18   False  49.5 -138.5  250.0      236.0            67.40   \n",
       "797 2020-08-20   False  49.5 -145.5  250.0      236.0            65.52   \n",
       "798 2020-08-30    True  50.5 -129.5  250.0      236.0            61.95   \n",
       "799 2020-08-31    True  50.5 -129.5  250.0      236.0            87.33   \n",
       "\n",
       "     pteropods    total  epipelagic_depth  \n",
       "0      0.65905  0.65905         74.015635  \n",
       "1      0.73218  0.73218         94.028060  \n",
       "2      0.34471  0.34471         79.308178  \n",
       "3      0.36677  0.36677         82.104805  \n",
       "4      0.02595  0.02595         81.563522  \n",
       "..         ...      ...               ...  \n",
       "795    0.08155  0.08155         83.006943  \n",
       "796    0.04658  0.04658         88.585162  \n",
       "797    0.45086  0.45086        102.703619  \n",
       "798    0.13172  0.13172         67.971312  \n",
       "799    0.12458  0.12458         69.922187  \n",
       "\n",
       "[800 rows x 10 columns]"
      ]
     },
     "execution_count": 84,
     "metadata": {},
     "output_type": "execute_result"
    }
   ],
   "source": [
    "df"
   ]
  },
  {
   "cell_type": "code",
   "execution_count": 90,
   "metadata": {},
   "outputs": [
    {
     "name": "stdout",
     "output_type": "stream",
     "text": [
      " Total number of groups (time, is_day, lat, lon) : 708\n",
      " Groups with only one depth : 634\n",
      " Proportion : 89.55%\n"
     ]
    }
   ],
   "source": [
    "# Group by day and location\n",
    "grouped = df.groupby([\"time\", \"is_day\", \"lat\", \"lon\"],observed=True)\n",
    "\n",
    "# Total number of groups\n",
    "total_groups = len(grouped)\n",
    "\n",
    "# Number of groups with only one sample\n",
    "single_depth_groups = sum(group[\"depth\"].nunique() == 1 for _, group in grouped)\n",
    "\n",
    "print(f\" Total number of groups (time, is_day, lat, lon) : {total_groups}\")\n",
    "print(f\" Groups with only one depth : {single_depth_groups}\")\n",
    "print(f\" Proportion : {single_depth_groups/total_groups:.2%}\")\n"
   ]
  },
  {
   "cell_type": "code",
   "execution_count": 97,
   "metadata": {},
   "outputs": [
    {
     "name": "stdout",
     "output_type": "stream",
     "text": [
      " 49 Groups where pteropod values do not increase with depth.\n",
      "\n",
      " Group 1 - time: 1998-05-13 00:00:00, is_day: True, lat: 48.5, lon: -129.5\n",
      " depth  pteropods\n",
      " 148.0    2.48611\n",
      " 149.0    1.41295\n",
      " 150.0    5.34653\n",
      " Group 2 - time: 1998-05-27 00:00:00, is_day: True, lat: 48.5, lon: -128.5\n",
      " depth  pteropods\n",
      " 150.0   3.385264\n",
      " 151.0   2.320420\n",
      " Group 3 - time: 1998-06-24 00:00:00, is_day: True, lat: 50.5, lon: -129.5\n",
      " depth  pteropods\n",
      "  49.0   11.02470\n",
      " 248.0    1.62625\n",
      " Group 4 - time: 1998-07-03 00:00:00, is_day: False, lat: 55.5, lon: -145.5\n",
      " depth  pteropods\n",
      " 148.0   1.354730\n",
      " 150.0   5.507162\n",
      " 151.0   2.576250\n",
      " Group 5 - time: 1998-07-04 00:00:00, is_day: True, lat: 54.5, lon: -145.5\n",
      " depth  pteropods\n",
      " 149.0   4.994987\n",
      " 150.0   3.094746\n"
     ]
    },
    {
     "name": "stderr",
     "output_type": "stream",
     "text": [
      "/tmp/ipykernel_2447692/259768393.py:12: FutureWarning:\n",
      "\n",
      "The default of observed=False is deprecated and will be changed to True in a future version of pandas. Pass observed=False to retain current behavior or observed=True to adopt the future default and silence this warning.\n",
      "\n"
     ]
    }
   ],
   "source": [
    "# sort by growing depth\n",
    "df_sorted = df.sort_values(by=[\"time\", \"is_day\", \"lat\", \"lon\", \"depth\"])\n",
    "\n",
    "# Create indicator of violation\n",
    "def check_monotonic(group):\n",
    "    # True if values increase or are constant with depth\n",
    "    return (group[\"pteropods\"].dropna().is_monotonic_increasing)\n",
    "\n",
    "\n",
    "# Identify group not respecting the condition\n",
    "violating_groups = []\n",
    "for keys, group in df_sorted.groupby([\"time\", \"is_day\", \"lat\", \"lon\"]):\n",
    "    if not check_monotonic(group):\n",
    "        violating_groups.append((keys, group))\n",
    "\n",
    "print(f\" {len(violating_groups)} Groups where pteropod values do not increase with depth.\\n\")\n",
    "\n",
    "# Print first five\n",
    "for i, (keys, group) in enumerate(violating_groups[:5]):\n",
    "    print(f\" Group {i+1} - time: {keys[0]}, is_day: {keys[1]}, lat: {keys[2]}, lon: {keys[3]}\")\n",
    "    print(group[[\"depth\", \"pteropods\"]].sort_values(by=\"depth\").to_string(index=False))\n",
    "\n"
   ]
  },
  {
   "cell_type": "markdown",
   "metadata": {},
   "source": [
    "<div style=\"padding: 10px; border-radius: 5px; background-color: #cce5ff; color: #004085; border-left: 5px solid #007bff;\">\n",
    "    <strong>Note :</strong> Pteropod : mg/m3 (dry weight/filtered volume) so it correspond to an average concentration of pteropod in the mesured water column. <br> If deeper values are weaker it means there is fewer (or no) pteropod in deeper water because the volume filtered is more important.\n",
    "</div>\n"
   ]
  },
  {
   "cell_type": "code",
   "execution_count": 114,
   "metadata": {},
   "outputs": [
    {
     "data": {
      "application/vnd.plotly.v1+json": {
       "config": {
        "plotlyServerURL": "https://plot.ly"
       },
       "data": [
        {
         "hovertemplate": "Depth=%{x}<br>pteropods=%{y}<extra></extra>",
         "legendgroup": "",
         "marker": {
          "color": "#636efa",
          "symbol": "circle"
         },
         "mode": "markers",
         "name": "",
         "orientation": "v",
         "showlegend": false,
         "type": "scatter",
         "x": {
          "bdata": "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",
          "dtype": "f8"
         },
         "xaxis": "x",
         "y": {
          "bdata": "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",
          "dtype": "f8"
         },
         "yaxis": "y"
        }
       ],
       "layout": {
        "legend": {
         "tracegroupgap": 0
        },
        "template": {
         "data": {
          "bar": [
           {
            "error_x": {
             "color": "#2a3f5f"
            },
            "error_y": {
             "color": "#2a3f5f"
            },
            "marker": {
             "line": {
              "color": "#E5ECF6",
              "width": 0.5
             },
             "pattern": {
              "fillmode": "overlay",
              "size": 10,
              "solidity": 0.2
             }
            },
            "type": "bar"
           }
          ],
          "barpolar": [
           {
            "marker": {
             "line": {
              "color": "#E5ECF6",
              "width": 0.5
             },
             "pattern": {
              "fillmode": "overlay",
              "size": 10,
              "solidity": 0.2
             }
            },
            "type": "barpolar"
           }
          ],
          "carpet": [
           {
            "aaxis": {
             "endlinecolor": "#2a3f5f",
             "gridcolor": "white",
             "linecolor": "white",
             "minorgridcolor": "white",
             "startlinecolor": "#2a3f5f"
            },
            "baxis": {
             "endlinecolor": "#2a3f5f",
             "gridcolor": "white",
             "linecolor": "white",
             "minorgridcolor": "white",
             "startlinecolor": "#2a3f5f"
            },
            "type": "carpet"
           }
          ],
          "choropleth": [
           {
            "colorbar": {
             "outlinewidth": 0,
             "ticks": ""
            },
            "type": "choropleth"
           }
          ],
          "contour": [
           {
            "colorbar": {
             "outlinewidth": 0,
             "ticks": ""
            },
            "colorscale": [
             [
              0,
              "#0d0887"
             ],
             [
              0.1111111111111111,
              "#46039f"
             ],
             [
              0.2222222222222222,
              "#7201a8"
             ],
             [
              0.3333333333333333,
              "#9c179e"
             ],
             [
              0.4444444444444444,
              "#bd3786"
             ],
             [
              0.5555555555555556,
              "#d8576b"
             ],
             [
              0.6666666666666666,
              "#ed7953"
             ],
             [
              0.7777777777777778,
              "#fb9f3a"
             ],
             [
              0.8888888888888888,
              "#fdca26"
             ],
             [
              1,
              "#f0f921"
             ]
            ],
            "type": "contour"
           }
          ],
          "contourcarpet": [
           {
            "colorbar": {
             "outlinewidth": 0,
             "ticks": ""
            },
            "type": "contourcarpet"
           }
          ],
          "heatmap": [
           {
            "colorbar": {
             "outlinewidth": 0,
             "ticks": ""
            },
            "colorscale": [
             [
              0,
              "#0d0887"
             ],
             [
              0.1111111111111111,
              "#46039f"
             ],
             [
              0.2222222222222222,
              "#7201a8"
             ],
             [
              0.3333333333333333,
              "#9c179e"
             ],
             [
              0.4444444444444444,
              "#bd3786"
             ],
             [
              0.5555555555555556,
              "#d8576b"
             ],
             [
              0.6666666666666666,
              "#ed7953"
             ],
             [
              0.7777777777777778,
              "#fb9f3a"
             ],
             [
              0.8888888888888888,
              "#fdca26"
             ],
             [
              1,
              "#f0f921"
             ]
            ],
            "type": "heatmap"
           }
          ],
          "histogram": [
           {
            "marker": {
             "pattern": {
              "fillmode": "overlay",
              "size": 10,
              "solidity": 0.2
             }
            },
            "type": "histogram"
           }
          ],
          "histogram2d": [
           {
            "colorbar": {
             "outlinewidth": 0,
             "ticks": ""
            },
            "colorscale": [
             [
              0,
              "#0d0887"
             ],
             [
              0.1111111111111111,
              "#46039f"
             ],
             [
              0.2222222222222222,
              "#7201a8"
             ],
             [
              0.3333333333333333,
              "#9c179e"
             ],
             [
              0.4444444444444444,
              "#bd3786"
             ],
             [
              0.5555555555555556,
              "#d8576b"
             ],
             [
              0.6666666666666666,
              "#ed7953"
             ],
             [
              0.7777777777777778,
              "#fb9f3a"
             ],
             [
              0.8888888888888888,
              "#fdca26"
             ],
             [
              1,
              "#f0f921"
             ]
            ],
            "type": "histogram2d"
           }
          ],
          "histogram2dcontour": [
           {
            "colorbar": {
             "outlinewidth": 0,
             "ticks": ""
            },
            "colorscale": [
             [
              0,
              "#0d0887"
             ],
             [
              0.1111111111111111,
              "#46039f"
             ],
             [
              0.2222222222222222,
              "#7201a8"
             ],
             [
              0.3333333333333333,
              "#9c179e"
             ],
             [
              0.4444444444444444,
              "#bd3786"
             ],
             [
              0.5555555555555556,
              "#d8576b"
             ],
             [
              0.6666666666666666,
              "#ed7953"
             ],
             [
              0.7777777777777778,
              "#fb9f3a"
             ],
             [
              0.8888888888888888,
              "#fdca26"
             ],
             [
              1,
              "#f0f921"
             ]
            ],
            "type": "histogram2dcontour"
           }
          ],
          "mesh3d": [
           {
            "colorbar": {
             "outlinewidth": 0,
             "ticks": ""
            },
            "type": "mesh3d"
           }
          ],
          "parcoords": [
           {
            "line": {
             "colorbar": {
              "outlinewidth": 0,
              "ticks": ""
             }
            },
            "type": "parcoords"
           }
          ],
          "pie": [
           {
            "automargin": true,
            "type": "pie"
           }
          ],
          "scatter": [
           {
            "fillpattern": {
             "fillmode": "overlay",
             "size": 10,
             "solidity": 0.2
            },
            "type": "scatter"
           }
          ],
          "scatter3d": [
           {
            "line": {
             "colorbar": {
              "outlinewidth": 0,
              "ticks": ""
             }
            },
            "marker": {
             "colorbar": {
              "outlinewidth": 0,
              "ticks": ""
             }
            },
            "type": "scatter3d"
           }
          ],
          "scattercarpet": [
           {
            "marker": {
             "colorbar": {
              "outlinewidth": 0,
              "ticks": ""
             }
            },
            "type": "scattercarpet"
           }
          ],
          "scattergeo": [
           {
            "marker": {
             "colorbar": {
              "outlinewidth": 0,
              "ticks": ""
             }
            },
            "type": "scattergeo"
           }
          ],
          "scattergl": [
           {
            "marker": {
             "colorbar": {
              "outlinewidth": 0,
              "ticks": ""
             }
            },
            "type": "scattergl"
           }
          ],
          "scattermap": [
           {
            "marker": {
             "colorbar": {
              "outlinewidth": 0,
              "ticks": ""
             }
            },
            "type": "scattermap"
           }
          ],
          "scattermapbox": [
           {
            "marker": {
             "colorbar": {
              "outlinewidth": 0,
              "ticks": ""
             }
            },
            "type": "scattermapbox"
           }
          ],
          "scatterpolar": [
           {
            "marker": {
             "colorbar": {
              "outlinewidth": 0,
              "ticks": ""
             }
            },
            "type": "scatterpolar"
           }
          ],
          "scatterpolargl": [
           {
            "marker": {
             "colorbar": {
              "outlinewidth": 0,
              "ticks": ""
             }
            },
            "type": "scatterpolargl"
           }
          ],
          "scatterternary": [
           {
            "marker": {
             "colorbar": {
              "outlinewidth": 0,
              "ticks": ""
             }
            },
            "type": "scatterternary"
           }
          ],
          "surface": [
           {
            "colorbar": {
             "outlinewidth": 0,
             "ticks": ""
            },
            "colorscale": [
             [
              0,
              "#0d0887"
             ],
             [
              0.1111111111111111,
              "#46039f"
             ],
             [
              0.2222222222222222,
              "#7201a8"
             ],
             [
              0.3333333333333333,
              "#9c179e"
             ],
             [
              0.4444444444444444,
              "#bd3786"
             ],
             [
              0.5555555555555556,
              "#d8576b"
             ],
             [
              0.6666666666666666,
              "#ed7953"
             ],
             [
              0.7777777777777778,
              "#fb9f3a"
             ],
             [
              0.8888888888888888,
              "#fdca26"
             ],
             [
              1,
              "#f0f921"
             ]
            ],
            "type": "surface"
           }
          ],
          "table": [
           {
            "cells": {
             "fill": {
              "color": "#EBF0F8"
             },
             "line": {
              "color": "white"
             }
            },
            "header": {
             "fill": {
              "color": "#C8D4E3"
             },
             "line": {
              "color": "white"
             }
            },
            "type": "table"
           }
          ]
         },
         "layout": {
          "annotationdefaults": {
           "arrowcolor": "#2a3f5f",
           "arrowhead": 0,
           "arrowwidth": 1
          },
          "autotypenumbers": "strict",
          "coloraxis": {
           "colorbar": {
            "outlinewidth": 0,
            "ticks": ""
           }
          },
          "colorscale": {
           "diverging": [
            [
             0,
             "#8e0152"
            ],
            [
             0.1,
             "#c51b7d"
            ],
            [
             0.2,
             "#de77ae"
            ],
            [
             0.3,
             "#f1b6da"
            ],
            [
             0.4,
             "#fde0ef"
            ],
            [
             0.5,
             "#f7f7f7"
            ],
            [
             0.6,
             "#e6f5d0"
            ],
            [
             0.7,
             "#b8e186"
            ],
            [
             0.8,
             "#7fbc41"
            ],
            [
             0.9,
             "#4d9221"
            ],
            [
             1,
             "#276419"
            ]
           ],
           "sequential": [
            [
             0,
             "#0d0887"
            ],
            [
             0.1111111111111111,
             "#46039f"
            ],
            [
             0.2222222222222222,
             "#7201a8"
            ],
            [
             0.3333333333333333,
             "#9c179e"
            ],
            [
             0.4444444444444444,
             "#bd3786"
            ],
            [
             0.5555555555555556,
             "#d8576b"
            ],
            [
             0.6666666666666666,
             "#ed7953"
            ],
            [
             0.7777777777777778,
             "#fb9f3a"
            ],
            [
             0.8888888888888888,
             "#fdca26"
            ],
            [
             1,
             "#f0f921"
            ]
           ],
           "sequentialminus": [
            [
             0,
             "#0d0887"
            ],
            [
             0.1111111111111111,
             "#46039f"
            ],
            [
             0.2222222222222222,
             "#7201a8"
            ],
            [
             0.3333333333333333,
             "#9c179e"
            ],
            [
             0.4444444444444444,
             "#bd3786"
            ],
            [
             0.5555555555555556,
             "#d8576b"
            ],
            [
             0.6666666666666666,
             "#ed7953"
            ],
            [
             0.7777777777777778,
             "#fb9f3a"
            ],
            [
             0.8888888888888888,
             "#fdca26"
            ],
            [
             1,
             "#f0f921"
            ]
           ]
          },
          "colorway": [
           "#636efa",
           "#EF553B",
           "#00cc96",
           "#ab63fa",
           "#FFA15A",
           "#19d3f3",
           "#FF6692",
           "#B6E880",
           "#FF97FF",
           "#FECB52"
          ],
          "font": {
           "color": "#2a3f5f"
          },
          "geo": {
           "bgcolor": "white",
           "lakecolor": "white",
           "landcolor": "#E5ECF6",
           "showlakes": true,
           "showland": true,
           "subunitcolor": "white"
          },
          "hoverlabel": {
           "align": "left"
          },
          "hovermode": "closest",
          "mapbox": {
           "style": "light"
          },
          "paper_bgcolor": "white",
          "plot_bgcolor": "#E5ECF6",
          "polar": {
           "angularaxis": {
            "gridcolor": "white",
            "linecolor": "white",
            "ticks": ""
           },
           "bgcolor": "#E5ECF6",
           "radialaxis": {
            "gridcolor": "white",
            "linecolor": "white",
            "ticks": ""
           }
          },
          "scene": {
           "xaxis": {
            "backgroundcolor": "#E5ECF6",
            "gridcolor": "white",
            "gridwidth": 2,
            "linecolor": "white",
            "showbackground": true,
            "ticks": "",
            "zerolinecolor": "white"
           },
           "yaxis": {
            "backgroundcolor": "#E5ECF6",
            "gridcolor": "white",
            "gridwidth": 2,
            "linecolor": "white",
            "showbackground": true,
            "ticks": "",
            "zerolinecolor": "white"
           },
           "zaxis": {
            "backgroundcolor": "#E5ECF6",
            "gridcolor": "white",
            "gridwidth": 2,
            "linecolor": "white",
            "showbackground": true,
            "ticks": "",
            "zerolinecolor": "white"
           }
          },
          "shapedefaults": {
           "line": {
            "color": "#2a3f5f"
           }
          },
          "ternary": {
           "aaxis": {
            "gridcolor": "white",
            "linecolor": "white",
            "ticks": ""
           },
           "baxis": {
            "gridcolor": "white",
            "linecolor": "white",
            "ticks": ""
           },
           "bgcolor": "#E5ECF6",
           "caxis": {
            "gridcolor": "white",
            "linecolor": "white",
            "ticks": ""
           }
          },
          "title": {
           "x": 0.05
          },
          "xaxis": {
           "automargin": true,
           "gridcolor": "white",
           "linecolor": "white",
           "ticks": "",
           "title": {
            "standoff": 15
           },
           "zerolinecolor": "white",
           "zerolinewidth": 2
          },
          "yaxis": {
           "automargin": true,
           "gridcolor": "white",
           "linecolor": "white",
           "ticks": "",
           "title": {
            "standoff": 15
           },
           "zerolinecolor": "white",
           "zerolinewidth": 2
          }
         }
        },
        "title": {
         "text": "Depth VS Pteropods Biomass"
        },
        "xaxis": {
         "anchor": "y",
         "domain": [
          0,
          1
         ],
         "title": {
          "text": "Depth"
         }
        },
        "yaxis": {
         "anchor": "x",
         "domain": [
          0,
          1
         ],
         "title": {
          "text": "pteropods"
         }
        }
       }
      }
     },
     "metadata": {},
     "output_type": "display_data"
    }
   ],
   "source": [
    "# Plot using scatter (dots), colored by location\n",
    "fig = px.scatter(\n",
    "    df,\n",
    "    x=\"depth\",\n",
    "    y=\"pteropods\",\n",
    "    #color=\"location\",\n",
    "    title=\"Depth VS Pteropods Biomass\",\n",
    "    labels={\"Pteropods\": \"Pteropods\", \"depth\":\"Depth\"},\n",
    ")\n",
    "\n",
    "fig.show()"
   ]
  },
  {
   "cell_type": "code",
   "execution_count": 119,
   "metadata": {},
   "outputs": [
    {
     "data": {
      "application/vnd.plotly.v1+json": {
       "config": {
        "plotlyServerURL": "https://plot.ly"
       },
       "data": [
        {
         "alignmentgroup": "True",
         "hovertemplate": "Midpoint of Depth Bin (m)=%{x}<br>Biomass (wet weight/m3)=%{y}<extra></extra>",
         "legendgroup": "",
         "marker": {
          "color": "#636efa"
         },
         "name": "",
         "notched": false,
         "offsetgroup": "",
         "orientation": "v",
         "showlegend": false,
         "type": "box",
         "x": {
          "bdata": "lgCWAJYAlgCWAJYAlgCWAJYAlgCWAJYAlgCWAJYAlgCWAJYAlgCWAJYAlgCWAJYAlgD6APoAyAD6AJYAlgCWAJYAlgCWAJYAlgCWAJYAlgCWAJYAlgBkADIA+gCWAJYAlgCWAJYAlgCWAJYAlgCWAJYAlgCWAJYA+gCWAJYAlgCWAJYAlgCWAJYAlgCWAPoAMgAyAPoA+gCWAJYAlgCWAJYAlgCWAJYAlgAyAPoAMgD6APoAlgCWAJYAlgCWAJYAZACWAJYAlgCWAJYAlgCWAJYAlgCWAJYAlgCWAJYAlgCWAJYAlgCWAJYAlgCWAJYAlgCWAJYAlgCWAJYAlgCWAJYAlgD6AJYA+gD6AJYA+gD6ADIA+gCWADIAlgCWAJYAlgCWAJYAlgCWAJYAlgCWAJYAlgCWAJYAlgCWAJYAlgCWAJYAlgCWADIAlgCWAJYAlgCWAJYAMgCWAJYAlgCWAJYAlgCWAJYAlgD6AJYAlgCWAJYAlgCWAJYA+gAyADIA+gD6APoAlgCWAJYAlgCWAJYAlgCWAJYAMgD6AJYAlgCWAJYAlgCWAJYAlgCWAJYAlgCWAJYAlgCWAJYAlgCWAJYAlgCWAJYAlgCWAJYAlgCWAJYAlgCWAJYAlgCWAJYAlgCWAJYAlgCWAJYAlgCWAJYAlgCWAPoAMgCWAPoAlgCWADIA+gCWAJYAlgCWAJYAlgCWAJYAZACWAJYAlgCWAPoAlgCWAJYAlgCWAJYAlgCWAJYA+gAyAPoAMgAyAPoA+gCWAJYAlgCWAPoA+gD6APoA+gD6ADIAlgD6AJYAlgAyAJYAlgAyAJYAlgCWAJYAlgCWAJYAlgCWADIAMgD6APoA+gCWAJYAlgCWAPoA+gD6APoAlgD6AJYAlgD6ADIA+gAyAPoAlgCWAJYAlgCWAJYAlgCWAJYAlgCWAJYAlgCWAJYAlgCWAPoA+gD6AJYAlgCWAJYAlgCWAJYAlgCWAJYA+gD6APoAlgD6AMgA+gD6AMgA+gD6APoA+gD6APoA+gD6APoA+gD6APoA+gCWAJYAlgCWAJYAlgCWAJYAlgCWAJYAlgCWAJYAlgCWAJYA+gD6APoA+gD6APoA+gD6APoA+gD6APoA+gD6APoA+gD6APoA+gD6APoA+gD6APoA+gD6APoA+gD6APoA+gD6APoA+gD6APoA+gD6APoA+gD6APoA+gD6APoA+gD6APoA+gD6APoA+gD6APoA+gD6APoA+gD6APoAZABkAGQAZABkAGQA+gD6APoA+gD6APoA+gD6APoA+gD6APoA+gD6APoA+gD6APoA+gBkAGQAZABkAPoA+gD6APoA+gD6APoA+gCWAPoA+gAsAfoA+gD6APoA+gD6APoA+gBkAGQAZABkAPoA+gD6APoA+gD6APoA+gD6AMgA+gD6APoA+gD6APoA+gD6APoA+gD6APoA+gD6APoA+gD6AMgA+gD6APoA+gD6APoA+gD6APoA+gD6APoA+gD6APoA+gD6APoA+gD6APoA+gD6APoA+gD6APoA+gD6APoA+gD6APoA+gAsAfoA+gD6APoA+gD6APoA+gD6APoA+gD6APoA+gD6AMgA+gD6APoA+gD6APoA+gD6APoA+gD6APoA+gD6APoA+gD6APoA+gD6APoA+gD6APoA+gD6APoA+gD6APoA+gD6APoA+gD6APoA+gBkAPoA+gD6APoA+gD6APoA+gD6APoA+gD6APoA+gD6APoA+gD6APoA+gD6AMgA+gD6APoA+gD6APoA+gD6APoA+gD6APoA+gD6APoA+gD6APoA+gD6APoA+gD6APoA+gD6APoA+gD6APoA+gD6APoA+gD6APoA+gD6APoA+gD6APoA+gD6APoA+gD6APoA+gD6APoA+gD6APoA+gD6APoA+gD6APoA+gD6APoA+gD6APoA+gD6APoA+gD6APoA+gD6APoA+gD6APoA+gD6APoA+gD6APoA+gD6APoA+gD6APoA+gD6APoA+gD6AJYA+gD6APoA+gD6APoA+gD6AMgA+gDIAPoA+gD6APoA+gD6APoA+gD6APoA+gD6APoA+gD6APoA+gD6APoAZABkAGQAZABkAPoAlgD6APoA+gD6APoA+gD6AA==",
          "dtype": "i2"
         },
         "x0": " ",
         "xaxis": "x",
         "y": {
          "bdata": "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",
          "dtype": "f8"
         },
         "y0": " ",
         "yaxis": "y"
        }
       ],
       "layout": {
        "boxmode": "group",
        "legend": {
         "tracegroupgap": 0
        },
        "template": {
         "data": {
          "bar": [
           {
            "error_x": {
             "color": "#2a3f5f"
            },
            "error_y": {
             "color": "#2a3f5f"
            },
            "marker": {
             "line": {
              "color": "#E5ECF6",
              "width": 0.5
             },
             "pattern": {
              "fillmode": "overlay",
              "size": 10,
              "solidity": 0.2
             }
            },
            "type": "bar"
           }
          ],
          "barpolar": [
           {
            "marker": {
             "line": {
              "color": "#E5ECF6",
              "width": 0.5
             },
             "pattern": {
              "fillmode": "overlay",
              "size": 10,
              "solidity": 0.2
             }
            },
            "type": "barpolar"
           }
          ],
          "carpet": [
           {
            "aaxis": {
             "endlinecolor": "#2a3f5f",
             "gridcolor": "white",
             "linecolor": "white",
             "minorgridcolor": "white",
             "startlinecolor": "#2a3f5f"
            },
            "baxis": {
             "endlinecolor": "#2a3f5f",
             "gridcolor": "white",
             "linecolor": "white",
             "minorgridcolor": "white",
             "startlinecolor": "#2a3f5f"
            },
            "type": "carpet"
           }
          ],
          "choropleth": [
           {
            "colorbar": {
             "outlinewidth": 0,
             "ticks": ""
            },
            "type": "choropleth"
           }
          ],
          "contour": [
           {
            "colorbar": {
             "outlinewidth": 0,
             "ticks": ""
            },
            "colorscale": [
             [
              0,
              "#0d0887"
             ],
             [
              0.1111111111111111,
              "#46039f"
             ],
             [
              0.2222222222222222,
              "#7201a8"
             ],
             [
              0.3333333333333333,
              "#9c179e"
             ],
             [
              0.4444444444444444,
              "#bd3786"
             ],
             [
              0.5555555555555556,
              "#d8576b"
             ],
             [
              0.6666666666666666,
              "#ed7953"
             ],
             [
              0.7777777777777778,
              "#fb9f3a"
             ],
             [
              0.8888888888888888,
              "#fdca26"
             ],
             [
              1,
              "#f0f921"
             ]
            ],
            "type": "contour"
           }
          ],
          "contourcarpet": [
           {
            "colorbar": {
             "outlinewidth": 0,
             "ticks": ""
            },
            "type": "contourcarpet"
           }
          ],
          "heatmap": [
           {
            "colorbar": {
             "outlinewidth": 0,
             "ticks": ""
            },
            "colorscale": [
             [
              0,
              "#0d0887"
             ],
             [
              0.1111111111111111,
              "#46039f"
             ],
             [
              0.2222222222222222,
              "#7201a8"
             ],
             [
              0.3333333333333333,
              "#9c179e"
             ],
             [
              0.4444444444444444,
              "#bd3786"
             ],
             [
              0.5555555555555556,
              "#d8576b"
             ],
             [
              0.6666666666666666,
              "#ed7953"
             ],
             [
              0.7777777777777778,
              "#fb9f3a"
             ],
             [
              0.8888888888888888,
              "#fdca26"
             ],
             [
              1,
              "#f0f921"
             ]
            ],
            "type": "heatmap"
           }
          ],
          "histogram": [
           {
            "marker": {
             "pattern": {
              "fillmode": "overlay",
              "size": 10,
              "solidity": 0.2
             }
            },
            "type": "histogram"
           }
          ],
          "histogram2d": [
           {
            "colorbar": {
             "outlinewidth": 0,
             "ticks": ""
            },
            "colorscale": [
             [
              0,
              "#0d0887"
             ],
             [
              0.1111111111111111,
              "#46039f"
             ],
             [
              0.2222222222222222,
              "#7201a8"
             ],
             [
              0.3333333333333333,
              "#9c179e"
             ],
             [
              0.4444444444444444,
              "#bd3786"
             ],
             [
              0.5555555555555556,
              "#d8576b"
             ],
             [
              0.6666666666666666,
              "#ed7953"
             ],
             [
              0.7777777777777778,
              "#fb9f3a"
             ],
             [
              0.8888888888888888,
              "#fdca26"
             ],
             [
              1,
              "#f0f921"
             ]
            ],
            "type": "histogram2d"
           }
          ],
          "histogram2dcontour": [
           {
            "colorbar": {
             "outlinewidth": 0,
             "ticks": ""
            },
            "colorscale": [
             [
              0,
              "#0d0887"
             ],
             [
              0.1111111111111111,
              "#46039f"
             ],
             [
              0.2222222222222222,
              "#7201a8"
             ],
             [
              0.3333333333333333,
              "#9c179e"
             ],
             [
              0.4444444444444444,
              "#bd3786"
             ],
             [
              0.5555555555555556,
              "#d8576b"
             ],
             [
              0.6666666666666666,
              "#ed7953"
             ],
             [
              0.7777777777777778,
              "#fb9f3a"
             ],
             [
              0.8888888888888888,
              "#fdca26"
             ],
             [
              1,
              "#f0f921"
             ]
            ],
            "type": "histogram2dcontour"
           }
          ],
          "mesh3d": [
           {
            "colorbar": {
             "outlinewidth": 0,
             "ticks": ""
            },
            "type": "mesh3d"
           }
          ],
          "parcoords": [
           {
            "line": {
             "colorbar": {
              "outlinewidth": 0,
              "ticks": ""
             }
            },
            "type": "parcoords"
           }
          ],
          "pie": [
           {
            "automargin": true,
            "type": "pie"
           }
          ],
          "scatter": [
           {
            "fillpattern": {
             "fillmode": "overlay",
             "size": 10,
             "solidity": 0.2
            },
            "type": "scatter"
           }
          ],
          "scatter3d": [
           {
            "line": {
             "colorbar": {
              "outlinewidth": 0,
              "ticks": ""
             }
            },
            "marker": {
             "colorbar": {
              "outlinewidth": 0,
              "ticks": ""
             }
            },
            "type": "scatter3d"
           }
          ],
          "scattercarpet": [
           {
            "marker": {
             "colorbar": {
              "outlinewidth": 0,
              "ticks": ""
             }
            },
            "type": "scattercarpet"
           }
          ],
          "scattergeo": [
           {
            "marker": {
             "colorbar": {
              "outlinewidth": 0,
              "ticks": ""
             }
            },
            "type": "scattergeo"
           }
          ],
          "scattergl": [
           {
            "marker": {
             "colorbar": {
              "outlinewidth": 0,
              "ticks": ""
             }
            },
            "type": "scattergl"
           }
          ],
          "scattermap": [
           {
            "marker": {
             "colorbar": {
              "outlinewidth": 0,
              "ticks": ""
             }
            },
            "type": "scattermap"
           }
          ],
          "scattermapbox": [
           {
            "marker": {
             "colorbar": {
              "outlinewidth": 0,
              "ticks": ""
             }
            },
            "type": "scattermapbox"
           }
          ],
          "scatterpolar": [
           {
            "marker": {
             "colorbar": {
              "outlinewidth": 0,
              "ticks": ""
             }
            },
            "type": "scatterpolar"
           }
          ],
          "scatterpolargl": [
           {
            "marker": {
             "colorbar": {
              "outlinewidth": 0,
              "ticks": ""
             }
            },
            "type": "scatterpolargl"
           }
          ],
          "scatterternary": [
           {
            "marker": {
             "colorbar": {
              "outlinewidth": 0,
              "ticks": ""
             }
            },
            "type": "scatterternary"
           }
          ],
          "surface": [
           {
            "colorbar": {
             "outlinewidth": 0,
             "ticks": ""
            },
            "colorscale": [
             [
              0,
              "#0d0887"
             ],
             [
              0.1111111111111111,
              "#46039f"
             ],
             [
              0.2222222222222222,
              "#7201a8"
             ],
             [
              0.3333333333333333,
              "#9c179e"
             ],
             [
              0.4444444444444444,
              "#bd3786"
             ],
             [
              0.5555555555555556,
              "#d8576b"
             ],
             [
              0.6666666666666666,
              "#ed7953"
             ],
             [
              0.7777777777777778,
              "#fb9f3a"
             ],
             [
              0.8888888888888888,
              "#fdca26"
             ],
             [
              1,
              "#f0f921"
             ]
            ],
            "type": "surface"
           }
          ],
          "table": [
           {
            "cells": {
             "fill": {
              "color": "#EBF0F8"
             },
             "line": {
              "color": "white"
             }
            },
            "header": {
             "fill": {
              "color": "#C8D4E3"
             },
             "line": {
              "color": "white"
             }
            },
            "type": "table"
           }
          ]
         },
         "layout": {
          "annotationdefaults": {
           "arrowcolor": "#2a3f5f",
           "arrowhead": 0,
           "arrowwidth": 1
          },
          "autotypenumbers": "strict",
          "coloraxis": {
           "colorbar": {
            "outlinewidth": 0,
            "ticks": ""
           }
          },
          "colorscale": {
           "diverging": [
            [
             0,
             "#8e0152"
            ],
            [
             0.1,
             "#c51b7d"
            ],
            [
             0.2,
             "#de77ae"
            ],
            [
             0.3,
             "#f1b6da"
            ],
            [
             0.4,
             "#fde0ef"
            ],
            [
             0.5,
             "#f7f7f7"
            ],
            [
             0.6,
             "#e6f5d0"
            ],
            [
             0.7,
             "#b8e186"
            ],
            [
             0.8,
             "#7fbc41"
            ],
            [
             0.9,
             "#4d9221"
            ],
            [
             1,
             "#276419"
            ]
           ],
           "sequential": [
            [
             0,
             "#0d0887"
            ],
            [
             0.1111111111111111,
             "#46039f"
            ],
            [
             0.2222222222222222,
             "#7201a8"
            ],
            [
             0.3333333333333333,
             "#9c179e"
            ],
            [
             0.4444444444444444,
             "#bd3786"
            ],
            [
             0.5555555555555556,
             "#d8576b"
            ],
            [
             0.6666666666666666,
             "#ed7953"
            ],
            [
             0.7777777777777778,
             "#fb9f3a"
            ],
            [
             0.8888888888888888,
             "#fdca26"
            ],
            [
             1,
             "#f0f921"
            ]
           ],
           "sequentialminus": [
            [
             0,
             "#0d0887"
            ],
            [
             0.1111111111111111,
             "#46039f"
            ],
            [
             0.2222222222222222,
             "#7201a8"
            ],
            [
             0.3333333333333333,
             "#9c179e"
            ],
            [
             0.4444444444444444,
             "#bd3786"
            ],
            [
             0.5555555555555556,
             "#d8576b"
            ],
            [
             0.6666666666666666,
             "#ed7953"
            ],
            [
             0.7777777777777778,
             "#fb9f3a"
            ],
            [
             0.8888888888888888,
             "#fdca26"
            ],
            [
             1,
             "#f0f921"
            ]
           ]
          },
          "colorway": [
           "#636efa",
           "#EF553B",
           "#00cc96",
           "#ab63fa",
           "#FFA15A",
           "#19d3f3",
           "#FF6692",
           "#B6E880",
           "#FF97FF",
           "#FECB52"
          ],
          "font": {
           "color": "#2a3f5f"
          },
          "geo": {
           "bgcolor": "white",
           "lakecolor": "white",
           "landcolor": "#E5ECF6",
           "showlake