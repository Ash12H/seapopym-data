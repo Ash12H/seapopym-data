{
 "cells": [
  {
   "cell_type": "markdown",
   "id": "7d800543",
   "metadata": {},
   "source": [
    "# Climatology of the forcings at PAPA selected stations"
   ]
  },
  {
   "cell_type": "markdown",
   "id": "81600161",
   "metadata": {},
   "source": [
    "<div style=\"padding: 10px; border-radius: 5px; background-color: #cce5ff; color: #004085; border-left: 5px solid #007bff;\">\n",
    "    <strong>Note :</strong> We have a pteropods climatology for the 2° area 48.5->50.5N, -130.5->-128.5E and for the period September 1995 -> August 2020 <br>\n",
    "    So, this notebook is preparing the forcing data in order to then optimise the ocean acidification seapopym model of pteropods.\n",
    "</div>\n"
   ]
  },
  {
   "cell_type": "markdown",
   "id": "5851d631",
   "metadata": {},
   "source": [
    "## Set up"
   ]
  },
  {
   "cell_type": "code",
   "execution_count": 5,
   "id": "d4fadaf8",
   "metadata": {},
   "outputs": [],
   "source": [
    "# imports\n",
    "import xarray as xr\n",
    "import plotly.express as px\n",
    "import plotly.graph_objects as go\n",
    "from plotly.subplots import make_subplots\n",
    "import pandas as pd\n",
    "import numpy as np "
   ]
  },
  {
   "cell_type": "markdown",
   "id": "c55eb18c",
   "metadata": {},
   "source": [
    "<div style=\"padding: 10px; border-radius: 5px; background-color: #cce5ff; color: #004085; border-left: 5px solid #007bff;\">\n",
    "    <strong>Note :</strong> In a first time, the idea is to do a daily climatology. So we exclude 29 of February (leap years). <br> If later, we do a monthly climatology, maybe it will be better to take them into account.\n",
    "</div>"
   ]
  },
  {
   "cell_type": "code",
   "execution_count": 35,
   "id": "fee7ea1e",
   "metadata": {},
   "outputs": [],
   "source": [
    "# Create the mapping MM-DD -> day (except leap years)\n",
    "days = pd.date_range('2001-01-01', '2001-12-31')  # 2001 not a leap year\n",
    "mmdd_to_day = {d.strftime('%m-%d'): i+1 for i, d in enumerate(days)}\n"
   ]
  },
  {
   "cell_type": "markdown",
   "id": "4fb6cffc",
   "metadata": {},
   "source": [
    "## Temperature Forcing climatology"
   ]
  },
  {
   "cell_type": "markdown",
   "id": "3aaf06c9",
   "metadata": {},
   "source": [
    "<div class=\"alert alert-danger\">\n",
    "    <strong>Warning :</strong> huge amount of files = was run and save with forcings_daily_clim.py<br> + forcing available from 1998 -> ask if before available / or remove 1995 -> 1997 in pteropod climatology\n",
    "</div>"
   ]
  },
  {
   "cell_type": "code",
   "execution_count": 6,
   "id": "00b03090",
   "metadata": {},
   "outputs": [],
   "source": [
    "path_temp=\"/data/rd_exchange/sroyer/SEAPOPYM/daily_temp_papa_1998_2020.nc\"\n",
    "ds_temp = xr.open_dataset(path_temp,engine='netcdf4')\n",
    "path_clim_T=\"/data/rd_exchange/sroyer/SEAPOPYM/daily_clim_temp_papa_1998_2020.nc\"\n",
    "ds_clim_T = xr.open_dataset(path_clim_T,engine='netcdf4')\n"
   ]
  },
  {
   "cell_type": "code",
   "execution_count": 7,
   "id": "b477b5ec",
   "metadata": {},
   "outputs": [
    {
     "data": {
      "text/html": [
       "<div><svg style=\"position: absolute; width: 0; height: 0; overflow: hidden\">\n",
       "<defs>\n",
       "<symbol id=\"icon-database\" viewBox=\"0 0 32 32\">\n",
       "<path d=\"M16 0c-8.837 0-16 2.239-16 5v4c0 2.761 7.163 5 16 5s16-2.239 16-5v-4c0-2.761-7.163-5-16-5z\"></path>\n",
       "<path d=\"M16 17c-8.837 0-16-2.239-16-5v6c0 2.761 7.163 5 16 5s16-2.239 16-5v-6c0 2.761-7.163 5-16 5z\"></path>\n",
       "<path d=\"M16 26c-8.837 0-16-2.239-16-5v6c0 2.761 7.163 5 16 5s16-2.239 16-5v-6c0 2.761-7.163 5-16 5z\"></path>\n",
       "</symbol>\n",
       "<symbol id=\"icon-file-text2\" viewBox=\"0 0 32 32\">\n",
       "<path d=\"M28.681 7.159c-0.694-0.947-1.662-2.053-2.724-3.116s-2.169-2.030-3.116-2.724c-1.612-1.182-2.393-1.319-2.841-1.319h-15.5c-1.378 0-2.5 1.121-2.5 2.5v27c0 1.378 1.122 2.5 2.5 2.5h23c1.378 0 2.5-1.122 2.5-2.5v-19.5c0-0.448-0.137-1.23-1.319-2.841zM24.543 5.457c0.959 0.959 1.712 1.825 2.268 2.543h-4.811v-4.811c0.718 0.556 1.584 1.309 2.543 2.268zM28 29.5c0 0.271-0.229 0.5-0.5 0.5h-23c-0.271 0-0.5-0.229-0.5-0.5v-27c0-0.271 0.229-0.5 0.5-0.5 0 0 15.499-0 15.5 0v7c0 0.552 0.448 1 1 1h7v19.5z\"></path>\n",
       "<path d=\"M23 26h-14c-0.552 0-1-0.448-1-1s0.448-1 1-1h14c0.552 0 1 0.448 1 1s-0.448 1-1 1z\"></path>\n",
       "<path d=\"M23 22h-14c-0.552 0-1-0.448-1-1s0.448-1 1-1h14c0.552 0 1 0.448 1 1s-0.448 1-1 1z\"></path>\n",
       "<path d=\"M23 18h-14c-0.552 0-1-0.448-1-1s0.448-1 1-1h14c0.552 0 1 0.448 1 1s-0.448 1-1 1z\"></path>\n",
       "</symbol>\n",
       "</defs>\n",
       "</svg>\n",
       "<style>/* CSS stylesheet for displaying xarray objects in jupyterlab.\n",
       " *\n",
       " */\n",
       "\n",
       ":root {\n",
       "  --xr-font-color0: var(--jp-content-font-color0, rgba(0, 0, 0, 1));\n",
       "  --xr-font-color2: var(--jp-content-font-color2, rgba(0, 0, 0, 0.54));\n",
       "  --xr-font-color3: var(--jp-content-font-color3, rgba(0, 0, 0, 0.38));\n",
       "  --xr-border-color: var(--jp-border-color2, #e0e0e0);\n",
       "  --xr-disabled-color: var(--jp-layout-color3, #bdbdbd);\n",
       "  --xr-background-color: var(--jp-layout-color0, white);\n",
       "  --xr-background-color-row-even: var(--jp-layout-color1, white);\n",
       "  --xr-background-color-row-odd: var(--jp-layout-color2, #eeeeee);\n",
       "}\n",
       "\n",
       "html[theme=\"dark\"],\n",
       "html[data-theme=\"dark\"],\n",
       "body[data-theme=\"dark\"],\n",
       "body.vscode-dark {\n",
       "  --xr-font-color0: rgba(255, 255, 255, 1);\n",
       "  --xr-font-color2: rgba(255, 255, 255, 0.54);\n",
       "  --xr-font-color3: rgba(255, 255, 255, 0.38);\n",
       "  --xr-border-color: #1f1f1f;\n",
       "  --xr-disabled-color: #515151;\n",
       "  --xr-background-color: #111111;\n",
       "  --xr-background-color-row-even: #111111;\n",
       "  --xr-background-color-row-odd: #313131;\n",
       "}\n",
       "\n",
       ".xr-wrap {\n",
       "  display: block !important;\n",
       "  min-width: 300px;\n",
       "  max-width: 700px;\n",
       "}\n",
       "\n",
       ".xr-text-repr-fallback {\n",
       "  /* fallback to plain text repr when CSS is not injected (untrusted notebook) */\n",
       "  display: none;\n",
       "}\n",
       "\n",
       ".xr-header {\n",
       "  padding-top: 6px;\n",
       "  padding-bottom: 6px;\n",
       "  margin-bottom: 4px;\n",
       "  border-bottom: solid 1px var(--xr-border-color);\n",
       "}\n",
       "\n",
       ".xr-header > div,\n",
       ".xr-header > ul {\n",
       "  display: inline;\n",
       "  margin-top: 0;\n",
       "  margin-bottom: 0;\n",
       "}\n",
       "\n",
       ".xr-obj-type,\n",
       ".xr-array-name {\n",
       "  margin-left: 2px;\n",
       "  margin-right: 10px;\n",
       "}\n",
       "\n",
       ".xr-obj-type {\n",
       "  color: var(--xr-font-color2);\n",
       "}\n",
       "\n",
       ".xr-sections {\n",
       "  padding-left: 0 !important;\n",
       "  display: grid;\n",
       "  grid-template-columns: 150px auto auto 1fr 0 20px 0 20px;\n",
       "}\n",
       "\n",
       ".xr-section-item {\n",
       "  display: contents;\n",
       "}\n",
       "\n",
       ".xr-section-item input {\n",
       "  display: inline-block;\n",
       "  opacity: 0;\n",
       "  height: 0;\n",
       "}\n",
       "\n",
       ".xr-section-item input + label {\n",
       "  color: var(--xr-disabled-color);\n",
       "}\n",
       "\n",
       ".xr-section-item input:enabled + label {\n",
       "  cursor: pointer;\n",
       "  color: var(--xr-font-color2);\n",
       "}\n",
       "\n",
       ".xr-section-item input:focus + label {\n",
       "  border: 2px solid var(--xr-font-color0);\n",
       "}\n",
       "\n",
       ".xr-section-item input:enabled + label:hover {\n",
       "  color: var(--xr-font-color0);\n",
       "}\n",
       "\n",
       ".xr-section-summary {\n",
       "  grid-column: 1;\n",
       "  color: var(--xr-font-color2);\n",
       "  font-weight: 500;\n",
       "}\n",
       "\n",
       ".xr-section-summary > span {\n",
       "  display: inline-block;\n",
       "  padding-left: 0.5em;\n",
       "}\n",
       "\n",
       ".xr-section-summary-in:disabled + label {\n",
       "  color: var(--xr-font-color2);\n",
       "}\n",
       "\n",
       ".xr-section-summary-in + label:before {\n",
       "  display: inline-block;\n",
       "  content: \"►\";\n",
       "  font-size: 11px;\n",
       "  width: 15px;\n",
       "  text-align: center;\n",
       "}\n",
       "\n",
       ".xr-section-summary-in:disabled + label:before {\n",
       "  color: var(--xr-disabled-color);\n",
       "}\n",
       "\n",
       ".xr-section-summary-in:checked + label:before {\n",
       "  content: \"▼\";\n",
       "}\n",
       "\n",
       ".xr-section-summary-in:checked + label > span {\n",
       "  display: none;\n",
       "}\n",
       "\n",
       ".xr-section-summary,\n",
       ".xr-section-inline-details {\n",
       "  padding-top: 4px;\n",
       "  padding-bottom: 4px;\n",
       "}\n",
       "\n",
       ".xr-section-inline-details {\n",
       "  grid-column: 2 / -1;\n",
       "}\n",
       "\n",
       ".xr-section-details {\n",
       "  display: none;\n",
       "  grid-column: 1 / -1;\n",
       "  margin-bottom: 5px;\n",
       "}\n",
       "\n",
       ".xr-section-summary-in:checked ~ .xr-section-details {\n",
       "  display: contents;\n",
       "}\n",
       "\n",
       ".xr-array-wrap {\n",
       "  grid-column: 1 / -1;\n",
       "  display: grid;\n",
       "  grid-template-columns: 20px auto;\n",
       "}\n",
       "\n",
       ".xr-array-wrap > label {\n",
       "  grid-column: 1;\n",
       "  vertical-align: top;\n",
       "}\n",
       "\n",
       ".xr-preview {\n",
       "  color: var(--xr-font-color3);\n",
       "}\n",
       "\n",
       ".xr-array-preview,\n",
       ".xr-array-data {\n",
       "  padding: 0 5px !important;\n",
       "  grid-column: 2;\n",
       "}\n",
       "\n",
       ".xr-array-data,\n",
       ".xr-array-in:checked ~ .xr-array-preview {\n",
       "  display: none;\n",
       "}\n",
       "\n",
       ".xr-array-in:checked ~ .xr-array-data,\n",
       ".xr-array-preview {\n",
       "  display: inline-block;\n",
       "}\n",
       "\n",
       ".xr-dim-list {\n",
       "  display: inline-block !important;\n",
       "  list-style: none;\n",
       "  padding: 0 !important;\n",
       "  margin: 0;\n",
       "}\n",
       "\n",
       ".xr-dim-list li {\n",
       "  display: inline-block;\n",
       "  padding: 0;\n",
       "  margin: 0;\n",
       "}\n",
       "\n",
       ".xr-dim-list:before {\n",
       "  content: \"(\";\n",
       "}\n",
       "\n",
       ".xr-dim-list:after {\n",
       "  content: \")\";\n",
       "}\n",
       "\n",
       ".xr-dim-list li:not(:last-child):after {\n",
       "  content: \",\";\n",
       "  padding-right: 5px;\n",
       "}\n",
       "\n",
       ".xr-has-index {\n",
       "  font-weight: bold;\n",
       "}\n",
       "\n",
       ".xr-var-list,\n",
       ".xr-var-item {\n",
       "  display: contents;\n",
       "}\n",
       "\n",
       ".xr-var-item > div,\n",
       ".xr-var-item label,\n",
       ".xr-var-item > .xr-var-name span {\n",
       "  background-color: var(--xr-background-color-row-even);\n",
       "  margin-bottom: 0;\n",
       "}\n",
       "\n",
       ".xr-var-item > .xr-var-name:hover span {\n",
       "  padding-right: 5px;\n",
       "}\n",
       "\n",
       ".xr-var-list > li:nth-child(odd) > div,\n",
       ".xr-var-list > li:nth-child(odd) > label,\n",
       ".xr-var-list > li:nth-child(odd) > .xr-var-name span {\n",
       "  background-color: var(--xr-background-color-row-odd);\n",
       "}\n",
       "\n",
       ".xr-var-name {\n",
       "  grid-column: 1;\n",
       "}\n",
       "\n",
       ".xr-var-dims {\n",
       "  grid-column: 2;\n",
       "}\n",
       "\n",
       ".xr-var-dtype {\n",
       "  grid-column: 3;\n",
       "  text-align: right;\n",
       "  color: var(--xr-font-color2);\n",
       "}\n",
       "\n",
       ".xr-var-preview {\n",
       "  grid-column: 4;\n",
       "}\n",
       "\n",
       ".xr-index-preview {\n",
       "  grid-column: 2 / 5;\n",
       "  color: var(--xr-font-color2);\n",
       "}\n",
       "\n",
       ".xr-var-name,\n",
       ".xr-var-dims,\n",
       ".xr-var-dtype,\n",
       ".xr-preview,\n",
       ".xr-attrs dt {\n",
       "  white-space: nowrap;\n",
       "  overflow: hidden;\n",
       "  text-overflow: ellipsis;\n",
       "  padding-right: 10px;\n",
       "}\n",
       "\n",
       ".xr-var-name:hover,\n",
       ".xr-var-dims:hover,\n",
       ".xr-var-dtype:hover,\n",
       ".xr-attrs dt:hover {\n",
       "  overflow: visible;\n",
       "  width: auto;\n",
       "  z-index: 1;\n",
       "}\n",
       "\n",
       ".xr-var-attrs,\n",
       ".xr-var-data,\n",
       ".xr-index-data {\n",
       "  display: none;\n",
       "  background-color: var(--xr-background-color) !important;\n",
       "  padding-bottom: 5px !important;\n",
       "}\n",
       "\n",
       ".xr-var-attrs-in:checked ~ .xr-var-attrs,\n",
       ".xr-var-data-in:checked ~ .xr-var-data,\n",
       ".xr-index-data-in:checked ~ .xr-index-data {\n",
       "  display: block;\n",
       "}\n",
       "\n",
       ".xr-var-data > table {\n",
       "  float: right;\n",
       "}\n",
       "\n",
       ".xr-var-name span,\n",
       ".xr-var-data,\n",
       ".xr-index-name div,\n",
       ".xr-index-data,\n",
       ".xr-attrs {\n",
       "  padding-left: 25px !important;\n",
       "}\n",
       "\n",
       ".xr-attrs,\n",
       ".xr-var-attrs,\n",
       ".xr-var-data,\n",
       ".xr-index-data {\n",
       "  grid-column: 1 / -1;\n",
       "}\n",
       "\n",
       "dl.xr-attrs {\n",
       "  padding: 0;\n",
       "  margin: 0;\n",
       "  display: grid;\n",
       "  grid-template-columns: 125px auto;\n",
       "}\n",
       "\n",
       ".xr-attrs dt,\n",
       ".xr-attrs dd {\n",
       "  padding: 0;\n",
       "  margin: 0;\n",
       "  float: left;\n",
       "  padding-right: 10px;\n",
       "  width: auto;\n",
       "}\n",
       "\n",
       ".xr-attrs dt {\n",
       "  font-weight: normal;\n",
       "  grid-column: 1;\n",
       "}\n",
       "\n",
       ".xr-attrs dt:hover span {\n",
       "  display: inline-block;\n",
       "  background: var(--xr-background-color);\n",
       "  padding-right: 10px;\n",
       "}\n",
       "\n",
       ".xr-attrs dd {\n",
       "  grid-column: 2;\n",
       "  white-space: pre-wrap;\n",
       "  word-break: break-all;\n",
       "}\n",
       "\n",
       ".xr-icon-database,\n",
       ".xr-icon-file-text2,\n",
       ".xr-no-icon {\n",
       "  display: inline-block;\n",
       "  vertical-align: middle;\n",
       "  width: 1em;\n",
       "  height: 1.5em !important;\n",
       "  stroke-width: 0;\n",
       "  stroke: currentColor;\n",
       "  fill: currentColor;\n",
       "}\n",
       "</style><pre class='xr-text-repr-fallback'>&lt;xarray.Dataset&gt; Size: 302kB\n",
       "Dimensions:  (time: 8395)\n",
       "Coordinates:\n",
       "  * time     (time) datetime64[ns] 67kB 1998-01-01T12:00:00 ... 2020-12-31T12...\n",
       "    day      (time) &lt;U5 168kB ...\n",
       "Data variables:\n",
       "    T        (time) float64 67kB ...</pre><div class='xr-wrap' style='display:none'><div class='xr-header'><div class='xr-obj-type'>xarray.Dataset</div></div><ul class='xr-sections'><li class='xr-section-item'><input id='section-cad23aa9-59a3-40b3-9618-c6995fa41abe' class='xr-section-summary-in' type='checkbox' disabled ><label for='section-cad23aa9-59a3-40b3-9618-c6995fa41abe' class='xr-section-summary'  title='Expand/collapse section'>Dimensions:</label><div class='xr-section-inline-details'><ul class='xr-dim-list'><li><span class='xr-has-index'>time</span>: 8395</li></ul></div><div class='xr-section-details'></div></li><li class='xr-section-item'><input id='section-ecfe7e7d-743e-427e-a152-c9baa7456f0e' class='xr-section-summary-in' type='checkbox'  checked><label for='section-ecfe7e7d-743e-427e-a152-c9baa7456f0e' class='xr-section-summary' >Coordinates: <span>(2)</span></label><div class='xr-section-inline-details'></div><div class='xr-section-details'><ul class='xr-var-list'><li class='xr-var-item'><div class='xr-var-name'><span class='xr-has-index'>time</span></div><div class='xr-var-dims'>(time)</div><div class='xr-var-dtype'>datetime64[ns]</div><div class='xr-var-preview xr-preview'>1998-01-01T12:00:00 ... 2020-12-...</div><input id='attrs-6e114e13-88fe-4356-bdb3-a31dc6d0d295' class='xr-var-attrs-in' type='checkbox' ><label for='attrs-6e114e13-88fe-4356-bdb3-a31dc6d0d295' title='Show/Hide attributes'><svg class='icon xr-icon-file-text2'><use xlink:href='#icon-file-text2'></use></svg></label><input id='data-611a150e-63fa-49fc-92ee-c4d0be915a42' class='xr-var-data-in' type='checkbox'><label for='data-611a150e-63fa-49fc-92ee-c4d0be915a42' title='Show/Hide data repr'><svg class='icon xr-icon-database'><use xlink:href='#icon-database'></use></svg></label><div class='xr-var-attrs'><dl class='xr-attrs'><dt><span>standard_name :</span></dt><dd>time</dd><dt><span>axis :</span></dt><dd>T</dd></dl></div><div class='xr-var-data'><pre>array([&#x27;1998-01-01T12:00:00.000000000&#x27;, &#x27;1998-01-02T12:00:00.000000000&#x27;,\n",
       "       &#x27;1998-01-03T12:00:00.000000000&#x27;, ..., &#x27;2020-12-29T12:00:00.000000000&#x27;,\n",
       "       &#x27;2020-12-30T12:00:00.000000000&#x27;, &#x27;2020-12-31T12:00:00.000000000&#x27;],\n",
       "      dtype=&#x27;datetime64[ns]&#x27;)</pre></div></li><li class='xr-var-item'><div class='xr-var-name'><span>day</span></div><div class='xr-var-dims'>(time)</div><div class='xr-var-dtype'>&lt;U5</div><div class='xr-var-preview xr-preview'>...</div><input id='attrs-64a214bb-2e6f-4f72-9536-455043da52f4' class='xr-var-attrs-in' type='checkbox' disabled><label for='attrs-64a214bb-2e6f-4f72-9536-455043da52f4' title='Show/Hide attributes'><svg class='icon xr-icon-file-text2'><use xlink:href='#icon-file-text2'></use></svg></label><input id='data-e6f9d8d0-f7b2-4430-a597-97e134784788' class='xr-var-data-in' type='checkbox'><label for='data-e6f9d8d0-f7b2-4430-a597-97e134784788' title='Show/Hide data repr'><svg class='icon xr-icon-database'><use xlink:href='#icon-database'></use></svg></label><div class='xr-var-attrs'><dl class='xr-attrs'></dl></div><div class='xr-var-data'><pre>[8395 values with dtype=&lt;U5]</pre></div></li></ul></div></li><li class='xr-section-item'><input id='section-42e211f7-805a-4ac1-8cf4-c73adaba9693' class='xr-section-summary-in' type='checkbox'  checked><label for='section-42e211f7-805a-4ac1-8cf4-c73adaba9693' class='xr-section-summary' >Data variables: <span>(1)</span></label><div class='xr-section-inline-details'></div><div class='xr-section-details'><ul class='xr-var-list'><li class='xr-var-item'><div class='xr-var-name'><span>T</span></div><div class='xr-var-dims'>(time)</div><div class='xr-var-dtype'>float64</div><div class='xr-var-preview xr-preview'>...</div><input id='attrs-fb21f65d-e81b-4d17-85d3-0d0fb1cd701d' class='xr-var-attrs-in' type='checkbox' disabled><label for='attrs-fb21f65d-e81b-4d17-85d3-0d0fb1cd701d' title='Show/Hide attributes'><svg class='icon xr-icon-file-text2'><use xlink:href='#icon-file-text2'></use></svg></label><input id='data-0a60bb10-1847-4e68-a799-479405a2321f' class='xr-var-data-in' type='checkbox'><label for='data-0a60bb10-1847-4e68-a799-479405a2321f' title='Show/Hide data repr'><svg class='icon xr-icon-database'><use xlink:href='#icon-database'></use></svg></label><div class='xr-var-attrs'><dl class='xr-attrs'></dl></div><div class='xr-var-data'><pre>[8395 values with dtype=float64]</pre></div></li></ul></div></li><li class='xr-section-item'><input id='section-f1764e6c-ab99-44fd-8e9c-b368366f63ce' class='xr-section-summary-in' type='checkbox'  ><label for='section-f1764e6c-ab99-44fd-8e9c-b368366f63ce' class='xr-section-summary' >Indexes: <span>(1)</span></label><div class='xr-section-inline-details'></div><div class='xr-section-details'><ul class='xr-var-list'><li class='xr-var-item'><div class='xr-index-name'><div>time</div></div><div class='xr-index-preview'>PandasIndex</div><input type='checkbox' disabled/><label></label><input id='index-e27fc382-d18d-40ea-89b8-07a2d2a92d21' class='xr-index-data-in' type='checkbox'/><label for='index-e27fc382-d18d-40ea-89b8-07a2d2a92d21' title='Show/Hide index repr'><svg class='icon xr-icon-database'><use xlink:href='#icon-database'></use></svg></label><div class='xr-index-data'><pre>PandasIndex(DatetimeIndex([&#x27;1998-01-01 12:00:00&#x27;, &#x27;1998-01-02 12:00:00&#x27;,\n",
       "               &#x27;1998-01-03 12:00:00&#x27;, &#x27;1998-01-04 12:00:00&#x27;,\n",
       "               &#x27;1998-01-05 12:00:00&#x27;, &#x27;1998-01-06 12:00:00&#x27;,\n",
       "               &#x27;1998-01-07 12:00:00&#x27;, &#x27;1998-01-08 12:00:00&#x27;,\n",
       "               &#x27;1998-01-09 12:00:00&#x27;, &#x27;1998-01-10 12:00:00&#x27;,\n",
       "               ...\n",
       "               &#x27;2020-12-22 12:00:00&#x27;, &#x27;2020-12-23 12:00:00&#x27;,\n",
       "               &#x27;2020-12-24 12:00:00&#x27;, &#x27;2020-12-25 12:00:00&#x27;,\n",
       "               &#x27;2020-12-26 12:00:00&#x27;, &#x27;2020-12-27 12:00:00&#x27;,\n",
       "               &#x27;2020-12-28 12:00:00&#x27;, &#x27;2020-12-29 12:00:00&#x27;,\n",
       "               &#x27;2020-12-30 12:00:00&#x27;, &#x27;2020-12-31 12:00:00&#x27;],\n",
       "              dtype=&#x27;datetime64[ns]&#x27;, name=&#x27;time&#x27;, length=8395, freq=None))</pre></div></li></ul></div></li><li class='xr-section-item'><input id='section-2001ec32-e1e2-4c32-8c55-a0930c9fb7d4' class='xr-section-summary-in' type='checkbox' disabled ><label for='section-2001ec32-e1e2-4c32-8c55-a0930c9fb7d4' class='xr-section-summary'  title='Expand/collapse section'>Attributes: <span>(0)</span></label><div class='xr-section-inline-details'></div><div class='xr-section-details'><dl class='xr-attrs'></dl></div></li></ul></div></div>"
      ],
      "text/plain": [
       "<xarray.Dataset> Size: 302kB\n",
       "Dimensions:  (time: 8395)\n",
       "Coordinates:\n",
       "  * time     (time) datetime64[ns] 67kB 1998-01-01T12:00:00 ... 2020-12-31T12...\n",
       "    day      (time) <U5 168kB ...\n",
       "Data variables:\n",
       "    T        (time) float64 67kB ..."
      ]
     },
     "execution_count": 7,
     "metadata": {},
     "output_type": "execute_result"
    }
   ],
   "source": [
    "ds_temp"
   ]
  },
  {
   "cell_type": "code",
   "execution_count": 8,
   "id": "3f78bd27",
   "metadata": {},
   "outputs": [
    {
     "data": {
      "text/html": [
       "<div><svg style=\"position: absolute; width: 0; height: 0; overflow: hidden\">\n",
       "<defs>\n",
       "<symbol id=\"icon-database\" viewBox=\"0 0 32 32\">\n",
       "<path d=\"M16 0c-8.837 0-16 2.239-16 5v4c0 2.761 7.163 5 16 5s16-2.239 16-5v-4c0-2.761-7.163-5-16-5z\"></path>\n",
       "<path d=\"M16 17c-8.837 0-16-2.239-16-5v6c0 2.761 7.163 5 16 5s16-2.239 16-5v-6c0 2.761-7.163 5-16 5z\"></path>\n",
       "<path d=\"M16 26c-8.837 0-16-2.239-16-5v6c0 2.761 7.163 5 16 5s16-2.239 16-5v-6c0 2.761-7.163 5-16 5z\"></path>\n",
       "</symbol>\n",
       "<symbol id=\"icon-file-text2\" viewBox=\"0 0 32 32\">\n",
       "<path d=\"M28.681 7.159c-0.694-0.947-1.662-2.053-2.724-3.116s-2.169-2.030-3.116-2.724c-1.612-1.182-2.393-1.319-2.841-1.319h-15.5c-1.378 0-2.5 1.121-2.5 2.5v27c0 1.378 1.122 2.5 2.5 2.5h23c1.378 0 2.5-1.122 2.5-2.5v-19.5c0-0.448-0.137-1.23-1.319-2.841zM24.543 5.457c0.959 0.959 1.712 1.825 2.268 2.543h-4.811v-4.811c0.718 0.556 1.584 1.309 2.543 2.268zM28 29.5c0 0.271-0.229 0.5-0.5 0.5h-23c-0.271 0-0.5-0.229-0.5-0.5v-27c0-0.271 0.229-0.5 0.5-0.5 0 0 15.499-0 15.5 0v7c0 0.552 0.448 1 1 1h7v19.5z\"></path>\n",
       "<path d=\"M23 26h-14c-0.552 0-1-0.448-1-1s0.448-1 1-1h14c0.552 0 1 0.448 1 1s-0.448 1-1 1z\"></path>\n",
       "<path d=\"M23 22h-14c-0.552 0-1-0.448-1-1s0.448-1 1-1h14c0.552 0 1 0.448 1 1s-0.448 1-1 1z\"></path>\n",
       "<path d=\"M23 18h-14c-0.552 0-1-0.448-1-1s0.448-1 1-1h14c0.552 0 1 0.448 1 1s-0.448 1-1 1z\"></path>\n",
       "</symbol>\n",
       "</defs>\n",
       "</svg>\n",
       "<style>/* CSS stylesheet for displaying xarray objects in jupyterlab.\n",
       " *\n",
       " */\n",
       "\n",
       ":root {\n",
       "  --xr-font-color0: var(--jp-content-font-color0, rgba(0, 0, 0, 1));\n",
       "  --xr-font-color2: var(--jp-content-font-color2, rgba(0, 0, 0, 0.54));\n",
       "  --xr-font-color3: var(--jp-content-font-color3, rgba(0, 0, 0, 0.38));\n",
       "  --xr-border-color: var(--jp-border-color2, #e0e0e0);\n",
       "  --xr-disabled-color: var(--jp-layout-color3, #bdbdbd);\n",
       "  --xr-background-color: var(--jp-layout-color0, white);\n",
       "  --xr-background-color-row-even: var(--jp-layout-color1, white);\n",
       "  --xr-background-color-row-odd: var(--jp-layout-color2, #eeeeee);\n",
       "}\n",
       "\n",
       "html[theme=\"dark\"],\n",
       "html[data-theme=\"dark\"],\n",
       "body[data-theme=\"dark\"],\n",
       "body.vscode-dark {\n",
       "  --xr-font-color0: rgba(255, 255, 255, 1);\n",
       "  --xr-font-color2: rgba(255, 255, 255, 0.54);\n",
       "  --xr-font-color3: rgba(255, 255, 255, 0.38);\n",
       "  --xr-border-color: #1f1f1f;\n",
       "  --xr-disabled-color: #515151;\n",
       "  --xr-background-color: #111111;\n",
       "  --xr-background-color-row-even: #111111;\n",
       "  --xr-background-color-row-odd: #313131;\n",
       "}\n",
       "\n",
       ".xr-wrap {\n",
       "  display: block !important;\n",
       "  min-width: 300px;\n",
       "  max-width: 700px;\n",
       "}\n",
       "\n",
       ".xr-text-repr-fallback {\n",
       "  /* fallback to plain text repr when CSS is not injected (untrusted notebook) */\n",
       "  display: none;\n",
       "}\n",
       "\n",
       ".xr-header {\n",
       "  padding-top: 6px;\n",
       "  padding-bottom: 6px;\n",
       "  margin-bottom: 4px;\n",
       "  border-bottom: solid 1px var(--xr-border-color);\n",
       "}\n",
       "\n",
       ".xr-header > div,\n",
       ".xr-header > ul {\n",
       "  display: inline;\n",
       "  margin-top: 0;\n",
       "  margin-bottom: 0;\n",
       "}\n",
       "\n",
       ".xr-obj-type,\n",
       ".xr-array-name {\n",
       "  margin-left: 2px;\n",
       "  margin-right: 10px;\n",
       "}\n",
       "\n",
       ".xr-obj-type {\n",
       "  color: var(--xr-font-color2);\n",
       "}\n",
       "\n",
       ".xr-sections {\n",
       "  padding-left: 0 !important;\n",
       "  display: grid;\n",
       "  grid-template-columns: 150px auto auto 1fr 0 20px 0 20px;\n",
       "}\n",
       "\n",
       ".xr-section-item {\n",
       "  display: contents;\n",
       "}\n",
       "\n",
       ".xr-section-item input {\n",
       "  display: inline-block;\n",
       "  opacity: 0;\n",
       "  height: 0;\n",
       "}\n",
       "\n",
       ".xr-section-item input + label {\n",
       "  color: var(--xr-disabled-color);\n",
       "}\n",
       "\n",
       ".xr-section-item input:enabled + label {\n",
       "  cursor: pointer;\n",
       "  color: var(--xr-font-color2);\n",
       "}\n",
       "\n",
       ".xr-section-item input:focus + label {\n",
       "  border: 2px solid var(--xr-font-color0);\n",
       "}\n",
       "\n",
       ".xr-section-item input:enabled + label:hover {\n",
       "  color: var(--xr-font-color0);\n",
       "}\n",
       "\n",
       ".xr-section-summary {\n",
       "  grid-column: 1;\n",
       "  color: var(--xr-font-color2);\n",
       "  font-weight: 500;\n",
       "}\n",
       "\n",
       ".xr-section-summary > span {\n",
       "  display: inline-block;\n",
       "  padding-left: 0.5em;\n",
       "}\n",
       "\n",
       ".xr-section-summary-in:disabled + label {\n",
       "  color: var(--xr-font-color2);\n",
       "}\n",
       "\n",
       ".xr-section-summary-in + label:before {\n",
       "  display: inline-block;\n",
       "  content: \"►\";\n",
       "  font-size: 11px;\n",
       "  width: 15px;\n",
       "  text-align: center;\n",
       "}\n",
       "\n",
       ".xr-section-summary-in:disabled + label:before {\n",
       "  color: var(--xr-disabled-color);\n",
       "}\n",
       "\n",
       ".xr-section-summary-in:checked + label:before {\n",
       "  content: \"▼\";\n",
       "}\n",
       "\n",
       ".xr-section-summary-in:checked + label > span {\n",
       "  display: none;\n",
       "}\n",
       "\n",
       ".xr-section-summary,\n",
       ".xr-section-inline-details {\n",
       "  padding-top: 4px;\n",
       "  padding-bottom: 4px;\n",
       "}\n",
       "\n",
       ".xr-section-inline-details {\n",
       "  grid-column: 2 / -1;\n",
       "}\n",
       "\n",
       ".xr-section-details {\n",
       "  display: none;\n",
       "  grid-column: 1 / -1;\n",
       "  margin-bottom: 5px;\n",
       "}\n",
       "\n",
       ".xr-section-summary-in:checked ~ .xr-section-details {\n",
       "  display: contents;\n",
       "}\n",
       "\n",
       ".xr-array-wrap {\n",
       "  grid-column: 1 / -1;\n",
       "  display: grid;\n",
       "  grid-template-columns: 20px auto;\n",
       "}\n",
       "\n",
       ".xr-array-wrap > label {\n",
       "  grid-column: 1;\n",
       "  vertical-align: top;\n",
       "}\n",
       "\n",
       ".xr-preview {\n",
       "  color: var(--xr-font-color3);\n",
       "}\n",
       "\n",
       ".xr-array-preview,\n",
       ".xr-array-data {\n",
       "  padding: 0 5px !important;\n",
       "  grid-column: 2;\n",
       "}\n",
       "\n",
       ".xr-array-data,\n",
       ".xr-array-in:checked ~ .xr-array-preview {\n",
       "  display: none;\n",
       "}\n",
       "\n",
       ".xr-array-in:checked ~ .xr-array-data,\n",
       ".xr-array-preview {\n",
       "  display: inline-block;\n",
       "}\n",
       "\n",
       ".xr-dim-list {\n",
       "  display: inline-block !important;\n",
       "  list-style: none;\n",
       "  padding: 0 !important;\n",
       "  margin: 0;\n",
       "}\n",
       "\n",
       ".xr-dim-list li {\n",
       "  display: inline-block;\n",
       "  padding: 0;\n",
       "  margin: 0;\n",
       "}\n",
       "\n",
       ".xr-dim-list:before {\n",
       "  content: \"(\";\n",
       "}\n",
       "\n",
       ".xr-dim-list:after {\n",
       "  content: \")\";\n",
       "}\n",
       "\n",
       ".xr-dim-list li:not(:last-child):after {\n",
       "  content: \",\";\n",
       "  padding-right: 5px;\n",
       "}\n",
       "\n",
       ".xr-has-index {\n",
       "  font-weight: bold;\n",
       "}\n",
       "\n",
       ".xr-var-list,\n",
       ".xr-var-item {\n",
       "  display: contents;\n",
       "}\n",
       "\n",
       ".xr-var-item > div,\n",
       ".xr-var-item label,\n",
       ".xr-var-item > .xr-var-name span {\n",
       "  background-color: var(--xr-background-color-row-even);\n",
       "  margin-bottom: 0;\n",
       "}\n",
       "\n",
       ".xr-var-item > .xr-var-name:hover span {\n",
       "  padding-right: 5px;\n",
       "}\n",
       "\n",
       ".xr-var-list > li:nth-child(odd) > div,\n",
       ".xr-var-list > li:nth-child(odd) > label,\n",
       ".xr-var-list > li:nth-child(odd) > .xr-var-name span {\n",
       "  background-color: var(--xr-background-color-row-odd);\n",
       "}\n",
       "\n",
       ".xr-var-name {\n",
       "  grid-column: 1;\n",
       "}\n",
       "\n",
       ".xr-var-dims {\n",
       "  grid-column: 2;\n",
       "}\n",
       "\n",
       ".xr-var-dtype {\n",
       "  grid-column: 3;\n",
       "  text-align: right;\n",
       "  color: var(--xr-font-color2);\n",
       "}\n",
       "\n",
       ".xr-var-preview {\n",
       "  grid-column: 4;\n",
       "}\n",
       "\n",
       ".xr-index-preview {\n",
       "  grid-column: 2 / 5;\n",
       "  color: var(--xr-font-color2);\n",
       "}\n",
       "\n",
       ".xr-var-name,\n",
       ".xr-var-dims,\n",
       ".xr-var-dtype,\n",
       ".xr-preview,\n",
       ".xr-attrs dt {\n",
       "  white-space: nowrap;\n",
       "  overflow: hidden;\n",
       "  text-overflow: ellipsis;\n",
       "  padding-right: 10px;\n",
       "}\n",
       "\n",
       ".xr-var-name:hover,\n",
       ".xr-var-dims:hover,\n",
       ".xr-var-dtype:hover,\n",
       ".xr-attrs dt:hover {\n",
       "  overflow: visible;\n",
       "  width: auto;\n",
       "  z-index: 1;\n",
       "}\n",
       "\n",
       ".xr-var-attrs,\n",
       ".xr-var-data,\n",
       ".xr-index-data {\n",
       "  display: none;\n",
       "  background-color: var(--xr-background-color) !important;\n",
       "  padding-bottom: 5px !important;\n",
       "}\n",
       "\n",
       ".xr-var-attrs-in:checked ~ .xr-var-attrs,\n",
       ".xr-var-data-in:checked ~ .xr-var-data,\n",
       ".xr-index-data-in:checked ~ .xr-index-data {\n",
       "  display: block;\n",
       "}\n",
       "\n",
       ".xr-var-data > table {\n",
       "  float: right;\n",
       "}\n",
       "\n",
       ".xr-var-name span,\n",
       ".xr-var-data,\n",
       ".xr-index-name div,\n",
       ".xr-index-data,\n",
       ".xr-attrs {\n",
       "  padding-left: 25px !important;\n",
       "}\n",
       "\n",
       ".xr-attrs,\n",
       ".xr-var-attrs,\n",
       ".xr-var-data,\n",
       ".xr-index-data {\n",
       "  grid-column: 1 / -1;\n",
       "}\n",
       "\n",
       "dl.xr-attrs {\n",
       "  padding: 0;\n",
       "  margin: 0;\n",
       "  display: grid;\n",
       "  grid-template-columns: 125px auto;\n",
       "}\n",
       "\n",
       ".xr-attrs dt,\n",
       ".xr-attrs dd {\n",
       "  padding: 0;\n",
       "  margin: 0;\n",
       "  float: left;\n",
       "  padding-right: 10px;\n",
       "  width: auto;\n",
       "}\n",
       "\n",
       ".xr-attrs dt {\n",
       "  font-weight: normal;\n",
       "  grid-column: 1;\n",
       "}\n",
       "\n",
       ".xr-attrs dt:hover span {\n",
       "  display: inline-block;\n",
       "  background: var(--xr-background-color);\n",
       "  padding-right: 10px;\n",
       "}\n",
       "\n",
       ".xr-attrs dd {\n",
       "  grid-column: 2;\n",
       "  white-space: pre-wrap;\n",
       "  word-break: break-all;\n",
       "}\n",
       "\n",
       ".xr-icon-database,\n",
       ".xr-icon-file-text2,\n",
       ".xr-no-icon {\n",
       "  display: inline-block;\n",
       "  vertical-align: middle;\n",
       "  width: 1em;\n",
       "  height: 1.5em !important;\n",
       "  stroke-width: 0;\n",
       "  stroke: currentColor;\n",
       "  fill: currentColor;\n",
       "}\n",
       "</style><pre class='xr-text-repr-fallback'>&lt;xarray.Dataset&gt; Size: 10kB\n",
       "Dimensions:  (day: 365)\n",
       "Coordinates:\n",
       "  * day      (day) &lt;U5 7kB &#x27;01-01&#x27; &#x27;01-02&#x27; &#x27;01-03&#x27; ... &#x27;12-29&#x27; &#x27;12-30&#x27; &#x27;12-31&#x27;\n",
       "Data variables:\n",
       "    T        (day) float64 3kB ...</pre><div class='xr-wrap' style='display:none'><div class='xr-header'><div class='xr-obj-type'>xarray.Dataset</div></div><ul class='xr-sections'><li class='xr-section-item'><input id='section-6f1f5c4e-428d-4ea9-b669-c34b493bca0c' class='xr-section-summary-in' type='checkbox' disabled ><label for='section-6f1f5c4e-428d-4ea9-b669-c34b493bca0c' class='xr-section-summary'  title='Expand/collapse section'>Dimensions:</label><div class='xr-section-inline-details'><ul class='xr-dim-list'><li><span class='xr-has-index'>day</span>: 365</li></ul></div><div class='xr-section-details'></div></li><li class='xr-section-item'><input id='section-3ac835ca-09ba-418f-839e-185233d2f9ac' class='xr-section-summary-in' type='checkbox'  checked><label for='section-3ac835ca-09ba-418f-839e-185233d2f9ac' class='xr-section-summary' >Coordinates: <span>(1)</span></label><div class='xr-section-inline-details'></div><div class='xr-section-details'><ul class='xr-var-list'><li class='xr-var-item'><div class='xr-var-name'><span class='xr-has-index'>day</span></div><div class='xr-var-dims'>(day)</div><div class='xr-var-dtype'>&lt;U5</div><div class='xr-var-preview xr-preview'>&#x27;01-01&#x27; &#x27;01-02&#x27; ... &#x27;12-30&#x27; &#x27;12-31&#x27;</div><input id='attrs-36cb4f4c-00e2-4cb5-bcac-b478fbdd7c4a' class='xr-var-attrs-in' type='checkbox' disabled><label for='attrs-36cb4f4c-00e2-4cb5-bcac-b478fbdd7c4a' title='Show/Hide attributes'><svg class='icon xr-icon-file-text2'><use xlink:href='#icon-file-text2'></use></svg></label><input id='data-e279f715-c2f2-4fed-945a-6326aabb1851' class='xr-var-data-in' type='checkbox'><label for='data-e279f715-c2f2-4fed-945a-6326aabb1851' title='Show/Hide data repr'><svg class='icon xr-icon-database'><use xlink:href='#icon-database'></use></svg></label><div class='xr-var-attrs'><dl class='xr-attrs'></dl></div><div class='xr-var-data'><pre>array([&#x27;01-01&#x27;, &#x27;01-02&#x27;, &#x27;01-03&#x27;, ..., &#x27;12-29&#x27;, &#x27;12-30&#x27;, &#x27;12-31&#x27;], dtype=&#x27;&lt;U5&#x27;)</pre></div></li></ul></div></li><li class='xr-section-item'><input id='section-ca07ccbf-5090-4043-a924-3aade87e91b6' class='xr-section-summary-in' type='checkbox'  checked><label for='section-ca07ccbf-5090-4043-a924-3aade87e91b6' class='xr-section-summary' >Data variables: <span>(1)</span></label><div class='xr-section-inline-details'></div><div class='xr-section-details'><ul class='xr-var-list'><li class='xr-var-item'><div class='xr-var-name'><span>T</span></div><div class='xr-var-dims'>(day)</div><div class='xr-var-dtype'>float64</div><div class='xr-var-preview xr-preview'>...</div><input id='attrs-f2f8962e-b0a6-4a1a-84ff-296b0a7a1c95' class='xr-var-attrs-in' type='checkbox' disabled><label for='attrs-f2f8962e-b0a6-4a1a-84ff-296b0a7a1c95' title='Show/Hide attributes'><svg class='icon xr-icon-file-text2'><use xlink:href='#icon-file-text2'></use></svg></label><input id='data-9a8e534c-b5a0-468c-be12-6e39ff728f08' class='xr-var-data-in' type='checkbox'><label for='data-9a8e534c-b5a0-468c-be12-6e39ff728f08' title='Show/Hide data repr'><svg class='icon xr-icon-database'><use xlink:href='#icon-database'></use></svg></label><div class='xr-var-attrs'><dl class='xr-attrs'></dl></div><div class='xr-var-data'><pre>[365 values with dtype=float64]</pre></div></li></ul></div></li><li class='xr-section-item'><input id='section-b1b11d81-5ad5-4bc8-b88c-d67da5ab43af' class='xr-section-summary-in' type='checkbox'  ><label for='section-b1b11d81-5ad5-4bc8-b88c-d67da5ab43af' class='xr-section-summary' >Indexes: <span>(1)</span></label><div class='xr-section-inline-details'></div><div class='xr-section-details'><ul class='xr-var-list'><li class='xr-var-item'><div class='xr-index-name'><div>day</div></div><div class='xr-index-preview'>PandasIndex</div><input type='checkbox' disabled/><label></label><input id='index-4098370c-5aaa-4dd3-9b9d-6fa4621695df' class='xr-index-data-in' type='checkbox'/><label for='index-4098370c-5aaa-4dd3-9b9d-6fa4621695df' title='Show/Hide index repr'><svg class='icon xr-icon-database'><use xlink:href='#icon-database'></use></svg></label><div class='xr-index-data'><pre>PandasIndex(Index([&#x27;01-01&#x27;, &#x27;01-02&#x27;, &#x27;01-03&#x27;, &#x27;01-04&#x27;, &#x27;01-05&#x27;, &#x27;01-06&#x27;, &#x27;01-07&#x27;, &#x27;01-08&#x27;,\n",
       "       &#x27;01-09&#x27;, &#x27;01-10&#x27;,\n",
       "       ...\n",
       "       &#x27;12-22&#x27;, &#x27;12-23&#x27;, &#x27;12-24&#x27;, &#x27;12-25&#x27;, &#x27;12-26&#x27;, &#x27;12-27&#x27;, &#x27;12-28&#x27;, &#x27;12-29&#x27;,\n",
       "       &#x27;12-30&#x27;, &#x27;12-31&#x27;],\n",
       "      dtype=&#x27;object&#x27;, name=&#x27;day&#x27;, length=365))</pre></div></li></ul></div></li><li class='xr-section-item'><input id='section-86251fcb-8f9f-4872-8e4c-2110479353b8' class='xr-section-summary-in' type='checkbox' disabled ><label for='section-86251fcb-8f9f-4872-8e4c-2110479353b8' class='xr-section-summary'  title='Expand/collapse section'>Attributes: <span>(0)</span></label><div class='xr-section-inline-details'></div><div class='xr-section-details'><dl class='xr-attrs'></dl></div></li></ul></div></div>"
      ],
      "text/plain": [
       "<xarray.Dataset> Size: 10kB\n",
       "Dimensions:  (day: 365)\n",
       "Coordinates:\n",
       "  * day      (day) <U5 7kB '01-01' '01-02' '01-03' ... '12-29' '12-30' '12-31'\n",
       "Data variables:\n",
       "    T        (day) float64 3kB ..."
      ]
     },
     "execution_count": 8,
     "metadata": {},
     "output_type": "execute_result"
    }
   ],
   "source": [
    "ds_clim_T"
   ]
  },
  {
   "cell_type": "code",
   "execution_count": 98,
   "id": "09eb3796",
   "metadata": {},
   "outputs": [
    {
     "data": {
      "application/vnd.plotly.v1+json": {
       "config": {
        "plotlyServerURL": "https://plot.ly"
       },
       "data": [
        {
         "line": {
          "width": 1
         },
         "mode": "lines",
         "name": "1998",
         "showlegend": true,
         "type": "scatter",
         "x": {
          "bdata": "AQACAAMABAAFAAYABwAIAAkACgALAAwADQAOAA8AEAARABIAEwAUABUAFgAXABgAGQAaABsAHAAdAB4AHwAgACEAIgAjACQAJQAmACcAKAApACoAKwAsAC0ALgAvADAAMQAyADMANAA1ADYANwA4ADkAOgA7ADwAPQA+AD8AQABBAEIAQwBEAEUARgBHAEgASQBKAEsATABNAE4ATwBQAFEAUgBTAFQAVQBWAFcAWABZAFoAWwBcAF0AXgBfAGAAYQBiAGMAZABlAGYAZwBoAGkAagBrAGwAbQBuAG8AcABxAHIAcwB0AHUAdgB3AHgAeQB6AHsAfAB9AH4AfwCAAIEAggCDAIQAhQCGAIcAiACJAIoAiwCMAI0AjgCPAJAAkQCSAJMAlACVAJYAlwCYAJkAmgCbAJwAnQCeAJ8AoAChAKIAowCkAKUApgCnAKgAqQCqAKsArACtAK4ArwCwALEAsgCzALQAtQC2ALcAuAC5ALoAuwC8AL0AvgC/AMAAwQDCAMMAxADFAMYAxwDIAMkAygDLAMwAzQDOAM8A0ADRANIA0wDUANUA1gDXANgA2QDaANsA3ADdAN4A3wDgAOEA4gDjAOQA5QDmAOcA6ADpAOoA6wDsAO0A7gDvAPAA8QDyAPMA9AD1APYA9wD4APkA+gD7APwA/QD+AP8AAAEBAQIBAwEEAQUBBgEHAQgBCQEKAQsBDAENAQ4BDwEQAREBEgETARQBFQEWARcBGAEZARoBGwEcAR0BHgEfASABIQEiASMBJAElASYBJwEoASkBKgErASwBLQEuAS8BMAExATIBMwE0ATUBNgE3ATgBOQE6ATsBPAE9AT4BPwFAAUEBQgFDAUQBRQFGAUcBSAFJAUoBSwFMAU0BTgFPAVABUQFSAVMBVAFVAVYBVwFYAVkBWgFbAVwBXQFeAV8BYAFhAWIBYwFkAWUBZgFnAWgBaQFqAWsBbAFtAQ==",
          "dtype": "i2"
         },
         "y": {
          "bdata": "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",
          "dtype": "f8"
         }
        },
        {
         "line": {
          "width": 1
         },
         "mode": "lines",
         "name": "1999",
         "showlegend": true,
         "type": "scatter",
         "x": {
          "bdata": "AQACAAMABAAFAAYABwAIAAkACgALAAwADQAOAA8AEAARABIAEwAUABUAFgAXABgAGQAaABsAHAAdAB4AHwAgACEAIgAjACQAJQAmACcAKAApACoAKwAsAC0ALgAvADAAMQAyADMANAA1ADYANwA4ADkAOgA7ADwAPQA+AD8AQABBAEIAQwBEAEUARgBHAEgASQBKAEsATABNAE4ATwBQAFEAUgBTAFQAVQBWAFcAWABZAFoAWwBcAF0AXgBfAGAAYQBiAGMAZABlAGYAZwBoAGkAagBrAGwAbQBuAG8AcABxAHIAcwB0AHUAdgB3AHgAeQB6AHsAfAB9AH4AfwCAAIEAggCDAIQAhQCGAIcAiACJAIoAiwCMAI0AjgCPAJAAkQCSAJMAlACVAJYAlwCYAJkAmgCbAJwAnQCeAJ8AoAChAKIAowCkAKUApgCnAKgAqQCqAKsArACtAK4ArwCwALEAsgCzALQAtQC2ALcAuAC5ALoAuwC8AL0AvgC/AMAAwQDCAMMAxADFAMYAxwDIAMkAygDLAMwAzQDOAM8A0ADRANIA0wDUANUA1gDXANgA2QDaANsA3ADdAN4A3wDgAOEA4gDjAOQA5QDmAOcA6ADpAOoA6wDsAO0A7gDvAPAA8QDyAPMA9AD1APYA9wD4APkA+gD7APwA/QD+AP8AAAEBAQIBAwEEAQUBBgEHAQgBCQEKAQsBDAENAQ4BDwEQAREBEgETARQBFQEWARcBGAEZARoBGwEcAR0BHgEfASABIQEiASMBJAElASYBJwEoASkBKgErASwBLQEuAS8BMAExATIBMwE0ATUBNgE3ATgBOQE6ATsBPAE9AT4BPwFAAUEBQgFDAUQBRQFGAUcBSAFJAUoBSwFMAU0BTgFPAVABUQFSAVMBVAFVAVYBVwFYAVkBWgFbAVwBXQFeAV8BYAFhAWIBYwFkAWUBZgFnAWgBaQFqAWsBbAFtAQ==",
          "dtype": "i2"
         },
         "y": {
          "bdata": "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",
          "dtype": "f8"
         }
        },
        {
         "line": {
          "width": 1
         },
         "mode": "lines",
         "name": "2000",
         "showlegend": true,
         "type": "scatter",
         "x": {
          "bdata": "AQACAAMABAAFAAYABwAIAAkACgALAAwADQAOAA8AEAARABIAEwAUABUAFgAXABgAGQAaABsAHAAdAB4AHwAgACEAIgAjACQAJQAmACcAKAApACoAKwAsAC0ALgAvADAAMQAyADMANAA1ADYANwA4ADkAOgA7ADwAPQA+AD8AQABBAEIAQwBEAEUARgBHAEgASQBKAEsATABNAE4ATwBQAFEAUgBTAFQAVQBWAFcAWABZAFoAWwBcAF0AXgBfAGAAYQBiAGMAZABlAGYAZwBoAGkAagBrAGwAbQBuAG8AcABxAHIAcwB0AHUAdgB3AHgAeQB6AHsAfAB9AH4AfwCAAIEAggCDAIQAhQCGAIcAiACJAIoAiwCMAI0AjgCPAJAAkQCSAJMAlACVAJYAlwCYAJkAmgCbAJwAnQCeAJ8AoAChAKIAowCkAKUApgCnAKgAqQCqAKsArACtAK4ArwCwALEAsgCzALQAtQC2ALcAuAC5ALoAuwC8AL0AvgC/AMAAwQDCAMMAxADFAMYAxwDIAMkAygDLAMwAzQDOAM8A0ADRANIA0wDUANUA1gDXANgA2QDaANsA3ADdAN4A3wDgAOEA4gDjAOQA5QDmAOcA6ADpAOoA6wDsAO0A7gDvAPAA8QDyAPMA9AD1APYA9wD4APkA+gD7APwA/QD+AP8AAAEBAQIBAwEEAQUBBgEHAQgBCQEKAQsBDAENAQ4BDwEQAREBEgETARQBFQEWARcBGAEZARoBGwEcAR0BHgEfASABIQEiASMBJAElASYBJwEoASkBKgErASwBLQEuAS8BMAExATIBMwE0ATUBNgE3ATgBOQE6ATsBPAE9AT4BPwFAAUEBQgFDAUQBRQFGAUcBSAFJAUoBSwFMAU0BTgFPAVABUQFSAVMBVAFVAVYBVwFYAVkBWgFbAVwBXQFeAV8BYAFhAWIBYwFkAWUBZgFnAWgBaQFqAWsBbAFtAQ==",
          "dtype": "i2"
         },
         "y": {
          "bdata": "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",
          "dtype": "f8"
         }
        },
        {
         "line": {
          "width": 1
         },
         "mode": "lines",
         "name": "2001",
         "showlegend": true,
         "type": "scatter",
         "x": {
          "bdata": "AQACAAMABAAFAAYABwAIAAkACgALAAwADQAOAA8AEAARABIAEwAUABUAFgAXABgAGQAaABsAHAAdAB4AHwAgACEAIgAjACQAJQAmACcAKAApACoAKwAsAC0ALgAvADAAMQAyADMANAA1ADYANwA4ADkAOgA7ADwAPQA+AD8AQABBAEIAQwBEAEUARgBHAEgASQBKAEsATABNAE4ATwBQAFEAUgBTAFQAVQBWAFcAWABZAFoAWwBcAF0AXgBfAGAAYQBiAGMAZABlAGYAZwBoAGkAagBrAGwAbQBuAG8AcABxAHIAcwB0AHUAdgB3AHgAeQB6AHsAfAB9AH4AfwCAAIEAggCDAIQAhQCGAIcAiACJAIoAiwCMAI0AjgCPAJAAkQCSAJMAlACVAJYAlwCYAJkAmgCbAJwAnQCeAJ8AoAChAKIAowCkAKUApgCnAKgAqQCqAKsArACtAK4ArwCwALEAsgCzALQAtQC2ALcAuAC5ALoAuwC8AL0AvgC/AMAAwQDCAMMAxADFAMYAxwDIAMkAygDLAMwAzQDOAM8A0ADRANIA0wDUANUA1gDXANgA2QDaANsA3ADdAN4A3wDgAOEA4gDjAOQA5QDmAOcA6ADpAOoA6wDsAO0A7gDvAPAA8QDyAPMA9AD1APYA9wD4APkA+gD7APwA/QD+AP8AAAEBAQIBAwEEAQUBBgEHAQgBCQEKAQsBDAENAQ4BDwEQAREBEgETARQBFQEWARcBGAEZARoBGwEcAR0BHgEfASABIQEiASMBJAElASYBJwEoASkBKgErASwBLQEuAS8BMAExATIBMwE0ATUBNgE3ATgBOQE6ATsBPAE9AT4BPwFAAUEBQgFDAUQBRQFGAUcBSAFJAUoBSwFMAU0BTgFPAVABUQFSAVMBVAFVAVYBVwFYAVkBWgFbAVwBXQFeAV8BYAFhAWIBYwFkAWUBZgFnAWgBaQFqAWsBbAFtAQ==",
          "dtype": "i2"
         },
         "y": {
          "bdata": "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",
          "dtype": "f8"
         }
        },
        {
         "line": {
          "width": 1
         },
         "mode": "lines",
         "name": "2002",
         "showlegend": true,
         "type": "scatter",
         "x": {
          "bdata": "AQACAAMABAAFAAYABwAIAAkACgALAAwADQAOAA8AEAARABIAEwAUABUAFgAXABgAGQAaABsAHAAdAB4AHwAgACEAIgAjACQAJQAmACcAKAApACoAKwAsAC0ALgAvADAAMQAyADMANAA1ADYANwA4ADkAOgA7ADwAPQA+AD8AQABBAEIAQwBEAEUARgBHAEgASQBKAEsATABNAE4ATwBQAFEAUgBTAFQAVQBWAFcAWABZAFoAWwBcAF0AXgBfAGAAYQBiAGMAZABlAGYAZwBoAGkAagBrAGwAbQBuAG8AcABxAHIAcwB0AHUAdgB3AHgAeQB6AHsAfAB9AH4AfwCAAIEAggCDAIQAhQCGAIcAiACJAIoAiwCMAI0AjgCPAJAAkQCSAJMAlACVAJYAlwCYAJkAmgCbAJwAnQCeAJ8AoAChAKIAowCkAKUApgCnAKgAqQCqAKsArACtAK4ArwCwALEAsgCzALQAtQC2ALcAuAC5ALoAuwC8AL0AvgC/AMAAwQDCAMMAxADFAMYAxwDIAMkAygDLAMwAzQDOAM8A0ADRANIA0wDUANUA1gDXANgA2QDaANsA3ADdAN4A3wDgAOEA4gDjAOQA5QDmAOcA6ADpAOoA6wDsAO0A7gDvAPAA8QDyAPMA9AD1APYA9wD4APkA+gD7APwA/QD+AP8AAAEBAQIBAwEEAQUBBgEHAQgBCQEKAQsBDAENAQ4BDwEQAREBEgETARQBFQEWARcBGAEZARoBGwEcAR0BHgEfASABIQEiASMBJAElASYBJwEoASkBKgErASwBLQEuAS8BMAExATIBMwE0ATUBNgE3ATgBOQE6ATsBPAE9AT4BPwFAAUEBQgFDAUQBRQFGAUcBSAFJAUoBSwFMAU0BTgFPAVABUQFSAVMBVAFVAVYBVwFYAVkBWgFbAVwBXQFeAV8BYAFhAWIBYwFkAWUBZgFnAWgBaQFqAWsBbAFtAQ==",
          "dtype": "i2"
         },
         "y": {
          "bdata": "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",
          "dtype": "f8"
         }
        },
        {
         "line": {
          "width": 1
         },
         "mode": "lines",
         "name": "2003",
         "showlegend": true,
         "type": "scatter",
         "x": {
          "bdata": "AQACAAMABAAFAAYABwAIAAkACgALAAwADQAOAA8AEAARABIAEwAUABUAFgAXABgAGQAaABsAHAAdAB4AHwAgACEAIgAjACQAJQAmACcAKAApACoAKwAsAC0ALgAvADAAMQAyADMANAA1ADYANwA4ADkAOgA7ADwAPQA+AD8AQABBAEIAQwBEAEUARgBHAEgASQBKAEsATABNAE4ATwBQAFEAUgBTAFQAVQBWAFcAWABZAFoAWwBcAF0AXgBfAGAAYQBiAGMAZABlAGYAZwBoAGkAagBrAGwAbQBuAG8AcABxAHIAcwB0AHUAdgB3AHgAeQB6AHsAfAB9AH4AfwCAAIEAggCDAIQAhQCGAIcAiACJAIoAiwCMAI0AjgCPAJAAkQCSAJMAlACVAJYAlwCYAJkAmgCbAJwAnQCeAJ8AoAChAKIAowCkAKUApgCnAKgAqQCqAKsArACtAK4ArwCwALEAsgCzALQAtQC2ALcAuAC5ALoAuwC8AL0AvgC/AMAAwQDCAMMAxADFAMYAxwDIAMkAygDLAMwAzQDOAM8A0ADRANIA0wDUANUA1gDXANgA2QDaANsA3ADdAN4A3wDgAOEA4gDjAOQA5QDmAOcA6ADpAOoA6wDsAO0A7gDvAPAA8QDyAPMA9AD1APYA9wD4APkA+gD7APwA/QD+AP8AAAEBAQIBAwEEAQUBBgEHAQgBCQEKAQsBDAENAQ4BDwEQAREBEgETARQBFQEWARcBGAEZARoBGwEcAR0BHgEfASABIQEiASMBJAElASYBJwEoASkBKgErASwBLQEuAS8BMAExATIBMwE0ATUBNgE3ATgBOQE6ATsBPAE9AT4BPwFAAUEBQgFDAUQBRQFGAUcBSAFJAUoBSwFMAU0BTgFPAVABUQFSAVMBVAFVAVYBVwFYAVkBWgFbAVwBXQFeAV8BYAFhAWIBYwFkAWUBZgFnAWgBaQFqAWsBbAFtAQ==",
          "dtype": "i2"
         },
         "y": {
          "bdata": "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",
          "dtype": "f8"
         }
        },
        {
         "line": {
          "width": 1
         },
         "mode": "lines",
         "name": "2004",
         "showlegend": true,
         "type": "scatter",
         "x": {
          "bdata": "AQACAAMABAAFAAYABwAIAAkACgALAAwADQAOAA8AEAARABIAEwAUABUAFgAXABgAGQAaABsAHAAdAB4AHwAgACEAIgAjACQAJQAmACcAKAApACoAKwAsAC0ALgAvADAAMQAyADMANAA1ADYANwA4ADkAOgA7ADwAPQA+AD8AQABBAEIAQwBEAEUARgBHAEgASQBKAEsATABNAE4ATwBQAFEAUgBTAFQAVQBWAFcAWABZAFoAWwBcAF0AXgBfAGAAYQBiAGMAZABlAGYAZwBoAGkAagBrAGwAbQBuAG8AcABxAHIAcwB0AHUAdgB3AHgAeQB6AHsAfAB9AH4AfwCAAIEAggCDAIQAhQCGAIcAiACJAIoAiwCMAI0AjgCPAJAAkQCSAJMAlACVAJYAlwCYAJkAmgCbAJwAnQCeAJ8AoAChAKIAowCkAKUApgCnAKgAqQCqAKsArACtAK4ArwCwALEAsgCzALQAtQC2ALcAuAC5ALoAuwC8AL0AvgC/AMAAwQDCAMMAxADFAMYAxwDIAMkAygDLAMwAzQDOAM8A0ADRANIA0wDUANUA1gDXANgA2QDaANsA3ADdAN4A3wDgAOEA4gDjAOQA5QDmAOcA6ADpAOoA6wDsAO0A7gDvAPAA8QDyAPMA9AD1APYA9wD4APkA+gD7APwA/QD+AP8AAAEBAQIBAwEEAQUBBgEHAQgBCQEKAQsBDAENAQ4BDwEQAREBEgETARQBFQEWARcBGAEZARoBGwEcAR0BHgEfASABIQEiASMBJAElASYBJwEoASkBKgErASwBLQEuAS8BMAExATIBMwE0ATUBNgE3ATgBOQE6ATsBPAE9AT4BPwFAAUEBQgFDAUQBRQFGAUcBSAFJAUoBSwFMAU0BTgFPAVABUQFSAVMBVAFVAVYBVwFYAVkBWgFbAVwBXQFeAV8BYAFhAWIBYwFkAWUBZgFnAWgBaQFqAWsBbAFtAQ==",
          "dtype": "i2"
         },
         "y": {
          "bdata": "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",
          "dtype": "f8"
         }
        },
        {
         "line": {
          "width": 1
         },
         "mode": "lines",
         "name": "2005",
         "showlegend": true,
         "type": "scatter",
         "x": {
          "bdata": "AQACAAMABAAFAAYABwAIAAkACgALAAwADQAOAA8AEAARABIAEwAUABUAFgAXABgAGQAaABsAHAAdAB4AHwAgACEAIgAjACQAJQAmACcAKAApACoAKwAsAC0ALgAvADAAMQAyADMANAA1ADYANwA4ADkAOgA7ADwAPQA+AD8AQABBAEIAQwBEAEUARgBHAEgASQBKAEsATABNAE4ATwBQAFEAUgBTAFQAVQBWAFcAWABZAFoAWwBcAF0AXgBfAGAAYQBiAGMAZABlAGYAZwBoAGkAagBrAGwAbQBuAG8AcABxAHIAcwB0AHUAdgB3AHgAeQB6AHsAfAB9AH4AfwCAAIEAggCDAIQAhQCGAIcAiACJAIoAiwCMAI0AjgCPAJAAkQCSAJMAlACVAJYAlwCYAJkAmgCbAJwAnQCeAJ8AoAChAKIAowCkAKUApgCnAKgAqQCqAKsArACtAK4ArwCwALEAsgCzALQAtQC2ALcAuAC5ALoAuwC8AL0AvgC/AMAAwQDCAMMAxADFAMYAxwDIAMkAygDLAMwAzQDOAM8A0ADRANIA0wDUANUA1gDXANgA2QDaANsA3ADdAN4A3wDgAOEA4gDjAOQA5QDmAOcA6ADpAOoA6wDsAO0A7gDvAPAA8QDyAPMA9AD1APYA9wD4APkA+gD7APwA/QD+AP8AAAEBAQIBAwEEAQUBBgEHAQgBCQEKAQsBDAENAQ4BDwEQAREBEgETARQBFQEWARcBGAEZARoBGwEcAR0BHgEfASABIQEiASMBJAElASYBJwEoASkBKgErASwBLQEuAS8BMAExATIBMwE0ATUBNgE3ATgBOQE6ATsBPAE9AT4BPwFAAUEBQgFDAUQBRQFGAUcBSAFJAUoBSwFMAU0BTgFPAVABUQFSAVMBVAFVAVYBVwFYAVkBWgFbAVwBXQFeAV8BYAFhAWIBYwFkAWUBZgFnAWgBaQFqAWsBbAFtAQ==",
          "dtype": "i2"
         },
         "y": {
          "bdata": "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",
          "dtype": "f8"
         }
        },
        {
         "line": {
          "width": 1
         },
         "mode": "lines",
         "name": "2006",
         "showlegend": true,
         "type": "scatter",
         "x": {
          "bdata": "AQACAAMABAAFAAYABwAIAAkACgALAAwADQAOAA8AEAARABIAEwAUABUAFgAXABgAGQAaABsAHAAdAB4AHwAgACEAIgAjACQAJQAmACcAKAApACoAKwAsAC0ALgAvADAAMQAyADMANAA1ADYANwA4ADkAOgA7ADwAPQA+AD8AQABBAEIAQwBEAEUARgBHAEgASQBKAEsATABNAE4ATwBQAFEAUgBTAFQAVQBWAFcAWABZAFoAWwBcAF0AXgBfAGAAYQBiAGMAZABlAGYAZwBoAGkAagBrAGwAbQBuAG8AcABxAHIAcwB0AHUAdgB3AHgAeQB6AHsAfAB9AH4AfwCAAIEAggCDAIQAhQCGAIcAiACJAIoAiwCMAI0AjgCPAJAAkQCSAJMAlACVAJYAlwCYAJkAmgCbAJwAnQCeAJ8AoAChAKIAowCkAKUApgCnAKgAqQCqAKsArACtAK4ArwCwALEAsgCzALQAtQC2ALcAuAC5ALoAuwC8AL0AvgC/AMAAwQDCAMMAxADFAMYAxwDIAMkAygDLAMwAzQDOAM8A0ADRANIA0wDUANUA1gDXANgA2QDaANsA3ADdAN4A3wDgAOEA4gDjAOQA5QDmAOcA6ADpAOoA6wDsAO0A7gDvAPAA8QDyAPMA9AD1APYA9wD4APkA+gD7APwA/QD+AP8AAAEBAQIBAwEEAQUBBgEHAQgBCQEKAQsBDAENAQ4BDwEQAREBEgETARQBFQEWARcBGAEZARoBGwEcAR0BHgEfASABIQEiASMBJAElASYBJwEoASkBKgErASwBLQEuAS8BMAExATIBMwE0ATUBNgE3ATgBOQE6ATsBPAE9AT4BPwFAAUEBQgFDAUQBRQFGAUcBSAFJAUoBSwFMAU0BTgFPAVABUQFSAVMBVAFVAVYBVwFYAVkBWgFbAVwBXQFeAV8BYAFhAWIBYwFkAWUBZgFnAWgBaQFqAWsBbAFtAQ==",
          "dtype": "i2"
         },
         "y": {
          "bdata": "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",
          "dtype": "f8"
         }
        },
        {
         "line": {
          "width": 1
         },
         "mode": "lines",
         "name": "2007",
         "showlegend": true,
         "type": "scatter",
         "x": {
          "bdata": "AQACAAMABAAFAAYABwAIAAkACgALAAwADQAOAA8AEAARABIAEwAUABUAFgAXABgAGQAaABsAHAAdAB4AHwAgACEAIgAjACQAJQAmACcAKAApACoAKwAsAC0ALgAvADAAMQAyADMANAA1ADYANwA4ADkAOgA7ADwAPQA+AD8AQABBAEIAQwBEAEUARgBHAEgASQBKAEsATABNAE4ATwBQAFEAUgBTAFQAVQBWAFcAWABZAFoAWwBcAF0AXgBfAGAAYQBiAGMAZABlAGYAZwBoAGkAagBrAGwAbQBuAG8AcABxAHIAcwB0AHUAdgB3AHgAeQB6AHsAfAB9AH4AfwCAAIEAggCDAIQAhQCGAIcAiACJAIoAiwCMAI0AjgCPAJAAkQCSAJMAlACVAJYAlwCYAJkAmgCbAJwAnQCeAJ8AoAChAKIAowCkAKUApgCnAKgAqQCqAKsArACtAK4ArwCwALEAsgCzALQAtQC2ALcAuAC5ALoAuwC8AL0AvgC/AMAAwQDCAMMAxADFAMYAxwDIAMkAygDLAMwAzQDOAM8A0ADRANIA0wDUANUA1gDXANgA2QDaANsA3ADdAN4A3wDgAOEA4gDjAOQA5QDmAOcA6ADpAOoA6wDsAO0A7gDvAPAA8QDyAPMA9AD1APYA9wD4APkA+gD7APwA/QD+AP8AAAEBAQIBAwEEAQUBBgEHAQgBCQEKAQsBDAENAQ4BDwEQAREBEgETARQBFQEWARcBGAEZARoBGwEcAR0BHgEfASABIQEiASMBJAElASYBJwEoASkBKgErASwBLQEuAS8BMAExATIBMwE0ATUBNgE3ATgBOQE6ATsBPAE9AT4BPwFAAUEBQgFDAUQBRQFGAUcBSAFJAUoBSwFMAU0BTgFPAVABUQFSAVMBVAFVAVYBVwFYAVkBWgFbAVwBXQFeAV8BYAFhAWIBYwFkAWUBZgFnAWgBaQFqAWsBbAFtAQ==",
          "dtype": "i2"
         },
         "y": {
          "bdata": "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",
          "dtype": "f8"
         }
        },
        {
         "line": {
          "width": 1
         },
         "mode": "lines",
         "name": "2008",
         "showlegend": true,
         "type": "scatter",
         "x": {
          "bdata": "AQACAAMABAAFAAYABwAIAAkACgALAAwADQAOAA8AEAARABIAEwAUABUAFgAXABgAGQAaABsAHAAdAB4AHwAgACEAIgAjACQAJQAmACcAKAApACoAKwAsAC0ALgAvADAAMQAyADMANAA1ADYANwA4ADkAOgA7ADwAPQA+AD8AQABBAEIAQwBEAEUARgBHAEgASQBKAEsATABNAE4ATwBQAFEAUgBTAFQAVQBWAFcAWABZAFoAWwBcAF0AXgBfAGAAYQBiAGMAZABlAGYAZwBoAGkAagBrAGwAbQBuAG8AcABxAHIAcwB0AHUAdgB3AHgAeQB6AHsAfAB9AH4AfwCAAIEAggCDAIQAhQCGAIcAiACJAIoAiwCMAI0AjgCPAJAAkQCSAJMAlACVAJYAlwCYAJkAmgCbAJwAnQCeAJ8AoAChAKIAowCkAKUApgCnAKgAqQCqAKsArACtAK4ArwCwALEAsgCzALQAtQC2ALcAuAC5ALoAuwC8AL0AvgC/AMAAwQDCAMMAxADFAMYAxwDIAMkAygDLAMwAzQDOAM8A0ADRANIA0wDUANUA1gDXANgA2QDaANsA3ADdAN4A3wDgAOEA4gDjAOQA5QDmAOcA6ADpAOoA6wDsAO0A7gDvAPAA8QDyAPMA9AD1APYA9wD4APkA+gD7APwA/QD+AP8AAAEBAQIBAwEEAQUBBgEHAQgBCQEKAQsBDAENAQ4BDwEQAREBEgETARQBFQEWARcBGAEZARoBGwEcAR0BHgEfASABIQEiASMBJAElASYBJwEoASkBKgErASwBLQEuAS8BMAExATIBMwE0ATUBNgE3ATgBOQE6ATsBPAE9AT4BPwFAAUEBQgFDAUQBRQFGAUcBSAFJAUoBSwFMAU0BTgFPAVABUQFSAVMBVAFVAVYBVwFYAVkBWgFbAVwBXQFeAV8BYAFhAWIBYwFkAWUBZgFnAWgBaQFqAWsBbAFtAQ==",
          "dtype": "i2"
         },
         "y": {
          "bdata": "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",
          "dtype": "f8"
         }
        },
        {
         "line": {
          "width": 1
         },
         "mode": "lines",
         "name": "2009",
         "showlegend": true,
         "type": "scatter",
         "x": {
          "bdata": "AQACAAMABAAFAAYABwAIAAkACgALAAwADQAOAA8AEAARABIAEwAUABUAFgAXABgAGQAaABsAHAAdAB4AHwAgACEAIgAjACQAJQAmACcAKAApACoAKwAsAC0ALgAvADAAMQAyADMANAA1ADYANwA4ADkAOgA7ADwAPQA+AD8AQABBAEIAQwBEAEUARgBHAEgASQBKAEsATABNAE4ATwBQAFEAUgBTAFQAVQBWAFcAWABZAFoAWwBcAF0AXgBfAGAAYQBiAGMAZABlAGYAZwBoAGkAagBrAGwAbQBuAG8AcABxAHIAcwB0AHUAdgB3AHgAeQB6AHsAfAB9AH4AfwCAAIEAggCDAIQAhQCGAIcAiACJAIoAiwCMAI0AjgCPAJAAkQCSAJMAlACVAJYAlwCYAJkAmgCbAJwAnQCeAJ8AoAChAKIAowCkAKUApgCnAKgAqQCqAKsArACtAK4ArwCwALEAsgCzALQAtQC2ALcAuAC5ALoAuwC8AL0AvgC/AMAAwQDCAMMAxADFAMYAxwDIAMkAygDLAMwAzQDOAM8A0ADRANIA0wDUANUA1gDXANgA2QDaANsA3ADdAN4A3wDgAOEA4gDjAOQA5QDmAOcA6ADpAOoA6wDsAO0A7gDvAPAA8QDyAPMA9AD1APYA9wD4APkA+gD7APwA/QD+AP8AAAEBAQIBAwEEAQUBBgEHAQgBCQEKAQsBDAENAQ4BDwEQAREBEgETARQBFQEWARcBGAEZARoBGwEcAR0BHgEfASABIQEiASMBJAElASYBJwEoASkBKgErASwBLQEuAS8BMAExATIBMwE0ATUBNgE3ATgBOQE6ATsBPAE9AT4BPwFAAUEBQgFDAUQBRQFGAUcBSAFJAUoBSwFMAU0BTgFPAVABUQFSAVMBVAFVAVYBVwFYAVkBWgFbAVwBXQFeAV8BYAFhAWIBYwFkAWUBZgFnAWgBaQFqAWsBbAFtAQ==",
          "dtype": "i2"
         },
         "y": {
          "bdata": "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",
          "dtype": "f8"
         }
        },
        {
         "line": {
          "width": 1
         },
         "mode": "lines",
         "name": "2010",
         "showlegend": true,
         "type": "scatter",
         "x": {
          "bdata": "AQACAAMABAAFAAYABwAIAAkACgALAAwADQAOAA8AEAARABIAEwAUABUAFgAXABgAGQAaABsAHAAdAB4AHwAgACEAIgAjACQAJQAmACcAKAApACoAKwAsAC0ALgAvADAAMQAyADMANAA1ADYANwA4ADkAOgA7ADwAPQA+AD8AQABBAEIAQwBEAEUARgBHAEgASQBKAEsATABNAE4ATwBQAFEAUgBTAFQAVQBWAFcAWABZAFoAWwBcAF0AXgBfAGAAYQBiAGMAZABlAGYAZwBoAGkAagBrAGwAbQBuAG8AcABxAHIAcwB0AHUAdgB3AHgAeQB6AHsAfAB9AH4AfwCAAIEAggCDAIQAhQCGAIcAiACJAIoAiwCMAI0AjgCPAJAAkQCSAJMAlACVAJYAlwCYAJkAmgCbAJwAnQCeAJ8AoAChAKIAowCkAKUApgCnAKgAqQCqAKsArACtAK4ArwCwALEAsgCzALQAtQC2ALcAuAC5ALoAuwC8AL0AvgC/AMAAwQDCAMMAxADFAMYAxwDIAMkAygDLAMwAzQDOAM8A0ADRANIA0wDUANUA1gDXANgA2QDaANsA3ADdAN4A3wDgAOEA4gDjAOQA5QDmAOcA6ADpAOoA6wDsAO0A7gDvAPAA8QDyAPMA9AD1APYA9wD4APkA+gD7APwA/QD+AP8AAAEBAQIBAwEEAQUBBgEHAQgBCQEKAQsBDAENAQ4BDwEQAREBEgETARQBFQEWARcBGAEZARoBGwEcAR0BHgEfASABIQEiASMBJAElASYBJwEoASkBKgErASwBLQEuAS8BMAExATIBMwE0ATUBNgE3ATgBOQE6ATsBPAE9AT4BPwFAAUEBQgFDAUQBRQFGAUcBSAFJAUoBSwFMAU0BTgFPAVABUQFSAVMBVAFVAVYBVwFYAVkBWgFbAVwBXQFeAV8BYAFhAWIBYwFkAWUBZgFnAWgBaQFqAWsBbAFtAQ==",
          "dtype": "i2"
         },
         "y": {
          "bdata": "eMYAeusFIECWO9P0fwsgQKqiNKWDCyBALVr9RwsIIEAZCC4V7QogQM+hwAkxEyBA5DMFm50aIEAQ3cCDFisgQFJFzgOyOiBAU6IC5dtLIEAJPzwT21sgQBtn5EM8aiBAIsAtKmh2IEAlViiHIIUgQGTQ4ioDpSBAM5C1VEKoIEBNr5T4l5wgQIvQF3LHUyBA59SLwQpNIEDU+wgprEQgQObwZATVPSBA/iFszeVJIEBYnMTATGcgQDOURReKXiBA4bKjtdJKIEDpVYZ+W24gQFuTomasayBAamBUV7A8IEC4d4evsQEgQGQwAeH1CCBA2rcpdFrwH0CtOksPW/ofQGtaMWUrqR9A1bcIZzCeH0CIsWLFg8IfQJd0mm7gCyBA49l1AQIhIEBrj3LhCicgQCkI7jeuLCBAGYCuOZctIECb6kX9/iggQNVT/OzwISBAE+QjUsorIEBHM8/JVCYgQNCn3AsKciBAcCZPGuVuIEAZ3H8hInAgQCabHeeMhCBAopR/54t/IED0jTS4UF8gQMGhKCkneSBA+0G7DqdmIEBfE73yQW8gQEHmkjBiWCBAD6ysLaVSIECIfQDwHT4gQL6IKaDEPCBAV9O0gTk6IEB4+k974zsgQNeoriIpTCBAEARi50FHIEDjpoKgXG0gQGa1F0wXeyBAsHRIP9l0IEDdmKwJCnwgQPVGSxtEcCBAiHT8I16BIECKOSOoI1QgQP551OQKNyBAICuWJsM2IEA68dEJYCogQJlytlp0IiBAx34WdWLxH0D5jwPNZucfQGpURqyO5B9AXeRStWvcH0CG2raHVMYfQBH/tiMavR9AasU0A9KpH0B2sMHYvI0fQGHa9UyIfx9AVubI8N14H0CF08vBFWsfQHHsP+uhbx9ARkJNUd+JH0BdtN66HowfQEjYYQpWfh9AMOPvDghcH0BlXvx8lWEfQBCRjomFlx9A4xGOEpqdH0DkoIOqIpIfQIkqrirdWR9AnalpztZcH0CFC2Tx0l4fQFKcKa3TeB9Ah3b5CaxkH0C8ZJqkKmIfQA98o0vOVB9AtLkiTYmNH0Ba2ZIWwaYfQNuRZI78zx9AhZRmThrnH0AFp2K1LA0gQApXkTXmISBAOj6O0UM1IECJ547kRkggQChK1xCbVyBAvwJAxpVbIEBxa+mfxmogQHNcOdiPnSBAxyHce63AIEASBxFELJQgQHciKwvvviBAMiW13d/EIEDY2reUb6ggQEi33f5vlyBABko0wkWMIEBXma3z19EgQFF+okfN3iBA0G6QrPGsIECbXck4B6MgQHH1rs8oryBAMI4gSHe3IEAsEeMk78IgQDca9Xgl0iBA5j69aDUSIUAyTUoHOh4hQIJVwRdDLiFAKuaR8SRAIUDyU1nZKFIhQP8JmyNoXiFAVlbIBNNkIUCUtJ486XchQAMHm0C3eSFAamqZ+W9QIUAD5bIIuU0hQLvIfqUkQiFAdkMJLGc3IUB4OFnaTSchQJBqEmwSMCFA0mASFaUlIUBU6/xFXjchQIOaG6jZZCFA0aFjAeN5IUAauTt1Y5khQP03jjCmkiFA5iZlDd+nIUB8qUeIdQEiQCVyP1kb+SFAHvN0WN3bIUBO3cu+o+MhQLN9ZlCP+SFAPKbImVYEIkChhKnFsx0iQCX1cq4fVyJAzWhufDVNIkBHejbGz1siQKzq5OmBfSJApDwPeiCCIkAmf2cZcNkiQLNmIwOi4SJA7P16lAwvI0CBvJqEpx4jQBJ3Poq++iJA+nA8OQsYI0A3MsktPBgjQG8hc8FFOSNA2TVyaLNUI0BIo5NzH0QjQJy0ZImAbCNAFBFBvaVwI0BlsSOxLkwjQI2YX++fSCNAWdp/eYtcI0BdJ6Apfm8jQAlhgrlDgCNAkuKL/uV4I0AAyf3AGaAjQHuqc1De+iNAHxiZ5yX/I0AhtBfFlBIkQCMdcq7WVyRA8VJBNZ8hJEAIcL+muwIkQJjAC2DOwiRAh0q+v1HwJEDm0JV0APAkQLVGgFq6JCVAe3Q5ABNDJUCyrsBqdvskQGdWv/TRHyRAqi4ftnRsJEBvn+go8YskQL+wfwUbjyRA5Kt101s6JEAHKnRc2kAkQIN8gatanCRAPhLAD6x8JEC3I22+L/wkQC8256JodSVAT6Zb+juFJUAXCgSEuS8lQJDFnPV5QCVAIpC2k5hOJkDsE5LlTQcmQPaQMi4ZvyZAz529G7RbJkD+ucMGxCEmQHHkbIeU9iVAigSev+7hJUBeD5gM4QYmQJgiJ5nJKCZAVi30Jq8wJkCoVX2sHWsmQDCbYakchiZARIdIyrqZJkBwnqYPg5MmQEdmS20rhCZAWNCYWbR7JkAcqtppWmsmQMwNTu7PfiZAeHzxgzo0J0AnEPEAdYMnQGkTlstl1CdA+9P1zkyJJ0CDu2KqBlwnQNxwXFxedydAy8Rt0iuiJ0DeZ51ymdcnQBAaj9UkeydA0EeuukIiJ0ArlM10AUgnQGMueXTPRCdAlZWSZdpBJ0AJtYSnNicnQNyYtQhGSCdAz2/y2l5rJ0BEigt97EcnQPYaneS1widAVgtIno/eJ0C2ESQH2ssnQBeZ3O7jwCdAf746cFPzJ0DaMPTVrOsnQNNOyg//EihAZ+kYeNR3KEALi4qySX8oQHnKgumM6SZAJLpSixooJ0C9lxLAXJwnQAdYS848TyZAeJyHsxhXJkBpXgjR98gnQJqnsRMN0idA07iYZf0DKECgFnfi/8InQE7tfI2G3CdAvGS+bJinJ0Dj3jpZJd8nQKgHgnvxgyZAqVMabFLsJkCq7bGQ0bMoQII7DrSyMylAUm+hMTlWKEDvAJMc9mYoQEGV0SutIyhAN7TO2PjzJ0DOZlrLO2wnQIkyOGb4dydAtzenKBKbJ0Cjk3TeQu4nQBdU+2OxlydAxKBwyIM3J0BdmbJodNsoQF/lghfkASlA7ZIm9VAUKUDjkdFA/fUoQP3B1lgPyShAK47O/KzZKEDONoQ6y7soQFJd5tp0VydAKs+vLYxKJ0A+RJK99UMnQMjMyv0yMydAbZl0xtEiJkDTTvnOdBcmQJCMynsUMiZA0q+E4qBNJkB2Zs/smTMmQFv7KdqtnSVAdlXZOGpjJUB2a/yNBuklQJJAAUnH4CVAY656Kt3CJUBUfcDxoqwlQGVyA/FMwCVAwBNgKU2ZJUBkM5GtbVQlQLvS6B2aayVAeLqNwz6zJEC7o1lckZokQEcu5Fk3nyRAIONIMrjFJECvMHICaLskQA+AqPrg5SRAM7PhSUrfJEDtZY526MUkQF/vfumh7yRA18S+rlOVJEBeOFhAmVAkQGSPxR5f/iRAroATI21gJEDVvDIRyXElQOqp/11uJSRArHwiaikWJECMgyjNtwYkQHOfwLrE+iNAMJScJoq2I0BkP9T7kasjQBp5Vl7djSNASHS8AkYPI0DpwgkEpc4iQCL6JGB5VCNA49Ge+W3oIkAoVQ4Q/nwiQBM925bFDyJAjxkErKLgIUBJEZV3F9YhQFGmgzed4SFA0x3yL2zYIUB0r8H52QkiQMqjbjlQ8yFABaSYQDamIUDZW4czZI0hQFgAFg0LxCFA+mYRDG3OIUD5FDIqqM0hQIcW5M0+tiFAShTCY+2oIUB9la96m4YhQMrwmICzgCFA/lMn+wJ6IUC6m+jY+20hQL6bPLxxZSFAF3Rpk19KIUBSvyJEVjwhQCKOloiSNCFA+NrsNHgeIUA0NARbdgUhQE8ShStK7SBAHmLducrMIEBGSrbhztEgQIgUAeSvsyBA5407T26jIEBKMPWw75IgQM7XmEpmdSBA11yFZvtmIEA24+v3jlIgQChKH9rmSCBAr9Vx+OUuIEAkz0nfzRMgQDPECp1t6R9AM5SejWWpH0DM9a9hepofQA==",
          "dtype": "f8"
         }
        },
        {
         "line": {
          "width": 1
         },
         "mode": "lines",
         "name": "2011",
         "showlegend": true,
         "type": "scatter",
         "x": {
          "bdata": "AQACAAMABAAFAAYABwAIAAkACgALAAwADQAOAA8AEAARABIAEwAUABUAFgAXABgAGQAaABsAHAAdAB4AHwAgACEAIgAjACQAJQAmACcAKAApACoAKwAsAC0ALgAvADAAMQAyADMANAA1ADYANwA4ADkAOgA7ADwAPQA+AD8AQABBAEIAQwBEAEUARgBHAEgASQBKAEsATABNAE4ATwBQAFEAUgBTAFQAVQBWAFcAWABZAFoAWwBcAF0AXgBfAGAAYQBiAGMAZABlAGYAZwBoAGkAagBrAGwAbQBuAG8AcABxAHIAcwB0AHUAdgB3AHgAeQB6AHsAfAB9AH4AfwCAAIEAggCDAIQAhQCGAIcAiACJAIoAiwCMAI0AjgCPAJAAkQCSAJMAlACVAJYAlwCYAJkAmgCbAJwAnQCeAJ8AoAChAKIAowCkAKUApgCnAKgAqQCqAKsArACtAK4ArwCwALEAsgCzALQAtQC2ALcAuAC5ALoAuwC8AL0AvgC/AMAAwQDCAMMAxADFAMYAxwDIAMkAygDLAMwAzQDOAM8A0ADRANIA0wDUANUA1gDXANgA2QDaANsA3ADdAN4A3wDgAOEA4gDjAOQA5QDmAOcA6ADpAOoA6wDsAO0A7gDvAPAA8QDyAPMA9AD1APYA9wD4APkA+gD7APwA/QD+AP8AAAEBAQIBAwEEAQUBBgEHAQgBCQEKAQsBDAENAQ4BDwEQAREBEgETARQBFQEWARcBGAEZARoBGwEcAR0BHgEfASABIQEiASMBJAElASYBJwEoASkBKgErASwBLQEuAS8BMAExATIBMwE0ATUBNgE3ATgBOQE6ATsBPAE9AT4BPwFAAUEBQgFDAUQBRQFGAUcBSAFJAUoBSwFMAU0BTgFPAVABUQFSAVMBVAFVAVYBVwFYAVkBWgFbAVwBXQFeAV8BYAFhAWIBYwFkAWUBZgFnAWgBaQFqAWsBbAFtAQ==",
          "dtype": "i2"
         },
         "y": {
          "bdata": "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",
          "dtype": "f8"
         }
        },
        {
         "line": {
          "width": 1
         },
         "mode": "lines",
         "name": "2012",
         "showlegend": true,
         "type": "scatter",
         "x": {
          "bdata": "AQACAAMABAAFAAYABwAIAAkACgALAAwADQAOAA8AEAARABIAEwAUABUAFgAXABgAGQAaABsAHAAdAB4AHwAgACEAIgAjACQAJQAmACcAKAApACoAKwAsAC0ALgAvADAAMQAyADMANAA1ADYANwA4ADkAOgA7ADwAPQA+AD8AQABBAEIAQwBEAEUARgBHAEgASQBKAEsATABNAE4ATwBQAFEAUgBTAFQAVQBWAFcAWABZAFoAWwBcAF0AXgBfAGAAYQBiAGMAZABlAGYAZwBoAGkAagBrAGwAbQBuAG8AcABxAHIAcwB0AHUAdgB3AHgAeQB6AHsAfAB9AH4AfwCAAIEAggCDAIQAhQCGAIcAiACJAIoAiwCMAI0AjgCPAJAAkQCSAJMAlACVAJYAlwCYAJkAmgCbAJwAnQCeAJ8AoAChAKIAowCkAKUApgCnAKgAqQCqAKsArACtAK4ArwCwALEAsgCzALQAtQC2ALcAuAC5ALoAuwC8AL0AvgC/AMAAwQDCAMMAxADFAMYAxwDIAMkAygDLAMwAzQDOAM8A0ADRANIA0wDUANUA1gDXANgA2QDaANsA3ADdAN4A3wDgAOEA4gDjAOQA5QDmAOcA6ADpAOoA6wDsAO0A7gDvAPAA8QDyAPMA9AD1APYA9wD4APkA+gD7APwA/QD+AP8AAAEBAQIBAwEEAQUBBgEHAQgBCQEKAQsBDAENAQ4BDwEQAREBEgETARQBFQEWARcBGAEZARoBGwEcAR0BHgEfASABIQEiASMBJAElASYBJwEoASkBKgErASwBLQEuAS8BMAExATIBMwE0ATUBNgE3ATgBOQE6ATsBPAE9AT4BPwFAAUEBQgFDAUQBRQFGAUcBSAFJAUoBSwFMAU0BTgFPAVABUQFSAVMBVAFVAVYBVwFYAVkBWgFbAVwBXQFeAV8BYAFhAWIBYwFkAWUBZgFnAWgBaQFqAWsBbAFtAQ==",
          "dtype": "i2"
         },
         "y": {
          "bdata": "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",
          "dtype": "f8"
         }
        },
        {
         "line": {
          "width": 1
         },
         "mode": "lines",
         "name": "2013",
         "showlegend": true,
         "type": "scatter",
         "x": {
          "bdata": "AQACAAMABAAFAAYABwAIAAkACgALAAwADQAOAA8AEAARABIAEwAUABUAFgAXABgAGQAaABsAHAAdAB4AHwAgACEAIgAjACQAJQAmACcAKAApACoAKwAsAC0ALgAvADAAMQAyADMANAA1ADYANwA4ADkAOgA7ADwAPQA+AD8AQABBAEIAQwBEAEUARgBHAEgASQBKAEsATABNAE4ATwBQAFEAUgBTAFQAVQBWAFcAWABZAFoAWwBcAF0AXgBfAGAAYQBiAGMAZABlAGYAZwBoAGkAagBrAGwAbQBuAG8AcABxAHIAcwB0AHUAdgB3AHgAeQB6AHsAfAB9AH4AfwCAAIEAggCDAIQAhQCGAIcAiACJAIoAiwCMAI0AjgCPAJAAkQCSAJMAlACVAJYAlwCYAJkAmgCbAJwAnQCeAJ8AoAChAKIAowCkAKUApgCnAKgAqQCqAKsArACtAK4ArwCwALEAsgCzALQAtQC2ALcAuAC5ALoAuwC8AL0AvgC/AMAAwQDCAMMAxADFAMYAxwDIAMkAygDLAMwAzQDOAM8A0ADRANIA0wDUANUA1gDXANgA2QDaANsA3ADdAN4A3wDgAOEA4gDjAOQA5QDmAOcA6ADpAOoA6wDsAO0A7gDvAPAA8QDyAPMA9AD1APYA9wD4APkA+gD7APwA/QD+AP8AAAEBAQIBAwEEAQUBBgEHAQgBCQEKAQsBDAENAQ4BDwEQAREBEgETARQBFQEWARcBGAEZARoBGwEcAR0BHgEfASABIQEiASMBJAElASYBJwEoASkBKgErASwBLQEuAS8BMAExATIBMwE0ATUBNgE3ATgBOQE6ATsBPAE9AT4BPwFAAUEBQgFDAUQBRQFGAUcBSAFJAUoBSwFMAU0BTgFPAVABUQFSAVMBVAFVAVYBVwFYAVkBWgFbAVwBXQFeAV8BYAFhAWIBYwFkAWUBZgFnAWgBaQFqAWsBbAFtAQ==",
          "dtype": "i2"
         },
         "y": {
          "bdata": "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",
          "dtype": "f8"
         }
        },
        {
         "line": {
          "width": 1
         },
         "mode": "lines",
         "name": "2014",
         "showlegend": true,
         "type": "scatter",
         "x": {
          "bdata": "AQACAAMABAAFAAYABwAIAAkACgALAAwADQAOAA8AEAARABIAEwAUABUAFgAXABgAGQAaABsAHAAdAB4AHwAgACEAIgAjACQAJQAmACcAKAApACoAKwAsAC0ALgAvADAAMQAyADMANAA1ADYANwA4ADkAOgA7ADwAPQA+AD8AQABBAEIAQwBEAEUARgBHAEgASQBKAEsATABNAE4ATwBQAFEAUgBTAFQAVQBWAFcAWABZAFoAWwBcAF0AXgBfAGAAYQBiAGMAZABlAGYAZwBoAGkAagBrAGwAbQBuAG8AcABxAHIAcwB0AHUAdgB3AHgAeQB6AHsAfAB9AH4AfwCAAIEAggCDAIQAhQCGAIcAiACJAIoAiwCMAI0AjgCPAJAAkQCSAJMAlACVAJYAlwCYAJkAmgCbAJwAnQCeAJ8AoAChAKIAowCkAKUApgCnAKgAqQCqAKsArACtAK4ArwCwALEAsgCzALQAtQC2ALcAuAC5ALoAuwC8AL0AvgC/AMAAwQDCAMMAxADFAMYAxwDIAMkAygDLAMwAzQDOAM8A0ADRANIA0wDUANUA1gDXANgA2QDaANsA3ADdAN4A3wDgAOEA4gDjAOQA5QDmAOcA6ADpAOoA6wDsAO0A7gDvAPAA8QDyAPMA9AD1APYA9wD4APkA+gD7APwA/QD+AP8AAAEBAQIBAwEEAQUBBgEHAQgBCQEKAQsBDAENAQ4BDwEQAREBEgETARQBFQEWARcBGAEZARoBGwEcAR0BHgEfASABIQEiASMBJAElASYBJwEoASkBKgErASwBLQEuAS8BMAExATIBMwE0ATUBNgE3ATgBOQE6ATsBPAE9AT4BPwFAAUEBQgFDAUQBRQFGAUcBSAFJAUoBSwFMAU0BTgFPAVABUQFSAVMBVAFVAVYBVwFYAVkBWgFbAVwBXQFeAV8BYAFhAWIBYwFkAWUBZgFnAWgBaQFqAWsBbAFtAQ==",
          "dtype": "i2"
         },
         "y": {
          "bdata": "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",
          "dtype": "f8"
         }
        },
        {
         "line": {
          "width": 1
         },
         "mode": "lines",
         "name": "2015",
         "showlegend": true,
         "type": "scatter",
         "x": {
          "bdata": "AQACAAMABAAFAAYABwAIAAkACgALAAwADQAOAA8AEAARABIAEwAUABUAFgAXABgAGQAaABsAHAAdAB4AHwAgACEAIgAjACQAJQAmACcAKAApACoAKwAsAC0ALgAvADAAMQAyADMANAA1ADYANwA4ADkAOgA7ADwAPQA+AD8AQABBAEIAQwBEAEUARgBHAEgASQBKAEsATABNAE4ATwBQAFEAUgBTAFQAVQBWAFcAWABZAFoAWwBcAF0AXgBfAGAAYQBiAGMAZABlAGYAZwBoAGkAagBrAGwAbQBuAG8AcABxAHIAcwB0AHUAdgB3AHgAeQB6AHsAfAB9AH4AfwCAAIEAggCDAIQAhQCGAIcAiACJAIoAiwCMAI0AjgCPAJAAkQCSAJMAlACVAJYAlwCYAJkAmgCbAJwAnQCeAJ8AoAChAKIAowCkAKUApgCnAKgAqQCqAKsArACtAK4ArwCwALEAsgCzALQAtQC2ALcAuAC5ALoAuwC8AL0AvgC/AMAAwQDCAMMAxADFAMYAxwDIAMkAygDLAMwAzQDOAM8A0ADRANIA0wDUANUA1gDXANgA2QDaANsA3ADdAN4A3wDgAOEA4gDjAOQA5QDmAOcA6ADpAOoA6wDsAO0A7gDvAPAA8QDyAPMA9AD1APYA9wD4APkA+gD7APwA/QD+AP8AAAEBAQIBAwEEAQUBBgEHAQgBCQEKAQsBDAENAQ4BDwEQAREBEgETARQBFQEWARcBGAEZARoBGwEcAR0BHgEfASABIQEiASMBJAElASYBJwEoASkBKgErASwBLQEuAS8BMAExATIBMwE0ATUBNgE3ATgBOQE6ATsBPAE9AT4BPwFAAUEBQgFDAUQBRQFGAUcBSAFJAUoBSwFMAU0BTgFPAVABUQFSAVMBVAFVAVYBVwFYAVkBWgFbAVwBXQFeAV8BYAFhAWIBYwFkAWUBZgFnAWgBaQFqAWsBbAFtAQ==",
          "dtype": "i2"
         },
         "y": {
          "bdata": "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",
          "dtype": "f8"
         }
        },
        {
         "line": {
          "width": 1
         },
         "mode": "lines",
         "name": "2016",
         "showlegend": true,
         "type": "scatter",
         "x": {
          "bdata": "AQACAAMABAAFAAYABwAIAAkACgALAAwADQAOAA8AEAARABIAEwAUABUAFgAXABgAGQAaABsAHAAdAB4AHwAgACEAIgAjACQAJQAmACcAKAApACoAKwAsAC0ALgAvADAAMQAyADMANAA1ADYANwA4ADkAOgA7ADwAPQA+AD8AQABBAEIAQwBEAEUARgBHAEgASQBKAEsATABNAE4ATwBQAFEAUgBTAFQAVQBWAFcAWABZAFoAWwBcAF0AXgBfAGAAYQBiAGMAZABlAGYAZwBoAGkAagBrAGwAbQBuAG8AcABxAHIAcwB0AHUAdgB3AHgAeQB6AHsAfAB9AH4AfwCAAIEAggCDAIQAhQCGAIcAiACJAIoAiwCMAI0AjgCPAJAAkQCSAJMAlACVAJYAlwCYAJkAmgCbAJwAnQCeAJ8AoAChAKIAowCkAKUApgCnAKgAqQCqAKsArACtAK4ArwCwALEAsgCzALQAtQC2ALcAuAC5ALoAuwC8AL0AvgC/AMAAwQDCAMMAxADFAMYAxwDIAMkAygDLAMwAzQDOAM8A0ADRANIA0wDUANUA1gDXANgA2QDaANsA3ADdAN4A3wDgAOEA4gDjAOQA5QDmAOcA6ADpAOoA6wDsAO0A7gDvAPAA8QDyAPMA9AD1APYA9wD4APkA+gD7APwA/QD+AP8AAAEBAQIBAwEEAQUBBgEHAQgBCQEKAQsBDAENAQ4BDwEQAREBEgETARQBFQEWARcBGAEZARoBGwEcAR0BHgEfASABIQEiASMBJAElASYBJwEoASkBKgErASwBLQEuAS8BMAExATIBMwE0ATUBNgE3ATgBOQE6ATsBPAE9AT4BPwFAAUEBQgFDAUQBRQFGAUcBSAFJAUoBSwFMAU0BTgFPAVABUQFSAVMBVAFVAVYBVwFYAVkBWgFbAVwBXQFeAV8BYAFhAWIBYwFkAWUBZgFnAWgBaQFqAWsBbAFtAQ==",
          "dtype": "i2"
         },
         "y": {
          "bdata": "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",
          "dtype": "f8"
         }
        },
        {
         "line": {
          "width": 1
         },
         "mode": "lines",
         "name": "2017",
         "showlegend": true,
         "type": "scatter",
         "x": {
          "bdata": "AQACAAMABAAFAAYABwAIAAkACgALAAwADQAOAA8AEAARABIAEwAUABUAFgAXABgAGQAaABsAHAAdAB4AHwAgACEAIgAjACQAJQAmACcAKAApACoAKwAsAC0ALgAvADAAMQAyADMANAA1ADYANwA4ADkAOgA7ADwAPQA+AD8AQABBAEIAQwBEAEUARgBHAEgASQBKAEsATABNAE4ATwBQAFEAUgBTAFQAVQBWAFcAWABZAFoAWwBcAF0AXgBfAGAAYQBiAGMAZABlAGYAZwBoAGkAagBrAGwAbQBuAG8AcABxAHIAcwB0AHUAdgB3AHgAeQB6AHsAfAB9AH4AfwCAAIEAggCDAIQAhQCGAIcAiACJAIoAiwCMAI0AjgCPAJAAkQCSAJMAlACVAJYAlwCYAJkAmgCbAJwAnQCeAJ8AoAChAKIAowCkAKUApgCnAKgAqQCqAKsArACtAK4ArwCwALEAsgCzALQAtQC2ALcAuAC5ALoAuwC8AL0AvgC/AMAAwQDCAMMAxADFAMYAxwDIAMkAygDLAMwAzQDOAM8A0ADRANIA0wDUANUA1gDXANgA2QDaANsA3ADdAN4A3wDgAOEA4gDjAOQA5QDmAOcA6ADpAOoA6wDsAO0A7gDvAPAA8QDyAPMA9AD1APYA9wD4APkA+gD7APwA/QD+AP8AAAEBAQIBAwEEAQUBBgEHAQgBCQEKAQsBDAENAQ4BDwEQAREBEgETARQBFQEWARcBGAEZARoBGwEcAR0BHgEfASABIQEiASMBJAElASYBJwEoASkBKgErASwBLQEuAS8BMAExATIBMwE0ATUBNgE3ATgBOQE6ATsBPAE9AT4BPwFAAUEBQgFDAUQBRQFGAUcBSAFJAUoBSwFMAU0BTgFPAVABUQFSAVMBVAFVAVYBVwFYAVkBWgFbAVwBXQFeAV8BYAFhAWIBYwFkAWUBZgFnAWgBaQFqAWsBbAFtAQ==",
          "dtype": "i2"
         },
         "y": {
          "bdata": "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",
          "dtype": "f8"
         }
        },
        {
         "line": {
          "width": 1
         },
         "mode": "lines",
         "name": "2018",
         "showlegend": true,
         "type": "scatter",
         "x": {
          "bdata": "AQACAAMABAAFAAYABwAIAAkACgALAAwADQAOAA8AEAARABIAEwAUABUAFgAXABgAGQAaABsAHAAdAB4AHwAgACEAIgAjACQAJQAmACcAKAApACoAKwAsAC0ALgAvADAAMQAyADMANAA1ADYANwA4ADkAOgA7ADwAPQA+AD8AQABBAEIAQwBEAEUARgBHAEgASQBKAEsATABNAE4ATwBQAFEAUgBTAFQAVQBWAFcAWABZAFoAWwBcAF0AXgBfAGAAYQBiAGMAZABlAGYAZwBoAGkAagBrAGwAbQBuAG8AcABxAHIAcwB0AHUAdgB3AHgAeQB6AHsAfAB9AH4AfwCAAIEAggCDAIQAhQCGAIcAiACJAIoAiwCMAI0AjgCPAJAAkQCSAJMAlACVAJYAlwCYAJkAmgCbAJwAnQCeAJ8AoAChAKIAowCkAKUApgCnAKgAqQCqAKsArACtAK4ArwCwALEAsgCzALQAtQC2ALcAuAC5ALoAuwC8AL0AvgC/AMAAwQDCAMMAxADFAMYAxwDIAMkAygDLAMwAzQDOAM8A0ADRANIA0wDUANUA1gDXANgA2QDaANsA3ADdAN4A3wDgAOEA4gDjAOQA5QDmAOcA6ADpAOoA6wDsAO0A7gDvAPAA8QDyAPMA9AD1APYA9wD4APkA+gD7APwA/QD+AP8AAAEBAQIBAwEEAQUBBgEHAQgBCQEKAQsBDAENAQ4BDwEQAREBEgETARQBFQEWARcBGAEZARoBGwEcAR0BHgEfASABIQEiASMBJAElASYBJwEoASkBKgErASwBLQEuAS8BMAExATIBMwE0ATUBNgE3ATgBOQE6ATsBPAE9AT4BPwFAAUEBQgFDAUQBRQFGAUcBSAFJAUoBSwFMAU0BTgFPAVABUQFSAVMBVAFVAVYBVwFYAVkBWgFbAVwBXQFeAV8BYAFhAWIBYwFkAWUBZgFnAWgBaQFqAWsBbAFtAQ==",
          "dtype": "i2"
         },
         "y": {
          "bdata": "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",
          "dtype": "f8"
         }
        },
        {
         "line": {
          "width": 1
         },
         "mode": "lines",
         "name": "2019",
         "showlegend": true,
         "type": "scatter",
         "x": {
          "bdata": "AQACAAMABAAFAAYABwAIAAkACgALAAwADQAOAA8AEAARABIAEwAUABUAFgAXABgAGQAaABsAHAAdAB4AHwAgACEAIgAjACQAJQAmACcAKAApACoAKwAsAC0ALgAvADAAMQAyADMANAA1ADYANwA4ADkAOgA7ADwAPQA+AD8AQABBAEIAQwBEAEUARgBHAEgASQBKAEsATABNAE4ATwBQAFEAUgBTAFQAVQBWAFcAWABZAFoAWwBcAF0AXgBfAGAAYQBiAGMAZABlAGYAZwBoAGkAagBrAGwAbQBuAG8AcABxAHIAcwB0AHUAdgB3AHgAeQB6AHsAfAB9AH4AfwCAAIEAggCDAIQAhQCGAIcAiACJAIoAiwCMAI0AjgCPAJAAkQCSAJMAlACVAJYAlwCYAJkAmgCbAJwAnQCeAJ8AoAChAKIAowCkAKUApgCnAKgAqQCqAKsArACtAK4ArwCwALEAsgCzALQAtQC2ALcAuAC5ALoAuwC8AL0AvgC/AMAAwQDCAMMAxADFAMYAxwDIAMkAygDLAMwAzQDOAM8A0ADRANIA0wDUANUA1gDXANgA2QDaANsA3ADdAN4A3wDgAOEA4gDjAOQA5QDmAOcA6ADpAOoA6wDsAO0A7gDvAPAA8QDyAPMA9AD1APYA9wD4APkA+gD7APwA/QD+AP8AAAEBAQIBAwEEAQUBBgEHAQgBCQEKAQsBDAENAQ4BDwEQAREBEgETARQBFQEWARcBGAEZARoBGwEcAR0BHgEfASABIQEiASMBJAElASYBJwEoASkBKgErASwBLQEuAS8BMAExATIBMwE0ATUBNgE3ATgBOQE6ATsBPAE9AT4BPwFAAUEBQgFDAUQBRQFGAUcBSAFJAUoBSwFMAU0BTgFPAVABUQFSAVMBVAFVAVYBVwFYAVkBWgFbAVwBXQFeAV8BYAFhAWIBYwFkAWUBZgFnAWgBaQFqAWsBbAFtAQ==",
          "dtype": "i2"
         },
         "y": {
          "bdata": "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",
          "dtype": "f8"
         }
        },
        {
         "line": {
          "width": 1
         },
         "mode": "lines",
         "name": "2020",
         "showlegend": true,
         "type": "scatter",
         "x": {
          "bdata": "AQACAAMABAAFAAYABwAIAAkACgALAAwADQAOAA8AEAARABIAEwAUABUAFgAXABgAGQAaABsAHAAdAB4AHwAgACEAIgAjACQAJQAmACcAKAApACoAKwAsAC0ALgAvADAAMQAyADMANAA1ADYANwA4ADkAOgA7ADwAPQA+AD8AQABBAEIAQwBEAEUARgBHAEgASQBKAEsATABNAE4ATwBQAFEAUgBTAFQAVQBWAFcAWABZAFoAWwBcAF0AXgBfAGAAYQBiAGMAZABlAGYAZwBoAGkAagBrAGwAbQBuAG8AcABxAHIAcwB0AHUAdgB3AHgAeQB6AHsAfAB9AH4AfwCAAIEAggCDAIQAhQCGAIcAiACJAIoAiwCMAI0AjgCPAJAAkQCSAJMAlACVAJYAlwCYAJkAmgCbAJwAnQCeAJ8AoAChAKIAowCkAKUApgCnAKgAqQCqAKsArACtAK4ArwCwALEAsgCzALQAtQC2ALcAuAC5ALoAuwC8AL0AvgC/AMAAwQDCAMMAxADFAMYAxwDIAMkAygDLAMwAzQDOAM8A0ADRANIA0wDUANUA1gDXANgA2QDaANsA3ADdAN4A3wDgAOEA4gDjAOQA5QDmAOcA6ADpAOoA6wDsAO0A7gDvAPAA8QDyAPMA9AD1APYA9wD4APkA+gD7APwA/QD+AP8AAAEBAQIBAwEEAQUBBgEHAQgBCQEKAQsBDAENAQ4BDwEQAREBEgETARQBFQEWARcBGAEZARoBGwEcAR0BHgEfASABIQEiASMBJAElASYBJwEoASkBKgErASwBLQEuAS8BMAExATIBMwE0ATUBNgE3ATgBOQE6ATsBPAE9AT4BPwFAAUEBQgFDAUQBRQFGAUcBSAFJAUoBSwFMAU0BTgFPAVABUQFSAVMBVAFVAVYBVwFYAVkBWgFbAVwBXQFeAV8BYAFhAWIBYwFkAWUBZgFnAWgBaQFqAWsBbAFtAQ==",
          "dtype": "i2"
         },
         "y": {
          "bdata": "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",
          "dtype": "f8"
         }
        },
        {
         "line": {
          "color": "black",
          "width": 3
         },
         "mode": "lines",
         "name": "Climatology",
         "type": "scatter",
         "x": {
          "bdata": "AQACAAMABAAFAAYABwAIAAkACgALAAwADQAOAA8AEAARABIAEwAUABUAFgAXABgAGQAaABsAHAAdAB4AHwAgACEAIgAjACQAJQAmACcAKAApACoAKwAsAC0ALgAvADAAMQAyADMANAA1ADYANwA4ADkAOgA7ADwAPQA+AD8AQABBAEIAQwBEAEUARgBHAEgASQBKAEsATABNAE4ATwBQAFEAUgBTAFQAVQBWAFcAWABZAFoAWwBcAF0AXgBfAGAAYQBiAGMAZABlAGYAZwBoAGkAagBrAGwAbQBuAG8AcABxAHIAcwB0AHUAdgB3AHgAeQB6AHsAfAB9AH4AfwCAAIEAggCDAIQAhQCGAIcAiACJAIoAiwCMAI0AjgCPAJAAkQCSAJMAlACVAJYAlwCYAJkAmgCbAJwAnQCeAJ8AoAChAKIAowCkAKUApgCnAKgAqQCqAKsArACtAK4ArwCwALEAsgCzALQAtQC2ALcAuAC5ALoAuwC8AL0AvgC/AMAAwQDCAMMAxADFAMYAxwDIAMkAygDLAMwAzQDOAM8A0ADRANIA0wDUANUA1gDXANgA2QDaANsA3ADdAN4A3wDgAOEA4gDjAOQA5QDmAOcA6ADpAOoA6wDsAO0A7gDvAPAA8QDyAPMA9AD1APYA9wD4APkA+gD7APwA/QD+AP8AAAEBAQIBAwEEAQUBBgEHAQgBCQEKAQsBDAENAQ4BDwEQAREBEgETARQBFQEWARcBGAEZARoBGwEcAR0BHgEfASABIQEiASMBJAElASYBJwEoASkBKgErASwBLQEuAS8BMAExATIBMwE0ATUBNgE3ATgBOQE6ATsBPAE9AT4BPwFAAUEBQgFDAUQBRQFGAUcBSAFJAUoBSwFMAU0BTgFPAVABUQFSAVMBVAFVAVYBVwFYAVkBWgFbAVwBXQFeAV8BYAFhAWIBYwFkAWUBZgFnAWgBaQFqAWsBbAFtAQ==",
          "dtype": "i2"
         },
         "y": {
          "bdata": "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",
          "dtype": "f8"
         }
        },
        {
         "line": {
          "color": "grey",
          "width": 2
         },
         "mode": "lines",
         "name": "Median",
         "type": "scatter",
         "x": {
          "bdata": "AQACAAMABAAFAAYABwAIAAkACgALAAwADQAOAA8AEAARABIAEwAUABUAFgAXABgAGQAaABsAHAAdAB4AHwAgACEAIgAjACQAJQAmACcAKAApACoAKwAsAC0ALgAvADAAMQAyADMANAA1ADYANwA4ADkAOgA7ADwAPQA+AD8AQABBAEIAQwBEAEUARgBHAEgASQBKAEsATABNAE4ATwBQAFEAUgBTAFQAVQBWAFcAWABZAFoAWwBcAF0AXgBfAGAAYQBiAGMAZABlAGYAZwBoAGkAagBrAGwAbQBuAG8AcABxAHIAcwB0AHUAdgB3AHgAeQB6AHsAfAB9AH4AfwCAAIEAggCDAIQAhQCGAIcAiACJAIoAiwCMAI0AjgCPAJAAkQCSAJMAlACVAJYAlwCYAJkAmgCbAJwAnQCeAJ8AoAChAKIAowCkAKUApgCnAKgAqQCqAKsArACtAK4ArwCwALEAsgCzALQAtQC2ALcAuAC5ALoAuwC8AL0AvgC/AMAAwQDCAMMAxADFAMYAxwDIAMkAygDLAMwAzQDOAM8A0ADRANIA0wDUANUA1gDXANgA2QDaANsA3ADdAN4A3wDgAOEA4gDjAOQA5QDmAOcA6ADpAOoA6wDsAO0A7gDvAPAA8QDyAPMA9AD1APYA9wD4APkA+gD7APwA/QD+AP8AAAEBAQIBAwEEAQUBBgEHAQgBCQEKAQsBDAENAQ4BDwEQAREBEgETARQBFQEWARcBGAEZARoBGwEcAR0BHgEfASABIQEiASMBJAElASYBJwEoASkBKgErASwBLQEuAS8BMAExATIBMwE0ATUBNgE3ATgBOQE6ATsBPAE9AT4BPwFAAUEBQgFDAUQBRQFGAUcBSAFJAUoBSwFMAU0BTgFPAVABUQFSAVMBVAFVAVYBVwFYAVkBWgFbAVwBXQFeAV8BYAFhAWIBYwFkAWUBZgFnAWgBaQFqAWsBbAFtAQ==",
          "dtype": "i2"
         },
         "y": {
          "bdata": "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",
          "dtype": "f8"
         }
        }
       ],
       "layout": {
        "template": {
         "data": {
          "bar": [
           {
            "error_x": {
             "color": "#2a3f5f"
            },
            "error_y": {
             "color": "#2a3f5f"
            },
            "marker": {
             "line": {
              "color": "white",
              "width": 0.5
             },
             "pattern": {
              "fillmode": "overlay",
              "size": 10,
              "solidity": 0.2
             }
            },
            "type": "bar"
           }
          ],
          "barpolar": [
           {
            "marker": {
             "line": {
              "color": "white",
              "width": 0.5
             },
             "pattern": {
              "fillmode": "overlay",
              "size": 10,
              "solidity": 0.2
             }
            },
            "type": "barpolar"
           }
          ],
          "carpet": [
           {
            "aaxis": {
             "endlinecolor": "#2a3f5f",
             "gridcolor": "#C8D4E3",
             "linecolor": "#C8D4E3",
             "minorgridcolor": "#C8D4E3",
             "startlinecolor": "#2a3f5f"
            },
            "baxis": {
             "endlinecolor": "#2a3f5f",
             "gridcolor": "#C8D4E3",
             "linecolor": "#C8D4E3",
             "minorgridcolor": "#C8D4E3",
             "startlinecolor": "#2a3f5f"
            },
            "type": "carpet"
           }
          ],
          "choropleth": [
           {
            "colorbar": {
             "outlinewidth": 0,
             "ticks": ""
            },
            "type": "choropleth"
           }
          ],
          "contour": [
           {
            "colorbar": {
             "outlinewidth": 0,
             "ticks": ""
            },
            "colorscale": [
             [
              0,
              "#0d0887"
             ],
             [
              0.1111111111111111,
              "#46039f"
             ],
             [
              0.2222222222222222,
              "#7201a8"
             ],
             [
              0.3333333333333333,
              "#9c179e"
             ],
             [
              0.4444444444444444,
              "#bd3786"
             ],
             [
              0.5555555555555556,
              "#d8576b"
             ],
             [
              0.6666666666666666,
              "#ed7953"
             ],
             [
              0.7777777777777778,
              "#fb9f3a"
             ],
             [
              0.8888888888888888,
              "#fdca26"
             ],
             [
              1,
              "#f0f921"
             ]
            ],
            "type": "contour"
           }
          ],
          "contourcarpet": [
           {
            "colorbar": {
             "outlinewidth": 0,
             "ticks": ""
            },
            "type": "contourcarpet"
           }
          ],
          "heatmap": [
           {
            "colorbar": {
             "outlinewidth": 0,
             "ticks": ""
            },
            "colorscale": [
             [
              0,
              "#0d0887"
             ],
             [
              0.1111111111111111,
              "#46039f"
             ],
             [
              0.2222222222222222,
              "#7201a8"
             ],
             [
              0.3333333333333333,
              "#9c179e"
             ],
             [
              0.4444444444444444,
              "#bd3786"
             ],
             [
              0.5555555555555556,
              "#d8576b"
             ],
             [
              0.6666666666666666,
              "#ed7953"
             ],
             [
              0.7777777777777778,
              "#fb9f3a"
             ],
             [
              0.8888888888888888,
              "#fdca26"
             ],
             [
              1,
              "#f0f921"
             ]
            ],
            "type": "heatmap"
           }
          ],
          "histogram": [
           {
            "marker": {
             "pattern": {
              "fillmode": "overlay",
              "size": 10,
              "solidity": 0.2
             }
            },
            "type": "histogram"
           }
          ],
          "histogram2d": [
           {
            "colorbar": {
             "outlinewidth": 0,
             "ticks": ""
            },
            "colorscale": [
             [
              0,
              "#0d0887"
             ],
             [
              0.1111111111111111,
              "#46039f"
             ],
             [
              0.2222222222222222,
              "#7201a8"
             ],
             [
              0.3333333333333333,
              "#9c179e"
             ],
             [
              0.4444444444444444,
              "#bd3786"
             ],
             [
              0.5555555555555556,
              "#d8576b"
             ],
             [
              0.6666666666666666,
              "#ed7953"
             ],
             [
              0.7777777777777778,
              "#fb9f3a"
             ],
             [
              0.8888888888888888,
              "#fdca26"
             ],
             [
              1,
              "#f0f921"
             ]
            ],
            "type": "histogram2d"
           }
          ],
          "histogram2dcontour": [
           {
            "colorbar": {
             "outlinewidth": 0,
             "ticks": ""
            },
            "colorscale": [
             [
              0,
              "#0d0887"
             ],
             [
              0.1111111111111111,
              "#46039f"
             ],
             [
              0.2222222222222222,
              "#7201a8"
             ],
             [
              0.3333333333333333,
              "#9c179e"
             ],
             [
              0.4444444444444444,
              "#bd3786"
             ],
             [
              0.5555555555555556,
              "#d8576b"
             ],
             [
              0.6666666666666666,
              "#ed7953"
             ],
             [
              0.7777777777777778,
              "#fb9f3a"
             ],
             [
              0.8888888888888888,
              "#fdca26"
             ],
             [
              1,
              "#f0f921"
             ]
            ],
            "type": "histogram2dcontour"
           }
          ],
          "mesh3d": [
           {
            "colorbar": {
             "outlinewidth": 0,
             "ticks": ""
            },
            "type": "mesh3d"
           }
          ],
          "parcoords": [
           {
            "line": {
             "colorbar": {
              "outlinewidth": 0,
              "ticks": ""
             }
            },
            "type": "parcoords"
           }
          ],
          "pie": [
           {
            "automargin": true,
            "type": "pie"
           }
          ],
          "scatter": [
           {
            "fillpattern": {
             "fillmode": "overlay",
             "size": 10,
             "solidity": 0.2
            },
            "type": "scatter"
           }
          ],
          "scatter3d": [
           {
            "line": {
             "colorbar": {
              "outlinewidth": 0,
              "ticks": ""
             }
            },
            "marker": {
             "colorbar": {
              "outlinewidth": 0,
              "ticks": ""
             }
            },
            "type": "scatter3d"
           }
          ],
          "scattercarpet": [
           {
            "marker": {
             "colorbar": {
              "outlinewidth": 0,
              "ticks": ""
             }
            },
            "type": "scattercarpet"
           }
          ],
          "scattergeo": [
           {
            "marker": {
             "colorbar": {
              "outlinewidth": 0,
              "ticks": ""
             }
            },
            "type": "scattergeo"
           }
          ],
          "scattergl": [
           {
            "marker": {
             "colorbar": {
              "outlinewidth": 0,
              "ticks": ""
             }
            },
            "type": "scattergl"
           }
          ],
          "scattermap": [
           {
            "marker": {
             "colorbar": {
              "outlinewidth": 0,
              "ticks": ""
             }
            },
            "type": "scattermap"
           }
          ],
          "scattermapbox": [
           {
            "marker": {
             "colorbar": {
              "outlinewidth": 0,
              "ticks": ""
             }
            },
            "type": "scattermapbox"
           }
          ],
          "scatterpolar": [
           {
            "marker": {
             "colorbar": {
              "outlinewidth": 0,
              "ticks": ""
             }
            },
            "type": "scatterpolar"
           }
          ],
          "scatterpolargl": [
           {
            "marker": {
             "colorbar": {
              "outlinewidth": 0,
              "ticks": ""
             }
            },
            "type": "scatterpolargl"
           }
          ],
          "scatterternary": [
           {
            "marker": {
             "colorbar": {
              "outlinewidth": 0,
              "ticks": ""
             }
            },
            "type": "scatterternary"
           }
          ],
          "surface": [
           {
            "colorbar": {
             "outlinewidth": 0,
             "ticks": ""
            },
            "colorscale": [
             [
              0,
              "#0d0887"
             ],
             [
              0.1111111111111111,
              "#46039f"
             ],
             [
              0.2222222222222222,
              "#7201a8"
             ],
             [
              0.3333333333333333,
              "#9c179e"
             ],
             [
              0.4444444444444444,
              "#bd3786"
             ],
             [
              0.5555555555555556,
              "#d8576b"
             ],
             [
              0.6666666666666666,
              "#ed7953"
             ],
             [
              0.7777777777777778,
              "#fb9f3a"
             ],
             [
              0.8888888888888888,
              "#fdca26"
             ],
             [
              1,
              "#f0f921"
             ]
            ],
            "type": "surface"
           }
          ],
          "table": [
           {
            "cells": {
             "fill": {
              "color": "#EBF0F8"
             },
             "line": {
              "color": "white"
             }
            },
            "header": {
             "fill": {
              "color": "#C8D4E3"
             },
             "line": {
              "color": "white"
             }
            },
            "type": "table"
           }
          ]
         },
         "layout": {
          "annotationdefaults": {
           "arrowcolor": "#2a3f5f",
           "arrowhead": 0,
           "arrowwidth": 1
          },
          "autotypenumbers": "strict",
          "coloraxis": {
           "colorbar": {
            "outlinewidth": 0,
            "ticks": ""
           }
          },
          "colorscale": {
           "diverging": [
            [
             0,
             "#8e0152"
            ],
            [
             0.1,
             "#c51b7d"
            ],
            [
             0.2,
             "#de77ae"
            ],
            [
             0.3,
             "#f1b6da"
            ],
            [
             0.4,
             "#fde0ef"
            ],
            [
             0.5,
             "#f7f7f7"
            ],
            [
             0.6,
             "#e6f5d0"
            ],
            [
             0.7,
             "#b8e186"
            ],
            [
             0.8,
             "#7fbc41"
            ],
            [
             0.9,
             "#4d9221"
            ],
            [
             1,
             "#276419"
            ]
           ],
           "sequential": [
            [
             0,
             "#0d0887"
            ],
            [
             0.1111111111111111,
             "#46039f"
            ],
            [
             0.2222222222222222,
             "#7201a8"
            ],
            [
             0.3333333333333333,
             "#9c179e"
            ],
            [
             0.4444444444444444,
             "#bd3786"
            ],
            [
             0.5555555555555556,
             "#d8576b"
            ],
            [
             0.6666666666666666,
             "#ed7953"
            ],
            [
             0.7777777777777778,
             "#fb9f3a"
            ],
            [
             0.8888888888888888,
             "#fdca26"
            ],
            [
             1,
             "#f0f921"
            ]
           ],
           "sequentialminus": [
            [
             0,
             "#0d0887"
            ],
            [
             0.1111111111111111,
             "#46039f"
            ],
            [
             0.2222222222222222,
             "#7201a8"
            ],
            [
             0.3333333333333333,
             "#9c179e"
            ],
            [
             0.4444444444444444,
             "#bd3786"
            ],
            [
             0.5555555555555556,
             "#d8576b"
            ],
            [
             0.6666666666666666,
             "#ed7953"
            ],
            [
             0.7777777777777778,
             "#fb9f3a"
            ],
            [
             0.8888888888888888,
             "#fdca26"
            ],
            [
             1,
             "#f0f921"
            ]
           ]
          },
          "colorway": [
           "#636efa",
           "#EF553B",
           "#00cc96",
           "#ab63fa",
           "#FFA15A",
           "#19d3f3",
           "#FF6692",
           "#B6E880",
           "#FF97FF",
           "#FECB52"
          ],
          "font": {
           "color": "#2a3f5f"
          },
          "geo": {
           "bgcolor": "white",
           "lakecolor": "white",
           "landcolor": "white",
           "showlakes": true,
           "showland": true,
           "subunitcolor": "#C8D4E3"
          },
          "hoverlabel": {
           "align": "left"
          },
          "hovermode": "closest",
          "mapbox": {
           "style": "light"
          },
          "paper_bgcolor": "white",
          "plot_bgcolor": "white",
          "polar": {
           "angularaxis": {
            "gridcolor": "#EBF0F8",
            "linecolor": "#EBF0F8",
            "ticks": ""
           },
           "bgcolor": "white",
           "radialaxis": {
            "gridcolor": "#EBF0F8",
            "linecolor": "#EBF0F8",
            "ticks": ""
           }
          },
          "scene": {
           "xaxis": {
            "backgroundcolor": "white",
            "gridcolor": "#DFE8F3",
            "gridwidth": 2,
            "linecolor": "#EBF0F8",
            "showbackground": true,
            "ticks": "",
            "zerolinecolor": "#EBF0F8"
           },
           "yaxis": {
            "backgroundcolor": "white",
            "gridcolor": "#DFE8F3",
            "gridwidth": 2,
            "linecolor": "#EBF0F8",
            "showbackground": true,
            "ticks": "",
            "zerolinecolor": "#EBF0F8"
           },
           "zaxis": {
            "backgroundcolor": "white",
            "gridcolor": "#DFE8F3",
            "gridwidth": 2,
            "linecolor": "#EBF0F8",
            "showbackground": true,
            "ticks": "",
            "zerolinecolor": "#EBF0F8"
           }
          },
          "shapedefaults": {
           "line": {
            "color": "#2a3f5f"
           }
          },
          "ternary": {
           "aaxis": {
            "gridcolor": "#DFE8F3",
            "linecolor": "#A2B1C6",
            "ticks": ""
           },
           "baxis": {
            "gridcolor": "#DFE8F3",
            "linecolor": "#A2B1C6",
            "ticks": ""
           },
           "bgcolor": "white",
           "caxis": {
            "gridcolor": "#DFE8F3",
            "linecolor": "#A2B1C6",
            "ticks": ""
           }
          },
          "title": {
           "x": 0.05
          },
          "xaxis": {
           "automargin": true,
           "gridcolor": "#EBF0F8",
           "linecolor": "#EBF0F8",
           "ticks": "",
           "title": {
            "standoff": 15
           },
           "zerolinecolor": "#EBF0F8",
           "zerolinewidth": 2
          },
          "yaxis": {
           "automargin": true,
           "gridcolor": "#EBF0F8",
           "linecolor": "#EBF0F8",
           "ticks": "",
           "title": {
            "standoff": 15
           },
           "zerolinecolor": "#EBF0F8",
           "zerolinewidth": 2
          }
         }
        },
        "title": {
         "text": "Daily Temperature Time Series (1998-2020) and Climatology at PAPA"
        },
        "xaxis": {
         "title": {
          "text": "Day of Year"
         }
        },
        "yaxis": {
         "title": {
          "text": "Temperature (degres Celcius)"
         }
        }
       }
      }
     },
     "metadata": {},
     "output_type": "display_data"
    }
   ],
   "source": [
    "# Extract temperature and convert to pandas for plotting\n",
    "temp = ds_temp['T']\n",
    "clim = ds_clim_T['T']\n",
    "\n",
    "# assign day coordinate in ds_temp\n",
    "# Extract MM-DD \n",
    "mmdd = pd.to_datetime(temp.time.values).strftime('%m-%d')\n",
    "# transform MM-DD in indice of day in year (1->365)\n",
    "day_noleap = pd.Series(mmdd).map(mmdd_to_day).values\n",
    "# add coord day\n",
    "temp = temp.assign_coords(day=(\"time\", day_noleap))\n",
    "\n",
    "# for clim \n",
    "day_of_year= np.arange(1,366)\n",
    "clim= clim.assign_coords(day_of_year=(\"day\", day_of_year))\n",
    "\n",
    "# Compute median\n",
    "median_temp = temp.groupby('day').median('time')\n",
    "\n",
    "#smooth median \n",
    "# Pad 15 days on each side cyclically\n",
    "pad_width = 15\n",
    "extended = xr.concat(\n",
    "    [median_temp.isel(day=slice(-pad_width, None)),  # wrap end -> beginning\n",
    "     median_temp,\n",
    "     median_temp.isel(day=slice(0, pad_width))],     # wrap beginning -> end\n",
    "    dim='day'\n",
    ")\n",
    "\n",
    "# Fix the 'day' coordinate (but for clarity)\n",
    "extended['day'] = np.arange(-pad_width, 365 + pad_width)\n",
    "\n",
    "# Apply the rolling mean\n",
    "smoothed = extended.rolling(day=30, center=True).mean()\n",
    "\n",
    "# Extract the center part (original days)\n",
    "median_temp_smooth = smoothed.sel(day=slice(1, 365))\n",
    "\n",
    "\n",
    "# Group by year\n",
    "years = pd.DatetimeIndex(temp.time.values).year.unique()\n",
    "\n",
    "fig = go.Figure()\n",
    "\n",
    "# Plot one line per year\n",
    "for year in years:\n",
    "    yearly_data = temp.sel(time=str(year))\n",
    "    fig.add_trace(go.Scatter(\n",
    "        x=yearly_data['day'],\n",
    "        y=yearly_data.values,\n",
    "        mode='lines',\n",
    "        line=dict(width=1),\n",
    "        name=str(year),\n",
    "        showlegend=True \n",
    "    ))\n",
    "\n",
    "# Plot climatology in black, thicker line\n",
    "fig.add_trace(go.Scatter(\n",
    "    x=clim['day_of_year'],\n",
    "    y=clim.values,\n",
    "    mode='lines',\n",
    "    name='Climatology',\n",
    "    line=dict(color='black', width=3)\n",
    "))\n",
    "#plot median in gray\n",
    "fig.add_trace(go.Scatter(\n",
    "    x=median_temp_smooth['day'],\n",
    "    y=median_temp_smooth.values,\n",
    "    mode='lines',\n",
    "    name='Median',\n",
    "    line=dict(color='grey', width=2)\n",
    "))\n",
    "\n",
    "fig.update_layout(\n",
    "    title='Daily Temperature Time Series (1998-2020) and Climatology at PAPA',\n",
    "    xaxis_title='Day of Year',\n",
    "    yaxis_title='Temperature (degres Celcius)',\n",
    "    template='plotly_white'\n",
    ")\n",
    "\n",
    "fig.show()\n"
   ]
  },
  {
   "cell_type": "markdown",
   "id": "fe713dd4",
   "metadata": {},
   "source": [
    "## Pelagic layer depth climatology"
   ]
  },
  {
   "cell_type": "markdown",
   "id": "809bd723",
   "metadata": {},
   "source": [
    "<div style=\"padding: 10px; border-radius: 5px; background-color: #cce5ff; color: #004085; border-left: 5px solid #007bff;\">\n",
    "    <strong>Note :</strong> It will be useful to convert unit btw model and observations.\n",
    "</div>"
   ]
  },
  {
   "cell_type": "code",
   "execution_count": 47,
   "id": "93ba9e71",
   "metadata": {},
   "outputs": [],
   "source": [
    "path_pld=\"/data/rd_exchange/sroyer/SEAPOPYM/daily_pelagiclayerdepth_papa_1998_2020.nc\"\n",
    "ds_pld = xr.open_dataset(path_pld,engine='netcdf4')\n",
    "path_clim_pld=\"/data/rd_exchange/sroyer/SEAPOPYM/daily_clim_pelagiclayerdepth_papa_1998_2020.nc\"\n",
    "ds_clim_pld = xr.open_dataset(path_clim_pld,engine='netcdf4')\n"
   ]
  },
  {
   "cell_type": "code",
   "execution_count": 48,
   "id": "74be27ee",
   "metadata": {},
   "outputs": [
    {
     "data": {
      "text/html": [
       "<div><svg style=\"position: absolute; width: 0; height: 0; overflow: hidden\">\n",
       "<defs>\n",
       "<symbol id=\"icon-database\" viewBox=\"0 0 32 32\">\n",
       "<path d=\"M16 0c-8.837 0-16 2.239-16 5v4c0 2.761 7.163 5 16 5s16-2.239 16-5v-4c0-2.761-7.163-5-16-5z\"></path>\n",
       "<path d=\"M16 17c-8.837 0-16-2.239-16-5v6c0 2.761 7.163 5 16 5s16-2.239 16-5v-6c0 2.761-7.163 5-16 5z\"></path>\n",
       "<path d=\"M16 26c-8.837 0-16-2.239-16-5v6c0 2.761 7.163 5 16 5s16-2.239 16-5v-6c0 2.761-7.163 5-16 5z\"></path>\n",
       "</symbol>\n",
       "<symbol id=\"icon-file-text2\" viewBox=\"0 0 32 32\">\n",
       "<path d=\"M28.681 7.159c-0.694-0.947-1.662-2.053-2.724-3.116s-2.169-2.030-3.116-2.724c-1.612-1.182-2.393-1.319-2.841-1.319h-15.5c-1.378 0-2.5 1.121-2.5 2.5v27c0 1.378 1.122 2.5 2.5 2.5h23c1.378 0 2.5-1.122 2.5-2.5v-19.5c0-0.448-0.137-1.23-1.319-2.841zM24.543 5.457c0.959 0.959 1.712 1.825 2.268 2.543h-4.811v-4.811c0.718 0.556 1.584 1.309 2.543 2.268zM28 29.5c0 0.271-0.229 0.5-0.5 0.5h-23c-0.271 0-0.5-0.229-0.5-0.5v-27c0-0.271 0.229-0.5 0.5-0.5 0 0 15.499-0 15.5 0v7c0 0.552 0.448 1 1 1h7v19.5z\"></path>\n",
       "<path d=\"M23 26h-14c-0.552 0-1-0.448-1-1s0.448-1 1-1h14c0.552 0 1 0.448 1 1s-0.448 1-1 1z\"></path>\n",
       "<path d=\"M23 22h-14c-0.552 0-1-0.448-1-1s0.448-1 1-1h14c0.552 0 1 0.448 1 1s-0.448 1-1 1z\"></path>\n",
       "<path d=\"M23 18h-14c-0.552 0-1-0.448-1-1s0.448-1 1-1h14c0.552 0 1 0.448 1 1s-0.448 1-1 1z\"></path>\n",
       "</symbol>\n",
       "</defs>\n",
       "</svg>\n",
       "<style>/* CSS stylesheet for displaying xarray objects in jupyterlab.\n",
       " *\n",
       " */\n",
       "\n",
       ":root {\n",
       "  --xr-font-color0: var(--jp-content-font-color0, rgba(0, 0, 0, 1));\n",
       "  --xr-font-color2: var(--jp-content-font-color2, rgba(0, 0, 0, 0.54));\n",
       "  --xr-font-color3: var(--jp-content-font-color3, rgba(0, 0, 0, 0.38));\n",
       "  --xr-border-color: var(--jp-border-color2, #e0e0e0);\n",
       "  --xr-disabled-color: var(--jp-layout-color3, #bdbdbd);\n",
       "  --xr-background-color: var(--jp-layout-color0, white);\n",
       "  --xr-background-color-row-even: var(--jp-layout-color1, white);\n",
       "  --xr-background-color-row-odd: var(--jp-layout-color2, #eeeeee);\n",
       "}\n",
       "\n",
       "html[theme=\"dark\"],\n",
       "html[data-theme=\"dark\"],\n",
       "body[data-theme=\"dark\"],\n",
       "body.vscode-dark {\n",
       "  --xr-font-color0: rgba(255, 255, 255, 1);\n",
       "  --xr-font-color2: rgba(255, 255, 255, 0.54);\n",
       "  --xr-font-color3: rgba(255, 255, 255, 0.38);\n",
       "  --xr-border-color: #1f1f1f;\n",
       "  --xr-disabled-color: #515151;\n",
       "  --xr-background-color: #111111;\n",
       "  --xr-background-color-row-even: #111111;\n",
       "  --xr-background-color-row-odd: #313131;\n",
       "}\n",
       "\n",
       ".xr-wrap {\n",
       "  display: block !important;\n",
       "  min-width: 300px;\n",
       "  max-width: 700px;\n",
       "}\n",
       "\n",
       ".xr-text-repr-fallback {\n",
       "  /* fallback to plain text repr when CSS is not injected (untrusted notebook) */\n",
       "  display: none;\n",
       "}\n",
       "\n",
       ".xr-header {\n",
       "  padding-top: 6px;\n",
       "  padding-bottom: 6px;\n",
       "  margin-bottom: 4px;\n",
       "  border-bottom: solid 1px var(--xr-border-color);\n",
       "}\n",
       "\n",
       ".xr-header > div,\n",
       ".xr-header > ul {\n",
       "  display: inline;\n",
       "  margin-top: 0;\n",
       "  margin-bottom: 0;\n",
       "}\n",
       "\n",
       ".xr-obj-type,\n",
       ".xr-array-name {\n",
       "  margin-left: 2px;\n",
       "  margin-right: 10px;\n",
       "}\n",
       "\n",
       ".xr-obj-type {\n",
       "  color: var(--xr-font-color2);\n",
       "}\n",
       "\n",
       ".xr-sections {\n",
       "  padding-left: 0 !important;\n",
       "  display: grid;\n",
       "  grid-template-columns: 150px auto auto 1fr 0 20px 0 20px;\n",
       "}\n",
       "\n",
       ".xr-section-item {\n",
       "  display: contents;\n",
       "}\n",
       "\n",
       ".xr-section-item input {\n",
       "  display: inline-block;\n",
       "  opacity: 0;\n",
       "  height: 0;\n",
       "}\n",
       "\n",
       ".xr-section-item input + label {\n",
       "  color: var(--xr-disabled-color);\n",
       "}\n",
       "\n",
       ".xr-section-item input:enabled + label {\n",
       "  cursor: pointer;\n",
       "  color: var(--xr-font-color2);\n",
       "}\n",
       "\n",
       ".xr-section-item input:focus + label {\n",
       "  border: 2px solid var(--xr-font-color0);\n",
       "}\n",
       "\n",
       ".xr-section-item input:enabled + label:hover {\n",
       "  color: var(--xr-font-color0);\n",
       "}\n",
       "\n",
       ".xr-section-summary {\n",
       "  grid-column: 1;\n",
       "  color: var(--xr-font-color2);\n",
       "  font-weight: 500;\n",
       "}\n",
       "\n",
       ".xr-section-summary > span {\n",
       "  display: inline-block;\n",
       "  padding-left: 0.5em;\n",
       "}\n",
       "\n",
       ".xr-section-summary-in:disabled + label {\n",
       "  color: var(--xr-font-color2);\n",
       "}\n",
       "\n",
       ".xr-section-summary-in + label:before {\n",
       "  display: inline-block;\n",
       "  content: \"►\";\n",
       "  font-size: 11px;\n",
       "  width: 15px;\n",
       "  text-align: center;\n",
       "}\n",
       "\n",
       ".xr-section-summary-in:disabled + label:before {\n",
       "  color: var(--xr-disabled-color);\n",
       "}\n",
       "\n",
       ".xr-section-summary-in:checked + label:before {\n",
       "  content: \"▼\";\n",
       "}\n",
       "\n",
       ".xr-section-summary-in:checked + label > span {\n",
       "  display: none;\n",
       "}\n",
       "\n",
       ".xr-section-summary,\n",
       ".xr-section-inline-details {\n",
       "  padding-top: 4px;\n",
       "  padding-bottom: 4px;\n",
       "}\n",
       "\n",
       ".xr-section-inline-details {\n",
       "  grid-column: 2 / -1;\n",
       "}\n",
       "\n",
       ".xr-section-details {\n",
       "  display: none;\n",
       "  grid-column: 1 / -1;\n",
       "  margin-bottom: 5px;\n",
       "}\n",
       "\n",
       ".xr-section-summary-in:checked ~ .xr-section-details {\n",
       "  display: contents;\n",
       "}\n",
       "\n",
       ".xr-array-wrap {\n",
       "  grid-column: 1 / -1;\n",
       "  display: grid;\n",
       "  grid-template-columns: 20px auto;\n",
       "}\n",
       "\n",
       ".xr-array-wrap > label {\n",
       "  grid-column: 1;\n",
       "  vertical-align: top;\n",
       "}\n",
       "\n",
       ".xr-preview {\n",
       "  color: var(--xr-font-color3);\n",
       "}\n",
       "\n",
       ".xr-array-preview,\n",
       ".xr-array-data {\n",
       "  padding: 0 5px !important;\n",
       "  grid-column: 2;\n",
       "}\n",
       "\n",
       ".xr-array-data,\n",
       ".xr-array-in:checked ~ .xr-array-preview {\n",
       "  display: none;\n",
       "}\n",
       "\n",
       ".xr-array-in:checked ~ .xr-array-data,\n",
       ".xr-array-preview {\n",
       "  display: inline-block;\n",
       "}\n",
       "\n",
       ".xr-dim-list {\n",
       "  display: inline-block !important;\n",
       "  list-style: none;\n",
       "  padding: 0 !important;\n",
       "  margin: 0;\n",
       "}\n",
       "\n",
       ".xr-dim-list li {\n",
       "  display: inline-block;\n",
       "  padding: 0;\n",
       "  margin: 0;\n",
       "}\n",
       "\n",
       ".xr-dim-list:before {\n",
       "  content: \"(\";\n",
       "}\n",
       "\n",
       ".xr-dim-list:after {\n",
       "  content: \")\";\n",
       "}\n",
       "\n",
       ".xr-dim-list li:not(:last-child):after {\n",
       "  content: \",\";\n",
       "  padding-right: 5px;\n",
       "}\n",
       "\n",
       ".xr-has-index {\n",
       "  font-weight: bold;\n",
       "}\n",
       "\n",
       ".xr-var-list,\n",
       ".xr-var-item {\n",
       "  display: contents;\n",
       "}\n",
       "\n",
       ".xr-var-item > div,\n",
       ".xr-var-item label,\n",
       ".xr-var-item > .xr-var-name span {\n",
       "  background-color: var(--xr-background-color-row-even);\n",
       "  margin-bottom: 0;\n",
       "}\n",
       "\n",
       ".xr-var-item > .xr-var-name:hover span {\n",
       "  padding-right: 5px;\n",
       "}\n",
       "\n",
       ".xr-var-list > li:nth-child(odd) > div,\n",
       ".xr-var-list > li:nth-child(odd) > label,\n",
       ".xr-var-list > li:nth-child(odd) > .xr-var-name span {\n",
       "  background-color: var(--xr-background-color-row-odd);\n",
       "}\n",
       "\n",
       ".xr-var-name {\n",
       "  grid-column: 1;\n",
       "}\n",
       "\n",
       ".xr-var-dims {\n",
       "  grid-column: 2;\n",
       "}\n",
       "\n",
       ".xr-var-dtype {\n",
       "  grid-column: 3;\n",
       "  text-align: right;\n",
       "  color: var(--xr-font-color2);\n",
       "}\n",
       "\n",
       ".xr-var-preview {\n",
       "  grid-column: 4;\n",
       "}\n",
       "\n",
       ".xr-index-preview {\n",
       "  grid-column: 2 / 5;\n",
       "  color: var(--xr-font-color2);\n",
       "}\n",
       "\n",
       ".xr-var-name,\n",
       ".xr-var-dims,\n",
       ".xr-var-dtype,\n",
       ".xr-preview,\n",
       ".xr-attrs dt {\n",
       "  white-space: nowrap;\n",
       "  overflow: hidden;\n",
       "  text-overflow: ellipsis;\n",
       "  padding-right: 10px;\n",
       "}\n",
       "\n",
       ".xr-var-name:hover,\n",
       ".xr-var-dims:hover,\n",
       ".xr-var-dtype:hover,\n",
       ".xr-attrs dt:hover {\n",
       "  overflow: visible;\n",
       "  width: auto;\n",
       "  z-index: 1;\n",
       "}\n",
       "\n",
       ".xr-var-attrs,\n",
       ".xr-var-data,\n",
       ".xr-index-data {\n",
       "  display: none;\n",
       "  background-color: var(--xr-background-color) !important;\n",
       "  padding-bottom: 5px !important;\n",
       "}\n",
       "\n",
       ".xr-var-attrs-in:checked ~ .xr-var-attrs,\n",
       ".xr-var-data-in:checked ~ .xr-var-data,\n",
       ".xr-index-data-in:checked ~ .xr-index-data {\n",
       "  display: block;\n",
       "}\n",
       "\n",
       ".xr-var-data > table {\n",
       "  float: right;\n",
       "}\n",
       "\n",
       ".xr-var-name span,\n",
       ".xr-var-data,\n",
       ".xr-index-name div,\n",
       ".xr-index-data,\n",
       ".xr-attrs {\n",
       "  padding-left: 25px !important;\n",
       "}\n",
       "\n",
       ".xr-attrs,\n",
       ".xr-var-attrs,\n",
       ".xr-var-data,\n",
       ".xr-index-data {\n",
       "  grid-column: 1 / -1;\n",
       "}\n",
       "\n",
       "dl.xr-attrs {\n",
       "  padding: 0;\n",
       "  margin: 0;\n",
       "  display: grid;\n",
       "  grid-template-columns: 125px auto;\n",
       "}\n",
       "\n",
       ".xr-attrs dt,\n",
       ".xr-attrs dd {\n",
       "  padding: 0;\n",
       "  margin: 0;\n",
       "  float: left;\n",
       "  padding-right: 10px;\n",
       "  width: auto;\n",
       "}\n",
       "\n",
       ".xr-attrs dt {\n",
       "  font-weight: normal;\n",
       "  grid-column: 1;\n",
       "}\n",
       "\n",
       ".xr-attrs dt:hover span {\n",
       "  display: inline-block;\n",
       "  background: var(--xr-background-color);\n",
       "  padding-right: 10px;\n",
       "}\n",
       "\n",
       ".xr-attrs dd {\n",
       "  grid-column: 2;\n",
       "  white-space: pre-wrap;\n",
       "  word-break: break-all;\n",
       "}\n",
       "\n",
       ".xr-icon-database,\n",
       ".xr-icon-file-text2,\n",
       ".xr-no-icon {\n",
       "  display: inline-block;\n",
       "  vertical-align: middle;\n",
       "  width: 1em;\n",
       "  height: 1.5em !important;\n",
       "  stroke-width: 0;\n",
       "  stroke: currentColor;\n",
       "  fill: currentColor;\n",
       "}\n",
       "</style><pre class='xr-text-repr-fallback'>&lt;xarray.Dataset&gt; Size: 302kB\n",
       "Dimensions:              (time: 8395)\n",
       "Coordinates:\n",
       "  * time                 (time) datetime64[ns] 67kB 1998-01-01T12:00:00 ... 2...\n",
       "    day                  (time) &lt;U5 168kB ...\n",
       "Data variables:\n",
       "    pelagic_layer_depth  (time) float64 67kB ...</pre><div class='xr-wrap' style='display:none'><div class='xr-header'><div class='xr-obj-type'>xarray.Dataset</div></div><ul class='xr-sections'><li class='xr-section-item'><input id='section-f6d5aa19-7509-4848-8999-7d82dcb31545' class='xr-section-summary-in' type='checkbox' disabled ><label for='section-f6d5aa19-7509-4848-8999-7d82dcb31545' class='xr-section-summary'  title='Expand/collapse section'>Dimensions:</label><div class='xr-section-inline-details'><ul class='xr-dim-list'><li><span class='xr-has-index'>time</span>: 8395</li></ul></div><div class='xr-section-details'></div></li><li class='xr-section-item'><input id='section-c12c774e-e694-4173-912f-16e9b7491819' class='xr-section-summary-in' type='checkbox'  checked><label for='section-c12c774e-e694-4173-912f-16e9b7491819' class='xr-section-summary' >Coordinates: <span>(2)</span></label><div class='xr-section-inline-details'></div><div class='xr-section-details'><ul class='xr-var-list'><li class='xr-var-item'><div class='xr-var-name'><span class='xr-has-index'>time</span></div><div class='xr-var-dims'>(time)</div><div class='xr-var-dtype'>datetime64[ns]</div><div class='xr-var-preview xr-preview'>1998-01-01T12:00:00 ... 2020-12-...</div><input id='attrs-211c9d58-7322-4712-9a2b-dc6bddcc1fc3' class='xr-var-attrs-in' type='checkbox' ><label for='attrs-211c9d58-7322-4712-9a2b-dc6bddcc1fc3' title='Show/Hide attributes'><svg class='icon xr-icon-file-text2'><use xlink:href='#icon-file-text2'></use></svg></label><input id='data-42faa78a-7a3d-4ef7-8d17-42a7b96137df' class='xr-var-data-in' type='checkbox'><label for='data-42faa78a-7a3d-4ef7-8d17-42a7b96137df' title='Show/Hide data repr'><svg class='icon xr-icon-database'><use xlink:href='#icon-database'></use></svg></label><div class='xr-var-attrs'><dl class='xr-attrs'><dt><span>standard_name :</span></dt><dd>time</dd><dt><span>axis :</span></dt><dd>T</dd></dl></div><div class='xr-var-data'><pre>array([&#x27;1998-01-01T12:00:00.000000000&#x27;, &#x27;1998-01-02T12:00:00.000000000&#x27;,\n",
       "       &#x27;1998-01-03T12:00:00.000000000&#x27;, ..., &#x27;2020-12-29T12:00:00.000000000&#x27;,\n",
       "       &#x27;2020-12-30T12:00:00.000000000&#x27;, &#x27;2020-12-31T12:00:00.000000000&#x27;],\n",
       "      dtype=&#x27;datetime64[ns]&#x27;)</pre></div></li><li class='xr-var-item'><div class='xr-var-name'><span>day</span></div><div class='xr-var-dims'>(time)</div><div class='xr-var-dtype'>&lt;U5</div><div class='xr-var-preview xr-preview'>...</div><input id='attrs-57c8c755-172a-4041-8d8d-d6017926171d' class='xr-var-attrs-in' type='checkbox' disabled><label for='attrs-57c8c755-172a-4041-8d8d-d6017926171d' title='Show/Hide attributes'><svg class='icon xr-icon-file-text2'><use xlink:href='#icon-file-text2'></use></svg></label><input id='data-3e9a7896-6e09-4b83-821c-c7d316307ff9' class='xr-var-data-in' type='checkbox'><label for='data-3e9a7896-6e09-4b83-821c-c7d316307ff9' title='Show/Hide data repr'><svg class='icon xr-icon-database'><use xlink:href='#icon-database'></use></svg></label><div class='xr-var-attrs'><dl class='xr-attrs'></dl></div><div class='xr-var-data'><pre>[8395 values with dtype=&lt;U5]</pre></div></li></ul></div></li><li class='xr-section-item'><input id='section-154ddca1-1542-4eb5-8e1d-7d7df9c5562c' class='xr-section-summary-in' type='checkbox'  checked><label for='section-154ddca1-1542-4eb5-8e1d-7d7df9c5562c' class='xr-section-summary' >Data variables: <span>(1)</span></label><div class='xr-section-inline-details'></div><div class='xr-section-details'><ul class='xr-var-list'><li class='xr-var-item'><div class='xr-var-name'><span>pelagic_layer_depth</span></div><div class='xr-var-dims'>(time)</div><div class='xr-var-dtype'>float64</div><div class='xr-var-preview xr-preview'>...</div><input id='attrs-dcd997a5-2186-4ea9-9aac-10097f7d698e' class='xr-var-attrs-in' type='checkbox' disabled><label for='attrs-dcd997a5-2186-4ea9-9aac-10097f7d698e' title='Show/Hide attributes'><svg class='icon xr-icon-file-text2'><use xlink:href='#icon-file-text2'></use></svg></label><input id='data-5f614b83-3422-4007-bbcd-710bdc31f065' class='xr-var-data-in' type='checkbox'><label for='data-5f614b83-3422-4007-bbcd-710bdc31f065' title='Show/Hide data repr'><svg class='icon xr-icon-database'><use xlink:href='#icon-database'></use></svg></label><div class='xr-var-attrs'><dl class='xr-attrs'></dl></div><div class='xr-var-data'><pre>[8395 values with dtype=float64]</pre></div></li></ul></div></li><li class='xr-section-item'><input id='section-82210d67-4ecf-46c7-bd87-c9a78f1ee72e' class='xr-section-summary-in' type='checkbox'  ><label for='section-82210d67-4ecf-46c7-bd87-c9a78f1ee72e' class='xr-section-summary' >Indexes: <span>(1)</span></label><div class='xr-section-inline-details'></div><div class='xr-section-details'><ul class='xr-var-list'><li class='xr-var-item'><div class='xr-index-name'><div>time</div></div><div class='xr-index-preview'>PandasIndex</div><input type='checkbox' disabled/><label></label><input id='index-b29a4380-c53e-426f-a925-a8899e3eb578' class='xr-index-data-in' type='checkbox'/><label for='index-b29a4380-c53e-426f-a925-a8899e3eb578' title='Show/Hide index repr'><svg class='icon xr-icon-database'><use xlink:href='#icon-database'></use></svg></label><div class='xr-index-data'><pre>PandasIndex(DatetimeIndex([&#x27;1998-01-01 12:00:00&#x27;, &#x27;1998-01-02 12:00:00&#x27;,\n",
       "               &#x27;1998-01-03 12:00:00&#x27;, &#x27;1998-01-04 12:00:00&#x27;,\n",
       "               &#x27;1998-01-05 12:00:00&#x27;, &#x27;1998-01-06 12:00:00&#x27;,\n",
       "               &#x27;1998-01-07 12:00:00&#x27;, &#x27;1998-01-08 12:00:00&#x27;,\n",
       "               &#x27;1998-01-09 12:00:00&#x27;, &#x27;1998-01-10 12:00:00&#x27;,\n",
       "               ...\n",
       "               &#x27;2020-12-22 12:00:00&#x27;, &#x27;2020-12-23 12:00:00&#x27;,\n",
       "               &#x27;2020-12-24 12:00:00&#x27;, &#x27;2020-12-25 12:00:00&#x27;,\n",
       "               &#x27;2020-12-26 12:00:00&#x27;, &#x27;2020-12-27 12:00:00&#x27;,\n",
       "               &#x27;2020-12-28 12:00:00&#x27;, &#x27;2020-12-29 12:00:00&#x27;,\n",
       "               &#x27;2020-12-30 12:00:00&#x27;, &#x27;2020-12-31 12:00:00&#x27;],\n",
       "              dtype=&#x27;datetime64[ns]&#x27;, name=&#x27;time&#x27;, length=8395, freq=None))</pre></div></li></ul></div></li><li class='xr-section-item'><input id='section-5708d5f0-fe19-4f0a-bba9-a01541dae070' class='xr-section-summary-in' type='checkbox' disabled ><label for='section-5708d5f0-fe19-4f0a-bba9-a01541dae070' class='xr-section-summary'  title='Expand/collapse section'>Attributes: <span>(0)</span></label><div class='xr-section-inline-details'></div><div class='xr-section-details'><dl class='xr-attrs'></dl></div></li></ul></div></div>"
      ],
      "text/plain": [
       "<xarray.Dataset> Size: 302kB\n",
       "Dimensions:              (time: 8395)\n",
       "Coordinates:\n",
       "  * time                 (time) datetime64[ns] 67kB 1998-01-01T12:00:00 ... 2...\n",
       "    day                  (time) <U5 168kB ...\n",
       "Data variables:\n",
       "    pelagic_layer_depth  (time) float64 67kB ..."
      ]
     },
     "execution_count": 48,
     "metadata": {},
     "output_type": "execute_result"
    }
   ],
   "source": [
    "ds_pld"
   ]
  },
  {
   "cell_type": "code",
   "execution_count": 49,
   "id": "d593a28d",
   "metadata": {},
   "outputs": [
    {
     "data": {
      "text/html": [
       "<div><svg style=\"position: absolute; width: 0; height: 0; overflow: hidden\">\n",
       "<defs>\n",
       "<symbol id=\"icon-database\" viewBox=\"0 0 32 32\">\n",
       "<path d=\"M16 0c-8.837 0-16 2.239-16 5v4c0 2.761 7.163 5 16 5s16-2.239 16-5v-4c0-2.761-7.163-5-16-5z\"></path>\n",
       "<path d=\"M16 17c-8.837 0-16-2.239-16-5v6c0 2.761 7.163 5 16 5s16-2.239 16-5v-6c0 2.761-7.163 5-16 5z\"></path>\n",
       "<path d=\"M16 26c-8.837 0-16-2.239-16-5v6c0 2.761 7.163 5 16 5s16-2.239 16-5v-6c0 2.761-7.163 5-16 5z\"></path>\n",
       "</symbol>\n",
       "<symbol id=\"icon-file-text2\" viewBox=\"0 0 32 32\">\n",
       "<path d=\"M28.681 7.159c-0.694-0.947-1.662-2.053-2.724-3.116s-2.169-2.030-3.116-2.724c-1.612-1.182-2.393-1.319-2.841-1.319h-15.5c-1.378 0-2.5 1.121-2.5 2.5v27c0 1.378 1.122 2.5 2.5 2.5h23c1.378 0 2.5-1.122 2.5-2.5v-19.5c0-0.448-0.137-1.23-1.319-2.841zM24.543 5.457c0.959 0.959 1.712 1.825 2.268 2.543h-4.811v-4.811c0.718 0.556 1.584 1.309 2.543 2.268zM28 29.5c0 0.271-0.229 0.5-0.5 0.5h-23c-0.271 0-0.5-0.229-0.5-0.5v-27c0-0.271 0.229-0.5 0.5-0.5 0 0 15.499-0 15.5 0v7c0 0.552 0.448 1 1 1h7v19.5z\"></path>\n",
       "<path d=\"M23 26h-14c-0.552 0-1-0.448-1-1s0.448-1 1-1h14c0.552 0 1 0.448 1 1s-0.448 1-1 1z\"></path>\n",
       "<path d=\"M23 22h-14c-0.552 0-1-0.448-1-1s0.448-1 1-1h14c0.552 0 1 0.448 1 1s-0.448 1-1 1z\"></path>\n",
       "<path d=\"M23 18h-14c-0.552 0-1-0.448-1-1s0.448-1 1-1h14c0.552 0 1 0.448 1 1s-0.448 1-1 1z\"></path>\n",
       "</symbol>\n",
       "</defs>\n",
       "</svg>\n",
       "<style>/* CSS stylesheet for displaying xarray objects in jupyterlab.\n",
       " *\n",
       " */\n",
       "\n",
       ":root {\n",
       "  --xr-font-color0: var(--jp-content-font-color0, rgba(0, 0, 0, 1));\n",
       "  --xr-font-color2: var(--jp-content-font-color2, rgba(0, 0, 0, 0.54));\n",
       "  --xr-font-color3: var(--jp-content-font-color3, rgba(0, 0, 0, 0.38));\n",
       "  --xr-border-color: var(--jp-border-color2, #e0e0e0);\n",
       "  --xr-disabled-color: var(--jp-layout-color3, #bdbdbd);\n",
       "  --xr-background-color: var(--jp-layout-color0, white);\n",
       "  --xr-background-color-row-even: var(--jp-layout-color1, white);\n",
       "  --xr-background-color-row-odd: var(--jp-layout-color2, #eeeeee);\n",
       "}\n",
       "\n",
       "html[theme=\"dark\"],\n",
       "html[data-theme=\"dark\"],\n",
       "body[data-theme=\"dark\"],\n",
       "body.vscode-dark {\n",
       "  --xr-font-color0: rgba(255, 255, 255, 1);\n",
       "  --xr-font-color2: rgba(255, 255, 255, 0.54);\n",
       "  --xr-font-color3: rgba(255, 255, 255, 0.38);\n",
       "  --xr-border-color: #1f1f1f;\n",
       "  --xr-disabled-color: #515151;\n",
       "  --xr-background-color: #111111;\n",
       "  --xr-background-color-row-even: #111111;\n",
       "  --xr-background-color-row-odd: #313131;\n",
       "}\n",
       "\n",
       ".xr-wrap {\n",
       "  display: block !important;\n",
       "  min-width: 300px;\n",
       "  max-width: 700px;\n",
       "}\n",
       "\n",
       ".xr-text-repr-fallback {\n",
       "  /* fallback to plain text repr when CSS is not injected (untrusted notebook) */\n",
       "  display: none;\n",
       "}\n",
       "\n",
       ".xr-header {\n",
       "  padding-top: 6px;\n",
       "  padding-bottom: 6px;\n",
       "  margin-bottom: 4px;\n",
       "  border-bottom: solid 1px var(--xr-border-color);\n",
       "}\n",
       "\n",
       ".xr-header > div,\n",
       ".xr-header > ul {\n",
       "  display: inline;\n",
       "  margin-top: 0;\n",
       "  margin-bottom: 0;\n",
       "}\n",
       "\n",
       ".xr-obj-type,\n",
       ".xr-array-name {\n",
       "  margin-left: 2px;\n",
       "  margin-right: 10px;\n",
       "}\n",
       "\n",
       ".xr-obj-type {\n",
       "  color: var(--xr-font-color2);\n",
       "}\n",
       "\n",
       ".xr-sections {\n",
       "  padding-left: 0 !important;\n",
       "  display: grid;\n",
       "  grid-template-columns: 150px auto auto 1fr 0 20px 0 20px;\n",
       "}\n",
       "\n",
       ".xr-section-item {\n",
       "  display: contents;\n",
       "}\n",
       "\n",
       ".xr-section-item input {\n",
       "  display: inline-block;\n",
       "  opacity: 0;\n",
       "  height: 0;\n",
       "}\n",
       "\n",
       ".xr-section-item input + label {\n",
       "  color: var(--xr-disabled-color);\n",
       "}\n",
       "\n",
       ".xr-section-item input:enabled + label {\n",
       "  cursor: pointer;\n",
       "  color: var(--xr-font-color2);\n",
       "}\n",
       "\n",
       ".xr-section-item input:focus + label {\n",
       "  border: 2px solid var(--xr-font-color0);\n",
       "}\n",
       "\n",
       ".xr-section-item input:enabled + label:hover {\n",
       "  color: var(--xr-font-color0);\n",
       "}\n",
       "\n",
       ".xr-section-summary {\n",
       "  grid-column: 1;\n",
       "  color: var(--xr-font-color2);\n",
       "  font-weight: 500;\n",
       "}\n",
       "\n",
       ".xr-section-summary > span {\n",
       "  display: inline-block;\n",
       "  padding-left: 0.5em;\n",
       "}\n",
       "\n",
       ".xr-section-summary-in:disabled + label {\n",
       "  color: var(--xr-font-color2);\n",
       "}\n",
       "\n",
       ".xr-section-summary-in + label:before {\n",
       "  display: inline-block;\n",
       "  content: \"►\";\n",
       "  font-size: 11px;\n",
       "  width: 15px;\n",
       "  text-align: center;\n",
       "}\n",
       "\n",
       ".xr-section-summary-in:disabled + label:before {\n",
       "  color: var(--xr-disabled-color);\n",
       "}\n",
       "\n",
       ".xr-section-summary-in:checked + label:before {\n",
       "  content: \"▼\";\n",
       "}\n",
       "\n",
       ".xr-section-summary-in:checked + label > span {\n",
       "  display: none;\n",
       "}\n",
       "\n",
       ".xr-section-summary,\n",
       ".xr-section-inline-details {\n",
       "  padding-top: 4px;\n",
       "  padding-bottom: 4px;\n",
       "}\n",
       "\n",
       ".xr-section-inline-details {\n",
       "  grid-column: 2 / -1;\n",
       "}\n",
       "\n",
       ".xr-section-details {\n",
       "  display: none;\n",
       "  grid-column: 1 / -1;\n",
       "  margin-bottom: 5px;\n",
       "}\n",
       "\n",
       ".xr-section-summary-in:checked ~ .xr-section-details {\n",
       "  display: contents;\n",
       "}\n",
       "\n",
       ".xr-array-wrap {\n",
       "  grid-column: 1 / -1;\n",
       "  display: grid;\n",
       "  grid-template-columns: 20px auto;\n",
       "}\n",
       "\n",
       ".xr-array-wrap > label {\n",
       "  grid-column: 1;\n",
       "  vertical-align: top;\n",
       "}\n",
       "\n",
       ".xr-preview {\n",
       "  color: var(--xr-font-color3);\n",
       "}\n",
       "\n",
       ".xr-array-preview,\n",
       ".xr-array-data {\n",
       "  padding: 0 5px !important;\n",
       "  grid-column: 2;\n",
       "}\n",
       "\n",
       ".xr-array-data,\n",
       ".xr-array-in:checked ~ .xr-array-preview {\n",
       "  display: none;\n",
       "}\n",
       "\n",
       ".xr-array-in:checked ~ .xr-array-data,\n",
       ".xr-array-preview {\n",
       "  display: inline-block;\n",
       "}\n",
       "\n",
       ".xr-dim-list {\n",
       "  display: inline-block !important;\n",
       "  list-style: none;\n",
       "  padding: 0 !important;\n",
       "  margin: 0;\n",
       "}\n",
       "\n",
       ".xr-dim-list li {\n",
       "  display: inline-block;\n",
       "  padding: 0;\n",
       "  margin: 0;\n",
       "}\n",
       "\n",
       ".xr-dim-list:before {\n",
       "  content: \"(\";\n",
       "}\n",
       "\n",
       ".xr-dim-list:after {\n",
       "  content: \")\";\n",
       "}\n",
       "\n",
       ".xr-dim-list li:not(:last-child):after {\n",
       "  content: \",\";\n",
       "  padding-right: 5px;\n",
       "}\n",
       "\n",
       ".xr-has-index {\n",
       "  font-weight: bold;\n",
       "}\n",
       "\n",
       ".xr-var-list,\n",
       ".xr-var-item {\n",
       "  display: contents;\n",
       "}\n",
       "\n",
       ".xr-var-item > div,\n",
       ".xr-var-item label,\n",
       ".xr-var-item > .xr-var-name span {\n",
       "  background-color: var(--xr-background-color-row-even);\n",
       "  margin-bottom: 0;\n",
       "}\n",
       "\n",
       ".xr-var-item > .xr-var-name:hover span {\n",
       "  padding-right: 5px;\n",
       "}\n",
       "\n",
       ".xr-var-list > li:nth-child(odd) > div,\n",
       ".xr-var-list > li:nth-child(odd) > label,\n",
       ".xr-var-list > li:nth-child(odd) > .xr-var-name span {\n",
       "  background-color: var(--xr-background-color-row-odd);\n",
       "}\n",
       "\n",
       ".xr-var-name {\n",
       "  grid-column: 1;\n",
       "}\n",
       "\n",
       ".xr-var-dims {\n",
       "  grid-column: 2;\n",
       "}\n",
       "\n",
       ".xr-var-dtype {\n",
       "  grid-column: 3;\n",
       "  text-align: right;\n",
       "  color: var(--xr-font-color2);\n",
       "}\n",
       "\n",
       ".xr-var-preview {\n",
       "  grid-column: 4;\n",
       "}\n",
       "\n",
       ".xr-index-preview {\n",
       "  grid-column: 2 / 5;\n",
       "  color: var(--xr-font-color2);\n",
       "}\n",
       "\n",
       ".xr-var-name,\n",
       ".xr-var-dims,\n",
       ".xr-var-dtype,\n",
       ".xr-preview,\n",
       ".xr-attrs dt {\n",
       "  white-space: nowrap;\n",
       "  overflow: hidden;\n",
       "  text-overflow: ellipsis;\n",
       "  padding-right: 10px;\n",
       "}\n",
       "\n",
       ".xr-var-name:hover,\n",
       ".xr-var-dims:hover,\n",
       ".xr-var-dtype:hover,\n",
       ".xr-attrs dt:hover {\n",
       "  overflow: visible;\n",
       "  width: auto;\n",
       "  z-index: 1;\n",
       "}\n",
       "\n",
       ".xr-var-attrs,\n",
       ".xr-var-data,\n",
       ".xr-index-data {\n",
       "  display: none;\n",
       "  background-color: var(--xr-background-color) !important;\n",
       "  padding-bottom: 5px !important;\n",
       "}\n",
       "\n",
       ".xr-var-attrs-in:checked ~ .xr-var-attrs,\n",
       ".xr-var-data-in:checked ~ .xr-var-data,\n",
       ".xr-index-data-in:checked ~ .xr-index-data {\n",
       "  display: block;\n",
       "}\n",
       "\n",
       ".xr-var-data > table {\n",
       "  float: right;\n",
       "}\n",
       "\n",
       ".xr-var-name span,\n",
       ".xr-var-data,\n",
       ".xr-index-name div,\n",
       ".xr-index-data,\n",
       ".xr-attrs {\n",
       "  padding-left: 25px !important;\n",
       "}\n",
       "\n",
       ".xr-attrs,\n",
       ".xr-var-attrs,\n",
       ".xr-var-data,\n",
       ".xr-index-data {\n",
       "  grid-column: 1 / -1;\n",
       "}\n",
       "\n",
       "dl.xr-attrs {\n",
       "  padding: 0;\n",
       "  margin: 0;\n",
       "  display: grid;\n",
       "  grid-template-columns: 125px auto;\n",
       "}\n",
       "\n",
       ".xr-attrs dt,\n",
       ".xr-attrs dd {\n",
       "  padding: 0;\n",
       "  margin: 0;\n",
       "  float: left;\n",
       "  padding-right: 10px;\n",
       "  width: auto;\n",
       "}\n",
       "\n",
       ".xr-attrs dt {\n",
       "  font-weight: normal;\n",
       "  grid-column: 1;\n",
       "}\n",
       "\n",
       ".xr-attrs dt:hover span {\n",
       "  display: inline-block;\n",
       "  background: var(--xr-background-color);\n",
       "  padding-right: 10px;\n",
       "}\n",
       "\n",
       ".xr-attrs dd {\n",
       "  grid-column: 2;\n",
       "  white-space: pre-wrap;\n",
       "  word-break: break-all;\n",
       "}\n",
       "\n",
       ".xr-icon-database,\n",
       ".xr-icon-file-text2,\n",
       ".xr-no-icon {\n",
       "  display: inline-block;\n",
       "  vertical-align: middle;\n",
       "  width: 1em;\n",
       "  height: 1.5em !important;\n",
       "  stroke-width: 0;\n",
       "  stroke: currentColor;\n",
       "  fill: currentColor;\n",
       "}\n",
       "</style><pre class='xr-text-repr-fallback'>&lt;xarray.Dataset&gt; Size: 10kB\n",
       "Dimensions:              (day: 365)\n",
       "Coordinates:\n",
       "  * day                  (day) &lt;U5 7kB &#x27;01-01&#x27; &#x27;01-02&#x27; ... &#x27;12-30&#x27; &#x27;12-31&#x27;\n",
       "Data variables:\n",
       "    pelagic_layer_depth  (day) float64 3kB ...</pre><div class='xr-wrap' style='display:none'><div class='xr-header'><div class='xr-obj-type'>xarray.Dataset</div></div><ul class='xr-sections'><li class='xr-section-item'><input id='section-d4c703e1-a281-412a-9459-951dbd3a36cb' class='xr-section-summary-in' type='checkbox' disabled ><label for='section-d4c703e1-a281-412a-9459-951dbd3a36cb' class='xr-section-summary'  title='Expand/collapse section'>Dimensions:</label><div class='xr-section-inline-details'><ul class='xr-dim-list'><li><span class='xr-has-index'>day</span>: 365</li></ul></div><div class='xr-section-details'></div></li><li class='xr-section-item'><input id='section-16a9275f-e3a6-4eb8-a565-424a4c16c53e' class='xr-section-summary-in' type='checkbox'  checked><label for='section-16a9275f-e3a6-4eb8-a565-424a4c16c53e' class='xr-section-summary' >Coordinates: <span>(1)</span></label><div class='xr-section-inline-details'></div><div class='xr-section-details'><ul class='xr-var-list'><li class='xr-var-item'><div class='xr-var-name'><span class='xr-has-index'>day</span></div><div class='xr-var-dims'>(day)</div><div class='xr-var-dtype'>&lt;U5</div><div class='xr-var-preview xr-preview'>&#x27;01-01&#x27; &#x27;01-02&#x27; ... &#x27;12-30&#x27; &#x27;12-31&#x27;</div><input id='attrs-8a9f0571-155c-458b-a923-94ea16ba2094' class='xr-var-attrs-in' type='checkbox' disabled><label for='attrs-8a9f0571-155c-458b-a923-94ea16ba2094' title='Show/Hide attributes'><svg class='icon xr-icon-file-text2'><use xlink:href='#icon-file-text2'></use></svg></label><input id='data-ea2b0033-d2c8-4fdb-a022-cc4a3d0f522b' class='xr-var-data-in' type='checkbox'><label for='data-ea2b0033-d2c8-4fdb-a022-cc4a3d0f522b' title='Show/Hide data repr'><svg class='icon xr-icon-database'><use xlink:href='#icon-database'></use></svg></label><div class='xr-var-attrs'><dl class='xr-attrs'></dl></div><div class='xr-var-data'><pre>array([&#x27;01-01&#x27;, &#x27;01-02&#x27;, &#x27;01-03&#x27;, ..., &#x27;12-29&#x27;, &#x27;12-30&#x27;, &#x27;12-31&#x27;], dtype=&#x27;&lt;U5&#x27;)</pre></div></li></ul></div></li><li class='xr-section-item'><input id='section-d1a39542-8c3f-48ef-a971-5fd1d59b2482' class='xr-section-summary-in' type='checkbox'  checked><label for='section-d1a39542-8c3f-48ef-a971-5fd1d59b2482' class='xr-section-summary' >Data variables: <span>(1)</span></label><div class='xr-section-inline-details'></div><div class='xr-section-details'><ul class='xr-var-list'><li class='xr-var-item'><div class='xr-var-name'><span>pelagic_layer_depth</span></div><div class='xr-var-dims'>(day)</div><div class='xr-var-dtype'>float64</div><div class='xr-var-preview xr-preview'>...</div><input id='attrs-16dbdedf-d632-4039-bf78-054a6255de5a' class='xr-var-attrs-in' type='checkbox' disabled><label for='attrs-16dbdedf-d632-4039-bf78-054a6255de5a' title='Show/Hide attributes'><svg class='icon xr-icon-file-text2'><use xlink:href='#icon-file-text2'></use></svg></label><input id='data-7ca86e2c-1308-43db-83bc-ba00cfa1ad1d' class='xr-var-data-in' type='checkbox'><label for='data-7ca86e2c-1308-43db-83bc-ba00cfa1ad1d' title='Show/Hide data repr'><svg class='icon xr-icon-database'><use xlink:href='#icon-database'></use></svg></label><div class='xr-var-attrs'><dl class='xr-attrs'></dl></div><div class='xr-var-data'><pre>[365 values with dtype=float64]</pre></div></li></ul></div></li><li class='xr-section-item'><input id='section-8adead8f-6830-4b01-9937-a72e875e3f74' class='xr-section-summary-in' type='checkbox'  ><label for='section-8adead8f-6830-4b01-9937-a72e875e3f74' class='xr-section-summary' >Indexes: <span>(1)</span></label><div class='xr-section-inline-details'></div><div class='xr-section-details'><ul class='xr-var-list'><li class='xr-var-item'><div class='xr-index-name'><div>day</div></div><div class='xr-index-preview'>PandasIndex</div><input type='checkbox' disabled/><label></label><input id='index-65b1afa8-b2ff-4f4b-aa50-b85b0891dc5d' class='xr-index-data-in' type='checkbox'/><label for='index-65b1afa8-b2ff-4f4b-aa50-b85b0891dc5d' title='Show/Hide index repr'><svg class='icon xr-icon-database'><use xlink:href='#icon-database'></use></svg></label><div class='xr-index-data'><pre>PandasIndex(Index([&#x27;01-01&#x27;, &#x27;01-02&#x27;, &#x27;01-03&#x27;, &#x27;01-04&#x27;, &#x27;01-05&#x27;, &#x27;01-06&#x27;, &#x27;01-07&#x27;, &#x27;01-08&#x27;,\n",
       "       &#x27;01-09&#x27;, &#x27;01-10&#x27;,\n",
       "       ...\n",
       "       &#x27;12-22&#x27;, &#x27;12-23&#x27;, &#x27;12-24&#x27;, &#x27;12-25&#x27;, &#x27;12-26&#x27;, &#x27;12-27&#x27;, &#x27;12-28&#x27;, &#x27;12-29&#x27;,\n",
       "       &#x27;12-30&#x27;, &#x27;12-31&#x27;],\n",
       "      dtype=&#x27;object&#x27;, name=&#x27;day&#x27;, length=365))</pre></div></li></ul></div></li><li class='xr-section-item'><input id='section-329c8074-9aeb-43e8-8004-a148461e4171' class='xr-section-summary-in' type='checkbox' disabled ><label for='section-329c8074-9aeb-43e8-8004-a148461e4171' class='xr-section-summary'  title='Expand/collapse section'>Attributes: <span>(0)</span></label><div class='xr-section-inline-details'></div><div class='xr-section-details'><dl class='xr-attrs'></dl></div></li></ul></div></div>"
      ],
      "text/plain": [
       "<xarray.Dataset> Size: 10kB\n",
       "Dimensions:              (day: 365)\n",
       "Coordinates:\n",
       "  * day                  (day) <U5 7kB '01-01' '01-02' ... '12-30' '12-31'\n",
       "Data variables:\n",
       "    pelagic_layer_depth  (day) float64 3kB ..."
      ]
     },
     "execution_count": 49,
     "metadata": {},
     "output_type": "execute_result"
    }
   ],
   "source": [
    "ds_clim_pld"
   ]
  },
  {
   "cell_type": "code",
   "execution_count": 99,
   "id": "1bfc87b6",
   "metadata": {},
   "outputs": [
    {
     "data": {
      "application/vnd.plotly.v1+json": {
       "config": {
        "plotlyServerURL": "https://plot.ly"
       },
       "data": [
        {
         "line": {
          "width": 1
         },
         "mode": "lines",
         "name": "1998",
         "showlegend": true,
         "type": "scatter",
         "x": {
          "bdata": "AQACAAMABAAFAAYABwAIAAkACgALAAwADQAOAA8AEAARABIAEwAUABUAFgAXABgAGQAaABsAHAAdAB4AHwAgACEAIgAjACQAJQAmACcAKAApACoAKwAsAC0ALgAvADAAMQAyADMANAA1ADYANwA4ADkAOgA7ADwAPQA+AD8AQABBAEIAQwBEAEUARgBHAEgASQBKAEsATABNAE4ATwBQAFEAUgBTAFQAVQBWAFcAWABZAFoAWwBcAF0AXgBfAGAAYQBiAGMAZABlAGYAZwBoAGkAagBrAGwAbQBuAG8AcABxAHIAcwB0AHUAdgB3AHgAeQB6AHsAfAB9AH4AfwCAAIEAggCDAIQAhQCGAIcAiACJAIoAiwCMAI0AjgCPAJAAkQCSAJMAlACVAJYAlwCYAJkAmgCbAJwAnQCeAJ8AoAChAKIAowCkAKUApgCnAKgAqQCqAKsArACtAK4ArwCwALEAsgCzALQAtQC2ALcAuAC5ALoAuwC8AL0AvgC/AMAAwQDCAMMAxADFAMYAxwDIAMkAygDLAMwAzQDOAM8A0ADRANIA0wDUANUA1gDXANgA2QDaANsA3ADdAN4A3wDgAOEA4gDjAOQA5QDmAOcA6ADpAOoA6wDsAO0A7gDvAPAA8QDyAPMA9AD1APYA9wD4APkA+gD7APwA/QD+AP8AAAEBAQIBAwEEAQUBBgEHAQgBCQEKAQsBDAENAQ4BDwEQAREBEgETARQBFQEWARcBGAEZARoBGwEcAR0BHgEfASABIQEiASMBJAElASYBJwEoASkBKgErASwBLQEuAS8BMAExATIBMwE0ATUBNgE3ATgBOQE6ATsBPAE9AT4BPwFAAUEBQgFDAUQBRQFGAUcBSAFJAUoBSwFMAU0BTgFPAVABUQFSAVMBVAFVAVYBVwFYAVkBWgFbAVwBXQFeAV8BYAFhAWIBYwFkAWUBZgFnAWgBaQFqAWsBbAFtAQ==",
          "dtype": "i2"
         },
         "y": {
          "bdata": "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",
          "dtype": "f8"
         }
        },
        {
         "line": {
          "width": 1
         },
         "mode": "lines",
         "name": "1999",
         "showlegend": true,
         "type": "scatter",
         "x": {
          "bdata": "AQACAAMABAAFAAYABwAIAAkACgALAAwADQAOAA8AEAARABIAEwAUABUAFgAXABgAGQAaABsAHAAdAB4AHwAgACEAIgAjACQAJQAmACcAKAApACoAKwAsAC0ALgAvADAAMQAyADMANAA1ADYANwA4ADkAOgA7ADwAPQA+AD8AQABBAEIAQwBEAEUARgBHAEgASQBKAEsATABNAE4ATwBQAFEAUgBTAFQAVQBWAFcAWABZAFoAWwBcAF0AXgBfAGAAYQBiAGMAZABlAGYAZwBoAGkAagBrAGwAbQBuAG8AcABxAHIAcwB0AHUAdgB3AHgAeQB6AHsAfAB9AH4AfwCAAIEAggCDAIQAhQCGAIcAiACJAIoAiwCMAI0AjgCPAJAAkQCSAJMAlACVAJYAlwCYAJkAmgCbAJwAnQCeAJ8AoAChAKIAowCkAKUApgCnAKgAqQCqAKsArACtAK4ArwCwALEAsgCzALQAtQC2ALcAuAC5ALoAuwC8AL0AvgC/AMAAwQDCAMMAxADFAMYAxwDIAMkAygDLAMwAzQDOAM8A0ADRANIA0wDUANUA1gDXANgA2QDaANsA3ADdAN4A3wDgAOEA4gDjAOQA5QDmAOcA6ADpAOoA6wDsAO0A7gDvAPAA8QDyAPMA9AD1APYA9wD4APkA+gD7APwA/QD+AP8AAAEBAQIBAwEEAQUBBgEHAQgBCQEKAQsBDAENAQ4BDwEQAREBEgETARQBFQEWARcBGAEZARoBGwEcAR0BHgEfASABIQEiASMBJAElASYBJwEoASkBKgErASwBLQEuAS8BMAExATIBMwE0ATUBNgE3ATgBOQE6ATsBPAE9AT4BPwFAAUEBQgFDAUQBRQFGAUcBSAFJAUoBSwFMAU0BTgFPAVABUQFSAVMBVAFVAVYBVwFYAVkBWgFbAVwBXQFeAV8BYAFhAWIBYwFkAWUBZgFnAWgBaQFqAWsBbAFtAQ==",
          "dtype": "i2"
         },
         "y": {
          "bdata": "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",
          "dtype": "f8"
         }
        },
        {
         "line": {
          "width": 1
         },
         "mode": "lines",
         "name": "2000",
         "showlegend": true,
         "type": "scatter",
         "x": {
          "bdata": "AQACAAMABAAFAAYABwAIAAkACgALAAwADQAOAA8AEAARABIAEwAUABUAFgAXABgAGQAaABsAHAAdAB4AHwAgACEAIgAjACQAJQAmACcAKAApACoAKwAsAC0ALgAvADAAMQAyADMANAA1ADYANwA4ADkAOgA7ADwAPQA+AD8AQABBAEIAQwBEAEUARgBHAEgASQBKAEsATABNAE4ATwBQAFEAUgBTAFQAVQBWAFcAWABZAFoAWwBcAF0AXgBfAGAAYQBiAGMAZABlAGYAZwBoAGkAagBrAGwAbQBuAG8AcABxAHIAcwB0AHUAdgB3AHgAeQB6AHsAfAB9AH4AfwCAAIEAggCDAIQAhQCGAIcAiACJAIoAiwCMAI0AjgCPAJAAkQCSAJMAlACVAJYAlwCYAJkAmgCbAJwAnQCeAJ8AoAChAKIAowCkAKUApgCnAKgAqQCqAKsArACtAK4ArwCwALEAsgCzALQAtQC2ALcAuAC5ALoAuwC8AL0AvgC/AMAAwQDCAMMAxADFAMYAxwDIAMkAygDLAMwAzQDOAM8A0ADRANIA0wDUANUA1gDXANgA2QDaANsA3ADdAN4A3wDgAOEA4gDjAOQA5QDmAOcA6ADpAOoA6wDsAO0A7gDvAPAA8QDyAPMA9AD1APYA9wD4APkA+gD7APwA/QD+AP8AAAEBAQIBAwEEAQUBBgEHAQgBCQEKAQsBDAENAQ4BDwEQAREBEgETARQBFQEWARcBGAEZARoBGwEcAR0BHgEfASABIQEiASMBJAElASYBJwEoASkBKgErASwBLQEuAS8BMAExATIBMwE0ATUBNgE3ATgBOQE6ATsBPAE9AT4BPwFAAUEBQgFDAUQBRQFGAUcBSAFJAUoBSwFMAU0BTgFPAVABUQFSAVMBVAFVAVYBVwFYAVkBWgFbAVwBXQFeAV8BYAFhAWIBYwFkAWUBZgFnAWgBaQFqAWsBbAFtAQ==",
          "dtype": "i2"
         },
         "y": {
          "bdata": "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",
          "dtype": "f8"
         }
        },
        {
         "line": {
          "width": 1
         },
         "mode": "lines",
         "name": "2001",
         "showlegend": true,
         "type": "scatter",
         "x": {
          "bdata": "AQACAAMABAAFAAYABwAIAAkACgALAAwADQAOAA8AEAARABIAEwAUABUAFgAXABgAGQAaABsAHAAdAB4AHwAgACEAIgAjACQAJQAmACcAKAApACoAKwAsAC0ALgAvADAAMQAyADMANAA1ADYANwA4ADkAOgA7ADwAPQA+AD8AQABBAEIAQwBEAEUARgBHAEgASQBKAEsATABNAE4ATwBQAFEAUgBTAFQAVQBWAFcAWABZAFoAWwBcAF0AXgBfAGAAYQBiAGMAZABlAGYAZwBoAGkAagBrAGwAbQBuAG8AcABxAHIAcwB0AHUAdgB3AHgAeQB6AHsAfAB9AH4AfwCAAIEAggCDAIQAhQCGAIcAiACJAIoAiwCMAI0AjgCPAJAAkQCSAJMAlACVAJYAlwCYAJkAmgCbAJwAnQCeAJ8AoAChAKIAowCkAKUApgCnAKgAqQCqAKsArACtAK4ArwCwALEAsgCzALQAtQC2ALcAuAC5ALoAuwC8AL0AvgC/AMAAwQDCAMMAxADFAMYAxwDIAMkAygDLAMwAzQDOAM8A0ADRANIA0wDUANUA1gDXANgA2QDaANsA3ADdAN4A3wDgAOEA4gDjAOQA5QDmAOcA6ADpAOoA6wDsAO0A7gDvAPAA8QDyAPMA9AD1APYA9wD4APkA+gD7APwA/QD+AP8AAAEBAQIBAwEEAQUBBgEHAQgBCQEKAQsBDAENAQ4BDwEQAREBEgETARQBFQEWARcBGAEZARoBGwEcAR0BHgEfASABIQEiASMBJAElASYBJwEoASkBKgErASwBLQEuAS8BMAExATIBMwE0ATUBNgE3ATgBOQE6ATsBPAE9AT4BPwFAAUEBQgFDAUQBRQFGAUcBSAFJAUoBSwFMAU0BTgFPAVABUQFSAVMBVAFVAVYBVwFYAVkBWgFbAVwBXQFeAV8BYAFhAWIBYwFkAWUBZgFnAWgBaQFqAWsBbAFtAQ==",
          "dtype": "i2"
         },
         "y": {
          "bdata": "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",
          "dtype": "f8"
         }
        },
        {
         "line": {
          "width": 1
         },
         "mode": "lines",
         "name": "2002",
         "showlegend": true,
         "type": "scatter",
         "x": {
          "bdata": "AQACAAMABAAFAAYABwAIAAkACgALAAwADQAOAA8AEAARABIAEwAUABUAFgAXABgAGQAaABsAHAAdAB4AHwAgACEAIgAjACQAJQAmACcAKAApACoAKwAsAC0ALgAvADAAMQAyADMANAA1ADYANwA4ADkAOgA7ADwAPQA+AD8AQABBAEIAQwBEAEUARgBHAEgASQBKAEsATABNAE4ATwBQAFEAUgBTAFQAVQBWAFcAWABZAFoAWwBcAF0AXgBfAGAAYQBiAGMAZABlAGYAZwBoAGkAagBrAGwAbQBuAG8AcABxAHIAcwB0AHUAdgB3AHgAeQB6AHsAfAB9AH4AfwCAAIEAggCDAIQAhQCGAIcAiACJAIoAiwCMAI0AjgCPAJAAkQCSAJMAlACVAJYAlwCYAJkAmgCbAJwAnQCeAJ8AoAChAKIAowCkAKUApgCnAKgAqQCqAKsArACtAK4ArwCwALEAsgCzALQAtQC2ALcAuAC5ALoAuwC8AL0AvgC/AMAAwQDCAMMAxADFAMYAxwDIAMkAygDLAMwAzQDOAM8A0ADRANIA0wDUANUA1gDXANgA2QDaANsA3ADdAN4A3wDgAOEA4gDjAOQA5QDmAOcA6ADpAOoA6wDsAO0A7gDvAPAA8QDyAPMA9AD1APYA9wD4APkA+gD7APwA/QD+AP8AAAEBAQIBAwEEAQUBBgEHAQgBCQEKAQsBDAENAQ4BDwEQAREBEgETARQBFQEWARcBGAEZARoBGwEcAR0BHgEfASABIQEiASMBJAElASYBJwEoASkBKgErASwBLQEuAS8BMAExATIBMwE0ATUBNgE3ATgBOQE6ATsBPAE9AT4BPwFAAUEBQgFDAUQBRQFGAUcBSAFJAUoBSwFMAU0BTgFPAVABUQFSAVMBVAFVAVYBVwFYAVkBWgFbAVwBXQFeAV8BYAFhAWIBYwFkAWUBZgFnAWgBaQFqAWsBbAFtAQ==",
          "dtype": "i2"
         },
         "y": {
          "bdata": "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",
          "dtype": "f8"
         }
        },
        {
         "line": {
          "width": 1
         },
         "mode": "lines",
         "name": "2003",
         "showlegend": true,
         "type": "scatter",
         "x": {
          "bdata": "AQACAAMABAAFAAYABwAIAAkACgALAAwADQAOAA8AEAARABIAEwAUABUAFgAXABgAGQAaABsAHAAdAB4AHwAgACEAIgAjACQAJQAmACcAKAApACoAKwAsAC0ALgAvADAAMQAyADMANAA1ADYANwA4ADkAOgA7ADwAPQA+AD8AQABBAEIAQwBEAEUARgBHAEgASQBKAEsATABNAE4ATwBQAFEAUgBTAFQAVQBWAFcAWABZAFoAWwBcAF0AXgBfAGAAYQBiAGMAZABlAGYAZwBoAGkAagBrAGwAbQBuAG8AcABxAHIAcwB0AHUAdgB3AHgAeQB6AHsAfAB9AH4AfwCAAIEAggCDAIQAhQCGAIcAiACJAIoAiwCMAI0AjgCPAJAAkQCSAJMAlACVAJYAlwCYAJkAmgCbAJwAnQCeAJ8AoAChAKIAowCkAKUApgCnAKgAqQCqAKsArACtAK4ArwCwALEAsgCzALQAtQC2ALcAuAC5ALoAuwC8AL0AvgC/AMAAwQDCAMMAxADFAMYAxwDIAMkAygDLAMwAzQDOAM8A0ADRANIA0wDUANUA1gDXANgA2QDaANsA3ADdAN4A3wDgAOEA4gDjAOQA5QDmAOcA6ADpAOoA6wDsAO0A7gDvAPAA8QDyAPMA9AD1APYA9wD4APkA+gD7APwA/QD+AP8AAAEBAQIBAwEEAQUBBgEHAQgBCQEKAQsBDAENAQ4BDwEQAREBEgETARQBFQEWARcBGAEZARoBGwEcAR0BHgEfASABIQEiASMBJAElASYBJwEoASkBKgErASwBLQEuAS8BMAExATIBMwE0ATUBNgE3ATgBOQE6ATsBPAE9AT4BPwFAAUEBQgFDAUQBRQFGAUcBSAFJAUoBSwFMAU0BTgFPAVABUQFSAVMBVAFVAVYBVwFYAVkBWgFbAVwBXQFeAV8BYAFhAWIBYwFkAWUBZgFnAWgBaQFqAWsBbAFtAQ==",
          "dtype": "i2"
         },
         "y": {
          "bdata": "P00HShynU0CAJGJb1udTQN+j6ya9yFVAdMkK/ybqVUDBTPSc2wtVQOosziENzlNAcc/FySZrUkBLCTRhZFFTQIuUDN/aC1JAcaS5/XqRVEBjzP8T8MdUQAE1HQqQ71VAvnfvKL8aVkD1kq59QmNTQN/LQqmxj1NAHCtamad2U0BvIgKNxW5TQBs9/Uwkw1RAef6KsJ/vVECpDB9NBahXQIJ2OAK98ldAaOcLqWLjWECJ+Z8p1gdZQP5H2q2k4FhANATThqAOV0D+0RG6duJWQHswwOdw91VAuxREktMTV0B8aolHbJBYQLmlyXVXLFlAAUWKvmc+WkCAXHXWdWpZQKpiJnACwlZAsAJ8e6XnU0AO7Mr7kiFUQHkQ5PUnCFRAZYf8w681VECHc5TDO9xUQD5JIDz6y1pAxzNVOaFfW0C1dShuv9ZbQPivswaNPlxA8oITql4eWkBxuwDZpKFYQKtqS/M9BVVA/7f6CVkXVEA7jgUe3WtUQMLoKQvnWFNAwegpC+dYU0AgIvvEuK1TQA4CM9N8FlVAJYjFP9kNVUDuxoj4XSJUQGOxeAWBL1JAKVsQ6KB0T0C7FKCZmnRPQNQfrxFGp1NA7/ttowcEVED70Oh81GFRQIFaPIqLhVRAfYQHEDDsVUA2+JlmkudVQECTaYNTbVdAh0K+dWEIV0Bn9Pt9A/NTQF/7n5e3bFVAapQl8zN0VUC4ZiE36RRVQEZyDqhB/VJAlPth2WREUkBwWrfX0DxSQOJUaqY7LVJA/iTVwUSJUkDKujk+g6ZSQCOatB92rlFApUJgMxdCUkD3JnX6HTlRQEi4YfW3e1NAlMbhvcehU0BQHQEL5p1WQHBzw4MXq1ZAWB93+HgjVECVhDgJgiNUQJZthdWurFRAez8kVp0JVUDl57TwtwZVQBrgVoUI1FRAYduoGjLVVECibpWmiTlVQLigwIkLW1VA6PsXNU7bVUBPysmHSnBWQEKmCBpUAFRAcDskhEWvVUAljG8NnNxVQEtG0msy3lVA4Gb3Dn+nVUA75DaDRadVQOUs+JgKvlVAJomaYsnoVUASY+Ps9gtWQAKMGbGYxVVAo2t2wlTgUkA7/al8xHRUQNrr/tiVCVVADkrcgLNzUkAV4ZdqxrJQQLDKEigon1BArCmeVg6cUEBD0L+oxhdRQM4CMx9zNU1AzgIzH3M1TUDgxw7gVZlQQC3tJoaOXFFAxf/SKNjAUECNe4/PeS9RQD/uzFLHBVBAVMemh4rUTEAZT/Jbqv5LQM1cqcKRAE5ANMnaRN5gTkAUP942GvpMQArMtOAgqExA3oGmax7cS0DlAVQ+D9dLQNaVhJPVykpAJDcUJC7eTkAIuZBZ+PROQP3LY+f8I09Anoe5xVk3UEABao5u/hhRQJ7z7T0NWlFAu5WIV/KBUEAkzzQGgYJQQNF/BYLMPlJAUNwzQi0iUkCbLYjv4jVQQLpFBh4OZ1BAV44MoDGzUEClGLUOjrxQQFuXq2IOBFFAR78xcEzLUEAbV5agJMdQQHr3vPM2wFBAwZw8eATOT0CjwXKf4PtPQFhg9qDWxU5AqP6hzy1sT0BdRJTWaRpRQFmF0jfP0lFA1wy36/3JUUDlUdB9nCVRQDym3nafSlFAxFkJP1KYUUC4kYjm47tRQA3dV9Y3llFAfKHVxzDqUUCMkVdgkSpSQPb1mdZkLFJAXVmncBpNUUA2xUVpSgJSQG9my8DkSVJAUdtj9RuAUkB8eTniuPZSQP0wbpuAtlNAaEWuvSa2U0Ado11iWatTQHaug7slg1NAaHcerL14U0DJUWQ3qdBTQCZCyJWuhlJA0GE4z5ThUkDGtBRDKnxTQI2ggEyKUFJA6RoLQgdvUkBXy+o3pDNTQLrxTZI0BFRAqG+A3yAYVEAz44YBdINVQIMcojIVFVdARPCKJbVtVkD8CazjaaVWQIEk7CHdQFZAtaOaP09WVkA8J9WGBBNWQEoF2dd071VAmN2jczfDVkCNzF+yjLNXQH3L1AZsFVhAmG90fhKPV0CGdQO8enRXQKWcakn611dAygJmHrYDWEAPMC3ieZ1YQBTcZQC7VVlAz1p3QMHZWEB4VIZps3dYQLoi/eronVdAzVM4imLZV0BhGTypCx5YQOzW1YCsXlhAvBIk3mfoV0Bkeid6S85XQOGiT5NC61pAilbBAMrWV0DEHZLojDpbQOViC8FZ9ltAahQxYN3AW0BzgwHrEtFXQC3akZtLO1dAgfKgakCYV0DMBov7ULJXQPPalS+EYldAnM8qPqKPVkCuNiDgR1ZXQB3iIPdxnFZAeIO8HWsHV0DlfQ+dzI5WQKbKFRQk8ldAA4RZvWnBWEAHleKATmlYQJJjys4yNFlA4UckLk8mWUBaf2u8E8ZZQGo6CKrKJFpA6CIdx07HWkA72xDdgkdbQIF+cUeYtlpAFV1jpCp3WEBULm94IGxXQFLhAXezOFdAVJdptvRbV0AjjylixPZWQEI3/W00mFlAhzz5/qMVWECckBuy+xhYQPZHpKAGmVpADBKqaKSlW0CXyBrVH7hYQB/tcxURslpAjuthdnTAV0D7zqEI1cpXQHEm+2nJ21dA1GiLEgGUWECzS52qUTJaQI+YSh9ipVdATxqRJLK3V0B0yTQMAD1YQEZWOn+9wlhAoS47vvlAWECbER5h3EFYQAvmXt+KqlpA8rKDEBPIWkBCxAnwRr9XQGz7pJlNa1dA08hhaD5EV0CH6IxqWDhXQE0gwGp/v1hAzAnbgGm3VkCBtFcVybRWQC06KGTk91VAzkTFL3V/VUBZMK/u8AxXQCGeNy2lEVhAet83tSaHWEDZ783dUvJWQHAe51voMVZAKmV+0xbUVUAAx+NorUlUQAdgCUCOGVRAl0eJVMcuVUA2h5Dwu4ZVQJRcgc1fVlZAQv8TAG5oVkD632qO8DRXQGeXn+9JaVZA9xpVpyCaVUA6PkhixWRVQMwV5YgthFRAiiD4Rm/SU0CJmPtEs9VTQJ+N943D6VRAXTp01rzFVEAEYo64mFJUQJGPN3eTMFNAmhOKDNbyUkDHgvoscX9RQIhwcNSVe1FAh06ZZdt6UUC71+AJOXNTQCH3ZP1zrFNA6iBaf8u6U0D55BV/OiBUQAtaZMDHalVAM0pctf0OVUDu5WqQvBxUQF3XmfL0lVJAs3JrAeSjUkAy0u5RzpNSQOF/QPskIlJADfiPoNPBUEBv2h/m9HZQQNEGaBheG1BA4RLXccFPUEChjbzW/S5WQGj/a7B4AlBAvIT6UwoEUEBpnAA9DVJRQEYm9q57vVNAbwxaKDeGUkCYGF8/i/9RQJ/pw1wQxVJAwurJpAmdUkCac4WZDb1SQDKs99tXHVRA31lOkB+zVEDK2HDAyhhUQILnbUOYxlNAvsOsPjaNVkADwcPZDrtWQN6/fTkDvlZAgHTTH2BpV0AkR9aMa19XQBrZPNERH1VAfjDg3mc7VkDfqAWIYzNWQJKC/WiQu1VAiyc8CD/aVUAs5VBHJoZWQML27ERMI1ZAZM+5M4YTVkBlSe4l/gxSQJVBdc7InVJAAAma4Oa7SEDLnVgd7YlLQGwUWCBxLFZA8/Y9jQMqVkDIl8GaAV5WQGilMxFl2VVAcJv/r2GYVUBmwvUp6nZWQI8O5PpFSVZAsce2zgFrVkAEC3e75aJVQCtcn04DwVVAOgLkPobAVEA5iGrpippXQES51sie7VNAiPcmhdn9U0DfxMg7jdRTQDVX+1INw1NArqx0WKjNVECL+auTv5lUQISDqIeCTFNAekcJgcYnU0CyXf24dnJTQJaBwxfdNVRAAu50Sk7gVEB+uYcrzY5UQAcyo9jnK1VA3HJLusl2VUDjruAUyClTQMntPvf3HlNArdrEdBXpVUCx7Qgox65TQA==",
          "dtype": "f8"
         }
        },
        {
         "line": {
          "width": 1
         },
         "mode": "lines",
         "name": "2004",
         "showlegend": true,
         "type": "scatter",
         "x": {
          "bdata": "AQACAAMABAAFAAYABwAIAAkACgALAAwADQAOAA8AEAARABIAEwAUABUAFgAXABgAGQAaABsAHAAdAB4AHwAgACEAIgAjACQAJQAmACcAKAApACoAKwAsAC0ALgAvADAAMQAyADMANAA1ADYANwA4ADkAOgA7ADwAPQA+AD8AQABBAEIAQwBEAEUARgBHAEgASQBKAEsATABNAE4ATwBQAFEAUgBTAFQAVQBWAFcAWABZAFoAWwBcAF0AXgBfAGAAYQBiAGMAZABlAGYAZwBoAGkAagBrAGwAbQBuAG8AcABxAHIAcwB0AHUAdgB3AHgAeQB6AHsAfAB9AH4AfwCAAIEAggCDAIQAhQCGAIcAiACJAIoAiwCMAI0AjgCPAJAAkQCSAJMAlACVAJYAlwCYAJkAmgCbAJwAnQCeAJ8AoAChAKIAowCkAKUApgCnAKgAqQCqAKsArACtAK4ArwCwALEAsgCzALQAtQC2ALcAuAC5ALoAuwC8AL0AvgC/AMAAwQDCAMMAxADFAMYAxwDIAMkAygDLAMwAzQDOAM8A0ADRANIA0wDUANUA1gDXANgA2QDaANsA3ADdAN4A3wDgAOEA4gDjAOQA5QDmAOcA6ADpAOoA6wDsAO0A7gDvAPAA8QDyAPMA9AD1APYA9wD4APkA+gD7APwA/QD+AP8AAAEBAQIBAwEEAQUBBgEHAQgBCQEKAQsBDAENAQ4BDwEQAREBEgETARQBFQEWARcBGAEZARoBGwEcAR0BHgEfASABIQEiASMBJAElASYBJwEoASkBKgErASwBLQEuAS8BMAExATIBMwE0ATUBNgE3ATgBOQE6ATsBPAE9AT4BPwFAAUEBQgFDAUQBRQFGAUcBSAFJAUoBSwFMAU0BTgFPAVABUQFSAVMBVAFVAVYBVwFYAVkBWgFbAVwBXQFeAV8BYAFhAWIBYwFkAWUBZgFnAWgBaQFqAWsBbAFtAQ==",
          "dtype": "i2"
         },
         "y": {
          "bdata": "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",
          "dtype": "f8"
         }
        },
        {
         "line": {
          "width": 1
         },
         "mode": "lines",
         "name": "2005",
         "showlegend": true,
         "type": "scatter",
         "x": {
          "bdata": "AQACAAMABAAFAAYABwAIAAkACgALAAwADQAOAA8AEAARABIAEwAUABUAFgAXABgAGQAaABsAHAAdAB4AHwAgACEAIgAjACQAJQAmACcAKAApACoAKwAsAC0ALgAvADAAMQAyADMANAA1ADYANwA4ADkAOgA7ADwAPQA+AD8AQABBAEIAQwBEAEUARgBHAEgASQBKAEsATABNAE4ATwBQAFEAUgBTAFQAVQBWAFcAWABZAFoAWwBcAF0AXgBfAGAAYQBiAGMAZABlAGYAZwBoAGkAagBrAGwAbQBuAG8AcABxAHIAcwB0AHUAdgB3AHgAeQB6AHsAfAB9AH4AfwCAAIEAggCDAIQAhQCGAIcAiACJAIoAiwCMAI0AjgCPAJAAkQCSAJMAlACVAJYAlwCYAJkAmgCbAJwAnQCeAJ8AoAChAKIAowCkAKUApgCnAKgAqQCqAKsArACtAK4ArwCwALEAsgCzALQAtQC2ALcAuAC5ALoAuwC8AL0AvgC/AMAAwQDCAMMAxADFAMYAxwDIAMkAygDLAMwAzQDOAM8A0ADRANIA0wDUANUA1gDXANgA2QDaANsA3ADdAN4A3wDgAOEA4gDjAOQA5QDmAOcA6ADpAOoA6wDsAO0A7gDvAPAA8QDyAPMA9AD1APYA9wD4APkA+gD7APwA/QD+AP8AAAEBAQIBAwEEAQUBBgEHAQgBCQEKAQsBDAENAQ4BDwEQAREBEgETARQBFQEWARcBGAEZARoBGwEcAR0BHgEfASABIQEiASMBJAElASYBJwEoASkBKgErASwBLQEuAS8BMAExATIBMwE0ATUBNgE3ATgBOQE6ATsBPAE9AT4BPwFAAUEBQgFDAUQBRQFGAUcBSAFJAUoBSwFMAU0BTgFPAVABUQFSAVMBVAFVAVYBVwFYAVkBWgFbAVwBXQFeAV8BYAFhAWIBYwFkAWUBZgFnAWgBaQFqAWsBbAFtAQ==",
          "dtype": "i2"
         },
         "y": {
          "bdata": "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",
          "dtype": "f8"
         }
        },
        {
         "line": {
          "width": 1
         },
         "mode": "lines",
         "name": "2006",
         "showlegend": true,
         "type": "scatter",
         "x": {
          "bdata": "AQACAAMABAAFAAYABwAIAAkACgALAAwADQAOAA8AEAARABIAEwAUABUAFgAXABgAGQAaABsAHAAdAB4AHwAgACEAIgAjACQAJQAmACcAKAApACoAKwAsAC0ALgAvADAAMQAyADMANAA1ADYANwA4ADkAOgA7ADwAPQA+AD8AQABBAEIAQwBEAEUARgBHAEgASQBKAEsATABNAE4ATwBQAFEAUgBTAFQAVQBWAFcAWABZAFoAWwBcAF0AXgBfAGAAYQBiAGMAZABlAGYAZwBoAGkAagBrAGwAbQBuAG8AcABxAHIAcwB0AHUAdgB3AHgAeQB6AHsAfAB9AH4AfwCAAIEAggCDAIQAhQCGAIcAiACJAIoAiwCMAI0AjgCPAJAAkQCSAJMAlACVAJYAlwCYAJkAmgCbAJwAnQCeAJ8AoAChAKIAowCkAKUApgCnAKgAqQCqAKsArACtAK4ArwCwALEAsgCzALQAtQC2ALcAuAC5ALoAuwC8AL0AvgC/AMAAwQDCAMMAxADFAMYAxwDIAMkAygDLAMwAzQDOAM8A0ADRANIA0wDUANUA1gDXANgA2QDaANsA3ADdAN4A3wDgAOEA4gDjAOQA5QDmAOcA6ADpAOoA6wDsAO0A7gDvAPAA8QDyAPMA9AD1APYA9wD4APkA+gD7APwA/QD+AP8AAAEBAQIBAwEEAQUBBgEHAQgBCQEKAQsBDAENAQ4BDwEQAREBEgETARQBFQEWARcBGAEZARoBGwEcAR0BHgEfASABIQEiASMBJAElASYBJwEoASkBKgErASwBLQEuAS8BMAExATIBMwE0ATUBNgE3ATgBOQE6ATsBPAE9AT4BPwFAAUEBQgFDAUQBRQFGAUcBSAFJAUoBSwFMAU0BTgFPAVABUQFSAVMBVAFVAVYBVwFYAVkBWgFbAVwBXQFeAV8BYAFhAWIBYwFkAWUBZgFnAWgBaQFqAWsBbAFtAQ==",
          "dtype": "i2"
         },
         "y": {
          "bdata": "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",
          "dtype": "f8"
         }
        },
        {
         "line": {
          "width": 1
         },
         "mode": "lines",
         "name": "2007",
         "showlegend": true,
         "type": "scatter",
         "x": {
          "bdata": "AQACAAMABAAFAAYABwAIAAkACgALAAwADQAOAA8AEAARABIAEwAUABUAFgAXABgAGQAaABsAHAAdAB4AHwAgACEAIgAjACQAJQAmACcAKAApACoAKwAsAC0ALgAvADAAMQAyADMANAA1ADYANwA4ADkAOgA7ADwAPQA+AD8AQABBAEIAQwBEAEUARgBHAEgASQBKAEsATABNAE4ATwBQAFEAUgBTAFQAVQBWAFcAWABZAFoAWwBcAF0AXgBfAGAAYQBiAGMAZABlAGYAZwBoAGkAagBrAGwAbQBuAG8AcABxAHIAcwB0AHUAdgB3AHgAeQB6AHsAfAB9AH4AfwCAAIEAggCDAIQAhQCGAIcAiACJAIoAiwCMAI0AjgCPAJAAkQCSAJMAlACVAJYAlwCYAJkAmgCbAJwAnQCeAJ8AoAChAKIAowCkAKUApgCnAKgAqQCqAKsArACtAK4ArwCwALEAsgCzALQAtQC2ALcAuAC5ALoAuwC8AL0AvgC/AMAAwQDCAMMAxADFAMYAxwDIAMkAygDLAMwAzQDOAM8A0ADRANIA0wDUANUA1gDXANgA2QDaANsA3ADdAN4A3wDgAOEA4gDjAOQA5QDmAOcA6ADpAOoA6wDsAO0A7gDvAPAA8QDyAPMA9AD1APYA9wD4APkA+gD7APwA/QD+AP8AAAEBAQIBAwEEAQUBBgEHAQgBCQEKAQsBDAENAQ4BDwEQAREBEgETARQBFQEWARcBGAEZARoBGwEcAR0BHgEfASABIQEiASMBJAElASYBJwEoASkBKgErASwBLQEuAS8BMAExATIBMwE0ATUBNgE3ATgBOQE6ATsBPAE9AT4BPwFAAUEBQgFDAUQBRQFGAUcBSAFJAUoBSwFMAU0BTgFPAVABUQFSAVMBVAFVAVYBVwFYAVkBWgFbAVwBXQFeAV8BYAFhAWIBYwFkAWUBZgFnAWgBaQFqAWsBbAFtAQ==",
          "dtype": "i2"
         },
         "y": {
          "bdata": "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",
          "dtype": "f8"
         }
        },
        {
         "line": {
          "width": 1
         },
         "mode": "lines",
         "name": "2008",
         "showlegend": true,
         "type": "scatter",
         "x": {
          "bdata": "AQACAAMABAAFAAYABwAIAAkACgALAAwADQAOAA8AEAARABIAEwAUABUAFgAXABgAGQAaABsAHAAdAB4AHwAgACEAIgAjACQAJQAmACcAKAApACoAKwAsAC0ALgAvADAAMQAyADMANAA1ADYANwA4ADkAOgA7ADwAPQA+AD8AQABBAEIAQwBEAEUARgBHAEgASQBKAEsATABNAE4ATwBQAFEAUgBTAFQAVQBWAFcAWABZAFoAWwBcAF0AXgBfAGAAYQBiAGMAZABlAGYAZwBoAGkAagBrAGwAbQBuAG8AcABxAHIAcwB0AHUAdgB3AHgAeQB6AHsAfAB9AH4AfwCAAIEAggCDAIQAhQCGAIcAiACJAIoAiwCMAI0AjgCPAJAAkQCSAJMAlACVAJYAlwCYAJkAmgCbAJwAnQCeAJ8AoAChAKIAowCkAKUApgCnAKgAqQCqAKsArACtAK4ArwCwALEAsgCzALQAtQC2ALcAuAC5ALoAuwC8AL0AvgC/AMAAwQDCAMMAxADFAMYAxwDIAMkAygDLAMwAzQDOAM8A0ADRANIA0wDUANUA1gDXANgA2QDaANsA3ADdAN4A3wDgAOEA4gDjAOQA5QDmAOcA6ADpAOoA6wDsAO0A7gDvAPAA8QDyAPMA9AD1APYA9wD4APkA+gD7APwA/QD+AP8AAAEBAQIBAwEEAQUBBgEHAQgBCQEKAQsBDAENAQ4BDwEQAREBEgETARQBFQEWARcBGAEZARoBGwEcAR0BHgEfASABIQEiASMBJAElASYBJwEoASkBKgErASwBLQEuAS8BMAExATIBMwE0ATUBNgE3ATgBOQE6ATsBPAE9AT4BPwFAAUEBQgFDAUQBRQFGAUcBSAFJAUoBSwFMAU0BTgFPAVABUQFSAVMBVAFVAVYBVwFYAVkBWgFbAVwBXQFeAV8BYAFhAWIBYwFkAWUBZgFnAWgBaQFqAWsBbAFtAQ==",
          "dtype": "i2"
         },
         "y": {
          "bdata": "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",
          "dtype": "f8"
         }
        },
        {
         "line": {
          "width": 1
         },
         "mode": "lines",
         "name": "2009",
         "showlegend": true,
         "type": "scatter",
         "x": {
          "bdata": "AQACAAMABAAFAAYABwAIAAkACgALAAwADQAOAA8AEAARABIAEwAUABUAFgAXABgAGQAaABsAHAAdAB4AHwAgACEAIgAjACQAJQAmACcAKAApACoAKwAsAC0ALgAvADAAMQAyADMANAA1ADYANwA4ADkAOgA7ADwAPQA+AD8AQABBAEIAQwBEAEUARgBHAEgASQBKAEsATABNAE4ATwBQAFEAUgBTAFQAVQBWAFcAWABZAFoAWwBcAF0AXgBfAGAAYQBiAGMAZABlAGYAZwBoAGkAagBrAGwAbQBuAG8AcABxAHIAcwB0AHUAdgB3AHgAeQB6AHsAfAB9AH4AfwCAAIEAggCDAIQAhQCGAIcAiACJAIoAiwCMAI0AjgCPAJAAkQCSAJMAlACVAJYAlwCYAJkAmgCbAJwAnQCeAJ8AoAChAKIAowCkAKUApgCnAKgAqQCqAKsArACtAK4ArwCwALEAsgCzALQAtQC2ALcAuAC5ALoAuwC8AL0AvgC/AMAAwQDCAMMAxADFAMYAxwDIAMkAygDLAMwAzQDOAM8A0ADRANIA0wDUANUA1gDXANgA2QDaANsA3ADdAN4A3wDgAOEA4gDjAOQA5QDmAOcA6ADpAOoA6wDsAO0A7gDvAPAA8QDyAPMA9AD1APYA9wD4APkA+gD7APwA/QD+AP8AAAEBAQIBAwEEAQUBBgEHAQgBCQEKAQsBDAENAQ4BDwEQAREBEgETARQBFQEWARcBGAEZARoBGwEcAR0BHgEfASABIQEiASMBJAElASYBJwEoASkBKgErASwBLQEuAS8BMAExATIBMwE0ATUBNgE3ATgBOQE6ATsBPAE9AT4BPwFAAUEBQgFDAUQBRQFGAUcBSAFJAUoBSwFMAU0BTgFPAVABUQFSAVMBVAFVAVYBVwFYAVkBWgFbAVwBXQFeAV8BYAFhAWIBYwFkAWUBZgFnAWgBaQFqAWsBbAFtAQ==",
          "dtype": "i2"
         },
         "y": {
          "bdata": "6waydJw9VEBcI6F2YDxVQD5B4iBAz1ZANtMysIgfV0BRr3Fck2NXQNbJMYC9F1dAC6jLULFhV0CxvvyA6HFXQI/TGXjDk1dAu1wcWFTLV0CBbO70NktZQMqib5zvQFlAwYJO5tmQVUCef6P5TG1VQPcsbl8Ev1RApWwGTS/AUkBxH4iQr3lSQHIy/LS1+0xAk3u5ci7lU0AXOAOCKwhUQAoY9sJHp1RA2kBb5nubVUBQg3LKB+5RQP6Pb5k7vVFA/m7tZ7p+UkANxXScJXdSQKXojuE7eFJAXyNmv5qBVkCYeM4S/oFWQCBvaPu3r1NAAGsSxIE1VUAS0zjfDzdVQGlHmJCrX1VAm/gbluUTVkAw1OwbhYxYQFWofHVyK1lAognvXZpSWEDxDOv8AhpYQECrkSDpuFdA1N5/0TMFVkDVCGtOz69XQFRpOfuiIVZAwvaMix4dVkBOOV8vAwBTQApC0oi02FJAP75GbEe7UUBGR3MKHsNRQLYgqbJ4fFNALqZS+0faVEDlFJwNTN9QQAt1kqkTVlJA4gitkMS6UUC1B6zy8lVSQPlKAJAIMFVARbV2ND6EVUBdTLym6kRXQE6OANX+jFRABrn0+R5vVkDJCTaZSlNVQPydF7KIfFVA+lxjtuCIVkDTStSqAglXQOt2Fas6T1dACVhfl5jnVED9urlp8jhWQMM1BrJC2lZAxDtLDrflVUD4WboLpdZRQMNnB/vqTlNAPpiPg3U4U0B4jOykfadTQNh55b2b4VRAXJBFgvf6VUD0/3zLRENWQM5U+eqyM1RAjuOjQHHcU0DwC4cIm95TQJsRSizhtFNAKvkkJGmXU0CokVdO2xhUQKzUa1YBXVJATwMF5gR7UkBnkLEGWCdSQBaIO4KtvVFAK3o9HoOSUUA3tUwwQDpSQNMsM449UFNAkVtCRYQDU0DVV2RcUXVSQJpbvbWld1JAnny/l0sAUkArvvAGaZtSQNNe3v4H/1FAZzQb5F//UUDIc9YWV5JSQBrF1Ex4dFNAyH463+IPU0BMkiDcugJTQJNk4QdhVFNA2xXgdOFzVEB9jHErgSpVQLOLkgPV61VAgX69c7gKVkBoyl8QqeZVQGQNPgsx41VA0oMqX2ftUUAy7+vshh1SQCdG7XJJNVJA/sUJcN41UkBG+dXN3xhSQIV0GtfqGFJAhN8I/iXBVUA/1g5QrwBSQGuLt5yoAFJAKxY9Fcz6UUDucxfidM1OQDS8sas1hU1ASFnsey/uUEBeP7/YRtxRQIY4diYHgVFAx0cmyZ6JUEA+vqFPlohQQFATeS7nIlFAF69n1EEVUUDiuKo8l7hRQL0d1J2B61NAOdGDKqWTVEBYNbqYaP5TQHFDiZQl5lNAmLlCtpNQVUCjqcS4GC5VQEMQs0MesVNAHXhiCwhrUkDrV5pgFLRRQD+4vHe9tFFALbaB4KZVUkC36Z5I8mdTQNdc40wEH1RAv0Nw+xbGU0BQMKDWeP9SQHX+O6FeUVFAPmDwg6M8UkBGuzHKqzZSQEow+yPsaVFAbqlEwjtqUUDJhF8PzghSQJH1t+3j+VFAz6srPhC9UUDckOSzag9QQMa6D2Y8IlBAX5RRkoEhUEBw7L2OALxQQB0G6QFOblJAihuZgkU7UkA9Q+4SDHpRQKMl/ghSeVFA3WN4pq4WU0DRF4W4KytUQE5dgF8Cf1RA+Tws4UjMVUDFDeWmEPhWQMihmnn/ZVhAX4Wr2IT7V0CCbqTZkmFWQBKNadqFd1ZAgdceMrA4VkCeWpcmknJVQCGLtXXoqVNAJ+wAy8ORU0AayCndAYFTQJG1GG0+BlRA1UqFMZ3NU0ADXZS4DclTQIg7dakg+VNAV6py53I1VkATXz71EnZWQDkILqZr01RAC+fVBnmfVED292N9YMNTQHw+BcW4+lFAhWuFwMs5VEAKw/RjHhRTQFm3ApnBoVFA1AbNctiLUUA7iYEiubpRQIVDGnw38lFA7TLT8NzlUkC6z/EyUuNSQLPa1X9L5VJAL7q1dHB9VUDKdDoLv81WQB1jQ9Lb11ZAdOcB9MloV0CFee0W4jZYQAhBe8LhxFhAYBHSwkyuWEB+4IeyXHNYQM6oVAqkd1hAso2hQuZ9WEBYDW33w3dYQO0yB98FeVdATKsMXHheV0BZ7ooq065YQFeBy/0j5VhAqjW1jGeQWEBSc02RZuRWQEBrXvjsK1VA07luKJrRVEDVCdEAYwtVQAtZtJ8/21VA7ndg0pECVkCaJP25E5dUQA9eJKQxPVRAldgfraXgU0BvUG3KSpVTQPe6r/LGlVNA+TVI2abKU0BcdmL1lJFXQHvMxLSYmFdA6k3EzluTV0B0sHekjDtXQLXLFvk9N1VAeNwYBoT8VUBNElgUacJUQKavc68KgFZACppt2+qkVUAAxWP7ExhVQHYWguHjXVhAg+wntn5cVEBuxDCVSRBVQKw1ZhMCVVVAuCRYVhqEVUCQBSDM3A9VQNUVZc8tMVVAtxrpEZrCVUBgQATvSb9VQHTy1urdhVRARTBq/myGVECkJMJjl3BWQETLA0Mik1dAhmFgta3dVkByjDtTdbFWQAnhMPHWjVVAquy9NQLKVECRHjjiDBBVQC8tPyNOQVVA9cqX6wiTVkCvlYt4gKNXQL7vUuAwJFZAOFLQR3rwVkBxiFYDf/ZWQBah53TGJVZA00n6fKEmVUB6mk/wIp1WQAbRXCRZrlZALa6GakRlVkBegzwV2DFVQP1/xdmWMFVA2wIXnHW/VUDFJvjmYb9VQCRIQRXe81VAi0woet7zVUAuKMoT69dVQGz5dS6zxlRAeOii8/7hU0DfJClY0d1UQAXpmkG6mlRADcFUlWkBVEArEr1U4n5TQBBgRCMLmlNAfFWHIhb3VEDLAPJPmDJUQGWsyAnGPFRAjkYeawsGVkD+Xv4PAPdUQAcTcvy1xFFAYM01fqrZTkB/QsWoIs1QQEJkdeXZIlJArxTQ6k7HUUDWbtcCgPhRQDTVnpAUn1FAtDQd1o2HUECZ4Q9ygb5QQK+C/99z+1BArjpxiOd3UkCL4Cmuf4RSQKNBsEchgVJAn0FapNWJVEDF9M4ZeklQQEYVo2JZ+lFAsThS+PPfTEAW88Ay47JMQIlqRpk5e1FAFOJMYS17UUBUaNUGO+ZRQIBJPxZHiFBAOPT7ArmqUEBiiGyMJaBTQHXbdLkJnFFA8Zw4gpGbUUB2sJ5kIKdRQEoXLUcez1NAQmbf0qezU0BTOjQdYQxUQJluJtXjJVFAdPumuMIfUUCTqiqpGWFRQBi0JlKZslJA8xJ8UAWrUkAta9l6xLFSQFdOqNZRelFAdq1J1JaaUUA3fbIGTXdSQJOaIPu0/1RADlIGD2C+UUCs/7yFMGNRQOn+WAM4Z1FA/WdDsrx5T0CFbEDmG51PQAUTV9uduVJA6BVWpf8RU0BkTbhU3LxSQJ5633CEyFJAjEuJA0PMUkD6pKyq6d9TQKFwVaHHXlRAdqj5xpt8U0AOo92FfZtSQMMpKHWDgFRAxkZ7s4cBUkAjx6rzOABRQCreDd9g4E1An60KhWvuTUBkNFumlsFRQH/mk0rJslFAF5VEujq4UkDaNajZHLFRQMpbRKqxMVBAmAnGSILNTkAT2QLdemNPQJqba+155FNA9k+GfurPUEA9lz9RrX1TQPkIEng/hVRAiWng5qUfVEDk0Jwt2FBUQC7uBYrOd1RAiyV3NyJ8VUCsLkxfC6BVQFbp5je4uVVAcIXXZRyXVEA/NeSCZZRUQG2TS5BAw1NA+/izepavU0BncRTSfFlTQLy4PsrsnVNAszx2fIQsU0BJQ3gFyphUQDN+kXSxL1VAoaF6M3WfVUC36ei25ptVQEP5JEdFVFVAba4tgv4oVUDqTbrtC1NVQA==",
          "dtype": "f8"
         }
        },
        {
         "line": {
          "width": 1
         },
         "mode": "lines",
         "name": "2010",
         "showlegend": true,
         "type": "scatter",
         "x": {
          "bdata": "AQACAAMABAAFAAYABwAIAAkACgALAAwADQAOAA8AEAARABIAEwAUABUAFgAXABgAGQAaABsAHAAdAB4AHwAgACEAIgAjACQAJQAmACcAKAApACoAKwAsAC0ALgAvADAAMQAyADMANAA1ADYANwA4ADkAOgA7ADwAPQA+AD8AQABBAEIAQwBEAEUARgBHAEgASQBKAEsATABNAE4ATwBQAFEAUgBTAFQAVQBWAFcAWABZAFoAWwBcAF0AXgBfAGAAYQBiAGMAZABlAGYAZwBoAGkAagBrAGwAbQBuAG8AcABxAHIAcwB0AHUAdgB3AHgAeQB6AHsAfAB9AH4AfwCAAIEAggCDAIQAhQCGAIcAiACJAIoAiwCMAI0AjgCPAJAAkQCSAJMAlACVAJYAlwCYAJkAmgCbAJwAnQCeAJ8AoAChAKIAowCkAKUApgCnAKgAqQCqAKsArACtAK4ArwCwALEAsgCzALQAtQC2ALcAuAC5ALoAuwC8AL0AvgC/AMAAwQDCAMMAxADFAMYAxwDIAMkAygDLAMwAzQDOAM8A0ADRANIA0wDUANUA1gDXANgA2QDaANsA3ADdAN4A3wDgAOEA4gDjAOQA5QDmAOcA6ADpAOoA6wDsAO0A7gDvAPAA8QDyAPMA9AD1APYA9wD4APkA+gD7APwA/QD+AP8AAAEBAQIBAwEEAQUBBgEHAQgBCQEKAQsBDAENAQ4BDwEQAREBEgETARQBFQEWARcBGAEZARoBGwEcAR0BHgEfASABIQEiASMBJAElASYBJwEoASkBKgErASwBLQEuAS8BMAExATIBMwE0ATUBNgE3ATgBOQE6ATsBPAE9AT4BPwFAAUEBQgFDAUQBRQFGAUcBSAFJAUoBSwFMAU0BTgFPAVABUQFSAVMBVAFVAVYBVwFYAVkBWgFbAVwBXQFeAV8BYAFhAWIBYwFkAWUBZgFnAWgBaQFqAWsBbAFtAQ==",
          "dtype": "i2"
         },
         "y": {
          "bdata": "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",
          "dtype": "f8"
         }
        },
        {
         "line": {
          "width": 1
         },
         "mode": "lines",
         "name": "2011",
         "showlegend": true,
         "type": "scatter",
         "x": {
          "bdata": "AQACAAMABAAFAAYABwAIAAkACgALAAwADQAOAA8AEAARABIAEwAUABUAFgAXABgAGQAaABsAHAAdAB4AHwAgACEAIgAjACQAJQAmACcAKAApACoAKwAsAC0ALgAvADAAMQAyADMANAA1ADYANwA4ADkAOgA7ADwAPQA+AD8AQABBAEIAQwBEAEUARgBHAEgASQBKAEsATABNAE4ATwBQAFEAUgBTAFQAVQBWAFcAWABZAFoAWwBcAF0AXgBfAGAAYQBiAGMAZABlAGYAZwBoAGkAagBrAGwAbQBuAG8AcABxAHIAcwB0AHUAdgB3AHgAeQB6AHsAfAB9AH4AfwCAAIEAggCDAIQAhQCGAIcAiACJAIoAiwCMAI0AjgCPAJAAkQCSAJMAlACVAJYAlwCYAJkAmgCbAJwAnQCeAJ8AoAChAKIAowCkAKUApgCnAKgAqQCqAKsArACtAK4ArwCwALEAsgCzALQAtQC2ALcAuAC5ALoAuwC8AL0AvgC/AMAAwQDCAMMAxADFAMYAxwDIAMkAygDLAMwAzQDOAM8A0ADRANIA0wDUANUA1gDXANgA2QDaANsA3ADdAN4A3wDgAOEA4gDjAOQA5QDmAOcA6ADpAOoA6wDsAO0A7gDvAPAA8QDyAPMA9AD1APYA9wD4APkA+gD7APwA/QD+AP8AAAEBAQIBAwEEAQUBBgEHAQgBCQEKAQsBDAENAQ4BDwEQAREBEgETARQBFQEWARcBGAEZARoBGwEcAR0BHgEfASABIQEiASMBJAElASYBJwEoASkBKgErASwBLQEuAS8BMAExATIBMwE0ATUBNgE3ATgBOQE6ATsBPAE9AT4BPwFAAUEBQgFDAUQBRQFGAUcBSAFJAUoBSwFMAU0BTgFPAVABUQFSAVMBVAFVAVYBVwFYAVkBWgFbAVwBXQFeAV8BYAFhAWIBYwFkAWUBZgFnAWgBaQFqAWsBbAFtAQ==",
          "dtype": "i2"
         },
         "y": {
          "bdata": "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",
          "dtype": "f8"
         }
        },
        {
         "line": {
          "width": 1
         },
         "mode": "lines",
         "name": "2012",
         "showlegend": true,
         "type": "scatter",
         "x": {
          "bdata": "AQACAAMABAAFAAYABwAIAAkACgALAAwADQAOAA8AEAARABIAEwAUABUAFgAXABgAGQAaABsAHAAdAB4AHwAgACEAIgAjACQAJQAmACcAKAApACoAKwAsAC0ALgAvADAAMQAyADMANAA1ADYANwA4ADkAOgA7ADwAPQA+AD8AQABBAEIAQwBEAEUARgBHAEgASQBKAEsATABNAE4ATwBQAFEAUgBTAFQAVQBWAFcAWABZAFoAWwBcAF0AXgBfAGAAYQBiAGMAZABlAGYAZwBoAGkAagBrAGwAbQBuAG8AcABxAHIAcwB0AHUAdgB3AHgAeQB6AHsAfAB9AH4AfwCAAIEAggCDAIQAhQCGAIcAiACJAIoAiwCMAI0AjgCPAJAAkQCSAJMAlACVAJYAlwCYAJkAmgCbAJwAnQCeAJ8AoAChAKIAowCkAKUApgCnAKgAqQCqAKsArACtAK4ArwCwALEAsgCzALQAtQC2ALcAuAC5ALoAuwC8AL0AvgC/AMAAwQDCAMMAxADFAMYAxwDIAMkAygDLAMwAzQDOAM8A0ADRANIA0wDUANUA1gDXANgA2QDaANsA3ADdAN4A3wDgAOEA4gDjAOQA5QDmAOcA6ADpAOoA6wDsAO0A7gDvAPAA8QDyAPMA9AD1APYA9wD4APkA+gD7APwA/QD+AP8AAAEBAQIBAwEEAQUBBgEHAQgBCQEKAQsBDAENAQ4BDwEQAREBEgETARQBFQEWARcBGAEZARoBGwEcAR0BHgEfASABIQEiASMBJAElASYBJwEoASkBKgErASwBLQEuAS8BMAExATIBMwE0ATUBNgE3ATgBOQE6ATsBPAE9AT4BPwFAAUEBQgFDAUQBRQFGAUcBSAFJAUoBSwFMAU0BTgFPAVABUQFSAVMBVAFVAVYBVwFYAVkBWgFbAVwBXQFeAV8BYAFhAWIBYwFkAWUBZgFnAWgBaQFqAWsBbAFtAQ==",
          "dtype": "i2"
         },
         "y": {
          "bdata": "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",
          "dtype": "f8"
         }
        },
        {
         "line": {
          "width": 1
         },
         "mode": "lines",
         "name": "2013",
         "showlegend": true,
         "type": "scatter",
         "x": {
          "bdata": "AQACAAMABAAFAAYABwAIAAkACgALAAwADQAOAA8AEAARABIAEwAUABUAFgAXABgAGQAaABsAHAAdAB4AHwAgACEAIgAjACQAJQAmACcAKAApACoAKwAsAC0ALgAvADAAMQAyADMANAA1ADYANwA4ADkAOgA7ADwAPQA+AD8AQABBAEIAQwBEAEUARgBHAEgASQBKAEsATABNAE4ATwBQAFEAUgBTAFQAVQBWAFcAWABZAFoAWwBcAF0AXgBfAGAAYQBiAGMAZABlAGYAZwBoAGkAagBrAGwAbQBuAG8AcABxAHIAcwB0AHUAdgB3AHgAeQB6AHsAfAB9AH4AfwCAAIEAggCDAIQAhQCGAIcAiACJAIoAiwCMAI0AjgCPAJAAkQCSAJMAlACVAJYAlwCYAJkAmgCbAJwAnQCeAJ8AoAChAKIAowCkAKUApgCnAKgAqQCqAKsArACtAK4ArwCwALEAsgCzALQAtQC2ALcAuAC5ALoAuwC8AL0AvgC/AMAAwQDCAMMAxADFAMYAxwDIAMkAygDLAMwAzQDOAM8A0ADRANIA0wDUANUA1gDXANgA2QDaANsA3ADdAN4A3wDgAOEA4gDjAOQA5QDmAOcA6ADpAOoA6wDsAO0A7gDvAPAA8QDyAPMA9AD1APYA9wD4APkA+gD7APwA/QD+AP8AAAEBAQIBAwEEAQUBBgEHAQgBCQEKAQsBDAENAQ4BDwEQAREBEgETARQBFQEWARcBGAEZARoBGwEcAR0BHgEfASABIQEiASMBJAElASYBJwEoASkBKgErASwBLQEuAS8BMAExATIBMwE0ATUBNgE3ATgBOQE6ATsBPAE9AT4BPwFAAUEBQgFDAUQBRQFGAUcBSAFJAUoBSwFMAU0BTgFPAVABUQFSAVMBVAFVAVYBVwFYAVkBWgFbAVwBXQFeAV8BYAFhAWIBYwFkAWUBZgFnAWgBaQFqAWsBbAFtAQ==",
          "dtype": "i2"
         },
         "y": {
          "bdata": "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",
          "dtype": "f8"
         }
        },
        {
         "line": {
          "width": 1
         },
         "mode": "lines",
         "name": "2014",
         "showlegend": true,
         "type": "scatter",
         "x": {
          "bdata": "AQACAAMABAAFAAYABwAIAAkACgALAAwADQAOAA8AEAARABIAEwAUABUAFgAXABgAGQAaABsAHAAdAB4AHwAgACEAIgAjACQAJQAmACcAKAApACoAKwAsAC0ALgAvADAAMQAyADMANAA1ADYANwA4ADkAOgA7ADwAPQA+AD8AQABBAEIAQwBEAEUARgBHAEgASQBKAEsATABNAE4ATwBQAFEAUgBTAFQAVQBWAFcAWABZAFoAWwBcAF0AXgBfAGAAYQBiAGMAZABlAGYAZwBoAGkAagBrAGwAbQBuAG8AcABxAHIAcwB0AHUAdgB3AHgAeQB6AHsAfAB9AH4AfwCAAIEAggCDAIQAhQCGAIcAiACJAIoAiwCMAI0AjgCPAJAAkQCSAJMAlACVAJYAlwCYAJkAmgCbAJwAnQCeAJ8AoAChAKIAowCkAKUApgCnAKgAqQCqAKsArACtAK4ArwCwALEAsgCzALQAtQC2ALcAuAC5ALoAuwC8AL0AvgC/AMAAwQDCAMMAxADFAMYAxwDIAMkAygDLAMwAzQDOAM8A0ADRANIA0wDUANUA1gDXANgA2QDaANsA3ADdAN4A3wDgAOEA4gDjAOQA5QDmAOcA6ADpAOoA6wDsAO0A7gDvAPAA8QDyAPMA9AD1APYA9wD4APkA+gD7APwA/QD+AP8AAAEBAQIBAwEEAQUBBgEHAQgBCQEKAQsBDAENAQ4BDwEQAREBEgETARQBFQEWARcBGAEZARoBGwEcAR0BHgEfASABIQEiASMBJAElASYBJwEoASkBKgErASwBLQEuAS8BMAExATIBMwE0ATUBNgE3ATgBOQE6ATsBPAE9AT4BPwFAAUEBQgFDAUQBRQFGAUcBSAFJAUoBSwFMAU0BTgFPAVABUQFSAVMBVAFVAVYBVwFYAVkBWgFbAVwBXQFeAV8BYAFhAWIBYwFkAWUBZgFnAWgBaQFqAWsBbAFtAQ==",
          "dtype": "i2"
         },
         "y": {
          "bdata": "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",
          "dtype": "f8"
         }
        },
        {
         "line": {
          "width": 1
         },
         "mode": "lines",
         "name": "2015",
         "showlegend": true,
         "type": "scatter",
         "x": {
          "bdata": "AQACAAMABAAFAAYABwAIAAkACgALAAwADQAOAA8AEAARABIAEwAUABUAFgAXABgAGQAaABsAHAAdAB4AHwAgACEAIgAjACQAJQAmACcAKAApACoAKwAsAC0ALgAvADAAMQAyADMANAA1ADYANwA4ADkAOgA7ADwAPQA+AD8AQABBAEIAQwBEAEUARgBHAEgASQBKAEsATABNAE4ATwBQAFEAUgBTAFQAVQBWAFcAWABZAFoAWwBcAF0AXgBfAGAAYQBiAGMAZABlAGYAZwBoAGkAagBrAGwAbQBuAG8AcABxAHIAcwB0AHUAdgB3AHgAeQB6AHsAfAB9AH4AfwCAAIEAggCDAIQAhQCGAIcAiACJAIoAiwCMAI0AjgCPAJAAkQCSAJMAlACVAJYAlwCYAJkAmgCbAJwAnQCeAJ8AoAChAKIAowCkAKUApgCnAKgAqQCqAKsArACtAK4ArwCwALEAsgCzALQAtQC2ALcAuAC5ALoAuwC8AL0AvgC/AMAAwQDCAMMAxADFAMYAxwDIAMkAygDLAMwAzQDOAM8A0ADRANIA0wDUANUA1gDXANgA2QDaANsA3ADdAN4A3wDgAOEA4gDjAOQA5QDmAOcA6ADpAOoA6wDsAO0A7gDvAPAA8QDyAPMA9AD1APYA9wD4APkA+gD7APwA/QD+AP8AAAEBAQIBAwEEAQUBBgEHAQgBCQEKAQsBDAENAQ4BDwEQAREBEgETARQBFQEWARcBGAEZARoBGwEcAR0BHgEfASABIQEiASMBJAElASYBJwEoASkBKgErASwBLQEuAS8BMAExATIBMwE0ATUBNgE3ATgBOQE6ATsBPAE9AT4BPwFAAUEBQgFDAUQBRQFGAUcBSAFJAUoBSwFMAU0BTgFPAVABUQFSAVMBVAFVAVYBVwFYAVkBWgFbAVwBXQFeAV8BYAFhAWIBYwFkAWUBZgFnAWgBaQFqAWsBbAFtAQ==",
          "dtype": "i2"
         },
         "y": {
          "bdata": "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",
          "dtype": "f8"
         }
        },
        {
         "line": {
          "width": 1
         },
         "mode": "lines",
         "name": "2016",
         "showlegend": true,
         "type": "scatter",
         "x": {
          "bdata": "AQACAAMABAAFAAYABwAIAAkACgALAAwADQAOAA8AEAARABIAEwAUABUAFgAXABgAGQAaABsAHAAdAB4AHwAgACEAIgAjACQAJQAmACcAKAApACoAKwAsAC0ALgAvADAAMQAyADMANAA1ADYANwA4ADkAOgA7ADwAPQA+AD8AQABBAEIAQwBEAEUARgBHAEgASQBKAEsATABNAE4ATwBQAFEAUgBTAFQAVQBWAFcAWABZAFoAWwBcAF0AXgBfAGAAYQBiAGMAZABlAGYAZwBoAGkAagBrAGwAbQBuAG8AcABxAHIAcwB0AHUAdgB3AHgAeQB6AHsAfAB9AH4AfwCAAIEAggCDAIQAhQCGAIcAiACJAIoAiwCMAI0AjgCPAJAAkQCSAJMAlACVAJYAlwCYAJkAmgCbAJwAnQCeAJ8AoAChAKIAowCkAKUApgCnAKgAqQCqAKsArACtAK4ArwCwALEAsgCzALQAtQC2ALcAuAC5ALoAuwC8AL0AvgC/AMAAwQDCAMMAxADFAMYAxwDIAMkAygDLAMwAzQDOAM8A0ADRANIA0wDUANUA1gDXANgA2QDaANsA3ADdAN4A3wDgAOEA4gDjAOQA5QDmAOcA6ADpAOoA6wDsAO0A7gDvAPAA8QDyAPMA9AD1APYA9wD4APkA+gD7APwA/QD+AP8AAAEBAQIBAwEEAQUBBgEHAQgBCQEKAQsBDAENAQ4BDwEQAREBEgETARQBFQEWARcBGAEZARoBGwEcAR0BHgEfASABIQEiASMBJAElASYBJwEoASkBKgErASwBLQEuAS8BMAExATIBMwE0ATUBNgE3ATgBOQE6ATsBPAE9AT4BPwFAAUEBQgFDAUQBRQFGAUcBSAFJAUoBSwFMAU0BTgFPAVABUQFSAVMBVAFVAVYBVwFYAVkBWgFbAVwBXQFeAV8BYAFhAWIBYwFkAWUBZgFnAWgBaQFqAWsBbAFtAQ==",
          "dtype": "i2"
         },
         "y": {
          "bdata": "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",
          "dtype": "f8"
         }
        },
        {
         "line": {
          "width": 1
         },
         "mode": "lines",
         "name": "2017",
         "showlegend": true,
         "type": "scatter",
         "x": {
          "bdata": "AQACAAMABAAFAAYABwAIAAkACgALAAwADQAOAA8AEAARABIAEwAUABUAFgAXABgAGQAaABsAHAAdAB4AHwAgACEAIgAjACQAJQAmACcAKAApACoAKwAsAC0ALgAvADAAMQAyADMANAA1ADYANwA4ADkAOgA7ADwAPQA+AD8AQABBAEIAQwBEAEUARgBHAEgASQBKAEsATABNAE4ATwBQAFEAUgBTAFQAVQBWAFcAWABZAFoAWwBcAF0AXgBfAGAAYQBiAGMAZABlAGYAZwBoAGkAagBrAGwAbQBuAG8AcABxAHIAcwB0AHUAdgB3AHgAeQB6AHsAfAB9AH4AfwCAAIEAggCDAIQAhQCGAIcAiACJAIoAiwCMAI0AjgCPAJAAkQCSAJMAlACVAJYAlwCYAJkAmgCbAJwAnQCeAJ8AoAChAKIAowCkAKUApgCnAKgAqQCqAKsArACtAK4ArwCwALEAsgCzALQAtQC2ALcAuAC5ALoAuwC8AL0AvgC/AMAAwQDCAMMAxADFAMYAxwDIAMkAygDLAMwAzQDOAM8A0ADRANIA0wDUANUA1gDXANgA2QDaANsA3ADdAN4A3wDgAOEA4gDjAOQA5QDmAOcA6ADpAOoA6wDsAO0A7gDvAPAA8QDyAPMA9AD1APYA9wD4APkA+gD7APwA/QD+AP8AAAEBAQIBAwEEAQUBBgEHAQgBCQEKAQsBDAENAQ4BDwEQAREBEgETARQBFQEWARcBGAEZARoBGwEcAR0BHgEfASABIQEiASMBJAElASYBJwEoASkBKgErASwBLQEuAS8BMAExATIBMwE0ATUBNgE3ATgBOQE6ATsBPAE9AT4BPwFAAUEBQgFDAUQBRQFGAUcBSAFJAUoBSwFMAU0BTgFPAVABUQFSAVMBVAFVAVYBVwFYAVkBWgFbAVwBXQFeAV8BYAFhAWIBYwFkAWUBZgFnAWgBaQFqAWsBbAFtAQ==",
          "dtype": "i2"
         },
         "y": {
          "bdata": "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",
          "dtype": "f8"
         }
        },
        {
         "line": {
          "width": 1
         },
         "mode": "lines",
         "name": "2018",
         "showlegend": true,
         "type": "scatter",
         "x": {
          "bdata": "AQACAAMABAAFAAYABwAIAAkACgALAAwADQAOAA8AEAARABIAEwAUABUAFgAXABgAGQAaABsAHAAdAB4AHwAgACEAIgAjACQAJQAmACcAKAApACoAKwAsAC0ALgAvADAAMQAyADMANAA1ADYANwA4ADkAOgA7ADwAPQA+AD8AQABBAEIAQwBEAEUARgBHAEgASQBKAEsATABNAE4ATwBQAFEAUgBTAFQAVQBWAFcAWABZAFoAWwBcAF0AXgBfAGAAYQBiAGMAZABlAGYAZwBoAGkAagBrAGwAbQBuAG8AcABxAHIAcwB0AHUAdgB3AHgAeQB6AHsAfAB9AH4AfwCAAIEAggCDAIQAhQCGAIcAiACJAIoAiwCMAI0AjgCPAJAAkQCSAJMAlACVAJYAlwCYAJkAmgCbAJwAnQCeAJ8AoAChAKIAowCkAKUApgCnAKgAqQCqAKsArACtAK4ArwCwALEAsgCzALQAtQC2ALcAuAC5ALoAuwC8AL0AvgC/AMAAwQDCAMMAxADFAMYAxwDIAMkAygDLAMwAzQDOAM8A0ADRANIA0wDUANUA1gDXANgA2QDaANsA3ADdAN4A3wDgAOEA4gDjAOQA5QDmAOcA6ADpAOoA6wDsAO0A7gDvAPAA8QDyAPMA9AD1APYA9wD4APkA+gD7APwA/QD+AP8AAAEBAQIBAwEEAQUBBgEHAQgBCQEKAQsBDAENAQ4BDwEQAREBEgETARQBFQEWARcBGAEZARoBGwEcAR0BHgEfASABIQEiASMBJAElASYBJwEoASkBKgErASwBLQEuAS8BMAExATIBMwE0ATUBNgE3ATgBOQE6ATsBPAE9AT4BPwFAAUEBQgFDAUQBRQFGAUcBSAFJAUoBSwFMAU0BTgFPAVABUQFSAVMBVAFVAVYBVwFYAVkBWgFbAVwBXQFeAV8BYAFhAWIBYwFkAWUBZgFnAWgBaQFqAWsBbAFtAQ==",
          "dtype": "i2"
         },
         "y": {
          "bdata": "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",
          "dtype": "f8"
         }
        },
        {
         "line": {
          "width": 1
         },
         "mode": "lines",
         "name": "2019",
         "showlegend": true,
         "type": "scatter",
         "x": {
          "bdata": "AQACAAMABAAFAAYABwAIAAkACgALAAwADQAOAA8AEAARABIAEwAUABUAFgAXABgAGQAaABsAHAAdAB4AHwAgACEAIgAjACQAJQAmACcAKAApACoAKwAsAC0ALgAvADAAMQAyADMANAA1ADYANwA4ADkAOgA7ADwAPQA+AD8AQABBAEIAQwBEAEUARgBHAEgASQBKAEsATABNAE4ATwBQAFEAUgBTAFQAVQBWAFcAWABZAFoAWwBcAF0AXgBfAGAAYQBiAGMAZABlAGYAZwBoAGkAagBrAGwAbQBuAG8AcABxAHIAcwB0AHUAdgB3AHgAeQB6AHsAfAB9AH4AfwCAAIEAggCDAIQAhQCGAIcAiACJAIoAiwCMAI0AjgCPAJAAkQCSAJMAlACVAJYAlwCYAJkAmgCbAJwAnQCeAJ8AoAChAKIAowCkAKUApgCnAKgAqQCqAKsArACtAK4ArwCwALEAsgCzALQAtQC2ALcAuAC5ALoAuwC8AL0AvgC/AMAAwQDCAMMAxADFAMYAxwDIAMkAygDLAMwAzQDOAM8A0ADRANIA0wDUANUA1gDXANgA2QDaANsA3ADdAN4A3wDgAOEA4gDjAOQA5QDmAOcA6ADpAOoA6wDsAO0A7gDvAPAA8QDyAPMA9AD1APYA9wD4APkA+gD7APwA/QD+AP8AAAEBAQIBAwEEAQUBBgEHAQgBCQEKAQsBDAENAQ4BDwEQAREBEgETARQBFQEWARcBGAEZARoBGwEcAR0BHgEfASABIQEiASMBJAElASYBJwEoASkBKgErASwBLQEuAS8BMAExATIBMwE0ATUBNgE3ATgBOQE6ATsBPAE9AT4BPwFAAUEBQgFDAUQBRQFGAUcBSAFJAUoBSwFMAU0BTgFPAVABUQFSAVMBVAFVAVYBVwFYAVkBWgFbAVwBXQFeAV8BYAFhAWIBYwFkAWUBZgFnAWgBaQFqAWsBbAFtAQ==",
          "dtype": "i2"
         },
         "y": {
          "bdata": "g5fQfncDVUBuMCWAWD9WQIND7uXETVZAHwVtz+5xV0BZzyOiTJRXQJKzOEZ3zlRAWrVYHk8dUEAo4F0QOCRQQLmFz+AefFBAhk1kib2ZUEAEMRNODUxVQOUqUykJQVVAMLKG21IrVUDpatfp371UQPkV+4NDbVVAuurY+u6BVUCje16GBA9WQE5etXCyLlVATVBc0cqqVEBQiBbytLFUQJ5+buicvVRARFl7gjkdVEBbO+SeMjBUQGS1kUOgfVZANpkTeK/AVkBxiaFfaHhVQMWD/pw9g1VA8DaCX+weVUADhfUbUtBTQJTiM0Npo1RA901E4MlxWEDr73K8lk1ZQHcGSRs1olhAvx2SHR8JW0DNhG6RarNVQFaISna5p1lApIc8jjGaWECIvBx1slRVQEc2ea6M3lVAfAa1CbprVEDJdrVt5/dUQB1EPAODw1VAKc8yE8OTV0C3yLxdQyNUQK4KMAXrWVVApFNHXCJtWECB5swO0X5XQDyY3vzac1ZAtVdTY9GKU0BrPVgv4ylZQL3zV5FCwFVAKx7WE9XEVED4SoCqURdVQGWi3rVtm1VAfCk3jov0UkBLri3+2NdSQDIq+9KM/1FASf7v+fO0UkDPu/8/IGtQQBKtx6RDblFA2cKZOhfNUEANgUakZ45SQAyui7z9TFVACTIjvp5EVUBluwxMaTxTQHG7zOp7DlRA2Fx+iGURU0BqZ6BN+cFSQPoNQiQfwlJACOF6X8vBV0CBibx3pXpVQPGebMMKeVVAuM1WpKCmVEAZrGFT+aZUQE/okZk1Y1RAZVnMCF77UkA+UFcEx3pSQCi8K2veC1JAZ6+41bA7U0Bb0MTWE9xTQLciqQXJxlJAY2tlEB3WUUDhpIdQEwlRQBNplKEUflBA4ZQJJ+EgUED7KjXehwtQQHAzodB1t1BAgy+X1oU8UUAz9IBdBWhRQE1s2iFxH1FA4BEnhsuOUEDlqXxFLYtQQLdVCW36PVJA7sLZHypMUkAixinr+spUQChrQ39mlVRADNk82uwnVEB3nI8FqqlVQM8eya6NAVZAGdTMl43uVkAT+HIi2SpZQDAkTynglFhATVHgJk7HWEAtWbQjZSxYQH6I0Ql8zVZAH8PecFPNVkBTOS4k+7ZWQOPVMZ5Wm1NAqYbzhU+bU0AgX0+WJNVTQBT0VNlI1VNATZ2p20CaVECj6ygK239TQI1R0zWWEFNAHkqX38JvUkA00vj9iwVVQOJsV8GdjFNAYsDmVP2BU0At7fDZOalTQH/D0ThTNlNAlcQmzvqDVUCUV6f5Xd9VQOt1G1FQWlVA7g4hMTrmVECsIWNTB7hUQLNDddrQB1RArdoaTfOuU0AZdxfksLdTQOoLQg88T1JAk8bh8llwU0AFDOJDWDdUQBQMOBNb9FJAVGIwvAYGU0CHhl2cp5BTQNUjOX7tlFRAWT8Ohz7mVEDQK42Dl89VQBdFsQv8A1ZA7YGv6oixVUC/MnbUF7BXQEKCludV9FVAYy6Fun41VkDjqxpWtn1WQMCIvYS5vVZApfkrnFJvVkAvpWJNG1dVQBcUTOypz1RAcrWnhf5GVUCrkDbKOBtYQJx+EzrgvlVAEgvyweJ5VUCCVLdr4LdVQOTV+/EB6FVA0xnUT0/iVkCf3yNCGolWQBoKTOPzvlhAhq3iSPFjWEBeZVTXYyxXQMVsMBPAMldArnHPDCAyV0CsiRI18iVWQPfCKMVGTVZAJGktFm9HV0AfWX6A64FZQD3SBxYEE1lAdM35L23lV0A06IriTk1YQLN6ricPqFdADTiyU3W1VkBUu2Wv+cBXQOQDjGaBKFdAWsWvUlvLVkAS0AzptepXQN4qYkpcV1hAuu3XsprIV0DXdLURvKRWQOy2vtedtFdA0/H8shE0WUACTES5MO1ZQI/6jzhMH1lADpnRR3DHWkDFdAmfbfBZQGTzRP4C2VlAzMP2o0+4WUB3Dp22uj9aQEamQanJ/VlAqFfiaoljWkBpJ+JKbIdaQI5kv4fQvllAs5OQxnzDWUC9fPM+LLNYQKk7P4HxllhAY7ZrcQFgWECAKFttbCNYQNFllnA3XFhAi4HeCLBTWEAh2BYNbEtYQKg2RYFmDVhAJrHFGbk8WECfTO2Eq2FYQK9YF3uLaVdAIj3MDIqrWECon594aANYQJkfEnG3hldAw4CTwXqkV0AHKiNyXRtYQDhpKJj+mVdADh3VN5aIVkB90OSGwj9WQFKlnVN0lFZAoxEU4dWVVkBHPm2Q5HVXQAn1eBRVV1dACdOhpZpWV0A47u9qTGtXQMIz5jJpfVdAHT7cUGTeV0A+AH002XlbQBHu7ZIfl1tANsS9zAF0W0AJ+WdFm1JZQPviKbn3h1lAvRIuiiVaWkBtmTOAzK9aQNF6CcQVlVhARuUrMwgpV0BShTWoZl1ZQNdcnCtV0llAB3ClDLDCW0AUhl6oK21aQCEUUSPSnFZAU8Q/Xi6bVkBHd/Jck7RVQE042VDmkVVA4A7LYTcpVkBmPmNoTFVXQABM8J5+R1VAAGcNE3CZVUAF9Yc1qG1aQGdBTl5YG1VA9oxzzYvJVkAmviRftstWQGUzSQ61C1lAoxCuLkI6WUDft1iBNaxYQLcO+l+Az1ZAnynB2LeeV0Cvi3ztLehXQITeOLEUH1ZAqb2MjLtBV0BYqB2MJ/tWQCKe3lOyXFhAzGIPMwUkWECEUawUuRBYQEpU8IjmdVdAM+dVBjFsV0AK+Oj6iD1WQOXSxo0B7lVAl7sn6MuPVUDu24A8ZHtVQCVeP1JKolRAGvnOifioVEDi9D14ILdVQLVtYFdsslVArLXOISaPU0Dytuo4fopTQMfbxYXm81NAbGtqR0WjU0BSTb2duptSQMq1BIcyYlNAUW50Fm/PT0BrQ2wdPohOQCKNgEBc1E5AO+gVeDYtUEBCXmYAKPxQQNS46tIWtVBA+8tKENEjUED9/xiMZ11PQF8FDc0u6k5ATc0oAzcaUUDsEVfuREJOQPhzMploO05AZpcmnp2pUECkJ56idL1QQDY1TxWkqE9AlfTtZZdVTUDr0+F9mVVNQETnrPmrvE9ARWIqVqt1UEAHxGk3BYZTQP8bEZPbT1FAfasEfwy4UUClWX3SBelTQDYjKRebN1RA4Ts3OmFTU0D5w99ER2dQQNrEWQDDI1BA0EwV5AGpT0AmxwSvL2pKQJ8gn37bQ0pA19LHulSKTkDzx9Y3lMlPQAD/GalnvE9ANma/emfbUkBvBhqiobNUQG1zDNaizVRAavsLHBiZUUAhJMuand9PQPYAJPpiV01AsbUvyjlaTUCR+Sdd629NQPZbhOcyPFNAdKAvJ68GVED+DcfftBNUQLNzVqSfH1FAVr1GwUIjUUBrFqI4AB9RQDmmDNIKU1JAzFE5d1JXUkC8Wak+z15SQN8s6UsA4lFAJfFL0G7qUUDolk5zkPpQQDYGOicpuFBAJ5TqaLXlUUB9RM8RVSZSQP1tgt9H6lNAcVnMNBXBU0B42MQQn/NSQKKu9JmKOVNAMsWqYnveUkDeSvPBZgdOQIZ9ZR35I1NAjZTO9nD/UkC9Yoh0XEJRQBAoIDMRflFAQcipeTn+UUD1HsuGutVRQM2gkHDv91FAmFbcWXcCU0AOfwbEclBTQNiAUHSRI1FAj2bhxNU7UkDwV3rKZgRSQBsBsbQ2cVRAjNLa7+dAVEBJST18h4tTQLrdgH6OGlFABMppZYgzUUA72GnLrqtSQIneQdGT0VRAG3oRkev2VEB1pjkB8CVUQHjSJNHbGlVAtc/l/fofV0CLoeR1hFpWQEkNKJ0bVFZAD5kszI7KUUDm4cBhsLlSQLMNOeMP9FRA5VOkBej8VECsh7bOGjJWQBiZXfhZBldANuUQHWsaV0CDLFYInLBVQA==",
          "dtype": "f8"
         }
        },
        {
         "line": {
          "width": 1
         },
         "mode": "lines",
         "name": "2020",
         "showlegend": true,
         "type": "scatter",
         "x": {
          "bdata": "AQACAAMABAAFAAYABwAIAAkACgALAAwADQAOAA8AEAARABIAEwAUABUAFgAXABgAGQAaABsAHAAdAB4AHwAgACEAIgAjACQAJQAmACcAKAApACoAKwAsAC0ALgAvADAAMQAyADMANAA1ADYANwA4ADkAOgA7ADwAPQA+AD8AQABBAEIAQwBEAEUARgBHAEgASQBKAEsATABNAE4ATwBQAFEAUgBTAFQAVQBWAFcAWABZAFoAWwBcAF0AXgBfAGAAYQBiAGMAZABlAGYAZwBoAGkAagBrAGwAbQBuAG8AcABxAHIAcwB0AHUAdgB3AHgAeQB6AHsAfAB9AH4AfwCAAIEAggCDAIQAhQCGAIcAiACJAIoAiwCMAI0AjgCPAJAAkQCSAJMAlACVAJYAlwCYAJkAmgCbAJwAnQCeAJ8AoAChAKIAowCkAKUApgCnAKgAqQCqAKsArACtAK4ArwCwALEAsgCzALQAtQC2ALcAuAC5ALoAuwC8AL0AvgC/AMAAwQDCAMMAxADFAMYAxwDIAMkAygDLAMwAzQDOAM8A0ADRANIA0wDUANUA1gDXANgA2QDaANsA3ADdAN4A3wDgAOEA4gDjAOQA5QDmAOcA6ADpAOoA6wDsAO0A7gDvAPAA8QDyAPMA9AD1APYA9wD4APkA+gD7APwA/QD+AP8AAAEBAQIBAwEEAQUBBgEHAQgBCQEKAQsBDAENAQ4BDwEQAREBEgETARQBFQEWARcBGAEZARoBGwEcAR0BHgEfASABIQEiASMBJAElASYBJwEoASkBKgErASwBLQEuAS8BMAExATIBMwE0ATUBNgE3ATgBOQE6ATsBPAE9AT4BPwFAAUEBQgFDAUQBRQFGAUcBSAFJAUoBSwFMAU0BTgFPAVABUQFSAVMBVAFVAVYBVwFYAVkBWgFbAVwBXQFeAV8BYAFhAWIBYwFkAWUBZgFnAWgBaQFqAWsBbAFtAQ==",
          "dtype": "i2"
         },
         "y": {
          "bdata": "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",
          "dtype": "f8"
         }
        },
        {
         "line": {
          "color": "black",
          "width": 3
         },
         "mode": "lines",
         "name": "Climatology",
         "type": "scatter",
         "x": {
          "bdata": "AQACAAMABAAFAAYABwAIAAkACgALAAwADQAOAA8AEAARABIAEwAUABUAFgAXABgAGQAaABsAHAAdAB4AHwAgACEAIgAjACQAJQAmACcAKAApACoAKwAsAC0ALgAvADAAMQAyADMANAA1ADYANwA4ADkAOgA7ADwAPQA+AD8AQABBAEIAQwBEAEUARgBHAEgASQBKAEsATABNAE4ATwBQAFEAUgBTAFQAVQBWAFcAWABZAFoAWwBcAF0AXgBfAGAAYQBiAGMAZABlAGYAZwBoAGkAagBrAGwAbQBuAG8AcABxAHIAcwB0AHUAdgB3AHgAeQB6AHsAfAB9AH4AfwCAAIEAggCDAIQAhQCGAIcAiACJAIoAiwCMAI0AjgCPAJAAkQCSAJMAlACVAJYAlwCYAJkAmgCbAJwAnQCeAJ8AoAChAKIAowCkAKUApgCnAKgAqQCqAKsArACtAK4ArwCwALEAsgCzALQAtQC2ALcAuAC5ALoAuwC8AL0AvgC/AMAAwQDCAMMAxADFAMYAxwDIAMkAygDLAMwAzQDOAM8A0ADRANIA0wDUANUA1gDXANgA2QDaANsA3ADdAN4A3wDgAOEA4gDjAOQA5QDmAOcA6ADpAOoA6wDsAO0A7gDvAPAA8QDyAPMA9AD1APYA9wD4APkA+gD7APwA/QD+AP8AAAEBAQIBAwEEAQUBBgEHAQgBCQEKAQsBDAENAQ4BDwEQAREBEgETARQBFQEWARcBGAEZARoBGwEcAR0BHgEfASABIQEiASMBJAElASYBJwEoASkBKgErASwBLQEuAS8BMAExATIBMwE0ATUBNgE3ATgBOQE6ATsBPAE9AT4BPwFAAUEBQgFDAUQBRQFGAUcBSAFJAUoBSwFMAU0BTgFPAVABUQFSAVMBVAFVAVYBVwFYAVkBWgFbAVwBXQFeAV8BYAFhAWIBYwFkAWUBZgFnAWgBaQFqAWsBbAFtAQ==",
          "dtype": "i2"
         },
         "y": {
          "bdata": "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",
          "dtype": "f8"
         }
        },
        {
         "line": {
          "color": "gray",
          "width": 2
         },
         "mode": "lines",
         "name": "Median",
         "type": "scatter",
         "x": {
          "bdata": "AQACAAMABAAFAAYABwAIAAkACgALAAwADQAOAA8AEAARABIAEwAUABUAFgAXABgAGQAaABsAHAAdAB4AHwAgACEAIgAjACQAJQAmACcAKAApACoAKwAsAC0ALgAvADAAMQAyADMANAA1ADYANwA4ADkAOgA7ADwAPQA+AD8AQABBAEIAQwBEAEUARgBHAEgASQBKAEsATABNAE4ATwBQAFEAUgBTAFQAVQBWAFcAWABZAFoAWwBcAF0AXgBfAGAAYQBiAGMAZABlAGYAZwBoAGkAagBrAGwAbQBuAG8AcABxAHIAcwB0AHUAdgB3AHgAeQB6AHsAfAB9AH4AfwCAAIEAggCDAIQAhQCGAIcAiACJAIoAiwCMAI0AjgCPAJAAkQCSAJMAlACVAJYAlwCYAJkAmgCbAJwAnQCeAJ8AoAChAKIAowCkAKUApgCnAKgAqQCqAKsArACtAK4ArwCwALEAsgCzALQAtQC2ALcAuAC5ALoAuwC8AL0AvgC/AMAAwQDCAMMAxADFAMYAxwDIAMkAygDLAMwAzQDOAM8A0ADRANIA0wDUANUA1gDXANgA2QDaANsA3ADdAN4A3wDgAOEA4gDjAOQA5QDmAOcA6ADpAOoA6wDsAO0A7gDvAPAA8QDyAPMA9AD1APYA9wD4APkA+gD7APwA/QD+AP8AAAEBAQIBAwEEAQUBBgEHAQgBCQEKAQsBDAENAQ4BDwEQAREBEgETARQBFQEWARcBGAEZARoBGwEcAR0BHgEfASABIQEiASMBJAElASYBJwEoASkBKgErASwBLQEuAS8BMAExATIBMwE0ATUBNgE3ATgBOQE6ATsBPAE9AT4BPwFAAUEBQgFDAUQBRQFGAUcBSAFJAUoBSwFMAU0BTgFPAVABUQFSAVMBVAFVAVYBVwFYAVkBWgFbAVwBXQFeAV8BYAFhAWIBYwFkAWUBZgFnAWgBaQFqAWsBbAFtAQ==",
          "dtype": "i2"
         },
         "y": {
          "bdata": "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",
          "dtype": "f8"
         }
        }
       ],
       "layout": {
        "template": {
         "data": {
          "bar": [
           {
            "error_x": {
             "color": "#2a3f5f"
            },
            "error_y": {
             "color": "#2a3f5f"
            },
            "marker": {
             "line": {
              "color": "white",
              "width": 0.5
             },
             "pattern": {
              "fillmode": "overlay",
              "size": 10,
              "solidity": 0.2
             }
            },
            "type": "bar"
           }
          ],
          "barpolar": [
           {
            "marker": {
             "line": {
              "color": "white",
              "width": 0.5
             },
             "pattern": {
              "fillmode": "overlay",
              "size": 10,
              "solidity": 0.2
             }
            },
            "type": "barpolar"
           }
          ],
          "carpet": [
           {
            "aaxis": {
             "endlinecolor": "#2a3f5f",
             "gridcolor": "#C8D4E3",
             "linecolor": "#C8D4E3",
             "minorgridcolor": "#C8D4E3",
             "startlinecolor": "#2a3f5f"
            },
            "baxis": {
             "endlinecolor": "#2a3f5f",
             "gridcolor": "#C8D4E3",
             "linecolor": "#C8D4E3",
             "minorgridcolor": "#C8D4E3",
             "startlinecolor": "#2a3f5f"
            },
            "type": "carpet"
           }
          ],
          "choropleth": [
           {
            "colorbar": {
             "outlinewidth": 0,
             "ticks": ""
            },
            "type": "choropleth"
           }
          ],
          "contour": [
           {
            "colorbar": {
             "outlinewidth": 0,
             "ticks": ""
            },
            "colorscale": [
             [
              0,
              "#0d0887"
             ],
             [
              0.1111111111111111,
              "#46039f"
             ],
             [
              0.2222222222222222,
              "#7201a8"
             ],
             [
              0.3333333333333333,
              "#9c179e"
             ],
             [
              0.4444444444444444,
              "#bd3786"
             ],
             [
              0.5555555555555556,
              "#d8576b"
             ],
             [
              0.6666666666666666,
              "#ed7953"
             ],
             [
              0.7777777777777778,
              "#fb9f3a"
             ],
             [
              0.8888888888888888,
              "#fdca26"
             ],
             [
              1,
              "#f0f921"
             ]
            ],
            "type": "contour"
           }
          ],
          "contourcarpet": [
           {
            "colorbar": {
             "outlinewidth": 0,
             "ticks": ""
            },
            "type": "contourcarpet"
           }
          ],
          "heatmap": [
           {
            "colorbar": {
             "outlinewidth": 0,
             "ticks": ""
            },
            "colorscale": [
             [
              0,
              "#0d0887"
             ],
             [
              0.1111111111111111,
              "#46039f"
             ],
             [
              0.2222222222222222,
              "#7201a8"
             ],
             [
              0.3333333333333333,
              "#9c179e"
             ],
             [
              0.4444444444444444,
              "#bd3786"
             ],
             [
              0.5555555555555556,
              "#d8576b"
             ],
             [
              0.6666666666666666,
              "#ed7953"
             ],
             [
              0.7777777777777778,
              "#fb9f3a"
             ],
             [
              0.8888888888888888,
              "#fdca26"
             ],
             [
              1,
              "#f0f921"
             ]
            ],
            "type": "heatmap"
           }
          ],
          "histogram": [
           {
            "marker": {
             "pattern": {
              "fillmode": "overlay",
              "size": 10,
              "solidity": 0.2
             }
            },
            "type": "histogram"
           }
          ],
          "histogram2d": [
           {
            "colorbar": {
             "outlinewidth": 0,
             "ticks": ""
            },
            "colorscale": [
             [
              0,
              "#0d0887"
             ],
             [
              0.1111111111111111,
              "#46039f"
             ],
             [
              0.2222222222222222,
              "#7201a8"
             ],
             [
              0.3333333333333333,
              "#9c179e"
             ],
             [
              0.4444444444444444,
              "#bd3786"
             ],
             [
              0.5555555555555556,
              "#d8576b"
             ],
             [
              0.6666666666666666,
              "#ed7953"
             ],
             [
              0.7777777777777778,
              "#fb9f3a"
             ],
             [
              0.8888888888888888,
              "#fdca26"
             ],
             [
              1,
              "#f0f921"
             ]
            ],
            "type": "histogram2d"
           }
          ],
          "histogram2dcontour": [
           {
            "colorbar": {
             "outlinewidth": 0,
             "ticks": ""
            },
            "colorscale": [
             [
              0,
              "#0d0887"
             ],
             [
              0.1111111111111111,
              "#46039f"
             ],
             [
              0.2222222222222222,
              "#7201a8"
             ],
             [
              0.3333333333333333,
              "#9c179e"
             ],
             [
              0.4444444444444444,
              "#bd3786"
             ],
             [
              0.5555555555555556,
              "#d8576b"
             ],
             [
              0.6666666666666666,
              "#ed7953"
             ],
             [
              0.7777777777777778,
              "#fb9f3a"
             ],
             [
              0.8888888888888888,
              "#fdca26"
             ],
             [
              1,
              "#f0f921"
             ]
            ],
            "type": "histogram2dcontour"
           }
          ],
          "mesh3d": [
           {
            "colorbar": {
             "outlinewidth": 0,
             "ticks": ""
            },
            "type": "mesh3d"
           }
          ],
          "parcoords": [
           {
            "line": {
             "colorbar": {
              "outlinewidth": 0,
              "ticks": ""
             }
            },
            "type": "parcoords"
           }
          ],
          "pie": [
           {
            "automargin": true,
            "type": "pie"
           }
          ],
          "scatter": [
           {
            "fillpattern": {
             "fillmode": "overlay",
             "size": 10,
             "solidity": 0.2
            },
            "type": "scatter"
           }
          ],
          "scatter3d": [
           {
            "line": {
             "colorbar": {
              "outlinewidth": 0,
              "ticks": ""
             }
            },
            "marker": {
             "colorbar": {
              "outlinewidth": 0,
              "ticks": ""
             }
            },
            "type": "scatter3d"
           }
          ],
          "scattercarpet": [
           {
            "marker": {
             "colorbar": {
              "outlinewidth": 0,
              "ticks": ""
             }
            },
            "type": "scattercarpet"
           }
          ],
          "scattergeo": [
           {
            "marker": {
             "colorbar": {
              "outlinewidth": 0,
              "ticks": ""
             }
            },
            "type": "scattergeo"
           }
          ],
          "scattergl": [
           {
            "marker": {
             "colorbar": {
              "outlinewidth": 0,
              "ticks": ""
             }
            },
            "type": "scattergl"
           }
          ],
          "scattermap": [
           {
            "marker": {
             "colorbar": {
              "outlinewidth": 0,
              "ticks": ""
             }
            },
            "type": "scattermap"
           }
          ],
          "scattermapbox": [
           {
            "marker": {
             "colorbar": {
              "outlinewidth": 0,
              "ticks": ""
             }
            },
            "type": "scattermapbox"
           }
          ],
          "scatterpolar": [
           {
            "marker": {
             "colorbar": {
              "outlinewidth": 0,
              "ticks": ""
             }
            },
            "type": "scatterpolar"
           }
          ],
          "scatterpolargl": [
           {
            "marker": {
             "colorbar": {
              "outlinewidth": 0,
              "ticks": ""
             }
            },
            "type": "scatterpolargl"
           }
          ],
          "scatterternary": [
           {
            "marker": {
             "colorbar": {
              "outlinewidth": 0,
              "ticks": ""
             }
            },
            "type": "scatterternary"
           }
          ],
          "surface": [
           {
            "colorbar": {
             "outlinewidth": 0,
             "ticks": ""
            },
            "colorscale": [
             [
              0,
              "#0d0887"
             ],
             [
              0.1111111111111111,
              "#46039f"
             ],
             [
              0.2222222222222222,
              "#7201a8"
             ],
             [
              0.3333333333333333,
              "#9c179e"
             ],
             [
              0.4444444444444444,
              "#bd3786"
             ],
             [
              0.5555555555555556,
              "#d8576b"
             ],
             [
              0.6666666666666666,
              "#ed7953"
             ],
             [
              0.7777777777777778,
              "#fb9f3a"
             ],
             [
              0.8888888888888888,
              "#fdca26"
             ],
             [
              1,
              "#f0f921"
             ]
            ],
            "type": "surface"
           }
          ],
          "table": [
           {
            "cells": {
             "fill": {
              "color": "#EBF0F8"
             },
             "line": {
              "color": "white"
             }
            },
            "header": {
             "fill": {
              "color": "#C8D4E3"
             },
             "line": {
              "color": "white"
             }
            },
            "type": "table"
           }
          ]
         },
         "layout": {
          "annotationdefaults": {
           "arrowcolor": "#2a3f5f",
           "arrowhead": 0,
           "arrowwidth": 1
          },
          "autotypenumbers": "strict",
          "coloraxis": {
           "colorbar": {
            "outlinewidth": 0,
            "ticks": ""
           }
          },
          "colorscale": {
           "diverging": [
            [
             0,
             "#8e0152"
            ],
            [
             0.1,
             "#c51b7d"
            ],
            [
             0.2,
             "#de77ae"
            ],
            [
             0.3,
             "#f1b6da"
            ],
            [
             0.4,
             "#fde0ef"
            ],
            [
             0.5,
             "#f7f7f7"
            ],
            [
             0.6,
             "#e6f5d0"
            ],
            [
             0.7,
             "#b8e186"
            ],
            [
             0.8,
             "#7fbc41"
            ],
            [
             0.9,
             "#4d9221"
            ],
            [
             1,
             "#276419"
            ]
           ],
           "sequential": [
            [
             0,
             "#0d0887"
            ],
            [
             0.1111111111111111,
             "#46039f"
            ],
            [
             0.2222222222222222,
             "#7201a8"
            ],
            [
             0.3333333333333333,
             "#9c179e"
            ],
            [
             0.4444444444444444,
             "#bd3786"
            ],
            [
             0.5555555555555556,
             "#d8576b"
            ],
            [
             0.6666666666666666,
             "#ed7953"
            ],
            [
             0.7777777777777778,
             "#fb9f3a"
            ],
            [
             0.8888888888888888,
             "#fdca26"
            ],
            [
             1,
             "#f0f921"
            ]
           ],
           "sequentialminus": [
            [
             0,
             "#0d0887"
            ],
            [
             0.1111111111111111,
             "#46039f"
            ],
            [
             0.2222222222222222,
             "#7201a8"
            ],
            [
             0.3333333333333333,
             "#9c179e"
            ],
            [
             0.4444444444444444,
             "#bd3786"
            ],
            [
             0.5555555555555556,
             "#d8576b"
            ],
            [
             0.6666666666666666,
             "#ed7953"
            ],
            [
             0.7777777777777778,
             "#fb9f3a"
            ],
            [
             0.8888888888888888,
             "#fdca26"
            ],
            [
             1,
             "#f0f921"
            ]
           ]
          },
          "colorway": [
           "#636efa",
           "#EF553B",
           "#00cc96",
           "#ab63fa",
           "#FFA15A",
           "#19d3f3",
           "#FF6692",
           "#B6E880",
           "#FF97FF",
           "#FECB52"
          ],
          "font": {
           "color": "#2a3f5f"
          },
          "geo": {
           "bgcolor": "white",
           "lakecolor": "white",
           "landcolor": "white",
           "showlakes": true,
           "showland": true,
           "subunitcolor": "#C8D4E3"
          },
          "hoverlabel": {
           "align": "left"
          },
          "hovermode": "closest",
          "mapbox": {
           "style": "light"
          },
          "paper_bgcolor": "white",
          "plot_bgcolor": "white",
          "polar": {
           "angularaxis": {
            "gridcolor": "#EBF0F8",
            "linecolor": "#EBF0F8",
            "ticks": ""
           },
           "bgcolor": "white",
           "radialaxis": {
            "gridcolor": "#EBF0F8",
            "linecolor": "#EBF0F8",
            "ticks": ""
           }
          },
          "scene": {
           "xaxis": {
            "backgroundcolor": "white",
            "gridcolor": "#DFE8F3",
            "gridwidth": 2,
            "linecolor": "#EBF0F8",
            "showbackground": true,
            "ticks": "",
            "zerolinecolor": "#EBF0F8"
           },
           "yaxis": {
            "backgroundcolor": "white",
            "gridcolor": "#DFE8F3",
            "gridwidth": 2,
            "linecolor": "#EBF0F8",
            "showbackground": true,
            "ticks": "",
            "zerolinecolor": "#EBF0F8"
           },
           "zaxis": {
            "backgroundcolor": "white",
            "gridcolor": "#DFE8F3",
            "gridwidth": 2,
            "linecolor": "#EBF0F8",
            "showbackground": true,
            "ticks": "",
            "zerolinecolor": "#EBF0F8"
           }
          },
          "shapedefaults": {
           "line": {
            "color": "#2a3f5f"
           }
          },
          "ternary": {
           "aaxis": {
            "gridcolor": "#DFE8F3",
            "linecolor": "#A2B1C6",
            "ticks": ""
           },
           "baxis": {
            "gridcolor": "#DFE8F3",
            "linecolor": "#A2B1C6",
            "ticks": ""
           },
           "bgcolor": "white",
           "caxis": {
            "gridcolor": "#DFE8F3",
            "linecolor": "#A2B1C6",
            "ticks": ""
           }
          },
          "title": {
           "x": 0.05
          },
          "xaxis": {
           "automargin": true,
           "gridcolor": "#EBF0F8",
           "linecolor": "#EBF0F8",
           "ticks": "",
           "title": {
            "standoff": 15
           },
           "zerolinecolor": "#EBF0F8",
           "zerolinewidth": 2
          },
          "yaxis": {
           "automargin": true,
           "gridcolor": "#EBF0F8",
           "linecolor": "#EBF0F8",
           "ticks": "",
           "title": {
            "standoff": 15
           },
           "zerolinecolor": "#EBF0F8",
           "zerolinewidth": 2
          }
         }
        },
        "title": {
         "text": "Daily Pelagic Layer Depth Time Series (1998-2020) and Climatology at PAPA"
        },
        "xaxis": {
         "title": {
          "text": "Day of Year"
         }
        },
        "yaxis": {
         "title": {
          "text": "Pelagic Layer Depth (m)"
         }
        }
       }
      }
     },
     "metadata": {},
     "output_type": "display_data"
    }
   ],
   "source": [
    "# Extract pld \n",
    "pld = ds_pld['pelagic_layer_depth']\n",
    "clim_pld = ds_clim_pld['pelagic_layer_depth']\n",
    "\n",
    "# assign day coordinate in pld\n",
    "# Extract MM-DD \n",
    "mmdd = pd.to_datetime(pld.time.values).strftime('%m-%d')\n",
    "# transform MM-DD in indice of day in year (1->365)\n",
    "day_noleap = pd.Series(mmdd).map(mmdd_to_day).values\n",
    "# add coord day\n",
    "pld = pld.assign_coords(day=(\"time\", day_noleap))\n",
    "\n",
    "# for clim \n",
    "day_of_year= np.arange(1,366)\n",
    "clim_pld= clim_pld.assign_coords(day_of_year=(\"day\", day_of_year))\n",
    "\n",
    "#compute median\n",
    "median_pld = pld.groupby('day').median('time')\n",
    "\n",
    "#smooth median \n",
    "# Pad 15 days on each side cyclically\n",
    "pad_width = 15\n",
    "extended = xr.concat(\n",
    "    [median_pld.isel(day=slice(-pad_width, None)),  # wrap end -> beginning\n",
    "     median_pld,\n",
    "     median_pld.isel(day=slice(0, pad_width))],     # wrap beginning -> end\n",
    "    dim='day'\n",
    ")\n",
    "\n",
    "# Fix the 'day' coordinate (but for clarity)\n",
    "extended['day'] = np.arange(-pad_width, 365 + pad_width)\n",
    "\n",
    "# Apply the rolling mean\n",
    "smoothed = extended.rolling(day=30, center=True).mean()\n",
    "\n",
    "# Extract the center part (original days)\n",
    "median_pld_smooth = smoothed.sel(day=slice(1, 365))\n",
    "\n",
    "# Group by year\n",
    "years = pd.DatetimeIndex(pld.time.values).year.unique()\n",
    "\n",
    "fig = go.Figure()\n",
    "\n",
    "# Plot one line per year\n",
    "for year in years:\n",
    "    yearly_data = pld.sel(time=str(year))\n",
    "    fig.add_trace(go.Scatter(\n",
    "        x=yearly_data['day'],\n",
    "        y=yearly_data.values,\n",
    "        mode='lines',\n",
    "        line=dict(width=1),\n",
    "        name=str(year),\n",
    "        showlegend=True \n",
    "    ))\n",
    "\n",
    "# Plot climatology in black, thicker line\n",
    "fig.add_trace(go.Scatter(\n",
    "    x=clim_pld[\"day_of_year\"],\n",
    "    y=clim_pld.values,\n",
    "    mode='lines',\n",
    "    name='Climatology',\n",
    "    line=dict(color='black', width=3)\n",
    "))\n",
    "# Plot median\n",
    "fig.add_trace(go.Scatter(\n",
    "    x=median_pld_smooth.day,\n",
    "    y=median_pld_smooth.values,\n",
    "    mode='lines',\n",
    "    name='Median',\n",
    "    line=dict(color='gray', width=2)\n",
    "))\n",
    "fig.update_layout(\n",
    "    title='Daily Pelagic Layer Depth Time Series (1998-2020) and Climatology at PAPA',\n",
    "    xaxis_title='Day of Year',\n",
    "    yaxis_title='Pelagic Layer Depth (m)',\n",
    "    template='plotly_white'\n",
    ")\n",
    "\n",
    "fig.show()\n"
   ]
  },
  {
   "cell_type": "code",
   "execution_count": 70,
   "id": "0751afbe",
   "metadata": {},
   "outputs": [
    {
     "data": {
      "text/html": [
       "<div><svg style=\"position: absolute; width: 0; height: 0; overflow: hidden\">\n",
       "<defs>\n",
       "<symbol id=\"icon-database\" viewBox=\"0 0 32 32\">\n",
       "<path d=\"M16 0c-8.837 0-16 2.239-16 5v4c0 2.761 7.163 5 16 5s16-2.239 16-5v-4c0-2.761-7.163-5-16-5z\"></path>\n",
       "<path d=\"M16 17c-8.837 0-16-2.239-16-5v6c0 2.761 7.163 5 16 5s16-2.239 16-5v-6c0 2.761-7.163 5-16 5z\"></path>\n",
       "<path d=\"M16 26c-8.837 0-16-2.239-16-5v6c0 2.761 7.163 5 16 5s16-2.239 16-5v-6c0 2.761-7.163 5-16 5z\"></path>\n",
       "</symbol>\n",
       "<symbol id=\"icon-file-text2\" viewBox=\"0 0 32 32\">\n",
       "<path d=\"M28.681 7.159c-0.694-0.947-1.662-2.053-2.724-3.116s-2.169-2.030-3.116-2.724c-1.612-1.182-2.393-1.319-2.841-1.319h-15.5c-1.378 0-2.5 1.121-2.5 2.5v27c0 1.378 1.122 2.5 2.5 2.5h23c1.378 0 2.5-1.122 2.5-2.5v-19.5c0-0.448-0.137-1.23-1.319-2.841zM24.543 5.457c0.959 0.959 1.712 1.825 2.268 2.543h-4.811v-4.811c0.718 0.556 1.584 1.309 2.543 2.268zM28 29.5c0 0.271-0.229 0.5-0.5 0.5h-23c-0.271 0-0.5-0.229-0.5-0.5v-27c0-0.271 0.229-0.5 0.5-0.5 0 0 15.499-0 15.5 0v7c0 0.552 0.448 1 1 1h7v19.5z\"></path>\n",
       "<path d=\"M23 26h-14c-0.552 0-1-0.448-1-1s0.448-1 1-1h14c0.552 0 1 0.448 1 1s-0.448 1-1 1z\"></path>\n",
       "<path d=\"M23 22h-14c-0.552 0-1-0.448-1-1s0.448-1 1-1h14c0.552 0 1 0.448 1 1s-0.448 1-1 1z\"></path>\n",
       "<path d=\"M23 18h-14c-0.552 0-1-0.448-1-1s0.448-1 1-1h14c0.552 0 1 0.448 1 1s-0.448 1-1 1z\"></path>\n",
       "</symbol>\n",
       "</defs>\n",
       "</svg>\n",
       "<style>/* CSS stylesheet for displaying xarray objects in jupyterlab.\n",
       " *\n",
       " */\n",
       "\n",
       ":root {\n",
       "  --xr-font-color0: var(--jp-content-font-color0, rgba(0, 0, 0, 1));\n",
       "  --xr-font-color2: var(--jp-content-font-color2, rgba(0, 0, 0, 0.54));\n",
       "  --xr-font-color3: var(--jp-content-font-color3, rgba(0, 0, 0, 0.38));\n",
       "  --xr-border-color: var(--jp-border-color2, #e0e0e0);\n",
       "  --xr-disabled-color: var(--jp-layout-color3, #bdbdbd);\n",
       "  --xr-background-color: var(--jp-layout-color0, white);\n",
       "  --xr-background-color-row-even: var(--jp-layout-color1, white);\n",
       "  --xr-background-color-row-odd: var(--jp-layout-color2, #eeeeee);\n",
       "}\n",
       "\n",
       "html[theme=\"dark\"],\n",
       "html[data-theme=\"dark\"],\n",
       "body[data-theme=\"dark\"],\n",
       "body.vscode-dark {\n",
       "  --xr-font-color0: rgba(255, 255, 255, 1);\n",
       "  --xr-font-color2: rgba(255, 255, 255, 0.54);\n",
       "  --xr-font-color3: rgba(255, 255, 255, 0.38);\n",
       "  --xr-border-color: #1f1f1f;\n",
       "  --xr-disabled-color: #515151;\n",
       "  --xr-background-color: #111111;\n",
       "  --xr-background-color-row-even: #111111;\n",
       "  --xr-background-color-row-odd: #313131;\n",
       "}\n",
       "\n",
       ".xr-wrap {\n",
       "  display: block !important;\n",
       "  min-width: 300px;\n",
       "  max-width: 700px;\n",
       "}\n",
       "\n",
       ".xr-text-repr-fallback {\n",
       "  /* fallback to plain text repr when CSS is not injected (untrusted notebook) */\n",
       "  display: none;\n",
       "}\n",
       "\n",
       ".xr-header {\n",
       "  padding-top: 6px;\n",
       "  padding-bottom: 6px;\n",
       "  margin-bottom: 4px;\n",
       "  border-bottom: solid 1px var(--xr-border-color);\n",
       "}\n",
       "\n",
       ".xr-header > div,\n",
       ".xr-header > ul {\n",
       "  display: inline;\n",
       "  margin-top: 0;\n",
       "  margin-bottom: 0;\n",
       "}\n",
       "\n",
       ".xr-obj-type,\n",
       ".xr-array-name {\n",
       "  margin-left: 2px;\n",
       "  margin-right: 10px;\n",
       "}\n",
       "\n",
       ".xr-obj-type {\n",
       "  color: var(--xr-font-color2);\n",
       "}\n",
       "\n",
       ".xr-sections {\n",
       "  padding-left: 0 !important;\n",
       "  display: grid;\n",
       "  grid-template-columns: 150px auto auto 1fr 0 20px 0 20px;\n",
       "}\n",
       "\n",
       ".xr-section-item {\n",
       "  display: contents;\n",
       "}\n",
       "\n",
       ".xr-section-item input {\n",
       "  display: inline-block;\n",
       "  opacity: 0;\n",
       "  height: 0;\n",
       "}\n",
       "\n",
       ".xr-section-item input + label {\n",
       "  color: var(--xr-disabled-color);\n",
       "}\n",
       "\n",
       ".xr-section-item input:enabled + label {\n",
       "  cursor: pointer;\n",
       "  color: var(--xr-font-color2);\n",
       "}\n",
       "\n",
       ".xr-section-item input:focus + label {\n",
       "  border: 2px solid var(--xr-font-color0);\n",
       "}\n",
       "\n",
       ".xr-section-item input:enabled + label:hover {\n",
       "  color: var(--xr-font-color0);\n",
       "}\n",
       "\n",
       ".xr-section-summary {\n",
       "  grid-column: 1;\n",
       "  color: var(--xr-font-color2);\n",
       "  font-weight: 500;\n",
       "}\n",
       "\n",
       ".xr-section-summary > span {\n",
       "  display: inline-block;\n",
       "  padding-left: 0.5em;\n",
       "}\n",
       "\n",
       ".xr-section-summary-in:disabled + label {\n",
       "  color: var(--xr-font-color2);\n",
       "}\n",
       "\n",
       ".xr-section-summary-in + label:before {\n",
       "  display: inline-block;\n",
       "  content: \"►\";\n",
       "  font-size: 11px;\n",
       "  width: 15px;\n",
       "  text-align: center;\n",
       "}\n",
       "\n",
       ".xr-section-summary-in:disabled + label:before {\n",
       "  color: var(--xr-disabled-color);\n",
       "}\n",
       "\n",
       ".xr-section-summary-in:checked + label:before {\n",
       "  content: \"▼\";\n",
       "}\n",
       "\n",
       ".xr-section-summary-in:checked + label > span {\n",
       "  display: none;\n",
       "}\n",
       "\n",
       ".xr-section-summary,\n",
       ".xr-section-inline-details {\n",
       "  padding-top: 4px;\n",
       "  padding-bottom: 4px;\n",
       "}\n",
       "\n",
       ".xr-section-inline-details {\n",
       "  grid-column: 2 / -1;\n",
       "}\n",
       "\n",
       ".xr-section-details {\n",
       "  display: none;\n",
       "  grid-column: 1 / -1;\n",
       "  margin-bottom: 5px;\n",
       "}\n",
       "\n",
       ".xr-section-summary-in:checked ~ .xr-section-details {\n",
       "  display: contents;\n",
       "}\n",
       "\n",
       ".xr-array-wrap {\n",
       "  grid-column: 1 / -1;\n",
       "  display: grid;\n",
       "  grid-template-columns: 20px auto;\n",
       "}\n",
       "\n",
       ".xr-array-wrap > label {\n",
       "  grid-column: 1;\n",
       "  vertical-align: top;\n",
       "}\n",
       "\n",
       ".xr-preview {\n",
       "  color: var(--xr-font-color3);\n",
       "}\n",
       "\n",
       ".xr-array-preview,\n",
       ".xr-array-data {\n",
       "  padding: 0 5px !important;\n",
       "  grid-column: 2;\n",
       "}\n",
       "\n",
       ".xr-array-data,\n",
       ".xr-array-in:checked ~ .xr-array-preview {\n",
       "  display: none;\n",
       "}\n",
       "\n",
       ".xr-array-in:checked ~ .xr-array-data,\n",
       ".xr-array-preview {\n",
       "  display: inline-block;\n",
       "}\n",
       "\n",
       ".xr-dim-list {\n",
       "  display: inline-block !important;\n",
       "  list-style: none;\n",
       "  padding: 0 !important;\n",
       "  margin: 0;\n",
       "}\n",
       "\n",
       ".xr-dim-list li {\n",
       "  display: inline-block;\n",
       "  padding: 0;\n",
       "  margin: 0;\n",
       "}\n",
       "\n",
       ".xr-dim-list:before {\n",
       "  content: \"(\";\n",
       "}\n",
       "\n",
       ".xr-dim-list:after {\n",
       "  content: \")\";\n",
       "}\n",
       "\n",
       ".xr-dim-list li:not(:last-child):after {\n",
       "  content: \",\";\n",
       "  padding-right: 5px;\n",
       "}\n",
       "\n",
       ".xr-has-index {\n",
       "  font-weight: bold;\n",
       "}\n",
       "\n",
       ".xr-var-list,\n",
       ".xr-var-item {\n",
       "  display: contents;\n",
       "}\n",
       "\n",
       ".xr-var-item > div,\n",
       ".xr-var-item label,\n",
       ".xr-var-item > .xr-var-name span {\n",
       "  background-color: var(--xr-background-color-row-even);\n",
       "  margin-bottom: 0;\n",
       "}\n",
       "\n",
       ".xr-var-item > .xr-var-name:hover span {\n",
       "  padding-right: 5px;\n",
       "}\n",
       "\n",
       ".xr-var-list > li:nth-child(odd) > div,\n",
       ".xr-var-list > li:nth-child(odd) > label,\n",
       ".xr-var-list > li:nth-child(odd) > .xr-var-name span {\n",
       "  background-color: var(--xr-background-color-row-odd);\n",
       "}\n",
       "\n",
       ".xr-var-name {\n",
       "  grid-column: 1;\n",
       "}\n",
       "\n",
       ".xr-var-dims {\n",
       "  grid-column: 2;\n",
       "}\n",
       "\n",
       ".xr-var-dtype {\n",
       "  grid-column: 3;\n",
       "  text-align: right;\n",
       "  color: var(--xr-font-color2);\n",
       "}\n",
       "\n",
       ".xr-var-preview {\n",
       "  grid-column: 4;\n",
       "}\n",
       "\n",
       ".xr-index-preview {\n",
       "  grid-column: 2 / 5;\n",
       "  color: var(--xr-font-color2);\n",
       "}\n",
       "\n",
       ".xr-var-name,\n",
       ".xr-var-dims,\n",
       ".xr-var-dtype,\n",
       ".xr-preview,\n",
       ".xr-attrs dt {\n",
       "  white-space: nowrap;\n",
       "  overflow: hidden;\n",
       "  text-overflow: ellipsis;\n",
       "  padding-right: 10px;\n",
       "}\n",
       "\n",
       ".xr-var-name:hover,\n",
       ".xr-var-dims:hover,\n",
       ".xr-var-dtype:hover,\n",
       ".xr-attrs dt:hover {\n",
       "  overflow: visible;\n",
       "  width: auto;\n",
       "  z-index: 1;\n",
       "}\n",
       "\n",
       ".xr-var-attrs,\n",
       ".xr-var-data,\n",
       ".xr-index-data {\n",
       "  display: none;\n",
       "  background-color: var(--xr-background-color) !important;\n",
       "  padding-bottom: 5px !important;\n",
       "}\n",
       "\n",
       ".xr-var-attrs-in:checked ~ .xr-var-attrs,\n",
       ".xr-var-data-in:checked ~ .xr-var-data,\n",
       ".xr-index-data-in:checked ~ .xr-index-data {\n",
       "  display: block;\n",
       "}\n",
       "\n",
       ".xr-var-data > table {\n",
       "  float: right;\n",
       "}\n",
       "\n",
       ".xr-var-name span,\n",
       ".xr-var-data,\n",
       ".xr-index-name div,\n",
       ".xr-index-data,\n",
       ".xr-attrs {\n",
       "  padding-left: 25px !important;\n",
       "}\n",
       "\n",
       ".xr-attrs,\n",
       ".xr-var-attrs,\n",
       ".xr-var-data,\n",
       ".xr-index-data {\n",
       "  grid-column: 1 / -1;\n",
       "}\n",
       "\n",
       "dl.xr-attrs {\n",
       "  padding: 0;\n",
       "  margin: 0;\n",
       "  display: grid;\n",
       "  grid-template-columns: 125px auto;\n",
       "}\n",
       "\n",
       ".xr-attrs dt,\n",
       ".xr-attrs dd {\n",
       "  padding: 0;\n",
       "  margin: 0;\n",
       "  float: left;\n",
       "  padding-right: 10px;\n",
       "  width: auto;\n",
       "}\n",
       "\n",
       ".xr-attrs dt {\n",
       "  font-weight: normal;\n",
       "  grid-column: 1;\n",
       "}\n",
       "\n",
       ".xr-attrs dt:hover span {\n",
       "  display: inline-block;\n",
       "  background: var(--xr-background-color);\n",
       "  padding-right: 10px;\n",
       "}\n",
       "\n",
       ".xr-attrs dd {\n",
       "  grid-column: 2;\n",
       "  white-space: pre-wrap;\n",
       "  word-break: break-all;\n",
       "}\n",
       "\n",
       ".xr-icon-database,\n",
       ".xr-icon-file-text2,\n",
       ".xr-no-icon {\n",
       "  display: inline-block;\n",
       "  vertical-align: middle;\n",
       "  width: 1em;\n",
       "  height: 1.5em !important;\n",
       "  stroke-width: 0;\n",
       "  stroke: currentColor;\n",
       "  fill: currentColor;\n",
       "}\n",
       "</style><pre class='xr-text-repr-fallback'>&lt;xarray.DataArray &#x27;pelagic_layer_depth&#x27; ()&gt; Size: 8B\n",
       "array(81.7112306)</pre><div class='xr-wrap' style='display:none'><div class='xr-header'><div class='xr-obj-type'>xarray.DataArray</div><div class='xr-array-name'>'pelagic_layer_depth'</div></div><ul class='xr-sections'><li class='xr-section-item'><div class='xr-array-wrap'><input id='section-dcebde04-5aa9-45f6-a6b6-ca18dc60fb9d' class='xr-array-in' type='checkbox' checked><label for='section-dcebde04-5aa9-45f6-a6b6-ca18dc60fb9d' title='Show/hide data repr'><svg class='icon xr-icon-database'><use xlink:href='#icon-database'></use></svg></label><div class='xr-array-preview xr-preview'><span>81.71</span></div><div class='xr-array-data'><pre>array(81.7112306)</pre></div></div></li><li class='xr-section-item'><input id='section-f6f013ec-3482-4f35-a887-7147d48c8c2c' class='xr-section-summary-in' type='checkbox' disabled ><label for='section-f6f013ec-3482-4f35-a887-7147d48c8c2c' class='xr-section-summary'  title='Expand/collapse section'>Coordinates: <span>(0)</span></label><div class='xr-section-inline-details'></div><div class='xr-section-details'><ul class='xr-var-list'></ul></div></li><li class='xr-section-item'><input id='section-abc2bcd8-cee4-4bfa-92c0-35b856498ed4' class='xr-section-summary-in' type='checkbox' disabled ><label for='section-abc2bcd8-cee4-4bfa-92c0-35b856498ed4' class='xr-section-summary'  title='Expand/collapse section'>Indexes: <span>(0)</span></label><div class='xr-section-inline-details'></div><div class='xr-section-details'><ul class='xr-var-list'></ul></div></li><li class='xr-section-item'><input id='section-11f56e87-e0a2-4add-9c2c-9a2acda2af53' class='xr-section-summary-in' type='checkbox' disabled ><label for='section-11f56e87-e0a2-4add-9c2c-9a2acda2af53' class='xr-section-summary'  title='Expand/collapse section'>Attributes: <span>(0)</span></label><div class='xr-section-inline-details'></div><div class='xr-section-details'><dl class='xr-attrs'></dl></div></li></ul></div></div>"
      ],
      "text/plain": [
       "<xarray.DataArray 'pelagic_layer_depth' ()> Size: 8B\n",
       "array(81.7112306)"
      ]
     },
     "execution_count": 70,
     "metadata": {},
     "output_type": "execute_result"
    }
   ],
   "source": [
    "pld.mean()"
   ]
  },
  {
   "cell_type": "markdown",
   "id": "e5287f80",
   "metadata": {},
   "source": [
    "<div style=\"padding: 10px; border-radius: 5px; background-color: #cce5ff; color: #004085; border-left: 5px solid #007bff;\">\n",
    "    <strong>Note :</strong> The median don't smooth the climatology : keeping the mean seems better.\n",
    "</div>"
   ]
  },
  {
   "cell_type": "markdown",
   "id": "025f07b7",
   "metadata": {},
   "source": [
    "## Primary Productivity climatology"
   ]
  },
  {
   "cell_type": "code",
   "execution_count": 59,
   "id": "240b25cf",
   "metadata": {},
   "outputs": [],
   "source": [
    "path_pp=\"/data/rd_exchange/sroyer/SEAPOPYM/daily_pp_papa_1998_2020.nc\"\n",
    "ds_pp = xr.open_dataset(path_pp,engine='netcdf4')\n",
    "path_clim_pp=\"/data/rd_exchange/sroyer/SEAPOPYM/daily_clim_pp_papa_1998_2020.nc\"\n",
    "ds_clim_pp = xr.open_dataset(path_clim_pp,engine='netcdf4')"
   ]
  },
  {
   "cell_type": "code",
   "execution_count": 60,
   "id": "48adf9da",
   "metadata": {},
   "outputs": [
    {
     "data": {
      "text/html": [
       "<div><svg style=\"position: absolute; width: 0; height: 0; overflow: hidden\">\n",
       "<defs>\n",
       "<symbol id=\"icon-database\" viewBox=\"0 0 32 32\">\n",
       "<path d=\"M16 0c-8.837 0-16 2.239-16 5v4c0 2.761 7.163 5 16 5s16-2.239 16-5v-4c0-2.761-7.163-5-16-5z\"></path>\n",
       "<path d=\"M16 17c-8.837 0-16-2.239-16-5v6c0 2.761 7.163 5 16 5s16-2.239 16-5v-6c0 2.761-7.163 5-16 5z\"></path>\n",
       "<path d=\"M16 26c-8.837 0-16-2.239-16-5v6c0 2.761 7.163 5 16 5s16-2.239 16-5v-6c0 2.761-7.163 5-16 5z\"></path>\n",
       "</symbol>\n",
       "<symbol id=\"icon-file-text2\" viewBox=\"0 0 32 32\">\n",
       "<path d=\"M28.681 7.159c-0.694-0.947-1.662-2.053-2.724-3.116s-2.169-2.030-3.116-2.724c-1.612-1.182-2.393-1.319-2.841-1.319h-15.5c-1.378 0-2.5 1.121-2.5 2.5v27c0 1.378 1.122 2.5 2.5 2.5h23c1.378 0 2.5-1.122 2.5-2.5v-19.5c0-0.448-0.137-1.23-1.319-2.841zM24.543 5.457c0.959 0.959 1.712 1.825 2.268 2.543h-4.811v-4.811c0.718 0.556 1.584 1.309 2.543 2.268zM28 29.5c0 0.271-0.229 0.5-0.5 0.5h-23c-0.271 0-0.5-0.229-0.5-0.5v-27c0-0.271 0.229-0.5 0.5-0.5 0 0 15.499-0 15.5 0v7c0 0.552 0.448 1 1 1h7v19.5z\"></path>\n",
       "<path d=\"M23 26h-14c-0.552 0-1-0.448-1-1s0.448-1 1-1h14c0.552 0 1 0.448 1 1s-0.448 1-1 1z\"></path>\n",
       "<path d=\"M23 22h-14c-0.552 0-1-0.448-1-1s0.448-1 1-1h14c0.552 0 1 0.448 1 1s-0.448 1-1 1z\"></path>\n",
       "<path d=\"M23 18h-14c-0.552 0-1-0.448-1-1s0.448-1 1-1h14c0.552 0 1 0.448 1 1s-0.448 1-1 1z\"></path>\n",
       "</symbol>\n",
       "</defs>\n",
       "</svg>\n",
       "<style>/* CSS stylesheet for displaying xarray objects in jupyterlab.\n",
       " *\n",
       " */\n",
       "\n",
       ":root {\n",
       "  --xr-font-color0: var(--jp-content-font-color0, rgba(0, 0, 0, 1));\n",
       "  --xr-font-color2: var(--jp-content-font-color2, rgba(0, 0, 0, 0.54));\n",
       "  --xr-font-color3: var(--jp-content-font-color3, rgba(0, 0, 0, 0.38));\n",
       "  --xr-border-color: var(--jp-border-color2, #e0e0e0);\n",
       "  --xr-disabled-color: var(--jp-layout-color3, #bdbdbd);\n",
       "  --xr-background-color: var(--jp-layout-color0, white);\n",
       "  --xr-background-color-row-even: var(--jp-layout-color1, white);\n",
       "  --xr-background-color-row-odd: var(--jp-layout-color2, #eeeeee);\n",
       "}\n",
       "\n",
       "html[theme=\"dark\"],\n",
       "html[data-theme=\"dark\"],\n",
       "body[data-theme=\"dark\"],\n",
       "body.vscode-dark {\n",
       "  --xr-font-color0: rgba(255, 255, 255, 1);\n",
       "  --xr-font-color2: rgba(255, 255, 255, 0.54);\n",
       "  --xr-font-color3: rgba(255, 255, 255, 0.38);\n",
       "  --xr-border-color: #1f1f1f;\n",
       "  --xr-disabled-color: #515151;\n",
       "  --xr-background-color: #111111;\n",
       "  --xr-background-color-row-even: #111111;\n",
       "  --xr-background-color-row-odd: #313131;\n",
       "}\n",
       "\n",
       ".xr-wrap {\n",
       "  display: block !important;\n",
       "  min-width: 300px;\n",
       "  max-width: 700px;\n",
       "}\n",
       "\n",
       ".xr-text-repr-fallback {\n",
       "  /* fallback to plain text repr when CSS is not injected (untrusted notebook) */\n",
       "  display: none;\n",
       "}\n",
       "\n",
       ".xr-header {\n",
       "  padding-top: 6px;\n",
       "  padding-bottom: 6px;\n",
       "  margin-bottom: 4px;\n",
       "  border-bottom: solid 1px var(--xr-border-color);\n",
       "}\n",
       "\n",
       ".xr-header > div,\n",
       ".xr-header > ul {\n",
       "  display: inline;\n",
       "  margin-top: 0;\n",
       "  margin-bottom: 0;\n",
       "}\n",
       "\n",
       ".xr-obj-type,\n",
       ".xr-array-name {\n",
       "  margin-left: 2px;\n",
       "  margin-right: 10px;\n",
       "}\n",
       "\n",
       ".xr-obj-type {\n",
       "  color: var(--xr-font-color2);\n",
       "}\n",
       "\n",
       ".xr-sections {\n",
       "  padding-left: 0 !important;\n",
       "  display: grid;\n",
       "  grid-template-columns: 150px auto auto 1fr 0 20px 0 20px;\n",
       "}\n",
       "\n",
       ".xr-section-item {\n",
       "  display: contents;\n",
       "}\n",
       "\n",
       ".xr-section-item input {\n",
       "  display: inline-block;\n",
       "  opacity: 0;\n",
       "  height: 0;\n",
       "}\n",
       "\n",
       ".xr-section-item input + label {\n",
       "  color: var(--xr-disabled-color);\n",
       "}\n",
       "\n",
       ".xr-section-item input:enabled + label {\n",
       "  cursor: pointer;\n",
       "  color: var(--xr-font-color2);\n",
       "}\n",
       "\n",
       ".xr-section-item input:focus + label {\n",
       "  border: 2px solid var(--xr-font-color0);\n",
       "}\n",
       "\n",
       ".xr-section-item input:enabled + label:hover {\n",
       "  color: var(--xr-font-color0);\n",
       "}\n",
       "\n",
       ".xr-section-summary {\n",
       "  grid-column: 1;\n",
       "  color: var(--xr-font-color2);\n",
       "  font-weight: 500;\n",
       "}\n",
       "\n",
       ".xr-section-summary > span {\n",
       "  display: inline-block;\n",
       "  padding-left: 0.5em;\n",
       "}\n",
       "\n",
       ".xr-section-summary-in:disabled + label {\n",
       "  color: var(--xr-font-color2);\n",
       "}\n",
       "\n",
       ".xr-section-summary-in + label:before {\n",
       "  display: inline-block;\n",
       "  content: \"►\";\n",
       "  font-size: 11px;\n",
       "  width: 15px;\n",
       "  text-align: center;\n",
       "}\n",
       "\n",
       ".xr-section-summary-in:disabled + label:before {\n",
       "  color: var(--xr-disabled-color);\n",
       "}\n",
       "\n",
       ".xr-section-summary-in:checked + label:before {\n",
       "  content: \"▼\";\n",
       "}\n",
       "\n",
       ".xr-section-summary-in:checked + label > span {\n",
       "  display: none;\n",
       "}\n",
       "\n",
       ".xr-section-summary,\n",
       ".xr-section-inline-details {\n",
       "  padding-top: 4px;\n",
       "  padding-bottom: 4px;\n",
       "}\n",
       "\n",
       ".xr-section-inline-details {\n",
       "  grid-column: 2 / -1;\n",
       "}\n",
       "\n",
       ".xr-section-details {\n",
       "  display: none;\n",
       "  grid-column: 1 / -1;\n",
       "  margin-bottom: 5px;\n",
       "}\n",
       "\n",
       ".xr-section-summary-in:checked ~ .xr-section-details {\n",
       "  display: contents;\n",
       "}\n",
       "\n",
       ".xr-array-wrap {\n",
       "  grid-column: 1 / -1;\n",
       "  display: grid;\n",
       "  grid-template-columns: 20px auto;\n",
       "}\n",
       "\n",
       ".xr-array-wrap > label {\n",
       "  grid-column: 1;\n",
       "  vertical-align: top;\n",
       "}\n",
       "\n",
       ".xr-preview {\n",
       "  color: var(--xr-font-color3);\n",
       "}\n",
       "\n",
       ".xr-array-preview,\n",
       ".xr-array-data {\n",
       "  padding: 0 5px !important;\n",
       "  grid-column: 2;\n",
       "}\n",
       "\n",
       ".xr-array-data,\n",
       ".xr-array-in:checked ~ .xr-array-preview {\n",
       "  display: none;\n",
       "}\n",
       "\n",
       ".xr-array-in:checked ~ .xr-array-data,\n",
       ".xr-array-preview {\n",
       "  display: inline-block;\n",
       "}\n",
       "\n",
       ".xr-dim-list {\n",
       "  display: inline-block !important;\n",
       "  list-style: none;\n",
       "  padding: 0 !important;\n",
       "  margin: 0;\n",
       "}\n",
       "\n",
       ".xr-dim-list li {\n",
       "  display: inline-block;\n",
       "  padding: 0;\n",
       "  margin: 0;\n",
       "}\n",
       "\n",
       ".xr-dim-list:before {\n",
       "  content: \"(\";\n",
       "}\n",
       "\n",
       ".xr-dim-list:after {\n",
       "  content: \")\";\n",
       "}\n",
       "\n",
       ".xr-dim-list li:not(:last-child):after {\n",
       "  content: \",\";\n",
       "  padding-right: 5px;\n",
       "}\n",
       "\n",
       ".xr-has-index {\n",
       "  font-weight: bold;\n",
       "}\n",
       "\n",
       ".xr-var-list,\n",
       ".xr-var-item {\n",
       "  display: contents;\n",
       "}\n",
       "\n",
       ".xr-var-item > div,\n",
       ".xr-var-item label,\n",
       ".xr-var-item > .xr-var-name span {\n",
       "  background-color: var(--xr-background-color-row-even);\n",
       "  margin-bottom: 0;\n",
       "}\n",
       "\n",
       ".xr-var-item > .xr-var-name:hover span {\n",
       "  padding-right: 5px;\n",
       "}\n",
       "\n",
       ".xr-var-list > li:nth-child(odd) > div,\n",
       ".xr-var-list > li:nth-child(odd) > label,\n",
       ".xr-var-list > li:nth-child(odd) > .xr-var-name span {\n",
       "  background-color: var(--xr-background-color-row-odd);\n",
       "}\n",
       "\n",
       ".xr-var-name {\n",
       "  grid-column: 1;\n",
       "}\n",
       "\n",
       ".xr-var-dims {\n",
       "  grid-column: 2;\n",
       "}\n",
       "\n",
       ".xr-var-dtype {\n",
       "  grid-column: 3;\n",
       "  text-align: right;\n",
       "  color: var(--xr-font-color2);\n",
       "}\n",
       "\n",
       ".xr-var-preview {\n",
       "  grid-column: 4;\n",
       "}\n",
       "\n",
       ".xr-index-preview {\n",
       "  grid-column: 2 / 5;\n",
       "  color: var(--xr-font-color2);\n",
       "}\n",
       "\n",
       ".xr-var-name,\n",
       ".xr-var-dims,\n",
       ".xr-var-dtype,\n",
       ".xr-preview,\n",
       ".xr-attrs dt {\n",
       "  white-space: nowrap;\n",
       "  overflow: hidden;\n",
       "  text-overflow: ellipsis;\n",
       "  padding-right: 10px;\n",
       "}\n",
       "\n",
       ".xr-var-name:hover,\n",
       ".xr-var-dims:hover,\n",
       ".xr-var-dtype:hover,\n",
       ".xr-attrs dt:hover {\n",
       "  overflow: visible;\n",
       "  width: auto;\n",
       "  z-index: 1;\n",
       "}\n",
       "\n",
       ".xr-var-attrs,\n",
       ".xr-var-data,\n",
       ".xr-index-data {\n",
       "  display: none;\n",
       "  background-color: var(--xr-background-color) !important;\n",
       "  padding-bottom: 5px !important;\n",
       "}\n",
       "\n",
       ".xr-var-attrs-in:checked ~ .xr-var-attrs,\n",
       ".xr-var-data-in:checked ~ .xr-var-data,\n",
       ".xr-index-data-in:checked ~ .xr-index-data {\n",
       "  display: block;\n",
       "}\n",
       "\n",
       ".xr-var-data > table {\n",
       "  float: right;\n",
       "}\n",
       "\n",
       ".xr-var-name span,\n",
       ".xr-var-data,\n",
       ".xr-index-name div,\n",
       ".xr-index-data,\n",
       ".xr-attrs {\n",
       "  padding-left: 25px !important;\n",
       "}\n",
       "\n",
       ".xr-attrs,\n",
       ".xr-var-attrs,\n",
       ".xr-var-data,\n",
       ".xr-index-data {\n",
       "  grid-column: 1 / -1;\n",
       "}\n",
       "\n",
       "dl.xr-attrs {\n",
       "  padding: 0;\n",
       "  margin: 0;\n",
       "  display: grid;\n",
       "  grid-template-columns: 125px auto;\n",
       "}\n",
       "\n",
       ".xr-attrs dt,\n",
       ".xr-attrs dd {\n",
       "  padding: 0;\n",
       "  margin: 0;\n",
       "  float: left;\n",
       "  padding-right: 10px;\n",
       "  width: auto;\n",
       "}\n",
       "\n",
       ".xr-attrs dt {\n",
       "  font-weight: normal;\n",
       "  grid-column: 1;\n",
       "}\n",
       "\n",
       ".xr-attrs dt:hover span {\n",
       "  display: inline-block;\n",
       "  background: var(--xr-background-color);\n",
       "  padding-right: 10px;\n",
       "}\n",
       "\n",
       ".xr-attrs dd {\n",
       "  grid-column: 2;\n",
       "  white-space: pre-wrap;\n",
       "  word-break: break-all;\n",
       "}\n",
       "\n",
       ".xr-icon-database,\n",
       ".xr-icon-file-text2,\n",
       ".xr-no-icon {\n",
       "  display: inline-block;\n",
       "  vertical-align: middle;\n",
       "  width: 1em;\n",
       "  height: 1.5em !important;\n",
       "  stroke-width: 0;\n",
       "  stroke: currentColor;\n",
       "  fill: currentColor;\n",
       "}\n",
       "</style><pre class='xr-text-repr-fallback'>&lt;xarray.Dataset&gt; Size: 302kB\n",
       "Dimensions:  (time: 8395)\n",
       "Coordinates:\n",
       "  * time     (time) datetime64[ns] 67kB 1998-01-01T12:00:00 ... 2020-12-31T12...\n",
       "    day      (time) &lt;U5 168kB ...\n",
       "Data variables:\n",
       "    npp      (time) float64 67kB ...</pre><div class='xr-wrap' style='display:none'><div class='xr-header'><div class='xr-obj-type'>xarray.Dataset</div></div><ul class='xr-sections'><li class='xr-section-item'><input id='section-404bd2a3-4340-43ba-b123-f39c5048e163' class='xr-section-summary-in' type='checkbox' disabled ><label for='section-404bd2a3-4340-43ba-b123-f39c5048e163' class='xr-section-summary'  title='Expand/collapse section'>Dimensions:</label><div class='xr-section-inline-details'><ul class='xr-dim-list'><li><span class='xr-has-index'>time</span>: 8395</li></ul></div><div class='xr-section-details'></div></li><li class='xr-section-item'><input id='section-eb75024a-e4be-4a5f-8091-72fe174ab71f' class='xr-section-summary-in' type='checkbox'  checked><label for='section-eb75024a-e4be-4a5f-8091-72fe174ab71f' class='xr-section-summary' >Coordinates: <span>(2)</span></label><div class='xr-section-inline-details'></div><div class='xr-section-details'><ul class='xr-var-list'><li class='xr-var-item'><div class='xr-var-name'><span class='xr-has-index'>time</span></div><div class='xr-var-dims'>(time)</div><div class='xr-var-dtype'>datetime64[ns]</div><div class='xr-var-preview xr-preview'>1998-01-01T12:00:00 ... 2020-12-...</div><input id='attrs-d39e0a08-ba96-4d50-adb5-009041cfe5d5' class='xr-var-attrs-in' type='checkbox' ><label for='attrs-d39e0a08-ba96-4d50-adb5-009041cfe5d5' title='Show/Hide attributes'><svg class='icon xr-icon-file-text2'><use xlink:href='#icon-file-text2'></use></svg></label><input id='data-4b6bfc04-ebb3-4933-8aaa-d48773523f26' class='xr-var-data-in' type='checkbox'><label for='data-4b6bfc04-ebb3-4933-8aaa-d48773523f26' title='Show/Hide data repr'><svg class='icon xr-icon-database'><use xlink:href='#icon-database'></use></svg></label><div class='xr-var-attrs'><dl class='xr-attrs'><dt><span>standard_name :</span></dt><dd>time</dd><dt><span>axis :</span></dt><dd>T</dd></dl></div><div class='xr-var-data'><pre>array([&#x27;1998-01-01T12:00:00.000000000&#x27;, &#x27;1998-01-02T12:00:00.000000000&#x27;,\n",
       "       &#x27;1998-01-03T12:00:00.000000000&#x27;, ..., &#x27;2020-12-29T12:00:00.000000000&#x27;,\n",
       "       &#x27;2020-12-30T12:00:00.000000000&#x27;, &#x27;2020-12-31T12:00:00.000000000&#x27;],\n",
       "      dtype=&#x27;datetime64[ns]&#x27;)</pre></div></li><li class='xr-var-item'><div class='xr-var-name'><span>day</span></div><div class='xr-var-dims'>(time)</div><div class='xr-var-dtype'>&lt;U5</div><div class='xr-var-preview xr-preview'>...</div><input id='attrs-7c8c4a76-195f-4be1-a5b4-79fd5d986658' class='xr-var-attrs-in' type='checkbox' disabled><label for='attrs-7c8c4a76-195f-4be1-a5b4-79fd5d986658' title='Show/Hide attributes'><svg class='icon xr-icon-file-text2'><use xlink:href='#icon-file-text2'></use></svg></label><input id='data-4d1017a3-3c4f-491e-92ad-712a6e19c6bb' class='xr-var-data-in' type='checkbox'><label for='data-4d1017a3-3c4f-491e-92ad-712a6e19c6bb' title='Show/Hide data repr'><svg class='icon xr-icon-database'><use xlink:href='#icon-database'></use></svg></label><div class='xr-var-attrs'><dl class='xr-attrs'></dl></div><div class='xr-var-data'><pre>[8395 values with dtype=&lt;U5]</pre></div></li></ul></div></li><li class='xr-section-item'><input id='section-09022072-4064-473b-8134-8c8f0bb5a211' class='xr-section-summary-in' type='checkbox'  checked><label for='section-09022072-4064-473b-8134-8c8f0bb5a211' class='xr-section-summary' >Data variables: <span>(1)</span></label><div class='xr-section-inline-details'></div><div class='xr-section-details'><ul class='xr-var-list'><li class='xr-var-item'><div class='xr-var-name'><span>npp</span></div><div class='xr-var-dims'>(time)</div><div class='xr-var-dtype'>float64</div><div class='xr-var-preview xr-preview'>...</div><input id='attrs-11265375-fcce-4cca-b1e0-b2ff8a3b2c96' class='xr-var-attrs-in' type='checkbox' disabled><label for='attrs-11265375-fcce-4cca-b1e0-b2ff8a3b2c96' title='Show/Hide attributes'><svg class='icon xr-icon-file-text2'><use xlink:href='#icon-file-text2'></use></svg></label><input id='data-860386c0-1c68-4d95-92e7-d1804bce5c19' class='xr-var-data-in' type='checkbox'><label for='data-860386c0-1c68-4d95-92e7-d1804bce5c19' title='Show/Hide data repr'><svg class='icon xr-icon-database'><use xlink:href='#icon-database'></use></svg></label><div class='xr-var-attrs'><dl class='xr-attrs'></dl></div><div class='xr-var-data'><pre>[8395 values with dtype=float64]</pre></div></li></ul></div></li><li class='xr-section-item'><input id='section-ba02d25d-a177-491c-ba32-9d726ca0370a' class='xr-section-summary-in' type='checkbox'  ><label for='section-ba02d25d-a177-491c-ba32-9d726ca0370a' class='xr-section-summary' >Indexes: <span>(1)</span></label><div class='xr-section-inline-details'></div><div class='xr-section-details'><ul class='xr-var-list'><li class='xr-var-item'><div class='xr-index-name'><div>time</div></div><div class='xr-index-preview'>PandasIndex</div><input type='checkbox' disabled/><label></label><input id='index-4f152075-8029-4588-8aad-723cc46295a7' class='xr-index-data-in' type='checkbox'/><label for='index-4f152075-8029-4588-8aad-723cc46295a7' title='Show/Hide index repr'><svg class='icon xr-icon-database'><use xlink:href='#icon-database'></use></svg></label><div class='xr-index-data'><pre>PandasIndex(DatetimeIndex([&#x27;1998-01-01 12:00:00&#x27;, &#x27;1998-01-02 12:00:00&#x27;,\n",
       "               &#x27;1998-01-03 12:00:00&#x27;, &#x27;1998-01-04 12:00:00&#x27;,\n",
       "               &#x27;1998-01-05 12:00:00&#x27;, &#x27;1998-01-06 12:00:00&#x27;,\n",
       "               &#x27;1998-01-07 12:00:00&#x27;, &#x27;1998-01-08 12:00:00&#x27;,\n",
       "               &#x27;1998-01-09 12:00:00&#x27;, &#x27;1998-01-10 12:00:00&#x27;,\n",
       "               ...\n",
       "               &#x27;2020-12-22 12:00:00&#x27;, &#x27;2020-12-23 12:00:00&#x27;,\n",
       "               &#x27;2020-12-24 12:00:00&#x27;, &#x27;2020-12-25 12:00:00&#x27;,\n",
       "               &#x27;2020-12-26 12:00:00&#x27;, &#x27;2020-12-27 12:00:00&#x27;,\n",
       "               &#x27;2020-12-28 12:00:00&#x27;, &#x27;2020-12-29 12:00:00&#x27;,\n",
       "               &#x27;2020-12-30 12:00:00&#x27;, &#x27;2020-12-31 12:00:00&#x27;],\n",
       "              dtype=&#x27;datetime64[ns]&#x27;, name=&#x27;time&#x27;, length=8395, freq=None))</pre></div></li></ul></div></li><li class='xr-section-item'><input id='section-758c6ddc-5252-4e90-b0b4-52562480c807' class='xr-section-summary-in' type='checkbox' disabled ><label for='section-758c6ddc-5252-4e90-b0b4-52562480c807' class='xr-section-summary'  title='Expand/collapse section'>Attributes: <span>(0)</span></label><div class='xr-section-inline-details'></div><div class='xr-section-details'><dl class='xr-attrs'></dl></div></li></ul></div></div>"
      ],
      "text/plain": [
       "<xarray.Dataset> Size: 302kB\n",
       "Dimensions:  (time: 8395)\n",
       "Coordinates:\n",
       "  * time     (time) datetime64[ns] 67kB 1998-01-01T12:00:00 ... 2020-12-31T12...\n",
       "    day      (time) <U5 168kB ...\n",
       "Data variables:\n",
       "    npp      (time) float64 67kB ..."
      ]
     },
     "execution_count": 60,
     "metadata": {},
     "output_type": "execute_result"
    }
   ],
   "source": [
    "ds_pp"
   ]
  },
  {
   "cell_type": "code",
   "execution_count": 61,
   "id": "48cb5157",
   "metadata": {},
   "outputs": [
    {
     "data": {
      "text/html": [
       "<div><svg style=\"position: absolute; width: 0; height: 0; overflow: hidden\">\n",
       "<defs>\n",
       "<symbol id=\"icon-database\" viewBox=\"0 0 32 32\">\n",
       "<path d=\"M16 0c-8.837 0-16 2.239-16 5v4c0 2.761 7.163 5 16 5s16-2.239 16-5v-4c0-2.761-7.163-5-16-5z\"></path>\n",
       "<path d=\"M16 17c-8.837 0-16-2.239-16-5v6c0 2.761 7.163 5 16 5s16-2.239 16-5v-6c0 2.761-7.163 5-16 5z\"></path>\n",
       "<path d=\"M16 26c-8.837 0-16-2.239-16-5v6c0 2.761 7.163 5 16 5s16-2.239 16-5v-6c0 2.761-7.163 5-16 5z\"></path>\n",
       "</symbol>\n",
       "<symbol id=\"icon-file-text2\" viewBox=\"0 0 32 32\">\n",
       "<path d=\"M28.681 7.159c-0.694-0.947-1.662-2.053-2.724-3.116s-2.169-2.030-3.116-2.724c-1.612-1.182-2.393-1.319-2.841-1.319h-15.5c-1.378 0-2.5 1.121-2.5 2.5v27c0 1.378 1.122 2.5 2.5 2.5h23c1.378 0 2.5-1.122 2.5-2.5v-19.5c0-0.448-0.137-1.23-1.319-2.841zM24.543 5.457c0.959 0.959 1.712 1.825 2.268 2.543h-4.811v-4.811c0.718 0.556 1.584 1.309 2.543 2.268zM28 29.5c0 0.271-0.229 0.5-0.5 0.5h-23c-0.271 0-0.5-0.229-0.5-0.5v-27c0-0.271 0.229-0.5 0.5-0.5 0 0 15.499-0 15.5 0v7c0 0.552 0.448 1 1 1h7v19.5z\"></path>\n",
       "<path d=\"M23 26h-14c-0.552 0-1-0.448-1-1s0.448-1 1-1h14c0.552 0 1 0.448 1 1s-0.448 1-1 1z\"></path>\n",
       "<path d=\"M23 22h-14c-0.552 0-1-0.448-1-1s0.448-1 1-1h14c0.552 0 1 0.448 1 1s-0.448 1-1 1z\"></path>\n",
       "<path d=\"M23 18h-14c-0.552 0-1-0.448-1-1s0.448-1 1-1h14c0.552 0 1 0.448 1 1s-0.448 1-1 1z\"></path>\n",
       "</symbol>\n",
       "</defs>\n",
       "</svg>\n",
       "<style>/* CSS stylesheet for displaying xarray objects in jupyterlab.\n",
       " *\n",
       " */\n",
       "\n",
       ":root {\n",
       "  --xr-font-color0: var(--jp-content-font-color0, rgba(0, 0, 0, 1));\n",
       "  --xr-font-color2: var(--jp-content-font-color2, rgba(0, 0, 0, 0.54));\n",
       "  --xr-font-color3: var(--jp-content-font-color3, rgba(0, 0, 0, 0.38));\n",
       "  --xr-border-color: var(--jp-border-color2, #e0e0e0);\n",
       "  --xr-disabled-color: var(--jp-layout-color3, #bdbdbd);\n",
       "  --xr-background-color: var(--jp-layout-color0, white);\n",
       "  --xr-background-color-row-even: var(--jp-layout-color1, white);\n",
       "  --xr-background-color-row-odd: var(--jp-layout-color2, #eeeeee);\n",
       "}\n",
       "\n",
       "html[theme=\"dark\"],\n",
       "html[data-theme=\"dark\"],\n",
       "body[data-theme=\"dark\"],\n",
       "body.vscode-dark {\n",
       "  --xr-font-color0: rgba(255, 255, 255, 1);\n",
       "  --xr-font-color2: rgba(255, 255, 255, 0.54);\n",
       "  --xr-font-color3: rgba(255, 255, 255, 0.38);\n",
       "  --xr-border-color: #1f1f1f;\n",
       "  --xr-disabled-color: #515151;\n",
       "  --xr-background-color: #111111;\n",
       "  --xr-background-color-row-even: #111111;\n",
       "  --xr-background-color-row-odd: #313131;\n",
       "}\n",
       "\n",
       ".xr-wrap {\n",
       "  display: block !important;\n",
       "  min-width: 300px;\n",
       "  max-width: 700px;\n",
       "}\n",
       "\n",
       ".xr-text-repr-fallback {\n",
       "  /* fallback to plain text repr when CSS is not injected (untrusted notebook) */\n",
       "  display: none;\n",
       "}\n",
       "\n",
       ".xr-header {\n",
       "  padding-top: 6px;\n",
       "  padding-bottom: 6px;\n",
       "  margin-bottom: 4px;\n",
       "  border-bottom: solid 1px var(--xr-border-color);\n",
       "}\n",
       "\n",
       ".xr-header > div,\n",
       ".xr-header > ul {\n",
       "  display: inline;\n",
       "  margin-top: 0;\n",
       "  margin-bottom: 0;\n",
       "}\n",
       "\n",
       ".xr-obj-type,\n",
       ".xr-array-name {\n",
       "  margin-left: 2px;\n",
       "  margin-right: 10px;\n",
       "}\n",
       "\n",
       ".xr-obj-type {\n",
       "  color: var(--xr-font-color2);\n",
       "}\n",
       "\n",
       ".xr-sections {\n",
       "  padding-left: 0 !important;\n",
       "  display: grid;\n",
       "  grid-template-columns: 150px auto auto 1fr 0 20px 0 20px;\n",
       "}\n",
       "\n",
       ".xr-section-item {\n",
       "  display: contents;\n",
       "}\n",
       "\n",
       ".xr-section-item input {\n",
       "  display: inline-block;\n",
       "  opacity: 0;\n",
       "  height: 0;\n",
       "}\n",
       "\n",
       ".xr-section-item input + label {\n",
       "  color: var(--xr-disabled-color);\n",
       "}\n",
       "\n",
       ".xr-section-item input:enabled + label {\n",
       "  cursor: pointer;\n",
       "  color: var(--xr-font-color2);\n",
       "}\n",
       "\n",
       ".xr-section-item input:focus + label {\n",
       "  border: 2px solid var(--xr-font-color0);\n",
       "}\n",
       "\n",
       ".xr-section-item input:enabled + label:hover {\n",
       "  color: var(--xr-font-color0);\n",
       "}\n",
       "\n",
       ".xr-section-summary {\n",
       "  grid-column: 1;\n",
       "  color: var(--xr-font-color2);\n",
       "  font-weight: 500;\n",
       "}\n",
       "\n",
       ".xr-section-summary > span {\n",
       "  display: inline-block;\n",
       "  padding-left: 0.5em;\n",
       "}\n",
       "\n",
       ".xr-section-summary-in:disabled + label {\n",
       "  color: var(--xr-font-color2);\n",
       "}\n",
       "\n",
       ".xr-section-summary-in + label:before {\n",
       "  display: inline-block;\n",
       "  content: \"►\";\n",
       "  font-size: 11px;\n",
       "  width: 15px;\n",
       "  text-align: center;\n",
       "}\n",
       "\n",
       ".xr-section-summary-in:disabled + label:before {\n",
       "  color: var(--xr-disabled-color);\n",
       "}\n",
       "\n",
       ".xr-section-summary-in:checked + label:before {\n",
       "  content: \"▼\";\n",
       "}\n",
       "\n",
       ".xr-section-summary-in:checked + label > span {\n",
       "  display: none;\n",
       "}\n",
       "\n",
       ".xr-section-summary,\n",
       ".xr-section-inline-details {\n",
       "  padding-top: 4px;\n",
       "  padding-bottom: 4px;\n",
       "}\n",
       "\n",
       ".xr-section-inline-details {\n",
       "  grid-column: 2 / -1;\n",
       "}\n",
       "\n",
       ".xr-section-details {\n",
       "  display: none;\n",
       "  grid-column: 1 / -1;\n",
       "  margin-bottom: 5px;\n",
       "}\n",
       "\n",
       ".xr-section-summary-in:checked ~ .xr-section-details {\n",
       "  display: contents;\n",
       "}\n",
       "\n",
       ".xr-array-wrap {\n",
       "  grid-column: 1 / -1;\n",
       "  display: grid;\n",
       "  grid-template-columns: 20px auto;\n",
       "}\n",
       "\n",
       ".xr-array-wrap > label {\n",
       "  grid-column: 1;\n",
       "  vertical-align: top;\n",
       "}\n",
       "\n",
       ".xr-preview {\n",
       "  color: var(--xr-font-color3);\n",
       "}\n",
       "\n",
       ".xr-array-preview,\n",
       ".xr-array-data {\n",
       "  padding: 0 5px !important;\n",
       "  grid-column: 2;\n",
       "}\n",
       "\n",
       ".xr-array-data,\n",
       ".xr-array-in:checked ~ .xr-array-preview {\n",
       "  display: none;\n",
       "}\n",
       "\n",
       ".xr-array-in:checked ~ .xr-array-data,\n",
       ".xr-array-preview {\n",
       "  display: inline-block;\n",
       "}\n",
       "\n",
       ".xr-dim-list {\n",
       "  display: inline-block !important;\n",
       "  list-style: none;\n",
       "  padding: 0 !important;\n",
       "  margin: 0;\n",
       "}\n",
       "\n",
       ".xr-dim-list li {\n",
       "  display: inline-block;\n",
       "  padding: 0;\n",
       "  margin: 0;\n",
       "}\n",
       "\n",
       ".xr-dim-list:before {\n",
       "  content: \"(\";\n",
       "}\n",
       "\n",
       ".xr-dim-list:after {\n",
       "  content: \")\";\n",
       "}\n",
       "\n",
       ".xr-dim-list li:not(:last-child):after {\n",
       "  content: \",\";\n",
       "  padding-right: 5px;\n",
       "}\n",
       "\n",
       ".xr-has-index {\n",
       "  font-weight: bold;\n",
       "}\n",
       "\n",
       ".xr-var-list,\n",
       ".xr-var-item {\n",
       "  display: contents;\n",
       "}\n",
       "\n",
       ".xr-var-item > div,\n",
       ".xr-var-item label,\n",
       ".xr-var-item > .xr-var-name span {\n",
       "  background-color: var(--xr-background-color-row-even);\n",
       "  margin-bottom: 0;\n",
       "}\n",
       "\n",
       ".xr-var-item > .xr-var-name:hover span {\n",
       "  padding-right: 5px;\n",
       "}\n",
       "\n",
       ".xr-var-list > li:nth-child(odd) > div,\n",
       ".xr-var-list > li:nth-child(odd) > label,\n",
       ".xr-var-list > li:nth-child(odd) > .xr-var-name span {\n",
       "  background-color: var(--xr-background-color-row-odd);\n",
       "}\n",
       "\n",
       ".xr-var-name {\n",
       "  grid-column: 1;\n",
       "}\n",
       "\n",
       ".xr-var-dims {\n",
       "  grid-column: 2;\n",
       "}\n",
       "\n",
       ".xr-var-dtype {\n",
       "  grid-column: 3;\n",
       "  text-align: right;\n",
       "  color: var(--xr-font-color2);\n",
       "}\n",
       "\n",
       ".xr-var-preview {\n",
       "  grid-column: 4;\n",
       "}\n",
       "\n",
       ".xr-index-preview {\n",
       "  grid-column: 2 / 5;\n",
       "  color: var(--xr-font-color2);\n",
       "}\n",
       "\n",
       ".xr-var-name,\n",
       ".xr-var-dims,\n",
       ".xr-var-dtype,\n",
       ".xr-preview,\n",
       ".xr-attrs dt {\n",
       "  white-space: nowrap;\n",
       "  overflow: hidden;\n",
       "  text-overflow: ellipsis;\n",
       "  padding-right: 10px;\n",
       "}\n",
       "\n",
       ".xr-var-name:hover,\n",
       ".xr-var-dims:hover,\n",
       ".xr-var-dtype:hover,\n",
       ".xr-attrs dt:hover {\n",
       "  overflow: visible;\n",
       "  width: auto;\n",
       "  z-index: 1;\n",
       "}\n",
       "\n",
       ".xr-var-attrs,\n",
       ".xr-var-data,\n",
       ".xr-index-data {\n",
       "  display: none;\n",
       "  background-color: var(--xr-background-color) !important;\n",
       "  padding-bottom: 5px !important;\n",
       "}\n",
       "\n",
       ".xr-var-attrs-in:checked ~ .xr-var-attrs,\n",
       ".xr-var-data-in:checked ~ .xr-var-data,\n",
       ".xr-index-data-in:checked ~ .xr-index-data {\n",
       "  display: block;\n",
       "}\n",
       "\n",
       ".xr-var-data > table {\n",
       "  float: right;\n",
       "}\n",
       "\n",
       ".xr-var-name span,\n",
       ".xr-var-data,\n",
       ".xr-index-name div,\n",
       ".xr-index-data,\n",
       ".xr-attrs {\n",
       "  padding-left: 25px !important;\n",
       "}\n",
       "\n",
       ".xr-attrs,\n",
       ".xr-var-attrs,\n",
       ".xr-var-data,\n",
       ".xr-index-data {\n",
       "  grid-column: 1 / -1;\n",
       "}\n",
       "\n",
       "dl.xr-attrs {\n",
       "  padding: 0;\n",
       "  margin: 0;\n",
       "  display: grid;\n",
       "  grid-template-columns: 125px auto;\n",
       "}\n",
       "\n",
       ".xr-attrs dt,\n",
       ".xr-attrs dd {\n",
       "  padding: 0;\n",
       "  margin: 0;\n",
       "  float: left;\n",
       "  padding-right: 10px;\n",
       "  width: auto;\n",
       "}\n",
       "\n",
       ".xr-attrs dt {\n",
       "  font-weight: normal;\n",
       "  grid-column: 1;\n",
       "}\n",
       "\n",
       ".xr-attrs dt:hover span {\n",
       "  display: inline-block;\n",
       "  background: var(--xr-background-color);\n",
       "  padding-right: 10px;\n",
       "}\n",
       "\n",
       ".xr-attrs dd {\n",
       "  grid-column: 2;\n",
       "  white-space: pre-wrap;\n",
       "  word-break: break-all;\n",
       "}\n",
       "\n",
       ".xr-icon-database,\n",
       ".xr-icon-file-text2,\n",
       ".xr-no-icon {\n",
       "  display: inline-block;\n",
       "  vertical-align: middle;\n",
       "  width: 1em;\n",
       "  height: 1.5em !important;\n",
       "  stroke-width: 0;\n",
       "  stroke: currentColor;\n",
       "  fill: currentColor;\n",
       "}\n",
       "</style><pre class='xr-text-repr-fallback'>&lt;xarray.Dataset&gt; Size: 10kB\n",
       "Dimensions:  (day: 365)\n",
       "Coordinates:\n",
       "  * day      (day) &lt;U5 7kB &#x27;01-01&#x27; &#x27;01-02&#x27; &#x27;01-03&#x27; ... &#x27;12-29&#x27; &#x27;12-30&#x27; &#x27;12-31&#x27;\n",
       "Data variables:\n",
       "    npp      (day) float64 3kB ...</pre><div class='xr-wrap' style='display:none'><div class='xr-header'><div class='xr-obj-type'>xarray.Dataset</div></div><ul class='xr-sections'><li class='xr-section-item'><input id='section-ee5b481d-c877-4d00-8090-eee38b1ec87d' class='xr-section-summary-in' type='checkbox' disabled ><label for='section-ee5b481d-c877-4d00-8090-eee38b1ec87d' class='xr-section-summary'  title='Expand/collapse section'>Dimensions:</label><div class='xr-section-inline-details'><ul class='xr-dim-list'><li><span class='xr-has-index'>day</span>: 365</li></ul></div><div class='xr-section-details'></div></li><li class='xr-section-item'><input id='section-5d7a4f01-6e5b-48ef-bb06-048b5d7042e4' class='xr-section-summary-in' type='checkbox'  checked><label for='section-5d7a4f01-6e5b-48ef-bb06-048b5d7042e4' class='xr-section-summary' >Coordinates: <span>(1)</span></label><div class='xr-section-inline-details'></div><div class='xr-section-details'><ul class='xr-var-list'><li class='xr-var-item'><div class='xr-var-name'><span class='xr-has-index'>day</span></div><div class='xr-var-dims'>(day)</div><div class='xr-var-dtype'>&lt;U5</div><div class='xr-var-preview xr-preview'>&#x27;01-01&#x27; &#x27;01-02&#x27; ... &#x27;12-30&#x27; &#x27;12-31&#x27;</div><input id='attrs-89b2f8be-7ff1-42e0-ba2f-93977285a8da' class='xr-var-attrs-in' type='checkbox' disabled><label for='attrs-89b2f8be-7ff1-42e0-ba2f-93977285a8da' title='Show/Hide attributes'><svg class='icon xr-icon-file-text2'><use xlink:href='#icon-file-text2'></use></svg></label><input id='data-040fad8a-9151-4e28-b488-315cd0fa5314' class='xr-var-data-in' type='checkbox'><label for='data-040fad8a-9151-4e28-b488-315cd0fa5314' title='Show/Hide data repr'><svg class='icon xr-icon-database'><use xlink:href='#icon-database'></use></svg></label><div class='xr-var-attrs'><dl class='xr-attrs'></dl></div><div class='xr-var-data'><pre>array([&#x27;01-01&#x27;, &#x27;01-02&#x27;, &#x27;01-03&#x27;, ..., &#x27;12-29&#x27;, &#x27;12-30&#x27;, &#x27;12-31&#x27;], dtype=&#x27;&lt;U5&#x27;)</pre></div></li></ul></div></li><li class='xr-section-item'><input id='section-8672090a-30b3-4b9c-84c8-2063c8eb8936' class='xr-section-summary-in' type='checkbox'  checked><label for='section-8672090a-30b3-4b9c-84c8-2063c8eb8936' class='xr-section-summary' >Data variables: <span>(1)</span></label><div class='xr-section-inline-details'></div><div class='xr-section-details'><ul class='xr-var-list'><li class='xr-var-item'><div class='xr-var-name'><span>npp</span></div><div class='xr-var-dims'>(day)</div><div class='xr-var-dtype'>float64</div><div class='xr-var-preview xr-preview'>...</div><input id='attrs-3903d087-57a8-481f-a62c-563be75612ee' class='xr-var-attrs-in' type='checkbox' disabled><label for='attrs-3903d087-57a8-481f-a62c-563be75612ee' title='Show/Hide attributes'><svg class='icon xr-icon-file-text2'><use xlink:href='#icon-file-text2'></use></svg></label><input id='data-1a9189a2-2ebc-4987-a8ac-985a296cdd10' class='xr-var-data-in' type='checkbox'><label for='data-1a9189a2-2ebc-4987-a8ac-985a296cdd10' title='Show/Hide data repr'><svg class='icon xr-icon-database'><use xlink:href='#icon-database'></use></svg></label><div class='xr-var-attrs'><dl class='xr-attrs'></dl></div><div class='xr-var-data'><pre>[365 values with dtype=float64]</pre></div></li></ul></div></li><li class='xr-section-item'><input id='section-015f5e33-ceed-4223-bc9f-677af8c34acf' class='xr-section-summary-in' type='checkbox'  ><label for='section-015f5e33-ceed-4223-bc9f-677af8c34acf' class='xr-section-summary' >Indexes: <span>(1)</span></label><div class='xr-section-inline-details'></div><div class='xr-section-details'><ul class='xr-var-list'><li class='xr-var-item'><div class='xr-index-name'><div>day</div></div><div class='xr-index-preview'>PandasIndex</div><input type='checkbox' disabled/><label></label><input id='index-c975b0a7-8c55-446b-86d3-63b7adf6e1ce' class='xr-index-data-in' type='checkbox'/><label for='index-c975b0a7-8c55-446b-86d3-63b7adf6e1ce' title='Show/Hide index repr'><svg class='icon xr-icon-database'><use xlink:href='#icon-database'></use></svg></label><div class='xr-index-data'><pre>PandasIndex(Index([&#x27;01-01&#x27;, &#x27;01-02&#x27;, &#x27;01-03&#x27;, &#x27;01-04&#x27;, &#x27;01-05&#x27;, &#x27;01-06&#x27;, &#x27;01-07&#x27;, &#x27;01-08&#x27;,\n",
       "       &#x27;01-09&#x27;, &#x27;01-10&#x27;,\n",
       "       ...\n",
       "       &#x27;12-22&#x27;, &#x27;12-23&#x27;, &#x27;12-24&#x27;, &#x27;12-25&#x27;, &#x27;12-26&#x27;, &#x27;12-27&#x27;, &#x27;12-28&#x27;, &#x27;12-29&#x27;,\n",
       "       &#x27;12-30&#x27;, &#x27;12-31&#x27;],\n",
       "      dtype=&#x27;object&#x27;, name=&#x27;day&#x27;, length=365))</pre></div></li></ul></div></li><li class='xr-section-item'><input id='section-afa5d9b6-4e77-431b-b8a3-7f330d3b8ab5' class='xr-section-summary-in' type='checkbox' disabled ><label for='section-afa5d9b6-4e77-431b-b8a3-7f330d3b8ab5' class='xr-section-summary'  title='Expand/collapse section'>Attributes: <span>(0)</span></label><div class='xr-section-inline-details'></div><div class='xr-section-details'><dl class='xr-attrs'></dl></div></li></ul></div></div>"
      ],
      "text/plain": [
       "<xarray.Dataset> Size: 10kB\n",
       "Dimensions:  (day: 365)\n",
       "Coordinates:\n",
       "  * day      (day) <U5 7kB '01-01' '01-02' '01-03' ... '12-29' '12-30' '12-31'\n",
       "Data variables:\n",
       "    npp      (day) float64 3kB ..."
      ]
     },
     "execution_count": 61,
     "metadata": {},
     "output_type": "execute_result"
    }
   ],
   "source": [
    "ds_clim_pp"
   ]
  },
  {
   "cell_type": "markdown",
   "id": "a2276480",
   "metadata": {},
   "source": [
    "VGPM "
   ]
  },
  {
   "cell_type": "code",
   "execution_count": 100,
   "id": "1d450bf4",
   "metadata": {},
   "outputs": [
    {
     "data": {
      "application/vnd.plotly.v1+json": {
       "config": {
        "plotlyServerURL": "https://plot.ly"
       },
       "data": [
        {
         "line": {
          "width": 1
         },
         "mode": "lines",
         "name": "1998",
         "showlegend": true,
         "type": "scatter",
         "x": {
          "bdata": "AQACAAMABAAFAAYABwAIAAkACgALAAwADQAOAA8AEAARABIAEwAUABUAFgAXABgAGQAaABsAHAAdAB4AHwAgACEAIgAjACQAJQAmACcAKAApACoAKwAsAC0ALgAvADAAMQAyADMANAA1ADYANwA4ADkAOgA7ADwAPQA+AD8AQABBAEIAQwBEAEUARgBHAEgASQBKAEsATABNAE4ATwBQAFEAUgBTAFQAVQBWAFcAWABZAFoAWwBcAF0AXgBfAGAAYQBiAGMAZABlAGYAZwBoAGkAagBrAGwAbQBuAG8AcABxAHIAcwB0AHUAdgB3AHgAeQB6AHsAfAB9AH4AfwCAAIEAggCDAIQAhQCGAIcAiACJAIoAiwCMAI0AjgCPAJAAkQCSAJMAlACVAJYAlwCYAJkAmgCbAJwAnQCeAJ8AoAChAKIAowCkAKUApgCnAKgAqQCqAKsArACtAK4ArwCwALEAsgCzALQAtQC2ALcAuAC5ALoAuwC8AL0AvgC/AMAAwQDCAMMAxADFAMYAxwDIAMkAygDLAMwAzQDOAM8A0ADRANIA0wDUANUA1gDXANgA2QDaANsA3ADdAN4A3wDgAOEA4gDjAOQA5QDmAOcA6ADpAOoA6wDsAO0A7gDvAPAA8QDyAPMA9AD1APYA9wD4APkA+gD7APwA/QD+AP8AAAEBAQIBAwEEAQUBBgEHAQgBCQEKAQsBDAENAQ4BDwEQAREBEgETARQBFQEWARcBGAEZARoBGwEcAR0BHgEfASABIQEiASMBJAElASYBJwEoASkBKgErASwBLQEuAS8BMAExATIBMwE0ATUBNgE3ATgBOQE6ATsBPAE9AT4BPwFAAUEBQgFDAUQBRQFGAUcBSAFJAUoBSwFMAU0BTgFPAVABUQFSAVMBVAFVAVYBVwFYAVkBWgFbAVwBXQFeAV8BYAFhAWIBYwFkAWUBZgFnAWgBaQFqAWsBbAFtAQ==",
          "dtype": "i2"
         },
         "y": {
          "bdata": "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",
          "dtype": "f8"
         }
        },
        {
         "line": {
          "width": 1
         },
         "mode": "lines",
         "name": "1999",
         "showlegend": true,
         "type": "scatter",
         "x": {
          "bdata": "AQACAAMABAAFAAYABwAIAAkACgALAAwADQAOAA8AEAARABIAEwAUABUAFgAXABgAGQAaABsAHAAdAB4AHwAgACEAIgAjACQAJQAmACcAKAApACoAKwAsAC0ALgAvADAAMQAyADMANAA1ADYANwA4ADkAOgA7ADwAPQA+AD8AQABBAEIAQwBEAEUARgBHAEgASQBKAEsATABNAE4ATwBQAFEAUgBTAFQAVQBWAFcAWABZAFoAWwBcAF0AXgBfAGAAYQBiAGMAZABlAGYAZwBoAGkAagBrAGwAbQBuAG8AcABxAHIAcwB0AHUAdgB3AHgAeQB6AHsAfAB9AH4AfwCAAIEAggCDAIQAhQCGAIcAiACJAIoAiwCMAI0AjgCPAJAAkQCSAJMAlACVAJYAlwCYAJkAmgCbAJwAnQCeAJ8AoAChAKIAowCkAKUApgCnAKgAqQCqAKsArACtAK4ArwCwALEAsgCzALQAtQC2ALcAuAC5ALoAuwC8AL0AvgC/AMAAwQDCAMMAxADFAMYAxwDIAMkAygDLAMwAzQDOAM8A0ADRANIA0wDUANUA1gDXANgA2QDaANsA3ADdAN4A3wDgAOEA4gDjAOQA5QDmAOcA6ADpAOoA6wDsAO0A7gDvAPAA8QDyAPMA9AD1APYA9wD4APkA+gD7APwA/QD+AP8AAAEBAQIBAwEEAQUBBgEHAQgBCQEKAQsBDAENAQ4BDwEQAREBEgETARQBFQEWARcBGAEZARoBGwEcAR0BHgEfASABIQEiASMBJAElASYBJwEoASkBKgErASwBLQEuAS8BMAExATIBMwE0ATUBNgE3ATgBOQE6ATsBPAE9AT4BPwFAAUEBQgFDAUQBRQFGAUcBSAFJAUoBSwFMAU0BTgFPAVABUQFSAVMBVAFVAVYBVwFYAVkBWgFbAVwBXQFeAV8BYAFhAWIBYwFkAWUBZgFnAWgBaQFqAWsBbAFtAQ==",
          "dtype": "i2"
         },
         "y": {
          "bdata": "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",
          "dtype": "f8"
         }
        },
        {
         "line": {
          "width": 1
         },
         "mode": "lines",
         "name": "2000",
         "showlegend": true,
         "type": "scatter",
         "x": {
          "bdata": "AQACAAMABAAFAAYABwAIAAkACgALAAwADQAOAA8AEAARABIAEwAUABUAFgAXABgAGQAaABsAHAAdAB4AHwAgACEAIgAjACQAJQAmACcAKAApACoAKwAsAC0ALgAvADAAMQAyADMANAA1ADYANwA4ADkAOgA7ADwAPQA+AD8AQABBAEIAQwBEAEUARgBHAEgASQBKAEsATABNAE4ATwBQAFEAUgBTAFQAVQBWAFcAWABZAFoAWwBcAF0AXgBfAGAAYQBiAGMAZABlAGYAZwBoAGkAagBrAGwAbQBuAG8AcABxAHIAcwB0AHUAdgB3AHgAeQB6AHsAfAB9AH4AfwCAAIEAggCDAIQAhQCGAIcAiACJAIoAiwCMAI0AjgCPAJAAkQCSAJMAlACVAJYAlwCYAJkAmgCbAJwAnQCeAJ8AoAChAKIAowCkAKUApgCnAKgAqQCqAKsArACtAK4ArwCwALEAsgCzALQAtQC2ALcAuAC5ALoAuwC8AL0AvgC/AMAAwQDCAMMAxADFAMYAxwDIAMkAygDLAMwAzQDOAM8A0ADRANIA0wDUANUA1gDXANgA2QDaANsA3ADdAN4A3wDgAOEA4gDjAOQA5QDmAOcA6ADpAOoA6wDsAO0A7gDvAPAA8QDyAPMA9AD1APYA9wD4APkA+gD7APwA/QD+AP8AAAEBAQIBAwEEAQUBBgEHAQgBCQEKAQsBDAENAQ4BDwEQAREBEgETARQBFQEWARcBGAEZARoBGwEcAR0BHgEfASABIQEiASMBJAElASYBJwEoASkBKgErASwBLQEuAS8BMAExATIBMwE0ATUBNgE3ATgBOQE6ATsBPAE9AT4BPwFAAUEBQgFDAUQBRQFGAUcBSAFJAUoBSwFMAU0BTgFPAVABUQFSAVMBVAFVAVYBVwFYAVkBWgFbAVwBXQFeAV8BYAFhAWIBYwFkAWUBZgFnAWgBaQFqAWsBbAFtAQ==",
          "dtype": "i2"
         },
         "y": {
          "bdata": "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",
          "dtype": "f8"
         }
        },
        {
         "line": {
          "width": 1
         },
         "mode": "lines",
         "name": "2001",
         "showlegend": true,
         "type": "scatter",
         "x": {
          "bdata": "AQACAAMABAAFAAYABwAIAAkACgALAAwADQAOAA8AEAARABIAEwAUABUAFgAXABgAGQAaABsAHAAdAB4AHwAgACEAIgAjACQAJQAmACcAKAApACoAKwAsAC0ALgAvADAAMQAyADMANAA1ADYANwA4ADkAOgA7ADwAPQA+AD8AQABBAEIAQwBEAEUARgBHAEgASQBKAEsATABNAE4ATwBQAFEAUgBTAFQAVQBWAFcAWABZAFoAWwBcAF0AXgBfAGAAYQBiAGMAZABlAGYAZwBoAGkAagBrAGwAbQBuAG8AcABxAHIAcwB0AHUAdgB3AHgAeQB6AHsAfAB9AH4AfwCAAIEAggCDAIQAhQCGAIcAiACJAIoAiwCMAI0AjgCPAJAAkQCSAJMAlACVAJYAlwCYAJkAmgCbAJwAnQCeAJ8AoAChAKIAowCkAKUApgCnAKgAqQCqAKsArACtAK4ArwCwALEAsgCzALQAtQC2ALcAuAC5ALoAuwC8AL0AvgC/AMAAwQDCAMMAxADFAMYAxwDIAMkAygDLAMwAzQDOAM8A0ADRANIA0wDUANUA1gDXANgA2QDaANsA3ADdAN4A3wDgAOEA4gDjAOQA5QDmAOcA6ADpAOoA6wDsAO0A7gDvAPAA8QDyAPMA9AD1APYA9wD4APkA+gD7APwA/QD+AP8AAAEBAQIBAwEEAQUBBgEHAQgBCQEKAQsBDAENAQ4BDwEQAREBEgETARQBFQEWARcBGAEZARoBGwEcAR0BHgEfASABIQEiASMBJAElASYBJwEoASkBKgErASwBLQEuAS8BMAExATIBMwE0ATUBNgE3ATgBOQE6ATsBPAE9AT4BPwFAAUEBQgFDAUQBRQFGAUcBSAFJAUoBSwFMAU0BTgFPAVABUQFSAVMBVAFVAVYBVwFYAVkBWgFbAVwBXQFeAV8BYAFhAWIBYwFkAWUBZgFnAWgBaQFqAWsBbAFtAQ==",
          "dtype": "i2"
         },
         "y": {
          "bdata": "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",
          "dtype": "f8"
         }
        },
        {
         "line": {
          "width": 1
         },
         "mode": "lines",
         "name": "2002",
         "showlegend": true,
         "type": "scatter",
         "x": {
          "bdata": "AQACAAMABAAFAAYABwAIAAkACgALAAwADQAOAA8AEAARABIAEwAUABUAFgAXABgAGQAaABsAHAAdAB4AHwAgACEAIgAjACQAJQAmACcAKAApACoAKwAsAC0ALgAvADAAMQAyADMANAA1ADYANwA4ADkAOgA7ADwAPQA+AD8AQABBAEIAQwBEAEUARgBHAEgASQBKAEsATABNAE4ATwBQAFEAUgBTAFQAVQBWAFcAWABZAFoAWwBcAF0AXgBfAGAAYQBiAGMAZABlAGYAZwBoAGkAagBrAGwAbQBuAG8AcABxAHIAcwB0AHUAdgB3AHgAeQB6AHsAfAB9AH4AfwCAAIEAggCDAIQAhQCGAIcAiACJAIoAiwCMAI0AjgCPAJAAkQCSAJMAlACVAJYAlwCYAJkAmgCbAJwAnQCeAJ8AoAChAKIAowCkAKUApgCnAKgAqQCqAKsArACtAK4ArwCwALEAsgCzALQAtQC2ALcAuAC5ALoAuwC8AL0AvgC/AMAAwQDCAMMAxADFAMYAxwDIAMkAygDLAMwAzQDOAM8A0ADRANIA0wDUANUA1gDXANgA2QDaANsA3ADdAN4A3wDgAOEA4gDjAOQA5QDmAOcA6ADpAOoA6wDsAO0A7gDvAPAA8QDyAPMA9AD1APYA9wD4APkA+gD7APwA/QD+AP8AAAEBAQIBAwEEAQUBBgEHAQgBCQEKAQsBDAENAQ4BDwEQAREBEgETARQBFQEWARcBGAEZARoBGwEcAR0BHgEfASABIQEiASMBJAElASYBJwEoASkBKgErASwBLQEuAS8BMAExATIBMwE0ATUBNgE3ATgBOQE6ATsBPAE9AT4BPwFAAUEBQgFDAUQBRQFGAUcBSAFJAUoBSwFMAU0BTgFPAVABUQFSAVMBVAFVAVYBVwFYAVkBWgFbAVwBXQFeAV8BYAFhAWIBYwFkAWUBZgFnAWgBaQFqAWsBbAFtAQ==",
          "dtype": "i2"
         },
         "y": {
          "bdata": "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",
          "dtype": "f8"
         }
        },
        {
         "line": {
          "width": 1
         },
         "mode": "lines",
         "name": "2003",
         "showlegend": true,
         "type": "scatter",
         "x": {
          "bdata": "AQACAAMABAAFAAYABwAIAAkACgALAAwADQAOAA8AEAARABIAEwAUABUAFgAXABgAGQAaABsAHAAdAB4AHwAgACEAIgAjACQAJQAmACcAKAApACoAKwAsAC0ALgAvADAAMQAyADMANAA1ADYANwA4ADkAOgA7ADwAPQA+AD8AQABBAEIAQwBEAEUARgBHAEgASQBKAEsATABNAE4ATwBQAFEAUgBTAFQAVQBWAFcAWABZAFoAWwBcAF0AXgBfAGAAYQBiAGMAZABlAGYAZwBoAGkAagBrAGwAbQBuAG8AcABxAHIAcwB0AHUAdgB3AHgAeQB6AHsAfAB9AH4AfwCAAIEAggCDAIQAhQCGAIcAiACJAIoAiwCMAI0AjgCPAJAAkQCSAJMAlACVAJYAlwCYAJkAmgCbAJwAnQCeAJ8AoAChAKIAowCkAKUApgCnAKgAqQCqAKsArACtAK4ArwCwALEAsgCzALQAtQC2ALcAuAC5ALoAuwC8AL0AvgC/AMAAwQDCAMMAxADFAMYAxwDIAMkAygDLAMwAzQDOAM8A0ADRANIA0wDUANUA1gDXANgA2QDaANsA3ADdAN4A3wDgAOEA4gDjAOQA5QDmAOcA6ADpAOoA6wDsAO0A7gDvAPAA8QDyAPMA9AD1APYA9wD4APkA+gD7APwA/QD+AP8AAAEBAQIBAwEEAQUBBgEHAQgBCQEKAQsBDAENAQ4BDwEQAREBEgETARQBFQEWARcBGAEZARoBGwEcAR0BHgEfASABIQEiASMBJAElASYBJwEoASkBKgErASwBLQEuAS8BMAExATIBMwE0ATUBNgE3ATgBOQE6ATsBPAE9AT4BPwFAAUEBQgFDAUQBRQFGAUcBSAFJAUoBSwFMAU0BTgFPAVABUQFSAVMBVAFVAVYBVwFYAVkBWgFbAVwBXQFeAV8BYAFhAWIBYwFkAWUBZgFnAWgBaQFqAWsBbAFtAQ==",
          "dtype": "i2"
         },
         "y": {
          "bdata": "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",
          "dtype": "f8"
         }
        },
        {
         "line": {
          "width": 1
         },
         "mode": "lines",
         "name": "2004",
         "showlegend": true,
         "type": "scatter",
         "x": {
          "bdata": "AQACAAMABAAFAAYABwAIAAkACgALAAwADQAOAA8AEAARABIAEwAUABUAFgAXABgAGQAaABsAHAAdAB4AHwAgACEAIgAjACQAJQAmACcAKAApACoAKwAsAC0ALgAvADAAMQAyADMANAA1ADYANwA4ADkAOgA7ADwAPQA+AD8AQABBAEIAQwBEAEUARgBHAEgASQBKAEsATABNAE4ATwBQAFEAUgBTAFQAVQBWAFcAWABZAFoAWwBcAF0AXgBfAGAAYQBiAGMAZABlAGYAZwBoAGkAagBrAGwAbQBuAG8AcABxAHIAcwB0AHUAdgB3AHgAeQB6AHsAfAB9AH4AfwCAAIEAggCDAIQAhQCGAIcAiACJAIoAiwCMAI0AjgCPAJAAkQCSAJMAlACVAJYAlwCYAJkAmgCbAJwAnQCeAJ8AoAChAKIAowCkAKUApgCnAKgAqQCqAKsArACtAK4ArwCwALEAsgCzALQAtQC2ALcAuAC5ALoAuwC8AL0AvgC/AMAAwQDCAMMAxADFAMYAxwDIAMkAygDLAMwAzQDOAM8A0ADRANIA0wDUANUA1gDXANgA2QDaANsA3ADdAN4A3wDgAOEA4gDjAOQA5QDmAOcA6ADpAOoA6wDsAO0A7gDvAPAA8QDyAPMA9AD1APYA9wD4APkA+gD7APwA/QD+AP8AAAEBAQIBAwEEAQUBBgEHAQgBCQEKAQsBDAENAQ4BDwEQAREBEgETARQBFQEWARcBGAEZARoBGwEcAR0BHgEfASABIQEiASMBJAElASYBJwEoASkBKgErASwBLQEuAS8BMAExATIBMwE0ATUBNgE3ATgBOQE6ATsBPAE9AT4BPwFAAUEBQgFDAUQBRQFGAUcBSAFJAUoBSwFMAU0BTgFPAVABUQFSAVMBVAFVAVYBVwFYAVkBWgFbAVwBXQFeAV8BYAFhAWIBYwFkAWUBZgFnAWgBaQFqAWsBbAFtAQ==",
          "dtype": "i2"
         },
         "y": {
          "bdata": "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",
          "dtype": "f8"
         }
        },
        {
         "line": {
          "width": 1
         },
         "mode": "lines",
         "name": "2005",
         "showlegend": true,
         "type": "scatter",
         "x": {
          "bdata": "AQACAAMABAAFAAYABwAIAAkACgALAAwADQAOAA8AEAARABIAEwAUABUAFgAXABgAGQAaABsAHAAdAB4AHwAgACEAIgAjACQAJQAmACcAKAApACoAKwAsAC0ALgAvADAAMQAyADMANAA1ADYANwA4ADkAOgA7ADwAPQA+AD8AQABBAEIAQwBEAEUARgBHAEgASQBKAEsATABNAE4ATwBQAFEAUgBTAFQAVQBWAFcAWABZAFoAWwBcAF0AXgBfAGAAYQBiAGMAZABlAGYAZwBoAGkAagBrAGwAbQBuAG8AcABxAHIAcwB0AHUAdgB3AHgAeQB6AHsAfAB9AH4AfwCAAIEAggCDAIQAhQCGAIcAiACJAIoAiwCMAI0AjgCPAJAAkQCSAJMAlACVAJYAlwCYAJkAmgCbAJwAnQCeAJ8AoAChAKIAowCkAKUApgCnAKgAqQCqAKsArACtAK4ArwCwALEAsgCzALQAtQC2ALcAuAC5ALoAuwC8AL0AvgC/AMAAwQDCAMMAxADFAMYAxwDIAMkAygDLAMwAzQDOAM8A0ADRANIA0wDUANUA1gDXANgA2QDaANsA3ADdAN4A3wDgAOEA4gDjAOQA5QDmAOcA6ADpAOoA6wDsAO0A7gDvAPAA8QDyAPMA9AD1APYA9wD4APkA+gD7APwA/QD+AP8AAAEBAQIBAwEEAQUBBgEHAQgBCQEKAQsBDAENAQ4BDwEQAREBEgETARQBFQEWARcBGAEZARoBGwEcAR0BHgEfASABIQEiASMBJAElASYBJwEoASkBKgErASwBLQEuAS8BMAExATIBMwE0ATUBNgE3ATgBOQE6ATsBPAE9AT4BPwFAAUEBQgFDAUQBRQFGAUcBSAFJAUoBSwFMAU0BTgFPAVABUQFSAVMBVAFVAVYBVwFYAVkBWgFbAVwBXQFeAV8BYAFhAWIBYwFkAWUBZgFnAWgBaQFqAWsBbAFtAQ==",
          "dtype": "i2"
         },
         "y": {
          "bdata": "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",
          "dtype": "f8"
         }
        },
        {
         "line": {
          "width": 1
         },
         "mode": "lines",
         "name": "2006",
         "showlegend": true,
         "type": "scatter",
         "x": {
          "bdata": "AQACAAMABAAFAAYABwAIAAkACgALAAwADQAOAA8AEAARABIAEwAUABUAFgAXABgAGQAaABsAHAAdAB4AHwAgACEAIgAjACQAJQAmACcAKAApACoAKwAsAC0ALgAvADAAMQAyADMANAA1ADYANwA4ADkAOgA7ADwAPQA+AD8AQABBAEIAQwBEAEUARgBHAEgASQBKAEsATABNAE4ATwBQAFEAUgBTAFQAVQBWAFcAWABZAFoAWwBcAF0AXgBfAGAAYQBiAGMAZABlAGYAZwBoAGkAagBrAGwAbQBuAG8AcABxAHIAcwB0AHUAdgB3AHgAeQB6AHsAfAB9AH4AfwCAAIEAggCDAIQAhQCGAIcAiACJAIoAiwCMAI0AjgCPAJAAkQCSAJMAlACVAJYAlwCYAJkAmgCbAJwAnQCeAJ8AoAChAKIAowCkAKUApgCnAKgAqQCqAKsArACtAK4ArwCwALEAsgCzALQAtQC2ALcAuAC5ALoAuwC8AL0AvgC/AMAAwQDCAMMAxADFAMYAxwDIAMkAygDLAMwAzQDOAM8A0ADRANIA0wDUANUA1gDXANgA2QDaANsA3ADdAN4A3wDgAOEA4gDjAOQA5QDmAOcA6ADpAOoA6wDsAO0A7gDvAPAA8QDyAPMA9AD1APYA9wD4APkA+gD7APwA/QD+AP8AAAEBAQIBAwEEAQUBBgEHAQgBCQEKAQsBDAENAQ4BDwEQAREBEgETARQBFQEWARcBGAEZARoBGwEcAR0BHgEfASABIQEiASMBJAElASYBJwEoASkBKgErASwBLQEuAS8BMAExATIBMwE0ATUBNgE3ATgBOQE6ATsBPAE9AT4BPwFAAUEBQgFDAUQBRQFGAUcBSAFJAUoBSwFMAU0BTgFPAVABUQFSAVMBVAFVAVYBVwFYAVkBWgFbAVwBXQFeAV8BYAFhAWIBYwFkAWUBZgFnAWgBaQFqAWsBbAFtAQ==",
          "dtype": "i2"
         },
         "y": {
          "bdata": "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",
          "dtype": "f8"
         }
        },
        {
         "line": {
          "width": 1
         },
         "mode": "lines",
         "name": "2007",
         "showlegend": true,
         "type": "scatter",
         "x": {
          "bdata": "AQACAAMABAAFAAYABwAIAAkACgALAAwADQAOAA8AEAARABIAEwAUABUAFgAXABgAGQAaABsAHAAdAB4AHwAgACEAIgAjACQAJQAmACcAKAApACoAKwAsAC0ALgAvADAAMQAyADMANAA1ADYANwA4ADkAOgA7ADwAPQA+AD8AQABBAEIAQwBEAEUARgBHAEgASQBKAEsATABNAE4ATwBQAFEAUgBTAFQAVQBWAFcAWABZAFoAWwBcAF0AXgBfAGAAYQBiAGMAZABlAGYAZwBoAGkAagBrAGwAbQBuAG8AcABxAHIAcwB0AHUAdgB3AHgAeQB6AHsAfAB9AH4AfwCAAIEAggCDAIQAhQCGAIcAiACJAIoAiwCMAI0AjgCPAJAAkQCSAJMAlACVAJYAlwCYAJkAmgCbAJwAnQCeAJ8AoAChAKIAowCkAKUApgCnAKgAqQCqAKsArACtAK4ArwCwALEAsgCzALQAtQC2ALcAuAC5ALoAuwC8AL0AvgC/AMAAwQDCAMMAxADFAMYAxwDIAMkAygDLAMwAzQDOAM8A0ADRANIA0wDUANUA1gDXANgA2QDaANsA3ADdAN4A3wDgAOEA4gDjAOQA5QDmAOcA6ADpAOoA6wDsAO0A7gDvAPAA8QDyAPMA9AD1APYA9wD4APkA+gD7APwA/QD+AP8AAAEBAQIBAwEEAQUBBgEHAQgBCQEKAQsBDAENAQ4BDwEQAREBEgETARQBFQEWARcBGAEZARoBGwEcAR0BHgEfASABIQEiASMBJAElASYBJwEoASkBKgErASwBLQEuAS8BMAExATIBMwE0ATUBNgE3ATgBOQE6ATsBPAE9AT4BPwFAAUEBQgFDAUQBRQFGAUcBSAFJAUoBSwFMAU0BTgFPAVABUQFSAVMBVAFVAVYBVwFYAVkBWgFbAVwBXQFeAV8BYAFhAWIBYwFkAWUBZgFnAWgBaQFqAWsBbAFtAQ==",
          "dtype": "i2"
         },
         "y": {
          "bdata": "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",
          "dtype": "f8"
         }
        },
        {
         "line": {
          "width": 1
         },
         "mode": "lines",
         "name": "2008",
         "showlegend": true,
         "type": "scatter",
         "x": {
          "bdata": "AQACAAMABAAFAAYABwAIAAkACgALAAwADQAOAA8AEAARABIAEwAUABUAFgAXABgAGQAaABsAHAAdAB4AHwAgACEAIgAjACQAJQAmACcAKAApACoAKwAsAC0ALgAvADAAMQAyADMANAA1ADYANwA4ADkAOgA7ADwAPQA+AD8AQABBAEIAQwBEAEUARgBHAEgASQBKAEsATABNAE4ATwBQAFEAUgBTAFQAVQBWAFcAWABZAFoAWwBcAF0AXgBfAGAAYQBiAGMAZABlAGYAZwBoAGkAagBrAGwAbQBuAG8AcABxAHIAcwB0AHUAdgB3AHgAeQB6AHsAfAB9AH4AfwCAAIEAggCDAIQAhQCGAIcAiACJAIoAiwCMAI0AjgCPAJAAkQCSAJMAlACVAJYAlwCYAJkAmgCbAJwAnQCeAJ8AoAChAKIAowCkAKUApgCnAKgAqQCqAKsArACtAK4ArwCwALEAsgCzALQAtQC2ALcAuAC5ALoAuwC8AL0AvgC/AMAAwQDCAMMAxADFAMYAxwDIAMkAygDLAMwAzQDOAM8A0ADRANIA0wDUANUA1gDXANgA2QDaANsA3ADdAN4A3wDgAOEA4gDjAOQA5QDmAOcA6ADpAOoA6wDsAO0A7gDvAPAA8QDyAPMA9AD1APYA9wD4APkA+gD7APwA/QD+AP8AAAEBAQIBAwEEAQUBBgEHAQgBCQEKAQsBDAENAQ4BDwEQAREBEgETARQBFQEWARcBGAEZARoBGwEcAR0BHgEfASABIQEiASMBJAElASYBJwEoASkBKgErASwBLQEuAS8BMAExATIBMwE0ATUBNgE3ATgBOQE6ATsBPAE9AT4BPwFAAUEBQgFDAUQBRQFGAUcBSAFJAUoBSwFMAU0BTgFPAVABUQFSAVMBVAFVAVYBVwFYAVkBWgFbAVwBXQFeAV8BYAFhAWIBYwFkAWUBZgFnAWgBaQFqAWsBbAFtAQ==",
          "dtype": "i2"
         },
         "y": {
          "bdata": "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",
          "dtype": "f8"
         }
        },
        {
         "line": {
          "width": 1
         },
         "mode": "lines",
         "name": "2009",
         "showlegend": true,
         "type": "scatter",
         "x": {
          "bdata": "AQACAAMABAAFAAYABwAIAAkACgALAAwADQAOAA8AEAARABIAEwAUABUAFgAXABgAGQAaABsAHAAdAB4AHwAgACEAIgAjACQAJQAmACcAKAApACoAKwAsAC0ALgAvADAAMQAyADMANAA1ADYANwA4ADkAOgA7ADwAPQA+AD8AQABBAEIAQwBEAEUARgBHAEgASQBKAEsATABNAE4ATwBQAFEAUgBTAFQAVQBWAFcAWABZAFoAWwBcAF0AXgBfAGAAYQBiAGMAZABlAGYAZwBoAGkAagBrAGwAbQBuAG8AcABxAHIAcwB0AHUAdgB3AHgAeQB6AHsAfAB9AH4AfwCAAIEAggCDAIQAhQCGAIcAiACJAIoAiwCMAI0AjgCPAJAAkQCSAJMAlACVAJYAlwCYAJkAmgCbAJwAnQCeAJ8AoAChAKIAowCkAKUApgCnAKgAqQCqAKsArACtAK4ArwCwALEAsgCzALQAtQC2ALcAuAC5ALoAuwC8AL0AvgC/AMAAwQDCAMMAxADFAMYAxwDIAMkAygDLAMwAzQDOAM8A0ADRANIA0wDUANUA1gDXANgA2QDaANsA3ADdAN4A3wDgAOEA4gDjAOQA5QDmAOcA6ADpAOoA6wDsAO0A7gDvAPAA8QDyAPMA9AD1APYA9wD4APkA+gD7APwA/QD+AP8AAAEBAQIBAwEEAQUBBgEHAQgBCQEKAQsBDAENAQ4BDwEQAREBEgETARQBFQEWARcBGAEZARoBGwEcAR0BHgEfASABIQEiASMBJAElASYBJwEoASkBKgErASwBLQEuAS8BMAExATIBMwE0ATUBNgE3ATgBOQE6ATsBPAE9AT4BPwFAAUEBQgFDAUQBRQFGAUcBSAFJAUoBSwFMAU0BTgFPAVABUQFSAVMBVAFVAVYBVwFYAVkBWgFbAVwBXQFeAV8BYAFhAWIBYwFkAWUBZgFnAWgBaQFqAWsBbAFtAQ==",
          "dtype": "i2"
         },
         "y": {
          "bdata": "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",
          "dtype": "f8"
         }
        },
        {
         "line": {
          "width": 1
         },
         "mode": "lines",
         "name": "2010",
         "showlegend": true,
         "type": "scatter",
         "x": {
          "bdata": "AQACAAMABAAFAAYABwAIAAkACgALAAwADQAOAA8AEAARABIAEwAUABUAFgAXABgAGQAaABsAHAAdAB4AHwAgACEAIgAjACQAJQAmACcAKAApACoAKwAsAC0ALgAvADAAMQAyADMANAA1ADYANwA4ADkAOgA7ADwAPQA+AD8AQABBAEIAQwBEAEUARgBHAEgASQBKAEsATABNAE4ATwBQAFEAUgBTAFQAVQBWAFcAWABZAFoAWwBcAF0AXgBfAGAAYQBiAGMAZABlAGYAZwBoAGkAagBrAGwAbQBuAG8AcABxAHIAcwB0AHUAdgB3AHgAeQB6AHsAfAB9AH4AfwCAAIEAggCDAIQAhQCGAIcAiACJAIoAiwCMAI0AjgCPAJAAkQCSAJMAlACVAJYAlwCYAJkAmgCbAJwAnQCeAJ8AoAChAKIAowCkAKUApgCnAKgAqQCqAKsArACtAK4ArwCwALEAsgCzALQAtQC2ALcAuAC5ALoAuwC8AL0AvgC/AMAAwQDCAMMAxADFAMYAxwDIAMkAygDLAMwAzQDOAM8A0ADRANIA0wDUANUA1gDXANgA2QDaANsA3ADdAN4A3wDgAOEA4gDjAOQA5QDmAOcA6ADpAOoA6wDsAO0A7gDvAPAA8QDyAPMA9AD1APYA9wD4APkA+gD7APwA/QD+AP8AAAEBAQIBAwEEAQUBBgEHAQgBCQEKAQsBDAENAQ4BDwEQAREBEgETARQBFQEWARcBGAEZARoBGwEcAR0BHgEfASABIQEiASMBJAElASYBJwEoASkBKgErASwBLQEuAS8BMAExATIBMwE0ATUBNgE3ATgBOQE6ATsBPAE9AT4BPwFAAUEBQgFDAUQBRQFGAUcBSAFJAUoBSwFMAU0BTgFPAVABUQFSAVMBVAFVAVYBVwFYAVkBWgFbAVwBXQFeAV8BYAFhAWIBYwFkAWUBZgFnAWgBaQFqAWsBbAFtAQ==",
          "dtype": "i2"
         },
         "y": {
          "bdata": "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",
          "dtype": "f8"
         }
        },
        {
         "line": {
          "width": 1
         },
         "mode": "lines",
         "name": "2011",
         "showlegend": true,
         "type": "scatter",
         "x": {
          "bdata": "AQACAAMABAAFAAYABwAIAAkACgALAAwADQAOAA8AEAARABIAEwAUABUAFgAXABgAGQAaABsAHAAdAB4AHwAgACEAIgAjACQAJQAmACcAKAApACoAKwAsAC0ALgAvADAAMQAyADMANAA1ADYANwA4ADkAOgA7ADwAPQA+AD8AQABBAEIAQwBEAEUARgBHAEgASQBKAEsATABNAE4ATwBQAFEAUgBTAFQAVQBWAFcAWABZAFoAWwBcAF0AXgBfAGAAYQBiAGMAZABlAGYAZwBoAGkAagBrAGwAbQBuAG8AcABxAHIAcwB0AHUAdgB3AHgAeQB6AHsAfAB9AH4AfwCAAIEAggCDAIQAhQCGAIcAiACJAIoAiwCMAI0AjgCPAJAAkQCSAJMAlACVAJYAlwCYAJkAmgCbAJwAnQCeAJ8AoAChAKIAowCkAKUApgCnAKgAqQCqAKsArACtAK4ArwCwALEAsgCzALQAtQC2ALcAuAC5ALoAuwC8AL0AvgC/AMAAwQDCAMMAxADFAMYAxwDIAMkAygDLAMwAzQDOAM8A0ADRANIA0wDUANUA1gDXANgA2QDaANsA3ADdAN4A3wDgAOEA4gDjAOQA5QDmAOcA6ADpAOoA6wDsAO0A7gDvAPAA8QDyAPMA9AD1APYA9wD4APkA+gD7APwA/QD+AP8AAAEBAQIBAwEEAQUBBgEHAQgBCQEKAQsBDAENAQ4BDwEQAREBEgETARQBFQEWARcBGAEZARoBGwEcAR0BHgEfASABIQEiASMBJAElASYBJwEoASkBKgErASwBLQEuAS8BMAExATIBMwE0ATUBNgE3ATgBOQE6ATsBPAE9AT4BPwFAAUEBQgFDAUQBRQFGAUcBSAFJAUoBSwFMAU0BTgFPAVABUQFSAVMBVAFVAVYBVwFYAVkBWgFbAVwBXQFeAV8BYAFhAWIBYwFkAWUBZgFnAWgBaQFqAWsBbAFtAQ==",
          "dtype": "i2"
         },
         "y": {
          "bdata": "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",
          "dtype": "f8"
         }
        },
        {
         "line": {
          "width": 1
         },
         "mode": "lines",
         "name": "2012",
         "showlegend": true,
         "type": "scatter",
         "x": {
          "bdata": "AQACAAMABAAFAAYABwAIAAkACgALAAwADQAOAA8AEAARABIAEwAUABUAFgAXABgAGQAaABsAHAAdAB4AHwAgACEAIgAjACQAJQAmACcAKAApACoAKwAsAC0ALgAvADAAMQAyADMANAA1ADYANwA4ADkAOgA7ADwAPQA+AD8AQABBAEIAQwBEAEUARgBHAEgASQBKAEsATABNAE4ATwBQAFEAUgBTAFQAVQBWAFcAWABZAFoAWwBcAF0AXgBfAGAAYQBiAGMAZABlAGYAZwBoAGkAagBrAGwAbQBuAG8AcABxAHIAcwB0AHUAdgB3AHgAeQB6AHsAfAB9AH4AfwCAAIEAggCDAIQAhQCGAIcAiACJAIoAiwCMAI0AjgCPAJAAkQCSAJMAlACVAJYAlwCYAJkAmgCbAJwAnQCeAJ8AoAChAKIAowCkAKUApgCnAKgAqQCqAKsArACtAK4ArwCwALEAsgCzALQAtQC2ALcAuAC5ALoAuwC8AL0AvgC/AMAAwQDCAMMAxADFAMYAxwDIAMkAygDLAMwAzQDOAM8A0ADRANIA0wDUANUA1gDXANgA2QDaANsA3ADdAN4A3wDgAOEA4gDjAOQA5QDmAOcA6ADpAOoA6wDsAO0A7gDvAPAA8QDyAPMA9AD1APYA9wD4APkA+gD7APwA/QD+AP8AAAEBAQIBAwEEAQUBBgEHAQgBCQEKAQsBDAENAQ4BDwEQAREBEgETARQBFQEWARcBGAEZARoBGwEcAR0BHgEfASABIQEiASMBJAElASYBJwEoASkBKgErASwBLQEuAS8BMAExATIBMwE0ATUBNgE3ATgBOQE6ATsBPAE9AT4BPwFAAUEBQgFDAUQBRQFGAUcBSAFJAUoBSwFMAU0BTgFPAVABUQFSAVMBVAFVAVYBVwFYAVkBWgFbAVwBXQFeAV8BYAFhAWIBYwFkAWUBZgFnAWgBaQFqAWsBbAFtAQ==",
          "dtype": "i2"
         },
         "y": {
          "bdata": "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",
          "dtype": "f8"
         }
        },
        {
         "line": {
          "width": 1
         },
         "mode": "lines",
         "name": "2013",
         "showlegend": true,
         "type": "scatter",
         "x": {
          "bdata": "AQACAAMABAAFAAYABwAIAAkACgALAAwADQAOAA8AEAARABIAEwAUABUAFgAXABgAGQAaABsAHAAdAB4AHwAgACEAIgAjACQAJQAmACcAKAApACoAKwAsAC0ALgAvADAAMQAyADMANAA1ADYANwA4ADkAOgA7ADwAPQA+AD8AQABBAEIAQwBEAEUARgBHAEgASQBKAEsATABNAE4ATwBQAFEAUgBTAFQAVQBWAFcAWABZAFoAWwBcAF0AXgBfAGAAYQBiAGMAZABlAGYAZwBoAGkAagBrAGwAbQBuAG8AcABxAHIAcwB0AHUAdgB3AHgAeQB6AHsAfAB9AH4AfwCAAIEAggCDAIQAhQCGAIcAiACJAIoAiwCMAI0AjgCPAJAAkQCSAJMAlACVAJYAlwCYAJkAmgCbAJwAnQCeAJ8AoAChAKIAowCkAKUApgCnAKgAqQCqAKsArACtAK4ArwCwALEAsgCzALQAtQC2ALcAuAC5ALoAuwC8AL0AvgC/AMAAwQDCAMMAxADFAMYAxwDIAMkAygDLAMwAzQDOAM8A0ADRANIA0wDUANUA1gDXANgA2QDaANsA3ADdAN4A3wDgAOEA4gDjAOQA5QDmAOcA6ADpAOoA6wDsAO0A7gDvAPAA8QDyAPMA9AD1APYA9wD4APkA+gD7APwA/QD+AP8AAAEBAQIBAwEEAQUBBgEHAQgBCQEKAQsBDAENAQ4BDwEQAREBEgETARQBFQEWARcBGAEZARoBGwEcAR0BHgEfASABIQEiASMBJAElASYBJwEoASkBKgErASwBLQEuAS8BMAExATIBMwE0ATUBNgE3ATgBOQE6ATsBPAE9AT4BPwFAAUEBQgFDAUQBRQFGAUcBSAFJAUoBSwFMAU0BTgFPAVABUQFSAVMBVAFVAVYBVwFYAVkBWgFbAVwBXQFeAV8BYAFhAWIBYwFkAWUBZgFnAWgBaQFqAWsBbAFtAQ==",
          "dtype": "i2"
         },
         "y": {
          "bdata": "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",
          "dtype": "f8"
         }
        },
        {
         "line": {
          "width": 1
         },
         "mode": "lines",
         "name": "2014",
         "showlegend": true,
         "type": "scatter",
         "x": {
          "bdata": "AQACAAMABAAFAAYABwAIAAkACgALAAwADQAOAA8AEAARABIAEwAUABUAFgAXABgAGQAaABsAHAAdAB4AHwAgACEAIgAjACQAJQAmACcAKAApACoAKwAsAC0ALgAvADAAMQAyADMANAA1ADYANwA4ADkAOgA7ADwAPQA+AD8AQABBAEIAQwBEAEUARgBHAEgASQBKAEsATABNAE4ATwBQAFEAUgBTAFQAVQBWAFcAWABZAFoAWwBcAF0AXgBfAGAAYQBiAGMAZABlAGYAZwBoAGkAagBrAGwAbQBuAG8AcABxAHIAcwB0AHUAdgB3AHgAeQB6AHsAfAB9AH4AfwCAAIEAggCDAIQAhQCGAIcAiACJAIoAiwCMAI0AjgCPAJAAkQCSAJMAlACVAJYAlwCYAJkAmgCbAJwAnQCeAJ8AoAChAKIAowCkAKUApgCnAKgAqQCqAKsArACtAK4ArwCwALEAsgCzALQAtQC2ALcAuAC5ALoAuwC8AL0AvgC/AMAAwQDCAMMAxADFAMYAxwDIAMkAygDLAMwAzQDOAM8A0ADRANIA0wDUANUA1gDXANgA2QDaANsA3ADdAN4A3wDgAOEA4gDjAOQA5QDmAOcA6ADpAOoA6wDsAO0A7gDvAPAA8QDyAPMA9AD1APYA9wD4APkA+gD7APwA/QD+AP8AAAEBAQIBAwEEAQUBBgEHAQgBCQEKAQsBDAENAQ4BDwEQAREBEgETARQBFQEWARcBGAEZARoBGwEcAR0BHgEfASABIQEiASMBJAElASYBJwEoASkBKgErASwBLQEuAS8BMAExATIBMwE0ATUBNgE3ATgBOQE6ATsBPAE9AT4BPwFAAUEBQgFDAUQBRQFGAUcBSAFJAUoBSwFMAU0BTgFPAVABUQFSAVMBVAFVAVYBVwFYAVkBWgFbAVwBXQFeAV8BYAFhAWIBYwFkAWUBZgFnAWgBaQFqAWsBbAFtAQ==",
          "dtype": "i2"
         },
         "y": {
          "bdata": "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",
          "dtype": "f8"
         }
        },
        {
         "line": {
          "width": 1
         },
         "mode": "lines",
         "name": "2015",
         "showlegend": true,
         "type": "scatter",
         "x": {
          "bdata": "AQACAAMABAAFAAYABwAIAAkACgALAAwADQAOAA8AEAARABIAEwAUABUAFgAXABgAGQAaABsAHAAdAB4AHwAgACEAIgAjACQAJQAmACcAKAApACoAKwAsAC0ALgAvADAAMQAyADMANAA1ADYANwA4ADkAOgA7ADwAPQA+AD8AQABBAEIAQwBEAEUARgBHAEgASQBKAEsATABNAE4ATwBQAFEAUgBTAFQAVQBWAFcAWABZAFoAWwBcAF0AXgBfAGAAYQBiAGMAZABlAGYAZwBoAGkAagBrAGwAbQBuAG8AcABxAHIAcwB0AHUAdgB3AHgAeQB6AHsAfAB9AH4AfwCAAIEAggCDAIQAhQCGAIcAiACJAIoAiwCMAI0AjgCPAJAAkQCSAJMAlACVAJYAlwCYAJkAmgCbAJwAnQCeAJ8AoAChAKIAowCkAKUApgCnAKgAqQCqAKsArACtAK4ArwCwALEAsgCzALQAtQC2ALcAuAC5ALoAuwC8AL0AvgC/AMAAwQDCAMMAxADFAMYAxwDIAMkAygDLAMwAzQDOAM8A0ADRANIA0wDUANUA1gDXANgA2QDaANsA3ADdAN4A3wDgAOEA4gDjAOQA5QDmAOcA6ADpAOoA6wDsAO0A7gDvAPAA8QDyAPMA9AD1APYA9wD4APkA+gD7APwA/QD+AP8AAAEBAQIBAwEEAQUBBgEHAQgBCQEKAQsBDAENAQ4BDwEQAREBEgETARQBFQEWARcBGAEZARoBGwEcAR0BHgEfASABIQEiASMBJAElASYBJwEoASkBKgErASwBLQEuAS8BMAExATIBMwE0ATUBNgE3ATgBOQE6ATsBPAE9AT4BPwFAAUEBQgFDAUQBRQFGAUcBSAFJAUoBSwFMAU0BTgFPAVABUQFSAVMBVAFVAVYBVwFYAVkBWgFbAVwBXQFeAV8BYAFhAWIBYwFkAWUBZgFnAWgBaQFqAWsBbAFtAQ==",
          "dtype": "i2"
         },
         "y": {
          "bdata": "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",
          "dtype": "f8"
         }
        },
        {
         "line": {
          "width": 1
         },
         "mode": "lines",
         "name": "2016",
         "showlegend": true,
         "type": "scatter",
         "x": {
          "bdata": "AQACAAMABAAFAAYABwAIAAkACgALAAwADQAOAA8AEAARABIAEwAUABUAFgAXABgAGQAaABsAHAAdAB4AHwAgACEAIgAjACQAJQAmACcAKAApACoAKwAsAC0ALgAvADAAMQAyADMANAA1ADYANwA4ADkAOgA7ADwAPQA+AD8AQABBAEIAQwBEAEUARgBHAEgASQBKAEsATABNAE4ATwBQAFEAUgBTAFQAVQBWAFcAWABZAFoAWwBcAF0AXgBfAGAAYQBiAGMAZABlAGYAZwBoAGkAagBrAGwAbQBuAG8AcABxAHIAcwB0AHUAdgB3AHgAeQB6AHsAfAB9AH4AfwCAAIEAggCDAIQAhQCGAIcAiACJAIoAiwCMAI0AjgCPAJAAkQCSAJMAlACVAJYAlwCYAJkAmgCbAJwAnQCeAJ8AoAChAKIAowCkAKUApgCnAKgAqQCqAKsArACtAK4ArwCwALEAsgCzALQAtQC2ALcAuAC5ALoAuwC8AL0AvgC/AMAAwQDCAMMAxADFAMYAxwDIAMkAygDLAMwAzQDOAM8A0ADRANIA0wDUANUA1gDXANgA2QDaANsA3ADdAN4A3wDgAOEA4gDjAOQA5QDmAOcA6ADpAOoA6wDsAO0A7gDvAPAA8QDyAPMA9AD1APYA9wD4APkA+gD7APwA/QD+AP8AAAEBAQIBAwEEAQUBBgEHAQgBCQEKAQsBDAENAQ4BDwEQAREBEgETARQBFQEWARcBGAEZARoBGwEcAR0BHgEfASABIQEiASMBJAElASYBJwEoASkBKgErASwBLQEuAS8BMAExATIBMwE0ATUBNgE3ATgBOQE6ATsBPAE9AT4BPwFAAUEBQgFDAUQBRQFGAUcBSAFJAUoBSwFMAU0BTgFPAVABUQFSAVMBVAFVAVYBVwFYAVkBWgFbAVwBXQFeAV8BYAFhAWIBYwFkAWUBZgFnAWgBaQFqAWsBbAFtAQ==",
          "dtype": "i2"
         },
         "y": {
          "bdata": "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",
          "dtype": "f8"
         }
        },
        {
         "line": {
          "width": 1
         },
         "mode": "lines",
         "name": "2017",
         "showlegend": true,
         "type": "scatter",
         "x": {
          "bdata": "AQACAAMABAAFAAYABwAIAAkACgALAAwADQAOAA8AEAARABIAEwAUABUAFgAXABgAGQAaABsAHAAdAB4AHwAgACEAIgAjACQAJQAmACcAKAApACoAKwAsAC0ALgAvADAAMQAyADMANAA1ADYANwA4ADkAOgA7ADwAPQA+AD8AQABBAEIAQwBEAEUARgBHAEgASQBKAEsATABNAE4ATwBQAFEAUgBTAFQAVQBWAFcAWABZAFoAWwBcAF0AXgBfAGAAYQBiAGMAZABlAGYAZwBoAGkAagBrAGwAbQBuAG8AcABxAHIAcwB0AHUAdgB3AHgAeQB6AHsAfAB9AH4AfwCAAIEAggCDAIQAhQCGAIcAiACJAIoAiwCMAI0AjgCPAJAAkQCSAJMAlACVAJYAlwCYAJkAmgCbAJwAnQCeAJ8AoAChAKIAowCkAKUApgCnAKgAqQCqAKsArACtAK4ArwCwALEAsgCzALQAtQC2ALcAuAC5ALoAuwC8AL0AvgC/AMAAwQDCAMMAxADFAMYAxwDIAMkAygDLAMwAzQDOAM8A0ADRANIA0wDUANUA1gDXANgA2QDaANsA3ADdAN4A3wDgAOEA4gDjAOQA5QDmAOcA6ADpAOoA6wDsAO0A7gDvAPAA8QDyAPMA9AD1APYA9wD4APkA+gD7APwA/QD+AP8AAAEBAQIBAwEEAQUBBgEHAQgBCQEKAQsBDAENAQ4BDwEQAREBEgETARQBFQEWARcBGAEZARoBGwEcAR0BHgEfASABIQEiASMBJAElASYBJwEoASkBKgErASwBLQEuAS8BMAExATIBMwE0ATUBNgE3ATgBOQE6ATsBPAE9AT4BPwFAAUEBQgFDAUQBRQFGAUcBSAFJAUoBSwFMAU0BTgFPAVABUQFSAVMBVAFVAVYBVwFYAVkBWgFbAVwBXQFeAV8BYAFhAWIBYwFkAWUBZgFnAWgBaQFqAWsBbAFtAQ==",
          "dtype": "i2"
         },
         "y": {
          "bdata": "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",
          "dtype": "f8"
         }
        },
        {
         "line": {
          "width": 1
         },
         "mode": "lines",
         "name": "2018",
         "showlegend": true,
         "type": "scatter",
         "x": {
          "bdata": "AQACAAMABAAFAAYABwAIAAkACgALAAwADQAOAA8AEAARABIAEwAUABUAFgAXABgAGQAaABsAHAAdAB4AHwAgACEAIgAjACQAJQAmACcAKAApACoAKwAsAC0ALgAvADAAMQAyADMANAA1ADYANwA4ADkAOgA7ADwAPQA+AD8AQABBAEIAQwBEAEUARgBHAEgASQBKAEsATABNAE4ATwBQAFEAUgBTAFQAVQBWAFcAWABZAFoAWwBcAF0AXgBfAGAAYQBiAGMAZABlAGYAZwBoAGkAagBrAGwAbQBuAG8AcABxAHIAcwB0AHUAdgB3AHgAeQB6AHsAfAB9AH4AfwCAAIEAggCDAIQAhQCGAIcAiACJAIoAiwCMAI0AjgCPAJAAkQCSAJMAlACVAJYAlwCYAJkAmgCbAJwAnQCeAJ8AoAChAKIAowCkAKUApgCnAKgAqQCqAKsArACtAK4ArwCwALEAsgCzALQAtQC2ALcAuAC5ALoAuwC8AL0AvgC/AMAAwQDCAMMAxADFAMYAxwDIAMkAygDLAMwAzQDOAM8A0ADRANIA0wDUANUA1gDXANgA2QDaANsA3ADdAN4A3wDgAOEA4gDjAOQA5QDmAOcA6ADpAOoA6wDsAO0A7gDvAPAA8QDyAPMA9AD1APYA9wD4APkA+gD7APwA/QD+AP8AAAEBAQIBAwEEAQUBBgEHAQgBCQEKAQsBDAENAQ4BDwEQAREBEgETARQBFQEWARcBGAEZARoBGwEcAR0BHgEfASABIQEiASMBJAElASYBJwEoASkBKgErASwBLQEuAS8BMAExATIBMwE0ATUBNgE3ATgBOQE6ATsBPAE9AT4BPwFAAUEBQgFDAUQBRQFGAUcBSAFJAUoBSwFMAU0BTgFPAVABUQFSAVMBVAFVAVYBVwFYAVkBWgFbAVwBXQFeAV8BYAFhAWIBYwFkAWUBZgFnAWgBaQFqAWsBbAFtAQ==",
          "dtype": "i2"
         },
         "y": {
          "bdata": "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",
          "dtype": "f8"
         }
        },
        {
         "line": {
          "width": 1
         },
         "mode": "lines",
         "name": "2019",
         "showlegend": true,
         "type": "scatter",
         "x": {
          "bdata": "AQACAAMABAAFAAYABwAIAAkACgALAAwADQAOAA8AEAARABIAEwAUABUAFgAXABgAGQAaABsAHAAdAB4AHwAgACEAIgAjACQAJQAmACcAKAApACoAKwAsAC0ALgAvADAAMQAyADMANAA1ADYANwA4ADkAOgA7ADwAPQA+AD8AQABBAEIAQwBEAEUARgBHAEgASQBKAEsATABNAE4ATwBQAFEAUgBTAFQAVQBWAFcAWABZAFoAWwBcAF0AXgBfAGAAYQBiAGMAZABlAGYAZwBoAGkAagBrAGwAbQBuAG8AcABxAHIAcwB0AHUAdgB3AHgAeQB6AHsAfAB9AH4AfwCAAIEAggCDAIQAhQCGAIcAiACJAIoAiwCMAI0AjgCPAJAAkQCSAJMAlACVAJYAlwCYAJkAmgCbAJwAnQCeAJ8AoAChAKIAowCkAKUApgCnAKgAqQCqAKsArACtAK4ArwCwALEAsgCzALQAtQC2ALcAuAC5ALoAuwC8AL0AvgC/AMAAwQDCAMMAxADFAMYAxwDIAMkAygDLAMwAzQDOAM8A0ADRANIA0wDUANUA1gDXANgA2QDaANsA3ADdAN4A3wDgAOEA4gDjAOQA5QDmAOcA6ADpAOoA6wDsAO0A7gDvAPAA8QDyAPMA9AD1APYA9wD4APkA+gD7APwA/QD+AP8AAAEBAQIBAwEEAQUBBgEHAQgBCQEKAQsBDAENAQ4BDwEQAREBEgETARQBFQEWARcBGAEZARoBGwEcAR0BHgEfASABIQEiASMBJAElASYBJwEoASkBKgErASwBLQEuAS8BMAExATIBMwE0ATUBNgE3ATgBOQE6ATsBPAE9AT4BPwFAAUEBQgFDAUQBRQFGAUcBSAFJAUoBSwFMAU0BTgFPAVABUQFSAVMBVAFVAVYBVwFYAVkBWgFbAVwBXQFeAV8BYAFhAWIBYwFkAWUBZgFnAWgBaQFqAWsBbAFtAQ==",
          "dtype": "i2"
         },
         "y": {
          "bdata": "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",
          "dtype": "f8"
         }
        },
        {
         "line": {
          "width": 1
         },
         "mode": "lines",
         "name": "2020",
         "showlegend": true,
         "type": "scatter",
         "x": {
          "bdata": "AQACAAMABAAFAAYABwAIAAkACgALAAwADQAOAA8AEAARABIAEwAUABUAFgAXABgAGQAaABsAHAAdAB4AHwAgACEAIgAjACQAJQAmACcAKAApACoAKwAsAC0ALgAvADAAMQAyADMANAA1ADYANwA4ADkAOgA7ADwAPQA+AD8AQABBAEIAQwBEAEUARgBHAEgASQBKAEsATABNAE4ATwBQAFEAUgBTAFQAVQBWAFcAWABZAFoAWwBcAF0AXgBfAGAAYQBiAGMAZABlAGYAZwBoAGkAagBrAGwAbQBuAG8AcABxAHIAcwB0AHUAdgB3AHgAeQB6AHsAfAB9AH4AfwCAAIEAggCDAIQAhQCGAIcAiACJAIoAiwCMAI0AjgCPAJAAkQCSAJMAlACVAJYAlwCYAJkAmgCbAJwAnQCeAJ8AoAChAKIAowCkAKUApgCnAKgAqQCqAKsArACtAK4ArwCwALEAsgCzALQAtQC2ALcAuAC5ALoAuwC8AL0AvgC/AMAAwQDCAMMAxADFAMYAxwDIAMkAygDLAMwAzQDOAM8A0ADRANIA0wDUANUA1gDXANgA2QDaANsA3ADdAN4A3wDgAOEA4gDjAOQA5QDmAOcA6ADpAOoA6wDsAO0A7gDvAPAA8QDyAPMA9AD1APYA9wD4APkA+gD7APwA/QD+AP8AAAEBAQIBAwEEAQUBBgEHAQgBCQEKAQsBDAENAQ4BDwEQAREBEgETARQBFQEWARcBGAEZARoBGwEcAR0BHgEfASABIQEiASMBJAElASYBJwEoASkBKgErASwBLQEuAS8BMAExATIBMwE0ATUBNgE3ATgBOQE6ATsBPAE9AT4BPwFAAUEBQgFDAUQBRQFGAUcBSAFJAUoBSwFMAU0BTgFPAVABUQFSAVMBVAFVAVYBVwFYAVkBWgFbAVwBXQFeAV8BYAFhAWIBYwFkAWUBZgFnAWgBaQFqAWsBbAFtAQ==",
          "dtype": "i2"
         },
         "y": {
          "bdata": "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",
          "dtype": "f8"
         }
        },
        {
         "line": {
          "color": "black",
          "width": 3
         },
         "mode": "lines",
         "name": "Climatology",
         "type": "scatter",
         "x": {
          "bdata": "AQACAAMABAAFAAYABwAIAAkACgALAAwADQAOAA8AEAARABIAEwAUABUAFgAXABgAGQAaABsAHAAdAB4AHwAgACEAIgAjACQAJQAmACcAKAApACoAKwAsAC0ALgAvADAAMQAyADMANAA1ADYANwA4ADkAOgA7ADwAPQA+AD8AQABBAEIAQwBEAEUARgBHAEgASQBKAEsATABNAE4ATwBQAFEAUgBTAFQAVQBWAFcAWABZAFoAWwBcAF0AXgBfAGAAYQBiAGMAZABlAGYAZwBoAGkAagBrAGwAbQBuAG8AcABxAHIAcwB0AHUAdgB3AHgAeQB6AHsAfAB9AH4AfwCAAIEAggCDAIQAhQCGAIcAiACJAIoAiwCMAI0AjgCPAJAAkQCSAJMAlACVAJYAlwCYAJkAmgCbAJwAnQCeAJ8AoAChAKIAowCkAKUApgCnAKgAqQCqAKsArACtAK4ArwCwALEAsgCzALQAtQC2ALcAuAC5ALoAuwC8AL0AvgC/AMAAwQDCAMMAxADFAMYAxwDIAMkAygDLAMwAzQDOAM8A0ADRANIA0wDUANUA1gDXANgA2QDaANsA3ADdAN4A3wDgAOEA4gDjAOQA5QDmAOcA6ADpAOoA6wDsAO0A7gDvAPAA8QDyAPMA9AD1APYA9wD4APkA+gD7APwA/QD+AP8AAAEBAQIBAwEEAQUBBgEHAQgBCQEKAQsBDAENAQ4BDwEQAREBEgETARQBFQEWARcBGAEZARoBGwEcAR0BHgEfASABIQEiASMBJAElASYBJwEoASkBKgErASwBLQEuAS8BMAExATIBMwE0ATUBNgE3ATgBOQE6ATsBPAE9AT4BPwFAAUEBQgFDAUQBRQFGAUcBSAFJAUoBSwFMAU0BTgFPAVABUQFSAVMBVAFVAVYBVwFYAVkBWgFbAVwBXQFeAV8BYAFhAWIBYwFkAWUBZgFnAWgBaQFqAWsBbAFtAQ==",
          "dtype": "i2"
         },
         "y": {
          "bdata": "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",
          "dtype": "f8"
         }
        },
        {
         "line": {
          "color": "gray",
          "width": 2
         },
         "mode": "lines",
         "name": "Median",
         "type": "scatter",
         "x": {
          "bdata": "AQACAAMABAAFAAYABwAIAAkACgALAAwADQAOAA8AEAARABIAEwAUABUAFgAXABgAGQAaABsAHAAdAB4AHwAgACEAIgAjACQAJQAmACcAKAApACoAKwAsAC0ALgAvADAAMQAyADMANAA1ADYANwA4ADkAOgA7ADwAPQA+AD8AQABBAEIAQwBEAEUARgBHAEgASQBKAEsATABNAE4ATwBQAFEAUgBTAFQAVQBWAFcAWABZAFoAWwBcAF0AXgBfAGAAYQBiAGMAZABlAGYAZwBoAGkAagBrAGwAbQBuAG8AcABxAHIAcwB0AHUAdgB3AHgAeQB6AHsAfAB9AH4AfwCAAIEAggCDAIQAhQCGAIcAiACJAIoAiwCMAI0AjgCPAJAAkQCSAJMAlACVAJYAlwCYAJkAmgCbAJwAnQCeAJ8AoAChAKIAowCkAKUApgCnAKgAqQCqAKsArACtAK4ArwCwALEAsgCzALQAtQC2ALcAuAC5ALoAuwC8AL0AvgC/AMAAwQDCAMMAxADFAMYAxwDIAMkAygDLAMwAzQDOAM8A0ADRANIA0wDUANUA1gDXANgA2QDaANsA3ADdAN4A3wDgAOEA4gDjAOQA5QDmAOcA6ADpAOoA6wDsAO0A7gDvAPAA8QDyAPMA9AD1APYA9wD4APkA+gD7APwA/QD+AP8AAAEBAQIBAwEEAQUBBgEHAQgBCQEKAQsBDAENAQ4BDwEQAREBEgETARQBFQEWARcBGAEZARoBGwEcAR0BHgEfASABIQEiASMBJAElASYBJwEoASkBKgErASwBLQEuAS8BMAExATIBMwE0ATUBNgE3ATgBOQE6ATsBPAE9AT4BPwFAAUEBQgFDAUQBRQFGAUcBSAFJAUoBSwFMAU0BTgFPAVABUQFSAVMBVAFVAVYBVwFYAVkBWgFbAVwBXQFeAV8BYAFhAWIBYwFkAWUBZgFnAWgBaQFqAWsBbAFtAQ==",
          "dtype": "i2"
         },
         "y": {
          "bdata": "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",
          "dtype": "f8"
         }
        }
       ],
       "layout": {
        "template": {
         "data": {
          "bar": [
           {
            "error_x": {
             "color": "#2a3f5f"
            },
            "error_y": {
             "color": "#2a3f5f"
            },
            "marker": {
             "line": {
              "color": "white",
              "width": 0.5
             },
             "pattern": {
              "fillmode": "overlay",
              "size": 10,
              "solidity": 0.2
             }
            },
            "type": "bar"
           }
          ],
          "barpolar": [
           {
            "marker": {
             "line": {
              "color": "white",
              "width": 0.5
             },
             "pattern": {
              "fillmode": "overlay",
              "size": 10,
              "solidity": 0.2
             }
            },
            "type": "barpolar"
           }
          ],
          "carpet": [
           {
            "aaxis": {
             "endlinecolor": "#2a3f5f",
             "gridcolor": "#C8D4E3",
             "linecolor": "#C8D4E3",
             "minorgridcolor": "#C8D4E3",
             "startlinecolor": "#2a3f5f"
            },
            "baxis": {
             "endlinecolor": "#2a3f5f",
             "gridcolor": "#C8D4E3",
             "linecolor": "#C8D4E3",
             "minorgridcolor": "#C8D4E3",
             "startlinecolor": "#2a3f5f"
            },
            "type": "carpet"
           }
          ],
          "choropleth": [
           {
            "colorbar": {
             "outlinewidth": 0,
             "ticks": ""
            },
            "type": "choropleth"
           }
          ],
          "contour": [
           {
            "colorbar": {
             "outlinewidth": 0,
             "ticks": ""
            },
            "colorscale": [
             [
              0,
              "#0d0887"
             ],
             [
              0.1111111111111111,
              "#46039f"
             ],
             [
              0.2222222222222222,
              "#7201a8"
             ],
             [
              0.3333333333333333,
              "#9c179e"
             ],
             [
              0.4444444444444444,
              "#bd3786"
             ],
             [
              0.5555555555555556,
              "#d8576b"
             ],
             [
              0.6666666666666666,
              "#ed7953"
             ],
             [
              0.7777777777777778,
              "#fb9f3a"
             ],
             [
              0.8888888888888888,
              "#fdca26"
             ],
             [
              1,
              "#f0f921"
             ]
            ],
            "type": "contour"
           }
          ],
          "contourcarpet": [
           {
            "colorbar": {
             "outlinewidth": 0,
             "ticks": ""
            },
            "type": "contourcarpet"
           }
          ],
          "heatmap": [
           {
            "colorbar": {
             "outlinewidth": 0,
             "ticks": ""
            },
            "colorscale": [
             [
              0,
              "#0d0887"
             ],
             [
              0.1111111111111111,
              "#46039f"
             ],
             [
              0.2222222222222222,
              "#7201a8"
             ],
             [
              0.3333333333333333,
              "#9c179e"
             ],
             [
              0.4444444444444444,
              "#bd3786"
             ],
             [
              0.5555555555555556,
              "#d8576b"
             ],
             [
              0.6666666666666666,
              "#ed7953"
             ],
             [
              0.7777777777777778,
              "#fb9f3a"
             ],
             [
              0.8888888888888888,
              "#fdca26"
             ],
             [
              1,
              "#f0f921"
             ]
            ],
            "type": "heatmap"
           }
          ],
          "histogram": [
           {
            "marker": {
             "pattern": {
              "fillmode": "overlay",
              "size": 10,
              "solidity": 0.2
             }
            },
            "type": "histogram"
           }
          ],
          "histogram2d": [
           {
            "colorbar": {
             "outlinewidth": 0,
             "ticks": ""
            },
            "colorscale": [
             [
              0,
              "#0d0887"
             ],
             [
              0.1111111111111111,
              "#46039f"
             ],
             [
              0.2222222222222222,
              "#7201a8"
             ],
             [
              0.3333333333333333,
              "#9c179e"
             ],
             [
              0.4444444444444444,
              "#bd3786"
             ],
             [
              0.5555555555555556,
              "#d8576b"
             ],
             [
              0.6666666666666666,
              "#ed7953"
             ],
             [
              0.7777777777777778,
              "#fb9f3a"
             ],
             [
              0.8888888888888888,
              "#fdca26"
             ],
             [
              1,
              "#f0f921"
             ]
            ],
            "type": "histogram2d"
           }
          ],
          "histogram2dcontour": [
           {
            "colorbar": {
             "outlinewidth": 0,
             "ticks": ""
            },
            "colorscale": [
             [
              0,
              "#0d0887"
             ],
             [
              0.1111111111111111,
              "#46039f"
             ],
             [
              0.2222222222222222,
              "#7201a8"
             ],
             [
              0.3333333333333333,
              "#9c179e"
             ],
             [
              0.4444444444444444,
              "#bd3786"
             ],
             [
              0.5555555555555556,
              "#d8576b"
             ],
             [
              0.6666666666666666,
              "#ed7953"
             ],
             [
              0.7777777777777778,
              "#fb9f3a"
             ],
             [
              0.8888888888888888,
              "#fdca26"
             ],
             [
              1,
              "#f0f921"
             ]
            ],
            "type": "histogram2dcontour"
           }
          ],
          "mesh3d": [
           {
            "colorbar": {
             "outlinewidth": 0,
             "ticks": ""
            },
            "type": "mesh3d"
           }
          ],
          "parcoords": [
           {
            "line": {
             "colorbar": {
              "outlinewidth": 0,
              "ticks": ""
             }
            },
            "type": "parcoords"
           }
          ],
          "pie": [
           {
            "automargin": true,
            "type": "pie"
           }
          ],
          "scatter": [
           {
            "fillpattern": {
             "fillmode": "overlay",
             "size": 10,
             "solidity": 0.2
            },
            "type": "scatter"
           }
          ],
          "scatter3d": [
           {
            "line": {
             "colorbar": {
              "outlinewidth": 0,
              "ticks": ""
             }
            },
            "marker": {
             "colorbar": {
              "outlinewidth": 0,
              "ticks": ""
             }
            },
            "type": "scatter3d"
           }
          ],
          "scattercarpet": [
           {
            "marker": {
             "colorbar": {
              "outlinewidth": 0,
              "ticks": ""
             }
            },
            "type": "scattercarpet"
           }
          ],
          "scattergeo": [
           {
            "marker": {
             "colorbar": {
              "outlinewidth": 0,
              "ticks": ""
             }
            },
            "type": "scattergeo"
           }
          ],
          "scattergl": [
           {
            "marker": {
             "colorbar": {
              "outlinewidth": 0,
              "ticks": ""
             }
            },
            "type": "scattergl"
           }
          ],
          "scattermap": [
           {
            "marker": {
             "colorbar": {
              "outlinewidth": 0,
              "ticks": ""
             }
            },
            "type": "scattermap"
           }
          ],
          "scattermapbox": [
           {
            "marker": {
             "colorbar": {
              "outlinewidth": 0,
              "ticks": ""
             }
            },
            "type": "scattermapbox"
           }
          ],
          "scatterpolar": [
           {
            "marker": {
             "colorbar": {
              "outlinewidth": 0,
              "ticks": ""
             }
            },
            "type": "scatterpolar"
           }
          ],
          "scatterpolargl": [
           {
            "marker": {
             "colorbar": {
              "outlinewidth": 0,
              "ticks": ""
             }
            },
            "type": "scatterpolargl"
           }
          ],
          "scatterternary": [
           {
            "marker": {
             "colorbar": {
              "outlinewidth": 0,
              "ticks": ""
             }
            },
            "type": "scatterternary"
           }
          ],
          "surface": [
           {
            "colorbar": {
             "outlinewidth": 0,
             "ticks": ""
            },
            "colorscale": [
             [
              0,
              "#0d0887"
             ],
             [
              0.1111111111111111,
              "#46039f"
             ],
             [
              0.2222222222222222,
              "#7201a8"
             ],
             [
              0.3333333333333333,
              "#9c179e"
             ],
             [
              0.4444444444444444,
              "#bd3786"
             ],
             [
              0.5555555555555556,
              "#d8576b"
             ],
             [
              0.6666666666666666,
              "#ed7953"
             ],
             [
              0.7777777777777778,
              "#fb9f3a"
             ],
             [
              0.8888888888888888,
              "#fdca26"
             ],
             [
              1,
              "#f0f921"
             ]
            ],
            "type": "surface"
           }
          ],
          "table": [
           {
            "cells": {
             "fill": {
              "color": "#EBF0F8"
             },
             "line": {
              "color": "white"
             }
            },
            "header": {
             "fill": {
              "color": "#C8D4E3"
             },
             "line": {
              "color": "white"
             }
            },
            "type": "table"
           }
          ]
         },
         "layout": {
          "annotationdefaults": {
           "arrowcolor": "#2a3f5f",
           "arrowhead": 0,
           "arrowwidth": 1
          },
          "autotypenumbers": "strict",
          "coloraxis": {
           "colorbar": {
            "outlinewidth": 0,
            "ticks": ""
           }
          },
          "colorscale": {
           "diverging": [
            [
             0,
             "#8e0152"
            ],
            [
             0.1,
             "#c51b7d"
            ],
            [
             0.2,
             "#de77ae"
            ],
            [
             0.3,
             "#f1b6da"
            ],
            [
             0.4,
             "#fde0ef"
            ],
            [
             0.5,
             "#f7f7f7"
            ],
            [
             0.6,
             "#e6f5d0"
            ],
            [
             0.7,
             "#b8e186"
            ],
            [
             0.8,
             "#7fbc41"
            ],
            [
             0.9,
             "#4d9221"
            ],
            [
             1,
             "#276419"
            ]
           ],
           "sequential": [
            [
             0,
             "#0d0887"
            ],
            [
             0.1111111111111111,
             "#46039f"
            ],
            [
             0.2222222222222222,
             "#7201a8"
            ],
            [
             0.3333333333333333,
             "#9c179e"
            ],
            [
             0.4444444444444444,
             "#bd3786"
            ],
            [
             0.5555555555555556,
             "#d8576b"
            ],
            [
             0.6666666666666666,
             "#ed7953"
            ],
            [
             0.7777777777777778,
             "#fb9f3a"
            ],
            [
             0.8888888888888888,
             "#fdca26"
            ],
            [
             1,
             "#f0f921"
            ]
           ],
           "sequentialminus": [
            [
             0,
             "#0d0887"
            ],
            [
             0.1111111111111111,
             "#46039f"
            ],
            [
             0.2222222222222222,
             "#7201a8"
            ],
            [
             0.3333333333333333,
             "#9c179e"
            ],
            [
             0.4444444444444444,
             "#bd3786"
            ],
            [
             0.5555555555555556,
             "#d8576b"
            ],
            [
             0.6666666666666666,
             "#ed7953"
            ],
            [
             0.7777777777777778,
             "#fb9f3a"
            ],
            [
             0.8888888888888888,
             "#fdca26"
            ],
            [
             1,
             "#f0f921"
            ]
           ]
          },
          "colorway": [
           "#636efa",
           "#EF553B",
           "#00cc96",
           "#ab63fa",
           "#FFA15A",
           "#19d3f3",
           "#FF6692",
           "#B6E880",
           "#FF97FF",
           "#FECB52"
          ],
          "font": {
           "color": "#2a3f5f"
          },
          "geo": {
           "bgcolor": "white",
           "lakecolor": "white",
           "landcolor": "white",
           "showlakes": true,
           "showland": true,
           "subunitcolor": "#C8D4E3"
          },
          "hoverlabel": {
           "align": "left"
          },
          "hovermode": "closest",
          "mapbox": {
           "style": "light"
          },
          "paper_bgcolor": "white",
          "plot_bgcolor": "white",
          "polar": {
           "angularaxis": {
            "gridcolor": "#EBF0F8",
            "linecolor": "#EBF0F8",
            "ticks": ""
           },
           "bgcolor": "white",
           "radialaxis": {
            "gridcolor": "#EBF0F8",
            "linecolor": "#EBF0F8",
            "ticks": ""
           }
          },
          "scene": {
           "xaxis": {
            "backgroundcolor": "white",
            "gridcolor": "#DFE8F3",
            "gridwidth": 2,
            "linecolor": "#EBF0F8",
            "showbackground": true,
            "ticks": "",
            "zerolinecolor": "#EBF0F8"
           },
           "yaxis": {
            "backgroundcolor": "white",
            "gridcolor": "#DFE8F3",
            "gridwidth": 2,
            "linecolor": "#EBF0F8",
            "showbackground": true,
            "ticks": "",
            "zerolinecolor": "#EBF0F8"
           },
           "zaxis": {
            "backgroundcolor": "white",
            "gridcolor": "#DFE8F3",
            "gridwidth": 2,
            "linecolor": "#EBF0F8",
            "showbackground": true,
            "ticks": "",
            "zerolinecolor": "#EBF0F8"
           }
          },
          "shapedefaults": {
           "line": {
            "color": "#2a3f5f"
           }
          },
          "ternary": {
           "aaxis": {
            "gridcolor": "#DFE8F3",
            "linecolor": "#A2B1C6",
            "ticks": ""
           },
           "baxis": {
            "gridcolor": "#DFE8F3",
            "linecolor": "#A2B1C6",
            "ticks": ""
           },
           "bgcolor": "white",
           "caxis": {
            "gridcolor": "#DFE8F3",
            "linecolor": "#A2B1C6",
            "ticks": ""
           }
          },
          "title": {
           "x": 0.05
          },
          "xaxis": {
           "automargin": true,
           "gridcolor": "#EBF0F8",
           "linecolor": "#EBF0F8",
           "ticks": "",
           "title": {
            "standoff": 15
           },
           "zerolinecolor": "#EBF0F8",
           "zerolinewidth": 2
          },
          "yaxis": {
           "automargin": true,
           "gridcolor": "#EBF0F8",
           "linecolor": "#EBF0F8",
           "ticks": "",
           "title": {
            "standoff": 15
           },
           "zerolinecolor": "#EBF0F8",
           "zerolinewidth": 2
          }
         }
        },
        "title": {
         "text": "Daily Net Primary Production Time Series (1998-2020) and Climatology at PAPA"
        },
        "xaxis": {
         "title": {
          "text": "Day of Year"
         }
        },
        "yaxis": {
         "title": {
          "text": "Net Primary Production (mg m-2 day-1)"
         }
        }
       }
      }
     },
     "metadata": {},
     "output_type": "display_data"
    }
   ],
   "source": [
    "# Extract net primary production\n",
    "pp = ds_pp['npp']\n",
    "clim_pp = ds_clim_pp['npp']\n",
    "\n",
    "# assign day coordinate in pp\n",
    "# Extract MM-DD \n",
    "mmdd = pd.to_datetime(pp.time.values).strftime('%m-%d')\n",
    "# transform MM-DD in indice of day in year (1->365)\n",
    "day_noleap = pd.Series(mmdd).map(mmdd_to_day).values\n",
    "# add coord day\n",
    "pp = pp.assign_coords(day=(\"time\", day_noleap))\n",
    "\n",
    "# for clim \n",
    "day_of_year= np.arange(1,366)\n",
    "clim_pp= clim_pp.assign_coords(day_of_year=(\"day\", day_of_year))\n",
    "\n",
    "#compute median\n",
    "median_pp = pp.groupby('day').median('time')\n",
    "\n",
    "#smooth median \n",
    "# Pad 15 days on each side cyclically\n",
    "pad_width = 15\n",
    "extended = xr.concat(\n",
    "    [median_pp.isel(day=slice(-pad_width, None)),  # wrap end -> beginning\n",
    "     median_pp,\n",
    "     median_pp.isel(day=slice(0, pad_width))],     # wrap beginning -> end\n",
    "    dim='day'\n",
    ")\n",
    "\n",
    "# Fix the 'day' coordinate (but for clarity)\n",
    "extended['day'] = np.arange(-pad_width, 365 + pad_width)\n",
    "\n",
    "# Apply the rolling mean\n",
    "smoothed = extended.rolling(day=30, center=True).mean()\n",
    "\n",
    "# Extract the center part (original days)\n",
    "median_pp_smooth = smoothed.sel(day=slice(1, 365))\n",
    "\n",
    "# Group by year\n",
    "years = pd.DatetimeIndex(pp.time.values).year.unique()\n",
    "\n",
    "fig = go.Figure()\n",
    "\n",
    "# Plot one line per year\n",
    "for year in years:\n",
    "    yearly_data = pp.sel(time=str(year))\n",
    "    fig.add_trace(go.Scatter(\n",
    "        x=yearly_data['day'],\n",
    "        y=yearly_data.values,\n",
    "        mode='lines',\n",
    "        line=dict(width=1),\n",
    "        name=str(year),\n",
    "        showlegend=True \n",
    "    ))\n",
    "\n",
    "# Plot climatology in black, thicker line\n",
    "fig.add_trace(go.Scatter(\n",
    "    x=clim_pp[\"day_of_year\"],\n",
    "    y=clim_pp.values,\n",
    "    mode='lines',\n",
    "    name='Climatology',\n",
    "    line=dict(color='black', width=3)\n",
    "))\n",
    "# Plot median\n",
    "fig.add_trace(go.Scatter(\n",
    "    x=median_pp_smooth.day,\n",
    "    y=median_pp_smooth.values,\n",
    "    mode='lines',\n",
    "    name='Median',\n",
    "    line=dict(color='gray', width=2)\n",
    "))\n",
    "fig.update_layout(\n",
    "    title='Daily Net Primary Production Time Series (1998-2020) and Climatology at PAPA',\n",
    "    xaxis_title='Day of Year',\n",
    "    yaxis_title='Net Primary Production (mg m-2 day-1)',\n",
    "    template='plotly_white'\n",
    ")\n",
    "\n",
    "fig.show()\n"
   ]
  },
  {
   "cell_type": "markdown",
   "id": "23b35877",
   "metadata": {},
   "source": [
    "## pH Forcing climatology "
   ]
  },
  {
   "cell_type": "code",
   "execution_count": 71,
   "id": "2cb7d6b8",
   "metadata": {},
   "outputs": [],
   "source": [
    "path_ph=\"/data/rd_exchange/amignot/CAREHEAT/OceanSODA_ETHZ-v2023.OCADS.01_1982-2022.nc\"\n",
    "ds_ph = xr.open_dataset(path_ph,engine='netcdf4')"
   ]
  },
  {
   "cell_type": "code",
   "execution_count": 72,
   "id": "6ef9cfce",
   "metadata": {},
   "outputs": [
    {
     "data": {
      "text/html": [
       "<div><svg style=\"position: absolute; width: 0; height: 0; overflow: hidden\">\n",
       "<defs>\n",
       "<symbol id=\"icon-database\" viewBox=\"0 0 32 32\">\n",
       "<path d=\"M16 0c-8.837 0-16 2.239-16 5v4c0 2.761 7.163 5 16 5s16-2.239 16-5v-4c0-2.761-7.163-5-16-5z\"></path>\n",
       "<path d=\"M16 17c-8.837 0-16-2.239-16-5v6c0 2.761 7.163 5 16 5s16-2.239 16-5v-6c0 2.761-7.163 5-16 5z\"></path>\n",
       "<path d=\"M16 26c-8.837 0-16-2.239-16-5v6c0 2.761 7.163 5 16 5s16-2.239 16-5v-6c0 2.761-7.163 5-16 5z\"></path>\n",
       "</symbol>\n",
       "<symbol id=\"icon-file-text2\" viewBox=\"0 0 32 32\">\n",
       "<path d=\"M28.681 7.159c-0.694-0.947-1.662-2.053-2.724-3.116s-2.169-2.030-3.116-2.724c-1.612-1.182-2.393-1.319-2.841-1.319h-15.5c-1.378 0-2.5 1.121-2.5 2.5v27c0 1.378 1.122 2.5 2.5 2.5h23c1.378 0 2.5-1.122 2.5-2.5v-19.5c0-0.448-0.137-1.23-1.319-2.841zM24.543 5.457c0.959 0.959 1.712 1.825 2.268 2.543h-4.811v-4.811c0.718 0.556 1.584 1.309 2.543 2.268zM28 29.5c0 0.271-0.229 0.5-0.5 0.5h-23c-0.271 0-0.5-0.229-0.5-0.5v-27c0-0.271 0.229-0.5 0.5-0.5 0 0 15.499-0 15.5 0v7c0 0.552 0.448 1 1 1h7v19.5z\"></path>\n",
       "<path d=\"M23 26h-14c-0.552 0-1-0.448-1-1s0.448-1 1-1h14c0.552 0 1 0.448 1 1s-0.448 1-1 1z\"></path>\n",
       "<path d=\"M23 22h-14c-0.552 0-1-0.448-1-1s0.448-1 1-1h14c0.552 0 1 0.448 1 1s-0.448 1-1 1z\"></path>\n",
       "<path d=\"M23 18h-14c-0.552 0-1-0.448-1-1s0.448-1 1-1h14c0.552 0 1 0.448 1 1s-0.448 1-1 1z\"></path>\n",
       "</symbol>\n",
       "</defs>\n",
       "</svg>\n",
       "<style>/* CSS stylesheet for displaying xarray objects in jupyterlab.\n",
       " *\n",
       " */\n",
       "\n",
       ":root {\n",
       "  --xr-font-color0: var(--jp-content-font-color0, rgba(0, 0, 0, 1));\n",
       "  --xr-font-color2: var(--jp-content-font-color2, rgba(0, 0, 0, 0.54));\n",
       "  --xr-font-color3: var(--jp-content-font-color3, rgba(0, 0, 0, 0.38));\n",
       "  --xr-border-color: var(--jp-border-color2, #e0e0e0);\n",
       "  --xr-disabled-color: var(--jp-layout-color3, #bdbdbd);\n",
       "  --xr-background-color: var(--jp-layout-color0, white);\n",
       "  --xr-background-color-row-even: var(--jp-layout-color1, white);\n",
       "  --xr-background-color-row-odd: var(--jp-layout-color2, #eeeeee);\n",
       "}\n",
       "\n",
       "html[theme=\"dark\"],\n",
       "html[data-theme=\"dark\"],\n",
       "body[data-theme=\"dark\"],\n",
       "body.vscode-dark {\n",
       "  --xr-font-color0: rgba(255, 255, 255, 1);\n",
       "  --xr-font-color2: rgba(255, 255, 255, 0.54);\n",
       "  --xr-font-color3: rgba(255, 255, 255, 0.38);\n",
       "  --xr-border-color: #1f1f1f;\n",
       "  --xr-disabled-color: #515151;\n",
       "  --xr-background-color: #111111;\n",
       "  --xr-background-color-row-even: #111111;\n",
       "  --xr-background-color-row-odd: #313131;\n",
       "}\n",
       "\n",
       ".xr-wrap {\n",
       "  display: block !important;\n",
       "  min-width: 300px;\n",
       "  max-width: 700px;\n",
       "}\n",
       "\n",
       ".xr-text-repr-fallback {\n",
       "  /* fallback to plain text repr when CSS is not injected (untrusted notebook) */\n",
       "  display: none;\n",
       "}\n",
       "\n",
       ".xr-header {\n",
       "  padding-top: 6px;\n",
       "  padding-bottom: 6px;\n",
       "  margin-bottom: 4px;\n",
       "  border-bottom: solid 1px var(--xr-border-color);\n",
       "}\n",
       "\n",
       ".xr-header > div,\n",
       ".xr-header > ul {\n",
       "  display: inline;\n",
       "  margin-top: 0;\n",
       "  margin-bottom: 0;\n",
       "}\n",
       "\n",
       ".xr-obj-type,\n",
       ".xr-array-name {\n",
       "  margin-left: 2px;\n",
       "  margin-right: 10px;\n",
       "}\n",
       "\n",
       ".xr-obj-type {\n",
       "  color: var(--xr-font-color2);\n",
       "}\n",
       "\n",
       ".xr-sections {\n",
       "  padding-left: 0 !important;\n",
       "  display: grid;\n",
       "  grid-template-columns: 150px auto auto 1fr 0 20px 0 20px;\n",
       "}\n",
       "\n",
       ".xr-section-item {\n",
       "  display: contents;\n",
       "}\n",
       "\n",
       ".xr-section-item input {\n",
       "  display: inline-block;\n",
       "  opacity: 0;\n",
       "  height: 0;\n",
       "}\n",
       "\n",
       ".xr-section-item input + label {\n",
       "  color: var(--xr-disabled-color);\n",
       "}\n",
       "\n",
       ".xr-section-item input:enabled + label {\n",
       "  cursor: pointer;\n",
       "  color: var(--xr-font-color2);\n",
       "}\n",
       "\n",
       ".xr-section-item input:focus + label {\n",
       "  border: 2px solid var(--xr-font-color0);\n",
       "}\n",
       "\n",
       ".xr-section-item input:enabled + label:hover {\n",
       "  color: var(--xr-font-color0);\n",
       "}\n",
       "\n",
       ".xr-section-summary {\n",
       "  grid-column: 1;\n",
       "  color: var(--xr-font-color2);\n",
       "  font-weight: 500;\n",
       "}\n",
       "\n",
       ".xr-section-summary > span {\n",
       "  display: inline-block;\n",
       "  padding-left: 0.5em;\n",
       "}\n",
       "\n",
       ".xr-section-summary-in:disabled + label {\n",
       "  color: var(--xr-font-color2);\n",
       "}\n",
       "\n",
       ".xr-section-summary-in + label:before {\n",
       "  display: inline-block;\n",
       "  content: \"►\";\n",
       "  font-size: 11px;\n",
       "  width: 15px;\n",
       "  text-align: center;\n",
       "}\n",
       "\n",
       ".xr-section-summary-in:disabled + label:before {\n",
       "  color: var(--xr-disabled-color);\n",
       "}\n",
       "\n",
       ".xr-section-summary-in:checked + label:before {\n",
       "  content: \"▼\";\n",
       "}\n",
       "\n",
       ".xr-section-summary-in:checked + label > span {\n",
       "  display: none;\n",
       "}\n",
       "\n",
       ".xr-section-summary,\n",
       ".xr-section-inline-details {\n",
       "  padding-top: 4px;\n",
       "  padding-bottom: 4px;\n",
       "}\n",
       "\n",
       ".xr-section-inline-details {\n",
       "  grid-column: 2 / -1;\n",
       "}\n",
       "\n",
       ".xr-section-details {\n",
       "  display: none;\n",
       "  grid-column: 1 / -1;\n",
       "  margin-bottom: 5px;\n",
       "}\n",
       "\n",
       ".xr-section-summary-in:checked ~ .xr-section-details {\n",
       "  display: contents;\n",
       "}\n",
       "\n",
       ".xr-array-wrap {\n",
       "  grid-column: 1 / -1;\n",
       "  display: grid;\n",
       "  grid-template-columns: 20px auto;\n",
       "}\n",
       "\n",
       ".xr-array-wrap > label {\n",
       "  grid-column: 1;\n",
       "  vertical-align: top;\n",
       "}\n",
       "\n",
       ".xr-preview {\n",
       "  color: var(--xr-font-color3);\n",
       "}\n",
       "\n",
       ".xr-array-preview,\n",
       ".xr-array-data {\n",
       "  padding: 0 5px !important;\n",
       "  grid-column: 2;\n",
       "}\n",
       "\n",
       ".xr-array-data,\n",
       ".xr-array-in:checked ~ .xr-array-preview {\n",
       "  display: none;\n",
       "}\n",
       "\n",
       ".xr-array-in:checked ~ .xr-array-data,\n",
       ".xr-array-preview {\n",
       "  display: inline-block;\n",
       "}\n",
       "\n",
       ".xr-dim-list {\n",
       "  display: inline-block !important;\n",
       "  list-style: none;\n",
       "  padding: 0 !important;\n",
       "  margin: 0;\n",
       "}\n",
       "\n",
       ".xr-dim-list li {\n",
       "  display: inline-block;\n",
       "  padding: 0;\n",
       "  margin: 0;\n",
       "}\n",
       "\n",
       ".xr-dim-list:before {\n",
       "  content: \"(\";\n",
       "}\n",
       "\n",
       ".xr-dim-list:after {\n",
       "  content: \")\";\n",
       "}\n",
       "\n",
       ".xr-dim-list li:not(:last-child):after {\n",
       "  content: \",\";\n",
       "  padding-right: 5px;\n",
       "}\n",
       "\n",
       ".xr-has-index {\n",
       "  font-weight: bold;\n",
       "}\n",
       "\n",
       ".xr-var-list,\n",
       ".xr-var-item {\n",
       "  display: contents;\n",
       "}\n",
       "\n",
       ".xr-var-item > div,\n",
       ".xr-var-item label,\n",
       ".xr-var-item > .xr-var-name span {\n",
       "  background-color: var(--xr-background-color-row-even);\n",
       "  margin-bottom: 0;\n",
       "}\n",
       "\n",
       ".xr-var-item > .xr-var-name:hover span {\n",
       "  padding-right: 5px;\n",
       "}\n",
       "\n",
       ".xr-var-list > li:nth-child(odd) > div,\n",
       ".xr-var-list > li:nth-child(odd) > label,\n",
       ".xr-var-list > li:nth-child(odd) > .xr-var-name span {\n",
       "  background-color: var(--xr-background-color-row-odd);\n",
       "}\n",
       "\n",
       ".xr-var-name {\n",
       "  grid-column: 1;\n",
       "}\n",
       "\n",
       ".xr-var-dims {\n",
       "  grid-column: 2;\n",
       "}\n",
       "\n",
       ".xr-var-dtype {\n",
       "  grid-column: 3;\n",
       "  text-align: right;\n",
       "  color: var(--xr-font-color2);\n",
       "}\n",
       "\n",
       ".xr-var-preview {\n",
       "  grid-column: 4;\n",
       "}\n",
       "\n",
       ".xr-index-preview {\n",
       "  grid-column: 2 / 5;\n",
       "  color: var(--xr-font-color2);\n",
       "}\n",
       "\n",
       ".xr-var-name,\n",
       ".xr-var-dims,\n",
       ".xr-var-dtype,\n",
       ".xr-preview,\n",
       ".xr-attrs dt {\n",
       "  white-space: nowrap;\n",
       "  overflow: hidden;\n",
       "  text-overflow: ellipsis;\n",
       "  padding-right: 10px;\n",
       "}\n",
       "\n",
       ".xr-var-name:hover,\n",
       ".xr-var-dims:hover,\n",
       ".xr-var-dtype:hover,\n",
       ".xr-attrs dt:hover {\n",
       "  overflow: visible;\n",
       "  width: auto;\n",
       "  z-index: 1;\n",
       "}\n",
       "\n",
       ".xr-var-attrs,\n",
       ".xr-var-data,\n",
       ".xr-index-data {\n",
       "  display: none;\n",
       "  background-color: var(--xr-background-color) !important;\n",
       "  padding-bottom: 5px !important;\n",
       "}\n",
       "\n",
       ".xr-var-attrs-in:checked ~ .xr-var-attrs,\n",
       ".xr-var-data-in:checked ~ .xr-var-data,\n",
       ".xr-index-data-in:checked ~ .xr-index-data {\n",
       "  display: block;\n",
       "}\n",
       "\n",
       ".xr-var-data > table {\n",
       "  float: right;\n",
       "}\n",
       "\n",
       ".xr-var-name span,\n",
       ".xr-var-data,\n",
       ".xr-index-name div,\n",
       ".xr-index-data,\n",
       ".xr-attrs {\n",
       "  padding-left: 25px !important;\n",
       "}\n",
       "\n",
       ".xr-attrs,\n",
       ".xr-var-attrs,\n",
       ".xr-var-data,\n",
       ".xr-index-data {\n",
       "  grid-column: 1 / -1;\n",
       "}\n",
       "\n",
       "dl.xr-attrs {\n",
       "  padding: 0;\n",
       "  margin: 0;\n",
       "  display: grid;\n",
       "  grid-template-columns: 125px auto;\n",
       "}\n",
       "\n",
       ".xr-attrs dt,\n",
       ".xr-attrs dd {\n",
       "  padding: 0;\n",
       "  margin: 0;\n",
       "  float: left;\n",
       "  padding-right: 10px;\n",
       "  width: auto;\n",
       "}\n",
       "\n",
       ".xr-attrs dt {\n",
       "  font-weight: normal;\n",
       "  grid-column: 1;\n",
       "}\n",
       "\n",
       ".xr-attrs dt:hover span {\n",
       "  display: inline-block;\n",
       "  background: var(--xr-background-color);\n",
       "  padding-right: 10px;\n",
       "}\n",
       "\n",
       ".xr-attrs dd {\n",
       "  grid-column: 2;\n",
       "  white-space: pre-wrap;\n",
       "  word-break: break-all;\n",
       "}\n",
       "\n",
       ".xr-icon-database,\n",
       ".xr-icon-file-text2,\n",
       ".xr-no-icon {\n",
       "  display: inline-block;\n",
       "  vertical-align: middle;\n",
       "  width: 1em;\n",
       "  height: 1.5em !important;\n",
       "  stroke-width: 0;\n",
       "  stroke: currentColor;\n",
       "  fill: currentColor;\n",
       "}\n",
       "</style><pre class='xr-text-repr-fallback'>&lt;xarray.Dataset&gt; Size: 3GB\n",
       "Dimensions:          (time: 492, lat: 180, lon: 360, region: 4)\n",
       "Coordinates:\n",
       "  * time             (time) datetime64[ns] 4kB 1982-01-15 ... 2022-12-15\n",
       "  * lat              (lat) float64 1kB -89.5 -88.5 -87.5 ... 87.5 88.5 89.5\n",
       "  * lon              (lon) float64 3kB -179.5 -178.5 -177.5 ... 178.5 179.5\n",
       "  * region           (region) &lt;U7 112B &#x27;global&#x27; &#x27;north&#x27; &#x27;tropics&#x27; &#x27;south&#x27;\n",
       "Data variables: (12/28)\n",
       "    talk             (time, lat, lon) float32 128MB ...\n",
       "    dic              (time, lat, lon) float32 128MB ...\n",
       "    spco2            (time, lat, lon) float32 128MB ...\n",
       "    sfco2            (time, lat, lon) float32 128MB ...\n",
       "    ph_total         (time, lat, lon) float32 128MB ...\n",
       "    ph_free          (time, lat, lon) float32 128MB ...\n",
       "    ...               ...\n",
       "    area             (lat, lon) float32 259kB ...\n",
       "    fgco2_reg        (region, time) float32 8kB ...\n",
       "    area_reg         (region) float32 16B ...\n",
       "    ice              (time, lat, lon) float32 128MB ...\n",
       "    kw               (time, lat, lon) float32 128MB ...\n",
       "    sol              (time, lat, lon) float32 128MB ...\n",
       "Attributes:\n",
       "    contact:      gregorl@ethz.ch\n",
       "    author:       Luke Gregor\n",
       "    institution:  ETH Zuerich\n",
       "    version:      v2023.GCB\n",
       "    date:         2023-06-26\n",
       "    description:  talk and pco2 (more accurately fco2) are estimated with two...\n",
       "    changelog:    v2021d: Extended from 1982-2020; Now using: OISSTv2.1 for S...\n",
       "    reference:    Gregor, L. and Gruber, N.: OceanSODA-ETHZ: A global gridded...\n",
       "    source:       https://doi.org/10.25921/m5wx-ja34\n",
       "    product:      OSETHZ-v2023.GCB</pre><div class='xr-wrap' style='display:none'><div class='xr-header'><div class='xr-obj-type'>xarray.Dataset</div></div><ul class='xr-sections'><li class='xr-section-item'><input id='section-e6d5ebdb-0b91-4d26-981c-65d2b2f82320' class='xr-section-summary-in' type='checkbox' disabled ><label for='section-e6d5ebdb-0b91-4d26-981c-65d2b2f82320' class='xr-section-summary'  title='Expand/collapse section'>Dimensions:</label><div class='xr-section-inline-details'><ul class='xr-dim-list'><li><span class='xr-has-index'>time</span>: 492</li><li><span class='xr-has-index'>lat</span>: 180</li><li><span class='xr-has-index'>lon</span>: 360</li><li><span class='xr-has-index'>region</span>: 4</li></ul></div><div class='xr-section-details'></div></li><li class='xr-section-item'><input id='section-68b2e6e5-d753-4216-8132-07bcf8e7d5e3' class='xr-section-summary-in' type='checkbox'  checked><label for='section-68b2e6e5-d753-4216-8132-07bcf8e7d5e3' class='xr-section-summary' >Coordinates: <span>(4)</span></label><div class='xr-section-inline-details'></div><div class='xr-section-details'><ul class='xr-var-list'><li class='xr-var-item'><div class='xr-var-name'><span class='xr-has-index'>time</span></div><div class='xr-var-dims'>(time)</div><div class='xr-var-dtype'>datetime64[ns]</div><div class='xr-var-preview xr-preview'>1982-01-15 ... 2022-12-15</div><input id='attrs-ec7fe337-2961-43f7-9234-24846df515d9' class='xr-var-attrs-in' type='checkbox' disabled><label for='attrs-ec7fe337-2961-43f7-9234-24846df515d9' title='Show/Hide attributes'><svg class='icon xr-icon-file-text2'><use xlink:href='#icon-file-text2'></use></svg></label><input id='data-763c539d-7c92-48f3-b60d-6c711718f405' class='xr-var-data-in' type='checkbox'><label for='data-763c539d-7c92-48f3-b60d-6c711718f405' title='Show/Hide data repr'><svg class='icon xr-icon-database'><use xlink:href='#icon-database'></use></svg></label><div class='xr-var-attrs'><dl class='xr-attrs'></dl></div><div class='xr-var-data'><pre>array([&#x27;1982-01-15T00:00:00.000000000&#x27;, &#x27;1982-02-15T00:00:00.000000000&#x27;,\n",
       "       &#x27;1982-03-15T00:00:00.000000000&#x27;, ..., &#x27;2022-10-15T00:00:00.000000000&#x27;,\n",
       "       &#x27;2022-11-15T00:00:00.000000000&#x27;, &#x27;2022-12-15T00:00:00.000000000&#x27;],\n",
       "      dtype=&#x27;datetime64[ns]&#x27;)</pre></div></li><li class='xr-var-item'><div class='xr-var-name'><span class='xr-has-index'>lat</span></div><div class='xr-var-dims'>(lat)</div><div class='xr-var-dtype'>float64</div><div class='xr-var-preview xr-preview'>-89.5 -88.5 -87.5 ... 88.5 89.5</div><input id='attrs-2eb394a9-7d70-4c05-a35a-0c53b9dbac60' class='xr-var-attrs-in' type='checkbox' disabled><label for='attrs-2eb394a9-7d70-4c05-a35a-0c53b9dbac60' title='Show/Hide attributes'><svg class='icon xr-icon-file-text2'><use xlink:href='#icon-file-text2'></use></svg></label><input id='data-11db3c50-d196-43ef-b35c-15f89b2238b2' class='xr-var-data-in' type='checkbox'><label for='data-11db3c50-d196-43ef-b35c-15f89b2238b2' title='Show/Hide data repr'><svg class='icon xr-icon-database'><use xlink:href='#icon-database'></use></svg></label><div class='xr-var-attrs'><dl class='xr-attrs'></dl></div><div class='xr-var-data'><pre>array([-89.5, -88.5, -87.5, -86.5, -85.5, -84.5, -83.5, -82.5, -81.5, -80.5,\n",
       "       -79.5, -78.5, -77.5, -76.5, -75.5, -74.5, -73.5, -72.5, -71.5, -70.5,\n",
       "       -69.5, -68.5, -67.5, -66.5, -65.5, -64.5, -63.5, -62.5, -61.5, -60.5,\n",
       "       -59.5, -58.5, -57.5, -56.5, -55.5, -54.5, -53.5, -52.5, -51.5, -50.5,\n",
       "       -49.5, -48.5, -47.5, -46.5, -45.5, -44.5, -43.5, -42.5, -41.5, -40.5,\n",
       "       -39.5, -38.5, -37.5, -36.5, -35.5, -34.5, -33.5, -32.5, -31.5, -30.5,\n",
       "       -29.5, -28.5, -27.5, -26.5, -25.5, -24.5, -23.5, -22.5, -21.5, -20.5,\n",
       "       -19.5, -18.5, -17.5, -16.5, -15.5, -14.5, -13.5, -12.5, -11.5, -10.5,\n",
       "        -9.5,  -8.5,  -7.5,  -6.5,  -5.5,  -4.5,  -3.5,  -2.5,  -1.5,  -0.5,\n",
       "         0.5,   1.5,   2.5,   3.5,   4.5,   5.5,   6.5,   7.5,   8.5,   9.5,\n",
       "        10.5,  11.5,  12.5,  13.5,  14.5,  15.5,  16.5,  17.5,  18.5,  19.5,\n",
       "        20.5,  21.5,  22.5,  23.5,  24.5,  25.5,  26.5,  27.5,  28.5,  29.5,\n",
       "        30.5,  31.5,  32.5,  33.5,  34.5,  35.5,  36.5,  37.5,  38.5,  39.5,\n",
       "        40.5,  41.5,  42.5,  43.5,  44.5,  45.5,  46.5,  47.5,  48.5,  49.5,\n",
       "        50.5,  51.5,  52.5,  53.5,  54.5,  55.5,  56.5,  57.5,  58.5,  59.5,\n",
       "        60.5,  61.5,  62.5,  63.5,  64.5,  65.5,  66.5,  67.5,  68.5,  69.5,\n",
       "        70.5,  71.5,  72.5,  73.5,  74.5,  75.5,  76.5,  77.5,  78.5,  79.5,\n",
       "        80.5,  81.5,  82.5,  83.5,  84.5,  85.5,  86.5,  87.5,  88.5,  89.5])</pre></div></li><li class='xr-var-item'><div class='xr-var-name'><span class='xr-has-index'>lon</span></div><div class='xr-var-dims'>(lon)</div><div class='xr-var-dtype'>float64</div><div class='xr-var-preview xr-preview'>-179.5 -178.5 ... 178.5 179.5</div><input id='attrs-a15e49ee-2f22-4611-832c-d4515d27cd2d' class='xr-var-attrs-in' type='checkbox' disabled><label for='attrs-a15e49ee-2f22-4611-832c-d4515d27cd2d' title='Show/Hide attributes'><svg class='icon xr-icon-file-text2'><use xlink:href='#icon-file-text2'></use></svg></label><input id='data-166f825e-e0bb-481e-ac84-1a33033bf3ad' class='xr-var-data-in' type='checkbox'><label for='data-166f825e-e0bb-481e-ac84-1a33033bf3ad' title='Show/Hide data repr'><svg class='icon xr-icon-database'><use xlink:href='#icon-database'></use></svg></label><div class='xr-var-attrs'><dl class='xr-attrs'></dl></div><div class='xr-var-data'><pre>array([-179.5, -178.5, -177.5, ...,  177.5,  178.5,  179.5])</pre></div></li><li class='xr-var-item'><div class='xr-var-name'><span class='xr-has-index'>region</span></div><div class='xr-var-dims'>(region)</div><div class='xr-var-dtype'>&lt;U7</div><div class='xr-var-preview xr-preview'>&#x27;global&#x27; &#x27;north&#x27; &#x27;tropics&#x27; &#x27;south&#x27;</div><input id='attrs-356134ec-b0f1-4c0f-8f8b-15bf82b2a1b2' class='xr-var-attrs-in' type='checkbox' ><label for='attrs-356134ec-b0f1-4c0f-8f8b-15bf82b2a1b2' title='Show/Hide attributes'><svg class='icon xr-icon-file-text2'><use xlink:href='#icon-file-text2'></use></svg></label><input id='data-926bbaf5-327f-46d7-9364-db89d4ad5272' class='xr-var-data-in' type='checkbox'><label for='data-926bbaf5-327f-46d7-9364-db89d4ad5272' title='Show/Hide data repr'><svg class='icon xr-icon-database'><use xlink:href='#icon-database'></use></svg></label><div class='xr-var-attrs'><dl class='xr-attrs'><dt><span>description :</span></dt><dd>north &gt; 30N; south &lt; -30N; 30S &lt; tropics &lt;30N; global = sum(north, south, tropics)</dd></dl></div><div class='xr-var-data'><pre>array([&#x27;global&#x27;, &#x27;north&#x27;, &#x27;tropics&#x27;, &#x27;south&#x27;], dtype=&#x27;&lt;U7&#x27;)</pre></div></li></ul></div></li><li class='xr-section-item'><input id='section-e529462f-402c-4d90-93b6-361d5c7f9d43' class='xr-section-summary-in' type='checkbox'  ><label for='section-e529462f-402c-4d90-93b6-361d5c7f9d43' class='xr-section-summary' >Data variables: <span>(28)</span></label><div class='xr-section-inline-details'></div><div class='xr-section-details'><ul class='xr-var-list'><li class='xr-var-item'><div class='xr-var-name'><span>talk</span></div><div class='xr-var-dims'>(time, lat, lon)</div><div class='xr-var-dtype'>float32</div><div class='xr-var-preview xr-preview'>...</div><input id='attrs-a57ea6d0-6cee-4699-b53e-17a276fae1ce' class='xr-var-attrs-in' type='checkbox' ><label for='attrs-a57ea6d0-6cee-4699-b53e-17a276fae1ce' title='Show/Hide attributes'><svg class='icon xr-icon-file-text2'><use xlink:href='#icon-file-text2'></use></svg></label><input id='data-74374845-9c65-45f1-a0c7-28fbcdcdf13c' class='xr-var-data-in' type='checkbox'><label for='data-74374845-9c65-45f1-a0c7-28fbcdcdf13c' title='Show/Hide data repr'><svg class='icon xr-icon-database'><use xlink:href='#icon-database'></use></svg></label><div class='xr-var-attrs'><dl class='xr-attrs'><dt><span>description :</span></dt><dd>Total alkalinity estimated with an ensemble of SVR models (scikit-learn)</dd><dt><span>author :</span></dt><dd>Luke Gregor</dd><dt><span>date :</span></dt><dd>2023-06-23</dd><dt><span>data_input_file :</span></dt><dd>./OSETHv2023.GCB_data_1982-2022.nc</dd><dt><span>cluster_input_file :</span></dt><dd>../models/v2023.GCB_talk/member_01/clusters.nc</dd><dt><span>model_file_names :</span></dt><dd>../models/v2023.GCB_talk/member_01/svr/model_c**</dd><dt><span>cluster_vars :</span></dt><dd>[&#x27;talk_glodap&#x27; &#x27;medsea&#x27; &#x27;salt_stacked_clim&#x27; &#x27;temp_oisst_clim&#x27; &#x27;nstar_woa&#x27;]</dd><dt><span>n_clusters :</span></dt><dd>12</dd><dt><span>predictors :</span></dt><dd>[&#x27;temp_oisst&#x27;, &#x27;salt_stacked&#x27;, &#x27;silicate_woa&#x27;, &#x27;nitrate_star_woa&#x27;, &#x27;ssh_detrend_duacs&#x27;]</dd><dt><span>target :</span></dt><dd>talk_glodap (8 members) + talk_norm_glodap (8 members)</dd><dt><span>source_file :</span></dt><dd>/net/kryo/work/gregorl/projects/2022-OceanSODA-ETHZ/data/output/v2023.GCB_talk/talk_ensemble_train.nc</dd><dt><span>standard_name :</span></dt><dd>total_alkalinity_in_sea_water</dd><dt><span>model_name :</span></dt><dd>talkos</dd><dt><span>units :</span></dt><dd>umol/kg</dd><dt><span>clustering_model :</span></dt><dd>K-means</dd><dt><span>regression_model :</span></dt><dd>Support Vector Regression</dd></dl></div><div class='xr-var-data'><pre>[31881600 values with dtype=float32]</pre></div></li><li class='xr-var-item'><div class='xr-var-name'><span>dic</span></div><div class='xr-var-dims'>(time, lat, lon)</div><div class='xr-var-dtype'>float32</div><div class='xr-var-preview xr-preview'>...</div><input id='attrs-cb3855b7-27a4-477c-81e1-a8d6b7ef40a5' class='xr-var-attrs-in' type='checkbox' ><label for='attrs-cb3855b7-27a4-477c-81e1-a8d6b7ef40a5' title='Show/Hide attributes'><svg class='icon xr-icon-file-text2'><use xlink:href='#icon-file-text2'></use></svg></label><input id='data-ce7919ff-74d2-4aac-b0c2-5e49d2561792' class='xr-var-data-in' type='checkbox'><label for='data-ce7919ff-74d2-4aac-b0c2-5e49d2561792' title='Show/Hide data repr'><svg class='icon xr-icon-database'><use xlink:href='#icon-database'></use></svg></label><div class='xr-var-attrs'><dl class='xr-attrs'><dt><span>standard_name :</span></dt><dd>mole_concentration_of_dissolved_inorganic_carbon_in_sea_water</dd><dt><span>model_name :</span></dt><dd>dissicos</dd><dt><span>units :</span></dt><dd>umol/kg</dd></dl></div><div class='xr-var-data'><pre>[31881600 values with dtype=float32]</pre></div></li><li class='xr-var-item'><div class='xr-var-name'><span>spco2</span></div><div class='xr-var-dims'>(time, lat, lon)</div><div class='xr-var-dtype'>float32</div><div class='xr-var-preview xr-preview'>...</div><input id='attrs-c7a16537-0232-4a0a-92da-b9730c8fd211' class='xr-var-attrs-in' type='checkbox' ><label for='attrs-c7a16537-0232-4a0a-92da-b9730c8fd211' title='Show/Hide attributes'><svg class='icon xr-icon-file-text2'><use xlink:href='#icon-file-text2'></use></svg></label><input id='data-52f56fd3-0e75-41b3-aca7-08fce3268230' class='xr-var-data-in' type='checkbox'><label for='data-52f56fd3-0e75-41b3-aca7-08fce3268230' title='Show/Hide data repr'><svg class='icon xr-icon-database'><use xlink:href='#icon-database'></use></svg></label><div class='xr-var-attrs'><dl class='xr-attrs'><dt><span>standard_name :</span></dt><dd>surface_partial_pressure_of_carbon_dioxide_in_sea_water</dd><dt><span>model_name :</span></dt><dd>spco2</dd><dt><span>units :</span></dt><dd>uatm</dd><dt><span>description :</span></dt><dd>surface ocean pCO2</dd></dl></div><div class='xr-var-data'><pre>[31881600 values with dtype=float32]</pre></div></li><li class='xr-var-item'><div class='xr-var-name'><span>sfco2</span></div><div class='xr-var-dims'>(time, lat, lon)</div><div class='xr-var-dtype'>float32</div><div class='xr-var-preview xr-preview'>...</div><input id='attrs-2b5963d1-864d-4f06-8780-f5604c25e648' class='xr-var-attrs-in' type='checkbox' ><label for='attrs-2b5963d1-864d-4f06-8780-f5604c25e648' title='Show/Hide attributes'><svg class='icon xr-icon-file-text2'><use xlink:href='#icon-file-text2'></use></svg></label><input id='data-1a6af623-f4d6-42f0-bb64-5e79e4672420' class='xr-var-data-in' type='checkbox'><label for='data-1a6af623-f4d6-42f0-bb64-5e79e4672420' title='Show/Hide data repr'><svg class='icon xr-icon-database'><use xlink:href='#icon-database'></use></svg></label><div class='xr-var-attrs'><dl class='xr-attrs'><dt><span>description :</span></dt><dd>surface dfco2 predicted with a two-step cluster-regression approach</dd><dt><span>author :</span></dt><dd>Luke Gregor</dd><dt><span>date :</span></dt><dd>2023-06-23</dd><dt><span>data_input_file :</span></dt><dd>./OSETHv2023.GCB_data_1982-2022.nc</dd><dt><span>cluster_input_file :</span></dt><dd>../models/v2023.GCB_dfco2star/member_01/clusters.nc</dd><dt><span>model_file_names :</span></dt><dd>../models/v2023.GCB_dfco2star/member_01/lightgbm/model_c**</dd><dt><span>cluster_vars :</span></dt><dd>[&#x27;pco2_seaflux_filled&#x27; &#x27;temp_oisst_clim&#x27; &#x27;medsea&#x27; &#x27;mld_soda_clim&#x27;\n",
       " &#x27;chl_cci_avg&#x27;]</dd><dt><span>n_clusters :</span></dt><dd>21</dd><dt><span>predictors :</span></dt><dd>[&#x27;xco2_noaa&#x27;, &#x27;temp_oisst&#x27;, &#x27;temp_clim_oisst_anom&#x27;, &#x27;salt_stacked&#x27;, &#x27;chl_cci_fill_log10&#x27;, &#x27;mld_press_soda_log10&#x27;, &#x27;icec_oisst_diff&#x27;, &#x27;u10_era5&#x27;, &#x27;v10_era5&#x27;, &#x27;ssh_detrend_duacs&#x27;]</dd><dt><span>target :</span></dt><dd>y_dfco2_socat</dd><dt><span>source_file :</span></dt><dd>/net/kryo/work/gregorl/projects/2022-OceanSODA-ETHZ/data/output/v2023.GCB_dfco2star/dfco2star_ensemble_train.nc</dd></dl></div><div class='xr-var-data'><pre>[31881600 values with dtype=float32]</pre></div></li><li class='xr-var-item'><div class='xr-var-name'><span>ph_total</span></div><div class='xr-var-dims'>(time, lat, lon)</div><div class='xr-var-dtype'>float32</div><div class='xr-var-preview xr-preview'>...</div><input id='attrs-2b616774-d684-4682-b20a-54b354b9c5fe' class='xr-var-attrs-in' type='checkbox' ><label for='attrs-2b616774-d684-4682-b20a-54b354b9c5fe' title='Show/Hide attributes'><svg class='icon xr-icon-file-text2'><use xlink:href='#icon-file-text2'></use></svg></label><input id='data-d20c5174-0cad-499e-85be-f03debc40dd2' class='xr-var-data-in' type='checkbox'><label for='data-d20c5174-0cad-499e-85be-f03debc40dd2' title='Show/Hide data repr'><svg class='icon xr-icon-database'><use xlink:href='#icon-database'></use></svg></label><div class='xr-var-attrs'><dl class='xr-attrs'><dt><span>units :</span></dt><dd>-log([H+])</dd><dt><span>description :</span></dt><dd>surface ocean pH on the total scale</dd></dl></div><div class='xr-var-data'><pre>[31881600 values with dtype=float32]</pre></div></li><li class='xr-var-item'><div class='xr-var-name'><span>ph_free</span></div><div class='xr-var-dims'>(time, lat, lon)</div><div class='xr-var-dtype'>float32</div><div class='xr-var-preview xr-preview'>...</div><input id='attrs-29c70ebf-42dd-4dde-afd9-72b8932785d2' class='xr-var-attrs-in' type='checkbox' disabled><label for='attrs-29c70ebf-42dd-4dde-afd9-72b8932785d2' title='Show/Hide attributes'><svg class='icon xr-icon-file-text2'><use xlink:href='#icon-file-text2'></use></svg></label><input id='data-b098722b-ab11-4256-8067-f18aae4a7a0a' class='xr-var-data-in' type='checkbox'><label for='data-b098722b-ab11-4256-8067-f18aae4a7a0a' title='Show/Hide data repr'><svg class='icon xr-icon-database'><use xlink:href='#icon-database'></use></svg></label><div class='xr-var-attrs'><dl class='xr-attrs'></dl></div><div class='xr-var-data'><pre>[31881600 values with dtype=float32]</pre></div></li><li class='xr-var-item'><div class='xr-var-name'><span>hco3</span></div><div class='xr-var-dims'>(time, lat, lon)</div><div class='xr-var-dtype'>float32</div><div class='xr-var-preview xr-preview'>...</div><input id='attrs-108e8223-61f6-4956-bc8d-2c806a5cea81' class='xr-var-attrs-in' type='checkbox' ><label for='attrs-108e8223-61f6-4956-bc8d-2c806a5cea81' title='Show/Hide attributes'><svg class='icon xr-icon-file-text2'><use xlink:href='#icon-file-text2'></use></svg></label><input id='data-61de4fe5-0da5-4c21-8c64-46797f48b6dc' class='xr-var-data-in' type='checkbox'><label for='data-61de4fe5-0da5-4c21-8c64-46797f48b6dc' title='Show/Hide data repr'><svg class='icon xr-icon-database'><use xlink:href='#icon-database'></use></svg></label><div class='xr-var-attrs'><dl class='xr-attrs'><dt><span>units :</span></dt><dd>umol/kg</dd></dl></div><div class='xr-var-data'><pre>[31881600 values with dtype=float32]</pre></div></li><li class='xr-var-item'><div class='xr-var-name'><span>co3</span></div><div class='xr-var-dims'>(time, lat, lon)</div><div class='xr-var-dtype'>float32</div><div class='xr-var-preview xr-preview'>...</div><input id='attrs-4eb8391a-e5dc-4661-9d58-8d131ce72172' class='xr-var-attrs-in' type='checkbox' ><label for='attrs-4eb8391a-e5dc-4661-9d58-8d131ce72172' title='Show/Hide attributes'><svg class='icon xr-icon-file-text2'><use xlink:href='#icon-file-text2'></use></svg></label><input id='data-acfb17c8-1fb2-4ce0-b23a-21b96ff7536b' class='xr-var-data-in' type='checkbox'><label for='data-acfb17c8-1fb2-4ce0-b23a-21b96ff7536b' title='Show/Hide data repr'><svg class='icon xr-icon-database'><use xlink:href='#icon-database'></use></svg></label><div class='xr-var-attrs'><dl class='xr-attrs'><dt><span>units :</span></dt><dd>umol/kg</dd></dl></div><div class='xr-var-data'><pre>[31881600 values with dtype=float32]</pre></div></li><li class='xr-var-item'><div class='xr-var-name'><span>co2</span></div><div class='xr-var-dims'>(time, lat, lon)</div><div class='xr-var-dtype'>float32</div><div class='xr-var-preview xr-preview'>...</div><input id='attrs-913d5278-62f9-40cc-bc5d-a57beeebbe70' class='xr-var-attrs-in' type='checkbox' ><label for='attrs-913d5278-62f9-40cc-bc5d-a57beeebbe70' title='Show/Hide attributes'><svg class='icon xr-icon-file-text2'><use xlink:href='#icon-file-text2'></use></svg></label><input id='data-fc38f30d-eb81-4ed3-9973-3a65262409f3' class='xr-var-data-in' type='checkbox'><label for='data-fc38f30d-eb81-4ed3-9973-3a65262409f3' title='Show/Hide data repr'><svg class='icon xr-icon-database'><use xlink:href='#icon-database'></use></svg></label><div class='xr-var-attrs'><dl class='xr-attrs'><dt><span>units :</span></dt><dd>umol/kg</dd></dl></div><div class='xr-var-data'><pre>[31881600 values with dtype=float32]</pre></div></li><li class='xr-var-item'><div class='xr-var-name'><span>revelle_factor</span></div><div class='xr-var-dims'>(time, lat, lon)</div><div class='xr-var-dtype'>float32</div><div class='xr-var-preview xr-preview'>...</div><input id='attrs-f04ea2aa-d1a0-437c-b964-5ccb12c273ec' class='xr-var-attrs-in' type='checkbox' disabled><label for='attrs-f04ea2aa-d1a0-437c-b964-5ccb12c273ec' title='Show/Hide attributes'><svg class='icon xr-icon-file-text2'><use xlink:href='#icon-file-text2'></use></svg></label><input id='data-e9320441-7fd3-4fb9-8a9c-c6d7ffc324d5' class='xr-var-data-in' type='checkbox'><label for='data-e9320441-7fd3-4fb9-8a9c-c6d7ffc324d5' title='Show/Hide data repr'><svg class='icon xr-icon-database'><use xlink:href='#icon-database'></use></svg></label><div class='xr-var-attrs'><dl class='xr-attrs'></dl></div><div class='xr-var-data'><pre>[31881600 values with dtype=float32]</pre></div></li><li class='xr-var-item'><div class='xr-var-name'><span>omega_ca</span></div><div class='xr-var-dims'>(time, lat, lon)</div><div class='xr-var-dtype'>float32</div><div class='xr-var-preview xr-preview'>...</div><input id='attrs-5990f0d1-0c27-4f79-8f12-091e28529fd6' class='xr-var-attrs-in' type='checkbox' ><label for='attrs-5990f0d1-0c27-4f79-8f12-091e28529fd6' title='Show/Hide attributes'><svg class='icon xr-icon-file-text2'><use xlink:href='#icon-file-text2'></use></svg></label><input id='data-1bfff0e1-51a1-4b26-a8cd-b7a4de411415' class='xr-var-data-in' type='checkbox'><label for='data-1bfff0e1-51a1-4b26-a8cd-b7a4de411415' title='Show/Hide data repr'><svg class='icon xr-icon-database'><use xlink:href='#icon-database'></use></svg></label><div class='xr-var-attrs'><dl class='xr-attrs'><dt><span>units :</span></dt><dd>dimensionless</dd><dt><span>standard_name :</span></dt><dd>calcite saturation state</dd></dl></div><div class='xr-var-data'><pre>[31881600 values with dtype=float32]</pre></div></li><li class='xr-var-item'><div class='xr-var-name'><span>omega_ar</span></div><div class='xr-var-dims'>(time, lat, lon)</div><div class='xr-var-dtype'>float32</div><div class='xr-var-preview xr-preview'>...</div><input id='attrs-5dff0f3d-5739-42a6-a52b-fb55eda88052' class='xr-var-attrs-in' type='checkbox' ><label for='attrs-5dff0f3d-5739-42a6-a52b-fb55eda88052' title='Show/Hide attributes'><svg class='icon xr-icon-file-text2'><use xlink:href='#icon-file-text2'></use></svg></label><input id='data-bcbad151-8fdb-4dcb-8fc5-10e1266bf526' class='xr-var-data-in' type='checkbox'><label for='data-bcbad151-8fdb-4dcb-8fc5-10e1266bf526' title='Show/Hide data repr'><svg class='icon xr-icon-database'><use xlink:href='#icon-database'></use></svg></label><div class='xr-var-attrs'><dl class='xr-attrs'><dt><span>units :</span></dt><dd>dimensionless</dd><dt><span>standard_name :</span></dt><dd>aragonite saturation state</dd></dl></div><div class='xr-var-data'><pre>[31881600 values with dtype=float32]</pre></div></li><li class='xr-var-item'><div class='xr-var-name'><span>dic_uncert</span></div><div class='xr-var-dims'>(time, lat, lon)</div><div class='xr-var-dtype'>float32</div><div class='xr-var-preview xr-preview'>...</div><input id='attrs-d2948be0-02b3-4bb7-b8d7-03467ed5fea7' class='xr-var-attrs-in' type='checkbox' disabled><label for='attrs-d2948be0-02b3-4bb7-b8d7-03467ed5fea7' title='Show/Hide attributes'><svg class='icon xr-icon-file-text2'><use xlink:href='#icon-file-text2'></use></svg></label><input id='data-3c91b446-fb3e-4dd2-91db-caf37426711e' class='xr-var-data-in' type='checkbox'><label for='data-3c91b446-fb3e-4dd2-91db-caf37426711e' title='Show/Hide data repr'><svg class='icon xr-icon-database'><use xlink:href='#icon-database'></use></svg></label><div class='xr-var-attrs'><dl class='xr-attrs'></dl></div><div class='xr-var-data'><pre>[31881600 values with dtype=float32]</pre></div></li><li class='xr-var-item'><div class='xr-var-name'><span>spco2_uncert</span></div><div class='xr-var-dims'>(time, lat, lon)</div><div class='xr-var-dtype'>float32</div><div class='xr-var-preview xr-preview'>...</div><input id='attrs-716b2201-44c3-4b23-bc4d-d15f9eca6b95' class='xr-var-attrs-in' type='checkbox' disabled><label for='attrs-716b2201-44c3-4b23-bc4d-d15f9eca6b95' title='Show/Hide attributes'><svg class='icon xr-icon-file-text2'><use xlink:href='#icon-file-text2'></use></svg></label><input id='data-62e9cb95-382c-45f6-814d-bd54d41b98ee' class='xr-var-data-in' type='checkbox'><label for='data-62e9cb95-382c-45f6-814d-bd54d41b98ee' title='Show/Hide data repr'><svg class='icon xr-icon-database'><use xlink:href='#icon-database'></use></svg></label><div class='xr-var-attrs'><dl class='xr-attrs'></dl></div><div class='xr-var-data'><pre>[31881600 values with dtype=float32]</pre></div></li><li class='xr-var-item'><div class='xr-var-name'><span>ph_total_uncert</span></div><div class='xr-var-dims'>(time, lat, lon)</div><div class='xr-var-dtype'>float32</div><div class='xr-var-preview xr-preview'>...</div><input id='attrs-b98c7336-d0fa-40e7-9690-361ea0aad403' class='xr-var-attrs-in' type='checkbox' disabled><label for='attrs-b98c7336-d0fa-40e7-9690-361ea0aad403' title='Show/Hide attributes'><svg class='icon xr-icon-file-text2'><use xlink:href='#icon-file-text2'></use></svg></label><input id='data-7a9d2101-a7fa-4214-ad30-d02464119667' class='xr-var-data-in' type='checkbox'><label for='data-7a9d2101-a7fa-4214-ad30-d02464119667' title='Show/Hide data repr'><svg class='icon xr-icon-database'><use xlink:href='#icon-database'></use></svg></label><div class='xr-var-attrs'><dl class='xr-attrs'></dl></div><div class='xr-var-data'><pre>[31881600 values with dtype=float32]</pre></div></li><li class='xr-var-item'><div class='xr-var-name'><span>omega_ca_uncert</span></div><div class='xr-var-dims'>(time, lat, lon)</div><div class='xr-var-dtype'>float32</div><div class='xr-var-preview xr-preview'>...</div><input id='attrs-fab7fa8b-defd-45f3-ad00-85e7abc2d988' class='xr-var-attrs-in' type='checkbox' disabled><label for='attrs-fab7fa8b-defd-45f3-ad00-85e7abc2d988' title='Show/Hide attributes'><svg class='icon xr-icon-file-text2'><use xlink:href='#icon-file-text2'></use></svg></label><input id='data-bc5cbab7-0356-4e45-8309-9a5397c13b72' class='xr-var-data-in' type='checkbox'><label for='data-bc5cbab7-0356-4e45-8309-9a5397c13b72' title='Show/Hide data repr'><svg class='icon xr-icon-database'><use xlink:href='#icon-database'></use></svg></label><div class='xr-var-attrs'><dl class='xr-attrs'></dl></div><div class='xr-var-data'><pre>[31881600 values with dtype=float32]</pre></div></li><li class='xr-var-item'><div class='xr-var-name'><span>omega_ar_uncert</span></div><div class='xr-var-dims'>(time, lat, lon)</div><div class='xr-var-dtype'>float32</div><div class='xr-var-preview xr-preview'>...</div><input id='attrs-aaab6a06-8a36-4a21-853d-c89b4f105fcf' class='xr-var-attrs-in' type='checkbox' disabled><label for='attrs-aaab6a06-8a36-4a21-853d-c89b4f105fcf' title='Show/Hide attributes'><svg class='icon xr-icon-file-text2'><use xlink:href='#icon-file-text2'></use></svg></label><input id='data-ab5a3a34-fec9-4296-b825-eb59679134d6' class='xr-var-data-in' type='checkbox'><label for='data-ab5a3a34-fec9-4296-b825-eb59679134d6' title='Show/Hide data repr'><svg class='icon xr-icon-database'><use xlink:href='#icon-database'></use></svg></label><div class='xr-var-attrs'><dl class='xr-attrs'></dl></div><div class='xr-var-data'><pre>[31881600 values with dtype=float32]</pre></div></li><li class='xr-var-item'><div class='xr-var-name'><span>temperature</span></div><div class='xr-var-dims'>(time, lat, lon)</div><div class='xr-var-dtype'>float32</div><div class='xr-var-preview xr-preview'>...</div><input id='attrs-6eb30213-2519-495c-9b4f-43acee869372' class='xr-var-attrs-in' type='checkbox' ><label for='attrs-6eb30213-2519-495c-9b4f-43acee869372' title='Show/Hide attributes'><svg class='icon xr-icon-file-text2'><use xlink:href='#icon-file-text2'></use></svg></label><input id='data-64fe3496-9ed4-4b96-9a05-f04e7fba8345' class='xr-var-data-in' type='checkbox'><label for='data-64fe3496-9ed4-4b96-9a05-f04e7fba8345' title='Show/Hide data repr'><svg class='icon xr-icon-database'><use xlink:href='#icon-database'></use></svg></label><div class='xr-var-attrs'><dl class='xr-attrs'><dt><span>standard_name :</span></dt><dd>sea_surface_temperature</dd><dt><span>model_name :</span></dt><dd>tos</dd><dt><span>units :</span></dt><dd>degC</dd><dt><span>reference :</span></dt><dd>Reynolds, R.W., N.A. Rayner, T.M. Smith, D.C. Stokes, and W. Wang, 2002: An improved in situ and satellite SST analysis for climate. J. Climate, 15, 1609-1625.</dd><dt><span>source :</span></dt><dd>ftp://ftp.cdc.noaa.gov/Datasets/noaa.oisst.v2/sst.mnmean.nc</dd></dl></div><div class='xr-var-data'><pre>[31881600 values with dtype=float32]</pre></div></li><li class='xr-var-item'><div class='xr-var-name'><span>salinity</span></div><div class='xr-var-dims'>(time, lat, lon)</div><div class='xr-var-dtype'>float32</div><div class='xr-var-preview xr-preview'>...</div><input id='attrs-fade5244-ac7b-4c77-b279-0875afe02250' class='xr-var-attrs-in' type='checkbox' ><label for='attrs-fade5244-ac7b-4c77-b279-0875afe02250' title='Show/Hide attributes'><svg class='icon xr-icon-file-text2'><use xlink:href='#icon-file-text2'></use></svg></label><input id='data-c5ffa918-5468-4bde-baa5-19d622191e08' class='xr-var-data-in' type='checkbox'><label for='data-c5ffa918-5468-4bde-baa5-19d622191e08' title='Show/Hide data repr'><svg class='icon xr-icon-database'><use xlink:href='#icon-database'></use></svg></label><div class='xr-var-attrs'><dl class='xr-attrs'><dt><span>standard_name :</span></dt><dd>sea_surface_salinity</dd><dt><span>model_name :</span></dt><dd>sos</dd><dt><span>units :</span></dt><dd>ppt</dd><dt><span>description :</span></dt><dd>salinity is stacked so that the first listed has highest priority: 1. ESA-CCI salinity (2010-2019), 2. SODAv3.4.2 salinity (1982-2019), 3. EN4.2.1 salinity (2020). </dd><dt><span>esa_cci_info :</span></dt><dd>https://climate.esa.int/en/projects/sea-surface-salinity/about/</dd><dt><span>soda_info :</span></dt><dd>https://journals.ametsoc.org/view/journals/clim/31/17/jcli-d-18-0149.1.xml</dd><dt><span>en4_info :</span></dt><dd>https://agupubs.onlinelibrary.wiley.com/doi/full/10.1002/2013JC009067</dd></dl></div><div class='xr-var-data'><pre>[31881600 values with dtype=float32]</pre></div></li><li class='xr-var-item'><div class='xr-var-name'><span>talk_uncert</span></div><div class='xr-var-dims'>(time, lat, lon)</div><div class='xr-var-dtype'>float32</div><div class='xr-var-preview xr-preview'>...</div><input id='attrs-25997ded-aa2c-4cae-8df3-cdd1d79b2dcc' class='xr-var-attrs-in' type='checkbox' ><label for='attrs-25997ded-aa2c-4cae-8df3-cdd1d79b2dcc' title='Show/Hide attributes'><svg class='icon xr-icon-file-text2'><use xlink:href='#icon-file-text2'></use></svg></label><input id='data-2747058f-0d24-4125-aa04-d9e2e9f7d842' class='xr-var-data-in' type='checkbox'><label for='data-2747058f-0d24-4125-aa04-d9e2e9f7d842' title='Show/Hide data repr'><svg class='icon xr-icon-database'><use xlink:href='#icon-database'></use></svg></label><div class='xr-var-attrs'><dl class='xr-attrs'><dt><span>description :</span></dt><dd>surface talk predicted with a two-step cluster-regression approach</dd><dt><span>author :</span></dt><dd>Luke Gregor</dd><dt><span>date :</span></dt><dd>2023-06-23</dd><dt><span>data_input_file :</span></dt><dd>./OSETHv2023.GCB_data_1982-2022.nc</dd><dt><span>cluster_input_file :</span></dt><dd>../models/v2023.GCB_talk/member_01/clusters.nc</dd><dt><span>model_file_names :</span></dt><dd>../models/v2023.GCB_talk/member_01/svr/model_c**</dd><dt><span>cluster_vars :</span></dt><dd>[&#x27;talk_glodap&#x27; &#x27;medsea&#x27; &#x27;salt_stacked_clim&#x27; &#x27;temp_oisst_clim&#x27; &#x27;nstar_woa&#x27;]</dd><dt><span>n_clusters :</span></dt><dd>12</dd><dt><span>predictors :</span></dt><dd>[&#x27;temp_oisst&#x27;, &#x27;salt_stacked&#x27;, &#x27;silicate_woa&#x27;, &#x27;nitrate_star_woa&#x27;, &#x27;ssh_detrend_duacs&#x27;]</dd><dt><span>target :</span></dt><dd>y_talk_glodap_ms</dd></dl></div><div class='xr-var-data'><pre>[31881600 values with dtype=float32]</pre></div></li><li class='xr-var-item'><div class='xr-var-name'><span>sfco2_uncert</span></div><div class='xr-var-dims'>(time, lat, lon)</div><div class='xr-var-dtype'>float32</div><div class='xr-var-preview xr-preview'>...</div><input id='attrs-3874bdc0-c0eb-4aeb-aaf2-ef2ac4ebae77' class='xr-var-attrs-in' type='checkbox' ><label for='attrs-3874bdc0-c0eb-4aeb-aaf2-ef2ac4ebae77' title='Show/Hide attributes'><svg class='icon xr-icon-file-text2'><use xlink:href='#icon-file-text2'></use></svg></label><input id='data-f1132a00-7109-49e1-a46a-0e4eaab24c28' class='xr-var-data-in' type='checkbox'><label for='data-f1132a00-7109-49e1-a46a-0e4eaab24c28' title='Show/Hide data repr'><svg class='icon xr-icon-database'><use xlink:href='#icon-database'></use></svg></label><div class='xr-var-attrs'><dl class='xr-attrs'><dt><span>description :</span></dt><dd>surface dfco2 predicted with a two-step cluster-regression approach</dd><dt><span>author :</span></dt><dd>Luke Gregor</dd><dt><span>date :</span></dt><dd>2023-06-23</dd><dt><span>data_input_file :</span></dt><dd>./OSETHv2023.GCB_data_1982-2022.nc</dd><dt><span>cluster_input_file :</span></dt><dd>../models/v2023.GCB_dfco2star/member_01/clusters.nc</dd><dt><span>model_file_names :</span></dt><dd>../models/v2023.GCB_dfco2star/member_01/lightgbm/model_c**</dd><dt><span>cluster_vars :</span></dt><dd>[&#x27;pco2_seaflux_filled&#x27; &#x27;temp_oisst_clim&#x27; &#x27;medsea&#x27; &#x27;mld_soda_clim&#x27;\n",
       " &#x27;chl_cci_avg&#x27;]</dd><dt><span>n_clusters :</span></dt><dd>21</dd><dt><span>predictors :</span></dt><dd>[&#x27;xco2_noaa&#x27;, &#x27;temp_oisst&#x27;, &#x27;temp_clim_oisst_anom&#x27;, &#x27;salt_stacked&#x27;, &#x27;chl_cci_fill_log10&#x27;, &#x27;mld_press_soda_log10&#x27;, &#x27;icec_oisst_diff&#x27;, &#x27;u10_era5&#x27;, &#x27;v10_era5&#x27;, &#x27;ssh_detrend_duacs&#x27;]</dd><dt><span>target :</span></dt><dd>y_dfco2_socat</dd></dl></div><div class='xr-var-data'><pre>[31881600 values with dtype=float32]</pre></div></li><li class='xr-var-item'><div class='xr-var-name'><span>fgco2</span></div><div class='xr-var-dims'>(time, lat, lon)</div><div class='xr-var-dtype'>float32</div><div class='xr-var-preview xr-preview'>...</div><input id='attrs-fed9ca19-70fc-43d1-9846-659c1faaed1d' class='xr-var-attrs-in' type='checkbox' ><label for='attrs-fed9ca19-70fc-43d1-9846-659c1faaed1d' title='Show/Hide attributes'><svg class='icon xr-icon-file-text2'><use xlink:href='#icon-file-text2'></use></svg></label><input id='data-ddbe8e89-d0c3-4d7d-b393-ed89699f9536' class='xr-var-data-in' type='checkbox'><label for='data-ddbe8e89-d0c3-4d7d-b393-ed89699f9536' title='Show/Hide data repr'><svg class='icon xr-icon-database'><use xlink:href='#icon-database'></use></svg></label><div class='xr-var-attrs'><dl class='xr-attrs'><dt><span>units :</span></dt><dd>mol/m2/s</dd><dt><span>description :</span></dt><dd>Sea-air CO2 fluxes for the OS-ETHZ-GRaCER method. Atmospheric pCO2 was taken from the SeaFlux dataset, where xCO2 (NOAAs Marine Boundary Layer product) is linearly interpolated onto a 1deg latitudinal grid. ERA5 sea level pressure (pH2O corrected) is used to map xCO2 to pCO2atm. Flux is calculated as the average of flux calculated from kw computed with the following wind products: ERA5, JRA55, NCEP1. We do not include CCMP2 as it only starts in 1988 and exclude NCEP2 as wind speed is inherently too large in the the second release of NCEP. kw is scaled individually for each of the wind products. Solubility of CO2 in seawater is from the SeaFlux product. spco2 (surface ocean pCO2) is calculated from fugacity using pyCO2SYS with Alkalinity from OceanSODA-ETHZ, SST from OISST and salinity from the Simple Ocean Data Assimmilation (SODA, unrelated to OceanSODA). Sea ice is from the OISSTv2 product. </dd></dl></div><div class='xr-var-data'><pre>[31881600 values with dtype=float32]</pre></div></li><li class='xr-var-item'><div class='xr-var-name'><span>area</span></div><div class='xr-var-dims'>(lat, lon)</div><div class='xr-var-dtype'>float32</div><div class='xr-var-preview xr-preview'>...</div><input id='attrs-be074670-1bed-4440-bc07-4fd2a4e18e51' class='xr-var-attrs-in' type='checkbox' ><label for='attrs-be074670-1bed-4440-bc07-4fd2a4e18e51' title='Show/Hide attributes'><svg class='icon xr-icon-file-text2'><use xlink:href='#icon-file-text2'></use></svg></label><input id='data-318b9c00-cb08-4087-9c29-aad13c211cf1' class='xr-var-data-in' type='checkbox'><label for='data-318b9c00-cb08-4087-9c29-aad13c211cf1' title='Show/Hide data repr'><svg class='icon xr-icon-database'><use xlink:href='#icon-database'></use></svg></label><div class='xr-var-attrs'><dl class='xr-attrs'><dt><span>long_name :</span></dt><dd>Area per pixel</dd><dt><span>units :</span></dt><dd>m^2</dd><dt><span>description :</span></dt><dd>Area per pixel as calculated by pySeaFlux. The non-spherical shape of Earth is taken into account. Area calculated from the latitude and longitude coordinates of ice</dd></dl></div><div class='xr-var-data'><pre>[64800 values with dtype=float32]</pre></div></li><li class='xr-var-item'><div class='xr-var-name'><span>fgco2_reg</span></div><div class='xr-var-dims'>(region, time)</div><div class='xr-var-dtype'>float32</div><div class='xr-var-preview xr-preview'>...</div><input id='attrs-9fe1bd9b-5140-4b83-a664-4a44efd20209' class='xr-var-attrs-in' type='checkbox' ><label for='attrs-9fe1bd9b-5140-4b83-a664-4a44efd20209' title='Show/Hide attributes'><svg class='icon xr-icon-file-text2'><use xlink:href='#icon-file-text2'></use></svg></label><input id='data-c2f34676-75bb-40bd-8008-d3a89e269ea0' class='xr-var-data-in' type='checkbox'><label for='data-c2f34676-75bb-40bd-8008-d3a89e269ea0' title='Show/Hide data repr'><svg class='icon xr-icon-database'><use xlink:href='#icon-database'></use></svg></label><div class='xr-var-attrs'><dl class='xr-attrs'><dt><span>units :</span></dt><dd>PgC/yr</dd><dt><span>description :</span></dt><dd>Regionally integrated air-sea CO2 flux (positive downward) (using regional bounds)</dd></dl></div><div class='xr-var-data'><pre>[1968 values with dtype=float32]</pre></div></li><li class='xr-var-item'><div class='xr-var-name'><span>area_reg</span></div><div class='xr-var-dims'>(region)</div><div class='xr-var-dtype'>float32</div><div class='xr-var-preview xr-preview'>...</div><input id='attrs-ccf9a503-1eb4-4856-a497-5bc32d48c66a' class='xr-var-attrs-in' type='checkbox' ><label for='attrs-ccf9a503-1eb4-4856-a497-5bc32d48c66a' title='Show/Hide attributes'><svg class='icon xr-icon-file-text2'><use xlink:href='#icon-file-text2'></use></svg></label><input id='data-f9a02e9d-ab62-434a-be97-378400a682ce' class='xr-var-data-in' type='checkbox'><label for='data-f9a02e9d-ab62-434a-be97-378400a682ce' title='Show/Hide data repr'><svg class='icon xr-icon-database'><use xlink:href='#icon-database'></use></svg></label><div class='xr-var-attrs'><dl class='xr-attrs'><dt><span>units :</span></dt><dd>m2</dd><dt><span>description :</span></dt><dd>the area of each region based on the &quot;area&quot; variable which is taken from SeaFlux v2023</dd></dl></div><div class='xr-var-data'><pre>[4 values with dtype=float32]</pre></div></li><li class='xr-var-item'><div class='xr-var-name'><span>ice</span></div><div class='xr-var-dims'>(time, lat, lon)</div><div class='xr-var-dtype'>float32</div><div class='xr-var-preview xr-preview'>...</div><input id='attrs-e178d528-5374-4030-9fa8-74070cadc03b' class='xr-var-attrs-in' type='checkbox' ><label for='attrs-e178d528-5374-4030-9fa8-74070cadc03b' title='Show/Hide attributes'><svg class='icon xr-icon-file-text2'><use xlink:href='#icon-file-text2'></use></svg></label><input id='data-238c8d47-4d2c-4f4b-8269-892faf23990a' class='xr-var-data-in' type='checkbox'><label for='data-238c8d47-4d2c-4f4b-8269-892faf23990a' title='Show/Hide data repr'><svg class='icon xr-icon-database'><use xlink:href='#icon-database'></use></svg></label><div class='xr-var-attrs'><dl class='xr-attrs'><dt><span>history :</span></dt><dd>[all_my_code@2023-06-23: lon_180W_180E] regridded to [-180 : 180] from [0 : 360]</dd></dl></div><div class='xr-var-data'><pre>[31881600 values with dtype=float32]</pre></div></li><li class='xr-var-item'><div class='xr-var-name'><span>kw</span></div><div class='xr-var-dims'>(time, lat, lon)</div><div class='xr-var-dtype'>float32</div><div class='xr-var-preview xr-preview'>...</div><input id='attrs-63ec79a6-60b4-4352-bace-b218173fe6ec' class='xr-var-attrs-in' type='checkbox' ><label for='attrs-63ec79a6-60b4-4352-bace-b218173fe6ec' title='Show/Hide attributes'><svg class='icon xr-icon-file-text2'><use xlink:href='#icon-file-text2'></use></svg></label><input id='data-9fb77150-f031-4490-83b4-d819a494615e' class='xr-var-data-in' type='checkbox'><label for='data-9fb77150-f031-4490-83b4-d819a494615e' title='Show/Hide data repr'><svg class='icon xr-icon-database'><use xlink:href='#icon-database'></use></svg></label><div class='xr-var-attrs'><dl class='xr-attrs'><dt><span>description :</span></dt><dd>Gas transfer velocity using the quadratic parameterisation by Wanninkhof (1992): kw = a * U^2 * Sc660. Where a is the coefficient of gas transfer, U^2 is the wind at 10m squared (at the native resolution of the gridded product output). We use the average of the ERA5, JRA55, and NCEP1 wind products. Sc660 is the Schmidt number normalised  to 660. The NOAA OISST temperature is used to calculate Sc660. a is scaled so that the global kw is 16.5 cm/hr (with 3.2 cm/hr uncertainty which is roughly 20% uncertainty).</dd><dt><span>wind_products :</span></dt><dd>[&#x27;ERA5&#x27;, &#x27;JRA55&#x27;, &#x27;NCEP1&#x27;]</dd><dt><span>units :</span></dt><dd>cm/hr</dd></dl></div><div class='xr-var-data'><pre>[31881600 values with dtype=float32]</pre></div></li><li class='xr-var-item'><div class='xr-var-name'><span>sol</span></div><div class='xr-var-dims'>(time, lat, lon)</div><div class='xr-var-dtype'>float32</div><div class='xr-var-preview xr-preview'>...</div><input id='attrs-305c4a96-acd0-42d0-9732-9a8aab46d55c' class='xr-var-attrs-in' type='checkbox' ><label for='attrs-305c4a96-acd0-42d0-9732-9a8aab46d55c' title='Show/Hide attributes'><svg class='icon xr-icon-file-text2'><use xlink:href='#icon-file-text2'></use></svg></label><input id='data-3533ba67-5d52-48aa-bed9-dbc91cbe1749' class='xr-var-data-in' type='checkbox'><label for='data-3533ba67-5d52-48aa-bed9-dbc91cbe1749' title='Show/Hide data repr'><svg class='icon xr-icon-database'><use xlink:href='#icon-database'></use></svg></label><div class='xr-var-attrs'><dl class='xr-attrs'><dt><span>units :</span></dt><dd>mol/m3/uatm</dd><dt><span>description :</span></dt><dd>solubility of CO2 in seawater calculated using the formulation byWeiss (1974) summarised in Wanninkhof (2014). salinity = EN4.2.2; temperature = NOAA OISSTv2; pressure = ERA5_msl</dd></dl></div><div class='xr-var-data'><pre>[31881600 values with dtype=float32]</pre></div></li></ul></div></li><li class='xr-section-item'><input id='section-6b13b7c1-f0f3-4458-9ac8-78dc207da11f' class='xr-section-summary-in' type='checkbox'  ><label for='section-6b13b7c1-f0f3-4458-9ac8-78dc207da11f' class='xr-section-summary' >Indexes: <span>(4)</span></label><div class='xr-section-inline-details'></div><div class='xr-section-details'><ul class='xr-var-list'><li class='xr-var-item'><div class='xr-index-name'><div>time</div></div><div class='xr-index-preview'>PandasIndex</div><input type='checkbox' disabled/><label></label><input id='index-e8d810d7-c9e3-4730-b745-35ceb0bd2ad7' class='xr-index-data-in' type='checkbox'/><label for='index-e8d810d7-c9e3-4730-b745-35ceb0bd2ad7' title='Show/Hide index repr'><svg class='icon xr-icon-database'><use xlink:href='#icon-database'></use></svg></label><div class='xr-index-data'><pre>PandasIndex(DatetimeIndex([&#x27;1982-01-15&#x27;, &#x27;1982-02-15&#x27;, &#x27;1982-03-15&#x27;, &#x27;1982-04-15&#x27;,\n",
       "               &#x27;1982-05-15&#x27;, &#x27;1982-06-15&#x27;, &#x27;1982-07-15&#x27;, &#x27;1982-08-15&#x27;,\n",
       "               &#x27;1982-09-15&#x27;, &#x27;1982-10-15&#x27;,\n",
       "               ...\n",
       "               &#x27;2022-03-15&#x27;, &#x27;2022-04-15&#x27;, &#x27;2022-05-15&#x27;, &#x27;2022-06-15&#x27;,\n",
       "               &#x27;2022-07-15&#x27;, &#x27;2022-08-15&#x27;, &#x27;2022-09-15&#x27;, &#x27;2022-10-15&#x27;,\n",
       "               &#x27;2022-11-15&#x27;, &#x27;2022-12-15&#x27;],\n",
       "              dtype=&#x27;datetime64[ns]&#x27;, name=&#x27;time&#x27;, length=492, freq=None))</pre></div></li><li class='xr-var-item'><div class='xr-index-name'><div>lat</div></div><div class='xr-index-preview'>PandasIndex</div><input type='checkbox' disabled/><label></label><input id='index-6b946f96-d71a-4a13-9076-7ab7de691acd' class='xr-index-data-in' type='checkbox'/><label for='index-6b946f96-d71a-4a13-9076-7ab7de691acd' title='Show/Hide index repr'><svg class='icon xr-icon-database'><use xlink:href='#icon-database'></use></svg></label><div class='xr-index-data'><pre>PandasIndex(Index([-89.5, -88.5, -87.5, -86.5, -85.5, -84.5, -83.5, -82.5, -81.5, -80.5,\n",
       "       ...\n",
       "        80.5,  81.5,  82.5,  83.5,  84.5,  85.5,  86.5,  87.5,  88.5,  89.5],\n",
       "      dtype=&#x27;float64&#x27;, name=&#x27;lat&#x27;, length=180))</pre></div></li><li class='xr-var-item'><div class='xr-index-name'><div>lon</div></div><div class='xr-index-preview'>PandasIndex</div><input type='checkbox' disabled/><label></label><input id='index-4a3ec821-52e5-495f-b90e-adac5b665c92' class='xr-index-data-in' type='checkbox'/><label for='index-4a3ec821-52e5-495f-b90e-adac5b665c92' title='Show/Hide index repr'><svg class='icon xr-icon-database'><use xlink:href='#icon-database'></use></svg></label><div class='xr-index-data'><pre>PandasIndex(Index([-179.5, -178.5, -177.5, -176.5, -175.5, -174.5, -173.5, -172.5, -171.5,\n",
       "       -170.5,\n",
       "       ...\n",
       "        170.5,  171.5,  172.5,  173.5,  174.5,  175.5,  176.5,  177.5,  178.5,\n",
       "        179.5],\n",
       "      dtype=&#x27;float64&#x27;, name=&#x27;lon&#x27;, length=360))</pre></div></li><li class='xr-var-item'><div class='xr-index-name'><div>region</div></div><div class='xr-index-preview'>PandasIndex</div><input type='checkbox' disabled/><label></label><input id='index-d76e68f9-34ec-4ba3-a1e6-7434825dde21' class='xr-index-data-in' type='checkbox'/><label for='index-d76e68f9-34ec-4ba3-a1e6-7434825dde21' title='Show/Hide index repr'><svg class='icon xr-icon-database'><use xlink:href='#icon-database'></use></svg></label><div class='xr-index-data'><pre>PandasIndex(Index([&#x27;global&#x27;, &#x27;north&#x27;, &#x27;tropics&#x27;, &#x27;south&#x27;], dtype=&#x27;object&#x27;, name=&#x27;region&#x27;))</pre></div></li></ul></div></li><li class='xr-section-item'><input id='section-3f08c706-2367-4580-9c98-8c983bba8bc2' class='xr-section-summary-in' type='checkbox'  ><label for='section-3f08c706-2367-4580-9c98-8c983bba8bc2' class='xr-section-summary' >Attributes: <span>(10)</span></label><div class='xr-section-inline-details'></div><div class='xr-section-details'><dl class='xr-attrs'><dt><span>contact :</span></dt><dd>gregorl@ethz.ch</dd><dt><span>author :</span></dt><dd>Luke Gregor</dd><dt><span>institution :</span></dt><dd>ETH Zuerich</dd><dt><span>version :</span></dt><dd>v2023.GCB</dd><dt><span>date :</span></dt><dd>2023-06-26</dd><dt><span>description :</span></dt><dd>talk and pco2 (more accurately fco2) are estimated with two step machine learning approaches, where data is first clustered into regions of similar variability and the regressed for each cluster. See talk and spco2 for machine learning details. The remaining parameters of the marine carbonate cycle are calculated from these two using PyCO2SYS. The following dissociation constants were used: K1K2 = Mehrbach refit by Dickson and Millero, KSO4 = Dickson 1990a, KF = Dickson &amp; Riley 1979.</dd><dt><span>changelog :</span></dt><dd>v2021d: Extended from 1982-2020; Now using: OISSTv2.1 for SST and ice; SODAv3.4.2 MLD; salinity products are stacked on top of each other with the following priority ESA-CCI salinity (2010-2019), SODAv3.4.2 salinity (1982-2019), EN4.2.1 salinity (2020). For detailed changes, see the variable specific info. </dd><dt><span>reference :</span></dt><dd>Gregor, L. and Gruber, N.: OceanSODA-ETHZ: A global gridded data set of the surface ocean carbonate system for seasonal to decadal studies of ocean acidification, Earth Syst. Sci. Data Discuss., https://doi.org/10.5194/essd-13-777-2021, 2020.</dd><dt><span>source :</span></dt><dd>https://doi.org/10.25921/m5wx-ja34</dd><dt><span>product :</span></dt><dd>OSETHZ-v2023.GCB</dd></dl></div></li></ul></div></div>"
      ],
      "text/plain": [
       "<xarray.Dataset> Size: 3GB\n",
       "Dimensions:          (time: 492, lat: 180, lon: 360, region: 4)\n",
       "Coordinates:\n",
       "  * time             (time) datetime64[ns] 4kB 1982-01-15 ... 2022-12-15\n",
       "  * lat              (lat) float64 1kB -89.5 -88.5 -87.5 ... 87.5 88.5 89.5\n",
       "  * lon              (lon) float64 3kB -179.5 -178.5 -177.5 ... 178.5 179.5\n",
       "  * region           (region) <U7 112B 'global' 'north' 'tropics' 'south'\n",
       "Data variables: (12/28)\n",
       "    talk             (time, lat, lon) float32 128MB ...\n",
       "    dic              (time, lat, lon) float32 128MB ...\n",
       "    spco2            (time, lat, lon) float32 128MB ...\n",
       "    sfco2            (time, lat, lon) float32 128MB ...\n",
       "    ph_total         (time, lat, lon) float32 128MB ...\n",
       "    ph_free          (time, lat, lon) float32 128MB ...\n",
       "    ...               ...\n",
       "    area             (lat, lon) float32 259kB ...\n",
       "    fgco2_reg        (region, time) float32 8kB ...\n",
       "    area_reg         (region) float32 16B ...\n",
       "    ice              (time, lat, lon) float32 128MB ...\n",
       "    kw               (time, lat, lon) float32 128MB ...\n",
       "    sol              (time, lat, lon) float32 128MB ...\n",
       "Attributes:\n",
       "    contact:      gregorl@ethz.ch\n",
       "    author:       Luke Gregor\n",
       "    institution:  ETH Zuerich\n",
       "    version:      v2023.GCB\n",
       "    date:         2023-06-26\n",
       "    description:  talk and pco2 (more accurately fco2) are estimated with two...\n",
       "    changelog:    v2021d: Extended from 1982-2020; Now using: OISSTv2.1 for S...\n",
       "    reference:    Gregor, L. and Gruber, N.: OceanSODA-ETHZ: A global gridded...\n",
       "    source:       https://doi.org/10.25921/m5wx-ja34\n",
       "    product:      OSETHZ-v2023.GCB"
      ]
     },
     "execution_count": 72,
     "metadata": {},
     "output_type": "execute_result"
    }
   ],
   "source": [
    "ds_ph"
   ]
  },
  {
   "cell_type": "markdown",
   "id": "ee7e2c25",
   "metadata": {},
   "source": [
    "<div style=\"padding: 10px; border-radius: 5px; background-color: #d4edda; color: #155724; border-left: 5px solid #28a745;\">\n",
    "    <strong>Question:</strong> What is the difference btw total_pH and free_pH ?\n",
    "</div>\n"
   ]
  },
  {
   "cell_type": "code",
   "execution_count": 87,
   "id": "0ff01a7f",
   "metadata": {},
   "outputs": [
    {
     "data": {
      "text/html": [
       "<div><svg style=\"position: absolute; width: 0; height: 0; overflow: hidden\">\n",
       "<defs>\n",
       "<symbol id=\"icon-database\" viewBox=\"0 0 32 32\">\n",
       "<path d=\"M16 0c-8.837 0-16 2.239-16 5v4c0 2.761 7.163 5 16 5s16-2.239 16-5v-4c0-2.761-7.163-5-16-5z\"></path>\n",
       "<path d=\"M16 17c-8.837 0-16-2.239-16-5v6c0 2.761 7.163 5 16 5s16-2.239 16-5v-6c0 2.761-7.163 5-16 5z\"></path>\n",
       "<path d=\"M16 26c-8.837 0-16-2.239-16-5v6c0 2.761 7.163 5 16 5s16-2.239 16-5v-6c0 2.761-7.163 5-16 5z\"></path>\n",
       "</symbol>\n",
       "<symbol id=\"icon-file-text2\" viewBox=\"0 0 32 32\">\n",
       "<path d=\"M28.681 7.159c-0.694-0.947-1.662-2.053-2.724-3.116s-2.169-2.030-3.116-2.724c-1.612-1.182-2.393-1.319-2.841-1.319h-15.5c-1.378 0-2.5 1.121-2.5 2.5v27c0 1.378 1.122 2.5 2.5 2.5h23c1.378 0 2.5-1.122 2.5-2.5v-19.5c0-0.448-0.137-1.23-1.319-2.841zM24.543 5.457c0.959 0.959 1.712 1.825 2.268 2.543h-4.811v-4.811c0.718 0.556 1.584 1.309 2.543 2.268zM28 29.5c0 0.271-0.229 0.5-0.5 0.5h-23c-0.271 0-0.5-0.229-0.5-0.5v-27c0-0.271 0.229-0.5 0.5-0.5 0 0 15.499-0 15.5 0v7c0 0.552 0.448 1 1 1h7v19.5z\"></path>\n",
       "<path d=\"M23 26h-14c-0.552 0-1-0.448-1-1s0.448-1 1-1h14c0.552 0 1 0.448 1 1s-0.448 1-1 1z\"></path>\n",
       "<path d=\"M23 22h-14c-0.552 0-1-0.448-1-1s0.448-1 1-1h14c0.552 0 1 0.448 1 1s-0.448 1-1 1z\"></path>\n",
       "<path d=\"M23 18h-14c-0.552 0-1-0.448-1-1s0.448-1 1-1h14c0.552 0 1 0.448 1 1s-0.448 1-1 1z\"></path>\n",
       "</symbol>\n",
       "</defs>\n",
       "</svg>\n",
       "<style>/* CSS stylesheet for displaying xarray objects in jupyterlab.\n",
       " *\n",
       " */\n",
       "\n",
       ":root {\n",
       "  --xr-font-color0: var(--jp-content-font-color0, rgba(0, 0, 0, 1));\n",
       "  --xr-font-color2: var(--jp-content-font-color2, rgba(0, 0, 0, 0.54));\n",
       "  --xr-font-color3: var(--jp-content-font-color3, rgba(0, 0, 0, 0.38));\n",
       "  --xr-border-color: var(--jp-border-color2, #e0e0e0);\n",
       "  --xr-disabled-color: var(--jp-layout-color3, #bdbdbd);\n",
       "  --xr-background-color: var(--jp-layout-color0, white);\n",
       "  --xr-background-color-row-even: var(--jp-layout-color1, white);\n",
       "  --xr-background-color-row-odd: var(--jp-layout-color2, #eeeeee);\n",
       "}\n",
       "\n",
       "html[theme=\"dark\"],\n",
       "html[data-theme=\"dark\"],\n",
       "body[data-theme=\"dark\"],\n",
       "body.vscode-dark {\n",
       "  --xr-font-color0: rgba(255, 255, 255, 1);\n",
       "  --xr-font-color2: rgba(255, 255, 255, 0.54);\n",
       "  --xr-font-color3: rgba(255, 255, 255, 0.38);\n",
       "  --xr-border-color: #1f1f1f;\n",
       "  --xr-disabled-color: #515151;\n",
       "  --xr-background-color: #111111;\n",
       "  --xr-background-color-row-even: #111111;\n",
       "  --xr-background-color-row-odd: #313131;\n",
       "}\n",
       "\n",
       ".xr-wrap {\n",
       "  display: block !important;\n",
       "  min-width: 300px;\n",
       "  max-width: 700px;\n",
       "}\n",
       "\n",
       ".xr-text-repr-fallback {\n",
       "  /* fallback to plain text repr when CSS is not injected (untrusted notebook) */\n",
       "  display: none;\n",
       "}\n",
       "\n",
       ".xr-header {\n",
       "  padding-top: 6px;\n",
       "  padding-bottom: 6px;\n",
       "  margin-bottom: 4px;\n",
       "  border-bottom: solid 1px var(--xr-border-color);\n",
       "}\n",
       "\n",
       ".xr-header > div,\n",
       ".xr-header > ul {\n",
       "  display: inline;\n",
       "  margin-top: 0;\n",
       "  margin-bottom: 0;\n",
       "}\n",
       "\n",
       ".xr-obj-type,\n",
       ".xr-array-name {\n",
       "  margin-left: 2px;\n",
       "  margin-right: 10px;\n",
       "}\n",
       "\n",
       ".xr-obj-type {\n",
       "  color: var(--xr-font-color2);\n",
       "}\n",
       "\n",
       ".xr-sections {\n",
       "  padding-left: 0 !important;\n",
       "  display: grid;\n",
       "  grid-template-columns: 150px auto auto 1fr 0 20px 0 20px;\n",
       "}\n",
       "\n",
       ".xr-section-item {\n",
       "  display: contents;\n",
       "}\n",
       "\n",
       ".xr-section-item input {\n",
       "  display: inline-block;\n",
       "  opacity: 0;\n",
       "  height: 0;\n",
       "}\n",
       "\n",
       ".xr-section-item input + label {\n",
       "  color: var(--xr-disabled-color);\n",
       "}\n",
       "\n",
       ".xr-section-item input:enabled + label {\n",
       "  cursor: pointer;\n",
       "  color: var(--xr-font-color2);\n",
       "}\n",
       "\n",
       ".xr-section-item input:focus + label {\n",
       "  border: 2px solid var(--xr-font-color0);\n",
       "}\n",
       "\n",
       ".xr-section-item input:enabled + label:hover {\n",
       "  color: var(--xr-font-color0);\n",
       "}\n",
       "\n",
       ".xr-section-summary {\n",
       "  grid-column: 1;\n",
       "  color: var(--xr-font-color2);\n",
       "  font-weight: 500;\n",
       "}\n",
       "\n",
       ".xr-section-summary > span {\n",
       "  display: inline-block;\n",
       "  padding-left: 0.5em;\n",
       "}\n",
       "\n",
       ".xr-section-summary-in:disabled + label {\n",
       "  color: var(--xr-font-color2);\n",
       "}\n",
       "\n",
       ".xr-section-summary-in + label:before {\n",
       "  display: inline-block;\n",
       "  content: \"►\";\n",
       "  font-size: 11px;\n",
       "  width: 15px;\n",
       "  text-align: center;\n",
       "}\n",
       "\n",
       ".xr-section-summary-in:disabled + label:before {\n",
       "  color: var(--xr-disabled-color);\n",
       "}\n",
       "\n",
       ".xr-section-summary-in:checked + label:before {\n",
       "  content: \"▼\";\n",
       "}\n",
       "\n",
       ".xr-section-summary-in:checked + label > span {\n",
       "  display: none;\n",
       "}\n",
       "\n",
       ".xr-section-summary,\n",
       ".xr-section-inline-details {\n",
       "  padding-top: 4px;\n",
       "  padding-bottom: 4px;\n",
       "}\n",
       "\n",
       ".xr-section-inline-details {\n",
       "  grid-column: 2 / -1;\n",
       "}\n",
       "\n",
       ".xr-section-details {\n",
       "  display: none;\n",
       "  grid-column: 1 / -1;\n",
       "  margin-bottom: 5px;\n",
       "}\n",
       "\n",
       ".xr-section-summary-in:checked ~ .xr-section-details {\n",
       "  display: contents;\n",
       "}\n",
       "\n",
       ".xr-array-wrap {\n",
       "  grid-column: 1 / -1;\n",
       "  display: grid;\n",
       "  grid-template-columns: 20px auto;\n",
       "}\n",
       "\n",
       ".xr-array-wrap > label {\n",
       "  grid-column: 1;\n",
       "  vertical-align: top;\n",
       "}\n",
       "\n",
       ".xr-preview {\n",
       "  color: var(--xr-font-color3);\n",
       "}\n",
       "\n",
       ".xr-array-preview,\n",
       ".xr-array-data {\n",
       "  padding: 0 5px !important;\n",
       "  grid-column: 2;\n",
       "}\n",
       "\n",
       ".xr-array-data,\n",
       ".xr-array-in:checked ~ .xr-array-preview {\n",
       "  display: none;\n",
       "}\n",
       "\n",
       ".xr-array-in:checked ~ .xr-array-data,\n",
       ".xr-array-preview {\n",
       "  display: inline-block;\n",
       "}\n",
       "\n",
       ".xr-dim-list {\n",
       "  display: inline-block !important;\n",
       "  list-style: none;\n",
       "  padding: 0 !important;\n",
       "  margin: 0;\n",
       "}\n",
       "\n",
       ".xr-dim-list li {\n",
       "  display: inline-block;\n",
       "  padding: 0;\n",
       "  margin: 0;\n",
       "}\n",
       "\n",
       ".xr-dim-list:before {\n",
       "  content: \"(\";\n",
       "}\n",
       "\n",
       ".xr-dim-list:after {\n",
       "  content: \")\";\n",
       "}\n",
       "\n",
       ".xr-dim-list li:not(:last-child):after {\n",
       "  content: \",\";\n",
       "  padding-right: 5px;\n",
       "}\n",
       "\n",
       ".xr-has-index {\n",
       "  font-weight: bold;\n",
       "}\n",
       "\n",
       ".xr-var-list,\n",
       ".xr-var-item {\n",
       "  display: contents;\n",
       "}\n",
       "\n",
       ".xr-var-item > div,\n",
       ".xr-var-item label,\n",
       ".xr-var-item > .xr-var-name span {\n",
       "  background-color: var(--xr-background-color-row-even);\n",
       "  margin-bottom: 0;\n",
       "}\n",
       "\n",
       ".xr-var-item > .xr-var-name:hover span {\n",
       "  padding-right: 5px;\n",
       "}\n",
       "\n",
       ".xr-var-list > li:nth-child(odd) > div,\n",
       ".xr-var-list > li:nth-child(odd) > label,\n",
       ".xr-var-list > li:nth-child(odd) > .xr-var-name span {\n",
       "  background-color: var(--xr-background-color-row-odd);\n",
       "}\n",
       "\n",
       ".xr-var-name {\n",
       "  grid-column: 1;\n",
       "}\n",
       "\n",
       ".xr-var-dims {\n",
       "  grid-column: 2;\n",
       "}\n",
       "\n",
       ".xr-var-dtype {\n",
       "  grid-column: 3;\n",
       "  text-align: right;\n",
       "  color: var(--xr-font-color2);\n",
       "}\n",
       "\n",
       ".xr-var-preview {\n",
       "  grid-column: 4;\n",
       "}\n",
       "\n",
       ".xr-index-preview {\n",
       "  grid-column: 2 / 5;\n",
       "  color: var(--xr-font-color2);\n",
       "}\n",
       "\n",
       ".xr-var-name,\n",
       ".xr-var-dims,\n",
       ".xr-var-dtype,\n",
       ".xr-preview,\n",
       ".xr-attrs dt {\n",
       "  white-space: nowrap;\n",
       "  overflow: hidden;\n",
       "  text-overflow: ellipsis;\n",
       "  padding-right: 10px;\n",
       "}\n",
       "\n",
       ".xr-var-name:hover,\n",
       ".xr-var-dims:hover,\n",
       ".xr-var-dtype:hover,\n",
       ".xr-attrs dt:hover {\n",
       "  overflow: visible;\n",
       "  width: auto;\n",
       "  z-index: 1;\n",
       "}\n",
       "\n",
       ".xr-var-attrs,\n",
       ".xr-var-data,\n",
       ".xr-index-data {\n",
       "  display: none;\n",
       "  background-color: var(--xr-background-color) !important;\n",
       "  padding-bottom: 5px !important;\n",
       "}\n",
       "\n",
       ".xr-var-attrs-in:checked ~ .xr-var-attrs,\n",
       ".xr-var-data-in:checked ~ .xr-var-data,\n",
       ".xr-index-data-in:checked ~ .xr-index-data {\n",
       "  display: block;\n",
       "}\n",
       "\n",
       ".xr-var-data > table {\n",
       "  float: right;\n",
       "}\n",
       "\n",
       ".xr-var-name span,\n",
       ".xr-var-data,\n",
       ".xr-index-name div,\n",
       ".xr-index-data,\n",
       ".xr-attrs {\n",
       "  padding-left: 25px !important;\n",
       "}\n",
       "\n",
       ".xr-attrs,\n",
       ".xr-var-attrs,\n",
       ".xr-var-data,\n",
       ".xr-index-data {\n",
       "  grid-column: 1 / -1;\n",
       "}\n",
       "\n",
       "dl.xr-attrs {\n",
       "  padding: 0;\n",
       "  margin: 0;\n",
       "  display: grid;\n",
       "  grid-template-columns: 125px auto;\n",
       "}\n",
       "\n",
       ".xr-attrs dt,\n",
       ".xr-attrs dd {\n",
       "  padding: 0;\n",
       "  margin: 0;\n",
       "  float: left;\n",
       "  padding-right: 10px;\n",
       "  width: auto;\n",
       "}\n",
       "\n",
       ".xr-attrs dt {\n",
       "  font-weight: normal;\n",
       "  grid-column: 1;\n",
       "}\n",
       "\n",
       ".xr-attrs dt:hover span {\n",
       "  display: inline-block;\n",
       "  background: var(--xr-background-color);\n",
       "  padding-right: 10px;\n",
       "}\n",
       "\n",
       ".xr-attrs dd {\n",
       "  grid-column: 2;\n",
       "  white-space: pre-wrap;\n",
       "  word-break: break-all;\n",
       "}\n",
       "\n",
       ".xr-icon-database,\n",
       ".xr-icon-file-text2,\n",
       ".xr-no-icon {\n",
       "  display: inline-block;\n",
       "  vertical-align: middle;\n",
       "  width: 1em;\n",
       "  height: 1.5em !important;\n",
       "  stroke-width: 0;\n",
       "  stroke: currentColor;\n",
       "  fill: currentColor;\n",
       "}\n",
       "</style><pre class='xr-text-repr-fallback'>&lt;xarray.Dataset&gt; Size: 251kB\n",
       "Dimensions:          (time: 276, lat: 3, lon: 3)\n",
       "Coordinates:\n",
       "  * time             (time) datetime64[ns] 2kB 1998-01-15 ... 2020-12-15\n",
       "  * lat              (lat) float64 24B 48.5 49.5 50.5\n",
       "  * lon              (lon) float64 24B -130.5 -129.5 -128.5\n",
       "Data variables: (12/26)\n",
       "    talk             (time, lat, lon) float32 10kB ...\n",
       "    dic              (time, lat, lon) float32 10kB ...\n",
       "    spco2            (time, lat, lon) float32 10kB ...\n",
       "    sfco2            (time, lat, lon) float32 10kB ...\n",
       "    ph_total         (time, lat, lon) float32 10kB ...\n",
       "    ph_free          (time, lat, lon) float32 10kB ...\n",
       "    ...               ...\n",
       "    sfco2_uncert     (time, lat, lon) float32 10kB ...\n",
       "    fgco2            (time, lat, lon) float32 10kB ...\n",
       "    area             (lat, lon) float32 36B ...\n",
       "    ice              (time, lat, lon) float32 10kB ...\n",
       "    kw               (time, lat, lon) float32 10kB ...\n",
       "    sol              (time, lat, lon) float32 10kB ...\n",
       "Attributes:\n",
       "    contact:      gregorl@ethz.ch\n",
       "    author:       Luke Gregor\n",
       "    institution:  ETH Zuerich\n",
       "    version:      v2023.GCB\n",
       "    date:         2023-06-26\n",
       "    description:  talk and pco2 (more accurately fco2) are estimated with two...\n",
       "    changelog:    v2021d: Extended from 1982-2020; Now using: OISSTv2.1 for S...\n",
       "    reference:    Gregor, L. and Gruber, N.: OceanSODA-ETHZ: A global gridded...\n",
       "    source:       https://doi.org/10.25921/m5wx-ja34\n",
       "    product:      OSETHZ-v2023.GCB</pre><div class='xr-wrap' style='display:none'><div class='xr-header'><div class='xr-obj-type'>xarray.Dataset</div></div><ul class='xr-sections'><li class='xr-section-item'><input id='section-25143720-d4d5-4d8e-b5e2-b1161a88b0ca' class='xr-section-summary-in' type='checkbox' disabled ><label for='section-25143720-d4d5-4d8e-b5e2-b1161a88b0ca' class='xr-section-summary'  title='Expand/collapse section'>Dimensions:</label><div class='xr-section-inline-details'><ul class='xr-dim-list'><li><span class='xr-has-index'>time</span>: 276</li><li><span class='xr-has-index'>lat</span>: 3</li><li><span class='xr-has-index'>lon</span>: 3</li></ul></div><div class='xr-section-details'></div></li><li class='xr-section-item'><input id='section-cc751107-65f9-4f5d-8d2a-4c8e31cf78e0' class='xr-section-summary-in' type='checkbox'  checked><label for='section-cc751107-65f9-4f5d-8d2a-4c8e31cf78e0' class='xr-section-summary' >Coordinates: <span>(3)</span></label><div class='xr-section-inline-details'></div><div class='xr-section-details'><ul class='xr-var-list'><li class='xr-var-item'><div class='xr-var-name'><span class='xr-has-index'>time</span></div><div class='xr-var-dims'>(time)</div><div class='xr-var-dtype'>datetime64[ns]</div><div class='xr-var-preview xr-preview'>1998-01-15 ... 2020-12-15</div><input id='attrs-d3ec2a6a-5726-442e-a9e1-9b887803cf35' class='xr-var-attrs-in' type='checkbox' disabled><label for='attrs-d3ec2a6a-5726-442e-a9e1-9b887803cf35' title='Show/Hide attributes'><svg class='icon xr-icon-file-text2'><use xlink:href='#icon-file-text2'></use></svg></label><input id='data-2fb269c0-b893-4944-b26a-8ab53f4e5746' class='xr-var-data-in' type='checkbox'><label for='data-2fb269c0-b893-4944-b26a-8ab53f4e5746' title='Show/Hide data repr'><svg class='icon xr-icon-database'><use xlink:href='#icon-database'></use></svg></label><div class='xr-var-attrs'><dl class='xr-attrs'></dl></div><div class='xr-var-data'><pre>array([&#x27;1998-01-15T00:00:00.000000000&#x27;, &#x27;1998-02-15T00:00:00.000000000&#x27;,\n",
       "       &#x27;1998-03-15T00:00:00.000000000&#x27;, ..., &#x27;2020-10-15T00:00:00.000000000&#x27;,\n",
       "       &#x27;2020-11-15T00:00:00.000000000&#x27;, &#x27;2020-12-15T00:00:00.000000000&#x27;],\n",
       "      dtype=&#x27;datetime64[ns]&#x27;)</pre></div></li><li class='xr-var-item'><div class='xr-var-name'><span class='xr-has-index'>lat</span></div><div class='xr-var-dims'>(lat)</div><div class='xr-var-dtype'>float64</div><div class='xr-var-preview xr-preview'>48.5 49.5 50.5</div><input id='attrs-af66929f-43c3-41f0-af10-8f01f8df8961' class='xr-var-attrs-in' type='checkbox' disabled><label for='attrs-af66929f-43c3-41f0-af10-8f01f8df8961' title='Show/Hide attributes'><svg class='icon xr-icon-file-text2'><use xlink:href='#icon-file-text2'></use></svg></label><input id='data-0b716bfb-a148-4aa1-bac0-8d360d469a37' class='xr-var-data-in' type='checkbox'><label for='data-0b716bfb-a148-4aa1-bac0-8d360d469a37' title='Show/Hide data repr'><svg class='icon xr-icon-database'><use xlink:href='#icon-database'></use></svg></label><div class='xr-var-attrs'><dl class='xr-attrs'></dl></div><div class='xr-var-data'><pre>array([48.5, 49.5, 50.5])</pre></div></li><li class='xr-var-item'><div class='xr-var-name'><span class='xr-has-index'>lon</span></div><div class='xr-var-dims'>(lon)</div><div class='xr-var-dtype'>float64</div><div class='xr-var-preview xr-preview'>-130.5 -129.5 -128.5</div><input id='attrs-156896bd-9b46-4e18-a2e7-23a7074443a7' class='xr-var-attrs-in' type='checkbox' disabled><label for='attrs-156896bd-9b46-4e18-a2e7-23a7074443a7' title='Show/Hide attributes'><svg class='icon xr-icon-file-text2'><use xlink:href='#icon-file-text2'></use></svg></label><input id='data-86567c0a-d2ea-4778-b96f-c89468356546' class='xr-var-data-in' type='checkbox'><label for='data-86567c0a-d2ea-4778-b96f-c89468356546' title='Show/Hide data repr'><svg class='icon xr-icon-database'><use xlink:href='#icon-database'></use></svg></label><div class='xr-var-attrs'><dl class='xr-attrs'></dl></div><div class='xr-var-data'><pre>array([-130.5, -129.5, -128.5])</pre></div></li></ul></div></li><li class='xr-section-item'><input id='section-88fc426c-c298-4eeb-9a18-75e9a45c98fc' class='xr-section-summary-in' type='checkbox'  ><label for='section-88fc426c-c298-4eeb-9a18-75e9a45c98fc' class='xr-section-summary' >Data variables: <span>(26)</span></label><div class='xr-section-inline-details'></div><div class='xr-section-details'><ul class='xr-var-list'><li class='xr-var-item'><div class='xr-var-name'><span>talk</span></div><div class='xr-var-dims'>(time, lat, lon)</div><div class='xr-var-dtype'>float32</div><div class='xr-var-preview xr-preview'>...</div><input id='attrs-f23fe1a6-c697-4887-8c7e-949914313068' class='xr-var-attrs-in' type='checkbox' ><label for='attrs-f23fe1a6-c697-4887-8c7e-949914313068' title='Show/Hide attributes'><svg class='icon xr-icon-file-text2'><use xlink:href='#icon-file-text2'></use></svg></label><input id='data-192869de-d724-448a-afbc-7764d5922d43' class='xr-var-data-in' type='checkbox'><label for='data-192869de-d724-448a-afbc-7764d5922d43' title='Show/Hide data repr'><svg class='icon xr-icon-database'><use xlink:href='#icon-database'></use></svg></label><div class='xr-var-attrs'><dl class='xr-attrs'><dt><span>description :</span></dt><dd>Total alkalinity estimated with an ensemble of SVR models (scikit-learn)</dd><dt><span>author :</span></dt><dd>Luke Gregor</dd><dt><span>date :</span></dt><dd>2023-06-23</dd><dt><span>data_input_file :</span></dt><dd>./OSETHv2023.GCB_data_1982-2022.nc</dd><dt><span>cluster_input_file :</span></dt><dd>../models/v2023.GCB_talk/member_01/clusters.nc</dd><dt><span>model_file_names :</span></dt><dd>../models/v2023.GCB_talk/member_01/svr/model_c**</dd><dt><span>cluster_vars :</span></dt><dd>[&#x27;talk_glodap&#x27; &#x27;medsea&#x27; &#x27;salt_stacked_clim&#x27; &#x27;temp_oisst_clim&#x27; &#x27;nstar_woa&#x27;]</dd><dt><span>n_clusters :</span></dt><dd>12</dd><dt><span>predictors :</span></dt><dd>[&#x27;temp_oisst&#x27;, &#x27;salt_stacked&#x27;, &#x27;silicate_woa&#x27;, &#x27;nitrate_star_woa&#x27;, &#x27;ssh_detrend_duacs&#x27;]</dd><dt><span>target :</span></dt><dd>talk_glodap (8 members) + talk_norm_glodap (8 members)</dd><dt><span>source_file :</span></dt><dd>/net/kryo/work/gregorl/projects/2022-OceanSODA-ETHZ/data/output/v2023.GCB_talk/talk_ensemble_train.nc</dd><dt><span>standard_name :</span></dt><dd>total_alkalinity_in_sea_water</dd><dt><span>model_name :</span></dt><dd>talkos</dd><dt><span>units :</span></dt><dd>umol/kg</dd><dt><span>clustering_model :</span></dt><dd>K-means</dd><dt><span>regression_model :</span></dt><dd>Support Vector Regression</dd></dl></div><div class='xr-var-data'><pre>[2484 values with dtype=float32]</pre></div></li><li class='xr-var-item'><div class='xr-var-name'><span>dic</span></div><div class='xr-var-dims'>(time, lat, lon)</div><div class='xr-var-dtype'>float32</div><div class='xr-var-preview xr-preview'>...</div><input id='attrs-77f1b68a-bc18-4f90-a918-214418582fcb' class='xr-var-attrs-in' type='checkbox' ><label for='attrs-77f1b68a-bc18-4f90-a918-214418582fcb' title='Show/Hide attributes'><svg class='icon xr-icon-file-text2'><use xlink:href='#icon-file-text2'></use></svg></label><input id='data-499949bc-5267-4664-8ee7-3245b95924b7' class='xr-var-data-in' type='checkbox'><label for='data-499949bc-5267-4664-8ee7-3245b95924b7' title='Show/Hide data repr'><svg class='icon xr-icon-database'><use xlink:href='#icon-database'></use></svg></label><div class='xr-var-attrs'><dl class='xr-attrs'><dt><span>standard_name :</span></dt><dd>mole_concentration_of_dissolved_inorganic_carbon_in_sea_water</dd><dt><span>model_name :</span></dt><dd>dissicos</dd><dt><span>units :</span></dt><dd>umol/kg</dd></dl></div><div class='xr-var-data'><pre>[2484 values with dtype=float32]</pre></div></li><li class='xr-var-item'><div class='xr-var-name'><span>spco2</span></div><div class='xr-var-dims'>(time, lat, lon)</div><div class='xr-var-dtype'>float32</div><div class='xr-var-preview xr-preview'>...</div><input id='attrs-6c55e7c4-3bf0-480a-8a31-1fd4d00537d1' class='xr-var-attrs-in' type='checkbox' ><label for='attrs-6c55e7c4-3bf0-480a-8a31-1fd4d00537d1' title='Show/Hide attributes'><svg class='icon xr-icon-file-text2'><use xlink:href='#icon-file-text2'></use></svg></label><input id='data-a65c1f54-1d5b-46a3-bee6-23eb83589b49' class='xr-var-data-in' type='checkbox'><label for='data-a65c1f54-1d5b-46a3-bee6-23eb83589b49' title='Show/Hide data repr'><svg class='icon xr-icon-database'><use xlink:href='#icon-database'></use></svg></label><div class='xr-var-attrs'><dl class='xr-attrs'><dt><span>standard_name :</span></dt><dd>surface_partial_pressure_of_carbon_dioxide_in_sea_water</dd><dt><span>model_name :</span></dt><dd>spco2</dd><dt><span>units :</span></dt><dd>uatm</dd><dt><span>description :</span></dt><dd>surface ocean pCO2</dd></dl></div><div class='xr-var-data'><pre>[2484 values with dtype=float32]</pre></div></li><li class='xr-var-item'><div class='xr-var-name'><span>sfco2</span></div><div class='xr-var-dims'>(time, lat, lon)</div><div class='xr-var-dtype'>float32</div><div class='xr-var-preview xr-preview'>...</div><input id='attrs-365b69b6-781e-44e5-8148-1f2d3922f535' class='xr-var-attrs-in' type='checkbox' ><label for='attrs-365b69b6-781e-44e5-8148-1f2d3922f535' title='Show/Hide attributes'><svg class='icon xr-icon-file-text2'><use xlink:href='#icon-file-text2'></use></svg></label><input id='data-fc9553fa-a24f-4084-bb89-727688535ac2' class='xr-var-data-in' type='checkbox'><label for='data-fc9553fa-a24f-4084-bb89-727688535ac2' title='Show/Hide data repr'><svg class='icon xr-icon-database'><use xlink:href='#icon-database'></use></svg></label><div class='xr-var-attrs'><dl class='xr-attrs'><dt><span>description :</span></dt><dd>surface dfco2 predicted with a two-step cluster-regression approach</dd><dt><span>author :</span></dt><dd>Luke Gregor</dd><dt><span>date :</span></dt><dd>2023-06-23</dd><dt><span>data_input_file :</span></dt><dd>./OSETHv2023.GCB_data_1982-2022.nc</dd><dt><span>cluster_input_file :</span></dt><dd>../models/v2023.GCB_dfco2star/member_01/clusters.nc</dd><dt><span>model_file_names :</span></dt><dd>../models/v2023.GCB_dfco2star/member_01/lightgbm/model_c**</dd><dt><span>cluster_vars :</span></dt><dd>[&#x27;pco2_seaflux_filled&#x27; &#x27;temp_oisst_clim&#x27; &#x27;medsea&#x27; &#x27;mld_soda_clim&#x27;\n",
       " &#x27;chl_cci_avg&#x27;]</dd><dt><span>n_clusters :</span></dt><dd>21</dd><dt><span>predictors :</span></dt><dd>[&#x27;xco2_noaa&#x27;, &#x27;temp_oisst&#x27;, &#x27;temp_clim_oisst_anom&#x27;, &#x27;salt_stacked&#x27;, &#x27;chl_cci_fill_log10&#x27;, &#x27;mld_press_soda_log10&#x27;, &#x27;icec_oisst_diff&#x27;, &#x27;u10_era5&#x27;, &#x27;v10_era5&#x27;, &#x27;ssh_detrend_duacs&#x27;]</dd><dt><span>target :</span></dt><dd>y_dfco2_socat</dd><dt><span>source_file :</span></dt><dd>/net/kryo/work/gregorl/projects/2022-OceanSODA-ETHZ/data/output/v2023.GCB_dfco2star/dfco2star_ensemble_train.nc</dd></dl></div><div class='xr-var-data'><pre>[2484 values with dtype=float32]</pre></div></li><li class='xr-var-item'><div class='xr-var-name'><span>ph_total</span></div><div class='xr-var-dims'>(time, lat, lon)</div><div class='xr-var-dtype'>float32</div><div class='xr-var-preview xr-preview'>...</div><input id='attrs-43f3c0d2-6c4f-4d73-adce-728815bee0c8' class='xr-var-attrs-in' type='checkbox' ><label for='attrs-43f3c0d2-6c4f-4d73-adce-728815bee0c8' title='Show/Hide attributes'><svg class='icon xr-icon-file-text2'><use xlink:href='#icon-file-text2'></use></svg></label><input id='data-db710a53-4a99-4465-9fb0-916596d5d82f' class='xr-var-data-in' type='checkbox'><label for='data-db710a53-4a99-4465-9fb0-916596d5d82f' title='Show/Hide data repr'><svg class='icon xr-icon-database'><use xlink:href='#icon-database'></use></svg></label><div class='xr-var-attrs'><dl class='xr-attrs'><dt><span>units :</span></dt><dd>-log([H+])</dd><dt><span>description :</span></dt><dd>surface ocean pH on the total scale</dd></dl></div><div class='xr-var-data'><pre>[2484 values with dtype=float32]</pre></div></li><li class='xr-var-item'><div class='xr-var-name'><span>ph_free</span></div><div class='xr-var-dims'>(time, lat, lon)</div><div class='xr-var-dtype'>float32</div><div class='xr-var-preview xr-preview'>...</div><input id='attrs-74ba35af-d38c-4126-9e6e-1592cde2fe9c' class='xr-var-attrs-in' type='checkbox' disabled><label for='attrs-74ba35af-d38c-4126-9e6e-1592cde2fe9c' title='Show/Hide attributes'><svg class='icon xr-icon-file-text2'><use xlink:href='#icon-file-text2'></use></svg></label><input id='data-2c7e6c60-00ac-4a26-b2fc-837027f7c1b8' class='xr-var-data-in' type='checkbox'><label for='data-2c7e6c60-00ac-4a26-b2fc-837027f7c1b8' title='Show/Hide data repr'><svg class='icon xr-icon-database'><use xlink:href='#icon-database'></use></svg></label><div class='xr-var-attrs'><dl class='xr-attrs'></dl></div><div class='xr-var-data'><pre>[2484 values with dtype=float32]</pre></div></li><li class='xr-var-item'><div class='xr-var-name'><span>hco3</span></div><div class='xr-var-dims'>(time, lat, lon)</div><div class='xr-var-dtype'>float32</div><div class='xr-var-preview xr-preview'>...</div><input id='attrs-7fb1457b-5677-4317-ab44-350ee7b08fda' class='xr-var-attrs-in' type='checkbox' ><label for='attrs-7fb1457b-5677-4317-ab44-350ee7b08fda' title='Show/Hide attributes'><svg class='icon xr-icon-file-text2'><use xlink:href='#icon-file-text2'></use></svg></label><input id='data-5b00fb7d-6863-4f6a-aad6-aa2dccd53431' class='xr-var-data-in' type='checkbox'><label for='data-5b00fb7d-6863-4f6a-aad6-aa2dccd53431' title='Show/Hide data repr'><svg class='icon xr-icon-database'><use xlink:href='#icon-database'></use></svg></label><div class='xr-var-attrs'><dl class='xr-attrs'><dt><span>units :</span></dt><dd>umol/kg</dd></dl></div><div class='xr-var-data'><pre>[2484 values with dtype=float32]</pre></div></li><li class='xr-var-item'><div class='xr-var-name'><span>co3</span></div><div class='xr-var-dims'>(time, lat, lon)</div><div class='xr-var-dtype'>float32</div><div class='xr-var-preview xr-preview'>...</div><input id='attrs-4117f8cf-77d3-4306-83b8-f8db2849c16d' class='xr-var-attrs-in' type='checkbox' ><label for='attrs-4117f8cf-77d3-4306-83b8-f8db2849c16d' title='Show/Hide attributes'><svg class='icon xr-icon-file-text2'><use xlink:href='#icon-file-text2'></use></svg></label><input id='data-162f5158-9955-4ebc-a548-3662d131cf9a' class='xr-var-data-in' type='checkbox'><label for='data-162f5158-9955-4ebc-a548-3662d131cf9a' title='Show/Hide data repr'><svg class='icon xr-icon-database'><use xlink:href='#icon-database'></use></svg></label><div class='xr-var-attrs'><dl class='xr-attrs'><dt><span>units :</span></dt><dd>umol/kg</dd></dl></div><div class='xr-var-data'><pre>[2484 values with dtype=float32]</pre></div></li><li class='xr-var-item'><div class='xr-var-name'><span>co2</span></div><div class='xr-var-dims'>(time, lat, lon)</div><div class='xr-var-dtype'>float32</div><div class='xr-var-preview xr-preview'>...</div><input id='attrs-83336aaf-e214-406e-ac86-81b1f9f5993c' class='xr-var-attrs-in' type='checkbox' ><label for='attrs-83336aaf-e214-406e-ac86-81b1f9f5993c' title='Show/Hide attributes'><svg class='icon xr-icon-file-text2'><use xlink:href='#icon-file-text2'></use></svg></label><input id='data-6cd17c3d-9a16-4a07-baa5-eee63a61f3bc' class='xr-var-data-in' type='checkbox'><label for='data-6cd17c3d-9a16-4a07-baa5-eee63a61f3bc' title='Show/Hide data repr'><svg class='icon xr-icon-database'><use xlink:href='#icon-database'></use></svg></label><div class='xr-var-attrs'><dl class='xr-attrs'><dt><span>units :</span></dt><dd>umol/kg</dd></dl></div><div class='xr-var-data'><pre>[2484 values with dtype=float32]</pre></div></li><li class='xr-var-item'><div class='xr-var-name'><span>revelle_factor</span></div><div class='xr-var-dims'>(time, lat, lon)</div><div class='xr-var-dtype'>float32</div><div class='xr-var-preview xr-preview'>...</div><input id='attrs-5d6f12a8-e55f-4217-afa8-0a8ed9da353c' class='xr-var-attrs-in' type='checkbox' disabled><label for='attrs-5d6f12a8-e55f-4217-afa8-0a8ed9da353c' title='Show/Hide attributes'><svg class='icon xr-icon-file-text2'><use xlink:href='#icon-file-text2'></use></svg></label><input id='data-51f6d522-484c-45f0-bbc9-0f2fa1ec3044' class='xr-var-data-in' type='checkbox'><label for='data-51f6d522-484c-45f0-bbc9-0f2fa1ec3044' title='Show/Hide data repr'><svg class='icon xr-icon-database'><use xlink:href='#icon-database'></use></svg></label><div class='xr-var-attrs'><dl class='xr-attrs'></dl></div><div class='xr-var-data'><pre>[2484 values with dtype=float32]</pre></div></li><li class='xr-var-item'><div class='xr-var-name'><span>omega_ca</span></div><div class='xr-var-dims'>(time, lat, lon)</div><div class='xr-var-dtype'>float32</div><div class='xr-var-preview xr-preview'>...</div><input id='attrs-ee95c4f5-9e13-4cfb-87bf-f40ae0297cab' class='xr-var-attrs-in' type='checkbox' ><label for='attrs-ee95c4f5-9e13-4cfb-87bf-f40ae0297cab' title='Show/Hide attributes'><svg class='icon xr-icon-file-text2'><use xlink:href='#icon-file-text2'></use></svg></label><input id='data-3db1f594-2e6e-4c0a-98c4-e90519488d2a' class='xr-var-data-in' type='checkbox'><label for='data-3db1f594-2e6e-4c0a-98c4-e90519488d2a' title='Show/Hide data repr'><svg class='icon xr-icon-database'><use xlink:href='#icon-database'></use></svg></label><div class='xr-var-attrs'><dl class='xr-attrs'><dt><span>units :</span></dt><dd>dimensionless</dd><dt><span>standard_name :</span></dt><dd>calcite saturation state</dd></dl></div><div class='xr-var-data'><pre>[2484 values with dtype=float32]</pre></div></li><li class='xr-var-item'><div class='xr-var-name'><span>omega_ar</span></div><div class='xr-var-dims'>(time, lat, lon)</div><div class='xr-var-dtype'>float32</div><div class='xr-var-preview xr-preview'>...</div><input id='attrs-1d9d92f5-2331-4239-8882-bc37ba9ef724' class='xr-var-attrs-in' type='checkbox' ><label for='attrs-1d9d92f5-2331-4239-8882-bc37ba9ef724' title='Show/Hide attributes'><svg class='icon xr-icon-file-text2'><use xlink:href='#icon-file-text2'></use></svg></label><input id='data-717e3780-f8bc-47cf-83c2-17b483629ce0' class='xr-var-data-in' type='checkbox'><label for='data-717e3780-f8bc-47cf-83c2-17b483629ce0' title='Show/Hide data repr'><svg class='icon xr-icon-database'><use xlink:href='#icon-database'></use></svg></label><div class='xr-var-attrs'><dl class='xr-attrs'><dt><span>units :</span></dt><dd>dimensionless</dd><dt><span>standard_name :</span></dt><dd>aragonite saturation state</dd></dl></div><div class='xr-var-data'><pre>[2484 values with dtype=float32]</pre></div></li><li class='xr-var-item'><div class='xr-var-name'><span>dic_uncert</span></div><div class='xr-var-dims'>(time, lat, lon)</div><div class='xr-var-dtype'>float32</div><div class='xr-var-preview xr-preview'>...</div><input id='attrs-d17a46e2-f001-4721-96e3-c92bbf3c5735' class='xr-var-attrs-in' type='checkbox' disabled><label for='attrs-d17a46e2-f001-4721-96e3-c92bbf3c5735' title='Show/Hide attributes'><svg class='icon xr-icon-file-text2'><use xlink:href='#icon-file-text2'></use></svg></label><input id='data-50c27f81-7bd6-45d2-9bec-bdc190eed6b4' class='xr-var-data-in' type='checkbox'><label for='data-50c27f81-7bd6-45d2-9bec-bdc190eed6b4' title='Show/Hide data repr'><svg class='icon xr-icon-database'><use xlink:href='#icon-database'></use></svg></label><div class='xr-var-attrs'><dl class='xr-attrs'></dl></div><div class='xr-var-data'><pre>[2484 values with dtype=float32]</pre></div></li><li class='xr-var-item'><div class='xr-var-name'><span>spco2_uncert</span></div><div class='xr-var-dims'>(time, lat, lon)</div><div class='xr-var-dtype'>float32</div><div class='xr-var-preview xr-preview'>...</div><input id='attrs-1a025189-0fba-4ba1-9d9a-0939c608e6a5' class='xr-var-attrs-in' type='checkbox' disabled><label for='attrs-1a025189-0fba-4ba1-9d9a-0939c608e6a5' title='Show/Hide attributes'><svg class='icon xr-icon-file-text2'><use xlink:href='#icon-file-text2'></use></svg></label><input id='data-3e5ccbd1-a413-452e-b941-a85965ad76f6' class='xr-var-data-in' type='checkbox'><label for='data-3e5ccbd1-a413-452e-b941-a85965ad76f6' title='Show/Hide data repr'><svg class='icon xr-icon-database'><use xlink:href='#icon-database'></use></svg></label><div class='xr-var-attrs'><dl class='xr-attrs'></dl></div><div class='xr-var-data'><pre>[2484 values with dtype=float32]</pre></div></li><li class='xr-var-item'><div class='xr-var-name'><span>ph_total_uncert</span></div><div class='xr-var-dims'>(time, lat, lon)</div><div class='xr-var-dtype'>float32</div><div class='xr-var-preview xr-preview'>...</div><input id='attrs-f0265a91-12a1-49d9-a0b6-56cd836717f8' class='xr-var-attrs-in' type='checkbox' disabled><label for='attrs-f0265a91-12a1-49d9-a0b6-56cd836717f8' title='Show/Hide attributes'><svg class='icon xr-icon-file-text2'><use xlink:href='#icon-file-text2'></use></svg></label><input id='data-52744498-a340-4359-ae72-4510254c24fd' class='xr-var-data-in' type='checkbox'><label for='data-52744498-a340-4359-ae72-4510254c24fd' title='Show/Hide data repr'><svg class='icon xr-icon-database'><use xlink:href='#icon-database'></use></svg></label><div class='xr-var-attrs'><dl class='xr-attrs'></dl></div><div class='xr-var-data'><pre>[2484 values with dtype=float32]</pre></div></li><li class='xr-var-item'><div class='xr-var-name'><span>omega_ca_uncert</span></div><div class='xr-var-dims'>(time, lat, lon)</div><div class='xr-var-dtype'>float32</div><div class='xr-var-preview xr-preview'>...</div><input id='attrs-6cc30e20-e12c-4747-b9a1-51d244e9f4a4' class='xr-var-attrs-in' type='checkbox' disabled><label for='attrs-6cc30e20-e12c-4747-b9a1-51d244e9f4a4' title='Show/Hide attributes'><svg class='icon xr-icon-file-text2'><use xlink:href='#icon-file-text2'></use></svg></label><input id='data-97707b22-5487-47d9-a91b-80284954f1eb' class='xr-var-data-in' type='checkbox'><label for='data-97707b22-5487-47d9-a91b-80284954f1eb' title='Show/Hide data repr'><svg class='icon xr-icon-database'><use xlink:href='#icon-database'></use></svg></label><div class='xr-var-attrs'><dl class='xr-attrs'></dl></div><div class='xr-var-data'><pre>[2484 values with dtype=float32]</pre></div></li><li class='xr-var-item'><div class='xr-var-name'><span>omega_ar_uncert</span></div><div class='xr-var-dims'>(time, lat, lon)</div><div class='xr-var-dtype'>float32</div><div class='xr-var-preview xr-preview'>...</div><input id='attrs-c83e197e-21ef-4096-ab95-245d9d343f6d' class='xr-var-attrs-in' type='checkbox' disabled><label for='attrs-c83e197e-21ef-4096-ab95-245d9d343f6d' title='Show/Hide attributes'><svg class='icon xr-icon-file-text2'><use xlink:href='#icon-file-text2'></use></svg></label><input id='data-8f4ad9dd-f63e-404f-84ec-f2133b9e381c' class='xr-var-data-in' type='checkbox'><label for='data-8f4ad9dd-f63e-404f-84ec-f2133b9e381c' title='Show/Hide data repr'><svg class='icon xr-icon-database'><use xlink:href='#icon-database'></use></svg></label><div class='xr-var-attrs'><dl class='xr-attrs'></dl></div><div class='xr-var-data'><pre>[2484 values with dtype=float32]</pre></div></li><li class='xr-var-item'><div class='xr-var-name'><span>temperature</span></div><div class='xr-var-dims'>(time, lat, lon)</div><div class='xr-var-dtype'>float32</div><div class='xr-var-preview xr-preview'>...</div><input id='attrs-fcfe91d6-6e42-4e37-a407-62424d4bc488' class='xr-var-attrs-in' type='checkbox' ><label for='attrs-fcfe91d6-6e42-4e37-a407-62424d4bc488' title='Show/Hide attributes'><svg class='icon xr-icon-file-text2'><use xlink:href='#icon-file-text2'></use></svg></label><input id='data-02aaeda4-12e2-4bee-ba58-48980027582b' class='xr-var-data-in' type='checkbox'><label for='data-02aaeda4-12e2-4bee-ba58-48980027582b' title='Show/Hide data repr'><svg class='icon xr-icon-database'><use xlink:href='#icon-database'></use></svg></label><div class='xr-var-attrs'><dl class='xr-attrs'><dt><span>standard_name :</span></dt><dd>sea_surface_temperature</dd><dt><span>model_name :</span></dt><dd>tos</dd><dt><span>units :</span></dt><dd>degC</dd><dt><span>reference :</span></dt><dd>Reynolds, R.W., N.A. Rayner, T.M. Smith, D.C. Stokes, and W. Wang, 2002: An improved in situ and satellite SST analysis for climate. J. Climate, 15, 1609-1625.</dd><dt><span>source :</span></dt><dd>ftp://ftp.cdc.noaa.gov/Datasets/noaa.oisst.v2/sst.mnmean.nc</dd></dl></div><div class='xr-var-data'><pre>[2484 values with dtype=float32]</pre></div></li><li class='xr-var-item'><div class='xr-var-name'><span>salinity</span></div><div class='xr-var-dims'>(time, lat, lon)</div><div class='xr-var-dtype'>float32</div><div class='xr-var-preview xr-preview'>...</div><input id='attrs-13949186-8458-4708-945c-ada257958414' class='xr-var-attrs-in' type='checkbox' ><label for='attrs-13949186-8458-4708-945c-ada257958414' title='Show/Hide attributes'><svg class='icon xr-icon-file-text2'><use xlink:href='#icon-file-text2'></use></svg></label><input id='data-23e2e5a3-b6c9-4ef5-a30a-37324f0b3925' class='xr-var-data-in' type='checkbox'><label for='data-23e2e5a3-b6c9-4ef5-a30a-37324f0b3925' title='Show/Hide data repr'><svg class='icon xr-icon-database'><use xlink:href='#icon-database'></use></svg></label><div class='xr-var-attrs'><dl class='xr-attrs'><dt><span>standard_name :</span></dt><dd>sea_surface_salinity</dd><dt><span>model_name :</span></dt><dd>sos</dd><dt><span>units :</span></dt><dd>ppt</dd><dt><span>description :</span></dt><dd>salinity is stacked so that the first listed has highest priority: 1. ESA-CCI salinity (2010-2019), 2. SODAv3.4.2 salinity (1982-2019), 3. EN4.2.1 salinity (2020). </dd><dt><span>esa_cci_info :</span></dt><dd>https://climate.esa.int/en/projects/sea-surface-salinity/about/</dd><dt><span>soda_info :</span></dt><dd>https://journals.ametsoc.org/view/journals/clim/31/17/jcli-d-18-0149.1.xml</dd><dt><span>en4_info :</span></dt><dd>https://agupubs.onlinelibrary.wiley.com/doi/full/10.1002/2013JC009067</dd></dl></div><div class='xr-var-data'><pre>[2484 values with dtype=float32]</pre></div></li><li class='xr-var-item'><div class='xr-var-name'><span>talk_uncert</span></div><div class='xr-var-dims'>(time, lat, lon)</div><div class='xr-var-dtype'>float32</div><div class='xr-var-preview xr-preview'>...</div><input id='attrs-916d3b36-2ab4-472f-93cd-2d80b03ca71c' class='xr-var-attrs-in' type='checkbox' ><label for='attrs-916d3b36-2ab4-472f-93cd-2d80b03ca71c' title='Show/Hide attributes'><svg class='icon xr-icon-file-text2'><use xlink:href='#icon-file-text2'></use></svg></label><input id='data-9b71f27f-7fa6-4d99-95df-d0baa3c2c5d9' class='xr-var-data-in' type='checkbox'><label for='data-9b71f27f-7fa6-4d99-95df-d0baa3c2c5d9' title='Show/Hide data repr'><svg class='icon xr-icon-database'><use xlink:href='#icon-database'></use></svg></label><div class='xr-var-attrs'><dl class='xr-attrs'><dt><span>description :</span></dt><dd>surface talk predicted with a two-step cluster-regression approach</dd><dt><span>author :</span></dt><dd>Luke Gregor</dd><dt><span>date :</span></dt><dd>2023-06-23</dd><dt><span>data_input_file :</span></dt><dd>./OSETHv2023.GCB_data_1982-2022.nc</dd><dt><span>cluster_input_file :</span></dt><dd>../models/v2023.GCB_talk/member_01/clusters.nc</dd><dt><span>model_file_names :</span></dt><dd>../models/v2023.GCB_talk/member_01/svr/model_c**</dd><dt><span>cluster_vars :</span></dt><dd>[&#x27;talk_glodap&#x27; &#x27;medsea&#x27; &#x27;salt_stacked_clim&#x27; &#x27;temp_oisst_clim&#x27; &#x27;nstar_woa&#x27;]</dd><dt><span>n_clusters :</span></dt><dd>12</dd><dt><span>predictors :</span></dt><dd>[&#x27;temp_oisst&#x27;, &#x27;salt_stacked&#x27;, &#x27;silicate_woa&#x27;, &#x27;nitrate_star_woa&#x27;, &#x27;ssh_detrend_duacs&#x27;]</dd><dt><span>target :</span></dt><dd>y_talk_glodap_ms</dd></dl></div><div class='xr-var-data'><pre>[2484 values with dtype=float32]</pre></div></li><li class='xr-var-item'><div class='xr-var-name'><span>sfco2_uncert</span></div><div class='xr-var-dims'>(time, lat, lon)</div><div class='xr-var-dtype'>float32</div><div class='xr-var-preview xr-preview'>...</div><input id='attrs-9eace091-b559-457c-9196-a9341569473e' class='xr-var-attrs-in' type='checkbox' ><label for='attrs-9eace091-b559-457c-9196-a9341569473e' title='Show/Hide attributes'><svg class='icon xr-icon-file-text2'><use xlink:href='#icon-file-text2'></use></svg></label><input id='data-083df662-a686-45f2-8cbf-4894b28d1cfd' class='xr-var-data-in' type='checkbox'><label for='data-083df662-a686-45f2-8cbf-4894b28d1cfd' title='Show/Hide data repr'><svg class='icon xr-icon-database'><use xlink:href='#icon-database'></use></svg></label><div class='xr-var-attrs'><dl class='xr-attrs'><dt><span>description :</span></dt><dd>surface dfco2 predicted with a two-step cluster-regression approach</dd><dt><span>author :</span></dt><dd>Luke Gregor</dd><dt><span>date :</span></dt><dd>2023-06-23</dd><dt><span>data_input_file :</span></dt><dd>./OSETHv2023.GCB_data_1982-2022.nc</dd><dt><span>cluster_input_file :</span></dt><dd>../models/v2023.GCB_dfco2star/member_01/clusters.nc</dd><dt><span>model_file_names :</span></dt><dd>../models/v2023.GCB_dfco2star/member_01/lightgbm/model_c**</dd><dt><span>cluster_vars :</span></dt><dd>[&#x27;pco2_seaflux_filled&#x27; &#x27;temp_oisst_clim&#x27; &#x27;medsea&#x27; &#x27;mld_soda_clim&#x27;\n",
       " &#x27;chl_cci_avg&#x27;]</dd><dt><span>n_clusters :</span></dt><dd>21</dd><dt><span>predictors :</span></dt><dd>[&#x27;xco2_noaa&#x27;, &#x27;temp_oisst&#x27;, &#x27;temp_clim_oisst_anom&#x27;, &#x27;salt_stacked&#x27;, &#x27;chl_cci_fill_log10&#x27;, &#x27;mld_press_soda_log10&#x27;, &#x27;icec_oisst_diff&#x27;, &#x27;u10_era5&#x27;, &#x27;v10_era5&#x27;, &#x27;ssh_detrend_duacs&#x27;]</dd><dt><span>target :</span></dt><dd>y_dfco2_socat</dd></dl></div><div class='xr-var-data'><pre>[2484 values with dtype=float32]</pre></div></li><li class='xr-var-item'><div class='xr-var-name'><span>fgco2</span></div><div class='xr-var-dims'>(time, lat, lon)</div><div class='xr-var-dtype'>float32</div><div class='xr-var-preview xr-preview'>...</div><input id='attrs-1a0ccc58-87cd-4d90-a315-b13d618067b7' class='xr-var-attrs-in' type='checkbox' ><label for='attrs-1a0ccc58-87cd-4d90-a315-b13d618067b7' title='Show/Hide attributes'><svg class='icon xr-icon-file-text2'><use xlink:href='#icon-file-text2'></use></svg></label><input id='data-912423af-ccc3-4adc-b3aa-3500f0a51355' class='xr-var-data-in' type='checkbox'><label for='data-912423af-ccc3-4adc-b3aa-3500f0a51355' title='Show/Hide data repr'><svg class='icon xr-icon-database'><use xlink:href='#icon-database'></use></svg></label><div class='xr-var-attrs'><dl class='xr-attrs'><dt><span>units :</span></dt><dd>mol/m2/s</dd><dt><span>description :</span></dt><dd>Sea-air CO2 fluxes for the OS-ETHZ-GRaCER method. Atmospheric pCO2 was taken from the SeaFlux dataset, where xCO2 (NOAAs Marine Boundary Layer product) is linearly interpolated onto a 1deg latitudinal grid. ERA5 sea level pressure (pH2O corrected) is used to map xCO2 to pCO2atm. Flux is calculated as the average of flux calculated from kw computed with the following wind products: ERA5, JRA55, NCEP1. We do not include CCMP2 as it only starts in 1988 and exclude NCEP2 as wind speed is inherently too large in the the second release of NCEP. kw is scaled individually for each of the wind products. Solubility of CO2 in seawater is from the SeaFlux product. spco2 (surface ocean pCO2) is calculated from fugacity using pyCO2SYS with Alkalinity from OceanSODA-ETHZ, SST from OISST and salinity from the Simple Ocean Data Assimmilation (SODA, unrelated to OceanSODA). Sea ice is from the OISSTv2 product. </dd></dl></div><div class='xr-var-data'><pre>[2484 values with dtype=float32]</pre></div></li><li class='xr-var-item'><div class='xr-var-name'><span>area</span></div><div class='xr-var-dims'>(lat, lon)</div><div class='xr-var-dtype'>float32</div><div class='xr-var-preview xr-preview'>...</div><input id='attrs-266bbc39-9030-4332-95d7-27fae3c10fa0' class='xr-var-attrs-in' type='checkbox' ><label for='attrs-266bbc39-9030-4332-95d7-27fae3c10fa0' title='Show/Hide attributes'><svg class='icon xr-icon-file-text2'><use xlink:href='#icon-file-text2'></use></svg></label><input id='data-8f1569a7-0ba8-4d22-8f5e-17dd2743343d' class='xr-var-data-in' type='checkbox'><label for='data-8f1569a7-0ba8-4d22-8f5e-17dd2743343d' title='Show/Hide data repr'><svg class='icon xr-icon-database'><use xlink:href='#icon-database'></use></svg></label><div class='xr-var-attrs'><dl class='xr-attrs'><dt><span>long_name :</span></dt><dd>Area per pixel</dd><dt><span>units :</span></dt><dd>m^2</dd><dt><span>description :</span></dt><dd>Area per pixel as calculated by pySeaFlux. The non-spherical shape of Earth is taken into account. Area calculated from the latitude and longitude coordinates of ice</dd></dl></div><div class='xr-var-data'><pre>[9 values with dtype=float32]</pre></div></li><li class='xr-var-item'><div class='xr-var-name'><span>ice</span></div><div class='xr-var-dims'>(time, lat, lon)</div><div class='xr-var-dtype'>float32</div><div class='xr-var-preview xr-preview'>...</div><input id='attrs-3d9d15d3-abf3-49a3-b803-a440a60405c9' class='xr-var-attrs-in' type='checkbox' ><label for='attrs-3d9d15d3-abf3-49a3-b803-a440a60405c9' title='Show/Hide attributes'><svg class='icon xr-icon-file-text2'><use xlink:href='#icon-file-text2'></use></svg></label><input id='data-1464f340-ecb8-44f9-9054-9041d3374584' class='xr-var-data-in' type='checkbox'><label for='data-1464f340-ecb8-44f9-9054-9041d3374584' title='Show/Hide data repr'><svg class='icon xr-icon-database'><use xlink:href='#icon-database'></use></svg></label><div class='xr-var-attrs'><dl class='xr-attrs'><dt><span>history :</span></dt><dd>[all_my_code@2023-06-23: lon_180W_180E] regridded to [-180 : 180] from [0 : 360]</dd></dl></div><div class='xr-var-data'><pre>[2484 values with dtype=float32]</pre></div></li><li class='xr-var-item'><div class='xr-var-name'><span>kw</span></div><div class='xr-var-dims'>(time, lat, lon)</div><div class='xr-var-dtype'>float32</div><div class='xr-var-preview xr-preview'>...</div><input id='attrs-cc846bd8-d935-4d9c-afb2-7c7ec06df16d' class='xr-var-attrs-in' type='checkbox' ><label for='attrs-cc846bd8-d935-4d9c-afb2-7c7ec06df16d' title='Show/Hide attributes'><svg class='icon xr-icon-file-text2'><use xlink:href='#icon-file-text2'></use></svg></label><input id='data-0ef782f3-e63c-4a2b-87e3-75954d7a7bdc' class='xr-var-data-in' type='checkbox'><label for='data-0ef782f3-e63c-4a2b-87e3-75954d7a7bdc' title='Show/Hide data repr'><svg class='icon xr-icon-database'><use xlink:href='#icon-database'></use></svg></label><div class='xr-var-attrs'><dl class='xr-attrs'><dt><span>description :</span></dt><dd>Gas transfer velocity using the quadratic parameterisation by Wanninkhof (1992): kw = a * U^2 * Sc660. Where a is the coefficient of gas transfer, U^2 is the wind at 10m squared (at the native resolution of the gridded product output). We use the average of the ERA5, JRA55, and NCEP1 wind products. Sc660 is the Schmidt number normalised  to 660. The NOAA OISST temperature is used to calculate Sc660. a is scaled so that the global kw is 16.5 cm/hr (with 3.2 cm/hr uncertainty which is roughly 20% uncertainty).</dd><dt><span>wind_products :</span></dt><dd>[&#x27;ERA5&#x27;, &#x27;JRA55&#x27;, &#x27;NCEP1&#x27;]</dd><dt><span>units :</span></dt><dd>cm/hr</dd></dl></div><div class='xr-var-data'><pre>[2484 values with dtype=float32]</pre></div></li><li class='xr-var-item'><div class='xr-var-name'><span>sol</span></div><div class='xr-var-dims'>(time, lat, lon)</div><div class='xr-var-dtype'>float32</div><div class='xr-var-preview xr-preview'>...</div><input id='attrs-c22b6002-5019-47ac-bf58-66dad358cbd5' class='xr-var-attrs-in' type='checkbox' ><label for='attrs-c22b6002-5019-47ac-bf58-66dad358cbd5' title='Show/Hide attributes'><svg class='icon xr-icon-file-text2'><use xlink:href='#icon-file-text2'></use></svg></label><input id='data-492bf0ed-8c13-4007-9a21-686f347c8c0e' class='xr-var-data-in' type='checkbox'><label for='data-492bf0ed-8c13-4007-9a21-686f347c8c0e' title='Show/Hide data repr'><svg class='icon xr-icon-database'><use xlink:href='#icon-database'></use></svg></label><div class='xr-var-attrs'><dl class='xr-attrs'><dt><span>units :</span></dt><dd>mol/m3/uatm</dd><dt><span>description :</span></dt><dd>solubility of CO2 in seawater calculated using the formulation byWeiss (1974) summarised in Wanninkhof (2014). salinity = EN4.2.2; temperature = NOAA OISSTv2; pressure = ERA5_msl</dd></dl></div><div class='xr-var-data'><pre>[2484 values with dtype=float32]</pre></div></li></ul></div></li><li class='xr-section-item'><input id='section-4ed0fcb2-3025-43d2-8259-b1707197d4af' class='xr-section-summary-in' type='checkbox'  ><label for='section-4ed0fcb2-3025-43d2-8259-b1707197d4af' class='xr-section-summary' >Indexes: <span>(3)</span></label><div class='xr-section-inline-details'></div><div class='xr-section-details'><ul class='xr-var-list'><li class='xr-var-item'><div class='xr-index-name'><div>time</div></div><div class='xr-index-preview'>PandasIndex</div><input type='checkbox' disabled/><label></label><input id='index-137e1335-7ab2-4c3e-aa5d-5557c99cf4cd' class='xr-index-data-in' type='checkbox'/><label for='index-137e1335-7ab2-4c3e-aa5d-5557c99cf4cd' title='Show/Hide index repr'><svg class='icon xr-icon-database'><use xlink:href='#icon-database'></use></svg></label><div class='xr-index-data'><pre>PandasIndex(DatetimeIndex([&#x27;1998-01-15&#x27;, &#x27;1998-02-15&#x27;, &#x27;1998-03-15&#x27;, &#x27;1998-04-15&#x27;,\n",
       "               &#x27;1998-05-15&#x27;, &#x27;1998-06-15&#x27;, &#x27;1998-07-15&#x27;, &#x27;1998-08-15&#x27;,\n",
       "               &#x27;1998-09-15&#x27;, &#x27;1998-10-15&#x27;,\n",
       "               ...\n",
       "               &#x27;2020-03-15&#x27;, &#x27;2020-04-15&#x27;, &#x27;2020-05-15&#x27;, &#x27;2020-06-15&#x27;,\n",
       "               &#x27;2020-07-15&#x27;, &#x27;2020-08-15&#x27;, &#x27;2020-09-15&#x27;, &#x27;2020-10-15&#x27;,\n",
       "               &#x27;2020-11-15&#x27;, &#x27;2020-12-15&#x27;],\n",
       "              dtype=&#x27;datetime64[ns]&#x27;, name=&#x27;time&#x27;, length=276, freq=None))</pre></div></li><li class='xr-var-item'><div class='xr-index-name'><div>lat</div></div><div class='xr-index-preview'>PandasIndex</div><input type='checkbox' disabled/><label></label><input id='index-681e24c5-723a-402f-9e29-dcf5e5216126' class='xr-index-data-in' type='checkbox'/><label for='index-681e24c5-723a-402f-9e29-dcf5e5216126' title='Show/Hide index repr'><svg class='icon xr-icon-database'><use xlink:href='#icon-database'></use></svg></label><div class='xr-index-data'><pre>PandasIndex(Index([48.5, 49.5, 50.5], dtype=&#x27;float64&#x27;, name=&#x27;lat&#x27;))</pre></div></li><li class='xr-var-item'><div class='xr-index-name'><div>lon</div></div><div class='xr-index-preview'>PandasIndex</div><input type='checkbox' disabled/><label></label><input id='index-3872b71c-4707-4979-bb61-6c4dd7a708cc' class='xr-index-data-in' type='checkbox'/><label for='index-3872b71c-4707-4979-bb61-6c4dd7a708cc' title='Show/Hide index repr'><svg class='icon xr-icon-database'><use xlink:href='#icon-database'></use></svg></label><div class='xr-index-data'><pre>PandasIndex(Index([-130.5, -129.5, -128.5], dtype=&#x27;float64&#x27;, name=&#x27;lon&#x27;))</pre></div></li></ul></div></li><li class='xr-section-item'><input id='section-ca91bc69-204b-4ab6-b0c4-3a17502233c8' class='xr-section-summary-in' type='checkbox'  ><label for='section-ca91bc69-204b-4ab6-b0c4-3a17502233c8' class='xr-section-summary' >Attributes: <span>(10)</span></label><div class='xr-section-inline-details'></div><div class='xr-section-details'><dl class='xr-attrs'><dt><span>contact :</span></dt><dd>gregorl@ethz.ch</dd><dt><span>author :</span></dt><dd>Luke Gregor</dd><dt><span>institution :</span></dt><dd>ETH Zuerich</dd><dt><span>version :</span></dt><dd>v2023.GCB</dd><dt><span>date :</span></dt><dd>2023-06-26</dd><dt><span>description :</span></dt><dd>talk and pco2 (more accurately fco2) are estimated with two step machine learning approaches, where data is first clustered into regions of similar variability and the regressed for each cluster. See talk and spco2 for machine learning details. The remaining parameters of the marine carbonate cycle are calculated from these two using PyCO2SYS. The following dissociation constants were used: K1K2 = Mehrbach refit by Dickson and Millero, KSO4 = Dickson 1990a, KF = Dickson &amp; Riley 1979.</dd><dt><span>changelog :</span></dt><dd>v2021d: Extended from 1982-2020; Now using: OISSTv2.1 for SST and ice; SODAv3.4.2 MLD; salinity products are stacked on top of each other with the following priority ESA-CCI salinity (2010-2019), SODAv3.4.2 salinity (1982-2019), EN4.2.1 salinity (2020). For detailed changes, see the variable specific info. </dd><dt><span>reference :</span></dt><dd>Gregor, L. and Gruber, N.: OceanSODA-ETHZ: A global gridded data set of the surface ocean carbonate system for seasonal to decadal studies of ocean acidification, Earth Syst. Sci. Data Discuss., https://doi.org/10.5194/essd-13-777-2021, 2020.</dd><dt><span>source :</span></dt><dd>https://doi.org/10.25921/m5wx-ja34</dd><dt><span>product :</span></dt><dd>OSETHZ-v2023.GCB</dd></dl></div></li></ul></div></div>"
      ],
      "text/plain": [
       "<xarray.Dataset> Size: 251kB\n",
       "Dimensions:          (time: 276, lat: 3, lon: 3)\n",
       "Coordinates:\n",
       "  * time             (time) datetime64[ns] 2kB 1998-01-15 ... 2020-12-15\n",
       "  * lat              (lat) float64 24B 48.5 49.5 50.5\n",
       "  * lon              (lon) float64 24B -130.5 -129.5 -128.5\n",
       "Data variables: (12/26)\n",
       "    talk             (time, lat, lon) float32 10kB ...\n",
       "    dic              (time, lat, lon) float32 10kB ...\n",
       "    spco2            (time, lat, lon) float32 10kB ...\n",
       "    sfco2            (time, lat, lon) float32 10kB ...\n",
       "    ph_total         (time, lat, lon) float32 10kB ...\n",
       "    ph_free          (time, lat, lon) float32 10kB ...\n",
       "    ...               ...\n",
       "    sfco2_uncert     (time, lat, lon) float32 10kB ...\n",
       "    fgco2            (time, lat, lon) float32 10kB ...\n",
       "    area             (lat, lon) float32 36B ...\n",
       "    ice              (time, lat, lon) float32 10kB ...\n",
       "    kw               (time, lat, lon) float32 10kB ...\n",
       "    sol              (time, lat, lon) float32 10kB ...\n",
       "Attributes:\n",
       "    contact:      gregorl@ethz.ch\n",
       "    author:       Luke Gregor\n",
       "    institution:  ETH Zuerich\n",
       "    version:      v2023.GCB\n",
       "    date:         2023-06-26\n",
       "    description:  talk and pco2 (more accurately fco2) are estimated with two...\n",
       "    changelog:    v2021d: Extended from 1982-2020; Now using: OISSTv2.1 for S...\n",
       "    reference:    Gregor, L. and Gruber, N.: OceanSODA-ETHZ: A global gridded...\n",
       "    source:       https://doi.org/10.25921/m5wx-ja34\n",
       "    product:      OSETHZ-v2023.GCB"
      ]
     },
     "execution_count": 87,
     "metadata": {},
     "output_type": "execute_result"
    }
   ],
   "source": [
    "# Select Papa zone + 1998/2020 to be coherent with other forcings\n",
    "ds_pH_2deg = ds_ph.sel(\n",
    "    lat=slice(48.5, 50.5),  \n",
    "    lon=slice(-130.5, -128.5),\n",
    "    time=slice('1998','2020')\n",
    ").drop_dims('region')\n",
    "ds_pH_2deg"
   ]
  },
  {
   "cell_type": "code",
   "execution_count": 88,
   "id": "b999898d",
   "metadata": {},
   "outputs": [],
   "source": [
    "# Extract pH \n",
    "data_pH=ds_pH_2deg['ph_total']"
   ]
  },
  {
   "cell_type": "code",
   "execution_count": 89,
   "id": "bce1dba7",
   "metadata": {},
   "outputs": [],
   "source": [
    "# Spatial mean\n",
    "data_pH=data_pH.mean(dim=['lat','lon'])"
   ]
  },
  {
   "cell_type": "code",
   "execution_count": 127,
   "id": "387f1566",
   "metadata": {},
   "outputs": [
    {
     "data": {
      "application/vnd.plotly.v1+json": {
       "config": {
        "plotlyServerURL": "https://plot.ly"
       },
       "data": [
        {
         "line": {
          "width": 1
         },
         "mode": "lines",
         "name": "1998",
         "showlegend": true,
         "type": "scatter",
         "x": {
          "bdata": "AQIDBAUGBwgJCgsM",
          "dtype": "i1"
         },
         "y": {
          "bdata": "ZYwBQX99AUFmpwFBd70BQbz8AUHhAAJBa+EBQavHAUHwrgFBdJEBQVWNAUEbaQFB",
          "dtype": "f4"
         }
        },
        {
         "line": {
          "width": 1
         },
         "mode": "lines",
         "name": "1999",
         "showlegend": true,
         "type": "scatter",
         "x": {
          "bdata": "AQIDBAUGBwgJCgsM",
          "dtype": "i1"
         },
         "y": {
          "bdata": "eGcBQRNgAUHMdgFBiJYBQY7hAUE0BgJBctcBQafbAUEHsQFBjYUBQWFqAUG3XAFB",
          "dtype": "f4"
         }
        },
        {
         "line": {
          "width": 1
         },
         "mode": "lines",
         "name": "2000",
         "showlegend": true,
         "type": "scatter",
         "x": {
          "bdata": "AQIDBAUGBwgJCgsM",
          "dtype": "i1"
         },
         "y": {
          "bdata": "VVoBQaBFAUHEcAFBkpUBQVPmAUHO+AFBDNIBQfTLAUF2sgFBvYkBQZBbAUEFPAFB",
          "dtype": "f4"
         }
        },
        {
         "line": {
          "width": 1
         },
         "mode": "lines",
         "name": "2001",
         "showlegend": true,
         "type": "scatter",
         "x": {
          "bdata": "AQIDBAUGBwgJCgsM",
          "dtype": "i1"
         },
         "y": {
          "bdata": "KEsBQe89AUG6cwFBLKABQffRAUHL8wFB2dYBQQXEAUFOpQFBvIwBQWdZAUHuRQFB",
          "dtype": "f4"
         }
        },
        {
         "line": {
          "width": 1
         },
         "mode": "lines",
         "name": "2002",
         "showlegend": true,
         "type": "scatter",
         "x": {
          "bdata": "AQIDBAUGBwgJCgsM",
          "dtype": "i1"
         },
         "y": {
          "bdata": "U1UBQTQ+AUFkYgFBwJcBQeLnAUFA8gFBHMsBQQW9AUFhpgFBrYIBQTlIAUHmSQFB",
          "dtype": "f4"
         }
        },
        {
         "line": {
          "width": 1
         },
         "mode": "lines",
         "name": "2003",
         "showlegend": true,
         "type": "scatter",
         "x": {
          "bdata": "AQIDBAUGBwgJCgsM",
          "dtype": "i1"
         },
         "y": {
          "bdata": "fEUBQZE4AUFkfgFBmagBQXHPAUE/4gFBOawBQUCnAUFglAFBV4IBQWBVAUHeNgFB",
          "dtype": "f4"
         }
        },
        {
         "line": {
          "width": 1
         },
         "mode": "lines",
         "name": "2004",
         "showlegend": true,
         "type": "scatter",
         "x": {
          "bdata": "AQIDBAUGBwgJCgsM",
          "dtype": "i1"
         },
         "y": {
          "bdata": "zz8BQUclAUEhYAFBlIIBQXTIAUFD0QFBoK4BQV+NAUEinAFBXIUBQVxVAUGfMgFB",
          "dtype": "f4"
         }
        },
        {
         "line": {
          "width": 1
         },
         "mode": "lines",
         "name": "2005",
         "showlegend": true,
         "type": "scatter",
         "x": {
          "bdata": "AQIDBAUGBwgJCgsM",
          "dtype": "i1"
         },
         "y": {
          "bdata": "jzMBQSQoAUF9agFBcJEBQbKvAUEpxwFBLbcBQZSYAUHWhgFBwGABQcNCAUH0FQFB",
          "dtype": "f4"
         }
        },
        {
         "line": {
          "width": 1
         },
         "mode": "lines",
         "name": "2006",
         "showlegend": true,
         "type": "scatter",
         "x": {
          "bdata": "AQIDBAUGBwgJCgsM",
          "dtype": "i1"
         },
         "y": {
          "bdata": "j0oBQcIMAUFkWgFBfH0BQaXEAUGJygFBwK0BQeKjAUHQhgFB7mcBQWJZAUHkEgFB",
          "dtype": "f4"
         }
        },
        {
         "line": {
          "width": 1
         },
         "mode": "lines",
         "name": "2007",
         "showlegend": true,
         "type": "scatter",
         "x": {
          "bdata": "AQIDBAUGBwgJCgsM",
          "dtype": "i1"
         },
         "y": {
          "bdata": "sSoBQSQnAUHxTQFBUGkBQRPFAUH9ywFBjbABQfqqAUEvgwFBIFUBQf4iAUFJFQFB",
          "dtype": "f4"
         }
        },
        {
         "line": {
          "width": 1
         },
         "mode": "lines",
         "name": "2008",
         "showlegend": true,
         "type": "scatter",
         "x": {
          "bdata": "AQIDBAUGBwgJCgsM",
          "dtype": "i1"
         },
         "y": {
          "bdata": "IyUBQWIUAUHePgFBtGoBQZKyAUHtxQFBzqkBQTGmAUESdwFB4EgBQbAqAUHLEwFB",
          "dtype": "f4"
         }
        },
        {
         "line": {
          "width": 1
         },
         "mode": "lines",
         "name": "2009",
         "showlegend": true,
         "type": "scatter",
         "x": {
          "bdata": "AQIDBAUGBwgJCgsM",
          "dtype": "i1"
         },
         "y": {
          "bdata": "+QgBQRQAAUEAQgFBFGUBQRW5AUFEyQFB/qQBQcOgAUEwfgFBfksBQSQvAUET4wBB",
          "dtype": "f4"
         }
        },
        {
         "line": {
          "width": 1
         },
         "mode": "lines",
         "name": "2010",
         "showlegend": true,
         "type": "scatter",
         "x": {
          "bdata": "AQIDBAUGBwgJCgsM",
          "dtype": "i1"
         },
         "y": {
          "bdata": "ggcBQY/7AEGjPQFBEW8BQRypAUGovAFBQI4BQaqHAUHPbgFBOjUBQU8UAUEg+ABB",
          "dtype": "f4"
         }
        },
        {
         "line": {
          "width": 1
         },
         "mode": "lines",
         "name": "2011",
         "showlegend": true,
         "type": "scatter",
         "x": {
          "bdata": "AQIDBAUGBwgJCgsM",
          "dtype": "i1"
         },
         "y": {
          "bdata": "j/AAQcv1AEGSIAFBXVYBQfifAUH5qAFBw5IBQRCHAUEIZgFBS0kBQdwjAUHM5ABB",
          "dtype": "f4"
         }
        },
        {
         "line": {
          "width": 1
         },
         "mode": "lines",
         "name": "2012",
         "showlegend": true,
         "type": "scatter",
         "x": {
          "bdata": "AQIDBAUGBwgJCgsM",
          "dtype": "i1"
         },
         "y": {
          "bdata": "GwgBQfjzAEHVKwFBJUoBQVWOAUGYswFBNZkBQal/AUGmPgFBtg4BQbHvAEH59ABB",
          "dtype": "f4"
         }
        },
        {
         "line": {
          "width": 1
         },
         "mode": "lines",
         "name": "2013",
         "showlegend": true,
         "type": "scatter",
         "x": {
          "bdata": "AQIDBAUGBwgJCgsM",
          "dtype": "i1"
         },
         "y": {
          "bdata": "PuYAQZ3qAEHbBAFByj0BQcWRAUEhoAFBT4MBQexzAUG9ZgFBBR4BQaDeAEEExwBB",
          "dtype": "f4"
         }
        },
        {
         "line": {
          "width": 1
         },
         "mode": "lines",
         "name": "2014",
         "showlegend": true,
         "type": "scatter",
         "x": {
          "bdata": "AQIDBAUGBwgJCgsM",
          "dtype": "i1"
         },
         "y": {
          "bdata": "C90AQezjAEFCFwFB7DcBQWyFAUF3pwFBTYEBQZVcAUHCSQFB+ysBQT4CAUGI5ABB",
          "dtype": "f4"
         }
        },
        {
         "line": {
          "width": 1
         },
         "mode": "lines",
         "name": "2015",
         "showlegend": true,
         "type": "scatter",
         "x": {
          "bdata": "AQIDBAUGBwgJCgsM",
          "dtype": "i1"
         },
         "y": {
          "bdata": "B+YAQZLWAEFiCwFBXkEBQbx6AUEcbQFBPE0BQWNNAUFQQgFBiC0BQVoQAUE54wBB",
          "dtype": "f4"
         }
        },
        {
         "line": {
          "width": 1
         },
         "mode": "lines",
         "name": "2016",
         "showlegend": true,
         "type": "scatter",
         "x": {
          "bdata": "AQIDBAUGBwgJCgsM",
          "dtype": "i1"
         },
         "y": {
          "bdata": "wsQAQfPEAEESGAFBTykBQQt5AUH9bwFBQFUBQb5QAUHRNwFBoggBQULgAEEeygBB",
          "dtype": "f4"
         }
        },
        {
         "line": {
          "width": 1
         },
         "mode": "lines",
         "name": "2017",
         "showlegend": true,
         "type": "scatter",
         "x": {
          "bdata": "AQIDBAUGBwgJCgsM",
          "dtype": "i1"
         },
         "y": {
          "bdata": "z7wAQTfGAEH49gBBmh0BQfNkAUGOZQFBVDcBQe0+AUEkLwFBhhABQVPEAEE7iQBB",
          "dtype": "f4"
         }
        },
        {
         "line": {
          "width": 1
         },
         "mode": "lines",
         "name": "2018",
         "showlegend": true,
         "type": "scatter",
         "x": {
          "bdata": "AQIDBAUGBwgJCgsM",
          "dtype": "i1"
         },
         "y": {
          "bdata": "+sgAQVG4AEHz1ABBFh8BQexLAUEkWQFBfz0BQWFHAUGDNgFB3u4AQRjBAEGBtABB",
          "dtype": "f4"
         }
        },
        {
         "line": {
          "width": 1
         },
         "mode": "lines",
         "name": "2019",
         "showlegend": true,
         "type": "scatter",
         "x": {
          "bdata": "AQIDBAUGBwgJCgsM",
          "dtype": "i1"
         },
         "y": {
          "bdata": "FqcAQZapAEFVyQBBkBcBQcdQAUG7WgFBFCsBQRQuAUESKAFBPPkAQQy4AEHEoQBB",
          "dtype": "f4"
         }
        },
        {
         "line": {
          "width": 1
         },
         "mode": "lines",
         "name": "2020",
         "showlegend": true,
         "type": "scatter",
         "x": {
          "bdata": "AQIDBAUGBwgJCgsM",
          "dtype": "i1"
         },
         "y": {
          "bdata": "UsQAQQqcAEFO0QBB9/wAQSgnAUHDVAFByk8BQbw1AUHDGgFBNAYBQVi8AEEtigBB",
          "dtype": "f4"
         }
        },
        {
         "line": {
          "color": "black",
          "width": 2
         },
         "mode": "lines",
         "name": "Median",
         "type": "scatter",
         "x": {
          "bdata": "AQIDBAUGBwgJCgsM",
          "dtype": "i1"
         },
         "y": {
          "bdata": "+QgBQRQAAUHePgFBUGkBQbKvAUHtxQFB/qQBQV+NAUESdwFBS0kBQdwjAUEg+ABB",
          "dtype": "f4"
         }
        }
       ],
       "layout": {
        "template": {
         "data": {
          "bar": [
           {
            "error_x": {
             "color": "#2a3f5f"
            },
            "error_y": {
             "color": "#2a3f5f"
            },
            "marker": {
             "line": {
              "color": "white",
              "width": 0.5
             },
             "pattern": {
              "fillmode": "overlay",
              "size": 10,
              "solidity": 0.2
             }
            },
            "type": "bar"
           }
          ],
          "barpolar": [
           {
            "marker": {
             "line": {
              "color": "white",
              "width": 0.5
             },
             "pattern": {
              "fillmode": "overlay",
              "size": 10,
              "solidity": 0.2
             }
            },
            "type": "barpolar"
           }
          ],
          "carpet": [
           {
            "aaxis": {
             "endlinecolor": "#2a3f5f",
             "gridcolor": "#C8D4E3",
             "linecolor": "#C8D4E3",
             "minorgridcolor": "#C8D4E3",
             "startlinecolor": "#2a3f5f"
            },
            "baxis": {
             "endlinecolor": "#2a3f5f",
             "gridcolor": "#C8D4E3",
             "linecolor": "#C8D4E3",
             "minorgridcolor": "#C8D4E3",
             "startlinecolor": "#2a3f5f"
            },
            "type": "carpet"
           }
          ],
          "choropleth": [
           {
            "colorbar": {
             "outlinewidth": 0,
             "ticks": ""
            },
            "type": "choropleth"
           }
          ],
          "contour": [
           {
            "colorbar": {
             "outlinewidth": 0,
             "ticks": ""
            },
            "colorscale": [
             [
              0,
              "#0d0887"
             ],
             [
              0.1111111111111111,
              "#46039f"
             ],
             [
              0.2222222222222222,
              "#7201a8"
             ],
             [
              0.3333333333333333,
              "#9c179e"
             ],
             [
              0.4444444444444444,
              "#bd3786"
             ],
             [
              0.5555555555555556,
              "#d8576b"
             ],
             [
              0.6666666666666666,
              "#ed7953"
             ],
             [
              0.7777777777777778,
              "#fb9f3a"
             ],
             [
              0.8888888888888888,
              "#fdca26"
             ],
             [
              1,
              "#f0f921"
             ]
            ],
            "type": "contour"
           }
          ],
          "contourcarpet": [
           {
            "colorbar": {
             "outlinewidth": 0,
             "ticks": ""
            },
            "type": "contourcarpet"
           }
          ],
          "heatmap": [
           {
            "colorbar": {
             "outlinewidth": 0,
             "ticks": ""
            },
            "colorscale": [
             [
              0,
              "#0d0887"
             ],
             [
              0.1111111111111111,
              "#46039f"
             ],
             [
              0.2222222222222222,
              "#7201a8"
             ],
             [
              0.3333333333333333,
              "#9c179e"
             ],
             [
              0.4444444444444444,
              "#bd3786"
             ],
             [
              0.5555555555555556,
              "#d8576b"
             ],
             [
              0.6666666666666666,
              "#ed7953"
             ],
             [
              0.7777777777777778,
              "#fb9f3a"
             ],
             [
              0.8888888888888888,
              "#fdca26"
             ],
             [
              1,
              "#f0f921"
             ]
            ],
            "type": "heatmap"
           }
          ],
          "histogram": [
           {
            "marker": {
             "pattern": {
              "fillmode": "overlay",
              "size": 10,
              "solidity": 0.2
             }
            },
            "type": "histogram"
           }
          ],
          "histogram2d": [
           {
            "colorbar": {
             "outlinewidth": 0,
             "ticks": ""
            },
            "colorscale": [
             [
              0,
              "#0d0887"
             ],
             [
              0.1111111111111111,
              "#46039f"
             ],
             [
              0.2222222222222222,
              "#7201a8"
             ],
             [
              0.3333333333333333,
              "#9c179e"
             ],
             [
              0.4444444444444444,
              "#bd3786"
             ],
             [
              0.5555555555555556,
              "#d8576b"
             ],
             [
              0.6666666666666666,
              "#ed7953"
             ],
             [
              0.7777777777777778,
              "#fb9f3a"
             ],
             [
              0.8888888888888888,
              "#fdca26"
             ],
             [
              1,
              "#f0f921"
             ]
            ],
            "type": "histogram2d"
           }
          ],
          "histogram2dcontour": [
           {
            "colorbar": {
             "outlinewidth": 0,
             "ticks": ""
            },
            "colorscale": [
             [
              0,
              "#0d0887"
             ],
             [
              0.1111111111111111,
              "#46039f"
             ],
             [
              0.2222222222222222,
              "#7201a8"
             ],
             [
              0.3333333333333333,
              "#9c179e"
             ],
             [
              0.4444444444444444,
              "#bd3786"
             ],
             [
              0.5555555555555556,
              "#d8576b"
             ],
             [
              0.6666666666666666,
              "#ed7953"
             ],
             [
              0.7777777777777778,
              "#fb9f3a"
             ],
             [
              0.8888888888888888,
              "#fdca26"
             ],
             [
              1,
              "#f0f921"
             ]
            ],
            "type": "histogram2dcontour"
           }
          ],
          "mesh3d": [
           {
            "colorbar": {
             "outlinewidth": 0,
             "ticks": ""
            },
            "type": "mesh3d"
           }
          ],
          "parcoords": [
           {
            "line": {
             "colorbar": {
              "outlinewidth": 0,
              "ticks": ""
             }
            },
            "type": "parcoords"
           }
          ],
          "pie": [
           {
            "automargin": true,
            "type": "pie"
           }
          ],
          "scatter": [
           {
            "fillpattern": {
             "fillmode": "overlay",
             "size": 10,
             "solidity": 0.2
            },
            "type": "scatter"
           }
          ],
          "scatter3d": [
           {
            "line": {
             "colorbar": {
              "outlinewidth": 0,
              "ticks": ""
             }
            },
            "marker": {
             "colorbar": {
              "outlinewidth": 0,
              "ticks": ""
             }
            },
            "type": "scatter3d"
           }
          ],
          "scattercarpet": [
           {
            "marker": {
             "colorbar": {
              "outlinewidth": 0,
              "ticks": ""
             }
            },
            "type": "scattercarpet"
           }
          ],
          "scattergeo": [
           {
            "marker": {
             "colorbar": {
              "outlinewidth": 0,
              "ticks": ""
             }
            },
            "type": "scattergeo"
           }
          ],
          "scattergl": [
           {
            "marker": {
             "colorbar": {
              "outlinewidth": 0,
              "ticks": ""
             }
            },
            "type": "scattergl"
           }
          ],
          "scattermap": [
           {
            "marker": {
             "colorbar": {
              "outlinewidth": 0,
              "ticks": ""
             }
            },
            "type": "scattermap"
           }
          ],
          "scattermapbox": [
           {
            "marker": {
             "colorbar": {
              "outlinewidth": 0,
              "ticks": ""
             }
            },
            "type": "scattermapbox"
           }
          ],
          "scatterpolar": [
           {
            "marker": {
             "colorbar": {
              "outlinewidth": 0,
              "ticks": ""
             }
            },
            "type": "scatterpolar"
           }
          ],
          "scatterpolargl": [
           {
            "marker": {
             "colorbar": {
              "outlinewidth": 0,
              "ticks": ""
             }
            },
            "type": "scatterpolargl"
           }
          ],
          "scatterternary": [
           {
            "marker": {
             "colorbar": {
              "outlinewidth": 0,
              "ticks": ""
             }
            },
            "type": "scatterternary"
           }
          ],
          "surface": [
           {
            "colorbar": {
             "outlinewidth": 0,
             "ticks": ""
            },
            "colorscale": [
             [
              0,
              "#0d0887"
             ],
             [
              0.1111111111111111,
              "#46039f"
             ],
             [
              0.2222222222222222,
              "#7201a8"
             ],
             [
              0.3333333333333333,
              "#9c179e"
             ],
             [
              0.4444444444444444,
              "#bd3786"
             ],
             [
              0.5555555555555556,
              "#d8576b"
             ],
             [
              0.6666666666666666,
              "#ed7953"
             ],
             [
              0.7777777777777778,
              "#fb9f3a"
             ],
             [
              0.8888888888888888,
              "#fdca26"
             ],
             [
              1,
              "#f0f921"
             ]
            ],
            "type": "surface"
           }
          ],
          "table": [
           {
            "cells": {
             "fill": {
              "color": "#EBF0F8"
             },
             "line": {
              "color": "white"
             }
            },
            "header": {
             "fill": {
              "color": "#C8D4E3"
             },
             "line": {
              "color": "white"
             }
            },
            "type": "table"
           }
          ]
         },
         "layout": {
          "annotationdefaults": {
           "arrowcolor": "#2a3f5f",
           "arrowhead": 0,
           "arrowwidth": 1
          },
          "autotypenumbers": "strict",
          "coloraxis": {
           "colorbar": {
            "outlinewidth": 0,
            "ticks": ""
           }
          },
          "colorscale": {
           "diverging": [
            [
             0,
             "#8e0152"
            ],
            [
             0.1,
             "#c51b7d"
            ],
            [
             0.2,
             "#de77ae"
            ],
            [
             0.3,
             "#f1b6da"
            ],
            [
             0.4,
             "#fde0ef"
            ],
            [
             0.5,
             "#f7f7f7"
            ],
            [
             0.6,
             "#e6f5d0"
            ],
            [
             0.7,
             "#b8e186"
            ],
            [
             0.8,
             "#7fbc41"
            ],
            [
             0.9,
             "#4d9221"
            ],
            [
             1,
             "#276419"
            ]
           ],
           "sequential": [
            [
             0,
             "#0d0887"
            ],
            [
             0.1111111111111111,
             "#46039f"
            ],
            [
             0.2222222222222222,
             "#7201a8"
            ],
            [
             0.3333333333333333,
             "#9c179e"
            ],
            [
             0.4444444444444444,
             "#bd3786"
            ],
            [
             0.5555555555555556,
             "#d8576b"
            ],
            [
             0.6666666666666666,
             "#ed7953"
            ],
            [
             0.7777777777777778,
             "#fb9f3a"
            ],
            [
             0.8888888888888888,
             "#fdca26"
            ],
            [
             1,
             "#f0f921"
            ]
           ],
           "sequentialminus": [
            [
             0,
             "#0d0887"
            ],
            [
             0.1111111111111111,
             "#46039f"
            ],
            [
             0.2222222222222222,
             "#7201a8"
            ],
            [
             0.3333333333333333,
             "#9c179e"
            ],
            [
             0.4444444444444444,
             "#bd3786"
            ],
            [
             0.5555555555555556,
             "#d8576b"
            ],
            [
             0.6666666666666666,
             "#ed7953"
            ],
            [
             0.7777777777777778,
             "#fb9f3a"
            ],
            [
             0.8888888888888888,
             "#fdca26"
            ],
            [
             1,
             "#f0f921"
            ]
           ]
          },
          "colorway": [
           "#636efa",
           "#EF553B",
           "#00cc96",
           "#ab63fa",
           "#FFA15A",
           "#19d3f3",
           "#FF6692",
           "#B6E880",
           "#FF97FF",
           "#FECB52"
          ],
          "font": {
           "color": "#2a3f5f"
          },
          "geo": {
           "bgcolor": "white",
           "lakecolor": "white",
           "landcolor": "white",
           "showlakes": true,
           "showland": true,
           "subunitcolor": "#C8D4E3"
          },
          "hoverlabel": {
           "align": "left"
          },
          "hovermode": "closest",
          "mapbox": {
           "style": "light"
          },
          "paper_bgcolor": "white",
          "plot_bgcolor": "white",
          "polar": {
           "angularaxis": {
            "gridcolor": "#EBF0F8",
            "linecolor": "#EBF0F8",
            "ticks": ""
           },
           "bgcolor": "white",
           "radialaxis": {
            "gridcolor": "#EBF0F8",
            "linecolor": "#EBF0F8",
            "ticks": ""
           }
          },
          "scene": {
           "xaxis": {
            "backgroundcolor": "white",
            "gridcolor": "#DFE8F3",
            "gridwidth": 2,
            "linecolor": "#EBF0F8",
            "showbackground": true,
            "ticks": "",
            "zerolinecolor": "#EBF0F8"
           },
           "yaxis": {
            "backgroundcolor": "white",
            "gridcolor": "#DFE8F3",
            "gridwidth": 2,
            "linecolor": "#EBF0F8",
            "showbackground": true,
            "ticks": "",
            "zerolinecolor": "#EBF0F8"
           },
           "zaxis": {
            "backgroundcolor": "white",
            "gridcolor": "#DFE8F3",
            "gridwidth": 2,
            "linecolor": "#EBF0F8",
            "showbackground": true,
            "ticks": "",
            "zerolinecolor": "#EBF0F8"
           }
          },
          "shapedefaults": {
           "line": {
            "color": "#2a3f5f"
           }
          },
          "ternary": {
           "aaxis": {
            "gridcolor": "#DFE8F3",
            "linecolor": "#A2B1C6",
            "ticks": ""
           },
           "baxis": {
            "gridcolor": "#DFE8F3",
            "linecolor": "#A2B1C6",
            "ticks": ""
           },
           "bgcolor": "white",
           "caxis": {
            "gridcolor": "#DFE8F3",
            "linecolor": "#A2B1C6",
            "ticks": ""
           }
          },
          "title": {
           "x": 0.05
          },
          "xaxis": {
           "automargin": true,
           "gridcolor": "#EBF0F8",
           "linecolor": "#EBF0F8",
           "ticks": "",
           "title": {
            "standoff": 15
           },
           "zerolinecolor": "#EBF0F8",
           "zerolinewidth": 2
          },
          "yaxis": {
           "automargin": true,
           "gridcolor": "#EBF0F8",
           "linecolor": "#EBF0F8",
           "ticks": "",
           "title": {
            "standoff": 15
           },
           "zerolinecolor": "#EBF0F8",
           "zerolinewidth": 2
          }
         }
        },
        "title": {
         "text": "Monthly pH Time Series (1998-2020) at PAPA"
        },
        "xaxis": {
         "title": {
          "text": "Month"
         }
        },
        "yaxis": {
         "title": {
          "text": "pH (-log[H+])"
         }
        }
       }
      }
     },
     "metadata": {},
     "output_type": "display_data"
    }
   ],
   "source": [
    "# month coordinate in data_pH\n",
    "data_pH['month'] = data_pH['time.month']\n",
    "\n",
    "# Group by year\n",
    "years = pd.DatetimeIndex(data_pH.time.values).year.unique()\n",
    "\n",
    "fig = go.Figure()\n",
    "\n",
    "# Plot one line per year\n",
    "for year in years:\n",
    "    yearly_data = data_pH.sel(time=str(year))\n",
    "    fig.add_trace(go.Scatter(\n",
    "        x=yearly_data['month'],\n",
    "        y=yearly_data.values,\n",
    "        mode='lines',\n",
    "        line=dict(width=1),\n",
    "        name=str(year),\n",
    "        showlegend=True \n",
    "    ))\n",
    "\n",
    "#plot median in black\n",
    "median_pH = data_pH.groupby('month').median('time')\n",
    "\n",
    "fig.add_trace(go.Scatter(\n",
    "    x=median_pH['month'],\n",
    "    y=median_pH.values,\n",
    "    mode='lines',\n",
    "    name='Median',\n",
    "    line=dict(color='black', width=2)\n",
    "))\n",
    "\n",
    "\n",
    "fig.update_layout(\n",
    "    title='Monthly pH Time Series (1998-2020) at PAPA',\n",
    "    xaxis_title='Month',\n",
    "    yaxis_title='pH (-log[H+])',\n",
    "    template='plotly_white'\n",
    ")\n",
    "\n",
    "fig.show()\n"
   ]
  },
  {
   "cell_type": "markdown",
   "id": "040ba039",
   "metadata": {},
   "source": [
    "To have daily pH like the others forcings and to smooth the curve, lets fit the median with a Fourier serie function"
   ]
  },
  {
   "cell_type": "code",
   "execution_count": 105,
   "id": "8a6677ef",
   "metadata": {},
   "outputs": [
    {
     "data": {
      "text/plain": [
       "array([8.064691, 8.062519, 8.077848, 8.088211, 8.105394, 8.110822,\n",
       "       8.102781, 8.097014, 8.09157 , 8.080394, 8.071255, 8.060577],\n",
       "      dtype=float32)"
      ]
     },
     "execution_count": 105,
     "metadata": {},
     "output_type": "execute_result"
    }
   ],
   "source": [
    "median_pH.values"
   ]
  },
  {
   "cell_type": "code",
   "execution_count": 141,
   "id": "c6bc8050",
   "metadata": {},
   "outputs": [],
   "source": [
    "from scipy.optimize import curve_fit\n",
    "\n",
    "# Define mid-month day-of-year positions\n",
    "mid_month_days = np.array([15, 45, 74, 105, 135, 166, 196, 227, 258, 288, 319, 349])\n",
    "\n",
    "x_date = mid_month_days \n",
    "\n",
    "# Median pH values for each month (12 values)\n",
    "y_pH = median_pH.values\n",
    "\n",
    "# Fourier series function \n",
    "def fourier_series(x, a0, a1, b1, a2, b2):\n",
    "    return (a0 +\n",
    "            a1 * np.cos(2 * np.pi * x / 365) + b1 * np.sin(2 * np.pi * x / 365) +\n",
    "            a2 * np.cos(4 * np.pi * x / 365) + b2 * np.sin(4 * np.pi * x / 365))\n",
    "\n",
    "# Fit Fourier model using normalized mid-month positions\n",
    "params, _ = curve_fit(fourier_series, x_date, y_pH)\n",
    "\n",
    "# Generate daily values\n",
    "days = np.arange(365)\n",
    "ph_daily = fourier_series(days, *params)"
   ]
  },
  {
   "cell_type": "code",
   "execution_count": 142,
   "id": "7bf024ed",
   "metadata": {},
   "outputs": [
    {
     "data": {
      "text/plain": [
       "array([8.06115168, 8.06104656, 8.06094862, 8.06085798, 8.06077477,\n",
       "       8.06069911, 8.06063111, 8.06057089, 8.06051856, 8.06047423,\n",
       "       8.060438  , 8.06040998, 8.06039026, 8.06037893, 8.06037609,\n",
       "       8.06038182, 8.06039621, 8.06041932, 8.06045124, 8.06049203,\n",
       "       8.06054175, 8.06060046, 8.06066822, 8.06074507, 8.06083106,\n",
       "       8.06092623, 8.0610306 , 8.06114421, 8.06126709, 8.06139923,\n",
       "       8.06154067, 8.0616914 , 8.06185142, 8.06202072, 8.06219931,\n",
       "       8.06238715, 8.06258422, 8.0627905 , 8.06300594, 8.06323052,\n",
       "       8.06346417, 8.06370685, 8.0639585 , 8.06421906, 8.06448844,\n",
       "       8.06476658, 8.0650534 , 8.06534879, 8.06565267, 8.06596495,\n",
       "       8.0662855 , 8.06661422, 8.06695099, 8.06729569, 8.06764818,\n",
       "       8.06800834, 8.06837603, 8.06875109, 8.06913337, 8.06952273,\n",
       "       8.069919  , 8.07032202, 8.0707316 , 8.07114759, 8.07156979,\n",
       "       8.07199803, 8.07243211, 8.07287184, 8.07331703, 8.07376746,\n",
       "       8.07422294, 8.07468326, 8.07514821, 8.07561756, 8.07609111,\n",
       "       8.07656862, 8.07704987, 8.07753464, 8.07802269, 8.07851379,\n",
       "       8.0790077 , 8.0795042 , 8.08000303, 8.08050396, 8.08100675,\n",
       "       8.08151115, 8.08201691, 8.0825238 , 8.08303156, 8.08353994,\n",
       "       8.08404871, 8.08455761, 8.08506639, 8.08557481, 8.08608262,\n",
       "       8.08658956, 8.08709541, 8.0875999 , 8.0881028 , 8.08860386,\n",
       "       8.08910285, 8.08959951, 8.09009362, 8.09058494, 8.09107323,\n",
       "       8.09155826, 8.09203981, 8.09251765, 8.09299155, 8.09346129,\n",
       "       8.09392666, 8.09438745, 8.09484343, 8.09529441, 8.09574019,\n",
       "       8.09618055, 8.09661532, 8.0970443 , 8.09746729, 8.09788413,\n",
       "       8.09829463, 8.09869862, 8.09909593, 8.0994864 , 8.09986987,\n",
       "       8.10024619, 8.10061521, 8.10097678, 8.10133078, 8.10167707,\n",
       "       8.10201552, 8.10234602, 8.10266844, 8.10298269, 8.10328865,\n",
       "       8.10358622, 8.10387533, 8.10415587, 8.10442778, 8.10469097,\n",
       "       8.10494538, 8.10519095, 8.10542762, 8.10565534, 8.10587406,\n",
       "       8.10608375, 8.10628437, 8.1064759 , 8.10665831, 8.1068316 ,\n",
       "       8.10699574, 8.10715075, 8.10729661, 8.10743334, 8.10756094,\n",
       "       8.10767945, 8.10778888, 8.10788925, 8.10798062, 8.108063  ,\n",
       "       8.10813646, 8.10820104, 8.10825679, 8.10830377, 8.10834204,\n",
       "       8.10837168, 8.10839276, 8.10840535, 8.10840954, 8.10840541,\n",
       "       8.10839305, 8.10837255, 8.10834401, 8.10830753, 8.10826322,\n",
       "       8.10821117, 8.10815151, 8.10808434, 8.10800978, 8.10792794,\n",
       "       8.10783896, 8.10774294, 8.10764003, 8.10753034, 8.107414  ,\n",
       "       8.10729115, 8.10716192, 8.10702644, 8.10688485, 8.10673729,\n",
       "       8.10658389, 8.10642479, 8.10626014, 8.10609006, 8.10591471,\n",
       "       8.10573422, 8.10554873, 8.10535839, 8.10516333, 8.10496369,\n",
       "       8.10475962, 8.10455125, 8.10433872, 8.10412217, 8.10390173,\n",
       "       8.10367754, 8.10344973, 8.10321844, 8.1029838 , 8.10274593,\n",
       "       8.10250497, 8.10226104, 8.10201426, 8.10176476, 8.10151265,\n",
       "       8.10125806, 8.10100109, 8.10074187, 8.1004805 , 8.1002171 ,\n",
       "       8.09995175, 8.09968458, 8.09941568, 8.09914514, 8.09887307,\n",
       "       8.09859955, 8.09832466, 8.09804851, 8.09777117, 8.09749272,\n",
       "       8.09721323, 8.09693279, 8.09665145, 8.0963693 , 8.09608639,\n",
       "       8.09580279, 8.09551855, 8.09523374, 8.09494839, 8.09466257,\n",
       "       8.09437632, 8.09408968, 8.09380269, 8.0935154 , 8.09322783,\n",
       "       8.09294002, 8.092652  , 8.0923638 , 8.09207544, 8.09178694,\n",
       "       8.09149832, 8.0912096 , 8.0909208 , 8.09063192, 8.09034298,\n",
       "       8.09005399, 8.08976494, 8.08947586, 8.08918673, 8.08889757,\n",
       "       8.08860836, 8.08831911, 8.08802982, 8.08774048, 8.08745108,\n",
       "       8.08716162, 8.08687209, 8.08658248, 8.08629278, 8.08600299,\n",
       "       8.08571308, 8.08542306, 8.08513291, 8.08484261, 8.08455217,\n",
       "       8.08426156, 8.08397077, 8.0836798 , 8.08338864, 8.08309727,\n",
       "       8.0828057 , 8.0825139 , 8.08222187, 8.08192961, 8.08163711,\n",
       "       8.08134437, 8.08105138, 8.08075816, 8.08046468, 8.08017097,\n",
       "       8.07987702, 8.07958284, 8.07928844, 8.07899383, 8.07869901,\n",
       "       8.07840401, 8.07810885, 8.07781353, 8.07751809, 8.07722255,\n",
       "       8.07692693, 8.07663127, 8.07633559, 8.07603993, 8.07574434,\n",
       "       8.07544884, 8.07515349, 8.07485833, 8.07456341, 8.07426879,\n",
       "       8.07397452, 8.07368065, 8.07338726, 8.0730944 , 8.07280214,\n",
       "       8.07251057, 8.07221974, 8.07192974, 8.07164065, 8.07135255,\n",
       "       8.07106553, 8.07077968, 8.07049509, 8.07021186, 8.06993008,\n",
       "       8.06964987, 8.06937131, 8.06909453, 8.06881962, 8.06854671,\n",
       "       8.0682759 , 8.06800731, 8.06774108, 8.0674773 , 8.06721612,\n",
       "       8.06695766, 8.06670204, 8.06644939, 8.06619986, 8.06595357,\n",
       "       8.06571066, 8.06547127, 8.06523553, 8.06500359, 8.06477558,\n",
       "       8.06455165, 8.06433194, 8.0641166 , 8.06390577, 8.0636996 ,\n",
       "       8.06349822, 8.06330179, 8.06311045, 8.06292434, 8.06274362,\n",
       "       8.06256842, 8.0623989 , 8.06223519, 8.06207743, 8.06192578,\n",
       "       8.06178036, 8.06164132, 8.0615088 , 8.06138293, 8.06126384])"
      ]
     },
     "execution_count": 142,
     "metadata": {},
     "output_type": "execute_result"
    }
   ],
   "source": [
    "ph_daily"
   ]
  },
  {
   "cell_type": "code",
   "execution_count": 146,
   "id": "48f6dcc1",
   "metadata": {},
   "outputs": [
    {
     "data": {
      "application/vnd.plotly.v1+json": {
       "config": {
        "plotlyServerURL": "https://plot.ly"
       },
       "data": [
        {
         "line": {
          "width": 1
         },
         "mode": "lines",
         "name": "1998",
         "showlegend": true,
         "type": "scatter",
         "x": {
          "bdata": "DwAtAEoAaQCHAKYAxADjAAIBIAE/AV0B",
          "dtype": "i2"
         },
         "y": {
          "bdata": "ZYwBQX99AUFmpwFBd70BQbz8AUHhAAJBa+EBQavHAUHwrgFBdJEBQVWNAUEbaQFB",
          "dtype": "f4"
         }
        },
        {
         "line": {
          "width": 1
         },
         "mode": "lines",
         "name": "1999",
         "showlegend": true,
         "type": "scatter",
         "x": {
          "bdata": "DwAtAEoAaQCHAKYAxADjAAIBIAE/AV0B",
          "dtype": "i2"
         },
         "y": {
          "bdata": "eGcBQRNgAUHMdgFBiJYBQY7hAUE0BgJBctcBQafbAUEHsQFBjYUBQWFqAUG3XAFB",
          "dtype": "f4"
         }
        },
        {
         "line": {
          "width": 1
         },
         "mode": "lines",
         "name": "2000",
         "showlegend": true,
         "type": "scatter",
         "x": {
          "bdata": "DwAtAEoAaQCHAKYAxADjAAIBIAE/AV0B",
          "dtype": "i2"
         },
         "y": {
          "bdata": "VVoBQaBFAUHEcAFBkpUBQVPmAUHO+AFBDNIBQfTLAUF2sgFBvYkBQZBbAUEFPAFB",
          "dtype": "f4"
         }
        },
        {
         "line": {
          "width": 1
         },
         "mode": "lines",
         "name": "2001",
         "showlegend": true,
         "type": "scatter",
         "x": {
          "bdata": "DwAtAEoAaQCHAKYAxADjAAIBIAE/AV0B",
          "dtype": "i2"
         },
         "y": {
          "bdata": "KEsBQe89AUG6cwFBLKABQffRAUHL8wFB2dYBQQXEAUFOpQFBvIwBQWdZAUHuRQFB",
          "dtype": "f4"
         }
        },
        {
         "line": {
          "width": 1
         },
         "mode": "lines",
         "name": "2002",
         "showlegend": true,
         "type": "scatter",
         "x": {
          "bdata": "DwAtAEoAaQCHAKYAxADjAAIBIAE/AV0B",
          "dtype": "i2"
         },
         "y": {
          "bdata": "U1UBQTQ+AUFkYgFBwJcBQeLnAUFA8gFBHMsBQQW9AUFhpgFBrYIBQTlIAUHmSQFB",
          "dtype": "f4"
         }
        },
        {
         "line": {
          "width": 1
         },
         "mode": "lines",
         "name": "2003",
         "showlegend": true,
         "type": "scatter",
         "x": {
          "bdata": "DwAtAEoAaQCHAKYAxADjAAIBIAE/AV0B",
          "dtype": "i2"
         },
         "y": {
          "bdata": "fEUBQZE4AUFkfgFBmagBQXHPAUE/4gFBOawBQUCnAUFglAFBV4IBQWBVAUHeNgFB",
          "dtype": "f4"
         }
        },
        {
         "line": {
          "width": 1
         },
         "mode": "lines",
         "name": "2004",
         "showlegend": true,
         "type": "scatter",
         "x": {
          "bdata": "DwAtAEoAaQCHAKYAxADjAAIBIAE/AV0B",
          "dtype": "i2"
         },
         "y": {
          "bdata": "zz8BQUclAUEhYAFBlIIBQXTIAUFD0QFBoK4BQV+NAUEinAFBXIUBQVxVAUGfMgFB",
          "dtype": "f4"
         }
        },
        {
         "line": {
          "width": 1
         },
         "mode": "lines",
         "name": "2005",
         "showlegend": true,
         "type": "scatter",
         "x": {
          "bdata": "DwAtAEoAaQCHAKYAxADjAAIBIAE/AV0B",
          "dtype": "i2"
         },
         "y": {
          "bdata": "jzMBQSQoAUF9agFBcJEBQbKvAUEpxwFBLbcBQZSYAUHWhgFBwGABQcNCAUH0FQFB",
          "dtype": "f4"
         }
        },
        {
         "line": {
          "width": 1
         },
         "mode": "lines",
         "name": "2006",
         "showlegend": true,
         "type": "scatter",
         "x": {
          "bdata": "DwAtAEoAaQCHAKYAxADjAAIBIAE/AV0B",
          "dtype": "i2"
         },
         "y": {
          "bdata": "j0oBQcIMAUFkWgFBfH0BQaXEAUGJygFBwK0BQeKjAUHQhgFB7mcBQWJZAUHkEgFB",
          "dtype": "f4"
         }
        },
        {
         "line": {
          "width": 1
         },
         "mode": "lines",
         "name": "2007",
         "showlegend": true,
         "type": "scatter",
         "x": {
          "bdata": "DwAtAEoAaQCHAKYAxADjAAIBIAE/AV0B",
          "dtype": "i2"
         },
         "y": {
          "bdata": "sSoBQSQnAUHxTQFBUGkBQRPFAUH9ywFBjbABQfqqAUEvgwFBIFUBQf4iAUFJFQFB",
          "dtype": "f4"
         }
        },
        {
         "line": {
          "width": 1
         },
         "mode": "lines",
         "name": "2008",
         "showlegend": true,
         "type": "scatter",
         "x": {
          "bdata": "DwAtAEoAaQCHAKYAxADjAAIBIAE/AV0B",
          "dtype": "i2"
         },
         "y": {
          "bdata": "IyUBQWIUAUHePgFBtGoBQZKyAUHtxQFBzqkBQTGmAUESdwFB4EgBQbAqAUHLEwFB",
          "dtype": "f4"
         }
        },
        {
         "line": {
          "width": 1
         },
         "mode": "lines",
         "name": "2009",
         "showlegend": true,
         "type": "scatter",
         "x": {
          "bdata": "DwAtAEoAaQCHAKYAxADjAAIBIAE/AV0B",
          "dtype": "i2"
         },
         "y": {
          "bdata": "+QgBQRQAAUEAQgFBFGUBQRW5AUFEyQFB/qQBQcOgAUEwfgFBfksBQSQvAUET4wBB",
          "dtype": "f4"
         }
        },
        {
         "line": {
          "width": 1
         },
         "mode": "lines",
         "name": "2010",
         "showlegend": true,
         "type": "scatter",
         "x": {
          "bdata": "DwAtAEoAaQCHAKYAxADjAAIBIAE/AV0B",
          "dtype": "i2"
         },
         "y": {
          "bdata": "ggcBQY/7AEGjPQFBEW8BQRypAUGovAFBQI4BQaqHAUHPbgFBOjUBQU8UAUEg+ABB",
          "dtype": "f4"
         }
        },
        {
         "line": {
          "width": 1
         },
         "mode": "lines",
         "name": "2011",
         "showlegend": true,
         "type": "scatter",
         "x": {
          "bdata": "DwAtAEoAaQCHAKYAxADjAAIBIAE/AV0B",
          "dtype": "i2"
         },
         "y": {
          "bdata": "j/AAQcv1AEGSIAFBXVYBQfifAUH5qAFBw5IBQRCHAUEIZgFBS0kBQdwjAUHM5ABB",
          "dtype": "f4"
         }
        },
        {
         "line": {
          "width": 1
         },
         "mode": "lines",
         "name": "2012",
         "showlegend": true,
         "type": "scatter",
         "x": {
          "bdata": "DwAtAEoAaQCHAKYAxADjAAIBIAE/AV0B",
          "dtype": "i2"
         },
         "y": {
          "bdata": "GwgBQfjzAEHVKwFBJUoBQVWOAUGYswFBNZkBQal/AUGmPgFBtg4BQbHvAEH59ABB",
          "dtype": "f4"
         }
        },
        {
         "line": {
          "width": 1
         },
         "mode": "lines",
         "name": "2013",
         "showlegend": true,
         "type": "scatter",
         "x": {
          "bdata": "DwAtAEoAaQCHAKYAxADjAAIBIAE/AV0B",
          "dtype": "i2"
         },
         "y": {
          "bdata": "PuYAQZ3qAEHbBAFByj0BQcWRAUEhoAFBT4MBQexzAUG9ZgFBBR4BQaDeAEEExwBB",
          "dtype": "f4"
         }
        },
        {
         "line": {
          "width": 1
         },
         "mode": "lines",
         "name": "2014",
         "showlegend": true,
         "type": "scatter",
         "x": {
          "bdata": "DwAtAEoAaQCHAKYAxADjAAIBIAE/AV0B",
          "dtype": "i2"
         },
         "y": {
          "bdata": "C90AQezjAEFCFwFB7DcBQWyFAUF3pwFBTYEBQZVcAUHCSQFB+ysBQT4CAUGI5ABB",
          "dtype": "f4"
         }
        },
        {
         "line": {
          "width": 1
         },
         "mode": "lines",
         "name": "2015",
         "showlegend": true,
         "type": "scatter",
         "x": {
          "bdata": "DwAtAEoAaQCHAKYAxADjAAIBIAE/AV0B",
          "dtype": "i2"
         },
         "y": {
          "bdata": "B+YAQZLWAEFiCwFBXkEBQbx6AUEcbQFBPE0BQWNNAUFQQgFBiC0BQVoQAUE54wBB",
          "dtype": "f4"
         }
        },
        {
         "line": {
          "width": 1
         },
         "mode": "lines",
         "name": "2016",
         "showlegend": true,
         "type": "scatter",
         "x": {
          "bdata": "DwAtAEoAaQCHAKYAxADjAAIBIAE/AV0B",
          "dtype": "i2"
         },
         "y": {
          "bdata": "wsQAQfPEAEESGAFBTykBQQt5AUH9bwFBQFUBQb5QAUHRNwFBoggBQULgAEEeygBB",
          "dtype": "f4"
         }
        },
        {
         "line": {
          "width": 1
         },
         "mode": "lines",
         "name": "2017",
         "showlegend": true,
         "type": "scatter",
         "x": {
          "bdata": "DwAtAEoAaQCHAKYAxADjAAIBIAE/AV0B",
          "dtype": "i2"
         },
         "y": {
          "bdata": "z7wAQTfGAEH49gBBmh0BQfNkAUGOZQFBVDcBQe0+AUEkLwFBhhABQVPEAEE7iQBB",
          "dtype": "f4"
         }
        },
        {
         "line": {
          "width": 1
         },
         "mode": "lines",
         "name": "2018",
         "showlegend": true,
         "type": "scatter",
         "x": {
          "bdata": "DwAtAEoAaQCHAKYAxADjAAIBIAE/AV0B",
          "dtype": "i2"
         },
         "y": {
          "bdata": "+sgAQVG4AEHz1ABBFh8BQexLAUEkWQFBfz0BQWFHAUGDNgFB3u4AQRjBAEGBtABB",
          "dtype": "f4"
         }
        },
        {
         "line": {
          "width": 1
         },
         "mode": "lines",
         "name": "2019",
         "showlegend": true,
         "type": "scatter",
         "x": {
          "bdata": "DwAtAEoAaQCHAKYAxADjAAIBIAE/AV0B",
          "dtype": "i2"
         },
         "y": {
          "bdata": "FqcAQZapAEFVyQBBkBcBQcdQAUG7WgFBFCsBQRQuAUESKAFBPPkAQQy4AEHEoQBB",
          "dtype": "f4"
         }
        },
        {
         "line": {
          "width": 1
         },
         "mode": "lines",
         "name": "2020",
         "showlegend": true,
         "type": "scatter",
         "x": {
          "bdata": "DwAtAEoAaQCHAKYAxADjAAIBIAE/AV0B",
          "dtype": "i2"
         },
         "y": {
          "bdata": "UsQAQQqcAEFO0QBB9/wAQSgnAUHDVAFByk8BQbw1AUHDGgFBNAYBQVi8AEEtigBB",
          "dtype": "f4"
         }
        },
        {
         "line": {
          "color": "grey",
          "width": 3
         },
         "mode": "lines",
         "name": "Median",
         "type": "scatter",
         "x": {
          "bdata": "DwAtAEoAaQCHAKYAxADjAAIBIAE/AV0B",
          "dtype": "i2"
         },
         "y": {
          "bdata": "+QgBQRQAAUHePgFBUGkBQbKvAUHtxQFB/qQBQV+NAUESdwFBS0kBQdwjAUEg+ABB",
          "dtype": "f4"
         }
        },
        {
         "line": {
          "color": "black",
          "dash": "dash",
          "width": 3
         },
         "mode": "lines",
         "name": "Fourier Interpolated Median",
         "type": "scatter",
         "x": {
          "bdata": "AQACAAMABAAFAAYABwAIAAkACgALAAwADQAOAA8AEAARABIAEwAUABUAFgAXABgAGQAaABsAHAAdAB4AHwAgACEAIgAjACQAJQAmACcAKAApACoAKwAsAC0ALgAvADAAMQAyADMANAA1ADYANwA4ADkAOgA7ADwAPQA+AD8AQABBAEIAQwBEAEUARgBHAEgASQBKAEsATABNAE4ATwBQAFEAUgBTAFQAVQBWAFcAWABZAFoAWwBcAF0AXgBfAGAAYQBiAGMAZABlAGYAZwBoAGkAagBrAGwAbQBuAG8AcABxAHIAcwB0AHUAdgB3AHgAeQB6AHsAfAB9AH4AfwCAAIEAggCDAIQAhQCGAIcAiACJAIoAiwCMAI0AjgCPAJAAkQCSAJMAlACVAJYAlwCYAJkAmgCbAJwAnQCeAJ8AoAChAKIAowCkAKUApgCnAKgAqQCqAKsArACtAK4ArwCwALEAsgCzALQAtQC2ALcAuAC5ALoAuwC8AL0AvgC/AMAAwQDCAMMAxADFAMYAxwDIAMkAygDLAMwAzQDOAM8A0ADRANIA0wDUANUA1gDXANgA2QDaANsA3ADdAN4A3wDgAOEA4gDjAOQA5QDmAOcA6ADpAOoA6wDsAO0A7gDvAPAA8QDyAPMA9AD1APYA9wD4APkA+gD7APwA/QD+AP8AAAEBAQIBAwEEAQUBBgEHAQgBCQEKAQsBDAENAQ4BDwEQAREBEgETARQBFQEWARcBGAEZARoBGwEcAR0BHgEfASABIQEiASMBJAElASYBJwEoASkBKgErASwBLQEuAS8BMAExATIBMwE0ATUBNgE3ATgBOQE6ATsBPAE9AT4BPwFAAUEBQgFDAUQBRQFGAUcBSAFJAUoBSwFMAU0BTgFPAVABUQFSAVMBVAFVAVYBVwFYAVkBWgFbAVwBXQFeAV8BYAFhAWIBYwFkAWUBZgFnAWgBaQFqAWsBbAFtAQ==",
          "dtype": "i2"
         },
         "y": {
          "bdata": "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",
          "dtype": "f8"
         }
        }
       ],
       "layout": {
        "template": {
         "data": {
          "bar": [
           {
            "error_x": {
             "color": "#2a3f5f"
            },
            "error_y": {
             "color": "#2a3f5f"
            },
            "marker": {
             "line": {
              "color": "white",
              "width": 0.5
             },
             "pattern": {
              "fillmode": "overlay",
              "size": 10,
              "solidity": 0.2
             }
            },
            "type": "bar"
           }
          ],
          "barpolar": [
           {
            "marker": {
             "line": {
              "color": "white",
              "width": 0.5
             },
             "pattern": {
              "fillmode": "overlay",
              "size": 10,
              "solidity": 0.2
             }
            },
            "type": "barpolar"
           }
          ],
          "carpet": [
           {
            "aaxis": {
             "endlinecolor": "#2a3f5f",
             "gridcolor": "#C8D4E3",
             "linecolor": "#C8D4E3",
             "minorgridcolor": "#C8D4E3",
             "startlinecolor": "#2a3f5f"
            },
            "baxis": {
             "endlinecolor": "#2a3f5f",
             "gridcolor": "#C8D4E3",
             "linecolor": "#C8D4E3",
             "minorgridcolor": "#C8D4E3",
             "startlinecolor": "#2a3f5f"
            },
            "type": "carpet"
           }
          ],
          "choropleth": [
           {
            "colorbar": {
             "outlinewidth": 0,
             "ticks": ""
            },
            "type": "choropleth"
           }
          ],
          "contour": [
           {
            "colorbar": {
             "outlinewidth": 0,
             "ticks": ""
            },
            "colorscale": [
             [
              0,
              "#0d0887"
             ],
             [
              0.1111111111111111,
              "#46039f"
             ],
             [
              0.2222222222222222,
              "#7201a8"
             ],
             [
              0.3333333333333333,
              "#9c179e"
             ],
             [
              0.4444444444444444,
              "#bd3786"
             ],
             [
              0.5555555555555556,
              "#d8576b"
             ],
             [
              0.6666666666666666,
              "#ed7953"
             ],
             [
              0.7777777777777778,
              "#fb9f3a"
             ],
             [
              0.8888888888888888,
              "#fdca26"
             ],
             [
              1,
              "#f0f921"
             ]
            ],
            "type": "contour"
           }
          ],
          "contourcarpet": [
           {
            "colorbar": {
             "outlinewidth": 0,
             "ticks": ""
            },
            "type": "contourcarpet"
           }
          ],
          "heatmap": [
           {
            "colorbar": {
             "outlinewidth": 0,
             "ticks": ""
            },
            "colorscale": [
             [
              0,
              "#0d0887"
             ],
             [
              0.1111111111111111,
              "#46039f"
             ],
             [
              0.2222222222222222,
              "#7201a8"
             ],
             [
              0.3333333333333333,
              "#9c179e"
             ],
             [
              0.4444444444444444,
              "#bd3786"
             ],
             [
              0.5555555555555556,
              "#d8576b"
             ],
             [
              0.6666666666666666,
              "#ed7953"
             ],
             [
              0.7777777777777778,
              "#fb9f3a"
             ],
             [
              0.8888888888888888,
              "#fdca26"
             ],
             [
              1,
              "#f0f921"
             ]
            ],
            "type": "heatmap"
           }
          ],
          "histogram": [
           {
            "marker": {
             "pattern": {
              "fillmode": "overlay",
              "size": 10,
              "solidity": 0.2
             }
            },
            "type": "histogram"
           }
          ],
          "histogram2d": [
           {
            "colorbar": {
             "outlinewidth": 0,
             "ticks": ""
            },
            "colorscale": [
             [
              0,
              "#0d0887"
             ],
             [
              0.1111111111111111,
              "#46039f"
             ],
             [
              0.2222222222222222,
              "#7201a8"
             ],
             [
              0.3333333333333333,
              "#9c179e"
             ],
             [
              0.4444444444444444,
              "#bd3786"
             ],
             [
              0.5555555555555556,
              "#d8576b"
             ],
             [
              0.6666666666666666,
              "#ed7953"
             ],
             [
              0.7777777777777778,
              "#fb9f3a"
             ],
             [
              0.8888888888888888,
              "#fdca26"
             ],
             [
              1,
              "#f0f921"
             ]
            ],
            "type": "histogram2d"
           }
          ],
          "histogram2dcontour": [
           {
            "colorbar": {
             "outlinewidth": 0,
             "ticks": ""
            },
            "colorscale": [
             [
              0,
              "#0d0887"
             ],
             [
              0.1111111111111111,
              "#46039f"
             ],
             [
              0.2222222222222222,
              "#7201a8"
             ],
             [
              0.3333333333333333,
              "#9c179e"
             ],
             [
              0.4444444444444444,
              "#bd3786"
             ],
             [
              0.5555555555555556,
              "#d8576b"
             ],
             [
              0.6666666666666666,
              "#ed7953"
             ],
             [
              0.7777777777777778,
              "#fb9f3a"
             ],
             [
              0.8888888888888888,
              "#fdca26"
             ],
             [
              1,
              "#f0f921"
             ]
            ],
            "type": "histogram2dcontour"
           }
          ],
          "mesh3d": [
           {
            "colorbar": {
             "outlinewidth": 0,
             "ticks": ""
            },
            "type": "mesh3d"
           }
          ],
          "parcoords": [
           {
            "line": {
             "colorbar": {
              "outlinewidth": 0,
              "ticks": ""
             }
            },
            "type": "parcoords"
           }
          ],
          "pie": [
           {
            "automargin": true,
            "type": "pie"
           }
          ],
          "scatter": [
           {
            "fillpattern": {
             "fillmode": "overlay",
             "size": 10,
             "solidity": 0.2
            },
            "type": "scatter"
           }
          ],
          "scatter3d": [
           {
            "line": {
             "colorbar": {
              "outlinewidth": 0,
              "ticks": ""
             }
            },
            "marker": {
             "colorbar": {
              "outlinewidth": 0,
              "ticks": ""
             }
            },
            "type": "scatter3d"
           }
          ],
          "scattercarpet": [
           {
            "marker": {
             "colorbar": {
              "outlinewidth": 0,
              "ticks": ""
             }
            },
            "type": "scattercarpet"
           }
          ],
          "scattergeo": [
           {
            "marker": {
             "colorbar": {
              "outlinewidth": 0,
              "ticks": ""
             }
            },
            "type": "scattergeo"
           }
          ],
          "scattergl": [
           {
            "marker": {
             "colorbar": {
              "outlinewidth": 0,
              "ticks": ""
             }
            },
            "type": "scattergl"
           }
          ],
          "scattermap": [
           {
            "marker": {
             "colorbar": {
              "outlinewidth": 0,
              "ticks": ""
             }
            },
            "type": "scattermap"
           }
          ],
          "scattermapbox": [
           {
            "marker": {
             "colorbar": {
              "outlinewidth": 0,
              "ticks": ""
             }
            },
            "type": "scattermapbox"
           }
          ],
          "scatterpolar": [
           {
            "marker": {
             "colorbar": {
              "outlinewidth": 0,
              "ticks": ""
             }
            },
            "type": "scatterpolar"
           }
          ],
          "scatterpolargl": [
           {
            "marker": {
             "colorbar": {
              "outlinewidth": 0,
              "ticks": ""
             }
            },
            "type": "scatterpolargl"
           }
          ],
          "scatterternary": [
           {
            "marker": {
             "colorbar": {
              "outlinewidth": 0,
              "ticks": ""
             }
            },
            "type": "scatterternary"
           }
          ],
          "surface": [
           {
            "colorbar": {
             "outlinewidth": 0,
             "ticks": ""
            },
            "colorscale": [
             [
              0,
              "#0d0887"
             ],
             [
              0.1111111111111111,
              "#46039f"
             ],
             [
              0.2222222222222222,
              "#7201a8"
             ],
             [
              0.3333333333333333,
              "#9c179e"
             ],
             [
              0.4444444444444444,
              "#bd3786"
             ],
             [
              0.5555555555555556,
              "#d8576b"
             ],
             [
              0.6666666666666666,
              "#ed7953"
             ],
             [
              0.7777777777777778,
              "#fb9f3a"
             ],
             [
              0.8888888888888888,
              "#fdca26"
             ],
             [
              1,
              "#f0f921"
             ]
            ],
            "type": "surface"
           }
          ],
          "table": [
           {
            "cells": {
             "fill": {
              "color": "#EBF0F8"
             },
             "line": {
              "color": "white"
             }
            },
            "header": {
             "fill": {
              "color": "#C8D4E3"
             },
             "line": {
              "color": "white"
             }
            },
            "type": "table"
           }
          ]
         },
         "layout": {
          "annotationdefaults": {
           "arrowcolor": "#2a3f5f",
           "arrowhead": 0,
           "arrowwidth": 1
          },
          "autotypenumbers": "strict",
          "coloraxis": {
           "colorbar": {
            "outlinewidth": 0,
            "ticks": ""
           }
          },
          "colorscale": {
           "diverging": [
            [
             0,
             "#8e0152"
            ],
            [
             0.1,
             "#c51b7d"
            ],
            [
             0.2,
             "#de77ae"
            ],
            [
             0.3,
             "#f1b6da"
            ],
            [
             0.4,
             "#fde0ef"
            ],
            [
             0.5,
             "#f7f7f7"
            ],
            [
             0.6,
             "#e6f5d0"
            ],
            [
             0.7,
             "#b8e186"
            ],
            [
             0.8,
             "#7fbc41"
            ],
            [
             0.9,
             "#4d9221"
            ],
            [
             1,
             "#276419"
            ]
           ],
           "sequential": [
            [
             0,
             "#0d0887"
            ],
            [
             0.1111111111111111,
             "#46039f"
            ],
            [
             0.2222222222222222,
             "#7201a8"
            ],
            [
             0.3333333333333333,
             "#9c179e"
            ],
            [
             0.4444444444444444,
             "#bd3786"
            ],
            [
             0.5555555555555556,
             "#d8576b"
            ],
            [
             0.6666666666666666,
             "#ed7953"
            ],
            [
             0.7777777777777778,
             "#fb9f3a"
            ],
            [
             0.8888888888888888,
             "#fdca26"
            ],
            [
             1,
             "#f0f921"
            ]
           ],
           "sequentialminus": [
            [
             0,
             "#0d0887"
            ],
            [
             0.1111111111111111,
             "#46039f"
            ],
            [
             0.2222222222222222,
             "#7201a8"
            ],
            [
             0.3333333333333333,
             "#9c179e"
            ],
            [
             0.4444444444444444,
             "#bd3786"
            ],
            [
             0.5555555555555556,
             "#d8576b"
            ],
            [
             0.6666666666666666,
             "#ed7953"
            ],
            [
             0.7777777777777778,
             "#fb9f3a"
            ],
            [
             0.8888888888888888,
             "#fdca26"
            ],
            [
             1,
             "#f0f921"
            ]
           ]
          },
          "colorway": [
           "#636efa",
           "#EF553B",
           "#00cc96",
           "#ab63fa",
           "#FFA15A",
           "#19d3f3",
           "#FF6692",
           "#B6E880",
           "#FF97FF",
           "#FECB52"
          ],
          "font": {
           "color": "#2a3f5f"
          },
          "geo": {
           "bgcolor": "white",
           "lakecolor": "white",
           "landcolor": "white",
           "showlakes": true,
           "showland": true,
           "subunitcolor": "#C8D4E3"
          },
          "hoverlabel": {
           "align": "left"
          },
          "hovermode": "closest",
          "mapbox": {
           "style": "light"
          },
          "paper_bgcolor": "white",
          "plot_bgcolor": "white",
          "polar": {
           "angularaxis": {
            "gridcolor": "#EBF0F8",
            "linecolor": "#EBF0F8",
            "ticks": ""
           },
           "bgcolor": "white",
           "radialaxis": {
            "gridcolor": "#EBF0F8",
            "linecolor": "#EBF0F8",
            "ticks": ""
           }
          },
          "scene": {
           "xaxis": {
            "backgroundcolor": "white",
            "gridcolor": "#DFE8F3",
            "gridwidth": 2,
            "linecolor": "#EBF0F8",
            "showbackground": true,
            "ticks": "",
            "zerolinecolor": "#EBF0F8"
           },
           "yaxis": {
            "backgroundcolor": "white",
            "gridcolor": "#DFE8F3",
            "gridwidth": 2,
            "linecolor": "#EBF0F8",
            "showbackground": true,
            "ticks": "",
            "zerolinecolor": "#EBF0F8"
           },
           "zaxis": {
            "backgroundcolor": "white",
            "gridcolor": "#DFE8F3",
            "gridwidth": 2,
            "linecolor": "#EBF0F8",
            "showbackground": true,
            "ticks": "",
            "zerolinecolor": "#EBF0F8"
           }
          },
          "shapedefaults": {
           "line": {
            "color": "#2a3f5f"
           }
          },
          "ternary": {
           "aaxis": {
            "gridcolor": "#DFE8F3",
            "linecolor": "#A2B1C6",
            "ticks": ""
           },
           "baxis": {
            "gridcolor": "#DFE8F3",
            "linecolor": "#A2B1C6",
            "ticks": ""
           },
           "bgcolor": "white",
           "caxis": {
            "gridcolor": "#DFE8F3",
            "linecolor": "#A2B1C6",
            "ticks": ""
           }
          },
          "title": {
           "x": 0.05
          },
          "xaxis": {
           "automargin": true,
           "gridcolor": "#EBF0F8",
           "linecolor": "#EBF0F8",
           "ticks": "",
           "title": {
            "standoff": 15
           },
           "zerolinecolor": "#EBF0F8",
           "zerolinewidth": 2
          },
          "yaxis": {
           "automargin": true,
           "gridcolor": "#EBF0F8",
           "linecolor": "#EBF0F8",
           "ticks": "",
           "title": {
            "standoff": 15
           },
           "zerolinecolor": "#EBF0F8",
           "zerolinewidth": 2
          }
         }
        },
        "title": {
         "text": "Monthly pH Time Series (1998-2020) at PAPA"
        },
        "xaxis": {
         "tickmode": "array",
         "ticktext": [
          "Jan",
          "Feb",
          "Mar",
          "Apr",
          "May",
          "Jun",
          "Jul",
          "Aug",
          "Sep",
          "Oct",
          "Nov",
          "Dec"
         ],
         "tickvals": {
          "bdata": "DwAtAEoAaQCHAKYAxADjAAIBIAE/AV0B",
          "dtype": "i2"
         },
         "title": {
          "text": "Date"
         }
        },
        "yaxis": {
         "title": {
          "text": "pH (-log[H+])"
         }
        }
       }
      }
     },
     "metadata": {},
     "output_type": "display_data"
    }
   ],
   "source": [
    "# Define mid-month day-of-year positions for plotting\n",
    "mid_month_days = np.array([15, 45, 74, 105, 135, 166, 196, 227, 258, 288, 319, 349])  # midpoints for Jan?Dec\n",
    "\n",
    "fig = go.Figure()\n",
    "\n",
    "# Plot one line (as dots) per year at mid-month positions\n",
    "for year in years:\n",
    "    yearly_data = data_pH.sel(time=str(year))\n",
    "    fig.add_trace(go.Scatter(\n",
    "        x=mid_month_days,\n",
    "        y=yearly_data.values,\n",
    "        #mode='markers',  # dots only\n",
    "        mode='lines',\n",
    "        #marker=dict(size=4),\n",
    "        line=dict(width=1),\n",
    "        name=str(year),\n",
    "        showlegend=True\n",
    "    ))\n",
    "\n",
    "# Plot median in black dots\n",
    "median_pH = data_pH.groupby('month').median('time')\n",
    "fig.add_trace(go.Scatter(\n",
    "    x=mid_month_days,\n",
    "    y=median_pH.values,\n",
    "    #mode='markers',\n",
    "    mode='lines',\n",
    "    line=dict(color='grey', width=3),\n",
    "    name='Median'\n",
    "))\n",
    "\n",
    "# Add the interpolated Fourier daily curve\n",
    "fig.add_trace(go.Scatter(\n",
    "    x=np.arange(1, 366),  # day-of-year\n",
    "    y=ph_daily,\n",
    "    mode='lines',\n",
    "    name='Fourier Interpolated Median',\n",
    "    line=dict(color='black', width=3, dash='dash')\n",
    "))\n",
    "\n",
    "# Update layout\n",
    "fig.update_layout(\n",
    "    title='Monthly pH Time Series (1998-2020) at PAPA',\n",
    "    xaxis_title='Date',\n",
    "    yaxis_title='pH (-log[H+])',\n",
    "    template='plotly_white',\n",
    "    xaxis=dict(\n",
    "        tickmode='array',\n",
    "        tickvals=mid_month_days,\n",
    "        ticktext=['Jan', 'Feb', 'Mar', 'Apr', 'May', 'Jun',\n",
    "                  'Jul', 'Aug', 'Sep', 'Oct', 'Nov', 'Dec']\n",
    "    )\n",
    ")\n",
    "\n",
    "fig.show()\n"
   ]
  },
  {
   "cell_type": "code",
   "execution_count": null,
   "id": "83c97243",
   "metadata": {},
   "outputs": [],
   "source": [
    "# # Export interpolated daily values of  pH\n",
    "# # Create a coordinate for the day of year (1 to 365)\n",
    "# days = np.arange(1, 366)  # day 1 to 365\n",
    "\n",
    "# # Create xarray DataArray\n",
    "# ph_daily_da = xr.DataArray(\n",
    "#     data=ph_daily,\n",
    "#     coords={'days': days},\n",
    "#     dims=['days'],\n",
    "#     name='pH'\n",
    "# )\n",
    "\n",
    "# ph_daily_da.attrs['long_name'] = 'Interpolated daily pH'\n",
    "\n",
    "# # Export to NetCDF\n",
    "# ph_daily_da.to_netcdf('/data/rd_exchange/sroyer/SEAPOPYM/daily_acidity_papa_1998_2020.nc')\n"
   ]
  }
 ],
 "metadata": {
  "kernelspec": {
   "display_name": "seapopym_data",
   "language": "python",
   "name": "python3"
  },
  "language_info": {
   "codemirror_mode": {
    "name": "ipython",
    "version": 3
   },
   "file_extension": ".py",
   "mimetype": "text/x-python",
   "name": "python",
   "nbconvert_exporter": "python",
   "pygments_lexer": "ipython3",
   "version": "3.13.2"
  }
 },
 "nbformat": 4,
 "nbformat_minor": 5
}
